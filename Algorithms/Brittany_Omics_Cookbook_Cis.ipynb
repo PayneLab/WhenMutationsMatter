{
 "cells": [
  {
   "cell_type": "markdown",
   "metadata": {},
   "source": [
    "## Library Imports"
   ]
  },
  {
   "cell_type": "markdown",
   "metadata": {},
   "source": [
    "Run this cell to import the necessary libraries"
   ]
  },
  {
   "cell_type": "code",
   "execution_count": 1,
   "metadata": {},
   "outputs": [
    {
     "name": "stdout",
     "output_type": "stream",
     "text": [
      "WARNING: This data is under a publication embargo until July 1, 2019.\n",
      "CPTAC is a community resource project and data are made available\n",
      "rapidly after generation for community research use. The embargo\n",
      "allows exploring and utilizing the data, but analysis may not be\n",
      "published until July 1, 2019. Please see\n",
      "https://proteomics.cancer.gov/data-portal/about/data-use-agreement or\n",
      "enter cptac.embargo() to open the webpage for more details.\n"
     ]
    }
   ],
   "source": [
    "import pandas as pd\n",
    "import numpy as np\n",
    "import scipy.stats\n",
    "import collections\n",
    "import re\n",
    "#import gseapy as gp\n",
    "#from gseapy.plot import barplot, dotplot\n",
    "\n",
    "import cptac\n",
    "en = cptac.Endometrial()\n",
    "import cptac.algorithms as al"
   ]
  },
  {
   "cell_type": "markdown",
   "metadata": {},
   "source": [
    "## Get frequently mutated genes list"
   ]
  },
  {
   "cell_type": "markdown",
   "metadata": {},
   "source": [
    "Enter the type of cancer and the cutoff for mutation frequency that you would like to use."
   ]
  },
  {
   "cell_type": "code",
   "execution_count": null,
   "metadata": {},
   "outputs": [],
   "source": [
    "cancer_type = \"Endometrial\"\n",
    "desired_cutoff = .15\n",
    "\n",
    "fm = al.get_frequently_mutated(cancer_type, cutoff=desired_cutoff)\n",
    "print(fm)"
   ]
  },
  {
   "cell_type": "markdown",
   "metadata": {},
   "source": [
    "## Select a gene from the list of frequently mutated genes above"
   ]
  },
  {
   "cell_type": "markdown",
   "metadata": {},
   "source": [
    "Set the gene to which of the above frequently mutated genes you want to examine. For example, if you want to look at the gene PTEN, change the cell below to say \"gene = 'PTEN'\""
   ]
  },
  {
   "cell_type": "code",
   "execution_count": 77,
   "metadata": {},
   "outputs": [],
   "source": [
    "gene = 'PTEN'"
   ]
  },
  {
   "cell_type": "markdown",
   "metadata": {},
   "source": [
    "## Select desired omics comparison"
   ]
  },
  {
   "cell_type": "markdown",
   "metadata": {},
   "source": [
    "Select which type of omics you want to compare. If you want to compare proteomics data for the interacting proteins, uncomment the \"omics = en.get_proteomics()\" line, etc."
   ]
  },
  {
   "cell_type": "code",
   "execution_count": 78,
   "metadata": {},
   "outputs": [],
   "source": [
    "omics = en.get_proteomics()\n",
    "#omics = en.get_transcriptomics()\n",
    "#omics = en.get_phosphoproteomics()\n",
    "#omics = en.get_acetylproteomics()"
   ]
  },
  {
   "cell_type": "markdown",
   "metadata": {},
   "source": [
    "## cis comparison "
   ]
  },
  {
   "cell_type": "markdown",
   "metadata": {},
   "source": [
    "Determine if the mutated gene vs the wildtype had a significant effect on the mean of the omics data."
   ]
  },
  {
   "cell_type": "code",
   "execution_count": 82,
   "metadata": {},
   "outputs": [
    {
     "name": "stdout",
     "output_type": "stream",
     "text": [
      "Doing t-test comparison\n",
      "\n",
      "        Comparison   P_Value\n",
      "0  PTEN_proteomics  0.018255\n"
     ]
    }
   ],
   "source": [
    "'''Create dataframe in order to do comparisons with wrap_ttest'''\n",
    "omics_and_mutations = en.append_mutations_to_omics(mutation_genes=[gene], \n",
    "                            omics_df_name = omics.name, omics_genes=gene)\n",
    "tumors = omics_and_mutations.loc[omics_and_mutations['Sample_Status'] == 'Tumor']\n",
    "\n",
    "'''Create the binary valued column needed to do the comparison'''\n",
    "label = tumors[[gene+'_Mutation_Status']].rename(columns={gene+\"_Mutation_Status\": \"Label\"})\n",
    "filter_mutations = label.where(lambda x: x == 'Wildtype_Tumor') #na used when false\n",
    "binary_mutations = filter_mutations.fillna('Mutated')\n",
    "\n",
    "'''Format the dataframe correctly for t-test(just omics and label columns)'''\n",
    "columns_to_drop = [gene+\"_Mutation\", gene+\"_Location\", gene+\"_Mutation_Status\", \"Sample_Status\"]\n",
    "omics_df = tumors.drop(columns_to_drop, axis = 1)\n",
    "labeled_omics = omics_df.join(binary_mutations)\n",
    "\n",
    "'''Make list of column omics to be compared using t-test'''\n",
    "omics_col_list = list(omics_df.columns) #just omics column name (without Label column)\n",
    "\n",
    "'''t-test comparing means of mutated vs wildtype effect on cis omics'''\n",
    "print(\"Doing t-test comparison\\n\")\n",
    "significant_pval_results = al.wrap_ttest(labeled_omics, 'Label', omics_col_list)\n",
    "print(significant_pval_results)"
   ]
  },
  {
   "cell_type": "markdown",
   "metadata": {},
   "source": [
    "## Generate interacting proteins and test omics comparisons"
   ]
  },
  {
   "cell_type": "markdown",
   "metadata": {},
   "source": [
    "Simply run this cell after following the instructions above to see the results of the comparisons"
   ]
  },
  {
   "cell_type": "code",
   "execution_count": null,
   "metadata": {},
   "outputs": [],
   "source": [
    "try:\n",
    "    '''Prevent slice degrees of freedom warning'''\n",
    "    import warnings\n",
    "    warnings.filterwarnings(\"ignore\")\n",
    "\n",
    "    print(\"\\nGene: \", gene)\n",
    "\n",
    "    '''Use get interacting proteins method to generate list of interacting proteins'''\n",
    "    interacting_proteins = al.get_interacting_proteins(gene)\n",
    "\n",
    "    print(\"Generating interacting protein list\")\n",
    "    interacting_proteins_in_omics_df = []\n",
    "\n",
    "    '''Only do comparisons on proteins in the omics dataframe'''\n",
    "    for ip in interacting_proteins:\n",
    "        if omics.name == 'phosphoproteomics' or omics.name == 'acetylproteomics':\n",
    "            col_regex = ip + \"-.*\" # Build a regex to get all columns that match the gene\n",
    "        else:\n",
    "            col_regex = '^{}$'.format(ip)\n",
    "\n",
    "        selected = omics.filter(regex=col_regex)\n",
    "\n",
    "        if len(selected.columns) > 0:\n",
    "            interacting_proteins_in_omics_df.append(ip)\n",
    "\n",
    "    '''Ceate dataframe in order to do comparisons with wrap_ttest'''\n",
    "    protdf = en.append_mutations_to_omics(mutation_genes=[gene], omics_df_name=omics.name, omics_genes=interacting_proteins_in_omics_df)\n",
    "    protdf = protdf.loc[protdf['Sample_Status'] == 'Tumor']\n",
    "\n",
    "    '''Create the binary valued column needed to do the comparison'''\n",
    "    for ind, row in protdf.iterrows():\n",
    "        if row[gene+\"_Mutation_Status\"] != 'Wildtype_Tumor':\n",
    "            protdf.at[ind,'Label'] = 'Mutated'\n",
    "        else:\n",
    "            protdf.at[ind,'Label'] = 'Wildtype'\n",
    "\n",
    "    '''Format the datafram correctly'''\n",
    "    protdf = protdf.drop(gene+\"_Mutation\",axis=1)\n",
    "    protdf = protdf.drop(gene+\"_Location\",axis=1)\n",
    "    protdf = protdf.drop(gene+\"_Mutation_Status\", axis=1)\n",
    "    protdf = protdf.drop(\"Sample_Status\",axis=1)\n",
    "    print(protdf.columns)\n",
    "\n",
    "    '''Make list of columns to be compared using t-tests'''\n",
    "    col_list = list(protdf.columns)\n",
    "    col_list.remove('Label')\n",
    "\n",
    "    print(\"Doing t-test comparisons\\n\")\n",
    "\n",
    "    '''Call wrap_ttest, pass in formatted dataframe'''\n",
    "    wrap_results = al.wrap_ttest(protdf, 'Label', col_list)\n",
    "\n",
    "    '''Print results, if anything significant was found'''\n",
    "    if wrap_results is not None:\n",
    "            print(wrap_results)\n",
    "            print(\"\\n\\n\")\n",
    "\n",
    "except:\n",
    "    print(\"Error in Comparison\")"
   ]
  },
  {
   "cell_type": "markdown",
   "metadata": {},
   "source": [
    "## Look at effect on all proteins"
   ]
  },
  {
   "cell_type": "markdown",
   "metadata": {},
   "source": [
    "This will look at the effect of the selected gene mutation on all proteins, and report any significant results."
   ]
  },
  {
   "cell_type": "code",
   "execution_count": null,
   "metadata": {},
   "outputs": [],
   "source": [
    "try:\n",
    "    print(\"\\nGene: \", gene)\n",
    "\n",
    "    '''Use get interacting proteins method to generate list of interacting proteins'''\n",
    "    proteomics = en.get_proteomics()\n",
    "    proteins = proteomics.columns\n",
    "    #proteins = proteins[:250]\n",
    "\n",
    "    print(\"Generating protein list\")\n",
    "    interacting_proteins_in_omics_df = []\n",
    "\n",
    "    '''Only do comparisons on proteins in the omics dataframe'''\n",
    "    for ip in proteins:\n",
    "        if omics.name == 'phosphoproteomics' or omics.name == 'acetylproteomics':\n",
    "            col_regex = \"^{}-.*$\".format(ip) # Build a regex to get all columns that match the gene\n",
    "        else:\n",
    "            col_regex = '^{}$'.format(ip)\n",
    "\n",
    "        selected = omics.filter(regex=col_regex)\n",
    "\n",
    "        if len(selected.columns) > 0:\n",
    "            interacting_proteins_in_omics_df.append(ip)\n",
    "\n",
    "    '''Create dataframe in order to do comparisons with wrap_ttest'''\n",
    "    protdf = en.append_mutations_to_omics(mutation_genes=[gene], omics_df_name=omics.name, omics_genes=interacting_proteins_in_omics_df)\n",
    "    protdf = protdf.loc[protdf['Sample_Status'] == 'Tumor']\n",
    "    print(protdf.columns)\n",
    "    '''Create the binary valued column needed to do the comparison'''\n",
    "    for ind, row in protdf.iterrows():\n",
    "        if row[gene+\"_Mutation_Status\"] != 'Wildtype_Tumor':\n",
    "            protdf.at[ind,'Label'] = 'Mutated'\n",
    "        else:\n",
    "            protdf.at[ind,'Label'] = 'Wildtype'\n",
    "\n",
    "    '''Format the datafram correctly'''\n",
    "    protdf = protdf.drop(gene+\"_Mutation\",axis=1)\n",
    "    protdf = protdf.drop(gene+\"_Location\",axis=1)\n",
    "    protdf = protdf.drop(gene+\"_Mutation_Status\", axis=1)\n",
    "    protdf = protdf.drop(\"Sample_Status\",axis=1)\n",
    "    print(protdf.columns)\n",
    "    \n",
    "    '''Make list of columns to be compared using t-tests'''\n",
    "    col_list = list(protdf.columns)\n",
    "    col_list.remove('Label')\n",
    "\n",
    "    print(\"Doing t-test comparisons\\n\")\n",
    "    \n",
    "    '''Call wrap_ttest, pass in formatted dataframe'''\n",
    "    wrap_results = al.wrap_ttest(protdf, 'Label', col_list)\n",
    "\n",
    "    '''Print results, if anything significant was found'''\n",
    "    if wrap_results is not None:\n",
    "            print(wrap_results)\n",
    "            print(\"\\n\\n\")\n",
    "\n",
    "except Exception as e:\n",
    "    print(\"Error in Comparison\")\n",
    "    print(e)"
   ]
  },
  {
   "cell_type": "markdown",
   "metadata": {},
   "source": [
    "## Gene Set Enrichment on Significant Omics Genes"
   ]
  },
  {
   "cell_type": "code",
   "execution_count": null,
   "metadata": {},
   "outputs": [],
   "source": [
    "if len(wrap_results) > 0:\n",
    "    '''Get a list of the omics genes deemed significant by wrap_ttest'''\n",
    "    all_gene_list = list(wrap_results['Comparison'])\n",
    "    gene_name_list = []\n",
    "    for agl in all_gene_list:\n",
    "        split = agl.split(\"_\")\n",
    "        gene_name_list.append(split[0])\n",
    "    \n",
    "    '''Use the gseapy library to run a gene set enrichment analysis on the resulting list of genes'''\n",
    "    enrichment = gp.enrichr(gene_list = gene_name_list, description='ARID1A_Impacted', gene_sets='KEGG_2016', outdir='test/enrichr_kegg',cutoff=.5)\n",
    "    print(enrichment.res2d)\n",
    "    \n",
    "else:\n",
    "    print(\"No significant comparisons found.\")"
   ]
  },
  {
   "cell_type": "markdown",
   "metadata": {},
   "source": [
    "## Plot Gene Set Enrichment Results"
   ]
  },
  {
   "cell_type": "code",
   "execution_count": null,
   "metadata": {},
   "outputs": [],
   "source": [
    "'''Plot the significant results of the gene set enrichment analysis'''\n",
    "if len(wrap_results) > 0:\n",
    "    barplot(enrichment.res2d, title=gene+ \" Impacted Protein Enrichment Analysis\")\n",
    "else:\n",
    "    print(\"No significant comparisons found.\")"
   ]
  },
  {
   "cell_type": "code",
   "execution_count": null,
   "metadata": {},
   "outputs": [],
   "source": []
  }
 ],
 "metadata": {
  "kernelspec": {
   "display_name": "Python 3",
   "language": "python",
   "name": "python3"
  },
  "language_info": {
   "codemirror_mode": {
    "name": "ipython",
    "version": 3
   },
   "file_extension": ".py",
   "mimetype": "text/x-python",
   "name": "python",
   "nbconvert_exporter": "python",
   "pygments_lexer": "ipython3",
   "version": "3.7.3"
  }
 },
 "nbformat": 4,
 "nbformat_minor": 2
}
