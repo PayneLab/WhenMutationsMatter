{
 "cells": [
  {
   "cell_type": "markdown",
   "metadata": {},
   "source": [
    "## Step 1: Library Imports"
   ]
  },
  {
   "cell_type": "markdown",
   "metadata": {},
   "source": [
    "Run this cell to import the necessary libraries"
   ]
  },
  {
   "cell_type": "code",
   "execution_count": 90,
   "metadata": {},
   "outputs": [],
   "source": [
    "import pandas as pd\n",
    "import numpy as np\n",
    "import seaborn as sns\n",
    "import matplotlib.pyplot as plt\n",
    "import scipy.stats\n",
    "import collections\n",
    "import re\n",
    "import gseapy as gp\n",
    "from gseapy.plot import barplot, dotplot\n",
    "\n",
    "import cptac\n",
    "import cptac.algorithms as al"
   ]
  },
  {
   "cell_type": "markdown",
   "metadata": {},
   "source": [
    "## Step 2: Find the frequently mutated genes "
   ]
  },
  {
   "cell_type": "markdown",
   "metadata": {},
   "source": [
    "Enter the type of cancer and the cutoff for mutation frequency that you would like to use."
   ]
  },
  {
   "cell_type": "code",
   "execution_count": 91,
   "metadata": {},
   "outputs": [
    {
     "name": "stdout",
     "output_type": "stream",
     "text": [
      "WARNING: This data is under a publication embargo until July 1, 2019.\n",
      "CPTAC is a community resource project and data are made available\n",
      "rapidly after generation for community research use. The embargo\n",
      "allows exploring and utilizing the data, but analysis may not be\n",
      "published until July 1, 2019. Please see\n",
      "https://proteomics.cancer.gov/data-portal/about/data-use-agreement or\n",
      "enter cptac.embargo() to open the webpage for more details.\n",
      "     Gene  Unique_Samples_Mut  Missence_Mut  Truncation_Mut\n",
      "0  ARID1A            0.452632      0.136842        0.400000\n",
      "1    CTCF            0.284211      0.094737        0.242105\n",
      "2  CTNNB1            0.305263      0.305263        0.000000\n",
      "3   KMT2B            0.242105      0.115789        0.126316\n",
      "4    KRAS            0.326316      0.326316        0.000000\n",
      "5  PIK3CA            0.494737      0.484211        0.010526\n",
      "6  PIK3R1            0.389474      0.231579        0.189474\n",
      "7    PTEN            0.789474      0.463158        0.568421\n",
      "8    TP53            0.221053      0.157895        0.073684\n",
      "9   ZFHX3            0.221053      0.084211        0.168421\n"
     ]
    }
   ],
   "source": [
    "cancer_object = cptac.Endometrial()\n",
    "desired_cutoff = .2\n",
    "\n",
    "fm = al.get_frequently_mutated(cancer_object, cutoff=desired_cutoff)\n",
    "print(fm)"
   ]
  },
  {
   "cell_type": "markdown",
   "metadata": {},
   "source": [
    "## Step 3: Select a gene from the list of frequently mutated genes above"
   ]
  },
  {
   "cell_type": "markdown",
   "metadata": {},
   "source": [
    "Set the gene to which of the above frequently mutated genes you want to examine. For example, if you want to look at the gene PTEN, change the cell below to say \"gene = 'PTEN'\""
   ]
  },
  {
   "cell_type": "code",
   "execution_count": 84,
   "metadata": {},
   "outputs": [],
   "source": [
    "gene = 'TTN'"
   ]
  },
  {
   "cell_type": "markdown",
   "metadata": {},
   "source": [
    "## Step 4: Select desired omics comparison"
   ]
  },
  {
   "cell_type": "markdown",
   "metadata": {},
   "source": [
    "Select which type of omics you want to compare. If you want to compare proteomics data for the interacting proteins, uncomment the \"omics = en.get_proteomics()\" line, etc."
   ]
  },
  {
   "cell_type": "code",
   "execution_count": 85,
   "metadata": {},
   "outputs": [],
   "source": [
    "omics = cancer_object.get_proteomics()\n",
    "#omics = cancer_object.get_transcriptomics()\n",
    "#omics = cancer_object.get_phosphoproteomics()\n",
    "#omics = cancer_object.get_acetylproteomics()"
   ]
  },
  {
   "cell_type": "markdown",
   "metadata": {},
   "source": [
    "## Step 5: cis comparison "
   ]
  },
  {
   "cell_type": "markdown",
   "metadata": {},
   "source": [
    "Determine if the DNA mutation has an effect on the omics measurement. In order to do this, we have a few steps in code.\n",
    "1. get a table with both the omics and mutation data for tumors\n",
    "2. get a binary column from the mutation data to separate our samples\n",
    "3. format data frame to be used in the T-test\n",
    "4. send data to the T-test.\n",
    "5. visualize comparison"
   ]
  },
  {
   "cell_type": "code",
   "execution_count": 87,
   "metadata": {},
   "outputs": [
    {
     "name": "stdout",
     "output_type": "stream",
     "text": [
      "TTN did not match any columns in proteomics dataframe. TTN_proteomics column inserted, but filled with NaN.\n",
      "Not possible to do T-test.\n"
     ]
    }
   ],
   "source": [
    "# Step 1 - Create dataframe in order to do comparisons with wrap_ttest - drop nan values?\n",
    "omics_and_mutations = cancer_object.append_mutations_to_omics(mutation_genes = gene, \n",
    "                            omics_df_name = omics.name, omics_genes = gene).dropna()\n",
    "\n",
    "# Check if values in omics data\n",
    "if omics_and_mutations[gene+\"_\"+omics.name].empty:\n",
    "    print('Not possible to do T-test.')\n",
    "\n",
    "else:\n",
    "    # Step 2 - Create the binary column needed to do the comparison\n",
    "    omics_and_mutations['binary_mutations'] = np.where(\n",
    "        omics_and_mutations[gene+'_Mutation_Status'] == 'Wildtype_Tumor', 'Wildtype', 'Mutated')\n",
    "\n",
    "    # Step 3 - Format the dataframe correctly for the T-test(just omics and binary columns for tumors)\n",
    "    tumors = omics_and_mutations.loc[omics_and_mutations['Sample_Status'] == 'Tumor']\n",
    "    columns_to_drop = [gene+\"_Mutation\", gene+\"_Location\", gene+\"_Mutation_Status\", \"Sample_Status\"]\n",
    "    omics_binary_mutations = tumors.drop(columns_to_drop, axis = 1)\n",
    "\n",
    "    # Make a list of the column label of omics to be used in the wrap_ttest function\n",
    "    omics_col_list = [omics_binary_mutations.columns[0]] \n",
    "\n",
    "    # Step 4 - T-test comparing means of mutated vs wildtype effect on cis omics\n",
    "    print(\"Doing t-test comparison\\n\")\n",
    "    significant_pval_results = al.wrap_ttest(omics_binary_mutations, 'binary_mutations', omics_col_list)\n",
    "    if not significant_pval_results.empty:\n",
    "        print(significant_pval_results)\n",
    "    \n",
    "    # Step 5 - Visualize comparison\n",
    "    cis_boxplot = sns.boxplot(data = omics_binary_mutations, x = \"binary_mutations\",\n",
    "                              y = gene+\"_proteomics\", order = [\"Wildtype\",\"Mutated\"])  \n",
    "    cis_boxplot.set_title(gene + \" effect on \" + omics.name + \" abundance\")\n",
    "    cis_boxplot = sns.stripplot(data=omics_binary_mutations, x = \"binary_mutations\",\n",
    "                                y = gene+\"_proteomics\",jitter = True, color = \".3\", order = [\"Wildtype\",\"Mutated\"])\n",
    "    cis_boxplot.set(xlabel = gene + \" Mutation Status in Tumors\", ylabel = \"Proteomics\")\n",
    "    plt.show()\n",
    "\n"
   ]
  },
  {
   "cell_type": "markdown",
   "metadata": {},
   "source": [
    "## Step 6: Generate interacting proteins and test omics comparisons"
   ]
  },
  {
   "cell_type": "markdown",
   "metadata": {},
   "source": [
    "Simply run this cell after following the instructions above to see the results of the comparisons"
   ]
  },
  {
   "cell_type": "code",
   "execution_count": 51,
   "metadata": {},
   "outputs": [
    {
     "name": "stdout",
     "output_type": "stream",
     "text": [
      "\n",
      "Gene:  PTEN\n",
      "Generating interacting protein list\n",
      "Index(['CSNK2A1_proteomics', 'PDGFRB_proteomics', 'PIK3R2_proteomics',\n",
      "       'PIK3C3_proteomics', 'CSNK2A2_proteomics', 'SLC9A3R1_proteomics',\n",
      "       'USP13_proteomics', 'PIK3CA_proteomics', 'TP53_proteomics',\n",
      "       'EGFR_proteomics', 'PIK3CB_proteomics', 'PTK2_proteomics',\n",
      "       'USP7_proteomics', 'XIAP_proteomics', 'PTEN_proteomics',\n",
      "       'PIK3CD_proteomics', 'ROCK1_proteomics', 'SHC1_proteomics',\n",
      "       'NEDD4_proteomics', 'INPP4B_proteomics', 'PIK3R1_proteomics',\n",
      "       'AKT1_proteomics', 'MVP_proteomics', 'Label'],\n",
      "      dtype='object')\n",
      "Doing t-test comparisons\n",
      "\n",
      "No significant comparisons.\n"
     ]
    }
   ],
   "source": [
    "try:\n",
    "    '''Prevent slice degrees of freedom warning'''\n",
    "    import warnings\n",
    "    warnings.filterwarnings(\"ignore\")\n",
    "\n",
    "    print(\"\\nGene: \", gene)\n",
    "\n",
    "    '''Use get interacting proteins method to generate list of interacting proteins'''\n",
    "    interacting_proteins = al.get_interacting_proteins(gene)\n",
    "\n",
    "    print(\"Generating interacting protein list\")\n",
    "    interacting_proteins_in_omics_df = []\n",
    "\n",
    "    '''Only do comparisons on proteins in the omics dataframe'''\n",
    "    for ip in interacting_proteins:\n",
    "        if omics.name == 'phosphoproteomics' or omics.name == 'acetylproteomics':\n",
    "            col_regex = ip + \"-.*\" # Build a regex to get all columns that match the gene\n",
    "        else:\n",
    "            col_regex = '^{}$'.format(ip)\n",
    "\n",
    "        selected = omics.filter(regex=col_regex)\n",
    "\n",
    "        if len(selected.columns) > 0:\n",
    "            interacting_proteins_in_omics_df.append(ip)\n",
    "\n",
    "    '''Ceate dataframe in order to do comparisons with wrap_ttest'''\n",
    "    protdf = cancer_object.append_mutations_to_omics(mutation_genes=[gene], omics_df_name=omics.name, omics_genes=interacting_proteins_in_omics_df)\n",
    "    protdf = protdf.loc[protdf['Sample_Status'] == 'Tumor']\n",
    "\n",
    "    '''Create the binary valued column needed to do the comparison'''\n",
    "    for ind, row in protdf.iterrows():\n",
    "        if row[gene+\"_Mutation_Status\"] != 'Wildtype_Tumor':\n",
    "            protdf.at[ind,'Label'] = 'Mutated'\n",
    "        else:\n",
    "            protdf.at[ind,'Label'] = 'Wildtype'\n",
    "\n",
    "    '''Format the datafram correctly'''\n",
    "    protdf = protdf.drop(gene+\"_Mutation\",axis=1)\n",
    "    protdf = protdf.drop(gene+\"_Location\",axis=1)\n",
    "    protdf = protdf.drop(gene+\"_Mutation_Status\", axis=1)\n",
    "    protdf = protdf.drop(\"Sample_Status\",axis=1)\n",
    "    print(protdf.columns)\n",
    "\n",
    "    '''Make list of columns to be compared using t-tests'''\n",
    "    col_list = list(protdf.columns)\n",
    "    col_list.remove('Label')\n",
    "\n",
    "    print(\"Doing t-test comparisons\\n\")\n",
    "\n",
    "    '''Call wrap_ttest, pass in formatted dataframe'''\n",
    "    wrap_results = al.wrap_ttest(protdf, 'Label', col_list)\n",
    "\n",
    "    '''Print results, if anything significant was found'''\n",
    "    if wrap_results is not None:\n",
    "            print(wrap_results)\n",
    "            print(\"\\n\\n\")\n",
    "\n",
    "except:\n",
    "   print(\"Error in Comparison\")"
   ]
  },
  {
   "cell_type": "markdown",
   "metadata": {},
   "source": [
    "## Step 7: Look at effect on all proteins"
   ]
  },
  {
   "cell_type": "markdown",
   "metadata": {},
   "source": [
    "This will look at the effect of the selected gene mutation on all proteins, and report any significant results."
   ]
  },
  {
   "cell_type": "code",
   "execution_count": 29,
   "metadata": {},
   "outputs": [
    {
     "name": "stdout",
     "output_type": "stream",
     "text": [
      "\n",
      "Gene:  MUC5B\n",
      "Generating protein list\n"
     ]
    },
    {
     "ename": "KeyboardInterrupt",
     "evalue": "",
     "output_type": "error",
     "traceback": [
      "\u001b[1;31m---------------------------------------------------------------------------\u001b[0m",
      "\u001b[1;31mKeyboardInterrupt\u001b[0m                         Traceback (most recent call last)",
      "\u001b[1;32m<ipython-input-29-a0c91ca584bf>\u001b[0m in \u001b[0;36m<module>\u001b[1;34m\u001b[0m\n\u001b[0;32m     17\u001b[0m             \u001b[0mcol_regex\u001b[0m \u001b[1;33m=\u001b[0m \u001b[1;34m'^{}$'\u001b[0m\u001b[1;33m.\u001b[0m\u001b[0mformat\u001b[0m\u001b[1;33m(\u001b[0m\u001b[0mip\u001b[0m\u001b[1;33m)\u001b[0m\u001b[1;33m\u001b[0m\u001b[1;33m\u001b[0m\u001b[0m\n\u001b[0;32m     18\u001b[0m \u001b[1;33m\u001b[0m\u001b[0m\n\u001b[1;32m---> 19\u001b[1;33m         \u001b[0mselected\u001b[0m \u001b[1;33m=\u001b[0m \u001b[0momics\u001b[0m\u001b[1;33m.\u001b[0m\u001b[0mfilter\u001b[0m\u001b[1;33m(\u001b[0m\u001b[0mregex\u001b[0m\u001b[1;33m=\u001b[0m\u001b[0mcol_regex\u001b[0m\u001b[1;33m)\u001b[0m\u001b[1;33m\u001b[0m\u001b[1;33m\u001b[0m\u001b[0m\n\u001b[0m\u001b[0;32m     20\u001b[0m \u001b[1;33m\u001b[0m\u001b[0m\n\u001b[0;32m     21\u001b[0m         \u001b[1;32mif\u001b[0m \u001b[0mlen\u001b[0m\u001b[1;33m(\u001b[0m\u001b[0mselected\u001b[0m\u001b[1;33m.\u001b[0m\u001b[0mcolumns\u001b[0m\u001b[1;33m)\u001b[0m \u001b[1;33m>\u001b[0m \u001b[1;36m0\u001b[0m\u001b[1;33m:\u001b[0m\u001b[1;33m\u001b[0m\u001b[1;33m\u001b[0m\u001b[0m\n",
      "\u001b[1;32m~\\Anaconda3\\envs\\Research\\lib\\site-packages\\pandas\\core\\generic.py\u001b[0m in \u001b[0;36mfilter\u001b[1;34m(self, items, like, regex, axis)\u001b[0m\n\u001b[0;32m   4578\u001b[0m                 \u001b[1;32mreturn\u001b[0m \u001b[0mmatcher\u001b[0m\u001b[1;33m.\u001b[0m\u001b[0msearch\u001b[0m\u001b[1;33m(\u001b[0m\u001b[0mto_str\u001b[0m\u001b[1;33m(\u001b[0m\u001b[0mx\u001b[0m\u001b[1;33m)\u001b[0m\u001b[1;33m)\u001b[0m \u001b[1;32mis\u001b[0m \u001b[1;32mnot\u001b[0m \u001b[1;32mNone\u001b[0m\u001b[1;33m\u001b[0m\u001b[1;33m\u001b[0m\u001b[0m\n\u001b[0;32m   4579\u001b[0m             \u001b[0mmatcher\u001b[0m \u001b[1;33m=\u001b[0m \u001b[0mre\u001b[0m\u001b[1;33m.\u001b[0m\u001b[0mcompile\u001b[0m\u001b[1;33m(\u001b[0m\u001b[0mregex\u001b[0m\u001b[1;33m)\u001b[0m\u001b[1;33m\u001b[0m\u001b[1;33m\u001b[0m\u001b[0m\n\u001b[1;32m-> 4580\u001b[1;33m             \u001b[0mvalues\u001b[0m \u001b[1;33m=\u001b[0m \u001b[0mlabels\u001b[0m\u001b[1;33m.\u001b[0m\u001b[0mmap\u001b[0m\u001b[1;33m(\u001b[0m\u001b[0mf\u001b[0m\u001b[1;33m)\u001b[0m\u001b[1;33m\u001b[0m\u001b[1;33m\u001b[0m\u001b[0m\n\u001b[0m\u001b[0;32m   4581\u001b[0m             \u001b[1;32mreturn\u001b[0m \u001b[0mself\u001b[0m\u001b[1;33m.\u001b[0m\u001b[0mloc\u001b[0m\u001b[1;33m(\u001b[0m\u001b[0maxis\u001b[0m\u001b[1;33m=\u001b[0m\u001b[0maxis\u001b[0m\u001b[1;33m)\u001b[0m\u001b[1;33m[\u001b[0m\u001b[0mvalues\u001b[0m\u001b[1;33m]\u001b[0m\u001b[1;33m\u001b[0m\u001b[1;33m\u001b[0m\u001b[0m\n\u001b[0;32m   4582\u001b[0m         \u001b[1;32melse\u001b[0m\u001b[1;33m:\u001b[0m\u001b[1;33m\u001b[0m\u001b[1;33m\u001b[0m\u001b[0m\n",
      "\u001b[1;32m~\\Anaconda3\\envs\\Research\\lib\\site-packages\\pandas\\core\\indexes\\base.py\u001b[0m in \u001b[0;36mmap\u001b[1;34m(self, mapper, na_action)\u001b[0m\n\u001b[0;32m   4516\u001b[0m         \u001b[1;32mfrom\u001b[0m \u001b[1;33m.\u001b[0m\u001b[0mmulti\u001b[0m \u001b[1;32mimport\u001b[0m \u001b[0mMultiIndex\u001b[0m\u001b[1;33m\u001b[0m\u001b[1;33m\u001b[0m\u001b[0m\n\u001b[0;32m   4517\u001b[0m         new_values = super(Index, self)._map_values(\n\u001b[1;32m-> 4518\u001b[1;33m             mapper, na_action=na_action)\n\u001b[0m\u001b[0;32m   4519\u001b[0m \u001b[1;33m\u001b[0m\u001b[0m\n\u001b[0;32m   4520\u001b[0m         \u001b[0mattributes\u001b[0m \u001b[1;33m=\u001b[0m \u001b[0mself\u001b[0m\u001b[1;33m.\u001b[0m\u001b[0m_get_attributes_dict\u001b[0m\u001b[1;33m(\u001b[0m\u001b[1;33m)\u001b[0m\u001b[1;33m\u001b[0m\u001b[1;33m\u001b[0m\u001b[0m\n",
      "\u001b[1;32m~\\Anaconda3\\envs\\Research\\lib\\site-packages\\pandas\\core\\base.py\u001b[0m in \u001b[0;36m_map_values\u001b[1;34m(self, mapper, na_action)\u001b[0m\n\u001b[0;32m   1216\u001b[0m \u001b[1;33m\u001b[0m\u001b[0m\n\u001b[0;32m   1217\u001b[0m         \u001b[1;31m# mapper is a function\u001b[0m\u001b[1;33m\u001b[0m\u001b[1;33m\u001b[0m\u001b[1;33m\u001b[0m\u001b[0m\n\u001b[1;32m-> 1218\u001b[1;33m         \u001b[0mnew_values\u001b[0m \u001b[1;33m=\u001b[0m \u001b[0mmap_f\u001b[0m\u001b[1;33m(\u001b[0m\u001b[0mvalues\u001b[0m\u001b[1;33m,\u001b[0m \u001b[0mmapper\u001b[0m\u001b[1;33m)\u001b[0m\u001b[1;33m\u001b[0m\u001b[1;33m\u001b[0m\u001b[0m\n\u001b[0m\u001b[0;32m   1219\u001b[0m \u001b[1;33m\u001b[0m\u001b[0m\n\u001b[0;32m   1220\u001b[0m         \u001b[1;32mreturn\u001b[0m \u001b[0mnew_values\u001b[0m\u001b[1;33m\u001b[0m\u001b[1;33m\u001b[0m\u001b[0m\n",
      "\u001b[1;32mpandas/_libs/lib.pyx\u001b[0m in \u001b[0;36mpandas._libs.lib.map_infer\u001b[1;34m()\u001b[0m\n",
      "\u001b[1;32m~\\Anaconda3\\envs\\Research\\lib\\site-packages\\pandas\\core\\generic.py\u001b[0m in \u001b[0;36mf\u001b[1;34m(x)\u001b[0m\n\u001b[0;32m   4576\u001b[0m         \u001b[1;32melif\u001b[0m \u001b[0mregex\u001b[0m\u001b[1;33m:\u001b[0m\u001b[1;33m\u001b[0m\u001b[1;33m\u001b[0m\u001b[0m\n\u001b[0;32m   4577\u001b[0m             \u001b[1;32mdef\u001b[0m \u001b[0mf\u001b[0m\u001b[1;33m(\u001b[0m\u001b[0mx\u001b[0m\u001b[1;33m)\u001b[0m\u001b[1;33m:\u001b[0m\u001b[1;33m\u001b[0m\u001b[1;33m\u001b[0m\u001b[0m\n\u001b[1;32m-> 4578\u001b[1;33m                 \u001b[1;32mreturn\u001b[0m \u001b[0mmatcher\u001b[0m\u001b[1;33m.\u001b[0m\u001b[0msearch\u001b[0m\u001b[1;33m(\u001b[0m\u001b[0mto_str\u001b[0m\u001b[1;33m(\u001b[0m\u001b[0mx\u001b[0m\u001b[1;33m)\u001b[0m\u001b[1;33m)\u001b[0m \u001b[1;32mis\u001b[0m \u001b[1;32mnot\u001b[0m \u001b[1;32mNone\u001b[0m\u001b[1;33m\u001b[0m\u001b[1;33m\u001b[0m\u001b[0m\n\u001b[0m\u001b[0;32m   4579\u001b[0m             \u001b[0mmatcher\u001b[0m \u001b[1;33m=\u001b[0m \u001b[0mre\u001b[0m\u001b[1;33m.\u001b[0m\u001b[0mcompile\u001b[0m\u001b[1;33m(\u001b[0m\u001b[0mregex\u001b[0m\u001b[1;33m)\u001b[0m\u001b[1;33m\u001b[0m\u001b[1;33m\u001b[0m\u001b[0m\n\u001b[0;32m   4580\u001b[0m             \u001b[0mvalues\u001b[0m \u001b[1;33m=\u001b[0m \u001b[0mlabels\u001b[0m\u001b[1;33m.\u001b[0m\u001b[0mmap\u001b[0m\u001b[1;33m(\u001b[0m\u001b[0mf\u001b[0m\u001b[1;33m)\u001b[0m\u001b[1;33m\u001b[0m\u001b[1;33m\u001b[0m\u001b[0m\n",
      "\u001b[1;31mKeyboardInterrupt\u001b[0m: "
     ]
    }
   ],
   "source": [
    "try:\n",
    "    print(\"\\nGene: \", gene)\n",
    "\n",
    "    '''Use get interacting proteins method to generate list of interacting proteins'''\n",
    "    proteomics = cancer_object.get_proteomics()\n",
    "    proteins = proteomics.columns\n",
    "    #proteins = proteins[:250]\n",
    "\n",
    "    print(\"Generating protein list\")\n",
    "    interacting_proteins_in_omics_df = []\n",
    "\n",
    "    '''Only do comparisons on proteins in the omics dataframe'''\n",
    "    for ip in proteins:\n",
    "        if omics.name == 'phosphoproteomics' or omics.name == 'acetylproteomics':\n",
    "            col_regex = \"^{}-.*$\".format(ip) # Build a regex to get all columns that match the gene\n",
    "        else:\n",
    "            col_regex = '^{}$'.format(ip)\n",
    "\n",
    "        selected = omics.filter(regex=col_regex)\n",
    "\n",
    "        if len(selected.columns) > 0:\n",
    "            interacting_proteins_in_omics_df.append(ip)\n",
    "\n",
    "    '''Create dataframe in order to do comparisons with wrap_ttest'''\n",
    "    protdf = cancer_object.append_mutations_to_omics(mutation_genes=[gene], omics_df_name=omics.name, omics_genes=interacting_proteins_in_omics_df)\n",
    "    protdf = protdf.loc[protdf['Sample_Status'] == 'Tumor']\n",
    "    print(protdf.columns)\n",
    "    '''Create the binary valued column needed to do the comparison'''\n",
    "    for ind, row in protdf.iterrows():\n",
    "        if row[gene+\"_Mutation_Status\"] != 'Wildtype_Tumor':\n",
    "            protdf.at[ind,'Label'] = 'Mutated'\n",
    "        else:\n",
    "            protdf.at[ind,'Label'] = 'Wildtype'\n",
    "\n",
    "    '''Format the datafram correctly'''\n",
    "    protdf = protdf.drop(gene+\"_Mutation\",axis=1)\n",
    "    protdf = protdf.drop(gene+\"_Location\",axis=1)\n",
    "    protdf = protdf.drop(gene+\"_Mutation_Status\", axis=1)\n",
    "    protdf = protdf.drop(\"Sample_Status\",axis=1)\n",
    "    print(protdf.columns)\n",
    "    \n",
    "    '''Make list of columns to be compared using t-tests'''\n",
    "    col_list = list(protdf.columns)\n",
    "    col_list.remove('Label')\n",
    "\n",
    "    print(\"Doing t-test comparisons\\n\")\n",
    "    \n",
    "    '''Call wrap_ttest, pass in formatted dataframe'''\n",
    "    wrap_results = al.wrap_ttest(protdf, 'Label', col_list)\n",
    "\n",
    "    '''Print results, if anything significant was found'''\n",
    "    if wrap_results is not None:\n",
    "            print(wrap_results)\n",
    "            print(\"\\n\\n\")\n",
    "\n",
    "except Exception as e:\n",
    "    print(\"Error in Comparison\")\n",
    "    print(e)"
   ]
  },
  {
   "cell_type": "markdown",
   "metadata": {},
   "source": [
    "## Gene Set Enrichment on Significant Omics Genes"
   ]
  },
  {
   "cell_type": "code",
   "execution_count": null,
   "metadata": {},
   "outputs": [],
   "source": [
    "if len(wrap_results) > 0:\n",
    "    '''Get a list of the omics genes deemed significant by wrap_ttest'''\n",
    "    all_gene_list = list(wrap_results['Comparison'])\n",
    "    gene_name_list = []\n",
    "    for agl in all_gene_list:\n",
    "        split = agl.split(\"_\")\n",
    "        gene_name_list.append(split[0])\n",
    "    \n",
    "    '''Use the gseapy library to run a gene set enrichment analysis on the resulting list of genes'''\n",
    "    enrichment = gp.enrichr(gene_list = gene_name_list, description='ARID1A_Impacted', gene_sets='KEGG_2016', outdir='test/enrichr_kegg',cutoff=.5)\n",
    "    print(enrichment.res2d)\n",
    "    \n",
    "else:\n",
    "    print(\"No significant comparisons found.\")"
   ]
  },
  {
   "cell_type": "markdown",
   "metadata": {},
   "source": [
    "## Plot Gene Set Enrichment Results"
   ]
  },
  {
   "cell_type": "code",
   "execution_count": null,
   "metadata": {},
   "outputs": [],
   "source": [
    "'''Plot the significant results of the gene set enrichment analysis'''\n",
    "if len(wrap_results) > 0:\n",
    "    barplot(enrichment.res2d, title=gene+ \" Impacted Protein Enrichment Analysis\")\n",
    "else:\n",
    "    print(\"No significant comparisons found.\")"
   ]
  },
  {
   "cell_type": "code",
   "execution_count": null,
   "metadata": {},
   "outputs": [],
   "source": []
  }
 ],
 "metadata": {
  "kernelspec": {
   "display_name": "Python 3",
   "language": "python",
   "name": "python3"
  },
  "language_info": {
   "codemirror_mode": {
    "name": "ipython",
    "version": 3
   },
   "file_extension": ".py",
   "mimetype": "text/x-python",
   "name": "python",
   "nbconvert_exporter": "python",
   "pygments_lexer": "ipython3",
   "version": "3.7.3"
  }
 },
 "nbformat": 4,
 "nbformat_minor": 2
}
