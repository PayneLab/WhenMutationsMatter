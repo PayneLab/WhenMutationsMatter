{
 "cells": [
  {
   "cell_type": "markdown",
   "metadata": {},
   "source": [
    "## Library Imports"
   ]
  },
  {
   "cell_type": "markdown",
   "metadata": {},
   "source": [
    "Run this cell to import the necessary libraries"
   ]
  },
  {
   "cell_type": "code",
   "execution_count": 1,
   "metadata": {},
   "outputs": [
    {
     "name": "stdout",
     "output_type": "stream",
     "text": [
      "Welcome to the cptac data service package. Available datasets may be\n",
      "viewed using cptac.list_data(). In order to access a specific data\n",
      "set, import a cptac subfolder using either 'import cptac.dataset' or\n",
      "'from cptac import dataset'.\n",
      "******\n",
      "Version: 0.4.1\n",
      "******\n",
      "You have loaded the cptac endometrial dataset. To view available\n",
      "dataframes, use cptac.endometrial.list_data(). To view available\n",
      "functions for accessing and manipulating the dataframes, use\n",
      "cptac.endometrial.list_api().\n",
      "endometrial data version: 2.1\n",
      "\n",
      "Loading Dictionary...\n",
      "Loading cptac endometrial data:\n",
      "Loading proteomics data...\n",
      "Loading clinical data...\n",
      "Loading acetylproteomics data...\n",
      "Loading phosphoproteomics_site data...\n",
      "Loading somatic data...\n",
      "Loading transcriptomics_circular data...\n",
      "Loading phosphoproteomics_gene data...\n",
      "Loading transcriptomics_linear data...\n",
      "Loading miRNA data...\n",
      "Loading somatic_binary data...\n",
      "Loading CNA data...\n",
      "\n",
      " ******PLEASE READ******\n",
      "WARNING: This data is under a publication embargo until July 1, 2019.\n",
      "CPTAC is a community resource project and data are made available\n",
      "rapidly after generation for community research use. The embargo\n",
      "allows exploring and utilizing the data, but the data may not be in a\n",
      "publication until July 1, 2019. Please see\n",
      "https://proteomics.cancer.gov/data-portal/about/data-use-agreement or\n",
      "enter embargo() to open the webpage for more details.\n"
     ]
    }
   ],
   "source": [
    "import pandas as pd\n",
    "import numpy as np\n",
    "import scipy.stats\n",
    "import collections\n",
    "import re\n",
    "import gseapy as gp\n",
    "from gseapy.plot import barplot, dotplot\n",
    "\n",
    "import cptac.endometrial as en\n",
    "import cptac.algorithms as al"
   ]
  },
  {
   "cell_type": "markdown",
   "metadata": {},
   "source": [
    "## Get frequently mutated genes list"
   ]
  },
  {
   "cell_type": "markdown",
   "metadata": {},
   "source": [
    "Enter the type of cancer and the cutoff for mutation frequency that you would like to use."
   ]
  },
  {
   "cell_type": "code",
   "execution_count": 2,
   "metadata": {},
   "outputs": [
    {
     "name": "stdout",
     "output_type": "stream",
     "text": [
      "       Gene  Percent Mutated\n",
      "0     RPL22         0.168421\n",
      "1    ARID1A         0.452632\n",
      "2    PIK3CA         0.494737\n",
      "3     FBXW7         0.189474\n",
      "4     RBM27         0.168421\n",
      "5      NSD1         0.168421\n",
      "6     SYNE1         0.168421\n",
      "7     ZFHX4         0.200000\n",
      "8      PTEN         0.789474\n",
      "9      CTCF         0.284211\n",
      "10   ZNF469         0.157895\n",
      "11     TP53         0.221053\n",
      "12    KMT2B         0.242105\n",
      "13     KRAS         0.326316\n",
      "14    LMAN1         0.157895\n",
      "15    SCAF4         0.168421\n",
      "16   PIK3R1         0.389474\n",
      "17   CTNNB1         0.305263\n",
      "18     PCLO         0.168421\n",
      "19    KMT2D         0.178947\n",
      "20    HERC2         0.178947\n",
      "21    ZFHX3         0.221053\n",
      "22     JAK1         0.168421\n",
      "23    OBSCN         0.157895\n",
      "24    AHNAK         0.157895\n",
      "25  CCDC168         0.168421\n",
      "26    DOCK3         0.200000\n",
      "27    MUC16         0.189474\n",
      "28    HUWE1         0.157895\n",
      "29   DNAH17         0.157895\n",
      "30   INPPL1         0.200000\n"
     ]
    }
   ],
   "source": [
    "cancer_type = \"Endometrial\"\n",
    "desired_cutoff = .15\n",
    "\n",
    "fm = al.get_frequently_mutated(cancer_type, cutoff=desired_cutoff)\n",
    "print(fm)"
   ]
  },
  {
   "cell_type": "markdown",
   "metadata": {},
   "source": [
    "## Select a gene from the list of frequently mutated genes above"
   ]
  },
  {
   "cell_type": "markdown",
   "metadata": {},
   "source": [
    "Set the gene to which of the above frequently mutated genes you want to examine. For example, if you want to look at the gene PTEN, change the cell below to say \"gene = 'PTEN'\""
   ]
  },
  {
   "cell_type": "code",
   "execution_count": 3,
   "metadata": {
    "collapsed": true
   },
   "outputs": [],
   "source": [
    "gene = 'PTEN'"
   ]
  },
  {
   "cell_type": "markdown",
   "metadata": {},
   "source": [
    "## Select desired omics comparison"
   ]
  },
  {
   "cell_type": "markdown",
   "metadata": {},
   "source": [
    "Select which type of omics you want to compare. If you want to compare proteomics data for the interacting proteins, uncomment the \"omics = en.get_proteomics()\" line, etc."
   ]
  },
  {
   "cell_type": "code",
   "execution_count": 4,
   "metadata": {
    "collapsed": true
   },
   "outputs": [],
   "source": [
    "omics = en.get_proteomics()\n",
    "#omics = en.get_transcriptomics()\n",
    "#omics = en.get_phosphoproteomics()\n",
    "#omics = en.get_acetylproteomics()"
   ]
  },
  {
   "cell_type": "markdown",
   "metadata": {},
   "source": [
    "## TODO: Brittney, CIS Comparison Here"
   ]
  },
  {
   "cell_type": "code",
   "execution_count": 12,
   "metadata": {},
   "outputs": [
    {
     "data": {
      "text/plain": [
       "'Cis analysis here'"
      ]
     },
     "execution_count": 12,
     "metadata": {},
     "output_type": "execute_result"
    }
   ],
   "source": [
    "'''Cis analysis here'''"
   ]
  },
  {
   "cell_type": "markdown",
   "metadata": {},
   "source": [
    "## Generate interacting proteins and test omics comparisons"
   ]
  },
  {
   "cell_type": "markdown",
   "metadata": {},
   "source": [
    "Simply run this cell after following the instructions above to see the results of the comparisons"
   ]
  },
  {
   "cell_type": "code",
   "execution_count": 5,
   "metadata": {},
   "outputs": [
    {
     "name": "stdout",
     "output_type": "stream",
     "text": [
      "\n",
      "Gene:  PTEN\n",
      "Generating interacting protein list\n",
      "Doing t-test comparisons\n",
      "\n",
      "           Comparison   P_Value\n",
      "0   PIK3CA_proteomics  0.000017\n",
      "1  CSNK2A1_proteomics  0.000102\n",
      "2     TP53_proteomics  0.000935\n",
      "\n",
      "\n",
      "\n"
     ]
    }
   ],
   "source": [
    "try:\n",
    "    '''Prevent slice degrees of freedom warning'''\n",
    "    import warnings\n",
    "    warnings.filterwarnings(\"ignore\")\n",
    "\n",
    "    print(\"\\nGene: \", gene)\n",
    "\n",
    "    '''Use get interacting proteins method to generate list of interacting proteins'''\n",
    "    interacting_proteins = al.get_interacting_proteins(gene)\n",
    "\n",
    "    print(\"Generating interacting protein list\")\n",
    "    interacting_proteins_in_omics_df = []\n",
    "\n",
    "    '''Only do comparisons on proteins in the omics dataframe'''\n",
    "    for ip in interacting_proteins:\n",
    "        if omics.name == 'phosphoproteomics' or omics.name == 'acetylproteomics':\n",
    "            col_regex = ip + \"-.*\" # Build a regex to get all columns that match the gene\n",
    "        else:\n",
    "            col_regex = '^{}$'.format(ip)\n",
    "\n",
    "        selected = omics.filter(regex=col_regex)\n",
    "\n",
    "        if len(selected.columns) > 0:\n",
    "            interacting_proteins_in_omics_df.append(ip)\n",
    "\n",
    "    '''Ceate dataframe in order to do comparisons with wrap_ttest'''\n",
    "    protdf = en.append_mutations_to_omics(mutation_genes=[gene], omics_df=omics, omics_genes=interacting_proteins_in_omics_df)\n",
    "    protdf = protdf.loc[protdf['Sample_Status'] == 'Tumor']\n",
    "\n",
    "    '''Create the binary valued column needed to do the comparison'''\n",
    "    for ind, row in protdf.iterrows():\n",
    "        if row[gene+\"_Mutation_Status\"] != 'Wildtype_Tumor':\n",
    "            protdf.at[ind,'Label'] = 'Mutated'\n",
    "        else:\n",
    "            protdf.at[ind,'Label'] = 'Wildtype'\n",
    "\n",
    "    '''Format the datafram correctly'''\n",
    "    protdf = protdf.drop(gene+\"_Mutation\",axis=1)\n",
    "    protdf = protdf.drop(gene+\"_Location\",axis=1)\n",
    "    protdf = protdf.drop(gene+\"_Mutation_Status\", axis=1)\n",
    "    protdf = protdf.drop(\"Sample_Status\",axis=1)\n",
    "\n",
    "    '''Make list of columns to be compared using t-tests'''\n",
    "    col_list = list(protdf.columns)\n",
    "    col_list.remove('Label')\n",
    "\n",
    "    print(\"Doing t-test comparisons\\n\")\n",
    "\n",
    "    '''Call wrap_ttest, pass in formatted dataframe'''\n",
    "    wrap_results = al.wrap_ttest(protdf, 'Label', col_list)\n",
    "\n",
    "    '''Print results, if anything significant was found'''\n",
    "    if wrap_results is not None:\n",
    "            print(wrap_results)\n",
    "            print(\"\\n\\n\")\n",
    "\n",
    "except:\n",
    "    print(\"Error in Comparison\")"
   ]
  },
  {
   "cell_type": "markdown",
   "metadata": {},
   "source": [
    "## Look at effect on all proteins"
   ]
  },
  {
   "cell_type": "markdown",
   "metadata": {},
   "source": [
    "This will look at the effect of the selected gene mutation on all proteins, and report any significant results."
   ]
  },
  {
   "cell_type": "code",
   "execution_count": 6,
   "metadata": {},
   "outputs": [
    {
     "name": "stdout",
     "output_type": "stream",
     "text": [
      "\n",
      "Gene:  PTEN\n",
      "Generating protein list\n",
      "Doing t-test comparisons\n",
      "\n",
      "             Comparison       P_Value\n",
      "0      NOL10_proteomics  5.611188e-11\n",
      "1       ESF1_proteomics  6.691871e-10\n",
      "2      CMTR1_proteomics  5.055672e-09\n",
      "3      DDX52_proteomics  7.150868e-09\n",
      "4       LSG1_proteomics  9.021583e-09\n",
      "5       SMG8_proteomics  2.056488e-08\n",
      "6       NGDN_proteomics  2.057004e-08\n",
      "7      TRMT6_proteomics  2.251381e-08\n",
      "8      SENP2_proteomics  2.938007e-08\n",
      "9     KIF13B_proteomics  2.976583e-08\n",
      "10      GRB7_proteomics  3.543120e-08\n",
      "11    HEATR1_proteomics  3.573639e-08\n",
      "12     USP39_proteomics  4.136375e-08\n",
      "13      ABT1_proteomics  5.219925e-08\n",
      "14      RIF1_proteomics  6.685617e-08\n",
      "15     CMSS1_proteomics  7.327087e-08\n",
      "16    ARFIP1_proteomics  7.957193e-08\n",
      "17     L1CAM_proteomics  9.386578e-08\n",
      "18      XPO5_proteomics  9.528731e-08\n",
      "19     WDR75_proteomics  1.187857e-07\n",
      "20    HOMER2_proteomics  1.323965e-07\n",
      "21     CEBPZ_proteomics  1.609315e-07\n",
      "22     UTP25_proteomics  2.330516e-07\n",
      "23     AP1M2_proteomics  2.680100e-07\n",
      "24  SLC4A1AP_proteomics  2.703320e-07\n",
      "25     REXO4_proteomics  2.822833e-07\n",
      "26    KCTD14_proteomics  2.943871e-07\n",
      "27    CDKAL1_proteomics  3.481294e-07\n",
      "28      TJP3_proteomics  3.576958e-07\n",
      "29      FXR1_proteomics  3.658090e-07\n",
      "..                  ...           ...\n",
      "48      BOP1_proteomics  1.264924e-06\n",
      "49     DDX18_proteomics  1.513546e-06\n",
      "50     RIOK1_proteomics  1.639492e-06\n",
      "51      ADAR_proteomics  1.752189e-06\n",
      "52   PLEKHA7_proteomics  1.827900e-06\n",
      "53      ANK3_proteomics  2.036177e-06\n",
      "54   TBL1XR1_proteomics  2.093598e-06\n",
      "55     CASP6_proteomics  2.118829e-06\n",
      "56      RNMT_proteomics  2.187373e-06\n",
      "57    FBXO22_proteomics  2.273589e-06\n",
      "58     STAT2_proteomics  2.337823e-06\n",
      "59      NOL6_proteomics  2.404910e-06\n",
      "60      ALG2_proteomics  2.481249e-06\n",
      "61   XPNPEP1_proteomics  2.543145e-06\n",
      "62     RABL6_proteomics  2.687690e-06\n",
      "63       MX2_proteomics  2.949103e-06\n",
      "64     ARVCF_proteomics  3.008934e-06\n",
      "65    SETDB1_proteomics  3.033016e-06\n",
      "66    ARFIP2_proteomics  3.152331e-06\n",
      "67      KLK8_proteomics  3.183875e-06\n",
      "68     HERC5_proteomics  3.185984e-06\n",
      "69     ZC3H8_proteomics  3.196387e-06\n",
      "70     PRKCI_proteomics  3.467786e-06\n",
      "71     DDX56_proteomics  3.587715e-06\n",
      "72     GMPR2_proteomics  3.633294e-06\n",
      "73     CWC25_proteomics  3.858396e-06\n",
      "74    PDCD11_proteomics  3.966370e-06\n",
      "75   IGF2BP2_proteomics  3.988961e-06\n",
      "76      CIR1_proteomics  4.370401e-06\n",
      "77     STAT1_proteomics  4.441582e-06\n",
      "\n",
      "[78 rows x 2 columns]\n",
      "\n",
      "\n",
      "\n"
     ]
    }
   ],
   "source": [
    "try:\n",
    "    print(\"\\nGene: \", gene)\n",
    "\n",
    "    '''Use get interacting proteins method to generate list of interacting proteins'''\n",
    "    proteomics = en.get_proteomics()\n",
    "    proteins = proteomics.columns\n",
    "    #proteins = proteins[:250]\n",
    "\n",
    "    print(\"Generating protein list\")\n",
    "    interacting_proteins_in_omics_df = []\n",
    "\n",
    "    '''Only do comparisons on proteins in the omics dataframe'''\n",
    "    for ip in proteins:\n",
    "        if omics.name == 'phosphoproteomics' or omics.name == 'acetylproteomics':\n",
    "            col_regex = \"^{}-.*$\".format(ip) # Build a regex to get all columns that match the gene\n",
    "        else:\n",
    "            col_regex = '^{}$'.format(ip)\n",
    "\n",
    "        selected = omics.filter(regex=col_regex)\n",
    "\n",
    "        if len(selected.columns) > 0:\n",
    "            interacting_proteins_in_omics_df.append(ip)\n",
    "\n",
    "    '''Create dataframe in order to do comparisons with wrap_ttest'''\n",
    "    protdf = en.append_mutations_to_omics(mutation_genes=[gene], omics_df=omics, omics_genes=interacting_proteins_in_omics_df)\n",
    "    protdf = protdf.loc[protdf['Sample_Status'] == 'Tumor']\n",
    "    \n",
    "    '''Create the binary valued column needed to do the comparison'''\n",
    "    for ind, row in protdf.iterrows():\n",
    "        if row[gene+\"_Mutation_Status\"] != 'Wildtype_Tumor':\n",
    "            protdf.at[ind,'Label'] = 'Mutated'\n",
    "        else:\n",
    "            protdf.at[ind,'Label'] = 'Wildtype'\n",
    "\n",
    "    '''Format the datafram correctly'''\n",
    "    protdf = protdf.drop(gene+\"_Mutation\",axis=1)\n",
    "    protdf = protdf.drop(gene+\"_Location\",axis=1)\n",
    "    protdf = protdf.drop(gene+\"_Mutation_Status\", axis=1)\n",
    "    protdf = protdf.drop(\"Sample_Status\",axis=1)\n",
    "\n",
    "    '''Make list of columns to be compared using t-tests'''\n",
    "    col_list = list(protdf.columns)\n",
    "    col_list.remove('Label')\n",
    "\n",
    "    print(\"Doing t-test comparisons\\n\")\n",
    "    \n",
    "    '''Call wrap_ttest, pass in formatted dataframe'''\n",
    "    wrap_results = al.wrap_ttest(protdf, 'Label', col_list)\n",
    "\n",
    "    '''Print results, if anything significant was found'''\n",
    "    if wrap_results is not None:\n",
    "            print(wrap_results)\n",
    "            print(\"\\n\\n\")\n",
    "\n",
    "except Exception as e:\n",
    "    print(\"Error in Comparison\")\n",
    "    print(e)"
   ]
  },
  {
   "cell_type": "markdown",
   "metadata": {},
   "source": [
    "## Gene Set Enrichment on Significant Omics Genes"
   ]
  },
  {
   "cell_type": "code",
   "execution_count": 11,
   "metadata": {},
   "outputs": [
    {
     "name": "stdout",
     "output_type": "stream",
     "text": [
      "     Gene_set                                               Term Overlap  \\\n",
      "0   KEGG_2016  Ribosome biogenesis in eukaryotes_Homo sapiens...    6/89   \n",
      "1   KEGG_2016                      Measles_Homo sapiens_hsa05162   4/136   \n",
      "2   KEGG_2016                  Influenza A_Homo sapiens_hsa05164   4/175   \n",
      "3   KEGG_2016                  Hepatitis C_Homo sapiens_hsa05160   3/133   \n",
      "4   KEGG_2016                RNA transport_Homo sapiens_hsa03013   3/172   \n",
      "5   KEGG_2016     Herpes simplex infection_Homo sapiens_hsa05168   3/185   \n",
      "6   KEGG_2016   Osteoclast differentiation_Homo sapiens_hsa04380   2/132   \n",
      "7   KEGG_2016        Wnt signaling pathway_Homo sapiens_hsa04310   2/142   \n",
      "8   KEGG_2016                  Hepatitis B_Homo sapiens_hsa05161   2/146   \n",
      "9   KEGG_2016  Signaling pathways regulating pluripotency of ...   2/142   \n",
      "10  KEGG_2016               Tight junction_Homo sapiens_hsa04530   2/139   \n",
      "11  KEGG_2016   Jak-STAT signaling pathway_Homo sapiens_hsa04630   2/158   \n",
      "12  KEGG_2016    One carbon pool by folate_Homo sapiens_hsa00670    1/20   \n",
      "13  KEGG_2016  Chemokine signaling pathway_Homo sapiens_hsa04062   2/187   \n",
      "14  KEGG_2016          Tyrosine metabolism_Homo sapiens_hsa00350    1/35   \n",
      "15  KEGG_2016           Lysine degradation_Homo sapiens_hsa00310    1/52   \n",
      "16  KEGG_2016      Notch signaling pathway_Homo sapiens_hsa04330    1/48   \n",
      "17  KEGG_2016            Pancreatic cancer_Homo sapiens_hsa05212    1/66   \n",
      "18  KEGG_2016  Inflammatory bowel disease (IBD)_Homo sapiens_...    1/65   \n",
      "19  KEGG_2016        N-Glycan biosynthesis_Homo sapiens_hsa00510    1/49   \n",
      "20  KEGG_2016  Prolactin signaling pathway_Homo sapiens_hsa04917    1/72   \n",
      "21  KEGG_2016  Cytosolic DNA-sensing pathway_Homo sapiens_hsa...    1/64   \n",
      "22  KEGG_2016                Leishmaniasis_Homo sapiens_hsa05140    1/73   \n",
      "23  KEGG_2016  AGE-RAGE signaling pathway in diabetic complic...   1/101   \n",
      "24  KEGG_2016  Toll-like receptor signaling pathway_Homo sapi...   1/106   \n",
      "25  KEGG_2016    mRNA surveillance pathway_Homo sapiens_hsa03015    1/91   \n",
      "26  KEGG_2016        Glutamatergic synapse_Homo sapiens_hsa04724   1/114   \n",
      "27  KEGG_2016                Toxoplasmosis_Homo sapiens_hsa05145   1/118   \n",
      "28  KEGG_2016  Thyroid hormone signaling pathway_Homo sapiens...   1/118   \n",
      "29  KEGG_2016          Platelet activation_Homo sapiens_hsa04611   1/122   \n",
      "30  KEGG_2016                     Lysosome_Homo sapiens_hsa04142   1/123   \n",
      "31  KEGG_2016                Axon guidance_Homo sapiens_hsa04360   1/127   \n",
      "32  KEGG_2016                    Apoptosis_Homo sapiens_hsa04210   1/140   \n",
      "33  KEGG_2016       FoxO signaling pathway_Homo sapiens_hsa04068   1/133   \n",
      "34  KEGG_2016                  Spliceosome_Homo sapiens_hsa03040   1/134   \n",
      "35  KEGG_2016    Insulin signaling pathway_Homo sapiens_hsa04910   1/139   \n",
      "36  KEGG_2016  Cell adhesion molecules (CAMs)_Homo sapiens_hs...   1/142   \n",
      "37  KEGG_2016      Hippo signaling pathway_Homo sapiens_hsa04390   1/153   \n",
      "38  KEGG_2016  Protein processing in endoplasmic reticulum_Ho...   1/169   \n",
      "39  KEGG_2016            Purine metabolism_Homo sapiens_hsa00230   1/176   \n",
      "40  KEGG_2016                 Tuberculosis_Homo sapiens_hsa05152   1/178   \n",
      "41  KEGG_2016  Epstein-Barr virus infection_Homo sapiens_hsa0...   1/202   \n",
      "42  KEGG_2016      Proteoglycans in cancer_Homo sapiens_hsa05205   1/203   \n",
      "43  KEGG_2016         Viral carcinogenesis_Homo sapiens_hsa05203   1/205   \n",
      "44  KEGG_2016       Rap1 signaling pathway_Homo sapiens_hsa04015   1/211   \n",
      "45  KEGG_2016                  Endocytosis_Homo sapiens_hsa04144   1/259   \n",
      "46  KEGG_2016           Pathways in cancer_Homo sapiens_hsa05200   1/397   \n",
      "47  KEGG_2016           Metabolic pathways_Homo sapiens_hsa01100  3/1239   \n",
      "\n",
      "     P-value  Adjusted P-value  Old P-value  Old Adjusted P-value   Z-score  \\\n",
      "0   0.000001          0.000062     0.000002              0.000113 -1.994005   \n",
      "1   0.001977          0.047456     0.002747              0.065937 -1.832856   \n",
      "2   0.004885          0.078162     0.006606              0.105689 -1.917515   \n",
      "3   0.015222          0.182664     0.019565              0.234782 -1.760764   \n",
      "4   0.029729          0.285394     0.037500              0.358937 -1.770138   \n",
      "5   0.035743          0.285941     0.044867              0.358937 -1.658163   \n",
      "6   0.093932          0.438611     0.110792              0.507313 -1.682976   \n",
      "7   0.106144          0.438611     0.124769              0.507313 -1.625565   \n",
      "8   0.111144          0.438611     0.130479              0.507313 -1.655987   \n",
      "9   0.106144          0.438611     0.124769              0.507313 -1.604305   \n",
      "10  0.102436          0.438611     0.120530              0.507313 -1.506676   \n",
      "11  0.126498          0.438611     0.147966              0.507313 -1.625684   \n",
      "12  0.075211          0.438611     0.085893              0.507313 -1.273320   \n",
      "13  0.165406          0.490918     0.191989              0.541920 -1.565030   \n",
      "14  0.127928          0.438611     0.142832              0.507313 -1.151243   \n",
      "15  0.184094          0.490918     0.203220              0.541920 -1.190480   \n",
      "16  0.171209          0.490918     0.189392              0.541920 -1.091917   \n",
      "17  0.227655          0.518747     0.249844              0.567977 -1.271854   \n",
      "18  0.224621          0.518747     0.246603              0.567977 -1.235989   \n",
      "19  0.174449          0.490918     0.192871              0.541920 -1.043575   \n",
      "20  0.245614          0.518747     0.269008              0.567977 -1.264939   \n",
      "21  0.221576          0.518747     0.243349              0.567977 -1.074544   \n",
      "22  0.248566          0.518747     0.272156              0.567977 -1.146991   \n",
      "23  0.326766          0.553933     0.355158              0.597280 -1.375590   \n",
      "24  0.339859          0.553933     0.368983              0.597280 -1.222763   \n",
      "25  0.299806          0.553933     0.326623              0.597280 -1.085122   \n",
      "26  0.360287          0.553933     0.390510              0.597280 -1.225676   \n",
      "27  0.370265          0.553933     0.401005              0.597280 -1.151135   \n",
      "28  0.370265          0.553933     0.401005              0.597280 -1.137088   \n",
      "29  0.380090          0.553933     0.411326              0.597280 -1.150985   \n",
      "30  0.382523          0.553933     0.413879              0.597280 -1.020959   \n",
      "31  0.392159          0.553933     0.423985              0.597280 -0.980099   \n",
      "32  0.422462          0.553933     0.455680              0.597280 -1.061644   \n",
      "33  0.406335          0.553933     0.438829              0.597280 -1.013001   \n",
      "34  0.408666          0.553933     0.441267              0.597280 -0.983179   \n",
      "35  0.420185          0.553933     0.453303              0.597280 -0.936281   \n",
      "36  0.426990          0.553933     0.460404              0.597280 -0.859161   \n",
      "37  0.451273          0.570029     0.485685              0.613497 -0.846452   \n",
      "38  0.484791          0.588584     0.520425              0.630975 -0.907132   \n",
      "39  0.498812          0.588584     0.534900              0.630975 -0.852190   \n",
      "40  0.502749          0.588584     0.538958              0.630975 -0.829841   \n",
      "41  0.547669          0.601025     0.585057              0.641246 -0.935310   \n",
      "42  0.549451          0.601025     0.586878              0.641246 -0.926245   \n",
      "43  0.552995          0.601025     0.590496              0.641246 -0.888501   \n",
      "44  0.563461          0.601025     0.601168              0.641246 -0.855749   \n",
      "45  0.638926          0.666705     0.677389              0.706841 -0.857250   \n",
      "46  0.791313          0.808150     0.826150              0.843728 -0.881883   \n",
      "47  0.869273          0.869273     0.919402              0.919402 -0.844442   \n",
      "\n",
      "    Combined Score                               Genes  \n",
      "0        27.024394  LSG1;HEATR1;WDR75;RIOK1;WDR43;NOL6  \n",
      "1        11.411368            STAT1;STAT2;EIF2AK2;ADAR  \n",
      "2        10.204164            STAT1;STAT2;EIF2AK2;ADAR  \n",
      "3         7.368823                 STAT1;STAT2;EIF2AK2  \n",
      "4         6.223184                     FXR1;XPO5;SENP2  \n",
      "5         5.524021                 STAT1;STAT2;EIF2AK2  \n",
      "6         3.980553                         STAT1;STAT2  \n",
      "7         3.646081                       TBL1XR1;SENP2  \n",
      "8         3.638092                         STAT1;STAT2  \n",
      "9         3.598396                         RIF1;SETDB1  \n",
      "10        3.432994                          PRKCI;TJP3  \n",
      "11        3.361146                         STAT1;STAT2  \n",
      "12        3.294661                              MTHFD2  \n",
      "13        2.816043                         STAT1;STAT2  \n",
      "14        2.367286                                 HGD  \n",
      "15        2.014658                              SETDB1  \n",
      "16        1.927092                                CIR1  \n",
      "17        1.882246                               STAT1  \n",
      "18        1.845751                               STAT1  \n",
      "19        1.822210                                ALG2  \n",
      "20        1.775969                               STAT1  \n",
      "21        1.619329                                ADAR  \n",
      "22        1.596664                               STAT1  \n",
      "23        1.538613                               STAT1  \n",
      "24        1.319637                               STAT1  \n",
      "25        1.307160                                RNMT  \n",
      "26        1.251238                              HOMER2  \n",
      "27        1.143694                               STAT1  \n",
      "28        1.129738                               STAT1  \n",
      "29        1.113402                               PRKCI  \n",
      "30        0.981109                               AP1M2  \n",
      "31        0.917460                               L1CAM  \n",
      "32        0.914771                               CASP6  \n",
      "33        0.912286                              HOMER2  \n",
      "34        0.879805                               USP39  \n",
      "35        0.811812                               PRKCI  \n",
      "36        0.731142                               L1CAM  \n",
      "37        0.673507                               PRKCI  \n",
      "38        0.656797                             EIF2AK2  \n",
      "39        0.592720                               GMPR2  \n",
      "40        0.570653                               STAT1  \n",
      "41        0.563135                             EIF2AK2  \n",
      "42        0.554668                                ANK3  \n",
      "43        0.526354                             EIF2AK2  \n",
      "44        0.490907                               PRKCI  \n",
      "45        0.384019                               PRKCI  \n",
      "46        0.206414                               STAT1  \n"
     ]
    },
    {
     "name": "stdout",
     "output_type": "stream",
     "text": [
      "47        0.118304                     HGD;MTHFD2;ALG2  \n"
     ]
    }
   ],
   "source": [
    "if len(wrap_results) > 0:\n",
    "    '''Get a list of the omics genes deemed significant by wrap_ttest'''\n",
    "    all_gene_list = list(wrap_results['Comparison'])\n",
    "    gene_name_list = []\n",
    "    for agl in all_gene_list:\n",
    "        split = agl.split(\"_\")\n",
    "        gene_name_list.append(split[0])\n",
    "    \n",
    "    '''Use the gseapy library to run a gene set enrichment analysis on the resulting list of genes'''\n",
    "    enrichment = gp.enrichr(gene_list = gene_name_list, description='ARID1A_Impacted', gene_sets='KEGG_2016', outdir='test/enrichr_kegg',cutoff=.5)\n",
    "    print(enrichment.res2d)\n",
    "    \n",
    "else:\n",
    "    print(\"No significant comparisons found.\")"
   ]
  },
  {
   "cell_type": "markdown",
   "metadata": {},
   "source": [
    "## Plot Gene Set Enrichment Results"
   ]
  },
  {
   "cell_type": "code",
   "execution_count": 8,
   "metadata": {},
   "outputs": [
    {
     "data": {
      "image/png": "[encoded data removed]",
      "text/plain": [
       "<Figure size 468x432 with 1 Axes>"
      ]
     },
     "metadata": {
      "needs_background": "light"
     },
     "output_type": "display_data"
    }
   ],
   "source": [
    "'''Plot the significant results of the gene set enrichment analysis'''\n",
    "if len(wrap_results) > 0:\n",
    "    barplot(enrichment.res2d, title=gene+ \" Impacted Protein Enrichment Analysis\")\n",
    "else:\n",
    "    print(\"No significant comparisons found.\")"
   ]
  },
  {
   "cell_type": "code",
   "execution_count": null,
   "metadata": {
    "collapsed": true
   },
   "outputs": [],
   "source": []
  }
 ],
 "metadata": {
  "kernelspec": {
   "display_name": "Python 3",
   "language": "python",
   "name": "python3"
  },
  "language_info": {
   "codemirror_mode": {
    "name": "ipython",
    "version": 3
   },
   "file_extension": ".py",
   "mimetype": "text/x-python",
   "name": "python",
   "nbconvert_exporter": "python",
   "pygments_lexer": "ipython3",
   "version": "3.6.8"
  }
 },
 "nbformat": 4,
 "nbformat_minor": 2
}
