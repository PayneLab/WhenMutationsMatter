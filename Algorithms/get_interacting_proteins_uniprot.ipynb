{
 "cells": [
  {
   "cell_type": "code",
   "execution_count": 39,
   "metadata": {},
   "outputs": [],
   "source": [
    "import requests, sys, json, time\n",
    "import os\n",
    "import numpy as np\n",
    "import pandas as pd\n",
    "import sys\n",
    "import urllib3\n",
    "import json\n",
    "import operator\n",
    "import collections\n",
    "#ACCESS KEY: 0ff59dcf3511928e78aad499688381c9"
   ]
  },
  {
   "cell_type": "code",
   "execution_count": 45,
   "metadata": {},
   "outputs": [],
   "source": [
    "def generate_iteracting_from_BioGrid(gene_name, number=25):\n",
    "    try:\n",
    "        interacting_proteins = []\n",
    "        urllib3.disable_warnings()\n",
    "        request_url = \"https://webservice.thebiogrid.org/interactions/?searchNames=true&excludeGenes=true&geneList=\" + gene_name +\"&includeInteractors=true&format=json&taxId=9606&start=0&max=\" + str(number) + \"&accesskey=0ff59dcf3511928e78aad499688381c9\"\n",
    "        http = urllib3.PoolManager()\n",
    "        response = http.request('GET',request_url)\n",
    "\n",
    "        if response.status == 200: \n",
    "            '''Get the data from the API's response'''\n",
    "            data = response.data\n",
    "            y = json.loads(data)\n",
    "            \n",
    "            '''Add name of each protein to list of interacting proteins'''\n",
    "            for entry in y:\n",
    "                if y[entry]['OFFICIAL_SYMBOL_A'] not in interacting_proteins:\n",
    "                    interacting_proteins.append(y[entry]['OFFICIAL_SYMBOL_A'])\n",
    "            \n",
    "            '''Return this list to caller'''\n",
    "            return interacting_proteins\n",
    "        \n",
    "        else:\n",
    "            print(\"Error accessing api!\")\n",
    "            return None\n",
    "            \n",
    "    except Exception as err:\n",
    "        print(\"Error accessing api, \" , err)\n",
    "        return None"
   ]
  },
  {
   "cell_type": "code",
   "execution_count": 46,
   "metadata": {},
   "outputs": [
    {
     "name": "stdout",
     "output_type": "stream",
     "text": [
      "MAP2K4\n",
      "MYPN\n",
      "ACVR1\n",
      "GATA2\n",
      "RPA2\n",
      "ARF1\n",
      "ARF3\n",
      "XRN1\n",
      "APP\n",
      "APLP1\n",
      "CITED2\n",
      "EP300\n",
      "APOB\n",
      "ARRB2\n",
      "CSF1R\n",
      "PRRC2A\n",
      "LSM1\n",
      "SLC4A1\n",
      "BCL3\n",
      "ADRB1\n",
      "BRCA1\n"
     ]
    }
   ],
   "source": [
    "listOfInt = generate_iteracting_from_BioGrid('WDR77')\n",
    "for item in listOfInt:\n",
    "    print(item)"
   ]
  },
  {
   "cell_type": "code",
   "execution_count": null,
   "metadata": {},
   "outputs": [],
   "source": []
  }
 ],
 "metadata": {
  "kernelspec": {
   "display_name": "Python 3",
   "language": "python",
   "name": "python3"
  },
  "language_info": {
   "codemirror_mode": {
    "name": "ipython",
    "version": 3
   },
   "file_extension": ".py",
   "mimetype": "text/x-python",
   "name": "python",
   "nbconvert_exporter": "python",
   "pygments_lexer": "ipython3",
   "version": "3.6.8"
  }
 },
 "nbformat": 4,
 "nbformat_minor": 2
}
