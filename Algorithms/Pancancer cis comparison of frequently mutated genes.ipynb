{
 "cells": [
  {
   "cell_type": "markdown",
   "metadata": {},
   "source": [
    "## Step 1: Library Imports"
   ]
  },
  {
   "cell_type": "markdown",
   "metadata": {},
   "source": [
    "Run this cell to import the necessary libraries"
   ]
  },
  {
   "cell_type": "code",
   "execution_count": 1,
   "metadata": {},
   "outputs": [],
   "source": [
    "import pandas as pd\n",
    "import numpy as np\n",
    "import seaborn as sns\n",
    "import matplotlib.pyplot as plt\n",
    "import scipy.stats\n",
    "\n",
    "import cptac\n",
    "import cptac.algorithms as al"
   ]
  },
  {
   "cell_type": "markdown",
   "metadata": {},
   "source": [
    "## Step 2: Find the frequently mutated genes for Endometrial Cancer"
   ]
  },
  {
   "cell_type": "markdown",
   "metadata": {},
   "source": [
    "Enter the type of cancer and the cutoff for mutation frequency that you would like to use."
   ]
  },
  {
   "cell_type": "code",
   "execution_count": 25,
   "metadata": {},
   "outputs": [
    {
     "name": "stdout",
     "output_type": "stream",
     "text": [
      "WARNING: This data is under a publication embargo until July 1, 2019.\n",
      "CPTAC is a community resource project and data are made available\n",
      "rapidly after generation for community research use. The embargo\n",
      "allows exploring and utilizing the data, but analysis may not be\n",
      "published until July 1, 2019. Please see\n",
      "https://proteomics.cancer.gov/data-portal/about/data-use-agreement or\n",
      "enter cptac.embargo() to open the webpage for more details.\n",
      "         Gene  Unique_Samples_Mut  Missence_Mut  Truncation_Mut\n",
      "0      ABCA12            0.147368      0.094737        0.073684\n",
      "1      ABCA13            0.115789      0.105263        0.042105\n",
      "2      ACVR2A            0.105263      0.010526        0.094737\n",
      "3      ADGRG4            0.136842      0.126316        0.021053\n",
      "4      ADGRV1            0.115789      0.094737        0.052632\n",
      "5       AHNAK            0.157895      0.126316        0.042105\n",
      "6      AHNAK2            0.136842      0.115789        0.042105\n",
      "7         ALK            0.105263      0.073684        0.031579\n",
      "8        ANK1            0.115789      0.094737        0.031579\n",
      "9        ANK2            0.105263      0.073684        0.063158\n",
      "10       ANK3            0.115789      0.084211        0.073684\n",
      "11    ANKRD11            0.126316      0.084211        0.052632\n",
      "12        APC            0.136842      0.105263        0.084211\n",
      "13       APOB            0.115789      0.105263        0.042105\n",
      "14   ARHGAP35            0.115789      0.042105        0.084211\n",
      "15     ARID1A            0.452632      0.136842        0.400000\n",
      "16     ARID1B            0.115789      0.063158        0.063158\n",
      "17     ARID5B            0.126316      0.010526        0.115789\n",
      "18      ASCC3            0.105263      0.084211        0.042105\n",
      "19      ASTN1            0.126316      0.094737        0.031579\n",
      "20      ASXL3            0.115789      0.105263        0.042105\n",
      "21      ATAD2            0.115789      0.073684        0.042105\n",
      "22       ATRX            0.115789      0.073684        0.073684\n",
      "23     BAHCC1            0.105263      0.063158        0.052632\n",
      "24       BCOR            0.115789      0.115789        0.000000\n",
      "25    C5orf42            0.115789      0.084211        0.042105\n",
      "26    CACNA1A            0.126316      0.126316        0.021053\n",
      "27    CACNA1B            0.126316      0.115789        0.021053\n",
      "28    CACNA1C            0.115789      0.115789        0.000000\n",
      "29    CACNA1D            0.115789      0.094737        0.021053\n",
      "..        ...                 ...           ...             ...\n",
      "202     TENM3            0.136842      0.126316        0.031579\n",
      "203  TMEM132B            0.105263      0.094737        0.021053\n",
      "204    TNRC6B            0.105263      0.073684        0.031579\n",
      "205      TP53            0.221053      0.157895        0.073684\n",
      "206   TP53BP1            0.105263      0.042105        0.073684\n",
      "207   TP53BP2            0.105263      0.063158        0.042105\n",
      "208    TRANK1            0.115789      0.094737        0.021053\n",
      "209      UBR4            0.126316      0.105263        0.042105\n",
      "210      UBR5            0.105263      0.063158        0.042105\n",
      "211     USH2A            0.147368      0.126316        0.063158\n",
      "212     USP9X            0.136842      0.042105        0.105263\n",
      "213    VPS13A            0.105263      0.073684        0.052632\n",
      "214     WDFY3            0.105263      0.094737        0.010526\n",
      "215     WDFY4            0.105263      0.094737        0.010526\n",
      "216     WDR87            0.147368      0.115789        0.073684\n",
      "217      WNK4            0.115789      0.073684        0.042105\n",
      "218     XIRP2            0.115789      0.073684        0.084211\n",
      "219    ZBTB20            0.126316      0.042105        0.094737\n",
      "220    ZC3H13            0.105263      0.031579        0.084211\n",
      "221     ZDBF2            0.147368      0.094737        0.073684\n",
      "222     ZFHX3            0.221053      0.084211        0.168421\n",
      "223     ZFHX4            0.200000      0.147368        0.094737\n",
      "224     ZMYM2            0.115789      0.052632        0.084211\n",
      "225    ZNF292            0.105263      0.042105        0.084211\n",
      "226    ZNF469            0.157895      0.105263        0.063158\n",
      "227    ZNF536            0.126316      0.126316        0.000000\n",
      "228    ZNF559            0.105263      0.073684        0.042105\n",
      "229    ZNF729            0.105263      0.084211        0.031579\n",
      "230    ZNF800            0.115789      0.063158        0.073684\n",
      "231    ZNF831            0.105263      0.084211        0.021053\n",
      "\n",
      "[232 rows x 4 columns]\n"
     ]
    }
   ],
   "source": [
    "en_object = cptac.Endometrial()\n",
    "desired_cutoff = .1\n",
    "\n",
    "endometrial_freq_mut = al.get_frequently_mutated(en_object, cutoff=desired_cutoff)\n",
    "print(endometrial_freq_mut)"
   ]
  },
  {
   "cell_type": "markdown",
   "metadata": {},
   "source": [
    "## Step 3: Select a gene from the list of frequently mutated genes above"
   ]
  },
  {
   "cell_type": "markdown",
   "metadata": {},
   "source": [
    "Set the gene to which of the above frequently mutated genes you want to examine. For example, if you want to look at the gene PTEN, change the cell below to say \"gene = 'ARID1A'\""
   ]
  },
  {
   "cell_type": "code",
   "execution_count": 41,
   "metadata": {},
   "outputs": [],
   "source": [
    "gene = 'TP53'"
   ]
  },
  {
   "cell_type": "markdown",
   "metadata": {},
   "source": [
    "## Step 4: Select desired omics comparison"
   ]
  },
  {
   "cell_type": "markdown",
   "metadata": {},
   "source": [
    "Select which type of omics you want to compare. If you want to compare proteomics data for the interacting proteins, uncomment the \"omics = en.get_proteomics()\" line, etc."
   ]
  },
  {
   "cell_type": "code",
   "execution_count": 42,
   "metadata": {},
   "outputs": [],
   "source": [
    "omics = en_object.get_proteomics()\n",
    "#omics = en_object.get_transcriptomics()\n",
    "#omics = en_object.get_phosphoproteomics()\n",
    "#omics = en_object.get_acetylproteomics()"
   ]
  },
  {
   "cell_type": "markdown",
   "metadata": {},
   "source": [
    "## Step 5: cis comparison "
   ]
  },
  {
   "cell_type": "markdown",
   "metadata": {},
   "source": [
    "Determine if the DNA mutation has an effect on the omics measurement. In order to do this, we have a few steps in code.\n",
    "1. get a table with both the omics and mutation data for tumors\n",
    "2. get a binary column from the mutation data to separate our samples\n",
    "3. format data frame to be used in the T-test\n",
    "4. send data to the T-test.\n",
    "5. visualize comparison"
   ]
  },
  {
   "cell_type": "code",
   "execution_count": 43,
   "metadata": {},
   "outputs": [
    {
     "name": "stdout",
     "output_type": "stream",
     "text": [
      "Doing t-test comparison\n",
      "\n",
      "        Comparison       P_Value\n",
      "0  TP53_proteomics  3.991072e-07\n"
     ]
    },
    {
     "data": {
      "image/png": "[encoded data removed]",
      "text/plain": [
       "<Figure size 432x288 with 1 Axes>"
      ]
     },
     "metadata": {
      "needs_background": "light"
     },
     "output_type": "display_data"
    }
   ],
   "source": [
    "# Step 1 - Create dataframe in order to do comparisons with wrap_ttest - drop nan values\n",
    "omics_and_mutations = en_object.append_mutations_to_omics(\n",
    "    mutation_genes = gene, omics_df_name = omics.name, omics_genes = gene).dropna()\n",
    "\n",
    "# Check if values in omics data\n",
    "if omics_and_mutations[gene+\"_\"+omics.name].empty:\n",
    "    print('Not possible to do T-test.')\n",
    "\n",
    "else:\n",
    "    # Step 2 - Create the binary column needed to do the comparison\n",
    "    omics_and_mutations['binary_mutations'] = np.where(\n",
    "        omics_and_mutations[gene+'_Mutation_Status'] == 'Wildtype_Tumor', 'Wildtype', 'Mutated')\n",
    "\n",
    "    # Step 3 - Format the dataframe correctly for the T-test(just omics and binary columns for tumors)\n",
    "    tumors = omics_and_mutations.loc[omics_and_mutations['Sample_Status'] == 'Tumor']\n",
    "    columns_to_drop = [gene+\"_Mutation\", gene+\"_Location\", gene+\"_Mutation_Status\", \"Sample_Status\"]\n",
    "    omics_binary_mutations = tumors.drop(columns_to_drop, axis = 1)\n",
    "\n",
    "    # Make a list of the column label of omics to be used in the wrap_ttest function\n",
    "    omics_col_list = [omics_binary_mutations.columns[0]] \n",
    "\n",
    "    # Step 4 - T-test comparing means of mutated vs wildtype effect on cis omics\n",
    "    print(\"Doing t-test comparison\\n\")\n",
    "    significant_pval_results = al.wrap_ttest(omics_binary_mutations, 'binary_mutations', omics_col_list)\n",
    "    if not significant_pval_results.empty:\n",
    "        print(significant_pval_results)\n",
    "    \n",
    "    # Step 5 - Visualize comparison\n",
    "    en_cis_boxplot = sns.boxplot(data = omics_binary_mutations, x = \"binary_mutations\",\n",
    "                              y = gene+\"_proteomics\", order = [\"Wildtype\",\"Mutated\"])  \n",
    "    en_cis_boxplot.set_title(gene + \" effect on \" + omics.name + \" abundance\")\n",
    "    en_cis_boxplot = sns.stripplot(data=omics_binary_mutations, x = \"binary_mutations\",\n",
    "                                y = gene+\"_proteomics\",jitter = True, color = \".3\", order = [\"Wildtype\",\"Mutated\"])\n",
    "    en_cis_boxplot.set(xlabel = gene + \" Mutation Status in Tumors\", ylabel = \"Proteomics\")\n",
    "    plt.show()\n",
    "\n"
   ]
  },
  {
   "cell_type": "markdown",
   "metadata": {},
   "source": [
    "# Repeat with the Colon dataset"
   ]
  },
  {
   "cell_type": "code",
   "execution_count": 44,
   "metadata": {},
   "outputs": [
    {
     "name": "stdout",
     "output_type": "stream",
     "text": [
      "\u001b[Kding transcriptomics data.....ata....\r"
     ]
    }
   ],
   "source": [
    "colon_object = cptac.Colon()\n",
    "desired_cutoff = .1\n",
    "\n",
    "colon_freq_mut = al.get_frequently_mutated(colon_object, cutoff=desired_cutoff)"
   ]
  },
  {
   "cell_type": "markdown",
   "metadata": {},
   "source": [
    "Find the common frequently mutated genes between Endometrial and Colon datasets."
   ]
  },
  {
   "cell_type": "code",
   "execution_count": 45,
   "metadata": {},
   "outputs": [
    {
     "data": {
      "text/html": [
       "<div>\n",
       "<style scoped>\n",
       "    .dataframe tbody tr th:only-of-type {\n",
       "        vertical-align: middle;\n",
       "    }\n",
       "\n",
       "    .dataframe tbody tr th {\n",
       "        vertical-align: top;\n",
       "    }\n",
       "\n",
       "    .dataframe thead th {\n",
       "        text-align: right;\n",
       "    }\n",
       "</style>\n",
       "<table border=\"1\" class=\"dataframe\">\n",
       "  <thead>\n",
       "    <tr style=\"text-align: right;\">\n",
       "      <th></th>\n",
       "      <th>Gene</th>\n",
       "    </tr>\n",
       "  </thead>\n",
       "  <tbody>\n",
       "    <tr>\n",
       "      <th>0</th>\n",
       "      <td>ABCA13</td>\n",
       "    </tr>\n",
       "    <tr>\n",
       "      <th>1</th>\n",
       "      <td>ACVR2A</td>\n",
       "    </tr>\n",
       "    <tr>\n",
       "      <th>2</th>\n",
       "      <td>ADGRG4</td>\n",
       "    </tr>\n",
       "    <tr>\n",
       "      <th>3</th>\n",
       "      <td>ADGRV1</td>\n",
       "    </tr>\n",
       "    <tr>\n",
       "      <th>4</th>\n",
       "      <td>AHNAK</td>\n",
       "    </tr>\n",
       "    <tr>\n",
       "      <th>5</th>\n",
       "      <td>AHNAK2</td>\n",
       "    </tr>\n",
       "    <tr>\n",
       "      <th>6</th>\n",
       "      <td>ANK1</td>\n",
       "    </tr>\n",
       "    <tr>\n",
       "      <th>7</th>\n",
       "      <td>ANK2</td>\n",
       "    </tr>\n",
       "    <tr>\n",
       "      <th>8</th>\n",
       "      <td>ANK3</td>\n",
       "    </tr>\n",
       "    <tr>\n",
       "      <th>9</th>\n",
       "      <td>ANKRD11</td>\n",
       "    </tr>\n",
       "    <tr>\n",
       "      <th>10</th>\n",
       "      <td>APC</td>\n",
       "    </tr>\n",
       "    <tr>\n",
       "      <th>11</th>\n",
       "      <td>APOB</td>\n",
       "    </tr>\n",
       "    <tr>\n",
       "      <th>12</th>\n",
       "      <td>ARID1A</td>\n",
       "    </tr>\n",
       "    <tr>\n",
       "      <th>13</th>\n",
       "      <td>ASCC3</td>\n",
       "    </tr>\n",
       "    <tr>\n",
       "      <th>14</th>\n",
       "      <td>ASTN1</td>\n",
       "    </tr>\n",
       "    <tr>\n",
       "      <th>15</th>\n",
       "      <td>CACNA1A</td>\n",
       "    </tr>\n",
       "    <tr>\n",
       "      <th>16</th>\n",
       "      <td>CACNA1D</td>\n",
       "    </tr>\n",
       "    <tr>\n",
       "      <th>17</th>\n",
       "      <td>CADPS</td>\n",
       "    </tr>\n",
       "    <tr>\n",
       "      <th>18</th>\n",
       "      <td>CCDC168</td>\n",
       "    </tr>\n",
       "    <tr>\n",
       "      <th>19</th>\n",
       "      <td>CELSR1</td>\n",
       "    </tr>\n",
       "    <tr>\n",
       "      <th>20</th>\n",
       "      <td>CELSR3</td>\n",
       "    </tr>\n",
       "    <tr>\n",
       "      <th>21</th>\n",
       "      <td>CHD3</td>\n",
       "    </tr>\n",
       "    <tr>\n",
       "      <th>22</th>\n",
       "      <td>CHD4</td>\n",
       "    </tr>\n",
       "    <tr>\n",
       "      <th>23</th>\n",
       "      <td>COL11A1</td>\n",
       "    </tr>\n",
       "    <tr>\n",
       "      <th>24</th>\n",
       "      <td>COL12A1</td>\n",
       "    </tr>\n",
       "    <tr>\n",
       "      <th>25</th>\n",
       "      <td>COL18A1</td>\n",
       "    </tr>\n",
       "    <tr>\n",
       "      <th>26</th>\n",
       "      <td>COL5A1</td>\n",
       "    </tr>\n",
       "    <tr>\n",
       "      <th>27</th>\n",
       "      <td>COL6A3</td>\n",
       "    </tr>\n",
       "    <tr>\n",
       "      <th>28</th>\n",
       "      <td>CREBBP</td>\n",
       "    </tr>\n",
       "    <tr>\n",
       "      <th>29</th>\n",
       "      <td>CSMD1</td>\n",
       "    </tr>\n",
       "    <tr>\n",
       "      <th>...</th>\n",
       "      <td>...</td>\n",
       "    </tr>\n",
       "    <tr>\n",
       "      <th>92</th>\n",
       "      <td>RYR2</td>\n",
       "    </tr>\n",
       "    <tr>\n",
       "      <th>93</th>\n",
       "      <td>RYR3</td>\n",
       "    </tr>\n",
       "    <tr>\n",
       "      <th>94</th>\n",
       "      <td>SACS</td>\n",
       "    </tr>\n",
       "    <tr>\n",
       "      <th>95</th>\n",
       "      <td>SETD1B</td>\n",
       "    </tr>\n",
       "    <tr>\n",
       "      <th>96</th>\n",
       "      <td>SPEG</td>\n",
       "    </tr>\n",
       "    <tr>\n",
       "      <th>97</th>\n",
       "      <td>SPEN</td>\n",
       "    </tr>\n",
       "    <tr>\n",
       "      <th>98</th>\n",
       "      <td>SVIL</td>\n",
       "    </tr>\n",
       "    <tr>\n",
       "      <th>99</th>\n",
       "      <td>SYNE1</td>\n",
       "    </tr>\n",
       "    <tr>\n",
       "      <th>100</th>\n",
       "      <td>SYNE2</td>\n",
       "    </tr>\n",
       "    <tr>\n",
       "      <th>101</th>\n",
       "      <td>TACC2</td>\n",
       "    </tr>\n",
       "    <tr>\n",
       "      <th>102</th>\n",
       "      <td>TENM1</td>\n",
       "    </tr>\n",
       "    <tr>\n",
       "      <th>103</th>\n",
       "      <td>TENM3</td>\n",
       "    </tr>\n",
       "    <tr>\n",
       "      <th>104</th>\n",
       "      <td>TNRC6B</td>\n",
       "    </tr>\n",
       "    <tr>\n",
       "      <th>105</th>\n",
       "      <td>TP53</td>\n",
       "    </tr>\n",
       "    <tr>\n",
       "      <th>106</th>\n",
       "      <td>TRANK1</td>\n",
       "    </tr>\n",
       "    <tr>\n",
       "      <th>107</th>\n",
       "      <td>UBR4</td>\n",
       "    </tr>\n",
       "    <tr>\n",
       "      <th>108</th>\n",
       "      <td>UBR5</td>\n",
       "    </tr>\n",
       "    <tr>\n",
       "      <th>109</th>\n",
       "      <td>USH2A</td>\n",
       "    </tr>\n",
       "    <tr>\n",
       "      <th>110</th>\n",
       "      <td>VPS13A</td>\n",
       "    </tr>\n",
       "    <tr>\n",
       "      <th>111</th>\n",
       "      <td>WDFY3</td>\n",
       "    </tr>\n",
       "    <tr>\n",
       "      <th>112</th>\n",
       "      <td>WDFY4</td>\n",
       "    </tr>\n",
       "    <tr>\n",
       "      <th>113</th>\n",
       "      <td>WDR87</td>\n",
       "    </tr>\n",
       "    <tr>\n",
       "      <th>114</th>\n",
       "      <td>XIRP2</td>\n",
       "    </tr>\n",
       "    <tr>\n",
       "      <th>115</th>\n",
       "      <td>ZDBF2</td>\n",
       "    </tr>\n",
       "    <tr>\n",
       "      <th>116</th>\n",
       "      <td>ZFHX3</td>\n",
       "    </tr>\n",
       "    <tr>\n",
       "      <th>117</th>\n",
       "      <td>ZFHX4</td>\n",
       "    </tr>\n",
       "    <tr>\n",
       "      <th>118</th>\n",
       "      <td>ZNF292</td>\n",
       "    </tr>\n",
       "    <tr>\n",
       "      <th>119</th>\n",
       "      <td>ZNF469</td>\n",
       "    </tr>\n",
       "    <tr>\n",
       "      <th>120</th>\n",
       "      <td>ZNF536</td>\n",
       "    </tr>\n",
       "    <tr>\n",
       "      <th>121</th>\n",
       "      <td>ZNF831</td>\n",
       "    </tr>\n",
       "  </tbody>\n",
       "</table>\n",
       "<p>122 rows × 1 columns</p>\n",
       "</div>"
      ],
      "text/plain": [
       "        Gene\n",
       "0     ABCA13\n",
       "1     ACVR2A\n",
       "2     ADGRG4\n",
       "3     ADGRV1\n",
       "4      AHNAK\n",
       "5     AHNAK2\n",
       "6       ANK1\n",
       "7       ANK2\n",
       "8       ANK3\n",
       "9    ANKRD11\n",
       "10       APC\n",
       "11      APOB\n",
       "12    ARID1A\n",
       "13     ASCC3\n",
       "14     ASTN1\n",
       "15   CACNA1A\n",
       "16   CACNA1D\n",
       "17     CADPS\n",
       "18   CCDC168\n",
       "19    CELSR1\n",
       "20    CELSR3\n",
       "21      CHD3\n",
       "22      CHD4\n",
       "23   COL11A1\n",
       "24   COL12A1\n",
       "25   COL18A1\n",
       "26    COL5A1\n",
       "27    COL6A3\n",
       "28    CREBBP\n",
       "29     CSMD1\n",
       "..       ...\n",
       "92      RYR2\n",
       "93      RYR3\n",
       "94      SACS\n",
       "95    SETD1B\n",
       "96      SPEG\n",
       "97      SPEN\n",
       "98      SVIL\n",
       "99     SYNE1\n",
       "100    SYNE2\n",
       "101    TACC2\n",
       "102    TENM1\n",
       "103    TENM3\n",
       "104   TNRC6B\n",
       "105     TP53\n",
       "106   TRANK1\n",
       "107     UBR4\n",
       "108     UBR5\n",
       "109    USH2A\n",
       "110   VPS13A\n",
       "111    WDFY3\n",
       "112    WDFY4\n",
       "113    WDR87\n",
       "114    XIRP2\n",
       "115    ZDBF2\n",
       "116    ZFHX3\n",
       "117    ZFHX4\n",
       "118   ZNF292\n",
       "119   ZNF469\n",
       "120   ZNF536\n",
       "121   ZNF831\n",
       "\n",
       "[122 rows x 1 columns]"
      ]
     },
     "execution_count": 45,
     "metadata": {},
     "output_type": "execute_result"
    }
   ],
   "source": [
    "endometrial_genes = endometrial_freq_mut['Gene']\n",
    "colon_genes = colon_freq_mut['Gene']\n",
    "common_genes = pd.merge(endometrial_genes,colon_genes, how='inner')\n",
    "common_genes"
   ]
  },
  {
   "cell_type": "code",
   "execution_count": 46,
   "metadata": {},
   "outputs": [],
   "source": [
    "gene = 'TP53'\n",
    "\n",
    "omics = colon_object.get_proteomics()\n",
    "#omics = colon_object.get_transcriptomics()\n",
    "#omics = colon_object.get_phosphoproteomics()\n",
    "#omics = colon_object.get_acetylproteomics()"
   ]
  },
  {
   "cell_type": "code",
   "execution_count": 47,
   "metadata": {},
   "outputs": [
    {
     "name": "stdout",
     "output_type": "stream",
     "text": [
      "Doing t-test comparison\n",
      "\n",
      "No significant comparisons.\n",
      "None\n"
     ]
    },
    {
     "data": {
      "image/png": "[encoded data removed]",
      "text/plain": [
       "<Figure size 432x288 with 1 Axes>"
      ]
     },
     "metadata": {
      "needs_background": "light"
     },
     "output_type": "display_data"
    }
   ],
   "source": [
    "# Step 1 - Create dataframe in order to do comparisons with wrap_ttest - drop nan values?\n",
    "omics_and_mutations = colon_object.append_mutations_to_omics(\n",
    "    mutation_genes = gene, omics_df_name = omics.name, omics_genes = gene).dropna()\n",
    "\n",
    "# Check if values in omics data\n",
    "if omics_and_mutations[gene+\"_\"+omics.name].empty:\n",
    "    print('Not possible to do T-test.')\n",
    "\n",
    "else:\n",
    "    # Step 2 - Create the binary column needed to do the comparison\n",
    "    omics_and_mutations['binary_mutations'] = np.where(\n",
    "        omics_and_mutations[gene+'_Mutation_Status'] == 'Wildtype_Tumor', 'Wildtype', 'Mutated')\n",
    "\n",
    "    # Step 3 - Format the dataframe correctly for the T-test(just omics and binary columns for tumors)\n",
    "    tumors = omics_and_mutations.loc[omics_and_mutations['Sample_Status'] == 'Tumor']\n",
    "    columns_to_drop = [gene+\"_Mutation\", gene+\"_Location\", gene+\"_Mutation_Status\", \"Sample_Status\"]\n",
    "    co_omics_binary_mutations = tumors.drop(columns_to_drop, axis = 1)\n",
    "\n",
    "    # Make a list of the column label of omics to be used in the wrap_ttest function\n",
    "    omics_col_list = [co_omics_binary_mutations.columns[0]] \n",
    "\n",
    "    # Step 4 - T-test comparing means of mutated vs wildtype effect on cis omics\n",
    "    print(\"Doing t-test comparison\\n\")\n",
    "    significant_pval_results = al.wrap_ttest(co_omics_binary_mutations, 'binary_mutations', omics_col_list)\n",
    "    print(significant_pval_results)\n",
    "    \n",
    "    # Step 5 - Visualize comparison\n",
    "    cis_boxplot = sns.boxplot(data = co_omics_binary_mutations, x = \"binary_mutations\",\n",
    "                              y = gene+\"_proteomics\", order = [\"Wildtype\",\"Mutated\"])  \n",
    "    cis_boxplot.set_title(gene + \" effect on \" + omics.name + \" abundance\")\n",
    "    cis_boxplot = sns.stripplot(data = co_omics_binary_mutations, x = \"binary_mutations\",\n",
    "                                y = gene+\"_proteomics\",jitter = True, color = \".3\", order = [\"Wildtype\",\"Mutated\"])\n",
    "    cis_boxplot.set(xlabel = gene + \" Mutation Status in Tumors\", ylabel = \"Proteomics\")\n",
    "    plt.show()\n",
    "\n"
   ]
  },
  {
   "cell_type": "markdown",
   "metadata": {},
   "source": [
    "# Repeat with Ovarian dataset"
   ]
  },
  {
   "cell_type": "code",
   "execution_count": 27,
   "metadata": {},
   "outputs": [
    {
     "name": "stdout",
     "output_type": "stream",
     "text": [
      "\u001b[Kding treatment data...ata........\r"
     ]
    }
   ],
   "source": [
    "ovarian_object = cptac.Ovarian()\n",
    "desired_cutoff = .1\n",
    "\n",
    "ovarian_freq_mut = al.get_frequently_mutated(ovarian_object, cutoff=desired_cutoff)"
   ]
  },
  {
   "cell_type": "code",
   "execution_count": 31,
   "metadata": {},
   "outputs": [
    {
     "name": "stdout",
     "output_type": "stream",
     "text": [
      "    Gene\n",
      "0  MUC16\n",
      "1  MUC17\n",
      "2  MUC5B\n",
      "3   TP53\n"
     ]
    }
   ],
   "source": [
    "ovarian_genes = ovarian_freq_mut['Gene']\n",
    "pancancer_commonly_mutated_genes = pd.merge(common_genes, ovarian_genes, how='inner')\n",
    "print(pancancer_commonly_mutated_genes)"
   ]
  },
  {
   "cell_type": "code",
   "execution_count": 39,
   "metadata": {},
   "outputs": [],
   "source": [
    "gene = 'TP53'\n",
    "\n",
    "omics = ovarian_object.get_proteomics()\n",
    "#omics = ovarian_object.get_transcriptomics()\n",
    "#omics = ovarian_object.get_phosphoproteomics()\n",
    "#omics = ovarian_object.get_acetylproteomics()"
   ]
  },
  {
   "cell_type": "code",
   "execution_count": 40,
   "metadata": {},
   "outputs": [
    {
     "name": "stdout",
     "output_type": "stream",
     "text": [
      "Doing t-test comparison\n",
      "\n",
      "No significant comparisons.\n",
      "None\n"
     ]
    },
    {
     "data": {
      "image/png": "[encoded data removed]",
      "text/plain": [
       "<Figure size 432x288 with 1 Axes>"
      ]
     },
     "metadata": {
      "needs_background": "light"
     },
     "output_type": "display_data"
    }
   ],
   "source": [
    "# Step 1 - Create dataframe in order to do comparisons with wrap_ttest - drop nan values?\n",
    "omics_and_mutations = ovarian_object.append_mutations_to_omics(\n",
    "    mutation_genes = gene, omics_df_name = omics.name, omics_genes = gene).dropna()\n",
    "\n",
    "# Check if values in omics data\n",
    "if omics_and_mutations[gene+\"_\"+omics.name].empty:\n",
    "    print('Not possible to do T-test with', omics.name + '.')\n",
    "\n",
    "else:\n",
    "    # Step 2 - Create the binary column needed to do the comparison\n",
    "    omics_and_mutations['binary_mutations'] = np.where(\n",
    "        omics_and_mutations[gene+'_Mutation_Status'] == 'Wildtype_Tumor', 'Wildtype', 'Mutated')\n",
    "\n",
    "    # Step 3 - Format the dataframe correctly for the T-test(just omics and binary columns for tumors)\n",
    "    tumors = omics_and_mutations.loc[omics_and_mutations['Sample_Status'] == 'Tumor']\n",
    "    columns_to_drop = [gene+\"_Mutation\", gene+\"_Location\", gene+\"_Mutation_Status\", \"Sample_Status\"]\n",
    "    ov_omics_binary_mutations = tumors.drop(columns_to_drop, axis = 1)\n",
    "\n",
    "    # Make a list of the column label of omics to be used in the wrap_ttest function\n",
    "    omics_col_list = [ov_omics_binary_mutations.columns[0]] \n",
    "\n",
    "    # Step 4 - T-test comparing means of mutated vs wildtype effect on cis omics\n",
    "    print(\"Doing t-test comparison\\n\")\n",
    "    significant_pval_results = al.wrap_ttest(ov_omics_binary_mutations, 'binary_mutations', omics_col_list)\n",
    "    print(significant_pval_results)\n",
    "    \n",
    "    # Step 5 - Visualize comparison\n",
    "    ov_cis_boxplot = sns.boxplot(data = ov_omics_binary_mutations, x = \"binary_mutations\",\n",
    "                              y = gene+\"_proteomics\", order = [\"Wildtype\",\"Mutated\"])  \n",
    "    ov_cis_boxplot.set_title(gene + \" effect on \" + omics.name + \" abundance\")\n",
    "    ov_cis_boxplot = sns.stripplot(\n",
    "        data = ov_omics_binary_mutations, x = \"binary_mutations\",y = gene+\"_proteomics\", \n",
    "        jitter = True, color = \".3\", order = [\"Wildtype\",\"Mutated\"])\n",
    "    ov_cis_boxplot.set(xlabel = gene + \" Mutation Status in Tumors\", ylabel = \"Proteomics\")\n",
    "    plt.show()\n",
    "\n"
   ]
  },
  {
   "cell_type": "code",
   "execution_count": null,
   "metadata": {},
   "outputs": [],
   "source": []
  }
 ],
 "metadata": {
  "kernelspec": {
   "display_name": "Python 3",
   "language": "python",
   "name": "python3"
  },
  "language_info": {
   "codemirror_mode": {
    "name": "ipython",
    "version": 3
   },
   "file_extension": ".py",
   "mimetype": "text/x-python",
   "name": "python",
   "nbconvert_exporter": "python",
   "pygments_lexer": "ipython3",
   "version": "3.7.3"
  }
 },
 "nbformat": 4,
 "nbformat_minor": 2
}
