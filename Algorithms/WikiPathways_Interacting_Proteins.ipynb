{
 "cells": [
  {
   "cell_type": "code",
   "execution_count": 16,
   "metadata": {},
   "outputs": [
    {
     "name": "stdout",
     "output_type": "stream",
     "text": [
      "Collecting cptac\n",
      "\u001b[?25l  Downloading https://files.pythonhosted.org/packages/00/ce/a0766d558f651af95b59b1219e1f211301340179a35b2ed8d56da68c802a/cptac-0.6.4-py3-none-any.whl (4.9MB)\n",
      "\u001b[K     |████████████████████████████████| 4.9MB 1.6MB/s eta 0:00:01\n",
      "\u001b[?25hRequirement already satisfied: beautifulsoup4>=4.7.1 in /Users/coribushman/anaconda3/envs/Research/lib/python3.7/site-packages (from cptac) (4.8.0)\n",
      "Requirement already satisfied: pandas==0.25.* in /Users/coribushman/anaconda3/envs/Research/lib/python3.7/site-packages (from cptac) (0.25.1)\n",
      "Requirement already satisfied: urllib3>=1.24.2 in /Users/coribushman/anaconda3/envs/Research/lib/python3.7/site-packages (from cptac) (1.24.2)\n",
      "Requirement already satisfied: scipy>=1.2.1 in /Users/coribushman/anaconda3/envs/Research/lib/python3.7/site-packages (from cptac) (1.3.1)\n",
      "Requirement already satisfied: numpy>=1.16.3 in /Users/coribushman/anaconda3/envs/Research/lib/python3.7/site-packages (from cptac) (1.16.4)\n",
      "Requirement already satisfied: requests>=2.21.0 in /Users/coribushman/anaconda3/envs/Research/lib/python3.7/site-packages (from cptac) (2.22.0)\n",
      "Requirement already satisfied: soupsieve>=1.2 in /Users/coribushman/anaconda3/envs/Research/lib/python3.7/site-packages (from beautifulsoup4>=4.7.1->cptac) (1.9.2)\n",
      "Requirement already satisfied: python-dateutil>=2.6.1 in /Users/coribushman/anaconda3/envs/Research/lib/python3.7/site-packages (from pandas==0.25.*->cptac) (2.8.0)\n",
      "Requirement already satisfied: pytz>=2017.2 in /Users/coribushman/anaconda3/envs/Research/lib/python3.7/site-packages (from pandas==0.25.*->cptac) (2019.2)\n",
      "Requirement already satisfied: chardet<3.1.0,>=3.0.2 in /Users/coribushman/anaconda3/envs/Research/lib/python3.7/site-packages (from requests>=2.21.0->cptac) (3.0.4)\n",
      "Requirement already satisfied: idna<2.9,>=2.5 in /Users/coribushman/anaconda3/envs/Research/lib/python3.7/site-packages (from requests>=2.21.0->cptac) (2.8)\n",
      "Requirement already satisfied: certifi>=2017.4.17 in /Users/coribushman/anaconda3/envs/Research/lib/python3.7/site-packages (from requests>=2.21.0->cptac) (2019.6.16)\n",
      "Requirement already satisfied: six>=1.5 in /Users/coribushman/anaconda3/envs/Research/lib/python3.7/site-packages (from python-dateutil>=2.6.1->pandas==0.25.*->cptac) (1.12.0)\n",
      "Installing collected packages: cptac\n",
      "Successfully installed cptac-0.6.4\n",
      "Note: you may need to restart the kernel to use updated packages.\n"
     ]
    }
   ],
   "source": [
    "pip install cptac"
   ]
  },
  {
   "cell_type": "code",
   "execution_count": 38,
   "metadata": {},
   "outputs": [],
   "source": [
    "import pandas as pd\n",
    "import numpy as np\n",
    "import re\n",
    "import sys\n",
    "import operator\n",
    "import collections\n",
    "import os\n",
    "import cptac\n",
    "from datetime import date"
   ]
  },
  {
   "cell_type": "code",
   "execution_count": 39,
   "metadata": {
    "scrolled": true
   },
   "outputs": [],
   "source": [
    "#size=-1 to get all genes, but takes a long time\n",
    "#if statements might need to be added in case keys not in dict when parsing\n",
    "\n",
    "#this function will query wikipathways for all interactions of a given gene for the Homo Sapiens species\n",
    "#some interactions won't be genes\n",
    "\n",
    "import urllib3\n",
    "import json\n",
    "\n",
    "def findInteractions(geneName): #retuns list of interacting elements\n",
    "    interactionList = []\n",
    "    \n",
    "    try:\n",
    "        requestURL = \"http://webservice.wikipathways.org/findInteractions?query=\" + geneName + \"&format=json\" \n",
    "        http = urllib3.PoolManager()\n",
    "        response = http.request('GET', requestURL)\n",
    "\n",
    "        if response.status == 200: #if success, get data from API response\n",
    "            responseData = response.data\n",
    "            #print(type(responseData))\n",
    "            responseDataDict = json.loads(responseData)\n",
    "            #print(responseDataDict)\n",
    "            resultList = list(responseDataDict.values())\n",
    "            interactionsList = resultList[0]\n",
    "\n",
    "            for interactionDict in interactionsList:\n",
    "\n",
    "                if interactionDict[\"species\"] == \"Homo sapiens\":\n",
    "                    rightValuesList = interactionDict[\"fields\"][\"right\"][\"values\"]\n",
    "                    for value in rightValuesList:\n",
    "                        if (value not in interactionList) and (geneName.casefold() not in value.casefold()):\n",
    "                            interactionList.append(value)\n",
    "\n",
    "                    leftValuesList = interactionDict[\"fields\"][\"left\"][\"values\"]\n",
    "                    for value in leftValuesList:\n",
    "                        if (value not in interactionList) and (geneName.casefold() not in value.casefold()):\n",
    "                            interactionList.append(value)\n",
    "                else:\n",
    "                    continue       \n",
    "        else:\n",
    "            print(\"Something went wrong with the response status\")\n",
    "\n",
    "        return interactionList\n",
    "    except:\n",
    "        print(\"There was a problem getting a response from the WikiPathways API\")"
   ]
  },
  {
   "cell_type": "code",
   "execution_count": 40,
   "metadata": {},
   "outputs": [],
   "source": [
    "#function to split each item with a newline into two items\n",
    "\n",
    "#fix if genes are in parenthesis\n",
    "\n",
    "def fixParsingErrors(interactingList):\n",
    "    newlineFreeList = []\n",
    "    for item in interactingList:\n",
    "        item = item.strip()\n",
    "        if \"\\n\" in item:\n",
    "            nList = item.split(\"\\n\")\n",
    "            for n in nList:\n",
    "                newlineFreeList.append(n)\n",
    "        elif \"\\t\" in item:\n",
    "            tList = item.split(\"\\t\")\n",
    "            for t in tList:\n",
    "                newlineFreeList.append(t)\n",
    "        elif item.startswith(\"(\") and item.endswith(\")\"):\n",
    "            item = item[1:(len(item) - 1)]\n",
    "            print(\"HERE\")\n",
    "            newlineFreeList.append(item)\n",
    "        else:\n",
    "            newlineFreeList.append(item)\n",
    "    return set(newlineFreeList)"
   ]
  },
  {
   "cell_type": "code",
   "execution_count": 41,
   "metadata": {
    "scrolled": false
   },
   "outputs": [],
   "source": [
    "def getUniprotGeneList():\n",
    "    filePath = '/Users/coribushman/github/cptac/cptac/utils/Uniprot_Proteome.tsv'\n",
    "    bioplex_interactions = pd.read_csv(filePath, sep='\\t')\n",
    "    uniprotList = []\n",
    "    for ind, row in bioplex_interactions.iterrows():\n",
    "        prots = str(row['Gene names'])\n",
    "        #print(prots)\n",
    "        prot_arr = prots.split(' ')\n",
    "        #print(prot_arr)\n",
    "        for prot in prot_arr:\n",
    "            if prot not in uniprotList:\n",
    "                uniprotList.append(prot)\n",
    "    return uniprotList"
   ]
  },
  {
   "cell_type": "code",
   "execution_count": 46,
   "metadata": {},
   "outputs": [],
   "source": [
    "def intersectWithUniprot(interactingGenes):\n",
    "    #get uniprot genes from file\n",
    "    uniprotGenes = getUniprotGeneList()\n",
    "    \n",
    "    #intersect\n",
    "    geneSet = set(interactingGenes)\n",
    "    uniprotSet = set(uniprotGenes)   #convert to set\n",
    "    intersectSet = geneSet.intersection(uniprotSet)\n",
    "    \n",
    "    today = date.today()\n",
    "    todayDate = today.strftime(\"%m/%d/%y\")\n",
    "    \n",
    "    print(\"WikiPathways Interacting Proteins as of \" + str(todayDate))\n",
    "    return intersectSet"
   ]
  },
  {
   "cell_type": "code",
   "execution_count": 47,
   "metadata": {},
   "outputs": [
    {
     "name": "stdout",
     "output_type": "stream",
     "text": [
      "WikiPathways Interacting Proteins as of 10/25/19\n",
      "{'NOXA1', 'SIRT1', 'CHK1', 'PTEN', 'ATR', 'EP300', 'IL2', 'MDM2', 'CCND1', 'CDKN1A', 'HIPK2', 'DCAKD', 'PRKDC', 'SFN', 'PIAS1', 'RELA', 'SIAH1', 'GADD45A', 'HDAC1', 'ATM', 'CHK2', 'CBP', 'BRCA1', 'MDM4', 'CSNK1D', 'IL6', 'PML', 'AURKA', 'FADD', 'PUMA'}\n"
     ]
    }
   ],
   "source": [
    "wikiPathwaysInterGenes = findInteractions(\"p53\")\n",
    "filteredInterGenes = fixParsingErrors(wikiPathwaysInterGenes)\n",
    "finalGeneSet = intersectWithUniprot(filteredInterGenes)\n",
    "print(finalGeneSet)"
   ]
  },
  {
   "cell_type": "markdown",
   "metadata": {},
   "source": [
    "OLD FUNCTIONS"
   ]
  },
  {
   "cell_type": "code",
   "execution_count": 7,
   "metadata": {},
   "outputs": [],
   "source": [
    "#METHOD 2: GO THROUGH EACH GENE IN MY UNFILTERED LIST AND SEE IF IT IS IN UNIPROT\n",
    "        \n",
    "import certifi\n",
    "import json\n",
    "import urllib3\n",
    "#import requests, sys\n",
    "\n",
    "def geneInUniprot(geneName):  #pass in the interacting list from findInteractions\n",
    "    try:\n",
    "        requestURL = \"https://www.ebi.ac.uk/proteins/api/proteins?offset=0&size=-1&gene=\" + geneName + \"&organism=homo%20sapiens&format=json\"\n",
    "        http = urllib3.PoolManager(cert_reqs='CERT_REQUIRED', ca_certs=certifi.where())\n",
    "        response = http.request('GET', requestURL)\n",
    "    except:\n",
    "        return \"n\"\n",
    "\n",
    "    if response.status == 200: #if success, get data from API response\n",
    "        responseData = response.data\n",
    "        responseDataList = json.loads(responseData)\n",
    "        \n",
    "        \n",
    "        \n",
    "        if (len(responseDataList) != 0) and (\"accession\" in responseDataList[0].keys()) and (geneName != \"DNA\"):\n",
    "            return geneName\n",
    "        else:\n",
    "            return \"n\"\n",
    "    else:\n",
    "        #print(\"Something went wrong with the response status\")\n",
    "        return \"n\"\n",
    "        \n",
    "#p = geneInUniprot(\"TP53\")\n",
    "#print(p)"
   ]
  },
  {
   "cell_type": "code",
   "execution_count": 8,
   "metadata": {},
   "outputs": [],
   "source": [
    "#NEW\n",
    "#REMOVE DNA LATER\n",
    "\n",
    "import certifi\n",
    "import json\n",
    "import urllib3\n",
    "#import requests, sys\n",
    "\n",
    "def geneInUniprotNew(geneList):  #pass in the interacting list from findInteractions\n",
    "    try:\n",
    "        requestURL = \"https://www.ebi.ac.uk/proteins/api/proteins?offset=0&size=-1&exact_gene=\" + geneList + \"&organism=homo%20sapiens&format=json\"\n",
    "        http = urllib3.PoolManager(cert_reqs='CERT_REQUIRED', ca_certs=certifi.where())\n",
    "        response = http.request('GET', requestURL)\n",
    "    except:\n",
    "        return [\"API request didn't work\"]\n",
    "\n",
    "    if response.status == 200: #if success, get data from API response\n",
    "        responseData = response.data\n",
    "        responseDataList = json.loads(responseData)\n",
    "        \n",
    "        filteredList = []\n",
    "        for data in responseDataList:\n",
    "            filteredList.append(data[\"gene\"][0][\"name\"][\"value\"])\n",
    "            #if \"accession\" in data.keys():\n",
    "                #filteredList.append(data[\"gene\"][\"name\"][\"value\"])\n",
    "                \n",
    "        filteredSet = set(filteredList)\n",
    "        #print(\"geneList: \" + geneList)\n",
    "        #print(\"filteredSet: \" + str(filteredSet))\n",
    "        return filteredSet\n",
    "        \n",
    "    else:\n",
    "        #print(\"Something went wrong with the response status\")\n",
    "        return [\"response status is not 200\"]"
   ]
  },
  {
   "cell_type": "code",
   "execution_count": 9,
   "metadata": {},
   "outputs": [
    {
     "name": "stdout",
     "output_type": "stream",
     "text": [
      "['Ubiquitin-mediated', 'degradation', 'SNAI2', 'Calcium', 'Substrate &eacute;', 'ATM', 'ATR', 'BLM', 'CDC25C', 'MDM2', 'del17p', '', 'MIR15A', 'MIR16-1', 'Chk2', 'DNA', 'CREBBP', 'ARF', '(CDKN2A)', 'MTA2', 'Accumulation DNA damage', 'SREBF1', 'Nuclear abnormalities', 'RCHY1', 'DNA damage', 'DNA Damage', 'MYC', 'HMGB1', 'APC', 'TGFB', 'OTUD5', 'RFC4', 'CTNNB1', 'SNURF', 'PLAC8', 'CHEK2', 'Hypoxia', 'nitric oxide', 'TP73 Delta Np73', 'SUMO-1', 'OTX2', 'TNFSF10', 'MAPK14', 'MAPK13', 'MAPK12', 'MAPK11', 'Chk1', 'UCHL1', 'MEG3', 'P85A_HUMAN', 'CDC42', 'CAPN1', 'CAPN2', 'MIR1285-2', 'GRIN1', 'RHOC', 'RHOA', 'ROCK2', 'RHOB', 'cenersen sodium', 'PRKAB1', 'PRKAG1', 'PRKAA1', 'IFI16', 'GSK3B', 'ING1', 'BCL2', 'ROS', 'EP300', 'MDM4', 'p14 ARF ', '(CDKN2A)', 'HPV E6', 'PCNA', 'MIR34B', 'MIR34A', 'MIR34C', 'Senescence', 'p21', 'Apoptosis', 'Cyclin B', 'CDK1', 'GADD45A', 'p53 pathway', 'BAX', 'CDKN1A', 'GADD45G', 'BAK1', 'POLK', 'DDB2', 'GADD45B', 'uc339', '(Entraper1)', 'NANOG', 'hsa-mir-143/145 cluster', 'hsa-mir-34b/34c cluster', 'PMAIP1', 'BBC3', 'BOK', 'THBS1', 'BCL2L11', 'CDKN1C', 'CDKN1B', 'Ubiquitin-mediated', 'proteasome degradation', 'ATAD2', 'RAD17', 'UBE2T', 'COL9A3', 'COL9A1', 'MTDH', 'LBR', 'EGFR', 'RFC3', 'UBE2C', 'FANCI', 'CEBPZ', 'RNF144B', 'S100A6', 'Grown arrest and apoptosis', 'G1/S transition of mitotic cell cycle', 'Increase in ', 'proliferation', 'PIDD', 'CDK5R1', 'Neuron death', 'SLC11A2', 'Cell Survival', 'ING2', 'GAD45A', 'SERPINE1', 'SESN1', 'RRM2B', 'FAS', 'TNFRSF10B', 'DNA damage ATM dependent', 'CCNB3', 'CCNB2', 'CCNB1', 'SFN', 'hsa-mir-143/145', 'hsa-mir-34b/34c', 'miR-143/145 polycistron', 'G2/M Arrest', 'p53 signaling pathway', 'SAT2', 'SAT1', 'CASP8', 'SESN2', 'DDIT4', 'Proliferation', 'Differentiation', 'CDC2', 'ATF2', 'ELK1', 'p38', 'MAPK8', 'JNK', 'MAPK9', 'MAPK10', 'Bcl-xl', 'Cell proliferation', 'Pro-apoptosis', 'BMF', 'BID', 'Apoptosis', 'BNIP3L', 'BNIP3', 'HIF1A', 'ARNT', 'RB1', 'HBEGF', 'CCNA2', 'CDKN2A', 'CCNE1', 'BCL3', 'FASLG', 'FGF7', 'BCL2L1', 'CCND1', 'JUN']\n",
      "inputStr: Ubiquitin-mediated,degradation,SNAI2,Calcium,Substrate &eacute;,ATM,ATR,BLM,CDC25C,MDM2,del17p,,MIR15A,MIR16-1,Chk2,DNA,CREBBP,ARF,(CDKN2A),MTA2\n",
      "inputStr: Accumulation DNA damage,SREBF1,Nuclear abnormalities,RCHY1,DNA damage,DNA Damage,MYC,HMGB1,APC,TGFB,OTUD5,RFC4,CTNNB1,SNURF,PLAC8,CHEK2,Hypoxia,nitric oxide,TP73 Delta Np73,SUMO-1\n",
      "inputStr: OTX2,TNFSF10,MAPK14,MAPK13,MAPK12,MAPK11,Chk1,UCHL1,MEG3,P85A_HUMAN,CDC42,CAPN1,CAPN2,MIR1285-2,GRIN1,RHOC,RHOA,ROCK2,RHOB,cenersen sodium\n",
      "inputStr: PRKAB1,PRKAG1,PRKAA1,IFI16,GSK3B,ING1,BCL2,ROS,EP300,MDM4,p14 ARF ,(CDKN2A),HPV E6,PCNA,MIR34B,MIR34A,MIR34C,Senescence,p21,Apoptosis\n",
      "inputStr: Cyclin B,CDK1,GADD45A,p53 pathway,BAX,CDKN1A,GADD45G,BAK1,POLK,DDB2,GADD45B,uc339,(Entraper1),NANOG,hsa-mir-143/145 cluster,hsa-mir-34b/34c cluster,PMAIP1,BBC3,BOK,THBS1\n",
      "inputStr: BCL2L11,CDKN1C,CDKN1B,Ubiquitin-mediated,proteasome degradation,ATAD2,RAD17,UBE2T,COL9A3,COL9A1,MTDH,LBR,EGFR,RFC3,UBE2C,FANCI,CEBPZ,RNF144B,S100A6,Grown arrest and apoptosis\n",
      "inputStr: G1/S transition of mitotic cell cycle,Increase in ,proliferation,PIDD,CDK5R1,Neuron death,SLC11A2,Cell Survival,ING2,GAD45A,SERPINE1,SESN1,RRM2B,FAS,TNFRSF10B,DNA damage ATM dependent,CCNB3,CCNB2,CCNB1,SFN\n",
      "inputStr: hsa-mir-143/145,hsa-mir-34b/34c,miR-143/145 polycistron,G2/M Arrest,p53 signaling pathway,SAT2,SAT1,CASP8,SESN2,DDIT4,Proliferation,Differentiation,CDC2,ATF2,ELK1,p38,MAPK8,JNK,MAPK9,MAPK10\n",
      "inputStr: Bcl-xl,Cell proliferation,Pro-apoptosis,BMF,BID,Apoptosis,BNIP3L,BNIP3,HIF1A,ARNT,RB1,HBEGF,CCNA2,CDKN2A,CCNE1,BCL3,FASLG,FGF7,BCL2L1,CCND1\n",
      "[\"API request didn't work\", \"API request didn't work\", \"API request didn't work\", \"API request didn't work\", \"API request didn't work\", \"API request didn't work\", \"API request didn't work\", \"API request didn't work\", \"API request didn't work\", 'JUN']\n",
      "--- 31.514771938323975 seconds ---\n"
     ]
    }
   ],
   "source": [
    "import time\n",
    "start_time = time.time()\n",
    "\n",
    "interactingList = findInteractions(\"TP53\")\n",
    "\n",
    "fixedInteractingList = fixNewlines(interactingList)\n",
    "#print(sorted(fixedInteractingList))\n",
    "#print(\"----------------------------------------------------------------\")\n",
    "\n",
    "goodList = []    \n",
    "listForFunct = []\n",
    "print(fixedInteractingList)\n",
    "\n",
    "for gene in fixedInteractingList:\n",
    "    listForFunct.append(gene)\n",
    "    if len(listForFunct) == 20:\n",
    "        inputStr = \",\".join(listForFunct)\n",
    "        print(\"inputStr: \" + inputStr)\n",
    "        goodList += (geneInUniprotNew(inputStr))\n",
    "        listForFunct = []\n",
    "\n",
    "if len(listForFunct) > 0:\n",
    "    inputStr = \",\".join(listForFunct)\n",
    "    goodList += (geneInUniprotNew(inputStr))\n",
    "\n",
    "print(goodList)\n",
    "\n",
    "print(\"--- %s seconds ---\" % (time.time() - start_time))"
   ]
  },
  {
   "cell_type": "code",
   "execution_count": 110,
   "metadata": {
    "scrolled": true
   },
   "outputs": [
    {
     "name": "stdout",
     "output_type": "stream",
     "text": [
      "123\n",
      "['SNAI2', 'ATM', 'ATR', 'BLM', 'CDC25C', 'MDM2', 'Chk2', 'CREBBP', 'ARF', 'MTA2', 'SREBF1', 'RCHY1', 'MYC', 'HMGB1', 'APC', 'TGFB', 'OTUD5', 'RFC4', 'CTNNB1', 'SNURF', 'PLAC8', 'CHEK2', 'OTX2', 'TNFSF10', 'MAPK14', 'MAPK13', 'MAPK12', 'MAPK11', 'Chk1', 'UCHL1', 'CDC42', 'CAPN1', 'CAPN2', 'GRIN1', 'RHOC', 'RHOA', 'ROCK2', 'RHOB', 'PRKAB1', 'PRKAG1', 'PRKAA1', 'IFI16', 'GSK3B', 'ING1', 'BCL2', 'ROS', 'EP300', 'MDM4', 'PCNA', 'CDK1', 'GADD45A', 'BAX', 'CDKN1A', 'GADD45G', 'BAK1', 'POLK', 'DDB2', 'GADD45B', 'NANOG', 'PMAIP1', 'BBC3', 'BOK', 'THBS1', 'BCL2L11', 'CDKN1C', 'CDKN1B', 'ATAD2', 'RAD17', 'UBE2T', 'COL9A3', 'COL9A1', 'MTDH', 'LBR', 'EGFR', 'RFC3', 'UBE2C', 'FANCI', 'CEBPZ', 'RNF144B', 'S100A6', 'PIDD', 'CDK5R1', 'SLC11A2', 'ING2', 'SERPINE1', 'SESN1', 'RRM2B', 'FAS', 'TNFRSF10B', 'CCNB3', 'CCNB2', 'CCNB1', 'SFN', 'SAT2', 'SAT1', 'CASP8', 'SESN2', 'DDIT4', 'CDC2', 'ATF2', 'ELK1', 'p38', 'MAPK8', 'JNK', 'MAPK9', 'MAPK10', 'BMF', 'BID', 'BNIP3L', 'BNIP3', 'HIF1A', 'ARNT', 'RB1', 'HBEGF', 'CCNA2', 'CDKN2A', 'CCNE1', 'BCL3', 'FASLG', 'FGF7', 'BCL2L1', 'CCND1', 'JUN']\n",
      "--- 398.3327190876007 minutes ---\n"
     ]
    }
   ],
   "source": [
    "#Method 2: check individually if each gene in interacting list is a uniprot gene\n",
    "#FASTER\n",
    "\n",
    "import time\n",
    "start_time = time.time()\n",
    "\n",
    "interactingList = findInteractions(\"TP53\")\n",
    "\n",
    "#filteredGenes = [geneInUniprot(x) for x in interactingList if geneInUniprot(x) != \"n\"]\n",
    "\n",
    "fixedInteractingList = fixNewlines(interactingList)\n",
    "\n",
    "filteredGenes = []\n",
    "for gene in fixedInteractingList:\n",
    "    if geneInUniprot(gene) != \"n\":\n",
    "        filteredGenes.append(gene)\n",
    "print(len(filteredGenes))\n",
    "print(filteredGenes)\n",
    "\n",
    "print(\"--- %s seconds ---\" % ((time.time() - start_time)))"
   ]
  },
  {
   "cell_type": "code",
   "execution_count": 5,
   "metadata": {},
   "outputs": [],
   "source": [
    "#this function will filter out all interactions that aren't proteins in UNIPROT\n",
    "#DON'T DO THIS, TAKES TOOO LONG\n",
    "import certifi\n",
    "import json\n",
    "import urllib3\n",
    "#import requests, sys\n",
    "\n",
    "def filterInteractionList(interactionList):  #pass in the interacting list from findInteractions\n",
    "    geneInteractionsUNIPROT = []\n",
    "    filteredGenes = []\n",
    "    try:\n",
    "        #requestURL = \"https://www.ebi.ac.uk/proteins/api/proteins?\"\n",
    "        requestURL = \"https://www.ebi.ac.uk/proteins/api/proteins?offset=0&size=-1&organism=homo%20sapiens&format=json\"\n",
    "        #response = requests.get(requestURL)\n",
    "        http = urllib3.PoolManager(cert_reqs='CERT_REQUIRED', ca_certs=certifi.where())\n",
    "        print(\"1\")\n",
    "        response = http.request('GET', requestURL)\n",
    "        print(\"2\")\n",
    "    except:\n",
    "        print(\"There was a problem getting a response from the UNIPROT API\")\n",
    "        return\n",
    "\n",
    "    if response.status == 200: #if success, get data from API response\n",
    "\n",
    "        responseData = response.data\n",
    "        responseDataList = json.loads(responseData)\n",
    "        #print(\"num total genes: \" + str(len(responseDataList)))\n",
    "        for accessionDict in responseDataList:\n",
    "            if \"gene\" in accessionDict.keys():\n",
    "                aList = accessionDict[\"gene\"]\n",
    "                for aDict in aList:\n",
    "                    if (\"name\" in aDict.keys()) and (\"value\" in aDict[\"name\"]):\n",
    "                        aGene = aDict[\"name\"][\"value\"]\n",
    "                        if aGene not in geneInteractionsUNIPROT:\n",
    "                            geneInteractionsUNIPROT.append(aGene)\n",
    "        for gene in interactionList:\n",
    "            if gene in geneInteractionsUNIPROT:\n",
    "                filteredGenes.append(gene)\n",
    "        return filteredGenes\n",
    "    else:\n",
    "        print(\"Something went wrong with the response status\")"
   ]
  },
  {
   "cell_type": "code",
   "execution_count": 6,
   "metadata": {},
   "outputs": [
    {
     "name": "stdout",
     "output_type": "stream",
     "text": [
      "1\n",
      "There was a problem getting a response from the UNIPROT API\n",
      "None\n"
     ]
    }
   ],
   "source": [
    "#Method 1: get a list of all uniprot genes and intersect them with interacting genes to filter out non-genes\n",
    "#time it\n",
    "#save uniprot proteins to a file and put it in cptac\n",
    "interactingList = findInteractions(\"TP53\")\n",
    "fixedInteractingList = fixNewlines(interactingList)\n",
    "finalGeneList = filterInteractionList(fixedInteractingList)\n",
    "#print(len(finalGeneList))\n",
    "print(finalGeneList)"
   ]
  },
  {
   "cell_type": "markdown",
   "metadata": {},
   "source": [
    "Wiki Pathways: query for interacting genes given one gene"
   ]
  },
  {
   "cell_type": "code",
   "execution_count": 35,
   "metadata": {},
   "outputs": [
    {
     "name": "stdout",
     "output_type": "stream",
     "text": [
      "1\n",
      "2\n"
     ]
    }
   ],
   "source": [
    "import certifi\n",
    "import json\n",
    "import urllib3\n",
    "#import requests, sys\n",
    "\n",
    "def tryMe():\n",
    "    try:\n",
    "        requestURL = \"https://www.uniprot.org/uniprot/?query=homo%20sapiens&columns=id%2Centry%20name%2Creviewed%2Cprotein%20names%2Cgenes%2Corganism%2Clength&sort=score&format=json\"\n",
    "        http = urllib3.PoolManager(cert_reqs='CERT_REQUIRED', ca_certs=certifi.where())\n",
    "        print(\"1\")\n",
    "        response = http.request('GET', requestURL)\n",
    "        print(\"2\")\n",
    "    except:\n",
    "        print(\"There was a problem getting a response from the UNIPROT API\")\n",
    "        return\n",
    "    if response.status == 200:\n",
    "        responseData = response.data\n",
    "        responseDataList = json.loads(responseData)\n",
    "        print(str(reponseDataList))\n",
    "        \n",
    "tryMe()"
   ]
  },
  {
   "cell_type": "code",
   "execution_count": null,
   "metadata": {},
   "outputs": [],
   "source": []
  }
 ],
 "metadata": {
  "kernelspec": {
   "display_name": "Python 3",
   "language": "python",
   "name": "python3"
  },
  "language_info": {
   "codemirror_mode": {
    "name": "ipython",
    "version": 3
   },
   "file_extension": ".py",
   "mimetype": "text/x-python",
   "name": "python",
   "nbconvert_exporter": "python",
   "pygments_lexer": "ipython3",
   "version": "3.7.4"
  }
 },
 "nbformat": 4,
 "nbformat_minor": 2
}
