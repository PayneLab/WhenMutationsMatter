{
 "cells": [
  {
   "cell_type": "code",
   "execution_count": 17,
   "metadata": {
    "scrolled": true
   },
   "outputs": [],
   "source": [
    "#size=-1 to get all genes, but takes a long time\n",
    "#if statements might need to be added in case keys not in dict when parsing\n",
    "\n",
    "#this function will query wikipathways for all interactions of a given gene for the Homo Sapiens species\n",
    "#some interactions won't be genes\n",
    "\n",
    "import urllib3\n",
    "import json\n",
    "\n",
    "def findInteractions(geneName): #retuns list of interacting elements\n",
    "    interactionList = []\n",
    "    \n",
    "    try:\n",
    "        requestURL = \"http://webservice.wikipathways.org/findInteractions?query=\" + geneName + \"&format=json\" \n",
    "        http = urllib3.PoolManager()\n",
    "        response = http.request('GET', requestURL)\n",
    "\n",
    "        if response.status == 200: #if success, get data from API response\n",
    "            responseData = response.data\n",
    "            #print(type(responseData))\n",
    "            responseDataDict = json.loads(responseData)\n",
    "            #print(responseDataDict)\n",
    "            resultList = list(responseDataDict.values())\n",
    "            interactionsList = resultList[0]\n",
    "\n",
    "            for interactionDict in interactionsList:\n",
    "\n",
    "                if interactionDict[\"species\"] == \"Homo sapiens\":\n",
    "                    rightValuesList = interactionDict[\"fields\"][\"right\"][\"values\"]\n",
    "                    for value in rightValuesList:\n",
    "                        if (value not in interactionList) and (geneName.casefold() not in value.casefold()):\n",
    "                            interactionList.append(value)\n",
    "\n",
    "                    leftValuesList = interactionDict[\"fields\"][\"left\"][\"values\"]\n",
    "                    for value in leftValuesList:\n",
    "                        if (value not in interactionList) and (geneName.casefold() not in value.casefold()):\n",
    "                            interactionList.append(value)\n",
    "                else:\n",
    "                    continue       \n",
    "        else:\n",
    "            print(\"Something went wrong with the response status\")\n",
    "\n",
    "        return interactionList\n",
    "    except:\n",
    "        print(\"There was a problem getting a response from the WikiPathways API\")\n",
    "        \n"
   ]
  },
  {
   "cell_type": "code",
   "execution_count": 18,
   "metadata": {},
   "outputs": [],
   "source": [
    "#function to split each item with a newline into two items\n",
    "\n",
    "def fixNewlines(interactingList):\n",
    "    newlineFreeList = []\n",
    "    for item in interactingList:\n",
    "        if \"\\n\" in item:\n",
    "            nList = item.split(\"\\n\")\n",
    "            for n in nList:\n",
    "                newlineFreeList.append(n)\n",
    "        elif \"\\t\" in item:\n",
    "            tList = item.split(\"\\t\")\n",
    "            for t in tList:\n",
    "                newlineFreeList.append(t)\n",
    "        else:\n",
    "            newlineFreeList.append(item)\n",
    "    return newlineFreeList"
   ]
  },
  {
   "cell_type": "code",
   "execution_count": 19,
   "metadata": {},
   "outputs": [],
   "source": [
    "#METHOD 2: GO THROUGH EACH GENE IN MY UNFILTERED LIST AND SEE IF IT IS IN UNIPROT\n",
    "        \n",
    "import certifi\n",
    "import json\n",
    "import urllib3\n",
    "#import requests, sys\n",
    "\n",
    "def geneInUniprot(geneName):  #pass in the interacting list from findInteractions\n",
    "    try:\n",
    "        requestURL = \"https://www.ebi.ac.uk/proteins/api/proteins?offset=0&size=-1&gene=\" + geneName + \"&organism=homo%20sapiens&format=json\"\n",
    "        http = urllib3.PoolManager(cert_reqs='CERT_REQUIRED', ca_certs=certifi.where())\n",
    "        response = http.request('GET', requestURL)\n",
    "    except:\n",
    "        return \"n\"\n",
    "\n",
    "    if response.status == 200: #if success, get data from API response\n",
    "        responseData = response.data\n",
    "        responseDataList = json.loads(responseData)\n",
    "        if (len(responseDataList) != 0) and (\"accession\" in responseDataList[0].keys()) and (geneName != \"DNA\"):\n",
    "            return geneName\n",
    "        else:\n",
    "            return \"n\"\n",
    "    else:\n",
    "        #print(\"Something went wrong with the response status\")\n",
    "        return \"n\"\n",
    "        \n",
    "#p = geneInUniprot(\"TP53\")\n",
    "#print(p)"
   ]
  },
  {
   "cell_type": "code",
   "execution_count": 20,
   "metadata": {},
   "outputs": [
    {
     "name": "stdout",
     "output_type": "stream",
     "text": [
      "['APC', 'ARF', 'ARNT', 'ATAD2', 'ATF2', 'ATM', 'ATR', 'BAK1', 'BAX', 'BBC3', 'BCL2', 'BCL2L1', 'BCL2L11', 'BCL3', 'BID', 'BLM', 'BMF', 'BNIP3', 'BNIP3L', 'BOK', 'CAPN1', 'CAPN2', 'CASP8', 'CCNA2', 'CCNB1', 'CCNB2', 'CCNB3', 'CCND1', 'CCNE1', 'CDC2', 'CDC25C', 'CDC42', 'CDK1', 'CDK5R1', 'CDKN1A', 'CDKN1B', 'CDKN1C', 'CDKN2A', 'CEBPZ', 'CHEK2', 'COL9A1', 'COL9A3', 'CREBBP', 'CTNNB1', 'Chk1', 'Chk2', 'DDB2', 'DDIT4', 'EGFR', 'ELK1', 'EP300', 'FANCI', 'FAS', 'FASLG', 'FGF7', 'GADD45A', 'GADD45B', 'GADD45G', 'GRIN1', 'GSK3B', 'HBEGF', 'HIF1A', 'HMGB1', 'IFI16', 'ING1', 'ING2', 'JNK', 'JUN', 'LBR', 'MAPK10', 'MAPK11', 'MAPK12', 'MAPK13', 'MAPK14', 'MAPK8', 'MAPK9', 'MDM2', 'MDM4', 'MTA2', 'MTDH', 'MYC', 'NANOG', 'OTUD5', 'OTX2', 'PCNA', 'PIDD', 'PLAC8', 'PMAIP1', 'POLK', 'PRKAA1', 'PRKAB1', 'PRKAG1', 'RAD17', 'RB1', 'RCHY1', 'RFC3', 'RFC4', 'RHOA', 'RHOB', 'RHOC', 'RNF144B', 'ROCK2', 'ROS', 'RRM2B', 'S100A6', 'SAT1', 'SAT2', 'SERPINE1', 'SESN1', 'SESN2', 'SFN', 'SLC11A2', 'SNAI2', 'SNURF', 'SREBF1', 'TGFB', 'THBS1', 'TNFRSF10B', 'TNFSF10', 'UBE2C', 'UBE2T', 'UCHL1']\n",
      "--- 393.23676586151123 seconds ---\n"
     ]
    }
   ],
   "source": [
    "#Method 2: check individually if each gene in interacting list is a uniprot gene\n",
    "#FASTER\n",
    "\n",
    "import time\n",
    "start_time = time.time()\n",
    "\n",
    "interactingList = findInteractions(\"TP53\")\n",
    "\n",
    "#filteredGenes = [geneInUniprot(x) for x in interactingList if geneInUniprot(x) != \"n\"]\n",
    "\n",
    "fixedInteractingList = fixNewlines(interactingList)\n",
    "\n",
    "filteredGenes = []\n",
    "for gene in fixedInteractingList:\n",
    "    if geneInUniprot(gene) != \"n\":\n",
    "        filteredGenes.append(gene)\n",
    "print(sorted(filteredGenes))\n",
    "\n",
    "print(\"--- %s minutes ---\" % ((time.time() - start_time))/60)"
   ]
  },
  {
   "cell_type": "code",
   "execution_count": 21,
   "metadata": {},
   "outputs": [],
   "source": [
    "#this function will filter out all interactions that aren't proteins in UNIPROT\n",
    "\n",
    "import certifi\n",
    "import json\n",
    "import urllib3\n",
    "#import requests, sys\n",
    "\n",
    "def filterInteractionList(interactionList):  #pass in the interacting list from findInteractions\n",
    "    geneInteractionsUNIPROT = []\n",
    "    filteredGenes = []\n",
    "    try:\n",
    "        #requestURL = \"https://www.ebi.ac.uk/proteins/api/proteins?\"\n",
    "        requestURL = \"https://www.ebi.ac.uk/proteins/api/proteins?offset=0&size=-1&organism=Homo%20sapiens&format=json\"\n",
    "        #response = requests.get(requestURL)\n",
    "        http = urllib3.PoolManager(cert_reqs='CERT_REQUIRED', ca_certs=certifi.where())\n",
    "        response = http.request('GET', requestURL)\n",
    "    except:\n",
    "        print(\"There was a problem getting a response from the UNIPROT API\")\n",
    "        return\n",
    "\n",
    "    if response.status == 200: #if success, get data from API response\n",
    "\n",
    "        responseData = response.data\n",
    "        responseDataList = json.loads(responseData)\n",
    "        #print(\"num total genes: \" + str(len(responseDataList)))\n",
    "        for accessionDict in responseDataList:\n",
    "            if \"gene\" in accessionDict.keys():\n",
    "                aList = accessionDict[\"gene\"]\n",
    "                for aDict in aList:\n",
    "                    if (\"name\" in aDict.keys()) and (\"value\" in aDict[\"name\"]):\n",
    "                        aGene = aDict[\"name\"][\"value\"]\n",
    "                        if aGene not in geneInteractionsUNIPROT:\n",
    "                            geneInteractionsUNIPROT.append(aGene)\n",
    "        for gene in interactionList:\n",
    "            if gene in geneInteractionsUNIPROT:\n",
    "                filteredGenes.append(gene)\n",
    "        return filteredGenes\n",
    "    else:\n",
    "        print(\"Something went wrong with the response status\")"
   ]
  },
  {
   "cell_type": "code",
   "execution_count": null,
   "metadata": {},
   "outputs": [],
   "source": [
    "#Method 1: get a list of all uniprot genes and intersect them with interacting genes to filter out non-genes\n",
    "#SLOWER\n",
    "interactingList = findInteractions(\"TP53\")\n",
    "finalGeneList = filterInteractionList(interactingList)\n",
    "print(len(finalGeneList))\n",
    "print(finalGeneList)"
   ]
  },
  {
   "cell_type": "markdown",
   "metadata": {},
   "source": [
    "Wiki Pathways: query for interacting genes given one gene"
   ]
  }
 ],
 "metadata": {
  "kernelspec": {
   "display_name": "Python 3",
   "language": "python",
   "name": "python3"
  },
  "language_info": {
   "codemirror_mode": {
    "name": "ipython",
    "version": 3
   },
   "file_extension": ".py",
   "mimetype": "text/x-python",
   "name": "python",
   "nbconvert_exporter": "python",
   "pygments_lexer": "ipython3",
   "version": "3.7.4"
  }
 },
 "nbformat": 4,
 "nbformat_minor": 2
}
