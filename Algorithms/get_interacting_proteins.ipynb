{
 "cells": [
  {
   "cell_type": "code",
   "execution_count": 1,
   "metadata": {},
   "outputs": [
    {
     "name": "stdout",
     "output_type": "stream",
     "text": [
      "Welcome to the CPTAC data service package. Available datasets may be\n",
      "viewed using CPTAC.list_data(). In order to access a specific data\n",
      "set, import a CPTAC subfolder using either 'import CPTAC.Dataset' or\n",
      "'from CPTAC import Dataset'.\n",
      "******\n",
      "Version: 0.3.1\n",
      "******\n",
      "Loading Endometrial CPTAC data:\n",
      "Loading Dictionary...\n",
      "Loading Clinical Data...\n",
      "Loading Acetylation Proteomics Data...\n",
      "Loading Proteomics Data...\n",
      "Loading Transcriptomics Data...\n",
      "Loading CNA Data...\n",
      "Loading Phosphoproteomics Data...\n",
      "Loading Somatic Mutation Data...\n",
      "\n",
      " ******PLEASE READ******\n",
      "WARNING: This data is under a publication embargo until July 1, 2019.\n",
      "CPTAC is a community resource project and data are made available\n",
      "rapidly after generation for community research use. The embargo\n",
      "allows exploring and utilizing the data, but the data may not be in a\n",
      "publication until July 1, 2019. Please see\n",
      "https://proteomics.cancer.gov/data-portal/about/data-use-agreement or\n",
      "enter embargo() to open the webpage for more details.\n"
     ]
    }
   ],
   "source": [
    "import pandas as pd\n",
    "import numpy as np\n",
    "import scipy.stats\n",
    "from scipy.stats import pearsonr\n",
    "import matplotlib.pyplot as plt\n",
    "import re\n",
    "import seaborn as sns\n",
    "import statsmodels.stats.multitest\n",
    "import sys\n",
    "import urllib3\n",
    "import json\n",
    "import operator\n",
    "import collections\n",
    "\n",
    "import CPTAC.Endometrial as CPTAC"
   ]
  },
  {
   "cell_type": "code",
   "execution_count": 2,
   "metadata": {},
   "outputs": [],
   "source": [
    "'''\n",
    "@Param protein:\n",
    "    The name of the protein that you want to generate a list of interacting proteins for.\n",
    "\n",
    "@Param number (default=25):\n",
    "    The number of interacting proteins that you want to get.\n",
    "    \n",
    "@Return:\n",
    "    A list of proteins known by the String api to be interacting partners with the specified protein.\n",
    "    Returns None if specified protein isn't found in String database, or connection to String api fails.\n",
    "    \n",
    "    \n",
    "This method takes as a parameter the name of a protein. It then accesses the STRING database, through\n",
    "a call to their public API, and generates a list of proteins known to be interacting partners with the specified\n",
    "protein. Optional second parameter is number (which by default is 25), which specifies in the API call how many\n",
    "interacting partners to retrieve from the database. The list of interacting proteins is returned to the caller\n",
    "as a python list.\n",
    "'''\n",
    "\n",
    "def get_interacting_proteins_string(protein, number=25):\n",
    "    '''Use urllib3 to access the string database api, gather list of interacting proteins'''\n",
    "    urllib3.disable_warnings()\n",
    "    string_api_url = \"https://string-db.org/api\"\n",
    "    output_format = \"json\"\n",
    "    method = \"network\"\n",
    "\n",
    "    '''Use the specified gene and homo sapiens species code'''\n",
    "    my_protein = [protein]\n",
    "    species = \"9606\"\n",
    "\n",
    "    '''Format the api request to collect the appropriate information'''\n",
    "    request_url = string_api_url + \"/\" + output_format + \"/\" + method + \"?\"\n",
    "    request_url += \"identifiers=%s\" % \"%0d\".join(my_protein)\n",
    "    request_url += \"&\" + \"species=\" + species\n",
    "    request_url += \"&\" + \"limit=\" + str(number)\n",
    "\n",
    "    '''Send a request to the API, print the response status'''\n",
    "    try:\n",
    "        http = urllib3.PoolManager()\n",
    "        response = http.request('GET',request_url)\n",
    "        '''Catch exception if it fails while accessing the api'''\n",
    "    except urllib3.HTTPError as err:\n",
    "        error_message = err.read()\n",
    "        print(\"Error accessing STRING api, \" , error_message)\n",
    "        sys.exit()\n",
    "    \n",
    "    '''Get the data from the api response'''\n",
    "    interacting_proteins = []\n",
    "    if response.status == 200: \n",
    "        '''Get the data from the API's response'''\n",
    "        data = response.data\n",
    "        y = json.loads(data)\n",
    "\n",
    "        '''Make a list of the resulting interacting proteins'''\n",
    "        for entry in y:\n",
    "            if entry[\"preferredName_A\"] not in interacting_proteins:\n",
    "                interacting_proteins.append(entry[\"preferredName_A\"])\n",
    "            if entry[\"preferredName_B\"] not in interacting_proteins:\n",
    "                interacting_proteins.append(entry[\"preferredName_B\"])\n",
    "        \n",
    "        return interacting_proteins\n",
    "        \n",
    "        '''If we didnt get a successful response from the api, notify the caller and return None'''\n",
    "    else:\n",
    "        print(\"\\nSpecified gene was not found in String database, double check that you have it correctly!\")\n",
    "        return None"
   ]
  },
  {
   "cell_type": "code",
   "execution_count": null,
   "metadata": {},
   "outputs": [],
   "source": [
    "def get_iteracting_proteins_biogrid(gene_name, number=25):\n",
    "    '''Store interacting proteins in a list'''\n",
    "    interacting_proteins = []\n",
    "    urllib3.disable_warnings()\n",
    "    \n",
    "    '''Configure url for request'''\n",
    "    request_url = \"https://webservice.thebiogrid.org/interactions/?searchNames=true&excludeGenes=true&geneList=\" + gene_name +\"&includeInteractors=true&format=json&taxId=9606&start=0&max=\" + str(number) + \"&accesskey=0ff59dcf3511928e78aad499688381c9\"\n",
    "    try:\n",
    "        '''Send request, get response'''\n",
    "        http = urllib3.PoolManager()\n",
    "        response = http.request('GET',request_url)\n",
    "        \n",
    "        '''If response was successful'''\n",
    "        if response.status == 200: \n",
    "            '''Get the data from the API's response'''\n",
    "            data = response.data\n",
    "            y = json.loads(data)\n",
    "            \n",
    "            '''Add name of each protein to list of interacting proteins'''\n",
    "            for entry in y:\n",
    "                if y[entry]['OFFICIAL_SYMBOL_A'] not in interacting_proteins:\n",
    "                    interacting_proteins.append(y[entry]['OFFICIAL_SYMBOL_A'])\n",
    "            \n",
    "            '''Return this list to caller'''\n",
    "            return interacting_proteins\n",
    "        \n",
    "        else:\n",
    "            '''If response was not successful, notify caller of error, return None'''\n",
    "            print(\"Error accessing api!\")\n",
    "            return None\n",
    "        \n",
    "        '''Catch exception, notify caller of errorm return None'''\n",
    "    except Exception as err:\n",
    "        print(\"Error accessing api, \" , err)\n",
    "        return None"
   ]
  },
  {
   "cell_type": "markdown",
   "metadata": {},
   "source": [
    "## Test 1"
   ]
  },
  {
   "cell_type": "code",
   "execution_count": 3,
   "metadata": {},
   "outputs": [
    {
     "name": "stdout",
     "output_type": "stream",
     "text": [
      "['PDGFRB', 'PIK3R2', 'PIK3C3', 'CSNK2A2', 'CSNK2A1', 'SLC9A3R1', 'USP13', 'PIK3CA', 'TP53', 'PIK3CB', 'PTK2', 'USP7', 'XIAP', 'PTEN', 'PREX2', 'MAST2', 'ROCK1', 'NEDD4', 'INPP4B', 'PIK3R1', 'AKT1']\n"
     ]
    }
   ],
   "source": [
    "ips = get_interacting_proteins('PTEN', number=20)\n",
    "print(ips)"
   ]
  },
  {
   "cell_type": "markdown",
   "metadata": {},
   "source": [
    "## Test 2"
   ]
  },
  {
   "cell_type": "code",
   "execution_count": 4,
   "metadata": {},
   "outputs": [
    {
     "name": "stdout",
     "output_type": "stream",
     "text": [
      "['CCND1', 'ACTL6B', 'NR3C1', 'WDR77', 'SMARCC1', 'SUPT16H', 'CDK4', 'SMARCD3', 'CREBBP', 'SMARCB1', 'EP300', 'KAT2B', 'DNMT3A', 'SMARCA2', 'SMARCC2', 'GTF2E1', 'RUNX1', 'KMT2D', 'CHAF1A', 'PRMT5', 'ARID1A', 'SMARCE1', 'PHF10', 'BAZ1B', 'ARID1B', 'HMGB1', 'ACTB', 'NF1', 'GTF2B', 'JUN', 'CDC5L', 'BCL7C', 'IRF4', 'IRF2', 'GTF2F1', 'PBRM1', 'SMARCD1', 'RELA', 'SMARCD2', 'SMARCA4', 'TOP2B', 'ACTL6A', 'BCL7B', 'SS18', 'CBFB', 'RXRA', 'DPF2', 'BCL7A', 'VDR', 'DPF3', 'POLR2A']\n"
     ]
    }
   ],
   "source": [
    "ips = get_interacting_proteins('ARID1A', number=50)\n",
    "print(ips)"
   ]
  },
  {
   "cell_type": "markdown",
   "metadata": {},
   "source": [
    "## Test 3"
   ]
  },
  {
   "cell_type": "code",
   "execution_count": 5,
   "metadata": {},
   "outputs": [
    {
     "name": "stdout",
     "output_type": "stream",
     "text": [
      "\n",
      "Specified gene was not found in String database, double check that you have it correctly!\n",
      "None\n"
     ]
    }
   ],
   "source": [
    "ips = get_interacting_proteins('BADNAME', number=50)\n",
    "print(ips)"
   ]
  },
  {
   "cell_type": "markdown",
   "metadata": {},
   "source": [
    "## Comparison with BioGrid"
   ]
  },
  {
   "cell_type": "code",
   "execution_count": 15,
   "metadata": {},
   "outputs": [],
   "source": []
  },
  {
   "cell_type": "code",
   "execution_count": 16,
   "metadata": {},
   "outputs": [
    {
     "name": "stdout",
     "output_type": "stream",
     "text": [
      "STRING:\n",
      "PIK3R2\n",
      "TNS1\n",
      "RPS6KB1\n",
      "KRAS\n",
      "PDGFRA\n",
      "PIK3R3\n",
      "AKT3\n",
      "PIK3CA\n",
      "ERBB3\n",
      "IGF1R\n",
      "ERBB2\n",
      "EGFR\n",
      "GNAQ\n",
      "KIT\n",
      "MRAS\n",
      "IRS1\n",
      "CTNNB1\n",
      "NRAS\n",
      "PTEN\n",
      "IRS2\n",
      "AKT2\n",
      "CDC42\n",
      "ESR1\n",
      "HRAS\n",
      "PIK3R1\n",
      "AKT1\n",
      "\n",
      "BioGrid:\n",
      "MAP2K4\n",
      "MYPN\n",
      "ACVR1\n",
      "GATA2\n",
      "RPA2\n",
      "ARF1\n",
      "ARF3\n",
      "XRN1\n",
      "APP\n",
      "APLP1\n",
      "CITED2\n",
      "EP300\n",
      "APOB\n",
      "ARRB2\n",
      "CSF1R\n",
      "PRRC2A\n",
      "LSM1\n",
      "SLC4A1\n",
      "BCL3\n",
      "ADRB1\n",
      "BRCA1\n",
      "\n",
      "21 in 2nd not in first.\n"
     ]
    }
   ],
   "source": [
    "ips = get_interacting_proteins('PIK3CA', number=25)\n",
    "print(\"STRING:\")\n",
    "for i in ips:\n",
    "    print(i)\n",
    "    \n",
    "ips2 = generate_iteracting_from_BioGrid('PIK3CA', number=25)\n",
    "print(\"\\nBioGrid:\")\n",
    "for i in ips2:\n",
    "    print(i)\n",
    "    \n",
    "shared = 0\n",
    "for i in ips2:\n",
    "    if i not in ips:\n",
    "        shared+=1\n",
    "        \n",
    "print(\"\\n\" + str(shared) + \" in 2nd not in first.\")"
   ]
  },
  {
   "cell_type": "code",
   "execution_count": null,
   "metadata": {},
   "outputs": [],
   "source": []
  }
 ],
 "metadata": {
  "kernelspec": {
   "display_name": "Python 3",
   "language": "python",
   "name": "python3"
  },
  "language_info": {
   "codemirror_mode": {
    "name": "ipython",
    "version": 3
   },
   "file_extension": ".py",
   "mimetype": "text/x-python",
   "name": "python",
   "nbconvert_exporter": "python",
   "pygments_lexer": "ipython3",
   "version": "3.6.8"
  }
 },
 "nbformat": 4,
 "nbformat_minor": 2
}
