{
 "cells": [
  {
   "cell_type": "code",
   "execution_count": 1,
   "metadata": {},
   "outputs": [
    {
     "name": "stdout",
     "output_type": "stream",
     "text": [
      "Welcome to the CPTAC data service package. Available datasets may be\n",
      "viewed using CPTAC.list_data(). In order to access a specific data\n",
      "set, import a CPTAC subfolder using either 'import CPTAC.Dataset' or\n",
      "'from CPTAC import Dataset'.\n",
      "******\n",
      "Version: 0.3.0\n",
      "******\n",
      "Loading Endometrial CPTAC data:\n",
      "Loading Dictionary...\n",
      "Loading Clinical Data...\n",
      "Loading Acetylation Proteomics Data...\n",
      "Loading Proteomics Data...\n",
      "Loading Transcriptomics Data...\n",
      "Loading CNA Data...\n",
      "Loading Phosphoproteomics Data...\n",
      "Loading Somatic Mutation Data...\n",
      "\n",
      " ******PLEASE READ******\n",
      "WARNING: This data is under a publication embargo until July 1, 2019.\n",
      "CPTAC is a community resource project and data are made available\n",
      "rapidly after generation for community research use. The embargo\n",
      "allows exploring and utilizing the data, but the data may not be in a\n",
      "publication until July 1, 2019. Please see\n",
      "https://proteomics.cancer.gov/data-portal/about/data-use-agreement or\n",
      "enter embargo() to open the webpage for more details.\n"
     ]
    }
   ],
   "source": [
    "import pandas as pd\n",
    "import numpy as np\n",
    "import scipy.stats\n",
    "import matplotlib.pyplot as plt\n",
    "import re\n",
    "import seaborn as sns\n",
    "import sys\n",
    "import urllib3\n",
    "import json\n",
    "import operator\n",
    "import collections\n",
    "\n",
    "import CPTAC.Endometrial as en"
   ]
  },
  {
   "cell_type": "code",
   "execution_count": 99,
   "metadata": {},
   "outputs": [],
   "source": [
    "'''\n",
    "@Param df:\n",
    "    A dataframe containing the label column, and one or more real valued comparison columns.\n",
    "    \n",
    "@Param label_column:\n",
    "    The name of the label column. This column must be in the dataframe, and must contain exactly 2 unique values.\n",
    "    \n",
    "@Param comparison_columns:\n",
    "    A list of columns on which t-tests will be performed. Each column must be in the dataframe, and must be real valued.\n",
    "\n",
    "@Param alpha (default = .05):\n",
    "    Significance level. Will be adjusted using bonferroni correction if more than 1 comparison is done.\n",
    "    \n",
    "@Param verbose (default = False):\n",
    "    Boolean. If true, will print p-value of every comparison, whether or not it meets significance cutoff.\n",
    "\n",
    "@Return:\n",
    "    A sorted dictionary of column names and corresponding p-values which were determined to be significant in the comparison.\n",
    "    Returns None if dataframe is not formatted properly, or if no comparison was significant.\n",
    "    \n",
    "Takes as a parameter a dataframe. Must be formatted in the following way. 1 column declared as the label column, with \n",
    "the name of this column passed in as the second parameter. The Label column must contain exactly 2 unique entries,\n",
    "and every row in the dataframe must have one of these 2 values in this column. The remaining columns will be real \n",
    "valued columns on which t-tests will be done. A list of real valued columns on which to do t-tests will be passed in \n",
    "as the third parameter. No t-test will be done on columns not included in this list.\n",
    "\n",
    "The wrap_ttest method will then compare the two groups, as partitioned by the two values in the Label column, and \n",
    "perform t-tests for each real valued column in the passed in list, generating a p-value.\n",
    "The cutoff for significance will be determined using a bonferroni correction, and the significant columns, \n",
    "with their p-values, will be returned as a dictionary, sorted by p-value.\n",
    "'''\n",
    "\n",
    "def wrap_ttest(df, label_column, comparison_columns, alpha=.05, verbose=False):\n",
    "    try:\n",
    "        '''Verify precondition that label column exists and has exactly 2 unique values'''\n",
    "        label_values = df[label_column].unique()\n",
    "        if len(label_values) != 2:\n",
    "            print(\"Incorrectly Formatted Dataframe! Label column must have exactly 2 unique values.\")\n",
    "            return None\n",
    "        \n",
    "        '''Partition dataframe into two sets, one for each of the two unique values from the label column'''\n",
    "        partition1 = df.loc[df[label_column] == label_values[0]]\n",
    "        partition2 = df.loc[df[label_column] == label_values[1]]\n",
    "        \n",
    "        '''Determine the number of real valued columns on which we will do t-tests'''\n",
    "        number_of_comparisons = len(comparison_columns)\n",
    "        \n",
    "        '''Use a bonferroni correction to adjust for multiple testing by altering the p-value needed for acceptance'''\n",
    "        bonferroni_cutoff = alpha/number_of_comparisons\n",
    "        \n",
    "        '''Store significant comparisons with their p-values in a dictionary'''\n",
    "        significant_comparisons = {}\n",
    "        \n",
    "        '''Loop through each comparison column, perform the t-test, and determine whether it meets the significance cutoff'''\n",
    "        for column in comparison_columns:\n",
    "            stat, pval = scipy.stats.ttest_ind(partition1[column].dropna(axis=0), partition2[column].dropna(axis=0))\n",
    "            if verbose:\n",
    "                print(column, \": \", pval)\n",
    "            if pval <= bonferroni_cutoff:\n",
    "                significant_comparisons[column] = pval\n",
    "        \n",
    "        '''If no comparison met the significance cutoff, notify that no comparison was signficant, and return None'''\n",
    "        if len(significant_comparisons) == 0:\n",
    "            print(\"No significant comparisons.\")\n",
    "            return None\n",
    "        \n",
    "            '''If one or more comparison did meet the significance cutoff, sort the dictionary by significance and return it to the caller'''\n",
    "        else:\n",
    "            sorted_significant_comparisons = sorted(significant_comparisons.items(), key=lambda kv: kv[1])\n",
    "            return sorted_significant_comparisons\n",
    "    \n",
    "    except:\n",
    "        print(\"Incorrectly Formatted Dataframe!\")\n",
    "        return None"
   ]
  },
  {
   "cell_type": "markdown",
   "metadata": {},
   "source": [
    "## Test 1"
   ]
  },
  {
   "cell_type": "code",
   "execution_count": 100,
   "metadata": {},
   "outputs": [
    {
     "name": "stdout",
     "output_type": "stream",
     "text": [
      "[('ARID1A_proteomics', 1.0250180625304501e-10), ('PTEN_proteomics', 0.0004310896607405046), ('ACTL6A_proteomics', 0.0027479350847987695)]\n"
     ]
    }
   ],
   "source": [
    "proteomics = en.get_proteomics()\n",
    "\n",
    "genedf = en.append_mutations_to_omics(mutation_genes=['ARID1A'], omics_df=proteomics, omics_genes=['ARID1A', 'ACTL6A','PTEN','PIK3CA','KMT2D','DPF2'])\n",
    "\n",
    "genedf = genedf.loc[genedf['Sample_Status'] == 'Tumor']\n",
    "\n",
    "for ind, row in genedf.iterrows():\n",
    "    if row['ARID1A_Mutation'] != 'Wildtype_Tumor':\n",
    "        genedf.at[ind,'Label'] = 'Mutated'\n",
    "    else:\n",
    "        genedf.at[ind,'Label'] = 'Wildtype'\n",
    "        \n",
    "\n",
    "genedf = genedf.drop('ARID1A_Mutation', axis=1)\n",
    "genedf = genedf.drop('ARID1A_Location', axis=1)\n",
    "genedf = genedf.drop('Sample_Status', axis=1)\n",
    "\n",
    "genedf.head()\n",
    "\n",
    "func_results = wrap_ttest(genedf, 'Label', ['ARID1A_proteomics','PTEN_proteomics','KMT2D_proteomics','ACTL6A_proteomics'])\n",
    "print(func_results)"
   ]
  },
  {
   "cell_type": "markdown",
   "metadata": {},
   "source": [
    "## Test 2"
   ]
  },
  {
   "cell_type": "code",
   "execution_count": 101,
   "metadata": {},
   "outputs": [
    {
     "name": "stdout",
     "output_type": "stream",
     "text": [
      "[('PIK3CA_transcriptomics_linear', 3.971222250114632e-07), ('ACTL6A_transcriptomics_linear', 5.347263858403748e-05)]\n"
     ]
    }
   ],
   "source": [
    "transcriptomics = en.get_transcriptomics()\n",
    "\n",
    "transdf = en.append_mutations_to_omics(mutation_genes=['PTEN'], omics_df=transcriptomics, omics_genes=['ARID1A', 'ACTL6A','PTEN','PIK3CA','KMT2D','DPF2'])\n",
    "transdf.head()\n",
    "\n",
    "transdf = transdf.loc[transdf['Sample_Status'] == 'Tumor']\n",
    "\n",
    "cols = list(transdf.columns)\n",
    "cols.remove('Sample_Status')\n",
    "cols.remove('PTEN_Location')\n",
    "cols.remove('PTEN_Mutation')\n",
    "\n",
    "for ind, row in transdf.iterrows():\n",
    "    if row['PTEN_Mutation'] != 'Wildtype_Tumor':\n",
    "        transdf.at[ind,'Label'] = 'Mutated'\n",
    "    else:\n",
    "        transdf.at[ind,'Label'] = 'Wildtype'\n",
    "\n",
    "transdf.head()\n",
    "\n",
    "\n",
    "func_results = wrap_ttest(transdf, 'Label', cols)\n",
    "print(func_results)"
   ]
  },
  {
   "cell_type": "markdown",
   "metadata": {},
   "source": [
    "## Test 3"
   ]
  },
  {
   "cell_type": "code",
   "execution_count": 104,
   "metadata": {},
   "outputs": [
    {
     "name": "stdout",
     "output_type": "stream",
     "text": [
      "No significant comparisons.\n",
      "None\n"
     ]
    }
   ],
   "source": [
    "phos = en.get_phosphoproteomics()\n",
    "\n",
    "phosdf = en.append_mutations_to_omics(mutation_genes=['PIK3CA'], omics_df=phos, omics_genes=['ARID1A', 'ACTL6A','PTEN','PIK3CA','KMT2D','DPF2'])\n",
    "phosdf.head()\n",
    "\n",
    "cols = list(phosdf.columns)\n",
    "cols.remove('Sample_Status')\n",
    "cols.remove('PIK3CA_Location')\n",
    "cols.remove('PIK3CA_Mutation')\n",
    "\n",
    "for ind, row in phosdf.iterrows():\n",
    "    if row['PIK3CA_Mutation'] != 'Wildtype_Tumor':\n",
    "        phosdf.at[ind,'Label'] = 'Mutated'\n",
    "    else:\n",
    "        phosdf.at[ind,'Label'] = 'Wildtype'\n",
    "\n",
    "phosdf.head()\n",
    "\n",
    "func_results = wrap_ttest(phosdf, 'Label', cols)\n",
    "print(func_results)"
   ]
  },
  {
   "cell_type": "code",
   "execution_count": null,
   "metadata": {},
   "outputs": [],
   "source": []
  }
 ],
 "metadata": {
  "kernelspec": {
   "display_name": "Python 3",
   "language": "python",
   "name": "python3"
  },
  "language_info": {
   "codemirror_mode": {
    "name": "ipython",
    "version": 3
   },
   "file_extension": ".py",
   "mimetype": "text/x-python",
   "name": "python",
   "nbconvert_exporter": "python",
   "pygments_lexer": "ipython3",
   "version": "3.6.8"
  }
 },
 "nbformat": 4,
 "nbformat_minor": 2
}
