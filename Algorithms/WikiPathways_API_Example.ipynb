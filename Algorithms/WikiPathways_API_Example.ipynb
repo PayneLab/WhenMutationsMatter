{
 "cells": [
  {
   "cell_type": "markdown",
   "metadata": {},
   "source": [
    "Wiki Pathways: query for interacting genes given one gene"
   ]
  },
  {
   "cell_type": "code",
   "execution_count": 121,
   "metadata": {},
   "outputs": [],
   "source": [
    "import urllib3\n",
    "import json\n",
    "\n",
    "def findInteractions(proteinName): #retuns list of interacting genes\n",
    "    geneList = []\n",
    "    \n",
    "    requestUrl = \"http://webservice.wikipathways.org/findInteractions?query=\" + proteinName + \"&format=json\" \n",
    "    http = urllib3.PoolManager()\n",
    "    response = http.request('GET', requestUrl)\n",
    "\n",
    "    if response.status == 200: #if success, get data from API response\n",
    "        responseData = response.data\n",
    "        responseDataDict = json.loads(responseData)\n",
    "        resultList = list(responseDataDict.values())\n",
    "        interactionsList = resultList[0]\n",
    "        \n",
    "        for interactionDict in interactionsList:\n",
    "            \n",
    "            if interactionDict[\"species\"] == \"Homo sapiens\":\n",
    "                rightValuesList = interactionDict[\"fields\"][\"right\"][\"values\"]\n",
    "                for value in rightValuesList:\n",
    "                    if value not in geneList:\n",
    "                        geneList.append(value)\n",
    "                        \n",
    "                leftValuesList = interactionDict[\"fields\"][\"left\"][\"values\"]\n",
    "                for value in leftValuesList:\n",
    "                    if value not in geneList:\n",
    "                        geneList.append(value)\n",
    "            else:\n",
    "                continue       \n",
    "    else:\n",
    "        print(\"Something went wrong with the response status\")\n",
    "        \n",
    "    return geneList"
   ]
  },
  {
   "cell_type": "code",
   "execution_count": 122,
   "metadata": {},
   "outputs": [
    {
     "name": "stdout",
     "output_type": "stream",
     "text": [
      "['HIST1H2AL', 'HIST1H1E', '', 'SWI/SNF Complex Activity', 'ATRX', 'SMARCE1', 'SRCAP', 'SMARCA2', 'ARID1A', 'Chromatin remodeling / transctiptional regulation', 'SMARCC2', 'DPF1', 'ACTL6A', 'SMARCC1', 'SMARCA4', 'ACTL6B', 'SMARCD2', 'SMARCB1', 'DPF3', 'SMARCD3', 'ARID1B', 'SMARCD1', 'DPF2', 'UCP1', 'PPARG', 'ACTG1', 'ACTB', 'KDM3B', 'KDM3A', 'CREB3L3', 'CREB3', 'CREB3L1', 'CREB1', 'CREB3L2', 'CREB3L4', 'CREB5', 'PTPRF', 'GAK', 'DHX15', 'POM121', 'DNAJB1', 'PTBP1', 'PDLIM7', 'EHMT2', 'PTMA', 'MET', 'SFRS9', 'ARCN1', 'HDAC4', 'YWHAQ', 'CDCP1', 'PICALM', 'SNX6', 'PTPLAD1', 'SLC25A22', 'DDX5', 'BRI3BP', 'PLEKHC1', 'ANP32B', 'ANXA2', 'AP3D1', 'KCNJ2', 'IQGAP3', 'UHRF1', 'NP', 'TH1L', 'ADAR', 'BCKDHB', 'TPM1', 'GOLGA7', 'SLC25A1', 'CAND1', 'MRC2', 'MTX1', 'Hand2', 'WDFY1', 'MTHFD2', 'NRP1', 'G6PD', 'CSRP1', 'NOTCH2', 'ADPGK', 'SYNE1', 'ARF4', 'BRWD2', 'EHMT1', 'CTSC', 'GJA1', 'TPM3', 'UNC93B1', 'ITGB4', 'PPIB', 'EGFR', 'CORO1C', 'TPM4', 'LRP1', 'MIR1-2', 'MIR1-1', 'POLA2', 'RFT1', 'GPD2', 'SH3BGRL3', 'PWP1', 'ATP6V0A1', 'KCNQ1', 'PTBP2', 'AXL', 'KIAA1618', 'THBS1', 'ASH2L', 'ANPEP', 'LRRC8A', 'AP3B1', 'CPOX', 'COIL', 'TPM2', 'GNPNAT1', 'MOV10', 'SSNA1', 'SFXN1', 'CAP1', 'SAC3D1', 'ABHD11', 'ARID2']\n"
     ]
    }
   ],
   "source": [
    "interactingGenesList = findInteractions(\"ARID1A\")\n",
    "print(interactingGenesList)"
   ]
  },
  {
   "cell_type": "code",
   "execution_count": null,
   "metadata": {
    "scrolled": true
   },
   "outputs": [],
   "source": [
    "def listOrganisms():\n",
    "    import urllib3\n",
    "    import json\n",
    "    \n",
    "    requestUrl = \"http://webservice.wikipathways.org/listOrganisms?format=json\" #added: ?format=json\n",
    "\n",
    "    http = urllib3.PoolManager()\n",
    "    response = http.request('GET', requestUrl)\n",
    "\n",
    "    if response.status == 200: #if success, get data from API response\n",
    "        responseData = response.data\n",
    "        responseDataDict = json.loads(responseData)\n",
    "        organismDoubleList = list(responseDataDict.values())\n",
    "        organismList = organismDoubleList[0]\n",
    "        return organismList\n",
    "    else:\n",
    "        return [] #empty list\n",
    "        print(\"Something went wrong with the response status\")\n",
    "\n",
    "listOrganisms()"
   ]
  },
  {
   "cell_type": "code",
   "execution_count": null,
   "metadata": {
    "scrolled": false
   },
   "outputs": [],
   "source": [
    "def listPathways():\n",
    "    import urllib3\n",
    "    import json\n",
    "    \n",
    "    requestUrl = \"http://webservice.wikipathways.org/listPathways?format=json\" #added: ?format=json\n",
    "\n",
    "    http = urllib3.PoolManager()\n",
    "    response = http.request('GET', requestUrl)\n",
    "\n",
    "    if response.status == 200: #if success, get data from API response\n",
    "        responseData = response.data\n",
    "        responseDataDict = json.loads(responseData)\n",
    "        listOfListsOfLists = responseDataDict.values()\n",
    "        for listOfPathways in listOfListsOfLists:\n",
    "            for pathwayInfoDict in listOfPathways:   #pathwayInfoDict keys: id, url, anme, species, revision\n",
    "                print(pathwayInfoDict)\n",
    "                print(\"\\n\")\n",
    "\n",
    "            return listOfPathways\n",
    "    else:\n",
    "        #return [] #empty list\n",
    "        print(\"Something went wrong with the response status\")\n",
    "        \n",
    "listPathways()"
   ]
  },
  {
   "cell_type": "code",
   "execution_count": null,
   "metadata": {},
   "outputs": [],
   "source": [
    "##Example code\n",
    "'''\n",
    "\n",
    "import requests, sys, json, time\n",
    "import os\n",
    "import numpy as np\n",
    "import pandas as pd\n",
    "import sys\n",
    "import urllib3\n",
    "import json\n",
    "import operator\n",
    "import collections\n",
    "#ACCESS KEY: 0ff59dcf3511928e78aad499688381c9\n",
    "\n",
    "\n",
    "try:\n",
    "    urllib3.disable_warnings()\n",
    "    request_url = \"http://webservice.wikipathways.org/listOrganisms\"\n",
    "    http = urllib3.PoolManager()\n",
    "    response = http.request('GET',request_url)\n",
    "\n",
    "    if response.status == 200: \n",
    "        #Get the data from the API's response\n",
    "        data = response.data\n",
    "        print(data)\n",
    "        \n",
    "        #Not in json, find out how to parse xml in python\n",
    "        \n",
    "        #extract the wanted data from what you parsed\n",
    "        \n",
    "        #y = json.loads(data)\n",
    "        \"\"\"\n",
    "\n",
    "        #Add name of each protein to list of interacting proteins\n",
    "        for entry in y:\n",
    "            if y[entry]['OFFICIAL_SYMBOL_A'] not in interacting_proteins:\n",
    "                interacting_proteins.append(y[entry]['OFFICIAL_SYMBOL_A'])\n",
    "\n",
    "        #Return this list to caller\n",
    "        return interacting_proteins\n",
    "        \"\"\"\n",
    "\n",
    "    else:\n",
    "        print(\"Error accessing api!\")\n",
    "        \n",
    "\n",
    "except Exception as err:\n",
    "    print(\"Error accessing api, \" , err)\n",
    "'''"
   ]
  }
 ],
 "metadata": {
  "kernelspec": {
   "display_name": "Python 3",
   "language": "python",
   "name": "python3"
  },
  "language_info": {
   "codemirror_mode": {
    "name": "ipython",
    "version": 3
   },
   "file_extension": ".py",
   "mimetype": "text/x-python",
   "name": "python",
   "nbconvert_exporter": "python",
   "pygments_lexer": "ipython3",
   "version": "3.7.4"
  }
 },
 "nbformat": 4,
 "nbformat_minor": 2
}
