{
 "cells": [
  {
   "cell_type": "markdown",
   "metadata": {},
   "source": [
    "Wiki Pathways: query for interacting genes given one gene"
   ]
  },
  {
   "cell_type": "code",
   "execution_count": 138,
   "metadata": {},
   "outputs": [],
   "source": [
    "import urllib3\n",
    "import json\n",
    "\n",
    "def findInteractions(geneName): #retuns list of interacting genes\n",
    "    geneList = []\n",
    "    \n",
    "    requestUrl = \"http://webservice.wikipathways.org/findInteractions?query=\" + geneName + \"&format=json\" \n",
    "    http = urllib3.PoolManager()\n",
    "    response = http.request('GET', requestUrl)\n",
    "\n",
    "    if response.status == 200: #if success, get data from API response\n",
    "        responseData = response.data\n",
    "        responseDataDict = json.loads(responseData)\n",
    "        resultList = list(responseDataDict.values())\n",
    "        interactionsList = resultList[0]\n",
    "        \n",
    "        for interactionDict in interactionsList:\n",
    "            \n",
    "            if interactionDict[\"species\"] == \"Homo sapiens\":\n",
    "                rightValuesList = interactionDict[\"fields\"][\"right\"][\"values\"]\n",
    "                for value in rightValuesList:\n",
    "                    if (value not in geneList) and (geneName.casefold() not in value):\n",
    "                        geneList.append(value)\n",
    "                        \n",
    "                leftValuesList = interactionDict[\"fields\"][\"left\"][\"values\"]\n",
    "                for value in leftValuesList:\n",
    "                    if (value not in geneList) and (geneName.casefold() not in value):\n",
    "                        geneList.append(value)\n",
    "            else:\n",
    "                continue       \n",
    "    else:\n",
    "        print(\"Something went wrong with the response status\")\n",
    "        \n",
    "    return geneList"
   ]
  },
  {
   "cell_type": "code",
   "execution_count": 139,
   "metadata": {},
   "outputs": [
    {
     "name": "stdout",
     "output_type": "stream",
     "text": [
      "['', 'AKT', 'AMPKa1', 'AMPKa2', 'AMPKb1', 'AMPKb2', 'AMPKy1', 'AMPKy2', 'AMPKy3', 'AQP73', 'ATM', 'ATR', 'AURKA', 'Apoptosis', 'Apoptosis/senescence', 'BRCA1', 'C9JNK1', 'CBP', 'CCND1', 'CDKN1A', 'CHK1', 'CHK2', 'CSNK1D', 'Cell Cycle arrest', 'Cycloheximide', 'DCAKD', 'Dexamethasone', 'EP300', 'ERK1 and ERK2 cascade', 'FADD', 'FOXO', 'Folate', 'G2/M arrest', 'GADD45A', 'GCR', 'Group object', 'H2O2', 'HDAC1', 'HIPK2', 'IL2', 'IL6', 'MDM2', 'MDM4', 'Mitomycin', 'NFkB1', 'NFkB2', 'NO', 'NOXA1', 'Nocodazole', 'Oxidative \\nstress', 'P53', 'PIAS1', 'PML', 'PRKDC', 'PTEN', 'PUMA', 'Proteasome', 'RELA', 'SFN', 'SIAH1', 'SIRT1', 'TP53', 'Tamoxifen', 'UBP21', 'Viral entry\\nCVB3']\n"
     ]
    }
   ],
   "source": [
    "interactingGenesList = findInteractions(\"P53\")\n",
    "print(sorted(interactingGenesList))"
   ]
  },
  {
   "cell_type": "code",
   "execution_count": null,
   "metadata": {
    "scrolled": true
   },
   "outputs": [],
   "source": [
    "def listOrganisms():\n",
    "    import urllib3\n",
    "    import json\n",
    "    \n",
    "    requestUrl = \"http://webservice.wikipathways.org/listOrganisms?format=json\" #added: ?format=json\n",
    "\n",
    "    http = urllib3.PoolManager()\n",
    "    response = http.request('GET', requestUrl)\n",
    "\n",
    "    if response.status == 200: #if success, get data from API response\n",
    "        responseData = response.data\n",
    "        responseDataDict = json.loads(responseData)\n",
    "        organismDoubleList = list(responseDataDict.values())\n",
    "        organismList = organismDoubleList[0]\n",
    "        return organismList\n",
    "    else:\n",
    "        return [] #empty list\n",
    "        print(\"Something went wrong with the response status\")\n",
    "\n",
    "listOrganisms()"
   ]
  },
  {
   "cell_type": "code",
   "execution_count": null,
   "metadata": {
    "scrolled": false
   },
   "outputs": [],
   "source": [
    "def listPathways():\n",
    "    import urllib3\n",
    "    import json\n",
    "    \n",
    "    requestUrl = \"http://webservice.wikipathways.org/listPathways?format=json\" #added: ?format=json\n",
    "\n",
    "    http = urllib3.PoolManager()\n",
    "    response = http.request('GET', requestUrl)\n",
    "\n",
    "    if response.status == 200: #if success, get data from API response\n",
    "        responseData = response.data\n",
    "        responseDataDict = json.loads(responseData)\n",
    "        listOfListsOfLists = responseDataDict.values()\n",
    "        for listOfPathways in listOfListsOfLists:\n",
    "            for pathwayInfoDict in listOfPathways:   #pathwayInfoDict keys: id, url, anme, species, revision\n",
    "                print(pathwayInfoDict)\n",
    "                print(\"\\n\")\n",
    "\n",
    "            return listOfPathways\n",
    "    else:\n",
    "        #return [] #empty list\n",
    "        print(\"Something went wrong with the response status\")\n",
    "        \n",
    "listPathways()"
   ]
  },
  {
   "cell_type": "code",
   "execution_count": null,
   "metadata": {},
   "outputs": [],
   "source": [
    "##Example code\n",
    "'''\n",
    "\n",
    "import requests, sys, json, time\n",
    "import os\n",
    "import numpy as np\n",
    "import pandas as pd\n",
    "import sys\n",
    "import urllib3\n",
    "import json\n",
    "import operator\n",
    "import collections\n",
    "#ACCESS KEY: 0ff59dcf3511928e78aad499688381c9\n",
    "\n",
    "\n",
    "try:\n",
    "    urllib3.disable_warnings()\n",
    "    request_url = \"http://webservice.wikipathways.org/listOrganisms\"\n",
    "    http = urllib3.PoolManager()\n",
    "    response = http.request('GET',request_url)\n",
    "\n",
    "    if response.status == 200: \n",
    "        #Get the data from the API's response\n",
    "        data = response.data\n",
    "        print(data)\n",
    "        \n",
    "        #Not in json, find out how to parse xml in python\n",
    "        \n",
    "        #extract the wanted data from what you parsed\n",
    "        \n",
    "        #y = json.loads(data)\n",
    "        \"\"\"\n",
    "\n",
    "        #Add name of each protein to list of interacting proteins\n",
    "        for entry in y:\n",
    "            if y[entry]['OFFICIAL_SYMBOL_A'] not in interacting_proteins:\n",
    "                interacting_proteins.append(y[entry]['OFFICIAL_SYMBOL_A'])\n",
    "\n",
    "        #Return this list to caller\n",
    "        return interacting_proteins\n",
    "        \"\"\"\n",
    "\n",
    "    else:\n",
    "        print(\"Error accessing api!\")\n",
    "        \n",
    "\n",
    "except Exception as err:\n",
    "    print(\"Error accessing api, \" , err)\n",
    "'''"
   ]
  }
 ],
 "metadata": {
  "kernelspec": {
   "display_name": "Python 3",
   "language": "python",
   "name": "python3"
  },
  "language_info": {
   "codemirror_mode": {
    "name": "ipython",
    "version": 3
   },
   "file_extension": ".py",
   "mimetype": "text/x-python",
   "name": "python",
   "nbconvert_exporter": "python",
   "pygments_lexer": "ipython3",
   "version": "3.7.4"
  }
 },
 "nbformat": 4,
 "nbformat_minor": 2
}
