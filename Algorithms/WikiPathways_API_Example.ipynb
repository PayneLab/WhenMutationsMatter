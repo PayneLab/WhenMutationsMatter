{
 "cells": [
  {
   "cell_type": "markdown",
   "metadata": {},
   "source": [
    "Wiki Pathways Functions"
   ]
  },
  {
   "cell_type": "code",
   "execution_count": null,
   "metadata": {},
   "outputs": [],
   "source": [
    "'''\n",
    "github link: \n",
    "https://github.com/wikipathways/wikipathways-api-client-py\n",
    "'''\n",
    "\n",
    "from wikipathways_api_client import WikipathwaysApiClient"
   ]
  },
  {
   "cell_type": "code",
   "execution_count": 9,
   "metadata": {},
   "outputs": [],
   "source": []
  },
  {
   "cell_type": "code",
   "execution_count": 48,
   "metadata": {},
   "outputs": [],
   "source": [
    "def listOrganisms():\n",
    "    import urllib3\n",
    "    import json\n",
    "    \n",
    "    requestUrl = \"http://webservice.wikipathways.org/listOrganisms?format=json\" #added: ?format=json\n",
    "\n",
    "    http = urllib3.PoolManager()\n",
    "    response = http.request('GET', requestUrl)\n",
    "\n",
    "    if response.status == 200: #if success, get data from API response\n",
    "        responseData = response.data\n",
    "        #print(responseData)\n",
    "        responseDataDict = json.loads(responseData)\n",
    "        organismDoubleList = list(responseDataDict.values())\n",
    "        organismList = organismDoubleList[0]\n",
    "        return organismList\n",
    "    else:\n",
    "        return [] #empty list\n",
    "        print(\"Something went wrong with the response status\")"
   ]
  },
  {
   "cell_type": "code",
   "execution_count": null,
   "metadata": {},
   "outputs": [],
   "source": []
  },
  {
   "cell_type": "code",
   "execution_count": 1,
   "metadata": {},
   "outputs": [
    {
     "data": {
      "text/plain": [
       "'import requests, sys, json, time\\nimport os\\nimport numpy as np\\nimport pandas as pd\\nimport sys\\nimport urllib3\\nimport json\\nimport operator\\nimport collections\\n#ACCESS KEY: 0ff59dcf3511928e78aad499688381c9\\n'"
      ]
     },
     "execution_count": 1,
     "metadata": {},
     "output_type": "execute_result"
    }
   ],
   "source": [
    "\"\"\"import requests, sys, json, time\n",
    "import os\n",
    "import numpy as np\n",
    "import pandas as pd\n",
    "import sys\n",
    "import urllib3\n",
    "import json\n",
    "import operator\n",
    "import collections\n",
    "#ACCESS KEY: 0ff59dcf3511928e78aad499688381c9\n",
    "\"\"\""
   ]
  },
  {
   "cell_type": "code",
   "execution_count": 8,
   "metadata": {},
   "outputs": [
    {
     "name": "stdout",
     "output_type": "stream",
     "text": [
      "b\"<ns1:listOrganismsResponse xmlns:ns1='http://www.wso2.org/php/xsd' xmlns:ns2='http://www.wikipathways.org/webservice'  >\\t\\n\\t<ns1:organisms>Anopheles gambiae</ns1:organisms>\\n\\t<ns1:organisms>Arabidopsis thaliana</ns1:organisms>\\n\\t<ns1:organisms>Bacillus subtilis</ns1:organisms>\\n\\t<ns1:organisms>Beta vulgaris</ns1:organisms>\\n\\t<ns1:organisms>Bos taurus</ns1:organisms>\\n\\t<ns1:organisms>Caenorhabditis elegans</ns1:organisms>\\n\\t<ns1:organisms>Canis familiaris</ns1:organisms>\\n\\t<ns1:organisms>Clostridium thermocellum</ns1:organisms>\\n\\t<ns1:organisms>Danio rerio</ns1:organisms>\\n\\t<ns1:organisms>Drosophila melanogaster</ns1:organisms>\\n\\t<ns1:organisms>Escherichia coli</ns1:organisms>\\n\\t<ns1:organisms>Equus caballus</ns1:organisms>\\n\\t<ns1:organisms>Gallus gallus</ns1:organisms>\\n\\t<ns1:organisms>Glycine max</ns1:organisms>\\n\\t<ns1:organisms>Gibberella zeae</ns1:organisms>\\n\\t<ns1:organisms>Homo sapiens</ns1:organisms>\\n\\t<ns1:organisms>Hordeum vulgare</ns1:organisms>\\n\\t<ns1:organisms>Mus musculus</ns1:organisms>\\n\\t<ns1:organisms>Mycobacterium tuberculosis</ns1:organisms>\\n\\t<ns1:organisms>Oryza sativa</ns1:organisms>\\n\\t<ns1:organisms>Pan troglodytes</ns1:organisms>\\n\\t<ns1:organisms>Populus trichocarpa</ns1:organisms>\\n\\t<ns1:organisms>Rattus norvegicus</ns1:organisms>\\n\\t<ns1:organisms>Saccharomyces cerevisiae</ns1:organisms>\\n\\t<ns1:organisms>Solanum lycopersicum</ns1:organisms>\\n\\t<ns1:organisms>Sus scrofa</ns1:organisms>\\n\\t<ns1:organisms>Vitis vinifera</ns1:organisms>\\n\\t<ns1:organisms>Xenopus tropicalis</ns1:organisms>\\n\\t<ns1:organisms>Zea mays</ns1:organisms>\\n\\t<ns1:organisms>Plasmodium falciparum</ns1:organisms>\\n\\t<ns1:organisms>Brassica napus</ns1:organisms>\\n</ns1:listOrganismsResponse>\"\n"
     ]
    }
   ],
   "source": [
    "##Example code\n",
    "\n",
    "try:\n",
    "    urllib3.disable_warnings()\n",
    "    request_url = \"http://webservice.wikipathways.org/listOrganisms\"\n",
    "    http = urllib3.PoolManager()\n",
    "    response = http.request('GET',request_url)\n",
    "\n",
    "    if response.status == 200: \n",
    "        '''Get the data from the API's response'''\n",
    "        data = response.data\n",
    "        print(data)\n",
    "        \n",
    "        #Not in json, find out how to parse xml in python\n",
    "        \n",
    "        #extract the wanted data from what you parsed\n",
    "        \n",
    "        #y = json.loads(data)\n",
    "        \"\"\"\n",
    "\n",
    "        '''Add name of each protein to list of interacting proteins'''\n",
    "        for entry in y:\n",
    "            if y[entry]['OFFICIAL_SYMBOL_A'] not in interacting_proteins:\n",
    "                interacting_proteins.append(y[entry]['OFFICIAL_SYMBOL_A'])\n",
    "\n",
    "        '''Return this list to caller'''\n",
    "        return interacting_proteins\n",
    "        \"\"\"\n",
    "\n",
    "    else:\n",
    "        print(\"Error accessing api!\")\n",
    "        \n",
    "\n",
    "except Exception as err:\n",
    "    print(\"Error accessing api, \" , err)"
   ]
  },
  {
   "cell_type": "code",
   "execution_count": null,
   "metadata": {},
   "outputs": [],
   "source": []
  },
  {
   "cell_type": "code",
   "execution_count": null,
   "metadata": {},
   "outputs": [],
   "source": []
  }
 ],
 "metadata": {
  "kernelspec": {
   "display_name": "Python 3",
   "language": "python",
   "name": "python3"
  },
  "language_info": {
   "codemirror_mode": {
    "name": "ipython",
    "version": 3
   },
   "file_extension": ".py",
   "mimetype": "text/x-python",
   "name": "python",
   "nbconvert_exporter": "python",
   "pygments_lexer": "ipython3",
   "version": "3.7.4"
  }
 },
 "nbformat": 4,
 "nbformat_minor": 2
}
