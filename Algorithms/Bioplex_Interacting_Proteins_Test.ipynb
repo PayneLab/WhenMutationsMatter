{
 "cells": [
  {
   "cell_type": "code",
   "execution_count": 1,
   "metadata": {},
   "outputs": [
    {
     "name": "stderr",
     "output_type": "stream",
     "text": [
      "/anaconda3/lib/python3.6/site-packages/requests/__init__.py:91: RequestsDependencyWarning: urllib3 (1.25.3) or chardet (3.0.4) doesn't match a supported version!\n",
      "  RequestsDependencyWarning)\n"
     ]
    }
   ],
   "source": [
    "import pandas as pd\n",
    "import numpy as np\n",
    "import scipy.stats\n",
    "from scipy.stats import pearsonr\n",
    "import matplotlib.pyplot as plt\n",
    "import re\n",
    "import seaborn as sns\n",
    "import statsmodels.stats.multitest\n",
    "import sys\n",
    "import urllib3\n",
    "import json\n",
    "import operator\n",
    "import collections\n",
    "\n",
    "import cptac\n",
    "\n",
    "\n",
    "import cptac.algorithms as al"
   ]
  },
  {
   "cell_type": "code",
   "execution_count": 2,
   "metadata": {},
   "outputs": [
    {
     "data": {
      "text/plain": [
       "['BCL7A', 'SS18', 'SMARCE1', 'BCL7C', 'DPF2', 'SMARCD1', 'DPF3', 'SMARCC2']"
      ]
     },
     "execution_count": 2,
     "metadata": {},
     "output_type": "execute_result"
    }
   ],
   "source": [
    "interacting_proteins = al.get_interacting_proteins_bioplex('ARID1A')\n",
    "\n",
    "interacting_proteins"
   ]
  },
  {
   "cell_type": "code",
   "execution_count": 3,
   "metadata": {},
   "outputs": [
    {
     "data": {
      "text/plain": [
       "['BCL7A',\n",
       " 'SS18',\n",
       " 'SMARCE1',\n",
       " 'BCL7C',\n",
       " 'DPF2',\n",
       " 'SMARCD1',\n",
       " 'DPF3',\n",
       " 'SMARCC2',\n",
       " 'SMARCC1',\n",
       " 'POTEJ',\n",
       " 'SMARCA2',\n",
       " 'ARID2',\n",
       " 'DPF1',\n",
       " 'BRD7',\n",
       " 'SMARCB1',\n",
       " 'ACTL6B',\n",
       " 'ACTL6A',\n",
       " 'KLHL23',\n",
       " 'GLTSCR1',\n",
       " 'PBRM1',\n",
       " 'SPIRE1',\n",
       " 'MKL1',\n",
       " 'INO80',\n",
       " 'BRD9',\n",
       " 'SPIRE2',\n",
       " 'INO80E',\n",
       " 'SMARCD3',\n",
       " 'GSN',\n",
       " 'MYO1B',\n",
       " 'ACTBL2',\n",
       " 'SMARCA4',\n",
       " 'CAP1',\n",
       " 'PHACTR4',\n",
       " 'ARID1A',\n",
       " 'MKL2',\n",
       " 'SMARCD2',\n",
       " 'SCIN',\n",
       " 'COX4NB',\n",
       " 'TWF2',\n",
       " 'CAP2',\n",
       " 'ARID1B',\n",
       " 'ACTR8',\n",
       " 'KIAA0240',\n",
       " 'PHACTR2',\n",
       " 'PHF10',\n",
       " 'WDR54',\n",
       " 'INO80C',\n",
       " 'BCL7B',\n",
       " 'SS18L1',\n",
       " 'STK11IP',\n",
       " 'C15orf44',\n",
       " 'ACTB',\n",
       " 'LIMA1',\n",
       " 'ACTR5',\n",
       " 'FBXO30',\n",
       " 'INO80B',\n",
       " 'TWF1',\n",
       " 'NFRKB',\n",
       " 'ACTA2',\n",
       " 'CIZ1',\n",
       " 'ACTR10',\n",
       " 'PKP3',\n",
       " 'NUP50',\n",
       " 'DUSP14',\n",
       " 'LRRC15',\n",
       " 'PADI3',\n",
       " 'PLCD1',\n",
       " 'RELB',\n",
       " 'SELENBP1',\n",
       " 'JMJD7-PLA2G4B',\n",
       " 'DSG4',\n",
       " 'DCX',\n",
       " 'NEUROD1',\n",
       " 'AGMAT',\n",
       " 'UBE3A',\n",
       " 'TEX13A',\n",
       " 'SFPQ']"
      ]
     },
     "execution_count": 3,
     "metadata": {},
     "output_type": "execute_result"
    }
   ],
   "source": [
    "secondary_included = al.get_interacting_proteins_bioplex('ARID1A', secondary_interactions=True)\n",
    "\n",
    "secondary_included"
   ]
  }
 ],
 "metadata": {
  "kernelspec": {
   "display_name": "Python 3",
   "language": "python",
   "name": "python3"
  },
  "language_info": {
   "codemirror_mode": {
    "name": "ipython",
    "version": 3
   },
   "file_extension": ".py",
   "mimetype": "text/x-python",
   "name": "python",
   "nbconvert_exporter": "python",
   "pygments_lexer": "ipython3",
   "version": "3.6.8"
  }
 },
 "nbformat": 4,
 "nbformat_minor": 2
}
