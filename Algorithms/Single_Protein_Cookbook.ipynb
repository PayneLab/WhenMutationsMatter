{
 "cells": [
  {
   "cell_type": "code",
   "execution_count": 1,
   "metadata": {},
   "outputs": [
    {
     "name": "stdout",
     "output_type": "stream",
     "text": [
      "Welcome to the CPTAC data service package. Available datasets may be\n",
      "viewed using CPTAC.list_data(). In order to access a specific data\n",
      "set, import a CPTAC subfolder using either 'import CPTAC.Dataset' or\n",
      "'from CPTAC import Dataset'.\n",
      "******\n",
      "Version: 0.3.1\n",
      "******\n",
      "Loading Endometrial CPTAC data:\n",
      "Loading Dictionary...\n",
      "Loading Clinical Data...\n",
      "Loading Acetylation Proteomics Data...\n",
      "Loading Proteomics Data...\n",
      "Loading Transcriptomics Data...\n",
      "Loading CNA Data...\n",
      "Loading Phosphoproteomics Data...\n",
      "Loading Somatic Mutation Data...\n",
      "\n",
      " ******PLEASE READ******\n",
      "WARNING: This data is under a publication embargo until July 1, 2019.\n",
      "CPTAC is a community resource project and data are made available\n",
      "rapidly after generation for community research use. The embargo\n",
      "allows exploring and utilizing the data, but the data may not be in a\n",
      "publication until July 1, 2019. Please see\n",
      "https://proteomics.cancer.gov/data-portal/about/data-use-agreement or\n",
      "enter embargo() to open the webpage for more details.\n"
     ]
    }
   ],
   "source": [
    "import pandas as pd\n",
    "import numpy as np\n",
    "import scipy.stats\n",
    "import collections\n",
    "import re\n",
    "\n",
    "import CPTAC.Endometrial as en\n",
    "import CPTAC.Algorithms as al"
   ]
  },
  {
   "cell_type": "code",
   "execution_count": 2,
   "metadata": {},
   "outputs": [
    {
     "name": "stdout",
     "output_type": "stream",
     "text": [
      "ovarian\n",
      "['PTEN', 'PIK3CA', 'ARID1A', 'PIK3R1', 'KRAS', 'CTNNB1', 'CTCF', 'KMT2B', 'TP53', 'ZFHX3', 'ZFHX4', 'DOCK3', 'INPPL1', 'FBXW7', 'MUC16', 'KMT2D', 'HERC2', 'RPL22', 'RBM27', 'NSD1', 'SYNE1', 'SCAF4', 'PCLO', 'JAK1', 'CCDC168', 'ZNF469', 'LMAN1', 'OBSCN', 'AHNAK', 'HUWE1', 'DNAH17']\n"
     ]
    }
   ],
   "source": [
    "somatic = en.get_mutations()\n",
    "clinical = en.get_clinical()\n",
    "prot = en.get_proteomics()\n",
    "gene = 'PTEN'\n",
    "omics_mutations = en.append_mutations_to_omics(mutation_genes=gene, omics_df=prot, omics_genes=gene)\n",
    "omics_mutations = omics_mutations.loc[omics_mutations['Sample_Status'] == 'Tumor']\n",
    "\n",
    "fm = al.get_frequently_mutated(somatic, omics_mutations, .15, show_percentage=False)\n",
    "print(fm)"
   ]
  },
  {
   "cell_type": "code",
   "execution_count": 11,
   "metadata": {},
   "outputs": [
    {
     "name": "stdout",
     "output_type": "stream",
     "text": [
      "\n",
      "Gene:  CTNNB1\n",
      "            Comparison       P_Value\n",
      "0    CTNNB1_proteomics  1.374820e-11\n",
      "1    CTNNA2_proteomics  3.221686e-09\n",
      "2      LEF1_proteomics  1.083350e-07\n",
      "3  CTNNBIP1_proteomics  2.340440e-06\n",
      "4      CDH2_proteomics  1.718146e-04\n",
      "5     AXIN1_proteomics  1.402113e-03\n",
      "\n",
      "\n",
      "\n"
     ]
    }
   ],
   "source": [
    "'''Select Gene From List Above'''\n",
    "protein = 'CTNNB1'\n",
    "proteomics = en.get_proteomics()\n",
    "try:\n",
    "    print(\"\\nGene: \", protein)\n",
    "    interacting_proteins = al.get_interacting_proteins(protein)\n",
    "    ips = []\n",
    "    for ip in interacting_proteins:\n",
    "        if ip in proteomics.columns:\n",
    "            ips.append(ip)\n",
    "\n",
    "    protdf = en.append_mutations_to_omics(mutation_genes=[protein], omics_df=proteomics, omics_genes=ips)\n",
    "    protdf = protdf.loc[protdf['Sample_Status'] == 'Tumor']\n",
    "\n",
    "    for ind, row in protdf.iterrows():\n",
    "        if 'Wildtype_Tumor' not in row[protein+\"_Mutation\"]:\n",
    "            protdf.at[ind,'Label'] = 'Mutated'\n",
    "        else:\n",
    "            protdf.at[ind,'Label'] = 'Wildtype'\n",
    "\n",
    "    protdf = protdf.drop(protein+\"_Mutation\",axis=1)\n",
    "    protdf = protdf.drop(protein+\"_Location\",axis=1)\n",
    "    protdf = protdf.drop(\"Sample_Status\",axis=1)\n",
    "\n",
    "    columns_to_comp = []\n",
    "    for ip in ips:\n",
    "        columns_to_comp.append(ip+\"_proteomics\")\n",
    "\n",
    "    wrap_results = al.wrap_ttest(protdf, 'Label', columns_to_comp)\n",
    "\n",
    "    if wrap_results is not None:\n",
    "        print(wrap_results)\n",
    "        print(\"\\n\\n\")\n",
    "\n",
    "except:\n",
    "    print(\"Error with: \", protein, \"!\")"
   ]
  },
  {
   "cell_type": "code",
   "execution_count": null,
   "metadata": {},
   "outputs": [],
   "source": []
  }
 ],
 "metadata": {
  "kernelspec": {
   "display_name": "Python 3",
   "language": "python",
   "name": "python3"
  },
  "language_info": {
   "codemirror_mode": {
    "name": "ipython",
    "version": 3
   },
   "file_extension": ".py",
   "mimetype": "text/x-python",
   "name": "python",
   "nbconvert_exporter": "python",
   "pygments_lexer": "ipython3",
   "version": "3.6.8"
  }
 },
 "nbformat": 4,
 "nbformat_minor": 2
}
