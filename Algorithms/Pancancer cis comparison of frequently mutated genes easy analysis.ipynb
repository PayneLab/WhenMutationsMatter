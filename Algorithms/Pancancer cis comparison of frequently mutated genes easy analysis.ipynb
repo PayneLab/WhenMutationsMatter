{
 "cells": [
  {
   "cell_type": "markdown",
   "metadata": {},
   "source": [
    "## Step 1: Library Imports"
   ]
  },
  {
   "cell_type": "markdown",
   "metadata": {},
   "source": [
    "Run this cell to import the necessary libraries"
   ]
  },
  {
   "cell_type": "code",
   "execution_count": 1,
   "metadata": {},
   "outputs": [],
   "source": [
    "import pandas as pd\n",
    "import numpy as np\n",
    "import seaborn as sns\n",
    "import matplotlib.pyplot as plt\n",
    "import scipy.stats\n",
    "\n",
    "import cptac\n",
    "import cptac.algorithms as al"
   ]
  },
  {
   "cell_type": "markdown",
   "metadata": {},
   "source": [
    "## Step 2: Find the frequently mutated genes for Endometrial Cancer"
   ]
  },
  {
   "cell_type": "markdown",
   "metadata": {},
   "source": [
    "Enter the type of cancer and the cutoff for mutation frequency that you would like to use."
   ]
  },
  {
   "cell_type": "code",
   "execution_count": 105,
   "metadata": {},
   "outputs": [
    {
     "name": "stdout",
     "output_type": "stream",
     "text": [
      "\u001b[Kding transcriptomics_linear data.....\r"
     ]
    }
   ],
   "source": [
    "en_object = cptac.Endometrial()\n",
    "desired_cutoff = .15\n",
    "\n",
    "endometrial_freq_mut = al.get_frequently_mutated(en_object, cutoff=desired_cutoff)\n",
    "#print(endometrial_freq_mut)"
   ]
  },
  {
   "cell_type": "markdown",
   "metadata": {},
   "source": [
    "## Step 3: Select a gene from the list of frequently mutated genes above"
   ]
  },
  {
   "cell_type": "markdown",
   "metadata": {},
   "source": [
    "Set the gene to which of the above frequently mutated genes you want to examine. For example, if you want to look at the gene PTEN, change the cell below to say \"gene = 'ARID1A'\""
   ]
  },
  {
   "cell_type": "code",
   "execution_count": 95,
   "metadata": {},
   "outputs": [],
   "source": [
    "gene = 'KMT2D'"
   ]
  },
  {
   "cell_type": "markdown",
   "metadata": {},
   "source": [
    "## Step 4: Select desired omics comparison"
   ]
  },
  {
   "cell_type": "markdown",
   "metadata": {},
   "source": [
    "Select which type of omics you want to compare. If you want to compare proteomics data for the interacting proteins, uncomment the \"omics = en.get_proteomics()\" line, etc."
   ]
  },
  {
   "cell_type": "code",
   "execution_count": 96,
   "metadata": {},
   "outputs": [],
   "source": [
    "omics = en_object.get_proteomics()\n",
    "#omics = en_object.get_transcriptomics()\n",
    "#omics = en_object.get_phosphoproteomics()\n",
    "#omics = en_object.get_acetylproteomics()"
   ]
  },
  {
   "cell_type": "markdown",
   "metadata": {},
   "source": [
    "## Step 5: cis comparison "
   ]
  },
  {
   "cell_type": "markdown",
   "metadata": {},
   "source": [
    "Determine if the DNA mutation has an effect on the omics measurement. In order to do this, we have a few steps in code.\n",
    "1. get a table with both the omics and mutation data for tumors\n",
    "2. get a binary column from the mutation data to separate our samples\n",
    "3. format data frame to be used in the T-test\n",
    "4. send data to the T-test.\n",
    "5. visualize comparison"
   ]
  },
  {
   "cell_type": "code",
   "execution_count": 147,
   "metadata": {},
   "outputs": [
    {
     "name": "stdout",
     "output_type": "stream",
     "text": [
      "ZNF469 did not match any columns in proteomics dataframe. ZNF469_proteomics column inserted, but filled with NaN.\n",
      "Not possible to do T-test.\n"
     ]
    }
   ],
   "source": [
    "gene = 'ZNF469'\n",
    "omics = en_object.get_proteomics()\n",
    "# Step 1 - Create dataframe in order to do comparisons with wrap_ttest - drop nan values\n",
    "omics_and_mutations = en_object.append_mutations_to_omics(\n",
    "    mutation_genes = gene, omics_df_name = omics.name, omics_genes = gene).dropna()\n",
    "\n",
    "# Check if values in omics data\n",
    "if omics_and_mutations[gene+\"_\"+omics.name].empty:\n",
    "    print('Not possible to do T-test.')\n",
    "\n",
    "else:\n",
    "    # Step 2 - Create the binary column needed to do the comparison\n",
    "    omics_and_mutations['binary_mutations'] = np.where(\n",
    "        omics_and_mutations[gene+'_Mutation_Status'] == 'Wildtype_Tumor', 'Wildtype', 'Mutated')\n",
    "\n",
    "    # Step 3 - Format the dataframe correctly for the T-test(just omics and binary columns for tumors)\n",
    "    tumors = omics_and_mutations.loc[omics_and_mutations['Sample_Status'] == 'Tumor']\n",
    "    columns_to_drop = [gene+\"_Mutation\", gene+\"_Location\", gene+\"_Mutation_Status\", \"Sample_Status\"]\n",
    "    omics_binary_mutations = tumors.drop(columns_to_drop, axis = 1)\n",
    "\n",
    "    # Make a list of the column label of omics to be used in the wrap_ttest function\n",
    "    omics_col_list = [omics_binary_mutations.columns[0]] \n",
    "\n",
    "    # Step 4 - T-test comparing means of mutated vs wildtype effect on cis omics\n",
    "    print(\"Doing t-test comparison for En\\n\")\n",
    "    significant_pval_results = al.wrap_ttest(omics_binary_mutations, 'binary_mutations', omics_col_list)\n",
    "    print('Significant Results:\\n\\n',significant_pval_results)\n",
    "\n"
   ]
  },
  {
   "cell_type": "markdown",
   "metadata": {},
   "source": [
    "# Repeat with the Colon dataset"
   ]
  },
  {
   "cell_type": "code",
   "execution_count": 145,
   "metadata": {},
   "outputs": [
    {
     "name": "stdout",
     "output_type": "stream",
     "text": [
      "\u001b[Kding transcriptomics data.....ata....\r"
     ]
    }
   ],
   "source": [
    "colon_object = cptac.Colon()\n",
    "desired_cutoff = .15\n",
    "\n",
    "colon_freq_mut = al.get_frequently_mutated(colon_object, cutoff=desired_cutoff)"
   ]
  },
  {
   "cell_type": "code",
   "execution_count": 148,
   "metadata": {},
   "outputs": [
    {
     "name": "stdout",
     "output_type": "stream",
     "text": [
      "ZNF469\n",
      "ZNF469 did not match any columns in proteomics dataframe. ZNF469_proteomics column inserted, but filled with NaN.\n",
      "Not possible to do T-test.\n"
     ]
    }
   ],
   "source": [
    "print(gene)\n",
    "omics = colon_object.get_proteomics()\n",
    "# Step 1 - Create dataframe in order to do comparisons with wrap_ttest - drop nan values?\n",
    "omics_and_mutations = colon_object.append_mutations_to_omics(\n",
    "    mutation_genes = gene, omics_df_name = omics.name, omics_genes = gene).dropna()\n",
    "\n",
    "# Check if values in omics data\n",
    "if omics_and_mutations[gene+\"_\"+omics.name].empty:\n",
    "    print('Not possible to do T-test.')\n",
    "\n",
    "else:\n",
    "    # Step 2 - Create the binary column needed to do the comparison\n",
    "    omics_and_mutations['binary_mutations'] = np.where(\n",
    "        omics_and_mutations[gene+'_Mutation_Status'] == 'Wildtype_Tumor', 'Wildtype', 'Mutated')\n",
    "\n",
    "    # Step 3 - Format the dataframe correctly for the T-test(just omics and binary columns for tumors)\n",
    "    tumors = omics_and_mutations.loc[omics_and_mutations['Sample_Status'] == 'Tumor']\n",
    "    columns_to_drop = [gene+\"_Mutation\", gene+\"_Location\", gene+\"_Mutation_Status\", \"Sample_Status\"]\n",
    "    co_omics_binary_mutations = tumors.drop(columns_to_drop, axis = 1)\n",
    "\n",
    "    # Make a list of the column label of omics to be used in the wrap_ttest function\n",
    "    omics_col_list = [co_omics_binary_mutations.columns[0]] \n",
    "\n",
    "    # Step 4 - T-test comparing means of mutated vs wildtype effect on cis omics\n",
    "    print(\"Doing t-test comparison for colon\\n\")\n",
    "    significant_pval_results = al.wrap_ttest(co_omics_binary_mutations, 'binary_mutations', omics_col_list)\n",
    "    print(significant_pval_results)\n",
    "   "
   ]
  },
  {
   "cell_type": "code",
   "execution_count": 149,
   "metadata": {},
   "outputs": [
    {
     "ename": "ValueError",
     "evalue": "Could not interpret input 'ZNF469_proteomics'",
     "output_type": "error",
     "traceback": [
      "\u001b[1;31m---------------------------------------------------------------------------\u001b[0m",
      "\u001b[1;31mValueError\u001b[0m                                Traceback (most recent call last)",
      "\u001b[1;32m<ipython-input-149-4406631ae2fe>\u001b[0m in \u001b[0;36m<module>\u001b[1;34m\u001b[0m\n\u001b[0;32m      1\u001b[0m \u001b[1;31m# Visualize endometrial comparison\u001b[0m\u001b[1;33m\u001b[0m\u001b[1;33m\u001b[0m\u001b[1;33m\u001b[0m\u001b[0m\n\u001b[0;32m      2\u001b[0m en_cis_boxplot = sns.boxplot(data = omics_binary_mutations, x = \"binary_mutations\",\n\u001b[1;32m----> 3\u001b[1;33m                           y = gene+\"_proteomics\", order = [\"Wildtype\",\"Mutated\"])  \n\u001b[0m\u001b[0;32m      4\u001b[0m \u001b[0men_cis_boxplot\u001b[0m\u001b[1;33m.\u001b[0m\u001b[0mset_title\u001b[0m\u001b[1;33m(\u001b[0m\u001b[0mgene\u001b[0m \u001b[1;33m+\u001b[0m \u001b[1;34m\" effect on endometrial tumor \"\u001b[0m \u001b[1;33m+\u001b[0m \u001b[0momics\u001b[0m\u001b[1;33m.\u001b[0m\u001b[0mname\u001b[0m \u001b[1;33m+\u001b[0m \u001b[1;34m\" abundance\"\u001b[0m\u001b[1;33m)\u001b[0m\u001b[1;33m\u001b[0m\u001b[1;33m\u001b[0m\u001b[0m\n\u001b[0;32m      5\u001b[0m en_cis_boxplot = sns.stripplot(data=omics_binary_mutations, x = \"binary_mutations\",\n",
      "\u001b[1;32m~\\Anaconda3\\envs\\Research\\lib\\site-packages\\seaborn\\categorical.py\u001b[0m in \u001b[0;36mboxplot\u001b[1;34m(x, y, hue, data, order, hue_order, orient, color, palette, saturation, width, dodge, fliersize, linewidth, whis, notch, ax, **kwargs)\u001b[0m\n\u001b[0;32m   2229\u001b[0m     plotter = _BoxPlotter(x, y, hue, data, order, hue_order,\n\u001b[0;32m   2230\u001b[0m                           \u001b[0morient\u001b[0m\u001b[1;33m,\u001b[0m \u001b[0mcolor\u001b[0m\u001b[1;33m,\u001b[0m \u001b[0mpalette\u001b[0m\u001b[1;33m,\u001b[0m \u001b[0msaturation\u001b[0m\u001b[1;33m,\u001b[0m\u001b[1;33m\u001b[0m\u001b[1;33m\u001b[0m\u001b[0m\n\u001b[1;32m-> 2231\u001b[1;33m                           width, dodge, fliersize, linewidth)\n\u001b[0m\u001b[0;32m   2232\u001b[0m \u001b[1;33m\u001b[0m\u001b[0m\n\u001b[0;32m   2233\u001b[0m     \u001b[1;32mif\u001b[0m \u001b[0max\u001b[0m \u001b[1;32mis\u001b[0m \u001b[1;32mNone\u001b[0m\u001b[1;33m:\u001b[0m\u001b[1;33m\u001b[0m\u001b[1;33m\u001b[0m\u001b[0m\n",
      "\u001b[1;32m~\\Anaconda3\\envs\\Research\\lib\\site-packages\\seaborn\\categorical.py\u001b[0m in \u001b[0;36m__init__\u001b[1;34m(self, x, y, hue, data, order, hue_order, orient, color, palette, saturation, width, dodge, fliersize, linewidth)\u001b[0m\n\u001b[0;32m    444\u001b[0m                  width, dodge, fliersize, linewidth):\n\u001b[0;32m    445\u001b[0m \u001b[1;33m\u001b[0m\u001b[0m\n\u001b[1;32m--> 446\u001b[1;33m         \u001b[0mself\u001b[0m\u001b[1;33m.\u001b[0m\u001b[0mestablish_variables\u001b[0m\u001b[1;33m(\u001b[0m\u001b[0mx\u001b[0m\u001b[1;33m,\u001b[0m \u001b[0my\u001b[0m\u001b[1;33m,\u001b[0m \u001b[0mhue\u001b[0m\u001b[1;33m,\u001b[0m \u001b[0mdata\u001b[0m\u001b[1;33m,\u001b[0m \u001b[0morient\u001b[0m\u001b[1;33m,\u001b[0m \u001b[0morder\u001b[0m\u001b[1;33m,\u001b[0m \u001b[0mhue_order\u001b[0m\u001b[1;33m)\u001b[0m\u001b[1;33m\u001b[0m\u001b[1;33m\u001b[0m\u001b[0m\n\u001b[0m\u001b[0;32m    447\u001b[0m         \u001b[0mself\u001b[0m\u001b[1;33m.\u001b[0m\u001b[0mestablish_colors\u001b[0m\u001b[1;33m(\u001b[0m\u001b[0mcolor\u001b[0m\u001b[1;33m,\u001b[0m \u001b[0mpalette\u001b[0m\u001b[1;33m,\u001b[0m \u001b[0msaturation\u001b[0m\u001b[1;33m)\u001b[0m\u001b[1;33m\u001b[0m\u001b[1;33m\u001b[0m\u001b[0m\n\u001b[0;32m    448\u001b[0m \u001b[1;33m\u001b[0m\u001b[0m\n",
      "\u001b[1;32m~\\Anaconda3\\envs\\Research\\lib\\site-packages\\seaborn\\categorical.py\u001b[0m in \u001b[0;36mestablish_variables\u001b[1;34m(self, x, y, hue, data, orient, order, hue_order, units)\u001b[0m\n\u001b[0;32m    153\u001b[0m                 \u001b[1;32mif\u001b[0m \u001b[0misinstance\u001b[0m\u001b[1;33m(\u001b[0m\u001b[0minput\u001b[0m\u001b[1;33m,\u001b[0m \u001b[0mstring_types\u001b[0m\u001b[1;33m)\u001b[0m\u001b[1;33m:\u001b[0m\u001b[1;33m\u001b[0m\u001b[1;33m\u001b[0m\u001b[0m\n\u001b[0;32m    154\u001b[0m                     \u001b[0merr\u001b[0m \u001b[1;33m=\u001b[0m \u001b[1;34m\"Could not interpret input '{}'\"\u001b[0m\u001b[1;33m.\u001b[0m\u001b[0mformat\u001b[0m\u001b[1;33m(\u001b[0m\u001b[0minput\u001b[0m\u001b[1;33m)\u001b[0m\u001b[1;33m\u001b[0m\u001b[1;33m\u001b[0m\u001b[0m\n\u001b[1;32m--> 155\u001b[1;33m                     \u001b[1;32mraise\u001b[0m \u001b[0mValueError\u001b[0m\u001b[1;33m(\u001b[0m\u001b[0merr\u001b[0m\u001b[1;33m)\u001b[0m\u001b[1;33m\u001b[0m\u001b[1;33m\u001b[0m\u001b[0m\n\u001b[0m\u001b[0;32m    156\u001b[0m \u001b[1;33m\u001b[0m\u001b[0m\n\u001b[0;32m    157\u001b[0m             \u001b[1;31m# Figure out the plotting orientation\u001b[0m\u001b[1;33m\u001b[0m\u001b[1;33m\u001b[0m\u001b[1;33m\u001b[0m\u001b[0m\n",
      "\u001b[1;31mValueError\u001b[0m: Could not interpret input 'ZNF469_proteomics'"
     ]
    }
   ],
   "source": [
    "# Visualize endometrial comparison\n",
    "en_cis_boxplot = sns.boxplot(data = omics_binary_mutations, x = \"binary_mutations\",\n",
    "                          y = gene+\"_proteomics\", order = [\"Wildtype\",\"Mutated\"])  \n",
    "en_cis_boxplot.set_title(gene + \" effect on endometrial tumor \" + omics.name + \" abundance\")\n",
    "en_cis_boxplot = sns.stripplot(data=omics_binary_mutations, x = \"binary_mutations\",\n",
    "                            y = gene+\"_proteomics\",jitter = True, color = \".3\", order = [\"Wildtype\",\"Mutated\"])\n",
    "en_cis_boxplot.set(xlabel = gene + \" Mutation Status in Tumors\", ylabel = \"Proteomics\")\n",
    "plt.show()\n",
    "\n",
    "# Step 5 - Visualize colon comparison\n",
    "cis_boxplot = sns.boxplot(data = co_omics_binary_mutations, x = \"binary_mutations\",\n",
    "                          y = gene+\"_proteomics\", order = [\"Wildtype\",\"Mutated\"])  \n",
    "cis_boxplot.set_title(gene + \" effect on colon tumor \" + omics.name + \" abundance\")\n",
    "cis_boxplot = sns.stripplot(data = co_omics_binary_mutations, x = \"binary_mutations\",\n",
    "                            y = gene+\"_proteomics\",jitter = True, color = \".3\", order = [\"Wildtype\",\"Mutated\"])\n",
    "cis_boxplot.set(xlabel = gene + \" Mutation Status in Tumors\", ylabel = \"Proteomics\")\n",
    "plt.show()\n",
    "\n"
   ]
  },
  {
   "cell_type": "markdown",
   "metadata": {},
   "source": [
    "Print the frequently mutated genes names for the colon dataset."
   ]
  },
  {
   "cell_type": "markdown",
   "metadata": {},
   "source": [
    "Create a dataframe of the frequently mutated genes in common between Colon and Endometrial datasets."
   ]
  },
  {
   "cell_type": "code",
   "execution_count": 50,
   "metadata": {},
   "outputs": [
    {
     "name": "stdout",
     "output_type": "stream",
     "text": [
      "ARID1A\n",
      "CCDC168\n",
      "DOCK3\n",
      "FBXW7\n",
      "HERC2\n",
      "KMT2B\n",
      "KMT2D\n",
      "KRAS\n",
      "MUC16\n",
      "OBSCN\n",
      "PCLO\n",
      "PIK3CA\n",
      "RPL22\n",
      "SYNE1\n",
      "TP53\n",
      "ZFHX4\n",
      "ZNF469\n"
     ]
    }
   ],
   "source": [
    "endometrial_genes = endometrial_freq_mut['Gene']\n",
    "colon_genes = colon_freq_mut['Gene']\n",
    "common_genes = pd.merge(endometrial_genes, colon_genes, how='inner')\n",
    "e = list(common_genes['Gene'])\n",
    "for i in e:\n",
    "    print(i)"
   ]
  },
  {
   "cell_type": "markdown",
   "metadata": {},
   "source": [
    "Check difference in omics data between cancers."
   ]
  },
  {
   "cell_type": "code",
   "execution_count": 102,
   "metadata": {},
   "outputs": [],
   "source": [
    "#gene = 'ARID1A'\n",
    "\n",
    "omics = colon_object.get_proteomics()\n",
    "#omics = colon_object.get_transcriptomics()\n",
    "#omics = colon_object.get_phosphoproteomics()\n",
    "#omics = colon_object.get_acetylproteomics()"
   ]
  },
  {
   "cell_type": "markdown",
   "metadata": {},
   "source": [
    "If gene does not match any columns in omics dataframe, skip the next cell."
   ]
  },
  {
   "cell_type": "code",
   "execution_count": 104,
   "metadata": {},
   "outputs": [
    {
     "data": {
      "image/png": "[encoded data removed]",
      "text/plain": [
       "<Figure size 432x288 with 1 Axes>"
      ]
     },
     "metadata": {
      "needs_background": "light"
     },
     "output_type": "display_data"
    }
   ],
   "source": [
    "# Step 5 - Visualize comparison\n",
    "cis_boxplot = sns.boxplot(data = co_omics_binary_mutations, x = \"binary_mutations\",\n",
    "                          y = gene+\"_proteomics\", order = [\"Wildtype\",\"Mutated\"])  \n",
    "cis_boxplot.set_title(gene + \" effect on \" + omics.name + \" abundance\")\n",
    "cis_boxplot = sns.stripplot(data = co_omics_binary_mutations, x = \"binary_mutations\",\n",
    "                            y = gene+\"_proteomics\",jitter = True, color = \".3\", order = [\"Wildtype\",\"Mutated\"])\n",
    "cis_boxplot.set(xlabel = gene + \" Mutation Status in Tumors\", ylabel = \"Proteomics\")\n",
    "plt.show()\n",
    "\n"
   ]
  },
  {
   "cell_type": "code",
   "execution_count": 58,
   "metadata": {},
   "outputs": [
    {
     "data": {
      "image/png": "[encoded data removed]",
      "text/plain": [
       "<Figure size 432x288 with 1 Axes>"
      ]
     },
     "metadata": {
      "needs_background": "light"
     },
     "output_type": "display_data"
    }
   ],
   "source": [
    "#endometrial\n",
    "en_cis_boxplot = sns.boxplot(data = omics_binary_mutations, x = \"binary_mutations\",\n",
    "                          y = gene+\"_proteomics\", order = [\"Wildtype\",\"Mutated\"])  \n",
    "en_cis_boxplot.set_title(gene + \" effect on \" + omics.name + \" abundance\")\n",
    "en_cis_boxplot = sns.stripplot(data=omics_binary_mutations, x = \"binary_mutations\",\n",
    "                            y = gene+\"_proteomics\",jitter = True, color = \".3\", order = [\"Wildtype\",\"Mutated\"])\n",
    "en_cis_boxplot.set(xlabel = gene + \" Mutation Status in Tumors\", ylabel = \"Proteomics\")\n",
    "plt.show()"
   ]
  },
  {
   "cell_type": "code",
   "execution_count": null,
   "metadata": {},
   "outputs": [],
   "source": []
  },
  {
   "cell_type": "markdown",
   "metadata": {},
   "source": [
    "# Repeat with Ovarian dataset"
   ]
  },
  {
   "cell_type": "code",
   "execution_count": 27,
   "metadata": {},
   "outputs": [
    {
     "name": "stdout",
     "output_type": "stream",
     "text": [
      "\u001b[Kding treatment data...ata........\r"
     ]
    }
   ],
   "source": [
    "ovarian_object = cptac.Ovarian()\n",
    "desired_cutoff = .1\n",
    "\n",
    "ovarian_freq_mut = al.get_frequently_mutated(ovarian_object, cutoff=desired_cutoff)"
   ]
  },
  {
   "cell_type": "code",
   "execution_count": 31,
   "metadata": {},
   "outputs": [
    {
     "name": "stdout",
     "output_type": "stream",
     "text": [
      "    Gene\n",
      "0  MUC16\n",
      "1  MUC17\n",
      "2  MUC5B\n",
      "3   TP53\n"
     ]
    }
   ],
   "source": [
    "ovarian_genes = ovarian_freq_mut['Gene']\n",
    "pancancer_commonly_mutated_genes = pd.merge(common_genes, ovarian_genes, how='inner')\n",
    "print(pancancer_commonly_mutated_genes)"
   ]
  },
  {
   "cell_type": "code",
   "execution_count": 40,
   "metadata": {},
   "outputs": [],
   "source": [
    "gene = 'TP53'\n",
    "\n",
    "omics = ovarian_object.get_proteomics()\n",
    "#omics = ovarian_object.get_transcriptomics()\n",
    "#omics = ovarian_object.get_phosphoproteomics()\n",
    "#omics = ovarian_object.get_acetylproteomics()\n"
   ]
  },
  {
   "cell_type": "code",
   "execution_count": 40,
   "metadata": {},
   "outputs": [
    {
     "name": "stdout",
     "output_type": "stream",
     "text": [
      "Doing t-test comparison\n",
      "\n",
      "No significant comparisons.\n",
      "None\n"
     ]
    },
    {
     "data": {
      "image/png": "[encoded data removed]",
      "text/plain": [
       "<Figure size 432x288 with 1 Axes>"
      ]
     },
     "metadata": {
      "needs_background": "light"
     },
     "output_type": "display_data"
    }
   ],
   "source": [
    "# Step 1 - Create dataframe in order to do comparisons with wrap_ttest - drop nan values?\n",
    "omics_and_mutations = ovarian_object.append_mutations_to_omics(\n",
    "    mutation_genes = gene, omics_df_name = omics.name, omics_genes = gene).dropna()\n",
    "\n",
    "# Check if values in omics data\n",
    "if omics_and_mutations[gene+\"_\"+omics.name].empty:\n",
    "    print('Not possible to do T-test with', omics.name + '.')\n",
    "\n",
    "else:\n",
    "    # Step 2 - Create the binary column needed to do the comparison\n",
    "    omics_and_mutations['binary_mutations'] = np.where(\n",
    "        omics_and_mutations[gene+'_Mutation_Status'] == 'Wildtype_Tumor', 'Wildtype', 'Mutated')\n",
    "\n",
    "    # Step 3 - Format the dataframe correctly for the T-test(just omics and binary columns for tumors)\n",
    "    tumors = omics_and_mutations.loc[omics_and_mutations['Sample_Status'] == 'Tumor']\n",
    "    columns_to_drop = [gene+\"_Mutation\", gene+\"_Location\", gene+\"_Mutation_Status\", \"Sample_Status\"]\n",
    "    ov_omics_binary_mutations = tumors.drop(columns_to_drop, axis = 1)\n",
    "\n",
    "    # Make a list of the column label of omics to be used in the wrap_ttest function\n",
    "    omics_col_list = [ov_omics_binary_mutations.columns[0]] \n",
    "\n",
    "    # Step 4 - T-test comparing means of mutated vs wildtype effect on cis omics\n",
    "    print(\"Doing t-test comparison\\n\")\n",
    "    significant_pval_results = al.wrap_ttest(ov_omics_binary_mutations, 'binary_mutations', omics_col_list)\n",
    "    print(significant_pval_results)\n",
    "    \n",
    "    # Step 5 - Visualize comparison\n",
    "    ov_cis_boxplot = sns.boxplot(data = ov_omics_binary_mutations, x = \"binary_mutations\",\n",
    "                              y = gene+\"_proteomics\", order = [\"Wildtype\",\"Mutated\"])  \n",
    "    ov_cis_boxplot.set_title(gene + \" effect on \" + omics.name + \" abundance\")\n",
    "    ov_cis_boxplot = sns.stripplot(\n",
    "        data = ov_omics_binary_mutations, x = \"binary_mutations\",y = gene+\"_proteomics\", \n",
    "        jitter = True, color = \".3\", order = [\"Wildtype\",\"Mutated\"])\n",
    "    ov_cis_boxplot.set(xlabel = gene + \" Mutation Status in Tumors\", ylabel = \"Proteomics\")\n",
    "    plt.show()\n",
    "\n"
   ]
  },
  {
   "cell_type": "code",
   "execution_count": null,
   "metadata": {},
   "outputs": [],
   "source": []
  }
 ],
 "metadata": {
  "kernelspec": {
   "display_name": "Python 3",
   "language": "python",
   "name": "python3"
  },
  "language_info": {
   "codemirror_mode": {
    "name": "ipython",
    "version": 3
   },
   "file_extension": ".py",
   "mimetype": "text/x-python",
   "name": "python",
   "nbconvert_exporter": "python",
   "pygments_lexer": "ipython3",
   "version": "3.7.3"
  }
 },
 "nbformat": 4,
 "nbformat_minor": 2
}
