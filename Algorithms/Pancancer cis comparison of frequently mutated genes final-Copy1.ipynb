{
 "cells": [
  {
   "cell_type": "markdown",
   "metadata": {},
   "source": [
    "# Pancancer cis comparison of frequently mutated genes"
   ]
  },
  {
   "cell_type": "markdown",
   "metadata": {},
   "source": [
    "## Step 1: Library Imports"
   ]
  },
  {
   "cell_type": "markdown",
   "metadata": {},
   "source": [
    "Run this cell to import the necessary libraries"
   ]
  },
  {
   "cell_type": "code",
   "execution_count": 1,
   "metadata": {},
   "outputs": [],
   "source": [
    "import pandas as pd\n",
    "import numpy as np\n",
    "import seaborn as sns\n",
    "import matplotlib.pyplot as plt\n",
    "import scipy.stats\n",
    "\n",
    "import cptac\n",
    "import cptac.algorithms as al"
   ]
  },
  {
   "cell_type": "markdown",
   "metadata": {},
   "source": [
    "## Step 2: Find the frequently mutated genes for Endometrial Cancer"
   ]
  },
  {
   "cell_type": "markdown",
   "metadata": {},
   "source": [
    "Enter the type of cancer and the cutoff for mutation frequency that you would like to use."
   ]
  },
  {
   "cell_type": "code",
   "execution_count": 2,
   "metadata": {},
   "outputs": [
    {
     "name": "stdout",
     "output_type": "stream",
     "text": [
      "\u001b[Kding transcriptomics_linear data.....\n",
      "\n",
      "Number of Frequently Mutated Genes: 232 \n",
      "      Gene  Unique_Samples_Mut  Missence_Mut  Truncation_Mut\n",
      "0  ABCA12            0.147368      0.094737        0.073684\n",
      "1  ABCA13            0.115789      0.105263        0.042105\n",
      "2  ACVR2A            0.105263      0.010526        0.094737\n",
      "3  ADGRG4            0.136842      0.126316        0.021053\n",
      "4  ADGRV1            0.115789      0.094737        0.052632\n"
     ]
    }
   ],
   "source": [
    "en_object = cptac.Endometrial()\n",
    "desired_cutoff = .1\n",
    "\n",
    "endometrial_freq_mut = al.get_frequently_mutated(en_object, cutoff=desired_cutoff)\n",
    "print('\\n\\nNumber of Frequently Mutated Genes:', len(endometrial_freq_mut), '\\n', endometrial_freq_mut.head())"
   ]
  },
  {
   "cell_type": "markdown",
   "metadata": {},
   "source": [
    "## Step 3: Select a gene from the list of frequently mutated genes above"
   ]
  },
  {
   "cell_type": "markdown",
   "metadata": {},
   "source": [
    "Set the gene to which of the above frequently mutated genes you want to examine. For example, if you want to look at the gene PTEN, change the cell below to say \"gene = 'MUC16'\""
   ]
  },
  {
   "cell_type": "code",
   "execution_count": 3,
   "metadata": {},
   "outputs": [],
   "source": [
    "gene = 'MUC16'"
   ]
  },
  {
   "cell_type": "markdown",
   "metadata": {},
   "source": [
    "## Step 4: Select desired omics comparison"
   ]
  },
  {
   "cell_type": "markdown",
   "metadata": {},
   "source": [
    "Select which type of omics you want to compare. If you want to compare proteomics data for the interacting proteins, uncomment the \"omics = en.get_proteomics()\" line, etc."
   ]
  },
  {
   "cell_type": "code",
   "execution_count": 4,
   "metadata": {},
   "outputs": [],
   "source": [
    "omics = en_object.get_proteomics()\n",
    "#omics = en_object.get_transcriptomics()\n",
    "#omics = en_object.get_phosphoproteomics()\n",
    "#omics = en_object.get_acetylproteomics()"
   ]
  },
  {
   "cell_type": "markdown",
   "metadata": {},
   "source": [
    "## Step 5: cis comparison "
   ]
  },
  {
   "cell_type": "markdown",
   "metadata": {},
   "source": [
    "Determine if the DNA mutation has an effect on the omics measurement. In order to do this, we have a few steps in code.\n",
    "1. get a table with both the omics and mutation data for tumors\n",
    "2. get a binary column from the mutation data to separate our samples\n",
    "3. format data frame to be used in the T-test\n",
    "4. send data to the T-test.\n",
    "5. visualize comparison"
   ]
  },
  {
   "cell_type": "code",
   "execution_count": 5,
   "metadata": {},
   "outputs": [
    {
     "name": "stdout",
     "output_type": "stream",
     "text": [
      "Doing t-test comparison\n",
      "\n",
      "         Comparison   P_Value\n",
      "0  MUC16_proteomics  0.043761\n"
     ]
    },
    {
     "data": {
      "image/png": "[encoded data removed]",
      "text/plain": [
       "<Figure size 432x288 with 1 Axes>"
      ]
     },
     "metadata": {
      "needs_background": "light"
     },
     "output_type": "display_data"
    }
   ],
   "source": [
    "# Step 1 - Create dataframe in order to do comparisons with wrap_ttest - drop nan values\n",
    "omics_and_mutations = en_object.append_mutations_to_omics(\n",
    "    mutation_genes = gene, omics_df_name = omics.name, omics_genes = gene).dropna()\n",
    "\n",
    "# Check if values in omics data (if not found in proteomics, after na dropped dataframe should be empty)\n",
    "if omics_and_mutations[gene+\"_\"+omics.name].empty:\n",
    "    print('Not possible to do T-test.')\n",
    "\n",
    "else:\n",
    "    # Step 2 - Create the binary column needed to do the comparison\n",
    "    omics_and_mutations['binary_mutations'] = np.where(\n",
    "        omics_and_mutations[gene+'_Mutation_Status'] == 'Wildtype_Tumor', 'Wildtype', 'Mutated')\n",
    "\n",
    "    # Step 3 - Format the dataframe correctly for the T-test(just omics and binary columns for tumors)\n",
    "    tumors = omics_and_mutations.loc[omics_and_mutations['Sample_Status'] == 'Tumor']\n",
    "    columns_to_drop = [gene+\"_Mutation\", gene+\"_Location\", gene+\"_Mutation_Status\", \"Sample_Status\"]\n",
    "    omics_binary_mutations = tumors.drop(columns_to_drop, axis = 1)\n",
    "\n",
    "    # Make a list of the column label of omics to be used in the wrap_ttest function\n",
    "    omics_col_list = [omics_binary_mutations.columns[0]] \n",
    "\n",
    "    # Step 4 - T-test comparing means of mutated vs wildtype effect on cis omics\n",
    "    print(\"Doing t-test comparison\\n\")\n",
    "    significant_pval_results = al.wrap_ttest(omics_binary_mutations, 'binary_mutations', omics_col_list)\n",
    "    print(significant_pval_results)\n",
    "    \n",
    "    # Step 5 - Create boxplt to compare wildtype and mutated effect on omics data\n",
    "    en_cis_boxplot = sns.boxplot(data = omics_binary_mutations, x = \"binary_mutations\",\n",
    "                              y = gene+\"_proteomics\", order = [\"Wildtype\",\"Mutated\"])  \n",
    "    en_cis_boxplot.set_title(gene + \" effect on \" + omics.name + \" abundance\")\n",
    "    en_cis_boxplot = sns.stripplot(data=omics_binary_mutations, x = \"binary_mutations\",\n",
    "                                y = gene+\"_proteomics\",jitter = True, color = \".3\", order = [\"Wildtype\",\"Mutated\"])\n",
    "    en_cis_boxplot.set(xlabel = gene + \" Mutation Status in Tumors\", ylabel = \"Proteomics\")\n",
    "    plt.show()\n",
    "\n"
   ]
  },
  {
   "cell_type": "markdown",
   "metadata": {},
   "source": [
    "# Repeat with the Colon dataset"
   ]
  },
  {
   "cell_type": "markdown",
   "metadata": {},
   "source": [
    "Go through the same process, this time using the Colon dataset. We will only print five genes from the frequently mutated data frame for simplicity."
   ]
  },
  {
   "cell_type": "code",
   "execution_count": 6,
   "metadata": {},
   "outputs": [
    {
     "name": "stdout",
     "output_type": "stream",
     "text": [
      "\u001b[Kding transcriptomics data.....ata....\n",
      "\n",
      "Number of Frequently Mutated Genes: 337 \n",
      "      Gene  Unique_Samples_Mut  Missence_Mut  Truncation_Mut\n",
      "0  ABCA13            0.172727      0.145455        0.090909\n",
      "1   ABCA2            0.154545      0.145455        0.027273\n",
      "2   ABCA4            0.127273      0.072727        0.054545\n",
      "3   ABCB4            0.118182      0.054545        0.063636\n",
      "4   ACACB            0.109091      0.100000        0.009091\n"
     ]
    }
   ],
   "source": [
    "colon_object = cptac.Colon()\n",
    "desired_cutoff = .1\n",
    "\n",
    "colon_freq_mut = al.get_frequently_mutated(colon_object, cutoff=desired_cutoff)\n",
    "print('\\n\\nNumber of Frequently Mutated Genes:', len(colon_freq_mut), '\\n', colon_freq_mut.head())"
   ]
  },
  {
   "cell_type": "code",
   "execution_count": 7,
   "metadata": {},
   "outputs": [],
   "source": [
    "#gene = 'MUC16'\n",
    "\n",
    "omics = colon_object.get_proteomics()\n",
    "#omics = colon_object.get_transcriptomics()\n",
    "#omics = colon_object.get_phosphoproteomics()\n",
    "#omics = colon_object.get_acetylproteomics()"
   ]
  },
  {
   "cell_type": "code",
   "execution_count": 8,
   "metadata": {},
   "outputs": [
    {
     "name": "stdout",
     "output_type": "stream",
     "text": [
      "MUC16 did not match any columns in proteomics dataframe. MUC16_proteomics column inserted, but filled with NaN.\n",
      "Not possible to do T-test.\n"
     ]
    }
   ],
   "source": [
    "# Step 1 - Create dataframe in order to do comparisons with wrap_ttest - drop nan values\n",
    "omics_and_mutations = colon_object.append_mutations_to_omics(\n",
    "    mutation_genes = gene, omics_df_name = omics.name, omics_genes = gene).dropna()\n",
    "\n",
    "# Check if values in omics data\n",
    "if omics_and_mutations[gene+\"_\"+omics.name].empty:\n",
    "    print('Not possible to do T-test.')\n",
    "\n",
    "else:\n",
    "    # Step 2 - Create the binary column needed to do the comparison\n",
    "    omics_and_mutations['binary_mutations'] = np.where(\n",
    "        omics_and_mutations[gene+'_Mutation_Status'] == 'Wildtype_Tumor', 'Wildtype', 'Mutated')\n",
    "\n",
    "    # Step 3 - Format the dataframe correctly for the T-test(just omics and binary columns for tumors)\n",
    "    tumors = omics_and_mutations.loc[omics_and_mutations['Sample_Status'] == 'Tumor']\n",
    "    columns_to_drop = [gene+\"_Mutation\", gene+\"_Location\", gene+\"_Mutation_Status\", \"Sample_Status\"]\n",
    "    co_omics_binary_mutations = tumors.drop(columns_to_drop, axis = 1)\n",
    "\n",
    "    # Make a list of the column label of omics to be used in the wrap_ttest function\n",
    "    omics_col_list = [co_omics_binary_mutations.columns[0]] \n",
    "\n",
    "    # Step 4 - T-test comparing means of wildtype vs mutated effect on cis omics\n",
    "    print(\"Doing t-test comparison\\n\")\n",
    "    significant_pval_results = al.wrap_ttest(co_omics_binary_mutations, 'binary_mutations', omics_col_list)\n",
    "    print(significant_pval_results)\n",
    "    \n",
    "    # Step 5 - Visualize data of wildtype vs mutated effect on cis omics\n",
    "    cis_boxplot = sns.boxplot(data = co_omics_binary_mutations, x = \"binary_mutations\",\n",
    "                              y = gene+\"_proteomics\", order = [\"Wildtype\",\"Mutated\"])  \n",
    "    cis_boxplot.set_title(gene + \" effect on cis \" + omics.name + \" abundance in colon tumors\")\n",
    "    cis_boxplot = sns.stripplot(data = co_omics_binary_mutations, x = \"binary_mutations\",\n",
    "                                y = gene+\"_proteomics\",jitter = True, color = \".3\", order = [\"Wildtype\",\"Mutated\"])\n",
    "    cis_boxplot.set(xlabel = gene + \" Mutation Status in Tumors\", ylabel = \"Proteomics\")\n",
    "    plt.show()\n"
   ]
  },
  {
   "cell_type": "markdown",
   "metadata": {},
   "source": [
    "# Repeat with the Ovarian dataset\n"
   ]
  },
  {
   "cell_type": "code",
   "execution_count": 9,
   "metadata": {},
   "outputs": [
    {
     "name": "stdout",
     "output_type": "stream",
     "text": [
      "\u001b[Kding treatment data...ata........\r"
     ]
    }
   ],
   "source": [
    "ovarian_object = cptac.Ovarian()\n",
    "desired_cutoff = .1\n",
    "\n",
    "ovarian_freq_mut = al.get_frequently_mutated(ovarian_object, cutoff=desired_cutoff)"
   ]
  },
  {
   "cell_type": "code",
   "execution_count": 10,
   "metadata": {},
   "outputs": [],
   "source": [
    "#gene = 'MUC16'\n",
    "\n",
    "omics = ovarian_object.get_proteomics()\n",
    "#omics = ovarian_object.get_transcriptomics()\n",
    "#omics = ovarian_object.get_phosphoproteomics()\n",
    "#omics = ovarian_object.get_acetylproteomics()"
   ]
  },
  {
   "cell_type": "code",
   "execution_count": 11,
   "metadata": {},
   "outputs": [
    {
     "name": "stdout",
     "output_type": "stream",
     "text": [
      "Doing t-test comparison\n",
      "\n",
      "No significant comparisons.\n",
      "None\n"
     ]
    },
    {
     "data": {
      "image/png": "[encoded data removed]",
      "text/plain": [
       "<Figure size 432x288 with 1 Axes>"
      ]
     },
     "metadata": {
      "needs_background": "light"
     },
     "output_type": "display_data"
    }
   ],
   "source": [
    "# Step 1 - Create dataframe in order to do comparisons with wrap_ttest - drop nan values?\n",
    "omics_and_mutations = ovarian_object.append_mutations_to_omics(\n",
    "    mutation_genes = gene, omics_df_name = omics.name, omics_genes = gene).dropna()\n",
    "\n",
    "# Check if values in omics data\n",
    "if omics_and_mutations[gene+\"_\"+omics.name].empty:\n",
    "    print('Not possible to do T-test with', omics.name + '.')\n",
    "\n",
    "else:\n",
    "    # Step 2 - Create the binary column needed to do the comparison\n",
    "    omics_and_mutations['binary_mutations'] = np.where(\n",
    "        omics_and_mutations[gene+'_Mutation_Status'] == 'Wildtype_Tumor', 'Wildtype', 'Mutated')\n",
    "\n",
    "    # Step 3 - Format the dataframe correctly for the T-test(just omics and binary columns for tumors)\n",
    "    tumors = omics_and_mutations.loc[omics_and_mutations['Sample_Status'] == 'Tumor']\n",
    "    columns_to_drop = [gene+\"_Mutation\", gene+\"_Location\", gene+\"_Mutation_Status\", \"Sample_Status\"]\n",
    "    ov_omics_binary_mutations = tumors.drop(columns_to_drop, axis = 1)\n",
    "\n",
    "    # Make a list of the column label of omics to be used in the wrap_ttest function\n",
    "    omics_col_list = [ov_omics_binary_mutations.columns[0]] \n",
    "\n",
    "    # Step 4 - T-test comparing means of mutated vs wildtype effect on cis omics\n",
    "    print(\"Doing t-test comparison\\n\")\n",
    "    significant_pval_results = al.wrap_ttest(ov_omics_binary_mutations, 'binary_mutations', omics_col_list)\n",
    "    print(significant_pval_results)\n",
    "    \n",
    "    # Step 5 - Visualize comparison\n",
    "    ov_cis_boxplot = sns.boxplot(data = ov_omics_binary_mutations, x = \"binary_mutations\",\n",
    "                              y = gene+\"_proteomics\", order = [\"Wildtype\",\"Mutated\"])  \n",
    "    ov_cis_boxplot.set_title(gene + \" effect on \" + omics.name + \" abundance\")\n",
    "    ov_cis_boxplot = sns.stripplot(\n",
    "        data = ov_omics_binary_mutations, x = \"binary_mutations\",y = gene+\"_proteomics\", \n",
    "        jitter = True, color = \".3\", order = [\"Wildtype\",\"Mutated\"])\n",
    "    ov_cis_boxplot.set(xlabel = gene + \" Mutation Status in Tumors\", ylabel = \"Proteomics\")\n",
    "    plt.show()\n",
    "\n"
   ]
  },
  {
   "cell_type": "markdown",
   "metadata": {},
   "source": [
    "# Step 6: Compare cis effects between pancancer frequently mutated genes"
   ]
  },
  {
   "cell_type": "markdown",
   "metadata": {},
   "source": [
    "Create a dataframe of the frequently mutated genes in common between Colon and Endometrial and Ovarian datasets. To compare two cancers uncomment the print statement with that comparison."
   ]
  },
  {
   "cell_type": "code",
   "execution_count": 12,
   "metadata": {},
   "outputs": [
    {
     "name": "stdout",
     "output_type": "stream",
     "text": [
      "pancancer frequently mutated genes:\n",
      "\n",
      "     Gene\n",
      "0  MUC16\n",
      "1  MUC17\n",
      "2  MUC5B\n",
      "3   TP53\n"
     ]
    }
   ],
   "source": [
    "endometrial_genes = endometrial_freq_mut['Gene']\n",
    "colon_genes = colon_freq_mut['Gene']\n",
    "ovarian_genes = ovarian_freq_mut['Gene']\n",
    "\n",
    "\n",
    "# Compare frequently mutated genes between Endometrial and Colon tumors\n",
    "en_co_genes = pd.merge(endometrial_genes, colon_genes, how='inner')\n",
    "#print('endometrial and colon commonly mutated genes:\\n\\n', en_co_genes['Gene'], '\\n')\n",
    "\n",
    "# Compare frequently mutated genes between Endometrial and Ovarian tumors\n",
    "en_ov_genes = pd.merge(endometrial_genes, colon_genes, how='inner')\n",
    "#print('endometrial and ovarian commonly mutated genes:\\n\\n', en_ov_genes['Gene'], '\\n')\n",
    "\n",
    "# Compare frequently mutated genes between Colon and Ovarian tumors\n",
    "co_ov_genes = pd.merge(ovarian_genes, colon_genes, how='inner')\n",
    "#print('colon and ovarian commonly mutated genes:\\n\\n', en_ov_genes['Gene'], '\\n')\n",
    "\n",
    "#Compare frequently mutated genes between all tumors\n",
    "pancancer_commonly_mutated_genes = pd.merge(en_co_genes, ovarian_genes, how='inner')\n",
    "print('pancancer frequently mutated genes:\\n\\n', pancancer_commonly_mutated_genes)"
   ]
  },
  {
   "cell_type": "markdown",
   "metadata": {},
   "source": [
    "Check significant difference in omics data between cancers. Pick a gene in common in the cancers you want to compare."
   ]
  }
 ],
 "metadata": {
  "kernelspec": {
   "display_name": "Python 3",
   "language": "python",
   "name": "python3"
  },
  "language_info": {
   "codemirror_mode": {
    "name": "ipython",
    "version": 3
   },
   "file_extension": ".py",
   "mimetype": "text/x-python",
   "name": "python",
   "nbconvert_exporter": "python",
   "pygments_lexer": "ipython3",
   "version": "3.7.3"
  }
 },
 "nbformat": 4,
 "nbformat_minor": 2
}
