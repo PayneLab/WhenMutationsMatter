{
 "cells": [
  {
   "cell_type": "markdown",
   "metadata": {},
   "source": [
    "## Step 1: Library Imports"
   ]
  },
  {
   "cell_type": "markdown",
   "metadata": {},
   "source": [
    "Run this cell to import the necessary libraries"
   ]
  },
  {
   "cell_type": "code",
   "execution_count": 1,
   "metadata": {},
   "outputs": [],
   "source": [
    "import pandas as pd\n",
    "import numpy as np\n",
    "import seaborn as sns\n",
    "import matplotlib.pyplot as plt\n",
    "import scipy.stats\n",
    "\n",
    "import cptac\n",
    "import cptac.algorithms as al"
   ]
  },
  {
   "cell_type": "markdown",
   "metadata": {},
   "source": [
    "## Step 2: Find the frequently mutated genes for Endometrial Cancer"
   ]
  },
  {
   "cell_type": "markdown",
   "metadata": {},
   "source": [
    "Enter the type of cancer and the cutoff for mutation frequency that you would like to use."
   ]
  },
  {
   "cell_type": "code",
   "execution_count": 2,
   "metadata": {},
   "outputs": [
    {
     "name": "stdout",
     "output_type": "stream",
     "text": [
      "       Gene  Unique_Samples_Mut  Missence_Mut  Truncation_Mut\n",
      "0     AHNAK            0.157895      0.126316        0.042105\n",
      "1    ARID1A            0.452632      0.136842        0.400000\n",
      "2   CCDC168            0.168421      0.115789        0.115789\n",
      "3      CTCF            0.284211      0.094737        0.242105\n",
      "4    CTNNB1            0.305263      0.305263        0.000000\n",
      "5    DNAH17            0.157895      0.136842        0.031579\n",
      "6     DOCK3            0.200000      0.115789        0.157895\n",
      "7     FBXW7            0.189474      0.157895        0.042105\n",
      "8     HERC2            0.178947      0.157895        0.063158\n",
      "9     HUWE1            0.157895      0.157895        0.031579\n",
      "10   INPPL1            0.200000      0.021053        0.189474\n",
      "11     JAK1            0.168421      0.052632        0.126316\n",
      "12    KMT2B            0.242105      0.115789        0.126316\n",
      "13    KMT2D            0.178947      0.105263        0.084211\n",
      "14     KRAS            0.326316      0.326316        0.000000\n",
      "15    LMAN1            0.157895      0.010526        0.147368\n",
      "16    MUC16            0.189474      0.178947        0.052632\n",
      "17     NSD1            0.168421      0.094737        0.115789\n",
      "18    OBSCN            0.157895      0.157895        0.042105\n",
      "19     PCLO            0.168421      0.115789        0.073684\n",
      "20   PIK3CA            0.494737      0.484211        0.010526\n",
      "21   PIK3R1            0.389474      0.231579        0.189474\n",
      "22     PTEN            0.789474      0.463158        0.568421\n",
      "23    RBM27            0.168421      0.052632        0.126316\n",
      "24    RPL22            0.168421      0.010526        0.157895\n",
      "25    SCAF4            0.168421      0.063158        0.126316\n",
      "26    SYNE1            0.168421      0.147368        0.063158\n",
      "27     TP53            0.221053      0.157895        0.073684\n",
      "28    ZFHX3            0.221053      0.084211        0.168421\n",
      "29    ZFHX4            0.200000      0.147368        0.094737\n",
      "30   ZNF469            0.157895      0.105263        0.063158\n"
     ]
    }
   ],
   "source": [
    "en_object = cptac.Endometrial()\n",
    "desired_cutoff = .15\n",
    "\n",
    "endometrial_freq_mut = al.get_frequently_mutated(en_object, cutoff=desired_cutoff)\n",
    "print(endometrial_freq_mut)"
   ]
  },
  {
   "cell_type": "markdown",
   "metadata": {},
   "source": [
    "## Step 3: Select a gene from the list of frequently mutated genes above"
   ]
  },
  {
   "cell_type": "markdown",
   "metadata": {},
   "source": [
    "Set the gene to which of the above frequently mutated genes you want to examine. For example, if you want to look at the gene PTEN, change the cell below to say \"gene = 'ARID1A'\""
   ]
  },
  {
   "cell_type": "code",
   "execution_count": 3,
   "metadata": {},
   "outputs": [],
   "source": [
    "gene = 'ARID1A'"
   ]
  },
  {
   "cell_type": "markdown",
   "metadata": {},
   "source": [
    "## Step 4: Select desired omics comparison"
   ]
  },
  {
   "cell_type": "markdown",
   "metadata": {},
   "source": [
    "Select which type of omics you want to compare. If you want to compare proteomics data for the interacting proteins, uncomment the \"omics = en.get_proteomics()\" line, etc."
   ]
  },
  {
   "cell_type": "code",
   "execution_count": 4,
   "metadata": {},
   "outputs": [],
   "source": [
    "omics = en_object.get_proteomics()\n",
    "#omics = en_object.get_transcriptomics()\n",
    "#omics = en_object.get_phosphoproteomics()\n",
    "#omics = en_object.get_acetylproteomics()"
   ]
  },
  {
   "cell_type": "markdown",
   "metadata": {},
   "source": [
    "## Step 5: cis comparison "
   ]
  },
  {
   "cell_type": "markdown",
   "metadata": {},
   "source": [
    "Determine if the DNA mutation has an effect on the omics measurement. In order to do this, we have a few steps in code.\n",
    "1. get a table with both the omics and mutation data for tumors\n",
    "2. get a binary column from the mutation data to separate our samples\n",
    "3. format data frame to be used in the T-test\n",
    "4. send data to the T-test.\n",
    "5. visualize comparison"
   ]
  },
  {
   "cell_type": "code",
   "execution_count": 5,
   "metadata": {},
   "outputs": [
    {
     "name": "stdout",
     "output_type": "stream",
     "text": [
      "Doing t-test comparison\n",
      "\n",
      "          Comparison       P_Value\n",
      "0  ARID1A_proteomics  1.025018e-10\n"
     ]
    },
    {
     "data": {
      "image/png": "[encoded data removed]",
      "text/plain": [
       "<Figure size 432x288 with 1 Axes>"
      ]
     },
     "metadata": {
      "needs_background": "light"
     },
     "output_type": "display_data"
    }
   ],
   "source": [
    "# Step 1 - Create dataframe in order to do comparisons with wrap_ttest - drop nan values\n",
    "omics_and_mutations = en_object.append_mutations_to_omics(\n",
    "    mutation_genes = gene, omics_df_name = omics.name, omics_genes = gene).dropna()\n",
    "\n",
    "# Check if values in omics data (if not found in proteomics, after na dropped dataframe should be empty)\n",
    "if omics_and_mutations[gene+\"_\"+omics.name].empty:\n",
    "    print('Not possible to do T-test.')\n",
    "\n",
    "else:\n",
    "    # Step 2 - Create the binary column needed to do the comparison\n",
    "    omics_and_mutations['binary_mutations'] = np.where(\n",
    "        omics_and_mutations[gene+'_Mutation_Status'] == 'Wildtype_Tumor', 'Wildtype', 'Mutated')\n",
    "\n",
    "    # Step 3 - Format the dataframe correctly for the T-test(just omics and binary columns for tumors)\n",
    "    tumors = omics_and_mutations.loc[omics_and_mutations['Sample_Status'] == 'Tumor']\n",
    "    columns_to_drop = [gene+\"_Mutation\", gene+\"_Location\", gene+\"_Mutation_Status\", \"Sample_Status\"]\n",
    "    omics_binary_mutations = tumors.drop(columns_to_drop, axis = 1)\n",
    "\n",
    "    # Make a list of the column label of omics to be used in the wrap_ttest function\n",
    "    omics_col_list = [omics_binary_mutations.columns[0]] \n",
    "\n",
    "    # Step 4 - T-test comparing means of mutated vs wildtype effect on cis omics\n",
    "    print(\"Doing t-test comparison\\n\")\n",
    "    significant_pval_results = al.wrap_ttest(omics_binary_mutations, 'binary_mutations', omics_col_list)\n",
    "    print(significant_pval_results)\n",
    "    \n",
    "    # Step 5 - Create boxplt to compare wildtype and mutated effect on omics data\n",
    "    en_cis_boxplot = sns.boxplot(data = omics_binary_mutations, x = \"binary_mutations\",\n",
    "                              y = gene+\"_proteomics\", order = [\"Wildtype\",\"Mutated\"])  \n",
    "    en_cis_boxplot.set_title(gene + \" effect on \" + omics.name + \" abundance\")\n",
    "    en_cis_boxplot = sns.stripplot(data=omics_binary_mutations, x = \"binary_mutations\",\n",
    "                                y = gene+\"_proteomics\",jitter = True, color = \".3\", order = [\"Wildtype\",\"Mutated\"])\n",
    "    en_cis_boxplot.set(xlabel = gene + \" Mutation Status in Tumors\", ylabel = \"Proteomics\")\n",
    "    plt.show()\n",
    "\n"
   ]
  },
  {
   "cell_type": "markdown",
   "metadata": {},
   "source": [
    "# Repeat with the Colon dataset"
   ]
  },
  {
   "cell_type": "code",
   "execution_count": 6,
   "metadata": {},
   "outputs": [
    {
     "name": "stdout",
     "output_type": "stream",
     "text": [
      "\u001b[Kding transcriptomics data.....ata....\r"
     ]
    }
   ],
   "source": [
    "colon_object = cptac.Colon()\n",
    "desired_cutoff = .15\n",
    "\n",
    "colon_freq_mut = al.get_frequently_mutated(colon_object, cutoff=desired_cutoff)"
   ]
  },
  {
   "cell_type": "markdown",
   "metadata": {},
   "source": [
    "Print the frequently mutated genes names for the colon dataset."
   ]
  },
  {
   "cell_type": "code",
   "execution_count": 7,
   "metadata": {},
   "outputs": [
    {
     "name": "stdout",
     "output_type": "stream",
     "text": [
      "Frequently mutated colon genes:\n",
      "\n",
      " ['ABCA13' 'ABCA2' 'ACVR2A' 'ADGRV1' 'AHNAK2' 'APC' 'APOB' 'ARID1A' 'BRAF'\n",
      " 'BSN' 'CASP5' 'CCDC168' 'COL5A1' 'CSMD3' 'DCHS2' 'DMD' 'DNAH10' 'DNAH3'\n",
      " 'DNAH5' 'DNAH7' 'DNHD1' 'DOCK3' 'DST' 'FAT2' 'FAT3' 'FAT4' 'FBXW7' 'FLG'\n",
      " 'FSIP2' 'HELZ2' 'HERC2' 'HMCN1' 'HSPG2' 'HYDIN' 'IGFN1' 'KCNMA1' 'KMT2B'\n",
      " 'KMT2C' 'KMT2D' 'KRAS' 'LAMA5' 'LRP1B' 'MUC12' 'MUC16' 'MUC4' 'MUC5B'\n",
      " 'MYCBP2' 'NBEA' 'NCOR2' 'NEB' 'NRXN1' 'OBSCN' 'PCDH17' 'PCLO' 'PIK3CA'\n",
      " 'PKD1' 'PLEC' 'RNF43' 'ROBO2' 'RPL22' 'RYR1' 'RYR2' 'RYR3' 'SACS' 'SDK1'\n",
      " 'SETD1B' 'SLC4A3' 'SOX9' 'SPEG' 'SSPO' 'SYNE1' 'TCF7L2' 'TENM3' 'TENM4'\n",
      " 'TP53' 'TRPS1' 'TTN' 'USF3' 'VWF' 'ZDBF2' 'ZFHX4' 'ZNF292' 'ZNF469']\n"
     ]
    }
   ],
   "source": [
    "print('Frequently mutated colon genes:\\n\\n', colon_freq_mut['Gene'].unique())"
   ]
  },
  {
   "cell_type": "markdown",
   "metadata": {},
   "source": [
    "Create a dataframe of the frequently mutated genes in common between Colon and Endometrial datasets."
   ]
  },
  {
   "cell_type": "code",
   "execution_count": 8,
   "metadata": {},
   "outputs": [
    {
     "name": "stdout",
     "output_type": "stream",
     "text": [
      "common frequently mutated genes:\n",
      "\n",
      " ['ARID1A' 'CCDC168' 'DOCK3' 'FBXW7' 'HERC2' 'KMT2B' 'KMT2D' 'KRAS' 'MUC16'\n",
      " 'OBSCN' 'PCLO' 'PIK3CA' 'RPL22' 'SYNE1' 'TP53' 'ZFHX4' 'ZNF469']\n"
     ]
    }
   ],
   "source": [
    "endometrial_genes = endometrial_freq_mut['Gene']\n",
    "colon_genes = colon_freq_mut['Gene']\n",
    "common_genes = pd.merge(endometrial_genes, colon_genes, how='inner')\n",
    "print('common frequently mutated genes:\\n\\n', common_genes['Gene'].unique())\n"
   ]
  },
  {
   "cell_type": "markdown",
   "metadata": {},
   "source": [
    "Check difference in omics data between cancers."
   ]
  },
  {
   "cell_type": "code",
   "execution_count": 9,
   "metadata": {},
   "outputs": [],
   "source": [
    "gene = 'ARID1A'\n",
    "\n",
    "omics = colon_object.get_proteomics()\n",
    "#omics = colon_object.get_transcriptomics()\n",
    "#omics = colon_object.get_phosphoproteomics()\n",
    "#omics = colon_object.get_acetylproteomics()"
   ]
  },
  {
   "cell_type": "code",
   "execution_count": 10,
   "metadata": {},
   "outputs": [
    {
     "name": "stdout",
     "output_type": "stream",
     "text": [
      "Doing t-test comparison\n",
      "\n",
      "          Comparison   P_Value\n",
      "0  ARID1A_proteomics  0.001305\n"
     ]
    }
   ],
   "source": [
    "# Step 1 - Create dataframe in order to do comparisons with wrap_ttest - drop nan values?\n",
    "omics_and_mutations = colon_object.append_mutations_to_omics(\n",
    "    mutation_genes = gene, omics_df_name = omics.name, omics_genes = gene).dropna()\n",
    "\n",
    "# Check if values in omics data\n",
    "if omics_and_mutations[gene+\"_\"+omics.name].empty:\n",
    "    print('Not possible to do T-test.')\n",
    "\n",
    "else:\n",
    "    # Step 2 - Create the binary column needed to do the comparison\n",
    "    omics_and_mutations['binary_mutations'] = np.where(\n",
    "        omics_and_mutations[gene+'_Mutation_Status'] == 'Wildtype_Tumor', 'Wildtype', 'Mutated')\n",
    "\n",
    "    # Step 3 - Format the dataframe correctly for the T-test(just omics and binary columns for tumors)\n",
    "    tumors = omics_and_mutations.loc[omics_and_mutations['Sample_Status'] == 'Tumor']\n",
    "    columns_to_drop = [gene+\"_Mutation\", gene+\"_Location\", gene+\"_Mutation_Status\", \"Sample_Status\"]\n",
    "    co_omics_binary_mutations = tumors.drop(columns_to_drop, axis = 1)\n",
    "\n",
    "    # Make a list of the column label of omics to be used in the wrap_ttest function\n",
    "    omics_col_list = [co_omics_binary_mutations.columns[0]] \n",
    "\n",
    "    # Step 4 - T-test comparing means of mutated vs wildtype effect on cis omics\n",
    "    print(\"Doing t-test comparison\\n\")\n",
    "    significant_pval_results = al.wrap_ttest(co_omics_binary_mutations, 'binary_mutations', omics_col_list)\n",
    "    print(significant_pval_results)\n",
    "   "
   ]
  },
  {
   "cell_type": "markdown",
   "metadata": {},
   "source": [
    "If gene does not match any columns in omics dataframe, skip the next cell."
   ]
  },
  {
   "cell_type": "code",
   "execution_count": 11,
   "metadata": {},
   "outputs": [
    {
     "data": {
      "image/png": "[encoded data removed]",
      "text/plain": [
       "<Figure size 432x288 with 1 Axes>"
      ]
     },
     "metadata": {
      "needs_background": "light"
     },
     "output_type": "display_data"
    }
   ],
   "source": [
    "# Step 5 - Visualize comparison\n",
    "cis_boxplot = sns.boxplot(data = co_omics_binary_mutations, x = \"binary_mutations\",\n",
    "                          y = gene+\"_proteomics\", order = [\"Wildtype\",\"Mutated\"])  \n",
    "cis_boxplot.set_title(gene + \" effect on \" + omics.name + \" abundance\")\n",
    "cis_boxplot = sns.stripplot(data = co_omics_binary_mutations, x = \"binary_mutations\",\n",
    "                            y = gene+\"_proteomics\",jitter = True, color = \".3\", order = [\"Wildtype\",\"Mutated\"])\n",
    "cis_boxplot.set(xlabel = gene + \" Mutation Status in Tumors\", ylabel = \"Proteomics\")\n",
    "plt.show()\n",
    "\n"
   ]
  },
  {
   "cell_type": "code",
   "execution_count": 12,
   "metadata": {},
   "outputs": [
    {
     "data": {
      "image/png": "[encoded data removed]",
      "text/plain": [
       "<Figure size 432x288 with 1 Axes>"
      ]
     },
     "metadata": {
      "needs_background": "light"
     },
     "output_type": "display_data"
    }
   ],
   "source": [
    "#endometrial\n",
    "en_cis_boxplot = sns.boxplot(data = omics_binary_mutations, x = \"binary_mutations\",\n",
    "                          y = gene+\"_proteomics\", order = [\"Wildtype\",\"Mutated\"])  \n",
    "en_cis_boxplot.set_title(gene + \" effect on \" + omics.name + \" abundance\")\n",
    "en_cis_boxplot = sns.stripplot(data=omics_binary_mutations, x = \"binary_mutations\",\n",
    "                            y = gene+\"_proteomics\",jitter = True, color = \".3\", order = [\"Wildtype\",\"Mutated\"])\n",
    "en_cis_boxplot.set(xlabel = gene + \" Mutation Status in Tumors\", ylabel = \"Proteomics\")\n",
    "plt.show()"
   ]
  },
  {
   "cell_type": "markdown",
   "metadata": {},
   "source": [
    "# Repeat with Ovarian dataset"
   ]
  },
  {
   "cell_type": "code",
   "execution_count": 13,
   "metadata": {},
   "outputs": [
    {
     "name": "stdout",
     "output_type": "stream",
     "text": [
      "\u001b[Kding treatment data...ata........\r"
     ]
    }
   ],
   "source": [
    "ovarian_object = cptac.Ovarian()\n",
    "desired_cutoff = .1\n",
    "\n",
    "ovarian_freq_mut = al.get_frequently_mutated(ovarian_object, cutoff=desired_cutoff)"
   ]
  },
  {
   "cell_type": "code",
   "execution_count": 14,
   "metadata": {},
   "outputs": [
    {
     "name": "stdout",
     "output_type": "stream",
     "text": [
      "    Gene\n",
      "0  MUC16\n",
      "1   TP53\n"
     ]
    }
   ],
   "source": [
    "ovarian_genes = ovarian_freq_mut['Gene']\n",
    "pancancer_commonly_mutated_genes = pd.merge(common_genes, ovarian_genes, how='inner')\n",
    "print(pancancer_commonly_mutated_genes)"
   ]
  },
  {
   "cell_type": "code",
   "execution_count": 15,
   "metadata": {},
   "outputs": [],
   "source": [
    "gene = 'TP53'\n",
    "\n",
    "omics = ovarian_object.get_proteomics()\n",
    "#omics = ovarian_object.get_transcriptomics()\n",
    "#omics = ovarian_object.get_phosphoproteomics()\n",
    "#omics = ovarian_object.get_acetylproteomics()\n"
   ]
  },
  {
   "cell_type": "code",
   "execution_count": 16,
   "metadata": {},
   "outputs": [
    {
     "name": "stdout",
     "output_type": "stream",
     "text": [
      "Doing t-test comparison\n",
      "\n",
      "No significant comparisons.\n",
      "None\n"
     ]
    },
    {
     "data": {
      "image/png": "[encoded data removed]",
      "text/plain": [
       "<Figure size 432x288 with 1 Axes>"
      ]
     },
     "metadata": {
      "needs_background": "light"
     },
     "output_type": "display_data"
    }
   ],
   "source": [
    "# Step 1 - Create dataframe in order to do comparisons with wrap_ttest - drop nan values?\n",
    "omics_and_mutations = ovarian_object.append_mutations_to_omics(\n",
    "    mutation_genes = gene, omics_df_name = omics.name, omics_genes = gene).dropna()\n",
    "\n",
    "# Check if values in omics data\n",
    "if omics_and_mutations[gene+\"_\"+omics.name].empty:\n",
    "    print('Not possible to do T-test with', omics.name + '.')\n",
    "\n",
    "else:\n",
    "    # Step 2 - Create the binary column needed to do the comparison\n",
    "    omics_and_mutations['binary_mutations'] = np.where(\n",
    "        omics_and_mutations[gene+'_Mutation_Status'] == 'Wildtype_Tumor', 'Wildtype', 'Mutated')\n",
    "\n",
    "    # Step 3 - Format the dataframe correctly for the T-test(just omics and binary columns for tumors)\n",
    "    tumors = omics_and_mutations.loc[omics_and_mutations['Sample_Status'] == 'Tumor']\n",
    "    columns_to_drop = [gene+\"_Mutation\", gene+\"_Location\", gene+\"_Mutation_Status\", \"Sample_Status\"]\n",
    "    ov_omics_binary_mutations = tumors.drop(columns_to_drop, axis = 1)\n",
    "\n",
    "    # Make a list of the column label of omics to be used in the wrap_ttest function\n",
    "    omics_col_list = [ov_omics_binary_mutations.columns[0]] \n",
    "\n",
    "    # Step 4 - T-test comparing means of mutated vs wildtype effect on cis omics\n",
    "    print(\"Doing t-test comparison\\n\")\n",
    "    significant_pval_results = al.wrap_ttest(ov_omics_binary_mutations, 'binary_mutations', omics_col_list)\n",
    "    print(significant_pval_results)\n",
    "    \n",
    "    # Step 5 - Visualize comparison\n",
    "    ov_cis_boxplot = sns.boxplot(data = ov_omics_binary_mutations, x = \"binary_mutations\",\n",
    "                              y = gene+\"_proteomics\", order = [\"Wildtype\",\"Mutated\"])  \n",
    "    ov_cis_boxplot.set_title(gene + \" effect on \" + omics.name + \" abundance\")\n",
    "    ov_cis_boxplot = sns.stripplot(\n",
    "        data = ov_omics_binary_mutations, x = \"binary_mutations\",y = gene+\"_proteomics\", \n",
    "        jitter = True, color = \".3\", order = [\"Wildtype\",\"Mutated\"])\n",
    "    ov_cis_boxplot.set(xlabel = gene + \" Mutation Status in Tumors\", ylabel = \"Proteomics\")\n",
    "    plt.show()\n",
    "\n"
   ]
  },
  {
   "cell_type": "code",
   "execution_count": null,
   "metadata": {},
   "outputs": [],
   "source": []
  }
 ],
 "metadata": {
  "kernelspec": {
   "display_name": "Python 3",
   "language": "python",
   "name": "python3"
  },
  "language_info": {
   "codemirror_mode": {
    "name": "ipython",
    "version": 3
   },
   "file_extension": ".py",
   "mimetype": "text/x-python",
   "name": "python",
   "nbconvert_exporter": "python",
   "pygments_lexer": "ipython3",
   "version": "3.7.3"
  }
 },
 "nbformat": 4,
 "nbformat_minor": 2
}
