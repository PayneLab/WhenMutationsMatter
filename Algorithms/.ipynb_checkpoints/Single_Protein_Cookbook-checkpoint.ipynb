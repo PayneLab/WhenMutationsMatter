{
 "cells": [
  {
   "cell_type": "markdown",
   "metadata": {},
   "source": [
    "# Omics Cookbook"
   ]
  },
  {
   "cell_type": "markdown",
   "metadata": {},
   "source": [
    "## Library Imports"
   ]
  },
  {
   "cell_type": "markdown",
   "metadata": {},
   "source": [
    "Run this cell to import the necessary libraries"
   ]
  },
  {
   "cell_type": "code",
   "execution_count": 1,
   "metadata": {},
   "outputs": [
    {
     "name": "stdout",
     "output_type": "stream",
     "text": [
      "Welcome to the CPTAC data service package. Available datasets may be\n",
      "viewed using CPTAC.list_data(). In order to access a specific data\n",
      "set, import a CPTAC subfolder using either 'import CPTAC.Dataset' or\n",
      "'from CPTAC import Dataset'.\n",
      "******\n",
      "Version: 0.3.1\n",
      "******\n",
      "You have loaded the CPTAC Endometrial dataset. To view available\n",
      "dataframes, use CPTAC.Endometrial.list_data(). To view available\n",
      "functions for accessing and manipulating the dataframes, use\n",
      "CPTAC.Endometrial.list_api().\n",
      "Endometrial Data Version: 2.1\n",
      "\n",
      "Loading Dictionary...\n",
      "Loading CPTAC Endometrial data:\n",
      "Loading proteomics data...\n",
      "Loading clinical data...\n",
      "Loading acetylproteomics data...\n",
      "Loading phosphoproteomics_site data...\n",
      "Loading somatic data...\n",
      "Loading definitions data...\n",
      "Loading transcriptomics_circular data...\n",
      "Loading phosphoproteomics_gene data...\n",
      "Loading transcriptomics_linear data...\n",
      "Loading somatic data...\n",
      "Loading miRNA data...\n",
      "Loading CNA data...\n",
      "\n",
      " ******PLEASE READ******\n",
      "WARNING: This data is under a publication embargo until July 1, 2019.\n",
      "CPTAC is a community resource project and data are made available\n",
      "rapidly after generation for community research use. The embargo\n",
      "allows exploring and utilizing the data, but the data may not be in a\n",
      "publication until July 1, 2019. Please see\n",
      "https://proteomics.cancer.gov/data-portal/about/data-use-agreement or\n",
      "enter embargo() to open the webpage for more details.\n"
     ]
    }
   ],
   "source": [
    "import pandas as pd\n",
    "import numpy as np\n",
    "import scipy.stats\n",
    "import collections\n",
    "import re\n",
    "\n",
    "import CPTAC.Endometrial as en\n",
    "import CPTAC.Algorithms as al"
   ]
  },
  {
   "cell_type": "markdown",
   "metadata": {},
   "source": [
    "## Get frequently mutated genes list"
   ]
  },
  {
   "cell_type": "markdown",
   "metadata": {},
   "source": [
    "This will be simplified to just specify the cancer type and frequency of mutation to use for the cutoff."
   ]
  },
  {
   "cell_type": "code",
   "execution_count": 2,
   "metadata": {},
   "outputs": [
    {
     "name": "stdout",
     "output_type": "stream",
     "text": [
      "ovarian\n",
      "PTEN: %0.79\n",
      "PIK3CA: %0.49\n",
      "ARID1A: %0.45\n",
      "PIK3R1: %0.39\n",
      "KRAS: %0.33\n",
      "CTNNB1: %0.31\n",
      "CTCF: %0.28\n",
      "KMT2B: %0.24\n",
      "TP53: %0.22\n",
      "ZFHX3: %0.22\n",
      "ZFHX4: %0.20\n",
      "DOCK3: %0.20\n",
      "INPPL1: %0.20\n",
      "FBXW7: %0.19\n",
      "MUC16: %0.19\n",
      "KMT2D: %0.18\n",
      "HERC2: %0.18\n",
      "RPL22: %0.17\n",
      "RBM27: %0.17\n",
      "NSD1: %0.17\n",
      "SYNE1: %0.17\n",
      "SCAF4: %0.17\n",
      "PCLO: %0.17\n",
      "JAK1: %0.17\n",
      "CCDC168: %0.17\n",
      "ZNF469: %0.16\n",
      "LMAN1: %0.16\n",
      "OBSCN: %0.16\n",
      "AHNAK: %0.16\n",
      "HUWE1: %0.16\n",
      "DNAH17: %0.16\n"
     ]
    }
   ],
   "source": [
    "somatic = en.get_mutations()\n",
    "clinical = en.get_clinical()\n",
    "prot = en.get_proteomics()\n",
    "gene = 'PTEN'\n",
    "omics_mutations = en.append_mutations_to_omics(mutation_genes=gene, omics_df=prot, omics_genes=gene)\n",
    "omics_mutations = omics_mutations.loc[omics_mutations['Sample_Status'] == 'Tumor']\n",
    "\n",
    "fm = al.get_frequently_mutated(somatic, omics_mutations, .15, show_percentage=True)\n",
    "for fmg in fm:\n",
    "    print(fmg)"
   ]
  },
  {
   "cell_type": "markdown",
   "metadata": {},
   "source": [
    "## Select a gene from the list of frequently mutated genes above"
   ]
  },
  {
   "cell_type": "markdown",
   "metadata": {},
   "source": [
    "Set the gene to which of the above frequently mutated genes you want to examine. For example, if you want to look at the gene PTEN, change the cell below to say \"gene = 'PTEN'\""
   ]
  },
  {
   "cell_type": "code",
   "execution_count": 83,
   "metadata": {},
   "outputs": [],
   "source": [
    "gene = 'ARID1A'"
   ]
  },
  {
   "cell_type": "markdown",
   "metadata": {},
   "source": [
    "## Select desired omics comparison"
   ]
  },
  {
   "cell_type": "markdown",
   "metadata": {},
   "source": [
    "Select which type of omics you want to compare. If you want to compare proteomics data for the interacting proteins, uncomment the \"omics = en.get_proteomics()\" line, etc."
   ]
  },
  {
   "cell_type": "code",
   "execution_count": 84,
   "metadata": {},
   "outputs": [],
   "source": [
    "omics = en.get_proteomics()\n",
    "#omics = en.get_transcriptomics()\n",
    "#omics = en.get_phosphoproteomics()\n",
    "#omics = en.get_acetylproteomics()"
   ]
  },
  {
   "cell_type": "markdown",
   "metadata": {},
   "source": [
    "## Generate interacting proteins and test omics comparisons"
   ]
  },
  {
   "cell_type": "markdown",
   "metadata": {},
   "source": [
    "Simply run this cell after following the instructions above to see the results of the comparisons"
   ]
  },
  {
   "cell_type": "code",
   "execution_count": 85,
   "metadata": {},
   "outputs": [
    {
     "name": "stdout",
     "output_type": "stream",
     "text": [
      "\n",
      "Gene:  ARID1A\n",
      "Generating interacting protein list\n",
      "Doing t-test comparisons\n",
      "\n",
      "           Comparison       P_Value\n",
      "0   ARID1A_proteomics  1.025018e-10\n",
      "1     DPF2_proteomics  2.166609e-07\n",
      "2  SMARCB1_proteomics  6.885135e-05\n",
      "3  SMARCC2_proteomics  8.270473e-05\n",
      "4  SMARCE1_proteomics  1.498027e-04\n",
      "5  SMARCD1_proteomics  1.744915e-04\n",
      "6    BCL7C_proteomics  4.379537e-04\n",
      "7    CCND1_proteomics  1.499832e-03\n",
      "\n",
      "\n",
      "\n"
     ]
    }
   ],
   "source": [
    "try:\n",
    "    '''Prevent slice degrees of freedom warning'''\n",
    "    import warnings\n",
    "    warnings.filterwarnings(\"ignore\")\n",
    "\n",
    "    print(\"\\nGene: \", gene)\n",
    "\n",
    "    '''Use get interacting proteins method to generate list of interacting proteins'''\n",
    "    interacting_proteins = al.get_interacting_proteins(gene)\n",
    "\n",
    "    print(\"Generating interacting protein list\")\n",
    "    interacting_proteins_in_omics_df = []\n",
    "\n",
    "    '''Only do comparisons on proteins in the omics dataframe'''\n",
    "    for ip in interacting_proteins:\n",
    "        if omics.name == 'phosphoproteomics' or omics.name == 'acetylproteomics':\n",
    "            col_regex = ip + \"-.*\" # Build a regex to get all columns that match the gene\n",
    "        else:\n",
    "            col_regex = '^{}$'.format(ip)\n",
    "\n",
    "        selected = omics.filter(regex=col_regex)\n",
    "\n",
    "        if len(selected.columns) > 0:\n",
    "            interacting_proteins_in_omics_df.append(ip)\n",
    "\n",
    "    '''Ceate dataframe in order to do comparisons with wrap_ttest'''\n",
    "    protdf = en.append_mutations_to_omics(mutation_genes=[gene], omics_df=omics, omics_genes=interacting_proteins_in_omics_df)\n",
    "    protdf = protdf.loc[protdf['Sample_Status'] == 'Tumor']\n",
    "\n",
    "    '''Create the binary valued column needed to do the comparison'''\n",
    "    for ind, row in protdf.iterrows():\n",
    "        if row[gene+\"_Mutation_Status\"] != 'Wildtype_Tumor':\n",
    "            protdf.at[ind,'Label'] = 'Mutated'\n",
    "        else:\n",
    "            protdf.at[ind,'Label'] = 'Wildtype'\n",
    "\n",
    "    '''Format the datafram correctly'''\n",
    "    protdf = protdf.drop(gene+\"_Mutation\",axis=1)\n",
    "    protdf = protdf.drop(gene+\"_Location\",axis=1)\n",
    "    protdf = protdf.drop(gene+\"_Mutation_Status\", axis=1)\n",
    "    protdf = protdf.drop(\"Sample_Status\",axis=1)\n",
    "\n",
    "    '''Make list of columns to be compared using t-tests'''\n",
    "    col_list = list(protdf.columns)\n",
    "    col_list.remove('Label')\n",
    "\n",
    "    print(\"Doing t-test comparisons\\n\")\n",
    "\n",
    "    '''Call wrap_ttest, pass in formatted dataframe'''\n",
    "    wrap_results = al.wrap_ttest(protdf, 'Label', col_list)\n",
    "\n",
    "    '''Print results, if anything significant was found'''\n",
    "    if wrap_results is not None:\n",
    "            print(wrap_results)\n",
    "            print(\"\\n\\n\")\n",
    "\n",
    "except:\n",
    "    print(\"Error in Comparison\")"
   ]
  },
  {
   "cell_type": "code",
   "execution_count": null,
   "metadata": {},
   "outputs": [],
   "source": []
  }
 ],
 "metadata": {
  "kernelspec": {
   "display_name": "Python 3",
   "language": "python",
   "name": "python3"
  },
  "language_info": {
   "codemirror_mode": {
    "name": "ipython",
    "version": 3
   },
   "file_extension": ".py",
   "mimetype": "text/x-python",
   "name": "python",
   "nbconvert_exporter": "python",
   "pygments_lexer": "ipython3",
   "version": "3.6.8"
  }
 },
 "nbformat": 4,
 "nbformat_minor": 2
}
