{
 "cells": [
  {
   "cell_type": "code",
   "execution_count": 31,
   "metadata": {},
   "outputs": [],
   "source": [
    "import pandas as pd\n",
    "import numpy as np\n",
    "import scipy.stats\n",
    "from scipy.stats import pearsonr\n",
    "import matplotlib.pyplot as plt\n",
    "import re\n",
    "import seaborn as sns\n",
    "import statsmodels.stats.multitest\n",
    "import sys\n",
    "import urllib3\n",
    "import json\n",
    "import operator\n",
    "import collections\n",
    "\n",
    "import CPTAC.Endometrial as CPTAC"
   ]
  },
  {
   "cell_type": "code",
   "execution_count": 40,
   "metadata": {},
   "outputs": [],
   "source": [
    "'''\n",
    "@Param protein:\n",
    "    The name of the protein that you want to generate a list of interacting proteins for.\n",
    "\n",
    "@Param number (default=25):\n",
    "    The number of interacting proteins that you want to get.\n",
    "    \n",
    "@Return:\n",
    "    A list of proteins known by the String api to be interacting partners with the specified protein.\n",
    "    Returns None if specified protein isn't found in String database, or connection to String api fails.\n",
    "    \n",
    "    \n",
    "This method takes as a parameter the name of a protein. It then accesses the STRING database, through\n",
    "a call to their public API, and generates a list of proteins known to be interacting partners with the specified\n",
    "protein. Optional second parameter is number (which by default is 25), which specifies in the API call how many\n",
    "interacting partners to retrieve from the database. The list of interacting proteins is returned to the caller\n",
    "as a python list.\n",
    "'''\n",
    "\n",
    "def get_interacting_proteins_string(protein, number=25):\n",
    "    '''Use urllib3 to access the string database api, gather list of interacting proteins'''\n",
    "    urllib3.disable_warnings()\n",
    "    string_api_url = \"https://string-db.org/api\"\n",
    "    output_format = \"json\"\n",
    "    method = \"network\"\n",
    "\n",
    "    '''Use the specified gene and homo sapiens species code'''\n",
    "    my_protein = [protein]\n",
    "    species = \"9606\"\n",
    "\n",
    "    '''Format the api request to collect the appropriate information'''\n",
    "    request_url = string_api_url + \"/\" + output_format + \"/\" + method + \"?\"\n",
    "    request_url += \"identifiers=%s\" % \"%0d\".join(my_protein)\n",
    "    request_url += \"&\" + \"species=\" + species\n",
    "    request_url += \"&\" + \"limit=\" + str(number)\n",
    "\n",
    "    '''Send a request to the API, print the response status'''\n",
    "    try:\n",
    "        http = urllib3.PoolManager()\n",
    "        response = http.request('GET',request_url)\n",
    "        '''Catch exception if it fails while accessing the api'''\n",
    "    except urllib3.HTTPError as err:\n",
    "        error_message = err.read()\n",
    "        print(\"Error accessing STRING api, \" , error_message)\n",
    "        sys.exit()\n",
    "    \n",
    "    '''Get the data from the api response'''\n",
    "    interacting_proteins = []\n",
    "    if response.status == 200: \n",
    "        '''Get the data from the API's response'''\n",
    "        data = response.data\n",
    "        y = json.loads(data)\n",
    "\n",
    "        '''Make a list of the resulting interacting proteins'''\n",
    "        for entry in y:\n",
    "            if entry[\"preferredName_A\"] not in interacting_proteins:\n",
    "                interacting_proteins.append(entry[\"preferredName_A\"])\n",
    "            if entry[\"preferredName_B\"] not in interacting_proteins:\n",
    "                interacting_proteins.append(entry[\"preferredName_B\"])\n",
    "        \n",
    "        return interacting_proteins\n",
    "        \n",
    "        '''If we didnt get a successful response from the api, notify the caller and return None'''\n",
    "    else:\n",
    "        print(\"\\nSpecified gene was not found in String database, double check that you have it correctly!\")\n",
    "        return None"
   ]
  },
  {
   "cell_type": "code",
   "execution_count": 66,
   "metadata": {},
   "outputs": [],
   "source": [
    "'''\n",
    "@Param protein:\n",
    "    The name of the protein that you want to generate a list of interacting proteins for.\n",
    "\n",
    "@Param number (default=25):\n",
    "    The number of interacting proteins that you want to get.\n",
    "    \n",
    "@Return:\n",
    "    A list of proteins known by the biogrid api to be interacting partners with the specified protein.\n",
    "    Returns None if specified protein isn't found in biogrid database, or connection to biogrid api fails.\n",
    "    \n",
    "    \n",
    "This method takes as a parameter the name of a protein. It then accesses the biogrid database, through\n",
    "a call to their public API, and generates a list of proteins known to be interacting partners with the specified\n",
    "protein. Optional second parameter is number (which by default is 25), which specifies in the API call how many\n",
    "interacting partners to retrieve from the database. The list of interacting proteins is returned to the caller\n",
    "as a python list.\n",
    "'''\n",
    "def get_interacting_proteins_biogrid(protein, number=25):\n",
    "    '''Store interacting proteins in a list'''\n",
    "    interacting_proteins = []\n",
    "    urllib3.disable_warnings()\n",
    "    \n",
    "    '''Configure url for request'''\n",
    "    request_url = \"https://webservice.thebiogrid.org/interactions/?searchNames=true&geneList=\" + protein +\"&includeInteractors=true&format=json&taxId=9606&start=0&max=\" + str(number) + \"&accesskey=0ff59dcf3511928e78aad499688381c9\"\n",
    "    try:\n",
    "        '''Send request, get response'''\n",
    "        http = urllib3.PoolManager()\n",
    "        response = http.request('GET',request_url)\n",
    "        \n",
    "        '''If response was successful'''\n",
    "        if response.status == 200: \n",
    "            '''Get the data from the API's response'''\n",
    "            data = response.data\n",
    "            y = json.loads(data)\n",
    "            \n",
    "            '''Add name of each protein to list of interacting proteins'''\n",
    "            for entry in y:\n",
    "                if y[entry]['OFFICIAL_SYMBOL_A'] not in interacting_proteins:\n",
    "                    interacting_proteins.append(y[entry]['OFFICIAL_SYMBOL_A'])\n",
    "            \n",
    "            '''Return this list to caller'''\n",
    "            return interacting_proteins\n",
    "        \n",
    "        else:\n",
    "            '''If response was not successful, notify caller of error, return None'''\n",
    "            print(\"Error accessing api!\")\n",
    "            return None\n",
    "        \n",
    "        '''Catch exception, notify caller of errorm return None'''\n",
    "    except Exception as err:\n",
    "        print(\"Error accessing api, \" , err)\n",
    "        return None"
   ]
  },
  {
   "cell_type": "code",
   "execution_count": 42,
   "metadata": {},
   "outputs": [],
   "source": [
    "'''\n",
    "@Param protein:\n",
    "    The name of the protein that you want to generate a list of interacting proteins for.\n",
    "\n",
    "@Param number (default=25):\n",
    "    The number of interacting proteins that you want to get from both STRING and BioGrid(used by uniprot). This \n",
    "    number of proteins will be generated by both String and BioGrid, and the two will be combined. The actual number of \n",
    "    proteins in the list returned by this method will be between the number specified and 2 times the number specified, \n",
    "    depending on how many of the interacting proteins the two APIs 'agree' on.\n",
    "    \n",
    "@Return:\n",
    "    A list of proteins known by the String and BioGrid APIs to be interacting partners with the specified protein.\n",
    "    Returns None if specified protein isn't found in either database, or both API calls fail.\n",
    "    \n",
    "    \n",
    "This method takes as a parameter the name of a protein. It then accesses the STRING and BioGrid databases, through\n",
    "a call to their public API, and generates a list of proteins known to be interacting partners with the specified\n",
    "protein. Optional second parameter is number (which by default is 25), which specifies in the API call how many\n",
    "interacting partners to retrieve from the database. The list of interacting proteins is returned to the caller\n",
    "as a python list.\n",
    "'''\n",
    "def get_interacting_proteins(protein, number=25):\n",
    "    string_list = get_interacting_proteins_string(protein, number)\n",
    "    biogrid_list = get_interacting_proteins_biogrid(protein, number)\n",
    "    \n",
    "    if string_list == None and biogrid_list == None:\n",
    "        return None\n",
    "    \n",
    "    else:\n",
    "        interacting_proteins = []\n",
    "        for prot in string_list:\n",
    "            if prot not in interacting_proteins:\n",
    "                interacting_proteins.append(prot)\n",
    "        for prot in biogrid_list:\n",
    "            if prot not in interacting_proteins:\n",
    "                interacting_proteins.append(prot)\n",
    "\n",
    "        return interacting_proteins"
   ]
  },
  {
   "cell_type": "markdown",
   "metadata": {},
   "source": [
    "## Test 1"
   ]
  },
  {
   "cell_type": "code",
   "execution_count": 43,
   "metadata": {},
   "outputs": [
    {
     "name": "stdout",
     "output_type": "stream",
     "text": [
      "['PDGFRB', 'PIK3R2', 'PIK3C3', 'CSNK2A2', 'CSNK2A1', 'SLC9A3R1', 'USP13', 'PIK3CA', 'TP53', 'PIK3CB', 'PTK2', 'USP7', 'XIAP', 'PTEN', 'PREX2', 'MAST2', 'ROCK1', 'NEDD4', 'INPP4B', 'PIK3R1', 'AKT1']\n"
     ]
    }
   ],
   "source": [
    "ips = get_interacting_proteins_string('PTEN', number=20)\n",
    "print(ips)"
   ]
  },
  {
   "cell_type": "markdown",
   "metadata": {},
   "source": [
    "## Test 2"
   ]
  },
  {
   "cell_type": "code",
   "execution_count": 44,
   "metadata": {},
   "outputs": [
    {
     "name": "stdout",
     "output_type": "stream",
     "text": [
      "['CCND1', 'ACTL6B', 'NR3C1', 'WDR77', 'SMARCC1', 'SUPT16H', 'CDK4', 'SMARCD3', 'CREBBP', 'SMARCB1', 'EP300', 'KAT2B', 'DNMT3A', 'SMARCA2', 'SMARCC2', 'GTF2E1', 'RUNX1', 'KMT2D', 'CHAF1A', 'PRMT5', 'ARID1A', 'SMARCE1', 'PHF10', 'BAZ1B', 'ARID1B', 'HMGB1', 'ACTB', 'NF1', 'GTF2B', 'JUN', 'CDC5L', 'BCL7C', 'IRF4', 'IRF2', 'GTF2F1', 'PBRM1', 'SMARCD1', 'RELA', 'SMARCD2', 'SMARCA4', 'TOP2B', 'ACTL6A', 'BCL7B', 'SS18', 'CBFB', 'RXRA', 'DPF2', 'BCL7A', 'VDR', 'DPF3', 'POLR2A']\n"
     ]
    }
   ],
   "source": [
    "ips = get_interacting_proteins_string('ARID1A', number=50)\n",
    "print(ips)"
   ]
  },
  {
   "cell_type": "markdown",
   "metadata": {},
   "source": [
    "## Test 3"
   ]
  },
  {
   "cell_type": "code",
   "execution_count": 45,
   "metadata": {},
   "outputs": [
    {
     "name": "stdout",
     "output_type": "stream",
     "text": [
      "\n",
      "Specified gene was not found in String database, double check that you have it correctly!\n",
      "None\n"
     ]
    }
   ],
   "source": [
    "ips = get_interacting_proteins_string('BADNAME', number=50)\n",
    "print(ips)"
   ]
  },
  {
   "cell_type": "markdown",
   "metadata": {},
   "source": [
    "## Comparison with BioGrid"
   ]
  },
  {
   "cell_type": "code",
   "execution_count": 77,
   "metadata": {},
   "outputs": [
    {
     "name": "stdout",
     "output_type": "stream",
     "text": [
      "STRING:\n",
      "SMARCC1\n",
      "SUPT16H\n",
      "CCND1\n",
      "SMARCD3\n",
      "CREBBP\n",
      "SMARCB1\n",
      "KAT2B\n",
      "DNMT3A\n",
      "SMARCA2\n",
      "SMARCC2\n",
      "KMT2D\n",
      "ARID1A\n",
      "SMARCE1\n",
      "PHF10\n",
      "BAZ1B\n",
      "ARID1B\n",
      "NF1\n",
      "CDC5L\n",
      "SMARCD1\n",
      "SMARCD2\n",
      "SMARCA4\n",
      "ACTL6A\n",
      "BCL7B\n",
      "SS18\n",
      "DPF2\n",
      "DPF3\n",
      "\n",
      "BioGrid:\n",
      "KLF1\n",
      "GATA1\n",
      "SMARCB1\n",
      "SMARCA4\n",
      "SMARCA2\n",
      "ING1\n",
      "SMARCE1\n",
      "ARID1A\n",
      "SMARCC2\n",
      "SMARCC1\n",
      "PGR\n",
      "BCL7C\n",
      "HIC1\n",
      "\n",
      "6 in 2nd not in first.\n"
     ]
    }
   ],
   "source": [
    "ips = get_interacting_proteins_string('ARID1A', number=25)\n",
    "print(\"STRING:\")\n",
    "for i in ips:\n",
    "    print(i)\n",
    "    \n",
    "ips2 = get_interacting_proteins_biogrid('ARID1A', number=25)\n",
    "print(\"\\nBioGrid:\")\n",
    "for i in ips2:\n",
    "    print(i)\n",
    "    \n",
    "shared = 0\n",
    "for i in ips2:\n",
    "    if i not in ips:\n",
    "        shared+=1\n",
    "        \n",
    "print(\"\\n\" + str(shared) + \" in 2nd not in first.\")"
   ]
  },
  {
   "cell_type": "code",
   "execution_count": 76,
   "metadata": {},
   "outputs": [
    {
     "name": "stdout",
     "output_type": "stream",
     "text": [
      "['ITGB4', 'ITGA3', 'HGF', 'LAMB1', 'NID2', 'LAMA4', 'LAMA5', 'LAMC1', 'ITGAV', 'LAMC2', 'NID1', 'ITGA1', 'ITGA2', 'LAMA3', 'FBN1', 'FN1', 'COL18A1', 'LAMC3', 'HSPG2', 'AGRN', 'LAMA1', 'ITGB1', 'CYR61', 'LAMA2', 'DAG1', 'ITGB3', 'TGFB1', 'ATXN7', 'CACNA1A', 'Ogg1', 'Lama1', 'UBC', 'ATXN7L2', 'GFI1B', 'FBXO6', 'DPY30', 'HSPD1', 'PDIA3']\n",
      "38\n"
     ]
    }
   ],
   "source": [
    "all_ips = get_interacting_proteins('LAMB1')\n",
    "print(all_ips)\n",
    "print(len(all_ips))"
   ]
  },
  {
   "cell_type": "code",
   "execution_count": null,
   "metadata": {},
   "outputs": [],
   "source": []
  }
 ],
 "metadata": {
  "kernelspec": {
   "display_name": "Python 3",
   "language": "python",
   "name": "python3"
  },
  "language_info": {
   "codemirror_mode": {
    "name": "ipython",
    "version": 3
   },
   "file_extension": ".py",
   "mimetype": "text/x-python",
   "name": "python",
   "nbconvert_exporter": "python",
   "pygments_lexer": "ipython3",
   "version": "3.6.8"
  }
 },
 "nbformat": 4,
 "nbformat_minor": 2
}
