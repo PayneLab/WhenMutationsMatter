{
 "cells": [
  {
   "cell_type": "markdown",
   "metadata": {},
   "source": [
    "## Library Imports"
   ]
  },
  {
   "cell_type": "markdown",
   "metadata": {},
   "source": [
    "Run this cell to import the necessary libraries"
   ]
  },
  {
   "cell_type": "code",
   "execution_count": 1,
   "metadata": {},
   "outputs": [
    {
     "name": "stdout",
     "output_type": "stream",
     "text": [
      "Welcome to the cptac data service package. Available datasets may be\n",
      "viewed using cptac.list_data(). In order to access a specific data\n",
      "set, import a cptac subfolder using either 'import cptac.dataset' or\n",
      "'from cptac import dataset'.\n",
      "******\n",
      "Version: 0.4.1\n",
      "******\n",
      "You have loaded the cptac endometrial dataset. To view available\n",
      "dataframes, use cptac.endometrial.list_data(). To view available\n",
      "functions for accessing and manipulating the dataframes, use\n",
      "cptac.endometrial.list_api().\n",
      "endometrial data version: 2.1\n",
      "\n",
      "Loading Dictionary...\n",
      "Loading cptac endometrial data:\n",
      "Loading acetylproteomics data...\n",
      "Loading clinical data...\n",
      "Loading CNA data...\n",
      "Loading miRNA data...\n",
      "Loading phosphoproteomics_gene data...\n",
      "Loading phosphoproteomics_site data...\n",
      "Loading proteomics data...\n",
      "Loading somatic data...\n",
      "Loading somatic_binary data...\n",
      "Loading transcriptomics_circular data...\n",
      "Loading transcriptomics_linear data...\n",
      "\n",
      " ******PLEASE READ******\n",
      "WARNING: This data is under a publication embargo until July 1, 2019.\n",
      "CPTAC is a community resource project and data are made available\n",
      "rapidly after generation for community research use. The embargo\n",
      "allows exploring and utilizing the data, but the data may not be in a\n",
      "publication until July 1, 2019. Please see\n",
      "https://proteomics.cancer.gov/data-portal/about/data-use-agreement or\n",
      "enter embargo() to open the webpage for more details.\n"
     ]
    }
   ],
   "source": [
    "import pandas as pd\n",
    "import numpy as np\n",
    "import scipy.stats\n",
    "import collections\n",
    "import re\n",
    "import gseapy as gp\n",
    "from gseapy.plot import barplot, dotplot\n",
    "\n",
    "import cptac.endometrial as en\n",
    "import cptac.algorithms as al"
   ]
  },
  {
   "cell_type": "markdown",
   "metadata": {},
   "source": [
    "## Get frequently mutated genes list"
   ]
  },
  {
   "cell_type": "markdown",
   "metadata": {},
   "source": [
    "Enter the type of cancer and the cutoff for mutation frequency that you would like to use."
   ]
  },
  {
   "cell_type": "code",
   "execution_count": 2,
   "metadata": {},
   "outputs": [
    {
     "name": "stdout",
     "output_type": "stream",
     "text": [
      "       Gene  Percent Mutated\n",
      "0     RPL22         0.168421\n",
      "1    ARID1A         0.452632\n",
      "2    PIK3CA         0.494737\n",
      "3     FBXW7         0.189474\n",
      "4     RBM27         0.168421\n",
      "5      NSD1         0.168421\n",
      "6     SYNE1         0.168421\n",
      "7     ZFHX4         0.200000\n",
      "8      PTEN         0.789474\n",
      "9      CTCF         0.284211\n",
      "10   ZNF469         0.157895\n",
      "11     TP53         0.221053\n",
      "12    KMT2B         0.242105\n",
      "13     KRAS         0.326316\n",
      "14    LMAN1         0.157895\n",
      "15    SCAF4         0.168421\n",
      "16   PIK3R1         0.389474\n",
      "17   CTNNB1         0.305263\n",
      "18     PCLO         0.168421\n",
      "19    KMT2D         0.178947\n",
      "20    HERC2         0.178947\n",
      "21    ZFHX3         0.221053\n",
      "22     JAK1         0.168421\n",
      "23    OBSCN         0.157895\n",
      "24    AHNAK         0.157895\n",
      "25  CCDC168         0.168421\n",
      "26    DOCK3         0.200000\n",
      "27    MUC16         0.189474\n",
      "28    HUWE1         0.157895\n",
      "29   DNAH17         0.157895\n",
      "30   INPPL1         0.200000\n"
     ]
    }
   ],
   "source": [
    "cancer_type = \"Endometrial\"\n",
    "desired_cutoff = .15\n",
    "\n",
    "fm = al.get_frequently_mutated(cancer_type, cutoff=desired_cutoff)\n",
    "print(fm)"
   ]
  },
  {
   "cell_type": "markdown",
   "metadata": {},
   "source": [
    "## Select a gene from the list of frequently mutated genes above"
   ]
  },
  {
   "cell_type": "markdown",
   "metadata": {},
   "source": [
    "Set the gene to which of the above frequently mutated genes you want to examine. For example, if you want to look at the gene PTEN, change the cell below to say \"gene = 'PTEN'\""
   ]
  },
  {
   "cell_type": "code",
   "execution_count": 20,
   "metadata": {},
   "outputs": [],
   "source": [
    "gene = 'PTEN'"
   ]
  },
  {
   "cell_type": "markdown",
   "metadata": {},
   "source": [
    "## Select desired omics comparison"
   ]
  },
  {
   "cell_type": "markdown",
   "metadata": {},
   "source": [
    "Select which type of omics you want to compare. If you want to compare proteomics data for the interacting proteins, uncomment the \"omics = en.get_proteomics()\" line, etc."
   ]
  },
  {
   "cell_type": "code",
   "execution_count": 21,
   "metadata": {},
   "outputs": [],
   "source": [
    "omics = en.get_proteomics()\n",
    "#omics = en.get_transcriptomics()\n",
    "#omics = en.get_phosphoproteomics()\n",
    "#omics = en.get_acetylproteomics()"
   ]
  },
  {
   "cell_type": "markdown",
   "metadata": {},
   "source": [
    "## CIS Comparison "
   ]
  },
  {
   "cell_type": "markdown",
   "metadata": {},
   "source": [
    "Does the mutated gene have a significant effect on the chosen omics data compared to the wildtype?"
   ]
  },
  {
   "cell_type": "code",
   "execution_count": 22,
   "metadata": {},
   "outputs": [
    {
     "name": "stdout",
     "output_type": "stream",
     "text": [
      "Doing t-test comparison\n",
      "\n",
      "        Comparison   P_Value\n",
      "0  PTEN_proteomics  0.018255\n"
     ]
    }
   ],
   "source": [
    "'''Create dataframe to do comparisons with wrap_ttest'''\n",
    "protdf = en.append_mutations_to_omics(mutation_genes = [gene], omics_df = omics, omics_genes = gene)\n",
    "protdf = protdf.loc[protdf['Sample_Status'] == 'Tumor']\n",
    "\n",
    "'''Create the binary valued column needed to do the comparison'''\n",
    "for ind, row in protdf.iterrows():\n",
    "    if row[gene+\"_Mutation_Status\"] != 'Wildtype_Tumor':\n",
    "        protdf.at[ind,'Label'] = 'Mutated'\n",
    "    else:\n",
    "        protdf.at[ind,'Label'] = 'Wildtype'\n",
    "      \n",
    "'''Format the dataframe correctly'''\n",
    "protdf = protdf.drop(gene+\"_Mutation\",axis=1)\n",
    "protdf = protdf.drop(gene+\"_Location\",axis=1)\n",
    "protdf = protdf.drop(gene+\"_Mutation_Status\", axis=1)\n",
    "protdf = protdf.drop(\"Sample_Status\",axis=1)\n",
    "\n",
    "'''Make list of gene omics column to be compared using t-tests'''\n",
    "col_list = list(protdf.columns)\n",
    "col_list.remove('Label')\n",
    "\n",
    "\n",
    "'''ttest comparing means of mutated vs wildtype effect on omics'''\n",
    "print(\"Doing t-test comparison\\n\")\n",
    "gene_pval_df = al.wrap_ttest(protdf, 'Label', col_list)\n",
    "\n",
    "'''Print p-val results of ttest'''\n",
    "if gene_pval_df is None:\n",
    "    print(gene_pval_df)\n",
    "    \n",
    "else:\n",
    "    #print('Mutation of', gene, 'has a significant effect on', omics.name, 'of', gene, '\\n')\n",
    "    print(gene_pval_df)"
   ]
  },
  {
   "cell_type": "markdown",
   "metadata": {},
   "source": [
    "## Generate interacting proteins and test omics comparisons"
   ]
  },
  {
   "cell_type": "markdown",
   "metadata": {},
   "source": [
    "Simply run this cell after following the instructions above to see the results of the comparisons"
   ]
  },
  {
   "cell_type": "code",
   "execution_count": 17,
   "metadata": {},
   "outputs": [
    {
     "name": "stdout",
     "output_type": "stream",
     "text": [
      "\n",
      "Gene:  PIK3R1\n",
      "Generating interacting protein list\n",
      "Index(['PDGFRA_proteomics', 'PIK3R2_proteomics', 'PIK3CA_proteomics',\n",
      "       'CBL_proteomics', 'STAT3_proteomics', 'ERBB3_proteomics',\n",
      "       'IGF1R_proteomics', 'ERBB2_proteomics', 'EGFR_proteomics',\n",
      "       'PIK3CB_proteomics', 'CRK_proteomics', 'IRS1_proteomics',\n",
      "       'CTNNB1_proteomics', 'PIK3CG_proteomics', 'PTEN_proteomics',\n",
      "       'SRC_proteomics', 'IRS2_proteomics', 'PIK3CD_proteomics',\n",
      "       'SOS1_proteomics', 'FGFR1_proteomics', 'SHC1_proteomics',\n",
      "       'HRAS_proteomics', 'PIK3R1_proteomics', 'AKT1_proteomics',\n",
      "       'LCP2_proteomics', 'ABL1_proteomics', 'FYN_proteomics',\n",
      "       'LCK_proteomics', 'GNAQ_proteomics', 'FCGR2A_proteomics',\n",
      "       'VAV1_proteomics', 'AXL_proteomics', 'DOK1_proteomics', 'Label'],\n",
      "      dtype='object')\n",
      "Doing t-test comparisons\n",
      "\n",
      "          Comparison   P_Value\n",
      "0    IRS2_proteomics  0.000045\n",
      "1  PIK3CA_proteomics  0.000271\n",
      "\n",
      "\n",
      "\n"
     ]
    }
   ],
   "source": [
    "try:\n",
    "    '''Prevent slice degrees of freedom warning'''\n",
    "    import warnings\n",
    "    warnings.filterwarnings(\"ignore\")\n",
    "\n",
    "    print(\"\\nGene: \", gene)\n",
    "\n",
    "    '''Use get interacting proteins method to generate list of interacting proteins'''\n",
    "    interacting_proteins = al.get_interacting_proteins(gene)\n",
    "\n",
    "    print(\"Generating interacting protein list\")\n",
    "    interacting_proteins_in_omics_df = []\n",
    "\n",
    "    '''Only do comparisons on proteins in the omics dataframe'''\n",
    "    for ip in interacting_proteins:\n",
    "        if omics.name == 'phosphoproteomics' or omics.name == 'acetylproteomics':\n",
    "            col_regex = ip + \"-.*\" # Build a regex to get all columns that match the gene\n",
    "        else:\n",
    "            col_regex = '^{}$'.format(ip)\n",
    "\n",
    "        selected = omics.filter(regex=col_regex)\n",
    "\n",
    "        if len(selected.columns) > 0:\n",
    "            interacting_proteins_in_omics_df.append(ip)\n",
    "\n",
    "    '''Ceate dataframe in order to do comparisons with wrap_ttest'''\n",
    "    protdf = en.append_mutations_to_omics(mutation_genes=[gene], omics_df=omics, omics_genes=interacting_proteins_in_omics_df)\n",
    "    protdf = protdf.loc[protdf['Sample_Status'] == 'Tumor']\n",
    "\n",
    "    '''Create the binary valued column needed to do the comparison'''\n",
    "    for ind, row in protdf.iterrows():\n",
    "        if row[gene+\"_Mutation_Status\"] != 'Wildtype_Tumor':\n",
    "            protdf.at[ind,'Label'] = 'Mutated'\n",
    "        else:\n",
    "            protdf.at[ind,'Label'] = 'Wildtype'\n",
    "\n",
    "    '''Format the datafram correctly'''\n",
    "    protdf = protdf.drop(gene+\"_Mutation\",axis=1)\n",
    "    protdf = protdf.drop(gene+\"_Location\",axis=1)\n",
    "    protdf = protdf.drop(gene+\"_Mutation_Status\", axis=1)\n",
    "    protdf = protdf.drop(\"Sample_Status\",axis=1)\n",
    "    print(protdf.columns)\n",
    "\n",
    "    '''Make list of columns to be compared using t-tests'''\n",
    "    col_list = list(protdf.columns)\n",
    "    col_list.remove('Label')\n",
    "\n",
    "    print(\"Doing t-test comparisons\\n\")\n",
    "\n",
    "    '''Call wrap_ttest, pass in formatted dataframe'''\n",
    "    wrap_results = al.wrap_ttest(protdf, 'Label', col_list)\n",
    "\n",
    "    '''Print results, if anything significant was found'''\n",
    "    if wrap_results is not None:\n",
    "            print(wrap_results)\n",
    "            print(\"\\n\\n\")\n",
    "\n",
    "except:\n",
    "    print(\"Error in Comparison\")"
   ]
  },
  {
   "cell_type": "markdown",
   "metadata": {},
   "source": [
    "## Look at effect on all proteins"
   ]
  },
  {
   "cell_type": "markdown",
   "metadata": {},
   "source": [
    "This will look at the effect of the selected gene mutation on all proteins, and report any significant results."
   ]
  },
  {
   "cell_type": "code",
   "execution_count": null,
   "metadata": {},
   "outputs": [],
   "source": [
    "try:\n",
    "    print(\"\\nGene: \", gene)\n",
    "\n",
    "    '''Use get interacting proteins method to generate list of interacting proteins'''\n",
    "    proteomics = en.get_proteomics()\n",
    "    proteins = proteomics.columns\n",
    "    #proteins = proteins[:250]\n",
    "\n",
    "    print(\"Generating protein list\")\n",
    "    interacting_proteins_in_omics_df = []\n",
    "\n",
    "    '''Only do comparisons on proteins in the omics dataframe'''\n",
    "    for ip in proteins:\n",
    "        if omics.name == 'phosphoproteomics' or omics.name == 'acetylproteomics':\n",
    "            col_regex = \"^{}-.*$\".format(ip) # Build a regex to get all columns that match the gene\n",
    "        else:\n",
    "            col_regex = '^{}$'.format(ip)\n",
    "\n",
    "        selected = omics.filter(regex=col_regex)\n",
    "\n",
    "        if len(selected.columns) > 0:\n",
    "            interacting_proteins_in_omics_df.append(ip)\n",
    "\n",
    "    '''Create dataframe in order to do comparisons with wrap_ttest'''\n",
    "    protdf = en.append_mutations_to_omics(mutation_genes=[gene], omics_df=omics, omics_genes=interacting_proteins_in_omics_df)\n",
    "    protdf = protdf.loc[protdf['Sample_Status'] == 'Tumor']\n",
    "    print(protdf.columns)\n",
    "    '''Create the binary valued column needed to do the comparison'''\n",
    "    for ind, row in protdf.iterrows():\n",
    "        if row[gene+\"_Mutation_Status\"] != 'Wildtype_Tumor':\n",
    "            protdf.at[ind,'Label'] = 'Mutated'\n",
    "        else:\n",
    "            protdf.at[ind,'Label'] = 'Wildtype'\n",
    "\n",
    "    '''Format the datafram correctly'''\n",
    "    protdf = protdf.drop(gene+\"_Mutation\",axis=1)\n",
    "    protdf = protdf.drop(gene+\"_Location\",axis=1)\n",
    "    protdf = protdf.drop(gene+\"_Mutation_Status\", axis=1)\n",
    "    protdf = protdf.drop(\"Sample_Status\",axis=1)\n",
    "    print(protdf.columns)\n",
    "    \n",
    "    '''Make list of columns to be compared using t-tests'''\n",
    "    col_list = list(protdf.columns)\n",
    "    col_list.remove('Label')\n",
    "\n",
    "    print(\"Doing t-test comparisons\\n\")\n",
    "    \n",
    "    '''Call wrap_ttest, pass in formatted dataframe'''\n",
    "    wrap_results = al.wrap_ttest(protdf, 'Label', col_list)\n",
    "\n",
    "    '''Print results, if anything significant was found'''\n",
    "    if wrap_results is not None:\n",
    "            print(wrap_results)\n",
    "            print(\"\\n\\n\")\n",
    "\n",
    "except Exception as e:\n",
    "    print(\"Error in Comparison\")\n",
    "    print(e)"
   ]
  },
  {
   "cell_type": "markdown",
   "metadata": {},
   "source": [
    "## Gene Set Enrichment on Significant Omics Genes"
   ]
  },
  {
   "cell_type": "code",
   "execution_count": null,
   "metadata": {},
   "outputs": [],
   "source": [
    "if len(wrap_results) > 0:\n",
    "    '''Get a list of the omics genes deemed significant by wrap_ttest'''\n",
    "    all_gene_list = list(wrap_results['Comparison'])\n",
    "    gene_name_list = []\n",
    "    for agl in all_gene_list:\n",
    "        split = agl.split(\"_\")\n",
    "        gene_name_list.append(split[0])\n",
    "    \n",
    "    '''Use the gseapy library to run a gene set enrichment analysis on the resulting list of genes'''\n",
    "    enrichment = gp.enrichr(gene_list = gene_name_list, description='ARID1A_Impacted', gene_sets='KEGG_2016', outdir='test/enrichr_kegg',cutoff=.5)\n",
    "    print(enrichment.res2d)\n",
    "    \n",
    "else:\n",
    "    print(\"No significant comparisons found.\")"
   ]
  },
  {
   "cell_type": "markdown",
   "metadata": {},
   "source": [
    "## Plot Gene Set Enrichment Results"
   ]
  },
  {
   "cell_type": "code",
   "execution_count": null,
   "metadata": {},
   "outputs": [],
   "source": [
    "'''Plot the significant results of the gene set enrichment analysis'''\n",
    "if len(wrap_results) > 0:\n",
    "    barplot(enrichment.res2d, title=gene+ \" Impacted Protein Enrichment Analysis\")\n",
    "else:\n",
    "    print(\"No significant comparisons found.\")"
   ]
  },
  {
   "cell_type": "code",
   "execution_count": null,
   "metadata": {},
   "outputs": [],
   "source": []
  }
 ],
 "metadata": {
  "kernelspec": {
   "display_name": "Python 3",
   "language": "python",
   "name": "python3"
  },
  "language_info": {
   "codemirror_mode": {
    "name": "ipython",
    "version": 3
   },
   "file_extension": ".py",
   "mimetype": "text/x-python",
   "name": "python",
   "nbconvert_exporter": "python",
   "pygments_lexer": "ipython3",
   "version": "3.7.3"
  }
 },
 "nbformat": 4,
 "nbformat_minor": 2
}
