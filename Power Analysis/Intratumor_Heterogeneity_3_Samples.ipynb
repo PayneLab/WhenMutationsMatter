{
 "cells": [
  {
   "cell_type": "markdown",
   "metadata": {},
   "source": [
    "# Examine sampling 3 datapoints from proteins with high and low variances "
   ]
  },
  {
   "cell_type": "markdown",
   "metadata": {},
   "source": [
    "### Library Imports"
   ]
  },
  {
   "cell_type": "code",
   "execution_count": 1,
   "metadata": {},
   "outputs": [
    {
     "name": "stdout",
     "output_type": "stream",
     "text": [
      "                                    \r"
     ]
    }
   ],
   "source": [
    "import pandas as pd\n",
    "import numpy as np\n",
    "import scipy.stats\n",
    "import collections\n",
    "import re\n",
    "import gseapy as gp\n",
    "from gseapy.plot import barplot, dotplot\n",
    "import matplotlib.pyplot as plt\n",
    "import seaborn as sns\n",
    "\n",
    "import cptac\n",
    "import cptac.algorithms as al\n",
    "\n",
    "\n",
    "en = cptac.Endometrial()"
   ]
  },
  {
   "cell_type": "markdown",
   "metadata": {},
   "source": [
    "### Use Endometrial proteomic abundance data"
   ]
  },
  {
   "cell_type": "code",
   "execution_count": 2,
   "metadata": {},
   "outputs": [],
   "source": [
    "proteomics_data = en.get_proteomics()\n",
    "proteomics_data = proteomics_data[:95]\n",
    "proteins = list(proteomics_data.columns)"
   ]
  },
  {
   "cell_type": "markdown",
   "metadata": {},
   "source": [
    "### Compute the Standard deviation of each protein"
   ]
  },
  {
   "cell_type": "code",
   "execution_count": 3,
   "metadata": {},
   "outputs": [],
   "source": [
    "sd_dict = {}\n",
    "for protein in proteins:\n",
    "    sd = np.std(proteomics_data[protein])\n",
    "    sd_dict[protein] = sd"
   ]
  },
  {
   "cell_type": "markdown",
   "metadata": {},
   "source": [
    "### Sort proteins High to Low Standard deviation, cast in DataFrame"
   ]
  },
  {
   "cell_type": "code",
   "execution_count": 4,
   "metadata": {},
   "outputs": [
    {
     "data": {
      "text/html": [
       "<div>\n",
       "<style scoped>\n",
       "    .dataframe tbody tr th:only-of-type {\n",
       "        vertical-align: middle;\n",
       "    }\n",
       "\n",
       "    .dataframe tbody tr th {\n",
       "        vertical-align: top;\n",
       "    }\n",
       "\n",
       "    .dataframe thead th {\n",
       "        text-align: right;\n",
       "    }\n",
       "</style>\n",
       "<table border=\"1\" class=\"dataframe\">\n",
       "  <thead>\n",
       "    <tr style=\"text-align: right;\">\n",
       "      <th></th>\n",
       "      <th>Protein</th>\n",
       "      <th>SD</th>\n",
       "    </tr>\n",
       "  </thead>\n",
       "  <tbody>\n",
       "    <tr>\n",
       "      <th>0</th>\n",
       "      <td>POU3F2</td>\n",
       "      <td>3.087475</td>\n",
       "    </tr>\n",
       "    <tr>\n",
       "      <th>1</th>\n",
       "      <td>ITLN2</td>\n",
       "      <td>2.870300</td>\n",
       "    </tr>\n",
       "    <tr>\n",
       "      <th>2</th>\n",
       "      <td>SPINK6</td>\n",
       "      <td>2.745150</td>\n",
       "    </tr>\n",
       "    <tr>\n",
       "      <th>3</th>\n",
       "      <td>GAGE2A</td>\n",
       "      <td>2.536669</td>\n",
       "    </tr>\n",
       "    <tr>\n",
       "      <th>4</th>\n",
       "      <td>DKK4</td>\n",
       "      <td>2.461074</td>\n",
       "    </tr>\n",
       "    <tr>\n",
       "      <th>5</th>\n",
       "      <td>S100A1</td>\n",
       "      <td>2.295821</td>\n",
       "    </tr>\n",
       "    <tr>\n",
       "      <th>6</th>\n",
       "      <td>DEFA3</td>\n",
       "      <td>2.283358</td>\n",
       "    </tr>\n",
       "    <tr>\n",
       "      <th>7</th>\n",
       "      <td>TEX261</td>\n",
       "      <td>2.167200</td>\n",
       "    </tr>\n",
       "    <tr>\n",
       "      <th>8</th>\n",
       "      <td>XAGE2</td>\n",
       "      <td>2.148260</td>\n",
       "    </tr>\n",
       "    <tr>\n",
       "      <th>9</th>\n",
       "      <td>DDX43</td>\n",
       "      <td>2.141091</td>\n",
       "    </tr>\n",
       "    <tr>\n",
       "      <th>10</th>\n",
       "      <td>FLJ44635</td>\n",
       "      <td>2.130018</td>\n",
       "    </tr>\n",
       "    <tr>\n",
       "      <th>11</th>\n",
       "      <td>DEFA6</td>\n",
       "      <td>2.129817</td>\n",
       "    </tr>\n",
       "    <tr>\n",
       "      <th>12</th>\n",
       "      <td>S100A7</td>\n",
       "      <td>2.123856</td>\n",
       "    </tr>\n",
       "    <tr>\n",
       "      <th>13</th>\n",
       "      <td>S100A2</td>\n",
       "      <td>2.115602</td>\n",
       "    </tr>\n",
       "    <tr>\n",
       "      <th>14</th>\n",
       "      <td>GAGE12F</td>\n",
       "      <td>2.093798</td>\n",
       "    </tr>\n",
       "    <tr>\n",
       "      <th>15</th>\n",
       "      <td>AKR1C2</td>\n",
       "      <td>2.066968</td>\n",
       "    </tr>\n",
       "    <tr>\n",
       "      <th>16</th>\n",
       "      <td>SPRR2D</td>\n",
       "      <td>2.023030</td>\n",
       "    </tr>\n",
       "    <tr>\n",
       "      <th>17</th>\n",
       "      <td>SPRR3</td>\n",
       "      <td>2.022326</td>\n",
       "    </tr>\n",
       "    <tr>\n",
       "      <th>18</th>\n",
       "      <td>NAPSA</td>\n",
       "      <td>1.969707</td>\n",
       "    </tr>\n",
       "    <tr>\n",
       "      <th>19</th>\n",
       "      <td>BSX</td>\n",
       "      <td>1.967910</td>\n",
       "    </tr>\n",
       "    <tr>\n",
       "      <th>20</th>\n",
       "      <td>DPEP1</td>\n",
       "      <td>1.933617</td>\n",
       "    </tr>\n",
       "    <tr>\n",
       "      <th>21</th>\n",
       "      <td>GAGE1</td>\n",
       "      <td>1.929393</td>\n",
       "    </tr>\n",
       "    <tr>\n",
       "      <th>22</th>\n",
       "      <td>SLPI</td>\n",
       "      <td>1.926083</td>\n",
       "    </tr>\n",
       "    <tr>\n",
       "      <th>23</th>\n",
       "      <td>SMCO4</td>\n",
       "      <td>1.917050</td>\n",
       "    </tr>\n",
       "    <tr>\n",
       "      <th>24</th>\n",
       "      <td>CALML3</td>\n",
       "      <td>1.905327</td>\n",
       "    </tr>\n",
       "    <tr>\n",
       "      <th>25</th>\n",
       "      <td>S100A7A</td>\n",
       "      <td>1.905216</td>\n",
       "    </tr>\n",
       "    <tr>\n",
       "      <th>26</th>\n",
       "      <td>AKR1B10</td>\n",
       "      <td>1.890632</td>\n",
       "    </tr>\n",
       "    <tr>\n",
       "      <th>27</th>\n",
       "      <td>SERPINB3</td>\n",
       "      <td>1.867290</td>\n",
       "    </tr>\n",
       "    <tr>\n",
       "      <th>28</th>\n",
       "      <td>MTMR11</td>\n",
       "      <td>1.852597</td>\n",
       "    </tr>\n",
       "    <tr>\n",
       "      <th>29</th>\n",
       "      <td>TSPAN8</td>\n",
       "      <td>1.852474</td>\n",
       "    </tr>\n",
       "    <tr>\n",
       "      <th>...</th>\n",
       "      <td>...</td>\n",
       "      <td>...</td>\n",
       "    </tr>\n",
       "    <tr>\n",
       "      <th>10969</th>\n",
       "      <td>TRAPPC10</td>\n",
       "      <td>0.208851</td>\n",
       "    </tr>\n",
       "    <tr>\n",
       "      <th>10970</th>\n",
       "      <td>UPF1</td>\n",
       "      <td>0.208061</td>\n",
       "    </tr>\n",
       "    <tr>\n",
       "      <th>10971</th>\n",
       "      <td>UBE4B</td>\n",
       "      <td>0.205495</td>\n",
       "    </tr>\n",
       "    <tr>\n",
       "      <th>10972</th>\n",
       "      <td>ZC3H14</td>\n",
       "      <td>0.205279</td>\n",
       "    </tr>\n",
       "    <tr>\n",
       "      <th>10973</th>\n",
       "      <td>U2AF1L4</td>\n",
       "      <td>0.199997</td>\n",
       "    </tr>\n",
       "    <tr>\n",
       "      <th>10974</th>\n",
       "      <td>ZSWIM8</td>\n",
       "      <td>0.199589</td>\n",
       "    </tr>\n",
       "    <tr>\n",
       "      <th>10975</th>\n",
       "      <td>ZC3HC1</td>\n",
       "      <td>0.199017</td>\n",
       "    </tr>\n",
       "    <tr>\n",
       "      <th>10976</th>\n",
       "      <td>ZC3H4</td>\n",
       "      <td>0.198121</td>\n",
       "    </tr>\n",
       "    <tr>\n",
       "      <th>10977</th>\n",
       "      <td>UBA3</td>\n",
       "      <td>0.196555</td>\n",
       "    </tr>\n",
       "    <tr>\n",
       "      <th>10978</th>\n",
       "      <td>ZNF318</td>\n",
       "      <td>0.194182</td>\n",
       "    </tr>\n",
       "    <tr>\n",
       "      <th>10979</th>\n",
       "      <td>UBN1</td>\n",
       "      <td>0.192784</td>\n",
       "    </tr>\n",
       "    <tr>\n",
       "      <th>10980</th>\n",
       "      <td>TRNAU1AP</td>\n",
       "      <td>0.192632</td>\n",
       "    </tr>\n",
       "    <tr>\n",
       "      <th>10981</th>\n",
       "      <td>ZC3H7A</td>\n",
       "      <td>0.191769</td>\n",
       "    </tr>\n",
       "    <tr>\n",
       "      <th>10982</th>\n",
       "      <td>TPR</td>\n",
       "      <td>0.190611</td>\n",
       "    </tr>\n",
       "    <tr>\n",
       "      <th>10983</th>\n",
       "      <td>ZC3H13</td>\n",
       "      <td>0.188519</td>\n",
       "    </tr>\n",
       "    <tr>\n",
       "      <th>10984</th>\n",
       "      <td>TNRC6B</td>\n",
       "      <td>0.187285</td>\n",
       "    </tr>\n",
       "    <tr>\n",
       "      <th>10985</th>\n",
       "      <td>ZFR</td>\n",
       "      <td>0.186323</td>\n",
       "    </tr>\n",
       "    <tr>\n",
       "      <th>10986</th>\n",
       "      <td>TRAPPC12</td>\n",
       "      <td>0.176568</td>\n",
       "    </tr>\n",
       "    <tr>\n",
       "      <th>10987</th>\n",
       "      <td>TOP3B</td>\n",
       "      <td>0.175804</td>\n",
       "    </tr>\n",
       "    <tr>\n",
       "      <th>10988</th>\n",
       "      <td>TRAPPC8</td>\n",
       "      <td>0.170483</td>\n",
       "    </tr>\n",
       "    <tr>\n",
       "      <th>10989</th>\n",
       "      <td>TRAPPC11</td>\n",
       "      <td>0.169643</td>\n",
       "    </tr>\n",
       "    <tr>\n",
       "      <th>10990</th>\n",
       "      <td>TSC2</td>\n",
       "      <td>0.162716</td>\n",
       "    </tr>\n",
       "    <tr>\n",
       "      <th>10991</th>\n",
       "      <td>ZC3H7B</td>\n",
       "      <td>0.155013</td>\n",
       "    </tr>\n",
       "    <tr>\n",
       "      <th>10992</th>\n",
       "      <td>TRIM56</td>\n",
       "      <td>0.154898</td>\n",
       "    </tr>\n",
       "    <tr>\n",
       "      <th>10993</th>\n",
       "      <td>TMED7-TICAM2</td>\n",
       "      <td>0.151092</td>\n",
       "    </tr>\n",
       "    <tr>\n",
       "      <th>10994</th>\n",
       "      <td>TRMT12</td>\n",
       "      <td>0.139806</td>\n",
       "    </tr>\n",
       "    <tr>\n",
       "      <th>10995</th>\n",
       "      <td>ZNF506</td>\n",
       "      <td>0.137650</td>\n",
       "    </tr>\n",
       "    <tr>\n",
       "      <th>10996</th>\n",
       "      <td>TUBB8P12</td>\n",
       "      <td>0.125282</td>\n",
       "    </tr>\n",
       "    <tr>\n",
       "      <th>10997</th>\n",
       "      <td>TOX2</td>\n",
       "      <td>0.100315</td>\n",
       "    </tr>\n",
       "    <tr>\n",
       "      <th>10998</th>\n",
       "      <td>RAB33A</td>\n",
       "      <td>0.080895</td>\n",
       "    </tr>\n",
       "  </tbody>\n",
       "</table>\n",
       "<p>10999 rows × 2 columns</p>\n",
       "</div>"
      ],
      "text/plain": [
       "            Protein        SD\n",
       "0            POU3F2  3.087475\n",
       "1             ITLN2  2.870300\n",
       "2            SPINK6  2.745150\n",
       "3            GAGE2A  2.536669\n",
       "4              DKK4  2.461074\n",
       "5            S100A1  2.295821\n",
       "6             DEFA3  2.283358\n",
       "7            TEX261  2.167200\n",
       "8             XAGE2  2.148260\n",
       "9             DDX43  2.141091\n",
       "10         FLJ44635  2.130018\n",
       "11            DEFA6  2.129817\n",
       "12           S100A7  2.123856\n",
       "13           S100A2  2.115602\n",
       "14          GAGE12F  2.093798\n",
       "15           AKR1C2  2.066968\n",
       "16           SPRR2D  2.023030\n",
       "17            SPRR3  2.022326\n",
       "18            NAPSA  1.969707\n",
       "19              BSX  1.967910\n",
       "20            DPEP1  1.933617\n",
       "21            GAGE1  1.929393\n",
       "22             SLPI  1.926083\n",
       "23            SMCO4  1.917050\n",
       "24           CALML3  1.905327\n",
       "25          S100A7A  1.905216\n",
       "26          AKR1B10  1.890632\n",
       "27         SERPINB3  1.867290\n",
       "28           MTMR11  1.852597\n",
       "29           TSPAN8  1.852474\n",
       "...             ...       ...\n",
       "10969      TRAPPC10  0.208851\n",
       "10970          UPF1  0.208061\n",
       "10971         UBE4B  0.205495\n",
       "10972        ZC3H14  0.205279\n",
       "10973       U2AF1L4  0.199997\n",
       "10974        ZSWIM8  0.199589\n",
       "10975        ZC3HC1  0.199017\n",
       "10976         ZC3H4  0.198121\n",
       "10977          UBA3  0.196555\n",
       "10978        ZNF318  0.194182\n",
       "10979          UBN1  0.192784\n",
       "10980      TRNAU1AP  0.192632\n",
       "10981        ZC3H7A  0.191769\n",
       "10982           TPR  0.190611\n",
       "10983        ZC3H13  0.188519\n",
       "10984        TNRC6B  0.187285\n",
       "10985           ZFR  0.186323\n",
       "10986      TRAPPC12  0.176568\n",
       "10987         TOP3B  0.175804\n",
       "10988       TRAPPC8  0.170483\n",
       "10989      TRAPPC11  0.169643\n",
       "10990          TSC2  0.162716\n",
       "10991        ZC3H7B  0.155013\n",
       "10992        TRIM56  0.154898\n",
       "10993  TMED7-TICAM2  0.151092\n",
       "10994        TRMT12  0.139806\n",
       "10995        ZNF506  0.137650\n",
       "10996      TUBB8P12  0.125282\n",
       "10997          TOX2  0.100315\n",
       "10998        RAB33A  0.080895\n",
       "\n",
       "[10999 rows x 2 columns]"
      ]
     },
     "metadata": {},
     "output_type": "display_data"
    }
   ],
   "source": [
    "sorted_sd_dict = sorted(sd_dict.items(), key=lambda x: x[1], reverse=True)\n",
    "\n",
    "sd_df = pd.DataFrame.from_dict(sorted_sd_dict)\n",
    "sd_df = sd_df.rename(columns={0:'Protein',1:'SD'})\n",
    "display(sd_df)"
   ]
  },
  {
   "cell_type": "markdown",
   "metadata": {},
   "source": [
    "### Select the 1000 proteins with highest and lowest standard deviations"
   ]
  },
  {
   "cell_type": "code",
   "execution_count": 5,
   "metadata": {},
   "outputs": [],
   "source": [
    "high_sd_proteins = list(sd_df[:100]['Protein'])\n",
    "low_sd_proteins = list(sd_df[len(sd_df) - 100 : len(sd_df)]['Protein'])"
   ]
  },
  {
   "cell_type": "code",
   "execution_count": 6,
   "metadata": {},
   "outputs": [],
   "source": [
    "#high_sd_proteins"
   ]
  },
  {
   "cell_type": "code",
   "execution_count": 7,
   "metadata": {},
   "outputs": [],
   "source": [
    "#low_sd_proteins"
   ]
  },
  {
   "cell_type": "markdown",
   "metadata": {},
   "source": [
    "### Define method to randomly select three values from a list"
   ]
  },
  {
   "cell_type": "code",
   "execution_count": 8,
   "metadata": {},
   "outputs": [],
   "source": [
    "import random\n",
    "def randomly_select_3(list_of_values):\n",
    "    length = len(list_of_values)\n",
    "    random.shuffle(list_of_values)\n",
    "    selected = list_of_values[0:3]\n",
    "    return selected"
   ]
  },
  {
   "cell_type": "markdown",
   "metadata": {},
   "source": [
    "### Randomly select 3 samples from a  high variance protein"
   ]
  },
  {
   "cell_type": "code",
   "execution_count": 9,
   "metadata": {},
   "outputs": [
    {
     "data": {
      "text/plain": [
       "[-1.15, -0.425, 0.789]"
      ]
     },
     "execution_count": 9,
     "metadata": {},
     "output_type": "execute_result"
    }
   ],
   "source": [
    "high_sd_protein = 'APMAP'\n",
    "#high_sd_protein = 'POU3F2'\n",
    "high_proteomics = list(proteomics_data[high_sd_protein].dropna())\n",
    "high_proteomics\n",
    "three_high_measurements = randomly_select_3(high_proteomics)\n",
    "three_high_measurements"
   ]
  },
  {
   "cell_type": "markdown",
   "metadata": {},
   "source": [
    "### Randomly select 3 samples from a  low variance protein"
   ]
  },
  {
   "cell_type": "code",
   "execution_count": 10,
   "metadata": {},
   "outputs": [
    {
     "data": {
      "text/plain": [
       "[0.266, -0.20800000000000002, -0.212]"
      ]
     },
     "execution_count": 10,
     "metadata": {},
     "output_type": "execute_result"
    }
   ],
   "source": [
    "low_sd_protein = 'WDR26'\n",
    "#low_sd_protein = 'RAB33A'\n",
    "low_proteomics = list(proteomics_data[low_sd_protein].dropna())\n",
    "low_proteomics\n",
    "three_low_measurements = randomly_select_3(low_proteomics)\n",
    "three_low_measurements"
   ]
  },
  {
   "cell_type": "markdown",
   "metadata": {},
   "source": [
    "### Plot the entire distribution"
   ]
  },
  {
   "cell_type": "code",
   "execution_count": 11,
   "metadata": {},
   "outputs": [
    {
     "data": {
      "image/png": "[encoded data removed]",
      "text/plain": [
       "<Figure size 432x288 with 1 Axes>"
      ]
     },
     "metadata": {
      "needs_background": "light"
     },
     "output_type": "display_data"
    }
   ],
   "source": [
    "dist_df = pd.DataFrame(columns=['High','Low'])\n",
    "dist_df['High'] = high_proteomics\n",
    "dist_df['Low'] = pd.Series(low_proteomics)\n",
    "\n",
    "plot_dist = sns.boxplot(data = dist_df)\n",
    "pts_dist = sns.stripplot(data=dist_df, jitter=True, color='.3')"
   ]
  },
  {
   "cell_type": "markdown",
   "metadata": {},
   "source": [
    "### Plot the 3 randomly sampled values"
   ]
  },
  {
   "cell_type": "code",
   "execution_count": 12,
   "metadata": {},
   "outputs": [
    {
     "data": {
      "image/png": "[encoded data removed]",
      "text/plain": [
       "<Figure size 432x288 with 1 Axes>"
      ]
     },
     "metadata": {
      "needs_background": "light"
     },
     "output_type": "display_data"
    }
   ],
   "source": [
    "plot_df = pd.DataFrame(columns = ['High', 'Low'])\n",
    "plot_df['High'] = three_high_measurements\n",
    "plot_df['Low'] = three_low_measurements\n",
    "\n",
    "plot = sns.boxplot(data=plot_df)\n",
    "pts = sns.stripplot(data=plot_df, jitter=True, color='.3')"
   ]
  },
  {
   "cell_type": "code",
   "execution_count": 13,
   "metadata": {},
   "outputs": [
    {
     "name": "stdout",
     "output_type": "stream",
     "text": [
      "HIGH SD:  0.7999404144476429\n",
      "LOW SD:  0.2243944938916481\n"
     ]
    }
   ],
   "source": [
    "sd_high = np.std(three_high_measurements)\n",
    "sd_low = np.std(three_low_measurements)\n",
    "\n",
    "print(\"HIGH SD: \", sd_high)\n",
    "print(\"LOW SD: \", sd_low)"
   ]
  },
  {
   "cell_type": "markdown",
   "metadata": {},
   "source": [
    "### Track SD for 3 randomly selected for high/low proteins over 100 highest and lowest variance proteins"
   ]
  },
  {
   "cell_type": "code",
   "execution_count": 14,
   "metadata": {},
   "outputs": [],
   "source": [
    "high_sds = []\n",
    "for high_prot in high_sd_proteins:\n",
    "    high_proteomics = list(proteomics_data[high_prot].dropna())\n",
    "    three_high_measurements = randomly_select_3(high_proteomics)\n",
    "    high_sd = np.std(three_high_measurements)\n",
    "    if not np.isnan(high_sd):\n",
    "        high_sds.append(high_sd)\n",
    "\n",
    "low_sds = []\n",
    "for low_prot in low_sd_proteins:\n",
    "    low_proteomics = list(proteomics_data[low_prot].dropna())\n",
    "    three_low_measurements = randomly_select_3(low_proteomics)\n",
    "    low_sd = np.std(three_low_measurements)\n",
    "    if not np.isnan(low_sd):\n",
    "        low_sds.append(low_sd)"
   ]
  },
  {
   "cell_type": "markdown",
   "metadata": {},
   "source": [
    "### Plot standard deviations of the 3 randomly selected values from each of the 100 highest and lowest variance proteins"
   ]
  },
  {
   "cell_type": "code",
   "execution_count": 15,
   "metadata": {},
   "outputs": [
    {
     "data": {
      "image/png": "[encoded data removed]",
      "text/plain": [
       "<Figure size 432x288 with 1 Axes>"
      ]
     },
     "metadata": {
      "needs_background": "light"
     },
     "output_type": "display_data"
    }
   ],
   "source": [
    "sd_plot_df = pd.DataFrame(columns=['High_SD_Protein', 'Low_SD_Protein'])\n",
    "sd_plot_df['High_SD_Protein'] = pd.Series(high_sds)\n",
    "sd_plot_df['Low_SD_Protein'] = pd.Series(low_sds)\n",
    "\n",
    "plot = sns.boxplot(data=sd_plot_df)\n",
    "pts = sns.stripplot(data=sd_plot_df, jitter=True, color='.3')"
   ]
  },
  {
   "cell_type": "markdown",
   "metadata": {},
   "source": [
    "TODO: Histogram plot of 2 data series"
   ]
  },
  {
   "cell_type": "markdown",
   "metadata": {},
   "source": [
    "### Do a t-test to determine if the 3 samples was sufficient to capture the difference in variance between the 2 groups across the 100 highest and lowest variance proteins"
   ]
  },
  {
   "cell_type": "code",
   "execution_count": 16,
   "metadata": {},
   "outputs": [
    {
     "name": "stdout",
     "output_type": "stream",
     "text": [
      "2.4810891479361952e-31\n"
     ]
    }
   ],
   "source": [
    "stat, pval = scipy.stats.ttest_ind(high_sds,low_sds)\n",
    "print(pval)"
   ]
  },
  {
   "cell_type": "markdown",
   "metadata": {},
   "source": [
    "### Get 100 medium variance proteins"
   ]
  },
  {
   "cell_type": "code",
   "execution_count": 17,
   "metadata": {},
   "outputs": [],
   "source": [
    "medium_sd_proteins = list(sd_df[5450:5550]['Protein'])\n",
    "#medium_sd_proteins"
   ]
  },
  {
   "cell_type": "markdown",
   "metadata": {},
   "source": [
    "### Repeat process above, but this time use medium variance proteins and low variance proteins"
   ]
  },
  {
   "cell_type": "code",
   "execution_count": 18,
   "metadata": {},
   "outputs": [],
   "source": [
    "low_sds = []\n",
    "for low_prot in low_sd_proteins:\n",
    "    low_proteomics = list(proteomics_data[low_prot].dropna())\n",
    "    three_low_measurements = randomly_select_3(low_proteomics)\n",
    "    low_sd = np.std(three_low_measurements)\n",
    "    if not np.isnan(low_sd):\n",
    "        low_sds.append(low_sd)\n",
    "        \n",
    "medium_sds = []\n",
    "for med_prot in medium_sd_proteins:\n",
    "    med_proteomics = list(proteomics_data[med_prot].dropna())\n",
    "    three_med_measurements = randomly_select_3(med_proteomics)\n",
    "    med_sd = np.std(three_med_measurements)\n",
    "    if not np.isnan(med_sd):\n",
    "        medium_sds.append(med_sd)"
   ]
  },
  {
   "cell_type": "code",
   "execution_count": 19,
   "metadata": {},
   "outputs": [
    {
     "data": {
      "image/png": "[encoded data removed]",
      "text/plain": [
       "<Figure size 432x288 with 1 Axes>"
      ]
     },
     "metadata": {
      "needs_background": "light"
     },
     "output_type": "display_data"
    }
   ],
   "source": [
    "sd_plot_df = pd.DataFrame(columns=['Med_SD_Protein', 'Low_SD_Protein'])\n",
    "sd_plot_df['Med_SD_Protein'] = pd.Series(medium_sds)\n",
    "sd_plot_df['Low_SD_Protein'] = pd.Series(low_sds)\n",
    "\n",
    "plot = sns.boxplot(data=sd_plot_df)\n",
    "pts = sns.stripplot(data=sd_plot_df, jitter=True, color='.3')"
   ]
  },
  {
   "cell_type": "code",
   "execution_count": 20,
   "metadata": {},
   "outputs": [
    {
     "name": "stdout",
     "output_type": "stream",
     "text": [
      "1.5698172392184821e-27\n"
     ]
    }
   ],
   "source": [
    "stat, pval = scipy.stats.ttest_ind(medium_sds,low_sds)\n",
    "print(pval)"
   ]
  },
  {
   "cell_type": "markdown",
   "metadata": {},
   "source": [
    "## Simulate \"cohort\" of 20 samples by iterating 20 times and illustrating the average standard deviations"
   ]
  },
  {
   "cell_type": "code",
   "execution_count": 21,
   "metadata": {},
   "outputs": [],
   "source": [
    "average_standard_deviations_low = []\n",
    "average_standard_deviations_high = []\n",
    "\n",
    "for iteration in range(0, 20):\n",
    "    iter_sds_low = []\n",
    "    iter_sds_high = []\n",
    "    \n",
    "    for low_protein in low_sd_proteins:\n",
    "        low_proteomics = list(proteomics_data[low_protein].dropna())\n",
    "        three_low_measurements = randomly_select_3(low_proteomics)\n",
    "        low_sd = np.std(three_low_measurements)\n",
    "        if not np.isnan(low_sd):\n",
    "            iter_sds_low.append(low_sd)\n",
    "            \n",
    "    for high_protein in high_sd_proteins:\n",
    "        high_proteomics = list(proteomics_data[high_protein].dropna())\n",
    "        three_high_measurements = randomly_select_3(high_proteomics)\n",
    "        high_sd = np.std(three_high_measurements)\n",
    "        if not np.isnan(high_sd):\n",
    "            iter_sds_high.append(high_sd)\n",
    "            \n",
    "    average_standard_deviations_low.append(np.mean(iter_sds_low))\n",
    "    average_standard_deviations_high.append(np.mean(iter_sds_high))"
   ]
  },
  {
   "cell_type": "code",
   "execution_count": 22,
   "metadata": {},
   "outputs": [
    {
     "data": {
      "image/png": "[encoded data removed]",
      "text/plain": [
       "<Figure size 432x288 with 1 Axes>"
      ]
     },
     "metadata": {
      "needs_background": "light"
     },
     "output_type": "display_data"
    }
   ],
   "source": [
    "cohort_plot_df = pd.DataFrame(columns = ['High_SD_Proteins','Low_SD_Proteins'])\n",
    "cohort_plot_df['High_SD_Proteins'] = pd.Series(average_standard_deviations_high)\n",
    "cohort_plot_df['Low_SD_Proteins'] = pd.Series(average_standard_deviations_low)\n",
    "\n",
    "plot = sns.boxplot(data=cohort_plot_df)\n",
    "pts = sns.stripplot(data=cohort_plot_df, jitter=True, color='.3')"
   ]
  },
  {
   "cell_type": "markdown",
   "metadata": {},
   "source": [
    "### Do same simulation with medium variance proteins and low variance proteins"
   ]
  },
  {
   "cell_type": "code",
   "execution_count": 23,
   "metadata": {},
   "outputs": [],
   "source": [
    "average_standard_deviations_low = []\n",
    "average_standard_deviations_med = []\n",
    "\n",
    "for iteration in range(0, 20):\n",
    "    iter_sds_low = []\n",
    "    iter_sds_med = []\n",
    "    \n",
    "    for low_protein in low_sd_proteins:\n",
    "        low_proteomics = list(proteomics_data[low_protein].dropna())\n",
    "        three_low_measurements = randomly_select_3(low_proteomics)\n",
    "        low_sd = np.std(three_low_measurements)\n",
    "        if not np.isnan(low_sd):\n",
    "            iter_sds_low.append(low_sd)\n",
    "            \n",
    "    for med_protein in medium_sd_proteins:\n",
    "        med_proteomics = list(proteomics_data[med_protein].dropna())\n",
    "        three_med_measurements = randomly_select_3(med_proteomics)\n",
    "        med_sd = np.std(three_med_measurements)\n",
    "        if not np.isnan(med_sd):\n",
    "            iter_sds_med.append(med_sd)\n",
    "            \n",
    "    average_standard_deviations_low.append(np.mean(iter_sds_low))\n",
    "    average_standard_deviations_med.append(np.mean(iter_sds_med))"
   ]
  },
  {
   "cell_type": "code",
   "execution_count": 24,
   "metadata": {},
   "outputs": [
    {
     "data": {
      "image/png": "[encoded data removed]",
      "text/plain": [
       "<Figure size 432x288 with 1 Axes>"
      ]
     },
     "metadata": {
      "needs_background": "light"
     },
     "output_type": "display_data"
    }
   ],
   "source": [
    "cohort_plot_df = pd.DataFrame(columns = ['Medium_SD_Proteins','Low_SD_Proteins'])\n",
    "cohort_plot_df['Medium_SD_Proteins'] = pd.Series(average_standard_deviations_med)\n",
    "cohort_plot_df['Low_SD_Proteins'] = pd.Series(average_standard_deviations_low)\n",
    "\n",
    "plot = sns.boxplot(data=cohort_plot_df)\n",
    "pts = sns.stripplot(data=cohort_plot_df, jitter=True, color='.3')"
   ]
  }
 ],
 "metadata": {
  "kernelspec": {
   "display_name": "Python 3",
   "language": "python",
   "name": "python3"
  },
  "language_info": {
   "codemirror_mode": {
    "name": "ipython",
    "version": 3
   },
   "file_extension": ".py",
   "mimetype": "text/x-python",
   "name": "python",
   "nbconvert_exporter": "python",
   "pygments_lexer": "ipython3",
   "version": "3.6.8"
  }
 },
 "nbformat": 4,
 "nbformat_minor": 2
}
