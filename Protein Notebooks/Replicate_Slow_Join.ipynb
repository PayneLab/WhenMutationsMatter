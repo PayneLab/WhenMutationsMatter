{
 "cells": [
  {
   "cell_type": "code",
   "execution_count": 1,
   "metadata": {},
   "outputs": [
    {
     "name": "stdout",
     "output_type": "stream",
     "text": [
      "MT-ATP6 did not match any columns in transcriptomics dataframe. MT-ATP6_transcriptomics column inserted, but filled with NaN.\n",
      "MT-ATP8 did not match any columns in transcriptomics dataframe. MT-ATP8_transcriptomics column inserted, but filled with NaN.\n",
      "MT-CO1 did not match any columns in transcriptomics dataframe. MT-CO1_transcriptomics column inserted, but filled with NaN.\n",
      "MT-CO2 did not match any columns in transcriptomics dataframe. MT-CO2_transcriptomics column inserted, but filled with NaN.\n",
      "MT-CO3 did not match any columns in transcriptomics dataframe. MT-CO3_transcriptomics column inserted, but filled with NaN.\n",
      "MT-CYB did not match any columns in transcriptomics dataframe. MT-CYB_transcriptomics column inserted, but filled with NaN.\n",
      "MT-ND1 did not match any columns in transcriptomics dataframe. MT-ND1_transcriptomics column inserted, but filled with NaN.\n",
      "MT-ND2 did not match any columns in transcriptomics dataframe. MT-ND2_transcriptomics column inserted, but filled with NaN.\n",
      "MT-ND3 did not match any columns in transcriptomics dataframe. MT-ND3_transcriptomics column inserted, but filled with NaN.\n",
      "MT-ND4 did not match any columns in transcriptomics dataframe. MT-ND4_transcriptomics column inserted, but filled with NaN.\n",
      "MT-ND4L did not match any columns in transcriptomics dataframe. MT-ND4L_transcriptomics column inserted, but filled with NaN.\n",
      "MT-ND5 did not match any columns in transcriptomics dataframe. MT-ND5_transcriptomics column inserted, but filled with NaN.\n",
      "MT-ND6 did not match any columns in transcriptomics dataframe. MT-ND6_transcriptomics column inserted, but filled with NaN.\n",
      "Join Omics To Mutations Time:  1138.5938091278076\n"
     ]
    }
   ],
   "source": [
    "import pandas as pd\n",
    "import numpy as np\n",
    "import scipy.stats\n",
    "import cptac\n",
    "import time\n",
    "\n",
    "en = cptac.Endometrial()\n",
    "\n",
    "gene = 'ARID1A'\n",
    "omics = \"transcriptomics\"\n",
    "\n",
    "'''Use all proteins'''\n",
    "proteomics = en.get_proteomics()\n",
    "all_proteins = proteomics.columns\n",
    "\n",
    "start_join = time.time()\n",
    "'''Create dataframe in order to do comparisons with wrap_ttest'''\n",
    "protdf = en.join_omics_to_mutations(mutations_genes=[gene], omics_df_name=omics, omics_genes=all_proteins)\n",
    "end_join = time.time()\n",
    "\n",
    "print(\"Join Omics To Mutations Time: \", end_join - start_join)"
   ]
  }
 ],
 "metadata": {
  "kernelspec": {
   "display_name": "Python 3",
   "language": "python",
   "name": "python3"
  },
  "language_info": {
   "codemirror_mode": {
    "name": "ipython",
    "version": 3
   },
   "file_extension": ".py",
   "mimetype": "text/x-python",
   "name": "python",
   "nbconvert_exporter": "python",
   "pygments_lexer": "ipython3",
   "version": "3.6.8"
  }
 },
 "nbformat": 4,
 "nbformat_minor": 2
}
