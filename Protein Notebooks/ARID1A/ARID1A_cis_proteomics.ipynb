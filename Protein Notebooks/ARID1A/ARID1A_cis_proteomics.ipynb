{
 "cells": [
  {
   "cell_type": "markdown",
   "metadata": {},
   "source": [
    "# ARID1A proteomics cis comparison"
   ]
  },
  {
   "cell_type": "markdown",
   "metadata": {},
   "source": [
    "## Step 1: Library Imports"
   ]
  },
  {
   "cell_type": "markdown",
   "metadata": {},
   "source": [
    "Run this cell to import the necessary libraries"
   ]
  },
  {
   "cell_type": "code",
   "execution_count": 2,
   "metadata": {},
   "outputs": [],
   "source": [
    "import pandas as pd\n",
    "import numpy as np\n",
    "import seaborn as sns\n",
    "import matplotlib.pyplot as plt\n",
    "import scipy.stats\n",
    "import sys \n",
    "sys.path.append('C:\\\\Users\\\\brittany henderson\\\\GitHub\\\\WhenMutationsMatter\\\\Brittany\\\\')\n",
    "import functions as f\n",
    "\n",
    "import cptac\n",
    "import cptac.algorithms as al"
   ]
  },
  {
   "cell_type": "markdown",
   "metadata": {},
   "source": [
    "## Step 2: Find the frequently mutated genes for Endometrial Cancer"
   ]
  },
  {
   "cell_type": "markdown",
   "metadata": {},
   "source": [
    "Enter the type of cancer and the cutoff for mutation frequency that you would like to use."
   ]
  },
  {
   "cell_type": "code",
   "execution_count": 3,
   "metadata": {},
   "outputs": [
    {
     "name": "stdout",
     "output_type": "stream",
     "text": [
      "                                    \n",
      "\n",
      "Number of Frequently Mutated Genes: 232 \n",
      "         Unique_Samples_Mut  Missence_Mut  Truncation_Mut\n",
      "Gene                                                    \n",
      "ABCA12            0.147368      0.094737        0.073684\n",
      "ABCA13            0.115789      0.105263        0.042105\n",
      "ACVR2A            0.105263      0.010526        0.094737\n",
      "ADGRG4            0.136842      0.126316        0.021053\n",
      "ADGRV1            0.115789      0.094737        0.052632\n"
     ]
    }
   ],
   "source": [
    "en_object = cptac.Endometrial()\n",
    "desired_cutoff = .1\n",
    "\n",
    "endometrial_freq_mut = al.get_frequently_mutated(en_object, cutoff = desired_cutoff)\n",
    "print('\\n\\nNumber of Frequently Mutated Genes:', len(endometrial_freq_mut), '\\n', endometrial_freq_mut.head())"
   ]
  },
  {
   "cell_type": "markdown",
   "metadata": {},
   "source": [
    "## Step 3: Select ARID1A, a frequently mutated gene"
   ]
  },
  {
   "cell_type": "code",
   "execution_count": 3,
   "metadata": {},
   "outputs": [],
   "source": [
    "gene = 'ARID1A'"
   ]
  },
  {
   "cell_type": "markdown",
   "metadata": {},
   "source": [
    "## Step 4: Select proteomics"
   ]
  },
  {
   "cell_type": "code",
   "execution_count": 4,
   "metadata": {},
   "outputs": [],
   "source": [
    "omics = en_object.get_proteomics()"
   ]
  },
  {
   "cell_type": "markdown",
   "metadata": {},
   "source": [
    "## Step 5: cis comparison "
   ]
  },
  {
   "cell_type": "markdown",
   "metadata": {},
   "source": [
    "Determine if the DNA mutation has an effect on the omics measurement. In order to do this, we have a few steps in code. These steps are found in the format_cis_comparison_data function.\n",
    "1. get a table with both the omics and mutation data for tumors\n",
    "2. get a binary column from the mutation data to separate our samples\n",
    "3. format data frame to be used in the T-test\n",
    "4. send data to the T-test.\n",
    "\n",
    "The format_cis_comparison_data does the first 3 steps."
   ]
  },
  {
   "cell_type": "code",
   "execution_count": 5,
   "metadata": {},
   "outputs": [
    {
     "data": {
      "text/html": [
       "<div>\n",
       "<style scoped>\n",
       "    .dataframe tbody tr th:only-of-type {\n",
       "        vertical-align: middle;\n",
       "    }\n",
       "\n",
       "    .dataframe tbody tr th {\n",
       "        vertical-align: top;\n",
       "    }\n",
       "\n",
       "    .dataframe thead th {\n",
       "        text-align: right;\n",
       "    }\n",
       "</style>\n",
       "<table border=\"1\" class=\"dataframe\">\n",
       "  <thead>\n",
       "    <tr style=\"text-align: right;\">\n",
       "      <th></th>\n",
       "      <th>ARID1A_proteomics</th>\n",
       "      <th>binary_mutations</th>\n",
       "    </tr>\n",
       "    <tr>\n",
       "      <th>Sample_ID</th>\n",
       "      <th></th>\n",
       "      <th></th>\n",
       "    </tr>\n",
       "  </thead>\n",
       "  <tbody>\n",
       "    <tr>\n",
       "      <th>S001</th>\n",
       "      <td>-0.8790</td>\n",
       "      <td>Mutated</td>\n",
       "    </tr>\n",
       "    <tr>\n",
       "      <th>S002</th>\n",
       "      <td>-1.4100</td>\n",
       "      <td>Mutated</td>\n",
       "    </tr>\n",
       "    <tr>\n",
       "      <th>S003</th>\n",
       "      <td>-1.0400</td>\n",
       "      <td>Wildtype</td>\n",
       "    </tr>\n",
       "    <tr>\n",
       "      <th>S005</th>\n",
       "      <td>0.3850</td>\n",
       "      <td>Wildtype</td>\n",
       "    </tr>\n",
       "    <tr>\n",
       "      <th>S006</th>\n",
       "      <td>0.0106</td>\n",
       "      <td>Wildtype</td>\n",
       "    </tr>\n",
       "  </tbody>\n",
       "</table>\n",
       "</div>"
      ],
      "text/plain": [
       "           ARID1A_proteomics binary_mutations\n",
       "Sample_ID                                    \n",
       "S001                 -0.8790          Mutated\n",
       "S002                 -1.4100          Mutated\n",
       "S003                 -1.0400         Wildtype\n",
       "S005                  0.3850         Wildtype\n",
       "S006                  0.0106         Wildtype"
      ]
     },
     "execution_count": 5,
     "metadata": {},
     "output_type": "execute_result"
    }
   ],
   "source": [
    "en_status = f.format_cis_comparison_data(en_object, omics, 'proteomics', gene)\n",
    "\n",
    "en_status.head()"
   ]
  },
  {
   "cell_type": "code",
   "execution_count": 9,
   "metadata": {},
   "outputs": [
    {
     "name": "stdout",
     "output_type": "stream",
     "text": [
      "Doing t-test comparison for mutation status\n",
      "\n"
     ]
    },
    {
     "ename": "NameError",
     "evalue": "name 'en_status' is not defined",
     "output_type": "error",
     "traceback": [
      "\u001b[1;31m---------------------------------------------------------------------------\u001b[0m",
      "\u001b[1;31mNameError\u001b[0m                                 Traceback (most recent call last)",
      "\u001b[1;32m<ipython-input-9-af2684c5db93>\u001b[0m in \u001b[0;36m<module>\u001b[1;34m\u001b[0m\n\u001b[0;32m      4\u001b[0m \u001b[1;31m# Step 4 - T-test comparing means of mutated vs wildtype effect on cis omics\u001b[0m\u001b[1;33m\u001b[0m\u001b[1;33m\u001b[0m\u001b[1;33m\u001b[0m\u001b[0m\n\u001b[0;32m      5\u001b[0m \u001b[0mprint\u001b[0m\u001b[1;33m(\u001b[0m\u001b[1;34m\"Doing t-test comparison for mutation status\\n\"\u001b[0m\u001b[1;33m)\u001b[0m\u001b[1;33m\u001b[0m\u001b[1;33m\u001b[0m\u001b[0m\n\u001b[1;32m----> 6\u001b[1;33m \u001b[0msignificant_pval_results\u001b[0m \u001b[1;33m=\u001b[0m \u001b[0mal\u001b[0m\u001b[1;33m.\u001b[0m\u001b[0mwrap_ttest\u001b[0m\u001b[1;33m(\u001b[0m\u001b[0men_status\u001b[0m\u001b[1;33m,\u001b[0m \u001b[1;34m'binary_mutations'\u001b[0m\u001b[1;33m,\u001b[0m \u001b[0momics_col_list\u001b[0m\u001b[1;33m)\u001b[0m\u001b[1;33m\u001b[0m\u001b[1;33m\u001b[0m\u001b[0m\n\u001b[0m\u001b[0;32m      7\u001b[0m \u001b[0mprint\u001b[0m\u001b[1;33m(\u001b[0m\u001b[0msignificant_pval_results\u001b[0m\u001b[1;33m)\u001b[0m\u001b[1;33m\u001b[0m\u001b[1;33m\u001b[0m\u001b[0m\n\u001b[0;32m      8\u001b[0m \u001b[1;33m\u001b[0m\u001b[0m\n",
      "\u001b[1;31mNameError\u001b[0m: name 'en_status' is not defined"
     ]
    }
   ],
   "source": [
    "omics_col_list = ['ARID1A_proteomics']\n",
    "prot_col = gene+'_proteomics'\n",
    "\n",
    "# Step 4 - T-test comparing means of mutated vs wildtype effect on cis omics\n",
    "print(\"Doing t-test comparison for mutation status\\n\")\n",
    "significant_pval_results = al.wrap_ttest(en_status, 'binary_mutations', omics_col_list)\n",
    "print(significant_pval_results)\n",
    "\n",
    "# Step 5 - Create boxplt to compare wildtype and mutated effect on omics data\n",
    "en_cis_boxplot = sns.boxplot(data = en_status, x = 'binary_mutations',\n",
    "                          y = prot_col, order = [\"Wildtype\",\"Mutated\"], showfliers = False)  \n",
    "en_cis_boxplot.set_title(gene + \" Effect on cis Proteomics in Endometrial Tumors\")\n",
    "en_cis_boxplot = sns.stripplot(data= en_status, x = 'binary_mutations',\n",
    "                            y = prot_col,jitter = True, color = \".3\", order = [\"Wildtype\",\"Mutated\"])\n",
    "en_cis_boxplot.set(xlabel = gene + \" Mutation Status in Tumors\", ylabel = \"Proteomics\")\n",
    "plt.show()"
   ]
  },
  {
   "cell_type": "code",
   "execution_count": 7,
   "metadata": {},
   "outputs": [
    {
     "name": "stdout",
     "output_type": "stream",
     "text": [
      "Doing t-test comparison for mutation type\n",
      "\n",
      "No significant comparisons.\n",
      "None\n"
     ]
    },
    {
     "data": {
      "image/png": "[encoded data removed]",
      "text/plain": [
       "<Figure size 432x288 with 1 Axes>"
      ]
     },
     "metadata": {
      "needs_background": "light"
     },
     "output_type": "display_data"
    }
   ],
   "source": [
    "en_type = f.get_missence_truncation_comparison(en_object, omics, 'proteomics', gene)\n",
    "#print(mutation_type_comparison.head())\n",
    "\n",
    "# T-test comparing means of mutated vs wildtype effect on cis omics\n",
    "print(\"Doing t-test comparison for mutation type\\n\")\n",
    "significant_pval_results = al.wrap_ttest(en_type, 'binary_mutations', omics_col_list)\n",
    "print(significant_pval_results)\n",
    "\n",
    "# Step 5 - Create boxplt to compare mutation type effect on omics data\n",
    "en_cis_boxplot = sns.boxplot(data = en_type, x = 'binary_mutations',\n",
    "                          y = prot_col, order = [\"Missence\",\"Truncation\"], showfliers = False)  \n",
    "en_cis_boxplot.set_title(gene + \" Mutation Type Effect on cis Proteomics in Endometrial Tumors\")\n",
    "en_cis_boxplot = sns.stripplot(data= en_type, x = 'binary_mutations',\n",
    "                            y = prot_col,jitter = True, color = \".3\", order = [\"Missence\",\"Truncation\"])\n",
    "en_cis_boxplot.set(xlabel = gene + \" Mutation Type\", ylabel = 'Proteomics')\n",
    "plt.show()"
   ]
  },
  {
   "cell_type": "markdown",
   "metadata": {},
   "source": [
    "# Repeat with the Colon dataset"
   ]
  },
  {
   "cell_type": "markdown",
   "metadata": {},
   "source": [
    "Go through the same process, this time using the Colon dataset. We will only print five genes from the frequently mutated data frame for simplicity."
   ]
  },
  {
   "cell_type": "code",
   "execution_count": 8,
   "metadata": {},
   "outputs": [
    {
     "name": "stdout",
     "output_type": "stream",
     "text": [
      "                                    \n",
      "\n",
      "Number of Frequently Mutated Genes: 612 \n",
      "         Unique_Samples_Mut  Missence_Mut  Truncation_Mut\n",
      "Gene                                                    \n",
      "ABCA13            0.195876      0.164948        0.103093\n",
      "ABCA2             0.175258      0.164948        0.030928\n",
      "ABCA4             0.144330      0.082474        0.061856\n",
      "ABCB4             0.134021      0.061856        0.072165\n",
      "ABCB6             0.103093      0.061856        0.041237\n"
     ]
    }
   ],
   "source": [
    "colon_object = cptac.Colon()\n",
    "desired_cutoff = .1\n",
    "\n",
    "colon_freq_mut = al.get_frequently_mutated(colon_object, cutoff = desired_cutoff)\n",
    "print('\\n\\nNumber of Frequently Mutated Genes:', len(colon_freq_mut), '\\n', colon_freq_mut.head())"
   ]
  },
  {
   "cell_type": "code",
   "execution_count": 9,
   "metadata": {},
   "outputs": [],
   "source": [
    "gene = 'ARID1A'\n",
    "\n",
    "co_omics = colon_object.get_proteomics()"
   ]
  },
  {
   "cell_type": "code",
   "execution_count": 10,
   "metadata": {},
   "outputs": [
    {
     "name": "stdout",
     "output_type": "stream",
     "text": [
      "Doing t-test comparison for mutation type\n",
      "\n",
      "          Comparison   P_Value\n",
      "0  ARID1A_proteomics  0.001305\n"
     ]
    },
    {
     "data": {
      "image/png": "[encoded data removed]",
      "text/plain": [
       "<Figure size 432x288 with 1 Axes>"
      ]
     },
     "metadata": {
      "needs_background": "light"
     },
     "output_type": "display_data"
    }
   ],
   "source": [
    "co_status = f.format_cis_comparison_data(colon_object, co_omics, 'proteomics', gene)\n",
    "#co_data_for_comparison.head()\n",
    "\n",
    "print(\"Doing t-test comparison for mutation type\\n\")\n",
    "significant_pval_results = al.wrap_ttest(co_status, 'binary_mutations', omics_col_list)\n",
    "print(significant_pval_results)\n",
    "\n",
    "cis_boxplot = sns.boxplot(data = co_status, x = 'binary_mutations',\n",
    "                          y = prot_col, order = [\"Wildtype\",\"Mutated\"], showfliers = False)  \n",
    "cis_boxplot.set_title(gene + \" Effect on cis Proteomics in Colon Tumors\")\n",
    "cis_boxplot = sns.stripplot(data = co_status, x = 'binary_mutations',\n",
    "                            y = prot_col, jitter = True, color = \".3\", \n",
    "                            order = [\"Wildtype\",\"Mutated\"])\n",
    "cis_boxplot.set(xlabel = gene + \" Mutation Status in Tumors\", ylabel = \"Proteomics\")\n",
    "plt.show()"
   ]
  },
  {
   "cell_type": "code",
   "execution_count": 11,
   "metadata": {},
   "outputs": [
    {
     "name": "stdout",
     "output_type": "stream",
     "text": [
      "Doing t-test comparison for mutation type\n",
      "\n",
      "No significant comparisons.\n",
      "None\n"
     ]
    },
    {
     "data": {
      "image/png": "[encoded data removed]",
      "text/plain": [
       "<Figure size 432x288 with 1 Axes>"
      ]
     },
     "metadata": {
      "needs_background": "light"
     },
     "output_type": "display_data"
    }
   ],
   "source": [
    "co_type = f.get_missence_truncation_comparison(colon_object, co_omics, 'proteomics', gene)\n",
    "\n",
    "print(\"Doing t-test comparison for mutation type\\n\")\n",
    "significant_pval_results = al.wrap_ttest(co_type, 'binary_mutations', omics_col_list)\n",
    "print(significant_pval_results)\n",
    "\n",
    "\n",
    "co_cis_boxplot = sns.boxplot(data = co_type, x = 'binary_mutations',\n",
    "                          y = prot_col, order = [\"Missence\",\"Truncation\"], showfliers = False)  \n",
    "co_cis_boxplot.set_title(gene + \" Mutation Type Effect on cis Proteomics in Colon Tumors\")\n",
    "co_cis_boxplot = sns.stripplot(data= co_type, x = 'binary_mutations',\n",
    "                            y = prot_col,jitter = True, color = \".3\", order = [\"Missence\",\"Truncation\"])\n",
    "co_cis_boxplot.set(xlabel = gene + \" Mutation Type\", ylabel = 'Proteomics')\n",
    "plt.show()"
   ]
  },
  {
   "cell_type": "markdown",
   "metadata": {},
   "source": [
    "# Repeat with the Ovarian dataset\n"
   ]
  },
  {
   "cell_type": "code",
   "execution_count": 4,
   "metadata": {},
   "outputs": [
    {
     "name": "stdout",
     "output_type": "stream",
     "text": [
      "                                    \r"
     ]
    }
   ],
   "source": [
    "ovarian_object = cptac.Ovarian()\n",
    "desired_cutoff = .1\n",
    "\n",
    "ovarian_freq_mut = al.get_frequently_mutated(ovarian_object, cutoff = desired_cutoff)"
   ]
  },
  {
   "cell_type": "code",
   "execution_count": 7,
   "metadata": {},
   "outputs": [],
   "source": [
    "ov_omics = ovarian_object.get_proteomics()\n",
    "gene = 'ARID1A'"
   ]
  },
  {
   "cell_type": "code",
   "execution_count": 10,
   "metadata": {},
   "outputs": [
    {
     "name": "stdout",
     "output_type": "stream",
     "text": [
      "Doing t-test comparison for mutation status\n",
      "\n",
      "No significant comparisons.\n",
      "None\n"
     ]
    },
    {
     "data": {
      "image/png": "[encoded data removed]",
      "text/plain": [
       "<Figure size 432x288 with 1 Axes>"
      ]
     },
     "metadata": {
      "needs_background": "light"
     },
     "output_type": "display_data"
    }
   ],
   "source": [
    "ov_status = f.format_cis_comparison_data(ovarian_object, ov_omics, 'proteomics', gene)\n",
    "\n",
    "print(\"Doing t-test comparison for mutation status\\n\")\n",
    "significant_pval_results = al.wrap_ttest(ov_status, 'binary_mutations', omics_col_list)\n",
    "print(significant_pval_results)\n",
    "\n",
    "ov_cis_boxplot = sns.boxplot(data = ov_status, x = 'binary_mutations',\n",
    "                          y = prot_col, order = [\"Wildtype\",\"Mutated\"], showfliers = False)  \n",
    "ov_cis_boxplot.set_title(gene + \" Effect on cis Proteomics in Ovarian Tumors\")\n",
    "ov_cis_boxplot = sns.stripplot(data = ov_status, x = 'binary_mutations',y = prot_col, jitter = True, \n",
    "                        color = \".3\", order = [\"Wildtype\",\"Mutated\"])\n",
    "ov_cis_boxplot.set(xlabel = gene + \" Mutation Status in Tumors\", ylabel = \"Proteomics\")\n",
    "plt.show()\n"
   ]
  },
  {
   "cell_type": "code",
   "execution_count": 11,
   "metadata": {},
   "outputs": [
    {
     "name": "stdout",
     "output_type": "stream",
     "text": [
      "Doing t-test comparison for mutation type\n",
      "\n",
      "No significant comparisons.\n",
      "None\n"
     ]
    },
    {
     "data": {
      "text/plain": [
       "[Text(0, 0.5, 'Proteomics'), Text(0.5, 0, 'ARID1A Mutation Type')]"
      ]
     },
     "execution_count": 11,
     "metadata": {},
     "output_type": "execute_result"
    },
    {
     "data": {
      "image/png": "[encoded data removed]",
      "text/plain": [
       "<Figure size 432x288 with 1 Axes>"
      ]
     },
     "metadata": {
      "needs_background": "light"
     },
     "output_type": "display_data"
    }
   ],
   "source": [
    "ov_type = f.get_missence_truncation_comparison(ovarian_object, ov_omics, 'proteomics', gene)\n",
    "\n",
    "print(\"Doing t-test comparison for mutation type\\n\")\n",
    "significant_pval_results = al.wrap_ttest(ov_type, 'binary_mutations', omics_col_list)\n",
    "print(significant_pval_results)\n",
    "\n",
    "ov_cis_boxplot = sns.boxplot(data = ov_type, x = 'binary_mutations',\n",
    "                          y = prot_col, order = [\"Missence\",\"Truncation\"], showfliers = False)  \n",
    "ov_cis_boxplot.set_title(gene + \" Mutation Type Effect on cis Proteomics in Ovarian Tumors\")\n",
    "ov_cis_boxplot = sns.stripplot(data= ov_type, x = 'binary_mutations',\n",
    "                            y = prot_col,jitter = True, color = \".3\", order = [\"Missence\",\"Truncation\"])\n",
    "ov_cis_boxplot.set(xlabel = gene + \" Mutation Type\", ylabel = 'Proteomics')"
   ]
  },
  {
   "cell_type": "markdown",
   "metadata": {},
   "source": [
    "# Visualize Pancancer effects"
   ]
  },
  {
   "cell_type": "code",
   "execution_count": null,
   "metadata": {},
   "outputs": [],
   "source": [
    "# Create a dataframe with pancancer data for mutation status and type\n",
    "en_mut_status = en_status.assign(Cancer= 'Endo')\n",
    "co_mut_status = co_status.assign(Cancer= 'Colon')\n",
    "ov_mut_status = ov_status.assign(Cancer= 'Ovarian')\n",
    "en_mut_type = en_type.assign(Cancer= 'Endo')\n",
    "co_mut_type = co_type.assign(Cancer= 'Colon')\n",
    "ov_mut_type = ov_type.assign(Cancer= 'Ovarian')\n",
    "\n",
    "pancancer_data = pd.concat([en_mut_status, co_mut_status, ov_mut_status, en_mut_type, co_mut_type, ov_mut_type]) \n",
    "pancancer_df = pd.melt(pancancer_data, id_vars=['Cancer','binary_mutations'], value_name= 'Proteomics')  \n",
    "\n",
    "# Visualize mutation status (mutated vs wildtype) accross cancers\n",
    "plt.rcParams['figure.figsize']=(14,8) #size of plot\n",
    "cis_status = sns.boxplot(x='Cancer', y=\"Proteomics\", hue = 'binary_mutations', \n",
    "                         hue_order = ['Wildtype', 'Mutated'], data=pancancer_df, showfliers = False)    \n",
    "cis_status.set_title('Pancancer ' + gene + \" Mutation Status Effect on Proteomics Abundance\")\n",
    "cis_status = sns.stripplot(x='Cancer', y=\"Proteomics\", hue = 'binary_mutations', data=pancancer_df,\n",
    "                            jitter = True, color = \".3\", hue_order = ['Wildtype', 'Mutated'], dodge = True)\n",
    "cis_status.set(xlabel = gene + \" Mutation Status\", ylabel = 'Proteomics')\n",
    "\n",
    "plt.show()\n",
    "\n",
    "plt.clf()\n",
    "plt.close()\n",
    "\n",
    "# Visualize mutation status (missense vs truncation) accross cancers\n",
    "plt.rcParams['figure.figsize']=(14,8) #size of plot\n",
    "cis_status = sns.boxplot(x='Cancer', y=\"Proteomics\", hue = 'binary_mutations', \n",
    "                         hue_order = ['Wildtype', 'Missence', 'Truncation'], data = pancancer_df, showfliers = False)    \n",
    "cis_status.set_title('Pancancer ' + gene + \" Mutation Type Effect on Proteomics Abundance\")\n",
    "cis_status = sns.stripplot(x='Cancer', y=\"Proteomics\", hue = 'binary_mutations', data = pancancer_df, jitter = True, \n",
    "                           color = \".3\", hue_order = ['Wildtype', 'Missence', 'Truncation'], dodge = True)\n",
    "cis_status.set(xlabel = gene + \" Mutation Type\", ylabel = 'Proteomics')\n",
    "\n",
    "plt.show()\n",
    "\n",
    "plt.clf()\n",
    "plt.close()"
   ]
  },
  {
   "cell_type": "markdown",
   "metadata": {},
   "source": [
    "# Analysis of Results"
   ]
  },
  {
   "cell_type": "markdown",
   "metadata": {},
   "source": [
    "Endometrial and colon tumors showed decreased proteomics abundance for the tumors with the mutated gene compared to the wildtype, with endometrial tumors showing the most difference.\n",
    "All other results were insignificant. Since the ovarian dataset only contains four mutated data points, it is possible that more data collection may show that ovarian cancer follows the same trend."
   ]
  },
  {
   "cell_type": "code",
   "execution_count": null,
   "metadata": {},
   "outputs": [],
   "source": []
  }
 ],
 "metadata": {
  "kernelspec": {
   "display_name": "Python 3",
   "language": "python",
   "name": "python3"
  },
  "language_info": {
   "codemirror_mode": {
    "name": "ipython",
    "version": 3
   },
   "file_extension": ".py",
   "mimetype": "text/x-python",
   "name": "python",
   "nbconvert_exporter": "python",
   "pygments_lexer": "ipython3",
   "version": "3.7.3"
  }
 },
 "nbformat": 4,
 "nbformat_minor": 2
}
