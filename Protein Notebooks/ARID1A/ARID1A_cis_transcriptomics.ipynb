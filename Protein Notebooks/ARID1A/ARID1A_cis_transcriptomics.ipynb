{
 "cells": [
  {
   "cell_type": "markdown",
   "metadata": {},
   "source": [
    "# ARID1A proteomics cis comparison"
   ]
  },
  {
   "cell_type": "markdown",
   "metadata": {},
   "source": [
    "## Step 1: Library Imports"
   ]
  },
  {
   "cell_type": "markdown",
   "metadata": {},
   "source": [
    "Run this cell to import the necessary libraries"
   ]
  },
  {
   "cell_type": "code",
   "execution_count": 1,
   "metadata": {},
   "outputs": [],
   "source": [
    "import pandas as pd\n",
    "import numpy as np\n",
    "import seaborn as sns\n",
    "import matplotlib.pyplot as plt\n",
    "import scipy.stats\n",
    "import sys \n",
    "sys.path.append('C:\\\\Users\\\\brittany henderson\\\\GitHub\\\\WhenMutationsMatter\\\\Brittany\\\\')\n",
    "import functions as f\n",
    "\n",
    "import cptac\n",
    "import cptac.algorithms as al"
   ]
  },
  {
   "cell_type": "markdown",
   "metadata": {},
   "source": [
    "## Step 2: Find the frequently mutated genes for Endometrial Cancer"
   ]
  },
  {
   "cell_type": "markdown",
   "metadata": {},
   "source": [
    "Enter the type of cancer and the cutoff for mutation frequency that you would like to use."
   ]
  },
  {
   "cell_type": "code",
   "execution_count": 2,
   "metadata": {},
   "outputs": [
    {
     "name": "stdout",
     "output_type": "stream",
     "text": [
      "                                    \n",
      "\n",
      "Number of Frequently Mutated Genes: 232 \n",
      "         Unique_Samples_Mut  Missence_Mut  Truncation_Mut\n",
      "Gene                                                    \n",
      "ABCA12            0.147368      0.094737        0.073684\n",
      "ABCA13            0.115789      0.105263        0.042105\n",
      "ACVR2A            0.105263      0.010526        0.094737\n",
      "ADGRG4            0.136842      0.126316        0.021053\n",
      "ADGRV1            0.115789      0.094737        0.052632\n"
     ]
    }
   ],
   "source": [
    "en_object = cptac.Endometrial()\n",
    "desired_cutoff = .1\n",
    "\n",
    "endometrial_freq_mut = al.get_frequently_mutated(en_object, cutoff=desired_cutoff)\n",
    "print('\\n\\nNumber of Frequently Mutated Genes:', len(endometrial_freq_mut), '\\n', endometrial_freq_mut.head())"
   ]
  },
  {
   "cell_type": "markdown",
   "metadata": {},
   "source": [
    "## Step 3: Select a gene from the list of frequently mutated genes above"
   ]
  },
  {
   "cell_type": "markdown",
   "metadata": {},
   "source": [
    "Set the gene to which of the above frequently mutated genes you want to examine. For example, if you want to look at the gene PTEN, change the cell below to say \"gene = 'KRAS'\""
   ]
  },
  {
   "cell_type": "code",
   "execution_count": 3,
   "metadata": {},
   "outputs": [],
   "source": [
    "gene = 'ARID1A'"
   ]
  },
  {
   "cell_type": "markdown",
   "metadata": {},
   "source": [
    "## Step 4: Select desired omics comparison"
   ]
  },
  {
   "cell_type": "markdown",
   "metadata": {},
   "source": [
    "Select which type of omics you want to compare. If you want to compare proteomics data for the interacting proteins, uncomment the \"omics = en.get_proteomics()\" line, etc."
   ]
  },
  {
   "cell_type": "code",
   "execution_count": 4,
   "metadata": {},
   "outputs": [
    {
     "data": {
      "text/html": [
       "<div>\n",
       "<style scoped>\n",
       "    .dataframe tbody tr th:only-of-type {\n",
       "        vertical-align: middle;\n",
       "    }\n",
       "\n",
       "    .dataframe tbody tr th {\n",
       "        vertical-align: top;\n",
       "    }\n",
       "\n",
       "    .dataframe thead th {\n",
       "        text-align: right;\n",
       "    }\n",
       "</style>\n",
       "<table border=\"1\" class=\"dataframe\">\n",
       "  <thead>\n",
       "    <tr style=\"text-align: right;\">\n",
       "      <th></th>\n",
       "      <th>ARID1A_transcriptomics</th>\n",
       "      <th>ARID1A_Mutation</th>\n",
       "      <th>ARID1A_Location</th>\n",
       "      <th>ARID1A_Mutation_Status</th>\n",
       "      <th>Sample_Status</th>\n",
       "    </tr>\n",
       "    <tr>\n",
       "      <th>Sample_ID</th>\n",
       "      <th></th>\n",
       "      <th></th>\n",
       "      <th></th>\n",
       "      <th></th>\n",
       "      <th></th>\n",
       "    </tr>\n",
       "  </thead>\n",
       "  <tbody>\n",
       "    <tr>\n",
       "      <th>S001</th>\n",
       "      <td>11.33</td>\n",
       "      <td>[Missense_Mutation]</td>\n",
       "      <td>[p.T2121P]</td>\n",
       "      <td>Single_mutation</td>\n",
       "      <td>Tumor</td>\n",
       "    </tr>\n",
       "    <tr>\n",
       "      <th>S002</th>\n",
       "      <td>11.88</td>\n",
       "      <td>[Nonsense_Mutation, Frame_Shift_Del]</td>\n",
       "      <td>[p.Q403*, p.D1850Tfs*33]</td>\n",
       "      <td>Multiple_mutation</td>\n",
       "      <td>Tumor</td>\n",
       "    </tr>\n",
       "    <tr>\n",
       "      <th>S003</th>\n",
       "      <td>10.04</td>\n",
       "      <td>[Wildtype_Tumor]</td>\n",
       "      <td>[No_mutation]</td>\n",
       "      <td>Wildtype_Tumor</td>\n",
       "      <td>Tumor</td>\n",
       "    </tr>\n",
       "    <tr>\n",
       "      <th>S005</th>\n",
       "      <td>11.51</td>\n",
       "      <td>[Wildtype_Tumor]</td>\n",
       "      <td>[No_mutation]</td>\n",
       "      <td>Wildtype_Tumor</td>\n",
       "      <td>Tumor</td>\n",
       "    </tr>\n",
       "    <tr>\n",
       "      <th>S006</th>\n",
       "      <td>11.41</td>\n",
       "      <td>[Wildtype_Tumor]</td>\n",
       "      <td>[No_mutation]</td>\n",
       "      <td>Wildtype_Tumor</td>\n",
       "      <td>Tumor</td>\n",
       "    </tr>\n",
       "  </tbody>\n",
       "</table>\n",
       "</div>"
      ],
      "text/plain": [
       "           ARID1A_transcriptomics                       ARID1A_Mutation  \\\n",
       "Sample_ID                                                                 \n",
       "S001                        11.33                   [Missense_Mutation]   \n",
       "S002                        11.88  [Nonsense_Mutation, Frame_Shift_Del]   \n",
       "S003                        10.04                      [Wildtype_Tumor]   \n",
       "S005                        11.51                      [Wildtype_Tumor]   \n",
       "S006                        11.41                      [Wildtype_Tumor]   \n",
       "\n",
       "                    ARID1A_Location ARID1A_Mutation_Status Sample_Status  \n",
       "Sample_ID                                                                 \n",
       "S001                     [p.T2121P]        Single_mutation         Tumor  \n",
       "S002       [p.Q403*, p.D1850Tfs*33]      Multiple_mutation         Tumor  \n",
       "S003                  [No_mutation]         Wildtype_Tumor         Tumor  \n",
       "S005                  [No_mutation]         Wildtype_Tumor         Tumor  \n",
       "S006                  [No_mutation]         Wildtype_Tumor         Tumor  "
      ]
     },
     "execution_count": 4,
     "metadata": {},
     "output_type": "execute_result"
    }
   ],
   "source": [
    "#omics = en_object.get_proteomics()\n",
    "omics = en_object.get_transcriptomics()\n",
    "#omics = en_object.get_phosphoproteomics()\n",
    "#omics = en_object.get_acetylproteomics()\n",
    "omics.head()\n",
    "omics_and_mutations = en_object.join_omics_to_mutations(\n",
    "        mutations_genes = gene, omics_df_name = 'transcriptomics', omics_genes = 'ARID1A')\n",
    "omics_and_mutations.head()"
   ]
  },
  {
   "cell_type": "markdown",
   "metadata": {},
   "source": [
    "## Step 5: cis comparison "
   ]
  },
  {
   "cell_type": "markdown",
   "metadata": {},
   "source": [
    "Determine if the DNA mutation has an effect on the omics measurement. In order to do this, we have a few steps in code. These steps are found in the format_cis_comparison_data function.\n",
    "1. get a table with both the omics and mutation data for tumors\n",
    "2. get a binary column from the mutation data to separate our samples\n",
    "3. format data frame to be used in the T-test\n",
    "4. send data to the T-test.\n",
    "\n",
    "The format_cis_comparison_data does the first 3 steps."
   ]
  },
  {
   "cell_type": "code",
   "execution_count": 5,
   "metadata": {},
   "outputs": [
    {
     "data": {
      "text/html": [
       "<div>\n",
       "<style scoped>\n",
       "    .dataframe tbody tr th:only-of-type {\n",
       "        vertical-align: middle;\n",
       "    }\n",
       "\n",
       "    .dataframe tbody tr th {\n",
       "        vertical-align: top;\n",
       "    }\n",
       "\n",
       "    .dataframe thead th {\n",
       "        text-align: right;\n",
       "    }\n",
       "</style>\n",
       "<table border=\"1\" class=\"dataframe\">\n",
       "  <thead>\n",
       "    <tr style=\"text-align: right;\">\n",
       "      <th></th>\n",
       "      <th>ARID1A_transcriptomics</th>\n",
       "      <th>binary_mutations</th>\n",
       "    </tr>\n",
       "    <tr>\n",
       "      <th>Sample_ID</th>\n",
       "      <th></th>\n",
       "      <th></th>\n",
       "    </tr>\n",
       "  </thead>\n",
       "  <tbody>\n",
       "    <tr>\n",
       "      <th>S001</th>\n",
       "      <td>11.33</td>\n",
       "      <td>Mutated</td>\n",
       "    </tr>\n",
       "    <tr>\n",
       "      <th>S002</th>\n",
       "      <td>11.88</td>\n",
       "      <td>Mutated</td>\n",
       "    </tr>\n",
       "    <tr>\n",
       "      <th>S003</th>\n",
       "      <td>10.04</td>\n",
       "      <td>Wildtype</td>\n",
       "    </tr>\n",
       "    <tr>\n",
       "      <th>S005</th>\n",
       "      <td>11.51</td>\n",
       "      <td>Wildtype</td>\n",
       "    </tr>\n",
       "    <tr>\n",
       "      <th>S006</th>\n",
       "      <td>11.41</td>\n",
       "      <td>Wildtype</td>\n",
       "    </tr>\n",
       "  </tbody>\n",
       "</table>\n",
       "</div>"
      ],
      "text/plain": [
       "           ARID1A_transcriptomics binary_mutations\n",
       "Sample_ID                                         \n",
       "S001                        11.33          Mutated\n",
       "S002                        11.88          Mutated\n",
       "S003                        10.04         Wildtype\n",
       "S005                        11.51         Wildtype\n",
       "S006                        11.41         Wildtype"
      ]
     },
     "execution_count": 5,
     "metadata": {},
     "output_type": "execute_result"
    }
   ],
   "source": [
    "cis_compare_df = f.format_cis_comparison_data(en_object, omics, 'transcriptomics', gene)\n",
    "\n",
    "cis_compare_df.head()"
   ]
  },
  {
   "cell_type": "code",
   "execution_count": 6,
   "metadata": {},
   "outputs": [
    {
     "name": "stdout",
     "output_type": "stream",
     "text": [
      "Doing t-test comparison\n",
      "\n",
      "No significant comparisons.\n",
      "None\n"
     ]
    }
   ],
   "source": [
    "omics_col_list = ['ARID1A_transcriptomics']\n",
    "\n",
    "# Step 4 - T-test comparing means of mutated vs wildtype effect on cis omics\n",
    "print(\"Doing t-test comparison\\n\")\n",
    "significant_pval_results = al.wrap_ttest(cis_compare_df, 'binary_mutations', omics_col_list)\n",
    "print(significant_pval_results)"
   ]
  },
  {
   "cell_type": "code",
   "execution_count": 8,
   "metadata": {},
   "outputs": [
    {
     "data": {
      "image/png": "[encoded data removed]",
      "text/plain": [
       "<Figure size 432x288 with 1 Axes>"
      ]
     },
     "metadata": {
      "needs_background": "light"
     },
     "output_type": "display_data"
    }
   ],
   "source": [
    "# Step 5 - Create boxplt to compare wildtype and mutated effect on omics data\n",
    "en_cis_boxplot = sns.boxplot(data = cis_compare_df, x = 'binary_mutations',\n",
    "                          y = 'ARID1A_transcriptomics', order = [\"Wildtype\",\"Mutated\"], showfliers = False)  \n",
    "en_cis_boxplot.set_title(gene + \" effect on transcriptomic abundance in endometrial tumors\")\n",
    "en_cis_boxplot = sns.stripplot(data= cis_compare_df, x = 'binary_mutations',\n",
    "                            y = 'ARID1A_transcriptomics',jitter = True, color = \".3\", order = [\"Wildtype\",\"Mutated\"])\n",
    "en_cis_boxplot.set(xlabel = gene + \" Mutation Status in Tumors\", ylabel = \"Transcriptomics\")\n",
    "plt.show()"
   ]
  },
  {
   "cell_type": "code",
   "execution_count": 9,
   "metadata": {},
   "outputs": [
    {
     "name": "stdout",
     "output_type": "stream",
     "text": [
      "Doing t-test comparison\n",
      "\n",
      "No significant comparisons.\n",
      "None\n"
     ]
    }
   ],
   "source": [
    "mutation_type_comparison = f.get_missence_truncation_comparison(en_object, omics, 'transcriptomics', gene)\n",
    "#print(mutation_type_comparison.head())\n",
    "\n",
    "# T-test comparing means of mutated vs wildtype effect on cis omics\n",
    "print(\"Doing t-test comparison\\n\")\n",
    "significant_pval_results = al.wrap_ttest(mutation_type_comparison, 'binary_mutations', omics_col_list)\n",
    "print(significant_pval_results)"
   ]
  },
  {
   "cell_type": "code",
   "execution_count": 10,
   "metadata": {},
   "outputs": [
    {
     "data": {
      "image/png": "[encoded data removed]",
      "text/plain": [
       "<Figure size 432x288 with 1 Axes>"
      ]
     },
     "metadata": {
      "needs_background": "light"
     },
     "output_type": "display_data"
    }
   ],
   "source": [
    "# Step 5 - Create boxplt to compare mutation type effect on omics data\n",
    "en_cis_boxplot = sns.boxplot(data = mutation_type_comparison, x = 'binary_mutations',\n",
    "                          y = 'ARID1A_transcriptomics', order = [\"Missence\",\"Truncation\"], showfliers = False)  \n",
    "en_cis_boxplot.set_title(gene + \" mutation type effect on transcriptomic abundance in endometrial tumors\")\n",
    "en_cis_boxplot = sns.stripplot(data= mutation_type_comparison, x = 'binary_mutations',\n",
    "                            y = 'ARID1A_transcriptomics',jitter = True, color = \".3\", order = [\"Missence\",\"Truncation\"])\n",
    "en_cis_boxplot.set(xlabel = gene + \" Mutation Type\", ylabel = 'Transcriptomics')\n",
    "plt.show()"
   ]
  },
  {
   "cell_type": "markdown",
   "metadata": {},
   "source": [
    "# Repeat with the Colon dataset"
   ]
  },
  {
   "cell_type": "markdown",
   "metadata": {},
   "source": [
    "Go through the same process, this time using the Colon dataset. We will only print five genes from the frequently mutated data frame for simplicity."
   ]
  },
  {
   "cell_type": "code",
   "execution_count": 11,
   "metadata": {},
   "outputs": [
    {
     "name": "stdout",
     "output_type": "stream",
     "text": [
      "                                    \n",
      "\n",
      "Number of Frequently Mutated Genes: 612 \n",
      "         Unique_Samples_Mut  Missence_Mut  Truncation_Mut\n",
      "Gene                                                    \n",
      "ABCA13            0.195876      0.164948        0.103093\n",
      "ABCA2             0.175258      0.164948        0.030928\n",
      "ABCA4             0.144330      0.082474        0.061856\n",
      "ABCB4             0.134021      0.061856        0.072165\n",
      "ABCB6             0.103093      0.061856        0.041237\n"
     ]
    }
   ],
   "source": [
    "colon_object = cptac.Colon()\n",
    "desired_cutoff = .1\n",
    "\n",
    "colon_freq_mut = al.get_frequently_mutated(colon_object, cutoff=desired_cutoff)\n",
    "print('\\n\\nNumber of Frequently Mutated Genes:', len(colon_freq_mut), '\\n', colon_freq_mut.head())"
   ]
  },
  {
   "cell_type": "code",
   "execution_count": 12,
   "metadata": {},
   "outputs": [],
   "source": [
    "gene = 'ARID1A'\n",
    "\n",
    "#co_omics = colon_object.get_proteomics()\n",
    "co_omics = colon_object.get_transcriptomics()\n",
    "#co_omics = colon_object.get_phosphoproteomics()\n",
    "#co_omics = colon_object.get_acetylproteomics()"
   ]
  },
  {
   "cell_type": "code",
   "execution_count": 13,
   "metadata": {},
   "outputs": [
    {
     "name": "stdout",
     "output_type": "stream",
     "text": [
      "Doing t-test comparison\n",
      "\n",
      "No significant comparisons.\n",
      "None\n"
     ]
    }
   ],
   "source": [
    "co_data_for_comparison = f.format_cis_comparison_data(colon_object, co_omics, 'transcriptomics', gene)\n",
    "#co_data_for_comparison.head()\n",
    "\n",
    "print(\"Doing t-test comparison\\n\")\n",
    "significant_pval_results = al.wrap_ttest(co_data_for_comparison, 'binary_mutations', omics_col_list)\n",
    "print(significant_pval_results)"
   ]
  },
  {
   "cell_type": "code",
   "execution_count": 14,
   "metadata": {},
   "outputs": [
    {
     "data": {
      "image/png": "[encoded data removed]",
      "text/plain": [
       "<Figure size 432x288 with 1 Axes>"
      ]
     },
     "metadata": {
      "needs_background": "light"
     },
     "output_type": "display_data"
    }
   ],
   "source": [
    "cis_boxplot = sns.boxplot(data = co_data_for_comparison, x = 'binary_mutations',\n",
    "                          y = 'ARID1A_transcriptomics', order = [\"Wildtype\",\"Mutated\"], showfliers = False)  \n",
    "cis_boxplot.set_title(gene + \" effect on cis transcriptomic abundance in colon tumors\")\n",
    "cis_boxplot = sns.stripplot(data = co_data_for_comparison, x = 'binary_mutations',\n",
    "                            y = 'ARID1A_transcriptomics', jitter = True, color = \".3\", \n",
    "                            order = [\"Wildtype\",\"Mutated\"])\n",
    "cis_boxplot.set(xlabel = gene + \" Mutation Status in Tumors\", ylabel = \"transcriptomics\")\n",
    "plt.show()"
   ]
  },
  {
   "cell_type": "code",
   "execution_count": 15,
   "metadata": {},
   "outputs": [
    {
     "name": "stdout",
     "output_type": "stream",
     "text": [
      "Doing t-test comparison\n",
      "\n",
      "No significant comparisons.\n",
      "None\n"
     ]
    }
   ],
   "source": [
    "co_mutation_type_comparison = f.get_missence_truncation_comparison(colon_object, co_omics, 'transcriptomics', gene)\n",
    "\n",
    "print(\"Doing t-test comparison\\n\")\n",
    "significant_pval_results = al.wrap_ttest(co_mutation_type_comparison, 'binary_mutations', omics_col_list)\n",
    "print(significant_pval_results)"
   ]
  },
  {
   "cell_type": "code",
   "execution_count": 16,
   "metadata": {},
   "outputs": [
    {
     "data": {
      "image/png": "[encoded data removed]",
      "text/plain": [
       "<Figure size 432x288 with 1 Axes>"
      ]
     },
     "metadata": {
      "needs_background": "light"
     },
     "output_type": "display_data"
    }
   ],
   "source": [
    "\n",
    "co_cis_boxplot = sns.boxplot(data = co_mutation_type_comparison, x = 'binary_mutations',\n",
    "                          y = 'ARID1A_transcriptomics', order = [\"Missence\",\"Truncation\"], showfliers = False)  \n",
    "co_cis_boxplot.set_title(gene + \" mutation type effect on transcriptomics abundance in colon tumors\")\n",
    "co_cis_boxplot = sns.stripplot(data= co_mutation_type_comparison, x = 'binary_mutations',\n",
    "                            y = 'ARID1A_transcriptomics',jitter = True, color = \".3\", order = [\"Missence\",\"Truncation\"])\n",
    "co_cis_boxplot.set(xlabel = gene + \" Mutation Type\", ylabel = 'transcriptomics')\n",
    "plt.show()"
   ]
  },
  {
   "cell_type": "markdown",
   "metadata": {},
   "source": [
    "# Repeat with the Ovarian dataset\n"
   ]
  },
  {
   "cell_type": "code",
   "execution_count": 17,
   "metadata": {},
   "outputs": [
    {
     "name": "stdout",
     "output_type": "stream",
     "text": [
      "                                    \r"
     ]
    }
   ],
   "source": [
    "ovarian_object = cptac.Ovarian()\n",
    "desired_cutoff = .1\n",
    "\n",
    "ovarian_freq_mut = al.get_frequently_mutated(ovarian_object, cutoff=desired_cutoff)"
   ]
  },
  {
   "cell_type": "code",
   "execution_count": 18,
   "metadata": {},
   "outputs": [],
   "source": [
    "gene = 'ARID1A'\n",
    "\n",
    "#ov_omics = ovarian_object.get_proteomics()\n",
    "ov_omics = ovarian_object.get_transcriptomics()\n",
    "#ov_omics = ovarian_object.get_phosphoproteomics()\n",
    "#ov_omics = ovarian_object.get_acetylproteomics()"
   ]
  },
  {
   "cell_type": "code",
   "execution_count": 19,
   "metadata": {},
   "outputs": [
    {
     "name": "stdout",
     "output_type": "stream",
     "text": [
      "Doing t-test comparison\n",
      "\n",
      "No significant comparisons.\n",
      "None\n"
     ]
    }
   ],
   "source": [
    "ov_data_for_comparison = f.format_cis_comparison_data(ovarian_object, ov_omics, 'transcriptomics', gene)\n",
    "\n",
    "print(\"Doing t-test comparison\\n\")\n",
    "significant_pval_results = al.wrap_ttest(ov_data_for_comparison, 'binary_mutations', omics_col_list)\n",
    "print(significant_pval_results)"
   ]
  },
  {
   "cell_type": "code",
   "execution_count": 20,
   "metadata": {},
   "outputs": [
    {
     "data": {
      "image/png": "[encoded data removed]",
      "text/plain": [
       "<Figure size 432x288 with 1 Axes>"
      ]
     },
     "metadata": {
      "needs_background": "light"
     },
     "output_type": "display_data"
    }
   ],
   "source": [
    "# Step 5 - Visualize comparison\n",
    "ov_cis_boxplot = sns.boxplot(data = ov_data_for_comparison, x = 'binary_mutations',\n",
    "                          y = 'ARID1A_transcriptomics', order = [\"Wildtype\",\"Mutated\"], showfliers = False)  \n",
    "ov_cis_boxplot.set_title(gene + \" effect on transcriptomic abundance in ovarian tumors\")\n",
    "ov_cis_boxplot = sns.stripplot(\n",
    "    data = ov_data_for_comparison, x = 'binary_mutations',y = 'ARID1A_transcriptomics', \n",
    "    jitter = True, color = \".3\", order = [\"Wildtype\",\"Mutated\"])\n",
    "ov_cis_boxplot.set(xlabel = gene + \" Mutation Status in Tumors\", ylabel = \"transcriptomics\")\n",
    "plt.show()"
   ]
  },
  {
   "cell_type": "code",
   "execution_count": 21,
   "metadata": {},
   "outputs": [
    {
     "name": "stdout",
     "output_type": "stream",
     "text": [
      "Doing t-test comparison\n",
      "\n",
      "No significant comparisons.\n",
      "None\n"
     ]
    },
    {
     "data": {
      "image/png": "[encoded data removed]",
      "text/plain": [
       "<Figure size 432x288 with 1 Axes>"
      ]
     },
     "metadata": {
      "needs_background": "light"
     },
     "output_type": "display_data"
    }
   ],
   "source": [
    "ov_mutation_type_comparison = f.get_missence_truncation_comparison(ovarian_object, ov_omics, 'transcriptomics', gene)\n",
    "\n",
    "print(\"Doing t-test comparison\\n\")\n",
    "significant_pval_results = al.wrap_ttest(ov_mutation_type_comparison, 'binary_mutations', omics_col_list)\n",
    "print(significant_pval_results)\n",
    "\n",
    "# Step 5 - Create boxplt to compare mutation type effect on omics data\n",
    "en_cis_boxplot = sns.boxplot(data = ov_mutation_type_comparison, x = 'binary_mutations',\n",
    "                          y = 'ARID1A_transcriptomics', order = [\"Missence\",\"Truncation\"], showfliers = False)  \n",
    "en_cis_boxplot.set_title(gene + \" mutation type effect on transcriptomic abundance in ovarian tumors\")\n",
    "en_cis_boxplot = sns.stripplot(data= ov_mutation_type_comparison, x = 'binary_mutations',\n",
    "                            y = 'ARID1A_transcriptomics',jitter = True, color = \".3\", order = [\"Missence\",\"Truncation\"])\n",
    "en_cis_boxplot.set(xlabel = gene + \" Mutation Type\", ylabel = 'transcriptomics')\n",
    "plt.show()"
   ]
  },
  {
   "cell_type": "code",
   "execution_count": null,
   "metadata": {},
   "outputs": [],
   "source": []
  }
 ],
 "metadata": {
  "kernelspec": {
   "display_name": "Python 3",
   "language": "python",
   "name": "python3"
  },
  "language_info": {
   "codemirror_mode": {
    "name": "ipython",
    "version": 3
   },
   "file_extension": ".py",
   "mimetype": "text/x-python",
   "name": "python",
   "nbconvert_exporter": "python",
   "pygments_lexer": "ipython3",
   "version": "3.7.3"
  }
 },
 "nbformat": 4,
 "nbformat_minor": 2
}
