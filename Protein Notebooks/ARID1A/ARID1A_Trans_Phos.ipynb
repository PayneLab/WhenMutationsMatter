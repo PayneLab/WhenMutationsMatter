{
 "cells": [
  {
   "cell_type": "markdown",
   "metadata": {},
   "source": [
    "# ARID1A Mutation Trans Effect on Phosphoproteomics"
   ]
  },
  {
   "cell_type": "markdown",
   "metadata": {},
   "source": [
    "This notebook analyzes the trans effect of ARID1A mutation on interacting and other proteins Phosphoproteomics, in Endometrial, Colon, and Ovarian cancer."
   ]
  },
  {
   "cell_type": "markdown",
   "metadata": {},
   "source": [
    "### Library Imports"
   ]
  },
  {
   "cell_type": "code",
   "execution_count": 1,
   "metadata": {},
   "outputs": [
    {
     "name": "stdout",
     "output_type": "stream",
     "text": [
      "                                    \r"
     ]
    }
   ],
   "source": [
    "import pandas as pd\n",
    "import numpy as np\n",
    "import scipy.stats\n",
    "\n",
    "import warnings\n",
    "warnings.filterwarnings(\"ignore\")\n",
    "\n",
    "import cptac\n",
    "import cptac.algorithms as al\n",
    "\n",
    "en = cptac.Endometrial()\n",
    "co = cptac.Colon()\n",
    "ov = cptac.Ovarian()"
   ]
  },
  {
   "cell_type": "markdown",
   "metadata": {},
   "source": [
    "### Select Gene"
   ]
  },
  {
   "cell_type": "code",
   "execution_count": 2,
   "metadata": {},
   "outputs": [],
   "source": [
    "gene = \"ARID1A\""
   ]
  },
  {
   "cell_type": "markdown",
   "metadata": {},
   "source": [
    "### Investigate Proteomics, Phosphoproteomics, Acetylproteomics, or Transcriptomics"
   ]
  },
  {
   "cell_type": "code",
   "execution_count": 3,
   "metadata": {},
   "outputs": [],
   "source": [
    "#omics = \"proteomics\"\n",
    "#omics = \"transcriptomics\"\n",
    "omics = \"phosphoproteomics\"\n",
    "#omics = \"acetylproteomics\""
   ]
  },
  {
   "cell_type": "markdown",
   "metadata": {},
   "source": [
    "### Track all significant comparisons in Dataframe"
   ]
  },
  {
   "cell_type": "code",
   "execution_count": 4,
   "metadata": {},
   "outputs": [],
   "source": [
    "all_significant_comparisons = pd.DataFrame(columns=['Cancer_Type', 'Gene', 'Comparison','Interacting_Protein','P_Value'])"
   ]
  },
  {
   "cell_type": "code",
   "execution_count": 5,
   "metadata": {},
   "outputs": [],
   "source": [
    "def add_to_all_significant_comparisons(df, cancer, interacting, all_sig_comp):\n",
    "    expanded = df\n",
    "    expanded['Gene'] = gene\n",
    "    expanded['Cancer_Type'] = cancer\n",
    "    expanded['Interacting_Protein'] = interacting\n",
    "    \n",
    "    updated_all_comparisons = pd.concat([all_sig_comp, expanded], sort=False)\n",
    "    \n",
    "    return updated_all_comparisons"
   ]
  },
  {
   "cell_type": "markdown",
   "metadata": {},
   "source": [
    "# Interacting Proteins: Phosphoproteomics"
   ]
  },
  {
   "cell_type": "markdown",
   "metadata": {},
   "source": [
    "### Generate interacting protein list"
   ]
  },
  {
   "cell_type": "code",
   "execution_count": 6,
   "metadata": {},
   "outputs": [
    {
     "name": "stdout",
     "output_type": "stream",
     "text": [
      "Interacting Proteins:\n",
      "SMARCC1\n",
      "SUPT16H\n",
      "CCND1\n",
      "SMARCD3\n",
      "CREBBP\n",
      "SMARCB1\n",
      "KAT2B\n",
      "DNMT3A\n",
      "SMARCA2\n",
      "SMARCC2\n",
      "KMT2D\n",
      "ARID1A\n",
      "SMARCE1\n",
      "PHF10\n",
      "BAZ1B\n",
      "ARID1B\n",
      "NF1\n",
      "CDC5L\n",
      "SMARCD1\n",
      "SMARCD2\n",
      "SMARCA4\n",
      "ACTL6A\n",
      "BCL7B\n",
      "SS18\n",
      "DPF2\n",
      "DPF3\n",
      "KLF1\n",
      "GATA1\n",
      "ING1\n",
      "PGR\n",
      "BCL7C\n",
      "HIC1\n"
     ]
    }
   ],
   "source": [
    "'''Use get interacting proteins method to generate list of interacting proteins'''\n",
    "interacting_proteins = al.get_interacting_proteins(gene)\n",
    "\n",
    "print(\"Interacting Proteins:\")\n",
    "for interacting_protein in interacting_proteins:\n",
    "    print(interacting_protein)"
   ]
  },
  {
   "cell_type": "markdown",
   "metadata": {},
   "source": [
    "## Endometrial"
   ]
  },
  {
   "cell_type": "markdown",
   "metadata": {},
   "source": [
    "### Test for significant comparisons in any of interacting proteins"
   ]
  },
  {
   "cell_type": "code",
   "execution_count": 7,
   "metadata": {},
   "outputs": [
    {
     "name": "stdout",
     "output_type": "stream",
     "text": [
      "SMARCD3 did not match any columns in phosphoproteomics dataframe. SMARCD3_phosphoproteomics column inserted, but filled with NaN.\n",
      "SMARCB1 did not match any columns in phosphoproteomics dataframe. SMARCB1_phosphoproteomics column inserted, but filled with NaN.\n",
      "SMARCD1 did not match any columns in phosphoproteomics dataframe. SMARCD1_phosphoproteomics column inserted, but filled with NaN.\n",
      "KLF1 did not match any columns in phosphoproteomics dataframe. KLF1_phosphoproteomics column inserted, but filled with NaN.\n",
      "GATA1 did not match any columns in phosphoproteomics dataframe. GATA1_phosphoproteomics column inserted, but filled with NaN.\n",
      "Doing t-test comparisons\n",
      "\n",
      "                       Comparison       P_Value\n",
      "0  ARID1A-S1755_phosphoproteomics  7.963747e-10\n",
      "1  ARID1A-S1184_phosphoproteomics  4.338936e-07\n",
      "2  ARID1A-S1604_phosphoproteomics  1.501846e-06\n",
      "3   ARID1A-S363_phosphoproteomics  3.402219e-05\n",
      "\n",
      "\n",
      "\n"
     ]
    }
   ],
   "source": [
    "'''Create dataframe in order to do comparisons with wrap_ttest'''\n",
    "protdf = en.join_omics_to_mutations(mutations_genes=[gene], omics_df_name=omics, omics_genes=interacting_proteins)\n",
    "protdf = protdf.loc[protdf['Sample_Status'] == 'Tumor']\n",
    "\n",
    "'''Create the binary valued column needed to do the comparison'''\n",
    "for ind, row in protdf.iterrows():\n",
    "    if row[gene+\"_Mutation_Status\"] != 'Wildtype_Tumor':\n",
    "        protdf.at[ind,'Label'] = 'Mutated'\n",
    "    else:\n",
    "        protdf.at[ind,'Label'] = 'Wildtype'\n",
    "\n",
    "'''Format the dataframe correctly'''\n",
    "protdf = protdf.drop(gene+\"_Mutation\",axis=1)\n",
    "protdf = protdf.drop(gene+\"_Location\",axis=1)\n",
    "protdf = protdf.drop(gene+\"_Mutation_Status\", axis=1)\n",
    "protdf = protdf.drop(\"Sample_Status\",axis=1)\n",
    "\n",
    "\n",
    "'''Make list of columns to be compared using t-tests'''\n",
    "col_list = list(protdf.columns)\n",
    "col_list.remove('Label')\n",
    "\n",
    "print(\"Doing t-test comparisons\\n\")\n",
    "\n",
    "'''Call wrap_ttest, pass in formatted dataframe'''\n",
    "wrap_results = al.wrap_ttest(protdf, 'Label', col_list)\n",
    "\n",
    "'''Print results, if anything significant was found'''\n",
    "if wrap_results is not None:\n",
    "        print(wrap_results)\n",
    "        print(\"\\n\\n\")\n",
    "        \n",
    "        all_significant_comparisons = add_to_all_significant_comparisons(wrap_results, \"Endometrial\", True, all_significant_comparisons)\n"
   ]
  },
  {
   "cell_type": "markdown",
   "metadata": {},
   "source": [
    "## Colon"
   ]
  },
  {
   "cell_type": "markdown",
   "metadata": {},
   "source": [
    "### Test for significant comparisons in any of interacting proteins"
   ]
  },
  {
   "cell_type": "code",
   "execution_count": 8,
   "metadata": {},
   "outputs": [
    {
     "name": "stdout",
     "output_type": "stream",
     "text": [
      "SMARCC1 did not match any columns in phosphoproteomics dataframe. SMARCC1_phosphoproteomics column inserted, but filled with NaN.\n",
      "SUPT16H did not match any columns in phosphoproteomics dataframe. SUPT16H_phosphoproteomics column inserted, but filled with NaN.\n",
      "CCND1 did not match any columns in phosphoproteomics dataframe. CCND1_phosphoproteomics column inserted, but filled with NaN.\n",
      "SMARCD3 did not match any columns in phosphoproteomics dataframe. SMARCD3_phosphoproteomics column inserted, but filled with NaN.\n",
      "CREBBP did not match any columns in phosphoproteomics dataframe. CREBBP_phosphoproteomics column inserted, but filled with NaN.\n",
      "SMARCB1 did not match any columns in phosphoproteomics dataframe. SMARCB1_phosphoproteomics column inserted, but filled with NaN.\n",
      "KAT2B did not match any columns in phosphoproteomics dataframe. KAT2B_phosphoproteomics column inserted, but filled with NaN.\n",
      "DNMT3A did not match any columns in phosphoproteomics dataframe. DNMT3A_phosphoproteomics column inserted, but filled with NaN.\n",
      "SMARCA2 did not match any columns in phosphoproteomics dataframe. SMARCA2_phosphoproteomics column inserted, but filled with NaN.\n",
      "SMARCC2 did not match any columns in phosphoproteomics dataframe. SMARCC2_phosphoproteomics column inserted, but filled with NaN.\n",
      "KMT2D did not match any columns in phosphoproteomics dataframe. KMT2D_phosphoproteomics column inserted, but filled with NaN.\n",
      "ARID1A did not match any columns in phosphoproteomics dataframe. ARID1A_phosphoproteomics column inserted, but filled with NaN.\n",
      "SMARCE1 did not match any columns in phosphoproteomics dataframe. SMARCE1_phosphoproteomics column inserted, but filled with NaN.\n",
      "PHF10 did not match any columns in phosphoproteomics dataframe. PHF10_phosphoproteomics column inserted, but filled with NaN.\n",
      "BAZ1B did not match any columns in phosphoproteomics dataframe. BAZ1B_phosphoproteomics column inserted, but filled with NaN.\n",
      "ARID1B did not match any columns in phosphoproteomics dataframe. ARID1B_phosphoproteomics column inserted, but filled with NaN.\n",
      "NF1 did not match any columns in phosphoproteomics dataframe. NF1_phosphoproteomics column inserted, but filled with NaN.\n",
      "CDC5L did not match any columns in phosphoproteomics dataframe. CDC5L_phosphoproteomics column inserted, but filled with NaN.\n",
      "SMARCD1 did not match any columns in phosphoproteomics dataframe. SMARCD1_phosphoproteomics column inserted, but filled with NaN.\n",
      "SMARCD2 did not match any columns in phosphoproteomics dataframe. SMARCD2_phosphoproteomics column inserted, but filled with NaN.\n",
      "SMARCA4 did not match any columns in phosphoproteomics dataframe. SMARCA4_phosphoproteomics column inserted, but filled with NaN.\n",
      "ACTL6A did not match any columns in phosphoproteomics dataframe. ACTL6A_phosphoproteomics column inserted, but filled with NaN.\n",
      "BCL7B did not match any columns in phosphoproteomics dataframe. BCL7B_phosphoproteomics column inserted, but filled with NaN.\n",
      "SS18 did not match any columns in phosphoproteomics dataframe. SS18_phosphoproteomics column inserted, but filled with NaN.\n",
      "DPF2 did not match any columns in phosphoproteomics dataframe. DPF2_phosphoproteomics column inserted, but filled with NaN.\n",
      "DPF3 did not match any columns in phosphoproteomics dataframe. DPF3_phosphoproteomics column inserted, but filled with NaN.\n",
      "KLF1 did not match any columns in phosphoproteomics dataframe. KLF1_phosphoproteomics column inserted, but filled with NaN.\n",
      "GATA1 did not match any columns in phosphoproteomics dataframe. GATA1_phosphoproteomics column inserted, but filled with NaN.\n",
      "ING1 did not match any columns in phosphoproteomics dataframe. ING1_phosphoproteomics column inserted, but filled with NaN.\n",
      "PGR did not match any columns in phosphoproteomics dataframe. PGR_phosphoproteomics column inserted, but filled with NaN.\n",
      "BCL7C did not match any columns in phosphoproteomics dataframe. BCL7C_phosphoproteomics column inserted, but filled with NaN.\n",
      "HIC1 did not match any columns in phosphoproteomics dataframe. HIC1_phosphoproteomics column inserted, but filled with NaN.\n",
      "Doing t-test comparisons\n",
      "\n",
      "No significant comparisons.\n"
     ]
    }
   ],
   "source": [
    "'''Create dataframe in order to do comparisons with wrap_ttest'''\n",
    "protdf = co.join_omics_to_mutations(mutations_genes=[gene], omics_df_name=omics, omics_genes=interacting_proteins)\n",
    "protdf = protdf.loc[protdf['Sample_Status'] == 'Tumor']\n",
    "\n",
    "'''Create the binary valued column needed to do the comparison'''\n",
    "for ind, row in protdf.iterrows():\n",
    "    if row[gene+\"_Mutation_Status\"] != 'Wildtype_Tumor':\n",
    "        protdf.at[ind,'Label'] = 'Mutated'\n",
    "    else:\n",
    "        protdf.at[ind,'Label'] = 'Wildtype'\n",
    "\n",
    "'''Format the dataframe correctly'''\n",
    "protdf = protdf.drop(gene+\"_Mutation\",axis=1)\n",
    "protdf = protdf.drop(gene+\"_Location\",axis=1)\n",
    "protdf = protdf.drop(gene+\"_Mutation_Status\", axis=1)\n",
    "protdf = protdf.drop(\"Sample_Status\",axis=1)\n",
    "\n",
    "'''Make list of columns to be compared using t-tests'''\n",
    "col_list = list(protdf.columns)\n",
    "col_list.remove('Label')\n",
    "\n",
    "print(\"Doing t-test comparisons\\n\")\n",
    "\n",
    "'''Call wrap_ttest, pass in formatted dataframe'''\n",
    "wrap_results = al.wrap_ttest(protdf, 'Label', col_list)\n",
    "\n",
    "'''Print results, if anything significant was found'''\n",
    "if wrap_results is not None:\n",
    "        print(wrap_results)\n",
    "        print(\"\\n\\n\")\n",
    "        \n",
    "        all_significant_comparisons = add_to_all_significant_comparisons(wrap_results, \"Colon\", True, all_significant_comparisons)\n"
   ]
  },
  {
   "cell_type": "markdown",
   "metadata": {},
   "source": [
    "## Ovarian"
   ]
  },
  {
   "cell_type": "code",
   "execution_count": 9,
   "metadata": {},
   "outputs": [
    {
     "name": "stdout",
     "output_type": "stream",
     "text": [
      "CCND1 did not match any columns in phosphoproteomics dataframe. CCND1_phosphoproteomics column inserted, but filled with NaN.\n",
      "SMARCD3 did not match any columns in phosphoproteomics dataframe. SMARCD3_phosphoproteomics column inserted, but filled with NaN.\n",
      "SMARCD1 did not match any columns in phosphoproteomics dataframe. SMARCD1_phosphoproteomics column inserted, but filled with NaN.\n",
      "SS18 did not match any columns in phosphoproteomics dataframe. SS18_phosphoproteomics column inserted, but filled with NaN.\n",
      "KLF1 did not match any columns in phosphoproteomics dataframe. KLF1_phosphoproteomics column inserted, but filled with NaN.\n",
      "GATA1 did not match any columns in phosphoproteomics dataframe. GATA1_phosphoproteomics column inserted, but filled with NaN.\n",
      "Doing t-test comparisons\n",
      "\n",
      "No significant comparisons.\n"
     ]
    }
   ],
   "source": [
    "'''Create dataframe in order to do comparisons with wrap_ttest'''\n",
    "protdf = ov.join_omics_to_mutations(mutations_genes=[gene], omics_df_name=omics, omics_genes=interacting_proteins) \n",
    "protdf = protdf.loc[protdf['Sample_Status'] == 'Tumor']\n",
    "\n",
    "'''Create the binary valued column needed to do the comparison'''\n",
    "for ind, row in protdf.iterrows():\n",
    "    if row[gene+\"_Mutation_Status\"] != 'Wildtype_Tumor':\n",
    "        protdf.loc[ind,'Label'] = 'Mutated'\n",
    "    else:\n",
    "        protdf.loc[ind,'Label'] = 'Wildtype'\n",
    "\n",
    "'''Format the dataframe correctly'''\n",
    "protdf = protdf.drop(gene+\"_Mutation\",axis=1)\n",
    "protdf = protdf.drop(gene+\"_Location\",axis=1)\n",
    "protdf = protdf.drop(gene+\"_Mutation_Status\", axis=1)\n",
    "protdf = protdf.drop(\"Sample_Status\",axis=1)\n",
    "protdf = protdf.loc[:,~protdf.columns.duplicated()]\n",
    "\n",
    "'''Make list of columns to be compared using t-tests'''\n",
    "col_list = list(protdf.columns)\n",
    "col_list.remove('Label')\n",
    "\n",
    "print(\"Doing t-test comparisons\\n\")\n",
    "\n",
    "'''Call wrap_ttest, pass in formatted dataframe'''\n",
    "wrap_results = al.wrap_ttest(protdf, 'Label', col_list)\n",
    "\n",
    "'''Print results, if anything significant was found'''\n",
    "if wrap_results is not None:\n",
    "        print(wrap_results)\n",
    "        print(\"\\n\\n\")\n",
    "        \n",
    "        all_significant_comparisons = add_to_all_significant_comparisons(wrap_results, \"Ovarian\", True, all_significant_comparisons)\n"
   ]
  },
  {
   "cell_type": "markdown",
   "metadata": {},
   "source": [
    "# All Proteins: Phosphoproteomics"
   ]
  },
  {
   "cell_type": "markdown",
   "metadata": {},
   "source": [
    "## Endometrial"
   ]
  },
  {
   "cell_type": "code",
   "execution_count": 10,
   "metadata": {},
   "outputs": [
    {
     "name": "stdout",
     "output_type": "stream",
     "text": [
      "\n",
      "Gene:  ARID1A\n",
      "Doing t-test comparisons\n",
      "\n",
      "                       Comparison       P_Value\n",
      "0  ARID1A-S1755_phosphoproteomics  7.963747e-10\n",
      "1  ARID1A-S1184_phosphoproteomics  4.338936e-07\n",
      "\n",
      "\n",
      "\n"
     ]
    }
   ],
   "source": [
    "try:\n",
    "    print(\"\\nGene: \", gene)\n",
    "\n",
    "    '''Use all proteins'''\n",
    "    proteomics = en.get_proteomics()\n",
    "    all_proteins = proteomics.columns\n",
    "    #all_proteins = all_proteins[:100]\n",
    "\n",
    "    '''Create dataframe in order to do comparisons with wrap_ttest'''\n",
    "    protdf = en.join_omics_to_mutations(mutations_genes=[gene], omics_df_name=omics)\n",
    "    protdf = protdf.loc[protdf['Sample_Status'] == 'Tumor']\n",
    "    \n",
    "    '''Create the binary valued column needed to do the comparison'''\n",
    "    for ind, row in protdf.iterrows():\n",
    "        if row[gene+\"_Mutation_Status\"] != 'Wildtype_Tumor':\n",
    "            protdf.at[ind,'Label'] = 'Mutated'\n",
    "        else:\n",
    "            protdf.at[ind,'Label'] = 'Wildtype'\n",
    "\n",
    "    '''Format the datafram correctly'''\n",
    "    protdf = protdf.drop(gene+\"_Mutation\",axis=1)\n",
    "    protdf = protdf.drop(gene+\"_Location\",axis=1)\n",
    "    protdf = protdf.drop(gene+\"_Mutation_Status\", axis=1)\n",
    "    protdf = protdf.drop(\"Sample_Status\",axis=1)\n",
    "\n",
    "    '''Make list of columns to be compared using t-tests'''\n",
    "    col_list = list(protdf.columns)\n",
    "    col_list.remove('Label')\n",
    "\n",
    "    print(\"Doing t-test comparisons\\n\")\n",
    "    \n",
    "    '''Call wrap_ttest, pass in formatted dataframe'''\n",
    "    wrap_results = al.wrap_ttest(protdf, 'Label', col_list)\n",
    "\n",
    "    '''Print results, if anything significant was found'''\n",
    "    if wrap_results is not None:\n",
    "            print(wrap_results)\n",
    "            print(\"\\n\\n\")\n",
    "            \n",
    "            all_significant_comparisons = add_to_all_significant_comparisons(wrap_results, \"Endometrial\", False, all_significant_comparisons)\n",
    "\n",
    "\n",
    "except Exception as e:\n",
    "    print(\"Error in Comparison\")\n",
    "    print(e)"
   ]
  },
  {
   "cell_type": "markdown",
   "metadata": {},
   "source": [
    "## Colon"
   ]
  },
  {
   "cell_type": "code",
   "execution_count": 11,
   "metadata": {},
   "outputs": [
    {
     "name": "stdout",
     "output_type": "stream",
     "text": [
      "\n",
      "Gene:  ARID1A\n",
      "Doing t-test comparisons\n",
      "\n",
      "No significant comparisons.\n"
     ]
    }
   ],
   "source": [
    "try:\n",
    "    print(\"\\nGene: \", gene)\n",
    "\n",
    "    '''Use all proteins'''\n",
    "    proteomics = co.get_proteomics()\n",
    "    all_proteins = proteomics.columns\n",
    "    #all_proteins = all_proteins[:100]\n",
    "\n",
    "    '''Create dataframe in order to do comparisons with wrap_ttest'''\n",
    "    protdf = co.join_omics_to_mutations(mutations_genes=[gene], omics_df_name=omics)\n",
    "    protdf = protdf.loc[protdf['Sample_Status'] == 'Tumor']\n",
    "    \n",
    "    '''Create the binary valued column needed to do the comparison'''\n",
    "    for ind, row in protdf.iterrows():\n",
    "        if row[gene+\"_Mutation_Status\"] != 'Wildtype_Tumor':\n",
    "            protdf.at[ind,'Label'] = 'Mutated'\n",
    "        else:\n",
    "            protdf.at[ind,'Label'] = 'Wildtype'\n",
    "\n",
    "    '''Format the datafram correctly'''\n",
    "    protdf = protdf.drop(gene+\"_Mutation\",axis=1)\n",
    "    protdf = protdf.drop(gene+\"_Location\",axis=1)\n",
    "    protdf = protdf.drop(gene+\"_Mutation_Status\", axis=1)\n",
    "    protdf = protdf.drop(\"Sample_Status\",axis=1)\n",
    "\n",
    "    '''Make list of columns to be compared using t-tests'''\n",
    "    col_list = list(protdf.columns)\n",
    "    col_list.remove('Label')\n",
    "\n",
    "    print(\"Doing t-test comparisons\\n\")\n",
    "    \n",
    "    '''Call wrap_ttest, pass in formatted dataframe'''\n",
    "    wrap_results = al.wrap_ttest(protdf, 'Label', col_list)\n",
    "\n",
    "    '''Print results, if anything significant was found'''\n",
    "    if wrap_results is not None:\n",
    "            print(wrap_results)\n",
    "            print(\"\\n\\n\")\n",
    "            \n",
    "            all_significant_comparisons = add_to_all_significant_comparisons(wrap_results, \"Colon\", False, all_significant_comparisons)\n",
    "\n",
    "\n",
    "except Exception as e:\n",
    "    print(\"Error in Comparison\")\n",
    "    print(e)"
   ]
  },
  {
   "cell_type": "markdown",
   "metadata": {},
   "source": [
    "## Ovarian"
   ]
  },
  {
   "cell_type": "code",
   "execution_count": 12,
   "metadata": {},
   "outputs": [
    {
     "name": "stdout",
     "output_type": "stream",
     "text": [
      "\n",
      "Gene:  ARID1A\n",
      "Doing t-test comparisons\n",
      "\n",
      "                     Comparison       P_Value\n",
      "0  STMN1-S38s_phosphoproteomics  1.498115e-07\n",
      "\n",
      "\n",
      "\n"
     ]
    }
   ],
   "source": [
    "\n",
    "print(\"\\nGene: \", gene)\n",
    "\n",
    "'''Use all proteins'''\n",
    "proteomics = ov.get_proteomics()\n",
    "all_proteins = list(set(proteomics.columns))\n",
    "\n",
    "'''Create dataframe in order to do comparisons with wrap_ttest'''\n",
    "protdf = ov.join_omics_to_mutations(mutations_genes=[gene], omics_df_name=omics)\n",
    "protdf = protdf.loc[protdf['Sample_Status'] == 'Tumor']\n",
    "protdf = protdf.loc[:,~protdf.columns.duplicated()]\n",
    "\n",
    "'''Create the binary valued column needed to do the comparison'''\n",
    "for ind, row in protdf.iterrows():\n",
    "    if row[gene+\"_Mutation_Status\"] != 'Wildtype_Tumor':\n",
    "        protdf.at[ind,'Label'] = 'Mutated'\n",
    "    else:\n",
    "        protdf.at[ind,'Label'] = 'Wildtype'\n",
    "\n",
    "'''Format the datafram correctly'''\n",
    "protdf = protdf.drop(gene+\"_Mutation\",axis=1)\n",
    "protdf = protdf.drop(gene+\"_Location\",axis=1)\n",
    "protdf = protdf.drop(gene+\"_Mutation_Status\", axis=1)\n",
    "protdf = protdf.drop(\"Sample_Status\",axis=1)\n",
    "\n",
    "'''Make list of columns to be compared using t-tests'''\n",
    "col_list = list(protdf.columns)\n",
    "col_list.remove('Label')\n",
    "\n",
    "print(\"Doing t-test comparisons\\n\")\n",
    "\n",
    "'''Call wrap_ttest, pass in formatted dataframe'''\n",
    "wrap_results = al.wrap_ttest(protdf, 'Label', col_list)\n",
    "\n",
    "'''Print results, if anything significant was found'''\n",
    "if wrap_results is not None:\n",
    "        print(wrap_results)\n",
    "        print(\"\\n\\n\")\n",
    "        \n",
    "        all_significant_comparisons = add_to_all_significant_comparisons(wrap_results, \"Ovarian\", False, all_significant_comparisons)\n",
    "\n"
   ]
  },
  {
   "cell_type": "markdown",
   "metadata": {},
   "source": [
    "### Print all significant comparisons"
   ]
  },
  {
   "cell_type": "code",
   "execution_count": 13,
   "metadata": {},
   "outputs": [
    {
     "data": {
      "text/html": [
       "<div>\n",
       "<style scoped>\n",
       "    .dataframe tbody tr th:only-of-type {\n",
       "        vertical-align: middle;\n",
       "    }\n",
       "\n",
       "    .dataframe tbody tr th {\n",
       "        vertical-align: top;\n",
       "    }\n",
       "\n",
       "    .dataframe thead th {\n",
       "        text-align: right;\n",
       "    }\n",
       "</style>\n",
       "<table border=\"1\" class=\"dataframe\">\n",
       "  <thead>\n",
       "    <tr style=\"text-align: right;\">\n",
       "      <th></th>\n",
       "      <th>Cancer_Type</th>\n",
       "      <th>Gene</th>\n",
       "      <th>Comparison</th>\n",
       "      <th>Interacting_Protein</th>\n",
       "      <th>P_Value</th>\n",
       "    </tr>\n",
       "  </thead>\n",
       "  <tbody>\n",
       "    <tr>\n",
       "      <th>0</th>\n",
       "      <td>Endometrial</td>\n",
       "      <td>ARID1A</td>\n",
       "      <td>ARID1A-S1755_phosphoproteomics</td>\n",
       "      <td>True</td>\n",
       "      <td>7.963747e-10</td>\n",
       "    </tr>\n",
       "    <tr>\n",
       "      <th>1</th>\n",
       "      <td>Endometrial</td>\n",
       "      <td>ARID1A</td>\n",
       "      <td>ARID1A-S1184_phosphoproteomics</td>\n",
       "      <td>True</td>\n",
       "      <td>4.338936e-07</td>\n",
       "    </tr>\n",
       "    <tr>\n",
       "      <th>2</th>\n",
       "      <td>Endometrial</td>\n",
       "      <td>ARID1A</td>\n",
       "      <td>ARID1A-S1604_phosphoproteomics</td>\n",
       "      <td>True</td>\n",
       "      <td>1.501846e-06</td>\n",
       "    </tr>\n",
       "    <tr>\n",
       "      <th>3</th>\n",
       "      <td>Endometrial</td>\n",
       "      <td>ARID1A</td>\n",
       "      <td>ARID1A-S363_phosphoproteomics</td>\n",
       "      <td>True</td>\n",
       "      <td>3.402219e-05</td>\n",
       "    </tr>\n",
       "    <tr>\n",
       "      <th>0</th>\n",
       "      <td>Endometrial</td>\n",
       "      <td>ARID1A</td>\n",
       "      <td>ARID1A-S1755_phosphoproteomics</td>\n",
       "      <td>False</td>\n",
       "      <td>7.963747e-10</td>\n",
       "    </tr>\n",
       "    <tr>\n",
       "      <th>1</th>\n",
       "      <td>Endometrial</td>\n",
       "      <td>ARID1A</td>\n",
       "      <td>ARID1A-S1184_phosphoproteomics</td>\n",
       "      <td>False</td>\n",
       "      <td>4.338936e-07</td>\n",
       "    </tr>\n",
       "    <tr>\n",
       "      <th>0</th>\n",
       "      <td>Ovarian</td>\n",
       "      <td>ARID1A</td>\n",
       "      <td>STMN1-S38s_phosphoproteomics</td>\n",
       "      <td>False</td>\n",
       "      <td>1.498115e-07</td>\n",
       "    </tr>\n",
       "  </tbody>\n",
       "</table>\n",
       "</div>"
      ],
      "text/plain": [
       "   Cancer_Type    Gene                      Comparison Interacting_Protein  \\\n",
       "0  Endometrial  ARID1A  ARID1A-S1755_phosphoproteomics                True   \n",
       "1  Endometrial  ARID1A  ARID1A-S1184_phosphoproteomics                True   \n",
       "2  Endometrial  ARID1A  ARID1A-S1604_phosphoproteomics                True   \n",
       "3  Endometrial  ARID1A   ARID1A-S363_phosphoproteomics                True   \n",
       "0  Endometrial  ARID1A  ARID1A-S1755_phosphoproteomics               False   \n",
       "1  Endometrial  ARID1A  ARID1A-S1184_phosphoproteomics               False   \n",
       "0      Ovarian  ARID1A    STMN1-S38s_phosphoproteomics               False   \n",
       "\n",
       "        P_Value  \n",
       "0  7.963747e-10  \n",
       "1  4.338936e-07  \n",
       "2  1.501846e-06  \n",
       "3  3.402219e-05  \n",
       "0  7.963747e-10  \n",
       "1  4.338936e-07  \n",
       "0  1.498115e-07  "
      ]
     },
     "metadata": {},
     "output_type": "display_data"
    }
   ],
   "source": [
    "if len(all_significant_comparisons) > 0:\n",
    "    display(all_significant_comparisons)\n",
    "    \n",
    "else:\n",
    "    print('No Significant Comparisons!')"
   ]
  },
  {
   "cell_type": "markdown",
   "metadata": {},
   "source": [
    "### Write significant comparisons (if any) to shared CSV file"
   ]
  },
  {
   "cell_type": "code",
   "execution_count": 14,
   "metadata": {},
   "outputs": [],
   "source": [
    "existing_results = pd.read_csv(gene+'_Trans_Results.csv')\n",
    "\n",
    "updated_results = pd.concat([existing_results, all_significant_comparisons], sort=False)\n",
    "\n",
    "updated_results.to_csv(path_or_buf = gene + '_Trans_Results.csv', index=False)"
   ]
  }
 ],
 "metadata": {
  "kernelspec": {
   "display_name": "Python 3",
   "language": "python",
   "name": "python3"
  },
  "language_info": {
   "codemirror_mode": {
    "name": "ipython",
    "version": 3
   },
   "file_extension": ".py",
   "mimetype": "text/x-python",
   "name": "python",
   "nbconvert_exporter": "python",
   "pygments_lexer": "ipython3",
   "version": "3.6.8"
  }
 },
 "nbformat": 4,
 "nbformat_minor": 2
}
