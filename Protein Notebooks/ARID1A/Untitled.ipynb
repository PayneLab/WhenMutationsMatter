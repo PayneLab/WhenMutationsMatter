{
 "cells": [
  {
   "cell_type": "code",
   "execution_count": 1,
   "metadata": {},
   "outputs": [],
   "source": [
    "import pandas as pd\n",
    "import numpy as np\n",
    "import seaborn as sns\n",
    "import matplotlib.pyplot as plt\n",
    "import scipy.stats\n",
    "\n",
    "import cptac\n",
    "import cptac.algorithms as al"
   ]
  },
  {
   "cell_type": "code",
   "execution_count": null,
   "metadata": {},
   "outputs": [],
   "source": [
    "def format_cis_comparison_data(cancer_object, specific_omics, gene, compare_mut_type = False):\n",
    "    \n",
    "    if compare_mut_type = True:\n",
    "        \n",
    "    else:    \n",
    "        # Step 1 - Create dataframe in order to do comparisons with wrap_ttest - drop nan values\n",
    "        omics_and_mutations = cancer_object.append_mutations_to_omics(\n",
    "            mutation_genes = gene, omics_df_name = specific_omics.name, omics_genes = gene).dropna()\n",
    "\n",
    "    # Check if values in omics data (if not found in proteomics, after na dropped dataframe should be empty)\n",
    "    if omics_and_mutations[gene+\"_\"+specific_omics.name].empty:\n",
    "        print('Not possible to do T-test. No data for', gene, 'in', specific_omics.name)\n",
    "        return None\n",
    "    else:\n",
    "        \n",
    "        # Step 2 - Create the binary column needed to do the comparison\n",
    "        omics_and_mutations['binary_mutations'] = np.where(\n",
    "            omics_and_mutations[gene+'_Mutation_Status'] == 'Wildtype_Tumor', 'Wildtype', 'Mutated')\n",
    "\n",
    "        # Step 3 - Format the dataframe correctly for the T-test(just omics and binary columns for tumors)\n",
    "        tumors = omics_and_mutations.loc[omics_and_mutations['Sample_Status'] == 'Tumor']\n",
    "        columns_to_drop = [gene+\"_Mutation\", gene+\"_Location\", gene+\"_Mutation_Status\", \"Sample_Status\"]\n",
    "        omics_binary_mutations = tumors.drop(columns_to_drop, axis = 1)\n",
    "        #check if only one column of omics data (total 2 columns)\n",
    "        if len(omics_binary_mutations.columns) != 2:\n",
    "            print('exeption with columns. check omics data')\n",
    "            return None\n",
    "        else:\n",
    "            # Make a list of the column label of omics to be used in the wrap_ttest function\n",
    "            omics_col_list = [omics_binary_mutations.columns[0]] \n",
    "\n",
    "            # Step 4 - T-test comparing means of mutated vs wildtype effect on cis omics\n",
    "            print(\"Doing t-test comparison\\n\")\n",
    "            significant_pval_results = al.wrap_ttest(omics_binary_mutations, 'binary_mutations', omics_col_list)\n",
    "            print(significant_pval_results)\n",
    "\n",
    "            formated_data_for_boxplot = {'data': omics_binary_mutations, 'x': \"binary_mutations\", \n",
    "                                         'y': gene+\"_proteomics\", 'pval': significant_pval_results}\n",
    "            return formated_data_for_boxplot\n",
    "\n",
    "  "
   ]
  },
  {
   "cell_type": "code",
   "execution_count": 71,
   "metadata": {},
   "outputs": [],
   "source": [
    "def get_missence_truncation_comparison(cancer_object, specific_omics, gene):\n",
    "    #get omics data and tumors\n",
    "    omics_and_mutations = cancer_object.append_mutations_to_omics(\n",
    "            mutation_genes = gene, omics_df_name = specific_omics.name, omics_genes = gene)\n",
    "    tumors = omics_and_mutations.loc[omics_and_mutations['Sample_Status'] == 'Tumor']\n",
    "    \n",
    "    #data for mutation comparison\n",
    "    somatic_mutations = cancer_object.get_mutations().reset_index()\n",
    "    gene_df = somatic_mutations.loc[somatic_mutations['Gene'] == gene]\n",
    "    \n",
    "    if cancer_object.get_cancer_type() == 'colon':\n",
    "        missence_truncation_groups = {'frameshift substitution': 'T', \n",
    "            'frameshift deletion': 'T', 'frameshift insertion': 'T', \n",
    "            'stopgain': 'T', 'stoploss': 'T', 'nonsynonymous SNV': 'M',\n",
    "            'nonframeshift insertion': 'M','nonframeshift deletion': 'M', \n",
    "            'nonframeshift substitution': 'M'}\n",
    "    else: \n",
    "        missence_truncation_groups = {'In_Frame_Del': 'M', 'In_Frame_Ins': 'M',\n",
    "            'Missense_Mutation': 'M', 'Frame_Shift_Del': 'T','Nonsense_Mutation': 'T', \n",
    "            'Splice_Site': 'T', 'Frame_Shift_Ins': 'T','Nonstop_Mutation':'T'}\n",
    "        \n",
    "    mutations_replaced_M_T = gene_df.replace(missence_truncation_groups)\n",
    "    \n",
    "    # group mutation categories\n",
    "    miss = mutations_replaced_M_T.loc[mutations_replaced_M_T['Mutation'] == 'M']\n",
    "    trunc = mutations_replaced_M_T.loc[mutations_replaced_M_T['Mutation'] == 'T']\n",
    "    \n",
    "    #get lists of unique samples for missence and trucation categories\n",
    "    miss_unique_samples = list(miss['Sample_ID'].unique())\n",
    "    trunc_unique_samples = list(trunc['Sample_ID'].unique())\n",
    "    \n",
    "    # Step 2 - Create the binary column needed to do the comparison\n",
    "    # Get mutation catagories with omics data\n",
    "    missence_omics = tumors.loc[tumors.index.isin(miss_unique_samples)]\n",
    "    missence_omics['binary_mutations'] = 'M'\n",
    "    truncation_omics = tumors.loc[tumors.index.isin(trunc_unique_samples)]\n",
    "    truncation_omics['binary_mutations'] = 'T'\n",
    "    binary_mut_omics = missence_omics.append(truncation_omics)\n",
    "    \n",
    "    # Step 3 - Format the dataframe correctly for the T-test(just omics and binary columns for tumors)\n",
    "    columns_to_drop = [gene+\"_Mutation\", gene+\"_Location\", gene+\"_Mutation_Status\", \"Sample_Status\"]\n",
    "    omics_binary_mutations = binary_mut_omics.drop(columns_to_drop, axis = 1)\n",
    "    \n",
    "    # Make a list of the column label of omics to be used in the wrap_ttest function\n",
    "    omics_col_list = [omics_binary_mutations.columns[0]] \n",
    "\n",
    "    # Step 4 - T-test comparing means of mutated vs wildtype effect on cis omics\n",
    "    print(\"Doing t-test comparison\\n\")\n",
    "    significant_pval_results = al.wrap_ttest(omics_binary_mutations, 'binary_mutations', omics_col_list)\n",
    "    print(significant_pval_results)\n",
    "\n",
    "    formated_data_for_boxplot = {'data': omics_binary_mutations, 'x': \"binary_mutations\", \n",
    "                                 'y': gene+\"_\"+specific_omics.name, 'pval': significant_pval_results}\n",
    "    return formated_data_for_boxplot\n"
   ]
  },
  {
   "cell_type": "code",
   "execution_count": 8,
   "metadata": {},
   "outputs": [
    {
     "name": "stdout",
     "output_type": "stream",
     "text": [
      "\u001b[Kmatting dataframes...linear data.....\n",
      "\n",
      "Number of Frequently Mutated Genes: 232 \n",
      "      Gene  Unique_Samples_Mut  Missence_Mut  Truncation_Mut\n",
      "0  ABCA12            0.147368      0.094737        0.073684\n",
      "1  ABCA13            0.115789      0.105263        0.042105\n",
      "2  ACVR2A            0.105263      0.010526        0.094737\n",
      "3  ADGRG4            0.136842      0.126316        0.021053\n",
      "4  ADGRV1            0.115789      0.094737        0.052632\n"
     ]
    }
   ],
   "source": [
    "en_object = cptac.Endometrial()\n",
    "desired_cutoff = .1\n",
    "\n",
    "endometrial_freq_mut = al.get_frequently_mutated(en_object, cutoff=desired_cutoff)\n",
    "print('\\n\\nNumber of Frequently Mutated Genes:', len(endometrial_freq_mut), '\\n', endometrial_freq_mut.head())"
   ]
  },
  {
   "cell_type": "code",
   "execution_count": 9,
   "metadata": {},
   "outputs": [],
   "source": [
    "omics = en_object.get_proteomics()\n",
    "#omics = en_object.get_transcriptomics()\n",
    "#omics = en_object.get_phosphoproteomics()\n",
    "#omics = en_object.get_acetylproteomics()"
   ]
  },
  {
   "cell_type": "code",
   "execution_count": 73,
   "metadata": {},
   "outputs": [
    {
     "name": "stdout",
     "output_type": "stream",
     "text": [
      "Doing t-test comparison\n",
      "\n",
      "No significant comparisons.\n",
      "None\n"
     ]
    },
    {
     "name": "stderr",
     "output_type": "stream",
     "text": [
      "C:\\Users\\brittany henderson\\Anaconda3\\envs\\Research\\lib\\site-packages\\ipykernel_launcher.py:37: SettingWithCopyWarning: \n",
      "A value is trying to be set on a copy of a slice from a DataFrame.\n",
      "Try using .loc[row_indexer,col_indexer] = value instead\n",
      "\n",
      "See the caveats in the documentation: http://pandas.pydata.org/pandas-docs/stable/indexing.html#indexing-view-versus-copy\n",
      "C:\\Users\\brittany henderson\\Anaconda3\\envs\\Research\\lib\\site-packages\\ipykernel_launcher.py:39: SettingWithCopyWarning: \n",
      "A value is trying to be set on a copy of a slice from a DataFrame.\n",
      "Try using .loc[row_indexer,col_indexer] = value instead\n",
      "\n",
      "See the caveats in the documentation: http://pandas.pydata.org/pandas-docs/stable/indexing.html#indexing-view-versus-copy\n"
     ]
    }
   ],
   "source": [
    "mutation_type_comparison = get_missence_truncation_comparison(en_object, omics, 'ARID1A')"
   ]
  },
  {
   "cell_type": "code",
   "execution_count": null,
   "metadata": {},
   "outputs": [],
   "source": []
  }
 ],
 "metadata": {
  "kernelspec": {
   "display_name": "Python 3",
   "language": "python",
   "name": "python3"
  },
  "language_info": {
   "codemirror_mode": {
    "name": "ipython",
    "version": 3
   },
   "file_extension": ".py",
   "mimetype": "text/x-python",
   "name": "python",
   "nbconvert_exporter": "python",
   "pygments_lexer": "ipython3",
   "version": "3.7.3"
  }
 },
 "nbformat": 4,
 "nbformat_minor": 2
}
