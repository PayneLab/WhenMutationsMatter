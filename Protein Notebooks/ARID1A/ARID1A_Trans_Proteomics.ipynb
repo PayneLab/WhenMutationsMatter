{
 "cells": [
  {
   "cell_type": "markdown",
   "metadata": {},
   "source": [
    "# ARID1A Mutation Trans Effect on Proteomics"
   ]
  },
  {
   "cell_type": "markdown",
   "metadata": {},
   "source": [
    "This notebook analyzes the trans effect of ARID1A mutation on interacting and other proteins, in Endometrial, Colon, and Ovarian cancer."
   ]
  },
  {
   "cell_type": "markdown",
   "metadata": {},
   "source": [
    "### Library Imports"
   ]
  },
  {
   "cell_type": "code",
   "execution_count": 1,
   "metadata": {},
   "outputs": [
    {
     "name": "stdout",
     "output_type": "stream",
     "text": [
      "                                    \r"
     ]
    }
   ],
   "source": [
    "import pandas as pd\n",
    "import numpy as np\n",
    "import scipy.stats\n",
    "\n",
    "import warnings\n",
    "warnings.filterwarnings(\"ignore\")\n",
    "\n",
    "import cptac\n",
    "import cptac.algorithms as al\n",
    "\n",
    "en = cptac.Endometrial()\n",
    "co = cptac.Colon()\n",
    "ov = cptac.Ovarian()"
   ]
  },
  {
   "cell_type": "markdown",
   "metadata": {},
   "source": [
    "### Specify Gene"
   ]
  },
  {
   "cell_type": "code",
   "execution_count": 2,
   "metadata": {},
   "outputs": [],
   "source": [
    "gene = \"ARID1A\""
   ]
  },
  {
   "cell_type": "markdown",
   "metadata": {},
   "source": [
    "### Investigate Proteomics, Phosphoproteomics, Acetylproteomics, or Transcriptomics"
   ]
  },
  {
   "cell_type": "code",
   "execution_count": 3,
   "metadata": {},
   "outputs": [],
   "source": [
    "omics = \"proteomics\"\n",
    "#omics = \"transcriptomics\"\n",
    "#omics = \"phosphoproteomics\"\n",
    "#omics = \"acetylproteomics\""
   ]
  },
  {
   "cell_type": "markdown",
   "metadata": {},
   "source": [
    "### Track all significant comparisons in dataframe"
   ]
  },
  {
   "cell_type": "code",
   "execution_count": 4,
   "metadata": {},
   "outputs": [],
   "source": [
    "all_significant_comparisons = pd.DataFrame(columns=['Cancer_Type', 'Gene', 'Comparison','Interacting_Protein','P_Value'])"
   ]
  },
  {
   "cell_type": "code",
   "execution_count": 5,
   "metadata": {},
   "outputs": [],
   "source": [
    "def add_to_all_significant_comparisons(df, cancer, interacting, all_sig_comp):\n",
    "    expanded = df\n",
    "    expanded['Gene'] = gene\n",
    "    expanded['Cancer_Type'] = cancer\n",
    "    expanded['Interacting_Protein'] = interacting\n",
    "    \n",
    "    updated_all_comparisons = pd.concat([all_sig_comp, expanded], sort=False)\n",
    "    \n",
    "    return updated_all_comparisons"
   ]
  },
  {
   "cell_type": "markdown",
   "metadata": {},
   "source": [
    "# Interacting Proteins: Proteomics"
   ]
  },
  {
   "cell_type": "markdown",
   "metadata": {},
   "source": [
    "### Generate interacting protein list"
   ]
  },
  {
   "cell_type": "markdown",
   "metadata": {},
   "source": [
    "Make a call to the cptac.algorithms get interacting proteins method, which interacts with the uniprot and string databases to generate a list of known interacting partners with the given gene"
   ]
  },
  {
   "cell_type": "code",
   "execution_count": 6,
   "metadata": {},
   "outputs": [
    {
     "name": "stdout",
     "output_type": "stream",
     "text": [
      "Interacting Proteins:\n",
      "SMARCC1\n",
      "SUPT16H\n",
      "CCND1\n",
      "SMARCD3\n",
      "CREBBP\n",
      "SMARCB1\n",
      "KAT2B\n",
      "DNMT3A\n",
      "SMARCA2\n",
      "SMARCC2\n",
      "KMT2D\n",
      "ARID1A\n",
      "SMARCE1\n",
      "PHF10\n",
      "BAZ1B\n",
      "ARID1B\n",
      "NF1\n",
      "CDC5L\n",
      "SMARCD1\n",
      "SMARCD2\n",
      "SMARCA4\n",
      "ACTL6A\n",
      "BCL7B\n",
      "SS18\n",
      "DPF2\n",
      "DPF3\n",
      "KLF1\n",
      "GATA1\n",
      "ING1\n",
      "PGR\n",
      "BCL7C\n",
      "HIC1\n"
     ]
    }
   ],
   "source": [
    "'''Use get interacting proteins method to generate list of interacting proteins'''\n",
    "interacting_proteins = al.get_interacting_proteins(gene)\n",
    "\n",
    "print(\"Interacting Proteins:\")\n",
    "for interacting_protein in interacting_proteins:\n",
    "    print(interacting_protein)"
   ]
  },
  {
   "cell_type": "markdown",
   "metadata": {},
   "source": [
    "## Endometrial"
   ]
  },
  {
   "cell_type": "markdown",
   "metadata": {},
   "source": [
    "### Test for significant comparisons in any of interacting proteins"
   ]
  },
  {
   "cell_type": "code",
   "execution_count": 7,
   "metadata": {},
   "outputs": [
    {
     "name": "stdout",
     "output_type": "stream",
     "text": [
      "KLF1 did not match any columns in proteomics dataframe. KLF1_proteomics column inserted, but filled with NaN.\n",
      "GATA1 did not match any columns in proteomics dataframe. GATA1_proteomics column inserted, but filled with NaN.\n",
      "Doing t-test comparisons\n",
      "\n",
      "           Comparison       P_Value\n",
      "0   ARID1A_proteomics  1.025018e-10\n",
      "1     DPF2_proteomics  2.166609e-07\n",
      "2  SMARCB1_proteomics  6.885135e-05\n",
      "3  SMARCC2_proteomics  8.270473e-05\n",
      "4  SMARCE1_proteomics  1.498027e-04\n",
      "5  SMARCD1_proteomics  1.744915e-04\n",
      "6    BCL7C_proteomics  4.379537e-04\n",
      "7    CCND1_proteomics  1.499832e-03\n",
      "\n",
      "\n",
      "\n"
     ]
    }
   ],
   "source": [
    "'''Create dataframe in order to do comparisons with wrap_ttest'''\n",
    "protdf = en.join_omics_to_mutations(mutations_genes=[gene], omics_df_name=omics, omics_genes=interacting_proteins)\n",
    "protdf = protdf.loc[protdf['Sample_Status'] == 'Tumor']\n",
    "\n",
    "'''Create the binary valued column needed to do the comparison'''\n",
    "for ind, row in protdf.iterrows():\n",
    "    if row[gene+\"_Mutation_Status\"] != 'Wildtype_Tumor':\n",
    "        protdf.at[ind,'Label'] = 'Mutated'\n",
    "    else:\n",
    "        protdf.at[ind,'Label'] = 'Wildtype'\n",
    "\n",
    "'''Format the dataframe correctly'''\n",
    "protdf = protdf.drop(gene+\"_Mutation\",axis=1)\n",
    "protdf = protdf.drop(gene+\"_Location\",axis=1)\n",
    "protdf = protdf.drop(gene+\"_Mutation_Status\", axis=1)\n",
    "protdf = protdf.drop(\"Sample_Status\",axis=1)\n",
    "\n",
    "'''Make list of columns to be compared using t-tests'''\n",
    "col_list = list(protdf.columns)\n",
    "col_list.remove('Label')\n",
    "\n",
    "print(\"Doing t-test comparisons\\n\")\n",
    "\n",
    "'''Call wrap_ttest, pass in formatted dataframe'''\n",
    "wrap_results = al.wrap_ttest(protdf, 'Label', col_list)\n",
    "\n",
    "'''Print results, if anything significant was found'''\n",
    "if wrap_results is not None:\n",
    "        print(wrap_results)\n",
    "        print(\"\\n\\n\")\n",
    "        \n",
    "        all_significant_comparisons = add_to_all_significant_comparisons(wrap_results, \"Endometrial\", True, all_significant_comparisons)\n"
   ]
  },
  {
   "cell_type": "markdown",
   "metadata": {},
   "source": [
    "## Colon"
   ]
  },
  {
   "cell_type": "markdown",
   "metadata": {},
   "source": [
    "### Test for significant comparisons in any of interacting proteins"
   ]
  },
  {
   "cell_type": "code",
   "execution_count": 8,
   "metadata": {},
   "outputs": [
    {
     "name": "stdout",
     "output_type": "stream",
     "text": [
      "CCND1 did not match any columns in proteomics dataframe. CCND1_proteomics column inserted, but filled with NaN.\n",
      "SMARCD3 did not match any columns in proteomics dataframe. SMARCD3_proteomics column inserted, but filled with NaN.\n",
      "KAT2B did not match any columns in proteomics dataframe. KAT2B_proteomics column inserted, but filled with NaN.\n",
      "DNMT3A did not match any columns in proteomics dataframe. DNMT3A_proteomics column inserted, but filled with NaN.\n",
      "KMT2D did not match any columns in proteomics dataframe. KMT2D_proteomics column inserted, but filled with NaN.\n",
      "SS18 did not match any columns in proteomics dataframe. SS18_proteomics column inserted, but filled with NaN.\n",
      "DPF3 did not match any columns in proteomics dataframe. DPF3_proteomics column inserted, but filled with NaN.\n",
      "KLF1 did not match any columns in proteomics dataframe. KLF1_proteomics column inserted, but filled with NaN.\n",
      "GATA1 did not match any columns in proteomics dataframe. GATA1_proteomics column inserted, but filled with NaN.\n",
      "PGR did not match any columns in proteomics dataframe. PGR_proteomics column inserted, but filled with NaN.\n",
      "HIC1 did not match any columns in proteomics dataframe. HIC1_proteomics column inserted, but filled with NaN.\n",
      "Doing t-test comparisons\n",
      "\n",
      "          Comparison   P_Value\n",
      "0   BAZ1B_proteomics  0.000841\n",
      "1  ARID1A_proteomics  0.001305\n",
      "\n",
      "\n",
      "\n"
     ]
    }
   ],
   "source": [
    "'''Create dataframe in order to do comparisons with wrap_ttest'''\n",
    "protdf = co.join_omics_to_mutations(mutations_genes=[gene], omics_df_name=omics, omics_genes=interacting_proteins)\n",
    "protdf = protdf.loc[protdf['Sample_Status'] == 'Tumor']\n",
    "\n",
    "'''Create the binary valued column needed to do the comparison'''\n",
    "for ind, row in protdf.iterrows():\n",
    "    if row[gene+\"_Mutation_Status\"] != 'Wildtype_Tumor':\n",
    "        protdf.at[ind,'Label'] = 'Mutated'\n",
    "    else:\n",
    "        protdf.at[ind,'Label'] = 'Wildtype'\n",
    "\n",
    "'''Format the dataframe correctly'''\n",
    "protdf = protdf.drop(gene+\"_Mutation\",axis=1)\n",
    "protdf = protdf.drop(gene+\"_Location\",axis=1)\n",
    "protdf = protdf.drop(gene+\"_Mutation_Status\", axis=1)\n",
    "protdf = protdf.drop(\"Sample_Status\",axis=1)\n",
    "\n",
    "'''Make list of columns to be compared using t-tests'''\n",
    "col_list = list(protdf.columns)\n",
    "col_list.remove('Label')\n",
    "\n",
    "print(\"Doing t-test comparisons\\n\")\n",
    "\n",
    "'''Call wrap_ttest, pass in formatted dataframe'''\n",
    "wrap_results = al.wrap_ttest(protdf, 'Label', col_list)\n",
    "\n",
    "'''Print results, if anything significant was found'''\n",
    "if wrap_results is not None:\n",
    "        print(wrap_results)\n",
    "        print(\"\\n\\n\")\n",
    "        \n",
    "        all_significant_comparisons = add_to_all_significant_comparisons(wrap_results, \"Colon\", True, all_significant_comparisons)\n"
   ]
  },
  {
   "cell_type": "markdown",
   "metadata": {},
   "source": [
    "## Ovarian"
   ]
  },
  {
   "cell_type": "markdown",
   "metadata": {},
   "source": [
    "### Test for significant comparisons in any of interacting proteins"
   ]
  },
  {
   "cell_type": "code",
   "execution_count": 9,
   "metadata": {},
   "outputs": [
    {
     "name": "stdout",
     "output_type": "stream",
     "text": [
      "CCND1 did not match any columns in proteomics dataframe. CCND1_proteomics column inserted, but filled with NaN.\n",
      "DPF3 did not match any columns in proteomics dataframe. DPF3_proteomics column inserted, but filled with NaN.\n",
      "GATA1 did not match any columns in proteomics dataframe. GATA1_proteomics column inserted, but filled with NaN.\n",
      "Doing t-test comparisons\n",
      "\n",
      "        Comparison       P_Value\n",
      "0  ING1_proteomics  9.149984e-07\n",
      "\n",
      "\n",
      "\n"
     ]
    }
   ],
   "source": [
    "'''Create dataframe in order to do comparisons with wrap_ttest'''\n",
    "protdf = ov.join_omics_to_mutations(mutations_genes=[gene], omics_df_name=omics, omics_genes=interacting_proteins)\n",
    "protdf = protdf.loc[protdf['Sample_Status'] == 'Tumor']\n",
    "\n",
    "\n",
    "'''Create the binary valued column needed to do the comparison'''\n",
    "for ind, row in protdf.iterrows():\n",
    "    if row[gene+\"_Mutation_Status\"] != 'Wildtype_Tumor':\n",
    "        protdf.loc[ind,'Label'] = 'Mutated'\n",
    "    else:\n",
    "        protdf.loc[ind,'Label'] = 'Wildtype'\n",
    "\n",
    "'''Format the dataframe correctly'''\n",
    "protdf = protdf.drop(gene+\"_Mutation\",axis=1)\n",
    "protdf = protdf.drop(gene+\"_Location\",axis=1)\n",
    "protdf = protdf.drop(gene+\"_Mutation_Status\", axis=1)\n",
    "protdf = protdf.drop(\"Sample_Status\",axis=1)\n",
    "#protdf = protdf.drop_duplicates()\n",
    "protdf = protdf.loc[:,~protdf.columns.duplicated()]\n",
    "\n",
    "\n",
    "'''Make list of columns to be compared using t-tests'''\n",
    "col_list = list(protdf.columns)\n",
    "col_list.remove('Label')\n",
    "\n",
    "print(\"Doing t-test comparisons\\n\")\n",
    "\n",
    "\n",
    "'''Call wrap_ttest, pass in formatted dataframe'''\n",
    "wrap_results = al.wrap_ttest(protdf, 'Label', col_list)\n",
    "\n",
    "'''Print results, if anything significant was found'''\n",
    "if wrap_results is not None:\n",
    "        print(wrap_results)\n",
    "        print(\"\\n\\n\")\n",
    "        \n",
    "        all_significant_comparisons = add_to_all_significant_comparisons(wrap_results, \"Ovarian\", True, all_significant_comparisons)\n",
    "\n"
   ]
  },
  {
   "cell_type": "markdown",
   "metadata": {},
   "source": [
    "# All Proteins: Proteomics"
   ]
  },
  {
   "cell_type": "markdown",
   "metadata": {},
   "source": [
    "## Endometrial"
   ]
  },
  {
   "cell_type": "code",
   "execution_count": 10,
   "metadata": {},
   "outputs": [
    {
     "name": "stdout",
     "output_type": "stream",
     "text": [
      "\n",
      "Gene:  ARID1A\n",
      "Doing t-test comparisons\n",
      "\n",
      "          Comparison       P_Value\n",
      "0  ARID1A_proteomics  1.025018e-10\n",
      "1   MAP1S_proteomics  1.010149e-07\n",
      "2    DPF2_proteomics  2.166609e-07\n",
      "3   KDM4B_proteomics  4.414547e-07\n",
      "4    RRM1_proteomics  4.455870e-07\n",
      "5  MAP7D3_proteomics  4.880890e-07\n",
      "6   CYTH3_proteomics  3.109396e-06\n",
      "7   CEP78_proteomics  3.749172e-06\n",
      "\n",
      "\n",
      "\n"
     ]
    }
   ],
   "source": [
    "try:\n",
    "    print(\"\\nGene: \", gene)\n",
    "\n",
    "    '''Use all proteins'''\n",
    "\n",
    "    '''Create dataframe in order to do comparisons with wrap_ttest'''\n",
    "    protdf = en.join_omics_to_mutations(mutations_genes=[gene], omics_df_name=omics)\n",
    "    protdf = protdf.loc[protdf['Sample_Status'] == 'Tumor']\n",
    "    \n",
    "    '''Create the binary valued column needed to do the comparison'''\n",
    "    for ind, row in protdf.iterrows():\n",
    "        if row[gene+\"_Mutation_Status\"] != 'Wildtype_Tumor':\n",
    "            protdf.at[ind,'Label'] = 'Mutated'\n",
    "        else:\n",
    "            protdf.at[ind,'Label'] = 'Wildtype'\n",
    "\n",
    "    '''Format the datafram correctly'''\n",
    "    protdf = protdf.drop(gene+\"_Mutation\",axis=1)\n",
    "    protdf = protdf.drop(gene+\"_Location\",axis=1)\n",
    "    protdf = protdf.drop(gene+\"_Mutation_Status\", axis=1)\n",
    "    protdf = protdf.drop(\"Sample_Status\",axis=1)\n",
    "\n",
    "    '''Make list of columns to be compared using t-tests'''\n",
    "    col_list = list(protdf.columns)\n",
    "    col_list.remove('Label')\n",
    "\n",
    "    print(\"Doing t-test comparisons\\n\")\n",
    "    \n",
    "    '''Call wrap_ttest, pass in formatted dataframe'''\n",
    "    wrap_results = al.wrap_ttest(protdf, 'Label', col_list)\n",
    "\n",
    "    '''Print results, if anything significant was found'''\n",
    "    if wrap_results is not None:\n",
    "            print(wrap_results)\n",
    "            print(\"\\n\\n\")\n",
    "            \n",
    "            all_significant_comparisons = add_to_all_significant_comparisons(wrap_results, \"Endometrial\", False, all_significant_comparisons)\n",
    "\n",
    "\n",
    "except Exception as e:\n",
    "    print(\"Error in Comparison\")\n",
    "    print(e)"
   ]
  },
  {
   "cell_type": "markdown",
   "metadata": {},
   "source": [
    "## Colon"
   ]
  },
  {
   "cell_type": "code",
   "execution_count": 11,
   "metadata": {},
   "outputs": [
    {
     "name": "stdout",
     "output_type": "stream",
     "text": [
      "\n",
      "Gene:  ARID1A\n",
      "Doing t-test comparisons\n",
      "\n",
      "No significant comparisons.\n"
     ]
    }
   ],
   "source": [
    "try:\n",
    "    print(\"\\nGene: \", gene)\n",
    "    \n",
    "    '''Use all proteins'''\n",
    "    '''Create dataframe in order to do comparisons with wrap_ttest'''\n",
    "    protdf = co.join_omics_to_mutations(mutations_genes=[gene], omics_df_name=omics)\n",
    "    protdf = protdf.loc[protdf['Sample_Status'] == 'Tumor']\n",
    "    \n",
    "    '''Create the binary valued column needed to do the comparison'''\n",
    "    for ind, row in protdf.iterrows():\n",
    "        if row[gene+\"_Mutation_Status\"] != 'Wildtype_Tumor':\n",
    "            protdf.at[ind,'Label'] = 'Mutated'\n",
    "        else:\n",
    "            protdf.at[ind,'Label'] = 'Wildtype'\n",
    "\n",
    "    '''Format the dataframe correctly'''\n",
    "    protdf = protdf.drop(gene+\"_Mutation\",axis=1)\n",
    "    protdf = protdf.drop(gene+\"_Location\",axis=1)\n",
    "    protdf = protdf.drop(gene+\"_Mutation_Status\", axis=1)\n",
    "    protdf = protdf.drop(\"Sample_Status\",axis=1)\n",
    "\n",
    "    '''Make list of columns to be compared using t-tests'''\n",
    "    col_list = list(protdf.columns)\n",
    "    col_list.remove('Label')\n",
    "\n",
    "    print(\"Doing t-test comparisons\\n\")\n",
    "    \n",
    "    '''Call wrap_ttest, pass in formatted dataframe'''\n",
    "    wrap_results = al.wrap_ttest(protdf, 'Label', col_list)\n",
    "\n",
    "    '''Print results, if anything significant was found'''\n",
    "    if wrap_results is not None:\n",
    "            print(wrap_results)\n",
    "            print(\"\\n\\n\")\n",
    "            \n",
    "            all_significant_comparisons = add_to_all_significant_comparisons(wrap_results, \"Colon\", False, all_significant_comparisons)\n",
    "\n",
    "\n",
    "except Exception as e:\n",
    "    print(\"Error in Comparison\")\n",
    "    print(e)"
   ]
  },
  {
   "cell_type": "markdown",
   "metadata": {},
   "source": [
    "## Ovarian"
   ]
  },
  {
   "cell_type": "code",
   "execution_count": 12,
   "metadata": {},
   "outputs": [
    {
     "name": "stdout",
     "output_type": "stream",
     "text": [
      "\n",
      "Gene:  ARID1A\n",
      "Doing t-test comparisons\n",
      "\n",
      "           Comparison       P_Value\n",
      "0    OLFM4_proteomics  4.658204e-07\n",
      "1    TIMP1_proteomics  5.699514e-07\n",
      "2   PAXIP1_proteomics  5.812213e-07\n",
      "3     ING1_proteomics  9.149984e-07\n",
      "4   ZBTB40_proteomics  2.658964e-06\n",
      "5     PIGR_proteomics  2.712638e-06\n",
      "6  TMEM63A_proteomics  3.925646e-06\n",
      "\n",
      "\n",
      "\n"
     ]
    }
   ],
   "source": [
    "print(\"\\nGene: \", gene)\n",
    "\n",
    "'''Use all proteins'''\n",
    "'''Create dataframe in order to do comparisons with wrap_ttest'''\n",
    "protdf = ov.join_omics_to_mutations(mutations_genes=[gene], omics_df_name=omics)\n",
    "protdf = protdf.loc[protdf['Sample_Status'] == 'Tumor']\n",
    "\n",
    "\n",
    "'''Create the binary valued column needed to do the comparison'''\n",
    "for ind, row in protdf.iterrows():\n",
    "    if row[gene+\"_Mutation_Status\"] != 'Wildtype_Tumor':\n",
    "        protdf.loc[ind,'Label'] = 'Mutated'\n",
    "    else:\n",
    "        protdf.loc[ind,'Label'] = 'Wildtype'\n",
    "\n",
    "'''Format the dataframe correctly'''\n",
    "protdf = protdf.drop(gene+\"_Mutation\",axis=1)\n",
    "protdf = protdf.drop(gene+\"_Location\",axis=1)\n",
    "protdf = protdf.drop(gene+\"_Mutation_Status\", axis=1)\n",
    "protdf = protdf.drop(\"Sample_Status\",axis=1)\n",
    "protdf = protdf.loc[:,~protdf.columns.duplicated()]\n",
    "\n",
    "\n",
    "'''Make list of columns to be compared using t-tests'''\n",
    "col_list = list(protdf.columns)\n",
    "col_list.remove('Label')\n",
    "\n",
    "print(\"Doing t-test comparisons\\n\")\n",
    "\n",
    "'''Call wrap_ttest, pass in formatted dataframe'''\n",
    "wrap_results = al.wrap_ttest(protdf, 'Label', col_list)\n",
    "\n",
    "'''Print results, if anything significant was found'''\n",
    "if wrap_results is not None:\n",
    "        print(wrap_results)\n",
    "        print(\"\\n\\n\")\n",
    "        \n",
    "        all_significant_comparisons = add_to_all_significant_comparisons(wrap_results, \"Ovarian\", False, all_significant_comparisons)\n"
   ]
  },
  {
   "cell_type": "markdown",
   "metadata": {},
   "source": [
    "### Print all significant comparisons"
   ]
  },
  {
   "cell_type": "code",
   "execution_count": 13,
   "metadata": {},
   "outputs": [
    {
     "data": {
      "text/html": [
       "<div>\n",
       "<style scoped>\n",
       "    .dataframe tbody tr th:only-of-type {\n",
       "        vertical-align: middle;\n",
       "    }\n",
       "\n",
       "    .dataframe tbody tr th {\n",
       "        vertical-align: top;\n",
       "    }\n",
       "\n",
       "    .dataframe thead th {\n",
       "        text-align: right;\n",
       "    }\n",
       "</style>\n",
       "<table border=\"1\" class=\"dataframe\">\n",
       "  <thead>\n",
       "    <tr style=\"text-align: right;\">\n",
       "      <th></th>\n",
       "      <th>Cancer_Type</th>\n",
       "      <th>Gene</th>\n",
       "      <th>Comparison</th>\n",
       "      <th>Interacting_Protein</th>\n",
       "      <th>P_Value</th>\n",
       "    </tr>\n",
       "  </thead>\n",
       "  <tbody>\n",
       "    <tr>\n",
       "      <th>0</th>\n",
       "      <td>Endometrial</td>\n",
       "      <td>ARID1A</td>\n",
       "      <td>ARID1A_proteomics</td>\n",
       "      <td>True</td>\n",
       "      <td>1.025018e-10</td>\n",
       "    </tr>\n",
       "    <tr>\n",
       "      <th>1</th>\n",
       "      <td>Endometrial</td>\n",
       "      <td>ARID1A</td>\n",
       "      <td>DPF2_proteomics</td>\n",
       "      <td>True</td>\n",
       "      <td>2.166609e-07</td>\n",
       "    </tr>\n",
       "    <tr>\n",
       "      <th>2</th>\n",
       "      <td>Endometrial</td>\n",
       "      <td>ARID1A</td>\n",
       "      <td>SMARCB1_proteomics</td>\n",
       "      <td>True</td>\n",
       "      <td>6.885135e-05</td>\n",
       "    </tr>\n",
       "    <tr>\n",
       "      <th>3</th>\n",
       "      <td>Endometrial</td>\n",
       "      <td>ARID1A</td>\n",
       "      <td>SMARCC2_proteomics</td>\n",
       "      <td>True</td>\n",
       "      <td>8.270473e-05</td>\n",
       "    </tr>\n",
       "    <tr>\n",
       "      <th>4</th>\n",
       "      <td>Endometrial</td>\n",
       "      <td>ARID1A</td>\n",
       "      <td>SMARCE1_proteomics</td>\n",
       "      <td>True</td>\n",
       "      <td>1.498027e-04</td>\n",
       "    </tr>\n",
       "    <tr>\n",
       "      <th>5</th>\n",
       "      <td>Endometrial</td>\n",
       "      <td>ARID1A</td>\n",
       "      <td>SMARCD1_proteomics</td>\n",
       "      <td>True</td>\n",
       "      <td>1.744915e-04</td>\n",
       "    </tr>\n",
       "    <tr>\n",
       "      <th>6</th>\n",
       "      <td>Endometrial</td>\n",
       "      <td>ARID1A</td>\n",
       "      <td>BCL7C_proteomics</td>\n",
       "      <td>True</td>\n",
       "      <td>4.379537e-04</td>\n",
       "    </tr>\n",
       "    <tr>\n",
       "      <th>7</th>\n",
       "      <td>Endometrial</td>\n",
       "      <td>ARID1A</td>\n",
       "      <td>CCND1_proteomics</td>\n",
       "      <td>True</td>\n",
       "      <td>1.499832e-03</td>\n",
       "    </tr>\n",
       "    <tr>\n",
       "      <th>0</th>\n",
       "      <td>Colon</td>\n",
       "      <td>ARID1A</td>\n",
       "      <td>BAZ1B_proteomics</td>\n",
       "      <td>True</td>\n",
       "      <td>8.406289e-04</td>\n",
       "    </tr>\n",
       "    <tr>\n",
       "      <th>1</th>\n",
       "      <td>Colon</td>\n",
       "      <td>ARID1A</td>\n",
       "      <td>ARID1A_proteomics</td>\n",
       "      <td>True</td>\n",
       "      <td>1.305209e-03</td>\n",
       "    </tr>\n",
       "    <tr>\n",
       "      <th>0</th>\n",
       "      <td>Ovarian</td>\n",
       "      <td>ARID1A</td>\n",
       "      <td>ING1_proteomics</td>\n",
       "      <td>True</td>\n",
       "      <td>9.149984e-07</td>\n",
       "    </tr>\n",
       "    <tr>\n",
       "      <th>0</th>\n",
       "      <td>Endometrial</td>\n",
       "      <td>ARID1A</td>\n",
       "      <td>ARID1A_proteomics</td>\n",
       "      <td>False</td>\n",
       "      <td>1.025018e-10</td>\n",
       "    </tr>\n",
       "    <tr>\n",
       "      <th>1</th>\n",
       "      <td>Endometrial</td>\n",
       "      <td>ARID1A</td>\n",
       "      <td>MAP1S_proteomics</td>\n",
       "      <td>False</td>\n",
       "      <td>1.010149e-07</td>\n",
       "    </tr>\n",
       "    <tr>\n",
       "      <th>2</th>\n",
       "      <td>Endometrial</td>\n",
       "      <td>ARID1A</td>\n",
       "      <td>DPF2_proteomics</td>\n",
       "      <td>False</td>\n",
       "      <td>2.166609e-07</td>\n",
       "    </tr>\n",
       "    <tr>\n",
       "      <th>3</th>\n",
       "      <td>Endometrial</td>\n",
       "      <td>ARID1A</td>\n",
       "      <td>KDM4B_proteomics</td>\n",
       "      <td>False</td>\n",
       "      <td>4.414547e-07</td>\n",
       "    </tr>\n",
       "    <tr>\n",
       "      <th>4</th>\n",
       "      <td>Endometrial</td>\n",
       "      <td>ARID1A</td>\n",
       "      <td>RRM1_proteomics</td>\n",
       "      <td>False</td>\n",
       "      <td>4.455870e-07</td>\n",
       "    </tr>\n",
       "    <tr>\n",
       "      <th>5</th>\n",
       "      <td>Endometrial</td>\n",
       "      <td>ARID1A</td>\n",
       "      <td>MAP7D3_proteomics</td>\n",
       "      <td>False</td>\n",
       "      <td>4.880890e-07</td>\n",
       "    </tr>\n",
       "    <tr>\n",
       "      <th>6</th>\n",
       "      <td>Endometrial</td>\n",
       "      <td>ARID1A</td>\n",
       "      <td>CYTH3_proteomics</td>\n",
       "      <td>False</td>\n",
       "      <td>3.109396e-06</td>\n",
       "    </tr>\n",
       "    <tr>\n",
       "      <th>7</th>\n",
       "      <td>Endometrial</td>\n",
       "      <td>ARID1A</td>\n",
       "      <td>CEP78_proteomics</td>\n",
       "      <td>False</td>\n",
       "      <td>3.749172e-06</td>\n",
       "    </tr>\n",
       "    <tr>\n",
       "      <th>0</th>\n",
       "      <td>Ovarian</td>\n",
       "      <td>ARID1A</td>\n",
       "      <td>OLFM4_proteomics</td>\n",
       "      <td>False</td>\n",
       "      <td>4.658204e-07</td>\n",
       "    </tr>\n",
       "    <tr>\n",
       "      <th>1</th>\n",
       "      <td>Ovarian</td>\n",
       "      <td>ARID1A</td>\n",
       "      <td>TIMP1_proteomics</td>\n",
       "      <td>False</td>\n",
       "      <td>5.699514e-07</td>\n",
       "    </tr>\n",
       "    <tr>\n",
       "      <th>2</th>\n",
       "      <td>Ovarian</td>\n",
       "      <td>ARID1A</td>\n",
       "      <td>PAXIP1_proteomics</td>\n",
       "      <td>False</td>\n",
       "      <td>5.812213e-07</td>\n",
       "    </tr>\n",
       "    <tr>\n",
       "      <th>3</th>\n",
       "      <td>Ovarian</td>\n",
       "      <td>ARID1A</td>\n",
       "      <td>ING1_proteomics</td>\n",
       "      <td>False</td>\n",
       "      <td>9.149984e-07</td>\n",
       "    </tr>\n",
       "    <tr>\n",
       "      <th>4</th>\n",
       "      <td>Ovarian</td>\n",
       "      <td>ARID1A</td>\n",
       "      <td>ZBTB40_proteomics</td>\n",
       "      <td>False</td>\n",
       "      <td>2.658964e-06</td>\n",
       "    </tr>\n",
       "    <tr>\n",
       "      <th>5</th>\n",
       "      <td>Ovarian</td>\n",
       "      <td>ARID1A</td>\n",
       "      <td>PIGR_proteomics</td>\n",
       "      <td>False</td>\n",
       "      <td>2.712638e-06</td>\n",
       "    </tr>\n",
       "    <tr>\n",
       "      <th>6</th>\n",
       "      <td>Ovarian</td>\n",
       "      <td>ARID1A</td>\n",
       "      <td>TMEM63A_proteomics</td>\n",
       "      <td>False</td>\n",
       "      <td>3.925646e-06</td>\n",
       "    </tr>\n",
       "  </tbody>\n",
       "</table>\n",
       "</div>"
      ],
      "text/plain": [
       "   Cancer_Type    Gene          Comparison Interacting_Protein       P_Value\n",
       "0  Endometrial  ARID1A   ARID1A_proteomics                True  1.025018e-10\n",
       "1  Endometrial  ARID1A     DPF2_proteomics                True  2.166609e-07\n",
       "2  Endometrial  ARID1A  SMARCB1_proteomics                True  6.885135e-05\n",
       "3  Endometrial  ARID1A  SMARCC2_proteomics                True  8.270473e-05\n",
       "4  Endometrial  ARID1A  SMARCE1_proteomics                True  1.498027e-04\n",
       "5  Endometrial  ARID1A  SMARCD1_proteomics                True  1.744915e-04\n",
       "6  Endometrial  ARID1A    BCL7C_proteomics                True  4.379537e-04\n",
       "7  Endometrial  ARID1A    CCND1_proteomics                True  1.499832e-03\n",
       "0        Colon  ARID1A    BAZ1B_proteomics                True  8.406289e-04\n",
       "1        Colon  ARID1A   ARID1A_proteomics                True  1.305209e-03\n",
       "0      Ovarian  ARID1A     ING1_proteomics                True  9.149984e-07\n",
       "0  Endometrial  ARID1A   ARID1A_proteomics               False  1.025018e-10\n",
       "1  Endometrial  ARID1A    MAP1S_proteomics               False  1.010149e-07\n",
       "2  Endometrial  ARID1A     DPF2_proteomics               False  2.166609e-07\n",
       "3  Endometrial  ARID1A    KDM4B_proteomics               False  4.414547e-07\n",
       "4  Endometrial  ARID1A     RRM1_proteomics               False  4.455870e-07\n",
       "5  Endometrial  ARID1A   MAP7D3_proteomics               False  4.880890e-07\n",
       "6  Endometrial  ARID1A    CYTH3_proteomics               False  3.109396e-06\n",
       "7  Endometrial  ARID1A    CEP78_proteomics               False  3.749172e-06\n",
       "0      Ovarian  ARID1A    OLFM4_proteomics               False  4.658204e-07\n",
       "1      Ovarian  ARID1A    TIMP1_proteomics               False  5.699514e-07\n",
       "2      Ovarian  ARID1A   PAXIP1_proteomics               False  5.812213e-07\n",
       "3      Ovarian  ARID1A     ING1_proteomics               False  9.149984e-07\n",
       "4      Ovarian  ARID1A   ZBTB40_proteomics               False  2.658964e-06\n",
       "5      Ovarian  ARID1A     PIGR_proteomics               False  2.712638e-06\n",
       "6      Ovarian  ARID1A  TMEM63A_proteomics               False  3.925646e-06"
      ]
     },
     "metadata": {},
     "output_type": "display_data"
    }
   ],
   "source": [
    "if len(all_significant_comparisons) > 0:\n",
    "    display(all_significant_comparisons)\n",
    "    \n",
    "else:\n",
    "    print('No Significant Comparisons!')"
   ]
  },
  {
   "cell_type": "markdown",
   "metadata": {},
   "source": [
    "### Write significant comparisons (if any) to shared CSV file"
   ]
  },
  {
   "cell_type": "code",
   "execution_count": 14,
   "metadata": {},
   "outputs": [],
   "source": [
    "existing_results = pd.read_csv(gene+'_Trans_Results.csv')\n",
    "\n",
    "updated_results = pd.concat([existing_results, all_significant_comparisons], sort=False)\n",
    "\n",
    "updated_results.to_csv(path_or_buf = gene + '_Trans_Results.csv', index=False)"
   ]
  }
 ],
 "metadata": {
  "kernelspec": {
   "display_name": "Python 3",
   "language": "python",
   "name": "python3"
  },
  "language_info": {
   "codemirror_mode": {
    "name": "ipython",
    "version": 3
   },
   "file_extension": ".py",
   "mimetype": "text/x-python",
   "name": "python",
   "nbconvert_exporter": "python",
   "pygments_lexer": "ipython3",
   "version": "3.6.8"
  }
 },
 "nbformat": 4,
 "nbformat_minor": 2
}
