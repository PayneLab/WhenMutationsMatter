{
 "cells": [
  {
   "cell_type": "code",
   "execution_count": 1,
   "metadata": {},
   "outputs": [],
   "source": [
    "import pandas as pd\n",
    "import numpy as np\n",
    "import seaborn as sns\n",
    "import matplotlib.pyplot as plt\n",
    "import scipy.stats\n",
    "import gseapy as gp\n",
    "\n",
    "import cptac\n",
    "import cptac.utils as u"
   ]
  },
  {
   "cell_type": "code",
   "execution_count": 2,
   "metadata": {},
   "outputs": [],
   "source": [
    "def format_pval_annotation(pval_symbol, x1, x2, line_start = .05, line_height=.05):\n",
    "    # for manual adjustment to pval annotations\n",
    "    \n",
    "    y, h = line_start, line_height\n",
    "    plt.plot([x1, x1, x2, x2], #draw horizontal line\n",
    "             [y, y+h, y+h, y], #vertical line\n",
    "             lw=1.5, color= '.3')\n",
    "    plt.text((x1+x2)*.5, # half between x coord\n",
    "             y+h, pval_symbol, horizontalalignment='center', verticalalignment='bottom', color = \"black\")\n"
   ]
  },
  {
   "cell_type": "code",
   "execution_count": 3,
   "metadata": {},
   "outputs": [],
   "source": [
    "def get_dataframe(test_gene_in, cancer_object, normal = False):\n",
    "    p = cancer_object.join_omics_to_mutations(\n",
    "        mutations_genes = [gene], omics_df_name = 'proteomics', omics_genes = test_gene_in) \n",
    "    \n",
    "    if normal == False:\n",
    "        p['binary_mutations'] = np.where(\n",
    "                p[gene+'_Mutation_Status'] == 'Wildtype_Tumor', 'Wildtype', 'Mutated')\n",
    "        tumors = p[p.Sample_Status == 'Tumor'] #drop Normal samples\n",
    "        columns_to_drop = [gene+\"_Mutation\", gene+\"_Location\", gene+\"_Mutation_Status\", \"Sample_Status\"]\n",
    "        mut_status = tumors.drop(columns_to_drop, axis = 1)\n",
    "        #mut_status = mut_status.dropna(axis=1,how='all')\n",
    "    else:\n",
    "        p['binary_mutations'] = 'Mutated'\n",
    "        p.loc[p['PTEN_Mutation_Status'] == 'Wildtype_Normal', 'binary_mutations'] = 'Normal'\n",
    "        p.loc[p['PTEN_Mutation_Status'] == 'Wildtype_Tumor', 'binary_mutations'] = 'Wildtype'\n",
    "        columns_to_drop = [gene+\"_Mutation\", gene+\"_Location\", gene+\"_Mutation_Status\", \"Sample_Status\"]\n",
    "        mut_status = p.drop(columns_to_drop, axis = 1)\n",
    "        mut_status = mut_status.dropna(axis=1,how='all')\n",
    "        \n",
    "    return mut_status"
   ]
  },
  {
   "cell_type": "code",
   "execution_count": 4,
   "metadata": {},
   "outputs": [
    {
     "name": "stdout",
     "output_type": "stream",
     "text": [
      "                                    \r"
     ]
    }
   ],
   "source": [
    "gbm = cptac.Gbm()\n",
    "en = cptac.Endometrial()"
   ]
  },
  {
   "cell_type": "code",
   "execution_count": 5,
   "metadata": {},
   "outputs": [],
   "source": [
    "gene = 'PTEN'\n",
    "test_gene = 'PTEN'"
   ]
  },
  {
   "cell_type": "markdown",
   "metadata": {},
   "source": [
    "Gbm"
   ]
  },
  {
   "cell_type": "code",
   "execution_count": 6,
   "metadata": {},
   "outputs": [
    {
     "name": "stderr",
     "output_type": "stream",
     "text": [
      "Warning: In joining the somatic_mutation table, no mutations were found for the following samples, so they were filled with Wildtype_Tumor or Wildtype_Normal: 82 samples for the PTEN gene (C:\\Users\\brittany henderson\\Anaconda3\\envs\\Research\\lib\\site-packages\\ipykernel_launcher.py, line 3)\n"
     ]
    },
    {
     "data": {
      "text/html": [
       "<div>\n",
       "<style scoped>\n",
       "    .dataframe tbody tr th:only-of-type {\n",
       "        vertical-align: middle;\n",
       "    }\n",
       "\n",
       "    .dataframe tbody tr th {\n",
       "        vertical-align: top;\n",
       "    }\n",
       "\n",
       "    .dataframe thead th {\n",
       "        text-align: right;\n",
       "    }\n",
       "</style>\n",
       "<table border=\"1\" class=\"dataframe\">\n",
       "  <thead>\n",
       "    <tr style=\"text-align: right;\">\n",
       "      <th>Name</th>\n",
       "      <th>PTEN_proteomics</th>\n",
       "      <th>binary_mutations</th>\n",
       "    </tr>\n",
       "    <tr>\n",
       "      <th>Sample_ID</th>\n",
       "      <th></th>\n",
       "      <th></th>\n",
       "    </tr>\n",
       "  </thead>\n",
       "  <tbody>\n",
       "    <tr>\n",
       "      <td>S001</td>\n",
       "      <td>-0.431991</td>\n",
       "      <td>Mutated</td>\n",
       "    </tr>\n",
       "    <tr>\n",
       "      <td>S002</td>\n",
       "      <td>-0.265044</td>\n",
       "      <td>Wildtype</td>\n",
       "    </tr>\n",
       "    <tr>\n",
       "      <td>S003</td>\n",
       "      <td>0.390190</td>\n",
       "      <td>Mutated</td>\n",
       "    </tr>\n",
       "    <tr>\n",
       "      <td>S004</td>\n",
       "      <td>-0.915526</td>\n",
       "      <td>Mutated</td>\n",
       "    </tr>\n",
       "    <tr>\n",
       "      <td>S005</td>\n",
       "      <td>0.680291</td>\n",
       "      <td>Wildtype</td>\n",
       "    </tr>\n",
       "    <tr>\n",
       "      <td>...</td>\n",
       "      <td>...</td>\n",
       "      <td>...</td>\n",
       "    </tr>\n",
       "    <tr>\n",
       "      <td>S100</td>\n",
       "      <td>-0.725120</td>\n",
       "      <td>Mutated</td>\n",
       "    </tr>\n",
       "    <tr>\n",
       "      <td>S101</td>\n",
       "      <td>-0.242603</td>\n",
       "      <td>Wildtype</td>\n",
       "    </tr>\n",
       "    <tr>\n",
       "      <td>S102</td>\n",
       "      <td>0.428594</td>\n",
       "      <td>Wildtype</td>\n",
       "    </tr>\n",
       "    <tr>\n",
       "      <td>S104</td>\n",
       "      <td>0.928991</td>\n",
       "      <td>Wildtype</td>\n",
       "    </tr>\n",
       "    <tr>\n",
       "      <td>S105</td>\n",
       "      <td>0.396673</td>\n",
       "      <td>Wildtype</td>\n",
       "    </tr>\n",
       "  </tbody>\n",
       "</table>\n",
       "<p>99 rows × 2 columns</p>\n",
       "</div>"
      ],
      "text/plain": [
       "Name       PTEN_proteomics binary_mutations\n",
       "Sample_ID                                  \n",
       "S001             -0.431991          Mutated\n",
       "S002             -0.265044         Wildtype\n",
       "S003              0.390190          Mutated\n",
       "S004             -0.915526          Mutated\n",
       "S005              0.680291         Wildtype\n",
       "...                    ...              ...\n",
       "S100             -0.725120          Mutated\n",
       "S101             -0.242603         Wildtype\n",
       "S102              0.428594         Wildtype\n",
       "S104              0.928991         Wildtype\n",
       "S105              0.396673         Wildtype\n",
       "\n",
       "[99 rows x 2 columns]"
      ]
     },
     "execution_count": 6,
     "metadata": {},
     "output_type": "execute_result"
    }
   ],
   "source": [
    "gbm_prot = get_dataframe(test_gene, gbm) #normal=True)\n",
    "gbm_prot"
   ]
  },
  {
   "cell_type": "code",
   "execution_count": 7,
   "metadata": {},
   "outputs": [
    {
     "name": "stdout",
     "output_type": "stream",
     "text": [
      "Doing t-test comparisons for GBM\n",
      "\n",
      "1 significant comparisons!\n"
     ]
    },
    {
     "data": {
      "text/html": [
       "<div>\n",
       "<style scoped>\n",
       "    .dataframe tbody tr th:only-of-type {\n",
       "        vertical-align: middle;\n",
       "    }\n",
       "\n",
       "    .dataframe tbody tr th {\n",
       "        vertical-align: top;\n",
       "    }\n",
       "\n",
       "    .dataframe thead th {\n",
       "        text-align: right;\n",
       "    }\n",
       "</style>\n",
       "<table border=\"1\" class=\"dataframe\">\n",
       "  <thead>\n",
       "    <tr style=\"text-align: right;\">\n",
       "      <th></th>\n",
       "      <th>Comparison</th>\n",
       "      <th>P_Value</th>\n",
       "    </tr>\n",
       "  </thead>\n",
       "  <tbody>\n",
       "    <tr>\n",
       "      <td>0</td>\n",
       "      <td>PTEN_proteomics</td>\n",
       "      <td>0.000032</td>\n",
       "    </tr>\n",
       "  </tbody>\n",
       "</table>\n",
       "</div>"
      ],
      "text/plain": [
       "        Comparison   P_Value\n",
       "0  PTEN_proteomics  0.000032"
      ]
     },
     "execution_count": 7,
     "metadata": {},
     "output_type": "execute_result"
    }
   ],
   "source": [
    "gbm_col_list = list(gbm_prot.columns)\n",
    "gbm_col_list.remove('binary_mutations')\n",
    "\n",
    "print(\"Doing t-test comparisons for GBM\\n\")\n",
    "wrap_results = u.wrap_ttest(gbm_prot, 'binary_mutations', gbm_col_list, return_all=True)\n",
    "wrap_results"
   ]
  },
  {
   "cell_type": "code",
   "execution_count": 13,
   "metadata": {},
   "outputs": [
    {
     "data": {
      "image/png": "[encoded data removed]",
      "text/plain": [
       "<Figure size 576x360 with 1 Axes>"
      ]
     },
     "metadata": {},
     "output_type": "display_data"
    }
   ],
   "source": [
    "plt.rcParams['figure.figsize']=(8,5) #size of plot\n",
    "sns.set(font_scale = 1)\n",
    "\n",
    "boxplot = sns.boxplot(x='binary_mutations', y=test_gene+\"_proteomics\", \n",
    "                         order = ['Wildtype', 'Mutated'], data = gbm_prot, showfliers = False)    \n",
    "boxplot.set_title('PTEN Mutation Effect on '+test_gene+' Proteomic Abundance in Gbm Tumors')\n",
    "boxplot = sns.stripplot(x='binary_mutations', y=test_gene+\"_proteomics\", data = gbm_prot, jitter = True, \n",
    "                           color = \".3\", order = ['Wildtype', 'Mutated'], dodge = True)\n",
    "boxplot.set(xlabel = \"\\nPTEN Wildtype/Mutated\", ylabel = test_gene+' Proteomics')\n",
    "\n",
    "format_pval_annotation('*', 0, 1, 1.3)\n",
    "\n",
    "plt.show()\n",
    "plt.clf()\n",
    "plt.close()"
   ]
  },
  {
   "cell_type": "markdown",
   "metadata": {},
   "source": [
    "Endometrial"
   ]
  },
  {
   "cell_type": "code",
   "execution_count": 9,
   "metadata": {},
   "outputs": [
    {
     "name": "stderr",
     "output_type": "stream",
     "text": [
      "Warning: In joining the somatic_mutation table, no mutations were found for the following samples, so they were filled with Wildtype_Tumor or Wildtype_Normal: 69 samples for the PTEN gene (C:\\Users\\brittany henderson\\Anaconda3\\envs\\Research\\lib\\site-packages\\ipykernel_launcher.py, line 3)\n"
     ]
    },
    {
     "data": {
      "text/html": [
       "<div>\n",
       "<style scoped>\n",
       "    .dataframe tbody tr th:only-of-type {\n",
       "        vertical-align: middle;\n",
       "    }\n",
       "\n",
       "    .dataframe tbody tr th {\n",
       "        vertical-align: top;\n",
       "    }\n",
       "\n",
       "    .dataframe thead th {\n",
       "        text-align: right;\n",
       "    }\n",
       "</style>\n",
       "<table border=\"1\" class=\"dataframe\">\n",
       "  <thead>\n",
       "    <tr style=\"text-align: right;\">\n",
       "      <th>Name</th>\n",
       "      <th>PTEN_proteomics</th>\n",
       "      <th>binary_mutations</th>\n",
       "    </tr>\n",
       "    <tr>\n",
       "      <th>Sample_ID</th>\n",
       "      <th></th>\n",
       "      <th></th>\n",
       "    </tr>\n",
       "  </thead>\n",
       "  <tbody>\n",
       "    <tr>\n",
       "      <td>S001</td>\n",
       "      <td>-0.526</td>\n",
       "      <td>Mutated</td>\n",
       "    </tr>\n",
       "    <tr>\n",
       "      <td>S002</td>\n",
       "      <td>-0.830</td>\n",
       "      <td>Mutated</td>\n",
       "    </tr>\n",
       "    <tr>\n",
       "      <td>S003</td>\n",
       "      <td>-0.941</td>\n",
       "      <td>Mutated</td>\n",
       "    </tr>\n",
       "    <tr>\n",
       "      <td>S005</td>\n",
       "      <td>0.730</td>\n",
       "      <td>Mutated</td>\n",
       "    </tr>\n",
       "    <tr>\n",
       "      <td>S006</td>\n",
       "      <td>-0.379</td>\n",
       "      <td>Wildtype</td>\n",
       "    </tr>\n",
       "    <tr>\n",
       "      <td>...</td>\n",
       "      <td>...</td>\n",
       "      <td>...</td>\n",
       "    </tr>\n",
       "    <tr>\n",
       "      <td>S099</td>\n",
       "      <td>-1.910</td>\n",
       "      <td>Mutated</td>\n",
       "    </tr>\n",
       "    <tr>\n",
       "      <td>S100</td>\n",
       "      <td>-0.616</td>\n",
       "      <td>Wildtype</td>\n",
       "    </tr>\n",
       "    <tr>\n",
       "      <td>S101</td>\n",
       "      <td>-0.164</td>\n",
       "      <td>Wildtype</td>\n",
       "    </tr>\n",
       "    <tr>\n",
       "      <td>S102</td>\n",
       "      <td>-0.572</td>\n",
       "      <td>Wildtype</td>\n",
       "    </tr>\n",
       "    <tr>\n",
       "      <td>S103</td>\n",
       "      <td>0.234</td>\n",
       "      <td>Wildtype</td>\n",
       "    </tr>\n",
       "  </tbody>\n",
       "</table>\n",
       "<p>95 rows × 2 columns</p>\n",
       "</div>"
      ],
      "text/plain": [
       "Name       PTEN_proteomics binary_mutations\n",
       "Sample_ID                                  \n",
       "S001                -0.526          Mutated\n",
       "S002                -0.830          Mutated\n",
       "S003                -0.941          Mutated\n",
       "S005                 0.730          Mutated\n",
       "S006                -0.379         Wildtype\n",
       "...                    ...              ...\n",
       "S099                -1.910          Mutated\n",
       "S100                -0.616         Wildtype\n",
       "S101                -0.164         Wildtype\n",
       "S102                -0.572         Wildtype\n",
       "S103                 0.234         Wildtype\n",
       "\n",
       "[95 rows x 2 columns]"
      ]
     },
     "execution_count": 9,
     "metadata": {},
     "output_type": "execute_result"
    }
   ],
   "source": [
    "en_prot = get_dataframe(test_gene, en) #normal=True)\n",
    "en_prot"
   ]
  },
  {
   "cell_type": "code",
   "execution_count": 10,
   "metadata": {},
   "outputs": [
    {
     "name": "stdout",
     "output_type": "stream",
     "text": [
      "Doing t-test comparisons for En\n",
      "\n",
      "1 significant comparisons!\n"
     ]
    },
    {
     "data": {
      "text/html": [
       "<div>\n",
       "<style scoped>\n",
       "    .dataframe tbody tr th:only-of-type {\n",
       "        vertical-align: middle;\n",
       "    }\n",
       "\n",
       "    .dataframe tbody tr th {\n",
       "        vertical-align: top;\n",
       "    }\n",
       "\n",
       "    .dataframe thead th {\n",
       "        text-align: right;\n",
       "    }\n",
       "</style>\n",
       "<table border=\"1\" class=\"dataframe\">\n",
       "  <thead>\n",
       "    <tr style=\"text-align: right;\">\n",
       "      <th></th>\n",
       "      <th>Comparison</th>\n",
       "      <th>P_Value</th>\n",
       "    </tr>\n",
       "  </thead>\n",
       "  <tbody>\n",
       "    <tr>\n",
       "      <td>0</td>\n",
       "      <td>PTEN_proteomics</td>\n",
       "      <td>0.018255</td>\n",
       "    </tr>\n",
       "  </tbody>\n",
       "</table>\n",
       "</div>"
      ],
      "text/plain": [
       "        Comparison   P_Value\n",
       "0  PTEN_proteomics  0.018255"
      ]
     },
     "execution_count": 10,
     "metadata": {},
     "output_type": "execute_result"
    }
   ],
   "source": [
    "en_col_list = list(en_prot.columns)\n",
    "en_col_list.remove('binary_mutations')\n",
    "\n",
    "print(\"Doing t-test comparisons for En\\n\")\n",
    "en_wrap_results = u.wrap_ttest(en_prot, 'binary_mutations', en_col_list, return_all=True)\n",
    "en_wrap_results"
   ]
  },
  {
   "cell_type": "code",
   "execution_count": 12,
   "metadata": {},
   "outputs": [
    {
     "data": {
      "image/png": "[encoded data removed]",
      "text/plain": [
       "<Figure size 576x360 with 1 Axes>"
      ]
     },
     "metadata": {},
     "output_type": "display_data"
    }
   ],
   "source": [
    "plt.rcParams['figure.figsize']=(8,5) #size of plot\n",
    "sns.set(font_scale = 1)\n",
    "\n",
    "boxplot = sns.boxplot(x='binary_mutations', y=test_gene+\"_proteomics\", \n",
    "                         order = ['Wildtype', 'Mutated'], data = en_prot, showfliers = False)    \n",
    "boxplot.set_title('PTEN Mutation Effect on '+test_gene+' Proteomic Abundance in Endometrial Tumors')\n",
    "boxplot = sns.stripplot(x='binary_mutations', y=test_gene+\"_proteomics\", data = en_prot, jitter = True, \n",
    "                           color = \".3\", order = ['Wildtype', 'Mutated'], dodge = True)\n",
    "boxplot.set(xlabel = \"\\nPTEN Wildtype/Mutated\", ylabel = test_gene+' Proteomics')\n",
    "\n",
    "format_pval_annotation('*', 0, 1, 1.6)\n",
    "\n",
    "plt.show()\n",
    "plt.clf()\n",
    "plt.close()"
   ]
  },
  {
   "cell_type": "code",
   "execution_count": 26,
   "metadata": {},
   "outputs": [
    {
     "name": "stderr",
     "output_type": "stream",
     "text": [
      "Warning: Filter value Nonstop_Mutation does not exist in the mutations data for the PTEN gene, though it exists for other genes. (C:\\Users\\brittany henderson\\Anaconda3\\envs\\Research\\lib\\site-packages\\ipykernel_launcher.py, line 4)\n",
      "Warning: Filter value In_Frame_Ins does not exist in the mutations data for the PTEN gene, though it exists for other genes. (C:\\Users\\brittany henderson\\Anaconda3\\envs\\Research\\lib\\site-packages\\ipykernel_launcher.py, line 4)\n",
      "Warning: In joining the somatic_mutation table, no mutations were found for the following samples, so they were filled with Wildtype_Tumor or Wildtype_Normal: 82 samples for the PTEN gene (C:\\Users\\brittany henderson\\Anaconda3\\envs\\Research\\lib\\site-packages\\ipykernel_launcher.py, line 4)\n"
     ]
    },
    {
     "data": {
      "text/html": [
       "<div>\n",
       "<style scoped>\n",
       "    .dataframe tbody tr th:only-of-type {\n",
       "        vertical-align: middle;\n",
       "    }\n",
       "\n",
       "    .dataframe tbody tr th {\n",
       "        vertical-align: top;\n",
       "    }\n",
       "\n",
       "    .dataframe thead th {\n",
       "        text-align: right;\n",
       "    }\n",
       "</style>\n",
       "<table border=\"1\" class=\"dataframe\">\n",
       "  <thead>\n",
       "    <tr style=\"text-align: right;\">\n",
       "      <th>Name</th>\n",
       "      <th>PTEN_proteomics</th>\n",
       "      <th>PTEN_Mutation</th>\n",
       "      <th>PTEN_Location</th>\n",
       "      <th>PTEN_Mutation_Status</th>\n",
       "      <th>Sample_Status</th>\n",
       "    </tr>\n",
       "    <tr>\n",
       "      <th>Sample_ID</th>\n",
       "      <th></th>\n",
       "      <th></th>\n",
       "      <th></th>\n",
       "      <th></th>\n",
       "      <th></th>\n",
       "    </tr>\n",
       "  </thead>\n",
       "  <tbody>\n",
       "    <tr>\n",
       "      <td>S001</td>\n",
       "      <td>-0.431991</td>\n",
       "      <td>Missense_Mutation</td>\n",
       "      <td>p.G251D</td>\n",
       "      <td>Single_mutation</td>\n",
       "      <td>Tumor</td>\n",
       "    </tr>\n",
       "    <tr>\n",
       "      <td>S002</td>\n",
       "      <td>-0.265044</td>\n",
       "      <td>Wildtype_Tumor</td>\n",
       "      <td>No_mutation</td>\n",
       "      <td>Wildtype_Tumor</td>\n",
       "      <td>Tumor</td>\n",
       "    </tr>\n",
       "    <tr>\n",
       "      <td>S003</td>\n",
       "      <td>0.390190</td>\n",
       "      <td>Missense_Mutation</td>\n",
       "      <td>p.C136Y</td>\n",
       "      <td>Single_mutation</td>\n",
       "      <td>Tumor</td>\n",
       "    </tr>\n",
       "    <tr>\n",
       "      <td>S004</td>\n",
       "      <td>-0.915526</td>\n",
       "      <td>Missense_Mutation</td>\n",
       "      <td>p.R173H</td>\n",
       "      <td>Single_mutation</td>\n",
       "      <td>Tumor</td>\n",
       "    </tr>\n",
       "    <tr>\n",
       "      <td>S005</td>\n",
       "      <td>0.680291</td>\n",
       "      <td>Wildtype_Tumor</td>\n",
       "      <td>No_mutation</td>\n",
       "      <td>Wildtype_Tumor</td>\n",
       "      <td>Tumor</td>\n",
       "    </tr>\n",
       "    <tr>\n",
       "      <td>...</td>\n",
       "      <td>...</td>\n",
       "      <td>...</td>\n",
       "      <td>...</td>\n",
       "      <td>...</td>\n",
       "      <td>...</td>\n",
       "    </tr>\n",
       "    <tr>\n",
       "      <td>S111</td>\n",
       "      <td>1.064378</td>\n",
       "      <td>Wildtype_Normal</td>\n",
       "      <td>No_mutation</td>\n",
       "      <td>Wildtype_Normal</td>\n",
       "      <td>Normal</td>\n",
       "    </tr>\n",
       "    <tr>\n",
       "      <td>S112</td>\n",
       "      <td>1.269154</td>\n",
       "      <td>Wildtype_Normal</td>\n",
       "      <td>No_mutation</td>\n",
       "      <td>Wildtype_Normal</td>\n",
       "      <td>Normal</td>\n",
       "    </tr>\n",
       "    <tr>\n",
       "      <td>S113</td>\n",
       "      <td>1.419910</td>\n",
       "      <td>Wildtype_Normal</td>\n",
       "      <td>No_mutation</td>\n",
       "      <td>Wildtype_Normal</td>\n",
       "      <td>Normal</td>\n",
       "    </tr>\n",
       "    <tr>\n",
       "      <td>S114</td>\n",
       "      <td>1.543902</td>\n",
       "      <td>Wildtype_Normal</td>\n",
       "      <td>No_mutation</td>\n",
       "      <td>Wildtype_Normal</td>\n",
       "      <td>Normal</td>\n",
       "    </tr>\n",
       "    <tr>\n",
       "      <td>S115</td>\n",
       "      <td>1.196431</td>\n",
       "      <td>Wildtype_Normal</td>\n",
       "      <td>No_mutation</td>\n",
       "      <td>Wildtype_Normal</td>\n",
       "      <td>Normal</td>\n",
       "    </tr>\n",
       "  </tbody>\n",
       "</table>\n",
       "<p>109 rows × 5 columns</p>\n",
       "</div>"
      ],
      "text/plain": [
       "Name       PTEN_proteomics      PTEN_Mutation PTEN_Location  \\\n",
       "Sample_ID                                                     \n",
       "S001             -0.431991  Missense_Mutation       p.G251D   \n",
       "S002             -0.265044     Wildtype_Tumor   No_mutation   \n",
       "S003              0.390190  Missense_Mutation       p.C136Y   \n",
       "S004             -0.915526  Missense_Mutation       p.R173H   \n",
       "S005              0.680291     Wildtype_Tumor   No_mutation   \n",
       "...                    ...                ...           ...   \n",
       "S111              1.064378    Wildtype_Normal   No_mutation   \n",
       "S112              1.269154    Wildtype_Normal   No_mutation   \n",
       "S113              1.419910    Wildtype_Normal   No_mutation   \n",
       "S114              1.543902    Wildtype_Normal   No_mutation   \n",
       "S115              1.196431    Wildtype_Normal   No_mutation   \n",
       "\n",
       "Name      PTEN_Mutation_Status Sample_Status  \n",
       "Sample_ID                                     \n",
       "S001           Single_mutation         Tumor  \n",
       "S002            Wildtype_Tumor         Tumor  \n",
       "S003           Single_mutation         Tumor  \n",
       "S004           Single_mutation         Tumor  \n",
       "S005            Wildtype_Tumor         Tumor  \n",
       "...                        ...           ...  \n",
       "S111           Wildtype_Normal        Normal  \n",
       "S112           Wildtype_Normal        Normal  \n",
       "S113           Wildtype_Normal        Normal  \n",
       "S114           Wildtype_Normal        Normal  \n",
       "S115           Wildtype_Normal        Normal  \n",
       "\n",
       "[109 rows x 5 columns]"
      ]
     },
     "execution_count": 26,
     "metadata": {},
     "output_type": "execute_result"
    }
   ],
   "source": [
    "p = gbm.join_omics_to_mutations(\n",
    "        mutations_genes = [gene], omics_df_name = 'proteomics', omics_genes = test_gene, \n",
    "        mutations_filter=['Frame_Shift_Del','Frame_Shift_Ins','Nonsense_Mutation', 'Nonstop_Mutation','Splice_Site',\n",
    "                          'Missense_Mutation','In_Frame_Del','In_Frame_Ins'])\n",
    "# only single mutations for PTEN - so this ordering just takes mutation out of list\n",
    "\n",
    "p['PTEN_Mutation'].unique()\n",
    "p"
   ]
  },
  {
   "cell_type": "code",
   "execution_count": 28,
   "metadata": {},
   "outputs": [
    {
     "data": {
      "image/png": "[encoded data removed]",
      "text/plain": [
       "<Figure size 576x360 with 1 Axes>"
      ]
     },
     "metadata": {},
     "output_type": "display_data"
    }
   ],
   "source": [
    "plt.rcParams['figure.figsize']=(8,5) #size of plot\n",
    "sns.set(font_scale = 1)\n",
    "\n",
    "order_in = ['Wildtype_Normal','Wildtype_Tumor','Missense_Mutation','In_Frame_Del','In_Frame_Ins','Nonsense_Mutation',\n",
    "           'Splice_Site', 'Frame_Shift_Del', 'Frame_Shift_Ins']\n",
    "\n",
    "boxplot = sns.boxplot(x='PTEN_Mutation', y=test_gene+\"_proteomics\", \n",
    "                         order = order_in, data = p, showfliers = False)    \n",
    "boxplot.set_title('PTEN Mutation Effect on '+test_gene+' Proteomic Abundance in Gbm Tumors')\n",
    "boxplot = sns.stripplot(x='PTEN_Mutation', y=test_gene+\"_proteomics\", data = p, jitter = True, \n",
    "                           color = \".3\", order = order_in, dodge = True)\n",
    "boxplot.set(xlabel = \"\\nPTEN Wildtype/Mutated\", ylabel = test_gene+' Proteomics')\n",
    "\n",
    "boxplot.set_xticklabels(boxplot.get_xticklabels(),rotation = 80)\n",
    "\n",
    "format_pval_annotation('*', 0, 1, 1.6)\n",
    "\n",
    "plt.show()\n",
    "plt.clf()\n",
    "plt.close()"
   ]
  },
  {
   "cell_type": "code",
   "execution_count": 67,
   "metadata": {},
   "outputs": [
    {
     "name": "stderr",
     "output_type": "stream",
     "text": [
      "Warning: In joining the somatic_mutation table, no mutations were found for the following samples, so they were filled with Wildtype_Tumor or Wildtype_Normal: 72 samples for the PTEN gene (C:\\Users\\brittany henderson\\Anaconda3\\envs\\Research\\lib\\site-packages\\ipykernel_launcher.py, line 2)\n",
      "Warning: CNV data was not found for the following samples, so CNV data columns were filled with NaN for these samples: S020 (C:\\Users\\brittany henderson\\Anaconda3\\envs\\Research\\lib\\site-packages\\ipykernel_launcher.py, line 2)\n"
     ]
    },
    {
     "data": {
      "text/plain": [
       "0.19044152359721608"
      ]
     },
     "execution_count": 67,
     "metadata": {},
     "output_type": "execute_result"
    }
   ],
   "source": [
    "gene_cnv = gbm.join_omics_to_mutations(\n",
    "        mutations_genes = [gene], omics_df_name = 'CNV', omics_genes = test_gene)\n",
    "gene_cnv.loc[gene_cnv['PTEN_CNV'] >= 0.2, 'Status'] = 'CNV_Amplification' #what is .2 considered?\n",
    "gene_cnv.loc[gene_cnv['PTEN_CNV'] < 0.2, 'Status'] = 'CNV_Deletion'\n",
    "#cnv = gene_cnv.rename(columns = {'PTEN_CNV':'PTEN'})\n",
    "#don't combine because that double counts samples? concat doesn't work 'PTEN_Mutation' stays list type\n",
    "gene_cnv"
   ]
  },
  {
   "cell_type": "code",
   "execution_count": 69,
   "metadata": {},
   "outputs": [
    {
     "data": {
      "image/png": "[encoded data removed]",
      "text/plain": [
       "<Figure size 576x360 with 1 Axes>"
      ]
     },
     "metadata": {},
     "output_type": "display_data"
    }
   ],
   "source": [
    "plt.rcParams['figure.figsize']=(8,5) #size of plot\n",
    "sns.set(font_scale = 1)\n",
    "\n",
    "order_in = ['CNV_Amplification','CNV_Deletion']\n",
    "\n",
    "boxplot = sns.boxplot(x='Status', y=test_gene+\"_CNV\", \n",
    "                         order = order_in, data = gene_cnv, showfliers = False)    \n",
    "boxplot.set_title(test_gene+' Copy Number Variants in Gbm Tumors')\n",
    "boxplot = sns.stripplot(x='Status', y=test_gene+\"_CNV\", data = gene_cnv, jitter = True, \n",
    "                           color = \".3\", order = order_in, dodge = True)\n",
    "boxplot.set(xlabel = \"\\nPTEN \", ylabel = test_gene+' CNV')\n",
    "\n",
    "#boxplot.set_xticklabels(boxplot.get_xticklabels(),rotation = 80)\n",
    "\n",
    "#format_pval_annotation('*', 0, 1, 1.6)\n",
    "\n",
    "plt.show()\n",
    "plt.clf()\n",
    "plt.close()"
   ]
  },
  {
   "cell_type": "code",
   "execution_count": 17,
   "metadata": {},
   "outputs": [
    {
     "name": "stderr",
     "output_type": "stream",
     "text": [
      "Warning: In joining the somatic_mutation table, no mutations were found for the following samples, so they were filled with Wildtype_Tumor or Wildtype_Normal: 82 samples for the PTEN gene (C:\\Users\\brittany henderson\\Anaconda3\\envs\\Research\\lib\\site-packages\\ipykernel_launcher.py, line 2)\n"
     ]
    },
    {
     "ename": "TypeError",
     "evalue": "unhashable type: 'list'",
     "output_type": "error",
     "traceback": [
      "\u001b[1;31m---------------------------------------------------------------------------\u001b[0m",
      "\u001b[1;31mTypeError\u001b[0m                                 Traceback (most recent call last)",
      "\u001b[1;32m<ipython-input-17-2e86c9af4852>\u001b[0m in \u001b[0;36m<module>\u001b[1;34m\u001b[0m\n\u001b[0;32m      1\u001b[0m p = gbm.join_omics_to_mutations(\n\u001b[0;32m      2\u001b[0m         mutations_genes = [gene], omics_df_name = 'proteomics', omics_genes = test_gene) \n\u001b[1;32m----> 3\u001b[1;33m \u001b[0mp\u001b[0m\u001b[1;33m[\u001b[0m\u001b[1;34m'PTEN_Mutation'\u001b[0m\u001b[1;33m]\u001b[0m\u001b[1;33m.\u001b[0m\u001b[0munique\u001b[0m\u001b[1;33m(\u001b[0m\u001b[1;33m)\u001b[0m\u001b[1;33m\u001b[0m\u001b[1;33m\u001b[0m\u001b[0m\n\u001b[0m",
      "\u001b[1;32m~\\Anaconda3\\envs\\Research\\lib\\site-packages\\pandas\\core\\series.py\u001b[0m in \u001b[0;36munique\u001b[1;34m(self)\u001b[0m\n\u001b[0;32m   1986\u001b[0m         \u001b[0mCategories\u001b[0m \u001b[1;33m(\u001b[0m\u001b[1;36m3\u001b[0m\u001b[1;33m,\u001b[0m \u001b[0mobject\u001b[0m\u001b[1;33m)\u001b[0m\u001b[1;33m:\u001b[0m \u001b[1;33m[\u001b[0m\u001b[0ma\u001b[0m \u001b[1;33m<\u001b[0m \u001b[0mb\u001b[0m \u001b[1;33m<\u001b[0m \u001b[0mc\u001b[0m\u001b[1;33m]\u001b[0m\u001b[1;33m\u001b[0m\u001b[1;33m\u001b[0m\u001b[0m\n\u001b[0;32m   1987\u001b[0m         \"\"\"\n\u001b[1;32m-> 1988\u001b[1;33m         \u001b[0mresult\u001b[0m \u001b[1;33m=\u001b[0m \u001b[0msuper\u001b[0m\u001b[1;33m(\u001b[0m\u001b[1;33m)\u001b[0m\u001b[1;33m.\u001b[0m\u001b[0munique\u001b[0m\u001b[1;33m(\u001b[0m\u001b[1;33m)\u001b[0m\u001b[1;33m\u001b[0m\u001b[1;33m\u001b[0m\u001b[0m\n\u001b[0m\u001b[0;32m   1989\u001b[0m         \u001b[1;32mreturn\u001b[0m \u001b[0mresult\u001b[0m\u001b[1;33m\u001b[0m\u001b[1;33m\u001b[0m\u001b[0m\n\u001b[0;32m   1990\u001b[0m \u001b[1;33m\u001b[0m\u001b[0m\n",
      "\u001b[1;32m~\\Anaconda3\\envs\\Research\\lib\\site-packages\\pandas\\core\\base.py\u001b[0m in \u001b[0;36munique\u001b[1;34m(self)\u001b[0m\n\u001b[0;32m   1403\u001b[0m             \u001b[1;32mfrom\u001b[0m \u001b[0mpandas\u001b[0m\u001b[1;33m.\u001b[0m\u001b[0mcore\u001b[0m\u001b[1;33m.\u001b[0m\u001b[0malgorithms\u001b[0m \u001b[1;32mimport\u001b[0m \u001b[0munique1d\u001b[0m\u001b[1;33m\u001b[0m\u001b[1;33m\u001b[0m\u001b[0m\n\u001b[0;32m   1404\u001b[0m \u001b[1;33m\u001b[0m\u001b[0m\n\u001b[1;32m-> 1405\u001b[1;33m             \u001b[0mresult\u001b[0m \u001b[1;33m=\u001b[0m \u001b[0munique1d\u001b[0m\u001b[1;33m(\u001b[0m\u001b[0mvalues\u001b[0m\u001b[1;33m)\u001b[0m\u001b[1;33m\u001b[0m\u001b[1;33m\u001b[0m\u001b[0m\n\u001b[0m\u001b[0;32m   1406\u001b[0m \u001b[1;33m\u001b[0m\u001b[0m\n\u001b[0;32m   1407\u001b[0m         \u001b[1;32mreturn\u001b[0m \u001b[0mresult\u001b[0m\u001b[1;33m\u001b[0m\u001b[1;33m\u001b[0m\u001b[0m\n",
      "\u001b[1;32m~\\Anaconda3\\envs\\Research\\lib\\site-packages\\pandas\\core\\algorithms.py\u001b[0m in \u001b[0;36munique\u001b[1;34m(values)\u001b[0m\n\u001b[0;32m    403\u001b[0m \u001b[1;33m\u001b[0m\u001b[0m\n\u001b[0;32m    404\u001b[0m     \u001b[0mtable\u001b[0m \u001b[1;33m=\u001b[0m \u001b[0mhtable\u001b[0m\u001b[1;33m(\u001b[0m\u001b[0mlen\u001b[0m\u001b[1;33m(\u001b[0m\u001b[0mvalues\u001b[0m\u001b[1;33m)\u001b[0m\u001b[1;33m)\u001b[0m\u001b[1;33m\u001b[0m\u001b[1;33m\u001b[0m\u001b[0m\n\u001b[1;32m--> 405\u001b[1;33m     \u001b[0muniques\u001b[0m \u001b[1;33m=\u001b[0m \u001b[0mtable\u001b[0m\u001b[1;33m.\u001b[0m\u001b[0munique\u001b[0m\u001b[1;33m(\u001b[0m\u001b[0mvalues\u001b[0m\u001b[1;33m)\u001b[0m\u001b[1;33m\u001b[0m\u001b[1;33m\u001b[0m\u001b[0m\n\u001b[0m\u001b[0;32m    406\u001b[0m     \u001b[0muniques\u001b[0m \u001b[1;33m=\u001b[0m \u001b[0m_reconstruct_data\u001b[0m\u001b[1;33m(\u001b[0m\u001b[0muniques\u001b[0m\u001b[1;33m,\u001b[0m \u001b[0mdtype\u001b[0m\u001b[1;33m,\u001b[0m \u001b[0moriginal\u001b[0m\u001b[1;33m)\u001b[0m\u001b[1;33m\u001b[0m\u001b[1;33m\u001b[0m\u001b[0m\n\u001b[0;32m    407\u001b[0m     \u001b[1;32mreturn\u001b[0m \u001b[0muniques\u001b[0m\u001b[1;33m\u001b[0m\u001b[1;33m\u001b[0m\u001b[0m\n",
      "\u001b[1;32mpandas\\_libs\\hashtable_class_helper.pxi\u001b[0m in \u001b[0;36mpandas._libs.hashtable.PyObjectHashTable.unique\u001b[1;34m()\u001b[0m\n",
      "\u001b[1;32mpandas\\_libs\\hashtable_class_helper.pxi\u001b[0m in \u001b[0;36mpandas._libs.hashtable.PyObjectHashTable._unique\u001b[1;34m()\u001b[0m\n",
      "\u001b[1;31mTypeError\u001b[0m: unhashable type: 'list'"
     ]
    }
   ],
   "source": [
    "                                                                                           \n",
    "\n",
    "missense_truncation_groups = {'In_Frame_Del': 'M', 'In_Frame_Ins': 'M',\n",
    "            'Missense_Mutation': 'M', 'Frame_Shift_Del': 'T','Nonsense_Mutation': 'T', \n",
    "            'Splice_Site': 'T', 'Frame_Shift_Ins': 'T','Nonstop_Mutation':'T'}\n",
    "    \n",
    "mutations_replaced_M_T = origin_df.replace(missense_truncation_groups)"
   ]
  }
 ],
 "metadata": {
  "kernelspec": {
   "display_name": "Python 3",
   "language": "python",
   "name": "python3"
  },
  "language_info": {
   "codemirror_mode": {
    "name": "ipython",
    "version": 3
   },
   "file_extension": ".py",
   "mimetype": "text/x-python",
   "name": "python",
   "nbconvert_exporter": "python",
   "pygments_lexer": "ipython3",
   "version": "3.7.3"
  }
 },
 "nbformat": 4,
 "nbformat_minor": 2
}
