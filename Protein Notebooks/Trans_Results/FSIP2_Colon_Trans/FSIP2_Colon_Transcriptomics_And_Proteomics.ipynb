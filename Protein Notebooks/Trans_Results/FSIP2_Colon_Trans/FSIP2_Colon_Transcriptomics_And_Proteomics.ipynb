{
 "cells": [
  {
   "cell_type": "markdown",
   "metadata": {},
   "source": [
    "# Comparing effect of MUC5B Mutation in Colon cancer on Transcriptomics and Proteomics"
   ]
  },
  {
   "cell_type": "markdown",
   "metadata": {},
   "source": [
    "Investigate how transcript and proteomic levels are altered when MUC5B is mutated in Colon cancer for proteins who showed significant differences in Transcript expression"
   ]
  },
  {
   "cell_type": "markdown",
   "metadata": {},
   "source": [
    "### Library Imports"
   ]
  },
  {
   "cell_type": "code",
   "execution_count": 1,
   "metadata": {},
   "outputs": [
    {
     "name": "stdout",
     "output_type": "stream",
     "text": [
      "                                    \r"
     ]
    }
   ],
   "source": [
    "import pandas as pd\n",
    "import numpy as np\n",
    "import scipy.stats\n",
    "import collections\n",
    "import re\n",
    "import gseapy as gp\n",
    "from gseapy.plot import barplot, dotplot\n",
    "import matplotlib.pyplot as plt\n",
    "import seaborn as sns\n",
    "import pandas_profiling\n",
    "\n",
    "import cptac\n",
    "import cptac.algorithms as al\n",
    "\n",
    "co = cptac.Colon()"
   ]
  },
  {
   "cell_type": "markdown",
   "metadata": {},
   "source": [
    "### Specify Mutation Gene"
   ]
  },
  {
   "cell_type": "code",
   "execution_count": 2,
   "metadata": {},
   "outputs": [],
   "source": [
    "mutation_gene = 'FSIP2'"
   ]
  },
  {
   "cell_type": "markdown",
   "metadata": {},
   "source": [
    "### Read in Trans Results and filter for Colon cancer and MUC5B Mutation"
   ]
  },
  {
   "cell_type": "code",
   "execution_count": 3,
   "metadata": {},
   "outputs": [],
   "source": [
    "#Read in Results of Trans Analysis\n",
    "Trans_Results = pd.read_csv(\"../Formatted_Trans_Results.csv\")\n",
    "\n",
    "#Filter for only Colon cancer, and only MUC5B Mutation\n",
    "Colon = Trans_Results.loc[Trans_Results['Cancer_Type'] == 'Colon']\n",
    "gene_Colon = Colon.loc[Colon['Mutation_Gene'] == mutation_gene]"
   ]
  },
  {
   "cell_type": "markdown",
   "metadata": {},
   "source": [
    "### Split proteomics and transcriptomics"
   ]
  },
  {
   "cell_type": "code",
   "execution_count": 4,
   "metadata": {},
   "outputs": [],
   "source": [
    "gene_Colon_Prot = gene_Colon.loc[gene_Colon['Omics'] == 'proteomics']\n",
    "gene_Colon_Trans = gene_Colon.loc[gene_Colon['Omics'] == 'transcriptomics']"
   ]
  },
  {
   "cell_type": "markdown",
   "metadata": {},
   "source": [
    "### Display proteomics"
   ]
  },
  {
   "cell_type": "code",
   "execution_count": 5,
   "metadata": {},
   "outputs": [
    {
     "name": "stdout",
     "output_type": "stream",
     "text": [
      "1\n"
     ]
    },
    {
     "data": {
      "text/html": [
       "<div>\n",
       "<style scoped>\n",
       "    .dataframe tbody tr th:only-of-type {\n",
       "        vertical-align: middle;\n",
       "    }\n",
       "\n",
       "    .dataframe tbody tr th {\n",
       "        vertical-align: top;\n",
       "    }\n",
       "\n",
       "    .dataframe thead th {\n",
       "        text-align: right;\n",
       "    }\n",
       "</style>\n",
       "<table border=\"1\" class=\"dataframe\">\n",
       "  <thead>\n",
       "    <tr style=\"text-align: right;\">\n",
       "      <th></th>\n",
       "      <th>Cancer_Type</th>\n",
       "      <th>Mutation_Gene</th>\n",
       "      <th>Protein</th>\n",
       "      <th>Site</th>\n",
       "      <th>Omics</th>\n",
       "      <th>Interacting_Protein</th>\n",
       "      <th>P_Value</th>\n",
       "    </tr>\n",
       "  </thead>\n",
       "  <tbody>\n",
       "    <tr>\n",
       "      <th>541</th>\n",
       "      <td>Colon</td>\n",
       "      <td>FSIP2</td>\n",
       "      <td>PRDX5</td>\n",
       "      <td>NaN</td>\n",
       "      <td>proteomics</td>\n",
       "      <td>False</td>\n",
       "      <td>0.000006</td>\n",
       "    </tr>\n",
       "  </tbody>\n",
       "</table>\n",
       "</div>"
      ],
      "text/plain": [
       "    Cancer_Type Mutation_Gene Protein Site       Omics  Interacting_Protein  \\\n",
       "541       Colon         FSIP2   PRDX5  NaN  proteomics                False   \n",
       "\n",
       "      P_Value  \n",
       "541  0.000006  "
      ]
     },
     "execution_count": 5,
     "metadata": {},
     "output_type": "execute_result"
    }
   ],
   "source": [
    "print(len(gene_Colon_Prot))\n",
    "gene_Colon_Prot"
   ]
  },
  {
   "cell_type": "markdown",
   "metadata": {},
   "source": [
    "### Display transcriptomics"
   ]
  },
  {
   "cell_type": "code",
   "execution_count": 6,
   "metadata": {},
   "outputs": [
    {
     "name": "stdout",
     "output_type": "stream",
     "text": [
      "33\n"
     ]
    },
    {
     "data": {
      "text/html": [
       "<div>\n",
       "<style scoped>\n",
       "    .dataframe tbody tr th:only-of-type {\n",
       "        vertical-align: middle;\n",
       "    }\n",
       "\n",
       "    .dataframe tbody tr th {\n",
       "        vertical-align: top;\n",
       "    }\n",
       "\n",
       "    .dataframe thead th {\n",
       "        text-align: right;\n",
       "    }\n",
       "</style>\n",
       "<table border=\"1\" class=\"dataframe\">\n",
       "  <thead>\n",
       "    <tr style=\"text-align: right;\">\n",
       "      <th></th>\n",
       "      <th>Cancer_Type</th>\n",
       "      <th>Mutation_Gene</th>\n",
       "      <th>Protein</th>\n",
       "      <th>Site</th>\n",
       "      <th>Omics</th>\n",
       "      <th>Interacting_Protein</th>\n",
       "      <th>P_Value</th>\n",
       "    </tr>\n",
       "  </thead>\n",
       "  <tbody>\n",
       "    <tr>\n",
       "      <th>543</th>\n",
       "      <td>Colon</td>\n",
       "      <td>FSIP2</td>\n",
       "      <td>METAP1D</td>\n",
       "      <td>NaN</td>\n",
       "      <td>transcriptomics</td>\n",
       "      <td>True</td>\n",
       "      <td>3.018148e-04</td>\n",
       "    </tr>\n",
       "    <tr>\n",
       "      <th>545</th>\n",
       "      <td>Colon</td>\n",
       "      <td>FSIP2</td>\n",
       "      <td>NR1I2</td>\n",
       "      <td>NaN</td>\n",
       "      <td>transcriptomics</td>\n",
       "      <td>False</td>\n",
       "      <td>1.003627e-08</td>\n",
       "    </tr>\n",
       "    <tr>\n",
       "      <th>546</th>\n",
       "      <td>Colon</td>\n",
       "      <td>FSIP2</td>\n",
       "      <td>CXCL14</td>\n",
       "      <td>NaN</td>\n",
       "      <td>transcriptomics</td>\n",
       "      <td>False</td>\n",
       "      <td>1.083763e-08</td>\n",
       "    </tr>\n",
       "    <tr>\n",
       "      <th>547</th>\n",
       "      <td>Colon</td>\n",
       "      <td>FSIP2</td>\n",
       "      <td>A1CF</td>\n",
       "      <td>NaN</td>\n",
       "      <td>transcriptomics</td>\n",
       "      <td>False</td>\n",
       "      <td>1.228545e-08</td>\n",
       "    </tr>\n",
       "    <tr>\n",
       "      <th>548</th>\n",
       "      <td>Colon</td>\n",
       "      <td>FSIP2</td>\n",
       "      <td>MOGAT3</td>\n",
       "      <td>NaN</td>\n",
       "      <td>transcriptomics</td>\n",
       "      <td>False</td>\n",
       "      <td>3.569568e-08</td>\n",
       "    </tr>\n",
       "    <tr>\n",
       "      <th>549</th>\n",
       "      <td>Colon</td>\n",
       "      <td>FSIP2</td>\n",
       "      <td>PLA2R1</td>\n",
       "      <td>NaN</td>\n",
       "      <td>transcriptomics</td>\n",
       "      <td>False</td>\n",
       "      <td>4.227186e-08</td>\n",
       "    </tr>\n",
       "    <tr>\n",
       "      <th>550</th>\n",
       "      <td>Colon</td>\n",
       "      <td>FSIP2</td>\n",
       "      <td>CYP2B6</td>\n",
       "      <td>NaN</td>\n",
       "      <td>transcriptomics</td>\n",
       "      <td>False</td>\n",
       "      <td>7.609309e-08</td>\n",
       "    </tr>\n",
       "    <tr>\n",
       "      <th>551</th>\n",
       "      <td>Colon</td>\n",
       "      <td>FSIP2</td>\n",
       "      <td>SLC39A5</td>\n",
       "      <td>NaN</td>\n",
       "      <td>transcriptomics</td>\n",
       "      <td>False</td>\n",
       "      <td>8.356187e-08</td>\n",
       "    </tr>\n",
       "    <tr>\n",
       "      <th>552</th>\n",
       "      <td>Colon</td>\n",
       "      <td>FSIP2</td>\n",
       "      <td>PRAP1</td>\n",
       "      <td>NaN</td>\n",
       "      <td>transcriptomics</td>\n",
       "      <td>False</td>\n",
       "      <td>9.341432e-08</td>\n",
       "    </tr>\n",
       "    <tr>\n",
       "      <th>553</th>\n",
       "      <td>Colon</td>\n",
       "      <td>FSIP2</td>\n",
       "      <td>TCF7</td>\n",
       "      <td>NaN</td>\n",
       "      <td>transcriptomics</td>\n",
       "      <td>False</td>\n",
       "      <td>1.597423e-07</td>\n",
       "    </tr>\n",
       "    <tr>\n",
       "      <th>554</th>\n",
       "      <td>Colon</td>\n",
       "      <td>FSIP2</td>\n",
       "      <td>SGK2</td>\n",
       "      <td>NaN</td>\n",
       "      <td>transcriptomics</td>\n",
       "      <td>False</td>\n",
       "      <td>1.647837e-07</td>\n",
       "    </tr>\n",
       "    <tr>\n",
       "      <th>555</th>\n",
       "      <td>Colon</td>\n",
       "      <td>FSIP2</td>\n",
       "      <td>JADE1</td>\n",
       "      <td>NaN</td>\n",
       "      <td>transcriptomics</td>\n",
       "      <td>False</td>\n",
       "      <td>2.013728e-07</td>\n",
       "    </tr>\n",
       "    <tr>\n",
       "      <th>556</th>\n",
       "      <td>Colon</td>\n",
       "      <td>FSIP2</td>\n",
       "      <td>TYMS</td>\n",
       "      <td>NaN</td>\n",
       "      <td>transcriptomics</td>\n",
       "      <td>False</td>\n",
       "      <td>2.079074e-07</td>\n",
       "    </tr>\n",
       "    <tr>\n",
       "      <th>557</th>\n",
       "      <td>Colon</td>\n",
       "      <td>FSIP2</td>\n",
       "      <td>SLC3A1</td>\n",
       "      <td>NaN</td>\n",
       "      <td>transcriptomics</td>\n",
       "      <td>False</td>\n",
       "      <td>3.397795e-07</td>\n",
       "    </tr>\n",
       "    <tr>\n",
       "      <th>558</th>\n",
       "      <td>Colon</td>\n",
       "      <td>FSIP2</td>\n",
       "      <td>LY6G6D</td>\n",
       "      <td>NaN</td>\n",
       "      <td>transcriptomics</td>\n",
       "      <td>False</td>\n",
       "      <td>3.861056e-07</td>\n",
       "    </tr>\n",
       "    <tr>\n",
       "      <th>559</th>\n",
       "      <td>Colon</td>\n",
       "      <td>FSIP2</td>\n",
       "      <td>PLA2G4F</td>\n",
       "      <td>NaN</td>\n",
       "      <td>transcriptomics</td>\n",
       "      <td>False</td>\n",
       "      <td>4.678450e-07</td>\n",
       "    </tr>\n",
       "    <tr>\n",
       "      <th>560</th>\n",
       "      <td>Colon</td>\n",
       "      <td>FSIP2</td>\n",
       "      <td>LINC01560</td>\n",
       "      <td>NaN</td>\n",
       "      <td>transcriptomics</td>\n",
       "      <td>False</td>\n",
       "      <td>4.918297e-07</td>\n",
       "    </tr>\n",
       "    <tr>\n",
       "      <th>561</th>\n",
       "      <td>Colon</td>\n",
       "      <td>FSIP2</td>\n",
       "      <td>DUSP4</td>\n",
       "      <td>NaN</td>\n",
       "      <td>transcriptomics</td>\n",
       "      <td>False</td>\n",
       "      <td>6.523570e-07</td>\n",
       "    </tr>\n",
       "    <tr>\n",
       "      <th>562</th>\n",
       "      <td>Colon</td>\n",
       "      <td>FSIP2</td>\n",
       "      <td>CTTNBP2</td>\n",
       "      <td>NaN</td>\n",
       "      <td>transcriptomics</td>\n",
       "      <td>False</td>\n",
       "      <td>6.909269e-07</td>\n",
       "    </tr>\n",
       "    <tr>\n",
       "      <th>563</th>\n",
       "      <td>Colon</td>\n",
       "      <td>FSIP2</td>\n",
       "      <td>PPP1R14D</td>\n",
       "      <td>NaN</td>\n",
       "      <td>transcriptomics</td>\n",
       "      <td>False</td>\n",
       "      <td>7.413238e-07</td>\n",
       "    </tr>\n",
       "    <tr>\n",
       "      <th>564</th>\n",
       "      <td>Colon</td>\n",
       "      <td>FSIP2</td>\n",
       "      <td>NASP</td>\n",
       "      <td>NaN</td>\n",
       "      <td>transcriptomics</td>\n",
       "      <td>False</td>\n",
       "      <td>8.309954e-07</td>\n",
       "    </tr>\n",
       "    <tr>\n",
       "      <th>565</th>\n",
       "      <td>Colon</td>\n",
       "      <td>FSIP2</td>\n",
       "      <td>RUBCNL</td>\n",
       "      <td>NaN</td>\n",
       "      <td>transcriptomics</td>\n",
       "      <td>False</td>\n",
       "      <td>9.578890e-07</td>\n",
       "    </tr>\n",
       "    <tr>\n",
       "      <th>566</th>\n",
       "      <td>Colon</td>\n",
       "      <td>FSIP2</td>\n",
       "      <td>ACE2</td>\n",
       "      <td>NaN</td>\n",
       "      <td>transcriptomics</td>\n",
       "      <td>False</td>\n",
       "      <td>1.894979e-06</td>\n",
       "    </tr>\n",
       "    <tr>\n",
       "      <th>567</th>\n",
       "      <td>Colon</td>\n",
       "      <td>FSIP2</td>\n",
       "      <td>RTTN</td>\n",
       "      <td>NaN</td>\n",
       "      <td>transcriptomics</td>\n",
       "      <td>False</td>\n",
       "      <td>2.101476e-06</td>\n",
       "    </tr>\n",
       "    <tr>\n",
       "      <th>568</th>\n",
       "      <td>Colon</td>\n",
       "      <td>FSIP2</td>\n",
       "      <td>SSUH2</td>\n",
       "      <td>NaN</td>\n",
       "      <td>transcriptomics</td>\n",
       "      <td>False</td>\n",
       "      <td>2.117385e-06</td>\n",
       "    </tr>\n",
       "    <tr>\n",
       "      <th>569</th>\n",
       "      <td>Colon</td>\n",
       "      <td>FSIP2</td>\n",
       "      <td>TNNC2</td>\n",
       "      <td>NaN</td>\n",
       "      <td>transcriptomics</td>\n",
       "      <td>False</td>\n",
       "      <td>2.293959e-06</td>\n",
       "    </tr>\n",
       "    <tr>\n",
       "      <th>570</th>\n",
       "      <td>Colon</td>\n",
       "      <td>FSIP2</td>\n",
       "      <td>LINC00526</td>\n",
       "      <td>NaN</td>\n",
       "      <td>transcriptomics</td>\n",
       "      <td>False</td>\n",
       "      <td>2.359268e-06</td>\n",
       "    </tr>\n",
       "    <tr>\n",
       "      <th>571</th>\n",
       "      <td>Colon</td>\n",
       "      <td>FSIP2</td>\n",
       "      <td>IYD</td>\n",
       "      <td>NaN</td>\n",
       "      <td>transcriptomics</td>\n",
       "      <td>False</td>\n",
       "      <td>2.930960e-06</td>\n",
       "    </tr>\n",
       "    <tr>\n",
       "      <th>572</th>\n",
       "      <td>Colon</td>\n",
       "      <td>FSIP2</td>\n",
       "      <td>MAPK12</td>\n",
       "      <td>NaN</td>\n",
       "      <td>transcriptomics</td>\n",
       "      <td>False</td>\n",
       "      <td>2.947136e-06</td>\n",
       "    </tr>\n",
       "    <tr>\n",
       "      <th>573</th>\n",
       "      <td>Colon</td>\n",
       "      <td>FSIP2</td>\n",
       "      <td>ADNP2</td>\n",
       "      <td>NaN</td>\n",
       "      <td>transcriptomics</td>\n",
       "      <td>False</td>\n",
       "      <td>3.279001e-06</td>\n",
       "    </tr>\n",
       "    <tr>\n",
       "      <th>574</th>\n",
       "      <td>Colon</td>\n",
       "      <td>FSIP2</td>\n",
       "      <td>RBFA</td>\n",
       "      <td>NaN</td>\n",
       "      <td>transcriptomics</td>\n",
       "      <td>False</td>\n",
       "      <td>3.462061e-06</td>\n",
       "    </tr>\n",
       "    <tr>\n",
       "      <th>575</th>\n",
       "      <td>Colon</td>\n",
       "      <td>FSIP2</td>\n",
       "      <td>PHOSPHO2</td>\n",
       "      <td>NaN</td>\n",
       "      <td>transcriptomics</td>\n",
       "      <td>False</td>\n",
       "      <td>3.499230e-06</td>\n",
       "    </tr>\n",
       "    <tr>\n",
       "      <th>576</th>\n",
       "      <td>Colon</td>\n",
       "      <td>FSIP2</td>\n",
       "      <td>TINAG</td>\n",
       "      <td>NaN</td>\n",
       "      <td>transcriptomics</td>\n",
       "      <td>False</td>\n",
       "      <td>3.699220e-06</td>\n",
       "    </tr>\n",
       "  </tbody>\n",
       "</table>\n",
       "</div>"
      ],
      "text/plain": [
       "    Cancer_Type Mutation_Gene    Protein Site            Omics  \\\n",
       "543       Colon         FSIP2    METAP1D  NaN  transcriptomics   \n",
       "545       Colon         FSIP2      NR1I2  NaN  transcriptomics   \n",
       "546       Colon         FSIP2     CXCL14  NaN  transcriptomics   \n",
       "547       Colon         FSIP2       A1CF  NaN  transcriptomics   \n",
       "548       Colon         FSIP2     MOGAT3  NaN  transcriptomics   \n",
       "549       Colon         FSIP2     PLA2R1  NaN  transcriptomics   \n",
       "550       Colon         FSIP2     CYP2B6  NaN  transcriptomics   \n",
       "551       Colon         FSIP2    SLC39A5  NaN  transcriptomics   \n",
       "552       Colon         FSIP2      PRAP1  NaN  transcriptomics   \n",
       "553       Colon         FSIP2       TCF7  NaN  transcriptomics   \n",
       "554       Colon         FSIP2       SGK2  NaN  transcriptomics   \n",
       "555       Colon         FSIP2      JADE1  NaN  transcriptomics   \n",
       "556       Colon         FSIP2       TYMS  NaN  transcriptomics   \n",
       "557       Colon         FSIP2     SLC3A1  NaN  transcriptomics   \n",
       "558       Colon         FSIP2     LY6G6D  NaN  transcriptomics   \n",
       "559       Colon         FSIP2    PLA2G4F  NaN  transcriptomics   \n",
       "560       Colon         FSIP2  LINC01560  NaN  transcriptomics   \n",
       "561       Colon         FSIP2      DUSP4  NaN  transcriptomics   \n",
       "562       Colon         FSIP2    CTTNBP2  NaN  transcriptomics   \n",
       "563       Colon         FSIP2   PPP1R14D  NaN  transcriptomics   \n",
       "564       Colon         FSIP2       NASP  NaN  transcriptomics   \n",
       "565       Colon         FSIP2     RUBCNL  NaN  transcriptomics   \n",
       "566       Colon         FSIP2       ACE2  NaN  transcriptomics   \n",
       "567       Colon         FSIP2       RTTN  NaN  transcriptomics   \n",
       "568       Colon         FSIP2      SSUH2  NaN  transcriptomics   \n",
       "569       Colon         FSIP2      TNNC2  NaN  transcriptomics   \n",
       "570       Colon         FSIP2  LINC00526  NaN  transcriptomics   \n",
       "571       Colon         FSIP2        IYD  NaN  transcriptomics   \n",
       "572       Colon         FSIP2     MAPK12  NaN  transcriptomics   \n",
       "573       Colon         FSIP2      ADNP2  NaN  transcriptomics   \n",
       "574       Colon         FSIP2       RBFA  NaN  transcriptomics   \n",
       "575       Colon         FSIP2   PHOSPHO2  NaN  transcriptomics   \n",
       "576       Colon         FSIP2      TINAG  NaN  transcriptomics   \n",
       "\n",
       "     Interacting_Protein       P_Value  \n",
       "543                 True  3.018148e-04  \n",
       "545                False  1.003627e-08  \n",
       "546                False  1.083763e-08  \n",
       "547                False  1.228545e-08  \n",
       "548                False  3.569568e-08  \n",
       "549                False  4.227186e-08  \n",
       "550                False  7.609309e-08  \n",
       "551                False  8.356187e-08  \n",
       "552                False  9.341432e-08  \n",
       "553                False  1.597423e-07  \n",
       "554                False  1.647837e-07  \n",
       "555                False  2.013728e-07  \n",
       "556                False  2.079074e-07  \n",
       "557                False  3.397795e-07  \n",
       "558                False  3.861056e-07  \n",
       "559                False  4.678450e-07  \n",
       "560                False  4.918297e-07  \n",
       "561                False  6.523570e-07  \n",
       "562                False  6.909269e-07  \n",
       "563                False  7.413238e-07  \n",
       "564                False  8.309954e-07  \n",
       "565                False  9.578890e-07  \n",
       "566                False  1.894979e-06  \n",
       "567                False  2.101476e-06  \n",
       "568                False  2.117385e-06  \n",
       "569                False  2.293959e-06  \n",
       "570                False  2.359268e-06  \n",
       "571                False  2.930960e-06  \n",
       "572                False  2.947136e-06  \n",
       "573                False  3.279001e-06  \n",
       "574                False  3.462061e-06  \n",
       "575                False  3.499230e-06  \n",
       "576                False  3.699220e-06  "
      ]
     },
     "execution_count": 6,
     "metadata": {},
     "output_type": "execute_result"
    }
   ],
   "source": [
    "print(len(gene_Colon_Trans))\n",
    "gene_Colon_Trans"
   ]
  },
  {
   "cell_type": "markdown",
   "metadata": {},
   "source": [
    "<br><br>When FSIP2 is mutated in colon cancer, 33 transcripts are significantly altered, yet only 1 proteomics <br><br>"
   ]
  },
  {
   "cell_type": "markdown",
   "metadata": {},
   "source": [
    "### Generate lists of proteins significantly altered in proteomic expression and transcript expression when FSIP2 mutated"
   ]
  },
  {
   "cell_type": "code",
   "execution_count": 7,
   "metadata": {},
   "outputs": [],
   "source": [
    "prots_gene_Colon = list(gene_Colon_Prot['Protein'])\n",
    "rna_gene_Colon = list(gene_Colon_Trans['Protein'])"
   ]
  },
  {
   "cell_type": "markdown",
   "metadata": {},
   "source": [
    "### Make plot illustrating $Δ$ transcriptomics and  $Δ$ proteomics the above genes showing altered transcripts when FSIP2 is mutated"
   ]
  },
  {
   "cell_type": "markdown",
   "metadata": {},
   "source": [
    "### Compute $Δ$ proteomics for above proteins"
   ]
  },
  {
   "cell_type": "code",
   "execution_count": 8,
   "metadata": {},
   "outputs": [
    {
     "name": "stdout",
     "output_type": "stream",
     "text": [
      "METAP1D did not match any columns in proteomics dataframe. METAP1D_proteomics column inserted, but filled with NaN.\n",
      "NR1I2 did not match any columns in proteomics dataframe. NR1I2_proteomics column inserted, but filled with NaN.\n",
      "MOGAT3 did not match any columns in proteomics dataframe. MOGAT3_proteomics column inserted, but filled with NaN.\n",
      "PLA2R1 did not match any columns in proteomics dataframe. PLA2R1_proteomics column inserted, but filled with NaN.\n",
      "CYP2B6 did not match any columns in proteomics dataframe. CYP2B6_proteomics column inserted, but filled with NaN.\n",
      "SLC39A5 did not match any columns in proteomics dataframe. SLC39A5_proteomics column inserted, but filled with NaN.\n",
      "TCF7 did not match any columns in proteomics dataframe. TCF7_proteomics column inserted, but filled with NaN.\n",
      "JADE1 did not match any columns in proteomics dataframe. JADE1_proteomics column inserted, but filled with NaN.\n",
      "SLC3A1 did not match any columns in proteomics dataframe. SLC3A1_proteomics column inserted, but filled with NaN.\n",
      "LY6G6D did not match any columns in proteomics dataframe. LY6G6D_proteomics column inserted, but filled with NaN.\n",
      "PLA2G4F did not match any columns in proteomics dataframe. PLA2G4F_proteomics column inserted, but filled with NaN.\n",
      "LINC01560 did not match any columns in proteomics dataframe. LINC01560_proteomics column inserted, but filled with NaN.\n",
      "DUSP4 did not match any columns in proteomics dataframe. DUSP4_proteomics column inserted, but filled with NaN.\n",
      "CTTNBP2 did not match any columns in proteomics dataframe. CTTNBP2_proteomics column inserted, but filled with NaN.\n",
      "RUBCNL did not match any columns in proteomics dataframe. RUBCNL_proteomics column inserted, but filled with NaN.\n",
      "RTTN did not match any columns in proteomics dataframe. RTTN_proteomics column inserted, but filled with NaN.\n",
      "SSUH2 did not match any columns in proteomics dataframe. SSUH2_proteomics column inserted, but filled with NaN.\n",
      "TNNC2 did not match any columns in proteomics dataframe. TNNC2_proteomics column inserted, but filled with NaN.\n",
      "LINC00526 did not match any columns in proteomics dataframe. LINC00526_proteomics column inserted, but filled with NaN.\n",
      "MAPK12 did not match any columns in proteomics dataframe. MAPK12_proteomics column inserted, but filled with NaN.\n",
      "ADNP2 did not match any columns in proteomics dataframe. ADNP2_proteomics column inserted, but filled with NaN.\n",
      "RBFA did not match any columns in proteomics dataframe. RBFA_proteomics column inserted, but filled with NaN.\n",
      "PHOSPHO2 did not match any columns in proteomics dataframe. PHOSPHO2_proteomics column inserted, but filled with NaN.\n",
      "TINAG did not match any columns in proteomics dataframe. TINAG_proteomics column inserted, but filled with NaN.\n"
     ]
    }
   ],
   "source": [
    "delta_proteomics = {}\n",
    "\n",
    "#Loop through proteins found in both lists\n",
    "for prot in rna_gene_Colon:\n",
    "    #Use join omics to mutations to compare proteomic levels when mutation gene is mutated\n",
    "    proteomic_df = co.join_omics_to_mutations(mutations_genes=mutation_gene, omics_df_name='proteomics',omics_genes=prot)\n",
    "    \n",
    "    #Use only Tumor samples\n",
    "    proteomic_df = proteomic_df.loc[proteomic_df['Sample_Status'] == 'Tumor']\n",
    "    \n",
    "    #Split into mutated and wildtype groups\n",
    "    mutated_df = proteomic_df.loc[proteomic_df[mutation_gene + '_Mutation_Status'] != 'Wildtype_Tumor']\n",
    "    wt_df = proteomic_df.loc[proteomic_df[mutation_gene + '_Mutation_Status'] == 'Wildtype_Tumor']\n",
    "    \n",
    "    #Compute mean proteomic values for both mutated and wildtype groups\n",
    "    mutated_mean = np.mean(mutated_df[prot + '_proteomics'])\n",
    "    wt_mean = np.mean(wt_df[prot + '_proteomics'])\n",
    "    \n",
    "    #Compute Delta (mutated mean - wildtype mean) proteomic value\n",
    "    delta = mutated_mean - wt_mean\n",
    "    \n",
    "    #Store values in Dictionary\n",
    "    delta_proteomics[prot] = delta"
   ]
  },
  {
   "cell_type": "markdown",
   "metadata": {},
   "source": [
    "### Print $Δ$ proteomics"
   ]
  },
  {
   "cell_type": "code",
   "execution_count": 9,
   "metadata": {},
   "outputs": [
    {
     "data": {
      "text/plain": [
       "{'METAP1D': nan,\n",
       " 'NR1I2': nan,\n",
       " 'CXCL14': -0.42686785714285713,\n",
       " 'A1CF': -0.44888815789473685,\n",
       " 'MOGAT3': nan,\n",
       " 'PLA2R1': nan,\n",
       " 'CYP2B6': nan,\n",
       " 'SLC39A5': nan,\n",
       " 'PRAP1': 0.21999743589743584,\n",
       " 'TCF7': nan,\n",
       " 'SGK2': -0.4417820512820513,\n",
       " 'JADE1': nan,\n",
       " 'TYMS': 0.9397444444444445,\n",
       " 'SLC3A1': nan,\n",
       " 'LY6G6D': nan,\n",
       " 'PLA2G4F': nan,\n",
       " 'LINC01560': nan,\n",
       " 'DUSP4': nan,\n",
       " 'CTTNBP2': nan,\n",
       " 'PPP1R14D': -0.33119527777777785,\n",
       " 'NASP': 0.34285746753246743,\n",
       " 'RUBCNL': nan,\n",
       " 'ACE2': -0.5953502941176471,\n",
       " 'RTTN': nan,\n",
       " 'SSUH2': nan,\n",
       " 'TNNC2': nan,\n",
       " 'LINC00526': nan,\n",
       " 'IYD': -0.4603526470588233,\n",
       " 'MAPK12': nan,\n",
       " 'ADNP2': nan,\n",
       " 'RBFA': nan,\n",
       " 'PHOSPHO2': nan,\n",
       " 'TINAG': nan}"
      ]
     },
     "execution_count": 9,
     "metadata": {},
     "output_type": "execute_result"
    }
   ],
   "source": [
    "delta_proteomics"
   ]
  },
  {
   "cell_type": "markdown",
   "metadata": {},
   "source": [
    "### Compute $Δ$ transcriptomics for above proteins"
   ]
  },
  {
   "cell_type": "code",
   "execution_count": 10,
   "metadata": {},
   "outputs": [],
   "source": [
    "delta_transcriptomics = {}\n",
    "\n",
    "#Loop through proteins found in both lists\n",
    "for prot in rna_gene_Colon:\n",
    "    #Use join omics to mutations to compare transcript levels when mutation gene is mutated\n",
    "    transcript_df = co.join_omics_to_mutations(mutations_genes=mutation_gene, omics_df_name='transcriptomics',omics_genes=prot)\n",
    "    \n",
    "    #Use only Tumor samples\n",
    "    transcript_df = transcript_df.loc[transcript_df['Sample_Status'] == 'Tumor']\n",
    "    \n",
    "    #Split into mutated and wildtype groups\n",
    "    mutated_df = transcript_df.loc[transcript_df[mutation_gene + '_Mutation_Status'] != 'Wildtype_Tumor']\n",
    "    wt_df = transcript_df.loc[transcript_df[mutation_gene + '_Mutation_Status'] == 'Wildtype_Tumor']\n",
    "    \n",
    "    #Compute mean transcriptomic values for both mutated and wildtype groups\n",
    "    mutated_mean = np.mean(mutated_df[prot + '_transcriptomics'])\n",
    "    wt_mean = np.mean(wt_df[prot + '_transcriptomics'])\n",
    "    \n",
    "    #Compute Delta (mutated mean - wildtype mean) transcriptomics value\n",
    "    delta = mutated_mean - wt_mean\n",
    "    \n",
    "    #Store values in Dictionary\n",
    "    delta_transcriptomics[prot] = delta"
   ]
  },
  {
   "cell_type": "markdown",
   "metadata": {},
   "source": [
    "### Print $Δ$ transcriptomics"
   ]
  },
  {
   "cell_type": "code",
   "execution_count": 11,
   "metadata": {},
   "outputs": [
    {
     "data": {
      "text/plain": [
       "{'METAP1D': -0.38665952380952273,\n",
       " 'NR1I2': -2.020522943722943,\n",
       " 'CXCL14': -2.1032519480519483,\n",
       " 'A1CF': -1.853553354978354,\n",
       " 'MOGAT3': -1.8804727272727266,\n",
       " 'PLA2R1': -1.149883766233767,\n",
       " 'CYP2B6': -3.03496471861472,\n",
       " 'SLC39A5': -2.029318290043289,\n",
       " 'PRAP1': -3.1394294372294382,\n",
       " 'TCF7': -1.125695454545454,\n",
       " 'SGK2': -1.675624675324678,\n",
       " 'JADE1': 0.481019913419912,\n",
       " 'TYMS': 0.970732683982682,\n",
       " 'SLC3A1': -2.162056060606064,\n",
       " 'LY6G6D': -4.394509848484848,\n",
       " 'PLA2G4F': -1.4247767316017335,\n",
       " 'LINC01560': -0.6952382034632016,\n",
       " 'DUSP4': 1.7446593073593064,\n",
       " 'CTTNBP2': -1.9989086580086566,\n",
       " 'PPP1R14D': -1.48373322510822,\n",
       " 'NASP': 0.4656879870129895,\n",
       " 'RUBCNL': -1.901150541125542,\n",
       " 'ACE2': -2.363695021645019,\n",
       " 'RTTN': 0.5837458874458887,\n",
       " 'SSUH2': -1.7003747835497847,\n",
       " 'TNNC2': -2.365084740259739,\n",
       " 'LINC00526': -1.1946484848484857,\n",
       " 'IYD': -1.4298047619047622,\n",
       " 'MAPK12': 1.0697611471861483,\n",
       " 'ADNP2': 0.4617721861471793,\n",
       " 'RBFA': 0.5088139610389621,\n",
       " 'PHOSPHO2': -0.6406575757575723,\n",
       " 'TINAG': -1.8825873376623354}"
      ]
     },
     "execution_count": 11,
     "metadata": {},
     "output_type": "execute_result"
    }
   ],
   "source": [
    "delta_transcriptomics"
   ]
  },
  {
   "cell_type": "markdown",
   "metadata": {},
   "source": [
    "## Illustrate $Δ$ proteomics and $Δ$ transcriptomics in a plot"
   ]
  },
  {
   "cell_type": "markdown",
   "metadata": {},
   "source": [
    "### Format data in dataframe"
   ]
  },
  {
   "cell_type": "code",
   "execution_count": 12,
   "metadata": {},
   "outputs": [],
   "source": [
    "#Make Pandas Dataframe\n",
    "delta_proteomic_transcriptomic_df = pd.DataFrame(columns=['Protein','Delta_Proteomics','Delta_Transcriptomics'])\n",
    "\n",
    "#Fill with values from delta proteomics and delta transcriptomics dictionaries\n",
    "for key, val in delta_proteomics.items():\n",
    "    delta_proteomic_transcriptomic_df = delta_proteomic_transcriptomic_df.append({'Protein':key, 'Delta_Proteomics':val,'Delta_Transcriptomics':delta_transcriptomics[key]}, ignore_index = True)"
   ]
  },
  {
   "cell_type": "code",
   "execution_count": 13,
   "metadata": {},
   "outputs": [
    {
     "data": {
      "text/html": [
       "<div>\n",
       "<style scoped>\n",
       "    .dataframe tbody tr th:only-of-type {\n",
       "        vertical-align: middle;\n",
       "    }\n",
       "\n",
       "    .dataframe tbody tr th {\n",
       "        vertical-align: top;\n",
       "    }\n",
       "\n",
       "    .dataframe thead th {\n",
       "        text-align: right;\n",
       "    }\n",
       "</style>\n",
       "<table border=\"1\" class=\"dataframe\">\n",
       "  <thead>\n",
       "    <tr style=\"text-align: right;\">\n",
       "      <th></th>\n",
       "      <th>Protein</th>\n",
       "      <th>Delta_Proteomics</th>\n",
       "      <th>Delta_Transcriptomics</th>\n",
       "    </tr>\n",
       "  </thead>\n",
       "  <tbody>\n",
       "    <tr>\n",
       "      <th>2</th>\n",
       "      <td>CXCL14</td>\n",
       "      <td>-0.426868</td>\n",
       "      <td>-2.103252</td>\n",
       "    </tr>\n",
       "    <tr>\n",
       "      <th>3</th>\n",
       "      <td>A1CF</td>\n",
       "      <td>-0.448888</td>\n",
       "      <td>-1.853553</td>\n",
       "    </tr>\n",
       "    <tr>\n",
       "      <th>8</th>\n",
       "      <td>PRAP1</td>\n",
       "      <td>0.219997</td>\n",
       "      <td>-3.139429</td>\n",
       "    </tr>\n",
       "    <tr>\n",
       "      <th>10</th>\n",
       "      <td>SGK2</td>\n",
       "      <td>-0.441782</td>\n",
       "      <td>-1.675625</td>\n",
       "    </tr>\n",
       "    <tr>\n",
       "      <th>12</th>\n",
       "      <td>TYMS</td>\n",
       "      <td>0.939744</td>\n",
       "      <td>0.970733</td>\n",
       "    </tr>\n",
       "    <tr>\n",
       "      <th>19</th>\n",
       "      <td>PPP1R14D</td>\n",
       "      <td>-0.331195</td>\n",
       "      <td>-1.483733</td>\n",
       "    </tr>\n",
       "    <tr>\n",
       "      <th>20</th>\n",
       "      <td>NASP</td>\n",
       "      <td>0.342857</td>\n",
       "      <td>0.465688</td>\n",
       "    </tr>\n",
       "    <tr>\n",
       "      <th>22</th>\n",
       "      <td>ACE2</td>\n",
       "      <td>-0.595350</td>\n",
       "      <td>-2.363695</td>\n",
       "    </tr>\n",
       "    <tr>\n",
       "      <th>27</th>\n",
       "      <td>IYD</td>\n",
       "      <td>-0.460353</td>\n",
       "      <td>-1.429805</td>\n",
       "    </tr>\n",
       "  </tbody>\n",
       "</table>\n",
       "</div>"
      ],
      "text/plain": [
       "     Protein  Delta_Proteomics  Delta_Transcriptomics\n",
       "2     CXCL14         -0.426868              -2.103252\n",
       "3       A1CF         -0.448888              -1.853553\n",
       "8      PRAP1          0.219997              -3.139429\n",
       "10      SGK2         -0.441782              -1.675625\n",
       "12      TYMS          0.939744               0.970733\n",
       "19  PPP1R14D         -0.331195              -1.483733\n",
       "20      NASP          0.342857               0.465688\n",
       "22      ACE2         -0.595350              -2.363695\n",
       "27       IYD         -0.460353              -1.429805"
      ]
     },
     "execution_count": 13,
     "metadata": {},
     "output_type": "execute_result"
    }
   ],
   "source": [
    "delta_proteomic_transcriptomic_df = delta_proteomic_transcriptomic_df.dropna(axis = 0)\n",
    "delta_proteomic_transcriptomic_df"
   ]
  },
  {
   "cell_type": "markdown",
   "metadata": {},
   "source": [
    "### Plot $Δ$ proteomics and $Δ$ transcriptomics in a scatter plot, along with line $ y = x $"
   ]
  },
  {
   "cell_type": "code",
   "execution_count": 16,
   "metadata": {},
   "outputs": [
    {
     "data": {
      "text/plain": [
       "[<matplotlib.lines.Line2D at 0x1a26416080>]"
      ]
     },
     "execution_count": 16,
     "metadata": {},
     "output_type": "execute_result"
    },
    {
     "data": {
      "image/png": "[encoded data removed]",
      "text/plain": [
       "<Figure size 432x288 with 1 Axes>"
      ]
     },
     "metadata": {
      "needs_background": "light"
     },
     "output_type": "display_data"
    }
   ],
   "source": [
    "scatter_plot = sns.scatterplot(data=delta_proteomic_transcriptomic_df, x='Delta_Transcriptomics', y='Delta_Proteomics')\n",
    "plt.plot([-3, 3], [-3, 3], linewidth=1, color='red')\n"
   ]
  }
 ],
 "metadata": {
  "kernelspec": {
   "display_name": "Python 3",
   "language": "python",
   "name": "python3"
  },
  "language_info": {
   "codemirror_mode": {
    "name": "ipython",
    "version": 3
   },
   "file_extension": ".py",
   "mimetype": "text/x-python",
   "name": "python",
   "nbconvert_exporter": "python",
   "pygments_lexer": "ipython3",
   "version": "3.6.8"
  }
 },
 "nbformat": 4,
 "nbformat_minor": 2
}
