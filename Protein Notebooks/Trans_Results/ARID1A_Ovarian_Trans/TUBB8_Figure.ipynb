{
 "cells": [
  {
   "cell_type": "markdown",
   "metadata": {},
   "source": [
    "# Make Plot to show TUBB8 proteomic and transcriptomic abundance in Ovarian Cancer when ARID1A is Mutated"
   ]
  },
  {
   "cell_type": "markdown",
   "metadata": {},
   "source": [
    "#### Library Imports"
   ]
  },
  {
   "cell_type": "code",
   "execution_count": 1,
   "metadata": {},
   "outputs": [
    {
     "name": "stderr",
     "output_type": "stream",
     "text": [
      "/anaconda3/lib/python3.6/site-packages/requests/__init__.py:91: RequestsDependencyWarning: urllib3 (1.25.3) or chardet (3.0.4) doesn't match a supported version!\n",
      "  RequestsDependencyWarning)\n"
     ]
    },
    {
     "name": "stdout",
     "output_type": "stream",
     "text": [
      "                                    \r"
     ]
    }
   ],
   "source": [
    "import pandas as pd\n",
    "import numpy as np\n",
    "import scipy.stats\n",
    "import collections\n",
    "import re\n",
    "import gseapy as gp\n",
    "from gseapy.plot import barplot, dotplot\n",
    "import matplotlib.pyplot as plt\n",
    "import seaborn as sns\n",
    "\n",
    "import cptac\n",
    "import cptac.algorithms as al\n",
    "\n",
    "ov = cptac.Ovarian()"
   ]
  },
  {
   "cell_type": "markdown",
   "metadata": {},
   "source": [
    "### Specify Mutation Gene and Omics Gene"
   ]
  },
  {
   "cell_type": "code",
   "execution_count": 17,
   "metadata": {},
   "outputs": [],
   "source": [
    "mutation_gene = 'ARID1A'\n",
    "omics_protein = 'TUBB8'"
   ]
  },
  {
   "cell_type": "markdown",
   "metadata": {},
   "source": [
    "### Get Proteomics Data"
   ]
  },
  {
   "cell_type": "code",
   "execution_count": 18,
   "metadata": {},
   "outputs": [
    {
     "name": "stderr",
     "output_type": "stream",
     "text": [
      "Warning: No somatic_mutation data was found for 99 samples for the ARID1A gene. Values were filled with Wildtype_Tumor, Wildtype_Normal, or No_mutation as appropriate. (/anaconda3/lib/python3.6/site-packages/ipykernel_launcher.py, line 1)\n"
     ]
    }
   ],
   "source": [
    "proteomics = ov.join_omics_to_mutations(omics_df_name='proteomics', omics_genes=omics_protein, mutations_genes= mutation_gene)\n",
    "proteomics = proteomics[proteomics['Sample_Status'] == 'Tumor']"
   ]
  },
  {
   "cell_type": "markdown",
   "metadata": {},
   "source": [
    "### Get Transcriptomics Data"
   ]
  },
  {
   "cell_type": "code",
   "execution_count": 19,
   "metadata": {},
   "outputs": [
    {
     "name": "stderr",
     "output_type": "stream",
     "text": [
      "Warning: No somatic_mutation data was found for 98 samples for the ARID1A gene. Values were filled with Wildtype_Tumor, Wildtype_Normal, or No_mutation as appropriate. (/anaconda3/lib/python3.6/site-packages/ipykernel_launcher.py, line 1)\n",
      "Warning: transcriptomics data not found for sample S012. transcriptomics data columns filled with NaN for this sample. (/anaconda3/lib/python3.6/site-packages/ipykernel_launcher.py, line 1)\n"
     ]
    }
   ],
   "source": [
    "transcriptomics = ov.join_omics_to_mutations(omics_df_name='transcriptomics', omics_genes=omics_protein, mutations_genes=mutation_gene)\n",
    "transcriptomics = transcriptomics[transcriptomics['Sample_Status'] == 'Tumor']"
   ]
  },
  {
   "cell_type": "markdown",
   "metadata": {},
   "source": [
    "### Make Pandas Dataframe to Plot"
   ]
  },
  {
   "cell_type": "code",
   "execution_count": 20,
   "metadata": {},
   "outputs": [],
   "source": [
    "plotdf = pd.DataFrame(columns=['Value','Omics','Mutated'])\n",
    "for ind, row in proteomics.iterrows():\n",
    "    if row[mutation_gene + '_Mutation_Status'] != 'Wildtype_Tumor':\n",
    "        plotdf = plotdf.append({'Value':row[omics_protein + '_proteomics'], 'Omics': 'proteomics', 'Mutated': 'Mutated'}, ignore_index = True)\n",
    "    else:\n",
    "        plotdf = plotdf.append({'Value':row[omics_protein + '_proteomics'], 'Omics': 'proteomics', 'Mutated': 'Wildtype'}, ignore_index =True)\n",
    "        \n",
    "        \n",
    "        \n",
    "for ind, row in transcriptomics.iterrows():\n",
    "    if row[mutation_gene + '_Mutation_Status'] != 'Wildtype_Tumor':\n",
    "        plotdf = plotdf.append({'Value':row[omics_protein + '_transcriptomics'], 'Omics': 'transcriptomics', 'Mutated': 'Mutated'}, ignore_index = True)\n",
    "    else:\n",
    "        plotdf = plotdf.append({'Value':row[omics_protein + '_transcriptomics'], 'Omics': 'transcriptomics', 'Mutated': 'Wildtype'}, ignore_index =True)"
   ]
  },
  {
   "cell_type": "markdown",
   "metadata": {},
   "source": [
    "### Generate plot"
   ]
  },
  {
   "cell_type": "code",
   "execution_count": 21,
   "metadata": {},
   "outputs": [
    {
     "data": {
      "text/plain": [
       "<matplotlib.legend.Legend at 0x12d544e10>"
      ]
     },
     "execution_count": 21,
     "metadata": {},
     "output_type": "execute_result"
    },
    {
     "data": {
      "image/png": "[encoded data removed]",
      "text/plain": [
       "<Figure size 842.4x595.44 with 1 Axes>"
      ]
     },
     "metadata": {},
     "output_type": "display_data"
    }
   ],
   "source": [
    "sns.set(rc={'figure.figsize':(11.7,8.27)})\n",
    "\n",
    "plt = sns.boxplot(data=plotdf, x = 'Omics', y = 'Value', hue='Mutated')\n",
    "plt = sns.stripplot(data=plotdf, x = 'Omics', y = 'Value', hue='Mutated', jitter = True, dodge=True, color='.3')\n",
    "\n",
    "\n",
    "handles, labels = plt.get_legend_handles_labels()\n",
    "plt.legend(handles[0:2], labels[0:2])"
   ]
  }
 ],
 "metadata": {
  "kernelspec": {
   "display_name": "Python 3",
   "language": "python",
   "name": "python3"
  },
  "language_info": {
   "codemirror_mode": {
    "name": "ipython",
    "version": 3
   },
   "file_extension": ".py",
   "mimetype": "text/x-python",
   "name": "python",
   "nbconvert_exporter": "python",
   "pygments_lexer": "ipython3",
   "version": "3.6.8"
  }
 },
 "nbformat": 4,
 "nbformat_minor": 2
}
