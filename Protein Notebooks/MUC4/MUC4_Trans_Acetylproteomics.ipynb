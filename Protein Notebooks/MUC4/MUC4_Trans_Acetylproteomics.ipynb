{
 "cells": [
  {
   "cell_type": "markdown",
   "metadata": {},
   "source": [
    "# MUC4 Mutation Trans Effect on Acetylproteomics"
   ]
  },
  {
   "cell_type": "markdown",
   "metadata": {},
   "source": [
    "This notebook analyzes the trans effect of MUC4 mutation on interacting and other proteins Acetylproteomics, in Endometrial cancer (The Colon and Ovarian Datasets don't have acetylproteomic data."
   ]
  },
  {
   "cell_type": "markdown",
   "metadata": {},
   "source": [
    "### Library Imports"
   ]
  },
  {
   "cell_type": "code",
   "execution_count": 1,
   "metadata": {},
   "outputs": [
    {
     "name": "stdout",
     "output_type": "stream",
     "text": [
      "                                    \r"
     ]
    }
   ],
   "source": [
    "import pandas as pd\n",
    "import numpy as np\n",
    "import scipy.stats\n",
    "\n",
    "import warnings\n",
    "warnings.filterwarnings(\"ignore\")\n",
    "\n",
    "import cptac\n",
    "import cptac.algorithms as al\n",
    "\n",
    "en = cptac.Endometrial()\n",
    "co = cptac.Colon()"
   ]
  },
  {
   "cell_type": "markdown",
   "metadata": {},
   "source": [
    "### Specify Gene"
   ]
  },
  {
   "cell_type": "code",
   "execution_count": 2,
   "metadata": {},
   "outputs": [],
   "source": [
    "gene = \"MUC4\""
   ]
  },
  {
   "cell_type": "markdown",
   "metadata": {},
   "source": [
    "### Investigate Proteomics, Phosphoproteomics, Acetylproteomics, or Transcriptomics"
   ]
  },
  {
   "cell_type": "code",
   "execution_count": 3,
   "metadata": {},
   "outputs": [],
   "source": [
    "#omics = \"proteomics\"\n",
    "#omics = \"transcriptomics\"\n",
    "#omics = \"phosphoproteomics\"\n",
    "omics = \"acetylproteomics\""
   ]
  },
  {
   "cell_type": "markdown",
   "metadata": {},
   "source": [
    "### Track all significant comparisons in Dataframe"
   ]
  },
  {
   "cell_type": "code",
   "execution_count": 4,
   "metadata": {},
   "outputs": [],
   "source": [
    "all_significant_comparisons = pd.DataFrame(columns=['Cancer_Type', 'Gene', 'Comparison','Interacting_Protein','P_Value'])"
   ]
  },
  {
   "cell_type": "code",
   "execution_count": 5,
   "metadata": {},
   "outputs": [],
   "source": [
    "def add_to_all_significant_comparisons(df, cancer, interacting, all_sig_comp):\n",
    "    expanded = df\n",
    "    expanded['Gene'] = gene\n",
    "    expanded['Cancer_Type'] = cancer\n",
    "    expanded['Interacting_Protein'] = interacting\n",
    "    \n",
    "    updated_all_comparisons = pd.concat([all_sig_comp, expanded], sort=False)\n",
    "    \n",
    "    return updated_all_comparisons"
   ]
  },
  {
   "cell_type": "markdown",
   "metadata": {},
   "source": [
    "# Interacting Proteins: Acetylproteomics"
   ]
  },
  {
   "cell_type": "markdown",
   "metadata": {},
   "source": [
    "### Generate interacting protein list"
   ]
  },
  {
   "cell_type": "code",
   "execution_count": 6,
   "metadata": {},
   "outputs": [
    {
     "name": "stdout",
     "output_type": "stream",
     "text": [
      "Interacting Proteins:\n",
      "MUC17\n",
      "ST3GAL3\n",
      "B3GNT5\n",
      "B3GNT3\n",
      "ST6GALNAC3\n",
      "ST6GALNAC4\n",
      "GALNT12\n",
      "MUC21\n",
      "MUC3A\n",
      "GCNT3\n",
      "MUC16\n",
      "C1GALT1\n",
      "MUC6\n",
      "MUC7\n",
      "MUC20\n",
      "MUC15\n",
      "GALNT11\n",
      "MUC4\n",
      "ST3GAL1\n",
      "ST3GAL4\n",
      "MUC5B\n",
      "MUC12\n",
      "GALNT6\n",
      "MUC1\n",
      "MUC13\n",
      "MUC5AC\n",
      "EZH2\n",
      "SUZ12\n",
      "EGFR\n",
      "ERBB2\n",
      "ERBB3\n",
      "ERBB4\n"
     ]
    }
   ],
   "source": [
    "'''Use get interacting proteins method to generate list of interacting proteins'''\n",
    "interacting_proteins = al.get_interacting_proteins(gene)\n",
    "\n",
    "print(\"Interacting Proteins:\")\n",
    "for interacting_protein in interacting_proteins:\n",
    "    print(interacting_protein)"
   ]
  },
  {
   "cell_type": "markdown",
   "metadata": {},
   "source": [
    "## Endometrial"
   ]
  },
  {
   "cell_type": "markdown",
   "metadata": {},
   "source": [
    "### Test for significant comparisons in any of interacting proteins"
   ]
  },
  {
   "cell_type": "code",
   "execution_count": 7,
   "metadata": {},
   "outputs": [
    {
     "name": "stdout",
     "output_type": "stream",
     "text": [
      "MUC17 did not match any columns in acetylproteomics dataframe. MUC17_acetylproteomics column inserted, but filled with NaN.\n",
      "ST3GAL3 did not match any columns in acetylproteomics dataframe. ST3GAL3_acetylproteomics column inserted, but filled with NaN.\n",
      "B3GNT5 did not match any columns in acetylproteomics dataframe. B3GNT5_acetylproteomics column inserted, but filled with NaN.\n",
      "B3GNT3 did not match any columns in acetylproteomics dataframe. B3GNT3_acetylproteomics column inserted, but filled with NaN.\n",
      "ST6GALNAC3 did not match any columns in acetylproteomics dataframe. ST6GALNAC3_acetylproteomics column inserted, but filled with NaN.\n",
      "ST6GALNAC4 did not match any columns in acetylproteomics dataframe. ST6GALNAC4_acetylproteomics column inserted, but filled with NaN.\n",
      "GALNT12 did not match any columns in acetylproteomics dataframe. GALNT12_acetylproteomics column inserted, but filled with NaN.\n",
      "MUC21 did not match any columns in acetylproteomics dataframe. MUC21_acetylproteomics column inserted, but filled with NaN.\n",
      "MUC3A did not match any columns in acetylproteomics dataframe. MUC3A_acetylproteomics column inserted, but filled with NaN.\n",
      "GCNT3 did not match any columns in acetylproteomics dataframe. GCNT3_acetylproteomics column inserted, but filled with NaN.\n",
      "MUC16 did not match any columns in acetylproteomics dataframe. MUC16_acetylproteomics column inserted, but filled with NaN.\n",
      "C1GALT1 did not match any columns in acetylproteomics dataframe. C1GALT1_acetylproteomics column inserted, but filled with NaN.\n",
      "MUC6 did not match any columns in acetylproteomics dataframe. MUC6_acetylproteomics column inserted, but filled with NaN.\n",
      "MUC7 did not match any columns in acetylproteomics dataframe. MUC7_acetylproteomics column inserted, but filled with NaN.\n",
      "MUC20 did not match any columns in acetylproteomics dataframe. MUC20_acetylproteomics column inserted, but filled with NaN.\n",
      "MUC15 did not match any columns in acetylproteomics dataframe. MUC15_acetylproteomics column inserted, but filled with NaN.\n",
      "GALNT11 did not match any columns in acetylproteomics dataframe. GALNT11_acetylproteomics column inserted, but filled with NaN.\n",
      "MUC4 did not match any columns in acetylproteomics dataframe. MUC4_acetylproteomics column inserted, but filled with NaN.\n",
      "ST3GAL1 did not match any columns in acetylproteomics dataframe. ST3GAL1_acetylproteomics column inserted, but filled with NaN.\n",
      "ST3GAL4 did not match any columns in acetylproteomics dataframe. ST3GAL4_acetylproteomics column inserted, but filled with NaN.\n",
      "MUC12 did not match any columns in acetylproteomics dataframe. MUC12_acetylproteomics column inserted, but filled with NaN.\n",
      "GALNT6 did not match any columns in acetylproteomics dataframe. GALNT6_acetylproteomics column inserted, but filled with NaN.\n",
      "MUC13 did not match any columns in acetylproteomics dataframe. MUC13_acetylproteomics column inserted, but filled with NaN.\n",
      "EZH2 did not match any columns in acetylproteomics dataframe. EZH2_acetylproteomics column inserted, but filled with NaN.\n",
      "SUZ12 did not match any columns in acetylproteomics dataframe. SUZ12_acetylproteomics column inserted, but filled with NaN.\n",
      "EGFR did not match any columns in acetylproteomics dataframe. EGFR_acetylproteomics column inserted, but filled with NaN.\n",
      "ERBB2 did not match any columns in acetylproteomics dataframe. ERBB2_acetylproteomics column inserted, but filled with NaN.\n",
      "ERBB3 did not match any columns in acetylproteomics dataframe. ERBB3_acetylproteomics column inserted, but filled with NaN.\n",
      "ERBB4 did not match any columns in acetylproteomics dataframe. ERBB4_acetylproteomics column inserted, but filled with NaN.\n",
      "Doing t-test comparisons\n",
      "\n",
      "No significant comparisons.\n"
     ]
    }
   ],
   "source": [
    "'''Create dataframe in order to do comparisons with wrap_ttest'''\n",
    "protdf = en.join_omics_to_mutations(mutations_genes=[gene], omics_df_name=omics, omics_genes=interacting_proteins)\n",
    "protdf = protdf.loc[protdf['Sample_Status'] == 'Tumor']\n",
    "\n",
    "'''Create the binary valued column needed to do the comparison'''\n",
    "for ind, row in protdf.iterrows():\n",
    "    if row[gene+\"_Mutation_Status\"] != 'Wildtype_Tumor':\n",
    "        protdf.at[ind,'Label'] = 'Mutated'\n",
    "    else:\n",
    "        protdf.at[ind,'Label'] = 'Wildtype'\n",
    "\n",
    "'''Format the dataframe correctly'''\n",
    "protdf = protdf.drop(gene+\"_Mutation\",axis=1)\n",
    "protdf = protdf.drop(gene+\"_Location\",axis=1)\n",
    "protdf = protdf.drop(gene+\"_Mutation_Status\", axis=1)\n",
    "protdf = protdf.drop(\"Sample_Status\",axis=1)\n",
    "\n",
    "\n",
    "'''Make list of columns to be compared using t-tests'''\n",
    "col_list = list(protdf.columns)\n",
    "col_list.remove('Label')\n",
    "\n",
    "print(\"Doing t-test comparisons\\n\")\n",
    "\n",
    "'''Call wrap_ttest, pass in formatted dataframe'''\n",
    "wrap_results = al.wrap_ttest(protdf, 'Label', col_list)\n",
    "\n",
    "'''Print results, if anything significant was found'''\n",
    "if wrap_results is not None:\n",
    "        print(wrap_results)\n",
    "        print(\"\\n\\n\")\n",
    "        \n",
    "        all_significant_comparisons = add_to_all_significant_comparisons(wrap_results, \"Endometrial\", True, all_significant_comparisons)\n"
   ]
  },
  {
   "cell_type": "markdown",
   "metadata": {},
   "source": [
    "## Colon"
   ]
  },
  {
   "cell_type": "markdown",
   "metadata": {},
   "source": [
    "Acetylproteomic data does not exist for the Colon dataset"
   ]
  },
  {
   "cell_type": "markdown",
   "metadata": {},
   "source": [
    "## Ovarian"
   ]
  },
  {
   "cell_type": "markdown",
   "metadata": {},
   "source": [
    "Acetylproteomic data does not exist for the Ovarian dataset"
   ]
  },
  {
   "cell_type": "markdown",
   "metadata": {},
   "source": [
    "# All Proteins: Phosphoproteomics"
   ]
  },
  {
   "cell_type": "markdown",
   "metadata": {},
   "source": [
    "## Endometrial"
   ]
  },
  {
   "cell_type": "code",
   "execution_count": 8,
   "metadata": {},
   "outputs": [
    {
     "name": "stdout",
     "output_type": "stream",
     "text": [
      "\n",
      "Gene:  MUC4\n",
      "Doing t-test comparisons\n",
      "\n",
      "No significant comparisons.\n"
     ]
    }
   ],
   "source": [
    "try:\n",
    "    print(\"\\nGene: \", gene)\n",
    "\n",
    "    '''Use all proteins'''\n",
    "    proteomics = en.get_proteomics()\n",
    "    all_proteins = proteomics.columns\n",
    "    all_proteins = list(all_proteins)\n",
    "\n",
    "    all_proteins_no_dash = []\n",
    "    for ap in all_proteins:\n",
    "        if '-' not in ap:\n",
    "            all_proteins_no_dash.append(ap)\n",
    "            \n",
    "    #all_proteins = all_proteins[:500]\n",
    "\n",
    "    '''Create dataframe in order to do comparisons with wrap_ttest'''\n",
    "    protdf = en.join_omics_to_mutations(mutations_genes=[gene], omics_df_name=omics)\n",
    "    protdf = protdf.loc[protdf['Sample_Status'] == 'Tumor']\n",
    "    \n",
    "    '''Create the binary valued column needed to do the comparison'''\n",
    "    for ind, row in protdf.iterrows():\n",
    "        if row[gene+\"_Mutation_Status\"] != 'Wildtype_Tumor':\n",
    "            protdf.at[ind,'Label'] = 'Mutated'\n",
    "        else:\n",
    "            protdf.at[ind,'Label'] = 'Wildtype'\n",
    "\n",
    "    '''Format the dataframe correctly'''\n",
    "    protdf = protdf.drop(gene+\"_Mutation\",axis=1)\n",
    "    protdf = protdf.drop(gene+\"_Location\",axis=1)\n",
    "    protdf = protdf.drop(gene+\"_Mutation_Status\", axis=1)\n",
    "    protdf = protdf.drop(\"Sample_Status\",axis=1)\n",
    "\n",
    "    '''Make list of columns to be compared using t-tests'''\n",
    "    col_list = list(protdf.columns)\n",
    "    col_list.remove('Label')\n",
    "\n",
    "    print(\"Doing t-test comparisons\\n\")\n",
    "    \n",
    "    '''Call wrap_ttest, pass in formatted dataframe'''\n",
    "    wrap_results = al.wrap_ttest(protdf, 'Label', col_list)\n",
    "\n",
    "    '''Print results, if anything significant was found'''\n",
    "    if wrap_results is not None:\n",
    "            print(wrap_results)\n",
    "            print(\"\\n\\n\")\n",
    "            \n",
    "            all_significant_comparisons = add_to_all_significant_comparisons(wrap_results, \"Endometrial\", False, all_significant_comparisons)\n",
    "\n",
    "\n",
    "except Exception as e:\n",
    "    print(\"Error in Comparison\")\n",
    "    print(e)"
   ]
  },
  {
   "cell_type": "markdown",
   "metadata": {},
   "source": [
    "## Colon"
   ]
  },
  {
   "cell_type": "markdown",
   "metadata": {},
   "source": [
    "Colon Dataset doesn't contain acetylproteomic data"
   ]
  },
  {
   "cell_type": "markdown",
   "metadata": {},
   "source": [
    "## Ovarian"
   ]
  },
  {
   "cell_type": "markdown",
   "metadata": {},
   "source": [
    "Ovarian Dataset doesn't contain acetylproteomic data"
   ]
  },
  {
   "cell_type": "markdown",
   "metadata": {},
   "source": [
    "### Print all significant comparisons"
   ]
  },
  {
   "cell_type": "code",
   "execution_count": 9,
   "metadata": {},
   "outputs": [
    {
     "name": "stdout",
     "output_type": "stream",
     "text": [
      "No Significant Comparisons!\n"
     ]
    }
   ],
   "source": [
    "if len(all_significant_comparisons) > 0:\n",
    "    display(all_significant_comparisons)\n",
    "    \n",
    "else:\n",
    "    print('No Significant Comparisons!')"
   ]
  },
  {
   "cell_type": "markdown",
   "metadata": {},
   "source": [
    "### Write significant comparisons (if any) to shared CSV file"
   ]
  },
  {
   "cell_type": "code",
   "execution_count": 10,
   "metadata": {},
   "outputs": [],
   "source": [
    "existing_results = pd.read_csv(gene+'_Trans_Results.csv')\n",
    "\n",
    "updated_results = pd.concat([existing_results, all_significant_comparisons], sort=False)\n",
    "\n",
    "updated_results.to_csv(path_or_buf = gene + '_Trans_Results.csv', index=False)"
   ]
  }
 ],
 "metadata": {
  "kernelspec": {
   "display_name": "Python 3",
   "language": "python",
   "name": "python3"
  },
  "language_info": {
   "codemirror_mode": {
    "name": "ipython",
    "version": 3
   },
   "file_extension": ".py",
   "mimetype": "text/x-python",
   "name": "python",
   "nbconvert_exporter": "python",
   "pygments_lexer": "ipython3",
   "version": "3.6.8"
  }
 },
 "nbformat": 4,
 "nbformat_minor": 2
}
