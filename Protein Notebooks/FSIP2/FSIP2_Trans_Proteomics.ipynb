{
 "cells": [
  {
   "cell_type": "markdown",
   "metadata": {},
   "source": [
    "# FSIP2 Mutation Trans Effect on Proteomics"
   ]
  },
  {
   "cell_type": "markdown",
   "metadata": {},
   "source": [
    "This notebook analyzes the trans effect of FSIP2 mutation on interacting and other proteins, in Endometrial, Colon, and Ovarian cancer."
   ]
  },
  {
   "cell_type": "markdown",
   "metadata": {},
   "source": [
    "### Library Imports"
   ]
  },
  {
   "cell_type": "code",
   "execution_count": 1,
   "metadata": {},
   "outputs": [
    {
     "name": "stdout",
     "output_type": "stream",
     "text": [
      "                                    \r"
     ]
    }
   ],
   "source": [
    "import pandas as pd\n",
    "import numpy as np\n",
    "import scipy.stats\n",
    "\n",
    "import warnings\n",
    "warnings.filterwarnings(\"ignore\")\n",
    "\n",
    "import cptac\n",
    "import cptac.algorithms as al\n",
    "\n",
    "en = cptac.Endometrial()\n",
    "co = cptac.Colon()\n",
    "ov = cptac.Ovarian()"
   ]
  },
  {
   "cell_type": "markdown",
   "metadata": {},
   "source": [
    "### Specify Gene"
   ]
  },
  {
   "cell_type": "code",
   "execution_count": 2,
   "metadata": {},
   "outputs": [],
   "source": [
    "gene = \"FSIP2\""
   ]
  },
  {
   "cell_type": "markdown",
   "metadata": {},
   "source": [
    "### Investigate Proteomics, Phosphoproteomics, Acetylproteomics, or Transcriptomics"
   ]
  },
  {
   "cell_type": "code",
   "execution_count": 3,
   "metadata": {},
   "outputs": [],
   "source": [
    "omics = \"proteomics\"\n",
    "#omics = \"transcriptomics\"\n",
    "#omics = \"phosphoproteomics\"\n",
    "#omics = \"acetylproteomics\""
   ]
  },
  {
   "cell_type": "markdown",
   "metadata": {},
   "source": [
    "### Track all significant comparisons in dataframe"
   ]
  },
  {
   "cell_type": "code",
   "execution_count": 4,
   "metadata": {},
   "outputs": [],
   "source": [
    "all_significant_comparisons = pd.DataFrame(columns=['Cancer_Type', 'Gene', 'Comparison','Interacting_Protein','P_Value'])"
   ]
  },
  {
   "cell_type": "code",
   "execution_count": 5,
   "metadata": {},
   "outputs": [],
   "source": [
    "def add_to_all_significant_comparisons(df, cancer, interacting, all_sig_comp):\n",
    "    expanded = df\n",
    "    expanded['Gene'] = gene\n",
    "    expanded['Cancer_Type'] = cancer\n",
    "    expanded['Interacting_Protein'] = interacting\n",
    "    \n",
    "    updated_all_comparisons = pd.concat([all_sig_comp, expanded], sort=False)\n",
    "    \n",
    "    return updated_all_comparisons"
   ]
  },
  {
   "cell_type": "markdown",
   "metadata": {},
   "source": [
    "# Interacting Proteins: Proteomics"
   ]
  },
  {
   "cell_type": "markdown",
   "metadata": {},
   "source": [
    "### Generate interacting protein list"
   ]
  },
  {
   "cell_type": "markdown",
   "metadata": {},
   "source": [
    "Make a call to the cptac.algorithms get interacting proteins method, which interacts with the uniprot and string databases to generate a list of known interacting partners with the given gene"
   ]
  },
  {
   "cell_type": "code",
   "execution_count": 6,
   "metadata": {},
   "outputs": [
    {
     "name": "stdout",
     "output_type": "stream",
     "text": [
      "Interacting Proteins:\n",
      "AKAP3\n",
      "ROPN1\n",
      "FSIP1\n",
      "ZPBP\n",
      "CMBL\n",
      "TMED2\n",
      "DTYMK\n",
      "ABCC12\n",
      "ZMIZ1\n",
      "MGAT4B\n",
      "PDZRN3\n",
      "FSIP2\n",
      "NPFFR2\n",
      "METAP1D\n",
      "CCDC168\n",
      "NPY2R\n",
      "DLK2\n",
      "AKAP4\n",
      "TMEM241\n",
      "ABCC11\n",
      "SNTB1\n",
      "POTEI\n",
      "ABCA13\n",
      "ZNF445\n",
      "SPATS2\n",
      "FLJ22184\n"
     ]
    }
   ],
   "source": [
    "'''Use get interacting proteins method to generate list of interacting proteins'''\n",
    "interacting_proteins = al.get_interacting_proteins(gene)\n",
    "\n",
    "print(\"Interacting Proteins:\")\n",
    "for interacting_protein in interacting_proteins:\n",
    "    print(interacting_protein)"
   ]
  },
  {
   "cell_type": "markdown",
   "metadata": {},
   "source": [
    "## Endometrial"
   ]
  },
  {
   "cell_type": "markdown",
   "metadata": {},
   "source": [
    "### Test for significant comparisons in any of interacting proteins"
   ]
  },
  {
   "cell_type": "code",
   "execution_count": 7,
   "metadata": {},
   "outputs": [
    {
     "name": "stdout",
     "output_type": "stream",
     "text": [
      "AKAP3 did not match any columns in proteomics dataframe. AKAP3_proteomics column inserted, but filled with NaN.\n",
      "ROPN1 did not match any columns in proteomics dataframe. ROPN1_proteomics column inserted, but filled with NaN.\n",
      "FSIP1 did not match any columns in proteomics dataframe. FSIP1_proteomics column inserted, but filled with NaN.\n",
      "ZPBP did not match any columns in proteomics dataframe. ZPBP_proteomics column inserted, but filled with NaN.\n",
      "ABCC12 did not match any columns in proteomics dataframe. ABCC12_proteomics column inserted, but filled with NaN.\n",
      "MGAT4B did not match any columns in proteomics dataframe. MGAT4B_proteomics column inserted, but filled with NaN.\n",
      "FSIP2 did not match any columns in proteomics dataframe. FSIP2_proteomics column inserted, but filled with NaN.\n",
      "NPFFR2 did not match any columns in proteomics dataframe. NPFFR2_proteomics column inserted, but filled with NaN.\n",
      "CCDC168 did not match any columns in proteomics dataframe. CCDC168_proteomics column inserted, but filled with NaN.\n",
      "NPY2R did not match any columns in proteomics dataframe. NPY2R_proteomics column inserted, but filled with NaN.\n",
      "DLK2 did not match any columns in proteomics dataframe. DLK2_proteomics column inserted, but filled with NaN.\n",
      "AKAP4 did not match any columns in proteomics dataframe. AKAP4_proteomics column inserted, but filled with NaN.\n",
      "TMEM241 did not match any columns in proteomics dataframe. TMEM241_proteomics column inserted, but filled with NaN.\n",
      "ABCC11 did not match any columns in proteomics dataframe. ABCC11_proteomics column inserted, but filled with NaN.\n",
      "ABCA13 did not match any columns in proteomics dataframe. ABCA13_proteomics column inserted, but filled with NaN.\n",
      "ZNF445 did not match any columns in proteomics dataframe. ZNF445_proteomics column inserted, but filled with NaN.\n",
      "FLJ22184 did not match any columns in proteomics dataframe. FLJ22184_proteomics column inserted, but filled with NaN.\n",
      "Doing t-test comparisons\n",
      "\n",
      "         Comparison   P_Value\n",
      "0  ZMIZ1_proteomics  0.000325\n",
      "\n",
      "\n",
      "\n"
     ]
    }
   ],
   "source": [
    "'''Create dataframe in order to do comparisons with wrap_ttest'''\n",
    "protdf = en.join_omics_to_mutations(mutations_genes=[gene], omics_df_name=omics, omics_genes=interacting_proteins)\n",
    "protdf = protdf.loc[protdf['Sample_Status'] == 'Tumor']\n",
    "\n",
    "'''Create the binary valued column needed to do the comparison'''\n",
    "for ind, row in protdf.iterrows():\n",
    "    if row[gene+\"_Mutation_Status\"] != 'Wildtype_Tumor':\n",
    "        protdf.at[ind,'Label'] = 'Mutated'\n",
    "    else:\n",
    "        protdf.at[ind,'Label'] = 'Wildtype'\n",
    "\n",
    "'''Format the dataframe correctly'''\n",
    "protdf = protdf.drop(gene+\"_Mutation\",axis=1)\n",
    "protdf = protdf.drop(gene+\"_Location\",axis=1)\n",
    "protdf = protdf.drop(gene+\"_Mutation_Status\", axis=1)\n",
    "protdf = protdf.drop(\"Sample_Status\",axis=1)\n",
    "\n",
    "'''Make list of columns to be compared using t-tests'''\n",
    "col_list = list(protdf.columns)\n",
    "col_list.remove('Label')\n",
    "\n",
    "print(\"Doing t-test comparisons\\n\")\n",
    "\n",
    "'''Call wrap_ttest, pass in formatted dataframe'''\n",
    "wrap_results = al.wrap_ttest(protdf, 'Label', col_list)\n",
    "\n",
    "'''Print results, if anything significant was found'''\n",
    "if wrap_results is not None:\n",
    "        print(wrap_results)\n",
    "        print(\"\\n\\n\")\n",
    "        \n",
    "        all_significant_comparisons = add_to_all_significant_comparisons(wrap_results, \"Endometrial\", True, all_significant_comparisons)\n"
   ]
  },
  {
   "cell_type": "markdown",
   "metadata": {},
   "source": [
    "## Colon"
   ]
  },
  {
   "cell_type": "markdown",
   "metadata": {},
   "source": [
    "### Test for significant comparisons in any of interacting proteins"
   ]
  },
  {
   "cell_type": "code",
   "execution_count": 8,
   "metadata": {},
   "outputs": [
    {
     "name": "stdout",
     "output_type": "stream",
     "text": [
      "AKAP3 did not match any columns in proteomics dataframe. AKAP3_proteomics column inserted, but filled with NaN.\n",
      "ROPN1 did not match any columns in proteomics dataframe. ROPN1_proteomics column inserted, but filled with NaN.\n",
      "FSIP1 did not match any columns in proteomics dataframe. FSIP1_proteomics column inserted, but filled with NaN.\n",
      "ZPBP did not match any columns in proteomics dataframe. ZPBP_proteomics column inserted, but filled with NaN.\n",
      "ABCC12 did not match any columns in proteomics dataframe. ABCC12_proteomics column inserted, but filled with NaN.\n",
      "MGAT4B did not match any columns in proteomics dataframe. MGAT4B_proteomics column inserted, but filled with NaN.\n",
      "PDZRN3 did not match any columns in proteomics dataframe. PDZRN3_proteomics column inserted, but filled with NaN.\n",
      "FSIP2 did not match any columns in proteomics dataframe. FSIP2_proteomics column inserted, but filled with NaN.\n",
      "NPFFR2 did not match any columns in proteomics dataframe. NPFFR2_proteomics column inserted, but filled with NaN.\n",
      "METAP1D did not match any columns in proteomics dataframe. METAP1D_proteomics column inserted, but filled with NaN.\n",
      "CCDC168 did not match any columns in proteomics dataframe. CCDC168_proteomics column inserted, but filled with NaN.\n",
      "NPY2R did not match any columns in proteomics dataframe. NPY2R_proteomics column inserted, but filled with NaN.\n",
      "DLK2 did not match any columns in proteomics dataframe. DLK2_proteomics column inserted, but filled with NaN.\n",
      "AKAP4 did not match any columns in proteomics dataframe. AKAP4_proteomics column inserted, but filled with NaN.\n",
      "TMEM241 did not match any columns in proteomics dataframe. TMEM241_proteomics column inserted, but filled with NaN.\n",
      "ABCC11 did not match any columns in proteomics dataframe. ABCC11_proteomics column inserted, but filled with NaN.\n",
      "ABCA13 did not match any columns in proteomics dataframe. ABCA13_proteomics column inserted, but filled with NaN.\n",
      "ZNF445 did not match any columns in proteomics dataframe. ZNF445_proteomics column inserted, but filled with NaN.\n",
      "FLJ22184 did not match any columns in proteomics dataframe. FLJ22184_proteomics column inserted, but filled with NaN.\n",
      "Doing t-test comparisons\n",
      "\n",
      "No significant comparisons.\n"
     ]
    }
   ],
   "source": [
    "'''Create dataframe in order to do comparisons with wrap_ttest'''\n",
    "protdf = co.join_omics_to_mutations(mutations_genes=[gene], omics_df_name=omics, omics_genes=interacting_proteins)\n",
    "protdf = protdf.loc[protdf['Sample_Status'] == 'Tumor']\n",
    "\n",
    "'''Create the binary valued column needed to do the comparison'''\n",
    "for ind, row in protdf.iterrows():\n",
    "    if row[gene+\"_Mutation_Status\"] != 'Wildtype_Tumor':\n",
    "        protdf.at[ind,'Label'] = 'Mutated'\n",
    "    else:\n",
    "        protdf.at[ind,'Label'] = 'Wildtype'\n",
    "\n",
    "'''Format the dataframe correctly'''\n",
    "protdf = protdf.drop(gene+\"_Mutation\",axis=1)\n",
    "protdf = protdf.drop(gene+\"_Location\",axis=1)\n",
    "protdf = protdf.drop(gene+\"_Mutation_Status\", axis=1)\n",
    "protdf = protdf.drop(\"Sample_Status\",axis=1)\n",
    "\n",
    "'''Make list of columns to be compared using t-tests'''\n",
    "col_list = list(protdf.columns)\n",
    "col_list.remove('Label')\n",
    "\n",
    "print(\"Doing t-test comparisons\\n\")\n",
    "\n",
    "'''Call wrap_ttest, pass in formatted dataframe'''\n",
    "wrap_results = al.wrap_ttest(protdf, 'Label', col_list)\n",
    "\n",
    "'''Print results, if anything significant was found'''\n",
    "if wrap_results is not None:\n",
    "        print(wrap_results)\n",
    "        print(\"\\n\\n\")\n",
    "        \n",
    "        all_significant_comparisons = add_to_all_significant_comparisons(wrap_results, \"Colon\", True, all_significant_comparisons)\n"
   ]
  },
  {
   "cell_type": "markdown",
   "metadata": {},
   "source": [
    "## Ovarian"
   ]
  },
  {
   "cell_type": "markdown",
   "metadata": {},
   "source": [
    "### Test for significant comparisons in any of interacting proteins"
   ]
  },
  {
   "cell_type": "code",
   "execution_count": 9,
   "metadata": {},
   "outputs": [
    {
     "name": "stdout",
     "output_type": "stream",
     "text": [
      "AKAP3 did not match any columns in proteomics dataframe. AKAP3_proteomics column inserted, but filled with NaN.\n",
      "ROPN1 did not match any columns in proteomics dataframe. ROPN1_proteomics column inserted, but filled with NaN.\n",
      "FSIP1 did not match any columns in proteomics dataframe. FSIP1_proteomics column inserted, but filled with NaN.\n",
      "ZPBP did not match any columns in proteomics dataframe. ZPBP_proteomics column inserted, but filled with NaN.\n",
      "ABCC12 did not match any columns in proteomics dataframe. ABCC12_proteomics column inserted, but filled with NaN.\n",
      "NPFFR2 did not match any columns in proteomics dataframe. NPFFR2_proteomics column inserted, but filled with NaN.\n",
      "CCDC168 did not match any columns in proteomics dataframe. CCDC168_proteomics column inserted, but filled with NaN.\n",
      "NPY2R did not match any columns in proteomics dataframe. NPY2R_proteomics column inserted, but filled with NaN.\n",
      "DLK2 did not match any columns in proteomics dataframe. DLK2_proteomics column inserted, but filled with NaN.\n",
      "AKAP4 did not match any columns in proteomics dataframe. AKAP4_proteomics column inserted, but filled with NaN.\n",
      "TMEM241 did not match any columns in proteomics dataframe. TMEM241_proteomics column inserted, but filled with NaN.\n",
      "ABCC11 did not match any columns in proteomics dataframe. ABCC11_proteomics column inserted, but filled with NaN.\n",
      "ABCA13 did not match any columns in proteomics dataframe. ABCA13_proteomics column inserted, but filled with NaN.\n",
      "ZNF445 did not match any columns in proteomics dataframe. ZNF445_proteomics column inserted, but filled with NaN.\n",
      "FLJ22184 did not match any columns in proteomics dataframe. FLJ22184_proteomics column inserted, but filled with NaN.\n",
      "Doing t-test comparisons\n",
      "\n",
      "No significant comparisons.\n"
     ]
    }
   ],
   "source": [
    "'''Create dataframe in order to do comparisons with wrap_ttest'''\n",
    "protdf = ov.join_omics_to_mutations(mutations_genes=[gene], omics_df_name=omics, omics_genes=interacting_proteins)\n",
    "protdf = protdf.loc[protdf['Sample_Status'] == 'Tumor']\n",
    "\n",
    "\n",
    "'''Create the binary valued column needed to do the comparison'''\n",
    "for ind, row in protdf.iterrows():\n",
    "    if row[gene+\"_Mutation_Status\"] != 'Wildtype_Tumor':\n",
    "        protdf.loc[ind,'Label'] = 'Mutated'\n",
    "    else:\n",
    "        protdf.loc[ind,'Label'] = 'Wildtype'\n",
    "\n",
    "'''Format the dataframe correctly'''\n",
    "protdf = protdf.drop(gene+\"_Mutation\",axis=1)\n",
    "protdf = protdf.drop(gene+\"_Location\",axis=1)\n",
    "protdf = protdf.drop(gene+\"_Mutation_Status\", axis=1)\n",
    "protdf = protdf.drop(\"Sample_Status\",axis=1)\n",
    "#protdf = protdf.drop_duplicates()\n",
    "protdf = protdf.loc[:,~protdf.columns.duplicated()]\n",
    "\n",
    "\n",
    "'''Make list of columns to be compared using t-tests'''\n",
    "col_list = list(protdf.columns)\n",
    "col_list.remove('Label')\n",
    "\n",
    "print(\"Doing t-test comparisons\\n\")\n",
    "\n",
    "\n",
    "'''Call wrap_ttest, pass in formatted dataframe'''\n",
    "wrap_results = al.wrap_ttest(protdf, 'Label', col_list)\n",
    "\n",
    "'''Print results, if anything significant was found'''\n",
    "if wrap_results is not None:\n",
    "        print(wrap_results)\n",
    "        print(\"\\n\\n\")\n",
    "        \n",
    "        all_significant_comparisons = add_to_all_significant_comparisons(wrap_results, \"Ovarian\", True, all_significant_comparisons)\n",
    "\n"
   ]
  },
  {
   "cell_type": "markdown",
   "metadata": {},
   "source": [
    "# All Proteins: Proteomics"
   ]
  },
  {
   "cell_type": "markdown",
   "metadata": {},
   "source": [
    "## Endometrial"
   ]
  },
  {
   "cell_type": "code",
   "execution_count": 10,
   "metadata": {},
   "outputs": [
    {
     "name": "stdout",
     "output_type": "stream",
     "text": [
      "\n",
      "Gene:  FSIP2\n",
      "Doing t-test comparisons\n",
      "\n",
      "        Comparison   P_Value\n",
      "0  CMAS_proteomics  0.000002\n",
      "1  VPS8_proteomics  0.000004\n",
      "\n",
      "\n",
      "\n"
     ]
    }
   ],
   "source": [
    "try:\n",
    "    print(\"\\nGene: \", gene)\n",
    "\n",
    "    '''Use all proteins'''\n",
    "\n",
    "    '''Create dataframe in order to do comparisons with wrap_ttest'''\n",
    "    protdf = en.join_omics_to_mutations(mutations_genes=[gene], omics_df_name=omics)\n",
    "    protdf = protdf.loc[protdf['Sample_Status'] == 'Tumor']\n",
    "    \n",
    "    '''Create the binary valued column needed to do the comparison'''\n",
    "    for ind, row in protdf.iterrows():\n",
    "        if row[gene+\"_Mutation_Status\"] != 'Wildtype_Tumor':\n",
    "            protdf.at[ind,'Label'] = 'Mutated'\n",
    "        else:\n",
    "            protdf.at[ind,'Label'] = 'Wildtype'\n",
    "\n",
    "    '''Format the datafram correctly'''\n",
    "    protdf = protdf.drop(gene+\"_Mutation\",axis=1)\n",
    "    protdf = protdf.drop(gene+\"_Location\",axis=1)\n",
    "    protdf = protdf.drop(gene+\"_Mutation_Status\", axis=1)\n",
    "    protdf = protdf.drop(\"Sample_Status\",axis=1)\n",
    "\n",
    "    '''Make list of columns to be compared using t-tests'''\n",
    "    col_list = list(protdf.columns)\n",
    "    col_list.remove('Label')\n",
    "\n",
    "    print(\"Doing t-test comparisons\\n\")\n",
    "    \n",
    "    '''Call wrap_ttest, pass in formatted dataframe'''\n",
    "    wrap_results = al.wrap_ttest(protdf, 'Label', col_list)\n",
    "\n",
    "    '''Print results, if anything significant was found'''\n",
    "    if wrap_results is not None:\n",
    "            print(wrap_results)\n",
    "            print(\"\\n\\n\")\n",
    "            \n",
    "            all_significant_comparisons = add_to_all_significant_comparisons(wrap_results, \"Endometrial\", False, all_significant_comparisons)\n",
    "\n",
    "\n",
    "except Exception as e:\n",
    "    print(\"Error in Comparison\")\n",
    "    print(e)"
   ]
  },
  {
   "cell_type": "markdown",
   "metadata": {},
   "source": [
    "## Colon"
   ]
  },
  {
   "cell_type": "code",
   "execution_count": 11,
   "metadata": {},
   "outputs": [
    {
     "name": "stdout",
     "output_type": "stream",
     "text": [
      "\n",
      "Gene:  FSIP2\n",
      "Doing t-test comparisons\n",
      "\n",
      "         Comparison   P_Value\n",
      "0  PRDX5_proteomics  0.000006\n",
      "\n",
      "\n",
      "\n"
     ]
    }
   ],
   "source": [
    "try:\n",
    "    print(\"\\nGene: \", gene)\n",
    "    \n",
    "    '''Use all proteins'''\n",
    "    '''Create dataframe in order to do comparisons with wrap_ttest'''\n",
    "    protdf = co.join_omics_to_mutations(mutations_genes=[gene], omics_df_name=omics)\n",
    "    protdf = protdf.loc[protdf['Sample_Status'] == 'Tumor']\n",
    "    \n",
    "    '''Create the binary valued column needed to do the comparison'''\n",
    "    for ind, row in protdf.iterrows():\n",
    "        if row[gene+\"_Mutation_Status\"] != 'Wildtype_Tumor':\n",
    "            protdf.at[ind,'Label'] = 'Mutated'\n",
    "        else:\n",
    "            protdf.at[ind,'Label'] = 'Wildtype'\n",
    "\n",
    "    '''Format the dataframe correctly'''\n",
    "    protdf = protdf.drop(gene+\"_Mutation\",axis=1)\n",
    "    protdf = protdf.drop(gene+\"_Location\",axis=1)\n",
    "    protdf = protdf.drop(gene+\"_Mutation_Status\", axis=1)\n",
    "    protdf = protdf.drop(\"Sample_Status\",axis=1)\n",
    "\n",
    "    '''Make list of columns to be compared using t-tests'''\n",
    "    col_list = list(protdf.columns)\n",
    "    col_list.remove('Label')\n",
    "\n",
    "    print(\"Doing t-test comparisons\\n\")\n",
    "    \n",
    "    '''Call wrap_ttest, pass in formatted dataframe'''\n",
    "    wrap_results = al.wrap_ttest(protdf, 'Label', col_list)\n",
    "\n",
    "    '''Print results, if anything significant was found'''\n",
    "    if wrap_results is not None:\n",
    "            print(wrap_results)\n",
    "            print(\"\\n\\n\")\n",
    "            \n",
    "            all_significant_comparisons = add_to_all_significant_comparisons(wrap_results, \"Colon\", False, all_significant_comparisons)\n",
    "\n",
    "\n",
    "except Exception as e:\n",
    "    print(\"Error in Comparison\")\n",
    "    print(e)"
   ]
  },
  {
   "cell_type": "markdown",
   "metadata": {},
   "source": [
    "## Ovarian"
   ]
  },
  {
   "cell_type": "code",
   "execution_count": 12,
   "metadata": {},
   "outputs": [
    {
     "name": "stdout",
     "output_type": "stream",
     "text": [
      "\n",
      "Gene:  FSIP2\n",
      "Doing t-test comparisons\n",
      "\n",
      "No significant comparisons.\n"
     ]
    }
   ],
   "source": [
    "print(\"\\nGene: \", gene)\n",
    "\n",
    "'''Use all proteins'''\n",
    "'''Create dataframe in order to do comparisons with wrap_ttest'''\n",
    "protdf = ov.join_omics_to_mutations(mutations_genes=[gene], omics_df_name=omics)\n",
    "protdf = protdf.loc[protdf['Sample_Status'] == 'Tumor']\n",
    "\n",
    "\n",
    "'''Create the binary valued column needed to do the comparison'''\n",
    "for ind, row in protdf.iterrows():\n",
    "    if row[gene+\"_Mutation_Status\"] != 'Wildtype_Tumor':\n",
    "        protdf.loc[ind,'Label'] = 'Mutated'\n",
    "    else:\n",
    "        protdf.loc[ind,'Label'] = 'Wildtype'\n",
    "\n",
    "'''Format the dataframe correctly'''\n",
    "protdf = protdf.drop(gene+\"_Mutation\",axis=1)\n",
    "protdf = protdf.drop(gene+\"_Location\",axis=1)\n",
    "protdf = protdf.drop(gene+\"_Mutation_Status\", axis=1)\n",
    "protdf = protdf.drop(\"Sample_Status\",axis=1)\n",
    "protdf = protdf.loc[:,~protdf.columns.duplicated()]\n",
    "\n",
    "\n",
    "'''Make list of columns to be compared using t-tests'''\n",
    "col_list = list(protdf.columns)\n",
    "col_list.remove('Label')\n",
    "\n",
    "print(\"Doing t-test comparisons\\n\")\n",
    "\n",
    "'''Call wrap_ttest, pass in formatted dataframe'''\n",
    "wrap_results = al.wrap_ttest(protdf, 'Label', col_list)\n",
    "\n",
    "'''Print results, if anything significant was found'''\n",
    "if wrap_results is not None:\n",
    "        print(wrap_results)\n",
    "        print(\"\\n\\n\")\n",
    "        \n",
    "        all_significant_comparisons = add_to_all_significant_comparisons(wrap_results, \"Ovarian\", False, all_significant_comparisons)\n"
   ]
  },
  {
   "cell_type": "markdown",
   "metadata": {},
   "source": [
    "### Print all significant comparisons"
   ]
  },
  {
   "cell_type": "code",
   "execution_count": 13,
   "metadata": {},
   "outputs": [
    {
     "data": {
      "text/html": [
       "<div>\n",
       "<style scoped>\n",
       "    .dataframe tbody tr th:only-of-type {\n",
       "        vertical-align: middle;\n",
       "    }\n",
       "\n",
       "    .dataframe tbody tr th {\n",
       "        vertical-align: top;\n",
       "    }\n",
       "\n",
       "    .dataframe thead th {\n",
       "        text-align: right;\n",
       "    }\n",
       "</style>\n",
       "<table border=\"1\" class=\"dataframe\">\n",
       "  <thead>\n",
       "    <tr style=\"text-align: right;\">\n",
       "      <th></th>\n",
       "      <th>Cancer_Type</th>\n",
       "      <th>Gene</th>\n",
       "      <th>Comparison</th>\n",
       "      <th>Interacting_Protein</th>\n",
       "      <th>P_Value</th>\n",
       "    </tr>\n",
       "  </thead>\n",
       "  <tbody>\n",
       "    <tr>\n",
       "      <th>0</th>\n",
       "      <td>Endometrial</td>\n",
       "      <td>FSIP2</td>\n",
       "      <td>ZMIZ1_proteomics</td>\n",
       "      <td>True</td>\n",
       "      <td>0.000325</td>\n",
       "    </tr>\n",
       "    <tr>\n",
       "      <th>0</th>\n",
       "      <td>Endometrial</td>\n",
       "      <td>FSIP2</td>\n",
       "      <td>CMAS_proteomics</td>\n",
       "      <td>False</td>\n",
       "      <td>0.000002</td>\n",
       "    </tr>\n",
       "    <tr>\n",
       "      <th>1</th>\n",
       "      <td>Endometrial</td>\n",
       "      <td>FSIP2</td>\n",
       "      <td>VPS8_proteomics</td>\n",
       "      <td>False</td>\n",
       "      <td>0.000004</td>\n",
       "    </tr>\n",
       "    <tr>\n",
       "      <th>0</th>\n",
       "      <td>Colon</td>\n",
       "      <td>FSIP2</td>\n",
       "      <td>PRDX5_proteomics</td>\n",
       "      <td>False</td>\n",
       "      <td>0.000006</td>\n",
       "    </tr>\n",
       "  </tbody>\n",
       "</table>\n",
       "</div>"
      ],
      "text/plain": [
       "   Cancer_Type   Gene        Comparison Interacting_Protein   P_Value\n",
       "0  Endometrial  FSIP2  ZMIZ1_proteomics                True  0.000325\n",
       "0  Endometrial  FSIP2   CMAS_proteomics               False  0.000002\n",
       "1  Endometrial  FSIP2   VPS8_proteomics               False  0.000004\n",
       "0        Colon  FSIP2  PRDX5_proteomics               False  0.000006"
      ]
     },
     "metadata": {},
     "output_type": "display_data"
    }
   ],
   "source": [
    "if len(all_significant_comparisons) > 0:\n",
    "    display(all_significant_comparisons)\n",
    "    \n",
    "else:\n",
    "    print('No Significant Comparisons!')"
   ]
  },
  {
   "cell_type": "markdown",
   "metadata": {},
   "source": [
    "### Write significant comparisons (if any) to shared CSV file"
   ]
  },
  {
   "cell_type": "code",
   "execution_count": 14,
   "metadata": {},
   "outputs": [],
   "source": [
    "existing_results = pd.read_csv(gene+'_Trans_Results.csv')\n",
    "\n",
    "updated_results = pd.concat([existing_results, all_significant_comparisons], sort=False)\n",
    "\n",
    "updated_results.to_csv(path_or_buf = gene + '_Trans_Results.csv', index=False)"
   ]
  }
 ],
 "metadata": {
  "kernelspec": {
   "display_name": "Python 3",
   "language": "python",
   "name": "python3"
  },
  "language_info": {
   "codemirror_mode": {
    "name": "ipython",
    "version": 3
   },
   "file_extension": ".py",
   "mimetype": "text/x-python",
   "name": "python",
   "nbconvert_exporter": "python",
   "pygments_lexer": "ipython3",
   "version": "3.6.8"
  }
 },
 "nbformat": 4,
 "nbformat_minor": 2
}
