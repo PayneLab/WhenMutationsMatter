{
 "cells": [
  {
   "cell_type": "markdown",
   "metadata": {},
   "source": [
    "# FSIP2 proteomics cis comparison"
   ]
  },
  {
   "cell_type": "markdown",
   "metadata": {},
   "source": [
    "FSIP2 is frequently mutated in the endometrial, colon, and ovarian datasets (> %10 mutated). \"This gene encodes a protein associated with the sperm fibrous sheath. The protein encoded by this gene is specific to spermatogenic cells.\" https://ghr.nlm.nih.gov/gene/FSIP2"
   ]
  },
  {
   "cell_type": "markdown",
   "metadata": {},
   "source": [
    "## Step 1: Library Imports"
   ]
  },
  {
   "cell_type": "markdown",
   "metadata": {},
   "source": [
    "Run this cell to import the necessary libraries"
   ]
  },
  {
   "cell_type": "code",
   "execution_count": 1,
   "metadata": {},
   "outputs": [],
   "source": [
    "import pandas as pd\n",
    "import numpy as np\n",
    "import seaborn as sns\n",
    "import matplotlib.pyplot as plt\n",
    "import scipy.stats\n",
    "import sys \n",
    "sys.path.append('C:\\\\Users\\\\brittany henderson\\\\GitHub\\\\WhenMutationsMatter\\\\Brittany\\\\')\n",
    "import functions as f\n",
    "\n",
    "import cptac\n",
    "import cptac.algorithms as al"
   ]
  },
  {
   "cell_type": "markdown",
   "metadata": {},
   "source": [
    "## Step 2: Find the frequently mutated genes for Endometrial Cancer"
   ]
  },
  {
   "cell_type": "markdown",
   "metadata": {},
   "source": [
    "Enter the type of cancer and the cutoff for mutation frequency that you would like to use."
   ]
  },
  {
   "cell_type": "code",
   "execution_count": 2,
   "metadata": {},
   "outputs": [
    {
     "name": "stdout",
     "output_type": "stream",
     "text": [
      "                                    \n",
      "\n",
      "Number of Frequently Mutated Genes: 232 \n",
      "      Gene  Unique_Samples_Mut  Missence_Mut  Truncation_Mut\n",
      "0  ABCA12            0.147368      0.094737        0.073684\n",
      "1  ABCA13            0.115789      0.105263        0.042105\n",
      "2  ACVR2A            0.105263      0.010526        0.094737\n",
      "3  ADGRG4            0.136842      0.126316        0.021053\n",
      "4  ADGRV1            0.115789      0.094737        0.052632\n"
     ]
    }
   ],
   "source": [
    "en_object = cptac.Endometrial()\n",
    "desired_cutoff = .1\n",
    "\n",
    "endometrial_freq_mut = al.get_frequently_mutated(en_object, cutoff = desired_cutoff)\n",
    "print('\\n\\nNumber of Frequently Mutated Genes:', len(endometrial_freq_mut), '\\n', endometrial_freq_mut.head())"
   ]
  },
  {
   "cell_type": "markdown",
   "metadata": {},
   "source": [
    "## Step 3: Select FSIP2, a frequently mutated gene"
   ]
  },
  {
   "cell_type": "code",
   "execution_count": 3,
   "metadata": {},
   "outputs": [],
   "source": [
    "gene = 'FSIP2'"
   ]
  },
  {
   "cell_type": "markdown",
   "metadata": {},
   "source": [
    "## Step 4: Select proteomics"
   ]
  },
  {
   "cell_type": "code",
   "execution_count": 4,
   "metadata": {},
   "outputs": [],
   "source": [
    "omics = en_object.get_proteomics()"
   ]
  },
  {
   "cell_type": "markdown",
   "metadata": {},
   "source": [
    "## Step 5: cis comparison "
   ]
  },
  {
   "cell_type": "markdown",
   "metadata": {},
   "source": [
    "Determine if the DNA mutation has an effect on the omics measurement. In order to do this, we have a few steps in code. These steps are found in the format_cis_comparison_data function.\n",
    "1. get a table with both the omics and mutation data for tumors\n",
    "2. get a binary column from the mutation data to separate our samples\n",
    "3. format data frame to be used in the T-test\n",
    "4. send data to the T-test.\n",
    "\n",
    "The format_cis_comparison_data does the first 3 steps."
   ]
  },
  {
   "cell_type": "code",
   "execution_count": 5,
   "metadata": {},
   "outputs": [
    {
     "name": "stdout",
     "output_type": "stream",
     "text": [
      "FSIP2 did not match any columns in proteomics dataframe. FSIP2_proteomics column inserted, but filled with NaN.\n"
     ]
    },
    {
     "data": {
      "text/html": [
       "<div>\n",
       "<style scoped>\n",
       "    .dataframe tbody tr th:only-of-type {\n",
       "        vertical-align: middle;\n",
       "    }\n",
       "\n",
       "    .dataframe tbody tr th {\n",
       "        vertical-align: top;\n",
       "    }\n",
       "\n",
       "    .dataframe thead th {\n",
       "        text-align: right;\n",
       "    }\n",
       "</style>\n",
       "<table border=\"1\" class=\"dataframe\">\n",
       "  <thead>\n",
       "    <tr style=\"text-align: right;\">\n",
       "      <th></th>\n",
       "      <th>FSIP2_proteomics</th>\n",
       "      <th>FSIP2_Mutation</th>\n",
       "      <th>FSIP2_Location</th>\n",
       "      <th>FSIP2_Mutation_Status</th>\n",
       "      <th>Sample_Status</th>\n",
       "    </tr>\n",
       "    <tr>\n",
       "      <th>Sample_ID</th>\n",
       "      <th></th>\n",
       "      <th></th>\n",
       "      <th></th>\n",
       "      <th></th>\n",
       "      <th></th>\n",
       "    </tr>\n",
       "  </thead>\n",
       "  <tbody>\n",
       "    <tr>\n",
       "      <th>S001</th>\n",
       "      <td>NaN</td>\n",
       "      <td>[Wildtype_Tumor]</td>\n",
       "      <td>[No_mutation]</td>\n",
       "      <td>Wildtype_Tumor</td>\n",
       "      <td>Tumor</td>\n",
       "    </tr>\n",
       "    <tr>\n",
       "      <th>S002</th>\n",
       "      <td>NaN</td>\n",
       "      <td>[Wildtype_Tumor]</td>\n",
       "      <td>[No_mutation]</td>\n",
       "      <td>Wildtype_Tumor</td>\n",
       "      <td>Tumor</td>\n",
       "    </tr>\n",
       "    <tr>\n",
       "      <th>S003</th>\n",
       "      <td>NaN</td>\n",
       "      <td>[Wildtype_Tumor]</td>\n",
       "      <td>[No_mutation]</td>\n",
       "      <td>Wildtype_Tumor</td>\n",
       "      <td>Tumor</td>\n",
       "    </tr>\n",
       "    <tr>\n",
       "      <th>S005</th>\n",
       "      <td>NaN</td>\n",
       "      <td>[Wildtype_Tumor]</td>\n",
       "      <td>[No_mutation]</td>\n",
       "      <td>Wildtype_Tumor</td>\n",
       "      <td>Tumor</td>\n",
       "    </tr>\n",
       "    <tr>\n",
       "      <th>S006</th>\n",
       "      <td>NaN</td>\n",
       "      <td>[Wildtype_Tumor]</td>\n",
       "      <td>[No_mutation]</td>\n",
       "      <td>Wildtype_Tumor</td>\n",
       "      <td>Tumor</td>\n",
       "    </tr>\n",
       "  </tbody>\n",
       "</table>\n",
       "</div>"
      ],
      "text/plain": [
       "           FSIP2_proteomics    FSIP2_Mutation FSIP2_Location  \\\n",
       "Sample_ID                                                      \n",
       "S001                    NaN  [Wildtype_Tumor]  [No_mutation]   \n",
       "S002                    NaN  [Wildtype_Tumor]  [No_mutation]   \n",
       "S003                    NaN  [Wildtype_Tumor]  [No_mutation]   \n",
       "S005                    NaN  [Wildtype_Tumor]  [No_mutation]   \n",
       "S006                    NaN  [Wildtype_Tumor]  [No_mutation]   \n",
       "\n",
       "          FSIP2_Mutation_Status Sample_Status  \n",
       "Sample_ID                                      \n",
       "S001             Wildtype_Tumor         Tumor  \n",
       "S002             Wildtype_Tumor         Tumor  \n",
       "S003             Wildtype_Tumor         Tumor  \n",
       "S005             Wildtype_Tumor         Tumor  \n",
       "S006             Wildtype_Tumor         Tumor  "
      ]
     },
     "execution_count": 5,
     "metadata": {},
     "output_type": "execute_result"
    }
   ],
   "source": [
    "omics_and_mutations = en_object.join_omics_to_mutations(\n",
    "        mutations_genes = gene, omics_df_name = 'proteomics', omics_genes = gene)\n",
    "omics_and_mutations.head()"
   ]
  },
  {
   "cell_type": "markdown",
   "metadata": {},
   "source": [
    "No proteomics data for FSIP2 in the endometrial dataset. Not possible to do cis comparison."
   ]
  },
  {
   "cell_type": "markdown",
   "metadata": {},
   "source": [
    "# Repeat with the Colon dataset"
   ]
  },
  {
   "cell_type": "markdown",
   "metadata": {},
   "source": [
    "Go through the same process, this time using the Colon dataset. We will only print five genes from the frequently mutated data frame for simplicity."
   ]
  },
  {
   "cell_type": "code",
   "execution_count": 6,
   "metadata": {},
   "outputs": [
    {
     "name": "stdout",
     "output_type": "stream",
     "text": [
      "                                    \n",
      "\n",
      "Number of Frequently Mutated Genes: 612 \n",
      "      Gene  Unique_Samples_Mut  Missence_Mut  Truncation_Mut\n",
      "0  ABCA13            0.195876      0.164948        0.103093\n",
      "1   ABCA2            0.175258      0.164948        0.030928\n",
      "2   ABCA4            0.144330      0.082474        0.061856\n",
      "3   ABCB4            0.134021      0.061856        0.072165\n",
      "4   ABCB6            0.103093      0.061856        0.041237\n"
     ]
    }
   ],
   "source": [
    "colon_object = cptac.Colon()\n",
    "desired_cutoff = .1\n",
    "\n",
    "colon_freq_mut = al.get_frequently_mutated(colon_object, cutoff = desired_cutoff)\n",
    "print('\\n\\nNumber of Frequently Mutated Genes:', len(colon_freq_mut), '\\n', colon_freq_mut.head())"
   ]
  },
  {
   "cell_type": "code",
   "execution_count": 7,
   "metadata": {},
   "outputs": [
    {
     "name": "stdout",
     "output_type": "stream",
     "text": [
      "FSIP2 did not match any columns in proteomics dataframe. FSIP2_proteomics column inserted, but filled with NaN.\n"
     ]
    },
    {
     "data": {
      "text/html": [
       "<div>\n",
       "<style scoped>\n",
       "    .dataframe tbody tr th:only-of-type {\n",
       "        vertical-align: middle;\n",
       "    }\n",
       "\n",
       "    .dataframe tbody tr th {\n",
       "        vertical-align: top;\n",
       "    }\n",
       "\n",
       "    .dataframe thead th {\n",
       "        text-align: right;\n",
       "    }\n",
       "</style>\n",
       "<table border=\"1\" class=\"dataframe\">\n",
       "  <thead>\n",
       "    <tr style=\"text-align: right;\">\n",
       "      <th></th>\n",
       "      <th>FSIP2_proteomics</th>\n",
       "      <th>FSIP2_Mutation</th>\n",
       "      <th>FSIP2_Location</th>\n",
       "      <th>FSIP2_Mutation_Status</th>\n",
       "      <th>Sample_Status</th>\n",
       "    </tr>\n",
       "    <tr>\n",
       "      <th>Sample_ID</th>\n",
       "      <th></th>\n",
       "      <th></th>\n",
       "      <th></th>\n",
       "      <th></th>\n",
       "      <th></th>\n",
       "    </tr>\n",
       "  </thead>\n",
       "  <tbody>\n",
       "    <tr>\n",
       "      <th>S002</th>\n",
       "      <td>NaN</td>\n",
       "      <td>[Wildtype_Tumor]</td>\n",
       "      <td>[No_mutation]</td>\n",
       "      <td>Wildtype_Tumor</td>\n",
       "      <td>Tumor</td>\n",
       "    </tr>\n",
       "    <tr>\n",
       "      <th>S003</th>\n",
       "      <td>NaN</td>\n",
       "      <td>[Wildtype_Tumor]</td>\n",
       "      <td>[No_mutation]</td>\n",
       "      <td>Wildtype_Tumor</td>\n",
       "      <td>Tumor</td>\n",
       "    </tr>\n",
       "    <tr>\n",
       "      <th>S004</th>\n",
       "      <td>NaN</td>\n",
       "      <td>[Wildtype_Tumor]</td>\n",
       "      <td>[No_mutation]</td>\n",
       "      <td>Wildtype_Tumor</td>\n",
       "      <td>Tumor</td>\n",
       "    </tr>\n",
       "    <tr>\n",
       "      <th>S005</th>\n",
       "      <td>NaN</td>\n",
       "      <td>[Wildtype_Tumor]</td>\n",
       "      <td>[No_mutation]</td>\n",
       "      <td>Wildtype_Tumor</td>\n",
       "      <td>Tumor</td>\n",
       "    </tr>\n",
       "    <tr>\n",
       "      <th>S006</th>\n",
       "      <td>NaN</td>\n",
       "      <td>[Wildtype_Tumor]</td>\n",
       "      <td>[No_mutation]</td>\n",
       "      <td>Wildtype_Tumor</td>\n",
       "      <td>Tumor</td>\n",
       "    </tr>\n",
       "  </tbody>\n",
       "</table>\n",
       "</div>"
      ],
      "text/plain": [
       "           FSIP2_proteomics    FSIP2_Mutation FSIP2_Location  \\\n",
       "Sample_ID                                                      \n",
       "S002                    NaN  [Wildtype_Tumor]  [No_mutation]   \n",
       "S003                    NaN  [Wildtype_Tumor]  [No_mutation]   \n",
       "S004                    NaN  [Wildtype_Tumor]  [No_mutation]   \n",
       "S005                    NaN  [Wildtype_Tumor]  [No_mutation]   \n",
       "S006                    NaN  [Wildtype_Tumor]  [No_mutation]   \n",
       "\n",
       "          FSIP2_Mutation_Status Sample_Status  \n",
       "Sample_ID                                      \n",
       "S002             Wildtype_Tumor         Tumor  \n",
       "S003             Wildtype_Tumor         Tumor  \n",
       "S004             Wildtype_Tumor         Tumor  \n",
       "S005             Wildtype_Tumor         Tumor  \n",
       "S006             Wildtype_Tumor         Tumor  "
      ]
     },
     "execution_count": 7,
     "metadata": {},
     "output_type": "execute_result"
    }
   ],
   "source": [
    "omics_and_mutations = colon_object.join_omics_to_mutations(\n",
    "        mutations_genes = gene, omics_df_name = 'proteomics', omics_genes = gene)\n",
    "omics_and_mutations.head()"
   ]
  },
  {
   "cell_type": "markdown",
   "metadata": {},
   "source": [
    "No proteomics data for FSIP2 in the colon dataset. Not possible to do cis comparison."
   ]
  },
  {
   "cell_type": "markdown",
   "metadata": {},
   "source": [
    "# Repeat with the Ovarian dataset\n"
   ]
  },
  {
   "cell_type": "code",
   "execution_count": 8,
   "metadata": {},
   "outputs": [
    {
     "name": "stdout",
     "output_type": "stream",
     "text": [
      "                                    \r"
     ]
    }
   ],
   "source": [
    "ovarian_object = cptac.Ovarian()\n",
    "desired_cutoff = .1\n",
    "\n",
    "ovarian_freq_mut = al.get_frequently_mutated(ovarian_object, cutoff = desired_cutoff)"
   ]
  },
  {
   "cell_type": "code",
   "execution_count": null,
   "metadata": {},
   "outputs": [],
   "source": []
  },
  {
   "cell_type": "code",
   "execution_count": 9,
   "metadata": {},
   "outputs": [],
   "source": [
    "ov_omics = ovarian_object.get_proteomics()\n",
    "gene = 'FSIP2'\n",
    "\n",
    "omics_col_list = ['FSIP2_proteomics']\n",
    "prot_col = gene+'_proteomics'"
   ]
  },
  {
   "cell_type": "code",
   "execution_count": 10,
   "metadata": {},
   "outputs": [
    {
     "name": "stdout",
     "output_type": "stream",
     "text": [
      "Doing t-test comparison for mutation status\n",
      "\n",
      "No significant comparisons.\n",
      "None\n"
     ]
    },
    {
     "data": {
      "image/png": "[encoded data removed]",
      "text/plain": [
       "<Figure size 432x288 with 1 Axes>"
      ]
     },
     "metadata": {
      "needs_background": "light"
     },
     "output_type": "display_data"
    }
   ],
   "source": [
    "ov_status = f.format_cis_comparison_data(ovarian_object, ov_omics, 'proteomics', gene)\n",
    "#print(ov_status.head())\n",
    "print(\"Doing t-test comparison for mutation status\\n\")\n",
    "significant_pval_results = al.wrap_ttest(ov_status, 'binary_mutations', omics_col_list)\n",
    "print(significant_pval_results)\n",
    "\n",
    "ov_cis_boxplot = sns.boxplot(data = ov_status, x = 'binary_mutations',\n",
    "                          y = prot_col, order = [\"Wildtype\",\"Mutated\"], showfliers = False)  \n",
    "ov_cis_boxplot.set_title(gene + \" Effect on cis Proteomics in Ovarian Tumors\")\n",
    "ov_cis_boxplot = sns.stripplot(data = ov_status, x = 'binary_mutations',y = prot_col, jitter = True, \n",
    "                        color = \".3\", order = [\"Wildtype\",\"Mutated\"])\n",
    "ov_cis_boxplot.set(xlabel = gene + \" Mutation Status in Tumors\", ylabel = \"Proteomics\")\n",
    "plt.show()\n"
   ]
  },
  {
   "cell_type": "code",
   "execution_count": 11,
   "metadata": {},
   "outputs": [
    {
     "name": "stdout",
     "output_type": "stream",
     "text": [
      "Doing t-test comparison for mutation type\n",
      "\n",
      "No significant comparisons.\n",
      "None\n"
     ]
    },
    {
     "name": "stderr",
     "output_type": "stream",
     "text": [
      "C:\\Users\\brittany henderson\\Anaconda3\\envs\\Research\\lib\\site-packages\\numpy\\core\\fromnumeric.py:3367: RuntimeWarning: Degrees of freedom <= 0 for slice\n",
      "  **kwargs)\n",
      "C:\\Users\\brittany henderson\\Anaconda3\\envs\\Research\\lib\\site-packages\\numpy\\core\\_methods.py:132: RuntimeWarning: invalid value encountered in double_scalars\n",
      "  ret = ret.dtype.type(ret / rcount)\n",
      "C:\\Users\\brittany henderson\\Anaconda3\\envs\\Research\\lib\\site-packages\\scipy\\stats\\_distn_infrastructure.py:877: RuntimeWarning: invalid value encountered in greater\n",
      "  return (self.a < x) & (x < self.b)\n",
      "C:\\Users\\brittany henderson\\Anaconda3\\envs\\Research\\lib\\site-packages\\scipy\\stats\\_distn_infrastructure.py:877: RuntimeWarning: invalid value encountered in less\n",
      "  return (self.a < x) & (x < self.b)\n",
      "C:\\Users\\brittany henderson\\Anaconda3\\envs\\Research\\lib\\site-packages\\scipy\\stats\\_distn_infrastructure.py:1831: RuntimeWarning: invalid value encountered in less_equal\n",
      "  cond2 = cond0 & (x <= self.a)\n"
     ]
    },
    {
     "data": {
      "text/plain": [
       "[Text(0, 0.5, 'Proteomics'), Text(0.5, 0, 'FSIP2 Mutation Type')]"
      ]
     },
     "execution_count": 11,
     "metadata": {},
     "output_type": "execute_result"
    },
    {
     "data": {
      "image/png": "[encoded data removed]",
      "text/plain": [
       "<Figure size 432x288 with 1 Axes>"
      ]
     },
     "metadata": {
      "needs_background": "light"
     },
     "output_type": "display_data"
    }
   ],
   "source": [
    "ov_type = f.get_missence_truncation_comparison(ovarian_object, ov_omics, 'proteomics', gene)\n",
    "\n",
    "print(\"Doing t-test comparison for mutation type\\n\")\n",
    "significant_pval_results = al.wrap_ttest(ov_type, 'binary_mutations', omics_col_list)\n",
    "print(significant_pval_results)\n",
    "\n",
    "ov_cis_boxplot = sns.boxplot(data = ov_type, x = 'binary_mutations',\n",
    "                          y = prot_col, order = [\"Missence\",\"Truncation\"], showfliers = False)  \n",
    "ov_cis_boxplot.set_title(gene + \" Mutation Type Effect on cis Proteomics in Ovarian Tumors\")\n",
    "ov_cis_boxplot = sns.stripplot(data= ov_type, x = 'binary_mutations',\n",
    "                            y = prot_col,jitter = True, color = \".3\", order = [\"Missence\",\"Truncation\"])\n",
    "ov_cis_boxplot.set(xlabel = gene + \" Mutation Type\", ylabel = 'Proteomics')"
   ]
  },
  {
   "cell_type": "markdown",
   "metadata": {},
   "source": [
    "# Repeat with Kidney dataset"
   ]
  },
  {
   "cell_type": "code",
   "execution_count": 12,
   "metadata": {},
   "outputs": [
    {
     "name": "stdout",
     "output_type": "stream",
     "text": [
      "                                    \r"
     ]
    }
   ],
   "source": [
    "rc_object = cptac.RenalCcrcc()\n",
    "desired_cutoff = .1\n",
    "\n",
    "ovarian_freq_mut = al.get_frequently_mutated(rc_object, cutoff = desired_cutoff)"
   ]
  },
  {
   "cell_type": "code",
   "execution_count": 13,
   "metadata": {},
   "outputs": [
    {
     "name": "stdout",
     "output_type": "stream",
     "text": [
      "FSIP2 did not match any columns in proteomics dataframe. FSIP2_proteomics column inserted, but filled with NaN.\n"
     ]
    },
    {
     "data": {
      "text/html": [
       "<div>\n",
       "<style scoped>\n",
       "    .dataframe tbody tr th:only-of-type {\n",
       "        vertical-align: middle;\n",
       "    }\n",
       "\n",
       "    .dataframe tbody tr th {\n",
       "        vertical-align: top;\n",
       "    }\n",
       "\n",
       "    .dataframe thead th {\n",
       "        text-align: right;\n",
       "    }\n",
       "</style>\n",
       "<table border=\"1\" class=\"dataframe\">\n",
       "  <thead>\n",
       "    <tr style=\"text-align: right;\">\n",
       "      <th></th>\n",
       "      <th>FSIP2_proteomics</th>\n",
       "      <th>FSIP2_Mutation</th>\n",
       "      <th>FSIP2_Location</th>\n",
       "      <th>FSIP2_Mutation_Status</th>\n",
       "      <th>Sample_Status</th>\n",
       "    </tr>\n",
       "    <tr>\n",
       "      <th>Sample_ID</th>\n",
       "      <th></th>\n",
       "      <th></th>\n",
       "      <th></th>\n",
       "      <th></th>\n",
       "      <th></th>\n",
       "    </tr>\n",
       "  </thead>\n",
       "  <tbody>\n",
       "    <tr>\n",
       "      <th>S001</th>\n",
       "      <td>NaN</td>\n",
       "      <td>[Wildtype_Tumor]</td>\n",
       "      <td>[No_mutation]</td>\n",
       "      <td>Wildtype_Tumor</td>\n",
       "      <td>Tumor</td>\n",
       "    </tr>\n",
       "    <tr>\n",
       "      <th>S002</th>\n",
       "      <td>NaN</td>\n",
       "      <td>[Wildtype_Tumor]</td>\n",
       "      <td>[No_mutation]</td>\n",
       "      <td>Wildtype_Tumor</td>\n",
       "      <td>Tumor</td>\n",
       "    </tr>\n",
       "    <tr>\n",
       "      <th>S003</th>\n",
       "      <td>NaN</td>\n",
       "      <td>[Wildtype_Tumor]</td>\n",
       "      <td>[No_mutation]</td>\n",
       "      <td>Wildtype_Tumor</td>\n",
       "      <td>Tumor</td>\n",
       "    </tr>\n",
       "    <tr>\n",
       "      <th>S004</th>\n",
       "      <td>NaN</td>\n",
       "      <td>[Missense_Mutation]</td>\n",
       "      <td>[p.K2329I]</td>\n",
       "      <td>Single_mutation</td>\n",
       "      <td>Tumor</td>\n",
       "    </tr>\n",
       "    <tr>\n",
       "      <th>S005</th>\n",
       "      <td>NaN</td>\n",
       "      <td>[Wildtype_Tumor]</td>\n",
       "      <td>[No_mutation]</td>\n",
       "      <td>Wildtype_Tumor</td>\n",
       "      <td>Tumor</td>\n",
       "    </tr>\n",
       "  </tbody>\n",
       "</table>\n",
       "</div>"
      ],
      "text/plain": [
       "           FSIP2_proteomics       FSIP2_Mutation FSIP2_Location  \\\n",
       "Sample_ID                                                         \n",
       "S001                    NaN     [Wildtype_Tumor]  [No_mutation]   \n",
       "S002                    NaN     [Wildtype_Tumor]  [No_mutation]   \n",
       "S003                    NaN     [Wildtype_Tumor]  [No_mutation]   \n",
       "S004                    NaN  [Missense_Mutation]     [p.K2329I]   \n",
       "S005                    NaN     [Wildtype_Tumor]  [No_mutation]   \n",
       "\n",
       "          FSIP2_Mutation_Status Sample_Status  \n",
       "Sample_ID                                      \n",
       "S001             Wildtype_Tumor         Tumor  \n",
       "S002             Wildtype_Tumor         Tumor  \n",
       "S003             Wildtype_Tumor         Tumor  \n",
       "S004            Single_mutation         Tumor  \n",
       "S005             Wildtype_Tumor         Tumor  "
      ]
     },
     "execution_count": 13,
     "metadata": {},
     "output_type": "execute_result"
    }
   ],
   "source": [
    "omics_and_mutations = rc_object.join_omics_to_mutations(\n",
    "        mutations_genes = gene, omics_df_name = 'proteomics', omics_genes = gene)\n",
    "omics_and_mutations.head()"
   ]
  },
  {
   "cell_type": "markdown",
   "metadata": {},
   "source": [
    "No proteomics data for FSIP2 in the kidney dataset. Not possible to do cis comparison."
   ]
  },
  {
   "cell_type": "markdown",
   "metadata": {},
   "source": [
    "# Analysis of Results"
   ]
  },
  {
   "cell_type": "markdown",
   "metadata": {},
   "source": [
    "Only the ovarian dataset had proteomics data for FSIP2 and the cis comparison was not significant."
   ]
  },
  {
   "cell_type": "code",
   "execution_count": null,
   "metadata": {},
   "outputs": [],
   "source": []
  }
 ],
 "metadata": {
  "kernelspec": {
   "display_name": "Python 3",
   "language": "python",
   "name": "python3"
  },
  "language_info": {
   "codemirror_mode": {
    "name": "ipython",
    "version": 3
   },
   "file_extension": ".py",
   "mimetype": "text/x-python",
   "name": "python",
   "nbconvert_exporter": "python",
   "pygments_lexer": "ipython3",
   "version": "3.7.3"
  }
 },
 "nbformat": 4,
 "nbformat_minor": 2
}
