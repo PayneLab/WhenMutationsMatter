{
 "cells": [
  {
   "cell_type": "markdown",
   "metadata": {},
   "source": [
    "# FSIP2 Mutation Trans Effect on Phosphoproteomics"
   ]
  },
  {
   "cell_type": "markdown",
   "metadata": {},
   "source": [
    "This notebook analyzes the trans effect of FSIP2 mutation on interacting and other proteins Phosphoproteomics, in Endometrial, Colon, and Ovarian cancer."
   ]
  },
  {
   "cell_type": "markdown",
   "metadata": {},
   "source": [
    "### Library Imports"
   ]
  },
  {
   "cell_type": "code",
   "execution_count": 1,
   "metadata": {},
   "outputs": [
    {
     "name": "stdout",
     "output_type": "stream",
     "text": [
      "                                    \r"
     ]
    }
   ],
   "source": [
    "import pandas as pd\n",
    "import numpy as np\n",
    "import scipy.stats\n",
    "\n",
    "import warnings\n",
    "warnings.filterwarnings(\"ignore\")\n",
    "\n",
    "import cptac\n",
    "import cptac.algorithms as al\n",
    "\n",
    "en = cptac.Endometrial()\n",
    "co = cptac.Colon()\n",
    "ov = cptac.Ovarian()"
   ]
  },
  {
   "cell_type": "markdown",
   "metadata": {},
   "source": [
    "### Select Gene"
   ]
  },
  {
   "cell_type": "code",
   "execution_count": 2,
   "metadata": {},
   "outputs": [],
   "source": [
    "gene = \"FSIP2\""
   ]
  },
  {
   "cell_type": "markdown",
   "metadata": {},
   "source": [
    "### Investigate Proteomics, Phosphoproteomics, Acetylproteomics, or Transcriptomics"
   ]
  },
  {
   "cell_type": "code",
   "execution_count": 3,
   "metadata": {},
   "outputs": [],
   "source": [
    "#omics = \"proteomics\"\n",
    "#omics = \"transcriptomics\"\n",
    "omics = \"phosphoproteomics\"\n",
    "#omics = \"acetylproteomics\""
   ]
  },
  {
   "cell_type": "markdown",
   "metadata": {},
   "source": [
    "### Track all significant comparisons in Dataframe"
   ]
  },
  {
   "cell_type": "code",
   "execution_count": 4,
   "metadata": {},
   "outputs": [],
   "source": [
    "all_significant_comparisons = pd.DataFrame(columns=['Cancer_Type', 'Gene', 'Comparison','Interacting_Protein','P_Value'])"
   ]
  },
  {
   "cell_type": "code",
   "execution_count": 5,
   "metadata": {},
   "outputs": [],
   "source": [
    "def add_to_all_significant_comparisons(df, cancer, interacting, all_sig_comp):\n",
    "    expanded = df\n",
    "    expanded['Gene'] = gene\n",
    "    expanded['Cancer_Type'] = cancer\n",
    "    expanded['Interacting_Protein'] = interacting\n",
    "    \n",
    "    updated_all_comparisons = pd.concat([all_sig_comp, expanded], sort=False)\n",
    "    \n",
    "    return updated_all_comparisons"
   ]
  },
  {
   "cell_type": "markdown",
   "metadata": {},
   "source": [
    "# Interacting Proteins: Phosphoproteomics"
   ]
  },
  {
   "cell_type": "markdown",
   "metadata": {},
   "source": [
    "### Generate interacting protein list"
   ]
  },
  {
   "cell_type": "code",
   "execution_count": 6,
   "metadata": {},
   "outputs": [
    {
     "name": "stdout",
     "output_type": "stream",
     "text": [
      "Interacting Proteins:\n",
      "AKAP3\n",
      "ROPN1\n",
      "FSIP1\n",
      "ZPBP\n",
      "CMBL\n",
      "TMED2\n",
      "DTYMK\n",
      "ABCC12\n",
      "ZMIZ1\n",
      "MGAT4B\n",
      "PDZRN3\n",
      "FSIP2\n",
      "NPFFR2\n",
      "METAP1D\n",
      "CCDC168\n",
      "NPY2R\n",
      "DLK2\n",
      "AKAP4\n",
      "TMEM241\n",
      "ABCC11\n",
      "SNTB1\n",
      "POTEI\n",
      "ABCA13\n",
      "ZNF445\n",
      "SPATS2\n",
      "FLJ22184\n"
     ]
    }
   ],
   "source": [
    "'''Use get interacting proteins method to generate list of interacting proteins'''\n",
    "interacting_proteins = al.get_interacting_proteins(gene)\n",
    "\n",
    "print(\"Interacting Proteins:\")\n",
    "for interacting_protein in interacting_proteins:\n",
    "    print(interacting_protein)"
   ]
  },
  {
   "cell_type": "markdown",
   "metadata": {},
   "source": [
    "## Endometrial"
   ]
  },
  {
   "cell_type": "markdown",
   "metadata": {},
   "source": [
    "### Test for significant comparisons in any of interacting proteins"
   ]
  },
  {
   "cell_type": "code",
   "execution_count": 7,
   "metadata": {},
   "outputs": [
    {
     "name": "stdout",
     "output_type": "stream",
     "text": [
      "ROPN1 did not match any columns in phosphoproteomics dataframe. ROPN1_phosphoproteomics column inserted, but filled with NaN.\n",
      "ZPBP did not match any columns in phosphoproteomics dataframe. ZPBP_phosphoproteomics column inserted, but filled with NaN.\n",
      "CMBL did not match any columns in phosphoproteomics dataframe. CMBL_phosphoproteomics column inserted, but filled with NaN.\n",
      "TMED2 did not match any columns in phosphoproteomics dataframe. TMED2_phosphoproteomics column inserted, but filled with NaN.\n",
      "DTYMK did not match any columns in phosphoproteomics dataframe. DTYMK_phosphoproteomics column inserted, but filled with NaN.\n",
      "ABCC12 did not match any columns in phosphoproteomics dataframe. ABCC12_phosphoproteomics column inserted, but filled with NaN.\n",
      "ZMIZ1 did not match any columns in phosphoproteomics dataframe. ZMIZ1_phosphoproteomics column inserted, but filled with NaN.\n",
      "MGAT4B did not match any columns in phosphoproteomics dataframe. MGAT4B_phosphoproteomics column inserted, but filled with NaN.\n",
      "FSIP2 did not match any columns in phosphoproteomics dataframe. FSIP2_phosphoproteomics column inserted, but filled with NaN.\n",
      "NPFFR2 did not match any columns in phosphoproteomics dataframe. NPFFR2_phosphoproteomics column inserted, but filled with NaN.\n",
      "METAP1D did not match any columns in phosphoproteomics dataframe. METAP1D_phosphoproteomics column inserted, but filled with NaN.\n",
      "CCDC168 did not match any columns in phosphoproteomics dataframe. CCDC168_phosphoproteomics column inserted, but filled with NaN.\n",
      "NPY2R did not match any columns in phosphoproteomics dataframe. NPY2R_phosphoproteomics column inserted, but filled with NaN.\n",
      "DLK2 did not match any columns in phosphoproteomics dataframe. DLK2_phosphoproteomics column inserted, but filled with NaN.\n",
      "AKAP4 did not match any columns in phosphoproteomics dataframe. AKAP4_phosphoproteomics column inserted, but filled with NaN.\n",
      "TMEM241 did not match any columns in phosphoproteomics dataframe. TMEM241_phosphoproteomics column inserted, but filled with NaN.\n",
      "ABCC11 did not match any columns in phosphoproteomics dataframe. ABCC11_phosphoproteomics column inserted, but filled with NaN.\n",
      "POTEI did not match any columns in phosphoproteomics dataframe. POTEI_phosphoproteomics column inserted, but filled with NaN.\n",
      "FLJ22184 did not match any columns in phosphoproteomics dataframe. FLJ22184_phosphoproteomics column inserted, but filled with NaN.\n",
      "Doing t-test comparisons\n",
      "\n",
      "No significant comparisons.\n"
     ]
    }
   ],
   "source": [
    "'''Create dataframe in order to do comparisons with wrap_ttest'''\n",
    "protdf = en.join_omics_to_mutations(mutations_genes=[gene], omics_df_name=omics, omics_genes=interacting_proteins)\n",
    "protdf = protdf.loc[protdf['Sample_Status'] == 'Tumor']\n",
    "\n",
    "'''Create the binary valued column needed to do the comparison'''\n",
    "for ind, row in protdf.iterrows():\n",
    "    if row[gene+\"_Mutation_Status\"] != 'Wildtype_Tumor':\n",
    "        protdf.at[ind,'Label'] = 'Mutated'\n",
    "    else:\n",
    "        protdf.at[ind,'Label'] = 'Wildtype'\n",
    "\n",
    "'''Format the dataframe correctly'''\n",
    "protdf = protdf.drop(gene+\"_Mutation\",axis=1)\n",
    "protdf = protdf.drop(gene+\"_Location\",axis=1)\n",
    "protdf = protdf.drop(gene+\"_Mutation_Status\", axis=1)\n",
    "protdf = protdf.drop(\"Sample_Status\",axis=1)\n",
    "\n",
    "\n",
    "'''Make list of columns to be compared using t-tests'''\n",
    "col_list = list(protdf.columns)\n",
    "col_list.remove('Label')\n",
    "\n",
    "print(\"Doing t-test comparisons\\n\")\n",
    "\n",
    "'''Call wrap_ttest, pass in formatted dataframe'''\n",
    "wrap_results = al.wrap_ttest(protdf, 'Label', col_list)\n",
    "\n",
    "'''Print results, if anything significant was found'''\n",
    "if wrap_results is not None:\n",
    "        print(wrap_results)\n",
    "        print(\"\\n\\n\")\n",
    "        \n",
    "        all_significant_comparisons = add_to_all_significant_comparisons(wrap_results, \"Endometrial\", True, all_significant_comparisons)\n"
   ]
  },
  {
   "cell_type": "markdown",
   "metadata": {},
   "source": [
    "## Colon"
   ]
  },
  {
   "cell_type": "markdown",
   "metadata": {},
   "source": [
    "### Test for significant comparisons in any of interacting proteins"
   ]
  },
  {
   "cell_type": "code",
   "execution_count": 8,
   "metadata": {},
   "outputs": [
    {
     "name": "stdout",
     "output_type": "stream",
     "text": [
      "AKAP3 did not match any columns in phosphoproteomics dataframe. AKAP3_phosphoproteomics column inserted, but filled with NaN.\n",
      "ROPN1 did not match any columns in phosphoproteomics dataframe. ROPN1_phosphoproteomics column inserted, but filled with NaN.\n",
      "FSIP1 did not match any columns in phosphoproteomics dataframe. FSIP1_phosphoproteomics column inserted, but filled with NaN.\n",
      "ZPBP did not match any columns in phosphoproteomics dataframe. ZPBP_phosphoproteomics column inserted, but filled with NaN.\n",
      "CMBL did not match any columns in phosphoproteomics dataframe. CMBL_phosphoproteomics column inserted, but filled with NaN.\n",
      "TMED2 did not match any columns in phosphoproteomics dataframe. TMED2_phosphoproteomics column inserted, but filled with NaN.\n",
      "DTYMK did not match any columns in phosphoproteomics dataframe. DTYMK_phosphoproteomics column inserted, but filled with NaN.\n",
      "ABCC12 did not match any columns in phosphoproteomics dataframe. ABCC12_phosphoproteomics column inserted, but filled with NaN.\n",
      "ZMIZ1 did not match any columns in phosphoproteomics dataframe. ZMIZ1_phosphoproteomics column inserted, but filled with NaN.\n",
      "MGAT4B did not match any columns in phosphoproteomics dataframe. MGAT4B_phosphoproteomics column inserted, but filled with NaN.\n",
      "PDZRN3 did not match any columns in phosphoproteomics dataframe. PDZRN3_phosphoproteomics column inserted, but filled with NaN.\n",
      "FSIP2 did not match any columns in phosphoproteomics dataframe. FSIP2_phosphoproteomics column inserted, but filled with NaN.\n",
      "NPFFR2 did not match any columns in phosphoproteomics dataframe. NPFFR2_phosphoproteomics column inserted, but filled with NaN.\n",
      "METAP1D did not match any columns in phosphoproteomics dataframe. METAP1D_phosphoproteomics column inserted, but filled with NaN.\n",
      "CCDC168 did not match any columns in phosphoproteomics dataframe. CCDC168_phosphoproteomics column inserted, but filled with NaN.\n",
      "NPY2R did not match any columns in phosphoproteomics dataframe. NPY2R_phosphoproteomics column inserted, but filled with NaN.\n",
      "DLK2 did not match any columns in phosphoproteomics dataframe. DLK2_phosphoproteomics column inserted, but filled with NaN.\n",
      "AKAP4 did not match any columns in phosphoproteomics dataframe. AKAP4_phosphoproteomics column inserted, but filled with NaN.\n",
      "TMEM241 did not match any columns in phosphoproteomics dataframe. TMEM241_phosphoproteomics column inserted, but filled with NaN.\n",
      "ABCC11 did not match any columns in phosphoproteomics dataframe. ABCC11_phosphoproteomics column inserted, but filled with NaN.\n",
      "SNTB1 did not match any columns in phosphoproteomics dataframe. SNTB1_phosphoproteomics column inserted, but filled with NaN.\n",
      "POTEI did not match any columns in phosphoproteomics dataframe. POTEI_phosphoproteomics column inserted, but filled with NaN.\n",
      "ABCA13 did not match any columns in phosphoproteomics dataframe. ABCA13_phosphoproteomics column inserted, but filled with NaN.\n",
      "ZNF445 did not match any columns in phosphoproteomics dataframe. ZNF445_phosphoproteomics column inserted, but filled with NaN.\n",
      "SPATS2 did not match any columns in phosphoproteomics dataframe. SPATS2_phosphoproteomics column inserted, but filled with NaN.\n",
      "FLJ22184 did not match any columns in phosphoproteomics dataframe. FLJ22184_phosphoproteomics column inserted, but filled with NaN.\n",
      "Doing t-test comparisons\n",
      "\n",
      "No significant comparisons.\n"
     ]
    }
   ],
   "source": [
    "'''Create dataframe in order to do comparisons with wrap_ttest'''\n",
    "protdf = co.join_omics_to_mutations(mutations_genes=[gene], omics_df_name=omics, omics_genes=interacting_proteins)\n",
    "protdf = protdf.loc[protdf['Sample_Status'] == 'Tumor']\n",
    "\n",
    "'''Create the binary valued column needed to do the comparison'''\n",
    "for ind, row in protdf.iterrows():\n",
    "    if row[gene+\"_Mutation_Status\"] != 'Wildtype_Tumor':\n",
    "        protdf.at[ind,'Label'] = 'Mutated'\n",
    "    else:\n",
    "        protdf.at[ind,'Label'] = 'Wildtype'\n",
    "\n",
    "'''Format the dataframe correctly'''\n",
    "protdf = protdf.drop(gene+\"_Mutation\",axis=1)\n",
    "protdf = protdf.drop(gene+\"_Location\",axis=1)\n",
    "protdf = protdf.drop(gene+\"_Mutation_Status\", axis=1)\n",
    "protdf = protdf.drop(\"Sample_Status\",axis=1)\n",
    "\n",
    "'''Make list of columns to be compared using t-tests'''\n",
    "col_list = list(protdf.columns)\n",
    "col_list.remove('Label')\n",
    "\n",
    "print(\"Doing t-test comparisons\\n\")\n",
    "\n",
    "'''Call wrap_ttest, pass in formatted dataframe'''\n",
    "wrap_results = al.wrap_ttest(protdf, 'Label', col_list)\n",
    "\n",
    "'''Print results, if anything significant was found'''\n",
    "if wrap_results is not None:\n",
    "        print(wrap_results)\n",
    "        print(\"\\n\\n\")\n",
    "        \n",
    "        all_significant_comparisons = add_to_all_significant_comparisons(wrap_results, \"Colon\", True, all_significant_comparisons)\n"
   ]
  },
  {
   "cell_type": "markdown",
   "metadata": {},
   "source": [
    "## Ovarian"
   ]
  },
  {
   "cell_type": "code",
   "execution_count": 9,
   "metadata": {},
   "outputs": [
    {
     "name": "stdout",
     "output_type": "stream",
     "text": [
      "ROPN1 did not match any columns in phosphoproteomics dataframe. ROPN1_phosphoproteomics column inserted, but filled with NaN.\n",
      "FSIP1 did not match any columns in phosphoproteomics dataframe. FSIP1_phosphoproteomics column inserted, but filled with NaN.\n",
      "ZPBP did not match any columns in phosphoproteomics dataframe. ZPBP_phosphoproteomics column inserted, but filled with NaN.\n",
      "TMED2 did not match any columns in phosphoproteomics dataframe. TMED2_phosphoproteomics column inserted, but filled with NaN.\n",
      "DTYMK did not match any columns in phosphoproteomics dataframe. DTYMK_phosphoproteomics column inserted, but filled with NaN.\n",
      "ABCC12 did not match any columns in phosphoproteomics dataframe. ABCC12_phosphoproteomics column inserted, but filled with NaN.\n",
      "ZMIZ1 did not match any columns in phosphoproteomics dataframe. ZMIZ1_phosphoproteomics column inserted, but filled with NaN.\n",
      "MGAT4B did not match any columns in phosphoproteomics dataframe. MGAT4B_phosphoproteomics column inserted, but filled with NaN.\n",
      "FSIP2 did not match any columns in phosphoproteomics dataframe. FSIP2_phosphoproteomics column inserted, but filled with NaN.\n",
      "NPFFR2 did not match any columns in phosphoproteomics dataframe. NPFFR2_phosphoproteomics column inserted, but filled with NaN.\n",
      "METAP1D did not match any columns in phosphoproteomics dataframe. METAP1D_phosphoproteomics column inserted, but filled with NaN.\n",
      "CCDC168 did not match any columns in phosphoproteomics dataframe. CCDC168_phosphoproteomics column inserted, but filled with NaN.\n",
      "NPY2R did not match any columns in phosphoproteomics dataframe. NPY2R_phosphoproteomics column inserted, but filled with NaN.\n",
      "DLK2 did not match any columns in phosphoproteomics dataframe. DLK2_phosphoproteomics column inserted, but filled with NaN.\n",
      "AKAP4 did not match any columns in phosphoproteomics dataframe. AKAP4_phosphoproteomics column inserted, but filled with NaN.\n",
      "TMEM241 did not match any columns in phosphoproteomics dataframe. TMEM241_phosphoproteomics column inserted, but filled with NaN.\n",
      "ABCC11 did not match any columns in phosphoproteomics dataframe. ABCC11_phosphoproteomics column inserted, but filled with NaN.\n",
      "FLJ22184 did not match any columns in phosphoproteomics dataframe. FLJ22184_phosphoproteomics column inserted, but filled with NaN.\n",
      "Doing t-test comparisons\n",
      "\n",
      "No significant comparisons.\n"
     ]
    }
   ],
   "source": [
    "'''Create dataframe in order to do comparisons with wrap_ttest'''\n",
    "protdf = ov.join_omics_to_mutations(mutations_genes=[gene], omics_df_name=omics, omics_genes=interacting_proteins) \n",
    "protdf = protdf.loc[protdf['Sample_Status'] == 'Tumor']\n",
    "\n",
    "'''Create the binary valued column needed to do the comparison'''\n",
    "for ind, row in protdf.iterrows():\n",
    "    if row[gene+\"_Mutation_Status\"] != 'Wildtype_Tumor':\n",
    "        protdf.loc[ind,'Label'] = 'Mutated'\n",
    "    else:\n",
    "        protdf.loc[ind,'Label'] = 'Wildtype'\n",
    "\n",
    "'''Format the dataframe correctly'''\n",
    "protdf = protdf.drop(gene+\"_Mutation\",axis=1)\n",
    "protdf = protdf.drop(gene+\"_Location\",axis=1)\n",
    "protdf = protdf.drop(gene+\"_Mutation_Status\", axis=1)\n",
    "protdf = protdf.drop(\"Sample_Status\",axis=1)\n",
    "protdf = protdf.loc[:,~protdf.columns.duplicated()]\n",
    "\n",
    "'''Make list of columns to be compared using t-tests'''\n",
    "col_list = list(protdf.columns)\n",
    "col_list.remove('Label')\n",
    "\n",
    "print(\"Doing t-test comparisons\\n\")\n",
    "\n",
    "'''Call wrap_ttest, pass in formatted dataframe'''\n",
    "wrap_results = al.wrap_ttest(protdf, 'Label', col_list)\n",
    "\n",
    "'''Print results, if anything significant was found'''\n",
    "if wrap_results is not None:\n",
    "        print(wrap_results)\n",
    "        print(\"\\n\\n\")\n",
    "        \n",
    "        all_significant_comparisons = add_to_all_significant_comparisons(wrap_results, \"Ovarian\", True, all_significant_comparisons)\n"
   ]
  },
  {
   "cell_type": "markdown",
   "metadata": {},
   "source": [
    "# All Proteins: Phosphoproteomics"
   ]
  },
  {
   "cell_type": "markdown",
   "metadata": {},
   "source": [
    "## Endometrial"
   ]
  },
  {
   "cell_type": "code",
   "execution_count": 10,
   "metadata": {},
   "outputs": [
    {
     "name": "stdout",
     "output_type": "stream",
     "text": [
      "\n",
      "Gene:  FSIP2\n",
      "Doing t-test comparisons\n",
      "\n",
      "No significant comparisons.\n"
     ]
    }
   ],
   "source": [
    "try:\n",
    "    print(\"\\nGene: \", gene)\n",
    "\n",
    "    '''Use all proteins'''\n",
    "    proteomics = en.get_proteomics()\n",
    "    all_proteins = proteomics.columns\n",
    "    #all_proteins = all_proteins[:100]\n",
    "\n",
    "    '''Create dataframe in order to do comparisons with wrap_ttest'''\n",
    "    protdf = en.join_omics_to_mutations(mutations_genes=[gene], omics_df_name=omics)\n",
    "    protdf = protdf.loc[protdf['Sample_Status'] == 'Tumor']\n",
    "    \n",
    "    '''Create the binary valued column needed to do the comparison'''\n",
    "    for ind, row in protdf.iterrows():\n",
    "        if row[gene+\"_Mutation_Status\"] != 'Wildtype_Tumor':\n",
    "            protdf.at[ind,'Label'] = 'Mutated'\n",
    "        else:\n",
    "            protdf.at[ind,'Label'] = 'Wildtype'\n",
    "\n",
    "    '''Format the datafram correctly'''\n",
    "    protdf = protdf.drop(gene+\"_Mutation\",axis=1)\n",
    "    protdf = protdf.drop(gene+\"_Location\",axis=1)\n",
    "    protdf = protdf.drop(gene+\"_Mutation_Status\", axis=1)\n",
    "    protdf = protdf.drop(\"Sample_Status\",axis=1)\n",
    "\n",
    "    '''Make list of columns to be compared using t-tests'''\n",
    "    col_list = list(protdf.columns)\n",
    "    col_list.remove('Label')\n",
    "\n",
    "    print(\"Doing t-test comparisons\\n\")\n",
    "    \n",
    "    '''Call wrap_ttest, pass in formatted dataframe'''\n",
    "    wrap_results = al.wrap_ttest(protdf, 'Label', col_list)\n",
    "\n",
    "    '''Print results, if anything significant was found'''\n",
    "    if wrap_results is not None:\n",
    "            print(wrap_results)\n",
    "            print(\"\\n\\n\")\n",
    "            \n",
    "            all_significant_comparisons = add_to_all_significant_comparisons(wrap_results, \"Endometrial\", False, all_significant_comparisons)\n",
    "\n",
    "\n",
    "except Exception as e:\n",
    "    print(\"Error in Comparison\")\n",
    "    print(e)"
   ]
  },
  {
   "cell_type": "markdown",
   "metadata": {},
   "source": [
    "## Colon"
   ]
  },
  {
   "cell_type": "code",
   "execution_count": 11,
   "metadata": {},
   "outputs": [
    {
     "name": "stdout",
     "output_type": "stream",
     "text": [
      "\n",
      "Gene:  FSIP2\n",
      "Doing t-test comparisons\n",
      "\n",
      "No significant comparisons.\n"
     ]
    }
   ],
   "source": [
    "try:\n",
    "    print(\"\\nGene: \", gene)\n",
    "\n",
    "    '''Use all proteins'''\n",
    "    proteomics = co.get_proteomics()\n",
    "    all_proteins = proteomics.columns\n",
    "    #all_proteins = all_proteins[:100]\n",
    "\n",
    "    '''Create dataframe in order to do comparisons with wrap_ttest'''\n",
    "    protdf = co.join_omics_to_mutations(mutations_genes=[gene], omics_df_name=omics)\n",
    "    protdf = protdf.loc[protdf['Sample_Status'] == 'Tumor']\n",
    "    \n",
    "    '''Create the binary valued column needed to do the comparison'''\n",
    "    for ind, row in protdf.iterrows():\n",
    "        if row[gene+\"_Mutation_Status\"] != 'Wildtype_Tumor':\n",
    "            protdf.at[ind,'Label'] = 'Mutated'\n",
    "        else:\n",
    "            protdf.at[ind,'Label'] = 'Wildtype'\n",
    "\n",
    "    '''Format the datafram correctly'''\n",
    "    protdf = protdf.drop(gene+\"_Mutation\",axis=1)\n",
    "    protdf = protdf.drop(gene+\"_Location\",axis=1)\n",
    "    protdf = protdf.drop(gene+\"_Mutation_Status\", axis=1)\n",
    "    protdf = protdf.drop(\"Sample_Status\",axis=1)\n",
    "\n",
    "    '''Make list of columns to be compared using t-tests'''\n",
    "    col_list = list(protdf.columns)\n",
    "    col_list.remove('Label')\n",
    "\n",
    "    print(\"Doing t-test comparisons\\n\")\n",
    "    \n",
    "    '''Call wrap_ttest, pass in formatted dataframe'''\n",
    "    wrap_results = al.wrap_ttest(protdf, 'Label', col_list)\n",
    "\n",
    "    '''Print results, if anything significant was found'''\n",
    "    if wrap_results is not None:\n",
    "            print(wrap_results)\n",
    "            print(\"\\n\\n\")\n",
    "            \n",
    "            all_significant_comparisons = add_to_all_significant_comparisons(wrap_results, \"Colon\", False, all_significant_comparisons)\n",
    "\n",
    "\n",
    "except Exception as e:\n",
    "    print(\"Error in Comparison\")\n",
    "    print(e)"
   ]
  },
  {
   "cell_type": "markdown",
   "metadata": {},
   "source": [
    "## Ovarian"
   ]
  },
  {
   "cell_type": "code",
   "execution_count": 12,
   "metadata": {},
   "outputs": [
    {
     "name": "stdout",
     "output_type": "stream",
     "text": [
      "\n",
      "Gene:  FSIP2\n",
      "Doing t-test comparisons\n",
      "\n",
      "No significant comparisons.\n"
     ]
    }
   ],
   "source": [
    "\n",
    "print(\"\\nGene: \", gene)\n",
    "\n",
    "'''Use all proteins'''\n",
    "proteomics = ov.get_proteomics()\n",
    "all_proteins = list(set(proteomics.columns))\n",
    "\n",
    "'''Create dataframe in order to do comparisons with wrap_ttest'''\n",
    "protdf = ov.join_omics_to_mutations(mutations_genes=[gene], omics_df_name=omics)\n",
    "protdf = protdf.loc[protdf['Sample_Status'] == 'Tumor']\n",
    "protdf = protdf.loc[:,~protdf.columns.duplicated()]\n",
    "\n",
    "'''Create the binary valued column needed to do the comparison'''\n",
    "for ind, row in protdf.iterrows():\n",
    "    if row[gene+\"_Mutation_Status\"] != 'Wildtype_Tumor':\n",
    "        protdf.at[ind,'Label'] = 'Mutated'\n",
    "    else:\n",
    "        protdf.at[ind,'Label'] = 'Wildtype'\n",
    "\n",
    "'''Format the datafram correctly'''\n",
    "protdf = protdf.drop(gene+\"_Mutation\",axis=1)\n",
    "protdf = protdf.drop(gene+\"_Location\",axis=1)\n",
    "protdf = protdf.drop(gene+\"_Mutation_Status\", axis=1)\n",
    "protdf = protdf.drop(\"Sample_Status\",axis=1)\n",
    "\n",
    "'''Make list of columns to be compared using t-tests'''\n",
    "col_list = list(protdf.columns)\n",
    "col_list.remove('Label')\n",
    "\n",
    "print(\"Doing t-test comparisons\\n\")\n",
    "\n",
    "'''Call wrap_ttest, pass in formatted dataframe'''\n",
    "wrap_results = al.wrap_ttest(protdf, 'Label', col_list)\n",
    "\n",
    "'''Print results, if anything significant was found'''\n",
    "if wrap_results is not None:\n",
    "        print(wrap_results)\n",
    "        print(\"\\n\\n\")\n",
    "        \n",
    "        all_significant_comparisons = add_to_all_significant_comparisons(wrap_results, \"Ovarian\", False, all_significant_comparisons)"
   ]
  },
  {
   "cell_type": "markdown",
   "metadata": {},
   "source": [
    "### Print all significant comparisons"
   ]
  },
  {
   "cell_type": "code",
   "execution_count": 13,
   "metadata": {},
   "outputs": [
    {
     "name": "stdout",
     "output_type": "stream",
     "text": [
      "No Significant Comparisons!\n"
     ]
    }
   ],
   "source": [
    "if len(all_significant_comparisons) > 0:\n",
    "    display(all_significant_comparisons)\n",
    "    \n",
    "else:\n",
    "    print('No Significant Comparisons!')"
   ]
  },
  {
   "cell_type": "markdown",
   "metadata": {},
   "source": [
    "### Write significant comparisons (if any) to shared CSV file"
   ]
  },
  {
   "cell_type": "code",
   "execution_count": 14,
   "metadata": {},
   "outputs": [],
   "source": [
    "existing_results = pd.read_csv(gene+'_Trans_Results.csv')\n",
    "\n",
    "updated_results = pd.concat([existing_results, all_significant_comparisons], sort=False)\n",
    "\n",
    "updated_results.to_csv(path_or_buf = gene + '_Trans_Results.csv', index=False)"
   ]
  }
 ],
 "metadata": {
  "kernelspec": {
   "display_name": "Python 3",
   "language": "python",
   "name": "python3"
  },
  "language_info": {
   "codemirror_mode": {
    "name": "ipython",
    "version": 3
   },
   "file_extension": ".py",
   "mimetype": "text/x-python",
   "name": "python",
   "nbconvert_exporter": "python",
   "pygments_lexer": "ipython3",
   "version": "3.6.8"
  }
 },
 "nbformat": 4,
 "nbformat_minor": 2
}
