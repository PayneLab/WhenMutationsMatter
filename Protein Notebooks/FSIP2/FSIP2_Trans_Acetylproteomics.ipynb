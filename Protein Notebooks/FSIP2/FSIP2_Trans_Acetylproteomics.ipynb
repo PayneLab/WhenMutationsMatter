{
 "cells": [
  {
   "cell_type": "markdown",
   "metadata": {},
   "source": [
    "# FSIP2 Mutation Trans Effect on Acetylproteomics"
   ]
  },
  {
   "cell_type": "markdown",
   "metadata": {},
   "source": [
    "This notebook analyzes the trans effect of FSIP2 mutation on interacting and other proteins Acetylproteomics, in Endometrial cancer (The Colon and Ovarian Datasets don't have acetylproteomic data."
   ]
  },
  {
   "cell_type": "markdown",
   "metadata": {},
   "source": [
    "### Library Imports"
   ]
  },
  {
   "cell_type": "code",
   "execution_count": 1,
   "metadata": {},
   "outputs": [
    {
     "name": "stdout",
     "output_type": "stream",
     "text": [
      "                                    \r"
     ]
    }
   ],
   "source": [
    "import pandas as pd\n",
    "import numpy as np\n",
    "import scipy.stats\n",
    "\n",
    "import warnings\n",
    "warnings.filterwarnings(\"ignore\")\n",
    "\n",
    "import cptac\n",
    "import cptac.algorithms as al\n",
    "\n",
    "en = cptac.Endometrial()\n",
    "co = cptac.Colon()"
   ]
  },
  {
   "cell_type": "markdown",
   "metadata": {},
   "source": [
    "### Specify Gene"
   ]
  },
  {
   "cell_type": "code",
   "execution_count": 2,
   "metadata": {},
   "outputs": [],
   "source": [
    "gene = \"FSIP2\""
   ]
  },
  {
   "cell_type": "markdown",
   "metadata": {},
   "source": [
    "### Investigate Proteomics, Phosphoproteomics, Acetylproteomics, or Transcriptomics"
   ]
  },
  {
   "cell_type": "code",
   "execution_count": 3,
   "metadata": {},
   "outputs": [],
   "source": [
    "#omics = \"proteomics\"\n",
    "#omics = \"transcriptomics\"\n",
    "#omics = \"phosphoproteomics\"\n",
    "omics = \"acetylproteomics\""
   ]
  },
  {
   "cell_type": "markdown",
   "metadata": {},
   "source": [
    "### Track all significant comparisons in Dataframe"
   ]
  },
  {
   "cell_type": "code",
   "execution_count": 4,
   "metadata": {},
   "outputs": [],
   "source": [
    "all_significant_comparisons = pd.DataFrame(columns=['Cancer_Type', 'Gene', 'Comparison','Interacting_Protein','P_Value'])"
   ]
  },
  {
   "cell_type": "code",
   "execution_count": 5,
   "metadata": {},
   "outputs": [],
   "source": [
    "def add_to_all_significant_comparisons(df, cancer, interacting, all_sig_comp):\n",
    "    expanded = df\n",
    "    expanded['Gene'] = gene\n",
    "    expanded['Cancer_Type'] = cancer\n",
    "    expanded['Interacting_Protein'] = interacting\n",
    "    \n",
    "    updated_all_comparisons = pd.concat([all_sig_comp, expanded], sort=False)\n",
    "    \n",
    "    return updated_all_comparisons"
   ]
  },
  {
   "cell_type": "markdown",
   "metadata": {},
   "source": [
    "# Interacting Proteins: Acetylproteomics"
   ]
  },
  {
   "cell_type": "markdown",
   "metadata": {},
   "source": [
    "### Generate interacting protein list"
   ]
  },
  {
   "cell_type": "code",
   "execution_count": 6,
   "metadata": {},
   "outputs": [
    {
     "name": "stdout",
     "output_type": "stream",
     "text": [
      "Interacting Proteins:\n",
      "AKAP3\n",
      "ROPN1\n",
      "FSIP1\n",
      "ZPBP\n",
      "CMBL\n",
      "TMED2\n",
      "DTYMK\n",
      "ABCC12\n",
      "ZMIZ1\n",
      "MGAT4B\n",
      "PDZRN3\n",
      "FSIP2\n",
      "NPFFR2\n",
      "METAP1D\n",
      "CCDC168\n",
      "NPY2R\n",
      "DLK2\n",
      "AKAP4\n",
      "TMEM241\n",
      "ABCC11\n",
      "SNTB1\n",
      "POTEI\n",
      "ABCA13\n",
      "ZNF445\n",
      "SPATS2\n",
      "FLJ22184\n"
     ]
    }
   ],
   "source": [
    "'''Use get interacting proteins method to generate list of interacting proteins'''\n",
    "interacting_proteins = al.get_interacting_proteins(gene)\n",
    "\n",
    "print(\"Interacting Proteins:\")\n",
    "for interacting_protein in interacting_proteins:\n",
    "    print(interacting_protein)"
   ]
  },
  {
   "cell_type": "markdown",
   "metadata": {},
   "source": [
    "## Endometrial"
   ]
  },
  {
   "cell_type": "markdown",
   "metadata": {},
   "source": [
    "### Test for significant comparisons in any of interacting proteins"
   ]
  },
  {
   "cell_type": "code",
   "execution_count": 7,
   "metadata": {},
   "outputs": [
    {
     "name": "stdout",
     "output_type": "stream",
     "text": [
      "AKAP3 did not match any columns in acetylproteomics dataframe. AKAP3_acetylproteomics column inserted, but filled with NaN.\n",
      "ROPN1 did not match any columns in acetylproteomics dataframe. ROPN1_acetylproteomics column inserted, but filled with NaN.\n",
      "FSIP1 did not match any columns in acetylproteomics dataframe. FSIP1_acetylproteomics column inserted, but filled with NaN.\n",
      "ZPBP did not match any columns in acetylproteomics dataframe. ZPBP_acetylproteomics column inserted, but filled with NaN.\n",
      "TMED2 did not match any columns in acetylproteomics dataframe. TMED2_acetylproteomics column inserted, but filled with NaN.\n",
      "ABCC12 did not match any columns in acetylproteomics dataframe. ABCC12_acetylproteomics column inserted, but filled with NaN.\n",
      "MGAT4B did not match any columns in acetylproteomics dataframe. MGAT4B_acetylproteomics column inserted, but filled with NaN.\n",
      "PDZRN3 did not match any columns in acetylproteomics dataframe. PDZRN3_acetylproteomics column inserted, but filled with NaN.\n",
      "FSIP2 did not match any columns in acetylproteomics dataframe. FSIP2_acetylproteomics column inserted, but filled with NaN.\n",
      "NPFFR2 did not match any columns in acetylproteomics dataframe. NPFFR2_acetylproteomics column inserted, but filled with NaN.\n",
      "METAP1D did not match any columns in acetylproteomics dataframe. METAP1D_acetylproteomics column inserted, but filled with NaN.\n",
      "CCDC168 did not match any columns in acetylproteomics dataframe. CCDC168_acetylproteomics column inserted, but filled with NaN.\n",
      "NPY2R did not match any columns in acetylproteomics dataframe. NPY2R_acetylproteomics column inserted, but filled with NaN.\n",
      "DLK2 did not match any columns in acetylproteomics dataframe. DLK2_acetylproteomics column inserted, but filled with NaN.\n",
      "AKAP4 did not match any columns in acetylproteomics dataframe. AKAP4_acetylproteomics column inserted, but filled with NaN.\n",
      "TMEM241 did not match any columns in acetylproteomics dataframe. TMEM241_acetylproteomics column inserted, but filled with NaN.\n",
      "ABCC11 did not match any columns in acetylproteomics dataframe. ABCC11_acetylproteomics column inserted, but filled with NaN.\n",
      "SNTB1 did not match any columns in acetylproteomics dataframe. SNTB1_acetylproteomics column inserted, but filled with NaN.\n",
      "POTEI did not match any columns in acetylproteomics dataframe. POTEI_acetylproteomics column inserted, but filled with NaN.\n",
      "ABCA13 did not match any columns in acetylproteomics dataframe. ABCA13_acetylproteomics column inserted, but filled with NaN.\n",
      "ZNF445 did not match any columns in acetylproteomics dataframe. ZNF445_acetylproteomics column inserted, but filled with NaN.\n",
      "SPATS2 did not match any columns in acetylproteomics dataframe. SPATS2_acetylproteomics column inserted, but filled with NaN.\n",
      "FLJ22184 did not match any columns in acetylproteomics dataframe. FLJ22184_acetylproteomics column inserted, but filled with NaN.\n",
      "Doing t-test comparisons\n",
      "\n",
      "No significant comparisons.\n"
     ]
    }
   ],
   "source": [
    "'''Create dataframe in order to do comparisons with wrap_ttest'''\n",
    "protdf = en.join_omics_to_mutations(mutations_genes=[gene], omics_df_name=omics, omics_genes=interacting_proteins)\n",
    "protdf = protdf.loc[protdf['Sample_Status'] == 'Tumor']\n",
    "\n",
    "'''Create the binary valued column needed to do the comparison'''\n",
    "for ind, row in protdf.iterrows():\n",
    "    if row[gene+\"_Mutation_Status\"] != 'Wildtype_Tumor':\n",
    "        protdf.at[ind,'Label'] = 'Mutated'\n",
    "    else:\n",
    "        protdf.at[ind,'Label'] = 'Wildtype'\n",
    "\n",
    "'''Format the dataframe correctly'''\n",
    "protdf = protdf.drop(gene+\"_Mutation\",axis=1)\n",
    "protdf = protdf.drop(gene+\"_Location\",axis=1)\n",
    "protdf = protdf.drop(gene+\"_Mutation_Status\", axis=1)\n",
    "protdf = protdf.drop(\"Sample_Status\",axis=1)\n",
    "\n",
    "\n",
    "'''Make list of columns to be compared using t-tests'''\n",
    "col_list = list(protdf.columns)\n",
    "col_list.remove('Label')\n",
    "\n",
    "print(\"Doing t-test comparisons\\n\")\n",
    "\n",
    "'''Call wrap_ttest, pass in formatted dataframe'''\n",
    "wrap_results = al.wrap_ttest(protdf, 'Label', col_list)\n",
    "\n",
    "'''Print results, if anything significant was found'''\n",
    "if wrap_results is not None:\n",
    "        print(wrap_results)\n",
    "        print(\"\\n\\n\")\n",
    "        \n",
    "        all_significant_comparisons = add_to_all_significant_comparisons(wrap_results, \"Endometrial\", True, all_significant_comparisons)\n"
   ]
  },
  {
   "cell_type": "markdown",
   "metadata": {},
   "source": [
    "## Colon"
   ]
  },
  {
   "cell_type": "markdown",
   "metadata": {},
   "source": [
    "Acetylproteomic data does not exist for the Colon dataset"
   ]
  },
  {
   "cell_type": "markdown",
   "metadata": {},
   "source": [
    "## Ovarian"
   ]
  },
  {
   "cell_type": "markdown",
   "metadata": {},
   "source": [
    "Acetylproteomic data does not exist for the Ovarian dataset"
   ]
  },
  {
   "cell_type": "markdown",
   "metadata": {},
   "source": [
    "# All Proteins: Phosphoproteomics"
   ]
  },
  {
   "cell_type": "markdown",
   "metadata": {},
   "source": [
    "## Endometrial"
   ]
  },
  {
   "cell_type": "code",
   "execution_count": 8,
   "metadata": {},
   "outputs": [
    {
     "name": "stdout",
     "output_type": "stream",
     "text": [
      "\n",
      "Gene:  FSIP2\n",
      "Doing t-test comparisons\n",
      "\n",
      "                   Comparison   P_Value\n",
      "0  LMNA-K270_acetylproteomics  0.000001\n",
      "1  LMNA-K208_acetylproteomics  0.000002\n",
      "2  HARS2-K58_acetylproteomics  0.000003\n",
      "3   ALB-K183_acetylproteomics  0.000004\n",
      "\n",
      "\n",
      "\n"
     ]
    }
   ],
   "source": [
    "try:\n",
    "    print(\"\\nGene: \", gene)\n",
    "\n",
    "    '''Use all proteins'''\n",
    "    proteomics = en.get_proteomics()\n",
    "    all_proteins = proteomics.columns\n",
    "    all_proteins = list(all_proteins)\n",
    "\n",
    "    all_proteins_no_dash = []\n",
    "    for ap in all_proteins:\n",
    "        if '-' not in ap:\n",
    "            all_proteins_no_dash.append(ap)\n",
    "            \n",
    "    #all_proteins = all_proteins[:500]\n",
    "\n",
    "    '''Create dataframe in order to do comparisons with wrap_ttest'''\n",
    "    protdf = en.join_omics_to_mutations(mutations_genes=[gene], omics_df_name=omics)\n",
    "    protdf = protdf.loc[protdf['Sample_Status'] == 'Tumor']\n",
    "    \n",
    "    '''Create the binary valued column needed to do the comparison'''\n",
    "    for ind, row in protdf.iterrows():\n",
    "        if row[gene+\"_Mutation_Status\"] != 'Wildtype_Tumor':\n",
    "            protdf.at[ind,'Label'] = 'Mutated'\n",
    "        else:\n",
    "            protdf.at[ind,'Label'] = 'Wildtype'\n",
    "\n",
    "    '''Format the dataframe correctly'''\n",
    "    protdf = protdf.drop(gene+\"_Mutation\",axis=1)\n",
    "    protdf = protdf.drop(gene+\"_Location\",axis=1)\n",
    "    protdf = protdf.drop(gene+\"_Mutation_Status\", axis=1)\n",
    "    protdf = protdf.drop(\"Sample_Status\",axis=1)\n",
    "\n",
    "    '''Make list of columns to be compared using t-tests'''\n",
    "    col_list = list(protdf.columns)\n",
    "    col_list.remove('Label')\n",
    "\n",
    "    print(\"Doing t-test comparisons\\n\")\n",
    "    \n",
    "    '''Call wrap_ttest, pass in formatted dataframe'''\n",
    "    wrap_results = al.wrap_ttest(protdf, 'Label', col_list)\n",
    "\n",
    "    '''Print results, if anything significant was found'''\n",
    "    if wrap_results is not None:\n",
    "            print(wrap_results)\n",
    "            print(\"\\n\\n\")\n",
    "            \n",
    "            all_significant_comparisons = add_to_all_significant_comparisons(wrap_results, \"Endometrial\", False, all_significant_comparisons)\n",
    "\n",
    "\n",
    "except Exception as e:\n",
    "    print(\"Error in Comparison\")\n",
    "    print(e)"
   ]
  },
  {
   "cell_type": "markdown",
   "metadata": {},
   "source": [
    "## Colon"
   ]
  },
  {
   "cell_type": "markdown",
   "metadata": {},
   "source": [
    "Colon Dataset doesn't contain acetylproteomic data"
   ]
  },
  {
   "cell_type": "markdown",
   "metadata": {},
   "source": [
    "## Ovarian"
   ]
  },
  {
   "cell_type": "markdown",
   "metadata": {},
   "source": [
    "Ovarian Dataset doesn't contain acetylproteomic data"
   ]
  },
  {
   "cell_type": "markdown",
   "metadata": {},
   "source": [
    "### Print all significant comparisons"
   ]
  },
  {
   "cell_type": "code",
   "execution_count": 9,
   "metadata": {},
   "outputs": [
    {
     "data": {
      "text/html": [
       "<div>\n",
       "<style scoped>\n",
       "    .dataframe tbody tr th:only-of-type {\n",
       "        vertical-align: middle;\n",
       "    }\n",
       "\n",
       "    .dataframe tbody tr th {\n",
       "        vertical-align: top;\n",
       "    }\n",
       "\n",
       "    .dataframe thead th {\n",
       "        text-align: right;\n",
       "    }\n",
       "</style>\n",
       "<table border=\"1\" class=\"dataframe\">\n",
       "  <thead>\n",
       "    <tr style=\"text-align: right;\">\n",
       "      <th></th>\n",
       "      <th>Cancer_Type</th>\n",
       "      <th>Gene</th>\n",
       "      <th>Comparison</th>\n",
       "      <th>Interacting_Protein</th>\n",
       "      <th>P_Value</th>\n",
       "    </tr>\n",
       "  </thead>\n",
       "  <tbody>\n",
       "    <tr>\n",
       "      <th>0</th>\n",
       "      <td>Endometrial</td>\n",
       "      <td>FSIP2</td>\n",
       "      <td>LMNA-K270_acetylproteomics</td>\n",
       "      <td>False</td>\n",
       "      <td>0.000001</td>\n",
       "    </tr>\n",
       "    <tr>\n",
       "      <th>1</th>\n",
       "      <td>Endometrial</td>\n",
       "      <td>FSIP2</td>\n",
       "      <td>LMNA-K208_acetylproteomics</td>\n",
       "      <td>False</td>\n",
       "      <td>0.000002</td>\n",
       "    </tr>\n",
       "    <tr>\n",
       "      <th>2</th>\n",
       "      <td>Endometrial</td>\n",
       "      <td>FSIP2</td>\n",
       "      <td>HARS2-K58_acetylproteomics</td>\n",
       "      <td>False</td>\n",
       "      <td>0.000003</td>\n",
       "    </tr>\n",
       "    <tr>\n",
       "      <th>3</th>\n",
       "      <td>Endometrial</td>\n",
       "      <td>FSIP2</td>\n",
       "      <td>ALB-K183_acetylproteomics</td>\n",
       "      <td>False</td>\n",
       "      <td>0.000004</td>\n",
       "    </tr>\n",
       "  </tbody>\n",
       "</table>\n",
       "</div>"
      ],
      "text/plain": [
       "   Cancer_Type   Gene                  Comparison Interacting_Protein  \\\n",
       "0  Endometrial  FSIP2  LMNA-K270_acetylproteomics               False   \n",
       "1  Endometrial  FSIP2  LMNA-K208_acetylproteomics               False   \n",
       "2  Endometrial  FSIP2  HARS2-K58_acetylproteomics               False   \n",
       "3  Endometrial  FSIP2   ALB-K183_acetylproteomics               False   \n",
       "\n",
       "    P_Value  \n",
       "0  0.000001  \n",
       "1  0.000002  \n",
       "2  0.000003  \n",
       "3  0.000004  "
      ]
     },
     "metadata": {},
     "output_type": "display_data"
    }
   ],
   "source": [
    "if len(all_significant_comparisons) > 0:\n",
    "    display(all_significant_comparisons)\n",
    "    \n",
    "else:\n",
    "    print('No Significant Comparisons!')"
   ]
  },
  {
   "cell_type": "markdown",
   "metadata": {},
   "source": [
    "### Write significant comparisons (if any) to shared CSV file"
   ]
  },
  {
   "cell_type": "code",
   "execution_count": 10,
   "metadata": {},
   "outputs": [],
   "source": [
    "existing_results = pd.read_csv(gene+'_Trans_Results.csv')\n",
    "\n",
    "updated_results = pd.concat([existing_results, all_significant_comparisons], sort=False)\n",
    "\n",
    "updated_results.to_csv(path_or_buf = gene + '_Trans_Results.csv', index=False)"
   ]
  }
 ],
 "metadata": {
  "kernelspec": {
   "display_name": "Python 3",
   "language": "python",
   "name": "python3"
  },
  "language_info": {
   "codemirror_mode": {
    "name": "ipython",
    "version": 3
   },
   "file_extension": ".py",
   "mimetype": "text/x-python",
   "name": "python",
   "nbconvert_exporter": "python",
   "pygments_lexer": "ipython3",
   "version": "3.6.8"
  }
 },
 "nbformat": 4,
 "nbformat_minor": 2
}
