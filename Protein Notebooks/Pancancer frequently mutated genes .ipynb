{
 "cells": [
  {
   "cell_type": "markdown",
   "metadata": {},
   "source": [
    "# Pancancer frequently mutated genes"
   ]
  },
  {
   "cell_type": "markdown",
   "metadata": {},
   "source": [
    "## Step 1: Library Imports"
   ]
  },
  {
   "cell_type": "markdown",
   "metadata": {},
   "source": [
    "Run this cell to import the necessary libraries"
   ]
  },
  {
   "cell_type": "code",
   "execution_count": 1,
   "metadata": {},
   "outputs": [],
   "source": [
    "import pandas as pd\n",
    "import numpy as np\n",
    "import seaborn as sns\n",
    "import matplotlib.pyplot as plt\n",
    "import scipy.stats\n",
    "import sys \n",
    "sys.path.append('C:\\\\Users\\\\brittany henderson\\\\GitHub\\\\WhenMutationsMatter\\\\Brittany\\\\')\n",
    "import functions as f\n",
    "\n",
    "import cptac\n",
    "import cptac.algorithms as al"
   ]
  },
  {
   "cell_type": "markdown",
   "metadata": {},
   "source": [
    "## Step 2: Find the frequently mutated genes for Endometrial Cancer"
   ]
  },
  {
   "cell_type": "markdown",
   "metadata": {},
   "source": [
    "Enter the type of cancer and the cutoff for mutation frequency that you would like to use."
   ]
  },
  {
   "cell_type": "code",
   "execution_count": 4,
   "metadata": {},
   "outputs": [
    {
     "name": "stdout",
     "output_type": "stream",
     "text": [
      "                                    \n",
      "\n",
      "Number of Frequently Mutated Genes: 10 \n",
      "      Gene  Unique_Samples_Mut  Missence_Mut  Truncation_Mut\n",
      "0  ARID1A            0.452632      0.136842        0.400000\n",
      "1    CTCF            0.284211      0.094737        0.242105\n",
      "2  CTNNB1            0.305263      0.305263        0.000000\n",
      "3   KMT2B            0.242105      0.115789        0.126316\n",
      "4    KRAS            0.326316      0.326316        0.000000\n"
     ]
    },
    {
     "data": {
      "text/html": [
       "<div>\n",
       "<style scoped>\n",
       "    .dataframe tbody tr th:only-of-type {\n",
       "        vertical-align: middle;\n",
       "    }\n",
       "\n",
       "    .dataframe tbody tr th {\n",
       "        vertical-align: top;\n",
       "    }\n",
       "\n",
       "    .dataframe thead th {\n",
       "        text-align: right;\n",
       "    }\n",
       "</style>\n",
       "<table border=\"1\" class=\"dataframe\">\n",
       "  <thead>\n",
       "    <tr style=\"text-align: right;\">\n",
       "      <th></th>\n",
       "      <th>Gene</th>\n",
       "      <th>Unique_Samples_Mut</th>\n",
       "      <th>Missence_Mut</th>\n",
       "      <th>Truncation_Mut</th>\n",
       "    </tr>\n",
       "  </thead>\n",
       "  <tbody>\n",
       "    <tr>\n",
       "      <th>0</th>\n",
       "      <td>ARID1A</td>\n",
       "      <td>0.452632</td>\n",
       "      <td>0.136842</td>\n",
       "      <td>0.400000</td>\n",
       "    </tr>\n",
       "    <tr>\n",
       "      <th>1</th>\n",
       "      <td>CTCF</td>\n",
       "      <td>0.284211</td>\n",
       "      <td>0.094737</td>\n",
       "      <td>0.242105</td>\n",
       "    </tr>\n",
       "    <tr>\n",
       "      <th>2</th>\n",
       "      <td>CTNNB1</td>\n",
       "      <td>0.305263</td>\n",
       "      <td>0.305263</td>\n",
       "      <td>0.000000</td>\n",
       "    </tr>\n",
       "    <tr>\n",
       "      <th>3</th>\n",
       "      <td>KMT2B</td>\n",
       "      <td>0.242105</td>\n",
       "      <td>0.115789</td>\n",
       "      <td>0.126316</td>\n",
       "    </tr>\n",
       "    <tr>\n",
       "      <th>4</th>\n",
       "      <td>KRAS</td>\n",
       "      <td>0.326316</td>\n",
       "      <td>0.326316</td>\n",
       "      <td>0.000000</td>\n",
       "    </tr>\n",
       "    <tr>\n",
       "      <th>5</th>\n",
       "      <td>PIK3CA</td>\n",
       "      <td>0.494737</td>\n",
       "      <td>0.484211</td>\n",
       "      <td>0.010526</td>\n",
       "    </tr>\n",
       "    <tr>\n",
       "      <th>6</th>\n",
       "      <td>PIK3R1</td>\n",
       "      <td>0.389474</td>\n",
       "      <td>0.231579</td>\n",
       "      <td>0.189474</td>\n",
       "    </tr>\n",
       "    <tr>\n",
       "      <th>7</th>\n",
       "      <td>PTEN</td>\n",
       "      <td>0.789474</td>\n",
       "      <td>0.463158</td>\n",
       "      <td>0.568421</td>\n",
       "    </tr>\n",
       "    <tr>\n",
       "      <th>8</th>\n",
       "      <td>TP53</td>\n",
       "      <td>0.221053</td>\n",
       "      <td>0.157895</td>\n",
       "      <td>0.073684</td>\n",
       "    </tr>\n",
       "    <tr>\n",
       "      <th>9</th>\n",
       "      <td>ZFHX3</td>\n",
       "      <td>0.221053</td>\n",
       "      <td>0.084211</td>\n",
       "      <td>0.168421</td>\n",
       "    </tr>\n",
       "  </tbody>\n",
       "</table>\n",
       "</div>"
      ],
      "text/plain": [
       "     Gene  Unique_Samples_Mut  Missence_Mut  Truncation_Mut\n",
       "0  ARID1A            0.452632      0.136842        0.400000\n",
       "1    CTCF            0.284211      0.094737        0.242105\n",
       "2  CTNNB1            0.305263      0.305263        0.000000\n",
       "3   KMT2B            0.242105      0.115789        0.126316\n",
       "4    KRAS            0.326316      0.326316        0.000000\n",
       "5  PIK3CA            0.494737      0.484211        0.010526\n",
       "6  PIK3R1            0.389474      0.231579        0.189474\n",
       "7    PTEN            0.789474      0.463158        0.568421\n",
       "8    TP53            0.221053      0.157895        0.073684\n",
       "9   ZFHX3            0.221053      0.084211        0.168421"
      ]
     },
     "execution_count": 4,
     "metadata": {},
     "output_type": "execute_result"
    }
   ],
   "source": [
    "en_object = cptac.Endometrial()\n",
    "desired_cutoff = .2\n",
    "\n",
    "endometrial_freq_mut = al.get_frequently_mutated(en_object, cutoff=desired_cutoff)\n",
    "print('\\n\\nNumber of Frequently Mutated Genes:', len(endometrial_freq_mut), '\\n', endometrial_freq_mut.head())\n",
    "endometrial_freq_mut"
   ]
  },
  {
   "cell_type": "code",
   "execution_count": 7,
   "metadata": {},
   "outputs": [
    {
     "data": {
      "text/html": [
       "<div>\n",
       "<style scoped>\n",
       "    .dataframe tbody tr th:only-of-type {\n",
       "        vertical-align: middle;\n",
       "    }\n",
       "\n",
       "    .dataframe tbody tr th {\n",
       "        vertical-align: top;\n",
       "    }\n",
       "\n",
       "    .dataframe thead th {\n",
       "        text-align: right;\n",
       "    }\n",
       "</style>\n",
       "<table border=\"1\" class=\"dataframe\">\n",
       "  <thead>\n",
       "    <tr style=\"text-align: right;\">\n",
       "      <th></th>\n",
       "      <th>Gene</th>\n",
       "      <th>Unique_Samples_Mut</th>\n",
       "      <th>Missence_Mut</th>\n",
       "      <th>Truncation_Mut</th>\n",
       "    </tr>\n",
       "  </thead>\n",
       "  <tbody>\n",
       "    <tr>\n",
       "      <th>0</th>\n",
       "      <td>PBRM1</td>\n",
       "      <td>0.400000</td>\n",
       "      <td>0.072727</td>\n",
       "      <td>0.336364</td>\n",
       "    </tr>\n",
       "    <tr>\n",
       "      <th>1</th>\n",
       "      <td>VHL</td>\n",
       "      <td>0.745455</td>\n",
       "      <td>0.300000</td>\n",
       "      <td>0.445455</td>\n",
       "    </tr>\n",
       "  </tbody>\n",
       "</table>\n",
       "</div>"
      ],
      "text/plain": [
       "    Gene  Unique_Samples_Mut  Missence_Mut  Truncation_Mut\n",
       "0  PBRM1            0.400000      0.072727        0.336364\n",
       "1    VHL            0.745455      0.300000        0.445455"
      ]
     },
     "execution_count": 7,
     "metadata": {},
     "output_type": "execute_result"
    }
   ],
   "source": [
    "rc_freq_mut"
   ]
  },
  {
   "cell_type": "markdown",
   "metadata": {},
   "source": [
    "# Repeat with the Colon dataset"
   ]
  },
  {
   "cell_type": "markdown",
   "metadata": {},
   "source": [
    "Go through the same process, this time using the Colon dataset. We will only print five genes from the frequently mutated data frame for simplicity."
   ]
  },
  {
   "cell_type": "code",
   "execution_count": 8,
   "metadata": {},
   "outputs": [
    {
     "name": "stdout",
     "output_type": "stream",
     "text": [
      "                                    \n",
      "\n",
      "Number of Frequently Mutated Genes: 39 \n",
      "        Gene  Unique_Samples_Mut  Missence_Mut  Truncation_Mut\n",
      "0    ACVR2A            0.257732      0.020619        0.257732\n",
      "1    AHNAK2            0.216495      0.195876        0.030928\n",
      "2       APC            0.845361      0.113402        0.824742\n",
      "3    ARID1A            0.237113      0.072165        0.185567\n",
      "4   CCDC168            0.298969      0.195876        0.195876\n",
      "5    COL5A1            0.216495      0.185567        0.061856\n",
      "6     CSMD3            0.268041      0.226804        0.082474\n",
      "7     DNAH5            0.268041      0.216495        0.103093\n",
      "8     DOCK3            0.216495      0.082474        0.144330\n",
      "9      FAT3            0.288660      0.268041        0.030928\n",
      "10     FAT4            0.268041      0.257732        0.030928\n",
      "11    FSIP2            0.226804      0.175258        0.092784\n",
      "12    HERC2            0.216495      0.175258        0.051546\n",
      "13    HMCN1            0.237113      0.226804        0.030928\n",
      "14    KMT2C            0.206186      0.154639        0.082474\n",
      "15     KRAS            0.360825      0.360825        0.000000\n",
      "16    MUC16            0.402062      0.360825        0.072165\n",
      "17     MUC4            0.206186      0.175258        0.061856\n",
      "18    MUC5B            0.278351      0.257732        0.051546\n",
      "19   MYCBP2            0.216495      0.185567        0.051546\n",
      "20     NBEA            0.216495      0.195876        0.030928\n",
      "21    NCOR2            0.247423      0.195876        0.051546\n",
      "22    NRXN1            0.206186      0.144330        0.072165\n",
      "23    OBSCN            0.298969      0.268041        0.072165\n",
      "24     PCLO            0.247423      0.216495        0.103093\n",
      "25   PIK3CA            0.247423      0.237113        0.010309\n",
      "26     PLEC            0.237113      0.206186        0.041237\n",
      "27     RYR1            0.257732      0.216495        0.051546\n",
      "28     RYR2            0.216495      0.195876        0.072165\n",
      "29     SACS            0.206186      0.123711        0.092784\n",
      "30   SLC4A3            0.206186      0.123711        0.123711\n",
      "31     SPEG            0.206186      0.144330        0.072165\n",
      "32     SSPO            0.216495      0.164948        0.082474\n",
      "33    SYNE1            0.298969      0.278351        0.113402\n",
      "34   TCF7L2            0.247423      0.113402        0.134021\n",
      "35     TP53            0.577320      0.391753        0.216495\n",
      "36      TTN            0.618557      0.597938        0.206186\n",
      "37     USF3            0.247423      0.154639        0.175258\n",
      "38   ZNF469            0.257732      0.185567        0.103093\n"
     ]
    }
   ],
   "source": [
    "colon_object = cptac.Colon()\n",
    "desired_cutoff = .2\n",
    "\n",
    "colon_freq_mut = al.get_frequently_mutated(colon_object, cutoff=desired_cutoff)\n",
    "print('\\n\\nNumber of Frequently Mutated Genes:', len(colon_freq_mut), '\\n', colon_freq_mut)"
   ]
  },
  {
   "cell_type": "markdown",
   "metadata": {},
   "source": [
    "# Repeat with the Ovarian dataset\n"
   ]
  },
  {
   "cell_type": "code",
   "execution_count": 9,
   "metadata": {},
   "outputs": [
    {
     "name": "stdout",
     "output_type": "stream",
     "text": [
      "                                    \r"
     ]
    }
   ],
   "source": [
    "ovarian_object = cptac.Ovarian()\n",
    "desired_cutoff = .2\n",
    "\n",
    "ovarian_freq_mut = al.get_frequently_mutated(ovarian_object, cutoff=desired_cutoff)"
   ]
  },
  {
   "cell_type": "code",
   "execution_count": 6,
   "metadata": {},
   "outputs": [
    {
     "data": {
      "text/html": [
       "<div>\n",
       "<style scoped>\n",
       "    .dataframe tbody tr th:only-of-type {\n",
       "        vertical-align: middle;\n",
       "    }\n",
       "\n",
       "    .dataframe tbody tr th {\n",
       "        vertical-align: top;\n",
       "    }\n",
       "\n",
       "    .dataframe thead th {\n",
       "        text-align: right;\n",
       "    }\n",
       "</style>\n",
       "<table border=\"1\" class=\"dataframe\">\n",
       "  <thead>\n",
       "    <tr style=\"text-align: right;\">\n",
       "      <th></th>\n",
       "      <th>Gene</th>\n",
       "      <th>Unique_Samples_Mut</th>\n",
       "      <th>Missence_Mut</th>\n",
       "      <th>Truncation_Mut</th>\n",
       "    </tr>\n",
       "  </thead>\n",
       "  <tbody>\n",
       "    <tr>\n",
       "      <th>0</th>\n",
       "      <td>BIRC6</td>\n",
       "      <td>0.120482</td>\n",
       "      <td>0.108434</td>\n",
       "      <td>0.024096</td>\n",
       "    </tr>\n",
       "    <tr>\n",
       "      <th>1</th>\n",
       "      <td>FSIP2</td>\n",
       "      <td>0.108434</td>\n",
       "      <td>0.096386</td>\n",
       "      <td>0.024096</td>\n",
       "    </tr>\n",
       "    <tr>\n",
       "      <th>2</th>\n",
       "      <td>MT-CO1</td>\n",
       "      <td>0.120482</td>\n",
       "      <td>0.120482</td>\n",
       "      <td>0.000000</td>\n",
       "    </tr>\n",
       "    <tr>\n",
       "      <th>3</th>\n",
       "      <td>MT-CO3</td>\n",
       "      <td>0.120482</td>\n",
       "      <td>0.108434</td>\n",
       "      <td>0.012048</td>\n",
       "    </tr>\n",
       "    <tr>\n",
       "      <th>4</th>\n",
       "      <td>MT-ND5</td>\n",
       "      <td>0.108434</td>\n",
       "      <td>0.084337</td>\n",
       "      <td>0.024096</td>\n",
       "    </tr>\n",
       "    <tr>\n",
       "      <th>5</th>\n",
       "      <td>MUC12</td>\n",
       "      <td>0.144578</td>\n",
       "      <td>0.144578</td>\n",
       "      <td>0.012048</td>\n",
       "    </tr>\n",
       "    <tr>\n",
       "      <th>6</th>\n",
       "      <td>MUC16</td>\n",
       "      <td>0.144578</td>\n",
       "      <td>0.144578</td>\n",
       "      <td>0.012048</td>\n",
       "    </tr>\n",
       "    <tr>\n",
       "      <th>7</th>\n",
       "      <td>MUC17</td>\n",
       "      <td>0.144578</td>\n",
       "      <td>0.144578</td>\n",
       "      <td>0.000000</td>\n",
       "    </tr>\n",
       "    <tr>\n",
       "      <th>8</th>\n",
       "      <td>MUC4</td>\n",
       "      <td>0.325301</td>\n",
       "      <td>0.313253</td>\n",
       "      <td>0.012048</td>\n",
       "    </tr>\n",
       "    <tr>\n",
       "      <th>9</th>\n",
       "      <td>MUC5B</td>\n",
       "      <td>0.108434</td>\n",
       "      <td>0.108434</td>\n",
       "      <td>0.000000</td>\n",
       "    </tr>\n",
       "    <tr>\n",
       "      <th>10</th>\n",
       "      <td>NBPF10</td>\n",
       "      <td>0.120482</td>\n",
       "      <td>0.120482</td>\n",
       "      <td>0.000000</td>\n",
       "    </tr>\n",
       "    <tr>\n",
       "      <th>11</th>\n",
       "      <td>PRKDC</td>\n",
       "      <td>0.108434</td>\n",
       "      <td>0.084337</td>\n",
       "      <td>0.036145</td>\n",
       "    </tr>\n",
       "    <tr>\n",
       "      <th>12</th>\n",
       "      <td>RP1L1</td>\n",
       "      <td>0.108434</td>\n",
       "      <td>0.096386</td>\n",
       "      <td>0.012048</td>\n",
       "    </tr>\n",
       "    <tr>\n",
       "      <th>13</th>\n",
       "      <td>TP53</td>\n",
       "      <td>0.927711</td>\n",
       "      <td>0.602410</td>\n",
       "      <td>0.325301</td>\n",
       "    </tr>\n",
       "    <tr>\n",
       "      <th>14</th>\n",
       "      <td>TTN</td>\n",
       "      <td>0.301205</td>\n",
       "      <td>0.265060</td>\n",
       "      <td>0.084337</td>\n",
       "    </tr>\n",
       "    <tr>\n",
       "      <th>15</th>\n",
       "      <td>WDFY4</td>\n",
       "      <td>0.120482</td>\n",
       "      <td>0.096386</td>\n",
       "      <td>0.036145</td>\n",
       "    </tr>\n",
       "  </tbody>\n",
       "</table>\n",
       "</div>"
      ],
      "text/plain": [
       "      Gene  Unique_Samples_Mut  Missence_Mut  Truncation_Mut\n",
       "0    BIRC6            0.120482      0.108434        0.024096\n",
       "1    FSIP2            0.108434      0.096386        0.024096\n",
       "2   MT-CO1            0.120482      0.120482        0.000000\n",
       "3   MT-CO3            0.120482      0.108434        0.012048\n",
       "4   MT-ND5            0.108434      0.084337        0.024096\n",
       "5    MUC12            0.144578      0.144578        0.012048\n",
       "6    MUC16            0.144578      0.144578        0.012048\n",
       "7    MUC17            0.144578      0.144578        0.000000\n",
       "8     MUC4            0.325301      0.313253        0.012048\n",
       "9    MUC5B            0.108434      0.108434        0.000000\n",
       "10  NBPF10            0.120482      0.120482        0.000000\n",
       "11   PRKDC            0.108434      0.084337        0.036145\n",
       "12   RP1L1            0.108434      0.096386        0.012048\n",
       "13    TP53            0.927711      0.602410        0.325301\n",
       "14     TTN            0.301205      0.265060        0.084337\n",
       "15   WDFY4            0.120482      0.096386        0.036145"
      ]
     },
     "execution_count": 6,
     "metadata": {},
     "output_type": "execute_result"
    }
   ],
   "source": [
    "ovarian_freq_mut"
   ]
  },
  {
   "cell_type": "markdown",
   "metadata": {},
   "source": [
    "# Repeat with the Renal dataset"
   ]
  },
  {
   "cell_type": "code",
   "execution_count": 5,
   "metadata": {},
   "outputs": [
    {
     "name": "stdout",
     "output_type": "stream",
     "text": [
      "                                    \r"
     ]
    }
   ],
   "source": [
    "rc_object = cptac.RenalCcrcc()\n",
    "desired_cutoff = .2"
   ]
  },
  {
   "cell_type": "code",
   "execution_count": 6,
   "metadata": {},
   "outputs": [
    {
     "data": {
      "text/plain": [
       "array(['Nonsense_Mutation', 'Missense_Mutation', 'Frame_Shift_Ins',\n",
       "       'Frame_Shift_Del', 'Silent', 'Splice_Site', 'In_Frame_Del',\n",
       "       'Nonstop_Mutation', 'In_Frame_Ins'], dtype=object)"
      ]
     },
     "execution_count": 6,
     "metadata": {},
     "output_type": "execute_result"
    }
   ],
   "source": [
    "m = rc_object.get_mutations()\n",
    "m['Mutation'].unique()"
   ]
  },
  {
   "cell_type": "code",
   "execution_count": 6,
   "metadata": {},
   "outputs": [
    {
     "data": {
      "text/html": [
       "<div>\n",
       "<style scoped>\n",
       "    .dataframe tbody tr th:only-of-type {\n",
       "        vertical-align: middle;\n",
       "    }\n",
       "\n",
       "    .dataframe tbody tr th {\n",
       "        vertical-align: top;\n",
       "    }\n",
       "\n",
       "    .dataframe thead th {\n",
       "        text-align: right;\n",
       "    }\n",
       "</style>\n",
       "<table border=\"1\" class=\"dataframe\">\n",
       "  <thead>\n",
       "    <tr style=\"text-align: right;\">\n",
       "      <th></th>\n",
       "      <th>Gene</th>\n",
       "      <th>Unique_Samples_Mut</th>\n",
       "      <th>Missence_Mut</th>\n",
       "      <th>Truncation_Mut</th>\n",
       "    </tr>\n",
       "  </thead>\n",
       "  <tbody>\n",
       "    <tr>\n",
       "      <th>0</th>\n",
       "      <td>PBRM1</td>\n",
       "      <td>0.400000</td>\n",
       "      <td>0.072727</td>\n",
       "      <td>0.336364</td>\n",
       "    </tr>\n",
       "    <tr>\n",
       "      <th>1</th>\n",
       "      <td>VHL</td>\n",
       "      <td>0.745455</td>\n",
       "      <td>0.300000</td>\n",
       "      <td>0.445455</td>\n",
       "    </tr>\n",
       "  </tbody>\n",
       "</table>\n",
       "</div>"
      ],
      "text/plain": [
       "    Gene  Unique_Samples_Mut  Missence_Mut  Truncation_Mut\n",
       "0  PBRM1            0.400000      0.072727        0.336364\n",
       "1    VHL            0.745455      0.300000        0.445455"
      ]
     },
     "execution_count": 6,
     "metadata": {},
     "output_type": "execute_result"
    }
   ],
   "source": [
    "rc_freq_mut = al.get_frequently_mutated(rc_object, cutoff=desired_cutoff)\n",
    "rc_freq_mut"
   ]
  },
  {
   "cell_type": "markdown",
   "metadata": {},
   "source": [
    "# Step 6: Compare cis effects between pancancer frequently mutated genes"
   ]
  },
  {
   "cell_type": "markdown",
   "metadata": {},
   "source": [
    "Create a dataframe of the frequently mutated genes in common between Colon and Endometrial and Ovarian datasets. To compare two cancers uncomment the print statement with that comparison."
   ]
  },
  {
   "cell_type": "code",
   "execution_count": 14,
   "metadata": {},
   "outputs": [
    {
     "name": "stdout",
     "output_type": "stream",
     "text": [
      "colon and ovarian commonly mutated genes:\n",
      "\n",
      " 0    TP53\n",
      "Name: Gene, dtype: object \n",
      "\n",
      "0    MUC4\n",
      "1    TP53\n",
      "2     TTN\n",
      "Name: Gene, dtype: object\n"
     ]
    },
    {
     "data": {
      "text/plain": [
       "0      ACVR2A\n",
       "1      AHNAK2\n",
       "2         APC\n",
       "3      ARID1A\n",
       "4     CCDC168\n",
       "5      COL5A1\n",
       "6       CSMD3\n",
       "7       DNAH5\n",
       "8       DOCK3\n",
       "9        FAT3\n",
       "10       FAT4\n",
       "11      FSIP2\n",
       "12      HERC2\n",
       "13      HMCN1\n",
       "14      KMT2C\n",
       "15       KRAS\n",
       "16      MUC16\n",
       "17       MUC4\n",
       "18      MUC5B\n",
       "19     MYCBP2\n",
       "20       NBEA\n",
       "21      NCOR2\n",
       "22      NRXN1\n",
       "23      OBSCN\n",
       "24       PCLO\n",
       "25     PIK3CA\n",
       "26       PLEC\n",
       "27       RYR1\n",
       "28       RYR2\n",
       "29       SACS\n",
       "30     SLC4A3\n",
       "31       SPEG\n",
       "32       SSPO\n",
       "33      SYNE1\n",
       "34     TCF7L2\n",
       "35       TP53\n",
       "36        TTN\n",
       "37       USF3\n",
       "38     ZNF469\n",
       "Name: Gene, dtype: object"
      ]
     },
     "execution_count": 14,
     "metadata": {},
     "output_type": "execute_result"
    }
   ],
   "source": [
    "endometrial_genes = endometrial_freq_mut['Gene']\n",
    "colon_genes = colon_freq_mut['Gene']\n",
    "ovarian_genes = ovarian_freq_mut['Gene']\n",
    "rc_genes = rc_freq_mut['Gene']\n",
    "\n",
    "# Compare frequently mutated genes between Endometrial and Colon tumors\n",
    "en_co_genes = pd.merge(endometrial_genes, colon_genes, how='inner')\n",
    "#print('endometrial and colon commonly mutated genes:\\n\\n', en_co_genes['Gene'], '\\n')\n",
    "\n",
    "# Compare frequently mutated genes between Endometrial and Ovarian tumors\n",
    "en_ov_genes = pd.merge(endometrial_genes, ovarian_genes, how='inner')\n",
    "#print('endometrial and ovarian commonly mutated genes:\\n\\n', en_ov_genes['Gene'], '\\n')\n",
    "\n",
    "# Compare frequently mutated genes between Endometrial and Renal tumors\n",
    "en_rc_genes = pd.merge(endometrial_genes, rc_genes, how='inner')\n",
    "#print('endometrial and kidney commonly mutated genes:\\n\\n', en_rc_genes['Gene'], '\\n')\n",
    "\n",
    "# Compare frequently mutated genes between Colon and Renal tumors\n",
    "co_rc_genes = pd.merge(colon_genes, rc_genes)\n",
    "#print('kidney and colon commonly mutated genes:\\n\\n', co_rc_genes['Gene'], '\\n')\n",
    "\n",
    "# Compare frequently mutated genes between Ovarian and Renal tumors\n",
    "ov_rc_genes = pd.merge(ovarian_genes, rc_genes, how='inner')\n",
    "#print('kidney and ovarian commonly mutated genes:\\n\\n', ov_rc_genes['Gene'], '\\n')\n",
    "\n",
    "# Compare frequently mutated genes between Colon and Ovarian tumors\n",
    "co_ov_genes = pd.merge(ovarian_genes, colon_genes)\n",
    "print('colon and ovarian commonly mutated genes:\\n\\n', en_ov_genes['Gene'], '\\n')\n",
    "\n",
    "# Compare endo, colon, ovarian\n",
    "tricancer_genes = pd.merge(en_co_genes, ovarian_genes, how='inner')\n",
    "#print('endo, colon, and ovarian frequently mutated genes:\\n\\n', tricancer_genes, '\\n')\n",
    "\n",
    "#Compare frequently mutated genes between all tumors\n",
    "pancancer_commonly_mutated_genes = pd.merge(en_co_genes, ov_rc_genes, how='inner')\n",
    "#print('pancancer frequently mutated genes:\\n\\n', pancancer_commonly_mutated_genes, '\\n')\n",
    "\n",
    "print(ovarian_genes)\n",
    "colon_genes"
   ]
  },
  {
   "cell_type": "markdown",
   "metadata": {},
   "source": [
    "Check significant difference in omics data between cancers. Pick a gene in common in the cancers you want to compare."
   ]
  }
 ],
 "metadata": {
  "kernelspec": {
   "display_name": "Python 3",
   "language": "python",
   "name": "python3"
  },
  "language_info": {
   "codemirror_mode": {
    "name": "ipython",
    "version": 3
   },
   "file_extension": ".py",
   "mimetype": "text/x-python",
   "name": "python",
   "nbconvert_exporter": "python",
   "pygments_lexer": "ipython3",
   "version": "3.7.3"
  }
 },
 "nbformat": 4,
 "nbformat_minor": 2
}
