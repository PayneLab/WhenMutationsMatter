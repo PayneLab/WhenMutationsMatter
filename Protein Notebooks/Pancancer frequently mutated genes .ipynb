{
 "cells": [
  {
   "cell_type": "markdown",
   "metadata": {},
   "source": [
    "# Pancancer frequently mutated genes"
   ]
  },
  {
   "cell_type": "markdown",
   "metadata": {},
   "source": [
    "## Step 1: Library Imports"
   ]
  },
  {
   "cell_type": "markdown",
   "metadata": {},
   "source": [
    "Run this cell to import the necessary libraries"
   ]
  },
  {
   "cell_type": "code",
   "execution_count": 1,
   "metadata": {},
   "outputs": [],
   "source": [
    "import pandas as pd\n",
    "import numpy as np\n",
    "import seaborn as sns\n",
    "import matplotlib.pyplot as plt\n",
    "import scipy.stats\n",
    "import sys \n",
    "sys.path.append('C:\\\\Users\\\\brittany henderson\\\\GitHub\\\\WhenMutationsMatter\\\\Brittany\\\\')\n",
    "import functions as f\n",
    "\n",
    "import cptac\n",
    "import cptac.algorithms as al"
   ]
  },
  {
   "cell_type": "markdown",
   "metadata": {},
   "source": [
    "## Step 2: Find the frequently mutated genes for Endometrial Cancer"
   ]
  },
  {
   "cell_type": "markdown",
   "metadata": {},
   "source": [
    "Enter the type of cancer and the cutoff for mutation frequency that you would like to use."
   ]
  },
  {
   "cell_type": "code",
   "execution_count": 15,
   "metadata": {},
   "outputs": [
    {
     "name": "stdout",
     "output_type": "stream",
     "text": [
      "                                    \n",
      "\n",
      "Number of Frequently Mutated Genes: 232 \n",
      "      Gene  Unique_Samples_Mut  Missence_Mut  Truncation_Mut\n",
      "0  ABCA12            0.147368      0.094737        0.073684\n",
      "1  ABCA13            0.115789      0.105263        0.042105\n",
      "2  ACVR2A            0.105263      0.010526        0.094737\n",
      "3  ADGRG4            0.136842      0.126316        0.021053\n",
      "4  ADGRV1            0.115789      0.094737        0.052632\n"
     ]
    }
   ],
   "source": [
    "en_object = cptac.Endometrial()\n",
    "desired_cutoff = .1\n",
    "\n",
    "endometrial_freq_mut = al.get_frequently_mutated(en_object, cutoff=desired_cutoff)\n",
    "print('\\n\\nNumber of Frequently Mutated Genes:', len(endometrial_freq_mut), '\\n', endometrial_freq_mut.head())"
   ]
  },
  {
   "cell_type": "markdown",
   "metadata": {},
   "source": [
    "# Repeat with the Colon dataset"
   ]
  },
  {
   "cell_type": "markdown",
   "metadata": {},
   "source": [
    "Go through the same process, this time using the Colon dataset. We will only print five genes from the frequently mutated data frame for simplicity."
   ]
  },
  {
   "cell_type": "code",
   "execution_count": 16,
   "metadata": {},
   "outputs": [
    {
     "name": "stdout",
     "output_type": "stream",
     "text": [
      "                                    \n",
      "\n",
      "Number of Frequently Mutated Genes: 612 \n",
      "          Gene  Unique_Samples_Mut  Missence_Mut  Truncation_Mut\n",
      "0      ABCA13            0.195876      0.164948        0.103093\n",
      "1       ABCA2            0.175258      0.164948        0.030928\n",
      "2       ABCA4            0.144330      0.082474        0.061856\n",
      "3       ABCB4            0.134021      0.061856        0.072165\n",
      "4       ABCB6            0.103093      0.061856        0.041237\n",
      "5      ABCC11            0.103093      0.082474        0.020619\n",
      "6       ABCC5            0.113402      0.051546        0.092784\n",
      "7       ACACB            0.123711      0.113402        0.010309\n",
      "8      ACVR2A            0.257732      0.020619        0.257732\n",
      "9    ADAMTS16            0.144330      0.134021        0.010309\n",
      "10   ADAMTS18            0.113402      0.061856        0.051546\n",
      "11    ADAMTS2            0.103093      0.092784        0.010309\n",
      "12   ADAMTS20            0.103093      0.092784        0.010309\n",
      "13    ADAMTS5            0.123711      0.113402        0.020619\n",
      "14    ADAMTS7            0.123711      0.123711        0.000000\n",
      "15    ADAMTS9            0.103093      0.082474        0.020619\n",
      "16   ADAMTSL1            0.103093      0.051546        0.072165\n",
      "17   ADAMTSL4            0.123711      0.061856        0.072165\n",
      "18     ADGRB2            0.113402      0.103093        0.010309\n",
      "19     ADGRG4            0.134021      0.123711        0.020619\n",
      "20     ADGRL2            0.103093      0.082474        0.020619\n",
      "21     ADGRL3            0.103093      0.103093        0.000000\n",
      "22     ADGRV1            0.195876      0.134021        0.092784\n",
      "23      AEBP1            0.113402      0.103093        0.020619\n",
      "24       AFF2            0.103093      0.072165        0.041237\n",
      "25        AGL            0.103093      0.051546        0.051546\n",
      "26       AGRN            0.113402      0.082474        0.041237\n",
      "27      AHDC1            0.123711      0.092784        0.051546\n",
      "28      AHNAK            0.134021      0.113402        0.020619\n",
      "29     AHNAK2            0.216495      0.195876        0.030928\n",
      "..        ...                 ...           ...             ...\n",
      "582     WDFY4            0.123711      0.092784        0.041237\n",
      "583     WDR49            0.103093      0.082474        0.030928\n",
      "584     WDR87            0.123711      0.072165        0.061856\n",
      "585     WDR90            0.103093      0.092784        0.010309\n",
      "586      WNK1            0.113402      0.082474        0.030928\n",
      "587      WNK2            0.113402      0.082474        0.041237\n",
      "588     WNT16            0.103093      0.041237        0.061856\n",
      "589     XIRP2            0.144330      0.103093        0.061856\n",
      "590     XYLT2            0.103093      0.030928        0.082474\n",
      "591     YLPM1            0.123711      0.041237        0.092784\n",
      "592    ZC3H13            0.113402      0.072165        0.061856\n",
      "593    ZC3H18            0.113402      0.061856        0.082474\n",
      "594     ZDBF2            0.185567      0.123711        0.061856\n",
      "595     ZFHX3            0.164948      0.144330        0.051546\n",
      "596     ZFHX4            0.195876      0.175258        0.041237\n",
      "597   ZFP36L2            0.103093      0.010309        0.092784\n",
      "598    ZNF106            0.123711      0.041237        0.082474\n",
      "599    ZNF208            0.113402      0.092784        0.030928\n",
      "600    ZNF292            0.185567      0.092784        0.103093\n",
      "601    ZNF318            0.113402      0.082474        0.051546\n",
      "602    ZNF365            0.144330      0.061856        0.103093\n",
      "603    ZNF384            0.154639      0.154639        0.000000\n",
      "604    ZNF423            0.113402      0.082474        0.030928\n",
      "605    ZNF462            0.134021      0.123711        0.020619\n",
      "606    ZNF469            0.257732      0.185567        0.103093\n",
      "607    ZNF536            0.134021      0.123711        0.020619\n",
      "608    ZNF540            0.113402      0.041237        0.072165\n",
      "609    ZNF609            0.103093      0.061856        0.072165\n",
      "610    ZNF831            0.144330      0.103093        0.051546\n",
      "611    ZNF880            0.103093      0.041237        0.061856\n",
      "\n",
      "[612 rows x 4 columns]\n"
     ]
    }
   ],
   "source": [
    "colon_object = cptac.Colon()\n",
    "desired_cutoff = .1\n",
    "\n",
    "colon_freq_mut = al.get_frequently_mutated(colon_object, cutoff=desired_cutoff)\n",
    "print('\\n\\nNumber of Frequently Mutated Genes:', len(colon_freq_mut), '\\n', colon_freq_mut)"
   ]
  },
  {
   "cell_type": "markdown",
   "metadata": {},
   "source": [
    "# Repeat with the Ovarian dataset\n"
   ]
  },
  {
   "cell_type": "code",
   "execution_count": 17,
   "metadata": {},
   "outputs": [
    {
     "name": "stdout",
     "output_type": "stream",
     "text": [
      "                                    \r"
     ]
    }
   ],
   "source": [
    "ovarian_object = cptac.Ovarian()\n",
    "desired_cutoff = .1\n",
    "\n",
    "ovarian_freq_mut = al.get_frequently_mutated(ovarian_object, cutoff=desired_cutoff)"
   ]
  },
  {
   "cell_type": "code",
   "execution_count": 6,
   "metadata": {},
   "outputs": [
    {
     "data": {
      "text/html": [
       "<div>\n",
       "<style scoped>\n",
       "    .dataframe tbody tr th:only-of-type {\n",
       "        vertical-align: middle;\n",
       "    }\n",
       "\n",
       "    .dataframe tbody tr th {\n",
       "        vertical-align: top;\n",
       "    }\n",
       "\n",
       "    .dataframe thead th {\n",
       "        text-align: right;\n",
       "    }\n",
       "</style>\n",
       "<table border=\"1\" class=\"dataframe\">\n",
       "  <thead>\n",
       "    <tr style=\"text-align: right;\">\n",
       "      <th></th>\n",
       "      <th>Gene</th>\n",
       "      <th>Unique_Samples_Mut</th>\n",
       "      <th>Missence_Mut</th>\n",
       "      <th>Truncation_Mut</th>\n",
       "    </tr>\n",
       "  </thead>\n",
       "  <tbody>\n",
       "    <tr>\n",
       "      <th>0</th>\n",
       "      <td>BIRC6</td>\n",
       "      <td>0.120482</td>\n",
       "      <td>0.108434</td>\n",
       "      <td>0.024096</td>\n",
       "    </tr>\n",
       "    <tr>\n",
       "      <th>1</th>\n",
       "      <td>FSIP2</td>\n",
       "      <td>0.108434</td>\n",
       "      <td>0.096386</td>\n",
       "      <td>0.024096</td>\n",
       "    </tr>\n",
       "    <tr>\n",
       "      <th>2</th>\n",
       "      <td>MT-CO1</td>\n",
       "      <td>0.120482</td>\n",
       "      <td>0.120482</td>\n",
       "      <td>0.000000</td>\n",
       "    </tr>\n",
       "    <tr>\n",
       "      <th>3</th>\n",
       "      <td>MT-CO3</td>\n",
       "      <td>0.120482</td>\n",
       "      <td>0.108434</td>\n",
       "      <td>0.012048</td>\n",
       "    </tr>\n",
       "    <tr>\n",
       "      <th>4</th>\n",
       "      <td>MT-ND5</td>\n",
       "      <td>0.108434</td>\n",
       "      <td>0.084337</td>\n",
       "      <td>0.024096</td>\n",
       "    </tr>\n",
       "    <tr>\n",
       "      <th>5</th>\n",
       "      <td>MUC12</td>\n",
       "      <td>0.144578</td>\n",
       "      <td>0.144578</td>\n",
       "      <td>0.012048</td>\n",
       "    </tr>\n",
       "    <tr>\n",
       "      <th>6</th>\n",
       "      <td>MUC16</td>\n",
       "      <td>0.144578</td>\n",
       "      <td>0.144578</td>\n",
       "      <td>0.012048</td>\n",
       "    </tr>\n",
       "    <tr>\n",
       "      <th>7</th>\n",
       "      <td>MUC17</td>\n",
       "      <td>0.144578</td>\n",
       "      <td>0.144578</td>\n",
       "      <td>0.000000</td>\n",
       "    </tr>\n",
       "    <tr>\n",
       "      <th>8</th>\n",
       "      <td>MUC4</td>\n",
       "      <td>0.325301</td>\n",
       "      <td>0.313253</td>\n",
       "      <td>0.012048</td>\n",
       "    </tr>\n",
       "    <tr>\n",
       "      <th>9</th>\n",
       "      <td>MUC5B</td>\n",
       "      <td>0.108434</td>\n",
       "      <td>0.108434</td>\n",
       "      <td>0.000000</td>\n",
       "    </tr>\n",
       "    <tr>\n",
       "      <th>10</th>\n",
       "      <td>NBPF10</td>\n",
       "      <td>0.120482</td>\n",
       "      <td>0.120482</td>\n",
       "      <td>0.000000</td>\n",
       "    </tr>\n",
       "    <tr>\n",
       "      <th>11</th>\n",
       "      <td>PRKDC</td>\n",
       "      <td>0.108434</td>\n",
       "      <td>0.084337</td>\n",
       "      <td>0.036145</td>\n",
       "    </tr>\n",
       "    <tr>\n",
       "      <th>12</th>\n",
       "      <td>RP1L1</td>\n",
       "      <td>0.108434</td>\n",
       "      <td>0.096386</td>\n",
       "      <td>0.012048</td>\n",
       "    </tr>\n",
       "    <tr>\n",
       "      <th>13</th>\n",
       "      <td>TP53</td>\n",
       "      <td>0.927711</td>\n",
       "      <td>0.602410</td>\n",
       "      <td>0.325301</td>\n",
       "    </tr>\n",
       "    <tr>\n",
       "      <th>14</th>\n",
       "      <td>TTN</td>\n",
       "      <td>0.301205</td>\n",
       "      <td>0.265060</td>\n",
       "      <td>0.084337</td>\n",
       "    </tr>\n",
       "    <tr>\n",
       "      <th>15</th>\n",
       "      <td>WDFY4</td>\n",
       "      <td>0.120482</td>\n",
       "      <td>0.096386</td>\n",
       "      <td>0.036145</td>\n",
       "    </tr>\n",
       "  </tbody>\n",
       "</table>\n",
       "</div>"
      ],
      "text/plain": [
       "      Gene  Unique_Samples_Mut  Missence_Mut  Truncation_Mut\n",
       "0    BIRC6            0.120482      0.108434        0.024096\n",
       "1    FSIP2            0.108434      0.096386        0.024096\n",
       "2   MT-CO1            0.120482      0.120482        0.000000\n",
       "3   MT-CO3            0.120482      0.108434        0.012048\n",
       "4   MT-ND5            0.108434      0.084337        0.024096\n",
       "5    MUC12            0.144578      0.144578        0.012048\n",
       "6    MUC16            0.144578      0.144578        0.012048\n",
       "7    MUC17            0.144578      0.144578        0.000000\n",
       "8     MUC4            0.325301      0.313253        0.012048\n",
       "9    MUC5B            0.108434      0.108434        0.000000\n",
       "10  NBPF10            0.120482      0.120482        0.000000\n",
       "11   PRKDC            0.108434      0.084337        0.036145\n",
       "12   RP1L1            0.108434      0.096386        0.012048\n",
       "13    TP53            0.927711      0.602410        0.325301\n",
       "14     TTN            0.301205      0.265060        0.084337\n",
       "15   WDFY4            0.120482      0.096386        0.036145"
      ]
     },
     "execution_count": 6,
     "metadata": {},
     "output_type": "execute_result"
    }
   ],
   "source": [
    "ovarian_freq_mut"
   ]
  },
  {
   "cell_type": "markdown",
   "metadata": {},
   "source": [
    "# Repeat with the Renal dataset"
   ]
  },
  {
   "cell_type": "code",
   "execution_count": 18,
   "metadata": {},
   "outputs": [
    {
     "name": "stdout",
     "output_type": "stream",
     "text": [
      "                                    \r"
     ]
    }
   ],
   "source": [
    "rc_object = cptac.RenalCcrcc()\n",
    "desired_cutoff = .1"
   ]
  },
  {
   "cell_type": "code",
   "execution_count": 6,
   "metadata": {},
   "outputs": [
    {
     "data": {
      "text/plain": [
       "array(['Nonsense_Mutation', 'Missense_Mutation', 'Frame_Shift_Ins',\n",
       "       'Frame_Shift_Del', 'Silent', 'Splice_Site', 'In_Frame_Del',\n",
       "       'Nonstop_Mutation', 'In_Frame_Ins'], dtype=object)"
      ]
     },
     "execution_count": 6,
     "metadata": {},
     "output_type": "execute_result"
    }
   ],
   "source": [
    "m = rc_object.get_mutations()\n",
    "m['Mutation'].unique()"
   ]
  },
  {
   "cell_type": "code",
   "execution_count": 19,
   "metadata": {},
   "outputs": [
    {
     "data": {
      "text/html": [
       "<div>\n",
       "<style scoped>\n",
       "    .dataframe tbody tr th:only-of-type {\n",
       "        vertical-align: middle;\n",
       "    }\n",
       "\n",
       "    .dataframe tbody tr th {\n",
       "        vertical-align: top;\n",
       "    }\n",
       "\n",
       "    .dataframe thead th {\n",
       "        text-align: right;\n",
       "    }\n",
       "</style>\n",
       "<table border=\"1\" class=\"dataframe\">\n",
       "  <thead>\n",
       "    <tr style=\"text-align: right;\">\n",
       "      <th></th>\n",
       "      <th>Gene</th>\n",
       "      <th>Unique_Samples_Mut</th>\n",
       "      <th>Missence_Mut</th>\n",
       "      <th>Truncation_Mut</th>\n",
       "    </tr>\n",
       "  </thead>\n",
       "  <tbody>\n",
       "    <tr>\n",
       "      <th>0</th>\n",
       "      <td>BAP1</td>\n",
       "      <td>0.154545</td>\n",
       "      <td>0.063636</td>\n",
       "      <td>0.090909</td>\n",
       "    </tr>\n",
       "    <tr>\n",
       "      <th>1</th>\n",
       "      <td>KDM5C</td>\n",
       "      <td>0.172727</td>\n",
       "      <td>0.036364</td>\n",
       "      <td>0.145455</td>\n",
       "    </tr>\n",
       "    <tr>\n",
       "      <th>2</th>\n",
       "      <td>PBRM1</td>\n",
       "      <td>0.400000</td>\n",
       "      <td>0.072727</td>\n",
       "      <td>0.336364</td>\n",
       "    </tr>\n",
       "    <tr>\n",
       "      <th>3</th>\n",
       "      <td>SETD2</td>\n",
       "      <td>0.136364</td>\n",
       "      <td>0.018182</td>\n",
       "      <td>0.118182</td>\n",
       "    </tr>\n",
       "    <tr>\n",
       "      <th>4</th>\n",
       "      <td>TTN</td>\n",
       "      <td>0.118182</td>\n",
       "      <td>0.090909</td>\n",
       "      <td>0.036364</td>\n",
       "    </tr>\n",
       "    <tr>\n",
       "      <th>5</th>\n",
       "      <td>VHL</td>\n",
       "      <td>0.745455</td>\n",
       "      <td>0.300000</td>\n",
       "      <td>0.445455</td>\n",
       "    </tr>\n",
       "  </tbody>\n",
       "</table>\n",
       "</div>"
      ],
      "text/plain": [
       "    Gene  Unique_Samples_Mut  Missence_Mut  Truncation_Mut\n",
       "0   BAP1            0.154545      0.063636        0.090909\n",
       "1  KDM5C            0.172727      0.036364        0.145455\n",
       "2  PBRM1            0.400000      0.072727        0.336364\n",
       "3  SETD2            0.136364      0.018182        0.118182\n",
       "4    TTN            0.118182      0.090909        0.036364\n",
       "5    VHL            0.745455      0.300000        0.445455"
      ]
     },
     "execution_count": 19,
     "metadata": {},
     "output_type": "execute_result"
    }
   ],
   "source": [
    "rc_freq_mut = al.get_frequently_mutated(rc_object, cutoff=desired_cutoff)\n",
    "rc_freq_mut"
   ]
  },
  {
   "cell_type": "markdown",
   "metadata": {},
   "source": [
    "# Step 6: Compare cis effects between pancancer frequently mutated genes"
   ]
  },
  {
   "cell_type": "markdown",
   "metadata": {},
   "source": [
    "Create a dataframe of the frequently mutated genes in common between Colon and Endometrial and Ovarian datasets. To compare two cancers uncomment the print statement with that comparison."
   ]
  },
  {
   "cell_type": "code",
   "execution_count": 21,
   "metadata": {},
   "outputs": [
    {
     "name": "stdout",
     "output_type": "stream",
     "text": [
      "endometrial and colon commonly mutated genes:\n",
      "\n",
      " 0       ABCA13\n",
      "1       ACVR2A\n",
      "2       ADGRG4\n",
      "3       ADGRV1\n",
      "4        AHNAK\n",
      "5       AHNAK2\n",
      "6         ANK1\n",
      "7         ANK2\n",
      "8         ANK3\n",
      "9      ANKRD11\n",
      "10         APC\n",
      "11        APOB\n",
      "12      ARID1A\n",
      "13       ASCC3\n",
      "14       ASTN1\n",
      "15     CACNA1A\n",
      "16     CACNA1B\n",
      "17     CACNA1D\n",
      "18       CADPS\n",
      "19     CCDC168\n",
      "20      CELSR1\n",
      "21      CELSR3\n",
      "22      CEP295\n",
      "23      CEP350\n",
      "24      CFAP65\n",
      "25        CHD3\n",
      "26        CHD4\n",
      "27     COL11A1\n",
      "28     COL12A1\n",
      "29     COL18A1\n",
      "        ...   \n",
      "117       SPEN\n",
      "118      SPTA1\n",
      "119      SRCAP\n",
      "120      STAB1\n",
      "121       SVIL\n",
      "122      SYNE1\n",
      "123      SYNE2\n",
      "124       SZT2\n",
      "125      TACC2\n",
      "126      TENM1\n",
      "127      TENM3\n",
      "128     TNRC6B\n",
      "129       TP53\n",
      "130     TRANK1\n",
      "131       UBR4\n",
      "132       UBR5\n",
      "133      USH2A\n",
      "134     VPS13A\n",
      "135      WDFY3\n",
      "136      WDFY4\n",
      "137      WDR87\n",
      "138      XIRP2\n",
      "139     ZC3H13\n",
      "140      ZDBF2\n",
      "141      ZFHX3\n",
      "142      ZFHX4\n",
      "143     ZNF292\n",
      "144     ZNF469\n",
      "145     ZNF536\n",
      "146     ZNF831\n",
      "Name: Gene, Length: 147, dtype: object \n",
      "\n",
      "endometrial and ovarian commonly mutated genes:\n",
      "\n",
      " 0    FSIP2\n",
      "1    MUC16\n",
      "2    MUC17\n",
      "3    MUC5B\n",
      "4    PRKDC\n",
      "5     TP53\n",
      "6    WDFY4\n",
      "Name: Gene, dtype: object \n",
      "\n",
      "endometrial and kidney commonly mutated genes:\n",
      "\n",
      " Series([], Name: Gene, dtype: object) \n",
      "\n",
      "kidney and colon commonly mutated genes:\n",
      "\n",
      " 0    TTN\n",
      "Name: Gene, dtype: object \n",
      "\n",
      "kidney and ovarian commonly mutated genes:\n",
      "\n",
      " 0    TTN\n",
      "Name: Gene, dtype: object \n",
      "\n",
      "colon and ovarian commonly mutated genes:\n",
      "\n",
      " 0    FSIP2\n",
      "1    MUC16\n",
      "2    MUC17\n",
      "3    MUC5B\n",
      "4    PRKDC\n",
      "5     TP53\n",
      "6    WDFY4\n",
      "Name: Gene, dtype: object \n",
      "\n",
      "endo, colon, and ovarian frequently mutated genes:\n",
      "\n",
      "     Gene\n",
      "0  FSIP2\n",
      "1  MUC16\n",
      "2  MUC17\n",
      "3  MUC5B\n",
      "4   TP53\n",
      "5  WDFY4 \n",
      "\n",
      "pancancer frequently mutated genes:\n",
      "\n",
      " Empty DataFrame\n",
      "Columns: [Gene]\n",
      "Index: [] \n",
      "\n"
     ]
    }
   ],
   "source": [
    "endometrial_genes = endometrial_freq_mut['Gene']\n",
    "colon_genes = colon_freq_mut['Gene']\n",
    "ovarian_genes = ovarian_freq_mut['Gene']\n",
    "rc_genes = rc_freq_mut['Gene']\n",
    "\n",
    "# Compare frequently mutated genes between Endometrial and Colon tumors\n",
    "en_co_genes = pd.merge(endometrial_genes, colon_genes, how='inner')\n",
    "print('endometrial and colon commonly mutated genes:\\n\\n', en_co_genes['Gene'], '\\n')\n",
    "\n",
    "# Compare frequently mutated genes between Endometrial and Ovarian tumors\n",
    "en_ov_genes = pd.merge(endometrial_genes, ovarian_genes, how='inner')\n",
    "print('endometrial and ovarian commonly mutated genes:\\n\\n', en_ov_genes['Gene'], '\\n')\n",
    "\n",
    "# Compare frequently mutated genes between Endometrial and Renal tumors\n",
    "en_rc_genes = pd.merge(endometrial_genes, rc_genes, how='inner')\n",
    "print('endometrial and kidney commonly mutated genes:\\n\\n', en_rc_genes['Gene'], '\\n')\n",
    "\n",
    "# Compare frequently mutated genes between Colon and Renal tumors\n",
    "co_rc_genes = pd.merge(colon_genes, rc_genes)\n",
    "print('kidney and colon commonly mutated genes:\\n\\n', co_rc_genes['Gene'], '\\n')\n",
    "\n",
    "# Compare frequently mutated genes between Ovarian and Renal tumors\n",
    "ov_rc_genes = pd.merge(ovarian_genes, rc_genes, how='inner')\n",
    "print('kidney and ovarian commonly mutated genes:\\n\\n', ov_rc_genes['Gene'], '\\n')\n",
    "\n",
    "# Compare frequently mutated genes between Colon and Ovarian tumors\n",
    "co_ov_genes = pd.merge(ovarian_genes, colon_genes, how='inner')\n",
    "print('colon and ovarian commonly mutated genes:\\n\\n', en_ov_genes['Gene'], '\\n')\n",
    "\n",
    "# Compare endo, colon, ovarian\n",
    "tricancer_genes = pd.merge(en_co_genes, ovarian_genes, how='inner')\n",
    "print('endo, colon, and ovarian frequently mutated genes:\\n\\n', tricancer_genes, '\\n')\n",
    "\n",
    "#Compare frequently mutated genes between all tumors\n",
    "pancancer_commonly_mutated_genes = pd.merge(en_co_genes, ov_rc_genes, how='inner')\n",
    "print('pancancer frequently mutated genes:\\n\\n', pancancer_commonly_mutated_genes, '\\n')"
   ]
  },
  {
   "cell_type": "markdown",
   "metadata": {},
   "source": [
    "Check significant difference in omics data between cancers. Pick a gene in common in the cancers you want to compare."
   ]
  }
 ],
 "metadata": {
  "kernelspec": {
   "display_name": "Python 3",
   "language": "python",
   "name": "python3"
  },
  "language_info": {
   "codemirror_mode": {
    "name": "ipython",
    "version": 3
   },
   "file_extension": ".py",
   "mimetype": "text/x-python",
   "name": "python",
   "nbconvert_exporter": "python",
   "pygments_lexer": "ipython3",
   "version": "3.7.3"
  }
 },
 "nbformat": 4,
 "nbformat_minor": 2
}
