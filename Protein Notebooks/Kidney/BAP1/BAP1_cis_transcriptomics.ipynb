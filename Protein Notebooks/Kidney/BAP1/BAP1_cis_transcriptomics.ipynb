{
 "cells": [
  {
   "cell_type": "markdown",
   "metadata": {},
   "source": [
    "# BAP1 transcriptomics cis comparison"
   ]
  },
  {
   "cell_type": "markdown",
   "metadata": {},
   "source": [
    "## Step 1: Library Imports"
   ]
  },
  {
   "cell_type": "markdown",
   "metadata": {},
   "source": [
    "Run this cell to import the necessary libraries"
   ]
  },
  {
   "cell_type": "code",
   "execution_count": 1,
   "metadata": {},
   "outputs": [],
   "source": [
    "import pandas as pd\n",
    "import numpy as np\n",
    "import seaborn as sns\n",
    "import matplotlib.pyplot as plt\n",
    "import scipy.stats\n",
    "import sys \n",
    "sys.path.append('C:\\\\Users\\\\brittany henderson\\\\GitHub\\\\WhenMutationsMatter\\\\Brittany\\\\')\n",
    "import functions as f\n",
    "\n",
    "import cptac\n",
    "import cptac.algorithms as al"
   ]
  },
  {
   "cell_type": "markdown",
   "metadata": {},
   "source": [
    "## Step 2: Find the frequently mutated genes for Endometrial Cancer"
   ]
  },
  {
   "cell_type": "markdown",
   "metadata": {},
   "source": [
    "Enter the type of cancer and the cutoff for mutation frequency that you would like to use."
   ]
  },
  {
   "cell_type": "code",
   "execution_count": 2,
   "metadata": {},
   "outputs": [
    {
     "name": "stdout",
     "output_type": "stream",
     "text": [
      "                                    \r"
     ]
    },
    {
     "data": {
      "text/html": [
       "<div>\n",
       "<style scoped>\n",
       "    .dataframe tbody tr th:only-of-type {\n",
       "        vertical-align: middle;\n",
       "    }\n",
       "\n",
       "    .dataframe tbody tr th {\n",
       "        vertical-align: top;\n",
       "    }\n",
       "\n",
       "    .dataframe thead th {\n",
       "        text-align: right;\n",
       "    }\n",
       "</style>\n",
       "<table border=\"1\" class=\"dataframe\">\n",
       "  <thead>\n",
       "    <tr style=\"text-align: right;\">\n",
       "      <th></th>\n",
       "      <th>Gene</th>\n",
       "      <th>Unique_Samples_Mut</th>\n",
       "      <th>Missence_Mut</th>\n",
       "      <th>Truncation_Mut</th>\n",
       "    </tr>\n",
       "  </thead>\n",
       "  <tbody>\n",
       "    <tr>\n",
       "      <th>0</th>\n",
       "      <td>BAP1</td>\n",
       "      <td>0.154545</td>\n",
       "      <td>0.063636</td>\n",
       "      <td>0.090909</td>\n",
       "    </tr>\n",
       "  </tbody>\n",
       "</table>\n",
       "</div>"
      ],
      "text/plain": [
       "   Gene  Unique_Samples_Mut  Missence_Mut  Truncation_Mut\n",
       "0  BAP1            0.154545      0.063636        0.090909"
      ]
     },
     "execution_count": 2,
     "metadata": {},
     "output_type": "execute_result"
    }
   ],
   "source": [
    "rc_object = cptac.RenalCcrcc()\n",
    "desired_cutoff = 0.1\n",
    "\n",
    "renal_freq_mut = al.get_frequently_mutated(rc_object, cutoff = desired_cutoff)\n",
    "renal_freq_mut.loc[renal_freq_mut['Gene'] == 'BAP1']"
   ]
  },
  {
   "cell_type": "markdown",
   "metadata": {},
   "source": [
    "## Step 3: Select BAP1, a frequently mutated gene"
   ]
  },
  {
   "cell_type": "code",
   "execution_count": 4,
   "metadata": {},
   "outputs": [],
   "source": [
    "gene = 'BAP1'"
   ]
  },
  {
   "cell_type": "markdown",
   "metadata": {},
   "source": [
    "## Step 4: Select transcriptomics"
   ]
  },
  {
   "cell_type": "code",
   "execution_count": 4,
   "metadata": {},
   "outputs": [],
   "source": [
    "omics = rc_object.get_transcriptomics()"
   ]
  },
  {
   "cell_type": "markdown",
   "metadata": {},
   "source": [
    "## Step 5: cis comparison "
   ]
  },
  {
   "cell_type": "markdown",
   "metadata": {},
   "source": [
    "Determine if the DNA mutation has an effect on the omics measurement. In order to do this, we have a few steps in code. The first three steps are found in the format_cis_comparison_data function.\n",
    "1. get a table with both the omics and mutation data for tumors\n",
    "2. get a binary column from the mutation data to separate our samples\n",
    "3. format data frame to be used in the T-test\n",
    "4. send data to the T-test.\n",
    "5. visualize data "
   ]
  },
  {
   "cell_type": "code",
   "execution_count": 5,
   "metadata": {},
   "outputs": [],
   "source": [
    "# Steps 1-3\n",
    "rc_status = f.format_cis_comparison_data(rc_object, 'transcriptomics', gene)\n"
   ]
  },
  {
   "cell_type": "code",
   "execution_count": 6,
   "metadata": {},
   "outputs": [
    {
     "name": "stdout",
     "output_type": "stream",
     "text": [
      "Doing t-test comparison for mutation status\n",
      "\n",
      "             Comparison   P_Value\n",
      "0  BAP1_transcriptomics  0.010493\n"
     ]
    }
   ],
   "source": [
    "omics_col_list = [gene+'_transcriptomics']\n",
    "transcriptomics_col = gene+'_transcriptomics'\n",
    "\n",
    "# Step 4 - T-test comparing means of mutated vs. wildtype effect on cis omics\n",
    "print(\"Doing t-test comparison for mutation status\\n\")\n",
    "significant_pval_results = al.wrap_ttest(rc_status, 'binary_mutations', omics_col_list)\n",
    "print(significant_pval_results)"
   ]
  },
  {
   "cell_type": "code",
   "execution_count": 7,
   "metadata": {},
   "outputs": [
    {
     "data": {
      "image/png": "[encoded data removed]",
      "text/plain": [
       "<Figure size 432x288 with 1 Axes>"
      ]
     },
     "metadata": {
      "needs_background": "light"
     },
     "output_type": "display_data"
    }
   ],
   "source": [
    "# Step 5 - Create box plot to compare wildtype and mutated effect on omics data\n",
    "cis_boxplot = sns.boxplot(data = rc_status, x = 'binary_mutations',\n",
    "                          y = transcriptomics_col, order = [\"Wildtype\",\"Mutated\"], showfliers = False)  \n",
    "cis_boxplot.set_title(gene + \" Effect on cis Transcriptomics in Kidney Tumors\")\n",
    "cis_boxplot = sns.stripplot(data= rc_status, x = 'binary_mutations',\n",
    "                            y = transcriptomics_col,jitter = True, color = \".3\", order = [\"Wildtype\",\"Mutated\"])\n",
    "cis_boxplot.set(xlabel = gene + \" Mutation Status in Tumors\", ylabel = \"Transcriptomics\")\n",
    "plt.show()"
   ]
  },
  {
   "cell_type": "markdown",
   "metadata": {},
   "source": [
    "# Compare missense and truncation mutation types"
   ]
  },
  {
   "cell_type": "code",
   "execution_count": 8,
   "metadata": {},
   "outputs": [],
   "source": [
    "# Prepare data frame for T-test\n",
    "rc_type = f.get_missence_truncation_comparison(rc_object, 'transcriptomics', gene)\n",
    "#print(en_type.head())"
   ]
  },
  {
   "cell_type": "code",
   "execution_count": 9,
   "metadata": {},
   "outputs": [
    {
     "name": "stdout",
     "output_type": "stream",
     "text": [
      "Doing t-test comparison for mutation type\n",
      "\n",
      "No significant comparisons.\n",
      "None\n"
     ]
    }
   ],
   "source": [
    "# T-test comparing means of missense vs. truncation effect on cis omics\n",
    "print(\"Doing t-test comparison for mutation type\\n\")\n",
    "significant_pval_results = al.wrap_ttest(rc_type, 'binary_mutations', omics_col_list)\n",
    "print(significant_pval_results)"
   ]
  },
  {
   "cell_type": "code",
   "execution_count": 10,
   "metadata": {},
   "outputs": [
    {
     "data": {
      "image/png": "[encoded data removed]",
      "text/plain": [
       "<Figure size 432x288 with 1 Axes>"
      ]
     },
     "metadata": {
      "needs_background": "light"
     },
     "output_type": "display_data"
    }
   ],
   "source": [
    "# Step 5 - Create boxplt to compare missense and truncation type effect on omics data\n",
    "rc_cis_boxplot = sns.boxplot(data = rc_type, x = 'binary_mutations',\n",
    "                          y = transcriptomics_col, order = [\"Missence\",\"Truncation\"], showfliers = False)  \n",
    "rc_cis_boxplot.set_title(gene + \" Mutation Type Effect on cis Transcriptomics in Kidney Tumors\")\n",
    "rc_cis_boxplot = sns.stripplot(data = rc_type, x = 'binary_mutations',\n",
    "                            y = transcriptomics_col,jitter = True, color = \".3\", order = [\"Missence\",\"Truncation\"])\n",
    "rc_cis_boxplot.set(xlabel = gene + \" Mutation Type\", ylabel = 'Transcriptomics')\n",
    "plt.show()"
   ]
  },
  {
   "cell_type": "markdown",
   "metadata": {},
   "source": [
    "# Compare specific mutations"
   ]
  },
  {
   "cell_type": "code",
   "execution_count": 5,
   "metadata": {},
   "outputs": [
    {
     "data": {
      "text/plain": [
       "Mutation\n",
       "Missense_Mutation    6\n",
       "Frame_Shift_Del      4\n",
       "Frame_Shift_Ins      3\n",
       "Nonsense_Mutation    2\n",
       "In_Frame_Del         1\n",
       "Splice_Site          1\n",
       "Name: Unique_Sample_Count, dtype: int64"
      ]
     },
     "execution_count": 5,
     "metadata": {},
     "output_type": "execute_result"
    }
   ],
   "source": [
    "# Find common mutations\n",
    "somatic_mutations = rc_object.get_mutations()\n",
    "gene_mutations = somatic_mutations.loc[somatic_mutations['Gene'] == gene].reset_index() #select gene\n",
    "mut_counts = gene_mutations.groupby('Mutation').nunique() # count unique samples for each specific mutation\n",
    "sorted_counts = mut_counts.sort_values(by='Sample_ID', ascending=False) #sort descending\n",
    "mutation_counts = sorted_counts.rename({'Sample_ID': 'Unique_Sample_Count'}, axis=1)\n",
    "mutation_counts['Unique_Sample_Count']"
   ]
  },
  {
   "cell_type": "markdown",
   "metadata": {},
   "source": [
    "There are no common specific mutations (not enough data for any mutation) to run a T-test."
   ]
  },
  {
   "cell_type": "code",
   "execution_count": 8,
   "metadata": {},
   "outputs": [],
   "source": [
    "# What should be the priority?\n",
    "mutation_prot = rc_object.join_omics_to_mutations(omics_df_name=\"transcriptomics\", mutations_genes=gene, \n",
    "                                                        omics_genes=gene,\n",
    "                                                    mutations_filter=['Nonsense_Mutation'])"
   ]
  },
  {
   "cell_type": "code",
   "execution_count": 10,
   "metadata": {},
   "outputs": [
    {
     "data": {
      "image/png": "[encoded data removed]",
      "text/plain": [
       "<Figure size 1008x576 with 1 Axes>"
      ]
     },
     "metadata": {
      "needs_background": "light"
     },
     "output_type": "display_data"
    }
   ],
   "source": [
    "plt.rcParams['figure.figsize']=(14,8)\n",
    "rc_cis_boxplot = sns.boxplot(data = mutation_prot,\n",
    "                             x = gene+'_Mutation',\n",
    "                             y = gene+'_transcriptomics', \n",
    "                             order=['Wildtype_Normal', 'Wildtype_Tumor', 'Frame_Shift_Del', \n",
    "                                    'Frame_Shift_Ins', 'Nonsense_Mutation', 'Splice_Site',\n",
    "                                    'In_Frame_Del', 'In_Frame_Ins', 'Missence_Mutation'],\n",
    "                             showfliers = False)  \n",
    "rc_cis_boxplot.set_title(gene + \" Effect on Transcriptomics Abundance in Endometrial Tumors\")\n",
    "rc_cis_boxplot = sns.stripplot(data= mutation_prot, \n",
    "                               x = gene+'_Mutation',\n",
    "                               y = gene+'_transcriptomics', \n",
    "                               order=['Wildtype_Normal', 'Wildtype_Tumor', 'Frame_Shift_Del', \n",
    "                                    'Frame_Shift_Ins', 'Nonsense_Mutation', 'Splice_Site',\n",
    "                                    'In_Frame_Del', 'In_Frame_Ins', 'Missence_Mutation'],\n",
    "                               jitter = True, color = \".3\")\n",
    "rc_cis_boxplot.set(xlabel = gene + \" Mutation Status in Tumors\", ylabel = \"Proteomics\")\n",
    "plt.show()"
   ]
  },
  {
   "cell_type": "markdown",
   "metadata": {},
   "source": [
    "# Analysis of Results"
   ]
  },
  {
   "cell_type": "markdown",
   "metadata": {},
   "source": [
    "BAP1 transcriptomics decreased for the BAP1 mutated samples compared to the wildtype in the kidney dataset."
   ]
  },
  {
   "cell_type": "code",
   "execution_count": null,
   "metadata": {},
   "outputs": [],
   "source": []
  }
 ],
 "metadata": {
  "kernelspec": {
   "display_name": "Python 3",
   "language": "python",
   "name": "python3"
  },
  "language_info": {
   "codemirror_mode": {
    "name": "ipython",
    "version": 3
   },
   "file_extension": ".py",
   "mimetype": "text/x-python",
   "name": "python",
   "nbconvert_exporter": "python",
   "pygments_lexer": "ipython3",
   "version": "3.7.3"
  }
 },
 "nbformat": 4,
 "nbformat_minor": 2
}
