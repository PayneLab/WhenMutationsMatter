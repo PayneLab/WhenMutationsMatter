{
 "cells": [
  {
   "cell_type": "markdown",
   "metadata": {},
   "source": [
    "# BAP1 phosphoproteomics cis comparison"
   ]
  },
  {
   "cell_type": "markdown",
   "metadata": {},
   "source": [
    "NOTE problem with formatting columns for ttest, data for only wt for some cols"
   ]
  },
  {
   "cell_type": "markdown",
   "metadata": {},
   "source": [
    "## Step 1: Library Imports"
   ]
  },
  {
   "cell_type": "markdown",
   "metadata": {},
   "source": [
    "Run this cell to import the necessary libraries"
   ]
  },
  {
   "cell_type": "code",
   "execution_count": 1,
   "metadata": {},
   "outputs": [],
   "source": [
    "import pandas as pd\n",
    "import numpy as np\n",
    "import seaborn as sns\n",
    "import matplotlib.pyplot as plt\n",
    "import scipy.stats\n",
    "import re\n",
    "import sys \n",
    "sys.path.append('C:\\\\Users\\\\brittany henderson\\\\GitHub\\\\WhenMutationsMatter\\\\Brittany\\\\')\n",
    "import functions as f\n",
    "\n",
    "import cptac\n",
    "import cptac.algorithms as al"
   ]
  },
  {
   "cell_type": "markdown",
   "metadata": {},
   "source": [
    "## Step 2: Find the frequently mutated genes for Endometrial Cancer"
   ]
  },
  {
   "cell_type": "markdown",
   "metadata": {},
   "source": [
    "Enter the type of cancer and the cutoff for mutation frequency that you would like to use."
   ]
  },
  {
   "cell_type": "code",
   "execution_count": 2,
   "metadata": {},
   "outputs": [
    {
     "name": "stdout",
     "output_type": "stream",
     "text": [
      "                                    \r"
     ]
    },
    {
     "data": {
      "text/html": [
       "<div>\n",
       "<style scoped>\n",
       "    .dataframe tbody tr th:only-of-type {\n",
       "        vertical-align: middle;\n",
       "    }\n",
       "\n",
       "    .dataframe tbody tr th {\n",
       "        vertical-align: top;\n",
       "    }\n",
       "\n",
       "    .dataframe thead th {\n",
       "        text-align: right;\n",
       "    }\n",
       "</style>\n",
       "<table border=\"1\" class=\"dataframe\">\n",
       "  <thead>\n",
       "    <tr style=\"text-align: right;\">\n",
       "      <th></th>\n",
       "      <th>Gene</th>\n",
       "      <th>Unique_Samples_Mut</th>\n",
       "      <th>Missence_Mut</th>\n",
       "      <th>Truncation_Mut</th>\n",
       "    </tr>\n",
       "  </thead>\n",
       "  <tbody>\n",
       "    <tr>\n",
       "      <th>0</th>\n",
       "      <td>BAP1</td>\n",
       "      <td>0.154545</td>\n",
       "      <td>0.063636</td>\n",
       "      <td>0.090909</td>\n",
       "    </tr>\n",
       "  </tbody>\n",
       "</table>\n",
       "</div>"
      ],
      "text/plain": [
       "   Gene  Unique_Samples_Mut  Missence_Mut  Truncation_Mut\n",
       "0  BAP1            0.154545      0.063636        0.090909"
      ]
     },
     "execution_count": 2,
     "metadata": {},
     "output_type": "execute_result"
    }
   ],
   "source": [
    "rc_object = cptac.RenalCcrcc()\n",
    "desired_cutoff = 0.1\n",
    "\n",
    "renal_freq_mut = al.get_frequently_mutated(rc_object, cutoff = desired_cutoff)\n",
    "renal_freq_mut.loc[renal_freq_mut['Gene'] == 'BAP1']"
   ]
  },
  {
   "cell_type": "markdown",
   "metadata": {},
   "source": [
    "## Step 3: Select BAP1, a frequently mutated gene"
   ]
  },
  {
   "cell_type": "code",
   "execution_count": 3,
   "metadata": {},
   "outputs": [],
   "source": [
    "gene = 'BAP1'"
   ]
  },
  {
   "cell_type": "markdown",
   "metadata": {},
   "source": [
    "## Step 4: Select phosphoproteomics"
   ]
  },
  {
   "cell_type": "code",
   "execution_count": 6,
   "metadata": {},
   "outputs": [],
   "source": [
    "omics = rc_object.get_phosphoproteomics()"
   ]
  },
  {
   "cell_type": "markdown",
   "metadata": {},
   "source": [
    "## Step 5: cis comparison "
   ]
  },
  {
   "cell_type": "markdown",
   "metadata": {},
   "source": [
    "Determine if the DNA mutation has an effect on the omics measurement. In order to do this, we have a few steps in code. The first three steps are found in the format_phospho_cis_comparison_data function.\n",
    "1. get a table with both the omics and mutation data for tumors\n",
    "2. get a binary column from the mutation data to separate our samples\n",
    "3. format data frame to be used in the T-test\n",
    "4. send data to the T-test."
   ]
  },
  {
   "cell_type": "code",
   "execution_count": 13,
   "metadata": {},
   "outputs": [],
   "source": [
    "# Step 1 - Create dataframe in order to do comparisons with wrap_ttest\n",
    "omics_and_mut = rc_object.join_omics_to_mutations(\n",
    "    mutations_genes = gene, omics_df_name = 'phosphoproteomics', omics_genes = gene)\n",
    "\n",
    "# Step 2 - Create the binary column needed to do the comparison\n",
    "omics_and_mut['binary_mutations'] = omics_and_mut[gene+'_Mutation_Status'].apply(\n",
    "    lambda x: 'Wildtype' if x == 'Wildtype_Tumor' else 'Mutated')\n",
    "\n",
    "# Step 3 - Format\n",
    "tumors = omics_and_mut.loc[omics_and_mut['Sample_Status'] == 'Tumor'] #drop Normal samples\n",
    "columns_to_drop = [gene+\"_Mutation\", gene+\"_Location\", gene+\"_Mutation_Status\", \"Sample_Status\"]\n",
    "binary_phospho = tumors.drop(columns_to_drop, axis = 1)\n",
    "only_phospho = binary_phospho.drop('binary_mutations', axis = 1)"
   ]
  },
  {
   "cell_type": "code",
   "execution_count": 9,
   "metadata": {},
   "outputs": [
    {
     "name": "stdout",
     "output_type": "stream",
     "text": [
      "Doing t-test comparison for mutation status\n",
      "\n",
      "Incorrectly Formatted Dataframe!\n"
     ]
    },
    {
     "name": "stderr",
     "output_type": "stream",
     "text": [
      "C:\\Users\\brittany henderson\\Anaconda3\\envs\\Research\\lib\\site-packages\\numpy\\core\\fromnumeric.py:3367: RuntimeWarning: Degrees of freedom <= 0 for slice\n",
      "  **kwargs)\n",
      "C:\\Users\\brittany henderson\\Anaconda3\\envs\\Research\\lib\\site-packages\\numpy\\core\\_methods.py:132: RuntimeWarning: invalid value encountered in double_scalars\n",
      "  ret = ret.dtype.type(ret / rcount)\n",
      "C:\\Users\\brittany henderson\\Anaconda3\\envs\\Research\\lib\\site-packages\\scipy\\stats\\_distn_infrastructure.py:877: RuntimeWarning: invalid value encountered in greater\n",
      "  return (self.a < x) & (x < self.b)\n",
      "C:\\Users\\brittany henderson\\Anaconda3\\envs\\Research\\lib\\site-packages\\scipy\\stats\\_distn_infrastructure.py:877: RuntimeWarning: invalid value encountered in less\n",
      "  return (self.a < x) & (x < self.b)\n",
      "C:\\Users\\brittany henderson\\Anaconda3\\envs\\Research\\lib\\site-packages\\scipy\\stats\\_distn_infrastructure.py:1831: RuntimeWarning: invalid value encountered in less_equal\n",
      "  cond2 = cond0 & (x <= self.a)\n"
     ]
    }
   ],
   "source": [
    "# Step 4 - T-test comparing means of mutated vs wildtype effect on cis omics\n",
    "print(\"Doing t-test comparison for mutation status\\n\")\n",
    "omics_col_list = list(only_phospho.columns) \n",
    "#if state check data points > 10\n",
    "sig_pval_mut_status = al.wrap_ttest(binary_phospho, 'binary_mutations', omics_col_list)\n",
    "sig_pval_mut_status"
   ]
  },
  {
   "cell_type": "code",
   "execution_count": 17,
   "metadata": {
    "scrolled": true
   },
   "outputs": [
    {
     "data": {
      "text/html": [
       "<div>\n",
       "<style scoped>\n",
       "    .dataframe tbody tr th:only-of-type {\n",
       "        vertical-align: middle;\n",
       "    }\n",
       "\n",
       "    .dataframe tbody tr th {\n",
       "        vertical-align: top;\n",
       "    }\n",
       "\n",
       "    .dataframe thead th {\n",
       "        text-align: right;\n",
       "    }\n",
       "</style>\n",
       "<table border=\"1\" class=\"dataframe\">\n",
       "  <thead>\n",
       "    <tr style=\"text-align: right;\">\n",
       "      <th></th>\n",
       "      <th>binary_mutations</th>\n",
       "      <th>specific_phospho</th>\n",
       "      <th>phosphoproteomics</th>\n",
       "    </tr>\n",
       "  </thead>\n",
       "  <tbody>\n",
       "    <tr>\n",
       "      <th>1</th>\n",
       "      <td>Wildtype</td>\n",
       "      <td>BAP1-S292</td>\n",
       "      <td>0.109062</td>\n",
       "    </tr>\n",
       "    <tr>\n",
       "      <th>8</th>\n",
       "      <td>Wildtype</td>\n",
       "      <td>BAP1-S292</td>\n",
       "      <td>-0.045975</td>\n",
       "    </tr>\n",
       "    <tr>\n",
       "      <th>21</th>\n",
       "      <td>Wildtype</td>\n",
       "      <td>BAP1-S292</td>\n",
       "      <td>0.112353</td>\n",
       "    </tr>\n",
       "    <tr>\n",
       "      <th>47</th>\n",
       "      <td>Wildtype</td>\n",
       "      <td>BAP1-S292</td>\n",
       "      <td>0.000466</td>\n",
       "    </tr>\n",
       "    <tr>\n",
       "      <th>54</th>\n",
       "      <td>Wildtype</td>\n",
       "      <td>BAP1-S292</td>\n",
       "      <td>0.090155</td>\n",
       "    </tr>\n",
       "    <tr>\n",
       "      <th>63</th>\n",
       "      <td>Wildtype</td>\n",
       "      <td>BAP1-S292</td>\n",
       "      <td>0.084349</td>\n",
       "    </tr>\n",
       "    <tr>\n",
       "      <th>93</th>\n",
       "      <td>Wildtype</td>\n",
       "      <td>BAP1-S292</td>\n",
       "      <td>0.023446</td>\n",
       "    </tr>\n",
       "    <tr>\n",
       "      <th>107</th>\n",
       "      <td>Wildtype</td>\n",
       "      <td>BAP1-S292</td>\n",
       "      <td>0.004822</td>\n",
       "    </tr>\n",
       "    <tr>\n",
       "      <th>109</th>\n",
       "      <td>Wildtype</td>\n",
       "      <td>BAP1-S292</td>\n",
       "      <td>-0.011571</td>\n",
       "    </tr>\n",
       "    <tr>\n",
       "      <th>123</th>\n",
       "      <td>Mutated</td>\n",
       "      <td>BAP1-S319</td>\n",
       "      <td>-0.414765</td>\n",
       "    </tr>\n",
       "    <tr>\n",
       "      <th>125</th>\n",
       "      <td>Wildtype</td>\n",
       "      <td>BAP1-S319</td>\n",
       "      <td>-0.209283</td>\n",
       "    </tr>\n",
       "    <tr>\n",
       "      <th>167</th>\n",
       "      <td>Wildtype</td>\n",
       "      <td>BAP1-S319</td>\n",
       "      <td>-0.317646</td>\n",
       "    </tr>\n",
       "    <tr>\n",
       "      <th>176</th>\n",
       "      <td>Wildtype</td>\n",
       "      <td>BAP1-S319</td>\n",
       "      <td>-0.192154</td>\n",
       "    </tr>\n",
       "    <tr>\n",
       "      <th>220</th>\n",
       "      <td>Wildtype</td>\n",
       "      <td>BAP1-S325</td>\n",
       "      <td>0.048291</td>\n",
       "    </tr>\n",
       "    <tr>\n",
       "      <th>227</th>\n",
       "      <td>Wildtype</td>\n",
       "      <td>BAP1-S325</td>\n",
       "      <td>0.222123</td>\n",
       "    </tr>\n",
       "    <tr>\n",
       "      <th>228</th>\n",
       "      <td>Wildtype</td>\n",
       "      <td>BAP1-S325</td>\n",
       "      <td>0.425614</td>\n",
       "    </tr>\n",
       "    <tr>\n",
       "      <th>230</th>\n",
       "      <td>Wildtype</td>\n",
       "      <td>BAP1-S325</td>\n",
       "      <td>0.179621</td>\n",
       "    </tr>\n",
       "    <tr>\n",
       "      <th>237</th>\n",
       "      <td>Wildtype</td>\n",
       "      <td>BAP1-S325</td>\n",
       "      <td>0.163092</td>\n",
       "    </tr>\n",
       "    <tr>\n",
       "      <th>238</th>\n",
       "      <td>Mutated</td>\n",
       "      <td>BAP1-S325</td>\n",
       "      <td>-0.154690</td>\n",
       "    </tr>\n",
       "    <tr>\n",
       "      <th>254</th>\n",
       "      <td>Wildtype</td>\n",
       "      <td>BAP1-S325</td>\n",
       "      <td>0.094035</td>\n",
       "    </tr>\n",
       "    <tr>\n",
       "      <th>260</th>\n",
       "      <td>Wildtype</td>\n",
       "      <td>BAP1-S325</td>\n",
       "      <td>0.315497</td>\n",
       "    </tr>\n",
       "    <tr>\n",
       "      <th>263</th>\n",
       "      <td>Mutated</td>\n",
       "      <td>BAP1-S325</td>\n",
       "      <td>0.000514</td>\n",
       "    </tr>\n",
       "    <tr>\n",
       "      <th>266</th>\n",
       "      <td>Mutated</td>\n",
       "      <td>BAP1-S325</td>\n",
       "      <td>-0.110958</td>\n",
       "    </tr>\n",
       "    <tr>\n",
       "      <th>271</th>\n",
       "      <td>Wildtype</td>\n",
       "      <td>BAP1-S325</td>\n",
       "      <td>0.069684</td>\n",
       "    </tr>\n",
       "    <tr>\n",
       "      <th>278</th>\n",
       "      <td>Mutated</td>\n",
       "      <td>BAP1-S325</td>\n",
       "      <td>-0.012327</td>\n",
       "    </tr>\n",
       "    <tr>\n",
       "      <th>279</th>\n",
       "      <td>Wildtype</td>\n",
       "      <td>BAP1-S325</td>\n",
       "      <td>-0.106634</td>\n",
       "    </tr>\n",
       "    <tr>\n",
       "      <th>302</th>\n",
       "      <td>Wildtype</td>\n",
       "      <td>BAP1-S325</td>\n",
       "      <td>0.076159</td>\n",
       "    </tr>\n",
       "    <tr>\n",
       "      <th>303</th>\n",
       "      <td>Wildtype</td>\n",
       "      <td>BAP1-S325</td>\n",
       "      <td>-0.155186</td>\n",
       "    </tr>\n",
       "    <tr>\n",
       "      <th>307</th>\n",
       "      <td>Wildtype</td>\n",
       "      <td>BAP1-S325</td>\n",
       "      <td>0.467596</td>\n",
       "    </tr>\n",
       "    <tr>\n",
       "      <th>311</th>\n",
       "      <td>Mutated</td>\n",
       "      <td>BAP1-S325</td>\n",
       "      <td>-0.300010</td>\n",
       "    </tr>\n",
       "    <tr>\n",
       "      <th>...</th>\n",
       "      <td>...</td>\n",
       "      <td>...</td>\n",
       "      <td>...</td>\n",
       "    </tr>\n",
       "    <tr>\n",
       "      <th>2134</th>\n",
       "      <td>Wildtype</td>\n",
       "      <td>BAP1-Y401</td>\n",
       "      <td>0.013725</td>\n",
       "    </tr>\n",
       "    <tr>\n",
       "      <th>2135</th>\n",
       "      <td>Wildtype</td>\n",
       "      <td>BAP1-Y401</td>\n",
       "      <td>0.102506</td>\n",
       "    </tr>\n",
       "    <tr>\n",
       "      <th>2138</th>\n",
       "      <td>Wildtype</td>\n",
       "      <td>BAP1-Y401</td>\n",
       "      <td>-0.087990</td>\n",
       "    </tr>\n",
       "    <tr>\n",
       "      <th>2139</th>\n",
       "      <td>Wildtype</td>\n",
       "      <td>BAP1-Y401</td>\n",
       "      <td>-0.050296</td>\n",
       "    </tr>\n",
       "    <tr>\n",
       "      <th>2140</th>\n",
       "      <td>Wildtype</td>\n",
       "      <td>BAP1-Y401</td>\n",
       "      <td>-0.206441</td>\n",
       "    </tr>\n",
       "    <tr>\n",
       "      <th>2142</th>\n",
       "      <td>Wildtype</td>\n",
       "      <td>BAP1-Y401</td>\n",
       "      <td>0.074249</td>\n",
       "    </tr>\n",
       "    <tr>\n",
       "      <th>2145</th>\n",
       "      <td>Wildtype</td>\n",
       "      <td>BAP1-Y401</td>\n",
       "      <td>0.090083</td>\n",
       "    </tr>\n",
       "    <tr>\n",
       "      <th>2147</th>\n",
       "      <td>Wildtype</td>\n",
       "      <td>BAP1-Y401</td>\n",
       "      <td>0.065113</td>\n",
       "    </tr>\n",
       "    <tr>\n",
       "      <th>2150</th>\n",
       "      <td>Wildtype</td>\n",
       "      <td>BAP1-Y401</td>\n",
       "      <td>-0.180971</td>\n",
       "    </tr>\n",
       "    <tr>\n",
       "      <th>2155</th>\n",
       "      <td>Wildtype</td>\n",
       "      <td>BAP1-Y401</td>\n",
       "      <td>-0.221363</td>\n",
       "    </tr>\n",
       "    <tr>\n",
       "      <th>2156</th>\n",
       "      <td>Wildtype</td>\n",
       "      <td>BAP1-Y401</td>\n",
       "      <td>0.104248</td>\n",
       "    </tr>\n",
       "    <tr>\n",
       "      <th>2158</th>\n",
       "      <td>Wildtype</td>\n",
       "      <td>BAP1-Y401</td>\n",
       "      <td>0.080183</td>\n",
       "    </tr>\n",
       "    <tr>\n",
       "      <th>2159</th>\n",
       "      <td>Wildtype</td>\n",
       "      <td>BAP1-Y401</td>\n",
       "      <td>-0.035110</td>\n",
       "    </tr>\n",
       "    <tr>\n",
       "      <th>2160</th>\n",
       "      <td>Wildtype</td>\n",
       "      <td>BAP1-Y401</td>\n",
       "      <td>0.113613</td>\n",
       "    </tr>\n",
       "    <tr>\n",
       "      <th>2165</th>\n",
       "      <td>Wildtype</td>\n",
       "      <td>BAP1-Y401</td>\n",
       "      <td>-0.212852</td>\n",
       "    </tr>\n",
       "    <tr>\n",
       "      <th>2166</th>\n",
       "      <td>Wildtype</td>\n",
       "      <td>BAP1-Y401</td>\n",
       "      <td>0.095804</td>\n",
       "    </tr>\n",
       "    <tr>\n",
       "      <th>2171</th>\n",
       "      <td>Wildtype</td>\n",
       "      <td>BAP1-Y401</td>\n",
       "      <td>-0.149193</td>\n",
       "    </tr>\n",
       "    <tr>\n",
       "      <th>2174</th>\n",
       "      <td>Wildtype</td>\n",
       "      <td>BAP1-Y401</td>\n",
       "      <td>-0.154518</td>\n",
       "    </tr>\n",
       "    <tr>\n",
       "      <th>2176</th>\n",
       "      <td>Wildtype</td>\n",
       "      <td>BAP1-Y401</td>\n",
       "      <td>-0.236546</td>\n",
       "    </tr>\n",
       "    <tr>\n",
       "      <th>2178</th>\n",
       "      <td>Wildtype</td>\n",
       "      <td>BAP1-Y401</td>\n",
       "      <td>-0.047763</td>\n",
       "    </tr>\n",
       "    <tr>\n",
       "      <th>2184</th>\n",
       "      <td>Wildtype</td>\n",
       "      <td>BAP1-Y401</td>\n",
       "      <td>-0.031322</td>\n",
       "    </tr>\n",
       "    <tr>\n",
       "      <th>2188</th>\n",
       "      <td>Wildtype</td>\n",
       "      <td>BAP1-Y401</td>\n",
       "      <td>-0.086211</td>\n",
       "    </tr>\n",
       "    <tr>\n",
       "      <th>2190</th>\n",
       "      <td>Wildtype</td>\n",
       "      <td>BAP1-Y401</td>\n",
       "      <td>-0.037541</td>\n",
       "    </tr>\n",
       "    <tr>\n",
       "      <th>2192</th>\n",
       "      <td>Wildtype</td>\n",
       "      <td>BAP1-Y401</td>\n",
       "      <td>0.046098</td>\n",
       "    </tr>\n",
       "    <tr>\n",
       "      <th>2193</th>\n",
       "      <td>Wildtype</td>\n",
       "      <td>BAP1-Y401</td>\n",
       "      <td>-0.194149</td>\n",
       "    </tr>\n",
       "    <tr>\n",
       "      <th>2198</th>\n",
       "      <td>Wildtype</td>\n",
       "      <td>BAP1-Y401</td>\n",
       "      <td>-0.111309</td>\n",
       "    </tr>\n",
       "    <tr>\n",
       "      <th>2214</th>\n",
       "      <td>Wildtype</td>\n",
       "      <td>BAP1-Y401</td>\n",
       "      <td>0.218611</td>\n",
       "    </tr>\n",
       "    <tr>\n",
       "      <th>2255</th>\n",
       "      <td>Wildtype</td>\n",
       "      <td>BAP1-Y401</td>\n",
       "      <td>-0.037718</td>\n",
       "    </tr>\n",
       "    <tr>\n",
       "      <th>2284</th>\n",
       "      <td>Wildtype</td>\n",
       "      <td>BAP1-Y401</td>\n",
       "      <td>-0.011097</td>\n",
       "    </tr>\n",
       "    <tr>\n",
       "      <th>2286</th>\n",
       "      <td>Wildtype</td>\n",
       "      <td>BAP1-Y401</td>\n",
       "      <td>0.002541</td>\n",
       "    </tr>\n",
       "  </tbody>\n",
       "</table>\n",
       "<p>574 rows × 3 columns</p>\n",
       "</div>"
      ],
      "text/plain": [
       "     binary_mutations specific_phospho  phosphoproteomics\n",
       "1            Wildtype        BAP1-S292           0.109062\n",
       "8            Wildtype        BAP1-S292          -0.045975\n",
       "21           Wildtype        BAP1-S292           0.112353\n",
       "47           Wildtype        BAP1-S292           0.000466\n",
       "54           Wildtype        BAP1-S292           0.090155\n",
       "...               ...              ...                ...\n",
       "2198         Wildtype        BAP1-Y401          -0.111309\n",
       "2214         Wildtype        BAP1-Y401           0.218611\n",
       "2255         Wildtype        BAP1-Y401          -0.037718\n",
       "2284         Wildtype        BAP1-Y401          -0.011097\n",
       "2286         Wildtype        BAP1-Y401           0.002541\n",
       "\n",
       "[574 rows x 3 columns]"
      ]
     },
     "execution_count": 17,
     "metadata": {},
     "output_type": "execute_result"
    }
   ],
   "source": [
    "# Create data frame with all significant phospho sites in order to graph\n",
    "phospho_list = list(only_phospho.columns)\n",
    "sig_phospho_df = pd.melt(binary_phospho, id_vars = 'binary_mutations', \n",
    "            value_vars = phospho_list, var_name = 'specific_phospho', value_name = 'phosphoproteomics')\n",
    "sig_phospho_df.replace(to_replace = '_phosphoproteomics', value = '', \n",
    "                        inplace = True, regex = True) # shorten column names\n",
    "sig_phospho_df.dropna(axis=0)"
   ]
  },
  {
   "cell_type": "code",
   "execution_count": 1,
   "metadata": {},
   "outputs": [
    {
     "ename": "NameError",
     "evalue": "name 'plt' is not defined",
     "output_type": "error",
     "traceback": [
      "\u001b[1;31m---------------------------------------------------------------------------\u001b[0m",
      "\u001b[1;31mNameError\u001b[0m                                 Traceback (most recent call last)",
      "\u001b[1;32m<ipython-input-1-55d0399fd8e5>\u001b[0m in \u001b[0;36m<module>\u001b[1;34m\u001b[0m\n\u001b[0;32m      1\u001b[0m \u001b[1;31m# Step 5 - Create boxplot to compare wildtype and mutated effect on omics data\u001b[0m\u001b[1;33m\u001b[0m\u001b[1;33m\u001b[0m\u001b[1;33m\u001b[0m\u001b[0m\n\u001b[1;32m----> 2\u001b[1;33m \u001b[0mplt\u001b[0m\u001b[1;33m.\u001b[0m\u001b[0mrcParams\u001b[0m\u001b[1;33m[\u001b[0m\u001b[1;34m'figure.figsize'\u001b[0m\u001b[1;33m]\u001b[0m\u001b[1;33m=\u001b[0m\u001b[1;33m(\u001b[0m\u001b[1;36m25\u001b[0m\u001b[1;33m,\u001b[0m\u001b[1;36m15\u001b[0m\u001b[1;33m)\u001b[0m \u001b[1;31m#size of plot\u001b[0m\u001b[1;33m\u001b[0m\u001b[1;33m\u001b[0m\u001b[0m\n\u001b[0m\u001b[0;32m      3\u001b[0m \u001b[0msns\u001b[0m\u001b[1;33m.\u001b[0m\u001b[0mset\u001b[0m\u001b[1;33m(\u001b[0m\u001b[0mfont_scale\u001b[0m \u001b[1;33m=\u001b[0m \u001b[1;36m2\u001b[0m\u001b[1;33m)\u001b[0m\u001b[1;33m\u001b[0m\u001b[1;33m\u001b[0m\u001b[0m\n\u001b[0;32m      4\u001b[0m en_cis_boxplot = sns.boxplot(data = sig_phospho_df, x = 'specific_phospho', y = 'phosphoproteomics', hue = 'binary_mutations',\n\u001b[0;32m      5\u001b[0m                              hue_order = [\"Wildtype\",\"Mutated\"], showfliers = False)  \n",
      "\u001b[1;31mNameError\u001b[0m: name 'plt' is not defined"
     ]
    }
   ],
   "source": [
    "# Step 5 - Create boxplot to compare wildtype and mutated effect on omics data\n",
    "plt.rcParams['figure.figsize']=(25,15) #size of plot\n",
    "sns.set(font_scale = 2)\n",
    "en_cis_boxplot = sns.boxplot(data = sig_phospho_df, x = 'specific_phospho', y = 'phosphoproteomics', hue = 'binary_mutations',\n",
    "                             hue_order = [\"Wildtype\",\"Mutated\"], showfliers = False)  \n",
    "en_cis_boxplot.set_title(gene + \" Effect on cis Phosphoproteomics in Endometrial Tumors\")\n",
    "en_cis_boxplot = sns.stripplot(data = sig_phospho_df, x = 'specific_phospho', y = 'phosphoproteomics', hue = 'binary_mutations',\n",
    "                               hue_order = [\"Wildtype\",\"Mutated\"], jitter = True, color = \".3\", dodge = True)\n",
    "en_cis_boxplot.set(xlabel = 'Phosphorylation Sites', ylabel = \"Phosphorylation Levels\")\n",
    "en_cis_boxplot.set_xticklabels(en_cis_boxplot.get_xticklabels(),rotation = 70)\n",
    "plt.show()\n",
    "plt.clf()\n",
    "plt.close()"
   ]
  },
  {
   "cell_type": "markdown",
   "metadata": {},
   "source": [
    "The phosphorylation levels decreased in the mutated samples compared to the wildtype."
   ]
  },
  {
   "cell_type": "markdown",
   "metadata": {},
   "source": [
    "Repeat the same steps to compare mutation type (missence vs. truncation). Use the function, get_missence_truncation_comparison, to get the mutation type binary column and format the dataframe."
   ]
  },
  {
   "cell_type": "code",
   "execution_count": 19,
   "metadata": {},
   "outputs": [],
   "source": [
    "# Steps 1-3\n",
    "formated_phospho_mut_type = f.get_missence_truncation_comparison(rc_object, 'phosphoproteomics', gene)"
   ]
  },
  {
   "cell_type": "code",
   "execution_count": 20,
   "metadata": {},
   "outputs": [
    {
     "name": "stdout",
     "output_type": "stream",
     "text": [
      "Doing t-test comparison\n",
      "\n",
      "Incorrectly Formatted Dataframe!\n",
      "None\n"
     ]
    },
    {
     "name": "stderr",
     "output_type": "stream",
     "text": [
      "C:\\Users\\brittany henderson\\Anaconda3\\envs\\Research\\lib\\site-packages\\numpy\\core\\_methods.py:130: RuntimeWarning: invalid value encountered in true_divide\n",
      "  ret, rcount, out=ret, casting='unsafe', subok=False)\n",
      "C:\\Users\\brittany henderson\\Anaconda3\\envs\\Research\\lib\\site-packages\\cptac\\algorithms\\__init__.py:82: RuntimeWarning: invalid value encountered in less_equal\n",
      "  if pval <= bonferroni_cutoff:\n"
     ]
    }
   ],
   "source": [
    "# Step 4 - T-test comparing means of missence vs truncation effect on cis omics\n",
    "print(\"Doing t-test comparison\\n\")\n",
    "sig_pval_mut_type = al.wrap_ttest(formated_phospho_mut_type, 'binary_mutations', omics_col_list)\n",
    "print(sig_pval_mut_type)"
   ]
  },
  {
   "cell_type": "markdown",
   "metadata": {},
   "source": [
    "No significant comparisons for mutation type."
   ]
  },
  {
   "cell_type": "markdown",
   "metadata": {},
   "source": [
    "# Analysis of Results"
   ]
  },
  {
   "cell_type": "markdown",
   "metadata": {},
   "source": []
  },
  {
   "cell_type": "code",
   "execution_count": null,
   "metadata": {},
   "outputs": [],
   "source": []
  }
 ],
 "metadata": {
  "kernelspec": {
   "display_name": "Python 3",
   "language": "python",
   "name": "python3"
  },
  "language_info": {
   "codemirror_mode": {
    "name": "ipython",
    "version": 3
   },
   "file_extension": ".py",
   "mimetype": "text/x-python",
   "name": "python",
   "nbconvert_exporter": "python",
   "pygments_lexer": "ipython3",
   "version": "3.7.3"
  }
 },
 "nbformat": 4,
 "nbformat_minor": 2
}
