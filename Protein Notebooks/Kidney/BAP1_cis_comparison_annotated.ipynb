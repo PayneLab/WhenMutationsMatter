{
 "cells": [
  {
   "cell_type": "markdown",
   "metadata": {},
   "source": [
    "# BAP1 cis comparison\n"
   ]
  },
  {
   "cell_type": "markdown",
   "metadata": {},
   "source": [
    "BAP1 is known as a tumor suppressor and a deubiquitinase. \"The presence of ubiquitin molecules on a protein can affect the activity of the protein and its interactions with other proteins. The ubiquitin \"tag\" also promotes breakdown (degradation) of a protein. By removing ubiquitin, BAP1 helps regulate the function of many proteins involved in diverse cellular processes. The BAP1 protein is thought to help control cell growth and division (proliferation) and cell death\" (https://ghr.nlm.nih.gov/gene/BAP1)."
   ]
  },
  {
   "cell_type": "markdown",
   "metadata": {},
   "source": [
    "## Step 1: Library Imports"
   ]
  },
  {
   "cell_type": "markdown",
   "metadata": {},
   "source": [
    "Run this cell to import the necessary libraries"
   ]
  },
  {
   "cell_type": "code",
   "execution_count": 3,
   "metadata": {},
   "outputs": [],
   "source": [
    "import pandas as pd\n",
    "import numpy as np\n",
    "import seaborn as sns\n",
    "import matplotlib.pyplot as plt\n",
    "import scipy.stats\n",
    "import re\n",
    "import sys \n",
    "sys.path.append('C:\\\\Users\\\\brittany henderson\\\\GitHub\\\\WhenMutationsMatter\\\\Brittany\\\\')\n",
    "import functions as f\n",
    "\n",
    "import cptac\n",
    "import cptac.algorithms as al"
   ]
  },
  {
   "cell_type": "code",
   "execution_count": 4,
   "metadata": {},
   "outputs": [],
   "source": [
    "def wrap_ttest_return_all(df, label_column, comparison_columns, total_tests=1, alpha=.05):\n",
    "    try:\n",
    "        #Verify precondition that label column exists and has exactly 2 unique values\n",
    "        label_values = df[label_column].unique()\n",
    "        if len(label_values) != 2:\n",
    "            print(\"Incorrectly Formatted Dataframe! Label column must have exactly 2 unique values.\")\n",
    "            return None\n",
    "        \n",
    "        #Partition dataframe into two sets, one for each of the two unique values from the label column\n",
    "        partition1 = df.loc[df[label_column] == label_values[0]]\n",
    "        partition2 = df.loc[df[label_column] == label_values[1]]\n",
    "        \n",
    "        #Determine the number of real valued columns on which we will do t-tests\n",
    "        number_of_comparisons = total_tests # ? phospho sites or num freq mut genes doing cis comp\n",
    "        \n",
    "        #Use a bonferroni correction to adjust for multiple testing by altering the p-value needed for acceptance\n",
    "        bonferroni_cutoff = alpha/number_of_comparisons\n",
    "        \n",
    "        #Store all comparisons with their p-values in a dictionary\n",
    "        all_comparisons = {}\n",
    "        \n",
    "        #Loop through each comparison column, perform the t-test, and determine whether it meets the significance cutoff'''\n",
    "        for column in comparison_columns:\n",
    "            stat, pval = scipy.stats.ttest_ind(partition1[column].dropna(axis=0), partition2[column].dropna(axis=0))\n",
    "            all_comparisons[column] = pval\n",
    "    \n",
    "        #Sort dictionary to list smallest p-values first\n",
    "        sorted_comparisons = sorted(all_comparisons.items(), key=lambda kv: kv[1])\n",
    "        #Format as a dataframe and return to caller\n",
    "        all_comparisons_df = pd.DataFrame.from_dict(sorted_comparisons)\n",
    "        all_comparisons_df.columns = ['Comparison', 'P_Value']\n",
    "        \n",
    "                                               \n",
    "        all_comparisons_sig_col = f.add_significance_col(all_comparisons_df, number_of_comparisons)\n",
    "        return all_comparisons_sig_col\n",
    "                                \n",
    "    except:\n",
    "        print(\"Incorrectly Formatted Dataframe!\")\n",
    "        return None"
   ]
  },
  {
   "cell_type": "markdown",
   "metadata": {},
   "source": [
    "## Step 2: Find the mutation frequency of BAP1 for Kidney Cancer"
   ]
  },
  {
   "cell_type": "code",
   "execution_count": 5,
   "metadata": {},
   "outputs": [
    {
     "name": "stdout",
     "output_type": "stream",
     "text": [
      "                                    \r"
     ]
    },
    {
     "data": {
      "text/html": [
       "<div>\n",
       "<style scoped>\n",
       "    .dataframe tbody tr th:only-of-type {\n",
       "        vertical-align: middle;\n",
       "    }\n",
       "\n",
       "    .dataframe tbody tr th {\n",
       "        vertical-align: top;\n",
       "    }\n",
       "\n",
       "    .dataframe thead th {\n",
       "        text-align: right;\n",
       "    }\n",
       "</style>\n",
       "<table border=\"1\" class=\"dataframe\">\n",
       "  <thead>\n",
       "    <tr style=\"text-align: right;\">\n",
       "      <th></th>\n",
       "      <th>Gene</th>\n",
       "      <th>Unique_Samples_Mut</th>\n",
       "      <th>Missense_Mut</th>\n",
       "      <th>Truncation_Mut</th>\n",
       "    </tr>\n",
       "  </thead>\n",
       "  <tbody>\n",
       "    <tr>\n",
       "      <th>0</th>\n",
       "      <td>BAP1</td>\n",
       "      <td>0.154545</td>\n",
       "      <td>0.063636</td>\n",
       "      <td>0.090909</td>\n",
       "    </tr>\n",
       "  </tbody>\n",
       "</table>\n",
       "</div>"
      ],
      "text/plain": [
       "   Gene  Unique_Samples_Mut  Missense_Mut  Truncation_Mut\n",
       "0  BAP1            0.154545      0.063636        0.090909"
      ]
     },
     "execution_count": 5,
     "metadata": {},
     "output_type": "execute_result"
    }
   ],
   "source": [
    "rc = cptac.RenalCcrcc()\n",
    "desired_cutoff = 0.1\n",
    "gene = 'BAP1'\n",
    "\n",
    "freq_mut = al.get_frequently_mutated(rc, cutoff = desired_cutoff)\n",
    "freq_mut.loc[freq_mut['Gene'] == gene]"
   ]
  },
  {
   "cell_type": "markdown",
   "metadata": {},
   "source": [
    "## Step 3: cis comparisons for omics "
   ]
  },
  {
   "cell_type": "markdown",
   "metadata": {},
   "source": [
    "Determine if the DNA mutation has an effect on the omics measurement. In order to do this, we have a few steps in code. These steps are found in the format_cis_comparison_data function.\n",
    "1. get a table with both the omics and mutation data for tumors\n",
    "2. get a binary column from the mutation data to separate our samples\n",
    "3. format data frame to be used in the T-test\n",
    "4. send data to the T-test.\n",
    "\n",
    "The format_cis_comparison_data does the first 3 steps."
   ]
  },
  {
   "cell_type": "markdown",
   "metadata": {},
   "source": [
    "# Proteomics cis comparison"
   ]
  },
  {
   "cell_type": "markdown",
   "metadata": {},
   "source": [
    "Proteomics: Mutated and Wildtype"
   ]
  },
  {
   "cell_type": "code",
   "execution_count": 24,
   "metadata": {},
   "outputs": [
    {
     "name": "stdout",
     "output_type": "stream",
     "text": [
      "Doing t-test comparison for mutated and wildtype\n"
     ]
    },
    {
     "data": {
      "text/html": [
       "<div>\n",
       "<style scoped>\n",
       "    .dataframe tbody tr th:only-of-type {\n",
       "        vertical-align: middle;\n",
       "    }\n",
       "\n",
       "    .dataframe tbody tr th {\n",
       "        vertical-align: top;\n",
       "    }\n",
       "\n",
       "    .dataframe thead th {\n",
       "        text-align: right;\n",
       "    }\n",
       "</style>\n",
       "<table border=\"1\" class=\"dataframe\">\n",
       "  <thead>\n",
       "    <tr style=\"text-align: right;\">\n",
       "      <th></th>\n",
       "      <th>Comparison</th>\n",
       "      <th>P_Value</th>\n",
       "      <th>Significant</th>\n",
       "    </tr>\n",
       "  </thead>\n",
       "  <tbody>\n",
       "    <tr>\n",
       "      <th>Mutated/Wildtype</th>\n",
       "      <td>BAP1_proteomics</td>\n",
       "      <td>0.010487</td>\n",
       "      <td>True</td>\n",
       "    </tr>\n",
       "  </tbody>\n",
       "</table>\n",
       "</div>"
      ],
      "text/plain": [
       "                       Comparison   P_Value  Significant\n",
       "Mutated/Wildtype  BAP1_proteomics  0.010487         True"
      ]
     },
     "execution_count": 24,
     "metadata": {},
     "output_type": "execute_result"
    }
   ],
   "source": [
    "prot_mut_status = f.format_cis_comparison_data(rc, 'proteomics', gene)\n",
    "\n",
    "total_tests = len(freq_mut) \n",
    "prot_col_list = [gene+'_proteomics']\n",
    "prot_col = gene+\"_proteomics\"\n",
    "\n",
    "# Step 4 - T-test comparing means of mutated vs wildtype effect on cis omics\n",
    "print(\"Doing t-test comparison for mutated and wildtype\")\n",
    "prot_results = wrap_ttest_return_all(prot_mut_status, 'binary_mutations', prot_col_list)\n",
    "prot_results = prot_results.rename(index = {0: \"Mutated/Wildtype\"})\n",
    "prot_results"
   ]
  },
  {
   "cell_type": "markdown",
   "metadata": {},
   "source": [
    "This p-value is not significant because of multiple hypothesis testing. Other notebooks test the rest of the frequently mutated genes. "
   ]
  },
  {
   "cell_type": "code",
   "execution_count": 15,
   "metadata": {},
   "outputs": [
    {
     "data": {
      "image/png": "[encoded data removed]",
      "text/plain": [
       "<Figure size 576x360 with 1 Axes>"
      ]
     },
     "metadata": {},
     "output_type": "display_data"
    }
   ],
   "source": [
    "f.cis_plot(prot_mut_status, gene, \"proteomics\", prot_results)"
   ]
  },
  {
   "cell_type": "markdown",
   "metadata": {},
   "source": [
    "Proteomics: Missense and Truncation compared to wildtype"
   ]
  },
  {
   "cell_type": "code",
   "execution_count": 17,
   "metadata": {},
   "outputs": [],
   "source": [
    "# Create data frame with mutation types and wildtype binary column\n",
    "prot_mut_type = f.get_missense_truncation_comparison(rc, 'proteomics', gene)\n",
    "prot_wildtype = prot_mut_status.loc[prot_mut_status['binary_mutations'] == 'Wildtype'] # select all wildtype \n",
    "prot_mut_and_wildtype = prot_mut_type.append(prot_wildtype, sort=False) # use for graph"
   ]
  },
  {
   "cell_type": "code",
   "execution_count": 19,
   "metadata": {},
   "outputs": [
    {
     "name": "stdout",
     "output_type": "stream",
     "text": [
      "Doing t-test comparison for missense and wildtype\n",
      "\n"
     ]
    },
    {
     "data": {
      "text/html": [
       "<div>\n",
       "<style scoped>\n",
       "    .dataframe tbody tr th:only-of-type {\n",
       "        vertical-align: middle;\n",
       "    }\n",
       "\n",
       "    .dataframe tbody tr th {\n",
       "        vertical-align: top;\n",
       "    }\n",
       "\n",
       "    .dataframe thead th {\n",
       "        text-align: right;\n",
       "    }\n",
       "</style>\n",
       "<table border=\"1\" class=\"dataframe\">\n",
       "  <thead>\n",
       "    <tr style=\"text-align: right;\">\n",
       "      <th></th>\n",
       "      <th>Comparison</th>\n",
       "      <th>P_Value</th>\n",
       "      <th>Significant</th>\n",
       "    </tr>\n",
       "  </thead>\n",
       "  <tbody>\n",
       "    <tr>\n",
       "      <th>Missense/Wildtype</th>\n",
       "      <td>BAP1_proteomics</td>\n",
       "      <td>0.293014</td>\n",
       "      <td>False</td>\n",
       "    </tr>\n",
       "  </tbody>\n",
       "</table>\n",
       "</div>"
      ],
      "text/plain": [
       "                        Comparison   P_Value  Significant\n",
       "Missense/Wildtype  BAP1_proteomics  0.293014        False"
      ]
     },
     "execution_count": 19,
     "metadata": {},
     "output_type": "execute_result"
    }
   ],
   "source": [
    "# compare missense and wildtype\n",
    "prot_miss_wt = prot_mut_and_wildtype.loc[prot_mut_and_wildtype['binary_mutations'] != 'Truncation']\n",
    "print(\"Doing t-test comparison for missense and wildtype\\n\")\n",
    "prot_results_miss = wrap_ttest_return_all(prot_miss_wt, 'binary_mutations', prot_col_list)\n",
    "prot_results_miss = prot_results_miss.rename(index = {0: \"Missense/Wildtype\"})\n",
    "prot_results_miss\n"
   ]
  },
  {
   "cell_type": "code",
   "execution_count": 25,
   "metadata": {},
   "outputs": [
    {
     "name": "stdout",
     "output_type": "stream",
     "text": [
      "Doing t-test comparison for truncation and wildtype\n"
     ]
    },
    {
     "data": {
      "text/html": [
       "<div>\n",
       "<style scoped>\n",
       "    .dataframe tbody tr th:only-of-type {\n",
       "        vertical-align: middle;\n",
       "    }\n",
       "\n",
       "    .dataframe tbody tr th {\n",
       "        vertical-align: top;\n",
       "    }\n",
       "\n",
       "    .dataframe thead th {\n",
       "        text-align: right;\n",
       "    }\n",
       "</style>\n",
       "<table border=\"1\" class=\"dataframe\">\n",
       "  <thead>\n",
       "    <tr style=\"text-align: right;\">\n",
       "      <th></th>\n",
       "      <th>Comparison</th>\n",
       "      <th>P_Value</th>\n",
       "      <th>Significant</th>\n",
       "    </tr>\n",
       "  </thead>\n",
       "  <tbody>\n",
       "    <tr>\n",
       "      <th>Truncation/Wildtype</th>\n",
       "      <td>BAP1_proteomics</td>\n",
       "      <td>0.004736</td>\n",
       "      <td>True</td>\n",
       "    </tr>\n",
       "  </tbody>\n",
       "</table>\n",
       "</div>"
      ],
      "text/plain": [
       "                          Comparison   P_Value  Significant\n",
       "Truncation/Wildtype  BAP1_proteomics  0.004736         True"
      ]
     },
     "execution_count": 25,
     "metadata": {},
     "output_type": "execute_result"
    }
   ],
   "source": [
    "# compare truncation and wildtype\n",
    "prot_trunc_wt = prot_mut_and_wildtype.loc[prot_mut_and_wildtype['binary_mutations'] != 'Missense']\n",
    "print(\"Doing t-test comparison for truncation and wildtype\")\n",
    "prot_results_trunc = wrap_ttest_return_all(prot_trunc_wt, 'binary_mutations', prot_col_list)\n",
    "prot_results_trunc = prot_results_trunc.rename(index = {0: \"Truncation/Wildtype\"})\n",
    "prot_results_trunc"
   ]
  },
  {
   "cell_type": "code",
   "execution_count": 27,
   "metadata": {},
   "outputs": [
    {
     "data": {
      "image/png": "[encoded data removed]",
      "text/plain": [
       "<Figure size 576x360 with 1 Axes>"
      ]
     },
     "metadata": {},
     "output_type": "display_data"
    },
    {
     "data": {
      "text/html": [
       "<div>\n",
       "<style scoped>\n",
       "    .dataframe tbody tr th:only-of-type {\n",
       "        vertical-align: middle;\n",
       "    }\n",
       "\n",
       "    .dataframe tbody tr th {\n",
       "        vertical-align: top;\n",
       "    }\n",
       "\n",
       "    .dataframe thead th {\n",
       "        text-align: right;\n",
       "    }\n",
       "</style>\n",
       "<table border=\"1\" class=\"dataframe\">\n",
       "  <thead>\n",
       "    <tr style=\"text-align: right;\">\n",
       "      <th></th>\n",
       "      <th>Comparison</th>\n",
       "      <th>P_Value</th>\n",
       "      <th>Significant</th>\n",
       "    </tr>\n",
       "  </thead>\n",
       "  <tbody>\n",
       "    <tr>\n",
       "      <th>Missense/Wildtype</th>\n",
       "      <td>BAP1_proteomics</td>\n",
       "      <td>0.293014</td>\n",
       "      <td>False</td>\n",
       "    </tr>\n",
       "    <tr>\n",
       "      <th>Truncation/Wildtype</th>\n",
       "      <td>BAP1_proteomics</td>\n",
       "      <td>0.004736</td>\n",
       "      <td>True</td>\n",
       "    </tr>\n",
       "  </tbody>\n",
       "</table>\n",
       "</div>"
      ],
      "text/plain": [
       "                          Comparison   P_Value  Significant\n",
       "Missense/Wildtype    BAP1_proteomics  0.293014        False\n",
       "Truncation/Wildtype  BAP1_proteomics  0.004736         True"
      ]
     },
     "execution_count": 27,
     "metadata": {},
     "output_type": "execute_result"
    }
   ],
   "source": [
    "prot_results_miss_trunc = prot_results_miss.append(prot_results_trunc)\n",
    "f.cis_plot(prot_trunc_wt, gene, \"proteomics\", prot_results_miss_trunc)\n",
    "\n",
    "prot_results_miss_trunc"
   ]
  },
  {
   "cell_type": "markdown",
   "metadata": {},
   "source": [
    "# Transcriptomics cis comparison"
   ]
  },
  {
   "cell_type": "markdown",
   "metadata": {},
   "source": [
    "Transcriptomics: Mutated and Wildtype"
   ]
  },
  {
   "cell_type": "code",
   "execution_count": 6,
   "metadata": {},
   "outputs": [
    {
     "name": "stdout",
     "output_type": "stream",
     "text": [
      "Doing t-test comparison for mutation status\n",
      "\n"
     ]
    }
   ],
   "source": [
    "trans_mut_status = f.format_cis_comparison_data(rc, 'transcriptomics', gene)\n",
    "trans_col_list = [gene+'_transcriptomics']\n",
    "\n",
    "print(\"Doing t-test comparison for mutation status\\n\")\n",
    "transcrpt_results = wrap_ttest_return_all(trans_mut_status, 'binary_mutations', trans_col_list)\n",
    "transcrpt_results"
   ]
  },
  {
   "cell_type": "code",
   "execution_count": 7,
   "metadata": {},
   "outputs": [
    {
     "ename": "NameError",
     "evalue": "name 'cis_plot' is not defined",
     "output_type": "error",
     "traceback": [
      "\u001b[1;31m---------------------------------------------------------------------------\u001b[0m",
      "\u001b[1;31mNameError\u001b[0m                                 Traceback (most recent call last)",
      "\u001b[1;32m<ipython-input-7-5e4a65d76bfc>\u001b[0m in \u001b[0;36m<module>\u001b[1;34m\u001b[0m\n\u001b[1;32m----> 1\u001b[1;33m \u001b[0mcis_plot\u001b[0m\u001b[1;33m(\u001b[0m\u001b[0mtrans_mut_status\u001b[0m\u001b[1;33m,\u001b[0m \u001b[0mgene\u001b[0m\u001b[1;33m,\u001b[0m \u001b[1;34m'transcriptomics'\u001b[0m\u001b[1;33m,\u001b[0m \u001b[0mpval_results\u001b[0m\u001b[1;33m)\u001b[0m\u001b[1;33m\u001b[0m\u001b[1;33m\u001b[0m\u001b[0m\n\u001b[0m",
      "\u001b[1;31mNameError\u001b[0m: name 'cis_plot' is not defined"
     ]
    }
   ],
   "source": [
    "f.cis_plot(trans_mut_status, gene, 'transcriptomics', pval_results)"
   ]
  },
  {
   "cell_type": "markdown",
   "metadata": {},
   "source": [
    "Transcriptomics: Missense and Truncation"
   ]
  },
  {
   "cell_type": "code",
   "execution_count": 61,
   "metadata": {},
   "outputs": [],
   "source": [
    "# select all wildtype from earlier -add to mut_type binary column\n",
    "trans_wildtype = trans_mut_status.loc[trans_mut_status['binary_mutations'] == 'Wildtype'] \n",
    "trans_mut_type = f.get_missense_truncation_comparison(rc, 'transcriptomics', gene)\n",
    "trans_mut_and_wildtype = trans_mut_type.append(trans_wildtype, sort=False) # use for all data graph"
   ]
  },
  {
   "cell_type": "code",
   "execution_count": 8,
   "metadata": {},
   "outputs": [
    {
     "ename": "NameError",
     "evalue": "name 'trans_mut_and_wildtype' is not defined",
     "output_type": "error",
     "traceback": [
      "\u001b[1;31m---------------------------------------------------------------------------\u001b[0m",
      "\u001b[1;31mNameError\u001b[0m                                 Traceback (most recent call last)",
      "\u001b[1;32m<ipython-input-8-b197f1279b59>\u001b[0m in \u001b[0;36m<module>\u001b[1;34m\u001b[0m\n\u001b[0;32m      1\u001b[0m \u001b[0mtrans_col_list\u001b[0m \u001b[1;33m=\u001b[0m \u001b[1;33m[\u001b[0m\u001b[0mgene\u001b[0m\u001b[1;33m+\u001b[0m\u001b[1;34m'_transcriptomics'\u001b[0m\u001b[1;33m]\u001b[0m\u001b[1;33m\u001b[0m\u001b[1;33m\u001b[0m\u001b[0m\n\u001b[0;32m      2\u001b[0m \u001b[1;31m# compare missense and wildtype\u001b[0m\u001b[1;33m\u001b[0m\u001b[1;33m\u001b[0m\u001b[1;33m\u001b[0m\u001b[0m\n\u001b[1;32m----> 3\u001b[1;33m \u001b[0mmiss_wt\u001b[0m \u001b[1;33m=\u001b[0m \u001b[0mtrans_mut_and_wildtype\u001b[0m\u001b[1;33m.\u001b[0m\u001b[0mloc\u001b[0m\u001b[1;33m[\u001b[0m\u001b[0mtrans_mut_and_wildtype\u001b[0m\u001b[1;33m[\u001b[0m\u001b[1;34m'binary_mutations'\u001b[0m\u001b[1;33m]\u001b[0m \u001b[1;33m!=\u001b[0m \u001b[1;34m'Truncation'\u001b[0m\u001b[1;33m]\u001b[0m\u001b[1;33m\u001b[0m\u001b[1;33m\u001b[0m\u001b[0m\n\u001b[0m\u001b[0;32m      4\u001b[0m \u001b[0mprint\u001b[0m\u001b[1;33m(\u001b[0m\u001b[1;34m\"Doing t-test comparison for missense and wildtype\\n\"\u001b[0m\u001b[1;33m)\u001b[0m\u001b[1;33m\u001b[0m\u001b[1;33m\u001b[0m\u001b[0m\n\u001b[0;32m      5\u001b[0m \u001b[0mtranscrpt_results_miss\u001b[0m \u001b[1;33m=\u001b[0m \u001b[0mwrap_ttest_return_all\u001b[0m\u001b[1;33m(\u001b[0m\u001b[0mmiss_wt\u001b[0m\u001b[1;33m,\u001b[0m \u001b[1;34m'binary_mutations'\u001b[0m\u001b[1;33m,\u001b[0m \u001b[0mtrans_col_list\u001b[0m\u001b[1;33m,\u001b[0m \u001b[0mverbose\u001b[0m \u001b[1;33m=\u001b[0m \u001b[1;32mTrue\u001b[0m\u001b[1;33m)\u001b[0m\u001b[1;33m\u001b[0m\u001b[1;33m\u001b[0m\u001b[0m\n",
      "\u001b[1;31mNameError\u001b[0m: name 'trans_mut_and_wildtype' is not defined"
     ]
    }
   ],
   "source": [
    "trans_col_list = [gene+'_transcriptomics']\n",
    "# compare missense and wildtype\n",
    "miss_wt = trans_mut_and_wildtype.loc[trans_mut_and_wildtype['binary_mutations'] != 'Truncation']\n",
    "print(\"Doing t-test comparison for missense and wildtype\\n\")\n",
    "transcrpt_results_miss = wrap_ttest_return_all(miss_wt, 'binary_mutations', trans_col_list, verbose = True)\n",
    "transcrpt_results_miss\n"
   ]
  },
  {
   "cell_type": "code",
   "execution_count": 63,
   "metadata": {},
   "outputs": [
    {
     "data": {
      "image/png": "[encoded data removed]",
      "text/plain": [
       "<Figure size 576x360 with 1 Axes>"
      ]
     },
     "metadata": {},
     "output_type": "display_data"
    }
   ],
   "source": [
    "cis_plot(miss_wt, gene, \"transcriptomics\", pval, mutation_type= \"Missense\")"
   ]
  },
  {
   "cell_type": "code",
   "execution_count": 55,
   "metadata": {},
   "outputs": [
    {
     "name": "stdout",
     "output_type": "stream",
     "text": [
      "\n",
      "\n",
      "Doing t-test comparison for truncation and wildtype\n",
      "\n",
      "             Comparison   P_Value  Significant\n",
      "0  BAP1_transcriptomics  0.028673        False \n",
      "\n"
     ]
    }
   ],
   "source": [
    "# compare truncation and wildtype\n",
    "trunc_wt = trans_mut_and_wildtype.loc[trans_mut_and_wildtype['binary_mutations'] != 'Missense']\n",
    "print(\"\\n\\nDoing t-test comparison for truncation and wildtype\\n\")\n",
    "transcrpt_results_trunc = wrap_ttest_return_all(trunc_wt, 'binary_mutations', trans_col_list)\n"
   ]
  },
  {
   "cell_type": "code",
   "execution_count": 56,
   "metadata": {},
   "outputs": [
    {
     "data": {
      "image/png": "[encoded data removed]",
      "text/plain": [
       "<Figure size 576x360 with 1 Axes>"
      ]
     },
     "metadata": {},
     "output_type": "display_data"
    }
   ],
   "source": [
    "f.cis_plot(trunc_wt, gene, \"transcriptomics\", pval_results, mutation_type= \"Truncation\")"
   ]
  },
  {
   "cell_type": "markdown",
   "metadata": {},
   "source": [
    "# Phosphoproteomics cis comparison"
   ]
  },
  {
   "cell_type": "markdown",
   "metadata": {},
   "source": [
    "Phosphoproteomics: Mutated and Wildtype"
   ]
  },
  {
   "cell_type": "code",
   "execution_count": null,
   "metadata": {},
   "outputs": [],
   "source": [
    "# Step 1 - Create dataframe in order to do comparisons with wrap_ttest\n",
    "omics_and_mut = rc.join_omics_to_mutations(\n",
    "    mutations_genes = gene, omics_df_name = 'phosphoproteomics', omics_genes = gene)\n",
    "\n",
    "# Step 2 - Create the binary column needed to do the comparison\n",
    "omics_and_mut['binary_mutations'] = omics_and_mut[gene+'_Mutation_Status'].apply(\n",
    "    lambda x: 'Wildtype' if x == 'Wildtype_Tumor' else 'Mutated')\n",
    "\n",
    "# Step 3 - Format\n",
    "omics_and_mut = omics_and_mut.query('Sample_Status != \"Normal\"') # changed because warning with slice\n",
    "#tumors = omics_and_mut.loc[omics_and_mut['Sample_Status'] == 'Tumor'] #drop Normal samples\n",
    "columns_to_drop = [gene+\"_Mutation\", gene+\"_Location\", gene+\"_Mutation_Status\", \"Sample_Status\"]\n",
    "binary_phospho = omics_and_mut.drop(columns_to_drop, axis = 1)\n",
    "only_phospho = binary_phospho.drop('binary_mutations', axis = 1)\n",
    "binary_phospho['binary_mutations'].value_counts()\n",
    "binary_phospho[['BAP1-S292_phosphoproteomics','binary_mutations']].dropna(axis=0)\n",
    "binary_phospho\n",
    "# 2 col BAP1-S325_phosphoproteomics"
   ]
  },
  {
   "cell_type": "code",
   "execution_count": null,
   "metadata": {},
   "outputs": [],
   "source": [
    "phos_col_list = list(only_phospho.columns)\n",
    "\n",
    "# Step 4 - T-test comparing means of mutated vs wildtype effect on cis omics\n",
    "print(\"Doing t-test comparison for mutation status\\n\")\n",
    "phos_pval_results = wrap_ttest(binary_phospho, 'binary_mutations', phos_col_list)\n",
    "phos_pval_results"
   ]
  },
  {
   "cell_type": "markdown",
   "metadata": {},
   "source": [
    "Graph"
   ]
  },
  {
   "cell_type": "code",
   "execution_count": null,
   "metadata": {},
   "outputs": [],
   "source": [
    "# Create data frame with all significant phospho sites in order to graph\n",
    "phospho_list = list(only_phospho.columns)\n",
    "phospho_df = pd.melt(binary_phospho, id_vars = 'binary_mutations', \n",
    "            value_vars = phospho_list, var_name = 'specific_phospho', value_name = 'phosphoproteomics')\n",
    "phospho_df.replace(to_replace = '_phosphoproteomics', value = '', \n",
    "                        inplace = True, regex = True) # shorten column names\n",
    "#sig_phospho_df.dropna(axis=0)"
   ]
  },
  {
   "cell_type": "code",
   "execution_count": null,
   "metadata": {},
   "outputs": [],
   "source": [
    "plt.rcParams['figure.figsize']=(25,15) #size of plot\n",
    "sns.set(font_scale = 2)\n",
    "cis_boxplot = sns.boxplot(data = phospho_df, x = 'specific_phospho', y = 'phosphoproteomics', hue = 'binary_mutations',\n",
    "                             hue_order = [\"Wildtype\",\"Mutated\"], showfliers = False)  \n",
    "cis_boxplot.set_title(gene + \" Effect on \" + gene + \" Phosphoproteomics in Ovarian Tumors\")\n",
    "cis_boxplot = sns.stripplot(data = phospho_df, x = 'specific_phospho', y = 'phosphoproteomics', hue = 'binary_mutations',\n",
    "                               hue_order = [\"Wildtype\",\"Mutated\"], jitter = True, color = \".3\", dodge = True)\n",
    "cis_boxplot.set(xlabel = 'Phosphorylation Sites', ylabel = \"Phosphorylation Levels\")\n",
    "cis_boxplot.set_xticklabels(cis_boxplot.get_xticklabels(),rotation = 70)\n",
    "plt.show()\n",
    "plt.clf()\n",
    "plt.close()"
   ]
  },
  {
   "cell_type": "markdown",
   "metadata": {},
   "source": [
    "Phosphoproteomics: Missense and Truncation"
   ]
  },
  {
   "cell_type": "code",
   "execution_count": null,
   "metadata": {},
   "outputs": [],
   "source": [
    "# select all wildtype from earlier -add to mut_type binary column\n",
    "phos_wildtype = binary_phospho.loc[binary_phospho['binary_mutations'] == 'Wildtype'] \n",
    "\n",
    "phos_mut_type = f.get_missense_truncation_comparison(rc, 'phosphoproteomics', gene)\n",
    "phos_mut_and_wildtype = phos_mut_type.append(phos_wildtype, sort=True) "
   ]
  },
  {
   "cell_type": "code",
   "execution_count": null,
   "metadata": {},
   "outputs": [],
   "source": [
    "phos_col_list = list(only_phospho.columns)\n",
    "# compare missense and wildtype\n",
    "miss_wt = phos_mut_and_wildtype.loc[phos_mut_and_wildtype['binary_mutations'] != 'Truncation']\n",
    "print(\"Doing t-test comparison for missense and wildtype\\n\")\n",
    "phos_results_miss = al.wrap_ttest(miss_wt, 'binary_mutations', phos_col_list)\n",
    "print(phos_results_miss)\n",
    "\n",
    "# compare truncation and wildtype \n",
    "trunc_wt = phos_mut_and_wildtype.loc[phos_mut_and_wildtype['binary_mutations'] != 'Missense']\n",
    "print(\"\\n\\nDoing t-test comparison for truncation and wildtype\\n\")\n",
    "phos_results_trunc = al.wrap_ttest(trunc_wt, 'binary_mutations', phos_col_list)\n",
    "print(phos_results_trunc)"
   ]
  },
  {
   "cell_type": "markdown",
   "metadata": {},
   "source": [
    "Graph Missense and Truncation"
   ]
  },
  {
   "cell_type": "code",
   "execution_count": null,
   "metadata": {},
   "outputs": [],
   "source": [
    "# Create data frame with all significant phospho sites in order to graph\n",
    "phos_mut_type_df = pd.melt(phos_mut_and_wildtype, id_vars = 'binary_mutations', \n",
    "            value_vars = phos_col_list, var_name = 'specific_phospho', value_name = 'phosphoproteomics')\n",
    "phos_mut_type_df.replace(to_replace = '_phosphoproteomics', value = '', \n",
    "                        inplace = True, regex = True) # shorten column names\n",
    "#sig_phospho_df.dropna(axis=0)"
   ]
  },
  {
   "cell_type": "code",
   "execution_count": null,
   "metadata": {},
   "outputs": [],
   "source": [
    "plt.rcParams['figure.figsize']=(25,15) #size of plot\n",
    "sns.set(font_scale = 2)\n",
    "phos_cis_boxplot = sns.boxplot(data = phos_mut_type_df, x = 'specific_phospho', y = 'phosphoproteomics', hue = 'binary_mutations',\n",
    "                             hue_order = [\"Wildtype\",\"Missense\",\"Truncation\"], showfliers = False)  \n",
    "phos_cis_boxplot.set_title(gene + \" Effect on \" + gene + \" Phosphoproteomics in Ovarian Tumors\")\n",
    "phos_cis_boxplot = sns.stripplot(data = phos_mut_type_df, x = 'specific_phospho', y = 'phosphoproteomics', hue = 'binary_mutations',\n",
    "                               hue_order = [\"Wildtype\",\"Missense\",\"Truncation\"], jitter = True, color = \".3\", dodge = True)\n",
    "phos_cis_boxplot.set(xlabel = 'Phosphorylation Sites', ylabel = \"Phosphorylation Levels\")\n",
    "phos_cis_boxplot.set_xticklabels(phos_cis_boxplot.get_xticklabels(),rotation = 70)\n",
    "plt.show()\n",
    "plt.clf()\n",
    "plt.close()"
   ]
  },
  {
   "cell_type": "markdown",
   "metadata": {},
   "source": [
    "#  Compare common mutations"
   ]
  },
  {
   "cell_type": "markdown",
   "metadata": {},
   "source": [
    "Find the common mutation types and compare them to the wildtype tumors."
   ]
  },
  {
   "cell_type": "code",
   "execution_count": null,
   "metadata": {},
   "outputs": [],
   "source": [
    "# Count all mutations (including all mutations in a sample)\n",
    "somatic_mutations = ov.get_mutations()\n",
    "gene_mutations = somatic_mutations.loc[somatic_mutations['Gene'] == gene]\n",
    "count_all_mut = gene_mutations['Mutation'].value_counts()\n",
    "count_all_mut\n"
   ]
  },
  {
   "cell_type": "code",
   "execution_count": null,
   "metadata": {},
   "outputs": [],
   "source": [
    "mut = 'Missense_Mutation'\n",
    "gene_mutations.loc[gene_mutations['Mutation'] == mut]\n",
    "#gene_mutations['Location'].value_counts()"
   ]
  },
  {
   "cell_type": "markdown",
   "metadata": {},
   "source": [
    "# Analysis of Results"
   ]
  },
  {
   "cell_type": "markdown",
   "metadata": {},
   "source": [
    "No significant cis comparisons. Almost all mutations are missense mutations. Five of the ten missense are found in the UBC domain associated with ubiquitination (~3000-4000). (NIH)"
   ]
  },
  {
   "cell_type": "markdown",
   "metadata": {},
   "source": [
    "No acetylproteomics for the ovarian dataset."
   ]
  },
  {
   "cell_type": "code",
   "execution_count": null,
   "metadata": {},
   "outputs": [],
   "source": [
    "all_results = {\"Mutated vs Wildtype\": prot_pval_results}\n",
    "r = pd.DataFrame.from_dict(all_results)"
   ]
  },
  {
   "cell_type": "code",
   "execution_count": null,
   "metadata": {},
   "outputs": [],
   "source": []
  }
 ],
 "metadata": {
  "kernelspec": {
   "display_name": "Python 3",
   "language": "python",
   "name": "python3"
  },
  "language_info": {
   "codemirror_mode": {
    "name": "ipython",
    "version": 3
   },
   "file_extension": ".py",
   "mimetype": "text/x-python",
   "name": "python",
   "nbconvert_exporter": "python",
   "pygments_lexer": "ipython3",
   "version": "3.7.3"
  }
 },
 "nbformat": 4,
 "nbformat_minor": 2
}
