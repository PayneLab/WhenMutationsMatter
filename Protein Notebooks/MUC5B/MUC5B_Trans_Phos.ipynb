{
 "cells": [
  {
   "cell_type": "markdown",
   "metadata": {},
   "source": [
    "# MUC5B Mutation Trans Effect on Phosphoproteomics"
   ]
  },
  {
   "cell_type": "markdown",
   "metadata": {},
   "source": [
    "This notebook analyzes the trans effect of MUC5B mutation on interacting and other proteins Phosphoproteomics, in Endometrial, Colon, and Ovarian cancer."
   ]
  },
  {
   "cell_type": "markdown",
   "metadata": {},
   "source": [
    "### Library Imports"
   ]
  },
  {
   "cell_type": "code",
   "execution_count": 1,
   "metadata": {},
   "outputs": [
    {
     "name": "stdout",
     "output_type": "stream",
     "text": [
      "                                    \r"
     ]
    }
   ],
   "source": [
    "import pandas as pd\n",
    "import numpy as np\n",
    "import scipy.stats\n",
    "\n",
    "import warnings\n",
    "warnings.filterwarnings(\"ignore\")\n",
    "\n",
    "import cptac\n",
    "import cptac.algorithms as al\n",
    "\n",
    "en = cptac.Endometrial()\n",
    "co = cptac.Colon()\n",
    "ov = cptac.Ovarian()"
   ]
  },
  {
   "cell_type": "markdown",
   "metadata": {},
   "source": [
    "### Select Gene"
   ]
  },
  {
   "cell_type": "code",
   "execution_count": 2,
   "metadata": {},
   "outputs": [],
   "source": [
    "gene = \"MUC5B\""
   ]
  },
  {
   "cell_type": "markdown",
   "metadata": {},
   "source": [
    "### Investigate Proteomics, Phosphoproteomics, Acetylproteomics, or Transcriptomics"
   ]
  },
  {
   "cell_type": "code",
   "execution_count": 3,
   "metadata": {},
   "outputs": [],
   "source": [
    "#omics = \"proteomics\"\n",
    "#omics = \"transcriptomics\"\n",
    "omics = \"phosphoproteomics\"\n",
    "#omics = \"acetylproteomics\""
   ]
  },
  {
   "cell_type": "markdown",
   "metadata": {},
   "source": [
    "### Track all significant comparisons in Dataframe"
   ]
  },
  {
   "cell_type": "code",
   "execution_count": 4,
   "metadata": {},
   "outputs": [],
   "source": [
    "all_significant_comparisons = pd.DataFrame(columns=['Cancer_Type', 'Gene', 'Comparison','Interacting_Protein','P_Value'])"
   ]
  },
  {
   "cell_type": "code",
   "execution_count": 5,
   "metadata": {},
   "outputs": [],
   "source": [
    "def add_to_all_significant_comparisons(df, cancer, interacting, all_sig_comp):\n",
    "    expanded = df\n",
    "    expanded['Gene'] = gene\n",
    "    expanded['Cancer_Type'] = cancer\n",
    "    expanded['Interacting_Protein'] = interacting\n",
    "    \n",
    "    updated_all_comparisons = pd.concat([all_sig_comp, expanded], sort=False)\n",
    "    \n",
    "    return updated_all_comparisons"
   ]
  },
  {
   "cell_type": "markdown",
   "metadata": {},
   "source": [
    "# Interacting Proteins: Phosphoproteomics"
   ]
  },
  {
   "cell_type": "markdown",
   "metadata": {},
   "source": [
    "### Generate interacting protein list"
   ]
  },
  {
   "cell_type": "code",
   "execution_count": 6,
   "metadata": {},
   "outputs": [
    {
     "name": "stdout",
     "output_type": "stream",
     "text": [
      "Interacting Proteins:\n",
      "GALNT8\n",
      "ST6GAL1\n",
      "ST6GALNAC2\n",
      "ST3GAL3\n",
      "MUC17\n",
      "GALNT16\n",
      "GALNT12\n",
      "MUC21\n",
      "MUC3A\n",
      "ST3GAL2\n",
      "GCNT3\n",
      "MUC16\n",
      "C1GALT1\n",
      "MUC6\n",
      "MUC7\n",
      "MUC20\n",
      "MUC15\n",
      "MUC4\n",
      "GALNTL6\n",
      "ST3GAL4\n",
      "MUC5B\n",
      "MUC12\n",
      "B3GNT6\n",
      "MUC1\n",
      "MUC13\n",
      "MUC5AC\n",
      "UBC\n",
      "KIR2DS2\n",
      "C7orf25\n",
      "ICE2\n",
      "FRMD1\n",
      "PCK2\n",
      "HBM\n",
      "ARHGAP12\n",
      "TIMM50\n",
      "DDX31\n",
      "ESR2\n",
      "AGR2\n"
     ]
    }
   ],
   "source": [
    "'''Use get interacting proteins method to generate list of interacting proteins'''\n",
    "interacting_proteins = al.get_interacting_proteins(gene)\n",
    "\n",
    "print(\"Interacting Proteins:\")\n",
    "for interacting_protein in interacting_proteins:\n",
    "    print(interacting_protein)"
   ]
  },
  {
   "cell_type": "markdown",
   "metadata": {},
   "source": [
    "## Endometrial"
   ]
  },
  {
   "cell_type": "markdown",
   "metadata": {},
   "source": [
    "### Test for significant comparisons in any of interacting proteins"
   ]
  },
  {
   "cell_type": "code",
   "execution_count": 7,
   "metadata": {},
   "outputs": [
    {
     "name": "stdout",
     "output_type": "stream",
     "text": [
      "GALNT8 did not match any columns in phosphoproteomics dataframe. GALNT8_phosphoproteomics column inserted, but filled with NaN.\n",
      "ST6GAL1 did not match any columns in phosphoproteomics dataframe. ST6GAL1_phosphoproteomics column inserted, but filled with NaN.\n",
      "ST6GALNAC2 did not match any columns in phosphoproteomics dataframe. ST6GALNAC2_phosphoproteomics column inserted, but filled with NaN.\n",
      "MUC17 did not match any columns in phosphoproteomics dataframe. MUC17_phosphoproteomics column inserted, but filled with NaN.\n",
      "GALNT16 did not match any columns in phosphoproteomics dataframe. GALNT16_phosphoproteomics column inserted, but filled with NaN.\n",
      "MUC21 did not match any columns in phosphoproteomics dataframe. MUC21_phosphoproteomics column inserted, but filled with NaN.\n",
      "MUC3A did not match any columns in phosphoproteomics dataframe. MUC3A_phosphoproteomics column inserted, but filled with NaN.\n",
      "ST3GAL2 did not match any columns in phosphoproteomics dataframe. ST3GAL2_phosphoproteomics column inserted, but filled with NaN.\n",
      "GCNT3 did not match any columns in phosphoproteomics dataframe. GCNT3_phosphoproteomics column inserted, but filled with NaN.\n",
      "C1GALT1 did not match any columns in phosphoproteomics dataframe. C1GALT1_phosphoproteomics column inserted, but filled with NaN.\n",
      "MUC6 did not match any columns in phosphoproteomics dataframe. MUC6_phosphoproteomics column inserted, but filled with NaN.\n",
      "MUC7 did not match any columns in phosphoproteomics dataframe. MUC7_phosphoproteomics column inserted, but filled with NaN.\n",
      "MUC20 did not match any columns in phosphoproteomics dataframe. MUC20_phosphoproteomics column inserted, but filled with NaN.\n",
      "MUC15 did not match any columns in phosphoproteomics dataframe. MUC15_phosphoproteomics column inserted, but filled with NaN.\n",
      "MUC4 did not match any columns in phosphoproteomics dataframe. MUC4_phosphoproteomics column inserted, but filled with NaN.\n",
      "GALNTL6 did not match any columns in phosphoproteomics dataframe. GALNTL6_phosphoproteomics column inserted, but filled with NaN.\n",
      "ST3GAL4 did not match any columns in phosphoproteomics dataframe. ST3GAL4_phosphoproteomics column inserted, but filled with NaN.\n",
      "MUC12 did not match any columns in phosphoproteomics dataframe. MUC12_phosphoproteomics column inserted, but filled with NaN.\n",
      "UBC did not match any columns in phosphoproteomics dataframe. UBC_phosphoproteomics column inserted, but filled with NaN.\n",
      "KIR2DS2 did not match any columns in phosphoproteomics dataframe. KIR2DS2_phosphoproteomics column inserted, but filled with NaN.\n",
      "FRMD1 did not match any columns in phosphoproteomics dataframe. FRMD1_phosphoproteomics column inserted, but filled with NaN.\n",
      "HBM did not match any columns in phosphoproteomics dataframe. HBM_phosphoproteomics column inserted, but filled with NaN.\n",
      "TIMM50 did not match any columns in phosphoproteomics dataframe. TIMM50_phosphoproteomics column inserted, but filled with NaN.\n",
      "DDX31 did not match any columns in phosphoproteomics dataframe. DDX31_phosphoproteomics column inserted, but filled with NaN.\n",
      "ESR2 did not match any columns in phosphoproteomics dataframe. ESR2_phosphoproteomics column inserted, but filled with NaN.\n",
      "AGR2 did not match any columns in phosphoproteomics dataframe. AGR2_phosphoproteomics column inserted, but filled with NaN.\n",
      "Doing t-test comparisons\n",
      "\n",
      "No significant comparisons.\n"
     ]
    }
   ],
   "source": [
    "'''Create dataframe in order to do comparisons with wrap_ttest'''\n",
    "protdf = en.join_omics_to_mutations(mutations_genes=[gene], omics_df_name=omics, omics_genes=interacting_proteins)\n",
    "protdf = protdf.loc[protdf['Sample_Status'] == 'Tumor']\n",
    "\n",
    "'''Create the binary valued column needed to do the comparison'''\n",
    "for ind, row in protdf.iterrows():\n",
    "    if row[gene+\"_Mutation_Status\"] != 'Wildtype_Tumor':\n",
    "        protdf.at[ind,'Label'] = 'Mutated'\n",
    "    else:\n",
    "        protdf.at[ind,'Label'] = 'Wildtype'\n",
    "\n",
    "'''Format the dataframe correctly'''\n",
    "protdf = protdf.drop(gene+\"_Mutation\",axis=1)\n",
    "protdf = protdf.drop(gene+\"_Location\",axis=1)\n",
    "protdf = protdf.drop(gene+\"_Mutation_Status\", axis=1)\n",
    "protdf = protdf.drop(\"Sample_Status\",axis=1)\n",
    "\n",
    "\n",
    "'''Make list of columns to be compared using t-tests'''\n",
    "col_list = list(protdf.columns)\n",
    "col_list.remove('Label')\n",
    "\n",
    "print(\"Doing t-test comparisons\\n\")\n",
    "\n",
    "'''Call wrap_ttest, pass in formatted dataframe'''\n",
    "wrap_results = al.wrap_ttest(protdf, 'Label', col_list)\n",
    "\n",
    "'''Print results, if anything significant was found'''\n",
    "if wrap_results is not None:\n",
    "        print(wrap_results)\n",
    "        print(\"\\n\\n\")\n",
    "        \n",
    "        all_significant_comparisons = add_to_all_significant_comparisons(wrap_results, \"Endometrial\", True, all_significant_comparisons)\n"
   ]
  },
  {
   "cell_type": "markdown",
   "metadata": {},
   "source": [
    "## Colon"
   ]
  },
  {
   "cell_type": "markdown",
   "metadata": {},
   "source": [
    "### Test for significant comparisons in any of interacting proteins"
   ]
  },
  {
   "cell_type": "code",
   "execution_count": 8,
   "metadata": {},
   "outputs": [
    {
     "name": "stdout",
     "output_type": "stream",
     "text": [
      "GALNT8 did not match any columns in phosphoproteomics dataframe. GALNT8_phosphoproteomics column inserted, but filled with NaN.\n",
      "ST6GAL1 did not match any columns in phosphoproteomics dataframe. ST6GAL1_phosphoproteomics column inserted, but filled with NaN.\n",
      "ST6GALNAC2 did not match any columns in phosphoproteomics dataframe. ST6GALNAC2_phosphoproteomics column inserted, but filled with NaN.\n",
      "ST3GAL3 did not match any columns in phosphoproteomics dataframe. ST3GAL3_phosphoproteomics column inserted, but filled with NaN.\n",
      "MUC17 did not match any columns in phosphoproteomics dataframe. MUC17_phosphoproteomics column inserted, but filled with NaN.\n",
      "GALNT16 did not match any columns in phosphoproteomics dataframe. GALNT16_phosphoproteomics column inserted, but filled with NaN.\n",
      "GALNT12 did not match any columns in phosphoproteomics dataframe. GALNT12_phosphoproteomics column inserted, but filled with NaN.\n",
      "MUC21 did not match any columns in phosphoproteomics dataframe. MUC21_phosphoproteomics column inserted, but filled with NaN.\n",
      "MUC3A did not match any columns in phosphoproteomics dataframe. MUC3A_phosphoproteomics column inserted, but filled with NaN.\n",
      "ST3GAL2 did not match any columns in phosphoproteomics dataframe. ST3GAL2_phosphoproteomics column inserted, but filled with NaN.\n",
      "GCNT3 did not match any columns in phosphoproteomics dataframe. GCNT3_phosphoproteomics column inserted, but filled with NaN.\n",
      "MUC16 did not match any columns in phosphoproteomics dataframe. MUC16_phosphoproteomics column inserted, but filled with NaN.\n",
      "C1GALT1 did not match any columns in phosphoproteomics dataframe. C1GALT1_phosphoproteomics column inserted, but filled with NaN.\n",
      "MUC6 did not match any columns in phosphoproteomics dataframe. MUC6_phosphoproteomics column inserted, but filled with NaN.\n",
      "MUC7 did not match any columns in phosphoproteomics dataframe. MUC7_phosphoproteomics column inserted, but filled with NaN.\n",
      "MUC20 did not match any columns in phosphoproteomics dataframe. MUC20_phosphoproteomics column inserted, but filled with NaN.\n",
      "MUC15 did not match any columns in phosphoproteomics dataframe. MUC15_phosphoproteomics column inserted, but filled with NaN.\n",
      "MUC4 did not match any columns in phosphoproteomics dataframe. MUC4_phosphoproteomics column inserted, but filled with NaN.\n",
      "GALNTL6 did not match any columns in phosphoproteomics dataframe. GALNTL6_phosphoproteomics column inserted, but filled with NaN.\n",
      "ST3GAL4 did not match any columns in phosphoproteomics dataframe. ST3GAL4_phosphoproteomics column inserted, but filled with NaN.\n",
      "MUC5B did not match any columns in phosphoproteomics dataframe. MUC5B_phosphoproteomics column inserted, but filled with NaN.\n",
      "MUC12 did not match any columns in phosphoproteomics dataframe. MUC12_phosphoproteomics column inserted, but filled with NaN.\n",
      "B3GNT6 did not match any columns in phosphoproteomics dataframe. B3GNT6_phosphoproteomics column inserted, but filled with NaN.\n",
      "MUC1 did not match any columns in phosphoproteomics dataframe. MUC1_phosphoproteomics column inserted, but filled with NaN.\n",
      "MUC13 did not match any columns in phosphoproteomics dataframe. MUC13_phosphoproteomics column inserted, but filled with NaN.\n",
      "MUC5AC did not match any columns in phosphoproteomics dataframe. MUC5AC_phosphoproteomics column inserted, but filled with NaN.\n",
      "UBC did not match any columns in phosphoproteomics dataframe. UBC_phosphoproteomics column inserted, but filled with NaN.\n",
      "KIR2DS2 did not match any columns in phosphoproteomics dataframe. KIR2DS2_phosphoproteomics column inserted, but filled with NaN.\n",
      "C7orf25 did not match any columns in phosphoproteomics dataframe. C7orf25_phosphoproteomics column inserted, but filled with NaN.\n",
      "ICE2 did not match any columns in phosphoproteomics dataframe. ICE2_phosphoproteomics column inserted, but filled with NaN.\n",
      "FRMD1 did not match any columns in phosphoproteomics dataframe. FRMD1_phosphoproteomics column inserted, but filled with NaN.\n",
      "PCK2 did not match any columns in phosphoproteomics dataframe. PCK2_phosphoproteomics column inserted, but filled with NaN.\n",
      "HBM did not match any columns in phosphoproteomics dataframe. HBM_phosphoproteomics column inserted, but filled with NaN.\n",
      "ARHGAP12 did not match any columns in phosphoproteomics dataframe. ARHGAP12_phosphoproteomics column inserted, but filled with NaN.\n",
      "TIMM50 did not match any columns in phosphoproteomics dataframe. TIMM50_phosphoproteomics column inserted, but filled with NaN.\n",
      "DDX31 did not match any columns in phosphoproteomics dataframe. DDX31_phosphoproteomics column inserted, but filled with NaN.\n",
      "ESR2 did not match any columns in phosphoproteomics dataframe. ESR2_phosphoproteomics column inserted, but filled with NaN.\n",
      "AGR2 did not match any columns in phosphoproteomics dataframe. AGR2_phosphoproteomics column inserted, but filled with NaN.\n",
      "Doing t-test comparisons\n",
      "\n",
      "No significant comparisons.\n"
     ]
    }
   ],
   "source": [
    "'''Create dataframe in order to do comparisons with wrap_ttest'''\n",
    "protdf = co.join_omics_to_mutations(mutations_genes=[gene], omics_df_name=omics, omics_genes=interacting_proteins)\n",
    "protdf = protdf.loc[protdf['Sample_Status'] == 'Tumor']\n",
    "\n",
    "'''Create the binary valued column needed to do the comparison'''\n",
    "for ind, row in protdf.iterrows():\n",
    "    if row[gene+\"_Mutation_Status\"] != 'Wildtype_Tumor':\n",
    "        protdf.at[ind,'Label'] = 'Mutated'\n",
    "    else:\n",
    "        protdf.at[ind,'Label'] = 'Wildtype'\n",
    "\n",
    "'''Format the dataframe correctly'''\n",
    "protdf = protdf.drop(gene+\"_Mutation\",axis=1)\n",
    "protdf = protdf.drop(gene+\"_Location\",axis=1)\n",
    "protdf = protdf.drop(gene+\"_Mutation_Status\", axis=1)\n",
    "protdf = protdf.drop(\"Sample_Status\",axis=1)\n",
    "\n",
    "'''Make list of columns to be compared using t-tests'''\n",
    "col_list = list(protdf.columns)\n",
    "col_list.remove('Label')\n",
    "\n",
    "print(\"Doing t-test comparisons\\n\")\n",
    "\n",
    "'''Call wrap_ttest, pass in formatted dataframe'''\n",
    "wrap_results = al.wrap_ttest(protdf, 'Label', col_list)\n",
    "\n",
    "'''Print results, if anything significant was found'''\n",
    "if wrap_results is not None:\n",
    "        print(wrap_results)\n",
    "        print(\"\\n\\n\")\n",
    "        \n",
    "        all_significant_comparisons = add_to_all_significant_comparisons(wrap_results, \"Colon\", True, all_significant_comparisons)\n"
   ]
  },
  {
   "cell_type": "markdown",
   "metadata": {},
   "source": [
    "## Ovarian"
   ]
  },
  {
   "cell_type": "code",
   "execution_count": 9,
   "metadata": {},
   "outputs": [
    {
     "name": "stdout",
     "output_type": "stream",
     "text": [
      "GALNT8 did not match any columns in phosphoproteomics dataframe. GALNT8_phosphoproteomics column inserted, but filled with NaN.\n",
      "ST6GAL1 did not match any columns in phosphoproteomics dataframe. ST6GAL1_phosphoproteomics column inserted, but filled with NaN.\n",
      "ST6GALNAC2 did not match any columns in phosphoproteomics dataframe. ST6GALNAC2_phosphoproteomics column inserted, but filled with NaN.\n",
      "ST3GAL3 did not match any columns in phosphoproteomics dataframe. ST3GAL3_phosphoproteomics column inserted, but filled with NaN.\n",
      "MUC17 did not match any columns in phosphoproteomics dataframe. MUC17_phosphoproteomics column inserted, but filled with NaN.\n",
      "GALNT16 did not match any columns in phosphoproteomics dataframe. GALNT16_phosphoproteomics column inserted, but filled with NaN.\n",
      "ST3GAL2 did not match any columns in phosphoproteomics dataframe. ST3GAL2_phosphoproteomics column inserted, but filled with NaN.\n",
      "GCNT3 did not match any columns in phosphoproteomics dataframe. GCNT3_phosphoproteomics column inserted, but filled with NaN.\n",
      "MUC6 did not match any columns in phosphoproteomics dataframe. MUC6_phosphoproteomics column inserted, but filled with NaN.\n",
      "MUC7 did not match any columns in phosphoproteomics dataframe. MUC7_phosphoproteomics column inserted, but filled with NaN.\n",
      "MUC20 did not match any columns in phosphoproteomics dataframe. MUC20_phosphoproteomics column inserted, but filled with NaN.\n",
      "MUC15 did not match any columns in phosphoproteomics dataframe. MUC15_phosphoproteomics column inserted, but filled with NaN.\n",
      "MUC4 did not match any columns in phosphoproteomics dataframe. MUC4_phosphoproteomics column inserted, but filled with NaN.\n",
      "GALNTL6 did not match any columns in phosphoproteomics dataframe. GALNTL6_phosphoproteomics column inserted, but filled with NaN.\n",
      "ST3GAL4 did not match any columns in phosphoproteomics dataframe. ST3GAL4_phosphoproteomics column inserted, but filled with NaN.\n",
      "MUC12 did not match any columns in phosphoproteomics dataframe. MUC12_phosphoproteomics column inserted, but filled with NaN.\n",
      "B3GNT6 did not match any columns in phosphoproteomics dataframe. B3GNT6_phosphoproteomics column inserted, but filled with NaN.\n",
      "MUC13 did not match any columns in phosphoproteomics dataframe. MUC13_phosphoproteomics column inserted, but filled with NaN.\n",
      "MUC5AC did not match any columns in phosphoproteomics dataframe. MUC5AC_phosphoproteomics column inserted, but filled with NaN.\n",
      "KIR2DS2 did not match any columns in phosphoproteomics dataframe. KIR2DS2_phosphoproteomics column inserted, but filled with NaN.\n",
      "C7orf25 did not match any columns in phosphoproteomics dataframe. C7orf25_phosphoproteomics column inserted, but filled with NaN.\n",
      "FRMD1 did not match any columns in phosphoproteomics dataframe. FRMD1_phosphoproteomics column inserted, but filled with NaN.\n",
      "HBM did not match any columns in phosphoproteomics dataframe. HBM_phosphoproteomics column inserted, but filled with NaN.\n",
      "TIMM50 did not match any columns in phosphoproteomics dataframe. TIMM50_phosphoproteomics column inserted, but filled with NaN.\n",
      "DDX31 did not match any columns in phosphoproteomics dataframe. DDX31_phosphoproteomics column inserted, but filled with NaN.\n",
      "ESR2 did not match any columns in phosphoproteomics dataframe. ESR2_phosphoproteomics column inserted, but filled with NaN.\n",
      "AGR2 did not match any columns in phosphoproteomics dataframe. AGR2_phosphoproteomics column inserted, but filled with NaN.\n",
      "Doing t-test comparisons\n",
      "\n",
      "No significant comparisons.\n"
     ]
    }
   ],
   "source": [
    "'''Create dataframe in order to do comparisons with wrap_ttest'''\n",
    "protdf = ov.join_omics_to_mutations(mutations_genes=[gene], omics_df_name=omics, omics_genes=interacting_proteins) \n",
    "protdf = protdf.loc[protdf['Sample_Status'] == 'Tumor']\n",
    "\n",
    "'''Create the binary valued column needed to do the comparison'''\n",
    "for ind, row in protdf.iterrows():\n",
    "    if row[gene+\"_Mutation_Status\"] != 'Wildtype_Tumor':\n",
    "        protdf.loc[ind,'Label'] = 'Mutated'\n",
    "    else:\n",
    "        protdf.loc[ind,'Label'] = 'Wildtype'\n",
    "\n",
    "'''Format the dataframe correctly'''\n",
    "protdf = protdf.drop(gene+\"_Mutation\",axis=1)\n",
    "protdf = protdf.drop(gene+\"_Location\",axis=1)\n",
    "protdf = protdf.drop(gene+\"_Mutation_Status\", axis=1)\n",
    "protdf = protdf.drop(\"Sample_Status\",axis=1)\n",
    "protdf = protdf.loc[:,~protdf.columns.duplicated()]\n",
    "\n",
    "'''Make list of columns to be compared using t-tests'''\n",
    "col_list = list(protdf.columns)\n",
    "col_list.remove('Label')\n",
    "\n",
    "print(\"Doing t-test comparisons\\n\")\n",
    "\n",
    "'''Call wrap_ttest, pass in formatted dataframe'''\n",
    "wrap_results = al.wrap_ttest(protdf, 'Label', col_list)\n",
    "\n",
    "'''Print results, if anything significant was found'''\n",
    "if wrap_results is not None:\n",
    "        print(wrap_results)\n",
    "        print(\"\\n\\n\")\n",
    "        \n",
    "        all_significant_comparisons = add_to_all_significant_comparisons(wrap_results, \"Ovarian\", True, all_significant_comparisons)\n"
   ]
  },
  {
   "cell_type": "markdown",
   "metadata": {},
   "source": [
    "# All Proteins: Phosphoproteomics"
   ]
  },
  {
   "cell_type": "markdown",
   "metadata": {},
   "source": [
    "## Endometrial"
   ]
  },
  {
   "cell_type": "code",
   "execution_count": 10,
   "metadata": {},
   "outputs": [
    {
     "name": "stdout",
     "output_type": "stream",
     "text": [
      "\n",
      "Gene:  MUC5B\n",
      "Doing t-test comparisons\n",
      "\n",
      "No significant comparisons.\n"
     ]
    }
   ],
   "source": [
    "try:\n",
    "    print(\"\\nGene: \", gene)\n",
    "\n",
    "    '''Use all proteins'''\n",
    "    proteomics = en.get_proteomics()\n",
    "    all_proteins = proteomics.columns\n",
    "    #all_proteins = all_proteins[:100]\n",
    "\n",
    "    '''Create dataframe in order to do comparisons with wrap_ttest'''\n",
    "    protdf = en.join_omics_to_mutations(mutations_genes=[gene], omics_df_name=omics)\n",
    "    protdf = protdf.loc[protdf['Sample_Status'] == 'Tumor']\n",
    "    \n",
    "    '''Create the binary valued column needed to do the comparison'''\n",
    "    for ind, row in protdf.iterrows():\n",
    "        if row[gene+\"_Mutation_Status\"] != 'Wildtype_Tumor':\n",
    "            protdf.at[ind,'Label'] = 'Mutated'\n",
    "        else:\n",
    "            protdf.at[ind,'Label'] = 'Wildtype'\n",
    "\n",
    "    '''Format the datafram correctly'''\n",
    "    protdf = protdf.drop(gene+\"_Mutation\",axis=1)\n",
    "    protdf = protdf.drop(gene+\"_Location\",axis=1)\n",
    "    protdf = protdf.drop(gene+\"_Mutation_Status\", axis=1)\n",
    "    protdf = protdf.drop(\"Sample_Status\",axis=1)\n",
    "\n",
    "    '''Make list of columns to be compared using t-tests'''\n",
    "    col_list = list(protdf.columns)\n",
    "    col_list.remove('Label')\n",
    "\n",
    "    print(\"Doing t-test comparisons\\n\")\n",
    "    \n",
    "    '''Call wrap_ttest, pass in formatted dataframe'''\n",
    "    wrap_results = al.wrap_ttest(protdf, 'Label', col_list)\n",
    "\n",
    "    '''Print results, if anything significant was found'''\n",
    "    if wrap_results is not None:\n",
    "            print(wrap_results)\n",
    "            print(\"\\n\\n\")\n",
    "            \n",
    "            all_significant_comparisons = add_to_all_significant_comparisons(wrap_results, \"Endometrial\", False, all_significant_comparisons)\n",
    "\n",
    "\n",
    "except Exception as e:\n",
    "    print(\"Error in Comparison\")\n",
    "    print(e)"
   ]
  },
  {
   "cell_type": "markdown",
   "metadata": {},
   "source": [
    "## Colon"
   ]
  },
  {
   "cell_type": "code",
   "execution_count": 11,
   "metadata": {},
   "outputs": [
    {
     "name": "stdout",
     "output_type": "stream",
     "text": [
      "\n",
      "Gene:  MUC5B\n",
      "Doing t-test comparisons\n",
      "\n",
      "                                Comparison       P_Value\n",
      "0   MYO15B_S1025__Q96JP2_phosphoproteomics  3.506874e-08\n",
      "1     FOXK2_S428__Q01167_phosphoproteomics  1.553143e-07\n",
      "2    HUWE1_S1395__Q7Z6Z7_phosphoproteomics  2.311105e-07\n",
      "3    SETD1B_S211__Q9UPS6_phosphoproteomics  3.421412e-07\n",
      "4      SATB2_S39__Q9UPW6_phosphoproteomics  6.640062e-07\n",
      "5        PKM_S37__P14618_phosphoproteomics  7.506440e-07\n",
      "6     C5AR1_S327__P21730_phosphoproteomics  1.043313e-06\n",
      "7      BCL9_S917__O00512_phosphoproteomics  1.087465e-06\n",
      "8     HNF4A_S167__P41235_phosphoproteomics  1.233225e-06\n",
      "9    TGFBR2_S553__P37173_phosphoproteomics  1.270564e-06\n",
      "10    CEP68_S478__Q76N32_phosphoproteomics  1.474940e-06\n",
      "\n",
      "\n",
      "\n"
     ]
    }
   ],
   "source": [
    "try:\n",
    "    print(\"\\nGene: \", gene)\n",
    "\n",
    "    '''Use all proteins'''\n",
    "    proteomics = co.get_proteomics()\n",
    "    all_proteins = proteomics.columns\n",
    "    #all_proteins = all_proteins[:100]\n",
    "\n",
    "    '''Create dataframe in order to do comparisons with wrap_ttest'''\n",
    "    protdf = co.join_omics_to_mutations(mutations_genes=[gene], omics_df_name=omics)\n",
    "    protdf = protdf.loc[protdf['Sample_Status'] == 'Tumor']\n",
    "    \n",
    "    '''Create the binary valued column needed to do the comparison'''\n",
    "    for ind, row in protdf.iterrows():\n",
    "        if row[gene+\"_Mutation_Status\"] != 'Wildtype_Tumor':\n",
    "            protdf.at[ind,'Label'] = 'Mutated'\n",
    "        else:\n",
    "            protdf.at[ind,'Label'] = 'Wildtype'\n",
    "\n",
    "    '''Format the datafram correctly'''\n",
    "    protdf = protdf.drop(gene+\"_Mutation\",axis=1)\n",
    "    protdf = protdf.drop(gene+\"_Location\",axis=1)\n",
    "    protdf = protdf.drop(gene+\"_Mutation_Status\", axis=1)\n",
    "    protdf = protdf.drop(\"Sample_Status\",axis=1)\n",
    "\n",
    "    '''Make list of columns to be compared using t-tests'''\n",
    "    col_list = list(protdf.columns)\n",
    "    col_list.remove('Label')\n",
    "\n",
    "    print(\"Doing t-test comparisons\\n\")\n",
    "    \n",
    "    '''Call wrap_ttest, pass in formatted dataframe'''\n",
    "    wrap_results = al.wrap_ttest(protdf, 'Label', col_list)\n",
    "\n",
    "    '''Print results, if anything significant was found'''\n",
    "    if wrap_results is not None:\n",
    "            print(wrap_results)\n",
    "            print(\"\\n\\n\")\n",
    "            \n",
    "            all_significant_comparisons = add_to_all_significant_comparisons(wrap_results, \"Colon\", False, all_significant_comparisons)\n",
    "\n",
    "\n",
    "except Exception as e:\n",
    "    print(\"Error in Comparison\")\n",
    "    print(e)"
   ]
  },
  {
   "cell_type": "markdown",
   "metadata": {},
   "source": [
    "## Ovarian"
   ]
  },
  {
   "cell_type": "code",
   "execution_count": 12,
   "metadata": {},
   "outputs": [
    {
     "name": "stdout",
     "output_type": "stream",
     "text": [
      "\n",
      "Gene:  MUC5B\n",
      "Doing t-test comparisons\n",
      "\n",
      "No significant comparisons.\n"
     ]
    }
   ],
   "source": [
    "\n",
    "print(\"\\nGene: \", gene)\n",
    "\n",
    "'''Use all proteins'''\n",
    "proteomics = ov.get_proteomics()\n",
    "all_proteins = list(set(proteomics.columns))\n",
    "\n",
    "'''Create dataframe in order to do comparisons with wrap_ttest'''\n",
    "protdf = ov.join_omics_to_mutations(mutations_genes=[gene], omics_df_name=omics)\n",
    "protdf = protdf.loc[protdf['Sample_Status'] == 'Tumor']\n",
    "protdf = protdf.loc[:,~protdf.columns.duplicated()]\n",
    "\n",
    "'''Create the binary valued column needed to do the comparison'''\n",
    "for ind, row in protdf.iterrows():\n",
    "    if row[gene+\"_Mutation_Status\"] != 'Wildtype_Tumor':\n",
    "        protdf.at[ind,'Label'] = 'Mutated'\n",
    "    else:\n",
    "        protdf.at[ind,'Label'] = 'Wildtype'\n",
    "\n",
    "'''Format the datafram correctly'''\n",
    "protdf = protdf.drop(gene+\"_Mutation\",axis=1)\n",
    "protdf = protdf.drop(gene+\"_Location\",axis=1)\n",
    "protdf = protdf.drop(gene+\"_Mutation_Status\", axis=1)\n",
    "protdf = protdf.drop(\"Sample_Status\",axis=1)\n",
    "\n",
    "'''Make list of columns to be compared using t-tests'''\n",
    "col_list = list(protdf.columns)\n",
    "col_list.remove('Label')\n",
    "\n",
    "print(\"Doing t-test comparisons\\n\")\n",
    "\n",
    "'''Call wrap_ttest, pass in formatted dataframe'''\n",
    "wrap_results = al.wrap_ttest(protdf, 'Label', col_list)\n",
    "\n",
    "'''Print results, if anything significant was found'''\n",
    "if wrap_results is not None:\n",
    "        print(wrap_results)\n",
    "        print(\"\\n\\n\")\n",
    "        \n",
    "        all_significant_comparisons = add_to_all_significant_comparisons(wrap_results, \"Ovarian\", False, all_significant_comparisons)"
   ]
  },
  {
   "cell_type": "markdown",
   "metadata": {},
   "source": [
    "### Print all significant comparisons"
   ]
  },
  {
   "cell_type": "code",
   "execution_count": 13,
   "metadata": {},
   "outputs": [
    {
     "data": {
      "text/html": [
       "<div>\n",
       "<style scoped>\n",
       "    .dataframe tbody tr th:only-of-type {\n",
       "        vertical-align: middle;\n",
       "    }\n",
       "\n",
       "    .dataframe tbody tr th {\n",
       "        vertical-align: top;\n",
       "    }\n",
       "\n",
       "    .dataframe thead th {\n",
       "        text-align: right;\n",
       "    }\n",
       "</style>\n",
       "<table border=\"1\" class=\"dataframe\">\n",
       "  <thead>\n",
       "    <tr style=\"text-align: right;\">\n",
       "      <th></th>\n",
       "      <th>Cancer_Type</th>\n",
       "      <th>Gene</th>\n",
       "      <th>Comparison</th>\n",
       "      <th>Interacting_Protein</th>\n",
       "      <th>P_Value</th>\n",
       "    </tr>\n",
       "  </thead>\n",
       "  <tbody>\n",
       "    <tr>\n",
       "      <th>0</th>\n",
       "      <td>Colon</td>\n",
       "      <td>MUC5B</td>\n",
       "      <td>MYO15B_S1025__Q96JP2_phosphoproteomics</td>\n",
       "      <td>False</td>\n",
       "      <td>3.506874e-08</td>\n",
       "    </tr>\n",
       "    <tr>\n",
       "      <th>1</th>\n",
       "      <td>Colon</td>\n",
       "      <td>MUC5B</td>\n",
       "      <td>FOXK2_S428__Q01167_phosphoproteomics</td>\n",
       "      <td>False</td>\n",
       "      <td>1.553143e-07</td>\n",
       "    </tr>\n",
       "    <tr>\n",
       "      <th>2</th>\n",
       "      <td>Colon</td>\n",
       "      <td>MUC5B</td>\n",
       "      <td>HUWE1_S1395__Q7Z6Z7_phosphoproteomics</td>\n",
       "      <td>False</td>\n",
       "      <td>2.311105e-07</td>\n",
       "    </tr>\n",
       "    <tr>\n",
       "      <th>3</th>\n",
       "      <td>Colon</td>\n",
       "      <td>MUC5B</td>\n",
       "      <td>SETD1B_S211__Q9UPS6_phosphoproteomics</td>\n",
       "      <td>False</td>\n",
       "      <td>3.421412e-07</td>\n",
       "    </tr>\n",
       "    <tr>\n",
       "      <th>4</th>\n",
       "      <td>Colon</td>\n",
       "      <td>MUC5B</td>\n",
       "      <td>SATB2_S39__Q9UPW6_phosphoproteomics</td>\n",
       "      <td>False</td>\n",
       "      <td>6.640062e-07</td>\n",
       "    </tr>\n",
       "    <tr>\n",
       "      <th>5</th>\n",
       "      <td>Colon</td>\n",
       "      <td>MUC5B</td>\n",
       "      <td>PKM_S37__P14618_phosphoproteomics</td>\n",
       "      <td>False</td>\n",
       "      <td>7.506440e-07</td>\n",
       "    </tr>\n",
       "    <tr>\n",
       "      <th>6</th>\n",
       "      <td>Colon</td>\n",
       "      <td>MUC5B</td>\n",
       "      <td>C5AR1_S327__P21730_phosphoproteomics</td>\n",
       "      <td>False</td>\n",
       "      <td>1.043313e-06</td>\n",
       "    </tr>\n",
       "    <tr>\n",
       "      <th>7</th>\n",
       "      <td>Colon</td>\n",
       "      <td>MUC5B</td>\n",
       "      <td>BCL9_S917__O00512_phosphoproteomics</td>\n",
       "      <td>False</td>\n",
       "      <td>1.087465e-06</td>\n",
       "    </tr>\n",
       "    <tr>\n",
       "      <th>8</th>\n",
       "      <td>Colon</td>\n",
       "      <td>MUC5B</td>\n",
       "      <td>HNF4A_S167__P41235_phosphoproteomics</td>\n",
       "      <td>False</td>\n",
       "      <td>1.233225e-06</td>\n",
       "    </tr>\n",
       "    <tr>\n",
       "      <th>9</th>\n",
       "      <td>Colon</td>\n",
       "      <td>MUC5B</td>\n",
       "      <td>TGFBR2_S553__P37173_phosphoproteomics</td>\n",
       "      <td>False</td>\n",
       "      <td>1.270564e-06</td>\n",
       "    </tr>\n",
       "    <tr>\n",
       "      <th>10</th>\n",
       "      <td>Colon</td>\n",
       "      <td>MUC5B</td>\n",
       "      <td>CEP68_S478__Q76N32_phosphoproteomics</td>\n",
       "      <td>False</td>\n",
       "      <td>1.474940e-06</td>\n",
       "    </tr>\n",
       "  </tbody>\n",
       "</table>\n",
       "</div>"
      ],
      "text/plain": [
       "   Cancer_Type   Gene                              Comparison  \\\n",
       "0        Colon  MUC5B  MYO15B_S1025__Q96JP2_phosphoproteomics   \n",
       "1        Colon  MUC5B    FOXK2_S428__Q01167_phosphoproteomics   \n",
       "2        Colon  MUC5B   HUWE1_S1395__Q7Z6Z7_phosphoproteomics   \n",
       "3        Colon  MUC5B   SETD1B_S211__Q9UPS6_phosphoproteomics   \n",
       "4        Colon  MUC5B     SATB2_S39__Q9UPW6_phosphoproteomics   \n",
       "5        Colon  MUC5B       PKM_S37__P14618_phosphoproteomics   \n",
       "6        Colon  MUC5B    C5AR1_S327__P21730_phosphoproteomics   \n",
       "7        Colon  MUC5B     BCL9_S917__O00512_phosphoproteomics   \n",
       "8        Colon  MUC5B    HNF4A_S167__P41235_phosphoproteomics   \n",
       "9        Colon  MUC5B   TGFBR2_S553__P37173_phosphoproteomics   \n",
       "10       Colon  MUC5B    CEP68_S478__Q76N32_phosphoproteomics   \n",
       "\n",
       "   Interacting_Protein       P_Value  \n",
       "0                False  3.506874e-08  \n",
       "1                False  1.553143e-07  \n",
       "2                False  2.311105e-07  \n",
       "3                False  3.421412e-07  \n",
       "4                False  6.640062e-07  \n",
       "5                False  7.506440e-07  \n",
       "6                False  1.043313e-06  \n",
       "7                False  1.087465e-06  \n",
       "8                False  1.233225e-06  \n",
       "9                False  1.270564e-06  \n",
       "10               False  1.474940e-06  "
      ]
     },
     "metadata": {},
     "output_type": "display_data"
    }
   ],
   "source": [
    "if len(all_significant_comparisons) > 0:\n",
    "    display(all_significant_comparisons)\n",
    "    \n",
    "else:\n",
    "    print('No Significant Comparisons!')"
   ]
  },
  {
   "cell_type": "markdown",
   "metadata": {},
   "source": [
    "### Write significant comparisons (if any) to shared CSV file"
   ]
  },
  {
   "cell_type": "code",
   "execution_count": 14,
   "metadata": {},
   "outputs": [],
   "source": [
    "existing_results = pd.read_csv(gene+'_Trans_Results.csv')\n",
    "\n",
    "updated_results = pd.concat([existing_results, all_significant_comparisons], sort=False)\n",
    "\n",
    "updated_results.to_csv(path_or_buf = gene + '_Trans_Results.csv', index=False)"
   ]
  }
 ],
 "metadata": {
  "kernelspec": {
   "display_name": "Python 3",
   "language": "python",
   "name": "python3"
  },
  "language_info": {
   "codemirror_mode": {
    "name": "ipython",
    "version": 3
   },
   "file_extension": ".py",
   "mimetype": "text/x-python",
   "name": "python",
   "nbconvert_exporter": "python",
   "pygments_lexer": "ipython3",
   "version": "3.6.8"
  }
 },
 "nbformat": 4,
 "nbformat_minor": 2
}
