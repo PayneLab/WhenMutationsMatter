{
 "cells": [
  {
   "cell_type": "markdown",
   "metadata": {},
   "source": [
    "# MUC5B Mutation Trans Effect on Transcriptomics"
   ]
  },
  {
   "cell_type": "markdown",
   "metadata": {},
   "source": [
    "This notebook analyzes the trans effect of MUC5B mutation on interacting and other proteins Transcriptomics, in Endometrial, Colon, and Ovarian cancer."
   ]
  },
  {
   "cell_type": "markdown",
   "metadata": {},
   "source": [
    "### Library Imports"
   ]
  },
  {
   "cell_type": "code",
   "execution_count": 1,
   "metadata": {},
   "outputs": [
    {
     "name": "stdout",
     "output_type": "stream",
     "text": [
      "                                    \r"
     ]
    }
   ],
   "source": [
    "import pandas as pd\n",
    "import numpy as np\n",
    "import scipy.stats\n",
    "import collections\n",
    "import re\n",
    "import gseapy as gp\n",
    "from gseapy.plot import barplot, dotplot\n",
    "import matplotlib.pyplot as plt\n",
    "import seaborn as sns\n",
    "\n",
    "import cptac\n",
    "import cptac.algorithms as al\n",
    "import time\n",
    "\n",
    "en = cptac.Endometrial()\n",
    "co = cptac.Colon()\n",
    "ov = cptac.Ovarian()"
   ]
  },
  {
   "cell_type": "markdown",
   "metadata": {},
   "source": [
    "### Select Gene"
   ]
  },
  {
   "cell_type": "code",
   "execution_count": 2,
   "metadata": {},
   "outputs": [],
   "source": [
    "gene = \"MUC5B\""
   ]
  },
  {
   "cell_type": "markdown",
   "metadata": {},
   "source": [
    "### Investigate Proteomics, Phosphoproteomics, Acetylproteomics, or Transcriptomics"
   ]
  },
  {
   "cell_type": "code",
   "execution_count": 3,
   "metadata": {},
   "outputs": [],
   "source": [
    "#omics = \"proteomics\"\n",
    "omics = \"transcriptomics\"\n",
    "#omics = \"phosphoproteomics\"\n",
    "#omics = \"acetylproteomics\""
   ]
  },
  {
   "cell_type": "markdown",
   "metadata": {},
   "source": [
    "# Interacting Proteins: Transcriptomics"
   ]
  },
  {
   "cell_type": "markdown",
   "metadata": {},
   "source": [
    "## Endometrial"
   ]
  },
  {
   "cell_type": "markdown",
   "metadata": {},
   "source": [
    "### Generate interacting protein list"
   ]
  },
  {
   "cell_type": "code",
   "execution_count": 4,
   "metadata": {},
   "outputs": [
    {
     "name": "stdout",
     "output_type": "stream",
     "text": [
      "Generating interacting protein list\n",
      "Interacting Proteins:\n",
      "GALNT8\n",
      "ST6GAL1\n",
      "ST6GALNAC2\n",
      "ST3GAL3\n",
      "MUC17\n",
      "GALNT16\n",
      "GALNT12\n",
      "MUC21\n",
      "MUC3A\n",
      "ST3GAL2\n",
      "GCNT3\n",
      "MUC16\n",
      "C1GALT1\n",
      "MUC6\n",
      "MUC7\n",
      "MUC20\n",
      "MUC15\n",
      "MUC4\n",
      "GALNTL6\n",
      "ST3GAL4\n",
      "MUC5B\n",
      "MUC12\n",
      "B3GNT6\n",
      "MUC1\n",
      "MUC13\n",
      "MUC5AC\n",
      "UBC\n",
      "KIR2DS2\n",
      "C7orf25\n",
      "ICE2\n",
      "FRMD1\n",
      "PCK2\n",
      "HBM\n",
      "ARHGAP12\n",
      "TIMM50\n",
      "DDX31\n",
      "ESR2\n",
      "AGR2\n"
     ]
    }
   ],
   "source": [
    "'''Use get interacting proteins method to generate list of interacting proteins'''\n",
    "interacting_proteins = al.get_interacting_proteins(gene)\n",
    "\n",
    "omics_object = en.get_transcriptomics()\n",
    "\n",
    "print(\"Generating interacting protein list\")\n",
    "interacting_proteins_in_omics_df = []\n",
    "\n",
    "'''Only do comparisons on proteins in the omics dataframe'''\n",
    "for ip in interacting_proteins:\n",
    "    if omics == 'phosphoproteomics' or omics == 'acetylproteomics':\n",
    "        col_regex = ip + \"-.*\" # Build a regex to get all columns that match the gene\n",
    "    else:\n",
    "        col_regex = '^{}$'.format(ip)\n",
    "\n",
    "    selected = omics_object.filter(regex=col_regex)\n",
    "\n",
    "    if len(selected.columns) > 0:\n",
    "        interacting_proteins_in_omics_df.append(ip)\n",
    "\n",
    "print(\"Interacting Proteins:\")\n",
    "for interacting_protein in interacting_proteins_in_omics_df:\n",
    "    print(interacting_protein)"
   ]
  },
  {
   "cell_type": "markdown",
   "metadata": {},
   "source": [
    "### Test for significant comparisons in any of interacting proteins"
   ]
  },
  {
   "cell_type": "code",
   "execution_count": 5,
   "metadata": {},
   "outputs": [
    {
     "name": "stdout",
     "output_type": "stream",
     "text": [
      "Doing t-test comparisons\n",
      "\n",
      "No significant comparisons.\n"
     ]
    }
   ],
   "source": [
    "'''Create dataframe in order to do comparisons with wrap_ttest'''\n",
    "protdf = en.join_omics_to_mutations(mutations_genes=[gene], omics_df_name=omics, omics_genes=interacting_proteins_in_omics_df)\n",
    "protdf = protdf.loc[protdf['Sample_Status'] == 'Tumor']\n",
    "\n",
    "'''Create the binary valued column needed to do the comparison'''\n",
    "for ind, row in protdf.iterrows():\n",
    "    if row[gene+\"_Mutation_Status\"] != 'Wildtype_Tumor':\n",
    "        protdf.at[ind,'Label'] = 'Mutated'\n",
    "    else:\n",
    "        protdf.at[ind,'Label'] = 'Wildtype'\n",
    "\n",
    "'''Format the dataframe correctly'''\n",
    "protdf = protdf.drop(gene+\"_Mutation\",axis=1)\n",
    "protdf = protdf.drop(gene+\"_Location\",axis=1)\n",
    "protdf = protdf.drop(gene+\"_Mutation_Status\", axis=1)\n",
    "protdf = protdf.drop(\"Sample_Status\",axis=1)\n",
    "\n",
    "\n",
    "'''Make list of columns to be compared using t-tests'''\n",
    "col_list = list(protdf.columns)\n",
    "col_list.remove('Label')\n",
    "\n",
    "print(\"Doing t-test comparisons\\n\")\n",
    "\n",
    "'''Call wrap_ttest, pass in formatted dataframe'''\n",
    "wrap_results = al.wrap_ttest(protdf, 'Label', col_list)\n",
    "\n",
    "'''Print results, if anything significant was found'''\n",
    "if wrap_results is not None:\n",
    "        print(wrap_results)\n",
    "        print(\"\\n\\n\")"
   ]
  },
  {
   "cell_type": "markdown",
   "metadata": {},
   "source": [
    "## Colon"
   ]
  },
  {
   "cell_type": "markdown",
   "metadata": {},
   "source": [
    "### Generate interacting protein list"
   ]
  },
  {
   "cell_type": "code",
   "execution_count": 6,
   "metadata": {},
   "outputs": [
    {
     "name": "stdout",
     "output_type": "stream",
     "text": [
      "Generating interacting protein list\n",
      "Interacting Proteins:\n",
      "GALNT8\n",
      "ST6GAL1\n",
      "ST6GALNAC2\n",
      "ST3GAL3\n",
      "GALNT12\n",
      "MUC3A\n",
      "ST3GAL2\n",
      "GCNT3\n",
      "C1GALT1\n",
      "MUC20\n",
      "MUC4\n",
      "ST3GAL4\n",
      "MUC12\n",
      "B3GNT6\n",
      "MUC1\n",
      "MUC13\n",
      "UBC\n",
      "C7orf25\n",
      "ICE2\n",
      "FRMD1\n",
      "PCK2\n",
      "ARHGAP12\n",
      "TIMM50\n",
      "DDX31\n",
      "AGR2\n"
     ]
    }
   ],
   "source": [
    "'''Use get interacting proteins method to generate list of interacting proteins'''\n",
    "interacting_proteins = al.get_interacting_proteins(gene)\n",
    "\n",
    "omics_object = co.get_transcriptomics()\n",
    "\n",
    "print(\"Generating interacting protein list\")\n",
    "interacting_proteins_in_omics_df = []\n",
    "\n",
    "'''Only do comparisons on proteins in the omics dataframe'''\n",
    "for ip in interacting_proteins:\n",
    "    if omics == 'phosphoproteomics' or omics == 'acetylproteomics':\n",
    "        col_regex = ip + \"-.*\" # Build a regex to get all columns that match the gene\n",
    "    else:\n",
    "        col_regex = '^{}$'.format(ip)\n",
    "\n",
    "    selected = omics_object.filter(regex=col_regex)\n",
    "\n",
    "    if len(selected.columns) > 0:\n",
    "        interacting_proteins_in_omics_df.append(ip)\n",
    "\n",
    "print(\"Interacting Proteins:\")\n",
    "for interacting_protein in interacting_proteins_in_omics_df:\n",
    "    print(interacting_protein)"
   ]
  },
  {
   "cell_type": "markdown",
   "metadata": {},
   "source": [
    "### Test for significant comparisons in any of interacting proteins"
   ]
  },
  {
   "cell_type": "code",
   "execution_count": 7,
   "metadata": {},
   "outputs": [
    {
     "name": "stdout",
     "output_type": "stream",
     "text": [
      "Doing t-test comparisons\n",
      "\n",
      "                   Comparison   P_Value\n",
      "0       MUC20_transcriptomics  0.000004\n",
      "1       FRMD1_transcriptomics  0.000013\n",
      "2     ST6GAL1_transcriptomics  0.000067\n",
      "3       MUC12_transcriptomics  0.000111\n",
      "4  ST6GALNAC2_transcriptomics  0.000615\n",
      "\n",
      "\n",
      "\n"
     ]
    }
   ],
   "source": [
    "'''Create dataframe in order to do comparisons with wrap_ttest'''\n",
    "protdf = co.join_omics_to_mutations(mutations_genes=[gene], omics_df_name=omics, omics_genes=interacting_proteins_in_omics_df)\n",
    "protdf = protdf.loc[protdf['Sample_Status'] == 'Tumor']\n",
    "\n",
    "'''Create the binary valued column needed to do the comparison'''\n",
    "for ind, row in protdf.iterrows():\n",
    "    if row[gene+\"_Mutation_Status\"] != 'Wildtype_Tumor':\n",
    "        protdf.at[ind,'Label'] = 'Mutated'\n",
    "    else:\n",
    "        protdf.at[ind,'Label'] = 'Wildtype'\n",
    "\n",
    "'''Format the dataframe correctly'''\n",
    "protdf = protdf.drop(gene+\"_Mutation\",axis=1)\n",
    "protdf = protdf.drop(gene+\"_Location\",axis=1)\n",
    "protdf = protdf.drop(gene+\"_Mutation_Status\", axis=1)\n",
    "protdf = protdf.drop(\"Sample_Status\",axis=1)\n",
    "\n",
    "'''Make list of columns to be compared using t-tests'''\n",
    "col_list = list(protdf.columns)\n",
    "col_list.remove('Label')\n",
    "\n",
    "print(\"Doing t-test comparisons\\n\")\n",
    "\n",
    "'''Call wrap_ttest, pass in formatted dataframe'''\n",
    "wrap_results = al.wrap_ttest(protdf, 'Label', col_list)\n",
    "\n",
    "'''Print results, if anything significant was found'''\n",
    "if wrap_results is not None:\n",
    "        print(wrap_results)\n",
    "        print(\"\\n\\n\")"
   ]
  },
  {
   "cell_type": "markdown",
   "metadata": {},
   "source": [
    "## Ovarian"
   ]
  },
  {
   "cell_type": "markdown",
   "metadata": {},
   "source": [
    "### Generate interacting protein list"
   ]
  },
  {
   "cell_type": "code",
   "execution_count": 8,
   "metadata": {},
   "outputs": [
    {
     "name": "stdout",
     "output_type": "stream",
     "text": [
      "Generating interacting protein list\n",
      "Interacting Proteins:\n",
      "ST6GAL1\n",
      "ST6GALNAC2\n",
      "ST3GAL3\n",
      "MUC17\n",
      "GALNT16\n",
      "GALNT12\n",
      "MUC21\n",
      "MUC3A\n",
      "ST3GAL2\n",
      "GCNT3\n",
      "MUC16\n",
      "MUC6\n",
      "MUC7\n",
      "MUC15\n",
      "MUC4\n",
      "GALNTL6\n",
      "ST3GAL4\n",
      "MUC5B\n",
      "MUC12\n",
      "B3GNT6\n",
      "MUC13\n",
      "UBC\n",
      "KIR2DS2\n",
      "C7orf25\n",
      "FRMD1\n",
      "PCK2\n",
      "HBM\n",
      "ARHGAP12\n",
      "TIMM50\n",
      "DDX31\n",
      "ESR2\n",
      "AGR2\n"
     ]
    }
   ],
   "source": [
    "'''Use get interacting proteins method to generate list of interacting proteins'''\n",
    "interacting_proteins = al.get_interacting_proteins(gene)\n",
    "\n",
    "omics_object = ov.get_transcriptomics()\n",
    "\n",
    "print(\"Generating interacting protein list\")\n",
    "interacting_proteins_in_omics_df = []\n",
    "\n",
    "'''Only do comparisons on proteins in the omics dataframe'''\n",
    "for ip in interacting_proteins:\n",
    "    if omics == 'phosphoproteomics' or omics == 'acetylproteomics':\n",
    "        col_regex = ip + \"-.*\" # Build a regex to get all columns that match the gene\n",
    "    else:\n",
    "        col_regex = '^{}$'.format(ip)\n",
    "\n",
    "    selected = omics_object.filter(regex=col_regex)\n",
    "\n",
    "    if len(selected.columns) > 0:\n",
    "        interacting_proteins_in_omics_df.append(ip)\n",
    "\n",
    "print(\"Interacting Proteins:\")\n",
    "for interacting_protein in interacting_proteins_in_omics_df:\n",
    "    print(interacting_protein)"
   ]
  },
  {
   "cell_type": "code",
   "execution_count": 9,
   "metadata": {},
   "outputs": [
    {
     "name": "stdout",
     "output_type": "stream",
     "text": [
      "Doing t-test comparisons\n",
      "\n",
      "No significant comparisons.\n"
     ]
    }
   ],
   "source": [
    "'''Create dataframe in order to do comparisons with wrap_ttest'''\n",
    "protdf = ov.join_omics_to_mutations(mutations_genes=[gene], omics_df_name=omics, omics_genes=interacting_proteins_in_omics_df)\n",
    "protdf = protdf.loc[protdf['Sample_Status'] == 'Tumor']\n",
    "\n",
    "'''Create the binary valued column needed to do the comparison'''\n",
    "for ind, row in protdf.iterrows():\n",
    "    if row[gene+\"_Mutation_Status\"] != 'Wildtype_Tumor':\n",
    "        protdf.at[ind,'Label'] = 'Mutated'\n",
    "    else:\n",
    "        protdf.at[ind,'Label'] = 'Wildtype'\n",
    "\n",
    "'''Format the dataframe correctly'''\n",
    "protdf = protdf.drop(gene+\"_Mutation\",axis=1)\n",
    "protdf = protdf.drop(gene+\"_Location\",axis=1)\n",
    "protdf = protdf.drop(gene+\"_Mutation_Status\", axis=1)\n",
    "protdf = protdf.drop(\"Sample_Status\",axis=1)\n",
    "\n",
    "'''Make list of columns to be compared using t-tests'''\n",
    "col_list = list(protdf.columns)\n",
    "col_list.remove('Label')\n",
    "\n",
    "print(\"Doing t-test comparisons\\n\")\n",
    "\n",
    "'''Call wrap_ttest, pass in formatted dataframe'''\n",
    "wrap_results = al.wrap_ttest(protdf, 'Label', col_list)\n",
    "\n",
    "'''Print results, if anything significant was found'''\n",
    "if wrap_results is not None:\n",
    "        print(wrap_results)\n",
    "        print(\"\\n\\n\")"
   ]
  },
  {
   "cell_type": "markdown",
   "metadata": {},
   "source": [
    "# All Proteins: Transcriptomics"
   ]
  },
  {
   "cell_type": "markdown",
   "metadata": {},
   "source": [
    "## Endometrial"
   ]
  },
  {
   "cell_type": "code",
   "execution_count": 10,
   "metadata": {},
   "outputs": [
    {
     "name": "stdout",
     "output_type": "stream",
     "text": [
      "\n",
      "Gene:  MUC5B\n",
      "Doing t-test comparisons\n",
      "\n",
      "                Comparison   P_Value\n",
      "0  FAM86HP_transcriptomics  0.000001\n",
      "\n",
      "\n",
      "\n",
      "Total Time:  14196.552700996399\n",
      "Wrap T-Test:  24.601890087127686\n"
     ]
    }
   ],
   "source": [
    "try:\n",
    "    start_all = time.time()\n",
    "    print(\"\\nGene: \", gene)\n",
    "\n",
    "    '''Use all proteins'''\n",
    "    proteomics = en.get_transcriptomics()\n",
    "    all_proteins = proteomics.columns\n",
    "    #all_proteins = all_proteins[:100]\n",
    "\n",
    "    '''Create dataframe in order to do comparisons with wrap_ttest'''\n",
    "    protdf = en.join_omics_to_mutations(mutations_genes=[gene], omics_df_name=omics, omics_genes=all_proteins)\n",
    "    protdf = protdf.loc[protdf['Sample_Status'] == 'Tumor']\n",
    "    \n",
    "    '''Create the binary valued column needed to do the comparison'''\n",
    "    for ind, row in protdf.iterrows():\n",
    "        if row[gene+\"_Mutation_Status\"] != 'Wildtype_Tumor':\n",
    "            protdf.at[ind,'Label'] = 'Mutated'\n",
    "        else:\n",
    "            protdf.at[ind,'Label'] = 'Wildtype'\n",
    "\n",
    "    '''Format the datafram correctly'''\n",
    "    protdf = protdf.drop(gene+\"_Mutation\",axis=1)\n",
    "    protdf = protdf.drop(gene+\"_Location\",axis=1)\n",
    "    protdf = protdf.drop(gene+\"_Mutation_Status\", axis=1)\n",
    "    protdf = protdf.drop(\"Sample_Status\",axis=1)\n",
    "\n",
    "    '''Make list of columns to be compared using t-tests'''\n",
    "    col_list = list(protdf.columns)\n",
    "    col_list.remove('Label')\n",
    "\n",
    "    print(\"Doing t-test comparisons\\n\")\n",
    "    \n",
    "    '''Call wrap_ttest, pass in formatted dataframe'''\n",
    "    start_wrap = time.time()\n",
    "    wrap_results = al.wrap_ttest(protdf, 'Label', col_list)\n",
    "    end_wrap = time.time()\n",
    "\n",
    "    '''Print results, if anything significant was found'''\n",
    "    if wrap_results is not None:\n",
    "            print(wrap_results)\n",
    "            print(\"\\n\\n\")\n",
    "            \n",
    "    end_all = time.time()\n",
    "    \n",
    "    print(\"Total Time: \", end_all - start_all)\n",
    "    print(\"Wrap T-Test: \", end_wrap - start_wrap)\n",
    "\n",
    "except Exception as e:\n",
    "    print(\"Error in Comparison\")\n",
    "    print(e)"
   ]
  },
  {
   "cell_type": "markdown",
   "metadata": {},
   "source": [
    "## Colon"
   ]
  },
  {
   "cell_type": "code",
   "execution_count": 11,
   "metadata": {},
   "outputs": [
    {
     "name": "stdout",
     "output_type": "stream",
     "text": [
      "\n",
      "Gene:  MUC5B\n",
      "Doing t-test comparisons\n",
      "\n",
      "                     Comparison       P_Value\n",
      "0          GPX2_transcriptomics  1.758001e-10\n",
      "1       POU5F1B_transcriptomics  4.688794e-10\n",
      "2        RUBCNL_transcriptomics  1.541604e-09\n",
      "3        ATP10B_transcriptomics  3.068562e-09\n",
      "4         NUBPL_transcriptomics  3.884908e-09\n",
      "5       CEACAM5_transcriptomics  6.870982e-09\n",
      "6       CEACAM6_transcriptomics  9.942373e-09\n",
      "7         ADNP2_transcriptomics  1.155737e-08\n",
      "8    DLGAP1-AS2_transcriptomics  1.221313e-08\n",
      "9      TOR1AIP2_transcriptomics  1.275600e-08\n",
      "10         GRM8_transcriptomics  1.851409e-08\n",
      "11       LY6G6D_transcriptomics  2.788723e-08\n",
      "12        CCSAP_transcriptomics  3.180643e-08\n",
      "13        EPDR1_transcriptomics  3.808045e-08\n",
      "14         ACE2_transcriptomics  4.376884e-08\n",
      "15        NR1I2_transcriptomics  4.771506e-08\n",
      "16       MAPK12_transcriptomics  5.517810e-08\n",
      "17       CASC21_transcriptomics  5.951666e-08\n",
      "18    LINC00513_transcriptomics  9.176024e-08\n",
      "19       GPR143_transcriptomics  1.071900e-07\n",
      "20        PIAS2_transcriptomics  1.264160e-07\n",
      "21    LINC01560_transcriptomics  1.514142e-07\n",
      "22  THUMPD3-AS1_transcriptomics  1.689576e-07\n",
      "23     SLC25A13_transcriptomics  1.864544e-07\n",
      "24        CXXC1_transcriptomics  2.088444e-07\n",
      "25        TNNC2_transcriptomics  2.443947e-07\n",
      "26        TDGF1_transcriptomics  2.727111e-07\n",
      "27         CFTR_transcriptomics  2.870300e-07\n",
      "28      CTTNBP2_transcriptomics  3.082151e-07\n",
      "29       TSPAN6_transcriptomics  3.718990e-07\n",
      "..                          ...           ...\n",
      "47        MRE11_transcriptomics  1.403404e-06\n",
      "48         PIGX_transcriptomics  1.418377e-06\n",
      "49          MBP_transcriptomics  1.546044e-06\n",
      "50        MYZAP_transcriptomics  1.561001e-06\n",
      "51        PRAP1_transcriptomics  1.692921e-06\n",
      "52       SEMA5A_transcriptomics  1.824961e-06\n",
      "53       THRAP3_transcriptomics  2.186983e-06\n",
      "54         MLH1_transcriptomics  2.270186e-06\n",
      "55        DDX27_transcriptomics  2.290637e-06\n",
      "56         LMNA_transcriptomics  2.326658e-06\n",
      "57       SLC3A1_transcriptomics  2.421983e-06\n",
      "58        LIN54_transcriptomics  2.553519e-06\n",
      "59         IER5_transcriptomics  2.572737e-06\n",
      "60         RAC3_transcriptomics  2.702800e-06\n",
      "61        KIF14_transcriptomics  2.727888e-06\n",
      "62       GUCY2C_transcriptomics  2.736175e-06\n",
      "63        SOCS6_transcriptomics  2.843641e-06\n",
      "64         VAPB_transcriptomics  2.907669e-06\n",
      "65         QPRT_transcriptomics  2.953795e-06\n",
      "66        ATP9A_transcriptomics  2.977994e-06\n",
      "67        CRAT8_transcriptomics  3.196294e-06\n",
      "68         TYMS_transcriptomics  3.330010e-06\n",
      "69      CXorf23_transcriptomics  3.369104e-06\n",
      "70      SPATA25_transcriptomics  3.383985e-06\n",
      "71       POFUT1_transcriptomics  3.506052e-06\n",
      "72         AAR2_transcriptomics  3.522057e-06\n",
      "73       ZNF737_transcriptomics  3.535392e-06\n",
      "74    LINC01006_transcriptomics  3.607070e-06\n",
      "75        RNF43_transcriptomics  3.665086e-06\n",
      "76        GSPT2_transcriptomics  3.699970e-06\n",
      "\n",
      "[77 rows x 2 columns]\n",
      "\n",
      "\n",
      "\n"
     ]
    }
   ],
   "source": [
    "try:\n",
    "    print(\"\\nGene: \", gene)\n",
    "\n",
    "    '''Use all proteins'''\n",
    "    proteomics = co.get_transcriptomics()\n",
    "    all_proteins = proteomics.columns\n",
    "    #all_proteins = all_proteins[:100]\n",
    "\n",
    "    '''Create dataframe in order to do comparisons with wrap_ttest'''\n",
    "    protdf = co.join_omics_to_mutations(mutations_genes=[gene], omics_df_name=omics, omics_genes=all_proteins)\n",
    "    protdf = protdf.loc[protdf['Sample_Status'] == 'Tumor']\n",
    "    \n",
    "    '''Create the binary valued column needed to do the comparison'''\n",
    "    for ind, row in protdf.iterrows():\n",
    "        if row[gene+\"_Mutation_Status\"] != 'Wildtype_Tumor':\n",
    "            protdf.at[ind,'Label'] = 'Mutated'\n",
    "        else:\n",
    "            protdf.at[ind,'Label'] = 'Wildtype'\n",
    "\n",
    "    '''Format the datafram correctly'''\n",
    "    protdf = protdf.drop(gene+\"_Mutation\",axis=1)\n",
    "    protdf = protdf.drop(gene+\"_Location\",axis=1)\n",
    "    protdf = protdf.drop(gene+\"_Mutation_Status\", axis=1)\n",
    "    protdf = protdf.drop(\"Sample_Status\",axis=1)\n",
    "\n",
    "    '''Make list of columns to be compared using t-tests'''\n",
    "    col_list = list(protdf.columns)\n",
    "    col_list.remove('Label')\n",
    "\n",
    "    print(\"Doing t-test comparisons\\n\")\n",
    "    \n",
    "    '''Call wrap_ttest, pass in formatted dataframe'''\n",
    "    wrap_results = al.wrap_ttest(protdf, 'Label', col_list)\n",
    "\n",
    "    '''Print results, if anything significant was found'''\n",
    "    if wrap_results is not None:\n",
    "            print(wrap_results)\n",
    "            print(\"\\n\\n\")\n",
    "\n",
    "except Exception as e:\n",
    "    print(\"Error in Comparison\")\n",
    "    print(e)"
   ]
  },
  {
   "cell_type": "markdown",
   "metadata": {},
   "source": [
    "## Ovarian"
   ]
  },
  {
   "cell_type": "code",
   "execution_count": 12,
   "metadata": {},
   "outputs": [
    {
     "name": "stdout",
     "output_type": "stream",
     "text": [
      "\n",
      "Gene:  MUC5B\n",
      "Doing t-test comparisons\n",
      "\n",
      "No significant comparisons.\n"
     ]
    }
   ],
   "source": [
    "\n",
    "print(\"\\nGene: \", gene)\n",
    "\n",
    "'''Use all proteins'''\n",
    "proteomics = ov.get_transcriptomics()\n",
    "all_proteins = list(set(proteomics.columns))\n",
    "\n",
    "'''Create dataframe in order to do comparisons with wrap_ttest'''\n",
    "protdf = ov.join_omics_to_mutations(mutations_genes=[gene], omics_df_name=omics, omics_genes=all_proteins)\n",
    "protdf = protdf.loc[protdf['Sample_Status'] == 'Tumor']\n",
    "protdf = protdf.loc[:,~protdf.columns.duplicated()]\n",
    "\n",
    "'''Create the binary valued column needed to do the comparison'''\n",
    "for ind, row in protdf.iterrows():\n",
    "    if row[gene+\"_Mutation_Status\"] != 'Wildtype_Tumor':\n",
    "        protdf.at[ind,'Label'] = 'Mutated'\n",
    "    else:\n",
    "        protdf.at[ind,'Label'] = 'Wildtype'\n",
    "\n",
    "'''Format the datafram correctly'''\n",
    "protdf = protdf.drop(gene+\"_Mutation\",axis=1)\n",
    "protdf = protdf.drop(gene+\"_Location\",axis=1)\n",
    "protdf = protdf.drop(gene+\"_Mutation_Status\", axis=1)\n",
    "protdf = protdf.drop(\"Sample_Status\",axis=1)\n",
    "\n",
    "'''Make list of columns to be compared using t-tests'''\n",
    "col_list = list(protdf.columns)\n",
    "col_list.remove('Label')\n",
    "\n",
    "print(\"Doing t-test comparisons\\n\")\n",
    "\n",
    "'''Call wrap_ttest, pass in formatted dataframe'''\n",
    "wrap_results = al.wrap_ttest(protdf, 'Label', col_list)\n",
    "\n",
    "'''Print results, if anything significant was found'''\n",
    "if wrap_results is not None:\n",
    "        print(wrap_results)\n",
    "        print(\"\\n\\n\")\n"
   ]
  },
  {
   "cell_type": "markdown",
   "metadata": {},
   "source": [
    "## Conclusions"
   ]
  }
 ],
 "metadata": {
  "kernelspec": {
   "display_name": "Python 3",
   "language": "python",
   "name": "python3"
  },
  "language_info": {
   "codemirror_mode": {
    "name": "ipython",
    "version": 3
   },
   "file_extension": ".py",
   "mimetype": "text/x-python",
   "name": "python",
   "nbconvert_exporter": "python",
   "pygments_lexer": "ipython3",
   "version": "3.6.8"
  }
 },
 "nbformat": 4,
 "nbformat_minor": 2
}
