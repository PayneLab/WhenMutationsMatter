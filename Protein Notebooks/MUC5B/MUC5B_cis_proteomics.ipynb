{
 "cells": [
  {
   "cell_type": "markdown",
   "metadata": {},
   "source": [
    "# MUC5B proteomics cis comparison"
   ]
  },
  {
   "cell_type": "markdown",
   "metadata": {},
   "source": [
    "## Step 1: Library Imports"
   ]
  },
  {
   "cell_type": "markdown",
   "metadata": {},
   "source": [
    "Run this cell to import the necessary libraries"
   ]
  },
  {
   "cell_type": "code",
   "execution_count": 1,
   "metadata": {},
   "outputs": [],
   "source": [
    "import pandas as pd\n",
    "import numpy as np\n",
    "import seaborn as sns\n",
    "import matplotlib.pyplot as plt\n",
    "import scipy.stats\n",
    "import sys \n",
    "sys.path.append('C:\\\\Users\\\\brittany henderson\\\\GitHub\\\\WhenMutationsMatter\\\\Brittany\\\\')\n",
    "import functions as f\n",
    "\n",
    "import cptac\n",
    "import cptac.algorithms as al"
   ]
  },
  {
   "cell_type": "markdown",
   "metadata": {},
   "source": [
    "## Step 2: Find the frequently mutated genes for Endometrial Cancer"
   ]
  },
  {
   "cell_type": "markdown",
   "metadata": {},
   "source": [
    "Enter the type of cancer and the cutoff for mutation frequency that you would like to use."
   ]
  },
  {
   "cell_type": "code",
   "execution_count": 2,
   "metadata": {},
   "outputs": [
    {
     "name": "stdout",
     "output_type": "stream",
     "text": [
      "                                    \n",
      "\n",
      "Number of Frequently Mutated Genes: 232 \n",
      "         Unique_Samples_Mut  Missence_Mut  Truncation_Mut\n",
      "Gene                                                    \n",
      "ABCA12            0.147368      0.094737        0.073684\n",
      "ABCA13            0.115789      0.105263        0.042105\n",
      "ACVR2A            0.105263      0.010526        0.094737\n",
      "ADGRG4            0.136842      0.126316        0.021053\n",
      "ADGRV1            0.115789      0.094737        0.052632\n"
     ]
    }
   ],
   "source": [
    "en_object = cptac.Endometrial()\n",
    "desired_cutoff = .1\n",
    "\n",
    "endometrial_freq_mut = al.get_frequently_mutated(en_object, cutoff = desired_cutoff)\n",
    "print('\\n\\nNumber of Frequently Mutated Genes:', len(endometrial_freq_mut), '\\n', endometrial_freq_mut.head())"
   ]
  },
  {
   "cell_type": "markdown",
   "metadata": {},
   "source": [
    "## Step 3: Select MUC5B, a frequently mutated gene"
   ]
  },
  {
   "cell_type": "code",
   "execution_count": 3,
   "metadata": {},
   "outputs": [],
   "source": [
    "gene = 'MUC5B'"
   ]
  },
  {
   "cell_type": "markdown",
   "metadata": {},
   "source": [
    "## Step 4: Select proteomics"
   ]
  },
  {
   "cell_type": "code",
   "execution_count": 4,
   "metadata": {},
   "outputs": [],
   "source": [
    "omics = en_object.get_proteomics()"
   ]
  },
  {
   "cell_type": "markdown",
   "metadata": {},
   "source": [
    "## Step 5: cis comparison "
   ]
  },
  {
   "cell_type": "markdown",
   "metadata": {},
   "source": [
    "Determine if the DNA mutation has an effect on the omics measurement. In order to do this, we have a few steps in code. These steps are found in the format_cis_comparison_data function.\n",
    "1. get a table with both the omics and mutation data for tumors\n",
    "2. get a binary column from the mutation data to separate our samples\n",
    "3. format data frame to be used in the T-test\n",
    "4. send data to the T-test.\n",
    "\n",
    "The format_cis_comparison_data does the first 3 steps."
   ]
  },
  {
   "cell_type": "code",
   "execution_count": 5,
   "metadata": {},
   "outputs": [
    {
     "data": {
      "text/html": [
       "<div>\n",
       "<style scoped>\n",
       "    .dataframe tbody tr th:only-of-type {\n",
       "        vertical-align: middle;\n",
       "    }\n",
       "\n",
       "    .dataframe tbody tr th {\n",
       "        vertical-align: top;\n",
       "    }\n",
       "\n",
       "    .dataframe thead th {\n",
       "        text-align: right;\n",
       "    }\n",
       "</style>\n",
       "<table border=\"1\" class=\"dataframe\">\n",
       "  <thead>\n",
       "    <tr style=\"text-align: right;\">\n",
       "      <th></th>\n",
       "      <th>MUC5B_proteomics</th>\n",
       "      <th>binary_mutations</th>\n",
       "    </tr>\n",
       "    <tr>\n",
       "      <th>Sample_ID</th>\n",
       "      <th></th>\n",
       "      <th></th>\n",
       "    </tr>\n",
       "  </thead>\n",
       "  <tbody>\n",
       "    <tr>\n",
       "      <th>S001</th>\n",
       "      <td>-1.24</td>\n",
       "      <td>Wildtype</td>\n",
       "    </tr>\n",
       "    <tr>\n",
       "      <th>S002</th>\n",
       "      <td>3.39</td>\n",
       "      <td>Wildtype</td>\n",
       "    </tr>\n",
       "    <tr>\n",
       "      <th>S003</th>\n",
       "      <td>3.57</td>\n",
       "      <td>Wildtype</td>\n",
       "    </tr>\n",
       "    <tr>\n",
       "      <th>S005</th>\n",
       "      <td>-2.15</td>\n",
       "      <td>Wildtype</td>\n",
       "    </tr>\n",
       "    <tr>\n",
       "      <th>S006</th>\n",
       "      <td>-2.07</td>\n",
       "      <td>Wildtype</td>\n",
       "    </tr>\n",
       "  </tbody>\n",
       "</table>\n",
       "</div>"
      ],
      "text/plain": [
       "           MUC5B_proteomics binary_mutations\n",
       "Sample_ID                                   \n",
       "S001                  -1.24         Wildtype\n",
       "S002                   3.39         Wildtype\n",
       "S003                   3.57         Wildtype\n",
       "S005                  -2.15         Wildtype\n",
       "S006                  -2.07         Wildtype"
      ]
     },
     "execution_count": 5,
     "metadata": {},
     "output_type": "execute_result"
    }
   ],
   "source": [
    "en_status = f.format_cis_comparison_data(en_object, omics, 'proteomics', gene)\n",
    "\n",
    "en_status.head()"
   ]
  },
  {
   "cell_type": "code",
   "execution_count": 6,
   "metadata": {},
   "outputs": [
    {
     "name": "stdout",
     "output_type": "stream",
     "text": [
      "Doing t-test comparison for mutation status\n",
      "\n",
      "No significant comparisons.\n",
      "None\n"
     ]
    },
    {
     "data": {
      "image/png": "[encoded data removed]",
      "text/plain": [
       "<Figure size 432x288 with 1 Axes>"
      ]
     },
     "metadata": {
      "needs_background": "light"
     },
     "output_type": "display_data"
    }
   ],
   "source": [
    "omics_col_list = ['MUC5B_proteomics']\n",
    "prot_col = gene+'_proteomics'\n",
    "\n",
    "# Step 4 - T-test comparing means of mutated vs wildtype effect on cis omics\n",
    "print(\"Doing t-test comparison for mutation status\\n\")\n",
    "significant_pval_results = al.wrap_ttest(en_status, 'binary_mutations', omics_col_list)\n",
    "print(significant_pval_results)\n",
    "\n",
    "# Step 5 - Create boxplt to compare wildtype and mutated effect on omics data\n",
    "en_cis_boxplot = sns.boxplot(data = en_status, x = 'binary_mutations',\n",
    "                          y = prot_col, order = [\"Wildtype\",\"Mutated\"], showfliers = False)  \n",
    "en_cis_boxplot.set_title(gene + \" Effect on cis Proteomics in Endometrial Tumors\")\n",
    "en_cis_boxplot = sns.stripplot(data= en_status, x = 'binary_mutations',\n",
    "                            y = prot_col,jitter = True, color = \".3\", order = [\"Wildtype\",\"Mutated\"])\n",
    "en_cis_boxplot.set(xlabel = gene + \" Mutation Status in Tumors\", ylabel = \"Proteomics\")\n",
    "plt.show()"
   ]
  },
  {
   "cell_type": "code",
   "execution_count": 7,
   "metadata": {},
   "outputs": [
    {
     "name": "stdout",
     "output_type": "stream",
     "text": [
      "Doing t-test comparison for mutation type\n",
      "\n",
      "No significant comparisons.\n",
      "None\n"
     ]
    },
    {
     "data": {
      "image/png": "[encoded data removed]",
      "text/plain": [
       "<Figure size 432x288 with 1 Axes>"
      ]
     },
     "metadata": {
      "needs_background": "light"
     },
     "output_type": "display_data"
    }
   ],
   "source": [
    "en_type = f.get_missence_truncation_comparison(en_object, omics, 'proteomics', gene)\n",
    "#print(mutation_type_comparison.head())\n",
    "\n",
    "# T-test comparing means of mutated vs wildtype effect on cis omics\n",
    "print(\"Doing t-test comparison for mutation type\\n\")\n",
    "significant_pval_results = al.wrap_ttest(en_type, 'binary_mutations', omics_col_list)\n",
    "print(significant_pval_results)\n",
    "\n",
    "# Step 5 - Create boxplt to compare mutation type effect on omics data\n",
    "en_cis_boxplot = sns.boxplot(data = en_type, x = 'binary_mutations',\n",
    "                          y = prot_col, order = [\"Missence\",\"Truncation\"], showfliers = False)  \n",
    "en_cis_boxplot.set_title(gene + \" Mutation Type Effect on cis Proteomics in Endometrial Tumors\")\n",
    "en_cis_boxplot = sns.stripplot(data= en_type, x = 'binary_mutations',\n",
    "                            y = prot_col,jitter = True, color = \".3\", order = [\"Missence\",\"Truncation\"])\n",
    "en_cis_boxplot.set(xlabel = gene + \" Mutation Type\", ylabel = 'Proteomics')\n",
    "plt.show()"
   ]
  },
  {
   "cell_type": "markdown",
   "metadata": {},
   "source": [
    "# Repeat with the Colon dataset"
   ]
  },
  {
   "cell_type": "markdown",
   "metadata": {},
   "source": [
    "Go through the same process, this time using the Colon dataset. We will only print five genes from the frequently mutated data frame for simplicity."
   ]
  },
  {
   "cell_type": "code",
   "execution_count": 8,
   "metadata": {},
   "outputs": [
    {
     "name": "stdout",
     "output_type": "stream",
     "text": [
      "                                    \n",
      "\n",
      "Number of Frequently Mutated Genes: 612 \n",
      "         Unique_Samples_Mut  Missence_Mut  Truncation_Mut\n",
      "Gene                                                    \n",
      "ABCA13            0.195876      0.164948        0.103093\n",
      "ABCA2             0.175258      0.164948        0.030928\n",
      "ABCA4             0.144330      0.082474        0.061856\n",
      "ABCB4             0.134021      0.061856        0.072165\n",
      "ABCB6             0.103093      0.061856        0.041237\n"
     ]
    }
   ],
   "source": [
    "colon_object = cptac.Colon()\n",
    "desired_cutoff = .1\n",
    "\n",
    "colon_freq_mut = al.get_frequently_mutated(colon_object, cutoff = desired_cutoff)\n",
    "print('\\n\\nNumber of Frequently Mutated Genes:', len(colon_freq_mut), '\\n', colon_freq_mut.head())"
   ]
  },
  {
   "cell_type": "code",
   "execution_count": 9,
   "metadata": {},
   "outputs": [],
   "source": [
    "co_omics = colon_object.get_proteomics()"
   ]
  },
  {
   "cell_type": "code",
   "execution_count": 10,
   "metadata": {},
   "outputs": [
    {
     "name": "stdout",
     "output_type": "stream",
     "text": [
      "Doing t-test comparison for mutation type\n",
      "\n",
      "         Comparison   P_Value\n",
      "0  MUC5B_proteomics  0.008422\n"
     ]
    },
    {
     "data": {
      "image/png": "[encoded data removed]",
      "text/plain": [
       "<Figure size 432x288 with 1 Axes>"
      ]
     },
     "metadata": {
      "needs_background": "light"
     },
     "output_type": "display_data"
    }
   ],
   "source": [
    "co_status = f.format_cis_comparison_data(colon_object, co_omics, 'proteomics', gene)\n",
    "#co_data_for_comparison.head()\n",
    "\n",
    "print(\"Doing t-test comparison for mutation type\\n\")\n",
    "significant_pval_results = al.wrap_ttest(co_status, 'binary_mutations', omics_col_list)\n",
    "print(significant_pval_results)\n",
    "\n",
    "cis_boxplot = sns.boxplot(data = co_status, x = 'binary_mutations',\n",
    "                          y = prot_col, order = [\"Wildtype\",\"Mutated\"], showfliers = False)  \n",
    "cis_boxplot.set_title(gene + \" Effect on cis Proteomics in Colon Tumors\")\n",
    "cis_boxplot = sns.stripplot(data = co_status, x = 'binary_mutations',\n",
    "                            y = prot_col, jitter = True, color = \".3\", \n",
    "                            order = [\"Wildtype\",\"Mutated\"])\n",
    "cis_boxplot.set(xlabel = gene + \" Mutation Status in Tumors\", ylabel = \"Proteomics\")\n",
    "plt.show()"
   ]
  },
  {
   "cell_type": "code",
   "execution_count": 24,
   "metadata": {},
   "outputs": [
    {
     "name": "stdout",
     "output_type": "stream",
     "text": [
      "Doing t-test comparison for mutation type\n",
      "\n",
      "Incorrectly Formatted Dataframe!\n",
      "None\n"
     ]
    },
    {
     "data": {
      "image/png": "[encoded data removed]",
      "text/plain": [
       "<Figure size 432x288 with 1 Axes>"
      ]
     },
     "metadata": {
      "needs_background": "light"
     },
     "output_type": "display_data"
    }
   ],
   "source": [
    "co_type = f.get_missence_truncation_comparison(colon_object, co_omics, 'proteomics', gene)\n",
    "\n",
    "print(\"Doing t-test comparison for mutation type\\n\")\n",
    "significant_pval_results = al.wrap_ttest(co_type, 'binary_mutations', omics_col_list)\n",
    "print(significant_pval_results)\n",
    "\n",
    "\n",
    "co_cis_boxplot = sns.boxplot(data = co_type, x = 'binary_mutations',\n",
    "                          y = prot_col, order = [\"Missence\",\"Truncation\"], showfliers = False)  \n",
    "co_cis_boxplot.set_title(gene + \" Mutation Type Effect on cis Proteomics in Colon Tumors\")\n",
    "co_cis_boxplot = sns.stripplot(data= co_type, x = 'binary_mutations',y = prot_col,jitter = True, \n",
    "                               color = \".3\", order = [\"Missence\",\"Truncation\"])\n",
    "co_cis_boxplot.set(xlabel = gene + \" Mutation Type\", ylabel = 'Proteomics')\n",
    "plt.show()"
   ]
  },
  {
   "cell_type": "markdown",
   "metadata": {},
   "source": [
    "# Repeat with the Ovarian dataset\n"
   ]
  },
  {
   "cell_type": "code",
   "execution_count": 23,
   "metadata": {},
   "outputs": [
    {
     "name": "stdout",
     "output_type": "stream",
     "text": [
      "                                    \r"
     ]
    }
   ],
   "source": [
    "ovarian_object = cptac.Ovarian()\n",
    "desired_cutoff = .1\n",
    "\n",
    "ovarian_freq_mut = al.get_frequently_mutated(ovarian_object, cutoff = desired_cutoff)"
   ]
  },
  {
   "cell_type": "code",
   "execution_count": 16,
   "metadata": {},
   "outputs": [],
   "source": [
    "ov_omics = ovarian_object.get_proteomics()"
   ]
  },
  {
   "cell_type": "code",
   "execution_count": 25,
   "metadata": {},
   "outputs": [
    {
     "name": "stdout",
     "output_type": "stream",
     "text": [
      "Doing t-test comparison for mutation status\n",
      "\n",
      "Incorrectly Formatted Dataframe!\n",
      "None\n"
     ]
    },
    {
     "data": {
      "image/png": "[encoded data removed]",
      "text/plain": [
       "<Figure size 432x288 with 1 Axes>"
      ]
     },
     "metadata": {
      "needs_background": "light"
     },
     "output_type": "display_data"
    },
    {
     "data": {
      "text/html": [
       "<div>\n",
       "<style scoped>\n",
       "    .dataframe tbody tr th:only-of-type {\n",
       "        vertical-align: middle;\n",
       "    }\n",
       "\n",
       "    .dataframe tbody tr th {\n",
       "        vertical-align: top;\n",
       "    }\n",
       "\n",
       "    .dataframe thead th {\n",
       "        text-align: right;\n",
       "    }\n",
       "</style>\n",
       "<table border=\"1\" class=\"dataframe\">\n",
       "  <thead>\n",
       "    <tr style=\"text-align: right;\">\n",
       "      <th></th>\n",
       "      <th>MUC5B_proteomics</th>\n",
       "      <th>binary_mutations</th>\n",
       "    </tr>\n",
       "    <tr>\n",
       "      <th>Sample_ID</th>\n",
       "      <th></th>\n",
       "      <th></th>\n",
       "    </tr>\n",
       "  </thead>\n",
       "  <tbody>\n",
       "    <tr>\n",
       "      <th>S002</th>\n",
       "      <td>-3.858714</td>\n",
       "      <td>Wildtype</td>\n",
       "    </tr>\n",
       "    <tr>\n",
       "      <th>S006</th>\n",
       "      <td>-3.910196</td>\n",
       "      <td>Wildtype</td>\n",
       "    </tr>\n",
       "    <tr>\n",
       "      <th>S007</th>\n",
       "      <td>-1.151332</td>\n",
       "      <td>Wildtype</td>\n",
       "    </tr>\n",
       "    <tr>\n",
       "      <th>S009</th>\n",
       "      <td>-0.495826</td>\n",
       "      <td>Wildtype</td>\n",
       "    </tr>\n",
       "    <tr>\n",
       "      <th>S011</th>\n",
       "      <td>-2.622559</td>\n",
       "      <td>Wildtype</td>\n",
       "    </tr>\n",
       "    <tr>\n",
       "      <th>S012</th>\n",
       "      <td>-1.337421</td>\n",
       "      <td>Wildtype</td>\n",
       "    </tr>\n",
       "    <tr>\n",
       "      <th>S013</th>\n",
       "      <td>2.278562</td>\n",
       "      <td>Mutated</td>\n",
       "    </tr>\n",
       "    <tr>\n",
       "      <th>S015</th>\n",
       "      <td>-0.867685</td>\n",
       "      <td>Wildtype</td>\n",
       "    </tr>\n",
       "    <tr>\n",
       "      <th>S016</th>\n",
       "      <td>-2.308010</td>\n",
       "      <td>Wildtype</td>\n",
       "    </tr>\n",
       "    <tr>\n",
       "      <th>S019</th>\n",
       "      <td>-0.408313</td>\n",
       "      <td>Wildtype</td>\n",
       "    </tr>\n",
       "    <tr>\n",
       "      <th>S022</th>\n",
       "      <td>-1.012927</td>\n",
       "      <td>Wildtype</td>\n",
       "    </tr>\n",
       "    <tr>\n",
       "      <th>S023</th>\n",
       "      <td>-2.468784</td>\n",
       "      <td>Wildtype</td>\n",
       "    </tr>\n",
       "    <tr>\n",
       "      <th>S024</th>\n",
       "      <td>-1.118222</td>\n",
       "      <td>Wildtype</td>\n",
       "    </tr>\n",
       "    <tr>\n",
       "      <th>S025</th>\n",
       "      <td>-1.100902</td>\n",
       "      <td>Wildtype</td>\n",
       "    </tr>\n",
       "    <tr>\n",
       "      <th>S026</th>\n",
       "      <td>0.655042</td>\n",
       "      <td>Mutated</td>\n",
       "    </tr>\n",
       "    <tr>\n",
       "      <th>S027</th>\n",
       "      <td>-0.586151</td>\n",
       "      <td>Wildtype</td>\n",
       "    </tr>\n",
       "    <tr>\n",
       "      <th>S028</th>\n",
       "      <td>-1.030148</td>\n",
       "      <td>Wildtype</td>\n",
       "    </tr>\n",
       "    <tr>\n",
       "      <th>S029</th>\n",
       "      <td>-0.608082</td>\n",
       "      <td>Mutated</td>\n",
       "    </tr>\n",
       "    <tr>\n",
       "      <th>S031</th>\n",
       "      <td>-1.444438</td>\n",
       "      <td>Wildtype</td>\n",
       "    </tr>\n",
       "    <tr>\n",
       "      <th>S033</th>\n",
       "      <td>-1.527597</td>\n",
       "      <td>Mutated</td>\n",
       "    </tr>\n",
       "    <tr>\n",
       "      <th>S035</th>\n",
       "      <td>-1.053211</td>\n",
       "      <td>Wildtype</td>\n",
       "    </tr>\n",
       "    <tr>\n",
       "      <th>S037</th>\n",
       "      <td>-0.603202</td>\n",
       "      <td>Wildtype</td>\n",
       "    </tr>\n",
       "    <tr>\n",
       "      <th>S038</th>\n",
       "      <td>-0.674528</td>\n",
       "      <td>Wildtype</td>\n",
       "    </tr>\n",
       "    <tr>\n",
       "      <th>S039</th>\n",
       "      <td>-0.259288</td>\n",
       "      <td>Mutated</td>\n",
       "    </tr>\n",
       "    <tr>\n",
       "      <th>S040</th>\n",
       "      <td>-1.212181</td>\n",
       "      <td>Wildtype</td>\n",
       "    </tr>\n",
       "    <tr>\n",
       "      <th>S041</th>\n",
       "      <td>-0.764971</td>\n",
       "      <td>Wildtype</td>\n",
       "    </tr>\n",
       "    <tr>\n",
       "      <th>S042</th>\n",
       "      <td>-3.074770</td>\n",
       "      <td>Wildtype</td>\n",
       "    </tr>\n",
       "    <tr>\n",
       "      <th>S043</th>\n",
       "      <td>-0.374436</td>\n",
       "      <td>Mutated</td>\n",
       "    </tr>\n",
       "    <tr>\n",
       "      <th>S044</th>\n",
       "      <td>-0.368930</td>\n",
       "      <td>Wildtype</td>\n",
       "    </tr>\n",
       "    <tr>\n",
       "      <th>S045</th>\n",
       "      <td>-0.677451</td>\n",
       "      <td>Wildtype</td>\n",
       "    </tr>\n",
       "    <tr>\n",
       "      <th>...</th>\n",
       "      <td>...</td>\n",
       "      <td>...</td>\n",
       "    </tr>\n",
       "    <tr>\n",
       "      <th>S070</th>\n",
       "      <td>-2.064551</td>\n",
       "      <td>Wildtype</td>\n",
       "    </tr>\n",
       "    <tr>\n",
       "      <th>S071</th>\n",
       "      <td>-2.827222</td>\n",
       "      <td>Wildtype</td>\n",
       "    </tr>\n",
       "    <tr>\n",
       "      <th>S074</th>\n",
       "      <td>-0.663747</td>\n",
       "      <td>Wildtype</td>\n",
       "    </tr>\n",
       "    <tr>\n",
       "      <th>S076</th>\n",
       "      <td>-0.628144</td>\n",
       "      <td>Wildtype</td>\n",
       "    </tr>\n",
       "    <tr>\n",
       "      <th>S078</th>\n",
       "      <td>0.888259</td>\n",
       "      <td>Wildtype</td>\n",
       "    </tr>\n",
       "    <tr>\n",
       "      <th>S079</th>\n",
       "      <td>2.581530</td>\n",
       "      <td>Wildtype</td>\n",
       "    </tr>\n",
       "    <tr>\n",
       "      <th>S080</th>\n",
       "      <td>2.536026</td>\n",
       "      <td>Mutated</td>\n",
       "    </tr>\n",
       "    <tr>\n",
       "      <th>S084</th>\n",
       "      <td>-0.936909</td>\n",
       "      <td>Wildtype</td>\n",
       "    </tr>\n",
       "    <tr>\n",
       "      <th>S085</th>\n",
       "      <td>-1.745124</td>\n",
       "      <td>Wildtype</td>\n",
       "    </tr>\n",
       "    <tr>\n",
       "      <th>S087</th>\n",
       "      <td>3.052083</td>\n",
       "      <td>Wildtype</td>\n",
       "    </tr>\n",
       "    <tr>\n",
       "      <th>S088</th>\n",
       "      <td>-3.963630</td>\n",
       "      <td>Wildtype</td>\n",
       "    </tr>\n",
       "    <tr>\n",
       "      <th>S089</th>\n",
       "      <td>-1.782655</td>\n",
       "      <td>Wildtype</td>\n",
       "    </tr>\n",
       "    <tr>\n",
       "      <th>S090</th>\n",
       "      <td>-1.353551</td>\n",
       "      <td>Wildtype</td>\n",
       "    </tr>\n",
       "    <tr>\n",
       "      <th>S091</th>\n",
       "      <td>-1.377170</td>\n",
       "      <td>Wildtype</td>\n",
       "    </tr>\n",
       "    <tr>\n",
       "      <th>S093</th>\n",
       "      <td>-0.992647</td>\n",
       "      <td>Wildtype</td>\n",
       "    </tr>\n",
       "    <tr>\n",
       "      <th>S094</th>\n",
       "      <td>-2.171137</td>\n",
       "      <td>Wildtype</td>\n",
       "    </tr>\n",
       "    <tr>\n",
       "      <th>S095</th>\n",
       "      <td>-2.095222</td>\n",
       "      <td>Mutated</td>\n",
       "    </tr>\n",
       "    <tr>\n",
       "      <th>S096</th>\n",
       "      <td>-0.882012</td>\n",
       "      <td>Wildtype</td>\n",
       "    </tr>\n",
       "    <tr>\n",
       "      <th>S097</th>\n",
       "      <td>-1.154500</td>\n",
       "      <td>Wildtype</td>\n",
       "    </tr>\n",
       "    <tr>\n",
       "      <th>S098</th>\n",
       "      <td>-3.535514</td>\n",
       "      <td>Wildtype</td>\n",
       "    </tr>\n",
       "    <tr>\n",
       "      <th>S100</th>\n",
       "      <td>-0.615135</td>\n",
       "      <td>Wildtype</td>\n",
       "    </tr>\n",
       "    <tr>\n",
       "      <th>S101</th>\n",
       "      <td>-1.993812</td>\n",
       "      <td>Wildtype</td>\n",
       "    </tr>\n",
       "    <tr>\n",
       "      <th>S102</th>\n",
       "      <td>-3.570734</td>\n",
       "      <td>Wildtype</td>\n",
       "    </tr>\n",
       "    <tr>\n",
       "      <th>S103</th>\n",
       "      <td>-1.216512</td>\n",
       "      <td>Wildtype</td>\n",
       "    </tr>\n",
       "    <tr>\n",
       "      <th>S104</th>\n",
       "      <td>-2.118497</td>\n",
       "      <td>Wildtype</td>\n",
       "    </tr>\n",
       "    <tr>\n",
       "      <th>S106</th>\n",
       "      <td>-0.109524</td>\n",
       "      <td>Wildtype</td>\n",
       "    </tr>\n",
       "    <tr>\n",
       "      <th>S107</th>\n",
       "      <td>-1.490512</td>\n",
       "      <td>Wildtype</td>\n",
       "    </tr>\n",
       "    <tr>\n",
       "      <th>S108</th>\n",
       "      <td>-2.350744</td>\n",
       "      <td>Wildtype</td>\n",
       "    </tr>\n",
       "    <tr>\n",
       "      <th>S110</th>\n",
       "      <td>-2.907889</td>\n",
       "      <td>Wildtype</td>\n",
       "    </tr>\n",
       "    <tr>\n",
       "      <th>S111</th>\n",
       "      <td>1.550679</td>\n",
       "      <td>Wildtype</td>\n",
       "    </tr>\n",
       "  </tbody>\n",
       "</table>\n",
       "<p>83 rows × 2 columns</p>\n",
       "</div>"
      ],
      "text/plain": [
       "           MUC5B_proteomics binary_mutations\n",
       "Sample_ID                                   \n",
       "S002              -3.858714         Wildtype\n",
       "S006              -3.910196         Wildtype\n",
       "S007              -1.151332         Wildtype\n",
       "S009              -0.495826         Wildtype\n",
       "S011              -2.622559         Wildtype\n",
       "S012              -1.337421         Wildtype\n",
       "S013               2.278562          Mutated\n",
       "S015              -0.867685         Wildtype\n",
       "S016              -2.308010         Wildtype\n",
       "S019              -0.408313         Wildtype\n",
       "S022              -1.012927         Wildtype\n",
       "S023              -2.468784         Wildtype\n",
       "S024              -1.118222         Wildtype\n",
       "S025              -1.100902         Wildtype\n",
       "S026               0.655042          Mutated\n",
       "S027              -0.586151         Wildtype\n",
       "S028              -1.030148         Wildtype\n",
       "S029              -0.608082          Mutated\n",
       "S031              -1.444438         Wildtype\n",
       "S033              -1.527597          Mutated\n",
       "S035              -1.053211         Wildtype\n",
       "S037              -0.603202         Wildtype\n",
       "S038              -0.674528         Wildtype\n",
       "S039              -0.259288          Mutated\n",
       "S040              -1.212181         Wildtype\n",
       "S041              -0.764971         Wildtype\n",
       "S042              -3.074770         Wildtype\n",
       "S043              -0.374436          Mutated\n",
       "S044              -0.368930         Wildtype\n",
       "S045              -0.677451         Wildtype\n",
       "...                     ...              ...\n",
       "S070              -2.064551         Wildtype\n",
       "S071              -2.827222         Wildtype\n",
       "S074              -0.663747         Wildtype\n",
       "S076              -0.628144         Wildtype\n",
       "S078               0.888259         Wildtype\n",
       "S079               2.581530         Wildtype\n",
       "S080               2.536026          Mutated\n",
       "S084              -0.936909         Wildtype\n",
       "S085              -1.745124         Wildtype\n",
       "S087               3.052083         Wildtype\n",
       "S088              -3.963630         Wildtype\n",
       "S089              -1.782655         Wildtype\n",
       "S090              -1.353551         Wildtype\n",
       "S091              -1.377170         Wildtype\n",
       "S093              -0.992647         Wildtype\n",
       "S094              -2.171137         Wildtype\n",
       "S095              -2.095222          Mutated\n",
       "S096              -0.882012         Wildtype\n",
       "S097              -1.154500         Wildtype\n",
       "S098              -3.535514         Wildtype\n",
       "S100              -0.615135         Wildtype\n",
       "S101              -1.993812         Wildtype\n",
       "S102              -3.570734         Wildtype\n",
       "S103              -1.216512         Wildtype\n",
       "S104              -2.118497         Wildtype\n",
       "S106              -0.109524         Wildtype\n",
       "S107              -1.490512         Wildtype\n",
       "S108              -2.350744         Wildtype\n",
       "S110              -2.907889         Wildtype\n",
       "S111               1.550679         Wildtype\n",
       "\n",
       "[83 rows x 2 columns]"
      ]
     },
     "execution_count": 25,
     "metadata": {},
     "output_type": "execute_result"
    }
   ],
   "source": [
    "ov_status = f.format_cis_comparison_data(ovarian_object, ov_omics, 'proteomics', gene)\n",
    "\n",
    "print(\"Doing t-test comparison for mutation status\\n\")\n",
    "significant_pval_results = al.wrap_ttest(ov_status, 'binary_mutations', omics_col_list)\n",
    "print(significant_pval_results)\n",
    "\n",
    "ov_cis_boxplot = sns.boxplot(data = ov_status, x = 'binary_mutations',\n",
    "                          y = prot_col, order = [\"Wildtype\",\"Mutated\"], showfliers = False)  \n",
    "ov_cis_boxplot.set_title(gene + \" Effect on cis Proteomics in Ovarian Tumors\")\n",
    "ov_cis_boxplot = sns.stripplot(data = ov_status, x = 'binary_mutations',y = prot_col, jitter = True, \n",
    "                        color = \".3\", order = [\"Wildtype\",\"Mutated\"])\n",
    "ov_cis_boxplot.set(xlabel = gene + \" Mutation Status in Tumors\", ylabel = \"Proteomics\")\n",
    "plt.show()\n",
    "ov_status"
   ]
  },
  {
   "cell_type": "code",
   "execution_count": 26,
   "metadata": {},
   "outputs": [
    {
     "name": "stdout",
     "output_type": "stream",
     "text": [
      "Only missence type mutations found for MUC5B. Not possible to compare mutation types.\n"
     ]
    },
    {
     "ename": "UnboundLocalError",
     "evalue": "local variable 'binary_mut_omics' referenced before assignment",
     "output_type": "error",
     "traceback": [
      "\u001b[1;31m---------------------------------------------------------------------------\u001b[0m",
      "\u001b[1;31mUnboundLocalError\u001b[0m                         Traceback (most recent call last)",
      "\u001b[1;32m<ipython-input-26-e1c631a57dec>\u001b[0m in \u001b[0;36m<module>\u001b[1;34m\u001b[0m\n\u001b[1;32m----> 1\u001b[1;33m \u001b[0mov_type\u001b[0m \u001b[1;33m=\u001b[0m \u001b[0mf\u001b[0m\u001b[1;33m.\u001b[0m\u001b[0mget_missence_truncation_comparison\u001b[0m\u001b[1;33m(\u001b[0m\u001b[0movarian_object\u001b[0m\u001b[1;33m,\u001b[0m \u001b[0mov_omics\u001b[0m\u001b[1;33m,\u001b[0m \u001b[1;34m'proteomics'\u001b[0m\u001b[1;33m,\u001b[0m \u001b[0mgene\u001b[0m\u001b[1;33m)\u001b[0m\u001b[1;33m\u001b[0m\u001b[1;33m\u001b[0m\u001b[0m\n\u001b[0m\u001b[0;32m      2\u001b[0m \u001b[1;33m\u001b[0m\u001b[0m\n\u001b[0;32m      3\u001b[0m \u001b[0mprint\u001b[0m\u001b[1;33m(\u001b[0m\u001b[1;34m\"Doing t-test comparison for mutation type\\n\"\u001b[0m\u001b[1;33m)\u001b[0m\u001b[1;33m\u001b[0m\u001b[1;33m\u001b[0m\u001b[0m\n\u001b[0;32m      4\u001b[0m \u001b[0msignificant_pval_results\u001b[0m \u001b[1;33m=\u001b[0m \u001b[0mal\u001b[0m\u001b[1;33m.\u001b[0m\u001b[0mwrap_ttest\u001b[0m\u001b[1;33m(\u001b[0m\u001b[0mov_type\u001b[0m\u001b[1;33m,\u001b[0m \u001b[1;34m'binary_mutations'\u001b[0m\u001b[1;33m,\u001b[0m \u001b[0momics_col_list\u001b[0m\u001b[1;33m)\u001b[0m\u001b[1;33m\u001b[0m\u001b[1;33m\u001b[0m\u001b[0m\n\u001b[0;32m      5\u001b[0m \u001b[0mprint\u001b[0m\u001b[1;33m(\u001b[0m\u001b[0msignificant_pval_results\u001b[0m\u001b[1;33m)\u001b[0m\u001b[1;33m\u001b[0m\u001b[1;33m\u001b[0m\u001b[0m\n",
      "\u001b[1;32m~\\GitHub\\WhenMutationsMatter\\Brittany\\functions.py\u001b[0m in \u001b[0;36mget_missence_truncation_comparison\u001b[1;34m(cancer_object, specific_omics, omics_name, gene)\u001b[0m\n\u001b[0;32m     74\u001b[0m         \u001b[0mmissence_omics\u001b[0m \u001b[1;33m=\u001b[0m \u001b[0mmissence_omics\u001b[0m\u001b[1;33m.\u001b[0m\u001b[0massign\u001b[0m\u001b[1;33m(\u001b[0m\u001b[0mbinary_mutations\u001b[0m \u001b[1;33m=\u001b[0m \u001b[1;34m'Missence'\u001b[0m\u001b[1;33m)\u001b[0m\u001b[1;33m\u001b[0m\u001b[1;33m\u001b[0m\u001b[0m\n\u001b[0;32m     75\u001b[0m         \u001b[0mcolumns_to_drop\u001b[0m \u001b[1;33m=\u001b[0m \u001b[1;33m[\u001b[0m\u001b[0mgene\u001b[0m\u001b[1;33m+\u001b[0m\u001b[1;34m\"_Mutation\"\u001b[0m\u001b[1;33m,\u001b[0m \u001b[0mgene\u001b[0m\u001b[1;33m+\u001b[0m\u001b[1;34m\"_Location\"\u001b[0m\u001b[1;33m,\u001b[0m \u001b[0mgene\u001b[0m\u001b[1;33m+\u001b[0m\u001b[1;34m\"_Mutation_Status\"\u001b[0m\u001b[1;33m,\u001b[0m \u001b[1;34m\"Sample_Status\"\u001b[0m\u001b[1;33m]\u001b[0m\u001b[1;33m\u001b[0m\u001b[1;33m\u001b[0m\u001b[0m\n\u001b[1;32m---> 76\u001b[1;33m         \u001b[0mbinary_mut_omics\u001b[0m \u001b[1;33m=\u001b[0m \u001b[0mbinary_mut_omics\u001b[0m\u001b[1;33m.\u001b[0m\u001b[0mdrop\u001b[0m\u001b[1;33m(\u001b[0m\u001b[0mcolumns_to_drop\u001b[0m\u001b[1;33m,\u001b[0m \u001b[0maxis\u001b[0m \u001b[1;33m=\u001b[0m \u001b[1;36m1\u001b[0m\u001b[1;33m)\u001b[0m\u001b[1;33m\u001b[0m\u001b[1;33m\u001b[0m\u001b[0m\n\u001b[0m\u001b[0;32m     77\u001b[0m         \u001b[1;32mreturn\u001b[0m \u001b[0mbinary_mut_omics\u001b[0m\u001b[1;33m\u001b[0m\u001b[1;33m\u001b[0m\u001b[0m\n\u001b[0;32m     78\u001b[0m \u001b[1;33m\u001b[0m\u001b[0m\n",
      "\u001b[1;31mUnboundLocalError\u001b[0m: local variable 'binary_mut_omics' referenced before assignment"
     ]
    }
   ],
   "source": [
    "ov_type = f.get_missence_truncation_comparison(ovarian_object, ov_omics, 'proteomics', gene)\n",
    "\n",
    "print(\"Doing t-test comparison for mutation type\\n\")\n",
    "significant_pval_results = al.wrap_ttest(ov_type, 'binary_mutations', omics_col_list)\n",
    "print(significant_pval_results)\n",
    "\n",
    "ov_cis_boxplot = sns.boxplot(data = ov_type, x = 'binary_mutations',\n",
    "                          y = prot_col, order = [\"Missence\",\"Truncation\"], showfliers = False)  \n",
    "ov_cis_boxplot.set_title(gene + \" Mutation Type Effect on cis Proteomics in Ovarian Tumors\")\n",
    "ov_cis_boxplot = sns.stripplot(data= ov_type, x = 'binary_mutations',\n",
    "                            y = prot_col,jitter = True, color = \".3\", order = [\"Missence\",\"Truncation\"])\n",
    "ov_cis_boxplot.set(xlabel = gene + \" Mutation Type\", ylabel = 'Proteomics')"
   ]
  },
  {
   "cell_type": "markdown",
   "metadata": {},
   "source": [
    "# Visualize Pancancer effects"
   ]
  },
  {
   "cell_type": "code",
   "execution_count": null,
   "metadata": {},
   "outputs": [],
   "source": [
    "# Create a dataframe with pancancer data for mutation status and type\n",
    "en_mut_status = en_status.assign(Cancer= 'Endo')\n",
    "co_mut_status = co_status.assign(Cancer= 'Colon')\n",
    "ov_mut_status = ov_status.assign(Cancer= 'Ovarian')\n",
    "en_mut_type = en_type.assign(Cancer= 'Endo')\n",
    "co_mut_type = co_type.assign(Cancer= 'Colon')\n",
    "ov_mut_type = ov_type.assign(Cancer= 'Ovarian')\n",
    "\n",
    "pancancer_data = pd.concat([en_mut_status, co_mut_status, ov_mut_status, en_mut_type, co_mut_type, ov_mut_type]) \n",
    "pancancer_df = pd.melt(pancancer_data, id_vars=['Cancer','binary_mutations'], value_name= 'Proteomics')  \n",
    "\n",
    "# Visualize mutation status (mutated vs wildtype) accross cancers\n",
    "plt.rcParams['figure.figsize']=(14,8) #size of plot\n",
    "cis_status = sns.boxplot(x='Cancer', y=\"Proteomics\", hue = 'binary_mutations', \n",
    "                         hue_order = ['Wildtype', 'Mutated'], data=pancancer_df, showfliers = False)    \n",
    "cis_status.set_title('Pancancer ' + gene + \" Mutation Status Effect on Proteomics Abundance\")\n",
    "cis_status = sns.stripplot(x='Cancer', y=\"Proteomics\", hue = 'binary_mutations', data=pancancer_df,\n",
    "                            jitter = True, color = \".3\", hue_order = ['Wildtype', 'Mutated'], dodge = True)\n",
    "cis_status.set(xlabel = gene + \" Mutation Status\", ylabel = 'Proteomics')\n",
    "\n",
    "plt.show()\n",
    "\n",
    "plt.clf()\n",
    "plt.close()\n",
    "\n",
    "# Visualize mutation status (missense vs truncation) accross cancers\n",
    "plt.rcParams['figure.figsize']=(14,8) #size of plot\n",
    "cis_status = sns.boxplot(x='Cancer', y=\"Proteomics\", hue = 'binary_mutations', \n",
    "                         hue_order = ['Wildtype', 'Missence', 'Truncation'], data = pancancer_df, showfliers = False)    \n",
    "cis_status.set_title('Pancancer ' + gene + \" Mutation Type Effect on Proteomics Abundance\")\n",
    "cis_status = sns.stripplot(x='Cancer', y=\"Proteomics\", hue = 'binary_mutations', data = pancancer_df, jitter = True, \n",
    "                           color = \".3\", hue_order = ['Wildtype', 'Missence', 'Truncation'], dodge = True)\n",
    "cis_status.set(xlabel = gene + \" Mutation Type\", ylabel = 'Proteomics')\n",
    "\n",
    "plt.show()\n",
    "\n",
    "plt.clf()\n",
    "plt.close()"
   ]
  },
  {
   "cell_type": "markdown",
   "metadata": {},
   "source": [
    "# Analysis of Results"
   ]
  },
  {
   "cell_type": "markdown",
   "metadata": {},
   "source": [
    "Endometrial and colon tumors showed decreased proteomics abundance for the tumors with the mutated gene compared to the wildtype, with endometrial tumors showing the most difference.\n",
    "All other results were insignificant. Since the ovarian dataset only contains four mutated data points, it is possible that more data collection may show that ovarian cancer follows the same trend."
   ]
  },
  {
   "cell_type": "code",
   "execution_count": null,
   "metadata": {},
   "outputs": [],
   "source": []
  }
 ],
 "metadata": {
  "kernelspec": {
   "display_name": "Python 3",
   "language": "python",
   "name": "python3"
  },
  "language_info": {
   "codemirror_mode": {
    "name": "ipython",
    "version": 3
   },
   "file_extension": ".py",
   "mimetype": "text/x-python",
   "name": "python",
   "nbconvert_exporter": "python",
   "pygments_lexer": "ipython3",
   "version": "3.7.3"
  }
 },
 "nbformat": 4,
 "nbformat_minor": 2
}
