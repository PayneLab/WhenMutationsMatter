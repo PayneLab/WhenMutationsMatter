{
 "cells": [
  {
   "cell_type": "markdown",
   "metadata": {},
   "source": [
    "# MUC5B acetylproteomics cis comparison"
   ]
  },
  {
   "cell_type": "markdown",
   "metadata": {},
   "source": [
    "## Step 1: Library Imports"
   ]
  },
  {
   "cell_type": "markdown",
   "metadata": {},
   "source": [
    "Run this cell to import the necessary libraries"
   ]
  },
  {
   "cell_type": "code",
   "execution_count": 1,
   "metadata": {},
   "outputs": [],
   "source": [
    "import pandas as pd\n",
    "import numpy as np\n",
    "import seaborn as sns\n",
    "import matplotlib.pyplot as plt\n",
    "import scipy.stats\n",
    "import re\n",
    "import sys \n",
    "sys.path.append('C:\\\\Users\\\\brittany henderson\\\\GitHub\\\\WhenMutationsMatter\\\\Brittany\\\\')\n",
    "import functions as f\n",
    "\n",
    "import cptac\n",
    "import cptac.algorithms as al"
   ]
  },
  {
   "cell_type": "markdown",
   "metadata": {},
   "source": [
    "## Step 2: Find the frequently mutated genes for Endometrial Cancer"
   ]
  },
  {
   "cell_type": "markdown",
   "metadata": {},
   "source": [
    "Enter the type of cancer and the cutoff for mutation frequency that you would like to use."
   ]
  },
  {
   "cell_type": "code",
   "execution_count": 2,
   "metadata": {},
   "outputs": [
    {
     "name": "stdout",
     "output_type": "stream",
     "text": [
      "                                    \n",
      "\n",
      "Number of Frequently Mutated Genes: 232 \n",
      "\n"
     ]
    },
    {
     "data": {
      "text/html": [
       "<div>\n",
       "<style scoped>\n",
       "    .dataframe tbody tr th:only-of-type {\n",
       "        vertical-align: middle;\n",
       "    }\n",
       "\n",
       "    .dataframe tbody tr th {\n",
       "        vertical-align: top;\n",
       "    }\n",
       "\n",
       "    .dataframe thead th {\n",
       "        text-align: right;\n",
       "    }\n",
       "</style>\n",
       "<table border=\"1\" class=\"dataframe\">\n",
       "  <thead>\n",
       "    <tr style=\"text-align: right;\">\n",
       "      <th></th>\n",
       "      <th>Gene</th>\n",
       "      <th>Unique_Samples_Mut</th>\n",
       "      <th>Missence_Mut</th>\n",
       "      <th>Truncation_Mut</th>\n",
       "    </tr>\n",
       "  </thead>\n",
       "  <tbody>\n",
       "    <tr>\n",
       "      <th>136</th>\n",
       "      <td>MUC5B</td>\n",
       "      <td>0.147368</td>\n",
       "      <td>0.136842</td>\n",
       "      <td>0.031579</td>\n",
       "    </tr>\n",
       "  </tbody>\n",
       "</table>\n",
       "</div>"
      ],
      "text/plain": [
       "      Gene  Unique_Samples_Mut  Missence_Mut  Truncation_Mut\n",
       "136  MUC5B            0.147368      0.136842        0.031579"
      ]
     },
     "execution_count": 2,
     "metadata": {},
     "output_type": "execute_result"
    }
   ],
   "source": [
    "en_object = cptac.Endometrial()\n",
    "desired_cutoff = .1\n",
    "\n",
    "endometrial_freq_mut = al.get_frequently_mutated(en_object, cutoff = desired_cutoff)\n",
    "print('\\n\\nNumber of Frequently Mutated Genes:', len(endometrial_freq_mut), '\\n')\n",
    "endometrial_freq_mut.loc[endometrial_freq_mut['Gene'] == 'MUC5B']"
   ]
  },
  {
   "cell_type": "markdown",
   "metadata": {},
   "source": [
    "## Step 3: Select MUC5B, a frequently mutated gene"
   ]
  },
  {
   "cell_type": "code",
   "execution_count": 3,
   "metadata": {},
   "outputs": [],
   "source": [
    "gene = 'MUC5B'"
   ]
  },
  {
   "cell_type": "markdown",
   "metadata": {},
   "source": [
    "## Step 4: Select acetylproteomics"
   ]
  },
  {
   "cell_type": "code",
   "execution_count": 4,
   "metadata": {},
   "outputs": [],
   "source": [
    "omics = en_object.get_acetylproteomics()"
   ]
  },
  {
   "cell_type": "markdown",
   "metadata": {},
   "source": [
    "## Step 5: cis comparison "
   ]
  },
  {
   "cell_type": "markdown",
   "metadata": {},
   "source": [
    "Determine if the DNA mutation has an effect on the omics measurement. In order to do this, we have a few steps in code. The first three steps are found in the format_phospho_cis_comparison_data function.\n",
    "1. get a table with both the omics and mutation data for tumors\n",
    "2. get a binary column from the mutation data to separate our samples\n",
    "3. format data frame to be used in the T-test\n",
    "4. send data to the T-test."
   ]
  },
  {
   "cell_type": "code",
   "execution_count": 5,
   "metadata": {},
   "outputs": [],
   "source": [
    "# Create dataframe in order to do comparisons with wrap_ttest\n",
    "omics_and_mut = en_object.join_omics_to_mutations(\n",
    "    mutations_genes = gene, omics_df_name = 'acetylproteomics', omics_genes = gene)\n",
    "\n",
    "# Create the binary column needed to do the comparison (later on)\n",
    "omics_and_mut['binary_mutations'] = omics_and_mut[gene+'_Mutation_Status'].apply(\n",
    "    lambda x: 'Wildtype' if x == 'Wildtype_Tumor' else 'Mutated')\n",
    "\n",
    "# Step 3 - format for loop (only phospho)\n",
    "tumors = omics_and_mut.loc[omics_and_mut['Sample_Status'] == 'Tumor'] #drop Normal samples\n",
    "columns_to_drop = [gene+\"_Mutation\", gene+\"_Location\", gene+\"_Mutation_Status\", \"Sample_Status\"]\n",
    "binary_acetyl = tumors.drop(columns_to_drop, axis = 1) # data frame with binary\n",
    "only_acetyl = tumors.drop(\"binary_mutations\", axis = 1)"
   ]
  },
  {
   "cell_type": "code",
   "execution_count": 6,
   "metadata": {},
   "outputs": [
    {
     "name": "stdout",
     "output_type": "stream",
     "text": [
      "Doing t-test comparison for mutation status\n",
      "\n",
      "Incorrectly Formatted Dataframe!\n"
     ]
    },
    {
     "name": "stderr",
     "output_type": "stream",
     "text": [
      "C:\\Users\\brittany henderson\\Anaconda3\\envs\\Research\\lib\\site-packages\\numpy\\core\\fromnumeric.py:3367: RuntimeWarning: Degrees of freedom <= 0 for slice\n",
      "  **kwargs)\n",
      "C:\\Users\\brittany henderson\\Anaconda3\\envs\\Research\\lib\\site-packages\\numpy\\core\\_methods.py:132: RuntimeWarning: invalid value encountered in double_scalars\n",
      "  ret = ret.dtype.type(ret / rcount)\n",
      "C:\\Users\\brittany henderson\\Anaconda3\\envs\\Research\\lib\\site-packages\\scipy\\stats\\_distn_infrastructure.py:877: RuntimeWarning: invalid value encountered in greater\n",
      "  return (self.a < x) & (x < self.b)\n",
      "C:\\Users\\brittany henderson\\Anaconda3\\envs\\Research\\lib\\site-packages\\scipy\\stats\\_distn_infrastructure.py:877: RuntimeWarning: invalid value encountered in less\n",
      "  return (self.a < x) & (x < self.b)\n",
      "C:\\Users\\brittany henderson\\Anaconda3\\envs\\Research\\lib\\site-packages\\scipy\\stats\\_distn_infrastructure.py:1831: RuntimeWarning: invalid value encountered in less_equal\n",
      "  cond2 = cond0 & (x <= self.a)\n"
     ]
    }
   ],
   "source": [
    "#FIX!\n",
    "print(\"Doing t-test comparison for mutation status\\n\")\n",
    "omics_col_list = list(only_acetyl.columns) \n",
    "sig_pval_mut_status = al.wrap_ttest(binary_acetyl, 'binary_mutations', omics_col_list)\n",
    "sig_pval_mut_status"
   ]
  },
  {
   "cell_type": "code",
   "execution_count": 26,
   "metadata": {},
   "outputs": [
    {
     "data": {
      "text/html": [
       "<div>\n",
       "<style scoped>\n",
       "    .dataframe tbody tr th:only-of-type {\n",
       "        vertical-align: middle;\n",
       "    }\n",
       "\n",
       "    .dataframe tbody tr th {\n",
       "        vertical-align: top;\n",
       "    }\n",
       "\n",
       "    .dataframe thead th {\n",
       "        text-align: right;\n",
       "    }\n",
       "</style>\n",
       "<table border=\"1\" class=\"dataframe\">\n",
       "  <thead>\n",
       "    <tr style=\"text-align: right;\">\n",
       "      <th></th>\n",
       "      <th>acetylproteomics</th>\n",
       "      <th>binary_mutations</th>\n",
       "      <th>specific_acetyl</th>\n",
       "    </tr>\n",
       "    <tr>\n",
       "      <th>Sample_ID</th>\n",
       "      <th></th>\n",
       "      <th></th>\n",
       "      <th></th>\n",
       "    </tr>\n",
       "  </thead>\n",
       "  <tbody>\n",
       "    <tr>\n",
       "      <th>S003</th>\n",
       "      <td>0.84450</td>\n",
       "      <td>Wildtype</td>\n",
       "      <td>MUC5B-K479</td>\n",
       "    </tr>\n",
       "    <tr>\n",
       "      <th>S017</th>\n",
       "      <td>-0.50066</td>\n",
       "      <td>Mutated</td>\n",
       "      <td>MUC5B-K479</td>\n",
       "    </tr>\n",
       "    <tr>\n",
       "      <th>S039</th>\n",
       "      <td>-0.94850</td>\n",
       "      <td>Wildtype</td>\n",
       "      <td>MUC5B-K479</td>\n",
       "    </tr>\n",
       "    <tr>\n",
       "      <th>S045</th>\n",
       "      <td>0.63500</td>\n",
       "      <td>Wildtype</td>\n",
       "      <td>MUC5B-K479</td>\n",
       "    </tr>\n",
       "    <tr>\n",
       "      <th>S075</th>\n",
       "      <td>0.27250</td>\n",
       "      <td>Wildtype</td>\n",
       "      <td>MUC5B-K479</td>\n",
       "    </tr>\n",
       "  </tbody>\n",
       "</table>\n",
       "</div>"
      ],
      "text/plain": [
       "           acetylproteomics binary_mutations specific_acetyl\n",
       "Sample_ID                                                   \n",
       "S003                0.84450         Wildtype      MUC5B-K479\n",
       "S017               -0.50066          Mutated      MUC5B-K479\n",
       "S039               -0.94850         Wildtype      MUC5B-K479\n",
       "S045                0.63500         Wildtype      MUC5B-K479\n",
       "S075                0.27250         Wildtype      MUC5B-K479"
      ]
     },
     "execution_count": 26,
     "metadata": {},
     "output_type": "execute_result"
    }
   ],
   "source": [
    "# Create data frame with all significant acetyl sites in order to graph\n",
    "acetyl_list = list(sig_pval_mut_status['Comparison'])\n",
    "sig_acetyl_df = pd.melt(binary_acetyl, id_vars = 'binary_mutations', \n",
    "            value_vars = acetyl_list, var_name = 'specific_acetyl', value_name = 'acetylproteomics')\n",
    "sig_acetyl_df.replace(to_replace = '_acetylproteomics', value = '', \n",
    "                        inplace = True, regex = True) # shorten column names"
   ]
  },
  {
   "cell_type": "code",
   "execution_count": 27,
   "metadata": {},
   "outputs": [
    {
     "data": {
      "image/png": "[encoded data removed]",
      "text/plain": [
       "<Figure size 720x576 with 1 Axes>"
      ]
     },
     "metadata": {},
     "output_type": "display_data"
    }
   ],
   "source": [
    "# Step 5 - Create boxplot to compare wildtype and mutated effect on omics data\n",
    "plt.rcParams['figure.figsize']=(10,8) #size of plot\n",
    "sns.set(font_scale = 1.2)\n",
    "en_cis_boxplot = sns.boxplot(data = sig_pval_mut_status, x = 'specific_acetyl', y = 'acetylproteomics', hue = 'binary_mutations',\n",
    "                             hue_order = [\"Wildtype\",\"Mutated\"], showfliers = False)  \n",
    "en_cis_boxplot.set_title(gene + \" Effect on cis Acetylproteomics in Endometrial Tumors\")\n",
    "en_cis_boxplot = sns.stripplot(data= sig_pval_mut_status, x = 'specific_acetyl', y = 'acetylproteomics', hue = 'binary_mutations',\n",
    "                               hue_order = [\"Wildtype\",\"Mutated\"], jitter = True, color = \".3\", dodge = True)\n",
    "en_cis_boxplot.set(xlabel = 'Acetylation Sites', ylabel = \"Acetylproteomics\")\n",
    "en_cis_boxplot.set_xticklabels(en_cis_boxplot.get_xticklabels(), rotation = 30)\n",
    "plt.show()\n",
    "plt.clf()\n",
    "plt.close()"
   ]
  },
  {
   "cell_type": "code",
   "execution_count": 16,
   "metadata": {},
   "outputs": [
    {
     "data": {
      "text/html": [
       "<div>\n",
       "<style scoped>\n",
       "    .dataframe tbody tr th:only-of-type {\n",
       "        vertical-align: middle;\n",
       "    }\n",
       "\n",
       "    .dataframe tbody tr th {\n",
       "        vertical-align: top;\n",
       "    }\n",
       "\n",
       "    .dataframe thead th {\n",
       "        text-align: right;\n",
       "    }\n",
       "</style>\n",
       "<table border=\"1\" class=\"dataframe\">\n",
       "  <thead>\n",
       "    <tr style=\"text-align: right;\">\n",
       "      <th></th>\n",
       "    </tr>\n",
       "  </thead>\n",
       "  <tbody>\n",
       "  </tbody>\n",
       "</table>\n",
       "</div>"
      ],
      "text/plain": [
       "Empty DataFrame\n",
       "Columns: []\n",
       "Index: []"
      ]
     },
     "execution_count": 16,
     "metadata": {},
     "output_type": "execute_result"
    }
   ],
   "source": [
    "# check all or just sig from last test?\n",
    "mutation_type_pval = pd.DataFrame()\n",
    "for name in acetyl_list:\n",
    "    formated_acetyl = f.get_missence_truncation_phospho(en_object, 'acetylproteomics', gene, name)\n",
    "    check_num_sample = len(formated_acetyl) > 9\n",
    "    if check_num_sample:\n",
    "        omics_col_list = [name] #list of specific column label (for ttest)\n",
    "        significant_pval_results = al.wrap_ttest(formated_acetyl, 'binary_mutations', omics_col_list)\n",
    "        mutation_type_pval = mutation_type_pval.append(significant_pval_results, ignore_index = True)\n",
    "mutation_type_pval"
   ]
  },
  {
   "cell_type": "markdown",
   "metadata": {},
   "source": [
    "# Repeat with the Colon dataset"
   ]
  },
  {
   "cell_type": "markdown",
   "metadata": {},
   "source": [
    "Go through the same process, this time using the Colon dataset."
   ]
  },
  {
   "cell_type": "code",
   "execution_count": 17,
   "metadata": {},
   "outputs": [
    {
     "name": "stdout",
     "output_type": "stream",
     "text": [
      "                                    \n",
      "\n",
      "Number of Frequently Mutated Genes: 612 \n",
      "\n"
     ]
    },
    {
     "data": {
      "text/html": [
       "<div>\n",
       "<style scoped>\n",
       "    .dataframe tbody tr th:only-of-type {\n",
       "        vertical-align: middle;\n",
       "    }\n",
       "\n",
       "    .dataframe tbody tr th {\n",
       "        vertical-align: top;\n",
       "    }\n",
       "\n",
       "    .dataframe thead th {\n",
       "        text-align: right;\n",
       "    }\n",
       "</style>\n",
       "<table border=\"1\" class=\"dataframe\">\n",
       "  <thead>\n",
       "    <tr style=\"text-align: right;\">\n",
       "      <th></th>\n",
       "      <th>Gene</th>\n",
       "      <th>Unique_Samples_Mut</th>\n",
       "      <th>Missence_Mut</th>\n",
       "      <th>Truncation_Mut</th>\n",
       "    </tr>\n",
       "  </thead>\n",
       "  <tbody>\n",
       "    <tr>\n",
       "      <th>326</th>\n",
       "      <td>MUC5B</td>\n",
       "      <td>0.278351</td>\n",
       "      <td>0.257732</td>\n",
       "      <td>0.051546</td>\n",
       "    </tr>\n",
       "  </tbody>\n",
       "</table>\n",
       "</div>"
      ],
      "text/plain": [
       "      Gene  Unique_Samples_Mut  Missence_Mut  Truncation_Mut\n",
       "326  MUC5B            0.278351      0.257732        0.051546"
      ]
     },
     "execution_count": 17,
     "metadata": {},
     "output_type": "execute_result"
    }
   ],
   "source": [
    "colon_object = cptac.Colon()\n",
    "desired_cutoff = .1\n",
    "\n",
    "colon_freq_mut = al.get_frequently_mutated(colon_object, cutoff = desired_cutoff)\n",
    "print('\\n\\nNumber of Frequently Mutated Genes:', len(colon_freq_mut), '\\n')\n",
    "colon_freq_mut.loc[colon_freq_mut['Gene'] == 'MUC5B']"
   ]
  },
  {
   "cell_type": "code",
   "execution_count": 18,
   "metadata": {},
   "outputs": [],
   "source": [
    "gene = 'MUC5B'"
   ]
  },
  {
   "cell_type": "code",
   "execution_count": 20,
   "metadata": {},
   "outputs": [],
   "source": [
    "# this cell gives an error because there is not a acetylproteomic dataframe for the colon dataset\n",
    "#omics_mutations = colon_object.join_omics_to_mutations(\n",
    "#        mutations_genes = gene, omics_df_name = 'acetylproteomics', omics_genes = gene)"
   ]
  },
  {
   "cell_type": "markdown",
   "metadata": {},
   "source": [
    "Acetylproteomics dataframe is not included in the colon dataset. Not possible to do the cis comparison."
   ]
  },
  {
   "cell_type": "markdown",
   "metadata": {},
   "source": [
    "# Repeat with the Ovarian dataset"
   ]
  },
  {
   "cell_type": "code",
   "execution_count": 21,
   "metadata": {},
   "outputs": [
    {
     "name": "stdout",
     "output_type": "stream",
     "text": [
      "                                    \n",
      "\n",
      "Number of Frequently Mutated Genes: 16 \n",
      "\n"
     ]
    },
    {
     "data": {
      "text/html": [
       "<div>\n",
       "<style scoped>\n",
       "    .dataframe tbody tr th:only-of-type {\n",
       "        vertical-align: middle;\n",
       "    }\n",
       "\n",
       "    .dataframe tbody tr th {\n",
       "        vertical-align: top;\n",
       "    }\n",
       "\n",
       "    .dataframe thead th {\n",
       "        text-align: right;\n",
       "    }\n",
       "</style>\n",
       "<table border=\"1\" class=\"dataframe\">\n",
       "  <thead>\n",
       "    <tr style=\"text-align: right;\">\n",
       "      <th></th>\n",
       "      <th>Gene</th>\n",
       "      <th>Unique_Samples_Mut</th>\n",
       "      <th>Missence_Mut</th>\n",
       "      <th>Truncation_Mut</th>\n",
       "    </tr>\n",
       "  </thead>\n",
       "  <tbody>\n",
       "    <tr>\n",
       "      <th>9</th>\n",
       "      <td>MUC5B</td>\n",
       "      <td>0.108434</td>\n",
       "      <td>0.108434</td>\n",
       "      <td>0.0</td>\n",
       "    </tr>\n",
       "  </tbody>\n",
       "</table>\n",
       "</div>"
      ],
      "text/plain": [
       "    Gene  Unique_Samples_Mut  Missence_Mut  Truncation_Mut\n",
       "9  MUC5B            0.108434      0.108434             0.0"
      ]
     },
     "execution_count": 21,
     "metadata": {},
     "output_type": "execute_result"
    }
   ],
   "source": [
    "ov_object = cptac.Ovarian()\n",
    "desired_cutoff = .1\n",
    "\n",
    "ov_freq_mut = al.get_frequently_mutated(ov_object, cutoff = desired_cutoff)\n",
    "print('\\n\\nNumber of Frequently Mutated Genes:', len(ov_freq_mut), '\\n')\n",
    "ov_freq_mut.loc[ov_freq_mut['Gene'] == 'MUC5B']"
   ]
  },
  {
   "cell_type": "code",
   "execution_count": 22,
   "metadata": {},
   "outputs": [],
   "source": [
    "gene = 'MUC5B'\n",
    "\n",
    "ov_omics = ov_object.get_phosphoproteomics()"
   ]
  },
  {
   "cell_type": "code",
   "execution_count": 23,
   "metadata": {},
   "outputs": [
    {
     "name": "stdout",
     "output_type": "stream",
     "text": [
      "Warning: MUC5B did not match any columns in phosphoproteomics dataframe. MUC5B_phosphoproteomics column inserted, but filled with NaN.\n"
     ]
    }
   ],
   "source": [
    "omics_mutations = colon_object.join_omics_to_mutations(\n",
    "        mutations_genes = gene, omics_df_name = 'phosphoproteomics', omics_genes = gene)"
   ]
  },
  {
   "cell_type": "markdown",
   "metadata": {},
   "source": [
    "No data for MUC5B acetylproteomics in the ovarian dataset. Not possible to do cis comparison."
   ]
  },
  {
   "cell_type": "markdown",
   "metadata": {},
   "source": [
    "# Analysis of Results"
   ]
  },
  {
   "cell_type": "markdown",
   "metadata": {},
   "source": [
    "Only the endometrial dataset contained data for MUC5B acetylproteomics. No comparisons were significant."
   ]
  },
  {
   "cell_type": "code",
   "execution_count": null,
   "metadata": {},
   "outputs": [],
   "source": []
  }
 ],
 "metadata": {
  "kernelspec": {
   "display_name": "Python 3",
   "language": "python",
   "name": "python3"
  },
  "language_info": {
   "codemirror_mode": {
    "name": "ipython",
    "version": 3
   },
   "file_extension": ".py",
   "mimetype": "text/x-python",
   "name": "python",
   "nbconvert_exporter": "python",
   "pygments_lexer": "ipython3",
   "version": "3.7.3"
  }
 },
 "nbformat": 4,
 "nbformat_minor": 2
}
