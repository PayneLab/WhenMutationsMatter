{
 "cells": [
  {
   "cell_type": "code",
   "execution_count": 1,
   "metadata": {},
   "outputs": [],
   "source": [
    "import pandas as pd\n",
    "import numpy as np\n",
    "import seaborn as sns\n",
    "import matplotlib.pyplot as plt\n",
    "import scipy.stats\n",
    "import re\n",
    "import sys \n",
    "\n",
    "import cptac\n",
    "import cptac.utils as u"
   ]
  },
  {
   "cell_type": "code",
   "execution_count": 2,
   "metadata": {},
   "outputs": [
    {
     "name": "stdout",
     "output_type": "stream",
     "text": [
      "                                    \r"
     ]
    }
   ],
   "source": [
    "c1 = cptac.Endometrial()\n",
    "c2 = cptac.Colon()"
   ]
  },
  {
   "cell_type": "code",
   "execution_count": 3,
   "metadata": {},
   "outputs": [],
   "source": [
    "cancer1 = \"Endometrial\"\n",
    "cancer2 = \"Colon\"\n",
    "gene = 'ARID1A'"
   ]
  },
  {
   "cell_type": "code",
   "execution_count": 4,
   "metadata": {},
   "outputs": [
    {
     "name": "stderr",
     "output_type": "stream",
     "text": [
      "Warning: In joining the somatic_mutation table, no mutations were found for the following samples, so they were filled with Wildtype_Tumor or Wildtype_Normal: 101 samples for the ARID1A gene (C:\\Users\\brittany henderson\\Anaconda3\\envs\\Research\\lib\\site-packages\\ipykernel_launcher.py, line 6)\n"
     ]
    }
   ],
   "source": [
    "#GBM ttest\n",
    "# Step 1 - Create dataframe in order to do comparisons with wrap_ttest\n",
    "prot = c1.get_proteomics()\n",
    "prot_list = list(prot.columns)\n",
    "prot_and_mutations = c1.join_omics_to_mutations(\n",
    "    mutations_genes = [gene], omics_df_name = 'proteomics', omics_genes = prot_list)  \n",
    "\n",
    "# Step 2 - Create binary column \n",
    "prot_and_mutations['binary_mutations'] = np.where(\n",
    "            prot_and_mutations[gene+'_Mutation_Status'] == 'Wildtype_Tumor', 'Wildtype', 'Mutated')\n",
    "\n",
    "# Step 3 - Format the dataframe correctly for the T-test(just omics and binary columns for tumors)\n",
    "tumors = prot_and_mutations[prot_and_mutations.Sample_Status == 'Tumor'] #drop Normal samples\n",
    "columns_to_drop = [gene+\"_Mutation\", gene+\"_Location\", gene+\"_Mutation_Status\", \"Sample_Status\"]\n",
    "mut_status = tumors.drop(columns_to_drop, axis = 1)\n",
    "mut_status = mut_status.dropna(axis=1,how='all')"
   ]
  },
  {
   "cell_type": "code",
   "execution_count": 5,
   "metadata": {},
   "outputs": [
    {
     "name": "stdout",
     "output_type": "stream",
     "text": [
      "Doing t-test comparisons for GBM\n",
      "\n"
     ]
    },
    {
     "name": "stderr",
     "output_type": "stream",
     "text": [
      "C:\\Users\\brittany henderson\\Anaconda3\\envs\\Research\\lib\\site-packages\\numpy\\core\\fromnumeric.py:3367: RuntimeWarning: Degrees of freedom <= 0 for slice\n",
      "  **kwargs)\n",
      "C:\\Users\\brittany henderson\\Anaconda3\\envs\\Research\\lib\\site-packages\\numpy\\core\\_methods.py:132: RuntimeWarning: invalid value encountered in double_scalars\n",
      "  ret = ret.dtype.type(ret / rcount)\n",
      "C:\\Users\\brittany henderson\\Anaconda3\\envs\\Research\\lib\\site-packages\\scipy\\stats\\_distn_infrastructure.py:877: RuntimeWarning: invalid value encountered in greater\n",
      "  return (self.a < x) & (x < self.b)\n",
      "C:\\Users\\brittany henderson\\Anaconda3\\envs\\Research\\lib\\site-packages\\scipy\\stats\\_distn_infrastructure.py:877: RuntimeWarning: invalid value encountered in less\n",
      "  return (self.a < x) & (x < self.b)\n",
      "C:\\Users\\brittany henderson\\Anaconda3\\envs\\Research\\lib\\site-packages\\scipy\\stats\\_distn_infrastructure.py:1831: RuntimeWarning: invalid value encountered in less_equal\n",
      "  cond2 = cond0 & (x <= self.a)\n"
     ]
    },
    {
     "name": "stdout",
     "output_type": "stream",
     "text": [
      "8 significant comparisons!\n"
     ]
    }
   ],
   "source": [
    "col_list = list(mut_status.columns)\n",
    "col_list.remove('binary_mutations')\n",
    "\n",
    "print(\"Doing t-test comparisons for\", cancer1)\n",
    "\n",
    "# Call wrap_ttest, pass in formatted dataframe\n",
    "wrap_results = u.wrap_ttest(mut_status, 'binary_mutations', col_list, return_all=True)"
   ]
  },
  {
   "cell_type": "code",
   "execution_count": 19,
   "metadata": {},
   "outputs": [
    {
     "name": "stdout",
     "output_type": "stream",
     "text": [
      "          Comparison       P_Value\n",
      "0  ARID1A_proteomics  1.025018e-10\n"
     ]
    },
    {
     "data": {
      "text/html": [
       "<div>\n",
       "<style scoped>\n",
       "    .dataframe tbody tr th:only-of-type {\n",
       "        vertical-align: middle;\n",
       "    }\n",
       "\n",
       "    .dataframe tbody tr th {\n",
       "        vertical-align: top;\n",
       "    }\n",
       "\n",
       "    .dataframe thead th {\n",
       "        text-align: right;\n",
       "    }\n",
       "</style>\n",
       "<table border=\"1\" class=\"dataframe\">\n",
       "  <thead>\n",
       "    <tr style=\"text-align: right;\">\n",
       "      <th></th>\n",
       "      <th>Comparison</th>\n",
       "      <th>P_Value</th>\n",
       "    </tr>\n",
       "  </thead>\n",
       "  <tbody>\n",
       "    <tr>\n",
       "      <td>0</td>\n",
       "      <td>ARID1A_proteomics</td>\n",
       "      <td>1.025018e-10</td>\n",
       "    </tr>\n",
       "    <tr>\n",
       "      <td>1</td>\n",
       "      <td>MAP1S_proteomics</td>\n",
       "      <td>1.010149e-07</td>\n",
       "    </tr>\n",
       "    <tr>\n",
       "      <td>2</td>\n",
       "      <td>DPF2_proteomics</td>\n",
       "      <td>2.166609e-07</td>\n",
       "    </tr>\n",
       "    <tr>\n",
       "      <td>3</td>\n",
       "      <td>KDM4B_proteomics</td>\n",
       "      <td>4.414547e-07</td>\n",
       "    </tr>\n",
       "    <tr>\n",
       "      <td>4</td>\n",
       "      <td>RRM1_proteomics</td>\n",
       "      <td>4.455870e-07</td>\n",
       "    </tr>\n",
       "    <tr>\n",
       "      <td>...</td>\n",
       "      <td>...</td>\n",
       "      <td>...</td>\n",
       "    </tr>\n",
       "    <tr>\n",
       "      <td>10988</td>\n",
       "      <td>RP9_proteomics</td>\n",
       "      <td>9.976245e-01</td>\n",
       "    </tr>\n",
       "    <tr>\n",
       "      <td>10989</td>\n",
       "      <td>S100A7_proteomics</td>\n",
       "      <td>9.980427e-01</td>\n",
       "    </tr>\n",
       "    <tr>\n",
       "      <td>10990</td>\n",
       "      <td>SMDT1_proteomics</td>\n",
       "      <td>9.981687e-01</td>\n",
       "    </tr>\n",
       "    <tr>\n",
       "      <td>10991</td>\n",
       "      <td>TUBA1C_proteomics</td>\n",
       "      <td>9.994140e-01</td>\n",
       "    </tr>\n",
       "    <tr>\n",
       "      <td>10992</td>\n",
       "      <td>TAF3_proteomics</td>\n",
       "      <td>9.997201e-01</td>\n",
       "    </tr>\n",
       "  </tbody>\n",
       "</table>\n",
       "<p>10993 rows × 2 columns</p>\n",
       "</div>"
      ],
      "text/plain": [
       "              Comparison       P_Value\n",
       "0      ARID1A_proteomics  1.025018e-10\n",
       "1       MAP1S_proteomics  1.010149e-07\n",
       "2        DPF2_proteomics  2.166609e-07\n",
       "3       KDM4B_proteomics  4.414547e-07\n",
       "4        RRM1_proteomics  4.455870e-07\n",
       "...                  ...           ...\n",
       "10988     RP9_proteomics  9.976245e-01\n",
       "10989  S100A7_proteomics  9.980427e-01\n",
       "10990   SMDT1_proteomics  9.981687e-01\n",
       "10991  TUBA1C_proteomics  9.994140e-01\n",
       "10992    TAF3_proteomics  9.997201e-01\n",
       "\n",
       "[10993 rows x 2 columns]"
      ]
     },
     "execution_count": 19,
     "metadata": {},
     "output_type": "execute_result"
    }
   ],
   "source": [
    "print(wrap_results.loc[wrap_results['Comparison'] == gene+\"_proteomics\"])\n",
    "wrap_results"
   ]
  },
  {
   "cell_type": "code",
   "execution_count": 7,
   "metadata": {},
   "outputs": [
    {
     "name": "stderr",
     "output_type": "stream",
     "text": [
      "Warning: In joining the somatic_mutation table, no mutations were found for the following samples, so they were filled with Wildtype_Tumor or Wildtype_Normal: 184 samples for the ARID1A gene (C:\\Users\\brittany henderson\\Anaconda3\\envs\\Research\\lib\\site-packages\\ipykernel_launcher.py, line 6)\n",
      "Warning: proteomics data was not found for the following samples, so proteomics data columns were filled with NaN for these samples: S001, S013, S015, S017, S038, S080, S081, S090, S099, S109 (C:\\Users\\brittany henderson\\Anaconda3\\envs\\Research\\lib\\site-packages\\ipykernel_launcher.py, line 6)\n"
     ]
    }
   ],
   "source": [
    "# endo ttest\n",
    "# Step 1 - Create dataframe in order to do comparisons with wrap_ttest\n",
    "prot2 = c2.get_proteomics()\n",
    "prot_list2 = list(prot2.columns)\n",
    "prot_and_mutations = c2.join_omics_to_mutations(\n",
    "    mutations_genes = [gene], omics_df_name = 'proteomics', omics_genes = prot_list2)  \n",
    "\n",
    "# Step 2 - Create binary column \n",
    "prot_and_mutations['binary_mutations'] = np.where(\n",
    "            prot_and_mutations[gene+'_Mutation_Status'] == 'Wildtype_Tumor', 'Wildtype', 'Mutated')\n",
    "\n",
    "# Step 3 - Format the dataframe correctly for the T-test(just omics and binary columns for tumors)\n",
    "tumors = prot_and_mutations[prot_and_mutations.Sample_Status == 'Tumor'] #drop Normal samples\n",
    "columns_to_drop = [gene+\"_Mutation\", gene+\"_Location\", gene+\"_Mutation_Status\", \"Sample_Status\"]\n",
    "mut_status = tumors.drop(columns_to_drop, axis = 1)\n",
    "mut_status2 = mut_status.dropna(axis=1,how='all')"
   ]
  },
  {
   "cell_type": "code",
   "execution_count": 9,
   "metadata": {},
   "outputs": [
    {
     "name": "stdout",
     "output_type": "stream",
     "text": [
      "Doing t-test comparisons for Colon\n",
      "No significant comparisons.\n"
     ]
    }
   ],
   "source": [
    "col_list2 = list(mut_status2.columns)\n",
    "col_list2.remove('binary_mutations')\n",
    "\n",
    "print(\"Doing t-test comparisons for\", cancer2)\n",
    "\n",
    "# Call wrap_ttest, pass in formatted dataframe\n",
    "wrap_results2 = u.wrap_ttest(mut_status2, 'binary_mutations', col_list2, return_all=True)"
   ]
  },
  {
   "cell_type": "code",
   "execution_count": 20,
   "metadata": {},
   "outputs": [
    {
     "name": "stdout",
     "output_type": "stream",
     "text": [
      "            Comparison   P_Value\n",
      "889  ARID1A_proteomics  0.001305\n"
     ]
    },
    {
     "data": {
      "text/html": [
       "<div>\n",
       "<style scoped>\n",
       "    .dataframe tbody tr th:only-of-type {\n",
       "        vertical-align: middle;\n",
       "    }\n",
       "\n",
       "    .dataframe tbody tr th {\n",
       "        vertical-align: top;\n",
       "    }\n",
       "\n",
       "    .dataframe thead th {\n",
       "        text-align: right;\n",
       "    }\n",
       "</style>\n",
       "<table border=\"1\" class=\"dataframe\">\n",
       "  <thead>\n",
       "    <tr style=\"text-align: right;\">\n",
       "      <th></th>\n",
       "      <th>Comparison</th>\n",
       "      <th>P_Value</th>\n",
       "    </tr>\n",
       "  </thead>\n",
       "  <tbody>\n",
       "    <tr>\n",
       "      <td>0</td>\n",
       "      <td>ACSS2_proteomics</td>\n",
       "      <td>0.000171</td>\n",
       "    </tr>\n",
       "    <tr>\n",
       "      <td>1</td>\n",
       "      <td>MOV10_proteomics</td>\n",
       "      <td>0.000274</td>\n",
       "    </tr>\n",
       "    <tr>\n",
       "      <td>2</td>\n",
       "      <td>ELP3_proteomics</td>\n",
       "      <td>0.000308</td>\n",
       "    </tr>\n",
       "    <tr>\n",
       "      <td>3</td>\n",
       "      <td>EIF4A1_proteomics</td>\n",
       "      <td>0.002589</td>\n",
       "    </tr>\n",
       "    <tr>\n",
       "      <td>4</td>\n",
       "      <td>AAMP_proteomics</td>\n",
       "      <td>0.003227</td>\n",
       "    </tr>\n",
       "    <tr>\n",
       "      <td>...</td>\n",
       "      <td>...</td>\n",
       "      <td>...</td>\n",
       "    </tr>\n",
       "    <tr>\n",
       "      <td>8062</td>\n",
       "      <td>VPS51_proteomics</td>\n",
       "      <td>0.992112</td>\n",
       "    </tr>\n",
       "    <tr>\n",
       "      <td>8063</td>\n",
       "      <td>TMED1_proteomics</td>\n",
       "      <td>0.993533</td>\n",
       "    </tr>\n",
       "    <tr>\n",
       "      <td>8064</td>\n",
       "      <td>DYNC1H1_proteomics</td>\n",
       "      <td>0.997625</td>\n",
       "    </tr>\n",
       "    <tr>\n",
       "      <td>8065</td>\n",
       "      <td>MAP2K6_proteomics</td>\n",
       "      <td>0.998231</td>\n",
       "    </tr>\n",
       "    <tr>\n",
       "      <td>8066</td>\n",
       "      <td>YIPF4_proteomics</td>\n",
       "      <td>0.999176</td>\n",
       "    </tr>\n",
       "  </tbody>\n",
       "</table>\n",
       "<p>8067 rows × 2 columns</p>\n",
       "</div>"
      ],
      "text/plain": [
       "              Comparison   P_Value\n",
       "0       ACSS2_proteomics  0.000171\n",
       "1       MOV10_proteomics  0.000274\n",
       "2        ELP3_proteomics  0.000308\n",
       "3      EIF4A1_proteomics  0.002589\n",
       "4        AAMP_proteomics  0.003227\n",
       "...                  ...       ...\n",
       "8062    VPS51_proteomics  0.992112\n",
       "8063    TMED1_proteomics  0.993533\n",
       "8064  DYNC1H1_proteomics  0.997625\n",
       "8065   MAP2K6_proteomics  0.998231\n",
       "8066    YIPF4_proteomics  0.999176\n",
       "\n",
       "[8067 rows x 2 columns]"
      ]
     },
     "execution_count": 20,
     "metadata": {},
     "output_type": "execute_result"
    }
   ],
   "source": [
    "print(wrap_results2.loc[wrap_results2['Comparison'] == gene+\"_proteomics\"])\n",
    "wrap_results2"
   ]
  },
  {
   "cell_type": "code",
   "execution_count": 13,
   "metadata": {},
   "outputs": [],
   "source": [
    "#combine pval results\n",
    "combined = wrap_results.merge(wrap_results2, on='Comparison')\n",
    "combined = combined.replace(regex=True,to_replace='_proteomics', value='')"
   ]
  },
  {
   "cell_type": "code",
   "execution_count": 14,
   "metadata": {},
   "outputs": [
    {
     "name": "stdout",
     "output_type": "stream",
     "text": [
      "['SMARCC1', 'SUPT16H', 'CCND1', 'SMARCD3', 'CREBBP', 'SMARCB1', 'KAT2B', 'DNMT3A', 'SMARCA2', 'SMARCC2', 'KMT2D', 'ARID1A', 'SMARCE1', 'PHF10', 'BAZ1B', 'ARID1B', 'NF1', 'CDC5L', 'SMARCD1', 'SMARCD2', 'SMARCA4', 'ACTL6A', 'BCL7B', 'SS18', 'DPF2', 'DPF3', 'KLF1', 'GATA1', 'ING1', 'PGR', 'BCL7C', 'HIC1']\n"
     ]
    }
   ],
   "source": [
    "# Green = interacting protein\n",
    "interacting_list = u.get_interacting_proteins(gene)\n",
    "combined[\"color\"] = np.where(combined[\"Comparison\"].isin(interacting_list), \"green\", \"black\")\n",
    "print(interacting_list)\n",
    "#combined.loc[combined['color'] == 'green']"
   ]
  },
  {
   "cell_type": "code",
   "execution_count": 18,
   "metadata": {},
   "outputs": [
    {
     "name": "stdout",
     "output_type": "stream",
     "text": [
      "     Comparison     P_Value_x  P_Value_y  color\n",
      "0        ARID1A  1.025018e-10   0.001305  green\n",
      "2          DPF2  2.166609e-07   0.048870  green\n",
      "5862    SMARCC2  8.270473e-05   0.046582  green\n",
      "5864    SMARCE1  1.498027e-04   0.014231  green\n"
     ]
    },
    {
     "data": {
      "text/html": [
       "<div>\n",
       "<style scoped>\n",
       "    .dataframe tbody tr th:only-of-type {\n",
       "        vertical-align: middle;\n",
       "    }\n",
       "\n",
       "    .dataframe tbody tr th {\n",
       "        vertical-align: top;\n",
       "    }\n",
       "\n",
       "    .dataframe thead th {\n",
       "        text-align: right;\n",
       "    }\n",
       "</style>\n",
       "<table border=\"1\" class=\"dataframe\">\n",
       "  <thead>\n",
       "    <tr style=\"text-align: right;\">\n",
       "      <th></th>\n",
       "      <th>Comparison</th>\n",
       "      <th>P_Value_x</th>\n",
       "      <th>P_Value_y</th>\n",
       "      <th>color</th>\n",
       "    </tr>\n",
       "  </thead>\n",
       "  <tbody>\n",
       "    <tr>\n",
       "      <td>0</td>\n",
       "      <td>ARID1A</td>\n",
       "      <td>1.025018e-10</td>\n",
       "      <td>0.001305</td>\n",
       "      <td>green</td>\n",
       "    </tr>\n",
       "    <tr>\n",
       "      <td>2</td>\n",
       "      <td>DPF2</td>\n",
       "      <td>2.166609e-07</td>\n",
       "      <td>0.048870</td>\n",
       "      <td>green</td>\n",
       "    </tr>\n",
       "    <tr>\n",
       "      <td>3</td>\n",
       "      <td>RRM1</td>\n",
       "      <td>4.455870e-07</td>\n",
       "      <td>0.000683</td>\n",
       "      <td>black</td>\n",
       "    </tr>\n",
       "    <tr>\n",
       "      <td>5</td>\n",
       "      <td>ACYP2</td>\n",
       "      <td>1.349353e-04</td>\n",
       "      <td>0.049855</td>\n",
       "      <td>black</td>\n",
       "    </tr>\n",
       "    <tr>\n",
       "      <td>9</td>\n",
       "      <td>ALDH1B1</td>\n",
       "      <td>3.733383e-04</td>\n",
       "      <td>0.014190</td>\n",
       "      <td>black</td>\n",
       "    </tr>\n",
       "    <tr>\n",
       "      <td>...</td>\n",
       "      <td>...</td>\n",
       "      <td>...</td>\n",
       "      <td>...</td>\n",
       "      <td>...</td>\n",
       "    </tr>\n",
       "    <tr>\n",
       "      <td>6605</td>\n",
       "      <td>SMAP1</td>\n",
       "      <td>4.099963e-02</td>\n",
       "      <td>0.049020</td>\n",
       "      <td>black</td>\n",
       "    </tr>\n",
       "    <tr>\n",
       "      <td>6607</td>\n",
       "      <td>SOD3</td>\n",
       "      <td>4.141997e-02</td>\n",
       "      <td>0.029779</td>\n",
       "      <td>black</td>\n",
       "    </tr>\n",
       "    <tr>\n",
       "      <td>6613</td>\n",
       "      <td>RPL35</td>\n",
       "      <td>4.330776e-02</td>\n",
       "      <td>0.043198</td>\n",
       "      <td>black</td>\n",
       "    </tr>\n",
       "    <tr>\n",
       "      <td>6619</td>\n",
       "      <td>RMDN2</td>\n",
       "      <td>4.447102e-02</td>\n",
       "      <td>0.017967</td>\n",
       "      <td>black</td>\n",
       "    </tr>\n",
       "    <tr>\n",
       "      <td>6623</td>\n",
       "      <td>RPL38</td>\n",
       "      <td>4.793544e-02</td>\n",
       "      <td>0.028985</td>\n",
       "      <td>black</td>\n",
       "    </tr>\n",
       "  </tbody>\n",
       "</table>\n",
       "<p>145 rows × 4 columns</p>\n",
       "</div>"
      ],
      "text/plain": [
       "     Comparison     P_Value_x  P_Value_y  color\n",
       "0        ARID1A  1.025018e-10   0.001305  green\n",
       "2          DPF2  2.166609e-07   0.048870  green\n",
       "3          RRM1  4.455870e-07   0.000683  black\n",
       "5         ACYP2  1.349353e-04   0.049855  black\n",
       "9       ALDH1B1  3.733383e-04   0.014190  black\n",
       "...         ...           ...        ...    ...\n",
       "6605      SMAP1  4.099963e-02   0.049020  black\n",
       "6607       SOD3  4.141997e-02   0.029779  black\n",
       "6613      RPL35  4.330776e-02   0.043198  black\n",
       "6619      RMDN2  4.447102e-02   0.017967  black\n",
       "6623      RPL38  4.793544e-02   0.028985  black\n",
       "\n",
       "[145 rows x 4 columns]"
      ]
     },
     "execution_count": 18,
     "metadata": {},
     "output_type": "execute_result"
    }
   ],
   "source": [
    "limit_x = combined.loc[combined['P_Value_x'] <= .05]\n",
    "limit_y = combined.loc[combined['P_Value_y'] <= .05]\n",
    "limit_both = limit_x.loc[limit_x['P_Value_y'] <= .05]\n",
    "print(limit_both.loc[limit_both['color'] == 'green'])\n",
    "limit_both"
   ]
  },
  {
   "cell_type": "code",
   "execution_count": 16,
   "metadata": {},
   "outputs": [
    {
     "data": {
      "image/png": "[encoded data removed]",
      "text/plain": [
       "<Figure size 1080x720 with 1 Axes>"
      ]
     },
     "metadata": {},
     "output_type": "display_data"
    }
   ],
   "source": [
    "# Format figure size and font\n",
    "plt.rcParams['figure.figsize']=(15,10)\n",
    "sns.set(font_scale = 1.3)\n",
    "\n",
    "# Format title and axis\n",
    "plot = sns.regplot(x=\"P_Value_x\", y=\"P_Value_y\", data=limit_both, scatter_kws={'facecolors':limit_both['color']})\n",
    "plot.set_title(\"P_Value Distribution for \"+gene+\" trans Proteomics\")\n",
    "plot.set(xlabel = 'P-Value for '+cancer1)\n",
    "plot.set(ylabel = 'P-Value for '+cancer2)\n",
    "\n",
    "plt.show()\n",
    "plt.clf()\n",
    "plt.close()"
   ]
  },
  {
   "cell_type": "markdown",
   "metadata": {},
   "source": [
    "ARID1A: 8 significant results for endometrial. No significant results for colon. 4 interacting proteins in graph with alpha = 0.05 borders."
   ]
  },
  {
   "cell_type": "code",
   "execution_count": null,
   "metadata": {},
   "outputs": [],
   "source": []
  }
 ],
 "metadata": {
  "kernelspec": {
   "display_name": "Python 3",
   "language": "python",
   "name": "python3"
  },
  "language_info": {
   "codemirror_mode": {
    "name": "ipython",
    "version": 3
   },
   "file_extension": ".py",
   "mimetype": "text/x-python",
   "name": "python",
   "nbconvert_exporter": "python",
   "pygments_lexer": "ipython3",
   "version": "3.7.3"
  }
 },
 "nbformat": 4,
 "nbformat_minor": 2
}
