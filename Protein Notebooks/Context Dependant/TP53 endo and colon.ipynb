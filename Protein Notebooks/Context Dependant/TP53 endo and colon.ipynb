{
 "cells": [
  {
   "cell_type": "code",
   "execution_count": 1,
   "metadata": {},
   "outputs": [],
   "source": [
    "import pandas as pd\n",
    "import numpy as np\n",
    "import seaborn as sns\n",
    "import matplotlib.pyplot as plt\n",
    "import scipy.stats\n",
    "import re\n",
    "import sys \n",
    "\n",
    "import cptac\n",
    "import cptac.utils as u"
   ]
  },
  {
   "cell_type": "code",
   "execution_count": 2,
   "metadata": {},
   "outputs": [
    {
     "name": "stdout",
     "output_type": "stream",
     "text": [
      "                                    \r"
     ]
    }
   ],
   "source": [
    "c1 = cptac.Endometrial()\n",
    "c2 = cptac.Colon()"
   ]
  },
  {
   "cell_type": "code",
   "execution_count": 3,
   "metadata": {},
   "outputs": [],
   "source": [
    "cancer1 = \"Endometrial\"\n",
    "cancer2 = \"Colon\"\n",
    "gene = 'TP53'"
   ]
  },
  {
   "cell_type": "code",
   "execution_count": 4,
   "metadata": {},
   "outputs": [
    {
     "name": "stderr",
     "output_type": "stream",
     "text": [
      "Warning: In joining the somatic_mutation table, no mutations were found for the following samples, so they were filled with Wildtype_Tumor or Wildtype_Normal: 123 samples for the TP53 gene (C:\\Users\\brittany henderson\\Anaconda3\\envs\\Research\\lib\\site-packages\\ipykernel_launcher.py, line 6)\n"
     ]
    }
   ],
   "source": [
    "#GBM ttest\n",
    "# Step 1 - Create dataframe in order to do comparisons with wrap_ttest\n",
    "prot = c1.get_proteomics()\n",
    "prot_list = list(prot.columns)\n",
    "prot_and_mutations = c1.join_omics_to_mutations(\n",
    "    mutations_genes = [gene], omics_df_name = 'proteomics', omics_genes = prot_list)  \n",
    "\n",
    "# Step 2 - Create binary column \n",
    "prot_and_mutations['binary_mutations'] = np.where(\n",
    "            prot_and_mutations[gene+'_Mutation_Status'] == 'Wildtype_Tumor', 'Wildtype', 'Mutated')\n",
    "\n",
    "# Step 3 - Format the dataframe correctly for the T-test(just omics and binary columns for tumors)\n",
    "tumors = prot_and_mutations[prot_and_mutations.Sample_Status == 'Tumor'] #drop Normal samples\n",
    "columns_to_drop = [gene+\"_Mutation\", gene+\"_Location\", gene+\"_Mutation_Status\", \"Sample_Status\"]\n",
    "mut_status = tumors.drop(columns_to_drop, axis = 1)\n",
    "mut_status = mut_status.dropna(axis=1,how='all')"
   ]
  },
  {
   "cell_type": "code",
   "execution_count": 5,
   "metadata": {},
   "outputs": [
    {
     "name": "stderr",
     "output_type": "stream",
     "text": [
      "C:\\Users\\brittany henderson\\Anaconda3\\envs\\Research\\lib\\site-packages\\numpy\\core\\fromnumeric.py:3367: RuntimeWarning: Degrees of freedom <= 0 for slice\n",
      "  **kwargs)\n",
      "C:\\Users\\brittany henderson\\Anaconda3\\envs\\Research\\lib\\site-packages\\numpy\\core\\_methods.py:132: RuntimeWarning: invalid value encountered in double_scalars\n",
      "  ret = ret.dtype.type(ret / rcount)\n",
      "C:\\Users\\brittany henderson\\Anaconda3\\envs\\Research\\lib\\site-packages\\scipy\\stats\\_distn_infrastructure.py:877: RuntimeWarning: invalid value encountered in greater\n",
      "  return (self.a < x) & (x < self.b)\n",
      "C:\\Users\\brittany henderson\\Anaconda3\\envs\\Research\\lib\\site-packages\\scipy\\stats\\_distn_infrastructure.py:877: RuntimeWarning: invalid value encountered in less\n",
      "  return (self.a < x) & (x < self.b)\n",
      "C:\\Users\\brittany henderson\\Anaconda3\\envs\\Research\\lib\\site-packages\\scipy\\stats\\_distn_infrastructure.py:1831: RuntimeWarning: invalid value encountered in less_equal\n",
      "  cond2 = cond0 & (x <= self.a)\n"
     ]
    },
    {
     "name": "stdout",
     "output_type": "stream",
     "text": [
      "Doing t-test comparisons for Endometrial\n",
      "135 significant comparisons!\n"
     ]
    }
   ],
   "source": [
    "col_list = list(mut_status.columns)\n",
    "col_list.remove('binary_mutations')\n",
    "\n",
    "print(\"Doing t-test comparisons for\", cancer1)\n",
    "print('Bonferroni:', .05/len(col_list))\n",
    "\n",
    "# Call wrap_ttest, pass in formatted dataframe\n",
    "wrap_results = u.wrap_ttest(mut_status, 'binary_mutations', col_list, return_all=True)"
   ]
  },
  {
   "cell_type": "code",
   "execution_count": 6,
   "metadata": {},
   "outputs": [
    {
     "name": "stdout",
     "output_type": "stream",
     "text": [
      "         Comparison       P_Value\n",
      "64  TP53_proteomics  3.991072e-07\n"
     ]
    },
    {
     "data": {
      "text/html": [
       "<div>\n",
       "<style scoped>\n",
       "    .dataframe tbody tr th:only-of-type {\n",
       "        vertical-align: middle;\n",
       "    }\n",
       "\n",
       "    .dataframe tbody tr th {\n",
       "        vertical-align: top;\n",
       "    }\n",
       "\n",
       "    .dataframe thead th {\n",
       "        text-align: right;\n",
       "    }\n",
       "</style>\n",
       "<table border=\"1\" class=\"dataframe\">\n",
       "  <thead>\n",
       "    <tr style=\"text-align: right;\">\n",
       "      <th></th>\n",
       "      <th>Comparison</th>\n",
       "      <th>P_Value</th>\n",
       "    </tr>\n",
       "  </thead>\n",
       "  <tbody>\n",
       "    <tr>\n",
       "      <td>0</td>\n",
       "      <td>MTHFD2_proteomics</td>\n",
       "      <td>9.298849e-12</td>\n",
       "    </tr>\n",
       "    <tr>\n",
       "      <td>1</td>\n",
       "      <td>SLC4A1AP_proteomics</td>\n",
       "      <td>5.983585e-11</td>\n",
       "    </tr>\n",
       "    <tr>\n",
       "      <td>2</td>\n",
       "      <td>XPO5_proteomics</td>\n",
       "      <td>1.551177e-10</td>\n",
       "    </tr>\n",
       "    <tr>\n",
       "      <td>3</td>\n",
       "      <td>TRMT6_proteomics</td>\n",
       "      <td>1.801163e-10</td>\n",
       "    </tr>\n",
       "    <tr>\n",
       "      <td>4</td>\n",
       "      <td>STAT2_proteomics</td>\n",
       "      <td>1.922167e-10</td>\n",
       "    </tr>\n",
       "    <tr>\n",
       "      <td>...</td>\n",
       "      <td>...</td>\n",
       "      <td>...</td>\n",
       "    </tr>\n",
       "    <tr>\n",
       "      <td>10988</td>\n",
       "      <td>KCTD13_proteomics</td>\n",
       "      <td>9.885735e-01</td>\n",
       "    </tr>\n",
       "    <tr>\n",
       "      <td>10989</td>\n",
       "      <td>TSSC4_proteomics</td>\n",
       "      <td>9.923845e-01</td>\n",
       "    </tr>\n",
       "    <tr>\n",
       "      <td>10990</td>\n",
       "      <td>KRCC1_proteomics</td>\n",
       "      <td>9.942184e-01</td>\n",
       "    </tr>\n",
       "    <tr>\n",
       "      <td>10991</td>\n",
       "      <td>METTL7B_proteomics</td>\n",
       "      <td>9.995390e-01</td>\n",
       "    </tr>\n",
       "    <tr>\n",
       "      <td>10992</td>\n",
       "      <td>YOD1_proteomics</td>\n",
       "      <td>9.999833e-01</td>\n",
       "    </tr>\n",
       "  </tbody>\n",
       "</table>\n",
       "<p>10993 rows × 2 columns</p>\n",
       "</div>"
      ],
      "text/plain": [
       "                Comparison       P_Value\n",
       "0        MTHFD2_proteomics  9.298849e-12\n",
       "1      SLC4A1AP_proteomics  5.983585e-11\n",
       "2          XPO5_proteomics  1.551177e-10\n",
       "3         TRMT6_proteomics  1.801163e-10\n",
       "4         STAT2_proteomics  1.922167e-10\n",
       "...                    ...           ...\n",
       "10988    KCTD13_proteomics  9.885735e-01\n",
       "10989     TSSC4_proteomics  9.923845e-01\n",
       "10990     KRCC1_proteomics  9.942184e-01\n",
       "10991   METTL7B_proteomics  9.995390e-01\n",
       "10992      YOD1_proteomics  9.999833e-01\n",
       "\n",
       "[10993 rows x 2 columns]"
      ]
     },
     "execution_count": 6,
     "metadata": {},
     "output_type": "execute_result"
    }
   ],
   "source": [
    "print(wrap_results.loc[wrap_results['Comparison'] == gene+\"_proteomics\"])\n",
    "wrap_results"
   ]
  },
  {
   "cell_type": "code",
   "execution_count": 7,
   "metadata": {},
   "outputs": [
    {
     "name": "stderr",
     "output_type": "stream",
     "text": [
      "Warning: In joining the somatic_mutation table, no mutations were found for the following samples, so they were filled with Wildtype_Tumor or Wildtype_Normal: 151 samples for the TP53 gene (C:\\Users\\brittany henderson\\Anaconda3\\envs\\Research\\lib\\site-packages\\ipykernel_launcher.py, line 6)\n",
      "Warning: proteomics data was not found for the following samples, so proteomics data columns were filled with NaN for these samples: S001, S013, S015, S017, S038, S080, S081, S090, S099, S109 (C:\\Users\\brittany henderson\\Anaconda3\\envs\\Research\\lib\\site-packages\\ipykernel_launcher.py, line 6)\n"
     ]
    }
   ],
   "source": [
    "# Step 1 - Create dataframe in order to do comparisons with wrap_ttest\n",
    "prot2 = c2.get_proteomics()\n",
    "prot_list2 = list(prot2.columns)\n",
    "prot_and_mutations = c2.join_omics_to_mutations(\n",
    "    mutations_genes = [gene], omics_df_name = 'proteomics', omics_genes = prot_list2)  \n",
    "\n",
    "# Step 2 - Create binary column \n",
    "prot_and_mutations['binary_mutations'] = np.where(\n",
    "            prot_and_mutations[gene+'_Mutation_Status'] == 'Wildtype_Tumor', 'Wildtype', 'Mutated')\n",
    "\n",
    "# Step 3 - Format the dataframe correctly for the T-test(just omics and binary columns for tumors)\n",
    "tumors = prot_and_mutations[prot_and_mutations.Sample_Status == 'Tumor'] #drop Normal samples\n",
    "columns_to_drop = [gene+\"_Mutation\", gene+\"_Location\", gene+\"_Mutation_Status\", \"Sample_Status\"]\n",
    "mut_status = tumors.drop(columns_to_drop, axis = 1)\n",
    "mut_status2 = mut_status.dropna(axis=1,how='all')"
   ]
  },
  {
   "cell_type": "code",
   "execution_count": 8,
   "metadata": {},
   "outputs": [
    {
     "name": "stdout",
     "output_type": "stream",
     "text": [
      "Doing t-test comparisons for Colon\n",
      "No significant comparisons.\n"
     ]
    }
   ],
   "source": [
    "col_list2 = list(mut_status2.columns)\n",
    "col_list2.remove('binary_mutations')\n",
    "\n",
    "print(\"Doing t-test comparisons for\", cancer2)\n",
    "\n",
    "# Call wrap_ttest, pass in formatted dataframe\n",
    "wrap_results2 = u.wrap_ttest(mut_status2, 'binary_mutations', col_list2, return_all=True)"
   ]
  },
  {
   "cell_type": "code",
   "execution_count": 9,
   "metadata": {},
   "outputs": [
    {
     "name": "stdout",
     "output_type": "stream",
     "text": [
      "           Comparison   P_Value\n",
      "7329  TP53_proteomics  0.844406\n"
     ]
    },
    {
     "data": {
      "text/html": [
       "<div>\n",
       "<style scoped>\n",
       "    .dataframe tbody tr th:only-of-type {\n",
       "        vertical-align: middle;\n",
       "    }\n",
       "\n",
       "    .dataframe tbody tr th {\n",
       "        vertical-align: top;\n",
       "    }\n",
       "\n",
       "    .dataframe thead th {\n",
       "        text-align: right;\n",
       "    }\n",
       "</style>\n",
       "<table border=\"1\" class=\"dataframe\">\n",
       "  <thead>\n",
       "    <tr style=\"text-align: right;\">\n",
       "      <th></th>\n",
       "      <th>Comparison</th>\n",
       "      <th>P_Value</th>\n",
       "    </tr>\n",
       "  </thead>\n",
       "  <tbody>\n",
       "    <tr>\n",
       "      <td>0</td>\n",
       "      <td>ASCC3_proteomics</td>\n",
       "      <td>0.000141</td>\n",
       "    </tr>\n",
       "    <tr>\n",
       "      <td>1</td>\n",
       "      <td>EAPP_proteomics</td>\n",
       "      <td>0.000974</td>\n",
       "    </tr>\n",
       "    <tr>\n",
       "      <td>2</td>\n",
       "      <td>EIF6_proteomics</td>\n",
       "      <td>0.002096</td>\n",
       "    </tr>\n",
       "    <tr>\n",
       "      <td>3</td>\n",
       "      <td>GHDC_proteomics</td>\n",
       "      <td>0.002608</td>\n",
       "    </tr>\n",
       "    <tr>\n",
       "      <td>4</td>\n",
       "      <td>ESPN_proteomics</td>\n",
       "      <td>0.003419</td>\n",
       "    </tr>\n",
       "    <tr>\n",
       "      <td>...</td>\n",
       "      <td>...</td>\n",
       "      <td>...</td>\n",
       "    </tr>\n",
       "    <tr>\n",
       "      <td>8062</td>\n",
       "      <td>MAT2B_proteomics</td>\n",
       "      <td>0.996511</td>\n",
       "    </tr>\n",
       "    <tr>\n",
       "      <td>8063</td>\n",
       "      <td>RTN1_proteomics</td>\n",
       "      <td>0.996535</td>\n",
       "    </tr>\n",
       "    <tr>\n",
       "      <td>8064</td>\n",
       "      <td>TM9SF2_proteomics</td>\n",
       "      <td>0.998232</td>\n",
       "    </tr>\n",
       "    <tr>\n",
       "      <td>8065</td>\n",
       "      <td>YTHDC2_proteomics</td>\n",
       "      <td>0.999204</td>\n",
       "    </tr>\n",
       "    <tr>\n",
       "      <td>8066</td>\n",
       "      <td>TIMP2_proteomics</td>\n",
       "      <td>0.999874</td>\n",
       "    </tr>\n",
       "  </tbody>\n",
       "</table>\n",
       "<p>8067 rows × 2 columns</p>\n",
       "</div>"
      ],
      "text/plain": [
       "             Comparison   P_Value\n",
       "0      ASCC3_proteomics  0.000141\n",
       "1       EAPP_proteomics  0.000974\n",
       "2       EIF6_proteomics  0.002096\n",
       "3       GHDC_proteomics  0.002608\n",
       "4       ESPN_proteomics  0.003419\n",
       "...                 ...       ...\n",
       "8062   MAT2B_proteomics  0.996511\n",
       "8063    RTN1_proteomics  0.996535\n",
       "8064  TM9SF2_proteomics  0.998232\n",
       "8065  YTHDC2_proteomics  0.999204\n",
       "8066   TIMP2_proteomics  0.999874\n",
       "\n",
       "[8067 rows x 2 columns]"
      ]
     },
     "execution_count": 9,
     "metadata": {},
     "output_type": "execute_result"
    }
   ],
   "source": [
    "print(wrap_results2.loc[wrap_results2['Comparison'] == gene+\"_proteomics\"])\n",
    "wrap_results2"
   ]
  },
  {
   "cell_type": "code",
   "execution_count": 10,
   "metadata": {},
   "outputs": [],
   "source": [
    "#combine pval results\n",
    "combined = wrap_results.merge(wrap_results2, on='Comparison')\n",
    "combined = combined.replace(regex=True,to_replace='_proteomics', value='')"
   ]
  },
  {
   "cell_type": "code",
   "execution_count": 11,
   "metadata": {},
   "outputs": [
    {
     "name": "stdout",
     "output_type": "stream",
     "text": [
      "['RPA1', 'AURKA', 'MDM2', 'SIRT1', 'CREBBP', 'EP300', 'CDK2', 'TP53', 'ATM', 'BCL2L1', 'TP53BP2', 'CCNG1', 'MDM4', 'PTEN', 'TP53BP1', 'CHEK2', 'FZR1', 'MAPK8', 'KDM1A', 'BCL6', 'CDKN1A', 'HIPK2', 'CHEK1', 'CDKN2A', 'BRCA1', 'AKT1', 'DVL2', 'BLM', 'ATR', 'TFAP2A', 'EPHA3']\n"
     ]
    }
   ],
   "source": [
    "# Green = interacting protein\n",
    "interacting_list = u.get_interacting_proteins(gene)\n",
    "combined[\"color\"] = np.where(combined[\"Comparison\"].isin(interacting_list), \"green\", \"black\")\n",
    "print(interacting_list)\n",
    "#combined.loc[combined['color'] == 'green']"
   ]
  },
  {
   "cell_type": "code",
   "execution_count": 12,
   "metadata": {},
   "outputs": [
    {
     "name": "stdout",
     "output_type": "stream",
     "text": [
      "Empty DataFrame\n",
      "Columns: [Comparison, P_Value_x, P_Value_y, color]\n",
      "Index: []\n"
     ]
    },
    {
     "data": {
      "text/html": [
       "<div>\n",
       "<style scoped>\n",
       "    .dataframe tbody tr th:only-of-type {\n",
       "        vertical-align: middle;\n",
       "    }\n",
       "\n",
       "    .dataframe tbody tr th {\n",
       "        vertical-align: top;\n",
       "    }\n",
       "\n",
       "    .dataframe thead th {\n",
       "        text-align: right;\n",
       "    }\n",
       "</style>\n",
       "<table border=\"1\" class=\"dataframe\">\n",
       "  <thead>\n",
       "    <tr style=\"text-align: right;\">\n",
       "      <th></th>\n",
       "      <th>Comparison</th>\n",
       "      <th>P_Value_x</th>\n",
       "      <th>P_Value_y</th>\n",
       "      <th>color</th>\n",
       "    </tr>\n",
       "  </thead>\n",
       "  <tbody>\n",
       "    <tr>\n",
       "      <td>29</td>\n",
       "      <td>ARFIP2</td>\n",
       "      <td>7.383859e-08</td>\n",
       "      <td>0.003363</td>\n",
       "      <td>black</td>\n",
       "    </tr>\n",
       "    <tr>\n",
       "      <td>50</td>\n",
       "      <td>TPD52L2</td>\n",
       "      <td>2.430440e-07</td>\n",
       "      <td>0.037359</td>\n",
       "      <td>black</td>\n",
       "    </tr>\n",
       "    <tr>\n",
       "      <td>65</td>\n",
       "      <td>OGFR</td>\n",
       "      <td>5.502492e-07</td>\n",
       "      <td>0.042275</td>\n",
       "      <td>black</td>\n",
       "    </tr>\n",
       "    <tr>\n",
       "      <td>69</td>\n",
       "      <td>ISG15</td>\n",
       "      <td>6.390668e-07</td>\n",
       "      <td>0.046613</td>\n",
       "      <td>black</td>\n",
       "    </tr>\n",
       "    <tr>\n",
       "      <td>71</td>\n",
       "      <td>DDX27</td>\n",
       "      <td>6.655045e-07</td>\n",
       "      <td>0.026192</td>\n",
       "      <td>black</td>\n",
       "    </tr>\n",
       "    <tr>\n",
       "      <td>...</td>\n",
       "      <td>...</td>\n",
       "      <td>...</td>\n",
       "      <td>...</td>\n",
       "      <td>...</td>\n",
       "    </tr>\n",
       "    <tr>\n",
       "      <td>7289</td>\n",
       "      <td>UBE2S</td>\n",
       "      <td>1.611571e-04</td>\n",
       "      <td>0.000331</td>\n",
       "      <td>black</td>\n",
       "    </tr>\n",
       "    <tr>\n",
       "      <td>7372</td>\n",
       "      <td>UTP11</td>\n",
       "      <td>4.544480e-03</td>\n",
       "      <td>0.024454</td>\n",
       "      <td>black</td>\n",
       "    </tr>\n",
       "    <tr>\n",
       "      <td>7466</td>\n",
       "      <td>YWHAB</td>\n",
       "      <td>2.698555e-03</td>\n",
       "      <td>0.018102</td>\n",
       "      <td>black</td>\n",
       "    </tr>\n",
       "    <tr>\n",
       "      <td>7468</td>\n",
       "      <td>YWHAE</td>\n",
       "      <td>3.706101e-03</td>\n",
       "      <td>0.045077</td>\n",
       "      <td>black</td>\n",
       "    </tr>\n",
       "    <tr>\n",
       "      <td>7598</td>\n",
       "      <td>ZNF703</td>\n",
       "      <td>5.498533e-03</td>\n",
       "      <td>0.019454</td>\n",
       "      <td>black</td>\n",
       "    </tr>\n",
       "  </tbody>\n",
       "</table>\n",
       "<p>143 rows × 4 columns</p>\n",
       "</div>"
      ],
      "text/plain": [
       "     Comparison     P_Value_x  P_Value_y  color\n",
       "29       ARFIP2  7.383859e-08   0.003363  black\n",
       "50      TPD52L2  2.430440e-07   0.037359  black\n",
       "65         OGFR  5.502492e-07   0.042275  black\n",
       "69        ISG15  6.390668e-07   0.046613  black\n",
       "71        DDX27  6.655045e-07   0.026192  black\n",
       "...         ...           ...        ...    ...\n",
       "7289      UBE2S  1.611571e-04   0.000331  black\n",
       "7372      UTP11  4.544480e-03   0.024454  black\n",
       "7466      YWHAB  2.698555e-03   0.018102  black\n",
       "7468      YWHAE  3.706101e-03   0.045077  black\n",
       "7598     ZNF703  5.498533e-03   0.019454  black\n",
       "\n",
       "[143 rows x 4 columns]"
      ]
     },
     "execution_count": 12,
     "metadata": {},
     "output_type": "execute_result"
    }
   ],
   "source": [
    "limit_x = combined.loc[combined['P_Value_x'] <= .05]\n",
    "limit_y = combined.loc[combined['P_Value_y'] <= .05]\n",
    "limit_both = limit_x.loc[limit_x['P_Value_y'] <= .05]\n",
    "print(limit_both.loc[limit_both['color'] == 'green'])\n",
    "limit_both"
   ]
  },
  {
   "cell_type": "code",
   "execution_count": 13,
   "metadata": {},
   "outputs": [
    {
     "data": {
      "image/png": "[encoded data removed]",
      "text/plain": [
       "<Figure size 1080x720 with 1 Axes>"
      ]
     },
     "metadata": {},
     "output_type": "display_data"
    }
   ],
   "source": [
    "# Format figure size and font\n",
    "plt.rcParams['figure.figsize']=(15,10)\n",
    "sns.set(font_scale = 1.3)\n",
    "\n",
    "# Format title and axis\n",
    "plot = sns.regplot(x=\"P_Value_x\", y=\"P_Value_y\", data=limit_both, scatter_kws={'facecolors':limit_both['color']})\n",
    "plot.set_title(\"P_Value Distribution for \"+gene+\" trans Proteomics\")\n",
    "plot.set(xlabel = 'P-Value for '+cancer1)\n",
    "plot.set(ylabel = 'P-Value for '+cancer2)\n",
    "\n",
    "plt.show()\n",
    "plt.clf()\n",
    "plt.close()"
   ]
  },
  {
   "cell_type": "markdown",
   "metadata": {},
   "source": [
    "TP53: 135 significant results for endometrial. No significant results for colon. 0 interacting proteins in graph with alpha = 0.05 borders."
   ]
  },
  {
   "cell_type": "code",
   "execution_count": null,
   "metadata": {},
   "outputs": [],
   "source": []
  }
 ],
 "metadata": {
  "kernelspec": {
   "display_name": "Python 3",
   "language": "python",
   "name": "python3"
  },
  "language_info": {
   "codemirror_mode": {
    "name": "ipython",
    "version": 3
   },
   "file_extension": ".py",
   "mimetype": "text/x-python",
   "name": "python",
   "nbconvert_exporter": "python",
   "pygments_lexer": "ipython3",
   "version": "3.7.3"
  }
 },
 "nbformat": 4,
 "nbformat_minor": 2
}
