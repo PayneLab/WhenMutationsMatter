{
 "cells": [
  {
   "cell_type": "markdown",
   "metadata": {},
   "source": [
    "# PIK3CA Mutation Trans Effect on Transcriptomics"
   ]
  },
  {
   "cell_type": "markdown",
   "metadata": {},
   "source": [
    "This notebook analyzes the trans effect of PIK3CA mutation on interacting and other proteins Transcriptomics, in Endometrial, Colon, and Ovarian cancer."
   ]
  },
  {
   "cell_type": "markdown",
   "metadata": {},
   "source": [
    "### Library Imports"
   ]
  },
  {
   "cell_type": "code",
   "execution_count": 1,
   "metadata": {},
   "outputs": [
    {
     "name": "stdout",
     "output_type": "stream",
     "text": [
      "                                    \r"
     ]
    }
   ],
   "source": [
    "import pandas as pd\n",
    "import numpy as np\n",
    "import scipy.stats\n",
    "import collections\n",
    "\n",
    "import warnings\n",
    "warnings.filterwarnings(\"ignore\")\n",
    "\n",
    "import cptac\n",
    "import cptac.algorithms as al\n",
    "\n",
    "en = cptac.Endometrial()\n",
    "co = cptac.Colon()\n",
    "ov = cptac.Ovarian()"
   ]
  },
  {
   "cell_type": "markdown",
   "metadata": {},
   "source": [
    "### Select Gene"
   ]
  },
  {
   "cell_type": "code",
   "execution_count": 2,
   "metadata": {},
   "outputs": [],
   "source": [
    "gene = \"PIK3CA\""
   ]
  },
  {
   "cell_type": "markdown",
   "metadata": {},
   "source": [
    "### Investigate Proteomics, Phosphoproteomics, Acetylproteomics, or Transcriptomics"
   ]
  },
  {
   "cell_type": "code",
   "execution_count": 3,
   "metadata": {},
   "outputs": [],
   "source": [
    "#omics = \"proteomics\"\n",
    "omics = \"transcriptomics\"\n",
    "#omics = \"phosphoproteomics\"\n",
    "#omics = \"acetylproteomics\""
   ]
  },
  {
   "cell_type": "markdown",
   "metadata": {},
   "source": [
    "### Track all significant comparisons in Dataframe"
   ]
  },
  {
   "cell_type": "code",
   "execution_count": 4,
   "metadata": {},
   "outputs": [],
   "source": [
    "all_significant_comparisons = pd.DataFrame(columns=['Cancer_Type', 'Gene', 'Comparison','Interacting_Protein','P_Value'])"
   ]
  },
  {
   "cell_type": "code",
   "execution_count": 5,
   "metadata": {},
   "outputs": [],
   "source": [
    "def add_to_all_significant_comparisons(df, cancer, interacting, all_sig_comp):\n",
    "    expanded = df\n",
    "    expanded['Gene'] = gene\n",
    "    expanded['Cancer_Type'] = cancer\n",
    "    expanded['Interacting_Protein'] = interacting\n",
    "    \n",
    "    updated_all_comparisons = pd.concat([all_sig_comp, expanded], sort=False)\n",
    "    \n",
    "    return updated_all_comparisons"
   ]
  },
  {
   "cell_type": "markdown",
   "metadata": {},
   "source": [
    "# Interacting Proteins: Transcriptomics"
   ]
  },
  {
   "cell_type": "markdown",
   "metadata": {},
   "source": [
    "### Generate interacting protein list"
   ]
  },
  {
   "cell_type": "markdown",
   "metadata": {},
   "source": [
    "Make a call to the cptac.algorithms get interacting proteins method, which interacts with the uniprot and string databases to generate a list of known interacting partners with the given gene"
   ]
  },
  {
   "cell_type": "code",
   "execution_count": 6,
   "metadata": {},
   "outputs": [
    {
     "name": "stdout",
     "output_type": "stream",
     "text": [
      "Interacting Proteins:\n",
      "PIK3R2\n",
      "TNS1\n",
      "RPS6KB1\n",
      "KRAS\n",
      "PDGFRA\n",
      "PIK3R3\n",
      "AKT3\n",
      "PIK3CA\n",
      "ERBB3\n",
      "IGF1R\n",
      "ERBB2\n",
      "EGFR\n",
      "GNAQ\n",
      "KIT\n",
      "MRAS\n",
      "IRS1\n",
      "CTNNB1\n",
      "NRAS\n",
      "PTEN\n",
      "IRS2\n",
      "AKT2\n",
      "CDC42\n",
      "ESR1\n",
      "HRAS\n",
      "PIK3R1\n",
      "AKT1\n",
      "ATR\n",
      "LCK\n",
      "NOTCH1\n",
      "ADAP1\n",
      "DGKZ\n",
      "ARHGEF1\n",
      "GSN\n",
      "YWHAH\n",
      "IRS4\n",
      "UBTF\n"
     ]
    }
   ],
   "source": [
    "'''Use get interacting proteins method to generate list of interacting proteins'''\n",
    "interacting_proteins = al.get_interacting_proteins(gene)\n",
    "\n",
    "'''Show interacting protein list'''\n",
    "print(\"Interacting Proteins:\")\n",
    "for interacting_protein in interacting_proteins:\n",
    "    print(interacting_protein)"
   ]
  },
  {
   "cell_type": "markdown",
   "metadata": {},
   "source": [
    "## Endometrial"
   ]
  },
  {
   "cell_type": "markdown",
   "metadata": {},
   "source": [
    "### Test for significant comparisons in any of interacting proteins"
   ]
  },
  {
   "cell_type": "code",
   "execution_count": 7,
   "metadata": {},
   "outputs": [
    {
     "name": "stdout",
     "output_type": "stream",
     "text": [
      "Doing t-test comparisons\n",
      "\n",
      "No significant comparisons.\n"
     ]
    }
   ],
   "source": [
    "'''Create dataframe in order to do comparisons with wrap_ttest'''\n",
    "protdf = en.join_omics_to_mutations(mutations_genes=[gene], omics_df_name=omics, omics_genes=interacting_proteins)\n",
    "protdf = protdf.loc[protdf['Sample_Status'] == 'Tumor']\n",
    "\n",
    "'''Create the binary valued column needed to do the comparison'''\n",
    "for ind, row in protdf.iterrows():\n",
    "    if row[gene+\"_Mutation_Status\"] != 'Wildtype_Tumor':\n",
    "        protdf.at[ind,'Label'] = 'Mutated'\n",
    "    else:\n",
    "        protdf.at[ind,'Label'] = 'Wildtype'\n",
    "\n",
    "'''Format the dataframe correctly'''\n",
    "protdf = protdf.drop(gene+\"_Mutation\",axis=1)\n",
    "protdf = protdf.drop(gene+\"_Location\",axis=1)\n",
    "protdf = protdf.drop(gene+\"_Mutation_Status\", axis=1)\n",
    "protdf = protdf.drop(\"Sample_Status\",axis=1)\n",
    "\n",
    "\n",
    "'''Make list of columns to be compared using t-tests'''\n",
    "col_list = list(protdf.columns)\n",
    "col_list.remove('Label')\n",
    "\n",
    "print(\"Doing t-test comparisons\\n\")\n",
    "\n",
    "'''Call wrap_ttest, pass in formatted dataframe'''\n",
    "wrap_results = al.wrap_ttest(protdf, 'Label', col_list)\n",
    "\n",
    "'''Print results, if anything significant was found'''\n",
    "if wrap_results is not None:\n",
    "        print(wrap_results)\n",
    "        print(\"\\n\\n\")\n",
    "        \n",
    "        all_significant_comparisons = add_to_all_significant_comparisons(wrap_results, \"Endometrial\", True, all_significant_comparisons)\n",
    "        "
   ]
  },
  {
   "cell_type": "markdown",
   "metadata": {},
   "source": [
    "## Colon"
   ]
  },
  {
   "cell_type": "markdown",
   "metadata": {},
   "source": [
    "### Test for significant comparisons in any of interacting proteins"
   ]
  },
  {
   "cell_type": "code",
   "execution_count": 8,
   "metadata": {},
   "outputs": [
    {
     "name": "stdout",
     "output_type": "stream",
     "text": [
      "ESR1 did not match any columns in transcriptomics dataframe. ESR1_transcriptomics column inserted, but filled with NaN.\n",
      "IRS4 did not match any columns in transcriptomics dataframe. IRS4_transcriptomics column inserted, but filled with NaN.\n",
      "Doing t-test comparisons\n",
      "\n",
      "No significant comparisons.\n"
     ]
    }
   ],
   "source": [
    "'''Create dataframe in order to do comparisons with wrap_ttest'''\n",
    "protdf = co.join_omics_to_mutations(mutations_genes=[gene], omics_df_name=omics, omics_genes=interacting_proteins)\n",
    "protdf = protdf.loc[protdf['Sample_Status'] == 'Tumor']\n",
    "\n",
    "'''Create the binary valued column needed to do the comparison'''\n",
    "for ind, row in protdf.iterrows():\n",
    "    if row[gene+\"_Mutation_Status\"] != 'Wildtype_Tumor':\n",
    "        protdf.at[ind,'Label'] = 'Mutated'\n",
    "    else:\n",
    "        protdf.at[ind,'Label'] = 'Wildtype'\n",
    "\n",
    "'''Format the dataframe correctly'''\n",
    "protdf = protdf.drop(gene+\"_Mutation\",axis=1)\n",
    "protdf = protdf.drop(gene+\"_Location\",axis=1)\n",
    "protdf = protdf.drop(gene+\"_Mutation_Status\", axis=1)\n",
    "protdf = protdf.drop(\"Sample_Status\",axis=1)\n",
    "\n",
    "'''Make list of columns to be compared using t-tests'''\n",
    "col_list = list(protdf.columns)\n",
    "col_list.remove('Label')\n",
    "\n",
    "print(\"Doing t-test comparisons\\n\")\n",
    "\n",
    "'''Call wrap_ttest, pass in formatted dataframe'''\n",
    "wrap_results = al.wrap_ttest(protdf, 'Label', col_list)\n",
    "\n",
    "'''Print results, if anything significant was found'''\n",
    "if wrap_results is not None:\n",
    "        print(wrap_results)\n",
    "        print(\"\\n\\n\")\n",
    "        \n",
    "        all_significant_comparisons = add_to_all_significant_comparisons(wrap_results, \"Colon\", True, all_significant_comparisons)\n"
   ]
  },
  {
   "cell_type": "markdown",
   "metadata": {},
   "source": [
    "## Ovarian"
   ]
  },
  {
   "cell_type": "markdown",
   "metadata": {},
   "source": [
    "### Test for significant comparisons in any of interacting proteins"
   ]
  },
  {
   "cell_type": "code",
   "execution_count": 9,
   "metadata": {},
   "outputs": [
    {
     "name": "stdout",
     "output_type": "stream",
     "text": [
      "NRAS did not match any columns in transcriptomics dataframe. NRAS_transcriptomics column inserted, but filled with NaN.\n",
      "Doing t-test comparisons\n",
      "\n",
      "No significant comparisons.\n"
     ]
    }
   ],
   "source": [
    "'''Create dataframe in order to do comparisons with wrap_ttest'''\n",
    "protdf = ov.join_omics_to_mutations(mutations_genes=[gene], omics_df_name=omics, omics_genes=interacting_proteins)\n",
    "protdf = protdf.loc[protdf['Sample_Status'] == 'Tumor']\n",
    "\n",
    "'''Create the binary valued column needed to do the comparison'''\n",
    "for ind, row in protdf.iterrows():\n",
    "    if row[gene+\"_Mutation_Status\"] != 'Wildtype_Tumor':\n",
    "        protdf.at[ind,'Label'] = 'Mutated'\n",
    "    else:\n",
    "        protdf.at[ind,'Label'] = 'Wildtype'\n",
    "\n",
    "'''Format the dataframe correctly'''\n",
    "protdf = protdf.drop(gene+\"_Mutation\",axis=1)\n",
    "protdf = protdf.drop(gene+\"_Location\",axis=1)\n",
    "protdf = protdf.drop(gene+\"_Mutation_Status\", axis=1)\n",
    "protdf = protdf.drop(\"Sample_Status\",axis=1)\n",
    "\n",
    "'''Make list of columns to be compared using t-tests'''\n",
    "col_list = list(protdf.columns)\n",
    "col_list.remove('Label')\n",
    "\n",
    "print(\"Doing t-test comparisons\\n\")\n",
    "\n",
    "'''Call wrap_ttest, pass in formatted dataframe'''\n",
    "wrap_results = al.wrap_ttest(protdf, 'Label', col_list)\n",
    "\n",
    "'''Print results, if anything significant was found'''\n",
    "if wrap_results is not None:\n",
    "        print(wrap_results)\n",
    "        print(\"\\n\\n\")\n",
    "        \n",
    "        all_significant_comparisons = add_to_all_significant_comparisons(wrap_results, \"Ovarian\", True, all_significant_comparisons)\n"
   ]
  },
  {
   "cell_type": "markdown",
   "metadata": {},
   "source": [
    "# All Proteins: Transcriptomics"
   ]
  },
  {
   "cell_type": "markdown",
   "metadata": {},
   "source": [
    "Expand our search for significant comparisons to all proteins in our dataset"
   ]
  },
  {
   "cell_type": "markdown",
   "metadata": {},
   "source": [
    "## Endometrial"
   ]
  },
  {
   "cell_type": "code",
   "execution_count": 10,
   "metadata": {},
   "outputs": [
    {
     "name": "stdout",
     "output_type": "stream",
     "text": [
      "\n",
      "Gene:  PIK3CA\n",
      "Doing t-test comparisons\n",
      "\n",
      "No significant comparisons.\n"
     ]
    }
   ],
   "source": [
    "try:\n",
    "    print(\"\\nGene: \", gene)\n",
    "\n",
    "    '''Use all proteins'''\n",
    "\n",
    "    '''Create dataframe in order to do comparisons with wrap_ttest'''\n",
    "    protdf = en.join_omics_to_mutations(mutations_genes=[gene], omics_df_name=omics)\n",
    "    protdf = protdf.loc[protdf['Sample_Status'] == 'Tumor']\n",
    "    \n",
    "    '''Create the binary valued column needed to do the comparison'''\n",
    "    for ind, row in protdf.iterrows():\n",
    "        if row[gene+\"_Mutation_Status\"] != 'Wildtype_Tumor':\n",
    "            protdf.at[ind,'Label'] = 'Mutated'\n",
    "        else:\n",
    "            protdf.at[ind,'Label'] = 'Wildtype'\n",
    "\n",
    "    '''Format the datafram correctly'''\n",
    "    protdf = protdf.drop(gene+\"_Mutation\",axis=1)\n",
    "    protdf = protdf.drop(gene+\"_Location\",axis=1)\n",
    "    protdf = protdf.drop(gene+\"_Mutation_Status\", axis=1)\n",
    "    protdf = protdf.drop(\"Sample_Status\",axis=1)\n",
    "\n",
    "    '''Make list of columns to be compared using t-tests'''\n",
    "    col_list = list(protdf.columns)\n",
    "    col_list.remove('Label')\n",
    "\n",
    "    print(\"Doing t-test comparisons\\n\")\n",
    "    \n",
    "    '''Call wrap_ttest, pass in formatted dataframe'''\n",
    "    wrap_results = al.wrap_ttest(protdf, 'Label', col_list)\n",
    "\n",
    "    '''Print results, if anything significant was found'''\n",
    "    if wrap_results is not None:\n",
    "            print(wrap_results)\n",
    "            print(\"\\n\\n\")\n",
    "            \n",
    "            all_significant_comparisons = add_to_all_significant_comparisons(wrap_results, \"Endometrial\", False, all_significant_comparisons)\n",
    "\n",
    "\n",
    "except Exception as e:\n",
    "    print(\"Error in Comparison\")\n",
    "    print(e)"
   ]
  },
  {
   "cell_type": "markdown",
   "metadata": {},
   "source": [
    "## Colon"
   ]
  },
  {
   "cell_type": "code",
   "execution_count": 11,
   "metadata": {},
   "outputs": [
    {
     "name": "stdout",
     "output_type": "stream",
     "text": [
      "\n",
      "Gene:  PIK3CA\n",
      "Doing t-test comparisons\n",
      "\n",
      "                 Comparison       P_Value\n",
      "0   RAPGEF4_transcriptomics  2.784630e-07\n",
      "1      RGS5_transcriptomics  2.904311e-07\n",
      "2  SERPINB6_transcriptomics  1.486781e-06\n",
      "3    CYB5D1_transcriptomics  1.806716e-06\n",
      "\n",
      "\n",
      "\n"
     ]
    }
   ],
   "source": [
    "try:\n",
    "    print(\"\\nGene: \", gene)\n",
    "\n",
    "    '''Use all proteins'''\n",
    "\n",
    "    '''Create dataframe in order to do comparisons with wrap_ttest'''\n",
    "    protdf = co.join_omics_to_mutations(mutations_genes=[gene], omics_df_name=omics)\n",
    "    protdf = protdf.loc[protdf['Sample_Status'] == 'Tumor']\n",
    "    \n",
    "    '''Create the binary valued column needed to do the comparison'''\n",
    "    for ind, row in protdf.iterrows():\n",
    "        if row[gene+\"_Mutation_Status\"] != 'Wildtype_Tumor':\n",
    "            protdf.at[ind,'Label'] = 'Mutated'\n",
    "        else:\n",
    "            protdf.at[ind,'Label'] = 'Wildtype'\n",
    "\n",
    "    '''Format the datafram correctly'''\n",
    "    protdf = protdf.drop(gene+\"_Mutation\",axis=1)\n",
    "    protdf = protdf.drop(gene+\"_Location\",axis=1)\n",
    "    protdf = protdf.drop(gene+\"_Mutation_Status\", axis=1)\n",
    "    protdf = protdf.drop(\"Sample_Status\",axis=1)\n",
    "\n",
    "    '''Make list of columns to be compared using t-tests'''\n",
    "    col_list = list(protdf.columns)\n",
    "    col_list.remove('Label')\n",
    "\n",
    "    print(\"Doing t-test comparisons\\n\")\n",
    "    \n",
    "    '''Call wrap_ttest, pass in formatted dataframe'''\n",
    "    wrap_results = al.wrap_ttest(protdf, 'Label', col_list)\n",
    "\n",
    "    '''Print results, if anything significant was found'''\n",
    "    if wrap_results is not None:\n",
    "            print(wrap_results)\n",
    "            print(\"\\n\\n\")\n",
    "            \n",
    "            all_significant_comparisons = add_to_all_significant_comparisons(wrap_results, \"Colon\", False, all_significant_comparisons)\n",
    "\n",
    "\n",
    "except Exception as e:\n",
    "    print(\"Error in Comparison\")\n",
    "    print(e)"
   ]
  },
  {
   "cell_type": "markdown",
   "metadata": {},
   "source": [
    "## Ovarian"
   ]
  },
  {
   "cell_type": "code",
   "execution_count": 12,
   "metadata": {},
   "outputs": [
    {
     "name": "stdout",
     "output_type": "stream",
     "text": [
      "\n",
      "Gene:  PIK3CA\n",
      "Doing t-test comparisons\n",
      "\n",
      "                      Comparison       P_Value\n",
      "0      LINC00837_transcriptomics  3.557735e-12\n",
      "1   LOC101927334_transcriptomics  5.268860e-11\n",
      "2   LOC100506406_transcriptomics  6.709288e-11\n",
      "3         LRRC26_transcriptomics  1.389962e-08\n",
      "4         KCNK16_transcriptomics  5.616948e-08\n",
      "5      FAM90A27P_transcriptomics  6.579701e-08\n",
      "6         SPINK1_transcriptomics  7.589602e-08\n",
      "7        SLC17A1_transcriptomics  8.172463e-08\n",
      "8        TRIM43B_transcriptomics  2.542417e-07\n",
      "9         GUCA1C_transcriptomics  2.782431e-07\n",
      "10        TRIM43_transcriptomics  2.979288e-07\n",
      "11         SEC1P_transcriptomics  3.509076e-07\n",
      "12         KLK12_transcriptomics  5.269244e-07\n",
      "13        THSD7A_transcriptomics  8.352956e-07\n",
      "14      C15orf43_transcriptomics  1.302032e-06\n",
      "15        VPS13A_transcriptomics  1.463717e-06\n",
      "16     GLIS3-AS1_transcriptomics  1.787845e-06\n",
      "17         WDR16_transcriptomics  1.991623e-06\n",
      "\n",
      "\n",
      "\n"
     ]
    }
   ],
   "source": [
    "\n",
    "print(\"\\nGene: \", gene)\n",
    "\n",
    "'''Use all proteins'''\n",
    "\n",
    "'''Create dataframe in order to do comparisons with wrap_ttest'''\n",
    "protdf = ov.join_omics_to_mutations(mutations_genes=[gene], omics_df_name=omics)\n",
    "protdf = protdf.loc[protdf['Sample_Status'] == 'Tumor']\n",
    "protdf = protdf.loc[:,~protdf.columns.duplicated()]\n",
    "\n",
    "'''Create the binary valued column needed to do the comparison'''\n",
    "for ind, row in protdf.iterrows():\n",
    "    if row[gene+\"_Mutation_Status\"] != 'Wildtype_Tumor':\n",
    "        protdf.at[ind,'Label'] = 'Mutated'\n",
    "    else:\n",
    "        protdf.at[ind,'Label'] = 'Wildtype'\n",
    "\n",
    "'''Format the datafram correctly'''\n",
    "protdf = protdf.drop(gene+\"_Mutation\",axis=1)\n",
    "protdf = protdf.drop(gene+\"_Location\",axis=1)\n",
    "protdf = protdf.drop(gene+\"_Mutation_Status\", axis=1)\n",
    "protdf = protdf.drop(\"Sample_Status\",axis=1)\n",
    "\n",
    "'''Make list of columns to be compared using t-tests'''\n",
    "col_list = list(protdf.columns)\n",
    "col_list.remove('Label')\n",
    "\n",
    "print(\"Doing t-test comparisons\\n\")\n",
    "\n",
    "'''Call wrap_ttest, pass in formatted dataframe'''\n",
    "wrap_results = al.wrap_ttest(protdf, 'Label', col_list)\n",
    "\n",
    "'''Print results, if anything significant was found'''\n",
    "if wrap_results is not None:\n",
    "        print(wrap_results)\n",
    "        print(\"\\n\\n\")\n",
    "        \n",
    "        all_significant_comparisons = add_to_all_significant_comparisons(wrap_results, \"Ovarian\", False, all_significant_comparisons)"
   ]
  },
  {
   "cell_type": "markdown",
   "metadata": {},
   "source": [
    "### Print All Signififant Comparisons"
   ]
  },
  {
   "cell_type": "code",
   "execution_count": 19,
   "metadata": {},
   "outputs": [
    {
     "data": {
      "text/html": [
       "<div>\n",
       "<style scoped>\n",
       "    .dataframe tbody tr th:only-of-type {\n",
       "        vertical-align: middle;\n",
       "    }\n",
       "\n",
       "    .dataframe tbody tr th {\n",
       "        vertical-align: top;\n",
       "    }\n",
       "\n",
       "    .dataframe thead th {\n",
       "        text-align: right;\n",
       "    }\n",
       "</style>\n",
       "<table border=\"1\" class=\"dataframe\">\n",
       "  <thead>\n",
       "    <tr style=\"text-align: right;\">\n",
       "      <th></th>\n",
       "      <th>Cancer_Type</th>\n",
       "      <th>Gene</th>\n",
       "      <th>Comparison</th>\n",
       "      <th>Interacting_Protein</th>\n",
       "      <th>P_Value</th>\n",
       "    </tr>\n",
       "  </thead>\n",
       "  <tbody>\n",
       "    <tr>\n",
       "      <th>0</th>\n",
       "      <td>Colon</td>\n",
       "      <td>PIK3CA</td>\n",
       "      <td>RAPGEF4_transcriptomics</td>\n",
       "      <td>False</td>\n",
       "      <td>2.784630e-07</td>\n",
       "    </tr>\n",
       "    <tr>\n",
       "      <th>1</th>\n",
       "      <td>Colon</td>\n",
       "      <td>PIK3CA</td>\n",
       "      <td>RGS5_transcriptomics</td>\n",
       "      <td>False</td>\n",
       "      <td>2.904311e-07</td>\n",
       "    </tr>\n",
       "    <tr>\n",
       "      <th>2</th>\n",
       "      <td>Colon</td>\n",
       "      <td>PIK3CA</td>\n",
       "      <td>SERPINB6_transcriptomics</td>\n",
       "      <td>False</td>\n",
       "      <td>1.486781e-06</td>\n",
       "    </tr>\n",
       "    <tr>\n",
       "      <th>3</th>\n",
       "      <td>Colon</td>\n",
       "      <td>PIK3CA</td>\n",
       "      <td>CYB5D1_transcriptomics</td>\n",
       "      <td>False</td>\n",
       "      <td>1.806716e-06</td>\n",
       "    </tr>\n",
       "    <tr>\n",
       "      <th>0</th>\n",
       "      <td>Ovarian</td>\n",
       "      <td>PIK3CA</td>\n",
       "      <td>LINC00837_transcriptomics</td>\n",
       "      <td>False</td>\n",
       "      <td>3.557735e-12</td>\n",
       "    </tr>\n",
       "    <tr>\n",
       "      <th>1</th>\n",
       "      <td>Ovarian</td>\n",
       "      <td>PIK3CA</td>\n",
       "      <td>LOC101927334_transcriptomics</td>\n",
       "      <td>False</td>\n",
       "      <td>5.268860e-11</td>\n",
       "    </tr>\n",
       "    <tr>\n",
       "      <th>2</th>\n",
       "      <td>Ovarian</td>\n",
       "      <td>PIK3CA</td>\n",
       "      <td>LOC100506406_transcriptomics</td>\n",
       "      <td>False</td>\n",
       "      <td>6.709288e-11</td>\n",
       "    </tr>\n",
       "    <tr>\n",
       "      <th>3</th>\n",
       "      <td>Ovarian</td>\n",
       "      <td>PIK3CA</td>\n",
       "      <td>LRRC26_transcriptomics</td>\n",
       "      <td>False</td>\n",
       "      <td>1.389962e-08</td>\n",
       "    </tr>\n",
       "    <tr>\n",
       "      <th>4</th>\n",
       "      <td>Ovarian</td>\n",
       "      <td>PIK3CA</td>\n",
       "      <td>KCNK16_transcriptomics</td>\n",
       "      <td>False</td>\n",
       "      <td>5.616948e-08</td>\n",
       "    </tr>\n",
       "    <tr>\n",
       "      <th>5</th>\n",
       "      <td>Ovarian</td>\n",
       "      <td>PIK3CA</td>\n",
       "      <td>FAM90A27P_transcriptomics</td>\n",
       "      <td>False</td>\n",
       "      <td>6.579701e-08</td>\n",
       "    </tr>\n",
       "    <tr>\n",
       "      <th>6</th>\n",
       "      <td>Ovarian</td>\n",
       "      <td>PIK3CA</td>\n",
       "      <td>SPINK1_transcriptomics</td>\n",
       "      <td>False</td>\n",
       "      <td>7.589602e-08</td>\n",
       "    </tr>\n",
       "    <tr>\n",
       "      <th>7</th>\n",
       "      <td>Ovarian</td>\n",
       "      <td>PIK3CA</td>\n",
       "      <td>SLC17A1_transcriptomics</td>\n",
       "      <td>False</td>\n",
       "      <td>8.172463e-08</td>\n",
       "    </tr>\n",
       "    <tr>\n",
       "      <th>8</th>\n",
       "      <td>Ovarian</td>\n",
       "      <td>PIK3CA</td>\n",
       "      <td>TRIM43B_transcriptomics</td>\n",
       "      <td>False</td>\n",
       "      <td>2.542417e-07</td>\n",
       "    </tr>\n",
       "    <tr>\n",
       "      <th>9</th>\n",
       "      <td>Ovarian</td>\n",
       "      <td>PIK3CA</td>\n",
       "      <td>GUCA1C_transcriptomics</td>\n",
       "      <td>False</td>\n",
       "      <td>2.782431e-07</td>\n",
       "    </tr>\n",
       "    <tr>\n",
       "      <th>10</th>\n",
       "      <td>Ovarian</td>\n",
       "      <td>PIK3CA</td>\n",
       "      <td>TRIM43_transcriptomics</td>\n",
       "      <td>False</td>\n",
       "      <td>2.979288e-07</td>\n",
       "    </tr>\n",
       "    <tr>\n",
       "      <th>11</th>\n",
       "      <td>Ovarian</td>\n",
       "      <td>PIK3CA</td>\n",
       "      <td>SEC1P_transcriptomics</td>\n",
       "      <td>False</td>\n",
       "      <td>3.509076e-07</td>\n",
       "    </tr>\n",
       "    <tr>\n",
       "      <th>12</th>\n",
       "      <td>Ovarian</td>\n",
       "      <td>PIK3CA</td>\n",
       "      <td>KLK12_transcriptomics</td>\n",
       "      <td>False</td>\n",
       "      <td>5.269244e-07</td>\n",
       "    </tr>\n",
       "    <tr>\n",
       "      <th>13</th>\n",
       "      <td>Ovarian</td>\n",
       "      <td>PIK3CA</td>\n",
       "      <td>THSD7A_transcriptomics</td>\n",
       "      <td>False</td>\n",
       "      <td>8.352956e-07</td>\n",
       "    </tr>\n",
       "    <tr>\n",
       "      <th>14</th>\n",
       "      <td>Ovarian</td>\n",
       "      <td>PIK3CA</td>\n",
       "      <td>C15orf43_transcriptomics</td>\n",
       "      <td>False</td>\n",
       "      <td>1.302032e-06</td>\n",
       "    </tr>\n",
       "    <tr>\n",
       "      <th>15</th>\n",
       "      <td>Ovarian</td>\n",
       "      <td>PIK3CA</td>\n",
       "      <td>VPS13A_transcriptomics</td>\n",
       "      <td>False</td>\n",
       "      <td>1.463717e-06</td>\n",
       "    </tr>\n",
       "    <tr>\n",
       "      <th>16</th>\n",
       "      <td>Ovarian</td>\n",
       "      <td>PIK3CA</td>\n",
       "      <td>GLIS3-AS1_transcriptomics</td>\n",
       "      <td>False</td>\n",
       "      <td>1.787845e-06</td>\n",
       "    </tr>\n",
       "    <tr>\n",
       "      <th>17</th>\n",
       "      <td>Ovarian</td>\n",
       "      <td>PIK3CA</td>\n",
       "      <td>WDR16_transcriptomics</td>\n",
       "      <td>False</td>\n",
       "      <td>1.991623e-06</td>\n",
       "    </tr>\n",
       "  </tbody>\n",
       "</table>\n",
       "</div>"
      ],
      "text/plain": [
       "   Cancer_Type    Gene                    Comparison Interacting_Protein  \\\n",
       "0        Colon  PIK3CA       RAPGEF4_transcriptomics               False   \n",
       "1        Colon  PIK3CA          RGS5_transcriptomics               False   \n",
       "2        Colon  PIK3CA      SERPINB6_transcriptomics               False   \n",
       "3        Colon  PIK3CA        CYB5D1_transcriptomics               False   \n",
       "0      Ovarian  PIK3CA     LINC00837_transcriptomics               False   \n",
       "1      Ovarian  PIK3CA  LOC101927334_transcriptomics               False   \n",
       "2      Ovarian  PIK3CA  LOC100506406_transcriptomics               False   \n",
       "3      Ovarian  PIK3CA        LRRC26_transcriptomics               False   \n",
       "4      Ovarian  PIK3CA        KCNK16_transcriptomics               False   \n",
       "5      Ovarian  PIK3CA     FAM90A27P_transcriptomics               False   \n",
       "6      Ovarian  PIK3CA        SPINK1_transcriptomics               False   \n",
       "7      Ovarian  PIK3CA       SLC17A1_transcriptomics               False   \n",
       "8      Ovarian  PIK3CA       TRIM43B_transcriptomics               False   \n",
       "9      Ovarian  PIK3CA        GUCA1C_transcriptomics               False   \n",
       "10     Ovarian  PIK3CA        TRIM43_transcriptomics               False   \n",
       "11     Ovarian  PIK3CA         SEC1P_transcriptomics               False   \n",
       "12     Ovarian  PIK3CA         KLK12_transcriptomics               False   \n",
       "13     Ovarian  PIK3CA        THSD7A_transcriptomics               False   \n",
       "14     Ovarian  PIK3CA      C15orf43_transcriptomics               False   \n",
       "15     Ovarian  PIK3CA        VPS13A_transcriptomics               False   \n",
       "16     Ovarian  PIK3CA     GLIS3-AS1_transcriptomics               False   \n",
       "17     Ovarian  PIK3CA         WDR16_transcriptomics               False   \n",
       "\n",
       "         P_Value  \n",
       "0   2.784630e-07  \n",
       "1   2.904311e-07  \n",
       "2   1.486781e-06  \n",
       "3   1.806716e-06  \n",
       "0   3.557735e-12  \n",
       "1   5.268860e-11  \n",
       "2   6.709288e-11  \n",
       "3   1.389962e-08  \n",
       "4   5.616948e-08  \n",
       "5   6.579701e-08  \n",
       "6   7.589602e-08  \n",
       "7   8.172463e-08  \n",
       "8   2.542417e-07  \n",
       "9   2.782431e-07  \n",
       "10  2.979288e-07  \n",
       "11  3.509076e-07  \n",
       "12  5.269244e-07  \n",
       "13  8.352956e-07  \n",
       "14  1.302032e-06  \n",
       "15  1.463717e-06  \n",
       "16  1.787845e-06  \n",
       "17  1.991623e-06  "
      ]
     },
     "metadata": {},
     "output_type": "display_data"
    }
   ],
   "source": [
    "if len(all_significant_comparisons) == 0:\n",
    "    print('No Significant Comparisons!')\n",
    "    \n",
    "else:\n",
    "    display(all_significant_comparisons)"
   ]
  },
  {
   "cell_type": "markdown",
   "metadata": {},
   "source": [
    "### Write Significant Comparisons (if any) to Shared CSV file"
   ]
  },
  {
   "cell_type": "code",
   "execution_count": 14,
   "metadata": {},
   "outputs": [],
   "source": [
    "existing_results = pd.read_csv(gene+'_Trans_Results.csv')\n",
    "\n",
    "updated_results = pd.concat([existing_results, all_significant_comparisons], sort=False)\n",
    "\n",
    "updated_results.to_csv(path_or_buf = gene + '_Trans_Results.csv', index=False)"
   ]
  }
 ],
 "metadata": {
  "kernelspec": {
   "display_name": "Python 3",
   "language": "python",
   "name": "python3"
  },
  "language_info": {
   "codemirror_mode": {
    "name": "ipython",
    "version": 3
   },
   "file_extension": ".py",
   "mimetype": "text/x-python",
   "name": "python",
   "nbconvert_exporter": "python",
   "pygments_lexer": "ipython3",
   "version": "3.6.8"
  }
 },
 "nbformat": 4,
 "nbformat_minor": 2
}
