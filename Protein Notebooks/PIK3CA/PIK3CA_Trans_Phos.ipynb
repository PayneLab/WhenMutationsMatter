{
 "cells": [
  {
   "cell_type": "markdown",
   "metadata": {},
   "source": [
    "# PIK3CA Mutation Trans Effect on Phosphoproteomics"
   ]
  },
  {
   "cell_type": "markdown",
   "metadata": {},
   "source": [
    "This notebook analyzes the trans effect of PIK3CA mutation on interacting and other proteins Phosphoproteomics, in Endometrial, Colon, and Ovarian cancer."
   ]
  },
  {
   "cell_type": "markdown",
   "metadata": {},
   "source": [
    "### Library Imports"
   ]
  },
  {
   "cell_type": "code",
   "execution_count": 1,
   "metadata": {},
   "outputs": [
    {
     "name": "stdout",
     "output_type": "stream",
     "text": [
      "                                    \r"
     ]
    }
   ],
   "source": [
    "import pandas as pd\n",
    "import numpy as np\n",
    "import scipy.stats\n",
    "\n",
    "import warnings\n",
    "warnings.filterwarnings(\"ignore\")\n",
    "\n",
    "import cptac\n",
    "import cptac.algorithms as al\n",
    "\n",
    "en = cptac.Endometrial()\n",
    "co = cptac.Colon()\n",
    "ov = cptac.Ovarian()"
   ]
  },
  {
   "cell_type": "markdown",
   "metadata": {},
   "source": [
    "### Select Gene"
   ]
  },
  {
   "cell_type": "code",
   "execution_count": 2,
   "metadata": {},
   "outputs": [],
   "source": [
    "gene = \"PIK3CA\""
   ]
  },
  {
   "cell_type": "markdown",
   "metadata": {},
   "source": [
    "### Investigate Proteomics, Phosphoproteomics, Acetylproteomics, or Transcriptomics"
   ]
  },
  {
   "cell_type": "code",
   "execution_count": 3,
   "metadata": {},
   "outputs": [],
   "source": [
    "#omics = \"proteomics\"\n",
    "#omics = \"transcriptomics\"\n",
    "omics = \"phosphoproteomics\"\n",
    "#omics = \"acetylproteomics\""
   ]
  },
  {
   "cell_type": "markdown",
   "metadata": {},
   "source": [
    "### Track all significant comparisons in Dataframe"
   ]
  },
  {
   "cell_type": "code",
   "execution_count": 4,
   "metadata": {},
   "outputs": [],
   "source": [
    "all_significant_comparisons = pd.DataFrame(columns=['Cancer_Type', 'Gene', 'Comparison','Interacting_Protein','P_Value'])"
   ]
  },
  {
   "cell_type": "code",
   "execution_count": 5,
   "metadata": {},
   "outputs": [],
   "source": [
    "def add_to_all_significant_comparisons(df, cancer, interacting, all_sig_comp):\n",
    "    expanded = df\n",
    "    expanded['Gene'] = gene\n",
    "    expanded['Cancer_Type'] = cancer\n",
    "    expanded['Interacting_Protein'] = interacting\n",
    "    \n",
    "    updated_all_comparisons = pd.concat([all_sig_comp, expanded], sort=False)\n",
    "    \n",
    "    return updated_all_comparisons"
   ]
  },
  {
   "cell_type": "markdown",
   "metadata": {},
   "source": [
    "# Interacting Proteins: Phosphoproteomics"
   ]
  },
  {
   "cell_type": "markdown",
   "metadata": {},
   "source": [
    "### Generate interacting protein list"
   ]
  },
  {
   "cell_type": "code",
   "execution_count": 6,
   "metadata": {},
   "outputs": [
    {
     "name": "stdout",
     "output_type": "stream",
     "text": [
      "Interacting Proteins:\n",
      "PIK3R2\n",
      "TNS1\n",
      "RPS6KB1\n",
      "KRAS\n",
      "PDGFRA\n",
      "PIK3R3\n",
      "AKT3\n",
      "PIK3CA\n",
      "ERBB3\n",
      "IGF1R\n",
      "ERBB2\n",
      "EGFR\n",
      "GNAQ\n",
      "KIT\n",
      "MRAS\n",
      "IRS1\n",
      "CTNNB1\n",
      "NRAS\n",
      "PTEN\n",
      "IRS2\n",
      "AKT2\n",
      "CDC42\n",
      "ESR1\n",
      "HRAS\n",
      "PIK3R1\n",
      "AKT1\n",
      "ATR\n",
      "LCK\n",
      "NOTCH1\n",
      "ADAP1\n",
      "DGKZ\n",
      "ARHGEF1\n",
      "GSN\n",
      "YWHAH\n",
      "IRS4\n",
      "UBTF\n"
     ]
    }
   ],
   "source": [
    "'''Use get interacting proteins method to generate list of interacting proteins'''\n",
    "interacting_proteins = al.get_interacting_proteins(gene)\n",
    "\n",
    "print(\"Interacting Proteins:\")\n",
    "for interacting_protein in interacting_proteins:\n",
    "    print(interacting_protein)"
   ]
  },
  {
   "cell_type": "markdown",
   "metadata": {},
   "source": [
    "## Endometrial"
   ]
  },
  {
   "cell_type": "markdown",
   "metadata": {},
   "source": [
    "### Test for significant comparisons in any of interacting proteins"
   ]
  },
  {
   "cell_type": "code",
   "execution_count": 7,
   "metadata": {},
   "outputs": [
    {
     "name": "stdout",
     "output_type": "stream",
     "text": [
      "PIK3R3 did not match any columns in phosphoproteomics dataframe. PIK3R3_phosphoproteomics column inserted, but filled with NaN.\n",
      "GNAQ did not match any columns in phosphoproteomics dataframe. GNAQ_phosphoproteomics column inserted, but filled with NaN.\n",
      "MRAS did not match any columns in phosphoproteomics dataframe. MRAS_phosphoproteomics column inserted, but filled with NaN.\n",
      "CDC42 did not match any columns in phosphoproteomics dataframe. CDC42_phosphoproteomics column inserted, but filled with NaN.\n",
      "HRAS did not match any columns in phosphoproteomics dataframe. HRAS_phosphoproteomics column inserted, but filled with NaN.\n",
      "ADAP1 did not match any columns in phosphoproteomics dataframe. ADAP1_phosphoproteomics column inserted, but filled with NaN.\n",
      "IRS4 did not match any columns in phosphoproteomics dataframe. IRS4_phosphoproteomics column inserted, but filled with NaN.\n",
      "Doing t-test comparisons\n",
      "\n",
      "No significant comparisons.\n"
     ]
    }
   ],
   "source": [
    "'''Create dataframe in order to do comparisons with wrap_ttest'''\n",
    "protdf = en.join_omics_to_mutations(mutations_genes=[gene], omics_df_name=omics, omics_genes=interacting_proteins)\n",
    "protdf = protdf.loc[protdf['Sample_Status'] == 'Tumor']\n",
    "\n",
    "'''Create the binary valued column needed to do the comparison'''\n",
    "for ind, row in protdf.iterrows():\n",
    "    if row[gene+\"_Mutation_Status\"] != 'Wildtype_Tumor':\n",
    "        protdf.at[ind,'Label'] = 'Mutated'\n",
    "    else:\n",
    "        protdf.at[ind,'Label'] = 'Wildtype'\n",
    "\n",
    "'''Format the dataframe correctly'''\n",
    "protdf = protdf.drop(gene+\"_Mutation\",axis=1)\n",
    "protdf = protdf.drop(gene+\"_Location\",axis=1)\n",
    "protdf = protdf.drop(gene+\"_Mutation_Status\", axis=1)\n",
    "protdf = protdf.drop(\"Sample_Status\",axis=1)\n",
    "\n",
    "\n",
    "'''Make list of columns to be compared using t-tests'''\n",
    "col_list = list(protdf.columns)\n",
    "col_list.remove('Label')\n",
    "\n",
    "print(\"Doing t-test comparisons\\n\")\n",
    "\n",
    "'''Call wrap_ttest, pass in formatted dataframe'''\n",
    "wrap_results = al.wrap_ttest(protdf, 'Label', col_list)\n",
    "\n",
    "'''Print results, if anything significant was found'''\n",
    "if wrap_results is not None:\n",
    "        print(wrap_results)\n",
    "        print(\"\\n\\n\")\n",
    "        \n",
    "        all_significant_comparisons = add_to_all_significant_comparisons(wrap_results, \"Endometrial\", True, all_significant_comparisons)\n"
   ]
  },
  {
   "cell_type": "markdown",
   "metadata": {},
   "source": [
    "## Colon"
   ]
  },
  {
   "cell_type": "markdown",
   "metadata": {},
   "source": [
    "### Test for significant comparisons in any of interacting proteins"
   ]
  },
  {
   "cell_type": "code",
   "execution_count": 8,
   "metadata": {},
   "outputs": [
    {
     "name": "stdout",
     "output_type": "stream",
     "text": [
      "PIK3R2 did not match any columns in phosphoproteomics dataframe. PIK3R2_phosphoproteomics column inserted, but filled with NaN.\n",
      "TNS1 did not match any columns in phosphoproteomics dataframe. TNS1_phosphoproteomics column inserted, but filled with NaN.\n",
      "RPS6KB1 did not match any columns in phosphoproteomics dataframe. RPS6KB1_phosphoproteomics column inserted, but filled with NaN.\n",
      "KRAS did not match any columns in phosphoproteomics dataframe. KRAS_phosphoproteomics column inserted, but filled with NaN.\n",
      "PDGFRA did not match any columns in phosphoproteomics dataframe. PDGFRA_phosphoproteomics column inserted, but filled with NaN.\n",
      "PIK3R3 did not match any columns in phosphoproteomics dataframe. PIK3R3_phosphoproteomics column inserted, but filled with NaN.\n",
      "AKT3 did not match any columns in phosphoproteomics dataframe. AKT3_phosphoproteomics column inserted, but filled with NaN.\n",
      "PIK3CA did not match any columns in phosphoproteomics dataframe. PIK3CA_phosphoproteomics column inserted, but filled with NaN.\n",
      "ERBB3 did not match any columns in phosphoproteomics dataframe. ERBB3_phosphoproteomics column inserted, but filled with NaN.\n",
      "IGF1R did not match any columns in phosphoproteomics dataframe. IGF1R_phosphoproteomics column inserted, but filled with NaN.\n",
      "ERBB2 did not match any columns in phosphoproteomics dataframe. ERBB2_phosphoproteomics column inserted, but filled with NaN.\n",
      "EGFR did not match any columns in phosphoproteomics dataframe. EGFR_phosphoproteomics column inserted, but filled with NaN.\n",
      "GNAQ did not match any columns in phosphoproteomics dataframe. GNAQ_phosphoproteomics column inserted, but filled with NaN.\n",
      "KIT did not match any columns in phosphoproteomics dataframe. KIT_phosphoproteomics column inserted, but filled with NaN.\n",
      "MRAS did not match any columns in phosphoproteomics dataframe. MRAS_phosphoproteomics column inserted, but filled with NaN.\n",
      "IRS1 did not match any columns in phosphoproteomics dataframe. IRS1_phosphoproteomics column inserted, but filled with NaN.\n",
      "CTNNB1 did not match any columns in phosphoproteomics dataframe. CTNNB1_phosphoproteomics column inserted, but filled with NaN.\n",
      "NRAS did not match any columns in phosphoproteomics dataframe. NRAS_phosphoproteomics column inserted, but filled with NaN.\n",
      "PTEN did not match any columns in phosphoproteomics dataframe. PTEN_phosphoproteomics column inserted, but filled with NaN.\n",
      "IRS2 did not match any columns in phosphoproteomics dataframe. IRS2_phosphoproteomics column inserted, but filled with NaN.\n",
      "AKT2 did not match any columns in phosphoproteomics dataframe. AKT2_phosphoproteomics column inserted, but filled with NaN.\n",
      "CDC42 did not match any columns in phosphoproteomics dataframe. CDC42_phosphoproteomics column inserted, but filled with NaN.\n",
      "ESR1 did not match any columns in phosphoproteomics dataframe. ESR1_phosphoproteomics column inserted, but filled with NaN.\n",
      "HRAS did not match any columns in phosphoproteomics dataframe. HRAS_phosphoproteomics column inserted, but filled with NaN.\n",
      "PIK3R1 did not match any columns in phosphoproteomics dataframe. PIK3R1_phosphoproteomics column inserted, but filled with NaN.\n",
      "AKT1 did not match any columns in phosphoproteomics dataframe. AKT1_phosphoproteomics column inserted, but filled with NaN.\n",
      "ATR did not match any columns in phosphoproteomics dataframe. ATR_phosphoproteomics column inserted, but filled with NaN.\n",
      "LCK did not match any columns in phosphoproteomics dataframe. LCK_phosphoproteomics column inserted, but filled with NaN.\n",
      "NOTCH1 did not match any columns in phosphoproteomics dataframe. NOTCH1_phosphoproteomics column inserted, but filled with NaN.\n",
      "ADAP1 did not match any columns in phosphoproteomics dataframe. ADAP1_phosphoproteomics column inserted, but filled with NaN.\n",
      "DGKZ did not match any columns in phosphoproteomics dataframe. DGKZ_phosphoproteomics column inserted, but filled with NaN.\n",
      "ARHGEF1 did not match any columns in phosphoproteomics dataframe. ARHGEF1_phosphoproteomics column inserted, but filled with NaN.\n",
      "GSN did not match any columns in phosphoproteomics dataframe. GSN_phosphoproteomics column inserted, but filled with NaN.\n",
      "YWHAH did not match any columns in phosphoproteomics dataframe. YWHAH_phosphoproteomics column inserted, but filled with NaN.\n",
      "IRS4 did not match any columns in phosphoproteomics dataframe. IRS4_phosphoproteomics column inserted, but filled with NaN.\n",
      "UBTF did not match any columns in phosphoproteomics dataframe. UBTF_phosphoproteomics column inserted, but filled with NaN.\n",
      "Doing t-test comparisons\n",
      "\n",
      "No significant comparisons.\n"
     ]
    }
   ],
   "source": [
    "'''Create dataframe in order to do comparisons with wrap_ttest'''\n",
    "protdf = co.join_omics_to_mutations(mutations_genes=[gene], omics_df_name=omics, omics_genes=interacting_proteins)\n",
    "protdf = protdf.loc[protdf['Sample_Status'] == 'Tumor']\n",
    "\n",
    "'''Create the binary valued column needed to do the comparison'''\n",
    "for ind, row in protdf.iterrows():\n",
    "    if row[gene+\"_Mutation_Status\"] != 'Wildtype_Tumor':\n",
    "        protdf.at[ind,'Label'] = 'Mutated'\n",
    "    else:\n",
    "        protdf.at[ind,'Label'] = 'Wildtype'\n",
    "\n",
    "'''Format the dataframe correctly'''\n",
    "protdf = protdf.drop(gene+\"_Mutation\",axis=1)\n",
    "protdf = protdf.drop(gene+\"_Location\",axis=1)\n",
    "protdf = protdf.drop(gene+\"_Mutation_Status\", axis=1)\n",
    "protdf = protdf.drop(\"Sample_Status\",axis=1)\n",
    "\n",
    "'''Make list of columns to be compared using t-tests'''\n",
    "col_list = list(protdf.columns)\n",
    "col_list.remove('Label')\n",
    "\n",
    "print(\"Doing t-test comparisons\\n\")\n",
    "\n",
    "'''Call wrap_ttest, pass in formatted dataframe'''\n",
    "wrap_results = al.wrap_ttest(protdf, 'Label', col_list)\n",
    "\n",
    "'''Print results, if anything significant was found'''\n",
    "if wrap_results is not None:\n",
    "        print(wrap_results)\n",
    "        print(\"\\n\\n\")\n",
    "        \n",
    "        all_significant_comparisons = add_to_all_significant_comparisons(wrap_results, \"Colon\", True, all_significant_comparisons)\n"
   ]
  },
  {
   "cell_type": "markdown",
   "metadata": {},
   "source": [
    "## Ovarian"
   ]
  },
  {
   "cell_type": "code",
   "execution_count": 9,
   "metadata": {},
   "outputs": [
    {
     "name": "stdout",
     "output_type": "stream",
     "text": [
      "KRAS did not match any columns in phosphoproteomics dataframe. KRAS_phosphoproteomics column inserted, but filled with NaN.\n",
      "GNAQ did not match any columns in phosphoproteomics dataframe. GNAQ_phosphoproteomics column inserted, but filled with NaN.\n",
      "MRAS did not match any columns in phosphoproteomics dataframe. MRAS_phosphoproteomics column inserted, but filled with NaN.\n",
      "NRAS did not match any columns in phosphoproteomics dataframe. NRAS_phosphoproteomics column inserted, but filled with NaN.\n",
      "CDC42 did not match any columns in phosphoproteomics dataframe. CDC42_phosphoproteomics column inserted, but filled with NaN.\n",
      "HRAS did not match any columns in phosphoproteomics dataframe. HRAS_phosphoproteomics column inserted, but filled with NaN.\n",
      "NOTCH1 did not match any columns in phosphoproteomics dataframe. NOTCH1_phosphoproteomics column inserted, but filled with NaN.\n",
      "ADAP1 did not match any columns in phosphoproteomics dataframe. ADAP1_phosphoproteomics column inserted, but filled with NaN.\n",
      "IRS4 did not match any columns in phosphoproteomics dataframe. IRS4_phosphoproteomics column inserted, but filled with NaN.\n",
      "Doing t-test comparisons\n",
      "\n",
      "No significant comparisons.\n"
     ]
    }
   ],
   "source": [
    "'''Create dataframe in order to do comparisons with wrap_ttest'''\n",
    "protdf = ov.join_omics_to_mutations(mutations_genes=[gene], omics_df_name=omics, omics_genes=interacting_proteins) \n",
    "protdf = protdf.loc[protdf['Sample_Status'] == 'Tumor']\n",
    "\n",
    "'''Create the binary valued column needed to do the comparison'''\n",
    "for ind, row in protdf.iterrows():\n",
    "    if row[gene+\"_Mutation_Status\"] != 'Wildtype_Tumor':\n",
    "        protdf.loc[ind,'Label'] = 'Mutated'\n",
    "    else:\n",
    "        protdf.loc[ind,'Label'] = 'Wildtype'\n",
    "\n",
    "'''Format the dataframe correctly'''\n",
    "protdf = protdf.drop(gene+\"_Mutation\",axis=1)\n",
    "protdf = protdf.drop(gene+\"_Location\",axis=1)\n",
    "protdf = protdf.drop(gene+\"_Mutation_Status\", axis=1)\n",
    "protdf = protdf.drop(\"Sample_Status\",axis=1)\n",
    "protdf = protdf.loc[:,~protdf.columns.duplicated()]\n",
    "\n",
    "'''Make list of columns to be compared using t-tests'''\n",
    "col_list = list(protdf.columns)\n",
    "col_list.remove('Label')\n",
    "\n",
    "print(\"Doing t-test comparisons\\n\")\n",
    "\n",
    "'''Call wrap_ttest, pass in formatted dataframe'''\n",
    "wrap_results = al.wrap_ttest(protdf, 'Label', col_list)\n",
    "\n",
    "'''Print results, if anything significant was found'''\n",
    "if wrap_results is not None:\n",
    "        print(wrap_results)\n",
    "        print(\"\\n\\n\")\n",
    "        \n",
    "        all_significant_comparisons = add_to_all_significant_comparisons(wrap_results, \"Ovarian\", True, all_significant_comparisons)\n"
   ]
  },
  {
   "cell_type": "markdown",
   "metadata": {},
   "source": [
    "# All Proteins: Phosphoproteomics"
   ]
  },
  {
   "cell_type": "markdown",
   "metadata": {},
   "source": [
    "## Endometrial"
   ]
  },
  {
   "cell_type": "code",
   "execution_count": 10,
   "metadata": {},
   "outputs": [
    {
     "name": "stdout",
     "output_type": "stream",
     "text": [
      "\n",
      "Gene:  PIK3CA\n",
      "Doing t-test comparisons\n",
      "\n",
      "No significant comparisons.\n"
     ]
    }
   ],
   "source": [
    "try:\n",
    "    print(\"\\nGene: \", gene)\n",
    "\n",
    "    '''Use all proteins'''\n",
    "    proteomics = en.get_proteomics()\n",
    "    all_proteins = proteomics.columns\n",
    "    #all_proteins = all_proteins[:100]\n",
    "\n",
    "    '''Create dataframe in order to do comparisons with wrap_ttest'''\n",
    "    protdf = en.join_omics_to_mutations(mutations_genes=[gene], omics_df_name=omics)\n",
    "    protdf = protdf.loc[protdf['Sample_Status'] == 'Tumor']\n",
    "    \n",
    "    '''Create the binary valued column needed to do the comparison'''\n",
    "    for ind, row in protdf.iterrows():\n",
    "        if row[gene+\"_Mutation_Status\"] != 'Wildtype_Tumor':\n",
    "            protdf.at[ind,'Label'] = 'Mutated'\n",
    "        else:\n",
    "            protdf.at[ind,'Label'] = 'Wildtype'\n",
    "\n",
    "    '''Format the datafram correctly'''\n",
    "    protdf = protdf.drop(gene+\"_Mutation\",axis=1)\n",
    "    protdf = protdf.drop(gene+\"_Location\",axis=1)\n",
    "    protdf = protdf.drop(gene+\"_Mutation_Status\", axis=1)\n",
    "    protdf = protdf.drop(\"Sample_Status\",axis=1)\n",
    "\n",
    "    '''Make list of columns to be compared using t-tests'''\n",
    "    col_list = list(protdf.columns)\n",
    "    col_list.remove('Label')\n",
    "\n",
    "    print(\"Doing t-test comparisons\\n\")\n",
    "    \n",
    "    '''Call wrap_ttest, pass in formatted dataframe'''\n",
    "    wrap_results = al.wrap_ttest(protdf, 'Label', col_list)\n",
    "\n",
    "    '''Print results, if anything significant was found'''\n",
    "    if wrap_results is not None:\n",
    "            print(wrap_results)\n",
    "            print(\"\\n\\n\")\n",
    "            \n",
    "            all_significant_comparisons = add_to_all_significant_comparisons(wrap_results, \"Endometrial\", False, all_significant_comparisons)\n",
    "\n",
    "\n",
    "except Exception as e:\n",
    "    print(\"Error in Comparison\")\n",
    "    print(e)"
   ]
  },
  {
   "cell_type": "markdown",
   "metadata": {},
   "source": [
    "## Colon"
   ]
  },
  {
   "cell_type": "code",
   "execution_count": 11,
   "metadata": {},
   "outputs": [
    {
     "name": "stdout",
     "output_type": "stream",
     "text": [
      "\n",
      "Gene:  PIK3CA\n",
      "Doing t-test comparisons\n",
      "\n",
      "                             Comparison       P_Value\n",
      "0  ERCC5_S563__P28715_phosphoproteomics  5.428537e-08\n",
      "\n",
      "\n",
      "\n"
     ]
    }
   ],
   "source": [
    "try:\n",
    "    print(\"\\nGene: \", gene)\n",
    "\n",
    "    '''Use all proteins'''\n",
    "    proteomics = co.get_proteomics()\n",
    "    all_proteins = proteomics.columns\n",
    "    #all_proteins = all_proteins[:100]\n",
    "\n",
    "    '''Create dataframe in order to do comparisons with wrap_ttest'''\n",
    "    protdf = co.join_omics_to_mutations(mutations_genes=[gene], omics_df_name=omics)\n",
    "    protdf = protdf.loc[protdf['Sample_Status'] == 'Tumor']\n",
    "    \n",
    "    '''Create the binary valued column needed to do the comparison'''\n",
    "    for ind, row in protdf.iterrows():\n",
    "        if row[gene+\"_Mutation_Status\"] != 'Wildtype_Tumor':\n",
    "            protdf.at[ind,'Label'] = 'Mutated'\n",
    "        else:\n",
    "            protdf.at[ind,'Label'] = 'Wildtype'\n",
    "\n",
    "    '''Format the datafram correctly'''\n",
    "    protdf = protdf.drop(gene+\"_Mutation\",axis=1)\n",
    "    protdf = protdf.drop(gene+\"_Location\",axis=1)\n",
    "    protdf = protdf.drop(gene+\"_Mutation_Status\", axis=1)\n",
    "    protdf = protdf.drop(\"Sample_Status\",axis=1)\n",
    "\n",
    "    '''Make list of columns to be compared using t-tests'''\n",
    "    col_list = list(protdf.columns)\n",
    "    col_list.remove('Label')\n",
    "\n",
    "    print(\"Doing t-test comparisons\\n\")\n",
    "    \n",
    "    '''Call wrap_ttest, pass in formatted dataframe'''\n",
    "    wrap_results = al.wrap_ttest(protdf, 'Label', col_list)\n",
    "\n",
    "    '''Print results, if anything significant was found'''\n",
    "    if wrap_results is not None:\n",
    "            print(wrap_results)\n",
    "            print(\"\\n\\n\")\n",
    "            \n",
    "            all_significant_comparisons = add_to_all_significant_comparisons(wrap_results, \"Colon\", False, all_significant_comparisons)\n",
    "\n",
    "\n",
    "except Exception as e:\n",
    "    print(\"Error in Comparison\")\n",
    "    print(e)"
   ]
  },
  {
   "cell_type": "markdown",
   "metadata": {},
   "source": [
    "## Ovarian"
   ]
  },
  {
   "cell_type": "code",
   "execution_count": 12,
   "metadata": {},
   "outputs": [
    {
     "name": "stdout",
     "output_type": "stream",
     "text": [
      "\n",
      "Gene:  PIK3CA\n",
      "Doing t-test comparisons\n",
      "\n",
      "No significant comparisons.\n"
     ]
    }
   ],
   "source": [
    "\n",
    "print(\"\\nGene: \", gene)\n",
    "\n",
    "'''Use all proteins'''\n",
    "proteomics = ov.get_proteomics()\n",
    "all_proteins = list(set(proteomics.columns))\n",
    "\n",
    "'''Create dataframe in order to do comparisons with wrap_ttest'''\n",
    "protdf = ov.join_omics_to_mutations(mutations_genes=[gene], omics_df_name=omics)\n",
    "protdf = protdf.loc[protdf['Sample_Status'] == 'Tumor']\n",
    "protdf = protdf.loc[:,~protdf.columns.duplicated()]\n",
    "\n",
    "'''Create the binary valued column needed to do the comparison'''\n",
    "for ind, row in protdf.iterrows():\n",
    "    if row[gene+\"_Mutation_Status\"] != 'Wildtype_Tumor':\n",
    "        protdf.at[ind,'Label'] = 'Mutated'\n",
    "    else:\n",
    "        protdf.at[ind,'Label'] = 'Wildtype'\n",
    "\n",
    "'''Format the datafram correctly'''\n",
    "protdf = protdf.drop(gene+\"_Mutation\",axis=1)\n",
    "protdf = protdf.drop(gene+\"_Location\",axis=1)\n",
    "protdf = protdf.drop(gene+\"_Mutation_Status\", axis=1)\n",
    "protdf = protdf.drop(\"Sample_Status\",axis=1)\n",
    "\n",
    "'''Make list of columns to be compared using t-tests'''\n",
    "col_list = list(protdf.columns)\n",
    "col_list.remove('Label')\n",
    "\n",
    "print(\"Doing t-test comparisons\\n\")\n",
    "\n",
    "'''Call wrap_ttest, pass in formatted dataframe'''\n",
    "wrap_results = al.wrap_ttest(protdf, 'Label', col_list)\n",
    "\n",
    "'''Print results, if anything significant was found'''\n",
    "if wrap_results is not None:\n",
    "        print(wrap_results)\n",
    "        print(\"\\n\\n\")\n",
    "        \n",
    "        all_significant_comparisons = add_to_all_significant_comparisons(wrap_results, \"Ovarian\", False, all_significant_comparisons)\n",
    "\n"
   ]
  },
  {
   "cell_type": "markdown",
   "metadata": {},
   "source": [
    "### Print all significant comparisons"
   ]
  },
  {
   "cell_type": "code",
   "execution_count": 13,
   "metadata": {},
   "outputs": [
    {
     "data": {
      "text/html": [
       "<div>\n",
       "<style scoped>\n",
       "    .dataframe tbody tr th:only-of-type {\n",
       "        vertical-align: middle;\n",
       "    }\n",
       "\n",
       "    .dataframe tbody tr th {\n",
       "        vertical-align: top;\n",
       "    }\n",
       "\n",
       "    .dataframe thead th {\n",
       "        text-align: right;\n",
       "    }\n",
       "</style>\n",
       "<table border=\"1\" class=\"dataframe\">\n",
       "  <thead>\n",
       "    <tr style=\"text-align: right;\">\n",
       "      <th></th>\n",
       "      <th>Cancer_Type</th>\n",
       "      <th>Gene</th>\n",
       "      <th>Comparison</th>\n",
       "      <th>Interacting_Protein</th>\n",
       "      <th>P_Value</th>\n",
       "    </tr>\n",
       "  </thead>\n",
       "  <tbody>\n",
       "    <tr>\n",
       "      <th>0</th>\n",
       "      <td>Colon</td>\n",
       "      <td>PIK3CA</td>\n",
       "      <td>ERCC5_S563__P28715_phosphoproteomics</td>\n",
       "      <td>False</td>\n",
       "      <td>5.428537e-08</td>\n",
       "    </tr>\n",
       "  </tbody>\n",
       "</table>\n",
       "</div>"
      ],
      "text/plain": [
       "  Cancer_Type    Gene                            Comparison  \\\n",
       "0       Colon  PIK3CA  ERCC5_S563__P28715_phosphoproteomics   \n",
       "\n",
       "  Interacting_Protein       P_Value  \n",
       "0               False  5.428537e-08  "
      ]
     },
     "metadata": {},
     "output_type": "display_data"
    }
   ],
   "source": [
    "if len(all_significant_comparisons) > 0:\n",
    "    display(all_significant_comparisons)\n",
    "    \n",
    "else:\n",
    "    print('No Significant Comparisons!')"
   ]
  },
  {
   "cell_type": "markdown",
   "metadata": {},
   "source": [
    "### Write significant comparisons (if any) to shared CSV file"
   ]
  },
  {
   "cell_type": "code",
   "execution_count": 14,
   "metadata": {},
   "outputs": [],
   "source": [
    "existing_results = pd.read_csv(gene+'_Trans_Results.csv')\n",
    "\n",
    "updated_results = pd.concat([existing_results, all_significant_comparisons], sort=False)\n",
    "\n",
    "updated_results.to_csv(path_or_buf = gene + '_Trans_Results.csv', index=False)"
   ]
  }
 ],
 "metadata": {
  "kernelspec": {
   "display_name": "Python 3",
   "language": "python",
   "name": "python3"
  },
  "language_info": {
   "codemirror_mode": {
    "name": "ipython",
    "version": 3
   },
   "file_extension": ".py",
   "mimetype": "text/x-python",
   "name": "python",
   "nbconvert_exporter": "python",
   "pygments_lexer": "ipython3",
   "version": "3.6.8"
  }
 },
 "nbformat": 4,
 "nbformat_minor": 2
}
