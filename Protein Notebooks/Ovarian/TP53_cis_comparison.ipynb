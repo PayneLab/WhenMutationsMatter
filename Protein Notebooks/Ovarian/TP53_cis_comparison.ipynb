{
 "cells": [
  {
   "cell_type": "markdown",
   "metadata": {},
   "source": [
    "# TP53 cis comparison"
   ]
  },
  {
   "cell_type": "markdown",
   "metadata": {},
   "source": [
    "TP53 (tumor protein p53) is a tumor suppressor. This gene is found in the nucleus and can bind to DNA. It is known as the  \"guardian of the genome\" becaue it determines if apoptosis occurs if DNA damage is unrepairable (https://ghr.nlm.nih.gov/gene/TP53)."
   ]
  },
  {
   "cell_type": "markdown",
   "metadata": {},
   "source": [
    "## Step 1: Library Imports"
   ]
  },
  {
   "cell_type": "markdown",
   "metadata": {},
   "source": [
    "Run this cell to import the necessary libraries"
   ]
  },
  {
   "cell_type": "code",
   "execution_count": 1,
   "metadata": {},
   "outputs": [],
   "source": [
    "import pandas as pd\n",
    "import numpy as np\n",
    "import seaborn as sns\n",
    "import matplotlib.pyplot as plt\n",
    "import scipy.stats\n",
    "import re\n",
    "import sys \n",
    "sys.path.append('C:\\\\Users\\\\brittany henderson\\\\GitHub\\\\WhenMutationsMatter\\\\Brittany\\\\')\n",
    "import functions as f\n",
    "\n",
    "import cptac\n",
    "import cptac.algorithms as al"
   ]
  },
  {
   "cell_type": "markdown",
   "metadata": {},
   "source": [
    "## Step 2: Find the mutation frequency of TP53 for Ovarian Cancer"
   ]
  },
  {
   "cell_type": "code",
   "execution_count": 2,
   "metadata": {},
   "outputs": [
    {
     "name": "stdout",
     "output_type": "stream",
     "text": [
      "                                    \r"
     ]
    },
    {
     "data": {
      "text/html": [
       "<div>\n",
       "<style scoped>\n",
       "    .dataframe tbody tr th:only-of-type {\n",
       "        vertical-align: middle;\n",
       "    }\n",
       "\n",
       "    .dataframe tbody tr th {\n",
       "        vertical-align: top;\n",
       "    }\n",
       "\n",
       "    .dataframe thead th {\n",
       "        text-align: right;\n",
       "    }\n",
       "</style>\n",
       "<table border=\"1\" class=\"dataframe\">\n",
       "  <thead>\n",
       "    <tr style=\"text-align: right;\">\n",
       "      <th></th>\n",
       "      <th>Gene</th>\n",
       "      <th>Unique_Samples_Mut</th>\n",
       "      <th>Missense_Mut</th>\n",
       "      <th>Truncation_Mut</th>\n",
       "    </tr>\n",
       "  </thead>\n",
       "  <tbody>\n",
       "    <tr>\n",
       "      <th>13</th>\n",
       "      <td>TP53</td>\n",
       "      <td>0.927711</td>\n",
       "      <td>0.60241</td>\n",
       "      <td>0.325301</td>\n",
       "    </tr>\n",
       "  </tbody>\n",
       "</table>\n",
       "</div>"
      ],
      "text/plain": [
       "    Gene  Unique_Samples_Mut  Missense_Mut  Truncation_Mut\n",
       "13  TP53            0.927711       0.60241        0.325301"
      ]
     },
     "execution_count": 2,
     "metadata": {},
     "output_type": "execute_result"
    }
   ],
   "source": [
    "ov = cptac.Ovarian()\n",
    "desired_cutoff = 0.1\n",
    "gene = 'TP53'\n",
    "\n",
    "freq_mut = al.get_frequently_mutated(ov, cutoff = desired_cutoff)\n",
    "freq_mut.loc[freq_mut['Gene'] == gene]"
   ]
  },
  {
   "cell_type": "markdown",
   "metadata": {},
   "source": [
    "## Step 3: cis comparisons for omics "
   ]
  },
  {
   "cell_type": "markdown",
   "metadata": {},
   "source": [
    "Determine if the DNA mutation has an effect on the omics measurement. In order to do this, we have a few steps in code. These steps are found in the format_cis_comparison_data function.\n",
    "1. get a table with both the omics and mutation data for tumors\n",
    "2. get a binary column from the mutation data to separate our samples\n",
    "3. format data frame to be used in the T-test\n",
    "4. send data to the T-test.\n",
    "\n",
    "The format_cis_comparison_data does the first 3 steps."
   ]
  },
  {
   "cell_type": "markdown",
   "metadata": {},
   "source": [
    "# Proteomics cis comparison"
   ]
  },
  {
   "cell_type": "markdown",
   "metadata": {},
   "source": [
    "Proteomics: Mutated and Wildtype"
   ]
  },
  {
   "cell_type": "code",
   "execution_count": 3,
   "metadata": {},
   "outputs": [
    {
     "name": "stdout",
     "output_type": "stream",
     "text": [
      "Doing t-test comparison\n",
      "\n",
      "No significant comparisons.\n",
      "None\n"
     ]
    }
   ],
   "source": [
    "prot_mut_status = f.format_cis_comparison_data(ov, 'proteomics', gene)\n",
    "\n",
    "prot_col_list = [gene+'_proteomics']\n",
    "prot_col = gene+\"_proteomics\"\n",
    "\n",
    "# Step 4 - T-test comparing means of mutated vs wildtype effect on cis omics\n",
    "print(\"Doing t-test comparison\\n\")\n",
    "prot_pval_results = al.wrap_ttest(prot_mut_status, 'binary_mutations', prot_col_list)\n",
    "print(prot_pval_results)"
   ]
  },
  {
   "cell_type": "code",
   "execution_count": 4,
   "metadata": {},
   "outputs": [
    {
     "data": {
      "image/png": "[encoded data removed]",
      "text/plain": [
       "<Figure size 576x360 with 1 Axes>"
      ]
     },
     "metadata": {},
     "output_type": "display_data"
    }
   ],
   "source": [
    "# Step 5 - Create boxplt to compare wildtype and mutated effect on omics data\n",
    "plt.rcParams['figure.figsize']=(8,5)\n",
    "sns.set(font_scale = 1.3)\n",
    "cis_boxplot = sns.boxplot(data = prot_mut_status, x = 'binary_mutations',\n",
    "                          y = prot_col, order = [\"Wildtype\",\"Mutated\"], showfliers = False)  \n",
    "cis_boxplot.set_title(gene + \" Effect on \" + gene + \" Proteomics in Ovarian Tumors\")\n",
    "cis_boxplot = sns.stripplot(data= prot_mut_status, x = 'binary_mutations',\n",
    "                            y = prot_col,jitter = True, color = \".3\", order = [\"Wildtype\",\"Mutated\"])\n",
    "cis_boxplot.set(xlabel = gene + \" Mutation Status in Tumors\", ylabel = \"Proteomics\")\n",
    "#cis_boxplot.set_xticklabels(cis_boxplot.get_xticklabels(),rotation = 50)\n",
    "plt.show()\n",
    "plt.clf()\n",
    "plt.close()"
   ]
  },
  {
   "cell_type": "markdown",
   "metadata": {},
   "source": [
    "Proteomics: Missense and Truncation compared to wildtype"
   ]
  },
  {
   "cell_type": "code",
   "execution_count": 5,
   "metadata": {},
   "outputs": [
    {
     "name": "stdout",
     "output_type": "stream",
     "text": [
      "Doing t-test comparison for missense and wildtype\n",
      "\n",
      "        Comparison  P_Value\n",
      "0  TP53_proteomics  0.00028\n",
      "\n",
      "\n",
      "Doing t-test comparison for truncation and wildtype\n",
      "\n",
      "        Comparison   P_Value\n",
      "0  TP53_proteomics  0.033225\n"
     ]
    }
   ],
   "source": [
    "prot_mut_type = f.get_missense_truncation_comparison(ov, 'proteomics', gene)\n",
    "prot_wildtype = prot_mut_status.loc[prot_mut_status['binary_mutations'] == 'Wildtype'] # select all wildtype from binary_mutations\n",
    "prot_mut_and_wildtype = prot_mut_type.append(prot_wildtype, sort=False) # use for graph\n",
    "\n",
    "# compare missense and wildtype\n",
    "prot_miss_wt = prot_mut_and_wildtype.loc[prot_mut_and_wildtype['binary_mutations'] != 'Truncation']\n",
    "print(\"Doing t-test comparison for missense and wildtype\\n\")\n",
    "prot_results_miss = al.wrap_ttest(prot_miss_wt, 'binary_mutations', prot_col_list)\n",
    "print(prot_results_miss)\n",
    "\n",
    "# compare truncation and wildtype\n",
    "prot_trunc_wt = prot_mut_and_wildtype.loc[prot_mut_and_wildtype['binary_mutations'] != 'Missense']\n",
    "print(\"\\n\\nDoing t-test comparison for truncation and wildtype\\n\")\n",
    "prot_results_trunc = al.wrap_ttest(prot_trunc_wt, 'binary_mutations', prot_col_list)\n",
    "print(prot_results_trunc)"
   ]
  },
  {
   "cell_type": "code",
   "execution_count": 6,
   "metadata": {},
   "outputs": [
    {
     "data": {
      "image/png": "[encoded data removed]",
      "text/plain": [
       "<Figure size 576x360 with 1 Axes>"
      ]
     },
     "metadata": {},
     "output_type": "display_data"
    }
   ],
   "source": [
    "prot_cis_boxplot = sns.boxplot(data = prot_mut_and_wildtype, x = 'binary_mutations',\n",
    "                          y = prot_col, order = [\"Wildtype\",\"Missense\",\"Truncation\"], showfliers = False)  \n",
    "prot_cis_boxplot.set_title(gene + \" Effect on \"+gene+\" Proteomics in Ovarian Tumors\")\n",
    "prot_cis_boxplot = sns.stripplot(data= prot_mut_and_wildtype, x = 'binary_mutations',\n",
    "                            y = prot_col, jitter = True, color = \".3\", order = [\"Wildtype\",\"Missense\",\"Truncation\"])\n",
    "prot_cis_boxplot.set(xlabel = gene + \" Mutation Status in Tumors\", ylabel = \"Proteomics\")\n",
    "plt.show()\n",
    "plt.clf()\n",
    "plt.close()"
   ]
  },
  {
   "cell_type": "markdown",
   "metadata": {},
   "source": [
    "# Transcriptomics cis comparison"
   ]
  },
  {
   "cell_type": "markdown",
   "metadata": {},
   "source": [
    "Transcriptomics: Mutated and Wildtype"
   ]
  },
  {
   "cell_type": "code",
   "execution_count": 7,
   "metadata": {},
   "outputs": [
    {
     "name": "stdout",
     "output_type": "stream",
     "text": [
      "Doing t-test comparison for mutation status\n",
      "\n",
      "No significant comparisons.\n",
      "None\n"
     ]
    }
   ],
   "source": [
    "trans_mut_status = f.format_cis_comparison_data(ov, 'transcriptomics', gene)\n",
    "\n",
    "trans_col_list = [gene+'_transcriptomics']\n",
    "\n",
    "print(\"Doing t-test comparison for mutation status\\n\")\n",
    "trans_pval_results = al.wrap_ttest(trans_mut_status, 'binary_mutations', trans_col_list)\n",
    "print(trans_pval_results)"
   ]
  },
  {
   "cell_type": "code",
   "execution_count": 8,
   "metadata": {},
   "outputs": [
    {
     "data": {
      "image/png": "[encoded data removed]",
      "text/plain": [
       "<Figure size 576x360 with 1 Axes>"
      ]
     },
     "metadata": {},
     "output_type": "display_data"
    }
   ],
   "source": [
    "trans_col = gene+'_transcriptomics'\n",
    "\n",
    "plt.rcParams['figure.figsize']=(8,5)\n",
    "sns.set(font_scale = 1.2)\n",
    "cis_boxplot = sns.boxplot(data = trans_mut_status, x = 'binary_mutations',\n",
    "                          y = trans_col, order = [\"Wildtype\",\"Mutated\"], showfliers = False)  \n",
    "cis_boxplot.set_title(gene + \" Effect on \" + gene +\" Transcriptomics in Ovarian Tumors\")\n",
    "cis_boxplot = sns.stripplot(data = trans_mut_status, x = 'binary_mutations',y = trans_col, jitter = True, \n",
    "                        color = \".3\", order = [\"Wildtype\",\"Mutated\"])\n",
    "cis_boxplot.set(xlabel = gene + \" Mutation Status in Tumors\", ylabel = \"Proteomics\")\n",
    "plt.show()\n",
    "plt.clf()\n",
    "plt.close()"
   ]
  },
  {
   "cell_type": "markdown",
   "metadata": {},
   "source": [
    "Transcriptomics: Missense and Truncation"
   ]
  },
  {
   "cell_type": "code",
   "execution_count": 9,
   "metadata": {},
   "outputs": [
    {
     "name": "stdout",
     "output_type": "stream",
     "text": [
      "Doing t-test comparison for missense and wildtype\n",
      "\n",
      "             Comparison   P_Value\n",
      "0  TP53_transcriptomics  0.013461\n",
      "\n",
      "\n",
      "Doing t-test comparison for truncation and wildtype\n",
      "\n",
      "             Comparison   P_Value\n",
      "0  TP53_transcriptomics  0.000597\n"
     ]
    }
   ],
   "source": [
    "# select all wildtype from earlier -add to mut_type binary column\n",
    "trans_wildtype = trans_mut_status.loc[trans_mut_status['binary_mutations'] == 'Wildtype'] \n",
    "trans_mut_type = f.get_missense_truncation_comparison(ov, 'transcriptomics', gene)\n",
    "trans_mut_and_wildtype = trans_mut_type.append(trans_wildtype, sort=False) # use for graph\n",
    "\n",
    "\n",
    "trans_col_list = [gene+'_transcriptomics']\n",
    "# compare missense and wildtype\n",
    "miss_wt = trans_mut_and_wildtype.loc[trans_mut_and_wildtype['binary_mutations'] != 'Truncation']\n",
    "print(\"Doing t-test comparison for missense and wildtype\\n\")\n",
    "results_prot_miss = al.wrap_ttest(miss_wt, 'binary_mutations', trans_col_list)\n",
    "print(results_prot_miss)\n",
    "\n",
    "# compare truncation and wildtype\n",
    "trunc_wt = trans_mut_and_wildtype.loc[trans_mut_and_wildtype['binary_mutations'] != 'Missense']\n",
    "print(\"\\n\\nDoing t-test comparison for truncation and wildtype\\n\")\n",
    "results_prot_trunc = al.wrap_ttest(trunc_wt, 'binary_mutations', trans_col_list)\n",
    "print(results_prot_trunc)"
   ]
  },
  {
   "cell_type": "code",
   "execution_count": 10,
   "metadata": {},
   "outputs": [
    {
     "data": {
      "image/png": "[encoded data removed]",
      "text/plain": [
       "<Figure size 576x360 with 1 Axes>"
      ]
     },
     "metadata": {},
     "output_type": "display_data"
    }
   ],
   "source": [
    "plt.rcParams['figure.figsize']=(8,5)\n",
    "sns.set(font_scale = 1.2)\n",
    "trans_cis_boxplot = sns.boxplot(data = trans_mut_and_wildtype, x = 'binary_mutations',\n",
    "                          y = trans_col, order = [\"Wildtype\",\"Missense\",\"Truncation\"], showfliers = False)  \n",
    "trans_cis_boxplot.set_title(gene + \" Effect on \" + gene +\" Transcriptomics in Ovarian Tumors\")\n",
    "trans_cis_boxplot = sns.stripplot(data = trans_mut_and_wildtype, x = 'binary_mutations',y = trans_col, jitter = True, \n",
    "                        color = \".3\", order = [\"Wildtype\",\"Missense\",\"Truncation\"])\n",
    "trans_cis_boxplot.set(xlabel = gene + \" Mutation Status in Tumors\", ylabel = \"Proteomics\")\n",
    "plt.show()\n",
    "plt.clf()\n",
    "plt.close()"
   ]
  },
  {
   "cell_type": "markdown",
   "metadata": {},
   "source": [
    "# Phosphoproteomics cis comparison"
   ]
  },
  {
   "cell_type": "markdown",
   "metadata": {},
   "source": [
    "Phosphoproteomics: Mutated and Wildtype"
   ]
  },
  {
   "cell_type": "code",
   "execution_count": 11,
   "metadata": {},
   "outputs": [],
   "source": [
    "# Step 1 - Create dataframe in order to do comparisons with wrap_ttest\n",
    "omics_and_mut = ov.join_omics_to_mutations(\n",
    "    mutations_genes = gene, omics_df_name = 'phosphoproteomics', omics_genes = gene)\n",
    "\n",
    "# Step 2 - Create the binary column needed to do the comparison\n",
    "omics_and_mut['binary_mutations'] = omics_and_mut[gene+'_Mutation_Status'].apply(\n",
    "    lambda x: 'Wildtype' if x == 'Wildtype_Tumor' else 'Mutated')\n",
    "\n",
    "# Step 3 - Format\n",
    "omics_and_mut = omics_and_mut.query('Sample_Status != \"Normal\"') # changed because warning with slice\n",
    "#tumors = omics_and_mut.loc[omics_and_mut['Sample_Status'] == 'Tumor'] #drop Normal samples\n",
    "columns_to_drop = [gene+\"_Mutation\", gene+\"_Location\", gene+\"_Mutation_Status\", \"Sample_Status\"]\n",
    "binary_phospho = omics_and_mut.drop(columns_to_drop, axis = 1)\n",
    "only_phospho = binary_phospho.drop('binary_mutations', axis = 1)\n",
    "#omics_and_mut['binary_mutations'].value_counts()"
   ]
  },
  {
   "cell_type": "code",
   "execution_count": 12,
   "metadata": {},
   "outputs": [
    {
     "name": "stdout",
     "output_type": "stream",
     "text": [
      "Doing t-test comparison for mutation status\n",
      "\n",
      "No significant comparisons.\n"
     ]
    }
   ],
   "source": [
    "phos_col_list = list(only_phospho.columns)\n",
    "\n",
    "# Step 4 - T-test comparing means of mutated vs wildtype effect on cis omics\n",
    "print(\"Doing t-test comparison for mutation status\\n\")\n",
    "phos_pval_results = al.wrap_ttest(binary_phospho, 'binary_mutations', phos_col_list)\n",
    "phos_pval_results"
   ]
  },
  {
   "cell_type": "markdown",
   "metadata": {},
   "source": [
    "Graph"
   ]
  },
  {
   "cell_type": "code",
   "execution_count": 13,
   "metadata": {},
   "outputs": [],
   "source": [
    "# Create data frame with all significant phospho sites in order to graph\n",
    "phospho_list = list(only_phospho.columns)\n",
    "phospho_df = pd.melt(binary_phospho, id_vars = 'binary_mutations', \n",
    "            value_vars = phospho_list, var_name = 'specific_phospho', value_name = 'phosphoproteomics')\n",
    "phospho_df.replace(to_replace = '_phosphoproteomics', value = '', \n",
    "                        inplace = True, regex = True) # shorten column names\n",
    "#sig_phospho_df.dropna(axis=0)"
   ]
  },
  {
   "cell_type": "code",
   "execution_count": 14,
   "metadata": {},
   "outputs": [],
   "source": [
    "plt.rcParams['figure.figsize']=(25,15) #size of plot\n",
    "sns.set(font_scale = 2)\n",
    "cis_boxplot = sns.boxplot(data = phospho_df, x = 'specific_phospho', y = 'phosphoproteomics', hue = 'binary_mutations',\n",
    "                             hue_order = [\"Wildtype\",\"Mutated\"], showfliers = False)  \n",
    "cis_boxplot.set_title(gene + \" Effect on \" + gene + \" Phosphoproteomics in Ovarian Tumors\")\n",
    "cis_boxplot = sns.stripplot(data = phospho_df, x = 'specific_phospho', y = 'phosphoproteomics', hue = 'binary_mutations',\n",
    "                               hue_order = [\"Wildtype\",\"Mutated\"], jitter = True, color = \".3\", dodge = True)\n",
    "cis_boxplot.set(xlabel = 'Phosphorylation Sites', ylabel = \"Phosphorylation Levels\")\n",
    "cis_boxplot.set_xticklabels(cis_boxplot.get_xticklabels(),rotation = 70)\n",
    "#plt.show()\n",
    "plt.clf()\n",
    "plt.close()"
   ]
  },
  {
   "cell_type": "markdown",
   "metadata": {},
   "source": [
    "Phosphoproteomics: Missense and Truncation"
   ]
  },
  {
   "cell_type": "code",
   "execution_count": 15,
   "metadata": {},
   "outputs": [],
   "source": [
    "# select all wildtype from earlier -add to mut_type binary column\n",
    "phos_wildtype = binary_phospho.loc[binary_phospho['binary_mutations'] == 'Wildtype'] \n",
    "\n",
    "phos_mut_type = f.get_missense_truncation_comparison(ov, 'phosphoproteomics', gene)\n",
    "phos_mut_and_wildtype = phos_mut_type.append(phos_wildtype, sort=True) "
   ]
  },
  {
   "cell_type": "code",
   "execution_count": 16,
   "metadata": {},
   "outputs": [
    {
     "name": "stdout",
     "output_type": "stream",
     "text": [
      "Doing t-test comparison for missense and wildtype\n",
      "\n",
      "No significant comparisons.\n",
      "None\n",
      "\n",
      "\n",
      "Doing t-test comparison for truncation and wildtype\n",
      "\n",
      "No significant comparisons.\n",
      "None\n"
     ]
    }
   ],
   "source": [
    "phos_col_list = list(only_phospho.columns)\n",
    "# compare missense and wildtype\n",
    "miss_wt = phos_mut_and_wildtype.loc[phos_mut_and_wildtype['binary_mutations'] != 'Truncation']\n",
    "print(\"Doing t-test comparison for missense and wildtype\\n\")\n",
    "phos_results_miss = al.wrap_ttest(miss_wt, 'binary_mutations', phos_col_list)\n",
    "print(phos_results_miss)\n",
    "\n",
    "# compare truncation and wildtype \n",
    "trunc_wt = phos_mut_and_wildtype.loc[phos_mut_and_wildtype['binary_mutations'] != 'Missense']\n",
    "print(\"\\n\\nDoing t-test comparison for truncation and wildtype\\n\")\n",
    "phos_results_trunc = al.wrap_ttest(trunc_wt, 'binary_mutations', phos_col_list)\n",
    "print(phos_results_trunc)"
   ]
  },
  {
   "cell_type": "markdown",
   "metadata": {},
   "source": [
    "Graph Missense and Truncation"
   ]
  },
  {
   "cell_type": "code",
   "execution_count": 17,
   "metadata": {},
   "outputs": [],
   "source": [
    "# Create data frame with all significant phospho sites in order to graph\n",
    "phos_mut_type_df = pd.melt(phos_mut_and_wildtype, id_vars = 'binary_mutations', \n",
    "            value_vars = phos_col_list, var_name = 'specific_phospho', value_name = 'phosphoproteomics')\n",
    "phos_mut_type_df.replace(to_replace = '_phosphoproteomics', value = '', \n",
    "                        inplace = True, regex = True) # shorten column names\n",
    "#sig_phospho_df.dropna(axis=0)"
   ]
  },
  {
   "cell_type": "code",
   "execution_count": 18,
   "metadata": {},
   "outputs": [],
   "source": [
    "plt.rcParams['figure.figsize']=(25,15) #size of plot\n",
    "sns.set(font_scale = 2)\n",
    "phos_cis_boxplot = sns.boxplot(data = phos_mut_type_df, x = 'specific_phospho', y = 'phosphoproteomics', hue = 'binary_mutations',\n",
    "                             hue_order = [\"Wildtype\",\"Missense\",\"Truncation\"], showfliers = False)  \n",
    "phos_cis_boxplot.set_title(gene + \" Effect on \" + gene + \" Phosphoproteomics in Ovarian Tumors\")\n",
    "phos_cis_boxplot = sns.stripplot(data = phos_mut_type_df, x = 'specific_phospho', y = 'phosphoproteomics', hue = 'binary_mutations',\n",
    "                               hue_order = [\"Wildtype\",\"Missense\",\"Truncation\"], jitter = True, color = \".3\", dodge = True)\n",
    "phos_cis_boxplot.set(xlabel = 'Phosphorylation Sites', ylabel = \"Phosphorylation Levels\")\n",
    "phos_cis_boxplot.set_xticklabels(phos_cis_boxplot.get_xticklabels(),rotation = 70)\n",
    "#plt.show()\n",
    "plt.clf()\n",
    "plt.close()"
   ]
  },
  {
   "cell_type": "markdown",
   "metadata": {},
   "source": [
    "#  Compare common mutations"
   ]
  },
  {
   "cell_type": "markdown",
   "metadata": {},
   "source": [
    "Find the common mutation types and compare them to the wildtype tumors."
   ]
  },
  {
   "cell_type": "code",
   "execution_count": 19,
   "metadata": {},
   "outputs": [
    {
     "data": {
      "text/plain": [
       "Missense_Mutation    49\n",
       "Frame_Shift_Del      14\n",
       "Nonsense_Mutation     5\n",
       "Splice_Site           5\n",
       "In_Frame_Del          3\n",
       "Frame_Shift_Ins       3\n",
       "Name: Mutation, dtype: int64"
      ]
     },
     "execution_count": 19,
     "metadata": {},
     "output_type": "execute_result"
    }
   ],
   "source": [
    "# Count all mutations (including all mutations in a sample)\n",
    "somatic_mutations = ov.get_mutations()\n",
    "gene_mutations = somatic_mutations.loc[somatic_mutations['Gene'] == gene]\n",
    "count_all_mut = gene_mutations['Mutation'].value_counts()\n",
    "count_all_mut\n"
   ]
  },
  {
   "cell_type": "code",
   "execution_count": 20,
   "metadata": {},
   "outputs": [
    {
     "data": {
      "text/html": [
       "<div>\n",
       "<style scoped>\n",
       "    .dataframe tbody tr th:only-of-type {\n",
       "        vertical-align: middle;\n",
       "    }\n",
       "\n",
       "    .dataframe tbody tr th {\n",
       "        vertical-align: top;\n",
       "    }\n",
       "\n",
       "    .dataframe thead th {\n",
       "        text-align: right;\n",
       "    }\n",
       "</style>\n",
       "<table border=\"1\" class=\"dataframe\">\n",
       "  <thead>\n",
       "    <tr style=\"text-align: right;\">\n",
       "      <th></th>\n",
       "      <th>Gene</th>\n",
       "      <th>Mutation</th>\n",
       "      <th>Location</th>\n",
       "    </tr>\n",
       "    <tr>\n",
       "      <th>Sample_ID</th>\n",
       "      <th></th>\n",
       "      <th></th>\n",
       "      <th></th>\n",
       "    </tr>\n",
       "  </thead>\n",
       "  <tbody>\n",
       "    <tr>\n",
       "      <th>S007</th>\n",
       "      <td>TP53</td>\n",
       "      <td>Missense_Mutation</td>\n",
       "      <td>p.R273C</td>\n",
       "    </tr>\n",
       "    <tr>\n",
       "      <th>S009</th>\n",
       "      <td>TP53</td>\n",
       "      <td>Missense_Mutation</td>\n",
       "      <td>p.I195T</td>\n",
       "    </tr>\n",
       "    <tr>\n",
       "      <th>S015</th>\n",
       "      <td>TP53</td>\n",
       "      <td>Missense_Mutation</td>\n",
       "      <td>p.C141Y</td>\n",
       "    </tr>\n",
       "    <tr>\n",
       "      <th>S024</th>\n",
       "      <td>TP53</td>\n",
       "      <td>Missense_Mutation</td>\n",
       "      <td>p.V173M</td>\n",
       "    </tr>\n",
       "    <tr>\n",
       "      <th>S027</th>\n",
       "      <td>TP53</td>\n",
       "      <td>Missense_Mutation</td>\n",
       "      <td>p.Y205D</td>\n",
       "    </tr>\n",
       "    <tr>\n",
       "      <th>S029</th>\n",
       "      <td>TP53</td>\n",
       "      <td>Missense_Mutation</td>\n",
       "      <td>p.R282W</td>\n",
       "    </tr>\n",
       "    <tr>\n",
       "      <th>S039</th>\n",
       "      <td>TP53</td>\n",
       "      <td>Missense_Mutation</td>\n",
       "      <td>p.M237I</td>\n",
       "    </tr>\n",
       "    <tr>\n",
       "      <th>S043</th>\n",
       "      <td>TP53</td>\n",
       "      <td>Missense_Mutation</td>\n",
       "      <td>p.R248Q</td>\n",
       "    </tr>\n",
       "    <tr>\n",
       "      <th>S044</th>\n",
       "      <td>TP53</td>\n",
       "      <td>Missense_Mutation</td>\n",
       "      <td>p.Y234C</td>\n",
       "    </tr>\n",
       "    <tr>\n",
       "      <th>S046</th>\n",
       "      <td>TP53</td>\n",
       "      <td>Missense_Mutation</td>\n",
       "      <td>p.K132N</td>\n",
       "    </tr>\n",
       "    <tr>\n",
       "      <th>S047</th>\n",
       "      <td>TP53</td>\n",
       "      <td>Missense_Mutation</td>\n",
       "      <td>p.G266R</td>\n",
       "    </tr>\n",
       "    <tr>\n",
       "      <th>S049</th>\n",
       "      <td>TP53</td>\n",
       "      <td>Missense_Mutation</td>\n",
       "      <td>p.R280K</td>\n",
       "    </tr>\n",
       "    <tr>\n",
       "      <th>S050</th>\n",
       "      <td>TP53</td>\n",
       "      <td>Missense_Mutation</td>\n",
       "      <td>p.H179R</td>\n",
       "    </tr>\n",
       "    <tr>\n",
       "      <th>S051</th>\n",
       "      <td>TP53</td>\n",
       "      <td>Missense_Mutation</td>\n",
       "      <td>p.P151H</td>\n",
       "    </tr>\n",
       "    <tr>\n",
       "      <th>S053</th>\n",
       "      <td>TP53</td>\n",
       "      <td>Missense_Mutation</td>\n",
       "      <td>p.C176F</td>\n",
       "    </tr>\n",
       "    <tr>\n",
       "      <th>S054</th>\n",
       "      <td>TP53</td>\n",
       "      <td>Missense_Mutation</td>\n",
       "      <td>p.R249S</td>\n",
       "    </tr>\n",
       "    <tr>\n",
       "      <th>S055</th>\n",
       "      <td>TP53</td>\n",
       "      <td>Missense_Mutation</td>\n",
       "      <td>p.R175H</td>\n",
       "    </tr>\n",
       "    <tr>\n",
       "      <th>S056</th>\n",
       "      <td>TP53</td>\n",
       "      <td>Missense_Mutation</td>\n",
       "      <td>p.V216M</td>\n",
       "    </tr>\n",
       "    <tr>\n",
       "      <th>S057</th>\n",
       "      <td>TP53</td>\n",
       "      <td>Missense_Mutation</td>\n",
       "      <td>p.T284P</td>\n",
       "    </tr>\n",
       "    <tr>\n",
       "      <th>S059</th>\n",
       "      <td>TP53</td>\n",
       "      <td>Missense_Mutation</td>\n",
       "      <td>p.H178P</td>\n",
       "    </tr>\n",
       "    <tr>\n",
       "      <th>S060</th>\n",
       "      <td>TP53</td>\n",
       "      <td>Missense_Mutation</td>\n",
       "      <td>p.R273C</td>\n",
       "    </tr>\n",
       "    <tr>\n",
       "      <th>S061</th>\n",
       "      <td>TP53</td>\n",
       "      <td>Missense_Mutation</td>\n",
       "      <td>p.C238F</td>\n",
       "    </tr>\n",
       "    <tr>\n",
       "      <th>S062</th>\n",
       "      <td>TP53</td>\n",
       "      <td>Missense_Mutation</td>\n",
       "      <td>p.H193L</td>\n",
       "    </tr>\n",
       "    <tr>\n",
       "      <th>S063</th>\n",
       "      <td>TP53</td>\n",
       "      <td>Missense_Mutation</td>\n",
       "      <td>p.G245S</td>\n",
       "    </tr>\n",
       "    <tr>\n",
       "      <th>S065</th>\n",
       "      <td>TP53</td>\n",
       "      <td>Missense_Mutation</td>\n",
       "      <td>p.R156P</td>\n",
       "    </tr>\n",
       "    <tr>\n",
       "      <th>S066</th>\n",
       "      <td>TP53</td>\n",
       "      <td>Missense_Mutation</td>\n",
       "      <td>p.H179Q</td>\n",
       "    </tr>\n",
       "    <tr>\n",
       "      <th>S068</th>\n",
       "      <td>TP53</td>\n",
       "      <td>Missense_Mutation</td>\n",
       "      <td>p.C176F</td>\n",
       "    </tr>\n",
       "    <tr>\n",
       "      <th>S069</th>\n",
       "      <td>TP53</td>\n",
       "      <td>Missense_Mutation</td>\n",
       "      <td>p.F270L</td>\n",
       "    </tr>\n",
       "    <tr>\n",
       "      <th>S071</th>\n",
       "      <td>TP53</td>\n",
       "      <td>Missense_Mutation</td>\n",
       "      <td>p.R337L</td>\n",
       "    </tr>\n",
       "    <tr>\n",
       "      <th>S076</th>\n",
       "      <td>TP53</td>\n",
       "      <td>Missense_Mutation</td>\n",
       "      <td>p.R282W</td>\n",
       "    </tr>\n",
       "    <tr>\n",
       "      <th>S078</th>\n",
       "      <td>TP53</td>\n",
       "      <td>Missense_Mutation</td>\n",
       "      <td>p.R175H</td>\n",
       "    </tr>\n",
       "    <tr>\n",
       "      <th>S084</th>\n",
       "      <td>TP53</td>\n",
       "      <td>Missense_Mutation</td>\n",
       "      <td>p.V274A</td>\n",
       "    </tr>\n",
       "    <tr>\n",
       "      <th>S084</th>\n",
       "      <td>TP53</td>\n",
       "      <td>Missense_Mutation</td>\n",
       "      <td>p.R248Q</td>\n",
       "    </tr>\n",
       "    <tr>\n",
       "      <th>S088</th>\n",
       "      <td>TP53</td>\n",
       "      <td>Missense_Mutation</td>\n",
       "      <td>p.Y163C</td>\n",
       "    </tr>\n",
       "    <tr>\n",
       "      <th>S090</th>\n",
       "      <td>TP53</td>\n",
       "      <td>Missense_Mutation</td>\n",
       "      <td>p.R175H</td>\n",
       "    </tr>\n",
       "    <tr>\n",
       "      <th>S093</th>\n",
       "      <td>TP53</td>\n",
       "      <td>Missense_Mutation</td>\n",
       "      <td>p.C275Y</td>\n",
       "    </tr>\n",
       "    <tr>\n",
       "      <th>S094</th>\n",
       "      <td>TP53</td>\n",
       "      <td>Missense_Mutation</td>\n",
       "      <td>p.R273C</td>\n",
       "    </tr>\n",
       "    <tr>\n",
       "      <th>S095</th>\n",
       "      <td>TP53</td>\n",
       "      <td>Missense_Mutation</td>\n",
       "      <td>p.Y220C</td>\n",
       "    </tr>\n",
       "    <tr>\n",
       "      <th>S097</th>\n",
       "      <td>TP53</td>\n",
       "      <td>Missense_Mutation</td>\n",
       "      <td>p.R248L</td>\n",
       "    </tr>\n",
       "    <tr>\n",
       "      <th>S098</th>\n",
       "      <td>TP53</td>\n",
       "      <td>Missense_Mutation</td>\n",
       "      <td>p.S127F</td>\n",
       "    </tr>\n",
       "    <tr>\n",
       "      <th>S101</th>\n",
       "      <td>TP53</td>\n",
       "      <td>Missense_Mutation</td>\n",
       "      <td>p.G245D</td>\n",
       "    </tr>\n",
       "    <tr>\n",
       "      <th>S102</th>\n",
       "      <td>TP53</td>\n",
       "      <td>Missense_Mutation</td>\n",
       "      <td>p.M237I</td>\n",
       "    </tr>\n",
       "    <tr>\n",
       "      <th>S103</th>\n",
       "      <td>TP53</td>\n",
       "      <td>Missense_Mutation</td>\n",
       "      <td>p.G245D</td>\n",
       "    </tr>\n",
       "    <tr>\n",
       "      <th>S104</th>\n",
       "      <td>TP53</td>\n",
       "      <td>Missense_Mutation</td>\n",
       "      <td>p.R248Q</td>\n",
       "    </tr>\n",
       "    <tr>\n",
       "      <th>S106</th>\n",
       "      <td>TP53</td>\n",
       "      <td>Missense_Mutation</td>\n",
       "      <td>p.H193Y</td>\n",
       "    </tr>\n",
       "    <tr>\n",
       "      <th>S106</th>\n",
       "      <td>TP53</td>\n",
       "      <td>Missense_Mutation</td>\n",
       "      <td>p.Q192H</td>\n",
       "    </tr>\n",
       "    <tr>\n",
       "      <th>S108</th>\n",
       "      <td>TP53</td>\n",
       "      <td>Missense_Mutation</td>\n",
       "      <td>p.C238Y</td>\n",
       "    </tr>\n",
       "    <tr>\n",
       "      <th>S110</th>\n",
       "      <td>TP53</td>\n",
       "      <td>Missense_Mutation</td>\n",
       "      <td>p.R248W</td>\n",
       "    </tr>\n",
       "    <tr>\n",
       "      <th>S111</th>\n",
       "      <td>TP53</td>\n",
       "      <td>Missense_Mutation</td>\n",
       "      <td>p.R273H</td>\n",
       "    </tr>\n",
       "  </tbody>\n",
       "</table>\n",
       "</div>"
      ],
      "text/plain": [
       "           Gene           Mutation Location\n",
       "Sample_ID                                  \n",
       "S007       TP53  Missense_Mutation  p.R273C\n",
       "S009       TP53  Missense_Mutation  p.I195T\n",
       "S015       TP53  Missense_Mutation  p.C141Y\n",
       "S024       TP53  Missense_Mutation  p.V173M\n",
       "S027       TP53  Missense_Mutation  p.Y205D\n",
       "S029       TP53  Missense_Mutation  p.R282W\n",
       "S039       TP53  Missense_Mutation  p.M237I\n",
       "S043       TP53  Missense_Mutation  p.R248Q\n",
       "S044       TP53  Missense_Mutation  p.Y234C\n",
       "S046       TP53  Missense_Mutation  p.K132N\n",
       "S047       TP53  Missense_Mutation  p.G266R\n",
       "S049       TP53  Missense_Mutation  p.R280K\n",
       "S050       TP53  Missense_Mutation  p.H179R\n",
       "S051       TP53  Missense_Mutation  p.P151H\n",
       "S053       TP53  Missense_Mutation  p.C176F\n",
       "S054       TP53  Missense_Mutation  p.R249S\n",
       "S055       TP53  Missense_Mutation  p.R175H\n",
       "S056       TP53  Missense_Mutation  p.V216M\n",
       "S057       TP53  Missense_Mutation  p.T284P\n",
       "S059       TP53  Missense_Mutation  p.H178P\n",
       "S060       TP53  Missense_Mutation  p.R273C\n",
       "S061       TP53  Missense_Mutation  p.C238F\n",
       "S062       TP53  Missense_Mutation  p.H193L\n",
       "S063       TP53  Missense_Mutation  p.G245S\n",
       "S065       TP53  Missense_Mutation  p.R156P\n",
       "S066       TP53  Missense_Mutation  p.H179Q\n",
       "S068       TP53  Missense_Mutation  p.C176F\n",
       "S069       TP53  Missense_Mutation  p.F270L\n",
       "S071       TP53  Missense_Mutation  p.R337L\n",
       "S076       TP53  Missense_Mutation  p.R282W\n",
       "S078       TP53  Missense_Mutation  p.R175H\n",
       "S084       TP53  Missense_Mutation  p.V274A\n",
       "S084       TP53  Missense_Mutation  p.R248Q\n",
       "S088       TP53  Missense_Mutation  p.Y163C\n",
       "S090       TP53  Missense_Mutation  p.R175H\n",
       "S093       TP53  Missense_Mutation  p.C275Y\n",
       "S094       TP53  Missense_Mutation  p.R273C\n",
       "S095       TP53  Missense_Mutation  p.Y220C\n",
       "S097       TP53  Missense_Mutation  p.R248L\n",
       "S098       TP53  Missense_Mutation  p.S127F\n",
       "S101       TP53  Missense_Mutation  p.G245D\n",
       "S102       TP53  Missense_Mutation  p.M237I\n",
       "S103       TP53  Missense_Mutation  p.G245D\n",
       "S104       TP53  Missense_Mutation  p.R248Q\n",
       "S106       TP53  Missense_Mutation  p.H193Y\n",
       "S106       TP53  Missense_Mutation  p.Q192H\n",
       "S108       TP53  Missense_Mutation  p.C238Y\n",
       "S110       TP53  Missense_Mutation  p.R248W\n",
       "S111       TP53  Missense_Mutation  p.R273H"
      ]
     },
     "execution_count": 20,
     "metadata": {},
     "output_type": "execute_result"
    }
   ],
   "source": [
    "mut = 'Missense_Mutation'\n",
    "gene_mutations.loc[gene_mutations['Mutation'] == mut]\n",
    "#gene_mutations['Location'].value_counts()"
   ]
  },
  {
   "cell_type": "markdown",
   "metadata": {},
   "source": [
    "# Analysis of Results"
   ]
  },
  {
   "cell_type": "markdown",
   "metadata": {},
   "source": [
    "DO"
   ]
  },
  {
   "cell_type": "markdown",
   "metadata": {},
   "source": [
    "No acetylproteomics for the ovarian dataset."
   ]
  },
  {
   "cell_type": "code",
   "execution_count": null,
   "metadata": {},
   "outputs": [],
   "source": []
  }
 ],
 "metadata": {
  "kernelspec": {
   "display_name": "Python 3",
   "language": "python",
   "name": "python3"
  },
  "language_info": {
   "codemirror_mode": {
    "name": "ipython",
    "version": 3
   },
   "file_extension": ".py",
   "mimetype": "text/x-python",
   "name": "python",
   "nbconvert_exporter": "python",
   "pygments_lexer": "ipython3",
   "version": "3.7.3"
  }
 },
 "nbformat": 4,
 "nbformat_minor": 2
}
