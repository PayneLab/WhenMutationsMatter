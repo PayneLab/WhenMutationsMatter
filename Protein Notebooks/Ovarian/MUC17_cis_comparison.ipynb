{
 "cells": [
  {
   "cell_type": "markdown",
   "metadata": {},
   "source": [
    "# MUC17 cis comparison"
   ]
  },
  {
   "cell_type": "markdown",
   "metadata": {},
   "source": []
  },
  {
   "cell_type": "markdown",
   "metadata": {},
   "source": [
    "## Step 1: Library Imports"
   ]
  },
  {
   "cell_type": "markdown",
   "metadata": {},
   "source": [
    "Run this cell to import the necessary libraries"
   ]
  },
  {
   "cell_type": "code",
   "execution_count": 2,
   "metadata": {},
   "outputs": [],
   "source": [
    "import pandas as pd\n",
    "import numpy as np\n",
    "import seaborn as sns\n",
    "import matplotlib.pyplot as plt\n",
    "import scipy.stats\n",
    "import re\n",
    "import sys \n",
    "sys.path.append('C:\\\\Users\\\\brittany henderson\\\\GitHub\\\\WhenMutationsMatter\\\\Brittany\\\\')\n",
    "import functions as f\n",
    "\n",
    "import cptac\n",
    "import cptac.algorithms as al"
   ]
  },
  {
   "cell_type": "markdown",
   "metadata": {},
   "source": [
    "## Step 2: Find the mutation frequency of MUC17 for Ovarian Cancer"
   ]
  },
  {
   "cell_type": "code",
   "execution_count": 4,
   "metadata": {},
   "outputs": [
    {
     "name": "stdout",
     "output_type": "stream",
     "text": [
      "                                    \r"
     ]
    },
    {
     "data": {
      "text/html": [
       "<div>\n",
       "<style scoped>\n",
       "    .dataframe tbody tr th:only-of-type {\n",
       "        vertical-align: middle;\n",
       "    }\n",
       "\n",
       "    .dataframe tbody tr th {\n",
       "        vertical-align: top;\n",
       "    }\n",
       "\n",
       "    .dataframe thead th {\n",
       "        text-align: right;\n",
       "    }\n",
       "</style>\n",
       "<table border=\"1\" class=\"dataframe\">\n",
       "  <thead>\n",
       "    <tr style=\"text-align: right;\">\n",
       "      <th></th>\n",
       "      <th>Gene</th>\n",
       "      <th>Unique_Samples_Mut</th>\n",
       "      <th>Missense_Mut</th>\n",
       "      <th>Truncation_Mut</th>\n",
       "    </tr>\n",
       "  </thead>\n",
       "  <tbody>\n",
       "    <tr>\n",
       "      <th>7</th>\n",
       "      <td>MUC17</td>\n",
       "      <td>0.144578</td>\n",
       "      <td>0.144578</td>\n",
       "      <td>0.0</td>\n",
       "    </tr>\n",
       "  </tbody>\n",
       "</table>\n",
       "</div>"
      ],
      "text/plain": [
       "    Gene  Unique_Samples_Mut  Missense_Mut  Truncation_Mut\n",
       "7  MUC17            0.144578      0.144578             0.0"
      ]
     },
     "execution_count": 4,
     "metadata": {},
     "output_type": "execute_result"
    }
   ],
   "source": [
    "ov = cptac.Ovarian()\n",
    "desired_cutoff = 0.1\n",
    "gene = 'MUC17'\n",
    "\n",
    "freq_mut = al.get_frequently_mutated(ov, cutoff = desired_cutoff)\n",
    "freq_mut.loc[freq_mut['Gene'] == gene]"
   ]
  },
  {
   "cell_type": "markdown",
   "metadata": {},
   "source": [
    "## Step 3: cis comparisons for omics "
   ]
  },
  {
   "cell_type": "markdown",
   "metadata": {},
   "source": [
    "Determine if the DNA mutation has an effect on the omics measurement. In order to do this, we have a few steps in code. These steps are found in the format_cis_comparison_data function.\n",
    "1. get a table with both the omics and mutation data for tumors\n",
    "2. get a binary column from the mutation data to separate our samples\n",
    "3. format data frame to be used in the T-test\n",
    "4. send data to the T-test.\n",
    "\n",
    "The format_cis_comparison_data does the first 3 steps."
   ]
  },
  {
   "cell_type": "markdown",
   "metadata": {},
   "source": [
    "# Proteomics cis comparison"
   ]
  },
  {
   "cell_type": "markdown",
   "metadata": {},
   "source": [
    "Proteomics: Mutated and Wildtype"
   ]
  },
  {
   "cell_type": "code",
   "execution_count": 6,
   "metadata": {},
   "outputs": [
    {
     "name": "stdout",
     "output_type": "stream",
     "text": [
      "Not possible to do T-test. No data for MUC17 in proteomics\n"
     ]
    },
    {
     "name": "stderr",
     "output_type": "stream",
     "text": [
      "Warning: MUC17 did not match any columns in proteomics dataframe. MUC17_proteomics column inserted, but filled with NaN. (C:\\Users\\brittany henderson\\GitHub\\WhenMutationsMatter\\Brittany\\functions.py, line 5)\n"
     ]
    }
   ],
   "source": [
    "prot_mut_status = f.format_cis_comparison_data(ov, 'proteomics', gene)"
   ]
  },
  {
   "cell_type": "markdown",
   "metadata": {},
   "source": [
    "# Transcriptomics cis comparison"
   ]
  },
  {
   "cell_type": "markdown",
   "metadata": {},
   "source": [
    "Transcriptomics: Mutated and Wildtype"
   ]
  },
  {
   "cell_type": "code",
   "execution_count": 7,
   "metadata": {},
   "outputs": [
    {
     "name": "stdout",
     "output_type": "stream",
     "text": [
      "Doing t-test comparison for mutation status\n",
      "\n",
      "No significant comparisons.\n",
      "None\n"
     ]
    }
   ],
   "source": [
    "trans_mut_status = f.format_cis_comparison_data(ov, 'transcriptomics', gene)\n",
    "\n",
    "trans_col_list = [gene+'_transcriptomics']\n",
    "\n",
    "print(\"Doing t-test comparison for mutation status\\n\")\n",
    "trans_pval_results = al.wrap_ttest(trans_mut_status, 'binary_mutations', trans_col_list)\n",
    "print(trans_pval_results)"
   ]
  },
  {
   "cell_type": "code",
   "execution_count": 8,
   "metadata": {},
   "outputs": [
    {
     "data": {
      "image/png": "[encoded data removed]",
      "text/plain": [
       "<Figure size 576x360 with 1 Axes>"
      ]
     },
     "metadata": {},
     "output_type": "display_data"
    }
   ],
   "source": [
    "trans_col = gene+'_transcriptomics'\n",
    "\n",
    "plt.rcParams['figure.figsize']=(8,5)\n",
    "sns.set(font_scale = 1.2)\n",
    "ov_cis_boxplot = sns.boxplot(data = trans_mut_status, x = 'binary_mutations',\n",
    "                          y = trans_col, order = [\"Wildtype\",\"Mutated\"], showfliers = False)  \n",
    "ov_cis_boxplot.set_title(gene + \" Effect on \" + gene +\" Transcriptomics in Ovarian Tumors\")\n",
    "ov_cis_boxplot = sns.stripplot(data = trans_mut_status, x = 'binary_mutations',y = trans_col, jitter = True, \n",
    "                        color = \".3\", order = [\"Wildtype\",\"Mutated\"])\n",
    "ov_cis_boxplot.set(xlabel = gene + \" Mutation Status in Tumors\", ylabel = \"Proteomics\")\n",
    "plt.show()\n",
    "plt.clf()\n",
    "plt.close()"
   ]
  },
  {
   "cell_type": "markdown",
   "metadata": {},
   "source": [
    "Transcriptomics: Missense and Truncation"
   ]
  },
  {
   "cell_type": "code",
   "execution_count": 1,
   "metadata": {},
   "outputs": [
    {
     "ename": "NameError",
     "evalue": "name 'trans_mut_status' is not defined",
     "output_type": "error",
     "traceback": [
      "\u001b[1;31m---------------------------------------------------------------------------\u001b[0m",
      "\u001b[1;31mNameError\u001b[0m                                 Traceback (most recent call last)",
      "\u001b[1;32m<ipython-input-1-78a29468a215>\u001b[0m in \u001b[0;36m<module>\u001b[1;34m\u001b[0m\n\u001b[0;32m      1\u001b[0m \u001b[1;31m# select all wildtype from earlier -add to mut_type binary column\u001b[0m\u001b[1;33m\u001b[0m\u001b[1;33m\u001b[0m\u001b[1;33m\u001b[0m\u001b[0m\n\u001b[1;32m----> 2\u001b[1;33m \u001b[0mtrans_wildtype\u001b[0m \u001b[1;33m=\u001b[0m \u001b[0mtrans_mut_status\u001b[0m\u001b[1;33m.\u001b[0m\u001b[0mloc\u001b[0m\u001b[1;33m[\u001b[0m\u001b[0mtrans_mut_status\u001b[0m\u001b[1;33m[\u001b[0m\u001b[1;34m'binary_mutations'\u001b[0m\u001b[1;33m]\u001b[0m \u001b[1;33m==\u001b[0m \u001b[1;34m'Wildtype'\u001b[0m\u001b[1;33m]\u001b[0m\u001b[1;33m\u001b[0m\u001b[1;33m\u001b[0m\u001b[0m\n\u001b[0m\u001b[0;32m      3\u001b[0m \u001b[0mtrans_mut_type\u001b[0m \u001b[1;33m=\u001b[0m \u001b[0mf\u001b[0m\u001b[1;33m.\u001b[0m\u001b[0mget_missense_truncation_comparison\u001b[0m\u001b[1;33m(\u001b[0m\u001b[0mov\u001b[0m\u001b[1;33m,\u001b[0m \u001b[1;34m'transcriptomics'\u001b[0m\u001b[1;33m,\u001b[0m \u001b[0mgene\u001b[0m\u001b[1;33m)\u001b[0m\u001b[1;33m\u001b[0m\u001b[1;33m\u001b[0m\u001b[0m\n\u001b[0;32m      4\u001b[0m \u001b[0mtrans_mut_and_wildtype\u001b[0m \u001b[1;33m=\u001b[0m \u001b[0mtrans_mut_type\u001b[0m\u001b[1;33m.\u001b[0m\u001b[0mappend\u001b[0m\u001b[1;33m(\u001b[0m\u001b[0mtrans_wildtype\u001b[0m\u001b[1;33m,\u001b[0m \u001b[0msort\u001b[0m\u001b[1;33m=\u001b[0m\u001b[1;32mFalse\u001b[0m\u001b[1;33m)\u001b[0m \u001b[1;31m# use for graph\u001b[0m\u001b[1;33m\u001b[0m\u001b[1;33m\u001b[0m\u001b[0m\n\u001b[0;32m      5\u001b[0m \u001b[1;33m\u001b[0m\u001b[0m\n",
      "\u001b[1;31mNameError\u001b[0m: name 'trans_mut_status' is not defined"
     ]
    }
   ],
   "source": [
    "#FIX \n",
    "# select all wildtype from earlier -add to mut_type binary column\n",
    "trans_wildtype = trans_mut_status.loc[trans_mut_status['binary_mutations'] == 'Wildtype'] \n",
    "trans_mut_type = f.get_missense_truncation_comparison(ov, 'transcriptomics', gene)\n",
    "trans_mut_and_wildtype = trans_mut_type.append(trans_wildtype, sort=False) # use for graph\n",
    "\n",
    "\n",
    "trans_col_list = [gene+'_transcriptomics']\n",
    "# compare missense and wildtype\n",
    "miss_wt = trans_mut_and_wildtype.loc[trans_mut_and_wildtype['binary_mutations'] != 'Truncation']\n",
    "print(\"Doing t-test comparison for missense and wildtype\\n\")\n",
    "results_prot_miss = al.wrap_ttest(miss_wt, 'binary_mutations', trans_col_list)\n",
    "print(results_prot_miss)\n",
    "\n",
    "# no truncation "
   ]
  },
  {
   "cell_type": "code",
   "execution_count": 10,
   "metadata": {},
   "outputs": [
    {
     "data": {
      "image/png": "[encoded data removed]",
      "text/plain": [
       "<Figure size 576x360 with 1 Axes>"
      ]
     },
     "metadata": {},
     "output_type": "display_data"
    }
   ],
   "source": [
    "plt.rcParams['figure.figsize']=(8,5)\n",
    "sns.set(font_scale = 1.2)\n",
    "trans_cis_boxplot = sns.boxplot(data = trans_mut_and_wildtype, x = 'binary_mutations',\n",
    "                          y = trans_col, order = [\"Wildtype\",\"Missense\",\"Truncation\"], showfliers = False)  \n",
    "trans_cis_boxplot.set_title(gene + \" Effect on \" + gene +\" Transcriptomics in Ovarian Tumors\")\n",
    "trans_cis_boxplot = sns.stripplot(data = trans_mut_and_wildtype, x = 'binary_mutations',y = trans_col, jitter = True, \n",
    "                        color = \".3\", order = [\"Wildtype\",\"Missense\",\"Truncation\"])\n",
    "trans_cis_boxplot.set(xlabel = gene + \" Mutation Status in Tumors\", ylabel = \"Proteomics\")\n",
    "plt.show()\n",
    "plt.clf()\n",
    "plt.close()"
   ]
  },
  {
   "cell_type": "markdown",
   "metadata": {},
   "source": [
    "# Phosphoproteomics cis comparison"
   ]
  },
  {
   "cell_type": "markdown",
   "metadata": {},
   "source": [
    "Phosphoproteomics: Mutated and Wildtype"
   ]
  },
  {
   "cell_type": "code",
   "execution_count": 12,
   "metadata": {},
   "outputs": [
    {
     "name": "stderr",
     "output_type": "stream",
     "text": [
      "Warning: MUC17 did not match any columns in phosphoproteomics dataframe. MUC17_phosphoproteomics column inserted, but filled with NaN. (C:\\Users\\brittany henderson\\Anaconda3\\envs\\Research\\lib\\site-packages\\ipykernel_launcher.py, line 3)\n"
     ]
    }
   ],
   "source": [
    "# Step 1 - Create dataframe in order to do comparisons with wrap_ttest\n",
    "omics_and_mut = ov.join_omics_to_mutations(\n",
    "    mutations_genes = gene, omics_df_name = 'phosphoproteomics', omics_genes = gene)"
   ]
  },
  {
   "cell_type": "markdown",
   "metadata": {},
   "source": [
    "#  Compare common mutations"
   ]
  },
  {
   "cell_type": "markdown",
   "metadata": {},
   "source": [
    "Find the common mutation types and compare them to the wildtype tumors."
   ]
  },
  {
   "cell_type": "code",
   "execution_count": 13,
   "metadata": {},
   "outputs": [
    {
     "data": {
      "text/plain": [
       "Missense_Mutation    61\n",
       "Silent               18\n",
       "Name: Mutation, dtype: int64"
      ]
     },
     "execution_count": 13,
     "metadata": {},
     "output_type": "execute_result"
    }
   ],
   "source": [
    "# Count all mutations (including all mutations in a sample)\n",
    "somatic_mutations = ov.get_mutations()\n",
    "gene_mutations = somatic_mutations.loc[somatic_mutations['Gene'] == gene]\n",
    "count_all_mut = gene_mutations['Mutation'].value_counts()\n",
    "count_all_mut\n"
   ]
  },
  {
   "cell_type": "code",
   "execution_count": 14,
   "metadata": {},
   "outputs": [
    {
     "data": {
      "text/html": [
       "<div>\n",
       "<style scoped>\n",
       "    .dataframe tbody tr th:only-of-type {\n",
       "        vertical-align: middle;\n",
       "    }\n",
       "\n",
       "    .dataframe tbody tr th {\n",
       "        vertical-align: top;\n",
       "    }\n",
       "\n",
       "    .dataframe thead th {\n",
       "        text-align: right;\n",
       "    }\n",
       "</style>\n",
       "<table border=\"1\" class=\"dataframe\">\n",
       "  <thead>\n",
       "    <tr style=\"text-align: right;\">\n",
       "      <th></th>\n",
       "      <th>Gene</th>\n",
       "      <th>Mutation</th>\n",
       "      <th>Location</th>\n",
       "    </tr>\n",
       "    <tr>\n",
       "      <th>Sample_ID</th>\n",
       "      <th></th>\n",
       "      <th></th>\n",
       "      <th></th>\n",
       "    </tr>\n",
       "  </thead>\n",
       "  <tbody>\n",
       "    <tr>\n",
       "      <th>S022</th>\n",
       "      <td>MUC17</td>\n",
       "      <td>Missense_Mutation</td>\n",
       "      <td>p.I631K</td>\n",
       "    </tr>\n",
       "    <tr>\n",
       "      <th>S022</th>\n",
       "      <td>MUC17</td>\n",
       "      <td>Missense_Mutation</td>\n",
       "      <td>p.S1381A</td>\n",
       "    </tr>\n",
       "    <tr>\n",
       "      <th>S023</th>\n",
       "      <td>MUC17</td>\n",
       "      <td>Missense_Mutation</td>\n",
       "      <td>p.R1046S</td>\n",
       "    </tr>\n",
       "    <tr>\n",
       "      <th>S039</th>\n",
       "      <td>MUC17</td>\n",
       "      <td>Missense_Mutation</td>\n",
       "      <td>p.N1388T</td>\n",
       "    </tr>\n",
       "    <tr>\n",
       "      <th>S039</th>\n",
       "      <td>MUC17</td>\n",
       "      <td>Missense_Mutation</td>\n",
       "      <td>p.T2204P</td>\n",
       "    </tr>\n",
       "    <tr>\n",
       "      <th>S039</th>\n",
       "      <td>MUC17</td>\n",
       "      <td>Missense_Mutation</td>\n",
       "      <td>p.A3207S</td>\n",
       "    </tr>\n",
       "    <tr>\n",
       "      <th>S045</th>\n",
       "      <td>MUC17</td>\n",
       "      <td>Missense_Mutation</td>\n",
       "      <td>p.T4372K</td>\n",
       "    </tr>\n",
       "    <tr>\n",
       "      <th>S046</th>\n",
       "      <td>MUC17</td>\n",
       "      <td>Missense_Mutation</td>\n",
       "      <td>p.N1364T</td>\n",
       "    </tr>\n",
       "    <tr>\n",
       "      <th>S050</th>\n",
       "      <td>MUC17</td>\n",
       "      <td>Missense_Mutation</td>\n",
       "      <td>p.D3326E</td>\n",
       "    </tr>\n",
       "    <tr>\n",
       "      <th>S054</th>\n",
       "      <td>MUC17</td>\n",
       "      <td>Missense_Mutation</td>\n",
       "      <td>p.L364P</td>\n",
       "    </tr>\n",
       "    <tr>\n",
       "      <th>S054</th>\n",
       "      <td>MUC17</td>\n",
       "      <td>Missense_Mutation</td>\n",
       "      <td>p.V660L</td>\n",
       "    </tr>\n",
       "    <tr>\n",
       "      <th>S054</th>\n",
       "      <td>MUC17</td>\n",
       "      <td>Missense_Mutation</td>\n",
       "      <td>p.G1427V</td>\n",
       "    </tr>\n",
       "    <tr>\n",
       "      <th>S054</th>\n",
       "      <td>MUC17</td>\n",
       "      <td>Missense_Mutation</td>\n",
       "      <td>p.N1741T</td>\n",
       "    </tr>\n",
       "    <tr>\n",
       "      <th>S054</th>\n",
       "      <td>MUC17</td>\n",
       "      <td>Missense_Mutation</td>\n",
       "      <td>p.L1762V</td>\n",
       "    </tr>\n",
       "    <tr>\n",
       "      <th>S054</th>\n",
       "      <td>MUC17</td>\n",
       "      <td>Missense_Mutation</td>\n",
       "      <td>p.I1774V</td>\n",
       "    </tr>\n",
       "    <tr>\n",
       "      <th>S054</th>\n",
       "      <td>MUC17</td>\n",
       "      <td>Missense_Mutation</td>\n",
       "      <td>p.I2144T</td>\n",
       "    </tr>\n",
       "    <tr>\n",
       "      <th>S054</th>\n",
       "      <td>MUC17</td>\n",
       "      <td>Missense_Mutation</td>\n",
       "      <td>p.N2194T</td>\n",
       "    </tr>\n",
       "    <tr>\n",
       "      <th>S054</th>\n",
       "      <td>MUC17</td>\n",
       "      <td>Missense_Mutation</td>\n",
       "      <td>p.S2333P</td>\n",
       "    </tr>\n",
       "    <tr>\n",
       "      <th>S054</th>\n",
       "      <td>MUC17</td>\n",
       "      <td>Missense_Mutation</td>\n",
       "      <td>p.M2487V</td>\n",
       "    </tr>\n",
       "    <tr>\n",
       "      <th>S054</th>\n",
       "      <td>MUC17</td>\n",
       "      <td>Missense_Mutation</td>\n",
       "      <td>p.R2577T</td>\n",
       "    </tr>\n",
       "    <tr>\n",
       "      <th>S054</th>\n",
       "      <td>MUC17</td>\n",
       "      <td>Missense_Mutation</td>\n",
       "      <td>p.S2680T</td>\n",
       "    </tr>\n",
       "    <tr>\n",
       "      <th>S054</th>\n",
       "      <td>MUC17</td>\n",
       "      <td>Missense_Mutation</td>\n",
       "      <td>p.G2828S</td>\n",
       "    </tr>\n",
       "    <tr>\n",
       "      <th>S054</th>\n",
       "      <td>MUC17</td>\n",
       "      <td>Missense_Mutation</td>\n",
       "      <td>p.L3379S</td>\n",
       "    </tr>\n",
       "    <tr>\n",
       "      <th>S054</th>\n",
       "      <td>MUC17</td>\n",
       "      <td>Missense_Mutation</td>\n",
       "      <td>p.S3393T</td>\n",
       "    </tr>\n",
       "    <tr>\n",
       "      <th>S054</th>\n",
       "      <td>MUC17</td>\n",
       "      <td>Missense_Mutation</td>\n",
       "      <td>p.V3416A</td>\n",
       "    </tr>\n",
       "    <tr>\n",
       "      <th>S054</th>\n",
       "      <td>MUC17</td>\n",
       "      <td>Missense_Mutation</td>\n",
       "      <td>p.N3427K</td>\n",
       "    </tr>\n",
       "    <tr>\n",
       "      <th>S054</th>\n",
       "      <td>MUC17</td>\n",
       "      <td>Missense_Mutation</td>\n",
       "      <td>p.L3429Q</td>\n",
       "    </tr>\n",
       "    <tr>\n",
       "      <th>S054</th>\n",
       "      <td>MUC17</td>\n",
       "      <td>Missense_Mutation</td>\n",
       "      <td>p.N3521S</td>\n",
       "    </tr>\n",
       "    <tr>\n",
       "      <th>S064</th>\n",
       "      <td>MUC17</td>\n",
       "      <td>Missense_Mutation</td>\n",
       "      <td>p.A1163E</td>\n",
       "    </tr>\n",
       "    <tr>\n",
       "      <th>S080</th>\n",
       "      <td>MUC17</td>\n",
       "      <td>Missense_Mutation</td>\n",
       "      <td>p.T2593N</td>\n",
       "    </tr>\n",
       "    <tr>\n",
       "      <th>...</th>\n",
       "      <td>...</td>\n",
       "      <td>...</td>\n",
       "      <td>...</td>\n",
       "    </tr>\n",
       "    <tr>\n",
       "      <th>S096</th>\n",
       "      <td>MUC17</td>\n",
       "      <td>Missense_Mutation</td>\n",
       "      <td>p.D931V</td>\n",
       "    </tr>\n",
       "    <tr>\n",
       "      <th>S096</th>\n",
       "      <td>MUC17</td>\n",
       "      <td>Missense_Mutation</td>\n",
       "      <td>p.S938T</td>\n",
       "    </tr>\n",
       "    <tr>\n",
       "      <th>S096</th>\n",
       "      <td>MUC17</td>\n",
       "      <td>Missense_Mutation</td>\n",
       "      <td>p.L1014F</td>\n",
       "    </tr>\n",
       "    <tr>\n",
       "      <th>S096</th>\n",
       "      <td>MUC17</td>\n",
       "      <td>Missense_Mutation</td>\n",
       "      <td>p.K1188N</td>\n",
       "    </tr>\n",
       "    <tr>\n",
       "      <th>S096</th>\n",
       "      <td>MUC17</td>\n",
       "      <td>Missense_Mutation</td>\n",
       "      <td>p.T1556P</td>\n",
       "    </tr>\n",
       "    <tr>\n",
       "      <th>S096</th>\n",
       "      <td>MUC17</td>\n",
       "      <td>Missense_Mutation</td>\n",
       "      <td>p.T1557I</td>\n",
       "    </tr>\n",
       "    <tr>\n",
       "      <th>S096</th>\n",
       "      <td>MUC17</td>\n",
       "      <td>Missense_Mutation</td>\n",
       "      <td>p.I1931M</td>\n",
       "    </tr>\n",
       "    <tr>\n",
       "      <th>S096</th>\n",
       "      <td>MUC17</td>\n",
       "      <td>Missense_Mutation</td>\n",
       "      <td>p.T2234S</td>\n",
       "    </tr>\n",
       "    <tr>\n",
       "      <th>S096</th>\n",
       "      <td>MUC17</td>\n",
       "      <td>Missense_Mutation</td>\n",
       "      <td>p.N2293S</td>\n",
       "    </tr>\n",
       "    <tr>\n",
       "      <th>S096</th>\n",
       "      <td>MUC17</td>\n",
       "      <td>Missense_Mutation</td>\n",
       "      <td>p.L2663P</td>\n",
       "    </tr>\n",
       "    <tr>\n",
       "      <th>S096</th>\n",
       "      <td>MUC17</td>\n",
       "      <td>Missense_Mutation</td>\n",
       "      <td>p.T2793P</td>\n",
       "    </tr>\n",
       "    <tr>\n",
       "      <th>S096</th>\n",
       "      <td>MUC17</td>\n",
       "      <td>Missense_Mutation</td>\n",
       "      <td>p.T3292M</td>\n",
       "    </tr>\n",
       "    <tr>\n",
       "      <th>S096</th>\n",
       "      <td>MUC17</td>\n",
       "      <td>Missense_Mutation</td>\n",
       "      <td>p.N3427K</td>\n",
       "    </tr>\n",
       "    <tr>\n",
       "      <th>S096</th>\n",
       "      <td>MUC17</td>\n",
       "      <td>Missense_Mutation</td>\n",
       "      <td>p.S3532P</td>\n",
       "    </tr>\n",
       "    <tr>\n",
       "      <th>S097</th>\n",
       "      <td>MUC17</td>\n",
       "      <td>Missense_Mutation</td>\n",
       "      <td>p.L364P</td>\n",
       "    </tr>\n",
       "    <tr>\n",
       "      <th>S097</th>\n",
       "      <td>MUC17</td>\n",
       "      <td>Missense_Mutation</td>\n",
       "      <td>p.T590P</td>\n",
       "    </tr>\n",
       "    <tr>\n",
       "      <th>S097</th>\n",
       "      <td>MUC17</td>\n",
       "      <td>Missense_Mutation</td>\n",
       "      <td>p.T590N</td>\n",
       "    </tr>\n",
       "    <tr>\n",
       "      <th>S097</th>\n",
       "      <td>MUC17</td>\n",
       "      <td>Missense_Mutation</td>\n",
       "      <td>p.N696S</td>\n",
       "    </tr>\n",
       "    <tr>\n",
       "      <th>S097</th>\n",
       "      <td>MUC17</td>\n",
       "      <td>Missense_Mutation</td>\n",
       "      <td>p.L772V</td>\n",
       "    </tr>\n",
       "    <tr>\n",
       "      <th>S097</th>\n",
       "      <td>MUC17</td>\n",
       "      <td>Missense_Mutation</td>\n",
       "      <td>p.N898T</td>\n",
       "    </tr>\n",
       "    <tr>\n",
       "      <th>S097</th>\n",
       "      <td>MUC17</td>\n",
       "      <td>Missense_Mutation</td>\n",
       "      <td>p.A968S</td>\n",
       "    </tr>\n",
       "    <tr>\n",
       "      <th>S097</th>\n",
       "      <td>MUC17</td>\n",
       "      <td>Missense_Mutation</td>\n",
       "      <td>p.P1202T</td>\n",
       "    </tr>\n",
       "    <tr>\n",
       "      <th>S097</th>\n",
       "      <td>MUC17</td>\n",
       "      <td>Missense_Mutation</td>\n",
       "      <td>p.V1206G</td>\n",
       "    </tr>\n",
       "    <tr>\n",
       "      <th>S097</th>\n",
       "      <td>MUC17</td>\n",
       "      <td>Missense_Mutation</td>\n",
       "      <td>p.T2253N</td>\n",
       "    </tr>\n",
       "    <tr>\n",
       "      <th>S097</th>\n",
       "      <td>MUC17</td>\n",
       "      <td>Missense_Mutation</td>\n",
       "      <td>p.M2487V</td>\n",
       "    </tr>\n",
       "    <tr>\n",
       "      <th>S097</th>\n",
       "      <td>MUC17</td>\n",
       "      <td>Missense_Mutation</td>\n",
       "      <td>p.V2771L</td>\n",
       "    </tr>\n",
       "    <tr>\n",
       "      <th>S097</th>\n",
       "      <td>MUC17</td>\n",
       "      <td>Missense_Mutation</td>\n",
       "      <td>p.V2797G</td>\n",
       "    </tr>\n",
       "    <tr>\n",
       "      <th>S097</th>\n",
       "      <td>MUC17</td>\n",
       "      <td>Missense_Mutation</td>\n",
       "      <td>p.S3393T</td>\n",
       "    </tr>\n",
       "    <tr>\n",
       "      <th>S097</th>\n",
       "      <td>MUC17</td>\n",
       "      <td>Missense_Mutation</td>\n",
       "      <td>p.S3461T</td>\n",
       "    </tr>\n",
       "    <tr>\n",
       "      <th>S101</th>\n",
       "      <td>MUC17</td>\n",
       "      <td>Missense_Mutation</td>\n",
       "      <td>p.P453L</td>\n",
       "    </tr>\n",
       "  </tbody>\n",
       "</table>\n",
       "<p>61 rows × 3 columns</p>\n",
       "</div>"
      ],
      "text/plain": [
       "            Gene           Mutation  Location\n",
       "Sample_ID                                    \n",
       "S022       MUC17  Missense_Mutation   p.I631K\n",
       "S022       MUC17  Missense_Mutation  p.S1381A\n",
       "S023       MUC17  Missense_Mutation  p.R1046S\n",
       "S039       MUC17  Missense_Mutation  p.N1388T\n",
       "S039       MUC17  Missense_Mutation  p.T2204P\n",
       "...          ...                ...       ...\n",
       "S097       MUC17  Missense_Mutation  p.V2771L\n",
       "S097       MUC17  Missense_Mutation  p.V2797G\n",
       "S097       MUC17  Missense_Mutation  p.S3393T\n",
       "S097       MUC17  Missense_Mutation  p.S3461T\n",
       "S101       MUC17  Missense_Mutation   p.P453L\n",
       "\n",
       "[61 rows x 3 columns]"
      ]
     },
     "execution_count": 14,
     "metadata": {},
     "output_type": "execute_result"
    }
   ],
   "source": [
    "mut = 'Missense_Mutation'\n",
    "gene_mutations.loc[gene_mutations['Mutation'] == mut]"
   ]
  },
  {
   "cell_type": "markdown",
   "metadata": {},
   "source": [
    "# Analysis of Results"
   ]
  },
  {
   "cell_type": "markdown",
   "metadata": {},
   "source": [
    "No significant cis comparisons. No data for MUC17 in proteomics and transcriptomics. Almost all mutations are missense."
   ]
  },
  {
   "cell_type": "markdown",
   "metadata": {},
   "source": [
    "No acetylproteomics for the ovarian dataset."
   ]
  },
  {
   "cell_type": "code",
   "execution_count": null,
   "metadata": {},
   "outputs": [],
   "source": []
  }
 ],
 "metadata": {
  "kernelspec": {
   "display_name": "Python 3",
   "language": "python",
   "name": "python3"
  },
  "language_info": {
   "codemirror_mode": {
    "name": "ipython",
    "version": 3
   },
   "file_extension": ".py",
   "mimetype": "text/x-python",
   "name": "python",
   "nbconvert_exporter": "python",
   "pygments_lexer": "ipython3",
   "version": "3.7.3"
  }
 },
 "nbformat": 4,
 "nbformat_minor": 2
}
