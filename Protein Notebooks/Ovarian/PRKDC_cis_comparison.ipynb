{
 "cells": [
  {
   "cell_type": "markdown",
   "metadata": {},
   "source": [
    "# PRKDC cis comparison"
   ]
  },
  {
   "cell_type": "markdown",
   "metadata": {},
   "source": [
    "PRKDC encodes a subunit of DNA-dependent protein kinase (DNA-PK). It is involved with recognizing DNA damage and DNA double strand break repair and recombination. (NCBI citing RefSeq, Jul 2010)"
   ]
  },
  {
   "cell_type": "markdown",
   "metadata": {},
   "source": [
    "## Step 1: Library Imports"
   ]
  },
  {
   "cell_type": "markdown",
   "metadata": {},
   "source": [
    "Run this cell to import the necessary libraries"
   ]
  },
  {
   "cell_type": "code",
   "execution_count": 1,
   "metadata": {},
   "outputs": [],
   "source": [
    "import pandas as pd\n",
    "import numpy as np\n",
    "import seaborn as sns\n",
    "import matplotlib.pyplot as plt\n",
    "import scipy.stats\n",
    "import re\n",
    "import sys \n",
    "sys.path.append('C:\\\\Users\\\\brittany henderson\\\\GitHub\\\\WhenMutationsMatter\\\\Brittany\\\\')\n",
    "import functions as f\n",
    "\n",
    "import cptac\n",
    "import cptac.algorithms as al"
   ]
  },
  {
   "cell_type": "markdown",
   "metadata": {},
   "source": [
    "## Step 2: Find the mutation frequency of PRKDC for Ovarian Cancer"
   ]
  },
  {
   "cell_type": "code",
   "execution_count": 2,
   "metadata": {},
   "outputs": [
    {
     "name": "stdout",
     "output_type": "stream",
     "text": [
      "                                    \r"
     ]
    },
    {
     "data": {
      "text/html": [
       "<div>\n",
       "<style scoped>\n",
       "    .dataframe tbody tr th:only-of-type {\n",
       "        vertical-align: middle;\n",
       "    }\n",
       "\n",
       "    .dataframe tbody tr th {\n",
       "        vertical-align: top;\n",
       "    }\n",
       "\n",
       "    .dataframe thead th {\n",
       "        text-align: right;\n",
       "    }\n",
       "</style>\n",
       "<table border=\"1\" class=\"dataframe\">\n",
       "  <thead>\n",
       "    <tr style=\"text-align: right;\">\n",
       "      <th></th>\n",
       "      <th>Gene</th>\n",
       "      <th>Unique_Samples_Mut</th>\n",
       "      <th>Missense_Mut</th>\n",
       "      <th>Truncation_Mut</th>\n",
       "    </tr>\n",
       "  </thead>\n",
       "  <tbody>\n",
       "    <tr>\n",
       "      <th>11</th>\n",
       "      <td>PRKDC</td>\n",
       "      <td>0.108434</td>\n",
       "      <td>0.084337</td>\n",
       "      <td>0.036145</td>\n",
       "    </tr>\n",
       "  </tbody>\n",
       "</table>\n",
       "</div>"
      ],
      "text/plain": [
       "     Gene  Unique_Samples_Mut  Missense_Mut  Truncation_Mut\n",
       "11  PRKDC            0.108434      0.084337        0.036145"
      ]
     },
     "execution_count": 2,
     "metadata": {},
     "output_type": "execute_result"
    }
   ],
   "source": [
    "ov = cptac.Ovarian()\n",
    "desired_cutoff = 0.1\n",
    "gene = 'PRKDC'\n",
    "\n",
    "freq_mut = al.get_frequently_mutated(ov, cutoff = desired_cutoff)\n",
    "freq_mut.loc[freq_mut['Gene'] == gene]"
   ]
  },
  {
   "cell_type": "markdown",
   "metadata": {},
   "source": [
    "## Step 3: cis comparisons for omics "
   ]
  },
  {
   "cell_type": "markdown",
   "metadata": {},
   "source": [
    "Determine if the DNA mutation has an effect on the omics measurement. In order to do this, we have a few steps in code. These steps are found in the format_cis_comparison_data function.\n",
    "1. get a table with both the omics and mutation data for tumors\n",
    "2. get a binary column from the mutation data to separate our samples\n",
    "3. format data frame to be used in the T-test\n",
    "4. send data to the T-test.\n",
    "\n",
    "The format_cis_comparison_data does the first 3 steps."
   ]
  },
  {
   "cell_type": "markdown",
   "metadata": {},
   "source": [
    "# Proteomics cis comparison"
   ]
  },
  {
   "cell_type": "markdown",
   "metadata": {},
   "source": [
    "Proteomics: Mutated and Wildtype"
   ]
  },
  {
   "cell_type": "code",
   "execution_count": 3,
   "metadata": {},
   "outputs": [
    {
     "name": "stdout",
     "output_type": "stream",
     "text": [
      "Doing t-test comparison\n",
      "\n",
      "No significant comparisons.\n",
      "None\n"
     ]
    }
   ],
   "source": [
    "prot_mut_status = f.format_cis_comparison_data(ov, 'proteomics', gene)\n",
    "\n",
    "prot_col_list = [gene+'_proteomics']\n",
    "prot_col = gene+\"_proteomics\"\n",
    "\n",
    "# Step 4 - T-test comparing means of mutated vs wildtype effect on cis omics\n",
    "print(\"Doing t-test comparison\\n\")\n",
    "prot_pval_results = al.wrap_ttest(prot_mut_status, 'binary_mutations', prot_col_list)\n",
    "print(prot_pval_results)"
   ]
  },
  {
   "cell_type": "code",
   "execution_count": 4,
   "metadata": {},
   "outputs": [
    {
     "data": {
      "image/png": "[encoded data removed]",
      "text/plain": [
       "<Figure size 576x360 with 1 Axes>"
      ]
     },
     "metadata": {},
     "output_type": "display_data"
    }
   ],
   "source": [
    "# Step 5 - Create boxplt to compare wildtype and mutated effect on omics data\n",
    "plt.rcParams['figure.figsize']=(8,5)\n",
    "sns.set(font_scale = 1.3)\n",
    "cis_boxplot = sns.boxplot(data = prot_mut_status, x = 'binary_mutations',\n",
    "                          y = prot_col, order = [\"Wildtype\",\"Mutated\"], showfliers = False)  \n",
    "cis_boxplot.set_title(gene + \" Effect on \" + gene + \" Proteomics in Ovarian Tumors\")\n",
    "cis_boxplot = sns.stripplot(data= prot_mut_status, x = 'binary_mutations',\n",
    "                            y = prot_col,jitter = True, color = \".3\", order = [\"Wildtype\",\"Mutated\"])\n",
    "cis_boxplot.set(xlabel = gene + \" Mutation Status in Tumors\", ylabel = \"Proteomics\")\n",
    "#cis_boxplot.set_xticklabels(cis_boxplot.get_xticklabels(),rotation = 50)\n",
    "plt.show()\n",
    "plt.clf()\n",
    "plt.close()"
   ]
  },
  {
   "cell_type": "markdown",
   "metadata": {},
   "source": [
    "Proteomics: Missense and Truncation compared to wildtype"
   ]
  },
  {
   "cell_type": "code",
   "execution_count": 5,
   "metadata": {},
   "outputs": [
    {
     "name": "stdout",
     "output_type": "stream",
     "text": [
      "Doing t-test comparison for missense and wildtype\n",
      "\n",
      "         Comparison   P_Value\n",
      "0  PRKDC_proteomics  0.019339\n",
      "\n",
      "\n",
      "Doing t-test comparison for truncation and wildtype\n",
      "\n",
      "         Comparison   P_Value\n",
      "0  PRKDC_proteomics  0.001115\n"
     ]
    }
   ],
   "source": [
    "prot_mut_type = f.get_missense_truncation_comparison(ov, 'proteomics', gene)\n",
    "prot_wildtype = prot_mut_status.loc[prot_mut_status['binary_mutations'] == 'Wildtype'] # select all wildtype from binary_mutations\n",
    "prot_mut_and_wildtype = prot_mut_type.append(prot_wildtype, sort=False) # use for graph\n",
    "\n",
    "# compare missense and wildtype\n",
    "prot_miss_wt = prot_mut_and_wildtype.loc[prot_mut_and_wildtype['binary_mutations'] != 'Truncation']\n",
    "print(\"Doing t-test comparison for missense and wildtype\\n\")\n",
    "prot_results_miss = al.wrap_ttest(prot_miss_wt, 'binary_mutations', prot_col_list)\n",
    "print(prot_results_miss)\n",
    "\n",
    "# compare truncation and wildtype\n",
    "prot_trunc_wt = prot_mut_and_wildtype.loc[prot_mut_and_wildtype['binary_mutations'] != 'Missense']\n",
    "print(\"\\n\\nDoing t-test comparison for truncation and wildtype\\n\")\n",
    "prot_results_trunc = al.wrap_ttest(prot_trunc_wt, 'binary_mutations', prot_col_list)\n",
    "print(prot_results_trunc)"
   ]
  },
  {
   "cell_type": "code",
   "execution_count": 6,
   "metadata": {},
   "outputs": [
    {
     "data": {
      "image/png": "[encoded data removed]",
      "text/plain": [
       "<Figure size 576x360 with 1 Axes>"
      ]
     },
     "metadata": {},
     "output_type": "display_data"
    }
   ],
   "source": [
    "prot_cis_boxplot = sns.boxplot(data = prot_mut_and_wildtype, x = 'binary_mutations',\n",
    "                          y = prot_col, order = [\"Wildtype\",\"Missense\",\"Truncation\"], showfliers = False)  \n",
    "prot_cis_boxplot.set_title(gene + \" Effect on \"+gene+\" Proteomics in Ovarian Tumors\")\n",
    "prot_cis_boxplot = sns.stripplot(data= prot_mut_and_wildtype, x = 'binary_mutations',\n",
    "                            y = prot_col, jitter = True, color = \".3\", order = [\"Wildtype\",\"Missense\",\"Truncation\"])\n",
    "prot_cis_boxplot.set(xlabel = gene + \" Mutation Status in Tumors\", ylabel = \"Proteomics\")\n",
    "plt.show()\n",
    "plt.clf()\n",
    "plt.close()"
   ]
  },
  {
   "cell_type": "markdown",
   "metadata": {},
   "source": [
    "# Transcriptomics cis comparison"
   ]
  },
  {
   "cell_type": "markdown",
   "metadata": {},
   "source": [
    "Transcriptomics: Mutated and Wildtype"
   ]
  },
  {
   "cell_type": "code",
   "execution_count": 7,
   "metadata": {},
   "outputs": [
    {
     "name": "stdout",
     "output_type": "stream",
     "text": [
      "Doing t-test comparison for mutation status\n",
      "\n",
      "No significant comparisons.\n",
      "None\n"
     ]
    }
   ],
   "source": [
    "trans_mut_status = f.format_cis_comparison_data(ov, 'transcriptomics', gene)\n",
    "\n",
    "trans_col_list = [gene+'_transcriptomics']\n",
    "\n",
    "print(\"Doing t-test comparison for mutation status\\n\")\n",
    "trans_pval_results = al.wrap_ttest(trans_mut_status, 'binary_mutations', trans_col_list)\n",
    "print(trans_pval_results)"
   ]
  },
  {
   "cell_type": "code",
   "execution_count": 8,
   "metadata": {},
   "outputs": [
    {
     "data": {
      "image/png": "[encoded data removed]",
      "text/plain": [
       "<Figure size 576x360 with 1 Axes>"
      ]
     },
     "metadata": {},
     "output_type": "display_data"
    }
   ],
   "source": [
    "trans_col = gene+'_transcriptomics'\n",
    "\n",
    "plt.rcParams['figure.figsize']=(8,5)\n",
    "sns.set(font_scale = 1.2)\n",
    "cis_boxplot = sns.boxplot(data = trans_mut_status, x = 'binary_mutations',\n",
    "                          y = trans_col, order = [\"Wildtype\",\"Mutated\"], showfliers = False)  \n",
    "cis_boxplot.set_title(gene + \" Effect on \" + gene +\" Transcriptomics in Ovarian Tumors\")\n",
    "cis_boxplot = sns.stripplot(data = trans_mut_status, x = 'binary_mutations',y = trans_col, jitter = True, \n",
    "                        color = \".3\", order = [\"Wildtype\",\"Mutated\"])\n",
    "cis_boxplot.set(xlabel = gene + \" Mutation Status in Tumors\", ylabel = \"Proteomics\")\n",
    "plt.show()\n",
    "plt.clf()\n",
    "plt.close()"
   ]
  },
  {
   "cell_type": "markdown",
   "metadata": {},
   "source": [
    "Transcriptomics: Missense and Truncation"
   ]
  },
  {
   "cell_type": "code",
   "execution_count": 9,
   "metadata": {},
   "outputs": [
    {
     "name": "stdout",
     "output_type": "stream",
     "text": [
      "Doing t-test comparison for missense and wildtype\n",
      "\n",
      "No significant comparisons.\n",
      "None\n",
      "\n",
      "\n",
      "Doing t-test comparison for truncation and wildtype\n",
      "\n",
      "No significant comparisons.\n",
      "None\n"
     ]
    }
   ],
   "source": [
    "# select all wildtype from earlier -add to mut_type binary column\n",
    "trans_wildtype = trans_mut_status.loc[trans_mut_status['binary_mutations'] == 'Wildtype'] \n",
    "trans_mut_type = f.get_missense_truncation_comparison(ov, 'transcriptomics', gene)\n",
    "trans_mut_and_wildtype = trans_mut_type.append(trans_wildtype, sort=False) # use for graph\n",
    "\n",
    "\n",
    "trans_col_list = [gene+'_transcriptomics']\n",
    "# compare missense and wildtype\n",
    "miss_wt = trans_mut_and_wildtype.loc[trans_mut_and_wildtype['binary_mutations'] != 'Truncation']\n",
    "print(\"Doing t-test comparison for missense and wildtype\\n\")\n",
    "results_prot_miss = al.wrap_ttest(miss_wt, 'binary_mutations', trans_col_list)\n",
    "print(results_prot_miss)\n",
    "\n",
    "# compare truncation and wildtype\n",
    "trunc_wt = trans_mut_and_wildtype.loc[trans_mut_and_wildtype['binary_mutations'] != 'Missense']\n",
    "print(\"\\n\\nDoing t-test comparison for truncation and wildtype\\n\")\n",
    "results_prot_trunc = al.wrap_ttest(trunc_wt, 'binary_mutations', trans_col_list)\n",
    "print(results_prot_trunc)"
   ]
  },
  {
   "cell_type": "code",
   "execution_count": 10,
   "metadata": {},
   "outputs": [
    {
     "data": {
      "image/png": "[encoded data removed]",
      "text/plain": [
       "<Figure size 576x360 with 1 Axes>"
      ]
     },
     "metadata": {},
     "output_type": "display_data"
    }
   ],
   "source": [
    "plt.rcParams['figure.figsize']=(8,5)\n",
    "sns.set(font_scale = 1.2)\n",
    "trans_cis_boxplot = sns.boxplot(data = trans_mut_and_wildtype, x = 'binary_mutations',\n",
    "                          y = trans_col, order = [\"Wildtype\",\"Missense\",\"Truncation\"], showfliers = False)  \n",
    "trans_cis_boxplot.set_title(gene + \" Effect on \" + gene +\" Transcriptomics in Ovarian Tumors\")\n",
    "trans_cis_boxplot = sns.stripplot(data = trans_mut_and_wildtype, x = 'binary_mutations',y = trans_col, jitter = True, \n",
    "                        color = \".3\", order = [\"Wildtype\",\"Missense\",\"Truncation\"])\n",
    "trans_cis_boxplot.set(xlabel = gene + \" Mutation Status in Tumors\", ylabel = \"Proteomics\")\n",
    "plt.show()\n",
    "plt.clf()\n",
    "plt.close()"
   ]
  },
  {
   "cell_type": "markdown",
   "metadata": {},
   "source": [
    "# Phosphoproteomics cis comparison"
   ]
  },
  {
   "cell_type": "markdown",
   "metadata": {},
   "source": [
    "Phosphoproteomics: Mutated and Wildtype"
   ]
  },
  {
   "cell_type": "code",
   "execution_count": 13,
   "metadata": {},
   "outputs": [],
   "source": [
    "# Step 1 - Create dataframe in order to do comparisons with wrap_ttest\n",
    "omics_and_mut = ov.join_omics_to_mutations(\n",
    "    mutations_genes = gene, omics_df_name = 'phosphoproteomics', omics_genes = gene)\n",
    "\n",
    "# Step 2 - Create the binary column needed to do the comparison\n",
    "omics_and_mut['binary_mutations'] = omics_and_mut[gene+'_Mutation_Status'].apply(\n",
    "    lambda x: 'Wildtype' if x == 'Wildtype_Tumor' else 'Mutated')\n",
    "\n",
    "# Step 3 - Format\n",
    "omics_and_mut = omics_and_mut.query('Sample_Status != \"Normal\"') # changed because warning with slice\n",
    "#tumors = omics_and_mut.loc[omics_and_mut['Sample_Status'] == 'Tumor'] #drop Normal samples\n",
    "columns_to_drop = [gene+\"_Mutation\", gene+\"_Location\", gene+\"_Mutation_Status\", \"Sample_Status\"]\n",
    "binary_phospho = omics_and_mut.drop(columns_to_drop, axis = 1)\n",
    "only_phospho = binary_phospho.drop('binary_mutations', axis = 1)\n",
    "#omics_and_mut['binary_mutations'].value_counts()"
   ]
  },
  {
   "cell_type": "code",
   "execution_count": 17,
   "metadata": {},
   "outputs": [
    {
     "name": "stdout",
     "output_type": "stream",
     "text": [
      "Doing t-test comparison for mutation status\n",
      "\n",
      "Incorrectly Formatted Dataframe!\n"
     ]
    },
    {
     "data": {
      "text/html": [
       "<div>\n",
       "<style scoped>\n",
       "    .dataframe tbody tr th:only-of-type {\n",
       "        vertical-align: middle;\n",
       "    }\n",
       "\n",
       "    .dataframe tbody tr th {\n",
       "        vertical-align: top;\n",
       "    }\n",
       "\n",
       "    .dataframe thead th {\n",
       "        text-align: right;\n",
       "    }\n",
       "</style>\n",
       "<table border=\"1\" class=\"dataframe\">\n",
       "  <thead>\n",
       "    <tr style=\"text-align: right;\">\n",
       "      <th></th>\n",
       "      <th>PRKDC-S2612_phosphoproteomics</th>\n",
       "      <th>PRKDC-S2612_phosphoproteomics</th>\n",
       "      <th>PRKDC-S2612_phosphoproteomics</th>\n",
       "      <th>PRKDC-S2612_phosphoproteomics</th>\n",
       "      <th>PRKDC-S2624_phosphoproteomics</th>\n",
       "      <th>PRKDC-S2624_phosphoproteomics</th>\n",
       "      <th>PRKDC-S2672_phosphoproteomics</th>\n",
       "      <th>PRKDC-S2672_phosphoproteomics</th>\n",
       "      <th>PRKDC-S2827_phosphoproteomics</th>\n",
       "      <th>PRKDC-S2827_phosphoproteomics</th>\n",
       "      <th>...</th>\n",
       "      <th>PRKDC-S893_phosphoproteomics</th>\n",
       "      <th>PRKDC-S893_phosphoproteomics</th>\n",
       "      <th>PRKDC-S893_phosphoproteomics</th>\n",
       "      <th>PRKDC-T2603_phosphoproteomics</th>\n",
       "      <th>PRKDC-T2603_phosphoproteomics</th>\n",
       "      <th>PRKDC-T2638_phosphoproteomics</th>\n",
       "      <th>PRKDC-T2638_phosphoproteomics</th>\n",
       "      <th>PRKDC-T2645_phosphoproteomics</th>\n",
       "      <th>PRKDC-T2645_phosphoproteomics</th>\n",
       "      <th>binary_mutations</th>\n",
       "    </tr>\n",
       "    <tr>\n",
       "      <th>Sample_ID</th>\n",
       "      <th></th>\n",
       "      <th></th>\n",
       "      <th></th>\n",
       "      <th></th>\n",
       "      <th></th>\n",
       "      <th></th>\n",
       "      <th></th>\n",
       "      <th></th>\n",
       "      <th></th>\n",
       "      <th></th>\n",
       "      <th></th>\n",
       "      <th></th>\n",
       "      <th></th>\n",
       "      <th></th>\n",
       "      <th></th>\n",
       "      <th></th>\n",
       "      <th></th>\n",
       "      <th></th>\n",
       "      <th></th>\n",
       "      <th></th>\n",
       "      <th></th>\n",
       "    </tr>\n",
       "  </thead>\n",
       "  <tbody>\n",
       "    <tr>\n",
       "      <th>S002</th>\n",
       "      <td>NaN</td>\n",
       "      <td>-2.217</td>\n",
       "      <td>NaN</td>\n",
       "      <td>-2.217</td>\n",
       "      <td>NaN</td>\n",
       "      <td>NaN</td>\n",
       "      <td>NaN</td>\n",
       "      <td>NaN</td>\n",
       "      <td>NaN</td>\n",
       "      <td>NaN</td>\n",
       "      <td>...</td>\n",
       "      <td>NaN</td>\n",
       "      <td>NaN</td>\n",
       "      <td>NaN</td>\n",
       "      <td>NaN</td>\n",
       "      <td>NaN</td>\n",
       "      <td>-1.491</td>\n",
       "      <td>-1.491</td>\n",
       "      <td>NaN</td>\n",
       "      <td>NaN</td>\n",
       "      <td>Wildtype</td>\n",
       "    </tr>\n",
       "    <tr>\n",
       "      <th>S006</th>\n",
       "      <td>NaN</td>\n",
       "      <td>-1.813</td>\n",
       "      <td>NaN</td>\n",
       "      <td>-1.813</td>\n",
       "      <td>NaN</td>\n",
       "      <td>NaN</td>\n",
       "      <td>NaN</td>\n",
       "      <td>NaN</td>\n",
       "      <td>NaN</td>\n",
       "      <td>NaN</td>\n",
       "      <td>...</td>\n",
       "      <td>NaN</td>\n",
       "      <td>NaN</td>\n",
       "      <td>NaN</td>\n",
       "      <td>NaN</td>\n",
       "      <td>NaN</td>\n",
       "      <td>-2.055</td>\n",
       "      <td>-2.055</td>\n",
       "      <td>NaN</td>\n",
       "      <td>NaN</td>\n",
       "      <td>Wildtype</td>\n",
       "    </tr>\n",
       "    <tr>\n",
       "      <th>S007</th>\n",
       "      <td>NaN</td>\n",
       "      <td>NaN</td>\n",
       "      <td>NaN</td>\n",
       "      <td>NaN</td>\n",
       "      <td>NaN</td>\n",
       "      <td>NaN</td>\n",
       "      <td>NaN</td>\n",
       "      <td>NaN</td>\n",
       "      <td>NaN</td>\n",
       "      <td>NaN</td>\n",
       "      <td>...</td>\n",
       "      <td>NaN</td>\n",
       "      <td>NaN</td>\n",
       "      <td>NaN</td>\n",
       "      <td>NaN</td>\n",
       "      <td>NaN</td>\n",
       "      <td>NaN</td>\n",
       "      <td>NaN</td>\n",
       "      <td>NaN</td>\n",
       "      <td>NaN</td>\n",
       "      <td>Wildtype</td>\n",
       "    </tr>\n",
       "    <tr>\n",
       "      <th>S009</th>\n",
       "      <td>-2.109</td>\n",
       "      <td>-3.427</td>\n",
       "      <td>-2.109</td>\n",
       "      <td>-3.427</td>\n",
       "      <td>NaN</td>\n",
       "      <td>NaN</td>\n",
       "      <td>NaN</td>\n",
       "      <td>NaN</td>\n",
       "      <td>NaN</td>\n",
       "      <td>NaN</td>\n",
       "      <td>...</td>\n",
       "      <td>NaN</td>\n",
       "      <td>NaN</td>\n",
       "      <td>NaN</td>\n",
       "      <td>NaN</td>\n",
       "      <td>NaN</td>\n",
       "      <td>NaN</td>\n",
       "      <td>NaN</td>\n",
       "      <td>-2.276</td>\n",
       "      <td>-2.276</td>\n",
       "      <td>Wildtype</td>\n",
       "    </tr>\n",
       "    <tr>\n",
       "      <th>S011</th>\n",
       "      <td>NaN</td>\n",
       "      <td>NaN</td>\n",
       "      <td>NaN</td>\n",
       "      <td>NaN</td>\n",
       "      <td>NaN</td>\n",
       "      <td>NaN</td>\n",
       "      <td>NaN</td>\n",
       "      <td>NaN</td>\n",
       "      <td>NaN</td>\n",
       "      <td>NaN</td>\n",
       "      <td>...</td>\n",
       "      <td>NaN</td>\n",
       "      <td>NaN</td>\n",
       "      <td>NaN</td>\n",
       "      <td>NaN</td>\n",
       "      <td>NaN</td>\n",
       "      <td>-2.985</td>\n",
       "      <td>-2.985</td>\n",
       "      <td>NaN</td>\n",
       "      <td>NaN</td>\n",
       "      <td>Wildtype</td>\n",
       "    </tr>\n",
       "  </tbody>\n",
       "</table>\n",
       "<p>5 rows × 29 columns</p>\n",
       "</div>"
      ],
      "text/plain": [
       "           PRKDC-S2612_phosphoproteomics  PRKDC-S2612_phosphoproteomics  \\\n",
       "Sample_ID                                                                 \n",
       "S002                                 NaN                         -2.217   \n",
       "S006                                 NaN                         -1.813   \n",
       "S007                                 NaN                            NaN   \n",
       "S009                              -2.109                         -3.427   \n",
       "S011                                 NaN                            NaN   \n",
       "\n",
       "           PRKDC-S2612_phosphoproteomics  PRKDC-S2612_phosphoproteomics  \\\n",
       "Sample_ID                                                                 \n",
       "S002                                 NaN                         -2.217   \n",
       "S006                                 NaN                         -1.813   \n",
       "S007                                 NaN                            NaN   \n",
       "S009                              -2.109                         -3.427   \n",
       "S011                                 NaN                            NaN   \n",
       "\n",
       "           PRKDC-S2624_phosphoproteomics  PRKDC-S2624_phosphoproteomics  \\\n",
       "Sample_ID                                                                 \n",
       "S002                                 NaN                            NaN   \n",
       "S006                                 NaN                            NaN   \n",
       "S007                                 NaN                            NaN   \n",
       "S009                                 NaN                            NaN   \n",
       "S011                                 NaN                            NaN   \n",
       "\n",
       "           PRKDC-S2672_phosphoproteomics  PRKDC-S2672_phosphoproteomics  \\\n",
       "Sample_ID                                                                 \n",
       "S002                                 NaN                            NaN   \n",
       "S006                                 NaN                            NaN   \n",
       "S007                                 NaN                            NaN   \n",
       "S009                                 NaN                            NaN   \n",
       "S011                                 NaN                            NaN   \n",
       "\n",
       "           PRKDC-S2827_phosphoproteomics  PRKDC-S2827_phosphoproteomics  ...  \\\n",
       "Sample_ID                                                                ...   \n",
       "S002                                 NaN                            NaN  ...   \n",
       "S006                                 NaN                            NaN  ...   \n",
       "S007                                 NaN                            NaN  ...   \n",
       "S009                                 NaN                            NaN  ...   \n",
       "S011                                 NaN                            NaN  ...   \n",
       "\n",
       "           PRKDC-S893_phosphoproteomics  PRKDC-S893_phosphoproteomics  \\\n",
       "Sample_ID                                                               \n",
       "S002                                NaN                           NaN   \n",
       "S006                                NaN                           NaN   \n",
       "S007                                NaN                           NaN   \n",
       "S009                                NaN                           NaN   \n",
       "S011                                NaN                           NaN   \n",
       "\n",
       "           PRKDC-S893_phosphoproteomics  PRKDC-T2603_phosphoproteomics  \\\n",
       "Sample_ID                                                                \n",
       "S002                                NaN                            NaN   \n",
       "S006                                NaN                            NaN   \n",
       "S007                                NaN                            NaN   \n",
       "S009                                NaN                            NaN   \n",
       "S011                                NaN                            NaN   \n",
       "\n",
       "           PRKDC-T2603_phosphoproteomics  PRKDC-T2638_phosphoproteomics  \\\n",
       "Sample_ID                                                                 \n",
       "S002                                 NaN                         -1.491   \n",
       "S006                                 NaN                         -2.055   \n",
       "S007                                 NaN                            NaN   \n",
       "S009                                 NaN                            NaN   \n",
       "S011                                 NaN                         -2.985   \n",
       "\n",
       "           PRKDC-T2638_phosphoproteomics  PRKDC-T2645_phosphoproteomics  \\\n",
       "Sample_ID                                                                 \n",
       "S002                              -1.491                            NaN   \n",
       "S006                              -2.055                            NaN   \n",
       "S007                                 NaN                            NaN   \n",
       "S009                                 NaN                         -2.276   \n",
       "S011                              -2.985                            NaN   \n",
       "\n",
       "           PRKDC-T2645_phosphoproteomics  binary_mutations  \n",
       "Sample_ID                                                   \n",
       "S002                                 NaN          Wildtype  \n",
       "S006                                 NaN          Wildtype  \n",
       "S007                                 NaN          Wildtype  \n",
       "S009                              -2.276          Wildtype  \n",
       "S011                                 NaN          Wildtype  \n",
       "\n",
       "[5 rows x 29 columns]"
      ]
     },
     "execution_count": 17,
     "metadata": {},
     "output_type": "execute_result"
    }
   ],
   "source": [
    "# FIX\n",
    "phos_col_list = list(only_phospho.columns)\n",
    "\n",
    "# Step 4 - T-test comparing means of mutated vs wildtype effect on cis omics\n",
    "print(\"Doing t-test comparison for mutation status\\n\")\n",
    "phos_pval_results = al.wrap_ttest(binary_phospho, 'binary_mutations', phos_col_list)\n",
    "phos_pval_results\n",
    "binary_phospho.head()"
   ]
  },
  {
   "cell_type": "markdown",
   "metadata": {},
   "source": [
    "Graph"
   ]
  },
  {
   "cell_type": "code",
   "execution_count": 18,
   "metadata": {},
   "outputs": [],
   "source": [
    "# Create data frame with all significant phospho sites in order to graph\n",
    "phospho_list = list(only_phospho.columns)\n",
    "phospho_df = pd.melt(binary_phospho, id_vars = 'binary_mutations', \n",
    "            value_vars = phospho_list, var_name = 'specific_phospho', value_name = 'phosphoproteomics')\n",
    "phospho_df.replace(to_replace = '_phosphoproteomics', value = '', \n",
    "                        inplace = True, regex = True) # shorten column names\n",
    "#sig_phospho_df.dropna(axis=0)"
   ]
  },
  {
   "cell_type": "code",
   "execution_count": 19,
   "metadata": {},
   "outputs": [],
   "source": [
    "plt.rcParams['figure.figsize']=(25,15) #size of plot\n",
    "sns.set(font_scale = 2)\n",
    "cis_boxplot = sns.boxplot(data = phospho_df, x = 'specific_phospho', y = 'phosphoproteomics', hue = 'binary_mutations',\n",
    "                             hue_order = [\"Wildtype\",\"Mutated\"], showfliers = False)  \n",
    "cis_boxplot.set_title(gene + \" Effect on \" + gene + \" Phosphoproteomics in Ovarian Tumors\")\n",
    "cis_boxplot = sns.stripplot(data = phospho_df, x = 'specific_phospho', y = 'phosphoproteomics', hue = 'binary_mutations',\n",
    "                               hue_order = [\"Wildtype\",\"Mutated\"], jitter = True, color = \".3\", dodge = True)\n",
    "cis_boxplot.set(xlabel = 'Phosphorylation Sites', ylabel = \"Phosphorylation Levels\")\n",
    "cis_boxplot.set_xticklabels(cis_boxplot.get_xticklabels(),rotation = 70)\n",
    "#plt.show()\n",
    "plt.clf()\n",
    "plt.close()"
   ]
  },
  {
   "cell_type": "markdown",
   "metadata": {},
   "source": [
    "Phosphoproteomics: Missense and Truncation"
   ]
  },
  {
   "cell_type": "code",
   "execution_count": 20,
   "metadata": {},
   "outputs": [],
   "source": [
    "# select all wildtype from earlier -add to mut_type binary column\n",
    "phos_wildtype = binary_phospho.loc[binary_phospho['binary_mutations'] == 'Wildtype'] \n",
    "\n",
    "phos_mut_type = f.get_missense_truncation_comparison(ov, 'phosphoproteomics', gene)\n",
    "phos_mut_and_wildtype = phos_mut_type.append(phos_wildtype, sort=True) "
   ]
  },
  {
   "cell_type": "code",
   "execution_count": 21,
   "metadata": {},
   "outputs": [
    {
     "name": "stdout",
     "output_type": "stream",
     "text": [
      "Doing t-test comparison for missense and wildtype\n",
      "\n",
      "Incorrectly Formatted Dataframe!\n",
      "None\n",
      "\n",
      "\n",
      "Doing t-test comparison for truncation and wildtype\n",
      "\n",
      "Incorrectly Formatted Dataframe!\n",
      "None\n"
     ]
    }
   ],
   "source": [
    "phos_col_list = list(only_phospho.columns)\n",
    "# compare missense and wildtype\n",
    "miss_wt = phos_mut_and_wildtype.loc[phos_mut_and_wildtype['binary_mutations'] != 'Truncation']\n",
    "print(\"Doing t-test comparison for missense and wildtype\\n\")\n",
    "phos_results_miss = al.wrap_ttest(miss_wt, 'binary_mutations', phos_col_list)\n",
    "print(phos_results_miss)\n",
    "\n",
    "# compare truncation and wildtype \n",
    "trunc_wt = phos_mut_and_wildtype.loc[phos_mut_and_wildtype['binary_mutations'] != 'Missense']\n",
    "print(\"\\n\\nDoing t-test comparison for truncation and wildtype\\n\")\n",
    "phos_results_trunc = al.wrap_ttest(trunc_wt, 'binary_mutations', phos_col_list)\n",
    "print(phos_results_trunc)"
   ]
  },
  {
   "cell_type": "markdown",
   "metadata": {},
   "source": [
    "Graph Missense and Truncation"
   ]
  },
  {
   "cell_type": "code",
   "execution_count": 17,
   "metadata": {},
   "outputs": [],
   "source": [
    "# Create data frame with all significant phospho sites in order to graph\n",
    "phos_mut_type_df = pd.melt(phos_mut_and_wildtype, id_vars = 'binary_mutations', \n",
    "            value_vars = phos_col_list, var_name = 'specific_phospho', value_name = 'phosphoproteomics')\n",
    "phos_mut_type_df.replace(to_replace = '_phosphoproteomics', value = '', \n",
    "                        inplace = True, regex = True) # shorten column names\n",
    "#sig_phospho_df.dropna(axis=0)"
   ]
  },
  {
   "cell_type": "code",
   "execution_count": 24,
   "metadata": {},
   "outputs": [],
   "source": [
    "plt.rcParams['figure.figsize']=(25,15) #size of plot\n",
    "sns.set(font_scale = 2)\n",
    "phos_cis_boxplot = sns.boxplot(data = phos_mut_type_df, x = 'specific_phospho', y = 'phosphoproteomics', hue = 'binary_mutations',\n",
    "                             hue_order = [\"Wildtype\",\"Missense\",\"Truncation\"], showfliers = False)  \n",
    "phos_cis_boxplot.set_title(gene + \" Effect on \" + gene + \" Phosphoproteomics in Ovarian Tumors\")\n",
    "phos_cis_boxplot = sns.stripplot(data = phos_mut_type_df, x = 'specific_phospho', y = 'phosphoproteomics', hue = 'binary_mutations',\n",
    "                               hue_order = [\"Wildtype\",\"Missense\",\"Truncation\"], jitter = True, color = \".3\", dodge = True)\n",
    "phos_cis_boxplot.set(xlabel = 'Phosphorylation Sites', ylabel = \"Phosphorylation Levels\")\n",
    "phos_cis_boxplot.set_xticklabels(phos_cis_boxplot.get_xticklabels(),rotation = 70)\n",
    "#plt.show()\n",
    "plt.clf()\n",
    "plt.close()"
   ]
  },
  {
   "cell_type": "markdown",
   "metadata": {},
   "source": [
    "#  Compare common mutations"
   ]
  },
  {
   "cell_type": "markdown",
   "metadata": {},
   "source": [
    "Find the common mutation types and compare them to the wildtype tumors."
   ]
  },
  {
   "cell_type": "code",
   "execution_count": 22,
   "metadata": {},
   "outputs": [
    {
     "data": {
      "text/plain": [
       "Missense_Mutation    8\n",
       "Silent               1\n",
       "Frame_Shift_Del      1\n",
       "Nonsense_Mutation    1\n",
       "Splice_Site          1\n",
       "Frame_Shift_Ins      1\n",
       "Name: Mutation, dtype: int64"
      ]
     },
     "execution_count": 22,
     "metadata": {},
     "output_type": "execute_result"
    }
   ],
   "source": [
    "# Count all mutations (including all mutations in a sample)\n",
    "somatic_mutations = ov.get_mutations()\n",
    "gene_mutations = somatic_mutations.loc[somatic_mutations['Gene'] == gene]\n",
    "count_all_mut = gene_mutations['Mutation'].value_counts()\n",
    "count_all_mut\n"
   ]
  },
  {
   "cell_type": "code",
   "execution_count": 23,
   "metadata": {},
   "outputs": [
    {
     "data": {
      "text/html": [
       "<div>\n",
       "<style scoped>\n",
       "    .dataframe tbody tr th:only-of-type {\n",
       "        vertical-align: middle;\n",
       "    }\n",
       "\n",
       "    .dataframe tbody tr th {\n",
       "        vertical-align: top;\n",
       "    }\n",
       "\n",
       "    .dataframe thead th {\n",
       "        text-align: right;\n",
       "    }\n",
       "</style>\n",
       "<table border=\"1\" class=\"dataframe\">\n",
       "  <thead>\n",
       "    <tr style=\"text-align: right;\">\n",
       "      <th></th>\n",
       "      <th>Gene</th>\n",
       "      <th>Mutation</th>\n",
       "      <th>Location</th>\n",
       "    </tr>\n",
       "    <tr>\n",
       "      <th>Sample_ID</th>\n",
       "      <th></th>\n",
       "      <th></th>\n",
       "      <th></th>\n",
       "    </tr>\n",
       "  </thead>\n",
       "  <tbody>\n",
       "    <tr>\n",
       "      <th>S015</th>\n",
       "      <td>PRKDC</td>\n",
       "      <td>Missense_Mutation</td>\n",
       "      <td>p.W1631L</td>\n",
       "    </tr>\n",
       "    <tr>\n",
       "      <th>S051</th>\n",
       "      <td>PRKDC</td>\n",
       "      <td>Missense_Mutation</td>\n",
       "      <td>p.S1603I</td>\n",
       "    </tr>\n",
       "    <tr>\n",
       "      <th>S078</th>\n",
       "      <td>PRKDC</td>\n",
       "      <td>Missense_Mutation</td>\n",
       "      <td>p.V2461I</td>\n",
       "    </tr>\n",
       "    <tr>\n",
       "      <th>S078</th>\n",
       "      <td>PRKDC</td>\n",
       "      <td>Missense_Mutation</td>\n",
       "      <td>p.A1927T</td>\n",
       "    </tr>\n",
       "    <tr>\n",
       "      <th>S080</th>\n",
       "      <td>PRKDC</td>\n",
       "      <td>Missense_Mutation</td>\n",
       "      <td>p.F3418L</td>\n",
       "    </tr>\n",
       "    <tr>\n",
       "      <th>S095</th>\n",
       "      <td>PRKDC</td>\n",
       "      <td>Missense_Mutation</td>\n",
       "      <td>p.K3630N</td>\n",
       "    </tr>\n",
       "    <tr>\n",
       "      <th>S102</th>\n",
       "      <td>PRKDC</td>\n",
       "      <td>Missense_Mutation</td>\n",
       "      <td>p.H1624Q</td>\n",
       "    </tr>\n",
       "    <tr>\n",
       "      <th>S110</th>\n",
       "      <td>PRKDC</td>\n",
       "      <td>Missense_Mutation</td>\n",
       "      <td>p.D807Y</td>\n",
       "    </tr>\n",
       "  </tbody>\n",
       "</table>\n",
       "</div>"
      ],
      "text/plain": [
       "            Gene           Mutation  Location\n",
       "Sample_ID                                    \n",
       "S015       PRKDC  Missense_Mutation  p.W1631L\n",
       "S051       PRKDC  Missense_Mutation  p.S1603I\n",
       "S078       PRKDC  Missense_Mutation  p.V2461I\n",
       "S078       PRKDC  Missense_Mutation  p.A1927T\n",
       "S080       PRKDC  Missense_Mutation  p.F3418L\n",
       "S095       PRKDC  Missense_Mutation  p.K3630N\n",
       "S102       PRKDC  Missense_Mutation  p.H1624Q\n",
       "S110       PRKDC  Missense_Mutation   p.D807Y"
      ]
     },
     "execution_count": 23,
     "metadata": {},
     "output_type": "execute_result"
    }
   ],
   "source": [
    "mut = 'Missense_Mutation'\n",
    "gene_mutations.loc[gene_mutations['Mutation'] == mut]\n",
    "#gene_mutations['Location'].value_counts()"
   ]
  },
  {
   "cell_type": "markdown",
   "metadata": {},
   "source": [
    "# Analysis of Results"
   ]
  },
  {
   "cell_type": "markdown",
   "metadata": {},
   "source": [
    "PRKDC proteomics decrease for missense mutations compared to the wildtype. Of the 8 missense mutations, 3 are found between amino acid 1603 and 1631."
   ]
  },
  {
   "cell_type": "markdown",
   "metadata": {},
   "source": [
    "No acetylproteomics for the ovarian dataset."
   ]
  },
  {
   "cell_type": "code",
   "execution_count": null,
   "metadata": {},
   "outputs": [],
   "source": []
  }
 ],
 "metadata": {
  "kernelspec": {
   "display_name": "Python 3",
   "language": "python",
   "name": "python3"
  },
  "language_info": {
   "codemirror_mode": {
    "name": "ipython",
    "version": 3
   },
   "file_extension": ".py",
   "mimetype": "text/x-python",
   "name": "python",
   "nbconvert_exporter": "python",
   "pygments_lexer": "ipython3",
   "version": "3.7.3"
  }
 },
 "nbformat": 4,
 "nbformat_minor": 2
}
