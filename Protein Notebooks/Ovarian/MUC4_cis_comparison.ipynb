{
 "cells": [
  {
   "cell_type": "markdown",
   "metadata": {},
   "source": [
    "# MUC4 cis comparison"
   ]
  },
  {
   "cell_type": "markdown",
   "metadata": {},
   "source": []
  },
  {
   "cell_type": "markdown",
   "metadata": {},
   "source": [
    "## Step 1: Library Imports"
   ]
  },
  {
   "cell_type": "markdown",
   "metadata": {},
   "source": [
    "Run this cell to import the necessary libraries"
   ]
  },
  {
   "cell_type": "code",
   "execution_count": 2,
   "metadata": {},
   "outputs": [],
   "source": [
    "import pandas as pd\n",
    "import numpy as np\n",
    "import seaborn as sns\n",
    "import matplotlib.pyplot as plt\n",
    "import scipy.stats\n",
    "import re\n",
    "import sys \n",
    "sys.path.append('C:\\\\Users\\\\brittany henderson\\\\GitHub\\\\WhenMutationsMatter\\\\Brittany\\\\')\n",
    "import functions as f\n",
    "\n",
    "import cptac\n",
    "import cptac.algorithms as al"
   ]
  },
  {
   "cell_type": "markdown",
   "metadata": {},
   "source": [
    "## Step 2: Find the mutation frequency of MUC4 for Ovarian Cancer"
   ]
  },
  {
   "cell_type": "code",
   "execution_count": 4,
   "metadata": {},
   "outputs": [
    {
     "name": "stdout",
     "output_type": "stream",
     "text": [
      "                                    \r"
     ]
    },
    {
     "data": {
      "text/html": [
       "<div>\n",
       "<style scoped>\n",
       "    .dataframe tbody tr th:only-of-type {\n",
       "        vertical-align: middle;\n",
       "    }\n",
       "\n",
       "    .dataframe tbody tr th {\n",
       "        vertical-align: top;\n",
       "    }\n",
       "\n",
       "    .dataframe thead th {\n",
       "        text-align: right;\n",
       "    }\n",
       "</style>\n",
       "<table border=\"1\" class=\"dataframe\">\n",
       "  <thead>\n",
       "    <tr style=\"text-align: right;\">\n",
       "      <th></th>\n",
       "      <th>Gene</th>\n",
       "      <th>Unique_Samples_Mut</th>\n",
       "      <th>Missense_Mut</th>\n",
       "      <th>Truncation_Mut</th>\n",
       "    </tr>\n",
       "  </thead>\n",
       "  <tbody>\n",
       "    <tr>\n",
       "      <th>8</th>\n",
       "      <td>MUC4</td>\n",
       "      <td>0.325301</td>\n",
       "      <td>0.313253</td>\n",
       "      <td>0.012048</td>\n",
       "    </tr>\n",
       "  </tbody>\n",
       "</table>\n",
       "</div>"
      ],
      "text/plain": [
       "   Gene  Unique_Samples_Mut  Missense_Mut  Truncation_Mut\n",
       "8  MUC4            0.325301      0.313253        0.012048"
      ]
     },
     "execution_count": 4,
     "metadata": {},
     "output_type": "execute_result"
    }
   ],
   "source": [
    "ov = cptac.Ovarian()\n",
    "desired_cutoff = 0.1\n",
    "gene = 'MUC4'\n",
    "\n",
    "freq_mut = al.get_frequently_mutated(ov, cutoff = desired_cutoff)\n",
    "freq_mut.loc[freq_mut['Gene'] == gene]"
   ]
  },
  {
   "cell_type": "markdown",
   "metadata": {},
   "source": [
    "## Step 3: cis comparisons for omics "
   ]
  },
  {
   "cell_type": "markdown",
   "metadata": {},
   "source": [
    "Determine if the DNA mutation has an effect on the omics measurement. In order to do this, we have a few steps in code. These steps are found in the format_cis_comparison_data function.\n",
    "1. get a table with both the omics and mutation data for tumors\n",
    "2. get a binary column from the mutation data to separate our samples\n",
    "3. format data frame to be used in the T-test\n",
    "4. send data to the T-test.\n",
    "\n",
    "The format_cis_comparison_data does the first 3 steps."
   ]
  },
  {
   "cell_type": "markdown",
   "metadata": {},
   "source": [
    "# Proteomics cis comparison"
   ]
  },
  {
   "cell_type": "markdown",
   "metadata": {},
   "source": [
    "Proteomics: Mutated and Wildtype"
   ]
  },
  {
   "cell_type": "code",
   "execution_count": 5,
   "metadata": {},
   "outputs": [
    {
     "name": "stdout",
     "output_type": "stream",
     "text": [
      "Doing t-test comparison\n",
      "\n",
      "No significant comparisons.\n",
      "None\n"
     ]
    }
   ],
   "source": [
    "prot_mut_status = f.format_cis_comparison_data(ov, 'proteomics', gene)\n",
    "\n",
    "prot_col_list = [gene+'_proteomics']\n",
    "prot_col = gene+\"_proteomics\"\n",
    "\n",
    "# Step 4 - T-test comparing means of mutated vs wildtype effect on cis omics\n",
    "print(\"Doing t-test comparison\\n\")\n",
    "prot_pval_results = al.wrap_ttest(prot_mut_status, 'binary_mutations', prot_col_list)\n",
    "print(prot_pval_results)"
   ]
  },
  {
   "cell_type": "code",
   "execution_count": 6,
   "metadata": {},
   "outputs": [
    {
     "data": {
      "image/png": "[encoded data removed]",
      "text/plain": [
       "<Figure size 576x360 with 1 Axes>"
      ]
     },
     "metadata": {},
     "output_type": "display_data"
    }
   ],
   "source": [
    "# Step 5 - Create boxplt to compare wildtype and mutated effect on omics data\n",
    "plt.rcParams['figure.figsize']=(8,5)\n",
    "sns.set(font_scale = 1.3)\n",
    "cis_boxplot = sns.boxplot(data = prot_mut_status, x = 'binary_mutations',\n",
    "                          y = prot_col, order = [\"Wildtype\",\"Mutated\"], showfliers = False)  \n",
    "cis_boxplot.set_title(gene + \" Effect on \" + gene + \" Proteomics in Ovarian Tumors\")\n",
    "cis_boxplot = sns.stripplot(data= prot_mut_status, x = 'binary_mutations',\n",
    "                            y = prot_col,jitter = True, color = \".3\", order = [\"Wildtype\",\"Mutated\"])\n",
    "cis_boxplot.set(xlabel = gene + \" Mutation Status in Tumors\", ylabel = \"Proteomics\")\n",
    "#cis_boxplot.set_xticklabels(cis_boxplot.get_xticklabels(),rotation = 50)\n",
    "plt.show()\n",
    "plt.clf()\n",
    "plt.close()"
   ]
  },
  {
   "cell_type": "markdown",
   "metadata": {},
   "source": [
    "Proteomics: Missense and Truncation compared to wildtype"
   ]
  },
  {
   "cell_type": "code",
   "execution_count": 7,
   "metadata": {},
   "outputs": [
    {
     "name": "stdout",
     "output_type": "stream",
     "text": [
      "Doing t-test comparison for missense and wildtype\n",
      "\n",
      "No significant comparisons.\n",
      "None\n",
      "\n",
      "\n",
      "Doing t-test comparison for truncation and wildtype\n",
      "\n",
      "No significant comparisons.\n",
      "None\n"
     ]
    }
   ],
   "source": [
    "prot_mut_type = f.get_missense_truncation_comparison(ov, 'proteomics', gene)\n",
    "prot_wildtype = prot_mut_status.loc[prot_mut_status['binary_mutations'] == 'Wildtype'] # select all wildtype from binary_mutations\n",
    "prot_mut_and_wildtype = prot_mut_type.append(prot_wildtype, sort=False) # use for graph\n",
    "\n",
    "# compare missense and wildtype\n",
    "prot_miss_wt = prot_mut_and_wildtype.loc[prot_mut_and_wildtype['binary_mutations'] != 'Truncation']\n",
    "print(\"Doing t-test comparison for missense and wildtype\\n\")\n",
    "prot_results_miss = al.wrap_ttest(prot_miss_wt, 'binary_mutations', prot_col_list)\n",
    "print(prot_results_miss)\n",
    "\n",
    "# compare truncation and wildtype\n",
    "prot_trunc_wt = prot_mut_and_wildtype.loc[prot_mut_and_wildtype['binary_mutations'] != 'Missense']\n",
    "print(\"\\n\\nDoing t-test comparison for truncation and wildtype\\n\")\n",
    "prot_results_trunc = al.wrap_ttest(prot_trunc_wt, 'binary_mutations', prot_col_list)\n",
    "print(prot_results_trunc)"
   ]
  },
  {
   "cell_type": "code",
   "execution_count": 8,
   "metadata": {},
   "outputs": [
    {
     "data": {
      "image/png": "[encoded data removed]",
      "text/plain": [
       "<Figure size 576x360 with 1 Axes>"
      ]
     },
     "metadata": {},
     "output_type": "display_data"
    }
   ],
   "source": [
    "prot_cis_boxplot = sns.boxplot(data = prot_mut_and_wildtype, x = 'binary_mutations',\n",
    "                          y = prot_col, order = [\"Wildtype\",\"Missense\",\"Truncation\"], showfliers = False)  \n",
    "prot_cis_boxplot.set_title(gene + \" Effect on \"+gene+\" Proteomics in Ovarian Tumors\")\n",
    "prot_cis_boxplot = sns.stripplot(data= prot_mut_and_wildtype, x = 'binary_mutations',\n",
    "                            y = prot_col, jitter = True, color = \".3\", order = [\"Wildtype\",\"Missense\",\"Truncation\"])\n",
    "prot_cis_boxplot.set(xlabel = gene + \" Mutation Status in Tumors\", ylabel = \"Proteomics\")\n",
    "plt.show()\n",
    "plt.clf()\n",
    "plt.close()"
   ]
  },
  {
   "cell_type": "markdown",
   "metadata": {},
   "source": [
    "# Transcriptomics cis comparison"
   ]
  },
  {
   "cell_type": "markdown",
   "metadata": {},
   "source": [
    "Transcriptomics: Mutated and Wildtype"
   ]
  },
  {
   "cell_type": "code",
   "execution_count": 9,
   "metadata": {},
   "outputs": [
    {
     "name": "stdout",
     "output_type": "stream",
     "text": [
      "Doing t-test comparison for mutation status\n",
      "\n",
      "No significant comparisons.\n",
      "None\n"
     ]
    }
   ],
   "source": [
    "trans_mut_status = f.format_cis_comparison_data(ov, 'transcriptomics', gene)\n",
    "\n",
    "trans_col_list = [gene+'_transcriptomics']\n",
    "\n",
    "print(\"Doing t-test comparison for mutation status\\n\")\n",
    "trans_pval_results = al.wrap_ttest(trans_mut_status, 'binary_mutations', trans_col_list)\n",
    "print(trans_pval_results)"
   ]
  },
  {
   "cell_type": "code",
   "execution_count": 12,
   "metadata": {},
   "outputs": [
    {
     "data": {
      "image/png": "[encoded data removed]",
      "text/plain": [
       "<Figure size 576x360 with 1 Axes>"
      ]
     },
     "metadata": {},
     "output_type": "display_data"
    }
   ],
   "source": [
    "trans_col = gene+'_transcriptomics'\n",
    "\n",
    "plt.rcParams['figure.figsize']=(8,5)\n",
    "sns.set(font_scale = 1.2)\n",
    "cis_boxplot = sns.boxplot(data = trans_mut_status, x = 'binary_mutations',\n",
    "                          y = trans_col, order = [\"Wildtype\",\"Mutated\"], showfliers = False)  \n",
    "cis_boxplot.set_title(gene + \" Effect on \" + gene +\" Transcriptomics in Ovarian Tumors\")\n",
    "cis_boxplot = sns.stripplot(data = trans_mut_status, x = 'binary_mutations',y = trans_col, jitter = True, \n",
    "                        color = \".3\", order = [\"Wildtype\",\"Mutated\"])\n",
    "cis_boxplot.set(xlabel = gene + \" Mutation Status in Tumors\", ylabel = \"Proteomics\")\n",
    "plt.show()\n",
    "plt.clf()\n",
    "plt.close()"
   ]
  },
  {
   "cell_type": "markdown",
   "metadata": {},
   "source": [
    "Transcriptomics: Missense and Truncation"
   ]
  },
  {
   "cell_type": "code",
   "execution_count": 13,
   "metadata": {},
   "outputs": [
    {
     "name": "stdout",
     "output_type": "stream",
     "text": [
      "Doing t-test comparison for missense and wildtype\n",
      "\n",
      "No significant comparisons.\n",
      "None\n",
      "\n",
      "\n",
      "Doing t-test comparison for truncation and wildtype\n",
      "\n",
      "No significant comparisons.\n",
      "None\n"
     ]
    },
    {
     "name": "stderr",
     "output_type": "stream",
     "text": [
      "C:\\Users\\brittany henderson\\Anaconda3\\envs\\Research\\lib\\site-packages\\numpy\\core\\fromnumeric.py:3367: RuntimeWarning: Degrees of freedom <= 0 for slice\n",
      "  **kwargs)\n",
      "C:\\Users\\brittany henderson\\Anaconda3\\envs\\Research\\lib\\site-packages\\numpy\\core\\_methods.py:132: RuntimeWarning: invalid value encountered in double_scalars\n",
      "  ret = ret.dtype.type(ret / rcount)\n",
      "C:\\Users\\brittany henderson\\Anaconda3\\envs\\Research\\lib\\site-packages\\scipy\\stats\\_distn_infrastructure.py:877: RuntimeWarning: invalid value encountered in greater\n",
      "  return (self.a < x) & (x < self.b)\n",
      "C:\\Users\\brittany henderson\\Anaconda3\\envs\\Research\\lib\\site-packages\\scipy\\stats\\_distn_infrastructure.py:877: RuntimeWarning: invalid value encountered in less\n",
      "  return (self.a < x) & (x < self.b)\n",
      "C:\\Users\\brittany henderson\\Anaconda3\\envs\\Research\\lib\\site-packages\\scipy\\stats\\_distn_infrastructure.py:1831: RuntimeWarning: invalid value encountered in less_equal\n",
      "  cond2 = cond0 & (x <= self.a)\n"
     ]
    }
   ],
   "source": [
    "# select all wildtype from earlier -add to mut_type binary column\n",
    "trans_wildtype = trans_mut_status.loc[trans_mut_status['binary_mutations'] == 'Wildtype'] \n",
    "trans_mut_type = f.get_missense_truncation_comparison(ov, 'transcriptomics', gene)\n",
    "trans_mut_and_wildtype = trans_mut_type.append(trans_wildtype, sort=False) # use for graph\n",
    "\n",
    "\n",
    "trans_col_list = [gene+'_transcriptomics']\n",
    "# compare missense and wildtype\n",
    "miss_wt = trans_mut_and_wildtype.loc[trans_mut_and_wildtype['binary_mutations'] != 'Truncation']\n",
    "print(\"Doing t-test comparison for missense and wildtype\\n\")\n",
    "results_prot_miss = al.wrap_ttest(miss_wt, 'binary_mutations', trans_col_list)\n",
    "print(results_prot_miss)\n",
    "\n",
    "# compare truncation and wildtype\n",
    "trunc_wt = trans_mut_and_wildtype.loc[trans_mut_and_wildtype['binary_mutations'] != 'Missense']\n",
    "print(\"\\n\\nDoing t-test comparison for truncation and wildtype\\n\")\n",
    "results_prot_trunc = al.wrap_ttest(trunc_wt, 'binary_mutations', trans_col_list)\n",
    "print(results_prot_trunc)"
   ]
  },
  {
   "cell_type": "code",
   "execution_count": 14,
   "metadata": {},
   "outputs": [
    {
     "data": {
      "image/png": "[encoded data removed]",
      "text/plain": [
       "<Figure size 576x360 with 1 Axes>"
      ]
     },
     "metadata": {},
     "output_type": "display_data"
    }
   ],
   "source": [
    "plt.rcParams['figure.figsize']=(8,5)\n",
    "sns.set(font_scale = 1.2)\n",
    "trans_cis_boxplot = sns.boxplot(data = trans_mut_and_wildtype, x = 'binary_mutations',\n",
    "                          y = trans_col, order = [\"Wildtype\",\"Missense\",\"Truncation\"], showfliers = False)  \n",
    "trans_cis_boxplot.set_title(gene + \" Effect on \" + gene +\" Transcriptomics in Ovarian Tumors\")\n",
    "trans_cis_boxplot = sns.stripplot(data = trans_mut_and_wildtype, x = 'binary_mutations',y = trans_col, jitter = True, \n",
    "                        color = \".3\", order = [\"Wildtype\",\"Missense\",\"Truncation\"])\n",
    "trans_cis_boxplot.set(xlabel = gene + \" Mutation Status in Tumors\", ylabel = \"Proteomics\")\n",
    "plt.show()\n",
    "plt.clf()\n",
    "plt.close()"
   ]
  },
  {
   "cell_type": "markdown",
   "metadata": {},
   "source": [
    "# Phosphoproteomics cis comparison"
   ]
  },
  {
   "cell_type": "markdown",
   "metadata": {},
   "source": [
    "Phosphoproteomics: Mutated and Wildtype"
   ]
  },
  {
   "cell_type": "code",
   "execution_count": 16,
   "metadata": {},
   "outputs": [
    {
     "name": "stderr",
     "output_type": "stream",
     "text": [
      "Warning: MUC4 did not match any columns in phosphoproteomics dataframe. MUC4_phosphoproteomics column inserted, but filled with NaN. (C:\\Users\\brittany henderson\\Anaconda3\\envs\\Research\\lib\\site-packages\\ipykernel_launcher.py, line 3)\n"
     ]
    }
   ],
   "source": [
    "# Step 1 - Create dataframe in order to do comparisons with wrap_ttest\n",
    "omics_and_mut = ov.join_omics_to_mutations(\n",
    "    mutations_genes = gene, omics_df_name = 'phosphoproteomics', omics_genes = gene)"
   ]
  },
  {
   "cell_type": "markdown",
   "metadata": {},
   "source": [
    "#  Compare common mutations"
   ]
  },
  {
   "cell_type": "markdown",
   "metadata": {},
   "source": [
    "Find the common mutation types and compare them to the wildtype tumors."
   ]
  },
  {
   "cell_type": "code",
   "execution_count": 17,
   "metadata": {},
   "outputs": [
    {
     "data": {
      "text/plain": [
       "Missense_Mutation    48\n",
       "Silent               16\n",
       "Splice_Site           1\n",
       "Name: Mutation, dtype: int64"
      ]
     },
     "execution_count": 17,
     "metadata": {},
     "output_type": "execute_result"
    }
   ],
   "source": [
    "# Count all mutations (including all mutations in a sample)\n",
    "somatic_mutations = ov.get_mutations()\n",
    "gene_mutations = somatic_mutations.loc[somatic_mutations['Gene'] == gene]\n",
    "count_all_mut = gene_mutations['Mutation'].value_counts()\n",
    "count_all_mut\n"
   ]
  },
  {
   "cell_type": "code",
   "execution_count": 18,
   "metadata": {},
   "outputs": [
    {
     "data": {
      "text/html": [
       "<div>\n",
       "<style scoped>\n",
       "    .dataframe tbody tr th:only-of-type {\n",
       "        vertical-align: middle;\n",
       "    }\n",
       "\n",
       "    .dataframe tbody tr th {\n",
       "        vertical-align: top;\n",
       "    }\n",
       "\n",
       "    .dataframe thead th {\n",
       "        text-align: right;\n",
       "    }\n",
       "</style>\n",
       "<table border=\"1\" class=\"dataframe\">\n",
       "  <thead>\n",
       "    <tr style=\"text-align: right;\">\n",
       "      <th></th>\n",
       "      <th>Gene</th>\n",
       "      <th>Mutation</th>\n",
       "      <th>Location</th>\n",
       "    </tr>\n",
       "    <tr>\n",
       "      <th>Sample_ID</th>\n",
       "      <th></th>\n",
       "      <th></th>\n",
       "      <th></th>\n",
       "    </tr>\n",
       "  </thead>\n",
       "  <tbody>\n",
       "    <tr>\n",
       "      <th>S015</th>\n",
       "      <td>MUC4</td>\n",
       "      <td>Missense_Mutation</td>\n",
       "      <td>p.S4069I</td>\n",
       "    </tr>\n",
       "    <tr>\n",
       "      <th>S015</th>\n",
       "      <td>MUC4</td>\n",
       "      <td>Missense_Mutation</td>\n",
       "      <td>p.P3840S</td>\n",
       "    </tr>\n",
       "    <tr>\n",
       "      <th>S016</th>\n",
       "      <td>MUC4</td>\n",
       "      <td>Missense_Mutation</td>\n",
       "      <td>p.H3533D</td>\n",
       "    </tr>\n",
       "    <tr>\n",
       "      <th>S019</th>\n",
       "      <td>MUC4</td>\n",
       "      <td>Missense_Mutation</td>\n",
       "      <td>p.A2969V</td>\n",
       "    </tr>\n",
       "    <tr>\n",
       "      <th>S023</th>\n",
       "      <td>MUC4</td>\n",
       "      <td>Missense_Mutation</td>\n",
       "      <td>p.H2765D</td>\n",
       "    </tr>\n",
       "    <tr>\n",
       "      <th>S039</th>\n",
       "      <td>MUC4</td>\n",
       "      <td>Missense_Mutation</td>\n",
       "      <td>p.T2219S</td>\n",
       "    </tr>\n",
       "    <tr>\n",
       "      <th>S039</th>\n",
       "      <td>MUC4</td>\n",
       "      <td>Missense_Mutation</td>\n",
       "      <td>p.A1772G</td>\n",
       "    </tr>\n",
       "    <tr>\n",
       "      <th>S041</th>\n",
       "      <td>MUC4</td>\n",
       "      <td>Missense_Mutation</td>\n",
       "      <td>p.G3365S</td>\n",
       "    </tr>\n",
       "    <tr>\n",
       "      <th>S042</th>\n",
       "      <td>MUC4</td>\n",
       "      <td>Missense_Mutation</td>\n",
       "      <td>p.D1629H</td>\n",
       "    </tr>\n",
       "    <tr>\n",
       "      <th>S044</th>\n",
       "      <td>MUC4</td>\n",
       "      <td>Missense_Mutation</td>\n",
       "      <td>p.A3081S</td>\n",
       "    </tr>\n",
       "    <tr>\n",
       "      <th>S044</th>\n",
       "      <td>MUC4</td>\n",
       "      <td>Missense_Mutation</td>\n",
       "      <td>p.D2909H</td>\n",
       "    </tr>\n",
       "    <tr>\n",
       "      <th>S047</th>\n",
       "      <td>MUC4</td>\n",
       "      <td>Missense_Mutation</td>\n",
       "      <td>p.T2543S</td>\n",
       "    </tr>\n",
       "    <tr>\n",
       "      <th>S052</th>\n",
       "      <td>MUC4</td>\n",
       "      <td>Missense_Mutation</td>\n",
       "      <td>p.P4018H</td>\n",
       "    </tr>\n",
       "    <tr>\n",
       "      <th>S054</th>\n",
       "      <td>MUC4</td>\n",
       "      <td>Missense_Mutation</td>\n",
       "      <td>p.S4229G</td>\n",
       "    </tr>\n",
       "    <tr>\n",
       "      <th>S054</th>\n",
       "      <td>MUC4</td>\n",
       "      <td>Missense_Mutation</td>\n",
       "      <td>p.I4149S</td>\n",
       "    </tr>\n",
       "    <tr>\n",
       "      <th>S054</th>\n",
       "      <td>MUC4</td>\n",
       "      <td>Missense_Mutation</td>\n",
       "      <td>p.A4030T</td>\n",
       "    </tr>\n",
       "    <tr>\n",
       "      <th>S054</th>\n",
       "      <td>MUC4</td>\n",
       "      <td>Missense_Mutation</td>\n",
       "      <td>p.A4014V</td>\n",
       "    </tr>\n",
       "    <tr>\n",
       "      <th>S054</th>\n",
       "      <td>MUC4</td>\n",
       "      <td>Missense_Mutation</td>\n",
       "      <td>p.A4014T</td>\n",
       "    </tr>\n",
       "    <tr>\n",
       "      <th>S054</th>\n",
       "      <td>MUC4</td>\n",
       "      <td>Missense_Mutation</td>\n",
       "      <td>p.T3950A</td>\n",
       "    </tr>\n",
       "    <tr>\n",
       "      <th>S054</th>\n",
       "      <td>MUC4</td>\n",
       "      <td>Missense_Mutation</td>\n",
       "      <td>p.V3657A</td>\n",
       "    </tr>\n",
       "    <tr>\n",
       "      <th>S054</th>\n",
       "      <td>MUC4</td>\n",
       "      <td>Missense_Mutation</td>\n",
       "      <td>p.Q3213H</td>\n",
       "    </tr>\n",
       "    <tr>\n",
       "      <th>S054</th>\n",
       "      <td>MUC4</td>\n",
       "      <td>Missense_Mutation</td>\n",
       "      <td>p.R1696P</td>\n",
       "    </tr>\n",
       "    <tr>\n",
       "      <th>S054</th>\n",
       "      <td>MUC4</td>\n",
       "      <td>Missense_Mutation</td>\n",
       "      <td>p.T1183M</td>\n",
       "    </tr>\n",
       "    <tr>\n",
       "      <th>S054</th>\n",
       "      <td>MUC4</td>\n",
       "      <td>Missense_Mutation</td>\n",
       "      <td>p.H1117D</td>\n",
       "    </tr>\n",
       "    <tr>\n",
       "      <th>S055</th>\n",
       "      <td>MUC4</td>\n",
       "      <td>Missense_Mutation</td>\n",
       "      <td>p.A1662T</td>\n",
       "    </tr>\n",
       "    <tr>\n",
       "      <th>S055</th>\n",
       "      <td>MUC4</td>\n",
       "      <td>Missense_Mutation</td>\n",
       "      <td>p.T1126A</td>\n",
       "    </tr>\n",
       "    <tr>\n",
       "      <th>S057</th>\n",
       "      <td>MUC4</td>\n",
       "      <td>Missense_Mutation</td>\n",
       "      <td>p.T4046A</td>\n",
       "    </tr>\n",
       "    <tr>\n",
       "      <th>S057</th>\n",
       "      <td>MUC4</td>\n",
       "      <td>Missense_Mutation</td>\n",
       "      <td>p.H4029D</td>\n",
       "    </tr>\n",
       "    <tr>\n",
       "      <th>S060</th>\n",
       "      <td>MUC4</td>\n",
       "      <td>Missense_Mutation</td>\n",
       "      <td>p.D2949N</td>\n",
       "    </tr>\n",
       "    <tr>\n",
       "      <th>S060</th>\n",
       "      <td>MUC4</td>\n",
       "      <td>Missense_Mutation</td>\n",
       "      <td>p.P2946L</td>\n",
       "    </tr>\n",
       "    <tr>\n",
       "      <th>S076</th>\n",
       "      <td>MUC4</td>\n",
       "      <td>Missense_Mutation</td>\n",
       "      <td>p.P1346H</td>\n",
       "    </tr>\n",
       "    <tr>\n",
       "      <th>S079</th>\n",
       "      <td>MUC4</td>\n",
       "      <td>Missense_Mutation</td>\n",
       "      <td>p.H2797D</td>\n",
       "    </tr>\n",
       "    <tr>\n",
       "      <th>S079</th>\n",
       "      <td>MUC4</td>\n",
       "      <td>Missense_Mutation</td>\n",
       "      <td>p.D2125Y</td>\n",
       "    </tr>\n",
       "    <tr>\n",
       "      <th>S080</th>\n",
       "      <td>MUC4</td>\n",
       "      <td>Missense_Mutation</td>\n",
       "      <td>p.D401Y</td>\n",
       "    </tr>\n",
       "    <tr>\n",
       "      <th>S085</th>\n",
       "      <td>MUC4</td>\n",
       "      <td>Missense_Mutation</td>\n",
       "      <td>p.S3224L</td>\n",
       "    </tr>\n",
       "    <tr>\n",
       "      <th>S087</th>\n",
       "      <td>MUC4</td>\n",
       "      <td>Missense_Mutation</td>\n",
       "      <td>p.S3864A</td>\n",
       "    </tr>\n",
       "    <tr>\n",
       "      <th>S089</th>\n",
       "      <td>MUC4</td>\n",
       "      <td>Missense_Mutation</td>\n",
       "      <td>p.A4062T</td>\n",
       "    </tr>\n",
       "    <tr>\n",
       "      <th>S090</th>\n",
       "      <td>MUC4</td>\n",
       "      <td>Missense_Mutation</td>\n",
       "      <td>p.A4089V</td>\n",
       "    </tr>\n",
       "    <tr>\n",
       "      <th>S090</th>\n",
       "      <td>MUC4</td>\n",
       "      <td>Missense_Mutation</td>\n",
       "      <td>p.T1183M</td>\n",
       "    </tr>\n",
       "    <tr>\n",
       "      <th>S094</th>\n",
       "      <td>MUC4</td>\n",
       "      <td>Missense_Mutation</td>\n",
       "      <td>p.V2963D</td>\n",
       "    </tr>\n",
       "    <tr>\n",
       "      <th>S094</th>\n",
       "      <td>MUC4</td>\n",
       "      <td>Missense_Mutation</td>\n",
       "      <td>p.N2773S</td>\n",
       "    </tr>\n",
       "    <tr>\n",
       "      <th>S096</th>\n",
       "      <td>MUC4</td>\n",
       "      <td>Missense_Mutation</td>\n",
       "      <td>p.P2848S</td>\n",
       "    </tr>\n",
       "    <tr>\n",
       "      <th>S097</th>\n",
       "      <td>MUC4</td>\n",
       "      <td>Missense_Mutation</td>\n",
       "      <td>p.M3855T</td>\n",
       "    </tr>\n",
       "    <tr>\n",
       "      <th>S097</th>\n",
       "      <td>MUC4</td>\n",
       "      <td>Missense_Mutation</td>\n",
       "      <td>p.P3600S</td>\n",
       "    </tr>\n",
       "    <tr>\n",
       "      <th>S097</th>\n",
       "      <td>MUC4</td>\n",
       "      <td>Missense_Mutation</td>\n",
       "      <td>p.T3526N</td>\n",
       "    </tr>\n",
       "    <tr>\n",
       "      <th>S097</th>\n",
       "      <td>MUC4</td>\n",
       "      <td>Missense_Mutation</td>\n",
       "      <td>p.Q2045H</td>\n",
       "    </tr>\n",
       "    <tr>\n",
       "      <th>S101</th>\n",
       "      <td>MUC4</td>\n",
       "      <td>Missense_Mutation</td>\n",
       "      <td>p.L1078F</td>\n",
       "    </tr>\n",
       "    <tr>\n",
       "      <th>S108</th>\n",
       "      <td>MUC4</td>\n",
       "      <td>Missense_Mutation</td>\n",
       "      <td>p.S4296G</td>\n",
       "    </tr>\n",
       "  </tbody>\n",
       "</table>\n",
       "</div>"
      ],
      "text/plain": [
       "           Gene           Mutation  Location\n",
       "Sample_ID                                   \n",
       "S015       MUC4  Missense_Mutation  p.S4069I\n",
       "S015       MUC4  Missense_Mutation  p.P3840S\n",
       "S016       MUC4  Missense_Mutation  p.H3533D\n",
       "S019       MUC4  Missense_Mutation  p.A2969V\n",
       "S023       MUC4  Missense_Mutation  p.H2765D\n",
       "S039       MUC4  Missense_Mutation  p.T2219S\n",
       "S039       MUC4  Missense_Mutation  p.A1772G\n",
       "S041       MUC4  Missense_Mutation  p.G3365S\n",
       "S042       MUC4  Missense_Mutation  p.D1629H\n",
       "S044       MUC4  Missense_Mutation  p.A3081S\n",
       "S044       MUC4  Missense_Mutation  p.D2909H\n",
       "S047       MUC4  Missense_Mutation  p.T2543S\n",
       "S052       MUC4  Missense_Mutation  p.P4018H\n",
       "S054       MUC4  Missense_Mutation  p.S4229G\n",
       "S054       MUC4  Missense_Mutation  p.I4149S\n",
       "S054       MUC4  Missense_Mutation  p.A4030T\n",
       "S054       MUC4  Missense_Mutation  p.A4014V\n",
       "S054       MUC4  Missense_Mutation  p.A4014T\n",
       "S054       MUC4  Missense_Mutation  p.T3950A\n",
       "S054       MUC4  Missense_Mutation  p.V3657A\n",
       "S054       MUC4  Missense_Mutation  p.Q3213H\n",
       "S054       MUC4  Missense_Mutation  p.R1696P\n",
       "S054       MUC4  Missense_Mutation  p.T1183M\n",
       "S054       MUC4  Missense_Mutation  p.H1117D\n",
       "S055       MUC4  Missense_Mutation  p.A1662T\n",
       "S055       MUC4  Missense_Mutation  p.T1126A\n",
       "S057       MUC4  Missense_Mutation  p.T4046A\n",
       "S057       MUC4  Missense_Mutation  p.H4029D\n",
       "S060       MUC4  Missense_Mutation  p.D2949N\n",
       "S060       MUC4  Missense_Mutation  p.P2946L\n",
       "S076       MUC4  Missense_Mutation  p.P1346H\n",
       "S079       MUC4  Missense_Mutation  p.H2797D\n",
       "S079       MUC4  Missense_Mutation  p.D2125Y\n",
       "S080       MUC4  Missense_Mutation   p.D401Y\n",
       "S085       MUC4  Missense_Mutation  p.S3224L\n",
       "S087       MUC4  Missense_Mutation  p.S3864A\n",
       "S089       MUC4  Missense_Mutation  p.A4062T\n",
       "S090       MUC4  Missense_Mutation  p.A4089V\n",
       "S090       MUC4  Missense_Mutation  p.T1183M\n",
       "S094       MUC4  Missense_Mutation  p.V2963D\n",
       "S094       MUC4  Missense_Mutation  p.N2773S\n",
       "S096       MUC4  Missense_Mutation  p.P2848S\n",
       "S097       MUC4  Missense_Mutation  p.M3855T\n",
       "S097       MUC4  Missense_Mutation  p.P3600S\n",
       "S097       MUC4  Missense_Mutation  p.T3526N\n",
       "S097       MUC4  Missense_Mutation  p.Q2045H\n",
       "S101       MUC4  Missense_Mutation  p.L1078F\n",
       "S108       MUC4  Missense_Mutation  p.S4296G"
      ]
     },
     "execution_count": 18,
     "metadata": {},
     "output_type": "execute_result"
    }
   ],
   "source": [
    "mut = 'Missense_Mutation'\n",
    "gene_mutations.loc[gene_mutations['Mutation'] == mut]"
   ]
  },
  {
   "cell_type": "markdown",
   "metadata": {},
   "source": [
    "# Analysis of Results"
   ]
  },
  {
   "cell_type": "markdown",
   "metadata": {},
   "source": [
    "No significant cis comparisons. No data for MUC4 in proteomics. Almost all mutattions are missense."
   ]
  },
  {
   "cell_type": "markdown",
   "metadata": {},
   "source": [
    "No acetylproteomics for the ovarian dataset."
   ]
  },
  {
   "cell_type": "code",
   "execution_count": null,
   "metadata": {},
   "outputs": [],
   "source": []
  }
 ],
 "metadata": {
  "kernelspec": {
   "display_name": "Python 3",
   "language": "python",
   "name": "python3"
  },
  "language_info": {
   "codemirror_mode": {
    "name": "ipython",
    "version": 3
   },
   "file_extension": ".py",
   "mimetype": "text/x-python",
   "name": "python",
   "nbconvert_exporter": "python",
   "pygments_lexer": "ipython3",
   "version": "3.7.3"
  }
 },
 "nbformat": 4,
 "nbformat_minor": 2
}
