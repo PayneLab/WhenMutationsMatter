{
 "cells": [
  {
   "cell_type": "markdown",
   "metadata": {},
   "source": [
    "# Examine trans effect of TP53 Hotspot mutation in Ovarian Cancer"
   ]
  },
  {
   "cell_type": "markdown",
   "metadata": {},
   "source": [
    "### Specifically examine Protein Abundance of TP53, AURKA, CDK1, XPO1, and STK11"
   ]
  },
  {
   "cell_type": "markdown",
   "metadata": {},
   "source": [
    "#### Library Imports"
   ]
  },
  {
   "cell_type": "code",
   "execution_count": 1,
   "metadata": {},
   "outputs": [
    {
     "name": "stderr",
     "output_type": "stream",
     "text": [
      "/anaconda3/lib/python3.6/site-packages/requests/__init__.py:91: RequestsDependencyWarning: urllib3 (1.25.3) or chardet (3.0.4) doesn't match a supported version!\n",
      "  RequestsDependencyWarning)\n"
     ]
    },
    {
     "name": "stdout",
     "output_type": "stream",
     "text": [
      "                                    \r"
     ]
    }
   ],
   "source": [
    "import pandas as pd\n",
    "import numpy as np\n",
    "import scipy.stats\n",
    "\n",
    "import cptac\n",
    "import cptac.utils as ut\n",
    "\n",
    "import seaborn as sns\n",
    "import matplotlib.pyplot as plt\n",
    "\n",
    "#Use Ovarian cancer object\n",
    "co = cptac.Ovarian()"
   ]
  },
  {
   "cell_type": "markdown",
   "metadata": {},
   "source": [
    "## Use parse hotspot utility to analyze TP53 hotspot mutation in Ovarian cancer"
   ]
  },
  {
   "cell_type": "markdown",
   "metadata": {},
   "source": [
    "#### Get somatic mutation data from cptac"
   ]
  },
  {
   "cell_type": "code",
   "execution_count": 2,
   "metadata": {},
   "outputs": [],
   "source": [
    "somatic_mutations = co.get_somatic_mutation()"
   ]
  },
  {
   "cell_type": "markdown",
   "metadata": {},
   "source": [
    "#### Use parse hotspot utility"
   ]
  },
  {
   "cell_type": "code",
   "execution_count": 3,
   "metadata": {},
   "outputs": [],
   "source": [
    "vis, binary, detailed, dictionary = ut.parse_hotspot('../../HotspotClusterFiles/ovarian_somatic_38.maf.3D_Proximity.pairwise.recurrence.l0.r10.clusters', somatic_mutations)"
   ]
  },
  {
   "cell_type": "code",
   "execution_count": 4,
   "metadata": {},
   "outputs": [
    {
     "data": {
      "text/html": [
       "<div>\n",
       "<style scoped>\n",
       "    .dataframe tbody tr th:only-of-type {\n",
       "        vertical-align: middle;\n",
       "    }\n",
       "\n",
       "    .dataframe tbody tr th {\n",
       "        vertical-align: top;\n",
       "    }\n",
       "\n",
       "    .dataframe thead th {\n",
       "        text-align: right;\n",
       "    }\n",
       "</style>\n",
       "<table border=\"1\" class=\"dataframe\">\n",
       "  <thead>\n",
       "    <tr style=\"text-align: right;\">\n",
       "      <th></th>\n",
       "      <th>hotspot_id</th>\n",
       "      <th>patients_within</th>\n",
       "    </tr>\n",
       "  </thead>\n",
       "  <tbody>\n",
       "    <tr>\n",
       "      <th>0</th>\n",
       "      <td>ADH1A</td>\n",
       "      <td>2.0</td>\n",
       "    </tr>\n",
       "    <tr>\n",
       "      <th>1</th>\n",
       "      <td>CDCA2</td>\n",
       "      <td>3.0</td>\n",
       "    </tr>\n",
       "    <tr>\n",
       "      <th>2</th>\n",
       "      <td>CPS1</td>\n",
       "      <td>2.0</td>\n",
       "    </tr>\n",
       "    <tr>\n",
       "      <th>3</th>\n",
       "      <td>EIF4A1</td>\n",
       "      <td>3.0</td>\n",
       "    </tr>\n",
       "    <tr>\n",
       "      <th>4</th>\n",
       "      <td>FGF18</td>\n",
       "      <td>3.0</td>\n",
       "    </tr>\n",
       "    <tr>\n",
       "      <th>5</th>\n",
       "      <td>GCA</td>\n",
       "      <td>2.0</td>\n",
       "    </tr>\n",
       "    <tr>\n",
       "      <th>6</th>\n",
       "      <td>GOT1</td>\n",
       "      <td>2.0</td>\n",
       "    </tr>\n",
       "    <tr>\n",
       "      <th>7</th>\n",
       "      <td>HNRNPM</td>\n",
       "      <td>3.0</td>\n",
       "    </tr>\n",
       "    <tr>\n",
       "      <th>8</th>\n",
       "      <td>KDM2A</td>\n",
       "      <td>2.0</td>\n",
       "    </tr>\n",
       "    <tr>\n",
       "      <th>9</th>\n",
       "      <td>KHK</td>\n",
       "      <td>2.0</td>\n",
       "    </tr>\n",
       "    <tr>\n",
       "      <th>10</th>\n",
       "      <td>NTRK1</td>\n",
       "      <td>2.0</td>\n",
       "    </tr>\n",
       "    <tr>\n",
       "      <th>11</th>\n",
       "      <td>PFKFB1</td>\n",
       "      <td>4.0</td>\n",
       "    </tr>\n",
       "    <tr>\n",
       "      <th>12</th>\n",
       "      <td>POLI</td>\n",
       "      <td>2.0</td>\n",
       "    </tr>\n",
       "    <tr>\n",
       "      <th>13</th>\n",
       "      <td>PPP2R1A</td>\n",
       "      <td>3.0</td>\n",
       "    </tr>\n",
       "    <tr>\n",
       "      <th>14</th>\n",
       "      <td>RANBP2</td>\n",
       "      <td>3.0</td>\n",
       "    </tr>\n",
       "    <tr>\n",
       "      <th>15</th>\n",
       "      <td>RPS11</td>\n",
       "      <td>6.0</td>\n",
       "    </tr>\n",
       "    <tr>\n",
       "      <th>16</th>\n",
       "      <td>SP100</td>\n",
       "      <td>2.0</td>\n",
       "    </tr>\n",
       "    <tr>\n",
       "      <th>17</th>\n",
       "      <td>TP53</td>\n",
       "      <td>5.0</td>\n",
       "    </tr>\n",
       "    <tr>\n",
       "      <th>18</th>\n",
       "      <td>TP53_1</td>\n",
       "      <td>9.0</td>\n",
       "    </tr>\n",
       "    <tr>\n",
       "      <th>19</th>\n",
       "      <td>TP53_2</td>\n",
       "      <td>7.0</td>\n",
       "    </tr>\n",
       "    <tr>\n",
       "      <th>20</th>\n",
       "      <td>TP53_3</td>\n",
       "      <td>3.0</td>\n",
       "    </tr>\n",
       "    <tr>\n",
       "      <th>21</th>\n",
       "      <td>TP53_4</td>\n",
       "      <td>2.0</td>\n",
       "    </tr>\n",
       "    <tr>\n",
       "      <th>22</th>\n",
       "      <td>ZNF484</td>\n",
       "      <td>2.0</td>\n",
       "    </tr>\n",
       "  </tbody>\n",
       "</table>\n",
       "</div>"
      ],
      "text/plain": [
       "   hotspot_id  patients_within\n",
       "0       ADH1A              2.0\n",
       "1       CDCA2              3.0\n",
       "2        CPS1              2.0\n",
       "3      EIF4A1              3.0\n",
       "4       FGF18              3.0\n",
       "5         GCA              2.0\n",
       "6        GOT1              2.0\n",
       "7      HNRNPM              3.0\n",
       "8       KDM2A              2.0\n",
       "9         KHK              2.0\n",
       "10      NTRK1              2.0\n",
       "11     PFKFB1              4.0\n",
       "12       POLI              2.0\n",
       "13    PPP2R1A              3.0\n",
       "14     RANBP2              3.0\n",
       "15      RPS11              6.0\n",
       "16      SP100              2.0\n",
       "17       TP53              5.0\n",
       "18     TP53_1              9.0\n",
       "19     TP53_2              7.0\n",
       "20     TP53_3              3.0\n",
       "21     TP53_4              2.0\n",
       "22     ZNF484              2.0"
      ]
     },
     "execution_count": 4,
     "metadata": {},
     "output_type": "execute_result"
    }
   ],
   "source": [
    "vis"
   ]
  },
  {
   "cell_type": "markdown",
   "metadata": {},
   "source": [
    "As we can see, TP53 has 5 hotspots in Ovarian cancer"
   ]
  },
  {
   "cell_type": "markdown",
   "metadata": {},
   "source": [
    "#### Select only TP53 Hotspots"
   ]
  },
  {
   "cell_type": "code",
   "execution_count": 5,
   "metadata": {},
   "outputs": [
    {
     "data": {
      "text/html": [
       "<div>\n",
       "<style scoped>\n",
       "    .dataframe tbody tr th:only-of-type {\n",
       "        vertical-align: middle;\n",
       "    }\n",
       "\n",
       "    .dataframe tbody tr th {\n",
       "        vertical-align: top;\n",
       "    }\n",
       "\n",
       "    .dataframe thead th {\n",
       "        text-align: right;\n",
       "    }\n",
       "</style>\n",
       "<table border=\"1\" class=\"dataframe\">\n",
       "  <thead>\n",
       "    <tr style=\"text-align: right;\">\n",
       "      <th></th>\n",
       "      <th>TP53</th>\n",
       "      <th>TP53_1</th>\n",
       "      <th>TP53_2</th>\n",
       "      <th>TP53_3</th>\n",
       "      <th>TP53_4</th>\n",
       "    </tr>\n",
       "    <tr>\n",
       "      <th>sample_id</th>\n",
       "      <th></th>\n",
       "      <th></th>\n",
       "      <th></th>\n",
       "      <th></th>\n",
       "      <th></th>\n",
       "    </tr>\n",
       "  </thead>\n",
       "  <tbody>\n",
       "    <tr>\n",
       "      <th>S002</th>\n",
       "      <td>No</td>\n",
       "      <td>No</td>\n",
       "      <td>No</td>\n",
       "      <td>No</td>\n",
       "      <td>No</td>\n",
       "    </tr>\n",
       "    <tr>\n",
       "      <th>S006</th>\n",
       "      <td>No</td>\n",
       "      <td>No</td>\n",
       "      <td>No</td>\n",
       "      <td>No</td>\n",
       "      <td>No</td>\n",
       "    </tr>\n",
       "    <tr>\n",
       "      <th>S007</th>\n",
       "      <td>No</td>\n",
       "      <td>Yes_HS</td>\n",
       "      <td>No</td>\n",
       "      <td>No</td>\n",
       "      <td>No</td>\n",
       "    </tr>\n",
       "    <tr>\n",
       "      <th>S009</th>\n",
       "      <td>No</td>\n",
       "      <td>Yes</td>\n",
       "      <td>No</td>\n",
       "      <td>No</td>\n",
       "      <td>No</td>\n",
       "    </tr>\n",
       "    <tr>\n",
       "      <th>S011</th>\n",
       "      <td>No</td>\n",
       "      <td>Yes</td>\n",
       "      <td>No</td>\n",
       "      <td>No</td>\n",
       "      <td>No</td>\n",
       "    </tr>\n",
       "  </tbody>\n",
       "</table>\n",
       "</div>"
      ],
      "text/plain": [
       "          TP53  TP53_1 TP53_2 TP53_3 TP53_4\n",
       "sample_id                                  \n",
       "S002        No      No     No     No     No\n",
       "S006        No      No     No     No     No\n",
       "S007        No  Yes_HS     No     No     No\n",
       "S009        No     Yes     No     No     No\n",
       "S011        No     Yes     No     No     No"
      ]
     },
     "execution_count": 5,
     "metadata": {},
     "output_type": "execute_result"
    }
   ],
   "source": [
    "#There are 5 TP53 hotspots\n",
    "TP53_Hotspots = detailed[['TP53','TP53_1','TP53_2','TP53_3','TP53_4']]\n",
    "TP53_Hotspots.head()"
   ]
  },
  {
   "cell_type": "markdown",
   "metadata": {},
   "source": [
    "#### Make binary column for samples that have a TP53 Hotspot Mutation"
   ]
  },
  {
   "cell_type": "code",
   "execution_count": null,
   "metadata": {},
   "outputs": [],
   "source": [
    "TP53_Hotspots['Hotspot_Mutation'] = ''\n",
    "for ind, row in TP53_Hotspots.iterrows():\n",
    "    for col in TP53_Hotspots.columns:\n",
    "        if row[col] == 'Yes_HS':\n",
    "            TP53_Hotspots.loc[ind,'Hotspot_Mutation'] = 'TP53_Hotspot_Mutation'"
   ]
  },
  {
   "cell_type": "markdown",
   "metadata": {},
   "source": [
    "#### Grab only the binary yes/no hotspot mutation"
   ]
  },
  {
   "cell_type": "code",
   "execution_count": null,
   "metadata": {},
   "outputs": [],
   "source": [
    "binary_hotspots = TP53_Hotspots['Hotspot_Mutation']"
   ]
  },
  {
   "cell_type": "markdown",
   "metadata": {},
   "source": [
    "#### Get Proteomic data, append Binary hotspot mutation column"
   ]
  },
  {
   "cell_type": "code",
   "execution_count": null,
   "metadata": {},
   "outputs": [],
   "source": [
    "#Use join omics to mutations\n",
    "proteomics_df = co.join_omics_to_mutations(omics_genes=['TP53','AURKA','CDK1','XPO1','STK11'], omics_df_name='proteomics', mutations_genes='TP53')\n",
    "\n",
    "#Remove multiindex from df\n",
    "proteomics_df = co.reduce_multiindex(proteomics_df, levels_to_drop='Database_ID')\n",
    "\n",
    "#Remove Non-Tumor Samples\n",
    "proteomics_df = proteomics_df.loc[proteomics_df['Sample_Status'] == 'Tumor']\n",
    "\n",
    "#Remove columns that are not needed\n",
    "proteomics_df = proteomics_df.drop(['TP53_Location','Sample_Status'],axis=1)\n",
    "proteomics_df['TP53_Hotspot_Mutation'] = binary_hotspots\n",
    "\n",
    "#Show df\n",
    "proteomics_df.head()"
   ]
  },
  {
   "cell_type": "markdown",
   "metadata": {},
   "source": [
    "#### Classify every sample according to TP53 Mutation Status. Use: Wildtype, Hotspot_Missense, Other_Missense, Truncation"
   ]
  },
  {
   "cell_type": "code",
   "execution_count": null,
   "metadata": {},
   "outputs": [],
   "source": [
    "for ind, row in proteomics_df.iterrows():\n",
    "    #Classify Hotspot Missense Mutations\n",
    "    if row['TP53_Hotspot_Mutation'] == 'TP53_Hotspot_Mutation':\n",
    "        proteomics_df.loc[ind, 'TP53_Categorical'] = 'Hotspot_Missense'\n",
    "        \n",
    "    #Classify Truncation Mutations\n",
    "    if 'Frame_Shift_Ins' in row['TP53_Mutation'] or 'Frame_Shift_Del' in row['TP53_Mutation'] or 'Nonsense_Mutation' in row['TP53_Mutation']:\n",
    "        proteomics_df.loc[ind, 'TP53_Categorical'] = 'Truncation'\n",
    "        \n",
    "    #Classify Wildtype\n",
    "    if row['TP53_Mutation_Status'] == 'Wildtype_Tumor':\n",
    "        proteomics_df.loc[ind, 'TP53_Categorical'] = 'Wildtype'\n",
    "        \n",
    "    #Classify Other Missense Mutations\n",
    "    if row['TP53_Hotspot_Mutation'] != 'TP53_Hotspot_Mutation':\n",
    "        if 'Missense_Mutation' in row['TP53_Mutation'] or 'In_Frame_Del' in row['TP53_Mutation'] or 'In_Frame_Ins' in row['TP53_Mutation'] or 'Splice_Site' in row['TP53_Mutation']:\n",
    "            proteomics_df.loc[ind, 'TP53_Categorical'] = 'Other_Missense'\n",
    "\n",
    "#Drop columns we no longer need, display df\n",
    "proteomics_df = proteomics_df.drop(['TP53_Mutation', 'TP53_Mutation_Status', 'TP53_Hotspot_Mutation'], axis = 1)\n",
    "proteomics_df"
   ]
  },
  {
   "cell_type": "markdown",
   "metadata": {},
   "source": [
    "### Perform t-tests on each protein, comparing Hotspot-Wildtype, Hotspot-Truncation, and Hotspot-Other Missense Mutations"
   ]
  },
  {
   "cell_type": "code",
   "execution_count": null,
   "metadata": {},
   "outputs": [],
   "source": [
    "for col in proteomics_df:\n",
    "    if col != 'TP53_Categorical':\n",
    "        hotspot_df = proteomics_df.loc[proteomics_df['TP53_Categorical'] == 'Hotspot_Missense'][col].dropna()\n",
    "        truncation_df = proteomics_df.loc[proteomics_df['TP53_Categorical'] == 'Truncation'][col].dropna()\n",
    "        other_missense_df = proteomics_df.loc[proteomics_df['TP53_Categorical'] == 'Other_Missense'][col].dropna()\n",
    "        wt_df = proteomics_df.loc[proteomics_df['TP53_Categorical'] == 'Wildtype'][col]\n",
    "        \n",
    "        #Hotspot-WT comparison\n",
    "        stat, pval = scipy.stats.ttest_ind(hotspot_df, wt_df)\n",
    "        print(\"Omics: \", col, \"\\nComparison: Hotspot vs. Wildtype \\nP-Value: \", str(pval))\n",
    "        \n",
    "        #Hotspot-Truncation comparison\n",
    "        stat, pval = scipy.stats.ttest_ind(hotspot_df, truncation_df)\n",
    "        print(\"\\nOmics: \", col, \"\\nComparison: Hotspot vs. Truncation \\nP-Value: \", str(pval))\n",
    "        \n",
    "        #Hotspot-Other Missense comparison\n",
    "        stat, pval = scipy.stats.ttest_ind(hotspot_df, other_missense_df)\n",
    "        print(\"\\nOmics: \", col, \"\\nComparison: Hotspot vs. Other Missense \\nP-Value: \", str(pval))\n",
    "        print(\"\\n\\n\")\n",
    "        "
   ]
  },
  {
   "cell_type": "markdown",
   "metadata": {},
   "source": [
    "#### Reformat dataframe for plot"
   ]
  },
  {
   "cell_type": "code",
   "execution_count": null,
   "metadata": {},
   "outputs": [],
   "source": [
    "plotdf = pd.melt(proteomics_df, id_vars='TP53_Categorical', var_name='Protein', value_name='Abundance')\n",
    "plotdf = plotdf.replace({'AURKA_proteomics':'AURKA','XPO1_proteomics':'XPO1','TP53_proteomics':'TP53','CDK1_proteomics':'CDK1','STK11_proteomics':'STK11'})\n",
    "plotdf = plotdf.replace({'Hotspot_Missense':'Hotspot Missense','Other_Missense':'Other Missense'})"
   ]
  },
  {
   "cell_type": "markdown",
   "metadata": {},
   "source": [
    "### Make plot illustrating proteomic abundance"
   ]
  },
  {
   "cell_type": "code",
   "execution_count": null,
   "metadata": {},
   "outputs": [],
   "source": [
    "#Set dimensions and Colors\n",
    "a4_dims = (30, 16)\n",
    "fig, ax = plt.subplots(figsize=a4_dims)\n",
    "my_pal = {\"Wildtype\": \"blue\", \"Hotspot Missense\": \"orange\", \"Other Missense\":\"green\",\"Truncation\":\"red\"}\n",
    "\n",
    "#Make Boxplot\n",
    "plot = sns.boxplot(data=plotdf, y = 'Abundance', x='Protein', hue='TP53_Categorical', palette=my_pal, hue_order=['Wildtype','Hotspot Missense','Other Missense','Truncation'], order=['TP53','AURKA','CDK1','XPO1','STK11'])\n",
    "\n",
    "#Overlay Striplot\n",
    "plot = sns.stripplot(data=plotdf, y = 'Abundance', x='Protein', hue='TP53_Categorical', color='.3', jitter=True, dodge=True, hue_order=['Wildtype','Hotspot Missense','Other Missense','Truncation'],order=['TP53','AURKA','CDK1','XPO1','STK11'])\n",
    "\n",
    "#Change Style and label sizes\n",
    "plot.tick_params(labelsize=20)\n",
    "plot.set_xlabel('')\n",
    "plot.set_ylabel('Protein Abundance', fontsize='20')\n",
    "plot.set_title('Proteomic Abundance of AURKA, CDK1, STK11, TP53, XPO1 vs TP53 Mutation Status in Ovarian Cancer', fontsize = '35')\n",
    "sns.set_style(\"white\")\n",
    "\n",
    "#Adjust the Legend\n",
    "handles, labels = ax.get_legend_handles_labels()\n",
    "plt.legend(handles[0:4],['Wildtype','Hotspot Missense','Other Missense','Truncation'], title='TP53 Status', fontsize='20', frameon=True)\n",
    "plot.get_legend().get_title().set_fontsize('25')\n"
   ]
  },
  {
   "cell_type": "markdown",
   "metadata": {},
   "source": [
    "### Conclusions:"
   ]
  },
  {
   "cell_type": "markdown",
   "metadata": {},
   "source": [
    "The only significant comparisons of TP53 Hotspot mutation were TP53 Hotspot Missense vs Wildtype, with a p-value of 0.000778, and TP53 Hotspot Missense vs. Truncation with a p-value of 7.4086e-11"
   ]
  },
  {
   "cell_type": "code",
   "execution_count": 6,
   "metadata": {},
   "outputs": [
    {
     "data": {
      "text/plain": [
       "{'ADH1A': ['p.S118G', 'p.V117L'],\n",
       " 'CDCA2': ['p.R415H', 'p.E178K', 'p.K179N'],\n",
       " 'CPS1': ['p.R1459L', 'p.R1460M'],\n",
       " 'EIF4A1': ['p.G191R', 'p.R190H'],\n",
       " 'FGF18': ['p.A144T', 'p.S143L'],\n",
       " 'GCA': ['p.A60D', 'p.T56N'],\n",
       " 'GOT1': ['p.F119L', 'p.S286C'],\n",
       " 'HNRNPM': ['p.F699L', 'p.H678N'],\n",
       " 'KDM2A': ['p.E636K', 'p.P651S'],\n",
       " 'KHK': ['p.E126D', 'p.S242L'],\n",
       " 'NTRK1': ['p.R445I', 'p.R445S'],\n",
       " 'PFKFB1': ['p.D183Y', 'p.L176R'],\n",
       " 'POLI': ['p.P317T', 'p.T406N'],\n",
       " 'PPP2R1A': ['p.R183W', 'p.S219L'],\n",
       " 'RANBP2': ['p.L2108S', 'p.Q2121R'],\n",
       " 'RPS11': ['p.E31Q', 'p.T28N'],\n",
       " 'SP100': ['p.F727S', 'p.I726M'],\n",
       " 'TP53': ['p.R248L', 'p.R248Q', 'p.R248W'],\n",
       " 'TP53_1': ['p.C275Y', 'p.K132N', 'p.R273C', 'p.R273H', 'p.R282W', 'p.V274A'],\n",
       " 'TP53_2': ['p.M237I', 'p.R156P', 'p.R175H'],\n",
       " 'TP53_3': ['p.G245D', 'p.G245S'],\n",
       " 'TP53_4': ['p.C238F', 'p.C238Y'],\n",
       " 'ZNF484': ['p.L485I', 'p.R496I']}"
      ]
     },
     "execution_count": 6,
     "metadata": {},
     "output_type": "execute_result"
    }
   ],
   "source": [
    "dictionary"
   ]
  },
  {
   "cell_type": "code",
   "execution_count": null,
   "metadata": {},
   "outputs": [],
   "source": []
  }
 ],
 "metadata": {
  "kernelspec": {
   "display_name": "Python 3",
   "language": "python",
   "name": "python3"
  },
  "language_info": {
   "codemirror_mode": {
    "name": "ipython",
    "version": 3
   },
   "file_extension": ".py",
   "mimetype": "text/x-python",
   "name": "python",
   "nbconvert_exporter": "python",
   "pygments_lexer": "ipython3",
   "version": "3.6.8"
  }
 },
 "nbformat": 4,
 "nbformat_minor": 2
}
