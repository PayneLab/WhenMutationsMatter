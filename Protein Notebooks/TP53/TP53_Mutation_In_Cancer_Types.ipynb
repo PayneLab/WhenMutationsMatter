{
 "cells": [
  {
   "cell_type": "markdown",
   "metadata": {},
   "source": [
    "# Mutation in the TP53 Gene across cancer types"
   ]
  },
  {
   "cell_type": "markdown",
   "metadata": {},
   "source": [
    "### Library Imports"
   ]
  },
  {
   "cell_type": "code",
   "execution_count": 1,
   "metadata": {},
   "outputs": [
    {
     "name": "stdout",
     "output_type": "stream",
     "text": [
      "                                    \r"
     ]
    }
   ],
   "source": [
    "import pandas as pd\n",
    "import numpy as np\n",
    "import scipy.stats\n",
    "import collections\n",
    "import re\n",
    "import gseapy as gp\n",
    "from gseapy.plot import barplot, dotplot\n",
    "import matplotlib.pyplot as plt\n",
    "import seaborn as sns\n",
    "\n",
    "import cptac\n",
    "import cptac.algorithms as al\n",
    "\n",
    "en = cptac.Endometrial()\n",
    "co = cptac.Colon()\n",
    "ov = cptac.Ovarian()"
   ]
  },
  {
   "cell_type": "markdown",
   "metadata": {},
   "source": [
    "### Select Gene"
   ]
  },
  {
   "cell_type": "code",
   "execution_count": 2,
   "metadata": {},
   "outputs": [],
   "source": [
    "#Gene name for mutation frequency across cancer types to be shown\n",
    "gene = \"TP53\""
   ]
  },
  {
   "cell_type": "markdown",
   "metadata": {},
   "source": [
    "### Obtain the given gene mutation data using the join_omics_to_mutations method"
   ]
  },
  {
   "cell_type": "code",
   "execution_count": 3,
   "metadata": {},
   "outputs": [],
   "source": [
    "#Get the mutation data for the gene using the join omics to mutations method\n",
    "omics = 'proteomics'\n",
    "mut_df_en = en.join_omics_to_mutations(omics_df_name=omics, mutations_genes=[gene])[[gene+'_Mutation',gene+'_Mutation_Status','Sample_Status']]\n",
    "mut_df_co = co.join_omics_to_mutations(omics_df_name=omics, mutations_genes=[gene])[[gene+'_Mutation',gene+'_Mutation_Status','Sample_Status']]\n",
    "mut_df_ov = ov.join_omics_to_mutations(omics_df_name=omics, mutations_genes=[gene])[[gene+'_Mutation',gene+'_Mutation_Status','Sample_Status']]"
   ]
  },
  {
   "cell_type": "markdown",
   "metadata": {},
   "source": [
    "### Examine only Tumor Samples"
   ]
  },
  {
   "cell_type": "code",
   "execution_count": 4,
   "metadata": {},
   "outputs": [],
   "source": [
    "#Drop the 'Normal' non cancer samples\n",
    "mut_df_en = mut_df_en.loc[mut_df_en['Sample_Status']!='Normal']\n",
    "mut_df_co = mut_df_co.loc[mut_df_co['Sample_Status']!='Normal']\n",
    "mut_df_ov = mut_df_ov.loc[mut_df_ov['Sample_Status']!='Normal']"
   ]
  },
  {
   "cell_type": "markdown",
   "metadata": {},
   "source": [
    "### Split samples into mutated and wildtype groups"
   ]
  },
  {
   "cell_type": "code",
   "execution_count": 5,
   "metadata": {},
   "outputs": [],
   "source": [
    "#Split into mutated and wildtype groups\n",
    "mutated_en = mut_df_en.loc[mut_df_en[gene+'_Mutation_Status'] != 'Wildtype_Tumor']\n",
    "wt_en = mut_df_en.loc[mut_df_en[gene+'_Mutation_Status'] == 'Wildtype_Tumor']\n",
    "\n",
    "mutated_co = mut_df_co.loc[mut_df_co[gene+'_Mutation_Status'] != 'Wildtype_Tumor']\n",
    "wt_co = mut_df_co.loc[mut_df_co[gene+'_Mutation_Status'] == 'Wildtype_Tumor']\n",
    "\n",
    "mutated_ov = mut_df_ov.loc[mut_df_ov[gene+'_Mutation_Status'] != 'Wildtype_Tumor']\n",
    "wt_ov = mut_df_ov.loc[mut_df_ov[gene+'_Mutation_Status'] == 'Wildtype_Tumor']"
   ]
  },
  {
   "cell_type": "markdown",
   "metadata": {},
   "source": [
    "### Calculate and report frequency of gene mutation in each cancer type"
   ]
  },
  {
   "cell_type": "code",
   "execution_count": 6,
   "metadata": {},
   "outputs": [
    {
     "name": "stdout",
     "output_type": "stream",
     "text": [
      "% Mutation in Endometrial:  22.11 %\n",
      "% Mutation in Colon:  54.64 %\n",
      "% Mutation in Ovarian:  92.77 %\n"
     ]
    }
   ],
   "source": [
    "percentage_mutated_en = len(mutated_en)/(len(mutated_en) + len(wt_en)) * 100\n",
    "percentage_mutated_co = len(mutated_co)/(len(mutated_co) + len(wt_co)) * 100\n",
    "percentage_mutated_ov = len(mutated_ov)/(len(mutated_ov) + len(wt_ov)) * 100\n",
    "\n",
    "print(\"% Mutation in Endometrial: \", round(percentage_mutated_en, 2), \"%\")\n",
    "print(\"% Mutation in Colon: \", round(percentage_mutated_co, 2), \"%\")\n",
    "print(\"% Mutation in Ovarian: \", round(percentage_mutated_ov,2), \"%\")"
   ]
  },
  {
   "cell_type": "markdown",
   "metadata": {},
   "source": [
    "### Illustrate mutation frequency"
   ]
  },
  {
   "cell_type": "code",
   "execution_count": 7,
   "metadata": {},
   "outputs": [
    {
     "data": {
      "text/html": [
       "<div>\n",
       "<style scoped>\n",
       "    .dataframe tbody tr th:only-of-type {\n",
       "        vertical-align: middle;\n",
       "    }\n",
       "\n",
       "    .dataframe tbody tr th {\n",
       "        vertical-align: top;\n",
       "    }\n",
       "\n",
       "    .dataframe thead th {\n",
       "        text-align: right;\n",
       "    }\n",
       "</style>\n",
       "<table border=\"1\" class=\"dataframe\">\n",
       "  <thead>\n",
       "    <tr style=\"text-align: right;\">\n",
       "      <th></th>\n",
       "      <th>Cancer_Type</th>\n",
       "      <th>TP53_Mutation_Frequency</th>\n",
       "    </tr>\n",
       "  </thead>\n",
       "  <tbody>\n",
       "    <tr>\n",
       "      <th>0</th>\n",
       "      <td>Endometrial</td>\n",
       "      <td>0.221053</td>\n",
       "    </tr>\n",
       "    <tr>\n",
       "      <th>1</th>\n",
       "      <td>Colon</td>\n",
       "      <td>0.546392</td>\n",
       "    </tr>\n",
       "    <tr>\n",
       "      <th>2</th>\n",
       "      <td>Ovarian</td>\n",
       "      <td>0.927711</td>\n",
       "    </tr>\n",
       "  </tbody>\n",
       "</table>\n",
       "</div>"
      ],
      "text/plain": [
       "   Cancer_Type  TP53_Mutation_Frequency\n",
       "0  Endometrial                 0.221053\n",
       "1        Colon                 0.546392\n",
       "2      Ovarian                 0.927711"
      ]
     },
     "execution_count": 7,
     "metadata": {},
     "output_type": "execute_result"
    }
   ],
   "source": [
    "plot_freq_df = pd.DataFrame(columns=['Cancer_Type',gene+'_Mutation_Frequency'])\n",
    "\n",
    "plot_freq_df = plot_freq_df.append({'Cancer_Type':'Endometrial', gene+'_Mutation_Frequency': (percentage_mutated_en/100)}, ignore_index=True)\n",
    "plot_freq_df = plot_freq_df.append({'Cancer_Type':'Colon', gene+'_Mutation_Frequency': (percentage_mutated_co/100)}, ignore_index= True)\n",
    "plot_freq_df = plot_freq_df.append({'Cancer_Type':'Ovarian', gene+'_Mutation_Frequency': (percentage_mutated_ov/100)}, ignore_index= True)\n",
    "\n",
    "plot_freq_df"
   ]
  },
  {
   "cell_type": "code",
   "execution_count": 8,
   "metadata": {},
   "outputs": [
    {
     "data": {
      "image/png": "[encoded data removed]",
      "text/plain": [
       "<Figure size 432x288 with 1 Axes>"
      ]
     },
     "metadata": {
      "needs_background": "light"
     },
     "output_type": "display_data"
    }
   ],
   "source": [
    "freq_plt = sns.barplot(data=plot_freq_df, x='Cancer_Type', y =gene+'_Mutation_Frequency')"
   ]
  }
 ],
 "metadata": {
  "kernelspec": {
   "display_name": "Python 3",
   "language": "python",
   "name": "python3"
  },
  "language_info": {
   "codemirror_mode": {
    "name": "ipython",
    "version": 3
   },
   "file_extension": ".py",
   "mimetype": "text/x-python",
   "name": "python",
   "nbconvert_exporter": "python",
   "pygments_lexer": "ipython3",
   "version": "3.6.8"
  }
 },
 "nbformat": 4,
 "nbformat_minor": 2
}
