{
 "cells": [
  {
   "cell_type": "markdown",
   "metadata": {},
   "source": [
    "## Notebook addressing this reviewer's comment:"
   ]
  },
  {
   "cell_type": "markdown",
   "metadata": {},
   "source": [
    "The set of tumors with p53 mutations had elevated levels of AURKA or increased Plk1\n",
    "pT210 phosphorylation, both of which would be consistent with simply an increased mitotic\n",
    "fraction of cells in these tumors. Is there other evidence that these tumors simply had an elevated\n",
    "mitotic fraction based on looking for a transcriptomic or proteomic mitotic signatures? Was the\n",
    "total amount of Plk1 also increased in these tumors?"
   ]
  },
  {
   "cell_type": "markdown",
   "metadata": {},
   "source": [
    "#### Library Imports"
   ]
  },
  {
   "cell_type": "code",
   "execution_count": 1,
   "metadata": {},
   "outputs": [
    {
     "name": "stderr",
     "output_type": "stream",
     "text": [
      "/anaconda3/lib/python3.6/site-packages/requests/__init__.py:91: RequestsDependencyWarning: urllib3 (1.25.3) or chardet (3.0.4) doesn't match a supported version!\n",
      "  RequestsDependencyWarning)\n",
      "Warning: Your version of cptac (0.6.0) is out-of-date. Latest is 0.6.3. Please run 'pip install cptac --upgrade' to update it. (/anaconda3/lib/python3.6/site-packages/ipykernel_launcher.py, line 8)\n"
     ]
    },
    {
     "name": "stdout",
     "output_type": "stream",
     "text": [
      "                                    \r"
     ]
    }
   ],
   "source": [
    "import pandas as pd\n",
    "import numpy as np\n",
    "import scipy.stats\n",
    "\n",
    "import seaborn as sns\n",
    "import matplotlib.pyplot as plt\n",
    "\n",
    "import cptac\n",
    "import cptac.utils as ut\n",
    "\n",
    "en = cptac.Endometrial()"
   ]
  },
  {
   "cell_type": "markdown",
   "metadata": {},
   "source": [
    "## Look at Elevated AURKA proteomic levels in TP53 Mutation"
   ]
  },
  {
   "cell_type": "markdown",
   "metadata": {},
   "source": [
    "#### Specify genes"
   ]
  },
  {
   "cell_type": "code",
   "execution_count": 2,
   "metadata": {},
   "outputs": [],
   "source": [
    "mut_gene = 'TP53'\n",
    "omics_gene = 'AURKA'"
   ]
  },
  {
   "cell_type": "markdown",
   "metadata": {},
   "source": [
    "#### Compare AURKA proteomic levels with TP53 Mutation"
   ]
  },
  {
   "cell_type": "code",
   "execution_count": 3,
   "metadata": {},
   "outputs": [
    {
     "name": "stderr",
     "output_type": "stream",
     "text": [
      "Warning: In joining the somatic_mutation table, no mutations were found for the following samples, so they were filled with Wildtype_Tumor or Wildtype_Normal: 123 samples for the TP53 gene (/anaconda3/lib/python3.6/site-packages/ipykernel_launcher.py, line 2)\n"
     ]
    },
    {
     "data": {
      "text/html": [
       "<div>\n",
       "<style scoped>\n",
       "    .dataframe tbody tr th:only-of-type {\n",
       "        vertical-align: middle;\n",
       "    }\n",
       "\n",
       "    .dataframe tbody tr th {\n",
       "        vertical-align: top;\n",
       "    }\n",
       "\n",
       "    .dataframe thead th {\n",
       "        text-align: right;\n",
       "    }\n",
       "</style>\n",
       "<table border=\"1\" class=\"dataframe\">\n",
       "  <thead>\n",
       "    <tr style=\"text-align: right;\">\n",
       "      <th>Name</th>\n",
       "      <th>AURKA_proteomics</th>\n",
       "      <th>TP53_Mutation_Binary</th>\n",
       "    </tr>\n",
       "    <tr>\n",
       "      <th>Sample_ID</th>\n",
       "      <th></th>\n",
       "      <th></th>\n",
       "    </tr>\n",
       "  </thead>\n",
       "  <tbody>\n",
       "    <tr>\n",
       "      <th>S002</th>\n",
       "      <td>0.311</td>\n",
       "      <td>Wildtype</td>\n",
       "    </tr>\n",
       "    <tr>\n",
       "      <th>S005</th>\n",
       "      <td>-0.798</td>\n",
       "      <td>Wildtype</td>\n",
       "    </tr>\n",
       "    <tr>\n",
       "      <th>S006</th>\n",
       "      <td>3.110</td>\n",
       "      <td>Mutated</td>\n",
       "    </tr>\n",
       "    <tr>\n",
       "      <th>S007</th>\n",
       "      <td>-1.650</td>\n",
       "      <td>Wildtype</td>\n",
       "    </tr>\n",
       "    <tr>\n",
       "      <th>S009</th>\n",
       "      <td>0.848</td>\n",
       "      <td>Mutated</td>\n",
       "    </tr>\n",
       "  </tbody>\n",
       "</table>\n",
       "</div>"
      ],
      "text/plain": [
       "Name       AURKA_proteomics TP53_Mutation_Binary\n",
       "Sample_ID                                       \n",
       "S002                  0.311             Wildtype\n",
       "S005                 -0.798             Wildtype\n",
       "S006                  3.110              Mutated\n",
       "S007                 -1.650             Wildtype\n",
       "S009                  0.848              Mutated"
      ]
     },
     "execution_count": 3,
     "metadata": {},
     "output_type": "execute_result"
    }
   ],
   "source": [
    "#Join omics to mutations\n",
    "prot_df = en.join_omics_to_mutations(mutations_genes=mut_gene, omics_df_name='proteomics',omics_genes=omics_gene)\n",
    "\n",
    "#Select only tumor samples\n",
    "prot_df = prot_df.loc[prot_df['Sample_Status'] == 'Tumor']\n",
    "\n",
    "#Create binary classification of Mutated/Wildtype\n",
    "for ind, row in prot_df.iterrows():\n",
    "    if row[mut_gene + '_Mutation_Status'] == 'Wildtype_Tumor':\n",
    "        prot_df.loc[ind, mut_gene + '_Mutation_Binary'] = 'Wildtype'\n",
    "    else:\n",
    "        prot_df.loc[ind, mut_gene + '_Mutation_Binary'] = 'Mutated'\n",
    "\n",
    "#Drop unneeded columns\n",
    "prot_df = prot_df.drop([mut_gene+'_Mutation', mut_gene+'_Location', mut_gene+'_Mutation_Status','Sample_Status'], axis=1)\n",
    "prot_df = prot_df.dropna(axis=0)\n",
    "prot_df.head()"
   ]
  },
  {
   "cell_type": "markdown",
   "metadata": {},
   "source": [
    "#### Do t-test for significance"
   ]
  },
  {
   "cell_type": "code",
   "execution_count": 4,
   "metadata": {},
   "outputs": [
    {
     "data": {
      "text/html": [
       "<div>\n",
       "<style scoped>\n",
       "    .dataframe tbody tr th:only-of-type {\n",
       "        vertical-align: middle;\n",
       "    }\n",
       "\n",
       "    .dataframe tbody tr th {\n",
       "        vertical-align: top;\n",
       "    }\n",
       "\n",
       "    .dataframe thead th {\n",
       "        text-align: right;\n",
       "    }\n",
       "</style>\n",
       "<table border=\"1\" class=\"dataframe\">\n",
       "  <thead>\n",
       "    <tr style=\"text-align: right;\">\n",
       "      <th></th>\n",
       "      <th>Comparison</th>\n",
       "      <th>P_Value</th>\n",
       "    </tr>\n",
       "  </thead>\n",
       "  <tbody>\n",
       "    <tr>\n",
       "      <th>0</th>\n",
       "      <td>AURKA_proteomics</td>\n",
       "      <td>0.000016</td>\n",
       "    </tr>\n",
       "  </tbody>\n",
       "</table>\n",
       "</div>"
      ],
      "text/plain": [
       "         Comparison   P_Value\n",
       "0  AURKA_proteomics  0.000016"
      ]
     },
     "execution_count": 4,
     "metadata": {},
     "output_type": "execute_result"
    }
   ],
   "source": [
    "results = ut.wrap_ttest(prot_df, comparison_columns=[omics_gene+'_proteomics'], label_column=mut_gene+'_Mutation_Binary')\n",
    "pval = results.loc[0,'P_Value']\n",
    "results"
   ]
  },
  {
   "cell_type": "markdown",
   "metadata": {},
   "source": [
    "#### Generate Plot"
   ]
  },
  {
   "cell_type": "code",
   "execution_count": 5,
   "metadata": {},
   "outputs": [
    {
     "data": {
      "text/plain": [
       "<matplotlib.axes._subplots.AxesSubplot at 0x1364eed68>"
      ]
     },
     "execution_count": 5,
     "metadata": {},
     "output_type": "execute_result"
    },
    {
     "data": {
      "image/png": "[encoded data removed]",
      "text/plain": [
       "<Figure size 432x288 with 1 Axes>"
      ]
     },
     "metadata": {
      "needs_background": "light"
     },
     "output_type": "display_data"
    }
   ],
   "source": [
    "sns.boxplot(data=prot_df, y=omics_gene+'_proteomics', x=mut_gene+'_Mutation_Binary').set_title(\"AURKA proteomic levels vs TP53 Mutation\\nP-Value = \"+ str(round(pval,6)))\n",
    "sns.stripplot(data=prot_df, y=omics_gene+'_proteomics', x=mut_gene+'_Mutation_Binary', dodge=True, jitter=True, color='.3')"
   ]
  },
  {
   "cell_type": "markdown",
   "metadata": {},
   "source": [
    "## Look at increased PLK1 pT210 phosphorylation"
   ]
  },
  {
   "cell_type": "markdown",
   "metadata": {},
   "source": [
    "#### Specify Genes"
   ]
  },
  {
   "cell_type": "code",
   "execution_count": 6,
   "metadata": {},
   "outputs": [],
   "source": [
    "mut_gene = 'TP53'\n",
    "omics_gene = 'PLK1'"
   ]
  },
  {
   "cell_type": "markdown",
   "metadata": {},
   "source": [
    "#### Compare PLK1 phosphorylation with TP53 Mutation"
   ]
  },
  {
   "cell_type": "code",
   "execution_count": 7,
   "metadata": {},
   "outputs": [
    {
     "name": "stderr",
     "output_type": "stream",
     "text": [
      "Warning: In joining the somatic_mutation table, no mutations were found for the following samples, so they were filled with Wildtype_Tumor or Wildtype_Normal: 123 samples for the TP53 gene (/anaconda3/lib/python3.6/site-packages/ipykernel_launcher.py, line 2)\n"
     ]
    },
    {
     "data": {
      "text/html": [
       "<div>\n",
       "<style scoped>\n",
       "    .dataframe tbody tr th:only-of-type {\n",
       "        vertical-align: middle;\n",
       "    }\n",
       "\n",
       "    .dataframe tbody tr th {\n",
       "        vertical-align: top;\n",
       "    }\n",
       "\n",
       "    .dataframe thead th {\n",
       "        text-align: right;\n",
       "    }\n",
       "</style>\n",
       "<table border=\"1\" class=\"dataframe\">\n",
       "  <thead>\n",
       "    <tr style=\"text-align: right;\">\n",
       "      <th>Name</th>\n",
       "      <th>PLK1_phosphoproteomics_T210</th>\n",
       "      <th>TP53_Mutation_Binary</th>\n",
       "    </tr>\n",
       "    <tr>\n",
       "      <th>Sample_ID</th>\n",
       "      <th></th>\n",
       "      <th></th>\n",
       "    </tr>\n",
       "  </thead>\n",
       "  <tbody>\n",
       "    <tr>\n",
       "      <th>S001</th>\n",
       "      <td>0.895000</td>\n",
       "      <td>Mutated</td>\n",
       "    </tr>\n",
       "    <tr>\n",
       "      <th>S002</th>\n",
       "      <td>0.229000</td>\n",
       "      <td>Wildtype</td>\n",
       "    </tr>\n",
       "    <tr>\n",
       "      <th>S003</th>\n",
       "      <td>-0.000584</td>\n",
       "      <td>Wildtype</td>\n",
       "    </tr>\n",
       "    <tr>\n",
       "      <th>S005</th>\n",
       "      <td>-0.513000</td>\n",
       "      <td>Wildtype</td>\n",
       "    </tr>\n",
       "    <tr>\n",
       "      <th>S006</th>\n",
       "      <td>1.850000</td>\n",
       "      <td>Mutated</td>\n",
       "    </tr>\n",
       "  </tbody>\n",
       "</table>\n",
       "</div>"
      ],
      "text/plain": [
       "Name       PLK1_phosphoproteomics_T210 TP53_Mutation_Binary\n",
       "Sample_ID                                                  \n",
       "S001                          0.895000              Mutated\n",
       "S002                          0.229000             Wildtype\n",
       "S003                         -0.000584             Wildtype\n",
       "S005                         -0.513000             Wildtype\n",
       "S006                          1.850000              Mutated"
      ]
     },
     "execution_count": 7,
     "metadata": {},
     "output_type": "execute_result"
    }
   ],
   "source": [
    "#Join omics to mutations\n",
    "prot_df = en.join_omics_to_mutations(mutations_genes=mut_gene, omics_genes=omics_gene, omics_df_name='phosphoproteomics')\n",
    "\n",
    "#Reduce Multi-index\n",
    "prot_df = en.reduce_multiindex(prot_df, flatten=True)\n",
    "\n",
    "#Keep only Tumor Samples\n",
    "prot_df = prot_df.loc[prot_df['Sample_Status'] == 'Tumor']\n",
    "\n",
    "#Create binary classification of Mutated/Wildtype\n",
    "for ind, row in prot_df.iterrows():\n",
    "    if row[mut_gene + '_Mutation_Status'] == 'Wildtype_Tumor':\n",
    "        prot_df.loc[ind, mut_gene + '_Mutation_Binary'] = 'Wildtype'\n",
    "    else:\n",
    "        prot_df.loc[ind, mut_gene + '_Mutation_Binary'] = 'Mutated'\n",
    "        \n",
    "#Drop unneeded columns\n",
    "prot_df = prot_df.drop([mut_gene+'_Mutation', mut_gene+'_Location', mut_gene+'_Mutation_Status','Sample_Status',omics_gene+'_phosphoproteomics_T214'], axis=1)\n",
    "prot_df = prot_df.dropna(axis=0)\n",
    "prot_df.head()"
   ]
  },
  {
   "cell_type": "markdown",
   "metadata": {},
   "source": [
    "#### Do t-test for significance"
   ]
  },
  {
   "cell_type": "code",
   "execution_count": 8,
   "metadata": {},
   "outputs": [
    {
     "data": {
      "text/html": [
       "<div>\n",
       "<style scoped>\n",
       "    .dataframe tbody tr th:only-of-type {\n",
       "        vertical-align: middle;\n",
       "    }\n",
       "\n",
       "    .dataframe tbody tr th {\n",
       "        vertical-align: top;\n",
       "    }\n",
       "\n",
       "    .dataframe thead th {\n",
       "        text-align: right;\n",
       "    }\n",
       "</style>\n",
       "<table border=\"1\" class=\"dataframe\">\n",
       "  <thead>\n",
       "    <tr style=\"text-align: right;\">\n",
       "      <th></th>\n",
       "      <th>Comparison</th>\n",
       "      <th>P_Value</th>\n",
       "    </tr>\n",
       "  </thead>\n",
       "  <tbody>\n",
       "    <tr>\n",
       "      <th>0</th>\n",
       "      <td>PLK1_phosphoproteomics_T210</td>\n",
       "      <td>0.006095</td>\n",
       "    </tr>\n",
       "  </tbody>\n",
       "</table>\n",
       "</div>"
      ],
      "text/plain": [
       "                    Comparison   P_Value\n",
       "0  PLK1_phosphoproteomics_T210  0.006095"
      ]
     },
     "execution_count": 8,
     "metadata": {},
     "output_type": "execute_result"
    }
   ],
   "source": [
    "results = ut.wrap_ttest(df=prot_df, label_column=mut_gene+'_Mutation_Binary', comparison_columns=[omics_gene+'_phosphoproteomics_T210'])\n",
    "pval = results.loc[0,'P_Value']\n",
    "results"
   ]
  },
  {
   "cell_type": "markdown",
   "metadata": {},
   "source": [
    "#### Generate plot"
   ]
  },
  {
   "cell_type": "code",
   "execution_count": 9,
   "metadata": {},
   "outputs": [
    {
     "data": {
      "text/plain": [
       "<matplotlib.axes._subplots.AxesSubplot at 0x13607b7f0>"
      ]
     },
     "execution_count": 9,
     "metadata": {},
     "output_type": "execute_result"
    },
    {
     "data": {
      "image/png": "[encoded data removed]",
      "text/plain": [
       "<Figure size 432x288 with 1 Axes>"
      ]
     },
     "metadata": {
      "needs_background": "light"
     },
     "output_type": "display_data"
    }
   ],
   "source": [
    "sns.boxplot(data=prot_df, y=omics_gene+'_phosphoproteomics_T210', x=mut_gene+'_Mutation_Binary', order=['Wildtype','Mutated']).set_title(\"PLK1 phosphorylation vs TP53 Mutation\\nP-Value = \"+ str(round(pval,6)))\n",
    "sns.stripplot(data=prot_df, y=omics_gene+'_phosphoproteomics_T210', x=mut_gene+'_Mutation_Binary', dodge=True, jitter=True, color='.3',order=['Wildtype','Mutated'])"
   ]
  },
  {
   "cell_type": "markdown",
   "metadata": {},
   "source": [
    "## Address this question:"
   ]
  },
  {
   "cell_type": "markdown",
   "metadata": {},
   "source": [
    "Was the total amount of Plk1 also increased in these tumors?"
   ]
  },
  {
   "cell_type": "markdown",
   "metadata": {},
   "source": [
    "#### Specify Genes"
   ]
  },
  {
   "cell_type": "code",
   "execution_count": 10,
   "metadata": {},
   "outputs": [],
   "source": [
    "mut_gene = 'TP53'\n",
    "omics_gene = 'PLK1'"
   ]
  },
  {
   "cell_type": "markdown",
   "metadata": {},
   "source": [
    "#### Compare PLK1 proteomic levels with TP53 Mutation"
   ]
  },
  {
   "cell_type": "code",
   "execution_count": 11,
   "metadata": {},
   "outputs": [
    {
     "name": "stderr",
     "output_type": "stream",
     "text": [
      "Warning: In joining the somatic_mutation table, no mutations were found for the following samples, so they were filled with Wildtype_Tumor or Wildtype_Normal: 123 samples for the TP53 gene (/anaconda3/lib/python3.6/site-packages/ipykernel_launcher.py, line 2)\n"
     ]
    },
    {
     "data": {
      "text/html": [
       "<div>\n",
       "<style scoped>\n",
       "    .dataframe tbody tr th:only-of-type {\n",
       "        vertical-align: middle;\n",
       "    }\n",
       "\n",
       "    .dataframe tbody tr th {\n",
       "        vertical-align: top;\n",
       "    }\n",
       "\n",
       "    .dataframe thead th {\n",
       "        text-align: right;\n",
       "    }\n",
       "</style>\n",
       "<table border=\"1\" class=\"dataframe\">\n",
       "  <thead>\n",
       "    <tr style=\"text-align: right;\">\n",
       "      <th>Name</th>\n",
       "      <th>PLK1_proteomics</th>\n",
       "      <th>TP53_Mutation_Binary</th>\n",
       "    </tr>\n",
       "    <tr>\n",
       "      <th>Sample_ID</th>\n",
       "      <th></th>\n",
       "      <th></th>\n",
       "    </tr>\n",
       "  </thead>\n",
       "  <tbody>\n",
       "    <tr>\n",
       "      <th>S001</th>\n",
       "      <td>0.29500</td>\n",
       "      <td>Mutated</td>\n",
       "    </tr>\n",
       "    <tr>\n",
       "      <th>S002</th>\n",
       "      <td>1.01000</td>\n",
       "      <td>Wildtype</td>\n",
       "    </tr>\n",
       "    <tr>\n",
       "      <th>S003</th>\n",
       "      <td>0.30100</td>\n",
       "      <td>Wildtype</td>\n",
       "    </tr>\n",
       "    <tr>\n",
       "      <th>S005</th>\n",
       "      <td>-0.00057</td>\n",
       "      <td>Wildtype</td>\n",
       "    </tr>\n",
       "    <tr>\n",
       "      <th>S006</th>\n",
       "      <td>2.46000</td>\n",
       "      <td>Mutated</td>\n",
       "    </tr>\n",
       "  </tbody>\n",
       "</table>\n",
       "</div>"
      ],
      "text/plain": [
       "Name       PLK1_proteomics TP53_Mutation_Binary\n",
       "Sample_ID                                      \n",
       "S001               0.29500              Mutated\n",
       "S002               1.01000             Wildtype\n",
       "S003               0.30100             Wildtype\n",
       "S005              -0.00057             Wildtype\n",
       "S006               2.46000              Mutated"
      ]
     },
     "execution_count": 11,
     "metadata": {},
     "output_type": "execute_result"
    }
   ],
   "source": [
    "#Join omics to mutations\n",
    "prot_df = en.join_omics_to_mutations(mutations_genes=mut_gene, omics_genes=omics_gene, omics_df_name='proteomics')\n",
    "\n",
    "#Keep only Tumor Samples\n",
    "prot_df = prot_df.loc[prot_df['Sample_Status'] == 'Tumor']\n",
    "\n",
    "#Create binary classification of Mutated/Wildtype\n",
    "for ind, row in prot_df.iterrows():\n",
    "    if row[mut_gene + '_Mutation_Status'] == 'Wildtype_Tumor':\n",
    "        prot_df.loc[ind, mut_gene + '_Mutation_Binary'] = 'Wildtype'\n",
    "    else:\n",
    "        prot_df.loc[ind, mut_gene + '_Mutation_Binary'] = 'Mutated'\n",
    "        \n",
    "#Drop unneeded columns\n",
    "prot_df = prot_df.drop([mut_gene+'_Mutation', mut_gene+'_Location', mut_gene+'_Mutation_Status','Sample_Status'], axis=1)\n",
    "prot_df = prot_df.dropna(axis=0)\n",
    "prot_df.head()"
   ]
  },
  {
   "cell_type": "markdown",
   "metadata": {},
   "source": [
    "#### Do t-test for significance"
   ]
  },
  {
   "cell_type": "code",
   "execution_count": 12,
   "metadata": {},
   "outputs": [
    {
     "data": {
      "text/html": [
       "<div>\n",
       "<style scoped>\n",
       "    .dataframe tbody tr th:only-of-type {\n",
       "        vertical-align: middle;\n",
       "    }\n",
       "\n",
       "    .dataframe tbody tr th {\n",
       "        vertical-align: top;\n",
       "    }\n",
       "\n",
       "    .dataframe thead th {\n",
       "        text-align: right;\n",
       "    }\n",
       "</style>\n",
       "<table border=\"1\" class=\"dataframe\">\n",
       "  <thead>\n",
       "    <tr style=\"text-align: right;\">\n",
       "      <th></th>\n",
       "      <th>Comparison</th>\n",
       "      <th>P_Value</th>\n",
       "    </tr>\n",
       "  </thead>\n",
       "  <tbody>\n",
       "    <tr>\n",
       "      <th>0</th>\n",
       "      <td>PLK1_proteomics</td>\n",
       "      <td>0.000039</td>\n",
       "    </tr>\n",
       "  </tbody>\n",
       "</table>\n",
       "</div>"
      ],
      "text/plain": [
       "        Comparison   P_Value\n",
       "0  PLK1_proteomics  0.000039"
      ]
     },
     "execution_count": 12,
     "metadata": {},
     "output_type": "execute_result"
    }
   ],
   "source": [
    "results = ut.wrap_ttest(df=prot_df, label_column=mut_gene+'_Mutation_Binary', comparison_columns=[omics_gene+'_proteomics'])\n",
    "pval = results.loc[0,'P_Value']\n",
    "results"
   ]
  },
  {
   "cell_type": "markdown",
   "metadata": {},
   "source": [
    "#### Generate Plot"
   ]
  },
  {
   "cell_type": "code",
   "execution_count": 13,
   "metadata": {},
   "outputs": [
    {
     "data": {
      "text/plain": [
       "<matplotlib.axes._subplots.AxesSubplot at 0x136063ba8>"
      ]
     },
     "execution_count": 13,
     "metadata": {},
     "output_type": "execute_result"
    },
    {
     "data": {
      "image/png": "[encoded data removed]",
      "text/plain": [
       "<Figure size 432x288 with 1 Axes>"
      ]
     },
     "metadata": {
      "needs_background": "light"
     },
     "output_type": "display_data"
    }
   ],
   "source": [
    "sns.boxplot(data=prot_df, y=omics_gene+'_proteomics', x=mut_gene+'_Mutation_Binary', order=['Wildtype','Mutated']).set_title(\"PLK1 abundance vs TP53 Mutation\\nP-Value = \"+ str(round(pval,6)))\n",
    "sns.stripplot(data=prot_df, y=omics_gene+'_proteomics', x=mut_gene+'_Mutation_Binary', dodge=True, jitter=True, color='.3',order=['Wildtype','Mutated'])"
   ]
  },
  {
   "cell_type": "markdown",
   "metadata": {},
   "source": [
    "## Examine CDK proteins"
   ]
  },
  {
   "cell_type": "markdown",
   "metadata": {},
   "source": [
    "#### Generate list of CDK proteins in our set"
   ]
  },
  {
   "cell_type": "code",
   "execution_count": 14,
   "metadata": {},
   "outputs": [
    {
     "data": {
      "text/plain": [
       "['CDK1',\n",
       " 'CDK2',\n",
       " 'CDK3',\n",
       " 'CDK4',\n",
       " 'CDK5',\n",
       " 'CDK6',\n",
       " 'CDK7',\n",
       " 'CDK8',\n",
       " 'CDK9',\n",
       " 'CDK10',\n",
       " 'CDK12',\n",
       " 'CDK13',\n",
       " 'CDK14',\n",
       " 'CDK16',\n",
       " 'CDK17',\n",
       " 'CDK18',\n",
       " 'CDK19',\n",
       " 'CDK20']"
      ]
     },
     "execution_count": 14,
     "metadata": {},
     "output_type": "execute_result"
    }
   ],
   "source": [
    "cdks = []\n",
    "for i in range(1,21):\n",
    "    cdks.append('CDK' + str(i))\n",
    "cdks.remove('CDK15')\n",
    "cdks.remove('CDK11')\n",
    "cdks"
   ]
  },
  {
   "cell_type": "markdown",
   "metadata": {},
   "source": [
    "#### Generate dataframe comparing TP53 mutations with CDK proteomics"
   ]
  },
  {
   "cell_type": "code",
   "execution_count": 15,
   "metadata": {},
   "outputs": [
    {
     "name": "stderr",
     "output_type": "stream",
     "text": [
      "Warning: In joining the somatic_mutation table, no mutations were found for the following samples, so they were filled with Wildtype_Tumor or Wildtype_Normal: 123 samples for the TP53 gene (/anaconda3/lib/python3.6/site-packages/ipykernel_launcher.py, line 4)\n"
     ]
    },
    {
     "data": {
      "text/html": [
       "<div>\n",
       "<style scoped>\n",
       "    .dataframe tbody tr th:only-of-type {\n",
       "        vertical-align: middle;\n",
       "    }\n",
       "\n",
       "    .dataframe tbody tr th {\n",
       "        vertical-align: top;\n",
       "    }\n",
       "\n",
       "    .dataframe thead th {\n",
       "        text-align: right;\n",
       "    }\n",
       "</style>\n",
       "<table border=\"1\" class=\"dataframe\">\n",
       "  <thead>\n",
       "    <tr style=\"text-align: right;\">\n",
       "      <th>Name</th>\n",
       "      <th>CDK1_proteomics</th>\n",
       "      <th>CDK2_proteomics</th>\n",
       "      <th>CDK3_proteomics</th>\n",
       "      <th>CDK4_proteomics</th>\n",
       "      <th>CDK5_proteomics</th>\n",
       "      <th>CDK6_proteomics</th>\n",
       "      <th>CDK7_proteomics</th>\n",
       "      <th>CDK8_proteomics</th>\n",
       "      <th>CDK9_proteomics</th>\n",
       "      <th>CDK10_proteomics</th>\n",
       "      <th>CDK12_proteomics</th>\n",
       "      <th>CDK13_proteomics</th>\n",
       "      <th>CDK14_proteomics</th>\n",
       "      <th>CDK16_proteomics</th>\n",
       "      <th>CDK17_proteomics</th>\n",
       "      <th>CDK18_proteomics</th>\n",
       "      <th>CDK19_proteomics</th>\n",
       "      <th>CDK20_proteomics</th>\n",
       "      <th>TP53_Mutation_Binary</th>\n",
       "    </tr>\n",
       "    <tr>\n",
       "      <th>Sample_ID</th>\n",
       "      <th></th>\n",
       "      <th></th>\n",
       "      <th></th>\n",
       "      <th></th>\n",
       "      <th></th>\n",
       "      <th></th>\n",
       "      <th></th>\n",
       "      <th></th>\n",
       "      <th></th>\n",
       "      <th></th>\n",
       "      <th></th>\n",
       "      <th></th>\n",
       "      <th></th>\n",
       "      <th></th>\n",
       "      <th></th>\n",
       "      <th></th>\n",
       "      <th></th>\n",
       "      <th></th>\n",
       "      <th></th>\n",
       "    </tr>\n",
       "  </thead>\n",
       "  <tbody>\n",
       "    <tr>\n",
       "      <th>S001</th>\n",
       "      <td>1.100</td>\n",
       "      <td>0.5150</td>\n",
       "      <td>NaN</td>\n",
       "      <td>-0.39900</td>\n",
       "      <td>0.5190</td>\n",
       "      <td>-0.177</td>\n",
       "      <td>0.2050</td>\n",
       "      <td>NaN</td>\n",
       "      <td>0.1610</td>\n",
       "      <td>-0.0977</td>\n",
       "      <td>-0.2220</td>\n",
       "      <td>-0.1160</td>\n",
       "      <td>-1.270</td>\n",
       "      <td>-0.000077</td>\n",
       "      <td>-0.7080</td>\n",
       "      <td>0.268</td>\n",
       "      <td>-0.0253</td>\n",
       "      <td>0.133</td>\n",
       "      <td>Mutated</td>\n",
       "    </tr>\n",
       "    <tr>\n",
       "      <th>S002</th>\n",
       "      <td>1.140</td>\n",
       "      <td>1.1600</td>\n",
       "      <td>-0.6920</td>\n",
       "      <td>1.18000</td>\n",
       "      <td>-0.0172</td>\n",
       "      <td>-1.170</td>\n",
       "      <td>0.2760</td>\n",
       "      <td>0.352</td>\n",
       "      <td>0.2980</td>\n",
       "      <td>-0.2280</td>\n",
       "      <td>-0.1300</td>\n",
       "      <td>0.0703</td>\n",
       "      <td>-1.460</td>\n",
       "      <td>0.478000</td>\n",
       "      <td>-0.2320</td>\n",
       "      <td>-0.796</td>\n",
       "      <td>-0.1840</td>\n",
       "      <td>0.488</td>\n",
       "      <td>Wildtype</td>\n",
       "    </tr>\n",
       "    <tr>\n",
       "      <th>S003</th>\n",
       "      <td>0.220</td>\n",
       "      <td>-0.2040</td>\n",
       "      <td>NaN</td>\n",
       "      <td>-0.22700</td>\n",
       "      <td>0.2740</td>\n",
       "      <td>0.264</td>\n",
       "      <td>-0.0349</td>\n",
       "      <td>NaN</td>\n",
       "      <td>-0.0989</td>\n",
       "      <td>NaN</td>\n",
       "      <td>-0.0314</td>\n",
       "      <td>-0.1740</td>\n",
       "      <td>-0.554</td>\n",
       "      <td>0.143000</td>\n",
       "      <td>-0.4560</td>\n",
       "      <td>0.101</td>\n",
       "      <td>NaN</td>\n",
       "      <td>0.926</td>\n",
       "      <td>Wildtype</td>\n",
       "    </tr>\n",
       "    <tr>\n",
       "      <th>S005</th>\n",
       "      <td>0.505</td>\n",
       "      <td>0.0604</td>\n",
       "      <td>-0.0481</td>\n",
       "      <td>-0.28800</td>\n",
       "      <td>-0.0195</td>\n",
       "      <td>-0.078</td>\n",
       "      <td>0.1540</td>\n",
       "      <td>NaN</td>\n",
       "      <td>-0.0300</td>\n",
       "      <td>NaN</td>\n",
       "      <td>0.1510</td>\n",
       "      <td>-0.1050</td>\n",
       "      <td>NaN</td>\n",
       "      <td>-0.026200</td>\n",
       "      <td>-0.5290</td>\n",
       "      <td>0.676</td>\n",
       "      <td>0.0700</td>\n",
       "      <td>-0.236</td>\n",
       "      <td>Wildtype</td>\n",
       "    </tr>\n",
       "    <tr>\n",
       "      <th>S006</th>\n",
       "      <td>1.680</td>\n",
       "      <td>0.3920</td>\n",
       "      <td>-0.5630</td>\n",
       "      <td>-0.00505</td>\n",
       "      <td>-0.2970</td>\n",
       "      <td>-1.420</td>\n",
       "      <td>0.1060</td>\n",
       "      <td>0.679</td>\n",
       "      <td>0.1380</td>\n",
       "      <td>0.2180</td>\n",
       "      <td>1.1800</td>\n",
       "      <td>0.4250</td>\n",
       "      <td>0.630</td>\n",
       "      <td>0.801000</td>\n",
       "      <td>0.0649</td>\n",
       "      <td>-0.422</td>\n",
       "      <td>-0.2920</td>\n",
       "      <td>NaN</td>\n",
       "      <td>Mutated</td>\n",
       "    </tr>\n",
       "  </tbody>\n",
       "</table>\n",
       "</div>"
      ],
      "text/plain": [
       "Name       CDK1_proteomics  CDK2_proteomics  CDK3_proteomics  CDK4_proteomics  \\\n",
       "Sample_ID                                                                       \n",
       "S001                 1.100           0.5150              NaN         -0.39900   \n",
       "S002                 1.140           1.1600          -0.6920          1.18000   \n",
       "S003                 0.220          -0.2040              NaN         -0.22700   \n",
       "S005                 0.505           0.0604          -0.0481         -0.28800   \n",
       "S006                 1.680           0.3920          -0.5630         -0.00505   \n",
       "\n",
       "Name       CDK5_proteomics  CDK6_proteomics  CDK7_proteomics  CDK8_proteomics  \\\n",
       "Sample_ID                                                                       \n",
       "S001                0.5190           -0.177           0.2050              NaN   \n",
       "S002               -0.0172           -1.170           0.2760            0.352   \n",
       "S003                0.2740            0.264          -0.0349              NaN   \n",
       "S005               -0.0195           -0.078           0.1540              NaN   \n",
       "S006               -0.2970           -1.420           0.1060            0.679   \n",
       "\n",
       "Name       CDK9_proteomics  CDK10_proteomics  CDK12_proteomics  \\\n",
       "Sample_ID                                                        \n",
       "S001                0.1610           -0.0977           -0.2220   \n",
       "S002                0.2980           -0.2280           -0.1300   \n",
       "S003               -0.0989               NaN           -0.0314   \n",
       "S005               -0.0300               NaN            0.1510   \n",
       "S006                0.1380            0.2180            1.1800   \n",
       "\n",
       "Name       CDK13_proteomics  CDK14_proteomics  CDK16_proteomics  \\\n",
       "Sample_ID                                                         \n",
       "S001                -0.1160            -1.270         -0.000077   \n",
       "S002                 0.0703            -1.460          0.478000   \n",
       "S003                -0.1740            -0.554          0.143000   \n",
       "S005                -0.1050               NaN         -0.026200   \n",
       "S006                 0.4250             0.630          0.801000   \n",
       "\n",
       "Name       CDK17_proteomics  CDK18_proteomics  CDK19_proteomics  \\\n",
       "Sample_ID                                                         \n",
       "S001                -0.7080             0.268           -0.0253   \n",
       "S002                -0.2320            -0.796           -0.1840   \n",
       "S003                -0.4560             0.101               NaN   \n",
       "S005                -0.5290             0.676            0.0700   \n",
       "S006                 0.0649            -0.422           -0.2920   \n",
       "\n",
       "Name       CDK20_proteomics TP53_Mutation_Binary  \n",
       "Sample_ID                                         \n",
       "S001                  0.133              Mutated  \n",
       "S002                  0.488             Wildtype  \n",
       "S003                  0.926             Wildtype  \n",
       "S005                 -0.236             Wildtype  \n",
       "S006                    NaN              Mutated  "
      ]
     },
     "execution_count": 15,
     "metadata": {},
     "output_type": "execute_result"
    }
   ],
   "source": [
    "mut_gene = 'TP53'\n",
    "\n",
    "#Join omics to mutations\n",
    "prot_df = en.join_omics_to_mutations(mutations_genes=mut_gene, omics_genes=cdks, omics_df_name='proteomics')\n",
    "\n",
    "#Keep only Tumor Samples\n",
    "prot_df = prot_df.loc[prot_df['Sample_Status'] == 'Tumor']\n",
    "\n",
    "#Create binary classification of Mutated/Wildtype\n",
    "for ind, row in prot_df.iterrows():\n",
    "    if row[mut_gene + '_Mutation_Status'] == 'Wildtype_Tumor':\n",
    "        prot_df.loc[ind, mut_gene + '_Mutation_Binary'] = 'Wildtype'\n",
    "    else:\n",
    "        prot_df.loc[ind, mut_gene + '_Mutation_Binary'] = 'Mutated'\n",
    "        \n",
    "#Drop unneeded columns\n",
    "prot_df = prot_df.drop([mut_gene+'_Mutation', mut_gene+'_Location', mut_gene+'_Mutation_Status','Sample_Status'], axis=1)\n",
    "#prot_df = prot_df.dropna(axis=0)\n",
    "prot_df.head()"
   ]
  },
  {
   "cell_type": "markdown",
   "metadata": {},
   "source": [
    "#### Do t-test for significance"
   ]
  },
  {
   "cell_type": "code",
   "execution_count": 16,
   "metadata": {},
   "outputs": [
    {
     "name": "stdout",
     "output_type": "stream",
     "text": [
      "CDK1_proteomics :  0.0005339867846353341\n",
      "CDK2_proteomics :  0.0014899900096606048\n",
      "CDK3_proteomics :  0.9347291137313891\n",
      "CDK4_proteomics :  0.14848958328756848\n",
      "CDK5_proteomics :  0.4697379607178582\n",
      "CDK6_proteomics :  0.8955749663561232\n",
      "CDK7_proteomics :  0.3628231052461005\n",
      "CDK8_proteomics :  0.9569620118641029\n",
      "CDK9_proteomics :  0.05604321186927323\n",
      "CDK10_proteomics :  0.5525967559691646\n",
      "CDK12_proteomics :  9.985871329918245e-06\n",
      "CDK13_proteomics :  0.20795759487884463\n",
      "CDK14_proteomics :  0.9673349523925909\n",
      "CDK16_proteomics :  0.001463644613940428\n",
      "CDK17_proteomics :  0.8194632646453963\n",
      "CDK18_proteomics :  0.7756290100125969\n",
      "CDK19_proteomics :  0.7621802930840611\n",
      "CDK20_proteomics :  0.01812765966022225\n"
     ]
    },
    {
     "data": {
      "text/html": [
       "<div>\n",
       "<style scoped>\n",
       "    .dataframe tbody tr th:only-of-type {\n",
       "        vertical-align: middle;\n",
       "    }\n",
       "\n",
       "    .dataframe tbody tr th {\n",
       "        vertical-align: top;\n",
       "    }\n",
       "\n",
       "    .dataframe thead th {\n",
       "        text-align: right;\n",
       "    }\n",
       "</style>\n",
       "<table border=\"1\" class=\"dataframe\">\n",
       "  <thead>\n",
       "    <tr style=\"text-align: right;\">\n",
       "      <th></th>\n",
       "      <th>Comparison</th>\n",
       "      <th>P_Value</th>\n",
       "    </tr>\n",
       "  </thead>\n",
       "  <tbody>\n",
       "    <tr>\n",
       "      <th>0</th>\n",
       "      <td>CDK12_proteomics</td>\n",
       "      <td>0.000010</td>\n",
       "    </tr>\n",
       "    <tr>\n",
       "      <th>1</th>\n",
       "      <td>CDK1_proteomics</td>\n",
       "      <td>0.000534</td>\n",
       "    </tr>\n",
       "    <tr>\n",
       "      <th>2</th>\n",
       "      <td>CDK16_proteomics</td>\n",
       "      <td>0.001464</td>\n",
       "    </tr>\n",
       "    <tr>\n",
       "      <th>3</th>\n",
       "      <td>CDK2_proteomics</td>\n",
       "      <td>0.001490</td>\n",
       "    </tr>\n",
       "  </tbody>\n",
       "</table>\n",
       "</div>"
      ],
      "text/plain": [
       "         Comparison   P_Value\n",
       "0  CDK12_proteomics  0.000010\n",
       "1   CDK1_proteomics  0.000534\n",
       "2  CDK16_proteomics  0.001464\n",
       "3   CDK2_proteomics  0.001490"
      ]
     },
     "execution_count": 16,
     "metadata": {},
     "output_type": "execute_result"
    }
   ],
   "source": [
    "comp_cols = list(prot_df.columns)\n",
    "comp_cols.remove('TP53_Mutation_Binary')\n",
    "\n",
    "results = ut.wrap_ttest(df=prot_df, label_column=mut_gene+'_Mutation_Binary', comparison_columns=comp_cols, verbose=True)\n",
    "results"
   ]
  },
  {
   "cell_type": "markdown",
   "metadata": {},
   "source": [
    "#### Format dataframe to plot all CDK proteins"
   ]
  },
  {
   "cell_type": "code",
   "execution_count": 17,
   "metadata": {},
   "outputs": [
    {
     "data": {
      "image/png": "[encoded data removed]",
      "text/plain": [
       "<Figure size 2908.8x1190.88 with 1 Axes>"
      ]
     },
     "metadata": {
      "needs_background": "light"
     },
     "output_type": "display_data"
    }
   ],
   "source": [
    "a4_dims = (40.4, 16.54)\n",
    "fig, ax = plt.subplots(figsize=a4_dims)\n",
    "plotdf = pd.melt(prot_df, id_vars=['TP53_Mutation_Binary'], value_vars=comp_cols)\n",
    "\n",
    "#Make plot\n",
    "boxplot = sns.boxplot(data=plotdf, y='value', x='Name',hue='TP53_Mutation_Binary', hue_order=['Wildtype','Mutated']).set_title(\"CDK proteomics vs. TP53 Mutation\",fontsize = '40')\n",
    "stripplot = sns.stripplot(data=plotdf, y='value', x='Name',hue='TP53_Mutation_Binary', hue_order=['Wildtype','Mutated'], dodge=True, jitter=True, color='.3')"
   ]
  },
  {
   "cell_type": "markdown",
   "metadata": {},
   "source": [
    "## WEE1 Kinase"
   ]
  },
  {
   "cell_type": "code",
   "execution_count": 18,
   "metadata": {},
   "outputs": [],
   "source": [
    "mut_gene = 'TP53'\n",
    "omics_gene = 'WEE1'"
   ]
  },
  {
   "cell_type": "code",
   "execution_count": 19,
   "metadata": {},
   "outputs": [
    {
     "name": "stderr",
     "output_type": "stream",
     "text": [
      "Warning: In joining the somatic_mutation table, no mutations were found for the following samples, so they were filled with Wildtype_Tumor or Wildtype_Normal: 123 samples for the TP53 gene (/anaconda3/lib/python3.6/site-packages/ipykernel_launcher.py, line 2)\n"
     ]
    },
    {
     "data": {
      "text/html": [
       "<div>\n",
       "<style scoped>\n",
       "    .dataframe tbody tr th:only-of-type {\n",
       "        vertical-align: middle;\n",
       "    }\n",
       "\n",
       "    .dataframe tbody tr th {\n",
       "        vertical-align: top;\n",
       "    }\n",
       "\n",
       "    .dataframe thead th {\n",
       "        text-align: right;\n",
       "    }\n",
       "</style>\n",
       "<table border=\"1\" class=\"dataframe\">\n",
       "  <thead>\n",
       "    <tr style=\"text-align: right;\">\n",
       "      <th>Name</th>\n",
       "      <th>WEE1_proteomics</th>\n",
       "      <th>TP53_Mutation_Binary</th>\n",
       "    </tr>\n",
       "    <tr>\n",
       "      <th>Sample_ID</th>\n",
       "      <th></th>\n",
       "      <th></th>\n",
       "    </tr>\n",
       "  </thead>\n",
       "  <tbody>\n",
       "    <tr>\n",
       "      <th>S001</th>\n",
       "      <td>0.344</td>\n",
       "      <td>Mutated</td>\n",
       "    </tr>\n",
       "    <tr>\n",
       "      <th>S002</th>\n",
       "      <td>0.257</td>\n",
       "      <td>Wildtype</td>\n",
       "    </tr>\n",
       "    <tr>\n",
       "      <th>S003</th>\n",
       "      <td>-0.030</td>\n",
       "      <td>Wildtype</td>\n",
       "    </tr>\n",
       "    <tr>\n",
       "      <th>S005</th>\n",
       "      <td>-0.643</td>\n",
       "      <td>Wildtype</td>\n",
       "    </tr>\n",
       "    <tr>\n",
       "      <th>S006</th>\n",
       "      <td>0.104</td>\n",
       "      <td>Mutated</td>\n",
       "    </tr>\n",
       "  </tbody>\n",
       "</table>\n",
       "</div>"
      ],
      "text/plain": [
       "Name       WEE1_proteomics TP53_Mutation_Binary\n",
       "Sample_ID                                      \n",
       "S001                 0.344              Mutated\n",
       "S002                 0.257             Wildtype\n",
       "S003                -0.030             Wildtype\n",
       "S005                -0.643             Wildtype\n",
       "S006                 0.104              Mutated"
      ]
     },
     "execution_count": 19,
     "metadata": {},
     "output_type": "execute_result"
    }
   ],
   "source": [
    "#Join omics to mutations\n",
    "prot_df = en.join_omics_to_mutations(mutations_genes=mut_gene, omics_df_name='proteomics',omics_genes=omics_gene)\n",
    "\n",
    "#Select only tumor samples\n",
    "prot_df = prot_df.loc[prot_df['Sample_Status'] == 'Tumor']\n",
    "\n",
    "#Create binary classification of Mutated/Wildtype\n",
    "for ind, row in prot_df.iterrows():\n",
    "    if row[mut_gene + '_Mutation_Status'] == 'Wildtype_Tumor':\n",
    "        prot_df.loc[ind, mut_gene + '_Mutation_Binary'] = 'Wildtype'\n",
    "    else:\n",
    "        prot_df.loc[ind, mut_gene + '_Mutation_Binary'] = 'Mutated'\n",
    "\n",
    "#Drop unneeded columns\n",
    "prot_df = prot_df.drop([mut_gene+'_Mutation', mut_gene+'_Location', mut_gene+'_Mutation_Status','Sample_Status'], axis=1)\n",
    "prot_df = prot_df.dropna(axis=0)\n",
    "prot_df.head()"
   ]
  },
  {
   "cell_type": "markdown",
   "metadata": {},
   "source": [
    "#### Do t-test for significance"
   ]
  },
  {
   "cell_type": "code",
   "execution_count": 20,
   "metadata": {},
   "outputs": [
    {
     "name": "stdout",
     "output_type": "stream",
     "text": [
      "WEE1_proteomics :  0.409739993856143\n",
      "No significant comparisons.\n"
     ]
    }
   ],
   "source": [
    "results = ut.wrap_ttest(prot_df, comparison_columns=[omics_gene+'_proteomics'], label_column=mut_gene+'_Mutation_Binary', verbose=True)\n",
    "results"
   ]
  },
  {
   "cell_type": "markdown",
   "metadata": {},
   "source": [
    "#### Generate plot"
   ]
  },
  {
   "cell_type": "code",
   "execution_count": 21,
   "metadata": {},
   "outputs": [
    {
     "data": {
      "text/plain": [
       "<matplotlib.axes._subplots.AxesSubplot at 0x13608ed30>"
      ]
     },
     "execution_count": 21,
     "metadata": {},
     "output_type": "execute_result"
    },
    {
     "data": {
      "image/png": "[encoded data removed]",
      "text/plain": [
       "<Figure size 432x288 with 1 Axes>"
      ]
     },
     "metadata": {
      "needs_background": "light"
     },
     "output_type": "display_data"
    }
   ],
   "source": [
    "sns.boxplot(data=prot_df, y=omics_gene+'_proteomics', x=mut_gene+'_Mutation_Binary',order=['Wildtype','Mutated']).set_title(\"WEE1 proteomic levels vs TP53 Mutation\")\n",
    "sns.stripplot(data=prot_df, y=omics_gene+'_proteomics', x=mut_gene+'_Mutation_Binary', dodge=True, jitter=True, color='.3',order=['Wildtype','Mutated'])"
   ]
  },
  {
   "cell_type": "markdown",
   "metadata": {},
   "source": [
    "## CDH1 proteomics"
   ]
  },
  {
   "cell_type": "code",
   "execution_count": 22,
   "metadata": {},
   "outputs": [
    {
     "name": "stderr",
     "output_type": "stream",
     "text": [
      "Warning: In joining the somatic_mutation table, no mutations were found for the following samples, so they were filled with Wildtype_Tumor or Wildtype_Normal: 123 samples for the TP53 gene (/anaconda3/lib/python3.6/site-packages/ipykernel_launcher.py, line 4)\n"
     ]
    },
    {
     "data": {
      "text/html": [
       "<div>\n",
       "<style scoped>\n",
       "    .dataframe tbody tr th:only-of-type {\n",
       "        vertical-align: middle;\n",
       "    }\n",
       "\n",
       "    .dataframe tbody tr th {\n",
       "        vertical-align: top;\n",
       "    }\n",
       "\n",
       "    .dataframe thead th {\n",
       "        text-align: right;\n",
       "    }\n",
       "</style>\n",
       "<table border=\"1\" class=\"dataframe\">\n",
       "  <thead>\n",
       "    <tr style=\"text-align: right;\">\n",
       "      <th>Name</th>\n",
       "      <th>CDH1_proteomics</th>\n",
       "      <th>TP53_Mutation_Binary</th>\n",
       "    </tr>\n",
       "    <tr>\n",
       "      <th>Sample_ID</th>\n",
       "      <th></th>\n",
       "      <th></th>\n",
       "    </tr>\n",
       "  </thead>\n",
       "  <tbody>\n",
       "    <tr>\n",
       "      <th>S001</th>\n",
       "      <td>0.621</td>\n",
       "      <td>Mutated</td>\n",
       "    </tr>\n",
       "    <tr>\n",
       "      <th>S002</th>\n",
       "      <td>1.530</td>\n",
       "      <td>Wildtype</td>\n",
       "    </tr>\n",
       "    <tr>\n",
       "      <th>S003</th>\n",
       "      <td>0.701</td>\n",
       "      <td>Wildtype</td>\n",
       "    </tr>\n",
       "    <tr>\n",
       "      <th>S005</th>\n",
       "      <td>0.977</td>\n",
       "      <td>Wildtype</td>\n",
       "    </tr>\n",
       "    <tr>\n",
       "      <th>S006</th>\n",
       "      <td>0.713</td>\n",
       "      <td>Mutated</td>\n",
       "    </tr>\n",
       "  </tbody>\n",
       "</table>\n",
       "</div>"
      ],
      "text/plain": [
       "Name       CDH1_proteomics TP53_Mutation_Binary\n",
       "Sample_ID                                      \n",
       "S001                 0.621              Mutated\n",
       "S002                 1.530             Wildtype\n",
       "S003                 0.701             Wildtype\n",
       "S005                 0.977             Wildtype\n",
       "S006                 0.713              Mutated"
      ]
     },
     "execution_count": 22,
     "metadata": {},
     "output_type": "execute_result"
    }
   ],
   "source": [
    "mut_gene = 'TP53'\n",
    "omics_gene = 'CDH1'\n",
    "#Join omics to mutations\n",
    "prot_df = en.join_omics_to_mutations(mutations_genes=mut_gene, omics_df_name='proteomics',omics_genes=omics_gene)\n",
    "\n",
    "#Select only tumor samples\n",
    "prot_df = prot_df.loc[prot_df['Sample_Status'] == 'Tumor']\n",
    "\n",
    "#Create binary classification of Mutated/Wildtype\n",
    "for ind, row in prot_df.iterrows():\n",
    "    if row[mut_gene + '_Mutation_Status'] == 'Wildtype_Tumor':\n",
    "        prot_df.loc[ind, mut_gene + '_Mutation_Binary'] = 'Wildtype'\n",
    "    else:\n",
    "        prot_df.loc[ind, mut_gene + '_Mutation_Binary'] = 'Mutated'\n",
    "\n",
    "#Drop unneeded columns\n",
    "prot_df = prot_df.drop([mut_gene+'_Mutation', mut_gene+'_Location', mut_gene+'_Mutation_Status','Sample_Status'], axis=1)\n",
    "prot_df = prot_df.dropna(axis=0)\n",
    "prot_df.head()"
   ]
  },
  {
   "cell_type": "code",
   "execution_count": 23,
   "metadata": {},
   "outputs": [
    {
     "name": "stdout",
     "output_type": "stream",
     "text": [
      "CDH1_proteomics :  0.06709651245181412\n",
      "No significant comparisons.\n"
     ]
    }
   ],
   "source": [
    "results = ut.wrap_ttest(prot_df, comparison_columns=[omics_gene+'_proteomics'], label_column=mut_gene+'_Mutation_Binary', verbose=True)\n",
    "results"
   ]
  },
  {
   "cell_type": "code",
   "execution_count": 24,
   "metadata": {},
   "outputs": [
    {
     "data": {
      "text/plain": [
       "<matplotlib.axes._subplots.AxesSubplot at 0x13609db70>"
      ]
     },
     "execution_count": 24,
     "metadata": {},
     "output_type": "execute_result"
    },
    {
     "data": {
      "image/png": "[encoded data removed]",
      "text/plain": [
       "<Figure size 432x288 with 1 Axes>"
      ]
     },
     "metadata": {
      "needs_background": "light"
     },
     "output_type": "display_data"
    }
   ],
   "source": [
    "sns.boxplot(data=prot_df, y=omics_gene+'_proteomics', x=mut_gene+'_Mutation_Binary',order=['Wildtype','Mutated']).set_title(\"CDH1 proteomic levels vs TP53 Mutation\")\n",
    "sns.stripplot(data=prot_df, y=omics_gene+'_proteomics', x=mut_gene+'_Mutation_Binary',order=['Wildtype','Mutated'], dodge=True, jitter=True, color='.3')"
   ]
  },
  {
   "cell_type": "markdown",
   "metadata": {},
   "source": [
    "## TPX2"
   ]
  },
  {
   "cell_type": "markdown",
   "metadata": {},
   "source": [
    "https://www.ncbi.nlm.nih.gov/pmc/articles/PMC5650473/"
   ]
  },
  {
   "cell_type": "code",
   "execution_count": 25,
   "metadata": {},
   "outputs": [
    {
     "name": "stderr",
     "output_type": "stream",
     "text": [
      "Warning: In joining the somatic_mutation table, no mutations were found for the following samples, so they were filled with Wildtype_Tumor or Wildtype_Normal: 123 samples for the TP53 gene (/anaconda3/lib/python3.6/site-packages/ipykernel_launcher.py, line 4)\n"
     ]
    },
    {
     "data": {
      "text/html": [
       "<div>\n",
       "<style scoped>\n",
       "    .dataframe tbody tr th:only-of-type {\n",
       "        vertical-align: middle;\n",
       "    }\n",
       "\n",
       "    .dataframe tbody tr th {\n",
       "        vertical-align: top;\n",
       "    }\n",
       "\n",
       "    .dataframe thead th {\n",
       "        text-align: right;\n",
       "    }\n",
       "</style>\n",
       "<table border=\"1\" class=\"dataframe\">\n",
       "  <thead>\n",
       "    <tr style=\"text-align: right;\">\n",
       "      <th>Name</th>\n",
       "      <th>TPX2_proteomics</th>\n",
       "      <th>TP53_Mutation_Binary</th>\n",
       "    </tr>\n",
       "    <tr>\n",
       "      <th>Sample_ID</th>\n",
       "      <th></th>\n",
       "      <th></th>\n",
       "    </tr>\n",
       "  </thead>\n",
       "  <tbody>\n",
       "    <tr>\n",
       "      <th>S001</th>\n",
       "      <td>0.925</td>\n",
       "      <td>Mutated</td>\n",
       "    </tr>\n",
       "    <tr>\n",
       "      <th>S002</th>\n",
       "      <td>0.717</td>\n",
       "      <td>Wildtype</td>\n",
       "    </tr>\n",
       "    <tr>\n",
       "      <th>S003</th>\n",
       "      <td>-0.786</td>\n",
       "      <td>Wildtype</td>\n",
       "    </tr>\n",
       "    <tr>\n",
       "      <th>S005</th>\n",
       "      <td>-0.290</td>\n",
       "      <td>Wildtype</td>\n",
       "    </tr>\n",
       "    <tr>\n",
       "      <th>S006</th>\n",
       "      <td>2.090</td>\n",
       "      <td>Mutated</td>\n",
       "    </tr>\n",
       "  </tbody>\n",
       "</table>\n",
       "</div>"
      ],
      "text/plain": [
       "Name       TPX2_proteomics TP53_Mutation_Binary\n",
       "Sample_ID                                      \n",
       "S001                 0.925              Mutated\n",
       "S002                 0.717             Wildtype\n",
       "S003                -0.786             Wildtype\n",
       "S005                -0.290             Wildtype\n",
       "S006                 2.090              Mutated"
      ]
     },
     "execution_count": 25,
     "metadata": {},
     "output_type": "execute_result"
    }
   ],
   "source": [
    "mut_gene = 'TP53'\n",
    "omics_gene = 'TPX2'\n",
    "#Join omics to mutations\n",
    "prot_df = en.join_omics_to_mutations(mutations_genes=mut_gene, omics_df_name='proteomics',omics_genes=omics_gene)\n",
    "\n",
    "#Select only tumor samples\n",
    "prot_df = prot_df.loc[prot_df['Sample_Status'] == 'Tumor']\n",
    "\n",
    "#Create binary classification of Mutated/Wildtype\n",
    "for ind, row in prot_df.iterrows():\n",
    "    if row[mut_gene + '_Mutation_Status'] == 'Wildtype_Tumor':\n",
    "        prot_df.loc[ind, mut_gene + '_Mutation_Binary'] = 'Wildtype'\n",
    "    else:\n",
    "        prot_df.loc[ind, mut_gene + '_Mutation_Binary'] = 'Mutated'\n",
    "\n",
    "#Drop unneeded columns\n",
    "prot_df = prot_df.drop([mut_gene+'_Mutation', mut_gene+'_Location', mut_gene+'_Mutation_Status','Sample_Status'], axis=1)\n",
    "prot_df = prot_df.dropna(axis=0)\n",
    "prot_df.head()"
   ]
  },
  {
   "cell_type": "markdown",
   "metadata": {},
   "source": [
    "#### Do t-test for significance"
   ]
  },
  {
   "cell_type": "code",
   "execution_count": 29,
   "metadata": {},
   "outputs": [
    {
     "name": "stdout",
     "output_type": "stream",
     "text": [
      "TPX2_proteomics :  3.0940449511652e-08\n"
     ]
    },
    {
     "data": {
      "text/html": [
       "<div>\n",
       "<style scoped>\n",
       "    .dataframe tbody tr th:only-of-type {\n",
       "        vertical-align: middle;\n",
       "    }\n",
       "\n",
       "    .dataframe tbody tr th {\n",
       "        vertical-align: top;\n",
       "    }\n",
       "\n",
       "    .dataframe thead th {\n",
       "        text-align: right;\n",
       "    }\n",
       "</style>\n",
       "<table border=\"1\" class=\"dataframe\">\n",
       "  <thead>\n",
       "    <tr style=\"text-align: right;\">\n",
       "      <th></th>\n",
       "      <th>Comparison</th>\n",
       "      <th>P_Value</th>\n",
       "    </tr>\n",
       "  </thead>\n",
       "  <tbody>\n",
       "    <tr>\n",
       "      <th>0</th>\n",
       "      <td>TPX2_proteomics</td>\n",
       "      <td>3.094045e-08</td>\n",
       "    </tr>\n",
       "  </tbody>\n",
       "</table>\n",
       "</div>"
      ],
      "text/plain": [
       "        Comparison       P_Value\n",
       "0  TPX2_proteomics  3.094045e-08"
      ]
     },
     "execution_count": 29,
     "metadata": {},
     "output_type": "execute_result"
    }
   ],
   "source": [
    "results = ut.wrap_ttest(prot_df, comparison_columns=[omics_gene+'_proteomics'], label_column=mut_gene+'_Mutation_Binary', verbose=True)\n",
    "pval = results.loc[0, 'P_Value']\n",
    "results"
   ]
  },
  {
   "cell_type": "code",
   "execution_count": 31,
   "metadata": {},
   "outputs": [
    {
     "data": {
      "text/plain": [
       "<matplotlib.axes._subplots.AxesSubplot at 0x136562550>"
      ]
     },
     "execution_count": 31,
     "metadata": {},
     "output_type": "execute_result"
    },
    {
     "data": {
      "image/png": "[encoded data removed]",
      "text/plain": [
       "<Figure size 432x288 with 1 Axes>"
      ]
     },
     "metadata": {
      "needs_background": "light"
     },
     "output_type": "display_data"
    }
   ],
   "source": [
    "sns.boxplot(data=prot_df, y=omics_gene+'_proteomics', x=mut_gene+'_Mutation_Binary',order=['Wildtype','Mutated']).set_title(\"TPX2 proteomic levels vs TP53 Mutation\\nP-Value = \" + str(round(pval, 10)))\n",
    "sns.stripplot(data=prot_df, y=omics_gene+'_proteomics', x=mut_gene+'_Mutation_Binary',order=['Wildtype','Mutated'], dodge=True, jitter=True, color='.3')"
   ]
  },
  {
   "cell_type": "markdown",
   "metadata": {},
   "source": [
    "## TPX2 Phosphorylation"
   ]
  },
  {
   "cell_type": "code",
   "execution_count": 79,
   "metadata": {},
   "outputs": [
    {
     "name": "stderr",
     "output_type": "stream",
     "text": [
      "Warning: In joining the somatic_mutation table, no mutations were found for the following samples, so they were filled with Wildtype_Tumor or Wildtype_Normal: 123 samples for the TP53 gene (/anaconda3/lib/python3.6/site-packages/ipykernel_launcher.py, line 4)\n"
     ]
    },
    {
     "data": {
      "text/html": [
       "<div>\n",
       "<style scoped>\n",
       "    .dataframe tbody tr th:only-of-type {\n",
       "        vertical-align: middle;\n",
       "    }\n",
       "\n",
       "    .dataframe tbody tr th {\n",
       "        vertical-align: top;\n",
       "    }\n",
       "\n",
       "    .dataframe thead th {\n",
       "        text-align: right;\n",
       "    }\n",
       "</style>\n",
       "<table border=\"1\" class=\"dataframe\">\n",
       "  <thead>\n",
       "    <tr style=\"text-align: right;\">\n",
       "      <th>Name</th>\n",
       "      <th>TPX2_phosphoproteomics_S738</th>\n",
       "      <th>TP53_Mutation_Binary</th>\n",
       "    </tr>\n",
       "    <tr>\n",
       "      <th>Sample_ID</th>\n",
       "      <th></th>\n",
       "      <th></th>\n",
       "    </tr>\n",
       "  </thead>\n",
       "  <tbody>\n",
       "    <tr>\n",
       "      <th>S001</th>\n",
       "      <td>-0.13500</td>\n",
       "      <td>Mutated</td>\n",
       "    </tr>\n",
       "    <tr>\n",
       "      <th>S002</th>\n",
       "      <td>0.69600</td>\n",
       "      <td>Wildtype</td>\n",
       "    </tr>\n",
       "    <tr>\n",
       "      <th>S003</th>\n",
       "      <td>-1.56000</td>\n",
       "      <td>Wildtype</td>\n",
       "    </tr>\n",
       "    <tr>\n",
       "      <th>S005</th>\n",
       "      <td>-0.30800</td>\n",
       "      <td>Wildtype</td>\n",
       "    </tr>\n",
       "    <tr>\n",
       "      <th>S006</th>\n",
       "      <td>0.94200</td>\n",
       "      <td>Mutated</td>\n",
       "    </tr>\n",
       "    <tr>\n",
       "      <th>S007</th>\n",
       "      <td>-0.39200</td>\n",
       "      <td>Wildtype</td>\n",
       "    </tr>\n",
       "    <tr>\n",
       "      <th>S008</th>\n",
       "      <td>-0.32200</td>\n",
       "      <td>Mutated</td>\n",
       "    </tr>\n",
       "    <tr>\n",
       "      <th>S009</th>\n",
       "      <td>0.65900</td>\n",
       "      <td>Mutated</td>\n",
       "    </tr>\n",
       "    <tr>\n",
       "      <th>S010</th>\n",
       "      <td>-0.27700</td>\n",
       "      <td>Wildtype</td>\n",
       "    </tr>\n",
       "    <tr>\n",
       "      <th>S011</th>\n",
       "      <td>0.09960</td>\n",
       "      <td>Wildtype</td>\n",
       "    </tr>\n",
       "    <tr>\n",
       "      <th>S012</th>\n",
       "      <td>-0.57800</td>\n",
       "      <td>Wildtype</td>\n",
       "    </tr>\n",
       "    <tr>\n",
       "      <th>S014</th>\n",
       "      <td>0.00414</td>\n",
       "      <td>Wildtype</td>\n",
       "    </tr>\n",
       "    <tr>\n",
       "      <th>S016</th>\n",
       "      <td>NaN</td>\n",
       "      <td>Mutated</td>\n",
       "    </tr>\n",
       "    <tr>\n",
       "      <th>S017</th>\n",
       "      <td>-1.71000</td>\n",
       "      <td>Wildtype</td>\n",
       "    </tr>\n",
       "    <tr>\n",
       "      <th>S018</th>\n",
       "      <td>0.09510</td>\n",
       "      <td>Wildtype</td>\n",
       "    </tr>\n",
       "    <tr>\n",
       "      <th>S019</th>\n",
       "      <td>-0.00866</td>\n",
       "      <td>Wildtype</td>\n",
       "    </tr>\n",
       "    <tr>\n",
       "      <th>S020</th>\n",
       "      <td>1.11000</td>\n",
       "      <td>Mutated</td>\n",
       "    </tr>\n",
       "    <tr>\n",
       "      <th>S021</th>\n",
       "      <td>0.14100</td>\n",
       "      <td>Wildtype</td>\n",
       "    </tr>\n",
       "    <tr>\n",
       "      <th>S022</th>\n",
       "      <td>-0.43200</td>\n",
       "      <td>Mutated</td>\n",
       "    </tr>\n",
       "    <tr>\n",
       "      <th>S023</th>\n",
       "      <td>0.63700</td>\n",
       "      <td>Wildtype</td>\n",
       "    </tr>\n",
       "    <tr>\n",
       "      <th>S024</th>\n",
       "      <td>-0.30700</td>\n",
       "      <td>Wildtype</td>\n",
       "    </tr>\n",
       "    <tr>\n",
       "      <th>S025</th>\n",
       "      <td>0.06730</td>\n",
       "      <td>Wildtype</td>\n",
       "    </tr>\n",
       "    <tr>\n",
       "      <th>S026</th>\n",
       "      <td>-0.34800</td>\n",
       "      <td>Wildtype</td>\n",
       "    </tr>\n",
       "    <tr>\n",
       "      <th>S027</th>\n",
       "      <td>0.77900</td>\n",
       "      <td>Wildtype</td>\n",
       "    </tr>\n",
       "    <tr>\n",
       "      <th>S028</th>\n",
       "      <td>0.30400</td>\n",
       "      <td>Wildtype</td>\n",
       "    </tr>\n",
       "    <tr>\n",
       "      <th>S029</th>\n",
       "      <td>-0.99100</td>\n",
       "      <td>Wildtype</td>\n",
       "    </tr>\n",
       "    <tr>\n",
       "      <th>S030</th>\n",
       "      <td>0.41000</td>\n",
       "      <td>Wildtype</td>\n",
       "    </tr>\n",
       "    <tr>\n",
       "      <th>S031</th>\n",
       "      <td>0.58100</td>\n",
       "      <td>Mutated</td>\n",
       "    </tr>\n",
       "    <tr>\n",
       "      <th>S032</th>\n",
       "      <td>-0.53700</td>\n",
       "      <td>Wildtype</td>\n",
       "    </tr>\n",
       "    <tr>\n",
       "      <th>S033</th>\n",
       "      <td>0.09470</td>\n",
       "      <td>Wildtype</td>\n",
       "    </tr>\n",
       "    <tr>\n",
       "      <th>...</th>\n",
       "      <td>...</td>\n",
       "      <td>...</td>\n",
       "    </tr>\n",
       "    <tr>\n",
       "      <th>S073</th>\n",
       "      <td>-0.32700</td>\n",
       "      <td>Wildtype</td>\n",
       "    </tr>\n",
       "    <tr>\n",
       "      <th>S074</th>\n",
       "      <td>0.20500</td>\n",
       "      <td>Wildtype</td>\n",
       "    </tr>\n",
       "    <tr>\n",
       "      <th>S075</th>\n",
       "      <td>-1.28000</td>\n",
       "      <td>Wildtype</td>\n",
       "    </tr>\n",
       "    <tr>\n",
       "      <th>S076</th>\n",
       "      <td>-0.16900</td>\n",
       "      <td>Wildtype</td>\n",
       "    </tr>\n",
       "    <tr>\n",
       "      <th>S077</th>\n",
       "      <td>0.29300</td>\n",
       "      <td>Wildtype</td>\n",
       "    </tr>\n",
       "    <tr>\n",
       "      <th>S078</th>\n",
       "      <td>NaN</td>\n",
       "      <td>Wildtype</td>\n",
       "    </tr>\n",
       "    <tr>\n",
       "      <th>S079</th>\n",
       "      <td>0.19400</td>\n",
       "      <td>Wildtype</td>\n",
       "    </tr>\n",
       "    <tr>\n",
       "      <th>S080</th>\n",
       "      <td>-1.16000</td>\n",
       "      <td>Wildtype</td>\n",
       "    </tr>\n",
       "    <tr>\n",
       "      <th>S081</th>\n",
       "      <td>-0.01210</td>\n",
       "      <td>Wildtype</td>\n",
       "    </tr>\n",
       "    <tr>\n",
       "      <th>S082</th>\n",
       "      <td>1.09000</td>\n",
       "      <td>Mutated</td>\n",
       "    </tr>\n",
       "    <tr>\n",
       "      <th>S083</th>\n",
       "      <td>-0.40000</td>\n",
       "      <td>Wildtype</td>\n",
       "    </tr>\n",
       "    <tr>\n",
       "      <th>S084</th>\n",
       "      <td>-0.54000</td>\n",
       "      <td>Wildtype</td>\n",
       "    </tr>\n",
       "    <tr>\n",
       "      <th>S085</th>\n",
       "      <td>-0.55800</td>\n",
       "      <td>Wildtype</td>\n",
       "    </tr>\n",
       "    <tr>\n",
       "      <th>S086</th>\n",
       "      <td>-0.50200</td>\n",
       "      <td>Wildtype</td>\n",
       "    </tr>\n",
       "    <tr>\n",
       "      <th>S087</th>\n",
       "      <td>-0.46400</td>\n",
       "      <td>Wildtype</td>\n",
       "    </tr>\n",
       "    <tr>\n",
       "      <th>S088</th>\n",
       "      <td>-0.09580</td>\n",
       "      <td>Wildtype</td>\n",
       "    </tr>\n",
       "    <tr>\n",
       "      <th>S090</th>\n",
       "      <td>0.18200</td>\n",
       "      <td>Wildtype</td>\n",
       "    </tr>\n",
       "    <tr>\n",
       "      <th>S091</th>\n",
       "      <td>0.03540</td>\n",
       "      <td>Wildtype</td>\n",
       "    </tr>\n",
       "    <tr>\n",
       "      <th>S092</th>\n",
       "      <td>0.71600</td>\n",
       "      <td>Wildtype</td>\n",
       "    </tr>\n",
       "    <tr>\n",
       "      <th>S093</th>\n",
       "      <td>-0.63800</td>\n",
       "      <td>Wildtype</td>\n",
       "    </tr>\n",
       "    <tr>\n",
       "      <th>S094</th>\n",
       "      <td>0.22000</td>\n",
       "      <td>Wildtype</td>\n",
       "    </tr>\n",
       "    <tr>\n",
       "      <th>S095</th>\n",
       "      <td>-0.03630</td>\n",
       "      <td>Wildtype</td>\n",
       "    </tr>\n",
       "    <tr>\n",
       "      <th>S096</th>\n",
       "      <td>1.19000</td>\n",
       "      <td>Mutated</td>\n",
       "    </tr>\n",
       "    <tr>\n",
       "      <th>S097</th>\n",
       "      <td>1.19000</td>\n",
       "      <td>Mutated</td>\n",
       "    </tr>\n",
       "    <tr>\n",
       "      <th>S098</th>\n",
       "      <td>-0.59300</td>\n",
       "      <td>Wildtype</td>\n",
       "    </tr>\n",
       "    <tr>\n",
       "      <th>S099</th>\n",
       "      <td>-0.06840</td>\n",
       "      <td>Wildtype</td>\n",
       "    </tr>\n",
       "    <tr>\n",
       "      <th>S100</th>\n",
       "      <td>0.16500</td>\n",
       "      <td>Mutated</td>\n",
       "    </tr>\n",
       "    <tr>\n",
       "      <th>S101</th>\n",
       "      <td>0.12000</td>\n",
       "      <td>Wildtype</td>\n",
       "    </tr>\n",
       "    <tr>\n",
       "      <th>S102</th>\n",
       "      <td>0.43900</td>\n",
       "      <td>Mutated</td>\n",
       "    </tr>\n",
       "    <tr>\n",
       "      <th>S103</th>\n",
       "      <td>0.43300</td>\n",
       "      <td>Mutated</td>\n",
       "    </tr>\n",
       "  </tbody>\n",
       "</table>\n",
       "<p>95 rows × 2 columns</p>\n",
       "</div>"
      ],
      "text/plain": [
       "Name       TPX2_phosphoproteomics_S738 TP53_Mutation_Binary\n",
       "Sample_ID                                                  \n",
       "S001                           -0.1350              Mutated\n",
       "S002                            0.6960             Wildtype\n",
       "S003                           -1.5600             Wildtype\n",
       "S005                           -0.3080             Wildtype\n",
       "S006                            0.9420              Mutated\n",
       "...                                ...                  ...\n",
       "S099                           -0.0684             Wildtype\n",
       "S100                            0.1650              Mutated\n",
       "S101                            0.1200             Wildtype\n",
       "S102                            0.4390              Mutated\n",
       "S103                            0.4330              Mutated\n",
       "\n",
       "[95 rows x 2 columns]"
      ]
     },
     "execution_count": 79,
     "metadata": {},
     "output_type": "execute_result"
    }
   ],
   "source": [
    "mut_gene = 'TP53'\n",
    "omics_gene = 'TPX2'\n",
    "#Join omics to mutations\n",
    "prot_df = en.join_omics_to_mutations(mutations_genes=mut_gene, omics_df_name='phosphoproteomics',omics_genes=omics_gene)\n",
    "\n",
    "\n",
    "prot_df = en.reduce_multiindex(prot_df, flatten=True)\n",
    "\n",
    "#Select only tumor samples\n",
    "prot_df = prot_df.loc[prot_df['Sample_Status'] == 'Tumor']\n",
    "\n",
    "\n",
    "#Create binary classification of Mutated/Wildtype\n",
    "for ind, row in prot_df.iterrows():\n",
    "    if row[mut_gene + '_Mutation_Status'] == 'Wildtype_Tumor':\n",
    "        prot_df.loc[ind, mut_gene + '_Mutation_Binary'] = 'Wildtype'\n",
    "    else:\n",
    "        prot_df.loc[ind, mut_gene + '_Mutation_Binary'] = 'Mutated'\n",
    "\n",
    "#Drop unneeded columns\n",
    "prot_df = prot_df[['TPX2_phosphoproteomics_S738','TP53_Mutation_Binary']]\n",
    "prot_df\n"
   ]
  },
  {
   "cell_type": "code",
   "execution_count": 80,
   "metadata": {},
   "outputs": [
    {
     "name": "stdout",
     "output_type": "stream",
     "text": [
      "TPX2_phosphoproteomics_S738 :  0.00021924310264273254\n"
     ]
    },
    {
     "data": {
      "text/html": [
       "<div>\n",
       "<style scoped>\n",
       "    .dataframe tbody tr th:only-of-type {\n",
       "        vertical-align: middle;\n",
       "    }\n",
       "\n",
       "    .dataframe tbody tr th {\n",
       "        vertical-align: top;\n",
       "    }\n",
       "\n",
       "    .dataframe thead th {\n",
       "        text-align: right;\n",
       "    }\n",
       "</style>\n",
       "<table border=\"1\" class=\"dataframe\">\n",
       "  <thead>\n",
       "    <tr style=\"text-align: right;\">\n",
       "      <th></th>\n",
       "      <th>Comparison</th>\n",
       "      <th>P_Value</th>\n",
       "    </tr>\n",
       "  </thead>\n",
       "  <tbody>\n",
       "    <tr>\n",
       "      <th>0</th>\n",
       "      <td>TPX2_phosphoproteomics_S738</td>\n",
       "      <td>0.000219</td>\n",
       "    </tr>\n",
       "  </tbody>\n",
       "</table>\n",
       "</div>"
      ],
      "text/plain": [
       "                    Comparison   P_Value\n",
       "0  TPX2_phosphoproteomics_S738  0.000219"
      ]
     },
     "execution_count": 80,
     "metadata": {},
     "output_type": "execute_result"
    }
   ],
   "source": [
    "results = ut.wrap_ttest(prot_df, comparison_columns=[omics_gene+'_phosphoproteomics_S738'], label_column=mut_gene+'_Mutation_Binary', verbose=True)\n",
    "pval = results.loc[0, 'P_Value']\n",
    "results"
   ]
  },
  {
   "cell_type": "code",
   "execution_count": 81,
   "metadata": {},
   "outputs": [
    {
     "data": {
      "text/plain": [
       "<matplotlib.axes._subplots.AxesSubplot at 0x136c2f668>"
      ]
     },
     "execution_count": 81,
     "metadata": {},
     "output_type": "execute_result"
    },
    {
     "data": {
      "image/png": "[encoded data removed]",
      "text/plain": [
       "<Figure size 432x288 with 1 Axes>"
      ]
     },
     "metadata": {
      "needs_background": "light"
     },
     "output_type": "display_data"
    }
   ],
   "source": [
    "sns.boxplot(data=prot_df, y=omics_gene+'_phosphoproteomics_S738', x=mut_gene+'_Mutation_Binary',order=['Wildtype','Mutated']).set_title(\"TPX2 S738 Phosphorylation levels vs TP53 Mutation\\nP-Value = \" + str(round(pval, 10)))\n",
    "sns.stripplot(data=prot_df, y=omics_gene+'_phosphoproteomics_S738', x=mut_gene+'_Mutation_Binary',order=['Wildtype','Mutated'], dodge=True, jitter=True, color='.3')"
   ]
  },
  {
   "cell_type": "markdown",
   "metadata": {},
   "source": [
    "## CDC20"
   ]
  },
  {
   "cell_type": "code",
   "execution_count": 32,
   "metadata": {},
   "outputs": [
    {
     "name": "stderr",
     "output_type": "stream",
     "text": [
      "Warning: In joining the somatic_mutation table, no mutations were found for the following samples, so they were filled with Wildtype_Tumor or Wildtype_Normal: 123 samples for the TP53 gene (/anaconda3/lib/python3.6/site-packages/ipykernel_launcher.py, line 4)\n"
     ]
    },
    {
     "data": {
      "text/html": [
       "<div>\n",
       "<style scoped>\n",
       "    .dataframe tbody tr th:only-of-type {\n",
       "        vertical-align: middle;\n",
       "    }\n",
       "\n",
       "    .dataframe tbody tr th {\n",
       "        vertical-align: top;\n",
       "    }\n",
       "\n",
       "    .dataframe thead th {\n",
       "        text-align: right;\n",
       "    }\n",
       "</style>\n",
       "<table border=\"1\" class=\"dataframe\">\n",
       "  <thead>\n",
       "    <tr style=\"text-align: right;\">\n",
       "      <th>Name</th>\n",
       "      <th>CDC20_proteomics</th>\n",
       "      <th>TP53_Mutation_Binary</th>\n",
       "    </tr>\n",
       "    <tr>\n",
       "      <th>Sample_ID</th>\n",
       "      <th></th>\n",
       "      <th></th>\n",
       "    </tr>\n",
       "  </thead>\n",
       "  <tbody>\n",
       "    <tr>\n",
       "      <th>S001</th>\n",
       "      <td>0.5460</td>\n",
       "      <td>Mutated</td>\n",
       "    </tr>\n",
       "    <tr>\n",
       "      <th>S002</th>\n",
       "      <td>0.0504</td>\n",
       "      <td>Wildtype</td>\n",
       "    </tr>\n",
       "    <tr>\n",
       "      <th>S003</th>\n",
       "      <td>0.2370</td>\n",
       "      <td>Wildtype</td>\n",
       "    </tr>\n",
       "    <tr>\n",
       "      <th>S005</th>\n",
       "      <td>-0.3950</td>\n",
       "      <td>Wildtype</td>\n",
       "    </tr>\n",
       "    <tr>\n",
       "      <th>S006</th>\n",
       "      <td>1.5700</td>\n",
       "      <td>Mutated</td>\n",
       "    </tr>\n",
       "  </tbody>\n",
       "</table>\n",
       "</div>"
      ],
      "text/plain": [
       "Name       CDC20_proteomics TP53_Mutation_Binary\n",
       "Sample_ID                                       \n",
       "S001                 0.5460              Mutated\n",
       "S002                 0.0504             Wildtype\n",
       "S003                 0.2370             Wildtype\n",
       "S005                -0.3950             Wildtype\n",
       "S006                 1.5700              Mutated"
      ]
     },
     "execution_count": 32,
     "metadata": {},
     "output_type": "execute_result"
    }
   ],
   "source": [
    "mut_gene = 'TP53'\n",
    "omics_gene = 'CDC20'\n",
    "#Join omics to mutations\n",
    "prot_df = en.join_omics_to_mutations(mutations_genes=mut_gene, omics_df_name='proteomics',omics_genes=omics_gene)\n",
    "\n",
    "#Select only tumor samples\n",
    "prot_df = prot_df.loc[prot_df['Sample_Status'] == 'Tumor']\n",
    "\n",
    "#Create binary classification of Mutated/Wildtype\n",
    "for ind, row in prot_df.iterrows():\n",
    "    if row[mut_gene + '_Mutation_Status'] == 'Wildtype_Tumor':\n",
    "        prot_df.loc[ind, mut_gene + '_Mutation_Binary'] = 'Wildtype'\n",
    "    else:\n",
    "        prot_df.loc[ind, mut_gene + '_Mutation_Binary'] = 'Mutated'\n",
    "\n",
    "#Drop unneeded columns\n",
    "prot_df = prot_df.drop([mut_gene+'_Mutation', mut_gene+'_Location', mut_gene+'_Mutation_Status','Sample_Status'], axis=1)\n",
    "prot_df = prot_df.dropna(axis=0)\n",
    "prot_df.head()"
   ]
  },
  {
   "cell_type": "markdown",
   "metadata": {},
   "source": [
    "#### Do t-test for significance"
   ]
  },
  {
   "cell_type": "code",
   "execution_count": 33,
   "metadata": {},
   "outputs": [
    {
     "name": "stdout",
     "output_type": "stream",
     "text": [
      "CDC20_proteomics :  0.0004645795199681593\n"
     ]
    },
    {
     "data": {
      "text/html": [
       "<div>\n",
       "<style scoped>\n",
       "    .dataframe tbody tr th:only-of-type {\n",
       "        vertical-align: middle;\n",
       "    }\n",
       "\n",
       "    .dataframe tbody tr th {\n",
       "        vertical-align: top;\n",
       "    }\n",
       "\n",
       "    .dataframe thead th {\n",
       "        text-align: right;\n",
       "    }\n",
       "</style>\n",
       "<table border=\"1\" class=\"dataframe\">\n",
       "  <thead>\n",
       "    <tr style=\"text-align: right;\">\n",
       "      <th></th>\n",
       "      <th>Comparison</th>\n",
       "      <th>P_Value</th>\n",
       "    </tr>\n",
       "  </thead>\n",
       "  <tbody>\n",
       "    <tr>\n",
       "      <th>0</th>\n",
       "      <td>CDC20_proteomics</td>\n",
       "      <td>0.000465</td>\n",
       "    </tr>\n",
       "  </tbody>\n",
       "</table>\n",
       "</div>"
      ],
      "text/plain": [
       "         Comparison   P_Value\n",
       "0  CDC20_proteomics  0.000465"
      ]
     },
     "execution_count": 33,
     "metadata": {},
     "output_type": "execute_result"
    }
   ],
   "source": [
    "results = ut.wrap_ttest(prot_df, comparison_columns=[omics_gene+'_proteomics'], label_column=mut_gene+'_Mutation_Binary', verbose=True)\n",
    "pval = results.loc[0, 'P_Value']\n",
    "results"
   ]
  },
  {
   "cell_type": "code",
   "execution_count": 34,
   "metadata": {},
   "outputs": [
    {
     "data": {
      "text/plain": [
       "<matplotlib.axes._subplots.AxesSubplot at 0x13657da20>"
      ]
     },
     "execution_count": 34,
     "metadata": {},
     "output_type": "execute_result"
    },
    {
     "data": {
      "image/png": "[encoded data removed]",
      "text/plain": [
       "<Figure size 432x288 with 1 Axes>"
      ]
     },
     "metadata": {
      "needs_background": "light"
     },
     "output_type": "display_data"
    }
   ],
   "source": [
    "sns.boxplot(data=prot_df, y=omics_gene+'_proteomics', x=mut_gene+'_Mutation_Binary',order=['Wildtype','Mutated']).set_title(\"TPX2 proteomic levels vs TP53 Mutation\\nP-Value = \" + str(round(pval, 10)))\n",
    "sns.stripplot(data=prot_df, y=omics_gene+'_proteomics', x=mut_gene+'_Mutation_Binary',order=['Wildtype','Mutated'], dodge=True, jitter=True, color='.3')"
   ]
  },
  {
   "cell_type": "markdown",
   "metadata": {},
   "source": [
    "## KIFC1"
   ]
  },
  {
   "cell_type": "code",
   "execution_count": 35,
   "metadata": {},
   "outputs": [
    {
     "name": "stderr",
     "output_type": "stream",
     "text": [
      "Warning: In joining the somatic_mutation table, no mutations were found for the following samples, so they were filled with Wildtype_Tumor or Wildtype_Normal: 123 samples for the TP53 gene (/anaconda3/lib/python3.6/site-packages/ipykernel_launcher.py, line 4)\n"
     ]
    },
    {
     "data": {
      "text/html": [
       "<div>\n",
       "<style scoped>\n",
       "    .dataframe tbody tr th:only-of-type {\n",
       "        vertical-align: middle;\n",
       "    }\n",
       "\n",
       "    .dataframe tbody tr th {\n",
       "        vertical-align: top;\n",
       "    }\n",
       "\n",
       "    .dataframe thead th {\n",
       "        text-align: right;\n",
       "    }\n",
       "</style>\n",
       "<table border=\"1\" class=\"dataframe\">\n",
       "  <thead>\n",
       "    <tr style=\"text-align: right;\">\n",
       "      <th>Name</th>\n",
       "      <th>KIFC1_proteomics</th>\n",
       "      <th>TP53_Mutation_Binary</th>\n",
       "    </tr>\n",
       "    <tr>\n",
       "      <th>Sample_ID</th>\n",
       "      <th></th>\n",
       "      <th></th>\n",
       "    </tr>\n",
       "  </thead>\n",
       "  <tbody>\n",
       "    <tr>\n",
       "      <th>S001</th>\n",
       "      <td>0.0413</td>\n",
       "      <td>Mutated</td>\n",
       "    </tr>\n",
       "    <tr>\n",
       "      <th>S002</th>\n",
       "      <td>0.4150</td>\n",
       "      <td>Wildtype</td>\n",
       "    </tr>\n",
       "    <tr>\n",
       "      <th>S003</th>\n",
       "      <td>-0.5360</td>\n",
       "      <td>Wildtype</td>\n",
       "    </tr>\n",
       "    <tr>\n",
       "      <th>S005</th>\n",
       "      <td>-0.3750</td>\n",
       "      <td>Wildtype</td>\n",
       "    </tr>\n",
       "    <tr>\n",
       "      <th>S006</th>\n",
       "      <td>1.2800</td>\n",
       "      <td>Mutated</td>\n",
       "    </tr>\n",
       "  </tbody>\n",
       "</table>\n",
       "</div>"
      ],
      "text/plain": [
       "Name       KIFC1_proteomics TP53_Mutation_Binary\n",
       "Sample_ID                                       \n",
       "S001                 0.0413              Mutated\n",
       "S002                 0.4150             Wildtype\n",
       "S003                -0.5360             Wildtype\n",
       "S005                -0.3750             Wildtype\n",
       "S006                 1.2800              Mutated"
      ]
     },
     "execution_count": 35,
     "metadata": {},
     "output_type": "execute_result"
    }
   ],
   "source": [
    "mut_gene = 'TP53'\n",
    "omics_gene = 'KIFC1'\n",
    "#Join omics to mutations\n",
    "prot_df = en.join_omics_to_mutations(mutations_genes=mut_gene, omics_df_name='proteomics',omics_genes=omics_gene)\n",
    "\n",
    "#Select only tumor samples\n",
    "prot_df = prot_df.loc[prot_df['Sample_Status'] == 'Tumor']\n",
    "\n",
    "#Create binary classification of Mutated/Wildtype\n",
    "for ind, row in prot_df.iterrows():\n",
    "    if row[mut_gene + '_Mutation_Status'] == 'Wildtype_Tumor':\n",
    "        prot_df.loc[ind, mut_gene + '_Mutation_Binary'] = 'Wildtype'\n",
    "    else:\n",
    "        prot_df.loc[ind, mut_gene + '_Mutation_Binary'] = 'Mutated'\n",
    "\n",
    "#Drop unneeded columns\n",
    "prot_df = prot_df.drop([mut_gene+'_Mutation', mut_gene+'_Location', mut_gene+'_Mutation_Status','Sample_Status'], axis=1)\n",
    "prot_df = prot_df.dropna(axis=0)\n",
    "prot_df.head()"
   ]
  },
  {
   "cell_type": "markdown",
   "metadata": {},
   "source": [
    "#### Do t-test for significance"
   ]
  },
  {
   "cell_type": "code",
   "execution_count": 36,
   "metadata": {},
   "outputs": [
    {
     "name": "stdout",
     "output_type": "stream",
     "text": [
      "KIFC1_proteomics :  1.7527596097285096e-06\n"
     ]
    },
    {
     "data": {
      "text/html": [
       "<div>\n",
       "<style scoped>\n",
       "    .dataframe tbody tr th:only-of-type {\n",
       "        vertical-align: middle;\n",
       "    }\n",
       "\n",
       "    .dataframe tbody tr th {\n",
       "        vertical-align: top;\n",
       "    }\n",
       "\n",
       "    .dataframe thead th {\n",
       "        text-align: right;\n",
       "    }\n",
       "</style>\n",
       "<table border=\"1\" class=\"dataframe\">\n",
       "  <thead>\n",
       "    <tr style=\"text-align: right;\">\n",
       "      <th></th>\n",
       "      <th>Comparison</th>\n",
       "      <th>P_Value</th>\n",
       "    </tr>\n",
       "  </thead>\n",
       "  <tbody>\n",
       "    <tr>\n",
       "      <th>0</th>\n",
       "      <td>KIFC1_proteomics</td>\n",
       "      <td>0.000002</td>\n",
       "    </tr>\n",
       "  </tbody>\n",
       "</table>\n",
       "</div>"
      ],
      "text/plain": [
       "         Comparison   P_Value\n",
       "0  KIFC1_proteomics  0.000002"
      ]
     },
     "execution_count": 36,
     "metadata": {},
     "output_type": "execute_result"
    }
   ],
   "source": [
    "results = ut.wrap_ttest(prot_df, comparison_columns=[omics_gene+'_proteomics'], label_column=mut_gene+'_Mutation_Binary', verbose=True)\n",
    "pval = results.loc[0, 'P_Value']\n",
    "results"
   ]
  },
  {
   "cell_type": "code",
   "execution_count": 38,
   "metadata": {},
   "outputs": [
    {
     "data": {
      "text/plain": [
       "<matplotlib.axes._subplots.AxesSubplot at 0x136565c50>"
      ]
     },
     "execution_count": 38,
     "metadata": {},
     "output_type": "execute_result"
    },
    {
     "data": {
      "image/png": "[encoded data removed]",
      "text/plain": [
       "<Figure size 432x288 with 1 Axes>"
      ]
     },
     "metadata": {
      "needs_background": "light"
     },
     "output_type": "display_data"
    }
   ],
   "source": [
    "sns.boxplot(data=prot_df, y=omics_gene+'_proteomics', x=mut_gene+'_Mutation_Binary',order=['Wildtype','Mutated']).set_title(\"TPX2 proteomic levels vs TP53 Mutation\\nP-Value = \" + str(round(pval, 10)))\n",
    "sns.stripplot(data=prot_df, y=omics_gene+'_proteomics', x=mut_gene+'_Mutation_Binary',order=['Wildtype','Mutated'], dodge=True, jitter=True, color='.3')"
   ]
  },
  {
   "cell_type": "markdown",
   "metadata": {},
   "source": [
    "## CCNB1"
   ]
  },
  {
   "cell_type": "code",
   "execution_count": 39,
   "metadata": {},
   "outputs": [
    {
     "name": "stderr",
     "output_type": "stream",
     "text": [
      "Warning: In joining the somatic_mutation table, no mutations were found for the following samples, so they were filled with Wildtype_Tumor or Wildtype_Normal: 123 samples for the TP53 gene (/anaconda3/lib/python3.6/site-packages/ipykernel_launcher.py, line 4)\n"
     ]
    },
    {
     "data": {
      "text/html": [
       "<div>\n",
       "<style scoped>\n",
       "    .dataframe tbody tr th:only-of-type {\n",
       "        vertical-align: middle;\n",
       "    }\n",
       "\n",
       "    .dataframe tbody tr th {\n",
       "        vertical-align: top;\n",
       "    }\n",
       "\n",
       "    .dataframe thead th {\n",
       "        text-align: right;\n",
       "    }\n",
       "</style>\n",
       "<table border=\"1\" class=\"dataframe\">\n",
       "  <thead>\n",
       "    <tr style=\"text-align: right;\">\n",
       "      <th>Name</th>\n",
       "      <th>CCNB1_proteomics</th>\n",
       "      <th>TP53_Mutation_Binary</th>\n",
       "    </tr>\n",
       "    <tr>\n",
       "      <th>Sample_ID</th>\n",
       "      <th></th>\n",
       "      <th></th>\n",
       "    </tr>\n",
       "  </thead>\n",
       "  <tbody>\n",
       "    <tr>\n",
       "      <th>S001</th>\n",
       "      <td>1.2900</td>\n",
       "      <td>Mutated</td>\n",
       "    </tr>\n",
       "    <tr>\n",
       "      <th>S002</th>\n",
       "      <td>1.0800</td>\n",
       "      <td>Wildtype</td>\n",
       "    </tr>\n",
       "    <tr>\n",
       "      <th>S003</th>\n",
       "      <td>0.5510</td>\n",
       "      <td>Wildtype</td>\n",
       "    </tr>\n",
       "    <tr>\n",
       "      <th>S005</th>\n",
       "      <td>-0.0836</td>\n",
       "      <td>Wildtype</td>\n",
       "    </tr>\n",
       "    <tr>\n",
       "      <th>S006</th>\n",
       "      <td>1.7400</td>\n",
       "      <td>Mutated</td>\n",
       "    </tr>\n",
       "  </tbody>\n",
       "</table>\n",
       "</div>"
      ],
      "text/plain": [
       "Name       CCNB1_proteomics TP53_Mutation_Binary\n",
       "Sample_ID                                       \n",
       "S001                 1.2900              Mutated\n",
       "S002                 1.0800             Wildtype\n",
       "S003                 0.5510             Wildtype\n",
       "S005                -0.0836             Wildtype\n",
       "S006                 1.7400              Mutated"
      ]
     },
     "execution_count": 39,
     "metadata": {},
     "output_type": "execute_result"
    }
   ],
   "source": [
    "mut_gene = 'TP53'\n",
    "omics_gene = 'CCNB1'\n",
    "#Join omics to mutations\n",
    "prot_df = en.join_omics_to_mutations(mutations_genes=mut_gene, omics_df_name='proteomics',omics_genes=omics_gene)\n",
    "\n",
    "#Select only tumor samples\n",
    "prot_df = prot_df.loc[prot_df['Sample_Status'] == 'Tumor']\n",
    "\n",
    "#Create binary classification of Mutated/Wildtype\n",
    "for ind, row in prot_df.iterrows():\n",
    "    if row[mut_gene + '_Mutation_Status'] == 'Wildtype_Tumor':\n",
    "        prot_df.loc[ind, mut_gene + '_Mutation_Binary'] = 'Wildtype'\n",
    "    else:\n",
    "        prot_df.loc[ind, mut_gene + '_Mutation_Binary'] = 'Mutated'\n",
    "\n",
    "#Drop unneeded columns\n",
    "prot_df = prot_df.drop([mut_gene+'_Mutation', mut_gene+'_Location', mut_gene+'_Mutation_Status','Sample_Status'], axis=1)\n",
    "prot_df = prot_df.dropna(axis=0)\n",
    "prot_df.head()"
   ]
  },
  {
   "cell_type": "markdown",
   "metadata": {},
   "source": [
    "#### Do t-test for significance"
   ]
  },
  {
   "cell_type": "code",
   "execution_count": 40,
   "metadata": {},
   "outputs": [
    {
     "name": "stdout",
     "output_type": "stream",
     "text": [
      "CCNB1_proteomics :  1.5034287218484184e-05\n"
     ]
    },
    {
     "data": {
      "text/html": [
       "<div>\n",
       "<style scoped>\n",
       "    .dataframe tbody tr th:only-of-type {\n",
       "        vertical-align: middle;\n",
       "    }\n",
       "\n",
       "    .dataframe tbody tr th {\n",
       "        vertical-align: top;\n",
       "    }\n",
       "\n",
       "    .dataframe thead th {\n",
       "        text-align: right;\n",
       "    }\n",
       "</style>\n",
       "<table border=\"1\" class=\"dataframe\">\n",
       "  <thead>\n",
       "    <tr style=\"text-align: right;\">\n",
       "      <th></th>\n",
       "      <th>Comparison</th>\n",
       "      <th>P_Value</th>\n",
       "    </tr>\n",
       "  </thead>\n",
       "  <tbody>\n",
       "    <tr>\n",
       "      <th>0</th>\n",
       "      <td>CCNB1_proteomics</td>\n",
       "      <td>0.000015</td>\n",
       "    </tr>\n",
       "  </tbody>\n",
       "</table>\n",
       "</div>"
      ],
      "text/plain": [
       "         Comparison   P_Value\n",
       "0  CCNB1_proteomics  0.000015"
      ]
     },
     "execution_count": 40,
     "metadata": {},
     "output_type": "execute_result"
    }
   ],
   "source": [
    "results = ut.wrap_ttest(prot_df, comparison_columns=[omics_gene+'_proteomics'], label_column=mut_gene+'_Mutation_Binary', verbose=True)\n",
    "pval = results.loc[0, 'P_Value']\n",
    "results"
   ]
  },
  {
   "cell_type": "code",
   "execution_count": 41,
   "metadata": {},
   "outputs": [
    {
     "data": {
      "text/plain": [
       "<matplotlib.axes._subplots.AxesSubplot at 0x1365abe10>"
      ]
     },
     "execution_count": 41,
     "metadata": {},
     "output_type": "execute_result"
    },
    {
     "data": {
      "image/png": "[encoded data removed]",
      "text/plain": [
       "<Figure size 432x288 with 1 Axes>"
      ]
     },
     "metadata": {
      "needs_background": "light"
     },
     "output_type": "display_data"
    }
   ],
   "source": [
    "sns.boxplot(data=prot_df, y=omics_gene+'_proteomics', x=mut_gene+'_Mutation_Binary',order=['Wildtype','Mutated']).set_title(\"TPX2 proteomic levels vs TP53 Mutation\\nP-Value = \" + str(round(pval, 10)))\n",
    "sns.stripplot(data=prot_df, y=omics_gene+'_proteomics', x=mut_gene+'_Mutation_Binary',order=['Wildtype','Mutated'], dodge=True, jitter=True, color='.3')"
   ]
  },
  {
   "cell_type": "markdown",
   "metadata": {},
   "source": [
    "## ANLN"
   ]
  },
  {
   "cell_type": "code",
   "execution_count": 42,
   "metadata": {},
   "outputs": [
    {
     "name": "stderr",
     "output_type": "stream",
     "text": [
      "Warning: In joining the somatic_mutation table, no mutations were found for the following samples, so they were filled with Wildtype_Tumor or Wildtype_Normal: 123 samples for the TP53 gene (/anaconda3/lib/python3.6/site-packages/ipykernel_launcher.py, line 4)\n"
     ]
    },
    {
     "data": {
      "text/html": [
       "<div>\n",
       "<style scoped>\n",
       "    .dataframe tbody tr th:only-of-type {\n",
       "        vertical-align: middle;\n",
       "    }\n",
       "\n",
       "    .dataframe tbody tr th {\n",
       "        vertical-align: top;\n",
       "    }\n",
       "\n",
       "    .dataframe thead th {\n",
       "        text-align: right;\n",
       "    }\n",
       "</style>\n",
       "<table border=\"1\" class=\"dataframe\">\n",
       "  <thead>\n",
       "    <tr style=\"text-align: right;\">\n",
       "      <th>Name</th>\n",
       "      <th>ANLN_proteomics</th>\n",
       "      <th>TP53_Mutation_Binary</th>\n",
       "    </tr>\n",
       "    <tr>\n",
       "      <th>Sample_ID</th>\n",
       "      <th></th>\n",
       "      <th></th>\n",
       "    </tr>\n",
       "  </thead>\n",
       "  <tbody>\n",
       "    <tr>\n",
       "      <th>S001</th>\n",
       "      <td>0.6950</td>\n",
       "      <td>Mutated</td>\n",
       "    </tr>\n",
       "    <tr>\n",
       "      <th>S002</th>\n",
       "      <td>0.5750</td>\n",
       "      <td>Wildtype</td>\n",
       "    </tr>\n",
       "    <tr>\n",
       "      <th>S003</th>\n",
       "      <td>0.0534</td>\n",
       "      <td>Wildtype</td>\n",
       "    </tr>\n",
       "    <tr>\n",
       "      <th>S005</th>\n",
       "      <td>-0.4880</td>\n",
       "      <td>Wildtype</td>\n",
       "    </tr>\n",
       "    <tr>\n",
       "      <th>S006</th>\n",
       "      <td>2.6900</td>\n",
       "      <td>Mutated</td>\n",
       "    </tr>\n",
       "  </tbody>\n",
       "</table>\n",
       "</div>"
      ],
      "text/plain": [
       "Name       ANLN_proteomics TP53_Mutation_Binary\n",
       "Sample_ID                                      \n",
       "S001                0.6950              Mutated\n",
       "S002                0.5750             Wildtype\n",
       "S003                0.0534             Wildtype\n",
       "S005               -0.4880             Wildtype\n",
       "S006                2.6900              Mutated"
      ]
     },
     "execution_count": 42,
     "metadata": {},
     "output_type": "execute_result"
    }
   ],
   "source": [
    "mut_gene = 'TP53'\n",
    "omics_gene = 'ANLN'\n",
    "#Join omics to mutations\n",
    "prot_df = en.join_omics_to_mutations(mutations_genes=mut_gene, omics_df_name='proteomics',omics_genes=omics_gene)\n",
    "\n",
    "#Select only tumor samples\n",
    "prot_df = prot_df.loc[prot_df['Sample_Status'] == 'Tumor']\n",
    "\n",
    "#Create binary classification of Mutated/Wildtype\n",
    "for ind, row in prot_df.iterrows():\n",
    "    if row[mut_gene + '_Mutation_Status'] == 'Wildtype_Tumor':\n",
    "        prot_df.loc[ind, mut_gene + '_Mutation_Binary'] = 'Wildtype'\n",
    "    else:\n",
    "        prot_df.loc[ind, mut_gene + '_Mutation_Binary'] = 'Mutated'\n",
    "\n",
    "#Drop unneeded columns\n",
    "prot_df = prot_df.drop([mut_gene+'_Mutation', mut_gene+'_Location', mut_gene+'_Mutation_Status','Sample_Status'], axis=1)\n",
    "prot_df = prot_df.dropna(axis=0)\n",
    "prot_df.head()"
   ]
  },
  {
   "cell_type": "markdown",
   "metadata": {},
   "source": [
    "#### Do t-test for significance"
   ]
  },
  {
   "cell_type": "code",
   "execution_count": 43,
   "metadata": {},
   "outputs": [
    {
     "name": "stdout",
     "output_type": "stream",
     "text": [
      "ANLN_proteomics :  2.853150351659287e-05\n"
     ]
    },
    {
     "data": {
      "text/html": [
       "<div>\n",
       "<style scoped>\n",
       "    .dataframe tbody tr th:only-of-type {\n",
       "        vertical-align: middle;\n",
       "    }\n",
       "\n",
       "    .dataframe tbody tr th {\n",
       "        vertical-align: top;\n",
       "    }\n",
       "\n",
       "    .dataframe thead th {\n",
       "        text-align: right;\n",
       "    }\n",
       "</style>\n",
       "<table border=\"1\" class=\"dataframe\">\n",
       "  <thead>\n",
       "    <tr style=\"text-align: right;\">\n",
       "      <th></th>\n",
       "      <th>Comparison</th>\n",
       "      <th>P_Value</th>\n",
       "    </tr>\n",
       "  </thead>\n",
       "  <tbody>\n",
       "    <tr>\n",
       "      <th>0</th>\n",
       "      <td>ANLN_proteomics</td>\n",
       "      <td>0.000029</td>\n",
       "    </tr>\n",
       "  </tbody>\n",
       "</table>\n",
       "</div>"
      ],
      "text/plain": [
       "        Comparison   P_Value\n",
       "0  ANLN_proteomics  0.000029"
      ]
     },
     "execution_count": 43,
     "metadata": {},
     "output_type": "execute_result"
    }
   ],
   "source": [
    "results = ut.wrap_ttest(prot_df, comparison_columns=[omics_gene+'_proteomics'], label_column=mut_gene+'_Mutation_Binary', verbose=True)\n",
    "pval = results.loc[0, 'P_Value']\n",
    "results"
   ]
  },
  {
   "cell_type": "code",
   "execution_count": 44,
   "metadata": {},
   "outputs": [
    {
     "data": {
      "text/plain": [
       "<matplotlib.axes._subplots.AxesSubplot at 0x136ae0518>"
      ]
     },
     "execution_count": 44,
     "metadata": {},
     "output_type": "execute_result"
    },
    {
     "data": {
      "image/png": "[encoded data removed]",
      "text/plain": [
       "<Figure size 432x288 with 1 Axes>"
      ]
     },
     "metadata": {
      "needs_background": "light"
     },
     "output_type": "display_data"
    }
   ],
   "source": [
    "sns.boxplot(data=prot_df, y=omics_gene+'_proteomics', x=mut_gene+'_Mutation_Binary',order=['Wildtype','Mutated']).set_title(\"TPX2 proteomic levels vs TP53 Mutation\\nP-Value = \" + str(round(pval, 10)))\n",
    "sns.stripplot(data=prot_df, y=omics_gene+'_proteomics', x=mut_gene+'_Mutation_Binary',order=['Wildtype','Mutated'], dodge=True, jitter=True, color='.3')"
   ]
  },
  {
   "cell_type": "markdown",
   "metadata": {},
   "source": [
    "## HMMR"
   ]
  },
  {
   "cell_type": "code",
   "execution_count": 45,
   "metadata": {},
   "outputs": [
    {
     "name": "stderr",
     "output_type": "stream",
     "text": [
      "Warning: In joining the somatic_mutation table, no mutations were found for the following samples, so they were filled with Wildtype_Tumor or Wildtype_Normal: 123 samples for the TP53 gene (/anaconda3/lib/python3.6/site-packages/ipykernel_launcher.py, line 4)\n"
     ]
    },
    {
     "data": {
      "text/html": [
       "<div>\n",
       "<style scoped>\n",
       "    .dataframe tbody tr th:only-of-type {\n",
       "        vertical-align: middle;\n",
       "    }\n",
       "\n",
       "    .dataframe tbody tr th {\n",
       "        vertical-align: top;\n",
       "    }\n",
       "\n",
       "    .dataframe thead th {\n",
       "        text-align: right;\n",
       "    }\n",
       "</style>\n",
       "<table border=\"1\" class=\"dataframe\">\n",
       "  <thead>\n",
       "    <tr style=\"text-align: right;\">\n",
       "      <th>Name</th>\n",
       "      <th>HMMR_proteomics</th>\n",
       "      <th>TP53_Mutation_Binary</th>\n",
       "    </tr>\n",
       "    <tr>\n",
       "      <th>Sample_ID</th>\n",
       "      <th></th>\n",
       "      <th></th>\n",
       "    </tr>\n",
       "  </thead>\n",
       "  <tbody>\n",
       "    <tr>\n",
       "      <th>S001</th>\n",
       "      <td>-0.298</td>\n",
       "      <td>Mutated</td>\n",
       "    </tr>\n",
       "    <tr>\n",
       "      <th>S002</th>\n",
       "      <td>0.280</td>\n",
       "      <td>Wildtype</td>\n",
       "    </tr>\n",
       "    <tr>\n",
       "      <th>S003</th>\n",
       "      <td>0.120</td>\n",
       "      <td>Wildtype</td>\n",
       "    </tr>\n",
       "    <tr>\n",
       "      <th>S005</th>\n",
       "      <td>-0.266</td>\n",
       "      <td>Wildtype</td>\n",
       "    </tr>\n",
       "    <tr>\n",
       "      <th>S006</th>\n",
       "      <td>2.320</td>\n",
       "      <td>Mutated</td>\n",
       "    </tr>\n",
       "  </tbody>\n",
       "</table>\n",
       "</div>"
      ],
      "text/plain": [
       "Name       HMMR_proteomics TP53_Mutation_Binary\n",
       "Sample_ID                                      \n",
       "S001                -0.298              Mutated\n",
       "S002                 0.280             Wildtype\n",
       "S003                 0.120             Wildtype\n",
       "S005                -0.266             Wildtype\n",
       "S006                 2.320              Mutated"
      ]
     },
     "execution_count": 45,
     "metadata": {},
     "output_type": "execute_result"
    }
   ],
   "source": [
    "mut_gene = 'TP53'\n",
    "omics_gene = 'HMMR'\n",
    "#Join omics to mutations\n",
    "prot_df = en.join_omics_to_mutations(mutations_genes=mut_gene, omics_df_name='proteomics',omics_genes=omics_gene)\n",
    "\n",
    "#Select only tumor samples\n",
    "prot_df = prot_df.loc[prot_df['Sample_Status'] == 'Tumor']\n",
    "\n",
    "#Create binary classification of Mutated/Wildtype\n",
    "for ind, row in prot_df.iterrows():\n",
    "    if row[mut_gene + '_Mutation_Status'] == 'Wildtype_Tumor':\n",
    "        prot_df.loc[ind, mut_gene + '_Mutation_Binary'] = 'Wildtype'\n",
    "    else:\n",
    "        prot_df.loc[ind, mut_gene + '_Mutation_Binary'] = 'Mutated'\n",
    "\n",
    "#Drop unneeded columns\n",
    "prot_df = prot_df.drop([mut_gene+'_Mutation', mut_gene+'_Location', mut_gene+'_Mutation_Status','Sample_Status'], axis=1)\n",
    "prot_df = prot_df.dropna(axis=0)\n",
    "prot_df.head()"
   ]
  },
  {
   "cell_type": "markdown",
   "metadata": {},
   "source": [
    "#### Do t-test for significance"
   ]
  },
  {
   "cell_type": "code",
   "execution_count": 47,
   "metadata": {},
   "outputs": [
    {
     "name": "stdout",
     "output_type": "stream",
     "text": [
      "HMMR_proteomics :  0.12125378036842688\n",
      "No significant comparisons.\n"
     ]
    }
   ],
   "source": [
    "results = ut.wrap_ttest(prot_df, comparison_columns=[omics_gene+'_proteomics'], label_column=mut_gene+'_Mutation_Binary', verbose=True)\n",
    "results"
   ]
  },
  {
   "cell_type": "code",
   "execution_count": 48,
   "metadata": {},
   "outputs": [
    {
     "data": {
      "text/plain": [
       "<matplotlib.axes._subplots.AxesSubplot at 0x136af84e0>"
      ]
     },
     "execution_count": 48,
     "metadata": {},
     "output_type": "execute_result"
    },
    {
     "data": {
      "image/png": "[encoded data removed]",
      "text/plain": [
       "<Figure size 432x288 with 1 Axes>"
      ]
     },
     "metadata": {
      "needs_background": "light"
     },
     "output_type": "display_data"
    }
   ],
   "source": [
    "sns.boxplot(data=prot_df, y=omics_gene+'_proteomics', x=mut_gene+'_Mutation_Binary',order=['Wildtype','Mutated']).set_title(\"TPX2 proteomic levels vs TP53 Mutation\")\n",
    "sns.stripplot(data=prot_df, y=omics_gene+'_proteomics', x=mut_gene+'_Mutation_Binary',order=['Wildtype','Mutated'], dodge=True, jitter=True, color='.3')"
   ]
  },
  {
   "cell_type": "markdown",
   "metadata": {},
   "source": [
    "## KIF20A"
   ]
  },
  {
   "cell_type": "code",
   "execution_count": 49,
   "metadata": {},
   "outputs": [
    {
     "name": "stderr",
     "output_type": "stream",
     "text": [
      "Warning: In joining the somatic_mutation table, no mutations were found for the following samples, so they were filled with Wildtype_Tumor or Wildtype_Normal: 123 samples for the TP53 gene (/anaconda3/lib/python3.6/site-packages/ipykernel_launcher.py, line 4)\n"
     ]
    },
    {
     "data": {
      "text/html": [
       "<div>\n",
       "<style scoped>\n",
       "    .dataframe tbody tr th:only-of-type {\n",
       "        vertical-align: middle;\n",
       "    }\n",
       "\n",
       "    .dataframe tbody tr th {\n",
       "        vertical-align: top;\n",
       "    }\n",
       "\n",
       "    .dataframe thead th {\n",
       "        text-align: right;\n",
       "    }\n",
       "</style>\n",
       "<table border=\"1\" class=\"dataframe\">\n",
       "  <thead>\n",
       "    <tr style=\"text-align: right;\">\n",
       "      <th>Name</th>\n",
       "      <th>KIF20A_proteomics</th>\n",
       "      <th>TP53_Mutation_Binary</th>\n",
       "    </tr>\n",
       "    <tr>\n",
       "      <th>Sample_ID</th>\n",
       "      <th></th>\n",
       "      <th></th>\n",
       "    </tr>\n",
       "  </thead>\n",
       "  <tbody>\n",
       "    <tr>\n",
       "      <th>S001</th>\n",
       "      <td>0.6840</td>\n",
       "      <td>Mutated</td>\n",
       "    </tr>\n",
       "    <tr>\n",
       "      <th>S002</th>\n",
       "      <td>0.7000</td>\n",
       "      <td>Wildtype</td>\n",
       "    </tr>\n",
       "    <tr>\n",
       "      <th>S003</th>\n",
       "      <td>0.0682</td>\n",
       "      <td>Wildtype</td>\n",
       "    </tr>\n",
       "    <tr>\n",
       "      <th>S005</th>\n",
       "      <td>-0.0106</td>\n",
       "      <td>Wildtype</td>\n",
       "    </tr>\n",
       "    <tr>\n",
       "      <th>S006</th>\n",
       "      <td>0.9840</td>\n",
       "      <td>Mutated</td>\n",
       "    </tr>\n",
       "  </tbody>\n",
       "</table>\n",
       "</div>"
      ],
      "text/plain": [
       "Name       KIF20A_proteomics TP53_Mutation_Binary\n",
       "Sample_ID                                        \n",
       "S001                  0.6840              Mutated\n",
       "S002                  0.7000             Wildtype\n",
       "S003                  0.0682             Wildtype\n",
       "S005                 -0.0106             Wildtype\n",
       "S006                  0.9840              Mutated"
      ]
     },
     "execution_count": 49,
     "metadata": {},
     "output_type": "execute_result"
    }
   ],
   "source": [
    "mut_gene = 'TP53'\n",
    "omics_gene = 'KIF20A'\n",
    "#Join omics to mutations\n",
    "prot_df = en.join_omics_to_mutations(mutations_genes=mut_gene, omics_df_name='proteomics',omics_genes=omics_gene)\n",
    "\n",
    "#Select only tumor samples\n",
    "prot_df = prot_df.loc[prot_df['Sample_Status'] == 'Tumor']\n",
    "\n",
    "#Create binary classification of Mutated/Wildtype\n",
    "for ind, row in prot_df.iterrows():\n",
    "    if row[mut_gene + '_Mutation_Status'] == 'Wildtype_Tumor':\n",
    "        prot_df.loc[ind, mut_gene + '_Mutation_Binary'] = 'Wildtype'\n",
    "    else:\n",
    "        prot_df.loc[ind, mut_gene + '_Mutation_Binary'] = 'Mutated'\n",
    "\n",
    "#Drop unneeded columns\n",
    "prot_df = prot_df.drop([mut_gene+'_Mutation', mut_gene+'_Location', mut_gene+'_Mutation_Status','Sample_Status'], axis=1)\n",
    "prot_df = prot_df.dropna(axis=0)\n",
    "prot_df.head()"
   ]
  },
  {
   "cell_type": "markdown",
   "metadata": {},
   "source": [
    "#### Do t-test for significance"
   ]
  },
  {
   "cell_type": "code",
   "execution_count": 50,
   "metadata": {},
   "outputs": [
    {
     "name": "stdout",
     "output_type": "stream",
     "text": [
      "KIF20A_proteomics :  0.0003638185428331852\n"
     ]
    },
    {
     "data": {
      "text/html": [
       "<div>\n",
       "<style scoped>\n",
       "    .dataframe tbody tr th:only-of-type {\n",
       "        vertical-align: middle;\n",
       "    }\n",
       "\n",
       "    .dataframe tbody tr th {\n",
       "        vertical-align: top;\n",
       "    }\n",
       "\n",
       "    .dataframe thead th {\n",
       "        text-align: right;\n",
       "    }\n",
       "</style>\n",
       "<table border=\"1\" class=\"dataframe\">\n",
       "  <thead>\n",
       "    <tr style=\"text-align: right;\">\n",
       "      <th></th>\n",
       "      <th>Comparison</th>\n",
       "      <th>P_Value</th>\n",
       "    </tr>\n",
       "  </thead>\n",
       "  <tbody>\n",
       "    <tr>\n",
       "      <th>0</th>\n",
       "      <td>KIF20A_proteomics</td>\n",
       "      <td>0.000364</td>\n",
       "    </tr>\n",
       "  </tbody>\n",
       "</table>\n",
       "</div>"
      ],
      "text/plain": [
       "          Comparison   P_Value\n",
       "0  KIF20A_proteomics  0.000364"
      ]
     },
     "execution_count": 50,
     "metadata": {},
     "output_type": "execute_result"
    }
   ],
   "source": [
    "results = ut.wrap_ttest(prot_df, comparison_columns=[omics_gene+'_proteomics'], label_column=mut_gene+'_Mutation_Binary', verbose=True)\n",
    "pval = results.loc[0, 'P_Value']\n",
    "results"
   ]
  },
  {
   "cell_type": "code",
   "execution_count": 51,
   "metadata": {},
   "outputs": [
    {
     "data": {
      "text/plain": [
       "<matplotlib.axes._subplots.AxesSubplot at 0x136b142b0>"
      ]
     },
     "execution_count": 51,
     "metadata": {},
     "output_type": "execute_result"
    },
    {
     "data": {
      "image/png": "[encoded data removed]",
      "text/plain": [
       "<Figure size 432x288 with 1 Axes>"
      ]
     },
     "metadata": {
      "needs_background": "light"
     },
     "output_type": "display_data"
    }
   ],
   "source": [
    "sns.boxplot(data=prot_df, y=omics_gene+'_proteomics', x=mut_gene+'_Mutation_Binary',order=['Wildtype','Mutated']).set_title(\"TPX2 proteomic levels vs TP53 Mutation\\nP-Value = \" + str(round(pval, 10)))\n",
    "sns.stripplot(data=prot_df, y=omics_gene+'_proteomics', x=mut_gene+'_Mutation_Binary',order=['Wildtype','Mutated'], dodge=True, jitter=True, color='.3')"
   ]
  },
  {
   "cell_type": "markdown",
   "metadata": {},
   "source": [
    "## AURKB"
   ]
  },
  {
   "cell_type": "code",
   "execution_count": 52,
   "metadata": {},
   "outputs": [
    {
     "name": "stderr",
     "output_type": "stream",
     "text": [
      "Warning: In joining the somatic_mutation table, no mutations were found for the following samples, so they were filled with Wildtype_Tumor or Wildtype_Normal: 123 samples for the TP53 gene (/anaconda3/lib/python3.6/site-packages/ipykernel_launcher.py, line 4)\n"
     ]
    },
    {
     "data": {
      "text/html": [
       "<div>\n",
       "<style scoped>\n",
       "    .dataframe tbody tr th:only-of-type {\n",
       "        vertical-align: middle;\n",
       "    }\n",
       "\n",
       "    .dataframe tbody tr th {\n",
       "        vertical-align: top;\n",
       "    }\n",
       "\n",
       "    .dataframe thead th {\n",
       "        text-align: right;\n",
       "    }\n",
       "</style>\n",
       "<table border=\"1\" class=\"dataframe\">\n",
       "  <thead>\n",
       "    <tr style=\"text-align: right;\">\n",
       "      <th>Name</th>\n",
       "      <th>AURKB_proteomics</th>\n",
       "      <th>TP53_Mutation_Binary</th>\n",
       "    </tr>\n",
       "    <tr>\n",
       "      <th>Sample_ID</th>\n",
       "      <th></th>\n",
       "      <th></th>\n",
       "    </tr>\n",
       "  </thead>\n",
       "  <tbody>\n",
       "    <tr>\n",
       "      <th>S002</th>\n",
       "      <td>0.4560</td>\n",
       "      <td>Wildtype</td>\n",
       "    </tr>\n",
       "    <tr>\n",
       "      <th>S003</th>\n",
       "      <td>-0.0623</td>\n",
       "      <td>Wildtype</td>\n",
       "    </tr>\n",
       "    <tr>\n",
       "      <th>S005</th>\n",
       "      <td>-0.2020</td>\n",
       "      <td>Wildtype</td>\n",
       "    </tr>\n",
       "    <tr>\n",
       "      <th>S006</th>\n",
       "      <td>1.0900</td>\n",
       "      <td>Mutated</td>\n",
       "    </tr>\n",
       "    <tr>\n",
       "      <th>S007</th>\n",
       "      <td>0.4000</td>\n",
       "      <td>Wildtype</td>\n",
       "    </tr>\n",
       "  </tbody>\n",
       "</table>\n",
       "</div>"
      ],
      "text/plain": [
       "Name       AURKB_proteomics TP53_Mutation_Binary\n",
       "Sample_ID                                       \n",
       "S002                 0.4560             Wildtype\n",
       "S003                -0.0623             Wildtype\n",
       "S005                -0.2020             Wildtype\n",
       "S006                 1.0900              Mutated\n",
       "S007                 0.4000             Wildtype"
      ]
     },
     "execution_count": 52,
     "metadata": {},
     "output_type": "execute_result"
    }
   ],
   "source": [
    "mut_gene = 'TP53'\n",
    "omics_gene = 'AURKB'\n",
    "#Join omics to mutations\n",
    "prot_df = en.join_omics_to_mutations(mutations_genes=mut_gene, omics_df_name='proteomics',omics_genes=omics_gene)\n",
    "\n",
    "#Select only tumor samples\n",
    "prot_df = prot_df.loc[prot_df['Sample_Status'] == 'Tumor']\n",
    "\n",
    "#Create binary classification of Mutated/Wildtype\n",
    "for ind, row in prot_df.iterrows():\n",
    "    if row[mut_gene + '_Mutation_Status'] == 'Wildtype_Tumor':\n",
    "        prot_df.loc[ind, mut_gene + '_Mutation_Binary'] = 'Wildtype'\n",
    "    else:\n",
    "        prot_df.loc[ind, mut_gene + '_Mutation_Binary'] = 'Mutated'\n",
    "\n",
    "#Drop unneeded columns\n",
    "prot_df = prot_df.drop([mut_gene+'_Mutation', mut_gene+'_Location', mut_gene+'_Mutation_Status','Sample_Status'], axis=1)\n",
    "prot_df = prot_df.dropna(axis=0)\n",
    "prot_df.head()"
   ]
  },
  {
   "cell_type": "markdown",
   "metadata": {},
   "source": [
    "#### Do t-test for significance"
   ]
  },
  {
   "cell_type": "code",
   "execution_count": 53,
   "metadata": {},
   "outputs": [
    {
     "name": "stdout",
     "output_type": "stream",
     "text": [
      "AURKB_proteomics :  0.00011387200579958794\n"
     ]
    },
    {
     "data": {
      "text/html": [
       "<div>\n",
       "<style scoped>\n",
       "    .dataframe tbody tr th:only-of-type {\n",
       "        vertical-align: middle;\n",
       "    }\n",
       "\n",
       "    .dataframe tbody tr th {\n",
       "        vertical-align: top;\n",
       "    }\n",
       "\n",
       "    .dataframe thead th {\n",
       "        text-align: right;\n",
       "    }\n",
       "</style>\n",
       "<table border=\"1\" class=\"dataframe\">\n",
       "  <thead>\n",
       "    <tr style=\"text-align: right;\">\n",
       "      <th></th>\n",
       "      <th>Comparison</th>\n",
       "      <th>P_Value</th>\n",
       "    </tr>\n",
       "  </thead>\n",
       "  <tbody>\n",
       "    <tr>\n",
       "      <th>0</th>\n",
       "      <td>AURKB_proteomics</td>\n",
       "      <td>0.000114</td>\n",
       "    </tr>\n",
       "  </tbody>\n",
       "</table>\n",
       "</div>"
      ],
      "text/plain": [
       "         Comparison   P_Value\n",
       "0  AURKB_proteomics  0.000114"
      ]
     },
     "execution_count": 53,
     "metadata": {},
     "output_type": "execute_result"
    }
   ],
   "source": [
    "results = ut.wrap_ttest(prot_df, comparison_columns=[omics_gene+'_proteomics'], label_column=mut_gene+'_Mutation_Binary', verbose=True)\n",
    "pval = results.loc[0, 'P_Value']\n",
    "results"
   ]
  },
  {
   "cell_type": "code",
   "execution_count": 54,
   "metadata": {},
   "outputs": [
    {
     "data": {
      "text/plain": [
       "<matplotlib.axes._subplots.AxesSubplot at 0x136b2b898>"
      ]
     },
     "execution_count": 54,
     "metadata": {},
     "output_type": "execute_result"
    },
    {
     "data": {
      "image/png": "[encoded data removed]",
      "text/plain": [
       "<Figure size 432x288 with 1 Axes>"
      ]
     },
     "metadata": {
      "needs_background": "light"
     },
     "output_type": "display_data"
    }
   ],
   "source": [
    "sns.boxplot(data=prot_df, y=omics_gene+'_proteomics', x=mut_gene+'_Mutation_Binary',order=['Wildtype','Mutated']).set_title(\"TPX2 proteomic levels vs TP53 Mutation\\nP-Value = \" + str(round(pval, 10)))\n",
    "sns.stripplot(data=prot_df, y=omics_gene+'_proteomics', x=mut_gene+'_Mutation_Binary',order=['Wildtype','Mutated'], dodge=True, jitter=True, color='.3')"
   ]
  },
  {
   "cell_type": "markdown",
   "metadata": {},
   "source": [
    "## CCNB2"
   ]
  },
  {
   "cell_type": "code",
   "execution_count": 55,
   "metadata": {},
   "outputs": [
    {
     "name": "stderr",
     "output_type": "stream",
     "text": [
      "Warning: In joining the somatic_mutation table, no mutations were found for the following samples, so they were filled with Wildtype_Tumor or Wildtype_Normal: 123 samples for the TP53 gene (/anaconda3/lib/python3.6/site-packages/ipykernel_launcher.py, line 4)\n"
     ]
    },
    {
     "data": {
      "text/html": [
       "<div>\n",
       "<style scoped>\n",
       "    .dataframe tbody tr th:only-of-type {\n",
       "        vertical-align: middle;\n",
       "    }\n",
       "\n",
       "    .dataframe tbody tr th {\n",
       "        vertical-align: top;\n",
       "    }\n",
       "\n",
       "    .dataframe thead th {\n",
       "        text-align: right;\n",
       "    }\n",
       "</style>\n",
       "<table border=\"1\" class=\"dataframe\">\n",
       "  <thead>\n",
       "    <tr style=\"text-align: right;\">\n",
       "      <th>Name</th>\n",
       "      <th>CCNB2_proteomics</th>\n",
       "      <th>TP53_Mutation_Binary</th>\n",
       "    </tr>\n",
       "    <tr>\n",
       "      <th>Sample_ID</th>\n",
       "      <th></th>\n",
       "      <th></th>\n",
       "    </tr>\n",
       "  </thead>\n",
       "  <tbody>\n",
       "    <tr>\n",
       "      <th>S001</th>\n",
       "      <td>0.921</td>\n",
       "      <td>Mutated</td>\n",
       "    </tr>\n",
       "    <tr>\n",
       "      <th>S002</th>\n",
       "      <td>0.392</td>\n",
       "      <td>Wildtype</td>\n",
       "    </tr>\n",
       "    <tr>\n",
       "      <th>S003</th>\n",
       "      <td>-0.477</td>\n",
       "      <td>Wildtype</td>\n",
       "    </tr>\n",
       "    <tr>\n",
       "      <th>S005</th>\n",
       "      <td>-0.146</td>\n",
       "      <td>Wildtype</td>\n",
       "    </tr>\n",
       "    <tr>\n",
       "      <th>S006</th>\n",
       "      <td>1.230</td>\n",
       "      <td>Mutated</td>\n",
       "    </tr>\n",
       "  </tbody>\n",
       "</table>\n",
       "</div>"
      ],
      "text/plain": [
       "Name       CCNB2_proteomics TP53_Mutation_Binary\n",
       "Sample_ID                                       \n",
       "S001                  0.921              Mutated\n",
       "S002                  0.392             Wildtype\n",
       "S003                 -0.477             Wildtype\n",
       "S005                 -0.146             Wildtype\n",
       "S006                  1.230              Mutated"
      ]
     },
     "execution_count": 55,
     "metadata": {},
     "output_type": "execute_result"
    }
   ],
   "source": [
    "mut_gene = 'TP53'\n",
    "omics_gene = 'CCNB2'\n",
    "#Join omics to mutations\n",
    "prot_df = en.join_omics_to_mutations(mutations_genes=mut_gene, omics_df_name='proteomics',omics_genes=omics_gene)\n",
    "\n",
    "#Select only tumor samples\n",
    "prot_df = prot_df.loc[prot_df['Sample_Status'] == 'Tumor']\n",
    "\n",
    "#Create binary classification of Mutated/Wildtype\n",
    "for ind, row in prot_df.iterrows():\n",
    "    if row[mut_gene + '_Mutation_Status'] == 'Wildtype_Tumor':\n",
    "        prot_df.loc[ind, mut_gene + '_Mutation_Binary'] = 'Wildtype'\n",
    "    else:\n",
    "        prot_df.loc[ind, mut_gene + '_Mutation_Binary'] = 'Mutated'\n",
    "\n",
    "#Drop unneeded columns\n",
    "prot_df = prot_df.drop([mut_gene+'_Mutation', mut_gene+'_Location', mut_gene+'_Mutation_Status','Sample_Status'], axis=1)\n",
    "prot_df = prot_df.dropna(axis=0)\n",
    "prot_df.head()"
   ]
  },
  {
   "cell_type": "markdown",
   "metadata": {},
   "source": [
    "#### Do t-test for significance"
   ]
  },
  {
   "cell_type": "code",
   "execution_count": 56,
   "metadata": {},
   "outputs": [
    {
     "name": "stdout",
     "output_type": "stream",
     "text": [
      "CCNB2_proteomics :  0.002128978050931532\n"
     ]
    },
    {
     "data": {
      "text/html": [
       "<div>\n",
       "<style scoped>\n",
       "    .dataframe tbody tr th:only-of-type {\n",
       "        vertical-align: middle;\n",
       "    }\n",
       "\n",
       "    .dataframe tbody tr th {\n",
       "        vertical-align: top;\n",
       "    }\n",
       "\n",
       "    .dataframe thead th {\n",
       "        text-align: right;\n",
       "    }\n",
       "</style>\n",
       "<table border=\"1\" class=\"dataframe\">\n",
       "  <thead>\n",
       "    <tr style=\"text-align: right;\">\n",
       "      <th></th>\n",
       "      <th>Comparison</th>\n",
       "      <th>P_Value</th>\n",
       "    </tr>\n",
       "  </thead>\n",
       "  <tbody>\n",
       "    <tr>\n",
       "      <th>0</th>\n",
       "      <td>CCNB2_proteomics</td>\n",
       "      <td>0.002129</td>\n",
       "    </tr>\n",
       "  </tbody>\n",
       "</table>\n",
       "</div>"
      ],
      "text/plain": [
       "         Comparison   P_Value\n",
       "0  CCNB2_proteomics  0.002129"
      ]
     },
     "execution_count": 56,
     "metadata": {},
     "output_type": "execute_result"
    }
   ],
   "source": [
    "results = ut.wrap_ttest(prot_df, comparison_columns=[omics_gene+'_proteomics'], label_column=mut_gene+'_Mutation_Binary', verbose=True)\n",
    "pval = results.loc[0, 'P_Value']\n",
    "results"
   ]
  },
  {
   "cell_type": "code",
   "execution_count": 57,
   "metadata": {},
   "outputs": [
    {
     "data": {
      "text/plain": [
       "<matplotlib.axes._subplots.AxesSubplot at 0x136b431d0>"
      ]
     },
     "execution_count": 57,
     "metadata": {},
     "output_type": "execute_result"
    },
    {
     "data": {
      "image/png": "[encoded data removed]",
      "text/plain": [
       "<Figure size 432x288 with 1 Axes>"
      ]
     },
     "metadata": {
      "needs_background": "light"
     },
     "output_type": "display_data"
    }
   ],
   "source": [
    "sns.boxplot(data=prot_df, y=omics_gene+'_proteomics', x=mut_gene+'_Mutation_Binary',order=['Wildtype','Mutated']).set_title(\"TPX2 proteomic levels vs TP53 Mutation\\nP-Value = \" + str(round(pval, 10)))\n",
    "sns.stripplot(data=prot_df, y=omics_gene+'_proteomics', x=mut_gene+'_Mutation_Binary',order=['Wildtype','Mutated'], dodge=True, jitter=True, color='.3')"
   ]
  },
  {
   "cell_type": "markdown",
   "metadata": {},
   "source": [
    "## RRM2"
   ]
  },
  {
   "cell_type": "code",
   "execution_count": 58,
   "metadata": {},
   "outputs": [
    {
     "name": "stderr",
     "output_type": "stream",
     "text": [
      "Warning: In joining the somatic_mutation table, no mutations were found for the following samples, so they were filled with Wildtype_Tumor or Wildtype_Normal: 123 samples for the TP53 gene (/anaconda3/lib/python3.6/site-packages/ipykernel_launcher.py, line 4)\n"
     ]
    },
    {
     "data": {
      "text/html": [
       "<div>\n",
       "<style scoped>\n",
       "    .dataframe tbody tr th:only-of-type {\n",
       "        vertical-align: middle;\n",
       "    }\n",
       "\n",
       "    .dataframe tbody tr th {\n",
       "        vertical-align: top;\n",
       "    }\n",
       "\n",
       "    .dataframe thead th {\n",
       "        text-align: right;\n",
       "    }\n",
       "</style>\n",
       "<table border=\"1\" class=\"dataframe\">\n",
       "  <thead>\n",
       "    <tr style=\"text-align: right;\">\n",
       "      <th>Name</th>\n",
       "      <th>RRM2_proteomics</th>\n",
       "      <th>TP53_Mutation_Binary</th>\n",
       "    </tr>\n",
       "    <tr>\n",
       "      <th>Sample_ID</th>\n",
       "      <th></th>\n",
       "      <th></th>\n",
       "    </tr>\n",
       "  </thead>\n",
       "  <tbody>\n",
       "    <tr>\n",
       "      <th>S001</th>\n",
       "      <td>0.799</td>\n",
       "      <td>Mutated</td>\n",
       "    </tr>\n",
       "    <tr>\n",
       "      <th>S002</th>\n",
       "      <td>1.210</td>\n",
       "      <td>Wildtype</td>\n",
       "    </tr>\n",
       "    <tr>\n",
       "      <th>S003</th>\n",
       "      <td>0.000</td>\n",
       "      <td>Wildtype</td>\n",
       "    </tr>\n",
       "    <tr>\n",
       "      <th>S005</th>\n",
       "      <td>-0.108</td>\n",
       "      <td>Wildtype</td>\n",
       "    </tr>\n",
       "    <tr>\n",
       "      <th>S006</th>\n",
       "      <td>2.880</td>\n",
       "      <td>Mutated</td>\n",
       "    </tr>\n",
       "  </tbody>\n",
       "</table>\n",
       "</div>"
      ],
      "text/plain": [
       "Name       RRM2_proteomics TP53_Mutation_Binary\n",
       "Sample_ID                                      \n",
       "S001                 0.799              Mutated\n",
       "S002                 1.210             Wildtype\n",
       "S003                 0.000             Wildtype\n",
       "S005                -0.108             Wildtype\n",
       "S006                 2.880              Mutated"
      ]
     },
     "execution_count": 58,
     "metadata": {},
     "output_type": "execute_result"
    }
   ],
   "source": [
    "mut_gene = 'TP53'\n",
    "omics_gene = 'RRM2'\n",
    "#Join omics to mutations\n",
    "prot_df = en.join_omics_to_mutations(mutations_genes=mut_gene, omics_df_name='proteomics',omics_genes=omics_gene)\n",
    "\n",
    "#Select only tumor samples\n",
    "prot_df = prot_df.loc[prot_df['Sample_Status'] == 'Tumor']\n",
    "\n",
    "#Create binary classification of Mutated/Wildtype\n",
    "for ind, row in prot_df.iterrows():\n",
    "    if row[mut_gene + '_Mutation_Status'] == 'Wildtype_Tumor':\n",
    "        prot_df.loc[ind, mut_gene + '_Mutation_Binary'] = 'Wildtype'\n",
    "    else:\n",
    "        prot_df.loc[ind, mut_gene + '_Mutation_Binary'] = 'Mutated'\n",
    "\n",
    "#Drop unneeded columns\n",
    "prot_df = prot_df.drop([mut_gene+'_Mutation', mut_gene+'_Location', mut_gene+'_Mutation_Status','Sample_Status'], axis=1)\n",
    "prot_df = prot_df.dropna(axis=0)\n",
    "prot_df.head()"
   ]
  },
  {
   "cell_type": "markdown",
   "metadata": {},
   "source": [
    "#### Do t-test for significance"
   ]
  },
  {
   "cell_type": "code",
   "execution_count": 59,
   "metadata": {},
   "outputs": [
    {
     "name": "stdout",
     "output_type": "stream",
     "text": [
      "RRM2_proteomics :  0.0003317159100058077\n"
     ]
    },
    {
     "data": {
      "text/html": [
       "<div>\n",
       "<style scoped>\n",
       "    .dataframe tbody tr th:only-of-type {\n",
       "        vertical-align: middle;\n",
       "    }\n",
       "\n",
       "    .dataframe tbody tr th {\n",
       "        vertical-align: top;\n",
       "    }\n",
       "\n",
       "    .dataframe thead th {\n",
       "        text-align: right;\n",
       "    }\n",
       "</style>\n",
       "<table border=\"1\" class=\"dataframe\">\n",
       "  <thead>\n",
       "    <tr style=\"text-align: right;\">\n",
       "      <th></th>\n",
       "      <th>Comparison</th>\n",
       "      <th>P_Value</th>\n",
       "    </tr>\n",
       "  </thead>\n",
       "  <tbody>\n",
       "    <tr>\n",
       "      <th>0</th>\n",
       "      <td>RRM2_proteomics</td>\n",
       "      <td>0.000332</td>\n",
       "    </tr>\n",
       "  </tbody>\n",
       "</table>\n",
       "</div>"
      ],
      "text/plain": [
       "        Comparison   P_Value\n",
       "0  RRM2_proteomics  0.000332"
      ]
     },
     "execution_count": 59,
     "metadata": {},
     "output_type": "execute_result"
    }
   ],
   "source": [
    "results = ut.wrap_ttest(prot_df, comparison_columns=[omics_gene+'_proteomics'], label_column=mut_gene+'_Mutation_Binary', verbose=True)\n",
    "pval = results.loc[0, 'P_Value']\n",
    "results"
   ]
  },
  {
   "cell_type": "code",
   "execution_count": 60,
   "metadata": {},
   "outputs": [
    {
     "data": {
      "text/plain": [
       "<matplotlib.axes._subplots.AxesSubplot at 0x136b547f0>"
      ]
     },
     "execution_count": 60,
     "metadata": {},
     "output_type": "execute_result"
    },
    {
     "data": {
      "image/png": "[encoded data removed]",
      "text/plain": [
       "<Figure size 432x288 with 1 Axes>"
      ]
     },
     "metadata": {
      "needs_background": "light"
     },
     "output_type": "display_data"
    }
   ],
   "source": [
    "sns.boxplot(data=prot_df, y=omics_gene+'_proteomics', x=mut_gene+'_Mutation_Binary',order=['Wildtype','Mutated']).set_title(\"TPX2 proteomic levels vs TP53 Mutation\\nP-Value = \" + str(round(pval, 10)))\n",
    "sns.stripplot(data=prot_df, y=omics_gene+'_proteomics', x=mut_gene+'_Mutation_Binary',order=['Wildtype','Mutated'], dodge=True, jitter=True, color='.3')"
   ]
  },
  {
   "cell_type": "markdown",
   "metadata": {},
   "source": [
    "## RACGAP1"
   ]
  },
  {
   "cell_type": "code",
   "execution_count": 61,
   "metadata": {},
   "outputs": [
    {
     "name": "stderr",
     "output_type": "stream",
     "text": [
      "Warning: In joining the somatic_mutation table, no mutations were found for the following samples, so they were filled with Wildtype_Tumor or Wildtype_Normal: 123 samples for the TP53 gene (/anaconda3/lib/python3.6/site-packages/ipykernel_launcher.py, line 4)\n"
     ]
    },
    {
     "data": {
      "text/html": [
       "<div>\n",
       "<style scoped>\n",
       "    .dataframe tbody tr th:only-of-type {\n",
       "        vertical-align: middle;\n",
       "    }\n",
       "\n",
       "    .dataframe tbody tr th {\n",
       "        vertical-align: top;\n",
       "    }\n",
       "\n",
       "    .dataframe thead th {\n",
       "        text-align: right;\n",
       "    }\n",
       "</style>\n",
       "<table border=\"1\" class=\"dataframe\">\n",
       "  <thead>\n",
       "    <tr style=\"text-align: right;\">\n",
       "      <th>Name</th>\n",
       "      <th>RACGAP1_proteomics</th>\n",
       "      <th>TP53_Mutation_Binary</th>\n",
       "    </tr>\n",
       "    <tr>\n",
       "      <th>Sample_ID</th>\n",
       "      <th></th>\n",
       "      <th></th>\n",
       "    </tr>\n",
       "  </thead>\n",
       "  <tbody>\n",
       "    <tr>\n",
       "      <th>S001</th>\n",
       "      <td>0.299</td>\n",
       "      <td>Mutated</td>\n",
       "    </tr>\n",
       "    <tr>\n",
       "      <th>S002</th>\n",
       "      <td>2.310</td>\n",
       "      <td>Wildtype</td>\n",
       "    </tr>\n",
       "    <tr>\n",
       "      <th>S003</th>\n",
       "      <td>-0.193</td>\n",
       "      <td>Wildtype</td>\n",
       "    </tr>\n",
       "    <tr>\n",
       "      <th>S005</th>\n",
       "      <td>0.322</td>\n",
       "      <td>Wildtype</td>\n",
       "    </tr>\n",
       "    <tr>\n",
       "      <th>S006</th>\n",
       "      <td>0.402</td>\n",
       "      <td>Mutated</td>\n",
       "    </tr>\n",
       "  </tbody>\n",
       "</table>\n",
       "</div>"
      ],
      "text/plain": [
       "Name       RACGAP1_proteomics TP53_Mutation_Binary\n",
       "Sample_ID                                         \n",
       "S001                    0.299              Mutated\n",
       "S002                    2.310             Wildtype\n",
       "S003                   -0.193             Wildtype\n",
       "S005                    0.322             Wildtype\n",
       "S006                    0.402              Mutated"
      ]
     },
     "execution_count": 61,
     "metadata": {},
     "output_type": "execute_result"
    }
   ],
   "source": [
    "mut_gene = 'TP53'\n",
    "omics_gene = 'RACGAP1'\n",
    "#Join omics to mutations\n",
    "prot_df = en.join_omics_to_mutations(mutations_genes=mut_gene, omics_df_name='proteomics',omics_genes=omics_gene)\n",
    "\n",
    "#Select only tumor samples\n",
    "prot_df = prot_df.loc[prot_df['Sample_Status'] == 'Tumor']\n",
    "\n",
    "#Create binary classification of Mutated/Wildtype\n",
    "for ind, row in prot_df.iterrows():\n",
    "    if row[mut_gene + '_Mutation_Status'] == 'Wildtype_Tumor':\n",
    "        prot_df.loc[ind, mut_gene + '_Mutation_Binary'] = 'Wildtype'\n",
    "    else:\n",
    "        prot_df.loc[ind, mut_gene + '_Mutation_Binary'] = 'Mutated'\n",
    "\n",
    "#Drop unneeded columns\n",
    "prot_df = prot_df.drop([mut_gene+'_Mutation', mut_gene+'_Location', mut_gene+'_Mutation_Status','Sample_Status'], axis=1)\n",
    "prot_df = prot_df.dropna(axis=0)\n",
    "prot_df.head()"
   ]
  },
  {
   "cell_type": "markdown",
   "metadata": {},
   "source": [
    "#### Do t-test for significance"
   ]
  },
  {
   "cell_type": "code",
   "execution_count": 63,
   "metadata": {},
   "outputs": [
    {
     "name": "stdout",
     "output_type": "stream",
     "text": [
      "RACGAP1_proteomics :  0.42992502145109\n",
      "No significant comparisons.\n"
     ]
    }
   ],
   "source": [
    "results = ut.wrap_ttest(prot_df, comparison_columns=[omics_gene+'_proteomics'], label_column=mut_gene+'_Mutation_Binary', verbose=True)\n",
    "results"
   ]
  },
  {
   "cell_type": "code",
   "execution_count": 64,
   "metadata": {},
   "outputs": [
    {
     "data": {
      "text/plain": [
       "<matplotlib.axes._subplots.AxesSubplot at 0x1360d7780>"
      ]
     },
     "execution_count": 64,
     "metadata": {},
     "output_type": "execute_result"
    },
    {
     "data": {
      "image/png": "[encoded data removed]",
      "text/plain": [
       "<Figure size 432x288 with 1 Axes>"
      ]
     },
     "metadata": {
      "needs_background": "light"
     },
     "output_type": "display_data"
    }
   ],
   "source": [
    "sns.boxplot(data=prot_df, y=omics_gene+'_proteomics', x=mut_gene+'_Mutation_Binary',order=['Wildtype','Mutated']).set_title(\"TPX2 proteomic levels vs TP53 Mutation\")\n",
    "sns.stripplot(data=prot_df, y=omics_gene+'_proteomics', x=mut_gene+'_Mutation_Binary',order=['Wildtype','Mutated'], dodge=True, jitter=True, color='.3')"
   ]
  },
  {
   "cell_type": "markdown",
   "metadata": {},
   "source": [
    "## CENPF"
   ]
  },
  {
   "cell_type": "code",
   "execution_count": 65,
   "metadata": {},
   "outputs": [
    {
     "name": "stderr",
     "output_type": "stream",
     "text": [
      "Warning: In joining the somatic_mutation table, no mutations were found for the following samples, so they were filled with Wildtype_Tumor or Wildtype_Normal: 123 samples for the TP53 gene (/anaconda3/lib/python3.6/site-packages/ipykernel_launcher.py, line 4)\n"
     ]
    },
    {
     "data": {
      "text/html": [
       "<div>\n",
       "<style scoped>\n",
       "    .dataframe tbody tr th:only-of-type {\n",
       "        vertical-align: middle;\n",
       "    }\n",
       "\n",
       "    .dataframe tbody tr th {\n",
       "        vertical-align: top;\n",
       "    }\n",
       "\n",
       "    .dataframe thead th {\n",
       "        text-align: right;\n",
       "    }\n",
       "</style>\n",
       "<table border=\"1\" class=\"dataframe\">\n",
       "  <thead>\n",
       "    <tr style=\"text-align: right;\">\n",
       "      <th>Name</th>\n",
       "      <th>CENPF_proteomics</th>\n",
       "      <th>TP53_Mutation_Binary</th>\n",
       "    </tr>\n",
       "    <tr>\n",
       "      <th>Sample_ID</th>\n",
       "      <th></th>\n",
       "      <th></th>\n",
       "    </tr>\n",
       "  </thead>\n",
       "  <tbody>\n",
       "    <tr>\n",
       "      <th>S001</th>\n",
       "      <td>0.599</td>\n",
       "      <td>Mutated</td>\n",
       "    </tr>\n",
       "    <tr>\n",
       "      <th>S002</th>\n",
       "      <td>0.570</td>\n",
       "      <td>Wildtype</td>\n",
       "    </tr>\n",
       "    <tr>\n",
       "      <th>S003</th>\n",
       "      <td>0.138</td>\n",
       "      <td>Wildtype</td>\n",
       "    </tr>\n",
       "    <tr>\n",
       "      <th>S005</th>\n",
       "      <td>-0.284</td>\n",
       "      <td>Wildtype</td>\n",
       "    </tr>\n",
       "    <tr>\n",
       "      <th>S006</th>\n",
       "      <td>1.400</td>\n",
       "      <td>Mutated</td>\n",
       "    </tr>\n",
       "  </tbody>\n",
       "</table>\n",
       "</div>"
      ],
      "text/plain": [
       "Name       CENPF_proteomics TP53_Mutation_Binary\n",
       "Sample_ID                                       \n",
       "S001                  0.599              Mutated\n",
       "S002                  0.570             Wildtype\n",
       "S003                  0.138             Wildtype\n",
       "S005                 -0.284             Wildtype\n",
       "S006                  1.400              Mutated"
      ]
     },
     "execution_count": 65,
     "metadata": {},
     "output_type": "execute_result"
    }
   ],
   "source": [
    "mut_gene = 'TP53'\n",
    "omics_gene = 'CENPF'\n",
    "#Join omics to mutations\n",
    "prot_df = en.join_omics_to_mutations(mutations_genes=mut_gene, omics_df_name='proteomics',omics_genes=omics_gene)\n",
    "\n",
    "#Select only tumor samples\n",
    "prot_df = prot_df.loc[prot_df['Sample_Status'] == 'Tumor']\n",
    "\n",
    "#Create binary classification of Mutated/Wildtype\n",
    "for ind, row in prot_df.iterrows():\n",
    "    if row[mut_gene + '_Mutation_Status'] == 'Wildtype_Tumor':\n",
    "        prot_df.loc[ind, mut_gene + '_Mutation_Binary'] = 'Wildtype'\n",
    "    else:\n",
    "        prot_df.loc[ind, mut_gene + '_Mutation_Binary'] = 'Mutated'\n",
    "\n",
    "#Drop unneeded columns\n",
    "prot_df = prot_df.drop([mut_gene+'_Mutation', mut_gene+'_Location', mut_gene+'_Mutation_Status','Sample_Status'], axis=1)\n",
    "prot_df = prot_df.dropna(axis=0)\n",
    "prot_df.head()"
   ]
  },
  {
   "cell_type": "markdown",
   "metadata": {},
   "source": [
    "#### Do t-test for significance"
   ]
  },
  {
   "cell_type": "code",
   "execution_count": 66,
   "metadata": {},
   "outputs": [
    {
     "name": "stdout",
     "output_type": "stream",
     "text": [
      "CENPF_proteomics :  0.00011353226992534302\n"
     ]
    },
    {
     "data": {
      "text/html": [
       "<div>\n",
       "<style scoped>\n",
       "    .dataframe tbody tr th:only-of-type {\n",
       "        vertical-align: middle;\n",
       "    }\n",
       "\n",
       "    .dataframe tbody tr th {\n",
       "        vertical-align: top;\n",
       "    }\n",
       "\n",
       "    .dataframe thead th {\n",
       "        text-align: right;\n",
       "    }\n",
       "</style>\n",
       "<table border=\"1\" class=\"dataframe\">\n",
       "  <thead>\n",
       "    <tr style=\"text-align: right;\">\n",
       "      <th></th>\n",
       "      <th>Comparison</th>\n",
       "      <th>P_Value</th>\n",
       "    </tr>\n",
       "  </thead>\n",
       "  <tbody>\n",
       "    <tr>\n",
       "      <th>0</th>\n",
       "      <td>CENPF_proteomics</td>\n",
       "      <td>0.000114</td>\n",
       "    </tr>\n",
       "  </tbody>\n",
       "</table>\n",
       "</div>"
      ],
      "text/plain": [
       "         Comparison   P_Value\n",
       "0  CENPF_proteomics  0.000114"
      ]
     },
     "execution_count": 66,
     "metadata": {},
     "output_type": "execute_result"
    }
   ],
   "source": [
    "results = ut.wrap_ttest(prot_df, comparison_columns=[omics_gene+'_proteomics'], label_column=mut_gene+'_Mutation_Binary', verbose=True)\n",
    "pval = results.loc[0, 'P_Value']\n",
    "results"
   ]
  },
  {
   "cell_type": "code",
   "execution_count": 67,
   "metadata": {},
   "outputs": [
    {
     "data": {
      "text/plain": [
       "<matplotlib.axes._subplots.AxesSubplot at 0x1360eff98>"
      ]
     },
     "execution_count": 67,
     "metadata": {},
     "output_type": "execute_result"
    },
    {
     "data": {
      "image/png": "[encoded data removed]",
      "text/plain": [
       "<Figure size 432x288 with 1 Axes>"
      ]
     },
     "metadata": {
      "needs_background": "light"
     },
     "output_type": "display_data"
    }
   ],
   "source": [
    "sns.boxplot(data=prot_df, y=omics_gene+'_proteomics', x=mut_gene+'_Mutation_Binary',order=['Wildtype','Mutated']).set_title(\"TPX2 proteomic levels vs TP53 Mutation\\nP-Value = \" + str(round(pval, 10)))\n",
    "sns.stripplot(data=prot_df, y=omics_gene+'_proteomics', x=mut_gene+'_Mutation_Binary',order=['Wildtype','Mutated'], dodge=True, jitter=True, color='.3')"
   ]
  },
  {
   "cell_type": "markdown",
   "metadata": {},
   "source": [
    "## PRC1"
   ]
  },
  {
   "cell_type": "code",
   "execution_count": 68,
   "metadata": {},
   "outputs": [
    {
     "name": "stderr",
     "output_type": "stream",
     "text": [
      "Warning: In joining the somatic_mutation table, no mutations were found for the following samples, so they were filled with Wildtype_Tumor or Wildtype_Normal: 123 samples for the TP53 gene (/anaconda3/lib/python3.6/site-packages/ipykernel_launcher.py, line 4)\n"
     ]
    },
    {
     "data": {
      "text/html": [
       "<div>\n",
       "<style scoped>\n",
       "    .dataframe tbody tr th:only-of-type {\n",
       "        vertical-align: middle;\n",
       "    }\n",
       "\n",
       "    .dataframe tbody tr th {\n",
       "        vertical-align: top;\n",
       "    }\n",
       "\n",
       "    .dataframe thead th {\n",
       "        text-align: right;\n",
       "    }\n",
       "</style>\n",
       "<table border=\"1\" class=\"dataframe\">\n",
       "  <thead>\n",
       "    <tr style=\"text-align: right;\">\n",
       "      <th>Name</th>\n",
       "      <th>PRC1_proteomics</th>\n",
       "      <th>TP53_Mutation_Binary</th>\n",
       "    </tr>\n",
       "    <tr>\n",
       "      <th>Sample_ID</th>\n",
       "      <th></th>\n",
       "      <th></th>\n",
       "    </tr>\n",
       "  </thead>\n",
       "  <tbody>\n",
       "    <tr>\n",
       "      <th>S001</th>\n",
       "      <td>0.3270</td>\n",
       "      <td>Mutated</td>\n",
       "    </tr>\n",
       "    <tr>\n",
       "      <th>S002</th>\n",
       "      <td>1.4900</td>\n",
       "      <td>Wildtype</td>\n",
       "    </tr>\n",
       "    <tr>\n",
       "      <th>S003</th>\n",
       "      <td>-0.6590</td>\n",
       "      <td>Wildtype</td>\n",
       "    </tr>\n",
       "    <tr>\n",
       "      <th>S005</th>\n",
       "      <td>0.0826</td>\n",
       "      <td>Wildtype</td>\n",
       "    </tr>\n",
       "    <tr>\n",
       "      <th>S006</th>\n",
       "      <td>0.5380</td>\n",
       "      <td>Mutated</td>\n",
       "    </tr>\n",
       "  </tbody>\n",
       "</table>\n",
       "</div>"
      ],
      "text/plain": [
       "Name       PRC1_proteomics TP53_Mutation_Binary\n",
       "Sample_ID                                      \n",
       "S001                0.3270              Mutated\n",
       "S002                1.4900             Wildtype\n",
       "S003               -0.6590             Wildtype\n",
       "S005                0.0826             Wildtype\n",
       "S006                0.5380              Mutated"
      ]
     },
     "execution_count": 68,
     "metadata": {},
     "output_type": "execute_result"
    }
   ],
   "source": [
    "mut_gene = 'TP53'\n",
    "omics_gene = 'PRC1'\n",
    "#Join omics to mutations\n",
    "prot_df = en.join_omics_to_mutations(mutations_genes=mut_gene, omics_df_name='proteomics',omics_genes=omics_gene)\n",
    "\n",
    "#Select only tumor samples\n",
    "prot_df = prot_df.loc[prot_df['Sample_Status'] == 'Tumor']\n",
    "\n",
    "#Create binary classification of Mutated/Wildtype\n",
    "for ind, row in prot_df.iterrows():\n",
    "    if row[mut_gene + '_Mutation_Status'] == 'Wildtype_Tumor':\n",
    "        prot_df.loc[ind, mut_gene + '_Mutation_Binary'] = 'Wildtype'\n",
    "    else:\n",
    "        prot_df.loc[ind, mut_gene + '_Mutation_Binary'] = 'Mutated'\n",
    "\n",
    "#Drop unneeded columns\n",
    "prot_df = prot_df.drop([mut_gene+'_Mutation', mut_gene+'_Location', mut_gene+'_Mutation_Status','Sample_Status'], axis=1)\n",
    "prot_df = prot_df.dropna(axis=0)\n",
    "prot_df.head()"
   ]
  },
  {
   "cell_type": "markdown",
   "metadata": {},
   "source": [
    "#### Do t-test for significance"
   ]
  },
  {
   "cell_type": "code",
   "execution_count": 70,
   "metadata": {},
   "outputs": [
    {
     "name": "stdout",
     "output_type": "stream",
     "text": [
      "PRC1_proteomics :  0.09391207805655406\n",
      "No significant comparisons.\n"
     ]
    }
   ],
   "source": [
    "results = ut.wrap_ttest(prot_df, comparison_columns=[omics_gene+'_proteomics'], label_column=mut_gene+'_Mutation_Binary', verbose=True)\n",
    "results"
   ]
  },
  {
   "cell_type": "code",
   "execution_count": 71,
   "metadata": {},
   "outputs": [
    {
     "data": {
      "text/plain": [
       "<matplotlib.axes._subplots.AxesSubplot at 0x136107860>"
      ]
     },
     "execution_count": 71,
     "metadata": {},
     "output_type": "execute_result"
    },
    {
     "data": {
      "image/png": "[encoded data removed]",
      "text/plain": [
       "<Figure size 432x288 with 1 Axes>"
      ]
     },
     "metadata": {
      "needs_background": "light"
     },
     "output_type": "display_data"
    }
   ],
   "source": [
    "sns.boxplot(data=prot_df, y=omics_gene+'_proteomics', x=mut_gene+'_Mutation_Binary',order=['Wildtype','Mutated']).set_title(\"TPX2 proteomic levels vs TP53 Mutation\")\n",
    "sns.stripplot(data=prot_df, y=omics_gene+'_proteomics', x=mut_gene+'_Mutation_Binary',order=['Wildtype','Mutated'], dodge=True, jitter=True, color='.3')"
   ]
  }
 ],
 "metadata": {
  "kernelspec": {
   "display_name": "Python 3",
   "language": "python",
   "name": "python3"
  },
  "language_info": {
   "codemirror_mode": {
    "name": "ipython",
    "version": 3
   },
   "file_extension": ".py",
   "mimetype": "text/x-python",
   "name": "python",
   "nbconvert_exporter": "python",
   "pygments_lexer": "ipython3",
   "version": "3.6.8"
  }
 },
 "nbformat": 4,
 "nbformat_minor": 2
}
