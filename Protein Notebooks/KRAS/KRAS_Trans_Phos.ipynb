{
 "cells": [
  {
   "cell_type": "markdown",
   "metadata": {},
   "source": [
    "# KRAS Mutation Trans Effect on Phosphoproteomics"
   ]
  },
  {
   "cell_type": "markdown",
   "metadata": {},
   "source": [
    "This notebook analyzes the trans effect of KRAS mutation on interacting and other proteins Phosphoproteomics, in Endometrial, Colon, and Ovarian cancer."
   ]
  },
  {
   "cell_type": "markdown",
   "metadata": {},
   "source": [
    "### Library Imports"
   ]
  },
  {
   "cell_type": "code",
   "execution_count": 1,
   "metadata": {},
   "outputs": [
    {
     "name": "stdout",
     "output_type": "stream",
     "text": [
      "                                    \r"
     ]
    }
   ],
   "source": [
    "import pandas as pd\n",
    "import numpy as np\n",
    "import scipy.stats\n",
    "\n",
    "import warnings\n",
    "warnings.filterwarnings(\"ignore\")\n",
    "\n",
    "import cptac\n",
    "import cptac.algorithms as al\n",
    "\n",
    "en = cptac.Endometrial()\n",
    "co = cptac.Colon()\n",
    "ov = cptac.Ovarian()"
   ]
  },
  {
   "cell_type": "markdown",
   "metadata": {},
   "source": [
    "### Select Gene"
   ]
  },
  {
   "cell_type": "code",
   "execution_count": 2,
   "metadata": {},
   "outputs": [],
   "source": [
    "gene = \"KRAS\""
   ]
  },
  {
   "cell_type": "markdown",
   "metadata": {},
   "source": [
    "### Investigate Proteomics, Phosphoproteomics, Acetylproteomics, or Transcriptomics"
   ]
  },
  {
   "cell_type": "code",
   "execution_count": 3,
   "metadata": {},
   "outputs": [],
   "source": [
    "#omics = \"proteomics\"\n",
    "#omics = \"transcriptomics\"\n",
    "omics = \"phosphoproteomics\"\n",
    "#omics = \"acetylproteomics\""
   ]
  },
  {
   "cell_type": "markdown",
   "metadata": {},
   "source": [
    "### Track all significant comparisons in Dataframe"
   ]
  },
  {
   "cell_type": "code",
   "execution_count": 4,
   "metadata": {},
   "outputs": [],
   "source": [
    "all_significant_comparisons = pd.DataFrame(columns=['Cancer_Type', 'Gene', 'Comparison','Interacting_Protein','P_Value'])"
   ]
  },
  {
   "cell_type": "code",
   "execution_count": 5,
   "metadata": {},
   "outputs": [],
   "source": [
    "def add_to_all_significant_comparisons(df, cancer, interacting, all_sig_comp):\n",
    "    expanded = df\n",
    "    expanded['Gene'] = gene\n",
    "    expanded['Cancer_Type'] = cancer\n",
    "    expanded['Interacting_Protein'] = interacting\n",
    "    \n",
    "    updated_all_comparisons = pd.concat([all_sig_comp, expanded], sort=False)\n",
    "    \n",
    "    return updated_all_comparisons"
   ]
  },
  {
   "cell_type": "markdown",
   "metadata": {},
   "source": [
    "# Interacting Proteins: Phosphoproteomics"
   ]
  },
  {
   "cell_type": "markdown",
   "metadata": {},
   "source": [
    "### Generate interacting protein list"
   ]
  },
  {
   "cell_type": "code",
   "execution_count": 6,
   "metadata": {},
   "outputs": [
    {
     "name": "stdout",
     "output_type": "stream",
     "text": [
      "Interacting Proteins:\n",
      "RAF1\n",
      "MAPK1\n",
      "KRAS\n",
      "MAP2K2\n",
      "MAPK3\n",
      "PIK3CA\n",
      "EGF\n",
      "ERBB3\n",
      "ERBB2\n",
      "EGFR\n",
      "BRAF\n",
      "PIK3CB\n",
      "ARAF\n",
      "MAP2K1\n",
      "PTPN11\n",
      "RET\n",
      "NF1\n",
      "PIK3CG\n",
      "NRAS\n",
      "RALGDS\n",
      "SRC\n",
      "GRB2\n",
      "SOS1\n",
      "HRAS\n",
      "CDKN2A\n",
      "PRRT2\n",
      "RAP1GDS1\n",
      "HNRNPC\n",
      "RASSF2\n",
      "RASSF5\n",
      "CALM1\n"
     ]
    }
   ],
   "source": [
    "'''Use get interacting proteins method to generate list of interacting proteins'''\n",
    "interacting_proteins = al.get_interacting_proteins(gene)\n",
    "\n",
    "print(\"Interacting Proteins:\")\n",
    "for interacting_protein in interacting_proteins:\n",
    "    print(interacting_protein)"
   ]
  },
  {
   "cell_type": "markdown",
   "metadata": {},
   "source": [
    "## Endometrial"
   ]
  },
  {
   "cell_type": "markdown",
   "metadata": {},
   "source": [
    "### Test for significant comparisons in any of interacting proteins"
   ]
  },
  {
   "cell_type": "code",
   "execution_count": 7,
   "metadata": {},
   "outputs": [
    {
     "name": "stdout",
     "output_type": "stream",
     "text": [
      "EGF did not match any columns in phosphoproteomics dataframe. EGF_phosphoproteomics column inserted, but filled with NaN.\n",
      "PIK3CB did not match any columns in phosphoproteomics dataframe. PIK3CB_phosphoproteomics column inserted, but filled with NaN.\n",
      "RET did not match any columns in phosphoproteomics dataframe. RET_phosphoproteomics column inserted, but filled with NaN.\n",
      "HRAS did not match any columns in phosphoproteomics dataframe. HRAS_phosphoproteomics column inserted, but filled with NaN.\n",
      "CDKN2A did not match any columns in phosphoproteomics dataframe. CDKN2A_phosphoproteomics column inserted, but filled with NaN.\n",
      "PRRT2 did not match any columns in phosphoproteomics dataframe. PRRT2_phosphoproteomics column inserted, but filled with NaN.\n",
      "CALM1 did not match any columns in phosphoproteomics dataframe. CALM1_phosphoproteomics column inserted, but filled with NaN.\n",
      "Doing t-test comparisons\n",
      "\n",
      "                    Comparison   P_Value\n",
      "0  RAF1-T330_phosphoproteomics  0.000008\n",
      "1  ARAF-S260_phosphoproteomics  0.000021\n",
      "\n",
      "\n",
      "\n"
     ]
    }
   ],
   "source": [
    "'''Create dataframe in order to do comparisons with wrap_ttest'''\n",
    "protdf = en.join_omics_to_mutations(mutations_genes=[gene], omics_df_name=omics, omics_genes=interacting_proteins)\n",
    "protdf = protdf.loc[protdf['Sample_Status'] == 'Tumor']\n",
    "\n",
    "'''Create the binary valued column needed to do the comparison'''\n",
    "for ind, row in protdf.iterrows():\n",
    "    if row[gene+\"_Mutation_Status\"] != 'Wildtype_Tumor':\n",
    "        protdf.at[ind,'Label'] = 'Mutated'\n",
    "    else:\n",
    "        protdf.at[ind,'Label'] = 'Wildtype'\n",
    "\n",
    "'''Format the dataframe correctly'''\n",
    "protdf = protdf.drop(gene+\"_Mutation\",axis=1)\n",
    "protdf = protdf.drop(gene+\"_Location\",axis=1)\n",
    "protdf = protdf.drop(gene+\"_Mutation_Status\", axis=1)\n",
    "protdf = protdf.drop(\"Sample_Status\",axis=1)\n",
    "\n",
    "\n",
    "'''Make list of columns to be compared using t-tests'''\n",
    "col_list = list(protdf.columns)\n",
    "col_list.remove('Label')\n",
    "\n",
    "print(\"Doing t-test comparisons\\n\")\n",
    "\n",
    "'''Call wrap_ttest, pass in formatted dataframe'''\n",
    "wrap_results = al.wrap_ttest(protdf, 'Label', col_list)\n",
    "\n",
    "'''Print results, if anything significant was found'''\n",
    "if wrap_results is not None:\n",
    "        print(wrap_results)\n",
    "        print(\"\\n\\n\")\n",
    "        \n",
    "        all_significant_comparisons = add_to_all_significant_comparisons(wrap_results, \"Endometrial\", True, all_significant_comparisons)\n"
   ]
  },
  {
   "cell_type": "markdown",
   "metadata": {},
   "source": [
    "## Colon"
   ]
  },
  {
   "cell_type": "markdown",
   "metadata": {},
   "source": [
    "### Test for significant comparisons in any of interacting proteins"
   ]
  },
  {
   "cell_type": "code",
   "execution_count": 8,
   "metadata": {},
   "outputs": [
    {
     "name": "stdout",
     "output_type": "stream",
     "text": [
      "RAF1 did not match any columns in phosphoproteomics dataframe. RAF1_phosphoproteomics column inserted, but filled with NaN.\n",
      "MAPK1 did not match any columns in phosphoproteomics dataframe. MAPK1_phosphoproteomics column inserted, but filled with NaN.\n",
      "KRAS did not match any columns in phosphoproteomics dataframe. KRAS_phosphoproteomics column inserted, but filled with NaN.\n",
      "MAP2K2 did not match any columns in phosphoproteomics dataframe. MAP2K2_phosphoproteomics column inserted, but filled with NaN.\n",
      "MAPK3 did not match any columns in phosphoproteomics dataframe. MAPK3_phosphoproteomics column inserted, but filled with NaN.\n",
      "PIK3CA did not match any columns in phosphoproteomics dataframe. PIK3CA_phosphoproteomics column inserted, but filled with NaN.\n",
      "EGF did not match any columns in phosphoproteomics dataframe. EGF_phosphoproteomics column inserted, but filled with NaN.\n",
      "ERBB3 did not match any columns in phosphoproteomics dataframe. ERBB3_phosphoproteomics column inserted, but filled with NaN.\n",
      "ERBB2 did not match any columns in phosphoproteomics dataframe. ERBB2_phosphoproteomics column inserted, but filled with NaN.\n",
      "EGFR did not match any columns in phosphoproteomics dataframe. EGFR_phosphoproteomics column inserted, but filled with NaN.\n",
      "BRAF did not match any columns in phosphoproteomics dataframe. BRAF_phosphoproteomics column inserted, but filled with NaN.\n",
      "PIK3CB did not match any columns in phosphoproteomics dataframe. PIK3CB_phosphoproteomics column inserted, but filled with NaN.\n",
      "ARAF did not match any columns in phosphoproteomics dataframe. ARAF_phosphoproteomics column inserted, but filled with NaN.\n",
      "MAP2K1 did not match any columns in phosphoproteomics dataframe. MAP2K1_phosphoproteomics column inserted, but filled with NaN.\n",
      "PTPN11 did not match any columns in phosphoproteomics dataframe. PTPN11_phosphoproteomics column inserted, but filled with NaN.\n",
      "RET did not match any columns in phosphoproteomics dataframe. RET_phosphoproteomics column inserted, but filled with NaN.\n",
      "NF1 did not match any columns in phosphoproteomics dataframe. NF1_phosphoproteomics column inserted, but filled with NaN.\n",
      "PIK3CG did not match any columns in phosphoproteomics dataframe. PIK3CG_phosphoproteomics column inserted, but filled with NaN.\n",
      "NRAS did not match any columns in phosphoproteomics dataframe. NRAS_phosphoproteomics column inserted, but filled with NaN.\n",
      "RALGDS did not match any columns in phosphoproteomics dataframe. RALGDS_phosphoproteomics column inserted, but filled with NaN.\n",
      "SRC did not match any columns in phosphoproteomics dataframe. SRC_phosphoproteomics column inserted, but filled with NaN.\n",
      "GRB2 did not match any columns in phosphoproteomics dataframe. GRB2_phosphoproteomics column inserted, but filled with NaN.\n",
      "SOS1 did not match any columns in phosphoproteomics dataframe. SOS1_phosphoproteomics column inserted, but filled with NaN.\n",
      "HRAS did not match any columns in phosphoproteomics dataframe. HRAS_phosphoproteomics column inserted, but filled with NaN.\n",
      "CDKN2A did not match any columns in phosphoproteomics dataframe. CDKN2A_phosphoproteomics column inserted, but filled with NaN.\n",
      "PRRT2 did not match any columns in phosphoproteomics dataframe. PRRT2_phosphoproteomics column inserted, but filled with NaN.\n",
      "RAP1GDS1 did not match any columns in phosphoproteomics dataframe. RAP1GDS1_phosphoproteomics column inserted, but filled with NaN.\n",
      "HNRNPC did not match any columns in phosphoproteomics dataframe. HNRNPC_phosphoproteomics column inserted, but filled with NaN.\n",
      "RASSF2 did not match any columns in phosphoproteomics dataframe. RASSF2_phosphoproteomics column inserted, but filled with NaN.\n",
      "RASSF5 did not match any columns in phosphoproteomics dataframe. RASSF5_phosphoproteomics column inserted, but filled with NaN.\n",
      "CALM1 did not match any columns in phosphoproteomics dataframe. CALM1_phosphoproteomics column inserted, but filled with NaN.\n",
      "Doing t-test comparisons\n",
      "\n",
      "No significant comparisons.\n"
     ]
    }
   ],
   "source": [
    "'''Create dataframe in order to do comparisons with wrap_ttest'''\n",
    "protdf = co.join_omics_to_mutations(mutations_genes=[gene], omics_df_name=omics, omics_genes=interacting_proteins)\n",
    "protdf = protdf.loc[protdf['Sample_Status'] == 'Tumor']\n",
    "\n",
    "'''Create the binary valued column needed to do the comparison'''\n",
    "for ind, row in protdf.iterrows():\n",
    "    if row[gene+\"_Mutation_Status\"] != 'Wildtype_Tumor':\n",
    "        protdf.at[ind,'Label'] = 'Mutated'\n",
    "    else:\n",
    "        protdf.at[ind,'Label'] = 'Wildtype'\n",
    "\n",
    "'''Format the dataframe correctly'''\n",
    "protdf = protdf.drop(gene+\"_Mutation\",axis=1)\n",
    "protdf = protdf.drop(gene+\"_Location\",axis=1)\n",
    "protdf = protdf.drop(gene+\"_Mutation_Status\", axis=1)\n",
    "protdf = protdf.drop(\"Sample_Status\",axis=1)\n",
    "\n",
    "'''Make list of columns to be compared using t-tests'''\n",
    "col_list = list(protdf.columns)\n",
    "col_list.remove('Label')\n",
    "\n",
    "print(\"Doing t-test comparisons\\n\")\n",
    "\n",
    "'''Call wrap_ttest, pass in formatted dataframe'''\n",
    "wrap_results = al.wrap_ttest(protdf, 'Label', col_list)\n",
    "\n",
    "'''Print results, if anything significant was found'''\n",
    "if wrap_results is not None:\n",
    "        print(wrap_results)\n",
    "        print(\"\\n\\n\")\n",
    "        \n",
    "        all_significant_comparisons = add_to_all_significant_comparisons(wrap_results, \"Colon\", True, all_significant_comparisons)\n"
   ]
  },
  {
   "cell_type": "markdown",
   "metadata": {},
   "source": [
    "## Ovarian"
   ]
  },
  {
   "cell_type": "code",
   "execution_count": 9,
   "metadata": {},
   "outputs": [
    {
     "name": "stdout",
     "output_type": "stream",
     "text": [
      "KRAS did not match any columns in phosphoproteomics dataframe. KRAS_phosphoproteomics column inserted, but filled with NaN.\n",
      "EGF did not match any columns in phosphoproteomics dataframe. EGF_phosphoproteomics column inserted, but filled with NaN.\n",
      "PIK3CB did not match any columns in phosphoproteomics dataframe. PIK3CB_phosphoproteomics column inserted, but filled with NaN.\n",
      "PIK3CG did not match any columns in phosphoproteomics dataframe. PIK3CG_phosphoproteomics column inserted, but filled with NaN.\n",
      "NRAS did not match any columns in phosphoproteomics dataframe. NRAS_phosphoproteomics column inserted, but filled with NaN.\n",
      "HRAS did not match any columns in phosphoproteomics dataframe. HRAS_phosphoproteomics column inserted, but filled with NaN.\n",
      "CDKN2A did not match any columns in phosphoproteomics dataframe. CDKN2A_phosphoproteomics column inserted, but filled with NaN.\n",
      "PRRT2 did not match any columns in phosphoproteomics dataframe. PRRT2_phosphoproteomics column inserted, but filled with NaN.\n",
      "RAP1GDS1 did not match any columns in phosphoproteomics dataframe. RAP1GDS1_phosphoproteomics column inserted, but filled with NaN.\n",
      "RASSF5 did not match any columns in phosphoproteomics dataframe. RASSF5_phosphoproteomics column inserted, but filled with NaN.\n",
      "Doing t-test comparisons\n",
      "\n",
      "No significant comparisons.\n"
     ]
    }
   ],
   "source": [
    "'''Create dataframe in order to do comparisons with wrap_ttest'''\n",
    "protdf = ov.join_omics_to_mutations(mutations_genes=[gene], omics_df_name=omics, omics_genes=interacting_proteins) \n",
    "protdf = protdf.loc[protdf['Sample_Status'] == 'Tumor']\n",
    "\n",
    "'''Create the binary valued column needed to do the comparison'''\n",
    "for ind, row in protdf.iterrows():\n",
    "    if row[gene+\"_Mutation_Status\"] != 'Wildtype_Tumor':\n",
    "        protdf.loc[ind,'Label'] = 'Mutated'\n",
    "    else:\n",
    "        protdf.loc[ind,'Label'] = 'Wildtype'\n",
    "\n",
    "'''Format the dataframe correctly'''\n",
    "protdf = protdf.drop(gene+\"_Mutation\",axis=1)\n",
    "protdf = protdf.drop(gene+\"_Location\",axis=1)\n",
    "protdf = protdf.drop(gene+\"_Mutation_Status\", axis=1)\n",
    "protdf = protdf.drop(\"Sample_Status\",axis=1)\n",
    "protdf = protdf.loc[:,~protdf.columns.duplicated()]\n",
    "\n",
    "'''Make list of columns to be compared using t-tests'''\n",
    "col_list = list(protdf.columns)\n",
    "col_list.remove('Label')\n",
    "\n",
    "print(\"Doing t-test comparisons\\n\")\n",
    "\n",
    "'''Call wrap_ttest, pass in formatted dataframe'''\n",
    "wrap_results = al.wrap_ttest(protdf, 'Label', col_list)\n",
    "\n",
    "'''Print results, if anything significant was found'''\n",
    "if wrap_results is not None:\n",
    "        print(wrap_results)\n",
    "        print(\"\\n\\n\")\n",
    "        \n",
    "        all_significant_comparisons = add_to_all_significant_comparisons(wrap_results, \"Ovarian\", True, all_significant_comparisons)\n"
   ]
  },
  {
   "cell_type": "markdown",
   "metadata": {},
   "source": [
    "# All Proteins: Phosphoproteomics"
   ]
  },
  {
   "cell_type": "markdown",
   "metadata": {},
   "source": [
    "## Endometrial"
   ]
  },
  {
   "cell_type": "code",
   "execution_count": 10,
   "metadata": {},
   "outputs": [
    {
     "name": "stdout",
     "output_type": "stream",
     "text": [
      "\n",
      "Gene:  KRAS\n",
      "Doing t-test comparisons\n",
      "\n",
      "                          Comparison       P_Value\n",
      "0      DTNBP1-S297_phosphoproteomics  1.239489e-09\n",
      "1      IGF2R-S2479_phosphoproteomics  3.548371e-09\n",
      "2      DTNBP1-S300_phosphoproteomics  6.909004e-09\n",
      "3        TPR-S1662_phosphoproteomics  1.383305e-08\n",
      "4     PLEKHS1-S185_phosphoproteomics  2.395489e-08\n",
      "5     LRRFIP1-S300_phosphoproteomics  3.795856e-08\n",
      "6         KRT8-Y38_phosphoproteomics  1.362150e-07\n",
      "7         KRT8-S63_phosphoproteomics  3.383255e-07\n",
      "8       PLEC-S4408_phosphoproteomics  3.449881e-07\n",
      "9      MACF1-S1377_phosphoproteomics  3.491278e-07\n",
      "10       HDGF-S130_phosphoproteomics  3.878632e-07\n",
      "11     PRKAA1-S521_phosphoproteomics  4.422808e-07\n",
      "12  ARHGEF18-S1160_phosphoproteomics  5.761535e-07\n",
      "13   IVNS1ABP-S269_phosphoproteomics  6.137179e-07\n",
      "14     TNRC6B-S803_phosphoproteomics  6.748903e-07\n",
      "\n",
      "\n",
      "\n"
     ]
    }
   ],
   "source": [
    "try:\n",
    "    print(\"\\nGene: \", gene)\n",
    "\n",
    "    '''Use all proteins'''\n",
    "    proteomics = en.get_proteomics()\n",
    "    all_proteins = proteomics.columns\n",
    "    #all_proteins = all_proteins[:100]\n",
    "\n",
    "    '''Create dataframe in order to do comparisons with wrap_ttest'''\n",
    "    protdf = en.join_omics_to_mutations(mutations_genes=[gene], omics_df_name=omics)\n",
    "    protdf = protdf.loc[protdf['Sample_Status'] == 'Tumor']\n",
    "    \n",
    "    '''Create the binary valued column needed to do the comparison'''\n",
    "    for ind, row in protdf.iterrows():\n",
    "        if row[gene+\"_Mutation_Status\"] != 'Wildtype_Tumor':\n",
    "            protdf.at[ind,'Label'] = 'Mutated'\n",
    "        else:\n",
    "            protdf.at[ind,'Label'] = 'Wildtype'\n",
    "\n",
    "    '''Format the datafram correctly'''\n",
    "    protdf = protdf.drop(gene+\"_Mutation\",axis=1)\n",
    "    protdf = protdf.drop(gene+\"_Location\",axis=1)\n",
    "    protdf = protdf.drop(gene+\"_Mutation_Status\", axis=1)\n",
    "    protdf = protdf.drop(\"Sample_Status\",axis=1)\n",
    "\n",
    "    '''Make list of columns to be compared using t-tests'''\n",
    "    col_list = list(protdf.columns)\n",
    "    col_list.remove('Label')\n",
    "\n",
    "    print(\"Doing t-test comparisons\\n\")\n",
    "    \n",
    "    '''Call wrap_ttest, pass in formatted dataframe'''\n",
    "    wrap_results = al.wrap_ttest(protdf, 'Label', col_list)\n",
    "\n",
    "    '''Print results, if anything significant was found'''\n",
    "    if wrap_results is not None:\n",
    "            print(wrap_results)\n",
    "            print(\"\\n\\n\")\n",
    "            \n",
    "            all_significant_comparisons = add_to_all_significant_comparisons(wrap_results, \"Endometrial\", False, all_significant_comparisons)\n",
    "\n",
    "\n",
    "except Exception as e:\n",
    "    print(\"Error in Comparison\")\n",
    "    print(e)"
   ]
  },
  {
   "cell_type": "markdown",
   "metadata": {},
   "source": [
    "## Colon"
   ]
  },
  {
   "cell_type": "code",
   "execution_count": 11,
   "metadata": {},
   "outputs": [
    {
     "name": "stdout",
     "output_type": "stream",
     "text": [
      "\n",
      "Gene:  KRAS\n",
      "Doing t-test comparisons\n",
      "\n",
      "No significant comparisons.\n"
     ]
    }
   ],
   "source": [
    "try:\n",
    "    print(\"\\nGene: \", gene)\n",
    "\n",
    "    '''Use all proteins'''\n",
    "    proteomics = co.get_proteomics()\n",
    "    all_proteins = proteomics.columns\n",
    "    #all_proteins = all_proteins[:100]\n",
    "\n",
    "    '''Create dataframe in order to do comparisons with wrap_ttest'''\n",
    "    protdf = co.join_omics_to_mutations(mutations_genes=[gene], omics_df_name=omics)\n",
    "    protdf = protdf.loc[protdf['Sample_Status'] == 'Tumor']\n",
    "    \n",
    "    '''Create the binary valued column needed to do the comparison'''\n",
    "    for ind, row in protdf.iterrows():\n",
    "        if row[gene+\"_Mutation_Status\"] != 'Wildtype_Tumor':\n",
    "            protdf.at[ind,'Label'] = 'Mutated'\n",
    "        else:\n",
    "            protdf.at[ind,'Label'] = 'Wildtype'\n",
    "\n",
    "    '''Format the datafram correctly'''\n",
    "    protdf = protdf.drop(gene+\"_Mutation\",axis=1)\n",
    "    protdf = protdf.drop(gene+\"_Location\",axis=1)\n",
    "    protdf = protdf.drop(gene+\"_Mutation_Status\", axis=1)\n",
    "    protdf = protdf.drop(\"Sample_Status\",axis=1)\n",
    "\n",
    "    '''Make list of columns to be compared using t-tests'''\n",
    "    col_list = list(protdf.columns)\n",
    "    col_list.remove('Label')\n",
    "\n",
    "    print(\"Doing t-test comparisons\\n\")\n",
    "    \n",
    "    '''Call wrap_ttest, pass in formatted dataframe'''\n",
    "    wrap_results = al.wrap_ttest(protdf, 'Label', col_list)\n",
    "\n",
    "    '''Print results, if anything significant was found'''\n",
    "    if wrap_results is not None:\n",
    "            print(wrap_results)\n",
    "            print(\"\\n\\n\")\n",
    "            \n",
    "            all_significant_comparisons = add_to_all_significant_comparisons(wrap_results, \"Colon\", False, all_significant_comparisons)\n",
    "\n",
    "\n",
    "except Exception as e:\n",
    "    print(\"Error in Comparison\")\n",
    "    print(e)"
   ]
  },
  {
   "cell_type": "markdown",
   "metadata": {},
   "source": [
    "## Ovarian"
   ]
  },
  {
   "cell_type": "code",
   "execution_count": 12,
   "metadata": {},
   "outputs": [
    {
     "name": "stdout",
     "output_type": "stream",
     "text": [
      "\n",
      "Gene:  KRAS\n",
      "Doing t-test comparisons\n",
      "\n",
      "No significant comparisons.\n"
     ]
    }
   ],
   "source": [
    "\n",
    "print(\"\\nGene: \", gene)\n",
    "\n",
    "'''Use all proteins'''\n",
    "proteomics = ov.get_proteomics()\n",
    "all_proteins = list(set(proteomics.columns))\n",
    "\n",
    "'''Create dataframe in order to do comparisons with wrap_ttest'''\n",
    "protdf = ov.join_omics_to_mutations(mutations_genes=[gene], omics_df_name=omics)\n",
    "protdf = protdf.loc[protdf['Sample_Status'] == 'Tumor']\n",
    "protdf = protdf.loc[:,~protdf.columns.duplicated()]\n",
    "\n",
    "'''Create the binary valued column needed to do the comparison'''\n",
    "for ind, row in protdf.iterrows():\n",
    "    if row[gene+\"_Mutation_Status\"] != 'Wildtype_Tumor':\n",
    "        protdf.at[ind,'Label'] = 'Mutated'\n",
    "    else:\n",
    "        protdf.at[ind,'Label'] = 'Wildtype'\n",
    "\n",
    "'''Format the datafram correctly'''\n",
    "protdf = protdf.drop(gene+\"_Mutation\",axis=1)\n",
    "protdf = protdf.drop(gene+\"_Location\",axis=1)\n",
    "protdf = protdf.drop(gene+\"_Mutation_Status\", axis=1)\n",
    "protdf = protdf.drop(\"Sample_Status\",axis=1)\n",
    "\n",
    "'''Make list of columns to be compared using t-tests'''\n",
    "col_list = list(protdf.columns)\n",
    "col_list.remove('Label')\n",
    "\n",
    "print(\"Doing t-test comparisons\\n\")\n",
    "\n",
    "'''Call wrap_ttest, pass in formatted dataframe'''\n",
    "wrap_results = al.wrap_ttest(protdf, 'Label', col_list)\n",
    "\n",
    "'''Print results, if anything significant was found'''\n",
    "if wrap_results is not None:\n",
    "        print(wrap_results)\n",
    "        print(\"\\n\\n\")\n",
    "        \n",
    "        all_significant_comparisons = add_to_all_significant_comparisons(wrap_results, \"Ovarian\", False, all_significant_comparisons)"
   ]
  },
  {
   "cell_type": "markdown",
   "metadata": {},
   "source": [
    "### Print all significant comparisons"
   ]
  },
  {
   "cell_type": "code",
   "execution_count": 13,
   "metadata": {},
   "outputs": [
    {
     "data": {
      "text/html": [
       "<div>\n",
       "<style scoped>\n",
       "    .dataframe tbody tr th:only-of-type {\n",
       "        vertical-align: middle;\n",
       "    }\n",
       "\n",
       "    .dataframe tbody tr th {\n",
       "        vertical-align: top;\n",
       "    }\n",
       "\n",
       "    .dataframe thead th {\n",
       "        text-align: right;\n",
       "    }\n",
       "</style>\n",
       "<table border=\"1\" class=\"dataframe\">\n",
       "  <thead>\n",
       "    <tr style=\"text-align: right;\">\n",
       "      <th></th>\n",
       "      <th>Cancer_Type</th>\n",
       "      <th>Gene</th>\n",
       "      <th>Comparison</th>\n",
       "      <th>Interacting_Protein</th>\n",
       "      <th>P_Value</th>\n",
       "    </tr>\n",
       "  </thead>\n",
       "  <tbody>\n",
       "    <tr>\n",
       "      <th>0</th>\n",
       "      <td>Endometrial</td>\n",
       "      <td>KRAS</td>\n",
       "      <td>RAF1-T330_phosphoproteomics</td>\n",
       "      <td>True</td>\n",
       "      <td>8.432130e-06</td>\n",
       "    </tr>\n",
       "    <tr>\n",
       "      <th>1</th>\n",
       "      <td>Endometrial</td>\n",
       "      <td>KRAS</td>\n",
       "      <td>ARAF-S260_phosphoproteomics</td>\n",
       "      <td>True</td>\n",
       "      <td>2.141738e-05</td>\n",
       "    </tr>\n",
       "    <tr>\n",
       "      <th>0</th>\n",
       "      <td>Endometrial</td>\n",
       "      <td>KRAS</td>\n",
       "      <td>DTNBP1-S297_phosphoproteomics</td>\n",
       "      <td>False</td>\n",
       "      <td>1.239489e-09</td>\n",
       "    </tr>\n",
       "    <tr>\n",
       "      <th>1</th>\n",
       "      <td>Endometrial</td>\n",
       "      <td>KRAS</td>\n",
       "      <td>IGF2R-S2479_phosphoproteomics</td>\n",
       "      <td>False</td>\n",
       "      <td>3.548371e-09</td>\n",
       "    </tr>\n",
       "    <tr>\n",
       "      <th>2</th>\n",
       "      <td>Endometrial</td>\n",
       "      <td>KRAS</td>\n",
       "      <td>DTNBP1-S300_phosphoproteomics</td>\n",
       "      <td>False</td>\n",
       "      <td>6.909004e-09</td>\n",
       "    </tr>\n",
       "    <tr>\n",
       "      <th>3</th>\n",
       "      <td>Endometrial</td>\n",
       "      <td>KRAS</td>\n",
       "      <td>TPR-S1662_phosphoproteomics</td>\n",
       "      <td>False</td>\n",
       "      <td>1.383305e-08</td>\n",
       "    </tr>\n",
       "    <tr>\n",
       "      <th>4</th>\n",
       "      <td>Endometrial</td>\n",
       "      <td>KRAS</td>\n",
       "      <td>PLEKHS1-S185_phosphoproteomics</td>\n",
       "      <td>False</td>\n",
       "      <td>2.395489e-08</td>\n",
       "    </tr>\n",
       "    <tr>\n",
       "      <th>5</th>\n",
       "      <td>Endometrial</td>\n",
       "      <td>KRAS</td>\n",
       "      <td>LRRFIP1-S300_phosphoproteomics</td>\n",
       "      <td>False</td>\n",
       "      <td>3.795856e-08</td>\n",
       "    </tr>\n",
       "    <tr>\n",
       "      <th>6</th>\n",
       "      <td>Endometrial</td>\n",
       "      <td>KRAS</td>\n",
       "      <td>KRT8-Y38_phosphoproteomics</td>\n",
       "      <td>False</td>\n",
       "      <td>1.362150e-07</td>\n",
       "    </tr>\n",
       "    <tr>\n",
       "      <th>7</th>\n",
       "      <td>Endometrial</td>\n",
       "      <td>KRAS</td>\n",
       "      <td>KRT8-S63_phosphoproteomics</td>\n",
       "      <td>False</td>\n",
       "      <td>3.383255e-07</td>\n",
       "    </tr>\n",
       "    <tr>\n",
       "      <th>8</th>\n",
       "      <td>Endometrial</td>\n",
       "      <td>KRAS</td>\n",
       "      <td>PLEC-S4408_phosphoproteomics</td>\n",
       "      <td>False</td>\n",
       "      <td>3.449881e-07</td>\n",
       "    </tr>\n",
       "    <tr>\n",
       "      <th>9</th>\n",
       "      <td>Endometrial</td>\n",
       "      <td>KRAS</td>\n",
       "      <td>MACF1-S1377_phosphoproteomics</td>\n",
       "      <td>False</td>\n",
       "      <td>3.491278e-07</td>\n",
       "    </tr>\n",
       "    <tr>\n",
       "      <th>10</th>\n",
       "      <td>Endometrial</td>\n",
       "      <td>KRAS</td>\n",
       "      <td>HDGF-S130_phosphoproteomics</td>\n",
       "      <td>False</td>\n",
       "      <td>3.878632e-07</td>\n",
       "    </tr>\n",
       "    <tr>\n",
       "      <th>11</th>\n",
       "      <td>Endometrial</td>\n",
       "      <td>KRAS</td>\n",
       "      <td>PRKAA1-S521_phosphoproteomics</td>\n",
       "      <td>False</td>\n",
       "      <td>4.422808e-07</td>\n",
       "    </tr>\n",
       "    <tr>\n",
       "      <th>12</th>\n",
       "      <td>Endometrial</td>\n",
       "      <td>KRAS</td>\n",
       "      <td>ARHGEF18-S1160_phosphoproteomics</td>\n",
       "      <td>False</td>\n",
       "      <td>5.761535e-07</td>\n",
       "    </tr>\n",
       "    <tr>\n",
       "      <th>13</th>\n",
       "      <td>Endometrial</td>\n",
       "      <td>KRAS</td>\n",
       "      <td>IVNS1ABP-S269_phosphoproteomics</td>\n",
       "      <td>False</td>\n",
       "      <td>6.137179e-07</td>\n",
       "    </tr>\n",
       "    <tr>\n",
       "      <th>14</th>\n",
       "      <td>Endometrial</td>\n",
       "      <td>KRAS</td>\n",
       "      <td>TNRC6B-S803_phosphoproteomics</td>\n",
       "      <td>False</td>\n",
       "      <td>6.748903e-07</td>\n",
       "    </tr>\n",
       "  </tbody>\n",
       "</table>\n",
       "</div>"
      ],
      "text/plain": [
       "    Cancer_Type  Gene                        Comparison Interacting_Protein  \\\n",
       "0   Endometrial  KRAS       RAF1-T330_phosphoproteomics                True   \n",
       "1   Endometrial  KRAS       ARAF-S260_phosphoproteomics                True   \n",
       "0   Endometrial  KRAS     DTNBP1-S297_phosphoproteomics               False   \n",
       "1   Endometrial  KRAS     IGF2R-S2479_phosphoproteomics               False   \n",
       "2   Endometrial  KRAS     DTNBP1-S300_phosphoproteomics               False   \n",
       "3   Endometrial  KRAS       TPR-S1662_phosphoproteomics               False   \n",
       "4   Endometrial  KRAS    PLEKHS1-S185_phosphoproteomics               False   \n",
       "5   Endometrial  KRAS    LRRFIP1-S300_phosphoproteomics               False   \n",
       "6   Endometrial  KRAS        KRT8-Y38_phosphoproteomics               False   \n",
       "7   Endometrial  KRAS        KRT8-S63_phosphoproteomics               False   \n",
       "8   Endometrial  KRAS      PLEC-S4408_phosphoproteomics               False   \n",
       "9   Endometrial  KRAS     MACF1-S1377_phosphoproteomics               False   \n",
       "10  Endometrial  KRAS       HDGF-S130_phosphoproteomics               False   \n",
       "11  Endometrial  KRAS     PRKAA1-S521_phosphoproteomics               False   \n",
       "12  Endometrial  KRAS  ARHGEF18-S1160_phosphoproteomics               False   \n",
       "13  Endometrial  KRAS   IVNS1ABP-S269_phosphoproteomics               False   \n",
       "14  Endometrial  KRAS     TNRC6B-S803_phosphoproteomics               False   \n",
       "\n",
       "         P_Value  \n",
       "0   8.432130e-06  \n",
       "1   2.141738e-05  \n",
       "0   1.239489e-09  \n",
       "1   3.548371e-09  \n",
       "2   6.909004e-09  \n",
       "3   1.383305e-08  \n",
       "4   2.395489e-08  \n",
       "5   3.795856e-08  \n",
       "6   1.362150e-07  \n",
       "7   3.383255e-07  \n",
       "8   3.449881e-07  \n",
       "9   3.491278e-07  \n",
       "10  3.878632e-07  \n",
       "11  4.422808e-07  \n",
       "12  5.761535e-07  \n",
       "13  6.137179e-07  \n",
       "14  6.748903e-07  "
      ]
     },
     "metadata": {},
     "output_type": "display_data"
    }
   ],
   "source": [
    "if len(all_significant_comparisons) > 0:\n",
    "    display(all_significant_comparisons)\n",
    "    \n",
    "else:\n",
    "    print('No Significant Comparisons!')"
   ]
  },
  {
   "cell_type": "markdown",
   "metadata": {},
   "source": [
    "### Write significant comparisons (if any) to shared CSV file"
   ]
  },
  {
   "cell_type": "code",
   "execution_count": 14,
   "metadata": {},
   "outputs": [],
   "source": [
    "existing_results = pd.read_csv(gene+'_Trans_Results.csv')\n",
    "\n",
    "updated_results = pd.concat([existing_results, all_significant_comparisons], sort=False)\n",
    "\n",
    "updated_results.to_csv(path_or_buf = gene + '_Trans_Results.csv', index=False)"
   ]
  }
 ],
 "metadata": {
  "kernelspec": {
   "display_name": "Python 3",
   "language": "python",
   "name": "python3"
  },
  "language_info": {
   "codemirror_mode": {
    "name": "ipython",
    "version": 3
   },
   "file_extension": ".py",
   "mimetype": "text/x-python",
   "name": "python",
   "nbconvert_exporter": "python",
   "pygments_lexer": "ipython3",
   "version": "3.6.8"
  }
 },
 "nbformat": 4,
 "nbformat_minor": 2
}
