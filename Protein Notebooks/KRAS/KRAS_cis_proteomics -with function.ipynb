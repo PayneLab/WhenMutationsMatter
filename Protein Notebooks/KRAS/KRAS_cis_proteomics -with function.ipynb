{
 "cells": [
  {
   "cell_type": "markdown",
   "metadata": {},
   "source": [
    "# KRAS proteomics cis comparison"
   ]
  },
  {
   "cell_type": "markdown",
   "metadata": {},
   "source": [
    "## Step 1: Library Imports"
   ]
  },
  {
   "cell_type": "markdown",
   "metadata": {},
   "source": [
    "Run this cell to import the necessary libraries"
   ]
  },
  {
   "cell_type": "code",
   "execution_count": 1,
   "metadata": {},
   "outputs": [],
   "source": [
    "import pandas as pd\n",
    "import numpy as np\n",
    "import seaborn as sns\n",
    "import matplotlib.pyplot as plt\n",
    "import scipy.stats\n",
    "\n",
    "import cptac\n",
    "import cptac.algorithms as al"
   ]
  },
  {
   "cell_type": "code",
   "execution_count": 46,
   "metadata": {},
   "outputs": [],
   "source": [
    "def format_cis_comparison_data(cancer_object, specific_omics, gene):\n",
    "    \n",
    "    # Step 1 - Create dataframe in order to do comparisons with wrap_ttest - drop nan values\n",
    "    omics_and_mutations = cancer_object.append_mutations_to_omics(\n",
    "        mutation_genes = gene, omics_df_name = specific_omics.name, omics_genes = gene).dropna()\n",
    "\n",
    "    # Check if values in omics data (if not found in proteomics, after na dropped dataframe should be empty)\n",
    "    if omics_and_mutations[gene+\"_\"+specific_omics.name].empty:\n",
    "        print('Not possible to do T-test. No data for', gene, 'in', specific_omics.name)\n",
    "        return None\n",
    "    else:\n",
    "        \n",
    "        # Step 2 - Create the binary column needed to do the comparison\n",
    "        omics_and_mutations['binary_mutations'] = np.where(\n",
    "            omics_and_mutations[gene+'_Mutation_Status'] == 'Wildtype_Tumor', 'Wildtype', 'Mutated')\n",
    "\n",
    "        # Step 3 - Format the dataframe correctly for the T-test(just omics and binary columns for tumors)\n",
    "        tumors = omics_and_mutations.loc[omics_and_mutations['Sample_Status'] == 'Tumor']\n",
    "        columns_to_drop = [gene+\"_Mutation\", gene+\"_Location\", gene+\"_Mutation_Status\", \"Sample_Status\"]\n",
    "        omics_binary_mutations = tumors.drop(columns_to_drop, axis = 1)\n",
    "        #check if only one column of omics data (total 2 columns)\n",
    "        if len(omics_binary_mutations.columns) != 2:\n",
    "            print('exeption with columns. check omics data')\n",
    "            return None\n",
    "        else:\n",
    "            # Make a list of the column label of omics to be used in the wrap_ttest function\n",
    "            omics_col_list = [omics_binary_mutations.columns[0]] \n",
    "\n",
    "            # Step 4 - T-test comparing means of mutated vs wildtype effect on cis omics\n",
    "            print(\"Doing t-test comparison\\n\")\n",
    "            significant_pval_results = al.wrap_ttest(omics_binary_mutations, 'binary_mutations', omics_col_list)\n",
    "            print(significant_pval_results)\n",
    "\n",
    "            formated_data_for_boxplot = {'data': omics_binary_mutations, 'x': \"binary_mutations\", \n",
    "                                         'y': gene+\"_proteomics\", 'pval': significant_pval_results}\n",
    "            return formated_data_for_boxplot\n",
    "\n",
    "  "
   ]
  },
  {
   "cell_type": "markdown",
   "metadata": {},
   "source": [
    "## Step 2: Find the frequently mutated genes for Endometrial Cancer"
   ]
  },
  {
   "cell_type": "markdown",
   "metadata": {},
   "source": [
    "Enter the type of cancer and the cutoff for mutation frequency that you would like to use."
   ]
  },
  {
   "cell_type": "code",
   "execution_count": 43,
   "metadata": {},
   "outputs": [
    {
     "name": "stdout",
     "output_type": "stream",
     "text": [
      "\u001b[Kmatting dataframes...linear data.....\n",
      "\n",
      "Number of Frequently Mutated Genes: 232 \n",
      "      Gene  Unique_Samples_Mut  Missence_Mut  Truncation_Mut\n",
      "0  ABCA12            0.147368      0.094737        0.073684\n",
      "1  ABCA13            0.115789      0.105263        0.042105\n",
      "2  ACVR2A            0.105263      0.010526        0.094737\n",
      "3  ADGRG4            0.136842      0.126316        0.021053\n",
      "4  ADGRV1            0.115789      0.094737        0.052632\n"
     ]
    }
   ],
   "source": [
    "en_object = cptac.Endometrial()\n",
    "desired_cutoff = .1\n",
    "\n",
    "endometrial_freq_mut = al.get_frequently_mutated(en_object, cutoff=desired_cutoff)\n",
    "print('\\n\\nNumber of Frequently Mutated Genes:', len(endometrial_freq_mut), '\\n', endometrial_freq_mut.head())"
   ]
  },
  {
   "cell_type": "markdown",
   "metadata": {},
   "source": [
    "## Step 3: Select a gene from the list of frequently mutated genes above"
   ]
  },
  {
   "cell_type": "markdown",
   "metadata": {},
   "source": [
    "Set the gene to which of the above frequently mutated genes you want to examine. For example, if you want to look at the gene PTEN, change the cell below to say \"gene = 'KRAS'\""
   ]
  },
  {
   "cell_type": "code",
   "execution_count": 47,
   "metadata": {},
   "outputs": [],
   "source": [
    "gene = 'KRAS'"
   ]
  },
  {
   "cell_type": "markdown",
   "metadata": {},
   "source": [
    "## Step 4: Select desired omics comparison"
   ]
  },
  {
   "cell_type": "markdown",
   "metadata": {},
   "source": [
    "Select which type of omics you want to compare. If you want to compare proteomics data for the interacting proteins, uncomment the \"omics = en.get_proteomics()\" line, etc."
   ]
  },
  {
   "cell_type": "code",
   "execution_count": 48,
   "metadata": {},
   "outputs": [],
   "source": [
    "omics = en_object.get_proteomics()\n",
    "#omics = en_object.get_transcriptomics()\n",
    "#omics = en_object.get_phosphoproteomics()\n",
    "#omics = en_object.get_acetylproteomics()"
   ]
  },
  {
   "cell_type": "markdown",
   "metadata": {},
   "source": [
    "## Step 5: cis comparison "
   ]
  },
  {
   "cell_type": "markdown",
   "metadata": {},
   "source": [
    "Determine if the DNA mutation has an effect on the omics measurement. In order to do this, we have a few steps in code. These steps are found in the format_cis_comparison_data function.\n",
    "1. get a table with both the omics and mutation data for tumors\n",
    "2. get a binary column from the mutation data to separate our samples\n",
    "3. format data frame to be used in the T-test\n",
    "4. send data to the T-test.\n",
    "\n",
    "The format_cis_comparison_data function returns a dictionary with the data, x, and y names needed to plot the comparison."
   ]
  },
  {
   "cell_type": "code",
   "execution_count": 49,
   "metadata": {},
   "outputs": [
    {
     "name": "stdout",
     "output_type": "stream",
     "text": [
      "Doing t-test comparison\n",
      "\n",
      "        Comparison   P_Value\n",
      "0  KRAS_proteomics  0.007068\n"
     ]
    }
   ],
   "source": [
    "data_for_comparison = format_cis_comparison_data(en_object, omics, gene)"
   ]
  },
  {
   "cell_type": "code",
   "execution_count": 50,
   "metadata": {},
   "outputs": [
    {
     "data": {
      "image/png": "[encoded data removed]",
      "text/plain": [
       "<Figure size 432x288 with 1 Axes>"
      ]
     },
     "metadata": {
      "needs_background": "light"
     },
     "output_type": "display_data"
    }
   ],
   "source": [
    "# Step 5 - Create boxplt to compare wildtype and mutated effect on omics data\n",
    "en_cis_boxplot = sns.boxplot(data = data_for_comparison['data'], x = data_for_comparison['x'],\n",
    "                          y =data_for_comparison['y'], order = [\"Wildtype\",\"Mutated\"])  \n",
    "en_cis_boxplot.set_title(gene + \" effect on \" + omics.name + \" abundance in endometrial tumors\")\n",
    "en_cis_boxplot = sns.stripplot(data= data_for_comparison['data'], x = data_for_comparison['x'],\n",
    "                            y = data_for_comparison['y'],jitter = True, color = \".3\", order = [\"Wildtype\",\"Mutated\"])\n",
    "en_cis_boxplot.set(xlabel = gene + \" Mutation Status in Tumors\", ylabel = \"Proteomics\")\n",
    "plt.show()"
   ]
  },
  {
   "cell_type": "markdown",
   "metadata": {},
   "source": [
    "# Repeat with the Colon dataset"
   ]
  },
  {
   "cell_type": "markdown",
   "metadata": {},
   "source": [
    "Go through the same process, this time using the Colon dataset. We will only print five genes from the frequently mutated data frame for simplicity."
   ]
  },
  {
   "cell_type": "code",
   "execution_count": 12,
   "metadata": {},
   "outputs": [
    {
     "name": "stdout",
     "output_type": "stream",
     "text": [
      "\u001b[Kmatting dataframes...data.....ata....\n",
      "\n",
      "Number of Frequently Mutated Genes: 612 \n",
      "      Gene  Unique_Samples_Mut  Missence_Mut  Truncation_Mut\n",
      "0  ABCA13            0.195876      0.164948        0.103093\n",
      "1   ABCA2            0.175258      0.164948        0.030928\n",
      "2   ABCA4            0.144330      0.082474        0.061856\n",
      "3   ABCB4            0.134021      0.061856        0.072165\n",
      "4   ABCB6            0.103093      0.061856        0.041237\n"
     ]
    }
   ],
   "source": [
    "colon_object = cptac.Colon()\n",
    "desired_cutoff = .1\n",
    "\n",
    "colon_freq_mut = al.get_frequently_mutated(colon_object, cutoff=desired_cutoff)\n",
    "print('\\n\\nNumber of Frequently Mutated Genes:', len(colon_freq_mut), '\\n', colon_freq_mut.head())"
   ]
  },
  {
   "cell_type": "code",
   "execution_count": 51,
   "metadata": {},
   "outputs": [],
   "source": [
    "gene = 'KRAS'\n",
    "\n",
    "co_omics = colon_object.get_proteomics()\n",
    "#co_omics = colon_object.get_transcriptomics()\n",
    "#co_omics = colon_object.get_phosphoproteomics()\n",
    "#co_omics = colon_object.get_acetylproteomics()"
   ]
  },
  {
   "cell_type": "code",
   "execution_count": 52,
   "metadata": {},
   "outputs": [
    {
     "name": "stdout",
     "output_type": "stream",
     "text": [
      "Doing t-test comparison\n",
      "\n",
      "        Comparison   P_Value\n",
      "0  KRAS_proteomics  0.039128\n"
     ]
    }
   ],
   "source": [
    "co_data_for_comparison = format_cis_comparison_data(colon_object, co_omics, gene)\n"
   ]
  },
  {
   "cell_type": "code",
   "execution_count": 53,
   "metadata": {},
   "outputs": [
    {
     "data": {
      "image/png": "[encoded data removed]",
      "text/plain": [
       "<Figure size 432x288 with 1 Axes>"
      ]
     },
     "metadata": {
      "needs_background": "light"
     },
     "output_type": "display_data"
    }
   ],
   "source": [
    "cis_boxplot = sns.boxplot(data = co_data_for_comparison['data'], x = co_data_for_comparison['x'],\n",
    "                          y = co_data_for_comparison['y'], order = [\"Wildtype\",\"Mutated\"])  \n",
    "cis_boxplot.set_title(gene + \" effect on cis \" + omics.name + \" abundance in colon tumors\")\n",
    "cis_boxplot = sns.stripplot(data = co_data_for_comparison['data'], x = co_data_for_comparison['x'],\n",
    "                            y = co_data_for_comparison['y'], jitter = True, color = \".3\", \n",
    "                            order = [\"Wildtype\",\"Mutated\"])\n",
    "cis_boxplot.set(xlabel = gene + \" Mutation Status in Tumors\", ylabel = \"Proteomics\")\n",
    "plt.show()"
   ]
  },
  {
   "cell_type": "markdown",
   "metadata": {},
   "source": [
    "# Repeat with the Ovarian dataset\n"
   ]
  },
  {
   "cell_type": "code",
   "execution_count": 15,
   "metadata": {},
   "outputs": [
    {
     "name": "stdout",
     "output_type": "stream",
     "text": [
      "\u001b[Kmatting dataframes....ata........\r"
     ]
    }
   ],
   "source": [
    "ovarian_object = cptac.Ovarian()\n",
    "desired_cutoff = .1\n",
    "\n",
    "ovarian_freq_mut = al.get_frequently_mutated(ovarian_object, cutoff=desired_cutoff)"
   ]
  },
  {
   "cell_type": "code",
   "execution_count": 54,
   "metadata": {},
   "outputs": [],
   "source": [
    "gene = 'KRAS'\n",
    "\n",
    "ov_omics = ovarian_object.get_proteomics()\n",
    "#ov_omics = ovarian_object.get_transcriptomics()\n",
    "#ov_omics = ovarian_object.get_phosphoproteomics()\n",
    "#ov_omics = ovarian_object.get_acetylproteomics()"
   ]
  },
  {
   "cell_type": "code",
   "execution_count": 55,
   "metadata": {},
   "outputs": [
    {
     "name": "stdout",
     "output_type": "stream",
     "text": [
      "exeption with columns. check omics data\n"
     ]
    }
   ],
   "source": [
    "ov_data_for_comparison = format_cis_comparison_data(ovarian_object, ov_omics, gene)"
   ]
  },
  {
   "cell_type": "code",
   "execution_count": 56,
   "metadata": {},
   "outputs": [
    {
     "ename": "TypeError",
     "evalue": "'NoneType' object is not subscriptable",
     "output_type": "error",
     "traceback": [
      "\u001b[1;31m---------------------------------------------------------------------------\u001b[0m",
      "\u001b[1;31mTypeError\u001b[0m                                 Traceback (most recent call last)",
      "\u001b[1;32m<ipython-input-56-86e514deac9d>\u001b[0m in \u001b[0;36m<module>\u001b[1;34m\u001b[0m\n\u001b[0;32m      1\u001b[0m \u001b[1;31m# Step 5 - Visualize comparison\u001b[0m\u001b[1;33m\u001b[0m\u001b[1;33m\u001b[0m\u001b[1;33m\u001b[0m\u001b[0m\n\u001b[1;32m----> 2\u001b[1;33m ov_cis_boxplot = sns.boxplot(data = ov_data_for_comparison['data'], x = ov_data_for_comparison['x'],\n\u001b[0m\u001b[0;32m      3\u001b[0m                           y = ov_data_for_comparison['y'], order = [\"Wildtype\",\"Mutated\"])  \n\u001b[0;32m      4\u001b[0m \u001b[0mov_cis_boxplot\u001b[0m\u001b[1;33m.\u001b[0m\u001b[0mset_title\u001b[0m\u001b[1;33m(\u001b[0m\u001b[0mgene\u001b[0m \u001b[1;33m+\u001b[0m \u001b[1;34m\" effect on \"\u001b[0m \u001b[1;33m+\u001b[0m \u001b[0momics\u001b[0m\u001b[1;33m.\u001b[0m\u001b[0mname\u001b[0m \u001b[1;33m+\u001b[0m \u001b[1;34m\" abundance\"\u001b[0m\u001b[1;33m)\u001b[0m\u001b[1;33m\u001b[0m\u001b[1;33m\u001b[0m\u001b[0m\n\u001b[0;32m      5\u001b[0m ov_cis_boxplot = sns.stripplot(\n",
      "\u001b[1;31mTypeError\u001b[0m: 'NoneType' object is not subscriptable"
     ]
    }
   ],
   "source": [
    "# Step 5 - Visualize comparison\n",
    "ov_cis_boxplot = sns.boxplot(data = ov_data_for_comparison['data'], x = ov_data_for_comparison['x'],\n",
    "                          y = ov_data_for_comparison['y'], order = [\"Wildtype\",\"Mutated\"])  \n",
    "ov_cis_boxplot.set_title(gene + \" effect on \" + omics.name + \" abundance\")\n",
    "ov_cis_boxplot = sns.stripplot(\n",
    "    data = ov_data_for_comparison['data'], x = ov_data_for_comparison['x'],y = ov_data_for_comparison['y'], \n",
    "    jitter = True, color = \".3\", order = [\"Wildtype\",\"Mutated\"])\n",
    "ov_cis_boxplot.set(xlabel = gene + \" Mutation Status in Tumors\", ylabel = \"Proteomics\")\n",
    "plt.show()"
   ]
  },
  {
   "cell_type": "code",
   "execution_count": null,
   "metadata": {},
   "outputs": [],
   "source": []
  }
 ],
 "metadata": {
  "kernelspec": {
   "display_name": "Python 3",
   "language": "python",
   "name": "python3"
  },
  "language_info": {
   "codemirror_mode": {
    "name": "ipython",
    "version": 3
   },
   "file_extension": ".py",
   "mimetype": "text/x-python",
   "name": "python",
   "nbconvert_exporter": "python",
   "pygments_lexer": "ipython3",
   "version": "3.7.3"
  }
 },
 "nbformat": 4,
 "nbformat_minor": 2
}
