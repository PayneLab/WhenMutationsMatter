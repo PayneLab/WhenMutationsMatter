{
 "cells": [
  {
   "cell_type": "code",
   "execution_count": 8,
   "metadata": {},
   "outputs": [],
   "source": [
    "# Something is wrong with the CPTAC package, and I will need to ask on Monday\n",
    "# !python -m pip install --upgrade pip\n",
    "# !pip install -i https://test.pypi.org/simple/ CPTAC\n",
    "# import CPTAC.Endometrial as en"
   ]
  },
  {
   "cell_type": "code",
   "execution_count": 44,
   "metadata": {},
   "outputs": [],
   "source": [
    "# This is a data exploration practice run on a dataset of\n",
    "# leading causes of death in the US, using pandas, seaborn, and matplotlib."
   ]
  },
  {
   "cell_type": "code",
   "execution_count": 55,
   "metadata": {},
   "outputs": [],
   "source": [
    "import pandas as pd\n",
    "import numpy as np\n",
    "import seaborn as sns\n",
    "import matplotlib.pyplot as plt\n",
    "\n",
    "data = pd.read_csv(\"NCHS_-_Leading_Causes_of_Death__United_States.csv\")\n",
    "simplified = data.drop(['113 Cause Name', 'Age-adjusted Death Rate'], axis=1)"
   ]
  },
  {
   "cell_type": "code",
   "execution_count": 68,
   "metadata": {},
   "outputs": [
    {
     "data": {
      "text/html": [
       "<div>\n",
       "<style>\n",
       "    .dataframe thead tr:only-child th {\n",
       "        text-align: right;\n",
       "    }\n",
       "\n",
       "    .dataframe thead th {\n",
       "        text-align: left;\n",
       "    }\n",
       "\n",
       "    .dataframe tbody tr th {\n",
       "        vertical-align: top;\n",
       "    }\n",
       "</style>\n",
       "<table border=\"1\" class=\"dataframe\">\n",
       "  <thead>\n",
       "    <tr style=\"text-align: right;\">\n",
       "      <th></th>\n",
       "      <th>Year</th>\n",
       "      <th>Cause Name</th>\n",
       "      <th>State</th>\n",
       "      <th>Deaths</th>\n",
       "    </tr>\n",
       "  </thead>\n",
       "  <tbody>\n",
       "    <tr>\n",
       "      <th>0</th>\n",
       "      <td>2012</td>\n",
       "      <td>Kidney disease</td>\n",
       "      <td>Vermont</td>\n",
       "      <td>21</td>\n",
       "    </tr>\n",
       "    <tr>\n",
       "      <th>1</th>\n",
       "      <td>2016</td>\n",
       "      <td>Kidney disease</td>\n",
       "      <td>Vermont</td>\n",
       "      <td>30</td>\n",
       "    </tr>\n",
       "    <tr>\n",
       "      <th>2</th>\n",
       "      <td>2013</td>\n",
       "      <td>Kidney disease</td>\n",
       "      <td>Vermont</td>\n",
       "      <td>30</td>\n",
       "    </tr>\n",
       "    <tr>\n",
       "      <th>7</th>\n",
       "      <td>2015</td>\n",
       "      <td>Kidney disease</td>\n",
       "      <td>Vermont</td>\n",
       "      <td>39</td>\n",
       "    </tr>\n",
       "    <tr>\n",
       "      <th>8</th>\n",
       "      <td>2014</td>\n",
       "      <td>Kidney disease</td>\n",
       "      <td>Vermont</td>\n",
       "      <td>37</td>\n",
       "    </tr>\n",
       "  </tbody>\n",
       "</table>\n",
       "</div>"
      ],
      "text/plain": [
       "   Year      Cause Name    State  Deaths\n",
       "0  2012  Kidney disease  Vermont      21\n",
       "1  2016  Kidney disease  Vermont      30\n",
       "2  2013  Kidney disease  Vermont      30\n",
       "7  2015  Kidney disease  Vermont      39\n",
       "8  2014  Kidney disease  Vermont      37"
      ]
     },
     "execution_count": 68,
     "metadata": {},
     "output_type": "execute_result"
    }
   ],
   "source": [
    "# Subsetting the data into deaths from kidney disease in Vermont\n",
    "\n",
    "vermont_filter = simplified['State'] == 'Vermont'\n",
    "vermont = simplified[vermont_filter]\n",
    "vermont_kidney = vermont[vermont['Cause Name'] == 'Kidney disease']\n",
    "# vermont_kidney.iloc[vermont_kidney['Year'] == '2012', 'Deaths']\n",
    "# Attempt to find numDeaths in 2012 due to Kidney disease, but failed\n",
    "vermont_kidney.head()"
   ]
  },
  {
   "cell_type": "code",
   "execution_count": 71,
   "metadata": {},
   "outputs": [
    {
     "data": {
      "image/png": "[encoded data removed]",
      "text/plain": [
       "<matplotlib.figure.Figure at 0x1889990d9e8>"
      ]
     },
     "metadata": {},
     "output_type": "display_data"
    }
   ],
   "source": [
    "# Plotting Deaths per year in Vermont due to Kidney disease. \n",
    "# Interesting downward trend. Need to fix x-ticks\n",
    "\n",
    "sns.lmplot(x='Year', y='Deaths', data=vermont_kidney)\n",
    "plt.ylim(0, 100)\n",
    "plt.show()"
   ]
  }
 ],
 "metadata": {
  "kernelspec": {
   "display_name": "Python 3",
   "language": "python",
   "name": "python3"
  },
  "language_info": {
   "codemirror_mode": {
    "name": "ipython",
    "version": 3
   },
   "file_extension": ".py",
   "mimetype": "text/x-python",
   "name": "python",
   "nbconvert_exporter": "python",
   "pygments_lexer": "ipython3",
   "version": "3.6.3"
  }
 },
 "nbformat": 4,
 "nbformat_minor": 2
}
