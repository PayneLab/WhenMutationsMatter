{
 "cells": [
  {
   "cell_type": "markdown",
   "metadata": {},
   "source": [
    "## BlackSheep Cookbook Take 1\n",
    "\n",
    "The Black Sheep Analysis allows researchers to find trends in abnormal protein enrichment among patients in CPTAC datasets. In this Cookbook, we will go through the steps needed to perform a full Black Sheep Analysis, to answer a research question, of if BMI, age, or country of origin play a role in protein enrichments for patients with Endometrial Cancer."
   ]
  },
  {
   "cell_type": "markdown",
   "metadata": {},
   "source": [
    "### Step 1a: Import Dependencies and Choose Omics Table\n",
    "First, import the necessary dependencies and install cptac through pip."
   ]
  },
  {
   "cell_type": "code",
   "execution_count": 39,
   "metadata": {},
   "outputs": [
    {
     "data": {
      "text/plain": [
       "<module 'blackSheepCPTACmoduleCopy' from 'C:\\\\Users\\\\Daniel\\\\Documents\\\\GitHub\\\\WhenMutationsMatter\\\\Daniel\\\\blackSheepCPTACmoduleCopy.py'>"
      ]
     },
     "execution_count": 39,
     "metadata": {},
     "output_type": "execute_result"
    }
   ],
   "source": [
    "import numpy as np\n",
    "import pandas as pd\n",
    "import matplotlib.pyplot as plt\n",
    "import seaborn as sns\n",
    "#!pip install cptac\n",
    "import cptac\n",
    "import binarization_functions as bf\n",
    "import blackSheepCPTACmoduleCopy as blsh\n",
    "import importlib\n",
    "importlib.reload(bf)\n",
    "importlib.reload(blsh)"
   ]
  },
  {
   "cell_type": "markdown",
   "metadata": {},
   "source": [
    "## Step 1b: Load Data and Choose Omics Table"
   ]
  },
  {
   "cell_type": "code",
   "execution_count": 54,
   "metadata": {},
   "outputs": [
    {
     "name": "stdout",
     "output_type": "stream",
     "text": [
      "Checking that data files are up-to-date...\n",
      "100% [..................................................................................] 649 / 649\n",
      "Data check complete.\n",
      "endometrial data version: 2.1\n",
      "\n",
      "Loading acetylproteomics data...\n",
      "Loading clinical data...\n",
      "Loading CNA data...\n",
      "Loading definitions data...\n",
      "Loading miRNA data...\n",
      "Loading phosphoproteomics_gene data...\n",
      "Loading phosphoproteomics_site data...\n",
      "Loading proteomics data...\n",
      "Loading somatic data...\n",
      "Loading somatic_binary data...\n",
      "Loading transcriptomics_circular data...\n",
      "Loading transcriptomics_linear data...\n",
      "\n",
      " ******PLEASE READ******\n",
      "WARNING: This data is under a publication embargo until July 1, 2019.\n",
      "CPTAC is a community resource project and data are made available\n",
      "rapidly after generation for community research use. The embargo\n",
      "allows exploring and utilizing the data, but analysis may not be\n",
      "published until July 1, 2019. Please see\n",
      "https://proteomics.cancer.gov/data-portal/about/data-use-agreement or\n",
      "enter cptac.embargo() to open the webpage for more details.\n"
     ]
    }
   ],
   "source": [
    "en = cptac.Endometrial()\n",
    "proteomics = en.get_proteomics()\n",
    "transcriptomics = en.get_transcriptomics()\n",
    "clinical = en.get_clinical()\n",
    "phospho = en.get_phosphoproteomics()"
   ]
  },
  {
   "cell_type": "code",
   "execution_count": 15,
   "metadata": {
    "collapsed": true
   },
   "outputs": [],
   "source": [
    "#Append Genomics_subtype and MSI_status to en.get_clinical()\n",
    "df= en.get_derived_molecular()\n",
    "important_things_to_append = ['Genomics_subtype', 'MSI_status']\n",
    "\n",
    "clinical['Genomics_subtype'] = df['Genomics_subtype']\n",
    "clinical['MSI_status'] = df['MSI_status']"
   ]
  },
  {
   "cell_type": "markdown",
   "metadata": {},
   "source": [
    "## Step 2: Determine what attributes you would like to A/B test. "
   ]
  },
  {
   "cell_type": "code",
   "execution_count": 5,
   "metadata": {
    "collapsed": true
   },
   "outputs": [],
   "source": [
    "#Create a subset copy of the original Clinical DataFrame. \n",
    "annotations = clinical[['Country', 'BMI', 'Age', 'Histologic_type']].copy()\n",
    "\n",
    "#Create a dictionary to map replace countries into two options: US or Other\n",
    "#Key = country to replace\n",
    "#Value = replacement for key\n",
    "MSI_map = {'United States':'US', \n",
    "              'Ukraine':'Other', \n",
    "              'Other_specify':'Other', \n",
    "              'Poland':'Other'}\n",
    "\n",
    "#Using the functions to binarize various different columns\n",
    "#NOTE: Histologic_type is already binary, and does not need to be binarized\n",
    "annotations['Country'] = bf.binarizeCategorical(clinical, 'Country', dictionary_map)\n",
    "annotations['BMI'] = bf.binarizeRange(clinical, 'BMI', 18, 25, 'Healthy', 'Unhealthy')\n",
    "annotations['Age'] = bf.binarizeCutOff(clinical, 'Age', 60.0, 'Old', 'Young')"
   ]
  },
  {
   "cell_type": "code",
   "execution_count": 7,
   "metadata": {
    "collapsed": true
   },
   "outputs": [],
   "source": [
    "#This cell is for reference so that I don't have to keep looking up which columns\n",
    "#in the clinical dataset are binary and which aren't for testing.\n",
    "\n",
    "non_binary_columns = ['Country', 'Histologic_Grade_FIGO', \n",
    "                      'Proteomics_Tumor_Normal', 'Myometrial_invasion_Specify', \n",
    "                      'Path_Stage_Primary_Tumor-pT', 'Path_Stage_Reg_Lymph_Nodes-pN', \n",
    "                      'Clin_Stage_Dist_Mets-cM', 'Path_Stage_Dist_Mets-pM', \n",
    "                      'tumor_Stage-Pathological', 'FIGO_stage', 'BMI', 'Age', 'Race', \n",
    "                      'Ethnicity', 'Tumor_Site', 'Tumor_Site_Other', 'Tumor_Size_cm', \n",
    "                      'Num_full_term_pregnancies']\n",
    "\n",
    "already_binary_columns = ['Treatment_naive', 'Diabetes', 'Gender', \n",
    "                          'Tumor_Focality', 'Histologic_type', \n",
    "                          'Tumor_purity', 'LVSI']"
   ]
  },
  {
   "cell_type": "markdown",
   "metadata": {},
   "source": [
    "## Step 3: Perform outliers analysis"
   ]
  },
  {
   "cell_type": "code",
   "execution_count": 6,
   "metadata": {
    "collapsed": true
   },
   "outputs": [],
   "source": [
    "outliers = blsh.make_outliers_table(transcriptomics, iqrs=2.0, \n",
    "                                  up_or_down='up', aggregate=False, \n",
    "                                  frac_table=False)"
   ]
  },
  {
   "cell_type": "markdown",
   "metadata": {},
   "source": [
    "## Step 4: Wrap your A/B test into the outliers analysis, and create a table"
   ]
  },
  {
   "cell_type": "code",
   "execution_count": 18,
   "metadata": {},
   "outputs": [
    {
     "name": "stdout",
     "output_type": "stream",
     "text": [
      "Testing 9 rows for enrichment in Country Other samples\n",
      "Testing 49 rows for enrichment in Country US samples\n",
      "No rows had outliers in at least 0.3 of BMI Unhealthy samples\n",
      "Testing 262 rows for enrichment in BMI Healthy samples\n",
      "Testing 14 rows for enrichment in Age Old samples\n",
      "Testing 59 rows for enrichment in Age Young samples\n",
      "Testing 2 rows for enrichment in Histologic_type Endometrioid samples\n",
      "Testing 813 rows for enrichment in Histologic_type Serous samples\n"
     ]
    }
   ],
   "source": [
    "results = blsh.compare_groups_outliers(outliers, annotations, frac_filter=.3)"
   ]
  },
  {
   "cell_type": "markdown",
   "metadata": {},
   "source": [
    "## Step 5: Visualize these enrichments"
   ]
  },
  {
   "cell_type": "code",
   "execution_count": 19,
   "metadata": {},
   "outputs": [
    {
     "data": {
      "text/html": [
       "<div>\n",
       "<style scoped>\n",
       "    .dataframe tbody tr th:only-of-type {\n",
       "        vertical-align: middle;\n",
       "    }\n",
       "\n",
       "    .dataframe tbody tr th {\n",
       "        vertical-align: top;\n",
       "    }\n",
       "\n",
       "    .dataframe thead th {\n",
       "        text-align: right;\n",
       "    }\n",
       "</style>\n",
       "<table border=\"1\" class=\"dataframe\">\n",
       "  <thead>\n",
       "    <tr style=\"text-align: right;\">\n",
       "      <th></th>\n",
       "      <th>Country_Other_enrichment_FDR</th>\n",
       "      <th>Country_US_enrichment_FDR</th>\n",
       "      <th>BMI_Healthy_enrichment_FDR</th>\n",
       "      <th>Age_Old_enrichment_FDR</th>\n",
       "      <th>Age_Young_enrichment_FDR</th>\n",
       "      <th>Histologic_type_Endometrioid_enrichment_FDR</th>\n",
       "      <th>Histologic_type_Serous_enrichment_FDR</th>\n",
       "    </tr>\n",
       "  </thead>\n",
       "  <tbody>\n",
       "    <tr>\n",
       "      <th>A1BG</th>\n",
       "      <td>NaN</td>\n",
       "      <td>NaN</td>\n",
       "      <td>NaN</td>\n",
       "      <td>NaN</td>\n",
       "      <td>NaN</td>\n",
       "      <td>NaN</td>\n",
       "      <td>NaN</td>\n",
       "    </tr>\n",
       "    <tr>\n",
       "      <th>A1BG-AS1</th>\n",
       "      <td>NaN</td>\n",
       "      <td>NaN</td>\n",
       "      <td>NaN</td>\n",
       "      <td>NaN</td>\n",
       "      <td>NaN</td>\n",
       "      <td>NaN</td>\n",
       "      <td>NaN</td>\n",
       "    </tr>\n",
       "    <tr>\n",
       "      <th>A1CF</th>\n",
       "      <td>NaN</td>\n",
       "      <td>NaN</td>\n",
       "      <td>NaN</td>\n",
       "      <td>NaN</td>\n",
       "      <td>NaN</td>\n",
       "      <td>NaN</td>\n",
       "      <td>NaN</td>\n",
       "    </tr>\n",
       "    <tr>\n",
       "      <th>A2M</th>\n",
       "      <td>NaN</td>\n",
       "      <td>NaN</td>\n",
       "      <td>NaN</td>\n",
       "      <td>NaN</td>\n",
       "      <td>NaN</td>\n",
       "      <td>NaN</td>\n",
       "      <td>NaN</td>\n",
       "    </tr>\n",
       "    <tr>\n",
       "      <th>A2M-AS1</th>\n",
       "      <td>NaN</td>\n",
       "      <td>NaN</td>\n",
       "      <td>NaN</td>\n",
       "      <td>NaN</td>\n",
       "      <td>NaN</td>\n",
       "      <td>NaN</td>\n",
       "      <td>NaN</td>\n",
       "    </tr>\n",
       "  </tbody>\n",
       "</table>\n",
       "</div>"
      ],
      "text/plain": [
       "          Country_Other_enrichment_FDR  Country_US_enrichment_FDR  \\\n",
       "A1BG                               NaN                        NaN   \n",
       "A1BG-AS1                           NaN                        NaN   \n",
       "A1CF                               NaN                        NaN   \n",
       "A2M                                NaN                        NaN   \n",
       "A2M-AS1                            NaN                        NaN   \n",
       "\n",
       "          BMI_Healthy_enrichment_FDR  Age_Old_enrichment_FDR  \\\n",
       "A1BG                             NaN                     NaN   \n",
       "A1BG-AS1                         NaN                     NaN   \n",
       "A1CF                             NaN                     NaN   \n",
       "A2M                              NaN                     NaN   \n",
       "A2M-AS1                          NaN                     NaN   \n",
       "\n",
       "          Age_Young_enrichment_FDR  \\\n",
       "A1BG                           NaN   \n",
       "A1BG-AS1                       NaN   \n",
       "A1CF                           NaN   \n",
       "A2M                            NaN   \n",
       "A2M-AS1                        NaN   \n",
       "\n",
       "          Histologic_type_Endometrioid_enrichment_FDR  \\\n",
       "A1BG                                              NaN   \n",
       "A1BG-AS1                                          NaN   \n",
       "A1CF                                              NaN   \n",
       "A2M                                               NaN   \n",
       "A2M-AS1                                           NaN   \n",
       "\n",
       "          Histologic_type_Serous_enrichment_FDR  \n",
       "A1BG                                        NaN  \n",
       "A1BG-AS1                                    NaN  \n",
       "A1CF                                        NaN  \n",
       "A2M                                         NaN  \n",
       "A2M-AS1                                     NaN  "
      ]
     },
     "execution_count": 19,
     "metadata": {},
     "output_type": "execute_result"
    }
   ],
   "source": [
    "results.head()"
   ]
  },
  {
   "cell_type": "code",
   "execution_count": 20,
   "metadata": {},
   "outputs": [
    {
     "data": {
      "image/png": "[encoded data removed]",
      "text/plain": [
       "<Figure size 432x288 with 2 Axes>"
      ]
     },
     "metadata": {},
     "output_type": "display_data"
    }
   ],
   "source": [
    "sns.heatmap(results)\n",
    "plt.show()"
   ]
  },
  {
   "cell_type": "markdown",
   "metadata": {},
   "source": [
    "## Step 6: Determine significant enrichments, and link with cancer drug database."
   ]
  },
  {
   "cell_type": "code",
   "execution_count": 40,
   "metadata": {},
   "outputs": [
    {
     "name": "stdout",
     "output_type": "stream",
     "text": [
      "No significant results in Country_Other\n",
      "\n",
      "No significant results in Country_US\n",
      "\n",
      "No significant results in BMI_Healthy\n",
      "\n",
      "No significant results in Age_Old\n",
      "\n",
      "No significant results in Age_Young\n",
      "\n",
      "No significant results in Histologic_type_Endometrioid\n",
      "\n",
      "There are 153 significant proteins enrichments in Histologic_type_Serous:\n",
      "\n"
     ]
    }
   ],
   "source": [
    "#Check for significant columns\n",
    "for col in results.columns:\n",
    "    bf.significantEnrichments(results, col, 0.001)"
   ]
  },
  {
   "cell_type": "code",
   "execution_count": 41,
   "metadata": {},
   "outputs": [
    {
     "name": "stdout",
     "output_type": "stream",
     "text": [
      "There are 153 significant proteins enrichments in Histologic_type_Serous:\n",
      "\n"
     ]
    }
   ],
   "source": [
    "#Store the dataframe of significant enrichments\n",
    "sig_results = bf.significantEnrichments(results, 'Histologic_type_Serous_enrichment_FDR', 0.001)"
   ]
  },
  {
   "cell_type": "code",
   "execution_count": 53,
   "metadata": {},
   "outputs": [
    {
     "data": {
      "text/html": [
       "<div>\n",
       "<style scoped>\n",
       "    .dataframe tbody tr th:only-of-type {\n",
       "        vertical-align: middle;\n",
       "    }\n",
       "\n",
       "    .dataframe tbody tr th {\n",
       "        vertical-align: top;\n",
       "    }\n",
       "\n",
       "    .dataframe thead th {\n",
       "        text-align: right;\n",
       "    }\n",
       "</style>\n",
       "<table border=\"1\" class=\"dataframe\">\n",
       "  <thead>\n",
       "    <tr style=\"text-align: right;\">\n",
       "      <th></th>\n",
       "      <th>Histologic_type_Serous_P_values</th>\n",
       "    </tr>\n",
       "  </thead>\n",
       "  <tbody>\n",
       "    <tr>\n",
       "      <th>AAR2</th>\n",
       "      <td>0.000143</td>\n",
       "    </tr>\n",
       "    <tr>\n",
       "      <th>AATF</th>\n",
       "      <td>0.000028</td>\n",
       "    </tr>\n",
       "    <tr>\n",
       "      <th>ABHD8</th>\n",
       "      <td>0.000872</td>\n",
       "    </tr>\n",
       "    <tr>\n",
       "      <th>AKAP4</th>\n",
       "      <td>0.000105</td>\n",
       "    </tr>\n",
       "    <tr>\n",
       "      <th>AKR1B1</th>\n",
       "      <td>0.000872</td>\n",
       "    </tr>\n",
       "  </tbody>\n",
       "</table>\n",
       "</div>"
      ],
      "text/plain": [
       "        Histologic_type_Serous_P_values\n",
       "AAR2                           0.000143\n",
       "AATF                           0.000028\n",
       "ABHD8                          0.000872\n",
       "AKAP4                          0.000105\n",
       "AKR1B1                         0.000872"
      ]
     },
     "execution_count": 53,
     "metadata": {},
     "output_type": "execute_result"
    }
   ],
   "source": [
    "sig_results.head()"
   ]
  },
  {
   "cell_type": "code",
   "execution_count": null,
   "metadata": {
    "collapsed": true
   },
   "outputs": [],
   "source": []
  }
 ],
 "metadata": {
  "kernelspec": {
   "display_name": "Python 3",
   "language": "python",
   "name": "python3"
  },
  "language_info": {
   "codemirror_mode": {
    "name": "ipython",
    "version": 3
   },
   "file_extension": ".py",
   "mimetype": "text/x-python",
   "name": "python",
   "nbconvert_exporter": "python",
   "pygments_lexer": "ipython3",
   "version": "3.6.2"
  }
 },
 "nbformat": 4,
 "nbformat_minor": 2
}
