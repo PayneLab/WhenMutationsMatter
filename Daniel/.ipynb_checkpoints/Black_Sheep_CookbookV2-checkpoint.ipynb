{
 "cells": [
  {
   "cell_type": "markdown",
   "metadata": {},
   "source": [
    "## BlackSheep Cookbook Take 2\n",
    "\n",
    "The Black Sheep Analysis allows researchers to find trends in abnormal protein enrichment among patients in CPTAC datasets. In this Cookbook, we will go through the steps needed to perform a full Black Sheep Analysis, to answer a research question, of if BMI, age, or country of origin play a role in protein enrichments for patients with Endometrial Cancer."
   ]
  },
  {
   "cell_type": "markdown",
   "metadata": {},
   "source": [
    "### Step 1a: Import Dependencies\n",
    "First, import the necessary dependencies and install cptac through pip."
   ]
  },
  {
   "cell_type": "code",
   "execution_count": 38,
   "metadata": {},
   "outputs": [
    {
     "data": {
      "text/plain": [
       "<module 'blackSheepCPTACmoduleCopy' from 'C:\\\\Users\\\\Daniel\\\\Documents\\\\GitHub\\\\WhenMutationsMatter\\\\Daniel\\\\blackSheepCPTACmoduleCopy.py'>"
      ]
     },
     "execution_count": 38,
     "metadata": {},
     "output_type": "execute_result"
    }
   ],
   "source": [
    "import numpy as np\n",
    "import pandas as pd\n",
    "import matplotlib.pyplot as plt\n",
    "import seaborn as sns\n",
    "#!pip install cptac\n",
    "import cptac\n",
    "import binarization_functions as bf\n",
    "import blackSheepCPTACmoduleCopy as blsh\n",
    "import importlib\n",
    "importlib.reload(bf)\n",
    "importlib.reload(blsh)"
   ]
  },
  {
   "cell_type": "markdown",
   "metadata": {},
   "source": [
    "## Step 1b: Load Data and Choose Omics Table"
   ]
  },
  {
   "cell_type": "code",
   "execution_count": 2,
   "metadata": {},
   "outputs": [
    {
     "name": "stdout",
     "output_type": "stream",
     "text": [
      "Checking that data files are up-to-date...\n",
      "100% [..................................................................................] 649 / 649\n",
      "Data check complete.\n",
      "endometrial data version: 2.1\n",
      "\n",
      "Loading acetylproteomics data...\n",
      "Loading clinical data...\n",
      "Loading CNA data...\n",
      "Loading definitions data...\n",
      "Loading miRNA data...\n",
      "Loading phosphoproteomics_gene data...\n",
      "Loading phosphoproteomics_site data...\n",
      "Loading proteomics data...\n",
      "Loading somatic data...\n",
      "Loading somatic_binary data...\n",
      "Loading transcriptomics_circular data...\n",
      "Loading transcriptomics_linear data...\n",
      "\n",
      " ******PLEASE READ******\n",
      "WARNING: This data is under a publication embargo until July 1, 2019.\n",
      "CPTAC is a community resource project and data are made available\n",
      "rapidly after generation for community research use. The embargo\n",
      "allows exploring and utilizing the data, but analysis may not be\n",
      "published until July 1, 2019. Please see\n",
      "https://proteomics.cancer.gov/data-portal/about/data-use-agreement or\n",
      "enter cptac.embargo() to open the webpage for more details.\n"
     ]
    }
   ],
   "source": [
    "en = cptac.Endometrial()\n",
    "proteomics = en.get_proteomics()\n",
    "phospho = en.get_phosphoproteomics()\n",
    "clinical = en.get_clinical()"
   ]
  },
  {
   "cell_type": "code",
   "execution_count": 3,
   "metadata": {
    "collapsed": true
   },
   "outputs": [],
   "source": [
    "#Append Genomics_subtype and MSI_status to en.get_clinical()\n",
    "df= en.get_derived_molecular()\n",
    "important_things_to_append = ['Genomics_subtype', 'MSI_status']\n",
    "\n",
    "clinical['Genomics_subtype'] = df['Genomics_subtype']\n",
    "clinical['MSI_status'] = df['MSI_status']"
   ]
  },
  {
   "cell_type": "code",
   "execution_count": 61,
   "metadata": {},
   "outputs": [
    {
     "data": {
      "text/html": [
       "<div>\n",
       "<style scoped>\n",
       "    .dataframe tbody tr th:only-of-type {\n",
       "        vertical-align: middle;\n",
       "    }\n",
       "\n",
       "    .dataframe tbody tr th {\n",
       "        vertical-align: top;\n",
       "    }\n",
       "\n",
       "    .dataframe thead th {\n",
       "        text-align: right;\n",
       "    }\n",
       "</style>\n",
       "<table border=\"1\" class=\"dataframe\">\n",
       "  <thead>\n",
       "    <tr style=\"text-align: right;\">\n",
       "      <th></th>\n",
       "      <th>hsa-let-7a-2-3p</th>\n",
       "      <th>hsa-let-7a-3p</th>\n",
       "      <th>hsa-let-7a-5p</th>\n",
       "      <th>hsa-let-7b-3p</th>\n",
       "      <th>hsa-let-7b-5p</th>\n",
       "      <th>hsa-let-7c-3p</th>\n",
       "      <th>hsa-let-7c-5p</th>\n",
       "      <th>hsa-let-7d-3p</th>\n",
       "      <th>hsa-let-7d-5p</th>\n",
       "      <th>hsa-let-7e-3p</th>\n",
       "      <th>...</th>\n",
       "      <th>hsa-miR-9901</th>\n",
       "      <th>hsa-miR-9902</th>\n",
       "      <th>hsa-miR-9903</th>\n",
       "      <th>hsa-miR-9983-3p</th>\n",
       "      <th>hsa-miR-9985</th>\n",
       "      <th>hsa-miR-9986</th>\n",
       "      <th>hsa-miR-99a-3p</th>\n",
       "      <th>hsa-miR-99a-5p</th>\n",
       "      <th>hsa-miR-99b-3p</th>\n",
       "      <th>hsa-miR-99b-5p</th>\n",
       "    </tr>\n",
       "    <tr>\n",
       "      <th>Sample_ID</th>\n",
       "      <th></th>\n",
       "      <th></th>\n",
       "      <th></th>\n",
       "      <th></th>\n",
       "      <th></th>\n",
       "      <th></th>\n",
       "      <th></th>\n",
       "      <th></th>\n",
       "      <th></th>\n",
       "      <th></th>\n",
       "      <th></th>\n",
       "      <th></th>\n",
       "      <th></th>\n",
       "      <th></th>\n",
       "      <th></th>\n",
       "      <th></th>\n",
       "      <th></th>\n",
       "      <th></th>\n",
       "      <th></th>\n",
       "      <th></th>\n",
       "      <th></th>\n",
       "    </tr>\n",
       "  </thead>\n",
       "  <tbody>\n",
       "    <tr>\n",
       "      <th>S001</th>\n",
       "      <td>0.93</td>\n",
       "      <td>6.45</td>\n",
       "      <td>15.92</td>\n",
       "      <td>8.98</td>\n",
       "      <td>13.66</td>\n",
       "      <td>1.33</td>\n",
       "      <td>14.41</td>\n",
       "      <td>9.58</td>\n",
       "      <td>12.31</td>\n",
       "      <td>5.01</td>\n",
       "      <td>...</td>\n",
       "      <td>0.00</td>\n",
       "      <td>0.0</td>\n",
       "      <td>1.56</td>\n",
       "      <td>0.00</td>\n",
       "      <td>4.55</td>\n",
       "      <td>0.0</td>\n",
       "      <td>3.04</td>\n",
       "      <td>11.77</td>\n",
       "      <td>8.42</td>\n",
       "      <td>13.28</td>\n",
       "    </tr>\n",
       "    <tr>\n",
       "      <th>S002</th>\n",
       "      <td>0.69</td>\n",
       "      <td>6.86</td>\n",
       "      <td>16.05</td>\n",
       "      <td>9.38</td>\n",
       "      <td>13.69</td>\n",
       "      <td>1.60</td>\n",
       "      <td>14.65</td>\n",
       "      <td>9.04</td>\n",
       "      <td>12.28</td>\n",
       "      <td>4.48</td>\n",
       "      <td>...</td>\n",
       "      <td>0.00</td>\n",
       "      <td>0.0</td>\n",
       "      <td>1.94</td>\n",
       "      <td>0.00</td>\n",
       "      <td>3.16</td>\n",
       "      <td>0.0</td>\n",
       "      <td>2.65</td>\n",
       "      <td>12.27</td>\n",
       "      <td>7.83</td>\n",
       "      <td>12.87</td>\n",
       "    </tr>\n",
       "    <tr>\n",
       "      <th>S003</th>\n",
       "      <td>1.20</td>\n",
       "      <td>6.41</td>\n",
       "      <td>15.86</td>\n",
       "      <td>8.83</td>\n",
       "      <td>12.87</td>\n",
       "      <td>3.21</td>\n",
       "      <td>14.06</td>\n",
       "      <td>9.12</td>\n",
       "      <td>11.85</td>\n",
       "      <td>5.31</td>\n",
       "      <td>...</td>\n",
       "      <td>0.16</td>\n",
       "      <td>0.0</td>\n",
       "      <td>3.44</td>\n",
       "      <td>0.77</td>\n",
       "      <td>4.03</td>\n",
       "      <td>0.0</td>\n",
       "      <td>3.81</td>\n",
       "      <td>12.98</td>\n",
       "      <td>7.89</td>\n",
       "      <td>13.12</td>\n",
       "    </tr>\n",
       "    <tr>\n",
       "      <th>S005</th>\n",
       "      <td>0.37</td>\n",
       "      <td>8.57</td>\n",
       "      <td>16.21</td>\n",
       "      <td>8.77</td>\n",
       "      <td>13.37</td>\n",
       "      <td>2.50</td>\n",
       "      <td>14.44</td>\n",
       "      <td>8.40</td>\n",
       "      <td>12.23</td>\n",
       "      <td>4.87</td>\n",
       "      <td>...</td>\n",
       "      <td>0.20</td>\n",
       "      <td>0.0</td>\n",
       "      <td>2.43</td>\n",
       "      <td>0.00</td>\n",
       "      <td>4.15</td>\n",
       "      <td>0.0</td>\n",
       "      <td>3.92</td>\n",
       "      <td>11.77</td>\n",
       "      <td>7.80</td>\n",
       "      <td>12.03</td>\n",
       "    </tr>\n",
       "    <tr>\n",
       "      <th>S009</th>\n",
       "      <td>1.71</td>\n",
       "      <td>8.11</td>\n",
       "      <td>15.61</td>\n",
       "      <td>8.28</td>\n",
       "      <td>12.23</td>\n",
       "      <td>2.92</td>\n",
       "      <td>13.54</td>\n",
       "      <td>8.31</td>\n",
       "      <td>11.70</td>\n",
       "      <td>5.60</td>\n",
       "      <td>...</td>\n",
       "      <td>0.78</td>\n",
       "      <td>0.0</td>\n",
       "      <td>1.48</td>\n",
       "      <td>0.67</td>\n",
       "      <td>4.27</td>\n",
       "      <td>0.0</td>\n",
       "      <td>3.81</td>\n",
       "      <td>12.41</td>\n",
       "      <td>9.19</td>\n",
       "      <td>12.91</td>\n",
       "    </tr>\n",
       "  </tbody>\n",
       "</table>\n",
       "<p>5 rows × 2337 columns</p>\n",
       "</div>"
      ],
      "text/plain": [
       "           hsa-let-7a-2-3p  hsa-let-7a-3p  hsa-let-7a-5p  hsa-let-7b-3p  \\\n",
       "Sample_ID                                                                 \n",
       "S001                  0.93           6.45          15.92           8.98   \n",
       "S002                  0.69           6.86          16.05           9.38   \n",
       "S003                  1.20           6.41          15.86           8.83   \n",
       "S005                  0.37           8.57          16.21           8.77   \n",
       "S009                  1.71           8.11          15.61           8.28   \n",
       "\n",
       "           hsa-let-7b-5p  hsa-let-7c-3p  hsa-let-7c-5p  hsa-let-7d-3p  \\\n",
       "Sample_ID                                                               \n",
       "S001               13.66           1.33          14.41           9.58   \n",
       "S002               13.69           1.60          14.65           9.04   \n",
       "S003               12.87           3.21          14.06           9.12   \n",
       "S005               13.37           2.50          14.44           8.40   \n",
       "S009               12.23           2.92          13.54           8.31   \n",
       "\n",
       "           hsa-let-7d-5p  hsa-let-7e-3p  ...  hsa-miR-9901  hsa-miR-9902  \\\n",
       "Sample_ID                                ...                               \n",
       "S001               12.31           5.01  ...          0.00           0.0   \n",
       "S002               12.28           4.48  ...          0.00           0.0   \n",
       "S003               11.85           5.31  ...          0.16           0.0   \n",
       "S005               12.23           4.87  ...          0.20           0.0   \n",
       "S009               11.70           5.60  ...          0.78           0.0   \n",
       "\n",
       "           hsa-miR-9903  hsa-miR-9983-3p  hsa-miR-9985  hsa-miR-9986  \\\n",
       "Sample_ID                                                              \n",
       "S001               1.56             0.00          4.55           0.0   \n",
       "S002               1.94             0.00          3.16           0.0   \n",
       "S003               3.44             0.77          4.03           0.0   \n",
       "S005               2.43             0.00          4.15           0.0   \n",
       "S009               1.48             0.67          4.27           0.0   \n",
       "\n",
       "           hsa-miR-99a-3p  hsa-miR-99a-5p  hsa-miR-99b-3p  hsa-miR-99b-5p  \n",
       "Sample_ID                                                                  \n",
       "S001                 3.04           11.77            8.42           13.28  \n",
       "S002                 2.65           12.27            7.83           12.87  \n",
       "S003                 3.81           12.98            7.89           13.12  \n",
       "S005                 3.92           11.77            7.80           12.03  \n",
       "S009                 3.81           12.41            9.19           12.91  \n",
       "\n",
       "[5 rows x 2337 columns]"
      ]
     },
     "execution_count": 61,
     "metadata": {},
     "output_type": "execute_result"
    }
   ],
   "source": [
    "miRNA = en.get_miRNA()\n",
    "miRNA.head()"
   ]
  },
  {
   "cell_type": "code",
   "execution_count": 55,
   "metadata": {},
   "outputs": [
    {
     "name": "stdout",
     "output_type": "stream",
     "text": [
      "Below are the dataframes contained in this dataset:\n",
      "\tacetylproteomics\n",
      "\t\tDimensions: (144, 10862)\n",
      "\tcircular_RNA\n",
      "\t\tDimensions: (109, 4945)\n",
      "\tclinical\n",
      "\t\tDimensions: (144, 26)\n",
      "\tCNA\n",
      "\t\tDimensions: (95, 28057)\n",
      "\tderived_molecular\n",
      "\t\tDimensions: (144, 125)\n",
      "\texperimental_setup\n",
      "\t\tDimensions: (144, 26)\n",
      "\tmiRNA\n",
      "\t\tDimensions: (99, 2337)\n",
      "\tphosphoproteomics\n",
      "\t\tDimensions: (144, 73212)\n",
      "\tphosphoproteomics_gene\n",
      "\t\tDimensions: (144, 8466)\n",
      "\tproteomics\n",
      "\t\tDimensions: (144, 10999)\n",
      "\tsomatic_mutation\n",
      "\t\tDimensions: (52560, 3)\n",
      "\tsomatic_mutation_binary\n",
      "\t\tDimensions: (95, 51559)\n",
      "\ttranscriptomics\n",
      "\t\tDimensions: (109, 28057)\n"
     ]
    }
   ],
   "source": [
    "en.list_data()"
   ]
  },
  {
   "cell_type": "markdown",
   "metadata": {},
   "source": [
    "## Step 2: Determine what attributes you would like to A/B test. \n",
    "For this analysis, we will be testing MSI_status versus BMI in the proteomics dataset, and Histologic_type versus Age in the phosphoproteomics dataset."
   ]
  },
  {
   "cell_type": "code",
   "execution_count": 41,
   "metadata": {},
   "outputs": [],
   "source": [
    "#Create a subset copy of the original Clinical DataFrame for proteomics. \n",
    "annotations_prot = clinical[['MSI_status', 'BMI']].copy()\n",
    "\n",
    "#Binarize the BMI column into two options: Healthy and Unhealthy\n",
    "annotations_prot['BMI'] = bf.binarizeRange(annotations_prot, \n",
    "                                           'BMI', 18.5, 25, \n",
    "                                           'Healthy', 'Unhealthy')\n",
    "\n",
    "#Create a subset copy of the orignial Clinical DataFrame for phosphoproteomics.\n",
    "annotations_phospho = clinical[['Histologic_type', 'Age']].copy()\n",
    "\n",
    "#Binarize the Age column into two options: Old and Young\n",
    "annotations_phospho['Age'] = bf.binarizeCutOff(annotations_phospho, \n",
    "                                               'Age', 65, 'Old', 'Young')"
   ]
  },
  {
   "cell_type": "markdown",
   "metadata": {},
   "source": [
    "## Step 3: Perform outliers analysis"
   ]
  },
  {
   "cell_type": "code",
   "execution_count": 44,
   "metadata": {},
   "outputs": [
    {
     "name": "stderr",
     "output_type": "stream",
     "text": [
      "C:\\Users\\Daniel\\AppData\\Local\\conda\\conda\\envs\\Research\\lib\\site-packages\\numpy\\lib\\nanfunctions.py:1354: RuntimeWarning: All-NaN slice encountered\n",
      "  overwrite_input, interpolation)\n"
     ]
    }
   ],
   "source": [
    "outliers_prot = blsh.make_outliers_table(proteomics, iqrs=2.0, \n",
    "                                         up_or_down='up', \n",
    "                                         aggregate=False, \n",
    "                                         frac_table=False)\n",
    "\n",
    "outliers_phospho = blsh.make_outliers_table(phospho, iqrs=2.0, \n",
    "                                            up_or_down='up', \n",
    "                                            aggregate=False, \n",
    "                                            frac_table=False)"
   ]
  },
  {
   "cell_type": "markdown",
   "metadata": {},
   "source": [
    "## Step 4: Wrap your A/B test into the outliers analysis, and create a table"
   ]
  },
  {
   "cell_type": "code",
   "execution_count": 45,
   "metadata": {},
   "outputs": [
    {
     "name": "stdout",
     "output_type": "stream",
     "text": [
      "Testing 147 rows for enrichment in MSI_status MSS samples\n",
      "Testing 292 rows for enrichment in MSI_status MSI-H samples\n",
      "Testing 72 rows for enrichment in BMI Unhealthy samples\n",
      "Testing 2121 rows for enrichment in BMI Healthy samples\n",
      "Testing 41 rows for enrichment in Histologic_type Endometrioid samples\n",
      "Testing 1550 rows for enrichment in Histologic_type Serous samples\n",
      "Testing 108 rows for enrichment in Age Young samples\n",
      "Testing 104 rows for enrichment in Age Old samples\n"
     ]
    }
   ],
   "source": [
    "results_prot = blsh.compare_groups_outliers(outliers_prot, \n",
    "                                            annotations_prot, \n",
    "                                            frac_filter=0.1)\n",
    "\n",
    "results_phospho = blsh.compare_groups_outliers(outliers_phospho, \n",
    "                                               annotations_phospho, \n",
    "                                               frac_filter=0.1)"
   ]
  },
  {
   "cell_type": "markdown",
   "metadata": {},
   "source": [
    "## Step 5: Visualize these enrichments"
   ]
  },
  {
   "cell_type": "code",
   "execution_count": 46,
   "metadata": {},
   "outputs": [
    {
     "data": {
      "text/html": [
       "<div>\n",
       "<style scoped>\n",
       "    .dataframe tbody tr th:only-of-type {\n",
       "        vertical-align: middle;\n",
       "    }\n",
       "\n",
       "    .dataframe tbody tr th {\n",
       "        vertical-align: top;\n",
       "    }\n",
       "\n",
       "    .dataframe thead th {\n",
       "        text-align: right;\n",
       "    }\n",
       "</style>\n",
       "<table border=\"1\" class=\"dataframe\">\n",
       "  <thead>\n",
       "    <tr style=\"text-align: right;\">\n",
       "      <th></th>\n",
       "      <th>MSI_status_MSS_enrichment_FDR</th>\n",
       "      <th>MSI_status_MSI-H_enrichment_FDR</th>\n",
       "      <th>BMI_Unhealthy_enrichment_FDR</th>\n",
       "      <th>BMI_Healthy_enrichment_FDR</th>\n",
       "    </tr>\n",
       "  </thead>\n",
       "  <tbody>\n",
       "    <tr>\n",
       "      <th>A1BG</th>\n",
       "      <td>NaN</td>\n",
       "      <td>NaN</td>\n",
       "      <td>NaN</td>\n",
       "      <td>NaN</td>\n",
       "    </tr>\n",
       "    <tr>\n",
       "      <th>A2M</th>\n",
       "      <td>NaN</td>\n",
       "      <td>NaN</td>\n",
       "      <td>NaN</td>\n",
       "      <td>NaN</td>\n",
       "    </tr>\n",
       "    <tr>\n",
       "      <th>A2ML1</th>\n",
       "      <td>0.521501</td>\n",
       "      <td>NaN</td>\n",
       "      <td>1.0</td>\n",
       "      <td>NaN</td>\n",
       "    </tr>\n",
       "    <tr>\n",
       "      <th>A4GALT</th>\n",
       "      <td>NaN</td>\n",
       "      <td>NaN</td>\n",
       "      <td>NaN</td>\n",
       "      <td>0.412229</td>\n",
       "    </tr>\n",
       "    <tr>\n",
       "      <th>AAAS</th>\n",
       "      <td>NaN</td>\n",
       "      <td>NaN</td>\n",
       "      <td>NaN</td>\n",
       "      <td>NaN</td>\n",
       "    </tr>\n",
       "  </tbody>\n",
       "</table>\n",
       "</div>"
      ],
      "text/plain": [
       "        MSI_status_MSS_enrichment_FDR  MSI_status_MSI-H_enrichment_FDR  \\\n",
       "A1BG                              NaN                              NaN   \n",
       "A2M                               NaN                              NaN   \n",
       "A2ML1                        0.521501                              NaN   \n",
       "A4GALT                            NaN                              NaN   \n",
       "AAAS                              NaN                              NaN   \n",
       "\n",
       "        BMI_Unhealthy_enrichment_FDR  BMI_Healthy_enrichment_FDR  \n",
       "A1BG                             NaN                         NaN  \n",
       "A2M                              NaN                         NaN  \n",
       "A2ML1                            1.0                         NaN  \n",
       "A4GALT                           NaN                    0.412229  \n",
       "AAAS                             NaN                         NaN  "
      ]
     },
     "execution_count": 46,
     "metadata": {},
     "output_type": "execute_result"
    }
   ],
   "source": [
    "results_prot.head()"
   ]
  },
  {
   "cell_type": "code",
   "execution_count": 47,
   "metadata": {},
   "outputs": [
    {
     "data": {
      "text/html": [
       "<div>\n",
       "<style scoped>\n",
       "    .dataframe tbody tr th:only-of-type {\n",
       "        vertical-align: middle;\n",
       "    }\n",
       "\n",
       "    .dataframe tbody tr th {\n",
       "        vertical-align: top;\n",
       "    }\n",
       "\n",
       "    .dataframe thead th {\n",
       "        text-align: right;\n",
       "    }\n",
       "</style>\n",
       "<table border=\"1\" class=\"dataframe\">\n",
       "  <thead>\n",
       "    <tr style=\"text-align: right;\">\n",
       "      <th></th>\n",
       "      <th>Histologic_type_Endometrioid_enrichment_FDR</th>\n",
       "      <th>Histologic_type_Serous_enrichment_FDR</th>\n",
       "      <th>Age_Young_enrichment_FDR</th>\n",
       "      <th>Age_Old_enrichment_FDR</th>\n",
       "    </tr>\n",
       "  </thead>\n",
       "  <tbody>\n",
       "    <tr>\n",
       "      <th>AAAS-S495</th>\n",
       "      <td>NaN</td>\n",
       "      <td>NaN</td>\n",
       "      <td>NaN</td>\n",
       "      <td>NaN</td>\n",
       "    </tr>\n",
       "    <tr>\n",
       "      <th>AAAS-S541</th>\n",
       "      <td>NaN</td>\n",
       "      <td>NaN</td>\n",
       "      <td>NaN</td>\n",
       "      <td>NaN</td>\n",
       "    </tr>\n",
       "    <tr>\n",
       "      <th>AAAS-Y485</th>\n",
       "      <td>NaN</td>\n",
       "      <td>NaN</td>\n",
       "      <td>NaN</td>\n",
       "      <td>NaN</td>\n",
       "    </tr>\n",
       "    <tr>\n",
       "      <th>AACS-S618</th>\n",
       "      <td>NaN</td>\n",
       "      <td>NaN</td>\n",
       "      <td>NaN</td>\n",
       "      <td>NaN</td>\n",
       "    </tr>\n",
       "    <tr>\n",
       "      <th>AAED1-S12</th>\n",
       "      <td>NaN</td>\n",
       "      <td>NaN</td>\n",
       "      <td>NaN</td>\n",
       "      <td>NaN</td>\n",
       "    </tr>\n",
       "  </tbody>\n",
       "</table>\n",
       "</div>"
      ],
      "text/plain": [
       "           Histologic_type_Endometrioid_enrichment_FDR  \\\n",
       "AAAS-S495                                          NaN   \n",
       "AAAS-S541                                          NaN   \n",
       "AAAS-Y485                                          NaN   \n",
       "AACS-S618                                          NaN   \n",
       "AAED1-S12                                          NaN   \n",
       "\n",
       "           Histologic_type_Serous_enrichment_FDR  Age_Young_enrichment_FDR  \\\n",
       "AAAS-S495                                    NaN                       NaN   \n",
       "AAAS-S541                                    NaN                       NaN   \n",
       "AAAS-Y485                                    NaN                       NaN   \n",
       "AACS-S618                                    NaN                       NaN   \n",
       "AAED1-S12                                    NaN                       NaN   \n",
       "\n",
       "           Age_Old_enrichment_FDR  \n",
       "AAAS-S495                     NaN  \n",
       "AAAS-S541                     NaN  \n",
       "AAAS-Y485                     NaN  \n",
       "AACS-S618                     NaN  \n",
       "AAED1-S12                     NaN  "
      ]
     },
     "execution_count": 47,
     "metadata": {},
     "output_type": "execute_result"
    }
   ],
   "source": [
    "results_phospho.head()"
   ]
  },
  {
   "cell_type": "markdown",
   "metadata": {},
   "source": [
    "## Step 6: Determine significant enrichments, and link with cancer drug database."
   ]
  },
  {
   "cell_type": "code",
   "execution_count": 49,
   "metadata": {},
   "outputs": [
    {
     "name": "stdout",
     "output_type": "stream",
     "text": [
      "No significant results in MSI_status_MSS\n",
      "\n",
      "There is 1 significant protein enrichment in MSI_status_MSI-H:\n",
      "\n",
      "No significant results in BMI_Unhealthy\n",
      "\n",
      "No significant results in BMI_Healthy\n",
      "\n",
      "No significant results in Histologic_type_Endometrioid\n",
      "\n",
      "There are 523 significant proteins enrichments in Histologic_type_Serous\n",
      "\n",
      "No significant results in Age_Young\n",
      "\n",
      "No significant results in Age_Old\n",
      "\n"
     ]
    }
   ],
   "source": [
    "#Check for significant columns in proteomics\n",
    "for col in results_prot.columns:\n",
    "    bf.significantEnrichments(results_prot, col)\n",
    "\n",
    "#Check for significant columns in proteomics\n",
    "for col in results_phospho.columns:\n",
    "    bf.significantEnrichments(results_phospho, col)"
   ]
  },
  {
   "cell_type": "code",
   "execution_count": 53,
   "metadata": {},
   "outputs": [
    {
     "name": "stdout",
     "output_type": "stream",
     "text": [
      "There is 1 significant protein enrichment in MSI_status_MSI-H:\n",
      "\n",
      "There are 13 significant proteins enrichments in Histologic_type_Serous\n",
      "\n"
     ]
    }
   ],
   "source": [
    "#Store the dataframe of significant enrichments\n",
    "sig_results_MSI = bf.significantEnrichments(results_prot, \n",
    "                                            'MSI_status_MSI-H_enrichment_FDR')\n",
    "sig_results_Hist = bf.significantEnrichments(results_phospho, \n",
    "                                            'Histologic_type_Serous_enrichment_FDR', \n",
    "                                             0.01)"
   ]
  },
  {
   "cell_type": "code",
   "execution_count": 54,
   "metadata": {},
   "outputs": [
    {
     "data": {
      "text/html": [
       "<div>\n",
       "<style scoped>\n",
       "    .dataframe tbody tr th:only-of-type {\n",
       "        vertical-align: middle;\n",
       "    }\n",
       "\n",
       "    .dataframe tbody tr th {\n",
       "        vertical-align: top;\n",
       "    }\n",
       "\n",
       "    .dataframe thead th {\n",
       "        text-align: right;\n",
       "    }\n",
       "</style>\n",
       "<table border=\"1\" class=\"dataframe\">\n",
       "  <thead>\n",
       "    <tr style=\"text-align: right;\">\n",
       "      <th></th>\n",
       "      <th>Histologic_type_Serous_P_values</th>\n",
       "    </tr>\n",
       "  </thead>\n",
       "  <tbody>\n",
       "    <tr>\n",
       "      <th>ACTL6A-S233</th>\n",
       "      <td>0.002109</td>\n",
       "    </tr>\n",
       "    <tr>\n",
       "      <th>AKAP8L-S552</th>\n",
       "      <td>0.002109</td>\n",
       "    </tr>\n",
       "    <tr>\n",
       "      <th>FXR1-S409</th>\n",
       "      <td>0.000261</td>\n",
       "    </tr>\n",
       "    <tr>\n",
       "      <th>FXR1-T411</th>\n",
       "      <td>0.001805</td>\n",
       "    </tr>\n",
       "    <tr>\n",
       "      <th>INCENP-S197</th>\n",
       "      <td>0.006900</td>\n",
       "    </tr>\n",
       "  </tbody>\n",
       "</table>\n",
       "</div>"
      ],
      "text/plain": [
       "             Histologic_type_Serous_P_values\n",
       "ACTL6A-S233                         0.002109\n",
       "AKAP8L-S552                         0.002109\n",
       "FXR1-S409                           0.000261\n",
       "FXR1-T411                           0.001805\n",
       "INCENP-S197                         0.006900"
      ]
     },
     "execution_count": 54,
     "metadata": {},
     "output_type": "execute_result"
    }
   ],
   "source": [
    "sig_results_Hist.head()"
   ]
  }
 ],
 "metadata": {
  "kernelspec": {
   "display_name": "Python 3",
   "language": "python",
   "name": "python3"
  },
  "language_info": {
   "codemirror_mode": {
    "name": "ipython",
    "version": 3
   },
   "file_extension": ".py",
   "mimetype": "text/x-python",
   "name": "python",
   "nbconvert_exporter": "python",
   "pygments_lexer": "ipython3",
   "version": "3.6.2"
  }
 },
 "nbformat": 4,
 "nbformat_minor": 2
}
