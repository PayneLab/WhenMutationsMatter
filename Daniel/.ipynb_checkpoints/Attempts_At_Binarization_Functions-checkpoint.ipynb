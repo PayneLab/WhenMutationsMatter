{
 "cells": [
  {
   "cell_type": "code",
   "execution_count": null,
   "metadata": {
    "collapsed": true
   },
   "outputs": [],
   "source": [
    "# This function does what it's supposed to; however,\n",
    "# it could easily be replaced with something like \n",
    "# annotations = clinical[['Histologic_Grade_FIGO', 'Diabetes]]\n",
    "# Initially I was trying to get this to do the whole process\n",
    "# interactively, so people would just input values and it would\n",
    "# work, but I have since split off those parts to try and test them.\n",
    "# They don't work inside this function (so far), and only some kind of\n",
    "# worked outside this function. So I simplified. A LOT.\n",
    "\n",
    "def returnSubsetDF(df):\n",
    "    print('Here are your options')\n",
    "    print(set(df))\n",
    "    boundary_names = []\n",
    "    print('Please input the columns you would like to binarize. Type \"done\" to finish.')\n",
    "    boundary = ''\n",
    "    while boundary != 'done':\n",
    "        boundary = input()\n",
    "        if boundary == 'done':\n",
    "            break\n",
    "        elif boundary not in set(df):\n",
    "            print('Invalid input\\nHere are your options:')\n",
    "            print(set(df))\n",
    "        else:\n",
    "            boundary_names.append(boundary)\n",
    "    new_df = pd.DataFrame()\n",
    "    for boundary in boundary_names:\n",
    "        new_df[boundary] = df[boundary]\n",
    "    return(new_df)\n",
    "\n",
    "smaller_df = returnSubsetDF(clinical)"
   ]
  },
  {
   "cell_type": "code",
   "execution_count": null,
   "metadata": {
    "collapsed": true
   },
   "outputs": [],
   "source": [
    "# While this is a great idea and all, I can't figure out how to do this correctly\n",
    "\n",
    "def binarizeV2(df):\n",
    "    print('The following columns have been chosen for binarization:\\n')\n",
    "    boundary_names = list(set(df))\n",
    "    example_dict = {}\n",
    "    print('Please provide a dictionary to binarize them in the following format:\\n')\n",
    "    for boundary in boundary_names:\n",
    "          print(boundary)\n",
    "          example_dict[boundary] = {'option1': ['values', 'that', 'correspond', 'with', 'option1'],\n",
    "                                   'option2': ['values', 'that', 'correspond', 'with', 'option2'], \n",
    "                                    'NaN' : [np.nan]\n",
    "                                   }\n",
    "    print(example_dict)\n",
    "    \n",
    "\n",
    "def binarizeDictionary(df, boundary_dict):\n",
    "    boundary_names = list(set(df))\n",
    "    for boundary in boundary_names:\n",
    "        for key, value in boundary_dict.items():\n",
    "            new_col = df[boundary].where(cond=(df[boundary] not in value), other=key)\n",
    "        new_df[boundary] = new_col\n",
    "    return(new_df)\n",
    "\n",
    "my_dictionary = {'Beginning_Stage' : ['IA', 'IB', 'II'], \n",
    "                 'Later_Stage' : ['IIIA', 'IIIB', 'IIIC1', 'IIIC2', 'IVB'], \n",
    "                 np.nan : [np.nan]\n",
    "                }\n",
    "binarizeDictionary(smaller_df, my_dictionary)                \n",
    "#binarizeV2(smaller_df)"
   ]
  }
 ],
 "metadata": {
  "kernelspec": {
   "display_name": "Python 3",
   "language": "python",
   "name": "python3"
  },
  "language_info": {
   "codemirror_mode": {
    "name": "ipython",
    "version": 3
   },
   "file_extension": ".py",
   "mimetype": "text/x-python",
   "name": "python",
   "nbconvert_exporter": "python",
   "pygments_lexer": "ipython3",
   "version": "3.6.2"
  }
 },
 "nbformat": 4,
 "nbformat_minor": 2
}
