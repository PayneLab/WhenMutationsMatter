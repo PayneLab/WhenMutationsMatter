{
 "cells": [
  {
   "cell_type": "markdown",
   "metadata": {},
   "source": [
    "## BlackSheep Cookbook Serous Analysis\n",
    "\n",
    "The Black Sheep Analysis allows researchers to find trends in abnormal protein enrichment among patients in CPTAC datasets. In this Cookbook, we will go through the steps needed to perform a full Black Sheep Analysis, to answer a research question, of if BMI, age, or country of origin play a role in protein enrichments for patients with Endometrial Cancer."
   ]
  },
  {
   "cell_type": "markdown",
   "metadata": {},
   "source": [
    "### Step 1a: Import Dependencies\n",
    "First, import the necessary dependencies and load Endometrial datasets."
   ]
  },
  {
   "cell_type": "code",
   "execution_count": 1,
   "metadata": {},
   "outputs": [
    {
     "name": "stdout",
     "output_type": "stream",
     "text": [
      "Welcome to cptac, a python package for disseminating cancer\n",
      "proteogenomics data. To view available datasets, enter\n",
      "'cptac.list_data()'. Extensive tutorials are available at\n",
      "https://github.com/PayneLab/cptac/tree/master/doc\n",
      "\n",
      "******\n",
      "Version: 0.4.5\n",
      "******\n",
      "Checking that data files are up-to-date...\n",
      "100% [..................................................................................] 649 / 649\n",
      "Data check complete.\n",
      "endometrial data version: 2.1\n",
      "\n",
      "Loading acetylproteomics data...\n",
      "Loading clinical data...\n",
      "Loading CNA data...\n",
      "Loading definitions data...\n",
      "Loading miRNA data...\n",
      "Loading phosphoproteomics_gene data...\n",
      "Loading phosphoproteomics_site data...\n",
      "Loading proteomics data...\n",
      "Loading somatic data...\n",
      "Loading somatic_binary data...\n",
      "Loading transcriptomics_circular data...\n",
      "Loading transcriptomics_linear data...\n",
      "\n",
      " ******PLEASE READ******\n",
      "WARNING: This data is under a publication embargo until July 1, 2019.\n",
      "CPTAC is a community resource project and data are made available\n",
      "rapidly after generation for community research use. The embargo\n",
      "allows exploring and utilizing the data, but analysis may not be\n",
      "published until July 1, 2019. Please see\n",
      "https://proteomics.cancer.gov/data-portal/about/data-use-agreement or\n",
      "enter cptac.embargo() to open the webpage for more details.\n"
     ]
    }
   ],
   "source": [
    "import numpy as np\n",
    "import pandas as pd\n",
    "import matplotlib.pyplot as plt\n",
    "import seaborn as sns\n",
    "import cptac\n",
    "import binarization_functions as bf\n",
    "import blackSheepCPTACmoduleCopy as blsh\n",
    "en = cptac.Endometrial()"
   ]
  },
  {
   "cell_type": "markdown",
   "metadata": {},
   "source": [
    "## Step 1b: Load Data and Choose Omics Table"
   ]
  },
  {
   "cell_type": "code",
   "execution_count": 2,
   "metadata": {
    "collapsed": true
   },
   "outputs": [],
   "source": [
    "phospho = en.get_phosphoproteomics()\n",
    "clinical = en.get_clinical()"
   ]
  },
  {
   "cell_type": "code",
   "execution_count": 4,
   "metadata": {
    "collapsed": true
   },
   "outputs": [],
   "source": [
    "#Append Genomics_subtype and MSI_status to en.get_clinical()\n",
    "df= en.get_derived_molecular()\n",
    "clinical['MSI_status'] = df['MSI_status']"
   ]
  },
  {
   "cell_type": "markdown",
   "metadata": {},
   "source": [
    "## Step 2: Determine what attributes you would like to A/B test. \n",
    "For this analysis, we will be testing Histologic_type Serous vs. Endometriod in the phosphoproteomics dataset."
   ]
  },
  {
   "cell_type": "code",
   "execution_count": 5,
   "metadata": {
    "collapsed": true
   },
   "outputs": [],
   "source": [
    "#Create a subset copy of the orignial Clinical DataFrame.\n",
    "annotations = pd.DataFrame(clinical['Histologic_type'].copy())"
   ]
  },
  {
   "cell_type": "markdown",
   "metadata": {},
   "source": [
    "## Step 3: Perform outliers analysis"
   ]
  },
  {
   "cell_type": "code",
   "execution_count": 6,
   "metadata": {
    "collapsed": true
   },
   "outputs": [],
   "source": [
    "outliers = blsh.make_outliers_table(phospho, iqrs=1.5, \n",
    "                                    up_or_down='up', \n",
    "                                    aggregate=False, \n",
    "                                    frac_table=False)"
   ]
  },
  {
   "cell_type": "markdown",
   "metadata": {},
   "source": [
    "## Step 4: Wrap your A/B test into the outliers analysis, and create a table"
   ]
  },
  {
   "cell_type": "code",
   "execution_count": 7,
   "metadata": {},
   "outputs": [
    {
     "name": "stdout",
     "output_type": "stream",
     "text": [
      "No rows had outliers in at least 0.3 of Histologic_type Endometrioid samples\n",
      "Testing 504 rows for enrichment in Histologic_type Serous samples\n"
     ]
    }
   ],
   "source": [
    "results = blsh.compare_groups_outliers(outliers, \n",
    "                                       annotations, \n",
    "                                       frac_filter=0.3)"
   ]
  },
  {
   "cell_type": "markdown",
   "metadata": {},
   "source": [
    "Since many of the return values from compare_groups_outliers are NaN, we will drop the unecessary values here."
   ]
  },
  {
   "cell_type": "code",
   "execution_count": 8,
   "metadata": {
    "collapsed": true
   },
   "outputs": [],
   "source": [
    "results = results.dropna(axis=0, how='all')"
   ]
  },
  {
   "cell_type": "markdown",
   "metadata": {},
   "source": [
    "## Step 5: Visualize these enrichments"
   ]
  },
  {
   "cell_type": "code",
   "execution_count": 9,
   "metadata": {},
   "outputs": [
    {
     "data": {
      "image/png": "[encoded data removed]",
      "text/plain": [
       "<Figure size 432x288 with 2 Axes>"
      ]
     },
     "metadata": {},
     "output_type": "display_data"
    }
   ],
   "source": [
    "sns.heatmap(results)\n",
    "plt.show()"
   ]
  },
  {
   "cell_type": "code",
   "execution_count": 15,
   "metadata": {},
   "outputs": [],
   "source": [
    "just_outliers = outliers[:144]\n",
    "just_outliers_copy = just_outliers.copy()"
   ]
  },
  {
   "cell_type": "code",
   "execution_count": 48,
   "metadata": {},
   "outputs": [
    {
     "name": "stdout",
     "output_type": "stream",
     "text": [
      "94\n",
      "1887\n",
      "50301\n",
      "20930\n"
     ]
    }
   ],
   "source": [
    "sum_outliers = just_outliers_copy.sum(skipna=True)\n",
    "\n",
    "#Find the genes with the most outliers\n",
    "high_count = sum_outliers >= 16\n",
    "most_outliers = sum_outliers[high_count]\n",
    "\n",
    "#Find the genes with medium number of outliers\n",
    "med_high_count = (sum_outliers < 16)\n",
    "med_low_count = (sum_outliers >= 10)\n",
    "med_high_outliers = sum_outliers[med_high_count]\n",
    "med_outliers = med_high_outliers[med_low_count]\n",
    "\n",
    "#Find the genes with the least outliers\n",
    "low_count = sum_outliers < 10\n",
    "not_zero = sum_outliers != 0\n",
    "low_values = sum_outliers[low_count]\n",
    "low_outliers = low_values[not_zero]\n",
    "\n",
    "#Find the genes with no outliers\n",
    "zero_count = sum_outliers == 0\n",
    "zero_outliers = sum_outliers[zero_count]"
   ]
  },
  {
   "cell_type": "code",
   "execution_count": 27,
   "metadata": {},
   "outputs": [
    {
     "data": {
      "image/png": "[encoded data removed]",
      "text/plain": [
       "<Figure size 432x288 with 1 Axes>"
      ]
     },
     "metadata": {},
     "output_type": "display_data"
    }
   ],
   "source": [
    "sum_outliers[high_count].sort_values(ascending=False)[-12:].plot(kind='bar')\n",
    "plt.show()"
   ]
  },
  {
   "cell_type": "markdown",
   "metadata": {},
   "source": [
    "## Step 6: Determine significant enrichments, and link with cancer drug database."
   ]
  },
  {
   "cell_type": "code",
   "execution_count": 10,
   "metadata": {},
   "outputs": [
    {
     "name": "stdout",
     "output_type": "stream",
     "text": [
      "485 significant protein enrichments in Histologic_type_Serous\n",
      "\n"
     ]
    }
   ],
   "source": [
    "#Check for significant columns\n",
    "for col in results.columns:\n",
    "    bf.significantEnrichments(results, col)"
   ]
  },
  {
   "cell_type": "code",
   "execution_count": 11,
   "metadata": {},
   "outputs": [
    {
     "name": "stdout",
     "output_type": "stream",
     "text": [
      "485 significant protein enrichments in Histologic_type_Serous\n",
      "\n"
     ]
    }
   ],
   "source": [
    "#Store the dataframe of significant enrichments\n",
    "column = 'Histologic_type_Serous_enrichment_FDR'\n",
    "sig_results = bf.significantEnrichments(results, column)"
   ]
  },
  {
   "cell_type": "markdown",
   "metadata": {},
   "source": [
    "As mentioned in our paper, we see a significant upregulation in TP53BP1-S1763 and CHEK2-S163 within the phosphoproteomics dataset for patients with Serous tumors."
   ]
  },
  {
   "cell_type": "code",
   "execution_count": 12,
   "metadata": {},
   "outputs": [
    {
     "name": "stdout",
     "output_type": "stream",
     "text": [
      "True\n",
      "True\n"
     ]
    },
    {
     "data": {
      "text/html": [
       "<div>\n",
       "<style scoped>\n",
       "    .dataframe tbody tr th:only-of-type {\n",
       "        vertical-align: middle;\n",
       "    }\n",
       "\n",
       "    .dataframe tbody tr th {\n",
       "        vertical-align: top;\n",
       "    }\n",
       "\n",
       "    .dataframe thead th {\n",
       "        text-align: right;\n",
       "    }\n",
       "</style>\n",
       "<table border=\"1\" class=\"dataframe\">\n",
       "  <thead>\n",
       "    <tr style=\"text-align: right;\">\n",
       "      <th></th>\n",
       "      <th>Histologic_type_Serous_P_values</th>\n",
       "    </tr>\n",
       "  </thead>\n",
       "  <tbody>\n",
       "    <tr>\n",
       "      <th>AATF-S316</th>\n",
       "      <td>0.000931</td>\n",
       "    </tr>\n",
       "    <tr>\n",
       "      <th>ABCC5-S505</th>\n",
       "      <td>0.005951</td>\n",
       "    </tr>\n",
       "    <tr>\n",
       "      <th>ACACA-S62</th>\n",
       "      <td>0.000300</td>\n",
       "    </tr>\n",
       "    <tr>\n",
       "      <th>ACACA-S66</th>\n",
       "      <td>0.002108</td>\n",
       "    </tr>\n",
       "    <tr>\n",
       "      <th>ACAP2-S379</th>\n",
       "      <td>0.000729</td>\n",
       "    </tr>\n",
       "  </tbody>\n",
       "</table>\n",
       "</div>"
      ],
      "text/plain": [
       "            Histologic_type_Serous_P_values\n",
       "AATF-S316                          0.000931\n",
       "ABCC5-S505                         0.005951\n",
       "ACACA-S62                          0.000300\n",
       "ACACA-S66                          0.002108\n",
       "ACAP2-S379                         0.000729"
      ]
     },
     "execution_count": 12,
     "metadata": {},
     "output_type": "execute_result"
    }
   ],
   "source": [
    "print('TP53BP1-S1763' in sig_results.index)\n",
    "print('CHEK2-S163' in sig_results.index)\n",
    "sig_results.head()"
   ]
  },
  {
   "cell_type": "code",
   "execution_count": null,
   "metadata": {
    "collapsed": true
   },
   "outputs": [],
   "source": []
  }
 ],
 "metadata": {
  "kernelspec": {
   "display_name": "Python 3",
   "language": "python",
   "name": "python3"
  },
  "language_info": {
   "codemirror_mode": {
    "name": "ipython",
    "version": 3
   },
   "file_extension": ".py",
   "mimetype": "text/x-python",
   "name": "python",
   "nbconvert_exporter": "python",
   "pygments_lexer": "ipython3",
   "version": "3.6.2"
  }
 },
 "nbformat": 4,
 "nbformat_minor": 2
}
