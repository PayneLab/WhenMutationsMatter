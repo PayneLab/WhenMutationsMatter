{
 "cells": [
  {
   "cell_type": "code",
   "execution_count": null,
   "metadata": {
    "collapsed": true
   },
   "outputs": [],
   "source": [
    "# This will need to be saved as binarization_functions.py \n",
    "# or something through VSCode or Sublime Text to be used in cptac.\n",
    "import pandas as pd\n",
    "import numpy as np\n",
    "\n",
    "def binarizeCutOff(my_list, cut_off, replace_low, replace_high):\n",
    "    return [ replace_low if (x < cut_off) else replace_high if x >= cut_off else x for x in my_list ]\n",
    "\n",
    "def binarizeRange(my_list, low_bar, high_bar, in_range='In_Range', out_of_range='Out_Of_Range'):\n",
    "    return [ in_range if (x > low_bar and x < high_bar) else out_of_range  \n",
    "            if (x < low_bar or x > high_bar) else x for x in my_list ]\n",
    "\n",
    "def binarizeCategorical(my_list, option1, option1_list, option2, option2_list):\n",
    "    return [ option1 if (x in option1_list) else option2 if (x in option2_list) else x for x in my_list ]"
   ]
  }
 ],
 "metadata": {
  "kernelspec": {
   "display_name": "Python 3",
   "language": "python",
   "name": "python3"
  },
  "language_info": {
   "codemirror_mode": {
    "name": "ipython",
    "version": 3
   },
   "file_extension": ".py",
   "mimetype": "text/x-python",
   "name": "python",
   "nbconvert_exporter": "python",
   "pygments_lexer": "ipython3",
   "version": "3.6.2"
  }
 },
 "nbformat": 4,
 "nbformat_minor": 2
}
