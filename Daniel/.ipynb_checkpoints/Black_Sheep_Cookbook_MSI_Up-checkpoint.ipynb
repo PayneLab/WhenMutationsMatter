{
 "cells": [
  {
   "cell_type": "markdown",
   "metadata": {},
   "source": [
    "## BlackSheep Cookbook MSI Upregulation\n",
    "\n",
    "The Black Sheep Analysis allows researchers to find trends in abnormal protein enrichment among patients in CPTAC datasets. In this Cookbook, we will go through the steps needed to perform a full Black Sheep Analysis, to answer a research question, of if BMI, age, or country of origin play a role in protein enrichments for patients with Endometrial Cancer."
   ]
  },
  {
   "cell_type": "markdown",
   "metadata": {},
   "source": [
    "### Step 1a: Import Dependencies\n",
    "First, import the necessary dependencies and install cptac through pip."
   ]
  },
  {
   "cell_type": "code",
   "execution_count": 20,
   "metadata": {},
   "outputs": [
    {
     "data": {
      "text/plain": [
       "<module 'blackSheepCPTACmoduleCopy' from 'C:\\\\Users\\\\Daniel\\\\Documents\\\\GitHub\\\\WhenMutationsMatter\\\\Daniel\\\\blackSheepCPTACmoduleCopy.py'>"
      ]
     },
     "execution_count": 20,
     "metadata": {},
     "output_type": "execute_result"
    }
   ],
   "source": [
    "import numpy as np\n",
    "import pandas as pd\n",
    "import matplotlib.pyplot as plt\n",
    "import seaborn as sns\n",
    "import cptac\n",
    "import binarization_functions as bf\n",
    "import blackSheepCPTACmoduleCopy as blsh\n",
    "import importlib\n",
    "importlib.reload(bf)\n",
    "importlib.reload(blsh)"
   ]
  },
  {
   "cell_type": "markdown",
   "metadata": {},
   "source": [
    "## Step 1b: Load Data and Choose Omics Table"
   ]
  },
  {
   "cell_type": "code",
   "execution_count": 21,
   "metadata": {},
   "outputs": [
    {
     "name": "stdout",
     "output_type": "stream",
     "text": [
      "Checking that data files are up-to-date...\n",
      "100% [..................................................................................] 649 / 649\n",
      "Data check complete.\n",
      "endometrial data version: 2.1\n",
      "\n",
      "Loading acetylproteomics data...\n",
      "Loading clinical data...\n",
      "Loading CNA data...\n",
      "Loading definitions data...\n",
      "Loading miRNA data...\n",
      "Loading phosphoproteomics_gene data...\n",
      "Loading phosphoproteomics_site data...\n",
      "Loading proteomics data...\n",
      "Loading somatic data...\n",
      "Loading somatic_binary data...\n",
      "Loading transcriptomics_circular data...\n",
      "Loading transcriptomics_linear data...\n",
      "\n",
      " ******PLEASE READ******\n",
      "WARNING: This data is under a publication embargo until July 1, 2019.\n",
      "CPTAC is a community resource project and data are made available\n",
      "rapidly after generation for community research use. The embargo\n",
      "allows exploring and utilizing the data, but analysis may not be\n",
      "published until July 1, 2019. Please see\n",
      "https://proteomics.cancer.gov/data-portal/about/data-use-agreement or\n",
      "enter cptac.embargo() to open the webpage for more details.\n"
     ]
    }
   ],
   "source": [
    "en = cptac.Endometrial()\n",
    "proteomics = en.get_proteomics()\n",
    "transcript = en.get_transcriptomics()\n",
    "clinical = en.get_clinical()"
   ]
  },
  {
   "cell_type": "code",
   "execution_count": 22,
   "metadata": {},
   "outputs": [
    {
     "name": "stdout",
     "output_type": "stream",
     "text": [
      "CNV_low     43\n",
      "MSI-H       25\n",
      "CNV_high    20\n",
      "POLE         7\n",
      "Name: Genomics_subtype, dtype: int64\n"
     ]
    }
   ],
   "source": [
    "#Append Genomics_subtype and MSI_status to en.get_clinical()\n",
    "df= en.get_derived_molecular()\n",
    "clinical['Genomics_subtype'] = df['Genomics_subtype']\n",
    "clinical['MSI_status'] = df['MSI_status']\n",
    "print(clinical['Genomics_subtype'].value_counts())"
   ]
  },
  {
   "cell_type": "markdown",
   "metadata": {},
   "source": [
    "## Step 2: Determine what attributes you would like to A/B test. \n",
    "For this analysis, we will be testing MSI_status versus BMI in the proteomics dataset, and Histologic_type versus Age in the phosphoproteomics dataset."
   ]
  },
  {
   "cell_type": "code",
   "execution_count": 23,
   "metadata": {},
   "outputs": [],
   "source": [
    "#Create a subset copy of the original Clinical DataFrame for MSI.\n",
    "annotations = pd.DataFrame(clinical['MSI_status'].copy())"
   ]
  },
  {
   "cell_type": "markdown",
   "metadata": {},
   "source": [
    "## Step 3: Perform outliers analysis"
   ]
  },
  {
   "cell_type": "code",
   "execution_count": 24,
   "metadata": {},
   "outputs": [
    {
     "name": "stderr",
     "output_type": "stream",
     "text": [
      "C:\\Users\\Daniel\\AppData\\Local\\conda\\conda\\envs\\Research\\lib\\site-packages\\numpy\\lib\\nanfunctions.py:1354: RuntimeWarning: All-NaN slice encountered\n",
      "  overwrite_input, interpolation)\n"
     ]
    }
   ],
   "source": [
    "outliers_prot = blsh.make_outliers_table(proteomics, iqrs=1.5, \n",
    "                                         up_or_down='up', \n",
    "                                         aggregate=False, \n",
    "                                         frac_table=False)\n",
    "\n",
    "outliers_transcript = blsh.make_outliers_table(transcript, iqrs=1.5, \n",
    "                                               up_or_down='up', \n",
    "                                               aggregate=False, \n",
    "                                               frac_table=False)"
   ]
  },
  {
   "cell_type": "markdown",
   "metadata": {},
   "source": [
    "## Step 4: Wrap your A/B test into the outliers analysis, and create a table"
   ]
  },
  {
   "cell_type": "code",
   "execution_count": 25,
   "metadata": {},
   "outputs": [
    {
     "name": "stdout",
     "output_type": "stream",
     "text": [
      "No rows had outliers in at least 0.3 of MSI_status MSS samples\n",
      "Testing 12 rows for enrichment in MSI_status MSI-H samples\n",
      "Testing 33 rows for enrichment in MSI_status MSS samples\n",
      "Testing 89 rows for enrichment in MSI_status MSI-H samples\n"
     ]
    }
   ],
   "source": [
    "results_prot = blsh.compare_groups_outliers(outliers_prot, \n",
    "                                            annotations)\n",
    "\n",
    "results_transcript = blsh.compare_groups_outliers(outliers_transcript, \n",
    "                                                  annotations)"
   ]
  },
  {
   "cell_type": "markdown",
   "metadata": {},
   "source": [
    "## Step 5: Visualize these enrichments"
   ]
  },
  {
   "cell_type": "code",
   "execution_count": 26,
   "metadata": {},
   "outputs": [
    {
     "data": {
      "image/png": "[encoded data removed]",
      "text/plain": [
       "<Figure size 432x288 with 2 Axes>"
      ]
     },
     "metadata": {},
     "output_type": "display_data"
    }
   ],
   "source": [
    "sns.heatmap(results_prot)\n",
    "plt.show()"
   ]
  },
  {
   "cell_type": "code",
   "execution_count": 27,
   "metadata": {},
   "outputs": [
    {
     "data": {
      "image/png": "[encoded data removed]",
      "text/plain": [
       "<Figure size 432x288 with 2 Axes>"
      ]
     },
     "metadata": {},
     "output_type": "display_data"
    }
   ],
   "source": [
    "sns.heatmap(results_transcript)\n",
    "plt.show()"
   ]
  },
  {
   "cell_type": "markdown",
   "metadata": {},
   "source": [
    "## Step 6: Determine significant enrichments, and link with cancer drug database."
   ]
  },
  {
   "cell_type": "code",
   "execution_count": 28,
   "metadata": {},
   "outputs": [
    {
     "name": "stdout",
     "output_type": "stream",
     "text": [
      "9 significant protein enrichments in MSI_status_MSI-H\n",
      "\n",
      "5 significant protein enrichments in MSI_status_MSS\n",
      "\n",
      "16 significant protein enrichments in MSI_status_MSI-H\n",
      "\n"
     ]
    }
   ],
   "source": [
    "#Check for significant columns in proteomics\n",
    "for col in results_prot.columns:\n",
    "    bf.significantEnrichments(results_prot, col)\n",
    "\n",
    "#Check for significant columns in proteomics\n",
    "for col in results_transcript.columns:\n",
    "    bf.significantEnrichments(results_transcript, col)"
   ]
  },
  {
   "cell_type": "code",
   "execution_count": 29,
   "metadata": {},
   "outputs": [
    {
     "name": "stdout",
     "output_type": "stream",
     "text": [
      "9 significant protein enrichments in MSI_status_MSI-H\n",
      "\n",
      "16 significant protein enrichments in MSI_status_MSI-H\n",
      "\n"
     ]
    }
   ],
   "source": [
    "#Store the dataframe of significant enrichments\n",
    "column = 'MSI_status_MSI-H_enrichment_FDR'\n",
    "sig_results_prot = bf.significantEnrichments(results_prot, column)\n",
    "\n",
    "sig_results_transcript = bf.significantEnrichments(results_transcript, column)"
   ]
  },
  {
   "cell_type": "markdown",
   "metadata": {},
   "source": [
    "As mentioned in our paper, we see a significant upregulation in RPL22L1 within the proteomics dataset for patients with MSI-H status, however there is an inconsistency in our analysis when it comes to mRNA data **Look into this**."
   ]
  },
  {
   "cell_type": "code",
   "execution_count": 31,
   "metadata": {},
   "outputs": [
    {
     "name": "stdout",
     "output_type": "stream",
     "text": [
      "True\n",
      "False\n"
     ]
    },
    {
     "data": {
      "text/html": [
       "<div>\n",
       "<style scoped>\n",
       "    .dataframe tbody tr th:only-of-type {\n",
       "        vertical-align: middle;\n",
       "    }\n",
       "\n",
       "    .dataframe tbody tr th {\n",
       "        vertical-align: top;\n",
       "    }\n",
       "\n",
       "    .dataframe thead th {\n",
       "        text-align: right;\n",
       "    }\n",
       "</style>\n",
       "<table border=\"1\" class=\"dataframe\">\n",
       "  <thead>\n",
       "    <tr style=\"text-align: right;\">\n",
       "      <th></th>\n",
       "      <th>MSI_status_MSI-H_P_values</th>\n",
       "    </tr>\n",
       "  </thead>\n",
       "  <tbody>\n",
       "    <tr>\n",
       "      <th>ASB17</th>\n",
       "      <td>8.770010e-03</td>\n",
       "    </tr>\n",
       "    <tr>\n",
       "      <th>DAO</th>\n",
       "      <td>3.211214e-02</td>\n",
       "    </tr>\n",
       "    <tr>\n",
       "      <th>DDC-AS1</th>\n",
       "      <td>4.620711e-02</td>\n",
       "    </tr>\n",
       "    <tr>\n",
       "      <th>DEFB109A</th>\n",
       "      <td>7.274230e-03</td>\n",
       "    </tr>\n",
       "    <tr>\n",
       "      <th>H3F3C</th>\n",
       "      <td>1.940856e-08</td>\n",
       "    </tr>\n",
       "    <tr>\n",
       "      <th>HOXC11</th>\n",
       "      <td>1.353692e-02</td>\n",
       "    </tr>\n",
       "    <tr>\n",
       "      <th>LOC105370802</th>\n",
       "      <td>3.211214e-02</td>\n",
       "    </tr>\n",
       "    <tr>\n",
       "      <th>LOC285000</th>\n",
       "      <td>1.645662e-02</td>\n",
       "    </tr>\n",
       "    <tr>\n",
       "      <th>ONECUT3</th>\n",
       "      <td>1.645662e-02</td>\n",
       "    </tr>\n",
       "    <tr>\n",
       "      <th>OTOAP1</th>\n",
       "      <td>9.171502e-03</td>\n",
       "    </tr>\n",
       "    <tr>\n",
       "      <th>RIPPLY3</th>\n",
       "      <td>2.972825e-02</td>\n",
       "    </tr>\n",
       "    <tr>\n",
       "      <th>RRM1</th>\n",
       "      <td>8.770010e-03</td>\n",
       "    </tr>\n",
       "    <tr>\n",
       "      <th>SLC25A11</th>\n",
       "      <td>2.972825e-02</td>\n",
       "    </tr>\n",
       "    <tr>\n",
       "      <th>SLC25A45</th>\n",
       "      <td>9.171502e-03</td>\n",
       "    </tr>\n",
       "    <tr>\n",
       "      <th>SNORD3J</th>\n",
       "      <td>1.963144e-03</td>\n",
       "    </tr>\n",
       "    <tr>\n",
       "      <th>WNK4</th>\n",
       "      <td>1.963144e-03</td>\n",
       "    </tr>\n",
       "  </tbody>\n",
       "</table>\n",
       "</div>"
      ],
      "text/plain": [
       "              MSI_status_MSI-H_P_values\n",
       "ASB17                      8.770010e-03\n",
       "DAO                        3.211214e-02\n",
       "DDC-AS1                    4.620711e-02\n",
       "DEFB109A                   7.274230e-03\n",
       "H3F3C                      1.940856e-08\n",
       "HOXC11                     1.353692e-02\n",
       "LOC105370802               3.211214e-02\n",
       "LOC285000                  1.645662e-02\n",
       "ONECUT3                    1.645662e-02\n",
       "OTOAP1                     9.171502e-03\n",
       "RIPPLY3                    2.972825e-02\n",
       "RRM1                       8.770010e-03\n",
       "SLC25A11                   2.972825e-02\n",
       "SLC25A45                   9.171502e-03\n",
       "SNORD3J                    1.963144e-03\n",
       "WNK4                       1.963144e-03"
      ]
     },
     "execution_count": 31,
     "metadata": {},
     "output_type": "execute_result"
    }
   ],
   "source": [
    "print('RPL22L1' in sig_results_prot.index)\n",
    "print('RPL22L1' in sig_results_transcript.index) #Actual inconsistency\n",
    "sig_results_prot\n",
    "sig_results_transcript"
   ]
  },
  {
   "cell_type": "markdown",
   "metadata": {},
   "source": [
    "Additionally, as mentioned in our paper, we see a significant upregulation of TP53BP1-S1763 in the phosphoproteomics dataset for patients with Serous tumors.  However, we initially found a significant upregulation of CHEK2-S163 in the phosphoproteomics dataset for Serous tumors, but our black sheep analysis did not return the same result."
   ]
  },
  {
   "cell_type": "code",
   "execution_count": null,
   "metadata": {},
   "outputs": [],
   "source": [
    "print('TP53BP1-S1763' in sig_results_Serous.index)\n",
    "print('CHEK2-S163' in sig_results_Serous.index)"
   ]
  }
 ],
 "metadata": {
  "kernelspec": {
   "display_name": "Python 3",
   "language": "python",
   "name": "python3"
  },
  "language_info": {
   "codemirror_mode": {
    "name": "ipython",
    "version": 3
   },
   "file_extension": ".py",
   "mimetype": "text/x-python",
   "name": "python",
   "nbconvert_exporter": "python",
   "pygments_lexer": "ipython3",
   "version": "3.6.2"
  }
 },
 "nbformat": 4,
 "nbformat_minor": 2
}
