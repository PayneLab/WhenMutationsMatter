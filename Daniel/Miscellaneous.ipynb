{
 "cells": [
  {
   "cell_type": "markdown",
   "metadata": {},
   "source": [
    "This code was an attempt to optimize the parsing, reading, and accessing of JSON objects.  simdjson is remarkably fast, however, with the format of our JSON objects, it would take multiple for loops, and multiple files for each level of the JSON, and at that point, what we already have now runs fast enough that we likely don't need further optimization."
   ]
  },
  {
   "cell_type": "code",
   "execution_count": null,
   "metadata": {
    "collapsed": true
   },
   "outputs": [],
   "source": [
    "'''\n",
    "If I could automate this for each get request, and each clinical attribute, that\n",
    "might speed up the process of the dgidb_json_parse()\n",
    "test = dgidb_requests_up[0]\n",
    "new_file = 'test.json'\n",
    "\n",
    "with open(new_file, 'w+') as file:\n",
    "    json.dump(test, file)\n",
    "    file.close()\n",
    "\n",
    "with open(new_file, 'rb') as fin:\n",
    "    pj = simdjson.ParsedJson(fin.read())\n",
    "    fin.close()\n",
    "'''\n",
    "\n",
    "'''matched = pj.items('.matchedTerms')\n",
    "for item in matched:\n",
    "    interactions = item.get('interactions')\n",
    "    if len(interactions) > 0:\n",
    "        print('\\nGene:', item.get('geneName'))\n",
    "        for item in interactions:\n",
    "            print('Drug:', item.get('drugName'))\n",
    "            if len(item.get('interactionTypes')) > 0:\n",
    "                print('Interaction Type:', item.get('interactionTypes'))\n",
    "        print('\\n')\n",
    "    else:\n",
    "        print('Gene:', item.get('geneName'))\n",
    "'''\n",
    "\n",
    "'''\n",
    "matched = pj.items('.matchedTerms')\n",
    "for item in matched:\n",
    "    interactions = item['interactions']\n",
    "    if len(interactions) > 0:\n",
    "        print('\\nGene:', item['geneName'])\n",
    "        for item in interactions:\n",
    "            print('Drug:', item['drugName'])\n",
    "            if len(item['interactionTypes']) > 0:\n",
    "                print('Interaction Type:', item['interactionTypes'])\n",
    "        print('\\n')\n",
    "    else:\n",
    "        print('Gene:', item['geneName'])\n",
    "'''"
   ]
  }
 ],
 "metadata": {
  "kernelspec": {
   "display_name": "Python 3",
   "language": "python",
   "name": "python3"
  },
  "language_info": {
   "codemirror_mode": {
    "name": "ipython",
    "version": 3
   },
   "file_extension": ".py",
   "mimetype": "text/x-python",
   "name": "python",
   "nbconvert_exporter": "python",
   "pygments_lexer": "ipython3",
   "version": "3.6.2"
  }
 },
 "nbformat": 4,
 "nbformat_minor": 2
}
