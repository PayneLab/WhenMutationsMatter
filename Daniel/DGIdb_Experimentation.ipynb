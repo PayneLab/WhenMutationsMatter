{
 "cells": [
  {
   "cell_type": "code",
   "execution_count": 1,
   "metadata": {},
   "outputs": [],
   "source": [
    "import pandas as pd\n",
    "import numpy as np\n",
    "import seaborn as sns\n",
    "import matplotlib.pyplot as plt\n",
    "import binarization_functions as bf\n",
    "import requests\n",
    "import json"
   ]
  },
  {
   "cell_type": "code",
   "execution_count": 2,
   "metadata": {
    "collapsed": true
   },
   "outputs": [],
   "source": [
    "gene_list = ['AVL9', 'COG1', 'GOLPH3L', 'RAB3GAP1', 'RAB3GAP2']"
   ]
  },
  {
   "cell_type": "markdown",
   "metadata": {},
   "source": [
    "Errors are occurring on the following values:\n",
    "fda_approved_drug='false'\n",
    "immunotherapy='false'\n",
    "anti_neoplastic='false'\n",
    "clinically_actionable='false'\n",
    "druggable_genome='false'\n",
    "drug_resistance='false'\n",
    "\n",
    "Moral of the story? Test a bunch of these before you start writing code to do it, you might end up realizing that your code will need to be refactored a lot.  Also, just think before you code.  You've done well with this debugging process, but a lot of it probably could have been avoided if you had mapped it out a bit more before you started."
   ]
  },
  {
   "cell_type": "code",
   "execution_count": 6,
   "metadata": {},
   "outputs": [
    {
     "name": "stdout",
     "output_type": "stream",
     "text": [
      "This is the full URL to your GET request:\n",
      "http://www.dgidb.org/api/v2/interactions.json?genes=AVL9,COG1,GOLPH3L,RAB3GAP1,RAB3GAP2&interaction_sources=TTD,DrugBank,TALC&interaction_types=inhibitor,activator&fda_approved_drug=true&immunotherapy=true&anti_neoplastic=true&clinically_actionable=true&druggable_genome=true&drug_resistance=true&gene_categories=kinase,dna%20repair,tumor%20suppressor&source_trust_levels=Expert%20curated\n",
      "If this request failed, it is likely due to invalid inputs for gene_categories or source_trust_levels\n",
      "See www.dgidb.org/api for further explanation and resources for valid parameter inputs\n"
     ]
    }
   ],
   "source": [
    "r = bf.dgidb_get_request(genes_or_drugs_list=gene_list, \n",
    "                         genes=True, drugs=False, \n",
    "                         interaction_sources=['TTD','DrugBank','TALC'], \n",
    "                         interaction_types=['inhibitor','activator'], \n",
    "                         fda_approved_drug=True, immunotherapy=True,\n",
    "                         anti_neoplastic=True, clinically_actionable=True, \n",
    "                         druggable_genome=True, drug_resistance=True, \n",
    "                         gene_categories=['tumor suppressor','dna repair', 'kinase'], \n",
    "                         source_trust_levels=['Expert cUrated']) "
   ]
  },
  {
   "cell_type": "code",
   "execution_count": 4,
   "metadata": {},
   "outputs": [
    {
     "name": "stdout",
     "output_type": "stream",
     "text": [
      "\n",
      "Required Parameters:\n",
      "genes_or_drugs_list (list)\n",
      "genes (bool)\n",
      "drugs (bool)\n",
      "\n",
      "Optional Parameters:\n",
      "interaction_sources (list (case-sensitive): [\"DrugBank\",\"PharmGKB\",\"TALC\",\"TEND\",\"TTD\"])\n",
      "interaction_types (list (not case-sensitive): [\"activator\", \"inhibitor\", \"unknown\"])\n",
      "fda_approved_drug (bool)\n",
      "immunotherapy (bool)\n",
      "anti_neoplastic (bool)\n",
      "clinically_actionable (bool)\n",
      "druggable_genome (bool)\n",
      "drug_resistance (bool)\n",
      "gene_categories (list (not case-sensitive): [\"kinase\", \"dna repair\", \"tumor suppressor\"])\n",
      "source_trust_levels (list (not case-sensitive): [\"Expert curated\", \"Non-curated\"])\n",
      "\n",
      "For more information on function parameters and DGIdb, see:\n",
      "http://www.dgidb.org/api\n"
     ]
    }
   ],
   "source": [
    "bf.get_dgidb_parameters()"
   ]
  },
  {
   "cell_type": "code",
   "execution_count": 5,
   "metadata": {},
   "outputs": [
    {
     "ename": "AttributeError",
     "evalue": "'NoneType' object has no attribute 'json'",
     "output_type": "error",
     "traceback": [
      "\u001b[1;31m---------------------------------------------------------------------------\u001b[0m",
      "\u001b[1;31mAttributeError\u001b[0m                            Traceback (most recent call last)",
      "\u001b[1;32m<ipython-input-5-9c78734cbfe1>\u001b[0m in \u001b[0;36m<module>\u001b[1;34m()\u001b[0m\n\u001b[1;32m----> 1\u001b[1;33m \u001b[0mr\u001b[0m\u001b[1;33m.\u001b[0m\u001b[0mjson\u001b[0m\u001b[1;33m(\u001b[0m\u001b[1;33m)\u001b[0m\u001b[1;33m\u001b[0m\u001b[0m\n\u001b[0m",
      "\u001b[1;31mAttributeError\u001b[0m: 'NoneType' object has no attribute 'json'"
     ]
    }
   ],
   "source": [
    "r.json()"
   ]
  },
  {
   "cell_type": "code",
   "execution_count": null,
   "metadata": {
    "collapsed": true
   },
   "outputs": [],
   "source": []
  }
 ],
 "metadata": {
  "kernelspec": {
   "display_name": "Python 3",
   "language": "python",
   "name": "python3"
  },
  "language_info": {
   "codemirror_mode": {
    "name": "ipython",
    "version": 3
   },
   "file_extension": ".py",
   "mimetype": "text/x-python",
   "name": "python",
   "nbconvert_exporter": "python",
   "pygments_lexer": "ipython3",
   "version": "3.6.2"
  }
 },
 "nbformat": 4,
 "nbformat_minor": 2
}
