{
 "cells": [
  {
   "cell_type": "code",
   "execution_count": 1,
   "metadata": {
    "collapsed": true
   },
   "outputs": [],
   "source": [
    "import pandas as pd\n",
    "import numpy as np\n",
    "import seaborn as sns\n",
    "import matplotlib.pyplot as plt\n",
    "#import python_example as dgidb\n",
    "import requests\n",
    "import sys\n",
    "import argparse\n",
    "import json"
   ]
  },
  {
   "cell_type": "code",
   "execution_count": 4,
   "metadata": {
    "collapsed": true
   },
   "outputs": [],
   "source": [
    "gene_list = ['AVL9', 'COG1', 'GOLPH3L', 'RAB3GAP1', 'RAB3GAP2']\n",
    "my_parameters = {'genes': gene_list, 'fda_approved_drug': 'true'}"
   ]
  },
  {
   "cell_type": "code",
   "execution_count": 5,
   "metadata": {},
   "outputs": [],
   "source": [
    "r = requests.get('http://www.dgidb.org/api/v2/interactions.json?', params = my_parameters)"
   ]
  },
  {
   "cell_type": "code",
   "execution_count": 21,
   "metadata": {},
   "outputs": [
    {
     "name": "stdout",
     "output_type": "stream",
     "text": [
      "genes=AVL9,COG1,GOLPH3L,RAB3GAP1,RAB3GAP2&fda_approved_drug=true&interaction_sources=TTD,DrugBank,TALC&anti_neoplastic=true\n",
      "http://www.dgidb.org/api/v2/interactions.json?genes=AVL9,COG1,GOLPH3L,RAB3GAP1,RAB3GAP2&fda_approved_drug=true&interaction_sources=TTD,DrugBank,TALC&anti_neoplastic=true\n"
     ]
    }
   ],
   "source": [
    "#Need to test this\n",
    "def DGIdb_get_request(genes='yes', drugs='N/A',\n",
    "                      genes_or_drugs_list,\n",
    "                      interaction_sources='N/A', \n",
    "                      interaction_types='N/A', \n",
    "                      fda_approved_drug='N/A', \n",
    "                      immunotherapy='N/A', \n",
    "                      anti_neoplastic='N/A', \n",
    "                      clinically_actionable='N/A', \n",
    "                      druggable_genome='N/A', \n",
    "                      drug_resistance='N/A', \n",
    "                      gene_categories='N/A', \n",
    "                      source_trust_levels='N/A'):\n",
    "    url = 'http://www.dgidb.org/api/v2/interactions.json?'\n",
    "    \n",
    "    if genes == 'yes':\n",
    "        genes_string = 'genes='\n",
    "        for gene in genes_or_drugs_list:\n",
    "            if gene == genes_or_drugs_list[0]:\n",
    "                genes_string += gene\n",
    "            else:\n",
    "                genes_string += ',' + gene\n",
    "\n",
    "        url += genes_string\n",
    "        \n",
    "    elif drugs == 'yes':\n",
    "        drugs_string = 'drugs='\n",
    "        for drug in genes_or_drugs_list:\n",
    "            if drug == genes_or_drugs_list[0]:\n",
    "                drugs_string += drug\n",
    "            else:\n",
    "                drugs_string += ',' + drug\n",
    "        url += drugs_string\n",
    "        \n",
    "    if interaction_sources == 'true' or interaction_sources == 'false':\n",
    "        url += '&interaction_sources=' + interaction_sources\n",
    "        \n",
    "    if interaction_types == 'true' or interaction_types == 'false':\n",
    "        url += '&interaction_types=' + interaction_types\n",
    "    \n",
    "    if fda_approved_drug == 'true' or fda_approved_drug == 'false':\n",
    "        url += '&fda_approved_drug=' + fda_approved_drug\n",
    "        \n",
    "    if immunotherapy == 'true' or immunotherapy == 'false':\n",
    "        url += '&immunotherapy=' + immunotherapy\n",
    "        \n",
    "    if anti_neoplastic == 'true' or anti_neoplastic == 'false':\n",
    "        url += '&anti_neoplastic=' + anti_neoplastic\n",
    "        \n",
    "    if clinically_actionable == 'true' or clinically_actionable == 'false':\n",
    "        url += '&clinically_actionable=' + clinically_actionable\n",
    "    \n",
    "    if fda_approved_drug == 'true' or fda_approved_drug == 'false':\n",
    "        url += '&fda_approved_drug=' + fda_approved_drug\n",
    "        \n",
    "    if druggable_genome == 'true' or druggable_genome == 'false':\n",
    "        url += '&druggable_genome=' + druggable_genome\n",
    "        \n",
    "    if drug_resistance == 'true' or drug_resistance == 'false':\n",
    "        url += '&drug_resistance=' + drug_resistance\n",
    "        \n",
    "    if gene_categories != 'N/A':\n",
    "        url += '&gene_categories=' + gene_categories\n",
    "        \n",
    "    if source_trust_levels != 'N/A':\n",
    "        url += '&source_trust_levels=' + source_trust_levels\n",
    "        \n",
    "    print(\"This is the full URL to request:\")\n",
    "    print(url)\n",
    "    r = requests.get(url)\n",
    "    return r"
   ]
  },
  {
   "cell_type": "code",
   "execution_count": 22,
   "metadata": {
    "collapsed": true
   },
   "outputs": [],
   "source": []
  },
  {
   "cell_type": "code",
   "execution_count": 23,
   "metadata": {},
   "outputs": [
    {
     "data": {
      "text/plain": [
       "{'ambiguousTerms': [],\n",
       " 'matchedTerms': [{'entrezId': 23080,\n",
       "   'geneCategories': [],\n",
       "   'geneLongName': 'AVL9 CELL MIGRATION ASSOCIATED',\n",
       "   'geneName': 'AVL9',\n",
       "   'interactions': [],\n",
       "   'searchTerm': 'AVL9'},\n",
       "  {'entrezId': 9382,\n",
       "   'geneCategories': [],\n",
       "   'geneLongName': 'COMPONENT OF OLIGOMERIC GOLGI COMPLEX 1',\n",
       "   'geneName': 'COG1',\n",
       "   'interactions': [],\n",
       "   'searchTerm': 'COG1'},\n",
       "  {'entrezId': 55204,\n",
       "   'geneCategories': [],\n",
       "   'geneLongName': 'GOLGI PHOSPHOPROTEIN 3 LIKE',\n",
       "   'geneName': 'GOLPH3L',\n",
       "   'interactions': [],\n",
       "   'searchTerm': 'GOLPH3L'},\n",
       "  {'entrezId': 22930,\n",
       "   'geneCategories': [],\n",
       "   'geneLongName': 'RAB3 GTPASE ACTIVATING PROTEIN CATALYTIC SUBUNIT 1',\n",
       "   'geneName': 'RAB3GAP1',\n",
       "   'interactions': [],\n",
       "   'searchTerm': 'RAB3GAP1'},\n",
       "  {'entrezId': 25782,\n",
       "   'geneCategories': [],\n",
       "   'geneLongName': 'RAB3 GTPASE ACTIVATING NON-CATALYTIC PROTEIN SUBUNIT 2',\n",
       "   'geneName': 'RAB3GAP2',\n",
       "   'interactions': [],\n",
       "   'searchTerm': 'RAB3GAP2'}],\n",
       " 'unmatchedTerms': []}"
      ]
     },
     "execution_count": 23,
     "metadata": {},
     "output_type": "execute_result"
    }
   ],
   "source": [
    "r.json()"
   ]
  }
 ],
 "metadata": {
  "kernelspec": {
   "display_name": "Python 3",
   "language": "python",
   "name": "python3"
  },
  "language_info": {
   "codemirror_mode": {
    "name": "ipython",
    "version": 3
   },
   "file_extension": ".py",
   "mimetype": "text/x-python",
   "name": "python",
   "nbconvert_exporter": "python",
   "pygments_lexer": "ipython3",
   "version": "3.6.2"
  }
 },
 "nbformat": 4,
 "nbformat_minor": 2
}
