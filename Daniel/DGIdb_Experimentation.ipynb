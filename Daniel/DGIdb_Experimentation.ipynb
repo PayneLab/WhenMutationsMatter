{
 "cells": [
  {
   "cell_type": "code",
   "execution_count": 1,
   "metadata": {},
   "outputs": [],
   "source": [
    "import pandas as pd\n",
    "import numpy as np\n",
    "import seaborn as sns\n",
    "import matplotlib.pyplot as plt\n",
    "import binarization_functions as bf\n",
    "import requests\n",
    "import json"
   ]
  },
  {
   "cell_type": "code",
   "execution_count": 2,
   "metadata": {
    "collapsed": true
   },
   "outputs": [],
   "source": [
    "gene_list = ['AVL9', 'COG1', 'GOLPH3L', 'RAB3GAP1', 'RAB3GAP2']"
   ]
  },
  {
   "cell_type": "code",
   "execution_count": 4,
   "metadata": {},
   "outputs": [
    {
     "name": "stdout",
     "output_type": "stream",
     "text": [
      "Invalid parameter value: \n",
      "Invalid input interaction_sources: TTD,DrugBank,TALC\n",
      "\n",
      "Full list of parameters:\n",
      "genes_or_drugs_list, genes, drugs, interaction_sources, interaction_types, fda_approved_drug, immunotherapy, anti_neoplastic, clinically_actionable, druggable_genome, drug_resistance, gene_categories, source_trust_levels\n",
      "\n",
      "Required Parameters:\n",
      "genes_or_drugs_list (list)\n",
      "genes (string: \"true\" or \"false\")\n",
      "drugs (string: \"true\" or \"false\"\n",
      "\n",
      "Optional Parameters\n",
      "interaction_sources (string: \"TTD\", \"DrugBank\", \"TALC\", \"something\")\n",
      "interaction_types (string: \"inhibitor\", \"activator\")\n",
      "fda_approved_drug (string: \"true\" or \"false\")\n",
      "immunotherapy (string: \"true\" or \"false\")\n",
      "anti_neoplastic (string: \"true\" or \"false\")\n",
      "clinically_actionable (string: \"true\" or \"false\")\n",
      "druggable_genome (string: \"true\" or \"false\")\n",
      "drug_resistance (string: \"true\" or \"false\")\n",
      "gene_categories (string: see www.dgidb.org/api for options)\n",
      "source_trust_levels (string: see www.dgidb.org/api for options)\n",
      "\n",
      "For more information on function parameters and DGIdb, see:\n",
      "http://www.dgidb.org/api\n"
     ]
    }
   ],
   "source": [
    "bf.dgidb_get_request(genes_or_drugs_list=gene_list, \n",
    "                     genes='yes', drugs='N/A',\n",
    "                     interaction_sources='TTD,DrugBank,TALC', \n",
    "                     interaction_types='inhibitor,activator', \n",
    "                     fda_approved_drug='true', immunotherapy='true', \n",
    "                     anti_neoplastic='true', \n",
    "                     clinically_actionable='true', druggable_genome='true', \n",
    "                     drug_resistance='true', gene_categories='kinase', \n",
    "                     source_trust_levels='Expert%20curated')"
   ]
  },
  {
   "cell_type": "code",
   "execution_count": 5,
   "metadata": {},
   "outputs": [
    {
     "data": {
      "text/plain": [
       "{'ambiguousTerms': [],\n",
       " 'matchedTerms': [{'entrezId': 25782,\n",
       "   'geneCategories': [],\n",
       "   'geneLongName': 'RAB3 GTPASE ACTIVATING NON-CATALYTIC PROTEIN SUBUNIT 2',\n",
       "   'geneName': 'RAB3GAP2',\n",
       "   'interactions': [],\n",
       "   'searchTerm': 'RAB3GAP2'}],\n",
       " 'unmatchedTerms': []}"
      ]
     },
     "execution_count": 5,
     "metadata": {},
     "output_type": "execute_result"
    }
   ],
   "source": [
    "r.json()"
   ]
  }
 ],
 "metadata": {
  "kernelspec": {
   "display_name": "Python 3",
   "language": "python",
   "name": "python3"
  },
  "language_info": {
   "codemirror_mode": {
    "name": "ipython",
    "version": 3
   },
   "file_extension": ".py",
   "mimetype": "text/x-python",
   "name": "python",
   "nbconvert_exporter": "python",
   "pygments_lexer": "ipython3",
   "version": "3.6.2"
  }
 },
 "nbformat": 4,
 "nbformat_minor": 2
}
