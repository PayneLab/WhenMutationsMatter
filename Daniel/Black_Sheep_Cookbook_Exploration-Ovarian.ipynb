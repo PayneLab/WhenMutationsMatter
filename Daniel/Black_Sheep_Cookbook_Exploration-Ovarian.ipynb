{
 "cells": [
  {
   "cell_type": "markdown",
   "metadata": {},
   "source": [
    "## BlackSheep Cookbook Exploration\n",
    "\n",
    "The Black Sheep Analysis allows researchers to find trends in abnormal protein enrichment among patients in CPTAC datasets. In this Cookbook, we will go through the steps needed to perform a full Black Sheep Analysis."
   ]
  },
  {
   "cell_type": "markdown",
   "metadata": {},
   "source": [
    "### Step 1a: Import Dependencies\n",
    "First, import the necessary dependencies and load cptac data."
   ]
  },
  {
   "cell_type": "code",
   "execution_count": 1,
   "metadata": {},
   "outputs": [
    {
     "name": "stdout",
     "output_type": "stream",
     "text": [
      "Welcome to cptac, a python package for disseminating cancer\n",
      "proteogenomics data. To view available datasets, enter\n",
      "'cptac.list_data()'. Extensive tutorials are available at\n",
      "https://github.com/PayneLab/cptac/tree/master/doc\n",
      "\n",
      "******\n",
      "Version: 0.4.5\n",
      "******\n"
     ]
    }
   ],
   "source": [
    "import numpy as np\n",
    "import pandas as pd\n",
    "import matplotlib.pyplot as plt\n",
    "import seaborn as sns\n",
    "import cptac\n",
    "import binarization_functions as bf\n",
    "import blackSheepCPTACmoduleCopy as blsh\n",
    "import gseapy as gp\n",
    "from gseapy.plot import barplot, heatmap, dotplot"
   ]
  },
  {
   "cell_type": "markdown",
   "metadata": {},
   "source": [
    "## Step 1b: Load Data and Choose Omics Table\n",
    "For this analysis, we will be looking at results across the proteomics, transcriptomics, and phosphoproteomics tables."
   ]
  },
  {
   "cell_type": "code",
   "execution_count": 2,
   "metadata": {},
   "outputs": [
    {
     "name": "stdout",
     "output_type": "stream",
     "text": [
      "Checking that data files are up-to-date...\n",
      "100% [..................................................................................] 407 / 407\n",
      "Data check complete.\n",
      "ovarian data version: Most recent release\n",
      "\n",
      "Loading clinical data...\n",
      "Loading cnv data...\n",
      "Loading definitions data...\n",
      "Loading phosphoproteomics data...\n",
      "Loading proteomics data...\n",
      "Loading somatic_38 data...\n",
      "Loading transcriptomics data...\n",
      "Loading treatment data...\n"
     ]
    }
   ],
   "source": [
    "ov = cptac.Ovarian()\n",
    "proteomics = ov.get_proteomics()\n",
    "transcriptomics = ov.get_transcriptomics()\n",
    "clinical = ov.get_clinical()"
   ]
  },
  {
   "cell_type": "markdown",
   "metadata": {},
   "source": [
    "## Step 2: Determine what attributes you would like to A/B test. \n",
    "For this analysis, we will iteratively go through the various columns in the clinical dataset, to determine if any of them have trends within them for protein enrichment."
   ]
  },
  {
   "cell_type": "code",
   "execution_count": 3,
   "metadata": {
    "collapsed": true
   },
   "outputs": [],
   "source": [
    "#Create a copy of the original Clinical DataFrame\n",
    "annotations = pd.DataFrame(clinical.copy())"
   ]
  },
  {
   "cell_type": "code",
   "execution_count": 4,
   "metadata": {
    "collapsed": true
   },
   "outputs": [],
   "source": [
    "#Drop irrelevant columns.\n",
    "irrelevant_cols = ['Patient_ID', 'Participant_Gender', 'Histological_Subtype']\n",
    "annotations = annotations.drop(irrelevant_cols, axis=1)\n",
    "\n",
    "#Determine which columns we should either drop, or be generally skeptical of in our analysis\n",
    "questionable_cols = ['Participant_History_Neo-adjuvant_Treatment', #all said no but one\n",
    "                     'Participant_History_Radiation_Therapy', #all said no but one\n",
    "                     'Participant_History_Hormonal_Therapy', #all said no but one\n",
    "                     'Participant_Ethnicity', #all are not hispanic or latino, weren't evaluated, or unknown. Only one hispanic\n",
    "                     'Normal_Sample_4_Surgical_Devascularized_Time', #very few datatpoints\n",
    "                     'Normal_Sample_4_Weight', 'Normal_Sample_4_LN2_Time', #very few datapoints\n",
    "                     'Normal_Sample_4_Ischemia_Time', #very few datapoints\n",
    "                     'Normal_Sample_5_Surgical_Devascularized_Time', #very few datapoints\n",
    "                     'Normal_Sample_5_Weight', 'Normal_Sample_5_LN2_Time', #very few datapoints\n",
    "                     'Normal_Sample_5_Ischemia_Time', #very few datapoints\n",
    "                     'Other_New_Tumor_Event_Site', #few datapoints, and hard to really binarize \n",
    "                     'Days_Between_Collection_And_New_Tumor_Event_Surgery'] #few datapoints\n",
    "\n",
    "annotations = annotations.drop(questionable_cols, axis=1)\n",
    "#Drop all the tumor_sample* columns. IT IS MAKING THE ANALYSIS TAKE FOREVER. ESPECIALLY FOR TRANSCRIPTOMICS\n",
    "#ALSO DELETE ALL THE NORMAL_SAMPLE* STUFF BECAUSE IT IS ALSO UNNECESSARY"
   ]
  },
  {
   "cell_type": "code",
   "execution_count": 5,
   "metadata": {
    "collapsed": true
   },
   "outputs": [],
   "source": [
    "#Determine which columns are binary and which aren't\n",
    "binary_cols = []\n",
    "non_binary_cols = []\n",
    "\n",
    "for col in annotations.columns:\n",
    "    if len(annotations[col].value_counts()) == 2:\n",
    "        binary_cols.append(col)\n",
    "    elif len(annotations[col].value_counts()) > 2:\n",
    "        non_binary_cols.append(col)\n",
    "    else:\n",
    "        annotations = annotations.drop(col, axis=1) \n",
    "        #This would defeat the purpose of binarization if there were only 1 possible outcome."
   ]
  },
  {
   "cell_type": "code",
   "execution_count": 6,
   "metadata": {},
   "outputs": [
    {
     "name": "stdout",
     "output_type": "stream",
     "text": [
      "Participant_Procurement_Age is a numeric column\n",
      "\n",
      "Participant_Race is a categorical column\n",
      "\n",
      "Participant_Jewish_Heritage is a categorical column\n",
      "\n",
      "Aliquots_Plasma is a numeric column\n",
      "\n",
      "Blood_Collection_Time is a categorical column\n",
      "\n",
      "Blood_Collection_Method is a categorical column\n",
      "\n",
      "Anesthesia_Time is a numeric column\n",
      "\n",
      "Tumor_Surgical_Devascularized_Time is a numeric column\n",
      "\n",
      "Tumor_Sample_Number is a numeric column\n",
      "\n",
      "Tumor_Sample_1_Weight is a numeric column\n",
      "\n",
      "Tumor_Sample_1_LN2_Time is a numeric column\n",
      "\n",
      "Tumor_Sample_1_Ischemia_Time is a numeric column\n",
      "\n",
      "Tumor_Sample_2_Weight is a numeric column\n",
      "\n",
      "Tumor_Sample_2_LN2_Time is a numeric column\n",
      "\n",
      "Tumor_Sample_2_Ischemia_Time is a numeric column\n",
      "\n",
      "Tumor_Sample_3_Weight is a numeric column\n",
      "\n",
      "Tumor_Sample_3_LN2_Time is a numeric column\n",
      "\n",
      "Tumor_Sample_3_Ischemia_Time is a numeric column\n",
      "\n",
      "Tumor_Sample_4_Weight is a numeric column\n",
      "\n",
      "Tumor_Sample_4_LN2_Time is a numeric column\n",
      "\n",
      "Tumor_Sample_4_Ischemia_Time is a numeric column\n",
      "\n",
      "Tumor_Sample_5_Weight is a numeric column\n",
      "\n",
      "Tumor_Sample_5_LN2_Time is a numeric column\n",
      "\n",
      "Tumor_Sample_5_Ischemia_Time is a numeric column\n",
      "\n",
      "Normal_Sample_Number is a numeric column\n",
      "\n",
      "Normal_Sample_1_Surgical_Devascularized_Time is a numeric column\n",
      "\n",
      "Normal_Sample_1_Weight is a numeric column\n",
      "\n",
      "Normal_Sample_1_LN2_Time is a numeric column\n",
      "\n",
      "Normal_Sample_1_Ischemia_Time is a numeric column\n",
      "\n",
      "Normal_Sample_2_Surgical_Devascularized_Time is a numeric column\n",
      "\n",
      "Normal_Sample_2_Weight is a numeric column\n",
      "\n",
      "Normal_Sample_2_LN2_Time is a numeric column\n",
      "\n",
      "Normal_Sample_2_Ischemia_Time is a numeric column\n",
      "\n",
      "Normal_Sample_3_Surgical_Devascularized_Time is a numeric column\n",
      "\n",
      "Normal_Sample_3_Weight is a numeric column\n",
      "\n",
      "Normal_Sample_3_LN2_Time is a numeric column\n",
      "\n",
      "Normal_Sample_3_Ischemia_Time is a numeric column\n",
      "\n",
      "Origin_Site_Disease is a categorical column\n",
      "\n",
      "Anatomic_Site_Tumor is a categorical column\n",
      "\n",
      "Anatomic_Lateral_Position_Tumor is a categorical column\n",
      "\n",
      "Method_of_Pathologic_Diagnosis is a categorical column\n",
      "\n",
      "Tumor_Stage_Ovary_FIGO is a categorical column\n",
      "\n",
      "Tumor_Grade is a categorical column\n",
      "\n",
      "Tumor_Residual_Disease_Max_Diameter is a categorical column\n",
      "\n",
      "Days_Between_Collection_And_Last_Contact is a numeric column\n",
      "\n",
      "Days_Between_Collection_And_Death is a numeric column\n",
      "\n",
      "Tumor_Status is a categorical column\n",
      "\n",
      "Review_Of_Initial_Pathological_Findings is a categorical column\n",
      "\n",
      "Adjuvant_Pharmaceutical_Therapy is a categorical column\n",
      "\n",
      "Adjuvant_Immunotherapy is a categorical column\n",
      "\n",
      "Adjuvant_Hormone_Therapy is a categorical column\n",
      "\n",
      "Adjuvant_Targeted_Molecular_Therapy is a categorical column\n",
      "\n",
      "Response_After_Surgery_And_Adjuvant_Therapies is a categorical column\n",
      "\n",
      "New_Tumor_Event_After_Initial_Treatment is a categorical column\n",
      "\n",
      "New_Tumor_Event_Type is a categorical column\n",
      "\n",
      "New_Tumor_Event_Site is a categorical column\n",
      "\n",
      "Days_Between_Collection_And_New_Tumor_Event is a numeric column\n",
      "\n",
      "New_Tumor_Event_Diagnosis is a categorical column\n",
      "\n",
      "New_Tumor_Event_Surgery is a categorical column\n",
      "\n",
      "New_Tumor_Event_Chemotherapy is a categorical column\n",
      "\n",
      "New_Tumor_Event_Immunotherapy is a categorical column\n",
      "\n",
      "New_Tumor_Event_Targeted_Molecular_Therapy is a categorical column\n",
      "\n"
     ]
    }
   ],
   "source": [
    "numeric_non_bin = []\n",
    "categorical_non_bin = []\n",
    "\n",
    "for item in non_binary_cols:\n",
    "    if np.issubdtype(annotations[item].dtype, np.number):\n",
    "        print(item+\" is a numeric column\\n\")\n",
    "        numeric_non_bin.append(item)\n",
    "        mean = annotations[item].mean()\n",
    "        annotations[item]= bf.binarizeCutOff(annotations, item, mean, \n",
    "                                             \"Above_Mean(\"+str(round(mean, 2))+\")\", \n",
    "                                             \"Below_Mean(\"+str(round(mean, 2))+\")\")\n",
    "    else:\n",
    "        print(item+\" is a categorical column\\n\")\n",
    "        categorical_non_bin.append(item)"
   ]
  },
  {
   "cell_type": "markdown",
   "metadata": {},
   "source": [
    "## Step 2a: Binarize column values"
   ]
  },
  {
   "cell_type": "code",
   "execution_count": 7,
   "metadata": {
    "collapsed": true
   },
   "outputs": [],
   "source": [
    "race_map = {'White':'White', \n",
    "            'Asian':'Not_White', \n",
    "            'Black or African American':'Not_White', \n",
    "            'Unknown (Could not be determined or unsure)':np.nan, \n",
    "            'American Indian or Alaska Native': 'Not_White'}\n",
    "\n",
    "annotations['Participant_Race'] = bf.binarizeCategorical(annotations, \n",
    "                                                         'Participant_Race', \n",
    "                                                         race_map)"
   ]
  },
  {
   "cell_type": "code",
   "execution_count": 8,
   "metadata": {
    "collapsed": true
   },
   "outputs": [],
   "source": [
    "jewish_map = {'Not Jewish':'Not_Jewish', \n",
    "              'Unknown':np.nan, \n",
    "              'Ashkenazi':'Jewish', \n",
    "              'Jewish, NOS':'Jewish'}\n",
    "\n",
    "annotations['Participant_Jewish_Heritage'] = bf.binarizeCategorical(annotations, \n",
    "                                                                    'Participant_Jewish_Heritage', \n",
    "                                                                    jewish_map)"
   ]
  },
  {
   "cell_type": "code",
   "execution_count": 9,
   "metadata": {
    "collapsed": true
   },
   "outputs": [],
   "source": [
    "#Replace categorical 'Not Reported/ Unknown' with NaN and convert to numeric for easier binarization\n",
    "annotations['Blood_Collection_Time'] = annotations['Blood_Collection_Time'].replace('Not Reported/ Unknown', np.nan)\n",
    "annotations['Blood_Collection_Time'] = pd.to_numeric(annotations['Blood_Collection_Time'])\n",
    "\n",
    "#Binarize Column\n",
    "annotations['Blood_Collection_Time'] = bf.binarizeCutOff(annotations, \n",
    "                                                         'Blood_Collection_Time', \n",
    "                                                         1000, 'Long', 'Short')"
   ]
  },
  {
   "cell_type": "code",
   "execution_count": 10,
   "metadata": {
    "collapsed": true
   },
   "outputs": [],
   "source": [
    "blood_collection_method_map = {'Venipuncture (Vacutainer Apparatus)':'Venipuncture', \n",
    "                               'Venipuncture (Syringe)':'Venipuncture', 'IV Catheter':'IV'}\n",
    "\n",
    "annotations['Blood_Collection_Method'] = bf.binarizeCategorical(annotations, \n",
    "                                                                'Blood_Collection_Method', \n",
    "                                                                blood_collection_method_map)"
   ]
  },
  {
   "cell_type": "code",
   "execution_count": 11,
   "metadata": {
    "collapsed": true
   },
   "outputs": [],
   "source": [
    "origin_site_map = {'Ovary':'Ovary', \n",
    "                   'Fallopian tube':'Other', \n",
    "                   'Peritoneum':'Other'}\n",
    "\n",
    "annotations['Origin_Site_Disease'] = bf.binarizeCategorical(annotations, \n",
    "                                                            'Origin_Site_Disease',\n",
    "                                                            origin_site_map)"
   ]
  },
  {
   "cell_type": "code",
   "execution_count": 12,
   "metadata": {
    "collapsed": true
   },
   "outputs": [],
   "source": [
    "anatomic_site_map = {'Ovary':'Ovary', \n",
    "                     'Omentum':'Other', \n",
    "                     'Pelvic mass':'Other', \n",
    "                     'Peritoneum':'Other', \n",
    "                     'Not Reported/ Unknown':np.nan}\n",
    "\n",
    "annotations['Anatomic_Site_Tumor'] = bf.binarizeCategorical(annotations, \n",
    "                                                            'Anatomic_Site_Tumor',\n",
    "                                                            anatomic_site_map)"
   ]
  },
  {
   "cell_type": "code",
   "execution_count": 13,
   "metadata": {
    "collapsed": true
   },
   "outputs": [],
   "source": [
    "anatomic_lateral_map = {'Not applicable':'Other',\n",
    "                        'Right':'Right',\n",
    "                        'Left':'Other', \n",
    "                        'Not Reported/ Unknown':np.nan, \n",
    "                        'Bilateral':'Other'}\n",
    "\n",
    "annotations['Anatomic_Lateral_Position_Tumor'] = bf.binarizeCategorical(annotations,\n",
    "                                                                        'Anatomic_Lateral_Position_Tumor',\n",
    "                                                                        anatomic_lateral_map)"
   ]
  },
  {
   "cell_type": "code",
   "execution_count": 14,
   "metadata": {
    "collapsed": true
   },
   "outputs": [],
   "source": [
    "path_diagnosis_map = {'Tumor resection': 'Tumor resection',\n",
    "                      'Excisional Biopsy':'Biopsy', \n",
    "                      'Excisional Biopsy':'Biopsy'}\n",
    "\n",
    "annotations['Method_of_Pathologic_Diagnosis'] = bf.binarizeCategorical(annotations,\n",
    "                                                                       'Method_of_Pathologic_Diagnosis',\n",
    "                                                                       path_diagnosis_map)"
   ]
  },
  {
   "cell_type": "code",
   "execution_count": 15,
   "metadata": {
    "collapsed": true
   },
   "outputs": [],
   "source": [
    "tumor_stage_map = {'IC':'I_or_II', \n",
    "                   'IIB':'I_or_II', \n",
    "                   'III':'III_or_IV', \n",
    "                   'IIIA':'III_or_IV', \n",
    "                   'IIIB':'III_or_IV', \n",
    "                   'IIIC':'III_or_IV', \n",
    "                   'IV':'III_or_IV', \n",
    "                   'Not Reported/ Unknown':np.nan}\n",
    "\n",
    "annotations['Tumor_Stage_Ovary_FIGO'] = bf.binarizeCategorical(annotations, \n",
    "                                                               'Tumor_Stage_Ovary_FIGO', \n",
    "                                                               tumor_stage_map)"
   ]
  },
  {
   "cell_type": "code",
   "execution_count": 16,
   "metadata": {
    "collapsed": true
   },
   "outputs": [],
   "source": [
    "tumor_grade_map = {'G3':'G3', 'Not Reported/ Unknown':np.nan, \n",
    "                   'G2':'Other', 'G1':'Other', \n",
    "                   'GB':'Other', 'GX':'Other'}\n",
    "\n",
    "annotations['Tumor_Grade'] = bf.binarizeCategorical(annotations, \n",
    "                                                    'Tumor_Grade', \n",
    "                                                    tumor_grade_map)"
   ]
  },
  {
   "cell_type": "code",
   "execution_count": 17,
   "metadata": {
    "collapsed": true
   },
   "outputs": [],
   "source": [
    "resid_max_diam_map = {'None':'0-10 mm', \n",
    "                      '1-10 mm': '0-10 mm', \n",
    "                      'greater than 20 mm':'greater than 11 mm', \n",
    "                      'Not Reported/ Unknown':np.nan, \n",
    "                      '11-20 mm':'greater than 11 mm'}\n",
    "\n",
    "annotations['Tumor_Residual_Disease_Max_Diameter'] = bf.binarizeCategorical(annotations, \n",
    "                                                                            'Tumor_Residual_Disease_Max_Diameter', \n",
    "                                                                            resid_max_diam_map)"
   ]
  },
  {
   "cell_type": "code",
   "execution_count": 18,
   "metadata": {
    "collapsed": true
   },
   "outputs": [],
   "source": [
    "annotations['Tumor_Status'] = annotations['Tumor_Status'].replace('Not Reported/Unknown', np.nan)"
   ]
  },
  {
   "cell_type": "code",
   "execution_count": 19,
   "metadata": {
    "collapsed": true
   },
   "outputs": [],
   "source": [
    "annotations['Review_Of_Initial_Pathological_Findings'] = annotations['Review_Of_Initial_Pathological_Findings'].replace('Not Applicable', np.nan)"
   ]
  },
  {
   "cell_type": "code",
   "execution_count": 20,
   "metadata": {
    "collapsed": true
   },
   "outputs": [],
   "source": [
    "annotations['Adjuvant_Pharmaceutical_Therapy'] = annotations['Adjuvant_Pharmaceutical_Therapy'].replace('Not Reported/Unknown', np.nan)"
   ]
  },
  {
   "cell_type": "code",
   "execution_count": 21,
   "metadata": {
    "collapsed": true
   },
   "outputs": [],
   "source": [
    "annotations['Adjuvant_Immunotherapy'] = annotations['Adjuvant_Immunotherapy'].replace('Not Reported/Unknown', np.nan)"
   ]
  },
  {
   "cell_type": "code",
   "execution_count": 22,
   "metadata": {
    "collapsed": true
   },
   "outputs": [],
   "source": [
    "annotations['Adjuvant_Hormone_Therapy'] = annotations['Adjuvant_Hormone_Therapy'].replace('Not Reported/Unknown', np.nan)"
   ]
  },
  {
   "cell_type": "code",
   "execution_count": 23,
   "metadata": {
    "collapsed": true
   },
   "outputs": [],
   "source": [
    "annotations['Adjuvant_Targeted_Molecular_Therapy'] = annotations['Adjuvant_Targeted_Molecular_Therapy'].replace('Not Reported/Unknown', np.nan)"
   ]
  },
  {
   "cell_type": "code",
   "execution_count": 24,
   "metadata": {
    "collapsed": true
   },
   "outputs": [],
   "source": [
    "response_map = {'Complete Response':'Complete_or_Partial_Response', \n",
    "                'Partial Response':'Complete_or_Partial_Response', \n",
    "                'Stable Disease':'Stable_or_Progressive_Disease', \n",
    "                'Not Reported/Unknown':np.nan, \n",
    "                'Progressive Disease':'Stable_or_Progressive_Disease'}\n",
    "\n",
    "annotations['Response_After_Surgery_And_Adjuvant_Therapies'] = bf.binarizeCategorical(annotations, \n",
    "                                                                                      'Response_After_Surgery_And_Adjuvant_Therapies', \n",
    "                                                                                      response_map)"
   ]
  },
  {
   "cell_type": "code",
   "execution_count": 25,
   "metadata": {
    "collapsed": true
   },
   "outputs": [],
   "source": [
    "new_tumor_map = {'No':'No', 'Yes':'Yes',\n",
    "                 'Not Reported/Unknown':np.nan, \n",
    "                 'Not Applicable':np.nan}\n",
    "\n",
    "annotations['New_Tumor_Event_After_Initial_Treatment'] = bf.binarizeCategorical(annotations, \n",
    "                                                                                'New_Tumor_Event_After_Initial_Treatment',\n",
    "                                                                                new_tumor_map)"
   ]
  },
  {
   "cell_type": "code",
   "execution_count": 26,
   "metadata": {
    "collapsed": true
   },
   "outputs": [],
   "source": [
    "new_tumor_type_map = {'Locoregional Disease':'Locoregional_and_or_Distant_Metastasis', \n",
    "                      'Both Locoregional and Distant Metastasis':'Locoregional_and_or_Distant_Metastisis',\n",
    "                      'Metastatic':'Metastatic', 'Not Reported/Unknown':np.nan}\n",
    "\n",
    "annotations['New_Tumor_Event_Type'] = bf.binarizeCategorical(annotations,\n",
    "                                                             'New_Tumor_Event_Type',\n",
    "                                                             new_tumor_type_map)"
   ]
  },
  {
   "cell_type": "code",
   "execution_count": 27,
   "metadata": {
    "collapsed": true
   },
   "outputs": [],
   "source": [
    "new_tumor_site_map = {'Abdomen':'Abdomen', \n",
    "                      'Chest; Abdomen':'Abdomen', \n",
    "                      'Lymph Node only (specify location)':'Other', \n",
    "                      'Other (specify)':'Other', \n",
    "                      'Abdomen; Chest':'Abdomen', \n",
    "                      'Other (specify); Chest':'Other', \n",
    "                      'Abdomen; Other (specify); Pelvis':'Abdomen', \n",
    "                      'Pelvis; Abdomen':'Abdomen'}\n",
    "\n",
    "annotations['New_Tumor_Event_Site'] = bf.binarizeCategorical(annotations,\n",
    "                                                             'New_Tumor_Event_Site',\n",
    "                                                             new_tumor_site_map)"
   ]
  },
  {
   "cell_type": "code",
   "execution_count": 28,
   "metadata": {
    "collapsed": true
   },
   "outputs": [],
   "source": [
    "diagnosis_map = {'Convincing imaging':'Convincing imaging', \n",
    "                 'Positive Biomarkers':'Biomarkers_or_Seen_at_Surgery', \n",
    "                 'First seen at further surgery':'Biomarkers_or_Seen_at_Surgery'}\n",
    "\n",
    "annotations['New_Tumor_Event_Diagnosis'] = bf.binarizeCategorical(annotations, \n",
    "                                                                  'New_Tumor_Event_Diagnosis', \n",
    "                                                                  diagnosis_map)"
   ]
  },
  {
   "cell_type": "code",
   "execution_count": 29,
   "metadata": {
    "collapsed": true
   },
   "outputs": [],
   "source": [
    "annotations['New_Tumor_Event_Surgery'] = annotations['New_Tumor_Event_Surgery'].replace('Not Reported/Unknown', np.nan)"
   ]
  },
  {
   "cell_type": "code",
   "execution_count": 30,
   "metadata": {
    "collapsed": true
   },
   "outputs": [],
   "source": [
    "annotations['New_Tumor_Event_Chemotherapy'] = annotations['New_Tumor_Event_Chemotherapy'].replace('Not Reported/Unknown', np.nan)"
   ]
  },
  {
   "cell_type": "code",
   "execution_count": 31,
   "metadata": {
    "collapsed": true
   },
   "outputs": [],
   "source": [
    "annotations['New_Tumor_Event_Immunotherapy'] = annotations['New_Tumor_Event_Immunotherapy'].replace('Not Reported/Unknown', np.nan)"
   ]
  },
  {
   "cell_type": "code",
   "execution_count": 32,
   "metadata": {
    "collapsed": true
   },
   "outputs": [],
   "source": [
    "annotations['New_Tumor_Event_Targeted_Molecular_Therapy'] = annotations['New_Tumor_Event_Targeted_Molecular_Therapy'].replace('Not Reported/Unknown', np.nan)"
   ]
  },
  {
   "cell_type": "markdown",
   "metadata": {},
   "source": [
    "## Step 3: Perform outliers analysis"
   ]
  },
  {
   "cell_type": "code",
   "execution_count": 33,
   "metadata": {
    "collapsed": true
   },
   "outputs": [],
   "source": [
    "outliers_prot = blsh.make_outliers_table(proteomics, iqrs=1.5, \n",
    "                                         up_or_down='up', \n",
    "                                         aggregate=False, \n",
    "                                         frac_table=False)\n",
    "\n",
    "outliers_trans = blsh.make_outliers_table(transcriptomics, iqrs=1.5, \n",
    "                                          up_or_down='up', \n",
    "                                          aggregate=False, \n",
    "                                          frac_table=False)"
   ]
  },
  {
   "cell_type": "code",
   "execution_count": 34,
   "metadata": {
    "collapsed": true
   },
   "outputs": [],
   "source": [
    "#Deal with duplicate columns problem\n",
    "bf.renameDuplicateColumns(outliers_prot)"
   ]
  },
  {
   "cell_type": "markdown",
   "metadata": {},
   "source": [
    "## Step 4: Wrap your A/B test into the outliers analysis, and create a table\n",
    "First for proteomics, and then phosphoproteomics."
   ]
  },
  {
   "cell_type": "code",
   "execution_count": 35,
   "metadata": {},
   "outputs": [
    {
     "name": "stdout",
     "output_type": "stream",
     "text": [
      "No rows had outliers in at least 0.3 of Participant_Procurement_Age Below_Mean(713.75) samples\n",
      "No rows had outliers in at least 0.3 of Participant_Procurement_Age Above_Mean(713.75) samples\n",
      "No rows had outliers in at least 0.3 of Sample_Tumor_Normal Tumor samples\n",
      "Testing 546 rows for enrichment in Sample_Tumor_Normal Normal samples\n",
      "No rows had outliers in at least 0.3 of Participant_Race White samples\n",
      "Testing 91 rows for enrichment in Participant_Race Not_White samples\n",
      "No rows had outliers in at least 0.3 of Participant_Jewish_Heritage Not_Jewish samples\n",
      "Testing 9 rows for enrichment in Participant_Jewish_Heritage Jewish samples\n",
      "No rows had outliers in at least 0.3 of Participant_History_Malignancy No samples\n",
      "Testing 126 rows for enrichment in Participant_History_Malignancy Yes, History of Other Cancer Greater Than One Year Ago samples\n",
      "No rows had outliers in at least 0.3 of Participant_History_Chemotherapy No samples\n",
      "Testing 159 rows for enrichment in Participant_History_Chemotherapy Yes samples\n",
      "No rows had outliers in at least 0.3 of Aliquots_Plasma Above_Mean(1.84) samples\n",
      "Testing 1 rows for enrichment in Aliquots_Plasma Below_Mean(1.84) samples\n",
      "No rows had outliers in at least 0.3 of Blood_Collection_Time Long samples\n",
      "Testing 1 rows for enrichment in Blood_Collection_Time Short samples\n",
      "No rows had outliers in at least 0.3 of Blood_Collection_Method Venipuncture samples\n",
      "Testing 3 rows for enrichment in Blood_Collection_Method IV samples\n",
      "No rows had outliers in at least 0.3 of Anesthesia_Time Below_Mean(1010.94) samples\n",
      "No rows had outliers in at least 0.3 of Anesthesia_Time Above_Mean(1010.94) samples\n",
      "No rows had outliers in at least 0.3 of Tumor_Surgical_Devascularized_Time Above_Mean(1085.32) samples\n",
      "No rows had outliers in at least 0.3 of Tumor_Surgical_Devascularized_Time Below_Mean(1085.32) samples\n",
      "No rows had outliers in at least 0.3 of Tumor_Sample_Number Above_Mean(3.37) samples\n",
      "No rows had outliers in at least 0.3 of Tumor_Sample_Number Below_Mean(3.37) samples\n",
      "No rows had outliers in at least 0.3 of Tumor_Sample_1_Weight Below_Mean(430.42) samples\n",
      "No rows had outliers in at least 0.3 of Tumor_Sample_1_Weight Above_Mean(430.42) samples\n",
      "No rows had outliers in at least 0.3 of Tumor_Sample_1_LN2_Time Above_Mean(1103.75) samples\n",
      "No rows had outliers in at least 0.3 of Tumor_Sample_1_LN2_Time Below_Mean(1103.75) samples\n",
      "No rows had outliers in at least 0.3 of Tumor_Sample_1_Ischemia_Time Below_Mean(7.11) samples\n",
      "Testing 2 rows for enrichment in Tumor_Sample_1_Ischemia_Time Above_Mean(7.11) samples\n",
      "No rows had outliers in at least 0.3 of Tumor_Sample_2_Weight Below_Mean(397.06) samples\n",
      "No rows had outliers in at least 0.3 of Tumor_Sample_2_Weight Above_Mean(397.06) samples\n",
      "No rows had outliers in at least 0.3 of Tumor_Sample_2_LN2_Time Below_Mean(1189.55) samples\n",
      "No rows had outliers in at least 0.3 of Tumor_Sample_2_LN2_Time Above_Mean(1189.55) samples\n",
      "No rows had outliers in at least 0.3 of Tumor_Sample_2_Ischemia_Time Below_Mean(6.98) samples\n",
      "No rows had outliers in at least 0.3 of Tumor_Sample_2_Ischemia_Time Above_Mean(6.98) samples\n",
      "No rows had outliers in at least 0.3 of Tumor_Sample_3_Weight Below_Mean(374.64) samples\n",
      "No rows had outliers in at least 0.3 of Tumor_Sample_3_Weight Above_Mean(374.64) samples\n",
      "No rows had outliers in at least 0.3 of Tumor_Sample_3_LN2_Time Below_Mean(1197.86) samples\n",
      "No rows had outliers in at least 0.3 of Tumor_Sample_3_LN2_Time Above_Mean(1197.86) samples\n",
      "No rows had outliers in at least 0.3 of Tumor_Sample_3_Ischemia_Time Below_Mean(7.11) samples\n",
      "Testing 6 rows for enrichment in Tumor_Sample_3_Ischemia_Time Above_Mean(7.11) samples\n",
      "No rows had outliers in at least 0.3 of Tumor_Sample_4_Weight Below_Mean(450.76) samples\n",
      "Testing 3 rows for enrichment in Tumor_Sample_4_Weight Above_Mean(450.76) samples\n",
      "No rows had outliers in at least 0.3 of Tumor_Sample_4_LN2_Time Below_Mean(1184.08) samples\n",
      "No rows had outliers in at least 0.3 of Tumor_Sample_4_LN2_Time Above_Mean(1184.08) samples\n",
      "No rows had outliers in at least 0.3 of Tumor_Sample_4_Ischemia_Time Below_Mean(8.53) samples\n",
      "Testing 11 rows for enrichment in Tumor_Sample_4_Ischemia_Time Above_Mean(8.53) samples\n",
      "Testing 190 rows for enrichment in Tumor_Sample_5_Weight Below_Mean(482.4) samples\n",
      "Testing 702 rows for enrichment in Tumor_Sample_5_Weight Above_Mean(482.4) samples\n",
      "Testing 107 rows for enrichment in Tumor_Sample_5_LN2_Time Above_Mean(1125.11) samples\n",
      "Testing 1327 rows for enrichment in Tumor_Sample_5_LN2_Time Below_Mean(1125.11) samples\n",
      "Testing 140 rows for enrichment in Tumor_Sample_5_Ischemia_Time Below_Mean(13.67) samples\n",
      "Testing 1280 rows for enrichment in Tumor_Sample_5_Ischemia_Time Above_Mean(13.67) samples\n",
      "No rows had outliers in at least 0.3 of Normal_Sample_Number Below_Mean(0.75) samples\n",
      "Testing 4 rows for enrichment in Normal_Sample_Number Above_Mean(0.75) samples\n",
      "Testing 27 rows for enrichment in Normal_Sample_1_Surgical_Devascularized_Time Above_Mean(1295.38) samples\n",
      "Testing 15 rows for enrichment in Normal_Sample_1_Surgical_Devascularized_Time Below_Mean(1295.38) samples\n",
      "Testing 30 rows for enrichment in Normal_Sample_1_Weight Below_Mean(192.92) samples\n",
      "Testing 191 rows for enrichment in Normal_Sample_1_Weight Above_Mean(192.92) samples\n",
      "Testing 27 rows for enrichment in Normal_Sample_1_LN2_Time Above_Mean(1304.47) samples\n",
      "Testing 15 rows for enrichment in Normal_Sample_1_LN2_Time Below_Mean(1304.47) samples\n",
      "Testing 70 rows for enrichment in Normal_Sample_1_Ischemia_Time Below_Mean(6.59) samples\n",
      "Testing 197 rows for enrichment in Normal_Sample_1_Ischemia_Time Above_Mean(6.59) samples\n",
      "Testing 19 rows for enrichment in Normal_Sample_2_Surgical_Devascularized_Time Above_Mean(1289.59) samples\n",
      "Testing 13 rows for enrichment in Normal_Sample_2_Surgical_Devascularized_Time Below_Mean(1289.59) samples\n",
      "Testing 22 rows for enrichment in Normal_Sample_2_Weight Below_Mean(183.31) samples\n",
      "Testing 136 rows for enrichment in Normal_Sample_2_Weight Above_Mean(183.31) samples\n",
      "Testing 19 rows for enrichment in Normal_Sample_2_LN2_Time Above_Mean(1297.74) samples\n",
      "Testing 13 rows for enrichment in Normal_Sample_2_LN2_Time Below_Mean(1297.74) samples\n",
      "Testing 12 rows for enrichment in Normal_Sample_2_Ischemia_Time Below_Mean(6.67) samples\n",
      "Testing 553 rows for enrichment in Normal_Sample_2_Ischemia_Time Above_Mean(6.67) samples\n",
      "Testing 1051 rows for enrichment in Normal_Sample_3_Surgical_Devascularized_Time Above_Mean(1264.7) samples\n",
      "Testing 170 rows for enrichment in Normal_Sample_3_Surgical_Devascularized_Time Below_Mean(1264.7) samples\n",
      "Testing 262 rows for enrichment in Normal_Sample_3_Weight Below_Mean(202.03) samples\n",
      "Testing 727 rows for enrichment in Normal_Sample_3_Weight Above_Mean(202.03) samples\n",
      "Testing 1051 rows for enrichment in Normal_Sample_3_LN2_Time Above_Mean(1273.4) samples\n",
      "Testing 170 rows for enrichment in Normal_Sample_3_LN2_Time Below_Mean(1273.4) samples\n",
      "Testing 42 rows for enrichment in Normal_Sample_3_Ischemia_Time Below_Mean(6.7) samples\n",
      "Testing 181 rows for enrichment in Normal_Sample_3_Ischemia_Time Above_Mean(6.7) samples\n",
      "No rows had outliers in at least 0.3 of Origin_Site_Disease Ovary samples\n",
      "Testing 1 rows for enrichment in Origin_Site_Disease Other samples\n",
      "No rows had outliers in at least 0.3 of Anatomic_Site_Tumor Ovary samples\n",
      "No rows had outliers in at least 0.3 of Anatomic_Site_Tumor Other samples\n",
      "No rows had outliers in at least 0.3 of Anatomic_Lateral_Position_Tumor Other samples\n",
      "Testing 16 rows for enrichment in Anatomic_Lateral_Position_Tumor Right samples\n",
      "No rows had outliers in at least 0.3 of Method_of_Pathologic_Diagnosis Tumor resection samples\n",
      "No rows had outliers in at least 0.3 of Method_of_Pathologic_Diagnosis Biopsy samples\n",
      "No rows had outliers in at least 0.3 of Tumor_Stage_Ovary_FIGO III_or_IV samples\n",
      "Testing 663 rows for enrichment in Tumor_Stage_Ovary_FIGO I_or_II samples\n",
      "No rows had outliers in at least 0.3 of Tumor_Grade G3 samples\n",
      "Testing 10 rows for enrichment in Tumor_Grade Other samples\n",
      "No rows had outliers in at least 0.3 of Tumor_Residual_Disease_Max_Diameter 0-10 mm samples\n",
      "No rows had outliers in at least 0.3 of Tumor_Residual_Disease_Max_Diameter greater than 11 mm samples\n"
     ]
    },
    {
     "name": "stdout",
     "output_type": "stream",
     "text": [
      "No rows had outliers in at least 0.3 of Days_Between_Collection_And_Last_Contact Below_Mean(404.27) samples\n",
      "Testing 6 rows for enrichment in Days_Between_Collection_And_Last_Contact Above_Mean(404.27) samples\n",
      "No rows had outliers in at least 0.3 of Vital_Status Living samples\n",
      "Testing 23 rows for enrichment in Vital_Status Deceased samples\n",
      "Testing 160 rows for enrichment in Days_Between_Collection_And_Death Below_Mean(585.62) samples\n",
      "Testing 468 rows for enrichment in Days_Between_Collection_And_Death Above_Mean(585.62) samples\n",
      "No rows had outliers in at least 0.3 of Tumor_Status Tumor free samples\n",
      "No rows had outliers in at least 0.3 of Tumor_Status With tumor samples\n",
      "No rows had outliers in at least 0.3 of Review_Of_Initial_Pathological_Findings Yes samples\n",
      "Testing 126 rows for enrichment in Review_Of_Initial_Pathological_Findings No samples\n",
      "No rows had outliers in at least 0.3 of Pathology_Review_Consistent_With_Diagnosis Yes samples\n",
      "Testing 1050 rows for enrichment in Pathology_Review_Consistent_With_Diagnosis Not Applicable samples\n",
      "No rows had outliers in at least 0.3 of Adjuvant_Radiation_Therapy No samples\n",
      "No rows had outliers in at least 0.3 of Adjuvant_Radiation_Therapy Not Reported/Unknown samples\n",
      "No rows had outliers in at least 0.3 of Adjuvant_Pharmaceutical_Therapy Yes samples\n",
      "Testing 84 rows for enrichment in Adjuvant_Pharmaceutical_Therapy No samples\n",
      "No rows had outliers in at least 0.3 of Adjuvant_Immunotherapy No samples\n",
      "Testing 901 rows for enrichment in Adjuvant_Immunotherapy Yes samples\n",
      "No rows had outliers in at least 0.3 of Adjuvant_Hormone_Therapy No samples\n",
      "Testing 318 rows for enrichment in Adjuvant_Hormone_Therapy Yes samples\n",
      "No rows had outliers in at least 0.3 of Adjuvant_Targeted_Molecular_Therapy No samples\n",
      "Testing 13 rows for enrichment in Adjuvant_Targeted_Molecular_Therapy Yes samples\n",
      "No rows had outliers in at least 0.3 of Response_After_Surgery_And_Adjuvant_Therapies Complete_or_Partial_Response samples\n",
      "Testing 1 rows for enrichment in Response_After_Surgery_And_Adjuvant_Therapies Stable_or_Progressive_Disease samples\n",
      "No rows had outliers in at least 0.3 of New_Tumor_Event_After_Initial_Treatment No samples\n",
      "Testing 1 rows for enrichment in New_Tumor_Event_After_Initial_Treatment Yes samples\n",
      "Testing 24 rows for enrichment in New_Tumor_Event_Type Locoregional_and_or_Distant_Metastasis samples\n",
      "Testing 880 rows for enrichment in New_Tumor_Event_Type Metastatic samples\n",
      "Testing 12 rows for enrichment in New_Tumor_Event_Site Abdomen samples\n",
      "Testing 361 rows for enrichment in New_Tumor_Event_Site Other samples\n",
      "Testing 24 rows for enrichment in Days_Between_Collection_And_New_Tumor_Event Below_Mean(339.75) samples\n",
      "Testing 96 rows for enrichment in Days_Between_Collection_And_New_Tumor_Event Above_Mean(339.75) samples\n",
      "Testing 7 rows for enrichment in New_Tumor_Event_Diagnosis Convincing imaging samples\n",
      "Testing 574 rows for enrichment in New_Tumor_Event_Diagnosis Biomarkers_or_Seen_at_Surgery samples\n",
      "Testing 24 rows for enrichment in New_Tumor_Event_Surgery No samples\n",
      "Testing 433 rows for enrichment in New_Tumor_Event_Surgery Yes samples\n",
      "Testing 27 rows for enrichment in New_Tumor_Event_Chemotherapy Yes samples\n",
      "Testing 402 rows for enrichment in New_Tumor_Event_Chemotherapy No samples\n",
      "Testing 29 rows for enrichment in New_Tumor_Event_Immunotherapy No samples\n",
      "Testing 178 rows for enrichment in New_Tumor_Event_Immunotherapy Yes samples\n",
      "Testing 2 rows for enrichment in New_Tumor_Event_Hormone_Therapy No samples\n",
      "Testing 643 rows for enrichment in New_Tumor_Event_Hormone_Therapy Not Reported/Unknown samples\n",
      "Testing 19 rows for enrichment in New_Tumor_Event_Targeted_Molecular_Therapy No samples\n",
      "Testing 570 rows for enrichment in New_Tumor_Event_Targeted_Molecular_Therapy Yes samples\n"
     ]
    }
   ],
   "source": [
    "#Breaks here because of indexing errors\n",
    "results_prot = blsh.compare_groups_outliers(outliers_prot, \n",
    "                                            annotations)"
   ]
  },
  {
   "cell_type": "code",
   "execution_count": 43,
   "metadata": {},
   "outputs": [
    {
     "name": "stdout",
     "output_type": "stream",
     "text": [
      "Testing 31 rows for enrichment in Participant_Procurement_Age Below_Mean(713.75) samples\n",
      "Testing 33 rows for enrichment in Participant_Procurement_Age Above_Mean(713.75) samples\n",
      "No rows had outliers in at least 0.3 of Sample_Tumor_Normal Tumor samples\n",
      "No rows had outliers in at least 0.3 of Sample_Tumor_Normal Normal samples\n",
      "No rows had outliers in at least 0.3 of Participant_Race White samples\n",
      "Testing 909 rows for enrichment in Participant_Race Not_White samples\n",
      "Testing 31 rows for enrichment in Participant_Jewish_Heritage Not_Jewish samples\n",
      "Testing 836 rows for enrichment in Participant_Jewish_Heritage Jewish samples\n",
      "No rows had outliers in at least 0.3 of Participant_History_Malignancy No samples\n",
      "Testing 705 rows for enrichment in Participant_History_Malignancy Yes, History of Other Cancer Greater Than One Year Ago samples\n",
      "No rows had outliers in at least 0.3 of Participant_History_Chemotherapy No samples\n",
      "Testing 471 rows for enrichment in Participant_History_Chemotherapy Yes samples\n",
      "No rows had outliers in at least 0.3 of Aliquots_Plasma Above_Mean(1.84) samples\n",
      "Testing 380 rows for enrichment in Aliquots_Plasma Below_Mean(1.84) samples\n",
      "Testing 18 rows for enrichment in Blood_Collection_Time Long samples\n",
      "Testing 235 rows for enrichment in Blood_Collection_Time Short samples\n",
      "Testing 6 rows for enrichment in Blood_Collection_Method Venipuncture samples\n",
      "Testing 319 rows for enrichment in Blood_Collection_Method IV samples\n",
      "Testing 66 rows for enrichment in Anesthesia_Time Below_Mean(1010.94) samples\n",
      "Testing 26 rows for enrichment in Anesthesia_Time Above_Mean(1010.94) samples\n",
      "Testing 8 rows for enrichment in Tumor_Surgical_Devascularized_Time Above_Mean(1085.32) samples\n",
      "Testing 32 rows for enrichment in Tumor_Surgical_Devascularized_Time Below_Mean(1085.32) samples\n",
      "Testing 26 rows for enrichment in Tumor_Sample_Number Above_Mean(3.37) samples\n",
      "Testing 89 rows for enrichment in Tumor_Sample_Number Below_Mean(3.37) samples\n",
      "Testing 14 rows for enrichment in Tumor_Sample_1_Weight Below_Mean(430.42) samples\n",
      "Testing 95 rows for enrichment in Tumor_Sample_1_Weight Above_Mean(430.42) samples\n",
      "Testing 22 rows for enrichment in Tumor_Sample_1_LN2_Time Above_Mean(1103.75) samples\n",
      "Testing 29 rows for enrichment in Tumor_Sample_1_LN2_Time Below_Mean(1103.75) samples\n",
      "Testing 5 rows for enrichment in Tumor_Sample_1_Ischemia_Time Below_Mean(7.11) samples\n",
      "Testing 102 rows for enrichment in Tumor_Sample_1_Ischemia_Time Above_Mean(7.11) samples\n",
      "Testing 16 rows for enrichment in Tumor_Sample_2_Weight Below_Mean(397.06) samples\n",
      "Testing 133 rows for enrichment in Tumor_Sample_2_Weight Above_Mean(397.06) samples\n",
      "Testing 45 rows for enrichment in Tumor_Sample_2_LN2_Time Below_Mean(1189.55) samples\n",
      "Testing 24 rows for enrichment in Tumor_Sample_2_LN2_Time Above_Mean(1189.55) samples\n",
      "Testing 10 rows for enrichment in Tumor_Sample_2_Ischemia_Time Below_Mean(6.98) samples\n",
      "Testing 112 rows for enrichment in Tumor_Sample_2_Ischemia_Time Above_Mean(6.98) samples\n",
      "Testing 9 rows for enrichment in Tumor_Sample_3_Weight Below_Mean(374.64) samples\n",
      "Testing 382 rows for enrichment in Tumor_Sample_3_Weight Above_Mean(374.64) samples\n",
      "Testing 38 rows for enrichment in Tumor_Sample_3_LN2_Time Below_Mean(1197.86) samples\n",
      "Testing 105 rows for enrichment in Tumor_Sample_3_LN2_Time Above_Mean(1197.86) samples\n",
      "Testing 23 rows for enrichment in Tumor_Sample_3_Ischemia_Time Below_Mean(7.11) samples\n",
      "Testing 162 rows for enrichment in Tumor_Sample_3_Ischemia_Time Above_Mean(7.11) samples\n",
      "Testing 119 rows for enrichment in Tumor_Sample_4_Weight Below_Mean(450.76) samples\n",
      "Testing 412 rows for enrichment in Tumor_Sample_4_Weight Above_Mean(450.76) samples\n",
      "Testing 169 rows for enrichment in Tumor_Sample_4_LN2_Time Below_Mean(1184.08) samples\n",
      "Testing 275 rows for enrichment in Tumor_Sample_4_LN2_Time Above_Mean(1184.08) samples\n",
      "Testing 118 rows for enrichment in Tumor_Sample_4_Ischemia_Time Below_Mean(8.53) samples\n",
      "Testing 139 rows for enrichment in Tumor_Sample_4_Ischemia_Time Above_Mean(8.53) samples\n",
      "Testing 630 rows for enrichment in Tumor_Sample_5_Weight Below_Mean(482.4) samples\n",
      "Testing 3801 rows for enrichment in Tumor_Sample_5_Weight Above_Mean(482.4) samples\n",
      "Testing 2243 rows for enrichment in Tumor_Sample_5_LN2_Time Above_Mean(1125.11) samples\n",
      "Testing 5132 rows for enrichment in Tumor_Sample_5_LN2_Time Below_Mean(1125.11) samples\n",
      "Testing 1736 rows for enrichment in Tumor_Sample_5_Ischemia_Time Below_Mean(13.67) samples\n",
      "Testing 6298 rows for enrichment in Tumor_Sample_5_Ischemia_Time Above_Mean(13.67) samples\n",
      "No rows had outliers in at least 0.3 of Normal_Sample_Number Below_Mean(0.75) samples\n",
      "Testing 169 rows for enrichment in Normal_Sample_Number Above_Mean(0.75) samples\n",
      "Testing 318 rows for enrichment in Normal_Sample_1_Surgical_Devascularized_Time Above_Mean(1295.38) samples\n",
      "Testing 1552 rows for enrichment in Normal_Sample_1_Surgical_Devascularized_Time Below_Mean(1295.38) samples\n",
      "Testing 601 rows for enrichment in Normal_Sample_1_Weight Below_Mean(192.92) samples\n",
      "Testing 1033 rows for enrichment in Normal_Sample_1_Weight Above_Mean(192.92) samples\n",
      "Testing 318 rows for enrichment in Normal_Sample_1_LN2_Time Above_Mean(1304.47) samples\n",
      "Testing 1552 rows for enrichment in Normal_Sample_1_LN2_Time Below_Mean(1304.47) samples\n",
      "Testing 522 rows for enrichment in Normal_Sample_1_Ischemia_Time Below_Mean(6.59) samples\n",
      "Testing 1245 rows for enrichment in Normal_Sample_1_Ischemia_Time Above_Mean(6.59) samples\n",
      "Testing 499 rows for enrichment in Normal_Sample_2_Surgical_Devascularized_Time Above_Mean(1289.59) samples\n",
      "Testing 1287 rows for enrichment in Normal_Sample_2_Surgical_Devascularized_Time Below_Mean(1289.59) samples\n",
      "Testing 363 rows for enrichment in Normal_Sample_2_Weight Below_Mean(183.31) samples\n",
      "Testing 2371 rows for enrichment in Normal_Sample_2_Weight Above_Mean(183.31) samples\n",
      "Testing 499 rows for enrichment in Normal_Sample_2_LN2_Time Above_Mean(1297.74) samples\n",
      "Testing 1287 rows for enrichment in Normal_Sample_2_LN2_Time Below_Mean(1297.74) samples\n",
      "Testing 477 rows for enrichment in Normal_Sample_2_Ischemia_Time Below_Mean(6.67) samples\n",
      "Testing 1672 rows for enrichment in Normal_Sample_2_Ischemia_Time Above_Mean(6.67) samples\n",
      "Testing 2248 rows for enrichment in Normal_Sample_3_Surgical_Devascularized_Time Above_Mean(1264.7) samples\n",
      "Testing 906 rows for enrichment in Normal_Sample_3_Surgical_Devascularized_Time Below_Mean(1264.7) samples\n",
      "Testing 1653 rows for enrichment in Normal_Sample_3_Weight Below_Mean(202.03) samples\n",
      "Testing 1531 rows for enrichment in Normal_Sample_3_Weight Above_Mean(202.03) samples\n",
      "Testing 2248 rows for enrichment in Normal_Sample_3_LN2_Time Above_Mean(1273.4) samples\n",
      "Testing 906 rows for enrichment in Normal_Sample_3_LN2_Time Below_Mean(1273.4) samples\n",
      "Testing 963 rows for enrichment in Normal_Sample_3_Ischemia_Time Below_Mean(6.7) samples\n",
      "Testing 3378 rows for enrichment in Normal_Sample_3_Ischemia_Time Above_Mean(6.7) samples\n",
      "Testing 1 rows for enrichment in Origin_Site_Disease Ovary samples\n",
      "Testing 238 rows for enrichment in Origin_Site_Disease Other samples\n",
      "Testing 78 rows for enrichment in Anatomic_Site_Tumor Ovary samples\n",
      "Testing 94 rows for enrichment in Anatomic_Site_Tumor Other samples\n",
      "Testing 22 rows for enrichment in Anatomic_Lateral_Position_Tumor Other samples\n",
      "Testing 301 rows for enrichment in Anatomic_Lateral_Position_Tumor Right samples\n",
      "Testing 1 rows for enrichment in Method_of_Pathologic_Diagnosis Tumor resection samples\n",
      "Testing 422 rows for enrichment in Method_of_Pathologic_Diagnosis Biopsy samples\n",
      "No rows had outliers in at least 0.3 of Tumor_Stage_Ovary_FIGO III_or_IV samples\n",
      "Testing 4501 rows for enrichment in Tumor_Stage_Ovary_FIGO I_or_II samples\n",
      "No rows had outliers in at least 0.3 of Tumor_Grade G3 samples\n",
      "Testing 1060 rows for enrichment in Tumor_Grade Other samples\n",
      "Testing 1 rows for enrichment in Tumor_Residual_Disease_Max_Diameter 0-10 mm samples\n",
      "Testing 401 rows for enrichment in Tumor_Residual_Disease_Max_Diameter greater than 11 mm samples\n",
      "Testing 4 rows for enrichment in Days_Between_Collection_And_Last_Contact Below_Mean(404.27) samples\n"
     ]
    },
    {
     "name": "stdout",
     "output_type": "stream",
     "text": [
      "Testing 299 rows for enrichment in Days_Between_Collection_And_Last_Contact Above_Mean(404.27) samples\n",
      "No rows had outliers in at least 0.3 of Vital_Status Living samples\n",
      "Testing 643 rows for enrichment in Vital_Status Deceased samples\n",
      "Testing 1252 rows for enrichment in Days_Between_Collection_And_Death Below_Mean(585.62) samples\n",
      "Testing 4064 rows for enrichment in Days_Between_Collection_And_Death Above_Mean(585.62) samples\n",
      "Testing 17 rows for enrichment in Tumor_Status Tumor free samples\n",
      "Testing 93 rows for enrichment in Tumor_Status With tumor samples\n",
      "No rows had outliers in at least 0.3 of Review_Of_Initial_Pathological_Findings Yes samples\n",
      "Testing 2542 rows for enrichment in Review_Of_Initial_Pathological_Findings No samples\n",
      "No rows had outliers in at least 0.3 of Pathology_Review_Consistent_With_Diagnosis Yes samples\n",
      "Testing 1544 rows for enrichment in Pathology_Review_Consistent_With_Diagnosis Not Applicable samples\n",
      "No rows had outliers in at least 0.3 of Adjuvant_Radiation_Therapy No samples\n",
      "Testing 3686 rows for enrichment in Adjuvant_Radiation_Therapy Not Reported/Unknown samples\n",
      "No rows had outliers in at least 0.3 of Adjuvant_Pharmaceutical_Therapy Yes samples\n",
      "Testing 2383 rows for enrichment in Adjuvant_Pharmaceutical_Therapy No samples\n",
      "No rows had outliers in at least 0.3 of Adjuvant_Immunotherapy No samples\n",
      "Testing 3567 rows for enrichment in Adjuvant_Immunotherapy Yes samples\n",
      "No rows had outliers in at least 0.3 of Adjuvant_Hormone_Therapy No samples\n",
      "Testing 1507 rows for enrichment in Adjuvant_Hormone_Therapy Yes samples\n",
      "No rows had outliers in at least 0.3 of Adjuvant_Targeted_Molecular_Therapy No samples\n",
      "Testing 474 rows for enrichment in Adjuvant_Targeted_Molecular_Therapy Yes samples\n",
      "Testing 10 rows for enrichment in Response_After_Surgery_And_Adjuvant_Therapies Complete_or_Partial_Response samples\n",
      "Testing 151 rows for enrichment in Response_After_Surgery_And_Adjuvant_Therapies Stable_or_Progressive_Disease samples\n",
      "Testing 1 rows for enrichment in New_Tumor_Event_After_Initial_Treatment No samples\n",
      "Testing 621 rows for enrichment in New_Tumor_Event_After_Initial_Treatment Yes samples\n",
      "Testing 1423 rows for enrichment in New_Tumor_Event_Type Locoregional_and_or_Distant_Metastasis samples\n",
      "Testing 4679 rows for enrichment in New_Tumor_Event_Type Metastatic samples\n",
      "Testing 949 rows for enrichment in New_Tumor_Event_Site Abdomen samples\n",
      "Testing 4454 rows for enrichment in New_Tumor_Event_Site Other samples\n",
      "Testing 1494 rows for enrichment in Days_Between_Collection_And_New_Tumor_Event Below_Mean(339.75) samples\n",
      "Testing 1817 rows for enrichment in Days_Between_Collection_And_New_Tumor_Event Above_Mean(339.75) samples\n",
      "Testing 806 rows for enrichment in New_Tumor_Event_Diagnosis Convincing imaging samples\n",
      "Testing 4246 rows for enrichment in New_Tumor_Event_Diagnosis Biomarkers_or_Seen_at_Surgery samples\n",
      "Testing 1547 rows for enrichment in New_Tumor_Event_Surgery No samples\n",
      "Testing 3954 rows for enrichment in New_Tumor_Event_Surgery Yes samples\n",
      "Testing 1407 rows for enrichment in New_Tumor_Event_Chemotherapy Yes samples\n",
      "Testing 4333 rows for enrichment in New_Tumor_Event_Chemotherapy No samples\n",
      "Testing 1911 rows for enrichment in New_Tumor_Event_Immunotherapy No samples\n",
      "Testing 2800 rows for enrichment in New_Tumor_Event_Immunotherapy Yes samples\n",
      "Testing 835 rows for enrichment in New_Tumor_Event_Hormone_Therapy No samples\n",
      "Testing 4940 rows for enrichment in New_Tumor_Event_Hormone_Therapy Not Reported/Unknown samples\n",
      "Testing 712 rows for enrichment in New_Tumor_Event_Targeted_Molecular_Therapy No samples\n",
      "Testing 1963 rows for enrichment in New_Tumor_Event_Targeted_Molecular_Therapy Yes samples\n"
     ]
    }
   ],
   "source": [
    "#WARNING: THIS CELL TAKES OVER 10 MINUTES TO RUN; ARE YOU SURE YOU WANT TO RUN THIS?\n",
    "results_trans = blsh.compare_groups_outliers(outliers_trans, \n",
    "                                            annotations)"
   ]
  },
  {
   "cell_type": "markdown",
   "metadata": {},
   "source": [
    "Many of the output values from compare_group_outliers are NaN, so here we will get rid of the NaN values for visualization purposes."
   ]
  },
  {
   "cell_type": "code",
   "execution_count": 44,
   "metadata": {
    "collapsed": true
   },
   "outputs": [],
   "source": [
    "results_prot = results_prot.dropna(axis=0, how='all')\n",
    "#results_trans = results_trans.dropna(axis=0, how='all')"
   ]
  },
  {
   "cell_type": "markdown",
   "metadata": {},
   "source": [
    "## Step 5: Visualize these enrichments"
   ]
  },
  {
   "cell_type": "code",
   "execution_count": 38,
   "metadata": {},
   "outputs": [
    {
     "name": "stdout",
     "output_type": "stream",
     "text": [
      "TESTING FOR PROTEOMICS:\n",
      "538 significant protein enrichments in Sample_Tumor_Normal_Normal\n",
      "\n",
      "          Sample_Tumor_Normal_Normal_P_values\n",
      "A1BG                             1.530112e-06\n",
      "ABCA8                            7.415921e-09\n",
      "ABHD5                            2.160272e-03\n",
      "ABI3BP                           2.768223e-07\n",
      "ABL1                             2.141254e-04\n",
      "ACACA                            6.522580e-03\n",
      "ACADS                            6.638046e-04\n",
      "ACE                              4.470259e-05\n",
      "ACOT1                            2.141254e-04\n",
      "ACOT2                            2.141254e-04\n",
      "ACSL1                            4.470259e-05\n",
      "ACSL1(1)                         4.470259e-05\n",
      "ACSL5                            1.645922e-03\n",
      "ACSL6                            6.522580e-03\n",
      "ACSS2                            1.645922e-03\n",
      "ACTA1                            1.672134e-06\n",
      "ACTA2                            1.672134e-06\n",
      "ACTBL2                           4.470259e-05\n",
      "ACTG2                            1.672134e-06\n",
      "ACTL6A                           3.460273e-03\n",
      "ADAMTSL4                         1.251266e-05\n",
      "ADCY6                            1.079454e-03\n",
      "ADGRA2                           1.672134e-06\n",
      "ADHFE1                           2.414248e-03\n",
      "ADIPOQ                           2.967717e-07\n",
      "AK1                              1.558807e-04\n",
      "ALB                              4.908359e-05\n",
      "ALDH1A1                          1.363522e-10\n",
      "ALDH1A2                          9.247688e-06\n",
      "ALOX15B                          2.731090e-04\n",
      "...                                       ...\n",
      "TP53I11                          1.101497e-05\n",
      "TPM1                             2.768223e-07\n",
      "TPM1(1)                          1.363522e-10\n",
      "TPM1(2)                          4.548958e-08\n",
      "TPM1(3)                          2.768223e-07\n",
      "TPM2                             4.548958e-08\n",
      "TPM2(1)                          2.768223e-07\n",
      "TPM3                             2.768223e-07\n",
      "TPM3(1)                          2.768223e-07\n",
      "TPM3(2)                          4.548958e-08\n",
      "TPM4                             9.247688e-06\n",
      "TPPP                             9.377851e-05\n",
      "TPPP3                            1.645922e-03\n",
      "TPSAB1                           1.308619e-11\n",
      "TPSD1                            4.548958e-08\n",
      "TRAPPC12                         1.558807e-04\n",
      "TRIOBP                           2.768223e-07\n",
      "TSGA10                           2.433932e-04\n",
      "TSKU                             3.337916e-04\n",
      "TTC8                             3.940066e-03\n",
      "UCK2                             8.708883e-04\n",
      "USP3                             5.013279e-05\n",
      "UTRN                             2.768223e-07\n",
      "VAMP2                            2.141254e-04\n",
      "VCL                              4.470259e-05\n",
      "VWA1                             9.377851e-05\n",
      "WDR54                            2.141254e-04\n",
      "WFS1                             2.768223e-07\n",
      "WISP2                            9.958964e-06\n",
      "ZBTB47                           3.566993e-04\n",
      "\n",
      "[538 rows x 1 columns]\n",
      "1 significant protein enrichment in Participant_Jewish_Heritage_Jewish:\n",
      "\n",
      "25 significant protein enrichments in Participant_History_Malignancy_Yes, History of Other Cancer Greater Than One Year Ago\n",
      "\n",
      "          Participant_History_Malignancy_Yes, History of Other Cancer Greater Than One Year Ago_P_values\n",
      "ABCC1                                              0.005885                                             \n",
      "ALDH3A1                                            0.008386                                             \n",
      "ANXA9                                              0.008034                                             \n",
      "BCKDHB                                             0.004363                                             \n",
      "CDH2                                               0.008034                                             \n",
      "DNAJC19                                            0.004363                                             \n",
      "FHIT                                               0.004363                                             \n",
      "FUS                                                0.008034                                             \n",
      "GCDH                                               0.003878                                             \n",
      "HIBCH                                              0.004363                                             \n",
      "IMPDH2                                             0.008034                                             \n",
      "ISCA2                                              0.008034                                             \n",
      "KNOP1                                              0.004363                                             \n",
      "NIPSNAP2                                           0.008034                                             \n",
      "PFKM                                               0.005885                                             \n",
      "PODXL                                              0.008034                                             \n",
      "SALL2(1)                                           0.008217                                             \n",
      "SAMM50                                             0.003878                                             \n",
      "SKP1                                               0.004363                                             \n",
      "SLC39A10                                           0.003878                                             \n",
      "TBC1D10B                                           0.008034                                             \n",
      "TBC1D24                                            0.004363                                             \n",
      "TKT                                                0.008034                                             \n",
      "TOMM40L                                            0.008034                                             \n",
      "TSN                                                0.004363                                             \n",
      "1 significant protein enrichment in Tumor_Sample_1_Ischemia_Time_Above_Mean(7.11):\n",
      "\n",
      "2 significant protein enrichments in Tumor_Sample_3_Ischemia_Time_Above_Mean(7.11)\n",
      "\n",
      "1 significant protein enrichment in Origin_Site_Disease_Other:\n",
      "\n"
     ]
    },
    {
     "data": {
      "text/plain": [
       "'\\nTrying to create a dataframe of just columns with more than 10 enrichments\\nsig_results_prot = pd.DataFrame()\\nfor col in sig_cols:\\n    sig_results_prot[col]\\n'"
      ]
     },
     "execution_count": 38,
     "metadata": {},
     "output_type": "execute_result"
    }
   ],
   "source": [
    "#Drop Columns with less than 5 significant enrichments\n",
    "print(\"TESTING FOR PROTEOMICS:\")\n",
    "sig_cols = []\n",
    "for col in results_prot.columns:\n",
    "    sig_col = bf.significantEnrichments(results_prot, col, 0.01)\n",
    "    if sig_col is not None and len(sig_col) >= 5:\n",
    "        sig_cols.append(sig_col)\n",
    "        print(sig_col)\n",
    "    else:\n",
    "        results_prot = results_prot.drop(col, axis=1)"
   ]
  },
  {
   "cell_type": "code",
   "execution_count": 39,
   "metadata": {},
   "outputs": [
    {
     "data": {
      "image/png": "[encoded data removed]",
      "text/plain": [
       "<Figure size 432x288 with 2 Axes>"
      ]
     },
     "metadata": {},
     "output_type": "display_data"
    }
   ],
   "source": [
    "sns.heatmap(results_prot)\n",
    "plt.show()"
   ]
  },
  {
   "cell_type": "code",
   "execution_count": 45,
   "metadata": {},
   "outputs": [
    {
     "name": "stdout",
     "output_type": "stream",
     "text": [
      "TESTING FOR Transcriptomics:\n",
      "1 significant protein enrichment in Participant_Procurement_Age_Below_Mean(713.75):\n",
      "\n",
      "1 significant protein enrichment in Blood_Collection_Time_Long:\n",
      "\n",
      "4 significant protein enrichments in Blood_Collection_Method_Venipuncture\n",
      "\n",
      "2 significant protein enrichments in Blood_Collection_Method_IV\n",
      "\n",
      "2 significant protein enrichments in Anesthesia_Time_Below_Mean(1010.94)\n",
      "\n",
      "1 significant protein enrichment in Tumor_Surgical_Devascularized_Time_Below_Mean(1085.32):\n",
      "\n",
      "1 significant protein enrichment in Tumor_Sample_1_Weight_Above_Mean(430.42):\n",
      "\n",
      "6 significant protein enrichments in Tumor_Sample_2_Weight_Above_Mean(397.06)\n",
      "\n",
      "          Tumor_Sample_2_Weight_Above_Mean(397.06)_P_values\n",
      "CACNA1I                                            0.009337\n",
      "DCDC5                                              0.009337\n",
      "HPCAL4                                             0.009337\n",
      "KIAA2022                                           0.009337\n",
      "PRSS56                                             0.009337\n",
      "SYT1                                               0.009337\n",
      "1 significant protein enrichment in Tumor_Sample_2_LN2_Time_Below_Mean(1189.55):\n",
      "\n",
      "1 significant protein enrichment in Tumor_Sample_2_LN2_Time_Above_Mean(1189.55):\n",
      "\n",
      "1 significant protein enrichment in Tumor_Sample_3_LN2_Time_Above_Mean(1197.86):\n",
      "\n",
      "4 significant protein enrichments in Normal_Sample_Number_Above_Mean(0.75)\n",
      "\n",
      "1 significant protein enrichment in Origin_Site_Disease_Ovary:\n",
      "\n",
      "2 significant protein enrichments in Origin_Site_Disease_Other\n",
      "\n",
      "39 significant protein enrichments in Anatomic_Site_Tumor_Ovary\n",
      "\n",
      "          Anatomic_Site_Tumor_Ovary_P_values\n",
      "ALLC                                0.003218\n",
      "AMHR2                               0.005214\n",
      "ARX                                 0.000334\n",
      "C8orf49                             0.008836\n",
      "CADPS                               0.003218\n",
      "COL2A1                              0.008346\n",
      "COLEC11                             0.000132\n",
      "DLK1                                0.000132\n",
      "EDN3                                0.005214\n",
      "EFCC1                               0.002068\n",
      "FAM9C                               0.007438\n",
      "FOXL2                               0.008346\n",
      "FOXL2NB                             0.005214\n",
      "FSHR                                0.000953\n",
      "FSTL4                               0.008346\n",
      "GATA4                               0.000953\n",
      "GLI1                                0.002400\n",
      "GRM7                                0.002525\n",
      "IHH                                 0.007438\n",
      "KCNIP1                              0.002525\n",
      "LHX1                                0.003025\n",
      "LRP4-AS1                            0.005214\n",
      "LRRTM3                              0.000630\n",
      "MORN5                               0.008346\n",
      "MYOCD                               0.000953\n",
      "NDST4                               0.004860\n",
      "NR1H4                               0.000334\n",
      "PROK1                               0.005214\n",
      "PTPN5                               0.002525\n",
      "SHH                                 0.003218\n",
      "SPRR2F                              0.008346\n",
      "STAR                                0.000132\n",
      "TCERG1L                             0.003218\n",
      "TDGF1                               0.002525\n",
      "TDGF1P3                             0.002525\n",
      "TMEM215                             0.000237\n",
      "TRABD2A                             0.002525\n",
      "TSPAN8                              0.002525\n",
      "VIT                                 0.002068\n",
      "26 significant protein enrichments in Anatomic_Site_Tumor_Other\n",
      "\n",
      "              Anatomic_Site_Tumor_Other_P_values\n",
      "ADH4                                    0.000897\n",
      "ADIPOQ                                  0.000051\n",
      "BARX1                                   0.001537\n",
      "C14orf180                               0.000491\n",
      "COL1A1                                  0.001537\n",
      "CPN2                                    0.000461\n",
      "DPYS                                    0.004784\n",
      "FABP4                                   0.000567\n",
      "FGF10-AS1                               0.004677\n",
      "GLYAT                                   0.000062\n",
      "GNAT3                                   0.004784\n",
      "GPD1                                    0.000491\n",
      "LGALS12                                 0.000897\n",
      "LINC01230                               0.000961\n",
      "LIPE                                    0.000897\n",
      "LOC100287592                            0.000897\n",
      "LOC101926960                            0.000491\n",
      "LOC101927678                            0.002564\n",
      "LRRN4                                   0.004677\n",
      "OTOR                                    0.003600\n",
      "PAX1                                    0.007697\n",
      "PLIN1                                   0.000014\n",
      "PLIN4                                   0.000491\n",
      "SFRP2                                   0.001537\n",
      "TPO                                     0.001890\n",
      "WNT9B                                   0.007697\n",
      "4 significant protein enrichments in Anatomic_Lateral_Position_Tumor_Other\n",
      "\n",
      "4 significant protein enrichments in Method_of_Pathologic_Diagnosis_Biopsy\n",
      "\n",
      "1 significant protein enrichment in Response_After_Surgery_And_Adjuvant_Therapies_Stable_or_Progressive_Disease:\n",
      "\n"
     ]
    }
   ],
   "source": [
    "print(\"TESTING FOR Transcriptomics:\")\n",
    "sig_cols = []\n",
    "for col in results_trans.columns:\n",
    "    sig_col = bf.significantEnrichments(results_trans, col, 0.01)\n",
    "    if sig_col is not None and len(sig_col) >= 5:\n",
    "        sig_cols.append(sig_col)\n",
    "        print(sig_col)\n",
    "    else:\n",
    "        results_trans = results_trans.drop(col, axis=1)"
   ]
  },
  {
   "cell_type": "code",
   "execution_count": 46,
   "metadata": {},
   "outputs": [
    {
     "data": {
      "image/png": "[encoded data removed]",
      "text/plain": [
       "<Figure size 432x288 with 2 Axes>"
      ]
     },
     "metadata": {},
     "output_type": "display_data"
    }
   ],
   "source": [
    "sns.heatmap(results_trans)\n",
    "plt.show()"
   ]
  },
  {
   "cell_type": "markdown",
   "metadata": {},
   "source": [
    "## Step 6: Determine significant enrichments, and link with cancer drug database."
   ]
  },
  {
   "cell_type": "code",
   "execution_count": 41,
   "metadata": {},
   "outputs": [
    {
     "data": {
      "text/plain": [
       "\"for col in sig_cols:\\n    col_name = col.columns[0]\\n    gene_name_list = list(col.index)\\n    enrichment = gp.enrichr(gene_list = gene_name_list, \\n                            description=col_name, \\n                            gene_sets='KEGG_2019_Human', \\n                            outdir='test/enrichr_kegg', #This isn't saving correctly...why is that?\\n                            cutoff=0.5)\\n    print(enrichment.res2d)\\n    barplot(enrichment.res2d, title=col_name)\\n\""
      ]
     },
     "execution_count": 41,
     "metadata": {},
     "output_type": "execute_result"
    }
   ],
   "source": [
    "'''for col in sig_cols:\n",
    "    col_name = col.columns[0]\n",
    "    gene_name_list = list(col.index)\n",
    "    enrichment = gp.enrichr(gene_list = gene_name_list, \n",
    "                            description=col_name, \n",
    "                            gene_sets='KEGG_2019_Human', \n",
    "                            outdir='test/enrichr_kegg', #This isn't saving correctly...why is that?\n",
    "                            cutoff=0.5)\n",
    "    print(enrichment.res2d)\n",
    "    barplot(enrichment.res2d, title=col_name)\n",
    "'''"
   ]
  }
 ],
 "metadata": {
  "kernelspec": {
   "display_name": "Python 3",
   "language": "python",
   "name": "python3"
  },
  "language_info": {
   "codemirror_mode": {
    "name": "ipython",
    "version": 3
   },
   "file_extension": ".py",
   "mimetype": "text/x-python",
   "name": "python",
   "nbconvert_exporter": "python",
   "pygments_lexer": "ipython3",
   "version": "3.6.2"
  }
 },
 "nbformat": 4,
 "nbformat_minor": 2
}
