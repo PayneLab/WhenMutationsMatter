{
 "cells": [
  {
   "cell_type": "markdown",
   "metadata": {},
   "source": [
    "## BlackSheep Cookbook Exploration\n",
    "\n",
    "The Black Sheep Analysis allows researchers to find trends in abnormal protein enrichment among patients in CPTAC datasets. In this Cookbook, we will go through the steps needed to perform a full Black Sheep Analysis."
   ]
  },
  {
   "cell_type": "markdown",
   "metadata": {},
   "source": [
    "### Step 1a: Import Dependencies\n",
    "First, import the necessary dependencies and load cptac data."
   ]
  },
  {
   "cell_type": "code",
   "execution_count": 1,
   "metadata": {},
   "outputs": [
    {
     "name": "stdout",
     "output_type": "stream",
     "text": [
      "Welcome to cptac, a python package for disseminating cancer\n",
      "proteogenomics data. To view available datasets, enter\n",
      "'cptac.list_data()'. Extensive tutorials are available at\n",
      "https://github.com/PayneLab/cptac/tree/master/doc\n",
      "\n",
      "******\n",
      "Version: 0.4.5\n",
      "******\n"
     ]
    }
   ],
   "source": [
    "import numpy as np\n",
    "import pandas as pd\n",
    "import matplotlib.pyplot as plt\n",
    "import seaborn as sns\n",
    "import cptac\n",
    "import binarization_functions as bf\n",
    "import blackSheepCPTACmoduleCopy as blsh\n",
    "import gseapy as gp\n",
    "from gseapy.plot import barplot, heatmap, dotplot"
   ]
  },
  {
   "cell_type": "markdown",
   "metadata": {},
   "source": [
    "## Step 1b: Load Data and Choose Omics Table\n",
    "For this analysis, we will be looking at results across the proteomics, transcriptomics, and phosphoproteomics tables."
   ]
  },
  {
   "cell_type": "code",
   "execution_count": 2,
   "metadata": {},
   "outputs": [
    {
     "name": "stdout",
     "output_type": "stream",
     "text": [
      "Checking that data files are up-to-date...\n",
      "100% [..................................................................................] 407 / 407\n",
      "Data check complete.\n",
      "ovarian data version: Most recent release\n",
      "\n",
      "Loading clinical data...\n",
      "Loading cnv data...\n",
      "Loading definitions data...\n",
      "Loading phosphoproteomics data...\n",
      "Loading proteomics data...\n",
      "Loading somatic_38 data...\n",
      "Loading transcriptomics data...\n",
      "Loading treatment data...\n"
     ]
    }
   ],
   "source": [
    "ov = cptac.Ovarian()\n",
    "proteomics = ov.get_proteomics()\n",
    "transcriptomics = ov.get_transcriptomics()\n",
    "clinical = ov.get_clinical()"
   ]
  },
  {
   "cell_type": "markdown",
   "metadata": {},
   "source": [
    "## Step 2: Determine what attributes you would like to A/B test. \n",
    "For this analysis, we will iteratively go through the various columns in the clinical dataset, to determine if any of them have trends within them for protein enrichment."
   ]
  },
  {
   "cell_type": "code",
   "execution_count": 3,
   "metadata": {
    "collapsed": true
   },
   "outputs": [],
   "source": [
    "#Create a copy of the original Clinical DataFrame\n",
    "annotations = pd.DataFrame(clinical.copy())"
   ]
  },
  {
   "cell_type": "code",
   "execution_count": 4,
   "metadata": {
    "collapsed": true
   },
   "outputs": [],
   "source": [
    "#Drop irrelevant columns.\n",
    "irrelevant_cols = ['Patient_ID', 'Participant_Gender', 'Histological_Subtype']\n",
    "annotations = annotations.drop(irrelevant_cols, axis=1)\n",
    "\n",
    "#Determine which columns we should either drop, or be generally skeptical of in our analysis\n",
    "questionable_cols = ['Participant_History_Neo-adjuvant_Treatment', #all said no but one\n",
    "                     'Participant_History_Radiation_Therapy', #all said no but one\n",
    "                     'Participant_History_Hormonal_Therapy', #all said no but one\n",
    "                     'Participant_Ethnicity', #all are not hispanic or latino, weren't evaluated, or unknown. Only one hispanic\n",
    "                     'Normal_Sample_4_Surgical_Devascularized_Time', #very few datatpoints\n",
    "                     'Normal_Sample_4_Weight', 'Normal_Sample_4_LN2_Time', #very few datapoints\n",
    "                     'Normal_Sample_4_Ischemia_Time', #very few datapoints\n",
    "                     'Normal_Sample_5_Surgical_Devascularized_Time', #very few datapoints\n",
    "                     'Normal_Sample_5_Weight', 'Normal_Sample_5_LN2_Time', #very few datapoints\n",
    "                     'Normal_Sample_5_Ischemia_Time', #very few datapoints\n",
    "                     'Other_New_Tumor_Event_Site', #few datapoints, and hard to really binarize \n",
    "                     'Days_Between_Collection_And_New_Tumor_Event_Surgery'] #few datapoints\n",
    "\n",
    "annotations = annotations.drop(questionable_cols, axis=1)\n",
    "#Drop all the tumor sample columns Ask Sam about this on Thursday"
   ]
  },
  {
   "cell_type": "code",
   "execution_count": 5,
   "metadata": {
    "collapsed": true
   },
   "outputs": [],
   "source": [
    "#Determine which columns are binary and which aren't\n",
    "binary_cols = []\n",
    "non_binary_cols = []\n",
    "\n",
    "for col in annotations.columns:\n",
    "    if len(annotations[col].value_counts()) == 2:\n",
    "        binary_cols.append(col)\n",
    "    elif len(annotations[col].value_counts()) > 2:\n",
    "        non_binary_cols.append(col)\n",
    "    else:\n",
    "        annotations = annotations.drop(col, axis=1) \n",
    "        #This would defeat the purpose of binarization if there were only 1 possible outcome."
   ]
  },
  {
   "cell_type": "code",
   "execution_count": 6,
   "metadata": {},
   "outputs": [
    {
     "name": "stdout",
     "output_type": "stream",
     "text": [
      "Participant_Procurement_Age is a numeric column\n",
      "\n",
      "Participant_Race is a categorical column\n",
      "\n",
      "Participant_Jewish_Heritage is a categorical column\n",
      "\n",
      "Aliquots_Plasma is a numeric column\n",
      "\n",
      "Blood_Collection_Time is a categorical column\n",
      "\n",
      "Blood_Collection_Method is a categorical column\n",
      "\n",
      "Anesthesia_Time is a numeric column\n",
      "\n",
      "Tumor_Surgical_Devascularized_Time is a numeric column\n",
      "\n",
      "Tumor_Sample_Number is a numeric column\n",
      "\n",
      "Tumor_Sample_1_Weight is a numeric column\n",
      "\n",
      "Tumor_Sample_1_LN2_Time is a numeric column\n",
      "\n",
      "Tumor_Sample_1_Ischemia_Time is a numeric column\n",
      "\n",
      "Tumor_Sample_2_Weight is a numeric column\n",
      "\n",
      "Tumor_Sample_2_LN2_Time is a numeric column\n",
      "\n",
      "Tumor_Sample_2_Ischemia_Time is a numeric column\n",
      "\n",
      "Tumor_Sample_3_Weight is a numeric column\n",
      "\n",
      "Tumor_Sample_3_LN2_Time is a numeric column\n",
      "\n",
      "Tumor_Sample_3_Ischemia_Time is a numeric column\n",
      "\n",
      "Tumor_Sample_4_Weight is a numeric column\n",
      "\n",
      "Tumor_Sample_4_LN2_Time is a numeric column\n",
      "\n",
      "Tumor_Sample_4_Ischemia_Time is a numeric column\n",
      "\n",
      "Tumor_Sample_5_Weight is a numeric column\n",
      "\n",
      "Tumor_Sample_5_LN2_Time is a numeric column\n",
      "\n",
      "Tumor_Sample_5_Ischemia_Time is a numeric column\n",
      "\n",
      "Normal_Sample_Number is a numeric column\n",
      "\n",
      "Normal_Sample_1_Surgical_Devascularized_Time is a numeric column\n",
      "\n",
      "Normal_Sample_1_Weight is a numeric column\n",
      "\n",
      "Normal_Sample_1_LN2_Time is a numeric column\n",
      "\n",
      "Normal_Sample_1_Ischemia_Time is a numeric column\n",
      "\n",
      "Normal_Sample_2_Surgical_Devascularized_Time is a numeric column\n",
      "\n",
      "Normal_Sample_2_Weight is a numeric column\n",
      "\n",
      "Normal_Sample_2_LN2_Time is a numeric column\n",
      "\n",
      "Normal_Sample_2_Ischemia_Time is a numeric column\n",
      "\n",
      "Normal_Sample_3_Surgical_Devascularized_Time is a numeric column\n",
      "\n",
      "Normal_Sample_3_Weight is a numeric column\n",
      "\n",
      "Normal_Sample_3_LN2_Time is a numeric column\n",
      "\n",
      "Normal_Sample_3_Ischemia_Time is a numeric column\n",
      "\n",
      "Origin_Site_Disease is a categorical column\n",
      "\n",
      "Anatomic_Site_Tumor is a categorical column\n",
      "\n",
      "Anatomic_Lateral_Position_Tumor is a categorical column\n",
      "\n",
      "Method_of_Pathologic_Diagnosis is a categorical column\n",
      "\n",
      "Tumor_Stage_Ovary_FIGO is a categorical column\n",
      "\n",
      "Tumor_Grade is a categorical column\n",
      "\n",
      "Tumor_Residual_Disease_Max_Diameter is a categorical column\n",
      "\n",
      "Days_Between_Collection_And_Last_Contact is a numeric column\n",
      "\n",
      "Days_Between_Collection_And_Death is a numeric column\n",
      "\n",
      "Tumor_Status is a categorical column\n",
      "\n",
      "Review_Of_Initial_Pathological_Findings is a categorical column\n",
      "\n",
      "Adjuvant_Pharmaceutical_Therapy is a categorical column\n",
      "\n",
      "Adjuvant_Immunotherapy is a categorical column\n",
      "\n",
      "Adjuvant_Hormone_Therapy is a categorical column\n",
      "\n",
      "Adjuvant_Targeted_Molecular_Therapy is a categorical column\n",
      "\n",
      "Response_After_Surgery_And_Adjuvant_Therapies is a categorical column\n",
      "\n",
      "New_Tumor_Event_After_Initial_Treatment is a categorical column\n",
      "\n",
      "New_Tumor_Event_Type is a categorical column\n",
      "\n",
      "New_Tumor_Event_Site is a categorical column\n",
      "\n",
      "Days_Between_Collection_And_New_Tumor_Event is a numeric column\n",
      "\n",
      "New_Tumor_Event_Diagnosis is a categorical column\n",
      "\n",
      "New_Tumor_Event_Surgery is a categorical column\n",
      "\n",
      "New_Tumor_Event_Chemotherapy is a categorical column\n",
      "\n",
      "New_Tumor_Event_Immunotherapy is a categorical column\n",
      "\n",
      "New_Tumor_Event_Targeted_Molecular_Therapy is a categorical column\n",
      "\n"
     ]
    }
   ],
   "source": [
    "numeric_non_bin = []\n",
    "categorical_non_bin = []\n",
    "\n",
    "for item in non_binary_cols:\n",
    "    if np.issubdtype(annotations[item].dtype, np.number):\n",
    "        print(item+\" is a numeric column\\n\")\n",
    "        numeric_non_bin.append(item)\n",
    "        mean = annotations[item].mean()\n",
    "        annotations[item]= bf.binarizeCutOff(annotations, item, mean, \n",
    "                                             \"Above_Mean(\"+str(round(mean, 2))+\")\", \n",
    "                                             \"Below_Mean(\"+str(round(mean, 2))+\")\")\n",
    "    else:\n",
    "        print(item+\" is a categorical column\\n\")\n",
    "        categorical_non_bin.append(item)"
   ]
  },
  {
   "cell_type": "markdown",
   "metadata": {},
   "source": [
    "## Step 2a: Binarize column values"
   ]
  },
  {
   "cell_type": "code",
   "execution_count": 7,
   "metadata": {
    "collapsed": true
   },
   "outputs": [],
   "source": [
    "race_map = {'White':'White', \n",
    "            'Asian':'Not_White', \n",
    "            'Black or African American':'Not_White', \n",
    "            'Unknown (Could not be determined or unsure)':np.nan, \n",
    "            'American Indian or Alaska Native': 'Not_White'}\n",
    "\n",
    "annotations['Participant_Race'] = bf.binarizeCategorical(annotations, \n",
    "                                                         'Participant_Race', \n",
    "                                                         race_map)"
   ]
  },
  {
   "cell_type": "code",
   "execution_count": 8,
   "metadata": {
    "collapsed": true
   },
   "outputs": [],
   "source": [
    "jewish_map = {'Not Jewish':'Not_Jewish', \n",
    "              'Unknown':np.nan, \n",
    "              'Ashkenazi':'Jewish', \n",
    "              'Jewish, NOS':'Jewish'}\n",
    "\n",
    "annotations['Participant_Jewish_Heritage'] = bf.binarizeCategorical(annotations, \n",
    "                                                                    'Participant_Jewish_Heritage', \n",
    "                                                                    jewish_map)"
   ]
  },
  {
   "cell_type": "code",
   "execution_count": 9,
   "metadata": {
    "collapsed": true
   },
   "outputs": [],
   "source": [
    "#Replace categorical 'Not Reported/ Unknown' with NaN and convert to numeric for easier binarization\n",
    "annotations['Blood_Collection_Time'] = annotations['Blood_Collection_Time'].replace('Not Reported/ Unknown', np.nan)\n",
    "annotations['Blood_Collection_Time'] = pd.to_numeric(annotations['Blood_Collection_Time'])\n",
    "\n",
    "#Binarize Column\n",
    "annotations['Blood_Collection_Time'] = bf.binarizeCutOff(annotations, \n",
    "                                                         'Blood_Collection_Time', \n",
    "                                                         1000, 'Long', 'Short')"
   ]
  },
  {
   "cell_type": "code",
   "execution_count": 10,
   "metadata": {
    "collapsed": true
   },
   "outputs": [],
   "source": [
    "blood_collection_method_map = {'Venipuncture (Vacutainer Apparatus)':'Venipuncture', \n",
    "                               'Venipuncture (Syringe)':'Venipuncture', 'IV Catheter':'IV'}\n",
    "\n",
    "annotations['Blood_Collection_Method'] = bf.binarizeCategorical(annotations, \n",
    "                                                                'Blood_Collection_Method', \n",
    "                                                                blood_collection_method_map)"
   ]
  },
  {
   "cell_type": "code",
   "execution_count": 11,
   "metadata": {
    "collapsed": true
   },
   "outputs": [],
   "source": [
    "origin_site_map = {'Ovary':'Ovary', \n",
    "                   'Fallopian tube':'Other', \n",
    "                   'Peritoneum':'Other'}\n",
    "\n",
    "annotations['Origin_Site_Disease'] = bf.binarizeCategorical(annotations, \n",
    "                                                            'Origin_Site_Disease',\n",
    "                                                            origin_site_map)"
   ]
  },
  {
   "cell_type": "code",
   "execution_count": 12,
   "metadata": {
    "collapsed": true
   },
   "outputs": [],
   "source": [
    "anatomic_site_map = {'Ovary':'Ovary', \n",
    "                     'Omentum':'Other', \n",
    "                     'Pelvic mass':'Other', \n",
    "                     'Peritoneum':'Other', \n",
    "                     'Not Reported/ Unknown':np.nan}\n",
    "\n",
    "annotations['Anatomic_Site_Tumor'] = bf.binarizeCategorical(annotations, \n",
    "                                                            'Anatomic_Site_Tumor',\n",
    "                                                            anatomic_site_map)"
   ]
  },
  {
   "cell_type": "code",
   "execution_count": 13,
   "metadata": {
    "collapsed": true
   },
   "outputs": [],
   "source": [
    "anatomic_lateral_map = {'Not applicable':'Other',\n",
    "                        'Right':'Right',\n",
    "                        'Left':'Other', \n",
    "                        'Not Reported/ Unknown':np.nan, \n",
    "                        'Bilateral':'Other'}\n",
    "\n",
    "annotations['Anatomic_Lateral_Position_Tumor'] = bf.binarizeCategorical(annotations,\n",
    "                                                                        'Anatomic_Lateral_Position_Tumor',\n",
    "                                                                        anatomic_lateral_map)"
   ]
  },
  {
   "cell_type": "code",
   "execution_count": 14,
   "metadata": {
    "collapsed": true
   },
   "outputs": [],
   "source": [
    "path_diagnosis_map = {'Tumor resection': 'Tumor resection',\n",
    "                      'Excisional Biopsy':'Biopsy', \n",
    "                      'Excisional Biopsy':'Biopsy'}\n",
    "\n",
    "annotations['Method_of_Pathologic_Diagnosis'] = bf.binarizeCategorical(annotations,\n",
    "                                                                       'Method_of_Pathologic_Diagnosis',\n",
    "                                                                       path_diagnosis_map)"
   ]
  },
  {
   "cell_type": "code",
   "execution_count": 15,
   "metadata": {
    "collapsed": true
   },
   "outputs": [],
   "source": [
    "tumor_stage_map = {'IC':'I_or_II', \n",
    "                   'IIB':'I_or_II', \n",
    "                   'III':'III_or_IV', \n",
    "                   'IIIA':'III_or_IV', \n",
    "                   'IIIB':'III_or_IV', \n",
    "                   'IIIC':'III_or_IV', \n",
    "                   'IV':'III_or_IV', \n",
    "                   'Not Reported/ Unknown':np.nan}\n",
    "\n",
    "annotations['Tumor_Stage_Ovary_FIGO'] = bf.binarizeCategorical(annotations, \n",
    "                                                               'Tumor_Stage_Ovary_FIGO', \n",
    "                                                               tumor_stage_map)"
   ]
  },
  {
   "cell_type": "code",
   "execution_count": 16,
   "metadata": {
    "collapsed": true
   },
   "outputs": [],
   "source": [
    "tumor_grade_map = {'G3':'G3', 'Not Reported/ Unknown':np.nan, \n",
    "                   'G2':'Other', 'G1':'Other', \n",
    "                   'GB':'Other', 'GX':'Other'}\n",
    "\n",
    "annotations['Tumor_Grade'] = bf.binarizeCategorical(annotations, \n",
    "                                                    'Tumor_Grade', \n",
    "                                                    tumor_grade_map)"
   ]
  },
  {
   "cell_type": "code",
   "execution_count": 17,
   "metadata": {
    "collapsed": true
   },
   "outputs": [],
   "source": [
    "resid_max_diam_map = {'None':'0-10 mm', \n",
    "                      '1-10 mm': '0-10 mm', \n",
    "                      'greater than 20 mm':'greater than 11 mm', \n",
    "                      'Not Reported/ Unknown':np.nan, \n",
    "                      '11-20 mm':'greater than 11 mm'}\n",
    "\n",
    "annotations['Tumor_Residual_Disease_Max_Diameter'] = bf.binarizeCategorical(annotations, \n",
    "                                                                            'Tumor_Residual_Disease_Max_Diameter', \n",
    "                                                                            resid_max_diam_map)"
   ]
  },
  {
   "cell_type": "code",
   "execution_count": 18,
   "metadata": {
    "collapsed": true
   },
   "outputs": [],
   "source": [
    "annotations['Tumor_Status'] = annotations['Tumor_Status'].replace('Not Reported/Unknown', np.nan)"
   ]
  },
  {
   "cell_type": "code",
   "execution_count": 19,
   "metadata": {
    "collapsed": true
   },
   "outputs": [],
   "source": [
    "annotations['Review_Of_Initial_Pathological_Findings'] = annotations['Review_Of_Initial_Pathological_Findings'].replace('Not Applicable', np.nan)"
   ]
  },
  {
   "cell_type": "code",
   "execution_count": 20,
   "metadata": {
    "collapsed": true
   },
   "outputs": [],
   "source": [
    "annotations['Adjuvant_Pharmaceutical_Therapy'] = annotations['Adjuvant_Pharmaceutical_Therapy'].replace('Not Reported/Unknown', np.nan)"
   ]
  },
  {
   "cell_type": "code",
   "execution_count": 21,
   "metadata": {
    "collapsed": true
   },
   "outputs": [],
   "source": [
    "annotations['Adjuvant_Immunotherapy'] = annotations['Adjuvant_Immunotherapy'].replace('Not Reported/Unknown', np.nan)"
   ]
  },
  {
   "cell_type": "code",
   "execution_count": 22,
   "metadata": {
    "collapsed": true
   },
   "outputs": [],
   "source": [
    "annotations['Adjuvant_Hormone_Therapy'] = annotations['Adjuvant_Hormone_Therapy'].replace('Not Reported/Unknown', np.nan)"
   ]
  },
  {
   "cell_type": "code",
   "execution_count": 23,
   "metadata": {
    "collapsed": true
   },
   "outputs": [],
   "source": [
    "annotations['Adjuvant_Targeted_Molecular_Therapy'] = annotations['Adjuvant_Targeted_Molecular_Therapy'].replace('Not Reported/Unknown', np.nan)"
   ]
  },
  {
   "cell_type": "code",
   "execution_count": 24,
   "metadata": {
    "collapsed": true
   },
   "outputs": [],
   "source": [
    "response_map = {'Complete Response':'Complete_or_Partial_Response', \n",
    "                'Partial Response':'Complete_or_Partial_Response', \n",
    "                'Stable Disease':'Stable_or_Progressive_Disease', \n",
    "                'Not Reported/Unknown':np.nan, \n",
    "                'Progressive Disease':'Stable_or_Progressive_Disease'}\n",
    "\n",
    "annotations['Response_After_Surgery_And_Adjuvant_Therapies'] = bf.binarizeCategorical(annotations, \n",
    "                                                                                      'Response_After_Surgery_And_Adjuvant_Therapies', \n",
    "                                                                                      response_map)"
   ]
  },
  {
   "cell_type": "code",
   "execution_count": 25,
   "metadata": {
    "collapsed": true
   },
   "outputs": [],
   "source": [
    "new_tumor_map = {'No':'No', 'Yes':'Yes',\n",
    "                 'Not Reported/Unknown':np.nan, \n",
    "                 'Not Applicable':np.nan}\n",
    "\n",
    "annotations['New_Tumor_Event_After_Initial_Treatment'] = bf.binarizeCategorical(annotations, \n",
    "                                                                                'New_Tumor_Event_After_Initial_Treatment',\n",
    "                                                                                new_tumor_map)"
   ]
  },
  {
   "cell_type": "code",
   "execution_count": 26,
   "metadata": {
    "collapsed": true
   },
   "outputs": [],
   "source": [
    "new_tumor_type_map = {'Locoregional Disease':'Locoregional_and_or_Distant_Metastasis', \n",
    "                      'Both Locoregional and Distant Metastasis':'Locoregional_and_or_Distant_Metastisis',\n",
    "                      'Metastatic':'Metastatic', 'Not Reported/Unknown':np.nan}\n",
    "\n",
    "annotations['New_Tumor_Event_Type'] = bf.binarizeCategorical(annotations,\n",
    "                                                             'New_Tumor_Event_Type',\n",
    "                                                             new_tumor_type_map)"
   ]
  },
  {
   "cell_type": "code",
   "execution_count": 27,
   "metadata": {
    "collapsed": true
   },
   "outputs": [],
   "source": [
    "new_tumor_site_map = {'Abdomen':'Abdomen', \n",
    "                      'Chest; Abdomen':'Abdomen', \n",
    "                      'Lymph Node only (specify location)':'Other', \n",
    "                      'Other (specify)':'Other', \n",
    "                      'Abdomen; Chest':'Abdomen', \n",
    "                      'Other (specify); Chest':'Other', \n",
    "                      'Abdomen; Other (specify); Pelvis':'Abdomen', \n",
    "                      'Pelvis; Abdomen':'Abdomen'}\n",
    "\n",
    "annotations['New_Tumor_Event_Site'] = bf.binarizeCategorical(annotations,\n",
    "                                                             'New_Tumor_Event_Site',\n",
    "                                                             new_tumor_site_map)"
   ]
  },
  {
   "cell_type": "code",
   "execution_count": 28,
   "metadata": {
    "collapsed": true
   },
   "outputs": [],
   "source": [
    "diagnosis_map = {'Convincing imaging':'Convincing imaging', \n",
    "                 'Positive Biomarkers':'Biomarkers_or_Seen_at_Surgery', \n",
    "                 'First seen at further surgery':'Biomarkers_or_Seen_at_Surgery'}\n",
    "\n",
    "annotations['New_Tumor_Event_Diagnosis'] = bf.binarizeCategorical(annotations, \n",
    "                                                                  'New_Tumor_Event_Diagnosis', \n",
    "                                                                  diagnosis_map)"
   ]
  },
  {
   "cell_type": "code",
   "execution_count": 29,
   "metadata": {
    "collapsed": true
   },
   "outputs": [],
   "source": [
    "annotations['New_Tumor_Event_Surgery'] = annotations['New_Tumor_Event_Surgery'].replace('Not Reported/Unknown', np.nan)"
   ]
  },
  {
   "cell_type": "code",
   "execution_count": 30,
   "metadata": {
    "collapsed": true
   },
   "outputs": [],
   "source": [
    "annotations['New_Tumor_Event_Chemotherapy'] = annotations['New_Tumor_Event_Chemotherapy'].replace('Not Reported/Unknown', np.nan)"
   ]
  },
  {
   "cell_type": "code",
   "execution_count": 31,
   "metadata": {
    "collapsed": true
   },
   "outputs": [],
   "source": [
    "annotations['New_Tumor_Event_Immunotherapy'] = annotations['New_Tumor_Event_Immunotherapy'].replace('Not Reported/Unknown', np.nan)"
   ]
  },
  {
   "cell_type": "code",
   "execution_count": 32,
   "metadata": {
    "collapsed": true
   },
   "outputs": [],
   "source": [
    "annotations['New_Tumor_Event_Targeted_Molecular_Therapy'] = annotations['New_Tumor_Event_Targeted_Molecular_Therapy'].replace('Not Reported/Unknown', np.nan)"
   ]
  },
  {
   "cell_type": "markdown",
   "metadata": {},
   "source": [
    "## Step 3: Perform outliers analysis"
   ]
  },
  {
   "cell_type": "code",
   "execution_count": 33,
   "metadata": {
    "collapsed": true
   },
   "outputs": [],
   "source": [
    "outliers_prot = blsh.make_outliers_table(proteomics, iqrs=1.5, \n",
    "                                         up_or_down='up', \n",
    "                                         aggregate=False, \n",
    "                                         frac_table=False)\n",
    "\n",
    "outliers_trans = blsh.make_outliers_table(transcriptomics, iqrs=1.5, \n",
    "                                          up_or_down='up', \n",
    "                                          aggregate=False, \n",
    "                                          frac_table=False)"
   ]
  },
  {
   "cell_type": "code",
   "execution_count": 36,
   "metadata": {},
   "outputs": [],
   "source": [
    "#Deal with duplicate columns problem\n",
    "bf.renameDuplicateColumns(outliers_prot)"
   ]
  },
  {
   "cell_type": "markdown",
   "metadata": {},
   "source": [
    "## Step 4: Wrap your A/B test into the outliers analysis, and create a table\n",
    "First for proteomics, and then phosphoproteomics."
   ]
  },
  {
   "cell_type": "code",
   "execution_count": null,
   "metadata": {
    "collapsed": true
   },
   "outputs": [],
   "source": [
    "#Breaks here because of indexing errors\n",
    "results_prot = blsh.compare_groups_outliers(outliers_prot, \n",
    "                                            annotations)"
   ]
  },
  {
   "cell_type": "code",
   "execution_count": null,
   "metadata": {
    "collapsed": true
   },
   "outputs": [],
   "source": [
    "#results_trans = blsh.compare_groups_outliers(outliers_trans, \n",
    "#                                             annotations)"
   ]
  },
  {
   "cell_type": "markdown",
   "metadata": {},
   "source": [
    "Many of the output values from compare_group_outliers are NaN, so here we will get rid of the NaN values for visualization purposes."
   ]
  },
  {
   "cell_type": "code",
   "execution_count": null,
   "metadata": {
    "collapsed": true
   },
   "outputs": [],
   "source": [
    "results_prot = results_prot.dropna(axis=0, how='all')\n",
    "#results_trans = results_trans.dropna(axis=0, how='all')"
   ]
  },
  {
   "cell_type": "markdown",
   "metadata": {},
   "source": [
    "## Step 5: Visualize these enrichments"
   ]
  },
  {
   "cell_type": "code",
   "execution_count": null,
   "metadata": {
    "collapsed": true
   },
   "outputs": [],
   "source": [
    "#Drop Columns with less than 5 significant enrichments\n",
    "print(\"TESTING FOR PROTEOMICS:\")\n",
    "sig_cols = []\n",
    "for col in results_prot.columns:\n",
    "    sig_col = bf.significantEnrichments(results_prot, col, 0.01)\n",
    "    if sig_col is not None and len(sig_col) >= 5:\n",
    "        sig_cols.append(sig_col)\n",
    "        print(sig_col)\n",
    "    else:\n",
    "        results_prot = results_prot.drop(col, axis=1)\n",
    "\n",
    "'''\n",
    "Trying to create a dataframe of just columns with more than 10 enrichments\n",
    "sig_results_prot = pd.DataFrame()\n",
    "for col in sig_cols:\n",
    "    sig_results_prot[col]\n",
    "'''"
   ]
  },
  {
   "cell_type": "code",
   "execution_count": null,
   "metadata": {
    "collapsed": true
   },
   "outputs": [],
   "source": [
    "sns.heatmap(results_prot)\n",
    "plt.show()"
   ]
  },
  {
   "cell_type": "code",
   "execution_count": null,
   "metadata": {
    "collapsed": true
   },
   "outputs": [],
   "source": [
    "#sns.heatmap(results_trans)\n",
    "#plt.show()"
   ]
  },
  {
   "cell_type": "markdown",
   "metadata": {},
   "source": [
    "## Step 6: Determine significant enrichments, and link with cancer drug database."
   ]
  },
  {
   "cell_type": "code",
   "execution_count": null,
   "metadata": {
    "collapsed": true
   },
   "outputs": [],
   "source": [
    "'''for col in sig_cols:\n",
    "    col_name = col.columns[0]\n",
    "    gene_name_list = list(col.index)\n",
    "    enrichment = gp.enrichr(gene_list = gene_name_list, \n",
    "                            description=col_name, \n",
    "                            gene_sets='KEGG_2019_Human', \n",
    "                            outdir='test/enrichr_kegg', #This isn't saving correctly...why is that?\n",
    "                            cutoff=0.5)\n",
    "    print(enrichment.res2d)\n",
    "    barplot(enrichment.res2d, title=col_name)\n",
    "'''"
   ]
  }
 ],
 "metadata": {
  "kernelspec": {
   "display_name": "Python 3",
   "language": "python",
   "name": "python3"
  },
  "language_info": {
   "codemirror_mode": {
    "name": "ipython",
    "version": 3
   },
   "file_extension": ".py",
   "mimetype": "text/x-python",
   "name": "python",
   "nbconvert_exporter": "python",
   "pygments_lexer": "ipython3",
   "version": "3.6.2"
  }
 },
 "nbformat": 4,
 "nbformat_minor": 2
}
