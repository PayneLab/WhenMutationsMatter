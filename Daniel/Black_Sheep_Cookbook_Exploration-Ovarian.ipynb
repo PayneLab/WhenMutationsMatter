{
 "cells": [
  {
   "cell_type": "markdown",
   "metadata": {},
   "source": [
    "## BlackSheep Cookbook Exploration\n",
    "\n",
    "The Black Sheep Analysis allows researchers to find trends in abnormal protein enrichment among patients in CPTAC datasets. In this Cookbook, we will go through the steps needed to perform a full Black Sheep Analysis."
   ]
  },
  {
   "cell_type": "markdown",
   "metadata": {},
   "source": [
    "### Step 1a: Import Dependencies\n",
    "First, import the necessary dependencies and load cptac data."
   ]
  },
  {
   "cell_type": "code",
   "execution_count": 50,
   "metadata": {},
   "outputs": [],
   "source": [
    "import numpy as np\n",
    "import pandas as pd\n",
    "import matplotlib.pyplot as plt\n",
    "import seaborn as sns\n",
    "import cptac\n",
    "import binarization_functions as bf\n",
    "import blackSheepCPTACmoduleCopy as blsh\n",
    "import gseapy as gp\n",
    "from gseapy.plot import barplot, heatmap, dotplot"
   ]
  },
  {
   "cell_type": "markdown",
   "metadata": {},
   "source": [
    "## Step 1b: Load Data and Choose Omics Table\n",
    "For this analysis, we will be looking at results across the proteomics, transcriptomics, and phosphoproteomics tables."
   ]
  },
  {
   "cell_type": "code",
   "execution_count": 51,
   "metadata": {},
   "outputs": [
    {
     "name": "stdout",
     "output_type": "stream",
     "text": [
      "Checking that data files are up-to-date...\n",
      "100% [..................................................................................] 407 / 407\n",
      "Data check complete.\n",
      "ovarian data version: Most recent release\n",
      "\n",
      "Loading clinical data...\n",
      "Loading cnv data...\n",
      "Loading definitions data...\n",
      "Loading phosphoproteomics data...\n",
      "Loading proteomics data...\n",
      "Loading somatic_38 data...\n",
      "Loading transcriptomics data...\n",
      "Loading treatment data...\n"
     ]
    }
   ],
   "source": [
    "ov = cptac.Ovarian()\n",
    "proteomics = ov.get_proteomics()\n",
    "transcriptomics = ov.get_transcriptomics()\n",
    "clinical = ov.get_clinical()"
   ]
  },
  {
   "cell_type": "markdown",
   "metadata": {},
   "source": [
    "## Step 2: Determine what attributes you would like to A/B test. \n",
    "For this analysis, we will iteratively go through the various columns in the clinical dataset, to determine if any of them have trends within them for protein enrichment."
   ]
  },
  {
   "cell_type": "code",
   "execution_count": 52,
   "metadata": {
    "collapsed": true
   },
   "outputs": [],
   "source": [
    "#Create a copy of the original Clinical DataFrame\n",
    "annotations = pd.DataFrame(clinical.copy())"
   ]
  },
  {
   "cell_type": "code",
   "execution_count": 53,
   "metadata": {
    "collapsed": true
   },
   "outputs": [],
   "source": [
    "#Drop irrelevant columns.\n",
    "irrelevant_cols = ['Patient_ID', 'Participant_Gender', 'Histological_Subtype']\n",
    "annotations = annotations.drop(irrelevant_cols, axis=1)\n",
    "\n",
    "#Determine which columns we should either drop, or be generally skeptical of in our analysis\n",
    "questionable_cols = ['Participant_History_Neo-adjuvant_Treatment', #all said no but one\n",
    "                     'Participant_History_Radiation_Therapy', #all said no but one\n",
    "                     'Participant_History_Hormonal_Therapy', #all said no but one\n",
    "                     'Participant_Ethnicity', #all are not hispanic or latino, weren't evaluated, or unknown. Only one hispanic\n",
    "                     'Normal_Sample_4_Surgical_Devascularized_Time', #very few datatpoints\n",
    "                     'Normal_Sample_4_Weight', 'Normal_Sample_4_LN2_Time', #very few datapoints\n",
    "                     'Normal_Sample_4_Ischemia_Time', #very few datapoints\n",
    "                     'Normal_Sample_5_Surgical_Devascularized_Time', #very few datapoints\n",
    "                     'Normal_Sample_5_Weight', 'Normal_Sample_5_LN2_Time', #very few datapoints\n",
    "                     'Normal_Sample_5_Ischemia_Time', #very few datapoints\n",
    "                     'Other_New_Tumor_Event_Site', #few datapoints, and hard to really binarize \n",
    "                     'Days_Between_Collection_And_New_Tumor_Event_Surgery'] #few datapoints\n",
    "\n",
    "annotations = annotations.drop(questionable_cols, axis=1)"
   ]
  },
  {
   "cell_type": "code",
   "execution_count": 54,
   "metadata": {
    "collapsed": true
   },
   "outputs": [],
   "source": [
    "#Determine which columns are binary and which aren't\n",
    "binary_cols = []\n",
    "non_binary_cols = []\n",
    "\n",
    "for col in annotations.columns:\n",
    "    if len(annotations[col].value_counts()) == 2:\n",
    "        binary_cols.append(col)\n",
    "    elif len(annotations[col].value_counts()) > 2:\n",
    "        non_binary_cols.append(col)\n",
    "    else:\n",
    "        annotations = annotations.drop(col, axis=1) \n",
    "        #This would defeat the purpose of binarization if there were only 1 possible outcome."
   ]
  },
  {
   "cell_type": "code",
   "execution_count": 55,
   "metadata": {},
   "outputs": [
    {
     "name": "stdout",
     "output_type": "stream",
     "text": [
      "Participant_Procurement_Age is a numeric column\n",
      "\n",
      "Participant_Race is a categorical column\n",
      "\n",
      "Participant_Jewish_Heritage is a categorical column\n",
      "\n",
      "Aliquots_Plasma is a numeric column\n",
      "\n",
      "Blood_Collection_Time is a categorical column\n",
      "\n",
      "Blood_Collection_Method is a categorical column\n",
      "\n",
      "Anesthesia_Time is a numeric column\n",
      "\n",
      "Tumor_Surgical_Devascularized_Time is a numeric column\n",
      "\n",
      "Tumor_Sample_Number is a numeric column\n",
      "\n",
      "Tumor_Sample_1_Weight is a numeric column\n",
      "\n",
      "Tumor_Sample_1_LN2_Time is a numeric column\n",
      "\n",
      "Tumor_Sample_1_Ischemia_Time is a numeric column\n",
      "\n",
      "Tumor_Sample_2_Weight is a numeric column\n",
      "\n",
      "Tumor_Sample_2_LN2_Time is a numeric column\n",
      "\n",
      "Tumor_Sample_2_Ischemia_Time is a numeric column\n",
      "\n",
      "Tumor_Sample_3_Weight is a numeric column\n",
      "\n",
      "Tumor_Sample_3_LN2_Time is a numeric column\n",
      "\n",
      "Tumor_Sample_3_Ischemia_Time is a numeric column\n",
      "\n",
      "Tumor_Sample_4_Weight is a numeric column\n",
      "\n",
      "Tumor_Sample_4_LN2_Time is a numeric column\n",
      "\n",
      "Tumor_Sample_4_Ischemia_Time is a numeric column\n",
      "\n",
      "Tumor_Sample_5_Weight is a numeric column\n",
      "\n",
      "Tumor_Sample_5_LN2_Time is a numeric column\n",
      "\n",
      "Tumor_Sample_5_Ischemia_Time is a numeric column\n",
      "\n",
      "Normal_Sample_Number is a numeric column\n",
      "\n",
      "Normal_Sample_1_Surgical_Devascularized_Time is a numeric column\n",
      "\n",
      "Normal_Sample_1_Weight is a numeric column\n",
      "\n",
      "Normal_Sample_1_LN2_Time is a numeric column\n",
      "\n",
      "Normal_Sample_1_Ischemia_Time is a numeric column\n",
      "\n",
      "Normal_Sample_2_Surgical_Devascularized_Time is a numeric column\n",
      "\n",
      "Normal_Sample_2_Weight is a numeric column\n",
      "\n",
      "Normal_Sample_2_LN2_Time is a numeric column\n",
      "\n",
      "Normal_Sample_2_Ischemia_Time is a numeric column\n",
      "\n",
      "Normal_Sample_3_Surgical_Devascularized_Time is a numeric column\n",
      "\n",
      "Normal_Sample_3_Weight is a numeric column\n",
      "\n",
      "Normal_Sample_3_LN2_Time is a numeric column\n",
      "\n",
      "Normal_Sample_3_Ischemia_Time is a numeric column\n",
      "\n",
      "Origin_Site_Disease is a categorical column\n",
      "\n",
      "Anatomic_Site_Tumor is a categorical column\n",
      "\n",
      "Anatomic_Lateral_Position_Tumor is a categorical column\n",
      "\n",
      "Method_of_Pathologic_Diagnosis is a categorical column\n",
      "\n",
      "Tumor_Stage_Ovary_FIGO is a categorical column\n",
      "\n",
      "Tumor_Grade is a categorical column\n",
      "\n",
      "Tumor_Residual_Disease_Max_Diameter is a categorical column\n",
      "\n",
      "Days_Between_Collection_And_Last_Contact is a numeric column\n",
      "\n",
      "Days_Between_Collection_And_Death is a numeric column\n",
      "\n",
      "Tumor_Status is a categorical column\n",
      "\n",
      "Review_Of_Initial_Pathological_Findings is a categorical column\n",
      "\n",
      "Adjuvant_Pharmaceutical_Therapy is a categorical column\n",
      "\n",
      "Adjuvant_Immunotherapy is a categorical column\n",
      "\n",
      "Adjuvant_Hormone_Therapy is a categorical column\n",
      "\n",
      "Adjuvant_Targeted_Molecular_Therapy is a categorical column\n",
      "\n",
      "Response_After_Surgery_And_Adjuvant_Therapies is a categorical column\n",
      "\n",
      "New_Tumor_Event_After_Initial_Treatment is a categorical column\n",
      "\n",
      "New_Tumor_Event_Type is a categorical column\n",
      "\n",
      "New_Tumor_Event_Site is a categorical column\n",
      "\n",
      "Days_Between_Collection_And_New_Tumor_Event is a numeric column\n",
      "\n",
      "New_Tumor_Event_Diagnosis is a categorical column\n",
      "\n",
      "New_Tumor_Event_Surgery is a categorical column\n",
      "\n",
      "New_Tumor_Event_Chemotherapy is a categorical column\n",
      "\n",
      "New_Tumor_Event_Immunotherapy is a categorical column\n",
      "\n",
      "New_Tumor_Event_Targeted_Molecular_Therapy is a categorical column\n",
      "\n"
     ]
    }
   ],
   "source": [
    "numeric_non_bin = []\n",
    "categorical_non_bin = []\n",
    "\n",
    "for item in non_binary_cols:\n",
    "    if np.issubdtype(annotations[item].dtype, np.number):\n",
    "        print(item+\" is a numeric column\\n\")\n",
    "        numeric_non_bin.append(item)\n",
    "        mean = annotations[item].mean()\n",
    "        annotations[item]= bf.binarizeCutOff(annotations, item, mean, \n",
    "                                             \"Above_Mean(\"+str(round(mean, 2))+\")\", \n",
    "                                             \"Below_Mean(\"+str(round(mean, 2))+\")\")\n",
    "    else:\n",
    "        print(item+\" is a categorical column\\n\")\n",
    "        categorical_non_bin.append(item)"
   ]
  },
  {
   "cell_type": "markdown",
   "metadata": {},
   "source": [
    "## Step 2a: Binarize column values"
   ]
  },
  {
   "cell_type": "code",
   "execution_count": 56,
   "metadata": {},
   "outputs": [
    {
     "data": {
      "text/plain": [
       "\"annotations['Participant_Procurement_Age'] = bf.binarizeCutOff(annotations, \\n                                                               'Participant_Procurement_Age', \\n                                                               700, 'Old', 'Young')\\n\""
      ]
     },
     "execution_count": 56,
     "metadata": {},
     "output_type": "execute_result"
    }
   ],
   "source": [
    "'''annotations['Participant_Procurement_Age'] = bf.binarizeCutOff(annotations, \n",
    "                                                               'Participant_Procurement_Age', \n",
    "                                                               700, 'Old', 'Young')\n",
    "'''"
   ]
  },
  {
   "cell_type": "code",
   "execution_count": 57,
   "metadata": {
    "collapsed": true
   },
   "outputs": [],
   "source": [
    "race_map = {'White':'White', \n",
    "            'Asian':'Not_White', \n",
    "            'Black or African American':'Not_White', \n",
    "            'Unknown (Could not be determined or unsure)':np.nan, \n",
    "            'American Indian or Alaska Native': 'Not_White'}\n",
    "\n",
    "annotations['Participant_Race'] = bf.binarizeCategorical(annotations, \n",
    "                                                         'Participant_Race', \n",
    "                                                         race_map)"
   ]
  },
  {
   "cell_type": "code",
   "execution_count": 58,
   "metadata": {
    "collapsed": true
   },
   "outputs": [],
   "source": [
    "jewish_map = {'Not Jewish':'Not_Jewish', \n",
    "              'Unknown':np.nan, \n",
    "              'Ashkenazi':'Jewish', \n",
    "              'Jewish, NOS':'Jewish'}\n",
    "\n",
    "annotations['Participant_Jewish_Heritage'] = bf.binarizeCategorical(annotations, \n",
    "                                                                    'Participant_Jewish_Heritage', \n",
    "                                                                    jewish_map)"
   ]
  },
  {
   "cell_type": "code",
   "execution_count": 59,
   "metadata": {},
   "outputs": [
    {
     "data": {
      "text/plain": [
       "\"annotations['Aliquots_Plasma'] = bf.binarizeCutOff(annotations, 'Aliquots_Plasma', \\n                                                   3.0, '3-4', '0-2')\\n\""
      ]
     },
     "execution_count": 59,
     "metadata": {},
     "output_type": "execute_result"
    }
   ],
   "source": [
    "'''annotations['Aliquots_Plasma'] = bf.binarizeCutOff(annotations, 'Aliquots_Plasma', \n",
    "                                                   3.0, '3-4', '0-2')\n",
    "'''"
   ]
  },
  {
   "cell_type": "code",
   "execution_count": 60,
   "metadata": {
    "collapsed": true
   },
   "outputs": [],
   "source": [
    "#Replace categorical 'Not Reported/ Unknown' with NaN and convert to numeric for easier binarization\n",
    "annotations['Blood_Collection_Time'] = annotations['Blood_Collection_Time'].replace('Not Reported/ Unknown', np.nan)\n",
    "annotations['Blood_Collection_Time'] = pd.to_numeric(annotations['Blood_Collection_Time'])\n",
    "\n",
    "#Binarize Column\n",
    "annotations['Blood_Collection_Time'] = bf.binarizeCutOff(annotations, \n",
    "                                                         'Blood_Collection_Time', \n",
    "                                                         1000, 'Long', 'Short')"
   ]
  },
  {
   "cell_type": "code",
   "execution_count": 61,
   "metadata": {
    "collapsed": true
   },
   "outputs": [],
   "source": [
    "blood_collection_method_map = {'Venipuncture (Vacutainer Apparatus)':'Venipuncture', \n",
    "                               'Venipuncture (Syringe)':'Venipuncture', 'IV Catheter':'IV'}\n",
    "\n",
    "annotations['Blood_Collection_Method'] = bf.binarizeCategorical(annotations, \n",
    "                                                                'Blood_Collection_Method', \n",
    "                                                                blood_collection_method_map)"
   ]
  },
  {
   "cell_type": "code",
   "execution_count": 62,
   "metadata": {},
   "outputs": [
    {
     "data": {
      "text/plain": [
       "\"annotations['Anesthesia_Time'] = bf.binarizeCutOff(annotations, 'Anesthesia_Time', \\n                                                   1000, 'Long', 'Short')\\n\""
      ]
     },
     "execution_count": 62,
     "metadata": {},
     "output_type": "execute_result"
    }
   ],
   "source": [
    "'''annotations['Anesthesia_Time'] = bf.binarizeCutOff(annotations, 'Anesthesia_Time', \n",
    "                                                   1000, 'Long', 'Short')\n",
    "'''"
   ]
  },
  {
   "cell_type": "code",
   "execution_count": 63,
   "metadata": {},
   "outputs": [
    {
     "data": {
      "text/plain": [
       "\"annotations['Tumor_Surgical_Devascularized_Time'] = bf.binarizeCutOff(annotations, \\n                                                                      'Tumor_Surgical_Devascularized_Time', \\n                                                                      1000, 'Long', 'Short')\\n\""
      ]
     },
     "execution_count": 63,
     "metadata": {},
     "output_type": "execute_result"
    }
   ],
   "source": [
    "'''annotations['Tumor_Surgical_Devascularized_Time'] = bf.binarizeCutOff(annotations, \n",
    "                                                                      'Tumor_Surgical_Devascularized_Time', \n",
    "                                                                      1000, 'Long', 'Short')\n",
    "'''"
   ]
  },
  {
   "cell_type": "code",
   "execution_count": 64,
   "metadata": {},
   "outputs": [
    {
     "data": {
      "text/plain": [
       "\"annotations['Tumor_Sample_Number'] = bf.binarizeCutOff(annotations,\\n                                                       'Tumor_Sample_Number', \\n                                                       4, '4-6', '1-3')\\n\""
      ]
     },
     "execution_count": 64,
     "metadata": {},
     "output_type": "execute_result"
    }
   ],
   "source": [
    "'''annotations['Tumor_Sample_Number'] = bf.binarizeCutOff(annotations,\n",
    "                                                       'Tumor_Sample_Number', \n",
    "                                                       4, '4-6', '1-3')\n",
    "'''"
   ]
  },
  {
   "cell_type": "code",
   "execution_count": 65,
   "metadata": {},
   "outputs": [
    {
     "data": {
      "text/plain": [
       "\"annotations['Tumor_Sample_1_Weight'] = bf.binarizeCutOff(annotations, \\n                                                         'Tumor_Sample_1_Weight', \\n                                                         1000, 'Heavy', 'Light')\\n\""
      ]
     },
     "execution_count": 65,
     "metadata": {},
     "output_type": "execute_result"
    }
   ],
   "source": [
    "'''annotations['Tumor_Sample_1_Weight'] = bf.binarizeCutOff(annotations, \n",
    "                                                         'Tumor_Sample_1_Weight', \n",
    "                                                         1000, 'Heavy', 'Light')\n",
    "'''"
   ]
  },
  {
   "cell_type": "code",
   "execution_count": 68,
   "metadata": {},
   "outputs": [
    {
     "data": {
      "text/plain": [
       "\"annotations['Tumor_Sample_1_LN2_Time'] = bf.binarizeCutOff(annotations, \\n                                                           'Tumor_Sample_1_LN2_Time', \\n                                                           1000, 'Long', 'Short')\\n\""
      ]
     },
     "execution_count": 68,
     "metadata": {},
     "output_type": "execute_result"
    }
   ],
   "source": [
    "'''annotations['Tumor_Sample_1_LN2_Time'] = bf.binarizeCutOff(annotations, \n",
    "                                                           'Tumor_Sample_1_LN2_Time', \n",
    "                                                           1000, 'Long', 'Short')\n",
    "'''"
   ]
  },
  {
   "cell_type": "code",
   "execution_count": 69,
   "metadata": {},
   "outputs": [
    {
     "data": {
      "text/plain": [
       "\"annotations['Tumor_Sample_1_Ischemia_Time'] = bf.binarizeCutOff(annotations, \\n                                                                'Tumor_Sample_1_Ischemia_Time', \\n                                                                15, 'Long', 'Short')\\n\""
      ]
     },
     "execution_count": 69,
     "metadata": {},
     "output_type": "execute_result"
    }
   ],
   "source": [
    "'''annotations['Tumor_Sample_1_Ischemia_Time'] = bf.binarizeCutOff(annotations, \n",
    "                                                                'Tumor_Sample_1_Ischemia_Time', \n",
    "                                                                15, 'Long', 'Short')\n",
    "'''"
   ]
  },
  {
   "cell_type": "code",
   "execution_count": 70,
   "metadata": {},
   "outputs": [
    {
     "data": {
      "text/plain": [
       "\"annotations['Tumor_Sample_2_Weight'] = bf.binarizeCutOff(annotations, \\n                                                         'Tumor_Sample_2_Weight', \\n                                                         600, 'Heavy', 'Light')\\n\""
      ]
     },
     "execution_count": 70,
     "metadata": {},
     "output_type": "execute_result"
    }
   ],
   "source": [
    "'''annotations['Tumor_Sample_2_Weight'] = bf.binarizeCutOff(annotations, \n",
    "                                                         'Tumor_Sample_2_Weight', \n",
    "                                                         600, 'Heavy', 'Light')\n",
    "'''"
   ]
  },
  {
   "cell_type": "code",
   "execution_count": 71,
   "metadata": {},
   "outputs": [
    {
     "data": {
      "text/plain": [
       "\"annotations['Tumor_Sample_2_LN2_Time'] = bf.binarizeCutOff(annotations, \\n                                                           'Tumor_Sample_2_LN2_Time', \\n                                                           1200, 'Long', 'Short')\\n\""
      ]
     },
     "execution_count": 71,
     "metadata": {},
     "output_type": "execute_result"
    }
   ],
   "source": [
    "'''annotations['Tumor_Sample_2_LN2_Time'] = bf.binarizeCutOff(annotations, \n",
    "                                                           'Tumor_Sample_2_LN2_Time', \n",
    "                                                           1200, 'Long', 'Short')\n",
    "'''"
   ]
  },
  {
   "cell_type": "code",
   "execution_count": 72,
   "metadata": {
    "collapsed": true
   },
   "outputs": [],
   "source": [
    "origin_site_map = {'Ovary':'Ovary', \n",
    "                   'Fallopian tube':'Other', \n",
    "                   'Peritoneum':'Other'}\n",
    "\n",
    "annotations['Origin_Site_Disease'] = bf.binarizeCategorical(annotations, \n",
    "                                                            'Origin_Site_Disease',\n",
    "                                                            origin_site_map)"
   ]
  },
  {
   "cell_type": "code",
   "execution_count": 73,
   "metadata": {
    "collapsed": true
   },
   "outputs": [],
   "source": [
    "anatomic_site_map = {'Ovary':'Ovary', \n",
    "                     'Omentum':'Other', \n",
    "                     'Pelvic mass':'Other', \n",
    "                     'Peritoneum':'Other', \n",
    "                     'Not Reported/ Unknown':np.nan}\n",
    "\n",
    "annotations['Anatomic_Site_Tumor'] = bf.binarizeCategorical(annotations, \n",
    "                                                            'Anatomic_Site_Tumor',\n",
    "                                                            anatomic_site_map)"
   ]
  },
  {
   "cell_type": "code",
   "execution_count": 74,
   "metadata": {
    "collapsed": true
   },
   "outputs": [],
   "source": [
    "anatomic_lateral_map = {'Not applicable':'Other',\n",
    "                        'Right':'Right',\n",
    "                        'Left':'Other', \n",
    "                        'Not Reported/ Unknown':np.nan, \n",
    "                        'Bilateral':'Other'}\n",
    "\n",
    "annotations['Anatomic_Lateral_Position_Tumor'] = bf.binarizeCategorical(annotations,\n",
    "                                                                        'Anatomic_Lateral_Position_Tumor',\n",
    "                                                                        anatomic_lateral_map)"
   ]
  },
  {
   "cell_type": "code",
   "execution_count": 75,
   "metadata": {
    "collapsed": true
   },
   "outputs": [],
   "source": [
    "path_diagnosis_map = {'Tumor resection': 'Tumor resection',\n",
    "                      'Excisional Biopsy':'Biopsy', \n",
    "                      'Excisional Biopsy':'Biopsy'}\n",
    "\n",
    "annotations['Method_of_Pathologic_Diagnosis'] = bf.binarizeCategorical(annotations,\n",
    "                                                                       'Method_of_Pathologic_Diagnosis',\n",
    "                                                                       path_diagnosis_map)"
   ]
  },
  {
   "cell_type": "code",
   "execution_count": 76,
   "metadata": {
    "collapsed": true
   },
   "outputs": [],
   "source": [
    "tumor_stage_map = {'IC':'I_or_II', \n",
    "                   'IIB':'I_or_II', \n",
    "                   'III':'III_or_IV', \n",
    "                   'IIIA':'III_or_IV', \n",
    "                   'IIIB':'III_or_IV', \n",
    "                   'IIIC':'III_or_IV', \n",
    "                   'IV':'III_or_IV', \n",
    "                   'Not Reported/ Unknown':np.nan}\n",
    "\n",
    "annotations['Tumor_Stage_Ovary_FIGO'] = bf.binarizeCategorical(annotations, \n",
    "                                                               'Tumor_Stage_Ovary_FIGO', \n",
    "                                                               tumor_stage_map)"
   ]
  },
  {
   "cell_type": "code",
   "execution_count": 82,
   "metadata": {
    "collapsed": true
   },
   "outputs": [],
   "source": [
    "tumor_grade_map = {'G3':'G3', 'Not Reported/ Unknown':np.nan, \n",
    "                   'G2':'Other', 'G1':'Other', \n",
    "                   'GB':'Other', 'GX':'Other'}\n",
    "\n",
    "annotations['Tumor_Grade'] = bf.binarizeCategorical(annotations, \n",
    "                                                    'Tumor_Grade', \n",
    "                                                    tumor_grade_map)"
   ]
  },
  {
   "cell_type": "code",
   "execution_count": 83,
   "metadata": {},
   "outputs": [],
   "source": [
    "resid_max_diam_map = {'None':'0-10 mm', \n",
    "                      '1-10 mm': '0-10 mm', \n",
    "                      'greater than 20 mm':'greater than 11 mm', \n",
    "                      'Not Reported/ Unknown':np.nan, \n",
    "                      '11-20 mm':'greater than 11 mm'}\n",
    "\n",
    "annotations['Tumor_Residual_Disease_Max_Diameter'] = bf.binarizeCategorical(annotations, \n",
    "                                                                            'Tumor_Residual_Disease_Max_Diameter', \n",
    "                                                                            resid_max_diam_map)"
   ]
  },
  {
   "cell_type": "code",
   "execution_count": 84,
   "metadata": {},
   "outputs": [],
   "source": [
    "annotations['Tumor_Status'] = annotations['Tumor_Status'].replace('Not Reported/Unknown', np.nan)"
   ]
  },
  {
   "cell_type": "code",
   "execution_count": 85,
   "metadata": {
    "collapsed": true
   },
   "outputs": [],
   "source": [
    "annotations['Review_Of_Initial_Pathological_Findings'] = annotations['Review_Of_Initial_Pathological_Findings'].replace('Not Applicable', np.nan)"
   ]
  },
  {
   "cell_type": "code",
   "execution_count": 86,
   "metadata": {
    "collapsed": true
   },
   "outputs": [],
   "source": [
    "annotations['Adjuvant_Pharmaceutical_Therapy'] = annotations['Adjuvant_Pharmaceutical_Therapy'].replace('Not Reported/Unknown', np.nan)"
   ]
  },
  {
   "cell_type": "code",
   "execution_count": 87,
   "metadata": {
    "collapsed": true
   },
   "outputs": [],
   "source": [
    "annotations['Adjuvant_Immunotherapy'] = annotations['Adjuvant_Immunotherapy'].replace('Not Reported/Unknown', np.nan)"
   ]
  },
  {
   "cell_type": "code",
   "execution_count": 88,
   "metadata": {
    "collapsed": true
   },
   "outputs": [],
   "source": [
    "annotations['Adjuvant_Hormone_Therapy'] = annotations['Adjuvant_Hormone_Therapy'].replace('Not Reported/Unknown', np.nan)"
   ]
  },
  {
   "cell_type": "code",
   "execution_count": 89,
   "metadata": {
    "collapsed": true
   },
   "outputs": [],
   "source": [
    "annotations['Adjuvant_Targeted_Molecular_Therapy'] = annotations['Adjuvant_Targeted_Molecular_Therapy'].replace('Not Reported/Unknown', np.nan)"
   ]
  },
  {
   "cell_type": "code",
   "execution_count": 90,
   "metadata": {
    "collapsed": true
   },
   "outputs": [],
   "source": [
    "response_map = {'Complete Response':'Complete_or_Partial_Response', \n",
    "                'Partial Response':'Complete_or_Partial_Response', \n",
    "                'Stable Disease':'Stable_or_Progressive_Disease', \n",
    "                'Not Reported/Unknown':np.nan, \n",
    "                'Progressive Disease':'Stable_or_Progressive_Disease'}\n",
    "\n",
    "annotations['Response_After_Surgery_And_Adjuvant_Therapies'] = bf.binarizeCategorical(annotations, \n",
    "                                                                                      'Response_After_Surgery_And_Adjuvant_Therapies', \n",
    "                                                                                      response_map)"
   ]
  },
  {
   "cell_type": "code",
   "execution_count": 94,
   "metadata": {},
   "outputs": [],
   "source": [
    "new_tumor_map = {'No':'No', 'Yes':'Yes',\n",
    "                 'Not Reported/Unknown':np.nan, \n",
    "                 'Not Applicable':np.nan}\n",
    "\n",
    "annotations['New_Tumor_Event_After_Initial_Treatment'] = bf.binarizeCategorical(annotations, \n",
    "                                                                                'New_Tumor_Event_After_Initial_Treatment',\n",
    "                                                                                new_tumor_map)"
   ]
  },
  {
   "cell_type": "code",
   "execution_count": 95,
   "metadata": {
    "collapsed": true
   },
   "outputs": [],
   "source": [
    "new_tumor_type_map = {'Locoregional Disease':'Locoregional_and_or_Distant_Metastasis', \n",
    "                      'Both Locoregional and Distant Metastasis':'Locoregional_and_or_Distant_Metastisis',\n",
    "                      'Metastatic':'Metastatic', 'Not Reported/Unknown':np.nan}\n",
    "\n",
    "annotations['New_Tumor_Event_Type'] = bf.binarizeCategorical(annotations,\n",
    "                                                             'New_Tumor_Event_Type',\n",
    "                                                             new_tumor_type_map)"
   ]
  },
  {
   "cell_type": "code",
   "execution_count": 96,
   "metadata": {
    "collapsed": true
   },
   "outputs": [],
   "source": [
    "new_tumor_site_map = {'Abdomen':'Abdomen', \n",
    "                      'Chest; Abdomen':'Abdomen', \n",
    "                      'Lymph Node only (specify location)':'Other', \n",
    "                      'Other (specify)':'Other', \n",
    "                      'Abdomen; Chest':'Abdomen', \n",
    "                      'Other (specify); Chest':'Other', \n",
    "                      'Abdomen; Other (specify); Pelvis':'Abdomen', \n",
    "                      'Pelvis; Abdomen':'Abdomen'}\n",
    "\n",
    "annotations['New_Tumor_Event_Site'] = bf.binarizeCategorical(annotations,\n",
    "                                                             'New_Tumor_Event_Site',\n",
    "                                                             new_tumor_site_map)"
   ]
  },
  {
   "cell_type": "code",
   "execution_count": 97,
   "metadata": {
    "collapsed": true
   },
   "outputs": [],
   "source": [
    "diagnosis_map = {'Convincing imaging':'Convincing imaging', \n",
    "                 'Positive Biomarkers':'Biomarkers_or_Seen_at_Surgery', \n",
    "                 'First seen at further surgery':'Biomarkers_or_Seen_at_Surgery'}\n",
    "\n",
    "annotations['New_Tumor_Event_Diagnosis'] = bf.binarizeCategorical(annotations, \n",
    "                                                                  'New_Tumor_Event_Diagnosis', \n",
    "                                                                  diagnosis_map)"
   ]
  },
  {
   "cell_type": "code",
   "execution_count": 98,
   "metadata": {
    "collapsed": true
   },
   "outputs": [],
   "source": [
    "annotations['New_Tumor_Event_Surgery'] = annotations['New_Tumor_Event_Surgery'].replace('Not Reported/Unknown', np.nan)"
   ]
  },
  {
   "cell_type": "code",
   "execution_count": 99,
   "metadata": {
    "collapsed": true
   },
   "outputs": [],
   "source": [
    "annotations['New_Tumor_Event_Chemotherapy'] = annotations['New_Tumor_Event_Chemotherapy'].replace('Not Reported/Unknown', np.nan)"
   ]
  },
  {
   "cell_type": "code",
   "execution_count": 100,
   "metadata": {
    "collapsed": true
   },
   "outputs": [],
   "source": [
    "annotations['New_Tumor_Event_Immunotherapy'] = annotations['New_Tumor_Event_Immunotherapy'].replace('Not Reported/Unknown', np.nan)"
   ]
  },
  {
   "cell_type": "code",
   "execution_count": 101,
   "metadata": {
    "collapsed": true
   },
   "outputs": [],
   "source": [
    "annotations['New_Tumor_Event_Targeted_Molecular_Therapy'] = annotations['New_Tumor_Event_Targeted_Molecular_Therapy'].replace('Not Reported/Unknown', np.nan)"
   ]
  },
  {
   "cell_type": "markdown",
   "metadata": {},
   "source": [
    "## Step 3: Perform outliers analysis"
   ]
  },
  {
   "cell_type": "code",
   "execution_count": 102,
   "metadata": {},
   "outputs": [],
   "source": [
    "outliers_prot = blsh.make_outliers_table(proteomics, iqrs=1.5, \n",
    "                                         up_or_down='up', \n",
    "                                         aggregate=False, \n",
    "                                         frac_table=False)\n",
    "\n",
    "outliers_trans = blsh.make_outliers_table(transcriptomics, iqrs=1.5, \n",
    "                                          up_or_down='up', \n",
    "                                          aggregate=False, \n",
    "                                          frac_table=False)"
   ]
  },
  {
   "cell_type": "markdown",
   "metadata": {},
   "source": [
    "## Step 4: Wrap your A/B test into the outliers analysis, and create a table\n",
    "First for proteomics, and then phosphoproteomics."
   ]
  },
  {
   "cell_type": "code",
   "execution_count": 103,
   "metadata": {},
   "outputs": [
    {
     "ename": "KeyError",
     "evalue": "\"['S010_outliers', 'S109_outliers', 'S034_outliers', 'S004_outliers', 'S008_outliers', 'S036_outliers', 'S003_outliers', 'S020_outliers', 'S077_outliers', 'S017_outliers', 'S081_outliers', 'S001_outliers', 'S092_outliers', 'S073_outliers', 'S018_outliers'] not in index\"",
     "output_type": "error",
     "traceback": [
      "\u001b[1;31m---------------------------------------------------------------------------\u001b[0m",
      "\u001b[1;31mKeyError\u001b[0m                                  Traceback (most recent call last)",
      "\u001b[1;32m<ipython-input-103-c3c99618f6fd>\u001b[0m in \u001b[0;36m<module>\u001b[1;34m()\u001b[0m\n\u001b[0;32m      1\u001b[0m results_prot = blsh.compare_groups_outliers(outliers_prot, \n\u001b[1;32m----> 2\u001b[1;33m                                             annotations)\n\u001b[0m",
      "\u001b[1;32m~\\Documents\\GitHub\\WhenMutationsMatter\\Daniel\\blackSheepCPTACmoduleCopy.py\u001b[0m in \u001b[0;36mcompare_groups_outliers\u001b[1;34m(outliers, annotations, frac_filter)\u001b[0m\n\u001b[0;32m    179\u001b[0m         \u001b[0mgroup0_label\u001b[0m\u001b[1;33m,\u001b[0m \u001b[0mgroup0\u001b[0m\u001b[1;33m,\u001b[0m \u001b[0mgroup1_label\u001b[0m\u001b[1;33m,\u001b[0m \u001b[0mgroup1\u001b[0m \u001b[1;33m=\u001b[0m \u001b[0mgetSampleLists\u001b[0m\u001b[1;33m(\u001b[0m\u001b[0mannotations\u001b[0m\u001b[1;33m,\u001b[0m \u001b[0mcomp\u001b[0m\u001b[1;33m)\u001b[0m\u001b[1;33m\u001b[0m\u001b[0m\n\u001b[0;32m    180\u001b[0m         \u001b[0mlabel0\u001b[0m \u001b[1;33m=\u001b[0m \u001b[1;34m'%s_%s_enrichment_FDR'\u001b[0m \u001b[1;33m%\u001b[0m\u001b[1;33m(\u001b[0m\u001b[0mcomp\u001b[0m\u001b[1;33m,\u001b[0m \u001b[0mgroup0_label\u001b[0m\u001b[1;33m)\u001b[0m\u001b[1;33m\u001b[0m\u001b[0m\n\u001b[1;32m--> 181\u001b[1;33m         \u001b[0mdf\u001b[0m \u001b[1;33m=\u001b[0m \u001b[0mfilterOutliers\u001b[0m\u001b[1;33m(\u001b[0m\u001b[0moutliers\u001b[0m\u001b[1;33m,\u001b[0m \u001b[0mgroup0\u001b[0m\u001b[1;33m,\u001b[0m \u001b[0mgroup1\u001b[0m\u001b[1;33m,\u001b[0m \u001b[0mfrac_filter\u001b[0m\u001b[1;33m)\u001b[0m\u001b[1;33m\u001b[0m\u001b[0m\n\u001b[0m\u001b[0;32m    182\u001b[0m         \u001b[1;32mif\u001b[0m \u001b[0mlen\u001b[0m\u001b[1;33m(\u001b[0m\u001b[0mdf\u001b[0m\u001b[1;33m)\u001b[0m \u001b[1;33m>\u001b[0m \u001b[1;36m0\u001b[0m\u001b[1;33m:\u001b[0m\u001b[1;33m\u001b[0m\u001b[0m\n\u001b[0;32m    183\u001b[0m             \u001b[0mprint\u001b[0m\u001b[1;33m(\u001b[0m\u001b[1;34m\"Testing %s rows for enrichment in %s %s samples\"\u001b[0m \u001b[1;33m%\u001b[0m\u001b[1;33m(\u001b[0m\u001b[0mlen\u001b[0m\u001b[1;33m(\u001b[0m\u001b[0mdf\u001b[0m\u001b[1;33m)\u001b[0m\u001b[1;33m,\u001b[0m \u001b[0mcomp\u001b[0m\u001b[1;33m,\u001b[0m \u001b[0mgroup0_label\u001b[0m\u001b[1;33m)\u001b[0m\u001b[1;33m)\u001b[0m\u001b[1;33m\u001b[0m\u001b[0m\n",
      "\u001b[1;32m~\\Documents\\GitHub\\WhenMutationsMatter\\Daniel\\blackSheepCPTACmoduleCopy.py\u001b[0m in \u001b[0;36mfilterOutliers\u001b[1;34m(df, group0_list, group1_list, frac_filter)\u001b[0m\n\u001b[0;32m    139\u001b[0m     \u001b[1;32mif\u001b[0m \u001b[0mfrac_filter\u001b[0m\u001b[1;33m!=\u001b[0m\u001b[1;32mNone\u001b[0m\u001b[1;33m:\u001b[0m\u001b[1;33m\u001b[0m\u001b[0m\n\u001b[0;32m    140\u001b[0m         \u001b[0mmin_num_outlier_samps\u001b[0m \u001b[1;33m=\u001b[0m \u001b[0mlen\u001b[0m\u001b[1;33m(\u001b[0m\u001b[0mgroup0_list\u001b[0m\u001b[1;33m)\u001b[0m \u001b[1;33m*\u001b[0m \u001b[0mfrac_filter\u001b[0m\u001b[1;33m\u001b[0m\u001b[0m\n\u001b[1;32m--> 141\u001b[1;33m         \u001b[0mnum_outlier_samps\u001b[0m \u001b[1;33m=\u001b[0m \u001b[1;33m(\u001b[0m\u001b[0mdf\u001b[0m\u001b[1;33m[\u001b[0m\u001b[0mgroup0_outliers\u001b[0m\u001b[1;33m]\u001b[0m \u001b[1;33m>\u001b[0m \u001b[1;36m0\u001b[0m\u001b[1;33m)\u001b[0m\u001b[1;33m.\u001b[0m\u001b[0msum\u001b[0m\u001b[1;33m(\u001b[0m\u001b[0maxis\u001b[0m\u001b[1;33m=\u001b[0m\u001b[1;36m1\u001b[0m\u001b[1;33m)\u001b[0m\u001b[1;33m\u001b[0m\u001b[0m\n\u001b[0m\u001b[0;32m    142\u001b[0m         \u001b[0mdf\u001b[0m \u001b[1;33m=\u001b[0m \u001b[0mdf\u001b[0m\u001b[1;33m.\u001b[0m\u001b[0mloc\u001b[0m\u001b[1;33m[\u001b[0m\u001b[0mnum_outlier_samps\u001b[0m \u001b[1;33m>=\u001b[0m \u001b[0mmin_num_outlier_samps\u001b[0m\u001b[1;33m,\u001b[0m \u001b[1;33m:\u001b[0m\u001b[1;33m]\u001b[0m\u001b[1;33m\u001b[0m\u001b[0m\n\u001b[0;32m    143\u001b[0m \u001b[1;33m\u001b[0m\u001b[0m\n",
      "\u001b[1;32m~\\AppData\\Local\\conda\\conda\\envs\\Research\\lib\\site-packages\\pandas\\core\\frame.py\u001b[0m in \u001b[0;36m__getitem__\u001b[1;34m(self, key)\u001b[0m\n\u001b[0;32m   2932\u001b[0m                 \u001b[0mkey\u001b[0m \u001b[1;33m=\u001b[0m \u001b[0mlist\u001b[0m\u001b[1;33m(\u001b[0m\u001b[0mkey\u001b[0m\u001b[1;33m)\u001b[0m\u001b[1;33m\u001b[0m\u001b[0m\n\u001b[0;32m   2933\u001b[0m             indexer = self.loc._convert_to_indexer(key, axis=1,\n\u001b[1;32m-> 2934\u001b[1;33m                                                    raise_missing=True)\n\u001b[0m\u001b[0;32m   2935\u001b[0m \u001b[1;33m\u001b[0m\u001b[0m\n\u001b[0;32m   2936\u001b[0m         \u001b[1;31m# take() does not accept boolean indexers\u001b[0m\u001b[1;33m\u001b[0m\u001b[1;33m\u001b[0m\u001b[0m\n",
      "\u001b[1;32m~\\AppData\\Local\\conda\\conda\\envs\\Research\\lib\\site-packages\\pandas\\core\\indexing.py\u001b[0m in \u001b[0;36m_convert_to_indexer\u001b[1;34m(self, obj, axis, is_setter, raise_missing)\u001b[0m\n\u001b[0;32m   1352\u001b[0m                 kwargs = {'raise_missing': True if is_setter else\n\u001b[0;32m   1353\u001b[0m                           raise_missing}\n\u001b[1;32m-> 1354\u001b[1;33m                 \u001b[1;32mreturn\u001b[0m \u001b[0mself\u001b[0m\u001b[1;33m.\u001b[0m\u001b[0m_get_listlike_indexer\u001b[0m\u001b[1;33m(\u001b[0m\u001b[0mobj\u001b[0m\u001b[1;33m,\u001b[0m \u001b[0maxis\u001b[0m\u001b[1;33m,\u001b[0m \u001b[1;33m**\u001b[0m\u001b[0mkwargs\u001b[0m\u001b[1;33m)\u001b[0m\u001b[1;33m[\u001b[0m\u001b[1;36m1\u001b[0m\u001b[1;33m]\u001b[0m\u001b[1;33m\u001b[0m\u001b[0m\n\u001b[0m\u001b[0;32m   1355\u001b[0m         \u001b[1;32melse\u001b[0m\u001b[1;33m:\u001b[0m\u001b[1;33m\u001b[0m\u001b[0m\n\u001b[0;32m   1356\u001b[0m             \u001b[1;32mtry\u001b[0m\u001b[1;33m:\u001b[0m\u001b[1;33m\u001b[0m\u001b[0m\n",
      "\u001b[1;32m~\\AppData\\Local\\conda\\conda\\envs\\Research\\lib\\site-packages\\pandas\\core\\indexing.py\u001b[0m in \u001b[0;36m_get_listlike_indexer\u001b[1;34m(self, key, axis, raise_missing)\u001b[0m\n\u001b[0;32m   1159\u001b[0m         self._validate_read_indexer(keyarr, indexer,\n\u001b[0;32m   1160\u001b[0m                                     \u001b[0mo\u001b[0m\u001b[1;33m.\u001b[0m\u001b[0m_get_axis_number\u001b[0m\u001b[1;33m(\u001b[0m\u001b[0maxis\u001b[0m\u001b[1;33m)\u001b[0m\u001b[1;33m,\u001b[0m\u001b[1;33m\u001b[0m\u001b[0m\n\u001b[1;32m-> 1161\u001b[1;33m                                     raise_missing=raise_missing)\n\u001b[0m\u001b[0;32m   1162\u001b[0m         \u001b[1;32mreturn\u001b[0m \u001b[0mkeyarr\u001b[0m\u001b[1;33m,\u001b[0m \u001b[0mindexer\u001b[0m\u001b[1;33m\u001b[0m\u001b[0m\n\u001b[0;32m   1163\u001b[0m \u001b[1;33m\u001b[0m\u001b[0m\n",
      "\u001b[1;32m~\\AppData\\Local\\conda\\conda\\envs\\Research\\lib\\site-packages\\pandas\\core\\indexing.py\u001b[0m in \u001b[0;36m_validate_read_indexer\u001b[1;34m(self, key, indexer, axis, raise_missing)\u001b[0m\n\u001b[0;32m   1250\u001b[0m             \u001b[1;32mif\u001b[0m \u001b[1;32mnot\u001b[0m\u001b[1;33m(\u001b[0m\u001b[0mself\u001b[0m\u001b[1;33m.\u001b[0m\u001b[0mname\u001b[0m \u001b[1;33m==\u001b[0m \u001b[1;34m'loc'\u001b[0m \u001b[1;32mand\u001b[0m \u001b[1;32mnot\u001b[0m \u001b[0mraise_missing\u001b[0m\u001b[1;33m)\u001b[0m\u001b[1;33m:\u001b[0m\u001b[1;33m\u001b[0m\u001b[0m\n\u001b[0;32m   1251\u001b[0m                 \u001b[0mnot_found\u001b[0m \u001b[1;33m=\u001b[0m \u001b[0mlist\u001b[0m\u001b[1;33m(\u001b[0m\u001b[0mset\u001b[0m\u001b[1;33m(\u001b[0m\u001b[0mkey\u001b[0m\u001b[1;33m)\u001b[0m \u001b[1;33m-\u001b[0m \u001b[0mset\u001b[0m\u001b[1;33m(\u001b[0m\u001b[0max\u001b[0m\u001b[1;33m)\u001b[0m\u001b[1;33m)\u001b[0m\u001b[1;33m\u001b[0m\u001b[0m\n\u001b[1;32m-> 1252\u001b[1;33m                 \u001b[1;32mraise\u001b[0m \u001b[0mKeyError\u001b[0m\u001b[1;33m(\u001b[0m\u001b[1;34m\"{} not in index\"\u001b[0m\u001b[1;33m.\u001b[0m\u001b[0mformat\u001b[0m\u001b[1;33m(\u001b[0m\u001b[0mnot_found\u001b[0m\u001b[1;33m)\u001b[0m\u001b[1;33m)\u001b[0m\u001b[1;33m\u001b[0m\u001b[0m\n\u001b[0m\u001b[0;32m   1253\u001b[0m \u001b[1;33m\u001b[0m\u001b[0m\n\u001b[0;32m   1254\u001b[0m             \u001b[1;31m# we skip the warning on Categorical/Interval\u001b[0m\u001b[1;33m\u001b[0m\u001b[1;33m\u001b[0m\u001b[0m\n",
      "\u001b[1;31mKeyError\u001b[0m: \"['S010_outliers', 'S109_outliers', 'S034_outliers', 'S004_outliers', 'S008_outliers', 'S036_outliers', 'S003_outliers', 'S020_outliers', 'S077_outliers', 'S017_outliers', 'S081_outliers', 'S001_outliers', 'S092_outliers', 'S073_outliers', 'S018_outliers'] not in index\""
     ]
    }
   ],
   "source": [
    "#Breaks here because of indexing errors\n",
    "results_prot = blsh.compare_groups_outliers(outliers_prot, \n",
    "                                            annotations)"
   ]
  },
  {
   "cell_type": "code",
   "execution_count": 39,
   "metadata": {},
   "outputs": [
    {
     "ename": "KeyError",
     "evalue": "\"['S139_outliers', 'S146_outliers', 'S131_outliers', 'S135_outliers', 'S113_outliers', 'S147_outliers', 'S110_outliers', 'S132_outliers', 'S115_outliers', 'S136_outliers', 'S133_outliers', 'S141_outliers', 'S151_outliers', 'S109_outliers', 'S149_outliers', 'S116_outliers', 'S118_outliers', 'S126_outliers', 'S134_outliers', 'S144_outliers', 'S148_outliers', 'S140_outliers', 'S142_outliers', 'S112_outliers', 'S117_outliers', 'S138_outliers', 'S152_outliers', 'S153_outliers', 'S137_outliers', 'S145_outliers', 'S130_outliers', 'S150_outliers', 'S143_outliers', 'S123_outliers', 'S114_outliers'] not in index\"",
     "output_type": "error",
     "traceback": [
      "\u001b[1;31m---------------------------------------------------------------------------\u001b[0m",
      "\u001b[1;31mKeyError\u001b[0m                                  Traceback (most recent call last)",
      "\u001b[1;32m<ipython-input-39-b99df1ee8cce>\u001b[0m in \u001b[0;36m<module>\u001b[1;34m()\u001b[0m\n\u001b[0;32m      1\u001b[0m results_trans = blsh.compare_groups_outliers(outliers_trans, \n\u001b[1;32m----> 2\u001b[1;33m                                              annotations)\n\u001b[0m",
      "\u001b[1;32m~\\Documents\\GitHub\\WhenMutationsMatter\\Daniel\\blackSheepCPTACmoduleCopy.py\u001b[0m in \u001b[0;36mcompare_groups_outliers\u001b[1;34m(outliers, annotations, frac_filter)\u001b[0m\n\u001b[0;32m    179\u001b[0m         \u001b[0mgroup0_label\u001b[0m\u001b[1;33m,\u001b[0m \u001b[0mgroup0\u001b[0m\u001b[1;33m,\u001b[0m \u001b[0mgroup1_label\u001b[0m\u001b[1;33m,\u001b[0m \u001b[0mgroup1\u001b[0m \u001b[1;33m=\u001b[0m \u001b[0mgetSampleLists\u001b[0m\u001b[1;33m(\u001b[0m\u001b[0mannotations\u001b[0m\u001b[1;33m,\u001b[0m \u001b[0mcomp\u001b[0m\u001b[1;33m)\u001b[0m\u001b[1;33m\u001b[0m\u001b[0m\n\u001b[0;32m    180\u001b[0m         \u001b[0mlabel0\u001b[0m \u001b[1;33m=\u001b[0m \u001b[1;34m'%s_%s_enrichment_FDR'\u001b[0m \u001b[1;33m%\u001b[0m\u001b[1;33m(\u001b[0m\u001b[0mcomp\u001b[0m\u001b[1;33m,\u001b[0m \u001b[0mgroup0_label\u001b[0m\u001b[1;33m)\u001b[0m\u001b[1;33m\u001b[0m\u001b[0m\n\u001b[1;32m--> 181\u001b[1;33m         \u001b[0mdf\u001b[0m \u001b[1;33m=\u001b[0m \u001b[0mfilterOutliers\u001b[0m\u001b[1;33m(\u001b[0m\u001b[0moutliers\u001b[0m\u001b[1;33m,\u001b[0m \u001b[0mgroup0\u001b[0m\u001b[1;33m,\u001b[0m \u001b[0mgroup1\u001b[0m\u001b[1;33m,\u001b[0m \u001b[0mfrac_filter\u001b[0m\u001b[1;33m)\u001b[0m\u001b[1;33m\u001b[0m\u001b[0m\n\u001b[0m\u001b[0;32m    182\u001b[0m         \u001b[1;32mif\u001b[0m \u001b[0mlen\u001b[0m\u001b[1;33m(\u001b[0m\u001b[0mdf\u001b[0m\u001b[1;33m)\u001b[0m \u001b[1;33m>\u001b[0m \u001b[1;36m0\u001b[0m\u001b[1;33m:\u001b[0m\u001b[1;33m\u001b[0m\u001b[0m\n\u001b[0;32m    183\u001b[0m             \u001b[0mprint\u001b[0m\u001b[1;33m(\u001b[0m\u001b[1;34m\"Testing %s rows for enrichment in %s %s samples\"\u001b[0m \u001b[1;33m%\u001b[0m\u001b[1;33m(\u001b[0m\u001b[0mlen\u001b[0m\u001b[1;33m(\u001b[0m\u001b[0mdf\u001b[0m\u001b[1;33m)\u001b[0m\u001b[1;33m,\u001b[0m \u001b[0mcomp\u001b[0m\u001b[1;33m,\u001b[0m \u001b[0mgroup0_label\u001b[0m\u001b[1;33m)\u001b[0m\u001b[1;33m)\u001b[0m\u001b[1;33m\u001b[0m\u001b[0m\n",
      "\u001b[1;32m~\\Documents\\GitHub\\WhenMutationsMatter\\Daniel\\blackSheepCPTACmoduleCopy.py\u001b[0m in \u001b[0;36mfilterOutliers\u001b[1;34m(df, group0_list, group1_list, frac_filter)\u001b[0m\n\u001b[0;32m    144\u001b[0m     \u001b[1;31m# Filter for higher proportion of outliers in group0 than group1\u001b[0m\u001b[1;33m\u001b[0m\u001b[1;33m\u001b[0m\u001b[0m\n\u001b[0;32m    145\u001b[0m     \u001b[0mgroup0_outlier_rate\u001b[0m \u001b[1;33m=\u001b[0m \u001b[0mdf\u001b[0m\u001b[1;33m[\u001b[0m\u001b[0mgroup0_outliers\u001b[0m\u001b[1;33m]\u001b[0m\u001b[1;33m.\u001b[0m\u001b[0msum\u001b[0m\u001b[1;33m(\u001b[0m\u001b[0maxis\u001b[0m\u001b[1;33m=\u001b[0m\u001b[1;36m1\u001b[0m\u001b[1;33m)\u001b[0m\u001b[1;33m.\u001b[0m\u001b[0mdivide\u001b[0m\u001b[1;33m(\u001b[0m\u001b[0mdf\u001b[0m\u001b[1;33m[\u001b[0m\u001b[0mgroup0_outliers\u001b[0m\u001b[1;33m+\u001b[0m\u001b[0mgroup0_notOutliers\u001b[0m\u001b[1;33m]\u001b[0m\u001b[1;33m.\u001b[0m\u001b[0msum\u001b[0m\u001b[1;33m(\u001b[0m\u001b[0maxis\u001b[0m\u001b[1;33m=\u001b[0m\u001b[1;36m1\u001b[0m\u001b[1;33m)\u001b[0m\u001b[1;33m,\u001b[0m \u001b[0maxis\u001b[0m\u001b[1;33m=\u001b[0m\u001b[1;36m0\u001b[0m\u001b[1;33m)\u001b[0m\u001b[1;33m\u001b[0m\u001b[0m\n\u001b[1;32m--> 146\u001b[1;33m     \u001b[0mgroup1_outlier_rate\u001b[0m \u001b[1;33m=\u001b[0m \u001b[0mdf\u001b[0m\u001b[1;33m[\u001b[0m\u001b[0mgroup1_outliers\u001b[0m\u001b[1;33m]\u001b[0m\u001b[1;33m.\u001b[0m\u001b[0msum\u001b[0m\u001b[1;33m(\u001b[0m\u001b[0maxis\u001b[0m\u001b[1;33m=\u001b[0m\u001b[1;36m1\u001b[0m\u001b[1;33m)\u001b[0m\u001b[1;33m.\u001b[0m\u001b[0mdivide\u001b[0m\u001b[1;33m(\u001b[0m\u001b[0mdf\u001b[0m\u001b[1;33m[\u001b[0m\u001b[0mgroup0_outliers\u001b[0m\u001b[1;33m+\u001b[0m\u001b[0mgroup1_notOutliers\u001b[0m\u001b[1;33m]\u001b[0m\u001b[1;33m.\u001b[0m\u001b[0msum\u001b[0m\u001b[1;33m(\u001b[0m\u001b[0maxis\u001b[0m\u001b[1;33m=\u001b[0m\u001b[1;36m1\u001b[0m\u001b[1;33m)\u001b[0m\u001b[1;33m,\u001b[0m \u001b[0maxis\u001b[0m\u001b[1;33m=\u001b[0m\u001b[1;36m0\u001b[0m\u001b[1;33m)\u001b[0m\u001b[1;33m\u001b[0m\u001b[0m\n\u001b[0m\u001b[0;32m    147\u001b[0m \u001b[1;33m\u001b[0m\u001b[0m\n\u001b[0;32m    148\u001b[0m     \u001b[0mdf\u001b[0m \u001b[1;33m=\u001b[0m \u001b[0mdf\u001b[0m\u001b[1;33m.\u001b[0m\u001b[0mloc\u001b[0m\u001b[1;33m[\u001b[0m\u001b[0mgroup0_outlier_rate\u001b[0m\u001b[1;33m>\u001b[0m\u001b[0mgroup1_outlier_rate\u001b[0m\u001b[1;33m,\u001b[0m \u001b[1;33m:\u001b[0m\u001b[1;33m]\u001b[0m\u001b[1;33m\u001b[0m\u001b[0m\n",
      "\u001b[1;32m~\\AppData\\Local\\conda\\conda\\envs\\Research\\lib\\site-packages\\pandas\\core\\frame.py\u001b[0m in \u001b[0;36m__getitem__\u001b[1;34m(self, key)\u001b[0m\n\u001b[0;32m   2932\u001b[0m                 \u001b[0mkey\u001b[0m \u001b[1;33m=\u001b[0m \u001b[0mlist\u001b[0m\u001b[1;33m(\u001b[0m\u001b[0mkey\u001b[0m\u001b[1;33m)\u001b[0m\u001b[1;33m\u001b[0m\u001b[0m\n\u001b[0;32m   2933\u001b[0m             indexer = self.loc._convert_to_indexer(key, axis=1,\n\u001b[1;32m-> 2934\u001b[1;33m                                                    raise_missing=True)\n\u001b[0m\u001b[0;32m   2935\u001b[0m \u001b[1;33m\u001b[0m\u001b[0m\n\u001b[0;32m   2936\u001b[0m         \u001b[1;31m# take() does not accept boolean indexers\u001b[0m\u001b[1;33m\u001b[0m\u001b[1;33m\u001b[0m\u001b[0m\n",
      "\u001b[1;32m~\\AppData\\Local\\conda\\conda\\envs\\Research\\lib\\site-packages\\pandas\\core\\indexing.py\u001b[0m in \u001b[0;36m_convert_to_indexer\u001b[1;34m(self, obj, axis, is_setter, raise_missing)\u001b[0m\n\u001b[0;32m   1352\u001b[0m                 kwargs = {'raise_missing': True if is_setter else\n\u001b[0;32m   1353\u001b[0m                           raise_missing}\n\u001b[1;32m-> 1354\u001b[1;33m                 \u001b[1;32mreturn\u001b[0m \u001b[0mself\u001b[0m\u001b[1;33m.\u001b[0m\u001b[0m_get_listlike_indexer\u001b[0m\u001b[1;33m(\u001b[0m\u001b[0mobj\u001b[0m\u001b[1;33m,\u001b[0m \u001b[0maxis\u001b[0m\u001b[1;33m,\u001b[0m \u001b[1;33m**\u001b[0m\u001b[0mkwargs\u001b[0m\u001b[1;33m)\u001b[0m\u001b[1;33m[\u001b[0m\u001b[1;36m1\u001b[0m\u001b[1;33m]\u001b[0m\u001b[1;33m\u001b[0m\u001b[0m\n\u001b[0m\u001b[0;32m   1355\u001b[0m         \u001b[1;32melse\u001b[0m\u001b[1;33m:\u001b[0m\u001b[1;33m\u001b[0m\u001b[0m\n\u001b[0;32m   1356\u001b[0m             \u001b[1;32mtry\u001b[0m\u001b[1;33m:\u001b[0m\u001b[1;33m\u001b[0m\u001b[0m\n",
      "\u001b[1;32m~\\AppData\\Local\\conda\\conda\\envs\\Research\\lib\\site-packages\\pandas\\core\\indexing.py\u001b[0m in \u001b[0;36m_get_listlike_indexer\u001b[1;34m(self, key, axis, raise_missing)\u001b[0m\n\u001b[0;32m   1159\u001b[0m         self._validate_read_indexer(keyarr, indexer,\n\u001b[0;32m   1160\u001b[0m                                     \u001b[0mo\u001b[0m\u001b[1;33m.\u001b[0m\u001b[0m_get_axis_number\u001b[0m\u001b[1;33m(\u001b[0m\u001b[0maxis\u001b[0m\u001b[1;33m)\u001b[0m\u001b[1;33m,\u001b[0m\u001b[1;33m\u001b[0m\u001b[0m\n\u001b[1;32m-> 1161\u001b[1;33m                                     raise_missing=raise_missing)\n\u001b[0m\u001b[0;32m   1162\u001b[0m         \u001b[1;32mreturn\u001b[0m \u001b[0mkeyarr\u001b[0m\u001b[1;33m,\u001b[0m \u001b[0mindexer\u001b[0m\u001b[1;33m\u001b[0m\u001b[0m\n\u001b[0;32m   1163\u001b[0m \u001b[1;33m\u001b[0m\u001b[0m\n",
      "\u001b[1;32m~\\AppData\\Local\\conda\\conda\\envs\\Research\\lib\\site-packages\\pandas\\core\\indexing.py\u001b[0m in \u001b[0;36m_validate_read_indexer\u001b[1;34m(self, key, indexer, axis, raise_missing)\u001b[0m\n\u001b[0;32m   1250\u001b[0m             \u001b[1;32mif\u001b[0m \u001b[1;32mnot\u001b[0m\u001b[1;33m(\u001b[0m\u001b[0mself\u001b[0m\u001b[1;33m.\u001b[0m\u001b[0mname\u001b[0m \u001b[1;33m==\u001b[0m \u001b[1;34m'loc'\u001b[0m \u001b[1;32mand\u001b[0m \u001b[1;32mnot\u001b[0m \u001b[0mraise_missing\u001b[0m\u001b[1;33m)\u001b[0m\u001b[1;33m:\u001b[0m\u001b[1;33m\u001b[0m\u001b[0m\n\u001b[0;32m   1251\u001b[0m                 \u001b[0mnot_found\u001b[0m \u001b[1;33m=\u001b[0m \u001b[0mlist\u001b[0m\u001b[1;33m(\u001b[0m\u001b[0mset\u001b[0m\u001b[1;33m(\u001b[0m\u001b[0mkey\u001b[0m\u001b[1;33m)\u001b[0m \u001b[1;33m-\u001b[0m \u001b[0mset\u001b[0m\u001b[1;33m(\u001b[0m\u001b[0max\u001b[0m\u001b[1;33m)\u001b[0m\u001b[1;33m)\u001b[0m\u001b[1;33m\u001b[0m\u001b[0m\n\u001b[1;32m-> 1252\u001b[1;33m                 \u001b[1;32mraise\u001b[0m \u001b[0mKeyError\u001b[0m\u001b[1;33m(\u001b[0m\u001b[1;34m\"{} not in index\"\u001b[0m\u001b[1;33m.\u001b[0m\u001b[0mformat\u001b[0m\u001b[1;33m(\u001b[0m\u001b[0mnot_found\u001b[0m\u001b[1;33m)\u001b[0m\u001b[1;33m)\u001b[0m\u001b[1;33m\u001b[0m\u001b[0m\n\u001b[0m\u001b[0;32m   1253\u001b[0m \u001b[1;33m\u001b[0m\u001b[0m\n\u001b[0;32m   1254\u001b[0m             \u001b[1;31m# we skip the warning on Categorical/Interval\u001b[0m\u001b[1;33m\u001b[0m\u001b[1;33m\u001b[0m\u001b[0m\n",
      "\u001b[1;31mKeyError\u001b[0m: \"['S139_outliers', 'S146_outliers', 'S131_outliers', 'S135_outliers', 'S113_outliers', 'S147_outliers', 'S110_outliers', 'S132_outliers', 'S115_outliers', 'S136_outliers', 'S133_outliers', 'S141_outliers', 'S151_outliers', 'S109_outliers', 'S149_outliers', 'S116_outliers', 'S118_outliers', 'S126_outliers', 'S134_outliers', 'S144_outliers', 'S148_outliers', 'S140_outliers', 'S142_outliers', 'S112_outliers', 'S117_outliers', 'S138_outliers', 'S152_outliers', 'S153_outliers', 'S137_outliers', 'S145_outliers', 'S130_outliers', 'S150_outliers', 'S143_outliers', 'S123_outliers', 'S114_outliers'] not in index\""
     ]
    }
   ],
   "source": [
    "results_trans = blsh.compare_groups_outliers(outliers_trans, \n",
    "                                             annotations)"
   ]
  },
  {
   "cell_type": "markdown",
   "metadata": {},
   "source": [
    "Many of the output values from compare_group_outliers are NaN, so here we will get rid of the NaN values for visualization purposes."
   ]
  },
  {
   "cell_type": "code",
   "execution_count": null,
   "metadata": {
    "collapsed": true
   },
   "outputs": [],
   "source": [
    "results_prot = results_prot.dropna(axis=0, how='all')\n",
    "results_trans = results_trans.dropna(axis=0, how='all')"
   ]
  },
  {
   "cell_type": "code",
   "execution_count": 106,
   "metadata": {
    "collapsed": true
   },
   "outputs": [],
   "source": []
  },
  {
   "cell_type": "code",
   "execution_count": 107,
   "metadata": {},
   "outputs": [
    {
     "data": {
      "text/html": [
       "<div>\n",
       "<style scoped>\n",
       "    .dataframe tbody tr th:only-of-type {\n",
       "        vertical-align: middle;\n",
       "    }\n",
       "\n",
       "    .dataframe tbody tr th {\n",
       "        vertical-align: top;\n",
       "    }\n",
       "\n",
       "    .dataframe thead th {\n",
       "        text-align: right;\n",
       "    }\n",
       "</style>\n",
       "<table border=\"1\" class=\"dataframe\">\n",
       "  <thead>\n",
       "    <tr style=\"text-align: right;\">\n",
       "      <th></th>\n",
       "      <th>{\"_meta\":{\"current_page\":1</th>\n",
       "      <th>per_page:25</th>\n",
       "      <th>total_pages:1160</th>\n",
       "      <th>total_count:28999</th>\n",
       "      <th>links:{\"next\":\"http://dgidb.org/api/v2/interactions.genes=FLT1</th>\n",
       "      <th>MM1</th>\n",
       "      <th>FAKE\\u0026nteraction_sources=TALC?count=25\\u0026page=2\"</th>\n",
       "      <th>previous:null}}</th>\n",
       "      <th>records:[{\"id\":\"0031edb6-06a9-4938-98c7-147ba88d190f\"</th>\n",
       "      <th>gene_name:\"CDK6\"</th>\n",
       "      <th>...</th>\n",
       "      <th>interaction_types:[].11</th>\n",
       "      <th>sources:[\"NCI\"]}.3</th>\n",
       "      <th>{\"id\":\"000ca35a-3ce5-4965-930e-81d8d650d54f\"</th>\n",
       "      <th>gene_name:\"CCK\"</th>\n",
       "      <th>entrez_id:885</th>\n",
       "      <th>drug_name:\"DIAZOXIDE\"</th>\n",
       "      <th>chembl_id:\"CHEMBL181\"</th>\n",
       "      <th>publications:[1032363]</th>\n",
       "      <th>interaction_types:[].12</th>\n",
       "      <th>sources:[\"NCI\"]}]}</th>\n",
       "    </tr>\n",
       "  </thead>\n",
       "  <tbody>\n",
       "  </tbody>\n",
       "</table>\n",
       "<p>0 rows × 218 columns</p>\n",
       "</div>"
      ],
      "text/plain": [
       "Empty DataFrame\n",
       "Columns: [{\"_meta\":{\"current_page\":1, per_page:25, total_pages:1160, total_count:28999, links:{\"next\":\"http://dgidb.org/api/v2/interactions.genes=FLT1, MM1, FAKE\\u0026nteraction_sources=TALC?count=25\\u0026page=2\", previous:null}}, records:[{\"id\":\"0031edb6-06a9-4938-98c7-147ba88d190f\", gene_name:\"CDK6\", entrez_id:1021, drug_name:\"PALBOCICLIB\", chembl_id:\"CHEMBL189963\", publications:[15542782], interaction_types:[\"inhibitor\", Inhibitor], sources:[\"TALC\", MyCancerGenome, ClearityFoundationClinicalTrial, GuideToPharmacologyInteractions, ChemblInteractions, DrugBank, CancerCommons, MyCancerGenomeClinicalTrial, TTD]}, {\"id\":\"000c439a-1450-4fd6-95fd-7c886f75d993\", gene_name:\"GPER1\", entrez_id:2852, drug_name:\"PYRIDOXAL PHOSPHATE\", chembl_id:\"CHEMBL82202\", publications:[], interaction_types:[\"antagonist\"], sources:[\"GuideToPharmacologyInteractions\"]}, {\"id\":\"00137baa-0e41-40dc-bae4-57c9e71fc435\", gene_name:\"HRH1\", entrez_id:3269, drug_name:\"MK-0249\", chembl_id:\"CHEMBL476323\", publications:[].1, interaction_types:[\"antagonist\"].1, sources:[\"GuideToPharmacologyInteractions\"]}.1, {\"id\":\"0011a0d9-c041-4131-8e3a-3edd6382cf6d\", gene_name:\"MTNR1B\", entrez_id:4544, drug_name:\"CHEMBL3260983\", chembl_id:\"CHEMBL3260983\", publications:[].2, interaction_types:[\"agonist\"], sources:[\"GuideToPharmacologyInteractions\"]}.2, {\"id\":\"00171c9c-f5e7-48de-a9c1-4d09f62e14af\", gene_name:\"CXCL8\", entrez_id:3576, drug_name:\"ABX-IL8\", chembl_id:\"CHEMBL2109616\", publications:[].3, interaction_types:[\"inhibitor\"], sources:[\"ChemblInteractions\"]}, {\"id\":\"00358790-c12e-4541-bb40-37b09a354185\", gene_name:\"NDUFS8\", entrez_id:4728, drug_name:\"ME-344\", chembl_id:\"CHEMBL3545320\", publications:[].4, interaction_types:[\"inhibitor\"].1, sources:[\"ChemblInteractions\"]}.1, {\"id\":\"001d5e1a-62dc-46ff-b86e-4ec99a56f2f7\", gene_name:\"TNF\", entrez_id:7124, drug_name:\"PENTOXIFYLLINE\", chembl_id:\"CHEMBL628\", publications:[].5, interaction_types:[\"antibody\"], sources:[\"TTD\"]}, {\"id\":\"00059d3f-5517-4f94-87c8-5cbf406a3b42\", gene_name:\"INSR\", entrez_id:3643, drug_name:\"INSULIN SUSP PROTAMINE ZINC PURIFIED BEEF\", chembl_id:\"CHEMBL1201541\", publications:[].6, interaction_types:[\"agonist\"].1, sources:[\"ChemblInteractions\"]}.2, {\"id\":\"00228408-49f0-495c-a2d7-d66a64a82a5e\", gene_name:\"ADRA1A\", entrez_id:148, drug_name:\"CHEMBL1256701\", chembl_id:\"CHEMBL1256701\", publications:[].7, interaction_types:[\"antagonist\"].2, sources:[\"GuideToPharmacologyInteractions\"]}.3, {\"id\":\"0011d392-260c-40c9-a988-7785a9e1a564\", gene_name:\"ADRA1A\".1, entrez_id:148.1, drug_name:\"SPIROXATRINE\", chembl_id:\"CHEMBL300555\", publications:[].8, interaction_types:[\"antagonist\"].3, sources:[\"GuideToPharmacologyInteractions\"]}.4, {\"id\":\"000521eb-3be4-4ff4-a20b-91f41d1db21b\", gene_name:\"NAT1\", entrez_id:9, ...]\n",
       "Index: []\n",
       "\n",
       "[0 rows x 218 columns]"
      ]
     },
     "execution_count": 107,
     "metadata": {},
     "output_type": "execute_result"
    }
   ],
   "source": []
  },
  {
   "cell_type": "markdown",
   "metadata": {},
   "source": [
    "## Step 5: Visualize these enrichments"
   ]
  },
  {
   "cell_type": "code",
   "execution_count": null,
   "metadata": {
    "collapsed": true
   },
   "outputs": [],
   "source": [
    "sns.heatmap(results_prot)\n",
    "plt.show()"
   ]
  },
  {
   "cell_type": "code",
   "execution_count": null,
   "metadata": {
    "collapsed": true
   },
   "outputs": [],
   "source": [
    "sns.heatmap(results_trans)\n",
    "plt.show()"
   ]
  },
  {
   "cell_type": "code",
   "execution_count": 27,
   "metadata": {
    "collapsed": true
   },
   "outputs": [],
   "source": [
    "#How can we automate something like this?\n",
    "'''results_prot = results_prot.drop(['Proteomics_Tumor_Normal_Other_tumor_enrichment_FDR', \n",
    "                                  'Histologic_Grade_FIGO_High_grade_enrichment_FDR',\n",
    "                                  'Histologic_Grade_FIGO_Low_grade_enrichment_FDR', \n",
    "                                  'Myometrial_invasion_Specify_50%_or_more_enrichment_FDR'], \n",
    "                                 axis=1)'''"
   ]
  },
  {
   "cell_type": "markdown",
   "metadata": {},
   "source": [
    "## Step 6: Determine significant enrichments, and link with cancer drug database."
   ]
  },
  {
   "cell_type": "code",
   "execution_count": 41,
   "metadata": {},
   "outputs": [
    {
     "name": "stdout",
     "output_type": "stream",
     "text": [
      "TESTING FOR PROTEOMICS:\n",
      "14 significant protein enrichments in Proteomics_Tumor_Normal_Other_tumor\n",
      "\n",
      "1 significant protein enrichment in Histologic_Grade_FIGO_High_grade:\n",
      "\n",
      "2 significant protein enrichments in Myometrial_invasion_Specify_50%_or_more\n",
      "\n",
      "538 significant protein enrichments in Histologic_type_Serous\n",
      "\n",
      "26 significant protein enrichments in Path_Stage_Reg_Lymph_Nodes-pN_FIGO_III\n",
      "\n",
      "4 significant protein enrichments in FIGO_stage_III_or_IV\n",
      "\n",
      "9 significant protein enrichments in LVSI_1.0\n",
      "\n",
      "7 significant protein enrichments in BMI_Healthy\n",
      "\n",
      "3 significant protein enrichments in Age_Young\n",
      "\n",
      "5 significant protein enrichments in Tumor_Site_Anterior\n",
      "\n",
      "2 significant protein enrichments in Tumor_Focality_Multifocal\n",
      "\n",
      "7 significant protein enrichments in MSI_status_MSI-H\n",
      "\n",
      "7 significant protein enrichments in Genomics_subtype_MSI-H\n",
      "\n"
     ]
    }
   ],
   "source": [
    "print(\"TESTING FOR PROTEOMICS:\")\n",
    "sig_cols = []\n",
    "for col in results_prot.columns:\n",
    "    sig_col = bf.significantEnrichments(results_prot, col, 0.025)\n",
    "    if sig_col is not None:\n",
    "        sig_cols.append(sig_col)\n",
    "    else:\n",
    "        continue"
   ]
  },
  {
   "cell_type": "code",
   "execution_count": 42,
   "metadata": {},
   "outputs": [
    {
     "name": "stdout",
     "output_type": "stream",
     "text": [
      "           Gene_set                                             Term Overlap  \\\n",
      "0   KEGG_2019_Human                    Glycosaminoglycan degradation    1/19   \n",
      "1   KEGG_2019_Human                                      Ferroptosis    1/40   \n",
      "2   KEGG_2019_Human                            TNF signaling pathway   1/110   \n",
      "3   KEGG_2019_Human             Toll-like receptor signaling pathway   1/104   \n",
      "4   KEGG_2019_Human            Regulation of lipolysis in adipocytes    1/55   \n",
      "5   KEGG_2019_Human                                      Endocytosis   2/244   \n",
      "6   KEGG_2019_Human                                      Necroptosis   1/162   \n",
      "7   KEGG_2019_Human                       Osteoclast differentiation   1/127   \n",
      "8   KEGG_2019_Human                T cell receptor signaling pathway   1/101   \n",
      "9   KEGG_2019_Human                           GnRH signaling pathway    1/93   \n",
      "10  KEGG_2019_Human                  Adipocytokine signaling pathway    1/69   \n",
      "11  KEGG_2019_Human                               Mineral absorption    1/51   \n",
      "12  KEGG_2019_Human         Pentose and glucuronate interconversions    1/34   \n",
      "13  KEGG_2019_Human                   Neurotrophin signaling pathway   1/119   \n",
      "14  KEGG_2019_Human             Porphyrin and chlorophyll metabolism    1/42   \n",
      "15  KEGG_2019_Human                           ErbB signaling pathway    1/85   \n",
      "16  KEGG_2019_Human      Protein processing in endoplasmic reticulum   1/165   \n",
      "17  KEGG_2019_Human                  Fc epsilon RI signaling pathway    1/68   \n",
      "18  KEGG_2019_Human                                  Drug metabolism   1/108   \n",
      "19  KEGG_2019_Human                                   Tight junction   1/170   \n",
      "20  KEGG_2019_Human                        Relaxin signaling pathway   1/130   \n",
      "21  KEGG_2019_Human           Fluid shear stress and atherosclerosis   1/139   \n",
      "22  KEGG_2019_Human                                         Lysosome   1/123   \n",
      "23  KEGG_2019_Human                                      Influenza A   1/171   \n",
      "24  KEGG_2019_Human                                      Hepatitis B   1/163   \n",
      "25  KEGG_2019_Human  Kaposi sarcoma-associated herpesvirus infection   1/186   \n",
      "26  KEGG_2019_Human                                       Alcoholism   1/180   \n",
      "27  KEGG_2019_Human                     Epstein-Barr virus infection   1/201   \n",
      "28  KEGG_2019_Human         Human immunodeficiency virus 1 infection   1/212   \n",
      "29  KEGG_2019_Human                           cAMP signaling pathway   1/212   \n",
      "30  KEGG_2019_Human                           MAPK signaling pathway   1/295   \n",
      "31  KEGG_2019_Human          Neuroactive ligand-receptor interaction   1/338   \n",
      "32  KEGG_2019_Human                 Herpes simplex virus 1 infection   1/492   \n",
      "\n",
      "     P-value  Adjusted P-value  Old P-value  Old Adjusted P-value     Z-score  \\\n",
      "0   0.013222          0.149562     0.017798              0.190622 -667.243881   \n",
      "1   0.027648          0.149562     0.036192              0.190622  -56.318867   \n",
      "2   0.074330          0.149562     0.095392              0.190622  -72.111402   \n",
      "3   0.070412          0.149562     0.090443              0.190622  -47.784964   \n",
      "4   0.037831          0.149562     0.049150              0.190622  -27.266595   \n",
      "5   0.012247          0.149562     0.018694              0.190622  -14.231503   \n",
      "6   0.107652          0.149562     0.137325              0.190622  -25.711840   \n",
      "7   0.085349          0.149562     0.109289              0.190622  -22.315165   \n",
      "8   0.068447          0.149562     0.087960              0.190622  -20.188032   \n",
      "9   0.063188          0.149562     0.081309              0.190622  -16.504201   \n",
      "10  0.047247          0.149562     0.061109              0.190622  -14.207006   \n",
      "11  0.035125          0.149562     0.045709              0.190622  -12.214746   \n",
      "12  0.023546          0.149562     0.030967              0.190622  -10.870461   \n",
      "13  0.080179          0.149562     0.102772              0.190622  -14.965112   \n",
      "14  0.029011          0.149562     0.037929              0.190622   -9.515660   \n",
      "15  0.057902          0.149562     0.074618              0.190622  -11.550382   \n",
      "16  0.109540          0.149562     0.139693              0.190622  -13.830759   \n",
      "17  0.046577          0.149562     0.060259              0.190622   -7.522643   \n",
      "18  0.073026          0.149562     0.093745              0.190622   -8.675392   \n",
      "19  0.112678          0.149562     0.143626              0.190622   -7.471936   \n",
      "20  0.087281          0.149562     0.111722              0.190622   -6.297227   \n",
      "21  0.093053          0.149562     0.118988              0.190622   -2.924782   \n",
      "22  0.082767          0.149562     0.106035              0.190622   -1.976775   \n",
      "23  0.113305          0.149562     0.144411              0.190622   -1.690758   \n",
      "24  0.108282          0.149562     0.138115              0.190622   -1.351846   \n",
      "25  0.122652          0.149908     0.156110              0.190801   -0.097503   \n",
      "26  0.118924          0.149908     0.151447              0.190801    0.013466   \n",
      "27  0.131908          0.152502     0.167671              0.193669    0.385423   \n",
      "28  0.138638          0.152502     0.176063              0.193669   14.229357   \n",
      "29  0.138638          0.152502     0.176063              0.193669   15.378490   \n",
      "30  0.187879          0.200000     0.237079              0.252374   45.989199   \n",
      "31  0.212349          0.218985     0.267136              0.275484   49.857143   \n",
      "32  0.294481          0.294481     0.366613              0.366613  103.753404   \n",
      "\n",
      "    Combined Score      Genes  \n",
      "0      2886.389437       GUSB  \n",
      "1       202.083940       FTH1  \n",
      "2       187.434684     MAP2K7  \n",
      "3       126.792264     MAP2K7  \n",
      "4        89.287622        NPY  \n",
      "5        62.654327  EHD4;RBSN  \n",
      "6        57.307905       FTH1  \n",
      "7        54.917805     MAP2K7  \n",
      "8        54.138146     MAP2K7  \n",
      "9        45.578568     MAP2K7  \n",
      "10       43.365075        NPY  \n",
      "11       40.905084       FTH1  \n",
      "12       40.751010       GUSB  \n",
      "13       37.764390     MAP2K7  \n",
      "14       33.686088       GUSB  \n",
      "15       32.907029     MAP2K7  \n",
      "16       30.586263     MAP2K7  \n",
      "17       23.069299     MAP2K7  \n",
      "18       22.702998       GUSB  \n",
      "19       16.312869     MAP2K7  \n",
      "20       15.356585     MAP2K7  \n",
      "21        6.945138     MAP2K7  \n",
      "22        4.925575       GUSB  \n",
      "23        3.681921     MAP2K7  \n",
      "24        3.005180     MAP2K7  \n",
      "25        0.204601     MAP2K7  \n",
      "26       -0.028673        NPY  \n",
      "27       -0.780732     MAP2K7  \n",
      "28      -28.115588     MAP2K7  \n",
      "29      -30.386145        NPY  \n",
      "30      -76.891911     MAP2K7  \n",
      "31      -77.254817        NPY  \n",
      "32     -126.842737     ZNF605  \n",
      "          Gene_set                                          Term Overlap  \\\n",
      "0  KEGG_2019_Human  Metabolism of xenobiotics by cytochrome P450    1/74   \n",
      "1  KEGG_2019_Human                  Steroid hormone biosynthesis    1/60   \n",
      "\n",
      "   P-value  Adjusted P-value  Old P-value  Old Adjusted P-value    Z-score  \\\n",
      "0   0.0037            0.0037     0.009612              0.009612 -105.24363   \n",
      "1   0.0030            0.0037     0.007818              0.009612  -36.70227   \n",
      "\n",
      "   Combined Score   Genes  \n",
      "0      589.303547  AKR1C1  \n",
      "1      213.208734  AKR1C1  \n",
      "          Gene_set                  Term Overlap   P-value  Adjusted P-value  \\\n",
      "0  KEGG_2019_Human  Steroid biosynthesis    1/19  0.001899          0.001899   \n",
      "\n",
      "   Old P-value  Old Adjusted P-value    Z-score  Combined Score   Genes  \n",
      "0     0.002563              0.002563 -36.865613      231.012892  DHCR24  \n",
      "            Gene_set                                               Term  \\\n",
      "0    KEGG_2019_Human            Glyoxylate and dicarboxylate metabolism   \n",
      "1    KEGG_2019_Human                  Ribosome biogenesis in eukaryotes   \n",
      "2    KEGG_2019_Human           Glycine, serine and threonine metabolism   \n",
      "3    KEGG_2019_Human                          mRNA surveillance pathway   \n",
      "4    KEGG_2019_Human                        Basal transcription factors   \n",
      "5    KEGG_2019_Human                      Cytosolic DNA-sensing pathway   \n",
      "6    KEGG_2019_Human                                     RNA polymerase   \n",
      "7    KEGG_2019_Human                Amyotrophic lateral sclerosis (ALS)   \n",
      "8    KEGG_2019_Human                                        Spliceosome   \n",
      "9    KEGG_2019_Human                  Thyroid hormone signaling pathway   \n",
      "10   KEGG_2019_Human                                 Lysine degradation   \n",
      "11   KEGG_2019_Human                                 Endometrial cancer   \n",
      "12   KEGG_2019_Human                                      RNA transport   \n",
      "13   KEGG_2019_Human                               Salmonella infection   \n",
      "14   KEGG_2019_Human                                        Necroptosis   \n",
      "15   KEGG_2019_Human                           Homologous recombination   \n",
      "16   KEGG_2019_Human                                            Malaria   \n",
      "17   KEGG_2019_Human                       NF-kappa B signaling pathway   \n",
      "18   KEGG_2019_Human                                     Bladder cancer   \n",
      "19   KEGG_2019_Human                              Fatty acid elongation   \n",
      "20   KEGG_2019_Human                     Ubiquitin mediated proteolysis   \n",
      "21   KEGG_2019_Human                             Small cell lung cancer   \n",
      "22   KEGG_2019_Human        Alanine, aspartate and glutamate metabolism   \n",
      "23   KEGG_2019_Human                                  Pancreatic cancer   \n",
      "24   KEGG_2019_Human                            African trypanosomiasis   \n",
      "25   KEGG_2019_Human            Biosynthesis of unsaturated fatty acids   \n",
      "26   KEGG_2019_Human                                    DNA replication   \n",
      "27   KEGG_2019_Human                               Base excision repair   \n",
      "28   KEGG_2019_Human                                  Adherens junction   \n",
      "29   KEGG_2019_Human  Endocrine and other factor-regulated calcium r...   \n",
      "..               ...                                                ...   \n",
      "162  KEGG_2019_Human                               Pancreatic secretion   \n",
      "163  KEGG_2019_Human                        Chemokine signaling pathway   \n",
      "164  KEGG_2019_Human                                       Tuberculosis   \n",
      "165  KEGG_2019_Human                                 Retinol metabolism   \n",
      "166  KEGG_2019_Human               Toll-like receptor signaling pathway   \n",
      "167  KEGG_2019_Human           Human immunodeficiency virus 1 infection   \n",
      "168  KEGG_2019_Human                             cAMP signaling pathway   \n",
      "169  KEGG_2019_Human                               Viral carcinogenesis   \n",
      "170  KEGG_2019_Human                              TNF signaling pathway   \n",
      "171  KEGG_2019_Human             Cytokine-cytokine receptor interaction   \n",
      "172  KEGG_2019_Human            Transcriptional misregulation in cancer   \n",
      "173  KEGG_2019_Human                                     Tight junction   \n",
      "174  KEGG_2019_Human                                  Purine metabolism   \n",
      "175  KEGG_2019_Human                              Ras signaling pathway   \n",
      "176  KEGG_2019_Human                NOD-like receptor signaling pathway   \n",
      "177  KEGG_2019_Human                         Osteoclast differentiation   \n",
      "178  KEGG_2019_Human                   Herpes simplex virus 1 infection   \n",
      "179  KEGG_2019_Human                                Platelet activation   \n",
      "180  KEGG_2019_Human          Natural killer cell mediated cytotoxicity   \n",
      "181  KEGG_2019_Human                                        Endocytosis   \n",
      "182  KEGG_2019_Human                                          Phagosome   \n",
      "183  KEGG_2019_Human                    Human cytomegalovirus infection   \n",
      "184  KEGG_2019_Human                            Proteoglycans in cancer   \n",
      "185  KEGG_2019_Human                   Regulation of actin cytoskeleton   \n",
      "186  KEGG_2019_Human            Human T-cell leukemia virus 1 infection   \n",
      "187  KEGG_2019_Human                             MAPK signaling pathway   \n",
      "188  KEGG_2019_Human                                MicroRNAs in cancer   \n",
      "189  KEGG_2019_Human                         PI3K-Akt signaling pathway   \n",
      "190  KEGG_2019_Human                     Human papillomavirus infection   \n",
      "191  KEGG_2019_Human                                 Pathways in cancer   \n",
      "\n",
      "    Overlap       P-value  Adjusted P-value   Old P-value  \\\n",
      "0      2/30  1.926842e-01      8.408039e-01  2.286216e-01   \n",
      "1    23/101  2.203019e-15      4.229797e-13  3.952011e-13   \n",
      "2      3/40  9.209449e-02      5.923043e-01  1.209597e-01   \n",
      "3     15/91  1.923280e-08      9.231746e-07  2.453716e-07   \n",
      "4      5/45  6.959857e-03      1.336293e-01  1.302030e-02   \n",
      "5      6/63  6.848331e-03      1.336293e-01  1.301016e-02   \n",
      "6      6/31  1.529825e-04      5.874529e-03  5.331064e-04   \n",
      "7      3/51  1.574750e-01      7.851578e-01  1.957020e-01   \n",
      "8    22/134  1.017001e-11      9.763207e-10  3.627419e-10   \n",
      "9     8/116  1.314843e-02      2.103748e-01  2.404359e-02   \n",
      "10     4/59  7.411887e-02      5.759086e-01  1.021283e-01   \n",
      "11     2/58  4.648774e-01      9.917748e-01  5.095185e-01   \n",
      "12   24/165  1.679691e-11      1.075002e-09  5.050876e-10   \n",
      "13     4/86  2.011272e-01      8.533299e-01  2.499494e-01   \n",
      "14    9/162  3.140784e-02      3.673309e-01  5.320424e-02   \n",
      "15     3/41  9.747756e-02      5.923043e-01  1.272531e-01   \n",
      "16     5/49  9.954390e-03      1.737494e-01  1.775395e-02   \n",
      "17     6/95  4.308802e-02      4.267030e-01  6.602964e-02   \n",
      "18     3/41  9.747756e-02      5.923043e-01  1.272531e-01   \n",
      "19     2/27  1.635745e-01      7.851578e-01  1.972712e-01   \n",
      "20   10/137  3.975910e-03      1.090535e-01  8.682017e-03   \n",
      "21     4/93  2.410441e-01      9.042021e-01  2.940501e-01   \n",
      "22     2/35  2.423858e-01      9.042021e-01  2.814235e-01   \n",
      "23     6/75  1.552698e-02      2.293216e-01  2.670025e-02   \n",
      "24     2/37  2.624544e-01      9.042021e-01  3.025193e-01   \n",
      "25     2/27  1.635745e-01      7.851578e-01  1.972712e-01   \n",
      "26     2/36  2.524153e-01      9.042021e-01  2.919814e-01   \n",
      "27     2/33  2.223886e-01      9.042021e-01  2.602792e-01   \n",
      "28     5/72  4.444823e-02      4.267030e-01  6.632065e-02   \n",
      "29     1/48  7.303003e-01      9.917748e-01  7.557573e-01   \n",
      "..      ...           ...               ...           ...   \n",
      "162    1/98  9.313612e-01      9.917748e-01  9.425611e-01   \n",
      "163   6/190  4.038350e-01      9.917748e-01  4.805871e-01   \n",
      "164   3/179  8.636439e-01      9.917748e-01  8.932592e-01   \n",
      "165    1/67  8.395941e-01      9.917748e-01  8.589349e-01   \n",
      "166   2/104  7.734697e-01      9.917748e-01  8.066143e-01   \n",
      "167   2/212  9.792861e-01      9.917748e-01  9.853009e-01   \n",
      "168   2/212  9.792861e-01      9.917748e-01  9.853009e-01   \n",
      "169   8/201  1.755483e-01      8.025067e-01  2.394019e-01   \n",
      "170   2/110  7.995464e-01      9.917748e-01  8.305080e-01   \n",
      "171   3/294  9.866093e-01      9.917748e-01  9.915132e-01   \n",
      "172   7/186  2.355950e-01      9.042021e-01  3.048025e-01   \n",
      "173   5/170  4.836076e-01      9.917748e-01  5.545169e-01   \n",
      "174   3/129  6.782254e-01      9.917748e-01  7.264497e-01   \n",
      "175   3/232  9.510250e-01      9.917748e-01  9.650858e-01   \n",
      "176   7/178  2.044436e-01      8.533299e-01  2.690765e-01   \n",
      "177   3/127  6.679511e-01      9.917748e-01  7.168151e-01   \n",
      "178   7/492  9.798769e-01      9.917748e-01  9.895068e-01   \n",
      "179   3/124  6.520948e-01      9.917748e-01  7.018770e-01   \n",
      "180   3/131  6.882628e-01      9.917748e-01  7.358276e-01   \n",
      "181   4/244  8.970864e-01      9.917748e-01  9.249440e-01   \n",
      "182   5/152  3.887780e-01      9.917748e-01  4.582216e-01   \n",
      "183   4/225  8.584999e-01      9.917748e-01  8.932571e-01   \n",
      "184   6/201  4.563504e-01      9.917748e-01  5.341412e-01   \n",
      "185   5/214  6.858722e-01      9.917748e-01  7.474948e-01   \n",
      "186   8/219  2.382498e-01      9.042021e-01  3.127327e-01   \n",
      "187   6/295  8.085627e-01      9.917748e-01  8.598537e-01   \n",
      "188   8/299  5.560950e-01      9.917748e-01  6.443920e-01   \n",
      "189  11/354  3.560764e-01      9.917748e-01  4.582727e-01   \n",
      "190  11/330  2.765856e-01      9.042021e-01  3.703915e-01   \n",
      "191  17/530  2.624090e-01      9.042021e-01  3.783010e-01   \n",
      "\n",
      "     Old Adjusted P-value     Z-score  Combined Score  \\\n",
      "0            9.967043e-01 -715.914334     1178.897974   \n",
      "1            7.587862e-11  -34.656712     1169.627555   \n",
      "2            8.139255e-01 -286.278612      682.757364   \n",
      "3            1.177784e-05  -25.248010      448.572511   \n",
      "4            2.695154e-01  -62.992449      312.921059   \n",
      "5            2.695154e-01  -52.335091      260.825027   \n",
      "6            1.995851e-02  -27.704648      243.390505   \n",
      "7            9.686443e-01 -129.907891      240.133273   \n",
      "8            3.232561e-08   -8.409206      212.850282   \n",
      "9            3.846974e-01  -40.858667      176.977398   \n",
      "10           7.896272e-01  -63.314861      164.750656   \n",
      "11           9.967043e-01 -201.504352      154.348640   \n",
      "12           3.232561e-08   -5.521671      136.991698   \n",
      "13           9.967043e-01  -82.574179      132.433944   \n",
      "14           6.031340e-01  -31.075178      107.541795   \n",
      "15           8.139255e-01  -45.550087      106.046661   \n",
      "16           3.098872e-01  -19.799245       91.269403   \n",
      "17           6.366782e-01  -28.216030       88.725600   \n",
      "18           8.139255e-01  -35.308215       82.202222   \n",
      "19           9.686443e-01  -43.094985       78.022887   \n",
      "20           2.381353e-01  -13.300051       73.516053   \n",
      "21           9.967043e-01  -50.450832       71.780209   \n",
      "22           9.967043e-01  -50.372166       71.388681   \n",
      "23           3.943422e-01  -17.101150       71.229297   \n",
      "24           9.967043e-01  -52.050848       69.627264   \n",
      "25           9.686443e-01  -34.676237       62.780858   \n",
      "26           9.967043e-01  -38.524048       53.035267   \n",
      "27           9.967043e-01  -34.905884       52.475024   \n",
      "28           6.366782e-01  -15.542371       48.390086   \n",
      "29           9.967043e-01 -141.605747       44.506612   \n",
      "..                    ...         ...             ...   \n",
      "162          9.967043e-01   35.919913       -2.554198   \n",
      "163          9.967043e-01    3.043686       -2.759859   \n",
      "164          9.967043e-01   21.054270       -3.086446   \n",
      "165          9.967043e-01   20.851711       -3.645646   \n",
      "166          9.967043e-01   15.736157       -4.042127   \n",
      "167          9.967043e-01  197.495064       -4.133852   \n",
      "168          9.967043e-01  216.412870       -4.529828   \n",
      "169          9.967043e-01    2.800687       -4.872750   \n",
      "170          9.967043e-01   22.075554       -4.938538   \n",
      "171          9.967043e-01  368.053618       -4.961774   \n",
      "172          9.967043e-01    3.563125       -5.150999   \n",
      "173          9.967043e-01    8.166383       -5.932725   \n",
      "174          9.967043e-01   24.170731       -9.384904   \n",
      "175          9.967043e-01  215.642146      -10.828445   \n",
      "176          9.967043e-01    7.103964      -11.277281   \n",
      "177          9.967043e-01   28.908901      -11.665906   \n",
      "178          9.967043e-01  623.022942      -12.665031   \n",
      "179          9.967043e-01   30.924717      -13.222338   \n",
      "180          9.967043e-01   46.481745      -17.364862   \n",
      "181          9.967043e-01  194.979346      -21.175369   \n",
      "182          9.967043e-01   25.526403      -24.115986   \n",
      "183          9.967043e-01  168.073884      -25.642818   \n",
      "184          9.967043e-01   37.006318      -29.031248   \n",
      "185          9.967043e-01  125.111543      -47.175064   \n",
      "186          9.967043e-01   37.884973      -54.343546   \n",
      "187          9.967043e-01  260.032012      -55.256034   \n",
      "188          9.967043e-01  166.013206      -97.419219   \n",
      "189          9.967043e-01  105.214286     -108.645323   \n",
      "190          9.967043e-01  126.934053     -163.140093   \n",
      "191          9.967043e-01  174.106051     -232.927959   \n",
      "\n",
      "                                                 Genes  \n",
      "0                                            GCSH;GLDC  \n",
      "1    NOP58;UTP6;WDR36;CSNK2A1;UTP4;POP1;WDR3;HEATR1...  \n",
      "2                                        GCSH;CBS;GLDC  \n",
      "3    UPF2;UPF1;SMG1;RNGTT;CPSF1;RNMT;CPSF3;EIF4A3;C...  \n",
      "4                     TAF6L;GTF2IRD1;GTF2E2;TAF2;GTF2I  \n",
      "5             POLR3A;POLR3B;POLR3C;POLR3E;POLR3F;CASP1  \n",
      "6            POLR3A;POLR3B;POLR3C;POLR2B;POLR3E;POLR3F  \n",
      "7                                    CASP1;TP53;BCL2L1  \n",
      "8    SF3B4;TCERG1;AQR;RBM25;SF3B2;EIF4A3;DDX23;PRPF...  \n",
      "9        MED12;MED1;MED14;MED24;STAT1;EP300;TP53;MED17  \n",
      "10                         SETDB1;EHMT2;KMT2B;COLGALT1  \n",
      "11                                          ERBB2;TP53  \n",
      "12   UPF2;UPF1;POP1;GEMIN2;EIF4A3;RPP40;NUP153;CASC...  \n",
      "13                              KLC3;CASP1;WASF1;RAB7A  \n",
      "14   PARP1;STAT1;STAT2;STAT3;TNFSF10;CASP1;EIF2AK2;...  \n",
      "15                                   NBN;TOPBP1;RAD54B  \n",
      "16                         COMP;CD40;VCAM1;THBS2;ICAM1  \n",
      "17               CD40;VCAM1;PARP1;CSNK2A1;BCL2L1;ICAM1  \n",
      "18                                   CDKN2A;ERBB2;TP53  \n",
      "19                                         ACOT7;THEM4  \n",
      "20   UBE2C;UBE2S;FBXO2;UBR5;HUWE1;KEAP1;UBE2J2;SAE1...  \n",
      "21                             CCNE1;TP53;BCL2L1;CKS1B  \n",
      "22                                           CAD;NAT8L  \n",
      "23                STAT1;CDKN2A;STAT3;ERBB2;TP53;BCL2L1  \n",
      "24                                         VCAM1;ICAM1  \n",
      "25                                         ACOT7;FADS1  \n",
      "26                                           RFC4;MCM3  \n",
      "27                                           PARP1;UNG  \n",
      "28                   CSNK2A1;ERBB2;EP300;WASF1;NECTIN3  \n",
      "29                                                DNM2  \n",
      "..                                                 ...  \n",
      "162                                               CD38  \n",
      "163                   HCK;STAT1;STAT2;STAT3;DOCK2;VAV1  \n",
      "164                                  STAT1;EP300;RAB7A  \n",
      "165                                             CYP2S1  \n",
      "166                                         CD40;STAT1  \n",
      "167                                        PAK2;BCL2L1  \n",
      "168                                         EP300;VAV1  \n",
      "169  CDKN2A;CCNE1;STAT3;EP300;EIF2AK2;CHD4;TP53;GTF2E2  \n",
      "170                                        VCAM1;ICAM1  \n",
      "171                                 CD40;TNFSF10;INHBA  \n",
      "172           SS18;CD40;PAX8;CCNT1;ASPSCR1;TP53;BCL2L1  \n",
      "173                     PRKCI;ERBB2;SYMPK;ARHGEF2;YBX3  \n",
      "174                                   IMPDH2;GMPS;GART  \n",
      "175                                 RASAL1;PAK2;BCL2L1  \n",
      "176           GBP5;DHX33;STAT1;STAT2;CASP1;GBP1;BCL2L1  \n",
      "177                                 STAT1;STAT2;SQSTM1  \n",
      "178         NXF1;STAT1;STAT2;NXF2B;EIF2AK2;TP53;BCL2L1  \n",
      "179                               PRKCI;ARHGEF1;FERMT3  \n",
      "180                                 TNFSF10;VAV1;ICAM1  \n",
      "181                             PRKCI;CHMP5;DNM2;RAB7A  \n",
      "182                     COMP;TUBB2B;THBS2;TUBB4A;RAB7A  \n",
      "183                          CDKN2A;STAT3;ARHGEF1;TP53  \n",
      "184               STAT3;ERBB2;WNT7A;ARHGEF1;TP53;EIF4B  \n",
      "185                     DIAPH3;ARHGEF1;WASF1;PAK2;VAV1  \n",
      "186     CD40;XPO1;CDKN2A;CCNE1;EP300;TP53;BCL2L1;ICAM1  \n",
      "187           MAPKAPK3;ERBB2;PAK2;MAPK8IP3;TP53;MAP4K3  \n",
      "188  CDKN2A;CCNE1;STAT3;ERBB2;DNMT3A;IGF2BP1;EP300;...  \n",
      "189  COMP;CCNE1;CDC37;ERBB2;THEM4;PIK3AP1;PCK1;THBS...  \n",
      "190  COMP;PRKCI;STAT1;CCNE1;STAT2;WNT7A;EP300;EIF2A...  \n",
      "191  STAT1;CDKN2A;STAT2;STAT3;WNT7A;KEAP1;CKS1B;MSH...  \n",
      "\n"
     ]
    },
    {
     "name": "stdout",
     "output_type": "stream",
     "text": [
      "[192 rows x 10 columns]\n",
      "           Gene_set                                               Term  \\\n",
      "0   KEGG_2019_Human                            African trypanosomiasis   \n",
      "1   KEGG_2019_Human                 Cysteine and methionine metabolism   \n",
      "2   KEGG_2019_Human                              TNF signaling pathway   \n",
      "3   KEGG_2019_Human                       NF-kappa B signaling pathway   \n",
      "4   KEGG_2019_Human                                        Spliceosome   \n",
      "5   KEGG_2019_Human                                            Malaria   \n",
      "6   KEGG_2019_Human                      Inositol phosphate metabolism   \n",
      "7   KEGG_2019_Human              Phosphatidylinositol signaling system   \n",
      "8   KEGG_2019_Human             Fluid shear stress and atherosclerosis   \n",
      "9   KEGG_2019_Human  AGE-RAGE signaling pathway in diabetic complic...   \n",
      "10  KEGG_2019_Human                     Cell adhesion molecules (CAMs)   \n",
      "11  KEGG_2019_Human               Leukocyte transendothelial migration   \n",
      "12  KEGG_2019_Human                   Regulation of actin cytoskeleton   \n",
      "13  KEGG_2019_Human                                      RNA transport   \n",
      "14  KEGG_2019_Human                               Viral carcinogenesis   \n",
      "15  KEGG_2019_Human                                MicroRNAs in cancer   \n",
      "16  KEGG_2019_Human                     Human papillomavirus infection   \n",
      "17  KEGG_2019_Human                   Herpes simplex virus 1 infection   \n",
      "\n",
      "   Overlap   P-value  Adjusted P-value  Old P-value  Old Adjusted P-value  \\\n",
      "0     1/37  0.047033          0.222430     0.042964              0.201232   \n",
      "1     1/47  0.059375          0.222430     0.053993              0.201232   \n",
      "2    1/110  0.133666          0.222430     0.120921              0.201232   \n",
      "3     1/95  0.116507          0.222430     0.105380              0.201232   \n",
      "4    3/134  0.000683          0.012295     0.000410              0.007388   \n",
      "5     1/49  0.061824          0.222430     0.056186              0.201232   \n",
      "6     1/74  0.091935          0.222430     0.083212              0.201232   \n",
      "7     1/99  0.121114          0.222430     0.109548              0.201232   \n",
      "8    2/139  0.013974          0.125767     0.010719              0.096471   \n",
      "9    1/100  0.122263          0.222430     0.110587              0.201232   \n",
      "10   1/145  0.172466          0.258699     0.156254              0.234382   \n",
      "11   1/112  0.135929          0.222430     0.122975              0.201232   \n",
      "12   1/214  0.244122          0.292946     0.222235              0.266682   \n",
      "13   1/165  0.193882          0.268452     0.175873              0.243516   \n",
      "14   1/201  0.231094          0.292946     0.210167              0.266682   \n",
      "15   1/299  0.324216          0.364743     0.297186              0.334335   \n",
      "16   1/330  0.351343          0.372010     0.322879              0.341872   \n",
      "17   1/492  0.476914          0.476914     0.444048              0.444048   \n",
      "\n",
      "      Z-score  Combined Score               Genes  \n",
      "0  -66.280015      202.612180               VCAM1  \n",
      "1  -56.049830      158.278566              DNMT3A  \n",
      "2  -76.003425      152.950197               VCAM1  \n",
      "3  -33.631775       72.301733               VCAM1  \n",
      "4   -8.533658       62.201603  SF3B2;HNRNPU;USP39  \n",
      "5  -20.201260       56.229353               VCAM1  \n",
      "6  -12.264664       29.271811             PIP4K2C  \n",
      "7  -11.390302       24.045156             PIP4K2C  \n",
      "8   -3.836402       16.383546         VCAM1;SUMO1  \n",
      "9   -7.313166       15.369234               VCAM1  \n",
      "10  -7.796963       13.703580               VCAM1  \n",
      "11  -6.451546       12.874831               VCAM1  \n",
      "12  -5.077368        7.159536             PIP4K2C  \n",
      "13  -4.336254        7.113652               SUMO1  \n",
      "14  -0.091944        0.134692                CHD4  \n",
      "15  13.982797      -15.749461              DNMT3A  \n",
      "16  26.755108      -27.985622                CHD4  \n",
      "17  53.501513      -39.613582              ZNF184  \n",
      "          Gene_set                                               Term Overlap  \\\n",
      "0  KEGG_2019_Human                            African trypanosomiasis    1/37   \n",
      "1  KEGG_2019_Human                              TNF signaling pathway   1/110   \n",
      "2  KEGG_2019_Human                       NF-kappa B signaling pathway    1/95   \n",
      "3  KEGG_2019_Human                                            Malaria    1/49   \n",
      "4  KEGG_2019_Human  AGE-RAGE signaling pathway in diabetic complic...   1/100   \n",
      "5  KEGG_2019_Human                     Cell adhesion molecules (CAMs)   1/145   \n",
      "6  KEGG_2019_Human                                        Spliceosome   1/134   \n",
      "7  KEGG_2019_Human               Leukocyte transendothelial migration   1/112   \n",
      "8  KEGG_2019_Human             Fluid shear stress and atherosclerosis   1/139   \n",
      "\n",
      "    P-value  Adjusted P-value  Old P-value  Old Adjusted P-value    Z-score  \\\n",
      "0  0.007380          0.028688     0.009716              0.037069 -66.838021   \n",
      "1  0.021821          0.028688     0.028246              0.037069 -79.895448   \n",
      "2  0.018866          0.028688     0.024453              0.037069 -35.437023   \n",
      "3  0.009765          0.028688     0.012774              0.037069 -20.402268   \n",
      "4  0.019852          0.028688     0.025718              0.037069  -7.739143   \n",
      "5  0.028688          0.028688     0.037069              0.037069  -8.138336   \n",
      "6  0.026534          0.028688     0.034301              0.037069  -7.786947   \n",
      "7  0.022214          0.028688     0.028752              0.037069  -6.776528   \n",
      "8  0.027514          0.028688     0.035559              0.037069  -3.532529   \n",
      "\n",
      "   Combined Score  Genes  \n",
      "0      328.106236  VCAM1  \n",
      "1      305.591476  VCAM1  \n",
      "2      140.698082  VCAM1  \n",
      "3       94.441565  VCAM1  \n",
      "4       30.333196  VCAM1  \n",
      "5       28.901402  VCAM1  \n",
      "6       28.261439  USP39  \n",
      "7       25.798402  VCAM1  \n",
      "8       12.692644  VCAM1  \n",
      "          Gene_set                                      Term Overlap  \\\n",
      "0  KEGG_2019_Human   Glyoxylate and dicarboxylate metabolism    1/30   \n",
      "1  KEGG_2019_Human  Glycine, serine and threonine metabolism    1/40   \n",
      "2  KEGG_2019_Human                             RNA transport   1/165   \n",
      "\n",
      "    P-value  Adjusted P-value  Old P-value  Old Adjusted P-value     Z-score  \\\n",
      "0  0.013422           0.02679     0.007929              0.015721 -840.044642   \n",
      "1  0.017860           0.02679     0.010481              0.015721 -313.792703   \n",
      "2  0.071860           0.07186     0.042092              0.042092   -5.521671   \n",
      "\n",
      "   Combined Score Genes  \n",
      "0     3621.317994  GLDC  \n",
      "1     1263.072029  GLDC  \n",
      "2       14.538737  XPO5  \n",
      "          Gene_set                                     Term Overlap   P-value  \\\n",
      "0  KEGG_2019_Human        Ribosome biogenesis in eukaryotes   1/101  0.034824   \n",
      "1  KEGG_2019_Human                           Oocyte meiosis   1/125  0.042945   \n",
      "2  KEGG_2019_Human  Progesterone-mediated oocyte maturation    1/99  0.034145   \n",
      "3  KEGG_2019_Human                               Cell cycle   1/124  0.042607   \n",
      "\n",
      "   Adjusted P-value  Old P-value  Old Adjusted P-value    Z-score  \\\n",
      "0          0.042945     0.025971              0.032032 -34.292173   \n",
      "1          0.042945     0.032032              0.032032 -26.820889   \n",
      "2          0.042945     0.025465              0.032032 -16.961122   \n",
      "3          0.042945     0.031780              0.032032  -4.957800   \n",
      "\n",
      "   Combined Score Genes  \n",
      "0      115.134128  UTP6  \n",
      "1       84.428046  BUB1  \n",
      "2       57.280209  BUB1  \n",
      "3       15.645474  BUB1  \n",
      "          Gene_set                  Term Overlap   P-value  Adjusted P-value  \\\n",
      "0  KEGG_2019_Human       Renin secretion    1/69  0.010315          0.021943   \n",
      "1  KEGG_2019_Human  Pancreatic secretion    1/98  0.014629          0.021943   \n",
      "2  KEGG_2019_Human         Axon guidance   1/181  0.026906          0.026906   \n",
      "\n",
      "   Old P-value  Old Adjusted P-value     Z-score  Combined Score  Genes  \n",
      "0     0.017860              0.037818 -134.292731      614.277903  CLCA4  \n",
      "1     0.025212              0.037818  -36.387787      153.729739  CLCA4  \n",
      "2     0.046102              0.046102   -1.232117        4.454585  EPHA7  \n",
      "          Gene_set                   Term Overlap   P-value  Adjusted P-value  \\\n",
      "0  KEGG_2019_Human  Fatty acid elongation    1/27  0.006732          0.006732   \n",
      "1  KEGG_2019_Human    Folate biosynthesis    1/26  0.006484          0.006732   \n",
      "2  KEGG_2019_Human    Thiamine metabolism    1/15  0.003745          0.006732   \n",
      "3  KEGG_2019_Human         Protein export    1/23  0.005737          0.006732   \n",
      "\n",
      "   Old P-value  Old Adjusted P-value    Z-score  Combined Score  Genes  \n",
      "0     0.010725              0.010725 -51.116803      255.625573   MECR  \n",
      "1     0.010343              0.010725 -40.877606      205.959909   ALPG  \n",
      "2     0.006138              0.010725 -18.073696      100.984959   ALPG  \n"
     ]
    },
    {
     "name": "stdout",
     "output_type": "stream",
     "text": [
      "3     0.009198              0.010725 -12.009321       61.977171  SRP19  \n",
      "          Gene_set           Term Overlap   P-value  Adjusted P-value  \\\n",
      "0  KEGG_2019_Human        Measles   1/138  0.013753          0.016432   \n",
      "1  KEGG_2019_Human  RNA transport   1/165  0.016432          0.016432   \n",
      "\n",
      "   Old P-value  Old Adjusted P-value   Z-score  Combined Score  Genes  \n",
      "0     0.017814              0.021274 -8.631029       36.997061  EIF3H  \n",
      "1     0.021274              0.021274 -5.640213       23.172834  EIF3H  \n",
      "          Gene_set                                    Term Overlap   P-value  \\\n",
      "0  KEGG_2019_Human                   TNF signaling pathway   1/110  0.037876   \n",
      "1  KEGG_2019_Human                    Rheumatoid arthritis    1/91  0.031423   \n",
      "2  KEGG_2019_Human                 IL-17 signaling pathway    1/93  0.032104   \n",
      "3  KEGG_2019_Human                                Ribosome   1/153  0.052344   \n",
      "4  KEGG_2019_Human             Chemokine signaling pathway   1/190  0.064644   \n",
      "5  KEGG_2019_Human  Cytokine-cytokine receptor interaction   1/294  0.098486   \n",
      "\n",
      "   Adjusted P-value  Old P-value  Old Adjusted P-value    Z-score  \\\n",
      "0          0.075752     0.028246              0.056493 -81.452257   \n",
      "1          0.075752     0.023440              0.056493 -37.812032   \n",
      "2          0.075752     0.023947              0.056493 -25.677861   \n",
      "3          0.077573     0.039080              0.058024  -4.232884   \n",
      "4          0.077573     0.048353              0.058024  -1.937170   \n",
      "5          0.098486     0.074178              0.074178  -2.020404   \n",
      "\n",
      "   Combined Score    Genes  \n",
      "0      266.628604    CCL20  \n",
      "1      130.837551    CCL20  \n",
      "2       88.300234    CCL20  \n",
      "3       12.486641  RPL22L1  \n",
      "4        5.305640    CCL20  \n",
      "5        4.682979    CCL20  \n",
      "          Gene_set                                    Term Overlap   P-value  \\\n",
      "0  KEGG_2019_Human                   TNF signaling pathway   1/110  0.037876   \n",
      "1  KEGG_2019_Human                    Rheumatoid arthritis    1/91  0.031423   \n",
      "2  KEGG_2019_Human                 IL-17 signaling pathway    1/93  0.032104   \n",
      "3  KEGG_2019_Human                                Ribosome   1/153  0.052344   \n",
      "4  KEGG_2019_Human             Chemokine signaling pathway   1/190  0.064644   \n",
      "5  KEGG_2019_Human  Cytokine-cytokine receptor interaction   1/294  0.098486   \n",
      "\n",
      "   Adjusted P-value  Old P-value  Old Adjusted P-value    Z-score  \\\n",
      "0          0.075752     0.028246              0.056493 -81.452257   \n",
      "1          0.075752     0.023440              0.056493 -37.812032   \n",
      "2          0.075752     0.023947              0.056493 -25.677861   \n",
      "3          0.077573     0.039080              0.058024  -4.232884   \n",
      "4          0.077573     0.048353              0.058024  -1.937170   \n",
      "5          0.098486     0.074178              0.074178  -2.020404   \n",
      "\n",
      "   Combined Score    Genes  \n",
      "0      266.628604    CCL20  \n",
      "1      130.837551    CCL20  \n",
      "2       88.300234    CCL20  \n",
      "3       12.486641  RPL22L1  \n",
      "4        5.305640    CCL20  \n",
      "5        4.682979    CCL20  \n"
     ]
    }
   ],
   "source": [
    "for col in sig_cols:\n",
    "    col_name = col.columns[0]\n",
    "    gene_name_list = list(col.index)\n",
    "    enrichment = gp.enrichr(gene_list = gene_name_list, \n",
    "                            description=col_name, \n",
    "                            gene_sets='KEGG_2019_Human', \n",
    "                            outdir='test/enrichr_kegg', #This isn't saving correctly...why is that?\n",
    "                            cutoff=0.5)\n",
    "    print(enrichment.res2d)\n",
    "    barplot(enrichment.res2d, title=col_name)"
   ]
  }
 ],
 "metadata": {
  "kernelspec": {
   "display_name": "Python 3",
   "language": "python",
   "name": "python3"
  },
  "language_info": {
   "codemirror_mode": {
    "name": "ipython",
    "version": 3
   },
   "file_extension": ".py",
   "mimetype": "text/x-python",
   "name": "python",
   "nbconvert_exporter": "python",
   "pygments_lexer": "ipython3",
   "version": "3.6.2"
  }
 },
 "nbformat": 4,
 "nbformat_minor": 2
}
