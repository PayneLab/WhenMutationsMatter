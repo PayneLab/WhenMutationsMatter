{
 "cells": [
  {
   "cell_type": "code",
   "execution_count": 37,
   "metadata": {},
   "outputs": [],
   "source": [
    "import pandas as pd\n",
    "import numpy as np\n",
    "import binarization_functions as bf"
   ]
  },
  {
   "cell_type": "markdown",
   "metadata": {},
   "source": [
    "## Step 1a: Load the data"
   ]
  },
  {
   "cell_type": "code",
   "execution_count": 38,
   "metadata": {
    "collapsed": true
   },
   "outputs": [],
   "source": [
    "endo = pd.read_csv('Data/proteomic_sig_enrichments_endo_ALL.csv')\n",
    "colon = pd.read_csv('Data/proteomic_sig_enrichments_colon_ALL.csv')"
   ]
  },
  {
   "cell_type": "code",
   "execution_count": 39,
   "metadata": {},
   "outputs": [],
   "source": [
    "#Format DataFrames\n",
    "\n",
    "#Endometrial\n",
    "endo.reset_index(drop=True)\n",
    "endo_cols = list(endo.columns)\n",
    "endo_cols[0] = 'Index'\n",
    "endo.columns = endo_cols\n",
    "endo.set_index('Index', inplace=True)\n",
    "\n",
    "#Colon\n",
    "colon.reset_index(drop=True)\n",
    "colon_cols = list(colon.columns)\n",
    "colon_cols[0] = 'Index'\n",
    "colon.columns = colon_cols\n",
    "colon.set_index('Index', inplace=True)"
   ]
  },
  {
   "cell_type": "markdown",
   "metadata": {},
   "source": [
    "## Step 1b: Find Significant enrichments"
   ]
  },
  {
   "cell_type": "code",
   "execution_count": 40,
   "metadata": {},
   "outputs": [
    {
     "name": "stdout",
     "output_type": "stream",
     "text": [
      "Testing for significant enrichments in Endometrial data:\n",
      "14 significant protein enrichments in Proteomics_Tumor_Normal_Other_tumor\n",
      "\n",
      "4 significant protein enrichments in Myometrial_invasion_Specify_50%_or_more\n",
      "\n",
      "586 significant protein enrichments in Histologic_type_Serous\n",
      "\n",
      "118 significant protein enrichments in Path_Stage_Reg_Lymph_Nodes-pN_FIGO_III\n",
      "\n",
      "11 significant protein enrichments in LVSI_1.0\n",
      "\n",
      "5 significant protein enrichments in Age_Young\n",
      "\n",
      "5 significant protein enrichments in Tumor_Site_Anterior\n",
      "\n",
      "3 significant protein enrichments in Tumor_Focality_Multifocal\n",
      "\n",
      "9 significant protein enrichments in MSI_status_MSI-H\n",
      "\n",
      "9 significant protein enrichments in Genomics_subtype_MSI-H\n",
      "\n"
     ]
    }
   ],
   "source": [
    "#Endometrial\n",
    "\n",
    "#Get rid of unnecessary NaN values\n",
    "endo = endo.dropna(axis=0, how='all')\n",
    "\n",
    "print(\"Testing for significant enrichments in Endometrial data:\")\n",
    "endo_sig_cols = []\n",
    "for col in endo.columns:\n",
    "    endo_sig_col = bf.significantEnrichments(endo, col, 0.05)\n",
    "    #Get rid of columns that have no significant enrichments\n",
    "    if endo_sig_col is not None: \n",
    "        endo_sig_cols.append(sig_col)\n",
    "    else:\n",
    "        endo = endo.drop(col, axis=1)"
   ]
  },
  {
   "cell_type": "code",
   "execution_count": 41,
   "metadata": {},
   "outputs": [
    {
     "name": "stdout",
     "output_type": "stream",
     "text": [
      "Testing for significant enrichments in Colon data:\n",
      "12 significant protein enrichments in Proteomic_subtype_DorE\n",
      "\n",
      "173 significant protein enrichments in mutation_rate_High_Mutation_Rate\n",
      "\n",
      "162 significant protein enrichments in Mutation_Phenotype_MSI-H\n",
      "\n"
     ]
    }
   ],
   "source": [
    "#Colon\n",
    "\n",
    "#Get rid of unnecessary NaN values\n",
    "colon = colon.dropna(axis=0, how='all')\n",
    "\n",
    "print(\"Testing for significant enrichments in Colon data:\")\n",
    "colon_sig_cols = []\n",
    "for col in colon.columns:\n",
    "    colon_sig_col = bf.significantEnrichments(colon, col, 0.05)\n",
    "    #Get rid of columns that have no significant enrichments\n",
    "    if colon_sig_col is not None: \n",
    "        colon_sig_cols.append(sig_col)\n",
    "    else:\n",
    "        colon = colon.drop(col, axis=1)"
   ]
  },
  {
   "cell_type": "markdown",
   "metadata": {},
   "source": [
    "## Step 2a: Find a specific category to compare"
   ]
  },
  {
   "cell_type": "markdown",
   "metadata": {},
   "source": [
    "Here we will compare MSI_H enrichments between Colon and Endometrial Cancer to see if there are any common enrichments"
   ]
  },
  {
   "cell_type": "code",
   "execution_count": 42,
   "metadata": {},
   "outputs": [
    {
     "name": "stdout",
     "output_type": "stream",
     "text": [
      "Significant enrichments for endometrial cancer patients:\n",
      "['CCL20', 'PEG10', 'RPL22L1']\n",
      "\n",
      "\n",
      "Significant enrichments for colon cancer patients:\n",
      "['ADGRG6', 'AIF1L', 'APOL1', 'APOL2', 'CPOX', 'EIF2D', 'EXO1', 'HPSE', 'MAPK12', 'NDUFA4L2', 'PIK3AP1', 'PMF1', 'QSOX1', 'RNF19B', 'S100A16', 'SSFA2', 'USF1', 'WARS', 'WDR25']\n",
      "\n",
      "\n",
      "CCL20 enrichment does not overlap between colon and endometrial cancers.\n",
      "\n",
      "PEG10 enrichment does not overlap between colon and endometrial cancers.\n",
      "\n",
      "RPL22L1 enrichment does not overlap between colon and endometrial cancers.\n",
      "\n"
     ]
    }
   ],
   "source": [
    "#Get data from csv files and compare\n",
    "\n",
    "#Create dataframe and list of significant enrichments from endometrial MSI-H samples\n",
    "endo_MSI_H = pd.read_csv('Data/proteomic_endo_MSI_H_enrichments.csv')\n",
    "endo_MSI_H.reset_index(drop=True)\n",
    "endo_MSI_H.columns = ['Index', 'Genomics_subtype_MSI-H_P_values']\n",
    "endo_MSI_H.set_index('Index', inplace=True)\n",
    "MSI_sig_enrichments_endo = list(endo_MSI_H.index)\n",
    "print(\"Significant enrichments for endometrial cancer patients:\")\n",
    "print(MSI_sig_enrichments_endo)\n",
    "print('\\n')\n",
    "\n",
    "#Read the same data from colon, and create a list to compare them\n",
    "colon_MSI_H = pd.read_csv('Data/proteomic_colon_MSI_H_enrichments.csv')\n",
    "colon_MSI_H.columns = ['Index', 'Mutation_Phenotype_MSI-H_P_values']\n",
    "colon_MSI_H.set_index('Index', inplace=True)\n",
    "MSI_sig_enrichments_colon = list(colon_MSI_H.index)\n",
    "print(\"Significant enrichments for colon cancer patients:\")\n",
    "print(MSI_sig_enrichments_colon)\n",
    "print('\\n')\n",
    "\n",
    "#Compare enrichments between colon and endometrial for MSI_H\n",
    "for item in MSI_sig_enrichments_endo:\n",
    "    if item in MSI_sig_enrichments_colon:\n",
    "        print(item+\" enrichment does overlap between colon and endometrial cancers.\\n\")\n",
    "    else:\n",
    "        print(item+\" enrichment does not overlap between colon and endometrial cancers.\\n\")\n",
    "        \n",
    "#Conclusion? There are no significant enrichments that overlap on MSI_H between colon and endometrial"
   ]
  },
  {
   "cell_type": "markdown",
   "metadata": {},
   "source": [
    "## Step 2b: Do a general comparison for all enrichment columns"
   ]
  },
  {
   "cell_type": "markdown",
   "metadata": {},
   "source": [
    "Because the only clinical attribute in common between proteomic outlier data for endometrial and colon cancers is MSI_H, this step is irrelevant. However, in some cases, there may be more columns in common, in which case you may opt to automate a comparison that applies concepts from the above cell."
   ]
  }
 ],
 "metadata": {
  "kernelspec": {
   "display_name": "Python 3",
   "language": "python",
   "name": "python3"
  },
  "language_info": {
   "codemirror_mode": {
    "name": "ipython",
    "version": 3
   },
   "file_extension": ".py",
   "mimetype": "text/x-python",
   "name": "python",
   "nbconvert_exporter": "python",
   "pygments_lexer": "ipython3",
   "version": "3.6.2"
  }
 },
 "nbformat": 4,
 "nbformat_minor": 2
}
