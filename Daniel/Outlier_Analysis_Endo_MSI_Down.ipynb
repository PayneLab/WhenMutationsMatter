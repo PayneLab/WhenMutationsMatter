{
 "cells": [
  {
   "cell_type": "markdown",
   "metadata": {},
   "source": [
    "## BlackSheep Cookbook MSI Down Regulation\n",
    "\n",
    "The Black Sheep Analysis allows researchers to find trends in abnormal protein enrichment among patients in CPTAC datasets. In this Cookbook, we will go through the steps needed to perform a full Black Sheep Analysis, to answer a research question, of if MSI Down-regulation plays a role in protein enrichments for patients with Endometrial Cancer."
   ]
  },
  {
   "cell_type": "markdown",
   "metadata": {},
   "source": [
    "### Step 1a: Import Dependencies\n",
    "First, import the necessary dependencies and install cptac through pip (if necessary)."
   ]
  },
  {
   "cell_type": "code",
   "execution_count": 1,
   "metadata": {},
   "outputs": [
    {
     "name": "stdout",
     "output_type": "stream",
     "text": [
      "Welcome to cptac, a python package for disseminating cancer\n",
      "proteogenomics data. To view available datasets, enter\n",
      "'cptac.list_data()'. Extensive tutorials are available at\n",
      "https://github.com/PayneLab/cptac/tree/master/doc\n",
      "\n",
      "******\n",
      "Version: 0.4.5\n",
      "******\n",
      "Checking that data files are up-to-date...\n",
      "100% [..................................................................................] 649 / 649\n",
      "Data check complete.\n",
      "endometrial data version: 2.1\n",
      "\n",
      "Loading acetylproteomics data...\n",
      "Loading clinical data...\n",
      "Loading CNA data...\n",
      "Loading definitions data...\n",
      "Loading miRNA data...\n",
      "Loading phosphoproteomics_gene data...\n",
      "Loading phosphoproteomics_site data...\n",
      "Loading proteomics data...\n",
      "Loading somatic data...\n",
      "Loading somatic_binary data...\n",
      "Loading transcriptomics_circular data...\n",
      "Loading transcriptomics_linear data...\n",
      "\n",
      " ******PLEASE READ******\n",
      "WARNING: This data is under a publication embargo until July 1, 2019.\n",
      "CPTAC is a community resource project and data are made available\n",
      "rapidly after generation for community research use. The embargo\n",
      "allows exploring and utilizing the data, but analysis may not be\n",
      "published until July 1, 2019. Please see\n",
      "https://proteomics.cancer.gov/data-portal/about/data-use-agreement or\n",
      "enter cptac.embargo() to open the webpage for more details.\n"
     ]
    }
   ],
   "source": [
    "import numpy as np\n",
    "import pandas as pd\n",
    "import matplotlib.pyplot as plt\n",
    "import seaborn as sns\n",
    "import cptac\n",
    "import binarization_functions as bf\n",
    "import blackSheepCPTACmoduleCopy as blsh\n",
    "en = cptac.Endometrial()"
   ]
  },
  {
   "cell_type": "markdown",
   "metadata": {},
   "source": [
    "## Step 1b: Load Data and Choose Omics Table\n",
    "In this analysis, we will be using the proteomics and transcriptomics tables."
   ]
  },
  {
   "cell_type": "code",
   "execution_count": 2,
   "metadata": {
    "collapsed": true
   },
   "outputs": [],
   "source": [
    "proteomics = en.get_proteomics()\n",
    "mRNA = en.get_transcriptomics()\n",
    "clinical = en.get_clinical()"
   ]
  },
  {
   "cell_type": "code",
   "execution_count": 3,
   "metadata": {
    "collapsed": true
   },
   "outputs": [],
   "source": [
    "#Append Genomics_subtype and MSI_status to en.get_clinical()\n",
    "derived_molecular = en.get_derived_molecular()\n",
    "clinical['MSI_status'] = derived_molecular['MSI_status']"
   ]
  },
  {
   "cell_type": "markdown",
   "metadata": {},
   "source": [
    "## Step 2: Determine what attributes you would like to A/B test. \n",
    "For this analysis, we will be testing MSI_status."
   ]
  },
  {
   "cell_type": "code",
   "execution_count": 4,
   "metadata": {
    "collapsed": true
   },
   "outputs": [],
   "source": [
    "#Create a subset copy of the original Clinical DataFrame for MSI.\n",
    "annotations = pd.DataFrame(clinical['MSI_status'].copy())"
   ]
  },
  {
   "cell_type": "markdown",
   "metadata": {},
   "source": [
    "## Step 3: Perform outliers analysis"
   ]
  },
  {
   "cell_type": "code",
   "execution_count": 5,
   "metadata": {},
   "outputs": [
    {
     "name": "stderr",
     "output_type": "stream",
     "text": [
      "C:\\Users\\Daniel\\AppData\\Local\\conda\\conda\\envs\\Research\\lib\\site-packages\\numpy\\lib\\nanfunctions.py:1354: RuntimeWarning: All-NaN slice encountered\n",
      "  overwrite_input, interpolation)\n"
     ]
    }
   ],
   "source": [
    "outliers_prot = blsh.make_outliers_table(proteomics, iqrs=1.5, \n",
    "                                         up_or_down='down', \n",
    "                                         aggregate=False, \n",
    "                                         frac_table=False)\n",
    "\n",
    "outliers_mRNA = blsh.make_outliers_table(mRNA, iqrs=1.5, \n",
    "                                         up_or_down='down', \n",
    "                                         aggregate=False, \n",
    "                                         frac_table=False)"
   ]
  },
  {
   "cell_type": "markdown",
   "metadata": {},
   "source": [
    "## Step 4: Wrap your A/B test into the outliers analysis, and create tables of the results."
   ]
  },
  {
   "cell_type": "code",
   "execution_count": 47,
   "metadata": {},
   "outputs": [
    {
     "name": "stdout",
     "output_type": "stream",
     "text": [
      "Testing for proteomics dataset:\n",
      "\n",
      "No rows had outliers in at least 0.3 of MSI_status MSS samples\n",
      "Testing 10 rows for enrichment in MSI_status MSI-H samples\n",
      "\n",
      "Testing for transcriptomics dataset:\n",
      "\n",
      "No rows had outliers in at least 0.3 of MSI_status MSS samples\n",
      "Testing 39 rows for enrichment in MSI_status MSI-H samples\n"
     ]
    }
   ],
   "source": [
    "#Potentially show the the name of the dataset we're working with.\n",
    "print(\"Testing for proteomics dataset:\\n\")\n",
    "results_prot = blsh.compare_groups_outliers(outliers_prot, \n",
    "                                            annotations)\n",
    "\n",
    "print(\"\\nTesting for transcriptomics dataset:\\n\")\n",
    "results_mRNA = blsh.compare_groups_outliers(outliers_mRNA, \n",
    "                                            annotations)"
   ]
  },
  {
   "cell_type": "markdown",
   "metadata": {},
   "source": [
    "Many of the return values from the compare_groups_outliers function are NaN, so we will drop the unnecessary values"
   ]
  },
  {
   "cell_type": "code",
   "execution_count": 7,
   "metadata": {
    "collapsed": true
   },
   "outputs": [],
   "source": [
    "results_prot = results_prot.dropna(axis=0, how='all')\n",
    "results_mRNA = results_mRNA.dropna(axis=0, how='all')"
   ]
  },
  {
   "cell_type": "markdown",
   "metadata": {},
   "source": [
    "## Step 5: Visualize these enrichments"
   ]
  },
  {
   "cell_type": "code",
   "execution_count": 8,
   "metadata": {},
   "outputs": [
    {
     "data": {
      "image/png": "[encoded data removed]",
      "text/plain": [
       "<Figure size 432x288 with 2 Axes>"
      ]
     },
     "metadata": {},
     "output_type": "display_data"
    }
   ],
   "source": [
    "sns.heatmap(results_prot)\n",
    "plt.show()"
   ]
  },
  {
   "cell_type": "code",
   "execution_count": 9,
   "metadata": {},
   "outputs": [
    {
     "data": {
      "image/png": "[encoded data removed]",
      "text/plain": [
       "<Figure size 432x288 with 2 Axes>"
      ]
     },
     "metadata": {},
     "output_type": "display_data"
    }
   ],
   "source": [
    "sns.heatmap(results_mRNA)\n",
    "plt.show()"
   ]
  },
  {
   "cell_type": "markdown",
   "metadata": {},
   "source": [
    "## Step 6: Determine significant enrichments, and link with cancer drug database."
   ]
  },
  {
   "cell_type": "code",
   "execution_count": 10,
   "metadata": {},
   "outputs": [
    {
     "name": "stdout",
     "output_type": "stream",
     "text": [
      "10 significant protein enrichments in MSI_status_MSI-H\n",
      "\n",
      "35 significant protein enrichments in MSI_status_MSI-H\n",
      "\n"
     ]
    }
   ],
   "source": [
    "#Check for significant columns in proteomics\n",
    "for col in results_prot.columns:\n",
    "    bf.significantEnrichments(results_prot, col)\n",
    "\n",
    "#Check for significant columns in proteomics\n",
    "for col in results_mRNA.columns:\n",
    "    bf.significantEnrichments(results_mRNA, col)"
   ]
  },
  {
   "cell_type": "code",
   "execution_count": 11,
   "metadata": {},
   "outputs": [
    {
     "name": "stdout",
     "output_type": "stream",
     "text": [
      "10 significant protein enrichments in MSI_status_MSI-H\n",
      "\n",
      "35 significant protein enrichments in MSI_status_MSI-H\n",
      "\n"
     ]
    }
   ],
   "source": [
    "#Store the dataframe of significant enrichments\n",
    "column = 'MSI_status_MSI-H_enrichment_FDR'\n",
    "sig_results_prot = bf.significantEnrichments(results_prot, column)\n",
    "sig_results_mRNA = bf.significantEnrichments(results_mRNA, column)"
   ]
  },
  {
   "cell_type": "markdown",
   "metadata": {},
   "source": [
    "As mentioned in our paper, we see a significant down regulation in MLH1 and EPM2AIP1 in both protein and mRNA levels for patients with MSI-High status."
   ]
  },
  {
   "cell_type": "code",
   "execution_count": 12,
   "metadata": {},
   "outputs": [
    {
     "name": "stdout",
     "output_type": "stream",
     "text": [
      "True\n",
      "True\n",
      "True\n",
      "True\n"
     ]
    }
   ],
   "source": [
    "print('MLH1' in sig_results_prot.index)\n",
    "print('EPM2AIP1' in sig_results_prot.index)\n",
    "print('MLH1' in sig_results_mRNA.index)\n",
    "print('EPM2AIP1' in sig_results_mRNA.index)"
   ]
  },
  {
   "cell_type": "markdown",
   "metadata": {},
   "source": [
    "Additionally, PMS1 and PMS2, which are two binding partners of MLH1, are downregulated at the protein level"
   ]
  },
  {
   "cell_type": "code",
   "execution_count": 13,
   "metadata": {},
   "outputs": [
    {
     "name": "stdout",
     "output_type": "stream",
     "text": [
      "True\n",
      "False\n",
      "True\n",
      "False\n"
     ]
    }
   ],
   "source": [
    "print('PMS1' in sig_results_prot.index)\n",
    "print('PMS2' in sig_results_prot.index)"
   ]
  }
 ],
 "metadata": {
  "kernelspec": {
   "display_name": "Python 3",
   "language": "python",
   "name": "python3"
  },
  "language_info": {
   "codemirror_mode": {
    "name": "ipython",
    "version": 3
   },
   "file_extension": ".py",
   "mimetype": "text/x-python",
   "name": "python",
   "nbconvert_exporter": "python",
   "pygments_lexer": "ipython3",
   "version": "3.6.2"
  }
 },
 "nbformat": 4,
 "nbformat_minor": 2
}
