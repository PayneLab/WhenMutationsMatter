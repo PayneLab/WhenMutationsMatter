{
 "cells": [
  {
   "cell_type": "code",
   "execution_count": 2,
   "metadata": {
    "collapsed": true
   },
   "outputs": [],
   "source": [
    "import pandas as pd\n",
    "import cptac\n",
    "import numpy as np\n",
    "import matplotlib.pyplot as plt\n",
    "import seaborn as sns\n",
    "import scipy\n",
    "import lifelines\n",
    "from lifelines import KaplanMeierFitter\n",
    "from lifelines import CoxPHFitter\n",
    "from lifelines.statistics import proportional_hazard_test\n",
    "%matplotlib inline"
   ]
  },
  {
   "cell_type": "code",
   "execution_count": 3,
   "metadata": {},
   "outputs": [
    {
     "name": "stdout",
     "output_type": "stream",
     "text": [
      "                                    \r"
     ]
    }
   ],
   "source": [
    "ov = cptac.Ovarian()\n",
    "ov_foll = ov.get_followup()"
   ]
  },
  {
   "cell_type": "code",
   "execution_count": 4,
   "metadata": {},
   "outputs": [
    {
     "data": {
      "text/plain": [
       "Index(['Short Title', 'Event', 'Modified Time', 'Modified By', 'Status',\n",
       "       'CRF Name',\n",
       "       'Date of Last Contact (Do not answer if patient is deceased)',\n",
       "       'Vital Status (at time of last contact)', 'Date of Death',\n",
       "       'Tumor Status at Time of Last Contact or Death',\n",
       "       'Was a Review of the Initial Pathological Findings Done?',\n",
       "       'Was the Pathology Review consistent with the Diagnosis?',\n",
       "       'Adjuvant (Post-Operative) Radiation Therapy',\n",
       "       'Adjuvant (Post-Operative) Pharmaceutical Therapy',\n",
       "       'Adjuvant (Post-Operative) Immunotherapy',\n",
       "       'Adjuvant (Post-Operative) Hormone Therapy',\n",
       "       'Adjuvant (Post-Operative) Targeted Molecular Therapy',\n",
       "       'Measure of Success of Outcome at the Completion of Initial First Course Treatment (surgery and adjuvant therapies)',\n",
       "       ' New Tumor Event After Initial Treatment?', 'Type of New Tumor Event',\n",
       "       'Anatomic Site of New Tumor Event',\n",
       "       'Other Site of New Tumor Event or Lymph Node Location',\n",
       "       'Date of New Tumor Event', 'Method Of Diagnosis of New Tumor Event',\n",
       "       'Other Method Of Diagnosis of New Tumor Event',\n",
       "       'Additional Surgery for New Tumor Event',\n",
       "       'Date of Additional Surgery for New Tumor Event',\n",
       "       'Additional Chemotherapy Treatment of New Tumor Event',\n",
       "       'Additional Immunotherapy Treatment of New Tumor Event',\n",
       "       'Additional Hormone Therapy Treatment of New Tumor Event',\n",
       "       'Additional Targeted Molecular Therapy Treatment of New Tumor Event',\n",
       "       'Radiation Type', 'Location of Radiation Treatment',\n",
       "       'Number of Days from Date of Initial Pathologic Diagnosis to the Date Radiation Therapy Started',\n",
       "       'Total Dose', 'Units', 'Total Number of Fractions',\n",
       "       'Radiation Treatment Ongoing',\n",
       "       'Number of Days from Date of Initial Pathologic Diagnosis to the Date Radiation Therapy Ended',\n",
       "       'Measure of Best Response of Radiation Treatment',\n",
       "       'Was Patient Treated on a Clinical Trial?',\n",
       "       'Drug Name (Brand or Generic)', 'Clinical Trial Drug Classification',\n",
       "       'Pharmaceutical Type',\n",
       "       'Number of Days from Date of Initial Pathologic Diagnosis to Date of Therapy Start',\n",
       "       'Therapy Ongoing',\n",
       "       'Number of Days from Date of Initial Pathologic Diagnosis to Date of Therapy End',\n",
       "       'Measure of Best Response of Pharmaceutical Treatment',\n",
       "       'What Type of Malignancy was This?', 'Primary Site of Disease',\n",
       "       'Laterality of the Disease', 'Histological Type',\n",
       "       'Number of Days from Date of Initial Pathologic Diagnosis of the Tumor Submitted for CPTAC to the Date of Initial Diagnosis of Other Malignancy',\n",
       "       'Did the patient have surgery for this malignancy?', 'Type of Surgery',\n",
       "       'Number of Days from Date of Initial Pathologic Diagnosis of the Tumor Submitted for CPTAC to the Date of Surgical Resection for this Other Malignancy',\n",
       "       'Did the patient receive pharmaceutical therapy for this malignancy?',\n",
       "       'Extent of Pharmaceutical Therapy', 'Drug Name(s) (Brand or Generic)',\n",
       "       'Number of Days from Date of Initial Pathologic Diagnosis of the Tumor Submitted for CPTAC to Date Pharmaceutical Therapy Started for this Other Malignancy',\n",
       "       'Did the patient receive radiation therapy for this malignancy?',\n",
       "       'Extent of Radiation Therapy',\n",
       "       'If the patient received locoregional radiation, was the radiation therapy received in the same field as the tumor submitted for CPTAC?',\n",
       "       'Number of Days from Date of Initial Pathologic Diagnosis of the Tumor Submitted to CPTAC to Date Radiation Therapy Started for this Other Malignancy',\n",
       "       'Was the patient staged using FIGO?',\n",
       "       'FIGO Staging System (Gynecologic Tumors Only)', 'FIGO Stage',\n",
       "       ' Was the patient staged using AJCC?', 'AJCC Cancer Staging Edition',\n",
       "       'Pathologic Spread: Primary Tumor (pT)',\n",
       "       'Pathologic Spread: Lymph Nodes (pN)', 'Distant Metastases (M)',\n",
       "       'AJCC Tumor Stage'],\n",
       "      dtype='object', name='Name')"
      ]
     },
     "execution_count": 4,
     "metadata": {},
     "output_type": "execute_result"
    }
   ],
   "source": [
    "ov_foll.columns"
   ]
  },
  {
   "cell_type": "code",
   "execution_count": 5,
   "metadata": {},
   "outputs": [
    {
     "data": {
      "text/plain": [
       "Living      104\n",
       "Deceased     10\n",
       "Name: Vital Status (at time of last contact), dtype: int64"
      ]
     },
     "execution_count": 5,
     "metadata": {},
     "output_type": "execute_result"
    }
   ],
   "source": [
    "ov_foll['Vital Status (at time of last contact)'].value_counts()"
   ]
  },
  {
   "cell_type": "code",
   "execution_count": 6,
   "metadata": {},
   "outputs": [
    {
     "data": {
      "text/plain": [
       "No     88\n",
       "Yes    16\n",
       "Name:  New Tumor Event After Initial Treatment?, dtype: int64"
      ]
     },
     "execution_count": 6,
     "metadata": {},
     "output_type": "execute_result"
    }
   ],
   "source": [
    "ov_foll[' New Tumor Event After Initial Treatment?'].value_counts()"
   ]
  },
  {
   "cell_type": "code",
   "execution_count": 7,
   "metadata": {},
   "outputs": [
    {
     "name": "stdout",
     "output_type": "stream",
     "text": [
      "                                    \r"
     ]
    }
   ],
   "source": [
    "en = cptac.Endometrial()\n",
    "en_foll = en.get_followup()"
   ]
  },
  {
   "cell_type": "code",
   "execution_count": 8,
   "metadata": {},
   "outputs": [
    {
     "data": {
      "text/plain": [
       "Index(['Cohort', 'Tumor code', 'Follow-up Period', 'Lost to Follow-up?',\n",
       "       'Vital Status', 'Path Diag to Last Contact(Day)', 'Cause of Death',\n",
       "       'Path Diag to Death(days)', 'Adj Post-Op Radiation Therapy',\n",
       "       'Adj Post-Op Pharma Therapy', 'Adj Post-Op Immunotherapy',\n",
       "       'Tumor Status', 'Menopausal Hormone Therapy', 'Oral Contraceptives',\n",
       "       'Tamoxifen', 'Hypertension', 'Diabetes', 'Num Full Pregnancies',\n",
       "       'Colorectal Cancer', 'Success of Initial Treatment',\n",
       "       'Success of Treatment@ Followup', 'ECOG Score', 'Karnofsky Score',\n",
       "       'Perform Status Scale: Timing', 'Other Perform Scale Timing',\n",
       "       'New Tumor After Initial TRT', 'Locoregional Recurrence Tumor',\n",
       "       'Distant Metastasis Tumor', 'New Primary Tumor',\n",
       "       'New Tumor Site Unknown', 'New Tumor Site Lung', 'New Tumor Site Bone',\n",
       "       'New Tumor Site Liver', 'New Tumor Site Brain', 'New Tumor Site Other',\n",
       "       'Specify Other New Tumor Site', 'Path Diag to new Tumor (days)',\n",
       "       'Additional Surgery ?', 'Path Diag to Surgery (days)   ',\n",
       "       'New Tumor Procedure Unknown', 'New Tumor Excisional biopsy',\n",
       "       'New Tumor Incisional biopsy', 'New Tumor Surgical Resection',\n",
       "       'Other New Tumor Procedure', 'Specify Other New Tumor Proc',\n",
       "       'Residual Tumor After Surgery', 'Radiation for New Tumor',\n",
       "       'Pharmaceutical for New Tumor', 'Immunological for New Tumor'],\n",
       "      dtype='object', name='Name')"
      ]
     },
     "execution_count": 8,
     "metadata": {},
     "output_type": "execute_result"
    }
   ],
   "source": [
    "en_foll.columns"
   ]
  },
  {
   "cell_type": "code",
   "execution_count": 9,
   "metadata": {},
   "outputs": [
    {
     "data": {
      "text/plain": [
       "Living      194\n",
       "Deceased      6\n",
       "Name: Vital Status, dtype: int64"
      ]
     },
     "execution_count": 9,
     "metadata": {},
     "output_type": "execute_result"
    }
   ],
   "source": [
    "en_foll['Vital Status'].value_counts()"
   ]
  },
  {
   "cell_type": "code",
   "execution_count": 10,
   "metadata": {},
   "outputs": [
    {
     "data": {
      "text/plain": [
       "No     177\n",
       "Yes     15\n",
       "Name: New Tumor After Initial TRT, dtype: int64"
      ]
     },
     "execution_count": 10,
     "metadata": {},
     "output_type": "execute_result"
    }
   ],
   "source": [
    "en_foll['New Tumor After Initial TRT'].value_counts()"
   ]
  },
  {
   "cell_type": "code",
   "execution_count": 11,
   "metadata": {},
   "outputs": [
    {
     "name": "stdout",
     "output_type": "stream",
     "text": [
      "                                    \r"
     ]
    }
   ],
   "source": [
    "brca = cptac.Brca()\n",
    "brca_foll = brca.get_followup()"
   ]
  },
  {
   "cell_type": "code",
   "execution_count": 12,
   "metadata": {},
   "outputs": [
    {
     "data": {
      "text/plain": [
       "Index(['Short Title', 'Event', 'Modified Time', 'Modified By', 'Status',\n",
       "       'CRF Name', 'Date of Last Contact',\n",
       "       'Vital Status (at time of last contact)', 'Date of Death',\n",
       "       'Tumor Status (at time of last contact or death)',\n",
       "       'Was a Review of the Initial Pathological Findings Done?',\n",
       "       'Was the Pathology Review consistent with the Diagnosis?',\n",
       "       'OE_Margin Status after Surgical Procedure',\n",
       "       'OE_If margins were positive after first surgical resection, what was the surgical procedure performed to achieve negative margins?',\n",
       "       'OE_Other Surgical Method Performed to Achieve Negative Margins',\n",
       "       'OE_Margin Status after second surgical resection',\n",
       "       'OE_Adjuvant (Post-Operative) Clinical Trial Medication Therapy',\n",
       "       'OE_Adjuvant (Post-Operative) HER2 Targeted Therapy',\n",
       "       'OE_New Tumor Event After Initial Treatment?',\n",
       "       'OE_Type of New Tumor Event', 'OE_Anatomic Site of New Tumor Event',\n",
       "       'OE_Other Site of New Tumor Event', 'OE_Date of New Tumor Event',\n",
       "       'OE_Additional treatment for New Tumor Event: Surgery',\n",
       "       'OE_Date of Additional Surgery for New Tumor Event',\n",
       "       'OE_Additional treatment for New Tumor Event: Radiation Therapy',\n",
       "       'OE_Additional treatment for New Tumor Event: Pharmaceutical Therapy',\n",
       "       'OE_Site of First Non-Nodal Metastatic Tumor',\n",
       "       'OE_Other Site of First Non-Nodal Metastatic Tumor',\n",
       "       'Was neoadjuvant systemic treatment given after collection of samples for CPTAC, before the first surgical procedure',\n",
       "       'First Surgical Procedure', 'Other First Surgical Procedure',\n",
       "       'Margin Status after First Surgical Procedure',\n",
       "       'If margins were positive after first surgical resection, what was the surgical procedure performed to achieve negative margins?',\n",
       "       'Other Surgical Method Performed to Achieve Negative ',\n",
       "       'Margin Status after second surgical resection',\n",
       "       'Adjuvant (Post-Operative) Radiation Therapy',\n",
       "       'Adjuvant (Post-Operative) Chemotherapy',\n",
       "       'Adjuvant (Post-Operative) Endocrine Therapy',\n",
       "       'Adjuvant (Post-Operative) Clinical Trial Medication Therapy',\n",
       "       'Adjuvant (Post-Operative) Clinical Trial ID',\n",
       "       'Adjuvant (Post-Operative) HER2 Targeted Therapy',\n",
       "       'New Tumor Event After Initial Treatment?', 'Type of New Tumor Event',\n",
       "       'Anatomic Site of New Tumor Event', 'Other Site of New Tumor Event',\n",
       "       'Date of New Tumor Event',\n",
       "       'Additional treatment for New Tumor Event: Surgery',\n",
       "       'Date of Additional Surgery for New Tumor Event',\n",
       "       'Additional treatment for New Tumor Event: Radiation Therapy',\n",
       "       'Additional treatment for New Tumor Event: Pharmaceutical Therapy',\n",
       "       'Site of First Non-Nodal Metastatic Tumor',\n",
       "       'Other Site of First Non-Nodal Metastatic Tumor', 'Radiation Type',\n",
       "       'Location of Radiation Treatment',\n",
       "       'Number of Days from Date of Initial Pathologic Diagnosis to the Date Radiation Therapy Started',\n",
       "       'Total Dose', 'Units', 'Total Number of Fractions',\n",
       "       'Radiation Treatment Ongoing',\n",
       "       'Number of Days from Date of Initial Pathologic Diagnosis to the Date Radiation Therapy Ended',\n",
       "       'Measure of Best Response of Radiation Treatment',\n",
       "       'Was Patient Treated on a Clinical Trial?',\n",
       "       'Drug Name (Brand or Generic)', 'Clinical Trial Drug Classification',\n",
       "       'Pharmaceutical Type',\n",
       "       'Number of Days from Date of Initial Pathologic Diagnosis to Date of Therapy Start',\n",
       "       'Therapy Ongoing',\n",
       "       'Number of Days from Date of Initial Pathologic Diagnosis to Date of Therapy End',\n",
       "       'Measure of Best Response of Pharmaceutical Treatment',\n",
       "       'What Type of Malignancy was This?', 'Primary Site of Disease',\n",
       "       'Laterality of the Disease', 'Histological Type',\n",
       "       'Number of Days from Date of Initial Pathologic Diagnosis of the Tumor Submitted for CPTAC to the Date of Initial Diagnosis of Other Malignancy',\n",
       "       'Did the patient have surgery for this malignancy?', 'Type of Surgery',\n",
       "       'Number of Days from Date of Initial Pathologic Diagnosis of the Tumor Submitted for CPTAC to the Date of Surgical Resection for this Other Malignancy',\n",
       "       'Did the patient receive pharmaceutical therapy for this malignancy?',\n",
       "       'Extent of Pharmaceutical Therapy', 'Drug Name(s) (Brand or Generic)',\n",
       "       'Number of Days from Date of Initial Pathologic Diagnosis of the Tumor Submitted for CPTAC to Date Pharmaceutical Therapy Started for this Other Malignancy',\n",
       "       ' Did the patient receive radiation therapy for this malignancy',\n",
       "       'Extent of Radiation Therapy',\n",
       "       'If the patient received locoregional radiation, was the radiation therapy received in the same field as the tumor submitted for CPTAC?',\n",
       "       'Number of Days from Date of Initial Pathologic Diagnosis of the Tumor Submitted to CPTAC to Date Radiation Therapy Started for this Other Malignancy',\n",
       "       'Was the patient staged using FIGO?',\n",
       "       'FIGO Staging System (Gynecologic Tumors Only)', 'FIGO Stage',\n",
       "       'Was the patient staged using AJCC?', 'AJCC Cancer Staging Edition',\n",
       "       'Pathologic Spread: Primary Tumor (pT)',\n",
       "       'Pathologic Spread: Lymph Nodes (pN)', 'Distant Metastases (M)',\n",
       "       'AJCC Tumor Stage'],\n",
       "      dtype='object', name='Name')"
      ]
     },
     "execution_count": 12,
     "metadata": {},
     "output_type": "execute_result"
    }
   ],
   "source": [
    "brca_foll.columns"
   ]
  },
  {
   "cell_type": "code",
   "execution_count": 13,
   "metadata": {},
   "outputs": [
    {
     "data": {
      "text/plain": [
       "Alive       56\n",
       "Living      48\n",
       "Deceased     1\n",
       "Dead         1\n",
       "Name: Vital Status (at time of last contact), dtype: int64"
      ]
     },
     "execution_count": 13,
     "metadata": {},
     "output_type": "execute_result"
    }
   ],
   "source": [
    "brca_foll['Vital Status (at time of last contact)'].value_counts()"
   ]
  },
  {
   "cell_type": "code",
   "execution_count": 14,
   "metadata": {},
   "outputs": [
    {
     "data": {
      "text/plain": [
       "No     16\n",
       "Yes     1\n",
       "Name: New Tumor Event After Initial Treatment?, dtype: int64"
      ]
     },
     "execution_count": 14,
     "metadata": {},
     "output_type": "execute_result"
    }
   ],
   "source": [
    "brca_foll['New Tumor Event After Initial Treatment?'].value_counts()"
   ]
  },
  {
   "cell_type": "code",
   "execution_count": 15,
   "metadata": {},
   "outputs": [
    {
     "name": "stdout",
     "output_type": "stream",
     "text": [
      "                                    \r"
     ]
    }
   ],
   "source": [
    "colon = cptac.Colon()\n",
    "co_foll = colon.get_followup()"
   ]
  },
  {
   "cell_type": "code",
   "execution_count": 16,
   "metadata": {},
   "outputs": [
    {
     "data": {
      "text/plain": [
       "Index(['Short Title', 'Event', 'Modified Time', 'Modified By', 'Status',\n",
       "       'CRF Name',\n",
       "       'Date of Last Contact (Do not answer if patient is deceased)',\n",
       "       'Vital Status (at time of last contact)', 'Date of Death',\n",
       "       'Tumor Status (at time of last contact or death)',\n",
       "       'Was a Review of the Initial Pathological Findings Done?',\n",
       "       'Was the Pathology Review consistent with the Diagnosis?',\n",
       "       'Adjuvant Post-Operative Radiation Therapy',\n",
       "       'Adjuvant Post-Operative Pharmaceutical Therapy',\n",
       "       'Adjuvant Post-Operative Targeted Molecular Therapy',\n",
       "       'New Tumor Event After Initial Treatment',\n",
       "       'Method Of Diagnosis of New Tumor Event',\n",
       "       'Other Method Of Diagnosis of New Tumor Event',\n",
       "       'If No New Tumor Event, explain how it was confirmed.',\n",
       "       'Type of New Tumor Event', 'Anatomic Site of New Tumor Event',\n",
       "       'Other Site of New Tumor Event',\n",
       "       'Date of New Tumor Event After Initial Treatment',\n",
       "       'Additional Surgery for New Tumor Event',\n",
       "       'Date of of Additional Surgery for New Tumor Event',\n",
       "       'Residual Tumor after surgery for New Tumor Event (AJCC 7th Edition)',\n",
       "       'Additional Radiation Therapy Treatment of New Tumor Event',\n",
       "       'Additional Pharmaceutical Therapy Treatment of New Tumor Event',\n",
       "       'Additional Targeted Molecular Therapy Treatment of New Tumor Event',\n",
       "       'Radiation Type', 'Location of Radiation Treatment',\n",
       "       'Number of Days from Date of Initial Pathologic Diagnosis to the Date Radiation Therapy Started',\n",
       "       'Total Dose', 'Units', 'Total Number of Fractions',\n",
       "       'Radiation Treatment Ongoing',\n",
       "       'Number of Days from Date of Initial Pathologic Diagnosis to the Date Radiation Therapy Ended',\n",
       "       'Measure of Best Response of Radiation Treatment',\n",
       "       'Was Patient Treated on a Clinical Trial?',\n",
       "       'Drug Name (Brand or Generic)', 'Clinical Trial Drug Classification',\n",
       "       'Pharmaceutical Type',\n",
       "       'Number of Days from Date of Initial Pathologic Diagnosis to Date of Therapy Start',\n",
       "       'Therapy Ongoing',\n",
       "       'Number of Days from Date of Initial Pathologic Diagnosis to Date of Therapy End',\n",
       "       'Measure of Best Response of Pharmaceutical Treatment',\n",
       "       'What Type of Malignancy was This?', 'Primary Site of Disease',\n",
       "       'Laterality of the Disease', 'Histological Type',\n",
       "       'Number of Days from Date of Initial Pathologic Diagnosis of the Tumor Submitted for CPTAC to the Date of Initial Diagnosis of Other Malignancy',\n",
       "       'Did the patient have surgery for this malignancy?', 'Type of Surgery',\n",
       "       'Number of Days from Date of Initial Pathologic Diagnosis of the Tumor Submitted for CPTAC to the Date of Surgical Resection for this Other Malignancy',\n",
       "       'Did the patient receive pharmaceutical therapy for this malignancy?',\n",
       "       'Extent of Pharmaceutical Therapy', 'Drug Name(s) (Brand or Generic)',\n",
       "       'Number of Days from Date of Initial Pathologic Diagnosis of the Tumor Submitted for CPTAC to Date Pharmaceutical Therapy Started for this Other Malignancy',\n",
       "       'Did the patient receive radiation therapy for this malignancy?',\n",
       "       'Extent of Radiation Therapy',\n",
       "       'If the patient received locoregional radiation, was the radiation therapy received in the same field as the tumor submitted for CPTAC?',\n",
       "       'Number of Days from Date of Initial Pathologic Diagnosis of the Tumor Submitted to CPTAC to Date Radiation Therapy Started for this Other Malignancy',\n",
       "       'Was the patient staged using FIGO?',\n",
       "       'FIGO Staging System (Gynecologic Tumors Only)', 'FIGO Stage',\n",
       "       ' Was the patient staged using AJCC?', 'AJCC Cancer Staging Edition',\n",
       "       'Pathologic Spread: Primary Tumor (pT)',\n",
       "       'Pathologic Spread: Lymph Nodes (pN)', 'Distant Metastases (M)',\n",
       "       'AJCC Tumor Stage'],\n",
       "      dtype='object', name='Name')"
      ]
     },
     "execution_count": 16,
     "metadata": {},
     "output_type": "execute_result"
    }
   ],
   "source": [
    "co_foll.columns"
   ]
  },
  {
   "cell_type": "code",
   "execution_count": 18,
   "metadata": {},
   "outputs": [
    {
     "data": {
      "text/plain": [
       "No     113\n",
       "Yes      8\n",
       "Name: New Tumor Event After Initial Treatment, dtype: int64"
      ]
     },
     "execution_count": 18,
     "metadata": {},
     "output_type": "execute_result"
    }
   ],
   "source": [
    "co_foll['New Tumor Event After Initial Treatment'].value_counts()"
   ]
  },
  {
   "cell_type": "code",
   "execution_count": 21,
   "metadata": {},
   "outputs": [
    {
     "data": {
      "text/plain": [
       "Living      126\n",
       "Deceased     10\n",
       "Name: Vital Status (at time of last contact), dtype: int64"
      ]
     },
     "execution_count": 21,
     "metadata": {},
     "output_type": "execute_result"
    }
   ],
   "source": [
    "co_foll['Vital Status (at time of last contact)'].value_counts()"
   ]
  },
  {
   "cell_type": "code",
   "execution_count": 22,
   "metadata": {},
   "outputs": [
    {
     "name": "stdout",
     "output_type": "stream",
     "text": [
      "                                    \r"
     ]
    },
    {
     "name": "stderr",
     "output_type": "stream",
     "text": [
      "cptac warning: The LUAD dataset is under publication embargo until July 01, 2020. CPTAC is a community resource project and data are made available rapidly after generation for community research use. The embargo allows exploring and utilizing the data, but analysis may not be published until after the embargo date. Please see https://proteomics.cancer.gov/data-portal/about/data-use-agreement or enter cptac.embargo() to open the webpage for more details. (C:\\Users\\Daniel\\AppData\\Local\\conda\\conda\\envs\\Research\\lib\\site-packages\\ipykernel_launcher.py, line 1)\n"
     ]
    }
   ],
   "source": [
    "luad = cptac.Luad()\n",
    "lu_foll = luad.get_followup()"
   ]
  },
  {
   "cell_type": "code",
   "execution_count": 23,
   "metadata": {},
   "outputs": [
    {
     "data": {
      "text/plain": [
       "Index(['Cohort', 'Tumor code', 'Follow-up Period', 'Lost to Follow-up?',\n",
       "       'Vital Status', 'Path Diag to Last Contact(Day)', 'Cause of Death',\n",
       "       'Path Diag to Death(days)', 'Adj Post-Op Radiation Therapy',\n",
       "       'Adj Post-Op Pharma Therapy', 'Adj Post-Op Immuno Therapy',\n",
       "       'Tumor Status', 'Success of Initial Treatment',\n",
       "       'Success of Treament @ Followup', 'ECOG Score', 'Karnofsky Score',\n",
       "       'Perform Status Scale: Timing', 'Other Perform Scale Timing',\n",
       "       'New Tumor After Initial TRT', 'Path Diag to new Tumor days',\n",
       "       'Locoregional Recurrence Tumor', 'Distant Metastasis Tumor',\n",
       "       'New Primary Tumor', 'New Tumor Site Lung', 'New Tumor Site Bone',\n",
       "       'New Tumor Site Liver', 'New Tumor Site Brain', 'New Tumor Site Other',\n",
       "       'Specify Other New Tumor Site', 'Diagnostic Evidence of Relapse',\n",
       "       'Additional Surgery Loco-reg', 'Path Diag to Surgery days LR',\n",
       "       'Additional Surgery for Mets', 'Path Diag to Mets Surgery days',\n",
       "       'Residual Tumor After Surgery', 'Radiation for New Tumor',\n",
       "       'Pharmaceutical for New Tumor', 'Immunological for New Tumor'],\n",
       "      dtype='object', name='Name')"
      ]
     },
     "execution_count": 23,
     "metadata": {},
     "output_type": "execute_result"
    }
   ],
   "source": [
    "lu_foll.columns"
   ]
  },
  {
   "cell_type": "code",
   "execution_count": 24,
   "metadata": {},
   "outputs": [
    {
     "data": {
      "text/plain": [
       "Series([], Name: Vital Status, dtype: int64)"
      ]
     },
     "execution_count": 24,
     "metadata": {},
     "output_type": "execute_result"
    }
   ],
   "source": [
    "lu_foll['Vital Status'].value_counts()"
   ]
  },
  {
   "cell_type": "code",
   "execution_count": 25,
   "metadata": {},
   "outputs": [
    {
     "data": {
      "text/plain": [
       "Series([], Name: New Tumor After Initial TRT, dtype: int64)"
      ]
     },
     "execution_count": 25,
     "metadata": {},
     "output_type": "execute_result"
    }
   ],
   "source": [
    "lu_foll['New Tumor After Initial TRT'].value_counts()"
   ]
  },
  {
   "cell_type": "code",
   "execution_count": 26,
   "metadata": {},
   "outputs": [
    {
     "name": "stdout",
     "output_type": "stream",
     "text": [
      "                                    \r"
     ]
    }
   ],
   "source": [
    "renal = cptac.Ccrcc()\n",
    "renal_foll = renal.get_followup()"
   ]
  },
  {
   "cell_type": "code",
   "execution_count": 27,
   "metadata": {},
   "outputs": [
    {
     "data": {
      "text/plain": [
       "Index(['Cohort', 'Tumor code', 'Follow-up Period', 'Lost to Follow-up?',\n",
       "       'Vital Status', 'Path Diag to Last Contact(Day)', 'Cause of Death',\n",
       "       'Path Diag to Death(days)', 'Adj Post-Op Radiation Therapy',\n",
       "       'Adj Post-Op Pharma Therapy', 'Adj Post-Op Immuno Therapy',\n",
       "       'Tumor Status', 'Success of Initial Treatment',\n",
       "       'Success of Treament @ Followup', 'ECOG Score', 'Karnofsky Score',\n",
       "       'Perform Status Scale: Timing', 'Other Perform Scale Timing',\n",
       "       'New Tumor After Initial TRT', 'Path Diag to new Tumor days',\n",
       "       'Additional Surgery ?', 'Path Diag to Surgery days     ',\n",
       "       'Additional Surgery for Mets ?', 'Path Diag to Mets Surgery days',\n",
       "       'Radiation for New Tumor', 'Pharmaceutical for New Tumor',\n",
       "       'Immunological for New Tumor'],\n",
       "      dtype='object', name='Name')"
      ]
     },
     "execution_count": 27,
     "metadata": {},
     "output_type": "execute_result"
    }
   ],
   "source": [
    "renal_foll.columns"
   ]
  },
  {
   "cell_type": "code",
   "execution_count": 28,
   "metadata": {},
   "outputs": [
    {
     "data": {
      "text/plain": [
       "Living      203\n",
       "Deceased     12\n",
       "Name: Vital Status, dtype: int64"
      ]
     },
     "execution_count": 28,
     "metadata": {},
     "output_type": "execute_result"
    }
   ],
   "source": [
    "renal_foll['Vital Status'].value_counts()"
   ]
  },
  {
   "cell_type": "code",
   "execution_count": 29,
   "metadata": {},
   "outputs": [
    {
     "data": {
      "text/plain": [
       "No     170\n",
       "Yes     22\n",
       "Name: New Tumor After Initial TRT, dtype: int64"
      ]
     },
     "execution_count": 29,
     "metadata": {},
     "output_type": "execute_result"
    }
   ],
   "source": [
    "renal_foll['New Tumor After Initial TRT'].value_counts()"
   ]
  },
  {
   "cell_type": "code",
   "execution_count": null,
   "metadata": {},
   "outputs": [],
   "source": [
    "renal_foll"
   ]
  },
  {
   "cell_type": "code",
   "execution_count": null,
   "metadata": {},
   "outputs": [],
   "source": [
    "hn = cptac.Hnscc()\n",
    "hn_foll = hn.get_followup()"
   ]
  },
  {
   "cell_type": "code",
   "execution_count": null,
   "metadata": {},
   "outputs": [],
   "source": [
    "hn_foll.columns"
   ]
  },
  {
   "cell_type": "code",
   "execution_count": null,
   "metadata": {},
   "outputs": [],
   "source": [
    "hn_foll['NEW_TUMOR_EVNT_AFTER_INIT'].value_counts()"
   ]
  },
  {
   "cell_type": "code",
   "execution_count": null,
   "metadata": {},
   "outputs": [],
   "source": [
    "hn_foll[\"VITAL_STATUS\"].value_counts()"
   ]
  }
 ],
 "metadata": {
  "kernelspec": {
   "display_name": "Python 3",
   "language": "python",
   "name": "python3"
  },
  "language_info": {
   "codemirror_mode": {
    "name": "ipython",
    "version": 3
   },
   "file_extension": ".py",
   "mimetype": "text/x-python",
   "name": "python",
   "nbconvert_exporter": "python",
   "pygments_lexer": "ipython3",
   "version": "3.6.2"
  }
 },
 "nbformat": 4,
 "nbformat_minor": 2
}
