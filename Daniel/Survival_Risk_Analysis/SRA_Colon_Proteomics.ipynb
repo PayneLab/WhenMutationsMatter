{
 "cells": [
  {
   "cell_type": "code",
   "execution_count": 44,
   "metadata": {},
   "outputs": [],
   "source": [
    "import pandas as pd\n",
    "import cptac\n",
    "import numpy as np\n",
    "import requests\n",
    "import json\n",
    "import deva\n",
    "import binarization_functions_1 as bf"
   ]
  },
  {
   "cell_type": "code",
   "execution_count": 15,
   "metadata": {},
   "outputs": [
    {
     "name": "stdout",
     "output_type": "stream",
     "text": [
      "                                    \r"
     ]
    }
   ],
   "source": [
    "co = cptac.Colon()\n",
    "clinical = co.get_clinical()\n",
    "proteomics = co.get_proteomics()\n",
    "follow_up = pd.read_excel(\"../Follow_Up_Data/Colon_One_Year_Clinical_Data_20160927.xls\")"
   ]
  },
  {
   "cell_type": "code",
   "execution_count": 19,
   "metadata": {
    "collapsed": true
   },
   "outputs": [],
   "source": [
    "cols_to_keep = ['Measure of Best Response of Pharmaceutical Treatment', \n",
    "                'Number of Days from Date of Initial Pathologic Diagnosis to Date of Therapy End', \n",
    "                'Therapy Ongoing', 'Drug Name (Brand or Generic)', \n",
    "                'Number of Days from Date of Initial Pathologic Diagnosis to Date of Therapy Start', \n",
    "                'Additional Pharmaceutical Therapy Treatment of New Tumor Event', \n",
    "                'Date of New Tumor Event After Initial Treatment', 'Type of New Tumor Event', \n",
    "                'New Tumor Event After Initial Treatment', 'Adjuvant Post-Operative Pharmaceutical Therapy', \n",
    "                'Adjuvant Post-Operative Targeted Molecular Therapy', \n",
    "                'Tumor Status (at time of last contact or death)', 'Date of Death', \n",
    "                'Vital Status (at time of last contact)', \n",
    "                'Date of Last Contact (Do not answer if patient is deceased)']\n",
    "\n",
    "follow_up_annotations = follow_up[cols_to_keep].copy()\n",
    "\n",
    "things_to_replace = ['Not Reported/ Unknown', 'Reported/ Unknown', \n",
    "                     'Not Applicable', 'na', 'unknown', 'Not Performed', \n",
    "                     'Unknown tumor status']\n",
    "\n",
    "for col in follow_up_annotations.columns:\n",
    "    follow_up_annotations[col] = follow_up_annotations[col].replace(things_to_replace, np.nan)\n",
    "\n",
    "for col in follow_up_annotations.columns:\n",
    "    if np.issubdtype(follow_up_annotations[col].dtype, np.number):\n",
    "        mean = follow_up_annotations[col].mean()\n",
    "        follow_up_annotations[col]= bf.binarizeCutOff(follow_up_annotations, col, mean,\n",
    "                                                      \"Above_Mean(\"+str(round(mean, 2))+\")\",\n",
    "                                                      \"Below_Mean(\"+str(round(mean, 2))+\")\")"
   ]
  },
  {
   "cell_type": "code",
   "execution_count": null,
   "metadata": {
    "collapsed": true
   },
   "outputs": [],
   "source": []
  }
 ],
 "metadata": {
  "kernelspec": {
   "display_name": "Python 3",
   "language": "python",
   "name": "python3"
  },
  "language_info": {
   "codemirror_mode": {
    "name": "ipython",
    "version": 3
   },
   "file_extension": ".py",
   "mimetype": "text/x-python",
   "name": "python",
   "nbconvert_exporter": "python",
   "pygments_lexer": "ipython3",
   "version": "3.6.2"
  }
 },
 "nbformat": 4,
 "nbformat_minor": 2
}
