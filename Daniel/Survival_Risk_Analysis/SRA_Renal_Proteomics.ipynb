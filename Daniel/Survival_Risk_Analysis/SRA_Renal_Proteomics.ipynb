{
 "cells": [
  {
   "cell_type": "code",
   "execution_count": 1,
   "metadata": {
    "collapsed": true
   },
   "outputs": [],
   "source": [
    "import pandas as pd\n",
    "import cptac\n",
    "import numpy as np\n",
    "import requests\n",
    "import json\n",
    "import deva\n",
    "import binarization_functions_1 as bf"
   ]
  },
  {
   "cell_type": "code",
   "execution_count": null,
   "metadata": {
    "collapsed": true
   },
   "outputs": [],
   "source": [
    "re = cptac.Ccrcc()\n",
    "clinical = re.get_clinical()\n",
    "proteomics = re.get_proteomics()"
   ]
  },
  {
   "cell_type": "code",
   "execution_count": 17,
   "metadata": {},
   "outputs": [],
   "source": [
    "follow_up = pd.read_excel('../Follow_Up_Data/CCRCC_followup_9_12.xlsx')"
   ]
  },
  {
   "cell_type": "code",
   "execution_count": 21,
   "metadata": {
    "collapsed": true
   },
   "outputs": [],
   "source": [
    "cols_to_drop = ['Case ID', 'Tumor code', 'ECOG Score', \n",
    "                'Karnofsky Score', 'Perform Status Scale: Timing', \n",
    "                'Other Perform Scale Timing']\n",
    "\n",
    "follow_up = follow_up.drop(cols_to_drop, axis=1)"
   ]
  },
  {
   "cell_type": "code",
   "execution_count": 22,
   "metadata": {
    "collapsed": true
   },
   "outputs": [],
   "source": [
    "things_to_replace = ['Not Reported/ Unknown', 'Reported/ Unknown', \n",
    "                     'Not Applicable', 'na', 'unknown', 'Not Performed', \n",
    "                     'Unknown tumor status', 'Unknown', ' Unknown', 'Unknown ',\n",
    "                     'Unknown Tumor Status', 'Not specified']\n",
    "\n",
    "to_replace = ['Metastatic Renal Cell Carcinoma', 'Tumor progression', \n",
    "              'Progression of disease', 'Progression of disease ', \n",
    "              'Tumor', 'Disease progression', 'Progressive Disease', \n",
    "              'Disease progression', 'disease progression ', 'main disease ']\n",
    "\n",
    "to_replace2 = ['Sepsis', 'ileus', 'metastatic disease', \n",
    "               'Cardiac arrest due hypoxic Respiratory Failure to eosinophilic ashtma', \n",
    "               'stroke', 'Post-operative complications']\n",
    "\n",
    "follow_up['Cause of Death'] = follow_up['Cause of Death'].replace(to_replace, 'Disease progression')\n",
    "follow_up['Cause of Death'] = follow_up['Cause of Death'].replace(to_replace2, 'Other')\n",
    "\n",
    "for col in follow_up.columns:\n",
    "    follow_up[col] = follow_up[col].replace(things_to_replace, np.nan)\n",
    "    if np.issubdtype(follow_up[col].dtype, np.number):\n",
    "        mean = follow_up[col].mean()\n",
    "        follow_up[col]= bf.binarizeCutOff(follow_up, col, mean,\n",
    "                                          \"Above_Mean(\"+str(round(mean, 2))+\")\",\n",
    "                                          \"Below_Mean(\"+str(round(mean, 2))+\")\")"
   ]
  },
  {
   "cell_type": "code",
   "execution_count": 23,
   "metadata": {},
   "outputs": [
    {
     "name": "stdout",
     "output_type": "stream",
     "text": [
      "Cohort\n",
      "Disc    215\n",
      "Conf    137\n",
      "Name: Cohort, dtype: int64\n",
      "\n",
      "\n",
      "Follow-up Period\n",
      "12 Months    202\n",
      "24 Months    135\n",
      "36 Months     15\n",
      "Name: Follow-up Period, dtype: int64\n",
      "\n",
      "\n",
      "Lost to Follow-up?\n",
      "No     288\n",
      "Yes     64\n",
      "Name: Lost to Follow-up?, dtype: int64\n",
      "\n",
      "\n",
      "Vital Status\n",
      "Living      336\n",
      "Deceased     16\n",
      "Name: Vital Status, dtype: int64\n",
      "\n",
      "\n",
      "Path Diag to Last Contact(Day)\n",
      "Below_Mean(449.15)    211\n",
      "Above_Mean(449.15)    140\n",
      "Name: Path Diag to Last Contact(Day), dtype: int64\n",
      "\n",
      "\n",
      "Cause of Death\n",
      "Other                  6\n",
      "Disease progression    6\n",
      "Name: Cause of Death, dtype: int64\n",
      "\n",
      "\n",
      "Path Diag to Death(days)\n",
      "Below_Mean(268.75)    9\n",
      "Above_Mean(268.75)    7\n",
      "Name: Path Diag to Death(days), dtype: int64\n",
      "\n",
      "\n",
      "Adj Post-Op Radiation Therapy\n",
      "No     299\n",
      "Yes     11\n",
      "Name: Adj Post-Op Radiation Therapy, dtype: int64\n",
      "\n",
      "\n",
      "Adj Post-Op Pharma Therapy\n",
      "No     286\n",
      "Yes     27\n",
      "Name: Adj Post-Op Pharma Therapy, dtype: int64\n",
      "\n",
      "\n",
      "Adj Post-Op Immuno Therapy\n",
      "No     287\n",
      "Yes     22\n",
      "Name: Adj Post-Op Immuno Therapy, dtype: int64\n",
      "\n",
      "\n",
      "Tumor Status\n",
      "Tumor Free    254\n",
      "With Tumor     58\n",
      "Name: Tumor Status, dtype: int64\n",
      "\n",
      "\n",
      "Success of Initial Treatment\n",
      "Complete Remission    188\n",
      "Persistent Disease     38\n",
      "Patient Deceased        3\n",
      "Name: Success of Initial Treatment, dtype: int64\n",
      "\n",
      "\n",
      "Success of Treament @ Followup\n",
      "Complete Remission    227\n",
      "Persistent Disease     46\n",
      "Patient Deceased        8\n",
      "Name: Success of Treament @ Followup, dtype: int64\n",
      "\n",
      "\n",
      "New Tumor After Initial TRT\n",
      "No     270\n",
      "Yes     39\n",
      "Name: New Tumor After Initial TRT, dtype: int64\n",
      "\n",
      "\n",
      "Path Diag to new Tumor days\n",
      "Above_Mean(314.54)    21\n",
      "Below_Mean(314.54)    18\n",
      "Name: Path Diag to new Tumor days, dtype: int64\n",
      "\n",
      "\n",
      "Additional Surgery ?\n",
      "No     29\n",
      "Yes    10\n",
      "Name: Additional Surgery ?, dtype: int64\n",
      "\n",
      "\n",
      "Path Diag to Surgery days     \n",
      "Above_Mean(356.4)    6\n",
      "Below_Mean(356.4)    4\n",
      "Name: Path Diag to Surgery days     , dtype: int64\n",
      "\n",
      "\n",
      "Additional Surgery for Mets ?\n",
      "No     26\n",
      "Yes    12\n",
      "Name: Additional Surgery for Mets ?, dtype: int64\n",
      "\n",
      "\n",
      "Path Diag to Mets Surgery days\n",
      "Below_Mean(288.92)    6\n",
      "Above_Mean(288.92)    6\n",
      "Name: Path Diag to Mets Surgery days, dtype: int64\n",
      "\n",
      "\n",
      "Radiation for New Tumor\n",
      "No     27\n",
      "Yes     8\n",
      "Name: Radiation for New Tumor, dtype: int64\n",
      "\n",
      "\n",
      "Pharmaceutical for New Tumor\n",
      "Yes    21\n",
      "No     17\n",
      "Name: Pharmaceutical for New Tumor, dtype: int64\n",
      "\n",
      "\n",
      "Immunological for New Tumor\n",
      "No     27\n",
      "Yes    10\n",
      "Name: Immunological for New Tumor, dtype: int64\n",
      "\n",
      "\n"
     ]
    }
   ],
   "source": [
    "for col in follow_up.columns:\n",
    "    print(col)\n",
    "    print(follow_up[col].value_counts())\n",
    "    print('\\n')"
   ]
  },
  {
   "cell_type": "code",
   "execution_count": null,
   "metadata": {
    "collapsed": true
   },
   "outputs": [],
   "source": []
  }
 ],
 "metadata": {
  "kernelspec": {
   "display_name": "Python 3",
   "language": "python",
   "name": "python3"
  },
  "language_info": {
   "codemirror_mode": {
    "name": "ipython",
    "version": 3
   },
   "file_extension": ".py",
   "mimetype": "text/x-python",
   "name": "python",
   "nbconvert_exporter": "python",
   "pygments_lexer": "ipython3",
   "version": "3.6.2"
  }
 },
 "nbformat": 4,
 "nbformat_minor": 2
}
