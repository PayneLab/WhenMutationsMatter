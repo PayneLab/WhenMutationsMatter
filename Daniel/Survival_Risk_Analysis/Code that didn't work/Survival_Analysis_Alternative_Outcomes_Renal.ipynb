{
 "cells": [
  {
   "cell_type": "markdown",
   "metadata": {},
   "source": [
    "# Survival Analysis of Renal Cancer Alternative Outcomes: Tumor Recurrence"
   ]
  },
  {
   "cell_type": "markdown",
   "metadata": {},
   "source": [
    "## Step 1: Import Data and Dependencies"
   ]
  },
  {
   "cell_type": "code",
   "execution_count": 1,
   "metadata": {
    "collapsed": true
   },
   "outputs": [],
   "source": [
    "import pandas as pd\n",
    "import cptac\n",
    "import deva\n",
    "import gseapy as gp\n",
    "from gseapy.plot import barplot, heatmap, dotplot\n",
    "import numpy as np\n",
    "import matplotlib.pyplot as plt\n",
    "import seaborn as sns\n",
    "import scipy\n",
    "import lifelines\n",
    "from lifelines import KaplanMeierFitter\n",
    "from lifelines import CoxPHFitter\n",
    "from lifelines.statistics import proportional_hazard_test\n",
    "%matplotlib inline"
   ]
  },
  {
   "cell_type": "code",
   "execution_count": 2,
   "metadata": {},
   "outputs": [
    {
     "name": "stdout",
     "output_type": "stream",
     "text": [
      "                                          \r"
     ]
    }
   ],
   "source": [
    "renal = cptac.Ccrcc()\n",
    "follow_up = renal.get_followup()\n",
    "proteomics = renal.get_proteomics()"
   ]
  },
  {
   "cell_type": "markdown",
   "metadata": {},
   "source": [
    "## Step 2: Data Preparation\n",
    "We will be focusing on the discovery cohort of tumors, for which we have follow-up data. We will first merge the clinical and follow-up tables together for analysis. Then we will choose a few attributes to focus on, and narrow our dataframe to those attributes. While you could study a wide variety of factors related to survival, such as country of origin or number of full pregnancies, we will be focusing on tumor stage and grade."
   ]
  },
  {
   "cell_type": "code",
   "execution_count": 3,
   "metadata": {},
   "outputs": [
    {
     "data": {
      "text/plain": [
       "Index(['Cohort', 'Tumor code', 'Follow-up Period', 'Lost to Follow-up?',\n",
       "       'Vital Status', 'Path Diag to Last Contact(Day)', 'Cause of Death',\n",
       "       'Path Diag to Death(days)', 'Adj Post-Op Radiation Therapy',\n",
       "       'Adj Post-Op Pharma Therapy', 'Adj Post-Op Immuno Therapy',\n",
       "       'Tumor Status', 'Success of Initial Treatment',\n",
       "       'Success of Treament @ Followup', 'ECOG Score', 'Karnofsky Score',\n",
       "       'Perform Status Scale: Timing', 'Other Perform Scale Timing',\n",
       "       'New Tumor After Initial TRT', 'Path Diag to new Tumor days',\n",
       "       'Additional Surgery ?', 'Path Diag to Surgery days     ',\n",
       "       'Additional Surgery for Mets ?', 'Path Diag to Mets Surgery days',\n",
       "       'Radiation for New Tumor', 'Pharmaceutical for New Tumor',\n",
       "       'Immunological for New Tumor'],\n",
       "      dtype='object', name='Name')"
      ]
     },
     "execution_count": 3,
     "metadata": {},
     "output_type": "execute_result"
    }
   ],
   "source": [
    "follow_up.columns"
   ]
  },
  {
   "cell_type": "markdown",
   "metadata": {},
   "source": [
    "## Step 2b: Prepare data for Kaplan Meier Plotting\n",
    "We will start by finding all patients that have died during the follow-up period and update the column to contain boolean values, where True denotes that the event occurred ('New Tumor Event'), and False denotes that it did not ('No New Tumor Event').  This is necessary to fit the requirements of the *lifelines* package."
   ]
  },
  {
   "cell_type": "code",
   "execution_count": 4,
   "metadata": {
    "collapsed": true
   },
   "outputs": [],
   "source": [
    "annotations = deva.binarize_annotations(follow_up[['Success of Initial Treatment']])"
   ]
  },
  {
   "cell_type": "code",
   "execution_count": 5,
   "metadata": {},
   "outputs": [
    {
     "data": {
      "text/plain": [
       "not-Persistent Disease    191\n",
       "Persistent Disease         38\n",
       "Name: Success of Initial Treatment_Persistent Disease, dtype: int64"
      ]
     },
     "execution_count": 5,
     "metadata": {},
     "output_type": "execute_result"
    }
   ],
   "source": [
    "annotations['Success of Initial Treatment_Persistent Disease'].value_counts()"
   ]
  },
  {
   "cell_type": "code",
   "execution_count": 6,
   "metadata": {},
   "outputs": [
    {
     "name": "stderr",
     "output_type": "stream",
     "text": [
      "04/23/2020 12:02:58:WARNING:These samples were not found in outliers table: C3L-00789, C3L-00789, C3L-00815, C3L-00815, C3L-00966, C3L-00966, C3L-00980, C3L-00980, C3L-00981, C3L-00981, C3L-00982, C3L-00982, C3L-00991, C3L-01033, C3L-01034, C3L-01107, C3L-01459, C3L-01462, C3L-01462, C3L-01464, C3L-01464, C3L-01470, C3L-01929, C3L-01951, C3L-01952, C3L-01958, C3L-01958, C3L-01963, C3L-02175, C3L-02176, C3L-02177, C3L-02201, C3L-02201, C3L-02202, C3L-02202, C3L-02208, C3L-02208, C3L-02211, C3L-02214, C3L-02841, C3L-02841, C3L-02842, C3L-02842, C3L-02856, C3L-02857, C3N-01654, C3N-01654, C3N-01655, C3N-01806, C3N-01905, C3N-01905, C3N-01989, C3N-02005, C3N-02015, C3N-02015, C3N-02063, C3N-02066, C3N-02068, C3N-02070, C3N-02082, C3N-02084, C3N-02085, C3N-02262, C3N-02262, C3N-02263, C3N-02263, C3N-02264, C3N-02265, C3N-02265, C3N-02266, C3N-02332, C3N-02338, C3N-02431, C3N-02439, C3N-02439, C3N-02577, C3N-02763, C3N-02811, C3N-03018, C3N-03019, C3N-03021, C3L-00165, C3L-00968, C3L-00968, C3L-00969, C3L-00969, C3L-00970, C3L-00970, C3L-00976, C3L-01106, C3L-01465, C3L-01465, C3L-01676, C3L-02346, C3L-02346, C3N-01536, C3N-01536, C3N-01657, C3N-01806, C3N-01828, C3N-01828, C3N-01902, C3N-01902, C3N-02264, C3N-02723, C3N-02726, C3N-03020, continuing without them. \n",
      "04/23/2020 12:02:59:WARNING:No rows tested for fisherFDR_Success of Initial Treatment_Complete Remission_Complete Remission\n",
      "04/23/2020 12:02:59:WARNING:These samples were not found in outliers table: C3L-00789, C3L-00789, C3L-00815, C3L-00815, C3L-00966, C3L-00966, C3L-00980, C3L-00980, C3L-00981, C3L-00981, C3L-00982, C3L-00982, C3L-00991, C3L-01033, C3L-01034, C3L-01107, C3L-01459, C3L-01462, C3L-01462, C3L-01464, C3L-01464, C3L-01470, C3L-01929, C3L-01951, C3L-01952, C3L-01958, C3L-01958, C3L-01963, C3L-02175, C3L-02176, C3L-02177, C3L-02201, C3L-02201, C3L-02202, C3L-02202, C3L-02208, C3L-02208, C3L-02211, C3L-02214, C3L-02841, C3L-02841, C3L-02842, C3L-02842, C3L-02856, C3L-02857, C3N-01654, C3N-01654, C3N-01655, C3N-01806, C3N-01905, C3N-01905, C3N-01989, C3N-02005, C3N-02015, C3N-02015, C3N-02063, C3N-02066, C3N-02068, C3N-02070, C3N-02082, C3N-02084, C3N-02085, C3N-02262, C3N-02262, C3N-02263, C3N-02263, C3N-02264, C3N-02265, C3N-02265, C3N-02266, C3N-02332, C3N-02338, C3N-02431, C3N-02439, C3N-02439, C3N-02577, C3N-02723, C3N-02763, C3N-02811, C3N-03018, C3N-03019, C3N-03021, C3L-00165, C3L-00968, C3L-00968, C3L-00969, C3L-00969, C3L-00970, C3L-00970, C3L-00976, C3L-01106, C3L-01465, C3L-01465, C3L-01676, C3L-02346, C3L-02346, C3N-01536, C3N-01536, C3N-01657, C3N-01806, C3N-01828, C3N-01828, C3N-01902, C3N-01902, C3N-02264, C3N-02726, C3N-03020, continuing without them. \n",
      "04/23/2020 12:02:59:WARNING:No rows tested for fisherFDR_Success of Initial Treatment_Persistent Disease_not-Persistent Disease\n",
      "04/23/2020 12:03:00:WARNING:These samples were not found in outliers table: C3L-00165, C3L-00789, C3L-00789, C3L-00815, C3L-00815, C3L-00966, C3L-00966, C3L-00968, C3L-00968, C3L-00969, C3L-00969, C3L-00970, C3L-00970, C3L-00976, C3L-00980, C3L-00980, C3L-00981, C3L-00981, C3L-00982, C3L-00982, C3L-00991, C3L-01033, C3L-01034, C3L-01106, C3L-01107, C3L-01459, C3L-01462, C3L-01462, C3L-01464, C3L-01464, C3L-01465, C3L-01465, C3L-01470, C3L-01676, C3L-01929, C3L-01951, C3L-01952, C3L-01958, C3L-01958, C3L-01963, C3L-02175, C3L-02176, C3L-02177, C3L-02201, C3L-02201, C3L-02202, C3L-02202, C3L-02208, C3L-02208, C3L-02211, C3L-02214, C3L-02346, C3L-02346, C3L-02841, C3L-02841, C3L-02842, C3L-02842, C3L-02856, C3L-02857, C3N-01536, C3N-01536, C3N-01654, C3N-01654, C3N-01655, C3N-01657, C3N-01806, C3N-01806, C3N-01828, C3N-01828, C3N-01902, C3N-01902, C3N-01905, C3N-01905, C3N-01989, C3N-02005, C3N-02015, C3N-02015, C3N-02063, C3N-02066, C3N-02068, C3N-02070, C3N-02082, C3N-02084, C3N-02085, C3N-02262, C3N-02262, C3N-02263, C3N-02263, C3N-02264, C3N-02264, C3N-02265, C3N-02265, C3N-02266, C3N-02332, C3N-02338, C3N-02431, C3N-02439, C3N-02439, C3N-02577, C3N-02726, C3N-02763, C3N-02811, C3N-03018, C3N-03019, C3N-03020, C3N-03021, C3N-02723, continuing without them. \n",
      "04/23/2020 12:03:00:WARNING:No rows tested for fisherFDR_Success of Initial Treatment_Patient Deceased_not-Patient Deceased\n"
     ]
    }
   ],
   "source": [
    "outliers, qvalues = deva.run_outliers(proteomics.transpose(),\n",
    "                                      annotations,\n",
    "                                      up_or_down='up',\n",
    "                                      aggregate=False,\n",
    "                                      frac_filter=0.3)"
   ]
  },
  {
   "cell_type": "code",
   "execution_count": 7,
   "metadata": {
    "collapsed": true
   },
   "outputs": [],
   "source": [
    "outliers.df.index = outliers.df.index.droplevel('Database_ID')\n",
    "outliers_df = outliers.df"
   ]
  },
  {
   "cell_type": "code",
   "execution_count": 8,
   "metadata": {
    "collapsed": true
   },
   "outputs": [],
   "source": [
    "outliers_df = outliers_df.loc[:,~outliers_df.columns.str.endswith('notOutliers')]"
   ]
  },
  {
   "cell_type": "code",
   "execution_count": 9,
   "metadata": {
    "collapsed": true
   },
   "outputs": [],
   "source": [
    "gene_outlier_dict = {} #k: patient v: gene(s)\n",
    "for i, gene in enumerate(outliers_df.index):\n",
    "    outlier_filter = outliers_df.iloc[i] == 1.0\n",
    "    value = list(outliers_df.iloc[i][outlier_filter].index)\n",
    "    if len(value) > 0:\n",
    "        gene_outlier_dict[gene] = value        "
   ]
  },
  {
   "cell_type": "code",
   "execution_count": 10,
   "metadata": {
    "collapsed": true
   },
   "outputs": [],
   "source": [
    "patient_outlier_dict = {} #k: gene v: patientID\n",
    "transposed_df = outliers_df.transpose()\n",
    "for i, patient in enumerate(transposed_df.index):\n",
    "    patient = patient[:-9]\n",
    "    outlier_filter = transposed_df.iloc[i] == 1.0\n",
    "    value = list(transposed_df.iloc[i][outlier_filter].index)\n",
    "    if len(value) > 0:\n",
    "        patient_outlier_dict[patient] = value"
   ]
  },
  {
   "cell_type": "code",
   "execution_count": 11,
   "metadata": {
    "collapsed": true
   },
   "outputs": [],
   "source": [
    "cols_of_interest = ['Path Diag to Last Contact(Day)', 'Tumor Status',\n",
    "                    'New Tumor After Initial TRT', 'Path Diag to new Tumor days',\n",
    "                    'Radiation for New Tumor', 'Pharmaceutical for New Tumor', \n",
    "                    'Immunological for New Tumor', 'Success of Initial Treatment',\n",
    "                    'Success of Treament @ Followup']"
   ]
  },
  {
   "cell_type": "code",
   "execution_count": 12,
   "metadata": {
    "collapsed": true
   },
   "outputs": [],
   "source": [
    "focus_group = follow_up[cols_of_interest].copy()"
   ]
  },
  {
   "cell_type": "code",
   "execution_count": 13,
   "metadata": {},
   "outputs": [
    {
     "data": {
      "text/plain": [
       "'\\n#Experimental code with genes found by GSEA and outliers\\ngenes_list = [\\'HLA-DRB3\\', \\'C1QC\\', \\n              \\'MAPK11\\', \\'CXCL8\\', \\n              \\'C8G\\', \\'MAPK9\\', \\n              \\'C8A\\', \\'MBL2\\', \\n              \\'C4A\\', \\'HLA-DRB4\\', \\n              \\'C1QB\\', \\'HSPA5\\', \\n              \\'C1QA\\', \\'C1R\\', \\n              \\'C3\\', \\'C9\\', \\n              \\'C8B\\', \\'SEC61B\\', \\n              \\'C5\\', \\'EIF2AK3\\', \\n              \\'C6\\', \\'CALR\\', \\'C2\\']\\n\\nclinical_and_protein = renal.join_metadata_to_omics(metadata_df_name=\"followup\", \\n                                                 omics_df_name=\"proteomics\", \\n                                                 metadata_cols=cols_of_interest, \\n                                                 omics_genes=genes_list)\\n\\nclinical_and_protein = renal.reduce_multiindex(clinical_and_protein, \\n                                            levels_to_drop=\"Database_ID\")\\n'"
      ]
     },
     "execution_count": 13,
     "metadata": {},
     "output_type": "execute_result"
    }
   ],
   "source": [
    "'''\n",
    "#Experimental code with genes found by GSEA and outliers\n",
    "genes_list = ['HLA-DRB3', 'C1QC', \n",
    "              'MAPK11', 'CXCL8', \n",
    "              'C8G', 'MAPK9', \n",
    "              'C8A', 'MBL2', \n",
    "              'C4A', 'HLA-DRB4', \n",
    "              'C1QB', 'HSPA5', \n",
    "              'C1QA', 'C1R', \n",
    "              'C3', 'C9', \n",
    "              'C8B', 'SEC61B', \n",
    "              'C5', 'EIF2AK3', \n",
    "              'C6', 'CALR', 'C2']\n",
    "\n",
    "clinical_and_protein = renal.join_metadata_to_omics(metadata_df_name=\"followup\", \n",
    "                                                 omics_df_name=\"proteomics\", \n",
    "                                                 metadata_cols=cols_of_interest, \n",
    "                                                 omics_genes=genes_list)\n",
    "\n",
    "clinical_and_protein = renal.reduce_multiindex(clinical_and_protein, \n",
    "                                            levels_to_drop=\"Database_ID\")\n",
    "'''"
   ]
  },
  {
   "cell_type": "code",
   "execution_count": 14,
   "metadata": {
    "collapsed": true
   },
   "outputs": [],
   "source": [
    "#Make the Vital Status column boolean\n",
    "focus_group['New Tumor After Initial TRT'] = focus_group['New Tumor After Initial TRT'].replace('No', False)\n",
    "focus_group['New Tumor After Initial TRT'] = focus_group['New Tumor After Initial TRT'].replace('Yes', True)\n",
    "focus_group['New Tumor After Initial TRT'] = focus_group['New Tumor After Initial TRT'].astype(bool)"
   ]
  },
  {
   "cell_type": "code",
   "execution_count": 15,
   "metadata": {
    "collapsed": true
   },
   "outputs": [],
   "source": [
    "initial_tumor_group = focus_group[focus_group['Tumor Status'] == 'With Tumor']"
   ]
  },
  {
   "cell_type": "code",
   "execution_count": 16,
   "metadata": {
    "collapsed": true
   },
   "outputs": [],
   "source": [
    "persistent_disease = initial_tumor_group[initial_tumor_group['Success of Initial Treatment'] == 'Persistent Disease']"
   ]
  },
  {
   "cell_type": "code",
   "execution_count": 17,
   "metadata": {
    "collapsed": true
   },
   "outputs": [],
   "source": [
    "common_outliers_persistent_disease = []\n",
    "for patient in persistent_disease.index:\n",
    "    if patient in patient_outlier_dict.keys():\n",
    "        common_outliers_persistent_disease += patient_outlier_dict[patient]"
   ]
  },
  {
   "cell_type": "code",
   "execution_count": 18,
   "metadata": {
    "collapsed": true
   },
   "outputs": [],
   "source": [
    "common_outliers_set = set(common_outliers_persistent_disease)"
   ]
  },
  {
   "cell_type": "code",
   "execution_count": 19,
   "metadata": {},
   "outputs": [
    {
     "data": {
      "text/plain": [
       "1423"
      ]
     },
     "execution_count": 19,
     "metadata": {},
     "output_type": "execute_result"
    }
   ],
   "source": [
    "len(common_outliers_set)"
   ]
  },
  {
   "cell_type": "code",
   "execution_count": 20,
   "metadata": {
    "collapsed": true
   },
   "outputs": [],
   "source": [
    "gene_name_list = list(common_outliers_set)"
   ]
  },
  {
   "cell_type": "code",
   "execution_count": 21,
   "metadata": {
    "collapsed": true
   },
   "outputs": [],
   "source": [
    "#print('Gene List:', gene_name_list, '\\n')\n",
    "name = \"GSEA_Test\"\n",
    "enrichment = gp.enrichr(gene_list = gene_name_list, \n",
    "                        description=name, \n",
    "                        gene_sets='KEGG_2019_Human', \n",
    "                        outdir='test/renal')"
   ]
  },
  {
   "cell_type": "code",
   "execution_count": 22,
   "metadata": {},
   "outputs": [
    {
     "data": {
      "text/html": [
       "<div>\n",
       "<style scoped>\n",
       "    .dataframe tbody tr th:only-of-type {\n",
       "        vertical-align: middle;\n",
       "    }\n",
       "\n",
       "    .dataframe tbody tr th {\n",
       "        vertical-align: top;\n",
       "    }\n",
       "\n",
       "    .dataframe thead th {\n",
       "        text-align: right;\n",
       "    }\n",
       "</style>\n",
       "<table border=\"1\" class=\"dataframe\">\n",
       "  <thead>\n",
       "    <tr style=\"text-align: right;\">\n",
       "      <th></th>\n",
       "      <th>Term</th>\n",
       "      <th>Overlap</th>\n",
       "      <th>Adjusted P-value</th>\n",
       "    </tr>\n",
       "  </thead>\n",
       "  <tbody>\n",
       "    <tr>\n",
       "      <th>0</th>\n",
       "      <td>Complement and coagulation cascades</td>\n",
       "      <td>39/79</td>\n",
       "      <td>1.059439e-21</td>\n",
       "    </tr>\n",
       "    <tr>\n",
       "      <th>1</th>\n",
       "      <td>Protein processing in endoplasmic reticulum</td>\n",
       "      <td>36/165</td>\n",
       "      <td>1.718690e-07</td>\n",
       "    </tr>\n",
       "    <tr>\n",
       "      <th>2</th>\n",
       "      <td>Prion diseases</td>\n",
       "      <td>13/35</td>\n",
       "      <td>3.905552e-05</td>\n",
       "    </tr>\n",
       "    <tr>\n",
       "      <th>3</th>\n",
       "      <td>Staphylococcus aureus infection</td>\n",
       "      <td>18/68</td>\n",
       "      <td>6.263077e-05</td>\n",
       "    </tr>\n",
       "    <tr>\n",
       "      <th>4</th>\n",
       "      <td>Autophagy</td>\n",
       "      <td>26/128</td>\n",
       "      <td>5.939105e-05</td>\n",
       "    </tr>\n",
       "    <tr>\n",
       "      <th>5</th>\n",
       "      <td>N-Glycan biosynthesis</td>\n",
       "      <td>14/50</td>\n",
       "      <td>3.377985e-04</td>\n",
       "    </tr>\n",
       "    <tr>\n",
       "      <th>6</th>\n",
       "      <td>Amino sugar and nucleotide sugar metabolism</td>\n",
       "      <td>12/48</td>\n",
       "      <td>4.448315e-03</td>\n",
       "    </tr>\n",
       "    <tr>\n",
       "      <th>7</th>\n",
       "      <td>Systemic lupus erythematosus</td>\n",
       "      <td>22/133</td>\n",
       "      <td>6.595882e-03</td>\n",
       "    </tr>\n",
       "    <tr>\n",
       "      <th>8</th>\n",
       "      <td>Pertussis</td>\n",
       "      <td>15/76</td>\n",
       "      <td>8.827672e-03</td>\n",
       "    </tr>\n",
       "    <tr>\n",
       "      <th>9</th>\n",
       "      <td>Phagosome</td>\n",
       "      <td>23/152</td>\n",
       "      <td>1.444647e-02</td>\n",
       "    </tr>\n",
       "    <tr>\n",
       "      <th>10</th>\n",
       "      <td>Protein export</td>\n",
       "      <td>7/23</td>\n",
       "      <td>2.264460e-02</td>\n",
       "    </tr>\n",
       "    <tr>\n",
       "      <th>11</th>\n",
       "      <td>Chagas disease (American trypanosomiasis)</td>\n",
       "      <td>17/103</td>\n",
       "      <td>2.372815e-02</td>\n",
       "    </tr>\n",
       "    <tr>\n",
       "      <th>12</th>\n",
       "      <td>Glycosaminoglycan biosynthesis</td>\n",
       "      <td>11/53</td>\n",
       "      <td>2.552413e-02</td>\n",
       "    </tr>\n",
       "    <tr>\n",
       "      <th>13</th>\n",
       "      <td>Mucin type O-glycan biosynthesis</td>\n",
       "      <td>8/31</td>\n",
       "      <td>2.547698e-02</td>\n",
       "    </tr>\n",
       "    <tr>\n",
       "      <th>14</th>\n",
       "      <td>RNA polymerase</td>\n",
       "      <td>8/31</td>\n",
       "      <td>2.377851e-02</td>\n",
       "    </tr>\n",
       "    <tr>\n",
       "      <th>15</th>\n",
       "      <td>Mitophagy</td>\n",
       "      <td>12/65</td>\n",
       "      <td>3.665779e-02</td>\n",
       "    </tr>\n",
       "    <tr>\n",
       "      <th>16</th>\n",
       "      <td>One carbon pool by folate</td>\n",
       "      <td>6/20</td>\n",
       "      <td>3.782058e-02</td>\n",
       "    </tr>\n",
       "    <tr>\n",
       "      <th>17</th>\n",
       "      <td>IL-17 signaling pathway</td>\n",
       "      <td>15/93</td>\n",
       "      <td>3.901166e-02</td>\n",
       "    </tr>\n",
       "    <tr>\n",
       "      <th>18</th>\n",
       "      <td>Cholesterol metabolism</td>\n",
       "      <td>10/50</td>\n",
       "      <td>3.896716e-02</td>\n",
       "    </tr>\n",
       "  </tbody>\n",
       "</table>\n",
       "</div>"
      ],
      "text/plain": [
       "                                           Term Overlap  Adjusted P-value\n",
       "0           Complement and coagulation cascades   39/79      1.059439e-21\n",
       "1   Protein processing in endoplasmic reticulum  36/165      1.718690e-07\n",
       "2                                Prion diseases   13/35      3.905552e-05\n",
       "3               Staphylococcus aureus infection   18/68      6.263077e-05\n",
       "4                                     Autophagy  26/128      5.939105e-05\n",
       "5                         N-Glycan biosynthesis   14/50      3.377985e-04\n",
       "6   Amino sugar and nucleotide sugar metabolism   12/48      4.448315e-03\n",
       "7                  Systemic lupus erythematosus  22/133      6.595882e-03\n",
       "8                                     Pertussis   15/76      8.827672e-03\n",
       "9                                     Phagosome  23/152      1.444647e-02\n",
       "10                               Protein export    7/23      2.264460e-02\n",
       "11    Chagas disease (American trypanosomiasis)  17/103      2.372815e-02\n",
       "12               Glycosaminoglycan biosynthesis   11/53      2.552413e-02\n",
       "13             Mucin type O-glycan biosynthesis    8/31      2.547698e-02\n",
       "14                               RNA polymerase    8/31      2.377851e-02\n",
       "15                                    Mitophagy   12/65      3.665779e-02\n",
       "16                    One carbon pool by folate    6/20      3.782058e-02\n",
       "17                      IL-17 signaling pathway   15/93      3.901166e-02\n",
       "18                       Cholesterol metabolism   10/50      3.896716e-02"
      ]
     },
     "execution_count": 22,
     "metadata": {},
     "output_type": "execute_result"
    }
   ],
   "source": [
    "persistent_disease_gsea = enrichment.res2d\n",
    "sig_filter = persistent_disease_gsea['Adjusted P-value'] < 0.05\n",
    "persistent_disease_sig = persistent_disease_gsea[sig_filter]\n",
    "persistent_disease_sig[['Term', 'Overlap', 'Adjusted P-value']]"
   ]
  },
  {
   "cell_type": "code",
   "execution_count": 23,
   "metadata": {
    "collapsed": true
   },
   "outputs": [],
   "source": [
    "genes = persistent_disease_sig['Genes']\n",
    "terms = persistent_disease_sig['Term']\n",
    "gsea_results_dict = {}\n",
    "for i, gene in enumerate(genes):\n",
    "    gsea_results_dict[terms[i]] = gene.split(';')"
   ]
  },
  {
   "cell_type": "code",
   "execution_count": 24,
   "metadata": {
    "collapsed": true
   },
   "outputs": [],
   "source": [
    "gsea_genes_occurrences = {}\n",
    "for gene in gene_name_list:\n",
    "    gsea_genes_occurrences[gene] = 0"
   ]
  },
  {
   "cell_type": "code",
   "execution_count": 25,
   "metadata": {
    "collapsed": true
   },
   "outputs": [],
   "source": [
    "for k, v in gsea_results_dict.items():\n",
    "    for gene in v:\n",
    "        gsea_genes_occurrences[gene] += 1        "
   ]
  },
  {
   "cell_type": "code",
   "execution_count": 26,
   "metadata": {
    "collapsed": true
   },
   "outputs": [],
   "source": [
    "genes_to_test = []\n",
    "for k, v in gsea_genes_occurrences.items():\n",
    "    if v > 2:\n",
    "        genes_to_test.append(k)"
   ]
  },
  {
   "cell_type": "code",
   "execution_count": 27,
   "metadata": {},
   "outputs": [
    {
     "name": "stdout",
     "output_type": "stream",
     "text": [
      "['HLA-DRB4', 'C2', 'C8B', 'C1QB', 'CXCL8', 'C1R', 'MAPK9', 'MBL2', 'C6', 'EIF2AK3', 'HLA-DRB3', 'C1QC', 'C1QA', 'C8G', 'HSPA5', 'C9', 'C8A', 'SEC61B', 'MAPK11', 'CALR', 'C3', 'C4A', 'C5']\n"
     ]
    }
   ],
   "source": [
    "print(genes_to_test)"
   ]
  },
  {
   "cell_type": "code",
   "execution_count": 28,
   "metadata": {},
   "outputs": [
    {
     "data": {
      "text/plain": [
       "Index(['Path Diag to Last Contact(Day)', 'Tumor Status',\n",
       "       'New Tumor After Initial TRT', 'Path Diag to new Tumor days',\n",
       "       'Radiation for New Tumor', 'Pharmaceutical for New Tumor',\n",
       "       'Immunological for New Tumor', 'Success of Initial Treatment',\n",
       "       'Success of Treament @ Followup'],\n",
       "      dtype='object', name='Name')"
      ]
     },
     "execution_count": 28,
     "metadata": {},
     "output_type": "execute_result"
    }
   ],
   "source": [
    "focus_group.columns"
   ]
  },
  {
   "cell_type": "code",
   "execution_count": 29,
   "metadata": {
    "collapsed": true
   },
   "outputs": [],
   "source": [
    "cols = ['Path Diag to Last Contact(Day)', 'Path Diag to new Tumor days']\n",
    "\n",
    "focus_group = focus_group.assign(Days_Until_Last_Contact_Or_New_Tumor_Event=focus_group[cols].sum(1)).drop(cols, 1)"
   ]
  },
  {
   "cell_type": "code",
   "execution_count": 30,
   "metadata": {
    "collapsed": true
   },
   "outputs": [],
   "source": [
    "cols_to_plot = ['New Tumor After Initial TRT', \n",
    "                'Days_Until_Last_Contact_Or_New_Tumor_Event', \n",
    "                'Radiation for New Tumor', \n",
    "                'Pharmaceutical for New Tumor']\n",
    "df_clean = focus_group[cols_to_plot].dropna(axis=0, how='any')"
   ]
  },
  {
   "cell_type": "code",
   "execution_count": 31,
   "metadata": {},
   "outputs": [
    {
     "data": {
      "text/plain": [
       "' Need to append the proteomics data to clinical first before I can do much of this\\nnew_tumor = df_clean[df_clean[\"New Tumor After Initial TRT\"] == True]\\nno_new_tumor = df_clean[df_clean[\"New Tumor After Initial TRT\"] == False]\\n#living\\nfor gene in genes_to_test:\\n    print(gene)\\n    print(scipy.stats.ttest_ind(new_tumor[gene], no_new_tumor[gene]), \\'\\n\\')\\n\\n\\ndf_genes = df_clean.copy()\\nfor col in omics_genes:\\n    lower_25_filter = df_genes[col] <= df_genes[col].quantile(.25)\\n    upper_25_filter = df_genes[col] >= df_genes[col].quantile(.75)\\n\\n    df_genes[col] = np.where(lower_25_filter, \"Lower_25%\", df_genes[col])\\n    df_genes[col] = np.where(upper_25_filter, \"Upper_25%\", df_genes[col])\\n    df_genes[col] = np.where(~lower_25_filter & ~upper_25_filter, \"Middle_50%\", df_genes[col])\\n\\n\\nproteomics_map = {\"Lower_25%\" : 1, \"Middle_50%\" : 2, \"Upper_25%\" : 3}\\nfor gene in omics_genes:\\n    df_genes[gene] = df_genes[gene].map(proteomics_map)\\n    \\nfocus_group = df_genes.copy()\\n'"
      ]
     },
     "execution_count": 31,
     "metadata": {},
     "output_type": "execute_result"
    }
   ],
   "source": [
    "''' Need to append the proteomics data to clinical first before I can do much of this\n",
    "new_tumor = df_clean[df_clean[\"New Tumor After Initial TRT\"] == True]\n",
    "no_new_tumor = df_clean[df_clean[\"New Tumor After Initial TRT\"] == False]\n",
    "#living\n",
    "for gene in genes_to_test:\n",
    "    print(gene)\n",
    "    print(scipy.stats.ttest_ind(new_tumor[gene], no_new_tumor[gene]), '\\n')\n",
    "\n",
    "\n",
    "df_genes = df_clean.copy()\n",
    "for col in omics_genes:\n",
    "    lower_25_filter = df_genes[col] <= df_genes[col].quantile(.25)\n",
    "    upper_25_filter = df_genes[col] >= df_genes[col].quantile(.75)\n",
    "\n",
    "    df_genes[col] = np.where(lower_25_filter, \"Lower_25%\", df_genes[col])\n",
    "    df_genes[col] = np.where(upper_25_filter, \"Upper_25%\", df_genes[col])\n",
    "    df_genes[col] = np.where(~lower_25_filter & ~upper_25_filter, \"Middle_50%\", df_genes[col])\n",
    "\n",
    "\n",
    "proteomics_map = {\"Lower_25%\" : 1, \"Middle_50%\" : 2, \"Upper_25%\" : 3}\n",
    "for gene in omics_genes:\n",
    "    df_genes[gene] = df_genes[gene].map(proteomics_map)\n",
    "    \n",
    "focus_group = df_genes.copy()\n",
    "'''"
   ]
  },
  {
   "cell_type": "markdown",
   "metadata": {},
   "source": [
    "# Step 3: Kaplan-Meier Plots\n",
    "Kaplan Meier plots show us the probability of some event occuring over a given length of time, based on some attribute(s).  Oftentimes, they are used to plot the probability of death for clinical attributes, however they could also be used in a variety of other contexts.\n",
    "\n",
    "Here, we show a general Kaplan Meier Plot of survival overall for our cohort, using the KaplanMeierFitter() from the lifelines package."
   ]
  },
  {
   "cell_type": "code",
   "execution_count": 32,
   "metadata": {},
   "outputs": [
    {
     "data": {
      "text/plain": [
       "<matplotlib.axes._subplots.AxesSubplot at 0x183270a5e48>"
      ]
     },
     "execution_count": 32,
     "metadata": {},
     "output_type": "execute_result"
    },
    {
     "data": {
      "image/png": "[encoded data removed]",
      "text/plain": [
       "<Figure size 432x288 with 1 Axes>"
      ]
     },
     "metadata": {},
     "output_type": "display_data"
    }
   ],
   "source": [
    "time = df_clean['Days_Until_Last_Contact_Or_New_Tumor_Event']\n",
    "status = df_clean['New Tumor After Initial TRT']\n",
    "\n",
    "kmf = KaplanMeierFitter()\n",
    "kmf.fit(time, event_observed = status)\n",
    "kmf.plot()"
   ]
  },
  {
   "cell_type": "markdown",
   "metadata": {},
   "source": [
    "# Step 4: Format data for Cox's Proportional Hazard test\n",
    "\n",
    "With the CoxPHFitter from the lifelines package we can see covariate survival plots, as shown below.  The variables we are interested in exploring are Tumor Stage, RAC2, and PODXL protein abundance."
   ]
  },
  {
   "cell_type": "markdown",
   "metadata": {},
   "source": [
    "First we will fit our model to the data we have prepared using the CoxPHFitter() class from the lifelines module."
   ]
  },
  {
   "cell_type": "code",
   "execution_count": 33,
   "metadata": {
    "collapsed": true
   },
   "outputs": [],
   "source": [
    "bool_map = {\"No\" : 0, \"Yes\" : 1}\n",
    "cols_to_clean = ['Radiation for New Tumor', \n",
    "                 'Pharmaceutical for New Tumor']\n",
    "for col in cols_to_clean:\n",
    "    df_clean[col] = df_clean[col].map(bool_map)"
   ]
  },
  {
   "cell_type": "code",
   "execution_count": 34,
   "metadata": {},
   "outputs": [
    {
     "data": {
      "text/plain": [
       "<lifelines.CoxPHFitter: fitted with 35 total observations, 0 right-censored observations>"
      ]
     },
     "execution_count": 34,
     "metadata": {},
     "output_type": "execute_result"
    }
   ],
   "source": [
    "cph = CoxPHFitter()\n",
    "cph.fit(df_clean, duration_col = \"Days_Until_Last_Contact_Or_New_Tumor_Event\", \n",
    "        event_col = \"New Tumor After Initial TRT\")"
   ]
  },
  {
   "cell_type": "markdown",
   "metadata": {},
   "source": [
    "Then we will plot each of the attributes to see how different levels of protein or different tumor stages affect survival outcomes in Ovarian Cancer patients."
   ]
  },
  {
   "cell_type": "code",
   "execution_count": 35,
   "metadata": {
    "collapsed": true
   },
   "outputs": [],
   "source": [
    "#attributes = omics_genes.copy()\n",
    "attributes = cols_to_clean.copy()"
   ]
  },
  {
   "cell_type": "code",
   "execution_count": 36,
   "metadata": {},
   "outputs": [
    {
     "data": {
      "image/png": "[encoded data removed]",
      "text/plain": [
       "<Figure size 432x288 with 1 Axes>"
      ]
     },
     "metadata": {},
     "output_type": "display_data"
    },
    {
     "data": {
      "image/png": "[encoded data removed]",
      "text/plain": [
       "<Figure size 432x288 with 1 Axes>"
      ]
     },
     "metadata": {},
     "output_type": "display_data"
    }
   ],
   "source": [
    "#attributes.append('Tumor_Stage_Ovary_FIGO')\n",
    "#\n",
    "for attribute in attributes:\n",
    "    cph.plot_covariate_groups(attribute, [0,1], cmap='coolwarm', \n",
    "                          title= \"Renal Cancer Survival Risk: \" + attribute)"
   ]
  },
  {
   "cell_type": "markdown",
   "metadata": {},
   "source": [
    "# Results\n",
    "These different analyses tend to follow the baseline survival function, however, there are some differences in varying levels of each attribute. For example, FIGO Stage I tumors tend to have a higher survival rate over time comparatively to Stage III tumors.  We can explore these differences with the CoxPHFitter object's *print_summary* function (which prints out results for multivariate linear regression) and with the *proportional_hazard_test* (which performs Cox's Proportional Hazard Test on the data to determine how each attribute contributes to our cohort's overall survival)."
   ]
  },
  {
   "cell_type": "code",
   "execution_count": 37,
   "metadata": {},
   "outputs": [
    {
     "name": "stdout",
     "output_type": "stream",
     "text": [
      "<lifelines.CoxPHFitter: fitted with 35 total observations, 0 right-censored observations>\n",
      "      duration col = 'Days_Until_Last_Contact_Or_New_Tumor_Event'\n",
      "         event col = 'New Tumor After Initial TRT'\n",
      "number of observations = 35.0\n",
      "number of events observed = 35.0\n",
      "partial log-likelihood = -91.288\n",
      "  time fit was run = 2020-04-09 23:00:21 UTC\n",
      "             model = untransformed variables\n",
      "\n",
      "\n",
      "---\n",
      "                               coef exp(coef)  se(coef)  coef lower 95%  coef upper 95% exp(coef) lower 95% exp(coef) upper 95%\n",
      "Name                                                                                                                           \n",
      "Radiation for New Tumor       0.504     1.655     0.455          -0.387           1.395               0.679               4.036\n",
      "Pharmaceutical for New Tumor -0.430     0.650     0.403          -1.221           0.360               0.295               1.433\n",
      "\n",
      "                                  z     p  -log2(p)\n",
      "Name                                               \n",
      "Radiation for New Tumor       1.109 0.268     1.902\n",
      "Pharmaceutical for New Tumor -1.067 0.286     1.807\n",
      "---\n",
      "Concordance = 0.532\n",
      "Log-likelihood ratio test = 1.697 on 2 df, -log2(p)=1.224\n"
     ]
    }
   ],
   "source": [
    "cph.print_summary(model=\"untransformed variables\", decimals=3)"
   ]
  },
  {
   "cell_type": "code",
   "execution_count": 38,
   "metadata": {},
   "outputs": [
    {
     "name": "stdout",
     "output_type": "stream",
     "text": [
      "<lifelines.StatisticalResult>\n",
      "         test_name = proportional_hazard_test\n",
      "    time_transform = rank\n",
      " null_distribution = chi squared\n",
      "degrees_of_freedom = 1\n",
      "             model = untransformed variables\n",
      "\n",
      "---\n",
      "                              test_statistic     p  -log2(p)\n",
      "Pharmaceutical for New Tumor           2.119 0.146     2.781\n",
      "Radiation for New Tumor                0.143 0.705     0.504\n"
     ]
    }
   ],
   "source": [
    "results = proportional_hazard_test(cph, df_clean, time_transform='rank')\n",
    "results.print_summary(decimals=3, model=\"untransformed variables\")"
   ]
  },
  {
   "cell_type": "code",
   "execution_count": 39,
   "metadata": {},
   "outputs": [
    {
     "data": {
      "text/plain": [
       "<matplotlib.axes._subplots.AxesSubplot at 0x1a3398db438>"
      ]
     },
     "execution_count": 39,
     "metadata": {},
     "output_type": "execute_result"
    },
    {
     "data": {
      "image/png": "[encoded data removed]",
      "text/plain": [
       "<Figure size 432x288 with 1 Axes>"
      ]
     },
     "metadata": {},
     "output_type": "display_data"
    }
   ],
   "source": [
    "cph.plot()"
   ]
  },
  {
   "cell_type": "code",
   "execution_count": 40,
   "metadata": {},
   "outputs": [
    {
     "data": {
      "text/html": [
       "<div>\n",
       "<style scoped>\n",
       "    .dataframe tbody tr th:only-of-type {\n",
       "        vertical-align: middle;\n",
       "    }\n",
       "\n",
       "    .dataframe tbody tr th {\n",
       "        vertical-align: top;\n",
       "    }\n",
       "\n",
       "    .dataframe thead th {\n",
       "        text-align: right;\n",
       "    }\n",
       "</style>\n",
       "<table border=\"1\" class=\"dataframe\">\n",
       "  <thead>\n",
       "    <tr style=\"text-align: right;\">\n",
       "      <th></th>\n",
       "      <th>95% lower-bound</th>\n",
       "      <th>95% upper-bound</th>\n",
       "    </tr>\n",
       "    <tr>\n",
       "      <th>Name</th>\n",
       "      <th></th>\n",
       "      <th></th>\n",
       "    </tr>\n",
       "  </thead>\n",
       "  <tbody>\n",
       "    <tr>\n",
       "      <th>Radiation for New Tumor</th>\n",
       "      <td>-0.387027</td>\n",
       "      <td>1.39518</td>\n",
       "    </tr>\n",
       "    <tr>\n",
       "      <th>Pharmaceutical for New Tumor</th>\n",
       "      <td>-1.220900</td>\n",
       "      <td>0.35992</td>\n",
       "    </tr>\n",
       "  </tbody>\n",
       "</table>\n",
       "</div>"
      ],
      "text/plain": [
       "                              95% lower-bound  95% upper-bound\n",
       "Name                                                          \n",
       "Radiation for New Tumor             -0.387027          1.39518\n",
       "Pharmaceutical for New Tumor        -1.220900          0.35992"
      ]
     },
     "execution_count": 40,
     "metadata": {},
     "output_type": "execute_result"
    }
   ],
   "source": [
    "cph.confidence_intervals_"
   ]
  }
 ],
 "metadata": {
  "kernelspec": {
   "display_name": "Python 3",
   "language": "python",
   "name": "python3"
  },
  "language_info": {
   "codemirror_mode": {
    "name": "ipython",
    "version": 3
   },
   "file_extension": ".py",
   "mimetype": "text/x-python",
   "name": "python",
   "nbconvert_exporter": "python",
   "pygments_lexer": "ipython3",
   "version": "3.6.2"
  }
 },
 "nbformat": 4,
 "nbformat_minor": 2
}
