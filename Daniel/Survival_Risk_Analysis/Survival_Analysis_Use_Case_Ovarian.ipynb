{
 "cells": [
  {
   "cell_type": "markdown",
   "metadata": {},
   "source": [
    "# Survival Analysis of Ovarian Cancer: PODXL, RAC2, and Tumor Stage\n",
    "\n",
    "Through modern statistical methods, we can determine survival risk based on a variety of factors.  In this tutorial, we will walk through a small example of something you could do with our data to understand what factors relate with survival in various different types of cancer.  In this use case, we will be looking at Ovarian Cancer"
   ]
  },
  {
   "cell_type": "markdown",
   "metadata": {},
   "source": [
    "## Step 1: Import Data and Dependencies"
   ]
  },
  {
   "cell_type": "code",
   "execution_count": 1,
   "metadata": {},
   "outputs": [],
   "source": [
    "import pandas as pd\n",
    "import cptac\n",
    "import numpy as np\n",
    "import matplotlib.pyplot as plt\n",
    "import seaborn as sns\n",
    "import scipy\n",
    "import lifelines\n",
    "from lifelines import KaplanMeierFitter\n",
    "from lifelines import CoxPHFitter\n",
    "from lifelines.statistics import proportional_hazard_test\n",
    "%matplotlib inline"
   ]
  },
  {
   "cell_type": "code",
   "execution_count": 2,
   "metadata": {},
   "outputs": [
    {
     "name": "stdout",
     "output_type": "stream",
     "text": [
      "                                    \r"
     ]
    }
   ],
   "source": [
    "ov = cptac.Ovarian()\n",
    "clinical = ov.get_clinical()\n",
    "proteomics = ov.get_proteomics()\n",
    "follow_up = ov.get_followup()"
   ]
  },
  {
   "cell_type": "markdown",
   "metadata": {},
   "source": [
    "## Step 2: Data Preparation\n",
    "We will be focusing on the discovery cohort of tumors, for which we have follow-up data. We will first merge the clinical and follow-up tables together for analysis. Then we will choose a few attributes to focus on, and narrow our dataframe to those attributes. While you could study a wide variety of factors related to survival, such as country of origin or number of full pregnancies, we will be focusing on tumor stage and grade."
   ]
  },
  {
   "cell_type": "code",
   "execution_count": 3,
   "metadata": {},
   "outputs": [
    {
     "name": "stderr",
     "output_type": "stream",
     "text": [
      "cptac warning: proteomics data was not found for the following samples, so proteomics data columns were filled with NaN for these samples: 01OV002, 01OV008, 01OV010, 01OV013, 01OV019, 01OV024, 01OV033, 01OV045, 01OV046, 01OV049, 02OV001, 02OV035, 02OV040, 02OV042, 02OV045, 04OV041, 11OV009, 11OV010, 13OV004, 14OV029, 17OV003, 17OV004, 17OV005, 17OV006, 17OV007, 17OV012, 17OV016, 17OV019, 17OV022, 17OV026, 17OV031, 17OV034, 17OV035, 17OV037, 17OV038, 22OV001, 26OV010 (C:\\Users\\Daniel\\AppData\\Local\\conda\\conda\\envs\\Research\\lib\\site-packages\\ipykernel_launcher.py, line 10)\n"
     ]
    }
   ],
   "source": [
    "#Determine columns to focus on, and create a subset to work with\n",
    "follow_up = follow_up.rename({'PPID' : 'Patient_ID'}, axis='columns')\n",
    "\n",
    "cols = list(clinical.columns)\n",
    "omics_genes = ['RAC2', 'PODXL', 'GBP2', 'GBP5']\n",
    "\n",
    "clinical_and_protein = ov.join_metadata_to_omics(metadata_df_name=\"clinical\", \n",
    "                                                 omics_df_name=\"proteomics\", \n",
    "                                                 metadata_cols=cols, \n",
    "                                                 omics_genes=omics_genes)\n",
    "\n",
    "clinical_and_protein = ov.reduce_multiindex(clinical_and_protein, \n",
    "                                            levels_to_drop=\"Database_ID\")\n",
    "\n",
    "focus_group = pd.merge(clinical_and_protein, follow_up, on = \"Patient_ID\")\n",
    "\n",
    "columns_to_focus_on = ['Vital_Status',\n",
    "                       'Days_Between_Collection_And_Last_Contact', \n",
    "                       'Days_Between_Collection_And_Death',\n",
    "                       'Tumor_Stage_Ovary_FIGO']\n",
    "\n",
    "for i in range(len(omics_genes)):\n",
    "    omics_genes[i] += '_proteomics'\n",
    "    columns_to_focus_on.append(omics_genes[i])\n",
    "\n",
    "focus_group = focus_group[columns_to_focus_on].copy().drop_duplicates()"
   ]
  },
  {
   "cell_type": "markdown",
   "metadata": {},
   "source": [
    "## Step 2b: Prepare data for Kaplan Meier Plotting\n",
    "We will start by finding all patients that have died during the follow-up period and update the column to contain boolean values, where True denotes that the event occurred ('Deceased'), and False denotes that it did not ('Living').  This is necessary to fit the requirements of the *lifelines* package."
   ]
  },
  {
   "cell_type": "code",
   "execution_count": 4,
   "metadata": {
    "collapsed": true
   },
   "outputs": [],
   "source": [
    "#Make the Vital Status column boolean\n",
    "focus_group['Vital_Status'] = focus_group['Vital_Status'].replace('Living', False)\n",
    "focus_group['Vital_Status'] = focus_group['Vital_Status'].replace('Deceased', True)"
   ]
  },
  {
   "cell_type": "code",
   "execution_count": 5,
   "metadata": {
    "collapsed": true
   },
   "outputs": [],
   "source": [
    "figo_map = {\"IIIC\" : 3, \"IIIB\" : 3, \n",
    "            \"Not Reported/ Unknown\" : np.nan, \n",
    "            \"IIIA\" : 3, \"III\" : 3, \n",
    "            \"IC\" : 1, \"IV\" : 4}\n",
    "focus_group['Tumor_Stage_Ovary_FIGO'] = focus_group['Tumor_Stage_Ovary_FIGO'].map(figo_map)"
   ]
  },
  {
   "cell_type": "code",
   "execution_count": 6,
   "metadata": {
    "collapsed": true
   },
   "outputs": [],
   "source": [
    "cols = ['Days_Between_Collection_And_Last_Contact', 'Days_Between_Collection_And_Death']\n",
    "\n",
    "focus_group = focus_group.assign(Days_Until_Last_Contact_Or_Death=focus_group[cols].sum(1)).drop(cols, 1)"
   ]
  },
  {
   "cell_type": "code",
   "execution_count": 7,
   "metadata": {
    "collapsed": true
   },
   "outputs": [],
   "source": [
    "focus_group = focus_group.dropna().copy()"
   ]
  },
  {
   "cell_type": "code",
   "execution_count": 8,
   "metadata": {},
   "outputs": [
    {
     "name": "stdout",
     "output_type": "stream",
     "text": [
      "RAC2_proteomics\n",
      "Ttest_indResult(statistic=-1.2356270986126083, pvalue=0.22055884091461977) \n",
      "\n",
      "PODXL_proteomics\n",
      "Ttest_indResult(statistic=-0.48073126593165366, pvalue=0.6321451612987006) \n",
      "\n",
      "GBP2_proteomics\n",
      "Ttest_indResult(statistic=-0.9948956713462044, pvalue=0.32307343280383083) \n",
      "\n",
      "GBP5_proteomics\n",
      "Ttest_indResult(statistic=-0.4448552227776217, pvalue=0.6577406181586254) \n",
      "\n"
     ]
    }
   ],
   "source": [
    "df_clean = focus_group.dropna(axis=0, how='any')\n",
    "deceased = df_clean[df_clean[\"Vital_Status\"] == True]\n",
    "living = df_clean[df_clean[\"Vital_Status\"] == False]\n",
    "#living\n",
    "for gene in omics_genes:\n",
    "    print(gene)\n",
    "    print(scipy.stats.ttest_ind(deceased[gene], living[gene]), '\\n')"
   ]
  },
  {
   "cell_type": "code",
   "execution_count": 9,
   "metadata": {
    "collapsed": true
   },
   "outputs": [],
   "source": [
    "df_genes = df_clean.copy()\n",
    "for col in omics_genes:\n",
    "    lower_25_filter = df_genes[col] <= df_genes[col].quantile(.25)\n",
    "    upper_25_filter = df_genes[col] >= df_genes[col].quantile(.75)\n",
    "\n",
    "    df_genes[col] = np.where(lower_25_filter, \"Lower_25%\", df_genes[col])\n",
    "    df_genes[col] = np.where(upper_25_filter, \"Upper_25%\", df_genes[col])\n",
    "    df_genes[col] = np.where(~lower_25_filter & ~upper_25_filter, \"Middle_50%\", df_genes[col])"
   ]
  },
  {
   "cell_type": "code",
   "execution_count": 10,
   "metadata": {
    "collapsed": true
   },
   "outputs": [],
   "source": [
    "proteomics_map = {\"Lower_25%\" : 1, \"Middle_50%\" : 2, \"Upper_25%\" : 3}\n",
    "for gene in omics_genes:\n",
    "    df_genes[gene] = df_genes[gene].map(proteomics_map)\n",
    "    \n",
    "focus_group = df_genes.copy()"
   ]
  },
  {
   "cell_type": "code",
   "execution_count": 11,
   "metadata": {
    "collapsed": true
   },
   "outputs": [],
   "source": [
    "focus_group['Vital_Status'] = focus_group['Vital_Status'].astype(bool)"
   ]
  },
  {
   "cell_type": "markdown",
   "metadata": {},
   "source": [
    "Next, we will subset the data to just the attributes we are testing for survival (numeric values), an event-of-interest column ('Vital Status'; boolean) and a column with a numeric time frame ('Path Diag to Last Contact(Day)'; numeric). This format is necessary for creating Kaplan Meier plots and running survival analysis, so be sure that your data is in this format."
   ]
  },
  {
   "cell_type": "code",
   "execution_count": 12,
   "metadata": {},
   "outputs": [
    {
     "data": {
      "text/html": [
       "<div>\n",
       "<style scoped>\n",
       "    .dataframe tbody tr th:only-of-type {\n",
       "        vertical-align: middle;\n",
       "    }\n",
       "\n",
       "    .dataframe tbody tr th {\n",
       "        vertical-align: top;\n",
       "    }\n",
       "\n",
       "    .dataframe thead th {\n",
       "        text-align: right;\n",
       "    }\n",
       "</style>\n",
       "<table border=\"1\" class=\"dataframe\">\n",
       "  <thead>\n",
       "    <tr style=\"text-align: right;\">\n",
       "      <th>Name</th>\n",
       "      <th>Vital_Status</th>\n",
       "      <th>Tumor_Stage_Ovary_FIGO</th>\n",
       "      <th>RAC2_proteomics</th>\n",
       "      <th>PODXL_proteomics</th>\n",
       "      <th>GBP2_proteomics</th>\n",
       "      <th>GBP5_proteomics</th>\n",
       "      <th>Days_Until_Last_Contact_Or_Death</th>\n",
       "    </tr>\n",
       "    <tr>\n",
       "      <th>Patient_ID</th>\n",
       "      <th></th>\n",
       "      <th></th>\n",
       "      <th></th>\n",
       "      <th></th>\n",
       "      <th></th>\n",
       "      <th></th>\n",
       "      <th></th>\n",
       "    </tr>\n",
       "  </thead>\n",
       "  <tbody>\n",
       "    <tr>\n",
       "      <td>01OV007</td>\n",
       "      <td>False</td>\n",
       "      <td>4.0</td>\n",
       "      <td>2</td>\n",
       "      <td>3</td>\n",
       "      <td>2</td>\n",
       "      <td>2</td>\n",
       "      <td>368.0</td>\n",
       "    </tr>\n",
       "    <tr>\n",
       "      <td>01OV017</td>\n",
       "      <td>False</td>\n",
       "      <td>3.0</td>\n",
       "      <td>1</td>\n",
       "      <td>1</td>\n",
       "      <td>2</td>\n",
       "      <td>2</td>\n",
       "      <td>395.0</td>\n",
       "    </tr>\n",
       "    <tr>\n",
       "      <td>01OV018</td>\n",
       "      <td>False</td>\n",
       "      <td>3.0</td>\n",
       "      <td>2</td>\n",
       "      <td>2</td>\n",
       "      <td>2</td>\n",
       "      <td>2</td>\n",
       "      <td>390.0</td>\n",
       "    </tr>\n",
       "    <tr>\n",
       "      <td>01OV023</td>\n",
       "      <td>False</td>\n",
       "      <td>3.0</td>\n",
       "      <td>2</td>\n",
       "      <td>1</td>\n",
       "      <td>3</td>\n",
       "      <td>3</td>\n",
       "      <td>375.0</td>\n",
       "    </tr>\n",
       "    <tr>\n",
       "      <td>01OV026</td>\n",
       "      <td>True</td>\n",
       "      <td>3.0</td>\n",
       "      <td>2</td>\n",
       "      <td>2</td>\n",
       "      <td>3</td>\n",
       "      <td>3</td>\n",
       "      <td>112.0</td>\n",
       "    </tr>\n",
       "  </tbody>\n",
       "</table>\n",
       "</div>"
      ],
      "text/plain": [
       "Name        Vital_Status  Tumor_Stage_Ovary_FIGO  RAC2_proteomics  \\\n",
       "Patient_ID                                                          \n",
       "01OV007            False                     4.0                2   \n",
       "01OV017            False                     3.0                1   \n",
       "01OV018            False                     3.0                2   \n",
       "01OV023            False                     3.0                2   \n",
       "01OV026             True                     3.0                2   \n",
       "\n",
       "Name        PODXL_proteomics  GBP2_proteomics  GBP5_proteomics  \\\n",
       "Patient_ID                                                       \n",
       "01OV007                    3                2                2   \n",
       "01OV017                    1                2                2   \n",
       "01OV018                    2                2                2   \n",
       "01OV023                    1                3                3   \n",
       "01OV026                    2                3                3   \n",
       "\n",
       "Name        Days_Until_Last_Contact_Or_Death  \n",
       "Patient_ID                                    \n",
       "01OV007                                368.0  \n",
       "01OV017                                395.0  \n",
       "01OV018                                390.0  \n",
       "01OV023                                375.0  \n",
       "01OV026                                112.0  "
      ]
     },
     "execution_count": 12,
     "metadata": {},
     "output_type": "execute_result"
    }
   ],
   "source": [
    "focus_group.head()"
   ]
  },
  {
   "cell_type": "markdown",
   "metadata": {},
   "source": [
    "Verify that your columns are the correct data types.  They may appear to be correct up front, but could actually be hidden as slightly different data types. The event of interest, in this case *Vital_Status* needs to contain boolean values, and all other columns in the table must be a numeric type (either int64 or float64)."
   ]
  },
  {
   "cell_type": "code",
   "execution_count": 13,
   "metadata": {},
   "outputs": [
    {
     "name": "stdout",
     "output_type": "stream",
     "text": [
      "Vital_Status : bool\n",
      "Tumor_Stage_Ovary_FIGO : float64\n",
      "RAC2_proteomics : int64\n",
      "PODXL_proteomics : int64\n",
      "GBP2_proteomics : int64\n",
      "GBP5_proteomics : int64\n",
      "Days_Until_Last_Contact_Or_Death : float64\n"
     ]
    }
   ],
   "source": [
    "for col in focus_group.columns:\n",
    "    print(col, \":\", focus_group[col].dtype)"
   ]
  },
  {
   "cell_type": "markdown",
   "metadata": {},
   "source": [
    "# Step 3: Kaplan-Meier Plots\n",
    "Kaplan Meier plots show us the probability of some event occuring over a given length of time, based on some attribute(s).  Oftentimes, they are used to plot the probability of death for clinical attributes, however they could also be used in a variety of other contexts.\n",
    "\n",
    "Here, we show a general Kaplan Meier Plot of survival overall for our cohort, using the KaplanMeierFitter() from the lifelines package."
   ]
  },
  {
   "cell_type": "code",
   "execution_count": 14,
   "metadata": {},
   "outputs": [
    {
     "data": {
      "text/plain": [
       "<matplotlib.axes._subplots.AxesSubplot at 0x21a49927f98>"
      ]
     },
     "execution_count": 14,
     "metadata": {},
     "output_type": "execute_result"
    },
    {
     "data": {
      "image/png": "[encoded data removed]",
      "text/plain": [
       "<Figure size 432x288 with 1 Axes>"
      ]
     },
     "metadata": {},
     "output_type": "display_data"
    }
   ],
   "source": [
    "time = focus_group['Days_Until_Last_Contact_Or_Death']\n",
    "status = focus_group['Vital_Status']\n",
    "\n",
    "kmf = KaplanMeierFitter()\n",
    "kmf.fit(time, event_observed = status)\n",
    "kmf.plot()"
   ]
  },
  {
   "cell_type": "markdown",
   "metadata": {},
   "source": [
    "# Step 4: Format data for Cox's Proportional Hazard test\n",
    "\n",
    "With the CoxPHFitter from the lifelines package we can see covariate survival plots, as shown below.  The variables we are interested in exploring are Tumor Stage, RAC2, and PODXL protein abundance."
   ]
  },
  {
   "cell_type": "markdown",
   "metadata": {},
   "source": [
    "First we will fit our model to the data we have prepared using the CoxPHFitter() class from the lifelines module."
   ]
  },
  {
   "cell_type": "code",
   "execution_count": 15,
   "metadata": {},
   "outputs": [
    {
     "data": {
      "text/plain": [
       "<lifelines.CoxPHFitter: fitted with 75 total observations, 68 right-censored observations>"
      ]
     },
     "execution_count": 15,
     "metadata": {},
     "output_type": "execute_result"
    }
   ],
   "source": [
    "cph = CoxPHFitter()\n",
    "cph.fit(focus_group, duration_col = \"Days_Until_Last_Contact_Or_Death\", \n",
    "        event_col = \"Vital_Status\")"
   ]
  },
  {
   "cell_type": "markdown",
   "metadata": {},
   "source": [
    "Then we will plot each of the attributes to see how different levels of protein or different tumor stages affect survival outcomes in Ovarian Cancer patients."
   ]
  },
  {
   "cell_type": "code",
   "execution_count": 16,
   "metadata": {
    "collapsed": true
   },
   "outputs": [],
   "source": [
    "attributes = omics_genes.copy()"
   ]
  },
  {
   "cell_type": "code",
   "execution_count": 17,
   "metadata": {},
   "outputs": [
    {
     "data": {
      "image/png": "[encoded data removed]",
      "text/plain": [
       "<Figure size 432x288 with 1 Axes>"
      ]
     },
     "metadata": {},
     "output_type": "display_data"
    },
    {
     "data": {
      "image/png": "[encoded data removed]",
      "text/plain": [
       "<Figure size 432x288 with 1 Axes>"
      ]
     },
     "metadata": {},
     "output_type": "display_data"
    },
    {
     "data": {
      "image/png": "[encoded data removed]",
      "text/plain": [
       "<Figure size 432x288 with 1 Axes>"
      ]
     },
     "metadata": {},
     "output_type": "display_data"
    },
    {
     "data": {
      "image/png": "[encoded data removed]",
      "text/plain": [
       "<Figure size 432x288 with 1 Axes>"
      ]
     },
     "metadata": {},
     "output_type": "display_data"
    },
    {
     "data": {
      "image/png": "[encoded data removed]",
      "text/plain": [
       "<Figure size 432x288 with 1 Axes>"
      ]
     },
     "metadata": {},
     "output_type": "display_data"
    }
   ],
   "source": [
    "attributes.append('Tumor_Stage_Ovary_FIGO')\n",
    "\n",
    "for attribute in attributes:\n",
    "    cph.plot_covariate_groups(attribute, [1,2,3], cmap='coolwarm', \n",
    "                          title= \"Endometrial Cancer Survival Risk: \" + attribute)"
   ]
  },
  {
   "cell_type": "markdown",
   "metadata": {},
   "source": [
    "# Results\n",
    "These different analyses tend to follow the baseline survival function, however, there are some differences in varying levels of each attribute. For example, FIGO Stage I tumors tend to have a higher survival rate over time comparatively to Stage III tumors.  We can explore these differences with the CoxPHFitter object's *print_summary* function (which prints out results for multivariate linear regression) and with the *proportional_hazard_test* (which performs Cox's Proportional Hazard Test on the data to determine how each attribute contributes to our cohort's overall survival)."
   ]
  },
  {
   "cell_type": "code",
   "execution_count": 18,
   "metadata": {},
   "outputs": [
    {
     "name": "stdout",
     "output_type": "stream",
     "text": [
      "<lifelines.CoxPHFitter: fitted with 75 total observations, 68 right-censored observations>\n",
      "      duration col = 'Days_Until_Last_Contact_Or_Death'\n",
      "         event col = 'Vital_Status'\n",
      "number of observations = 75.0\n",
      "number of events observed = 7.0\n",
      "partial log-likelihood = -19.606\n",
      "  time fit was run = 2020-02-28 00:06:43 UTC\n",
      "             model = untransformed variables\n",
      "\n",
      "\n",
      "---\n",
      "                         coef exp(coef)  se(coef)  coef lower 95%  coef upper 95% exp(coef) lower 95% exp(coef) upper 95%\n",
      "Name                                                                                                                     \n",
      "Tumor_Stage_Ovary_FIGO  0.333     1.395     0.788          -1.211           1.877               0.298               6.534\n",
      "RAC2_proteomics        -0.927     0.396     0.813          -2.521           0.667               0.080               1.949\n",
      "PODXL_proteomics        0.391     1.479     0.569          -0.723           1.506               0.485               4.508\n",
      "GBP2_proteomics         0.373     1.452     0.782          -1.159           1.905               0.314               6.720\n",
      "GBP5_proteomics        -0.384     0.681     0.803          -1.957           1.189               0.141               3.285\n",
      "\n",
      "                            z     p  -log2(p)\n",
      "Name                                         \n",
      "Tumor_Stage_Ovary_FIGO  0.423 0.673     0.572\n",
      "RAC2_proteomics        -1.140 0.254     1.975\n",
      "PODXL_proteomics        0.688 0.492     1.025\n",
      "GBP2_proteomics         0.477 0.633     0.660\n",
      "GBP5_proteomics        -0.478 0.633     0.661\n",
      "---\n",
      "Concordance = 0.632\n",
      "Log-likelihood ratio test = 2.424 on 5 df, -log2(p)=0.344\n"
     ]
    }
   ],
   "source": [
    "cph.print_summary(model=\"untransformed variables\", decimals=3)"
   ]
  },
  {
   "cell_type": "code",
   "execution_count": 19,
   "metadata": {},
   "outputs": [
    {
     "name": "stdout",
     "output_type": "stream",
     "text": [
      "<lifelines.StatisticalResult>\n",
      "         test_name = proportional_hazard_test\n",
      "    time_transform = rank\n",
      " null_distribution = chi squared\n",
      "degrees_of_freedom = 1\n",
      "             model = untransformed variables\n",
      "\n",
      "---\n",
      "                        test_statistic     p  -log2(p)\n",
      "GBP2_proteomics                  1.593 0.207     2.273\n",
      "GBP5_proteomics                  3.149 0.076     3.718\n",
      "PODXL_proteomics                 5.019 0.025     5.318\n",
      "RAC2_proteomics                  1.603 0.205     2.283\n",
      "Tumor_Stage_Ovary_FIGO           0.712 0.399     1.326\n"
     ]
    }
   ],
   "source": [
    "results = proportional_hazard_test(cph, focus_group, time_transform='rank')\n",
    "results.print_summary(decimals=3, model=\"untransformed variables\")"
   ]
  },
  {
   "cell_type": "markdown",
   "metadata": {},
   "source": [
    "The hazard ratios for Histologic Grade and Tumor Stage are located in the column labeled \"-log2(p)\" above. If a ratio is greater than 1, the hazard is greater than would be expected, suggesting that the feature associated with it has a higher likelihood of the negative event occurring than would normally be expected.  Likewise, if the ratio is less than 1, the opposite is true.  A ratio of 1 would be considered normal."
   ]
  },
  {
   "cell_type": "markdown",
   "metadata": {},
   "source": [
    "Below, we show confidence intervals for each of the two hazard ratios.  Since both bars include the log(HR) of 1.0 and both of their p-values were greater than 0.05, there is insufficient evidence to suggest that a specific Histologic Grade or Tumor Stage is connected with negative clinical outcomes of death or the development of a new tumor *in our cohort of Ovarian cancer tumors*."
   ]
  },
  {
   "cell_type": "code",
   "execution_count": 20,
   "metadata": {},
   "outputs": [
    {
     "data": {
      "text/plain": [
       "<matplotlib.axes._subplots.AxesSubplot at 0x21a49a1bf60>"
      ]
     },
     "execution_count": 20,
     "metadata": {},
     "output_type": "execute_result"
    },
    {
     "data": {
      "image/png": "[encoded data removed]",
      "text/plain": [
       "<Figure size 432x288 with 1 Axes>"
      ]
     },
     "metadata": {},
     "output_type": "display_data"
    }
   ],
   "source": [
    "cph.plot()"
   ]
  },
  {
   "cell_type": "code",
   "execution_count": 21,
   "metadata": {},
   "outputs": [
    {
     "data": {
      "text/plain": [
       "False    68\n",
       "True      7\n",
       "Name: Vital_Status, dtype: int64"
      ]
     },
     "execution_count": 21,
     "metadata": {},
     "output_type": "execute_result"
    }
   ],
   "source": [
    "focus_group['Vital_Status'].value_counts()"
   ]
  },
  {
   "cell_type": "markdown",
   "metadata": {},
   "source": [
    " It is important to note that there are relatively few patients who had negative outcomes (7 out of 68), which is good, but with such a small sample size, it is difficult to conclude with certainty that these features are not more connected with negative outcomes.  Perhaps a sample of patients with more negative outcomes might have different results.  Alternatively, studying an event with more negative outcomes (such as tumor recurrence) may also provide more data to work with.\n",
    "\n",
    "It is also important to recognize that the confidence intervals for these ratios are very large, especially since hazard ratios are on a log-scale."
   ]
  },
  {
   "cell_type": "code",
   "execution_count": 22,
   "metadata": {},
   "outputs": [
    {
     "data": {
      "text/html": [
       "<div>\n",
       "<style scoped>\n",
       "    .dataframe tbody tr th:only-of-type {\n",
       "        vertical-align: middle;\n",
       "    }\n",
       "\n",
       "    .dataframe tbody tr th {\n",
       "        vertical-align: top;\n",
       "    }\n",
       "\n",
       "    .dataframe thead th {\n",
       "        text-align: right;\n",
       "    }\n",
       "</style>\n",
       "<table border=\"1\" class=\"dataframe\">\n",
       "  <thead>\n",
       "    <tr style=\"text-align: right;\">\n",
       "      <th></th>\n",
       "      <th>95% lower-bound</th>\n",
       "      <th>95% upper-bound</th>\n",
       "    </tr>\n",
       "    <tr>\n",
       "      <th>Name</th>\n",
       "      <th></th>\n",
       "      <th></th>\n",
       "    </tr>\n",
       "  </thead>\n",
       "  <tbody>\n",
       "    <tr>\n",
       "      <td>Tumor_Stage_Ovary_FIGO</td>\n",
       "      <td>-1.211240</td>\n",
       "      <td>1.877080</td>\n",
       "    </tr>\n",
       "    <tr>\n",
       "      <td>RAC2_proteomics</td>\n",
       "      <td>-2.521446</td>\n",
       "      <td>0.667299</td>\n",
       "    </tr>\n",
       "    <tr>\n",
       "      <td>PODXL_proteomics</td>\n",
       "      <td>-0.723425</td>\n",
       "      <td>1.505798</td>\n",
       "    </tr>\n",
       "    <tr>\n",
       "      <td>GBP2_proteomics</td>\n",
       "      <td>-1.158771</td>\n",
       "      <td>1.905068</td>\n",
       "    </tr>\n",
       "    <tr>\n",
       "      <td>GBP5_proteomics</td>\n",
       "      <td>-1.956752</td>\n",
       "      <td>1.189371</td>\n",
       "    </tr>\n",
       "  </tbody>\n",
       "</table>\n",
       "</div>"
      ],
      "text/plain": [
       "                        95% lower-bound  95% upper-bound\n",
       "Name                                                    \n",
       "Tumor_Stage_Ovary_FIGO        -1.211240         1.877080\n",
       "RAC2_proteomics               -2.521446         0.667299\n",
       "PODXL_proteomics              -0.723425         1.505798\n",
       "GBP2_proteomics               -1.158771         1.905068\n",
       "GBP5_proteomics               -1.956752         1.189371"
      ]
     },
     "execution_count": 22,
     "metadata": {},
     "output_type": "execute_result"
    }
   ],
   "source": [
    "cph.confidence_intervals_"
   ]
  },
  {
   "cell_type": "markdown",
   "metadata": {},
   "source": [
    "This is just one example of how you might use Survival Analysis to learn more about different types of cancer, and how clinical and/or genetic attributes contribute to likelihood of survival. There are many other clinical and genetic attributes, as well as several other cancer types, that can be explored using a similar process to that above. In particular, lung cancer and ovarian cancer have a larger number of negative outcomes per cohort, and would be good to look into further. "
   ]
  }
 ],
 "metadata": {
  "kernelspec": {
   "display_name": "Python 3",
   "language": "python",
   "name": "python3"
  },
  "language_info": {
   "codemirror_mode": {
    "name": "ipython",
    "version": 3
   },
   "file_extension": ".py",
   "mimetype": "text/x-python",
   "name": "python",
   "nbconvert_exporter": "python",
   "pygments_lexer": "ipython3",
   "version": "3.6.2"
  }
 },
 "nbformat": 4,
 "nbformat_minor": 2
}
