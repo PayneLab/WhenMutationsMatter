{
 "cells": [
  {
   "cell_type": "markdown",
   "metadata": {},
   "source": [
    "# Survival Analysis of Ovarian Cancer: PODXL, RAC2, and Tumor Stage\n",
    "\n",
    "Through modern statistical methods, we can determine survival risk based on a variety of factors.  In this tutorial, we will walk through a small example of something you could do with our data to understand what factors relate with survival in various different types of cancer.  In this use case, we will be looking at Ovarian Cancer."
   ]
  },
  {
   "cell_type": "markdown",
   "metadata": {},
   "source": [
    "## Step 1: Import Data and Dependencies"
   ]
  },
  {
   "cell_type": "code",
   "execution_count": 1,
   "metadata": {
    "collapsed": true
   },
   "outputs": [],
   "source": [
    "import pandas as pd\n",
    "import cptac\n",
    "import numpy as np\n",
    "import matplotlib.pyplot as plt\n",
    "import seaborn as sns\n",
    "import scipy\n",
    "import lifelines\n",
    "from lifelines import KaplanMeierFitter\n",
    "from lifelines import CoxPHFitter\n",
    "from lifelines.statistics import proportional_hazard_test\n",
    "%matplotlib inline"
   ]
  },
  {
   "cell_type": "code",
   "execution_count": 2,
   "metadata": {},
   "outputs": [
    {
     "name": "stdout",
     "output_type": "stream",
     "text": [
      "                                    \r"
     ]
    }
   ],
   "source": [
    "ov = cptac.Ovarian()\n",
    "clinical = ov.get_clinical()\n",
    "proteomics = ov.get_proteomics()\n",
    "follow_up = ov.get_followup()"
   ]
  },
  {
   "cell_type": "markdown",
   "metadata": {},
   "source": [
    "## Step 2: Gather Data from CPTAC API\n",
    "The Ovarian cancer dataset contains ____ months of follow-up data, including whether a patient is still alive (Vital Status) at each follow-up period.  We will first merge the clinical and follow-up tables together for analysis. Then we will choose a few attributes to focus on, and narrow our dataframe to those attributes. While you could study a wide variety of factors related to survival, we will be focusing on tumor stage, grade and a proteins of interest listed below in *omics_genes*."
   ]
  },
  {
   "cell_type": "markdown",
   "metadata": {},
   "source": [
    "First we will join the *clinical* and *proteomics* dataframes to contain protein data for proteins of interest, and clinical data for each patient in the same dataframe.  We will then drop the multiindex of that dataframe to allow us to join it with the *follow_up* dataframe."
   ]
  },
  {
   "cell_type": "code",
   "execution_count": 3,
   "metadata": {},
   "outputs": [
    {
     "name": "stderr",
     "output_type": "stream",
     "text": [
      "cptac warning: proteomics data was not found for the following samples, so proteomics data columns were filled with NaN for these samples: 01OV002, 01OV008, 01OV010, 01OV013, 01OV019, 01OV024, 01OV033, 01OV045, 01OV046, 01OV049, 02OV001, 02OV035, 02OV040, 02OV042, 02OV045, 04OV041, 11OV009, 11OV010, 13OV004, 14OV029, 17OV003, 17OV004, 17OV005, 17OV012, 17OV019, 17OV034, 22OV001, 26OV010 (C:\\Users\\Daniel\\AppData\\Local\\conda\\conda\\envs\\Research\\lib\\site-packages\\ipykernel_launcher.py, line 7)\n"
     ]
    }
   ],
   "source": [
    "cols = list(clinical.columns)\n",
    "omics_genes = ['RAC2', 'PODXL']\n",
    "\n",
    "clinical_and_protein = ov.join_metadata_to_omics(metadata_df_name=\"clinical\", \n",
    "                                                 omics_df_name=\"proteomics\", \n",
    "                                                 metadata_cols=cols, \n",
    "                                                 omics_genes=omics_genes)\n",
    "\n",
    "clinical_and_protein = ov.reduce_multiindex(clinical_and_protein, \n",
    "                                            levels_to_drop=\"Database_ID\")"
   ]
  },
  {
   "cell_type": "markdown",
   "metadata": {},
   "source": [
    "Next, we will rename the foreign key (\"PPID\" -> \"Patient_ID\") on the follow_up table to allow us to easily join that data with the dataframe of clinical and protein data"
   ]
  },
  {
   "cell_type": "code",
   "execution_count": 4,
   "metadata": {
    "collapsed": true
   },
   "outputs": [],
   "source": [
    "follow_up = follow_up.rename({'PPID' : 'Patient_ID'}, axis='columns')\n",
    "clin_prot_follow = pd.merge(clinical_and_protein, follow_up, on = \"Patient_ID\")\n",
    "\n",
    "#Determine columns to focus on, and create a subset to work with\n",
    "columns_to_focus_on = ['Vital_Status',\n",
    "                       'Days_Between_Collection_And_Last_Contact', \n",
    "                       'Days_Between_Collection_And_Death',\n",
    "                       'Tumor_Stage_Ovary_FIGO']\n",
    "\n",
    "#This adds the protein data that we got from the clinical and proteomics join\n",
    "#so that it will be present in our subset of data to work with\n",
    "for i in range(len(omics_genes)):\n",
    "    omics_genes[i] += '_proteomics'\n",
    "    columns_to_focus_on.append(omics_genes[i])\n",
    "\n",
    "focus_group = clin_prot_follow[columns_to_focus_on].copy().drop_duplicates()"
   ]
  },
  {
   "cell_type": "markdown",
   "metadata": {},
   "source": [
    "## Step 3: Kaplan Meier Plotting\n",
    "Kaplan Meier plots show us the probability of some event occuring over a given length of time, based on some attribute(s).  Oftentimes, they are used to plot the probability of death for clinical attributes, however they could also be used in a variety of other contexts. "
   ]
  },
  {
   "cell_type": "markdown",
   "metadata": {},
   "source": [
    "We will start by finding all patients that have died during the follow-up period and update the column to contain boolean values, where True denotes that the event occurred ('Deceased'), and False denotes that it did not ('Living').  We will then combine the two columns containing timeframe data ('Days_Between_Collection_And_Last_Contact', and 'Days_Between_Collection_And_Death'), to help us with plotting survival curves. These steps are necessary to fit the requirements of the *lifelines* package."
   ]
  },
  {
   "cell_type": "code",
   "execution_count": 5,
   "metadata": {
    "collapsed": true
   },
   "outputs": [],
   "source": [
    "#Make the Vital Status column boolean\n",
    "focus_group['Vital_Status'] = focus_group['Vital_Status'].replace('Living', False)\n",
    "focus_group['Vital_Status'] = focus_group['Vital_Status'].replace('Deceased', True)\n",
    "focus_group['Vital_Status'] = focus_group['Vital_Status'].astype('bool')"
   ]
  },
  {
   "cell_type": "code",
   "execution_count": 6,
   "metadata": {
    "collapsed": true
   },
   "outputs": [],
   "source": [
    "cols = ['Days_Between_Collection_And_Last_Contact', 'Days_Between_Collection_And_Death']\n",
    "\n",
    "focus_group = focus_group.assign(Days_Until_Last_Contact_Or_Death=focus_group[cols].sum(1)).drop(cols, 1)"
   ]
  },
  {
   "cell_type": "markdown",
   "metadata": {},
   "source": [
    "Next, we will create a general Kaplan Meier Plot of overall survival for our cohort, using the KaplanMeierFitter() from the *lifelines* package."
   ]
  },
  {
   "cell_type": "code",
   "execution_count": 7,
   "metadata": {},
   "outputs": [
    {
     "data": {
      "text/plain": [
       "<matplotlib.axes._subplots.AxesSubplot at 0x24494f4cc50>"
      ]
     },
     "execution_count": 7,
     "metadata": {},
     "output_type": "execute_result"
    },
    {
     "data": {
      "image/png": "[encoded data removed]",
      "text/plain": [
       "<Figure size 432x288 with 1 Axes>"
      ]
     },
     "metadata": {},
     "output_type": "display_data"
    }
   ],
   "source": [
    "time = focus_group['Days_Until_Last_Contact_Or_Death']\n",
    "status = focus_group['Vital_Status']\n",
    "\n",
    "kmf = KaplanMeierFitter()\n",
    "kmf.fit(time, event_observed = status)\n",
    "kmf.plot()"
   ]
  },
  {
   "cell_type": "markdown",
   "metadata": {},
   "source": [
    "# Step 4 Prepare Data for Multivariate Kaplan Meier Plots and Cox's Proportional Hazard Test\n",
    "We will now group our columns of interest into 3-4 distinct categories each, and assign them numeric values.  It is necessary for the requirements of the *lifelines* package that the categories are assigned numeric values (other data types, including category, are not compatible with the functions we will be using)."
   ]
  },
  {
   "cell_type": "code",
   "execution_count": 8,
   "metadata": {
    "collapsed": true
   },
   "outputs": [],
   "source": [
    "df_genes = focus_group.copy()\n",
    "\n",
    "#Here, we are separating the protein abundance values for each of our proteins\n",
    "#of interest into 3 groups, based on relative abundance of the protein\n",
    "for col in omics_genes:\n",
    "    lower_25_filter = df_genes[col] <= df_genes[col].quantile(.25)\n",
    "    upper_25_filter = df_genes[col] >= df_genes[col].quantile(.75)\n",
    "\n",
    "    df_genes[col] = np.where(lower_25_filter, \"Lower_25%\", df_genes[col])\n",
    "    df_genes[col] = np.where(upper_25_filter, \"Upper_25%\", df_genes[col])\n",
    "    df_genes[col] = np.where(~lower_25_filter & ~upper_25_filter, \"Middle_50%\", df_genes[col])"
   ]
  },
  {
   "cell_type": "code",
   "execution_count": 9,
   "metadata": {
    "collapsed": true
   },
   "outputs": [],
   "source": [
    "#Here, we map numeric values to correspond with our 3 protein categories\n",
    "proteomics_map = {\"Lower_25%\" : 1, \"Middle_50%\" : 2, \"Upper_25%\" : 3}\n",
    "for gene in omics_genes:\n",
    "    df_genes[gene] = df_genes[gene].map(proteomics_map)"
   ]
  },
  {
   "cell_type": "code",
   "execution_count": 10,
   "metadata": {
    "collapsed": true
   },
   "outputs": [],
   "source": [
    "#Here we map numeric values to corresponding tumor stages\n",
    "figo_map = {\"IIIC\" : 3, \"IV\" : 4, \"IIIB\" : 3, \n",
    "            \"Not Reported/ Unknown\" : np.nan, \n",
    "            \"IIIA\" : 3, \"III\" : 3, \"IC\" : 1, \"IIB\" : 2}\n",
    "\n",
    "df_genes['Tumor_Stage_Ovary_FIGO'] = df_genes['Tumor_Stage_Ovary_FIGO'].map(figo_map)"
   ]
  },
  {
   "cell_type": "code",
   "execution_count": 11,
   "metadata": {
    "collapsed": true
   },
   "outputs": [],
   "source": [
    "#Then we will drop missing values, as missing values \n",
    "#will throw an error in the functions we will use in lifelines.\n",
    "df_clean = df_genes.dropna(axis=0, how='any').copy()"
   ]
  },
  {
   "cell_type": "markdown",
   "metadata": {},
   "source": [
    "Verify that your columns are the correct data types.  They may appear to be correct up front, but could actually be hidden as slightly different data types. The event of interest, in this case *Vital_Status* needs to contain boolean values, and all other columns in the table must be of a numeric type (either int64 or float64)."
   ]
  },
  {
   "cell_type": "code",
   "execution_count": 12,
   "metadata": {},
   "outputs": [
    {
     "name": "stdout",
     "output_type": "stream",
     "text": [
      "Vital_Status : bool\n",
      "Tumor_Stage_Ovary_FIGO : float64\n",
      "RAC2_proteomics : int64\n",
      "PODXL_proteomics : int64\n",
      "Days_Until_Last_Contact_Or_Death : float64\n"
     ]
    }
   ],
   "source": [
    "for col in df_clean.columns:\n",
    "    print(col, \":\", df_clean[col].dtype)"
   ]
  },
  {
   "cell_type": "code",
   "execution_count": 13,
   "metadata": {},
   "outputs": [
    {
     "data": {
      "text/html": [
       "<div>\n",
       "<style scoped>\n",
       "    .dataframe tbody tr th:only-of-type {\n",
       "        vertical-align: middle;\n",
       "    }\n",
       "\n",
       "    .dataframe tbody tr th {\n",
       "        vertical-align: top;\n",
       "    }\n",
       "\n",
       "    .dataframe thead th {\n",
       "        text-align: right;\n",
       "    }\n",
       "</style>\n",
       "<table border=\"1\" class=\"dataframe\">\n",
       "  <thead>\n",
       "    <tr style=\"text-align: right;\">\n",
       "      <th>Name</th>\n",
       "      <th>Vital_Status</th>\n",
       "      <th>Tumor_Stage_Ovary_FIGO</th>\n",
       "      <th>RAC2_proteomics</th>\n",
       "      <th>PODXL_proteomics</th>\n",
       "      <th>Days_Until_Last_Contact_Or_Death</th>\n",
       "    </tr>\n",
       "    <tr>\n",
       "      <th>Patient_ID</th>\n",
       "      <th></th>\n",
       "      <th></th>\n",
       "      <th></th>\n",
       "      <th></th>\n",
       "      <th></th>\n",
       "    </tr>\n",
       "  </thead>\n",
       "  <tbody>\n",
       "    <tr>\n",
       "      <th>01OV002</th>\n",
       "      <td>False</td>\n",
       "      <td>3.0</td>\n",
       "      <td>2</td>\n",
       "      <td>2</td>\n",
       "      <td>414.0</td>\n",
       "    </tr>\n",
       "    <tr>\n",
       "      <th>01OV007</th>\n",
       "      <td>False</td>\n",
       "      <td>4.0</td>\n",
       "      <td>2</td>\n",
       "      <td>3</td>\n",
       "      <td>368.0</td>\n",
       "    </tr>\n",
       "    <tr>\n",
       "      <th>01OV008</th>\n",
       "      <td>False</td>\n",
       "      <td>3.0</td>\n",
       "      <td>2</td>\n",
       "      <td>2</td>\n",
       "      <td>367.0</td>\n",
       "    </tr>\n",
       "    <tr>\n",
       "      <th>01OV010</th>\n",
       "      <td>False</td>\n",
       "      <td>3.0</td>\n",
       "      <td>2</td>\n",
       "      <td>2</td>\n",
       "      <td>20.0</td>\n",
       "    </tr>\n",
       "    <tr>\n",
       "      <th>01OV013</th>\n",
       "      <td>False</td>\n",
       "      <td>3.0</td>\n",
       "      <td>2</td>\n",
       "      <td>2</td>\n",
       "      <td>410.0</td>\n",
       "    </tr>\n",
       "  </tbody>\n",
       "</table>\n",
       "</div>"
      ],
      "text/plain": [
       "Name        Vital_Status  Tumor_Stage_Ovary_FIGO  RAC2_proteomics  \\\n",
       "Patient_ID                                                          \n",
       "01OV002            False                     3.0                2   \n",
       "01OV007            False                     4.0                2   \n",
       "01OV008            False                     3.0                2   \n",
       "01OV010            False                     3.0                2   \n",
       "01OV013            False                     3.0                2   \n",
       "\n",
       "Name        PODXL_proteomics  Days_Until_Last_Contact_Or_Death  \n",
       "Patient_ID                                                      \n",
       "01OV002                    2                             414.0  \n",
       "01OV007                    3                             368.0  \n",
       "01OV008                    2                             367.0  \n",
       "01OV010                    2                              20.0  \n",
       "01OV013                    2                             410.0  "
      ]
     },
     "execution_count": 13,
     "metadata": {},
     "output_type": "execute_result"
    }
   ],
   "source": [
    "df_clean.head()"
   ]
  },
  {
   "cell_type": "markdown",
   "metadata": {},
   "source": [
    "# Step 5: Multivariate Survival Risk Plotting\n",
    "\n",
    "With the CoxPHFitter from the lifelines package we can create covariate survival plots, as shown below.  The variables we are interested in exploring are Tumor Stage, RAC2 abundance, and PODXL  abundance."
   ]
  },
  {
   "cell_type": "markdown",
   "metadata": {},
   "source": [
    "First we will fit our model to the data we have prepared using the CoxPHFitter() class from the lifelines module."
   ]
  },
  {
   "cell_type": "code",
   "execution_count": 14,
   "metadata": {},
   "outputs": [
    {
     "data": {
      "text/plain": [
       "<lifelines.CoxPHFitter: fitted with 95 total observations, 88 right-censored observations>"
      ]
     },
     "execution_count": 14,
     "metadata": {},
     "output_type": "execute_result"
    }
   ],
   "source": [
    "cph = CoxPHFitter()\n",
    "cph.fit(df_clean, duration_col = \"Days_Until_Last_Contact_Or_Death\", \n",
    "        event_col = \"Vital_Status\")"
   ]
  },
  {
   "cell_type": "markdown",
   "metadata": {},
   "source": [
    "Then we will plot each of the attributes to see how different levels of protein or different tumor stages affect survival outcomes in Ovarian Cancer patients."
   ]
  },
  {
   "cell_type": "code",
   "execution_count": 15,
   "metadata": {
    "collapsed": true
   },
   "outputs": [],
   "source": [
    "attributes = ['Tumor_Stage_Ovary_FIGO', 'PODXL_proteomics', 'RAC2_proteomics']"
   ]
  },
  {
   "cell_type": "code",
   "execution_count": 16,
   "metadata": {},
   "outputs": [
    {
     "data": {
      "image/png": "[encoded data removed]",
      "text/plain": [
       "<Figure size 432x288 with 1 Axes>"
      ]
     },
     "metadata": {},
     "output_type": "display_data"
    },
    {
     "data": {
      "image/png": "[encoded data removed]",
      "text/plain": [
       "<Figure size 432x288 with 1 Axes>"
      ]
     },
     "metadata": {},
     "output_type": "display_data"
    },
    {
     "data": {
      "image/png": "[encoded data removed]",
      "text/plain": [
       "<Figure size 432x288 with 1 Axes>"
      ]
     },
     "metadata": {},
     "output_type": "display_data"
    }
   ],
   "source": [
    "for attribute in attributes:\n",
    "    cph.plot_covariate_groups(attribute, [1,2,3], cmap='coolwarm', \n",
    "                          title= \"Endometrial Cancer Survival Risk: \" + attribute)"
   ]
  },
  {
   "cell_type": "markdown",
   "metadata": {},
   "source": [
    "# Results\n",
    "These different analyses tend to follow the baseline survival function, however, there are some differences in varying levels of each attribute. For example, FIGO Stage I tumors tend to have a higher survival rate over time comparatively to Stage III tumors.  We can explore these differences with the CoxPHFitter object's *print_summary* function (which prints out results for multivariate linear regression)."
   ]
  },
  {
   "cell_type": "code",
   "execution_count": 17,
   "metadata": {},
   "outputs": [
    {
     "name": "stdout",
     "output_type": "stream",
     "text": [
      "<lifelines.CoxPHFitter: fitted with 95 total observations, 88 right-censored observations>\n",
      "      duration col = 'Days_Until_Last_Contact_Or_Death'\n",
      "         event col = 'Vital_Status'\n",
      "number of observations = 95.0\n",
      "number of events observed = 7.0\n",
      "partial log-likelihood = -20.448\n",
      "  time fit was run = 2020-03-20 19:22:03 UTC\n",
      "             model = untransformed variables\n",
      "\n",
      "\n",
      "---\n",
      "                         coef exp(coef)  se(coef)  coef lower 95%  coef upper 95% exp(coef) lower 95% exp(coef) upper 95%\n",
      "Name                                                                                                                     \n",
      "Tumor_Stage_Ovary_FIGO  0.477     1.611     0.809          -1.108           2.062               0.330               7.861\n",
      "RAC2_proteomics        -0.944     0.389     0.715          -2.346           0.457               0.096               1.580\n",
      "PODXL_proteomics        0.140     1.150     0.497          -0.833           1.113               0.435               3.043\n",
      "\n",
      "                            z     p  -log2(p)\n",
      "Name                                         \n",
      "Tumor_Stage_Ovary_FIGO  0.590 0.555     0.848\n",
      "RAC2_proteomics        -1.321 0.187     2.422\n",
      "PODXL_proteomics        0.281 0.778     0.361\n",
      "---\n",
      "Concordance = 0.730\n",
      "Log-likelihood ratio test = 2.143 on 3 df, -log2(p)=0.881\n"
     ]
    }
   ],
   "source": [
    "cph.print_summary(model=\"untransformed variables\", decimals=3)"
   ]
  },
  {
   "cell_type": "markdown",
   "metadata": {},
   "source": [
    "# Step 6 Cox's Proportional Hazard Test\n",
    "With the *proportional_hazard_test* function, we can now perform Cox's Proportional Hazard Test on the data to determine how each attribute contributes to our cohort's overall survival.  This is shown by the hazard ratio in the column labeled *-log2(p)* below.  In general, a hazard ratio of 1 suggests that an attribute has no effect on overall survival.  A ratio less than 1 suggests that an attribute contributes to lower survival risk.  A ratio greater than 1 suggests that an attribute contributes to higher survival risk."
   ]
  },
  {
   "cell_type": "code",
   "execution_count": 18,
   "metadata": {},
   "outputs": [
    {
     "name": "stdout",
     "output_type": "stream",
     "text": [
      "<lifelines.StatisticalResult>\n",
      "         test_name = proportional_hazard_test\n",
      "    time_transform = rank\n",
      " null_distribution = chi squared\n",
      "degrees_of_freedom = 1\n",
      "             model = untransformed variables\n",
      "\n",
      "---\n",
      "                        test_statistic     p  -log2(p)\n",
      "PODXL_proteomics                 1.939 0.164     2.611\n",
      "RAC2_proteomics                  4.502 0.034     4.885\n",
      "Tumor_Stage_Ovary_FIGO           0.342 0.559     0.840\n"
     ]
    }
   ],
   "source": [
    "results = proportional_hazard_test(cph, df_clean, time_transform='rank')\n",
    "results.print_summary(decimals=3, model=\"untransformed variables\")"
   ]
  },
  {
   "cell_type": "markdown",
   "metadata": {},
   "source": [
    "Below, we show confidence intervals for each of the hazard ratios.  Since both bars include the log(HR) of 1.0 and both of their p-values were greater than 0.05, there is insufficient evidence to suggest that a specific Histologic Grade or Tumor Stage is connected with negative clinical outcomes of death or the development of a new tumor *in our cohort of Ovarian cancer tumors*."
   ]
  },
  {
   "cell_type": "code",
   "execution_count": 19,
   "metadata": {},
   "outputs": [
    {
     "data": {
      "text/plain": [
       "<matplotlib.axes._subplots.AxesSubplot at 0x24494fdda90>"
      ]
     },
     "execution_count": 19,
     "metadata": {},
     "output_type": "execute_result"
    },
    {
     "data": {
      "image/png": "[encoded data removed]",
      "text/plain": [
       "<Figure size 432x288 with 1 Axes>"
      ]
     },
     "metadata": {},
     "output_type": "display_data"
    }
   ],
   "source": [
    "cph.plot()"
   ]
  },
  {
   "cell_type": "markdown",
   "metadata": {},
   "source": [
    "# Closing Remarks\n",
    "It is important to note that there are relatively few patients who died in our cohort (7 out of 88), which is good, but with such a small sample size of death events, it is difficult to conclude with certainty that these features are not more or less connected with survival.  Perhaps a sample of patients with more deaths might have different results.  Alternatively, studying an event with more negative outcomes (such as tumor recurrence) may also provide more data to work with."
   ]
  },
  {
   "cell_type": "code",
   "execution_count": 20,
   "metadata": {},
   "outputs": [
    {
     "data": {
      "text/plain": [
       "False    88\n",
       "True      7\n",
       "Name: Vital_Status, dtype: int64"
      ]
     },
     "execution_count": 20,
     "metadata": {},
     "output_type": "execute_result"
    }
   ],
   "source": [
    "df_clean['Vital_Status'].value_counts()"
   ]
  },
  {
   "cell_type": "markdown",
   "metadata": {},
   "source": [
    "It is also important to note that the confidence intervals for these ratios are very large, especially since hazard ratios are standardly shown on a log-scale."
   ]
  },
  {
   "cell_type": "code",
   "execution_count": 21,
   "metadata": {},
   "outputs": [
    {
     "data": {
      "text/html": [
       "<div>\n",
       "<style scoped>\n",
       "    .dataframe tbody tr th:only-of-type {\n",
       "        vertical-align: middle;\n",
       "    }\n",
       "\n",
       "    .dataframe tbody tr th {\n",
       "        vertical-align: top;\n",
       "    }\n",
       "\n",
       "    .dataframe thead th {\n",
       "        text-align: right;\n",
       "    }\n",
       "</style>\n",
       "<table border=\"1\" class=\"dataframe\">\n",
       "  <thead>\n",
       "    <tr style=\"text-align: right;\">\n",
       "      <th></th>\n",
       "      <th>95% lower-bound</th>\n",
       "      <th>95% upper-bound</th>\n",
       "    </tr>\n",
       "    <tr>\n",
       "      <th>Name</th>\n",
       "      <th></th>\n",
       "      <th></th>\n",
       "    </tr>\n",
       "  </thead>\n",
       "  <tbody>\n",
       "    <tr>\n",
       "      <th>Tumor_Stage_Ovary_FIGO</th>\n",
       "      <td>-1.108103</td>\n",
       "      <td>2.061941</td>\n",
       "    </tr>\n",
       "    <tr>\n",
       "      <th>RAC2_proteomics</th>\n",
       "      <td>-2.345714</td>\n",
       "      <td>0.457170</td>\n",
       "    </tr>\n",
       "    <tr>\n",
       "      <th>PODXL_proteomics</th>\n",
       "      <td>-0.833498</td>\n",
       "      <td>1.112919</td>\n",
       "    </tr>\n",
       "  </tbody>\n",
       "</table>\n",
       "</div>"
      ],
      "text/plain": [
       "                        95% lower-bound  95% upper-bound\n",
       "Name                                                    \n",
       "Tumor_Stage_Ovary_FIGO        -1.108103         2.061941\n",
       "RAC2_proteomics               -2.345714         0.457170\n",
       "PODXL_proteomics              -0.833498         1.112919"
      ]
     },
     "execution_count": 21,
     "metadata": {},
     "output_type": "execute_result"
    }
   ],
   "source": [
    "cph.confidence_intervals_"
   ]
  },
  {
   "cell_type": "markdown",
   "metadata": {},
   "source": [
    "This is just one example of how you might use Survival Analysis to learn more about different types of cancer, and how clinical and/or genetic attributes contribute to likelihood of survival. There are many other clinical and genetic attributes, as well as several other cancer types, that can be explored using a similar process to that above. In particular, lung cancer and ovarian cancer have a larger number of negative outcomes per cohort, and would be good to look into further. "
   ]
  }
 ],
 "metadata": {
  "kernelspec": {
   "display_name": "Python 3",
   "language": "python",
   "name": "python3"
  },
  "language_info": {
   "codemirror_mode": {
    "name": "ipython",
    "version": 3
   },
   "file_extension": ".py",
   "mimetype": "text/x-python",
   "name": "python",
   "nbconvert_exporter": "python",
   "pygments_lexer": "ipython3",
   "version": "3.6.2"
  }
 },
 "nbformat": 4,
 "nbformat_minor": 2
}
