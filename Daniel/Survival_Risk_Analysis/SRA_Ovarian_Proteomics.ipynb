{
 "cells": [
  {
   "cell_type": "code",
   "execution_count": 1,
   "metadata": {
    "collapsed": true
   },
   "outputs": [],
   "source": [
    "import pandas as pd\n",
    "import cptac\n",
    "import numpy as np\n",
    "import requests\n",
    "import json\n",
    "import deva\n",
    "import binarization_functions_1 as bf"
   ]
  },
  {
   "cell_type": "code",
   "execution_count": 2,
   "metadata": {},
   "outputs": [
    {
     "name": "stdout",
     "output_type": "stream",
     "text": [
      "                                    \r"
     ]
    }
   ],
   "source": [
    "ov = cptac.Ovarian()\n",
    "clinical = ov.get_clinical()\n",
    "proteomics = ov.get_proteomics()"
   ]
  },
  {
   "cell_type": "code",
   "execution_count": 3,
   "metadata": {
    "collapsed": true
   },
   "outputs": [],
   "source": [
    "follow_up = pd.read_excel('../Follow_Up_Data/Ovary_One_Year_Clinical_Data_20160927.xls')"
   ]
  },
  {
   "cell_type": "code",
   "execution_count": 10,
   "metadata": {
    "collapsed": true
   },
   "outputs": [],
   "source": [
    "for col in follow_up.columns:\n",
    "    if len(follow_up[col].value_counts()) <= 1:\n",
    "        follow_up = follow_up.drop(col, axis=1)\n",
    "\n",
    "cols_to_drop = ['Short Title', 'Event', 'Modified Time', \n",
    "                'Modified By', 'Status', 'CRF Name', \n",
    "                'Was a Review of the Initial Pathological Findings Done?', \n",
    "                'Was the Pathology Review consistent with the Diagnosis?', \n",
    "                'Adjuvant (Post-Operative) Radiation Therapy', \n",
    "                'Adjuvant (Post-Operative) Immunotherapy', \n",
    "                'Adjuvant (Post-Operative) Hormone Therapy', \n",
    "                'Anatomic Site of New Tumor Event', \n",
    "                'Other Site of New Tumor Event or Lymph Node Location', \n",
    "                'Method Of Diagnosis of New Tumor Event', \n",
    "                'Date of Additional Surgery for New Tumor Event', \n",
    "                'Additional Hormone Therapy Treatment of New Tumor Event', \n",
    "                'Additional Targeted Molecular Therapy Treatment of New Tumor Event', \n",
    "                'What Type of Malignancy was This?', 'Primary Site of Disease', \n",
    "                'Laterality of the Disease', 'Did the patient have surgery for this malignancy?',\n",
    "                'Number of Days from Date of Initial Pathologic Diagnosis of the Tumor Submitted for CPTAC to the Date of Initial Diagnosis of Other Malignancy', \n",
    "                'Did the patient receive pharmaceutical therapy for this malignancy?', \n",
    "                'Was the patient staged using FIGO?', ' Was the patient staged using AJCC?']\n",
    "\n",
    "follow_up = follow_up.drop(cols_to_drop, axis=1).copy()\n",
    "\n",
    "things_to_replace = ['Not Reported/ Unknown', 'Reported/ Unknown', \n",
    "                     'Not Applicable', 'na', 'unknown', 'Not Performed', \n",
    "                     'Unknown tumor status', 'Unknown']\n",
    "\n",
    "for col in follow_up.columns:\n",
    "    follow_up[col] = follow_up[col].replace(things_to_replace, np.nan)\n",
    "\n",
    "#This may not be wise to binarize for survival analysis. We shall see\n",
    "#for col in follow_up.columns:\n",
    "#    if np.issubdtype(follow_up[col].dtype, np.number):\n",
    "#        mean = follow_up[col].mean()\n",
    "#        follow_up[col]= bf.binarizeCutOff(follow_up, col, mean,\n",
    "#                                          \"Above_Mean(\"+str(round(mean, 2))+\")\",\n",
    "#                                          \"Below_Mean(\"+str(round(mean, 2))+\")\")\n",
    "\n",
    "chemo_to_replace = ['Chemotherapy', 'Chemo', 'chemotherapy']\n",
    "phase_to_replace = ['Phase I', 'Phase 1', 'Pahse I', 'With other Phase I drug']\n",
    "inhibitors_to_replace = ['PARP Inhibitor', 'aromatase inhibitor']\n",
    "other_to_replace = ['alkylating agent', 'plant alkaloid', \n",
    "                    'monoclonal antibody', 'GOG9923']\n",
    "\n",
    "col = 'Clinical Trial Drug Classification'\n",
    "\n",
    "follow_up[col] = follow_up[col].replace(chemo_to_replace, 'Chemotherapy')\n",
    "follow_up[col] = follow_up[col].replace(phase_to_replace, 'Phase I')\n",
    "follow_up[col] = follow_up[col].replace(inhibitors_to_replace, 'Inhibitors')\n",
    "follow_up[col] = follow_up[col].replace(other_to_replace, 'Other')"
   ]
  },
  {
   "cell_type": "code",
   "execution_count": 12,
   "metadata": {},
   "outputs": [],
   "source": [
    "follow_up = follow_up.rename({'PPID': 'Patient_ID'}, axis='columns')"
   ]
  },
  {
   "cell_type": "code",
   "execution_count": 14,
   "metadata": {},
   "outputs": [],
   "source": [
    "patient_data = pd.merge(clinical, follow_up, on = 'Patient_ID')"
   ]
  },
  {
   "cell_type": "code",
   "execution_count": 15,
   "metadata": {},
   "outputs": [
    {
     "data": {
      "text/plain": [
       "Index(['Patient_ID', 'Sample_Tumor_Normal', 'Participant_Procurement_Age',\n",
       "       'Participant_Gender', 'Participant_Race', 'Participant_Ethnicity',\n",
       "       'Participant_Jewish_Heritage', 'Participant_History_Malignancy',\n",
       "       'Participant_History_Chemotherapy',\n",
       "       'Participant_History_Neo-adjuvant_Treatment',\n",
       "       ...\n",
       "       'Additional Chemotherapy Treatment of New Tumor Event',\n",
       "       'Additional Immunotherapy Treatment of New Tumor Event',\n",
       "       'Was Patient Treated on a Clinical Trial?',\n",
       "       'Drug Name (Brand or Generic)', 'Clinical Trial Drug Classification',\n",
       "       'Pharmaceutical Type',\n",
       "       'Number of Days from Date of Initial Pathologic Diagnosis to Date of Therapy Start',\n",
       "       'Therapy Ongoing',\n",
       "       'Number of Days from Date of Initial Pathologic Diagnosis to Date of Therapy End',\n",
       "       'Measure of Best Response of Pharmaceutical Treatment'],\n",
       "      dtype='object', length=107)"
      ]
     },
     "execution_count": 15,
     "metadata": {},
     "output_type": "execute_result"
    }
   ],
   "source": [
    "patient_data.columns"
   ]
  }
 ],
 "metadata": {
  "kernelspec": {
   "display_name": "Python 3",
   "language": "python",
   "name": "python3"
  },
  "language_info": {
   "codemirror_mode": {
    "name": "ipython",
    "version": 3
   },
   "file_extension": ".py",
   "mimetype": "text/x-python",
   "name": "python",
   "nbconvert_exporter": "python",
   "pygments_lexer": "ipython3",
   "version": "3.6.2"
  }
 },
 "nbformat": 4,
 "nbformat_minor": 2
}
