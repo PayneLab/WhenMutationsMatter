{
 "cells": [
  {
   "cell_type": "code",
   "execution_count": 56,
   "metadata": {
    "collapsed": true
   },
   "outputs": [],
   "source": [
    "import pandas as pd\n",
    "import cptac\n",
    "import numpy as np\n",
    "import requests\n",
    "import json\n",
    "import deva\n",
    "import binarization_functions_1 as bf\n",
    "import sksurv\n",
    "import seaborn as sns\n",
    "import scipy\n",
    "import matplotlib.pyplot as plt\n",
    "from sksurv.nonparametric import kaplan_meier_estimator"
   ]
  },
  {
   "cell_type": "code",
   "execution_count": 13,
   "metadata": {},
   "outputs": [
    {
     "name": "stdout",
     "output_type": "stream",
     "text": [
      "                                    \r"
     ]
    },
    {
     "data": {
      "text/plain": [
       "True"
      ]
     },
     "execution_count": 13,
     "metadata": {},
     "output_type": "execute_result"
    }
   ],
   "source": [
    "cptac.download(dataset='ovarian', version='0.0')"
   ]
  },
  {
   "cell_type": "code",
   "execution_count": 14,
   "metadata": {},
   "outputs": [
    {
     "name": "stdout",
     "output_type": "stream",
     "text": [
      "                                    \r"
     ]
    }
   ],
   "source": [
    "ov = cptac.Ovarian()\n",
    "clinical = ov.get_clinical()\n",
    "proteomics = ov.get_proteomics()"
   ]
  },
  {
   "cell_type": "code",
   "execution_count": 15,
   "metadata": {
    "collapsed": true
   },
   "outputs": [],
   "source": [
    "follow_up = pd.read_excel('../Follow_Up_Data/Ovary_One_Year_Clinical_Data_20160927.xls')"
   ]
  },
  {
   "cell_type": "code",
   "execution_count": 16,
   "metadata": {},
   "outputs": [
    {
     "data": {
      "text/html": [
       "<div>\n",
       "<style scoped>\n",
       "    .dataframe tbody tr th:only-of-type {\n",
       "        vertical-align: middle;\n",
       "    }\n",
       "\n",
       "    .dataframe tbody tr th {\n",
       "        vertical-align: top;\n",
       "    }\n",
       "\n",
       "    .dataframe thead th {\n",
       "        text-align: right;\n",
       "    }\n",
       "</style>\n",
       "<table border=\"1\" class=\"dataframe\">\n",
       "  <thead>\n",
       "    <tr style=\"text-align: right;\">\n",
       "      <th></th>\n",
       "      <th>Short Title</th>\n",
       "      <th>PPID</th>\n",
       "      <th>Event</th>\n",
       "      <th>Modified Time</th>\n",
       "      <th>Modified By</th>\n",
       "      <th>Status</th>\n",
       "      <th>CRF Name</th>\n",
       "      <th>Date of Last Contact (Do not answer if patient is deceased)</th>\n",
       "      <th>Vital Status (at time of last contact)</th>\n",
       "      <th>Date of Death</th>\n",
       "      <th>...</th>\n",
       "      <th>Number of Days from Date of Initial Pathologic Diagnosis of the Tumor Submitted to CPTAC to Date Radiation Therapy Started for this Other Malignancy</th>\n",
       "      <th>Was the patient staged using FIGO?</th>\n",
       "      <th>FIGO Staging System (Gynecologic Tumors Only)</th>\n",
       "      <th>FIGO Stage</th>\n",
       "      <th>Was the patient staged using AJCC?</th>\n",
       "      <th>AJCC Cancer Staging Edition</th>\n",
       "      <th>Pathologic Spread: Primary Tumor (pT)</th>\n",
       "      <th>Pathologic Spread: Lymph Nodes (pN)</th>\n",
       "      <th>Distant Metastases (M)</th>\n",
       "      <th>AJCC Tumor Stage</th>\n",
       "    </tr>\n",
       "  </thead>\n",
       "  <tbody>\n",
       "    <tr>\n",
       "      <td>0</td>\n",
       "      <td>CPTAC-WU-01OV</td>\n",
       "      <td>01OV002</td>\n",
       "      <td>Collection</td>\n",
       "      <td>2016-04-22</td>\n",
       "      <td>Khandekar, Divya</td>\n",
       "      <td>Locked</td>\n",
       "      <td>One Year</td>\n",
       "      <td>2015-03-18</td>\n",
       "      <td>Living</td>\n",
       "      <td>NaT</td>\n",
       "      <td>...</td>\n",
       "      <td>NaN</td>\n",
       "      <td>NaN</td>\n",
       "      <td>NaN</td>\n",
       "      <td>NaN</td>\n",
       "      <td>NaN</td>\n",
       "      <td>NaN</td>\n",
       "      <td>NaN</td>\n",
       "      <td>NaN</td>\n",
       "      <td>NaN</td>\n",
       "      <td>NaN</td>\n",
       "    </tr>\n",
       "    <tr>\n",
       "      <td>1</td>\n",
       "      <td>CPTAC-WU-01OV</td>\n",
       "      <td>01OV002</td>\n",
       "      <td>Collection</td>\n",
       "      <td>2016-04-22</td>\n",
       "      <td>Khandekar, Divya</td>\n",
       "      <td>Locked</td>\n",
       "      <td>Pharmaceutical Supplemental form</td>\n",
       "      <td>NaT</td>\n",
       "      <td>NaN</td>\n",
       "      <td>NaT</td>\n",
       "      <td>...</td>\n",
       "      <td>NaN</td>\n",
       "      <td>NaN</td>\n",
       "      <td>NaN</td>\n",
       "      <td>NaN</td>\n",
       "      <td>NaN</td>\n",
       "      <td>NaN</td>\n",
       "      <td>NaN</td>\n",
       "      <td>NaN</td>\n",
       "      <td>NaN</td>\n",
       "      <td>NaN</td>\n",
       "    </tr>\n",
       "    <tr>\n",
       "      <td>2</td>\n",
       "      <td>CPTAC-WU-01OV</td>\n",
       "      <td>01OV002</td>\n",
       "      <td>Collection</td>\n",
       "      <td>2016-04-22</td>\n",
       "      <td>Khandekar, Divya</td>\n",
       "      <td>Locked</td>\n",
       "      <td>Pharmaceutical Supplemental form</td>\n",
       "      <td>NaT</td>\n",
       "      <td>NaN</td>\n",
       "      <td>NaT</td>\n",
       "      <td>...</td>\n",
       "      <td>NaN</td>\n",
       "      <td>NaN</td>\n",
       "      <td>NaN</td>\n",
       "      <td>NaN</td>\n",
       "      <td>NaN</td>\n",
       "      <td>NaN</td>\n",
       "      <td>NaN</td>\n",
       "      <td>NaN</td>\n",
       "      <td>NaN</td>\n",
       "      <td>NaN</td>\n",
       "    </tr>\n",
       "    <tr>\n",
       "      <td>3</td>\n",
       "      <td>CPTAC-WU-01OV</td>\n",
       "      <td>01OV002</td>\n",
       "      <td>Collection</td>\n",
       "      <td>2016-04-22</td>\n",
       "      <td>Khandekar, Divya</td>\n",
       "      <td>Locked</td>\n",
       "      <td>Pharmaceutical Supplemental form</td>\n",
       "      <td>NaT</td>\n",
       "      <td>NaN</td>\n",
       "      <td>NaT</td>\n",
       "      <td>...</td>\n",
       "      <td>NaN</td>\n",
       "      <td>NaN</td>\n",
       "      <td>NaN</td>\n",
       "      <td>NaN</td>\n",
       "      <td>NaN</td>\n",
       "      <td>NaN</td>\n",
       "      <td>NaN</td>\n",
       "      <td>NaN</td>\n",
       "      <td>NaN</td>\n",
       "      <td>NaN</td>\n",
       "    </tr>\n",
       "    <tr>\n",
       "      <td>4</td>\n",
       "      <td>CPTAC-WU-01OV</td>\n",
       "      <td>01OV007</td>\n",
       "      <td>Collection</td>\n",
       "      <td>2016-04-22</td>\n",
       "      <td>Khandekar, Divya</td>\n",
       "      <td>Locked</td>\n",
       "      <td>One Year</td>\n",
       "      <td>2015-03-10</td>\n",
       "      <td>Living</td>\n",
       "      <td>NaT</td>\n",
       "      <td>...</td>\n",
       "      <td>NaN</td>\n",
       "      <td>NaN</td>\n",
       "      <td>NaN</td>\n",
       "      <td>NaN</td>\n",
       "      <td>NaN</td>\n",
       "      <td>NaN</td>\n",
       "      <td>NaN</td>\n",
       "      <td>NaN</td>\n",
       "      <td>NaN</td>\n",
       "      <td>NaN</td>\n",
       "    </tr>\n",
       "  </tbody>\n",
       "</table>\n",
       "<p>5 rows × 74 columns</p>\n",
       "</div>"
      ],
      "text/plain": [
       "     Short Title     PPID       Event Modified Time       Modified By  Status  \\\n",
       "0  CPTAC-WU-01OV  01OV002  Collection    2016-04-22  Khandekar, Divya  Locked   \n",
       "1  CPTAC-WU-01OV  01OV002  Collection    2016-04-22  Khandekar, Divya  Locked   \n",
       "2  CPTAC-WU-01OV  01OV002  Collection    2016-04-22  Khandekar, Divya  Locked   \n",
       "3  CPTAC-WU-01OV  01OV002  Collection    2016-04-22  Khandekar, Divya  Locked   \n",
       "4  CPTAC-WU-01OV  01OV007  Collection    2016-04-22  Khandekar, Divya  Locked   \n",
       "\n",
       "                           CRF Name  \\\n",
       "0                          One Year   \n",
       "1  Pharmaceutical Supplemental form   \n",
       "2  Pharmaceutical Supplemental form   \n",
       "3  Pharmaceutical Supplemental form   \n",
       "4                          One Year   \n",
       "\n",
       "  Date of Last Contact (Do not answer if patient is deceased)  \\\n",
       "0                                         2015-03-18            \n",
       "1                                                NaT            \n",
       "2                                                NaT            \n",
       "3                                                NaT            \n",
       "4                                         2015-03-10            \n",
       "\n",
       "  Vital Status (at time of last contact) Date of Death  ...  \\\n",
       "0                                 Living           NaT  ...   \n",
       "1                                    NaN           NaT  ...   \n",
       "2                                    NaN           NaT  ...   \n",
       "3                                    NaN           NaT  ...   \n",
       "4                                 Living           NaT  ...   \n",
       "\n",
       "  Number of Days from Date of Initial Pathologic Diagnosis of the Tumor Submitted to CPTAC to Date Radiation Therapy Started for this Other Malignancy  \\\n",
       "0                                                NaN                                                                                                     \n",
       "1                                                NaN                                                                                                     \n",
       "2                                                NaN                                                                                                     \n",
       "3                                                NaN                                                                                                     \n",
       "4                                                NaN                                                                                                     \n",
       "\n",
       "  Was the patient staged using FIGO?  \\\n",
       "0                                NaN   \n",
       "1                                NaN   \n",
       "2                                NaN   \n",
       "3                                NaN   \n",
       "4                                NaN   \n",
       "\n",
       "  FIGO Staging System (Gynecologic Tumors Only) FIGO Stage  \\\n",
       "0                                           NaN        NaN   \n",
       "1                                           NaN        NaN   \n",
       "2                                           NaN        NaN   \n",
       "3                                           NaN        NaN   \n",
       "4                                           NaN        NaN   \n",
       "\n",
       "   Was the patient staged using AJCC? AJCC Cancer Staging Edition  \\\n",
       "0                                 NaN                         NaN   \n",
       "1                                 NaN                         NaN   \n",
       "2                                 NaN                         NaN   \n",
       "3                                 NaN                         NaN   \n",
       "4                                 NaN                         NaN   \n",
       "\n",
       "  Pathologic Spread: Primary Tumor (pT) Pathologic Spread: Lymph Nodes (pN)  \\\n",
       "0                                   NaN                                 NaN   \n",
       "1                                   NaN                                 NaN   \n",
       "2                                   NaN                                 NaN   \n",
       "3                                   NaN                                 NaN   \n",
       "4                                   NaN                                 NaN   \n",
       "\n",
       "  Distant Metastases (M) AJCC Tumor Stage  \n",
       "0                    NaN              NaN  \n",
       "1                    NaN              NaN  \n",
       "2                    NaN              NaN  \n",
       "3                    NaN              NaN  \n",
       "4                    NaN              NaN  \n",
       "\n",
       "[5 rows x 74 columns]"
      ]
     },
     "execution_count": 16,
     "metadata": {},
     "output_type": "execute_result"
    }
   ],
   "source": [
    "follow_up.head()"
   ]
  },
  {
   "cell_type": "code",
   "execution_count": 17,
   "metadata": {
    "collapsed": true
   },
   "outputs": [],
   "source": [
    "for col in follow_up.columns:\n",
    "    if len(follow_up[col].value_counts()) <= 1:\n",
    "        follow_up = follow_up.drop(col, axis=1)\n",
    "\n",
    "cols_to_drop = ['Short Title', 'Event', 'Modified Time',\n",
    "                'Modified By', 'Status', 'CRF Name', \n",
    "                'Was a Review of the Initial Pathological Findings Done?', \n",
    "                'Was the Pathology Review consistent with the Diagnosis?', \n",
    "                'Adjuvant (Post-Operative) Radiation Therapy', \n",
    "                'Adjuvant (Post-Operative) Immunotherapy', \n",
    "                'Adjuvant (Post-Operative) Hormone Therapy', \n",
    "                'Anatomic Site of New Tumor Event', \n",
    "                'Other Site of New Tumor Event or Lymph Node Location', \n",
    "                'Method Of Diagnosis of New Tumor Event', \n",
    "                'Date of Additional Surgery for New Tumor Event', \n",
    "                'Additional Hormone Therapy Treatment of New Tumor Event', \n",
    "                'Additional Targeted Molecular Therapy Treatment of New Tumor Event', \n",
    "                'What Type of Malignancy was This?', 'Primary Site of Disease', \n",
    "                'Laterality of the Disease', 'Did the patient have surgery for this malignancy?',\n",
    "                'Number of Days from Date of Initial Pathologic Diagnosis of the Tumor Submitted for CPTAC to the Date of Initial Diagnosis of Other Malignancy', \n",
    "                'Did the patient receive pharmaceutical therapy for this malignancy?', \n",
    "                'Was the patient staged using FIGO?', ' Was the patient staged using AJCC?']\n",
    "\n",
    "follow_up = follow_up.drop(cols_to_drop, axis=1).copy()\n",
    "\n",
    "things_to_replace = ['Not Reported/ Unknown', 'Reported/ Unknown', \n",
    "                     'Not Applicable', 'na', 'unknown', 'Not Performed', \n",
    "                     'Unknown tumor status', 'Unknown']\n",
    "\n",
    "for col in follow_up.columns:\n",
    "    follow_up[col] = follow_up[col].replace(things_to_replace, np.nan)\n",
    "\n",
    "chemo_to_replace = ['Chemotherapy', 'Chemo', 'chemotherapy']\n",
    "phase_to_replace = ['Phase I', 'Phase 1', 'Pahse I', 'With other Phase I drug']\n",
    "inhibitors_to_replace = ['PARP Inhibitor', 'aromatase inhibitor']\n",
    "other_to_replace = ['alkylating agent', 'plant alkaloid', \n",
    "                    'monoclonal antibody', 'GOG9923']\n",
    "\n",
    "col = 'Clinical Trial Drug Classification'\n",
    "\n",
    "follow_up[col] = follow_up[col].replace(chemo_to_replace, 'Chemotherapy')\n",
    "follow_up[col] = follow_up[col].replace(phase_to_replace, 'Phase I')\n",
    "follow_up[col] = follow_up[col].replace(inhibitors_to_replace, 'Inhibitors')\n",
    "follow_up[col] = follow_up[col].replace(other_to_replace, 'Other')"
   ]
  },
  {
   "cell_type": "code",
   "execution_count": 18,
   "metadata": {
    "collapsed": true
   },
   "outputs": [],
   "source": [
    "follow_up = follow_up.rename({'PPID': 'Patient_ID'}, axis='columns')"
   ]
  },
  {
   "cell_type": "code",
   "execution_count": 19,
   "metadata": {
    "collapsed": true
   },
   "outputs": [],
   "source": [
    "patient_data = pd.merge(clinical, follow_up, on = 'Patient_ID')"
   ]
  },
  {
   "cell_type": "code",
   "execution_count": 32,
   "metadata": {},
   "outputs": [
    {
     "data": {
      "text/plain": [
       "Index(['Patient_ID', 'Sample_Tumor_Normal', 'Participant_Procurement_Age',\n",
       "       'Participant_Gender', 'Participant_Race', 'Participant_Ethnicity',\n",
       "       'Participant_Jewish_Heritage', 'Participant_History_Malignancy',\n",
       "       'Participant_History_Chemotherapy',\n",
       "       'Participant_History_Neo-adjuvant_Treatment',\n",
       "       'Participant_History_Radiation_Therapy',\n",
       "       'Participant_History_Hormonal_Therapy', 'Aliquots_Plasma',\n",
       "       'Blood_Collection_Time', 'Blood_Collection_Method', 'Anesthesia_Time',\n",
       "       'Tumor_Surgical_Devascularized_Time', 'Tumor_Sample_Number',\n",
       "       'Tumor_Sample_1_Weight', 'Tumor_Sample_1_LN2_Time',\n",
       "       'Tumor_Sample_1_Ischemia_Time', 'Tumor_Sample_2_Weight',\n",
       "       'Tumor_Sample_2_LN2_Time', 'Tumor_Sample_2_Ischemia_Time',\n",
       "       'Tumor_Sample_3_Weight', 'Tumor_Sample_3_LN2_Time',\n",
       "       'Tumor_Sample_3_Ischemia_Time', 'Tumor_Sample_4_Weight',\n",
       "       'Tumor_Sample_4_LN2_Time', 'Tumor_Sample_4_Ischemia_Time',\n",
       "       'Tumor_Sample_5_Weight', 'Tumor_Sample_5_LN2_Time',\n",
       "       'Tumor_Sample_5_Ischemia_Time', 'Normal_Sample_Number',\n",
       "       'Normal_Sample_1_Surgical_Devascularized_Time',\n",
       "       'Normal_Sample_1_Weight', 'Normal_Sample_1_LN2_Time',\n",
       "       'Normal_Sample_1_Ischemia_Time',\n",
       "       'Normal_Sample_2_Surgical_Devascularized_Time',\n",
       "       'Normal_Sample_2_Weight', 'Normal_Sample_2_LN2_Time',\n",
       "       'Normal_Sample_2_Ischemia_Time',\n",
       "       'Normal_Sample_3_Surgical_Devascularized_Time',\n",
       "       'Normal_Sample_3_Weight', 'Normal_Sample_3_LN2_Time',\n",
       "       'Normal_Sample_3_Ischemia_Time',\n",
       "       'Normal_Sample_4_Surgical_Devascularized_Time',\n",
       "       'Normal_Sample_4_Weight', 'Normal_Sample_4_LN2_Time',\n",
       "       'Normal_Sample_4_Ischemia_Time',\n",
       "       'Normal_Sample_5_Surgical_Devascularized_Time',\n",
       "       'Normal_Sample_5_Weight', 'Normal_Sample_5_LN2_Time',\n",
       "       'Normal_Sample_5_Ischemia_Time', 'Origin_Site_Disease',\n",
       "       'Anatomic_Site_Tumor', 'Anatomic_Lateral_Position_Tumor',\n",
       "       'Histological_Subtype', 'Method_of_Pathologic_Diagnosis',\n",
       "       'Tumor_Stage_Ovary_FIGO', 'Tumor_Grade',\n",
       "       'Tumor_Residual_Disease_Max_Diameter',\n",
       "       'Days_Between_Collection_And_Last_Contact', 'Vital_Status',\n",
       "       'Days_Between_Collection_And_Death', 'Tumor_Status',\n",
       "       'Review_Of_Initial_Pathological_Findings',\n",
       "       'Pathology_Review_Consistent_With_Diagnosis',\n",
       "       'Adjuvant_Radiation_Therapy', 'Adjuvant_Pharmaceutical_Therapy',\n",
       "       'Adjuvant_Immunotherapy', 'Adjuvant_Hormone_Therapy',\n",
       "       'Adjuvant_Targeted_Molecular_Therapy',\n",
       "       'Response_After_Surgery_And_Adjuvant_Therapies',\n",
       "       'New_Tumor_Event_After_Initial_Treatment', 'New_Tumor_Event_Type',\n",
       "       'New_Tumor_Event_Site', 'Other_New_Tumor_Event_Site',\n",
       "       'Days_Between_Collection_And_New_Tumor_Event',\n",
       "       'New_Tumor_Event_Diagnosis', 'New_Tumor_Event_Surgery',\n",
       "       'Days_Between_Collection_And_New_Tumor_Event_Surgery',\n",
       "       'New_Tumor_Event_Chemotherapy', 'New_Tumor_Event_Immunotherapy',\n",
       "       'New_Tumor_Event_Hormone_Therapy',\n",
       "       'New_Tumor_Event_Targeted_Molecular_Therapy'],\n",
       "      dtype='object', name='Name')"
      ]
     },
     "execution_count": 32,
     "metadata": {},
     "output_type": "execute_result"
    }
   ],
   "source": [
    "clinical.columns"
   ]
  },
  {
   "cell_type": "code",
   "execution_count": 51,
   "metadata": {},
   "outputs": [
    {
     "name": "stderr",
     "output_type": "stream",
     "text": [
      "Warning: proteomics data was not found for the following samples, so proteomics data columns were filled with NaN for these samples: S001, S003, S004, S005, S008, S010, S014, S017, S018, S020, S021, S030, S032, S034, S036, S058, S072, S073, S075, S077, S081, S082, S083, S086, S092, S099, S105, S109 (C:\\Users\\Daniel\\AppData\\Local\\conda\\conda\\envs\\Research\\lib\\site-packages\\ipykernel_launcher.py, line 6)\n"
     ]
    },
    {
     "data": {
      "image/png": "[encoded data removed]",
      "text/plain": [
       "<Figure size 432x288 with 1 Axes>"
      ]
     },
     "metadata": {},
     "output_type": "display_data"
    }
   ],
   "source": [
    "#Sam's Code\n",
    "omics_genes=[\"GBP2\", \"GBP5\", \"RAC2\"]\n",
    "df = ov.join_metadata_to_omics(metadata_df_name=\"clinical\", \n",
    "                                       omics_df_name=\"proteomics\", \n",
    "                                       metadata_cols=\"Vital_Status\",# 'Days_Between_Collection_And_Last_Contact'],\n",
    "                                       omics_genes=[\"GBP2\", \"GBP5\", \"RAC2\"])\n",
    "\n",
    "df1 = ov.reduce_multiindex(df, levels_to_drop=\"Database_ID\")\n",
    "\n",
    "clinical_attribute = \"Vital_Status\"\n",
    "data_col = \"GBP5_proteomics\"\n",
    "sns.boxplot(x=\"Vital_Status\", y=data_col, data=df1, showfliers=False)\n",
    "sns.stripplot(x=\"Vital_Status\", y=data_col, data=df1, color='0.3')\n",
    "plt.show()"
   ]
  },
  {
   "cell_type": "code",
   "execution_count": 42,
   "metadata": {},
   "outputs": [
    {
     "name": "stdout",
     "output_type": "stream",
     "text": [
      "GBP2\n",
      "Ttest_indResult(statistic=0.9376885702119404, pvalue=0.3512624078297031) \n",
      "\n",
      "GBP5\n",
      "Ttest_indResult(statistic=0.4142003164633323, pvalue=0.6798498748343362) \n",
      "\n",
      "RAC2\n",
      "Ttest_indResult(statistic=1.1437298743557582, pvalue=0.2561895567872052) \n",
      "\n"
     ]
    }
   ],
   "source": [
    "df_clean = df1.dropna(axis=0, how='any')\n",
    "living = df_clean[df_clean[\"Vital_Status\"] == 'Living']\n",
    "dead = df_clean[df_clean[\"Vital_Status\"] == 'Deceased']\n",
    "#living\n",
    "for gene in omics_genes:\n",
    "    print(gene)\n",
    "    gene += \"_proteomics\"\n",
    "    print(scipy.stats.ttest_ind(living[gene], dead[gene]), '\\n')"
   ]
  },
  {
   "cell_type": "code",
   "execution_count": 52,
   "metadata": {},
   "outputs": [
    {
     "name": "stderr",
     "output_type": "stream",
     "text": [
      "Warning: proteomics data was not found for the following samples, so proteomics data columns were filled with NaN for these samples: S001, S003, S004, S005, S008, S010, S014, S017, S018, S020, S021, S030, S032, S034, S036, S058, S072, S073, S075, S077, S081, S082, S083, S086, S092, S099, S105, S109 (C:\\Users\\Daniel\\AppData\\Local\\conda\\conda\\envs\\Research\\lib\\site-packages\\ipykernel_launcher.py, line 6)\n"
     ]
    },
    {
     "data": {
      "image/png": "[encoded data removed]",
      "text/plain": [
       "<Figure size 432x288 with 1 Axes>"
      ]
     },
     "metadata": {},
     "output_type": "display_data"
    }
   ],
   "source": [
    "#Sam's Code\n",
    "omics_genes=[\"GBP2\", \"GBP5\", \"RAC2\"]\n",
    "df = ov.join_metadata_to_omics(metadata_df_name=\"clinical\", \n",
    "                                       omics_df_name=\"proteomics\", \n",
    "                                       metadata_cols=[\"Vital_Status\", 'Days_Between_Collection_And_Last_Contact'],\n",
    "                                       omics_genes=[\"GBP2\", \"GBP5\", \"RAC2\"])\n",
    "\n",
    "df1 = ov.reduce_multiindex(df, levels_to_drop=\"Database_ID\")\n",
    "\n",
    "clinical_attribute = \"Vital_Status\"\n",
    "data_col = \"GBP2_proteomics\"\n",
    "sns.boxplot(x=\"Vital_Status\", y=data_col, data=df1, showfliers=False)\n",
    "sns.stripplot(x=\"Vital_Status\", y=data_col, data=df1, color='0.3')\n",
    "plt.show()"
   ]
  },
  {
   "cell_type": "code",
   "execution_count": 149,
   "metadata": {},
   "outputs": [],
   "source": [
    "copy = df1.copy()\n",
    "omics_cols = ['GBP2_proteomics', 'GBP5_proteomics', 'RAC2_proteomics']\n",
    "\n",
    "for col in omics_cols:\n",
    "    lower_25_filter = copy[col] <= copy[col].quantile(.25)\n",
    "    upper_25_filter = copy[col] >= copy[col].quantile(.75)\n",
    "\n",
    "    copy[col] = np.where(lower_25_filter, \"Lower_25%\", copy[col])\n",
    "    copy[col] = np.where(upper_25_filter, \"Upper_25%\", copy[col])\n",
    "    copy[col] = np.where(~lower_25_filter & ~upper_25_filter, \"Middle_50%\", copy[col])\n",
    "    \n",
    "copy['Vital_Status'] = copy['Vital_Status'].replace('Living', False)\n",
    "copy['Vital_Status'] = copy['Vital_Status'].replace('Deceased', True)\n",
    "\n",
    "#copy = copy.dropna()"
   ]
  },
  {
   "cell_type": "code",
   "execution_count": 157,
   "metadata": {},
   "outputs": [
    {
     "data": {
      "text/html": [
       "<div>\n",
       "<style scoped>\n",
       "    .dataframe tbody tr th:only-of-type {\n",
       "        vertical-align: middle;\n",
       "    }\n",
       "\n",
       "    .dataframe tbody tr th {\n",
       "        vertical-align: top;\n",
       "    }\n",
       "\n",
       "    .dataframe thead th {\n",
       "        text-align: right;\n",
       "    }\n",
       "</style>\n",
       "<table border=\"1\" class=\"dataframe\">\n",
       "  <thead>\n",
       "    <tr style=\"text-align: right;\">\n",
       "      <th>Name</th>\n",
       "      <th>Vital_Status</th>\n",
       "      <th>Days_Between_Collection_And_Last_Contact</th>\n",
       "      <th>GBP2_proteomics</th>\n",
       "      <th>GBP5_proteomics</th>\n",
       "      <th>RAC2_proteomics</th>\n",
       "    </tr>\n",
       "    <tr>\n",
       "      <th>Sample_ID</th>\n",
       "      <th></th>\n",
       "      <th></th>\n",
       "      <th></th>\n",
       "      <th></th>\n",
       "      <th></th>\n",
       "    </tr>\n",
       "  </thead>\n",
       "  <tbody>\n",
       "    <tr>\n",
       "      <td>S011</td>\n",
       "      <td>Deceased</td>\n",
       "      <td>NaN</td>\n",
       "      <td>0.684596</td>\n",
       "      <td>1.039641</td>\n",
       "      <td>0.347294</td>\n",
       "    </tr>\n",
       "    <tr>\n",
       "      <td>S061</td>\n",
       "      <td>Deceased</td>\n",
       "      <td>NaN</td>\n",
       "      <td>0.550095</td>\n",
       "      <td>0.481031</td>\n",
       "      <td>0.567427</td>\n",
       "    </tr>\n",
       "    <tr>\n",
       "      <td>S066</td>\n",
       "      <td>Deceased</td>\n",
       "      <td>NaN</td>\n",
       "      <td>-0.599716</td>\n",
       "      <td>-0.860110</td>\n",
       "      <td>-0.378419</td>\n",
       "    </tr>\n",
       "    <tr>\n",
       "      <td>S067</td>\n",
       "      <td>Deceased</td>\n",
       "      <td>NaN</td>\n",
       "      <td>0.074519</td>\n",
       "      <td>-0.259718</td>\n",
       "      <td>0.221343</td>\n",
       "    </tr>\n",
       "    <tr>\n",
       "      <td>S069</td>\n",
       "      <td>Deceased</td>\n",
       "      <td>NaN</td>\n",
       "      <td>0.814846</td>\n",
       "      <td>0.654045</td>\n",
       "      <td>0.589899</td>\n",
       "    </tr>\n",
       "    <tr>\n",
       "      <td>S083</td>\n",
       "      <td>Deceased</td>\n",
       "      <td>NaN</td>\n",
       "      <td>NaN</td>\n",
       "      <td>NaN</td>\n",
       "      <td>NaN</td>\n",
       "    </tr>\n",
       "    <tr>\n",
       "      <td>S095</td>\n",
       "      <td>Deceased</td>\n",
       "      <td>NaN</td>\n",
       "      <td>-0.259120</td>\n",
       "      <td>-0.098505</td>\n",
       "      <td>-0.071598</td>\n",
       "    </tr>\n",
       "    <tr>\n",
       "      <td>S107</td>\n",
       "      <td>Deceased</td>\n",
       "      <td>NaN</td>\n",
       "      <td>-0.927487</td>\n",
       "      <td>-1.389054</td>\n",
       "      <td>-0.106615</td>\n",
       "    </tr>\n",
       "  </tbody>\n",
       "</table>\n",
       "</div>"
      ],
      "text/plain": [
       "Name      Vital_Status  Days_Between_Collection_And_Last_Contact  \\\n",
       "Sample_ID                                                          \n",
       "S011          Deceased                                       NaN   \n",
       "S061          Deceased                                       NaN   \n",
       "S066          Deceased                                       NaN   \n",
       "S067          Deceased                                       NaN   \n",
       "S069          Deceased                                       NaN   \n",
       "S083          Deceased                                       NaN   \n",
       "S095          Deceased                                       NaN   \n",
       "S107          Deceased                                       NaN   \n",
       "\n",
       "Name       GBP2_proteomics  GBP5_proteomics  RAC2_proteomics  \n",
       "Sample_ID                                                     \n",
       "S011              0.684596         1.039641         0.347294  \n",
       "S061              0.550095         0.481031         0.567427  \n",
       "S066             -0.599716        -0.860110        -0.378419  \n",
       "S067              0.074519        -0.259718         0.221343  \n",
       "S069              0.814846         0.654045         0.589899  \n",
       "S083                   NaN              NaN              NaN  \n",
       "S095             -0.259120        -0.098505        -0.071598  \n",
       "S107             -0.927487        -1.389054        -0.106615  "
      ]
     },
     "execution_count": 157,
     "metadata": {},
     "output_type": "execute_result"
    }
   ],
   "source": [
    "#Because we don't have the time frame for the deceased people, \n",
    "#a Kaplan Meier plot is both impossible and useless\n",
    "copy = df1.copy()\n",
    "copy[copy['Vital_Status'] == \"Deceased\"]"
   ]
  },
  {
   "cell_type": "code",
   "execution_count": 153,
   "metadata": {},
   "outputs": [
    {
     "data": {
      "text/plain": [
       "False    95\n",
       "Name: Vital_Status, dtype: int64"
      ]
     },
     "execution_count": 153,
     "metadata": {},
     "output_type": "execute_result"
    }
   ],
   "source": [
    "copy_subset['Vital_Status'].dropna().value_counts()"
   ]
  },
  {
   "cell_type": "code",
   "execution_count": 150,
   "metadata": {
    "collapsed": true
   },
   "outputs": [],
   "source": [
    "copy_subset = copy[['GBP2_proteomics', 'Vital_Status', \n",
    "                    'Days_Between_Collection_And_Last_Contact']]\n",
    "copy_subset = copy_subset.dropna()"
   ]
  },
  {
   "cell_type": "code",
   "execution_count": 151,
   "metadata": {},
   "outputs": [
    {
     "ename": "ValueError",
     "evalue": "elements of event indicator must be boolean, but found float64",
     "output_type": "error",
     "traceback": [
      "\u001b[1;31m---------------------------------------------------------------------------\u001b[0m",
      "\u001b[1;31mValueError\u001b[0m                                Traceback (most recent call last)",
      "\u001b[1;32m<ipython-input-151-6a6cf9030d6e>\u001b[0m in \u001b[0;36m<module>\u001b[1;34m()\u001b[0m\n\u001b[0;32m      2\u001b[0m     \u001b[0mmask\u001b[0m \u001b[1;33m=\u001b[0m \u001b[0mcopy_subset\u001b[0m\u001b[1;33m[\u001b[0m\u001b[1;34m'GBP2_proteomics'\u001b[0m\u001b[1;33m]\u001b[0m \u001b[1;33m==\u001b[0m \u001b[0mvalue\u001b[0m\u001b[1;33m\u001b[0m\u001b[0m\n\u001b[0;32m      3\u001b[0m     time_cell, survival_prob_cell = kaplan_meier_estimator(copy_subset[\"Vital_Status\"][mask],\n\u001b[1;32m----> 4\u001b[1;33m                                                            copy_subset[\"Days_Between_Collection_And_Last_Contact\"][mask])\n\u001b[0m\u001b[0;32m      5\u001b[0m     plt.step(time_cell, survival_prob_cell, where=\"post\",\n\u001b[0;32m      6\u001b[0m              label=\"%s (n = %d)\" % (value, mask.sum()))\n",
      "\u001b[1;32m~\\AppData\\Roaming\\Python\\Python36\\site-packages\\sksurv\\nonparametric.py\u001b[0m in \u001b[0;36mkaplan_meier_estimator\u001b[1;34m(event, time_exit, time_enter, time_min)\u001b[0m\n\u001b[0;32m    212\u001b[0m            \u001b[0mJournal\u001b[0m \u001b[0mof\u001b[0m \u001b[0mThe\u001b[0m \u001b[0mAmerican\u001b[0m \u001b[0mStatistical\u001b[0m \u001b[0mAssociation\u001b[0m\u001b[1;33m,\u001b[0m \u001b[0mvol\u001b[0m\u001b[1;33m.\u001b[0m \u001b[1;36m53\u001b[0m\u001b[1;33m,\u001b[0m \u001b[0mpp\u001b[0m\u001b[1;33m.\u001b[0m \u001b[1;36m457\u001b[0m\u001b[1;33m-\u001b[0m\u001b[1;36m481\u001b[0m\u001b[1;33m,\u001b[0m \u001b[1;36m1958.\u001b[0m\u001b[1;33m\u001b[0m\u001b[0m\n\u001b[0;32m    213\u001b[0m     \"\"\"\n\u001b[1;32m--> 214\u001b[1;33m     \u001b[0mevent\u001b[0m\u001b[1;33m,\u001b[0m \u001b[0mtime_enter\u001b[0m\u001b[1;33m,\u001b[0m \u001b[0mtime_exit\u001b[0m \u001b[1;33m=\u001b[0m \u001b[0mcheck_y_survival\u001b[0m\u001b[1;33m(\u001b[0m\u001b[0mevent\u001b[0m\u001b[1;33m,\u001b[0m \u001b[0mtime_enter\u001b[0m\u001b[1;33m,\u001b[0m \u001b[0mtime_exit\u001b[0m\u001b[1;33m,\u001b[0m \u001b[0mallow_all_censored\u001b[0m\u001b[1;33m=\u001b[0m\u001b[1;32mTrue\u001b[0m\u001b[1;33m)\u001b[0m\u001b[1;33m\u001b[0m\u001b[0m\n\u001b[0m\u001b[0;32m    215\u001b[0m     \u001b[0mcheck_consistent_length\u001b[0m\u001b[1;33m(\u001b[0m\u001b[0mevent\u001b[0m\u001b[1;33m,\u001b[0m \u001b[0mtime_enter\u001b[0m\u001b[1;33m,\u001b[0m \u001b[0mtime_exit\u001b[0m\u001b[1;33m)\u001b[0m\u001b[1;33m\u001b[0m\u001b[0m\n\u001b[0;32m    216\u001b[0m \u001b[1;33m\u001b[0m\u001b[0m\n",
      "\u001b[1;32m~\\AppData\\Roaming\\Python\\Python36\\site-packages\\sksurv\\util.py\u001b[0m in \u001b[0;36mcheck_y_survival\u001b[1;34m(y_or_event, allow_all_censored, *args)\u001b[0m\n\u001b[0;32m    145\u001b[0m     \u001b[0mevent\u001b[0m \u001b[1;33m=\u001b[0m \u001b[0mcheck_array\u001b[0m\u001b[1;33m(\u001b[0m\u001b[0my_event\u001b[0m\u001b[1;33m,\u001b[0m \u001b[0mensure_2d\u001b[0m\u001b[1;33m=\u001b[0m\u001b[1;32mFalse\u001b[0m\u001b[1;33m)\u001b[0m\u001b[1;33m\u001b[0m\u001b[0m\n\u001b[0;32m    146\u001b[0m     \u001b[1;32mif\u001b[0m \u001b[1;32mnot\u001b[0m \u001b[0mnumpy\u001b[0m\u001b[1;33m.\u001b[0m\u001b[0missubdtype\u001b[0m\u001b[1;33m(\u001b[0m\u001b[0mevent\u001b[0m\u001b[1;33m.\u001b[0m\u001b[0mdtype\u001b[0m\u001b[1;33m,\u001b[0m \u001b[0mnumpy\u001b[0m\u001b[1;33m.\u001b[0m\u001b[0mbool_\u001b[0m\u001b[1;33m)\u001b[0m\u001b[1;33m:\u001b[0m\u001b[1;33m\u001b[0m\u001b[0m\n\u001b[1;32m--> 147\u001b[1;33m         \u001b[1;32mraise\u001b[0m \u001b[0mValueError\u001b[0m\u001b[1;33m(\u001b[0m\u001b[1;34m'elements of event indicator must be boolean, but found {0}'\u001b[0m\u001b[1;33m.\u001b[0m\u001b[0mformat\u001b[0m\u001b[1;33m(\u001b[0m\u001b[0mevent\u001b[0m\u001b[1;33m.\u001b[0m\u001b[0mdtype\u001b[0m\u001b[1;33m)\u001b[0m\u001b[1;33m)\u001b[0m\u001b[1;33m\u001b[0m\u001b[0m\n\u001b[0m\u001b[0;32m    148\u001b[0m \u001b[1;33m\u001b[0m\u001b[0m\n\u001b[0;32m    149\u001b[0m     \u001b[1;32mif\u001b[0m \u001b[1;32mnot\u001b[0m \u001b[1;33m(\u001b[0m\u001b[0mallow_all_censored\u001b[0m \u001b[1;32mor\u001b[0m \u001b[0mnumpy\u001b[0m\u001b[1;33m.\u001b[0m\u001b[0many\u001b[0m\u001b[1;33m(\u001b[0m\u001b[0mevent\u001b[0m\u001b[1;33m)\u001b[0m\u001b[1;33m)\u001b[0m\u001b[1;33m:\u001b[0m\u001b[1;33m\u001b[0m\u001b[0m\n",
      "\u001b[1;31mValueError\u001b[0m: elements of event indicator must be boolean, but found float64"
     ]
    }
   ],
   "source": [
    "for value in copy_subset['GBP2_proteomics'].unique():\n",
    "    mask = copy_subset['GBP2_proteomics'] == value\n",
    "    time_cell, survival_prob_cell = kaplan_meier_estimator(copy_subset[\"Vital_Status\"][mask],\n",
    "                                                           copy_subset[\"Days_Between_Collection_And_Last_Contact\"][mask])\n",
    "    plt.step(time_cell, survival_prob_cell, where=\"post\",\n",
    "             label=\"%s (n = %d)\" % (value, mask.sum()))\n",
    "\n",
    "plt.ylabel(\"est. probability of survival $\\hat{S}(t)$\")\n",
    "plt.xlabel(\"time $t$\")\n",
    "ax = plt.subplot(111)\n",
    "ax.legend(loc='upper center', bbox_to_anchor=(1.35, 1), shadow=True, ncol=1)\n",
    "#plt.title('Survival Risk for TP53 Mutations')\n",
    "plt.show()"
   ]
  },
  {
   "cell_type": "code",
   "execution_count": null,
   "metadata": {
    "collapsed": true
   },
   "outputs": [],
   "source": []
  }
 ],
 "metadata": {
  "kernelspec": {
   "display_name": "Python 3",
   "language": "python",
   "name": "python3"
  },
  "language_info": {
   "codemirror_mode": {
    "name": "ipython",
    "version": 3
   },
   "file_extension": ".py",
   "mimetype": "text/x-python",
   "name": "python",
   "nbconvert_exporter": "python",
   "pygments_lexer": "ipython3",
   "version": "3.6.2"
  }
 },
 "nbformat": 4,
 "nbformat_minor": 2
}
