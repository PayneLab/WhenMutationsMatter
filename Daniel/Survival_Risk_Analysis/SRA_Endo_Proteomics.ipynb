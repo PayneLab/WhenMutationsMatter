{
 "cells": [
  {
   "cell_type": "code",
   "execution_count": 159,
   "metadata": {},
   "outputs": [],
   "source": [
    "import pandas as pd\n",
    "import cptac\n",
    "import numpy as np\n",
    "import requests\n",
    "import json\n",
    "import deva\n",
    "import binarization_functions_1 as bf\n",
    "import sksurv\n",
    "import matplotlib.pyplot as plt\n",
    "import seaborn as sns\n",
    "from sksurv.nonparametric import kaplan_meier_estimator"
   ]
  },
  {
   "cell_type": "code",
   "execution_count": 160,
   "metadata": {},
   "outputs": [
    {
     "name": "stdout",
     "output_type": "stream",
     "text": [
      "                                    \r"
     ]
    }
   ],
   "source": [
    "en = cptac.Endometrial()\n",
    "clinical = en.get_clinical()\n",
    "proteomics = en.get_proteomics()"
   ]
  },
  {
   "cell_type": "code",
   "execution_count": 201,
   "metadata": {
    "collapsed": true
   },
   "outputs": [],
   "source": [
    "follow_up = pd.read_excel('../Follow_Up_Data/UCEC_followup_9_12.xlsx')"
   ]
  },
  {
   "cell_type": "code",
   "execution_count": 202,
   "metadata": {
    "collapsed": true
   },
   "outputs": [],
   "source": [
    "#We are only looking at the discovery cohort, so we will separate the data into two tables based on cohort\n",
    "cohort_filter = follow_up['Cohort'] == \"Disc\"\n",
    "discovery_cohort = follow_up[cohort_filter]\n",
    "other_cohort = follow_up[~cohort_filter]"
   ]
  },
  {
   "cell_type": "code",
   "execution_count": 203,
   "metadata": {},
   "outputs": [],
   "source": [
    "cols_to_drop = ['Tumor code', 'ECOG Score', \n",
    "                'Karnofsky Score', 'Perform Status Scale: Timing', \n",
    "                'Other Perform Scale Timing', \n",
    "                'Specify Other New Tumor Site', 'Tamoxifen']\n",
    "\n",
    "discovery_cohort = discovery_cohort.drop(cols_to_drop, axis=1)\n",
    "\n",
    "for col in discovery_cohort.columns:\n",
    "    if len(discovery_cohort[col].value_counts()) <= 1:\n",
    "        discovery_cohort = discovery_cohort.drop(col, axis=1)\n",
    "        \n",
    "things_to_replace = ['Not Reported/ Unknown', 'Reported/ Unknown', \n",
    "                     'Not Applicable', 'na', 'unknown', 'Not Performed', \n",
    "                     'Unknown tumor status', 'Unknown', \n",
    "                     'Unknown Tumor Status', 'Not specified']\n",
    "\n",
    "for col in discovery_cohort.columns:\n",
    "    discovery_cohort[col] = discovery_cohort[col].replace(things_to_replace, np.nan)"
   ]
  },
  {
   "cell_type": "code",
   "execution_count": 204,
   "metadata": {
    "collapsed": true
   },
   "outputs": [],
   "source": [
    "discovery_cohort = discovery_cohort.rename({'Case ID': 'Patient_ID'}, axis='columns')"
   ]
  },
  {
   "cell_type": "code",
   "execution_count": 205,
   "metadata": {
    "collapsed": true
   },
   "outputs": [],
   "source": [
    "patient_data = pd.merge(clinical, discovery_cohort, on = 'Patient_ID')"
   ]
  },
  {
   "cell_type": "code",
   "execution_count": 212,
   "metadata": {
    "collapsed": true
   },
   "outputs": [],
   "source": [
    "columns_to_focus_on = ['Patient_ID', 'Lost to Follow-up?', 'Vital Status', \n",
    "                       'Histologic_Grade_FIGO', 'Path Diag to Last Contact(Day)', \n",
    "                       'Cause of Death', 'Success of Initial Treatment',\n",
    "                       'Path Diag to Death(days)', 'Follow-up Period',\n",
    "                       'Success of Treatment@ Followup', 'Histologic_type', \n",
    "                       'New Tumor After Initial TRT',\n",
    "                       'Path Diag to new Tumor (days)',]"
   ]
  },
  {
   "cell_type": "code",
   "execution_count": 219,
   "metadata": {},
   "outputs": [],
   "source": [
    "focus_group = patient_data[columns_to_focus_on].copy().drop_duplicates()\n",
    "focus_group_subset = focus_group[['Vital Status', \n",
    "                                  'Path Diag to Last Contact(Day)', \n",
    "                                  'Histologic_type']]\n",
    "#focus_group_subset = focus_group_subset[~np.isnan(focus_group_subset['Path Diag to Last Contact(Day)'])]\n",
    "#focus_group_subset = focus_group_subset[~np.isnan(focus_group_subset['Histologic_type'])]\n",
    "focus_group_subset = focus_group_subset.replace('Living', False)\n",
    "focus_group_subset = focus_group_subset.replace('Deceased', True)\n",
    "focus_group_subset = focus_group_subset.dropna()"
   ]
  },
  {
   "cell_type": "code",
   "execution_count": 220,
   "metadata": {},
   "outputs": [
    {
     "data": {
      "text/html": [
       "<div>\n",
       "<style scoped>\n",
       "    .dataframe tbody tr th:only-of-type {\n",
       "        vertical-align: middle;\n",
       "    }\n",
       "\n",
       "    .dataframe tbody tr th {\n",
       "        vertical-align: top;\n",
       "    }\n",
       "\n",
       "    .dataframe thead th {\n",
       "        text-align: right;\n",
       "    }\n",
       "</style>\n",
       "<table border=\"1\" class=\"dataframe\">\n",
       "  <thead>\n",
       "    <tr style=\"text-align: right;\">\n",
       "      <th></th>\n",
       "      <th>Vital Status</th>\n",
       "      <th>Path Diag to Last Contact(Day)</th>\n",
       "      <th>Histologic_type</th>\n",
       "    </tr>\n",
       "  </thead>\n",
       "  <tbody>\n",
       "    <tr>\n",
       "      <td>0</td>\n",
       "      <td>False</td>\n",
       "      <td>494.0</td>\n",
       "      <td>Endometrioid</td>\n",
       "    </tr>\n",
       "    <tr>\n",
       "      <td>1</td>\n",
       "      <td>False</td>\n",
       "      <td>717.0</td>\n",
       "      <td>Endometrioid</td>\n",
       "    </tr>\n",
       "    <tr>\n",
       "      <td>2</td>\n",
       "      <td>False</td>\n",
       "      <td>737.0</td>\n",
       "      <td>Endometrioid</td>\n",
       "    </tr>\n",
       "    <tr>\n",
       "      <td>6</td>\n",
       "      <td>False</td>\n",
       "      <td>440.0</td>\n",
       "      <td>Endometrioid</td>\n",
       "    </tr>\n",
       "    <tr>\n",
       "      <td>7</td>\n",
       "      <td>False</td>\n",
       "      <td>624.0</td>\n",
       "      <td>Endometrioid</td>\n",
       "    </tr>\n",
       "    <tr>\n",
       "      <td>...</td>\n",
       "      <td>...</td>\n",
       "      <td>...</td>\n",
       "      <td>...</td>\n",
       "    </tr>\n",
       "    <tr>\n",
       "      <td>255</td>\n",
       "      <td>False</td>\n",
       "      <td>698.0</td>\n",
       "      <td>Endometrioid</td>\n",
       "    </tr>\n",
       "    <tr>\n",
       "      <td>256</td>\n",
       "      <td>False</td>\n",
       "      <td>401.0</td>\n",
       "      <td>Serous</td>\n",
       "    </tr>\n",
       "    <tr>\n",
       "      <td>257</td>\n",
       "      <td>False</td>\n",
       "      <td>774.0</td>\n",
       "      <td>Serous</td>\n",
       "    </tr>\n",
       "    <tr>\n",
       "      <td>258</td>\n",
       "      <td>False</td>\n",
       "      <td>199.0</td>\n",
       "      <td>Serous</td>\n",
       "    </tr>\n",
       "    <tr>\n",
       "      <td>259</td>\n",
       "      <td>False</td>\n",
       "      <td>687.0</td>\n",
       "      <td>Serous</td>\n",
       "    </tr>\n",
       "  </tbody>\n",
       "</table>\n",
       "<p>199 rows × 3 columns</p>\n",
       "</div>"
      ],
      "text/plain": [
       "     Vital Status  Path Diag to Last Contact(Day) Histologic_type\n",
       "0           False                           494.0    Endometrioid\n",
       "1           False                           717.0    Endometrioid\n",
       "2           False                           737.0    Endometrioid\n",
       "6           False                           440.0    Endometrioid\n",
       "7           False                           624.0    Endometrioid\n",
       "..            ...                             ...             ...\n",
       "255         False                           698.0    Endometrioid\n",
       "256         False                           401.0          Serous\n",
       "257         False                           774.0          Serous\n",
       "258         False                           199.0          Serous\n",
       "259         False                           687.0          Serous\n",
       "\n",
       "[199 rows x 3 columns]"
      ]
     },
     "execution_count": 220,
     "metadata": {},
     "output_type": "execute_result"
    }
   ],
   "source": [
    "focus_group_subset"
   ]
  },
  {
   "cell_type": "code",
   "execution_count": 225,
   "metadata": {},
   "outputs": [
    {
     "data": {
      "image/png": "[encoded data removed]",
      "text/plain": [
       "<Figure size 432x288 with 1 Axes>"
      ]
     },
     "metadata": {},
     "output_type": "display_data"
    }
   ],
   "source": [
    "time, survival_prob = kaplan_meier_estimator(focus_group_subset[\"Vital Status\"], \n",
    "                                             focus_group_subset[\"Path Diag to Last Contact(Day)\"])\n",
    "plt.step(time, survival_prob, where=\"post\")\n",
    "plt.ylabel(\"est. probability of survival $\\hat{S}(t)$\")\n",
    "plt.xlabel(\"time $t$\")\n",
    "plt.title(\"Basic Survival Analysis - Endometrial Cancer\")\n",
    "plt.show()"
   ]
  },
  {
   "cell_type": "code",
   "execution_count": 223,
   "metadata": {},
   "outputs": [
    {
     "data": {
      "image/png": "[encoded data removed]",
      "text/plain": [
       "<Figure size 432x288 with 1 Axes>"
      ]
     },
     "metadata": {},
     "output_type": "display_data"
    }
   ],
   "source": [
    "for value in focus_group_subset[\"Histologic_type\"].unique():\n",
    "    mask = focus_group_subset[\"Histologic_type\"] == value\n",
    "    time_cell, survival_prob_cell = kaplan_meier_estimator(focus_group_subset[\"Vital Status\"][mask],\n",
    "                                                           focus_group_subset[\"Path Diag to Last Contact(Day)\"][mask])\n",
    "    plt.step(time_cell, survival_prob_cell, where=\"post\",\n",
    "             label=\"%s (n = %d)\" % (value, mask.sum()))\n",
    "\n",
    "plt.ylabel(\"est. probability of survival $\\hat{S}(t)$\")\n",
    "plt.xlabel(\"time $t$\")\n",
    "plt.legend(loc=\"best\")\n",
    "plt.show()"
   ]
  },
  {
   "cell_type": "code",
   "execution_count": null,
   "metadata": {
    "collapsed": true
   },
   "outputs": [],
   "source": [
    "#Look at P53 mutations\n",
    "#get_somatic_mutations, then slice out for P53, and then group_by ID\n",
    "#Join mutation data with the clinical dataframe and follow_up data\n",
    "#Add the p-values and the cox proportional hazard values\n",
    "#Actual death-dates??"
   ]
  }
 ],
 "metadata": {
  "kernelspec": {
   "display_name": "Python 3",
   "language": "python",
   "name": "python3"
  },
  "language_info": {
   "codemirror_mode": {
    "name": "ipython",
    "version": 3
   },
   "file_extension": ".py",
   "mimetype": "text/x-python",
   "name": "python",
   "nbconvert_exporter": "python",
   "pygments_lexer": "ipython3",
   "version": "3.6.2"
  }
 },
 "nbformat": 4,
 "nbformat_minor": 2
}
