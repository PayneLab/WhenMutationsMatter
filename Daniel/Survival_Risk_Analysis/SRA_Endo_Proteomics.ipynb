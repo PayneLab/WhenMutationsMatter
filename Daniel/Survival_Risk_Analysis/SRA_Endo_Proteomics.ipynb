{
 "cells": [
  {
   "cell_type": "code",
   "execution_count": 22,
   "metadata": {},
   "outputs": [],
   "source": [
    "import pandas as pd\n",
    "import cptac\n",
    "import numpy as np\n",
    "import requests\n",
    "import json\n",
    "import deva\n",
    "import binarization_functions_1 as bf\n",
    "import sksurv\n",
    "import matplotlib.pyplot as plt\n",
    "import seaborn as sns\n",
    "from sksurv.nonparametric import kaplan_meier_estimator\n",
    "import scipy"
   ]
  },
  {
   "cell_type": "code",
   "execution_count": 23,
   "metadata": {},
   "outputs": [
    {
     "name": "stdout",
     "output_type": "stream",
     "text": [
      "                                    \r"
     ]
    }
   ],
   "source": [
    "en = cptac.Endometrial()\n",
    "clinical = en.get_clinical()\n",
    "proteomics = en.get_proteomics()"
   ]
  },
  {
   "cell_type": "code",
   "execution_count": 24,
   "metadata": {
    "collapsed": true
   },
   "outputs": [],
   "source": [
    "follow_up = pd.read_excel('../Follow_Up_Data/UCEC_followup_9_12.xlsx')"
   ]
  },
  {
   "cell_type": "code",
   "execution_count": 25,
   "metadata": {
    "collapsed": true
   },
   "outputs": [],
   "source": [
    "#We are only looking at the discovery cohort, so we will separate the data into two tables based on cohort\n",
    "cohort_filter = follow_up['Cohort'] == \"Disc\"\n",
    "discovery_cohort = follow_up[cohort_filter]\n",
    "other_cohort = follow_up[~cohort_filter]"
   ]
  },
  {
   "cell_type": "code",
   "execution_count": 26,
   "metadata": {
    "collapsed": true
   },
   "outputs": [],
   "source": [
    "cols_to_drop = ['Tumor code', 'ECOG Score', \n",
    "                'Karnofsky Score', 'Perform Status Scale: Timing', \n",
    "                'Other Perform Scale Timing', \n",
    "                'Specify Other New Tumor Site', 'Tamoxifen']\n",
    "\n",
    "discovery_cohort = discovery_cohort.drop(cols_to_drop, axis=1)\n",
    "\n",
    "for col in discovery_cohort.columns:\n",
    "    if len(discovery_cohort[col].value_counts()) <= 1:\n",
    "        discovery_cohort = discovery_cohort.drop(col, axis=1)\n",
    "        \n",
    "things_to_replace = ['Not Reported/ Unknown', 'Reported/ Unknown', \n",
    "                     'Not Applicable', 'na', 'unknown', 'Not Performed', \n",
    "                     'Unknown tumor status', 'Unknown', \n",
    "                     'Unknown Tumor Status', 'Not specified']\n",
    "\n",
    "for col in discovery_cohort.columns:\n",
    "    discovery_cohort[col] = discovery_cohort[col].replace(things_to_replace, np.nan)"
   ]
  },
  {
   "cell_type": "code",
   "execution_count": 32,
   "metadata": {
    "collapsed": true
   },
   "outputs": [],
   "source": [
    "discovery_cohort = discovery_cohort.rename({'Case ID': 'Patient_ID'}, axis='columns')"
   ]
  },
  {
   "cell_type": "code",
   "execution_count": 37,
   "metadata": {},
   "outputs": [],
   "source": [
    "patient_data = pd.merge(clinical, discovery_cohort, on = 'Patient_ID')"
   ]
  },
  {
   "cell_type": "code",
   "execution_count": 39,
   "metadata": {
    "collapsed": true
   },
   "outputs": [],
   "source": [
    "columns_to_focus_on = ['Patient_ID', 'Lost to Follow-up?', 'Vital Status', \n",
    "                       'Histologic_Grade_FIGO', 'Path Diag to Last Contact(Day)', \n",
    "                       'Cause of Death', 'Success of Initial Treatment',\n",
    "                       'Path Diag to Death(days)', 'Follow-up Period',\n",
    "                       'Success of Treatment@ Followup', 'Histologic_type', \n",
    "                       'New Tumor After Initial TRT',\n",
    "                       'Path Diag to new Tumor (days)', 'BMI']"
   ]
  },
  {
   "cell_type": "code",
   "execution_count": 40,
   "metadata": {},
   "outputs": [],
   "source": [
    "focus_group = patient_data[columns_to_focus_on].copy().drop_duplicates()\n",
    "\n",
    "focus_group_subset = focus_group[['Vital Status', \n",
    "                                  'Path Diag to Last Contact(Day)', \n",
    "                                  'Histologic_type']]\n",
    "focus_group_subset = focus_group_subset.replace('Living', False)\n",
    "focus_group_subset = focus_group_subset.replace('Deceased', True)\n",
    "focus_group_subset = focus_group_subset.dropna()"
   ]
  },
  {
   "cell_type": "code",
   "execution_count": 41,
   "metadata": {},
   "outputs": [
    {
     "data": {
      "image/png": "[encoded data removed]",
      "text/plain": [
       "<Figure size 432x288 with 1 Axes>"
      ]
     },
     "metadata": {},
     "output_type": "display_data"
    }
   ],
   "source": [
    "time, survival_prob = kaplan_meier_estimator(focus_group_subset[\"Vital Status\"], \n",
    "                                             focus_group_subset[\"Path Diag to Last Contact(Day)\"])\n",
    "plt.step(time, survival_prob, where=\"post\")\n",
    "plt.ylabel(\"est. probability of survival $\\hat{S}(t)$\")\n",
    "plt.xlabel(\"time $t$\")\n",
    "plt.title(\"Basic Survival Analysis - Endometrial Cancer\")\n",
    "plt.show()"
   ]
  },
  {
   "cell_type": "code",
   "execution_count": 42,
   "metadata": {},
   "outputs": [
    {
     "data": {
      "image/png": "[encoded data removed]",
      "text/plain": [
       "<Figure size 432x288 with 1 Axes>"
      ]
     },
     "metadata": {},
     "output_type": "display_data"
    }
   ],
   "source": [
    "for value in focus_group_subset[\"Histologic_type\"].unique():\n",
    "    mask = focus_group_subset[\"Histologic_type\"] == value\n",
    "    time_cell, survival_prob_cell = kaplan_meier_estimator(focus_group_subset[\"Vital Status\"][mask],\n",
    "                                                           focus_group_subset[\"Path Diag to Last Contact(Day)\"][mask])\n",
    "    plt.step(time_cell, survival_prob_cell, where=\"post\",\n",
    "             label=\"%s (n = %d)\" % (value, mask.sum()))\n",
    "\n",
    "plt.ylabel(\"est. probability of survival $\\hat{S}(t)$\")\n",
    "plt.xlabel(\"time $t$\")\n",
    "plt.legend(loc=\"best\")\n",
    "plt.title(\"Endometrial Cancer Survival Risk\")\n",
    "plt.show()"
   ]
  },
  {
   "cell_type": "code",
   "execution_count": 44,
   "metadata": {
    "collapsed": true
   },
   "outputs": [],
   "source": [
    "mutations = en.get_somatic_mutation()"
   ]
  },
  {
   "cell_type": "code",
   "execution_count": 45,
   "metadata": {
    "collapsed": true
   },
   "outputs": [],
   "source": [
    "tp53_filter = mutations['Gene'] == 'TP53'\n",
    "tp53_mutations = mutations[tp53_filter]"
   ]
  },
  {
   "cell_type": "code",
   "execution_count": 46,
   "metadata": {},
   "outputs": [
    {
     "name": "stderr",
     "output_type": "stream",
     "text": [
      "Warning: In joining the somatic_mutation table, no mutations were found for the following samples, so they were filled with Wildtype_Tumor or Wildtype_Normal: 123 samples for the TP53 gene (C:\\Users\\Daniel\\AppData\\Local\\conda\\conda\\envs\\Research\\lib\\site-packages\\ipykernel_launcher.py, line 2)\n"
     ]
    }
   ],
   "source": [
    "omics_mutations = en.join_omics_to_mutations(omics_df_name=\"proteomics\", mutations_genes='TP53', \n",
    "                                             omics_genes='TP53', mutations_filter=[])"
   ]
  },
  {
   "cell_type": "code",
   "execution_count": 47,
   "metadata": {
    "collapsed": true
   },
   "outputs": [],
   "source": [
    "omics_mut_clin = pd.merge(omics_mutations, clinical, on='Sample_ID')"
   ]
  },
  {
   "cell_type": "code",
   "execution_count": 48,
   "metadata": {
    "collapsed": true
   },
   "outputs": [],
   "source": [
    "omics_mut_clin_fol = pd.merge(discovery_cohort, omics_mut_clin, on='Patient_ID')"
   ]
  },
  {
   "cell_type": "code",
   "execution_count": 49,
   "metadata": {
    "collapsed": true
   },
   "outputs": [],
   "source": [
    "cols_to_focus_on = ['Vital Status', 'Path Diag to Last Contact(Day)', \n",
    "                    'Path Diag to Death(days)', 'TP53_proteomics', \n",
    "                    'TP53_Mutation', 'TP53_Location', 'TP53_Mutation_Status']\n",
    "\n",
    "cols_to_focus_on2 = ['Vital Status', 'Path Diag to Last Contact(Day)', \n",
    "                    'TP53_proteomics','TP53_Mutation', 'TP53_Location', \n",
    "                     'TP53_Mutation_Status', 'BMI']\n",
    "\n",
    "mutation_test = omics_mut_clin_fol[cols_to_focus_on2].copy().drop_duplicates()"
   ]
  },
  {
   "cell_type": "code",
   "execution_count": 50,
   "metadata": {
    "collapsed": true
   },
   "outputs": [],
   "source": [
    "mutation_test = mutation_test.dropna()"
   ]
  },
  {
   "cell_type": "code",
   "execution_count": 51,
   "metadata": {
    "collapsed": true
   },
   "outputs": [],
   "source": [
    "mutation_test = mutation_test.replace(\"Living\", False)\n",
    "mutation_test = mutation_test.replace(\"Deceased\", True)"
   ]
  },
  {
   "cell_type": "code",
   "execution_count": 52,
   "metadata": {
    "collapsed": true
   },
   "outputs": [],
   "source": [
    "mutation_data = mutation_test.drop(['Vital Status', 'TP53_proteomics',\n",
    "                                    'Path Diag to Last Contact(Day)'],\n",
    "                                   axis = 1).copy()\n",
    "\n",
    "survival_data = mutation_test[['Vital Status', 'Path Diag to Last Contact(Day)']].copy()"
   ]
  },
  {
   "cell_type": "code",
   "execution_count": 53,
   "metadata": {},
   "outputs": [
    {
     "name": "stderr",
     "output_type": "stream",
     "text": [
      "C:\\Users\\Daniel\\AppData\\Local\\conda\\conda\\envs\\Research\\lib\\site-packages\\ipykernel_launcher.py:10: MatplotlibDeprecationWarning: Adding an axes using the same arguments as a previous axes currently reuses the earlier instance.  In a future version, a new instance will always be created and returned.  Meanwhile, this warning can be suppressed, and the future behavior ensured, by passing a unique label to each axes instance.\n",
      "  # Remove the CWD from sys.path while we load stuff.\n"
     ]
    },
    {
     "data": {
      "image/png": "[encoded data removed]",
      "text/plain": [
       "<Figure size 432x288 with 1 Axes>"
      ]
     },
     "metadata": {},
     "output_type": "display_data"
    }
   ],
   "source": [
    "for value in mutation_test[\"TP53_Mutation\"].unique():\n",
    "    mask = mutation_test[\"TP53_Mutation\"] == value\n",
    "    time_cell, survival_prob_cell = kaplan_meier_estimator(mutation_test[\"Vital Status\"][mask],\n",
    "                                                           mutation_test[\"Path Diag to Last Contact(Day)\"][mask])\n",
    "    plt.step(time_cell, survival_prob_cell, where=\"post\",\n",
    "             label=\"%s (n = %d)\" % (value, mask.sum()))\n",
    "\n",
    "plt.ylabel(\"est. probability of survival $\\hat{S}(t)$\")\n",
    "plt.xlabel(\"time $t$\")\n",
    "ax = plt.subplot(111)\n",
    "ax.legend(loc='upper center', bbox_to_anchor=(1.35, 1), shadow=True, ncol=1)\n",
    "plt.title('Survival Risk for TP53 Mutations')\n",
    "plt.show()"
   ]
  },
  {
   "cell_type": "code",
   "execution_count": 54,
   "metadata": {
    "collapsed": true
   },
   "outputs": [],
   "source": [
    "from sksurv.preprocessing import OneHotEncoder\n",
    "from sksurv.linear_model import CoxPHSurvivalAnalysis"
   ]
  },
  {
   "cell_type": "code",
   "execution_count": 83,
   "metadata": {},
   "outputs": [
    {
     "name": "stdout",
     "output_type": "stream",
     "text": [
      "[('Vital Status', '?'), ('Path Diag to Last Contact(Day)', '<f8')]\n"
     ]
    }
   ],
   "source": [
    "test_array = np.zeros(len(survival_data), \n",
    "                dtype={'names':('Vital Status', \n",
    "                                'Path Diag to Last Contact(Day)'), \n",
    "                       'formats':('?', '<f8')})\n",
    "print(test_array.dtype)"
   ]
  },
  {
   "cell_type": "code",
   "execution_count": 86,
   "metadata": {
    "collapsed": true
   },
   "outputs": [],
   "source": [
    "test_array['Vital Status'] = survival_data['Vital Status'].values\n",
    "test_array['Path Diag to Last Contact(Day)'] = survival_data['Path Diag to Last Contact(Day)'].values"
   ]
  },
  {
   "cell_type": "code",
   "execution_count": 57,
   "metadata": {},
   "outputs": [
    {
     "data": {
      "text/html": [
       "<div>\n",
       "<style scoped>\n",
       "    .dataframe tbody tr th:only-of-type {\n",
       "        vertical-align: middle;\n",
       "    }\n",
       "\n",
       "    .dataframe tbody tr th {\n",
       "        vertical-align: top;\n",
       "    }\n",
       "\n",
       "    .dataframe thead th {\n",
       "        text-align: right;\n",
       "    }\n",
       "</style>\n",
       "<table border=\"1\" class=\"dataframe\">\n",
       "  <thead>\n",
       "    <tr style=\"text-align: right;\">\n",
       "      <th></th>\n",
       "      <th>TP53_Mutation</th>\n",
       "      <th>TP53_Location</th>\n",
       "      <th>TP53_Mutation_Status</th>\n",
       "      <th>BMI</th>\n",
       "    </tr>\n",
       "  </thead>\n",
       "  <tbody>\n",
       "    <tr>\n",
       "      <td>0</td>\n",
       "      <td>Missense_Mutation</td>\n",
       "      <td>p.R248W</td>\n",
       "      <td>Single_mutation</td>\n",
       "      <td>38.88</td>\n",
       "    </tr>\n",
       "    <tr>\n",
       "      <td>2</td>\n",
       "      <td>Missense_Mutation</td>\n",
       "      <td>p.R248W</td>\n",
       "      <td>Single_mutation</td>\n",
       "      <td>38.88</td>\n",
       "    </tr>\n",
       "    <tr>\n",
       "      <td>4</td>\n",
       "      <td>Missense_Mutation</td>\n",
       "      <td>p.R248W</td>\n",
       "      <td>Single_mutation</td>\n",
       "      <td>38.88</td>\n",
       "    </tr>\n",
       "    <tr>\n",
       "      <td>6</td>\n",
       "      <td>Wildtype_Tumor</td>\n",
       "      <td>No_mutation</td>\n",
       "      <td>Wildtype_Tumor</td>\n",
       "      <td>39.76</td>\n",
       "    </tr>\n",
       "    <tr>\n",
       "      <td>7</td>\n",
       "      <td>Wildtype_Tumor</td>\n",
       "      <td>No_mutation</td>\n",
       "      <td>Wildtype_Tumor</td>\n",
       "      <td>39.76</td>\n",
       "    </tr>\n",
       "  </tbody>\n",
       "</table>\n",
       "</div>"
      ],
      "text/plain": [
       "       TP53_Mutation TP53_Location TP53_Mutation_Status    BMI\n",
       "0  Missense_Mutation       p.R248W      Single_mutation  38.88\n",
       "2  Missense_Mutation       p.R248W      Single_mutation  38.88\n",
       "4  Missense_Mutation       p.R248W      Single_mutation  38.88\n",
       "6     Wildtype_Tumor   No_mutation       Wildtype_Tumor  39.76\n",
       "7     Wildtype_Tumor   No_mutation       Wildtype_Tumor  39.76"
      ]
     },
     "execution_count": 57,
     "metadata": {},
     "output_type": "execute_result"
    }
   ],
   "source": [
    "mutation_data.head()"
   ]
  },
  {
   "cell_type": "code",
   "execution_count": 58,
   "metadata": {},
   "outputs": [
    {
     "name": "stdout",
     "output_type": "stream",
     "text": [
      "TP53_Mutation\n",
      "category\n",
      "TP53_Location\n",
      "category\n",
      "TP53_Mutation_Status\n",
      "category\n",
      "BMI\n",
      "float64\n"
     ]
    }
   ],
   "source": [
    "for col in mutation_data.columns:\n",
    "    if col == 'BMI':\n",
    "        continue\n",
    "    mutation_data[col] = mutation_data[col].astype('category')\n",
    "\n",
    "for col in mutation_data.columns:\n",
    "    print(col)\n",
    "    print(mutation_data[col].dtype)"
   ]
  },
  {
   "cell_type": "code",
   "execution_count": 59,
   "metadata": {
    "collapsed": true
   },
   "outputs": [],
   "source": [
    "mutations_numeric = OneHotEncoder().fit_transform(mutation_data)"
   ]
  },
  {
   "cell_type": "code",
   "execution_count": 93,
   "metadata": {
    "collapsed": true
   },
   "outputs": [],
   "source": [
    "test_list = ['TP53_Mutation=Frame_Shift_Ins', 'TP53_Mutation=In_Frame_Del',\n",
    "       'TP53_Mutation=Missense_Mutation', 'TP53_Mutation=Nonsense_Mutation',\n",
    "       'TP53_Mutation=Splice_Site', 'TP53_Mutation=Wildtype_Tumor',\n",
    "       'TP53_Location=p.A159P', 'TP53_Location=p.E198*',\n",
    "       'TP53_Location=p.E343Gfs*2', 'TP53_Location=p.G244D',\n",
    "       'TP53_Location=p.H193L', 'TP53_Location=p.K164E',\n",
    "       'TP53_Location=p.L14P', 'TP53_Location=p.P27S', 'TP53_Location=p.R175H',\n",
    "       'TP53_Location=p.R196*', 'TP53_Location=p.R213*',\n",
    "       'TP53_Location=p.R248W', 'TP53_Location=p.R249S',\n",
    "       'TP53_Location=p.R273H', 'TP53_Location=p.S127Y',\n",
    "       'TP53_Location=p.S241C', 'TP53_Location=p.S241del',\n",
    "       'TP53_Location=p.V217Wfs*31', 'TP53_Location=p.X225_splice',\n",
    "       'TP53_Mutation_Status=Single_mutation',\n",
    "       'TP53_Mutation_Status=Wildtype_Tumor']"
   ]
  },
  {
   "cell_type": "code",
   "execution_count": 61,
   "metadata": {
    "collapsed": true
   },
   "outputs": [],
   "source": [
    "mutations_numeric = mutations_numeric.dropna()"
   ]
  },
  {
   "cell_type": "code",
   "execution_count": 94,
   "metadata": {},
   "outputs": [
    {
     "ename": "LinAlgError",
     "evalue": "Matrix is singular.",
     "output_type": "error",
     "traceback": [
      "\u001b[1;31m---------------------------------------------------------------------------\u001b[0m",
      "\u001b[1;31mLinAlgError\u001b[0m                               Traceback (most recent call last)",
      "\u001b[1;32m<ipython-input-94-c7eeffb88c27>\u001b[0m in \u001b[0;36m<module>\u001b[1;34m()\u001b[0m\n\u001b[0;32m      1\u001b[0m \u001b[1;31m##Not sure how to deal with the NaN/Infinity stuff since I already dropped nans\u001b[0m\u001b[1;33m\u001b[0m\u001b[1;33m\u001b[0m\u001b[0m\n\u001b[0;32m      2\u001b[0m \u001b[0mestimator\u001b[0m \u001b[1;33m=\u001b[0m \u001b[0mCoxPHSurvivalAnalysis\u001b[0m\u001b[1;33m(\u001b[0m\u001b[1;33m)\u001b[0m\u001b[1;33m\u001b[0m\u001b[0m\n\u001b[1;32m----> 3\u001b[1;33m \u001b[0mestimator\u001b[0m\u001b[1;33m.\u001b[0m\u001b[0mfit\u001b[0m\u001b[1;33m(\u001b[0m\u001b[0mmutations_numeric\u001b[0m\u001b[1;33m[\u001b[0m\u001b[0mtest_list\u001b[0m\u001b[1;33m]\u001b[0m\u001b[1;33m,\u001b[0m \u001b[0mtest_array\u001b[0m\u001b[1;33m)\u001b[0m\u001b[1;33m\u001b[0m\u001b[0m\n\u001b[0m",
      "\u001b[1;32m~\\AppData\\Roaming\\Python\\Python36\\site-packages\\sksurv\\linear_model\\coxph.py\u001b[0m in \u001b[0;36mfit\u001b[1;34m(self, X, y)\u001b[0m\n\u001b[0;32m    403\u001b[0m             \u001b[0moptimizer\u001b[0m\u001b[1;33m.\u001b[0m\u001b[0mupdate\u001b[0m\u001b[1;33m(\u001b[0m\u001b[0mw\u001b[0m\u001b[1;33m)\u001b[0m\u001b[1;33m\u001b[0m\u001b[0m\n\u001b[0;32m    404\u001b[0m             delta = solve(optimizer.hessian, optimizer.gradient,\n\u001b[1;32m--> 405\u001b[1;33m                           overwrite_a=False, overwrite_b=False, check_finite=False)\n\u001b[0m\u001b[0;32m    406\u001b[0m \u001b[1;33m\u001b[0m\u001b[0m\n\u001b[0;32m    407\u001b[0m             \u001b[1;32mif\u001b[0m \u001b[1;32mnot\u001b[0m \u001b[0mnumpy\u001b[0m\u001b[1;33m.\u001b[0m\u001b[0mall\u001b[0m\u001b[1;33m(\u001b[0m\u001b[0mnumpy\u001b[0m\u001b[1;33m.\u001b[0m\u001b[0misfinite\u001b[0m\u001b[1;33m(\u001b[0m\u001b[0mdelta\u001b[0m\u001b[1;33m)\u001b[0m\u001b[1;33m)\u001b[0m\u001b[1;33m:\u001b[0m\u001b[1;33m\u001b[0m\u001b[0m\n",
      "\u001b[1;32m~\\AppData\\Local\\conda\\conda\\envs\\Research\\lib\\site-packages\\scipy\\linalg\\basic.py\u001b[0m in \u001b[0;36msolve\u001b[1;34m(a, b, sym_pos, lower, overwrite_a, overwrite_b, debug, check_finite, assume_a, transposed)\u001b[0m\n\u001b[0;32m    214\u001b[0m                                                (a1, b1))\n\u001b[0;32m    215\u001b[0m         \u001b[0mlu\u001b[0m\u001b[1;33m,\u001b[0m \u001b[0mipvt\u001b[0m\u001b[1;33m,\u001b[0m \u001b[0minfo\u001b[0m \u001b[1;33m=\u001b[0m \u001b[0mgetrf\u001b[0m\u001b[1;33m(\u001b[0m\u001b[0ma1\u001b[0m\u001b[1;33m,\u001b[0m \u001b[0moverwrite_a\u001b[0m\u001b[1;33m=\u001b[0m\u001b[0moverwrite_a\u001b[0m\u001b[1;33m)\u001b[0m\u001b[1;33m\u001b[0m\u001b[0m\n\u001b[1;32m--> 216\u001b[1;33m         \u001b[0m_solve_check\u001b[0m\u001b[1;33m(\u001b[0m\u001b[0mn\u001b[0m\u001b[1;33m,\u001b[0m \u001b[0minfo\u001b[0m\u001b[1;33m)\u001b[0m\u001b[1;33m\u001b[0m\u001b[0m\n\u001b[0m\u001b[0;32m    217\u001b[0m         x, info = getrs(lu, ipvt, b1,\n\u001b[0;32m    218\u001b[0m                         trans=trans, overwrite_b=overwrite_b)\n",
      "\u001b[1;32m~\\AppData\\Local\\conda\\conda\\envs\\Research\\lib\\site-packages\\scipy\\linalg\\basic.py\u001b[0m in \u001b[0;36m_solve_check\u001b[1;34m(n, info, lamch, rcond)\u001b[0m\n\u001b[0;32m     29\u001b[0m                          '.'.format(-info))\n\u001b[0;32m     30\u001b[0m     \u001b[1;32melif\u001b[0m \u001b[1;36m0\u001b[0m \u001b[1;33m<\u001b[0m \u001b[0minfo\u001b[0m\u001b[1;33m:\u001b[0m\u001b[1;33m\u001b[0m\u001b[0m\n\u001b[1;32m---> 31\u001b[1;33m         \u001b[1;32mraise\u001b[0m \u001b[0mLinAlgError\u001b[0m\u001b[1;33m(\u001b[0m\u001b[1;34m'Matrix is singular.'\u001b[0m\u001b[1;33m)\u001b[0m\u001b[1;33m\u001b[0m\u001b[0m\n\u001b[0m\u001b[0;32m     32\u001b[0m \u001b[1;33m\u001b[0m\u001b[0m\n\u001b[0;32m     33\u001b[0m     \u001b[1;32mif\u001b[0m \u001b[0mlamch\u001b[0m \u001b[1;32mis\u001b[0m \u001b[1;32mNone\u001b[0m\u001b[1;33m:\u001b[0m\u001b[1;33m\u001b[0m\u001b[0m\n",
      "\u001b[1;31mLinAlgError\u001b[0m: Matrix is singular."
     ]
    }
   ],
   "source": [
    "##Not sure how to deal with the NaN/Infinity stuff since I already dropped nans\n",
    "estimator = CoxPHSurvivalAnalysis()\n",
    "estimator.fit(mutations_numeric[test_list], test_array)"
   ]
  },
  {
   "cell_type": "markdown",
   "metadata": {},
   "source": [
    "## Starting the Kaplan Meier stuff for the genes Sam wanted me to study"
   ]
  },
  {
   "cell_type": "code",
   "execution_count": 65,
   "metadata": {
    "collapsed": true
   },
   "outputs": [],
   "source": [
    "omics_genes = ['GBP2', 'GBP5', 'RAC2']"
   ]
  },
  {
   "cell_type": "code",
   "execution_count": 66,
   "metadata": {
    "collapsed": true
   },
   "outputs": [],
   "source": [
    "df = en.join_metadata_to_omics(metadata_df_name = 'clinical', \n",
    "                               omics_df_name = 'proteomics', \n",
    "                               metadata_cols = 'Patient_ID', \n",
    "                               omics_genes = omics_genes)"
   ]
  },
  {
   "cell_type": "code",
   "execution_count": 67,
   "metadata": {
    "collapsed": true
   },
   "outputs": [],
   "source": [
    "df_genes = df.merge(follow_up,\n",
    "                    left_on = 'Patient_ID',\n",
    "                    right_on = 'Case ID')"
   ]
  },
  {
   "cell_type": "code",
   "execution_count": 68,
   "metadata": {
    "collapsed": true
   },
   "outputs": [],
   "source": [
    "focus_genes = df_genes[['Vital Status',\n",
    "                        'Path Diag to Last Contact(Day)', \n",
    "                        'GBP2_proteomics', 'GBP5_proteomics', \n",
    "                        'RAC2_proteomics']].copy()"
   ]
  },
  {
   "cell_type": "code",
   "execution_count": 69,
   "metadata": {
    "collapsed": true
   },
   "outputs": [],
   "source": [
    "focus_genes_clean = focus_genes.copy()\n",
    "omics_cols = ['GBP2_proteomics', 'GBP5_proteomics', 'RAC2_proteomics']\n",
    "\n",
    "for col in omics_cols:\n",
    "    lower_25_filter = focus_genes_clean[col] <= focus_genes_clean[col].quantile(.25)\n",
    "    upper_25_filter = focus_genes_clean[col] >= focus_genes_clean[col].quantile(.75)\n",
    "\n",
    "    focus_genes_clean[col] = np.where(lower_25_filter, \"Lower_25%\", \n",
    "                                      focus_genes_clean[col])\n",
    "    focus_genes_clean[col] = np.where(upper_25_filter, \"Upper_25%\", \n",
    "                                      focus_genes_clean[col])\n",
    "    focus_genes_clean[col] = np.where(~lower_25_filter & ~upper_25_filter, \n",
    "                                      \"Middle_50%\", focus_genes_clean[col])\n",
    "    \n",
    "focus_genes_clean['Vital Status'] = focus_genes_clean['Vital Status'].replace('Living', False)\n",
    "focus_genes_clean['Vital Status'] = focus_genes_clean['Vital Status'].replace('Deceased', True)"
   ]
  },
  {
   "cell_type": "code",
   "execution_count": 70,
   "metadata": {},
   "outputs": [
    {
     "data": {
      "text/html": [
       "<div>\n",
       "<style scoped>\n",
       "    .dataframe tbody tr th:only-of-type {\n",
       "        vertical-align: middle;\n",
       "    }\n",
       "\n",
       "    .dataframe tbody tr th {\n",
       "        vertical-align: top;\n",
       "    }\n",
       "\n",
       "    .dataframe thead th {\n",
       "        text-align: right;\n",
       "    }\n",
       "</style>\n",
       "<table border=\"1\" class=\"dataframe\">\n",
       "  <thead>\n",
       "    <tr style=\"text-align: right;\">\n",
       "      <th></th>\n",
       "      <th>Vital Status</th>\n",
       "      <th>Path Diag to Last Contact(Day)</th>\n",
       "      <th>GBP2_proteomics</th>\n",
       "      <th>GBP5_proteomics</th>\n",
       "      <th>RAC2_proteomics</th>\n",
       "    </tr>\n",
       "  </thead>\n",
       "  <tbody>\n",
       "    <tr>\n",
       "      <td>0</td>\n",
       "      <td>False</td>\n",
       "      <td>494.0</td>\n",
       "      <td>Lower_25%</td>\n",
       "      <td>Upper_25%</td>\n",
       "      <td>Middle_50%</td>\n",
       "    </tr>\n",
       "    <tr>\n",
       "      <td>1</td>\n",
       "      <td>False</td>\n",
       "      <td>717.0</td>\n",
       "      <td>Lower_25%</td>\n",
       "      <td>Upper_25%</td>\n",
       "      <td>Middle_50%</td>\n",
       "    </tr>\n",
       "    <tr>\n",
       "      <td>2</td>\n",
       "      <td>False</td>\n",
       "      <td>737.0</td>\n",
       "      <td>Lower_25%</td>\n",
       "      <td>Upper_25%</td>\n",
       "      <td>Middle_50%</td>\n",
       "    </tr>\n",
       "    <tr>\n",
       "      <td>3</td>\n",
       "      <td>False</td>\n",
       "      <td>494.0</td>\n",
       "      <td>Upper_25%</td>\n",
       "      <td>Middle_50%</td>\n",
       "      <td>Middle_50%</td>\n",
       "    </tr>\n",
       "    <tr>\n",
       "      <td>4</td>\n",
       "      <td>False</td>\n",
       "      <td>717.0</td>\n",
       "      <td>Upper_25%</td>\n",
       "      <td>Middle_50%</td>\n",
       "      <td>Middle_50%</td>\n",
       "    </tr>\n",
       "    <tr>\n",
       "      <td>...</td>\n",
       "      <td>...</td>\n",
       "      <td>...</td>\n",
       "      <td>...</td>\n",
       "      <td>...</td>\n",
       "      <td>...</td>\n",
       "    </tr>\n",
       "    <tr>\n",
       "      <td>255</td>\n",
       "      <td>False</td>\n",
       "      <td>698.0</td>\n",
       "      <td>Upper_25%</td>\n",
       "      <td>Upper_25%</td>\n",
       "      <td>Upper_25%</td>\n",
       "    </tr>\n",
       "    <tr>\n",
       "      <td>256</td>\n",
       "      <td>False</td>\n",
       "      <td>401.0</td>\n",
       "      <td>Upper_25%</td>\n",
       "      <td>Upper_25%</td>\n",
       "      <td>Middle_50%</td>\n",
       "    </tr>\n",
       "    <tr>\n",
       "      <td>257</td>\n",
       "      <td>False</td>\n",
       "      <td>774.0</td>\n",
       "      <td>Upper_25%</td>\n",
       "      <td>Upper_25%</td>\n",
       "      <td>Middle_50%</td>\n",
       "    </tr>\n",
       "    <tr>\n",
       "      <td>258</td>\n",
       "      <td>False</td>\n",
       "      <td>199.0</td>\n",
       "      <td>Middle_50%</td>\n",
       "      <td>Middle_50%</td>\n",
       "      <td>Upper_25%</td>\n",
       "    </tr>\n",
       "    <tr>\n",
       "      <td>259</td>\n",
       "      <td>False</td>\n",
       "      <td>687.0</td>\n",
       "      <td>Middle_50%</td>\n",
       "      <td>Middle_50%</td>\n",
       "      <td>Upper_25%</td>\n",
       "    </tr>\n",
       "  </tbody>\n",
       "</table>\n",
       "<p>260 rows × 5 columns</p>\n",
       "</div>"
      ],
      "text/plain": [
       "     Vital Status  Path Diag to Last Contact(Day) GBP2_proteomics  \\\n",
       "0           False                           494.0       Lower_25%   \n",
       "1           False                           717.0       Lower_25%   \n",
       "2           False                           737.0       Lower_25%   \n",
       "3           False                           494.0       Upper_25%   \n",
       "4           False                           717.0       Upper_25%   \n",
       "..            ...                             ...             ...   \n",
       "255         False                           698.0       Upper_25%   \n",
       "256         False                           401.0       Upper_25%   \n",
       "257         False                           774.0       Upper_25%   \n",
       "258         False                           199.0      Middle_50%   \n",
       "259         False                           687.0      Middle_50%   \n",
       "\n",
       "    GBP5_proteomics RAC2_proteomics  \n",
       "0         Upper_25%      Middle_50%  \n",
       "1         Upper_25%      Middle_50%  \n",
       "2         Upper_25%      Middle_50%  \n",
       "3        Middle_50%      Middle_50%  \n",
       "4        Middle_50%      Middle_50%  \n",
       "..              ...             ...  \n",
       "255       Upper_25%       Upper_25%  \n",
       "256       Upper_25%      Middle_50%  \n",
       "257       Upper_25%      Middle_50%  \n",
       "258      Middle_50%       Upper_25%  \n",
       "259      Middle_50%       Upper_25%  \n",
       "\n",
       "[260 rows x 5 columns]"
      ]
     },
     "execution_count": 70,
     "metadata": {},
     "output_type": "execute_result"
    }
   ],
   "source": [
    "focus_genes_clean"
   ]
  },
  {
   "cell_type": "code",
   "execution_count": 71,
   "metadata": {},
   "outputs": [
    {
     "name": "stdout",
     "output_type": "stream",
     "text": [
      "GBP2\n",
      "Ttest_indResult(statistic=-0.7342137813069052, pvalue=0.4634851888023338) \n",
      "\n",
      "GBP5\n",
      "Ttest_indResult(statistic=1.3397755485601481, pvalue=0.1814971903531838) \n",
      "\n",
      "RAC2\n",
      "Ttest_indResult(statistic=-0.09308078909211497, pvalue=0.9259116184422335) \n",
      "\n"
     ]
    }
   ],
   "source": [
    "#T-tests to compare gene expression levels between living and deceased\n",
    "omics_genes = ['GBP2', 'GBP5', 'RAC2']\n",
    "living = df_genes[df_genes[\"Vital Status\"] == 'Living']\n",
    "dead = df_genes[df_genes[\"Vital Status\"] == 'Deceased']\n",
    "#living\n",
    "for gene in omics_genes:\n",
    "    print(gene)\n",
    "    gene += \"_proteomics\"\n",
    "    print(scipy.stats.ttest_ind(living[gene], dead[gene]), '\\n')"
   ]
  },
  {
   "cell_type": "code",
   "execution_count": 72,
   "metadata": {
    "collapsed": true
   },
   "outputs": [],
   "source": [
    "#Make a Kaplan Meier Plot here.  Look at the Ovarian code"
   ]
  },
  {
   "cell_type": "code",
   "execution_count": 73,
   "metadata": {
    "collapsed": true
   },
   "outputs": [],
   "source": [
    "test = focus_genes_clean.copy().dropna()"
   ]
  },
  {
   "cell_type": "code",
   "execution_count": 74,
   "metadata": {},
   "outputs": [
    {
     "name": "stderr",
     "output_type": "stream",
     "text": [
      "C:\\Users\\Daniel\\AppData\\Local\\conda\\conda\\envs\\Research\\lib\\site-packages\\ipykernel_launcher.py:10: MatplotlibDeprecationWarning: Adding an axes using the same arguments as a previous axes currently reuses the earlier instance.  In a future version, a new instance will always be created and returned.  Meanwhile, this warning can be suppressed, and the future behavior ensured, by passing a unique label to each axes instance.\n",
      "  # Remove the CWD from sys.path while we load stuff.\n"
     ]
    },
    {
     "data": {
      "image/png": "[encoded data removed]",
      "text/plain": [
       "<Figure size 432x288 with 1 Axes>"
      ]
     },
     "metadata": {},
     "output_type": "display_data"
    }
   ],
   "source": [
    "for value in test['GBP2_proteomics'].unique():\n",
    "    mask = test['GBP2_proteomics'] == value\n",
    "    time_cell, survival_prob_cell = kaplan_meier_estimator(test[\"Vital Status\"][mask],\n",
    "                                                           test[\"Path Diag to Last Contact(Day)\"][mask])\n",
    "    plt.step(time_cell, survival_prob_cell, where=\"post\",\n",
    "             label=\"%s (n = %d)\" % (value, mask.sum()))\n",
    "\n",
    "plt.ylabel(\"est. probability of survival $\\hat{S}(t)$\")\n",
    "plt.xlabel(\"time $t$\")\n",
    "ax = plt.subplot(111)\n",
    "ax.legend(loc='upper center', bbox_to_anchor=(1.35, 1), shadow=True, ncol=1)\n",
    "plt.title('Survival Risk: GBP2 Expression')\n",
    "plt.show()"
   ]
  },
  {
   "cell_type": "code",
   "execution_count": 75,
   "metadata": {},
   "outputs": [
    {
     "name": "stderr",
     "output_type": "stream",
     "text": [
      "C:\\Users\\Daniel\\AppData\\Local\\conda\\conda\\envs\\Research\\lib\\site-packages\\ipykernel_launcher.py:10: MatplotlibDeprecationWarning: Adding an axes using the same arguments as a previous axes currently reuses the earlier instance.  In a future version, a new instance will always be created and returned.  Meanwhile, this warning can be suppressed, and the future behavior ensured, by passing a unique label to each axes instance.\n",
      "  # Remove the CWD from sys.path while we load stuff.\n"
     ]
    },
    {
     "data": {
      "image/png": "[encoded data removed]",
      "text/plain": [
       "<Figure size 432x288 with 1 Axes>"
      ]
     },
     "metadata": {},
     "output_type": "display_data"
    }
   ],
   "source": [
    "for value in test['GBP5_proteomics'].unique():\n",
    "    mask = test['GBP5_proteomics'] == value\n",
    "    time_cell, survival_prob_cell = kaplan_meier_estimator(test[\"Vital Status\"][mask],\n",
    "                                                           test[\"Path Diag to Last Contact(Day)\"][mask])\n",
    "    plt.step(time_cell, survival_prob_cell, where=\"post\",\n",
    "             label=\"%s (n = %d)\" % (value, mask.sum()))\n",
    "\n",
    "plt.ylabel(\"est. probability of survival $\\hat{S}(t)$\")\n",
    "plt.xlabel(\"time $t$\")\n",
    "ax = plt.subplot(111)\n",
    "ax.legend(loc='upper center', bbox_to_anchor=(1.35, 1), shadow=True, ncol=1)\n",
    "plt.title('Survival Risk: GBP5 Expression')\n",
    "plt.show()"
   ]
  },
  {
   "cell_type": "code",
   "execution_count": 76,
   "metadata": {},
   "outputs": [
    {
     "name": "stderr",
     "output_type": "stream",
     "text": [
      "C:\\Users\\Daniel\\AppData\\Local\\conda\\conda\\envs\\Research\\lib\\site-packages\\ipykernel_launcher.py:10: MatplotlibDeprecationWarning: Adding an axes using the same arguments as a previous axes currently reuses the earlier instance.  In a future version, a new instance will always be created and returned.  Meanwhile, this warning can be suppressed, and the future behavior ensured, by passing a unique label to each axes instance.\n",
      "  # Remove the CWD from sys.path while we load stuff.\n"
     ]
    },
    {
     "data": {
      "image/png": "[encoded data removed]",
      "text/plain": [
       "<Figure size 432x288 with 1 Axes>"
      ]
     },
     "metadata": {},
     "output_type": "display_data"
    }
   ],
   "source": [
    "for value in test['RAC2_proteomics'].unique():\n",
    "    mask = test['RAC2_proteomics'] == value\n",
    "    time_cell, survival_prob_cell = kaplan_meier_estimator(test[\"Vital Status\"][mask],\n",
    "                                                           test[\"Path Diag to Last Contact(Day)\"][mask])\n",
    "    plt.step(time_cell, survival_prob_cell, where=\"post\",\n",
    "             label=\"%s (n = %d)\" % (value, mask.sum()))\n",
    "\n",
    "plt.ylabel(\"est. probability of survival $\\hat{S}(t)$\")\n",
    "plt.xlabel(\"time $t$\")\n",
    "ax = plt.subplot(111)\n",
    "ax.legend(loc='upper center', bbox_to_anchor=(1.35, 1), shadow=True, ncol=1)\n",
    "plt.title('Survival Risk: RAC2 Expression')\n",
    "plt.show()"
   ]
  },
  {
   "cell_type": "code",
   "execution_count": null,
   "metadata": {
    "collapsed": true
   },
   "outputs": [],
   "source": []
  }
 ],
 "metadata": {
  "kernelspec": {
   "display_name": "Python 3",
   "language": "python",
   "name": "python3"
  },
  "language_info": {
   "codemirror_mode": {
    "name": "ipython",
    "version": 3
   },
   "file_extension": ".py",
   "mimetype": "text/x-python",
   "name": "python",
   "nbconvert_exporter": "python",
   "pygments_lexer": "ipython3",
   "version": "3.6.2"
  }
 },
 "nbformat": 4,
 "nbformat_minor": 2
}
