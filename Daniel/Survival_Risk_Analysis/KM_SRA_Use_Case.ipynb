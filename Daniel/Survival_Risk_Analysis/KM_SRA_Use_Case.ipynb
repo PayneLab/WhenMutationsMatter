{
 "cells": [
  {
   "cell_type": "markdown",
   "metadata": {},
   "source": [
    "# Survival Analysis of Endometrial Cancer: Tumor Pathological Stage"
   ]
  },
  {
   "cell_type": "markdown",
   "metadata": {},
   "source": [
    "Through modern statistical methods, we can determine survival risk based on a variety of factors.  In this tutorial, we will walk through a small example of something you could do with our data to understand what factors relate with survival in various different types of cancer.  In this use case, we will be looking at Endometrial Cancer"
   ]
  },
  {
   "cell_type": "markdown",
   "metadata": {},
   "source": [
    "## Step 1: Import Data and Dependencies"
   ]
  },
  {
   "cell_type": "code",
   "execution_count": 1,
   "metadata": {
    "collapsed": true
   },
   "outputs": [],
   "source": [
    "import pandas as pd\n",
    "import cptac\n",
    "import numpy as np\n",
    "import sksurv\n",
    "import matplotlib.pyplot as plt\n",
    "import seaborn as sns\n",
    "from sksurv.nonparametric import kaplan_meier_estimator\n",
    "import scipy\n",
    "from sksurv.preprocessing import OneHotEncoder\n",
    "from sksurv.linear_model import CoxPHSurvivalAnalysis"
   ]
  },
  {
   "cell_type": "code",
   "execution_count": 2,
   "metadata": {},
   "outputs": [
    {
     "name": "stdout",
     "output_type": "stream",
     "text": [
      "                                    \r"
     ]
    }
   ],
   "source": [
    "en = cptac.Endometrial()\n",
    "clinical = en.get_clinical()\n",
    "proteomics = en.get_proteomics()\n",
    "follow_up = pd.read_excel('../Follow_Up_Data/UCEC_followup_9_12.xlsx')"
   ]
  },
  {
   "cell_type": "markdown",
   "metadata": {},
   "source": [
    "## Step 2: Data Preparation\n",
    "We will be focusing on the discovery cohort of tumors, for which we have follow-up data. We will perform some data cleaning, and then merge the tables together for analysis. While you could study a wide variety of factors related to survival, such as country of origin or number of full pregnancies, we will be focusing on tumor stage and grade."
   ]
  },
  {
   "cell_type": "code",
   "execution_count": 3,
   "metadata": {
    "collapsed": true
   },
   "outputs": [],
   "source": [
    "#Get just the discovery cohort\n",
    "cohort_filter = follow_up['Cohort'] == \"Disc\"\n",
    "discovery_cohort = follow_up[cohort_filter].copy()\n",
    "other_cohort = follow_up[~cohort_filter]"
   ]
  },
  {
   "cell_type": "code",
   "execution_count": 4,
   "metadata": {
    "collapsed": true
   },
   "outputs": [],
   "source": [
    "#Replace things that mess up the analysis       \n",
    "to_replace = ['Not Reported/ Unknown', 'Reported/ Unknown',\n",
    "              'Not Applicable', 'na', 'unknown', 'Not Performed',\n",
    "              'Unknown tumor status', 'Unknown',\n",
    "              'Unknown Tumor Status', 'Not specified']\n",
    "\n",
    "for col in discovery_cohort.columns:\n",
    "    discovery_cohort[col] = discovery_cohort[col].replace(to_replace, \n",
    "                                                          np.nan)"
   ]
  },
  {
   "cell_type": "code",
   "execution_count": 5,
   "metadata": {
    "collapsed": true
   },
   "outputs": [],
   "source": [
    "#Rename column to merge on, and then merge follow-up with clinical data\n",
    "discovery_cohort = discovery_cohort.rename({'Case ID': 'Patient_ID'}, axis='columns')\n",
    "\n",
    "patient_data = pd.merge(clinical, discovery_cohort, on = 'Patient_ID')"
   ]
  },
  {
   "cell_type": "code",
   "execution_count": 6,
   "metadata": {
    "collapsed": true
   },
   "outputs": [],
   "source": [
    "#Determine columns to focus on, and create a subset to work with\n",
    "columns_to_focus_on = ['Patient_ID', 'Vital Status', \n",
    "                       'Histologic_Grade_FIGO', 'Path Diag to Last Contact(Day)', \n",
    "                       'Path Diag to Death(days)', 'Histologic_type',\n",
    "                       'tumor_Stage-Pathological',\n",
    "                       'Path Diag to new Tumor (days)']\n",
    "\n",
    "focus_group = patient_data[columns_to_focus_on].copy().drop_duplicates()\n",
    "focus_group = focus_group[['Vital Status',\n",
    "                           'Path Diag to Last Contact(Day)',\n",
    "                           'Histologic_Grade_FIGO',\n",
    "                           'tumor_Stage-Pathological']].copy()"
   ]
  },
  {
   "cell_type": "markdown",
   "metadata": {},
   "source": [
    "## Step 2b: Prepare data for Kaplan Meier Plotting and Survival Analysis"
   ]
  },
  {
   "cell_type": "code",
   "execution_count": 7,
   "metadata": {
    "collapsed": true
   },
   "outputs": [],
   "source": [
    "focus_group = focus_group.replace('Living', False)\n",
    "focus_group = focus_group.replace('Deceased', True)\n",
    "focus_group = focus_group.dropna()"
   ]
  },
  {
   "cell_type": "markdown",
   "metadata": {},
   "source": [
    "For Kaplan Meier plots, your data needs to be in a format similar to that shown below.  Particularly, it needs a boolean column for the 'event' you are interested in (in this case, vital status), where True denotes the event you are tracking, and False denotes an individual that never had the event of interest occur (in this case, their vital status is 'living').  It also needs a column with a numeric time frame, which we have as 'Path Diag to Last Contact(Day)'.  The other columns contain categorical data that we are testing to find meaningful connections with positive or negative event outcomes."
   ]
  },
  {
   "cell_type": "code",
   "execution_count": 8,
   "metadata": {},
   "outputs": [
    {
     "data": {
      "text/html": [
       "<div>\n",
       "<style scoped>\n",
       "    .dataframe tbody tr th:only-of-type {\n",
       "        vertical-align: middle;\n",
       "    }\n",
       "\n",
       "    .dataframe tbody tr th {\n",
       "        vertical-align: top;\n",
       "    }\n",
       "\n",
       "    .dataframe thead th {\n",
       "        text-align: right;\n",
       "    }\n",
       "</style>\n",
       "<table border=\"1\" class=\"dataframe\">\n",
       "  <thead>\n",
       "    <tr style=\"text-align: right;\">\n",
       "      <th></th>\n",
       "      <th>Vital Status</th>\n",
       "      <th>Path Diag to Last Contact(Day)</th>\n",
       "      <th>Histologic_Grade_FIGO</th>\n",
       "      <th>tumor_Stage-Pathological</th>\n",
       "    </tr>\n",
       "  </thead>\n",
       "  <tbody>\n",
       "    <tr>\n",
       "      <td>0</td>\n",
       "      <td>False</td>\n",
       "      <td>494.0</td>\n",
       "      <td>FIGO grade 1</td>\n",
       "      <td>Stage I</td>\n",
       "    </tr>\n",
       "    <tr>\n",
       "      <td>1</td>\n",
       "      <td>False</td>\n",
       "      <td>717.0</td>\n",
       "      <td>FIGO grade 1</td>\n",
       "      <td>Stage I</td>\n",
       "    </tr>\n",
       "    <tr>\n",
       "      <td>2</td>\n",
       "      <td>False</td>\n",
       "      <td>737.0</td>\n",
       "      <td>FIGO grade 1</td>\n",
       "      <td>Stage I</td>\n",
       "    </tr>\n",
       "    <tr>\n",
       "      <td>6</td>\n",
       "      <td>False</td>\n",
       "      <td>440.0</td>\n",
       "      <td>FIGO grade 1</td>\n",
       "      <td>Stage IV</td>\n",
       "    </tr>\n",
       "    <tr>\n",
       "      <td>7</td>\n",
       "      <td>False</td>\n",
       "      <td>624.0</td>\n",
       "      <td>FIGO grade 1</td>\n",
       "      <td>Stage IV</td>\n",
       "    </tr>\n",
       "  </tbody>\n",
       "</table>\n",
       "</div>"
      ],
      "text/plain": [
       "   Vital Status  Path Diag to Last Contact(Day) Histologic_Grade_FIGO  \\\n",
       "0         False                           494.0          FIGO grade 1   \n",
       "1         False                           717.0          FIGO grade 1   \n",
       "2         False                           737.0          FIGO grade 1   \n",
       "6         False                           440.0          FIGO grade 1   \n",
       "7         False                           624.0          FIGO grade 1   \n",
       "\n",
       "  tumor_Stage-Pathological  \n",
       "0                  Stage I  \n",
       "1                  Stage I  \n",
       "2                  Stage I  \n",
       "6                 Stage IV  \n",
       "7                 Stage IV  "
      ]
     },
     "execution_count": 8,
     "metadata": {},
     "output_type": "execute_result"
    }
   ],
   "source": [
    "focus_group.head()"
   ]
  },
  {
   "cell_type": "code",
   "execution_count": 9,
   "metadata": {
    "collapsed": true
   },
   "outputs": [],
   "source": [
    "def plotKaplanMeier(df, col_of_interest, vital_status_col, \n",
    "                    time_col, title, save_plot=False, file_name=\"\"):\n",
    "    '''\n",
    "    Input Parameters:\n",
    "    \n",
    "    df: pandas.DataFrame\n",
    "    The DataFrame of interest that contains information on clinical, molecular,\n",
    "    or mutation attributes, as well as columns indicating vital status, and a \n",
    "    time frame until last contact and/or death.\n",
    "    \n",
    "    col_of_interest: pd.Series\n",
    "    This is a column within \"df\" that you would like to track for \n",
    "    probability of survival.\n",
    "    \n",
    "    vital_status_col: pd.Series\n",
    "    This is a column within the \"df\" that indicates the vital status of \n",
    "    each patient. It is important that the value that represents a \"Living\"\n",
    "    vital status be replaced with the boolean value False, and \"Deceased\" be\n",
    "    replaced with the boolean value True before calling this function.  If\n",
    "    other events of interest are being tested, when the event of interest is\n",
    "    true for a patient, it should be replaced with the boolean True; otherwise\n",
    "    it should be replaced with False.\n",
    "    \n",
    "    time_col: pd.Series\n",
    "    This is a column within \"df\" that indicates the time, most likely in days,\n",
    "    until either the event of interest occurs, or until last contact.  This\n",
    "    should be a numeric column (either integer or float).\n",
    "    \n",
    "    title: string\n",
    "    This is the title of the plot\n",
    "    \n",
    "    save_plot=False: boolean\n",
    "    If this parameter is set to True, the plot will be saved with the value given\n",
    "    by the next parameter, \"file_name\".\n",
    "    \n",
    "    file_name: string\n",
    "    This parameter will name the saved image of the Kaplan Meier plot of interest.\n",
    "    The default format for this image is \"png\".\n",
    "    '''\n",
    "    for value in df[col_of_interest].unique():\n",
    "        mask = df[col_of_interest] == value\n",
    "        time_cell, survival_prob_cell = kaplan_meier_estimator(df[vital_status_col][mask],\n",
    "                                                               df[time_col][mask])\n",
    "        plt.step(time_cell, survival_prob_cell, where=\"post\",\n",
    "                 label=\"%s (n = %d)\" % (value, mask.sum()))\n",
    "\n",
    "    plt.ylabel(\"est. probability of survival $\\hat{S}(t)$\")\n",
    "    plt.xlabel(\"time $t$\")\n",
    "    plt.legend(loc=\"best\")\n",
    "    plt.title(title)\n",
    "    plt.show()\n",
    "    if save_plot:\n",
    "        plt.savefig(file_name+\".png\")\n",
    "        plt.close()"
   ]
  },
  {
   "cell_type": "markdown",
   "metadata": {},
   "source": [
    "Kaplan Meier plots show us the probability of some event occuring over a given length of time, based on some attribute.  Oftentimes, they are used to plot the probability of death for different attributes, however they could also be used in a variety of other contexts.  Below are a few examples of Kaplan Meier Plots in regards to Histologic Grade, and Tumor Stage of patients with Endometrial Cancer:"
   ]
  },
  {
   "cell_type": "code",
   "execution_count": 10,
   "metadata": {},
   "outputs": [
    {
     "data": {
      "image/png": "[encoded data removed]",
      "text/plain": [
       "<Figure size 432x288 with 1 Axes>"
      ]
     },
     "metadata": {},
     "output_type": "display_data"
    }
   ],
   "source": [
    "plotKaplanMeier(df = focus_group, \n",
    "                col_of_interest = \"Histologic_Grade_FIGO\", \n",
    "                vital_status_col = \"Vital Status\", \n",
    "                time_col = \"Path Diag to Last Contact(Day)\", \n",
    "                title = \"Survival Risk by Histologic Grade: Endometrial Cancer\", \n",
    "                save_plot=True, file_name=\"KMPlotTest1\")"
   ]
  },
  {
   "cell_type": "code",
   "execution_count": 11,
   "metadata": {},
   "outputs": [
    {
     "data": {
      "image/png": "[encoded data removed]",
      "text/plain": [
       "<Figure size 432x288 with 1 Axes>"
      ]
     },
     "metadata": {},
     "output_type": "display_data"
    }
   ],
   "source": [
    "plotKaplanMeier(df = focus_group, \n",
    "                col_of_interest = \"tumor_Stage-Pathological\", \n",
    "                vital_status_col = \"Vital Status\", \n",
    "                time_col = \"Path Diag to Last Contact(Day)\", \n",
    "                title = \"Survival Risk by Tumor Stage: Endometrial Cancer\", \n",
    "                save_plot=True, file_name=\"KMPlotTest2\")"
   ]
  },
  {
   "cell_type": "markdown",
   "metadata": {},
   "source": [
    "## Step 3: Separate the data for pre-processing, and to prepare for Cox Proportional Hazard Test\n",
    "Cox Proportional Hazard Test is a statistical test used to interpret the significance of Kaplan Meier plots, and potential connections between attributes and an event of interest (in this case, survival).\n",
    "\n",
    "For the test to be performed properly, our data needs to be in a specific format. It requires data about Vital Status and time to event/last contact to be in a structured array, which we have titled 'survival_array' below.  \n",
    "\n",
    "Additionally, the attributes we are interested in studying, which are the tumor stage and histologic grade, need to be separate from this array. We separated this data into a DataFrame we call 'tumor_stage_data' below."
   ]
  },
  {
   "cell_type": "code",
   "execution_count": 12,
   "metadata": {
    "collapsed": true
   },
   "outputs": [],
   "source": [
    "tumor_stage_data = focus_group[[\"tumor_Stage-Pathological\",\n",
    "                                \"Histologic_Grade_FIGO\"]].copy()\n",
    "#tumor_stage_data = pd.DataFrame(focus_group['tumor_Stage-Pathological'].copy())\n",
    "\n",
    "survival_data = focus_group[['Vital Status',\n",
    "                             \"Path Diag to Last Contact(Day)\"]].copy()\n",
    "\n",
    "survival_array = np.zeros(len(survival_data),\n",
    "                          dtype={\"names\":(\"Vital Status\",\n",
    "                                          \"Path Diag to Last Contact(Day)\"),\n",
    "                                 \"formats\":(\"?\", \"<f8\")})\n",
    "\n",
    "survival_array['Vital Status'] = survival_data['Vital Status'].values\n",
    "survival_array['Path Diag to Last Contact(Day)'] = survival_data['Path Diag to Last Contact(Day)'].values "
   ]
  },
  {
   "cell_type": "markdown",
   "metadata": {},
   "source": [
    "Sometimes in the conversion, merging, and manipulation of DataFrames, columns' data types get mixed up.  Sci-kit learn requires columns of type \"category\" or \"numeric\" to perform pre-processing, which will create a binary DataFrame ready for performing Cox Proportional Hazard, as well as many other predictive analyses.  Oftentimes, these data types become an \"object\" type, so we will change them to type \"category\"."
   ]
  },
  {
   "cell_type": "code",
   "execution_count": 13,
   "metadata": {
    "collapsed": true
   },
   "outputs": [],
   "source": [
    "for col in tumor_stage_data.columns:\n",
    "    tumor_stage_data[col] = tumor_stage_data[col].astype(\"category\")"
   ]
  },
  {
   "cell_type": "markdown",
   "metadata": {},
   "source": [
    "## Step 4: Perform Cox Proportional Hazard Test"
   ]
  },
  {
   "cell_type": "markdown",
   "metadata": {},
   "source": [
    "In order to perform Cox Proportional Hazard Test, as well as many other Machine Learning and other statistical tests, our data needs to be pre-processed.  This is oftentimes done with Sci-kit Learn's encoder entitled \"OneHotEncoder\".  OneHotEncoder will create a new binary DataFrame of 0 and 1 for all the attributes in the DataFrame you give it, which will now be in the format for the test to be performed."
   ]
  },
  {
   "cell_type": "code",
   "execution_count": 14,
   "metadata": {},
   "outputs": [
    {
     "name": "stdout",
     "output_type": "stream",
     "text": [
      "Stage I      127\n",
      "Stage III     19\n",
      "Stage II      19\n",
      "Stage IV       6\n",
      "Name: tumor_Stage-Pathological, dtype: int64 \n",
      "\n",
      "FIGO grade 1    80\n",
      "FIGO grade 2    76\n",
      "FIGO grade 3    15\n",
      "Name: Histologic_Grade_FIGO, dtype: int64 \n",
      "\n"
     ]
    }
   ],
   "source": [
    "for col in tumor_stage_data.columns:\n",
    "    print(tumor_stage_data[col].value_counts(), '\\n')"
   ]
  },
  {
   "cell_type": "code",
   "execution_count": 15,
   "metadata": {
    "collapsed": true
   },
   "outputs": [],
   "source": [
    "tumor_stage_numeric = OneHotEncoder().fit_transform(tumor_stage_data)\n",
    "test2 = OneHotEncoder().fit_transform(tumor_stage_data[[\"Histologic_Grade_FIGO\", \"tumor_Stage-Pathological\"]])"
   ]
  },
  {
   "cell_type": "code",
   "execution_count": 16,
   "metadata": {},
   "outputs": [
    {
     "data": {
      "text/plain": [
       "Index(['tumor_Stage-Pathological=Stage II',\n",
       "       'tumor_Stage-Pathological=Stage III',\n",
       "       'tumor_Stage-Pathological=Stage IV',\n",
       "       'Histologic_Grade_FIGO=FIGO grade 2',\n",
       "       'Histologic_Grade_FIGO=FIGO grade 3'],\n",
       "      dtype='object')"
      ]
     },
     "execution_count": 16,
     "metadata": {},
     "output_type": "execute_result"
    }
   ],
   "source": [
    "#What happened to stage I and grade 1?\n",
    "tumor_stage_numeric.columns"
   ]
  },
  {
   "cell_type": "code",
   "execution_count": 17,
   "metadata": {},
   "outputs": [
    {
     "data": {
      "text/plain": [
       "Index(['Histologic_Grade_FIGO=FIGO grade 2',\n",
       "       'Histologic_Grade_FIGO=FIGO grade 3',\n",
       "       'tumor_Stage-Pathological=Stage II',\n",
       "       'tumor_Stage-Pathological=Stage III',\n",
       "       'tumor_Stage-Pathological=Stage IV'],\n",
       "      dtype='object')"
      ]
     },
     "execution_count": 17,
     "metadata": {},
     "output_type": "execute_result"
    }
   ],
   "source": [
    "test2.columns"
   ]
  },
  {
   "cell_type": "markdown",
   "metadata": {},
   "source": [
    "Here we will use our estimator of choice, Cox Proportional Hazard, to perform the test."
   ]
  },
  {
   "cell_type": "code",
   "execution_count": 18,
   "metadata": {},
   "outputs": [
    {
     "data": {
      "text/plain": [
       "CoxPHSurvivalAnalysis(alpha=0, n_iter=100, ties='breslow', tol=1e-09, verbose=0)"
      ]
     },
     "execution_count": 18,
     "metadata": {},
     "output_type": "execute_result"
    }
   ],
   "source": [
    "estimator = CoxPHSurvivalAnalysis()\n",
    "estimator.fit(tumor_stage_numeric, survival_array)"
   ]
  },
  {
   "cell_type": "markdown",
   "metadata": {},
   "source": [
    "We can now look at our proportional hazard rations by viewing the following Series, based on the coefficients of the estimator, and the index of the pre-processed data.  These ratios help us know how influential a particular attribute is in relation to survival.  For instance, the ratio of 2.6235030 for Stage III tumors shows us that patients with a Stage III tumor had a 26.2% higher likelihood of death than if they did not have a Stage III tumor."
   ]
  },
  {
   "cell_type": "code",
   "execution_count": 19,
   "metadata": {},
   "outputs": [
    {
     "data": {
      "text/plain": [
       "tumor_Stage-Pathological=Stage II    -20.501921\n",
       "tumor_Stage-Pathological=Stage III     2.623530\n",
       "tumor_Stage-Pathological=Stage IV     25.649083\n",
       "Histologic_Grade_FIGO=FIGO grade 2    43.161388\n",
       "Histologic_Grade_FIGO=FIGO grade 3    22.798626\n",
       "dtype: float64"
      ]
     },
     "execution_count": 19,
     "metadata": {},
     "output_type": "execute_result"
    }
   ],
   "source": [
    "pd.Series(estimator.coef_, index=tumor_stage_numeric.columns)"
   ]
  },
  {
   "cell_type": "markdown",
   "metadata": {},
   "source": [
    "If you are interested in the accuracy of your model for predicting a positive or negative outcome based on your survival_array, you can view the estimator's \"score\" method.  This score is particularly relevant when testing your model against new data, but is still helpful in understanding its standalone accuracy as well."
   ]
  },
  {
   "cell_type": "code",
   "execution_count": 20,
   "metadata": {},
   "outputs": [
    {
     "data": {
      "text/plain": [
       "0.9274509803921569"
      ]
     },
     "execution_count": 20,
     "metadata": {},
     "output_type": "execute_result"
    }
   ],
   "source": [
    "estimator.score(tumor_stage_numeric, survival_array)"
   ]
  },
  {
   "cell_type": "markdown",
   "metadata": {
    "collapsed": true
   },
   "source": [
    "Those are the basics of Survival Analysis on the cancer data we have provided in the cptac package.  This is by no means the only way this could have been done.  There are many other questions we could ask ourselves, and continue to study once we get to this point: \n",
    "\n",
    "How well does our model hold up for new data? What other attributes may be important for survival? What if I want to study the connection between clinical attributes and the likelihood of developing a second tumor during treatment?\n",
    "\n",
    "With the functionality and flexibility of cptac, Sci-kit Survival and Sci-kit Learn, these answers can be explored, and a variety of other research projects could be done.  This use case is intended to be a springboard to help researchers get started in survival analysis, and leverage the cancer data we have to find important connections between clinical or molecular attributes and clinical outcomes."
   ]
  }
 ],
 "metadata": {
  "kernelspec": {
   "display_name": "Python 3",
   "language": "python",
   "name": "python3"
  },
  "language_info": {
   "codemirror_mode": {
    "name": "ipython",
    "version": 3
   },
   "file_extension": ".py",
   "mimetype": "text/x-python",
   "name": "python",
   "nbconvert_exporter": "python",
   "pygments_lexer": "ipython3",
   "version": "3.6.2"
  }
 },
 "nbformat": 4,
 "nbformat_minor": 2
}
