{
 "cells": [
  {
   "cell_type": "markdown",
   "metadata": {},
   "source": [
    "Cell explaining briefly what Survival Analysis is and what our goals are in doing this test"
   ]
  },
  {
   "cell_type": "markdown",
   "metadata": {},
   "source": [
    "## Step 1: Import Data and Dependencies"
   ]
  },
  {
   "cell_type": "code",
   "execution_count": 49,
   "metadata": {
    "collapsed": true
   },
   "outputs": [],
   "source": [
    "import pandas as pd\n",
    "import cptac\n",
    "import numpy as np\n",
    "import sksurv\n",
    "import matplotlib.pyplot as plt\n",
    "import seaborn as sns\n",
    "from sksurv.nonparametric import kaplan_meier_estimator\n",
    "import scipy\n",
    "from sksurv.preprocessing import OneHotEncoder\n",
    "from sksurv.linear_model import CoxPHSurvivalAnalysis"
   ]
  },
  {
   "cell_type": "code",
   "execution_count": 2,
   "metadata": {},
   "outputs": [
    {
     "name": "stdout",
     "output_type": "stream",
     "text": [
      "                                    \r"
     ]
    }
   ],
   "source": [
    "en = cptac.Endometrial()\n",
    "clinical = en.get_clinical()\n",
    "proteomics = en.get_proteomics()"
   ]
  },
  {
   "cell_type": "code",
   "execution_count": 3,
   "metadata": {
    "collapsed": true
   },
   "outputs": [],
   "source": [
    "follow_up = pd.read_excel('../Follow_Up_Data/UCEC_followup_9_12.xlsx')"
   ]
  },
  {
   "cell_type": "markdown",
   "metadata": {},
   "source": [
    "## Step 2: Data Preparation"
   ]
  },
  {
   "cell_type": "code",
   "execution_count": 19,
   "metadata": {
    "collapsed": true
   },
   "outputs": [],
   "source": [
    "#Data Cleaning necessary for the data before it is cleaned by Mathangi\n",
    "\n",
    "#Get just the discovery cohort\n",
    "cohort_filter = follow_up['Cohort'] == \"Disc\"\n",
    "discovery_cohort = follow_up[cohort_filter]\n",
    "other_cohort = follow_up[~cohort_filter]"
   ]
  },
  {
   "cell_type": "code",
   "execution_count": 20,
   "metadata": {
    "collapsed": true
   },
   "outputs": [],
   "source": [
    "#Determine columns to drop and drop them\n",
    "cols_to_drop = ['Tumor code', 'ECOG Score', \n",
    "                'Karnofsky Score', 'Perform Status Scale: Timing', \n",
    "                'Other Perform Scale Timing', \n",
    "                'Specify Other New Tumor Site', 'Tamoxifen']\n",
    "\n",
    "discovery_cohort = discovery_cohort.drop(cols_to_drop, axis=1)"
   ]
  },
  {
   "cell_type": "code",
   "execution_count": 21,
   "metadata": {
    "collapsed": true
   },
   "outputs": [],
   "source": [
    "#Drop other unhelpful columns\n",
    "for col in discovery_cohort.columns:\n",
    "    if len(discovery_cohort[col].value_counts()) <= 1:\n",
    "        discovery_cohort = discovery_cohort.drop(col, axis=1)"
   ]
  },
  {
   "cell_type": "code",
   "execution_count": 22,
   "metadata": {
    "collapsed": true
   },
   "outputs": [],
   "source": [
    "#Replace things that mess up the analysis       \n",
    "things_to_replace = ['Not Reported/ Unknown', 'Reported/ Unknown', \n",
    "                     'Not Applicable', 'na', 'unknown', 'Not Performed', \n",
    "                     'Unknown tumor status', 'Unknown', \n",
    "                     'Unknown Tumor Status', 'Not specified']\n",
    "\n",
    "for col in discovery_cohort.columns:\n",
    "    discovery_cohort[col] = discovery_cohort[col].replace(things_to_replace, np.nan)"
   ]
  },
  {
   "cell_type": "code",
   "execution_count": 23,
   "metadata": {
    "collapsed": true
   },
   "outputs": [],
   "source": [
    "#Rename column to merge on, and then merge follow-up with clinical data\n",
    "discovery_cohort = discovery_cohort.rename({'Case ID': 'Patient_ID'}, axis='columns')\n",
    "\n",
    "patient_data = pd.merge(clinical, discovery_cohort, on = 'Patient_ID')"
   ]
  },
  {
   "cell_type": "code",
   "execution_count": 24,
   "metadata": {
    "collapsed": true
   },
   "outputs": [],
   "source": [
    "#Determine columns to focus on, and create a subset to work with\n",
    "columns_to_focus_on = ['Patient_ID', 'Lost to Follow-up?', 'Vital Status', \n",
    "                       'Histologic_Grade_FIGO', 'Path Diag to Last Contact(Day)', \n",
    "                       'Cause of Death', 'Success of Initial Treatment',\n",
    "                       'Path Diag to Death(days)', 'Follow-up Period',\n",
    "                       'Success of Treatment@ Followup', 'Histologic_type', \n",
    "                       'New Tumor After Initial TRT',\n",
    "                       'tumor_Stage-Pathological',\n",
    "                       'Path Diag to new Tumor (days)', 'BMI']\n",
    "\n",
    "focus_group = patient_data[columns_to_focus_on].copy().drop_duplicates()"
   ]
  },
  {
   "cell_type": "markdown",
   "metadata": {},
   "source": [
    "## Step 2b: Prepare data for Kaplan Meier Plotting and Survival Analysis"
   ]
  },
  {
   "cell_type": "code",
   "execution_count": 25,
   "metadata": {},
   "outputs": [
    {
     "data": {
      "text/plain": [
       "Index(['Patient_ID', 'Lost to Follow-up?', 'Vital Status',\n",
       "       'Histologic_Grade_FIGO', 'Path Diag to Last Contact(Day)',\n",
       "       'Cause of Death', 'Success of Initial Treatment',\n",
       "       'Path Diag to Death(days)', 'Follow-up Period',\n",
       "       'Success of Treatment@ Followup', 'Histologic_type',\n",
       "       'New Tumor After Initial TRT', 'tumor_Stage-Pathological',\n",
       "       'Path Diag to new Tumor (days)', 'BMI'],\n",
       "      dtype='object')"
      ]
     },
     "execution_count": 25,
     "metadata": {},
     "output_type": "execute_result"
    }
   ],
   "source": [
    "focus_group.columns"
   ]
  },
  {
   "cell_type": "code",
   "execution_count": 34,
   "metadata": {
    "collapsed": true
   },
   "outputs": [],
   "source": [
    "focus_group_subset = focus_group[['Vital Status', \n",
    "                                  'Path Diag to Last Contact(Day)', \n",
    "                                  'Histologic_type', \n",
    "                                  'tumor_Stage-Pathological']]\n",
    "focus_group_subset = focus_group_subset.replace('Living', False)\n",
    "focus_group_subset = focus_group_subset.replace('Deceased', True)\n",
    "focus_group_subset = focus_group_subset.dropna()"
   ]
  },
  {
   "cell_type": "code",
   "execution_count": 35,
   "metadata": {},
   "outputs": [
    {
     "data": {
      "text/html": [
       "<div>\n",
       "<style scoped>\n",
       "    .dataframe tbody tr th:only-of-type {\n",
       "        vertical-align: middle;\n",
       "    }\n",
       "\n",
       "    .dataframe tbody tr th {\n",
       "        vertical-align: top;\n",
       "    }\n",
       "\n",
       "    .dataframe thead th {\n",
       "        text-align: right;\n",
       "    }\n",
       "</style>\n",
       "<table border=\"1\" class=\"dataframe\">\n",
       "  <thead>\n",
       "    <tr style=\"text-align: right;\">\n",
       "      <th></th>\n",
       "      <th>Vital Status</th>\n",
       "      <th>Path Diag to Last Contact(Day)</th>\n",
       "      <th>Histologic_type</th>\n",
       "      <th>tumor_Stage-Pathological</th>\n",
       "    </tr>\n",
       "  </thead>\n",
       "  <tbody>\n",
       "    <tr>\n",
       "      <td>0</td>\n",
       "      <td>False</td>\n",
       "      <td>494.0</td>\n",
       "      <td>Endometrioid</td>\n",
       "      <td>Stage I</td>\n",
       "    </tr>\n",
       "    <tr>\n",
       "      <td>1</td>\n",
       "      <td>False</td>\n",
       "      <td>717.0</td>\n",
       "      <td>Endometrioid</td>\n",
       "      <td>Stage I</td>\n",
       "    </tr>\n",
       "    <tr>\n",
       "      <td>2</td>\n",
       "      <td>False</td>\n",
       "      <td>737.0</td>\n",
       "      <td>Endometrioid</td>\n",
       "      <td>Stage I</td>\n",
       "    </tr>\n",
       "    <tr>\n",
       "      <td>6</td>\n",
       "      <td>False</td>\n",
       "      <td>440.0</td>\n",
       "      <td>Endometrioid</td>\n",
       "      <td>Stage IV</td>\n",
       "    </tr>\n",
       "    <tr>\n",
       "      <td>7</td>\n",
       "      <td>False</td>\n",
       "      <td>624.0</td>\n",
       "      <td>Endometrioid</td>\n",
       "      <td>Stage IV</td>\n",
       "    </tr>\n",
       "  </tbody>\n",
       "</table>\n",
       "</div>"
      ],
      "text/plain": [
       "   Vital Status  Path Diag to Last Contact(Day) Histologic_type  \\\n",
       "0         False                           494.0    Endometrioid   \n",
       "1         False                           717.0    Endometrioid   \n",
       "2         False                           737.0    Endometrioid   \n",
       "6         False                           440.0    Endometrioid   \n",
       "7         False                           624.0    Endometrioid   \n",
       "\n",
       "  tumor_Stage-Pathological  \n",
       "0                  Stage I  \n",
       "1                  Stage I  \n",
       "2                  Stage I  \n",
       "6                 Stage IV  \n",
       "7                 Stage IV  "
      ]
     },
     "execution_count": 35,
     "metadata": {},
     "output_type": "execute_result"
    }
   ],
   "source": [
    "focus_group_subset.head()"
   ]
  },
  {
   "cell_type": "code",
   "execution_count": 36,
   "metadata": {},
   "outputs": [
    {
     "data": {
      "image/png": "[encoded data removed]",
      "text/plain": [
       "<Figure size 432x288 with 1 Axes>"
      ]
     },
     "metadata": {},
     "output_type": "display_data"
    }
   ],
   "source": [
    "time, survival_prob = kaplan_meier_estimator(focus_group_subset[\"Vital Status\"], \n",
    "                                             focus_group_subset[\"Path Diag to Last Contact(Day)\"])\n",
    "plt.step(time, survival_prob, where=\"post\")\n",
    "plt.ylabel(\"est. probability of survival $\\hat{S}(t)$\")\n",
    "plt.xlabel(\"time $t$\")\n",
    "plt.title(\"Basic Survival Analysis - Endometrial Cancer\")\n",
    "plt.show()"
   ]
  },
  {
   "cell_type": "code",
   "execution_count": 37,
   "metadata": {},
   "outputs": [
    {
     "data": {
      "image/png": "[encoded data removed]",
      "text/plain": [
       "<Figure size 432x288 with 1 Axes>"
      ]
     },
     "metadata": {},
     "output_type": "display_data"
    }
   ],
   "source": [
    "for value in focus_group_subset[\"tumor_Stage-Pathological\"].unique():\n",
    "    mask = focus_group_subset[\"tumor_Stage-Pathological\"] == value\n",
    "    time_cell, survival_prob_cell = kaplan_meier_estimator(focus_group_subset[\"Vital Status\"][mask],\n",
    "                                                           focus_group_subset[\"Path Diag to Last Contact(Day)\"][mask])\n",
    "    plt.step(time_cell, survival_prob_cell, where=\"post\",\n",
    "             label=\"%s (n = %d)\" % (value, mask.sum()))\n",
    "\n",
    "plt.ylabel(\"est. probability of survival $\\hat{S}(t)$\")\n",
    "plt.xlabel(\"time $t$\")\n",
    "plt.legend(loc=\"best\")\n",
    "plt.title(\"Survival Risk by Tumor Stage: Endometrial Cancer\")\n",
    "plt.show()"
   ]
  },
  {
   "cell_type": "markdown",
   "metadata": {},
   "source": [
    "## Separate the data we are looking at from the vital status and time to last contact, and then create a Structured Array for Vital Status and Time to last contact"
   ]
  },
  {
   "cell_type": "code",
   "execution_count": 40,
   "metadata": {},
   "outputs": [],
   "source": [
    "tumor_stage_data = focus_group_subset[[\"tumor_Stage-Pathological\", \n",
    "                                       \"Histologic_type\"]].copy()\n",
    "survival_data = focus_group_subset[['Vital Status', \n",
    "                                    \"Path Diag to Last Contact(Day)\"]].copy()\n",
    "\n",
    "survival_array = np.zeros(len(survival_data),\n",
    "                          dtype={\"names\":(\"Vital Status\",\n",
    "                                          \"Path Diag to Last Contact(Day)\"),\n",
    "                                 \"formats\":(\"?\", \"<f8\")})\n",
    "\n",
    "survival_array['Vital Status'] = survival_data['Vital Status'].values\n",
    "survival_array['Path Diag to Last Contact(Day)'] = survival_data['Path Diag to Last Contact(Day)'].values "
   ]
  },
  {
   "cell_type": "code",
   "execution_count": 44,
   "metadata": {},
   "outputs": [],
   "source": [
    "for col in tumor_stage_data.columns:\n",
    "    tumor_stage_data[col] = tumor_stage_data[col].astype(\"category\")"
   ]
  },
  {
   "cell_type": "code",
   "execution_count": 45,
   "metadata": {},
   "outputs": [],
   "source": [
    "tumor_stage_numeric = OneHotEncoder().fit_transform(tumor_stage_data)"
   ]
  },
  {
   "cell_type": "markdown",
   "metadata": {},
   "source": [
    "## Step 4: Perform Cox Proportional Hazard Test"
   ]
  },
  {
   "cell_type": "code",
   "execution_count": 47,
   "metadata": {},
   "outputs": [
    {
     "data": {
      "text/plain": [
       "Index(['tumor_Stage-Pathological=Stage II',\n",
       "       'tumor_Stage-Pathological=Stage III',\n",
       "       'tumor_Stage-Pathological=Stage IV', 'Histologic_type=Serous'],\n",
       "      dtype='object')"
      ]
     },
     "execution_count": 47,
     "metadata": {},
     "output_type": "execute_result"
    }
   ],
   "source": [
    "tumor_stage_numeric.columns"
   ]
  },
  {
   "cell_type": "code",
   "execution_count": 50,
   "metadata": {},
   "outputs": [
    {
     "data": {
      "text/plain": [
       "CoxPHSurvivalAnalysis(alpha=0, n_iter=100, ties='breslow', tol=1e-09, verbose=0)"
      ]
     },
     "execution_count": 50,
     "metadata": {},
     "output_type": "execute_result"
    }
   ],
   "source": [
    "estimator = CoxPHSurvivalAnalysis()\n",
    "encoder = OneHotEncoder()\n",
    "estimator.fit(encoder.fit_transform(tumor_stage_numeric), survival_array)\n",
    "estimator.fit(tumor_stage_numeric, survival_array)"
   ]
  },
  {
   "cell_type": "code",
   "execution_count": 51,
   "metadata": {},
   "outputs": [
    {
     "data": {
      "text/plain": [
       "tumor_Stage-Pathological=Stage II    -17.172620\n",
       "tumor_Stage-Pathological=Stage III     2.645658\n",
       "tumor_Stage-Pathological=Stage IV      2.133920\n",
       "Histologic_type=Serous                 0.924873\n",
       "dtype: float64"
      ]
     },
     "execution_count": 51,
     "metadata": {},
     "output_type": "execute_result"
    }
   ],
   "source": [
    "pd.Series(estimator.coef_, index=tumor_stage_numeric.columns)"
   ]
  },
  {
   "cell_type": "code",
   "execution_count": 54,
   "metadata": {},
   "outputs": [
    {
     "data": {
      "text/plain": [
       "0.7997198879551821"
      ]
     },
     "execution_count": 54,
     "metadata": {},
     "output_type": "execute_result"
    }
   ],
   "source": [
    "estimator.score(tumor_stage_numeric, survival_array)"
   ]
  }
 ],
 "metadata": {
  "kernelspec": {
   "display_name": "Python 3",
   "language": "python",
   "name": "python3"
  },
  "language_info": {
   "codemirror_mode": {
    "name": "ipython",
    "version": 3
   },
   "file_extension": ".py",
   "mimetype": "text/x-python",
   "name": "python",
   "nbconvert_exporter": "python",
   "pygments_lexer": "ipython3",
   "version": "3.6.2"
  }
 },
 "nbformat": 4,
 "nbformat_minor": 2
}
