{
 "cells": [
  {
   "cell_type": "markdown",
   "metadata": {},
   "source": [
    "# Survival Analysis of Endometrial Cancer: Tumor Pathological Stage"
   ]
  },
  {
   "cell_type": "markdown",
   "metadata": {},
   "source": [
    "Through modern statistical methods, we can determine survival risk based on a variety of factors.  In this tutorial, we will walk through a small example of something you could do with our data to understand what factors relate with survival in various different types of cancer.  In this use case, we will be looking at Endometrial Cancer"
   ]
  },
  {
   "cell_type": "markdown",
   "metadata": {},
   "source": [
    "## Step 1: Import Data and Dependencies"
   ]
  },
  {
   "cell_type": "code",
   "execution_count": 129,
   "metadata": {
    "collapsed": true
   },
   "outputs": [],
   "source": [
    "import pandas as pd\n",
    "import cptac\n",
    "import numpy as np\n",
    "import sksurv\n",
    "import matplotlib.pyplot as plt\n",
    "import seaborn as sns\n",
    "import scipy\n",
    "import lifelines\n",
    "from lifelines import KaplanMeierFitter\n",
    "from lifelines import CoxPHFitter\n",
    "from lifelines.statistics import proportional_hazard_test\n",
    "%matplotlib inline"
   ]
  },
  {
   "cell_type": "code",
   "execution_count": 130,
   "metadata": {},
   "outputs": [
    {
     "name": "stdout",
     "output_type": "stream",
     "text": [
      "                                    \r"
     ]
    }
   ],
   "source": [
    "en = cptac.Endometrial()\n",
    "clinical = en.get_clinical()\n",
    "proteomics = en.get_proteomics()\n",
    "follow_up = pd.read_excel('../Follow_Up_Data/UCEC_followup_9_12.xlsx')"
   ]
  },
  {
   "cell_type": "markdown",
   "metadata": {},
   "source": [
    "## Step 2: Data Preparation\n",
    "We will be focusing on the discovery cohort of tumors, for which we have follow-up data. We will perform some data cleaning, and then merge the tables together for analysis. While you could study a wide variety of factors related to survival, such as country of origin or number of full pregnancies, we will be focusing on tumor stage and grade."
   ]
  },
  {
   "cell_type": "code",
   "execution_count": 131,
   "metadata": {
    "collapsed": true
   },
   "outputs": [],
   "source": [
    "#Get just the discovery cohort\n",
    "cohort_filter = follow_up['Cohort'] == \"Disc\"\n",
    "discovery_cohort = follow_up[cohort_filter].copy()\n",
    "other_cohort = follow_up[~cohort_filter]"
   ]
  },
  {
   "cell_type": "code",
   "execution_count": 132,
   "metadata": {
    "collapsed": true
   },
   "outputs": [],
   "source": [
    "#Replace things that mess up the analysis       \n",
    "to_replace = ['Not Reported/ Unknown', 'Reported/ Unknown',\n",
    "              'Not Applicable', 'na', 'unknown', 'Not Performed',\n",
    "              'Unknown tumor status', 'Unknown',\n",
    "              'Unknown Tumor Status', 'Not specified']\n",
    "\n",
    "for col in discovery_cohort.columns:\n",
    "    discovery_cohort[col] = discovery_cohort[col].replace(to_replace, \n",
    "                                                          np.nan)"
   ]
  },
  {
   "cell_type": "code",
   "execution_count": 133,
   "metadata": {
    "collapsed": true
   },
   "outputs": [],
   "source": [
    "#Rename column to merge on, and then merge follow-up with clinical data\n",
    "discovery_cohort = discovery_cohort.rename({'Case ID': 'Patient_ID'}, axis='columns')\n",
    "\n",
    "patient_data = pd.merge(clinical, discovery_cohort, on = 'Patient_ID')"
   ]
  },
  {
   "cell_type": "code",
   "execution_count": 134,
   "metadata": {
    "collapsed": true
   },
   "outputs": [],
   "source": [
    "#Determine columns to focus on, and create a subset to work with\n",
    "columns_to_focus_on = ['Patient_ID', 'Vital Status', \n",
    "                       'Histologic_Grade_FIGO', \n",
    "                       'Path Diag to Last Contact(Day)', \n",
    "                       'Path Diag to Death(days)', \n",
    "                       'Histologic_type',\n",
    "                       'tumor_Stage-Pathological',\n",
    "                       'Path Diag to new Tumor (days)', \n",
    "                       'New Tumor After Initial TRT', \n",
    "                       'Success of Initial Treatment', \n",
    "                       'Success of Treatment@ Followup']\n",
    "\n",
    "focus_group = patient_data[columns_to_focus_on].copy().drop_duplicates()"
   ]
  },
  {
   "cell_type": "code",
   "execution_count": 135,
   "metadata": {
    "collapsed": true
   },
   "outputs": [],
   "source": [
    "#Negative outcomes are defined as:\n",
    "#Death, new tumor event, or persistent disease \n",
    "#(going to try this with persistent disease. \n",
    "#not sure if I can find a timeframe with it)\n",
    "\n",
    "#Timeframe will be defined as: (DONE)\n",
    "#if new_tumor: Path Diag to new Tumor (days)\n",
    "#elif death: Path Diag to Death(days)\n",
    "#else: Path Diag to Last Contact(Day)"
   ]
  },
  {
   "cell_type": "code",
   "execution_count": 136,
   "metadata": {},
   "outputs": [],
   "source": [
    "new_tumor = focus_group[\"New Tumor After Initial TRT\"] == \"Yes\"\n",
    "deceased = focus_group[\"Vital Status\"] == \"Deceased\"\n",
    "persistent1 = focus_group[\"Success of Initial Treatment\"] == \"Persistent Disease\"\n",
    "persistent2 = focus_group[\"Success of Treatment@ Followup\"] == \"Persistent Disease\""
   ]
  },
  {
   "cell_type": "code",
   "execution_count": 137,
   "metadata": {
    "collapsed": true
   },
   "outputs": [],
   "source": [
    "new_tumor_patients = focus_group.Patient_ID[new_tumor]\n",
    "deceased_patients = focus_group.Patient_ID[deceased]\n",
    "persist_init = focus_group.Patient_ID[persistent1]\n",
    "persist_fol_up = focus_group.Patient_ID[persistent2]"
   ]
  },
  {
   "cell_type": "code",
   "execution_count": 138,
   "metadata": {
    "collapsed": true
   },
   "outputs": [],
   "source": [
    "neg_outcomes_list = [new_tumor_patients, deceased_patients, \n",
    "                     persist_init, persist_fol_up]"
   ]
  },
  {
   "cell_type": "code",
   "execution_count": 139,
   "metadata": {},
   "outputs": [],
   "source": [
    "neg_outcomes = new_tumor_patients.append(deceased_patients).drop_duplicates()\n",
    "neg_outcomes = neg_outcomes.append(persist_init).drop_duplicates()\n",
    "neg_outcomes = neg_outcomes.append(persist_fol_up).drop_duplicates()"
   ]
  },
  {
   "cell_type": "code",
   "execution_count": 140,
   "metadata": {
    "collapsed": true
   },
   "outputs": [],
   "source": [
    "focus_group['Negative_Outcome'] = neg_outcomes"
   ]
  },
  {
   "cell_type": "code",
   "execution_count": 141,
   "metadata": {
    "collapsed": true
   },
   "outputs": [],
   "source": [
    "focus_group['Negative_Outcome'] = focus_group['Negative_Outcome'].replace(neg_outcomes.values, True)\n",
    "focus_group['Negative_Outcome'] = focus_group['Negative_Outcome'].replace(np.nan, False)"
   ]
  },
  {
   "cell_type": "markdown",
   "metadata": {},
   "source": [
    "## Step 2b: Prepare data for Kaplan Meier Plotting and Survival Analysis"
   ]
  },
  {
   "cell_type": "code",
   "execution_count": 142,
   "metadata": {
    "collapsed": true
   },
   "outputs": [],
   "source": [
    "##Not sure about the -1562, but I'll filter it out for now\n",
    "focus_group = focus_group[focus_group['Path Diag to new Tumor (days)'] != -1562.0]"
   ]
  },
  {
   "cell_type": "code",
   "execution_count": 143,
   "metadata": {},
   "outputs": [],
   "source": [
    "focus_group['Timeframe'] = np.nan"
   ]
  },
  {
   "cell_type": "code",
   "execution_count": 144,
   "metadata": {
    "collapsed": true
   },
   "outputs": [],
   "source": [
    "temp_neg_outcomes = focus_group[focus_group[\"Negative_Outcome\"] == True].copy()"
   ]
  },
  {
   "cell_type": "code",
   "execution_count": 145,
   "metadata": {
    "collapsed": true
   },
   "outputs": [],
   "source": [
    "new_tumor_times = temp_neg_outcomes['Path Diag to new Tumor (days)'][temp_neg_outcomes[\"New Tumor After Initial TRT\"] == \"Yes\"]"
   ]
  },
  {
   "cell_type": "code",
   "execution_count": 146,
   "metadata": {
    "collapsed": true
   },
   "outputs": [],
   "source": [
    "death_times = temp_neg_outcomes['Path Diag to Death(days)'][temp_neg_outcomes[\"Vital Status\"] == \"Deceased\"]"
   ]
  },
  {
   "cell_type": "code",
   "execution_count": 147,
   "metadata": {
    "collapsed": true
   },
   "outputs": [],
   "source": [
    "for i in death_times.index:\n",
    "    if i in new_tumor_times.index:\n",
    "        death_times = death_times.drop([i])"
   ]
  },
  {
   "cell_type": "code",
   "execution_count": 148,
   "metadata": {
    "collapsed": true
   },
   "outputs": [],
   "source": [
    "time_frames = new_tumor_times.append(death_times).drop_duplicates()"
   ]
  },
  {
   "cell_type": "code",
   "execution_count": 149,
   "metadata": {
    "collapsed": true
   },
   "outputs": [],
   "source": [
    "temp_neg_outcomes['Timeframe'] = temp_neg_outcomes['Timeframe'].replace(np.nan, time_frames)"
   ]
  },
  {
   "cell_type": "code",
   "execution_count": 150,
   "metadata": {},
   "outputs": [],
   "source": [
    "focus_group['Timeframe'] = focus_group['Timeframe'].replace(np.nan, time_frames)\n",
    "focus_group['Timeframe'] = focus_group['Timeframe'].replace(np.nan, focus_group['Path Diag to Last Contact(Day)'])"
   ]
  },
  {
   "cell_type": "code",
   "execution_count": 151,
   "metadata": {
    "collapsed": true
   },
   "outputs": [],
   "source": [
    "focus_group = focus_group[[\"Histologic_Grade_FIGO\", \"tumor_Stage-Pathological\", \n",
    "                           \"Negative_Outcome\", \"Timeframe\"]].dropna().copy()"
   ]
  },
  {
   "cell_type": "markdown",
   "metadata": {},
   "source": [
    "For Kaplan Meier plots, your data needs to be in a format similar to that shown below.  Particularly, it needs a boolean column for the 'event' you are interested in (in this case, \"Negative_Outcome\"), where True denotes the event you are tracking, and False denotes an individual that never had the event of interest occur (in this case, their vital status is 'living').  It also needs a column with a numeric time frame, which we have as 'Timeframe'.  The other columns contain categorical data that we are testing to find meaningful connections with positive or negative event outcomes."
   ]
  },
  {
   "cell_type": "code",
   "execution_count": 153,
   "metadata": {
    "collapsed": true
   },
   "outputs": [],
   "source": [
    "time = focus_group['Timeframe'].copy()\n",
    "status = focus_group['Negative_Outcome'].copy()"
   ]
  },
  {
   "cell_type": "markdown",
   "metadata": {},
   "source": [
    "Kaplan Meier plots show us the probability of some event occuring over a given length of time, based on some attribute.  Oftentimes, they are used to plot the probability of death for different attributes, however they could also be used in a variety of other contexts.  Below are a few examples of Kaplan Meier Plots in regards to Histologic Grade, and Tumor Stage of patients with Endometrial Cancer:"
   ]
  },
  {
   "cell_type": "markdown",
   "metadata": {},
   "source": [
    "Here, we show a general Kaplan Meier Plot of survival overall for our cohort"
   ]
  },
  {
   "cell_type": "code",
   "execution_count": 154,
   "metadata": {},
   "outputs": [
    {
     "data": {
      "text/plain": [
       "<matplotlib.axes._subplots.AxesSubplot at 0x2150425d6a0>"
      ]
     },
     "execution_count": 154,
     "metadata": {},
     "output_type": "execute_result"
    },
    {
     "data": {
      "image/png": "[encoded data removed]",
      "text/plain": [
       "<Figure size 432x288 with 1 Axes>"
      ]
     },
     "metadata": {},
     "output_type": "display_data"
    }
   ],
   "source": [
    "kmf = KaplanMeierFitter()\n",
    "kmf.fit(time, event_observed = status)\n",
    "kmf.plot()"
   ]
  },
  {
   "cell_type": "code",
   "execution_count": 155,
   "metadata": {
    "collapsed": true
   },
   "outputs": [],
   "source": [
    "#Prepare columns of interest for survival regression fitting and analysisHowever, with the CoxPHFitter, we can see more in-depth survival plots based on multiple variables, as shown below.\n",
    "figo_map = {\"FIGO grade 1\": 1, \"FIGO grade 2\": 2, \"FIGO grade 3\" : 3}\n",
    "focus_group['Histologic_Grade_FIGO'] = focus_group['Histologic_Grade_FIGO'].map(figo_map)\n",
    "\n",
    "tumor_map = {\"Stage I\" : 1, \"Stage II\" : 2, \"Stage III\" : 3, \"Stage IV\" : 4}\n",
    "focus_group['tumor_Stage-Pathological'] = focus_group['tumor_Stage-Pathological'].map(tumor_map)"
   ]
  },
  {
   "cell_type": "markdown",
   "metadata": {},
   "source": [
    "With the CoxPHFitter, however, we can see more in-depth survival plots based on multiple variables, as shown below."
   ]
  },
  {
   "cell_type": "code",
   "execution_count": 157,
   "metadata": {},
   "outputs": [
    {
     "data": {
      "text/plain": [
       "<matplotlib.axes._subplots.AxesSubplot at 0x21502da1ac8>"
      ]
     },
     "execution_count": 157,
     "metadata": {},
     "output_type": "execute_result"
    },
    {
     "data": {
      "image/png": "[encoded data removed]",
      "text/plain": [
       "<Figure size 432x288 with 1 Axes>"
      ]
     },
     "metadata": {},
     "output_type": "display_data"
    },
    {
     "data": {
      "image/png": "[encoded data removed]",
      "text/plain": [
       "<Figure size 432x288 with 1 Axes>"
      ]
     },
     "metadata": {},
     "output_type": "display_data"
    }
   ],
   "source": [
    "cph = CoxPHFitter()\n",
    "cph.fit(focus_group, duration_col = \"Timeframe\", event_col = \"Negative_Outcome\")\n",
    "cph.plot_covariate_groups('Histologic_Grade_FIGO', [1,2,3], cmap='coolwarm', \n",
    "                          title= \"Endometrial Cancer Survival Risk: Histologic Grade\")\n",
    "cph.plot_covariate_groups('tumor_Stage-Pathological', [1,2,3], cmap='coolwarm', \n",
    "                          title= \"Endometrial Cancer Survival Risk: Tumor Stage\")"
   ]
  },
  {
   "cell_type": "markdown",
   "metadata": {},
   "source": [
    "These plots appear to have very similar functions across the variables, however, Histologic_Grade_FIGO=3 tends to have more negative outcomes than tumor_Stage-Pathological=3.  As shown below with our Survival Regression analysis, Histologic Grade has a lower p-value than Tumor Stage, which is to be expected, since more negative outcomes occurred for patients with Histologic Grade 3 tumors."
   ]
  },
  {
   "cell_type": "code",
   "execution_count": 158,
   "metadata": {},
   "outputs": [
    {
     "name": "stdout",
     "output_type": "stream",
     "text": [
      "<lifelines.CoxPHFitter: fitted with 172 total observations, 160 right-censored observations>\n",
      "      duration col = 'Timeframe'\n",
      "         event col = 'Negative_Outcome'\n",
      "number of observations = 172.0\n",
      "number of events observed = 12.0\n",
      "partial log-likelihood = -48.063\n",
      "  time fit was run = 2019-12-12 23:16:26 UTC\n",
      "             model = untransformed variables\n",
      "\n",
      "\n",
      "---\n",
      "                          coef exp(coef)  se(coef)  coef lower 95%  coef upper 95% exp(coef) lower 95% exp(coef) upper 95%\n",
      "Histologic_Grade_FIGO    1.324     3.760     0.423           0.496           2.153               1.642               8.611\n",
      "tumor_Stage-Pathological 0.685     1.984     0.286           0.124           1.246               1.132               3.476\n",
      "\n",
      "                             z     p  -log2(p)\n",
      "Histologic_Grade_FIGO    3.132 0.002     9.172\n",
      "tumor_Stage-Pathological 2.394 0.017     5.908\n",
      "---\n",
      "Concordance = 0.789\n",
      "Log-likelihood ratio test = 17.053 on 2 df, -log2(p)=12.301\n"
     ]
    }
   ],
   "source": [
    "cph.print_summary(model=\"untransformed variables\", decimals=3)"
   ]
  },
  {
   "cell_type": "markdown",
   "metadata": {},
   "source": [
    "We then can perform a Cox Proportional Hazard test to determine how much more or less risk a patient would have for the event of interest to occur based on the variables that we are looking at, and to determine if these variables explain a statistically significant amount of the negative outcomes (moreso than would be expected by random chance)."
   ]
  },
  {
   "cell_type": "code",
   "execution_count": 159,
   "metadata": {},
   "outputs": [
    {
     "name": "stdout",
     "output_type": "stream",
     "text": [
      "<lifelines.StatisticalResult>\n",
      "         test_name = proportional_hazard_test\n",
      "    time_transform = rank\n",
      " null_distribution = chi squared\n",
      "degrees_of_freedom = 1\n",
      "             model = untransformed variables\n",
      "\n",
      "---\n",
      "                          test_statistic     p  -log2(p)\n",
      "Histologic_Grade_FIGO              0.229 0.632     0.661\n",
      "tumor_Stage-Pathological           0.477 0.490     1.030\n"
     ]
    }
   ],
   "source": [
    "results = proportional_hazard_test(cph, focus_group, time_transform='rank')\n",
    "results.print_summary(decimals=3, model=\"untransformed variables\")"
   ]
  },
  {
   "cell_type": "code",
   "execution_count": 160,
   "metadata": {},
   "outputs": [
    {
     "data": {
      "text/plain": [
       "<matplotlib.axes._subplots.AxesSubplot at 0x21502e2b240>"
      ]
     },
     "execution_count": 160,
     "metadata": {},
     "output_type": "execute_result"
    },
    {
     "data": {
      "image/png": "[encoded data removed]",
      "text/plain": [
       "<Figure size 432x288 with 1 Axes>"
      ]
     },
     "metadata": {},
     "output_type": "display_data"
    }
   ],
   "source": [
    "cph.plot()"
   ]
  }
 ],
 "metadata": {
  "kernelspec": {
   "display_name": "Python 3",
   "language": "python",
   "name": "python3"
  },
  "language_info": {
   "codemirror_mode": {
    "name": "ipython",
    "version": 3
   },
   "file_extension": ".py",
   "mimetype": "text/x-python",
   "name": "python",
   "nbconvert_exporter": "python",
   "pygments_lexer": "ipython3",
   "version": "3.6.2"
  }
 },
 "nbformat": 4,
 "nbformat_minor": 2
}
