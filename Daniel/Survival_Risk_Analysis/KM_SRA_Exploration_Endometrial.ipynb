{
 "cells": [
  {
   "cell_type": "markdown",
   "metadata": {},
   "source": [
    "# Survival Analysis of Endometrial Cancer: Tumor Pathological Stage"
   ]
  },
  {
   "cell_type": "markdown",
   "metadata": {},
   "source": [
    "Through modern statistical methods, we can determine survival risk based on a variety of factors.  In this tutorial, we will walk through a small example of something you could do with our data to understand what factors relate with survival in various different types of cancer.  In this use case, we will be looking at Endometrial Cancer"
   ]
  },
  {
   "cell_type": "markdown",
   "metadata": {},
   "source": [
    "## Step 1: Import Data and Dependencies"
   ]
  },
  {
   "cell_type": "code",
   "execution_count": 1,
   "metadata": {
    "collapsed": true
   },
   "outputs": [],
   "source": [
    "import pandas as pd\n",
    "import cptac\n",
    "import numpy as np\n",
    "import sksurv\n",
    "import matplotlib.pyplot as plt\n",
    "import seaborn as sns\n",
    "import scipy\n",
    "import lifelines\n",
    "from lifelines import KaplanMeierFitter\n",
    "%matplotlib inline"
   ]
  },
  {
   "cell_type": "code",
   "execution_count": 2,
   "metadata": {},
   "outputs": [
    {
     "name": "stdout",
     "output_type": "stream",
     "text": [
      "                                    \r"
     ]
    }
   ],
   "source": [
    "en = cptac.Endometrial()\n",
    "clinical = en.get_clinical()\n",
    "proteomics = en.get_proteomics()\n",
    "follow_up = pd.read_excel('../Follow_Up_Data/UCEC_followup_9_12.xlsx')"
   ]
  },
  {
   "cell_type": "markdown",
   "metadata": {},
   "source": [
    "## Step 2: Data Preparation\n",
    "We will be focusing on the discovery cohort of tumors, for which we have follow-up data. We will perform some data cleaning, and then merge the tables together for analysis. While you could study a wide variety of factors related to survival, such as country of origin or number of full pregnancies, we will be focusing on tumor stage and grade."
   ]
  },
  {
   "cell_type": "code",
   "execution_count": 3,
   "metadata": {
    "collapsed": true
   },
   "outputs": [],
   "source": [
    "#Get just the discovery cohort\n",
    "cohort_filter = follow_up['Cohort'] == \"Disc\"\n",
    "discovery_cohort = follow_up[cohort_filter].copy()\n",
    "other_cohort = follow_up[~cohort_filter]"
   ]
  },
  {
   "cell_type": "code",
   "execution_count": 4,
   "metadata": {
    "collapsed": true
   },
   "outputs": [],
   "source": [
    "#Replace things that mess up the analysis       \n",
    "to_replace = ['Not Reported/ Unknown', 'Reported/ Unknown',\n",
    "              'Not Applicable', 'na', 'unknown', 'Not Performed',\n",
    "              'Unknown tumor status', 'Unknown',\n",
    "              'Unknown Tumor Status', 'Not specified']\n",
    "\n",
    "for col in discovery_cohort.columns:\n",
    "    discovery_cohort[col] = discovery_cohort[col].replace(to_replace, \n",
    "                                                          np.nan)"
   ]
  },
  {
   "cell_type": "code",
   "execution_count": 5,
   "metadata": {
    "collapsed": true
   },
   "outputs": [],
   "source": [
    "#Rename column to merge on, and then merge follow-up with clinical data\n",
    "discovery_cohort = discovery_cohort.rename({'Case ID': 'Patient_ID'}, axis='columns')\n",
    "\n",
    "patient_data = pd.merge(clinical, discovery_cohort, on = 'Patient_ID')"
   ]
  },
  {
   "cell_type": "code",
   "execution_count": 6,
   "metadata": {},
   "outputs": [
    {
     "name": "stdout",
     "output_type": "stream",
     "text": [
      "Patient_ID\n",
      "C3L-00006    6\n",
      "C3L-00563    6\n",
      "C3L-00361    6\n",
      "C3N-00200    4\n",
      "C3N-01346    4\n",
      "            ..\n",
      "C3N-00377    2\n",
      "C3N-01212    2\n",
      "C3L-00942    2\n",
      "C3N-00151    1\n",
      "C3N-00743    1\n",
      "Name: Patient_ID, Length: 95, dtype: int64\n",
      "\n",
      "\n",
      "Proteomics_Tumor_Normal\n",
      "Tumor                200\n",
      "Adjacent_normal       48\n",
      "Myometrium_normal     12\n",
      "Name: Proteomics_Tumor_Normal, dtype: int64\n",
      "\n",
      "\n",
      "Country\n",
      "United States    78\n",
      "Ukraine          63\n",
      "Other_specify    49\n",
      "Poland           10\n",
      "Name: Country, dtype: int64\n",
      "\n",
      "\n",
      "Histologic_Grade_FIGO\n",
      "FIGO grade 1    83\n",
      "FIGO grade 2    77\n",
      "FIGO grade 3    15\n",
      "Name: Histologic_Grade_FIGO, dtype: int64\n",
      "\n",
      "\n",
      "Myometrial_invasion_Specify\n",
      "under 50 %        121\n",
      "50 % or more       58\n",
      "Not identified     21\n",
      "Name: Myometrial_invasion_Specify, dtype: int64\n",
      "\n",
      "\n",
      "Histologic_type\n",
      "Endometrioid    175\n",
      "Serous           25\n",
      "Name: Histologic_type, dtype: int64\n",
      "\n",
      "\n",
      "Treatment_naive\n",
      "YES    200\n",
      "Name: Treatment_naive, dtype: int64\n",
      "\n",
      "\n",
      "Tumor_purity\n",
      "Normal    200\n",
      "Name: Tumor_purity, dtype: int64\n",
      "\n",
      "\n",
      "Path_Stage_Primary_Tumor-pT\n",
      "pT1a (FIGO IA)      122\n",
      "pT1b (FIGO IB)       35\n",
      "pT2 (FIGO II)        21\n",
      "pT3a (FIGO IIIA)     13\n",
      "pT3b (FIGO IIIB)      6\n",
      "pT1 (FIGO I)          3\n",
      "Name: Path_Stage_Primary_Tumor-pT, dtype: int64\n",
      "\n",
      "\n",
      "Path_Stage_Reg_Lymph_Nodes-pN\n",
      "pNX                 93\n",
      "pN0                 93\n",
      "pN1 (FIGO IIIC1)    10\n",
      "pN2 (FIGO IIIC2)     4\n",
      "Name: Path_Stage_Reg_Lymph_Nodes-pN, dtype: int64\n",
      "\n",
      "\n",
      "Clin_Stage_Dist_Mets-cM\n",
      "cM0                   150\n",
      "Staging Incomplete     45\n",
      "cM1                     5\n",
      "Name: Clin_Stage_Dist_Mets-cM, dtype: int64\n",
      "\n",
      "\n",
      "Path_Stage_Dist_Mets-pM\n",
      "Staging Incomplete                              156\n",
      "No pathologic evidence of distant metastasis     39\n",
      "pM1                                               5\n",
      "Name: Path_Stage_Dist_Mets-pM, dtype: int64\n",
      "\n",
      "\n",
      "tumor_Stage-Pathological\n",
      "Stage I      146\n",
      "Stage III     25\n",
      "Stage II      21\n",
      "Stage IV       8\n",
      "Name: tumor_Stage-Pathological, dtype: int64\n",
      "\n",
      "\n",
      "FIGO_stage\n",
      "IA       124\n",
      "IB        29\n",
      "II        17\n",
      "IIIA      11\n",
      "IIIC1      8\n",
      "IVB        5\n",
      "IIIC2      4\n",
      "IIIB       2\n",
      "Name: FIGO_stage, dtype: int64\n",
      "\n",
      "\n",
      "LVSI\n",
      "0.0    139\n",
      "1.0     56\n",
      "Name: LVSI, dtype: int64\n",
      "\n",
      "\n",
      "BMI\n",
      "31.00    8\n",
      "27.00    6\n",
      "35.00    4\n",
      "34.00    4\n",
      "31.96    4\n",
      "        ..\n",
      "22.86    1\n",
      "23.88    1\n",
      "48.46    1\n",
      "31.63    1\n",
      "27.10    1\n",
      "Name: BMI, Length: 87, dtype: int64\n",
      "\n",
      "\n",
      "Age\n",
      "64.0    20\n",
      "59.0    14\n",
      "65.0    14\n",
      "62.0    11\n",
      "75.0     9\n",
      "60.0     9\n",
      "56.0     9\n",
      "50.0     8\n",
      "58.0     7\n",
      "63.0     7\n",
      "69.0     7\n",
      "66.0     6\n",
      "57.0     6\n",
      "73.0     6\n",
      "68.0     6\n",
      "53.0     5\n",
      "71.0     4\n",
      "61.0     4\n",
      "45.0     4\n",
      "67.0     4\n",
      "70.0     4\n",
      "77.0     3\n",
      "86.0     3\n",
      "74.0     3\n",
      "38.0     3\n",
      "78.0     2\n",
      "44.0     2\n",
      "41.0     2\n",
      "83.0     2\n",
      "46.0     2\n",
      "72.0     2\n",
      "90.0     2\n",
      "55.0     2\n",
      "76.0     2\n",
      "48.0     2\n",
      "42.0     2\n",
      "85.0     2\n",
      "Name: Age, dtype: int64\n",
      "\n",
      "\n",
      "Diabetes_x\n",
      "No         140\n",
      "Yes         57\n",
      "Unknown      1\n",
      "Name: Diabetes_x, dtype: int64\n",
      "\n",
      "\n",
      "Race\n",
      "White                        117\n",
      "Black or African American      5\n",
      "Asian                          3\n",
      "Not Reported                   2\n",
      "Name: Race, dtype: int64\n",
      "\n",
      "\n",
      "Ethnicity\n",
      "Not-Hispanic or Latino    91\n",
      "Not reported              30\n",
      "Hispanic or Latino         6\n",
      "Name: Ethnicity, dtype: int64\n",
      "\n",
      "\n",
      "Gender\n",
      "Female    200\n",
      "Name: Gender, dtype: int64\n",
      "\n",
      "\n",
      "Tumor_Site\n",
      "Other, specify           147\n",
      "Anterior endometrium      39\n",
      "Posterior endometrium     14\n",
      "Name: Tumor_Site, dtype: int64\n",
      "\n",
      "\n",
      "Tumor_Site_Other\n",
      "Entire uterine cavity                                                       25\n",
      "Uterine cavity                                                              22\n",
      "Anterior and Posterior endometrium                                          21\n",
      "Both anterior and posterior                                                 13\n",
      "Anterior and Posterior                                                       9\n",
      "Entire Uterine Cavity                                                        6\n",
      "Entire uterine cavity.                                                       6\n",
      "along anterior and posterior surface                                         4\n",
      "Endometrium                                                                  4\n",
      "Both anterior and posterior endometrium                                      4\n",
      "Anterior and posterior endometrium                                           4\n",
      "Anterior and Posterior Endometrium                                           4\n",
      "Anterior  and Posterior endometrium                                          3\n",
      "left cornu                                                                   2\n",
      "anterior and posterior endometrial cavity                                    2\n",
      "Posterior and Anterior Endometrium                                           2\n",
      "both anterior and posterior                                                  2\n",
      "100 PERCENT OF ENDOMETRIAL SURFACE INVOLVED                                  2\n",
      "anterior and posterior                                                       2\n",
      "Bulky tumor involving both anterior and posterior walls                      2\n",
      "Tumor involves 75% of endometrial cavity per diagnostic pathology report     2\n",
      "Tumor occupies 75% of endometrial surface                                    2\n",
      "entire uterine cavity                                                        2\n",
      "Involves fundus, anterior and posterior walls                                1\n",
      "Anterior, posterior and fundus                                               1\n",
      "Name: Tumor_Site_Other, dtype: int64\n",
      "\n",
      "\n",
      "Tumor_Focality\n",
      "Unifocal      123\n",
      "Multifocal     77\n",
      "Name: Tumor_Focality, dtype: int64\n",
      "\n",
      "\n",
      "Tumor_Size_cm\n",
      "4.5     18\n",
      "4.0     16\n",
      "3.0     16\n",
      "3.5     12\n",
      "1.0     12\n",
      "5.0     11\n",
      "2.3      8\n",
      "1.5      8\n",
      "2.7      7\n",
      "6.0      6\n",
      "2.5      6\n",
      "1.3      6\n",
      "2.2      5\n",
      "7.0      5\n",
      "3.2      5\n",
      "1.4      4\n",
      "4.3      4\n",
      "5.5      4\n",
      "2.6      4\n",
      "4.7      3\n",
      "13.5     3\n",
      "5.2      3\n",
      "2.9      3\n",
      "11.0     2\n",
      "3.8      2\n",
      "9.0      2\n",
      "8.5      2\n",
      "6.5      2\n",
      "3.7      2\n",
      "3.9      2\n",
      "1.7      2\n",
      "1.8      2\n",
      "0.9      2\n",
      "4.2      2\n",
      "6.3      2\n",
      "0.8      2\n",
      "1.2      2\n",
      "8.0      2\n",
      "Name: Tumor_Size_cm, dtype: int64\n",
      "\n",
      "\n",
      "Num_full_term_pregnancies\n",
      "2            56\n",
      "1            47\n",
      "4 or more    27\n",
      "Unknown      25\n",
      "None         25\n",
      "3            20\n",
      "Name: Num_full_term_pregnancies, dtype: int64\n",
      "\n",
      "\n",
      "Cohort\n",
      "Disc    260\n",
      "Name: Cohort, dtype: int64\n",
      "\n",
      "\n",
      "Tumor code\n",
      "UCEC    260\n",
      "Name: Tumor code, dtype: int64\n",
      "\n",
      "\n",
      "Follow-up Period\n",
      "12 Months    125\n",
      "24 Months    117\n",
      "36 Months     18\n",
      "Name: Follow-up Period, dtype: int64\n",
      "\n",
      "\n",
      "Lost to Follow-up?\n",
      "No     243\n",
      "Yes     17\n",
      "Name: Lost to Follow-up?, dtype: int64\n",
      "\n",
      "\n",
      "Vital Status\n",
      "Living      251\n",
      "Deceased      9\n",
      "Name: Vital Status, dtype: int64\n",
      "\n",
      "\n",
      "Path Diag to Last Contact(Day)\n",
      "324.0    4\n",
      "370.0    4\n",
      "425.0    4\n",
      "252.0    4\n",
      "353.0    4\n",
      "        ..\n",
      "707.0    1\n",
      "645.0    1\n",
      "679.0    1\n",
      "849.0    1\n",
      "266.0    1\n",
      "Name: Path Diag to Last Contact(Day), Length: 169, dtype: int64\n",
      "\n",
      "\n",
      "Cause of Death\n",
      "disease progression       3\n",
      "Cardiac Arrest            2\n",
      "Uterine Cancer            2\n",
      "Non-oncology condition    1\n",
      "Name: Cause of Death, dtype: int64\n",
      "\n",
      "\n",
      "Path Diag to Death(days)\n",
      "732.0    2\n",
      "204.0    2\n",
      "134.0    2\n",
      "286.0    1\n",
      "422.0    1\n",
      "Name: Path Diag to Death(days), dtype: int64\n",
      "\n",
      "\n",
      "Adj Post-Op Radiation Therapy\n",
      "No     131\n",
      "Yes    126\n",
      "Name: Adj Post-Op Radiation Therapy, dtype: int64\n",
      "\n",
      "\n",
      "Adj Post-Op Pharma Therapy\n",
      "No     208\n",
      "Yes     49\n",
      "Name: Adj Post-Op Pharma Therapy, dtype: int64\n",
      "\n",
      "\n",
      "Adj Post-Op Immunotherapy\n",
      "No     255\n",
      "Yes      1\n",
      "Name: Adj Post-Op Immunotherapy, dtype: int64\n",
      "\n",
      "\n",
      "Tumor Status\n",
      "Tumor Free    220\n",
      "With Tumor     24\n",
      "Name: Tumor Status, dtype: int64\n",
      "\n",
      "\n",
      "Menopausal Hormone Therapy\n",
      "Never             121\n",
      "Former Therapy     10\n",
      "Name: Menopausal Hormone Therapy, dtype: int64\n",
      "\n",
      "\n",
      "Oral Contraceptives\n",
      "Never             109\n",
      "Former Therapy     14\n",
      "Name: Oral Contraceptives, dtype: int64\n",
      "\n",
      "\n",
      "Tamoxifen\n",
      "Never    157\n",
      "Name: Tamoxifen, dtype: int64\n",
      "\n",
      "\n",
      "Hypertension\n",
      "Yes    142\n",
      "No     117\n",
      "Name: Hypertension, dtype: int64\n",
      "\n",
      "\n",
      "Diabetes_y\n",
      "No     178\n",
      "Yes     81\n",
      "Name: Diabetes_y, dtype: int64\n",
      "\n",
      "\n",
      "Num Full Pregnancies\n",
      "2            71\n",
      "1            53\n",
      "None         46\n",
      "4 or more    38\n",
      "3            30\n",
      "Name: Num Full Pregnancies, dtype: int64\n",
      "\n",
      "\n",
      "Colorectal Cancer\n",
      "No     253\n",
      "Yes      4\n",
      "Name: Colorectal Cancer, dtype: int64\n",
      "\n",
      "\n",
      "Success of Initial Treatment\n",
      "Complete Remission    177\n",
      "Persistent Disease     14\n",
      "Name: Success of Initial Treatment, dtype: int64\n",
      "\n",
      "\n",
      "Success of Treatment@ Followup\n",
      "Complete Remission    201\n",
      "Persistent Disease     16\n",
      "Patient Deceased        5\n",
      "Name: Success of Treatment@ Followup, dtype: int64\n",
      "\n",
      "\n",
      "ECOG Score\n",
      "Not Evaluated: Not provided or available                                                                                                                                     173\n",
      "0: Asymptomatic; Fully active, able to carry on all pre-disease performance without restriction                                                                               51\n",
      "1: Symptomatic; Restricted in physically strenuous activity but ambulatory and able to carry out work of a light or sedentary nature, e.g., light house work, office work     16\n",
      "2: Symptomatic; Ambulatory and capable of all selfcare but unable to carry out any work activities; up and about more than 50% of waking hours                                10\n",
      "Unknown: Could not be determined or unsure                                                                                                                                     5\n",
      "3: Symptomatic; Capable of only limited selfcare; confined to bed or chair more than 50% of waking hours                                                                       3\n",
      "4: Completely disabled; cannot carry on any selfcare; totally confined to bed or chair                                                                                         2\n",
      "Name: ECOG Score, dtype: int64\n",
      "\n",
      "\n",
      "Karnofsky Score\n",
      "Not Evaluated: Not provided or available                                             177\n",
      "100: Normal, no complaints; no evidence of disease                                    51\n",
      "70: Cares for self; unable to carry on normal activity or to do active work           11\n",
      "90: Able to carry on normal activity; minor signs or symptoms of disease               8\n",
      "80: Normal activity with effort; some signs or symptoms of disease                     5\n",
      "Unknown: Could not be determined or unsure                                             4\n",
      "60: Requires occasional assistance; but is able to care for most of his/her needs      2\n",
      "0: Dead                                                                                2\n",
      "Name: Karnofsky Score, dtype: int64\n",
      "\n",
      "\n",
      "Perform Status Scale: Timing\n",
      "Not Evaluated: Not provided or available.      172\n",
      "Unknown: Could not be determined or unsure.     66\n",
      "At Follow-up/No Evidence of Disease             11\n",
      "Post-Adjuvant Therapy                            6\n",
      "At Recurrence/Progression of Disease             3\n",
      "Post-Secondary Therapy                           2\n",
      "Name: Perform Status Scale: Timing, dtype: int64\n",
      "\n",
      "\n",
      "Other Perform Scale Timing\n",
      "Series([], Name: Other Perform Scale Timing, dtype: int64)\n",
      "\n",
      "\n",
      "New Tumor After Initial TRT\n",
      "No     228\n",
      "Yes     19\n",
      "Name: New Tumor After Initial TRT, dtype: int64\n",
      "\n",
      "\n",
      "Locoregional Recurrence Tumor\n",
      "1.0    12\n",
      "Name: Locoregional Recurrence Tumor, dtype: int64\n",
      "\n",
      "\n",
      "Distant Metastasis Tumor\n",
      "1.0    3\n",
      "Name: Distant Metastasis Tumor, dtype: int64\n",
      "\n",
      "\n",
      "New Primary Tumor\n",
      "1.0    4\n",
      "Name: New Primary Tumor, dtype: int64\n",
      "\n",
      "\n",
      "New Tumor Site Unknown\n",
      "Series([], Name: New Tumor Site Unknown, dtype: int64)\n",
      "\n",
      "\n",
      "New Tumor Site Lung\n",
      "1.0    4\n",
      "Name: New Tumor Site Lung, dtype: int64\n",
      "\n",
      "\n",
      "New Tumor Site Bone\n",
      "Series([], Name: New Tumor Site Bone, dtype: int64)\n",
      "\n",
      "\n",
      "New Tumor Site Liver\n",
      "1.0    2\n",
      "Name: New Tumor Site Liver, dtype: int64\n",
      "\n",
      "\n",
      "New Tumor Site Brain\n",
      "Series([], Name: New Tumor Site Brain, dtype: int64)\n",
      "\n",
      "\n",
      "New Tumor Site Other\n",
      "1.0    14\n",
      "Name: New Tumor Site Other, dtype: int64\n",
      "\n",
      "\n",
      "Specify Other New Tumor Site\n",
      "peritoneum and mesentery    2\n",
      "Vaginal Vault               2\n",
      "vaginal vault               2\n",
      "Vagina                      2\n",
      "Nasal Sinus                 1\n",
      "vaginal bleeding            1\n",
      "lymph nodes                 1\n",
      "Locoregional recurrence     1\n",
      "left lower abdomen          1\n",
      "Cervix                      1\n",
      "Name: Specify Other New Tumor Site, dtype: int64\n",
      "\n",
      "\n",
      "Path Diag to new Tumor (days)\n",
      " 347.0     4\n",
      " 50.0      3\n",
      " 637.0     2\n",
      " 722.0     2\n",
      " 57.0      2\n",
      " 597.0     1\n",
      " 590.0     1\n",
      "-1562.0    1\n",
      " 404.0     1\n",
      " 656.0     1\n",
      "Name: Path Diag to new Tumor (days), dtype: int64\n",
      "\n",
      "\n",
      "Additional Surgery ?\n",
      "No     15\n",
      "Yes     3\n",
      "Name: Additional Surgery ?, dtype: int64\n",
      "\n",
      "\n",
      "Path Diag to Surgery (days)   \n",
      "61.0     2\n",
      "230.0    1\n",
      "Name: Path Diag to Surgery (days)   , dtype: int64\n",
      "\n",
      "\n",
      "New Tumor Procedure Unknown\n",
      "Series([], Name: New Tumor Procedure Unknown, dtype: int64)\n",
      "\n",
      "\n",
      "New Tumor Excisional biopsy\n",
      "Series([], Name: New Tumor Excisional biopsy, dtype: int64)\n",
      "\n",
      "\n",
      "New Tumor Incisional biopsy\n",
      "Series([], Name: New Tumor Incisional biopsy, dtype: int64)\n",
      "\n",
      "\n",
      "New Tumor Surgical Resection\n",
      "1.0    3\n",
      "Name: New Tumor Surgical Resection, dtype: int64\n",
      "\n",
      "\n",
      "Other New Tumor Procedure\n",
      "Series([], Name: Other New Tumor Procedure, dtype: int64)\n",
      "\n",
      "\n",
      "Specify Other New Tumor Proc\n",
      "Series([], Name: Specify Other New Tumor Proc, dtype: int64)\n",
      "\n",
      "\n",
      "Residual Tumor After Surgery\n",
      "RX    2\n",
      "R0    1\n",
      "Name: Residual Tumor After Surgery, dtype: int64\n",
      "\n",
      "\n",
      "Radiation for New Tumor\n",
      "No     14\n",
      "Yes     4\n",
      "Name: Radiation for New Tumor, dtype: int64\n",
      "\n",
      "\n",
      "Pharmaceutical for New Tumor\n",
      "Yes    10\n",
      "No      8\n",
      "Name: Pharmaceutical for New Tumor, dtype: int64\n",
      "\n",
      "\n",
      "Immunological for New Tumor\n",
      "No     17\n",
      "Yes     1\n",
      "Name: Immunological for New Tumor, dtype: int64\n",
      "\n",
      "\n"
     ]
    }
   ],
   "source": [
    "for col in patient_data.columns:\n",
    "    print(col)\n",
    "    print(patient_data[col].value_counts())\n",
    "    print('\\n')"
   ]
  },
  {
   "cell_type": "code",
   "execution_count": 25,
   "metadata": {},
   "outputs": [],
   "source": [
    "#Determine columns to focus on, and create a subset to work with\n",
    "columns_to_focus_on = ['Patient_ID', 'Vital Status', \n",
    "                       'Histologic_Grade_FIGO', 'Path Diag to Last Contact(Day)', \n",
    "                       'Path Diag to Death(days)', 'Histologic_type',\n",
    "                       'tumor_Stage-Pathological',\n",
    "                       'Path Diag to new Tumor (days)', \n",
    "                       'New Tumor After Initial TRT']\n",
    "\n",
    "focus_group = patient_data[columns_to_focus_on].copy().drop_duplicates()\n",
    "focus_group = focus_group[['New Tumor After Initial TRT',\n",
    "                           'Path Diag to new Tumor (days)',\n",
    "                           'Histologic_Grade_FIGO',\n",
    "                           'tumor_Stage-Pathological']].copy()"
   ]
  },
  {
   "cell_type": "markdown",
   "metadata": {},
   "source": [
    "## Step 2b: Prepare data for Kaplan Meier Plotting and Survival Analysis"
   ]
  },
  {
   "cell_type": "code",
   "execution_count": 22,
   "metadata": {
    "collapsed": true
   },
   "outputs": [],
   "source": [
    "focus_group = focus_group.replace('No', 0)\n",
    "focus_group = focus_group.replace('Yes', 1)\n",
    "#focus_group = focus_group.dropna()"
   ]
  },
  {
   "cell_type": "code",
   "execution_count": 23,
   "metadata": {},
   "outputs": [],
   "source": [
    "##Not sure about the -1562, but I'll filter it out for now\n",
    "focus_group = focus_group[focus_group['Path Diag to new Tumor (days)'] != -1562.0]"
   ]
  },
  {
   "cell_type": "code",
   "execution_count": 26,
   "metadata": {},
   "outputs": [
    {
     "data": {
      "text/html": [
       "<div>\n",
       "<style scoped>\n",
       "    .dataframe tbody tr th:only-of-type {\n",
       "        vertical-align: middle;\n",
       "    }\n",
       "\n",
       "    .dataframe tbody tr th {\n",
       "        vertical-align: top;\n",
       "    }\n",
       "\n",
       "    .dataframe thead th {\n",
       "        text-align: right;\n",
       "    }\n",
       "</style>\n",
       "<table border=\"1\" class=\"dataframe\">\n",
       "  <thead>\n",
       "    <tr style=\"text-align: right;\">\n",
       "      <th></th>\n",
       "      <th>New Tumor After Initial TRT</th>\n",
       "      <th>Path Diag to new Tumor (days)</th>\n",
       "      <th>Histologic_Grade_FIGO</th>\n",
       "      <th>tumor_Stage-Pathological</th>\n",
       "    </tr>\n",
       "  </thead>\n",
       "  <tbody>\n",
       "    <tr>\n",
       "      <td>0</td>\n",
       "      <td>No</td>\n",
       "      <td>NaN</td>\n",
       "      <td>FIGO grade 1</td>\n",
       "      <td>Stage I</td>\n",
       "    </tr>\n",
       "    <tr>\n",
       "      <td>1</td>\n",
       "      <td>No</td>\n",
       "      <td>NaN</td>\n",
       "      <td>FIGO grade 1</td>\n",
       "      <td>Stage I</td>\n",
       "    </tr>\n",
       "    <tr>\n",
       "      <td>2</td>\n",
       "      <td>No</td>\n",
       "      <td>NaN</td>\n",
       "      <td>FIGO grade 1</td>\n",
       "      <td>Stage I</td>\n",
       "    </tr>\n",
       "    <tr>\n",
       "      <td>3</td>\n",
       "      <td>No</td>\n",
       "      <td>NaN</td>\n",
       "      <td>NaN</td>\n",
       "      <td>NaN</td>\n",
       "    </tr>\n",
       "    <tr>\n",
       "      <td>4</td>\n",
       "      <td>No</td>\n",
       "      <td>NaN</td>\n",
       "      <td>NaN</td>\n",
       "      <td>NaN</td>\n",
       "    </tr>\n",
       "    <tr>\n",
       "      <td>...</td>\n",
       "      <td>...</td>\n",
       "      <td>...</td>\n",
       "      <td>...</td>\n",
       "      <td>...</td>\n",
       "    </tr>\n",
       "    <tr>\n",
       "      <td>255</td>\n",
       "      <td>Yes</td>\n",
       "      <td>57.0</td>\n",
       "      <td>FIGO grade 2</td>\n",
       "      <td>Stage II</td>\n",
       "    </tr>\n",
       "    <tr>\n",
       "      <td>256</td>\n",
       "      <td>No</td>\n",
       "      <td>NaN</td>\n",
       "      <td>NaN</td>\n",
       "      <td>Stage II</td>\n",
       "    </tr>\n",
       "    <tr>\n",
       "      <td>257</td>\n",
       "      <td>Yes</td>\n",
       "      <td>597.0</td>\n",
       "      <td>NaN</td>\n",
       "      <td>Stage II</td>\n",
       "    </tr>\n",
       "    <tr>\n",
       "      <td>258</td>\n",
       "      <td>No</td>\n",
       "      <td>NaN</td>\n",
       "      <td>NaN</td>\n",
       "      <td>Stage I</td>\n",
       "    </tr>\n",
       "    <tr>\n",
       "      <td>259</td>\n",
       "      <td>No</td>\n",
       "      <td>NaN</td>\n",
       "      <td>NaN</td>\n",
       "      <td>Stage I</td>\n",
       "    </tr>\n",
       "  </tbody>\n",
       "</table>\n",
       "<p>258 rows × 4 columns</p>\n",
       "</div>"
      ],
      "text/plain": [
       "    New Tumor After Initial TRT  Path Diag to new Tumor (days)  \\\n",
       "0                            No                            NaN   \n",
       "1                            No                            NaN   \n",
       "2                            No                            NaN   \n",
       "3                            No                            NaN   \n",
       "4                            No                            NaN   \n",
       "..                          ...                            ...   \n",
       "255                         Yes                           57.0   \n",
       "256                          No                            NaN   \n",
       "257                         Yes                          597.0   \n",
       "258                          No                            NaN   \n",
       "259                          No                            NaN   \n",
       "\n",
       "    Histologic_Grade_FIGO tumor_Stage-Pathological  \n",
       "0            FIGO grade 1                  Stage I  \n",
       "1            FIGO grade 1                  Stage I  \n",
       "2            FIGO grade 1                  Stage I  \n",
       "3                     NaN                      NaN  \n",
       "4                     NaN                      NaN  \n",
       "..                    ...                      ...  \n",
       "255          FIGO grade 2                 Stage II  \n",
       "256                   NaN                 Stage II  \n",
       "257                   NaN                 Stage II  \n",
       "258                   NaN                  Stage I  \n",
       "259                   NaN                  Stage I  \n",
       "\n",
       "[258 rows x 4 columns]"
      ]
     },
     "execution_count": 26,
     "metadata": {},
     "output_type": "execute_result"
    }
   ],
   "source": [
    "focus_group"
   ]
  },
  {
   "cell_type": "markdown",
   "metadata": {},
   "source": [
    "For Kaplan Meier plots, your data needs to be in a format similar to that shown below.  Particularly, it needs a boolean column for the 'event' you are interested in (in this case, vital status), where True denotes the event you are tracking, and False denotes an individual that never had the event of interest occur (in this case, their vital status is 'living').  It also needs a column with a numeric time frame, which we have as 'Path Diag to Last Contact(Day)'.  The other columns contain categorical data that we are testing to find meaningful connections with positive or negative event outcomes."
   ]
  },
  {
   "cell_type": "code",
   "execution_count": 10,
   "metadata": {},
   "outputs": [
    {
     "data": {
      "text/html": [
       "<div>\n",
       "<style scoped>\n",
       "    .dataframe tbody tr th:only-of-type {\n",
       "        vertical-align: middle;\n",
       "    }\n",
       "\n",
       "    .dataframe tbody tr th {\n",
       "        vertical-align: top;\n",
       "    }\n",
       "\n",
       "    .dataframe thead th {\n",
       "        text-align: right;\n",
       "    }\n",
       "</style>\n",
       "<table border=\"1\" class=\"dataframe\">\n",
       "  <thead>\n",
       "    <tr style=\"text-align: right;\">\n",
       "      <th></th>\n",
       "      <th>New Tumor After Initial TRT</th>\n",
       "      <th>Path Diag to new Tumor (days)</th>\n",
       "      <th>Histologic_Grade_FIGO</th>\n",
       "      <th>tumor_Stage-Pathological</th>\n",
       "    </tr>\n",
       "  </thead>\n",
       "  <tbody>\n",
       "    <tr>\n",
       "      <td>12</td>\n",
       "      <td>1.0</td>\n",
       "      <td>50.0</td>\n",
       "      <td>FIGO grade 2</td>\n",
       "      <td>Stage I</td>\n",
       "    </tr>\n",
       "    <tr>\n",
       "      <td>13</td>\n",
       "      <td>1.0</td>\n",
       "      <td>50.0</td>\n",
       "      <td>FIGO grade 2</td>\n",
       "      <td>Stage I</td>\n",
       "    </tr>\n",
       "    <tr>\n",
       "      <td>14</td>\n",
       "      <td>1.0</td>\n",
       "      <td>50.0</td>\n",
       "      <td>FIGO grade 2</td>\n",
       "      <td>Stage I</td>\n",
       "    </tr>\n",
       "    <tr>\n",
       "      <td>84</td>\n",
       "      <td>1.0</td>\n",
       "      <td>-1562.0</td>\n",
       "      <td>FIGO grade 2</td>\n",
       "      <td>Stage I</td>\n",
       "    </tr>\n",
       "    <tr>\n",
       "      <td>137</td>\n",
       "      <td>1.0</td>\n",
       "      <td>656.0</td>\n",
       "      <td>FIGO grade 2</td>\n",
       "      <td>Stage I</td>\n",
       "    </tr>\n",
       "  </tbody>\n",
       "</table>\n",
       "</div>"
      ],
      "text/plain": [
       "     New Tumor After Initial TRT  Path Diag to new Tumor (days)  \\\n",
       "12                           1.0                           50.0   \n",
       "13                           1.0                           50.0   \n",
       "14                           1.0                           50.0   \n",
       "84                           1.0                        -1562.0   \n",
       "137                          1.0                          656.0   \n",
       "\n",
       "    Histologic_Grade_FIGO tumor_Stage-Pathological  \n",
       "12           FIGO grade 2                  Stage I  \n",
       "13           FIGO grade 2                  Stage I  \n",
       "14           FIGO grade 2                  Stage I  \n",
       "84           FIGO grade 2                  Stage I  \n",
       "137          FIGO grade 2                  Stage I  "
      ]
     },
     "execution_count": 10,
     "metadata": {},
     "output_type": "execute_result"
    }
   ],
   "source": [
    "focus_group.head()"
   ]
  },
  {
   "cell_type": "code",
   "execution_count": 11,
   "metadata": {
    "collapsed": true
   },
   "outputs": [],
   "source": [
    "time = focus_group['Path Diag to new Tumor (days)'].copy()\n",
    "vital_status = focus_group['New Tumor After Initial TRT'].copy()"
   ]
  },
  {
   "cell_type": "markdown",
   "metadata": {},
   "source": [
    "Kaplan Meier plots show us the probability of some event occuring over a given length of time, based on some attribute.  Oftentimes, they are used to plot the probability of death for different attributes, however they could also be used in a variety of other contexts.  Below are a few examples of Kaplan Meier Plots in regards to Histologic Grade, and Tumor Stage of patients with Endometrial Cancer:"
   ]
  },
  {
   "cell_type": "code",
   "execution_count": 12,
   "metadata": {},
   "outputs": [
    {
     "data": {
      "text/plain": [
       "<lifelines.KaplanMeierFitter: fitted with 12 total observations, 0 right-censored observations>"
      ]
     },
     "execution_count": 12,
     "metadata": {},
     "output_type": "execute_result"
    }
   ],
   "source": [
    "kmf = KaplanMeierFitter()\n",
    "kmf.fit(time, event_observed = vital_status)"
   ]
  },
  {
   "cell_type": "code",
   "execution_count": 13,
   "metadata": {},
   "outputs": [
    {
     "data": {
      "text/plain": [
       "<matplotlib.axes._subplots.AxesSubplot at 0x224d5e5acc0>"
      ]
     },
     "execution_count": 13,
     "metadata": {},
     "output_type": "execute_result"
    },
    {
     "data": {
      "image/png": "[encoded data removed]",
      "text/plain": [
       "<Figure size 432x288 with 1 Axes>"
      ]
     },
     "metadata": {},
     "output_type": "display_data"
    }
   ],
   "source": [
    "#groups = focus_group\n",
    "kmf.plot()"
   ]
  },
  {
   "cell_type": "code",
   "execution_count": 17,
   "metadata": {
    "collapsed": true
   },
   "outputs": [],
   "source": [
    "from lifelines import CoxPHFitter"
   ]
  },
  {
   "cell_type": "code",
   "execution_count": 22,
   "metadata": {
    "collapsed": true
   },
   "outputs": [],
   "source": [
    "figo_map = {\"FIGO grade 1\": 1, \"FIGO grade 2\": 2, \"FIGO grade 3\" : 3}\n",
    "focus_group['Histologic_Grade_FIGO'] = focus_group['Histologic_Grade_FIGO'].map(figo_map)"
   ]
  },
  {
   "cell_type": "code",
   "execution_count": 27,
   "metadata": {
    "collapsed": true
   },
   "outputs": [],
   "source": [
    "tumor_map = {\"Stage I\" : 1, \"Stage II\" : 2, \"Stage III\" : 3, \"Stage IV\" : 4}\n",
    "focus_group['tumor_Stage-Pathological'] = focus_group['tumor_Stage-Pathological'].map(tumor_map)"
   ]
  },
  {
   "cell_type": "code",
   "execution_count": 29,
   "metadata": {},
   "outputs": [
    {
     "data": {
      "text/plain": [
       "<lifelines.CoxPHFitter: fitted with 171 total observations, 167 right-censored observations>"
      ]
     },
     "execution_count": 29,
     "metadata": {},
     "output_type": "execute_result"
    }
   ],
   "source": [
    "cph = CoxPHFitter()\n",
    "cph.fit(focus_group, duration_col = \"Path Diag to Last Contact(Day)\", event_col = \"Vital Status\")"
   ]
  },
  {
   "cell_type": "code",
   "execution_count": 37,
   "metadata": {},
   "outputs": [
    {
     "name": "stdout",
     "output_type": "stream",
     "text": [
      "<lifelines.CoxPHFitter: fitted with 171 total observations, 167 right-censored observations>\n",
      "      duration col = 'Path Diag to Last Contact(Day)'\n",
      "         event col = 'Vital Status'\n",
      "number of observations = 171.0\n",
      "number of events observed = 4.0\n",
      "partial log-likelihood = -13.537\n",
      "  time fit was run = 2019-11-21 21:16:18 UTC\n",
      "             model = untransformed variables\n",
      "\n",
      "\n",
      "---\n",
      "                          coef exp(coef)  se(coef)  coef lower 95%  coef upper 95% exp(coef) lower 95% exp(coef) upper 95%\n",
      "Histologic_Grade_FIGO    1.109     3.031     0.659          -0.182           2.399               0.834              11.018\n",
      "tumor_Stage-Pathological 1.218     3.380     0.512           0.215           2.221               1.239               9.217\n",
      "\n",
      "                             z     p  -log2(p)\n",
      "Histologic_Grade_FIGO    1.684 0.092     3.438\n",
      "tumor_Stage-Pathological 2.379 0.017     5.848\n",
      "---\n",
      "Concordance = 0.837\n",
      "Log-likelihood ratio test = 9.982 on 2 df, -log2(p)=7.201\n"
     ]
    }
   ],
   "source": [
    "cph.print_summary(model=\"untransformed variables\", decimals=3)"
   ]
  },
  {
   "cell_type": "code",
   "execution_count": 50,
   "metadata": {},
   "outputs": [
    {
     "data": {
      "text/plain": [
       "0    167\n",
       "1      4\n",
       "Name: Vital Status, dtype: int64"
      ]
     },
     "execution_count": 50,
     "metadata": {},
     "output_type": "execute_result"
    }
   ],
   "source": [
    "focus_group['Vital Status'].value_counts()"
   ]
  },
  {
   "cell_type": "code",
   "execution_count": 49,
   "metadata": {},
   "outputs": [
    {
     "name": "stdout",
     "output_type": "stream",
     "text": [
      "<lifelines.StatisticalResult>\n",
      "         test_name = proportional_hazard_test\n",
      "    time_transform = rank\n",
      " null_distribution = chi squared\n",
      "degrees_of_freedom = 1\n",
      "             model = untransformed variables\n",
      "\n",
      "---\n",
      "                          test_statistic     p  -log2(p)\n",
      "Histologic_Grade_FIGO              0.014 0.905     0.145\n",
      "tumor_Stage-Pathological           0.291 0.590     0.762\n"
     ]
    }
   ],
   "source": [
    "from lifelines.statistics import proportional_hazard_test\n",
    "\n",
    "results = proportional_hazard_test(cph, focus_group, time_transform='rank')\n",
    "results.print_summary(decimals=3, model=\"untransformed variables\")"
   ]
  },
  {
   "cell_type": "code",
   "execution_count": 34,
   "metadata": {},
   "outputs": [
    {
     "data": {
      "text/plain": [
       "<matplotlib.axes._subplots.AxesSubplot at 0x22a4b7a8828>"
      ]
     },
     "execution_count": 34,
     "metadata": {},
     "output_type": "execute_result"
    },
    {
     "data": {
      "image/png": "[encoded data removed]",
      "text/plain": [
       "<Figure size 432x288 with 1 Axes>"
      ]
     },
     "metadata": {},
     "output_type": "display_data"
    }
   ],
   "source": [
    "cph.plot()"
   ]
  },
  {
   "cell_type": "code",
   "execution_count": 31,
   "metadata": {
    "collapsed": true
   },
   "outputs": [],
   "source": [
    "wbf = lifelines.WeibullFitter().fit(time, vital_status)"
   ]
  },
  {
   "cell_type": "code",
   "execution_count": 32,
   "metadata": {},
   "outputs": [
    {
     "data": {
      "text/plain": [
       "<matplotlib.axes._subplots.AxesSubplot at 0x22a48c784a8>"
      ]
     },
     "execution_count": 32,
     "metadata": {},
     "output_type": "execute_result"
    },
    {
     "data": {
      "image/png": "[encoded data removed]",
      "text/plain": [
       "<Figure size 432x288 with 1 Axes>"
      ]
     },
     "metadata": {},
     "output_type": "display_data"
    }
   ],
   "source": [
    "wbf.plot_survival_function()"
   ]
  },
  {
   "cell_type": "markdown",
   "metadata": {},
   "source": [
    "## Step 3: Separate the data for pre-processing, and to prepare for Cox Proportional Hazard Test\n",
    "Cox Proportional Hazard Test is a statistical test used to interpret the significance of Kaplan Meier plots, and potential connections between attributes and an event of interest (in this case, survival).\n",
    "\n",
    "For the test to be performed properly, our data needs to be in a specific format. It requires data about Vital Status and time to event/last contact to be in a structured array, which we have titled 'survival_array' below.  \n",
    "\n",
    "Additionally, the attributes we are interested in studying, which are the tumor stage and histologic grade, need to be separate from this array. We separated this data into a DataFrame we call 'tumor_stage_data' below."
   ]
  },
  {
   "cell_type": "code",
   "execution_count": 40,
   "metadata": {
    "collapsed": true
   },
   "outputs": [],
   "source": [
    "tumor_stage_data = focus_group[[\"tumor_Stage-Pathological\",\n",
    "                                \"Histologic_Grade_FIGO\"]].copy()\n",
    "#tumor_stage_data = pd.DataFrame(focus_group['tumor_Stage-Pathological'].copy())\n",
    "\n",
    "survival_data = focus_group[['Vital Status',\n",
    "                             \"Path Diag to Last Contact(Day)\"]].copy()\n",
    "\n",
    "survival_array = np.zeros(len(survival_data),\n",
    "                          dtype={\"names\":(\"Vital Status\",\n",
    "                                          \"Path Diag to Last Contact(Day)\"),\n",
    "                                 \"formats\":(\"?\", \"<f8\")})\n",
    "\n",
    "survival_array['Vital Status'] = survival_data['Vital Status'].values\n",
    "survival_array['Path Diag to Last Contact(Day)'] = survival_data['Path Diag to Last Contact(Day)'].values "
   ]
  },
  {
   "cell_type": "markdown",
   "metadata": {},
   "source": [
    "Sometimes in the conversion, merging, and manipulation of DataFrames, columns' data types get mixed up.  Sci-kit learn requires columns of type \"category\" or \"numeric\" to perform pre-processing, which will create a binary DataFrame ready for performing Cox Proportional Hazard, as well as many other predictive analyses.  Oftentimes, these data types become an \"object\" type, so we will change them to type \"category\"."
   ]
  },
  {
   "cell_type": "code",
   "execution_count": 41,
   "metadata": {
    "collapsed": true
   },
   "outputs": [],
   "source": [
    "for col in tumor_stage_data.columns:\n",
    "    tumor_stage_data[col] = tumor_stage_data[col].astype(\"category\")"
   ]
  },
  {
   "cell_type": "markdown",
   "metadata": {},
   "source": [
    "## Step 4: Perform Cox Proportional Hazard Test"
   ]
  },
  {
   "cell_type": "markdown",
   "metadata": {},
   "source": [
    "In order to perform Cox Proportional Hazard Test, as well as many other Machine Learning and other statistical tests, our data needs to be pre-processed.  This is oftentimes done with Sci-kit Learn's encoder entitled \"OneHotEncoder\".  OneHotEncoder will create a new binary DataFrame of 0 and 1 for all the attributes in the DataFrame you give it, which will now be in the format for the test to be performed."
   ]
  },
  {
   "cell_type": "code",
   "execution_count": 47,
   "metadata": {},
   "outputs": [
    {
     "name": "stdout",
     "output_type": "stream",
     "text": [
      "Stage I      127\n",
      "Stage III     19\n",
      "Stage II      19\n",
      "Stage IV       6\n",
      "Name: tumor_Stage-Pathological, dtype: int64 \n",
      "\n",
      "FIGO grade 1    80\n",
      "FIGO grade 2    76\n",
      "FIGO grade 3    15\n",
      "Name: Histologic_Grade_FIGO, dtype: int64 \n",
      "\n"
     ]
    }
   ],
   "source": [
    "for col in tumor_stage_data.columns:\n",
    "    print(tumor_stage_data[col].value_counts(), '\\n')"
   ]
  },
  {
   "cell_type": "code",
   "execution_count": 56,
   "metadata": {
    "collapsed": true
   },
   "outputs": [],
   "source": [
    "tumor_stage_numeric = OneHotEncoder().fit_transform(tumor_stage_data)\n",
    "test2 = OneHotEncoder().fit_transform(tumor_stage_data[[\"Histologic_Grade_FIGO\", \"tumor_Stage-Pathological\"]])"
   ]
  },
  {
   "cell_type": "code",
   "execution_count": 49,
   "metadata": {},
   "outputs": [
    {
     "data": {
      "text/plain": [
       "Index(['tumor_Stage-Pathological=Stage II',\n",
       "       'tumor_Stage-Pathological=Stage III',\n",
       "       'tumor_Stage-Pathological=Stage IV',\n",
       "       'Histologic_Grade_FIGO=FIGO grade 2',\n",
       "       'Histologic_Grade_FIGO=FIGO grade 3'],\n",
       "      dtype='object')"
      ]
     },
     "execution_count": 49,
     "metadata": {},
     "output_type": "execute_result"
    }
   ],
   "source": [
    "#What happened to stage I and grade 1?\n",
    "tumor_stage_numeric.columns"
   ]
  },
  {
   "cell_type": "code",
   "execution_count": 57,
   "metadata": {},
   "outputs": [
    {
     "data": {
      "text/plain": [
       "Index(['Histologic_Grade_FIGO=FIGO grade 2',\n",
       "       'Histologic_Grade_FIGO=FIGO grade 3',\n",
       "       'tumor_Stage-Pathological=Stage II',\n",
       "       'tumor_Stage-Pathological=Stage III',\n",
       "       'tumor_Stage-Pathological=Stage IV'],\n",
       "      dtype='object')"
      ]
     },
     "execution_count": 57,
     "metadata": {},
     "output_type": "execute_result"
    }
   ],
   "source": [
    "test2.columns"
   ]
  },
  {
   "cell_type": "markdown",
   "metadata": {},
   "source": [
    "Here we will use our estimator of choice, Cox Proportional Hazard, to perform the test."
   ]
  },
  {
   "cell_type": "code",
   "execution_count": 58,
   "metadata": {},
   "outputs": [
    {
     "data": {
      "text/plain": [
       "CoxPHSurvivalAnalysis(alpha=0, n_iter=100, ties='breslow', tol=1e-09, verbose=0)"
      ]
     },
     "execution_count": 58,
     "metadata": {},
     "output_type": "execute_result"
    }
   ],
   "source": [
    "estimator = CoxPHSurvivalAnalysis()\n",
    "estimator.fit(tumor_stage_numeric, survival_array)"
   ]
  },
  {
   "cell_type": "markdown",
   "metadata": {},
   "source": [
    "We can now look at our proportional hazard rations by viewing the following Series, based on the coefficients of the estimator, and the index of the pre-processed data.  These ratios help us know how influential a particular attribute is in relation to survival.  For instance, the ratio of 2.6235030 for Stage III tumors shows us that patients with a Stage III tumor had a 26.2% higher likelihood of death than if they did not have a Stage III tumor."
   ]
  },
  {
   "cell_type": "code",
   "execution_count": 59,
   "metadata": {},
   "outputs": [
    {
     "data": {
      "text/plain": [
       "tumor_Stage-Pathological=Stage II    -20.501921\n",
       "tumor_Stage-Pathological=Stage III     2.623530\n",
       "tumor_Stage-Pathological=Stage IV     25.649083\n",
       "Histologic_Grade_FIGO=FIGO grade 2    43.161388\n",
       "Histologic_Grade_FIGO=FIGO grade 3    22.798626\n",
       "dtype: float64"
      ]
     },
     "execution_count": 59,
     "metadata": {},
     "output_type": "execute_result"
    }
   ],
   "source": [
    "pd.Series(estimator.coef_, index=tumor_stage_numeric.columns)"
   ]
  },
  {
   "cell_type": "markdown",
   "metadata": {},
   "source": [
    "If you are interested in the accuracy of your model for predicting a positive or negative outcome based on your survival_array, you can view the estimator's \"score\" method.  This score is particularly relevant when testing your model against new data, but is still helpful in understanding its standalone accuracy as well."
   ]
  },
  {
   "cell_type": "code",
   "execution_count": 37,
   "metadata": {},
   "outputs": [
    {
     "data": {
      "text/plain": [
       "0.8166666666666667"
      ]
     },
     "execution_count": 37,
     "metadata": {},
     "output_type": "execute_result"
    }
   ],
   "source": [
    "estimator.score(tumor_stage_numeric, survival_array)"
   ]
  },
  {
   "cell_type": "markdown",
   "metadata": {
    "collapsed": true
   },
   "source": [
    "Those are the basics of Survival Analysis on the cancer data we have provided in the cptac package.  This is by no means the only way this could have been done.  There are many other questions we could ask ourselves, and continue to study once we get to this point: \n",
    "\n",
    "How well does our model hold up for new data? What other attributes may be important for survival? What if I want to study the connection between clinical attributes and the likelihood of developing a second tumor during treatment?\n",
    "\n",
    "With the functionality and flexibility of cptac, Sci-kit Survival and Sci-kit Learn, these answers can be explored, and a variety of other research projects could be done.  This use case is intended to be a springboard to help researchers get started in survival analysis, and leverage the cancer data we have to find important connections between clinical or molecular attributes and clinical outcomes."
   ]
  }
 ],
 "metadata": {
  "kernelspec": {
   "display_name": "Python 3",
   "language": "python",
   "name": "python3"
  },
  "language_info": {
   "codemirror_mode": {
    "name": "ipython",
    "version": 3
   },
   "file_extension": ".py",
   "mimetype": "text/x-python",
   "name": "python",
   "nbconvert_exporter": "python",
   "pygments_lexer": "ipython3",
   "version": "3.6.2"
  }
 },
 "nbformat": 4,
 "nbformat_minor": 2
}
