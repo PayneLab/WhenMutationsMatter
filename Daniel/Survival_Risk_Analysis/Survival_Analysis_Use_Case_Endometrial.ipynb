{
 "cells": [
  {
   "cell_type": "markdown",
   "metadata": {},
   "source": [
    "# Survival Analysis of Endometrial Cancer: Tumor Pathological Stage\n",
    "\n",
    "Through modern statistical methods, we can determine survival risk based on a variety of factors.  In this tutorial, we will walk through a small example of something you could do with our data to understand what factors relate with survival in various different types of cancer.  In this use case, we will be looking at Endometrial Cancer"
   ]
  },
  {
   "cell_type": "markdown",
   "metadata": {},
   "source": [
    "## Step 1: Import Data and Dependencies"
   ]
  },
  {
   "cell_type": "code",
   "execution_count": 1,
   "metadata": {
    "collapsed": true
   },
   "outputs": [],
   "source": [
    "import pandas as pd\n",
    "import cptac\n",
    "import numpy as np\n",
    "import sksurv\n",
    "import matplotlib.pyplot as plt\n",
    "import seaborn as sns\n",
    "import scipy\n",
    "import lifelines\n",
    "from lifelines import KaplanMeierFitter\n",
    "from lifelines import CoxPHFitter\n",
    "from lifelines.statistics import proportional_hazard_test\n",
    "%matplotlib inline"
   ]
  },
  {
   "cell_type": "code",
   "execution_count": 2,
   "metadata": {},
   "outputs": [
    {
     "name": "stdout",
     "output_type": "stream",
     "text": [
      "                                    \r"
     ]
    }
   ],
   "source": [
    "en = cptac.Endometrial()\n",
    "clinical = en.get_clinical()\n",
    "proteomics = en.get_proteomics()"
   ]
  },
  {
   "cell_type": "code",
   "execution_count": 3,
   "metadata": {
    "collapsed": true
   },
   "outputs": [],
   "source": [
    "follow_up = pd.read_excel('../Follow_Up_Data/UCEC_followup_9_12.xlsx')"
   ]
  },
  {
   "cell_type": "markdown",
   "metadata": {},
   "source": [
    "## Step 2: Data Preparation\n",
    "We will be focusing on the discovery cohort of tumors, for which we have follow-up data. We will perform some data cleaning, and then merge the tables together for analysis. While you could study a wide variety of factors related to survival, such as country of origin or number of full pregnancies, we will be focusing on tumor stage and grade."
   ]
  },
  {
   "cell_type": "code",
   "execution_count": 5,
   "metadata": {},
   "outputs": [],
   "source": [
    "#Replace redundant values for not reported with NaN       \n",
    "to_replace = ['Not Reported/ Unknown', 'Reported/ Unknown',\n",
    "              'Not Applicable', 'na', 'unknown', 'Not Performed',\n",
    "              'Unknown tumor status', 'Unknown',\n",
    "              'Unknown Tumor Status', 'Not specified']\n",
    "\n",
    "follow_up = follow_up.replace(to_replace, np.nan)\n",
    "\n",
    "#Rename column to merge on, and then merge follow-up with clinical data\n",
    "follow_up = follow_up.rename({'Case ID': 'Patient_ID'}, axis='columns')\n",
    "patient_data = pd.merge(clinical, follow_up, on = 'Patient_ID')\n",
    "\n",
    "#Determine columns to focus on, and create a subset to work with\n",
    "columns_to_focus_on = ['Patient_ID', 'Vital Status', \n",
    "                       'Histologic_Grade_FIGO', \n",
    "                       'Path Diag to Last Contact(Day)', \n",
    "                       'Path Diag to Death(days)', \n",
    "                       'Histologic_type',\n",
    "                       'tumor_Stage-Pathological',\n",
    "                       'Path Diag to new Tumor (days)', \n",
    "                       'New Tumor After Initial TRT']\n",
    "\n",
    "focus_group = patient_data[columns_to_focus_on].copy().drop_duplicates()"
   ]
  },
  {
   "cell_type": "markdown",
   "metadata": {},
   "source": [
    "## Step 2b: Prepare data for Kaplan Meier Plotting\n",
    "We will start by finding all patients that have negative outcomes, which we have defined as either death, or developing a new tumor after initial treatment. Then, we will create a column for this data that we named \"Negative_Outcome\" below. This column contains boolean values, where True denotes that the event occurred, and False denotes that it did not."
   ]
  },
  {
   "cell_type": "code",
   "execution_count": 7,
   "metadata": {
    "collapsed": true
   },
   "outputs": [],
   "source": [
    "new_tumor = focus_group[\"New Tumor After Initial TRT\"] == \"Yes\"\n",
    "deceased = focus_group[\"Vital Status\"] == \"Deceased\"\n",
    "\n",
    "new_tumor_patients = focus_group.Patient_ID[new_tumor]\n",
    "deceased_patients = focus_group.Patient_ID[deceased]\n",
    "\n",
    "neg_outcomes = new_tumor_patients.append(deceased_patients).drop_duplicates()\n",
    "\n",
    "#Create a boolean column for these patients for use in Survival Analysis\n",
    "focus_group['Negative_Outcome'] = neg_outcomes\n",
    "focus_group['Negative_Outcome'] = focus_group['Negative_Outcome'].replace(neg_outcomes.values, True)\n",
    "focus_group['Negative_Outcome'] = focus_group['Negative_Outcome'].replace(np.nan, False)\n",
    "\n",
    "#There is one erroneous negative value in this column, so we will remove it from our subset\n",
    "focus_group = focus_group[focus_group['Path Diag to new Tumor (days)'] != -1562.0]"
   ]
  },
  {
   "cell_type": "markdown",
   "metadata": {},
   "source": [
    "Next, we will create a column for the number of days it took for that negative outcome to occur.  We have named that column \"Timeframe\" below."
   ]
  },
  {
   "cell_type": "code",
   "execution_count": 8,
   "metadata": {
    "collapsed": true
   },
   "outputs": [],
   "source": [
    "temp_neg_outcomes = focus_group[focus_group[\"Negative_Outcome\"] == True].copy()\n",
    "new_tumor_times = temp_neg_outcomes['Path Diag to new Tumor (days)'][temp_neg_outcomes[\"New Tumor After Initial TRT\"] == \"Yes\"]\n",
    "death_times = temp_neg_outcomes['Path Diag to Death(days)'][temp_neg_outcomes[\"Vital Status\"] == \"Deceased\"]\n",
    "\n",
    "#Get rid of duplicates that may have different time frames \n",
    "#between the new tumor and deceased subsets\n",
    "for i in death_times.index:\n",
    "    if i in new_tumor_times.index:\n",
    "        death_times = death_times.drop([i])\n",
    "\n",
    "focus_group['Timeframe'] = new_tumor_times.append(death_times).drop_duplicates()\n",
    "focus_group['Timeframe'] = focus_group['Timeframe'].replace(np.nan, focus_group['Path Diag to Last Contact(Day)'])\n",
    "\n",
    "focus_group = focus_group[[\"Histologic_Grade_FIGO\", \"tumor_Stage-Pathological\", \n",
    "                           \"Negative_Outcome\", \"Timeframe\"]].dropna().copy()"
   ]
  },
  {
   "cell_type": "markdown",
   "metadata": {},
   "source": [
    "For Kaplan Meier plots, your data needs to be in the format shown below.  Specifically, it needs a boolean column for the 'event' you are interested in (\"Negative_Outcome\"),  and a column with a numeric time frame (\"Timeframe\").  The other columns contain categorical data that we are testing to find meaningful connections with positive or negative event outcomes."
   ]
  },
  {
   "cell_type": "code",
   "execution_count": 9,
   "metadata": {},
   "outputs": [
    {
     "data": {
      "text/html": [
       "<div>\n",
       "<style scoped>\n",
       "    .dataframe tbody tr th:only-of-type {\n",
       "        vertical-align: middle;\n",
       "    }\n",
       "\n",
       "    .dataframe tbody tr th {\n",
       "        vertical-align: top;\n",
       "    }\n",
       "\n",
       "    .dataframe thead th {\n",
       "        text-align: right;\n",
       "    }\n",
       "</style>\n",
       "<table border=\"1\" class=\"dataframe\">\n",
       "  <thead>\n",
       "    <tr style=\"text-align: right;\">\n",
       "      <th></th>\n",
       "      <th>Histologic_Grade_FIGO</th>\n",
       "      <th>tumor_Stage-Pathological</th>\n",
       "      <th>Negative_Outcome</th>\n",
       "      <th>Timeframe</th>\n",
       "    </tr>\n",
       "  </thead>\n",
       "  <tbody>\n",
       "    <tr>\n",
       "      <td>0</td>\n",
       "      <td>FIGO grade 1</td>\n",
       "      <td>Stage I</td>\n",
       "      <td>False</td>\n",
       "      <td>494.0</td>\n",
       "    </tr>\n",
       "    <tr>\n",
       "      <td>1</td>\n",
       "      <td>FIGO grade 1</td>\n",
       "      <td>Stage I</td>\n",
       "      <td>False</td>\n",
       "      <td>717.0</td>\n",
       "    </tr>\n",
       "    <tr>\n",
       "      <td>2</td>\n",
       "      <td>FIGO grade 1</td>\n",
       "      <td>Stage I</td>\n",
       "      <td>False</td>\n",
       "      <td>737.0</td>\n",
       "    </tr>\n",
       "    <tr>\n",
       "      <td>6</td>\n",
       "      <td>FIGO grade 1</td>\n",
       "      <td>Stage IV</td>\n",
       "      <td>False</td>\n",
       "      <td>440.0</td>\n",
       "    </tr>\n",
       "    <tr>\n",
       "      <td>7</td>\n",
       "      <td>FIGO grade 1</td>\n",
       "      <td>Stage IV</td>\n",
       "      <td>False</td>\n",
       "      <td>624.0</td>\n",
       "    </tr>\n",
       "  </tbody>\n",
       "</table>\n",
       "</div>"
      ],
      "text/plain": [
       "  Histologic_Grade_FIGO tumor_Stage-Pathological  Negative_Outcome  Timeframe\n",
       "0          FIGO grade 1                  Stage I             False      494.0\n",
       "1          FIGO grade 1                  Stage I             False      717.0\n",
       "2          FIGO grade 1                  Stage I             False      737.0\n",
       "6          FIGO grade 1                 Stage IV             False      440.0\n",
       "7          FIGO grade 1                 Stage IV             False      624.0"
      ]
     },
     "execution_count": 9,
     "metadata": {},
     "output_type": "execute_result"
    }
   ],
   "source": [
    "focus_group.head()"
   ]
  },
  {
   "cell_type": "markdown",
   "metadata": {},
   "source": [
    "# Step 3: Kaplan-Meier Plots\n",
    "Kaplan Meier plots show us the probability of some event occuring over a given length of time, based on some attribute(s).  Oftentimes, they are used to plot the probability of death for clinical attributes, however they could also be used in a variety of other contexts.  Below are a few examples of Kaplan Meier Plots in regards to Histologic Grade, and Tumor Stage of patients with Endometrial Cancer:\n",
    "\n",
    "Here, we show a general Kaplan Meier Plot of survival overall for our cohort, using the KaplanMeierFitter() from the lifelines package."
   ]
  },
  {
   "cell_type": "code",
   "execution_count": 10,
   "metadata": {},
   "outputs": [
    {
     "data": {
      "text/plain": [
       "<matplotlib.axes._subplots.AxesSubplot at 0x234456ecc18>"
      ]
     },
     "execution_count": 10,
     "metadata": {},
     "output_type": "execute_result"
    },
    {
     "data": {
      "image/png": "[encoded data removed]",
      "text/plain": [
       "<Figure size 432x288 with 1 Axes>"
      ]
     },
     "metadata": {},
     "output_type": "display_data"
    }
   ],
   "source": [
    "time = focus_group['Timeframe']\n",
    "status = focus_group['Negative_Outcome']\n",
    "\n",
    "kmf = KaplanMeierFitter()\n",
    "kmf.fit(time, event_observed = status)\n",
    "kmf.plot()"
   ]
  },
  {
   "cell_type": "markdown",
   "metadata": {},
   "source": [
    "# Step 4: Format data for Cox's Proportional Hazard test\n",
    "We will now convert the data into numeric values for the attributes we are interested in exploring.  This is necessary to fit the CoxPHFitter() to our data, to create covariate Kaplan Meier plots, and to perform proportional hazard tests."
   ]
  },
  {
   "cell_type": "code",
   "execution_count": 11,
   "metadata": {
    "collapsed": true
   },
   "outputs": [],
   "source": [
    "figo_map = {\"FIGO grade 1\": 1, \"FIGO grade 2\": 2, \"FIGO grade 3\" : 3}\n",
    "focus_group['Histologic_Grade_FIGO'] = focus_group['Histologic_Grade_FIGO'].map(figo_map)\n",
    "\n",
    "tumor_map = {\"Stage I\" : 1, \"Stage II\" : 2, \"Stage III\" : 3, \"Stage IV\" : 4}\n",
    "focus_group['tumor_Stage-Pathological'] = focus_group['tumor_Stage-Pathological'].map(tumor_map)"
   ]
  },
  {
   "cell_type": "markdown",
   "metadata": {},
   "source": [
    "With the CoxPHFitter from the lifelines package we can see more in-depth survival plots based on multiple variables, as shown below.  Namely, Tumor Histologic Grade and Tumor Stage."
   ]
  },
  {
   "cell_type": "code",
   "execution_count": 12,
   "metadata": {},
   "outputs": [
    {
     "data": {
      "text/plain": [
       "<matplotlib.axes._subplots.AxesSubplot at 0x23446b77ef0>"
      ]
     },
     "execution_count": 12,
     "metadata": {},
     "output_type": "execute_result"
    },
    {
     "data": {
      "image/png": "[encoded data removed]",
      "text/plain": [
       "<Figure size 432x288 with 1 Axes>"
      ]
     },
     "metadata": {},
     "output_type": "display_data"
    },
    {
     "data": {
      "image/png": "[encoded data removed]",
      "text/plain": [
       "<Figure size 432x288 with 1 Axes>"
      ]
     },
     "metadata": {},
     "output_type": "display_data"
    }
   ],
   "source": [
    "cph = CoxPHFitter()\n",
    "cph.fit(focus_group, duration_col = \"Timeframe\", event_col = \"Negative_Outcome\")\n",
    "cph.plot_covariate_groups('Histologic_Grade_FIGO', [1,2,3], cmap='coolwarm', \n",
    "                          title= \"Endometrial Cancer Survival Risk: Histologic Grade\")\n",
    "cph.plot_covariate_groups('tumor_Stage-Pathological', [1,2,3], cmap='coolwarm', \n",
    "                          title= \"Endometrial Cancer Survival Risk: Tumor Stage\")"
   ]
  },
  {
   "cell_type": "markdown",
   "metadata": {},
   "source": [
    "# REWORD ME\n",
    "These plots appear to have very similar functions across the variables, however, Histologic_Grade_FIGO=3 tends to have more negative outcomes than tumor_Stage-Pathological=3. And, as shown below, with our Survival Regression analysis, Histologic Grade has a lower p-value than Tumor Stage, which is not surprising, since more negative outcomes occurred for patients with Histologic Grade 3 tumors."
   ]
  },
  {
   "cell_type": "code",
   "execution_count": 13,
   "metadata": {},
   "outputs": [
    {
     "name": "stdout",
     "output_type": "stream",
     "text": [
      "<lifelines.CoxPHFitter: fitted with 172 total observations, 161 right-censored observations>\n",
      "      duration col = 'Timeframe'\n",
      "         event col = 'Negative_Outcome'\n",
      "number of observations = 172.0\n",
      "number of events observed = 11.0\n",
      "partial log-likelihood = -42.514\n",
      "  time fit was run = 2020-01-03 23:02:43 UTC\n",
      "             model = untransformed variables\n",
      "\n",
      "\n",
      "---\n",
      "                          coef exp(coef)  se(coef)  coef lower 95%  coef upper 95% exp(coef) lower 95% exp(coef) upper 95%\n",
      "Histologic_Grade_FIGO    1.369     3.931     0.443           0.501           2.236               1.651               9.357\n",
      "tumor_Stage-Pathological 0.776     2.173     0.296           0.196           1.356               1.217               3.880\n",
      "\n",
      "                             z     p  -log2(p)\n",
      "Histologic_Grade_FIGO    3.093 0.002     8.980\n",
      "tumor_Stage-Pathological 2.624 0.009     6.845\n",
      "---\n",
      "Concordance = 0.813\n",
      "Log-likelihood ratio test = 17.976 on 2 df, -log2(p)=12.967\n"
     ]
    }
   ],
   "source": [
    "cph.print_summary(model=\"untransformed variables\", decimals=3)"
   ]
  },
  {
   "cell_type": "markdown",
   "metadata": {},
   "source": [
    "We then can perform a Cox Proportional Hazard test, using the *lifelines* package, to determine how much more or less risk a patient would have for the event of interest to occur based on the variables that we are looking at. It also produces a p-value to determine if these variables explain a statistically significant amount of the negative outcomes in our data (moreso than would be expected by random chance)."
   ]
  },
  {
   "cell_type": "code",
   "execution_count": 14,
   "metadata": {},
   "outputs": [
    {
     "name": "stdout",
     "output_type": "stream",
     "text": [
      "<lifelines.StatisticalResult>\n",
      "         test_name = proportional_hazard_test\n",
      "    time_transform = rank\n",
      " null_distribution = chi squared\n",
      "degrees_of_freedom = 1\n",
      "             model = untransformed variables\n",
      "\n",
      "---\n",
      "                          test_statistic     p  -log2(p)\n",
      "Histologic_Grade_FIGO              0.230 0.632     0.663\n",
      "tumor_Stage-Pathological           0.502 0.478     1.064\n"
     ]
    }
   ],
   "source": [
    "results = proportional_hazard_test(cph, focus_group, time_transform='rank')\n",
    "results.print_summary(decimals=3, model=\"untransformed variables\")"
   ]
  },
  {
   "cell_type": "markdown",
   "metadata": {},
   "source": [
    "The hazard ratios for Histologic Grade and Tumor Stage are located in the column labeled \"-log2(p)\" above. If a ratio is greater than 1, the hazard is greater than would be expected, suggesting that the feature associated with it has a higher likelihood of the negative event occurring than would normally be expected.  Likewise, if the ratio is less than 1, the opposite is true.  A ratio of 1 would be considered normal."
   ]
  },
  {
   "cell_type": "markdown",
   "metadata": {},
   "source": [
    "Below, we show confidence intervals for each of the two hazard ratios.  Since both bars include the log(HR) of 1.0 and both of their p-values were greater than 0.05, there is insufficient evidence to suggest that a specific Histologic Grade or Tumor Stage is connected with negative clinical outcomes of death or the development of a new tumor *in our cohort of Endometrial cancer tumors*."
   ]
  },
  {
   "cell_type": "code",
   "execution_count": 15,
   "metadata": {},
   "outputs": [
    {
     "data": {
      "text/plain": [
       "<matplotlib.axes._subplots.AxesSubplot at 0x234469e2d30>"
      ]
     },
     "execution_count": 15,
     "metadata": {},
     "output_type": "execute_result"
    },
    {
     "data": {
      "image/png": "[encoded data removed]",
      "text/plain": [
       "<Figure size 432x288 with 1 Axes>"
      ]
     },
     "metadata": {},
     "output_type": "display_data"
    }
   ],
   "source": [
    "cph.plot()"
   ]
  },
  {
   "cell_type": "markdown",
   "metadata": {},
   "source": [
    " It is important to note that there are relatively few patients who had negative outcomes (11 out of 172), which is good, but with such a small sample size, it is difficult to conclude with certainty that these features are not more connected with negative outcomes.  Perhaps a sample of patients with more negative outcomes might have different results.  \n",
    "\n",
    "It is also important to recognize that the confidence intervals for these ratios are very large, especially since hazard ratios are on a log-scale."
   ]
  },
  {
   "cell_type": "code",
   "execution_count": 16,
   "metadata": {},
   "outputs": [
    {
     "data": {
      "text/html": [
       "<div>\n",
       "<style scoped>\n",
       "    .dataframe tbody tr th:only-of-type {\n",
       "        vertical-align: middle;\n",
       "    }\n",
       "\n",
       "    .dataframe tbody tr th {\n",
       "        vertical-align: top;\n",
       "    }\n",
       "\n",
       "    .dataframe thead th {\n",
       "        text-align: right;\n",
       "    }\n",
       "</style>\n",
       "<table border=\"1\" class=\"dataframe\">\n",
       "  <thead>\n",
       "    <tr style=\"text-align: right;\">\n",
       "      <th></th>\n",
       "      <th>95% lower-bound</th>\n",
       "      <th>95% upper-bound</th>\n",
       "    </tr>\n",
       "  </thead>\n",
       "  <tbody>\n",
       "    <tr>\n",
       "      <td>Histologic_Grade_FIGO</td>\n",
       "      <td>0.501467</td>\n",
       "      <td>2.236144</td>\n",
       "    </tr>\n",
       "    <tr>\n",
       "      <td>tumor_Stage-Pathological</td>\n",
       "      <td>0.196345</td>\n",
       "      <td>1.355928</td>\n",
       "    </tr>\n",
       "  </tbody>\n",
       "</table>\n",
       "</div>"
      ],
      "text/plain": [
       "                          95% lower-bound  95% upper-bound\n",
       "Histologic_Grade_FIGO            0.501467         2.236144\n",
       "tumor_Stage-Pathological         0.196345         1.355928"
      ]
     },
     "execution_count": 16,
     "metadata": {},
     "output_type": "execute_result"
    }
   ],
   "source": [
    "cph.confidence_intervals_"
   ]
  },
  {
   "cell_type": "markdown",
   "metadata": {},
   "source": [
    "This is just one example of how you might use Survival Analysis to learn more about different types of cancer, and how clinical and/or genetic attributes contribute to likelihood of survival. There are many other clinical and genetic attributes, as well as several other cancer types, that can be explored using a similar process to that above. In particular, lung cancer and ovarian cancer have a larger number of negative outcomes per cohort, and would be good to look into further. "
   ]
  }
 ],
 "metadata": {
  "kernelspec": {
   "display_name": "Python 3",
   "language": "python",
   "name": "python3"
  },
  "language_info": {
   "codemirror_mode": {
    "name": "ipython",
    "version": 3
   },
   "file_extension": ".py",
   "mimetype": "text/x-python",
   "name": "python",
   "nbconvert_exporter": "python",
   "pygments_lexer": "ipython3",
   "version": "3.6.2"
  }
 },
 "nbformat": 4,
 "nbformat_minor": 2
}
