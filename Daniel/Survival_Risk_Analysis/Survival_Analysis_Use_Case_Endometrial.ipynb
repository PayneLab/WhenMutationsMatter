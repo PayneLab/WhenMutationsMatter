{
 "cells": [
  {
   "cell_type": "markdown",
   "metadata": {},
   "source": [
    "# Survival Analysis of Endometrial Cancer: Tumor Pathological Stage\n",
    "\n",
    "Through modern statistical methods, we can determine survival risk based on a variety of factors.  In this tutorial, we will walk through a small example of something you could do with our data to understand what factors relate with survival in various different types of cancer.  In this use case, we will be looking at Endometrial Cancer"
   ]
  },
  {
   "cell_type": "markdown",
   "metadata": {},
   "source": [
    "## Step 1: Import Data and Dependencies"
   ]
  },
  {
   "cell_type": "code",
   "execution_count": 1,
   "metadata": {
    "collapsed": true
   },
   "outputs": [],
   "source": [
    "import pandas as pd\n",
    "import cptac\n",
    "import numpy as np\n",
    "import matplotlib.pyplot as plt\n",
    "import seaborn as sns\n",
    "import scipy\n",
    "import lifelines\n",
    "from lifelines import KaplanMeierFitter\n",
    "from lifelines import CoxPHFitter\n",
    "from lifelines.statistics import proportional_hazard_test\n",
    "%matplotlib inline"
   ]
  },
  {
   "cell_type": "code",
   "execution_count": 26,
   "metadata": {},
   "outputs": [
    {
     "name": "stdout",
     "output_type": "stream",
     "text": [
      "                                    \r"
     ]
    }
   ],
   "source": [
    "en = cptac.Endometrial()\n",
    "clinical = en.get_clinical()\n",
    "proteomics = en.get_proteomics()\n",
    "follow_up = en.get_followup()"
   ]
  },
  {
   "cell_type": "markdown",
   "metadata": {},
   "source": [
    "## Step 2: Data Preparation\n",
    "We will be focusing on the discovery cohort of tumors, for which we have follow-up data. We will first merge the clinical and follow-up tables together for analysis. Then we will choose a few attributes to focus on, and narrow our dataframe to those attributes. While you could study a wide variety of factors related to survival, such as country of origin or number of full pregnancies, we will be focusing on tumor stage and grade."
   ]
  },
  {
   "cell_type": "code",
   "execution_count": 28,
   "metadata": {
    "collapsed": true
   },
   "outputs": [],
   "source": [
    "#Determine columns to focus on, and create a subset to work with\n",
    "#NOTE. NEED TO PUT BACK IN THE CODE TO CREATE THE TIMEFRAME COLUMN\n",
    "patient_data = pd.merge(clinical, follow_up, on = 'Patient_ID')\n",
    "\n",
    "columns_to_focus_on = ['Vital Status', \n",
    "                       'Histologic_Grade_FIGO', \n",
    "                       'Path Diag to Last Contact(Day)', \n",
    "                       'Path Diag to Death(days)',\n",
    "                       'tumor_Stage-Pathological',\n",
    "                       'Path Diag to new Tumor (days)']\n",
    "\n",
    "focus_group = patient_data[columns_to_focus_on].copy().drop_duplicates()"
   ]
  },
  {
   "cell_type": "markdown",
   "metadata": {},
   "source": [
    "## Step 2b: Prepare data for Kaplan Meier Plotting\n",
    "We will start by finding all patients that have died during the follow-up period and update the column to contain boolean values, where True denotes that the event occurred ('Deceased'), and False denotes that it did not ('Living')."
   ]
  },
  {
   "cell_type": "code",
   "execution_count": 30,
   "metadata": {},
   "outputs": [],
   "source": [
    "#There is one erroneous negative value in this column, so we will remove it from our subset\n",
    "focus_group = focus_group[focus_group['Path Diag to new Tumor (days)'] != -1562.0]\n",
    "\n",
    "#Make the Vital Status column boolean\n",
    "focus_group['Vital Status'] = focus_group['Vital Status'].replace('Living', False)\n",
    "focus_group['Vital Status'] = focus_group['Vital Status'].replace('Deceased', True)"
   ]
  },
  {
   "cell_type": "markdown",
   "metadata": {},
   "source": [
    "Next, we will subset the data to just the attributes we are testing for survival (numeric values), an event-of-interest column ('Vital Status'; boolean) and a column with a numeric time frame ('Path Diag to Last Contact(Day)'; numeric). This format is necessary for creating Kaplan Meier plots and running survival analysis, so be sure that your data is in this format."
   ]
  },
  {
   "cell_type": "code",
   "execution_count": null,
   "metadata": {
    "collapsed": true
   },
   "outputs": [],
   "source": [
    "focus_group = focus_group[[\"Histologic_Grade_FIGO\", \"tumor_Stage-Pathological\", \n",
    "                           \"Vital Status\", \"Path Diag to Last Contact(Day)\"]].dropna().copy()\n",
    "\n",
    "figo_map = {\"FIGO grade 1\": 1, \"FIGO grade 2\": 2, \"FIGO grade 3\" : 3}\n",
    "focus_group['Histologic_Grade_FIGO'] = focus_group['Histologic_Grade_FIGO'].map(figo_map)\n",
    "\n",
    "tumor_map = {\"Stage I\" : 1, \"Stage II\" : 2, \"Stage III\" : 3, \"Stage IV\" : 4}\n",
    "focus_group['tumor_Stage-Pathological'] = focus_group['tumor_Stage-Pathological'].map(tumor_map)"
   ]
  },
  {
   "cell_type": "code",
   "execution_count": 44,
   "metadata": {},
   "outputs": [
    {
     "data": {
      "text/html": [
       "<div>\n",
       "<style scoped>\n",
       "    .dataframe tbody tr th:only-of-type {\n",
       "        vertical-align: middle;\n",
       "    }\n",
       "\n",
       "    .dataframe tbody tr th {\n",
       "        vertical-align: top;\n",
       "    }\n",
       "\n",
       "    .dataframe thead th {\n",
       "        text-align: right;\n",
       "    }\n",
       "</style>\n",
       "<table border=\"1\" class=\"dataframe\">\n",
       "  <thead>\n",
       "    <tr style=\"text-align: right;\">\n",
       "      <th>Name</th>\n",
       "      <th>Histologic_Grade_FIGO</th>\n",
       "      <th>tumor_Stage-Pathological</th>\n",
       "      <th>Vital Status</th>\n",
       "      <th>Path Diag to Last Contact(Day)</th>\n",
       "    </tr>\n",
       "    <tr>\n",
       "      <th>Patient_ID</th>\n",
       "      <th></th>\n",
       "      <th></th>\n",
       "      <th></th>\n",
       "      <th></th>\n",
       "    </tr>\n",
       "  </thead>\n",
       "  <tbody>\n",
       "    <tr>\n",
       "      <td>C3L-00006</td>\n",
       "      <td>1</td>\n",
       "      <td>1</td>\n",
       "      <td>False</td>\n",
       "      <td>494.0</td>\n",
       "    </tr>\n",
       "    <tr>\n",
       "      <td>C3L-00006</td>\n",
       "      <td>1</td>\n",
       "      <td>1</td>\n",
       "      <td>False</td>\n",
       "      <td>717.0</td>\n",
       "    </tr>\n",
       "    <tr>\n",
       "      <td>C3L-00006</td>\n",
       "      <td>1</td>\n",
       "      <td>1</td>\n",
       "      <td>False</td>\n",
       "      <td>737.0</td>\n",
       "    </tr>\n",
       "    <tr>\n",
       "      <td>C3L-00008</td>\n",
       "      <td>1</td>\n",
       "      <td>4</td>\n",
       "      <td>False</td>\n",
       "      <td>440.0</td>\n",
       "    </tr>\n",
       "    <tr>\n",
       "      <td>C3L-00008</td>\n",
       "      <td>1</td>\n",
       "      <td>4</td>\n",
       "      <td>False</td>\n",
       "      <td>624.0</td>\n",
       "    </tr>\n",
       "  </tbody>\n",
       "</table>\n",
       "</div>"
      ],
      "text/plain": [
       "Name        Histologic_Grade_FIGO  tumor_Stage-Pathological  Vital Status  \\\n",
       "Patient_ID                                                                  \n",
       "C3L-00006                       1                         1         False   \n",
       "C3L-00006                       1                         1         False   \n",
       "C3L-00006                       1                         1         False   \n",
       "C3L-00008                       1                         4         False   \n",
       "C3L-00008                       1                         4         False   \n",
       "\n",
       "Name        Path Diag to Last Contact(Day)  \n",
       "Patient_ID                                  \n",
       "C3L-00006                            494.0  \n",
       "C3L-00006                            717.0  \n",
       "C3L-00006                            737.0  \n",
       "C3L-00008                            440.0  \n",
       "C3L-00008                            624.0  "
      ]
     },
     "execution_count": 44,
     "metadata": {},
     "output_type": "execute_result"
    }
   ],
   "source": [
    "#Something very weird happened here. There should be more than 4 deaths...\n",
    "focus_group.head()"
   ]
  },
  {
   "cell_type": "code",
   "execution_count": 46,
   "metadata": {},
   "outputs": [
    {
     "data": {
      "text/plain": [
       "False    163\n",
       "True       4\n",
       "Name: Vital Status, dtype: int64"
      ]
     },
     "execution_count": 46,
     "metadata": {},
     "output_type": "execute_result"
    }
   ],
   "source": [
    "focus_group['Vital Status'].value_counts()"
   ]
  },
  {
   "cell_type": "markdown",
   "metadata": {},
   "source": [
    "# Step 3: Kaplan-Meier Plots\n",
    "Kaplan Meier plots show us the probability of some event occuring over a given length of time, based on some attribute(s).  Oftentimes, they are used to plot the probability of death for clinical attributes, however they could also be used in a variety of other contexts.\n",
    "\n",
    "Here, we show a general Kaplan Meier Plot of survival overall for our cohort, using the KaplanMeierFitter() from the lifelines package."
   ]
  },
  {
   "cell_type": "code",
   "execution_count": 45,
   "metadata": {},
   "outputs": [
    {
     "data": {
      "text/plain": [
       "<matplotlib.axes._subplots.AxesSubplot at 0x19bc429f5c0>"
      ]
     },
     "execution_count": 45,
     "metadata": {},
     "output_type": "execute_result"
    },
    {
     "data": {
      "image/png": "[encoded data removed]",
      "text/plain": [
       "<Figure size 432x288 with 1 Axes>"
      ]
     },
     "metadata": {},
     "output_type": "display_data"
    }
   ],
   "source": [
    "time = focus_group['Path Diag to Last Contact(Day)']\n",
    "status = focus_group['Vital Status']\n",
    "\n",
    "kmf = KaplanMeierFitter()\n",
    "kmf.fit(time, event_observed = status)\n",
    "kmf.plot()"
   ]
  },
  {
   "cell_type": "markdown",
   "metadata": {},
   "source": [
    "# Step 4: Format data for Cox's Proportional Hazard test\n",
    "\n",
    "With the CoxPHFitter from the lifelines package we can see covariate survival plots, as shown below.  The variables we are interested in exploring are Tumor Histologic Grade and Tumor Stage."
   ]
  },
  {
   "cell_type": "code",
   "execution_count": 39,
   "metadata": {},
   "outputs": [
    {
     "data": {
      "text/plain": [
       "<matplotlib.axes._subplots.AxesSubplot at 0x19bd00cc748>"
      ]
     },
     "execution_count": 39,
     "metadata": {},
     "output_type": "execute_result"
    },
    {
     "data": {
      "image/png": "[encoded data removed]",
      "text/plain": [
       "<Figure size 432x288 with 1 Axes>"
      ]
     },
     "metadata": {},
     "output_type": "display_data"
    },
    {
     "data": {
      "image/png": "[encoded data removed]",
      "text/plain": [
       "<Figure size 432x288 with 1 Axes>"
      ]
     },
     "metadata": {},
     "output_type": "display_data"
    }
   ],
   "source": [
    "cph = CoxPHFitter()\n",
    "cph.fit(focus_group, duration_col = \"Path Diag to Last Contact(Day)\", event_col = \"Vital Status\")\n",
    "cph.plot_covariate_groups('Histologic_Grade_FIGO', [1,2,3], cmap='coolwarm', \n",
    "                          title= \"Endometrial Cancer Survival Risk: Histologic Grade\")\n",
    "cph.plot_covariate_groups('tumor_Stage-Pathological', [1,2,3], cmap='coolwarm', \n",
    "                          title= \"Endometrial Cancer Survival Risk: Tumor Stage\")"
   ]
  },
  {
   "cell_type": "markdown",
   "metadata": {},
   "source": [
    "# Reword this\n",
    "These plots appear to have very similar functions across the variables, however, Histologic_Grade_FIGO=3 tends to have less negative outcomes than tumor_Stage-Pathological=3. And, as shown below, with our Survival Regression analysis, Tumor Stage has a lower p-value than Histologic Grade, which is not surprising, since patients with Stage 3 tumors have a greater deviation from the baseline survival function."
   ]
  },
  {
   "cell_type": "code",
   "execution_count": 40,
   "metadata": {},
   "outputs": [
    {
     "name": "stdout",
     "output_type": "stream",
     "text": [
      "<lifelines.CoxPHFitter: fitted with 167 total observations, 163 right-censored observations>\n",
      "      duration col = 'Path Diag to Last Contact(Day)'\n",
      "         event col = 'Vital Status'\n",
      "number of observations = 167.0\n",
      "number of events observed = 4.0\n",
      "partial log-likelihood = -13.441\n",
      "  time fit was run = 2020-02-13 17:28:27 UTC\n",
      "             model = untransformed variables\n",
      "\n",
      "\n",
      "---\n",
      "                          coef exp(coef)  se(coef)  coef lower 95%  coef upper 95% exp(coef) lower 95% exp(coef) upper 95%\n",
      "Name                                                                                                                      \n",
      "Histologic_Grade_FIGO    1.063     2.894     0.663          -0.237           2.362               0.789              10.613\n",
      "tumor_Stage-Pathological 1.238     3.449     0.518           0.223           2.254               1.249               9.522\n",
      "\n",
      "                             z     p  -log2(p)\n",
      "Name                                          \n",
      "Histologic_Grade_FIGO    1.603 0.109     3.199\n",
      "tumor_Stage-Pathological 2.389 0.017     5.889\n",
      "---\n",
      "Concordance = 0.840\n",
      "Log-likelihood ratio test = 10.011 on 2 df, -log2(p)=7.221\n"
     ]
    }
   ],
   "source": [
    "cph.print_summary(model=\"untransformed variables\", decimals=3)"
   ]
  },
  {
   "cell_type": "markdown",
   "metadata": {},
   "source": [
    "We then can perform a Cox Proportional Hazard test, using the *lifelines* package, to determine how much more or less risk a patient would have for the event of interest to occur based on the variables that we are looking at. It also produces a p-value to determine if these variables explain a statistically significant amount of the negative outcomes in our data (moreso than would be expected by random chance)."
   ]
  },
  {
   "cell_type": "code",
   "execution_count": 41,
   "metadata": {},
   "outputs": [
    {
     "name": "stdout",
     "output_type": "stream",
     "text": [
      "<lifelines.StatisticalResult>\n",
      "         test_name = proportional_hazard_test\n",
      "    time_transform = rank\n",
      " null_distribution = chi squared\n",
      "degrees_of_freedom = 1\n",
      "             model = untransformed variables\n",
      "\n",
      "---\n",
      "                          test_statistic     p  -log2(p)\n",
      "Histologic_Grade_FIGO              0.006 0.941     0.088\n",
      "tumor_Stage-Pathological           0.307 0.579     0.787\n"
     ]
    }
   ],
   "source": [
    "results = proportional_hazard_test(cph, focus_group, time_transform='rank')\n",
    "results.print_summary(decimals=3, model=\"untransformed variables\")"
   ]
  },
  {
   "cell_type": "markdown",
   "metadata": {},
   "source": [
    "The hazard ratios for Histologic Grade and Tumor Stage are located in the column labeled \"-log2(p)\" above. If a ratio is greater than 1, the hazard is greater than would be expected, suggesting that the feature associated with it has a higher likelihood of the negative event occurring than would normally be expected.  Likewise, if the ratio is less than 1, the opposite is true.  A ratio of 1 would be considered normal."
   ]
  },
  {
   "cell_type": "markdown",
   "metadata": {},
   "source": [
    "Below, we show confidence intervals for each of the two hazard ratios.  Since both bars include the log(HR) of 1.0 and both of their p-values were greater than 0.05, there is insufficient evidence to suggest that a specific Histologic Grade or Tumor Stage is connected with negative clinical outcomes of death or the development of a new tumor *in our cohort of Endometrial cancer tumors*."
   ]
  },
  {
   "cell_type": "code",
   "execution_count": 42,
   "metadata": {},
   "outputs": [
    {
     "data": {
      "text/plain": [
       "<matplotlib.axes._subplots.AxesSubplot at 0x19bc75a99e8>"
      ]
     },
     "execution_count": 42,
     "metadata": {},
     "output_type": "execute_result"
    },
    {
     "data": {
      "image/png": "[encoded data removed]",
      "text/plain": [
       "<Figure size 432x288 with 1 Axes>"
      ]
     },
     "metadata": {},
     "output_type": "display_data"
    }
   ],
   "source": [
    "cph.plot()"
   ]
  },
  {
   "cell_type": "markdown",
   "metadata": {},
   "source": [
    " It is important to note that there are relatively few patients who had negative outcomes (11 out of 172), which is good, but with such a small sample size, it is difficult to conclude with certainty that these features are not more connected with negative outcomes.  Perhaps a sample of patients with more negative outcomes might have different results.  \n",
    "\n",
    "It is also important to recognize that the confidence intervals for these ratios are very large, especially since hazard ratios are on a log-scale."
   ]
  },
  {
   "cell_type": "code",
   "execution_count": 43,
   "metadata": {},
   "outputs": [
    {
     "data": {
      "text/html": [
       "<div>\n",
       "<style scoped>\n",
       "    .dataframe tbody tr th:only-of-type {\n",
       "        vertical-align: middle;\n",
       "    }\n",
       "\n",
       "    .dataframe tbody tr th {\n",
       "        vertical-align: top;\n",
       "    }\n",
       "\n",
       "    .dataframe thead th {\n",
       "        text-align: right;\n",
       "    }\n",
       "</style>\n",
       "<table border=\"1\" class=\"dataframe\">\n",
       "  <thead>\n",
       "    <tr style=\"text-align: right;\">\n",
       "      <th></th>\n",
       "      <th>95% lower-bound</th>\n",
       "      <th>95% upper-bound</th>\n",
       "    </tr>\n",
       "    <tr>\n",
       "      <th>Name</th>\n",
       "      <th></th>\n",
       "      <th></th>\n",
       "    </tr>\n",
       "  </thead>\n",
       "  <tbody>\n",
       "    <tr>\n",
       "      <td>Histologic_Grade_FIGO</td>\n",
       "      <td>-0.236550</td>\n",
       "      <td>2.362044</td>\n",
       "    </tr>\n",
       "    <tr>\n",
       "      <td>tumor_Stage-Pathological</td>\n",
       "      <td>0.222519</td>\n",
       "      <td>2.253567</td>\n",
       "    </tr>\n",
       "  </tbody>\n",
       "</table>\n",
       "</div>"
      ],
      "text/plain": [
       "                          95% lower-bound  95% upper-bound\n",
       "Name                                                      \n",
       "Histologic_Grade_FIGO           -0.236550         2.362044\n",
       "tumor_Stage-Pathological         0.222519         2.253567"
      ]
     },
     "execution_count": 43,
     "metadata": {},
     "output_type": "execute_result"
    }
   ],
   "source": [
    "cph.confidence_intervals_"
   ]
  },
  {
   "cell_type": "markdown",
   "metadata": {},
   "source": [
    "This is just one example of how you might use Survival Analysis to learn more about different types of cancer, and how clinical and/or genetic attributes contribute to likelihood of survival. There are many other clinical and genetic attributes, as well as several other cancer types, that can be explored using a similar process to that above. In particular, lung cancer and ovarian cancer have a larger number of negative outcomes per cohort, and would be good to look into further. "
   ]
  }
 ],
 "metadata": {
  "kernelspec": {
   "display_name": "Python 3",
   "language": "python",
   "name": "python3"
  },
  "language_info": {
   "codemirror_mode": {
    "name": "ipython",
    "version": 3
   },
   "file_extension": ".py",
   "mimetype": "text/x-python",
   "name": "python",
   "nbconvert_exporter": "python",
   "pygments_lexer": "ipython3",
   "version": "3.6.2"
  }
 },
 "nbformat": 4,
 "nbformat_minor": 2
}
