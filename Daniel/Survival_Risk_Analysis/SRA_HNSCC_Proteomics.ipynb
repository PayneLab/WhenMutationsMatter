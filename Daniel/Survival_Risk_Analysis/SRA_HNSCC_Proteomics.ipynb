{
 "cells": [
  {
   "cell_type": "code",
   "execution_count": 1,
   "metadata": {
    "collapsed": true
   },
   "outputs": [],
   "source": [
    "import pandas as pd\n",
    "import cptac\n",
    "import numpy as np\n",
    "import requests\n",
    "import json\n",
    "import deva\n",
    "import binarization_functions_1 as bf"
   ]
  },
  {
   "cell_type": "code",
   "execution_count": 2,
   "metadata": {},
   "outputs": [
    {
     "name": "stdout",
     "output_type": "stream",
     "text": [
      "                                    \r"
     ]
    }
   ],
   "source": [
    "hnscc = cptac.Hnscc()\n",
    "clinical = hnscc.get_clinical()\n",
    "proteomics = hnscc.get_proteomics()\n"
   ]
  },
  {
   "cell_type": "code",
   "execution_count": 3,
   "metadata": {},
   "outputs": [
    {
     "data": {
      "text/plain": [
       "Index(['Patient_ID', 'Sample_Tumor_Normal', 'AGE', 'AJCC_STAGING',\n",
       "       'ALCOHOL_CONSUM', 'CLINIC_STAGING_DIST_METAS', 'COUNTRY', 'Cohort',\n",
       "       'EPSTEIN_BARR_VIRUS', 'GENDER', 'HISTOLOGIC_GRADE', 'HISTOLOGIC_TYPE',\n",
       "       'HPV_STATUS_BY_ISH_TESTING', 'HPV_STATUS_BY_PCR', 'NUM_PACK_YEARS_SM',\n",
       "       'NUM_SMOKE_PER_DAY', 'NUM_YRS_ALC_CON', 'P16', 'PATHO_STAGINGPT',\n",
       "       'PATHO_STAGINGRLN', 'PATHO_STAGING_DIST_METAS', 'SMOKE_AGE_START',\n",
       "       'SMOKE_AGE_STOP', 'TOBACCO_SM_HIST', 'TUMOR_FOCALITY',\n",
       "       'TUMOR_LATERALITY', 'TUMOR_SITE', 'TUMOR_SITE_Chen', 'TUMOR_SIZE',\n",
       "       'TUMOR_STAGE_PATHO_Adel', 'TUMOR_STAGE_PATHO_Chen',\n",
       "       'TUMOR_STAGE_PATHO_Original'],\n",
       "      dtype='object', name='Name')"
      ]
     },
     "execution_count": 3,
     "metadata": {},
     "output_type": "execute_result"
    }
   ],
   "source": [
    "clinical.columns"
   ]
  }
 ],
 "metadata": {
  "kernelspec": {
   "display_name": "Python 3",
   "language": "python",
   "name": "python3"
  },
  "language_info": {
   "codemirror_mode": {
    "name": "ipython",
    "version": 3
   },
   "file_extension": ".py",
   "mimetype": "text/x-python",
   "name": "python",
   "nbconvert_exporter": "python",
   "pygments_lexer": "ipython3",
   "version": "3.6.2"
  }
 },
 "nbformat": 4,
 "nbformat_minor": 2
}
