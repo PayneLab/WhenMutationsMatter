{
 "cells": [
  {
   "cell_type": "markdown",
   "metadata": {},
   "source": [
    "# BlackSheep Cookbook Exploration\n",
    "\n",
    "The Black Sheep Analysis allows researchers to find trends in abnormal protein enrichment among patients in CPTAC datasets. In this Cookbook, we will go through the steps needed to perform a full Black Sheep Analysis."
   ]
  },
  {
   "cell_type": "markdown",
   "metadata": {},
   "source": [
    "### Step 1a: Import Dependencies\n",
    "First, import the necessary dependencies and load cptac data."
   ]
  },
  {
   "cell_type": "code",
   "execution_count": null,
   "metadata": {
    "collapsed": true
   },
   "outputs": [],
   "source": [
    "import numpy as np\n",
    "import pandas as pd\n",
    "import matplotlib.pyplot as plt\n",
    "import seaborn as sns\n",
    "import cptac\n",
    "import binarization_functions as bf\n",
    "import blackSheepCPTACmoduleCopy as blsh\n",
    "import gseapy as gp\n",
    "from gseapy.plot import barplot, heatmap, dotplot"
   ]
  },
  {
   "cell_type": "markdown",
   "metadata": {},
   "source": [
    "## Step 1b: Load Data and Choose Omics Table\n",
    "For this analysis, we will be looking at results across the proteomics, transcriptomics, and phosphoproteomics tables."
   ]
  },
  {
   "cell_type": "code",
   "execution_count": null,
   "metadata": {},
   "outputs": [],
   "source": [
    "cptac.download(dataset='renalccrcc')"
   ]
  },
  {
   "cell_type": "code",
   "execution_count": null,
   "metadata": {},
   "outputs": [],
   "source": [
    "re = cptac.RenalCcrcc()\n",
    "proteomics = re.get_proteomics()\n",
    "transcriptomics = re.get_transcriptomics()\n",
    "clinical = re.get_clinical()"
   ]
  },
  {
   "cell_type": "markdown",
   "metadata": {},
   "source": [
    "## Step 2: Determine what attributes you would like to A/B test. \n",
    "For this analysis, we will iteratively go through the various columns in the clinical dataset, to determine if any of them have trends within them for protein enrichment."
   ]
  },
  {
   "cell_type": "code",
   "execution_count": null,
   "metadata": {
    "collapsed": true
   },
   "outputs": [],
   "source": [
    "#Create a copy of the original Clinical DataFrame\n",
    "annotations = pd.DataFrame(clinical.copy())"
   ]
  },
  {
   "cell_type": "code",
   "execution_count": null,
   "metadata": {
    "collapsed": true
   },
   "outputs": [],
   "source": [
    "#Convert columns that should be numeric to numeric\n",
    "annotations['age'] = annotations['age'].replace('>=90', 90)\n",
    "annotations['age'] = pd.to_numeric(annotations['age'])\n",
    "\n",
    "annotations['age_started_smoking'] = annotations['age_started_smoking'].replace('Unknown', np.nan)\n",
    "annotations['age_started_smoking'] = pd.to_numeric(annotations['age_started_smoking'])\n",
    "\n",
    "annotations['age_stopped_smoking'] = annotations['age_stopped_smoking'].replace('Unknown', np.nan)\n",
    "annotations['age_stopped_smoking'] = pd.to_numeric(annotations['age_stopped_smoking'])\n",
    "\n",
    "annotations['how_many_cigarettes_usually_smoke_on_the_days_participant_smoked'] = annotations['how_many_cigarettes_usually_smoke_on_the_days_participant_smoked'].replace('Unknown', np.nan)\n",
    "annotations['how_many_cigarettes_usually_smoke_on_the_days_participant_smoked'] = pd.to_numeric(annotations['how_many_cigarettes_usually_smoke_on_the_days_participant_smoked'])"
   ]
  },
  {
   "cell_type": "code",
   "execution_count": null,
   "metadata": {
    "collapsed": true
   },
   "outputs": [],
   "source": [
    "#Drop irrelevant columns\n",
    "irrelevant_cols = ['Patient_ID', 'height_in_cm', 'weight_in_kg', 'race', 'ethnicity', \n",
    "                   'ethnicity_self_identified','tumor_site_other', 'sarcomatoid_features', \n",
    "                   'pathologic_findings_in_nonneoplastic_kidney_specify', \n",
    "                   'other_immunohistochemistry_specify', 'other_testing_performed', \n",
    "                   'other_coagulopathies', 'exposure_to_secondhand_smoke', \n",
    "                   'tumor_tissue_collection_clamps_used','tumor_tissue_collection_frozen_with_OCT', \n",
    "                   'preoperative_IV_sedation_administered',  'preoperative_IV_opiates_administered', \n",
    "                   'preoperative_IV_antiemetics_administered','preoperative_IV_anti_acids_administered', \n",
    "                   'other_preoperative_IV_medications_administered', 'platelets',\n",
    "                   'local_anesthesia_agents_administered', 'regional_anesthesia_agents_administered', \n",
    "                   'IV_anesthesia_agents_administered', 'IV_narcotic_opiate_agents_administered', \n",
    "                   'IV_muscle_relaxants_administered', 'inhalation_anesthesia_agents_administered', \n",
    "                   'additional_anesthesia', 'other_medications_administered_during_surgery', \n",
    "                   'surgical_procedure', 'epochs_of_oxygen_desaturation', 'time_specimen_left_OR', \n",
    "                   'first_participant_temperature_recorded_in_OR', 'first_temperature_recorded_in_OR_units', \n",
    "                   'first_temperature_recorded_in_OR_celsius', 'time_of_first_temperature', \n",
    "                   'first_temperature_recorded_in_OR_fahrenheit', 'second_participant_temperature_recorded_in_OR', \n",
    "                   'second_temperature_recorded_in_OR_units','second_temperature_recorded_in_OR_celsius', \n",
    "                   'second_temperature_recorded_in_OR_fahrenheit', 'time_of_second_temperature', \n",
    "                   'Karnofsky_score_at_12months_follow_up', 'Karnofsky_score_at_24months_follow_up', \n",
    "                   'performance_status_scale_timing_at_12months_follow_up', \n",
    "                   'performance_status_scale_timing_at_24months_follow_up', \n",
    "                   'adjuvant_postoperative_radiation_therapy_at_12months_follow_up', \n",
    "                   'adjuvant_postoperative_radiation_therapy_at_24months_follow_up',  \n",
    "                   'adjuvant_postoperative_immunological_therapy_at_12months_follow_up', \n",
    "                   'adjuvant_postoperative_immunological_therapy_at_24months_follow_up', \n",
    "                   'adjuvant_postoperative_pharmaceutical_therapy_at_12months_follow_up', \n",
    "                   'adjuvant_postoperative_pharmaceutical_therapy_at_24months_follow_up', \n",
    "                   'ECOG_score_at_12months_follow_up', 'ECOG_score_at_24months_follow_up', \n",
    "                   'specimen_id', 'slide_id', 'Presence_sarcomatoid_features', \n",
    "                   'non_cellular_component_description', 'meets_required_criteria', \n",
    "                   'histologic_type_of_normal_tissue', 'findings_not_consistent_with_local_pathology_report', \n",
    "                   'minutes_clamp_1_to_collection', 'minutes_clamp_2_to_collection', \n",
    "                   'consistent_with_diagnostic_report', 'patient_medications']\n",
    "\n",
    "annotations = annotations.drop(irrelevant_cols, axis=1)\n",
    "\n",
    "#Columns we should either drop, or be generally skeptical of in our analysis\n",
    "questionable_cols = ['specify_distant_metastasis_documented_sites', \n",
    "                     'erythrocyte_sedimentation_rate', \n",
    "                     'renal_vein_or_vena_cava_thrombosis', \n",
    "                     'CO2_level_recorded_at_time_closest_to_organ_excision']\n",
    "\n",
    "annotations = annotations.drop(questionable_cols, axis=1)"
   ]
  },
  {
   "cell_type": "code",
   "execution_count": null,
   "metadata": {},
   "outputs": [],
   "source": [
    "#Determine which columns are binary and which aren't\n",
    "binary_cols = []\n",
    "non_binary_cols = []\n",
    "\n",
    "for col in annotations.columns:\n",
    "    #this is the number of datapoints in a column\n",
    "    if annotations[col].describe()[0] <= 10:\n",
    "        annotations = annotations.drop(col, axis=1)\n",
    "    elif len(annotations[col].value_counts()) == 2:\n",
    "        binary_cols.append(col)\n",
    "    elif len(annotations[col].value_counts()) > 2:\n",
    "        non_binary_cols.append(col)\n",
    "    else:\n",
    "        annotations = annotations.drop(col, axis=1)\n",
    "\n",
    "numeric_non_bin = []\n",
    "categorical_non_bin = []\n",
    "\n",
    "for item in non_binary_cols:\n",
    "    if np.issubdtype(annotations[item].dtype, np.number):\n",
    "        numeric_non_bin.append(item)\n",
    "        mean = annotations[item].mean()\n",
    "        annotations[item]= bf.binarizeCutOff(annotations, item, mean, \n",
    "                                             \"Above_Mean(\"+str(round(mean, 2))+\")\", \n",
    "                                             \"Below_Mean(\"+str(round(mean, 2))+\")\")\n",
    "    else:\n",
    "        categorical_non_bin.append(item)"
   ]
  },
  {
   "cell_type": "markdown",
   "metadata": {},
   "source": [
    "## Step 2a: Binarize column values"
   ]
  },
  {
   "cell_type": "code",
   "execution_count": null,
   "metadata": {
    "collapsed": true
   },
   "outputs": [],
   "source": [
    "tumor_site_map = {'Other':'Other',\n",
    "                  'Upper pole':'Pole',\n",
    "                  'Middle':'Pole',\n",
    "                  'Lower pole':'Pole'}\n",
    "\n",
    "annotations['tumor_site'] = bf.binarizeCategorical(annotations,\n",
    "                                                   'tumor_site',\n",
    "                                                   tumor_site_map)"
   ]
  },
  {
   "cell_type": "code",
   "execution_count": null,
   "metadata": {
    "collapsed": true
   },
   "outputs": [],
   "source": [
    "histologic_grade_map = {'G1':'G1or2',\n",
    "                        'G2':'G1or2',\n",
    "                        'G3':'G3or4',\n",
    "                        'G4':'G3or4'}\n",
    "\n",
    "annotations['histologic_grade'] = bf.binarizeCategorical(annotations, \n",
    "                                                         'histologic_grade',\n",
    "                                                         histologic_grade_map)"
   ]
  },
  {
   "cell_type": "code",
   "execution_count": null,
   "metadata": {
    "collapsed": true
   },
   "outputs": [],
   "source": [
    "tumor_stage_pathological_map = {'Stage I':'StageIorII', \n",
    "                                'Stage II':'StageIorII', \n",
    "                                'Stage III':'StageIIIorIV',\n",
    "                                'Stage V':'StageIIIorV'}\n",
    "\n",
    "annotations['tumor_stage_pathological'] = bf.binarizeCategorical(annotations,\n",
    "                                                                 'tumor_stage_pathological',\n",
    "                                                                 tumor_stage_pathological_map)"
   ]
  },
  {
   "cell_type": "code",
   "execution_count": null,
   "metadata": {
    "collapsed": true
   },
   "outputs": [],
   "source": [
    "pathologic_staging_map = {'pT3a':'pT3or4', \n",
    "                          'pT1a':'pT1or2', \n",
    "                          'pT1b':'pT1or2', \n",
    "                          'pT2a':'pT1or2', \n",
    "                          'pT2b':'pT1or2', \n",
    "                          'pT3':'pT3or4', \n",
    "                          'pT3b':'pT3or4', \n",
    "                          'pT4':'pT3or4'}\n",
    "\n",
    "annotations['pathologic_staging_primary_tumor_pT'] = bf.binarizeCategorical(annotations,\n",
    "                                                                            'pathologic_staging_primary_tumor_pT',\n",
    "                                                                            pathologic_staging_map)"
   ]
  },
  {
   "cell_type": "code",
   "execution_count": null,
   "metadata": {
    "collapsed": true
   },
   "outputs": [],
   "source": [
    "pathologic_lymph_map = {'pNX':'pNX', \n",
    "                        'pN0':'pN0or1', \n",
    "                        'pN1':'pN0or1'}\n",
    "\n",
    "annotations['pathologic_staging_regional_lymph_nodes_pN'] = bf.binarizeCategorical(annotations,\n",
    "                                                                                   'pathologic_staging_regional_lymph_nodes_pN',\n",
    "                                                                                   pathologic_lymph_map)"
   ]
  },
  {
   "cell_type": "code",
   "execution_count": null,
   "metadata": {
    "collapsed": true
   },
   "outputs": [],
   "source": [
    "pathologic_metastasis_map = {'Staging Incomplete':np.nan,\n",
    "                             'No pathologic evidence of distant metastasis':'No',\n",
    "                             'pM1':'pM1'}\n",
    "\n",
    "annotations['pathologic_staging_distant_metastasis_pM'] = bf.binarizeCategorical(annotations,\n",
    "                                                                                 'pathologic_staging_distant_metastasis_pM',\n",
    "                                                                                 pathologic_metastasis_map)"
   ]
  },
  {
   "cell_type": "code",
   "execution_count": null,
   "metadata": {
    "collapsed": true
   },
   "outputs": [],
   "source": [
    "annotations['clinical_staging_distant_metastasis_cM'] = annotations['clinical_staging_distant_metastasis_cM'].replace('Staging Incomplete', np.nan)"
   ]
  },
  {
   "cell_type": "code",
   "execution_count": null,
   "metadata": {
    "collapsed": true
   },
   "outputs": [],
   "source": [
    "serum_calcium_map = {'Not evaluated':np.nan,\n",
    "                     'Unknown':np.nan,\n",
    "                     'Normal':'Normal',\n",
    "                     'Low':'Abnormal',\n",
    "                     'Elevated':'Abnormal'}\n",
    "\n",
    "annotations['serum_calcium'] = bf.binarizeCategorical(annotations,\n",
    "                                                      'serum_calcium',\n",
    "                                                      serum_calcium_map)"
   ]
  },
  {
   "cell_type": "code",
   "execution_count": null,
   "metadata": {
    "collapsed": true
   },
   "outputs": [],
   "source": [
    "hemoglobin_map = {'Not evaluated':np.nan,\n",
    "                  'Unknown':np.nan,\n",
    "                  'Normal':'Normal',\n",
    "                  'Low':'Abnormal',\n",
    "                  'Elevated':'Abnormal'}\n",
    "\n",
    "annotations['hemoglobin'] = bf.binarizeCategorical(annotations,\n",
    "                                                   'hemoglobin',\n",
    "                                                   hemoglobin_map)"
   ]
  },
  {
   "cell_type": "code",
   "execution_count": null,
   "metadata": {
    "collapsed": true
   },
   "outputs": [],
   "source": [
    "white_cell_map = {'Not evaluated':np.nan,\n",
    "                  'Unknown':np.nan,\n",
    "                  'Normal':'Normal',\n",
    "                  'Low':'Abnormal',\n",
    "                  'Elevated':'Abnormal'}\n",
    "\n",
    "annotations['white_cell_count'] = bf.binarizeCategorical(annotations,\n",
    "                                                         'white_cell_count',\n",
    "                                                         white_cell_map)"
   ]
  },
  {
   "cell_type": "code",
   "execution_count": null,
   "metadata": {
    "collapsed": true
   },
   "outputs": [],
   "source": [
    "country_map = {'United States':'US', \n",
    "               'Poland':'Other',\n",
    "               'Other':'Other', \n",
    "               'Ukraine':'Other',\n",
    "               'Vietnam':'Other'}\n",
    "\n",
    "annotations['participant_country_of_origin'] = bf.binarizeCategorical(annotations,\n",
    "                                                                      'participant_country_of_origin',\n",
    "                                                                      country_map)"
   ]
  },
  {
   "cell_type": "code",
   "execution_count": null,
   "metadata": {
    "collapsed": true
   },
   "outputs": [],
   "source": [
    "annotations['margin_status'] = annotations['margin_status'].replace('Cannot be assessed', np.nan)"
   ]
  },
  {
   "cell_type": "code",
   "execution_count": null,
   "metadata": {
    "collapsed": true
   },
   "outputs": [],
   "source": [
    "annotations['residual_tumor'] = annotations['residual_tumor'].replace('RX:Presence of residual tumor cannot be assessed', np.nan)"
   ]
  },
  {
   "cell_type": "code",
   "execution_count": null,
   "metadata": {
    "collapsed": true
   },
   "outputs": [],
   "source": [
    "annotations['other_immunohistochemistry_performed'] = annotations['other_immunohistochemistry_performed'].replace('Unknown', np.nan)"
   ]
  },
  {
   "cell_type": "code",
   "execution_count": null,
   "metadata": {
    "collapsed": true
   },
   "outputs": [],
   "source": [
    "alcohol_map = {'Lifelong non-drinker':'Non-drinker',\n",
    "               'Alcohol consumption equal to or less than 2 drinks per day for men and 1 drink or less per day for women':'Previous_or_Current_Drinker',\n",
    "               'Alcohol consumption history not available':np.nan,\n",
    "               'Alcohol consumption more than 2 drinks per day for men and more than 1 drink per day for women':'Previous_or_Current_Drinker',\n",
    "               'Consumed alcohol in the past, but currently a non-drinker':'Previous_or_Current_Drinker'}\n",
    "\n",
    "annotations['alcohol_consumption'] = bf.binarizeCategorical(annotations, \n",
    "                                                            'alcohol_consumption', \n",
    "                                                            alcohol_map)"
   ]
  },
  {
   "cell_type": "code",
   "execution_count": null,
   "metadata": {
    "collapsed": true
   },
   "outputs": [],
   "source": [
    "tobacco_map = {'Lifelong non-smoker: Less than 100 cigarettes smoked in lifetime':'Non-smoker', \n",
    "               'Smoking history not available':np.nan, \n",
    "               'Current reformed smoker within past 15 years':'Non-smoker', \n",
    "               'Current smoker: Includes daily and non-daily smokers':'Current Smoker', \n",
    "               'Current reformed smoker, more than 15 years':'Non-smoker'}\n",
    "\n",
    "annotations['tobacco_smoking_history'] = bf.binarizeCategorical(annotations, \n",
    "                                                                'tobacco_smoking_history', \n",
    "                                                                tobacco_map)"
   ]
  },
  {
   "cell_type": "code",
   "execution_count": null,
   "metadata": {
    "collapsed": true
   },
   "outputs": [],
   "source": [
    "annotations['tumor_status_at_12months_follow_up'] = annotations['tumor_status_at_12months_follow_up'].replace('Unknown', np.nan)"
   ]
  },
  {
   "cell_type": "code",
   "execution_count": null,
   "metadata": {
    "collapsed": true
   },
   "outputs": [],
   "source": [
    "annotations['tumor_status_at_24months_follow_up'] = annotations['tumor_status_at_24months_follow_up'].replace('Unknown', np.nan)"
   ]
  },
  {
   "cell_type": "code",
   "execution_count": null,
   "metadata": {
    "collapsed": true
   },
   "outputs": [],
   "source": [
    "success_map1 = {'Complete Remission':'Complete_Remission', \n",
    "                'Not Applicable':np.nan, 'Unknown':np.nan, \n",
    "                'Persistent Disease':'Persistent_Disease_or_Deceased', \n",
    "                'Patient Deceased':'Persistent_Disease_or_Deceased'}\n",
    "\n",
    "annotations['success_of_initial_treatment_at_12months_follow_up'] = bf.binarizeCategorical(annotations, \n",
    "                                                                                           'success_of_initial_treatment_at_12months_follow_up', \n",
    "                                                                                           success_map1)"
   ]
  },
  {
   "cell_type": "code",
   "execution_count": null,
   "metadata": {
    "collapsed": true
   },
   "outputs": [],
   "source": [
    "success_map2 = {'Complete Remission':'Complete_Remission', \n",
    "                'Not Applicable':np.nan, 'Unknown':np.nan, \n",
    "                'Persistent Disease':'Persistent_Disease'}\n",
    "\n",
    "annotations['success_of_initial_treatment_at_24months_follow_up'] = bf.binarizeCategorical(annotations, \n",
    "                                                                                           'success_of_initial_treatment_at_24months_follow_up', \n",
    "                                                                                           success_map1)"
   ]
  },
  {
   "cell_type": "code",
   "execution_count": null,
   "metadata": {
    "collapsed": true
   },
   "outputs": [],
   "source": [
    "success_map3 = {'Complete Remission':'Complete_Remission', \n",
    "                'Not Applicable':np.nan, 'Unknown':np.nan, \n",
    "                'Persistent Disease':'Persistent_Disease_or_Deceased', \n",
    "                'Patient Deceased':'Persistent_Disease_or_Deceased'}\n",
    "\n",
    "annotations['success_of_treatment_at_12months_follow_up'] = bf.binarizeCategorical(annotations,\n",
    "                                                                                   'success_of_treatment_at_12months_follow_up',\n",
    "                                                                                   success_map3)"
   ]
  },
  {
   "cell_type": "code",
   "execution_count": null,
   "metadata": {
    "collapsed": true
   },
   "outputs": [],
   "source": [
    "success_map4 = {'Complete Remission':'Complete_Remission', \n",
    "                'Not Applicable':np.nan, 'Unknown':np.nan, \n",
    "                'Persistent Disease':'Persistent_Disease'}\n",
    "\n",
    "annotations['success_of_treatment_at_24months_follow_up'] = bf.binarizeCategorical(annotations,\n",
    "                                                                                   'success_of_treatment_at_24months_follow_up',\n",
    "                                                                                   success_map4)"
   ]
  },
  {
   "cell_type": "code",
   "execution_count": null,
   "metadata": {
    "collapsed": true
   },
   "outputs": [],
   "source": [
    "annotations['new_tumor_event_after_initial_treatment_at_12months_follow_up'] = annotations['new_tumor_event_after_initial_treatment_at_12months_follow_up'].replace('Unknown', np.nan)"
   ]
  },
  {
   "cell_type": "code",
   "execution_count": null,
   "metadata": {
    "collapsed": true
   },
   "outputs": [],
   "source": [
    "annotations['new_tumor_event_after_initial_treatment_at_24months_follow_up'] = annotations['new_tumor_event_after_initial_treatment_at_24months_follow_up'].replace('Unknown', np.nan)"
   ]
  },
  {
   "cell_type": "markdown",
   "metadata": {},
   "source": [
    "## Step 3: Perform outliers analysis"
   ]
  },
  {
   "cell_type": "code",
   "execution_count": null,
   "metadata": {
    "collapsed": true
   },
   "outputs": [],
   "source": [
    "outliers_prot = blsh.make_outliers_table(proteomics, iqrs=1.5, \n",
    "                                         up_or_down='up', \n",
    "                                         aggregate=False, \n",
    "                                         frac_table=False)                                        "
   ]
  },
  {
   "cell_type": "markdown",
   "metadata": {},
   "source": [
    "## Step 4: Wrap your A/B test into the outliers analysis, and create a table\n",
    "Note: compare_groups_outliers will break if there are duplicate gene names. Be sure to use the \n",
    "renameDuplicateColumns function if there are indexing errors"
   ]
  },
  {
   "cell_type": "code",
   "execution_count": null,
   "metadata": {},
   "outputs": [],
   "source": [
    "bf.renameDuplicateColumns(outliers_prot)\n",
    "\n",
    "results_prot = blsh.compare_groups_outliers(outliers_prot, \n",
    "                                            annotations)"
   ]
  },
  {
   "cell_type": "markdown",
   "metadata": {},
   "source": [
    "Many of the output values from compare_group_outliers are NaN, so here we will get rid of the NaN values for visualization purposes."
   ]
  },
  {
   "cell_type": "code",
   "execution_count": null,
   "metadata": {
    "collapsed": true
   },
   "outputs": [],
   "source": [
    "results_prot = results_prot.dropna(axis=0, how='all')"
   ]
  },
  {
   "cell_type": "markdown",
   "metadata": {},
   "source": [
    "## Step 5: Visualize these enrichments"
   ]
  },
  {
   "cell_type": "code",
   "execution_count": null,
   "metadata": {},
   "outputs": [],
   "source": [
    "#Drop Columns with less than 5 significant enrichments\n",
    "print(\"TESTING FOR PROTEOMICS:\")\n",
    "sig_cols = []\n",
    "for col in results_prot.columns:\n",
    "    sig_col = bf.significantEnrichments(results_prot, col, 0.01)\n",
    "    if sig_col is not None and len(sig_col) >= 5:\n",
    "        sig_cols.append(sig_col)\n",
    "        print(sig_col.head())\n",
    "    else:\n",
    "        results_prot = results_prot.drop(col, axis=1)"
   ]
  },
  {
   "cell_type": "code",
   "execution_count": null,
   "metadata": {},
   "outputs": [],
   "source": [
    "sns.heatmap(results_prot)\n",
    "plt.show()"
   ]
  },
  {
   "cell_type": "markdown",
   "metadata": {},
   "source": [
    "## Step 6: Determine significant enrichments, and link with cancer drug database."
   ]
  },
  {
   "cell_type": "code",
   "execution_count": null,
   "metadata": {},
   "outputs": [],
   "source": [
    "'''\n",
    "for col in sig_cols:\n",
    "    col_name = col.columns[0]\n",
    "    gene_name_list = list(col.index)\n",
    "    enrichment = gp.enrichr(gene_list = gene_name_list, \n",
    "                            description=col_name, \n",
    "                            gene_sets='KEGG_2019_Human', \n",
    "                            outdir='test/enrichr_kegg/renal',\n",
    "                            cutoff=0.5)\n",
    "    print(enrichment.res2d)\n",
    "    barplot(enrichment.res2d, title=col_name)\n",
    "'''"
   ]
  },
  {
   "cell_type": "code",
   "execution_count": null,
   "metadata": {},
   "outputs": [],
   "source": [
    "non_clear_sig_enrichments = sig_cols[1]\n",
    "sig_genes_non_clear = list(non_clear_sig_enrichments.index)\n",
    "r = bf.dgidb_get_request(sig_genes_non_clear)"
   ]
  },
  {
   "cell_type": "code",
   "execution_count": null,
   "metadata": {},
   "outputs": [],
   "source": [
    "r.json()"
   ]
  },
  {
   "cell_type": "code",
   "execution_count": null,
   "metadata": {},
   "outputs": [],
   "source": [
    "bf.dgidb_get_request(True)"
   ]
  },
  {
   "cell_type": "code",
   "execution_count": null,
   "metadata": {
    "collapsed": true
   },
   "outputs": [],
   "source": []
  }
 ],
 "metadata": {
  "kernelspec": {
   "display_name": "Python 3",
   "language": "python",
   "name": "python3"
  },
  "language_info": {
   "codemirror_mode": {
    "name": "ipython",
    "version": 3
   },
   "file_extension": ".py",
   "mimetype": "text/x-python",
   "name": "python",
   "nbconvert_exporter": "python",
   "pygments_lexer": "ipython3",
   "version": "3.6.2"
  }
 },
 "nbformat": 4,
 "nbformat_minor": 2
}
