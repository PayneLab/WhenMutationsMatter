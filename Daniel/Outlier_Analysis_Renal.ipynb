{
 "cells": [
  {
   "cell_type": "markdown",
   "metadata": {},
   "source": [
    "# BlackSheep Cookbook Exploration\n",
    "\n",
    "The Black Sheep Analysis allows researchers to find trends in abnormal protein enrichment among patients in CPTAC datasets. In this Cookbook, we will go through the steps needed to perform a full Black Sheep Analysis."
   ]
  },
  {
   "cell_type": "markdown",
   "metadata": {},
   "source": [
    "### Step 1a: Import Dependencies\n",
    "First, import the necessary dependencies and load cptac data."
   ]
  },
  {
   "cell_type": "code",
   "execution_count": 40,
   "metadata": {
    "collapsed": true
   },
   "outputs": [],
   "source": [
    "import numpy as np\n",
    "import pandas as pd\n",
    "import matplotlib.pyplot as plt\n",
    "import seaborn as sns\n",
    "import cptac\n",
    "import binarization_functions as bf\n",
    "import blackSheepCPTACmoduleCopy as blsh\n",
    "import gseapy as gp\n",
    "from gseapy.plot import barplot, heatmap, dotplot\n",
    "import json"
   ]
  },
  {
   "cell_type": "markdown",
   "metadata": {},
   "source": [
    "## Step 1b: Load Data and Choose Omics Table\n",
    "For this analysis, we will be looking at results across the proteomics, transcriptomics, and phosphoproteomics tables."
   ]
  },
  {
   "cell_type": "code",
   "execution_count": 2,
   "metadata": {},
   "outputs": [
    {
     "name": "stdout",
     "output_type": "stream",
     "text": [
      "All files already downloaded and correct.\n"
     ]
    },
    {
     "data": {
      "text/plain": [
       "True"
      ]
     },
     "execution_count": 2,
     "metadata": {},
     "output_type": "execute_result"
    }
   ],
   "source": [
    "cptac.download(dataset='renalccrcc')"
   ]
  },
  {
   "cell_type": "code",
   "execution_count": 3,
   "metadata": {},
   "outputs": [
    {
     "name": "stdout",
     "output_type": "stream",
     "text": [
      "                                    \r"
     ]
    }
   ],
   "source": [
    "re = cptac.RenalCcrcc()\n",
    "proteomics = re.get_proteomics()\n",
    "transcriptomics = re.get_transcriptomics()\n",
    "clinical = re.get_clinical()"
   ]
  },
  {
   "cell_type": "markdown",
   "metadata": {},
   "source": [
    "## Step 2: Determine what attributes you would like to A/B test. \n",
    "For this analysis, we will iteratively go through the various columns in the clinical dataset, to determine if any of them have trends within them for protein enrichment."
   ]
  },
  {
   "cell_type": "code",
   "execution_count": 4,
   "metadata": {
    "collapsed": true
   },
   "outputs": [],
   "source": [
    "#Create a copy of the original Clinical DataFrame\n",
    "annotations = pd.DataFrame(clinical.copy())"
   ]
  },
  {
   "cell_type": "code",
   "execution_count": 5,
   "metadata": {
    "collapsed": true
   },
   "outputs": [],
   "source": [
    "#Convert columns that should be numeric to numeric\n",
    "annotations['age'] = annotations['age'].replace('>=90', 90)\n",
    "annotations['age'] = pd.to_numeric(annotations['age'])\n",
    "\n",
    "annotations['age_started_smoking'] = annotations['age_started_smoking'].replace('Unknown', np.nan)\n",
    "annotations['age_started_smoking'] = pd.to_numeric(annotations['age_started_smoking'])\n",
    "\n",
    "annotations['age_stopped_smoking'] = annotations['age_stopped_smoking'].replace('Unknown', np.nan)\n",
    "annotations['age_stopped_smoking'] = pd.to_numeric(annotations['age_stopped_smoking'])\n",
    "\n",
    "annotations['how_many_cigarettes_usually_smoke_on_the_days_participant_smoked'] = annotations['how_many_cigarettes_usually_smoke_on_the_days_participant_smoked'].replace('Unknown', np.nan)\n",
    "annotations['how_many_cigarettes_usually_smoke_on_the_days_participant_smoked'] = pd.to_numeric(annotations['how_many_cigarettes_usually_smoke_on_the_days_participant_smoked'])"
   ]
  },
  {
   "cell_type": "code",
   "execution_count": 6,
   "metadata": {
    "collapsed": true
   },
   "outputs": [],
   "source": [
    "#Drop irrelevant columns\n",
    "irrelevant_cols = ['Patient_ID', 'height_in_cm', 'weight_in_kg', 'race', 'ethnicity', \n",
    "                   'ethnicity_self_identified','tumor_site_other', 'sarcomatoid_features', \n",
    "                   'pathologic_findings_in_nonneoplastic_kidney_specify', \n",
    "                   'other_immunohistochemistry_specify', 'other_testing_performed', \n",
    "                   'other_coagulopathies', 'exposure_to_secondhand_smoke', \n",
    "                   'tumor_tissue_collection_clamps_used','tumor_tissue_collection_frozen_with_OCT', \n",
    "                   'preoperative_IV_sedation_administered',  'preoperative_IV_opiates_administered', \n",
    "                   'preoperative_IV_antiemetics_administered','preoperative_IV_anti_acids_administered', \n",
    "                   'other_preoperative_IV_medications_administered', 'platelets',\n",
    "                   'local_anesthesia_agents_administered', 'regional_anesthesia_agents_administered', \n",
    "                   'IV_anesthesia_agents_administered', 'IV_narcotic_opiate_agents_administered', \n",
    "                   'IV_muscle_relaxants_administered', 'inhalation_anesthesia_agents_administered', \n",
    "                   'additional_anesthesia', 'other_medications_administered_during_surgery', \n",
    "                   'surgical_procedure', 'epochs_of_oxygen_desaturation', 'time_specimen_left_OR', \n",
    "                   'first_participant_temperature_recorded_in_OR', 'first_temperature_recorded_in_OR_units', \n",
    "                   'first_temperature_recorded_in_OR_celsius', 'time_of_first_temperature', \n",
    "                   'first_temperature_recorded_in_OR_fahrenheit', 'second_participant_temperature_recorded_in_OR', \n",
    "                   'second_temperature_recorded_in_OR_units','second_temperature_recorded_in_OR_celsius', \n",
    "                   'second_temperature_recorded_in_OR_fahrenheit', 'time_of_second_temperature', \n",
    "                   'Karnofsky_score_at_12months_follow_up', 'Karnofsky_score_at_24months_follow_up', \n",
    "                   'performance_status_scale_timing_at_12months_follow_up', \n",
    "                   'performance_status_scale_timing_at_24months_follow_up', \n",
    "                   'adjuvant_postoperative_radiation_therapy_at_12months_follow_up', \n",
    "                   'adjuvant_postoperative_radiation_therapy_at_24months_follow_up',  \n",
    "                   'adjuvant_postoperative_immunological_therapy_at_12months_follow_up', \n",
    "                   'adjuvant_postoperative_immunological_therapy_at_24months_follow_up', \n",
    "                   'adjuvant_postoperative_pharmaceutical_therapy_at_12months_follow_up', \n",
    "                   'adjuvant_postoperative_pharmaceutical_therapy_at_24months_follow_up', \n",
    "                   'ECOG_score_at_12months_follow_up', 'ECOG_score_at_24months_follow_up', \n",
    "                   'specimen_id', 'slide_id', 'Presence_sarcomatoid_features', \n",
    "                   'non_cellular_component_description', 'meets_required_criteria', \n",
    "                   'histologic_type_of_normal_tissue', 'findings_not_consistent_with_local_pathology_report', \n",
    "                   'minutes_clamp_1_to_collection', 'minutes_clamp_2_to_collection', \n",
    "                   'consistent_with_diagnostic_report', 'patient_medications']\n",
    "\n",
    "annotations = annotations.drop(irrelevant_cols, axis=1)\n",
    "\n",
    "#Columns we should either drop, or be generally skeptical of in our analysis\n",
    "questionable_cols = ['specify_distant_metastasis_documented_sites', \n",
    "                     'erythrocyte_sedimentation_rate', \n",
    "                     'renal_vein_or_vena_cava_thrombosis', \n",
    "                     'CO2_level_recorded_at_time_closest_to_organ_excision']\n",
    "\n",
    "annotations = annotations.drop(questionable_cols, axis=1)"
   ]
  },
  {
   "cell_type": "code",
   "execution_count": 7,
   "metadata": {
    "collapsed": true
   },
   "outputs": [],
   "source": [
    "#Determine which columns are binary and which aren't\n",
    "binary_cols = []\n",
    "non_binary_cols = []\n",
    "\n",
    "for col in annotations.columns:\n",
    "    #this is the number of datapoints in a column\n",
    "    if annotations[col].describe()[0] <= 10:\n",
    "        annotations = annotations.drop(col, axis=1)\n",
    "    elif len(annotations[col].value_counts()) == 2:\n",
    "        binary_cols.append(col)\n",
    "    elif len(annotations[col].value_counts()) > 2:\n",
    "        non_binary_cols.append(col)\n",
    "    else:\n",
    "        annotations = annotations.drop(col, axis=1)\n",
    "\n",
    "numeric_non_bin = []\n",
    "categorical_non_bin = []\n",
    "\n",
    "for item in non_binary_cols:\n",
    "    if np.issubdtype(annotations[item].dtype, np.number):\n",
    "        numeric_non_bin.append(item)\n",
    "        mean = annotations[item].mean()\n",
    "        annotations[item]= bf.binarizeCutOff(annotations, item, mean, \n",
    "                                             \"Above_Mean(\"+str(round(mean, 2))+\")\", \n",
    "                                             \"Below_Mean(\"+str(round(mean, 2))+\")\")\n",
    "    else:\n",
    "        categorical_non_bin.append(item)"
   ]
  },
  {
   "cell_type": "markdown",
   "metadata": {},
   "source": [
    "## Step 2a: Binarize column values"
   ]
  },
  {
   "cell_type": "code",
   "execution_count": 8,
   "metadata": {
    "collapsed": true
   },
   "outputs": [],
   "source": [
    "tumor_site_map = {'Other':'Other',\n",
    "                  'Upper pole':'Pole',\n",
    "                  'Middle':'Pole',\n",
    "                  'Lower pole':'Pole'}\n",
    "\n",
    "annotations['tumor_site'] = bf.binarizeCategorical(annotations,\n",
    "                                                   'tumor_site',\n",
    "                                                   tumor_site_map)"
   ]
  },
  {
   "cell_type": "code",
   "execution_count": 9,
   "metadata": {
    "collapsed": true
   },
   "outputs": [],
   "source": [
    "histologic_grade_map = {'G1':'G1or2',\n",
    "                        'G2':'G1or2',\n",
    "                        'G3':'G3or4',\n",
    "                        'G4':'G3or4'}\n",
    "\n",
    "annotations['histologic_grade'] = bf.binarizeCategorical(annotations, \n",
    "                                                         'histologic_grade',\n",
    "                                                         histologic_grade_map)"
   ]
  },
  {
   "cell_type": "code",
   "execution_count": 10,
   "metadata": {
    "collapsed": true
   },
   "outputs": [],
   "source": [
    "tumor_stage_pathological_map = {'Stage I':'StageIorII', \n",
    "                                'Stage II':'StageIorII', \n",
    "                                'Stage III':'StageIIIorIV',\n",
    "                                'Stage V':'StageIIIorV'}\n",
    "\n",
    "annotations['tumor_stage_pathological'] = bf.binarizeCategorical(annotations,\n",
    "                                                                 'tumor_stage_pathological',\n",
    "                                                                 tumor_stage_pathological_map)"
   ]
  },
  {
   "cell_type": "code",
   "execution_count": 11,
   "metadata": {
    "collapsed": true
   },
   "outputs": [],
   "source": [
    "pathologic_staging_map = {'pT3a':'pT3or4', \n",
    "                          'pT1a':'pT1or2', \n",
    "                          'pT1b':'pT1or2', \n",
    "                          'pT2a':'pT1or2', \n",
    "                          'pT2b':'pT1or2', \n",
    "                          'pT3':'pT3or4', \n",
    "                          'pT3b':'pT3or4', \n",
    "                          'pT4':'pT3or4'}\n",
    "\n",
    "annotations['pathologic_staging_primary_tumor_pT'] = bf.binarizeCategorical(annotations,\n",
    "                                                                            'pathologic_staging_primary_tumor_pT',\n",
    "                                                                            pathologic_staging_map)"
   ]
  },
  {
   "cell_type": "code",
   "execution_count": 12,
   "metadata": {
    "collapsed": true
   },
   "outputs": [],
   "source": [
    "pathologic_lymph_map = {'pNX':'pNX', \n",
    "                        'pN0':'pN0or1', \n",
    "                        'pN1':'pN0or1'}\n",
    "\n",
    "annotations['pathologic_staging_regional_lymph_nodes_pN'] = bf.binarizeCategorical(annotations,\n",
    "                                                                                   'pathologic_staging_regional_lymph_nodes_pN',\n",
    "                                                                                   pathologic_lymph_map)"
   ]
  },
  {
   "cell_type": "code",
   "execution_count": 13,
   "metadata": {
    "collapsed": true
   },
   "outputs": [],
   "source": [
    "pathologic_metastasis_map = {'Staging Incomplete':np.nan,\n",
    "                             'No pathologic evidence of distant metastasis':'No',\n",
    "                             'pM1':'pM1'}\n",
    "\n",
    "annotations['pathologic_staging_distant_metastasis_pM'] = bf.binarizeCategorical(annotations,\n",
    "                                                                                 'pathologic_staging_distant_metastasis_pM',\n",
    "                                                                                 pathologic_metastasis_map)"
   ]
  },
  {
   "cell_type": "code",
   "execution_count": 14,
   "metadata": {
    "collapsed": true
   },
   "outputs": [],
   "source": [
    "annotations['clinical_staging_distant_metastasis_cM'] = annotations['clinical_staging_distant_metastasis_cM'].replace('Staging Incomplete', np.nan)"
   ]
  },
  {
   "cell_type": "code",
   "execution_count": 15,
   "metadata": {
    "collapsed": true
   },
   "outputs": [],
   "source": [
    "serum_calcium_map = {'Not evaluated':np.nan,\n",
    "                     'Unknown':np.nan,\n",
    "                     'Normal':'Normal',\n",
    "                     'Low':'Abnormal',\n",
    "                     'Elevated':'Abnormal'}\n",
    "\n",
    "annotations['serum_calcium'] = bf.binarizeCategorical(annotations,\n",
    "                                                      'serum_calcium',\n",
    "                                                      serum_calcium_map)"
   ]
  },
  {
   "cell_type": "code",
   "execution_count": 16,
   "metadata": {
    "collapsed": true
   },
   "outputs": [],
   "source": [
    "hemoglobin_map = {'Not evaluated':np.nan,\n",
    "                  'Unknown':np.nan,\n",
    "                  'Normal':'Normal',\n",
    "                  'Low':'Abnormal',\n",
    "                  'Elevated':'Abnormal'}\n",
    "\n",
    "annotations['hemoglobin'] = bf.binarizeCategorical(annotations,\n",
    "                                                   'hemoglobin',\n",
    "                                                   hemoglobin_map)"
   ]
  },
  {
   "cell_type": "code",
   "execution_count": 17,
   "metadata": {
    "collapsed": true
   },
   "outputs": [],
   "source": [
    "white_cell_map = {'Not evaluated':np.nan,\n",
    "                  'Unknown':np.nan,\n",
    "                  'Normal':'Normal',\n",
    "                  'Low':'Abnormal',\n",
    "                  'Elevated':'Abnormal'}\n",
    "\n",
    "annotations['white_cell_count'] = bf.binarizeCategorical(annotations,\n",
    "                                                         'white_cell_count',\n",
    "                                                         white_cell_map)"
   ]
  },
  {
   "cell_type": "code",
   "execution_count": 18,
   "metadata": {
    "collapsed": true
   },
   "outputs": [],
   "source": [
    "country_map = {'United States':'US', \n",
    "               'Poland':'Other',\n",
    "               'Other':'Other', \n",
    "               'Ukraine':'Other',\n",
    "               'Vietnam':'Other'}\n",
    "\n",
    "annotations['participant_country_of_origin'] = bf.binarizeCategorical(annotations,\n",
    "                                                                      'participant_country_of_origin',\n",
    "                                                                      country_map)"
   ]
  },
  {
   "cell_type": "code",
   "execution_count": 19,
   "metadata": {
    "collapsed": true
   },
   "outputs": [],
   "source": [
    "annotations['margin_status'] = annotations['margin_status'].replace('Cannot be assessed', np.nan)"
   ]
  },
  {
   "cell_type": "code",
   "execution_count": 20,
   "metadata": {
    "collapsed": true
   },
   "outputs": [],
   "source": [
    "annotations['residual_tumor'] = annotations['residual_tumor'].replace('RX:Presence of residual tumor cannot be assessed', np.nan)"
   ]
  },
  {
   "cell_type": "code",
   "execution_count": 21,
   "metadata": {
    "collapsed": true
   },
   "outputs": [],
   "source": [
    "annotations['other_immunohistochemistry_performed'] = annotations['other_immunohistochemistry_performed'].replace('Unknown', np.nan)"
   ]
  },
  {
   "cell_type": "code",
   "execution_count": 22,
   "metadata": {
    "collapsed": true
   },
   "outputs": [],
   "source": [
    "alcohol_map = {'Lifelong non-drinker':'Non-drinker',\n",
    "               'Alcohol consumption equal to or less than 2 drinks per day for men and 1 drink or less per day for women':'Previous_or_Current_Drinker',\n",
    "               'Alcohol consumption history not available':np.nan,\n",
    "               'Alcohol consumption more than 2 drinks per day for men and more than 1 drink per day for women':'Previous_or_Current_Drinker',\n",
    "               'Consumed alcohol in the past, but currently a non-drinker':'Previous_or_Current_Drinker'}\n",
    "\n",
    "annotations['alcohol_consumption'] = bf.binarizeCategorical(annotations, \n",
    "                                                            'alcohol_consumption', \n",
    "                                                            alcohol_map)"
   ]
  },
  {
   "cell_type": "code",
   "execution_count": 23,
   "metadata": {
    "collapsed": true
   },
   "outputs": [],
   "source": [
    "tobacco_map = {'Lifelong non-smoker: Less than 100 cigarettes smoked in lifetime':'Non-smoker', \n",
    "               'Smoking history not available':np.nan, \n",
    "               'Current reformed smoker within past 15 years':'Non-smoker', \n",
    "               'Current smoker: Includes daily and non-daily smokers':'Current Smoker', \n",
    "               'Current reformed smoker, more than 15 years':'Non-smoker'}\n",
    "\n",
    "annotations['tobacco_smoking_history'] = bf.binarizeCategorical(annotations, \n",
    "                                                                'tobacco_smoking_history', \n",
    "                                                                tobacco_map)"
   ]
  },
  {
   "cell_type": "code",
   "execution_count": 24,
   "metadata": {
    "collapsed": true
   },
   "outputs": [],
   "source": [
    "annotations['tumor_status_at_12months_follow_up'] = annotations['tumor_status_at_12months_follow_up'].replace('Unknown', np.nan)"
   ]
  },
  {
   "cell_type": "code",
   "execution_count": 25,
   "metadata": {
    "collapsed": true
   },
   "outputs": [],
   "source": [
    "annotations['tumor_status_at_24months_follow_up'] = annotations['tumor_status_at_24months_follow_up'].replace('Unknown', np.nan)"
   ]
  },
  {
   "cell_type": "code",
   "execution_count": 26,
   "metadata": {
    "collapsed": true
   },
   "outputs": [],
   "source": [
    "success_map1 = {'Complete Remission':'Complete_Remission', \n",
    "                'Not Applicable':np.nan, 'Unknown':np.nan, \n",
    "                'Persistent Disease':'Persistent_Disease_or_Deceased', \n",
    "                'Patient Deceased':'Persistent_Disease_or_Deceased'}\n",
    "\n",
    "annotations['success_of_initial_treatment_at_12months_follow_up'] = bf.binarizeCategorical(annotations, \n",
    "                                                                                           'success_of_initial_treatment_at_12months_follow_up', \n",
    "                                                                                           success_map1)"
   ]
  },
  {
   "cell_type": "code",
   "execution_count": 27,
   "metadata": {
    "collapsed": true
   },
   "outputs": [],
   "source": [
    "success_map2 = {'Complete Remission':'Complete_Remission', \n",
    "                'Not Applicable':np.nan, 'Unknown':np.nan, \n",
    "                'Persistent Disease':'Persistent_Disease'}\n",
    "\n",
    "annotations['success_of_initial_treatment_at_24months_follow_up'] = bf.binarizeCategorical(annotations, \n",
    "                                                                                           'success_of_initial_treatment_at_24months_follow_up', \n",
    "                                                                                           success_map1)"
   ]
  },
  {
   "cell_type": "code",
   "execution_count": 28,
   "metadata": {
    "collapsed": true
   },
   "outputs": [],
   "source": [
    "success_map3 = {'Complete Remission':'Complete_Remission', \n",
    "                'Not Applicable':np.nan, 'Unknown':np.nan, \n",
    "                'Persistent Disease':'Persistent_Disease_or_Deceased', \n",
    "                'Patient Deceased':'Persistent_Disease_or_Deceased'}\n",
    "\n",
    "annotations['success_of_treatment_at_12months_follow_up'] = bf.binarizeCategorical(annotations,\n",
    "                                                                                   'success_of_treatment_at_12months_follow_up',\n",
    "                                                                                   success_map3)"
   ]
  },
  {
   "cell_type": "code",
   "execution_count": 29,
   "metadata": {
    "collapsed": true
   },
   "outputs": [],
   "source": [
    "success_map4 = {'Complete Remission':'Complete_Remission', \n",
    "                'Not Applicable':np.nan, 'Unknown':np.nan, \n",
    "                'Persistent Disease':'Persistent_Disease'}\n",
    "\n",
    "annotations['success_of_treatment_at_24months_follow_up'] = bf.binarizeCategorical(annotations,\n",
    "                                                                                   'success_of_treatment_at_24months_follow_up',\n",
    "                                                                                   success_map4)"
   ]
  },
  {
   "cell_type": "code",
   "execution_count": 30,
   "metadata": {
    "collapsed": true
   },
   "outputs": [],
   "source": [
    "annotations['new_tumor_event_after_initial_treatment_at_12months_follow_up'] = annotations['new_tumor_event_after_initial_treatment_at_12months_follow_up'].replace('Unknown', np.nan)"
   ]
  },
  {
   "cell_type": "code",
   "execution_count": 31,
   "metadata": {
    "collapsed": true
   },
   "outputs": [],
   "source": [
    "annotations['new_tumor_event_after_initial_treatment_at_24months_follow_up'] = annotations['new_tumor_event_after_initial_treatment_at_24months_follow_up'].replace('Unknown', np.nan)"
   ]
  },
  {
   "cell_type": "markdown",
   "metadata": {},
   "source": [
    "## Step 3: Perform outliers analysis"
   ]
  },
  {
   "cell_type": "code",
   "execution_count": 32,
   "metadata": {
    "collapsed": true
   },
   "outputs": [],
   "source": [
    "outliers_prot = blsh.make_outliers_table(proteomics, iqrs=1.5, \n",
    "                                         up_or_down='up', \n",
    "                                         aggregate=False, \n",
    "                                         frac_table=False)                                        "
   ]
  },
  {
   "cell_type": "markdown",
   "metadata": {},
   "source": [
    "## Step 4: Wrap your A/B test into the outliers analysis, and create a table\n",
    "Note: compare_groups_outliers will break if there are duplicate gene names. Be sure to use the \n",
    "renameDuplicateColumns function if there are indexing errors"
   ]
  },
  {
   "cell_type": "code",
   "execution_count": 33,
   "metadata": {},
   "outputs": [
    {
     "name": "stdout",
     "output_type": "stream",
     "text": [
      "No rows had outliers in at least 0.3 of Sample_Tumor_Normal Tumor samples\n",
      "Testing 1 rows for enrichment in Sample_Tumor_Normal Normal samples\n",
      "No rows had outliers in at least 0.3 of tumor/normal TN samples\n",
      "No rows had outliers in at least 0.3 of tumor/normal T samples\n",
      "No rows had outliers in at least 0.3 of gender Male samples\n",
      "Testing 10 rows for enrichment in gender Female samples\n",
      "No rows had outliers in at least 0.3 of age Above_Mean(60.69) samples\n",
      "No rows had outliers in at least 0.3 of age Below_Mean(60.69) samples\n",
      "No rows had outliers in at least 0.3 of height_in_inch Above_Mean(67.84) samples\n",
      "No rows had outliers in at least 0.3 of height_in_inch Below_Mean(67.84) samples\n",
      "No rows had outliers in at least 0.3 of weight_in_lb Below_Mean(205.92) samples\n",
      "Testing 1 rows for enrichment in weight_in_lb Above_Mean(205.92) samples\n",
      "No rows had outliers in at least 0.3 of BMI Below_Mean(31.37) samples\n",
      "No rows had outliers in at least 0.3 of BMI Above_Mean(31.37) samples\n",
      "No rows had outliers in at least 0.3 of tumor_site Pole samples\n",
      "Testing 14 rows for enrichment in tumor_site Other samples\n",
      "No rows had outliers in at least 0.3 of tumor_size_in_cm Below_Mean(6.47) samples\n",
      "Testing 2 rows for enrichment in tumor_size_in_cm Above_Mean(6.47) samples\n",
      "No rows had outliers in at least 0.3 of tumor_focality Unifocal samples\n",
      "Testing 108 rows for enrichment in tumor_focality Multifocal samples\n",
      "No rows had outliers in at least 0.3 of histologic_type Clear cell renal cell carcinoma samples\n",
      "Testing 180 rows for enrichment in histologic_type non-Clear Cell renal cell carcinoma samples\n",
      "Testing 1 rows for enrichment in histologic_grade G1or2 samples\n",
      "Testing 8 rows for enrichment in histologic_grade G3or4 samples\n",
      "No rows had outliers in at least 0.3 of tumor_stage_pathological StageIorII samples\n",
      "Testing 1 rows for enrichment in tumor_stage_pathological StageIIIorIV samples\n",
      "Testing 1 rows for enrichment in pathologic_staging_primary_tumor_pT pT1or2 samples\n",
      "Testing 2 rows for enrichment in pathologic_staging_primary_tumor_pT pT3or4 samples\n",
      "No rows had outliers in at least 0.3 of pathologic_staging_regional_lymph_nodes_pN pNX samples\n",
      "Testing 11 rows for enrichment in pathologic_staging_regional_lymph_nodes_pN pN0or1 samples\n",
      "Testing 2 rows for enrichment in pathologic_staging_distant_metastasis_pM No samples\n",
      "Testing 78 rows for enrichment in pathologic_staging_distant_metastasis_pM pM1 samples\n",
      "Testing 1 rows for enrichment in clinical_staging_distant_metastasis_cM cM0 samples\n",
      "Testing 26 rows for enrichment in clinical_staging_distant_metastasis_cM cM1 samples\n",
      "Testing 6 rows for enrichment in serum_calcium Normal samples\n",
      "Testing 31 rows for enrichment in serum_calcium Abnormal samples\n",
      "Testing 1 rows for enrichment in hemoglobin Normal samples\n",
      "No rows had outliers in at least 0.3 of hemoglobin Abnormal samples\n",
      "No rows had outliers in at least 0.3 of white_cell_count Normal samples\n",
      "Testing 11 rows for enrichment in white_cell_count Abnormal samples\n",
      "No rows had outliers in at least 0.3 of history_of_cancer No samples\n",
      "Testing 409 rows for enrichment in history_of_cancer Yes samples\n",
      "No rows had outliers in at least 0.3 of vital_status_at_12months_follow_up Living samples\n",
      "Testing 44 rows for enrichment in vital_status_at_12months_follow_up Deceased samples\n",
      "Testing 1 rows for enrichment in vital_status_at_24months_follow_up Living samples\n",
      "Testing 255 rows for enrichment in vital_status_at_24months_follow_up Deceased samples\n",
      "No rows had outliers in at least 0.3 of participant_in_US Yes samples\n",
      "No rows had outliers in at least 0.3 of participant_in_US No samples\n",
      "No rows had outliers in at least 0.3 of participant_country_of_origin Other samples\n",
      "Testing 1 rows for enrichment in participant_country_of_origin US samples\n",
      "No rows had outliers in at least 0.3 of tumor_laterality Right Kidney samples\n",
      "No rows had outliers in at least 0.3 of tumor_laterality Left Kidney samples\n",
      "No rows had outliers in at least 0.3 of tumor_necrosis Not identified samples\n",
      "Testing 8 rows for enrichment in tumor_necrosis Present samples\n",
      "No rows had outliers in at least 0.3 of margin_status Margins uninvolved by invasive carcinoma samples\n",
      "Testing 96 rows for enrichment in margin_status Margin(s) involved by invasive carcinoma samples\n",
      "Testing 11 rows for enrichment in number_of_lymph_nodes_examined Below_Mean(7.47) samples\n",
      "Testing 186 rows for enrichment in number_of_lymph_nodes_examined Above_Mean(7.47) samples\n",
      "No rows had outliers in at least 0.3 of residual_tumor R0:No residual tumor samples\n",
      "Testing 92 rows for enrichment in residual_tumor R1:Microscopic residual tumor samples\n",
      "No rows had outliers in at least 0.3 of paraneoplastic_syndrome No samples\n",
      "Testing 5 rows for enrichment in paraneoplastic_syndrome Unknown samples\n",
      "No rows had outliers in at least 0.3 of other_immunohistochemistry_performed No samples\n",
      "Testing 3 rows for enrichment in other_immunohistochemistry_performed Yes samples\n",
      "No rows had outliers in at least 0.3 of alcohol_consumption Previous_or_Current_Drinker samples\n",
      "Testing 3 rows for enrichment in alcohol_consumption Non-drinker samples\n",
      "No rows had outliers in at least 0.3 of tobacco_smoking_history Non-smoker samples\n",
      "Testing 19 rows for enrichment in tobacco_smoking_history Current Smoker samples\n",
      "Testing 3 rows for enrichment in age_started_smoking Below_Mean(22.33) samples\n",
      "Testing 25 rows for enrichment in age_started_smoking Above_Mean(22.33) samples\n",
      "Testing 40 rows for enrichment in age_stopped_smoking Below_Mean(48.24) samples\n",
      "Testing 50 rows for enrichment in age_stopped_smoking Above_Mean(48.24) samples\n",
      "Testing 3 rows for enrichment in how_many_cigarettes_usually_smoke_on_the_days_participant_smoked Above_Mean(19.0) samples\n",
      "Testing 28 rows for enrichment in how_many_cigarettes_usually_smoke_on_the_days_participant_smoked Below_Mean(19.0) samples\n",
      "Testing 17 rows for enrichment in number_of_pack_years_smoked Below_Mean(28.88) samples\n",
      "Testing 3 rows for enrichment in number_of_pack_years_smoked Above_Mean(28.88) samples\n",
      "No rows had outliers in at least 0.3 of anesthesia_insulin No samples\n",
      "Testing 64 rows for enrichment in anesthesia_insulin Yes samples\n",
      "No rows had outliers in at least 0.3 of anesthesia_steroids No samples\n",
      "Testing 10 rows for enrichment in anesthesia_steroids Yes samples\n",
      "No rows had outliers in at least 0.3 of anesthesia_antibiotics No samples\n",
      "Testing 1 rows for enrichment in anesthesia_antibiotics Yes samples\n",
      "Testing 229 rows for enrichment in days_from_initial_diagnosis_to_new_tumor_event_after_initial_treatment Above_Mean(271.18) samples\n",
      "Testing 58 rows for enrichment in days_from_initial_diagnosis_to_new_tumor_event_after_initial_treatment Below_Mean(271.18) samples\n",
      "No rows had outliers in at least 0.3 of tumor_status_at_12months_follow_up Tumor Free samples\n",
      "Testing 37 rows for enrichment in tumor_status_at_12months_follow_up With Tumor samples\n",
      "Testing 1 rows for enrichment in tumor_status_at_24months_follow_up Tumor Free samples\n",
      "Testing 23 rows for enrichment in tumor_status_at_24months_follow_up With Tumor samples\n",
      "No rows had outliers in at least 0.3 of is_this_patient_lost_at_12months_follow_up No samples\n",
      "Testing 10 rows for enrichment in is_this_patient_lost_at_12months_follow_up Yes samples\n",
      "Testing 1 rows for enrichment in is_this_patient_lost_at_24months_follow_up No samples\n",
      "Testing 26 rows for enrichment in is_this_patient_lost_at_24months_follow_up Yes samples\n",
      "No rows had outliers in at least 0.3 of success_of_initial_treatment_at_12months_follow_up Complete_Remission samples\n",
      "Testing 19 rows for enrichment in success_of_initial_treatment_at_12months_follow_up Persistent_Disease_or_Deceased samples\n",
      "Testing 1 rows for enrichment in success_of_initial_treatment_at_24months_follow_up Complete_Remission samples\n",
      "Testing 334 rows for enrichment in success_of_initial_treatment_at_24months_follow_up Persistent_Disease_or_Deceased samples\n",
      "Testing 1 rows for enrichment in success_of_treatment_at_12months_follow_up Complete_Remission samples\n",
      "Testing 34 rows for enrichment in success_of_treatment_at_12months_follow_up Persistent_Disease_or_Deceased samples\n",
      "No rows had outliers in at least 0.3 of success_of_treatment_at_24months_follow_up Complete_Remission samples\n"
     ]
    },
    {
     "name": "stdout",
     "output_type": "stream",
     "text": [
      "Testing 100 rows for enrichment in success_of_treatment_at_24months_follow_up Persistent_Disease samples\n",
      "No rows had outliers in at least 0.3 of new_tumor_event_after_initial_treatment_at_12months_follow_up No samples\n",
      "Testing 20 rows for enrichment in new_tumor_event_after_initial_treatment_at_12months_follow_up Yes samples\n",
      "Testing 1 rows for enrichment in new_tumor_event_after_initial_treatment_at_24months_follow_up No samples\n",
      "Testing 57 rows for enrichment in new_tumor_event_after_initial_treatment_at_24months_follow_up Yes samples\n",
      "No rows had outliers in at least 0.3 of days_from_initial_diagnosis_to_last_contact_at_12months_follow_up Above_Mean(299.83) samples\n",
      "Testing 1 rows for enrichment in days_from_initial_diagnosis_to_last_contact_at_12months_follow_up Below_Mean(299.83) samples\n",
      "Testing 1 rows for enrichment in days_from_initial_diagnosis_to_last_contact_at_24months_follow_up Above_Mean(636.5) samples\n",
      "Testing 6 rows for enrichment in days_from_initial_diagnosis_to_last_contact_at_24months_follow_up Below_Mean(636.5) samples\n",
      "No rows had outliers in at least 0.3 of percent_tumor_surface_area Above_Mean(95.86) samples\n",
      "No rows had outliers in at least 0.3 of percent_tumor_surface_area Below_Mean(95.86) samples\n",
      "No rows had outliers in at least 0.3 of percent_total_cellularity Above_Mean(81.95) samples\n",
      "Testing 3 rows for enrichment in percent_total_cellularity Below_Mean(81.95) samples\n",
      "Testing 2 rows for enrichment in percent_tumor_nuclei Below_Mean(86.09) samples\n",
      "No rows had outliers in at least 0.3 of percent_tumor_nuclei Above_Mean(86.09) samples\n",
      "No rows had outliers in at least 0.3 of percent_necrotic_surface_area Below_Mean(5.29) samples\n",
      "Testing 6 rows for enrichment in percent_necrotic_surface_area Above_Mean(5.29) samples\n",
      "No rows had outliers in at least 0.3 of consistent_with_local_pathology_report Yes samples\n",
      "No rows had outliers in at least 0.3 of consistent_with_local_pathology_report No samples\n",
      "No rows had outliers in at least 0.3 of weight_in_mg Below_Mean(364.37) samples\n",
      "No rows had outliers in at least 0.3 of weight_in_mg Above_Mean(364.37) samples\n",
      "No rows had outliers in at least 0.3 of minutes_collection_to_frozen Above_Mean(17.72) samples\n",
      "No rows had outliers in at least 0.3 of minutes_collection_to_frozen Below_Mean(17.72) samples\n"
     ]
    }
   ],
   "source": [
    "bf.renameDuplicateColumns(outliers_prot)\n",
    "\n",
    "results_prot = blsh.compare_groups_outliers(outliers_prot, \n",
    "                                            annotations)"
   ]
  },
  {
   "cell_type": "markdown",
   "metadata": {},
   "source": [
    "Many of the output values from compare_group_outliers are NaN, so here we will get rid of the NaN values for visualization purposes."
   ]
  },
  {
   "cell_type": "code",
   "execution_count": 34,
   "metadata": {
    "collapsed": true
   },
   "outputs": [],
   "source": [
    "results_prot = results_prot.dropna(axis=0, how='all')"
   ]
  },
  {
   "cell_type": "markdown",
   "metadata": {},
   "source": [
    "## Step 5: Visualize these enrichments"
   ]
  },
  {
   "cell_type": "code",
   "execution_count": 35,
   "metadata": {},
   "outputs": [
    {
     "name": "stdout",
     "output_type": "stream",
     "text": [
      "TESTING FOR PROTEOMICS:\n",
      "1 significant protein enrichment in Sample_Tumor_Normal_Normal:\n",
      "\n",
      "2 significant protein enrichments in gender_Female\n",
      "\n",
      "5 significant protein enrichments in tumor_site_Other\n",
      "\n",
      "          tumor_site_Other_P_values\n",
      "AVL9                       0.000810\n",
      "COG1                       0.000810\n",
      "GOLPH3L                    0.000810\n",
      "RAB3GAP1                   0.001674\n",
      "RAB3GAP2                   0.000810\n",
      "1 significant protein enrichment in tumor_size_in_cm_Above_Mean(6.47):\n",
      "\n",
      "115 significant protein enrichments in histologic_type_non-Clear Cell renal cell carcinoma\n",
      "\n",
      "       histologic_type_non-Clear Cell renal cell carcinoma_P_values\n",
      "AAGAB                                           0.000859           \n",
      "ABCB7                                           0.006344           \n",
      "ABCF2                                           0.000938           \n",
      "AGA                                             0.000156           \n",
      "AKT2                                            0.002027           \n",
      "1 significant protein enrichment in histologic_grade_G1or2:\n",
      "\n",
      "3 significant protein enrichments in histologic_grade_G3or4\n",
      "\n",
      "1 significant protein enrichment in pathologic_staging_primary_tumor_pT_pT1or2:\n",
      "\n",
      "1 significant protein enrichment in pathologic_staging_primary_tumor_pT_pT3or4:\n",
      "\n",
      "5 significant protein enrichments in pathologic_staging_regional_lymph_nodes_pN_pN0or1\n",
      "\n",
      "        pathologic_staging_regional_lymph_nodes_pN_pN0or1_P_values\n",
      "AZU1                                             0.005225         \n",
      "CAMP                                             0.006370         \n",
      "FLNC                                             0.005225         \n",
      "S100P                                            0.005225         \n",
      "TXNRD1                                           0.005225         \n",
      "1 significant protein enrichment in tumor_necrosis_Present:\n",
      "\n",
      "2 significant protein enrichments in residual_tumor_R1:Microscopic residual tumor\n",
      "\n",
      "1 significant protein enrichment in paraneoplastic_syndrome_Unknown:\n",
      "\n",
      "1 significant protein enrichment in other_immunohistochemistry_performed_Yes:\n",
      "\n",
      "1 significant protein enrichment in tobacco_smoking_history_Current Smoker:\n",
      "\n",
      "1 significant protein enrichment in anesthesia_steroids_Yes:\n",
      "\n",
      "4 significant protein enrichments in tumor_status_at_12months_follow_up_With Tumor\n",
      "\n",
      "1 significant protein enrichment in success_of_treatment_at_12months_follow_up_Persistent_Disease_or_Deceased:\n",
      "\n"
     ]
    }
   ],
   "source": [
    "#Drop Columns with less than 5 significant enrichments\n",
    "print(\"TESTING FOR PROTEOMICS:\")\n",
    "sig_cols = []\n",
    "for col in results_prot.columns:\n",
    "    sig_col = bf.significantEnrichments(results_prot, col, 0.01)\n",
    "    if sig_col is not None and len(sig_col) >= 5:\n",
    "        sig_cols.append(sig_col)\n",
    "        print(sig_col.head())\n",
    "    else:\n",
    "        results_prot = results_prot.drop(col, axis=1)"
   ]
  },
  {
   "cell_type": "code",
   "execution_count": 36,
   "metadata": {},
   "outputs": [
    {
     "data": {
      "image/png": "[encoded data removed]",
      "text/plain": [
       "<Figure size 432x288 with 2 Axes>"
      ]
     },
     "metadata": {},
     "output_type": "display_data"
    }
   ],
   "source": [
    "sns.heatmap(results_prot)\n",
    "plt.show()"
   ]
  },
  {
   "cell_type": "markdown",
   "metadata": {},
   "source": [
    "## Step 6: Determine significant enrichments, and link with cancer drug database."
   ]
  },
  {
   "cell_type": "code",
   "execution_count": 37,
   "metadata": {},
   "outputs": [
    {
     "data": {
      "text/plain": [
       "\"\\nfor col in sig_cols:\\n    col_name = col.columns[0]\\n    gene_name_list = list(col.index)\\n    enrichment = gp.enrichr(gene_list = gene_name_list, \\n                            description=col_name, \\n                            gene_sets='KEGG_2019_Human', \\n                            outdir='test/enrichr_kegg/renal',\\n                            cutoff=0.5)\\n    print(enrichment.res2d)\\n    barplot(enrichment.res2d, title=col_name)\\n\""
      ]
     },
     "execution_count": 37,
     "metadata": {},
     "output_type": "execute_result"
    }
   ],
   "source": [
    "'''\n",
    "for col in sig_cols:\n",
    "    col_name = col.columns[0]\n",
    "    gene_name_list = list(col.index)\n",
    "    enrichment = gp.enrichr(gene_list = gene_name_list, \n",
    "                            description=col_name, \n",
    "                            gene_sets='KEGG_2019_Human', \n",
    "                            outdir='test/enrichr_kegg/renal',\n",
    "                            cutoff=0.5)\n",
    "    print(enrichment.res2d)\n",
    "    barplot(enrichment.res2d, title=col_name)\n",
    "'''"
   ]
  },
  {
   "cell_type": "code",
   "execution_count": 38,
   "metadata": {},
   "outputs": [
    {
     "name": "stdout",
     "output_type": "stream",
     "text": [
      "This is the full URL to your GET request:\n",
      "http://www.dgidb.org/api/v2/interactions.json?genes=AAGAB,ABCB7,ABCF2,AGA,AKT2,ANKMY2,AP5S1,AP5Z1,ASAH1,ATRAID,CAPN2,CAPNS1,CCDC6,CCDC9B,CCZ1,CHKB,CIAPIN1,CKAP5,CLCN7,COPG2,CTSD,CYB5B,DAZAP2,DDX19A,DMXL2,EPG5,EPHA2,EXOC7,EXOC8,FIG4,FYCO1,GABARAPL2,GOLM1,GPAT4,GPD2,GPNMB,GPX1,GSPT1,GTPBP1,GYG1,KPNA4,KRT18,LAMA3,LAMTOR3,LCMT1,LRRN4,MANBA,MAP4,MBP,MCU,MICU1,MICU2,MINDY1,MINDY2,MROH1,MTMR1,MYO5A,NPC1,NPTN,NTMT1,OCRL,OSTM1,PHKA1,PIP4P2,PLD1,PLEK2,PPFIA1,PRKAA1,PTGFRN,PTPN11,RAB11FIP1,RAB7A,RABEP2,RABGEF1,RANBP10,RHEB,RMC1,RPTOR,RRAGB,RRAGC,RWDD4,SLC25A25,SLC25A40,SLC2A4,SLC2A8,SLC38A1,SLC9A7,SMDT1,SORL1,SPG11,SPTLC2,SRPK2,STT3B,STXBP6,TMCO4,TMEM106B,TMEM200C,TOM1,TP53BP1,TRIM4,TXNL1,UBE3C,USP7,VAC14,VPS13C,VPS16,VPS18,VPS33A,WDR24,WDR37,WIPI2,WWP2,YKT6,YTHDF2,ZNF330\n",
      "\n",
      "See www.dgidb.org/api or this function's docstring for further explanation and resources on valid parameter inputs\n"
     ]
    }
   ],
   "source": [
    "non_clear_sig_enrichments = sig_cols[1]\n",
    "sig_genes_non_clear = list(non_clear_sig_enrichments.index)\n",
    "r = bf.dgidb_get_request(sig_genes_non_clear)"
   ]
  },
  {
   "cell_type": "code",
   "execution_count": 90,
   "metadata": {},
   "outputs": [],
   "source": [
    "drug_query = r.json()"
   ]
  },
  {
   "cell_type": "code",
   "execution_count": 94,
   "metadata": {},
   "outputs": [],
   "source": [
    "def dgidb_json_parse(json_obj):\n",
    "    json_obj = json_obj['matchedTerms']\n",
    "    drugs = {}\n",
    "    for item in json_obj:\n",
    "        if len(item['interactions']) > 0:\n",
    "            interactions_list = []\n",
    "            for interaction in item['interactions']:\n",
    "                interactions_list.append(interaction['drugName'])\n",
    "            drugs[item['geneName']] = interactions_list\n",
    "    for k, v in drugs.items():\n",
    "        print('Gene: ' + k)\n",
    "        print('Drugs: ')\n",
    "        print(v)\n",
    "        print('\\n')\n",
    "            \n",
    "    return drugs"
   ]
  },
  {
   "cell_type": "code",
   "execution_count": 95,
   "metadata": {},
   "outputs": [
    {
     "name": "stdout",
     "output_type": "stream",
     "text": [
      "Gene: AKT2\n",
      "Drugs: \n",
      "['BAY-1125976', 'MK-2206', 'ARQ-092', 'LY-2780301', 'MK-2201', 'IPATASERTIB', 'TRICIRIBINE PHOSPHATE', 'UPROSERTIB', 'AFURESERTIB', 'GSK-690693', 'AZD-5363', 'AZD-4547', 'EVEROLIMUS', 'XL-418', 'OMIPALISIB', 'A-443654', 'PERIFOSINE', 'TRASTUZUMAB', 'CHEMBL428462', 'CHEMBL227381', 'AFURESERTIB HYDROCHLORIDE', 'TRICIRIBINE']\n",
      "\n",
      "\n",
      "Gene: CAPNS1\n",
      "Drugs: \n",
      "['CHEMBL366254']\n",
      "\n",
      "\n",
      "Gene: CLCN7\n",
      "Drugs: \n",
      "['5-NITRO-2-PHENYLPROPYLAMINOBENZOIC ACID [NPPB]']\n",
      "\n",
      "\n",
      "Gene: CTSD\n",
      "Drugs: \n",
      "['CHEMBL81927', 'NAFCILLIN', 'GRASSYSTATIN A', 'CAL', 'CHEMBL35107', 'INSULIN HUMAN', 'CHEMBL394875', 'CHEMBL214205', 'STREPTOZOTOCIN']\n",
      "\n",
      "\n",
      "Gene: EPHA2\n",
      "Drugs: \n",
      "['DORSOMORPHIN', 'DASATINIB', 'REGORAFENIB', 'VANDETANIB', 'CHEMBL1230989']\n",
      "\n",
      "\n",
      "Gene: GPD2\n",
      "Drugs: \n",
      "['METFORMIN HYDROCHLORIDE', 'HYDROGEN PEROXIDE']\n",
      "\n",
      "\n",
      "Gene: GPNMB\n",
      "Drugs: \n",
      "['GLEMBATUMUMAB VEDOTIN']\n",
      "\n",
      "\n",
      "Gene: GPX1\n",
      "Drugs: \n",
      "['GLUTATHIONE']\n",
      "\n",
      "\n",
      "Gene: GSPT1\n",
      "Drugs: \n",
      "['CHEMBL384759']\n",
      "\n",
      "\n",
      "Gene: GYG1\n",
      "Drugs: \n",
      "['URIDINE DIPHOSPHATE GLUCOSE', 'URIDINE_DIPHOSPHATE']\n",
      "\n",
      "\n",
      "Gene: KRT18\n",
      "Drugs: \n",
      "['MITOMYCIN', 'ZIDOVUDINE', 'RIBAVIRIN']\n",
      "\n",
      "\n",
      "Gene: LAMA3\n",
      "Drugs: \n",
      "['OCRIPLASMIN']\n",
      "\n",
      "\n",
      "Gene: LCMT1\n",
      "Drugs: \n",
      "['LEUCINE']\n",
      "\n",
      "\n",
      "Gene: MAP4\n",
      "Drugs: \n",
      "['PACLITAXEL', 'DOCETAXEL']\n",
      "\n",
      "\n",
      "Gene: MBP\n",
      "Drugs: \n",
      "['QUERCETIN', 'INTERFERON BETA-1A', 'CYCLOSPORINE', 'PREDNISONE', 'RUTIN']\n",
      "\n",
      "\n",
      "Gene: PLD1\n",
      "Drugs: \n",
      "['CHOLINE', 'PHORBOL MYRISTATE ACETATE', 'TAMOXIFEN', 'ICOSAPENT']\n",
      "\n",
      "\n",
      "Gene: PRKAA1\n",
      "Drugs: \n",
      "['ADENOSINE PHOSPHATE', 'PHENFORMIN', 'ASPIRIN', 'PENTOSTATIN', 'STREPTOZOTOCIN', 'ADENOSINE TRIPHOSPHATE', 'EHNA', 'METFORMIN HYDROCHLORIDE', 'SIROLIMUS', 'PHORBOL MYRISTATE ACETATE', 'THYROXINE']\n",
      "\n",
      "\n",
      "Gene: PTPN11\n",
      "Drugs: \n",
      "['CRYPTOTANSHINONE', 'PLX-4720', 'U-0126', 'CHEMBL35482', 'Refametinib', 'STIBOGLUCONATE']\n",
      "\n",
      "\n",
      "Gene: RAB7A\n",
      "Drugs: \n",
      "['CHEMBL384759']\n",
      "\n",
      "\n",
      "Gene: RHEB\n",
      "Drugs: \n",
      "['GUANOSINE TRIPHOSPHATE', 'CHEMBL384759']\n",
      "\n",
      "\n",
      "Gene: RPTOR\n",
      "Drugs: \n",
      "['AZD-8055', 'OSI-027', 'INK-128']\n",
      "\n",
      "\n",
      "Gene: SLC2A4\n",
      "Drugs: \n",
      "['ESTRADIOL', 'CLOFIBRATE', 'HYDROGEN PEROXIDE', 'RESVERATROL', 'CHEMBL1377788', 'CURCUMIN', 'MIRTAZAPINE', 'GLIPIZIDE', 'EPIGALOCATECHIN GALLATE', 'HALOPERIDOL', 'PRASTERONE', 'PROGESTERONE', 'NYSTATIN', 'WORTMANNIN', 'PENICILLAMINE', 'PHENTOLAMINE', 'STAUROSPORINE', 'IRBESARTAN', 'EPINEPHRINE', 'ETOPOSIDE', 'ACETYLCYSTEINE', 'GLUFOSFAMIDE', 'INDOMETHACIN', '(7S)-HYDROXYL-STAUROSPORINE', 'IMATINIB', 'VERAPAMIL', 'HEPARIN', 'TROGLITAZONE', 'COLCHICINE', 'SORBITOL', 'LIOTHYRONINE SODIUM', 'DEXAMETHASONE', 'ETRETINATE', 'SOYBEAN OIL', 'URIDINE', 'OMAPATRILAT', 'ESTRADIOL BENZOATE', 'CHEMBL35482', 'GLYBURIDE', 'ACARBOSE', 'BUTHIONINE SULFOXIMINE', 'NEOMYCIN', 'GENISTEIN', 'DIPYRIDAMOLE', 'STREPTOZOTOCIN', 'INDINAVIR']\n",
      "\n",
      "\n",
      "Gene: SPTLC2\n",
      "Drugs: \n",
      "['PYRIDOXAL PHOSPHATE', 'MYRIOCIN', 'SERINE']\n",
      "\n",
      "\n",
      "Gene: SRPK2\n",
      "Drugs: \n",
      "['ADENINE', 'CHEMBL1230989']\n",
      "\n",
      "\n"
     ]
    }
   ],
   "source": [
    "drug_dict = dgidb_json_parse(drug_query)"
   ]
  }
 ],
 "metadata": {
  "kernelspec": {
   "display_name": "Python 3",
   "language": "python",
   "name": "python3"
  },
  "language_info": {
   "codemirror_mode": {
    "name": "ipython",
    "version": 3
   },
   "file_extension": ".py",
   "mimetype": "text/x-python",
   "name": "python",
   "nbconvert_exporter": "python",
   "pygments_lexer": "ipython3",
   "version": "3.6.2"
  }
 },
 "nbformat": 4,
 "nbformat_minor": 2
}
