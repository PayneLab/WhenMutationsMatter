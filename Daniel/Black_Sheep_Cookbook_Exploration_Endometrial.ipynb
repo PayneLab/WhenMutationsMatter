{
 "cells": [
  {
   "cell_type": "markdown",
   "metadata": {},
   "source": [
    "## BlackSheep Cookbook Exploration\n",
    "\n",
    "The Black Sheep Analysis allows researchers to find trends in abnormal protein enrichment among patients in CPTAC datasets. In this Cookbook, we will go through the steps needed to perform a full Black Sheep Analysis."
   ]
  },
  {
   "cell_type": "markdown",
   "metadata": {},
   "source": [
    "### Step 1a: Import Dependencies\n",
    "First, import the necessary dependencies and load cptac data."
   ]
  },
  {
   "cell_type": "code",
   "execution_count": 1,
   "metadata": {},
   "outputs": [
    {
     "name": "stdout",
     "output_type": "stream",
     "text": [
      "Welcome to cptac, a python package for disseminating cancer\n",
      "proteogenomics data. To view available datasets, enter\n",
      "'cptac.list_data()'. Extensive tutorials are available at\n",
      "https://github.com/PayneLab/cptac/tree/master/doc\n",
      "\n",
      "******\n",
      "Version: 0.4.5\n",
      "******\n"
     ]
    }
   ],
   "source": [
    "import numpy as np\n",
    "import pandas as pd\n",
    "import matplotlib.pyplot as plt\n",
    "import seaborn as sns\n",
    "import cptac\n",
    "import binarization_functions as bf\n",
    "import blackSheepCPTACmoduleCopy as blsh\n",
    "import gseapy as gp\n",
    "from gseapy.plot import barplot, heatmap, dotplot"
   ]
  },
  {
   "cell_type": "markdown",
   "metadata": {},
   "source": [
    "## Step 1b: Load Data and Choose Omics Table\n",
    "For this analysis, we will be looking at results across the proteomics, transcriptomics, and phosphoproteomics tables."
   ]
  },
  {
   "cell_type": "code",
   "execution_count": 2,
   "metadata": {},
   "outputs": [
    {
     "name": "stdout",
     "output_type": "stream",
     "text": [
      "Checking that data files are up-to-date...\n",
      "100% [..................................................................................] 649 / 649\n",
      "Data check complete.\n",
      "endometrial data version: 2.1\n",
      "\n",
      "Loading acetylproteomics data...\n",
      "Loading clinical data...\n",
      "Loading CNA data...\n",
      "Loading definitions data...\n",
      "Loading miRNA data...\n",
      "Loading phosphoproteomics_gene data...\n",
      "Loading phosphoproteomics_site data...\n",
      "Loading proteomics data...\n",
      "Loading somatic data...\n",
      "Loading somatic_binary data...\n",
      "Loading transcriptomics_circular data...\n",
      "Loading transcriptomics_linear data...\n"
     ]
    }
   ],
   "source": [
    "en = cptac.Endometrial()\n",
    "proteomics = en.get_proteomics()\n",
    "transcriptomics = en.get_transcriptomics()\n",
    "clinical = en.get_clinical()"
   ]
  },
  {
   "cell_type": "code",
   "execution_count": 3,
   "metadata": {
    "collapsed": true
   },
   "outputs": [],
   "source": [
    "#Append Genomics_subtype and MSI_status to clinical table\n",
    "df= en.get_derived_molecular()\n",
    "clinical['MSI_status'] = df['MSI_status']\n",
    "clinical['Genomics_subtype'] = df['Genomics_subtype']"
   ]
  },
  {
   "cell_type": "markdown",
   "metadata": {},
   "source": [
    "## Step 2: Determine what attributes you would like to A/B test. \n",
    "For this analysis, we will iteratively go through the various columns in the clinical dataset, to determine if any of them have trends within them for protein enrichment."
   ]
  },
  {
   "cell_type": "code",
   "execution_count": 4,
   "metadata": {
    "collapsed": true
   },
   "outputs": [],
   "source": [
    "#Create a copy of the original Clinical DataFrame and drop irrelevant columns.\n",
    "annotations = pd.DataFrame(clinical.copy())\n",
    "annotations = annotations.drop(['Patient_ID', \n",
    "                                'Treatment_naive', \n",
    "                                'Tumor_purity', \n",
    "                                'Gender', \n",
    "                                'Tumor_Site_Other'], axis=1)"
   ]
  },
  {
   "cell_type": "markdown",
   "metadata": {},
   "source": [
    "## Step 2a: Binarize column values"
   ]
  },
  {
   "cell_type": "code",
   "execution_count": 5,
   "metadata": {
    "collapsed": true
   },
   "outputs": [],
   "source": [
    "tumor_map = {'Tumor':'Normal_Tumor', \n",
    "             'Adjacent_normal':'Other_tumor', \n",
    "             'Enriched_normal':'Other_tumor', \n",
    "             'Myometrium_normal':'Other_tumor'}\n",
    "\n",
    "annotations['Proteomics_Tumor_Normal'] = bf.binarizeCategorical(clinical, \n",
    "                                                                'Proteomics_Tumor_Normal', \n",
    "                                                                tumor_map)"
   ]
  },
  {
   "cell_type": "code",
   "execution_count": 6,
   "metadata": {
    "collapsed": true
   },
   "outputs": [],
   "source": [
    "country_map = {'United States':'US', \n",
    "               'Ukraine':'Other', \n",
    "               'Other_specify':'Other', \n",
    "               'Poland':'Other'}\n",
    "\n",
    "annotations['Country'] = bf.binarizeCategorical(clinical, \n",
    "                                                'Country', \n",
    "                                                country_map)"
   ]
  },
  {
   "cell_type": "code",
   "execution_count": 7,
   "metadata": {
    "collapsed": true
   },
   "outputs": [],
   "source": [
    "annotations['BMI'] = bf.binarizeRange(clinical, 'BMI', 18, 25, \n",
    "                                      'Healthy', 'Unhealthy')\n",
    "\n",
    "annotations['Age'] = bf.binarizeCutOff(clinical, 'Age', \n",
    "                                       60.0, 'Old', 'Young')"
   ]
  },
  {
   "cell_type": "code",
   "execution_count": 8,
   "metadata": {
    "collapsed": true
   },
   "outputs": [],
   "source": [
    "FIGO_map = {'FIGO grade 1':'Low_grade', \n",
    "            'FIGO grade 2':'High_grade', \n",
    "            'FIGO grade 3':'High_grade'}\n",
    "\n",
    "annotations['Histologic_Grade_FIGO'] = bf.binarizeCategorical(clinical, \n",
    "                                                              'Histologic_Grade_FIGO', \n",
    "                                                              FIGO_map)"
   ]
  },
  {
   "cell_type": "code",
   "execution_count": 9,
   "metadata": {
    "collapsed": true
   },
   "outputs": [],
   "source": [
    "Myo_map = {'under 50 %':'under_50%', \n",
    "           '50 % or more': '50%_or_more', \n",
    "           'Not identified': 'under_50%'}\n",
    "\n",
    "annotations['Myometrial_invasion_Specify'] = bf.binarizeCategorical(clinical, \n",
    "                                                                    'Myometrial_invasion_Specify', \n",
    "                                                                    Myo_map)"
   ]
  },
  {
   "cell_type": "code",
   "execution_count": 10,
   "metadata": {
    "collapsed": true
   },
   "outputs": [],
   "source": [
    "path_tumor_map = {'pT1a (FIGO IA)':'Not_FIGO_III', \n",
    "            'pT1b (FIGO IB)':'Not_FIGO_III', \n",
    "            'pT2 (FIGO II)':'Not_FIGO_III', \n",
    "            'pT1 (FIGO I)':'Not_FIGO_III', \n",
    "            'pT3a (FIGO IIIA)':'FIGO_III', \n",
    "            'pT3b (FIGO IIIB)':'FIGO_III'}\n",
    "\n",
    "annotations['Path_Stage_Primary_Tumor-pT'] = bf.binarizeCategorical(clinical, \n",
    "                                                                    'Path_Stage_Primary_Tumor-pT', \n",
    "                                                                    path_tumor_map)"
   ]
  },
  {
   "cell_type": "code",
   "execution_count": 11,
   "metadata": {
    "collapsed": true
   },
   "outputs": [],
   "source": [
    "path_lymph_map = {'pN0':'Not_FIGO_III', \n",
    "                  'pNX':'Not_FIGO_III', \n",
    "                  'pN1 (FIGO IIIC1)':'FIGO_III', \n",
    "                  'pN2 (FIGO IIIC2)':'FIGO_III'}\n",
    "\n",
    "annotations['Path_Stage_Reg_Lymph_Nodes-pN'] = bf.binarizeCategorical(clinical, \n",
    "                                                                      'Path_Stage_Reg_Lymph_Nodes-pN', \n",
    "                                                                      path_lymph_map)"
   ]
  },
  {
   "cell_type": "code",
   "execution_count": 12,
   "metadata": {
    "collapsed": true
   },
   "outputs": [],
   "source": [
    "clin_stage_map = {'cM0':'cM0_or_cM1', \n",
    "                  'cM1':'cM0_or_cM1', \n",
    "                  'Staging Incomplete':'Staging_Incomplete'}\n",
    "\n",
    "annotations['Clin_Stage_Dist_Mets-cM'] = bf.binarizeCategorical(clinical, \n",
    "                                                                'Clin_Stage_Dist_Mets-cM', \n",
    "                                                                clin_stage_map)"
   ]
  },
  {
   "cell_type": "code",
   "execution_count": 13,
   "metadata": {
    "collapsed": true
   },
   "outputs": [],
   "source": [
    "path_stage_map = {'Staging Incomplete': 'No_distant_metastasis', \n",
    "                  'No pathologic evidence of distant metastasis':'No_distant_metastasis', \n",
    "                  'pM1':'Distant_Metastasis'}\n",
    "\n",
    "annotations['Path_Stage_Dist_Mets-pM'] = bf.binarizeCategorical(clinical, \n",
    "                                                                'Path_Stage_Dist_Mets-pM', \n",
    "                                                                path_stage_map)"
   ]
  },
  {
   "cell_type": "code",
   "execution_count": 14,
   "metadata": {
    "collapsed": true
   },
   "outputs": [],
   "source": [
    "tumor_stage_map = {'Stage I':'Stage_I_or_II', \n",
    "                   'Stage II':'Stage_I_or_II', \n",
    "                   'Stage III':'Stage_III_or_IV', \n",
    "                   'Stage IV':'Stage_III_or_IV'}\n",
    "\n",
    "annotations['tumor_Stage-Pathological'] = bf.binarizeCategorical(clinical, \n",
    "                                                               'tumor_Stage-Pathological', \n",
    "                                                               tumor_stage_map)"
   ]
  },
  {
   "cell_type": "code",
   "execution_count": 15,
   "metadata": {
    "collapsed": true
   },
   "outputs": [],
   "source": [
    "FIGO_stage_map = {'IA':'I_or_II', \n",
    "                  'IB':'I_or_II', \n",
    "                  'II':'I_or_II', \n",
    "                  'IIIA':'III_or_IV', \n",
    "                  'IIIC1':'III_or_IV', \n",
    "                  'IVB':'III_or_IV', \n",
    "                  'IIIC2':'III_or_IV', \n",
    "                  'IIIB':'III_or_IV'}\n",
    "\n",
    "annotations['FIGO_stage'] = bf.binarizeCategorical(clinical, \n",
    "                                                   'FIGO_stage', \n",
    "                                                   FIGO_stage_map)"
   ]
  },
  {
   "cell_type": "code",
   "execution_count": 16,
   "metadata": {
    "collapsed": true
   },
   "outputs": [],
   "source": [
    "diabetes_map = {'No':'No', \n",
    "                'Yes':'Yes', \n",
    "                'Unknown':'No'}\n",
    "\n",
    "annotations['Diabetes'] = bf.binarizeCategorical(clinical, \n",
    "                                                 'Diabetes', \n",
    "                                                 diabetes_map)"
   ]
  },
  {
   "cell_type": "code",
   "execution_count": 17,
   "metadata": {
    "collapsed": true
   },
   "outputs": [],
   "source": [
    "race_map = {'White':'White', \n",
    "            'Black or African American':'Not_White', \n",
    "            'Asian':'Not_White', \n",
    "            'Not Reported':'Not_White'}\n",
    "\n",
    "annotations['Race'] = bf.binarizeCategorical(clinical, \n",
    "                                             'Race', \n",
    "                                             race_map)"
   ]
  },
  {
   "cell_type": "code",
   "execution_count": 18,
   "metadata": {
    "collapsed": true
   },
   "outputs": [],
   "source": [
    "ethnicity_map = {'Not-Hispanic or Latino':'Not_Hispanic', \n",
    "                 'Not reported':'Not_Hispanic', \n",
    "                 'Hispanic or Latino':'Hispanic'}\n",
    "\n",
    "annotations['Ethnicity'] = bf.binarizeCategorical(clinical, \n",
    "                                                  'Ethnicity', \n",
    "                                                  ethnicity_map)"
   ]
  },
  {
   "cell_type": "code",
   "execution_count": 19,
   "metadata": {
    "collapsed": true
   },
   "outputs": [],
   "source": [
    "tumor_site_map = {'Other, specify':'Not_Anterior', \n",
    "                  'Anterior endometrium':'Anterior', \n",
    "                  'Posterior endometrium':'Not_Anterior'}\n",
    "\n",
    "annotations['Tumor_Site'] = bf.binarizeCategorical(clinical, \n",
    "                                                   'Tumor_Site', \n",
    "                                                   tumor_site_map)"
   ]
  },
  {
   "cell_type": "code",
   "execution_count": 20,
   "metadata": {
    "collapsed": true
   },
   "outputs": [],
   "source": [
    "annotations['Tumor_Size_cm'] = bf.binarizeCutOff(clinical, \n",
    "                                                'Tumor_Size_cm', 4.0, \n",
    "                                                'Large_tumor', \n",
    "                                                'Small_tumor')"
   ]
  },
  {
   "cell_type": "code",
   "execution_count": 21,
   "metadata": {
    "collapsed": true
   },
   "outputs": [],
   "source": [
    "num_pregnancies_map = {2:'Less_than_3', \n",
    "                       1:'Less_than_3', \n",
    "                       'None':'Less_than_3', \n",
    "                       None:'Less_than_3', \n",
    "                       3:'3_or_more', \n",
    "                       '4 or more':'3_or_more'}\n",
    "\n",
    "annotations['Num_full_term_pregnancies'] = bf.binarizeCategorical(clinical, \n",
    "                                                                  'Num_full_term_pregnancies', \n",
    "                                                                  num_pregnancies_map)"
   ]
  },
  {
   "cell_type": "code",
   "execution_count": 22,
   "metadata": {
    "collapsed": true
   },
   "outputs": [],
   "source": [
    "genomics_map = {'MSI-H':'MSI-H', \n",
    "                'CNV_low':'Other_subtype', \n",
    "                'CNV_high':'Other_subtype', \n",
    "                'POLE':'Other_subtype'}\n",
    "\n",
    "annotations['Genomics_subtype'] = bf.binarizeCategorical(clinical, \n",
    "                                                         'Genomics_subtype', \n",
    "                                                         genomics_map)"
   ]
  },
  {
   "cell_type": "markdown",
   "metadata": {},
   "source": [
    "## Step 3: Perform outliers analysis"
   ]
  },
  {
   "cell_type": "code",
   "execution_count": 23,
   "metadata": {},
   "outputs": [
    {
     "name": "stderr",
     "output_type": "stream",
     "text": [
      "C:\\Users\\Daniel\\AppData\\Local\\conda\\conda\\envs\\Research\\lib\\site-packages\\numpy\\lib\\nanfunctions.py:1354: RuntimeWarning: All-NaN slice encountered\n",
      "  overwrite_input, interpolation)\n"
     ]
    }
   ],
   "source": [
    "outliers_prot = blsh.make_outliers_table(proteomics, iqrs=1.5, \n",
    "                                         up_or_down='up', \n",
    "                                         aggregate=False, \n",
    "                                         frac_table=False)\n",
    "\n",
    "outliers_trans = blsh.make_outliers_table(transcriptomics, iqrs=1.5, \n",
    "                                          up_or_down='up', \n",
    "                                          aggregate=False, \n",
    "                                          frac_table=False)"
   ]
  },
  {
   "cell_type": "markdown",
   "metadata": {},
   "source": [
    "## Step 4: Wrap your A/B test into the outliers analysis, and create a table\n",
    "First for proteomics, and then phosphoproteomics."
   ]
  },
  {
   "cell_type": "code",
   "execution_count": 35,
   "metadata": {},
   "outputs": [
    {
     "name": "stdout",
     "output_type": "stream",
     "text": [
      "No rows had outliers in at least 0.3 of Proteomics_Tumor_Normal Normal_Tumor samples\n",
      "Testing 14 rows for enrichment in Proteomics_Tumor_Normal Other_tumor samples\n",
      "No rows had outliers in at least 0.3 of Country Other samples\n",
      "No rows had outliers in at least 0.3 of Country US samples\n",
      "Testing 2 rows for enrichment in Histologic_Grade_FIGO High_grade samples\n",
      "Testing 1 rows for enrichment in Histologic_Grade_FIGO Low_grade samples\n",
      "No rows had outliers in at least 0.3 of Myometrial_invasion_Specify under_50% samples\n",
      "Testing 7 rows for enrichment in Myometrial_invasion_Specify 50%_or_more samples\n",
      "No rows had outliers in at least 0.3 of Histologic_type Endometrioid samples\n",
      "Testing 626 rows for enrichment in Histologic_type Serous samples\n",
      "No rows had outliers in at least 0.3 of Path_Stage_Primary_Tumor-pT Not_FIGO_III samples\n",
      "Testing 241 rows for enrichment in Path_Stage_Primary_Tumor-pT FIGO_III samples\n",
      "No rows had outliers in at least 0.3 of Path_Stage_Reg_Lymph_Nodes-pN Not_FIGO_III samples\n",
      "Testing 136 rows for enrichment in Path_Stage_Reg_Lymph_Nodes-pN FIGO_III samples\n",
      "No rows had outliers in at least 0.3 of Clin_Stage_Dist_Mets-cM cM0_or_cM1 samples\n",
      "Testing 5 rows for enrichment in Clin_Stage_Dist_Mets-cM Staging_Incomplete samples\n",
      "No rows had outliers in at least 0.3 of Path_Stage_Dist_Mets-pM No_distant_metastasis samples\n",
      "Testing 1396 rows for enrichment in Path_Stage_Dist_Mets-pM Distant_Metastasis samples\n",
      "No rows had outliers in at least 0.3 of tumor_Stage-Pathological Stage_I_or_II samples\n",
      "Testing 6 rows for enrichment in tumor_Stage-Pathological Stage_III_or_IV samples\n",
      "No rows had outliers in at least 0.3 of FIGO_stage I_or_II samples\n",
      "Testing 30 rows for enrichment in FIGO_stage III_or_IV samples\n",
      "No rows had outliers in at least 0.3 of LVSI 0.0 samples\n",
      "Testing 13 rows for enrichment in LVSI 1.0 samples\n",
      "No rows had outliers in at least 0.3 of BMI Unhealthy samples\n",
      "Testing 253 rows for enrichment in BMI Healthy samples\n",
      "No rows had outliers in at least 0.3 of Age Old samples\n",
      "Testing 5 rows for enrichment in Age Young samples\n",
      "No rows had outliers in at least 0.3 of Diabetes No samples\n",
      "Testing 4 rows for enrichment in Diabetes Yes samples\n",
      "No rows had outliers in at least 0.3 of Race White samples\n",
      "Testing 144 rows for enrichment in Race Not_White samples\n",
      "No rows had outliers in at least 0.3 of Ethnicity Not_Hispanic samples\n",
      "Testing 1179 rows for enrichment in Ethnicity Hispanic samples\n",
      "No rows had outliers in at least 0.3 of Tumor_Site Not_Anterior samples\n",
      "Testing 7 rows for enrichment in Tumor_Site Anterior samples\n",
      "No rows had outliers in at least 0.3 of Tumor_Focality Unifocal samples\n",
      "Testing 3 rows for enrichment in Tumor_Focality Multifocal samples\n",
      "No rows had outliers in at least 0.3 of Tumor_Size_cm Small_tumor samples\n",
      "Testing 1 rows for enrichment in Tumor_Size_cm Large_tumor samples\n",
      "Testing 27 rows for enrichment in Num_full_term_pregnancies 3_or_more samples\n",
      "Testing 26 rows for enrichment in Num_full_term_pregnancies Less_than_3 samples\n",
      "No rows had outliers in at least 0.3 of MSI_status MSS samples\n",
      "Testing 12 rows for enrichment in MSI_status MSI-H samples\n",
      "No rows had outliers in at least 0.3 of Genomics_subtype Other_subtype samples\n",
      "Testing 12 rows for enrichment in Genomics_subtype MSI-H samples\n",
      "No rows had outliers in at least 0.3 of Proteomics_Tumor_Normal Normal_Tumor samples\n",
      "Testing 1498 rows for enrichment in Proteomics_Tumor_Normal Other_tumor samples\n",
      "Testing 11 rows for enrichment in Country Other samples\n",
      "Testing 61 rows for enrichment in Country US samples\n",
      "Testing 51 rows for enrichment in Histologic_Grade_FIGO High_grade samples\n",
      "Testing 29 rows for enrichment in Histologic_Grade_FIGO Low_grade samples\n",
      "Testing 5 rows for enrichment in Myometrial_invasion_Specify under_50% samples\n",
      "Testing 193 rows for enrichment in Myometrial_invasion_Specify 50%_or_more samples\n",
      "Testing 2 rows for enrichment in Histologic_type Endometrioid samples\n",
      "Testing 1705 rows for enrichment in Histologic_type Serous samples\n",
      "No rows had outliers in at least 0.3 of Path_Stage_Primary_Tumor-pT Not_FIGO_III samples\n",
      "Testing 803 rows for enrichment in Path_Stage_Primary_Tumor-pT FIGO_III samples\n",
      "No rows had outliers in at least 0.3 of Path_Stage_Reg_Lymph_Nodes-pN Not_FIGO_III samples\n",
      "Testing 496 rows for enrichment in Path_Stage_Reg_Lymph_Nodes-pN FIGO_III samples\n",
      "Testing 10 rows for enrichment in Clin_Stage_Dist_Mets-cM cM0_or_cM1 samples\n",
      "Testing 137 rows for enrichment in Clin_Stage_Dist_Mets-cM Staging_Incomplete samples\n",
      "No rows had outliers in at least 0.3 of Path_Stage_Dist_Mets-pM No_distant_metastasis samples\n",
      "Testing 3889 rows for enrichment in Path_Stage_Dist_Mets-pM Distant_Metastasis samples\n",
      "No rows had outliers in at least 0.3 of tumor_Stage-Pathological Stage_I_or_II samples\n",
      "Testing 155 rows for enrichment in tumor_Stage-Pathological Stage_III_or_IV samples\n",
      "No rows had outliers in at least 0.3 of FIGO_stage I_or_II samples\n",
      "Testing 397 rows for enrichment in FIGO_stage III_or_IV samples\n",
      "Testing 8 rows for enrichment in LVSI 0.0 samples\n",
      "Testing 149 rows for enrichment in LVSI 1.0 samples\n",
      "No rows had outliers in at least 0.3 of BMI Unhealthy samples\n",
      "Testing 633 rows for enrichment in BMI Healthy samples\n",
      "Testing 18 rows for enrichment in Age Old samples\n",
      "Testing 95 rows for enrichment in Age Young samples\n",
      "Testing 3 rows for enrichment in Diabetes No samples\n",
      "Testing 115 rows for enrichment in Diabetes Yes samples\n",
      "Testing 26 rows for enrichment in Race White samples\n",
      "Testing 871 rows for enrichment in Race Not_White samples\n",
      "Testing 27 rows for enrichment in Ethnicity Not_Hispanic samples\n",
      "Testing 1916 rows for enrichment in Ethnicity Hispanic samples\n",
      "Testing 3 rows for enrichment in Tumor_Site Not_Anterior samples\n",
      "Testing 114 rows for enrichment in Tumor_Site Anterior samples\n",
      "Testing 17 rows for enrichment in Tumor_Focality Unifocal samples\n",
      "Testing 57 rows for enrichment in Tumor_Focality Multifocal samples\n",
      "Testing 13 rows for enrichment in Tumor_Size_cm Small_tumor samples\n",
      "Testing 123 rows for enrichment in Tumor_Size_cm Large_tumor samples\n",
      "Testing 388 rows for enrichment in Num_full_term_pregnancies 3_or_more samples\n",
      "Testing 131 rows for enrichment in Num_full_term_pregnancies Less_than_3 samples\n",
      "Testing 33 rows for enrichment in MSI_status MSS samples\n",
      "Testing 89 rows for enrichment in MSI_status MSI-H samples\n",
      "Testing 33 rows for enrichment in Genomics_subtype Other_subtype samples\n",
      "Testing 89 rows for enrichment in Genomics_subtype MSI-H samples\n"
     ]
    }
   ],
   "source": [
    "results_prot = blsh.compare_groups_outliers(outliers_prot, \n",
    "                                            annotations)\n",
    "\n",
    "results_trans = blsh.compare_groups_outliers(outliers_trans, \n",
    "                                             annotations)"
   ]
  },
  {
   "cell_type": "markdown",
   "metadata": {},
   "source": [
    "Many of the output values from compare_group_outliers are NaN, so here we will get rid of the NaN values for visualization purposes."
   ]
  },
  {
   "cell_type": "code",
   "execution_count": 36,
   "metadata": {
    "collapsed": true
   },
   "outputs": [],
   "source": [
    "results_prot = results_prot.dropna(axis=0, how='all')\n",
    "results_trans = results_trans.dropna(axis=0, how='all')"
   ]
  },
  {
   "cell_type": "code",
   "execution_count": 37,
   "metadata": {},
   "outputs": [
    {
     "name": "stdout",
     "output_type": "stream",
     "text": [
      "TESTING FOR PROTEOMICS:\n",
      "14 significant protein enrichments in Proteomics_Tumor_Normal_Other_tumor\n",
      "\n",
      "2 significant protein enrichments in Myometrial_invasion_Specify_50%_or_more\n",
      "\n",
      "412 significant protein enrichments in Histologic_type_Serous\n",
      "\n",
      "1 significant protein enrichment in Path_Stage_Reg_Lymph_Nodes-pN_FIGO_III:\n",
      "\n",
      "8 significant protein enrichments in LVSI_1.0\n",
      "\n",
      "2 significant protein enrichments in Age_Young\n",
      "\n",
      "3 significant protein enrichments in Tumor_Site_Anterior\n",
      "\n",
      "2 significant protein enrichments in Tumor_Focality_Multifocal\n",
      "\n",
      "3 significant protein enrichments in MSI_status_MSI-H\n",
      "\n",
      "3 significant protein enrichments in Genomics_subtype_MSI-H\n",
      "\n"
     ]
    }
   ],
   "source": [
    "print(\"TESTING FOR PROTEOMICS:\")\n",
    "sig_cols = []\n",
    "for col in results_prot.columns:\n",
    "    sig_col = bf.significantEnrichments(results_prot, col, 0.01)\n",
    "    if sig_col is not None and len(sig_col) >= 5:\n",
    "        sig_cols.append(sig_col)\n",
    "    else:\n",
    "        results_prot = results_prot.drop(col, axis=1)"
   ]
  },
  {
   "cell_type": "markdown",
   "metadata": {},
   "source": [
    "## Step 5: Visualize these enrichments"
   ]
  },
  {
   "cell_type": "code",
   "execution_count": 38,
   "metadata": {},
   "outputs": [
    {
     "data": {
      "image/png": "[encoded data removed]",
      "text/plain": [
       "<Figure size 432x288 with 2 Axes>"
      ]
     },
     "metadata": {},
     "output_type": "display_data"
    }
   ],
   "source": [
    "sns.heatmap(results_prot)\n",
    "plt.show()"
   ]
  },
  {
   "cell_type": "code",
   "execution_count": 39,
   "metadata": {},
   "outputs": [
    {
     "name": "stdout",
     "output_type": "stream",
     "text": [
      "TESTING FOR TRANSCRIPTOMICS:\n",
      "1351 significant protein enrichments in Proteomics_Tumor_Normal_Other_tumor\n",
      "\n",
      "1 significant protein enrichment in Histologic_Grade_FIGO_High_grade:\n",
      "\n",
      "955 significant protein enrichments in Histologic_type_Serous\n",
      "\n",
      "8 significant protein enrichments in MSI_status_MSI-H\n",
      "\n",
      "8 significant protein enrichments in Genomics_subtype_MSI-H\n",
      "\n"
     ]
    },
    {
     "data": {
      "image/png": "[encoded data removed]",
      "text/plain": [
       "<Figure size 432x288 with 2 Axes>"
      ]
     },
     "metadata": {},
     "output_type": "display_data"
    }
   ],
   "source": [
    "#genes vs samples visualization. See Endometrial paper for example\n",
    "#DGIDB based in R and probably has API. Try wrapping this into Python \n",
    "#and make a function to make it all Python. Or even include the table\n",
    "#in the package.\n",
    "\n",
    "#Look for significant enrichments\n",
    "print(\"TESTING FOR TRANSCRIPTOMICS:\")\n",
    "sig_cols = []\n",
    "for col in results_trans.columns:\n",
    "    sig_col = bf.significantEnrichments(results_trans, col, 0.01)\n",
    "    if sig_col is not None and len(sig_col) > 5:\n",
    "        sig_cols.append(sig_col)\n",
    "    else:\n",
    "        results_trans = results_trans.drop(col, axis=1)\n",
    "\n",
    "#Visualization\n",
    "sns.heatmap(results_trans)\n",
    "plt.show()"
   ]
  },
  {
   "cell_type": "markdown",
   "metadata": {},
   "source": [
    "## Step 6: Determine significant enrichments, and link with cancer drug database."
   ]
  },
  {
   "cell_type": "code",
   "execution_count": 30,
   "metadata": {},
   "outputs": [
    {
     "name": "stdout",
     "output_type": "stream",
     "text": [
      "            Gene_set                                               Term  \\\n",
      "0    KEGG_2019_Human                  Ribosome biogenesis in eukaryotes   \n",
      "1    KEGG_2019_Human                                        Spliceosome   \n",
      "2    KEGG_2019_Human                                      RNA transport   \n",
      "3    KEGG_2019_Human                          mRNA surveillance pathway   \n",
      "4    KEGG_2019_Human                                     RNA polymerase   \n",
      "5    KEGG_2019_Human                           Hepatocellular carcinoma   \n",
      "6    KEGG_2019_Human                     Ubiquitin mediated proteolysis   \n",
      "7    KEGG_2019_Human                                        Influenza A   \n",
      "8    KEGG_2019_Human                      Cytosolic DNA-sensing pathway   \n",
      "9    KEGG_2019_Human                        Basal transcription factors   \n",
      "10   KEGG_2019_Human                                            Malaria   \n",
      "11   KEGG_2019_Human                  Thyroid hormone signaling pathway   \n",
      "12   KEGG_2019_Human                                  Pancreatic cancer   \n",
      "13   KEGG_2019_Human                                    Mismatch repair   \n",
      "14   KEGG_2019_Human                                          Mitophagy   \n",
      "15   KEGG_2019_Human                                        Necroptosis   \n",
      "16   KEGG_2019_Human                                            Measles   \n",
      "17   KEGG_2019_Human             Fluid shear stress and atherosclerosis   \n",
      "18   KEGG_2019_Human                       NF-kappa B signaling pathway   \n",
      "19   KEGG_2019_Human                                  Adherens junction   \n",
      "20   KEGG_2019_Human                                         Cell cycle   \n",
      "21   KEGG_2019_Human              Pathogenic Escherichia coli infection   \n",
      "22   KEGG_2019_Human                              Wnt signaling pathway   \n",
      "23   KEGG_2019_Human                                 Lysine degradation   \n",
      "24   KEGG_2019_Human                                     Thyroid cancer   \n",
      "25   KEGG_2019_Human        Protein processing in endoplasmic reticulum   \n",
      "26   KEGG_2019_Human           Glycine, serine and threonine metabolism   \n",
      "27   KEGG_2019_Human                       Epstein-Barr virus infection   \n",
      "28   KEGG_2019_Human                                     Bladder cancer   \n",
      "29   KEGG_2019_Human                           Homologous recombination   \n",
      "..               ...                                                ...   \n",
      "162  KEGG_2019_Human                                        Endocytosis   \n",
      "163  KEGG_2019_Human                                  Parkinson disease   \n",
      "164  KEGG_2019_Human                   Protein digestion and absorption   \n",
      "165  KEGG_2019_Human                                 Salivary secretion   \n",
      "166  KEGG_2019_Human                               Rheumatoid arthritis   \n",
      "167  KEGG_2019_Human                   Th1 and Th2 cell differentiation   \n",
      "168  KEGG_2019_Human                                         Amoebiasis   \n",
      "169  KEGG_2019_Human                     Glycerophospholipid metabolism   \n",
      "170  KEGG_2019_Human                         Hematopoietic cell lineage   \n",
      "171  KEGG_2019_Human                               Pancreatic secretion   \n",
      "172  KEGG_2019_Human                            Hippo signaling pathway   \n",
      "173  KEGG_2019_Human                       Choline metabolism in cancer   \n",
      "174  KEGG_2019_Human            Progesterone-mediated oocyte maturation   \n",
      "175  KEGG_2019_Human                         cGMP-PKG signaling pathway   \n",
      "176  KEGG_2019_Human  Parathyroid hormone synthesis, secretion and a...   \n",
      "177  KEGG_2019_Human                              Ras signaling pathway   \n",
      "178  KEGG_2019_Human                               Serotonergic synapse   \n",
      "179  KEGG_2019_Human                                      Axon guidance   \n",
      "180  KEGG_2019_Human                     Sphingolipid signaling pathway   \n",
      "181  KEGG_2019_Human                             AMPK signaling pathway   \n",
      "182  KEGG_2019_Human                          Calcium signaling pathway   \n",
      "183  KEGG_2019_Human                                     Oocyte meiosis   \n",
      "184  KEGG_2019_Human                 Vascular smooth muscle contraction   \n",
      "185  KEGG_2019_Human                             cAMP signaling pathway   \n",
      "186  KEGG_2019_Human           Human immunodeficiency virus 1 infection   \n",
      "187  KEGG_2019_Human                   Herpes simplex virus 1 infection   \n",
      "188  KEGG_2019_Human                  Phospholipase D signaling pathway   \n",
      "189  KEGG_2019_Human                         Oxytocin signaling pathway   \n",
      "190  KEGG_2019_Human             Cytokine-cytokine receptor interaction   \n",
      "191  KEGG_2019_Human                             Rap1 signaling pathway   \n",
      "\n",
      "    Overlap       P-value  Adjusted P-value  Old P-value  \\\n",
      "0    23/101  2.201800e-15      6.781543e-13            0   \n",
      "1    22/134  1.016679e-11      1.565686e-09            0   \n",
      "2    24/165  1.679178e-11      1.723956e-09            0   \n",
      "3     15/91  1.922976e-08      1.480692e-06            0   \n",
      "4      6/31  1.529764e-04      9.423346e-03            0   \n",
      "5    14/168  1.863853e-04      9.567781e-03            0   \n",
      "6    10/137  3.975831e-03      1.749366e-01            0   \n",
      "7    11/171  6.690589e-03      2.575877e-01            0   \n",
      "8      6/63  6.848225e-03      2.343615e-01            0   \n",
      "9      5/45  6.959753e-03      2.143604e-01            0   \n",
      "10     5/49  9.954258e-03      2.787192e-01            0   \n",
      "11    8/116  1.314825e-02      3.374718e-01            0   \n",
      "12     6/75  1.552680e-02      3.678657e-01            0   \n",
      "13     3/23  2.298032e-02      5.055671e-01            0   \n",
      "14     5/65  3.049073e-02      6.260763e-01            0   \n",
      "15    9/162  3.140752e-02      6.045948e-01            0   \n",
      "16    8/138  3.320151e-02      6.015332e-01            0   \n",
      "17    8/139  3.443694e-02      5.892543e-01            0   \n",
      "18     6/95  4.308766e-02      6.984737e-01            0   \n",
      "19     5/72  4.444789e-02      6.844975e-01            0   \n",
      "20    7/124  5.033468e-02      7.382419e-01            0   \n",
      "21     4/55  6.027971e-02      8.439159e-01            0   \n",
      "22    8/158  6.402483e-02      8.573760e-01            0   \n",
      "23     4/59  7.411844e-02      9.511866e-01            0   \n",
      "24     3/37  7.673010e-02      9.453148e-01            0   \n",
      "25    8/165  7.798708e-02      9.238470e-01            0   \n",
      "26     3/40  9.209404e-02      1.000000e+00            0   \n",
      "27    9/201  9.396578e-02      1.000000e+00            0   \n",
      "28     3/41  9.747710e-02      1.000000e+00            0   \n",
      "29     3/41  9.747710e-02      1.000000e+00            0   \n",
      "..      ...           ...               ...          ...   \n",
      "162   4/244  8.970841e-01      1.000000e+00            0   \n",
      "163   2/142  8.983072e-01      1.000000e+00            0   \n",
      "164    1/90  9.145388e-01      1.000000e+00            0   \n",
      "165    1/90  9.145388e-01      1.000000e+00            0   \n",
      "166    1/91  9.168481e-01      1.000000e+00            0   \n",
      "167    1/92  9.190950e-01      1.000000e+00            0   \n",
      "168    1/96  9.274929e-01      1.000000e+00            0   \n",
      "169    1/97  9.294527e-01      1.000000e+00            0   \n",
      "170    1/97  9.294527e-01      1.000000e+00            0   \n",
      "171    1/98  9.313596e-01      1.000000e+00            0   \n",
      "172   2/160  9.316596e-01      1.000000e+00            0   \n",
      "173    1/99  9.332151e-01      1.000000e+00            0   \n",
      "174    1/99  9.332151e-01      1.000000e+00            0   \n",
      "175   2/166  9.402623e-01      1.000000e+00            0   \n",
      "176   1/106  9.448745e-01      1.000000e+00            0   \n",
      "177   3/232  9.510226e-01      1.000000e+00            0   \n",
      "178   1/113  9.545014e-01      1.000000e+00            0   \n",
      "179   2/181  9.574934e-01      1.000000e+00            0   \n",
      "180   1/119  9.614052e-01      1.000000e+00            0   \n",
      "181   1/120  9.624496e-01      1.000000e+00            0   \n",
      "182   2/188  9.637996e-01      1.000000e+00            0   \n",
      "183   1/125  9.672631e-01      1.000000e+00            0   \n",
      "184   1/132  9.729850e-01      1.000000e+00            0   \n",
      "185   2/212  9.792837e-01      1.000000e+00            0   \n",
      "186   2/212  9.792837e-01      1.000000e+00            0   \n",
      "187   7/492  9.798735e-01      1.000000e+00            0   \n",
      "188   1/148  9.825901e-01      1.000000e+00            0   \n",
      "189   1/153  9.848246e-01      1.000000e+00            0   \n",
      "190   3/294  9.866065e-01      1.000000e+00            0   \n",
      "191   1/206  9.964682e-01      1.000000e+00            0   \n",
      "\n",
      "     Old Adjusted P-value  Odds Ratio  Combined Score  \\\n",
      "0                       0    8.465531      285.707436   \n",
      "1                       0    6.103312      154.486402   \n",
      "2                       0    5.407232      134.154142   \n",
      "3                       0    6.127701      108.869685   \n",
      "4                       0    7.195107       63.210650   \n",
      "5                       0    3.097893       26.603762   \n",
      "6                       0    2.713483       14.998837   \n",
      "7                       0    2.391356       11.973649   \n",
      "8                       0    3.540450       17.644772   \n",
      "9                       0    4.130525       20.518840   \n",
      "10                      0    3.793339       17.486362   \n",
      "11                      0    2.563774       11.104900   \n",
      "12                      0    2.973978       12.387175   \n",
      "13                      0    4.848877       18.295379   \n",
      "14                      0    2.859594        9.980934   \n",
      "15                      0    2.065262        7.147269   \n",
      "16                      0    2.155056        7.338311   \n",
      "17                      0    2.139552        7.207350   \n",
      "18                      0    2.347877        7.382943   \n",
      "19                      0    2.581578        8.037582   \n",
      "20                      0    2.098573        6.272763   \n",
      "21                      0    2.703616        7.593808   \n",
      "22                      0    1.882264        5.173374   \n",
      "23                      0    2.520320        6.558102   \n",
      "24                      0    3.014167        7.738756   \n",
      "25                      0    1.802411        4.598332   \n",
      "26                      0    2.788104        6.649475   \n",
      "27                      0    1.664540        3.936345   \n",
      "28                      0    2.720102        6.332771   \n",
      "29                      0    2.720102        6.332771   \n",
      "..                    ...         ...             ...   \n",
      "162                     0    0.609422        0.066187   \n",
      "163                     0    0.523588        0.056151   \n",
      "164                     0    0.413052        0.036900   \n",
      "165                     0    0.413052        0.036900   \n",
      "166                     0    0.408513        0.035464   \n",
      "167                     0    0.404073        0.034090   \n",
      "168                     0    0.387237        0.029147   \n",
      "169                     0    0.383245        0.028038   \n",
      "170                     0    0.383245        0.028038   \n",
      "171                     0    0.379334        0.026974   \n",
      "172                     0    0.464684        0.032894   \n",
      "173                     0    0.375502        0.025955   \n",
      "174                     0    0.375502        0.025955   \n",
      "175                     0    0.447888        0.027588   \n",
      "176                     0    0.350705        0.019886   \n",
      "177                     0    0.480708        0.024140   \n",
      "178                     0    0.328980        0.015319   \n",
      "179                     0    0.410770        0.017842   \n",
      "180                     0    0.312393        0.012296   \n",
      "181                     0    0.309789        0.011857   \n",
      "182                     0    0.395476        0.014582   \n",
      "183                     0    0.297398        0.009899   \n",
      "184                     0    0.281627        0.007713   \n",
      "185                     0    0.350705        0.007342   \n",
      "186                     0    0.350705        0.007342   \n",
      "187                     0    0.528909        0.010754   \n",
      "188                     0    0.251181        0.004412   \n",
      "189                     0    0.242972        0.003715   \n",
      "190                     0    0.379334        0.005115   \n",
      "191                     0    0.180460        0.000638   \n",
      "\n",
      "                                                 Genes  \n",
      "0    WDR36;NOP58;UTP6;CSNK2A1;UTP4;POP1;WDR3;RPP40;...  \n",
      "1    SF3B4;TCERG1;AQR;RBM25;SF3B2;EIF4A3;DDX23;PRPF...  \n",
      "2    UPF2;UPF1;POP1;GEMIN2;EIF4A3;RPP40;NUP153;CASC...  \n",
      "3    UPF2;UPF1;SMG1;RNGTT;CPSF1;RNMT;CPSF3;EIF4A3;C...  \n",
      "4            POLR3A;POLR3B;POLR2B;POLR3C;POLR3E;POLR3F  \n",
      "5    SMARCE1;SMARCD1;SMARCC1;SMARCB1;PHF10;CDKN2A;A...  \n",
      "6    UBE2C;UBE2S;FBXO2;UBR5;HUWE1;KEAP1;UBE2J2;SAE1...  \n",
      "7    NXF1;XPO1;STAT1;STAT2;TNFSF10;NXF2B;CASP1;EP30...  \n",
      "8             POLR3A;POLR3B;POLR3C;POLR3E;CASP1;POLR3F  \n",
      "9                     TAF6L;GTF2IRD1;GTF2E2;TAF2;GTF2I  \n",
      "10                         COMP;CD40;VCAM1;THBS2;ICAM1  \n",
      "11       MED12;MED1;MED14;MED24;STAT1;EP300;TP53;MED17  \n",
      "12                STAT1;CDKN2A;ERBB2;STAT3;TP53;BCL2L1  \n",
      "13                                      MSH6;RFC4;MSH2  \n",
      "14                    CSNK2A1;SQSTM1;TP53;RAB7A;BCL2L1  \n",
      "15   PARP1;STAT1;STAT2;STAT3;TNFSF10;CASP1;EIF2AK2;...  \n",
      "16   CSNK2A1;CCNE1;STAT1;STAT2;STAT3;EIF2AK2;TP53;B...  \n",
      "17   VCAM1;SUMO1;SUMO3;KEAP1;ARHGEF2;SQSTM1;TP53;ICAM1  \n",
      "18               CD40;VCAM1;CSNK2A1;PARP1;ICAM1;BCL2L1  \n",
      "19                   CSNK2A1;ERBB2;EP300;WASF1;NECTIN3  \n",
      "20              ORC5;CCNE1;CDKN2A;ORC3;MCM3;EP300;TP53  \n",
      "21                           TUBB2B;NCL;ARHGEF2;TUBB4A  \n",
      "22   SFRP2;CSNK2A1;TBL1XR1;CHD8;EP300;WNT7A;SENP2;TP53  \n",
      "23                         SETDB1;EHMT2;KMT2B;COLGALT1  \n",
      "24                                     PAX8;CCDC6;TP53  \n",
      "25   GANAB;NPLOC4;OS9;FBXO2;EIF2AK2;UBE2J2;PDIA6;HS...  \n",
      "26                                       GCSH;GLDC;CBS  \n",
      "27   CD40;STAT1;CCNE1;STAT2;STAT3;EIF2AK2;CIR1;TP53...  \n",
      "28                                   CDKN2A;ERBB2;TP53  \n",
      "29                                   NBN;TOPBP1;RAD54B  \n",
      "..                                                 ...  \n",
      "162                             PRKCI;RAB7A;DNM2;CHMP5  \n",
      "163                                       UCHL1;UBE2J2  \n",
      "164                                            SLC38A2  \n",
      "165                                               CD38  \n",
      "166                                              ICAM1  \n",
      "167                                              STAT1  \n",
      "168                                              RAB7A  \n",
      "169                                               PLD3  \n",
      "170                                               CD38  \n",
      "171                                               CD38  \n",
      "172                                        PRKCI;WNT7A  \n",
      "173                                              WASF1  \n",
      "174                                              STK10  \n",
      "175                                     GTF2IRD1;GTF2I  \n",
      "176                                            ARHGEF1  \n",
      "177                                 RASAL1;PAK2;BCL2L1  \n",
      "178                                              ALOX5  \n",
      "179                                         L1CAM;PAK2  \n",
      "180                                               TP53  \n",
      "181                                               PCK1  \n",
      "182                                         ERBB2;CD38  \n",
      "183                                              CCNE1  \n",
      "184                                            ARHGEF1  \n",
      "185                                         EP300;VAV1  \n",
      "186                                        PAK2;BCL2L1  \n",
      "187         NXF1;STAT1;STAT2;NXF2B;EIF2AK2;TP53;BCL2L1  \n",
      "188                                               DNM2  \n",
      "189                                               CD38  \n",
      "190                                 CD40;TNFSF10;INHBA  \n",
      "191                                              PRKCI  \n",
      "\n"
     ]
    },
    {
     "name": "stdout",
     "output_type": "stream",
     "text": [
      "[192 rows x 10 columns]\n"
     ]
    },
    {
     "ename": "ConnectionError",
     "evalue": "HTTPConnectionPool(host='amp.pharm.mssm.edu', port=80): Max retries exceeded with url: /Enrichr/datasetStatistics (Caused by NewConnectionError('<urllib3.connection.HTTPConnection object at 0x00000167474C0320>: Failed to establish a new connection: [WinError 10060] A connection attempt failed because the connected party did not properly respond after a period of time, or established connection failed because connected host has failed to respond',))",
     "output_type": "error",
     "traceback": [
      "\u001b[1;31m---------------------------------------------------------------------------\u001b[0m",
      "\u001b[1;31mTimeoutError\u001b[0m                              Traceback (most recent call last)",
      "\u001b[1;32m~\\AppData\\Local\\conda\\conda\\envs\\Research\\lib\\site-packages\\urllib3\\connection.py\u001b[0m in \u001b[0;36m_new_conn\u001b[1;34m(self)\u001b[0m\n\u001b[0;32m    159\u001b[0m             conn = connection.create_connection(\n\u001b[1;32m--> 160\u001b[1;33m                 (self._dns_host, self.port), self.timeout, **extra_kw)\n\u001b[0m\u001b[0;32m    161\u001b[0m \u001b[1;33m\u001b[0m\u001b[0m\n",
      "\u001b[1;32m~\\AppData\\Local\\conda\\conda\\envs\\Research\\lib\\site-packages\\urllib3\\util\\connection.py\u001b[0m in \u001b[0;36mcreate_connection\u001b[1;34m(address, timeout, source_address, socket_options)\u001b[0m\n\u001b[0;32m     79\u001b[0m     \u001b[1;32mif\u001b[0m \u001b[0merr\u001b[0m \u001b[1;32mis\u001b[0m \u001b[1;32mnot\u001b[0m \u001b[1;32mNone\u001b[0m\u001b[1;33m:\u001b[0m\u001b[1;33m\u001b[0m\u001b[0m\n\u001b[1;32m---> 80\u001b[1;33m         \u001b[1;32mraise\u001b[0m \u001b[0merr\u001b[0m\u001b[1;33m\u001b[0m\u001b[0m\n\u001b[0m\u001b[0;32m     81\u001b[0m \u001b[1;33m\u001b[0m\u001b[0m\n",
      "\u001b[1;32m~\\AppData\\Local\\conda\\conda\\envs\\Research\\lib\\site-packages\\urllib3\\util\\connection.py\u001b[0m in \u001b[0;36mcreate_connection\u001b[1;34m(address, timeout, source_address, socket_options)\u001b[0m\n\u001b[0;32m     69\u001b[0m                 \u001b[0msock\u001b[0m\u001b[1;33m.\u001b[0m\u001b[0mbind\u001b[0m\u001b[1;33m(\u001b[0m\u001b[0msource_address\u001b[0m\u001b[1;33m)\u001b[0m\u001b[1;33m\u001b[0m\u001b[0m\n\u001b[1;32m---> 70\u001b[1;33m             \u001b[0msock\u001b[0m\u001b[1;33m.\u001b[0m\u001b[0mconnect\u001b[0m\u001b[1;33m(\u001b[0m\u001b[0msa\u001b[0m\u001b[1;33m)\u001b[0m\u001b[1;33m\u001b[0m\u001b[0m\n\u001b[0m\u001b[0;32m     71\u001b[0m             \u001b[1;32mreturn\u001b[0m \u001b[0msock\u001b[0m\u001b[1;33m\u001b[0m\u001b[0m\n",
      "\u001b[1;31mTimeoutError\u001b[0m: [WinError 10060] A connection attempt failed because the connected party did not properly respond after a period of time, or established connection failed because connected host has failed to respond",
      "\nDuring handling of the above exception, another exception occurred:\n",
      "\u001b[1;31mNewConnectionError\u001b[0m                        Traceback (most recent call last)",
      "\u001b[1;32m~\\AppData\\Local\\conda\\conda\\envs\\Research\\lib\\site-packages\\urllib3\\connectionpool.py\u001b[0m in \u001b[0;36murlopen\u001b[1;34m(self, method, url, body, headers, retries, redirect, assert_same_host, timeout, pool_timeout, release_conn, chunked, body_pos, **response_kw)\u001b[0m\n\u001b[0;32m    602\u001b[0m                                                   \u001b[0mbody\u001b[0m\u001b[1;33m=\u001b[0m\u001b[0mbody\u001b[0m\u001b[1;33m,\u001b[0m \u001b[0mheaders\u001b[0m\u001b[1;33m=\u001b[0m\u001b[0mheaders\u001b[0m\u001b[1;33m,\u001b[0m\u001b[1;33m\u001b[0m\u001b[0m\n\u001b[1;32m--> 603\u001b[1;33m                                                   chunked=chunked)\n\u001b[0m\u001b[0;32m    604\u001b[0m \u001b[1;33m\u001b[0m\u001b[0m\n",
      "\u001b[1;32m~\\AppData\\Local\\conda\\conda\\envs\\Research\\lib\\site-packages\\urllib3\\connectionpool.py\u001b[0m in \u001b[0;36m_make_request\u001b[1;34m(self, conn, method, url, timeout, chunked, **httplib_request_kw)\u001b[0m\n\u001b[0;32m    354\u001b[0m         \u001b[1;32melse\u001b[0m\u001b[1;33m:\u001b[0m\u001b[1;33m\u001b[0m\u001b[0m\n\u001b[1;32m--> 355\u001b[1;33m             \u001b[0mconn\u001b[0m\u001b[1;33m.\u001b[0m\u001b[0mrequest\u001b[0m\u001b[1;33m(\u001b[0m\u001b[0mmethod\u001b[0m\u001b[1;33m,\u001b[0m \u001b[0murl\u001b[0m\u001b[1;33m,\u001b[0m \u001b[1;33m**\u001b[0m\u001b[0mhttplib_request_kw\u001b[0m\u001b[1;33m)\u001b[0m\u001b[1;33m\u001b[0m\u001b[0m\n\u001b[0m\u001b[0;32m    356\u001b[0m \u001b[1;33m\u001b[0m\u001b[0m\n",
      "\u001b[1;32m~\\AppData\\Local\\conda\\conda\\envs\\Research\\lib\\http\\client.py\u001b[0m in \u001b[0;36mrequest\u001b[1;34m(self, method, url, body, headers, encode_chunked)\u001b[0m\n\u001b[0;32m   1238\u001b[0m         \u001b[1;34m\"\"\"Send a complete request to the server.\"\"\"\u001b[0m\u001b[1;33m\u001b[0m\u001b[0m\n\u001b[1;32m-> 1239\u001b[1;33m         \u001b[0mself\u001b[0m\u001b[1;33m.\u001b[0m\u001b[0m_send_request\u001b[0m\u001b[1;33m(\u001b[0m\u001b[0mmethod\u001b[0m\u001b[1;33m,\u001b[0m \u001b[0murl\u001b[0m\u001b[1;33m,\u001b[0m \u001b[0mbody\u001b[0m\u001b[1;33m,\u001b[0m \u001b[0mheaders\u001b[0m\u001b[1;33m,\u001b[0m \u001b[0mencode_chunked\u001b[0m\u001b[1;33m)\u001b[0m\u001b[1;33m\u001b[0m\u001b[0m\n\u001b[0m\u001b[0;32m   1240\u001b[0m \u001b[1;33m\u001b[0m\u001b[0m\n",
      "\u001b[1;32m~\\AppData\\Local\\conda\\conda\\envs\\Research\\lib\\http\\client.py\u001b[0m in \u001b[0;36m_send_request\u001b[1;34m(self, method, url, body, headers, encode_chunked)\u001b[0m\n\u001b[0;32m   1284\u001b[0m             \u001b[0mbody\u001b[0m \u001b[1;33m=\u001b[0m \u001b[0m_encode\u001b[0m\u001b[1;33m(\u001b[0m\u001b[0mbody\u001b[0m\u001b[1;33m,\u001b[0m \u001b[1;34m'body'\u001b[0m\u001b[1;33m)\u001b[0m\u001b[1;33m\u001b[0m\u001b[0m\n\u001b[1;32m-> 1285\u001b[1;33m         \u001b[0mself\u001b[0m\u001b[1;33m.\u001b[0m\u001b[0mendheaders\u001b[0m\u001b[1;33m(\u001b[0m\u001b[0mbody\u001b[0m\u001b[1;33m,\u001b[0m \u001b[0mencode_chunked\u001b[0m\u001b[1;33m=\u001b[0m\u001b[0mencode_chunked\u001b[0m\u001b[1;33m)\u001b[0m\u001b[1;33m\u001b[0m\u001b[0m\n\u001b[0m\u001b[0;32m   1286\u001b[0m \u001b[1;33m\u001b[0m\u001b[0m\n",
      "\u001b[1;32m~\\AppData\\Local\\conda\\conda\\envs\\Research\\lib\\http\\client.py\u001b[0m in \u001b[0;36mendheaders\u001b[1;34m(self, message_body, encode_chunked)\u001b[0m\n\u001b[0;32m   1233\u001b[0m             \u001b[1;32mraise\u001b[0m \u001b[0mCannotSendHeader\u001b[0m\u001b[1;33m(\u001b[0m\u001b[1;33m)\u001b[0m\u001b[1;33m\u001b[0m\u001b[0m\n\u001b[1;32m-> 1234\u001b[1;33m         \u001b[0mself\u001b[0m\u001b[1;33m.\u001b[0m\u001b[0m_send_output\u001b[0m\u001b[1;33m(\u001b[0m\u001b[0mmessage_body\u001b[0m\u001b[1;33m,\u001b[0m \u001b[0mencode_chunked\u001b[0m\u001b[1;33m=\u001b[0m\u001b[0mencode_chunked\u001b[0m\u001b[1;33m)\u001b[0m\u001b[1;33m\u001b[0m\u001b[0m\n\u001b[0m\u001b[0;32m   1235\u001b[0m \u001b[1;33m\u001b[0m\u001b[0m\n",
      "\u001b[1;32m~\\AppData\\Local\\conda\\conda\\envs\\Research\\lib\\http\\client.py\u001b[0m in \u001b[0;36m_send_output\u001b[1;34m(self, message_body, encode_chunked)\u001b[0m\n\u001b[0;32m   1025\u001b[0m         \u001b[1;32mdel\u001b[0m \u001b[0mself\u001b[0m\u001b[1;33m.\u001b[0m\u001b[0m_buffer\u001b[0m\u001b[1;33m[\u001b[0m\u001b[1;33m:\u001b[0m\u001b[1;33m]\u001b[0m\u001b[1;33m\u001b[0m\u001b[0m\n\u001b[1;32m-> 1026\u001b[1;33m         \u001b[0mself\u001b[0m\u001b[1;33m.\u001b[0m\u001b[0msend\u001b[0m\u001b[1;33m(\u001b[0m\u001b[0mmsg\u001b[0m\u001b[1;33m)\u001b[0m\u001b[1;33m\u001b[0m\u001b[0m\n\u001b[0m\u001b[0;32m   1027\u001b[0m \u001b[1;33m\u001b[0m\u001b[0m\n",
      "\u001b[1;32m~\\AppData\\Local\\conda\\conda\\envs\\Research\\lib\\http\\client.py\u001b[0m in \u001b[0;36msend\u001b[1;34m(self, data)\u001b[0m\n\u001b[0;32m    963\u001b[0m             \u001b[1;32mif\u001b[0m \u001b[0mself\u001b[0m\u001b[1;33m.\u001b[0m\u001b[0mauto_open\u001b[0m\u001b[1;33m:\u001b[0m\u001b[1;33m\u001b[0m\u001b[0m\n\u001b[1;32m--> 964\u001b[1;33m                 \u001b[0mself\u001b[0m\u001b[1;33m.\u001b[0m\u001b[0mconnect\u001b[0m\u001b[1;33m(\u001b[0m\u001b[1;33m)\u001b[0m\u001b[1;33m\u001b[0m\u001b[0m\n\u001b[0m\u001b[0;32m    965\u001b[0m             \u001b[1;32melse\u001b[0m\u001b[1;33m:\u001b[0m\u001b[1;33m\u001b[0m\u001b[0m\n",
      "\u001b[1;32m~\\AppData\\Local\\conda\\conda\\envs\\Research\\lib\\site-packages\\urllib3\\connection.py\u001b[0m in \u001b[0;36mconnect\u001b[1;34m(self)\u001b[0m\n\u001b[0;32m    182\u001b[0m     \u001b[1;32mdef\u001b[0m \u001b[0mconnect\u001b[0m\u001b[1;33m(\u001b[0m\u001b[0mself\u001b[0m\u001b[1;33m)\u001b[0m\u001b[1;33m:\u001b[0m\u001b[1;33m\u001b[0m\u001b[0m\n\u001b[1;32m--> 183\u001b[1;33m         \u001b[0mconn\u001b[0m \u001b[1;33m=\u001b[0m \u001b[0mself\u001b[0m\u001b[1;33m.\u001b[0m\u001b[0m_new_conn\u001b[0m\u001b[1;33m(\u001b[0m\u001b[1;33m)\u001b[0m\u001b[1;33m\u001b[0m\u001b[0m\n\u001b[0m\u001b[0;32m    184\u001b[0m         \u001b[0mself\u001b[0m\u001b[1;33m.\u001b[0m\u001b[0m_prepare_conn\u001b[0m\u001b[1;33m(\u001b[0m\u001b[0mconn\u001b[0m\u001b[1;33m)\u001b[0m\u001b[1;33m\u001b[0m\u001b[0m\n",
      "\u001b[1;32m~\\AppData\\Local\\conda\\conda\\envs\\Research\\lib\\site-packages\\urllib3\\connection.py\u001b[0m in \u001b[0;36m_new_conn\u001b[1;34m(self)\u001b[0m\n\u001b[0;32m    168\u001b[0m             raise NewConnectionError(\n\u001b[1;32m--> 169\u001b[1;33m                 self, \"Failed to establish a new connection: %s\" % e)\n\u001b[0m\u001b[0;32m    170\u001b[0m \u001b[1;33m\u001b[0m\u001b[0m\n",
      "\u001b[1;31mNewConnectionError\u001b[0m: <urllib3.connection.HTTPConnection object at 0x00000167474C0320>: Failed to establish a new connection: [WinError 10060] A connection attempt failed because the connected party did not properly respond after a period of time, or established connection failed because connected host has failed to respond",
      "\nDuring handling of the above exception, another exception occurred:\n",
      "\u001b[1;31mMaxRetryError\u001b[0m                             Traceback (most recent call last)",
      "\u001b[1;32m~\\AppData\\Local\\conda\\conda\\envs\\Research\\lib\\site-packages\\requests\\adapters.py\u001b[0m in \u001b[0;36msend\u001b[1;34m(self, request, stream, timeout, verify, cert, proxies)\u001b[0m\n\u001b[0;32m    448\u001b[0m                     \u001b[0mretries\u001b[0m\u001b[1;33m=\u001b[0m\u001b[0mself\u001b[0m\u001b[1;33m.\u001b[0m\u001b[0mmax_retries\u001b[0m\u001b[1;33m,\u001b[0m\u001b[1;33m\u001b[0m\u001b[0m\n\u001b[1;32m--> 449\u001b[1;33m                     \u001b[0mtimeout\u001b[0m\u001b[1;33m=\u001b[0m\u001b[0mtimeout\u001b[0m\u001b[1;33m\u001b[0m\u001b[0m\n\u001b[0m\u001b[0;32m    450\u001b[0m                 )\n",
      "\u001b[1;32m~\\AppData\\Local\\conda\\conda\\envs\\Research\\lib\\site-packages\\urllib3\\connectionpool.py\u001b[0m in \u001b[0;36murlopen\u001b[1;34m(self, method, url, body, headers, retries, redirect, assert_same_host, timeout, pool_timeout, release_conn, chunked, body_pos, **response_kw)\u001b[0m\n\u001b[0;32m    640\u001b[0m             retries = retries.increment(method, url, error=e, _pool=self,\n\u001b[1;32m--> 641\u001b[1;33m                                         _stacktrace=sys.exc_info()[2])\n\u001b[0m\u001b[0;32m    642\u001b[0m             \u001b[0mretries\u001b[0m\u001b[1;33m.\u001b[0m\u001b[0msleep\u001b[0m\u001b[1;33m(\u001b[0m\u001b[1;33m)\u001b[0m\u001b[1;33m\u001b[0m\u001b[0m\n",
      "\u001b[1;32m~\\AppData\\Local\\conda\\conda\\envs\\Research\\lib\\site-packages\\urllib3\\util\\retry.py\u001b[0m in \u001b[0;36mincrement\u001b[1;34m(self, method, url, response, error, _pool, _stacktrace)\u001b[0m\n\u001b[0;32m    398\u001b[0m         \u001b[1;32mif\u001b[0m \u001b[0mnew_retry\u001b[0m\u001b[1;33m.\u001b[0m\u001b[0mis_exhausted\u001b[0m\u001b[1;33m(\u001b[0m\u001b[1;33m)\u001b[0m\u001b[1;33m:\u001b[0m\u001b[1;33m\u001b[0m\u001b[0m\n\u001b[1;32m--> 399\u001b[1;33m             \u001b[1;32mraise\u001b[0m \u001b[0mMaxRetryError\u001b[0m\u001b[1;33m(\u001b[0m\u001b[0m_pool\u001b[0m\u001b[1;33m,\u001b[0m \u001b[0murl\u001b[0m\u001b[1;33m,\u001b[0m \u001b[0merror\u001b[0m \u001b[1;32mor\u001b[0m \u001b[0mResponseError\u001b[0m\u001b[1;33m(\u001b[0m\u001b[0mcause\u001b[0m\u001b[1;33m)\u001b[0m\u001b[1;33m)\u001b[0m\u001b[1;33m\u001b[0m\u001b[0m\n\u001b[0m\u001b[0;32m    400\u001b[0m \u001b[1;33m\u001b[0m\u001b[0m\n",
      "\u001b[1;31mMaxRetryError\u001b[0m: HTTPConnectionPool(host='amp.pharm.mssm.edu', port=80): Max retries exceeded with url: /Enrichr/datasetStatistics (Caused by NewConnectionError('<urllib3.connection.HTTPConnection object at 0x00000167474C0320>: Failed to establish a new connection: [WinError 10060] A connection attempt failed because the connected party did not properly respond after a period of time, or established connection failed because connected host has failed to respond',))",
      "\nDuring handling of the above exception, another exception occurred:\n",
      "\u001b[1;31mConnectionError\u001b[0m                           Traceback (most recent call last)",
      "\u001b[1;32m<ipython-input-30-3736040f0c05>\u001b[0m in \u001b[0;36m<module>\u001b[1;34m()\u001b[0m\n\u001b[0;32m      8\u001b[0m                             \u001b[0mgene_sets\u001b[0m\u001b[1;33m=\u001b[0m\u001b[1;34m'KEGG_2019_Human'\u001b[0m\u001b[1;33m,\u001b[0m\u001b[1;33m\u001b[0m\u001b[0m\n\u001b[0;32m      9\u001b[0m                             \u001b[0moutdir\u001b[0m\u001b[1;33m=\u001b[0m\u001b[1;34m'test/enrichr_kegg'\u001b[0m\u001b[1;33m,\u001b[0m\u001b[1;33m\u001b[0m\u001b[0m\n\u001b[1;32m---> 10\u001b[1;33m                             cutoff=0.5)\n\u001b[0m\u001b[0;32m     11\u001b[0m     \u001b[0mprint\u001b[0m\u001b[1;33m(\u001b[0m\u001b[0menrichment\u001b[0m\u001b[1;33m.\u001b[0m\u001b[0mres2d\u001b[0m\u001b[1;33m)\u001b[0m\u001b[1;33m\u001b[0m\u001b[0m\n\u001b[0;32m     12\u001b[0m     \u001b[0mbarplot\u001b[0m\u001b[1;33m(\u001b[0m\u001b[0menrichment\u001b[0m\u001b[1;33m.\u001b[0m\u001b[0mres2d\u001b[0m\u001b[1;33m,\u001b[0m \u001b[0mtitle\u001b[0m\u001b[1;33m=\u001b[0m\u001b[0mcol_name\u001b[0m\u001b[1;33m)\u001b[0m\u001b[1;33m\u001b[0m\u001b[0m\n",
      "\u001b[1;32m~\\AppData\\Local\\conda\\conda\\envs\\Research\\lib\\site-packages\\gseapy\\enrichr.py\u001b[0m in \u001b[0;36menrichr\u001b[1;34m(gene_list, gene_sets, organism, description, outdir, background, cutoff, format, figsize, top_term, no_plot, verbose)\u001b[0m\n\u001b[0;32m    389\u001b[0m     enr = Enrichr(gene_list, gene_sets, organism, description, outdir,\n\u001b[0;32m    390\u001b[0m                   cutoff, background, format, figsize, top_term, no_plot, verbose)\n\u001b[1;32m--> 391\u001b[1;33m     \u001b[0menr\u001b[0m\u001b[1;33m.\u001b[0m\u001b[0mrun\u001b[0m\u001b[1;33m(\u001b[0m\u001b[1;33m)\u001b[0m\u001b[1;33m\u001b[0m\u001b[0m\n\u001b[0m\u001b[0;32m    392\u001b[0m \u001b[1;33m\u001b[0m\u001b[0m\n\u001b[0;32m    393\u001b[0m     \u001b[1;32mreturn\u001b[0m \u001b[0menr\u001b[0m\u001b[1;33m\u001b[0m\u001b[0m\n",
      "\u001b[1;32m~\\AppData\\Local\\conda\\conda\\envs\\Research\\lib\\site-packages\\gseapy\\enrichr.py\u001b[0m in \u001b[0;36mrun\u001b[1;34m(self)\u001b[0m\n\u001b[0;32m    307\u001b[0m         \u001b[1;31m# read input file\u001b[0m\u001b[1;33m\u001b[0m\u001b[1;33m\u001b[0m\u001b[0m\n\u001b[0;32m    308\u001b[0m         \u001b[0mgenes_list\u001b[0m \u001b[1;33m=\u001b[0m \u001b[0mself\u001b[0m\u001b[1;33m.\u001b[0m\u001b[0mparse_genelists\u001b[0m\u001b[1;33m(\u001b[0m\u001b[1;33m)\u001b[0m\u001b[1;33m\u001b[0m\u001b[0m\n\u001b[1;32m--> 309\u001b[1;33m         \u001b[0mgss\u001b[0m \u001b[1;33m=\u001b[0m \u001b[0mself\u001b[0m\u001b[1;33m.\u001b[0m\u001b[0mparse_genesets\u001b[0m\u001b[1;33m(\u001b[0m\u001b[1;33m)\u001b[0m\u001b[1;33m\u001b[0m\u001b[0m\n\u001b[0m\u001b[0;32m    310\u001b[0m         \u001b[1;31m# if gmt\u001b[0m\u001b[1;33m\u001b[0m\u001b[1;33m\u001b[0m\u001b[0m\n\u001b[0;32m    311\u001b[0m         \u001b[0mself\u001b[0m\u001b[1;33m.\u001b[0m\u001b[0m_logger\u001b[0m\u001b[1;33m.\u001b[0m\u001b[0minfo\u001b[0m\u001b[1;33m(\u001b[0m\u001b[1;34m\"Connecting to Enrichr Server to get latest library names\"\u001b[0m\u001b[1;33m)\u001b[0m\u001b[1;33m\u001b[0m\u001b[0m\n",
      "\u001b[1;32m~\\AppData\\Local\\conda\\conda\\envs\\Research\\lib\\site-packages\\gseapy\\enrichr.py\u001b[0m in \u001b[0;36mparse_genesets\u001b[1;34m(self)\u001b[0m\n\u001b[0;32m     66\u001b[0m         \u001b[1;34m\"\"\"parse gene_sets input file type\"\"\"\u001b[0m\u001b[1;33m\u001b[0m\u001b[0m\n\u001b[0;32m     67\u001b[0m \u001b[1;33m\u001b[0m\u001b[0m\n\u001b[1;32m---> 68\u001b[1;33m         \u001b[0menrichr_library\u001b[0m \u001b[1;33m=\u001b[0m \u001b[0mself\u001b[0m\u001b[1;33m.\u001b[0m\u001b[0mget_libraries\u001b[0m\u001b[1;33m(\u001b[0m\u001b[1;33m)\u001b[0m\u001b[1;33m\u001b[0m\u001b[0m\n\u001b[0m\u001b[0;32m     69\u001b[0m         \u001b[1;32mif\u001b[0m \u001b[0misinstance\u001b[0m\u001b[1;33m(\u001b[0m\u001b[0mself\u001b[0m\u001b[1;33m.\u001b[0m\u001b[0mgene_sets\u001b[0m\u001b[1;33m,\u001b[0m \u001b[0mlist\u001b[0m\u001b[1;33m)\u001b[0m\u001b[1;33m:\u001b[0m\u001b[1;33m\u001b[0m\u001b[0m\n\u001b[0;32m     70\u001b[0m             \u001b[0mgss\u001b[0m \u001b[1;33m=\u001b[0m \u001b[0mself\u001b[0m\u001b[1;33m.\u001b[0m\u001b[0mgene_sets\u001b[0m\u001b[1;33m\u001b[0m\u001b[0m\n",
      "\u001b[1;32m~\\AppData\\Local\\conda\\conda\\envs\\Research\\lib\\site-packages\\gseapy\\enrichr.py\u001b[0m in \u001b[0;36mget_libraries\u001b[1;34m(self)\u001b[0m\n\u001b[0;32m    180\u001b[0m         \u001b[1;34m\"\"\"return active enrichr library name. Official API \"\"\"\u001b[0m\u001b[1;33m\u001b[0m\u001b[0m\n\u001b[0;32m    181\u001b[0m         \u001b[0mlib_url\u001b[0m\u001b[1;33m=\u001b[0m\u001b[1;34m'http://amp.pharm.mssm.edu/%sEnrichr/datasetStatistics'\u001b[0m\u001b[1;33m%\u001b[0m\u001b[0mself\u001b[0m\u001b[1;33m.\u001b[0m\u001b[0m_organism\u001b[0m\u001b[1;33m\u001b[0m\u001b[0m\n\u001b[1;32m--> 182\u001b[1;33m         \u001b[0mlibs_json\u001b[0m \u001b[1;33m=\u001b[0m \u001b[0mjson\u001b[0m\u001b[1;33m.\u001b[0m\u001b[0mloads\u001b[0m\u001b[1;33m(\u001b[0m\u001b[0mrequests\u001b[0m\u001b[1;33m.\u001b[0m\u001b[0mget\u001b[0m\u001b[1;33m(\u001b[0m\u001b[0mlib_url\u001b[0m\u001b[1;33m)\u001b[0m\u001b[1;33m.\u001b[0m\u001b[0mtext\u001b[0m\u001b[1;33m)\u001b[0m\u001b[1;33m\u001b[0m\u001b[0m\n\u001b[0m\u001b[0;32m    183\u001b[0m         \u001b[0mlibs\u001b[0m \u001b[1;33m=\u001b[0m \u001b[1;33m[\u001b[0m\u001b[0mlib\u001b[0m\u001b[1;33m[\u001b[0m\u001b[1;34m'libraryName'\u001b[0m\u001b[1;33m]\u001b[0m \u001b[1;32mfor\u001b[0m \u001b[0mlib\u001b[0m \u001b[1;32min\u001b[0m \u001b[0mlibs_json\u001b[0m\u001b[1;33m[\u001b[0m\u001b[1;34m'statistics'\u001b[0m\u001b[1;33m]\u001b[0m\u001b[1;33m]\u001b[0m\u001b[1;33m\u001b[0m\u001b[0m\n\u001b[0;32m    184\u001b[0m         \u001b[1;32mreturn\u001b[0m \u001b[0msorted\u001b[0m\u001b[1;33m(\u001b[0m\u001b[0mlibs\u001b[0m\u001b[1;33m)\u001b[0m\u001b[1;33m\u001b[0m\u001b[0m\n",
      "\u001b[1;32m~\\AppData\\Local\\conda\\conda\\envs\\Research\\lib\\site-packages\\requests\\api.py\u001b[0m in \u001b[0;36mget\u001b[1;34m(url, params, **kwargs)\u001b[0m\n\u001b[0;32m     73\u001b[0m \u001b[1;33m\u001b[0m\u001b[0m\n\u001b[0;32m     74\u001b[0m     \u001b[0mkwargs\u001b[0m\u001b[1;33m.\u001b[0m\u001b[0msetdefault\u001b[0m\u001b[1;33m(\u001b[0m\u001b[1;34m'allow_redirects'\u001b[0m\u001b[1;33m,\u001b[0m \u001b[1;32mTrue\u001b[0m\u001b[1;33m)\u001b[0m\u001b[1;33m\u001b[0m\u001b[0m\n\u001b[1;32m---> 75\u001b[1;33m     \u001b[1;32mreturn\u001b[0m \u001b[0mrequest\u001b[0m\u001b[1;33m(\u001b[0m\u001b[1;34m'get'\u001b[0m\u001b[1;33m,\u001b[0m \u001b[0murl\u001b[0m\u001b[1;33m,\u001b[0m \u001b[0mparams\u001b[0m\u001b[1;33m=\u001b[0m\u001b[0mparams\u001b[0m\u001b[1;33m,\u001b[0m \u001b[1;33m**\u001b[0m\u001b[0mkwargs\u001b[0m\u001b[1;33m)\u001b[0m\u001b[1;33m\u001b[0m\u001b[0m\n\u001b[0m\u001b[0;32m     76\u001b[0m \u001b[1;33m\u001b[0m\u001b[0m\n\u001b[0;32m     77\u001b[0m \u001b[1;33m\u001b[0m\u001b[0m\n",
      "\u001b[1;32m~\\AppData\\Local\\conda\\conda\\envs\\Research\\lib\\site-packages\\requests\\api.py\u001b[0m in \u001b[0;36mrequest\u001b[1;34m(method, url, **kwargs)\u001b[0m\n\u001b[0;32m     58\u001b[0m     \u001b[1;31m# cases, and look like a memory leak in others.\u001b[0m\u001b[1;33m\u001b[0m\u001b[1;33m\u001b[0m\u001b[0m\n\u001b[0;32m     59\u001b[0m     \u001b[1;32mwith\u001b[0m \u001b[0msessions\u001b[0m\u001b[1;33m.\u001b[0m\u001b[0mSession\u001b[0m\u001b[1;33m(\u001b[0m\u001b[1;33m)\u001b[0m \u001b[1;32mas\u001b[0m \u001b[0msession\u001b[0m\u001b[1;33m:\u001b[0m\u001b[1;33m\u001b[0m\u001b[0m\n\u001b[1;32m---> 60\u001b[1;33m         \u001b[1;32mreturn\u001b[0m \u001b[0msession\u001b[0m\u001b[1;33m.\u001b[0m\u001b[0mrequest\u001b[0m\u001b[1;33m(\u001b[0m\u001b[0mmethod\u001b[0m\u001b[1;33m=\u001b[0m\u001b[0mmethod\u001b[0m\u001b[1;33m,\u001b[0m \u001b[0murl\u001b[0m\u001b[1;33m=\u001b[0m\u001b[0murl\u001b[0m\u001b[1;33m,\u001b[0m \u001b[1;33m**\u001b[0m\u001b[0mkwargs\u001b[0m\u001b[1;33m)\u001b[0m\u001b[1;33m\u001b[0m\u001b[0m\n\u001b[0m\u001b[0;32m     61\u001b[0m \u001b[1;33m\u001b[0m\u001b[0m\n\u001b[0;32m     62\u001b[0m \u001b[1;33m\u001b[0m\u001b[0m\n",
      "\u001b[1;32m~\\AppData\\Local\\conda\\conda\\envs\\Research\\lib\\site-packages\\requests\\sessions.py\u001b[0m in \u001b[0;36mrequest\u001b[1;34m(self, method, url, params, data, headers, cookies, files, auth, timeout, allow_redirects, proxies, hooks, stream, verify, cert, json)\u001b[0m\n\u001b[0;32m    531\u001b[0m         }\n\u001b[0;32m    532\u001b[0m         \u001b[0msend_kwargs\u001b[0m\u001b[1;33m.\u001b[0m\u001b[0mupdate\u001b[0m\u001b[1;33m(\u001b[0m\u001b[0msettings\u001b[0m\u001b[1;33m)\u001b[0m\u001b[1;33m\u001b[0m\u001b[0m\n\u001b[1;32m--> 533\u001b[1;33m         \u001b[0mresp\u001b[0m \u001b[1;33m=\u001b[0m \u001b[0mself\u001b[0m\u001b[1;33m.\u001b[0m\u001b[0msend\u001b[0m\u001b[1;33m(\u001b[0m\u001b[0mprep\u001b[0m\u001b[1;33m,\u001b[0m \u001b[1;33m**\u001b[0m\u001b[0msend_kwargs\u001b[0m\u001b[1;33m)\u001b[0m\u001b[1;33m\u001b[0m\u001b[0m\n\u001b[0m\u001b[0;32m    534\u001b[0m \u001b[1;33m\u001b[0m\u001b[0m\n\u001b[0;32m    535\u001b[0m         \u001b[1;32mreturn\u001b[0m \u001b[0mresp\u001b[0m\u001b[1;33m\u001b[0m\u001b[0m\n",
      "\u001b[1;32m~\\AppData\\Local\\conda\\conda\\envs\\Research\\lib\\site-packages\\requests\\sessions.py\u001b[0m in \u001b[0;36msend\u001b[1;34m(self, request, **kwargs)\u001b[0m\n\u001b[0;32m    644\u001b[0m \u001b[1;33m\u001b[0m\u001b[0m\n\u001b[0;32m    645\u001b[0m         \u001b[1;31m# Send the request\u001b[0m\u001b[1;33m\u001b[0m\u001b[1;33m\u001b[0m\u001b[0m\n\u001b[1;32m--> 646\u001b[1;33m         \u001b[0mr\u001b[0m \u001b[1;33m=\u001b[0m \u001b[0madapter\u001b[0m\u001b[1;33m.\u001b[0m\u001b[0msend\u001b[0m\u001b[1;33m(\u001b[0m\u001b[0mrequest\u001b[0m\u001b[1;33m,\u001b[0m \u001b[1;33m**\u001b[0m\u001b[0mkwargs\u001b[0m\u001b[1;33m)\u001b[0m\u001b[1;33m\u001b[0m\u001b[0m\n\u001b[0m\u001b[0;32m    647\u001b[0m \u001b[1;33m\u001b[0m\u001b[0m\n\u001b[0;32m    648\u001b[0m         \u001b[1;31m# Total elapsed time of the request (approximately)\u001b[0m\u001b[1;33m\u001b[0m\u001b[1;33m\u001b[0m\u001b[0m\n",
      "\u001b[1;32m~\\AppData\\Local\\conda\\conda\\envs\\Research\\lib\\site-packages\\requests\\adapters.py\u001b[0m in \u001b[0;36msend\u001b[1;34m(self, request, stream, timeout, verify, cert, proxies)\u001b[0m\n\u001b[0;32m    514\u001b[0m                 \u001b[1;32mraise\u001b[0m \u001b[0mSSLError\u001b[0m\u001b[1;33m(\u001b[0m\u001b[0me\u001b[0m\u001b[1;33m,\u001b[0m \u001b[0mrequest\u001b[0m\u001b[1;33m=\u001b[0m\u001b[0mrequest\u001b[0m\u001b[1;33m)\u001b[0m\u001b[1;33m\u001b[0m\u001b[0m\n\u001b[0;32m    515\u001b[0m \u001b[1;33m\u001b[0m\u001b[0m\n\u001b[1;32m--> 516\u001b[1;33m             \u001b[1;32mraise\u001b[0m \u001b[0mConnectionError\u001b[0m\u001b[1;33m(\u001b[0m\u001b[0me\u001b[0m\u001b[1;33m,\u001b[0m \u001b[0mrequest\u001b[0m\u001b[1;33m=\u001b[0m\u001b[0mrequest\u001b[0m\u001b[1;33m)\u001b[0m\u001b[1;33m\u001b[0m\u001b[0m\n\u001b[0m\u001b[0;32m    517\u001b[0m \u001b[1;33m\u001b[0m\u001b[0m\n\u001b[0;32m    518\u001b[0m         \u001b[1;32mexcept\u001b[0m \u001b[0mClosedPoolError\u001b[0m \u001b[1;32mas\u001b[0m \u001b[0me\u001b[0m\u001b[1;33m:\u001b[0m\u001b[1;33m\u001b[0m\u001b[0m\n",
      "\u001b[1;31mConnectionError\u001b[0m: HTTPConnectionPool(host='amp.pharm.mssm.edu', port=80): Max retries exceeded with url: /Enrichr/datasetStatistics (Caused by NewConnectionError('<urllib3.connection.HTTPConnection object at 0x00000167474C0320>: Failed to establish a new connection: [WinError 10060] A connection attempt failed because the connected party did not properly respond after a period of time, or established connection failed because connected host has failed to respond',))"
     ]
    }
   ],
   "source": [
    "'''\n",
    "#Look for background set of genes. Can we specify?\n",
    "#enrichr vs gsea\n",
    "for col in sig_cols:\n",
    "    col_name = col.columns[0]\n",
    "    gene_name_list = list(col.index)\n",
    "    enrichment = gp.enrichr(gene_list = gene_name_list, \n",
    "                            description=col_name, \n",
    "                            gene_sets='KEGG_2019_Human',\n",
    "                            outdir='test/enrichr_kegg',\n",
    "                            cutoff=0.5)\n",
    "    print(enrichment.res2d)\n",
    "    barplot(enrichment.res2d, title=col_name)\n",
    "'''"
   ]
  }
 ],
 "metadata": {
  "kernelspec": {
   "display_name": "Python 3",
   "language": "python",
   "name": "python3"
  },
  "language_info": {
   "codemirror_mode": {
    "name": "ipython",
    "version": 3
   },
   "file_extension": ".py",
   "mimetype": "text/x-python",
   "name": "python",
   "nbconvert_exporter": "python",
   "pygments_lexer": "ipython3",
   "version": "3.6.2"
  }
 },
 "nbformat": 4,
 "nbformat_minor": 2
}
