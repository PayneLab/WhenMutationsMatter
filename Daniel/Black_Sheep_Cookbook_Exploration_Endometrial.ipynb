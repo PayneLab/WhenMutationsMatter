{
 "cells": [
  {
   "cell_type": "markdown",
   "metadata": {},
   "source": [
    "## BlackSheep Cookbook Exploration\n",
    "\n",
    "The Black Sheep Analysis allows researchers to find trends in abnormal protein enrichment among patients in CPTAC datasets. In this Cookbook, we will go through the steps needed to perform a full Black Sheep Analysis."
   ]
  },
  {
   "cell_type": "markdown",
   "metadata": {},
   "source": [
    "### Step 1a: Import Dependencies\n",
    "First, import the necessary dependencies and load cptac data."
   ]
  },
  {
   "cell_type": "code",
   "execution_count": 1,
   "metadata": {},
   "outputs": [],
   "source": [
    "import numpy as np\n",
    "import pandas as pd\n",
    "import matplotlib.pyplot as plt\n",
    "import seaborn as sns\n",
    "import cptac\n",
    "import binarization_functions as bf\n",
    "import blackSheepCPTACmoduleCopy as blsh\n",
    "import gseapy as gp\n",
    "from gseapy.plot import barplot, heatmap, dotplot"
   ]
  },
  {
   "cell_type": "markdown",
   "metadata": {},
   "source": [
    "## Step 1b: Load Data and Choose Omics Table\n",
    "For this analysis, we will be looking at results across the proteomics, transcriptomics, and phosphoproteomics tables."
   ]
  },
  {
   "cell_type": "code",
   "execution_count": 2,
   "metadata": {},
   "outputs": [
    {
     "name": "stdout",
     "output_type": "stream",
     "text": [
      "All files already downloaded and correct.\n"
     ]
    },
    {
     "data": {
      "text/plain": [
       "True"
      ]
     },
     "execution_count": 2,
     "metadata": {},
     "output_type": "execute_result"
    }
   ],
   "source": [
    "cptac.download(dataset='endometrial')"
   ]
  },
  {
   "cell_type": "code",
   "execution_count": 3,
   "metadata": {},
   "outputs": [
    {
     "name": "stdout",
     "output_type": "stream",
     "text": [
      "                                    \r"
     ]
    }
   ],
   "source": [
    "en = cptac.Endometrial()\n",
    "proteomics = en.get_proteomics()\n",
    "transcriptomics = en.get_transcriptomics()\n",
    "clinical = en.get_clinical()"
   ]
  },
  {
   "cell_type": "code",
   "execution_count": 4,
   "metadata": {
    "collapsed": true
   },
   "outputs": [],
   "source": [
    "#Append Genomics_subtype and MSI_status to clinical table\n",
    "df= en.get_derived_molecular()\n",
    "clinical['MSI_status'] = df['MSI_status']\n",
    "clinical['Genomics_subtype'] = df['Genomics_subtype']"
   ]
  },
  {
   "cell_type": "markdown",
   "metadata": {},
   "source": [
    "## Step 2: Determine what attributes you would like to A/B test. \n",
    "For this analysis, we will iteratively go through the various columns in the clinical dataset, to determine if any of them have trends within them for protein enrichment."
   ]
  },
  {
   "cell_type": "code",
   "execution_count": 5,
   "metadata": {
    "collapsed": true
   },
   "outputs": [],
   "source": [
    "#Create a copy of the original Clinical DataFrame and drop irrelevant columns.\n",
    "annotations = pd.DataFrame(clinical.copy())\n",
    "annotations = annotations.drop(['Patient_ID', \n",
    "                                'Treatment_naive', \n",
    "                                'Tumor_purity', \n",
    "                                'Gender', \n",
    "                                'Tumor_Site_Other'], axis=1)"
   ]
  },
  {
   "cell_type": "markdown",
   "metadata": {},
   "source": [
    "## Step 2a: Binarize column values"
   ]
  },
  {
   "cell_type": "code",
   "execution_count": 6,
   "metadata": {
    "collapsed": true
   },
   "outputs": [],
   "source": [
    "tumor_map = {'Tumor':'Normal_Tumor', \n",
    "             'Adjacent_normal':'Other_tumor', \n",
    "             'Enriched_normal':'Other_tumor', \n",
    "             'Myometrium_normal':'Other_tumor'}\n",
    "\n",
    "annotations['Proteomics_Tumor_Normal'] = bf.binarizeCategorical(clinical, \n",
    "                                                                'Proteomics_Tumor_Normal', \n",
    "                                                                tumor_map)"
   ]
  },
  {
   "cell_type": "code",
   "execution_count": 7,
   "metadata": {
    "collapsed": true
   },
   "outputs": [],
   "source": [
    "country_map = {'United States':'US', \n",
    "               'Ukraine':'Other', \n",
    "               'Other_specify':'Other', \n",
    "               'Poland':'Other'}\n",
    "\n",
    "annotations['Country'] = bf.binarizeCategorical(clinical, \n",
    "                                                'Country', \n",
    "                                                country_map)"
   ]
  },
  {
   "cell_type": "code",
   "execution_count": 8,
   "metadata": {
    "collapsed": true
   },
   "outputs": [],
   "source": [
    "annotations['BMI'] = bf.binarizeRange(clinical, 'BMI', 18, 25, \n",
    "                                      'Healthy', 'Unhealthy')\n",
    "\n",
    "annotations['Age'] = bf.binarizeCutOff(clinical, 'Age', \n",
    "                                       60.0, 'Old', 'Young')"
   ]
  },
  {
   "cell_type": "code",
   "execution_count": 9,
   "metadata": {
    "collapsed": true
   },
   "outputs": [],
   "source": [
    "FIGO_map = {'FIGO grade 1':'Low_grade', \n",
    "            'FIGO grade 2':'High_grade', \n",
    "            'FIGO grade 3':'High_grade'}\n",
    "\n",
    "annotations['Histologic_Grade_FIGO'] = bf.binarizeCategorical(clinical, \n",
    "                                                              'Histologic_Grade_FIGO', \n",
    "                                                              FIGO_map)"
   ]
  },
  {
   "cell_type": "code",
   "execution_count": 10,
   "metadata": {
    "collapsed": true
   },
   "outputs": [],
   "source": [
    "Myo_map = {'under 50 %':'under_50%', \n",
    "           '50 % or more': '50%_or_more', \n",
    "           'Not identified': 'under_50%'}\n",
    "\n",
    "annotations['Myometrial_invasion_Specify'] = bf.binarizeCategorical(clinical, \n",
    "                                                                    'Myometrial_invasion_Specify', \n",
    "                                                                    Myo_map)"
   ]
  },
  {
   "cell_type": "code",
   "execution_count": 11,
   "metadata": {
    "collapsed": true
   },
   "outputs": [],
   "source": [
    "path_tumor_map = {'pT1a (FIGO IA)':'Not_FIGO_III', \n",
    "            'pT1b (FIGO IB)':'Not_FIGO_III', \n",
    "            'pT2 (FIGO II)':'Not_FIGO_III', \n",
    "            'pT1 (FIGO I)':'Not_FIGO_III', \n",
    "            'pT3a (FIGO IIIA)':'FIGO_III', \n",
    "            'pT3b (FIGO IIIB)':'FIGO_III'}\n",
    "\n",
    "annotations['Path_Stage_Primary_Tumor-pT'] = bf.binarizeCategorical(clinical, \n",
    "                                                                    'Path_Stage_Primary_Tumor-pT', \n",
    "                                                                    path_tumor_map)"
   ]
  },
  {
   "cell_type": "code",
   "execution_count": 12,
   "metadata": {
    "collapsed": true
   },
   "outputs": [],
   "source": [
    "path_lymph_map = {'pN0':'Not_FIGO_III', \n",
    "                  'pNX':'Not_FIGO_III', \n",
    "                  'pN1 (FIGO IIIC1)':'FIGO_III', \n",
    "                  'pN2 (FIGO IIIC2)':'FIGO_III'}\n",
    "\n",
    "annotations['Path_Stage_Reg_Lymph_Nodes-pN'] = bf.binarizeCategorical(clinical, \n",
    "                                                                      'Path_Stage_Reg_Lymph_Nodes-pN', \n",
    "                                                                      path_lymph_map)"
   ]
  },
  {
   "cell_type": "code",
   "execution_count": 13,
   "metadata": {
    "collapsed": true
   },
   "outputs": [],
   "source": [
    "clin_stage_map = {'cM0':'cM0_or_cM1', \n",
    "                  'cM1':'cM0_or_cM1', \n",
    "                  'Staging Incomplete':'Staging_Incomplete'}\n",
    "\n",
    "annotations['Clin_Stage_Dist_Mets-cM'] = bf.binarizeCategorical(clinical, \n",
    "                                                                'Clin_Stage_Dist_Mets-cM', \n",
    "                                                                clin_stage_map)"
   ]
  },
  {
   "cell_type": "code",
   "execution_count": 14,
   "metadata": {
    "collapsed": true
   },
   "outputs": [],
   "source": [
    "path_stage_map = {'Staging Incomplete': 'No_distant_metastasis', \n",
    "                  'No pathologic evidence of distant metastasis':'No_distant_metastasis', \n",
    "                  'pM1':'Distant_Metastasis'}\n",
    "\n",
    "annotations['Path_Stage_Dist_Mets-pM'] = bf.binarizeCategorical(clinical, \n",
    "                                                                'Path_Stage_Dist_Mets-pM', \n",
    "                                                                path_stage_map)"
   ]
  },
  {
   "cell_type": "code",
   "execution_count": 15,
   "metadata": {
    "collapsed": true
   },
   "outputs": [],
   "source": [
    "tumor_stage_map = {'Stage I':'Stage_I_or_II', \n",
    "                   'Stage II':'Stage_I_or_II', \n",
    "                   'Stage III':'Stage_III_or_IV', \n",
    "                   'Stage IV':'Stage_III_or_IV'}\n",
    "\n",
    "annotations['tumor_Stage-Pathological'] = bf.binarizeCategorical(clinical, \n",
    "                                                               'tumor_Stage-Pathological', \n",
    "                                                               tumor_stage_map)"
   ]
  },
  {
   "cell_type": "code",
   "execution_count": 16,
   "metadata": {
    "collapsed": true
   },
   "outputs": [],
   "source": [
    "FIGO_stage_map = {'IA':'I_or_II', \n",
    "                  'IB':'I_or_II', \n",
    "                  'II':'I_or_II', \n",
    "                  'IIIA':'III_or_IV', \n",
    "                  'IIIC1':'III_or_IV', \n",
    "                  'IVB':'III_or_IV', \n",
    "                  'IIIC2':'III_or_IV', \n",
    "                  'IIIB':'III_or_IV'}\n",
    "\n",
    "annotations['FIGO_stage'] = bf.binarizeCategorical(clinical, \n",
    "                                                   'FIGO_stage', \n",
    "                                                   FIGO_stage_map)"
   ]
  },
  {
   "cell_type": "code",
   "execution_count": 17,
   "metadata": {
    "collapsed": true
   },
   "outputs": [],
   "source": [
    "diabetes_map = {'No':'No', \n",
    "                'Yes':'Yes', \n",
    "                'Unknown':'No'}\n",
    "\n",
    "annotations['Diabetes'] = bf.binarizeCategorical(clinical, \n",
    "                                                 'Diabetes', \n",
    "                                                 diabetes_map)"
   ]
  },
  {
   "cell_type": "code",
   "execution_count": 18,
   "metadata": {
    "collapsed": true
   },
   "outputs": [],
   "source": [
    "race_map = {'White':'White', \n",
    "            'Black or African American':'Not_White', \n",
    "            'Asian':'Not_White', \n",
    "            'Not Reported':'Not_White'}\n",
    "\n",
    "annotations['Race'] = bf.binarizeCategorical(clinical, \n",
    "                                             'Race', \n",
    "                                             race_map)"
   ]
  },
  {
   "cell_type": "code",
   "execution_count": 19,
   "metadata": {
    "collapsed": true
   },
   "outputs": [],
   "source": [
    "ethnicity_map = {'Not-Hispanic or Latino':'Not_Hispanic', \n",
    "                 'Not reported':'Not_Hispanic', \n",
    "                 'Hispanic or Latino':'Hispanic'}\n",
    "\n",
    "annotations['Ethnicity'] = bf.binarizeCategorical(clinical, \n",
    "                                                  'Ethnicity', \n",
    "                                                  ethnicity_map)"
   ]
  },
  {
   "cell_type": "code",
   "execution_count": 20,
   "metadata": {
    "collapsed": true
   },
   "outputs": [],
   "source": [
    "tumor_site_map = {'Other, specify':'Not_Anterior', \n",
    "                  'Anterior endometrium':'Anterior', \n",
    "                  'Posterior endometrium':'Not_Anterior'}\n",
    "\n",
    "annotations['Tumor_Site'] = bf.binarizeCategorical(clinical, \n",
    "                                                   'Tumor_Site', \n",
    "                                                   tumor_site_map)"
   ]
  },
  {
   "cell_type": "code",
   "execution_count": 21,
   "metadata": {
    "collapsed": true
   },
   "outputs": [],
   "source": [
    "annotations['Tumor_Size_cm'] = bf.binarizeCutOff(clinical, \n",
    "                                                'Tumor_Size_cm', 4.0, \n",
    "                                                'Large_tumor', \n",
    "                                                'Small_tumor')"
   ]
  },
  {
   "cell_type": "code",
   "execution_count": 22,
   "metadata": {
    "collapsed": true
   },
   "outputs": [],
   "source": [
    "num_pregnancies_map = {2:'Less_than_3', \n",
    "                       1:'Less_than_3', \n",
    "                       'None':'Less_than_3', \n",
    "                       None:'Less_than_3', \n",
    "                       3:'3_or_more', \n",
    "                       '4 or more':'3_or_more'}\n",
    "\n",
    "annotations['Num_full_term_pregnancies'] = bf.binarizeCategorical(clinical, \n",
    "                                                                  'Num_full_term_pregnancies', \n",
    "                                                                  num_pregnancies_map)"
   ]
  },
  {
   "cell_type": "code",
   "execution_count": 23,
   "metadata": {
    "collapsed": true
   },
   "outputs": [],
   "source": [
    "genomics_map = {'MSI-H':'MSI-H', \n",
    "                'CNV_low':'Other_subtype', \n",
    "                'CNV_high':'Other_subtype', \n",
    "                'POLE':'Other_subtype'}\n",
    "\n",
    "annotations['Genomics_subtype'] = bf.binarizeCategorical(clinical, \n",
    "                                                         'Genomics_subtype', \n",
    "                                                         genomics_map)"
   ]
  },
  {
   "cell_type": "markdown",
   "metadata": {},
   "source": [
    "## Step 3: Perform outliers analysis"
   ]
  },
  {
   "cell_type": "code",
   "execution_count": 24,
   "metadata": {},
   "outputs": [
    {
     "name": "stderr",
     "output_type": "stream",
     "text": [
      "C:\\Users\\Daniel\\AppData\\Local\\conda\\conda\\envs\\Research\\lib\\site-packages\\numpy\\lib\\nanfunctions.py:1354: RuntimeWarning: All-NaN slice encountered\n",
      "  overwrite_input, interpolation)\n"
     ]
    }
   ],
   "source": [
    "outliers_prot = blsh.make_outliers_table(proteomics, iqrs=1.5, \n",
    "                                         up_or_down='up', \n",
    "                                         aggregate=False, \n",
    "                                         frac_table=False)\n",
    "\n",
    "outliers_trans = blsh.make_outliers_table(transcriptomics, iqrs=1.5, \n",
    "                                          up_or_down='up', \n",
    "                                          aggregate=False, \n",
    "                                          frac_table=False)"
   ]
  },
  {
   "cell_type": "markdown",
   "metadata": {},
   "source": [
    "## Step 4: Wrap your A/B test into the outliers analysis, and create a table\n",
    "First for proteomics, and then phosphoproteomics."
   ]
  },
  {
   "cell_type": "code",
   "execution_count": 25,
   "metadata": {},
   "outputs": [
    {
     "name": "stdout",
     "output_type": "stream",
     "text": [
      "No rows had outliers in at least 0.3 of Proteomics_Tumor_Normal Normal_Tumor samples\n",
      "Testing 14 rows for enrichment in Proteomics_Tumor_Normal Other_tumor samples\n",
      "No rows had outliers in at least 0.3 of Country Other samples\n",
      "No rows had outliers in at least 0.3 of Country US samples\n",
      "Testing 2 rows for enrichment in Histologic_Grade_FIGO High_grade samples\n",
      "Testing 1 rows for enrichment in Histologic_Grade_FIGO Low_grade samples\n",
      "No rows had outliers in at least 0.3 of Myometrial_invasion_Specify under_50% samples\n",
      "Testing 7 rows for enrichment in Myometrial_invasion_Specify 50%_or_more samples\n",
      "No rows had outliers in at least 0.3 of Histologic_type Endometrioid samples\n",
      "Testing 626 rows for enrichment in Histologic_type Serous samples\n",
      "No rows had outliers in at least 0.3 of Path_Stage_Primary_Tumor-pT Not_FIGO_III samples\n",
      "Testing 241 rows for enrichment in Path_Stage_Primary_Tumor-pT FIGO_III samples\n",
      "No rows had outliers in at least 0.3 of Path_Stage_Reg_Lymph_Nodes-pN Not_FIGO_III samples\n",
      "Testing 136 rows for enrichment in Path_Stage_Reg_Lymph_Nodes-pN FIGO_III samples\n",
      "No rows had outliers in at least 0.3 of Clin_Stage_Dist_Mets-cM cM0_or_cM1 samples\n",
      "Testing 5 rows for enrichment in Clin_Stage_Dist_Mets-cM Staging_Incomplete samples\n",
      "No rows had outliers in at least 0.3 of Path_Stage_Dist_Mets-pM No_distant_metastasis samples\n",
      "Testing 1396 rows for enrichment in Path_Stage_Dist_Mets-pM Distant_Metastasis samples\n",
      "No rows had outliers in at least 0.3 of tumor_Stage-Pathological Stage_I_or_II samples\n",
      "Testing 6 rows for enrichment in tumor_Stage-Pathological Stage_III_or_IV samples\n",
      "No rows had outliers in at least 0.3 of FIGO_stage I_or_II samples\n",
      "Testing 30 rows for enrichment in FIGO_stage III_or_IV samples\n",
      "No rows had outliers in at least 0.3 of LVSI 0.0 samples\n",
      "Testing 13 rows for enrichment in LVSI 1.0 samples\n",
      "No rows had outliers in at least 0.3 of BMI Unhealthy samples\n",
      "Testing 253 rows for enrichment in BMI Healthy samples\n",
      "No rows had outliers in at least 0.3 of Age Old samples\n",
      "Testing 5 rows for enrichment in Age Young samples\n",
      "No rows had outliers in at least 0.3 of Diabetes No samples\n",
      "Testing 4 rows for enrichment in Diabetes Yes samples\n",
      "No rows had outliers in at least 0.3 of Race White samples\n",
      "Testing 144 rows for enrichment in Race Not_White samples\n",
      "No rows had outliers in at least 0.3 of Ethnicity Not_Hispanic samples\n",
      "Testing 1179 rows for enrichment in Ethnicity Hispanic samples\n",
      "No rows had outliers in at least 0.3 of Tumor_Site Not_Anterior samples\n",
      "Testing 7 rows for enrichment in Tumor_Site Anterior samples\n",
      "No rows had outliers in at least 0.3 of Tumor_Focality Unifocal samples\n",
      "Testing 3 rows for enrichment in Tumor_Focality Multifocal samples\n",
      "No rows had outliers in at least 0.3 of Tumor_Size_cm Small_tumor samples\n",
      "Testing 1 rows for enrichment in Tumor_Size_cm Large_tumor samples\n",
      "Testing 27 rows for enrichment in Num_full_term_pregnancies 3_or_more samples\n",
      "Testing 26 rows for enrichment in Num_full_term_pregnancies Less_than_3 samples\n",
      "No rows had outliers in at least 0.3 of MSI_status MSS samples\n",
      "Testing 12 rows for enrichment in MSI_status MSI-H samples\n",
      "No rows had outliers in at least 0.3 of Genomics_subtype Other_subtype samples\n",
      "Testing 12 rows for enrichment in Genomics_subtype MSI-H samples\n"
     ]
    }
   ],
   "source": [
    "results_prot = blsh.compare_groups_outliers(outliers_prot, \n",
    "                                            annotations)\n",
    "\n",
    "#results_trans = blsh.compare_groups_outliers(outliers_trans, \n",
    "#                                             annotations)"
   ]
  },
  {
   "cell_type": "markdown",
   "metadata": {},
   "source": [
    "Many of the output values from compare_group_outliers are NaN, so here we will get rid of the NaN values for visualization purposes."
   ]
  },
  {
   "cell_type": "code",
   "execution_count": 26,
   "metadata": {
    "collapsed": true
   },
   "outputs": [],
   "source": [
    "results_prot = results_prot.dropna(axis=0, how='all')\n",
    "#results_trans = results_trans.dropna(axis=0, how='all')"
   ]
  },
  {
   "cell_type": "code",
   "execution_count": 27,
   "metadata": {},
   "outputs": [
    {
     "name": "stdout",
     "output_type": "stream",
     "text": [
      "TESTING FOR PROTEOMICS:\n",
      "14 significant protein enrichments in Proteomics_Tumor_Normal_Other_tumor\n",
      "\n",
      "2 significant protein enrichments in Myometrial_invasion_Specify_50%_or_more\n",
      "\n",
      "412 significant protein enrichments in Histologic_type_Serous\n",
      "\n",
      "1 significant protein enrichment in Path_Stage_Reg_Lymph_Nodes-pN_FIGO_III:\n",
      "\n",
      "8 significant protein enrichments in LVSI_1.0\n",
      "\n",
      "2 significant protein enrichments in Age_Young\n",
      "\n",
      "3 significant protein enrichments in Tumor_Site_Anterior\n",
      "\n",
      "2 significant protein enrichments in Tumor_Focality_Multifocal\n",
      "\n",
      "3 significant protein enrichments in MSI_status_MSI-H\n",
      "\n",
      "3 significant protein enrichments in Genomics_subtype_MSI-H\n",
      "\n"
     ]
    }
   ],
   "source": [
    "print(\"TESTING FOR PROTEOMICS:\")\n",
    "sig_cols = []\n",
    "for col in results_prot.columns:\n",
    "    sig_col = bf.significantEnrichments(results_prot, col, 0.01)\n",
    "    if sig_col is not None:\n",
    "        sig_cols.append(sig_col)\n",
    "    else:\n",
    "        results_prot = results_prot.drop(col, axis=1)"
   ]
  },
  {
   "cell_type": "markdown",
   "metadata": {},
   "source": [
    "## Step 5: Visualize these enrichments"
   ]
  },
  {
   "cell_type": "code",
   "execution_count": 28,
   "metadata": {},
   "outputs": [
    {
     "data": {
      "image/png": "[encoded data removed]",
      "text/plain": [
       "<Figure size 432x288 with 2 Axes>"
      ]
     },
     "metadata": {},
     "output_type": "display_data"
    }
   ],
   "source": [
    "sns.heatmap(results_prot)\n",
    "plt.show()"
   ]
  },
  {
   "cell_type": "code",
   "execution_count": 29,
   "metadata": {},
   "outputs": [
    {
     "name": "stdout",
     "output_type": "stream",
     "text": [
      "TESTING FOR TRANSCRIPTOMICS:\n"
     ]
    },
    {
     "ename": "NameError",
     "evalue": "name 'results_trans' is not defined",
     "output_type": "error",
     "traceback": [
      "\u001b[1;31m---------------------------------------------------------------------------\u001b[0m",
      "\u001b[1;31mNameError\u001b[0m                                 Traceback (most recent call last)",
      "\u001b[1;32m<ipython-input-29-b0b9741329ef>\u001b[0m in \u001b[0;36m<module>\u001b[1;34m()\u001b[0m\n\u001b[0;32m      7\u001b[0m \u001b[0mprint\u001b[0m\u001b[1;33m(\u001b[0m\u001b[1;34m\"TESTING FOR TRANSCRIPTOMICS:\"\u001b[0m\u001b[1;33m)\u001b[0m\u001b[1;33m\u001b[0m\u001b[0m\n\u001b[0;32m      8\u001b[0m \u001b[0msig_cols\u001b[0m \u001b[1;33m=\u001b[0m \u001b[1;33m[\u001b[0m\u001b[1;33m]\u001b[0m\u001b[1;33m\u001b[0m\u001b[0m\n\u001b[1;32m----> 9\u001b[1;33m \u001b[1;32mfor\u001b[0m \u001b[0mcol\u001b[0m \u001b[1;32min\u001b[0m \u001b[0mresults_trans\u001b[0m\u001b[1;33m.\u001b[0m\u001b[0mcolumns\u001b[0m\u001b[1;33m:\u001b[0m\u001b[1;33m\u001b[0m\u001b[0m\n\u001b[0m\u001b[0;32m     10\u001b[0m     \u001b[0msig_col\u001b[0m \u001b[1;33m=\u001b[0m \u001b[0mbf\u001b[0m\u001b[1;33m.\u001b[0m\u001b[0msignificantEnrichments\u001b[0m\u001b[1;33m(\u001b[0m\u001b[0mresults_trans\u001b[0m\u001b[1;33m,\u001b[0m \u001b[0mcol\u001b[0m\u001b[1;33m,\u001b[0m \u001b[1;36m0.01\u001b[0m\u001b[1;33m)\u001b[0m\u001b[1;33m\u001b[0m\u001b[0m\n\u001b[0;32m     11\u001b[0m     \u001b[1;32mif\u001b[0m \u001b[0msig_col\u001b[0m \u001b[1;32mis\u001b[0m \u001b[1;32mnot\u001b[0m \u001b[1;32mNone\u001b[0m \u001b[1;32mand\u001b[0m \u001b[0mlen\u001b[0m\u001b[1;33m(\u001b[0m\u001b[0msig_col\u001b[0m\u001b[1;33m)\u001b[0m \u001b[1;33m>\u001b[0m \u001b[1;36m5\u001b[0m\u001b[1;33m:\u001b[0m\u001b[1;33m\u001b[0m\u001b[0m\n",
      "\u001b[1;31mNameError\u001b[0m: name 'results_trans' is not defined"
     ]
    }
   ],
   "source": [
    "#genes vs samples visualization. See Endometrial paper for example\n",
    "#DGIDB based in R and probably has API. Try wrapping this into Python \n",
    "#and make a function to make it all Python. Or even include the table\n",
    "#in the package.\n",
    "'''\n",
    "#Look for significant enrichments\n",
    "print(\"TESTING FOR TRANSCRIPTOMICS:\")\n",
    "sig_cols = []\n",
    "for col in results_trans.columns:\n",
    "    sig_col = bf.significantEnrichments(results_trans, col, 0.01)\n",
    "    if sig_col is not None and len(sig_col) > 5:\n",
    "        sig_cols.append(sig_col)\n",
    "    else:\n",
    "        results_trans = results_trans.drop(col, axis=1)\n",
    "\n",
    "#Visualization\n",
    "sns.heatmap(results_trans)\n",
    "plt.show()\n",
    "'''"
   ]
  },
  {
   "cell_type": "markdown",
   "metadata": {},
   "source": [
    "## Step 6: Determine significant enrichments, and link with cancer drug database."
   ]
  },
  {
   "cell_type": "code",
   "execution_count": null,
   "metadata": {},
   "outputs": [],
   "source": [
    "'''\n",
    "#Look for background set of genes. Can we specify?\n",
    "#enrichr vs gsea\n",
    "for col in sig_cols:\n",
    "    col_name = col.columns[0]\n",
    "    gene_name_list = list(col.index)\n",
    "    enrichment = gp.enrichr(gene_list = gene_name_list, \n",
    "                            description=col_name, \n",
    "                            gene_sets='KEGG_2019_Human',\n",
    "                            outdir='test/enrichr_kegg',\n",
    "                            cutoff=0.5)\n",
    "    print(enrichment.res2d)\n",
    "    barplot(enrichment.res2d, title=col_name)\n",
    "'''"
   ]
  }
 ],
 "metadata": {
  "kernelspec": {
   "display_name": "Python 3",
   "language": "python",
   "name": "python3"
  },
  "language_info": {
   "codemirror_mode": {
    "name": "ipython",
    "version": 3
   },
   "file_extension": ".py",
   "mimetype": "text/x-python",
   "name": "python",
   "nbconvert_exporter": "python",
   "pygments_lexer": "ipython3",
   "version": "3.6.2"
  }
 },
 "nbformat": 4,
 "nbformat_minor": 2
}
