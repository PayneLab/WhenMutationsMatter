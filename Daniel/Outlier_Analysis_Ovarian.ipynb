{
 "cells": [
  {
   "cell_type": "markdown",
   "metadata": {},
   "source": [
    "## BlackSheep Cookbook Exploration\n",
    "\n",
    "The Black Sheep Analysis allows researchers to find trends in abnormal protein enrichment among patients in CPTAC datasets. In this Cookbook, we will go through the steps needed to perform a full Black Sheep Analysis."
   ]
  },
  {
   "cell_type": "markdown",
   "metadata": {},
   "source": [
    "### Step 1a: Import Dependencies\n",
    "First, import the necessary dependencies and load cptac data."
   ]
  },
  {
   "cell_type": "code",
   "execution_count": 1,
   "metadata": {
    "collapsed": true
   },
   "outputs": [],
   "source": [
    "import numpy as np\n",
    "import pandas as pd\n",
    "import matplotlib.pyplot as plt\n",
    "import seaborn as sns\n",
    "import cptac\n",
    "import binarization_functions as bf\n",
    "import blackSheepCPTACmoduleCopy as blsh\n",
    "import gseapy as gp\n",
    "from gseapy.plot import barplot, heatmap, dotplot"
   ]
  },
  {
   "cell_type": "markdown",
   "metadata": {},
   "source": [
    "## Step 1b: Load Data and Choose Omics Table\n",
    "For this analysis, we will be looking at results across the proteomics, transcriptomics, and phosphoproteomics tables."
   ]
  },
  {
   "cell_type": "code",
   "execution_count": 2,
   "metadata": {},
   "outputs": [
    {
     "name": "stdout",
     "output_type": "stream",
     "text": [
      "All files already downloaded and correct.\n"
     ]
    },
    {
     "data": {
      "text/plain": [
       "True"
      ]
     },
     "execution_count": 2,
     "metadata": {},
     "output_type": "execute_result"
    }
   ],
   "source": [
    "cptac.download(dataset='ovarian')"
   ]
  },
  {
   "cell_type": "code",
   "execution_count": 3,
   "metadata": {},
   "outputs": [
    {
     "name": "stdout",
     "output_type": "stream",
     "text": [
      "                                    \r"
     ]
    }
   ],
   "source": [
    "ov = cptac.Ovarian()\n",
    "proteomics = ov.get_proteomics()\n",
    "transcriptomics = ov.get_transcriptomics()\n",
    "clinical = ov.get_clinical()"
   ]
  },
  {
   "cell_type": "markdown",
   "metadata": {},
   "source": [
    "## Step 2: Determine what attributes you would like to A/B test. \n",
    "For this analysis, we will iteratively go through the various columns in the clinical dataset, to determine if any of them have trends within them for protein enrichment."
   ]
  },
  {
   "cell_type": "code",
   "execution_count": 4,
   "metadata": {
    "collapsed": true
   },
   "outputs": [],
   "source": [
    "#Create a copy of the original Clinical DataFrame\n",
    "annotations = pd.DataFrame(clinical.copy())"
   ]
  },
  {
   "cell_type": "code",
   "execution_count": 5,
   "metadata": {
    "collapsed": true
   },
   "outputs": [],
   "source": [
    "#Drop irrelevant columns.\n",
    "irrelevant_cols = ['Patient_ID', 'Participant_Gender', 'Histological_Subtype']\n",
    "annotations = annotations.drop(irrelevant_cols, axis=1)\n",
    "\n",
    "#Determine which columns we should either drop, or be generally skeptical of in our analysis\n",
    "questionable_cols = ['Participant_History_Neo-adjuvant_Treatment', \n",
    "                     'Participant_History_Radiation_Therapy', \n",
    "                     'Participant_History_Hormonal_Therapy', \n",
    "                     'Participant_Ethnicity', \n",
    "                     'Normal_Sample_4_Surgical_Devascularized_Time', \n",
    "                     'Normal_Sample_4_Weight', 'Normal_Sample_4_LN2_Time', \n",
    "                     'Normal_Sample_4_Ischemia_Time', \n",
    "                     'Normal_Sample_5_Surgical_Devascularized_Time', \n",
    "                     'Normal_Sample_5_Weight', 'Normal_Sample_5_LN2_Time', \n",
    "                     'Normal_Sample_5_Ischemia_Time', \n",
    "                     'Other_New_Tumor_Event_Site', \n",
    "                     'Days_Between_Collection_And_New_Tumor_Event_Surgery', \n",
    "                     'Blood_Collection_Time', \n",
    "                     'Blood_Collection_Method', \n",
    "                     'Anesthesia_Time', \n",
    "                     'Tumor_Surgical_Devascularized_Time', \n",
    "                     'Tumor_Sample_Number', \n",
    "                     'Tumor_Sample_1_Weight', \n",
    "                     'Tumor_Sample_1_LN2_Time', \n",
    "                     'Tumor_Sample_1_Ischemia_Time', \n",
    "                     'Tumor_Sample_2_Weight', \n",
    "                     'Tumor_Sample_2_LN2_Time', \n",
    "                     'Tumor_Sample_2_Ischemia_Time', \n",
    "                     'Tumor_Sample_3_Weight', \n",
    "                     'Tumor_Sample_3_LN2_Time', \n",
    "                     'Tumor_Sample_3_Ischemia_Time', \n",
    "                     'Tumor_Sample_4_Weight',\n",
    "                     'Tumor_Sample_4_LN2_Time', \n",
    "                     'Tumor_Sample_4_Ischemia_Time', \n",
    "                     'Tumor_Sample_5_Weight', \n",
    "                     'Tumor_Sample_5_LN2_Time', \n",
    "                     'Tumor_Sample_5_Ischemia_Time', \n",
    "                     'Normal_Sample_Number', \n",
    "                     'Normal_Sample_1_Surgical_Devascularized_Time', \n",
    "                     'Normal_Sample_1_Weight', 'Normal_Sample_1_LN2_Time', \n",
    "                     'Normal_Sample_1_Ischemia_Time', \n",
    "                     'Normal_Sample_2_Surgical_Devascularized_Time', \n",
    "                     'Normal_Sample_2_Weight', 'Normal_Sample_2_LN2_Time', \n",
    "                     'Normal_Sample_2_Ischemia_Time', \n",
    "                     'Normal_Sample_3_Surgical_Devascularized_Time', \n",
    "                     'Normal_Sample_3_Weight', 'Normal_Sample_3_LN2_Time', \n",
    "                     'Normal_Sample_3_Ischemia_Time', \n",
    "                     'Review_Of_Initial_Pathological_Findings', \n",
    "                     'Pathology_Review_Consistent_With_Diagnosis', \n",
    "                     'Adjuvant_Radiation_Therapy', \n",
    "                     'Adjuvant_Pharmaceutical_Therapy', 'Adjuvant_Immunotherapy', \n",
    "                     'Adjuvant_Hormone_Therapy', 'Adjuvant_Targeted_Molecular_Therapy']\n",
    "\n",
    "annotations = annotations.drop(questionable_cols, axis=1)"
   ]
  },
  {
   "cell_type": "code",
   "execution_count": 6,
   "metadata": {
    "collapsed": true
   },
   "outputs": [],
   "source": [
    "#Determine which columns are binary and which aren't\n",
    "binary_cols = []\n",
    "non_binary_cols = []\n",
    "\n",
    "for col in annotations.columns:\n",
    "    if len(annotations[col].value_counts()) == 2:\n",
    "        binary_cols.append(col)\n",
    "    elif len(annotations[col].value_counts()) > 2:\n",
    "        non_binary_cols.append(col)\n",
    "    else:\n",
    "        annotations = annotations.drop(col, axis=1) \n",
    "        #This would defeat the purpose of binarization if there were only 1 possible outcome."
   ]
  },
  {
   "cell_type": "code",
   "execution_count": 7,
   "metadata": {},
   "outputs": [
    {
     "name": "stdout",
     "output_type": "stream",
     "text": [
      "Participant_Procurement_Age is a numeric column\n",
      "\n",
      "Participant_Race is a categorical column\n",
      "\n",
      "Participant_Jewish_Heritage is a categorical column\n",
      "\n",
      "Aliquots_Plasma is a numeric column\n",
      "\n",
      "Origin_Site_Disease is a categorical column\n",
      "\n",
      "Anatomic_Site_Tumor is a categorical column\n",
      "\n",
      "Anatomic_Lateral_Position_Tumor is a categorical column\n",
      "\n",
      "Method_of_Pathologic_Diagnosis is a categorical column\n",
      "\n",
      "Tumor_Stage_Ovary_FIGO is a categorical column\n",
      "\n",
      "Tumor_Grade is a categorical column\n",
      "\n",
      "Tumor_Residual_Disease_Max_Diameter is a categorical column\n",
      "\n",
      "Days_Between_Collection_And_Last_Contact is a numeric column\n",
      "\n",
      "Days_Between_Collection_And_Death is a numeric column\n",
      "\n",
      "Tumor_Status is a categorical column\n",
      "\n",
      "Response_After_Surgery_And_Adjuvant_Therapies is a categorical column\n",
      "\n",
      "New_Tumor_Event_After_Initial_Treatment is a categorical column\n",
      "\n",
      "New_Tumor_Event_Type is a categorical column\n",
      "\n",
      "New_Tumor_Event_Site is a categorical column\n",
      "\n",
      "Days_Between_Collection_And_New_Tumor_Event is a numeric column\n",
      "\n",
      "New_Tumor_Event_Diagnosis is a categorical column\n",
      "\n",
      "New_Tumor_Event_Surgery is a categorical column\n",
      "\n",
      "New_Tumor_Event_Chemotherapy is a categorical column\n",
      "\n",
      "New_Tumor_Event_Immunotherapy is a categorical column\n",
      "\n",
      "New_Tumor_Event_Targeted_Molecular_Therapy is a categorical column\n",
      "\n"
     ]
    }
   ],
   "source": [
    "numeric_non_bin = []\n",
    "categorical_non_bin = []\n",
    "\n",
    "for item in non_binary_cols:\n",
    "    if np.issubdtype(annotations[item].dtype, np.number):\n",
    "        print(item+\" is a numeric column\\n\")\n",
    "        numeric_non_bin.append(item)\n",
    "        mean = annotations[item].mean()\n",
    "        annotations[item]= bf.binarizeCutOff(annotations, item, mean, \n",
    "                                             \"Above_Mean(\"+str(round(mean, 2))+\")\", \n",
    "                                             \"Below_Mean(\"+str(round(mean, 2))+\")\")\n",
    "    else:\n",
    "        print(item+\" is a categorical column\\n\")\n",
    "        categorical_non_bin.append(item)"
   ]
  },
  {
   "cell_type": "markdown",
   "metadata": {},
   "source": [
    "## Step 2a: Binarize column values"
   ]
  },
  {
   "cell_type": "code",
   "execution_count": 8,
   "metadata": {
    "collapsed": true
   },
   "outputs": [],
   "source": [
    "race_map = {'White':'White', \n",
    "            'Asian':'Not_White', \n",
    "            'Black or African American':'Not_White', \n",
    "            'Unknown (Could not be determined or unsure)':np.nan, \n",
    "            'American Indian or Alaska Native': 'Not_White'}\n",
    "\n",
    "annotations['Participant_Race'] = bf.binarizeCategorical(annotations, \n",
    "                                                         'Participant_Race', \n",
    "                                                         race_map)"
   ]
  },
  {
   "cell_type": "code",
   "execution_count": 9,
   "metadata": {
    "collapsed": true
   },
   "outputs": [],
   "source": [
    "jewish_map = {'Not Jewish':'Not_Jewish', \n",
    "              'Unknown':np.nan, \n",
    "              'Ashkenazi':'Jewish', \n",
    "              'Jewish, NOS':'Jewish'}\n",
    "\n",
    "annotations['Participant_Jewish_Heritage'] = bf.binarizeCategorical(annotations, \n",
    "                                                                    'Participant_Jewish_Heritage', \n",
    "                                                                    jewish_map)"
   ]
  },
  {
   "cell_type": "code",
   "execution_count": 10,
   "metadata": {
    "collapsed": true
   },
   "outputs": [],
   "source": [
    "origin_site_map = {'Ovary':'Ovary', \n",
    "                   'Fallopian tube':'Other', \n",
    "                   'Peritoneum':'Other'}\n",
    "\n",
    "annotations['Origin_Site_Disease'] = bf.binarizeCategorical(annotations, \n",
    "                                                            'Origin_Site_Disease',\n",
    "                                                            origin_site_map)"
   ]
  },
  {
   "cell_type": "code",
   "execution_count": 11,
   "metadata": {
    "collapsed": true
   },
   "outputs": [],
   "source": [
    "anatomic_site_map = {'Ovary':'Ovary', \n",
    "                     'Omentum':'Other', \n",
    "                     'Pelvic mass':'Other', \n",
    "                     'Peritoneum':'Other', \n",
    "                     'Not Reported/ Unknown':np.nan}\n",
    "\n",
    "annotations['Anatomic_Site_Tumor'] = bf.binarizeCategorical(annotations, \n",
    "                                                            'Anatomic_Site_Tumor',\n",
    "                                                            anatomic_site_map)"
   ]
  },
  {
   "cell_type": "code",
   "execution_count": 12,
   "metadata": {
    "collapsed": true
   },
   "outputs": [],
   "source": [
    "anatomic_lateral_map = {'Not applicable':'Other',\n",
    "                        'Right':'Right',\n",
    "                        'Left':'Other', \n",
    "                        'Not Reported/ Unknown':np.nan, \n",
    "                        'Bilateral':'Other'}\n",
    "\n",
    "annotations['Anatomic_Lateral_Position_Tumor'] = bf.binarizeCategorical(annotations,\n",
    "                                                                        'Anatomic_Lateral_Position_Tumor',\n",
    "                                                                        anatomic_lateral_map)"
   ]
  },
  {
   "cell_type": "code",
   "execution_count": 13,
   "metadata": {
    "collapsed": true
   },
   "outputs": [],
   "source": [
    "path_diagnosis_map = {'Tumor resection': 'Tumor resection',\n",
    "                      'Excisional Biopsy':'Biopsy', \n",
    "                      'Excisional Biopsy':'Biopsy'}\n",
    "\n",
    "annotations['Method_of_Pathologic_Diagnosis'] = bf.binarizeCategorical(annotations,\n",
    "                                                                       'Method_of_Pathologic_Diagnosis',\n",
    "                                                                       path_diagnosis_map)"
   ]
  },
  {
   "cell_type": "code",
   "execution_count": 14,
   "metadata": {
    "collapsed": true
   },
   "outputs": [],
   "source": [
    "tumor_stage_map = {'IC':'I_or_II', \n",
    "                   'IIB':'I_or_II', \n",
    "                   'III':'III_or_IV', \n",
    "                   'IIIA':'III_or_IV', \n",
    "                   'IIIB':'III_or_IV', \n",
    "                   'IIIC':'III_or_IV', \n",
    "                   'IV':'III_or_IV', \n",
    "                   'Not Reported/ Unknown':np.nan}\n",
    "\n",
    "annotations['Tumor_Stage_Ovary_FIGO'] = bf.binarizeCategorical(annotations, \n",
    "                                                               'Tumor_Stage_Ovary_FIGO', \n",
    "                                                               tumor_stage_map)"
   ]
  },
  {
   "cell_type": "code",
   "execution_count": 15,
   "metadata": {
    "collapsed": true
   },
   "outputs": [],
   "source": [
    "tumor_grade_map = {'G3':'G3', 'Not Reported/ Unknown':np.nan, \n",
    "                   'G2':'Other', 'G1':'Other', \n",
    "                   'GB':'Other', 'GX':'Other'}\n",
    "\n",
    "annotations['Tumor_Grade'] = bf.binarizeCategorical(annotations, \n",
    "                                                    'Tumor_Grade', \n",
    "                                                    tumor_grade_map)"
   ]
  },
  {
   "cell_type": "code",
   "execution_count": 16,
   "metadata": {
    "collapsed": true
   },
   "outputs": [],
   "source": [
    "resid_max_diam_map = {'None':'0-10 mm', \n",
    "                      '1-10 mm': '0-10 mm', \n",
    "                      'greater than 20 mm':'greater than 11 mm', \n",
    "                      'Not Reported/ Unknown':np.nan, \n",
    "                      '11-20 mm':'greater than 11 mm'}\n",
    "\n",
    "annotations['Tumor_Residual_Disease_Max_Diameter'] = bf.binarizeCategorical(annotations, \n",
    "                                                                            'Tumor_Residual_Disease_Max_Diameter', \n",
    "                                                                            resid_max_diam_map)"
   ]
  },
  {
   "cell_type": "code",
   "execution_count": 17,
   "metadata": {
    "collapsed": true
   },
   "outputs": [],
   "source": [
    "annotations['Tumor_Status'] = annotations['Tumor_Status'].replace('Not Reported/Unknown', np.nan)"
   ]
  },
  {
   "cell_type": "code",
   "execution_count": 18,
   "metadata": {
    "collapsed": true
   },
   "outputs": [],
   "source": [
    "response_map = {'Complete Response':'Complete_or_Partial_Response', \n",
    "                'Partial Response':'Complete_or_Partial_Response', \n",
    "                'Stable Disease':'Stable_or_Progressive_Disease', \n",
    "                'Not Reported/Unknown':np.nan, \n",
    "                'Progressive Disease':'Stable_or_Progressive_Disease'}\n",
    "\n",
    "annotations['Response_After_Surgery_And_Adjuvant_Therapies'] = bf.binarizeCategorical(annotations, \n",
    "                                                                                      'Response_After_Surgery_And_Adjuvant_Therapies', \n",
    "                                                                                      response_map)"
   ]
  },
  {
   "cell_type": "code",
   "execution_count": 19,
   "metadata": {
    "collapsed": true
   },
   "outputs": [],
   "source": [
    "new_tumor_map = {'No':'No', 'Yes':'Yes',\n",
    "                 'Not Reported/Unknown':np.nan, \n",
    "                 'Not Applicable':np.nan}\n",
    "\n",
    "annotations['New_Tumor_Event_After_Initial_Treatment'] = bf.binarizeCategorical(annotations, \n",
    "                                                                                'New_Tumor_Event_After_Initial_Treatment',\n",
    "                                                                                new_tumor_map)"
   ]
  },
  {
   "cell_type": "code",
   "execution_count": 20,
   "metadata": {
    "collapsed": true
   },
   "outputs": [],
   "source": [
    "new_tumor_type_map = {'Locoregional Disease':'Locoregional_and_or_Distant_Metastasis', \n",
    "                      'Both Locoregional and Distant Metastasis':'Locoregional_and_or_Distant_Metastasis',\n",
    "                      'Metastatic':'Metastatic', 'Not Reported/Unknown':np.nan}\n",
    "\n",
    "annotations['New_Tumor_Event_Type'] = bf.binarizeCategorical(annotations,\n",
    "                                                             'New_Tumor_Event_Type',\n",
    "                                                             new_tumor_type_map)"
   ]
  },
  {
   "cell_type": "code",
   "execution_count": 21,
   "metadata": {
    "collapsed": true
   },
   "outputs": [],
   "source": [
    "new_tumor_site_map = {'Abdomen':'Abdomen', \n",
    "                      'Chest; Abdomen':'Abdomen', \n",
    "                      'Lymph Node only (specify location)':'Other', \n",
    "                      'Other (specify)':'Other', \n",
    "                      'Abdomen; Chest':'Abdomen', \n",
    "                      'Other (specify); Chest':'Other', \n",
    "                      'Abdomen; Other (specify); Pelvis':'Abdomen', \n",
    "                      'Pelvis; Abdomen':'Abdomen'}\n",
    "\n",
    "annotations['New_Tumor_Event_Site'] = bf.binarizeCategorical(annotations,\n",
    "                                                             'New_Tumor_Event_Site',\n",
    "                                                             new_tumor_site_map)"
   ]
  },
  {
   "cell_type": "code",
   "execution_count": 22,
   "metadata": {
    "collapsed": true
   },
   "outputs": [],
   "source": [
    "diagnosis_map = {'Convincing imaging':'Convincing imaging', \n",
    "                 'Positive Biomarkers':'Biomarkers_or_Seen_at_Surgery', \n",
    "                 'First seen at further surgery':'Biomarkers_or_Seen_at_Surgery'}\n",
    "\n",
    "annotations['New_Tumor_Event_Diagnosis'] = bf.binarizeCategorical(annotations, \n",
    "                                                                  'New_Tumor_Event_Diagnosis', \n",
    "                                                                  diagnosis_map)"
   ]
  },
  {
   "cell_type": "code",
   "execution_count": 23,
   "metadata": {
    "collapsed": true
   },
   "outputs": [],
   "source": [
    "annotations['New_Tumor_Event_Surgery'] = annotations['New_Tumor_Event_Surgery'].replace('Not Reported/Unknown', np.nan)"
   ]
  },
  {
   "cell_type": "code",
   "execution_count": 24,
   "metadata": {
    "collapsed": true
   },
   "outputs": [],
   "source": [
    "annotations['New_Tumor_Event_Chemotherapy'] = annotations['New_Tumor_Event_Chemotherapy'].replace('Not Reported/Unknown', np.nan)"
   ]
  },
  {
   "cell_type": "code",
   "execution_count": 25,
   "metadata": {
    "collapsed": true
   },
   "outputs": [],
   "source": [
    "annotations['New_Tumor_Event_Immunotherapy'] = annotations['New_Tumor_Event_Immunotherapy'].replace('Not Reported/Unknown', np.nan)"
   ]
  },
  {
   "cell_type": "code",
   "execution_count": 26,
   "metadata": {
    "collapsed": true
   },
   "outputs": [],
   "source": [
    "annotations['New_Tumor_Event_Targeted_Molecular_Therapy'] = annotations['New_Tumor_Event_Targeted_Molecular_Therapy'].replace('Not Reported/Unknown', np.nan)"
   ]
  },
  {
   "cell_type": "markdown",
   "metadata": {},
   "source": [
    "## Step 3: Perform outliers analysis"
   ]
  },
  {
   "cell_type": "code",
   "execution_count": 27,
   "metadata": {
    "collapsed": true
   },
   "outputs": [],
   "source": [
    "outliers_prot = blsh.make_outliers_table(proteomics, iqrs=1.5, \n",
    "                                         up_or_down='up', \n",
    "                                         aggregate=False, \n",
    "                                         frac_table=False)"
   ]
  },
  {
   "cell_type": "markdown",
   "metadata": {},
   "source": [
    "## Step 4: Wrap your A/B test into the outliers analysis, and create a table\n",
    "First for proteomics, and then phosphoproteomics."
   ]
  },
  {
   "cell_type": "code",
   "execution_count": 28,
   "metadata": {},
   "outputs": [
    {
     "name": "stdout",
     "output_type": "stream",
     "text": [
      "No rows had outliers in at least 0.3 of Sample_Tumor_Normal Tumor samples\n",
      "Testing 546 rows for enrichment in Sample_Tumor_Normal Normal samples\n",
      "No rows had outliers in at least 0.3 of Participant_Procurement_Age Below_Mean(713.75) samples\n",
      "No rows had outliers in at least 0.3 of Participant_Procurement_Age Above_Mean(713.75) samples\n",
      "No rows had outliers in at least 0.3 of Participant_Race White samples\n",
      "Testing 91 rows for enrichment in Participant_Race Not_White samples\n",
      "No rows had outliers in at least 0.3 of Participant_Jewish_Heritage Not_Jewish samples\n",
      "Testing 9 rows for enrichment in Participant_Jewish_Heritage Jewish samples\n",
      "No rows had outliers in at least 0.3 of Participant_History_Malignancy No samples\n",
      "Testing 126 rows for enrichment in Participant_History_Malignancy Yes, History of Other Cancer Greater Than One Year Ago samples\n",
      "No rows had outliers in at least 0.3 of Participant_History_Chemotherapy No samples\n",
      "Testing 159 rows for enrichment in Participant_History_Chemotherapy Yes samples\n",
      "No rows had outliers in at least 0.3 of Aliquots_Plasma Above_Mean(1.84) samples\n",
      "Testing 1 rows for enrichment in Aliquots_Plasma Below_Mean(1.84) samples\n",
      "No rows had outliers in at least 0.3 of Origin_Site_Disease Ovary samples\n",
      "Testing 1 rows for enrichment in Origin_Site_Disease Other samples\n",
      "No rows had outliers in at least 0.3 of Anatomic_Site_Tumor Ovary samples\n",
      "No rows had outliers in at least 0.3 of Anatomic_Site_Tumor Other samples\n",
      "No rows had outliers in at least 0.3 of Anatomic_Lateral_Position_Tumor Other samples\n",
      "Testing 16 rows for enrichment in Anatomic_Lateral_Position_Tumor Right samples\n",
      "No rows had outliers in at least 0.3 of Method_of_Pathologic_Diagnosis Tumor resection samples\n",
      "No rows had outliers in at least 0.3 of Method_of_Pathologic_Diagnosis Biopsy samples\n",
      "No rows had outliers in at least 0.3 of Tumor_Stage_Ovary_FIGO III_or_IV samples\n",
      "Testing 663 rows for enrichment in Tumor_Stage_Ovary_FIGO I_or_II samples\n",
      "No rows had outliers in at least 0.3 of Tumor_Grade G3 samples\n",
      "Testing 10 rows for enrichment in Tumor_Grade Other samples\n",
      "No rows had outliers in at least 0.3 of Tumor_Residual_Disease_Max_Diameter 0-10 mm samples\n",
      "No rows had outliers in at least 0.3 of Tumor_Residual_Disease_Max_Diameter greater than 11 mm samples\n",
      "No rows had outliers in at least 0.3 of Days_Between_Collection_And_Last_Contact Below_Mean(404.27) samples\n",
      "Testing 6 rows for enrichment in Days_Between_Collection_And_Last_Contact Above_Mean(404.27) samples\n",
      "No rows had outliers in at least 0.3 of Vital_Status Living samples\n",
      "Testing 23 rows for enrichment in Vital_Status Deceased samples\n",
      "Testing 160 rows for enrichment in Days_Between_Collection_And_Death Below_Mean(585.62) samples\n",
      "Testing 468 rows for enrichment in Days_Between_Collection_And_Death Above_Mean(585.62) samples\n",
      "No rows had outliers in at least 0.3 of Tumor_Status Tumor free samples\n",
      "No rows had outliers in at least 0.3 of Tumor_Status With tumor samples\n",
      "No rows had outliers in at least 0.3 of Response_After_Surgery_And_Adjuvant_Therapies Complete_or_Partial_Response samples\n",
      "Testing 1 rows for enrichment in Response_After_Surgery_And_Adjuvant_Therapies Stable_or_Progressive_Disease samples\n",
      "No rows had outliers in at least 0.3 of New_Tumor_Event_After_Initial_Treatment No samples\n",
      "Testing 1 rows for enrichment in New_Tumor_Event_After_Initial_Treatment Yes samples\n",
      "Testing 10 rows for enrichment in New_Tumor_Event_Type Locoregional_and_or_Distant_Metastasis samples\n",
      "Testing 881 rows for enrichment in New_Tumor_Event_Type Metastatic samples\n",
      "Testing 12 rows for enrichment in New_Tumor_Event_Site Abdomen samples\n",
      "Testing 361 rows for enrichment in New_Tumor_Event_Site Other samples\n",
      "Testing 24 rows for enrichment in Days_Between_Collection_And_New_Tumor_Event Below_Mean(339.75) samples\n",
      "Testing 96 rows for enrichment in Days_Between_Collection_And_New_Tumor_Event Above_Mean(339.75) samples\n",
      "Testing 7 rows for enrichment in New_Tumor_Event_Diagnosis Convincing imaging samples\n",
      "Testing 574 rows for enrichment in New_Tumor_Event_Diagnosis Biomarkers_or_Seen_at_Surgery samples\n",
      "Testing 24 rows for enrichment in New_Tumor_Event_Surgery No samples\n",
      "Testing 433 rows for enrichment in New_Tumor_Event_Surgery Yes samples\n",
      "Testing 27 rows for enrichment in New_Tumor_Event_Chemotherapy Yes samples\n",
      "Testing 402 rows for enrichment in New_Tumor_Event_Chemotherapy No samples\n",
      "Testing 29 rows for enrichment in New_Tumor_Event_Immunotherapy No samples\n",
      "Testing 178 rows for enrichment in New_Tumor_Event_Immunotherapy Yes samples\n",
      "Testing 2 rows for enrichment in New_Tumor_Event_Hormone_Therapy No samples\n",
      "Testing 643 rows for enrichment in New_Tumor_Event_Hormone_Therapy Not Reported/Unknown samples\n",
      "Testing 19 rows for enrichment in New_Tumor_Event_Targeted_Molecular_Therapy No samples\n",
      "Testing 570 rows for enrichment in New_Tumor_Event_Targeted_Molecular_Therapy Yes samples\n"
     ]
    }
   ],
   "source": [
    "'''\n",
    "This will break if there are duplicate gene names. Be sure to use the renameDuplicateColumns\n",
    "function if there are errors with indexing when compare_groups_outliers runs\n",
    "'''\n",
    "bf.renameDuplicateColumns(outliers_prot)\n",
    "results_prot = blsh.compare_groups_outliers(outliers_prot, \n",
    "                                            annotations)"
   ]
  },
  {
   "cell_type": "markdown",
   "metadata": {},
   "source": [
    "Many of the output values from compare_group_outliers are NaN, so here we will get rid of the NaN values for visualization purposes."
   ]
  },
  {
   "cell_type": "code",
   "execution_count": 29,
   "metadata": {
    "collapsed": true
   },
   "outputs": [],
   "source": [
    "results_prot = results_prot.dropna(axis=0, how='all')"
   ]
  },
  {
   "cell_type": "markdown",
   "metadata": {},
   "source": [
    "## Step 5: Visualize these enrichments"
   ]
  },
  {
   "cell_type": "code",
   "execution_count": 30,
   "metadata": {},
   "outputs": [
    {
     "name": "stdout",
     "output_type": "stream",
     "text": [
      "TESTING FOR PROTEOMICS:\n",
      "538 significant protein enrichments in Sample_Tumor_Normal_Normal\n",
      "\n",
      "          Sample_Tumor_Normal_Normal_P_values\n",
      "A1BG                             1.530112e-06\n",
      "ABCA8                            7.415921e-09\n",
      "ABHD5                            2.160272e-03\n",
      "ABI3BP                           2.768223e-07\n",
      "ABL1                             2.141254e-04\n",
      "ACACA                            6.522580e-03\n",
      "ACADS                            6.638046e-04\n",
      "ACE                              4.470259e-05\n",
      "ACOT1                            2.141254e-04\n",
      "ACOT2                            2.141254e-04\n",
      "ACSL1                            4.470259e-05\n",
      "ACSL1(1)                         4.470259e-05\n",
      "ACSL5                            1.645922e-03\n",
      "ACSL6                            6.522580e-03\n",
      "ACSS2                            1.645922e-03\n",
      "ACTA1                            1.672134e-06\n",
      "ACTA2                            1.672134e-06\n",
      "ACTBL2                           4.470259e-05\n",
      "ACTG2                            1.672134e-06\n",
      "ACTL6A                           3.460273e-03\n",
      "ADAMTSL4                         1.251266e-05\n",
      "ADCY6                            1.079454e-03\n",
      "ADGRA2                           1.672134e-06\n",
      "ADHFE1                           2.414248e-03\n",
      "ADIPOQ                           2.967717e-07\n",
      "AK1                              1.558807e-04\n",
      "ALB                              4.908359e-05\n",
      "ALDH1A1                          1.363522e-10\n",
      "ALDH1A2                          9.247688e-06\n",
      "ALOX15B                          2.731090e-04\n",
      "...                                       ...\n",
      "TP53I11                          1.101497e-05\n",
      "TPM1                             2.768223e-07\n",
      "TPM1(1)                          1.363522e-10\n",
      "TPM1(2)                          4.548958e-08\n",
      "TPM1(3)                          2.768223e-07\n",
      "TPM2                             4.548958e-08\n",
      "TPM2(1)                          2.768223e-07\n",
      "TPM3                             2.768223e-07\n",
      "TPM3(1)                          2.768223e-07\n",
      "TPM3(2)                          4.548958e-08\n",
      "TPM4                             9.247688e-06\n",
      "TPPP                             9.377851e-05\n",
      "TPPP3                            1.645922e-03\n",
      "TPSAB1                           1.308619e-11\n",
      "TPSD1                            4.548958e-08\n",
      "TRAPPC12                         1.558807e-04\n",
      "TRIOBP                           2.768223e-07\n",
      "TSGA10                           2.433932e-04\n",
      "TSKU                             3.337916e-04\n",
      "TTC8                             3.940066e-03\n",
      "UCK2                             8.708883e-04\n",
      "USP3                             5.013279e-05\n",
      "UTRN                             2.768223e-07\n",
      "VAMP2                            2.141254e-04\n",
      "VCL                              4.470259e-05\n",
      "VWA1                             9.377851e-05\n",
      "WDR54                            2.141254e-04\n",
      "WFS1                             2.768223e-07\n",
      "WISP2                            9.958964e-06\n",
      "ZBTB47                           3.566993e-04\n",
      "\n",
      "[538 rows x 1 columns]\n",
      "1 significant protein enrichment in Participant_Jewish_Heritage_Jewish:\n",
      "\n",
      "25 significant protein enrichments in Participant_History_Malignancy_Yes, History of Other Cancer Greater Than One Year Ago\n",
      "\n",
      "          Participant_History_Malignancy_Yes, History of Other Cancer Greater Than One Year Ago_P_values\n",
      "ABCC1                                              0.005885                                             \n",
      "ALDH3A1                                            0.008386                                             \n",
      "ANXA9                                              0.008034                                             \n",
      "BCKDHB                                             0.004363                                             \n",
      "CDH2                                               0.008034                                             \n",
      "DNAJC19                                            0.004363                                             \n",
      "FHIT                                               0.004363                                             \n",
      "FUS                                                0.008034                                             \n",
      "GCDH                                               0.003878                                             \n",
      "HIBCH                                              0.004363                                             \n",
      "IMPDH2                                             0.008034                                             \n",
      "ISCA2                                              0.008034                                             \n",
      "KNOP1                                              0.004363                                             \n",
      "NIPSNAP2                                           0.008034                                             \n",
      "PFKM                                               0.005885                                             \n",
      "PODXL                                              0.008034                                             \n",
      "SALL2(1)                                           0.008217                                             \n",
      "SAMM50                                             0.003878                                             \n",
      "SKP1                                               0.004363                                             \n",
      "SLC39A10                                           0.003878                                             \n",
      "TBC1D10B                                           0.008034                                             \n",
      "TBC1D24                                            0.004363                                             \n",
      "TKT                                                0.008034                                             \n",
      "TOMM40L                                            0.008034                                             \n",
      "TSN                                                0.004363                                             \n",
      "1 significant protein enrichment in Origin_Site_Disease_Other:\n",
      "\n"
     ]
    }
   ],
   "source": [
    "#Drop Columns with less than 5 significant enrichments\n",
    "print(\"TESTING FOR PROTEOMICS:\")\n",
    "sig_cols = []\n",
    "for col in results_prot.columns:\n",
    "    sig_col = bf.significantEnrichments(results_prot, col, 0.01)\n",
    "    if sig_col is not None and len(sig_col) >= 5:\n",
    "        sig_cols.append(sig_col)\n",
    "        print(sig_col)\n",
    "    else:\n",
    "        results_prot = results_prot.drop(col, axis=1)"
   ]
  },
  {
   "cell_type": "code",
   "execution_count": 31,
   "metadata": {},
   "outputs": [
    {
     "data": {
      "image/png": "[encoded data removed]",
      "text/plain": [
       "<Figure size 432x288 with 2 Axes>"
      ]
     },
     "metadata": {},
     "output_type": "display_data"
    }
   ],
   "source": [
    "sns.heatmap(results_prot)\n",
    "plt.show()"
   ]
  },
  {
   "cell_type": "markdown",
   "metadata": {},
   "source": [
    "## Step 6: Determine significant enrichments, and link with cancer drug database."
   ]
  },
  {
   "cell_type": "code",
   "execution_count": 32,
   "metadata": {},
   "outputs": [
    {
     "name": "stdout",
     "output_type": "stream",
     "text": [
      "            Gene_set                                               Term  \\\n",
      "0    KEGG_2019_Human                                     Focal adhesion   \n",
      "1    KEGG_2019_Human                           ECM-receptor interaction   \n",
      "2    KEGG_2019_Human                          Relaxin signaling pathway   \n",
      "3    KEGG_2019_Human                                         Amoebiasis   \n",
      "4    KEGG_2019_Human                   Protein digestion and absorption   \n",
      "5    KEGG_2019_Human                                 Pathways in cancer   \n",
      "6    KEGG_2019_Human                           Apelin signaling pathway   \n",
      "7    KEGG_2019_Human                                Platelet activation   \n",
      "8    KEGG_2019_Human                              Circadian entrainment   \n",
      "9    KEGG_2019_Human                         PI3K-Akt signaling pathway   \n",
      "10   KEGG_2019_Human                 Vascular smooth muscle contraction   \n",
      "11   KEGG_2019_Human                   Regulation of actin cytoskeleton   \n",
      "12   KEGG_2019_Human                               Dopaminergic synapse   \n",
      "13   KEGG_2019_Human                       Dilated cardiomyopathy (DCM)   \n",
      "14   KEGG_2019_Human                               Serotonergic synapse   \n",
      "15   KEGG_2019_Human                              Glutamatergic synapse   \n",
      "16   KEGG_2019_Human                  Hypertrophic cardiomyopathy (HCM)   \n",
      "17   KEGG_2019_Human                         Oxytocin signaling pathway   \n",
      "18   KEGG_2019_Human                                 Morphine addiction   \n",
      "19   KEGG_2019_Human                             Small cell lung cancer   \n",
      "20   KEGG_2019_Human                                Cholinergic synapse   \n",
      "21   KEGG_2019_Human                            Proteoglycans in cancer   \n",
      "22   KEGG_2019_Human                         cGMP-PKG signaling pathway   \n",
      "23   KEGG_2019_Human                     Human papillomavirus infection   \n",
      "24   KEGG_2019_Human                                  GABAergic synapse   \n",
      "25   KEGG_2019_Human                Complement and coagulation cascades   \n",
      "26   KEGG_2019_Human                                      Toxoplasmosis   \n",
      "27   KEGG_2019_Human               Retrograde endocannabinoid signaling   \n",
      "28   KEGG_2019_Human                    Human cytomegalovirus infection   \n",
      "29   KEGG_2019_Human                            Fatty acid biosynthesis   \n",
      "..               ...                                                ...   \n",
      "209  KEGG_2019_Human                       Steroid hormone biosynthesis   \n",
      "210  KEGG_2019_Human                               Basal cell carcinoma   \n",
      "211  KEGG_2019_Human                Central carbon metabolism in cancer   \n",
      "212  KEGG_2019_Human                                        Influenza A   \n",
      "213  KEGG_2019_Human                    Fc epsilon RI signaling pathway   \n",
      "214  KEGG_2019_Human                                           Lysosome   \n",
      "215  KEGG_2019_Human                               Renal cell carcinoma   \n",
      "216  KEGG_2019_Human                                         Cell cycle   \n",
      "217  KEGG_2019_Human                        Prolactin signaling pathway   \n",
      "218  KEGG_2019_Human                             Synaptic vesicle cycle   \n",
      "219  KEGG_2019_Human                                    RNA degradation   \n",
      "220  KEGG_2019_Human                                  Colorectal cancer   \n",
      "221  KEGG_2019_Human                                      Breast cancer   \n",
      "222  KEGG_2019_Human                                     Gastric cancer   \n",
      "223  KEGG_2019_Human          Non-alcoholic fatty liver disease (NAFLD)   \n",
      "224  KEGG_2019_Human                               Rheumatoid arthritis   \n",
      "225  KEGG_2019_Human                          mRNA surveillance pathway   \n",
      "226  KEGG_2019_Human                                Cellular senescence   \n",
      "227  KEGG_2019_Human                                        Necroptosis   \n",
      "228  KEGG_2019_Human                            HIF-1 signaling pathway   \n",
      "229  KEGG_2019_Human                  Ribosome biogenesis in eukaryotes   \n",
      "230  KEGG_2019_Human                                  Alzheimer disease   \n",
      "231  KEGG_2019_Human            Neuroactive ligand-receptor interaction   \n",
      "232  KEGG_2019_Human                  Thyroid hormone signaling pathway   \n",
      "233  KEGG_2019_Human                                 Huntington disease   \n",
      "234  KEGG_2019_Human                                        Spliceosome   \n",
      "235  KEGG_2019_Human  Signaling pathways regulating pluripotency of ...   \n",
      "236  KEGG_2019_Human             Cytokine-cytokine receptor interaction   \n",
      "237  KEGG_2019_Human                   Herpes simplex virus 1 infection   \n",
      "238  KEGG_2019_Human                             Olfactory transduction   \n",
      "\n",
      "    Overlap       P-value  Adjusted P-value  Old P-value  \\\n",
      "0    40/199  1.173668e-23      3.614896e-21            0   \n",
      "1     21/82  2.871659e-15      4.422356e-13            0   \n",
      "2    23/130  6.753186e-13      6.933271e-11            0   \n",
      "3     18/96  8.038785e-11      6.189865e-09            0   \n",
      "4     17/90  2.392580e-10      1.473829e-08            0   \n",
      "5    42/530  4.487723e-10      2.303698e-08            0   \n",
      "6    19/137  4.952998e-09      2.179319e-07            0   \n",
      "7    18/124  6.008647e-09      2.313329e-07            0   \n",
      "8     16/97  6.398774e-09      2.189803e-07            0   \n",
      "9    31/354  9.162575e-09      2.822073e-07            0   \n",
      "10   18/132  1.647775e-08      4.613769e-07            0   \n",
      "11   22/214  8.300297e-08      2.130410e-06            0   \n",
      "12   17/131  8.661807e-08      2.052182e-06            0   \n",
      "13    14/91  1.402487e-07      3.085472e-06            0   \n",
      "14   15/113  3.686611e-07      7.569842e-06            0   \n",
      "15   15/114  4.141727e-07      7.972824e-06            0   \n",
      "16    13/85  4.206277e-07      7.620785e-06            0   \n",
      "17   17/153  8.265841e-07      1.414377e-05            0   \n",
      "18    13/91  9.423054e-07      1.527527e-05            0   \n",
      "19    13/93  1.214694e-06      1.870628e-05            0   \n",
      "20   14/112  1.881949e-06      2.760193e-05            0   \n",
      "21   19/201  2.256648e-06      3.159308e-05            0   \n",
      "22   17/166  2.582722e-06      3.458602e-05            0   \n",
      "23   25/330  3.619714e-06      4.645299e-05            0   \n",
      "24    12/89  4.586561e-06      5.650644e-05            0   \n",
      "25    11/79  8.332046e-06      9.870270e-05            0   \n",
      "26   13/113  1.101493e-05      1.256518e-04            0   \n",
      "27   15/148  1.130345e-05      1.243379e-04            0   \n",
      "28   19/225  1.167835e-05      1.240321e-04            0   \n",
      "29     5/13  1.487839e-05      1.527514e-04            0   \n",
      "..      ...           ...               ...          ...   \n",
      "209    1/60  8.057387e-01      1.000000e+00            0   \n",
      "210    1/63  8.210430e-01      1.000000e+00            0   \n",
      "211    1/65  8.305711e-01      1.000000e+00            0   \n",
      "212   3/171  8.422732e-01      1.000000e+00            0   \n",
      "213    1/68  8.439223e-01      1.000000e+00            0   \n",
      "214   2/123  8.470914e-01      1.000000e+00            0   \n",
      "215    1/69  8.481350e-01      1.000000e+00            0   \n",
      "216   2/124  8.502881e-01      1.000000e+00            0   \n",
      "217    1/70  8.522343e-01      1.000000e+00            0   \n",
      "218    1/78  8.812919e-01      1.000000e+00            0   \n",
      "219    1/79  8.844976e-01      1.000000e+00            0   \n",
      "220    1/86  9.046438e-01      1.000000e+00            0   \n",
      "221   2/147  9.088471e-01      1.000000e+00            0   \n",
      "222   2/149  9.127698e-01      1.000000e+00            0   \n",
      "223   2/149  9.127698e-01      1.000000e+00            0   \n",
      "224    1/91  9.168481e-01      1.000000e+00            0   \n",
      "225    1/91  9.168481e-01      1.000000e+00            0   \n",
      "226   2/160  9.316596e-01      1.000000e+00            0   \n",
      "227   2/162  9.346497e-01      1.000000e+00            0   \n",
      "228   1/100  9.350204e-01      1.000000e+00            0   \n",
      "229   1/101  9.367771e-01      1.000000e+00            0   \n",
      "230   2/171  9.466360e-01      1.000000e+00            0   \n",
      "231   5/338  9.516051e-01      1.000000e+00            0   \n",
      "232   1/116  9.580950e-01      1.000000e+00            0   \n",
      "233   2/193  9.677434e-01      1.000000e+00            0   \n",
      "234   1/134  9.744282e-01      1.000000e+00            0   \n",
      "235   1/139  9.777083e-01      1.000000e+00            0   \n",
      "236   3/294  9.866065e-01      1.000000e+00            0   \n",
      "237   4/492  9.992927e-01      1.000000e+00            0   \n",
      "238   3/444  9.995536e-01      1.000000e+00            0   \n",
      "\n",
      "     Old Adjusted P-value  Odds Ratio  Combined Score  \\\n",
      "0                       0    7.472306      394.532691   \n",
      "1                       0    9.520355      318.778499   \n",
      "2                       0    6.577066      184.313014   \n",
      "3                       0    6.970260      162.017830   \n",
      "4                       0    7.021892      155.559329   \n",
      "5                       0    2.945921       63.409499   \n",
      "6                       0    5.155618       98.592295   \n",
      "7                       0    5.396330      102.152893   \n",
      "8                       0    6.131913      115.691776   \n",
      "9                       0    3.255413       60.251643   \n",
      "10                      0    5.069280       90.847862   \n",
      "11                      0    3.821700       62.310490   \n",
      "12                      0    4.824200       78.449977   \n",
      "13                      0    5.719188       90.247918   \n",
      "14                      0    4.934698       73.099588   \n",
      "15                      0    4.891411       71.888979   \n",
      "16                      0    5.685546       83.472438   \n",
      "17                      0    4.130525       57.851979   \n",
      "18                      0    5.310674       73.685270   \n",
      "19                      0    5.196466       70.781165   \n",
      "20                      0    4.646840       61.260234   \n",
      "21                      0    3.514028       45.688096   \n",
      "22                      0    3.807050       48.984040   \n",
      "23                      0    2.816267       35.285332   \n",
      "24                      0    5.012322       61.613366   \n",
      "25                      0    5.176227       60.538053   \n",
      "26                      0    4.276738       48.824346   \n",
      "27                      0    3.767708       42.915714   \n",
      "28                      0    3.139199       35.654309   \n",
      "29                      0   14.297970      158.930525   \n",
      "..                    ...         ...             ...   \n",
      "209                     0    0.619579        0.133826   \n",
      "210                     0    0.590075        0.116351   \n",
      "211                     0    0.571919        0.106172   \n",
      "212                     0    0.652188        0.111949   \n",
      "213                     0    0.546687        0.092770   \n",
      "214                     0    0.604467        0.100309   \n",
      "215                     0    0.538764        0.088743   \n",
      "216                     0    0.599592        0.097242   \n",
      "217                     0    0.531067        0.084914   \n",
      "218                     0    0.476599        0.060226   \n",
      "219                     0    0.470566        0.057755   \n",
      "220                     0    0.432264        0.043319   \n",
      "221                     0    0.505779        0.048342   \n",
      "222                     0    0.498990        0.045544   \n",
      "223                     0    0.498990        0.045544   \n",
      "224                     0    0.408513        0.035464   \n",
      "225                     0    0.408513        0.035464   \n",
      "226                     0    0.464684        0.032894   \n",
      "227                     0    0.458947        0.031017   \n",
      "228                     0    0.371747        0.024977   \n",
      "229                     0    0.368067        0.024038   \n",
      "230                     0    0.434792        0.023844   \n",
      "231                     0    0.549922        0.027279   \n",
      "232                     0    0.320472        0.013719   \n",
      "233                     0    0.385230        0.012631   \n",
      "234                     0    0.277423        0.007187   \n",
      "235                     0    0.267444        0.006029   \n",
      "236                     0    0.379334        0.005115   \n",
      "237                     0    0.302234        0.000214   \n",
      "238                     0    0.251181        0.000112   \n",
      "\n",
      "                                                 Genes  \n",
      "0    LAMA5;TNXB;ROCK1;LAMA2;LAMA4;ITGA2B;ILK;LAMC1;...  \n",
      "1    LAMA5;TNXB;LAMA2;LAMB2;LAMA4;ITGA2B;LAMC1;COL1...  \n",
      "2    GNAI3;GNG12;GNG11;ADCY6;GNAI1;GNAI2;COL1A1;GNA...  \n",
      "3    LAMA5;LAMA2;ARG1;LAMB2;LAMA4;LAMC1;COL1A1;COL3...  \n",
      "4    CPA3;PRSS1;COL15A1;ELN;SLC8A1;COL1A1;COL3A1;CO...  \n",
      "5    NOTCH2;LAMA5;ROCK1;LAMA2;LAMA4;ITGA2B;LPAR1;GN...  \n",
      "6    MEF2A;HDAC4;ITPR1;GNAI3;GNG12;GNG11;SLC8A1;ADC...  \n",
      "7    GUCY1A2;PPP1R12A;ROCK1;ITGA2B;ITPR1;GNAI3;MYL1...  \n",
      "8    GUCY1A2;ITPR1;GNAI3;GNG12;GNG11;ADCY6;GNAI1;GN...  \n",
      "9    LAMA5;TNXB;LAMA2;LAMA4;ITGA2B;LPAR1;LAMC1;FGF2...  \n",
      "10   GUCY1A2;PPP1R12A;ROCK1;ITPR1;MYL6B;ACTG2;ADCY6...  \n",
      "11   PDGFRA;PPP1R12A;ROCK1;ITGA2B;LPAR1;GNG12;FGF2;...  \n",
      "12   MAOA;ITPR1;GNAI3;GNG12;GNG11;GNAI1;GNAI2;GNAO1...  \n",
      "13   TPM4;LAMA2;TPM3;TPM2;ITGA2B;TPM1;SLC8A1;ADCY6;...  \n",
      "14   MAOA;ITPR1;GNAI3;GNG12;ALOX15B;GNG11;GNAI1;GNA...  \n",
      "15   ITPR1;GNAI3;PLD1;GNG12;GNG11;ADCY6;GNAI1;GNAI2...  \n",
      "16   ACE;TPM4;LAMA2;TPM3;TPM2;ITGA2B;TPM1;SLC8A1;DE...  \n",
      "17   GUCY1A2;PPP1R12A;ROCK1;ITPR1;GNAI3;MYL6B;ADCY6...  \n",
      "18   GNAI3;GNG12;GNG11;ADCY6;GNAI1;GNAI2;GNAO1;GNG2...  \n",
      "19   LAMA5;LAMA2;LAMB2;LAMA4;ITGA2B;LAMC1;COL4A2;CO...  \n",
      "20   ITPR1;GNAI3;GNG12;GNG11;ADCY6;GNAI1;GNAI2;GNAO...  \n",
      "21   PPP1R12A;CAV3;ROCK1;CAV2;CAV1;GAB1;ITPR1;ANK1;...  \n",
      "22   MEF2A;GUCY1A2;PPP1R12A;ROCK1;ITPR1;GNAI3;SLC8A...  \n",
      "23   NOTCH2;LAMA5;TNXB;MAML2;LAMA2;LAMA4;ITGA2B;LAM...  \n",
      "24   GNAO1;GNG2;GNB2;GNB1;GNAI3;GNB4;GNB3;GNG12;GNG...  \n",
      "25   C4B;CFD;C3;C4A;PROCR;SERPINA1;C8G;SERPINF2;F13...  \n",
      "26   LAMA5;LAMA2;LAMB2;LAMA4;GNAI3;LAMC1;GNAI1;GNAI...  \n",
      "27   ITPR1;GNAI3;GNG12;GNG11;ADCY6;GNAI1;GNAI2;GNAO...  \n",
      "28   PDGFRA;ROCK1;GNAI3;ITPR1;GNG12;GNG11;ADCY6;GNA...  \n",
      "29                        ACSL1;FASN;ACSL6;ACSL5;ACACA  \n",
      "..                                                 ...  \n",
      "209                                            SULT2B1  \n",
      "210                                               SUFU  \n",
      "211                                             PDGFRA  \n",
      "212                                   PRSS1;MAPK8;IRF7  \n",
      "213                                              MAPK8  \n",
      "214                                        HGSNAT;CTSG  \n",
      "215                                               GAB1  \n",
      "216                                        CDKN2C;ABL1  \n",
      "217                                              MAPK8  \n",
      "218                                              VAMP2  \n",
      "219                                              PATL1  \n",
      "220                                              MAPK8  \n",
      "221                                        NOTCH2;FGF2  \n",
      "222                                          GAB1;FGF2  \n",
      "223                                       MAPK8;ADIPOQ  \n",
      "224                                             CXCL12  \n",
      "225                                            PPP2R5E  \n",
      "226                                         RRAS;ITPR1  \n",
      "227                                       MAPK8;CAMK2G  \n",
      "228                                             CAMK2G  \n",
      "229                                             SPATA5  \n",
      "230                                         ITPR1;APOE  \n",
      "231                            C3;PRSS1;NPY;LPAR1;CTSG  \n",
      "232                                             NOTCH2  \n",
      "233                                         ITPR1;TGM2  \n",
      "234                                              SF3B5  \n",
      "235                                               FGF2  \n",
      "236                                 CNTFR;CXCL12;PF4V1  \n",
      "237                               C3;IRF7;IKBKG;MAP3K7  \n",
      "238                                 GNB1;CAMK2G;SLC8A1  \n",
      "\n"
     ]
    },
    {
     "name": "stdout",
     "output_type": "stream",
     "text": [
      "[239 rows x 10 columns]\n"
     ]
    },
    {
     "ename": "ParserError",
     "evalue": "Error tokenizing data. C error: Expected 1 fields in line 4, saw 2\n",
     "output_type": "error",
     "traceback": [
      "\u001b[1;31m---------------------------------------------------------------------------\u001b[0m",
      "\u001b[1;31mParserError\u001b[0m                               Traceback (most recent call last)",
      "\u001b[1;32m<ipython-input-32-7bbb2861f02c>\u001b[0m in \u001b[0;36m<module>\u001b[1;34m()\u001b[0m\n\u001b[0;32m      5\u001b[0m                             \u001b[0mdescription\u001b[0m\u001b[1;33m=\u001b[0m\u001b[0mcol_name\u001b[0m\u001b[1;33m,\u001b[0m\u001b[1;33m\u001b[0m\u001b[0m\n\u001b[0;32m      6\u001b[0m                             \u001b[0mgene_sets\u001b[0m\u001b[1;33m=\u001b[0m\u001b[1;34m'KEGG_2019_Human'\u001b[0m\u001b[1;33m,\u001b[0m\u001b[1;33m\u001b[0m\u001b[0m\n\u001b[1;32m----> 7\u001b[1;33m                             outdir='test/ovarian')\n\u001b[0m\u001b[0;32m      8\u001b[0m     \u001b[0mprint\u001b[0m\u001b[1;33m(\u001b[0m\u001b[0menrichment\u001b[0m\u001b[1;33m.\u001b[0m\u001b[0mres2d\u001b[0m\u001b[1;33m)\u001b[0m\u001b[1;33m\u001b[0m\u001b[0m\n\u001b[0;32m      9\u001b[0m     \u001b[0mbarplot\u001b[0m\u001b[1;33m(\u001b[0m\u001b[0menrichment\u001b[0m\u001b[1;33m.\u001b[0m\u001b[0mres2d\u001b[0m\u001b[1;33m,\u001b[0m \u001b[0mtitle\u001b[0m\u001b[1;33m=\u001b[0m\u001b[0mcol_name\u001b[0m\u001b[1;33m)\u001b[0m\u001b[1;33m\u001b[0m\u001b[0m\n",
      "\u001b[1;32m~\\AppData\\Local\\conda\\conda\\envs\\Research\\lib\\site-packages\\gseapy\\enrichr.py\u001b[0m in \u001b[0;36menrichr\u001b[1;34m(gene_list, gene_sets, organism, description, outdir, background, cutoff, format, figsize, top_term, no_plot, verbose)\u001b[0m\n\u001b[0;32m    389\u001b[0m     enr = Enrichr(gene_list, gene_sets, organism, description, outdir,\n\u001b[0;32m    390\u001b[0m                   cutoff, background, format, figsize, top_term, no_plot, verbose)\n\u001b[1;32m--> 391\u001b[1;33m     \u001b[0menr\u001b[0m\u001b[1;33m.\u001b[0m\u001b[0mrun\u001b[0m\u001b[1;33m(\u001b[0m\u001b[1;33m)\u001b[0m\u001b[1;33m\u001b[0m\u001b[0m\n\u001b[0m\u001b[0;32m    392\u001b[0m \u001b[1;33m\u001b[0m\u001b[0m\n\u001b[0;32m    393\u001b[0m     \u001b[1;32mreturn\u001b[0m \u001b[0menr\u001b[0m\u001b[1;33m\u001b[0m\u001b[0m\n",
      "\u001b[1;32m~\\AppData\\Local\\conda\\conda\\envs\\Research\\lib\\site-packages\\gseapy\\enrichr.py\u001b[0m in \u001b[0;36mrun\u001b[1;34m(self)\u001b[0m\n\u001b[0;32m    329\u001b[0m                 \u001b[0mself\u001b[0m\u001b[1;33m.\u001b[0m\u001b[0m_logger\u001b[0m\u001b[1;33m.\u001b[0m\u001b[0mdebug\u001b[0m\u001b[1;33m(\u001b[0m\u001b[1;34m\"Start Enrichr using library: %s\"\u001b[0m \u001b[1;33m%\u001b[0m \u001b[1;33m(\u001b[0m\u001b[0mself\u001b[0m\u001b[1;33m.\u001b[0m\u001b[0m_gs\u001b[0m\u001b[1;33m)\u001b[0m\u001b[1;33m)\u001b[0m\u001b[1;33m\u001b[0m\u001b[0m\n\u001b[0;32m    330\u001b[0m                 \u001b[0mself\u001b[0m\u001b[1;33m.\u001b[0m\u001b[0m_logger\u001b[0m\u001b[1;33m.\u001b[0m\u001b[0minfo\u001b[0m\u001b[1;33m(\u001b[0m\u001b[1;34m'Analysis name: %s, Enrichr Library: %s'\u001b[0m \u001b[1;33m%\u001b[0m \u001b[1;33m(\u001b[0m\u001b[0mself\u001b[0m\u001b[1;33m.\u001b[0m\u001b[0mdescriptions\u001b[0m\u001b[1;33m,\u001b[0m \u001b[0mself\u001b[0m\u001b[1;33m.\u001b[0m\u001b[0m_gs\u001b[0m\u001b[1;33m)\u001b[0m\u001b[1;33m)\u001b[0m\u001b[1;33m\u001b[0m\u001b[0m\n\u001b[1;32m--> 331\u001b[1;33m                 \u001b[0mshortID\u001b[0m\u001b[1;33m,\u001b[0m \u001b[0mres\u001b[0m \u001b[1;33m=\u001b[0m \u001b[0mself\u001b[0m\u001b[1;33m.\u001b[0m\u001b[0mget_results\u001b[0m\u001b[1;33m(\u001b[0m\u001b[0mgenes_list\u001b[0m\u001b[1;33m)\u001b[0m\u001b[1;33m\u001b[0m\u001b[0m\n\u001b[0m\u001b[0;32m    332\u001b[0m                 \u001b[1;31m# Remember gene set library used\u001b[0m\u001b[1;33m\u001b[0m\u001b[1;33m\u001b[0m\u001b[0m\n\u001b[0;32m    333\u001b[0m             \u001b[0mres\u001b[0m\u001b[1;33m.\u001b[0m\u001b[0minsert\u001b[0m\u001b[1;33m(\u001b[0m\u001b[1;36m0\u001b[0m\u001b[1;33m,\u001b[0m \u001b[1;34m\"Gene_set\"\u001b[0m\u001b[1;33m,\u001b[0m \u001b[0mself\u001b[0m\u001b[1;33m.\u001b[0m\u001b[0m_gs\u001b[0m\u001b[1;33m)\u001b[0m\u001b[1;33m\u001b[0m\u001b[0m\n",
      "\u001b[1;32m~\\AppData\\Local\\conda\\conda\\envs\\Research\\lib\\site-packages\\gseapy\\enrichr.py\u001b[0m in \u001b[0;36mget_results\u001b[1;34m(self, gene_list)\u001b[0m\n\u001b[0;32m    167\u001b[0m         \u001b[1;31m# response = requests.get(RESULTS_URL + query_string % (user_list_id, gene_set))\u001b[0m\u001b[1;33m\u001b[0m\u001b[1;33m\u001b[0m\u001b[0m\n\u001b[0;32m    168\u001b[0m         \u001b[0msleep\u001b[0m\u001b[1;33m(\u001b[0m\u001b[1;36m1\u001b[0m\u001b[1;33m)\u001b[0m\u001b[1;33m\u001b[0m\u001b[0m\n\u001b[1;32m--> 169\u001b[1;33m         \u001b[0mres\u001b[0m \u001b[1;33m=\u001b[0m \u001b[0mpd\u001b[0m\u001b[1;33m.\u001b[0m\u001b[0mread_csv\u001b[0m\u001b[1;33m(\u001b[0m\u001b[0mStringIO\u001b[0m\u001b[1;33m(\u001b[0m\u001b[0mresponse\u001b[0m\u001b[1;33m.\u001b[0m\u001b[0mcontent\u001b[0m\u001b[1;33m.\u001b[0m\u001b[0mdecode\u001b[0m\u001b[1;33m(\u001b[0m\u001b[1;34m'utf-8'\u001b[0m\u001b[1;33m)\u001b[0m\u001b[1;33m)\u001b[0m\u001b[1;33m,\u001b[0m\u001b[0msep\u001b[0m\u001b[1;33m=\u001b[0m\u001b[1;34m\"\\t\"\u001b[0m\u001b[1;33m)\u001b[0m\u001b[1;33m\u001b[0m\u001b[0m\n\u001b[0m\u001b[0;32m    170\u001b[0m         \u001b[1;32mreturn\u001b[0m \u001b[1;33m[\u001b[0m\u001b[0mjob_id\u001b[0m\u001b[1;33m[\u001b[0m\u001b[1;34m'shortId'\u001b[0m\u001b[1;33m]\u001b[0m\u001b[1;33m,\u001b[0m \u001b[0mres\u001b[0m\u001b[1;33m]\u001b[0m\u001b[1;33m\u001b[0m\u001b[0m\n\u001b[0;32m    171\u001b[0m \u001b[1;33m\u001b[0m\u001b[0m\n",
      "\u001b[1;32m~\\AppData\\Local\\conda\\conda\\envs\\Research\\lib\\site-packages\\pandas\\io\\parsers.py\u001b[0m in \u001b[0;36mparser_f\u001b[1;34m(filepath_or_buffer, sep, delimiter, header, names, index_col, usecols, squeeze, prefix, mangle_dupe_cols, dtype, engine, converters, true_values, false_values, skipinitialspace, skiprows, skipfooter, nrows, na_values, keep_default_na, na_filter, verbose, skip_blank_lines, parse_dates, infer_datetime_format, keep_date_col, date_parser, dayfirst, iterator, chunksize, compression, thousands, decimal, lineterminator, quotechar, quoting, doublequote, escapechar, comment, encoding, dialect, tupleize_cols, error_bad_lines, warn_bad_lines, delim_whitespace, low_memory, memory_map, float_precision)\u001b[0m\n\u001b[0;32m    700\u001b[0m                     skip_blank_lines=skip_blank_lines)\n\u001b[0;32m    701\u001b[0m \u001b[1;33m\u001b[0m\u001b[0m\n\u001b[1;32m--> 702\u001b[1;33m         \u001b[1;32mreturn\u001b[0m \u001b[0m_read\u001b[0m\u001b[1;33m(\u001b[0m\u001b[0mfilepath_or_buffer\u001b[0m\u001b[1;33m,\u001b[0m \u001b[0mkwds\u001b[0m\u001b[1;33m)\u001b[0m\u001b[1;33m\u001b[0m\u001b[0m\n\u001b[0m\u001b[0;32m    703\u001b[0m \u001b[1;33m\u001b[0m\u001b[0m\n\u001b[0;32m    704\u001b[0m     \u001b[0mparser_f\u001b[0m\u001b[1;33m.\u001b[0m\u001b[0m__name__\u001b[0m \u001b[1;33m=\u001b[0m \u001b[0mname\u001b[0m\u001b[1;33m\u001b[0m\u001b[0m\n",
      "\u001b[1;32m~\\AppData\\Local\\conda\\conda\\envs\\Research\\lib\\site-packages\\pandas\\io\\parsers.py\u001b[0m in \u001b[0;36m_read\u001b[1;34m(filepath_or_buffer, kwds)\u001b[0m\n\u001b[0;32m    433\u001b[0m \u001b[1;33m\u001b[0m\u001b[0m\n\u001b[0;32m    434\u001b[0m     \u001b[1;32mtry\u001b[0m\u001b[1;33m:\u001b[0m\u001b[1;33m\u001b[0m\u001b[0m\n\u001b[1;32m--> 435\u001b[1;33m         \u001b[0mdata\u001b[0m \u001b[1;33m=\u001b[0m \u001b[0mparser\u001b[0m\u001b[1;33m.\u001b[0m\u001b[0mread\u001b[0m\u001b[1;33m(\u001b[0m\u001b[0mnrows\u001b[0m\u001b[1;33m)\u001b[0m\u001b[1;33m\u001b[0m\u001b[0m\n\u001b[0m\u001b[0;32m    436\u001b[0m     \u001b[1;32mfinally\u001b[0m\u001b[1;33m:\u001b[0m\u001b[1;33m\u001b[0m\u001b[0m\n\u001b[0;32m    437\u001b[0m         \u001b[0mparser\u001b[0m\u001b[1;33m.\u001b[0m\u001b[0mclose\u001b[0m\u001b[1;33m(\u001b[0m\u001b[1;33m)\u001b[0m\u001b[1;33m\u001b[0m\u001b[0m\n",
      "\u001b[1;32m~\\AppData\\Local\\conda\\conda\\envs\\Research\\lib\\site-packages\\pandas\\io\\parsers.py\u001b[0m in \u001b[0;36mread\u001b[1;34m(self, nrows)\u001b[0m\n\u001b[0;32m   1137\u001b[0m     \u001b[1;32mdef\u001b[0m \u001b[0mread\u001b[0m\u001b[1;33m(\u001b[0m\u001b[0mself\u001b[0m\u001b[1;33m,\u001b[0m \u001b[0mnrows\u001b[0m\u001b[1;33m=\u001b[0m\u001b[1;32mNone\u001b[0m\u001b[1;33m)\u001b[0m\u001b[1;33m:\u001b[0m\u001b[1;33m\u001b[0m\u001b[0m\n\u001b[0;32m   1138\u001b[0m         \u001b[0mnrows\u001b[0m \u001b[1;33m=\u001b[0m \u001b[0m_validate_integer\u001b[0m\u001b[1;33m(\u001b[0m\u001b[1;34m'nrows'\u001b[0m\u001b[1;33m,\u001b[0m \u001b[0mnrows\u001b[0m\u001b[1;33m)\u001b[0m\u001b[1;33m\u001b[0m\u001b[0m\n\u001b[1;32m-> 1139\u001b[1;33m         \u001b[0mret\u001b[0m \u001b[1;33m=\u001b[0m \u001b[0mself\u001b[0m\u001b[1;33m.\u001b[0m\u001b[0m_engine\u001b[0m\u001b[1;33m.\u001b[0m\u001b[0mread\u001b[0m\u001b[1;33m(\u001b[0m\u001b[0mnrows\u001b[0m\u001b[1;33m)\u001b[0m\u001b[1;33m\u001b[0m\u001b[0m\n\u001b[0m\u001b[0;32m   1140\u001b[0m \u001b[1;33m\u001b[0m\u001b[0m\n\u001b[0;32m   1141\u001b[0m         \u001b[1;31m# May alter columns / col_dict\u001b[0m\u001b[1;33m\u001b[0m\u001b[1;33m\u001b[0m\u001b[0m\n",
      "\u001b[1;32m~\\AppData\\Local\\conda\\conda\\envs\\Research\\lib\\site-packages\\pandas\\io\\parsers.py\u001b[0m in \u001b[0;36mread\u001b[1;34m(self, nrows)\u001b[0m\n\u001b[0;32m   1993\u001b[0m     \u001b[1;32mdef\u001b[0m \u001b[0mread\u001b[0m\u001b[1;33m(\u001b[0m\u001b[0mself\u001b[0m\u001b[1;33m,\u001b[0m \u001b[0mnrows\u001b[0m\u001b[1;33m=\u001b[0m\u001b[1;32mNone\u001b[0m\u001b[1;33m)\u001b[0m\u001b[1;33m:\u001b[0m\u001b[1;33m\u001b[0m\u001b[0m\n\u001b[0;32m   1994\u001b[0m         \u001b[1;32mtry\u001b[0m\u001b[1;33m:\u001b[0m\u001b[1;33m\u001b[0m\u001b[0m\n\u001b[1;32m-> 1995\u001b[1;33m             \u001b[0mdata\u001b[0m \u001b[1;33m=\u001b[0m \u001b[0mself\u001b[0m\u001b[1;33m.\u001b[0m\u001b[0m_reader\u001b[0m\u001b[1;33m.\u001b[0m\u001b[0mread\u001b[0m\u001b[1;33m(\u001b[0m\u001b[0mnrows\u001b[0m\u001b[1;33m)\u001b[0m\u001b[1;33m\u001b[0m\u001b[0m\n\u001b[0m\u001b[0;32m   1996\u001b[0m         \u001b[1;32mexcept\u001b[0m \u001b[0mStopIteration\u001b[0m\u001b[1;33m:\u001b[0m\u001b[1;33m\u001b[0m\u001b[0m\n\u001b[0;32m   1997\u001b[0m             \u001b[1;32mif\u001b[0m \u001b[0mself\u001b[0m\u001b[1;33m.\u001b[0m\u001b[0m_first_chunk\u001b[0m\u001b[1;33m:\u001b[0m\u001b[1;33m\u001b[0m\u001b[0m\n",
      "\u001b[1;32mpandas\\_libs\\parsers.pyx\u001b[0m in \u001b[0;36mpandas._libs.parsers.TextReader.read\u001b[1;34m()\u001b[0m\n",
      "\u001b[1;32mpandas\\_libs\\parsers.pyx\u001b[0m in \u001b[0;36mpandas._libs.parsers.TextReader._read_low_memory\u001b[1;34m()\u001b[0m\n",
      "\u001b[1;32mpandas\\_libs\\parsers.pyx\u001b[0m in \u001b[0;36mpandas._libs.parsers.TextReader._read_rows\u001b[1;34m()\u001b[0m\n",
      "\u001b[1;32mpandas\\_libs\\parsers.pyx\u001b[0m in \u001b[0;36mpandas._libs.parsers.TextReader._tokenize_rows\u001b[1;34m()\u001b[0m\n",
      "\u001b[1;32mpandas\\_libs\\parsers.pyx\u001b[0m in \u001b[0;36mpandas._libs.parsers.raise_parser_error\u001b[1;34m()\u001b[0m\n",
      "\u001b[1;31mParserError\u001b[0m: Error tokenizing data. C error: Expected 1 fields in line 4, saw 2\n"
     ]
    }
   ],
   "source": [
    "for col in sig_cols:\n",
    "    col_name = col.columns[0]\n",
    "    gene_name_list = list(col.index)\n",
    "    enrichment = gp.enrichr(gene_list = gene_name_list, \n",
    "                            description=col_name, \n",
    "                            gene_sets='KEGG_2019_Human', \n",
    "                            outdir='test/ovarian')\n",
    "    print(enrichment.res2d)\n",
    "    barplot(enrichment.res2d, title=col_name)"
   ]
  }
 ],
 "metadata": {
  "kernelspec": {
   "display_name": "Python 3",
   "language": "python",
   "name": "python3"
  },
  "language_info": {
   "codemirror_mode": {
    "name": "ipython",
    "version": 3
   },
   "file_extension": ".py",
   "mimetype": "text/x-python",
   "name": "python",
   "nbconvert_exporter": "python",
   "pygments_lexer": "ipython3",
   "version": "3.6.2"
  }
 },
 "nbformat": 4,
 "nbformat_minor": 2
}
