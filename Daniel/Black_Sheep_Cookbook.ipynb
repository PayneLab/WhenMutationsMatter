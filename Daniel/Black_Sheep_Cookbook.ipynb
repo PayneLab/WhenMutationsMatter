{
 "cells": [
  {
   "cell_type": "markdown",
   "metadata": {},
   "source": [
    "The Black Sheep Analysis allows researchers to find trends in abnormal protein enrichment among patients in CPTAC datasets. In this Cookbook, we will go through the steps needed to perform a full Black Sheep Analysis, to answer a research question, of if BMI, age, or country of origin play a role in protein enrichments for patients with Endometrial Cancer."
   ]
  },
  {
   "cell_type": "markdown",
   "metadata": {},
   "source": [
    "First, import the necessary dependencies and install cptac through pip."
   ]
  },
  {
   "cell_type": "code",
   "execution_count": 41,
   "metadata": {},
   "outputs": [
    {
     "data": {
      "text/plain": [
       "<module 'blackSheepCPTACmoduleCopy' from 'C:\\\\Users\\\\Daniel\\\\Documents\\\\GitHub\\\\WhenMutationsMatter\\\\Daniel\\\\blackSheepCPTACmoduleCopy.py'>"
      ]
     },
     "execution_count": 41,
     "metadata": {},
     "output_type": "execute_result"
    }
   ],
   "source": [
    "import numpy as np\n",
    "import pandas as pd\n",
    "import matplotlib.pyplot as plt\n",
    "import seaborn as sns\n",
    "!pip install cptac\n",
    "import cptac\n",
    "import binarization_functions as bf\n",
    "import blackSheepCPTACmoduleCopy as blsh\n",
    "import importlib\n",
    "importlib.reload(bf)\n",
    "importlib.reload(blsh)"
   ]
  },
  {
   "cell_type": "markdown",
   "metadata": {},
   "source": [
    "Load the data"
   ]
  },
  {
   "cell_type": "code",
   "execution_count": 12,
   "metadata": {},
   "outputs": [
    {
     "name": "stdout",
     "output_type": "stream",
     "text": [
      "You have loaded the cptac endometrial dataset. To view available\n",
      "dataframes, call the dataset's list_data() method. To view available\n",
      "functions for accessing and manipulating the dataframes, call its\n",
      "list_api() method.\n",
      "endometrial data version: 2.1\n",
      "\n",
      "Loading acetylproteomics data...\n",
      "Loading clinical data...\n",
      "Loading CNA data...\n",
      "Loading definitions data...\n",
      "Loading miRNA data...\n",
      "Loading phosphoproteomics_gene data...\n",
      "Loading phosphoproteomics_site data...\n",
      "Loading proteomics data...\n",
      "Loading somatic data...\n",
      "Loading somatic_binary data...\n",
      "Loading transcriptomics_circular data...\n",
      "Loading transcriptomics_linear data...\n",
      "\n",
      "Loading definitions...\n",
      "\n",
      " ******PLEASE READ******\n",
      "WARNING: This data is under a publication embargo until July 1, 2019.\n",
      "CPTAC is a community resource project and data are made available\n",
      "rapidly after generation for community research use. The embargo\n",
      "allows exploring and utilizing the data, but the data may not be in a\n",
      "publication until July 1, 2019. Please see\n",
      "https://proteomics.cancer.gov/data-portal/about/data-use-agreement or\n",
      "enter cptac.embargo() to open the webpage for more details.\n"
     ]
    }
   ],
   "source": [
    "en = cptac.Endometrial()\n",
    "proteomics = en.get_proteomics()\n",
    "transcriptomics = en.get_transcriptomics()\n",
    "clinical = en.get_clinical()"
   ]
  },
  {
   "cell_type": "markdown",
   "metadata": {},
   "source": [
    "Determine what attributes you would like to test for. In this case, we will test for BMI, age, and country of origin."
   ]
  },
  {
   "cell_type": "code",
   "execution_count": 34,
   "metadata": {},
   "outputs": [],
   "source": [
    "#Create a subset copy of the original Clinical DataFrame\n",
    "annotations = clinical[['Country', 'BMI', 'Age']].copy()\n",
    "\n",
    "#Create a dictionary to map replace countries into two options: US or Other\n",
    "#Key = country to replace\n",
    "#Value = replacement for key\n",
    "dictionary_map = {'United States':'US', \n",
    "              'Ukraine':'Other', \n",
    "              'Other_specify':'Other', \n",
    "              'Poland':'Other'}\n",
    "\n",
    "#Using the functions to binarize various different columns\n",
    "annotations['Country'] = bf.binarizeCategorical(clinical, 'Country', dictionary_map)\n",
    "annotations['BMI'] = bf.binarizeRange(clinical, 'BMI', 18, 25, 'Healthy', 'Unhealthy')\n",
    "annotations['Age'] = bf.binarizeCutOff(clinical, 'Age', 60.0, 'Old', 'Young')"
   ]
  },
  {
   "cell_type": "markdown",
   "metadata": {},
   "source": [
    "See the binarized subset of your data"
   ]
  },
  {
   "cell_type": "code",
   "execution_count": 35,
   "metadata": {},
   "outputs": [
    {
     "name": "stdout",
     "output_type": "stream",
     "text": [
      "          Country        BMI    Age\n",
      "Sample_ID                          \n",
      "S001           US  Unhealthy    Old\n",
      "S002           US  Unhealthy  Young\n",
      "S003           US  Unhealthy  Young\n",
      "S005           US  Unhealthy    Old\n",
      "S006           US    Healthy    Old\n"
     ]
    }
   ],
   "source": [
    "print(annotations.head())"
   ]
  },
  {
   "cell_type": "markdown",
   "metadata": {},
   "source": [
    "Create an outliers DataFrame based on your chosen subset"
   ]
  },
  {
   "cell_type": "code",
   "execution_count": 39,
   "metadata": {},
   "outputs": [
    {
     "name": "stdout",
     "output_type": "stream",
     "text": [
      "Testing 912 rows for enrichment in Country Other samples\n",
      "Testing 1140 rows for enrichment in Country US samples\n",
      "Testing 1368 rows for enrichment in BMI Unhealthy samples\n",
      "Testing 4634 rows for enrichment in BMI Healthy samples\n",
      "Testing 1122 rows for enrichment in Age Old samples\n",
      "Testing 812 rows for enrichment in Age Young samples\n"
     ]
    }
   ],
   "source": [
    "outliers = blsh.make_outliers_table(transcriptomics, iqrs=2.0, \n",
    "                                  up_or_down='up', aggregate=False, \n",
    "                                  frac_table=False)\n",
    "\n",
    "results = blsh.compare_groups_outliers(outliers, annotations, frac_filter=.1)"
   ]
  },
  {
   "cell_type": "markdown",
   "metadata": {},
   "source": [
    "Visualize these enrichments"
   ]
  },
  {
   "cell_type": "code",
   "execution_count": 46,
   "metadata": {},
   "outputs": [
    {
     "data": {
      "text/html": [
       "<div>\n",
       "<style scoped>\n",
       "    .dataframe tbody tr th:only-of-type {\n",
       "        vertical-align: middle;\n",
       "    }\n",
       "\n",
       "    .dataframe tbody tr th {\n",
       "        vertical-align: top;\n",
       "    }\n",
       "\n",
       "    .dataframe thead th {\n",
       "        text-align: right;\n",
       "    }\n",
       "</style>\n",
       "<table border=\"1\" class=\"dataframe\">\n",
       "  <thead>\n",
       "    <tr style=\"text-align: right;\">\n",
       "      <th></th>\n",
       "      <th>Country_Other_enrichment_FDR</th>\n",
       "      <th>Country_US_enrichment_FDR</th>\n",
       "      <th>BMI_Unhealthy_enrichment_FDR</th>\n",
       "      <th>BMI_Healthy_enrichment_FDR</th>\n",
       "      <th>Age_Old_enrichment_FDR</th>\n",
       "      <th>Age_Young_enrichment_FDR</th>\n",
       "    </tr>\n",
       "  </thead>\n",
       "  <tbody>\n",
       "    <tr>\n",
       "      <th>A1BG</th>\n",
       "      <td>NaN</td>\n",
       "      <td>NaN</td>\n",
       "      <td>NaN</td>\n",
       "      <td>0.268385</td>\n",
       "      <td>NaN</td>\n",
       "      <td>NaN</td>\n",
       "    </tr>\n",
       "    <tr>\n",
       "      <th>A1BG-AS1</th>\n",
       "      <td>NaN</td>\n",
       "      <td>NaN</td>\n",
       "      <td>NaN</td>\n",
       "      <td>NaN</td>\n",
       "      <td>NaN</td>\n",
       "      <td>NaN</td>\n",
       "    </tr>\n",
       "    <tr>\n",
       "      <th>A1CF</th>\n",
       "      <td>NaN</td>\n",
       "      <td>NaN</td>\n",
       "      <td>NaN</td>\n",
       "      <td>0.430242</td>\n",
       "      <td>NaN</td>\n",
       "      <td>NaN</td>\n",
       "    </tr>\n",
       "    <tr>\n",
       "      <th>A2M</th>\n",
       "      <td>NaN</td>\n",
       "      <td>NaN</td>\n",
       "      <td>NaN</td>\n",
       "      <td>NaN</td>\n",
       "      <td>NaN</td>\n",
       "      <td>NaN</td>\n",
       "    </tr>\n",
       "    <tr>\n",
       "      <th>A2M-AS1</th>\n",
       "      <td>NaN</td>\n",
       "      <td>NaN</td>\n",
       "      <td>NaN</td>\n",
       "      <td>NaN</td>\n",
       "      <td>NaN</td>\n",
       "      <td>NaN</td>\n",
       "    </tr>\n",
       "  </tbody>\n",
       "</table>\n",
       "</div>"
      ],
      "text/plain": [
       "          Country_Other_enrichment_FDR  Country_US_enrichment_FDR  \\\n",
       "A1BG                               NaN                        NaN   \n",
       "A1BG-AS1                           NaN                        NaN   \n",
       "A1CF                               NaN                        NaN   \n",
       "A2M                                NaN                        NaN   \n",
       "A2M-AS1                            NaN                        NaN   \n",
       "\n",
       "          BMI_Unhealthy_enrichment_FDR  BMI_Healthy_enrichment_FDR  \\\n",
       "A1BG                               NaN                    0.268385   \n",
       "A1BG-AS1                           NaN                         NaN   \n",
       "A1CF                               NaN                    0.430242   \n",
       "A2M                                NaN                         NaN   \n",
       "A2M-AS1                            NaN                         NaN   \n",
       "\n",
       "          Age_Old_enrichment_FDR  Age_Young_enrichment_FDR  \n",
       "A1BG                         NaN                       NaN  \n",
       "A1BG-AS1                     NaN                       NaN  \n",
       "A1CF                         NaN                       NaN  \n",
       "A2M                          NaN                       NaN  \n",
       "A2M-AS1                      NaN                       NaN  "
      ]
     },
     "execution_count": 46,
     "metadata": {},
     "output_type": "execute_result"
    }
   ],
   "source": [
    "results.head()"
   ]
  },
  {
   "cell_type": "code",
   "execution_count": 47,
   "metadata": {},
   "outputs": [
    {
     "data": {
      "image/png": "[encoded data removed]",
      "text/plain": [
       "<Figure size 432x288 with 2 Axes>"
      ]
     },
     "metadata": {},
     "output_type": "display_data"
    }
   ],
   "source": [
    "sns.heatmap(results)\n",
    "plt.show()"
   ]
  },
  {
   "cell_type": "markdown",
   "metadata": {},
   "source": [
    "Connect these findings with the druggable search database"
   ]
  },
  {
   "cell_type": "code",
   "execution_count": null,
   "metadata": {
    "collapsed": true
   },
   "outputs": [],
   "source": []
  }
 ],
 "metadata": {
  "kernelspec": {
   "display_name": "Python 3",
   "language": "python",
   "name": "python3"
  },
  "language_info": {
   "codemirror_mode": {
    "name": "ipython",
    "version": 3
   },
   "file_extension": ".py",
   "mimetype": "text/x-python",
   "name": "python",
   "nbconvert_exporter": "python",
   "pygments_lexer": "ipython3",
   "version": "3.6.2"
  }
 },
 "nbformat": 4,
 "nbformat_minor": 2
}
