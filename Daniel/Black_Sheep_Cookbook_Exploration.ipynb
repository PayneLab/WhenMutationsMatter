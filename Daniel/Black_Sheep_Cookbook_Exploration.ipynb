{
 "cells": [
  {
   "cell_type": "markdown",
   "metadata": {},
   "source": [
    "## BlackSheep Cookbook Exploration\n",
    "\n",
    "The Black Sheep Analysis allows researchers to find trends in abnormal protein enrichment among patients in CPTAC datasets. In this Cookbook, we will go through the steps needed to perform a full Black Sheep Analysis."
   ]
  },
  {
   "cell_type": "markdown",
   "metadata": {},
   "source": [
    "### Step 1a: Import Dependencies\n",
    "First, import the necessary dependencies and load cptac data."
   ]
  },
  {
   "cell_type": "code",
   "execution_count": 1,
   "metadata": {},
   "outputs": [
    {
     "name": "stdout",
     "output_type": "stream",
     "text": [
      "Welcome to cptac, a python package for disseminating cancer\n",
      "proteogenomics data. To view available datasets, enter\n",
      "'cptac.list_data()'. Extensive tutorials are available at\n",
      "https://github.com/PayneLab/cptac/tree/master/doc\n",
      "\n",
      "******\n",
      "Version: 0.4.5\n",
      "******\n"
     ]
    }
   ],
   "source": [
    "import numpy as np\n",
    "import pandas as pd\n",
    "import matplotlib.pyplot as plt\n",
    "import seaborn as sns\n",
    "import cptac\n",
    "import binarization_functions as bf\n",
    "import blackSheepCPTACmoduleCopy as blsh\n",
    "import gseapy as gp\n",
    "from gseapy.plot import barplot, heatmap, dotplot"
   ]
  },
  {
   "cell_type": "markdown",
   "metadata": {},
   "source": [
    "## Step 1b: Load Data and Choose Omics Table\n",
    "For this analysis, we will be looking at results across the proteomics, transcriptomics, and phosphoproteomics tables."
   ]
  },
  {
   "cell_type": "code",
   "execution_count": 2,
   "metadata": {},
   "outputs": [
    {
     "name": "stdout",
     "output_type": "stream",
     "text": [
      "Checking that data files are up-to-date...\n",
      "100% [..................................................................................] 649 / 649\n",
      "Data check complete.\n",
      "endometrial data version: 2.1\n",
      "\n",
      "Loading acetylproteomics data...\n",
      "Loading clinical data...\n",
      "Loading CNA data...\n",
      "Loading definitions data...\n",
      "Loading miRNA data...\n",
      "Loading phosphoproteomics_gene data...\n",
      "Loading phosphoproteomics_site data...\n",
      "Loading proteomics data...\n",
      "Loading somatic data...\n",
      "Loading somatic_binary data...\n",
      "Loading transcriptomics_circular data...\n",
      "Loading transcriptomics_linear data...\n"
     ]
    }
   ],
   "source": [
    "en = cptac.Endometrial()\n",
    "proteomics = en.get_proteomics()\n",
    "transcriptomics = en.get_transcriptomics()\n",
    "clinical = en.get_clinical()"
   ]
  },
  {
   "cell_type": "code",
   "execution_count": 3,
   "metadata": {
    "collapsed": true
   },
   "outputs": [],
   "source": [
    "#Append Genomics_subtype and MSI_status to clinical table\n",
    "df= en.get_derived_molecular()\n",
    "clinical['MSI_status'] = df['MSI_status']\n",
    "clinical['Genomics_subtype'] = df['Genomics_subtype']"
   ]
  },
  {
   "cell_type": "markdown",
   "metadata": {},
   "source": [
    "## Step 2: Determine what attributes you would like to A/B test. \n",
    "For this analysis, we will iteratively go through the various columns in the clinical dataset, to determine if any of them have trends within them for protein enrichment."
   ]
  },
  {
   "cell_type": "code",
   "execution_count": 4,
   "metadata": {
    "collapsed": true
   },
   "outputs": [],
   "source": [
    "#Create a copy of the original Clinical DataFrame and drop irrelevant columns.\n",
    "annotations = pd.DataFrame(clinical.copy())\n",
    "annotations = annotations.drop(['Patient_ID', \n",
    "                                'Treatment_naive', \n",
    "                                'Tumor_purity', \n",
    "                                'Gender', \n",
    "                                'Tumor_Site_Other'], axis=1)"
   ]
  },
  {
   "cell_type": "markdown",
   "metadata": {},
   "source": [
    "## Step 2a: Binarize column values"
   ]
  },
  {
   "cell_type": "code",
   "execution_count": 5,
   "metadata": {
    "collapsed": true
   },
   "outputs": [],
   "source": [
    "tumor_map = {'Tumor':'Normal_Tumor', \n",
    "             'Adjacent_normal':'Other_tumor', \n",
    "             'Enriched_normal':'Other_tumor', \n",
    "             'Myometrium_normal':'Other_tumor'}\n",
    "\n",
    "annotations['Proteomics_Tumor_Normal'] = bf.binarizeCategorical(clinical, \n",
    "                                                                'Proteomics_Tumor_Normal', \n",
    "                                                                tumor_map)"
   ]
  },
  {
   "cell_type": "code",
   "execution_count": 6,
   "metadata": {
    "collapsed": true
   },
   "outputs": [],
   "source": [
    "country_map = {'United States':'US', \n",
    "               'Ukraine':'Other', \n",
    "               'Other_specify':'Other', \n",
    "               'Poland':'Other'}\n",
    "\n",
    "annotations['Country'] = bf.binarizeCategorical(clinical, \n",
    "                                                'Country', \n",
    "                                                country_map)"
   ]
  },
  {
   "cell_type": "code",
   "execution_count": 7,
   "metadata": {
    "collapsed": true
   },
   "outputs": [],
   "source": [
    "annotations['BMI'] = bf.binarizeRange(clinical, 'BMI', 18, 25, \n",
    "                                      'Healthy', 'Unhealthy')\n",
    "\n",
    "annotations['Age'] = bf.binarizeCutOff(clinical, 'Age', \n",
    "                                       60.0, 'Old', 'Young')"
   ]
  },
  {
   "cell_type": "code",
   "execution_count": 8,
   "metadata": {
    "collapsed": true
   },
   "outputs": [],
   "source": [
    "FIGO_map = {'FIGO grade 1':'Low_grade', \n",
    "            'FIGO grade 2':'High_grade', \n",
    "            'FIGO grade 3':'High_grade'}\n",
    "\n",
    "annotations['Histologic_Grade_FIGO'] = bf.binarizeCategorical(clinical, \n",
    "                                                              'Histologic_Grade_FIGO', \n",
    "                                                              FIGO_map)"
   ]
  },
  {
   "cell_type": "code",
   "execution_count": 9,
   "metadata": {
    "collapsed": true
   },
   "outputs": [],
   "source": [
    "Myo_map = {'under 50 %':'under_50%', \n",
    "           '50 % or more': '50%_or_more', \n",
    "           'Not identified': 'under_50%'}\n",
    "\n",
    "annotations['Myometrial_invasion_Specify'] = bf.binarizeCategorical(clinical, \n",
    "                                                                    'Myometrial_invasion_Specify', \n",
    "                                                                    Myo_map)"
   ]
  },
  {
   "cell_type": "code",
   "execution_count": 10,
   "metadata": {
    "collapsed": true
   },
   "outputs": [],
   "source": [
    "path_tumor_map = {'pT1a (FIGO IA)':'Not_FIGO_III', \n",
    "            'pT1b (FIGO IB)':'Not_FIGO_III', \n",
    "            'pT2 (FIGO II)':'Not_FIGO_III', \n",
    "            'pT1 (FIGO I)':'Not_FIGO_III', \n",
    "            'pT3a (FIGO IIIA)':'FIGO_III', \n",
    "            'pT3b (FIGO IIIB)':'FIGO_III'}\n",
    "\n",
    "annotations['Path_Stage_Primary_Tumor-pT'] = bf.binarizeCategorical(clinical, \n",
    "                                                                    'Path_Stage_Primary_Tumor-pT', \n",
    "                                                                    path_tumor_map)"
   ]
  },
  {
   "cell_type": "code",
   "execution_count": 11,
   "metadata": {
    "collapsed": true
   },
   "outputs": [],
   "source": [
    "path_lymph_map = {'pN0':'Not_FIGO_III', \n",
    "                  'pNX':'Not_FIGO_III', \n",
    "                  'pN1 (FIGO IIIC1)':'FIGO_III', \n",
    "                  'pN2 (FIGO IIIC2)':'FIGO_III'}\n",
    "\n",
    "annotations['Path_Stage_Reg_Lymph_Nodes-pN'] = bf.binarizeCategorical(clinical, \n",
    "                                                                      'Path_Stage_Reg_Lymph_Nodes-pN', \n",
    "                                                                      path_lymph_map)"
   ]
  },
  {
   "cell_type": "code",
   "execution_count": 12,
   "metadata": {
    "collapsed": true
   },
   "outputs": [],
   "source": [
    "clin_stage_map = {'cM0':'cM0_or_cM1', \n",
    "                  'cM1':'cM0_or_cM1', \n",
    "                  'Staging Incomplete':'Staging_Incomplete'}\n",
    "\n",
    "annotations['Clin_Stage_Dist_Mets-cM'] = bf.binarizeCategorical(clinical, \n",
    "                                                                'Clin_Stage_Dist_Mets-cM', \n",
    "                                                                clin_stage_map)"
   ]
  },
  {
   "cell_type": "code",
   "execution_count": 13,
   "metadata": {
    "collapsed": true
   },
   "outputs": [],
   "source": [
    "path_stage_map = {'Staging Incomplete': 'No_distant_metastasis', \n",
    "                  'No pathologic evidence of distant metastasis':'No_distant_metastasis', \n",
    "                  'pM1':'Distant_Metastasis'}\n",
    "\n",
    "annotations['Path_Stage_Dist_Mets-pM'] = bf.binarizeCategorical(clinical, \n",
    "                                                                'Path_Stage_Dist_Mets-pM', \n",
    "                                                                path_stage_map)"
   ]
  },
  {
   "cell_type": "code",
   "execution_count": 14,
   "metadata": {
    "collapsed": true
   },
   "outputs": [],
   "source": [
    "tumor_stage_map = {'Stage I':'Stage_I_or_II', \n",
    "                   'Stage II':'Stage_I_or_II', \n",
    "                   'Stage III':'Stage_III_or_IV', \n",
    "                   'Stage IV':'Stage_III_or_IV'}\n",
    "\n",
    "annotations['tumor_Stage-Pathological'] = bf.binarizeCategorical(clinical, \n",
    "                                                               'tumor_Stage-Pathological', \n",
    "                                                               tumor_stage_map)"
   ]
  },
  {
   "cell_type": "code",
   "execution_count": 15,
   "metadata": {
    "collapsed": true
   },
   "outputs": [],
   "source": [
    "FIGO_stage_map = {'IA':'I_or_II', \n",
    "                  'IB':'I_or_II', \n",
    "                  'II':'I_or_II', \n",
    "                  'IIIA':'III_or_IV', \n",
    "                  'IIIC1':'III_or_IV', \n",
    "                  'IVB':'III_or_IV', \n",
    "                  'IIIC2':'III_or_IV', \n",
    "                  'IIIB':'III_or_IV'}\n",
    "\n",
    "annotations['FIGO_stage'] = bf.binarizeCategorical(clinical, \n",
    "                                                   'FIGO_stage', \n",
    "                                                   FIGO_stage_map)"
   ]
  },
  {
   "cell_type": "code",
   "execution_count": 16,
   "metadata": {
    "collapsed": true
   },
   "outputs": [],
   "source": [
    "diabetes_map = {'No':'No', \n",
    "                'Yes':'Yes', \n",
    "                'Unknown':'No'}\n",
    "\n",
    "annotations['Diabetes'] = bf.binarizeCategorical(clinical, \n",
    "                                                 'Diabetes', \n",
    "                                                 diabetes_map)"
   ]
  },
  {
   "cell_type": "code",
   "execution_count": 17,
   "metadata": {
    "collapsed": true
   },
   "outputs": [],
   "source": [
    "race_map = {'White':'White', \n",
    "            'Black or African American':'Not_White', \n",
    "            'Asian':'Not_White', \n",
    "            'Not Reported':'Not_White'}\n",
    "\n",
    "annotations['Race'] = bf.binarizeCategorical(clinical, \n",
    "                                             'Race', \n",
    "                                             race_map)"
   ]
  },
  {
   "cell_type": "code",
   "execution_count": 18,
   "metadata": {
    "collapsed": true
   },
   "outputs": [],
   "source": [
    "ethnicity_map = {'Not-Hispanic or Latino':'Not_Hispanic', \n",
    "                 'Not reported':'Not_Hispanic', \n",
    "                 'Hispanic or Latino':'Hispanic'}\n",
    "\n",
    "annotations['Ethnicity'] = bf.binarizeCategorical(clinical, \n",
    "                                                  'Ethnicity', \n",
    "                                                  ethnicity_map)"
   ]
  },
  {
   "cell_type": "code",
   "execution_count": 19,
   "metadata": {
    "collapsed": true
   },
   "outputs": [],
   "source": [
    "tumor_site_map = {'Other, specify':'Not_Anterior', \n",
    "                  'Anterior endometrium':'Anterior', \n",
    "                  'Posterior endometrium':'Not_Anterior'}\n",
    "\n",
    "annotations['Tumor_Site'] = bf.binarizeCategorical(clinical, \n",
    "                                                   'Tumor_Site', \n",
    "                                                   tumor_site_map)"
   ]
  },
  {
   "cell_type": "code",
   "execution_count": 20,
   "metadata": {
    "collapsed": true
   },
   "outputs": [],
   "source": [
    "annotations['Tumor_Size_cm'] = bf.binarizeCutOff(clinical, \n",
    "                                                'Tumor_Size_cm', 4.0, \n",
    "                                                'Large_tumor', \n",
    "                                                'Small_tumor')"
   ]
  },
  {
   "cell_type": "code",
   "execution_count": 21,
   "metadata": {
    "collapsed": true
   },
   "outputs": [],
   "source": [
    "num_pregnancies_map = {2:'Less_than_3', \n",
    "                       1:'Less_than_3', \n",
    "                       'None':'Less_than_3', \n",
    "                       None:'Less_than_3', \n",
    "                       3:'3_or_more', \n",
    "                       '4 or more':'3_or_more'}\n",
    "\n",
    "annotations['Num_full_term_pregnancies'] = bf.binarizeCategorical(clinical, \n",
    "                                                                  'Num_full_term_pregnancies', \n",
    "                                                                  num_pregnancies_map)"
   ]
  },
  {
   "cell_type": "code",
   "execution_count": 22,
   "metadata": {
    "collapsed": true
   },
   "outputs": [],
   "source": [
    "genomics_map = {'MSI-H':'MSI-H', \n",
    "                'CNV_low':'Other_subtype', \n",
    "                'CNV_high':'Other_subtype', \n",
    "                'POLE':'Other_subtype'}\n",
    "\n",
    "annotations['Genomics_subtype'] = bf.binarizeCategorical(clinical, \n",
    "                                                         'Genomics_subtype', \n",
    "                                                         genomics_map)"
   ]
  },
  {
   "cell_type": "markdown",
   "metadata": {},
   "source": [
    "## Step 3: Perform outliers analysis"
   ]
  },
  {
   "cell_type": "code",
   "execution_count": 23,
   "metadata": {},
   "outputs": [
    {
     "name": "stderr",
     "output_type": "stream",
     "text": [
      "C:\\Users\\Daniel\\AppData\\Local\\conda\\conda\\envs\\Research\\lib\\site-packages\\numpy\\lib\\nanfunctions.py:1354: RuntimeWarning: All-NaN slice encountered\n",
      "  overwrite_input, interpolation)\n"
     ]
    }
   ],
   "source": [
    "outliers_prot = blsh.make_outliers_table(proteomics, iqrs=1.5, \n",
    "                                         up_or_down='up', \n",
    "                                         aggregate=False, \n",
    "                                         frac_table=False)\n",
    "\n",
    "outliers_trans = blsh.make_outliers_table(transcriptomics, iqrs=1.5, \n",
    "                                          up_or_down='up', \n",
    "                                          aggregate=False, \n",
    "                                          frac_table=False)"
   ]
  },
  {
   "cell_type": "markdown",
   "metadata": {},
   "source": [
    "## Step 4: Wrap your A/B test into the outliers analysis, and create a table\n",
    "First for proteomics, and then phosphoproteomics."
   ]
  },
  {
   "cell_type": "code",
   "execution_count": 24,
   "metadata": {},
   "outputs": [
    {
     "name": "stdout",
     "output_type": "stream",
     "text": [
      "No rows had outliers in at least 0.3 of Proteomics_Tumor_Normal Normal_Tumor samples\n",
      "Testing 14 rows for enrichment in Proteomics_Tumor_Normal Other_tumor samples\n",
      "No rows had outliers in at least 0.3 of Country Other samples\n",
      "No rows had outliers in at least 0.3 of Country US samples\n",
      "Testing 2 rows for enrichment in Histologic_Grade_FIGO High_grade samples\n",
      "Testing 1 rows for enrichment in Histologic_Grade_FIGO Low_grade samples\n",
      "No rows had outliers in at least 0.3 of Myometrial_invasion_Specify under_50% samples\n",
      "Testing 7 rows for enrichment in Myometrial_invasion_Specify 50%_or_more samples\n",
      "No rows had outliers in at least 0.3 of Histologic_type Endometrioid samples\n",
      "Testing 626 rows for enrichment in Histologic_type Serous samples\n",
      "No rows had outliers in at least 0.3 of Path_Stage_Primary_Tumor-pT Not_FIGO_III samples\n",
      "Testing 241 rows for enrichment in Path_Stage_Primary_Tumor-pT FIGO_III samples\n",
      "No rows had outliers in at least 0.3 of Path_Stage_Reg_Lymph_Nodes-pN Not_FIGO_III samples\n",
      "Testing 136 rows for enrichment in Path_Stage_Reg_Lymph_Nodes-pN FIGO_III samples\n",
      "No rows had outliers in at least 0.3 of Clin_Stage_Dist_Mets-cM cM0_or_cM1 samples\n",
      "Testing 5 rows for enrichment in Clin_Stage_Dist_Mets-cM Staging_Incomplete samples\n",
      "No rows had outliers in at least 0.3 of Path_Stage_Dist_Mets-pM No_distant_metastasis samples\n",
      "Testing 1396 rows for enrichment in Path_Stage_Dist_Mets-pM Distant_Metastasis samples\n",
      "No rows had outliers in at least 0.3 of tumor_Stage-Pathological Stage_I_or_II samples\n",
      "Testing 6 rows for enrichment in tumor_Stage-Pathological Stage_III_or_IV samples\n",
      "No rows had outliers in at least 0.3 of FIGO_stage I_or_II samples\n",
      "Testing 30 rows for enrichment in FIGO_stage III_or_IV samples\n",
      "No rows had outliers in at least 0.3 of LVSI 0.0 samples\n",
      "Testing 13 rows for enrichment in LVSI 1.0 samples\n",
      "No rows had outliers in at least 0.3 of BMI Unhealthy samples\n",
      "Testing 253 rows for enrichment in BMI Healthy samples\n",
      "No rows had outliers in at least 0.3 of Age Old samples\n",
      "Testing 5 rows for enrichment in Age Young samples\n",
      "No rows had outliers in at least 0.3 of Diabetes No samples\n",
      "Testing 4 rows for enrichment in Diabetes Yes samples\n",
      "No rows had outliers in at least 0.3 of Race White samples\n",
      "Testing 144 rows for enrichment in Race Not_White samples\n",
      "No rows had outliers in at least 0.3 of Ethnicity Not_Hispanic samples\n",
      "Testing 1179 rows for enrichment in Ethnicity Hispanic samples\n",
      "No rows had outliers in at least 0.3 of Tumor_Site Not_Anterior samples\n",
      "Testing 7 rows for enrichment in Tumor_Site Anterior samples\n",
      "No rows had outliers in at least 0.3 of Tumor_Focality Unifocal samples\n",
      "Testing 3 rows for enrichment in Tumor_Focality Multifocal samples\n",
      "No rows had outliers in at least 0.3 of Tumor_Size_cm Small_tumor samples\n",
      "Testing 1 rows for enrichment in Tumor_Size_cm Large_tumor samples\n",
      "Testing 27 rows for enrichment in Num_full_term_pregnancies 3_or_more samples\n",
      "Testing 26 rows for enrichment in Num_full_term_pregnancies Less_than_3 samples\n",
      "No rows had outliers in at least 0.3 of MSI_status MSS samples\n",
      "Testing 12 rows for enrichment in MSI_status MSI-H samples\n",
      "No rows had outliers in at least 0.3 of Genomics_subtype Other_subtype samples\n",
      "Testing 12 rows for enrichment in Genomics_subtype MSI-H samples\n"
     ]
    }
   ],
   "source": [
    "results_prot = blsh.compare_groups_outliers(outliers_prot, \n",
    "                                            annotations)"
   ]
  },
  {
   "cell_type": "markdown",
   "metadata": {},
   "source": [
    "Many of the output values from compare_group_outliers are NaN, so here we will get rid of the NaN values for visualization purposes."
   ]
  },
  {
   "cell_type": "code",
   "execution_count": 25,
   "metadata": {
    "collapsed": true
   },
   "outputs": [],
   "source": [
    "results_prot = results_prot.dropna(axis=0, how='all')\n",
    "#results_trans = results_trans.dropna(axis=0, how='all')"
   ]
  },
  {
   "cell_type": "markdown",
   "metadata": {},
   "source": [
    "## Step 5: Visualize these enrichments"
   ]
  },
  {
   "cell_type": "code",
   "execution_count": 26,
   "metadata": {},
   "outputs": [
    {
     "data": {
      "image/png": "[encoded data removed]",
      "text/plain": [
       "<Figure size 432x288 with 2 Axes>"
      ]
     },
     "metadata": {},
     "output_type": "display_data"
    }
   ],
   "source": [
    "sns.heatmap(results_prot)\n",
    "plt.show()"
   ]
  },
  {
   "cell_type": "code",
   "execution_count": 27,
   "metadata": {},
   "outputs": [
    {
     "ename": "NameError",
     "evalue": "name 'results_trans' is not defined",
     "output_type": "error",
     "traceback": [
      "\u001b[1;31m---------------------------------------------------------------------------\u001b[0m",
      "\u001b[1;31mNameError\u001b[0m                                 Traceback (most recent call last)",
      "\u001b[1;32m<ipython-input-27-d5d36b50e788>\u001b[0m in \u001b[0;36m<module>\u001b[1;34m()\u001b[0m\n\u001b[0;32m      3\u001b[0m \u001b[1;31m#and make a function to make it all Python. Or even include the table\u001b[0m\u001b[1;33m\u001b[0m\u001b[1;33m\u001b[0m\u001b[0m\n\u001b[0;32m      4\u001b[0m \u001b[1;31m#in the package.\u001b[0m\u001b[1;33m\u001b[0m\u001b[1;33m\u001b[0m\u001b[0m\n\u001b[1;32m----> 5\u001b[1;33m \u001b[0msns\u001b[0m\u001b[1;33m.\u001b[0m\u001b[0mheatmap\u001b[0m\u001b[1;33m(\u001b[0m\u001b[0mresults_trans\u001b[0m\u001b[1;33m)\u001b[0m\u001b[1;33m\u001b[0m\u001b[0m\n\u001b[0m\u001b[0;32m      6\u001b[0m \u001b[0mplt\u001b[0m\u001b[1;33m.\u001b[0m\u001b[0mshow\u001b[0m\u001b[1;33m(\u001b[0m\u001b[1;33m)\u001b[0m\u001b[1;33m\u001b[0m\u001b[0m\n",
      "\u001b[1;31mNameError\u001b[0m: name 'results_trans' is not defined"
     ]
    }
   ],
   "source": [
    "#genes vs samples visualization. See Endometrial paper for example\n",
    "#DGIDB based in R and probably has API. Try wrapping this into Python \n",
    "#and make a function to make it all Python. Or even include the table\n",
    "#in the package.\n",
    "\n",
    "#sns.heatmap(results_trans)\n",
    "#plt.show()"
   ]
  },
  {
   "cell_type": "code",
   "execution_count": 28,
   "metadata": {
    "collapsed": true
   },
   "outputs": [],
   "source": [
    "#How can we automate something like this?\n",
    "results_prot = results_prot.drop(['Proteomics_Tumor_Normal_Other_tumor_enrichment_FDR', \n",
    "                                  'Histologic_Grade_FIGO_High_grade_enrichment_FDR',\n",
    "                                  'Histologic_Grade_FIGO_Low_grade_enrichment_FDR', \n",
    "                                  'Myometrial_invasion_Specify_50%_or_more_enrichment_FDR'], \n",
    "                                 axis=1)"
   ]
  },
  {
   "cell_type": "markdown",
   "metadata": {},
   "source": [
    "## Step 6: Determine significant enrichments, and link with cancer drug database."
   ]
  },
  {
   "cell_type": "code",
   "execution_count": 29,
   "metadata": {},
   "outputs": [
    {
     "name": "stdout",
     "output_type": "stream",
     "text": [
      "TESTING FOR PROTEOMICS:\n",
      "538 significant protein enrichments in Histologic_type_Serous\n",
      "\n",
      "26 significant protein enrichments in Path_Stage_Reg_Lymph_Nodes-pN_FIGO_III\n",
      "\n",
      "4 significant protein enrichments in FIGO_stage_III_or_IV\n",
      "\n",
      "9 significant protein enrichments in LVSI_1.0\n",
      "\n",
      "7 significant protein enrichments in BMI_Healthy\n",
      "\n",
      "3 significant protein enrichments in Age_Young\n",
      "\n",
      "5 significant protein enrichments in Tumor_Site_Anterior\n",
      "\n",
      "2 significant protein enrichments in Tumor_Focality_Multifocal\n",
      "\n",
      "7 significant protein enrichments in MSI_status_MSI-H\n",
      "\n",
      "7 significant protein enrichments in Genomics_subtype_MSI-H\n",
      "\n"
     ]
    }
   ],
   "source": [
    "print(\"TESTING FOR PROTEOMICS:\")\n",
    "sig_cols = []\n",
    "for col in results_prot.columns:\n",
    "    sig_col = bf.significantEnrichments(results_prot, col, 0.025)\n",
    "    if sig_col is not None:\n",
    "        sig_cols.append(sig_col)\n",
    "    else:\n",
    "        continue"
   ]
  },
  {
   "cell_type": "code",
   "execution_count": 30,
   "metadata": {},
   "outputs": [
    {
     "name": "stdout",
     "output_type": "stream",
     "text": [
      "            Gene_set                                               Term  \\\n",
      "0    KEGG_2019_Human            Glyoxylate and dicarboxylate metabolism   \n",
      "1    KEGG_2019_Human                  Ribosome biogenesis in eukaryotes   \n",
      "2    KEGG_2019_Human           Glycine, serine and threonine metabolism   \n",
      "3    KEGG_2019_Human                          mRNA surveillance pathway   \n",
      "4    KEGG_2019_Human                        Basal transcription factors   \n",
      "5    KEGG_2019_Human                      Cytosolic DNA-sensing pathway   \n",
      "6    KEGG_2019_Human                                     RNA polymerase   \n",
      "7    KEGG_2019_Human                Amyotrophic lateral sclerosis (ALS)   \n",
      "8    KEGG_2019_Human                                        Spliceosome   \n",
      "9    KEGG_2019_Human                  Thyroid hormone signaling pathway   \n",
      "10   KEGG_2019_Human                                 Lysine degradation   \n",
      "11   KEGG_2019_Human                                 Endometrial cancer   \n",
      "12   KEGG_2019_Human                                      RNA transport   \n",
      "13   KEGG_2019_Human                               Salmonella infection   \n",
      "14   KEGG_2019_Human                                        Necroptosis   \n",
      "15   KEGG_2019_Human                           Homologous recombination   \n",
      "16   KEGG_2019_Human                                            Malaria   \n",
      "17   KEGG_2019_Human                       NF-kappa B signaling pathway   \n",
      "18   KEGG_2019_Human                                     Bladder cancer   \n",
      "19   KEGG_2019_Human                              Fatty acid elongation   \n",
      "20   KEGG_2019_Human                     Ubiquitin mediated proteolysis   \n",
      "21   KEGG_2019_Human                             Small cell lung cancer   \n",
      "22   KEGG_2019_Human        Alanine, aspartate and glutamate metabolism   \n",
      "23   KEGG_2019_Human                                  Pancreatic cancer   \n",
      "24   KEGG_2019_Human                            African trypanosomiasis   \n",
      "25   KEGG_2019_Human            Biosynthesis of unsaturated fatty acids   \n",
      "26   KEGG_2019_Human                                    DNA replication   \n",
      "27   KEGG_2019_Human                               Base excision repair   \n",
      "28   KEGG_2019_Human                                  Adherens junction   \n",
      "29   KEGG_2019_Human  Endocrine and other factor-regulated calcium r...   \n",
      "..               ...                                                ...   \n",
      "162  KEGG_2019_Human                               Pancreatic secretion   \n",
      "163  KEGG_2019_Human                        Chemokine signaling pathway   \n",
      "164  KEGG_2019_Human                                       Tuberculosis   \n",
      "165  KEGG_2019_Human                                 Retinol metabolism   \n",
      "166  KEGG_2019_Human               Toll-like receptor signaling pathway   \n",
      "167  KEGG_2019_Human           Human immunodeficiency virus 1 infection   \n",
      "168  KEGG_2019_Human                             cAMP signaling pathway   \n",
      "169  KEGG_2019_Human                               Viral carcinogenesis   \n",
      "170  KEGG_2019_Human                              TNF signaling pathway   \n",
      "171  KEGG_2019_Human             Cytokine-cytokine receptor interaction   \n",
      "172  KEGG_2019_Human            Transcriptional misregulation in cancer   \n",
      "173  KEGG_2019_Human                                     Tight junction   \n",
      "174  KEGG_2019_Human                                  Purine metabolism   \n",
      "175  KEGG_2019_Human                              Ras signaling pathway   \n",
      "176  KEGG_2019_Human                NOD-like receptor signaling pathway   \n",
      "177  KEGG_2019_Human                         Osteoclast differentiation   \n",
      "178  KEGG_2019_Human                   Herpes simplex virus 1 infection   \n",
      "179  KEGG_2019_Human                                Platelet activation   \n",
      "180  KEGG_2019_Human          Natural killer cell mediated cytotoxicity   \n",
      "181  KEGG_2019_Human                                        Endocytosis   \n",
      "182  KEGG_2019_Human                                          Phagosome   \n",
      "183  KEGG_2019_Human                    Human cytomegalovirus infection   \n",
      "184  KEGG_2019_Human                            Proteoglycans in cancer   \n",
      "185  KEGG_2019_Human                   Regulation of actin cytoskeleton   \n",
      "186  KEGG_2019_Human            Human T-cell leukemia virus 1 infection   \n",
      "187  KEGG_2019_Human                             MAPK signaling pathway   \n",
      "188  KEGG_2019_Human                                MicroRNAs in cancer   \n",
      "189  KEGG_2019_Human                         PI3K-Akt signaling pathway   \n",
      "190  KEGG_2019_Human                     Human papillomavirus infection   \n",
      "191  KEGG_2019_Human                                 Pathways in cancer   \n",
      "\n",
      "    Overlap       P-value  Adjusted P-value   Old P-value  \\\n",
      "0      2/30  1.926842e-01      8.408039e-01  2.286216e-01   \n",
      "1    23/101  2.203019e-15      4.229797e-13  3.952011e-13   \n",
      "2      3/40  9.209449e-02      5.923043e-01  1.209597e-01   \n",
      "3     15/91  1.923280e-08      9.231746e-07  2.453716e-07   \n",
      "4      5/45  6.959857e-03      1.336293e-01  1.302030e-02   \n",
      "5      6/63  6.848331e-03      1.336293e-01  1.301016e-02   \n",
      "6      6/31  1.529825e-04      5.874529e-03  5.331064e-04   \n",
      "7      3/51  1.574750e-01      7.851578e-01  1.957020e-01   \n",
      "8    22/134  1.017001e-11      9.763207e-10  3.627419e-10   \n",
      "9     8/116  1.314843e-02      2.103748e-01  2.404359e-02   \n",
      "10     4/59  7.411887e-02      5.759086e-01  1.021283e-01   \n",
      "11     2/58  4.648774e-01      9.917748e-01  5.095185e-01   \n",
      "12   24/165  1.679691e-11      1.075002e-09  5.050876e-10   \n",
      "13     4/86  2.011272e-01      8.533299e-01  2.499494e-01   \n",
      "14    9/162  3.140784e-02      3.673309e-01  5.320424e-02   \n",
      "15     3/41  9.747756e-02      5.923043e-01  1.272531e-01   \n",
      "16     5/49  9.954390e-03      1.737494e-01  1.775395e-02   \n",
      "17     6/95  4.308802e-02      4.267030e-01  6.602964e-02   \n",
      "18     3/41  9.747756e-02      5.923043e-01  1.272531e-01   \n",
      "19     2/27  1.635745e-01      7.851578e-01  1.972712e-01   \n",
      "20   10/137  3.975910e-03      1.090535e-01  8.682017e-03   \n",
      "21     4/93  2.410441e-01      9.042021e-01  2.940501e-01   \n",
      "22     2/35  2.423858e-01      9.042021e-01  2.814235e-01   \n",
      "23     6/75  1.552698e-02      2.293216e-01  2.670025e-02   \n",
      "24     2/37  2.624544e-01      9.042021e-01  3.025193e-01   \n",
      "25     2/27  1.635745e-01      7.851578e-01  1.972712e-01   \n",
      "26     2/36  2.524153e-01      9.042021e-01  2.919814e-01   \n",
      "27     2/33  2.223886e-01      9.042021e-01  2.602792e-01   \n",
      "28     5/72  4.444823e-02      4.267030e-01  6.632065e-02   \n",
      "29     1/48  7.303003e-01      9.917748e-01  7.557573e-01   \n",
      "..      ...           ...               ...           ...   \n",
      "162    1/98  9.313612e-01      9.917748e-01  9.425611e-01   \n",
      "163   6/190  4.038350e-01      9.917748e-01  4.805871e-01   \n",
      "164   3/179  8.636439e-01      9.917748e-01  8.932592e-01   \n",
      "165    1/67  8.395941e-01      9.917748e-01  8.589349e-01   \n",
      "166   2/104  7.734697e-01      9.917748e-01  8.066143e-01   \n",
      "167   2/212  9.792861e-01      9.917748e-01  9.853009e-01   \n",
      "168   2/212  9.792861e-01      9.917748e-01  9.853009e-01   \n",
      "169   8/201  1.755483e-01      8.025067e-01  2.394019e-01   \n",
      "170   2/110  7.995464e-01      9.917748e-01  8.305080e-01   \n",
      "171   3/294  9.866093e-01      9.917748e-01  9.915132e-01   \n",
      "172   7/186  2.355950e-01      9.042021e-01  3.048025e-01   \n",
      "173   5/170  4.836076e-01      9.917748e-01  5.545169e-01   \n",
      "174   3/129  6.782254e-01      9.917748e-01  7.264497e-01   \n",
      "175   3/232  9.510250e-01      9.917748e-01  9.650858e-01   \n",
      "176   7/178  2.044436e-01      8.533299e-01  2.690765e-01   \n",
      "177   3/127  6.679511e-01      9.917748e-01  7.168151e-01   \n",
      "178   7/492  9.798769e-01      9.917748e-01  9.895068e-01   \n",
      "179   3/124  6.520948e-01      9.917748e-01  7.018770e-01   \n",
      "180   3/131  6.882628e-01      9.917748e-01  7.358276e-01   \n",
      "181   4/244  8.970864e-01      9.917748e-01  9.249440e-01   \n",
      "182   5/152  3.887780e-01      9.917748e-01  4.582216e-01   \n",
      "183   4/225  8.584999e-01      9.917748e-01  8.932571e-01   \n",
      "184   6/201  4.563504e-01      9.917748e-01  5.341412e-01   \n",
      "185   5/214  6.858722e-01      9.917748e-01  7.474948e-01   \n",
      "186   8/219  2.382498e-01      9.042021e-01  3.127327e-01   \n",
      "187   6/295  8.085627e-01      9.917748e-01  8.598537e-01   \n",
      "188   8/299  5.560950e-01      9.917748e-01  6.443920e-01   \n",
      "189  11/354  3.560764e-01      9.917748e-01  4.582727e-01   \n",
      "190  11/330  2.765856e-01      9.042021e-01  3.703915e-01   \n",
      "191  17/530  2.624090e-01      9.042021e-01  3.783010e-01   \n",
      "\n",
      "     Old Adjusted P-value     Z-score  Combined Score  \\\n",
      "0            9.967043e-01 -715.914334     1178.897974   \n",
      "1            7.587862e-11  -34.656712     1169.627555   \n",
      "2            8.139255e-01 -286.278612      682.757364   \n",
      "3            1.177784e-05  -25.248010      448.572511   \n",
      "4            2.695154e-01  -62.992449      312.921059   \n",
      "5            2.695154e-01  -52.335091      260.825027   \n",
      "6            1.995851e-02  -27.704648      243.390505   \n",
      "7            9.686443e-01 -129.907891      240.133273   \n",
      "8            3.232561e-08   -8.409206      212.850282   \n",
      "9            3.846974e-01  -40.858667      176.977398   \n",
      "10           7.896272e-01  -63.314861      164.750656   \n",
      "11           9.967043e-01 -201.504352      154.348640   \n",
      "12           3.232561e-08   -5.521671      136.991698   \n",
      "13           9.967043e-01  -82.574179      132.433944   \n",
      "14           6.031340e-01  -31.075178      107.541795   \n",
      "15           8.139255e-01  -45.550087      106.046661   \n",
      "16           3.098872e-01  -19.799245       91.269403   \n",
      "17           6.366782e-01  -28.216030       88.725600   \n",
      "18           8.139255e-01  -35.308215       82.202222   \n",
      "19           9.686443e-01  -43.094985       78.022887   \n",
      "20           2.381353e-01  -13.300051       73.516053   \n",
      "21           9.967043e-01  -50.450832       71.780209   \n",
      "22           9.967043e-01  -50.372166       71.388681   \n",
      "23           3.943422e-01  -17.101150       71.229297   \n",
      "24           9.967043e-01  -52.050848       69.627264   \n",
      "25           9.686443e-01  -34.676237       62.780858   \n",
      "26           9.967043e-01  -38.524048       53.035267   \n",
      "27           9.967043e-01  -34.905884       52.475024   \n",
      "28           6.366782e-01  -15.542371       48.390086   \n",
      "29           9.967043e-01 -141.605747       44.506612   \n",
      "..                    ...         ...             ...   \n",
      "162          9.967043e-01   35.919913       -2.554198   \n",
      "163          9.967043e-01    3.043686       -2.759859   \n",
      "164          9.967043e-01   21.054270       -3.086446   \n",
      "165          9.967043e-01   20.851711       -3.645646   \n",
      "166          9.967043e-01   15.736157       -4.042127   \n",
      "167          9.967043e-01  197.495064       -4.133852   \n",
      "168          9.967043e-01  216.412870       -4.529828   \n",
      "169          9.967043e-01    2.800687       -4.872750   \n",
      "170          9.967043e-01   22.075554       -4.938538   \n",
      "171          9.967043e-01  368.053618       -4.961774   \n",
      "172          9.967043e-01    3.563125       -5.150999   \n",
      "173          9.967043e-01    8.166383       -5.932725   \n",
      "174          9.967043e-01   24.170731       -9.384904   \n",
      "175          9.967043e-01  215.642146      -10.828445   \n",
      "176          9.967043e-01    7.103964      -11.277281   \n",
      "177          9.967043e-01   28.908901      -11.665906   \n",
      "178          9.967043e-01  623.022942      -12.665031   \n",
      "179          9.967043e-01   30.924717      -13.222338   \n",
      "180          9.967043e-01   46.481745      -17.364862   \n",
      "181          9.967043e-01  194.979346      -21.175369   \n",
      "182          9.967043e-01   25.526403      -24.115986   \n",
      "183          9.967043e-01  168.073884      -25.642818   \n",
      "184          9.967043e-01   37.006318      -29.031248   \n",
      "185          9.967043e-01  125.111543      -47.175064   \n",
      "186          9.967043e-01   37.884973      -54.343546   \n",
      "187          9.967043e-01  260.032012      -55.256034   \n",
      "188          9.967043e-01  166.013206      -97.419219   \n",
      "189          9.967043e-01  105.214286     -108.645323   \n",
      "190          9.967043e-01  126.934053     -163.140093   \n",
      "191          9.967043e-01  174.106051     -232.927959   \n",
      "\n",
      "                                                 Genes  \n",
      "0                                            GCSH;GLDC  \n",
      "1    NOP58;UTP6;WDR36;CSNK2A1;UTP4;POP1;WDR3;HEATR1...  \n",
      "2                                        GCSH;CBS;GLDC  \n",
      "3    UPF2;UPF1;SMG1;RNGTT;CPSF1;RNMT;CPSF3;EIF4A3;C...  \n",
      "4                     TAF6L;GTF2IRD1;GTF2E2;TAF2;GTF2I  \n",
      "5             POLR3A;POLR3B;POLR3C;POLR3E;POLR3F;CASP1  \n",
      "6            POLR3A;POLR3B;POLR3C;POLR2B;POLR3E;POLR3F  \n",
      "7                                    CASP1;TP53;BCL2L1  \n",
      "8    SF3B4;TCERG1;AQR;RBM25;SF3B2;EIF4A3;DDX23;PRPF...  \n",
      "9        MED12;MED1;MED14;MED24;STAT1;EP300;TP53;MED17  \n",
      "10                         SETDB1;EHMT2;KMT2B;COLGALT1  \n",
      "11                                          ERBB2;TP53  \n",
      "12   UPF2;UPF1;POP1;GEMIN2;EIF4A3;RPP40;NUP153;CASC...  \n",
      "13                              KLC3;CASP1;WASF1;RAB7A  \n",
      "14   PARP1;STAT1;STAT2;STAT3;TNFSF10;CASP1;EIF2AK2;...  \n",
      "15                                   NBN;TOPBP1;RAD54B  \n",
      "16                         COMP;CD40;VCAM1;THBS2;ICAM1  \n",
      "17               CD40;VCAM1;PARP1;CSNK2A1;BCL2L1;ICAM1  \n",
      "18                                   CDKN2A;ERBB2;TP53  \n",
      "19                                         ACOT7;THEM4  \n",
      "20   UBE2C;UBE2S;FBXO2;UBR5;HUWE1;KEAP1;UBE2J2;SAE1...  \n",
      "21                             CCNE1;TP53;BCL2L1;CKS1B  \n",
      "22                                           CAD;NAT8L  \n",
      "23                STAT1;CDKN2A;STAT3;ERBB2;TP53;BCL2L1  \n",
      "24                                         VCAM1;ICAM1  \n",
      "25                                         ACOT7;FADS1  \n",
      "26                                           RFC4;MCM3  \n",
      "27                                           PARP1;UNG  \n",
      "28                   CSNK2A1;ERBB2;EP300;WASF1;NECTIN3  \n",
      "29                                                DNM2  \n",
      "..                                                 ...  \n",
      "162                                               CD38  \n",
      "163                   HCK;STAT1;STAT2;STAT3;DOCK2;VAV1  \n",
      "164                                  STAT1;EP300;RAB7A  \n",
      "165                                             CYP2S1  \n",
      "166                                         CD40;STAT1  \n",
      "167                                        PAK2;BCL2L1  \n",
      "168                                         EP300;VAV1  \n",
      "169  CDKN2A;CCNE1;STAT3;EP300;EIF2AK2;CHD4;TP53;GTF2E2  \n",
      "170                                        VCAM1;ICAM1  \n",
      "171                                 CD40;TNFSF10;INHBA  \n",
      "172           SS18;CD40;PAX8;CCNT1;ASPSCR1;TP53;BCL2L1  \n",
      "173                     PRKCI;ERBB2;SYMPK;ARHGEF2;YBX3  \n",
      "174                                   IMPDH2;GMPS;GART  \n",
      "175                                 RASAL1;PAK2;BCL2L1  \n",
      "176           GBP5;DHX33;STAT1;STAT2;CASP1;GBP1;BCL2L1  \n",
      "177                                 STAT1;STAT2;SQSTM1  \n",
      "178         NXF1;STAT1;STAT2;NXF2B;EIF2AK2;TP53;BCL2L1  \n",
      "179                               PRKCI;ARHGEF1;FERMT3  \n",
      "180                                 TNFSF10;VAV1;ICAM1  \n",
      "181                             PRKCI;CHMP5;DNM2;RAB7A  \n",
      "182                     COMP;TUBB2B;THBS2;TUBB4A;RAB7A  \n",
      "183                          CDKN2A;STAT3;ARHGEF1;TP53  \n",
      "184               STAT3;ERBB2;WNT7A;ARHGEF1;TP53;EIF4B  \n",
      "185                     DIAPH3;ARHGEF1;WASF1;PAK2;VAV1  \n",
      "186     CD40;XPO1;CDKN2A;CCNE1;EP300;TP53;BCL2L1;ICAM1  \n",
      "187           MAPKAPK3;ERBB2;PAK2;MAPK8IP3;TP53;MAP4K3  \n",
      "188  CDKN2A;CCNE1;STAT3;ERBB2;DNMT3A;IGF2BP1;EP300;...  \n",
      "189  COMP;CCNE1;CDC37;ERBB2;THEM4;PIK3AP1;PCK1;THBS...  \n",
      "190  COMP;PRKCI;STAT1;CCNE1;STAT2;WNT7A;EP300;EIF2A...  \n",
      "191  STAT1;CDKN2A;STAT2;STAT3;WNT7A;KEAP1;CKS1B;MSH...  \n",
      "\n"
     ]
    },
    {
     "name": "stdout",
     "output_type": "stream",
     "text": [
      "[192 rows x 10 columns]\n",
      "           Gene_set                                               Term  \\\n",
      "0   KEGG_2019_Human                            African trypanosomiasis   \n",
      "1   KEGG_2019_Human                 Cysteine and methionine metabolism   \n",
      "2   KEGG_2019_Human                              TNF signaling pathway   \n",
      "3   KEGG_2019_Human                       NF-kappa B signaling pathway   \n",
      "4   KEGG_2019_Human                                        Spliceosome   \n",
      "5   KEGG_2019_Human                                            Malaria   \n",
      "6   KEGG_2019_Human                      Inositol phosphate metabolism   \n",
      "7   KEGG_2019_Human              Phosphatidylinositol signaling system   \n",
      "8   KEGG_2019_Human             Fluid shear stress and atherosclerosis   \n",
      "9   KEGG_2019_Human  AGE-RAGE signaling pathway in diabetic complic...   \n",
      "10  KEGG_2019_Human                     Cell adhesion molecules (CAMs)   \n",
      "11  KEGG_2019_Human               Leukocyte transendothelial migration   \n",
      "12  KEGG_2019_Human                   Regulation of actin cytoskeleton   \n",
      "13  KEGG_2019_Human                                      RNA transport   \n",
      "14  KEGG_2019_Human                               Viral carcinogenesis   \n",
      "15  KEGG_2019_Human                                MicroRNAs in cancer   \n",
      "16  KEGG_2019_Human                     Human papillomavirus infection   \n",
      "17  KEGG_2019_Human                   Herpes simplex virus 1 infection   \n",
      "\n",
      "   Overlap   P-value  Adjusted P-value  Old P-value  Old Adjusted P-value  \\\n",
      "0     1/37  0.047033          0.222430     0.042964              0.201232   \n",
      "1     1/47  0.059375          0.222430     0.053993              0.201232   \n",
      "2    1/110  0.133666          0.222430     0.120921              0.201232   \n",
      "3     1/95  0.116507          0.222430     0.105380              0.201232   \n",
      "4    3/134  0.000683          0.012295     0.000410              0.007388   \n",
      "5     1/49  0.061824          0.222430     0.056186              0.201232   \n",
      "6     1/74  0.091935          0.222430     0.083212              0.201232   \n",
      "7     1/99  0.121114          0.222430     0.109548              0.201232   \n",
      "8    2/139  0.013974          0.125767     0.010719              0.096471   \n",
      "9    1/100  0.122263          0.222430     0.110587              0.201232   \n",
      "10   1/145  0.172466          0.258699     0.156254              0.234382   \n",
      "11   1/112  0.135929          0.222430     0.122975              0.201232   \n",
      "12   1/214  0.244122          0.292946     0.222235              0.266682   \n",
      "13   1/165  0.193882          0.268452     0.175873              0.243516   \n",
      "14   1/201  0.231094          0.292946     0.210167              0.266682   \n",
      "15   1/299  0.324216          0.364743     0.297186              0.334335   \n",
      "16   1/330  0.351343          0.372010     0.322879              0.341872   \n",
      "17   1/492  0.476914          0.476914     0.444048              0.444048   \n",
      "\n",
      "      Z-score  Combined Score               Genes  \n",
      "0  -66.280015      202.612180               VCAM1  \n",
      "1  -56.049830      158.278566              DNMT3A  \n",
      "2  -76.003425      152.950197               VCAM1  \n",
      "3  -33.631775       72.301733               VCAM1  \n",
      "4   -8.533658       62.201603  SF3B2;HNRNPU;USP39  \n",
      "5  -20.201260       56.229353               VCAM1  \n",
      "6  -12.264664       29.271811             PIP4K2C  \n",
      "7  -11.390302       24.045156             PIP4K2C  \n",
      "8   -3.836402       16.383546         VCAM1;SUMO1  \n",
      "9   -7.313166       15.369234               VCAM1  \n",
      "10  -7.796963       13.703580               VCAM1  \n",
      "11  -6.451546       12.874831               VCAM1  \n",
      "12  -5.077368        7.159536             PIP4K2C  \n",
      "13  -4.336254        7.113652               SUMO1  \n",
      "14  -0.091944        0.134692                CHD4  \n",
      "15  13.982797      -15.749461              DNMT3A  \n",
      "16  26.755108      -27.985622                CHD4  \n",
      "17  53.501513      -39.613582              ZNF184  \n",
      "          Gene_set                                               Term Overlap  \\\n",
      "0  KEGG_2019_Human                            African trypanosomiasis    1/37   \n",
      "1  KEGG_2019_Human                              TNF signaling pathway   1/110   \n",
      "2  KEGG_2019_Human                       NF-kappa B signaling pathway    1/95   \n",
      "3  KEGG_2019_Human                                            Malaria    1/49   \n",
      "4  KEGG_2019_Human  AGE-RAGE signaling pathway in diabetic complic...   1/100   \n",
      "5  KEGG_2019_Human                     Cell adhesion molecules (CAMs)   1/145   \n",
      "6  KEGG_2019_Human                                        Spliceosome   1/134   \n",
      "7  KEGG_2019_Human               Leukocyte transendothelial migration   1/112   \n",
      "8  KEGG_2019_Human             Fluid shear stress and atherosclerosis   1/139   \n",
      "\n",
      "    P-value  Adjusted P-value  Old P-value  Old Adjusted P-value    Z-score  \\\n",
      "0  0.007380          0.028688     0.009716              0.037069 -66.838021   \n",
      "1  0.021821          0.028688     0.028246              0.037069 -79.895448   \n",
      "2  0.018866          0.028688     0.024453              0.037069 -35.437023   \n",
      "3  0.009765          0.028688     0.012774              0.037069 -20.402268   \n",
      "4  0.019852          0.028688     0.025718              0.037069  -7.739143   \n",
      "5  0.028688          0.028688     0.037069              0.037069  -8.138336   \n",
      "6  0.026534          0.028688     0.034301              0.037069  -7.786947   \n",
      "7  0.022214          0.028688     0.028752              0.037069  -6.776528   \n",
      "8  0.027514          0.028688     0.035559              0.037069  -3.532529   \n",
      "\n",
      "   Combined Score  Genes  \n",
      "0      328.106236  VCAM1  \n",
      "1      305.591476  VCAM1  \n",
      "2      140.698082  VCAM1  \n",
      "3       94.441565  VCAM1  \n",
      "4       30.333196  VCAM1  \n",
      "5       28.901402  VCAM1  \n",
      "6       28.261439  USP39  \n",
      "7       25.798402  VCAM1  \n",
      "8       12.692644  VCAM1  \n",
      "          Gene_set                                      Term Overlap  \\\n",
      "0  KEGG_2019_Human   Glyoxylate and dicarboxylate metabolism    1/30   \n",
      "1  KEGG_2019_Human  Glycine, serine and threonine metabolism    1/40   \n",
      "2  KEGG_2019_Human                             RNA transport   1/165   \n",
      "\n",
      "    P-value  Adjusted P-value  Old P-value  Old Adjusted P-value     Z-score  \\\n",
      "0  0.013422           0.02679     0.007929              0.015721 -840.044642   \n",
      "1  0.017860           0.02679     0.010481              0.015721 -313.792703   \n",
      "2  0.071860           0.07186     0.042092              0.042092   -5.521671   \n",
      "\n",
      "   Combined Score Genes  \n",
      "0     3621.317994  GLDC  \n",
      "1     1263.072029  GLDC  \n",
      "2       14.538737  XPO5  \n",
      "          Gene_set                                     Term Overlap   P-value  \\\n",
      "0  KEGG_2019_Human        Ribosome biogenesis in eukaryotes   1/101  0.034824   \n",
      "1  KEGG_2019_Human                           Oocyte meiosis   1/125  0.042945   \n",
      "2  KEGG_2019_Human  Progesterone-mediated oocyte maturation    1/99  0.034145   \n",
      "3  KEGG_2019_Human                               Cell cycle   1/124  0.042607   \n",
      "\n",
      "   Adjusted P-value  Old P-value  Old Adjusted P-value    Z-score  \\\n",
      "0          0.042945     0.025971              0.032032 -34.292173   \n",
      "1          0.042945     0.032032              0.032032 -26.820889   \n",
      "2          0.042945     0.025465              0.032032 -16.961122   \n",
      "3          0.042945     0.031780              0.032032  -4.957800   \n",
      "\n",
      "   Combined Score Genes  \n",
      "0      115.134128  UTP6  \n",
      "1       84.428046  BUB1  \n",
      "2       57.280209  BUB1  \n",
      "3       15.645474  BUB1  \n",
      "          Gene_set                  Term Overlap   P-value  Adjusted P-value  \\\n",
      "0  KEGG_2019_Human       Renin secretion    1/69  0.010315          0.021943   \n",
      "1  KEGG_2019_Human  Pancreatic secretion    1/98  0.014629          0.021943   \n",
      "2  KEGG_2019_Human         Axon guidance   1/181  0.026906          0.026906   \n",
      "\n",
      "   Old P-value  Old Adjusted P-value     Z-score  Combined Score  Genes  \n",
      "0     0.017860              0.037818 -134.292731      614.277903  CLCA4  \n",
      "1     0.025212              0.037818  -36.387787      153.729739  CLCA4  \n",
      "2     0.046102              0.046102   -1.232117        4.454585  EPHA7  \n",
      "          Gene_set                   Term Overlap   P-value  Adjusted P-value  \\\n",
      "0  KEGG_2019_Human  Fatty acid elongation    1/27  0.006732          0.006732   \n",
      "1  KEGG_2019_Human    Folate biosynthesis    1/26  0.006484          0.006732   \n",
      "2  KEGG_2019_Human    Thiamine metabolism    1/15  0.003745          0.006732   \n",
      "3  KEGG_2019_Human         Protein export    1/23  0.005737          0.006732   \n",
      "\n",
      "   Old P-value  Old Adjusted P-value    Z-score  Combined Score  Genes  \n",
      "0     0.010725              0.010725 -51.116803      255.625573   MECR  \n",
      "1     0.010343              0.010725 -40.877606      205.959909   ALPG  \n",
      "2     0.006138              0.010725 -18.073696      100.984959   ALPG  \n"
     ]
    },
    {
     "name": "stdout",
     "output_type": "stream",
     "text": [
      "3     0.009198              0.010725 -12.009321       61.977171  SRP19  \n",
      "          Gene_set           Term Overlap   P-value  Adjusted P-value  \\\n",
      "0  KEGG_2019_Human        Measles   1/138  0.013753          0.016432   \n",
      "1  KEGG_2019_Human  RNA transport   1/165  0.016432          0.016432   \n",
      "\n",
      "   Old P-value  Old Adjusted P-value   Z-score  Combined Score  Genes  \n",
      "0     0.017814              0.021274 -8.631029       36.997061  EIF3H  \n",
      "1     0.021274              0.021274 -5.640213       23.172834  EIF3H  \n",
      "          Gene_set                                    Term Overlap   P-value  \\\n",
      "0  KEGG_2019_Human                   TNF signaling pathway   1/110  0.037876   \n",
      "1  KEGG_2019_Human                    Rheumatoid arthritis    1/91  0.031423   \n",
      "2  KEGG_2019_Human                 IL-17 signaling pathway    1/93  0.032104   \n",
      "3  KEGG_2019_Human                                Ribosome   1/153  0.052344   \n",
      "4  KEGG_2019_Human             Chemokine signaling pathway   1/190  0.064644   \n",
      "5  KEGG_2019_Human  Cytokine-cytokine receptor interaction   1/294  0.098486   \n",
      "\n",
      "   Adjusted P-value  Old P-value  Old Adjusted P-value    Z-score  \\\n",
      "0          0.075752     0.028246              0.056493 -81.452257   \n",
      "1          0.075752     0.023440              0.056493 -37.812032   \n",
      "2          0.075752     0.023947              0.056493 -25.677861   \n",
      "3          0.077573     0.039080              0.058024  -4.232884   \n",
      "4          0.077573     0.048353              0.058024  -1.937170   \n",
      "5          0.098486     0.074178              0.074178  -2.020404   \n",
      "\n",
      "   Combined Score    Genes  \n",
      "0      266.628604    CCL20  \n",
      "1      130.837551    CCL20  \n",
      "2       88.300234    CCL20  \n",
      "3       12.486641  RPL22L1  \n",
      "4        5.305640    CCL20  \n",
      "5        4.682979    CCL20  \n",
      "          Gene_set                                    Term Overlap   P-value  \\\n",
      "0  KEGG_2019_Human                   TNF signaling pathway   1/110  0.037876   \n",
      "1  KEGG_2019_Human                    Rheumatoid arthritis    1/91  0.031423   \n",
      "2  KEGG_2019_Human                 IL-17 signaling pathway    1/93  0.032104   \n",
      "3  KEGG_2019_Human                                Ribosome   1/153  0.052344   \n",
      "4  KEGG_2019_Human             Chemokine signaling pathway   1/190  0.064644   \n",
      "5  KEGG_2019_Human  Cytokine-cytokine receptor interaction   1/294  0.098486   \n",
      "\n",
      "   Adjusted P-value  Old P-value  Old Adjusted P-value    Z-score  \\\n",
      "0          0.075752     0.028246              0.056493 -81.452257   \n",
      "1          0.075752     0.023440              0.056493 -37.812032   \n",
      "2          0.075752     0.023947              0.056493 -25.677861   \n",
      "3          0.077573     0.039080              0.058024  -4.232884   \n",
      "4          0.077573     0.048353              0.058024  -1.937170   \n",
      "5          0.098486     0.074178              0.074178  -2.020404   \n",
      "\n",
      "   Combined Score    Genes  \n",
      "0      266.628604    CCL20  \n",
      "1      130.837551    CCL20  \n",
      "2       88.300234    CCL20  \n",
      "3       12.486641  RPL22L1  \n",
      "4        5.305640    CCL20  \n",
      "5        4.682979    CCL20  \n"
     ]
    }
   ],
   "source": [
    "#Look for background set of genes. Can we specify?\n",
    "#enrichr vs gsea\n",
    "for col in sig_cols:\n",
    "    col_name = col.columns[0]\n",
    "    gene_name_list = list(col.index)\n",
    "    enrichment = gp.enrichr(gene_list = gene_name_list, \n",
    "                            description=col_name, \n",
    "                            gene_sets='KEGG_2019_Human',\n",
    "                            outdir='test/enrichr_kegg',\n",
    "                            cutoff=0.5)\n",
    "    print(enrichment.res2d)\n",
    "    barplot(enrichment.res2d, title=col_name)"
   ]
  }
 ],
 "metadata": {
  "kernelspec": {
   "display_name": "Python 3",
   "language": "python",
   "name": "python3"
  },
  "language_info": {
   "codemirror_mode": {
    "name": "ipython",
    "version": 3
   },
   "file_extension": ".py",
   "mimetype": "text/x-python",
   "name": "python",
   "nbconvert_exporter": "python",
   "pygments_lexer": "ipython3",
   "version": "3.6.2"
  }
 },
 "nbformat": 4,
 "nbformat_minor": 2
}
