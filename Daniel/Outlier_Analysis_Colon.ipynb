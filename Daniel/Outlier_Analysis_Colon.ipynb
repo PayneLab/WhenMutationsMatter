{
 "cells": [
  {
   "cell_type": "markdown",
   "metadata": {},
   "source": [
    "## BlackSheep Cookbook Exploration\n",
    "\n",
    "The Black Sheep Analysis allows researchers to find trends in abnormal protein enrichment among patients in CPTAC datasets. In this Cookbook, we will go through the steps needed to perform a full Black Sheep Analysis."
   ]
  },
  {
   "cell_type": "markdown",
   "metadata": {},
   "source": [
    "### Step 1a: Import Dependencies\n",
    "First, import the necessary dependencies and load cptac data."
   ]
  },
  {
   "cell_type": "code",
   "execution_count": 1,
   "metadata": {
    "collapsed": true
   },
   "outputs": [],
   "source": [
    "import numpy as np\n",
    "import pandas as pd\n",
    "import matplotlib.pyplot as plt\n",
    "import seaborn as sns\n",
    "import cptac\n",
    "import binarization_functions as bf\n",
    "import blackSheepCPTACmoduleCopy as blsh\n",
    "import gseapy as gp\n",
    "from gseapy.plot import barplot, heatmap, dotplot"
   ]
  },
  {
   "cell_type": "markdown",
   "metadata": {},
   "source": [
    "## Step 1b: Load Data and Choose Omics Table\n",
    "For this analysis, we will be looking at results across the proteomics, transcriptomics, and phosphoproteomics tables."
   ]
  },
  {
   "cell_type": "code",
   "execution_count": 2,
   "metadata": {},
   "outputs": [
    {
     "name": "stdout",
     "output_type": "stream",
     "text": [
      "All files already downloaded and correct.\n"
     ]
    },
    {
     "data": {
      "text/plain": [
       "True"
      ]
     },
     "execution_count": 2,
     "metadata": {},
     "output_type": "execute_result"
    }
   ],
   "source": [
    "cptac.download(dataset='colon')"
   ]
  },
  {
   "cell_type": "code",
   "execution_count": 3,
   "metadata": {},
   "outputs": [
    {
     "name": "stdout",
     "output_type": "stream",
     "text": [
      "                                    \r"
     ]
    }
   ],
   "source": [
    "co = cptac.Colon()\n",
    "proteomics = co.get_proteomics()\n",
    "transcriptomics = co.get_transcriptomics()\n",
    "clinical = co.get_clinical()"
   ]
  },
  {
   "cell_type": "markdown",
   "metadata": {},
   "source": [
    "## Step 2: Determine what attributes you would like to A/B test. \n",
    "For this analysis, we will iteratively go through the various columns in the clinical dataset, to determine if any of them have trends within them for protein enrichment."
   ]
  },
  {
   "cell_type": "code",
   "execution_count": 4,
   "metadata": {
    "collapsed": true
   },
   "outputs": [],
   "source": [
    "#Create a copy of the original Clinical DataFrame and drop irrelevant columns.\n",
    "annotations = pd.DataFrame(clinical.copy())"
   ]
  },
  {
   "cell_type": "code",
   "execution_count": 5,
   "metadata": {
    "collapsed": true
   },
   "outputs": [],
   "source": [
    "annotations = annotations.drop(['Patient_ID'], axis=1)"
   ]
  },
  {
   "cell_type": "code",
   "execution_count": 6,
   "metadata": {
    "collapsed": true
   },
   "outputs": [],
   "source": [
    "already_binary_columns = ['Mutation_Phenotype', 'Tumor.Status', \n",
    "                          'Vital.Status', 'Polyps_Present', \n",
    "                          'Polyps_History', 'Synchronous_Tumors', \n",
    "                          'Perineural_Invasion', 'Lymphatic_Invasion', \n",
    "                          'Vascular_Invasion', 'Mucinous', 'Gender', \n",
    "                          'Sample_Tumor_Normal']\n",
    "\n",
    "#should pathalogy_T_stage be pathology_T_stage??\n",
    "columns_2_binarize = ['Age', 'Subsite', \n",
    "                      'pathalogy_T_stage',\n",
    "                      'pathalogy_N_stage', \n",
    "                      'Stage', 'CEA', \n",
    "                      'Transcriptomic_subtype', \n",
    "                      'Proteomic_subtype', \n",
    "                      'mutation_rate']"
   ]
  },
  {
   "cell_type": "markdown",
   "metadata": {},
   "source": [
    "## Step 2a: Binarize column values"
   ]
  },
  {
   "cell_type": "markdown",
   "metadata": {
    "collapsed": true
   },
   "source": [
    "Clean up columns that are strings, that should be numerics"
   ]
  },
  {
   "cell_type": "code",
   "execution_count": 7,
   "metadata": {
    "collapsed": true
   },
   "outputs": [],
   "source": [
    "clinical['CEA'] = pd.to_numeric(clinical['CEA'])\n",
    "clinical['Age'] = pd.to_numeric(clinical['Age'])\n",
    "clinical['mutation_rate'] = pd.to_numeric(clinical['mutation_rate'])"
   ]
  },
  {
   "cell_type": "code",
   "execution_count": 8,
   "metadata": {
    "collapsed": true
   },
   "outputs": [],
   "source": [
    "annotations['Age'] = bf.binarizeCutOff(clinical, 'Age', \n",
    "                                       730, '2 years or older', \n",
    "                                       'Younger than 2 years')"
   ]
  },
  {
   "cell_type": "code",
   "execution_count": 9,
   "metadata": {
    "collapsed": true
   },
   "outputs": [],
   "source": [
    "subsite_map = {'Sigmoid Colon':'Sigmoid_Colon', \n",
    "               'Ascending Colon':'Other_site', \n",
    "               'Cecum ':'Other_site', \n",
    "               'Descending Colon':'Other_site', \n",
    "               'Hepatix Flexure':'Other_site', \n",
    "               'Splenic Flexure':'Other_site', \n",
    "               'Tranverse Colon':'Other_site'}\n",
    "\n",
    "annotations['Subsite'] = bf.binarizeCategorical(clinical, \n",
    "                                                'Subsite', \n",
    "                                                subsite_map)"
   ]
  },
  {
   "cell_type": "code",
   "execution_count": 10,
   "metadata": {
    "collapsed": true
   },
   "outputs": [],
   "source": [
    "pathalogy_T_stage_map = {'T3':'T3orT2', 'T2':'T3orT2', \n",
    "                         'T4a':'T4', 'T4b':'T4'}\n",
    "\n",
    "annotations['pathalogy_T_stage'] = bf.binarizeCategorical(clinical, \n",
    "                                                          'pathalogy_T_stage', \n",
    "                                                          pathalogy_T_stage_map)"
   ]
  },
  {
   "cell_type": "code",
   "execution_count": 11,
   "metadata": {
    "collapsed": true
   },
   "outputs": [],
   "source": [
    "pathalogy_N_stage_map = {'N0':'N0', 'N1':'N1orN2',\n",
    "                         'N1a':'N1orN2', 'N1b':'N1orN2', \n",
    "                         'N2a':'N1orN2', 'N2b':'N1orN2'}\n",
    "\n",
    "annotations['pathalogy_N_stage'] = bf.binarizeCategorical(clinical, \n",
    "                                                          'pathalogy_N_stage', \n",
    "                                                          pathalogy_N_stage_map)"
   ]
  },
  {
   "cell_type": "code",
   "execution_count": 12,
   "metadata": {
    "collapsed": true
   },
   "outputs": [],
   "source": [
    "stage_map = {'Stage I':'StageIorII', \n",
    "             'Stage II':'StageIorII', \n",
    "             'Stage III':'StageIIIorIV', \n",
    "             'Stage IV':'StageIIIorIV'}\n",
    "\n",
    "annotations['Stage'] = bf.binarizeCategorical(clinical, \n",
    "                                              'Stage', \n",
    "                                              stage_map)"
   ]
  },
  {
   "cell_type": "code",
   "execution_count": 13,
   "metadata": {
    "collapsed": true
   },
   "outputs": [],
   "source": [
    "annotations['CEA'] = bf.binarizeCutOff(clinical, \n",
    "                                       'CEA', 15, \n",
    "                                       'High_CEA', \n",
    "                                       'Low_CEA')"
   ]
  },
  {
   "cell_type": "code",
   "execution_count": 14,
   "metadata": {
    "collapsed": true
   },
   "outputs": [],
   "source": [
    "Transcriptomic_subtype_map = {'CMS1':'CMS1or2', \n",
    "                              'CMS2':'CMS1or2', \n",
    "                              'CMS3':'CMS3or4', \n",
    "                              'CMS4':'CMS3or4'}\n",
    "\n",
    "annotations['Transcriptomic_subtype'] = bf.binarizeCategorical(clinical, \n",
    "                                                               'Transcriptomic_subtype', \n",
    "                                                               Transcriptomic_subtype_map)"
   ]
  },
  {
   "cell_type": "code",
   "execution_count": 15,
   "metadata": {
    "collapsed": true
   },
   "outputs": [],
   "source": [
    "Proteomic_subtype_map = {'A':'AorBorC', \n",
    "                         'B':'AorBorC', \n",
    "                         'C':'AorBorC', \n",
    "                         'D':'DorE', \n",
    "                         'E':'DorE'}\n",
    "\n",
    "annotations['Proteomic_subtype'] = bf.binarizeCategorical(clinical, \n",
    "                                                          'Proteomic_subtype', \n",
    "                                                          Proteomic_subtype_map)"
   ]
  },
  {
   "cell_type": "code",
   "execution_count": 16,
   "metadata": {
    "collapsed": true
   },
   "outputs": [],
   "source": [
    "annotations['mutation_rate'] = bf.binarizeCutOff(clinical, \n",
    "                                                 'mutation_rate', 50, \n",
    "                                                 'High_Mutation_Rate', \n",
    "                                                 'Low_Mutation_Rate')"
   ]
  },
  {
   "cell_type": "markdown",
   "metadata": {},
   "source": [
    "## Step 3: Perform outliers analysis"
   ]
  },
  {
   "cell_type": "code",
   "execution_count": 17,
   "metadata": {
    "collapsed": true
   },
   "outputs": [],
   "source": [
    "outliers_prot = blsh.make_outliers_table(proteomics, iqrs=1.5, \n",
    "                                         up_or_down='up', \n",
    "                                         aggregate=False, \n",
    "                                         frac_table=False)\n",
    "\n",
    "outliers_trans = blsh.make_outliers_table(transcriptomics, iqrs=1.5, \n",
    "                                          up_or_down='up', \n",
    "                                          aggregate=False, \n",
    "                                          frac_table=False)"
   ]
  },
  {
   "cell_type": "markdown",
   "metadata": {},
   "source": [
    "## Step 4: Wrap your A/B test into the outliers analysis, and create a table\n",
    "First for proteomics, and then phosphoproteomics."
   ]
  },
  {
   "cell_type": "code",
   "execution_count": 18,
   "metadata": {},
   "outputs": [
    {
     "name": "stdout",
     "output_type": "stream",
     "text": [
      "No rows had outliers in at least 0.3 of Sample_Tumor_Normal Tumor samples\n",
      "No rows had outliers in at least 0.3 of Sample_Tumor_Normal Normal samples\n",
      "Testing 2 rows for enrichment in Age 2 years or older samples\n",
      "Testing 4 rows for enrichment in Age Younger than 2 years samples\n",
      "Testing 2 rows for enrichment in Gender Female samples\n",
      "Testing 3 rows for enrichment in Gender Male samples\n",
      "Testing 1 rows for enrichment in Mucinous Not Mucinous samples\n",
      "Testing 54 rows for enrichment in Mucinous Mucinous samples\n",
      "Testing 3 rows for enrichment in Subsite Other_site samples\n",
      "Testing 5 rows for enrichment in Subsite Sigmoid_Colon samples\n",
      "No rows had outliers in at least 0.3 of pathalogy_T_stage T3orT2 samples\n",
      "Testing 43 rows for enrichment in pathalogy_T_stage T4 samples\n",
      "Testing 2 rows for enrichment in pathalogy_N_stage N0 samples\n",
      "Testing 5 rows for enrichment in pathalogy_N_stage N1orN2 samples\n",
      "Testing 4 rows for enrichment in Stage StageIIIorIV samples\n",
      "Testing 3 rows for enrichment in Stage StageIorII samples\n",
      "Testing 2 rows for enrichment in CEA Low_CEA samples\n",
      "Testing 47 rows for enrichment in CEA High_CEA samples\n",
      "No rows had outliers in at least 0.3 of Vascular_Invasion No samples\n",
      "Testing 44 rows for enrichment in Vascular_Invasion Yes samples\n",
      "No rows had outliers in at least 0.3 of Lymphatic_Invasion No samples\n",
      "Testing 27 rows for enrichment in Lymphatic_Invasion Yes samples\n",
      "No rows had outliers in at least 0.3 of Perineural_Invasion No samples\n",
      "Testing 48 rows for enrichment in Perineural_Invasion Yes samples\n",
      "No rows had outliers in at least 0.3 of Synchronous_Tumors No samples\n",
      "Testing 85 rows for enrichment in Synchronous_Tumors Yes samples\n",
      "Testing 1 rows for enrichment in Polyps_History No samples\n",
      "Testing 45 rows for enrichment in Polyps_History Yes samples\n",
      "Testing 2 rows for enrichment in Polyps_Present No samples\n",
      "Testing 8 rows for enrichment in Polyps_Present Yes samples\n",
      "Testing 7 rows for enrichment in Transcriptomic_subtype CMS1or2 samples\n",
      "Testing 3 rows for enrichment in Transcriptomic_subtype CMS3or4 samples\n",
      "Testing 6 rows for enrichment in Proteomic_subtype AorBorC samples\n",
      "Testing 18 rows for enrichment in Proteomic_subtype DorE samples\n",
      "Testing 3 rows for enrichment in mutation_rate Low_Mutation_Rate samples\n",
      "Testing 234 rows for enrichment in mutation_rate High_Mutation_Rate samples\n",
      "Testing 1 rows for enrichment in Vital.Status Living samples\n",
      "Testing 55 rows for enrichment in Vital.Status Deceased samples\n",
      "No rows had outliers in at least 0.3 of Tumor.Status Tumor free samples\n",
      "Testing 26 rows for enrichment in Tumor.Status With tumor samples\n",
      "Testing 4 rows for enrichment in Mutation_Phenotype MSS samples\n",
      "Testing 175 rows for enrichment in Mutation_Phenotype MSI-H samples\n"
     ]
    }
   ],
   "source": [
    "results_prot = blsh.compare_groups_outliers(outliers_prot, \n",
    "                                            annotations)"
   ]
  },
  {
   "cell_type": "code",
   "execution_count": 19,
   "metadata": {},
   "outputs": [
    {
     "name": "stdout",
     "output_type": "stream",
     "text": [
      "No rows had outliers in at least 0.3 of Sample_Tumor_Normal Tumor samples\n",
      "No rows had outliers in at least 0.3 of Sample_Tumor_Normal Normal samples\n",
      "No rows had outliers in at least 0.3 of Age 2 years or older samples\n",
      "Testing 2 rows for enrichment in Age Younger than 2 years samples\n",
      "No rows had outliers in at least 0.3 of Gender Female samples\n",
      "No rows had outliers in at least 0.3 of Gender Male samples\n",
      "No rows had outliers in at least 0.3 of Mucinous Not Mucinous samples\n",
      "No rows had outliers in at least 0.3 of Mucinous Mucinous samples\n",
      "No rows had outliers in at least 0.3 of Subsite Other_site samples\n",
      "No rows had outliers in at least 0.3 of Subsite Sigmoid_Colon samples\n",
      "No rows had outliers in at least 0.3 of pathalogy_T_stage T3orT2 samples\n",
      "Testing 1 rows for enrichment in pathalogy_T_stage T4 samples\n",
      "No rows had outliers in at least 0.3 of pathalogy_N_stage N0 samples\n",
      "No rows had outliers in at least 0.3 of pathalogy_N_stage N1orN2 samples\n",
      "No rows had outliers in at least 0.3 of Stage StageIIIorIV samples\n",
      "No rows had outliers in at least 0.3 of Stage StageIorII samples\n",
      "Testing 2 rows for enrichment in CEA Low_CEA samples\n",
      "Testing 9 rows for enrichment in CEA High_CEA samples\n",
      "No rows had outliers in at least 0.3 of Vascular_Invasion No samples\n",
      "Testing 2 rows for enrichment in Vascular_Invasion Yes samples\n",
      "No rows had outliers in at least 0.3 of Lymphatic_Invasion No samples\n",
      "Testing 2 rows for enrichment in Lymphatic_Invasion Yes samples\n",
      "No rows had outliers in at least 0.3 of Perineural_Invasion No samples\n",
      "Testing 9 rows for enrichment in Perineural_Invasion Yes samples\n",
      "No rows had outliers in at least 0.3 of Synchronous_Tumors No samples\n",
      "Testing 14 rows for enrichment in Synchronous_Tumors Yes samples\n",
      "No rows had outliers in at least 0.3 of Polyps_History No samples\n",
      "No rows had outliers in at least 0.3 of Polyps_History Yes samples\n",
      "No rows had outliers in at least 0.3 of Polyps_Present No samples\n",
      "Testing 2 rows for enrichment in Polyps_Present Yes samples\n",
      "No rows had outliers in at least 0.3 of Transcriptomic_subtype CMS1or2 samples\n",
      "No rows had outliers in at least 0.3 of Transcriptomic_subtype CMS3or4 samples\n",
      "No rows had outliers in at least 0.3 of Proteomic_subtype AorBorC samples\n",
      "No rows had outliers in at least 0.3 of Proteomic_subtype DorE samples\n",
      "No rows had outliers in at least 0.3 of mutation_rate Low_Mutation_Rate samples\n",
      "Testing 82 rows for enrichment in mutation_rate High_Mutation_Rate samples\n",
      "No rows had outliers in at least 0.3 of Vital.Status Living samples\n",
      "Testing 9 rows for enrichment in Vital.Status Deceased samples\n",
      "No rows had outliers in at least 0.3 of Tumor.Status Tumor free samples\n",
      "Testing 9 rows for enrichment in Tumor.Status With tumor samples\n",
      "No rows had outliers in at least 0.3 of Mutation_Phenotype MSS samples\n",
      "Testing 19 rows for enrichment in Mutation_Phenotype MSI-H samples\n"
     ]
    }
   ],
   "source": [
    "results_trans = blsh.compare_groups_outliers(outliers_trans, \n",
    "                                             annotations)"
   ]
  },
  {
   "cell_type": "markdown",
   "metadata": {},
   "source": [
    "Many of the output values from compare_group_outliers are NaN, so here we will get rid of the NaN values for visualization purposes."
   ]
  },
  {
   "cell_type": "code",
   "execution_count": 20,
   "metadata": {
    "collapsed": true
   },
   "outputs": [],
   "source": [
    "results_prot = results_prot.dropna(axis=0, how='all')\n",
    "results_trans = results_trans.dropna(axis=0, how='all')"
   ]
  },
  {
   "cell_type": "code",
   "execution_count": 21,
   "metadata": {},
   "outputs": [
    {
     "name": "stdout",
     "output_type": "stream",
     "text": [
      "TESTING FOR PROTEOMICS:The history saving thread hit an unexpected error (OperationalError('database is locked',)).History will not be written to the database.\n",
      "\n",
      "1 significant protein enrichment in Age_Younger than 2 years:\n",
      "\n",
      "1 significant protein enrichment in Mucinous_Mucinous:\n",
      "\n",
      "2 significant protein enrichments in Subsite_Other_site\n",
      "\n",
      "1 significant protein enrichment in Subsite_Sigmoid_Colon:\n",
      "\n",
      "1 significant protein enrichment in Vascular_Invasion_Yes:\n",
      "\n",
      "1 significant protein enrichment in Lymphatic_Invasion_Yes:\n",
      "\n",
      "1 significant protein enrichment in Synchronous_Tumors_Yes:\n",
      "\n",
      "2 significant protein enrichments in Polyps_Present_No\n",
      "\n",
      "1 significant protein enrichment in Polyps_Present_Yes:\n",
      "\n",
      "1 significant protein enrichment in Transcriptomic_subtype_CMS1or2:\n",
      "\n",
      "1 significant protein enrichment in Proteomic_subtype_AorBorC:\n",
      "\n",
      "8 significant protein enrichments in Proteomic_subtype_DorE\n",
      "\n",
      "         Proteomic_subtype_DorE_P_values\n",
      "CLPP                            0.004933\n",
      "ERAL1                           0.004933\n",
      "FAM210B                         0.004933\n",
      "FERMT1                          0.008352\n",
      "TIMM13                          0.004933\n",
      "TKFC                            0.008352\n",
      "UBA2                            0.007530\n",
      "YWHAB                           0.004933\n",
      "57 significant protein enrichments in mutation_rate_High_Mutation_Rate\n",
      "\n",
      "          mutation_rate_High_Mutation_Rate_P_values\n",
      "ADGRE5                                     0.007492\n",
      "ANP32E                                     0.007491\n",
      "APOBEC3G                                   0.006239\n",
      "ATP6V1E1                                   0.008704\n",
      "CDC73                                      0.007491\n",
      "CDCP1                                      0.006239\n",
      "CHORDC1                                    0.001451\n",
      "DNAJC1                                     0.008704\n",
      "EIF5A                                      0.007491\n",
      "EXOSC4                                     0.006239\n",
      "EXOSC7                                     0.008704\n",
      "FCHO2                                      0.006239\n",
      "FTL                                        0.009576\n",
      "GBP1                                       0.002756\n",
      "GBP4                                       0.004247\n",
      "GBP5                                       0.006239\n",
      "ICAM1                                      0.001451\n",
      "IFI35                                      0.002756\n",
      "IREB2                                      0.009576\n",
      "ITGB2                                      0.008704\n",
      "KIF2C                                      0.009385\n",
      "KPNA2                                      0.008704\n",
      "KYNU                                       0.009385\n",
      "LUC7L                                      0.008704\n",
      "MAP2K3                                     0.007491\n",
      "MCMBP                                      0.002049\n",
      "NCF4                                       0.007491\n",
      "NMI                                        0.002756\n",
      "NUDC                                       0.009576\n",
      "NUP50                                      0.002049\n",
      "PAF1                                       0.008704\n",
      "PCSK9                                      0.005380\n",
      "PDS5A                                      0.002049\n",
      "PIK3AP1                                    0.006239\n",
      "PPP3CA                                     0.006239\n",
      "PPP4R1                                     0.002756\n",
      "PSMA2                                      0.002049\n",
      "PSMB10                                     0.007492\n",
      "PSMC6                                      0.006379\n",
      "PSMD11                                     0.008704\n",
      "QSOX1                                      0.006239\n",
      "RANGAP1                                    0.008704\n",
      "RFC5                                       0.008704\n",
      "RPL22L1                                    0.000082\n",
      "SAAL1                                      0.006336\n",
      "SLC16A3                                    0.006239\n",
      "SMC4                                       0.008704\n",
      "SMCHD1                                     0.000082\n",
      "STAT1                                      0.007491\n",
      "STMN1                                      0.007492\n",
      "STMN2                                      0.006239\n",
      "SUPT6H                                     0.008704\n",
      "TRMT112                                    0.007492\n",
      "TSR1                                       0.002756\n",
      "TYMP                                       0.002756\n",
      "UBE2L6                                     0.007491\n",
      "VPS37B                                     0.008704\n",
      "4 significant protein enrichments in Mutation_Phenotype_MSS\n",
      "\n",
      "138 significant protein enrichments in Mutation_Phenotype_MSI-H\n",
      "\n",
      "          Mutation_Phenotype_MSI-H_P_values\n",
      "ADGRE5                         1.268127e-04\n",
      "ADSS                           4.085456e-04\n",
      "ANP32E                         1.214841e-04\n",
      "APOL2                          9.871108e-05\n",
      "ARHGEF1                        9.641705e-04\n",
      "ARHGEF2                        2.802637e-04\n",
      "ASPH                           7.557267e-04\n",
      "ATP6V1A                        2.802637e-04\n",
      "BPI                            2.622536e-03\n",
      "CACYBP                         7.557267e-04\n",
      "CCT3                           7.017467e-03\n",
      "CDC73                          1.362265e-05\n",
      "CDCP1                          5.128994e-04\n",
      "CHORDC1                        4.085456e-04\n",
      "CLUH                           1.401152e-03\n",
      "CTR9                           2.591830e-05\n",
      "CYBB                           5.737682e-04\n",
      "DEFA1B                         4.511866e-03\n",
      "EIF3H                          7.017467e-03\n",
      "EIF5A                          2.622536e-03\n",
      "ENO1                           1.214841e-04\n",
      "EPHA2                          7.131448e-03\n",
      "FDPS                           4.366234e-03\n",
      "FMNL1                          1.401152e-03\n",
      "FSCN1                          1.049225e-03\n",
      "FUT8                           4.366234e-03\n",
      "GALNT1                         1.214841e-04\n",
      "GBP1                           1.362265e-05\n",
      "GBP4                           1.362265e-05\n",
      "GBP5                           7.036316e-04\n",
      "...                                     ...\n",
      "SCYL1                          7.557267e-04\n",
      "SEC16A                         1.742590e-03\n",
      "SEC24D                         1.401152e-03\n",
      "SERPINB1                       1.500353e-04\n",
      "SERPINB5                       7.557267e-04\n",
      "SERPINB8                       3.962665e-03\n",
      "SIGLEC5                        8.231413e-03\n",
      "SLC16A3                        2.591830e-05\n",
      "SLC30A7                        1.183367e-03\n",
      "SLC31A1                        2.622536e-03\n",
      "SMCHD1                         1.864052e-08\n",
      "SSFA2                          1.214841e-04\n",
      "STAT1                          1.401152e-03\n",
      "STK10                          2.622536e-03\n",
      "STMN1                          9.641705e-04\n",
      "TAP1                           2.622536e-03\n",
      "TAP2                           2.622536e-03\n",
      "TBC1D2                         9.641705e-04\n",
      "TCF25                          2.161860e-03\n",
      "TIMP1                          1.695918e-03\n",
      "TMEM2                          7.017467e-03\n",
      "TMX1                           1.214841e-04\n",
      "TSR1                           3.905080e-05\n",
      "TYMP                           1.268127e-04\n",
      "UBA6                           1.049225e-03\n",
      "UBE2L6                         5.737682e-04\n",
      "UGT8                           7.414657e-04\n",
      "UHRF1                          1.178856e-04\n",
      "WARS                           1.214841e-04\n",
      "ZC3HAV1                        1.214841e-04\n",
      "\n",
      "[138 rows x 1 columns]\n"
     ]
    }
   ],
   "source": [
    "print(\"TESTING FOR PROTEOMICS:\")\n",
    "sig_cols = []\n",
    "for col in results_prot.columns:\n",
    "    sig_col = bf.significantEnrichments(results_prot, col, 0.01)\n",
    "    if sig_col is not None and len(sig_col) > 5:\n",
    "        sig_cols.append(sig_col)\n",
    "        print(sig_col)\n",
    "    else:\n",
    "        results_prot = results_prot.drop(col, axis=1)"
   ]
  },
  {
   "cell_type": "markdown",
   "metadata": {},
   "source": [
    "## Step 5: Visualize these enrichments"
   ]
  },
  {
   "cell_type": "code",
   "execution_count": 22,
   "metadata": {},
   "outputs": [
    {
     "data": {
      "image/png": "[encoded data removed]",
      "text/plain": [
       "<Figure size 432x288 with 2 Axes>"
      ]
     },
     "metadata": {},
     "output_type": "display_data"
    }
   ],
   "source": [
    "sns.heatmap(results_prot)\n",
    "plt.show()"
   ]
  },
  {
   "cell_type": "code",
   "execution_count": 23,
   "metadata": {},
   "outputs": [
    {
     "data": {
      "text/plain": [
       "AAMP             NaN\n",
       "AARS        0.234688\n",
       "ABCB10           NaN\n",
       "ACBD3            NaN\n",
       "ACBD5       0.011741\n",
       "ACE2             NaN\n",
       "ACLY             NaN\n",
       "ACOT8            NaN\n",
       "ACSL3       0.024913\n",
       "ACSS1            NaN\n",
       "ACTG1            NaN\n",
       "ACTR2            NaN\n",
       "ADGRE5      0.000127\n",
       "ADNP             NaN\n",
       "ADSS        0.000409\n",
       "AEBP1            NaN\n",
       "AHCY             NaN\n",
       "AHSA1       0.051904\n",
       "AIFM1            NaN\n",
       "AIMP1            NaN\n",
       "ALG1             NaN\n",
       "AMACR            NaN\n",
       "ANP32E      0.000121\n",
       "ANTXR1           NaN\n",
       "ANXA13           NaN\n",
       "APOBEC3G         NaN\n",
       "APOL2       0.000099\n",
       "APP              NaN\n",
       "ARHGEF1     0.000964\n",
       "ARHGEF18         NaN\n",
       "              ...   \n",
       "TYMP        0.000127\n",
       "UBA2             NaN\n",
       "UBA6        0.001049\n",
       "UBE2L6      0.000574\n",
       "UBL4A            NaN\n",
       "UCHL5            NaN\n",
       "UGGT1            NaN\n",
       "UGT8        0.000741\n",
       "UHRF1       0.000118\n",
       "UPF3B            NaN\n",
       "UPP1             NaN\n",
       "UQCC1            NaN\n",
       "USP7             NaN\n",
       "VAMP8            NaN\n",
       "VAPB             NaN\n",
       "VARS             NaN\n",
       "VPS37B           NaN\n",
       "VRK1             NaN\n",
       "VSNL1            NaN\n",
       "VTA1             NaN\n",
       "VTN              NaN\n",
       "WARS        0.000121\n",
       "WBP11            NaN\n",
       "WDR77            NaN\n",
       "WRNIP1           NaN\n",
       "YARS        0.066420\n",
       "YWHAB            NaN\n",
       "YWHAZ            NaN\n",
       "ZC3HAV1     0.000121\n",
       "ZMPSTE24         NaN\n",
       "Name: Mutation_Phenotype_MSI-H_enrichment_FDR, Length: 504, dtype: float64"
      ]
     },
     "execution_count": 23,
     "metadata": {},
     "output_type": "execute_result"
    }
   ],
   "source": [
    "results_prot['Mutation_Phenotype_MSI-H_enrichment_FDR']"
   ]
  },
  {
   "cell_type": "code",
   "execution_count": 24,
   "metadata": {},
   "outputs": [
    {
     "name": "stdout",
     "output_type": "stream",
     "text": [
      "TESTING FOR TRANSCRIPTOMICS:\n",
      "1 significant protein enrichment in pathalogy_T_stage_T4:\n",
      "\n",
      "67 significant protein enrichments in mutation_rate_High_Mutation_Rate\n",
      "\n",
      "2 significant protein enrichments in Vital.Status_Deceased\n",
      "\n",
      "9 significant protein enrichments in Tumor.Status_With tumor\n",
      "\n",
      "19 significant protein enrichments in Mutation_Phenotype_MSI-H\n",
      "\n"
     ]
    }
   ],
   "source": [
    "print(\"TESTING FOR TRANSCRIPTOMICS:\")\n",
    "sig_cols = []\n",
    "for col in results_trans.columns:\n",
    "    sig_col = bf.significantEnrichments(results_trans, col, 0.01)\n",
    "    if sig_col is not None and len(sig_col) > 5:\n",
    "        sig_cols.append(sig_col)\n",
    "    else:\n",
    "        results_trans = results_trans.drop(col, axis=1)"
   ]
  },
  {
   "cell_type": "code",
   "execution_count": 25,
   "metadata": {},
   "outputs": [
    {
     "data": {
      "image/png": "[encoded data removed]",
      "text/plain": [
       "<Figure size 432x288 with 2 Axes>"
      ]
     },
     "metadata": {},
     "output_type": "display_data"
    }
   ],
   "source": [
    "sns.heatmap(results_trans)\n",
    "plt.show()"
   ]
  },
  {
   "cell_type": "markdown",
   "metadata": {},
   "source": [
    "## Step 6: Determine significant enrichments, and link with cancer drug database."
   ]
  },
  {
   "cell_type": "code",
   "execution_count": 26,
   "metadata": {},
   "outputs": [
    {
     "data": {
      "text/plain": [
       "\"for col in sig_cols:\\n    col_name = col.columns[0]\\n    gene_name_list = list(col.index)\\n    enrichment = gp.enrichr(gene_list = gene_name_list, \\n                            description=col_name, \\n                            gene_sets='KEGG_2019_Human', \\n                            outdir='test/enrichr_kegg', #This isn't saving correctly...why is that?\\n                            cutoff=0.5)\\n    print(enrichment.res2d)\\n    barplot(enrichment.res2d, title=col_name)\\n\""
      ]
     },
     "execution_count": 26,
     "metadata": {},
     "output_type": "execute_result"
    }
   ],
   "source": [
    "'''for col in sig_cols:\n",
    "    col_name = col.columns[0]\n",
    "    gene_name_list = list(col.index)\n",
    "    enrichment = gp.enrichr(gene_list = gene_name_list, \n",
    "                            description=col_name, \n",
    "                            gene_sets='KEGG_2019_Human', \n",
    "                            outdir='test/enrichr_kegg', #This isn't saving correctly...why is that?\n",
    "                            cutoff=0.5)\n",
    "    print(enrichment.res2d)\n",
    "    barplot(enrichment.res2d, title=col_name)\n",
    "'''"
   ]
  },
  {
   "cell_type": "code",
   "execution_count": 27,
   "metadata": {
    "collapsed": true
   },
   "outputs": [],
   "source": [
    "#The question at hand: How on earth do we use DGIdb?"
   ]
  }
 ],
 "metadata": {
  "kernelspec": {
   "display_name": "Python 3",
   "language": "python",
   "name": "python3"
  },
  "language_info": {
   "codemirror_mode": {
    "name": "ipython",
    "version": 3
   },
   "file_extension": ".py",
   "mimetype": "text/x-python",
   "name": "python",
   "nbconvert_exporter": "python",
   "pygments_lexer": "ipython3",
   "version": "3.6.2"
  }
 },
 "nbformat": 4,
 "nbformat_minor": 2
}
