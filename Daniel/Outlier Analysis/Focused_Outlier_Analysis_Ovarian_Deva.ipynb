{
 "cells": [
  {
   "cell_type": "code",
   "execution_count": 1,
   "metadata": {
    "collapsed": true
   },
   "outputs": [],
   "source": [
    "import numpy as np\n",
    "import pandas as pd\n",
    "import matplotlib.pyplot as plt\n",
    "import seaborn as sns\n",
    "import cptac\n",
    "import binarization_functions as bf\n",
    "import gseapy as gp\n",
    "from gseapy.plot import barplot, heatmap, dotplot\n",
    "import json\n",
    "import requests\n",
    "import random\n",
    "import deva"
   ]
  },
  {
   "cell_type": "code",
   "execution_count": 2,
   "metadata": {},
   "outputs": [
    {
     "name": "stdout",
     "output_type": "stream",
     "text": [
      "                                    \r"
     ]
    }
   ],
   "source": [
    "cptac.download(dataset='Ovarian')\n",
    "\n",
    "ov = cptac.Ovarian()\n",
    "proteomics = ov.get_proteomics()\n",
    "transcriptomics = ov.get_transcriptomics()\n",
    "clinical = ov.get_clinical()"
   ]
  },
  {
   "cell_type": "markdown",
   "metadata": {},
   "source": [
    "## Step 2: Determine what attributes you would like to A/B test. \n",
    "For this analysis, we will iteratively go through the various columns in the clinical dataset, to determine if any of them have trends within them for protein enrichment."
   ]
  },
  {
   "cell_type": "code",
   "execution_count": 3,
   "metadata": {
    "collapsed": true
   },
   "outputs": [],
   "source": [
    "columns_to_explore = ['Participant_History_Malignancy', \n",
    "                      'Sample_Tumor_Normal']\n",
    "\n",
    "#Create a subsetted copy of the original Clinical DataFrame\n",
    "annotations = pd.DataFrame(clinical[columns_to_explore].copy())"
   ]
  },
  {
   "cell_type": "markdown",
   "metadata": {},
   "source": [
    "## Step 3: Perform Outlier Analysis\n",
    "Using the Blacksheep-outliers package, deva, we will create two tables: one of all the significant up-regulated genes per patient (which we will call outliers), and one of the q-values for significantly enriched genes based on our binarized clinical attributes (which we will call qvalues)."
   ]
  },
  {
   "cell_type": "code",
   "execution_count": 4,
   "metadata": {},
   "outputs": [
    {
     "name": "stderr",
     "output_type": "stream",
     "text": [
      "09/05/2019 14:05:25:WARNING:These samples were not found in outliers table: S001, S003, S004, S005, S008, S010, S014, S017, S018, S020, S021, S030, S032, S034, S036, S058, S072, S073, S075, S077, S081, S082, S083, S092, S099, S105, S109, S086, continuing without them. \n",
      "09/05/2019 14:05:25:WARNING:No rows tested for fisherFDR_Participant_History_Malignancy_No\n",
      "09/05/2019 14:05:26:WARNING:These samples were not found in outliers table: S001, S003, S004, S005, S008, S010, S014, S017, S018, S020, S021, S030, S032, S034, S036, S058, S072, S073, S075, S077, S081, S082, S083, S086, S092, S099, S105, S109, continuing without them. \n",
      "09/05/2019 14:05:26:WARNING:No rows tested for fisherFDR_Sample_Tumor_Normal_Tumor\n"
     ]
    }
   ],
   "source": [
    "outliers, qvalues = deva.run_outliers(proteomics.transpose(), \n",
    "                                      annotations,\n",
    "                                      up_or_down='up',\n",
    "                                      aggregate=False)"
   ]
  },
  {
   "cell_type": "code",
   "execution_count": 5,
   "metadata": {},
   "outputs": [
    {
     "name": "stderr",
     "output_type": "stream",
     "text": [
      "09/05/2019 14:05:42:WARNING:These samples were not found in outliers table: S001, S003, S004, S005, S008, S010, S014, S017, S018, S020, S021, S030, S032, S034, S036, S058, S072, S073, S075, S077, S081, S082, S083, S092, S099, S105, S109, S086, continuing without them. \n",
      "09/05/2019 14:05:43:WARNING:No rows tested for fisherFDR_Participant_History_Malignancy_No\n",
      "09/05/2019 14:05:44:WARNING:These samples were not found in outliers table: S001, S003, S004, S005, S008, S010, S014, S017, S018, S020, S021, S030, S032, S034, S036, S058, S072, S073, S075, S077, S081, S082, S083, S086, S092, S099, S105, S109, continuing without them. \n",
      "09/05/2019 14:05:44:WARNING:No rows tested for fisherFDR_Sample_Tumor_Normal_Tumor\n"
     ]
    }
   ],
   "source": [
    "outliers_down, qvalues_down = deva.run_outliers(proteomics.transpose(), \n",
    "                                                annotations, \n",
    "                                                up_or_down='down', \n",
    "                                                aggregate=False)"
   ]
  },
  {
   "cell_type": "code",
   "execution_count": 6,
   "metadata": {
    "collapsed": true
   },
   "outputs": [],
   "source": [
    "length = int(len(outliers.df.columns) / 2)\n",
    "temp_outliers = outliers.df.transpose()\n",
    "only_outliers_up = temp_outliers[:length]\n",
    "outliers_up_dict = {}\n",
    "for i in range(length):\n",
    "    key = proteomics.index[i]\n",
    "    my_filter = only_outliers_up.iloc[i] == 1.0\n",
    "    value = list(only_outliers_up.iloc[i][my_filter].index.get_level_values('Name'))\n",
    "    outliers_up_dict[key] = value"
   ]
  },
  {
   "cell_type": "code",
   "execution_count": 7,
   "metadata": {
    "collapsed": true
   },
   "outputs": [],
   "source": [
    "length = int(len(outliers_down.df.columns) / 2)\n",
    "temp_outliers_down = outliers_down.df.transpose()\n",
    "only_outliers_down = temp_outliers_down[:length]\n",
    "outliers_down_dict = {}\n",
    "for i in range(length):\n",
    "    key = proteomics.index[i]\n",
    "    my_filter = only_outliers_down.iloc[i] == 1.0\n",
    "    value = list(only_outliers_down.iloc[i][my_filter].index.get_level_values('Name'))\n",
    "    outliers_down_dict[key] = value"
   ]
  },
  {
   "cell_type": "markdown",
   "metadata": {},
   "source": [
    "## Step 4: Visualize these enrichments\n",
    "\n",
    "First, we will determine which clinical attributes have significant enrichments, and save them to a list for both up-regulated outliers, and down-regulated outliers."
   ]
  },
  {
   "cell_type": "code",
   "execution_count": 30,
   "metadata": {},
   "outputs": [
    {
     "data": {
      "text/plain": [
       "Name     Database_ID \n",
       "A1BG     NP_570602        True\n",
       "ABCA8    NP_001275914     True\n",
       "ABCC1    NP_004987       False\n",
       "ABHD5    NP_057090        True\n",
       "ABI3BP   NP_056244        True\n",
       "                         ...  \n",
       "WISP2    NP_003872        True\n",
       "ZBTB47   NP_660149        True\n",
       "ZC2HC1A  NP_057094       False\n",
       "ZNF512   NP_115810       False\n",
       "ZNF787   NP_001002836     True\n",
       "Name: fisherFDR_Sample_Tumor_Normal_Normal, Length: 671, dtype: bool"
      ]
     },
     "execution_count": 30,
     "metadata": {},
     "output_type": "execute_result"
    }
   ],
   "source": [
    "(qvalues.df['fisherFDR_Sample_Tumor_Normal_Normal']) < 0.05"
   ]
  },
  {
   "cell_type": "code",
   "execution_count": 31,
   "metadata": {},
   "outputs": [],
   "source": [
    "#Drop Columns with less than 4 significant up-regulated enrichments\n",
    "sig_cols_up = []\n",
    "for col in qvalues.df.columns:\n",
    "    sig_col = bf.significantEnrichments(qvalues.df, col)\n",
    "    if sig_col is not None and len(sig_col) > 4:\n",
    "        sig_cols_up.append(sig_col)\n",
    "    else:\n",
    "        results_up = qvalues.df.drop(col, axis=1)"
   ]
  },
  {
   "cell_type": "code",
   "execution_count": 32,
   "metadata": {},
   "outputs": [
    {
     "ename": "NameError",
     "evalue": "name 'results_up' is not defined",
     "output_type": "error",
     "traceback": [
      "\u001b[1;31m---------------------------------------------------------------------------\u001b[0m",
      "\u001b[1;31mNameError\u001b[0m                                 Traceback (most recent call last)",
      "\u001b[1;32m<ipython-input-32-133a6c349a95>\u001b[0m in \u001b[0;36m<module>\u001b[1;34m()\u001b[0m\n\u001b[1;32m----> 1\u001b[1;33m \u001b[0mresults_up\u001b[0m\u001b[1;33m\u001b[0m\u001b[0m\n\u001b[0m",
      "\u001b[1;31mNameError\u001b[0m: name 'results_up' is not defined"
     ]
    }
   ],
   "source": [
    "results_up"
   ]
  },
  {
   "cell_type": "code",
   "execution_count": 15,
   "metadata": {
    "collapsed": true
   },
   "outputs": [],
   "source": [
    "#Drop Columns with less than 4 significant down-regulated enrichments\n",
    "sig_cols_down = []\n",
    "for col in qvalues_down.df.columns:\n",
    "    sig_col = bf.significantEnrichments(qvalues_down.df, col)\n",
    "    if sig_col is not None:\n",
    "        sig_cols_down.append(sig_col)\n",
    "    else:\n",
    "        results_down = qvalues_down.df.drop(col, axis=1)"
   ]
  },
  {
   "cell_type": "code",
   "execution_count": 16,
   "metadata": {
    "collapsed": true
   },
   "outputs": [],
   "source": [
    "#Here we will link clinical attributes with significantly up-regulated genes\n",
    "sig_genes_up = {}\n",
    "for i, col in enumerate(sig_cols_up):\n",
    "    list_of_genes = list(col.index.get_level_values('Name'))\n",
    "    sig_genes_up[sig_cols_up[i].columns[0][:-9]] = list_of_genes   "
   ]
  },
  {
   "cell_type": "code",
   "execution_count": 17,
   "metadata": {
    "collapsed": true
   },
   "outputs": [],
   "source": [
    "#And then down-regulated genes\n",
    "sig_genes_down = {}\n",
    "for i, col in enumerate(sig_cols_down):\n",
    "    list_of_genes = list(col.index.get_level_values('Name'))\n",
    "    sig_genes_down[sig_cols_down[i].columns[0][:-9]] = list_of_genes"
   ]
  },
  {
   "cell_type": "code",
   "execution_count": 18,
   "metadata": {},
   "outputs": [
    {
     "name": "stderr",
     "output_type": "stream",
     "text": [
      "C:\\Users\\Daniel\\AppData\\Local\\conda\\conda\\envs\\Research\\lib\\site-packages\\ipykernel_launcher.py:2: MatplotlibDeprecationWarning: Adding an axes using the same arguments as a previous axes currently reuses the earlier instance.  In a future version, a new instance will always be created and returned.  Meanwhile, this warning can be suppressed, and the future behavior ensured, by passing a unique label to each axes instance.\n",
      "  \n"
     ]
    },
    {
     "ename": "NameError",
     "evalue": "name 'results_up' is not defined",
     "output_type": "error",
     "traceback": [
      "\u001b[1;31m---------------------------------------------------------------------------\u001b[0m",
      "\u001b[1;31mNameError\u001b[0m                                 Traceback (most recent call last)",
      "\u001b[1;32m<ipython-input-18-68f081ba30ee>\u001b[0m in \u001b[0;36m<module>\u001b[1;34m()\u001b[0m\n\u001b[0;32m      1\u001b[0m \u001b[1;31m#Simple visualization\u001b[0m\u001b[1;33m\u001b[0m\u001b[1;33m\u001b[0m\u001b[0m\n\u001b[0;32m      2\u001b[0m \u001b[0max1\u001b[0m \u001b[1;33m=\u001b[0m \u001b[0mplt\u001b[0m\u001b[1;33m.\u001b[0m\u001b[0maxes\u001b[0m\u001b[1;33m(\u001b[0m\u001b[1;33m)\u001b[0m\u001b[1;33m\u001b[0m\u001b[0m\n\u001b[1;32m----> 3\u001b[1;33m \u001b[0msns\u001b[0m\u001b[1;33m.\u001b[0m\u001b[0mheatmap\u001b[0m\u001b[1;33m(\u001b[0m\u001b[0mresults_up\u001b[0m\u001b[1;33m,\u001b[0m \u001b[0max\u001b[0m \u001b[1;33m=\u001b[0m \u001b[0max1\u001b[0m\u001b[1;33m)\u001b[0m\u001b[1;33m\u001b[0m\u001b[0m\n\u001b[0m\u001b[0;32m      4\u001b[0m \u001b[0max1\u001b[0m\u001b[1;33m.\u001b[0m\u001b[0mset_title\u001b[0m\u001b[1;33m(\u001b[0m\u001b[1;34m'Up-Regulated Protein Enrichments for Renal Cancer Tumors'\u001b[0m\u001b[1;33m)\u001b[0m\u001b[1;33m\u001b[0m\u001b[0m\n\u001b[0;32m      5\u001b[0m \u001b[0mplt\u001b[0m\u001b[1;33m.\u001b[0m\u001b[0mshow\u001b[0m\u001b[1;33m(\u001b[0m\u001b[1;33m)\u001b[0m\u001b[1;33m\u001b[0m\u001b[0m\n",
      "\u001b[1;31mNameError\u001b[0m: name 'results_up' is not defined"
     ]
    }
   ],
   "source": [
    "#Simple visualization\n",
    "ax1 = plt.axes()\n",
    "sns.heatmap(results_up, ax = ax1)\n",
    "ax1.set_title('Up-Regulated Protein Enrichments for Renal Cancer Tumors')\n",
    "plt.show()"
   ]
  },
  {
   "cell_type": "code",
   "execution_count": null,
   "metadata": {},
   "outputs": [],
   "source": [
    "#Deva package visualization\n",
    "for col in qvalues.df.columns:\n",
    "    deva.plot_heatmap(\n",
    "    annotations=annotations,\n",
    "    qvals=qvalues.df,\n",
    "    col_of_interest=col,\n",
    "    vis_table=outliers.frac_table)\n",
    "    \n",
    "    plt.show()\n",
    "    plt.close()"
   ]
  },
  {
   "cell_type": "code",
   "execution_count": null,
   "metadata": {},
   "outputs": [],
   "source": [
    "ax2 = plt.axes()\n",
    "sns.heatmap(results_down, ax = ax2)\n",
    "ax2.set_title('Down-Regulated Protein Enrichments for Renal Cancer Tumors')\n",
    "plt.show()"
   ]
  },
  {
   "cell_type": "code",
   "execution_count": null,
   "metadata": {},
   "outputs": [],
   "source": [
    "#Deva package visualization\n",
    "for col in qvalues_down.df.columns:\n",
    "    deva.plot_heatmap(\n",
    "    annotations=annotations,\n",
    "    qvals=qvalues_down.df,\n",
    "    col_of_interest=col,\n",
    "    vis_table=outliers_down.frac_table)\n",
    "    \n",
    "    plt.show()\n",
    "    plt.close()"
   ]
  },
  {
   "cell_type": "markdown",
   "metadata": {},
   "source": [
    "## Step 5: Perform Gene Set Enrichment Analysis"
   ]
  },
  {
   "cell_type": "markdown",
   "metadata": {},
   "source": [
    "Part A: Up-regulated Genes"
   ]
  },
  {
   "cell_type": "code",
   "execution_count": null,
   "metadata": {
    "scrolled": true
   },
   "outputs": [],
   "source": [
    "gsea_up = {}\n",
    "for col in sig_cols_up:\n",
    "    col_name = col.columns[0]\n",
    "    col_name = \"_\".join(col_name.split(\" \"))\n",
    "    print(col_name[:-9])\n",
    "    gene_name_list = list(col.index.get_level_values('Name'))\n",
    "    print('Gene List:', gene_name_list, '\\n')\n",
    "    enrichment = gp.enrichr(gene_list = gene_name_list, \n",
    "                            description=col_name, \n",
    "                            gene_sets='KEGG_2019_Human', \n",
    "                            outdir='test/renal')\n",
    "    gsea_up[col_name] = enrichment\n",
    "    barplot(enrichment.res2d, title=col_name, ofname=col_name)"
   ]
  },
  {
   "cell_type": "markdown",
   "metadata": {},
   "source": [
    "Determine significant overlap for significantly up-regulated genes, first for patients with a history of cancer, adn then for patients with invasive carcinoma."
   ]
  },
  {
   "cell_type": "code",
   "execution_count": null,
   "metadata": {},
   "outputs": [],
   "source": [
    "#Significant overlap for patients with a history of cancer\n",
    "attribute = 'fisherFDR_history_of_cancer_Yes_P_values'\n",
    "cancer_history_yes = gsea_up[attribute].res2d\n",
    "sig_filter = cancer_history_yes['Adjusted P-value'] < 0.05\n",
    "cancer_history_sig = cancer_history_yes[sig_filter]\n",
    "cancer_history_sig"
   ]
  },
  {
   "cell_type": "code",
   "execution_count": null,
   "metadata": {},
   "outputs": [],
   "source": [
    "genes = cancer_history_sig['Genes']\n",
    "terms = cancer_history_sig['Term']\n",
    "cancer_history_dict = {}\n",
    "for i, gene in enumerate(genes):\n",
    "    cancer_history_dict[terms[i]] = gene.split(';')\n",
    "cancer_history_dict"
   ]
  },
  {
   "cell_type": "code",
   "execution_count": null,
   "metadata": {},
   "outputs": [],
   "source": [
    "#Determine significant overlap for patients with invasive carcinoma\n",
    "attribute = 'fisherFDR_margin_status_Margin(s)_involved_by_invasive_carcinoma_P_values'\n",
    "invasive_cancer = gsea_up[attribute].res2d\n",
    "sig_filter = invasive_cancer['Adjusted P-value'] < 0.05\n",
    "invasive_sig = invasive_cancer[sig_filter]\n",
    "invasive_sig"
   ]
  },
  {
   "cell_type": "code",
   "execution_count": null,
   "metadata": {},
   "outputs": [],
   "source": [
    "genes = invasive_sig['Genes']\n",
    "terms = invasive_sig['Term']\n",
    "invasive_dict = {}\n",
    "for i, gene in enumerate(genes):\n",
    "    invasive_dict[terms[i]] = gene.split(';')\n",
    "invasive_dict"
   ]
  },
  {
   "cell_type": "markdown",
   "metadata": {},
   "source": [
    "## Step 6: Connect Findings with Druggable Genome Interactive Database (DGIdb)"
   ]
  },
  {
   "cell_type": "code",
   "execution_count": null,
   "metadata": {},
   "outputs": [],
   "source": [
    "cancer_history_yes_requests = {}\n",
    "cancer_history_requests_parsed = {}\n",
    "for term, gene_list in cancer_history_dict.items():\n",
    "    cancer_history_yes_requests[term] = bf.dgidb_get_request(gene_list)\n",
    "    cancer_history_requests_parsed[term] = bf.dgidb_json_parse(cancer_history_yes_requests[term], genes=True)\n",
    "\n",
    "print(json.dumps(cancer_history_requests_parsed, indent=4))"
   ]
  },
  {
   "cell_type": "code",
   "execution_count": null,
   "metadata": {},
   "outputs": [],
   "source": [
    "invasive_cancer_requests = {}\n",
    "invasive_requests_parsed = {}\n",
    "for term, gene_list in invasive_dict.items():\n",
    "    invasive_cancer_requests[term] = bf.dgidb_get_request(gene_list)#, anti_neoplastic=True)\n",
    "    invasive_requests_parsed[term] = bf.dgidb_json_parse(invasive_cancer_requests[term], genes=True)\n",
    "\n",
    "print(\"Parsed Requests:\\n\")\n",
    "print(json.dumps(invasive_requests_parsed, indent=4))"
   ]
  },
  {
   "cell_type": "markdown",
   "metadata": {},
   "source": [
    "## Step 7: Personalized Medicine"
   ]
  },
  {
   "cell_type": "code",
   "execution_count": null,
   "metadata": {
    "collapsed": true
   },
   "outputs": [],
   "source": [
    "# To perform a request specifically for inhibitors, you may opt to use a loop\n",
    "# While this option is slower than the map, it is more specific, and may be worth\n",
    "# waiting a few more seconds to reduce manual sifting through interaction types\n",
    "inhibitors = {}\n",
    "for attribute, genes in sig_genes_up.items():\n",
    "    inhibitors[attribute] = bf.dgidb_get_request(genes, interaction_types=['inhibitor'])"
   ]
  },
  {
   "cell_type": "code",
   "execution_count": null,
   "metadata": {},
   "outputs": [],
   "source": [
    "print('UP-REGULATED INHIBITOR REQUEST:\\n')\n",
    "inhibitors_parsed = {}\n",
    "for attribute, request in inhibitors.items():\n",
    "    inhibitors_parsed[attribute] = bf.dgidb_json_parse(request, genes=True)\n",
    "print(json.dumps(inhibitors_parsed, indent=4))"
   ]
  },
  {
   "cell_type": "code",
   "execution_count": null,
   "metadata": {},
   "outputs": [],
   "source": [
    "patient_drugs_genes_up = bf.compare_enrichments_with_drugs(outliers_up_dict, clinical)"
   ]
  },
  {
   "cell_type": "code",
   "execution_count": null,
   "metadata": {
    "collapsed": true
   },
   "outputs": [],
   "source": [
    "random.seed(8)\n",
    "patients_to_check_up = []\n",
    "for i in range(3):\n",
    "    index = random.randrange(0, len(only_outliers_up))\n",
    "    while clinical.index[index] not in outliers_up_dict.keys() and index < len(outliers_up_dict.keys()):\n",
    "        index += 1\n",
    "    patients_to_check_up.append(clinical.index[index])"
   ]
  },
  {
   "cell_type": "code",
   "execution_count": null,
   "metadata": {},
   "outputs": [],
   "source": [
    "personalized_up = {}\n",
    "for patient in patients_to_check_up:\n",
    "    patients_up_dict = bf.dgidb_get_request(outliers_up_dict[patient], \n",
    "                                            interaction_types = ['inhibitor'])\n",
    "    parsed = bf.dgidb_json_parse(patients_up_dict, genes=True)\n",
    "    personalized_up[patient] = parsed\n",
    "print(json.dumps(personalized_up, indent = 4))"
   ]
  },
  {
   "cell_type": "code",
   "execution_count": null,
   "metadata": {
    "collapsed": true
   },
   "outputs": [],
   "source": []
  }
 ],
 "metadata": {
  "kernelspec": {
   "display_name": "Python 3",
   "language": "python",
   "name": "python3"
  },
  "language_info": {
   "codemirror_mode": {
    "name": "ipython",
    "version": 3
   },
   "file_extension": ".py",
   "mimetype": "text/x-python",
   "name": "python",
   "nbconvert_exporter": "python",
   "pygments_lexer": "ipython3",
   "version": "3.6.2"
  }
 },
 "nbformat": 4,
 "nbformat_minor": 2
}
