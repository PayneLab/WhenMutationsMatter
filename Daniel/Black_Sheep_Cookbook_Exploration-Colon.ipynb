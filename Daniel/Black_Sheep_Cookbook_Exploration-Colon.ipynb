{
 "cells": [
  {
   "cell_type": "markdown",
   "metadata": {},
   "source": [
    "## BlackSheep Cookbook Exploration\n",
    "\n",
    "The Black Sheep Analysis allows researchers to find trends in abnormal protein enrichment among patients in CPTAC datasets. In this Cookbook, we will go through the steps needed to perform a full Black Sheep Analysis."
   ]
  },
  {
   "cell_type": "markdown",
   "metadata": {},
   "source": [
    "### Step 1a: Import Dependencies\n",
    "First, import the necessary dependencies and load cptac data."
   ]
  },
  {
   "cell_type": "code",
   "execution_count": 1,
   "metadata": {},
   "outputs": [
    {
     "name": "stdout",
     "output_type": "stream",
     "text": [
      "Welcome to cptac, a python package for disseminating cancer\n",
      "proteogenomics data. To view available datasets, enter\n",
      "'cptac.list_data()'. Extensive tutorials are available at\n",
      "https://github.com/PayneLab/cptac/tree/master/doc\n",
      "\n",
      "******\n",
      "Version: 0.4.5\n",
      "******\n"
     ]
    }
   ],
   "source": [
    "import numpy as np\n",
    "import pandas as pd\n",
    "import matplotlib.pyplot as plt\n",
    "import seaborn as sns\n",
    "import cptac\n",
    "import binarization_functions as bf\n",
    "import blackSheepCPTACmoduleCopy as blsh\n",
    "import gseapy as gp\n",
    "from gseapy.plot import barplot, heatmap, dotplot"
   ]
  },
  {
   "cell_type": "markdown",
   "metadata": {},
   "source": [
    "## Step 1b: Load Data and Choose Omics Table\n",
    "For this analysis, we will be looking at results across the proteomics, transcriptomics, and phosphoproteomics tables."
   ]
  },
  {
   "cell_type": "code",
   "execution_count": 2,
   "metadata": {},
   "outputs": [
    {
     "name": "stdout",
     "output_type": "stream",
     "text": [
      "Checking that data files are up-to-date...\n",
      "100% [..................................................................................] 487 / 487\n",
      "Data check complete.\n",
      "colon data version: Most recent release\n",
      "\n",
      "Loading clinical data...\n",
      "Loading miRNA data...\n",
      "Loading mutation data...\n",
      "Loading mutation_binary data...\n",
      "Loading phosphoproteomics_normal data...\n",
      "Loading phosphoproteomics_tumor data...\n",
      "Loading proteomics_normal data...\n",
      "Loading proteomics_tumor data...\n",
      "Loading transcriptomics data...\n"
     ]
    }
   ],
   "source": [
    "co = cptac.Colon()\n",
    "proteomics = co.get_proteomics()\n",
    "transcriptomics = co.get_transcriptomics()\n",
    "clinical = co.get_clinical()"
   ]
  },
  {
   "cell_type": "markdown",
   "metadata": {},
   "source": [
    "## Step 2: Determine what attributes you would like to A/B test. \n",
    "For this analysis, we will iteratively go through the various columns in the clinical dataset, to determine if any of them have trends within them for protein enrichment."
   ]
  },
  {
   "cell_type": "code",
   "execution_count": 10,
   "metadata": {},
   "outputs": [
    {
     "data": {
      "text/plain": [
       "{'Age',\n",
       " 'CEA',\n",
       " 'Gender',\n",
       " 'Lymphatic_Invasion',\n",
       " 'Mucinous',\n",
       " 'Mutation_Phenotype',\n",
       " 'Patient_ID',\n",
       " 'Perineural_Invasion',\n",
       " 'Polyps_History',\n",
       " 'Polyps_Present',\n",
       " 'Proteomic_subtype',\n",
       " 'Sample_Tumor_Normal',\n",
       " 'Stage',\n",
       " 'Subsite',\n",
       " 'Synchronous_Tumors',\n",
       " 'Transcriptomic_subtype',\n",
       " 'Tumor.Status',\n",
       " 'Vascular_Invasion',\n",
       " 'Vital.Status',\n",
       " 'mutation_rate',\n",
       " 'pathalogy_N_stage',\n",
       " 'pathalogy_T_stage'}"
      ]
     },
     "execution_count": 10,
     "metadata": {},
     "output_type": "execute_result"
    }
   ],
   "source": [
    "#Create a copy of the original Clinical DataFrame and drop irrelevant columns.\n",
    "annotations = pd.DataFrame(clinical.copy())\n",
    "set(annotations)"
   ]
  },
  {
   "cell_type": "code",
   "execution_count": null,
   "metadata": {
    "collapsed": true
   },
   "outputs": [],
   "source": [
    "annotations = annotations.drop(['Patient_ID'], axis=1)"
   ]
  },
  {
   "cell_type": "code",
   "execution_count": 29,
   "metadata": {
    "collapsed": true
   },
   "outputs": [],
   "source": [
    "already_binary_columns = ['Mutation_Phenotype', 'Tumor.Status', \n",
    "                          'Vital.Status', 'Polyps_Present', \n",
    "                          'Polyps_History', 'Synchronous_Tumors', \n",
    "                          'Perineural_Invasion', 'Lymphatic_Invasion', \n",
    "                          'Vascular_Invasion', 'Mucinous', 'Gender', \n",
    "                          'Sample_Tumor_Normal']\n",
    "\n",
    "#should pathalogy_T_stage be pathology_T_stage??\n",
    "columns_2_binarize = ['Age', 'Subsite', \n",
    "                      'pathalogy_T_stage',\n",
    "                      'pathalogy_N_stage', \n",
    "                      'Stage', 'CEA', \n",
    "                      'Transcriptomic_subtype', \n",
    "                      'Proteomic_subtype', \n",
    "                      'mutation_rate']"
   ]
  },
  {
   "cell_type": "code",
   "execution_count": 30,
   "metadata": {},
   "outputs": [
    {
     "name": "stdout",
     "output_type": "stream",
     "text": [
      "902     3\n",
      "708     2\n",
      "904     2\n",
      "658     2\n",
      "643     2\n",
      "695     2\n",
      "656     2\n",
      "883     2\n",
      "768     2\n",
      "737     2\n",
      "840     2\n",
      "623     1\n",
      "1055    1\n",
      "859     1\n",
      "1052    1\n",
      "610     1\n",
      "1020    1\n",
      "881     1\n",
      "798     1\n",
      "940     1\n",
      "912     1\n",
      "810     1\n",
      "778     1\n",
      "792     1\n",
      "813     1\n",
      "892     1\n",
      "838     1\n",
      "1038    1\n",
      "575     1\n",
      "480     1\n",
      "       ..\n",
      "947     1\n",
      "442     1\n",
      "894     1\n",
      "805     1\n",
      "684     1\n",
      "734     1\n",
      "589     1\n",
      "853     1\n",
      "876     1\n",
      "469     1\n",
      "757     1\n",
      "620     1\n",
      "895     1\n",
      "758     1\n",
      "723     1\n",
      "848     1\n",
      "689     1\n",
      "996     1\n",
      "667     1\n",
      "948     1\n",
      "755     1\n",
      "865     1\n",
      "423     1\n",
      "930     1\n",
      "652     1\n",
      "697     1\n",
      "660     1\n",
      "1065    1\n",
      "832     1\n",
      "771     1\n",
      "Name: Age, Length: 96, dtype: int64\n",
      "\n",
      "\n",
      "Sigmoid Colon       38\n",
      "Ascending Colon     27\n",
      "Cecum               23\n",
      "Descending Colon    10\n",
      "Hepatix Flexure      7\n",
      "Splenic Flexure      3\n",
      "Tranverse Colon      1\n",
      "Name: Subsite, dtype: int64\n",
      "\n",
      "\n",
      "T3     80\n",
      "T2     16\n",
      "T4a    12\n",
      "T4b     2\n",
      "Name: pathalogy_T_stage, dtype: int64\n",
      "\n",
      "\n",
      "N0     56\n",
      "N1b    18\n",
      "N1a    14\n",
      "N2a     9\n",
      "N2b     7\n",
      "N1      6\n",
      "Name: pathalogy_N_stage, dtype: int64\n",
      "\n",
      "\n",
      "Stage III    48\n",
      "Stage II     42\n",
      "Stage I      12\n",
      "Stage IV      8\n",
      "Name: Stage, dtype: int64\n",
      "\n",
      "\n",
      "1.7      5\n",
      "2        2\n",
      "4.9      2\n",
      "6.3      2\n",
      "3.8      2\n",
      "4.8      2\n",
      "3.6      2\n",
      "2.6      2\n",
      "3.1      2\n",
      "3.5      2\n",
      "1        2\n",
      "1.2      2\n",
      "1.8      2\n",
      "124.6    1\n",
      "11.34    1\n",
      "8.1      1\n",
      "14.52    1\n",
      "0.6      1\n",
      "3.7      1\n",
      "25       1\n",
      "1.98     1\n",
      "5.59     1\n",
      "2083     1\n",
      "1.1      1\n",
      "1.78     1\n",
      "1.6      1\n",
      "30.5     1\n",
      "6        1\n",
      "1.3      1\n",
      "2.4      1\n",
      "0.3      1\n",
      "0.8      1\n",
      "3.2      1\n",
      "15.5     1\n",
      "21.1     1\n",
      "1.5      1\n",
      "14.3     1\n",
      "0.7      1\n",
      "4        1\n",
      "21.18    1\n",
      "12.1     1\n",
      "5.86     1\n",
      "14.5     1\n",
      "39.6     1\n",
      "8.24     1\n",
      "13.7     1\n",
      "4.41     1\n",
      "Name: CEA, dtype: int64\n",
      "\n",
      "\n",
      "CMS2    33\n",
      "CMS4    22\n",
      "CMS3    16\n",
      "CMS1    14\n",
      "Name: Transcriptomic_subtype, dtype: int64\n",
      "\n",
      "\n",
      "E    33\n",
      "C    28\n",
      "B    17\n",
      "D     5\n",
      "A     5\n",
      "Name: Proteomic_subtype, dtype: int64\n",
      "\n",
      "\n",
      "6.3333      3\n",
      "5.6667      2\n",
      "8.5         2\n",
      "6.5         2\n",
      "5.0667      2\n",
      "6.7         2\n",
      "11.5333     2\n",
      "6.0333      2\n",
      "7.2333      2\n",
      "6.8667      2\n",
      "14.0667     1\n",
      "1.2667      1\n",
      "12.1        1\n",
      "6.4333      1\n",
      "32.8667     1\n",
      "52.1667     1\n",
      "13.5333     1\n",
      "43.9333     1\n",
      "83.3667     1\n",
      "76.6333     1\n",
      "7.7667      1\n",
      "36.2        1\n",
      "8.9         1\n",
      "8.2333      1\n",
      "1.8333      1\n",
      "58.5667     1\n",
      "4.2         1\n",
      "8.4667      1\n",
      "9.0667      1\n",
      "121.6333    1\n",
      "           ..\n",
      "6.1667      1\n",
      "76.2333     1\n",
      "9.3333      1\n",
      "7.8333      1\n",
      "5.1         1\n",
      "5.2         1\n",
      "16.3        1\n",
      "78.7333     1\n",
      "92.1        1\n",
      "41.1        1\n",
      "35.9667     1\n",
      "9.2667      1\n",
      "6.9         1\n",
      "7.9667      1\n",
      "13.2667     1\n",
      "8.6333      1\n",
      "7           1\n",
      "39.7667     1\n",
      "7.8         1\n",
      "7.5         1\n",
      "40.1667     1\n",
      "43.4667     1\n",
      "11.6        1\n",
      "16.6333     1\n",
      "8.3667      1\n",
      "462.2667    1\n",
      "48.6667     1\n",
      "29.5        1\n",
      "6.3667      1\n",
      "11.9        1\n",
      "Name: mutation_rate, Length: 95, dtype: int64\n",
      "\n",
      "\n"
     ]
    }
   ],
   "source": [
    "for col in columns_2_binarize:\n",
    "    print(annotations[col].value_counts())\n",
    "    print('\\n')"
   ]
  },
  {
   "cell_type": "markdown",
   "metadata": {},
   "source": [
    "## Step 2a: Binarize column values"
   ]
  },
  {
   "cell_type": "code",
   "execution_count": null,
   "metadata": {
    "collapsed": true
   },
   "outputs": [],
   "source": [
    "for val in annotations['Age']: #why on earth are these all strings?\n",
    "    print(type(val))"
   ]
  },
  {
   "cell_type": "code",
   "execution_count": 39,
   "metadata": {},
   "outputs": [
    {
     "data": {
      "text/plain": [
       "\"annotations['Age'] = bf.binarizeCutOff(clinical, 'Age', \\n                                       730, '2 years or older', \\n                                       'Younger than 2 years')\""
      ]
     },
     "execution_count": 39,
     "metadata": {},
     "output_type": "execute_result"
    }
   ],
   "source": [
    "'''annotations['Age'] = bf.binarizeCutOff(clinical, 'Age', \n",
    "                                       730, '2 years or older', \n",
    "                                       'Younger than 2 years')'''"
   ]
  },
  {
   "cell_type": "code",
   "execution_count": 37,
   "metadata": {
    "collapsed": true
   },
   "outputs": [],
   "source": [
    "subsite_map = {'Sigmoid Colon':'Sigmoid_Colon', \n",
    "               'Ascending Colon':'Other_site', \n",
    "               'Cecum ':'Other_site', \n",
    "               'Descending Colon':'Other_site', \n",
    "               'Hepatix Flexure':'Other_site', \n",
    "               'Splenic Flexure':'Other_site', \n",
    "               'Tranverse Colon':'Other_site'}\n",
    "\n",
    "annotations['Subsite'] = bf.binarizeCategorical(clinical, \n",
    "                                                'Subsite', \n",
    "                                                subsite_map)"
   ]
  },
  {
   "cell_type": "code",
   "execution_count": null,
   "metadata": {
    "collapsed": true
   },
   "outputs": [],
   "source": [
    "pathalogy_T_stage_map = {'T3':'T3orT2', 'T2':'T3orT2', \n",
    "                         'T4a':'T4', 'T4b':'T4'}\n",
    "\n",
    "annotations['pathalogy_T_stage'] = bf.binarizeCategorical(clinical, \n",
    "                                                          'pathalogy_T_stage', \n",
    "                                                          pathalogy_T_stage_map)"
   ]
  },
  {
   "cell_type": "code",
   "execution_count": 44,
   "metadata": {},
   "outputs": [],
   "source": [
    "pathalogy_N_stage_map = {'N0':'N0', 'N1':'N1orN2',\n",
    "                         'N1a':'N1orN2', 'N1b':'N1orN2', \n",
    "                         'N2a':'N1orN2', 'N2b':'N1orN2'}\n",
    "\n",
    "annotations['pathalogy_N_stage'] = bf.binarizeCategorical(clinical, \n",
    "                                                          'pathalogy_N_stage', \n",
    "                                                          pathalogy_N_stage_map)"
   ]
  },
  {
   "cell_type": "code",
   "execution_count": 46,
   "metadata": {
    "collapsed": true
   },
   "outputs": [],
   "source": [
    "stage_map = {'Stage I':'StageIorII', \n",
    "             'Stage II':'StageIorII', \n",
    "             'Stage III':'StageIIIorIV', \n",
    "             'Stage IV':'StageIIIorIV'}\n",
    "\n",
    "annotations['Stage'] = bf.binarizeCategorical(clinical, \n",
    "                                              'Stage', \n",
    "                                              stage_map)"
   ]
  },
  {
   "cell_type": "markdown",
   "metadata": {},
   "source": [
    "## Step 3: Perform outliers analysis"
   ]
  },
  {
   "cell_type": "code",
   "execution_count": 4,
   "metadata": {},
   "outputs": [],
   "source": [
    "outliers_prot = blsh.make_outliers_table(proteomics, iqrs=1.5, \n",
    "                                         up_or_down='up', \n",
    "                                         aggregate=False, \n",
    "                                         frac_table=False)\n",
    "\n",
    "outliers_trans = blsh.make_outliers_table(transcriptomics, iqrs=1.5, \n",
    "                                          up_or_down='up', \n",
    "                                          aggregate=False, \n",
    "                                          frac_table=False)"
   ]
  },
  {
   "cell_type": "markdown",
   "metadata": {},
   "source": [
    "## Step 4: Wrap your A/B test into the outliers analysis, and create a table\n",
    "First for proteomics, and then phosphoproteomics."
   ]
  },
  {
   "cell_type": "code",
   "execution_count": 5,
   "metadata": {},
   "outputs": [
    {
     "ename": "NameError",
     "evalue": "name 'annotations' is not defined",
     "output_type": "error",
     "traceback": [
      "\u001b[1;31m---------------------------------------------------------------------------\u001b[0m",
      "\u001b[1;31mNameError\u001b[0m                                 Traceback (most recent call last)",
      "\u001b[1;32m<ipython-input-5-c3c99618f6fd>\u001b[0m in \u001b[0;36m<module>\u001b[1;34m()\u001b[0m\n\u001b[0;32m      1\u001b[0m results_prot = blsh.compare_groups_outliers(outliers_prot, \n\u001b[1;32m----> 2\u001b[1;33m                                             annotations)\n\u001b[0m",
      "\u001b[1;31mNameError\u001b[0m: name 'annotations' is not defined"
     ]
    }
   ],
   "source": [
    "results_prot = blsh.compare_groups_outliers(outliers_prot, \n",
    "                                            annotations)"
   ]
  },
  {
   "cell_type": "code",
   "execution_count": null,
   "metadata": {},
   "outputs": [],
   "source": [
    "results_trans = blsh.compare_groups_outliers(outliers_trans, \n",
    "                                             annotations)"
   ]
  },
  {
   "cell_type": "markdown",
   "metadata": {},
   "source": [
    "Many of the output values from compare_group_outliers are NaN, so here we will get rid of the NaN values for visualization purposes."
   ]
  },
  {
   "cell_type": "code",
   "execution_count": null,
   "metadata": {
    "collapsed": true
   },
   "outputs": [],
   "source": [
    "results_prot = results_prot.dropna(axis=0, how='all')\n",
    "results_trans = results_trans.dropna(axis=0, how='all')"
   ]
  },
  {
   "cell_type": "markdown",
   "metadata": {},
   "source": [
    "## Step 5: Visualize these enrichments"
   ]
  },
  {
   "cell_type": "code",
   "execution_count": null,
   "metadata": {},
   "outputs": [],
   "source": [
    "sns.heatmap(results_prot)\n",
    "plt.show()"
   ]
  },
  {
   "cell_type": "code",
   "execution_count": null,
   "metadata": {},
   "outputs": [],
   "source": [
    "sns.heatmap(results_trans)\n",
    "plt.show()"
   ]
  },
  {
   "cell_type": "code",
   "execution_count": null,
   "metadata": {
    "collapsed": true
   },
   "outputs": [],
   "source": [
    "#How can we automate something like this?\n",
    "results_prot = results_prot.drop(['Proteomics_Tumor_Normal_Other_tumor_enrichment_FDR', \n",
    "                                  'Histologic_Grade_FIGO_High_grade_enrichment_FDR',\n",
    "                                  'Histologic_Grade_FIGO_Low_grade_enrichment_FDR', \n",
    "                                  'Myometrial_invasion_Specify_50%_or_more_enrichment_FDR'], \n",
    "                                 axis=1)"
   ]
  },
  {
   "cell_type": "markdown",
   "metadata": {},
   "source": [
    "## Step 6: Determine significant enrichments, and link with cancer drug database."
   ]
  },
  {
   "cell_type": "code",
   "execution_count": null,
   "metadata": {},
   "outputs": [],
   "source": [
    "print(\"TESTING FOR PROTEOMICS:\")\n",
    "sig_cols = []\n",
    "for col in results_prot.columns:\n",
    "    sig_col = bf.significantEnrichments(results_prot, col, 0.025)\n",
    "    if sig_col is not None:\n",
    "        sig_cols.append(sig_col)\n",
    "    else:\n",
    "        continue"
   ]
  },
  {
   "cell_type": "code",
   "execution_count": null,
   "metadata": {},
   "outputs": [],
   "source": [
    "for col in sig_cols:\n",
    "    col_name = col.columns[0]\n",
    "    gene_name_list = list(col.index)\n",
    "    enrichment = gp.enrichr(gene_list = gene_name_list, \n",
    "                            description=col_name, \n",
    "                            gene_sets='KEGG_2019_Human', \n",
    "                            outdir='test/enrichr_kegg', #This isn't saving correctly...why is that?\n",
    "                            cutoff=0.5)\n",
    "    print(enrichment.res2d)\n",
    "    barplot(enrichment.res2d, title=col_name)"
   ]
  },
  {
   "cell_type": "code",
   "execution_count": null,
   "metadata": {
    "collapsed": true
   },
   "outputs": [],
   "source": []
  }
 ],
 "metadata": {
  "kernelspec": {
   "display_name": "Python 3",
   "language": "python",
   "name": "python3"
  },
  "language_info": {
   "codemirror_mode": {
    "name": "ipython",
    "version": 3
   },
   "file_extension": ".py",
   "mimetype": "text/x-python",
   "name": "python",
   "nbconvert_exporter": "python",
   "pygments_lexer": "ipython3",
   "version": "3.6.2"
  }
 },
 "nbformat": 4,
 "nbformat_minor": 2
}
