{
 "cells": [
  {
   "cell_type": "markdown",
   "metadata": {},
   "source": [
    "## BlackSheep Cookbook Exploration\n",
    "\n",
    "The Black Sheep Analysis allows researchers to find trends in abnormal protein enrichment among patients in CPTAC datasets. In this Cookbook, we will go through the steps needed to perform a full Black Sheep Analysis."
   ]
  },
  {
   "cell_type": "markdown",
   "metadata": {},
   "source": [
    "### Step 1a: Import Dependencies\n",
    "First, import the necessary dependencies and load cptac data."
   ]
  },
  {
   "cell_type": "code",
   "execution_count": 1,
   "metadata": {},
   "outputs": [
    {
     "name": "stdout",
     "output_type": "stream",
     "text": [
      "Welcome to cptac, a python package for disseminating cancer\n",
      "proteogenomics data. To view available datasets, enter\n",
      "'cptac.list_data()'. Extensive tutorials are available at\n",
      "https://github.com/PayneLab/cptac/tree/master/doc\n",
      "\n",
      "******\n",
      "Version: 0.4.5\n",
      "******\n"
     ]
    }
   ],
   "source": [
    "import numpy as np\n",
    "import pandas as pd\n",
    "import matplotlib.pyplot as plt\n",
    "import seaborn as sns\n",
    "import cptac\n",
    "import binarization_functions as bf\n",
    "import blackSheepCPTACmoduleCopy as blsh\n",
    "import gseapy as gp\n",
    "from gseapy.plot import barplot, heatmap, dotplot"
   ]
  },
  {
   "cell_type": "markdown",
   "metadata": {},
   "source": [
    "## Step 1b: Load Data and Choose Omics Table\n",
    "For this analysis, we will be looking at results across the proteomics, transcriptomics, and phosphoproteomics tables."
   ]
  },
  {
   "cell_type": "code",
   "execution_count": 2,
   "metadata": {},
   "outputs": [
    {
     "name": "stdout",
     "output_type": "stream",
     "text": [
      "Checking that data files are up-to-date...\n",
      "100% [..................................................................................] 487 / 487\n",
      "Data check complete.\n",
      "colon data version: Most recent release\n",
      "\n",
      "Loading clinical data...\n",
      "Loading miRNA data...\n",
      "Loading mutation data...\n",
      "Loading mutation_binary data...\n",
      "Loading phosphoproteomics_normal data...\n",
      "Loading phosphoproteomics_tumor data...\n",
      "Loading proteomics_normal data...\n",
      "Loading proteomics_tumor data...\n",
      "Loading transcriptomics data...\n"
     ]
    }
   ],
   "source": [
    "co = cptac.Colon()\n",
    "proteomics = co.get_proteomics()\n",
    "transcriptomics = co.get_transcriptomics()\n",
    "clinical = co.get_clinical()"
   ]
  },
  {
   "cell_type": "markdown",
   "metadata": {},
   "source": [
    "## Step 2: Determine what attributes you would like to A/B test. \n",
    "For this analysis, we will iteratively go through the various columns in the clinical dataset, to determine if any of them have trends within them for protein enrichment."
   ]
  },
  {
   "cell_type": "code",
   "execution_count": 3,
   "metadata": {
    "collapsed": true
   },
   "outputs": [],
   "source": [
    "#Create a copy of the original Clinical DataFrame and drop irrelevant columns.\n",
    "annotations = pd.DataFrame(clinical.copy())"
   ]
  },
  {
   "cell_type": "code",
   "execution_count": 4,
   "metadata": {
    "collapsed": true
   },
   "outputs": [],
   "source": [
    "annotations = annotations.drop(['Patient_ID'], axis=1)"
   ]
  },
  {
   "cell_type": "code",
   "execution_count": 5,
   "metadata": {
    "collapsed": true
   },
   "outputs": [],
   "source": [
    "already_binary_columns = ['Mutation_Phenotype', 'Tumor.Status', \n",
    "                          'Vital.Status', 'Polyps_Present', \n",
    "                          'Polyps_History', 'Synchronous_Tumors', \n",
    "                          'Perineural_Invasion', 'Lymphatic_Invasion', \n",
    "                          'Vascular_Invasion', 'Mucinous', 'Gender', \n",
    "                          'Sample_Tumor_Normal']\n",
    "\n",
    "#should pathalogy_T_stage be pathology_T_stage??\n",
    "columns_2_binarize = ['Age', 'Subsite', \n",
    "                      'pathalogy_T_stage',\n",
    "                      'pathalogy_N_stage', \n",
    "                      'Stage', 'CEA', \n",
    "                      'Transcriptomic_subtype', \n",
    "                      'Proteomic_subtype', \n",
    "                      'mutation_rate']"
   ]
  },
  {
   "cell_type": "markdown",
   "metadata": {},
   "source": [
    "## Step 2a: Binarize column values"
   ]
  },
  {
   "cell_type": "markdown",
   "metadata": {
    "collapsed": true
   },
   "source": [
    "Clean up columns that are strings, that should be numerics"
   ]
  },
  {
   "cell_type": "code",
   "execution_count": 6,
   "metadata": {
    "collapsed": true
   },
   "outputs": [],
   "source": [
    "clinical['CEA'] = pd.to_numeric(clinical['CEA'])\n",
    "clinical['Age'] = pd.to_numeric(clinical['Age'])\n",
    "clinical['mutation_rate'] = pd.to_numeric(clinical['mutation_rate'])"
   ]
  },
  {
   "cell_type": "code",
   "execution_count": 7,
   "metadata": {
    "collapsed": true
   },
   "outputs": [],
   "source": [
    "annotations['Age'] = bf.binarizeCutOff(clinical, 'Age', \n",
    "                                       730, '2 years or older', \n",
    "                                       'Younger than 2 years')"
   ]
  },
  {
   "cell_type": "code",
   "execution_count": 8,
   "metadata": {
    "collapsed": true
   },
   "outputs": [],
   "source": [
    "subsite_map = {'Sigmoid Colon':'Sigmoid_Colon', \n",
    "               'Ascending Colon':'Other_site', \n",
    "               'Cecum ':'Other_site', \n",
    "               'Descending Colon':'Other_site', \n",
    "               'Hepatix Flexure':'Other_site', \n",
    "               'Splenic Flexure':'Other_site', \n",
    "               'Tranverse Colon':'Other_site'}\n",
    "\n",
    "annotations['Subsite'] = bf.binarizeCategorical(clinical, \n",
    "                                                'Subsite', \n",
    "                                                subsite_map)"
   ]
  },
  {
   "cell_type": "code",
   "execution_count": 9,
   "metadata": {
    "collapsed": true
   },
   "outputs": [],
   "source": [
    "pathalogy_T_stage_map = {'T3':'T3orT2', 'T2':'T3orT2', \n",
    "                         'T4a':'T4', 'T4b':'T4'}\n",
    "\n",
    "annotations['pathalogy_T_stage'] = bf.binarizeCategorical(clinical, \n",
    "                                                          'pathalogy_T_stage', \n",
    "                                                          pathalogy_T_stage_map)"
   ]
  },
  {
   "cell_type": "code",
   "execution_count": 10,
   "metadata": {
    "collapsed": true
   },
   "outputs": [],
   "source": [
    "pathalogy_N_stage_map = {'N0':'N0', 'N1':'N1orN2',\n",
    "                         'N1a':'N1orN2', 'N1b':'N1orN2', \n",
    "                         'N2a':'N1orN2', 'N2b':'N1orN2'}\n",
    "\n",
    "annotations['pathalogy_N_stage'] = bf.binarizeCategorical(clinical, \n",
    "                                                          'pathalogy_N_stage', \n",
    "                                                          pathalogy_N_stage_map)"
   ]
  },
  {
   "cell_type": "code",
   "execution_count": 11,
   "metadata": {
    "collapsed": true
   },
   "outputs": [],
   "source": [
    "stage_map = {'Stage I':'StageIorII', \n",
    "             'Stage II':'StageIorII', \n",
    "             'Stage III':'StageIIIorIV', \n",
    "             'Stage IV':'StageIIIorIV'}\n",
    "\n",
    "annotations['Stage'] = bf.binarizeCategorical(clinical, \n",
    "                                              'Stage', \n",
    "                                              stage_map)"
   ]
  },
  {
   "cell_type": "code",
   "execution_count": 12,
   "metadata": {
    "collapsed": true
   },
   "outputs": [],
   "source": [
    "annotations['CEA'] = bf.binarizeCutOff(clinical, \n",
    "                                       'CEA', 15, \n",
    "                                       'High_CEA', \n",
    "                                       'Low_CEA')"
   ]
  },
  {
   "cell_type": "code",
   "execution_count": 13,
   "metadata": {
    "collapsed": true
   },
   "outputs": [],
   "source": [
    "Transcriptomic_subtype_map = {'CMS1':'CMS1or2', \n",
    "                              'CMS2':'CMS1or2', \n",
    "                              'CMS3':'CMS3or4', \n",
    "                              'CMS4':'CMS3or4'}\n",
    "\n",
    "annotations['Transcriptomic_subtype'] = bf.binarizeCategorical(clinical, \n",
    "                                                               'Transcriptomic_subtype', \n",
    "                                                               Transcriptomic_subtype_map)"
   ]
  },
  {
   "cell_type": "code",
   "execution_count": 14,
   "metadata": {
    "collapsed": true
   },
   "outputs": [],
   "source": [
    "Proteomic_subtype_map = {'A':'AorBorC', \n",
    "                         'B':'AorBorC', \n",
    "                         'C':'AorBorC', \n",
    "                         'D':'DorE', \n",
    "                         'E':'DorE'}\n",
    "\n",
    "annotations['Proteomic_subtype'] = bf.binarizeCategorical(clinical, \n",
    "                                                          'Proteomic_subtype', \n",
    "                                                          Proteomic_subtype_map)"
   ]
  },
  {
   "cell_type": "code",
   "execution_count": 15,
   "metadata": {
    "collapsed": true
   },
   "outputs": [],
   "source": [
    "annotations['mutation_rate'] = bf.binarizeCutOff(clinical, \n",
    "                                                 'mutation_rate', 50, \n",
    "                                                 'High_Mutation_Rate', \n",
    "                                                 'Low_Mutation_Rate')"
   ]
  },
  {
   "cell_type": "markdown",
   "metadata": {},
   "source": [
    "## Step 3: Perform outliers analysis"
   ]
  },
  {
   "cell_type": "code",
   "execution_count": 16,
   "metadata": {
    "collapsed": true
   },
   "outputs": [],
   "source": [
    "outliers_prot = blsh.make_outliers_table(proteomics, iqrs=1.5, \n",
    "                                         up_or_down='up', \n",
    "                                         aggregate=False, \n",
    "                                         frac_table=False)\n",
    "\n",
    "outliers_trans = blsh.make_outliers_table(transcriptomics, iqrs=1.5, \n",
    "                                          up_or_down='up', \n",
    "                                          aggregate=False, \n",
    "                                          frac_table=False)"
   ]
  },
  {
   "cell_type": "markdown",
   "metadata": {},
   "source": [
    "## Step 4: Wrap your A/B test into the outliers analysis, and create a table\n",
    "First for proteomics, and then phosphoproteomics."
   ]
  },
  {
   "cell_type": "code",
   "execution_count": 19,
   "metadata": {},
   "outputs": [
    {
     "name": "stdout",
     "output_type": "stream",
     "text": [
      "Testing 2 rows for enrichment in Age 2 years or older samples\n",
      "Testing 4 rows for enrichment in Age Younger than 2 years samples\n",
      "No rows had outliers in at least 0.3 of Sample_Tumor_Normal Tumor samples\n",
      "No rows had outliers in at least 0.3 of Sample_Tumor_Normal Normal samples\n",
      "Testing 2 rows for enrichment in Gender Female samples\n",
      "Testing 3 rows for enrichment in Gender Male samples\n",
      "Testing 1 rows for enrichment in Mucinous Not Mucinous samples\n",
      "Testing 54 rows for enrichment in Mucinous Mucinous samples\n",
      "Testing 3 rows for enrichment in Subsite Other_site samples\n",
      "Testing 5 rows for enrichment in Subsite Sigmoid_Colon samples\n",
      "No rows had outliers in at least 0.3 of pathalogy_T_stage T3orT2 samples\n",
      "Testing 43 rows for enrichment in pathalogy_T_stage T4 samples\n",
      "Testing 2 rows for enrichment in pathalogy_N_stage N0 samples\n",
      "Testing 5 rows for enrichment in pathalogy_N_stage N1orN2 samples\n",
      "Testing 4 rows for enrichment in Stage StageIIIorIV samples\n",
      "Testing 3 rows for enrichment in Stage StageIorII samples\n",
      "Testing 2 rows for enrichment in CEA Low_CEA samples\n",
      "Testing 47 rows for enrichment in CEA High_CEA samples\n",
      "No rows had outliers in at least 0.3 of Vascular_Invasion No samples\n",
      "Testing 44 rows for enrichment in Vascular_Invasion Yes samples\n",
      "No rows had outliers in at least 0.3 of Lymphatic_Invasion No samples\n",
      "Testing 27 rows for enrichment in Lymphatic_Invasion Yes samples\n",
      "No rows had outliers in at least 0.3 of Perineural_Invasion No samples\n",
      "Testing 48 rows for enrichment in Perineural_Invasion Yes samples\n",
      "No rows had outliers in at least 0.3 of Synchronous_Tumors No samples\n",
      "Testing 85 rows for enrichment in Synchronous_Tumors Yes samples\n",
      "Testing 1 rows for enrichment in Polyps_History No samples\n",
      "Testing 45 rows for enrichment in Polyps_History Yes samples\n",
      "Testing 2 rows for enrichment in Polyps_Present No samples\n",
      "Testing 8 rows for enrichment in Polyps_Present Yes samples\n",
      "Testing 7 rows for enrichment in Transcriptomic_subtype CMS1or2 samples\n",
      "Testing 3 rows for enrichment in Transcriptomic_subtype CMS3or4 samples\n",
      "Testing 6 rows for enrichment in Proteomic_subtype AorBorC samples\n",
      "Testing 18 rows for enrichment in Proteomic_subtype DorE samples\n",
      "Testing 3 rows for enrichment in mutation_rate Low_Mutation_Rate samples\n",
      "Testing 234 rows for enrichment in mutation_rate High_Mutation_Rate samples\n",
      "Testing 1 rows for enrichment in Vital.Status Living samples\n",
      "Testing 55 rows for enrichment in Vital.Status Deceased samples\n",
      "No rows had outliers in at least 0.3 of Tumor.Status Tumor free samples\n",
      "Testing 26 rows for enrichment in Tumor.Status With tumor samples\n",
      "Testing 4 rows for enrichment in Mutation_Phenotype MSS samples\n",
      "Testing 175 rows for enrichment in Mutation_Phenotype MSI-H samples\n"
     ]
    }
   ],
   "source": [
    "results_prot = blsh.compare_groups_outliers(outliers_prot, \n",
    "                                            annotations)"
   ]
  },
  {
   "cell_type": "code",
   "execution_count": 20,
   "metadata": {},
   "outputs": [
    {
     "name": "stdout",
     "output_type": "stream",
     "text": [
      "No rows had outliers in at least 0.3 of Age 2 years or older samples\n",
      "Testing 2 rows for enrichment in Age Younger than 2 years samples\n",
      "No rows had outliers in at least 0.3 of Sample_Tumor_Normal Tumor samples\n",
      "No rows had outliers in at least 0.3 of Sample_Tumor_Normal Normal samples\n",
      "No rows had outliers in at least 0.3 of Gender Female samples\n",
      "No rows had outliers in at least 0.3 of Gender Male samples\n",
      "No rows had outliers in at least 0.3 of Mucinous Not Mucinous samples\n",
      "No rows had outliers in at least 0.3 of Mucinous Mucinous samples\n",
      "No rows had outliers in at least 0.3 of Subsite Other_site samples\n",
      "No rows had outliers in at least 0.3 of Subsite Sigmoid_Colon samples\n",
      "No rows had outliers in at least 0.3 of pathalogy_T_stage T3orT2 samples\n",
      "Testing 1 rows for enrichment in pathalogy_T_stage T4 samples\n",
      "No rows had outliers in at least 0.3 of pathalogy_N_stage N0 samples\n",
      "No rows had outliers in at least 0.3 of pathalogy_N_stage N1orN2 samples\n",
      "No rows had outliers in at least 0.3 of Stage StageIIIorIV samples\n",
      "No rows had outliers in at least 0.3 of Stage StageIorII samples\n",
      "Testing 2 rows for enrichment in CEA Low_CEA samples\n",
      "Testing 9 rows for enrichment in CEA High_CEA samples\n",
      "No rows had outliers in at least 0.3 of Vascular_Invasion No samples\n",
      "Testing 2 rows for enrichment in Vascular_Invasion Yes samples\n",
      "No rows had outliers in at least 0.3 of Lymphatic_Invasion No samples\n",
      "Testing 2 rows for enrichment in Lymphatic_Invasion Yes samples\n",
      "No rows had outliers in at least 0.3 of Perineural_Invasion No samples\n",
      "Testing 9 rows for enrichment in Perineural_Invasion Yes samples\n",
      "No rows had outliers in at least 0.3 of Synchronous_Tumors No samples\n",
      "Testing 14 rows for enrichment in Synchronous_Tumors Yes samples\n",
      "No rows had outliers in at least 0.3 of Polyps_History No samples\n",
      "No rows had outliers in at least 0.3 of Polyps_History Yes samples\n",
      "No rows had outliers in at least 0.3 of Polyps_Present No samples\n",
      "Testing 2 rows for enrichment in Polyps_Present Yes samples\n",
      "No rows had outliers in at least 0.3 of Transcriptomic_subtype CMS1or2 samples\n",
      "No rows had outliers in at least 0.3 of Transcriptomic_subtype CMS3or4 samples\n",
      "No rows had outliers in at least 0.3 of Proteomic_subtype AorBorC samples\n",
      "No rows had outliers in at least 0.3 of Proteomic_subtype DorE samples\n",
      "No rows had outliers in at least 0.3 of mutation_rate Low_Mutation_Rate samples\n",
      "Testing 82 rows for enrichment in mutation_rate High_Mutation_Rate samples\n",
      "No rows had outliers in at least 0.3 of Vital.Status Living samples\n",
      "Testing 9 rows for enrichment in Vital.Status Deceased samples\n",
      "No rows had outliers in at least 0.3 of Tumor.Status Tumor free samples\n",
      "Testing 9 rows for enrichment in Tumor.Status With tumor samples\n",
      "No rows had outliers in at least 0.3 of Mutation_Phenotype MSS samples\n",
      "Testing 19 rows for enrichment in Mutation_Phenotype MSI-H samples\n"
     ]
    }
   ],
   "source": [
    "results_trans = blsh.compare_groups_outliers(outliers_trans, \n",
    "                                             annotations)"
   ]
  },
  {
   "cell_type": "markdown",
   "metadata": {},
   "source": [
    "Many of the output values from compare_group_outliers are NaN, so here we will get rid of the NaN values for visualization purposes."
   ]
  },
  {
   "cell_type": "code",
   "execution_count": 21,
   "metadata": {
    "collapsed": true
   },
   "outputs": [],
   "source": [
    "results_prot = results_prot.dropna(axis=0, how='all')\n",
    "results_trans = results_trans.dropna(axis=0, how='all')"
   ]
  },
  {
   "cell_type": "code",
   "execution_count": 32,
   "metadata": {},
   "outputs": [
    {
     "name": "stdout",
     "output_type": "stream",
     "text": [
      "TESTING FOR PROTEOMICS:\n",
      "1 significant protein enrichment in Age_Younger than 2 years:\n",
      "\n",
      "1 significant protein enrichment in Gender_Female:\n",
      "\n",
      "5 significant protein enrichments in Mucinous_Mucinous\n",
      "\n",
      "2 significant protein enrichments in Subsite_Other_site\n",
      "\n",
      "1 significant protein enrichment in Subsite_Sigmoid_Colon:\n",
      "\n",
      "1 significant protein enrichment in pathalogy_N_stage_N1orN2:\n",
      "\n",
      "1 significant protein enrichment in CEA_High_CEA:\n",
      "\n",
      "1 significant protein enrichment in Vascular_Invasion_Yes:\n",
      "\n",
      "2 significant protein enrichments in Lymphatic_Invasion_Yes\n",
      "\n",
      "1 significant protein enrichment in Synchronous_Tumors_Yes:\n",
      "\n",
      "1 significant protein enrichment in Polyps_History_Yes:\n",
      "\n",
      "2 significant protein enrichments in Polyps_Present_No\n",
      "\n",
      "1 significant protein enrichment in Polyps_Present_Yes:\n",
      "\n",
      "1 significant protein enrichment in Transcriptomic_subtype_CMS1or2:\n",
      "\n",
      "3 significant protein enrichments in Proteomic_subtype_AorBorC\n",
      "\n",
      "8 significant protein enrichments in Proteomic_subtype_DorE\n",
      "\n",
      "107 significant protein enrichments in mutation_rate_High_Mutation_Rate\n",
      "\n",
      "4 significant protein enrichments in Mutation_Phenotype_MSS\n",
      "\n",
      "155 significant protein enrichments in Mutation_Phenotype_MSI-H\n",
      "\n"
     ]
    }
   ],
   "source": [
    "print(\"TESTING FOR PROTEOMICS:\")\n",
    "sig_cols = []\n",
    "for col in results_prot.columns:\n",
    "    sig_col = bf.significantEnrichments(results_prot, col, 0.025)\n",
    "    if sig_col is not None:\n",
    "        sig_cols.append(sig_col)\n",
    "    else:\n",
    "        results_prot.drop()"
   ]
  },
  {
   "cell_type": "markdown",
   "metadata": {},
   "source": [
    "## Step 5: Visualize these enrichments"
   ]
  },
  {
   "cell_type": "code",
   "execution_count": 22,
   "metadata": {},
   "outputs": [
    {
     "data": {
      "image/png": "[encoded data removed]",
      "text/plain": [
       "<Figure size 432x288 with 2 Axes>"
      ]
     },
     "metadata": {},
     "output_type": "display_data"
    }
   ],
   "source": [
    "sns.heatmap(results_prot)\n",
    "plt.show()"
   ]
  },
  {
   "cell_type": "code",
   "execution_count": 23,
   "metadata": {},
   "outputs": [
    {
     "data": {
      "image/png": "[encoded data removed]",
      "text/plain": [
       "<Figure size 432x288 with 2 Axes>"
      ]
     },
     "metadata": {},
     "output_type": "display_data"
    }
   ],
   "source": [
    "sns.heatmap(results_trans)\n",
    "plt.show()"
   ]
  },
  {
   "cell_type": "code",
   "execution_count": null,
   "metadata": {
    "collapsed": true
   },
   "outputs": [],
   "source": [
    "#How can we automate something like this?\n",
    "'''results_prot = results_prot.drop(['Proteomics_Tumor_Normal_Other_tumor_enrichment_FDR', \n",
    "                                  'Histologic_Grade_FIGO_High_grade_enrichment_FDR',\n",
    "                                  'Histologic_Grade_FIGO_Low_grade_enrichment_FDR', \n",
    "                                  'Myometrial_invasion_Specify_50%_or_more_enrichment_FDR'], \n",
    "                                 axis=1)\n",
    "'''"
   ]
  },
  {
   "cell_type": "markdown",
   "metadata": {},
   "source": [
    "## Step 6: Determine significant enrichments, and link with cancer drug database."
   ]
  },
  {
   "cell_type": "code",
   "execution_count": 24,
   "metadata": {},
   "outputs": [
    {
     "name": "stdout",
     "output_type": "stream",
     "text": [
      "TESTING FOR PROTEOMICS:\n",
      "1 significant protein enrichment in Age_Younger than 2 years:\n",
      "\n",
      "1 significant protein enrichment in Gender_Female:\n",
      "\n",
      "5 significant protein enrichments in Mucinous_Mucinous\n",
      "\n",
      "2 significant protein enrichments in Subsite_Other_site\n",
      "\n",
      "1 significant protein enrichment in Subsite_Sigmoid_Colon:\n",
      "\n",
      "1 significant protein enrichment in pathalogy_N_stage_N1orN2:\n",
      "\n",
      "1 significant protein enrichment in CEA_High_CEA:\n",
      "\n",
      "1 significant protein enrichment in Vascular_Invasion_Yes:\n",
      "\n",
      "2 significant protein enrichments in Lymphatic_Invasion_Yes\n",
      "\n",
      "1 significant protein enrichment in Synchronous_Tumors_Yes:\n",
      "\n",
      "1 significant protein enrichment in Polyps_History_Yes:\n",
      "\n",
      "2 significant protein enrichments in Polyps_Present_No\n",
      "\n",
      "1 significant protein enrichment in Polyps_Present_Yes:\n",
      "\n",
      "1 significant protein enrichment in Transcriptomic_subtype_CMS1or2:\n",
      "\n",
      "3 significant protein enrichments in Proteomic_subtype_AorBorC\n",
      "\n",
      "8 significant protein enrichments in Proteomic_subtype_DorE\n",
      "\n",
      "107 significant protein enrichments in mutation_rate_High_Mutation_Rate\n",
      "\n",
      "4 significant protein enrichments in Mutation_Phenotype_MSS\n",
      "\n",
      "155 significant protein enrichments in Mutation_Phenotype_MSI-H\n",
      "\n"
     ]
    }
   ],
   "source": [
    "print(\"TESTING FOR PROTEOMICS:\")\n",
    "sig_cols = []\n",
    "for col in results_prot.columns:\n",
    "    sig_col = bf.significantEnrichments(results_prot, col, 0.025)\n",
    "    if sig_col is not None:\n",
    "        sig_cols.append(sig_col)\n",
    "    else:\n",
    "        continue"
   ]
  },
  {
   "cell_type": "code",
   "execution_count": 29,
   "metadata": {},
   "outputs": [
    {
     "name": "stdout",
     "output_type": "stream",
     "text": [
      "          mutation_rate_High_Mutation_Rate_P_values\n",
      "ADGRE5                                     0.007492\n",
      "ANP32E                                     0.007491\n",
      "APOBEC3G                                   0.006239\n",
      "ARHGEF2                                    0.021768\n",
      "ATP6V1A                                    0.021768\n",
      "ATP6V1E1                                   0.008704\n",
      "BPI                                        0.021768\n",
      "CBFB                                       0.019409\n",
      "CDC73                                      0.007491\n",
      "CDCP1                                      0.006239\n",
      "CHORDC1                                    0.001451\n",
      "COL4A3BP                                   0.013266\n",
      "CYBB                                       0.021768\n",
      "DNAJC1                                     0.008704\n",
      "EIF3H                                      0.017372\n",
      "EIF5A                                      0.007491\n",
      "EXOSC4                                     0.006239\n",
      "EXOSC6                                     0.013266\n",
      "EXOSC7                                     0.008704\n",
      "EZR                                        0.019409\n",
      "FCHO2                                      0.006239\n",
      "FMNL1                                      0.021768\n",
      "FTL                                        0.009576\n",
      "GALNT1                                     0.017372\n",
      "GATAD2B                                    0.013266\n",
      "GBP1                                       0.002756\n",
      "GBP4                                       0.004247\n",
      "GBP5                                       0.006239\n",
      "GTF2B                                      0.019409\n",
      "HK3                                        0.021768\n",
      "...                                             ...\n",
      "RPL22L1                                    0.000082\n",
      "RPRD1A                                     0.017766\n",
      "RRM1                                       0.017372\n",
      "S100A16                                    0.013266\n",
      "SAAL1                                      0.006336\n",
      "SCAMP2                                     0.013266\n",
      "SERPINB5                                   0.017372\n",
      "SLC16A3                                    0.006239\n",
      "SLC31A1                                    0.018169\n",
      "SMC4                                       0.008704\n",
      "SMCHD1                                     0.000082\n",
      "SSFA2                                      0.013266\n",
      "STAT1                                      0.007491\n",
      "STMN1                                      0.007492\n",
      "STMN2                                      0.006239\n",
      "SUPT6H                                     0.008704\n",
      "TBCD                                       0.017372\n",
      "TNPO1                                      0.013266\n",
      "TRMT112                                    0.007492\n",
      "TSR1                                       0.002756\n",
      "TYMP                                       0.002756\n",
      "UBA6                                       0.017372\n",
      "UBE2L6                                     0.007491\n",
      "UGT8                                       0.024398\n",
      "UHRF1                                      0.024398\n",
      "UPP1                                       0.013266\n",
      "VPS37B                                     0.008704\n",
      "VTN                                        0.013266\n",
      "WARS                                       0.021486\n",
      "ZC3HAV1                                    0.013266\n",
      "\n",
      "[107 rows x 1 columns]\n",
      "          Mutation_Phenotype_MSI-H_P_values\n",
      "ACBD5                          1.174136e-02\n",
      "ACSL3                          2.491306e-02\n",
      "ADGRE5                         1.268127e-04\n",
      "ADSS                           4.085456e-04\n",
      "ANP32E                         1.214841e-04\n",
      "APOL2                          9.871108e-05\n",
      "ARHGEF1                        9.641705e-04\n",
      "ARHGEF2                        2.802637e-04\n",
      "ASPH                           7.557267e-04\n",
      "ASS1                           1.174136e-02\n",
      "ATP2A2                         1.905571e-02\n",
      "ATP6V1A                        2.802637e-04\n",
      "ATP6V1E1                       1.174136e-02\n",
      "BPI                            2.622536e-03\n",
      "CACYBP                         7.557267e-04\n",
      "CCT3                           7.017467e-03\n",
      "CDC73                          1.362265e-05\n",
      "CDCP1                          5.128994e-04\n",
      "CHORDC1                        4.085456e-04\n",
      "CLUH                           1.401152e-03\n",
      "CTR9                           2.591830e-05\n",
      "CYBB                           5.737682e-04\n",
      "DEFA1B                         4.511866e-03\n",
      "EIF3H                          7.017467e-03\n",
      "EIF5A                          2.622536e-03\n",
      "ENO1                           1.214841e-04\n",
      "EPHA2                          7.131448e-03\n",
      "FDPS                           4.366234e-03\n",
      "FMNL1                          1.401152e-03\n",
      "FSCN1                          1.049225e-03\n",
      "...                                     ...\n",
      "SEC24D                         1.401152e-03\n",
      "SERPINB1                       1.500353e-04\n",
      "SERPINB5                       7.557267e-04\n",
      "SERPINB8                       3.962665e-03\n",
      "SIGLEC5                        8.231413e-03\n",
      "SLC16A3                        2.591830e-05\n",
      "SLC2A3                         1.174136e-02\n",
      "SLC30A7                        1.183367e-03\n",
      "SLC31A1                        2.622536e-03\n",
      "SMCHD1                         1.864052e-08\n",
      "SSFA2                          1.214841e-04\n",
      "STAT1                          1.401152e-03\n",
      "STK10                          2.622536e-03\n",
      "STMN1                          9.641705e-04\n",
      "TAP1                           2.622536e-03\n",
      "TAP2                           2.622536e-03\n",
      "TAPBP                          1.905571e-02\n",
      "TBC1D2                         9.641705e-04\n",
      "TCF25                          2.161860e-03\n",
      "TIMP1                          1.695918e-03\n",
      "TMEM2                          7.017467e-03\n",
      "TMX1                           1.214841e-04\n",
      "TSR1                           3.905080e-05\n",
      "TYMP                           1.268127e-04\n",
      "UBA6                           1.049225e-03\n",
      "UBE2L6                         5.737682e-04\n",
      "UGT8                           7.414657e-04\n",
      "UHRF1                          1.178856e-04\n",
      "WARS                           1.214841e-04\n",
      "ZC3HAV1                        1.214841e-04\n",
      "\n",
      "[155 rows x 1 columns]\n"
     ]
    }
   ],
   "source": [
    "for col in sig_cols:\n",
    "    if len(col) > 10:\n",
    "        print(col)"
   ]
  },
  {
   "cell_type": "code",
   "execution_count": 25,
   "metadata": {},
   "outputs": [
    {
     "ename": "ParserError",
     "evalue": "Error tokenizing data. C error: Expected 1 fields in line 4, saw 2\n",
     "output_type": "error",
     "traceback": [
      "\u001b[1;31m---------------------------------------------------------------------------\u001b[0m",
      "\u001b[1;31mParserError\u001b[0m                               Traceback (most recent call last)",
      "\u001b[1;32m<ipython-input-25-e9244889369f>\u001b[0m in \u001b[0;36m<module>\u001b[1;34m()\u001b[0m\n\u001b[0;32m      6\u001b[0m                             \u001b[0mgene_sets\u001b[0m\u001b[1;33m=\u001b[0m\u001b[1;34m'KEGG_2019_Human'\u001b[0m\u001b[1;33m,\u001b[0m\u001b[1;33m\u001b[0m\u001b[0m\n\u001b[0;32m      7\u001b[0m                             \u001b[0moutdir\u001b[0m\u001b[1;33m=\u001b[0m\u001b[1;34m'test/enrichr_kegg'\u001b[0m\u001b[1;33m,\u001b[0m \u001b[1;31m#This isn't saving correctly...why is that?\u001b[0m\u001b[1;33m\u001b[0m\u001b[0m\n\u001b[1;32m----> 8\u001b[1;33m                             cutoff=0.5)\n\u001b[0m\u001b[0;32m      9\u001b[0m     \u001b[0mprint\u001b[0m\u001b[1;33m(\u001b[0m\u001b[0menrichment\u001b[0m\u001b[1;33m.\u001b[0m\u001b[0mres2d\u001b[0m\u001b[1;33m)\u001b[0m\u001b[1;33m\u001b[0m\u001b[0m\n\u001b[0;32m     10\u001b[0m     \u001b[0mbarplot\u001b[0m\u001b[1;33m(\u001b[0m\u001b[0menrichment\u001b[0m\u001b[1;33m.\u001b[0m\u001b[0mres2d\u001b[0m\u001b[1;33m,\u001b[0m \u001b[0mtitle\u001b[0m\u001b[1;33m=\u001b[0m\u001b[0mcol_name\u001b[0m\u001b[1;33m)\u001b[0m\u001b[1;33m\u001b[0m\u001b[0m\n",
      "\u001b[1;32m~\\AppData\\Local\\conda\\conda\\envs\\Research\\lib\\site-packages\\gseapy\\enrichr.py\u001b[0m in \u001b[0;36menrichr\u001b[1;34m(gene_list, gene_sets, organism, description, outdir, background, cutoff, format, figsize, top_term, no_plot, verbose)\u001b[0m\n\u001b[0;32m    389\u001b[0m     enr = Enrichr(gene_list, gene_sets, organism, description, outdir,\n\u001b[0;32m    390\u001b[0m                   cutoff, background, format, figsize, top_term, no_plot, verbose)\n\u001b[1;32m--> 391\u001b[1;33m     \u001b[0menr\u001b[0m\u001b[1;33m.\u001b[0m\u001b[0mrun\u001b[0m\u001b[1;33m(\u001b[0m\u001b[1;33m)\u001b[0m\u001b[1;33m\u001b[0m\u001b[0m\n\u001b[0m\u001b[0;32m    392\u001b[0m \u001b[1;33m\u001b[0m\u001b[0m\n\u001b[0;32m    393\u001b[0m     \u001b[1;32mreturn\u001b[0m \u001b[0menr\u001b[0m\u001b[1;33m\u001b[0m\u001b[0m\n",
      "\u001b[1;32m~\\AppData\\Local\\conda\\conda\\envs\\Research\\lib\\site-packages\\gseapy\\enrichr.py\u001b[0m in \u001b[0;36mrun\u001b[1;34m(self)\u001b[0m\n\u001b[0;32m    329\u001b[0m                 \u001b[0mself\u001b[0m\u001b[1;33m.\u001b[0m\u001b[0m_logger\u001b[0m\u001b[1;33m.\u001b[0m\u001b[0mdebug\u001b[0m\u001b[1;33m(\u001b[0m\u001b[1;34m\"Start Enrichr using library: %s\"\u001b[0m \u001b[1;33m%\u001b[0m \u001b[1;33m(\u001b[0m\u001b[0mself\u001b[0m\u001b[1;33m.\u001b[0m\u001b[0m_gs\u001b[0m\u001b[1;33m)\u001b[0m\u001b[1;33m)\u001b[0m\u001b[1;33m\u001b[0m\u001b[0m\n\u001b[0;32m    330\u001b[0m                 \u001b[0mself\u001b[0m\u001b[1;33m.\u001b[0m\u001b[0m_logger\u001b[0m\u001b[1;33m.\u001b[0m\u001b[0minfo\u001b[0m\u001b[1;33m(\u001b[0m\u001b[1;34m'Analysis name: %s, Enrichr Library: %s'\u001b[0m \u001b[1;33m%\u001b[0m \u001b[1;33m(\u001b[0m\u001b[0mself\u001b[0m\u001b[1;33m.\u001b[0m\u001b[0mdescriptions\u001b[0m\u001b[1;33m,\u001b[0m \u001b[0mself\u001b[0m\u001b[1;33m.\u001b[0m\u001b[0m_gs\u001b[0m\u001b[1;33m)\u001b[0m\u001b[1;33m)\u001b[0m\u001b[1;33m\u001b[0m\u001b[0m\n\u001b[1;32m--> 331\u001b[1;33m                 \u001b[0mshortID\u001b[0m\u001b[1;33m,\u001b[0m \u001b[0mres\u001b[0m \u001b[1;33m=\u001b[0m \u001b[0mself\u001b[0m\u001b[1;33m.\u001b[0m\u001b[0mget_results\u001b[0m\u001b[1;33m(\u001b[0m\u001b[0mgenes_list\u001b[0m\u001b[1;33m)\u001b[0m\u001b[1;33m\u001b[0m\u001b[0m\n\u001b[0m\u001b[0;32m    332\u001b[0m                 \u001b[1;31m# Remember gene set library used\u001b[0m\u001b[1;33m\u001b[0m\u001b[1;33m\u001b[0m\u001b[0m\n\u001b[0;32m    333\u001b[0m             \u001b[0mres\u001b[0m\u001b[1;33m.\u001b[0m\u001b[0minsert\u001b[0m\u001b[1;33m(\u001b[0m\u001b[1;36m0\u001b[0m\u001b[1;33m,\u001b[0m \u001b[1;34m\"Gene_set\"\u001b[0m\u001b[1;33m,\u001b[0m \u001b[0mself\u001b[0m\u001b[1;33m.\u001b[0m\u001b[0m_gs\u001b[0m\u001b[1;33m)\u001b[0m\u001b[1;33m\u001b[0m\u001b[0m\n",
      "\u001b[1;32m~\\AppData\\Local\\conda\\conda\\envs\\Research\\lib\\site-packages\\gseapy\\enrichr.py\u001b[0m in \u001b[0;36mget_results\u001b[1;34m(self, gene_list)\u001b[0m\n\u001b[0;32m    167\u001b[0m         \u001b[1;31m# response = requests.get(RESULTS_URL + query_string % (user_list_id, gene_set))\u001b[0m\u001b[1;33m\u001b[0m\u001b[1;33m\u001b[0m\u001b[0m\n\u001b[0;32m    168\u001b[0m         \u001b[0msleep\u001b[0m\u001b[1;33m(\u001b[0m\u001b[1;36m1\u001b[0m\u001b[1;33m)\u001b[0m\u001b[1;33m\u001b[0m\u001b[0m\n\u001b[1;32m--> 169\u001b[1;33m         \u001b[0mres\u001b[0m \u001b[1;33m=\u001b[0m \u001b[0mpd\u001b[0m\u001b[1;33m.\u001b[0m\u001b[0mread_csv\u001b[0m\u001b[1;33m(\u001b[0m\u001b[0mStringIO\u001b[0m\u001b[1;33m(\u001b[0m\u001b[0mresponse\u001b[0m\u001b[1;33m.\u001b[0m\u001b[0mcontent\u001b[0m\u001b[1;33m.\u001b[0m\u001b[0mdecode\u001b[0m\u001b[1;33m(\u001b[0m\u001b[1;34m'utf-8'\u001b[0m\u001b[1;33m)\u001b[0m\u001b[1;33m)\u001b[0m\u001b[1;33m,\u001b[0m\u001b[0msep\u001b[0m\u001b[1;33m=\u001b[0m\u001b[1;34m\"\\t\"\u001b[0m\u001b[1;33m)\u001b[0m\u001b[1;33m\u001b[0m\u001b[0m\n\u001b[0m\u001b[0;32m    170\u001b[0m         \u001b[1;32mreturn\u001b[0m \u001b[1;33m[\u001b[0m\u001b[0mjob_id\u001b[0m\u001b[1;33m[\u001b[0m\u001b[1;34m'shortId'\u001b[0m\u001b[1;33m]\u001b[0m\u001b[1;33m,\u001b[0m \u001b[0mres\u001b[0m\u001b[1;33m]\u001b[0m\u001b[1;33m\u001b[0m\u001b[0m\n\u001b[0;32m    171\u001b[0m \u001b[1;33m\u001b[0m\u001b[0m\n",
      "\u001b[1;32m~\\AppData\\Local\\conda\\conda\\envs\\Research\\lib\\site-packages\\pandas\\io\\parsers.py\u001b[0m in \u001b[0;36mparser_f\u001b[1;34m(filepath_or_buffer, sep, delimiter, header, names, index_col, usecols, squeeze, prefix, mangle_dupe_cols, dtype, engine, converters, true_values, false_values, skipinitialspace, skiprows, skipfooter, nrows, na_values, keep_default_na, na_filter, verbose, skip_blank_lines, parse_dates, infer_datetime_format, keep_date_col, date_parser, dayfirst, iterator, chunksize, compression, thousands, decimal, lineterminator, quotechar, quoting, doublequote, escapechar, comment, encoding, dialect, tupleize_cols, error_bad_lines, warn_bad_lines, delim_whitespace, low_memory, memory_map, float_precision)\u001b[0m\n\u001b[0;32m    700\u001b[0m                     skip_blank_lines=skip_blank_lines)\n\u001b[0;32m    701\u001b[0m \u001b[1;33m\u001b[0m\u001b[0m\n\u001b[1;32m--> 702\u001b[1;33m         \u001b[1;32mreturn\u001b[0m \u001b[0m_read\u001b[0m\u001b[1;33m(\u001b[0m\u001b[0mfilepath_or_buffer\u001b[0m\u001b[1;33m,\u001b[0m \u001b[0mkwds\u001b[0m\u001b[1;33m)\u001b[0m\u001b[1;33m\u001b[0m\u001b[0m\n\u001b[0m\u001b[0;32m    703\u001b[0m \u001b[1;33m\u001b[0m\u001b[0m\n\u001b[0;32m    704\u001b[0m     \u001b[0mparser_f\u001b[0m\u001b[1;33m.\u001b[0m\u001b[0m__name__\u001b[0m \u001b[1;33m=\u001b[0m \u001b[0mname\u001b[0m\u001b[1;33m\u001b[0m\u001b[0m\n",
      "\u001b[1;32m~\\AppData\\Local\\conda\\conda\\envs\\Research\\lib\\site-packages\\pandas\\io\\parsers.py\u001b[0m in \u001b[0;36m_read\u001b[1;34m(filepath_or_buffer, kwds)\u001b[0m\n\u001b[0;32m    433\u001b[0m \u001b[1;33m\u001b[0m\u001b[0m\n\u001b[0;32m    434\u001b[0m     \u001b[1;32mtry\u001b[0m\u001b[1;33m:\u001b[0m\u001b[1;33m\u001b[0m\u001b[0m\n\u001b[1;32m--> 435\u001b[1;33m         \u001b[0mdata\u001b[0m \u001b[1;33m=\u001b[0m \u001b[0mparser\u001b[0m\u001b[1;33m.\u001b[0m\u001b[0mread\u001b[0m\u001b[1;33m(\u001b[0m\u001b[0mnrows\u001b[0m\u001b[1;33m)\u001b[0m\u001b[1;33m\u001b[0m\u001b[0m\n\u001b[0m\u001b[0;32m    436\u001b[0m     \u001b[1;32mfinally\u001b[0m\u001b[1;33m:\u001b[0m\u001b[1;33m\u001b[0m\u001b[0m\n\u001b[0;32m    437\u001b[0m         \u001b[0mparser\u001b[0m\u001b[1;33m.\u001b[0m\u001b[0mclose\u001b[0m\u001b[1;33m(\u001b[0m\u001b[1;33m)\u001b[0m\u001b[1;33m\u001b[0m\u001b[0m\n",
      "\u001b[1;32m~\\AppData\\Local\\conda\\conda\\envs\\Research\\lib\\site-packages\\pandas\\io\\parsers.py\u001b[0m in \u001b[0;36mread\u001b[1;34m(self, nrows)\u001b[0m\n\u001b[0;32m   1137\u001b[0m     \u001b[1;32mdef\u001b[0m \u001b[0mread\u001b[0m\u001b[1;33m(\u001b[0m\u001b[0mself\u001b[0m\u001b[1;33m,\u001b[0m \u001b[0mnrows\u001b[0m\u001b[1;33m=\u001b[0m\u001b[1;32mNone\u001b[0m\u001b[1;33m)\u001b[0m\u001b[1;33m:\u001b[0m\u001b[1;33m\u001b[0m\u001b[0m\n\u001b[0;32m   1138\u001b[0m         \u001b[0mnrows\u001b[0m \u001b[1;33m=\u001b[0m \u001b[0m_validate_integer\u001b[0m\u001b[1;33m(\u001b[0m\u001b[1;34m'nrows'\u001b[0m\u001b[1;33m,\u001b[0m \u001b[0mnrows\u001b[0m\u001b[1;33m)\u001b[0m\u001b[1;33m\u001b[0m\u001b[0m\n\u001b[1;32m-> 1139\u001b[1;33m         \u001b[0mret\u001b[0m \u001b[1;33m=\u001b[0m \u001b[0mself\u001b[0m\u001b[1;33m.\u001b[0m\u001b[0m_engine\u001b[0m\u001b[1;33m.\u001b[0m\u001b[0mread\u001b[0m\u001b[1;33m(\u001b[0m\u001b[0mnrows\u001b[0m\u001b[1;33m)\u001b[0m\u001b[1;33m\u001b[0m\u001b[0m\n\u001b[0m\u001b[0;32m   1140\u001b[0m \u001b[1;33m\u001b[0m\u001b[0m\n\u001b[0;32m   1141\u001b[0m         \u001b[1;31m# May alter columns / col_dict\u001b[0m\u001b[1;33m\u001b[0m\u001b[1;33m\u001b[0m\u001b[0m\n",
      "\u001b[1;32m~\\AppData\\Local\\conda\\conda\\envs\\Research\\lib\\site-packages\\pandas\\io\\parsers.py\u001b[0m in \u001b[0;36mread\u001b[1;34m(self, nrows)\u001b[0m\n\u001b[0;32m   1993\u001b[0m     \u001b[1;32mdef\u001b[0m \u001b[0mread\u001b[0m\u001b[1;33m(\u001b[0m\u001b[0mself\u001b[0m\u001b[1;33m,\u001b[0m \u001b[0mnrows\u001b[0m\u001b[1;33m=\u001b[0m\u001b[1;32mNone\u001b[0m\u001b[1;33m)\u001b[0m\u001b[1;33m:\u001b[0m\u001b[1;33m\u001b[0m\u001b[0m\n\u001b[0;32m   1994\u001b[0m         \u001b[1;32mtry\u001b[0m\u001b[1;33m:\u001b[0m\u001b[1;33m\u001b[0m\u001b[0m\n\u001b[1;32m-> 1995\u001b[1;33m             \u001b[0mdata\u001b[0m \u001b[1;33m=\u001b[0m \u001b[0mself\u001b[0m\u001b[1;33m.\u001b[0m\u001b[0m_reader\u001b[0m\u001b[1;33m.\u001b[0m\u001b[0mread\u001b[0m\u001b[1;33m(\u001b[0m\u001b[0mnrows\u001b[0m\u001b[1;33m)\u001b[0m\u001b[1;33m\u001b[0m\u001b[0m\n\u001b[0m\u001b[0;32m   1996\u001b[0m         \u001b[1;32mexcept\u001b[0m \u001b[0mStopIteration\u001b[0m\u001b[1;33m:\u001b[0m\u001b[1;33m\u001b[0m\u001b[0m\n\u001b[0;32m   1997\u001b[0m             \u001b[1;32mif\u001b[0m \u001b[0mself\u001b[0m\u001b[1;33m.\u001b[0m\u001b[0m_first_chunk\u001b[0m\u001b[1;33m:\u001b[0m\u001b[1;33m\u001b[0m\u001b[0m\n",
      "\u001b[1;32mpandas\\_libs\\parsers.pyx\u001b[0m in \u001b[0;36mpandas._libs.parsers.TextReader.read\u001b[1;34m()\u001b[0m\n",
      "\u001b[1;32mpandas\\_libs\\parsers.pyx\u001b[0m in \u001b[0;36mpandas._libs.parsers.TextReader._read_low_memory\u001b[1;34m()\u001b[0m\n",
      "\u001b[1;32mpandas\\_libs\\parsers.pyx\u001b[0m in \u001b[0;36mpandas._libs.parsers.TextReader._read_rows\u001b[1;34m()\u001b[0m\n",
      "\u001b[1;32mpandas\\_libs\\parsers.pyx\u001b[0m in \u001b[0;36mpandas._libs.parsers.TextReader._tokenize_rows\u001b[1;34m()\u001b[0m\n",
      "\u001b[1;32mpandas\\_libs\\parsers.pyx\u001b[0m in \u001b[0;36mpandas._libs.parsers.raise_parser_error\u001b[1;34m()\u001b[0m\n",
      "\u001b[1;31mParserError\u001b[0m: Error tokenizing data. C error: Expected 1 fields in line 4, saw 2\n"
     ]
    }
   ],
   "source": [
    "for col in sig_cols:\n",
    "    col_name = col.columns[0]\n",
    "    gene_name_list = list(col.index)\n",
    "    enrichment = gp.enrichr(gene_list = gene_name_list, \n",
    "                            description=col_name, \n",
    "                            gene_sets='KEGG_2019_Human', \n",
    "                            outdir='test/enrichr_kegg', #This isn't saving correctly...why is that?\n",
    "                            cutoff=0.5)\n",
    "    print(enrichment.res2d)\n",
    "    barplot(enrichment.res2d, title=col_name)"
   ]
  }
 ],
 "metadata": {
  "kernelspec": {
   "display_name": "Python 3",
   "language": "python",
   "name": "python3"
  },
  "language_info": {
   "codemirror_mode": {
    "name": "ipython",
    "version": 3
   },
   "file_extension": ".py",
   "mimetype": "text/x-python",
   "name": "python",
   "nbconvert_exporter": "python",
   "pygments_lexer": "ipython3",
   "version": "3.6.2"
  }
 },
 "nbformat": 4,
 "nbformat_minor": 2
}
