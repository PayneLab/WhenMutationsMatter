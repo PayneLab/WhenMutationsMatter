{
 "cells": [
  {
   "cell_type": "markdown",
   "metadata": {},
   "source": [
    "## BlackSheep Cookbook Exploration\n",
    "\n",
    "The Black Sheep Analysis allows researchers to find trends in abnormal protein enrichment among patients in CPTAC datasets. In this Cookbook, we will go through the steps needed to perform a full Black Sheep Analysis."
   ]
  },
  {
   "cell_type": "markdown",
   "metadata": {},
   "source": [
    "### Step 1a: Import Dependencies\n",
    "First, import the necessary dependencies and load cptac data."
   ]
  },
  {
   "cell_type": "code",
   "execution_count": 30,
   "metadata": {
    "collapsed": true
   },
   "outputs": [],
   "source": [
    "import numpy as np\n",
    "import pandas as pd\n",
    "import matplotlib.pyplot as plt\n",
    "import seaborn as sns\n",
    "import cptac\n",
    "import binarization_functions as bf\n",
    "import blackSheepCPTACmoduleCopy as blsh\n",
    "import gseapy as gp\n",
    "from gseapy.plot import barplot, heatmap, dotplot"
   ]
  },
  {
   "cell_type": "markdown",
   "metadata": {},
   "source": [
    "## Step 1b: Load Data and Choose Omics Table\n",
    "For this analysis, we will be looking at results across the proteomics, transcriptomics, and phosphoproteomics tables."
   ]
  },
  {
   "cell_type": "code",
   "execution_count": 31,
   "metadata": {},
   "outputs": [
    {
     "name": "stdout",
     "output_type": "stream",
     "text": [
      "All files already downloaded and correct.\n"
     ]
    },
    {
     "data": {
      "text/plain": [
       "True"
      ]
     },
     "execution_count": 31,
     "metadata": {},
     "output_type": "execute_result"
    }
   ],
   "source": [
    "cptac.download(dataset='endometrial')"
   ]
  },
  {
   "cell_type": "code",
   "execution_count": 32,
   "metadata": {},
   "outputs": [
    {
     "name": "stdout",
     "output_type": "stream",
     "text": [
      "                                    \r"
     ]
    }
   ],
   "source": [
    "en = cptac.Endometrial()\n",
    "proteomics = en.get_proteomics()\n",
    "transcriptomics = en.get_transcriptomics()\n",
    "clinical = en.get_clinical()"
   ]
  },
  {
   "cell_type": "code",
   "execution_count": 33,
   "metadata": {
    "collapsed": true
   },
   "outputs": [],
   "source": [
    "#Append Genomics_subtype and MSI_status to clinical table\n",
    "df= en.get_derived_molecular()\n",
    "clinical['MSI_status'] = df['MSI_status']\n",
    "clinical['Genomics_subtype'] = df['Genomics_subtype']"
   ]
  },
  {
   "cell_type": "markdown",
   "metadata": {},
   "source": [
    "## Step 2: Determine what attributes you would like to A/B test. \n",
    "For this analysis, we will iteratively go through the various columns in the clinical dataset, to determine if any of them have trends within them for protein enrichment."
   ]
  },
  {
   "cell_type": "code",
   "execution_count": 34,
   "metadata": {
    "collapsed": true
   },
   "outputs": [],
   "source": [
    "#Create a copy of the original Clinical DataFrame and drop irrelevant columns.\n",
    "annotations = pd.DataFrame(clinical.copy())\n",
    "annotations = annotations.drop(['Patient_ID', \n",
    "                                'Treatment_naive', \n",
    "                                'Tumor_purity', \n",
    "                                'Gender', \n",
    "                                'Tumor_Site_Other'], axis=1)"
   ]
  },
  {
   "cell_type": "markdown",
   "metadata": {},
   "source": [
    "## Step 2a: Binarize column values"
   ]
  },
  {
   "cell_type": "code",
   "execution_count": 35,
   "metadata": {
    "collapsed": true
   },
   "outputs": [],
   "source": [
    "tumor_map = {'Tumor':'Normal_Tumor', \n",
    "             'Adjacent_normal':'Other_tumor', \n",
    "             'Enriched_normal':'Other_tumor', \n",
    "             'Myometrium_normal':'Other_tumor'}\n",
    "\n",
    "annotations['Proteomics_Tumor_Normal'] = bf.binarizeCategorical(clinical, \n",
    "                                                                'Proteomics_Tumor_Normal', \n",
    "                                                                tumor_map)"
   ]
  },
  {
   "cell_type": "code",
   "execution_count": 36,
   "metadata": {
    "collapsed": true
   },
   "outputs": [],
   "source": [
    "country_map = {'United States':'US', \n",
    "               'Ukraine':'Other', \n",
    "               'Other_specify':'Other', \n",
    "               'Poland':'Other'}\n",
    "\n",
    "annotations['Country'] = bf.binarizeCategorical(clinical, \n",
    "                                                'Country', \n",
    "                                                country_map)"
   ]
  },
  {
   "cell_type": "code",
   "execution_count": 37,
   "metadata": {
    "collapsed": true
   },
   "outputs": [],
   "source": [
    "annotations['BMI'] = bf.binarizeRange(clinical, 'BMI', 18, 25, \n",
    "                                      'Healthy', 'Unhealthy')\n",
    "\n",
    "annotations['Age'] = bf.binarizeCutOff(clinical, 'Age', \n",
    "                                       60.0, 'Old', 'Young')"
   ]
  },
  {
   "cell_type": "code",
   "execution_count": 38,
   "metadata": {
    "collapsed": true
   },
   "outputs": [],
   "source": [
    "FIGO_map = {'FIGO grade 1':'Low_grade', \n",
    "            'FIGO grade 2':'High_grade', \n",
    "            'FIGO grade 3':'High_grade'}\n",
    "\n",
    "annotations['Histologic_Grade_FIGO'] = bf.binarizeCategorical(clinical, \n",
    "                                                              'Histologic_Grade_FIGO', \n",
    "                                                              FIGO_map)"
   ]
  },
  {
   "cell_type": "code",
   "execution_count": 39,
   "metadata": {
    "collapsed": true
   },
   "outputs": [],
   "source": [
    "Myo_map = {'under 50 %':'under_50%', \n",
    "           '50 % or more': '50%_or_more', \n",
    "           'Not identified': 'under_50%'}\n",
    "\n",
    "annotations['Myometrial_invasion_Specify'] = bf.binarizeCategorical(clinical, \n",
    "                                                                    'Myometrial_invasion_Specify', \n",
    "                                                                    Myo_map)"
   ]
  },
  {
   "cell_type": "code",
   "execution_count": 40,
   "metadata": {
    "collapsed": true
   },
   "outputs": [],
   "source": [
    "path_tumor_map = {'pT1a (FIGO IA)':'Not_FIGO_III', \n",
    "            'pT1b (FIGO IB)':'Not_FIGO_III', \n",
    "            'pT2 (FIGO II)':'Not_FIGO_III', \n",
    "            'pT1 (FIGO I)':'Not_FIGO_III', \n",
    "            'pT3a (FIGO IIIA)':'FIGO_III', \n",
    "            'pT3b (FIGO IIIB)':'FIGO_III'}\n",
    "\n",
    "annotations['Path_Stage_Primary_Tumor-pT'] = bf.binarizeCategorical(clinical, \n",
    "                                                                    'Path_Stage_Primary_Tumor-pT', \n",
    "                                                                    path_tumor_map)"
   ]
  },
  {
   "cell_type": "code",
   "execution_count": 41,
   "metadata": {
    "collapsed": true
   },
   "outputs": [],
   "source": [
    "path_lymph_map = {'pN0':'Not_FIGO_III', \n",
    "                  'pNX':'Not_FIGO_III', \n",
    "                  'pN1 (FIGO IIIC1)':'FIGO_III', \n",
    "                  'pN2 (FIGO IIIC2)':'FIGO_III'}\n",
    "\n",
    "annotations['Path_Stage_Reg_Lymph_Nodes-pN'] = bf.binarizeCategorical(clinical, \n",
    "                                                                      'Path_Stage_Reg_Lymph_Nodes-pN', \n",
    "                                                                      path_lymph_map)"
   ]
  },
  {
   "cell_type": "code",
   "execution_count": 42,
   "metadata": {
    "collapsed": true
   },
   "outputs": [],
   "source": [
    "clin_stage_map = {'cM0':'cM0_or_cM1', \n",
    "                  'cM1':'cM0_or_cM1', \n",
    "                  'Staging Incomplete':'Staging_Incomplete'}\n",
    "\n",
    "annotations['Clin_Stage_Dist_Mets-cM'] = bf.binarizeCategorical(clinical, \n",
    "                                                                'Clin_Stage_Dist_Mets-cM', \n",
    "                                                                clin_stage_map)"
   ]
  },
  {
   "cell_type": "code",
   "execution_count": 43,
   "metadata": {
    "collapsed": true
   },
   "outputs": [],
   "source": [
    "path_stage_map = {'Staging Incomplete': 'No_distant_metastasis', \n",
    "                  'No pathologic evidence of distant metastasis':'No_distant_metastasis', \n",
    "                  'pM1':'Distant_Metastasis'}\n",
    "\n",
    "annotations['Path_Stage_Dist_Mets-pM'] = bf.binarizeCategorical(clinical, \n",
    "                                                                'Path_Stage_Dist_Mets-pM', \n",
    "                                                                path_stage_map)"
   ]
  },
  {
   "cell_type": "code",
   "execution_count": 44,
   "metadata": {
    "collapsed": true
   },
   "outputs": [],
   "source": [
    "tumor_stage_map = {'Stage I':'Stage_I_or_II', \n",
    "                   'Stage II':'Stage_I_or_II', \n",
    "                   'Stage III':'Stage_III_or_IV', \n",
    "                   'Stage IV':'Stage_III_or_IV'}\n",
    "\n",
    "annotations['tumor_Stage-Pathological'] = bf.binarizeCategorical(clinical, \n",
    "                                                               'tumor_Stage-Pathological', \n",
    "                                                               tumor_stage_map)"
   ]
  },
  {
   "cell_type": "code",
   "execution_count": 45,
   "metadata": {
    "collapsed": true
   },
   "outputs": [],
   "source": [
    "FIGO_stage_map = {'IA':'I_or_II', \n",
    "                  'IB':'I_or_II', \n",
    "                  'II':'I_or_II', \n",
    "                  'IIIA':'III_or_IV', \n",
    "                  'IIIC1':'III_or_IV', \n",
    "                  'IVB':'III_or_IV', \n",
    "                  'IIIC2':'III_or_IV', \n",
    "                  'IIIB':'III_or_IV'}\n",
    "\n",
    "annotations['FIGO_stage'] = bf.binarizeCategorical(clinical, \n",
    "                                                   'FIGO_stage', \n",
    "                                                   FIGO_stage_map)"
   ]
  },
  {
   "cell_type": "code",
   "execution_count": 46,
   "metadata": {
    "collapsed": true
   },
   "outputs": [],
   "source": [
    "diabetes_map = {'No':'No', \n",
    "                'Yes':'Yes', \n",
    "                'Unknown':'No'}\n",
    "\n",
    "annotations['Diabetes'] = bf.binarizeCategorical(clinical, \n",
    "                                                 'Diabetes', \n",
    "                                                 diabetes_map)"
   ]
  },
  {
   "cell_type": "code",
   "execution_count": 47,
   "metadata": {
    "collapsed": true
   },
   "outputs": [],
   "source": [
    "race_map = {'White':'White', \n",
    "            'Black or African American':'Not_White', \n",
    "            'Asian':'Not_White', \n",
    "            'Not Reported':'Not_White'}\n",
    "\n",
    "annotations['Race'] = bf.binarizeCategorical(clinical, \n",
    "                                             'Race', \n",
    "                                             race_map)"
   ]
  },
  {
   "cell_type": "code",
   "execution_count": 48,
   "metadata": {
    "collapsed": true
   },
   "outputs": [],
   "source": [
    "ethnicity_map = {'Not-Hispanic or Latino':'Not_Hispanic', \n",
    "                 'Not reported':'Not_Hispanic', \n",
    "                 'Hispanic or Latino':'Hispanic'}\n",
    "\n",
    "annotations['Ethnicity'] = bf.binarizeCategorical(clinical, \n",
    "                                                  'Ethnicity', \n",
    "                                                  ethnicity_map)"
   ]
  },
  {
   "cell_type": "code",
   "execution_count": 49,
   "metadata": {
    "collapsed": true
   },
   "outputs": [],
   "source": [
    "tumor_site_map = {'Other, specify':'Not_Anterior', \n",
    "                  'Anterior endometrium':'Anterior', \n",
    "                  'Posterior endometrium':'Not_Anterior'}\n",
    "\n",
    "annotations['Tumor_Site'] = bf.binarizeCategorical(clinical, \n",
    "                                                   'Tumor_Site', \n",
    "                                                   tumor_site_map)"
   ]
  },
  {
   "cell_type": "code",
   "execution_count": 50,
   "metadata": {
    "collapsed": true
   },
   "outputs": [],
   "source": [
    "annotations['Tumor_Size_cm'] = bf.binarizeCutOff(clinical, \n",
    "                                                'Tumor_Size_cm', 4.0, \n",
    "                                                'Large_tumor', \n",
    "                                                'Small_tumor')"
   ]
  },
  {
   "cell_type": "code",
   "execution_count": 51,
   "metadata": {
    "collapsed": true
   },
   "outputs": [],
   "source": [
    "num_pregnancies_map = {2:'Less_than_3', \n",
    "                       1:'Less_than_3', \n",
    "                       'None':'Less_than_3', \n",
    "                       None:'Less_than_3', \n",
    "                       3:'3_or_more', \n",
    "                       '4 or more':'3_or_more'}\n",
    "\n",
    "annotations['Num_full_term_pregnancies'] = bf.binarizeCategorical(clinical, \n",
    "                                                                  'Num_full_term_pregnancies', \n",
    "                                                                  num_pregnancies_map)"
   ]
  },
  {
   "cell_type": "code",
   "execution_count": 52,
   "metadata": {
    "collapsed": true
   },
   "outputs": [],
   "source": [
    "genomics_map = {'MSI-H':'MSI-H', \n",
    "                'CNV_low':'Other_subtype', \n",
    "                'CNV_high':'Other_subtype', \n",
    "                'POLE':'Other_subtype'}\n",
    "\n",
    "annotations['Genomics_subtype'] = bf.binarizeCategorical(clinical, \n",
    "                                                         'Genomics_subtype', \n",
    "                                                         genomics_map)"
   ]
  },
  {
   "cell_type": "markdown",
   "metadata": {},
   "source": [
    "## Step 3: Perform outliers analysis"
   ]
  },
  {
   "cell_type": "code",
   "execution_count": 53,
   "metadata": {},
   "outputs": [
    {
     "name": "stderr",
     "output_type": "stream",
     "text": [
      "C:\\Users\\Daniel\\AppData\\Local\\conda\\conda\\envs\\Research\\lib\\site-packages\\numpy\\lib\\nanfunctions.py:1354: RuntimeWarning: All-NaN slice encountered\n",
      "  overwrite_input, interpolation)\n"
     ]
    }
   ],
   "source": [
    "outliers_prot = blsh.make_outliers_table(proteomics, iqrs=1.5, \n",
    "                                         up_or_down='up', \n",
    "                                         aggregate=False, \n",
    "                                         frac_table=False)"
   ]
  },
  {
   "cell_type": "markdown",
   "metadata": {},
   "source": [
    "## Step 4: Wrap your A/B test into the outliers analysis, and create a table\n",
    "First for proteomics, and then phosphoproteomics."
   ]
  },
  {
   "cell_type": "code",
   "execution_count": 54,
   "metadata": {},
   "outputs": [
    {
     "name": "stdout",
     "output_type": "stream",
     "text": [
      "No rows had outliers in at least 0.3 of Proteomics_Tumor_Normal Normal_Tumor samples\n",
      "Testing 14 rows for enrichment in Proteomics_Tumor_Normal Other_tumor samples\n",
      "No rows had outliers in at least 0.3 of Country Other samples\n",
      "No rows had outliers in at least 0.3 of Country US samples\n",
      "Testing 2 rows for enrichment in Histologic_Grade_FIGO High_grade samples\n",
      "Testing 1 rows for enrichment in Histologic_Grade_FIGO Low_grade samples\n",
      "No rows had outliers in at least 0.3 of Myometrial_invasion_Specify under_50% samples\n",
      "Testing 7 rows for enrichment in Myometrial_invasion_Specify 50%_or_more samples\n",
      "No rows had outliers in at least 0.3 of Histologic_type Endometrioid samples\n",
      "Testing 626 rows for enrichment in Histologic_type Serous samples\n",
      "No rows had outliers in at least 0.3 of Path_Stage_Primary_Tumor-pT Not_FIGO_III samples\n",
      "Testing 241 rows for enrichment in Path_Stage_Primary_Tumor-pT FIGO_III samples\n",
      "No rows had outliers in at least 0.3 of Path_Stage_Reg_Lymph_Nodes-pN Not_FIGO_III samples\n",
      "Testing 136 rows for enrichment in Path_Stage_Reg_Lymph_Nodes-pN FIGO_III samples\n",
      "No rows had outliers in at least 0.3 of Clin_Stage_Dist_Mets-cM cM0_or_cM1 samples\n",
      "Testing 5 rows for enrichment in Clin_Stage_Dist_Mets-cM Staging_Incomplete samples\n",
      "No rows had outliers in at least 0.3 of Path_Stage_Dist_Mets-pM No_distant_metastasis samples\n",
      "Testing 1396 rows for enrichment in Path_Stage_Dist_Mets-pM Distant_Metastasis samples\n",
      "No rows had outliers in at least 0.3 of tumor_Stage-Pathological Stage_I_or_II samples\n",
      "Testing 6 rows for enrichment in tumor_Stage-Pathological Stage_III_or_IV samples\n",
      "No rows had outliers in at least 0.3 of FIGO_stage I_or_II samples\n",
      "Testing 30 rows for enrichment in FIGO_stage III_or_IV samples\n",
      "No rows had outliers in at least 0.3 of LVSI 0.0 samples\n",
      "Testing 13 rows for enrichment in LVSI 1.0 samples\n",
      "No rows had outliers in at least 0.3 of BMI Unhealthy samples\n",
      "Testing 253 rows for enrichment in BMI Healthy samples\n",
      "No rows had outliers in at least 0.3 of Age Old samples\n",
      "Testing 5 rows for enrichment in Age Young samples\n",
      "No rows had outliers in at least 0.3 of Diabetes No samples\n",
      "Testing 4 rows for enrichment in Diabetes Yes samples\n",
      "No rows had outliers in at least 0.3 of Race White samples\n",
      "Testing 144 rows for enrichment in Race Not_White samples\n",
      "No rows had outliers in at least 0.3 of Ethnicity Not_Hispanic samples\n",
      "Testing 1179 rows for enrichment in Ethnicity Hispanic samples\n",
      "No rows had outliers in at least 0.3 of Tumor_Site Not_Anterior samples\n",
      "Testing 7 rows for enrichment in Tumor_Site Anterior samples\n",
      "No rows had outliers in at least 0.3 of Tumor_Focality Unifocal samples\n",
      "Testing 3 rows for enrichment in Tumor_Focality Multifocal samples\n",
      "No rows had outliers in at least 0.3 of Tumor_Size_cm Small_tumor samples\n",
      "Testing 1 rows for enrichment in Tumor_Size_cm Large_tumor samples\n",
      "Testing 27 rows for enrichment in Num_full_term_pregnancies 3_or_more samples\n",
      "Testing 26 rows for enrichment in Num_full_term_pregnancies Less_than_3 samples\n",
      "No rows had outliers in at least 0.3 of MSI_status MSS samples\n",
      "Testing 12 rows for enrichment in MSI_status MSI-H samples\n",
      "No rows had outliers in at least 0.3 of Genomics_subtype Other_subtype samples\n",
      "Testing 12 rows for enrichment in Genomics_subtype MSI-H samples\n"
     ]
    }
   ],
   "source": [
    "results_prot = blsh.compare_groups_outliers(outliers_prot, \n",
    "                                            annotations)"
   ]
  },
  {
   "cell_type": "markdown",
   "metadata": {},
   "source": [
    "Many of the output values from compare_group_outliers are NaN, so here we will get rid of the NaN values for visualization purposes."
   ]
  },
  {
   "cell_type": "code",
   "execution_count": 55,
   "metadata": {
    "collapsed": true
   },
   "outputs": [],
   "source": [
    "results_prot = results_prot.dropna(axis=0, how='all')"
   ]
  },
  {
   "cell_type": "code",
   "execution_count": 56,
   "metadata": {},
   "outputs": [
    {
     "name": "stdout",
     "output_type": "stream",
     "text": [
      "TESTING FOR PROTEOMICS:\n",
      "14 significant protein enrichments in Proteomics_Tumor_Normal_Other_tumor\n",
      "\n",
      "2 significant protein enrichments in Myometrial_invasion_Specify_50%_or_more\n",
      "\n",
      "412 significant protein enrichments in Histologic_type_Serous\n",
      "\n",
      "1 significant protein enrichment in Path_Stage_Reg_Lymph_Nodes-pN_FIGO_III:\n",
      "\n",
      "8 significant protein enrichments in LVSI_1.0\n",
      "\n",
      "2 significant protein enrichments in Age_Young\n",
      "\n",
      "3 significant protein enrichments in Tumor_Site_Anterior\n",
      "\n",
      "2 significant protein enrichments in Tumor_Focality_Multifocal\n",
      "\n",
      "3 significant protein enrichments in MSI_status_MSI-H\n",
      "\n",
      "3 significant protein enrichments in Genomics_subtype_MSI-H\n",
      "\n"
     ]
    }
   ],
   "source": [
    "print(\"TESTING FOR PROTEOMICS:\")\n",
    "sig_cols = []\n",
    "for col in results_prot.columns:\n",
    "    sig_col = bf.significantEnrichments(results_prot, col, 0.01)\n",
    "    if sig_col is not None and len(sig_col) > 5:\n",
    "        sig_cols.append(sig_col)\n",
    "    else:\n",
    "        results_prot = results_prot.drop(col, axis=1)"
   ]
  },
  {
   "cell_type": "markdown",
   "metadata": {},
   "source": [
    "## Step 5: Visualize these enrichments"
   ]
  },
  {
   "cell_type": "code",
   "execution_count": 57,
   "metadata": {},
   "outputs": [
    {
     "data": {
      "image/png": "[encoded data removed]",
      "text/plain": [
       "<Figure size 468x432 with 2 Axes>"
      ]
     },
     "metadata": {},
     "output_type": "display_data"
    }
   ],
   "source": [
    "sns.heatmap(results_prot)\n",
    "plt.show()"
   ]
  },
  {
   "cell_type": "markdown",
   "metadata": {},
   "source": [
    "## Step 6: Determine significant enrichments, and link with cancer drug database."
   ]
  },
  {
   "cell_type": "code",
   "execution_count": 58,
   "metadata": {},
   "outputs": [
    {
     "name": "stderr",
     "output_type": "stream",
     "text": [
      "2019-08-13 13:08:31,684 Warning: No enrich terms using library KEGG_2019_Human when cutoff = 0.05\n"
     ]
    },
    {
     "name": "stdout",
     "output_type": "stream",
     "text": [
      "           Gene_set                                             Term Overlap  \\\n",
      "0   KEGG_2019_Human                                      Endocytosis   2/244   \n",
      "1   KEGG_2019_Human                    Glycosaminoglycan degradation    1/19   \n",
      "2   KEGG_2019_Human         Pentose and glucuronate interconversions    1/34   \n",
      "3   KEGG_2019_Human                                      Ferroptosis    1/40   \n",
      "4   KEGG_2019_Human             Porphyrin and chlorophyll metabolism    1/42   \n",
      "5   KEGG_2019_Human                               Mineral absorption    1/51   \n",
      "6   KEGG_2019_Human            Regulation of lipolysis in adipocytes    1/55   \n",
      "7   KEGG_2019_Human                  Fc epsilon RI signaling pathway    1/68   \n",
      "8   KEGG_2019_Human                  Adipocytokine signaling pathway    1/69   \n",
      "9   KEGG_2019_Human                           ErbB signaling pathway    1/85   \n",
      "10  KEGG_2019_Human                           GnRH signaling pathway    1/93   \n",
      "11  KEGG_2019_Human                T cell receptor signaling pathway   1/101   \n",
      "12  KEGG_2019_Human             Toll-like receptor signaling pathway   1/104   \n",
      "13  KEGG_2019_Human                                  Drug metabolism   1/108   \n",
      "14  KEGG_2019_Human                            TNF signaling pathway   1/110   \n",
      "15  KEGG_2019_Human                   Neurotrophin signaling pathway   1/119   \n",
      "16  KEGG_2019_Human                                         Lysosome   1/123   \n",
      "17  KEGG_2019_Human                       Osteoclast differentiation   1/127   \n",
      "18  KEGG_2019_Human                        Relaxin signaling pathway   1/130   \n",
      "19  KEGG_2019_Human           Fluid shear stress and atherosclerosis   1/139   \n",
      "20  KEGG_2019_Human                                      Necroptosis   1/162   \n",
      "21  KEGG_2019_Human                                      Hepatitis B   1/163   \n",
      "22  KEGG_2019_Human      Protein processing in endoplasmic reticulum   1/165   \n",
      "23  KEGG_2019_Human                                   Tight junction   1/170   \n",
      "24  KEGG_2019_Human                                      Influenza A   1/171   \n",
      "25  KEGG_2019_Human                                       Alcoholism   1/180   \n",
      "26  KEGG_2019_Human  Kaposi sarcoma-associated herpesvirus infection   1/186   \n",
      "27  KEGG_2019_Human                     Epstein-Barr virus infection   1/201   \n",
      "28  KEGG_2019_Human         Human immunodeficiency virus 1 infection   1/212   \n",
      "29  KEGG_2019_Human                           cAMP signaling pathway   1/212   \n",
      "30  KEGG_2019_Human                           MAPK signaling pathway   1/295   \n",
      "31  KEGG_2019_Human          Neuroactive ligand-receptor interaction   1/338   \n",
      "32  KEGG_2019_Human                 Herpes simplex virus 1 infection   1/492   \n",
      "\n",
      "     P-value  Adjusted P-value  Old P-value  Old Adjusted P-value  Odds Ratio  \\\n",
      "0   0.012246               1.0            0                     0   11.709602   \n",
      "1   0.013222               1.0            0                     0   75.187970   \n",
      "2   0.023546               1.0            0                     0   42.016807   \n",
      "3   0.027648               1.0            0                     0   35.714286   \n",
      "4   0.029011               1.0            0                     0   34.013605   \n",
      "5   0.035125               1.0            0                     0   28.011204   \n",
      "6   0.037831               1.0            0                     0   25.974026   \n",
      "7   0.046577               1.0            0                     0   21.008403   \n",
      "8   0.047246               1.0            0                     0   20.703934   \n",
      "9   0.057902               1.0            0                     0   16.806723   \n",
      "10  0.063188               1.0            0                     0   15.360983   \n",
      "11  0.068447               1.0            0                     0   14.144272   \n",
      "12  0.070412               1.0            0                     0   13.736264   \n",
      "13  0.073026               1.0            0                     0   13.227513   \n",
      "14  0.074330               1.0            0                     0   12.987013   \n",
      "15  0.080179               1.0            0                     0   12.004802   \n",
      "16  0.082767               1.0            0                     0   11.614402   \n",
      "17  0.085349               1.0            0                     0   11.248594   \n",
      "18  0.087280               1.0            0                     0   10.989011   \n",
      "19  0.093053               1.0            0                     0   10.277492   \n",
      "20  0.107652               1.0            0                     0    8.818342   \n",
      "21  0.108281               1.0            0                     0    8.764242   \n",
      "22  0.109540               1.0            0                     0    8.658009   \n",
      "23  0.112678               1.0            0                     0    8.403361   \n",
      "24  0.113304               1.0            0                     0    8.354219   \n",
      "25  0.118924               1.0            0                     0    7.936508   \n",
      "26  0.122652               1.0            0                     0    7.680492   \n",
      "27  0.131908               1.0            0                     0    7.107321   \n",
      "28  0.138638               1.0            0                     0    6.738544   \n",
      "29  0.138638               1.0            0                     0    6.738544   \n",
      "30  0.187879               1.0            0                     0    4.842615   \n",
      "31  0.212349               1.0            0                     0    4.226543   \n",
      "32  0.294481               1.0            0                     0    2.903600   \n",
      "\n",
      "    Combined Score      Genes  \n",
      "0        51.551753  EHD4;RBSN  \n",
      "1       325.251722       GUSB  \n",
      "2       157.512231       GUSB  \n",
      "3       128.150601       FTH1  \n",
      "4       120.410705       GUSB  \n",
      "5        93.804869       FTH1  \n",
      "6        85.055098        NPY  \n",
      "7        64.425482     MAP2K7  \n",
      "8        63.196222        NPY  \n",
      "9        47.882415     MAP2K7  \n",
      "10       42.421483     MAP2K7  \n",
      "11       37.930681     MAP2K7  \n",
      "12       36.447753     MAP2K7  \n",
      "13       34.615688       GUSB  \n",
      "14       33.756385     MAP2K7  \n",
      "15       30.294105     MAP2K7  \n",
      "16       28.939913       GUSB  \n",
      "17       27.682922     MAP2K7  \n",
      "18       26.798134     MAP2K7  \n",
      "19       24.404796     MAP2K7  \n",
      "20       19.654813       FTH1  \n",
      "21       19.483111     MAP2K7  \n",
      "22       19.146925     MAP2K7  \n",
      "23       18.346400     MAP2K7  \n",
      "24       18.192793     MAP2K7  \n",
      "25       16.898974        NPY  \n",
      "26       16.116776     MAP2K7  \n",
      "27       14.396947     MAP2K7  \n",
      "28       13.314614     MAP2K7  \n",
      "29       13.314614        NPY  \n",
      "30        8.096649     MAP2K7  \n",
      "31        6.549136        NPY  \n",
      "32        3.549774     ZNF605  \n",
      "            Gene_set                                         Term Overlap  \\\n",
      "0    KEGG_2019_Human            Ribosome biogenesis in eukaryotes  20/101   \n",
      "1    KEGG_2019_Human                                  Spliceosome  21/134   \n",
      "2    KEGG_2019_Human                    mRNA surveillance pathway   13/91   \n",
      "3    KEGG_2019_Human                                RNA transport  17/165   \n",
      "4    KEGG_2019_Human                     Hepatocellular carcinoma  14/168   \n",
      "5    KEGG_2019_Human                               RNA polymerase    5/31   \n",
      "6    KEGG_2019_Human               Ubiquitin mediated proteolysis   9/137   \n",
      "7    KEGG_2019_Human            Thyroid hormone signaling pathway   7/116   \n",
      "8    KEGG_2019_Human                              Mismatch repair    3/23   \n",
      "9    KEGG_2019_Human                            Pancreatic cancer    5/75   \n",
      "10   KEGG_2019_Human                               Thyroid cancer    3/37   \n",
      "11   KEGG_2019_Human                Cytosolic DNA-sensing pathway    4/63   \n",
      "12   KEGG_2019_Human                        Wnt signaling pathway   7/158   \n",
      "13   KEGG_2019_Human                 NF-kappa B signaling pathway    5/95   \n",
      "14   KEGG_2019_Human                               Bladder cancer    3/41   \n",
      "15   KEGG_2019_Human  Protein processing in endoplasmic reticulum   7/165   \n",
      "16   KEGG_2019_Human                            Adherens junction    4/72   \n",
      "17   KEGG_2019_Human                                  Influenza A   7/171   \n",
      "18   KEGG_2019_Human                                      Measles   6/138   \n",
      "19   KEGG_2019_Human         Other types of O-glycan biosynthesis    2/22   \n",
      "20   KEGG_2019_Human                                      Malaria    3/49   \n",
      "21   KEGG_2019_Human      Biosynthesis of unsaturated fatty acids    2/27   \n",
      "22   KEGG_2019_Human                           Lysine degradation    3/59   \n",
      "23   KEGG_2019_Human                                    Mitophagy    3/65   \n",
      "24   KEGG_2019_Human                   Non-small cell lung cancer    3/66   \n",
      "25   KEGG_2019_Human                 Longevity regulating pathway   4/102   \n",
      "26   KEGG_2019_Human  Alanine, aspartate and glutamate metabolism    2/35   \n",
      "27   KEGG_2019_Human                        p53 signaling pathway    3/72   \n",
      "28   KEGG_2019_Human     Glycine, serine and threonine metabolism    2/40   \n",
      "29   KEGG_2019_Human                                Thermogenesis   7/231   \n",
      "..               ...                                          ...     ...   \n",
      "129  KEGG_2019_Human                   Hematopoietic cell lineage    1/97   \n",
      "130  KEGG_2019_Human                         Pancreatic secretion    1/98   \n",
      "131  KEGG_2019_Human                 Choline metabolism in cancer    1/99   \n",
      "132  KEGG_2019_Human                      HIF-1 signaling pathway   1/100   \n",
      "133  KEGG_2019_Human            T cell receptor signaling pathway   1/101   \n",
      "134  KEGG_2019_Human                                Melanogenesis   1/101   \n",
      "135  KEGG_2019_Human                                Axon guidance   2/181   \n",
      "136  KEGG_2019_Human                    Th17 cell differentiation   1/107   \n",
      "137  KEGG_2019_Human                        TNF signaling pathway   1/110   \n",
      "138  KEGG_2019_Human                    Calcium signaling pathway   2/188   \n",
      "139  KEGG_2019_Human         Leukocyte transendothelial migration   1/112   \n",
      "140  KEGG_2019_Human                           Huntington disease   2/193   \n",
      "141  KEGG_2019_Human               Sphingolipid signaling pathway   1/119   \n",
      "142  KEGG_2019_Human                          Platelet activation   1/124   \n",
      "143  KEGG_2019_Human                            Purine metabolism   1/129   \n",
      "144  KEGG_2019_Human     Human immunodeficiency virus 1 infection   2/212   \n",
      "145  KEGG_2019_Human    Natural killer cell mediated cytotoxicity   1/131   \n",
      "146  KEGG_2019_Human                   PI3K-Akt signaling pathway   4/354   \n",
      "147  KEGG_2019_Human                       FoxO signaling pathway   1/132   \n",
      "148  KEGG_2019_Human             Herpes simplex virus 1 infection   6/492   \n",
      "149  KEGG_2019_Human                    Insulin signaling pathway   1/137   \n",
      "150  KEGG_2019_Human       Cytokine-cytokine receptor interaction   3/294   \n",
      "151  KEGG_2019_Human              Human cytomegalovirus infection   2/225   \n",
      "152  KEGG_2019_Human                        Ras signaling pathway   2/232   \n",
      "153  KEGG_2019_Human                       mTOR signaling pathway   1/152   \n",
      "154  KEGG_2019_Human                   Oxytocin signaling pathway   1/153   \n",
      "155  KEGG_2019_Human                   cGMP-PKG signaling pathway   1/166   \n",
      "156  KEGG_2019_Human                                 Tuberculosis   1/179   \n",
      "157  KEGG_2019_Human                       Rap1 signaling pathway   1/206   \n",
      "158  KEGG_2019_Human                                  Endocytosis   1/244   \n",
      "\n",
      "          P-value  Adjusted P-value  Old P-value  Old Adjusted P-value  \\\n",
      "0    1.734349e-14      5.341794e-12            0                     0   \n",
      "1    4.867850e-13      7.496489e-11            0                     0   \n",
      "2    4.457407e-08      4.576271e-06            0                     0   \n",
      "3    5.744773e-08      4.423475e-06            0                     0   \n",
      "4    1.049896e-05      6.467360e-04            0                     0   \n",
      "5    3.954894e-04      2.030179e-02            0                     0   \n",
      "6    2.160703e-03      9.507094e-02            0                     0   \n",
      "7    1.023745e-02      3.941419e-01            0                     0   \n",
      "8    1.131754e-02      3.873115e-01            0                     0   \n",
      "9    1.926734e-02      5.934341e-01            0                     0   \n",
      "10   4.023428e-02      1.000000e+00            0                     0   \n",
      "11   4.084921e-02      1.000000e+00            0                     0   \n",
      "12   4.553337e-02      1.000000e+00            0                     0   \n",
      "13   4.660759e-02      1.000000e+00            0                     0   \n",
      "14   5.201160e-02      1.000000e+00            0                     0   \n",
      "15   5.508553e-02      1.000000e+00            0                     0   \n",
      "16   6.126004e-02      1.000000e+00            0                     0   \n",
      "17   6.419780e-02      1.000000e+00            0                     0   \n",
      "18   6.621038e-02      1.000000e+00            0                     0   \n",
      "19   7.460095e-02      1.000000e+00            0                     0   \n",
      "20   7.987912e-02      1.000000e+00            0                     0   \n",
      "21   1.060989e-01      1.000000e+00            0                     0   \n",
      "22   1.218001e-01      1.000000e+00            0                     0   \n",
      "23   1.500627e-01      1.000000e+00            0                     0   \n",
      "24   1.549635e-01      1.000000e+00            0                     0   \n",
      "25   1.593514e-01      1.000000e+00            0                     0   \n",
      "26   1.620024e-01      1.000000e+00            0                     0   \n",
      "27   1.853426e-01      1.000000e+00            0                     0   \n",
      "28   1.991056e-01      1.000000e+00            0                     0   \n",
      "29   2.006142e-01      1.000000e+00            0                     0   \n",
      "..            ...               ...          ...                   ...   \n",
      "129  8.678703e-01      1.000000e+00            0                     0   \n",
      "130  8.706054e-01      1.000000e+00            0                     0   \n",
      "131  8.732840e-01      1.000000e+00            0                     0   \n",
      "132  8.759073e-01      1.000000e+00            0                     0   \n",
      "133  8.784764e-01      1.000000e+00            0                     0   \n",
      "134  8.784764e-01      1.000000e+00            0                     0   \n",
      "135  8.900098e-01      1.000000e+00            0                     0   \n",
      "136  8.928143e-01      1.000000e+00            0                     0   \n",
      "137  8.993372e-01      1.000000e+00            0                     0   \n",
      "138  9.021109e-01      1.000000e+00            0                     0   \n",
      "139  9.034643e-01      1.000000e+00            0                     0   \n",
      "140  9.099824e-01      1.000000e+00            0                     0   \n",
      "141  9.166242e-01      1.000000e+00            0                     0   \n",
      "142  9.249132e-01      1.000000e+00            0                     0   \n",
      "143  9.323799e-01      1.000000e+00            0                     0   \n",
      "144  9.348027e-01      1.000000e+00            0                     0   \n",
      "145  9.351548e-01      1.000000e+00            0                     0   \n",
      "146  9.358532e-01      1.000000e+00            0                     0   \n",
      "147  9.364994e-01      1.000000e+00            0                     0   \n",
      "148  9.419269e-01      1.000000e+00            0                     0   \n",
      "149  9.428164e-01      1.000000e+00            0                     0   \n",
      "150  9.435540e-01      1.000000e+00            0                     0   \n",
      "151  9.478909e-01      1.000000e+00            0                     0   \n",
      "152  9.538613e-01      1.000000e+00            0                     0   \n",
      "153  9.582472e-01      1.000000e+00            0                     0   \n",
      "154  9.591138e-01      1.000000e+00            0                     0   \n",
      "155  9.688747e-01      1.000000e+00            0                     0   \n",
      "156  9.763095e-01      1.000000e+00            0                     0   \n",
      "157  9.865680e-01      1.000000e+00            0                     0   \n",
      "158  9.939635e-01      1.000000e+00            0                     0   \n",
      "\n",
      "     Odds Ratio  Combined Score  \\\n",
      "0      9.612612      304.580979   \n",
      "1      7.607593      215.682521   \n",
      "2      6.934813      117.379428   \n",
      "3      5.001471       83.386477   \n",
      "4      4.045307       46.376352   \n",
      "5      7.829627       61.348157   \n",
      "6      3.189001       19.571927   \n",
      "7      2.929361       13.421459   \n",
      "8      6.331786       28.375271   \n",
      "9      3.236246       12.781048   \n",
      "10     3.935975       12.646428   \n",
      "11     3.082139        9.856273   \n",
      "12     2.150670        6.644085   \n",
      "13     2.554931        7.833398   \n",
      "14     3.551977       10.500670   \n",
      "15     2.059429        5.970014   \n",
      "16     2.696872        7.531358   \n",
      "17     1.987169        5.456340   \n",
      "18     2.110595        5.730093   \n",
      "19     4.413063       11.454554   \n",
      "20     2.972063        7.511118   \n",
      "21     3.595829        8.066823   \n",
      "22     2.468323        5.196743   \n",
      "23     2.240478        4.249519   \n",
      "24     2.206531        4.114223   \n",
      "25     1.903674        3.496371   \n",
      "26     2.773925        5.048943   \n",
      "27     2.022654        3.409283   \n",
      "28     2.427184        3.917281   \n",
      "29     1.471021        2.363006   \n",
      "..          ...             ...   \n",
      "129    0.500450        0.070920   \n",
      "130    0.495344        0.068638   \n",
      "131    0.490340        0.066438   \n",
      "132    0.485437        0.064318   \n",
      "133    0.480631        0.062273   \n",
      "134    0.480631        0.062273   \n",
      "135    0.536394        0.062502   \n",
      "136    0.453679        0.051437   \n",
      "137    0.441306        0.046821   \n",
      "138    0.516422        0.053201   \n",
      "139    0.433426        0.044001   \n",
      "140    0.503043        0.047452   \n",
      "141    0.407930        0.035513   \n",
      "142    0.391481        0.030557   \n",
      "143    0.376308        0.026347   \n",
      "144    0.457959        0.030876   \n",
      "145    0.370563        0.024844   \n",
      "146    0.548516        0.036365   \n",
      "147    0.367755        0.024127   \n",
      "148    0.591996        0.035418   \n",
      "149    0.354333        0.020864   \n",
      "150    0.495344        0.028780   \n",
      "151    0.431499        0.023092   \n",
      "152    0.418480        0.019768   \n",
      "153    0.319366        0.013621   \n",
      "154    0.317279        0.013245   \n",
      "155    0.292432        0.009247   \n",
      "156    0.271194        0.006502   \n",
      "157    0.235649        0.003187   \n",
      "158    0.198950        0.001205   \n",
      "\n",
      "                                                 Genes  \n",
      "0    NOP58;UTP6;CSNK2A1;UTP4;WDR3;RPP40;HEATR1;WDR7...  \n",
      "1    SF3B4;TCERG1;AQR;RBM25;SF3B2;EIF4A3;DDX23;PRPF...  \n",
      "2    UPF2;UPF1;SMG1;RNGTT;CPSF1;RNMT;CPSF3;EIF4A3;C...  \n",
      "3    UPF2;UPF1;GEMIN2;EIF4A3;RPP40;NUP153;CASC3;SEN...  \n",
      "4    SMARCE1;SMARCD1;SMARCC1;SMARCB1;PHF10;CDKN2A;A...  \n",
      "5                   POLR3A;POLR3B;POLR2B;POLR3C;POLR3E  \n",
      "6    UBE2C;UBE2S;FBXO2;UBR5;KEAP1;UBE2J2;SAE1;PRPF1...  \n",
      "7              MED12;MED1;MED14;MED24;STAT1;TP53;MED17  \n",
      "8                                       MSH6;RFC4;MSH2  \n",
      "9                       STAT1;CDKN2A;ERBB2;TP53;BCL2L1  \n",
      "10                                     PAX8;CCDC6;TP53  \n",
      "11                         POLR3A;POLR3B;POLR3C;POLR3E  \n",
      "12         SFRP2;CSNK2A1;TBL1XR1;CHD8;WNT7A;SENP2;TP53  \n",
      "13                     CD40;VCAM1;CSNK2A1;PARP1;BCL2L1  \n",
      "14                                   CDKN2A;ERBB2;TP53  \n",
      "15      GANAB;NPLOC4;FBXO2;EIF2AK2;UBE2J2;PDIA6;HSPBP1  \n",
      "16                         CSNK2A1;ERBB2;WASF1;NECTIN3  \n",
      "17          NXF1;XPO1;STAT1;STAT2;TNFSF10;EIF2AK2;RAE1  \n",
      "18             CSNK2A1;STAT1;STAT2;EIF2AK2;TP53;BCL2L1  \n",
      "19                                     POFUT1;COLGALT1  \n",
      "20                                    CD40;VCAM1;THBS2  \n",
      "21                                         ACOT7;FADS1  \n",
      "22                                EHMT2;KMT2B;COLGALT1  \n",
      "23                                 CSNK2A1;TP53;BCL2L1  \n",
      "24                                   CDKN2A;ERBB2;TP53  \n",
      "25                             EHMT2;RB1CC1;ATG13;TP53  \n",
      "26                                           CAD;NAT8L  \n",
      "27                                  CDKN2A;TP53;BCL2L1  \n",
      "28                                            GLDC;CBS  \n",
      "29   SMARCE1;SMARCD1;SMARCC1;SMARCB1;ACTL6A;ARID1A;...  \n",
      "..                                                 ...  \n",
      "129                                               CD38  \n",
      "130                                               CD38  \n",
      "131                                              WASF1  \n",
      "132                                              ERBB2  \n",
      "133                                               PAK2  \n",
      "134                                              WNT7A  \n",
      "135                                         L1CAM;PAK2  \n",
      "136                                              STAT1  \n",
      "137                                              VCAM1  \n",
      "138                                         ERBB2;CD38  \n",
      "139                                              VCAM1  \n",
      "140                                        POLR2B;TP53  \n",
      "141                                               TP53  \n",
      "142                                              PRKCI  \n",
      "143                                               GMPS  \n",
      "144                                        PAK2;BCL2L1  \n",
      "145                                            TNFSF10  \n",
      "146                            ERBB2;THBS2;TP53;BCL2L1  \n",
      "147                                            TNFSF10  \n",
      "148               NXF1;STAT1;STAT2;EIF2AK2;TP53;BCL2L1  \n",
      "149                                              PRKCI  \n",
      "150                                 CD40;TNFSF10;INHBA  \n",
      "151                                        CDKN2A;TP53  \n",
      "152                                        PAK2;BCL2L1  \n",
      "153                                              WNT7A  \n",
      "154                                               CD38  \n",
      "155                                           GTF2IRD1  \n",
      "156                                              STAT1  \n",
      "157                                              PRKCI  \n",
      "158                                              PRKCI  \n",
      "\n"
     ]
    },
    {
     "name": "stdout",
     "output_type": "stream",
     "text": [
      "[159 rows x 10 columns]\n"
     ]
    },
    {
     "name": "stderr",
     "output_type": "stream",
     "text": [
      "2019-08-13 13:08:37,860 Warning: No enrich terms using library KEGG_2019_Human when cutoff = 0.05\n"
     ]
    },
    {
     "name": "stdout",
     "output_type": "stream",
     "text": [
      "          Gene_set                                      Term Overlap  \\\n",
      "0  KEGG_2019_Human   Glyoxylate and dicarboxylate metabolism    1/30   \n",
      "1  KEGG_2019_Human  Glycine, serine and threonine metabolism    1/40   \n",
      "2  KEGG_2019_Human                             RNA transport   1/165   \n",
      "\n",
      "    P-value  Adjusted P-value  Old P-value  Old Adjusted P-value  Odds Ratio  \\\n",
      "0  0.011939               1.0            0                     0   83.333333   \n",
      "1  0.015891               1.0            0                     0   62.500000   \n",
      "2  0.064136               1.0            0                     0   15.151515   \n",
      "\n",
      "   Combined Score Genes  \n",
      "0      368.994341  GLDC  \n",
      "1      258.874854  GLDC  \n",
      "2       41.617414  XPO5  \n"
     ]
    }
   ],
   "source": [
    "for col in sig_cols:\n",
    "    col_name = col.columns[0]\n",
    "    gene_name_list = list(col.index)\n",
    "    enrichment = gp.enrichr(gene_list = gene_name_list, \n",
    "                            description=col_name, \n",
    "                            gene_sets='KEGG_2019_Human',\n",
    "                            outdir='test/endometrial')\n",
    "    print(enrichment.res2d)\n",
    "    barplot(enrichment.res2d, title=col_name)"
   ]
  }
 ],
 "metadata": {
  "kernelspec": {
   "display_name": "Python 3",
   "language": "python",
   "name": "python3"
  },
  "language_info": {
   "codemirror_mode": {
    "name": "ipython",
    "version": 3
   },
   "file_extension": ".py",
   "mimetype": "text/x-python",
   "name": "python",
   "nbconvert_exporter": "python",
   "pygments_lexer": "ipython3",
   "version": "3.6.2"
  }
 },
 "nbformat": 4,
 "nbformat_minor": 2
}
