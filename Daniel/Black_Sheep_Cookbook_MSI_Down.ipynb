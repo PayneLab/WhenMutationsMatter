{
 "cells": [
  {
   "cell_type": "markdown",
   "metadata": {},
   "source": [
    "## BlackSheep Cookbook MSI Down Regulation\n",
    "\n",
    "The Black Sheep Analysis allows researchers to find trends in abnormal protein enrichment among patients in CPTAC datasets. In this Cookbook, we will go through the steps needed to perform a full Black Sheep Analysis, to answer a research question, of if BMI, age, or country of origin play a role in protein enrichments for patients with Endometrial Cancer."
   ]
  },
  {
   "cell_type": "markdown",
   "metadata": {},
   "source": [
    "### Step 1a: Import Dependencies\n",
    "First, import the necessary dependencies and install cptac through pip."
   ]
  },
  {
   "cell_type": "code",
   "execution_count": 17,
   "metadata": {},
   "outputs": [
    {
     "data": {
      "text/plain": [
       "<module 'blackSheepCPTACmoduleCopy' from 'C:\\\\Users\\\\Daniel\\\\Documents\\\\GitHub\\\\WhenMutationsMatter\\\\Daniel\\\\blackSheepCPTACmoduleCopy.py'>"
      ]
     },
     "execution_count": 17,
     "metadata": {},
     "output_type": "execute_result"
    }
   ],
   "source": [
    "import numpy as np\n",
    "import pandas as pd\n",
    "import matplotlib.pyplot as plt\n",
    "import seaborn as sns\n",
    "import cptac\n",
    "import binarization_functions as bf\n",
    "import blackSheepCPTACmoduleCopy as blsh\n",
    "import importlib\n",
    "importlib.reload(bf)\n",
    "importlib.reload(blsh)"
   ]
  },
  {
   "cell_type": "markdown",
   "metadata": {},
   "source": [
    "## Step 1b: Load Data and Choose Omics Table"
   ]
  },
  {
   "cell_type": "code",
   "execution_count": 4,
   "metadata": {},
   "outputs": [
    {
     "name": "stdout",
     "output_type": "stream",
     "text": [
      "Checking that data files are up-to-date...\n",
      "100% [..................................................................................] 649 / 649\n",
      "Data check complete.\n",
      "endometrial data version: 2.1\n",
      "\n",
      "Loading acetylproteomics data...\n",
      "Loading clinical data...\n",
      "Loading CNA data...\n",
      "Loading definitions data...\n",
      "Loading miRNA data...\n",
      "Loading phosphoproteomics_gene data...\n",
      "Loading phosphoproteomics_site data...\n",
      "Loading proteomics data...\n",
      "Loading somatic data...\n",
      "Loading somatic_binary data...\n",
      "Loading transcriptomics_circular data...\n",
      "Loading transcriptomics_linear data...\n",
      "\n",
      " ******PLEASE READ******\n",
      "WARNING: This data is under a publication embargo until July 1, 2019.\n",
      "CPTAC is a community resource project and data are made available\n",
      "rapidly after generation for community research use. The embargo\n",
      "allows exploring and utilizing the data, but analysis may not be\n",
      "published until July 1, 2019. Please see\n",
      "https://proteomics.cancer.gov/data-portal/about/data-use-agreement or\n",
      "enter cptac.embargo() to open the webpage for more details.\n"
     ]
    }
   ],
   "source": [
    "en = cptac.Endometrial()\n",
    "proteomics = en.get_proteomics()\n",
    "phospho = en.get_phosphoproteomics()\n",
    "transcriptomics = en.get_transcriptomics()\n",
    "clinical = en.get_clinical()"
   ]
  },
  {
   "cell_type": "code",
   "execution_count": 5,
   "metadata": {},
   "outputs": [
    {
     "name": "stdout",
     "output_type": "stream",
     "text": [
      "CNV_low     43\n",
      "MSI-H       25\n",
      "CNV_high    20\n",
      "POLE         7\n",
      "Name: Genomics_subtype, dtype: int64\n"
     ]
    }
   ],
   "source": [
    "#Append Genomics_subtype and MSI_status to en.get_clinical()\n",
    "df= en.get_derived_molecular()\n",
    "clinical['Genomics_subtype'] = df['Genomics_subtype']\n",
    "clinical['MSI_status'] = df['MSI_status']\n",
    "print(clinical['Genomics_subtype'].value_counts())"
   ]
  },
  {
   "cell_type": "markdown",
   "metadata": {},
   "source": [
    "## Step 2: Determine what attributes you would like to A/B test. \n",
    "For this analysis, we will be testing MSI_status versus BMI in the proteomics dataset, and Histologic_type versus Age in the phosphoproteomics dataset."
   ]
  },
  {
   "cell_type": "code",
   "execution_count": 20,
   "metadata": {
    "collapsed": true
   },
   "outputs": [],
   "source": [
    "#Create a subset copy of the original Clinical DataFrame for MSI.\n",
    "annotations = pd.DataFrame(clinical['MSI_status'].copy())"
   ]
  },
  {
   "cell_type": "markdown",
   "metadata": {},
   "source": [
    "## Step 3: Perform outliers analysis"
   ]
  },
  {
   "cell_type": "code",
   "execution_count": 31,
   "metadata": {},
   "outputs": [
    {
     "name": "stderr",
     "output_type": "stream",
     "text": [
      "C:\\Users\\Daniel\\AppData\\Local\\conda\\conda\\envs\\Research\\lib\\site-packages\\numpy\\lib\\nanfunctions.py:1354: RuntimeWarning: All-NaN slice encountered\n",
      "  overwrite_input, interpolation)\n"
     ]
    }
   ],
   "source": [
    "outliers_prot = blsh.make_outliers_table(proteomics, iqrs=1.5, \n",
    "                                         up_or_down='down', \n",
    "                                         aggregate=False, \n",
    "                                         frac_table=False)\n",
    "\n",
    "outliers_transcript = blsh.make_outliers_table(transcriptomics, iqrs=1.5, \n",
    "                                               up_or_down='down', \n",
    "                                               aggregate=False, \n",
    "                                               frac_table=False)"
   ]
  },
  {
   "cell_type": "markdown",
   "metadata": {},
   "source": [
    "## Step 4: Wrap your A/B test into the outliers analysis, and create a table"
   ]
  },
  {
   "cell_type": "code",
   "execution_count": 32,
   "metadata": {},
   "outputs": [
    {
     "name": "stdout",
     "output_type": "stream",
     "text": [
      "Testing for proteomics dataset\n",
      "\n",
      "No rows had outliers in at least 0.3 of MSI_status MSS samples\n",
      "Testing 10 rows for enrichment in MSI_status MSI-H samples\n",
      "\n",
      "Testing for transcriptomics dataset\n",
      "\n",
      "No rows had outliers in at least 0.3 of MSI_status MSS samples\n",
      "Testing 39 rows for enrichment in MSI_status MSI-H samples\n"
     ]
    }
   ],
   "source": [
    "#Potentially show the the name of the dataset we're working with.\n",
    "print(\"Testing for proteomics dataset\\n\")\n",
    "results_prot = blsh.compare_groups_outliers(outliers_prot, \n",
    "                                            annotations)\n",
    "\n",
    "print(\"\\nTesting for transcriptomics dataset\\n\")\n",
    "results_transcript = blsh.compare_groups_outliers(outliers_transcript, \n",
    "                                                  annotations)"
   ]
  },
  {
   "cell_type": "markdown",
   "metadata": {},
   "source": [
    "## Step 5: Visualize these enrichments"
   ]
  },
  {
   "cell_type": "code",
   "execution_count": 33,
   "metadata": {},
   "outputs": [
    {
     "data": {
      "image/png": "[encoded data removed]",
      "text/plain": [
       "<Figure size 432x288 with 2 Axes>"
      ]
     },
     "metadata": {},
     "output_type": "display_data"
    }
   ],
   "source": [
    "sns.heatmap(results_prot)\n",
    "plt.show()"
   ]
  },
  {
   "cell_type": "code",
   "execution_count": 34,
   "metadata": {},
   "outputs": [
    {
     "data": {
      "image/png": "[encoded data removed]",
      "text/plain": [
       "<Figure size 432x288 with 2 Axes>"
      ]
     },
     "metadata": {},
     "output_type": "display_data"
    }
   ],
   "source": [
    "sns.heatmap(results_transcript)\n",
    "plt.show()"
   ]
  },
  {
   "cell_type": "markdown",
   "metadata": {},
   "source": [
    "## Step 6: Determine significant enrichments, and link with cancer drug database."
   ]
  },
  {
   "cell_type": "code",
   "execution_count": 35,
   "metadata": {},
   "outputs": [
    {
     "name": "stdout",
     "output_type": "stream",
     "text": [
      "10 significant protein enrichments in MSI_status_MSI-H\n",
      "\n",
      "35 significant protein enrichments in MSI_status_MSI-H\n",
      "\n"
     ]
    }
   ],
   "source": [
    "#Check for significant columns in proteomics\n",
    "for col in results_prot.columns:\n",
    "    bf.significantEnrichments(results_prot, col)\n",
    "\n",
    "#Check for significant columns in proteomics\n",
    "for col in results_transcript.columns:\n",
    "    bf.significantEnrichments(results_transcript, col)"
   ]
  },
  {
   "cell_type": "code",
   "execution_count": 36,
   "metadata": {},
   "outputs": [
    {
     "name": "stdout",
     "output_type": "stream",
     "text": [
      "10 significant protein enrichments in MSI_status_MSI-H\n",
      "\n",
      "35 significant protein enrichments in MSI_status_MSI-H\n",
      "\n"
     ]
    }
   ],
   "source": [
    "#Store the dataframe of significant enrichments\n",
    "column = 'MSI_status_MSI-H_enrichment_FDR'\n",
    "sig_results_prot = bf.significantEnrichments(results_prot, column)\n",
    "sig_results_transcript = bf.significantEnrichments(results_transcript, column)"
   ]
  },
  {
   "cell_type": "markdown",
   "metadata": {},
   "source": [
    "As mentioned in our paper, we see a significant down regulation in MLH1 and EPM2AIP1 in both protein and mRNA levels for patients with MSI-High status."
   ]
  },
  {
   "cell_type": "code",
   "execution_count": 37,
   "metadata": {},
   "outputs": [
    {
     "name": "stdout",
     "output_type": "stream",
     "text": [
      "True\n",
      "True\n",
      "True\n",
      "True\n"
     ]
    }
   ],
   "source": [
    "print('MLH1' in sig_results_prot.index)\n",
    "print('EPM2AIP1' in sig_results_prot.index)\n",
    "print('MLH1' in sig_results_transcript.index)\n",
    "print('EPM2AIP1' in sig_results_transcript.index)"
   ]
  },
  {
   "cell_type": "markdown",
   "metadata": {},
   "source": [
    "Additionally, PMS1 and PMS2, which are two binding partners of MLH1, are downregulated at the protein level (not mRNA)"
   ]
  },
  {
   "cell_type": "code",
   "execution_count": 38,
   "metadata": {},
   "outputs": [
    {
     "name": "stdout",
     "output_type": "stream",
     "text": [
      "True\n",
      "False\n",
      "True\n",
      "False\n"
     ]
    }
   ],
   "source": [
    "print('PMS1' in sig_results_prot.index)\n",
    "print('PMS1' in sig_results_transcript.index)\n",
    "print('PMS2' in sig_results_prot.index)\n",
    "print('PMS2' in sig_results_transcript.index)"
   ]
  }
 ],
 "metadata": {
  "kernelspec": {
   "display_name": "Python 3",
   "language": "python",
   "name": "python3"
  },
  "language_info": {
   "codemirror_mode": {
    "name": "ipython",
    "version": 3
   },
   "file_extension": ".py",
   "mimetype": "text/x-python",
   "name": "python",
   "nbconvert_exporter": "python",
   "pygments_lexer": "ipython3",
   "version": "3.6.2"
  }
 },
 "nbformat": 4,
 "nbformat_minor": 2
}
