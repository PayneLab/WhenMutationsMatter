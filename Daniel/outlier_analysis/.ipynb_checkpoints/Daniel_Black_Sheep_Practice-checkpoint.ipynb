{
 "cells": [
  {
   "cell_type": "code",
   "execution_count": null,
   "metadata": {},
   "outputs": [],
   "source": [
    "# Import blackSheepCPTACmodule and cptac data\n",
    "\n",
    "import pandas as pd, numpy as np, seaborn as sns, matplotlib.pyplot as plt, sys\n",
    "sys.path.insert(0, \"/Users/lili/dropbox_lili/common_functions/outlier_analysis/\")\n",
    "import blackSheepCPTACmodule as ol\n",
    "import importlib\n",
    "importlib.reload(ol)\n",
    "import cptac.endometrial as en"
   ]
  },
  {
   "cell_type": "code",
   "execution_count": null,
   "metadata": {},
   "outputs": [],
   "source": [
    "# Get data\n",
    "transcriptomics = en.get_transcriptomics()\n",
    "clinical = en.get_clinical()\n",
    "\n",
    "# Check to see what options are in the clinical dataset\n",
    "print(clinical.columns)"
   ]
  },
  {
   "cell_type": "code",
   "execution_count": null,
   "metadata": {
    "collapsed": true
   },
   "outputs": [],
   "source": [
    "# Create subset of clinical dataset to test for trends\n",
    "annotations = clinical[['Ethnicity','Diabetes', 'BMI']]"
   ]
  },
  {
   "cell_type": "code",
   "execution_count": null,
   "metadata": {},
   "outputs": [],
   "source": [
    "# Test of the make_outliers_table function to create a table of outliers\n",
    "# in the transcriptomics data.\n",
    "outliers = ol.make_outliers_table(transcriptomics, iqrs=2.0, \n",
    "                                  up_or_down='up', aggregate=False, \n",
    "                                  frac_table=False)\n",
    "\n",
    "results = ol.compare_groups_outliers(outliers, annotations, frac_filter=.1)\n",
    "results"
   ]
  },
  {
   "cell_type": "code",
   "execution_count": null,
   "metadata": {},
   "outputs": [],
   "source": [
    "binary_columns = clinical[['Age', 'Race', 'BMI', 'Diabetes']]"
   ]
  },
  {
   "cell_type": "code",
   "execution_count": null,
   "metadata": {},
   "outputs": [],
   "source": [
    "# Version 5: Probably the best version so far since not everything is done in one function\n",
    "# Works for Age, Race and BMI as expected. Functions\n",
    "\n",
    "def binarizeCutOff(my_list, cut_off, replace_low, replace_high):\n",
    "    return [ replace_low if (x < cut_off) else replace_high if x >= cut_off else x for x in my_list ]\n",
    "\n",
    "def binarizeRange(my_list, low_bar, high_bar, in_range='In_Range', out_of_range='Out_Of_Range'):\n",
    "    return [ in_range if (x > low_bar and x < high_bar) else out_of_range  \n",
    "            if (x < low_bar or x > high_bar) else x for x in my_list ]\n",
    "\n",
    "'''\n",
    "I think this binarizeCategorical should work just fine, but for \n",
    "whatever reason, it keeps returning 'x' where it should return np.nan\n",
    "'''\n",
    "\n",
    "def binarizeCategorical(my_list, option1, option1_list, option2):\n",
    "    return [ option1 if (x in option1_list) else x if (x == np.nan) else option2 for x in my_list ]\n",
    "    #return [ option1 if (x in option1_list) else option2 if (x not in option1_list and x != np.nan) else x for x in my_list ]\n",
    "\n",
    "def binarizeCategoricalV2(my_list, option1, option1_list, option2, option2_list):\n",
    "    return [ option1 if (x in option1_list) else option2 if (x in option2_list) else x for x in my_list ]"
   ]
  },
  {
   "cell_type": "code",
   "execution_count": null,
   "metadata": {
    "collapsed": true
   },
   "outputs": [],
   "source": [
    "# Example Uses for the functions one at a time\n",
    "'''\n",
    "BMI: new_df['BMI'] = binarizeRange(binary_columns['BMI'], 18.5, 2)\n",
    "Age: new_df['Age'] = binarizeCutOff(binary_columns['Age'], 50 , 'Young', 'Old')\n",
    "Race: new_df['Race'] = binarizeCategorical(binary_columns['Race'], 'European', ['White'], 'Not_European', ['Black or African American', 'Not Reported', 'Asian'])\n",
    "Diabetes: new_df['Diabetes'] = binarizeCategorical(binary_columns['Diabetes'], 'Diabetic', ['Yes'], 'Not_Diabetic', ['No'])\n",
    "Histologic_Grade_FIGO: new_df['Histologic_Grade_FIGO'] = binarizeCategoricalV2(binary_columns['Histologic_Grade_FIGO'], 'Grade1', ['FIGO Grade 1'], 'Not_Grade1', ['FIGO Grade 2', 'FIGO Grade 3]\n",
    "'''"
   ]
  },
  {
   "cell_type": "code",
   "execution_count": null,
   "metadata": {},
   "outputs": [],
   "source": [
    "# Using the functions\n",
    "binary_columns = clinical[['BMI', 'Age', 'Race', 'Diabetes']]\n",
    "new_df = binary_columns.copy()\n",
    "new_df = new_df.assign(**{'BMI':binarizeRange(binary_columns['BMI'], 18.5, 25), \n",
    "                          'Age':binarizeCutOff(binary_columns['Age'], 50, 'Young', 'Old'), \n",
    "                          'Race':binarizeCategoricalV2(binary_columns['Race'], 'European', ['White'], 'Not_European',\n",
    "                                                       ['Black or African American', 'Not Reported', 'Asian']), \n",
    "                          'Diabetes':binarizeCategoricalV2(binary_columns['Diabetes'], 'Diabetic', ['Yes'], \n",
    "                                                           'Not_Diabetic', ['No', 'Unknown'])\n",
    "                         }\n",
    "                      )\n",
    "print(new_df)\n",
    "\n",
    "print(new_df['BMI'].value_counts()) \n",
    "print('\\n')\n",
    "print(new_df['Age'].value_counts()) \n",
    "print('\\n')\n",
    "print(new_df['Race'].value_counts()) \n",
    "print('\\n')\n",
    "print(new_df['Diabetes'].value_counts())"
   ]
  },
  {
   "cell_type": "code",
   "execution_count": null,
   "metadata": {},
   "outputs": [],
   "source": [
    "binary_columns2 = clinical[['Histologic_Grade_FIGO', 'Gender']]\n",
    "new_df2 = binary_columns2.copy()\n",
    "new_df2 = new_df.assign(**{'Histologic_Grade_FIGO':binarizeCategoricalV2(binary_columns2['Histologic_Grade_FIGO'], \n",
    "                                                                        'Grade1', ['FIGO grade 1'], 'Not_Grade1', \n",
    "                                                                        ['FIGO grade 2', 'FIGO grade 3']), \n",
    "                          'Gender':binarizeCategoricalV2(binary_columns2['Gender'], \n",
    "                                                       'Female', ['Female'], \n",
    "                                                         np.nan, [np.nan])\n",
    "                         }\n",
    "                      )\n",
    "\n",
    "print(new_df2)"
   ]
  },
  {
   "cell_type": "code",
   "execution_count": null,
   "metadata": {},
   "outputs": [],
   "source": [
    "clinical[['Histologic_Grade_FIGO', 'Gender']]"
   ]
  },
  {
   "cell_type": "code",
   "execution_count": null,
   "metadata": {},
   "outputs": [],
   "source": [
    "clinical['Gender']"
   ]
  }
 ],
 "metadata": {
  "kernelspec": {
   "display_name": "Python 3",
   "language": "python",
   "name": "python3"
  },
  "language_info": {
   "codemirror_mode": {
    "name": "ipython",
    "version": 3
   },
   "file_extension": ".py",
   "mimetype": "text/x-python",
   "name": "python",
   "nbconvert_exporter": "python",
   "pygments_lexer": "ipython3",
   "version": "3.6.2"
  }
 },
 "nbformat": 4,
 "nbformat_minor": 2
}
