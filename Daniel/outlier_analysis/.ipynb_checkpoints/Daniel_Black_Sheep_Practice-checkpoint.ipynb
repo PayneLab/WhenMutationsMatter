{
 "cells": [
  {
   "cell_type": "code",
   "execution_count": 1,
   "metadata": {
    "collapsed": true
   },
   "outputs": [],
   "source": [
    "import pandas as pd, numpy as np, seaborn as sns, matplotlib.pyplot as plt, sys\n",
    "sys.path.insert(0, \"/Users/lili/dropbox_lili/common_functions/outlier_analysis/\")\n",
    "import blackSheepCPTACmodule as ol"
   ]
  },
  {
   "cell_type": "code",
   "execution_count": 2,
   "metadata": {},
   "outputs": [
    {
     "data": {
      "text/plain": [
       "<module 'blackSheepCPTACmodule' from 'C:\\\\Users\\\\Daniel\\\\Documents\\\\GitHub\\\\WhenMutationsMatter\\\\Daniel\\\\outlier_analysis\\\\blackSheepCPTACmodule.py'>"
      ]
     },
     "execution_count": 2,
     "metadata": {},
     "output_type": "execute_result"
    }
   ],
   "source": [
    "import importlib\n",
    "importlib.reload(ol)"
   ]
  },
  {
   "cell_type": "code",
   "execution_count": 3,
   "metadata": {},
   "outputs": [
    {
     "name": "stdout",
     "output_type": "stream",
     "text": [
      "Welcome to the cptac data service package. Available datasets may be\n",
      "viewed using cptac.list_data(). In order to access a specific data\n",
      "set, import a cptac subfolder using either 'import cptac.dataset' or\n",
      "'from cptac import dataset'.\n",
      "******\n",
      "Version: 0.4.1\n",
      "******\n",
      "You have loaded the cptac endometrial dataset. To view available\n",
      "dataframes, use cptac.endometrial.list_data(). To view available\n",
      "functions for accessing and manipulating the dataframes, use\n",
      "cptac.endometrial.list_api().\n",
      "endometrial data version: 2.1\n",
      "\n",
      "Loading Dictionary...\n",
      "Loading cptac endometrial data:\n",
      "Loading acetylproteomics data...\n",
      "Loading clinical data...\n",
      "Loading CNA data...\n",
      "Loading miRNA data...\n",
      "Loading phosphoproteomics_gene data...\n",
      "Loading phosphoproteomics_site data...\n",
      "Loading proteomics data...\n",
      "Loading somatic data...\n",
      "Loading somatic_binary data...\n",
      "Loading transcriptomics_circular data...\n",
      "Loading transcriptomics_linear data...\n",
      "\n",
      " ******PLEASE READ******\n",
      "WARNING: This data is under a publication embargo until July 1, 2019.\n",
      "CPTAC is a community resource project and data are made available\n",
      "rapidly after generation for community research use. The embargo\n",
      "allows exploring and utilizing the data, but the data may not be in a\n",
      "publication until July 1, 2019. Please see\n",
      "https://proteomics.cancer.gov/data-portal/about/data-use-agreement or\n",
      "enter embargo() to open the webpage for more details.\n"
     ]
    }
   ],
   "source": [
    "import cptac.endometrial as en"
   ]
  },
  {
   "cell_type": "code",
   "execution_count": 4,
   "metadata": {},
   "outputs": [
    {
     "name": "stdout",
     "output_type": "stream",
     "text": [
      "9.07 s ± 3.09 s per loop (mean ± std. dev. of 7 runs, 1 loop each)\n"
     ]
    }
   ],
   "source": [
    "%%timeit\n",
    "\n",
    "proteomics = en.get_proteomics()\n",
    "transcriptomics = en.get_transcriptomics()\n",
    "small_proteomics = proteomics.iloc[0:100, :]\n",
    "outliers = ol.make_outliers_table(transcriptomics, iqrs=2.0, \n",
    "                                  up_or_down='up', aggregate=False, \n",
    "                                  frac_table=True)"
   ]
  },
  {
   "cell_type": "code",
   "execution_count": 5,
   "metadata": {},
   "outputs": [
    {
     "data": {
      "text/plain": [
       "{'Age',\n",
       " 'BMI',\n",
       " 'Clin_Stage_Dist_Mets-cM',\n",
       " 'Country',\n",
       " 'Diabetes',\n",
       " 'Ethnicity',\n",
       " 'FIGO_stage',\n",
       " 'Gender',\n",
       " 'Histologic_Grade_FIGO',\n",
       " 'Histologic_type',\n",
       " 'LVSI',\n",
       " 'Myometrial_invasion_Specify',\n",
       " 'Num_full_term_pregnancies',\n",
       " 'Path_Stage_Dist_Mets-pM',\n",
       " 'Path_Stage_Primary_Tumor-pT',\n",
       " 'Path_Stage_Reg_Lymph_Nodes-pN',\n",
       " 'Patient_ID',\n",
       " 'Proteomics_Tumor_Normal',\n",
       " 'Race',\n",
       " 'Treatment_naive',\n",
       " 'Tumor_Focality',\n",
       " 'Tumor_Site',\n",
       " 'Tumor_Site_Other',\n",
       " 'Tumor_Size_cm',\n",
       " 'Tumor_purity',\n",
       " 'tumor_Stage-Pathological'}"
      ]
     },
     "execution_count": 5,
     "metadata": {},
     "output_type": "execute_result"
    }
   ],
   "source": [
    "clinical = en.get_clinical()\n",
    "annotations = clinical[['Histologic_Grade_FIGO','Diabetes', 'Race', 'Age']]\n",
    "set(clinical)"
   ]
  },
  {
   "cell_type": "code",
   "execution_count": null,
   "metadata": {
    "collapsed": true
   },
   "outputs": [],
   "source": [
    "##Create a function that binarizes classifiers\n",
    "##Need to make this more resilient and create a function\n",
    "##that allows you to filter the end enrichment table by p-values < 0.05\n",
    "def binarize(df, boundary_name, original_qualifier, boundary):\n",
    "    annotations[boundary_name] = annotations[original_qualifier] > boundary\n",
    "    print(annotations)\n",
    "    \n",
    "#binarize(annotations, 'Over_50', 'Age', 50)"
   ]
  },
  {
   "cell_type": "code",
   "execution_count": 14,
   "metadata": {},
   "outputs": [
    {
     "data": {
      "text/html": [
       "<div>\n",
       "<style scoped>\n",
       "    .dataframe tbody tr th:only-of-type {\n",
       "        vertical-align: middle;\n",
       "    }\n",
       "\n",
       "    .dataframe tbody tr th {\n",
       "        vertical-align: top;\n",
       "    }\n",
       "\n",
       "    .dataframe thead th {\n",
       "        text-align: right;\n",
       "    }\n",
       "</style>\n",
       "<table border=\"1\" class=\"dataframe\">\n",
       "  <thead>\n",
       "    <tr style=\"text-align: right;\">\n",
       "      <th></th>\n",
       "      <th>Age</th>\n",
       "    </tr>\n",
       "  </thead>\n",
       "  <tbody>\n",
       "    <tr>\n",
       "      <th>count</th>\n",
       "      <td>95.000000</td>\n",
       "    </tr>\n",
       "    <tr>\n",
       "      <th>mean</th>\n",
       "      <td>63.473684</td>\n",
       "    </tr>\n",
       "    <tr>\n",
       "      <th>std</th>\n",
       "      <td>10.109867</td>\n",
       "    </tr>\n",
       "    <tr>\n",
       "      <th>min</th>\n",
       "      <td>38.000000</td>\n",
       "    </tr>\n",
       "    <tr>\n",
       "      <th>25%</th>\n",
       "      <td>58.000000</td>\n",
       "    </tr>\n",
       "    <tr>\n",
       "      <th>50%</th>\n",
       "      <td>64.000000</td>\n",
       "    </tr>\n",
       "    <tr>\n",
       "      <th>75%</th>\n",
       "      <td>69.000000</td>\n",
       "    </tr>\n",
       "    <tr>\n",
       "      <th>max</th>\n",
       "      <td>90.000000</td>\n",
       "    </tr>\n",
       "  </tbody>\n",
       "</table>\n",
       "</div>"
      ],
      "text/plain": [
       "             Age\n",
       "count  95.000000\n",
       "mean   63.473684\n",
       "std    10.109867\n",
       "min    38.000000\n",
       "25%    58.000000\n",
       "50%    64.000000\n",
       "75%    69.000000\n",
       "max    90.000000"
      ]
     },
     "execution_count": 14,
     "metadata": {},
     "output_type": "execute_result"
    }
   ],
   "source": [
    "annotations.describe()"
   ]
  },
  {
   "cell_type": "code",
   "execution_count": 47,
   "metadata": {},
   "outputs": [
    {
     "name": "stdout",
     "output_type": "stream",
     "text": [
      "Here are your options\n",
      "{'Age', 'Myometrial_invasion_Specify', 'BMI', 'Histologic_Grade_FIGO', 'Path_Stage_Reg_Lymph_Nodes-pN', 'Tumor_purity', 'Path_Stage_Dist_Mets-pM', 'Patient_ID', 'Diabetes', 'Num_full_term_pregnancies', 'LVSI', 'Tumor_Focality', 'Tumor_Site', 'Histologic_type', 'Clin_Stage_Dist_Mets-cM', 'tumor_Stage-Pathological', 'Ethnicity', 'Path_Stage_Primary_Tumor-pT', 'Proteomics_Tumor_Normal', 'FIGO_stage', 'Gender', 'Country', 'Treatment_naive', 'Tumor_Site_Other', 'Race', 'Tumor_Size_cm'}\n",
      "Please input the columns you would like to binarize. Type \"done\" to finish.\n",
      "FIGO_stage\n",
      "Gender\n",
      "Country\n",
      "done\n"
     ]
    }
   ],
   "source": [
    "def returnSubsetDF(df):\n",
    "    print('Here are your options')\n",
    "    print(set(df))\n",
    "    boundary_names = []\n",
    "    print('Please input the columns you would like to binarize. Type \"done\" to finish.')\n",
    "    boundary = ''\n",
    "    while boundary != 'done':\n",
    "        boundary = input()\n",
    "        if boundary == 'done':\n",
    "            break\n",
    "        elif boundary not in set(df):\n",
    "            print('Invalid input\\nHere are your options:')\n",
    "            print(set(df))\n",
    "        else:\n",
    "            boundary_names.append(boundary)\n",
    "    new_df = pd.DataFrame()\n",
    "    for boundary in boundary_names:\n",
    "        new_df[boundary] = df[boundary]\n",
    "    return(new_df)\n",
    "\n",
    "smaller_df = returnSubsetDF(clinical)"
   ]
  },
  {
   "cell_type": "code",
   "execution_count": 55,
   "metadata": {},
   "outputs": [
    {
     "name": "stdout",
     "output_type": "stream",
     "text": [
      "Please provide a dictionary to binarize the following columns:\n",
      "\n",
      "FIGO_stage\n",
      "Gender\n",
      "Country\n",
      "\n",
      "Here is an example of how that dictionary might be setup\n",
      "{'FIGO_stage': {'option1': ['values', 'that', 'correspond', 'with', 'option1'], 'option2': ['values', 'that', 'correspond', 'with', 'option2']}, 'Gender': {'option1': ['values', 'that', 'correspond', 'with', 'option1'], 'option2': ['values', 'that', 'correspond', 'with', 'option2']}, 'Country': {'option1': ['values', 'that', 'correspond', 'with', 'option1'], 'option2': ['values', 'that', 'correspond', 'with', 'option2']}}\n"
     ]
    }
   ],
   "source": [
    "def binarizeV2(df):\n",
    "    boundary_names = list(set(df))\n",
    "    example_dict = {}\n",
    "    print('Please provide a dictionary to binarize the following columns:\\n')\n",
    "    for boundary in boundary_names:\n",
    "          print(boundary)\n",
    "          example_dict[boundary] = {'option1': ['values', 'that', 'correspond', 'with', 'option1'],\n",
    "                                   'option2': ['values', 'that', 'correspond', 'with', 'option2']}\n",
    "    print('\\nHere is an example of how that dictionary might be setup')\n",
    "    print(example_dict)\n",
    "binarizeV2(smaller_df)"
   ]
  },
  {
   "cell_type": "code",
   "execution_count": 6,
   "metadata": {},
   "outputs": [
    {
     "data": {
      "text/plain": [
       "{nan, 'White', 'Not Reported', 'Asian', 'Black or African American'}"
      ]
     },
     "execution_count": 6,
     "metadata": {},
     "output_type": "execute_result"
    }
   ],
   "source": [
    "set(clinical['Race'])"
   ]
  },
  {
   "cell_type": "code",
   "execution_count": 49,
   "metadata": {},
   "outputs": [
    {
     "data": {
      "text/plain": [
       "\"\\nfor item in set(clinical):\\n    print(item)\\n    print(set(clinical[item]))\\n    print('\\n')\\n\""
      ]
     },
     "execution_count": 49,
     "metadata": {},
     "output_type": "execute_result"
    }
   ],
   "source": [
    "'''\n",
    "for item in set(clinical):\n",
    "    print(item)\n",
    "    print(set(clinical[item]))\n",
    "    print('\\n')\n",
    "'''"
   ]
  },
  {
   "cell_type": "code",
   "execution_count": 62,
   "metadata": {},
   "outputs": [
    {
     "data": {
      "text/plain": [
       "'\\nfor key, value in example_dictionary.items():\\n    print(key)\\n    for k, v in value.items():\\n        print(k)\\n        print(v)\\n\\nnew_df = pd.DataFrame()\\nfor key, value in example_dictionary.items():\\n    for k, v in value.items():\\n        for item in v:\\n\\ndef binarizeV3(df, dictionary):\\n    new_df = pd.DataFrame()\\n    for item in clinical.iterrows():\\n        for key, value in example_dictionary.items():\\n            print(key)\\n            for k, v in value.items():\\n                if item in v:\\n                    new_df[key] = k\\n                else:\\n                    new_df[key] = v\\n'"
      ]
     },
     "execution_count": 62,
     "metadata": {},
     "output_type": "execute_result"
    }
   ],
   "source": [
    "# Here is an example of binarizing\n",
    "# Here are the columns I want to binarize out of the clinical dataset\n",
    "# Keys: columns, Values: dictionary of options and values\n",
    "''' Here is what a dictionary of options and values would look like\n",
    "{'option1': ['values', 'that', 'correspond', 'with', 'option1'],\n",
    " 'option2': ['values', 'that', 'correspond', 'with', 'option2']}\n",
    "\n",
    "\n",
    "example_dictionary = {'Race': {'Asian': ['Asian'], \n",
    "                               'Not_Asian' : ['White', np.nan, 'Black or African American', \n",
    "                                              'Not Reported', ' White']}, \n",
    "                      'Diabetes' : {'Diabetic' : ['Yes'], \n",
    "                                    'Not_Diabetic': ['No', 'Unknown', np.nan]}\n",
    "                     }\n",
    "\n",
    "\n",
    "for key, value in example_dictionary.items():\n",
    "    print(key)\n",
    "    for k, v in value.items():\n",
    "        print(k)\n",
    "        print(v)\n",
    "\n",
    "new_df = pd.DataFrame()\n",
    "for key, value in example_dictionary.items():\n",
    "    for k, v in value.items():\n",
    "        for item in v:\n",
    "\n",
    "def binarizeV3(df, dictionary):\n",
    "    new_df = pd.DataFrame()\n",
    "    for item in clinical.iterrows():\n",
    "        for key, value in example_dictionary.items():\n",
    "            print(key)\n",
    "            for k, v in value.items():\n",
    "                if item in v:\n",
    "                    new_df[key] = k\n",
    "                else:\n",
    "                    new_df[key] = v\n",
    "'''"
   ]
  },
  {
   "cell_type": "code",
   "execution_count": 41,
   "metadata": {},
   "outputs": [
    {
     "name": "stdout",
     "output_type": "stream",
     "text": [
      "['Old', 'Old', 'Old', 'Old', 'Old', 'Old', 'Old', 'Old', 'Old', 'Old', 'Old', 'Young', 'Old', 'Old', 'Young', 'Old', 'Old', 'Old', 'Old', 'Old', 'Old', 'Old', 'Old', 'Old', 'Old', 'Old', 'Young', 'Old', 'Old', 'Old', 'Old', 'Old', 'Old', 'Old', 'Old', 'Old', 'Old', 'Old', 'Young', 'Old', 'Old', 'Old', 'Old', 'Old', 'Old', 'Old', 'Old', 'Old', 'Old', 'Old', 'Old', 'Old', 'Old', 'Old', 'Old', 'Old', 'Old', 'Young', 'Old', 'Old', 'Old', 'Old', 'Old', 'Young', 'Old', 'Old', 'Young', 'Old', 'Young', 'Old', 'Old', 'Old', 'Old', 'Old', 'Old', 'Old', 'Old', 'Old', 'Old', 'Old', 'Old', 'Old', 'Old', 'Old', 'Old', 'Old', 'Old', 'Old', 'Old', 'Old', 'Old', 'Old', 'Old', 'Old', 'Old', nan, nan, nan, nan, nan, nan, nan, nan, nan, nan, nan, nan, nan, nan, nan, nan, nan, nan, nan, nan, nan, nan, nan, nan, nan, nan, nan, nan, nan, nan, nan, nan, nan, nan, nan, nan, nan, nan, nan, nan, nan, nan, nan, nan, nan, nan, nan, nan, nan]\n"
     ]
    }
   ],
   "source": [
    "# Version 4 Probably the best version so far, even though it only fully works for age\n",
    "binary_columns = clinical[['Age', 'Race']]\n",
    "\n",
    "def binarizeContinuous(my_list, cut_off, replacement_low, replacement_high):\n",
    "    return [ replacement_low if (x < cut_off) else replacement_high if x >= cut_off else x for x in my_list ]\n",
    "\n",
    "print(binarizeContinuous(binary_columns['Age'], 50 , 'Young', 'Old'))"
   ]
  },
  {
   "cell_type": "code",
   "execution_count": 59,
   "metadata": {},
   "outputs": [
    {
     "name": "stdout",
     "output_type": "stream",
     "text": [
      "No rows had outliers in at least 0.1 of Histologic_Grade_FIGO FIGO grade 2 samples\n",
      "Testing 1 rows for enrichment in Histologic_Grade_FIGO FIGO grade 1 samples\n",
      "No rows had outliers in at least 0.1 of Diabetes No samples\n",
      "Testing 1 rows for enrichment in Diabetes Yes samples\n",
      "No rows had outliers in at least 0.1 of Race White samples\n",
      "Testing 1 rows for enrichment in Race Black or African American samples\n"
     ]
    },
    {
     "data": {
      "text/html": [
       "<div>\n",
       "<style scoped>\n",
       "    .dataframe tbody tr th:only-of-type {\n",
       "        vertical-align: middle;\n",
       "    }\n",
       "\n",
       "    .dataframe tbody tr th {\n",
       "        vertical-align: top;\n",
       "    }\n",
       "\n",
       "    .dataframe thead th {\n",
       "        text-align: right;\n",
       "    }\n",
       "</style>\n",
       "<table border=\"1\" class=\"dataframe\">\n",
       "  <thead>\n",
       "    <tr style=\"text-align: right;\">\n",
       "      <th></th>\n",
       "      <th>Histologic_Grade_FIGO_FIGO grade 1_enrichment_FDR</th>\n",
       "      <th>Diabetes_Yes_enrichment_FDR</th>\n",
       "      <th>Race_Black or African American_enrichment_FDR</th>\n",
       "    </tr>\n",
       "  </thead>\n",
       "  <tbody>\n",
       "    <tr>\n",
       "      <th>A1BG</th>\n",
       "      <td>NaN</td>\n",
       "      <td>NaN</td>\n",
       "      <td>NaN</td>\n",
       "    </tr>\n",
       "    <tr>\n",
       "      <th>A2M</th>\n",
       "      <td>NaN</td>\n",
       "      <td>NaN</td>\n",
       "      <td>NaN</td>\n",
       "    </tr>\n",
       "    <tr>\n",
       "      <th>A2ML1</th>\n",
       "      <td>NaN</td>\n",
       "      <td>NaN</td>\n",
       "      <td>NaN</td>\n",
       "    </tr>\n",
       "    <tr>\n",
       "      <th>A4GALT</th>\n",
       "      <td>0.412557</td>\n",
       "      <td>0.401228</td>\n",
       "      <td>NaN</td>\n",
       "    </tr>\n",
       "    <tr>\n",
       "      <th>AAAS</th>\n",
       "      <td>NaN</td>\n",
       "      <td>NaN</td>\n",
       "      <td>NaN</td>\n",
       "    </tr>\n",
       "    <tr>\n",
       "      <th>AACS</th>\n",
       "      <td>NaN</td>\n",
       "      <td>NaN</td>\n",
       "      <td>NaN</td>\n",
       "    </tr>\n",
       "    <tr>\n",
       "      <th>AADAT</th>\n",
       "      <td>NaN</td>\n",
       "      <td>NaN</td>\n",
       "      <td>NaN</td>\n",
       "    </tr>\n",
       "    <tr>\n",
       "      <th>AAED1</th>\n",
       "      <td>NaN</td>\n",
       "      <td>NaN</td>\n",
       "      <td>0.113122</td>\n",
       "    </tr>\n",
       "    <tr>\n",
       "      <th>AAGAB</th>\n",
       "      <td>NaN</td>\n",
       "      <td>NaN</td>\n",
       "      <td>NaN</td>\n",
       "    </tr>\n",
       "    <tr>\n",
       "      <th>AAK1</th>\n",
       "      <td>NaN</td>\n",
       "      <td>NaN</td>\n",
       "      <td>NaN</td>\n",
       "    </tr>\n",
       "  </tbody>\n",
       "</table>\n",
       "</div>"
      ],
      "text/plain": [
       "        Histologic_Grade_FIGO_FIGO grade 1_enrichment_FDR  \\\n",
       "A1BG                                                  NaN   \n",
       "A2M                                                   NaN   \n",
       "A2ML1                                                 NaN   \n",
       "A4GALT                                           0.412557   \n",
       "AAAS                                                  NaN   \n",
       "AACS                                                  NaN   \n",
       "AADAT                                                 NaN   \n",
       "AAED1                                                 NaN   \n",
       "AAGAB                                                 NaN   \n",
       "AAK1                                                  NaN   \n",
       "\n",
       "        Diabetes_Yes_enrichment_FDR  \\\n",
       "A1BG                            NaN   \n",
       "A2M                             NaN   \n",
       "A2ML1                           NaN   \n",
       "A4GALT                     0.401228   \n",
       "AAAS                            NaN   \n",
       "AACS                            NaN   \n",
       "AADAT                           NaN   \n",
       "AAED1                           NaN   \n",
       "AAGAB                           NaN   \n",
       "AAK1                            NaN   \n",
       "\n",
       "        Race_Black or African American_enrichment_FDR  \n",
       "A1BG                                              NaN  \n",
       "A2M                                               NaN  \n",
       "A2ML1                                             NaN  \n",
       "A4GALT                                            NaN  \n",
       "AAAS                                              NaN  \n",
       "AACS                                              NaN  \n",
       "AADAT                                             NaN  \n",
       "AAED1                                        0.113122  \n",
       "AAGAB                                             NaN  \n",
       "AAK1                                              NaN  "
      ]
     },
     "execution_count": 59,
     "metadata": {},
     "output_type": "execute_result"
    }
   ],
   "source": [
    "results = ol.compare_groups_outliers(outliers, annotations, frac_filter=.1)\n",
    "results"
   ]
  },
  {
   "cell_type": "code",
   "execution_count": 25,
   "metadata": {},
   "outputs": [
    {
     "name": "stdout",
     "output_type": "stream",
     "text": [
      "Here are your options\n",
      "{'Myometrial_invasion_Specify', 'Tumor_Site', 'Age', 'Path_Stage_Reg_Lymph_Nodes-pN', 'FIGO_stage', 'Num_full_term_pregnancies', 'tumor_Stage-Pathological', 'BMI', 'Patient_ID', 'Tumor_Focality', 'Path_Stage_Dist_Mets-pM', 'Histologic_Grade_FIGO', 'Proteomics_Tumor_Normal', 'Path_Stage_Primary_Tumor-pT', 'Diabetes', 'Race', 'Gender', 'Tumor_Size_cm', 'Treatment_naive', 'Country', 'Tumor_Site_Other', 'Ethnicity', 'Histologic_type', 'Clin_Stage_Dist_Mets-cM', 'LVSI', 'Tumor_purity'}\n",
      "FIGO_stage\n",
      "Please provide a dictionary to binarize FIGO_stage. Here is an example:\n",
      "{'columnName1': {'option1': ['values', 'that', 'correspond', 'with', 'option1'], 'option2': ['values', 'that', 'correspond', 'with', 'option2']}, 'columnName2': {'option1': ['values', 'that', 'correspond', 'with', 'option1'], 'option2': ['values', 'that', 'correspond', 'with', 'option2']}}\n"
     ]
    }
   ],
   "source": [
    "binarizeV2(clinical)"
   ]
  }
 ],
 "metadata": {
  "kernelspec": {
   "display_name": "Python 3",
   "language": "python",
   "name": "python3"
  },
  "language_info": {
   "codemirror_mode": {
    "name": "ipython",
    "version": 3
   },
   "file_extension": ".py",
   "mimetype": "text/x-python",
   "name": "python",
   "nbconvert_exporter": "python",
   "pygments_lexer": "ipython3",
   "version": "3.6.2"
  }
 },
 "nbformat": 4,
 "nbformat_minor": 2
}
