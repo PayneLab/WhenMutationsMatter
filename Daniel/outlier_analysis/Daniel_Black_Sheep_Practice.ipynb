{
 "cells": [
  {
   "cell_type": "code",
   "execution_count": 88,
   "metadata": {
    "collapsed": true
   },
   "outputs": [],
   "source": [
    "# Import blackSheepCPTACmodule and cptac data\n",
    "\n",
    "import pandas as pd, numpy as np, seaborn as sns, matplotlib.pyplot as plt, sys\n",
    "sys.path.insert(0, \"/Users/lili/dropbox_lili/common_functions/outlier_analysis/\")\n",
    "import blackSheepCPTACmodule as ol\n",
    "import importlib\n",
    "importlib.reload(ol)\n",
    "import cptac.endometrial as en"
   ]
  },
  {
   "cell_type": "code",
   "execution_count": 125,
   "metadata": {
    "collapsed": true
   },
   "outputs": [],
   "source": [
    "# Get data\n",
    "transcriptomics = en.get_transcriptomics()\n",
    "clinical = en.get_clinical()\n",
    "annotations = clinical[['Histologic_Grade_FIGO','Diabetes']]"
   ]
  },
  {
   "cell_type": "code",
   "execution_count": 126,
   "metadata": {},
   "outputs": [
    {
     "ename": "AttributeError",
     "evalue": "'tuple' object has no attribute 'transpose'",
     "output_type": "error",
     "traceback": [
      "\u001b[1;31m---------------------------------------------------------------------------\u001b[0m",
      "\u001b[1;31mAttributeError\u001b[0m                            Traceback (most recent call last)",
      "\u001b[1;32m<ipython-input-126-3502824c1207>\u001b[0m in \u001b[0;36m<module>\u001b[1;34m()\u001b[0m\n\u001b[0;32m      6\u001b[0m                                   frac_table=True)\n\u001b[0;32m      7\u001b[0m \u001b[1;33m\u001b[0m\u001b[0m\n\u001b[1;32m----> 8\u001b[1;33m \u001b[0mresults\u001b[0m \u001b[1;33m=\u001b[0m \u001b[0mol\u001b[0m\u001b[1;33m.\u001b[0m\u001b[0mcompare_groups_outliers\u001b[0m\u001b[1;33m(\u001b[0m\u001b[0moutliers\u001b[0m\u001b[1;33m,\u001b[0m \u001b[0mannotations\u001b[0m\u001b[1;33m,\u001b[0m \u001b[0mfrac_filter\u001b[0m\u001b[1;33m=\u001b[0m\u001b[1;36m.1\u001b[0m\u001b[1;33m)\u001b[0m\u001b[1;33m\u001b[0m\u001b[0m\n\u001b[0m\u001b[0;32m      9\u001b[0m \u001b[0mresults\u001b[0m\u001b[1;33m\u001b[0m\u001b[0m\n",
      "\u001b[1;32m~\\Documents\\GitHub\\WhenMutationsMatter\\Daniel\\outlier_analysis\\blackSheepCPTACmodule.py\u001b[0m in \u001b[0;36mcompare_groups_outliers\u001b[1;34m(outliers, annotations, frac_filter)\u001b[0m\n\u001b[0;32m    174\u001b[0m \u001b[1;33m\u001b[0m\u001b[0m\n\u001b[0;32m    175\u001b[0m \u001b[1;32mdef\u001b[0m \u001b[0mcompare_groups_outliers\u001b[0m\u001b[1;33m(\u001b[0m\u001b[0moutliers\u001b[0m\u001b[1;33m,\u001b[0m \u001b[0mannotations\u001b[0m\u001b[1;33m,\u001b[0m \u001b[0mfrac_filter\u001b[0m\u001b[1;33m=\u001b[0m\u001b[1;36m0.3\u001b[0m\u001b[1;33m)\u001b[0m\u001b[1;33m:\u001b[0m\u001b[1;33m\u001b[0m\u001b[0m\n\u001b[1;32m--> 176\u001b[1;33m     \u001b[0moutliers\u001b[0m \u001b[1;33m=\u001b[0m \u001b[0moutliers\u001b[0m\u001b[1;33m.\u001b[0m\u001b[0mtranspose\u001b[0m\u001b[1;33m(\u001b[0m\u001b[1;33m)\u001b[0m\u001b[1;33m\u001b[0m\u001b[0m\n\u001b[0m\u001b[0;32m    177\u001b[0m     \u001b[0mresults_df\u001b[0m \u001b[1;33m=\u001b[0m \u001b[0mpd\u001b[0m\u001b[1;33m.\u001b[0m\u001b[0mDataFrame\u001b[0m\u001b[1;33m(\u001b[0m\u001b[0mindex\u001b[0m\u001b[1;33m=\u001b[0m\u001b[0moutliers\u001b[0m\u001b[1;33m.\u001b[0m\u001b[0mindex\u001b[0m\u001b[1;33m)\u001b[0m\u001b[1;33m\u001b[0m\u001b[0m\n\u001b[0;32m    178\u001b[0m     \u001b[1;32mfor\u001b[0m \u001b[0mcomp\u001b[0m \u001b[1;32min\u001b[0m \u001b[0mannotations\u001b[0m\u001b[1;33m.\u001b[0m\u001b[0mcolumns\u001b[0m\u001b[1;33m:\u001b[0m\u001b[1;33m\u001b[0m\u001b[0m\n",
      "\u001b[1;31mAttributeError\u001b[0m: 'tuple' object has no attribute 'transpose'"
     ]
    }
   ],
   "source": [
    "# Test of the make_outliers_table function to create a table of outliers\n",
    "# in the transcriptomics data.\n",
    "\n",
    "outliers = ol.make_outliers_table(transcriptomics, iqrs=2.0, \n",
    "                                  up_or_down='up', aggregate=False, \n",
    "                                  frac_table=True)\n",
    "\n",
    "results = ol.compare_groups_outliers(outliers, annotations, frac_filter=.1)\n",
    "results\n",
    "\n",
    "# Need to figure out why this is having an AttributeError with tuples"
   ]
  },
  {
   "cell_type": "code",
   "execution_count": 15,
   "metadata": {},
   "outputs": [
    {
     "name": "stdout",
     "output_type": "stream",
     "text": [
      "Here are your options\n",
      "{'Tumor_Site_Other', 'BMI', 'Num_full_term_pregnancies', 'Ethnicity', 'Myometrial_invasion_Specify', 'Gender', 'tumor_Stage-Pathological', 'Tumor_Focality', 'Proteomics_Tumor_Normal', 'Patient_ID', 'Tumor_Site', 'Diabetes', 'Country', 'Tumor_purity', 'Race', 'Path_Stage_Reg_Lymph_Nodes-pN', 'LVSI', 'Histologic_type', 'FIGO_stage', 'Tumor_Size_cm', 'Clin_Stage_Dist_Mets-cM', 'Path_Stage_Primary_Tumor-pT', 'Histologic_Grade_FIGO', 'Age', 'Treatment_naive', 'Path_Stage_Dist_Mets-pM'}\n",
      "Please input the columns you would like to binarize. Type \"done\" to finish.\n",
      "FIGO_stage\n",
      "done\n"
     ]
    }
   ],
   "source": [
    "# This function does what it's supposed to; however,\n",
    "# it could easily be replaced with something like \n",
    "# annotations = clinical[['Histologic_Grade_FIGO', 'Diabetes]]\n",
    "# Initially I was trying to get this to do the whole process\n",
    "# interactively, so people would just input values and it would\n",
    "# work, but I have since split off those parts to try and test them.\n",
    "# They don't work inside this function (so far), and only some kind of\n",
    "# worked outside this function. So I simplified. A LOT.\n",
    "\n",
    "def returnSubsetDF(df):\n",
    "    print('Here are your options')\n",
    "    print(set(df))\n",
    "    boundary_names = []\n",
    "    print('Please input the columns you would like to binarize. Type \"done\" to finish.')\n",
    "    boundary = ''\n",
    "    while boundary != 'done':\n",
    "        boundary = input()\n",
    "        if boundary == 'done':\n",
    "            break\n",
    "        elif boundary not in set(df):\n",
    "            print('Invalid input\\nHere are your options:')\n",
    "            print(set(df))\n",
    "        else:\n",
    "            boundary_names.append(boundary)\n",
    "    new_df = pd.DataFrame()\n",
    "    for boundary in boundary_names:\n",
    "        new_df[boundary] = df[boundary]\n",
    "    return(new_df)\n",
    "\n",
    "smaller_df = returnSubsetDF(clinical)"
   ]
  },
  {
   "cell_type": "code",
   "execution_count": 23,
   "metadata": {},
   "outputs": [
    {
     "ename": "ValueError",
     "evalue": "The truth value of a Series is ambiguous. Use a.empty, a.bool(), a.item(), a.any() or a.all().",
     "output_type": "error",
     "traceback": [
      "\u001b[1;31m---------------------------------------------------------------------------\u001b[0m",
      "\u001b[1;31mValueError\u001b[0m                                Traceback (most recent call last)",
      "\u001b[1;32m<ipython-input-23-96f45f1d62db>\u001b[0m in \u001b[0;36m<module>\u001b[1;34m()\u001b[0m\n\u001b[0;32m     24\u001b[0m                  \u001b[0mnp\u001b[0m\u001b[1;33m.\u001b[0m\u001b[0mnan\u001b[0m \u001b[1;33m:\u001b[0m \u001b[1;33m[\u001b[0m\u001b[0mnp\u001b[0m\u001b[1;33m.\u001b[0m\u001b[0mnan\u001b[0m\u001b[1;33m]\u001b[0m\u001b[1;33m\u001b[0m\u001b[0m\n\u001b[0;32m     25\u001b[0m                 }\n\u001b[1;32m---> 26\u001b[1;33m \u001b[0mbinarizeDictionary\u001b[0m\u001b[1;33m(\u001b[0m\u001b[0msmaller_df\u001b[0m\u001b[1;33m,\u001b[0m \u001b[0mmy_dictionary\u001b[0m\u001b[1;33m)\u001b[0m\u001b[1;33m\u001b[0m\u001b[0m\n\u001b[0m\u001b[0;32m     27\u001b[0m \u001b[1;31m#binarizeV2(smaller_df)\u001b[0m\u001b[1;33m\u001b[0m\u001b[1;33m\u001b[0m\u001b[0m\n",
      "\u001b[1;32m<ipython-input-23-96f45f1d62db>\u001b[0m in \u001b[0;36mbinarizeDictionary\u001b[1;34m(df, boundary_dict)\u001b[0m\n\u001b[0;32m     16\u001b[0m     \u001b[1;32mfor\u001b[0m \u001b[0mboundary\u001b[0m \u001b[1;32min\u001b[0m \u001b[0mboundary_names\u001b[0m\u001b[1;33m:\u001b[0m\u001b[1;33m\u001b[0m\u001b[0m\n\u001b[0;32m     17\u001b[0m         \u001b[1;32mfor\u001b[0m \u001b[0mkey\u001b[0m\u001b[1;33m,\u001b[0m \u001b[0mvalue\u001b[0m \u001b[1;32min\u001b[0m \u001b[0mboundary_dict\u001b[0m\u001b[1;33m.\u001b[0m\u001b[0mitems\u001b[0m\u001b[1;33m(\u001b[0m\u001b[1;33m)\u001b[0m\u001b[1;33m:\u001b[0m\u001b[1;33m\u001b[0m\u001b[0m\n\u001b[1;32m---> 18\u001b[1;33m             \u001b[0mnew_col\u001b[0m \u001b[1;33m=\u001b[0m \u001b[0mdf\u001b[0m\u001b[1;33m[\u001b[0m\u001b[0mboundary\u001b[0m\u001b[1;33m]\u001b[0m\u001b[1;33m.\u001b[0m\u001b[0mwhere\u001b[0m\u001b[1;33m(\u001b[0m\u001b[0mcond\u001b[0m\u001b[1;33m=\u001b[0m\u001b[1;33m(\u001b[0m\u001b[0mdf\u001b[0m\u001b[1;33m[\u001b[0m\u001b[0mboundary\u001b[0m\u001b[1;33m]\u001b[0m \u001b[1;32mnot\u001b[0m \u001b[1;32min\u001b[0m \u001b[0mvalue\u001b[0m\u001b[1;33m)\u001b[0m\u001b[1;33m,\u001b[0m \u001b[0mother\u001b[0m\u001b[1;33m=\u001b[0m\u001b[0mkey\u001b[0m\u001b[1;33m)\u001b[0m\u001b[1;33m\u001b[0m\u001b[0m\n\u001b[0m\u001b[0;32m     19\u001b[0m         \u001b[0mnew_df\u001b[0m\u001b[1;33m[\u001b[0m\u001b[0mboundary\u001b[0m\u001b[1;33m]\u001b[0m \u001b[1;33m=\u001b[0m \u001b[0mnew_col\u001b[0m\u001b[1;33m\u001b[0m\u001b[0m\n\u001b[0;32m     20\u001b[0m     \u001b[1;32mreturn\u001b[0m\u001b[1;33m(\u001b[0m\u001b[0mnew_df\u001b[0m\u001b[1;33m)\u001b[0m\u001b[1;33m\u001b[0m\u001b[0m\n",
      "\u001b[1;32m~\\AppData\\Local\\conda\\conda\\envs\\Research\\lib\\site-packages\\pandas\\core\\generic.py\u001b[0m in \u001b[0;36m__nonzero__\u001b[1;34m(self)\u001b[0m\n\u001b[0;32m   1476\u001b[0m         raise ValueError(\"The truth value of a {0} is ambiguous. \"\n\u001b[0;32m   1477\u001b[0m                          \u001b[1;34m\"Use a.empty, a.bool(), a.item(), a.any() or a.all().\"\u001b[0m\u001b[1;33m\u001b[0m\u001b[0m\n\u001b[1;32m-> 1478\u001b[1;33m                          .format(self.__class__.__name__))\n\u001b[0m\u001b[0;32m   1479\u001b[0m \u001b[1;33m\u001b[0m\u001b[0m\n\u001b[0;32m   1480\u001b[0m     \u001b[0m__bool__\u001b[0m \u001b[1;33m=\u001b[0m \u001b[0m__nonzero__\u001b[0m\u001b[1;33m\u001b[0m\u001b[0m\n",
      "\u001b[1;31mValueError\u001b[0m: The truth value of a Series is ambiguous. Use a.empty, a.bool(), a.item(), a.any() or a.all()."
     ]
    }
   ],
   "source": [
    "# While this is a great idea and all, I can't figure out how to do this correctly\n",
    "\n",
    "def binarizeV2(df):\n",
    "    print('The following columns have been chosen for binarization:\\n')\n",
    "    boundary_names = list(set(df))\n",
    "    example_dict = {}\n",
    "    print('Please provide a dictionary to binarize them in the following format:\\n')\n",
    "    for boundary in boundary_names:\n",
    "          print(boundary)\n",
    "          example_dict[boundary] = {'option1': ['values', 'that', 'correspond', 'with', 'option1'],\n",
    "                                   'option2': ['values', 'that', 'correspond', 'with', 'option2'], \n",
    "                                    'NaN' : [np.nan]\n",
    "                                   }\n",
    "    print(example_dict)\n",
    "    \n",
    "\n",
    "def binarizeDictionary(df, boundary_dict):\n",
    "    boundary_names = list(set(df))\n",
    "    for boundary in boundary_names:\n",
    "        for key, value in boundary_dict.items():\n",
    "            new_col = df[boundary].where(cond=(df[boundary] not in value), other=key)\n",
    "        new_df[boundary] = new_col\n",
    "    return(new_df)\n",
    "\n",
    "my_dictionary = {'Beginning_Stage' : ['IA', 'IB', 'II'], \n",
    "                 'Later_Stage' : ['IIIA', 'IIIB', 'IIIC1', 'IIIC2', 'IVB'], \n",
    "                 np.nan : [np.nan]\n",
    "                }\n",
    "binarizeDictionary(smaller_df, my_dictionary)                \n",
    "#binarizeV2(smaller_df)"
   ]
  },
  {
   "cell_type": "code",
   "execution_count": 109,
   "metadata": {},
   "outputs": [
    {
     "data": {
      "text/plain": [
       "FIGO grade 2    38\n",
       "FIGO grade 1    37\n",
       "FIGO grade 3     8\n",
       "Name: Histologic_Grade_FIGO, dtype: int64"
      ]
     },
     "execution_count": 109,
     "metadata": {},
     "output_type": "execute_result"
    }
   ],
   "source": [
    "binary_columns = new_clinical[['Age', 'Race', 'BMI', 'Diabetes', 'Histologic_Grade_FIGO']]"
   ]
  },
  {
   "cell_type": "code",
   "execution_count": 120,
   "metadata": {},
   "outputs": [
    {
     "data": {
      "text/plain": [
       "\"\\nBMI: new_df['BMI'] = binarizeRange(binary_columns['BMI'], 18.5, 2)\\nAge: new_df['Age'] = binarizeCutOff(binary_columns['Age'], 50 , 'Young', 'Old')\\nRace: new_df['Race'] = binarizeCategorical(binary_columns['Race'], 'European', ['White'], 'Not_European', ['Black or African American', 'Not Reported', 'Asian'])\\nDiabetes: new_df['Diabetes'] = binarizeCategorical(binary_columns['Diabetes'], 'Diabetic', ['Yes'], 'Not_Diabetic', ['No'])\\nHistologic_Grade_FIGO: new_df['Histologic_Grade_FIGO'] = binarizeCategoricalV2(binary_columns['Histologic_Grade_FIGO'], 'Grade1', ['FIGO Grade 1'], 'Not_Grade1', ['FIGO Grade 2', 'FIGO Grade 3]\\n\""
      ]
     },
     "execution_count": 120,
     "metadata": {},
     "output_type": "execute_result"
    }
   ],
   "source": [
    "# Version 5: Probably the best version so far since not everything is done in one function\n",
    "# Works for Age, Race and BMI as expected. Functions\n",
    "\n",
    "def binarizeCutOff(my_list, cut_off, replace_low, replace_high):\n",
    "    return [ replace_low if (x < cut_off) else replace_high if x >= cut_off else x for x in my_list ]\n",
    "\n",
    "def binarizeRange(my_list, low_bar, high_bar, in_range='In_Range', out_of_range='Out_Of_Range'):\n",
    "    return [ in_range if (x > low_bar and x < high_bar) else out_of_range  \n",
    "            if (x < low_bar or x > high_bar) else x for x in my_list ]\n",
    "\n",
    "'''\n",
    "I think this binarizeCategorical should work just fine, but for \n",
    "whatever reason, it keeps returning 'x' where it should return np.nan\n",
    "'''\n",
    "\n",
    "def binarizeCategorical(my_list, option1, option1_list, option2):\n",
    "    return [ option1 if (x in option1_list) else x if (x == np.nan) else option2 for x in my_list ]\n",
    "    #return [ option1 if (x in option1_list) else option2 if (x not in option1_list and x != np.nan) else x for x in my_list ]\n",
    "\n",
    "def binarizeCategoricalV2(my_list, option1, option1_list, option2, option2_list):\n",
    "    return [ option1 if (x in option1_list) else option2 if (x in option2_list) else x for x in my_list ]"
   ]
  },
  {
   "cell_type": "code",
   "execution_count": null,
   "metadata": {
    "collapsed": true
   },
   "outputs": [],
   "source": [
    "# Example Uses for the functions one at a time\n",
    "'''\n",
    "BMI: new_df['BMI'] = binarizeRange(binary_columns['BMI'], 18.5, 2)\n",
    "Age: new_df['Age'] = binarizeCutOff(binary_columns['Age'], 50 , 'Young', 'Old')\n",
    "Race: new_df['Race'] = binarizeCategorical(binary_columns['Race'], 'European', ['White'], 'Not_European', ['Black or African American', 'Not Reported', 'Asian'])\n",
    "Diabetes: new_df['Diabetes'] = binarizeCategorical(binary_columns['Diabetes'], 'Diabetic', ['Yes'], 'Not_Diabetic', ['No'])\n",
    "Histologic_Grade_FIGO: new_df['Histologic_Grade_FIGO'] = binarizeCategoricalV2(binary_columns['Histologic_Grade_FIGO'], 'Grade1', ['FIGO Grade 1'], 'Not_Grade1', ['FIGO Grade 2', 'FIGO Grade 3]\n",
    "'''"
   ]
  },
  {
   "cell_type": "code",
   "execution_count": null,
   "metadata": {
    "collapsed": true
   },
   "outputs": [],
   "source": [
    "# Using the functions\n",
    "new_df = binary_columns.copy()\n",
    "new_df = new_df.assign(**{'BMI':binarizeRange(binary_columns['BMI'], 18.5, 25), \n",
    "                          'Age':binarizeCutOff(binary_columns['Age'], 50, 'Young', 'Old'), \n",
    "                          'Race':binarizeCategoricalV2(binary_columns['Race'], 'European', ['White'], 'Not_European',\n",
    "                                                       ['Black or African American', 'Not Reported', 'Asian']), \n",
    "                          'Diabetes':binarizeCategoricalV2(binary_columns['Diabetes'], 'Diabetic', ['Yes'], \n",
    "                                                           'Not_Diabetic', ['No', 'Unknown'])\n",
    "                         }\n",
    "                      )\n",
    "print(new_df)\n",
    "\n",
    "print(new_df['BMI'].value_counts()) \n",
    "print('\\n')\n",
    "print(new_df['Age'].value_counts()) \n",
    "print('\\n')\n",
    "print(new_df['Race'].value_counts()) \n",
    "print('\\n')\n",
    "print(new_df['Diabetes'].value_counts())"
   ]
  },
  {
   "cell_type": "code",
   "execution_count": null,
   "metadata": {
    "collapsed": true
   },
   "outputs": [],
   "source": [
    "new_df = new_df.assign(**{'Histologic_Grade_FIGO':binarizeCategoricalV2(binary_columns['Histologic_Grade_FIGO'], \n",
    "                                                                        'Grade1', ['FIGO grade 1'], 'Not_Grade1', \n",
    "                                                                        ['FIGO grade 2', 'FIGO grade 3'])\n",
    "                         }\n",
    "                      )"
   ]
  }
 ],
 "metadata": {
  "kernelspec": {
   "display_name": "Python 3",
   "language": "python",
   "name": "python3"
  },
  "language_info": {
   "codemirror_mode": {
    "name": "ipython",
    "version": 3
   },
   "file_extension": ".py",
   "mimetype": "text/x-python",
   "name": "python",
   "nbconvert_exporter": "python",
   "pygments_lexer": "ipython3",
   "version": "3.6.2"
  }
 },
 "nbformat": 4,
 "nbformat_minor": 2
}
