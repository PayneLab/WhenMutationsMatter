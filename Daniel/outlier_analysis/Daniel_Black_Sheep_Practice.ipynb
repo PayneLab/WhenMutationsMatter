{
 "cells": [
  {
   "cell_type": "code",
   "execution_count": 21,
   "metadata": {
    "collapsed": true
   },
   "outputs": [],
   "source": [
    "import pandas as pd, numpy as np, seaborn as sns, matplotlib.pyplot as plt, sys\n",
    "sys.path.insert(0, \"/Users/lili/dropbox_lili/common_functions/outlier_analysis/\")\n",
    "import blackSheepCPTACmodule as ol"
   ]
  },
  {
   "cell_type": "code",
   "execution_count": 22,
   "metadata": {},
   "outputs": [
    {
     "data": {
      "text/plain": [
       "<module 'blackSheepCPTACmodule' from 'C:\\\\Users\\\\Daniel\\\\Documents\\\\GitHub\\\\WhenMutationsMatter\\\\Daniel\\\\outlier_analysis\\\\blackSheepCPTACmodule.py'>"
      ]
     },
     "execution_count": 22,
     "metadata": {},
     "output_type": "execute_result"
    }
   ],
   "source": [
    "import importlib\n",
    "importlib.reload(ol)"
   ]
  },
  {
   "cell_type": "code",
   "execution_count": 23,
   "metadata": {},
   "outputs": [],
   "source": [
    "import CPTAC.Endometrial as en\n",
    "import CPTAC.Ovarian as ov"
   ]
  },
  {
   "cell_type": "code",
   "execution_count": 46,
   "metadata": {},
   "outputs": [
    {
     "name": "stdout",
     "output_type": "stream",
     "text": [
      "6.17 s ± 228 ms per loop (mean ± std. dev. of 7 runs, 1 loop each)\n"
     ]
    }
   ],
   "source": [
    "%%timeit\n",
    "\n",
    "proteomics = en.get_proteomics()\n",
    "transcriptomics = en.get_transcriptomics()\n",
    "small_proteomics = proteomics.iloc[0:100, :]\n",
    "outliers = ol.make_outliers_table(transcriptomics, iqrs=2.0, \n",
    "                                  up_or_down='up', aggregate=False, \n",
    "                                  frac_table=True)"
   ]
  },
  {
   "cell_type": "code",
   "execution_count": 79,
   "metadata": {},
   "outputs": [],
   "source": [
    "clinical = en.get_clinical()\n",
    "annotations = clinical[['Histologic_Grade_FIGO','Diabetes', 'Race', 'Age']]"
   ]
  },
  {
   "cell_type": "code",
   "execution_count": 83,
   "metadata": {},
   "outputs": [
    {
     "name": "stdout",
     "output_type": "stream",
     "text": [
      "          Histologic_Grade_FIGO Diabetes    Race   Age  Over_50\n",
      "Sample_ID                                                      \n",
      "S001               FIGO grade 1       No   White  64.0     True\n",
      "S002               FIGO grade 1       No   White  58.0     True\n",
      "S003               FIGO grade 2      Yes   White  50.0    False\n",
      "S005               FIGO grade 2       No   White  75.0     True\n",
      "S006                        NaN       No   White  63.0     True\n",
      "S007               FIGO grade 1       No   White  50.0    False\n",
      "S008               FIGO grade 2       No   White  60.0     True\n",
      "S009                        NaN       No   White  83.0     True\n",
      "S010               FIGO grade 1      Yes   White  69.0     True\n",
      "S011               FIGO grade 1      Yes   White  59.0     True\n",
      "S012               FIGO grade 1      Yes   White  56.0     True\n",
      "S014               FIGO grade 2       No   White  46.0    False\n",
      "S016                        NaN       No   White  90.0     True\n",
      "S017               FIGO grade 1      Yes   White  64.0     True\n",
      "S018               FIGO grade 1      Yes   White  38.0    False\n",
      "S019               FIGO grade 1       No   White  60.0     True\n",
      "S020               FIGO grade 2       No   White  59.0     True\n",
      "S021               FIGO grade 1      Yes   Asian  62.0     True\n",
      "S022               FIGO grade 1       No   White  50.0    False\n",
      "S023               FIGO grade 1       No   White  57.0     True\n",
      "S024               FIGO grade 2       No   White  73.0     True\n",
      "S025               FIGO grade 1       No   White  56.0     True\n",
      "S026               FIGO grade 2       No   White  56.0     True\n",
      "S027               FIGO grade 1      Yes   White  73.0     True\n",
      "S028               FIGO grade 2       No   White  86.0     True\n",
      "S029               FIGO grade 2      Yes   White  69.0     True\n",
      "S030               FIGO grade 3       No   White  48.0    False\n",
      "S031               FIGO grade 3       No   White  64.0     True\n",
      "S032               FIGO grade 1      Yes   White  68.0     True\n",
      "S033               FIGO grade 2       No   White  66.0     True\n",
      "...                         ...      ...     ...   ...      ...\n",
      "S124                        NaN      NaN     NaN   NaN    False\n",
      "S125                        NaN      NaN     NaN   NaN    False\n",
      "S126                        NaN      NaN     NaN   NaN    False\n",
      "S127                        NaN      NaN     NaN   NaN    False\n",
      "S128                        NaN      NaN     NaN   NaN    False\n",
      "S129                        NaN      NaN     NaN   NaN    False\n",
      "S130                        NaN      NaN     NaN   NaN    False\n",
      "S131                        NaN      NaN     NaN   NaN    False\n",
      "S132                        NaN      NaN     NaN   NaN    False\n",
      "S133                        NaN      NaN     NaN   NaN    False\n",
      "S134                        NaN      NaN     NaN   NaN    False\n",
      "S135                        NaN      NaN     NaN   NaN    False\n",
      "S136                        NaN      NaN     NaN   NaN    False\n",
      "S137                        NaN      NaN     NaN   NaN    False\n",
      "S138                        NaN      NaN     NaN   NaN    False\n",
      "S139                        NaN      NaN     NaN   NaN    False\n",
      "S140                        NaN      NaN     NaN   NaN    False\n",
      "S141                        NaN      NaN     NaN   NaN    False\n",
      "S142                        NaN      NaN     NaN   NaN    False\n",
      "S143                        NaN      NaN     NaN   NaN    False\n",
      "S144                        NaN      NaN     NaN   NaN    False\n",
      "S145                        NaN      NaN     NaN   NaN    False\n",
      "S146                        NaN      NaN     NaN   NaN    False\n",
      "S147                        NaN      NaN     NaN   NaN    False\n",
      "S148                        NaN      NaN     NaN   NaN    False\n",
      "S149                        NaN      NaN     NaN   NaN    False\n",
      "S150                        NaN      NaN     NaN   NaN    False\n",
      "S151                        NaN      NaN     NaN   NaN    False\n",
      "S152                        NaN      NaN     NaN   NaN    False\n",
      "S153                        NaN      NaN     NaN   NaN    False\n",
      "\n",
      "[144 rows x 5 columns]\n"
     ]
    },
    {
     "name": "stderr",
     "output_type": "stream",
     "text": [
      "C:\\Users\\Daniel\\AppData\\Local\\conda\\conda\\envs\\Research\\lib\\site-packages\\ipykernel_launcher.py:3: SettingWithCopyWarning: \n",
      "A value is trying to be set on a copy of a slice from a DataFrame.\n",
      "Try using .loc[row_indexer,col_indexer] = value instead\n",
      "\n",
      "See the caveats in the documentation: http://pandas.pydata.org/pandas-docs/stable/indexing.html#indexing-view-versus-copy\n",
      "  This is separate from the ipykernel package so we can avoid doing imports until\n"
     ]
    }
   ],
   "source": [
    "##Create a function that binarizes classifiers\n",
    "##Need to make this more resilient and create a function\n",
    "##that allows you to filter the end enrichment table by p-values < 0.05\n",
    "def binarize(df, boundary_name, original_qualifier, boundary):\n",
    "    annotations[boundary_name] = annotations[original_qualifier] > boundary\n",
    "    print(annotations)\n",
    "    \n",
    "binarize(annotations, 'Over_50', 'Age', 50)"
   ]
  },
  {
   "cell_type": "code",
   "execution_count": 59,
   "metadata": {},
   "outputs": [
    {
     "name": "stdout",
     "output_type": "stream",
     "text": [
      "No rows had outliers in at least 0.1 of Histologic_Grade_FIGO FIGO grade 2 samples\n",
      "Testing 1 rows for enrichment in Histologic_Grade_FIGO FIGO grade 1 samples\n",
      "No rows had outliers in at least 0.1 of Diabetes No samples\n",
      "Testing 1 rows for enrichment in Diabetes Yes samples\n",
      "No rows had outliers in at least 0.1 of Race White samples\n",
      "Testing 1 rows for enrichment in Race Black or African American samples\n"
     ]
    },
    {
     "data": {
      "text/html": [
       "<div>\n",
       "<style scoped>\n",
       "    .dataframe tbody tr th:only-of-type {\n",
       "        vertical-align: middle;\n",
       "    }\n",
       "\n",
       "    .dataframe tbody tr th {\n",
       "        vertical-align: top;\n",
       "    }\n",
       "\n",
       "    .dataframe thead th {\n",
       "        text-align: right;\n",
       "    }\n",
       "</style>\n",
       "<table border=\"1\" class=\"dataframe\">\n",
       "  <thead>\n",
       "    <tr style=\"text-align: right;\">\n",
       "      <th></th>\n",
       "      <th>Histologic_Grade_FIGO_FIGO grade 1_enrichment_FDR</th>\n",
       "      <th>Diabetes_Yes_enrichment_FDR</th>\n",
       "      <th>Race_Black or African American_enrichment_FDR</th>\n",
       "    </tr>\n",
       "  </thead>\n",
       "  <tbody>\n",
       "    <tr>\n",
       "      <th>A1BG</th>\n",
       "      <td>NaN</td>\n",
       "      <td>NaN</td>\n",
       "      <td>NaN</td>\n",
       "    </tr>\n",
       "    <tr>\n",
       "      <th>A2M</th>\n",
       "      <td>NaN</td>\n",
       "      <td>NaN</td>\n",
       "      <td>NaN</td>\n",
       "    </tr>\n",
       "    <tr>\n",
       "      <th>A2ML1</th>\n",
       "      <td>NaN</td>\n",
       "      <td>NaN</td>\n",
       "      <td>NaN</td>\n",
       "    </tr>\n",
       "    <tr>\n",
       "      <th>A4GALT</th>\n",
       "      <td>0.412557</td>\n",
       "      <td>0.401228</td>\n",
       "      <td>NaN</td>\n",
       "    </tr>\n",
       "    <tr>\n",
       "      <th>AAAS</th>\n",
       "      <td>NaN</td>\n",
       "      <td>NaN</td>\n",
       "      <td>NaN</td>\n",
       "    </tr>\n",
       "    <tr>\n",
       "      <th>AACS</th>\n",
       "      <td>NaN</td>\n",
       "      <td>NaN</td>\n",
       "      <td>NaN</td>\n",
       "    </tr>\n",
       "    <tr>\n",
       "      <th>AADAT</th>\n",
       "      <td>NaN</td>\n",
       "      <td>NaN</td>\n",
       "      <td>NaN</td>\n",
       "    </tr>\n",
       "    <tr>\n",
       "      <th>AAED1</th>\n",
       "      <td>NaN</td>\n",
       "      <td>NaN</td>\n",
       "      <td>0.113122</td>\n",
       "    </tr>\n",
       "    <tr>\n",
       "      <th>AAGAB</th>\n",
       "      <td>NaN</td>\n",
       "      <td>NaN</td>\n",
       "      <td>NaN</td>\n",
       "    </tr>\n",
       "    <tr>\n",
       "      <th>AAK1</th>\n",
       "      <td>NaN</td>\n",
       "      <td>NaN</td>\n",
       "      <td>NaN</td>\n",
       "    </tr>\n",
       "  </tbody>\n",
       "</table>\n",
       "</div>"
      ],
      "text/plain": [
       "        Histologic_Grade_FIGO_FIGO grade 1_enrichment_FDR  \\\n",
       "A1BG                                                  NaN   \n",
       "A2M                                                   NaN   \n",
       "A2ML1                                                 NaN   \n",
       "A4GALT                                           0.412557   \n",
       "AAAS                                                  NaN   \n",
       "AACS                                                  NaN   \n",
       "AADAT                                                 NaN   \n",
       "AAED1                                                 NaN   \n",
       "AAGAB                                                 NaN   \n",
       "AAK1                                                  NaN   \n",
       "\n",
       "        Diabetes_Yes_enrichment_FDR  \\\n",
       "A1BG                            NaN   \n",
       "A2M                             NaN   \n",
       "A2ML1                           NaN   \n",
       "A4GALT                     0.401228   \n",
       "AAAS                            NaN   \n",
       "AACS                            NaN   \n",
       "AADAT                           NaN   \n",
       "AAED1                           NaN   \n",
       "AAGAB                           NaN   \n",
       "AAK1                            NaN   \n",
       "\n",
       "        Race_Black or African American_enrichment_FDR  \n",
       "A1BG                                              NaN  \n",
       "A2M                                               NaN  \n",
       "A2ML1                                             NaN  \n",
       "A4GALT                                            NaN  \n",
       "AAAS                                              NaN  \n",
       "AACS                                              NaN  \n",
       "AADAT                                             NaN  \n",
       "AAED1                                        0.113122  \n",
       "AAGAB                                             NaN  \n",
       "AAK1                                              NaN  "
      ]
     },
     "execution_count": 59,
     "metadata": {},
     "output_type": "execute_result"
    }
   ],
   "source": [
    "results = ol.compare_groups_outliers(outliers, annotations, frac_filter=.1)\n",
    "results"
   ]
  }
 ],
 "metadata": {
  "kernelspec": {
   "display_name": "Python 3",
   "language": "python",
   "name": "python3"
  },
  "language_info": {
   "codemirror_mode": {
    "name": "ipython",
    "version": 3
   },
   "file_extension": ".py",
   "mimetype": "text/x-python",
   "name": "python",
   "nbconvert_exporter": "python",
   "pygments_lexer": "ipython3",
   "version": "3.6.2"
  }
 },
 "nbformat": 4,
 "nbformat_minor": 2
}
