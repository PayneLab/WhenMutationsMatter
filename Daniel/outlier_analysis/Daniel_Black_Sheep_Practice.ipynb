{
 "cells": [
  {
   "cell_type": "code",
   "execution_count": 1,
   "metadata": {},
   "outputs": [
    {
     "name": "stdout",
     "output_type": "stream",
     "text": [
      "Welcome to the cptac data service package. To view available datasets,\n",
      "enter cptac.list_data(). To access a specific data set, load the\n",
      "dataset and assign it to a variable using 'cptac.NameOfDataset()',\n",
      "e.g. 'en = cptac.Endometrial()'\n",
      "******\n",
      "Version: 0.5.0\n",
      "******\n"
     ]
    }
   ],
   "source": [
    "# Import blackSheepCPTACmodule and cptac data\n",
    "import pandas as pd, numpy as np, seaborn as sns, matplotlib.pyplot as plt, sys\n",
    "sys.path.insert(0, \"/Users/lili/dropbox_lili/common_functions/outlier_analysis/\")\n",
    "import blackSheepCPTACmodule as ol\n",
    "import importlib\n",
    "importlib.reload(ol)\n",
    "import cptac"
   ]
  },
  {
   "cell_type": "code",
   "execution_count": 2,
   "metadata": {},
   "outputs": [
    {
     "name": "stdout",
     "output_type": "stream",
     "text": [
      "You have loaded the cptac endometrial dataset. To view available\n",
      "dataframes, call the dataset's list_data() method. To view available\n",
      "functions for accessing and manipulating the dataframes, call its\n",
      "list_api() method.\n",
      "endometrial data version: 2.1\n",
      "\n",
      "Loading acetylproteomics data...\n",
      "Loading clinical data...\n",
      "Loading CNA data...\n",
      "Loading definitions data...\n",
      "Loading miRNA data...\n",
      "Loading phosphoproteomics_gene data...\n",
      "Loading phosphoproteomics_site data...\n",
      "Loading proteomics data...\n",
      "Loading somatic data...\n",
      "Loading somatic_binary data...\n",
      "Loading transcriptomics_circular data...\n",
      "Loading transcriptomics_linear data...\n",
      "\n",
      "Loading definitions...\n",
      "\n",
      " ******PLEASE READ******\n",
      "WARNING: This data is under a publication embargo until July 1, 2019.\n",
      "CPTAC is a community resource project and data are made available\n",
      "rapidly after generation for community research use. The embargo\n",
      "allows exploring and utilizing the data, but the data may not be in a\n",
      "publication until July 1, 2019. Please see\n",
      "https://proteomics.cancer.gov/data-portal/about/data-use-agreement or\n",
      "enter cptac.embargo() to open the webpage for more details.\n"
     ]
    }
   ],
   "source": [
    "# Get data\n",
    "en = cptac.Endometrial()\n",
    "proteomics = en.get_proteomics()\n",
    "transcriptomics = en.get_transcriptomics()\n",
    "clinical = en.get_clinical()"
   ]
  },
  {
   "cell_type": "code",
   "execution_count": null,
   "metadata": {
    "collapsed": true
   },
   "outputs": [],
   "source": [
    "#This cell is for reference so that I don't have to keep looking up which columns\n",
    "#in the clinical dataset are binary and which aren't for testing.\n",
    "\n",
    "non_binary_columns = ['Country', 'Histologic_Grade_FIGO', \n",
    "                      'Proteomics_Tumor_Normal', 'Myometrial_invasion_Specify', \n",
    "                      'Path_Stage_Primary_Tumor-pT', 'Path_Stage_Reg_Lymph_Nodes-pN', \n",
    "                      'Clin_Stage_Dist_Mets-cM', 'Path_Stage_Dist_Mets-pM', \n",
    "                      'tumor_Stage-Pathological', 'FIGO_stage', 'BMI', 'Age', 'Race', \n",
    "                      'Ethnicity', 'Tumor_Site', 'Tumor_Site_Other', 'Tumor_Size_cm', \n",
    "                      'Num_full_term_pregnancies']\n",
    "\n",
    "already_binary_columns = ['Treatment_naive', 'Diabetes', 'Gender', \n",
    "                          'Tumor_Focality', 'Histologic_type', \n",
    "                          'Tumor_purity', 'LVSI', ]"
   ]
  },
  {
   "cell_type": "code",
   "execution_count": 3,
   "metadata": {
    "collapsed": true
   },
   "outputs": [],
   "source": [
    "# Create subset of clinical dataset to test for trends\n",
    "annotations = clinical[['Ethnicity','Diabetes', 'BMI']]"
   ]
  },
  {
   "cell_type": "code",
   "execution_count": 4,
   "metadata": {},
   "outputs": [
    {
     "name": "stdout",
     "output_type": "stream",
     "text": [
      "Testing 1462 rows for enrichment in Ethnicity Not-Hispanic or Latino samples\n",
      "Testing 986 rows for enrichment in Ethnicity Not reported samples\n",
      "Testing 1150 rows for enrichment in Diabetes No samples\n",
      "Testing 1156 rows for enrichment in Diabetes Yes samples\n",
      "Testing 1845 rows for enrichment in BMI 31.0 samples\n",
      "Testing 2184 rows for enrichment in BMI 27.0 samples\n"
     ]
    },
    {
     "data": {
      "text/html": [
       "<div>\n",
       "<style scoped>\n",
       "    .dataframe tbody tr th:only-of-type {\n",
       "        vertical-align: middle;\n",
       "    }\n",
       "\n",
       "    .dataframe tbody tr th {\n",
       "        vertical-align: top;\n",
       "    }\n",
       "\n",
       "    .dataframe thead th {\n",
       "        text-align: right;\n",
       "    }\n",
       "</style>\n",
       "<table border=\"1\" class=\"dataframe\">\n",
       "  <thead>\n",
       "    <tr style=\"text-align: right;\">\n",
       "      <th></th>\n",
       "      <th>Ethnicity_Not-Hispanic or Latino_enrichment_FDR</th>\n",
       "      <th>Ethnicity_Not reported_enrichment_FDR</th>\n",
       "      <th>Diabetes_No_enrichment_FDR</th>\n",
       "      <th>Diabetes_Yes_enrichment_FDR</th>\n",
       "      <th>BMI_31.0_enrichment_FDR</th>\n",
       "      <th>BMI_27.0_enrichment_FDR</th>\n",
       "    </tr>\n",
       "  </thead>\n",
       "  <tbody>\n",
       "    <tr>\n",
       "      <th>A1BG</th>\n",
       "      <td>NaN</td>\n",
       "      <td>NaN</td>\n",
       "      <td>NaN</td>\n",
       "      <td>NaN</td>\n",
       "      <td>NaN</td>\n",
       "      <td>NaN</td>\n",
       "    </tr>\n",
       "    <tr>\n",
       "      <th>A1BG-AS1</th>\n",
       "      <td>NaN</td>\n",
       "      <td>NaN</td>\n",
       "      <td>NaN</td>\n",
       "      <td>NaN</td>\n",
       "      <td>NaN</td>\n",
       "      <td>NaN</td>\n",
       "    </tr>\n",
       "    <tr>\n",
       "      <th>A1CF</th>\n",
       "      <td>NaN</td>\n",
       "      <td>NaN</td>\n",
       "      <td>NaN</td>\n",
       "      <td>NaN</td>\n",
       "      <td>NaN</td>\n",
       "      <td>NaN</td>\n",
       "    </tr>\n",
       "    <tr>\n",
       "      <th>A2M</th>\n",
       "      <td>NaN</td>\n",
       "      <td>NaN</td>\n",
       "      <td>NaN</td>\n",
       "      <td>NaN</td>\n",
       "      <td>NaN</td>\n",
       "      <td>NaN</td>\n",
       "    </tr>\n",
       "    <tr>\n",
       "      <th>A2M-AS1</th>\n",
       "      <td>NaN</td>\n",
       "      <td>NaN</td>\n",
       "      <td>NaN</td>\n",
       "      <td>NaN</td>\n",
       "      <td>NaN</td>\n",
       "      <td>NaN</td>\n",
       "    </tr>\n",
       "  </tbody>\n",
       "</table>\n",
       "</div>"
      ],
      "text/plain": [
       "          Ethnicity_Not-Hispanic or Latino_enrichment_FDR  \\\n",
       "A1BG                                                  NaN   \n",
       "A1BG-AS1                                              NaN   \n",
       "A1CF                                                  NaN   \n",
       "A2M                                                   NaN   \n",
       "A2M-AS1                                               NaN   \n",
       "\n",
       "          Ethnicity_Not reported_enrichment_FDR  Diabetes_No_enrichment_FDR  \\\n",
       "A1BG                                        NaN                         NaN   \n",
       "A1BG-AS1                                    NaN                         NaN   \n",
       "A1CF                                        NaN                         NaN   \n",
       "A2M                                         NaN                         NaN   \n",
       "A2M-AS1                                     NaN                         NaN   \n",
       "\n",
       "          Diabetes_Yes_enrichment_FDR  BMI_31.0_enrichment_FDR  \\\n",
       "A1BG                              NaN                      NaN   \n",
       "A1BG-AS1                          NaN                      NaN   \n",
       "A1CF                              NaN                      NaN   \n",
       "A2M                               NaN                      NaN   \n",
       "A2M-AS1                           NaN                      NaN   \n",
       "\n",
       "          BMI_27.0_enrichment_FDR  \n",
       "A1BG                          NaN  \n",
       "A1BG-AS1                      NaN  \n",
       "A1CF                          NaN  \n",
       "A2M                           NaN  \n",
       "A2M-AS1                       NaN  "
      ]
     },
     "execution_count": 4,
     "metadata": {},
     "output_type": "execute_result"
    }
   ],
   "source": [
    "# Test of the make_outliers_table function to create a table of outliers\n",
    "# in the transcriptomics data.\n",
    "outliers = ol.make_outliers_table(transcriptomics, iqrs=2.0, \n",
    "                                  up_or_down='up', aggregate=False, \n",
    "                                  frac_table=False)\n",
    "\n",
    "results = ol.compare_groups_outliers(outliers, annotations, frac_filter=.1)\n",
    "results.head()"
   ]
  }
 ],
 "metadata": {
  "kernelspec": {
   "display_name": "Python 3",
   "language": "python",
   "name": "python3"
  },
  "language_info": {
   "codemirror_mode": {
    "name": "ipython",
    "version": 3
   },
   "file_extension": ".py",
   "mimetype": "text/x-python",
   "name": "python",
   "nbconvert_exporter": "python",
   "pygments_lexer": "ipython3",
   "version": "3.6.2"
  }
 },
 "nbformat": 4,
 "nbformat_minor": 2
}
