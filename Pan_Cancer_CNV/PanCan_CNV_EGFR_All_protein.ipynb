{
 "cells": [
  {
   "cell_type": "markdown",
   "metadata": {},
   "source": [
    "# Pan Cancer EGFR "
   ]
  },
  {
   "cell_type": "code",
   "execution_count": 1,
   "metadata": {},
   "outputs": [],
   "source": [
    "import pandas as pd\n",
    "import numpy as np\n",
    "import seaborn as sns\n",
    "import matplotlib.pyplot as plt\n",
    "import scipy.stats\n",
    "import re\n",
    "import sys \n",
    "#sys.path.append('C:\\\\Users\\\\brittany henderson\\\\GitHub\\\\GBM_for_CPTAC\\\\')\n",
    "#import cis_functions as f\n",
    "\n",
    "import cptac\n",
    "import cptac.utils as u"
   ]
  },
  {
   "cell_type": "code",
   "execution_count": 2,
   "metadata": {},
   "outputs": [],
   "source": [
    "#function takes df with all interacting omics and the comparison gene\n",
    "#Creates a new df to be filled by function. Performs linear regression for each proteomic gene \n",
    "def wrap_lin_regression(df,gene, alpha=.05, verbose=False, return_all = False ):\n",
    "    \n",
    "    newdf = pd.DataFrame(columns=['Interacting_gene','Slope', 'R_squared', 'P_value'])\n",
    "    df = df.drop(axis='columns', how = \"all\")\n",
    "    \n",
    "    ''''Determine the number of real valued columns on which we will do t-tests'''\n",
    "    number_of_comparisons = len(prot_genes)\n",
    "        \n",
    "    '''Use a bonferroni correction to adjust for multiple testing by altering the p-value needed for acceptance'''\n",
    "    bonferroni_cutoff = alpha/number_of_comparisons\n",
    "    #loop through genes in proteomic_genes\n",
    "    for inter_gene in prot_genes:\n",
    "        interacting_gene = inter_gene +\"_proteomics\"\n",
    "        #create subset df with interacting gene/ gene (otherwise drop NaN drops everything)\n",
    "        prot_CNV_df_subset = df[[interacting_gene,gene +\"_CNV\"]]\n",
    "        #do a linear regression to see if it's a meaningful association\n",
    "        #dropna will remove rows with nan\n",
    "        prot_CNV_df_subset = prot_CNV_df_subset.dropna(axis=0, how=\"any\")\n",
    "        count_row = prot_CNV_df_subset.shape[0]\n",
    "       # if count_row > 0:\n",
    "        x1 = prot_CNV_df_subset[[gene+\"_CNV\"]].values\n",
    "        y1 = prot_CNV_df_subset[[interacting_gene]].values\n",
    "        x1 = x1[:,0]\n",
    "        y1 = y1[:,0]\n",
    "\n",
    "        slope, intercept, r_value, p_value, std_err = scipy.stats.linregress(x1,y1)\n",
    "\n",
    "            # only add to df if p value is significan\n",
    "        \n",
    "        if p_value < bonferroni_cutoff:\n",
    "            newdf = newdf.append({'Interacting_gene': interacting_gene, 'R_squared': str(r_value**2), 'P_value':  str(p_value)}, ignore_index=True)\n",
    "\n",
    "    return (newdf)\n",
    "       "
   ]
  },
  {
   "cell_type": "markdown",
   "metadata": {},
   "source": [
    "# GBM"
   ]
  },
  {
   "cell_type": "code",
   "execution_count": 3,
   "metadata": {},
   "outputs": [
    {
     "name": "stdout",
     "output_type": "stream",
     "text": [
      "                                    \r"
     ]
    }
   ],
   "source": [
    "#load GBM data \n",
    "\n",
    "brain = cptac.Gbm()\n"
   ]
  },
  {
   "cell_type": "code",
   "execution_count": 4,
   "metadata": {},
   "outputs": [],
   "source": [
    "#create list of all proteomic genes \n",
    "prot_df = brain.get_proteomics()\n",
    "prot_genes_list = prot_df.columns.values.tolist()\n"
   ]
  },
  {
   "cell_type": "code",
   "execution_count": 5,
   "metadata": {},
   "outputs": [
    {
     "name": "stderr",
     "output_type": "stream",
     "text": [
      "Warning: CNV data was not found for the following samples, so CNV data columns were filled with NaN for these samples: S020, S106, S107, S108, S109, S110, S111, S112, S113, S114, S115 (/Users/Lindsey/anaconda3/lib/python3.7/site-packages/ipykernel_launcher.py, line 4)\n"
     ]
    },
    {
     "ename": "TypeError",
     "evalue": "drop() got an unexpected keyword argument 'how'",
     "output_type": "error",
     "traceback": [
      "\u001b[0;31m---------------------------------------------------------------------------\u001b[0m",
      "\u001b[0;31mTypeError\u001b[0m                                 Traceback (most recent call last)",
      "\u001b[0;32m<ipython-input-5-78b7b8c05223>\u001b[0m in \u001b[0;36m<module>\u001b[0;34m\u001b[0m\n\u001b[1;32m      5\u001b[0m \u001b[0;34m\u001b[0m\u001b[0m\n\u001b[1;32m      6\u001b[0m \u001b[0;34m\u001b[0m\u001b[0m\n\u001b[0;32m----> 7\u001b[0;31m \u001b[0mdf2\u001b[0m\u001b[0;34m=\u001b[0m\u001b[0mwrap_lin_regression\u001b[0m\u001b[0;34m(\u001b[0m\u001b[0mprot_and_CNV\u001b[0m\u001b[0;34m,\u001b[0m\u001b[0mprot_genes_list\u001b[0m\u001b[0;34m,\u001b[0m\u001b[0;34m\"EGFR\"\u001b[0m\u001b[0;34m)\u001b[0m\u001b[0;34m\u001b[0m\u001b[0;34m\u001b[0m\u001b[0m\n\u001b[0m\u001b[1;32m      8\u001b[0m \u001b[0mdf2\u001b[0m\u001b[0;34m\u001b[0m\u001b[0;34m\u001b[0m\u001b[0m\n",
      "\u001b[0;32m<ipython-input-2-2c3fec2510fc>\u001b[0m in \u001b[0;36mwrap_lin_regression\u001b[0;34m(df, gene, alpha, verbose, return_all)\u001b[0m\n\u001b[1;32m      4\u001b[0m \u001b[0;34m\u001b[0m\u001b[0m\n\u001b[1;32m      5\u001b[0m     \u001b[0mnewdf\u001b[0m \u001b[0;34m=\u001b[0m \u001b[0mpd\u001b[0m\u001b[0;34m.\u001b[0m\u001b[0mDataFrame\u001b[0m\u001b[0;34m(\u001b[0m\u001b[0mcolumns\u001b[0m\u001b[0;34m=\u001b[0m\u001b[0;34m[\u001b[0m\u001b[0;34m'Interacting_gene'\u001b[0m\u001b[0;34m,\u001b[0m\u001b[0;34m'Slope'\u001b[0m\u001b[0;34m,\u001b[0m \u001b[0;34m'R_squared'\u001b[0m\u001b[0;34m,\u001b[0m \u001b[0;34m'P_value'\u001b[0m\u001b[0;34m]\u001b[0m\u001b[0;34m)\u001b[0m\u001b[0;34m\u001b[0m\u001b[0;34m\u001b[0m\u001b[0m\n\u001b[0;32m----> 6\u001b[0;31m     \u001b[0mdf\u001b[0m \u001b[0;34m=\u001b[0m \u001b[0mdf\u001b[0m\u001b[0;34m.\u001b[0m\u001b[0mdrop\u001b[0m\u001b[0;34m(\u001b[0m\u001b[0maxis\u001b[0m\u001b[0;34m=\u001b[0m\u001b[0;34m'columns'\u001b[0m\u001b[0;34m,\u001b[0m \u001b[0mhow\u001b[0m \u001b[0;34m=\u001b[0m \u001b[0;34m\"all\"\u001b[0m\u001b[0;34m)\u001b[0m\u001b[0;34m\u001b[0m\u001b[0;34m\u001b[0m\u001b[0m\n\u001b[0m\u001b[1;32m      7\u001b[0m \u001b[0;34m\u001b[0m\u001b[0m\n\u001b[1;32m      8\u001b[0m     \u001b[0;34m''''Determine the number of real valued columns on which we will do t-tests'''\u001b[0m\u001b[0;34m\u001b[0m\u001b[0;34m\u001b[0m\u001b[0m\n",
      "\u001b[0;31mTypeError\u001b[0m: drop() got an unexpected keyword argument 'how'"
     ]
    }
   ],
   "source": [
    "#Create df or proteomic and CNV data. \n",
    "#Run linear regression function on all proteins.\n",
    "omics = \"proteomics\"\n",
    "prot_and_CNV = brain.join_omics_to_omics(df1_name=\"proteomics\",df2_name=\"CNV\",genes1 = prot_genes_list, genes2 = \"EGFR\")\n",
    "\n",
    "\n",
    "df2=wrap_lin_regression(prot_and_CNV,prot_genes_list,\"EGFR\")\n",
    "df2\n"
   ]
  },
  {
   "cell_type": "code",
   "execution_count": null,
   "metadata": {},
   "outputs": [],
   "source": [
    "df2.to_excel(\"GBM_all_EGFR.xlsx\")"
   ]
  },
  {
   "cell_type": "markdown",
   "metadata": {},
   "source": [
    "# Kidney "
   ]
  },
  {
   "cell_type": "code",
   "execution_count": null,
   "metadata": {},
   "outputs": [],
   "source": [
    "kidney = cptac.Ccrcc()\n"
   ]
  },
  {
   "cell_type": "code",
   "execution_count": null,
   "metadata": {},
   "outputs": [],
   "source": [
    "#create list of all proteomic genes \n",
    "prot_df = kidney.get_proteomics()\n",
    "prot_df.columns = prot_df.columns.droplevel(1)\n",
    "prot_genes_list = prot_df.columns.values.tolist()\n"
   ]
  },
  {
   "cell_type": "code",
   "execution_count": null,
   "metadata": {},
   "outputs": [],
   "source": [
    "#Create df or proteomic and CNV data. \n",
    "#Run linear regression function on all proteins. \n",
    "prot_and_CNV = kidney.join_omics_to_omics(df1_name=\"proteomics\", df2_name=\"CNV\")\n",
    "(wrap_lin_regression(prot_and_CNV,prot_genes_list,\"EGFR\"))\n",
    "\n"
   ]
  },
  {
   "cell_type": "code",
   "execution_count": null,
   "metadata": {},
   "outputs": [],
   "source": []
  },
  {
   "cell_type": "markdown",
   "metadata": {},
   "source": [
    "# Endometrial "
   ]
  },
  {
   "cell_type": "code",
   "execution_count": null,
   "metadata": {},
   "outputs": [],
   "source": [
    "en = cptac.Endometrial()"
   ]
  },
  {
   "cell_type": "code",
   "execution_count": null,
   "metadata": {},
   "outputs": [],
   "source": [
    "#create list of all proteomic genes \n",
    "prot_df = en.get_proteomics()\n",
    "\n",
    "prot_genes_list = prot_df.columns.values.tolist()\n"
   ]
  },
  {
   "cell_type": "code",
   "execution_count": null,
   "metadata": {},
   "outputs": [],
   "source": [
    "#Create df or proteomic and CNV data. \n",
    "#Run linear regression function on all proteins. \n",
    "prot_and_CNV = en.join_omics_to_omics(df1_name=\"proteomics\", df2_name=\"CNV\")\n",
    "(wrap_lin_regression(prot_and_CNV,prot_genes_list,\"EGFR\"))"
   ]
  },
  {
   "cell_type": "markdown",
   "metadata": {},
   "source": [
    "# Ovarian "
   ]
  },
  {
   "cell_type": "code",
   "execution_count": null,
   "metadata": {},
   "outputs": [],
   "source": [
    "Ovar = cptac.Ovarian()"
   ]
  },
  {
   "cell_type": "code",
   "execution_count": null,
   "metadata": {},
   "outputs": [],
   "source": [
    "#create list of all proteomic genes \n",
    "prot_df = Ovar.get_proteomics()\n",
    "prot_df.columns = prot_df.columns.droplevel(1)\n",
    "prot_genes_list = prot_df.columns.values.tolist()"
   ]
  },
  {
   "cell_type": "code",
   "execution_count": null,
   "metadata": {},
   "outputs": [],
   "source": [
    "#Create df or proteomic and CNV data. \n",
    "#Run linear regression function on all proteins. \n",
    "prot_and_CNV = Ovar.join_omics_to_omics(df1_name=\"proteomics\", df2_name=\"CNV\")\n",
    "(wrap_lin_regression(prot_and_CNV,prot_genes_list,\"EGFR\"))"
   ]
  },
  {
   "cell_type": "markdown",
   "metadata": {},
   "source": [
    "# Colon"
   ]
  },
  {
   "cell_type": "code",
   "execution_count": null,
   "metadata": {},
   "outputs": [],
   "source": [
    "colon = cptac.Colon()"
   ]
  },
  {
   "cell_type": "code",
   "execution_count": null,
   "metadata": {},
   "outputs": [],
   "source": [
    "colon.list_data()"
   ]
  },
  {
   "cell_type": "markdown",
   "metadata": {},
   "source": [
    "colon does not have cnv data -"
   ]
  },
  {
   "cell_type": "markdown",
   "metadata": {},
   "source": [
    "# Brca "
   ]
  },
  {
   "cell_type": "code",
   "execution_count": null,
   "metadata": {},
   "outputs": [],
   "source": [
    "brca = cptac.Brca()"
   ]
  },
  {
   "cell_type": "code",
   "execution_count": null,
   "metadata": {},
   "outputs": [],
   "source": [
    "#create list of all proteomic genes \n",
    "prot_df = brca.get_proteomics()\n",
    "prot_df.columns = prot_df.columns.droplevel(1)\n",
    "prot_genes_list = prot_df.columns.values.tolist()"
   ]
  },
  {
   "cell_type": "code",
   "execution_count": null,
   "metadata": {},
   "outputs": [],
   "source": [
    "#Create df or proteomic and CNV data. \n",
    "#Run linear regression function on all proteins. \n",
    "prot_and_CNV = brca.join_omics_to_omics(df1_name=\"proteomics\", df2_name=\"CNV\")\n",
    "(wrap_lin_regression(prot_and_CNV,prot_genes_list,\"EGFR\"))"
   ]
  },
  {
   "cell_type": "markdown",
   "metadata": {},
   "source": [
    "# LUAD"
   ]
  },
  {
   "cell_type": "code",
   "execution_count": null,
   "metadata": {},
   "outputs": [],
   "source": [
    "luad = cptac.Luad()"
   ]
  },
  {
   "cell_type": "code",
   "execution_count": null,
   "metadata": {},
   "outputs": [],
   "source": [
    "#create list of all proteomic genes \n",
    "prot_df = luad.get_proteomics()\n",
    "prot_df.columns = prot_df.columns.droplevel(1)\n",
    "prot_genes_list = prot_df.columns.values.tolist()"
   ]
  },
  {
   "cell_type": "code",
   "execution_count": null,
   "metadata": {},
   "outputs": [],
   "source": [
    "#Create df or proteomic and CNV data. \n",
    "#Run linear regression function on all proteins. \n",
    "prot_and_CNV = luad.join_omics_to_omics(df1_name=\"proteomics\", df2_name=\"CNV\")\n",
    "(wrap_lin_regression(prot_and_CNV,prot_genes_list,\"EGFR\"))"
   ]
  },
  {
   "cell_type": "markdown",
   "metadata": {},
   "source": [
    "# HNSCC"
   ]
  },
  {
   "cell_type": "code",
   "execution_count": null,
   "metadata": {},
   "outputs": [],
   "source": [
    "Hnscc = cptac.Hnscc()"
   ]
  },
  {
   "cell_type": "code",
   "execution_count": null,
   "metadata": {},
   "outputs": [],
   "source": [
    "#create list of all proteomic genes \n",
    "prot_df = Hnscc.get_proteomics()\n",
    "prot_genes_list = prot_df.columns.values.tolist()"
   ]
  },
  {
   "cell_type": "code",
   "execution_count": null,
   "metadata": {},
   "outputs": [],
   "source": [
    "#Create df or proteomic and CNV data. \n",
    "#Run linear regression function on all proteins. \n",
    "prot_and_CNV = Hnscc.join_omics_to_omics(df1_name=\"proteomics\", df2_name=\"CNV\")\n",
    "(wrap_lin_regression(prot_and_CNV,prot_genes_list,\"EGFR\"))"
   ]
  },
  {
   "cell_type": "code",
   "execution_count": null,
   "metadata": {},
   "outputs": [],
   "source": []
  }
 ],
 "metadata": {
  "kernelspec": {
   "display_name": "Python 3",
   "language": "python",
   "name": "python3"
  },
  "language_info": {
   "codemirror_mode": {
    "name": "ipython",
    "version": 3
   },
   "file_extension": ".py",
   "mimetype": "text/x-python",
   "name": "python",
   "nbconvert_exporter": "python",
   "pygments_lexer": "ipython3",
   "version": "3.7.3"
  }
 },
 "nbformat": 4,
 "nbformat_minor": 2
}
