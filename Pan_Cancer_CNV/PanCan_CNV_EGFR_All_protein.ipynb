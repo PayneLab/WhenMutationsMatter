{
 "cells": [
  {
   "cell_type": "markdown",
   "metadata": {},
   "source": [
    "# Pan Cancer EGFR "
   ]
  },
  {
   "cell_type": "code",
   "execution_count": 1,
   "metadata": {},
   "outputs": [],
   "source": [
    "import pandas as pd\n",
    "import numpy as np\n",
    "import seaborn as sns\n",
    "import matplotlib.pyplot as plt\n",
    "import scipy.stats\n",
    "import re\n",
    "import sys \n",
    "#sys.path.append('C:\\\\Users\\\\brittany henderson\\\\GitHub\\\\GBM_for_CPTAC\\\\')\n",
    "#import cis_functions as f\n",
    "\n",
    "import cptac\n",
    "import cptac.utils as u"
   ]
  },
  {
   "cell_type": "code",
   "execution_count": 131,
   "metadata": {},
   "outputs": [],
   "source": [
    "#function takes df with proteomic and CNV data, a list of proteomic genes, and the CNV gene\n",
    "#Creates a new df to be filled by function. Performs linear regression for each proteomic gene \n",
    "\n",
    "def wrap_lin_regression(prot_CNV_df, prot_genes, gene):\n",
    "   \n",
    "    newdf = pd.DataFrame(columns=['Interacting_gene', 'R_squared', 'P_value'])\n",
    "    #loop through genes in proteomic_genes\n",
    "    for inter_gene in prot_genes:\n",
    "        interacting_gene = inter_gene +\"_proteomics\"\n",
    "        #create subset df with interacting gene/ gene (otherwise drop NaN drops everything)\n",
    "        prot_CNV_df_subset = prot_CNV_df[[interacting_gene,gene +\"_CNV\"]]\n",
    "        #do a linear regression to see if it's a meaningful association\n",
    "        #dropna will remove rows with nan\n",
    "        prot_CNV_df_subset = prot_CNV_df_subset.dropna(axis=0, how=\"any\")\n",
    "        count_row = prot_CNV_df_subset.shape[0]\n",
    "        if count_row > 0:\n",
    "            x1 = prot_CNV_df_subset[[gene+\"_CNV\"]].values\n",
    "            y1 = prot_CNV_df_subset[[interacting_gene]].values\n",
    "            x1 = x1[:,0]\n",
    "            y1 = y1[:,0]\n",
    "\n",
    "            slope, intercept, r_value, p_value, std_err = scipy.stats.linregress(x1,y1)\n",
    "\n",
    "            # only add to df if p value is significant \n",
    "            if p_value < 0.05:\n",
    "                newdf = newdf.append({'Interacting_gene': interacting_gene, 'R_squared': str(r_value**2), 'P_value':  str(p_value)}, ignore_index=True)\n",
    "\n",
    "    return (newdf)\n",
    "       "
   ]
  },
  {
   "cell_type": "markdown",
   "metadata": {},
   "source": [
    "# GBM"
   ]
  },
  {
   "cell_type": "code",
   "execution_count": 2,
   "metadata": {},
   "outputs": [
    {
     "name": "stdout",
     "output_type": "stream",
     "text": [
      "                                    \r"
     ]
    }
   ],
   "source": [
    "#load GBM data \n",
    "brain = cptac.Gbm()\n"
   ]
  },
  {
   "cell_type": "code",
   "execution_count": 167,
   "metadata": {},
   "outputs": [],
   "source": [
    "#create list of all proteomic genes \n",
    "prot_df = brain.get_proteomics()\n",
    "prot_genes_list = prot_df.columns.values.tolist()\n"
   ]
  },
  {
   "cell_type": "code",
   "execution_count": 168,
   "metadata": {},
   "outputs": [
    {
     "name": "stderr",
     "output_type": "stream",
     "text": [
      "Warning: CNV data was not found for the following samples, so CNV data columns were filled with NaN for these samples: S020, S106, S107, S108, S109, S110, S111, S112, S113, S114, S115 (/Users/Lindsey/anaconda3/lib/python3.7/site-packages/ipykernel_launcher.py, line 3)\n"
     ]
    },
    {
     "data": {
      "text/html": [
       "<div>\n",
       "<style scoped>\n",
       "    .dataframe tbody tr th:only-of-type {\n",
       "        vertical-align: middle;\n",
       "    }\n",
       "\n",
       "    .dataframe tbody tr th {\n",
       "        vertical-align: top;\n",
       "    }\n",
       "\n",
       "    .dataframe thead th {\n",
       "        text-align: right;\n",
       "    }\n",
       "</style>\n",
       "<table border=\"1\" class=\"dataframe\">\n",
       "  <thead>\n",
       "    <tr style=\"text-align: right;\">\n",
       "      <th></th>\n",
       "      <th>Interacting_gene</th>\n",
       "      <th>R_squared</th>\n",
       "      <th>P_value</th>\n",
       "    </tr>\n",
       "  </thead>\n",
       "  <tbody>\n",
       "    <tr>\n",
       "      <td>0</td>\n",
       "      <td>A1BG_proteomics</td>\n",
       "      <td>0.0987682479867272</td>\n",
       "      <td>0.0016243853962636407</td>\n",
       "    </tr>\n",
       "    <tr>\n",
       "      <td>1</td>\n",
       "      <td>A2M_proteomics</td>\n",
       "      <td>0.14797661416476227</td>\n",
       "      <td>9.197068139740165e-05</td>\n",
       "    </tr>\n",
       "    <tr>\n",
       "      <td>2</td>\n",
       "      <td>AAAS_proteomics</td>\n",
       "      <td>0.06007420273502935</td>\n",
       "      <td>0.014996482868120092</td>\n",
       "    </tr>\n",
       "    <tr>\n",
       "      <td>3</td>\n",
       "      <td>AADAT_proteomics</td>\n",
       "      <td>0.1028424615520735</td>\n",
       "      <td>0.0035130656472672495</td>\n",
       "    </tr>\n",
       "    <tr>\n",
       "      <td>4</td>\n",
       "      <td>AARS2_proteomics</td>\n",
       "      <td>0.06779346759617069</td>\n",
       "      <td>0.009617086717582228</td>\n",
       "    </tr>\n",
       "    <tr>\n",
       "      <td>...</td>\n",
       "      <td>...</td>\n",
       "      <td>...</td>\n",
       "      <td>...</td>\n",
       "    </tr>\n",
       "    <tr>\n",
       "      <td>2862</td>\n",
       "      <td>ZSCAN21_proteomics</td>\n",
       "      <td>0.10449565521976194</td>\n",
       "      <td>0.0020022011170153326</td>\n",
       "    </tr>\n",
       "    <tr>\n",
       "      <td>2863</td>\n",
       "      <td>ZSCAN31_proteomics</td>\n",
       "      <td>0.1533189736509552</td>\n",
       "      <td>0.016548520635900944</td>\n",
       "    </tr>\n",
       "    <tr>\n",
       "      <td>2864</td>\n",
       "      <td>ZSWIM8_proteomics</td>\n",
       "      <td>0.06637478859621035</td>\n",
       "      <td>0.010434063121886682</td>\n",
       "    </tr>\n",
       "    <tr>\n",
       "      <td>2865</td>\n",
       "      <td>ZXDC_proteomics</td>\n",
       "      <td>0.0485616004020721</td>\n",
       "      <td>0.03797427361405626</td>\n",
       "    </tr>\n",
       "    <tr>\n",
       "      <td>2866</td>\n",
       "      <td>ZYG11B_proteomics</td>\n",
       "      <td>0.1334928209507173</td>\n",
       "      <td>0.00021620313686416748</td>\n",
       "    </tr>\n",
       "  </tbody>\n",
       "</table>\n",
       "<p>2867 rows × 3 columns</p>\n",
       "</div>"
      ],
      "text/plain": [
       "        Interacting_gene            R_squared                 P_value\n",
       "0        A1BG_proteomics   0.0987682479867272   0.0016243853962636407\n",
       "1         A2M_proteomics  0.14797661416476227   9.197068139740165e-05\n",
       "2        AAAS_proteomics  0.06007420273502935    0.014996482868120092\n",
       "3       AADAT_proteomics   0.1028424615520735   0.0035130656472672495\n",
       "4       AARS2_proteomics  0.06779346759617069    0.009617086717582228\n",
       "...                  ...                  ...                     ...\n",
       "2862  ZSCAN21_proteomics  0.10449565521976194   0.0020022011170153326\n",
       "2863  ZSCAN31_proteomics   0.1533189736509552    0.016548520635900944\n",
       "2864   ZSWIM8_proteomics  0.06637478859621035    0.010434063121886682\n",
       "2865     ZXDC_proteomics   0.0485616004020721     0.03797427361405626\n",
       "2866   ZYG11B_proteomics   0.1334928209507173  0.00021620313686416748\n",
       "\n",
       "[2867 rows x 3 columns]"
      ]
     },
     "execution_count": 168,
     "metadata": {},
     "output_type": "execute_result"
    }
   ],
   "source": [
    "#Create df or proteomic and CNV data. \n",
    "#Run linear regression function on all proteins. \n",
    "prot_and_CNV = brain.join_omics_to_omics(df1_name=\"proteomics\", df2_name=\"CNV\")\n",
    "\n",
    "\n",
    "(wrap_lin_regression(prot_and_CNV,prot_genes_list,\"EGFR\"))\n"
   ]
  },
  {
   "cell_type": "markdown",
   "metadata": {},
   "source": [
    "# Kidney "
   ]
  },
  {
   "cell_type": "code",
   "execution_count": 95,
   "metadata": {},
   "outputs": [
    {
     "name": "stdout",
     "output_type": "stream",
     "text": [
      "                                    \r"
     ]
    }
   ],
   "source": [
    "kidney = cptac.Ccrcc()\n"
   ]
  },
  {
   "cell_type": "code",
   "execution_count": 137,
   "metadata": {},
   "outputs": [],
   "source": [
    "#create list of all proteomic genes \n",
    "prot_df = kidney.get_proteomics()\n",
    "prot_df.columns = prot_df.columns.droplevel(1)\n",
    "prot_genes_list = prot_df.columns.values.tolist()\n"
   ]
  },
  {
   "cell_type": "code",
   "execution_count": 138,
   "metadata": {},
   "outputs": [
    {
     "name": "stderr",
     "output_type": "stream",
     "text": [
      "Warning: CNV data was not found for the following samples, so CNV data columns were filled with NaN for these samples: S111, S112, S113, S114, S115, S116, S117, S118, S119, S120, S121, S122, S123, S124, S125, S126, S127, S128, S129, S130, S131, S132, S133, S134, S135, S136, S137, S138, S139, S140, S141, S142, S143, S144, S145, S146, S147, S148, S149, S150, S151, S152, S153, S154, S155, S156, S157, S158, S159, S160, S161, S162, S163, S164, S165, S166, S167, S168, S169, S170, S171, S172, S173, S174, S175, S176, S177, S178, S179, S180, S181, S182, S183, S184, S185, S186, S187, S188, S189, S190, S191, S192, S193, S194 (/Users/Lindsey/anaconda3/lib/python3.7/site-packages/ipykernel_launcher.py, line 3)\n"
     ]
    },
    {
     "data": {
      "text/html": [
       "<div>\n",
       "<style scoped>\n",
       "    .dataframe tbody tr th:only-of-type {\n",
       "        vertical-align: middle;\n",
       "    }\n",
       "\n",
       "    .dataframe tbody tr th {\n",
       "        vertical-align: top;\n",
       "    }\n",
       "\n",
       "    .dataframe thead th {\n",
       "        text-align: right;\n",
       "    }\n",
       "</style>\n",
       "<table border=\"1\" class=\"dataframe\">\n",
       "  <thead>\n",
       "    <tr style=\"text-align: right;\">\n",
       "      <th></th>\n",
       "      <th>Interacting_gene</th>\n",
       "      <th>R_squared</th>\n",
       "      <th>P_value</th>\n",
       "    </tr>\n",
       "  </thead>\n",
       "  <tbody>\n",
       "    <tr>\n",
       "      <td>0</td>\n",
       "      <td>A4GALT_proteomics</td>\n",
       "      <td>0.886580679526646</td>\n",
       "      <td>0.016799162027927916</td>\n",
       "    </tr>\n",
       "    <tr>\n",
       "      <td>1</td>\n",
       "      <td>AASS_proteomics</td>\n",
       "      <td>0.07369657905069867</td>\n",
       "      <td>0.004120746113253676</td>\n",
       "    </tr>\n",
       "    <tr>\n",
       "      <td>2</td>\n",
       "      <td>AATF_proteomics</td>\n",
       "      <td>0.05255212297262058</td>\n",
       "      <td>0.015995262745602572</td>\n",
       "    </tr>\n",
       "    <tr>\n",
       "      <td>3</td>\n",
       "      <td>ABCA5_proteomics</td>\n",
       "      <td>0.36630168035365773</td>\n",
       "      <td>0.03704613993970029</td>\n",
       "    </tr>\n",
       "    <tr>\n",
       "      <td>4</td>\n",
       "      <td>ABCB1_proteomics</td>\n",
       "      <td>0.03757430343295188</td>\n",
       "      <td>0.042449652812760925</td>\n",
       "    </tr>\n",
       "    <tr>\n",
       "      <td>...</td>\n",
       "      <td>...</td>\n",
       "      <td>...</td>\n",
       "      <td>...</td>\n",
       "    </tr>\n",
       "    <tr>\n",
       "      <td>1135</td>\n",
       "      <td>ZNRD1_proteomics</td>\n",
       "      <td>0.07419587620127432</td>\n",
       "      <td>0.018067486429113825</td>\n",
       "    </tr>\n",
       "    <tr>\n",
       "      <td>1136</td>\n",
       "      <td>ZNRF2_proteomics</td>\n",
       "      <td>0.2827009858381019</td>\n",
       "      <td>2.2743944811637643e-09</td>\n",
       "    </tr>\n",
       "    <tr>\n",
       "      <td>1137</td>\n",
       "      <td>ZSCAN21_proteomics</td>\n",
       "      <td>0.3294283168320642</td>\n",
       "      <td>1.065933312739768e-05</td>\n",
       "    </tr>\n",
       "    <tr>\n",
       "      <td>1138</td>\n",
       "      <td>ZXDC_proteomics</td>\n",
       "      <td>0.06658908751510431</td>\n",
       "      <td>0.027510919099169716</td>\n",
       "    </tr>\n",
       "    <tr>\n",
       "      <td>1139</td>\n",
       "      <td>ZZEF1_proteomics</td>\n",
       "      <td>0.07395862502618597</td>\n",
       "      <td>0.004052267164904381</td>\n",
       "    </tr>\n",
       "  </tbody>\n",
       "</table>\n",
       "<p>1140 rows × 3 columns</p>\n",
       "</div>"
      ],
      "text/plain": [
       "        Interacting_gene            R_squared                 P_value\n",
       "0      A4GALT_proteomics    0.886580679526646    0.016799162027927916\n",
       "1        AASS_proteomics  0.07369657905069867    0.004120746113253676\n",
       "2        AATF_proteomics  0.05255212297262058    0.015995262745602572\n",
       "3       ABCA5_proteomics  0.36630168035365773     0.03704613993970029\n",
       "4       ABCB1_proteomics  0.03757430343295188    0.042449652812760925\n",
       "...                  ...                  ...                     ...\n",
       "1135    ZNRD1_proteomics  0.07419587620127432    0.018067486429113825\n",
       "1136    ZNRF2_proteomics   0.2827009858381019  2.2743944811637643e-09\n",
       "1137  ZSCAN21_proteomics   0.3294283168320642   1.065933312739768e-05\n",
       "1138     ZXDC_proteomics  0.06658908751510431    0.027510919099169716\n",
       "1139    ZZEF1_proteomics  0.07395862502618597    0.004052267164904381\n",
       "\n",
       "[1140 rows x 3 columns]"
      ]
     },
     "execution_count": 138,
     "metadata": {},
     "output_type": "execute_result"
    }
   ],
   "source": [
    "#Create df or proteomic and CNV data. \n",
    "#Run linear regression function on all proteins. \n",
    "prot_and_CNV = kidney.join_omics_to_omics(df1_name=\"proteomics\", df2_name=\"CNV\")\n",
    "(wrap_lin_regression(prot_and_CNV,prot_genes_list,\"EGFR\"))\n",
    "\n"
   ]
  },
  {
   "cell_type": "code",
   "execution_count": 116,
   "metadata": {},
   "outputs": [
    {
     "data": {
      "text/html": [
       "<div>\n",
       "<style scoped>\n",
       "    .dataframe tbody tr th:only-of-type {\n",
       "        vertical-align: middle;\n",
       "    }\n",
       "\n",
       "    .dataframe tbody tr th {\n",
       "        vertical-align: top;\n",
       "    }\n",
       "\n",
       "    .dataframe thead th {\n",
       "        text-align: right;\n",
       "    }\n",
       "</style>\n",
       "<table border=\"1\" class=\"dataframe\">\n",
       "  <thead>\n",
       "    <tr style=\"text-align: right;\">\n",
       "      <th></th>\n",
       "    </tr>\n",
       "  </thead>\n",
       "  <tbody>\n",
       "  </tbody>\n",
       "</table>\n",
       "</div>"
      ],
      "text/plain": [
       "Empty DataFrame\n",
       "Columns: []\n",
       "Index: []"
      ]
     },
     "execution_count": 116,
     "metadata": {},
     "output_type": "execute_result"
    }
   ],
   "source": []
  },
  {
   "cell_type": "markdown",
   "metadata": {},
   "source": [
    "# Endometrial "
   ]
  },
  {
   "cell_type": "code",
   "execution_count": 140,
   "metadata": {},
   "outputs": [
    {
     "name": "stdout",
     "output_type": "stream",
     "text": [
      "                                    \r"
     ]
    }
   ],
   "source": [
    "en = cptac.Endometrial()"
   ]
  },
  {
   "cell_type": "code",
   "execution_count": 142,
   "metadata": {},
   "outputs": [],
   "source": [
    "#create list of all proteomic genes \n",
    "prot_df = en.get_proteomics()\n",
    "\n",
    "prot_genes_list = prot_df.columns.values.tolist()\n"
   ]
  },
  {
   "cell_type": "code",
   "execution_count": 144,
   "metadata": {},
   "outputs": [
    {
     "name": "stderr",
     "output_type": "stream",
     "text": [
      "Warning: CNV data was not found for the following samples, so CNV data columns were filled with NaN for these samples: S105, S106, S107, S108, S109, S110, S111, S112, S113, S114, S115, S116, S117, S118, S119, S120, S121, S122, S123, S124, S125, S126, S127, S128, S129, S130, S131, S132, S133, S134, S135, S136, S137, S138, S139, S140, S141, S142, S143, S144, S145, S146, S147, S148, S149, S150, S151, S152, S153 (/Users/Lindsey/anaconda3/lib/python3.7/site-packages/ipykernel_launcher.py, line 3)\n"
     ]
    },
    {
     "data": {
      "text/html": [
       "<div>\n",
       "<style scoped>\n",
       "    .dataframe tbody tr th:only-of-type {\n",
       "        vertical-align: middle;\n",
       "    }\n",
       "\n",
       "    .dataframe tbody tr th {\n",
       "        vertical-align: top;\n",
       "    }\n",
       "\n",
       "    .dataframe thead th {\n",
       "        text-align: right;\n",
       "    }\n",
       "</style>\n",
       "<table border=\"1\" class=\"dataframe\">\n",
       "  <thead>\n",
       "    <tr style=\"text-align: right;\">\n",
       "      <th></th>\n",
       "      <th>Interacting_gene</th>\n",
       "      <th>R_squared</th>\n",
       "      <th>P_value</th>\n",
       "    </tr>\n",
       "  </thead>\n",
       "  <tbody>\n",
       "    <tr>\n",
       "      <td>0</td>\n",
       "      <td>AAAS_proteomics</td>\n",
       "      <td>0.04375827345739995</td>\n",
       "      <td>0.04190556261692782</td>\n",
       "    </tr>\n",
       "    <tr>\n",
       "      <td>1</td>\n",
       "      <td>AAMP_proteomics</td>\n",
       "      <td>0.04600841627131807</td>\n",
       "      <td>0.03685833020154935</td>\n",
       "    </tr>\n",
       "    <tr>\n",
       "      <td>2</td>\n",
       "      <td>ABCB8_proteomics</td>\n",
       "      <td>0.053661572591688016</td>\n",
       "      <td>0.02389770292185078</td>\n",
       "    </tr>\n",
       "    <tr>\n",
       "      <td>3</td>\n",
       "      <td>ABCF2_proteomics</td>\n",
       "      <td>0.08039906944943098</td>\n",
       "      <td>0.005361337771322349</td>\n",
       "    </tr>\n",
       "    <tr>\n",
       "      <td>4</td>\n",
       "      <td>ABHD2_proteomics</td>\n",
       "      <td>0.36341886818427166</td>\n",
       "      <td>0.0005379911493378324</td>\n",
       "    </tr>\n",
       "    <tr>\n",
       "      <td>...</td>\n",
       "      <td>...</td>\n",
       "      <td>...</td>\n",
       "      <td>...</td>\n",
       "    </tr>\n",
       "    <tr>\n",
       "      <td>866</td>\n",
       "      <td>ZNF691_proteomics</td>\n",
       "      <td>0.07844028544994366</td>\n",
       "      <td>0.00597939786479835</td>\n",
       "    </tr>\n",
       "    <tr>\n",
       "      <td>867</td>\n",
       "      <td>ZNF837_proteomics</td>\n",
       "      <td>0.14807979987751937</td>\n",
       "      <td>0.02462635144101073</td>\n",
       "    </tr>\n",
       "    <tr>\n",
       "      <td>868</td>\n",
       "      <td>ZNHIT2_proteomics</td>\n",
       "      <td>0.07235123211258064</td>\n",
       "      <td>0.008394673802051833</td>\n",
       "    </tr>\n",
       "    <tr>\n",
       "      <td>869</td>\n",
       "      <td>ZNRF2_proteomics</td>\n",
       "      <td>0.15480109873996825</td>\n",
       "      <td>7.999712422282647e-05</td>\n",
       "    </tr>\n",
       "    <tr>\n",
       "      <td>870</td>\n",
       "      <td>ZPR1_proteomics</td>\n",
       "      <td>0.053488017147191654</td>\n",
       "      <td>0.024132596154617568</td>\n",
       "    </tr>\n",
       "  </tbody>\n",
       "</table>\n",
       "<p>871 rows × 3 columns</p>\n",
       "</div>"
      ],
      "text/plain": [
       "      Interacting_gene             R_squared                P_value\n",
       "0      AAAS_proteomics   0.04375827345739995    0.04190556261692782\n",
       "1      AAMP_proteomics   0.04600841627131807    0.03685833020154935\n",
       "2     ABCB8_proteomics  0.053661572591688016    0.02389770292185078\n",
       "3     ABCF2_proteomics   0.08039906944943098   0.005361337771322349\n",
       "4     ABHD2_proteomics   0.36341886818427166  0.0005379911493378324\n",
       "..                 ...                   ...                    ...\n",
       "866  ZNF691_proteomics   0.07844028544994366    0.00597939786479835\n",
       "867  ZNF837_proteomics   0.14807979987751937    0.02462635144101073\n",
       "868  ZNHIT2_proteomics   0.07235123211258064   0.008394673802051833\n",
       "869   ZNRF2_proteomics   0.15480109873996825  7.999712422282647e-05\n",
       "870    ZPR1_proteomics  0.053488017147191654   0.024132596154617568\n",
       "\n",
       "[871 rows x 3 columns]"
      ]
     },
     "execution_count": 144,
     "metadata": {},
     "output_type": "execute_result"
    }
   ],
   "source": [
    "#Create df or proteomic and CNV data. \n",
    "#Run linear regression function on all proteins. \n",
    "prot_and_CNV = en.join_omics_to_omics(df1_name=\"proteomics\", df2_name=\"CNV\")\n",
    "(wrap_lin_regression(prot_and_CNV,prot_genes_list,\"EGFR\"))"
   ]
  },
  {
   "cell_type": "markdown",
   "metadata": {},
   "source": [
    "# Ovarian "
   ]
  },
  {
   "cell_type": "code",
   "execution_count": 145,
   "metadata": {},
   "outputs": [
    {
     "name": "stdout",
     "output_type": "stream",
     "text": [
      "                                    \r"
     ]
    }
   ],
   "source": [
    "Ovar = cptac.Ovarian()"
   ]
  },
  {
   "cell_type": "code",
   "execution_count": 149,
   "metadata": {},
   "outputs": [],
   "source": [
    "#create list of all proteomic genes \n",
    "prot_df = Ovar.get_proteomics()\n",
    "prot_df.columns = prot_df.columns.droplevel(1)\n",
    "prot_genes_list = prot_df.columns.values.tolist()"
   ]
  },
  {
   "cell_type": "code",
   "execution_count": 151,
   "metadata": {},
   "outputs": [
    {
     "name": "stderr",
     "output_type": "stream",
     "text": [
      "Warning: CNV data was not found for the following samples, so CNV data columns were filled with NaN for these samples: S012, S025, S112, S113, S114, S115, S116, S117, S118, S119, S120, S121, S122, S123, S124, S125, S126, S127, S128, S129, S130, S131 (/Users/Lindsey/anaconda3/lib/python3.7/site-packages/ipykernel_launcher.py, line 3)\n",
      "Warning: proteomics data was not found for the following samples, so proteomics data columns were filled with NaN for these samples: S001, S003, S004, S005, S008, S017, S018, S020, S030, S032, S034, S036, S058, S072, S075, S092, S099, S105, S109 (/Users/Lindsey/anaconda3/lib/python3.7/site-packages/ipykernel_launcher.py, line 3)\n"
     ]
    },
    {
     "data": {
      "text/html": [
       "<div>\n",
       "<style scoped>\n",
       "    .dataframe tbody tr th:only-of-type {\n",
       "        vertical-align: middle;\n",
       "    }\n",
       "\n",
       "    .dataframe tbody tr th {\n",
       "        vertical-align: top;\n",
       "    }\n",
       "\n",
       "    .dataframe thead th {\n",
       "        text-align: right;\n",
       "    }\n",
       "</style>\n",
       "<table border=\"1\" class=\"dataframe\">\n",
       "  <thead>\n",
       "    <tr style=\"text-align: right;\">\n",
       "      <th></th>\n",
       "      <th>Interacting_gene</th>\n",
       "      <th>R_squared</th>\n",
       "      <th>P_value</th>\n",
       "    </tr>\n",
       "  </thead>\n",
       "  <tbody>\n",
       "    <tr>\n",
       "      <td>0</td>\n",
       "      <td>A2M_proteomics</td>\n",
       "      <td>0.04853789822811085</td>\n",
       "      <td>0.048114470473907794</td>\n",
       "    </tr>\n",
       "    <tr>\n",
       "      <td>1</td>\n",
       "      <td>A2ML1_proteomics</td>\n",
       "      <td>0.12685702170696989</td>\n",
       "      <td>0.005220926873768543</td>\n",
       "    </tr>\n",
       "    <tr>\n",
       "      <td>2</td>\n",
       "      <td>AARS_proteomics</td>\n",
       "      <td>0.056980712989550424</td>\n",
       "      <td>0.03186551639710454</td>\n",
       "    </tr>\n",
       "    <tr>\n",
       "      <td>3</td>\n",
       "      <td>ABAT_proteomics</td>\n",
       "      <td>0.08446679522382952</td>\n",
       "      <td>0.00848573047475076</td>\n",
       "    </tr>\n",
       "    <tr>\n",
       "      <td>4</td>\n",
       "      <td>ABCA9_proteomics</td>\n",
       "      <td>0.1275934685630436</td>\n",
       "      <td>0.04852768121126485</td>\n",
       "    </tr>\n",
       "    <tr>\n",
       "      <td>...</td>\n",
       "      <td>...</td>\n",
       "      <td>...</td>\n",
       "      <td>...</td>\n",
       "    </tr>\n",
       "    <tr>\n",
       "      <td>740</td>\n",
       "      <td>ZNF316_proteomics</td>\n",
       "      <td>0.10546508556452973</td>\n",
       "      <td>0.0030966565531918536</td>\n",
       "    </tr>\n",
       "    <tr>\n",
       "      <td>741</td>\n",
       "      <td>ZNF592_proteomics</td>\n",
       "      <td>0.04951738017453731</td>\n",
       "      <td>0.045856924215800295</td>\n",
       "    </tr>\n",
       "    <tr>\n",
       "      <td>742</td>\n",
       "      <td>ZNF644_proteomics</td>\n",
       "      <td>0.05803982208227418</td>\n",
       "      <td>0.03604481602562296</td>\n",
       "    </tr>\n",
       "    <tr>\n",
       "      <td>743</td>\n",
       "      <td>ZNF865_proteomics</td>\n",
       "      <td>0.11263563833077958</td>\n",
       "      <td>0.012248019269928995</td>\n",
       "    </tr>\n",
       "    <tr>\n",
       "      <td>744</td>\n",
       "      <td>ZNHIT3_proteomics</td>\n",
       "      <td>0.08942462774721384</td>\n",
       "      <td>0.045989431548889396</td>\n",
       "    </tr>\n",
       "  </tbody>\n",
       "</table>\n",
       "<p>745 rows × 3 columns</p>\n",
       "</div>"
      ],
      "text/plain": [
       "      Interacting_gene             R_squared                P_value\n",
       "0       A2M_proteomics   0.04853789822811085   0.048114470473907794\n",
       "1     A2ML1_proteomics   0.12685702170696989   0.005220926873768543\n",
       "2      AARS_proteomics  0.056980712989550424    0.03186551639710454\n",
       "3      ABAT_proteomics   0.08446679522382952    0.00848573047475076\n",
       "4     ABCA9_proteomics    0.1275934685630436    0.04852768121126485\n",
       "..                 ...                   ...                    ...\n",
       "740  ZNF316_proteomics   0.10546508556452973  0.0030966565531918536\n",
       "741  ZNF592_proteomics   0.04951738017453731   0.045856924215800295\n",
       "742  ZNF644_proteomics   0.05803982208227418    0.03604481602562296\n",
       "743  ZNF865_proteomics   0.11263563833077958   0.012248019269928995\n",
       "744  ZNHIT3_proteomics   0.08942462774721384   0.045989431548889396\n",
       "\n",
       "[745 rows x 3 columns]"
      ]
     },
     "execution_count": 151,
     "metadata": {},
     "output_type": "execute_result"
    }
   ],
   "source": [
    "#Create df or proteomic and CNV data. \n",
    "#Run linear regression function on all proteins. \n",
    "prot_and_CNV = Ovar.join_omics_to_omics(df1_name=\"proteomics\", df2_name=\"CNV\")\n",
    "(wrap_lin_regression(prot_and_CNV,prot_genes_list,\"EGFR\"))"
   ]
  },
  {
   "cell_type": "markdown",
   "metadata": {},
   "source": [
    "# Colon"
   ]
  },
  {
   "cell_type": "code",
   "execution_count": null,
   "metadata": {},
   "outputs": [],
   "source": [
    "colon = cptac.Colon()"
   ]
  },
  {
   "cell_type": "code",
   "execution_count": null,
   "metadata": {},
   "outputs": [],
   "source": [
    "colon.list_data()"
   ]
  },
  {
   "cell_type": "markdown",
   "metadata": {},
   "source": [
    "colon does not have cnv data -"
   ]
  },
  {
   "cell_type": "markdown",
   "metadata": {},
   "source": [
    "# Brca "
   ]
  },
  {
   "cell_type": "code",
   "execution_count": 152,
   "metadata": {},
   "outputs": [
    {
     "name": "stdout",
     "output_type": "stream",
     "text": [
      "                                    \r"
     ]
    }
   ],
   "source": [
    "brca = cptac.Brca()"
   ]
  },
  {
   "cell_type": "code",
   "execution_count": 154,
   "metadata": {},
   "outputs": [],
   "source": [
    "#create list of all proteomic genes \n",
    "prot_df = brca.get_proteomics()\n",
    "prot_df.columns = prot_df.columns.droplevel(1)\n",
    "prot_genes_list = prot_df.columns.values.tolist()"
   ]
  },
  {
   "cell_type": "code",
   "execution_count": 156,
   "metadata": {},
   "outputs": [
    {
     "data": {
      "text/html": [
       "<div>\n",
       "<style scoped>\n",
       "    .dataframe tbody tr th:only-of-type {\n",
       "        vertical-align: middle;\n",
       "    }\n",
       "\n",
       "    .dataframe tbody tr th {\n",
       "        vertical-align: top;\n",
       "    }\n",
       "\n",
       "    .dataframe thead th {\n",
       "        text-align: right;\n",
       "    }\n",
       "</style>\n",
       "<table border=\"1\" class=\"dataframe\">\n",
       "  <thead>\n",
       "    <tr style=\"text-align: right;\">\n",
       "      <th></th>\n",
       "      <th>Interacting_gene</th>\n",
       "      <th>R_squared</th>\n",
       "      <th>P_value</th>\n",
       "    </tr>\n",
       "  </thead>\n",
       "  <tbody>\n",
       "    <tr>\n",
       "      <td>0</td>\n",
       "      <td>ABCA2_proteomics</td>\n",
       "      <td>0.055624024611105806</td>\n",
       "      <td>0.043080339589750785</td>\n",
       "    </tr>\n",
       "    <tr>\n",
       "      <td>1</td>\n",
       "      <td>ABCC3_proteomics</td>\n",
       "      <td>0.043321920864427294</td>\n",
       "      <td>0.02626816204114852</td>\n",
       "    </tr>\n",
       "    <tr>\n",
       "      <td>2</td>\n",
       "      <td>ABCD3_proteomics</td>\n",
       "      <td>0.051368331145667745</td>\n",
       "      <td>0.01206041825177043</td>\n",
       "    </tr>\n",
       "    <tr>\n",
       "      <td>3</td>\n",
       "      <td>ABCE1_proteomics</td>\n",
       "      <td>0.04171208443619836</td>\n",
       "      <td>0.024041201027069692</td>\n",
       "    </tr>\n",
       "    <tr>\n",
       "      <td>4</td>\n",
       "      <td>ABCF2_proteomics</td>\n",
       "      <td>0.04390486766274212</td>\n",
       "      <td>0.0205397798926616</td>\n",
       "    </tr>\n",
       "    <tr>\n",
       "      <td>...</td>\n",
       "      <td>...</td>\n",
       "      <td>...</td>\n",
       "      <td>...</td>\n",
       "    </tr>\n",
       "    <tr>\n",
       "      <td>1196</td>\n",
       "      <td>ZNF740_proteomics</td>\n",
       "      <td>0.07566226783768767</td>\n",
       "      <td>0.002167095280633629</td>\n",
       "    </tr>\n",
       "    <tr>\n",
       "      <td>1197</td>\n",
       "      <td>ZNHIT3_proteomics</td>\n",
       "      <td>0.04471291269352962</td>\n",
       "      <td>0.036606223539851046</td>\n",
       "    </tr>\n",
       "    <tr>\n",
       "      <td>1198</td>\n",
       "      <td>ZPR1_proteomics</td>\n",
       "      <td>0.05821040949821707</td>\n",
       "      <td>0.007425548068685662</td>\n",
       "    </tr>\n",
       "    <tr>\n",
       "      <td>1199</td>\n",
       "      <td>ZXDC_proteomics</td>\n",
       "      <td>0.05711642091211942</td>\n",
       "      <td>0.01839642384855393</td>\n",
       "    </tr>\n",
       "    <tr>\n",
       "      <td>1200</td>\n",
       "      <td>ZZEF1_proteomics</td>\n",
       "      <td>0.05698775019677172</td>\n",
       "      <td>0.00809657465996244</td>\n",
       "    </tr>\n",
       "  </tbody>\n",
       "</table>\n",
       "<p>1201 rows × 3 columns</p>\n",
       "</div>"
      ],
      "text/plain": [
       "       Interacting_gene             R_squared               P_value\n",
       "0      ABCA2_proteomics  0.055624024611105806  0.043080339589750785\n",
       "1      ABCC3_proteomics  0.043321920864427294   0.02626816204114852\n",
       "2      ABCD3_proteomics  0.051368331145667745   0.01206041825177043\n",
       "3      ABCE1_proteomics   0.04171208443619836  0.024041201027069692\n",
       "4      ABCF2_proteomics   0.04390486766274212    0.0205397798926616\n",
       "...                 ...                   ...                   ...\n",
       "1196  ZNF740_proteomics   0.07566226783768767  0.002167095280633629\n",
       "1197  ZNHIT3_proteomics   0.04471291269352962  0.036606223539851046\n",
       "1198    ZPR1_proteomics   0.05821040949821707  0.007425548068685662\n",
       "1199    ZXDC_proteomics   0.05711642091211942   0.01839642384855393\n",
       "1200   ZZEF1_proteomics   0.05698775019677172   0.00809657465996244\n",
       "\n",
       "[1201 rows x 3 columns]"
      ]
     },
     "execution_count": 156,
     "metadata": {},
     "output_type": "execute_result"
    }
   ],
   "source": [
    "#Create df or proteomic and CNV data. \n",
    "#Run linear regression function on all proteins. \n",
    "prot_and_CNV = brca.join_omics_to_omics(df1_name=\"proteomics\", df2_name=\"CNV\")\n",
    "(wrap_lin_regression(prot_and_CNV,prot_genes_list,\"EGFR\"))"
   ]
  },
  {
   "cell_type": "markdown",
   "metadata": {},
   "source": [
    "# LUAD"
   ]
  },
  {
   "cell_type": "code",
   "execution_count": 157,
   "metadata": {},
   "outputs": [
    {
     "name": "stdout",
     "output_type": "stream",
     "text": [
      "                                    \r"
     ]
    }
   ],
   "source": [
    "luad = cptac.Luad()"
   ]
  },
  {
   "cell_type": "code",
   "execution_count": 160,
   "metadata": {},
   "outputs": [],
   "source": [
    "#create list of all proteomic genes \n",
    "prot_df = luad.get_proteomics()\n",
    "prot_df.columns = prot_df.columns.droplevel(1)\n",
    "prot_genes_list = prot_df.columns.values.tolist()"
   ]
  },
  {
   "cell_type": "code",
   "execution_count": 161,
   "metadata": {},
   "outputs": [
    {
     "name": "stderr",
     "output_type": "stream",
     "text": [
      "Warning: CNV data was not found for the following samples, so CNV data columns were filled with NaN for these samples: S026, S114, S115, S116, S117, S118, S119, S120, S121, S122, S123, S124, S125, S126, S127, S128, S129, S130, S131, S132, S133, S134, S135, S136, S137, S138, S139, S140, S141, S142, S143, S144, S145, S146, S147, S148, S149, S150, S151, S152, S153, S154, S155, S156, S157, S158, S159, S160, S161, S162, S163, S164, S165, S166, S167, S168, S169, S170, S171, S172, S173, S174, S175, S176, S177, S178, S179, S180, S181, S182, S183, S184, S185, S186, S187, S188, S189, S190, S191, S192, S193, S194, S195, S196, S197, S198, S199, S200, S201, S202, S203, S204, S205, S206, S207, S208, S209, S210, S211, S212, S213, S214, S215 (/Users/Lindsey/anaconda3/lib/python3.7/site-packages/ipykernel_launcher.py, line 3)\n"
     ]
    },
    {
     "data": {
      "text/html": [
       "<div>\n",
       "<style scoped>\n",
       "    .dataframe tbody tr th:only-of-type {\n",
       "        vertical-align: middle;\n",
       "    }\n",
       "\n",
       "    .dataframe tbody tr th {\n",
       "        vertical-align: top;\n",
       "    }\n",
       "\n",
       "    .dataframe thead th {\n",
       "        text-align: right;\n",
       "    }\n",
       "</style>\n",
       "<table border=\"1\" class=\"dataframe\">\n",
       "  <thead>\n",
       "    <tr style=\"text-align: right;\">\n",
       "      <th></th>\n",
       "      <th>Interacting_gene</th>\n",
       "      <th>R_squared</th>\n",
       "      <th>P_value</th>\n",
       "    </tr>\n",
       "  </thead>\n",
       "  <tbody>\n",
       "    <tr>\n",
       "      <td>0</td>\n",
       "      <td>AASS_proteomics</td>\n",
       "      <td>0.04533330526765004</td>\n",
       "      <td>0.02553265980063949</td>\n",
       "    </tr>\n",
       "    <tr>\n",
       "      <td>1</td>\n",
       "      <td>AATK_proteomics</td>\n",
       "      <td>0.08498519733345838</td>\n",
       "      <td>0.025076804307106505</td>\n",
       "    </tr>\n",
       "    <tr>\n",
       "      <td>2</td>\n",
       "      <td>ABCA3_proteomics</td>\n",
       "      <td>0.055893969804587086</td>\n",
       "      <td>0.012896441100305847</td>\n",
       "    </tr>\n",
       "    <tr>\n",
       "      <td>3</td>\n",
       "      <td>ABCA7_proteomics</td>\n",
       "      <td>0.061665697882585246</td>\n",
       "      <td>0.03678709988921711</td>\n",
       "    </tr>\n",
       "    <tr>\n",
       "      <td>4</td>\n",
       "      <td>ABCC1_proteomics</td>\n",
       "      <td>0.03943312618797753</td>\n",
       "      <td>0.03755598823575713</td>\n",
       "    </tr>\n",
       "    <tr>\n",
       "      <td>...</td>\n",
       "      <td>...</td>\n",
       "      <td>...</td>\n",
       "      <td>...</td>\n",
       "    </tr>\n",
       "    <tr>\n",
       "      <td>1346</td>\n",
       "      <td>ZNRF2_proteomics</td>\n",
       "      <td>0.1305398743986313</td>\n",
       "      <td>0.00010534688534850004</td>\n",
       "    </tr>\n",
       "    <tr>\n",
       "      <td>1347</td>\n",
       "      <td>ZRANB2_proteomics</td>\n",
       "      <td>0.06434327398420953</td>\n",
       "      <td>0.007497557533837104</td>\n",
       "    </tr>\n",
       "    <tr>\n",
       "      <td>1348</td>\n",
       "      <td>ZSCAN18_proteomics</td>\n",
       "      <td>0.039525833292387666</td>\n",
       "      <td>0.03732774546894278</td>\n",
       "    </tr>\n",
       "    <tr>\n",
       "      <td>1349</td>\n",
       "      <td>ZW10_proteomics</td>\n",
       "      <td>0.04810693262590555</td>\n",
       "      <td>0.02132315489021154</td>\n",
       "    </tr>\n",
       "    <tr>\n",
       "      <td>1350</td>\n",
       "      <td>ZYG11B_proteomics</td>\n",
       "      <td>0.07063367595455458</td>\n",
       "      <td>0.0050124793418734395</td>\n",
       "    </tr>\n",
       "  </tbody>\n",
       "</table>\n",
       "<p>1351 rows × 3 columns</p>\n",
       "</div>"
      ],
      "text/plain": [
       "        Interacting_gene             R_squared                 P_value\n",
       "0        AASS_proteomics   0.04533330526765004     0.02553265980063949\n",
       "1        AATK_proteomics   0.08498519733345838    0.025076804307106505\n",
       "2       ABCA3_proteomics  0.055893969804587086    0.012896441100305847\n",
       "3       ABCA7_proteomics  0.061665697882585246     0.03678709988921711\n",
       "4       ABCC1_proteomics   0.03943312618797753     0.03755598823575713\n",
       "...                  ...                   ...                     ...\n",
       "1346    ZNRF2_proteomics    0.1305398743986313  0.00010534688534850004\n",
       "1347   ZRANB2_proteomics   0.06434327398420953    0.007497557533837104\n",
       "1348  ZSCAN18_proteomics  0.039525833292387666     0.03732774546894278\n",
       "1349     ZW10_proteomics   0.04810693262590555     0.02132315489021154\n",
       "1350   ZYG11B_proteomics   0.07063367595455458   0.0050124793418734395\n",
       "\n",
       "[1351 rows x 3 columns]"
      ]
     },
     "execution_count": 161,
     "metadata": {},
     "output_type": "execute_result"
    }
   ],
   "source": [
    "#Create df or proteomic and CNV data. \n",
    "#Run linear regression function on all proteins. \n",
    "prot_and_CNV = luad.join_omics_to_omics(df1_name=\"proteomics\", df2_name=\"CNV\")\n",
    "(wrap_lin_regression(prot_and_CNV,prot_genes_list,\"EGFR\"))"
   ]
  },
  {
   "cell_type": "markdown",
   "metadata": {},
   "source": [
    "# HNSCC"
   ]
  },
  {
   "cell_type": "code",
   "execution_count": 162,
   "metadata": {},
   "outputs": [
    {
     "name": "stdout",
     "output_type": "stream",
     "text": [
      "                                    \r"
     ]
    }
   ],
   "source": [
    "Hnscc = cptac.Hnscc()"
   ]
  },
  {
   "cell_type": "code",
   "execution_count": 164,
   "metadata": {},
   "outputs": [],
   "source": [
    "#create list of all proteomic genes \n",
    "prot_df = Hnscc.get_proteomics()\n",
    "prot_genes_list = prot_df.columns.values.tolist()"
   ]
  },
  {
   "cell_type": "code",
   "execution_count": 165,
   "metadata": {},
   "outputs": [
    {
     "name": "stderr",
     "output_type": "stream",
     "text": [
      "Warning: CNV data was not found for the following samples, so CNV data columns were filled with NaN for these samples: S111, S112, S113, S114, S115, S116, S117, S118, S119, S120, S121, S122, S123, S124, S125, S126, S127, S128, S129, S130, S131, S132, S133, S134, S135, S136, S137, S138, S139, S140, S141, S142, S143, S144, S145, S146, S147, S148, S149, S150, S151, S152, S153, S154, S155, S156, S157, S158, S159, S160, S161, S162, S163, S164, S165, S166, S167, S168, S169, S170, S171, S172, S173, S174, S175, S176, S177, S178, S179, S180, S181, S182, S183, S184, S185, S186, S187, S188, S189, S190, S191, S192, S193, S194, S195, S196, S197 (/Users/Lindsey/anaconda3/lib/python3.7/site-packages/ipykernel_launcher.py, line 3)\n",
      "/Users/Lindsey/anaconda3/lib/python3.7/site-packages/scipy/stats/_stats_mstats_common.py:130: RuntimeWarning: invalid value encountered in double_scalars\n",
      "  slope = r_num / ssxm\n",
      "/Users/Lindsey/anaconda3/lib/python3.7/site-packages/scipy/stats/_stats_mstats_common.py:140: RuntimeWarning: invalid value encountered in sqrt\n",
      "  t = r * np.sqrt(df / ((1.0 - r + TINY)*(1.0 + r + TINY)))\n",
      "/Users/Lindsey/anaconda3/lib/python3.7/site-packages/scipy/stats/_stats_mstats_common.py:142: RuntimeWarning: invalid value encountered in double_scalars\n",
      "  sterrest = np.sqrt((1 - r**2) * ssym / ssxm / df)\n"
     ]
    },
    {
     "data": {
      "text/html": [
       "<div>\n",
       "<style scoped>\n",
       "    .dataframe tbody tr th:only-of-type {\n",
       "        vertical-align: middle;\n",
       "    }\n",
       "\n",
       "    .dataframe tbody tr th {\n",
       "        vertical-align: top;\n",
       "    }\n",
       "\n",
       "    .dataframe thead th {\n",
       "        text-align: right;\n",
       "    }\n",
       "</style>\n",
       "<table border=\"1\" class=\"dataframe\">\n",
       "  <thead>\n",
       "    <tr style=\"text-align: right;\">\n",
       "      <th></th>\n",
       "      <th>Interacting_gene</th>\n",
       "      <th>R_squared</th>\n",
       "      <th>P_value</th>\n",
       "    </tr>\n",
       "  </thead>\n",
       "  <tbody>\n",
       "    <tr>\n",
       "      <td>0</td>\n",
       "      <td>ABCA12_proteomics</td>\n",
       "      <td>1.0</td>\n",
       "      <td>0.0</td>\n",
       "    </tr>\n",
       "    <tr>\n",
       "      <td>1</td>\n",
       "      <td>ABHD14A-ACY1;ACY1_proteomics</td>\n",
       "      <td>0.042654226061398265</td>\n",
       "      <td>0.030407165679960716</td>\n",
       "    </tr>\n",
       "    <tr>\n",
       "      <td>2</td>\n",
       "      <td>ABI3_proteomics</td>\n",
       "      <td>0.0713161675659758</td>\n",
       "      <td>0.006661589430560841</td>\n",
       "    </tr>\n",
       "    <tr>\n",
       "      <td>3</td>\n",
       "      <td>ABR_proteomics</td>\n",
       "      <td>0.06774916791274525</td>\n",
       "      <td>0.006028467205486407</td>\n",
       "    </tr>\n",
       "    <tr>\n",
       "      <td>4</td>\n",
       "      <td>ACACA_proteomics</td>\n",
       "      <td>0.08026420513965155</td>\n",
       "      <td>0.0027075066408910006</td>\n",
       "    </tr>\n",
       "    <tr>\n",
       "      <td>...</td>\n",
       "      <td>...</td>\n",
       "      <td>...</td>\n",
       "      <td>...</td>\n",
       "    </tr>\n",
       "    <tr>\n",
       "      <td>927</td>\n",
       "      <td>ZFAND5_proteomics</td>\n",
       "      <td>0.04960829851126563</td>\n",
       "      <td>0.01991875732257156</td>\n",
       "    </tr>\n",
       "    <tr>\n",
       "      <td>928</td>\n",
       "      <td>ZMYM6_proteomics</td>\n",
       "      <td>0.25469791367426686</td>\n",
       "      <td>0.02754623524945694</td>\n",
       "    </tr>\n",
       "    <tr>\n",
       "      <td>929</td>\n",
       "      <td>ZNF106_proteomics</td>\n",
       "      <td>0.1570932438802146</td>\n",
       "      <td>0.024719099954447963</td>\n",
       "    </tr>\n",
       "    <tr>\n",
       "      <td>930</td>\n",
       "      <td>ZNF629_proteomics</td>\n",
       "      <td>0.49746512733946496</td>\n",
       "      <td>0.03379592847602158</td>\n",
       "    </tr>\n",
       "    <tr>\n",
       "      <td>931</td>\n",
       "      <td>ZNF638_proteomics</td>\n",
       "      <td>0.05084854234232898</td>\n",
       "      <td>0.01839558750022468</td>\n",
       "    </tr>\n",
       "  </tbody>\n",
       "</table>\n",
       "<p>932 rows × 3 columns</p>\n",
       "</div>"
      ],
      "text/plain": [
       "                 Interacting_gene             R_squared                P_value\n",
       "0               ABCA12_proteomics                   1.0                    0.0\n",
       "1    ABHD14A-ACY1;ACY1_proteomics  0.042654226061398265   0.030407165679960716\n",
       "2                 ABI3_proteomics    0.0713161675659758   0.006661589430560841\n",
       "3                  ABR_proteomics   0.06774916791274525   0.006028467205486407\n",
       "4                ACACA_proteomics   0.08026420513965155  0.0027075066408910006\n",
       "..                            ...                   ...                    ...\n",
       "927             ZFAND5_proteomics   0.04960829851126563    0.01991875732257156\n",
       "928              ZMYM6_proteomics   0.25469791367426686    0.02754623524945694\n",
       "929             ZNF106_proteomics    0.1570932438802146   0.024719099954447963\n",
       "930             ZNF629_proteomics   0.49746512733946496    0.03379592847602158\n",
       "931             ZNF638_proteomics   0.05084854234232898    0.01839558750022468\n",
       "\n",
       "[932 rows x 3 columns]"
      ]
     },
     "execution_count": 165,
     "metadata": {},
     "output_type": "execute_result"
    }
   ],
   "source": [
    "#Create df or proteomic and CNV data. \n",
    "#Run linear regression function on all proteins. \n",
    "prot_and_CNV = Hnscc.join_omics_to_omics(df1_name=\"proteomics\", df2_name=\"CNV\")\n",
    "(wrap_lin_regression(prot_and_CNV,prot_genes_list,\"EGFR\"))"
   ]
  },
  {
   "cell_type": "code",
   "execution_count": null,
   "metadata": {},
   "outputs": [],
   "source": []
  }
 ],
 "metadata": {
  "kernelspec": {
   "display_name": "Python 3",
   "language": "python",
   "name": "python3"
  },
  "language_info": {
   "codemirror_mode": {
    "name": "ipython",
    "version": 3
   },
   "file_extension": ".py",
   "mimetype": "text/x-python",
   "name": "python",
   "nbconvert_exporter": "python",
   "pygments_lexer": "ipython3",
   "version": "3.7.3"
  }
 },
 "nbformat": 4,
 "nbformat_minor": 2
}
