{
 "cells": [
  {
   "cell_type": "markdown",
   "metadata": {},
   "source": [
    "# Final Figures for PIK3CA Story\n",
    "### Phosphorylation levels"
   ]
  },
  {
   "cell_type": "markdown",
   "metadata": {},
   "source": [
    "##### These notebooks are used to create the figures used for our PIK3CA story. For more detailed analysis of what is being done, see Notebook 2 in this folder."
   ]
  },
  {
   "cell_type": "markdown",
   "metadata": {},
   "source": [
    "### Standard Imports"
   ]
  },
  {
   "cell_type": "code",
   "execution_count": 1,
   "metadata": {},
   "outputs": [
    {
     "name": "stdout",
     "output_type": "stream",
     "text": [
      "Welcome to the CPTAC data service package. Available datasets may be\n",
      "viewed using CPTAC.list(). In order to access a specific data set,\n",
      "import a CPTAC subfolder using either 'import CPTAC.Dataset' or 'from\n",
      "CPTAC import Dataset'.\n",
      "******\n",
      "Version: 0.2.5\n",
      "******\n",
      "Loading Endometrial CPTAC data:\n",
      "Loading Dictionary...\n",
      "Loading Clinical Data...\n",
      "Loading Acetylation Proteomics Data...\n",
      "Loading Proteomics Data...\n",
      "Loading Transcriptomics Data...\n",
      "Loading CNA Data...\n",
      "Loading Phosphoproteomics Data...\n",
      "Loading Somatic Mutation Data...\n",
      "\n",
      " ******PLEASE READ******\n",
      "WARNING: This data is under a publication embargo until July 1, 2019.\n",
      "CPTAC is a community resource project and data are made available\n",
      "rapidly after generation for community research use. The embargo\n",
      "allows exploring and utilizing the data, but the data may not be in a\n",
      "publication until July 1, 2019. Please see\n",
      "https://proteomics.cancer.gov/data-portal/about/data-use-agreement or\n",
      "enter embargo() to open the webpage for more details.\n"
     ]
    }
   ],
   "source": [
    "import pandas as pd\n",
    "import numpy as np\n",
    "import re\n",
    "import scipy.stats\n",
    "import statsmodels.stats.multitest\n",
    "import matplotlib.pyplot as plt\n",
    "import seaborn as sns\n",
    "import json\n",
    "import operator\n",
    "\n",
    "#import the Endometrial data from CPTAC package\n",
    "import CPTAC.Endometrial as CPTAC"
   ]
  },
  {
   "cell_type": "markdown",
   "metadata": {},
   "source": [
    "### Get phosphorylation data and somatic mutations from CPTAC"
   ]
  },
  {
   "cell_type": "code",
   "execution_count": 2,
   "metadata": {},
   "outputs": [],
   "source": [
    "somatic = CPTAC.get_somatic()\n",
    "phos = CPTAC.get_phosphoproteomics()"
   ]
  },
  {
   "cell_type": "markdown",
   "metadata": {},
   "source": [
    "### Make Phosphoproteomics box plot for AKT1, AKT2, PTEN, PIK3CA\n",
    "##### Show data for hotspot mutations vs wildtype in cancer patients, showing most significant site in each protein"
   ]
  },
  {
   "cell_type": "code",
   "execution_count": 8,
   "metadata": {},
   "outputs": [
    {
     "ename": "ValueError",
     "evalue": "columns overlap but no suffix specified: Index(['PIK3CA_Mutation'], dtype='object')",
     "output_type": "error",
     "traceback": [
      "\u001b[0;31m---------------------------------------------------------------------------\u001b[0m",
      "\u001b[0;31mValueError\u001b[0m                                Traceback (most recent call last)",
      "\u001b[0;32m<ipython-input-8-015f0dfc6914>\u001b[0m in \u001b[0;36m<module>\u001b[0;34m\u001b[0m\n\u001b[1;32m     20\u001b[0m     \u001b[0;32mfor\u001b[0m \u001b[0msite\u001b[0m \u001b[0;32min\u001b[0m \u001b[0mproteindf\u001b[0m\u001b[0;34m:\u001b[0m\u001b[0;34m\u001b[0m\u001b[0;34m\u001b[0m\u001b[0m\n\u001b[1;32m     21\u001b[0m         \u001b[0;32mif\u001b[0m \u001b[0msite\u001b[0m \u001b[0;34m!=\u001b[0m \u001b[0;34m'Mutation'\u001b[0m \u001b[0;32mand\u001b[0m \u001b[0msite\u001b[0m \u001b[0;34m!=\u001b[0m \u001b[0;34m'Sample_Status'\u001b[0m\u001b[0;34m:\u001b[0m\u001b[0;34m\u001b[0m\u001b[0;34m\u001b[0m\u001b[0m\n\u001b[0;32m---> 22\u001b[0;31m             \u001b[0mplotdf\u001b[0m \u001b[0;34m=\u001b[0m \u001b[0mplotdf\u001b[0m\u001b[0;34m.\u001b[0m\u001b[0mjoin\u001b[0m\u001b[0;34m(\u001b[0m\u001b[0mproteindf\u001b[0m\u001b[0;34m[\u001b[0m\u001b[0msite\u001b[0m\u001b[0;34m]\u001b[0m\u001b[0;34m)\u001b[0m\u001b[0;34m\u001b[0m\u001b[0;34m\u001b[0m\u001b[0m\n\u001b[0m\u001b[1;32m     23\u001b[0m \u001b[0;34m\u001b[0m\u001b[0m\n\u001b[1;32m     24\u001b[0m \u001b[0;34m'''Reformat the dataframe to classify Hotspot Mutations, and all other types'''\u001b[0m\u001b[0;34m\u001b[0m\u001b[0;34m\u001b[0m\u001b[0m\n",
      "\u001b[0;32m~/anaconda3/envs/research/lib/python3.7/site-packages/pandas/core/frame.py\u001b[0m in \u001b[0;36mjoin\u001b[0;34m(self, other, on, how, lsuffix, rsuffix, sort)\u001b[0m\n\u001b[1;32m   6334\u001b[0m         \u001b[0;31m# For SparseDataFrame's benefit\u001b[0m\u001b[0;34m\u001b[0m\u001b[0;34m\u001b[0m\u001b[0;34m\u001b[0m\u001b[0m\n\u001b[1;32m   6335\u001b[0m         return self._join_compat(other, on=on, how=how, lsuffix=lsuffix,\n\u001b[0;32m-> 6336\u001b[0;31m                                  rsuffix=rsuffix, sort=sort)\n\u001b[0m\u001b[1;32m   6337\u001b[0m \u001b[0;34m\u001b[0m\u001b[0m\n\u001b[1;32m   6338\u001b[0m     def _join_compat(self, other, on=None, how='left', lsuffix='', rsuffix='',\n",
      "\u001b[0;32m~/anaconda3/envs/research/lib/python3.7/site-packages/pandas/core/frame.py\u001b[0m in \u001b[0;36m_join_compat\u001b[0;34m(self, other, on, how, lsuffix, rsuffix, sort)\u001b[0m\n\u001b[1;32m   6349\u001b[0m             return merge(self, other, left_on=on, how=how,\n\u001b[1;32m   6350\u001b[0m                          \u001b[0mleft_index\u001b[0m\u001b[0;34m=\u001b[0m\u001b[0mon\u001b[0m \u001b[0;32mis\u001b[0m \u001b[0;32mNone\u001b[0m\u001b[0;34m,\u001b[0m \u001b[0mright_index\u001b[0m\u001b[0;34m=\u001b[0m\u001b[0;32mTrue\u001b[0m\u001b[0;34m,\u001b[0m\u001b[0;34m\u001b[0m\u001b[0;34m\u001b[0m\u001b[0m\n\u001b[0;32m-> 6351\u001b[0;31m                          suffixes=(lsuffix, rsuffix), sort=sort)\n\u001b[0m\u001b[1;32m   6352\u001b[0m         \u001b[0;32melse\u001b[0m\u001b[0;34m:\u001b[0m\u001b[0;34m\u001b[0m\u001b[0;34m\u001b[0m\u001b[0m\n\u001b[1;32m   6353\u001b[0m             \u001b[0;32mif\u001b[0m \u001b[0mon\u001b[0m \u001b[0;32mis\u001b[0m \u001b[0;32mnot\u001b[0m \u001b[0;32mNone\u001b[0m\u001b[0;34m:\u001b[0m\u001b[0;34m\u001b[0m\u001b[0;34m\u001b[0m\u001b[0m\n",
      "\u001b[0;32m~/anaconda3/envs/research/lib/python3.7/site-packages/pandas/core/reshape/merge.py\u001b[0m in \u001b[0;36mmerge\u001b[0;34m(left, right, how, on, left_on, right_on, left_index, right_index, sort, suffixes, copy, indicator, validate)\u001b[0m\n\u001b[1;32m     60\u001b[0m                          \u001b[0mcopy\u001b[0m\u001b[0;34m=\u001b[0m\u001b[0mcopy\u001b[0m\u001b[0;34m,\u001b[0m \u001b[0mindicator\u001b[0m\u001b[0;34m=\u001b[0m\u001b[0mindicator\u001b[0m\u001b[0;34m,\u001b[0m\u001b[0;34m\u001b[0m\u001b[0;34m\u001b[0m\u001b[0m\n\u001b[1;32m     61\u001b[0m                          validate=validate)\n\u001b[0;32m---> 62\u001b[0;31m     \u001b[0;32mreturn\u001b[0m \u001b[0mop\u001b[0m\u001b[0;34m.\u001b[0m\u001b[0mget_result\u001b[0m\u001b[0;34m(\u001b[0m\u001b[0;34m)\u001b[0m\u001b[0;34m\u001b[0m\u001b[0;34m\u001b[0m\u001b[0m\n\u001b[0m\u001b[1;32m     63\u001b[0m \u001b[0;34m\u001b[0m\u001b[0m\n\u001b[1;32m     64\u001b[0m \u001b[0;34m\u001b[0m\u001b[0m\n",
      "\u001b[0;32m~/anaconda3/envs/research/lib/python3.7/site-packages/pandas/core/reshape/merge.py\u001b[0m in \u001b[0;36mget_result\u001b[0;34m(self)\u001b[0m\n\u001b[1;32m    572\u001b[0m \u001b[0;34m\u001b[0m\u001b[0m\n\u001b[1;32m    573\u001b[0m         llabels, rlabels = items_overlap_with_suffix(ldata.items, lsuf,\n\u001b[0;32m--> 574\u001b[0;31m                                                      rdata.items, rsuf)\n\u001b[0m\u001b[1;32m    575\u001b[0m \u001b[0;34m\u001b[0m\u001b[0m\n\u001b[1;32m    576\u001b[0m         \u001b[0mlindexers\u001b[0m \u001b[0;34m=\u001b[0m \u001b[0;34m{\u001b[0m\u001b[0;36m1\u001b[0m\u001b[0;34m:\u001b[0m \u001b[0mleft_indexer\u001b[0m\u001b[0;34m}\u001b[0m \u001b[0;32mif\u001b[0m \u001b[0mleft_indexer\u001b[0m \u001b[0;32mis\u001b[0m \u001b[0;32mnot\u001b[0m \u001b[0;32mNone\u001b[0m \u001b[0;32melse\u001b[0m \u001b[0;34m{\u001b[0m\u001b[0;34m}\u001b[0m\u001b[0;34m\u001b[0m\u001b[0;34m\u001b[0m\u001b[0m\n",
      "\u001b[0;32m~/anaconda3/envs/research/lib/python3.7/site-packages/pandas/core/internals.py\u001b[0m in \u001b[0;36mitems_overlap_with_suffix\u001b[0;34m(left, lsuffix, right, rsuffix)\u001b[0m\n\u001b[1;32m   5242\u001b[0m         \u001b[0;32mif\u001b[0m \u001b[0;32mnot\u001b[0m \u001b[0mlsuffix\u001b[0m \u001b[0;32mand\u001b[0m \u001b[0;32mnot\u001b[0m \u001b[0mrsuffix\u001b[0m\u001b[0;34m:\u001b[0m\u001b[0;34m\u001b[0m\u001b[0;34m\u001b[0m\u001b[0m\n\u001b[1;32m   5243\u001b[0m             raise ValueError('columns overlap but no suffix specified: '\n\u001b[0;32m-> 5244\u001b[0;31m                              '{rename}'.format(rename=to_rename))\n\u001b[0m\u001b[1;32m   5245\u001b[0m \u001b[0;34m\u001b[0m\u001b[0m\n\u001b[1;32m   5246\u001b[0m         \u001b[0;32mdef\u001b[0m \u001b[0mlrenamer\u001b[0m\u001b[0;34m(\u001b[0m\u001b[0mx\u001b[0m\u001b[0;34m)\u001b[0m\u001b[0;34m:\u001b[0m\u001b[0;34m\u001b[0m\u001b[0;34m\u001b[0m\u001b[0m\n",
      "\u001b[0;31mValueError\u001b[0m: columns overlap but no suffix specified: Index(['PIK3CA_Mutation'], dtype='object')"
     ]
    }
   ],
   "source": [
    "'''Use PIK3CA as gene, AKT1, AKT2, PTEN, and PIK3CA as proteins'''\n",
    "gene = 'PIK3CA'\n",
    "protList = ['AKT1','AKT2','PTEN','PIK3CA']\n",
    "\n",
    "'''A list of mutations present in the hotspot according to our Hotspot3D output'''\n",
    "hotspot_mutations = ['p.E545A', 'p.E545K', 'p.E545V', 'p.Q546P', 'p.Q546R', 'p.E542K']\n",
    "mutated_hotspot = somatic.loc[(somatic['Location'].isin(hotspot_mutations)) & (somatic['Gene'] == gene)]\n",
    "hotspot_patients = mutated_hotspot['Clinical_Patient_Key']\n",
    "\n",
    "'''Get the PIK3CA mutation dataframe'''\n",
    "plotdf = CPTAC.compare_mutations(phos, gene)\n",
    "\n",
    "'''Look only at Tumor patients'''\n",
    "plotdf = plotdf.loc[plotdf['Sample_Status'] == 'Tumor'][['Mutation']]\n",
    "\n",
    "'''Add in the protein levels for every protein in the list'''\n",
    "for protein in protList:\n",
    "    proteindf = CPTAC.compare_mutations(phos, protein, gene)\n",
    "    proteindf = proteindf.loc[proteindf['PIK3CA_Sample_Status'] == 'Tumor']\n",
    "    for site in proteindf:\n",
    "        if site != 'Mutation' and site != 'Sample_Status':\n",
    "            plotdf = plotdf.join(proteindf[site])\n",
    "            \n",
    "'''Reformat the dataframe to classify Hotspot Mutations, and all other types'''\n",
    "for ind, row in plotdf.iterrows():\n",
    "    if ind in hotspot_patients.values:\n",
    "        plotdf.at[ind, 'Mutation'] = 'Hotspot Mutation'\n",
    "    else:\n",
    "        if row['Mutation'] != 'Wildtype_Tumor':\n",
    "            plotdf.at[ind, 'Mutation'] = 'Non-Hotspot Mutation'\n",
    "\n",
    "\n",
    "    \n",
    "'''Select only hotspot mutation and wildtype'''\n",
    "plotdf = plotdf.loc[plotdf['Mutation'] != 'Non-Hotspot Mutation']\n",
    "\n",
    "'''Do a t-test, comparing hotspot mutation and wildtype groups, to determine significance of each site'''\n",
    "significance_of_sites = {}\n",
    "for site in plotdf:\n",
    "    if site != 'Mutation':\n",
    "        hotspotdf = plotdf.loc[plotdf['Mutation'] == 'Hotspot Mutation'][['Mutation', site]]\n",
    "        hotspotdf = hotspotdf.dropna(axis=0)\n",
    "        otherdf = plotdf.loc[plotdf['Mutation'] != 'Hotspot Mutation'][['Mutation', site]]\n",
    "        otherdf = otherdf.dropna(axis=0)\n",
    "        ttest = scipy.stats.ttest_ind(hotspotdf[site], otherdf[site])\n",
    "        significance_of_sites[site]=ttest[1]\n",
    "\n",
    "'''Record the most significant site in each protein'''\n",
    "mostSignificantPhosphorylationSites = ['Mutation','AKT1-S124','AKT2-T451','PTEN-S558','PIK3CA-T313']\n",
    "plotdf = plotdf[mostSignificantPhosphorylationSites]\n",
    "\n",
    "'''Create a new dataframe for only these 4 phosphorylation sites'''\n",
    "plotdf = pd.melt(plotdf, id_vars=['Mutation'], var_name='Phosphorylation Site', value_name='Signal')\n",
    "plotdf = plotdf.dropna(axis=0)\n",
    "\n",
    "\n",
    "\n",
    "'''Create the plot'''\n",
    "a4_dims = (40.4, 16.54)\n",
    "fig, ax = plt.subplots(figsize=a4_dims)\n",
    "my_pal = {\"Hotspot Mutation\": \"#009933\", \"Wildtype_Tumor\": \"#008ae6\"}\n",
    "boxplt = sns.boxplot(x='Phosphorylation Site', y='Signal', hue='Mutation', data=plotdf, palette=my_pal)\n",
    "boxplt = sns.stripplot(data=plotdf, x='Phosphorylation Site', y='Signal', hue='Mutation', dodge=True, jitter=True, color='.3')\n",
    "boxplt.set_xlabel('')\n",
    "boxplt.set_ylabel('Phosphorylation Level', fontsize='60')\n",
    "boxplt.tick_params(labelsize='50')\n",
    "boxplt.set_title('Phosphorylation in PIK3CA Interacting Proteins', fontsize = '75')\n",
    "\n",
    "'''Adjust the legend'''\n",
    "handles, labels = ax.get_legend_handles_labels()\n",
    "plt.legend(handles[0:2], ['Hotspot Mutation', 'Wildtype_Tumor'], title='PIK3CA Status', fontsize='30', frameon=True)\n",
    "boxplt.get_legend().get_title().set_fontsize('25')\n",
    "\n",
    "'''Show Plot'''\n",
    "fig = boxplt.get_figure()\n",
    "plt.show()\n",
    "\n",
    "fig.savefig('pik3ca_phos_bxplt.pdf', bbox_inches = 'tight')"
   ]
  },
  {
   "cell_type": "markdown",
   "metadata": {},
   "source": [
    "## Phosphoproteomics Volcano Plot\n",
    "#### Hotspot mutation vs wildtype in cancer patients, all phosphorylation sites in all interacting proteins"
   ]
  },
  {
   "cell_type": "code",
   "execution_count": null,
   "metadata": {},
   "outputs": [],
   "source": [
    "'''Use PIK3CA as gene, AKT1, AKT2, PTEN, and PIK3CA as proteins'''\n",
    "gene = 'PIK3CA'\n",
    "protList = ['IRS1', 'IRS2', 'RRAS', 'AKT2', 'NRAS', 'PTEN', 'AKT1', 'RPS6KB1', 'PIK3R1', 'PIK3CA','MTOR', 'ERBB3', 'CDK5']\n",
    "#protList = ['IRS1', 'IRS2', 'RRAS', 'AKT2', 'NRAS', 'PTEN', 'AKT1', 'RPS6KB1', 'PIK3R1',  'MTOR', 'MAPK', 'ERBB3', 'CDK5']\n",
    "'''A list of mutations present in the hotspot according to our Hotspot3D output'''\n",
    "hotspot_mutations = ['p.E545A', 'p.E545K', 'p.E545V', 'p.Q546P', 'p.Q546R', 'p.E542K']\n",
    "mutated_hotspot = somatic.loc[(somatic['Location'].isin(hotspot_mutations)) & (somatic['Gene'] == gene)]\n",
    "hotspot_patients = mutated_hotspot['Clinical_Patient_Key']\n",
    "\n",
    "'''Get the PIK3CA mutation dataframe'''\n",
    "plotdf = CPTAC.compare_mutations(phos, gene)\n",
    "\n",
    "'''Look only at Tumor patients'''\n",
    "plotdf = plotdf.loc[plotdf['Sample_Status'] == 'Tumor'][['Mutation']]\n",
    "\n",
    "'''Add in the phosphorylation levels for every phosphosite in the list'''\n",
    "for protein in protList:\n",
    "    proteindf = CPTAC.compare_mutations(phos, protein, gene)\n",
    "    proteindf = proteindf.loc[proteindf['Sample_Status'] == 'Tumor']\n",
    "    for site in proteindf:\n",
    "        if site != 'Mutation' and site != 'Sample_Status':\n",
    "            plotdf = plotdf.join(proteindf[site])       \n",
    "\n",
    "'''Reformat the dataframe to classify Hotspot Mutations, and all other types'''\n",
    "for ind, row in plotdf.iterrows():\n",
    "    if ind in hotspot_patients.values:\n",
    "        plotdf.at[ind, 'Mutation'] = 'Hotspot Mutation'\n",
    "    else:\n",
    "        if row['Mutation'] != 'Wildtype_Tumor':\n",
    "            plotdf.at[ind, 'Mutation'] = 'Non-Hotspot Mutation'\n",
    "    \n",
    "'''Select only hotspot mutation and wildtype'''\n",
    "plotdf = plotdf.loc[plotdf['Mutation'] != 'Non-Hotspot Mutation']\n",
    "        \n",
    "p_values = []\n",
    "mean_diffs = []\n",
    "p_val_mean_diff_dict = {}\n",
    "'''Get mean difference in phosphorylation level between hotspot and wildtype groups, as well as p-value'''\n",
    "for site in plotdf:\n",
    "    if site != 'Mutation':\n",
    "        '''Record the p-value'''\n",
    "        hotspotdf = plotdf.loc[plotdf['Mutation'] == 'Hotspot Mutation'][['Mutation', site]]\n",
    "        hotspotdf = hotspotdf.dropna(axis=0)\n",
    "        otherdf = plotdf.loc[plotdf['Mutation'] != 'Hotspot Mutation'][['Mutation', site]]\n",
    "        otherdf = otherdf.dropna(axis=0)\n",
    "        ttest = scipy.stats.ttest_ind(hotspotdf[site], otherdf[site])\n",
    "        p_values.append(ttest[1])\n",
    "        \n",
    "        '''Record the mean difference in phosphorylation level'''\n",
    "        diff_mean = np.mean(hotspotdf[site]) - np.mean(otherdf[site])\n",
    "        mean_diffs.append(diff_mean)\n",
    "        p_val_mean_diff_dict[site] = [ttest[1], diff_mean]\n",
    "       \n",
    "        \n",
    "\n",
    "'''Record the negative log of each p-value, for our volcano plot'''\n",
    "neg_log_pvals = []\n",
    "plot_diff_means = []\n",
    "for key in p_val_mean_diff_dict.keys():\n",
    "    if np.nan in p_val_mean_diff_dict[key]:\n",
    "        p_val_mean_diff_dict[key] = []\n",
    "    else:\n",
    "        neg_log_pvals.append(-1 * np.log10(p_val_mean_diff_dict[key][0]))\n",
    "        plot_diff_means.append(p_val_mean_diff_dict[key][1])\n",
    "\n",
    "'''Create a line of the bonferroni corrected p-value cutoff for our volcano plot'''\n",
    "bonferroni_cutoff = .05/len(neg_log_pvals)\n",
    "cutoffLine = (-1 * np.log10(bonferroni_cutoff))\n",
    "unadjustedPvalLine = (-1 * np.log10(.05))\n",
    "\n",
    "print(bonferroni_cutoff)\n",
    "   \n",
    "'''Reformat data in dataframe for our plot'''\n",
    "df = pd.DataFrame({'-Log10(p-value)': neg_log_pvals, 'Mean Difference in Phosphorylation Level':plot_diff_means})\n",
    "\n",
    "'''Create and display the plot'''\n",
    "ax = sns.scatterplot(x = \"Mean Difference in Phosphorylation Level\", y = \"-Log10(p-value)\", data =df)\n",
    "ax.set_title(\"Mean Difference in Interacting Protein Phosphorylation\\n for PIK3CA Hotspot Mutations\", fontsize = '20')\n",
    "ax.set_xlabel('Mean Difference in Phosphorylation Level', fontsize = '15')\n",
    "ax.set_ylabel('-Log10(p-value)', fontsize='15')\n",
    "ax.plot([-.8,1.25],[cutoffLine,cutoffLine], linewidth=2,linestyle=\"--\", color=\"red\")\n",
    "ax.plot([-.8,1.25],[unadjustedPvalLine, unadjustedPvalLine], linewidth=2,linestyle=\"--\", color=\"green\")\n",
    "ax.set(ylim=(0, 4.5))\n",
    "plt.savefig('pik3ca_phos_volcano.pdf', bbox_inches = 'tight')\n",
    "plt.savefig('pik3ca_phos_volcano.png', bbox_inches = 'tight')\n",
    "plt.show()\n"
   ]
  },
  {
   "cell_type": "code",
   "execution_count": null,
   "metadata": {},
   "outputs": [],
   "source": []
  }
 ],
 "metadata": {
  "kernelspec": {
   "display_name": "Python 3",
   "language": "python",
   "name": "python3"
  },
  "language_info": {
   "codemirror_mode": {
    "name": "ipython",
    "version": 3
   },
   "file_extension": ".py",
   "mimetype": "text/x-python",
   "name": "python",
   "nbconvert_exporter": "python",
   "pygments_lexer": "ipython3",
   "version": "3.7.3"
  }
 },
 "nbformat": 4,
 "nbformat_minor": 2
}
