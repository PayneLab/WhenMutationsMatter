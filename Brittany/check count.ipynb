{
 "cells": [
  {
   "cell_type": "code",
   "execution_count": 1,
   "metadata": {},
   "outputs": [
    {
     "name": "stdout",
     "output_type": "stream",
     "text": [
      "Welcome to the cptac data service package. Available datasets may be\n",
      "viewed using cptac.list_data(). In order to access a specific data\n",
      "set, import a cptac subfolder using either 'import cptac.dataset' or\n",
      "'from cptac import dataset'.\n",
      "******\n",
      "Version: 0.4.1\n",
      "******\n",
      "You have loaded the cptac endometrial dataset. To view available\n",
      "dataframes, use cptac.endometrial.list_data(). To view available\n",
      "functions for accessing and manipulating the dataframes, use\n",
      "cptac.endometrial.list_api().\n",
      "endometrial data version: 2.1\n",
      "\n",
      "Loading Dictionary...\n",
      "Loading cptac endometrial data:\n",
      "Loading acetylproteomics data...\n",
      "Loading clinical data...\n",
      "Loading CNA data...\n",
      "Loading miRNA data...\n",
      "Loading phosphoproteomics_gene data...\n",
      "Loading phosphoproteomics_site data...\n",
      "Loading proteomics data...\n",
      "Loading somatic data...\n",
      "Loading somatic_binary data...\n",
      "Loading transcriptomics_circular data...\n",
      "Loading transcriptomics_linear data...\n",
      "\n",
      " ******PLEASE READ******\n",
      "WARNING: This data is under a publication embargo until July 1, 2019.\n",
      "CPTAC is a community resource project and data are made available\n",
      "rapidly after generation for community research use. The embargo\n",
      "allows exploring and utilizing the data, but the data may not be in a\n",
      "publication until July 1, 2019. Please see\n",
      "https://proteomics.cancer.gov/data-portal/about/data-use-agreement or\n",
      "enter embargo() to open the webpage for more details.\n"
     ]
    }
   ],
   "source": [
    "import pandas as pd\n",
    "import cptac.endometrial as cptac"
   ]
  },
  {
   "cell_type": "code",
   "execution_count": 2,
   "metadata": {},
   "outputs": [],
   "source": [
    "# get data frames\n",
    "somatic_mutations = cptac.get_mutations()\n",
    "proteomics = cptac.get_proteomics()\n",
    "sample_status_map = cptac.get_sample_status_map()\n",
    "merged_mutations = somatic_mutations.join(sample_status_map, how=\"left\") "
   ]
  },
  {
   "cell_type": "code",
   "execution_count": 9,
   "metadata": {},
   "outputs": [],
   "source": [
    "freq_mut = ['CTCF']\n",
    "total_tumor_patients = 95\n",
    "truncated = []\n",
    "for gene in freq_mut:\n",
    "    gene_mutated = merged_mutations.loc[merged_mutations['Gene'] == gene]\n",
    "    truncated_df = gene_mutated.loc[(gene_mutated['Mutation'] != 'In_Frame_Del') & \n",
    "        (gene_mutated['Mutation'] != 'In_Frame_Ins') & (gene_mutated['Mutation'] != 'Missense_Mutation')] \n",
    "    samples_trunc = truncated_df.index.unique()\n",
    "    num_trunc_mut = len(samples_trunc)\n",
    "    fraction_trunc = (num_trunc_mut / total_tumor_patients)\n",
    "    truncated.append(fraction_trunc)"
   ]
  },
  {
   "cell_type": "code",
   "execution_count": 10,
   "metadata": {},
   "outputs": [
    {
     "name": "stdout",
     "output_type": "stream",
     "text": [
      "CTCF num_trunc_mut 23\n",
      "CTCF num miss mut 9\n",
      "CTCF num overlap 5\n",
      "CTCF num_non_overlap_samples 4\n",
      "CTCF check: 23 + 4 = 27 \n",
      "\n"
     ]
    }
   ],
   "source": [
    "missence = []\n",
    "for gene in freq_mut:\n",
    "    gene_mutated = merged_mutations.loc[merged_mutations['Gene'] == gene]\n",
    "\n",
    "    # trunc\n",
    "    truncated_df = gene_mutated.loc[(gene_mutated['Mutation'] != 'In_Frame_Del') & \n",
    "        (gene_mutated['Mutation'] != 'In_Frame_Ins') & (gene_mutated['Mutation'] != 'Missense_Mutation')] \n",
    "    samples_trunc = truncated_df.index.unique()\n",
    "    num_trunc_mut = len(samples_trunc)\n",
    "    print(gene, 'num_trunc_mut', num_trunc_mut)\n",
    "    fraction_trunc = (num_trunc_mut / total_tumor_patients)\n",
    "    truncated.append(fraction_trunc)\n",
    "\n",
    "    #miss\n",
    "    missence_mutations = gene_mutated.loc[(gene_mutated['Mutation'] == 'In_Frame_Ins') \n",
    "            | (gene_mutated['Mutation'] == 'In_Frame_Del') | (gene_mutated['Mutation'] == 'Missense_Mutation')]\n",
    "    samples_miss = missence_mutations.index.unique()\n",
    "    num_miss_mut = len(samples_miss)\n",
    "\n",
    "    #count overlap in truncated\n",
    "    print(gene, 'num miss mut', num_miss_mut)\n",
    "    num_overlap = 0\n",
    "    non_overlap_samples_miss = []\n",
    "    for sample in samples_miss:\n",
    "        if sample not in samples_trunc:\n",
    "            non_overlap_samples_miss.append(sample)\n",
    "        else:\n",
    "            num_overlap += 1\n",
    "    print(gene,'num overlap', num_overlap)\n",
    "    #print(non_overlap_samples_miss)\n",
    "    num_non_overlap_samples = len(non_overlap_samples_miss)\n",
    "    print(gene, 'num_non_overlap_samples', num_non_overlap_samples)\n",
    "    t = num_trunc_mut +num_non_overlap_samples\n",
    "    print(gene,'check:', num_trunc_mut,'+', num_non_overlap_samples, '=', t, '\\n')\n",
    "    fraction_miss = (num_non_overlap_samples / total_tumor_patients)\n",
    "    missence.append(fraction_miss)"
   ]
  },
  {
   "cell_type": "code",
   "execution_count": null,
   "metadata": {},
   "outputs": [],
   "source": []
  }
 ],
 "metadata": {
  "kernelspec": {
   "display_name": "Python 3",
   "language": "python",
   "name": "python3"
  },
  "language_info": {
   "codemirror_mode": {
    "name": "ipython",
    "version": 3
   },
   "file_extension": ".py",
   "mimetype": "text/x-python",
   "name": "python",
   "nbconvert_exporter": "python",
   "pygments_lexer": "ipython3",
   "version": "3.7.3"
  }
 },
 "nbformat": 4,
 "nbformat_minor": 2
}
