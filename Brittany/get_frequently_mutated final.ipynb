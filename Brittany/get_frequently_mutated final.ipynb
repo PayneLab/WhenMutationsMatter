{
 "cells": [
  {
   "cell_type": "code",
   "execution_count": 32,
   "metadata": {},
   "outputs": [],
   "source": [
    "import pandas as pd\n",
    "import seaborn as sns\n",
    "import matplotlib.pyplot as plt\n",
    "\n",
    "\n",
    "import CPTAC.Endometrial as c"
   ]
  },
  {
   "cell_type": "code",
   "execution_count": 52,
   "metadata": {},
   "outputs": [],
   "source": [
    "def get_frequently_mutated(cancer_type, cutoff=.1):  \n",
    "\n",
    "    #import CPTAC to use omics_mutations data\n",
    "    if cancer_type == \"endometrial\" or cancer_type == \"Endometrial\":\n",
    "        import CPTAC.Endometrial as CPTAC\n",
    "        \n",
    "    elif cancer_type == \"colon\" or cancer_type == \"Colon\":\n",
    "        import CPTAC.Colon as CPTAC\n",
    "        \n",
    "    elif cancer_type == \"ovarian\" or cancer_type == \"Ovarian\":\n",
    "        import CPTAC.Ovarian as CPTAC\n",
    "    \n",
    "    else:\n",
    "        print(\"Please enter a valid cancer type.\")\n",
    "        \n",
    "    freq_mutated = []\n",
    "    gene_and_freq_d = {}\n",
    "    new_d = {}    \n",
    "        \n",
    "    # get data frames\n",
    "    somatic = CPTAC.get_mutations()\n",
    "    proteomics = CPTAC.get_proteomics()\n",
    "    gene = 'PTEN'\n",
    "    omics_mutations = CPTAC.append_mutations_to_omics(mutation_genes=gene, omics_df=prot, omics_genes=gene)\n",
    "    \n",
    "    # unique genes\n",
    "    unique_genes = somatic['Gene'].unique()\n",
    "    \n",
    "    # get total tumor patients\n",
    "    tumors = omics_mutations.loc[omics_mutations['Sample_Status'] == 'Tumor']\n",
    "    total_tumor_patients = len(tumors)\n",
    "    \"\"\"\n",
    "    for gene in unique_genes:\n",
    "        omics_mutations = CPTAC.append_mutations_to_omics(mutation_genes=gene, omics_df=proteomics, omics_genes=gene).dropna(axis = 1)\n",
    "        gene_mutated = omics_mutations.loc[omics_mutations['{}_Mutation'.format(gene)] != \"Wildtype_Tumor\"]\n",
    "        num_gene_mutated = len(gene_mutated.index.unique())\n",
    "        percentage = (num_gene_mutated / total_tumor_patients)\n",
    "        if percentage > cutoff:\n",
    "            gene_and_freq_d[gene] = percentage\n",
    "\n",
    "    \n",
    "    \"\"\"\n",
    "    #find sample (col or index) in gene_mutated (samples represent patients)\n",
    "    #gene_mutated: Endometrial and Colon samples found in column 1, Ovarian found in index\n",
    "        \n",
    "    #find frequently mutated\n",
    "    if gene_mutated.columns[0] == 'Gene':\n",
    "        print('ovarian')\n",
    "        for gene in unique_genes:\n",
    "            gene_mutated = somatic.loc[somatic['Gene'] == gene].index\n",
    "            num_gene_mutated = len(gene_mutated.unique())\n",
    "            percentage = (num_gene_mutated / total_tumor_patients)\n",
    "            if percentage > cutoff:\n",
    "                gene_and_freq_d[gene] = percentage\n",
    "    \n",
    "    #find frequently mutated\n",
    "    else:\n",
    "        for gene in unique_genes:\n",
    "            gene_mutated = somatic.loc[somatic['Gene'] == gene].iloc[:, 0]\n",
    "            gene_mutated.drop_duplicates(keep='first',inplace=True)\n",
    "            num_gene_mutated = len(gene_mutated)\n",
    "            percentage = (num_gene_mutated / total_tumor_patients)\n",
    "            if percentage > cutoff:\n",
    "                gene_and_freq_d[gene] = percentage\n",
    "    \n",
    "    # create dataframe\n",
    "    df = pd.DataFrame(gene_and_freq_d.items())\n",
    "    \n",
    "     \n",
    "                   \n",
    "    return df"
   ]
  },
  {
   "cell_type": "code",
   "execution_count": 33,
   "metadata": {},
   "outputs": [
    {
     "data": {
      "text/html": [
       "<div>\n",
       "<style scoped>\n",
       "    .dataframe tbody tr th:only-of-type {\n",
       "        vertical-align: middle;\n",
       "    }\n",
       "\n",
       "    .dataframe tbody tr th {\n",
       "        vertical-align: top;\n",
       "    }\n",
       "\n",
       "    .dataframe thead th {\n",
       "        text-align: right;\n",
       "    }\n",
       "</style>\n",
       "<table border=\"1\" class=\"dataframe\">\n",
       "  <thead>\n",
       "    <tr style=\"text-align: right;\">\n",
       "      <th></th>\n",
       "      <th>TP53_proteomics</th>\n",
       "      <th>TP53_Mutation</th>\n",
       "      <th>TP53_Location</th>\n",
       "      <th>TP53_Mutation_Status</th>\n",
       "      <th>Sample_Status</th>\n",
       "    </tr>\n",
       "    <tr>\n",
       "      <th>Sample_ID</th>\n",
       "      <th></th>\n",
       "      <th></th>\n",
       "      <th></th>\n",
       "      <th></th>\n",
       "      <th></th>\n",
       "    </tr>\n",
       "  </thead>\n",
       "  <tbody>\n",
       "    <tr>\n",
       "      <th>S001</th>\n",
       "      <td>0.295</td>\n",
       "      <td>[Missense_Mutation]</td>\n",
       "      <td>[p.R248W]</td>\n",
       "      <td>Single_mutation</td>\n",
       "      <td>Tumor</td>\n",
       "    </tr>\n",
       "    <tr>\n",
       "      <th>S002</th>\n",
       "      <td>0.277</td>\n",
       "      <td>[Wildtype_Tumor]</td>\n",
       "      <td>[No_mutation]</td>\n",
       "      <td>Wildtype_Tumor</td>\n",
       "      <td>Tumor</td>\n",
       "    </tr>\n",
       "    <tr>\n",
       "      <th>S003</th>\n",
       "      <td>-0.871</td>\n",
       "      <td>[Wildtype_Tumor]</td>\n",
       "      <td>[No_mutation]</td>\n",
       "      <td>Wildtype_Tumor</td>\n",
       "      <td>Tumor</td>\n",
       "    </tr>\n",
       "    <tr>\n",
       "      <th>S005</th>\n",
       "      <td>-0.343</td>\n",
       "      <td>[Wildtype_Tumor]</td>\n",
       "      <td>[No_mutation]</td>\n",
       "      <td>Wildtype_Tumor</td>\n",
       "      <td>Tumor</td>\n",
       "    </tr>\n",
       "    <tr>\n",
       "      <th>S006</th>\n",
       "      <td>3.010</td>\n",
       "      <td>[Missense_Mutation]</td>\n",
       "      <td>[p.S241C]</td>\n",
       "      <td>Single_mutation</td>\n",
       "      <td>Tumor</td>\n",
       "    </tr>\n",
       "  </tbody>\n",
       "</table>\n",
       "</div>"
      ],
      "text/plain": [
       "           TP53_proteomics        TP53_Mutation  TP53_Location  \\\n",
       "Sample_ID                                                        \n",
       "S001                 0.295  [Missense_Mutation]      [p.R248W]   \n",
       "S002                 0.277     [Wildtype_Tumor]  [No_mutation]   \n",
       "S003                -0.871     [Wildtype_Tumor]  [No_mutation]   \n",
       "S005                -0.343     [Wildtype_Tumor]  [No_mutation]   \n",
       "S006                 3.010  [Missense_Mutation]      [p.S241C]   \n",
       "\n",
       "          TP53_Mutation_Status Sample_Status  \n",
       "Sample_ID                                     \n",
       "S001           Single_mutation         Tumor  \n",
       "S002            Wildtype_Tumor         Tumor  \n",
       "S003            Wildtype_Tumor         Tumor  \n",
       "S005            Wildtype_Tumor         Tumor  \n",
       "S006           Single_mutation         Tumor  "
      ]
     },
     "execution_count": 33,
     "metadata": {},
     "output_type": "execute_result"
    }
   ],
   "source": [
    "somatic = c.get_mutations()\n",
    "prot = c.get_proteomics()\n",
    "gene = 'TP53'\n",
    "omics_mutations = c.append_mutations_to_omics(mutation_genes=gene, omics_df=prot, omics_genes=gene)\n",
    "omics_mutations.head()"
   ]
  },
  {
   "cell_type": "code",
   "execution_count": 53,
   "metadata": {},
   "outputs": [
    {
     "name": "stdout",
     "output_type": "stream",
     "text": [
      "ovarian\n"
     ]
    },
    {
     "ename": "KeyboardInterrupt",
     "evalue": "",
     "output_type": "error",
     "traceback": [
      "\u001b[1;31m---------------------------------------------------------------------------\u001b[0m",
      "\u001b[1;31mKeyboardInterrupt\u001b[0m                         Traceback (most recent call last)",
      "\u001b[1;32m<ipython-input-53-5c225b16ade1>\u001b[0m in \u001b[0;36m<module>\u001b[1;34m\u001b[0m\n\u001b[1;32m----> 1\u001b[1;33m \u001b[0mdataf\u001b[0m \u001b[1;33m=\u001b[0m \u001b[0mget_frequently_mutated\u001b[0m\u001b[1;33m(\u001b[0m\u001b[1;34m\"endometrial\"\u001b[0m\u001b[1;33m,\u001b[0m \u001b[1;36m.25\u001b[0m\u001b[1;33m)\u001b[0m\u001b[1;33m\u001b[0m\u001b[1;33m\u001b[0m\u001b[0m\n\u001b[0m",
      "\u001b[1;32m<ipython-input-52-3efbbc0634d8>\u001b[0m in \u001b[0;36mget_frequently_mutated\u001b[1;34m(cancer_type, cutoff)\u001b[0m\n\u001b[0;32m     53\u001b[0m         \u001b[0mprint\u001b[0m\u001b[1;33m(\u001b[0m\u001b[1;34m'ovarian'\u001b[0m\u001b[1;33m)\u001b[0m\u001b[1;33m\u001b[0m\u001b[1;33m\u001b[0m\u001b[0m\n\u001b[0;32m     54\u001b[0m         \u001b[1;32mfor\u001b[0m \u001b[0mgene\u001b[0m \u001b[1;32min\u001b[0m \u001b[0munique_genes\u001b[0m\u001b[1;33m:\u001b[0m\u001b[1;33m\u001b[0m\u001b[1;33m\u001b[0m\u001b[0m\n\u001b[1;32m---> 55\u001b[1;33m             \u001b[0mgene_mutated\u001b[0m \u001b[1;33m=\u001b[0m \u001b[0msomatic\u001b[0m\u001b[1;33m.\u001b[0m\u001b[0mloc\u001b[0m\u001b[1;33m[\u001b[0m\u001b[0msomatic\u001b[0m\u001b[1;33m[\u001b[0m\u001b[1;34m'Gene'\u001b[0m\u001b[1;33m]\u001b[0m \u001b[1;33m==\u001b[0m \u001b[0mgene\u001b[0m\u001b[1;33m]\u001b[0m\u001b[1;33m.\u001b[0m\u001b[0mindex\u001b[0m\u001b[1;33m\u001b[0m\u001b[1;33m\u001b[0m\u001b[0m\n\u001b[0m\u001b[0;32m     56\u001b[0m             \u001b[0mnum_gene_mutated\u001b[0m \u001b[1;33m=\u001b[0m \u001b[0mlen\u001b[0m\u001b[1;33m(\u001b[0m\u001b[0mgene_mutated\u001b[0m\u001b[1;33m.\u001b[0m\u001b[0munique\u001b[0m\u001b[1;33m(\u001b[0m\u001b[1;33m)\u001b[0m\u001b[1;33m)\u001b[0m\u001b[1;33m\u001b[0m\u001b[1;33m\u001b[0m\u001b[0m\n\u001b[0;32m     57\u001b[0m             \u001b[0mpercentage\u001b[0m \u001b[1;33m=\u001b[0m \u001b[1;33m(\u001b[0m\u001b[0mnum_gene_mutated\u001b[0m \u001b[1;33m/\u001b[0m \u001b[0mtotal_tumor_patients\u001b[0m\u001b[1;33m)\u001b[0m\u001b[1;33m\u001b[0m\u001b[1;33m\u001b[0m\u001b[0m\n",
      "\u001b[1;32m~\\Anaconda3\\envs\\Research\\lib\\site-packages\\pandas\\core\\indexing.py\u001b[0m in \u001b[0;36m__getitem__\u001b[1;34m(self, key)\u001b[0m\n\u001b[0;32m   1498\u001b[0m \u001b[1;33m\u001b[0m\u001b[0m\n\u001b[0;32m   1499\u001b[0m             \u001b[0mmaybe_callable\u001b[0m \u001b[1;33m=\u001b[0m \u001b[0mcom\u001b[0m\u001b[1;33m.\u001b[0m\u001b[0mapply_if_callable\u001b[0m\u001b[1;33m(\u001b[0m\u001b[0mkey\u001b[0m\u001b[1;33m,\u001b[0m \u001b[0mself\u001b[0m\u001b[1;33m.\u001b[0m\u001b[0mobj\u001b[0m\u001b[1;33m)\u001b[0m\u001b[1;33m\u001b[0m\u001b[1;33m\u001b[0m\u001b[0m\n\u001b[1;32m-> 1500\u001b[1;33m             \u001b[1;32mreturn\u001b[0m \u001b[0mself\u001b[0m\u001b[1;33m.\u001b[0m\u001b[0m_getitem_axis\u001b[0m\u001b[1;33m(\u001b[0m\u001b[0mmaybe_callable\u001b[0m\u001b[1;33m,\u001b[0m \u001b[0maxis\u001b[0m\u001b[1;33m=\u001b[0m\u001b[0maxis\u001b[0m\u001b[1;33m)\u001b[0m\u001b[1;33m\u001b[0m\u001b[1;33m\u001b[0m\u001b[0m\n\u001b[0m\u001b[0;32m   1501\u001b[0m \u001b[1;33m\u001b[0m\u001b[0m\n\u001b[0;32m   1502\u001b[0m     \u001b[1;32mdef\u001b[0m \u001b[0m_is_scalar_access\u001b[0m\u001b[1;33m(\u001b[0m\u001b[0mself\u001b[0m\u001b[1;33m,\u001b[0m \u001b[0mkey\u001b[0m\u001b[1;33m)\u001b[0m\u001b[1;33m:\u001b[0m\u001b[1;33m\u001b[0m\u001b[1;33m\u001b[0m\u001b[0m\n",
      "\u001b[1;32m~\\Anaconda3\\envs\\Research\\lib\\site-packages\\pandas\\core\\indexing.py\u001b[0m in \u001b[0;36m_getitem_axis\u001b[1;34m(self, key, axis)\u001b[0m\n\u001b[0;32m   1867\u001b[0m             \u001b[1;32mreturn\u001b[0m \u001b[0mself\u001b[0m\u001b[1;33m.\u001b[0m\u001b[0m_get_slice_axis\u001b[0m\u001b[1;33m(\u001b[0m\u001b[0mkey\u001b[0m\u001b[1;33m,\u001b[0m \u001b[0maxis\u001b[0m\u001b[1;33m=\u001b[0m\u001b[0maxis\u001b[0m\u001b[1;33m)\u001b[0m\u001b[1;33m\u001b[0m\u001b[1;33m\u001b[0m\u001b[0m\n\u001b[0;32m   1868\u001b[0m         \u001b[1;32melif\u001b[0m \u001b[0mcom\u001b[0m\u001b[1;33m.\u001b[0m\u001b[0mis_bool_indexer\u001b[0m\u001b[1;33m(\u001b[0m\u001b[0mkey\u001b[0m\u001b[1;33m)\u001b[0m\u001b[1;33m:\u001b[0m\u001b[1;33m\u001b[0m\u001b[1;33m\u001b[0m\u001b[0m\n\u001b[1;32m-> 1869\u001b[1;33m             \u001b[1;32mreturn\u001b[0m \u001b[0mself\u001b[0m\u001b[1;33m.\u001b[0m\u001b[0m_getbool_axis\u001b[0m\u001b[1;33m(\u001b[0m\u001b[0mkey\u001b[0m\u001b[1;33m,\u001b[0m \u001b[0maxis\u001b[0m\u001b[1;33m=\u001b[0m\u001b[0maxis\u001b[0m\u001b[1;33m)\u001b[0m\u001b[1;33m\u001b[0m\u001b[1;33m\u001b[0m\u001b[0m\n\u001b[0m\u001b[0;32m   1870\u001b[0m         \u001b[1;32melif\u001b[0m \u001b[0mis_list_like_indexer\u001b[0m\u001b[1;33m(\u001b[0m\u001b[0mkey\u001b[0m\u001b[1;33m)\u001b[0m\u001b[1;33m:\u001b[0m\u001b[1;33m\u001b[0m\u001b[1;33m\u001b[0m\u001b[0m\n\u001b[0;32m   1871\u001b[0m \u001b[1;33m\u001b[0m\u001b[0m\n",
      "\u001b[1;32m~\\Anaconda3\\envs\\Research\\lib\\site-packages\\pandas\\core\\indexing.py\u001b[0m in \u001b[0;36m_getbool_axis\u001b[1;34m(self, key, axis)\u001b[0m\n\u001b[0;32m   1514\u001b[0m         \u001b[0mlabels\u001b[0m \u001b[1;33m=\u001b[0m \u001b[0mself\u001b[0m\u001b[1;33m.\u001b[0m\u001b[0mobj\u001b[0m\u001b[1;33m.\u001b[0m\u001b[0m_get_axis\u001b[0m\u001b[1;33m(\u001b[0m\u001b[0maxis\u001b[0m\u001b[1;33m)\u001b[0m\u001b[1;33m\u001b[0m\u001b[1;33m\u001b[0m\u001b[0m\n\u001b[0;32m   1515\u001b[0m         \u001b[0mkey\u001b[0m \u001b[1;33m=\u001b[0m \u001b[0mcheck_bool_indexer\u001b[0m\u001b[1;33m(\u001b[0m\u001b[0mlabels\u001b[0m\u001b[1;33m,\u001b[0m \u001b[0mkey\u001b[0m\u001b[1;33m)\u001b[0m\u001b[1;33m\u001b[0m\u001b[1;33m\u001b[0m\u001b[0m\n\u001b[1;32m-> 1516\u001b[1;33m         \u001b[0minds\u001b[0m\u001b[1;33m,\u001b[0m \u001b[1;33m=\u001b[0m \u001b[0mkey\u001b[0m\u001b[1;33m.\u001b[0m\u001b[0mnonzero\u001b[0m\u001b[1;33m(\u001b[0m\u001b[1;33m)\u001b[0m\u001b[1;33m\u001b[0m\u001b[1;33m\u001b[0m\u001b[0m\n\u001b[0m\u001b[0;32m   1517\u001b[0m         \u001b[1;32mtry\u001b[0m\u001b[1;33m:\u001b[0m\u001b[1;33m\u001b[0m\u001b[1;33m\u001b[0m\u001b[0m\n\u001b[0;32m   1518\u001b[0m             \u001b[1;32mreturn\u001b[0m \u001b[0mself\u001b[0m\u001b[1;33m.\u001b[0m\u001b[0mobj\u001b[0m\u001b[1;33m.\u001b[0m\u001b[0m_take\u001b[0m\u001b[1;33m(\u001b[0m\u001b[0minds\u001b[0m\u001b[1;33m,\u001b[0m \u001b[0maxis\u001b[0m\u001b[1;33m=\u001b[0m\u001b[0maxis\u001b[0m\u001b[1;33m)\u001b[0m\u001b[1;33m\u001b[0m\u001b[1;33m\u001b[0m\u001b[0m\n",
      "\u001b[1;31mKeyboardInterrupt\u001b[0m: "
     ]
    }
   ],
   "source": [
    "dataf = get_frequently_mutated(\"endometrial\", .25)"
   ]
  },
  {
   "cell_type": "code",
   "execution_count": 55,
   "metadata": {},
   "outputs": [
    {
     "data": {
      "text/html": [
       "<div>\n",
       "<style scoped>\n",
       "    .dataframe tbody tr th:only-of-type {\n",
       "        vertical-align: middle;\n",
       "    }\n",
       "\n",
       "    .dataframe tbody tr th {\n",
       "        vertical-align: top;\n",
       "    }\n",
       "\n",
       "    .dataframe thead th {\n",
       "        text-align: right;\n",
       "    }\n",
       "</style>\n",
       "<table border=\"1\" class=\"dataframe\">\n",
       "  <thead>\n",
       "    <tr style=\"text-align: right;\">\n",
       "      <th></th>\n",
       "      <th>Gene</th>\n",
       "      <th>Mutation</th>\n",
       "      <th>Location</th>\n",
       "    </tr>\n",
       "    <tr>\n",
       "      <th>Sample_ID</th>\n",
       "      <th></th>\n",
       "      <th></th>\n",
       "      <th></th>\n",
       "    </tr>\n",
       "  </thead>\n",
       "  <tbody>\n",
       "    <tr>\n",
       "      <th>S001</th>\n",
       "      <td>PTEN</td>\n",
       "      <td>Missense_Mutation</td>\n",
       "      <td>p.R130Q</td>\n",
       "    </tr>\n",
       "    <tr>\n",
       "      <th>S001</th>\n",
       "      <td>PTEN</td>\n",
       "      <td>Nonsense_Mutation</td>\n",
       "      <td>p.R233*</td>\n",
       "    </tr>\n",
       "    <tr>\n",
       "      <th>S002</th>\n",
       "      <td>PTEN</td>\n",
       "      <td>Missense_Mutation</td>\n",
       "      <td>p.G127R</td>\n",
       "    </tr>\n",
       "    <tr>\n",
       "      <th>S003</th>\n",
       "      <td>PTEN</td>\n",
       "      <td>Nonsense_Mutation</td>\n",
       "      <td>p.W111*</td>\n",
       "    </tr>\n",
       "    <tr>\n",
       "      <th>S005</th>\n",
       "      <td>PTEN</td>\n",
       "      <td>Missense_Mutation</td>\n",
       "      <td>p.R130G</td>\n",
       "    </tr>\n",
       "  </tbody>\n",
       "</table>\n",
       "</div>"
      ],
      "text/plain": [
       "           Gene           Mutation Location\n",
       "Sample_ID                                  \n",
       "S001       PTEN  Missense_Mutation  p.R130Q\n",
       "S001       PTEN  Nonsense_Mutation  p.R233*\n",
       "S002       PTEN  Missense_Mutation  p.G127R\n",
       "S003       PTEN  Nonsense_Mutation  p.W111*\n",
       "S005       PTEN  Missense_Mutation  p.R130G"
      ]
     },
     "execution_count": 55,
     "metadata": {},
     "output_type": "execute_result"
    }
   ],
   "source": [
    "\n",
    "gene_mutated = somatic.loc[somatic['Gene'] == 'PTEN']\n",
    "gene_mutated.head()"
   ]
  },
  {
   "cell_type": "code",
   "execution_count": 47,
   "metadata": {},
   "outputs": [
    {
     "name": "stdout",
     "output_type": "stream",
     "text": [
      "PRAMEF9 did not match any columns in proteomics dataframe. PRAMEF9_proteomics column inserted, but filled with NaN.\n"
     ]
    },
    {
     "data": {
      "text/html": [
       "<div>\n",
       "<style scoped>\n",
       "    .dataframe tbody tr th:only-of-type {\n",
       "        vertical-align: middle;\n",
       "    }\n",
       "\n",
       "    .dataframe tbody tr th {\n",
       "        vertical-align: top;\n",
       "    }\n",
       "\n",
       "    .dataframe thead th {\n",
       "        text-align: right;\n",
       "    }\n",
       "</style>\n",
       "<table border=\"1\" class=\"dataframe\">\n",
       "  <thead>\n",
       "    <tr style=\"text-align: right;\">\n",
       "      <th></th>\n",
       "      <th>PRAMEF9_Mutation</th>\n",
       "      <th>PRAMEF9_Location</th>\n",
       "      <th>PRAMEF9_Mutation_Status</th>\n",
       "      <th>Sample_Status</th>\n",
       "    </tr>\n",
       "    <tr>\n",
       "      <th>Sample_ID</th>\n",
       "      <th></th>\n",
       "      <th></th>\n",
       "      <th></th>\n",
       "      <th></th>\n",
       "    </tr>\n",
       "  </thead>\n",
       "  <tbody>\n",
       "    <tr>\n",
       "      <th>S001</th>\n",
       "      <td>[Missense_Mutation]</td>\n",
       "      <td>[p.L30M]</td>\n",
       "      <td>Single_mutation</td>\n",
       "      <td>Tumor</td>\n",
       "    </tr>\n",
       "    <tr>\n",
       "      <th>S002</th>\n",
       "      <td>[Wildtype_Tumor]</td>\n",
       "      <td>[No_mutation]</td>\n",
       "      <td>Wildtype_Tumor</td>\n",
       "      <td>Tumor</td>\n",
       "    </tr>\n",
       "    <tr>\n",
       "      <th>S003</th>\n",
       "      <td>[Wildtype_Tumor]</td>\n",
       "      <td>[No_mutation]</td>\n",
       "      <td>Wildtype_Tumor</td>\n",
       "      <td>Tumor</td>\n",
       "    </tr>\n",
       "    <tr>\n",
       "      <th>S005</th>\n",
       "      <td>[Wildtype_Tumor]</td>\n",
       "      <td>[No_mutation]</td>\n",
       "      <td>Wildtype_Tumor</td>\n",
       "      <td>Tumor</td>\n",
       "    </tr>\n",
       "    <tr>\n",
       "      <th>S006</th>\n",
       "      <td>[Wildtype_Tumor]</td>\n",
       "      <td>[No_mutation]</td>\n",
       "      <td>Wildtype_Tumor</td>\n",
       "      <td>Tumor</td>\n",
       "    </tr>\n",
       "  </tbody>\n",
       "</table>\n",
       "</div>"
      ],
      "text/plain": [
       "              PRAMEF9_Mutation PRAMEF9_Location PRAMEF9_Mutation_Status  \\\n",
       "Sample_ID                                                                 \n",
       "S001       [Missense_Mutation]         [p.L30M]         Single_mutation   \n",
       "S002          [Wildtype_Tumor]    [No_mutation]          Wildtype_Tumor   \n",
       "S003          [Wildtype_Tumor]    [No_mutation]          Wildtype_Tumor   \n",
       "S005          [Wildtype_Tumor]    [No_mutation]          Wildtype_Tumor   \n",
       "S006          [Wildtype_Tumor]    [No_mutation]          Wildtype_Tumor   \n",
       "\n",
       "          Sample_Status  \n",
       "Sample_ID                \n",
       "S001              Tumor  \n",
       "S002              Tumor  \n",
       "S003              Tumor  \n",
       "S005              Tumor  \n",
       "S006              Tumor  "
      ]
     },
     "execution_count": 47,
     "metadata": {},
     "output_type": "execute_result"
    }
   ],
   "source": [
    "gene = 'PRAMEF9'\n",
    "omics_mutations = c.append_mutations_to_omics(mutation_genes=gene, omics_df=prot, omics_genes=gene).dropna(axis = 1)\n",
    "omics_mutations.head()"
   ]
  },
  {
   "cell_type": "code",
   "execution_count": 16,
   "metadata": {},
   "outputs": [],
   "source": [
    "#find frequently mutated\n",
    "unique_genes = somatic['Gene'].unique()\n",
    "gene_mutated = somatic.loc[somatic['Gene'] == 'PTEN']\n",
    "gene_and_freq_d = {}\n",
    "total_tumor_patients = 97\n",
    "cutoff = .25\n",
    "for gene in unique_genes:\n",
    "    gene_mutated = somatic.loc[somatic['Gene'] == gene].iloc[:, 0]\n",
    "    gene_mutated.drop_duplicates(keep='first',inplace=True)\n",
    "    num_gene_mutated = len(gene_mutated)\n",
    "    percentage = (num_gene_mutated / total_tumor_patients)\n",
    "    if percentage > cutoff:\n",
    "        gene_and_freq_d[gene] = percentage"
   ]
  },
  {
   "cell_type": "code",
   "execution_count": 20,
   "metadata": {},
   "outputs": [
    {
     "data": {
      "text/plain": [
       "<function dict.keys>"
      ]
     },
     "execution_count": 20,
     "metadata": {},
     "output_type": "execute_result"
    }
   ],
   "source": [
    "gene_and_freq_d.keys\n",
    "\n"
   ]
  },
  {
   "cell_type": "code",
   "execution_count": 8,
   "metadata": {},
   "outputs": [
    {
     "data": {
      "text/plain": [
       "Sample_ID\n",
       "S103    TGFB3\n",
       "Name: Gene, dtype: object"
      ]
     },
     "execution_count": 8,
     "metadata": {},
     "output_type": "execute_result"
    }
   ],
   "source": [
    "sorted_d = sorted(gene_and_freq_d.items(), key=operator.itemgetter(1), reverse=True)  \n",
    "    \n",
    "    for i in range(0,len(sorted_d)):\n",
    "        certain_tuple = sorted_d[i]\n",
    "        gene, percent_mutated = certain_tuple\n",
    "        new_d[gene] = percent_mutated\n",
    "        df = pd.DataFrame.fromdict(data=new_d)"
   ]
  },
  {
   "cell_type": "code",
   "execution_count": 10,
   "metadata": {},
   "outputs": [
    {
     "data": {
      "text/plain": [
       "array(['MXRA8', 'GNB1', 'RPL22', ..., 'OR52E2', 'BDNF', 'STUM'],\n",
       "      dtype=object)"
      ]
     },
     "execution_count": 10,
     "metadata": {},
     "output_type": "execute_result"
    }
   ],
   "source": []
  },
  {
   "cell_type": "code",
   "execution_count": null,
   "metadata": {},
   "outputs": [],
   "source": []
  }
 ],
 "metadata": {
  "kernelspec": {
   "display_name": "Python 3",
   "language": "python",
   "name": "python3"
  },
  "language_info": {
   "codemirror_mode": {
    "name": "ipython",
    "version": 3
   },
   "file_extension": ".py",
   "mimetype": "text/x-python",
   "name": "python",
   "nbconvert_exporter": "python",
   "pygments_lexer": "ipython3",
   "version": "3.7.3"
  }
 },
 "nbformat": 4,
 "nbformat_minor": 2
}
