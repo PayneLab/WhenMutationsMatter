{
 "cells": [
  {
   "cell_type": "markdown",
   "metadata": {},
   "source": [
    "# get_frequently_mutated Final "
   ]
  },
  {
   "cell_type": "code",
   "execution_count": 3,
   "metadata": {},
   "outputs": [],
   "source": [
    "def get_frequently_mutated(cancer_type, cutoff=.1):  \n",
    "    \"\"\"take cancer type to import cptac and find the frequently mutated genes in total tumors compared to the cutoff.\n",
    "        \n",
    "        Parameters:\n",
    "        cancer_type (string): type of  cancer \n",
    "        cutoff (float): used as comparison to determine status of gene mutation frequency\n",
    "        \n",
    "        Returns:\n",
    "        freq_mutated_df (pd.DataFrame): DataFrame of frequently mutated genes passing the cutoff\n",
    "            and Total_Mutated (mutated genes / total tumors), percent Truncated, and percent Missence\n",
    "        \n",
    "        There are many types of mutations catagorized into the columns Truncated and Missence. \n",
    "        The Truncated column includes: Frame_Shift_Del, Frame_Shift_Ins, Splice_Site, Nonsense_Mutation, Nonstop_Mutation\n",
    "        The Missence column includes: In_Frame_Del, In_Frame_Ins, Missense_Mutation\n",
    "        These columns count multiple mutations of one gene in the same sample, so percentages in the last two columns may \n",
    "        exceed the Total_Mutated column(which only counts if the gene was mutated once)\"\"\"    \n",
    "    \n",
    "    # import CPTAC and pandas\n",
    "    \n",
    "    import pandas as pd\n",
    "    colon = False\n",
    "    if cancer_type == \"endometrial\" or cancer_type == \"Endometrial\":\n",
    "        import cptac.endometrial as cptac\n",
    "        \n",
    "    elif cancer_type == \"colon\" or cancer_type == \"Colon\":\n",
    "        import cptac.colon as cptac\n",
    "        colon = True\n",
    "        \n",
    "    elif cancer_type == \"ovarian\" or cancer_type == \"Ovarian\":\n",
    "        import cptac.ovarian as cptac\n",
    "    \n",
    "    else:\n",
    "        str_cancer_options = '\\n' + 'Options: endometrial, ovarian, colon'\n",
    "        print(\"Please enter a valid cancer type.\", str_cancer_options)\n",
    "        return 0\n",
    "    \n",
    "    # get data frames\n",
    "    somatic_mutations = cptac.get_mutations()\n",
    "    proteomics = cptac.get_proteomics()\n",
    "    sample_status_map = cptac.get_sample_status_map()\n",
    "    merged_mutations = somatic_mutations.join(sample_status_map, how=\"left\") \n",
    "    \n",
    "    # standardize mutation names \n",
    "    if colon == True:\n",
    "        mutation_equivalents = {'frameshift substitution': 'Frame_Shift_Del' , 'frameshift deletion': 'Frame_Shift_Del', \n",
    "            'frameshift insertion': 'Frame_Shift_Ins', 'stopgain': 'Nonsense_Mutation ', 'stoploss':'Nonstop_Mutation',\n",
    "            'nonsynonymous SNV': 'Missense_Mutation','nonframeshift insertion': 'In_Frame_Ins',\n",
    "            'nonframeshift deletion': 'In_Frame_Del', 'nonframeshift substitution': 'Missense_Mutation'}\n",
    "        merged_mutations = merged_mutations.replace(to_replace = mutation_equivalents)\n",
    "        \n",
    "    # get list of unique genes\n",
    "    unique_genes = somatic_mutations['Gene'].unique()\n",
    "    \n",
    "    # get total tumors/patients\n",
    "    sample_status_series = sample_status_map.value_counts()\n",
    "    total_tumor_patients = sample_status_series[0]\n",
    "        \n",
    "    # find frequently mutated genes and their total mutated fraction. Create lists for frequently mutated genes and fraction.\n",
    "    freq_mut = []\n",
    "    total_fraction_mutated = []\n",
    "    for gene in unique_genes:\n",
    "        gene_mutated = merged_mutations.loc[merged_mutations['Gene'] == gene]\n",
    "        gene_mutated = gene_mutated.index.unique()\n",
    "        num_gene_mutated = len(gene_mutated)\n",
    "        fraction = (num_gene_mutated / total_tumor_patients)\n",
    "        if fraction > cutoff:\n",
    "            freq_mut.append(gene)\n",
    "            total_fraction_mutated.append(fraction)\n",
    "    \n",
    "    # find truncated fraction\n",
    "    truncated = []\n",
    "    for gene in freq_mut:\n",
    "        gene_mutated = merged_mutations.loc[merged_mutations['Gene'] == gene]\n",
    "        truncated_df = gene_mutated.loc[(gene_mutated['Mutation'] != 'In_Frame_Del') & \n",
    "            (gene_mutated['Mutation'] != 'In_Frame_Ins') & (gene_mutated['Mutation'] != 'Missense_Mutation')] \n",
    "        samples_trunc = truncated_df.index.unique()\n",
    "        num_trunc_mut = len(samples_trunc)\n",
    "        fraction_trunc = (num_trunc_mut / total_tumor_patients)\n",
    "        truncated.append(fraction_trunc)\n",
    "\n",
    "    # find missence fraction \n",
    "    missence = []\n",
    "    for gene in freq_mut:\n",
    "        gene_mutated = merged_mutations.loc[merged_mutations['Gene'] == gene]\n",
    "        missence_mutations = gene_mutated.loc[(gene_mutated['Mutation'] == 'In_Frame_Ins') | (gene_mutated['Mutation'] == 'In_Frame_Del') | (gene_mutated['Mutation'] == 'Missense_Mutation')]\n",
    "        samples_miss = missence_mutations.index.unique()\n",
    "        num_miss_mut = len(samples_miss)\n",
    "        fraction_miss = (num_miss_mut / total_tumor_patients)\n",
    "        missence.append(fraction_miss)\n",
    "        \n",
    "    # create dataframe\n",
    "    merged_lists = list(zip(freq_mut, total_fraction_mutated, truncated, missence))\n",
    "    freq_mutated_df = pd.DataFrame(merged_lists, columns =['Gene', 'Fraction_Mutated', 'Truncation', 'Missence'])\n",
    "    freq_mutated_df.name = 'frequently_mutated'\n",
    "                   \n",
    "    return freq_mutated_df"
   ]
  },
  {
   "cell_type": "markdown",
   "metadata": {},
   "source": [
    "Test Endometrial"
   ]
  },
  {
   "cell_type": "code",
   "execution_count": 4,
   "metadata": {},
   "outputs": [],
   "source": [
    "endo_freq_mutated_df = get_frequently_mutated(\"endometrial\")"
   ]
  },
  {
   "cell_type": "code",
   "execution_count": 11,
   "metadata": {},
   "outputs": [],
   "source": [
    "#endo_freq_mutated_df\n",
    "#.loc[endo_freq_mutated_df['Gene'] == 'PTEN']\n"
   ]
  },
  {
   "cell_type": "markdown",
   "metadata": {},
   "source": [
    "Test Colon"
   ]
  },
  {
   "cell_type": "code",
   "execution_count": null,
   "metadata": {},
   "outputs": [
    {
     "name": "stdout",
     "output_type": "stream",
     "text": [
      "You have loaded the cptac colon dataset. To view available dataframes,\n",
      "use cptac.colon.list_data(). To view available functions for accessing\n",
      "and manipulating the dataframes, use cptac.colon.list_api().\n",
      "colon data version: Most recent release\n",
      "\n",
      "Loading cptac colon data:\n",
      "Loading clinical data...\n",
      "Loading miRNA data...\n",
      "Loading mutation data...\n",
      "Loading mutation_binary data...\n",
      "Loading phosphoproteomics_normal data...\n",
      "Loading phosphoproteomics_tumor data...\n",
      "Loading proteomics_normal data...\n",
      "Loading proteomics_tumor data...\n",
      "Loading transcriptomics data...\n"
     ]
    }
   ],
   "source": [
    "colon_freq_mutated_df = get_frequently_mutated(\"colon\")"
   ]
  },
  {
   "cell_type": "code",
   "execution_count": null,
   "metadata": {},
   "outputs": [],
   "source": [
    "colon_freq_mutated_df"
   ]
  },
  {
   "cell_type": "markdown",
   "metadata": {},
   "source": [
    "Test Ovarian"
   ]
  },
  {
   "cell_type": "code",
   "execution_count": null,
   "metadata": {},
   "outputs": [],
   "source": [
    "ovarian_freq_mutated_df = get_frequently_mutated(\"ovarian\", .25)"
   ]
  },
  {
   "cell_type": "code",
   "execution_count": null,
   "metadata": {},
   "outputs": [],
   "source": [
    "ovarian_freq_mutated_df"
   ]
  },
  {
   "cell_type": "code",
   "execution_count": null,
   "metadata": {},
   "outputs": [],
   "source": []
  }
 ],
 "metadata": {
  "kernelspec": {
   "display_name": "Python 3",
   "language": "python",
   "name": "python3"
  },
  "language_info": {
   "codemirror_mode": {
    "name": "ipython",
    "version": 3
   },
   "file_extension": ".py",
   "mimetype": "text/x-python",
   "name": "python",
   "nbconvert_exporter": "python",
   "pygments_lexer": "ipython3",
   "version": "3.7.3"
  }
 },
 "nbformat": 4,
 "nbformat_minor": 2
}
