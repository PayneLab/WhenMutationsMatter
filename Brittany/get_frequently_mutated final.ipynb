{
 "cells": [
  {
   "cell_type": "code",
   "execution_count": 2,
   "metadata": {},
   "outputs": [
    {
     "name": "stdout",
     "output_type": "stream",
     "text": [
      "Welcome to the CPTAC data service package. Available datasets may be\n",
      "viewed using CPTAC.list_data(). In order to access a specific data\n",
      "set, import a CPTAC subfolder using either 'import CPTAC.Dataset' or\n",
      "'from CPTAC import Dataset'.\n",
      "******\n",
      "Version: 0.3.1\n",
      "******\n",
      "You have loaded the CPTAC Endometrial dataset. To view available\n",
      "dataframes, use CPTAC.Endometrial.list_data(). To view available\n",
      "functions for accessing and manipulating the dataframes, use\n",
      "CPTAC.Endometrial.list_api().\n",
      "Endometrial Data Version: 2.1\n",
      "\n",
      "Loading Dictionary...\n",
      "Loading CPTAC Endometrial data:\n",
      "Loading acetylproteomics data...\n",
      "Loading clinical data...\n",
      "Loading CNA data...\n",
      "Loading definitions data...\n",
      "Loading miRNA data...\n",
      "Loading phosphoproteomics_gene data...\n",
      "Loading phosphoproteomics_site data...\n",
      "Loading proteomics data...\n",
      "Loading somatic data...\n",
      "Loading somatic data...\n",
      "Loading transcriptomics_circular data...\n",
      "Loading transcriptomics_linear data...\n",
      "\n",
      " ******PLEASE READ******\n",
      "WARNING: This data is under a publication embargo until July 1, 2019.\n",
      "CPTAC is a community resource project and data are made available\n",
      "rapidly after generation for community research use. The embargo\n",
      "allows exploring and utilizing the data, but the data may not be in a\n",
      "publication until July 1, 2019. Please see\n",
      "https://proteomics.cancer.gov/data-portal/about/data-use-agreement or\n",
      "enter embargo() to open the webpage for more details.\n"
     ]
    }
   ],
   "source": [
    "import pandas as pd\n",
    "import seaborn as sns\n",
    "import matplotlib.pyplot as plt\n",
    "\n",
    "\n",
    "import CPTAC.Endometrial as c"
   ]
  },
  {
   "cell_type": "code",
   "execution_count": 3,
   "metadata": {},
   "outputs": [],
   "source": [
    "def get_frequently_mutated(cancer_type, cutoff=.1):  \n",
    "    \"\"\"take cancer type to import CPTAC and find the frequently mutated genes compared to the cutoff\n",
    "        \n",
    "        Parameters:\n",
    "        cancer_type (string): type of  cancer \n",
    "        cutoff (float): used as comparison to determine status of gene mutation frequency\n",
    "        \n",
    "        Returns:\n",
    "        freq_mutated (pd.DataFrame): DataFrame of frequently mutated genes passing the cutoff\n",
    "            and percent mutated (mutated genes / total tumors)\"\"\"    \n",
    "    \n",
    "    #import CPTAC and pandas\n",
    "    import pandas as pd\n",
    "    if cancer_type == \"endometrial\" or cancer_type == \"Endometrial\":\n",
    "        import CPTAC.Endometrial as CPTAC\n",
    "        \n",
    "    elif cancer_type == \"colon\" or cancer_type == \"Colon\":\n",
    "        import CPTAC.Colon as CPTAC\n",
    "        \n",
    "    elif cancer_type == \"ovarian\" or cancer_type == \"Ovarian\":\n",
    "        import CPTAC.Ovarian as CPTAC\n",
    "    \n",
    "    else:\n",
    "        print(\"Please enter a valid cancer type.\")\n",
    "        \n",
    "    gene_and_freq_d = {}  \n",
    "        \n",
    "    # get data frames\n",
    "    somatic = CPTAC.get_mutations()\n",
    "    proteomics = CPTAC.get_proteomics()\n",
    "    gene = 'PTEN'\n",
    "    omics_mutations = CPTAC.append_mutations_to_omics(mutation_genes=gene, omics_df=proteomics, omics_genes=gene)\n",
    "    gene_mutated = somatic.loc[somatic['Gene'] == gene]\n",
    "    \n",
    "    # unique genes\n",
    "    unique_genes = somatic['Gene'].unique()\n",
    "    \n",
    "    # get total tumor patients\n",
    "    tumors = omics_mutations.loc[omics_mutations['Sample_Status'] == 'Tumor']\n",
    "    total_tumor_patients = len(tumors)\n",
    "        \n",
    "    #find frequently mutated\n",
    "    if gene_mutated.columns[0] == 'Gene':\n",
    "        for gene in unique_genes:\n",
    "            gene_mutated = somatic.loc[somatic['Gene'] == gene].index\n",
    "            num_gene_mutated = len(gene_mutated.unique())\n",
    "            percentage = (num_gene_mutated / total_tumor_patients)\n",
    "            if percentage > cutoff:\n",
    "                gene_and_freq_d[gene] = percentage\n",
    "    \n",
    "    # create dataframe\n",
    "    freq_mutated_df = pd.DataFrame(gene_and_freq_d.items())\n",
    "    freq_mutated_df.columns = ['Gene', 'Percent Mutated']\n",
    "                   \n",
    "    return freq_mutated_df"
   ]
  },
  {
   "cell_type": "code",
   "execution_count": 53,
   "metadata": {},
   "outputs": [],
   "source": [
    "dataf = get_frequently_mutated(\"endometrial\", .25)"
   ]
  },
  {
   "cell_type": "code",
   "execution_count": 54,
   "metadata": {},
   "outputs": [
    {
     "data": {
      "text/html": [
       "<div>\n",
       "<style scoped>\n",
       "    .dataframe tbody tr th:only-of-type {\n",
       "        vertical-align: middle;\n",
       "    }\n",
       "\n",
       "    .dataframe tbody tr th {\n",
       "        vertical-align: top;\n",
       "    }\n",
       "\n",
       "    .dataframe thead th {\n",
       "        text-align: right;\n",
       "    }\n",
       "</style>\n",
       "<table border=\"1\" class=\"dataframe\">\n",
       "  <thead>\n",
       "    <tr style=\"text-align: right;\">\n",
       "      <th></th>\n",
       "      <th>Gene</th>\n",
       "      <th>Percent Mutated</th>\n",
       "    </tr>\n",
       "  </thead>\n",
       "  <tbody>\n",
       "    <tr>\n",
       "      <th>0</th>\n",
       "      <td>ARID1A</td>\n",
       "      <td>0.452632</td>\n",
       "    </tr>\n",
       "    <tr>\n",
       "      <th>1</th>\n",
       "      <td>PIK3CA</td>\n",
       "      <td>0.494737</td>\n",
       "    </tr>\n",
       "    <tr>\n",
       "      <th>2</th>\n",
       "      <td>PTEN</td>\n",
       "      <td>0.789474</td>\n",
       "    </tr>\n",
       "    <tr>\n",
       "      <th>3</th>\n",
       "      <td>CTCF</td>\n",
       "      <td>0.284211</td>\n",
       "    </tr>\n",
       "    <tr>\n",
       "      <th>4</th>\n",
       "      <td>KRAS</td>\n",
       "      <td>0.326316</td>\n",
       "    </tr>\n",
       "    <tr>\n",
       "      <th>5</th>\n",
       "      <td>PIK3R1</td>\n",
       "      <td>0.389474</td>\n",
       "    </tr>\n",
       "    <tr>\n",
       "      <th>6</th>\n",
       "      <td>CTNNB1</td>\n",
       "      <td>0.305263</td>\n",
       "    </tr>\n",
       "  </tbody>\n",
       "</table>\n",
       "</div>"
      ],
      "text/plain": [
       "     Gene  Percent Mutated\n",
       "0  ARID1A         0.452632\n",
       "1  PIK3CA         0.494737\n",
       "2    PTEN         0.789474\n",
       "3    CTCF         0.284211\n",
       "4    KRAS         0.326316\n",
       "5  PIK3R1         0.389474\n",
       "6  CTNNB1         0.305263"
      ]
     },
     "execution_count": 54,
     "metadata": {},
     "output_type": "execute_result"
    }
   ],
   "source": [
    "dataf"
   ]
  },
  {
   "cell_type": "code",
   "execution_count": 4,
   "metadata": {},
   "outputs": [],
   "source": [
    "dataf = get_frequently_mutated(\"colon\", .25)"
   ]
  },
  {
   "cell_type": "code",
   "execution_count": 5,
   "metadata": {},
   "outputs": [
    {
     "data": {
      "text/html": [
       "<div>\n",
       "<style scoped>\n",
       "    .dataframe tbody tr th:only-of-type {\n",
       "        vertical-align: middle;\n",
       "    }\n",
       "\n",
       "    .dataframe tbody tr th {\n",
       "        vertical-align: top;\n",
       "    }\n",
       "\n",
       "    .dataframe thead th {\n",
       "        text-align: right;\n",
       "    }\n",
       "</style>\n",
       "<table border=\"1\" class=\"dataframe\">\n",
       "  <thead>\n",
       "    <tr style=\"text-align: right;\">\n",
       "      <th></th>\n",
       "      <th>Gene</th>\n",
       "      <th>Percent Mutated</th>\n",
       "    </tr>\n",
       "  </thead>\n",
       "  <tbody>\n",
       "    <tr>\n",
       "      <th>0</th>\n",
       "      <td>APC</td>\n",
       "      <td>0.845361</td>\n",
       "    </tr>\n",
       "    <tr>\n",
       "      <th>1</th>\n",
       "      <td>TP53</td>\n",
       "      <td>0.577320</td>\n",
       "    </tr>\n",
       "    <tr>\n",
       "      <th>2</th>\n",
       "      <td>MUC16</td>\n",
       "      <td>0.402062</td>\n",
       "    </tr>\n",
       "    <tr>\n",
       "      <th>3</th>\n",
       "      <td>FAT3</td>\n",
       "      <td>0.288660</td>\n",
       "    </tr>\n",
       "    <tr>\n",
       "      <th>4</th>\n",
       "      <td>SYNE1</td>\n",
       "      <td>0.298969</td>\n",
       "    </tr>\n",
       "    <tr>\n",
       "      <th>5</th>\n",
       "      <td>TTN</td>\n",
       "      <td>0.618557</td>\n",
       "    </tr>\n",
       "    <tr>\n",
       "      <th>6</th>\n",
       "      <td>CSMD3</td>\n",
       "      <td>0.268041</td>\n",
       "    </tr>\n",
       "    <tr>\n",
       "      <th>7</th>\n",
       "      <td>KRAS</td>\n",
       "      <td>0.360825</td>\n",
       "    </tr>\n",
       "    <tr>\n",
       "      <th>8</th>\n",
       "      <td>OBSCN</td>\n",
       "      <td>0.298969</td>\n",
       "    </tr>\n",
       "    <tr>\n",
       "      <th>9</th>\n",
       "      <td>MUC5B</td>\n",
       "      <td>0.278351</td>\n",
       "    </tr>\n",
       "    <tr>\n",
       "      <th>10</th>\n",
       "      <td>ZNF469</td>\n",
       "      <td>0.257732</td>\n",
       "    </tr>\n",
       "    <tr>\n",
       "      <th>11</th>\n",
       "      <td>RYR1</td>\n",
       "      <td>0.257732</td>\n",
       "    </tr>\n",
       "    <tr>\n",
       "      <th>12</th>\n",
       "      <td>ACVR2A</td>\n",
       "      <td>0.257732</td>\n",
       "    </tr>\n",
       "    <tr>\n",
       "      <th>13</th>\n",
       "      <td>FAT4</td>\n",
       "      <td>0.268041</td>\n",
       "    </tr>\n",
       "    <tr>\n",
       "      <th>14</th>\n",
       "      <td>CCDC168</td>\n",
       "      <td>0.298969</td>\n",
       "    </tr>\n",
       "    <tr>\n",
       "      <th>15</th>\n",
       "      <td>DNAH5</td>\n",
       "      <td>0.268041</td>\n",
       "    </tr>\n",
       "  </tbody>\n",
       "</table>\n",
       "</div>"
      ],
      "text/plain": [
       "       Gene  Percent Mutated\n",
       "0       APC         0.845361\n",
       "1      TP53         0.577320\n",
       "2     MUC16         0.402062\n",
       "3      FAT3         0.288660\n",
       "4     SYNE1         0.298969\n",
       "5       TTN         0.618557\n",
       "6     CSMD3         0.268041\n",
       "7      KRAS         0.360825\n",
       "8     OBSCN         0.298969\n",
       "9     MUC5B         0.278351\n",
       "10   ZNF469         0.257732\n",
       "11     RYR1         0.257732\n",
       "12   ACVR2A         0.257732\n",
       "13     FAT4         0.268041\n",
       "14  CCDC168         0.298969\n",
       "15    DNAH5         0.268041"
      ]
     },
     "execution_count": 5,
     "metadata": {},
     "output_type": "execute_result"
    }
   ],
   "source": [
    "dataf"
   ]
  },
  {
   "cell_type": "code",
   "execution_count": 6,
   "metadata": {},
   "outputs": [
    {
     "name": "stdout",
     "output_type": "stream",
     "text": [
      "You have loaded the CPTAC Ovarian dataset. To view available\n",
      "dataframes, use CPTAC.Ovarian.list_data(). To view available functions\n",
      "for accessing and manipulating the dataframes, use\n",
      "CPTAC.Ovarian.list_api().\n",
      "Ovarian Data Version: Most recent release\n",
      "\n",
      "Loading CPTAC Ovarian data:\n",
      "Loading clinical data...\n",
      "Loading cnv data...\n",
      "Loading phosphoproteomics data...\n",
      "Loading proteomics data...\n",
      "Loading somatic_38 data...\n",
      "Loading transcriptomics data...\n",
      "\n",
      " ******PLEASE READ******\n",
      "WARNING: This data is under a publication embargo until June 1, 2019.\n",
      "CPTAC is a community resource project and data are made available\n",
      "rapidly after generation for community research use. The embargo\n",
      "allows exploring and utilizing the data, but the data may not be in a\n",
      "publication until June 1, 2019. Please see\n",
      "https://proteomics.cancer.gov/data-portal/about/data-use-agreement or\n",
      "enter embargo() to open the webpage for more details.\n"
     ]
    }
   ],
   "source": [
    "ovarian_freq_mutated = get_frequently_mutated(\"ovarian\", .25)"
   ]
  },
  {
   "cell_type": "code",
   "execution_count": 7,
   "metadata": {},
   "outputs": [
    {
     "data": {
      "text/html": [
       "<div>\n",
       "<style scoped>\n",
       "    .dataframe tbody tr th:only-of-type {\n",
       "        vertical-align: middle;\n",
       "    }\n",
       "\n",
       "    .dataframe tbody tr th {\n",
       "        vertical-align: top;\n",
       "    }\n",
       "\n",
       "    .dataframe thead th {\n",
       "        text-align: right;\n",
       "    }\n",
       "</style>\n",
       "<table border=\"1\" class=\"dataframe\">\n",
       "  <thead>\n",
       "    <tr style=\"text-align: right;\">\n",
       "      <th></th>\n",
       "      <th>Gene</th>\n",
       "      <th>Percent Mutated</th>\n",
       "    </tr>\n",
       "  </thead>\n",
       "  <tbody>\n",
       "    <tr>\n",
       "      <th>0</th>\n",
       "      <td>TTN</td>\n",
       "      <td>0.373494</td>\n",
       "    </tr>\n",
       "    <tr>\n",
       "      <th>1</th>\n",
       "      <td>TP53</td>\n",
       "      <td>0.927711</td>\n",
       "    </tr>\n",
       "    <tr>\n",
       "      <th>2</th>\n",
       "      <td>MUC4</td>\n",
       "      <td>0.409639</td>\n",
       "    </tr>\n",
       "  </tbody>\n",
       "</table>\n",
       "</div>"
      ],
      "text/plain": [
       "   Gene  Percent Mutated\n",
       "0   TTN         0.373494\n",
       "1  TP53         0.927711\n",
       "2  MUC4         0.409639"
      ]
     },
     "execution_count": 7,
     "metadata": {},
     "output_type": "execute_result"
    }
   ],
   "source": [
    "ovarian_freq_mutated"
   ]
  },
  {
   "cell_type": "code",
   "execution_count": 40,
   "metadata": {},
   "outputs": [
    {
     "name": "stdout",
     "output_type": "stream",
     "text": [
      "num_gene_mutated: 47\n",
      "num_gene_mutated: 75\n"
     ]
    }
   ],
   "source": [
    "#find frequently mutated\n",
    "somatic = c.get_mutations()\n",
    "prot = c.get_proteomics()\n",
    "gene = 'PTEN'\n",
    "omics_mutations = c.append_mutations_to_omics(mutation_genes=gene, omics_df=prot, omics_genes=gene)\n",
    "unique_genes = ['PIK3CA','PTEN']\n",
    "#somatic['Gene'].unique()\n",
    "gene_mutated = somatic.loc[somatic['Gene'] == 'PTEN']\n",
    "gene_and_freq_d = {}\n",
    "tumors = omics_mutations.loc[omics_mutations['Sample_Status'] == 'Tumor']\n",
    "total_tumor_patients = len(tumors)\n",
    "cutoff = .25\n",
    "for gene in unique_genes:\n",
    "    gene_mutated = somatic.loc[somatic['Gene'] == gene].index\n",
    "    num_gene_mutated = len(gene_mutated.unique())\n",
    "    print('num_gene_mutated:', num_gene_mutated)\n",
    "   \n",
    "    percentage = (num_gene_mutated / total_tumor_patients)\n",
    "    if percentage > cutoff:\n",
    "        gene_and_freq_d[gene] = percentage"
   ]
  },
  {
   "cell_type": "code",
   "execution_count": 41,
   "metadata": {},
   "outputs": [
    {
     "name": "stdout",
     "output_type": "stream",
     "text": [
      "percentage for PTEN : 0.7894736842105263\n"
     ]
    },
    {
     "data": {
      "text/plain": [
       "{'PIK3CA': 0.49473684210526314, 'PTEN': 0.7894736842105263}"
      ]
     },
     "execution_count": 41,
     "metadata": {},
     "output_type": "execute_result"
    }
   ],
   "source": [
    "#shows difference between percentage and then dictionary value?\n",
    "\n",
    "print('percentage for',gene, ':',percentage)\n",
    "gene_and_freq_d"
   ]
  },
  {
   "cell_type": "code",
   "execution_count": 35,
   "metadata": {},
   "outputs": [
    {
     "name": "stdout",
     "output_type": "stream",
     "text": [
      "gene_mutated:  47.0 / 95 total_tumor_patients\n",
      "percent: 0.49473684210526314\n"
     ]
    },
    {
     "data": {
      "text/plain": [
       "Index(['S001', 'S003', 'S009', 'S010', 'S012', 'S014', 'S018', 'S021', 'S022',\n",
       "       'S023', 'S024', 'S026', 'S027', 'S028', 'S030', 'S031', 'S032', 'S033',\n",
       "       'S036', 'S038', 'S040', 'S053', 'S055', 'S060', 'S061', 'S063', 'S064',\n",
       "       'S065', 'S066', 'S067', 'S068', 'S070', 'S074', 'S075', 'S077', 'S081',\n",
       "       'S084', 'S086', 'S088', 'S090', 'S092', 'S095', 'S096', 'S097', 'S098',\n",
       "       'S099', 'S103'],\n",
       "      dtype='object', name='Sample_ID')"
      ]
     },
     "execution_count": 35,
     "metadata": {},
     "output_type": "execute_result"
    }
   ],
   "source": [
    "gene = 'PIK3CA'\n",
    "gene_mutated = somatic.loc[somatic['Gene'] == gene].index\n",
    "num_gene_mutated = float(len(gene_mutated.unique()))\n",
    "print('gene_mutated: ', num_gene_mutated, '/', total_tumor_patients, 'total_tumor_patients')\n",
    "percentage = (num_gene_mutated / total_tumor_patients)\n",
    "print('percent:',percentage)\n",
    "gene_mutated.unique()"
   ]
  }
 ],
 "metadata": {
  "kernelspec": {
   "display_name": "Python 3",
   "language": "python",
   "name": "python3"
  },
  "language_info": {
   "codemirror_mode": {
    "name": "ipython",
    "version": 3
   },
   "file_extension": ".py",
   "mimetype": "text/x-python",
   "name": "python",
   "nbconvert_exporter": "python",
   "pygments_lexer": "ipython3",
   "version": "3.7.3"
  }
 },
 "nbformat": 4,
 "nbformat_minor": 2
}
