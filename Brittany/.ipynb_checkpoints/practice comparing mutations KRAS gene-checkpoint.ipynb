{
 "cells": [
  {
   "cell_type": "code",
   "execution_count": 1,
   "metadata": {},
   "outputs": [],
   "source": [
    "import pandas as pd\n",
    "import numpy as np\n",
    "import scipy.stats\n",
    "from scipy.stats import pearsonr\n",
    "import matplotlib.pyplot as plt\n",
    "import seaborn as sns"
   ]
  },
  {
   "cell_type": "code",
   "execution_count": 2,
   "metadata": {},
   "outputs": [
    {
     "name": "stdout",
     "output_type": "stream",
     "text": [
      "Welcome to the CPTAC data service package. Available datasets may be\n",
      "viewed using CPTAC.list_data(). In order to access a specific data\n",
      "set, import a CPTAC subfolder using either 'import CPTAC.Dataset' or\n",
      "'from CPTAC import Dataset'.\n",
      "******\n",
      "Version: 0.2.7\n",
      "******\n",
      "Loading Endometrial CPTAC data:\n",
      "Loading Dictionary...\n",
      "Loading Clinical Data...\n",
      "Loading Acetylation Proteomics Data...\n",
      "Loading Proteomics Data...\n",
      "Loading Transcriptomics Data...\n",
      "Loading CNA Data...\n",
      "Loading Phosphoproteomics Data...\n",
      "Loading Somatic Mutation Data...\n",
      "\n",
      " ******PLEASE READ******\n",
      "WARNING: This data is under a publication embargo until July 1, 2019.\n",
      "CPTAC is a community resource project and data are made available\n",
      "rapidly after generation for community research use. The embargo\n",
      "allows exploring and utilizing the data, but the data may not be in a\n",
      "publication until July 1, 2019. Please see\n",
      "https://proteomics.cancer.gov/data-portal/about/data-use-agreement or\n",
      "enter embargo() to open the webpage for more details.\n"
     ]
    }
   ],
   "source": [
    "import CPTAC.Endometrial as en"
   ]
  },
  {
   "cell_type": "code",
   "execution_count": 3,
   "metadata": {},
   "outputs": [],
   "source": [
    "# get prot and mutations\n",
    "somatic_mutations = en.get_mutations()\n",
    "proteomics = en.get_proteomics()\n",
    "transcriptomics = en.get_transcriptomics()"
   ]
  },
  {
   "cell_type": "code",
   "execution_count": 5,
   "metadata": {},
   "outputs": [
    {
     "data": {
      "text/html": [
       "<div>\n",
       "<style scoped>\n",
       "    .dataframe tbody tr th:only-of-type {\n",
       "        vertical-align: middle;\n",
       "    }\n",
       "\n",
       "    .dataframe tbody tr th {\n",
       "        vertical-align: top;\n",
       "    }\n",
       "\n",
       "    .dataframe thead th {\n",
       "        text-align: right;\n",
       "    }\n",
       "</style>\n",
       "<table border=\"1\" class=\"dataframe\">\n",
       "  <thead>\n",
       "    <tr style=\"text-align: right;\">\n",
       "      <th></th>\n",
       "      <th>proteomics</th>\n",
       "      <th>transcriptomics_linear</th>\n",
       "    </tr>\n",
       "  </thead>\n",
       "  <tbody>\n",
       "    <tr>\n",
       "      <th>S001</th>\n",
       "      <td>-0.0603</td>\n",
       "      <td>11.59</td>\n",
       "    </tr>\n",
       "    <tr>\n",
       "      <th>S002</th>\n",
       "      <td>0.2680</td>\n",
       "      <td>11.55</td>\n",
       "    </tr>\n",
       "    <tr>\n",
       "      <th>S003</th>\n",
       "      <td>0.1040</td>\n",
       "      <td>11.58</td>\n",
       "    </tr>\n",
       "    <tr>\n",
       "      <th>S005</th>\n",
       "      <td>0.0285</td>\n",
       "      <td>11.40</td>\n",
       "    </tr>\n",
       "    <tr>\n",
       "      <th>S006</th>\n",
       "      <td>-0.2560</td>\n",
       "      <td>10.53</td>\n",
       "    </tr>\n",
       "  </tbody>\n",
       "</table>\n",
       "</div>"
      ],
      "text/plain": [
       "      proteomics  transcriptomics_linear\n",
       "S001     -0.0603                   11.59\n",
       "S002      0.2680                   11.55\n",
       "S003      0.1040                   11.58\n",
       "S005      0.0285                   11.40\n",
       "S006     -0.2560                   10.53"
      ]
     },
     "execution_count": 5,
     "metadata": {},
     "output_type": "execute_result"
    }
   ],
   "source": [
    "# declare gene and merge \n",
    "gene = 'KRAS'\n",
    "gene_proteomics = en.compare_mutations(omics_data=proteomics, omics_gene=gene)\n",
    "KRAS_cross = en.compare_gene(df1=proteomics, df2=transcriptomics, gene='KRAS')\n",
    "\n",
    "# separate missense from wildtype\n",
    "wt = gene_proteomics[gene_proteomics['Mutation'] == 'Wildtype_Tumor']\n",
    "missence = gene_proteomics[gene_proteomics['Mutation'] == 'Missense_Mutation']\n",
    "KRAS_cross.head()\n"
   ]
  },
  {
   "cell_type": "code",
   "execution_count": 27,
   "metadata": {},
   "outputs": [
    {
     "name": "stdout",
     "output_type": "stream",
     "text": [
      "check sample size of wildtype_tumor: 64 \n",
      "\n",
      "check sample size of missence_mutation: 31 \n",
      "\n",
      "assumptions are met\n",
      "ttest:  -2.754676120927168 \n",
      " p-val: 0.007067711400539838\n"
     ]
    }
   ],
   "source": [
    "# ttest : H0: m1 = m2, Ha: m1 != m2\n",
    "# check n > 30\n",
    "sample_size1 = len(wt['KRAS'])\n",
    "sample_size2 = len(missence['KRAS'])\n",
    "print('check sample size of wildtype_tumor:', sample_size1, '\\n')\n",
    "print('check sample size of missence_mutation:', sample_size2, '\\n')\n",
    "if (sample_size1 > 30) & (sample_size2 > 30):\n",
    "    print('assumptions are met')\n",
    "    ttest, pval = scipy.stats.ttest_ind(wt['KRAS'], missence['KRAS'])\n",
    "    print('ttest: ', ttest, '\\n','p-val:', pval)\n",
    "else:\n",
    "    print('assumptions are not met')"
   ]
  },
  {
   "cell_type": "code",
   "execution_count": null,
   "metadata": {},
   "outputs": [],
   "source": [
    "# check significance: pval < threshold \n",
    "# 2 samples not 2 tests, threshold is not needed?\n"
   ]
  },
  {
   "cell_type": "code",
   "execution_count": 7,
   "metadata": {},
   "outputs": [
    {
     "data": {
      "image/png": "[encoded data removed]",
      "text/plain": [
       "<Figure size 842.4x595.44 with 1 Axes>"
      ]
     },
     "metadata": {
      "needs_background": "light"
     },
     "output_type": "display_data"
    }
   ],
   "source": [
    "a4_dims = (11.7, 8.27) #dimensions for bigger plot\n",
    "fig, ax = plt.subplots(figsize=a4_dims) #bigger plot displays Somatic Gene Mutation category without overlapping labels\n",
    "somatic_boxplot = sns.boxplot(data=gene_proteomics, x=\"Mutation\",y=gene, ax = ax) #order parameter is used to reorder the mutation categories \n",
    "somatic_boxplot.set_title(\"KRAS gene mutation protein abundance\")\n",
    "somatic_boxplot = sns.stripplot(data=gene_proteomics, x=\"Mutation\", y=gene,jitter=True, color=\".3\")\n",
    "somatic_boxplot.set(xlabel=\"Somatic Gene Mutation\",ylabel=\"Proteomics\")\n",
    "plt.show()"
   ]
  },
  {
   "cell_type": "code",
   "execution_count": null,
   "metadata": {},
   "outputs": [],
   "source": []
  }
 ],
 "metadata": {
  "kernelspec": {
   "display_name": "Python 3",
   "language": "python",
   "name": "python3"
  },
  "language_info": {
   "codemirror_mode": {
    "name": "ipython",
    "version": 3
   },
   "file_extension": ".py",
   "mimetype": "text/x-python",
   "name": "python",
   "nbconvert_exporter": "python",
   "pygments_lexer": "ipython3",
   "version": "3.7.3"
  }
 },
 "nbformat": 4,
 "nbformat_minor": 2
}
