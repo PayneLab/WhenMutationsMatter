{
 "cells": [
  {
   "cell_type": "code",
   "execution_count": 3,
   "metadata": {},
   "outputs": [
    {
     "name": "stdout",
     "output_type": "stream",
     "text": [
      "Welcome to the CPTAC data service package. Available datasets may be\n",
      "viewed using CPTAC.list_data(). In order to access a specific data\n",
      "set, import a CPTAC subfolder using either 'import CPTAC.Dataset' or\n",
      "'from CPTAC import Dataset'.\n",
      "******\n",
      "Version: 0.3.2\n",
      "******\n",
      "You have loaded the CPTAC Endometrial dataset. To view available\n",
      "dataframes, use CPTAC.Endometrial.list_data(). To view available\n",
      "functions for accessing and manipulating the dataframes, use\n",
      "CPTAC.Endometrial.list_api().\n",
      "Endometrial Data Version: 2.1\n",
      "\n",
      "Loading Dictionary...\n",
      "Loading CPTAC Endometrial data:\n",
      "Loading acetylproteomics data...\n",
      "Loading clinical data...\n",
      "Loading CNA data...\n",
      "Loading definitions data...\n",
      "Loading miRNA data...\n",
      "Loading phosphoproteomics_gene data...\n",
      "Loading phosphoproteomics_site data...\n",
      "Loading proteomics data...\n",
      "Loading somatic data...\n",
      "Loading somatic_binary data...\n",
      "Loading transcriptomics_circular data...\n",
      "Loading transcriptomics_linear data...\n",
      "\n",
      " ******PLEASE READ******\n",
      "WARNING: This data is under a publication embargo until July 1, 2019.\n",
      "CPTAC is a community resource project and data are made available\n",
      "rapidly after generation for community research use. The embargo\n",
      "allows exploring and utilizing the data, but the data may not be in a\n",
      "publication until July 1, 2019. Please see\n",
      "https://proteomics.cancer.gov/data-portal/about/data-use-agreement or\n",
      "enter embargo() to open the webpage for more details.\n"
     ]
    }
   ],
   "source": [
    "import pandas as pd\n",
    "import seaborn as sns\n",
    "import matplotlib.pyplot as plt\n",
    "\n",
    "\n",
    "import CPTAC.Endometrial as c"
   ]
  },
  {
   "cell_type": "code",
   "execution_count": 9,
   "metadata": {},
   "outputs": [],
   "source": [
    "somatic_mutation = c.get_mutations()\n",
    "sample_status_map = c.get_sample_status_map()\n",
    "transcriptomics = c.get_transcriptomics()\n"
   ]
  },
  {
   "cell_type": "code",
   "execution_count": 60,
   "metadata": {},
   "outputs": [
    {
     "data": {
      "text/html": [
       "<div>\n",
       "<style scoped>\n",
       "    .dataframe tbody tr th:only-of-type {\n",
       "        vertical-align: middle;\n",
       "    }\n",
       "\n",
       "    .dataframe tbody tr th {\n",
       "        vertical-align: top;\n",
       "    }\n",
       "\n",
       "    .dataframe thead th {\n",
       "        text-align: right;\n",
       "    }\n",
       "</style>\n",
       "<table border=\"1\" class=\"dataframe\">\n",
       "  <thead>\n",
       "    <tr style=\"text-align: right;\">\n",
       "      <th></th>\n",
       "      <th>Gene</th>\n",
       "      <th>Mutation</th>\n",
       "      <th>Location</th>\n",
       "      <th>Sample_Status</th>\n",
       "    </tr>\n",
       "    <tr>\n",
       "      <th>Sample_ID</th>\n",
       "      <th></th>\n",
       "      <th></th>\n",
       "      <th></th>\n",
       "      <th></th>\n",
       "    </tr>\n",
       "  </thead>\n",
       "  <tbody>\n",
       "    <tr>\n",
       "      <th>S001</th>\n",
       "      <td>MXRA8</td>\n",
       "      <td>Frame_Shift_Del</td>\n",
       "      <td>p.R301Gfs*107</td>\n",
       "      <td>Tumor</td>\n",
       "    </tr>\n",
       "    <tr>\n",
       "      <th>S001</th>\n",
       "      <td>GNB1</td>\n",
       "      <td>Missense_Mutation</td>\n",
       "      <td>p.R314C</td>\n",
       "      <td>Tumor</td>\n",
       "    </tr>\n",
       "    <tr>\n",
       "      <th>S001</th>\n",
       "      <td>RPL22</td>\n",
       "      <td>Missense_Mutation</td>\n",
       "      <td>p.V72M</td>\n",
       "      <td>Tumor</td>\n",
       "    </tr>\n",
       "    <tr>\n",
       "      <th>S001</th>\n",
       "      <td>CASZ1</td>\n",
       "      <td>Missense_Mutation</td>\n",
       "      <td>p.R233Q</td>\n",
       "      <td>Tumor</td>\n",
       "    </tr>\n",
       "    <tr>\n",
       "      <th>S001</th>\n",
       "      <td>PRAMEF9</td>\n",
       "      <td>Missense_Mutation</td>\n",
       "      <td>p.L30M</td>\n",
       "      <td>Tumor</td>\n",
       "    </tr>\n",
       "  </tbody>\n",
       "</table>\n",
       "</div>"
      ],
      "text/plain": [
       "              Gene           Mutation       Location Sample_Status\n",
       "Sample_ID                                                         \n",
       "S001         MXRA8    Frame_Shift_Del  p.R301Gfs*107         Tumor\n",
       "S001          GNB1  Missense_Mutation        p.R314C         Tumor\n",
       "S001         RPL22  Missense_Mutation         p.V72M         Tumor\n",
       "S001         CASZ1  Missense_Mutation        p.R233Q         Tumor\n",
       "S001       PRAMEF9  Missense_Mutation         p.L30M         Tumor"
      ]
     },
     "execution_count": 60,
     "metadata": {},
     "output_type": "execute_result"
    }
   ],
   "source": [
    "#merge = transcriptomics.join(somatic_mutation, how = \"left\")\n",
    "merge = somatic_mutation.join(sample_status_map, how=\"left\") \n",
    "merge.head()"
   ]
  },
  {
   "cell_type": "code",
   "execution_count": 80,
   "metadata": {},
   "outputs": [],
   "source": [
    "PTEN = merge.loc[merge['Gene'] == 'PTEN']\n",
    "#len(PTEN.index.unique())\n",
    "total_tumor_patients = 95"
   ]
  },
  {
   "cell_type": "code",
   "execution_count": 86,
   "metadata": {},
   "outputs": [
    {
     "name": "stdout",
     "output_type": "stream",
     "text": [
      "total mut: 126\n",
      "['Nonsense_Mutation' 'Frame_Shift_Ins' 'Frame_Shift_Del' 'Splice_Site']\n",
      "num trunc: 66\n",
      "percent trunc 0.6947368421052632\n"
     ]
    }
   ],
   "source": [
    "maj = ['Frame_Shift_Del', 'Frame_Shift_Ins','Splice_Site','Nonsense_Mutation']\n",
    "p = merge.loc[merge['Gene'] == 'PTEN']\n",
    "print('total mut:', len(p))\n",
    "trunc = p.loc[p['Mutation'] != 'In_Frame_Del']\n",
    "trunc = trunc.loc[trunc['Mutation'] != 'In_Frame_Ins']\n",
    "trunc = trunc.loc[trunc['Mutation'] != 'Missense_Mutation']\n",
    "print(trunc['Mutation'].unique())\n",
    "print('num trunc:', len(trunc))\n",
    "num_gene_mutated = len(trunc)\n",
    "percentage = (num_gene_mutated / total_tumor_patients)\n",
    "print(\"percent trunc\", percentage)"
   ]
  },
  {
   "cell_type": "code",
   "execution_count": 83,
   "metadata": {},
   "outputs": [
    {
     "name": "stdout",
     "output_type": "stream",
     "text": [
      "num miss: 60\n",
      "percent miss 0.631578947368421\n"
     ]
    }
   ],
   "source": [
    "count = 0 \n",
    "m = p.loc[p['Mutation'] == 'In_Frame_Del']\n",
    "count = len(m)\n",
    "m = p.loc[p['Mutation'] == 'In_Frame_Ins']\n",
    "count += len(m)\n",
    "m = p.loc[p['Mutation'] == 'Missense_Mutation']\n",
    "count += len(m)\n",
    "print('num miss:', count)\n",
    "num_gene_mutated = count\n",
    "percentage = (num_gene_mutated / total_tumor_patients)\n",
    "print(\"percent miss\", percentage)"
   ]
  },
  {
   "cell_type": "code",
   "execution_count": null,
   "metadata": {},
   "outputs": [],
   "source": [
    "trunc = p.any()"
   ]
  },
  {
   "cell_type": "code",
   "execution_count": 54,
   "metadata": {},
   "outputs": [],
   "source": [
    "n = p.loc[p['Mutation'] != 'In_Frame_Del']\n",
    "n = p.loc[p['Mutation'] != 'In_Frame_Ins']\n",
    "n = p.loc[p['Mutation'] != 'Missense_Mutation']"
   ]
  },
  {
   "cell_type": "code",
   "execution_count": 56,
   "metadata": {},
   "outputs": [
    {
     "data": {
      "text/plain": [
       "array(['Nonsense_Mutation', 'Frame_Shift_Ins', 'Frame_Shift_Del',\n",
       "       'Splice_Site'], dtype=object)"
      ]
     },
     "execution_count": 56,
     "metadata": {},
     "output_type": "execute_result"
    }
   ],
   "source": [
    "n[\"Mutation\"].unique()"
   ]
  },
  {
   "cell_type": "code",
   "execution_count": null,
   "metadata": {},
   "outputs": [],
   "source": []
  }
 ],
 "metadata": {
  "kernelspec": {
   "display_name": "Python 3",
   "language": "python",
   "name": "python3"
  },
  "language_info": {
   "codemirror_mode": {
    "name": "ipython",
    "version": 3
   },
   "file_extension": ".py",
   "mimetype": "text/x-python",
   "name": "python",
   "nbconvert_exporter": "python",
   "pygments_lexer": "ipython3",
   "version": "3.7.3"
  }
 },
 "nbformat": 4,
 "nbformat_minor": 2
}
