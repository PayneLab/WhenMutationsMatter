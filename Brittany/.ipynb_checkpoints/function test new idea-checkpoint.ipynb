{
 "cells": [
  {
   "cell_type": "code",
   "execution_count": 1,
   "metadata": {},
   "outputs": [
    {
     "name": "stdout",
     "output_type": "stream",
     "text": [
      "Welcome to the CPTAC data service package. Available datasets may be\n",
      "viewed using CPTAC.list_data(). In order to access a specific data\n",
      "set, import a CPTAC subfolder using either 'import CPTAC.Dataset' or\n",
      "'from CPTAC import Dataset'.\n",
      "******\n",
      "Version: 0.3.1\n",
      "******\n",
      "Loading Endometrial CPTAC data:\n",
      "Loading Dictionary...\n",
      "Loading Clinical Data...\n",
      "Loading Acetylation Proteomics Data...\n",
      "Loading Proteomics Data...\n",
      "Loading Transcriptomics Data...\n",
      "Loading CNA Data...\n",
      "Loading Phosphoproteomics Data...\n",
      "Loading Somatic Mutation Data...\n",
      "\n",
      " ******PLEASE READ******\n",
      "WARNING: This data is under a publication embargo until July 1, 2019.\n",
      "CPTAC is a community resource project and data are made available\n",
      "rapidly after generation for community research use. The embargo\n",
      "allows exploring and utilizing the data, but the data may not be in a\n",
      "publication until July 1, 2019. Please see\n",
      "https://proteomics.cancer.gov/data-portal/about/data-use-agreement or\n",
      "enter embargo() to open the webpage for more details.\n"
     ]
    }
   ],
   "source": [
    "import pandas as pd\n",
    "import seaborn as sns\n",
    "import matplotlib.pyplot as plt\n",
    "import operator\n",
    "\n",
    "import CPTAC.Endometrial as en"
   ]
  },
  {
   "cell_type": "code",
   "execution_count": null,
   "metadata": {},
   "outputs": [],
   "source": [
    "def get_frequently_mutated(somatic_df, omics_mutations_df, proteomics, cancer, cutoff=.1):  \n",
    "    unique_genes = somatic_df['Gene'].unique() # get series of all mutated genes\n",
    "    freq_mutated = []\n",
    "    gene_and_freq_d = {}\n",
    "    \n",
    "    # get total tumor patients\n",
    "    tumors = omics_mutations_df.loc[omics_mutations_df['Sample_Status'] == 'Tumor']\n",
    "    total_tumor_patients = len(tumors)\n",
    "    \n",
    "    #find frequently mutated\n",
    "    col_1 = omics_mutations_df.columns[1]\n",
    "    \n",
    "    for gene in unique_genes:\n",
    "        gene_mutated = cancer.append_mutations_to_omics(mutation_genes=gene, omics_df=proteomics, omics_genes=gene)\n",
    "        gene_mutated = gene_mutated.loc[gene_mutated[col_1] != 'Wildtype_Tumor']\n",
    "        num_gene_mutated = len(gene_mutated)\n",
    "        if (num_gene_mutated / total_tumor_patients) > cutoff:\n",
    "            freq_mutated.append(gene)\n",
    "    \"\"\"\n",
    "    # make dictionary and sort into descending order based on num mutations\n",
    "    for gene in freq_mutated:\n",
    "        gene_mutated = somatic.loc[somatic['Gene'] == gene]\n",
    "        num_gene_mutated = len(gene_mutated['Patient_Id'].unique())     \n",
    "        gene_and_freq_d[gene] = num_gene_mutated    \n",
    "        \n",
    "    sorted_d = sorted(gene_and_freq_d.items(), key=operator.itemgetter(1), reverse=True)\n",
    "    \"\"\"              \n",
    "    return freq_mutated"
   ]
  }
 ],
 "metadata": {
  "kernelspec": {
   "display_name": "Python 3",
   "language": "python",
   "name": "python3"
  },
  "language_info": {
   "codemirror_mode": {
    "name": "ipython",
    "version": 3
   },
   "file_extension": ".py",
   "mimetype": "text/x-python",
   "name": "python",
   "nbconvert_exporter": "python",
   "pygments_lexer": "ipython3",
   "version": "3.7.3"
  }
 },
 "nbformat": 4,
 "nbformat_minor": 2
}
