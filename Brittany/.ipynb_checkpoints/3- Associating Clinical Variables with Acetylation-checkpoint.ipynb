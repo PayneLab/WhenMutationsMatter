{
 "cells": [
  {
   "cell_type": "code",
   "execution_count": 1,
   "metadata": {},
   "outputs": [
    {
     "name": "stdout",
     "output_type": "stream",
     "text": [
      "Welcome to the CPTAC data service package. Available datasets may be\n",
      "viewed using CPTAC.list_data(). In order to access a specific data\n",
      "set, import a CPTAC subfolder using either 'import CPTAC.Dataset' or\n",
      "'from CPTAC import Dataset'.\n",
      "******\n",
      "Version: 0.2.7\n",
      "******\n",
      "Loading Endometrial CPTAC data:\n",
      "Loading Dictionary...\n",
      "Loading Clinical Data...\n",
      "Loading Acetylation Proteomics Data...\n",
      "Loading Proteomics Data...\n",
      "Loading Transcriptomics Data...\n",
      "Loading CNA Data...\n",
      "Loading Phosphoproteomics Data...\n",
      "Loading Somatic Mutation Data...\n",
      "\n",
      " ******PLEASE READ******\n",
      "WARNING: This data is under a publication embargo until July 1, 2019.\n",
      "CPTAC is a community resource project and data are made available\n",
      "rapidly after generation for community research use. The embargo\n",
      "allows exploring and utilizing the data, but the data may not be in a\n",
      "publication until July 1, 2019. Please see\n",
      "https://proteomics.cancer.gov/data-portal/about/data-use-agreement or\n",
      "enter embargo() to open the webpage for more details.\n"
     ]
    }
   ],
   "source": [
    "import pandas as pd\n",
    "import numpy as np\n",
    "import scipy.stats\n",
    "import statsmodels.stats.multitest\n",
    "import matplotlib.pyplot as plt\n",
    "import seaborn as sns\n",
    "import CPTAC.Endometrial as en\n",
    "import math"
   ]
  },
  {
   "cell_type": "code",
   "execution_count": 2,
   "metadata": {},
   "outputs": [],
   "source": [
    "#Get acetylation data\n",
    "acetyl = en.get_acetylproteomics()"
   ]
  },
  {
   "cell_type": "code",
   "execution_count": 3,
   "metadata": {},
   "outputs": [
    {
     "data": {
      "text/plain": [
       "['Proteomics_Participant_ID',\n",
       " 'Proteomics_Tumor_Normal',\n",
       " 'Country',\n",
       " 'Histologic_Grade_FIGO',\n",
       " 'Myometrial_invasion_Specify',\n",
       " 'Histologic_type',\n",
       " 'Treatment_naive',\n",
       " 'Tumor_purity',\n",
       " 'Path_Stage_Primary_Tumor-pT',\n",
       " 'Path_Stage_Reg_Lymph_Nodes-pN',\n",
       " 'Clin_Stage_Dist_Mets-cM',\n",
       " 'Path_Stage_Dist_Mets-pM',\n",
       " 'tumor_Stage-Pathological',\n",
       " 'FIGO_stage',\n",
       " 'LVSI',\n",
       " 'BMI',\n",
       " 'Age',\n",
       " 'Diabetes',\n",
       " 'Race',\n",
       " 'Ethnicity',\n",
       " 'Gender',\n",
       " 'Tumor_Site',\n",
       " 'Tumor_Site_Other',\n",
       " 'Tumor_Focality',\n",
       " 'Tumor_Size_cm',\n",
       " 'Num_full_term_pregnancies']"
      ]
     },
     "execution_count": 3,
     "metadata": {},
     "output_type": "execute_result"
    }
   ],
   "source": [
    "#Show a list of clinical attributes that can be tested with acetylation data\n",
    "list(en.get_clinical().columns)"
   ]
  },
  {
   "cell_type": "code",
   "execution_count": 4,
   "metadata": {},
   "outputs": [],
   "source": [
    "#Set desired attribute to variable 'clinical_attribute'\n",
    "clinical_attribute = \"Histologic_type\"\n",
    "clinical = en.get_clinical()"
   ]
  },
  {
   "cell_type": "code",
   "execution_count": 8,
   "metadata": {},
   "outputs": [
    {
     "data": {
      "text/html": [
       "<div>\n",
       "<style scoped>\n",
       "    .dataframe tbody tr th:only-of-type {\n",
       "        vertical-align: middle;\n",
       "    }\n",
       "\n",
       "    .dataframe tbody tr th {\n",
       "        vertical-align: top;\n",
       "    }\n",
       "\n",
       "    .dataframe thead th {\n",
       "        text-align: right;\n",
       "    }\n",
       "</style>\n",
       "<table border=\"1\" class=\"dataframe\">\n",
       "  <thead>\n",
       "    <tr style=\"text-align: right;\">\n",
       "      <th>idx</th>\n",
       "      <th>Histologic_type</th>\n",
       "      <th>A2M-K1168</th>\n",
       "      <th>A2M-K1176</th>\n",
       "      <th>A2M-K135</th>\n",
       "      <th>A2M-K145</th>\n",
       "      <th>A2M-K516</th>\n",
       "      <th>A2M-K664</th>\n",
       "      <th>A2M-K682</th>\n",
       "      <th>AACS-K391</th>\n",
       "      <th>AAGAB-K290</th>\n",
       "      <th>...</th>\n",
       "      <th>ZSCAN31-K215</th>\n",
       "      <th>ZSCAN32-K659</th>\n",
       "      <th>ZW10-K634</th>\n",
       "      <th>ZYX-K24</th>\n",
       "      <th>ZYX-K25</th>\n",
       "      <th>ZYX-K265</th>\n",
       "      <th>ZYX-K272</th>\n",
       "      <th>ZYX-K279</th>\n",
       "      <th>ZYX-K533</th>\n",
       "      <th>ZZZ3-K117</th>\n",
       "    </tr>\n",
       "  </thead>\n",
       "  <tbody>\n",
       "    <tr>\n",
       "      <th>S001</th>\n",
       "      <td>Endometrioid</td>\n",
       "      <td>NaN</td>\n",
       "      <td>1.080</td>\n",
       "      <td>NaN</td>\n",
       "      <td>NaN</td>\n",
       "      <td>NaN</td>\n",
       "      <td>NaN</td>\n",
       "      <td>NaN</td>\n",
       "      <td>NaN</td>\n",
       "      <td>0.461</td>\n",
       "      <td>...</td>\n",
       "      <td>NaN</td>\n",
       "      <td>NaN</td>\n",
       "      <td>NaN</td>\n",
       "      <td>NaN</td>\n",
       "      <td>NaN</td>\n",
       "      <td>NaN</td>\n",
       "      <td>NaN</td>\n",
       "      <td>NaN</td>\n",
       "      <td>NaN</td>\n",
       "      <td>NaN</td>\n",
       "    </tr>\n",
       "    <tr>\n",
       "      <th>S002</th>\n",
       "      <td>Endometrioid</td>\n",
       "      <td>NaN</td>\n",
       "      <td>0.477</td>\n",
       "      <td>NaN</td>\n",
       "      <td>NaN</td>\n",
       "      <td>NaN</td>\n",
       "      <td>NaN</td>\n",
       "      <td>NaN</td>\n",
       "      <td>NaN</td>\n",
       "      <td>1.770</td>\n",
       "      <td>...</td>\n",
       "      <td>-0.104</td>\n",
       "      <td>-0.80300</td>\n",
       "      <td>NaN</td>\n",
       "      <td>-0.988</td>\n",
       "      <td>-0.343</td>\n",
       "      <td>-0.307</td>\n",
       "      <td>NaN</td>\n",
       "      <td>-0.0955</td>\n",
       "      <td>NaN</td>\n",
       "      <td>NaN</td>\n",
       "    </tr>\n",
       "    <tr>\n",
       "      <th>S003</th>\n",
       "      <td>Endometrioid</td>\n",
       "      <td>NaN</td>\n",
       "      <td>NaN</td>\n",
       "      <td>NaN</td>\n",
       "      <td>NaN</td>\n",
       "      <td>NaN</td>\n",
       "      <td>NaN</td>\n",
       "      <td>NaN</td>\n",
       "      <td>NaN</td>\n",
       "      <td>-0.815</td>\n",
       "      <td>...</td>\n",
       "      <td>NaN</td>\n",
       "      <td>NaN</td>\n",
       "      <td>NaN</td>\n",
       "      <td>-0.459</td>\n",
       "      <td>-1.170</td>\n",
       "      <td>NaN</td>\n",
       "      <td>NaN</td>\n",
       "      <td>-0.7050</td>\n",
       "      <td>0.089</td>\n",
       "      <td>NaN</td>\n",
       "    </tr>\n",
       "    <tr>\n",
       "      <th>S005</th>\n",
       "      <td>Endometrioid</td>\n",
       "      <td>NaN</td>\n",
       "      <td>-0.608</td>\n",
       "      <td>NaN</td>\n",
       "      <td>NaN</td>\n",
       "      <td>-0.919</td>\n",
       "      <td>NaN</td>\n",
       "      <td>NaN</td>\n",
       "      <td>NaN</td>\n",
       "      <td>NaN</td>\n",
       "      <td>...</td>\n",
       "      <td>-0.457</td>\n",
       "      <td>-0.00175</td>\n",
       "      <td>-0.33</td>\n",
       "      <td>NaN</td>\n",
       "      <td>-0.537</td>\n",
       "      <td>NaN</td>\n",
       "      <td>NaN</td>\n",
       "      <td>-0.3700</td>\n",
       "      <td>NaN</td>\n",
       "      <td>NaN</td>\n",
       "    </tr>\n",
       "    <tr>\n",
       "      <th>S006</th>\n",
       "      <td>Serous</td>\n",
       "      <td>NaN</td>\n",
       "      <td>1.630</td>\n",
       "      <td>NaN</td>\n",
       "      <td>2.4</td>\n",
       "      <td>NaN</td>\n",
       "      <td>NaN</td>\n",
       "      <td>1.26</td>\n",
       "      <td>NaN</td>\n",
       "      <td>0.205</td>\n",
       "      <td>...</td>\n",
       "      <td>NaN</td>\n",
       "      <td>0.41100</td>\n",
       "      <td>NaN</td>\n",
       "      <td>NaN</td>\n",
       "      <td>-0.358</td>\n",
       "      <td>NaN</td>\n",
       "      <td>NaN</td>\n",
       "      <td>-0.9700</td>\n",
       "      <td>NaN</td>\n",
       "      <td>NaN</td>\n",
       "    </tr>\n",
       "  </tbody>\n",
       "</table>\n",
       "<p>5 rows × 10863 columns</p>\n",
       "</div>"
      ],
      "text/plain": [
       "idx  Histologic_type  A2M-K1168  A2M-K1176  A2M-K135  A2M-K145  A2M-K516  \\\n",
       "S001    Endometrioid        NaN      1.080       NaN       NaN       NaN   \n",
       "S002    Endometrioid        NaN      0.477       NaN       NaN       NaN   \n",
       "S003    Endometrioid        NaN        NaN       NaN       NaN       NaN   \n",
       "S005    Endometrioid        NaN     -0.608       NaN       NaN    -0.919   \n",
       "S006          Serous        NaN      1.630       NaN       2.4       NaN   \n",
       "\n",
       "idx   A2M-K664  A2M-K682  AACS-K391  AAGAB-K290  ...  ZSCAN31-K215  \\\n",
       "S001       NaN       NaN        NaN       0.461  ...           NaN   \n",
       "S002       NaN       NaN        NaN       1.770  ...        -0.104   \n",
       "S003       NaN       NaN        NaN      -0.815  ...           NaN   \n",
       "S005       NaN       NaN        NaN         NaN  ...        -0.457   \n",
       "S006       NaN      1.26        NaN       0.205  ...           NaN   \n",
       "\n",
       "idx   ZSCAN32-K659  ZW10-K634  ZYX-K24  ZYX-K25  ZYX-K265  ZYX-K272  ZYX-K279  \\\n",
       "S001           NaN        NaN      NaN      NaN       NaN       NaN       NaN   \n",
       "S002      -0.80300        NaN   -0.988   -0.343    -0.307       NaN   -0.0955   \n",
       "S003           NaN        NaN   -0.459   -1.170       NaN       NaN   -0.7050   \n",
       "S005      -0.00175      -0.33      NaN   -0.537       NaN       NaN   -0.3700   \n",
       "S006       0.41100        NaN      NaN   -0.358       NaN       NaN   -0.9700   \n",
       "\n",
       "idx   ZYX-K533  ZZZ3-K117  \n",
       "S001       NaN        NaN  \n",
       "S002       NaN        NaN  \n",
       "S003     0.089        NaN  \n",
       "S005       NaN        NaN  \n",
       "S006       NaN        NaN  \n",
       "\n",
       "[5 rows x 10863 columns]"
      ]
     },
     "execution_count": 8,
     "metadata": {},
     "output_type": "execute_result"
    }
   ],
   "source": [
    "#Merge attribute with acetylation dataframe\n",
    "clinical_and_acetylation = en.compare_clinical(omics_data = acetyl, clinical_col = clinical_attribute)\n",
    "clinical_and_acetylation.head()\n",
    "#clinical_and_acetylation.info()"
   ]
  },
  {
   "cell_type": "code",
   "execution_count": 6,
   "metadata": {},
   "outputs": [
    {
     "data": {
      "text/plain": [
       "array(['Endometrioid', 'Serous', nan], dtype=object)"
      ]
     },
     "execution_count": 6,
     "metadata": {},
     "output_type": "execute_result"
    }
   ],
   "source": [
    "#Show possible variations of Histologic_type\n",
    "clinical_and_acetylation[clinical_attribute].unique()"
   ]
  },
  {
   "cell_type": "code",
   "execution_count": 20,
   "metadata": {},
   "outputs": [],
   "source": [
    "#Make dataframes with only endometrioid and only serous data in order to compare \n",
    "endom = clinical_and_acetylation.loc[clinical_and_acetylation[clinical_attribute] == \"Endometrioid\"]\n",
    "serous = clinical_and_acetylation.loc[clinical_and_acetylation[clinical_attribute] == \"Serous\"]\n",
    "#Here is where we set the NaN values to \"Non_Tumor\"\n",
    "clinical_and_acetylation[clinical_attribute] = clinical_and_acetylation[[clinical_attribute]].fillna(value=\"Non_Tumor\")\n",
    "#changed clinical_and_acetylation[[clinical_attribute]] =  to one bracket"
   ]
  },
  {
   "cell_type": "code",
   "execution_count": 21,
   "metadata": {},
   "outputs": [
    {
     "name": "stdout",
     "output_type": "stream",
     "text": [
      "Number of sites with sufficient data:  3936\n",
      "Multiple hypothesis adjusted threshold:  1.2703252032520325e-05\n"
     ]
    }
   ],
   "source": [
    "num_sites_sufficient_data = 0\n",
    "for num in range(1,len(serous.columns)):\n",
    "    site = serous.columns[num]\n",
    "    oneSite = serous[site]\n",
    "    num_datapoints = oneSite.count() #Here we count the number of datapoints that we have at each site\n",
    "    if num_datapoints >= 5:\n",
    "        num_sites_sufficient_data += 1\n",
    "print(\"Number of sites with sufficient data: \", num_sites_sufficient_data)\n",
    "threshold = .05 / num_sites_sufficient_data\n",
    "print(\"Multiple hypothesis adjusted threshold: \", threshold)"
   ]
  },
  {
   "cell_type": "code",
   "execution_count": 22,
   "metadata": {
    "scrolled": true
   },
   "outputs": [
    {
     "name": "stdout",
     "output_type": "stream",
     "text": [
      "Number of sites with statistically significant difference between endometrioid and serous values: 8\n"
     ]
    }
   ],
   "source": [
    "significantTests = []\n",
    "significantSites = []\n",
    "sigSiteCount = 0\n",
    "p_value_index = 1\n",
    "for num in range(1,len(clinical_and_acetylation.columns)):\n",
    "    site = clinical_and_acetylation.columns[num]\n",
    "    ttestRes = scipy.stats.ttest_ind(endom[site], serous[site])#This returns a tuple, with the t-statistic as \n",
    "    #the first value and the p-value as the second(index 1). We are interested in the p-value.\n",
    "    if (ttestRes[p_value_index] <= threshold): #Check if there is a significant enough difference between data points\n",
    "        sigSiteCount += 1\n",
    "        significantTests.append(ttestRes)\n",
    "        significantSites.append(site)\n",
    "print(\"Number of sites with statistically significant difference between endometrioid and serous values: \" + str(sigSiteCount))"
   ]
  },
  {
   "cell_type": "code",
   "execution_count": 18,
   "metadata": {},
   "outputs": [
    {
     "name": "stdout",
     "output_type": "stream",
     "text": [
      "Ttest_indResult(statistic=5.991702127182772, pvalue=3.89570439448459e-08)\n"
     ]
    },
    {
     "data": {
      "text/plain": [
       "<matplotlib.axes._subplots.AxesSubplot at 0x258d4c9a4e0>"
      ]
     },
     "execution_count": 18,
     "metadata": {},
     "output_type": "execute_result"
    },
    {
     "data": {
      "image/png": "[encoded data removed]",
      "text/plain": [
       "<Figure size 432x288 with 1 Axes>"
      ]
     },
     "metadata": {
      "needs_background": "light"
     },
     "output_type": "display_data"
    }
   ],
   "source": [
    "graphingSite = 'FOXA2-K280'\n",
    "print(scipy.stats.ttest_ind(endom[graphingSite], serous[graphingSite]))\n",
    "sns.boxplot(x=clinical_attribute, y=graphingSite, data = clinical_and_acetylation, showfliers = False, order = [\"Non_Tumor\", \"Endometrioid\", \"Serous\"])\n",
    "sns.stripplot(x=clinical_attribute, y=graphingSite, data = clinical_and_acetylation, color = '.3', order = [\"Non_Tumor\", \"Endometrioid\", \"Serous\"])\n",
    "#color = '.3' makes the dots black"
   ]
  },
  {
   "cell_type": "code",
   "execution_count": 19,
   "metadata": {},
   "outputs": [
    {
     "name": "stdout",
     "output_type": "stream",
     "text": [
      "Ttest_indResult(statistic=-4.69713782197463, pvalue=9.090116393624886e-06)\n"
     ]
    },
    {
     "data": {
      "text/plain": [
       "<matplotlib.axes._subplots.AxesSubplot at 0x258cf9822e8>"
      ]
     },
     "execution_count": 19,
     "metadata": {},
     "output_type": "execute_result"
    },
    {
     "data": {
      "image/png": "[encoded data removed]",
      "text/plain": [
       "<Figure size 432x288 with 1 Axes>"
      ]
     },
     "metadata": {
      "needs_background": "light"
     },
     "output_type": "display_data"
    }
   ],
   "source": [
    "graphingSite = 'FUS-K332'\n",
    "print(scipy.stats.ttest_ind(endom[graphingSite], serous[graphingSite]))\n",
    "sns.boxplot(x=clinical_attribute, y=graphingSite, data = clinical_and_acetylation, showfliers = False, order = [\"Non_Tumor\", \"Endometrioid\", \"Serous\"])\n",
    "sns.stripplot(x=clinical_attribute, y=graphingSite, data = clinical_and_acetylation, color = '.3', order = [\"Non_Tumor\", \"Endometrioid\", \"Serous\"])"
   ]
  },
  {
   "cell_type": "code",
   "execution_count": null,
   "metadata": {},
   "outputs": [],
   "source": []
  }
 ],
 "metadata": {
  "kernelspec": {
   "display_name": "Python 3",
   "language": "python",
   "name": "python3"
  },
  "language_info": {
   "codemirror_mode": {
    "name": "ipython",
    "version": 3
   },
   "file_extension": ".py",
   "mimetype": "text/x-python",
   "name": "python",
   "nbconvert_exporter": "python",
   "pygments_lexer": "ipython3",
   "version": "3.7.3"
  }
 },
 "nbformat": 4,
 "nbformat_minor": 2
}
