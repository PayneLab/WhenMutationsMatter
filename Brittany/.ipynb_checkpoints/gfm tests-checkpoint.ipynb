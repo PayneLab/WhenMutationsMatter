{
 "cells": [
  {
   "cell_type": "code",
   "execution_count": 1,
   "metadata": {},
   "outputs": [],
   "source": [
    "import pandas as pd\n",
    "import cptac"
   ]
  },
  {
   "cell_type": "code",
   "execution_count": 2,
   "metadata": {},
   "outputs": [],
   "source": [
    "def get_frequently_mutated(cancer_object, cutoff = 0.1):  \n",
    "    \"\"\"\n",
    "    Takes a cancer object and find the frequently \n",
    "    mutated genes (in the tumor samples) compared to the cutoff.\n",
    "\n",
    "    Parameters:\n",
    "    cancer_object (object): cancer type from cptac module \n",
    "    cutoff (float): used as a comparison to determine the \n",
    "                    status of gene mutation frequency\n",
    "\n",
    "    Returns:\n",
    "    freq_mutated_df (pd.DataFrame): DataFrame of frequently \n",
    "        mutated genes passing the cutoff. Columns contain the \n",
    "        fractions of total unique mutations,missence type \n",
    "        mutations, and truncation type mutations per gene.\n",
    "    \n",
    "    The Missence_Mut column includes: \n",
    "        In_Frame_Del, In_Frame_Ins, Missense_Mutation\n",
    "   \n",
    "    The Truncation_Mut column includes: \n",
    "        Frame_Shift_Del, Frame_Shift_Ins, Splice_Site, \n",
    "        Nonsense_Mutation, Nonstop_Mutation\n",
    "        \n",
    "    These columns count multiple mutations of one gene in the \n",
    "    same sample, so fractions in the last two columns may \n",
    "    exceed the Unique_Samples_Mut column which only counts if \n",
    "    the gene was mutated once per sample.\"\"\"    \n",
    "    \n",
    "    # Get total tumors/patients\n",
    "    omics_and_mutations = cancer_object.join_omics_to_mutations(\n",
    "        mutations_genes = 'TP53', omics_df_name = 'proteomics', omics_genes = 'TP53')\n",
    "    tumors = omics_and_mutations.loc[omics_and_mutations['Sample_Status'] == 'Tumor'] \n",
    "    total_tumor_samples = len(tumors)\n",
    "    \n",
    "    # Get mutations data frame\n",
    "    somatic_mutations = cancer_object.get_mutations() \n",
    "\n",
    "    # Drop silent mutations for Ovarian and RenalCcrcc dataset \n",
    "    if 'Silent' in somatic_mutations['Mutation'].unique():\n",
    "        origin_df = somatic_mutations.loc[somatic_mutations['Mutation'] != 'Silent'].reset_index()\n",
    "    else:\n",
    "        origin_df = somatic_mutations.reset_index() #prepare to count unique samples\n",
    "        \n",
    "    # Create two categories in Mutation column - 'M': Missence, 'T': Truncation\n",
    "    if cancer_object.get_cancer_type() == 'colon':\n",
    "        missence_truncation_groups = {'frameshift substitution': 'T', \n",
    "            'frameshift deletion': 'T', 'frameshift insertion': 'T', \n",
    "            'stopgain': 'T', 'stoploss': 'T', 'nonsynonymous SNV': 'M',\n",
    "            'nonframeshift insertion': 'M','nonframeshift deletion': 'M', \n",
    "            'nonframeshift substitution': 'M'}\n",
    "    else: \n",
    "        missence_truncation_groups = {'In_Frame_Del': 'M', 'In_Frame_Ins': 'M',\n",
    "            'Missense_Mutation': 'M', 'Frame_Shift_Del': 'T','Nonsense_Mutation': 'T', \n",
    "            'Splice_Site': 'T', 'Frame_Shift_Ins': 'T','Nonstop_Mutation':'T'}\n",
    "    mutations_replaced_M_T = origin_df.replace(missence_truncation_groups)\n",
    "    # Check that all mutation names are catagorized\n",
    "    if len(mutations_replaced_M_T['Mutation'].unique()) != 2:\n",
    "        print('Warning: New mutation name not classified. Counts will be affected.')\n",
    "    \n",
    "    # Find frequently mutated genes (total fraction > cutoff)\n",
    "    # Step 1 - group by gene and count unique samples\n",
    "    count_mutations = origin_df.groupby(['Gene']).nunique()\n",
    "    # Step 2 - format\n",
    "    count_mutations = count_mutations.rename(columns={\"Sample_ID\": \"Unique_Samples_Mut\"})\n",
    "    count_mutations = count_mutations.drop(['Gene', 'Mutation','Location'], axis = 1)\n",
    "    # Step 3 - filter using the cutoff and create fraction\n",
    "    fraction_mutated = count_mutations.apply(lambda x: x / total_tumor_samples)\n",
    "    fraction_greater_than_cutoff = fraction_mutated.where(lambda x: x > cutoff) #na used when false\n",
    "    filtered_gene_df = fraction_greater_than_cutoff.dropna()\n",
    "    \n",
    "    # Create and join Missence column (following similar steps as seen above)\n",
    "    miss = mutations_replaced_M_T.loc[mutations_replaced_M_T['Mutation'] == 'M']\n",
    "    count_miss = miss.groupby(['Gene']).nunique()\n",
    "    missence_df = count_miss.rename(columns={\"Sample_ID\": \"Missence_Mut\"})\n",
    "    missence_df = missence_df.drop(['Gene', 'Mutation', 'Location'], axis = 1)\n",
    "    fraction_missence = missence_df.apply(lambda x: x / total_tumor_samples)\n",
    "    freq_mutated_df = filtered_gene_df.join(fraction_missence, how='left').fillna(0)\n",
    "    \n",
    "    # Create and join Truncation column (following similar steps as seen above)\n",
    "    trunc = mutations_replaced_M_T.loc[mutations_replaced_M_T['Mutation'] == 'T']\n",
    "    count_trunc = trunc.groupby(['Gene']).nunique()\n",
    "    truncation_df = count_trunc.rename(columns={\"Sample_ID\": \"Truncation_Mut\"})\n",
    "    truncation_df = truncation_df.drop(['Gene', 'Mutation', 'Location'], axis = 1)\n",
    "    fraction_truncation = truncation_df.apply(lambda x: x / total_tumor_samples)\n",
    "    freq_mutated_df = freq_mutated_df.join(fraction_truncation, how='left').fillna(0)\n",
    "    freq_mutated_df = freq_mutated_df.reset_index() #move genes to their own columns\n",
    "\n",
    "    return freq_mutated_df"
   ]
  },
  {
   "cell_type": "code",
   "execution_count": 10,
   "metadata": {},
   "outputs": [],
   "source": [
    "def check_getter(df, exp_dim, exp_headers, coordinates, values): \n",
    "    \"\"\"Test a dataframe's dimensions and headers, and three test values, then print whether it passed the test.\n",
    "    Parameters\n",
    "    df: the dataframe gotten by the getter we are testing\n",
    "    exp_dim: a tuple containing the expected dimensions of the dataframe, in the format (rows, columns)\n",
    "    exp_headers: if the dataframe has up to 20 columns, all of the headers for the dataframe, in order. If it has more than 20 columns, then a list containing the first ten and last ten headers, in order.\n",
    "    coordinates: a tuple with three elements, each element being a tuple with two elements, the first element being the int index of the row of a test value, and the second element being the int index of the column of a test value\n",
    "    values: a tuple with three elements, each element being the expected value of the test value corresponding to the coordinates at the same index in the coordinates parameter \n",
    "    Returns\n",
    "    bool indicating if the dataframe had the correct data.\n",
    "    \"\"\"\n",
    "    PASS = True\n",
    "\n",
    "    # Check that df is a dataframe, not None or something else.\n",
    "    if not check_returned_is_df(df):\n",
    "        return False # End test, because other tests will be useless.\n",
    "\n",
    "    # Check dimensions\n",
    "    if not check_df_shape(df, exp_dim):\n",
    "        PASS = False\n",
    "\n",
    "    # Check headers\n",
    "    act_headers_all = list(df.columns.values)\n",
    "    if len(df.columns.values) <= 20:\n",
    "        act_headers = act_headers_all\n",
    "    else:\n",
    "        act_headers = act_headers_all[:10] + act_headers_all[-10:]\n",
    "\n",
    "    if len(exp_headers) != len(act_headers):\n",
    "        print(\"Unexpected number of test headers in dataframe. Expected number of headers: {}. You passed {} headers.\\n\".format(len(act_headers), len(exp_headers)))\n",
    "        PASS = False\n",
    "    else:\n",
    "        for i, header in enumerate(exp_headers):\n",
    "            if header != act_headers[i]:\n",
    "                print(\"Dataframe header did not match expected value.\\n\\tExpected: {}\\n\\tActual: {}\\n\".format(header, act_headers[i]))\n",
    "                PASS = False\n",
    "\n",
    "    # Check test values\n",
    "    act_values = [\n",
    "        df.iloc[coordinates[0][0], coordinates[0][1]],\n",
    "        df.iloc[coordinates[1][0], coordinates[1][1]],\n",
    "        df.iloc[coordinates[2][0], coordinates[2][1]]]\n",
    "\n",
    "    for i, value in enumerate(values):\n",
    "        if act_values[i] != value:\n",
    "            print(\"Dataframe value did not match expected value.\\n\\tColumn: {}\\n\\tIndex: {}\\n\\tExpected: {}\\n\\tActual: {}\\n\".format(df.columns.values[coordinates[i][1]], df.index.values[coordinates[i][0]], value, act_values[i]))\n",
    "            PASS = False\n",
    "\n",
    "    # Return whether the dataframe passed the test\n",
    "    return PASS"
   ]
  },
  {
   "cell_type": "code",
   "execution_count": 13,
   "metadata": {},
   "outputs": [
    {
     "name": "stdout",
     "output_type": "stream",
     "text": [
      "                                    \r"
     ]
    }
   ],
   "source": [
    "co = cptac.Colon()"
   ]
  },
  {
   "cell_type": "code",
   "execution_count": 16,
   "metadata": {},
   "outputs": [],
   "source": [
    "df = get_frequently_mutated(co, 0.15)"
   ]
  },
  {
   "cell_type": "code",
   "execution_count": 49,
   "metadata": {},
   "outputs": [
    {
     "data": {
      "text/html": [
       "<div>\n",
       "<style scoped>\n",
       "    .dataframe tbody tr th:only-of-type {\n",
       "        vertical-align: middle;\n",
       "    }\n",
       "\n",
       "    .dataframe tbody tr th {\n",
       "        vertical-align: top;\n",
       "    }\n",
       "\n",
       "    .dataframe thead th {\n",
       "        text-align: right;\n",
       "    }\n",
       "</style>\n",
       "<table border=\"1\" class=\"dataframe\">\n",
       "  <thead>\n",
       "    <tr style=\"text-align: right;\">\n",
       "      <th></th>\n",
       "      <th>Gene</th>\n",
       "      <th>Unique_Samples_Mut</th>\n",
       "      <th>Missence_Mut</th>\n",
       "      <th>Truncation_Mut</th>\n",
       "    </tr>\n",
       "  </thead>\n",
       "  <tbody>\n",
       "    <tr>\n",
       "      <th>102</th>\n",
       "      <td>RYR2</td>\n",
       "      <td>0.216495</td>\n",
       "      <td>0.195876</td>\n",
       "      <td>0.072165</td>\n",
       "    </tr>\n",
       "  </tbody>\n",
       "</table>\n",
       "</div>"
      ],
      "text/plain": [
       "     Gene  Unique_Samples_Mut  Missence_Mut  Truncation_Mut\n",
       "102  RYR2            0.216495      0.195876        0.072165"
      ]
     },
     "execution_count": 49,
     "metadata": {},
     "output_type": "execute_result"
    }
   ],
   "source": [
    "df.loc[df['Gene'] == 'RYR2']"
   ]
  },
  {
   "cell_type": "code",
   "execution_count": 56,
   "metadata": {},
   "outputs": [],
   "source": [
    "import pandas as pd\n",
    "def test_get_frequently_mutated_co():\n",
    "    \"\"\"Test get_frequently_mutated.\"\"\"\n",
    "    #co = cptac.Colon()\n",
    "    print('Running get_frequently_mutated...')\n",
    "\n",
    "    df = get_frequently_mutated(co, 0.15)\n",
    "    name = \"frequently_mutated\"\n",
    "    dimensions = (138, 4)\n",
    "    headers = ['Gene', 'Unique_Samples_Mut', 'Missence_Mut', 'Truncation_Mut']\n",
    "    \n",
    "    # test when there are no missence type mutatations\n",
    "    test_coord_CASP5 = ((15, 1), (15, 2), (15, 3)) #(8, 1)]) # (29, 1), (40, 1), (8, 2), (29, 2), (40, 2))\n",
    "    test_vals_CASP5 = (19/97, 0/97, 19/97) #, 0/97]) #,35/97, 23/97, 19/97, 0/97, 1/97) \n",
    "    \n",
    "    # test when there are no truncation type mutatations\n",
    "    test_coord_KRAS = ((66, 1),(66, 2),(66, 3))\n",
    "    test_vals_KRAS = (35/97, 35/97, 0/97)\n",
    "\n",
    "    test_coord_PIK3CA = ((92, 1),(92, 2),(92, 3))\n",
    "    test_vals_PIK3CA = (24/97, 23/97, 1/97)\n",
    "    \n",
    "    # test when missence and trucation don't add up to equal the fraction mutated (miss and trunc in same sample)\n",
    "    test_coord_RYR2 = ((102, 1),(102, 2),(102, 3))\n",
    "    test_vals_RYR2 = (21/97, 19/97, 7/97)\n",
    "\n",
    "    test_coord_vals = [(test_coord_CASP5, test_vals_CASP5), (test_coord_KRAS, test_vals_KRAS),\n",
    "                      (test_coord_PIK3CA, test_vals_PIK3CA), (test_coord_RYR2, test_vals_RYR2)]\n",
    "\n",
    "    for coord, val in test_coord_vals:\n",
    "        #print('coord', coord, 'val', val)\n",
    "        PASS = check_getter(df, dimensions, headers, coord, val)\n",
    "    \n",
    "    print_test_result(PASS)"
   ]
  },
  {
   "cell_type": "code",
   "execution_count": 57,
   "metadata": {},
   "outputs": [
    {
     "name": "stdout",
     "output_type": "stream",
     "text": [
      "Running get_frequently_mutated...\n",
      "\tPASS\n"
     ]
    }
   ],
   "source": [
    "test_get_frequently_mutated_co()"
   ]
  },
  {
   "cell_type": "code",
   "execution_count": 69,
   "metadata": {},
   "outputs": [],
   "source": [
    "import pandas as pd\n",
    "def test_get_frequently_mutated_ov_default_cutoff():\n",
    "    \"\"\"Test get_frequently_mutated.\"\"\"\n",
    "    ov = cptac.Ovarian()\n",
    "    print('Running get_frequently_mutated...')\n",
    "\n",
    "    df = get_frequently_mutated(ov)\n",
    "    name = \"frequently_mutated\"\n",
    "    dimensions = (16, 4)\n",
    "    headers = ['Gene', 'Unique_Samples_Mut', 'Missence_Mut', 'Truncation_Mut']\n",
    "    \n",
    "    # test genes names\n",
    "    test_coord_names = ((15, 0), (13, 0), (2, 0))\n",
    "    test_vals_names = ('WDFY4', 'TP53', 'MT-CO1')\n",
    "    \n",
    "    #test when missence and trucation don't add up to equal the fraction mutated (miss and trunc in same sample)\n",
    "    test_coord_WDFY4 = ((15, 1), (15, 2), (15, 3)) \n",
    "    test_vals_WDFY4 = (10/83, 8/83, 3/83) \n",
    "    \n",
    "    # test highest count\n",
    "    test_coord_TP53 = ((13, 1),(13, 2),(13, 3))\n",
    "    test_vals_TP53 = (77/83, 50/83, 27/83)\n",
    "    \n",
    "    # test when there are no truncation mutations\n",
    "    test_coord_MTCO1 = ((2, 1),(2, 2),(2, 3))\n",
    "    test_vals_MTCO1 = (10/83, 10/83, 0/83)\n",
    "\n",
    "    test_coord_vals = [(test_coord_names, test_vals_names), (test_coord_WDFY4, test_vals_WDFY4),\n",
    "                      (test_coord_TP53, test_vals_TP53), (test_coord_MTCO1, test_vals_MTCO1)]\n",
    "\n",
    "    for coord, val in test_coord_vals:\n",
    "        #print('coord', coord, 'val', val)\n",
    "        PASS = check_getter(df, dimensions, headers, coord, val)\n",
    "    \n",
    "    print_test_result(PASS)"
   ]
  },
  {
   "cell_type": "code",
   "execution_count": 70,
   "metadata": {},
   "outputs": [
    {
     "name": "stdout",
     "output_type": "stream",
     "text": [
      "Running get_frequently_mutated...\n",
      "\tPASS\n"
     ]
    }
   ],
   "source": [
    "test_get_frequently_mutated_ov_default_cutoff()"
   ]
  },
  {
   "cell_type": "code",
   "execution_count": 6,
   "metadata": {},
   "outputs": [],
   "source": [
    "import pandas as pd\n",
    "def test_get_frequently_mutated_en_default_cutoff():\n",
    "    \"\"\"Test get_frequently_mutated.\"\"\"\n",
    "\n",
    "    print('Running get_frequently_mutated...')\n",
    "\n",
    "    df = get_frequently_mutated('endometrial')\n",
    "    name = \"frequently_mutated\"\n",
    "    dimensions = (232, 4)\n",
    "    headers = ['Gene', 'Fraction_Mutated', 'Truncation', 'Missence']\n",
    "    \n",
    "    # test genes: ARID1A, DICER1, FAT3\n",
    "    # first three = total_mutation, next three = truncation, etc.\n",
    "    test_coord = ((2, 1), (129, 1), (220, 1), (2, 2), (129, 2), (220, 2), (2, 3), (129, 3), (220, 3))\n",
    "    test_vals = (43/95, 10/95, 12/95, 38/95, 1/95, 6/95, 13/95, 10/95, 9/95) \n",
    "    \"\"\"\n",
    "    test_coord_trunc = ((2,2),(129,2),(220,2))\n",
    "    test_vals_trunc = (38/95, 1/95,6/95)\n",
    "    \n",
    "    test_coord_miss = ((2,3),(129,3),(220,3))\n",
    "    test_vals_miss = (13/95, 10/95, 9/95)\n",
    "    \"\"\"\n",
    "    \n",
    "    PASS = check_getter(df, name, dimensions, headers, test_coord, test_vals)\n",
    "    print_test_result(PASS)"
   ]
  },
  {
   "cell_type": "code",
   "execution_count": 7,
   "metadata": {},
   "outputs": [
    {
     "name": "stdout",
     "output_type": "stream",
     "text": [
      "Running get_frequently_mutated...\n",
      "Welcome to the cptac data service package. Available datasets may be\n",
      "viewed using cptac.list_data(). In order to access a specific data\n",
      "set, import a cptac subfolder using either 'import cptac.dataset' or\n",
      "'from cptac import dataset'.\n",
      "******\n",
      "Version: 0.4.1\n",
      "******\n",
      "You have loaded the cptac endometrial dataset. To view available\n",
      "dataframes, use cptac.endometrial.list_data(). To view available\n",
      "functions for accessing and manipulating the dataframes, use\n",
      "cptac.endometrial.list_api().\n",
      "endometrial data version: 2.1\n",
      "\n",
      "Loading Dictionary...\n",
      "Loading cptac endometrial data:\n",
      "Loading acetylproteomics data...\n",
      "Loading clinical data...\n",
      "Loading CNA data...\n",
      "Loading miRNA data...\n",
      "Loading phosphoproteomics_gene data...\n",
      "Loading phosphoproteomics_site data...\n",
      "Loading proteomics data...\n",
      "Loading somatic data...\n",
      "Loading somatic_binary data...\n",
      "Loading transcriptomics_circular data...\n",
      "Loading transcriptomics_linear data...\n",
      "\n",
      " ******PLEASE READ******\n",
      "WARNING: This data is under a publication embargo until July 1, 2019.\n",
      "CPTAC is a community resource project and data are made available\n",
      "rapidly after generation for community research use. The embargo\n",
      "allows exploring and utilizing the data, but the data may not be in a\n",
      "publication until July 1, 2019. Please see\n",
      "https://proteomics.cancer.gov/data-portal/about/data-use-agreement or\n",
      "enter embargo() to open the webpage for more details.\n",
      "\tPASS\n"
     ]
    }
   ],
   "source": [
    "test_get_frequently_mutated_en_default_cutoff()"
   ]
  },
  {
   "cell_type": "code",
   "execution_count": 33,
   "metadata": {},
   "outputs": [],
   "source": [
    "import pandas as pd\n",
    "def test_get_frequently_mutated_en_higher_cutoff():\n",
    "    \"\"\"Test get_frequently_mutated.\"\"\"\n",
    "\n",
    "    print('Running get_frequently_mutated...')\n",
    "\n",
    "    df = get_frequently_mutated('endometrial', .25)\n",
    "    name = \"frequently_mutated\"\n",
    "    dimensions = (7,4)\n",
    "    headers = ['Gene', 'Fraction_Mutated', 'Truncation', 'Missence']\n",
    "    test_coord = ((0,1), (2, 1), (3,1))\n",
    "    test_vals = (43/95, 75/95, 27/95)\n",
    "\n",
    "    PASS = check_getter(df, name, dimensions, headers, test_coord, test_vals)\n",
    "    print_test_result(PASS)"
   ]
  },
  {
   "cell_type": "code",
   "execution_count": 32,
   "metadata": {},
   "outputs": [
    {
     "name": "stdout",
     "output_type": "stream",
     "text": [
      "Running get_frequently_mutated...\n",
      "Dataframe dimensions did not match expected values.\n",
      "\tExpected: (7, 4)\n",
      "\tActual: (232, 4)\n",
      "\n"
     ]
    },
    {
     "ename": "IndexError",
     "evalue": "tuple index out of range",
     "output_type": "error",
     "traceback": [
      "\u001b[1;31m---------------------------------------------------------------------------\u001b[0m",
      "\u001b[1;31mIndexError\u001b[0m                                Traceback (most recent call last)",
      "\u001b[1;32m<ipython-input-32-efd0bd5edb83>\u001b[0m in \u001b[0;36m<module>\u001b[1;34m\u001b[0m\n\u001b[1;32m----> 1\u001b[1;33m \u001b[0mtest_get_frequently_mutated_en\u001b[0m\u001b[1;33m(\u001b[0m\u001b[1;33m)\u001b[0m\u001b[1;33m\u001b[0m\u001b[1;33m\u001b[0m\u001b[0m\n\u001b[0m",
      "\u001b[1;32m<ipython-input-9-5151dd2fa655>\u001b[0m in \u001b[0;36mtest_get_frequently_mutated_en\u001b[1;34m()\u001b[0m\n\u001b[0;32m     12\u001b[0m     \u001b[0mtest_vals\u001b[0m \u001b[1;33m=\u001b[0m \u001b[1;33m(\u001b[0m\u001b[1;36m43\u001b[0m\u001b[1;33m/\u001b[0m\u001b[1;36m95\u001b[0m\u001b[1;33m,\u001b[0m \u001b[1;36m75\u001b[0m\u001b[1;33m/\u001b[0m\u001b[1;36m95\u001b[0m\u001b[1;33m,\u001b[0m \u001b[1;36m27\u001b[0m\u001b[1;33m/\u001b[0m\u001b[1;36m95\u001b[0m\u001b[1;33m)\u001b[0m\u001b[1;33m\u001b[0m\u001b[1;33m\u001b[0m\u001b[0m\n\u001b[0;32m     13\u001b[0m \u001b[1;33m\u001b[0m\u001b[0m\n\u001b[1;32m---> 14\u001b[1;33m     \u001b[0mPASS\u001b[0m \u001b[1;33m=\u001b[0m \u001b[0mcheck_getter\u001b[0m\u001b[1;33m(\u001b[0m\u001b[0mdf\u001b[0m\u001b[1;33m,\u001b[0m \u001b[0mname\u001b[0m\u001b[1;33m,\u001b[0m \u001b[0mdimensions\u001b[0m\u001b[1;33m,\u001b[0m \u001b[0mheaders\u001b[0m\u001b[1;33m,\u001b[0m \u001b[0mtest_coord\u001b[0m\u001b[1;33m,\u001b[0m \u001b[0mtest_vals\u001b[0m\u001b[1;33m)\u001b[0m\u001b[1;33m\u001b[0m\u001b[1;33m\u001b[0m\u001b[0m\n\u001b[0m\u001b[0;32m     15\u001b[0m     \u001b[0mprint_test_result\u001b[0m\u001b[1;33m(\u001b[0m\u001b[0mPASS\u001b[0m\u001b[1;33m)\u001b[0m\u001b[1;33m\u001b[0m\u001b[1;33m\u001b[0m\u001b[0m\n",
      "\u001b[1;32m<ipython-input-26-e2f2ad404fcc>\u001b[0m in \u001b[0;36mcheck_getter\u001b[1;34m(df, exp_name, exp_dim, exp_headers, coordinates, values)\u001b[0m\n\u001b[0;32m    105\u001b[0m         \u001b[0mdf\u001b[0m\u001b[1;33m.\u001b[0m\u001b[0miloc\u001b[0m\u001b[1;33m[\u001b[0m\u001b[0mcoordinates\u001b[0m\u001b[1;33m[\u001b[0m\u001b[1;36m1\u001b[0m\u001b[1;33m]\u001b[0m\u001b[1;33m[\u001b[0m\u001b[1;36m0\u001b[0m\u001b[1;33m]\u001b[0m\u001b[1;33m,\u001b[0m \u001b[0mcoordinates\u001b[0m\u001b[1;33m[\u001b[0m\u001b[1;36m1\u001b[0m\u001b[1;33m]\u001b[0m\u001b[1;33m[\u001b[0m\u001b[1;36m1\u001b[0m\u001b[1;33m]\u001b[0m\u001b[1;33m]\u001b[0m\u001b[1;33m,\u001b[0m\u001b[1;33m\u001b[0m\u001b[1;33m\u001b[0m\u001b[0m\n\u001b[0;32m    106\u001b[0m         \u001b[0mdf\u001b[0m\u001b[1;33m.\u001b[0m\u001b[0miloc\u001b[0m\u001b[1;33m[\u001b[0m\u001b[0mcoordinates\u001b[0m\u001b[1;33m[\u001b[0m\u001b[1;36m2\u001b[0m\u001b[1;33m]\u001b[0m\u001b[1;33m[\u001b[0m\u001b[1;36m0\u001b[0m\u001b[1;33m]\u001b[0m\u001b[1;33m,\u001b[0m \u001b[0mcoordinates\u001b[0m\u001b[1;33m[\u001b[0m\u001b[1;36m2\u001b[0m\u001b[1;33m]\u001b[0m\u001b[1;33m[\u001b[0m\u001b[1;36m1\u001b[0m\u001b[1;33m]\u001b[0m\u001b[1;33m]\u001b[0m\u001b[1;33m,\u001b[0m\u001b[1;33m\u001b[0m\u001b[1;33m\u001b[0m\u001b[0m\n\u001b[1;32m--> 107\u001b[1;33m         \u001b[0mdf\u001b[0m\u001b[1;33m.\u001b[0m\u001b[0miloc\u001b[0m\u001b[1;33m[\u001b[0m\u001b[0mcoordinates\u001b[0m\u001b[1;33m[\u001b[0m\u001b[1;36m3\u001b[0m\u001b[1;33m]\u001b[0m\u001b[1;33m[\u001b[0m\u001b[1;36m0\u001b[0m\u001b[1;33m]\u001b[0m\u001b[1;33m,\u001b[0m \u001b[0mcoordinates\u001b[0m\u001b[1;33m[\u001b[0m\u001b[1;36m3\u001b[0m\u001b[1;33m]\u001b[0m\u001b[1;33m[\u001b[0m\u001b[1;36m1\u001b[0m\u001b[1;33m]\u001b[0m\u001b[1;33m]\u001b[0m\u001b[1;33m,\u001b[0m\u001b[1;33m\u001b[0m\u001b[1;33m\u001b[0m\u001b[0m\n\u001b[0m\u001b[0;32m    108\u001b[0m         \u001b[0mdf\u001b[0m\u001b[1;33m.\u001b[0m\u001b[0miloc\u001b[0m\u001b[1;33m[\u001b[0m\u001b[0mcoordinates\u001b[0m\u001b[1;33m[\u001b[0m\u001b[1;36m4\u001b[0m\u001b[1;33m]\u001b[0m\u001b[1;33m[\u001b[0m\u001b[1;36m0\u001b[0m\u001b[1;33m]\u001b[0m\u001b[1;33m,\u001b[0m \u001b[0mcoordinates\u001b[0m\u001b[1;33m[\u001b[0m\u001b[1;36m4\u001b[0m\u001b[1;33m]\u001b[0m\u001b[1;33m[\u001b[0m\u001b[1;36m1\u001b[0m\u001b[1;33m]\u001b[0m\u001b[1;33m]\u001b[0m\u001b[1;33m,\u001b[0m\u001b[1;33m\u001b[0m\u001b[1;33m\u001b[0m\u001b[0m\n\u001b[0;32m    109\u001b[0m         \u001b[0mdf\u001b[0m\u001b[1;33m.\u001b[0m\u001b[0miloc\u001b[0m\u001b[1;33m[\u001b[0m\u001b[0mcoordinates\u001b[0m\u001b[1;33m[\u001b[0m\u001b[1;36m5\u001b[0m\u001b[1;33m]\u001b[0m\u001b[1;33m[\u001b[0m\u001b[1;36m0\u001b[0m\u001b[1;33m]\u001b[0m\u001b[1;33m,\u001b[0m \u001b[0mcoordinates\u001b[0m\u001b[1;33m[\u001b[0m\u001b[1;36m5\u001b[0m\u001b[1;33m]\u001b[0m\u001b[1;33m[\u001b[0m\u001b[1;36m1\u001b[0m\u001b[1;33m]\u001b[0m\u001b[1;33m]\u001b[0m\u001b[1;33m,\u001b[0m\u001b[1;33m\u001b[0m\u001b[1;33m\u001b[0m\u001b[0m\n",
      "\u001b[1;31mIndexError\u001b[0m: tuple index out of range"
     ]
    }
   ],
   "source": [
    "test_get_frequently_mutated_en()"
   ]
  },
  {
   "cell_type": "code",
   "execution_count": null,
   "metadata": {},
   "outputs": [],
   "source": []
  }
 ],
 "metadata": {
  "kernelspec": {
   "display_name": "Python 3",
   "language": "python",
   "name": "python3"
  },
  "language_info": {
   "codemirror_mode": {
    "name": "ipython",
    "version": 3
   },
   "file_extension": ".py",
   "mimetype": "text/x-python",
   "name": "python",
   "nbconvert_exporter": "python",
   "pygments_lexer": "ipython3",
   "version": "3.7.3"
  }
 },
 "nbformat": 4,
 "nbformat_minor": 2
}
