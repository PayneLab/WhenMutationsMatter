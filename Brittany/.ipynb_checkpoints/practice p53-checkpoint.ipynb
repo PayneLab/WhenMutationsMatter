{
 "cells": [
  {
   "cell_type": "code",
   "execution_count": 1,
   "metadata": {},
   "outputs": [],
   "source": [
    "import pandas as pd\n",
    "import numpy as np\n",
    "import scipy.stats\n",
    "from scipy.stats import pearsonr\n",
    "import matplotlib.pyplot as plt\n",
    "import seaborn as sns"
   ]
  },
  {
   "cell_type": "code",
   "execution_count": 2,
   "metadata": {
    "scrolled": true
   },
   "outputs": [
    {
     "name": "stdout",
     "output_type": "stream",
     "text": [
      "Welcome to the CPTAC data service package. Available datasets may be\n",
      "viewed using CPTAC.list_data(). In order to access a specific data\n",
      "set, import a CPTAC subfolder using either 'import CPTAC.Dataset' or\n",
      "'from CPTAC import Dataset'.\n",
      "******\n",
      "Version: 0.2.7\n",
      "******\n",
      "Loading Endometrial CPTAC data:\n",
      "Loading Dictionary...\n",
      "Loading Clinical Data...\n",
      "Loading Acetylation Proteomics Data...\n",
      "Loading Proteomics Data...\n",
      "Loading Transcriptomics Data...\n",
      "Loading CNA Data...\n",
      "Loading Phosphoproteomics Data...\n",
      "Loading Somatic Mutation Data...\n",
      "\n",
      " ******PLEASE READ******\n",
      "WARNING: This data is under a publication embargo until July 1, 2019.\n",
      "CPTAC is a community resource project and data are made available\n",
      "rapidly after generation for community research use. The embargo\n",
      "allows exploring and utilizing the data, but the data may not be in a\n",
      "publication until July 1, 2019. Please see\n",
      "https://proteomics.cancer.gov/data-portal/about/data-use-agreement or\n",
      "enter embargo() to open the webpage for more details.\n"
     ]
    }
   ],
   "source": [
    "import CPTAC.Endometrial as en\n",
    "#en.list_data()"
   ]
  },
  {
   "cell_type": "code",
   "execution_count": 3,
   "metadata": {},
   "outputs": [],
   "source": [
    "# does p53 sig differ in tumor stages\n",
    "proteomics = en.get_proteomics()\n",
    "clinical = en.get_clinical()"
   ]
  },
  {
   "cell_type": "code",
   "execution_count": 4,
   "metadata": {},
   "outputs": [],
   "source": [
    "#clinical.columns.tolist()"
   ]
  },
  {
   "cell_type": "code",
   "execution_count": 5,
   "metadata": {},
   "outputs": [],
   "source": [
    "#data frame of stages\n",
    "stage = 'tumor_Stage-Pathological'\n",
    "stage_df = clinical[['tumor_Stage-Pathological']]\n"
   ]
  },
  {
   "cell_type": "code",
   "execution_count": 6,
   "metadata": {},
   "outputs": [
    {
     "data": {
      "text/html": [
       "<div>\n",
       "<style scoped>\n",
       "    .dataframe tbody tr th:only-of-type {\n",
       "        vertical-align: middle;\n",
       "    }\n",
       "\n",
       "    .dataframe tbody tr th {\n",
       "        vertical-align: top;\n",
       "    }\n",
       "\n",
       "    .dataframe thead th {\n",
       "        text-align: right;\n",
       "    }\n",
       "</style>\n",
       "<table border=\"1\" class=\"dataframe\">\n",
       "  <thead>\n",
       "    <tr style=\"text-align: right;\">\n",
       "      <th></th>\n",
       "      <th>tumor_Stage-Pathological</th>\n",
       "    </tr>\n",
       "    <tr>\n",
       "      <th>idx</th>\n",
       "      <th></th>\n",
       "    </tr>\n",
       "  </thead>\n",
       "  <tbody>\n",
       "    <tr>\n",
       "      <th>S001</th>\n",
       "      <td>Stage I</td>\n",
       "    </tr>\n",
       "    <tr>\n",
       "      <th>S002</th>\n",
       "      <td>Stage IV</td>\n",
       "    </tr>\n",
       "    <tr>\n",
       "      <th>S003</th>\n",
       "      <td>Stage I</td>\n",
       "    </tr>\n",
       "    <tr>\n",
       "      <th>S005</th>\n",
       "      <td>Stage I</td>\n",
       "    </tr>\n",
       "    <tr>\n",
       "      <th>S006</th>\n",
       "      <td>Stage I</td>\n",
       "    </tr>\n",
       "  </tbody>\n",
       "</table>\n",
       "</div>"
      ],
      "text/plain": [
       "     tumor_Stage-Pathological\n",
       "idx                          \n",
       "S001                  Stage I\n",
       "S002                 Stage IV\n",
       "S003                  Stage I\n",
       "S005                  Stage I\n",
       "S006                  Stage I"
      ]
     },
     "execution_count": 6,
     "metadata": {},
     "output_type": "execute_result"
    }
   ],
   "source": [
    "stage_df.head()"
   ]
  },
  {
   "cell_type": "code",
   "execution_count": 7,
   "metadata": {},
   "outputs": [],
   "source": [
    "#series bool\n",
    "stage_four = stage_df['tumor_Stage-Pathological'] == \"Stage IV\"\n",
    "stage_one = stage_df['tumor_Stage-Pathological'] == \"Stage I\"\n"
   ]
  },
  {
   "cell_type": "code",
   "execution_count": 8,
   "metadata": {},
   "outputs": [
    {
     "data": {
      "text/plain": [
       "idx\n",
       "S001     True\n",
       "S002    False\n",
       "S003     True\n",
       "S005     True\n",
       "S006     True\n",
       "Name: tumor_Stage-Pathological, dtype: bool"
      ]
     },
     "execution_count": 8,
     "metadata": {},
     "output_type": "execute_result"
    }
   ],
   "source": [
    "stage_one.head()"
   ]
  },
  {
   "cell_type": "code",
   "execution_count": 9,
   "metadata": {},
   "outputs": [],
   "source": [
    "#df of clinical stage 4 patients\n",
    "stage1df = clinical[stage_four == False]\n",
    "stage4df = clinical[stage_four]"
   ]
  },
  {
   "cell_type": "code",
   "execution_count": 10,
   "metadata": {},
   "outputs": [],
   "source": [
    "#stage4df.head()"
   ]
  },
  {
   "cell_type": "code",
   "execution_count": 11,
   "metadata": {},
   "outputs": [],
   "source": [
    "#proteomics.columns"
   ]
  },
  {
   "cell_type": "code",
   "execution_count": 20,
   "metadata": {},
   "outputs": [
    {
     "data": {
      "text/html": [
       "<div>\n",
       "<style scoped>\n",
       "    .dataframe tbody tr th:only-of-type {\n",
       "        vertical-align: middle;\n",
       "    }\n",
       "\n",
       "    .dataframe tbody tr th {\n",
       "        vertical-align: top;\n",
       "    }\n",
       "\n",
       "    .dataframe thead th {\n",
       "        text-align: right;\n",
       "    }\n",
       "</style>\n",
       "<table border=\"1\" class=\"dataframe\">\n",
       "  <thead>\n",
       "    <tr style=\"text-align: right;\">\n",
       "      <th>idx</th>\n",
       "      <th>tumor_Stage-Pathological</th>\n",
       "      <th>TP53</th>\n",
       "    </tr>\n",
       "  </thead>\n",
       "  <tbody>\n",
       "    <tr>\n",
       "      <th>S001</th>\n",
       "      <td>Stage I</td>\n",
       "      <td>0.295</td>\n",
       "    </tr>\n",
       "    <tr>\n",
       "      <th>S003</th>\n",
       "      <td>Stage I</td>\n",
       "      <td>-0.871</td>\n",
       "    </tr>\n",
       "    <tr>\n",
       "      <th>S005</th>\n",
       "      <td>Stage I</td>\n",
       "      <td>-0.343</td>\n",
       "    </tr>\n",
       "    <tr>\n",
       "      <th>S006</th>\n",
       "      <td>Stage I</td>\n",
       "      <td>3.010</td>\n",
       "    </tr>\n",
       "    <tr>\n",
       "      <th>S007</th>\n",
       "      <td>Stage I</td>\n",
       "      <td>-0.148</td>\n",
       "    </tr>\n",
       "  </tbody>\n",
       "</table>\n",
       "</div>"
      ],
      "text/plain": [
       "idx  tumor_Stage-Pathological   TP53\n",
       "S001                  Stage I  0.295\n",
       "S003                  Stage I -0.871\n",
       "S005                  Stage I -0.343\n",
       "S006                  Stage I  3.010\n",
       "S007                  Stage I -0.148"
      ]
     },
     "execution_count": 20,
     "metadata": {},
     "output_type": "execute_result"
    }
   ],
   "source": [
    "#merge proteomics and stage\n",
    "stage_prot = en.compare_clinical(omics_data=proteomics,clinical_col=stage)\n",
    "#create df for stage and p53\n",
    "p53 = stage_prot[[stage, 'TP53']]\n",
    "#separate into stages\n",
    "stage4 = p53[stage_four]\n",
    "stage1 = p53[stage_one]\n",
    "#stage1.head()"
   ]
  },
  {
   "cell_type": "code",
   "execution_count": 21,
   "metadata": {},
   "outputs": [
    {
     "name": "stdout",
     "output_type": "stream",
     "text": [
      "Ttest_indResult(statistic=nan, pvalue=nan)\n"
     ]
    },
    {
     "name": "stderr",
     "output_type": "stream",
     "text": [
      "C:\\Users\\brittany henderson\\Anaconda3\\envs\\Research\\lib\\site-packages\\scipy\\stats\\_distn_infrastructure.py:877: RuntimeWarning: invalid value encountered in greater\n",
      "  return (self.a < x) & (x < self.b)\n",
      "C:\\Users\\brittany henderson\\Anaconda3\\envs\\Research\\lib\\site-packages\\scipy\\stats\\_distn_infrastructure.py:877: RuntimeWarning: invalid value encountered in less\n",
      "  return (self.a < x) & (x < self.b)\n",
      "C:\\Users\\brittany henderson\\Anaconda3\\envs\\Research\\lib\\site-packages\\scipy\\stats\\_distn_infrastructure.py:1831: RuntimeWarning: invalid value encountered in less_equal\n",
      "  cond2 = cond0 & (x <= self.a)\n"
     ]
    }
   ],
   "source": [
    "#graphingSite = 'TP53'\n",
    "#print(scipy.stats.ttest_ind(stage4[graphingSite], stage1[graphingSite]))\n",
    "#sns.boxplot(x=stage, y=graphingSite, data = stage_prot, showfliers = False)\n",
    "#sns.stripplot(x=stage, y=graphingSite, data = stage_prot, color = '.3')"
   ]
  },
  {
   "cell_type": "code",
   "execution_count": null,
   "metadata": {},
   "outputs": [],
   "source": [
    "\n"
   ]
  },
  {
   "cell_type": "code",
   "execution_count": null,
   "metadata": {},
   "outputs": [],
   "source": []
  }
 ],
 "metadata": {
  "kernelspec": {
   "display_name": "Python 3",
   "language": "python",
   "name": "python3"
  },
  "language_info": {
   "codemirror_mode": {
    "name": "ipython",
    "version": 3
   },
   "file_extension": ".py",
   "mimetype": "text/x-python",
   "name": "python",
   "nbconvert_exporter": "python",
   "pygments_lexer": "ipython3",
   "version": "3.7.3"
  }
 },
 "nbformat": 4,
 "nbformat_minor": 2
}
