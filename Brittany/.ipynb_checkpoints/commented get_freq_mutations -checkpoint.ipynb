{
 "cells": [
  {
   "cell_type": "code",
   "execution_count": 1,
   "metadata": {},
   "outputs": [
    {
     "name": "stdout",
     "output_type": "stream",
     "text": [
      "Welcome to the CPTAC data service package. Available datasets may be\n",
      "viewed using CPTAC.list_data(). In order to access a specific data\n",
      "set, import a CPTAC subfolder using either 'import CPTAC.Dataset' or\n",
      "'from CPTAC import Dataset'.\n",
      "******\n",
      "Version: 0.3.0\n",
      "******\n",
      "Loading Endometrial CPTAC data:\n",
      "Loading Dictionary...\n",
      "Loading Clinical Data...\n",
      "Loading Acetylation Proteomics Data...\n",
      "Loading Proteomics Data...\n",
      "Loading Transcriptomics Data...\n",
      "Loading CNA Data...\n",
      "Loading Phosphoproteomics Data...\n",
      "Loading Somatic Mutation Data...\n",
      "\n",
      " ******PLEASE READ******\n",
      "WARNING: This data is under a publication embargo until July 1, 2019.\n",
      "CPTAC is a community resource project and data are made available\n",
      "rapidly after generation for community research use. The embargo\n",
      "allows exploring and utilizing the data, but the data may not be in a\n",
      "publication until July 1, 2019. Please see\n",
      "https://proteomics.cancer.gov/data-portal/about/data-use-agreement or\n",
      "enter embargo() to open the webpage for more details.\n"
     ]
    }
   ],
   "source": [
    "import pandas as pd\n",
    "import seaborn as sns\n",
    "import matplotlib.pyplot as plt\n",
    "\n",
    "import CPTAC.Endometrial as en"
   ]
  },
  {
   "cell_type": "code",
   "execution_count": 2,
   "metadata": {},
   "outputs": [],
   "source": [
    "def get_frequently_mutated(somatic_df, omics_mutations_df, cutoff = .1): #use default for the 1st parameters?\n",
    "    \"\"\"take DataFrames of somatic mutations and omics_mutations to determine the frequently mutated genes compared to the cutoff\n",
    "        \n",
    "        Parameters:\n",
    "        somatic_df (pandas.core.frame.DataFrame): Somatic mutation dataframe.\n",
    "        omics_mutations_df (pandas.core.frame.DataFrame): merged dataframe of any gene and proteomics (used to find total_tumor_patients)\n",
    "        cutoff (float): used as comparison to determine status of gene mutation frequency\n",
    "        \n",
    "        Returns:\n",
    "        freq_mutated (list): list of frequently mutated genes passing the cutoff\"\"\"\n",
    "    \n",
    "    freq_mutated = []\n",
    "    # get series of all mutated genes\n",
    "    unique_genes = somatic_df['Gene'].unique() \n",
    "    \n",
    "    # get number of tumor patients\n",
    "    tumors = omics_mutations_df.loc[omics_mutations_df['Sample_Status'] == 'Tumor']\n",
    "    total_tumor_patients = len(tumors) \n",
    "    \n",
    "    for gene in unique_genes:\n",
    "        gene_mutated = somatic_df.loc[somatic['Gene'] == gene]\n",
    "        num_gene_mutated = len(gene_mutated)\n",
    "        if (num_gene_mutated / total_tumor_patients) > cutoff:\n",
    "            freq_mutated.append(gene)\n",
    "        \n",
    "    return freq_mutated\n",
    "           "
   ]
  },
  {
   "cell_type": "code",
   "execution_count": 3,
   "metadata": {},
   "outputs": [],
   "source": [
    "somatic = en.get_mutations()\n",
    "list1 = get_frequently_mutated(somatic, 0.0001)"
   ]
  },
  {
   "cell_type": "code",
   "execution_count": 4,
   "metadata": {},
   "outputs": [
    {
     "name": "stdout",
     "output_type": "stream",
     "text": [
      "2505\n"
     ]
    }
   ],
   "source": [
    "print(len(list1))"
   ]
  },
  {
   "cell_type": "code",
   "execution_count": null,
   "metadata": {},
   "outputs": [],
   "source": []
  }
 ],
 "metadata": {
  "kernelspec": {
   "display_name": "Python 3",
   "language": "python",
   "name": "python3"
  },
  "language_info": {
   "codemirror_mode": {
    "name": "ipython",
    "version": 3
   },
   "file_extension": ".py",
   "mimetype": "text/x-python",
   "name": "python",
   "nbconvert_exporter": "python",
   "pygments_lexer": "ipython3",
   "version": "3.7.3"
  }
 },
 "nbformat": 4,
 "nbformat_minor": 2
}
