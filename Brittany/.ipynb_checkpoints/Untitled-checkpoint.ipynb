{
 "cells": [
  {
   "cell_type": "code",
   "execution_count": null,
   "metadata": {},
   "outputs": [],
   "source": [
    "# make dictionary and sort into descending order based on num mutations\n",
    "    for gene in freq_mutated:\n",
    "        gene_mutated = somatic.loc[somatic['Gene'] == gene]\n",
    "        num_gene_mutated = len(gene_mutated['Patient_Id'].unique())     \n",
    "        gene_and_freq_d[gene] = num_gene_mutated    "
   ]
  }
 ],
 "metadata": {
  "kernelspec": {
   "display_name": "Python 3",
   "language": "python",
   "name": "python3"
  },
  "language_info": {
   "codemirror_mode": {
    "name": "ipython",
    "version": 3
   },
   "file_extension": ".py",
   "mimetype": "text/x-python",
   "name": "python",
   "nbconvert_exporter": "python",
   "pygments_lexer": "ipython3",
   "version": "3.7.3"
  }
 },
 "nbformat": 4,
 "nbformat_minor": 2
}
