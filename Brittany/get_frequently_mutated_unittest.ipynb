{
 "cells": [
  {
   "cell_type": "markdown",
   "metadata": {},
   "source": [
    "# get_frequently_mutated Final "
   ]
  },
  {
   "cell_type": "code",
   "execution_count": 1,
   "metadata": {},
   "outputs": [],
   "source": [
    "import cptac\n",
    "en = cptac.Endometrial()\n",
    "#ov = cptac.Ovarian()\n",
    "#cancer = cptac.Colon()\n",
    "\n",
    "import pandas as pd\n",
    "import numpy as np"
   ]
  },
  {
   "cell_type": "code",
   "execution_count": null,
   "metadata": {},
   "outputs": [],
   "source": [
    "def get_frequently_mutated(cancer_type, cutoff = 0.1):  \n",
    "    \"\"\"\n",
    "    take cancer object and find the frequently \n",
    "    mutated genes in the total tumors compared to the cutoff.\n",
    "\n",
    "    Parameters:\n",
    "    cancer_type (object): cancer class object from cptac module \n",
    "    cutoff (float): used as comparison to determine the \n",
    "                    status of gene mutation frequency\n",
    "\n",
    "    Returns:\n",
    "    freq_mutated_df (pd.DataFrame): DataFrame of frequently \n",
    "                mutated genes passing the cutoff. Columns \n",
    "                contain the fractions of total unique \n",
    "                mutations,missence type mutations, \n",
    "                and truncation type mutations per gene.\n",
    "    \n",
    "    The Missence_Mut column includes: \n",
    "        In_Frame_Del, In_Frame_Ins, Missense_Mutation\n",
    "   \n",
    "   The Truncation_Mut column includes: \n",
    "        Frame_Shift_Del, Frame_Shift_Ins, Splice_Site, \n",
    "        Nonsense_Mutation, Nonstop_Mutation\n",
    "        \n",
    "    These columns count multiple mutations of one gene in the \n",
    "    same sample, so fractions in the last two columns may \n",
    "    exceed the Unique_Samples_Mut column which only counts if \n",
    "    the gene was mutated once per sample.\"\"\"    \n",
    "    \n",
    "    # get data frame\n",
    "    somatic_mutations = cancer_type.get_mutations()\n",
    "    sample_status_map = cancer_type._get_sample_status_map()\n",
    "         \n",
    "    '''Get total tumors/patients'''\n",
    "    sample_status_series = sample_status_map.value_counts().reset_index()\n",
    "    tumors = sample_status_series.loc[sample_status_series['index'] == 'Tumor']\n",
    "    total_tumor_patients = tumors.iloc[0,1]\n",
    "    print(total_tumor_patients)\n",
    "        \n",
    "    '''Find frequently mutated genes and their fraction of unique mutated samples.'''\n",
    "    #move 'Sample_ID' from index to col \n",
    "    origin_df = somatic_mutations.reset_index()\n",
    "\n",
    "    #group by gene and count unique samples\n",
    "    genes_df = origin_df.groupby(['Gene']).nunique()\n",
    "\n",
    "    #format\n",
    "    genes_df = genes_df.rename(columns={\"Sample_ID\": \"Unique_Samples_Mut\"})\n",
    "    genes_df = genes_df.drop(['Gene', 'Mutation','Location'], axis = 1)\n",
    "    \n",
    "    #filter using the cutoff and create fraction\n",
    "    genes_df = genes_df.apply(lambda x: x / total_tumor_patients)\n",
    "    filtered = genes_df.where(lambda x: x > cutoff)\n",
    "    filtered_gene_df = filtered.dropna()\n",
    "    \n",
    "    '''Create Missence and Trucation data frame'''\n",
    "    #create two categories in Mutation column\n",
    "    '''\n",
    "    if cancer_type.get_tumor_type() == 'Colon':\n",
    "        mutation_equivalents = {'frameshift substitution': 'T' , 'frameshift deletion': 'T', \n",
    "            'frameshift insertion': 'T', 'stopgain': 'T ', 'stoploss':'T',\n",
    "            'nonsynonymous SNV': 'M','nonframeshift insertion': 'M',\n",
    "            'nonframeshift deletion': 'M', 'nonframeshift substitution': 'M'}\n",
    "        replaced_M_T = origin_df.replace(mutation_equivalents)\n",
    "        \n",
    "    else:   \n",
    "    \n",
    "    '''\n",
    "    missence_mut = {'In_Frame_Del': 'M', 'In_Frame_Ins': 'M', 'Missense_Mutation': 'M'}\n",
    "    truncation_mut = {'Frame_Shift_Del': 'T','Nonsense_Mutation': 'T', \n",
    "                      'Splice_Site': 'T', 'Frame_Shift_Ins': 'T','Nonstop_Mutation':'T'}\n",
    "    replaced_M = origin_df.replace(missence_mut)\n",
    "    replaced_M_T = replaced_M.replace(truncation_mut)\n",
    "    \n",
    "    # group mutation categories\n",
    "    miss = replaced_M_T.loc[replaced_M_T['Mutation'] == 'M']\n",
    "    trunc = replaced_M_T.loc[replaced_M_T['Mutation'] == 'T']\n",
    "\n",
    "    # group by gene and count unique samples for both categories\n",
    "    miss_df = miss.groupby(['Gene']).nunique()\n",
    "    trunc_df = trunc.groupby(['Gene']).nunique()\n",
    "\n",
    "    #format\n",
    "    miss_df = miss_df.rename(columns={\"Sample_ID\": \"Missence_Mut\"})\n",
    "    miss_df = miss_df.drop(['Gene', 'Mutation', 'Location'], axis = 1)\n",
    "\n",
    "    trunc_df = trunc_df.rename(columns={\"Sample_ID\": \"Truncation_Mut\"})\n",
    "    trunc_df = trunc_df.drop(['Gene', 'Mutation', 'Location'], axis = 1)\n",
    "\n",
    "    #join miss and trunc and change nan to 0, then divide by total tumors\n",
    "    mut = miss_df.join(trunc_df).fillna(0)\n",
    "    missence_and_truncation_df = mut.apply(lambda x: x / total_tumor_patients)\n",
    "\n",
    "\n",
    "    '''Join data frames, keeping only the genes that passed the cutoff''' \n",
    "    freq_mutated_df = filtered_gene_df.join(missence_and_truncation_df).reset_index()\n",
    "    freq_mutated_df.name = 'frequently_mutated'\n",
    "                   \n",
    "    return freq_mutated_df"
   ]
  },
  {
   "cell_type": "code",
   "execution_count": 4,
   "metadata": {},
   "outputs": [
    {
     "name": "stderr",
     "output_type": "stream",
     "text": [
      "test_colon_input (__main__.Testget_frequently_mutated) ... ERROR\n",
      "test_wrong_input (__main__.Testget_frequently_mutated) ... "
     ]
    },
    {
     "name": "stdout",
     "output_type": "stream",
     "text": [
      "Please enter a valid cancer type. \n",
      "Options: endometrial, ovarian, colon\n"
     ]
    },
    {
     "name": "stderr",
     "output_type": "stream",
     "text": [
      "ok\n",
      "\n",
      "======================================================================\n",
      "ERROR: test_colon_input (__main__.Testget_frequently_mutated)\n",
      "----------------------------------------------------------------------\n",
      "Traceback (most recent call last):\n",
      "  File \"<ipython-input-3-cd61a03f403b>\", line 9, in test_colon_input\n",
      "    self.assertTrue(get_frequently_mutated('colon'))\n",
      "  File \"C:\\Users\\brittany henderson\\Anaconda3\\envs\\Research\\lib\\unittest\\case.py\", line 690, in assertTrue\n",
      "    if not expr:\n",
      "  File \"C:\\Users\\brittany henderson\\Anaconda3\\envs\\Research\\lib\\site-packages\\pandas\\core\\generic.py\", line 1478, in __nonzero__\n",
      "    .format(self.__class__.__name__))\n",
      "ValueError: The truth value of a DataFrame is ambiguous. Use a.empty, a.bool(), a.item(), a.any() or a.all().\n",
      "\n",
      "----------------------------------------------------------------------\n",
      "Ran 2 tests in 128.438s\n",
      "\n",
      "FAILED (errors=1)\n"
     ]
    },
    {
     "data": {
      "text/plain": [
       "<unittest.main.TestProgram at 0x2330e513fd0>"
      ]
     },
     "execution_count": 4,
     "metadata": {},
     "output_type": "execute_result"
    }
   ],
   "source": [
    "import unittest\n",
    "\n",
    "class TestGetFreqMut(unittest.TestCase):\n",
    "    \n",
    "    def setUp(self):\n",
    "        self.get_frequently_mutated('endometrial', .3)\n",
    "\n",
    "\n",
    "unittest.main(argv=[''], verbosity=2, exit=False)"
   ]
  },
  {
   "cell_type": "code",
   "execution_count": null,
   "metadata": {},
   "outputs": [],
   "source": []
  }
 ],
 "metadata": {
  "kernelspec": {
   "display_name": "Python 3",
   "language": "python",
   "name": "python3"
  },
  "language_info": {
   "codemirror_mode": {
    "name": "ipython",
    "version": 3
   },
   "file_extension": ".py",
   "mimetype": "text/x-python",
   "name": "python",
   "nbconvert_exporter": "python",
   "pygments_lexer": "ipython3",
   "version": "3.7.3"
  }
 },
 "nbformat": 4,
 "nbformat_minor": 2
}
