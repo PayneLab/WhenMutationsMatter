{
 "cells": [
  {
   "cell_type": "markdown",
   "metadata": {},
   "source": [
    "# get_frequently_mutated Final "
   ]
  },
  {
   "cell_type": "code",
   "execution_count": 1,
   "metadata": {},
   "outputs": [],
   "source": [
    "def get_frequently_mutated(cancer_type, cutoff=.1):  \n",
    "    \"\"\"take cancer type to import cptac and find the frequently mutated genes in total tumors compared to the cutoff.\n",
    "        \n",
    "        Parameters:\n",
    "        cancer_type (string): type of  cancer \n",
    "        cutoff (float): used as comparison to determine status of gene mutation frequency\n",
    "        \n",
    "        Returns:\n",
    "        freq_mutated_df (pd.DataFrame): DataFrame of frequently mutated genes passing the cutoff\n",
    "            and percent mutated (mutated genes / total tumors), percent Truncated, percent Missence\n",
    "        \n",
    "        There are many types of mutations catagorized into the columns 'Truncated' and 'Missence'. \n",
    "        The Truncated column includes: Frame_Shift_Del, Frame_Shift_Ins, Splice_Site, Nonsense_Mutation, Nonstop_Mutation\n",
    "        The Missence column includes: In_Frame_Del, In_Frame_Ins, Missense_Mutation\n",
    "        These columns count multiple mutations of one gene in the same sample, so percentages in the last two columns may \n",
    "        exceed the total percent mutated (which only counts if the gene was mutated once)\n",
    "            \"\"\" \n",
    "    \n",
    "    # import CPTAC and pandas\n",
    "    \n",
    "    import pandas as pd\n",
    "    colon = False\n",
    "    if cancer_type == \"endometrial\" or cancer_type == \"Endometrial\":\n",
    "        import cptac.endometrial as cptac\n",
    "        \n",
    "    elif cancer_type == \"colon\" or cancer_type == \"Colon\":\n",
    "        import cptac.colon as cptac\n",
    "        colon = True\n",
    "        \n",
    "    elif cancer_type == \"ovarian\" or cancer_type == \"Ovarian\":\n",
    "        import cptac.ovarian as cptac\n",
    "    \n",
    "    else:\n",
    "        str_cancer_options = '\\n' + 'Options: endometrial, ovarian, colon'\n",
    "        print(\"Please enter a valid cancer type.\", str_cancer_options)\n",
    "        return 0\n",
    "    \n",
    "    # get data frames\n",
    "    somatic_mutations = cptac.get_mutations()\n",
    "    proteomics = cptac.get_proteomics()\n",
    "    sample_status_map = cptac.get_sample_status_map()\n",
    "    merged_mutations = somatic_mutations.join(sample_status_map, how=\"left\") \n",
    "    \n",
    "    # standardize mutation names \n",
    "    if colon == True:\n",
    "        mutation_equivalents = {'frameshift substitution': 'Frame_Shift_Del' , 'frameshift deletion': 'Frame_Shift_Del', \n",
    "            'frameshift insertion': 'Frame_Shift_Ins', 'stopgain': 'Nonsense_Mutation ', 'stoploss':'Nonstop_Mutation',\n",
    "            'nonsynonymous SNV': 'Missense_Mutation','nonframeshift insertion': 'In_Frame_Ins',\n",
    "            'nonframeshift deletion': 'In_Frame_Del', 'nonframeshift substitution': 'Missense_Mutation'}\n",
    "        merged_mutations = merged_mutations.replace(to_replace = mutation_equivalents)\n",
    "        \n",
    "    # get list of unique genes\n",
    "    unique_genes = somatic_mutations['Gene'].unique()\n",
    "    \n",
    "    # get total tumors/patients\n",
    "    sample_status_series = sample_status_map.value_counts()\n",
    "    total_tumor_patients = sample_status_series[0]\n",
    "        \n",
    "    # find frequently mutated genes and their percent mutated. Create lists for frequently mutated genes and percentage.\n",
    "    freq_mut = []\n",
    "    total_percent_mutated = []\n",
    "    for gene in unique_genes:\n",
    "        gene_mutated = merged_mutations.loc[merged_mutations['Gene'] == gene]\n",
    "        gene_mutated = gene_mutated.index.unique()\n",
    "        num_gene_mutated = len(gene_mutated)\n",
    "        percentage = (num_gene_mutated / total_tumor_patients)\n",
    "        if percentage > cutoff:\n",
    "            freq_mut.append(gene)\n",
    "            total_percent_mutated.append(percentage)\n",
    "    \n",
    "    # find truncated percentage\n",
    "    truncated = []\n",
    "    missence = []\n",
    "    sample_overlap = []\n",
    "    \n",
    "    for gene in freq_mut:\n",
    "        gene_mutated = merged_mutations.loc[merged_mutations['Gene'] == gene]\n",
    "        \n",
    "        # trunc\n",
    "        truncated_df = gene_mutated.loc[(gene_mutated['Mutation'] != 'In_Frame_Del') & \n",
    "            (gene_mutated['Mutation'] != 'In_Frame_Ins') & (gene_mutated['Mutation'] != 'Missense_Mutation')] \n",
    "        samples_trunc = truncated_df.index.unique()\n",
    "        num_trunc_mut = len(samples_trunc)\n",
    "        fraction_trunc = (num_trunc_mut / total_tumor_patients)\n",
    "        truncated.append(fraction_trunc)\n",
    "        \n",
    "        #miss\n",
    "        missence_mutations = gene_mutated.loc[(gene_mutated['Mutation'] == 'In_Frame_Ins') \n",
    "                | (gene_mutated['Mutation'] == 'In_Frame_Del') | (gene_mutated['Mutation'] == 'Missense_Mutation')]\n",
    "        samples_miss = missence_mutations.index.unique()\n",
    "        num_miss_mut = len(samples_miss)\n",
    "        \n",
    "        #count overlap in truncated\n",
    "        num_overlap = 0\n",
    "        non_overlap_samples_miss = []\n",
    "        for sample in samples_miss:\n",
    "            if sample not in samples_trunc:\n",
    "                non_overlap_samples_miss.append(sample)\n",
    "            else:\n",
    "                num_overlap += 1\n",
    "        \n",
    "        num_non_overlap_samples = len(non_overlap_samples_miss)\n",
    "        fraction_miss = (num_non_overlap_samples / total_tumor_patients)\n",
    "        missence.append(fraction_miss)\n",
    "        \n",
    "    # create dataframe\n",
    "    merged_lists = list(zip(freq_mut, total_percent_mutated, truncated, missence))\n",
    "    freq_mutated_df = pd.DataFrame(merged_lists, columns =['Gene', 'Fraction_Mutated', 'Fraction_Truncation', 'Fraction_Missence'])\n",
    "                   \n",
    "    return freq_mutated_df"
   ]
  },
  {
   "cell_type": "code",
   "execution_count": 4,
   "metadata": {},
   "outputs": [
    {
     "name": "stderr",
     "output_type": "stream",
     "text": [
      "test_colon_input (__main__.Testget_frequently_mutated) ... ERROR\n",
      "test_wrong_input (__main__.Testget_frequently_mutated) ... "
     ]
    },
    {
     "name": "stdout",
     "output_type": "stream",
     "text": [
      "Please enter a valid cancer type. \n",
      "Options: endometrial, ovarian, colon\n"
     ]
    },
    {
     "name": "stderr",
     "output_type": "stream",
     "text": [
      "ok\n",
      "\n",
      "======================================================================\n",
      "ERROR: test_colon_input (__main__.Testget_frequently_mutated)\n",
      "----------------------------------------------------------------------\n",
      "Traceback (most recent call last):\n",
      "  File \"<ipython-input-3-cd61a03f403b>\", line 9, in test_colon_input\n",
      "    self.assertTrue(get_frequently_mutated('colon'))\n",
      "  File \"C:\\Users\\brittany henderson\\Anaconda3\\envs\\Research\\lib\\unittest\\case.py\", line 690, in assertTrue\n",
      "    if not expr:\n",
      "  File \"C:\\Users\\brittany henderson\\Anaconda3\\envs\\Research\\lib\\site-packages\\pandas\\core\\generic.py\", line 1478, in __nonzero__\n",
      "    .format(self.__class__.__name__))\n",
      "ValueError: The truth value of a DataFrame is ambiguous. Use a.empty, a.bool(), a.item(), a.any() or a.all().\n",
      "\n",
      "----------------------------------------------------------------------\n",
      "Ran 2 tests in 128.438s\n",
      "\n",
      "FAILED (errors=1)\n"
     ]
    },
    {
     "data": {
      "text/plain": [
       "<unittest.main.TestProgram at 0x2330e513fd0>"
      ]
     },
     "execution_count": 4,
     "metadata": {},
     "output_type": "execute_result"
    }
   ],
   "source": [
    "import unittest\n",
    "\n",
    "class TestGetFreqMut(unittest.TestCase):\n",
    "    \n",
    "    def setUp(self):\n",
    "        self.get_frequently_mutated('endometrial', .3)\n",
    "\n",
    "\n",
    "unittest.main(argv=[''], verbosity=2, exit=False)"
   ]
  },
  {
   "cell_type": "code",
   "execution_count": null,
   "metadata": {},
   "outputs": [],
   "source": []
  }
 ],
 "metadata": {
  "kernelspec": {
   "display_name": "Python 3",
   "language": "python",
   "name": "python3"
  },
  "language_info": {
   "codemirror_mode": {
    "name": "ipython",
    "version": 3
   },
   "file_extension": ".py",
   "mimetype": "text/x-python",
   "name": "python",
   "nbconvert_exporter": "python",
   "pygments_lexer": "ipython3",
   "version": "3.7.3"
  }
 },
 "nbformat": 4,
 "nbformat_minor": 2
}
