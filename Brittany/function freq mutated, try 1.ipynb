{
 "cells": [
  {
   "cell_type": "code",
   "execution_count": 1,
   "metadata": {},
   "outputs": [],
   "source": [
    "# Def get_frequently_mutated(somatic_df, cutoff = .1):\n",
    "#Input df from getsomatic\n",
    "#Return list freq mutated genes"
   ]
  },
  {
   "cell_type": "code",
   "execution_count": 1,
   "metadata": {},
   "outputs": [
    {
     "name": "stdout",
     "output_type": "stream",
     "text": [
      "Welcome to the CPTAC data service package. Available datasets may be\n",
      "viewed using CPTAC.list_data(). In order to access a specific data\n",
      "set, import a CPTAC subfolder using either 'import CPTAC.Dataset' or\n",
      "'from CPTAC import Dataset'.\n",
      "******\n",
      "Version: 0.3.1\n",
      "******\n",
      "Loading Endometrial CPTAC data:\n",
      "Loading Dictionary...\n",
      "Loading Clinical Data...\n",
      "Loading Acetylation Proteomics Data...\n",
      "Loading Proteomics Data...\n",
      "Loading Transcriptomics Data...\n",
      "Loading CNA Data...\n",
      "Loading Phosphoproteomics Data...\n",
      "Loading Somatic Mutation Data...\n",
      "\n",
      " ******PLEASE READ******\n",
      "WARNING: This data is under a publication embargo until July 1, 2019.\n",
      "CPTAC is a community resource project and data are made available\n",
      "rapidly after generation for community research use. The embargo\n",
      "allows exploring and utilizing the data, but the data may not be in a\n",
      "publication until July 1, 2019. Please see\n",
      "https://proteomics.cancer.gov/data-portal/about/data-use-agreement or\n",
      "enter embargo() to open the webpage for more details.\n"
     ]
    }
   ],
   "source": [
    "import pandas as pd\n",
    "import seaborn as sns\n",
    "import matplotlib.pyplot as plt\n",
    "\n",
    "import CPTAC.Endometrial as en"
   ]
  },
  {
   "cell_type": "code",
   "execution_count": 2,
   "metadata": {},
   "outputs": [
    {
     "name": "stdout",
     "output_type": "stream",
     "text": [
      "22\n"
     ]
    },
    {
     "data": {
      "text/html": [
       "<div>\n",
       "<style scoped>\n",
       "    .dataframe tbody tr th:only-of-type {\n",
       "        vertical-align: middle;\n",
       "    }\n",
       "\n",
       "    .dataframe tbody tr th {\n",
       "        vertical-align: top;\n",
       "    }\n",
       "\n",
       "    .dataframe thead th {\n",
       "        text-align: right;\n",
       "    }\n",
       "</style>\n",
       "<table border=\"1\" class=\"dataframe\">\n",
       "  <thead>\n",
       "    <tr style=\"text-align: right;\">\n",
       "      <th></th>\n",
       "      <th>Clinical_Patient_Key</th>\n",
       "      <th>Patient_Id</th>\n",
       "      <th>Gene</th>\n",
       "      <th>Mutation</th>\n",
       "      <th>Location</th>\n",
       "    </tr>\n",
       "  </thead>\n",
       "  <tbody>\n",
       "    <tr>\n",
       "      <th>586</th>\n",
       "      <td>S001</td>\n",
       "      <td>C3L-00006</td>\n",
       "      <td>TP53</td>\n",
       "      <td>Missense_Mutation</td>\n",
       "      <td>p.R248W</td>\n",
       "    </tr>\n",
       "    <tr>\n",
       "      <th>1249</th>\n",
       "      <td>S006</td>\n",
       "      <td>C3L-00098</td>\n",
       "      <td>TP53</td>\n",
       "      <td>Missense_Mutation</td>\n",
       "      <td>p.S241C</td>\n",
       "    </tr>\n",
       "    <tr>\n",
       "      <th>1335</th>\n",
       "      <td>S008</td>\n",
       "      <td>C3L-00137</td>\n",
       "      <td>TP53</td>\n",
       "      <td>Missense_Mutation</td>\n",
       "      <td>p.S127Y</td>\n",
       "    </tr>\n",
       "    <tr>\n",
       "      <th>1384</th>\n",
       "      <td>S009</td>\n",
       "      <td>C3L-00139</td>\n",
       "      <td>TP53</td>\n",
       "      <td>Nonsense_Mutation</td>\n",
       "      <td>p.R196*</td>\n",
       "    </tr>\n",
       "    <tr>\n",
       "      <th>3962</th>\n",
       "      <td>S016</td>\n",
       "      <td>C3L-00358</td>\n",
       "      <td>TP53</td>\n",
       "      <td>Missense_Mutation</td>\n",
       "      <td>p.K164E</td>\n",
       "    </tr>\n",
       "  </tbody>\n",
       "</table>\n",
       "</div>"
      ],
      "text/plain": [
       "     Clinical_Patient_Key Patient_Id  Gene           Mutation Location\n",
       "586                  S001  C3L-00006  TP53  Missense_Mutation  p.R248W\n",
       "1249                 S006  C3L-00098  TP53  Missense_Mutation  p.S241C\n",
       "1335                 S008  C3L-00137  TP53  Missense_Mutation  p.S127Y\n",
       "1384                 S009  C3L-00139  TP53  Nonsense_Mutation  p.R196*\n",
       "3962                 S016  C3L-00358  TP53  Missense_Mutation  p.K164E"
      ]
     },
     "execution_count": 2,
     "metadata": {},
     "output_type": "execute_result"
    }
   ],
   "source": [
    "#get df mutations\n",
    "somatic = en.get_mutations()\n",
    "somatic.head()\n",
    "\n",
    "#parse gene and count\n",
    "new = somatic.loc[somatic['Gene']== 'TP53']\n",
    "total = len(new)\n",
    "print(total)\n",
    "new.head()"
   ]
  },
  {
   "cell_type": "code",
   "execution_count": 3,
   "metadata": {},
   "outputs": [],
   "source": [
    "def get_frequently_mutated(somatic_df, cutoff=.1):\n",
    "    gene_list = somatic_df['Gene']\n",
    "    unique_genes = somatic_df['Gene'].unique()\n",
    "    freq_mutated = []\n",
    "    total_count_genes = len(gene_list)\n",
    "#     print(total_count_genes)\n",
    "    for mutated_gene in unique_genes:\n",
    "        new = somatic_df.loc[somatic_df['Gene'] == mutated_gene]\n",
    "        count = len(new)\n",
    "#         print(count / total_count_genes, cutoff)\n",
    "        if (count / total_count_genes) > cutoff:\n",
    "            freq_mutated.append(mutated_gene)\n",
    "\n",
    "        #if mutated_gene == unique_genes[-1]:\n",
    "    return freq_mutated\n",
    "           "
   ]
  },
  {
   "cell_type": "code",
   "execution_count": 4,
   "metadata": {},
   "outputs": [],
   "source": [
    "list1 = get_frequently_mutated(somatic)"
   ]
  },
  {
   "cell_type": "code",
   "execution_count": 5,
   "metadata": {},
   "outputs": [
    {
     "name": "stdout",
     "output_type": "stream",
     "text": [
      "0\n"
     ]
    }
   ],
   "source": [
    "#for element in list1:\n",
    " \n",
    "    #print(element)\n",
    "\n",
    "print(len(list1))"
   ]
  },
  {
   "cell_type": "code",
   "execution_count": 11,
   "metadata": {},
   "outputs": [
    {
     "data": {
      "text/plain": [
       "True"
      ]
     },
     "execution_count": 11,
     "metadata": {},
     "output_type": "execute_result"
    }
   ],
   "source": [
    "#loop going through genes and finding matches types of mut, use zip?\n",
    "'TP53' in list1"
   ]
  },
  {
   "cell_type": "code",
   "execution_count": null,
   "metadata": {},
   "outputs": [],
   "source": []
  }
 ],
 "metadata": {
  "kernelspec": {
   "display_name": "Python 3",
   "language": "python",
   "name": "python3"
  },
  "language_info": {
   "codemirror_mode": {
    "name": "ipython",
    "version": 3
   },
   "file_extension": ".py",
   "mimetype": "text/x-python",
   "name": "python",
   "nbconvert_exporter": "python",
   "pygments_lexer": "ipython3",
   "version": "3.7.3"
  }
 },
 "nbformat": 4,
 "nbformat_minor": 2
}
