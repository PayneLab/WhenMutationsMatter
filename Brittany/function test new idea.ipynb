{
 "cells": [
  {
   "cell_type": "code",
   "execution_count": 4,
   "metadata": {},
   "outputs": [
    {
     "name": "stdout",
     "output_type": "stream",
     "text": [
      "You have loaded the CPTAC Colon dataset. To view available dataframes,\n",
      "use CPTAC.Colon.list_data(). To view available functions for accessing\n",
      "and manipulating the dataframes, use CPTAC.Colon.list_api().\n",
      "Colon Data Version: Most recent release\n",
      "\n",
      "Loading CPTAC Colon data:\n",
      "Loading clinical data...\n",
      "Loading miRNA data...\n",
      "Loading mutation data...\n",
      "Loading mutation_binary data...\n",
      "Loading phosphoproteomics_normal data...\n",
      "Loading phosphoproteomics_tumor data...\n",
      "Loading proteomics_normal data...\n",
      "Loading proteomics_tumor data...\n",
      "Loading transcriptomics data...\n"
     ]
    }
   ],
   "source": [
    "import pandas as pd\n",
    "import seaborn as sns\n",
    "import matplotlib.pyplot as plt\n",
    "import operator\n",
    "\n",
    "import CPTAC.Colon as en"
   ]
  },
  {
   "cell_type": "code",
   "execution_count": 7,
   "metadata": {},
   "outputs": [],
   "source": [
    "def get_frequently_mutated(somatic_df, proteomics, cancer, cutoff=.1):  \n",
    "    unique_genes = somatic_df['Gene'].unique() # get series of all mutated genes\n",
    "    freq_mutated = []\n",
    "    gene_and_freq_d = {}\n",
    "    \n",
    "    # get total tumor patients\n",
    "    gene = 'PTEN'\n",
    "    gene_mutated = cancer.append_mutations_to_omics(mutation_genes=gene, omics_df=proteomics, omics_genes=gene)\n",
    "    tumors = omics_mutations_df.loc[omics_mutations_df['Sample_Status'] == 'Tumor']\n",
    "    total_tumor_patients = len(tumors)\n",
    "    \"\"\"\n",
    "    #find frequently mutated\n",
    "    col_1 = omics_mutations_df.columns[1]\n",
    "    \n",
    "    for gene in unique_genes:\n",
    "        gene_mutated = cancer.append_mutations_to_omics(mutation_genes=gene, omics_df=proteomics, omics_genes=gene)\n",
    "        gene_mutated = gene_mutated.loc[gene_mutated[col_1] != 'Wildtype_Tumor']\n",
    "        num_gene_mutated = len(gene_mutated)\n",
    "        if (num_gene_mutated / total_tumor_patients) > cutoff:\n",
    "            freq_mutated.append(gene)\n",
    "\n",
    "    # make dictionary and sort into descending order based on num mutations\n",
    "    for gene in freq_mutated:\n",
    "        gene_mutated = somatic.loc[somatic['Gene'] == gene]\n",
    "        num_gene_mutated = len(gene_mutated['Patient_Id'].unique())     \n",
    "        gene_and_freq_d[gene] = num_gene_mutated    \n",
    "        \n",
    "    sorted_d = sorted(gene_and_freq_d.items(), key=operator.itemgetter(1), reverse=True)\n",
    "    \"\"\"              \n",
    "    return total_tumor_patients\n",
    "#freq_mutated"
   ]
  },
  {
   "cell_type": "code",
   "execution_count": 6,
   "metadata": {},
   "outputs": [],
   "source": [
    "somatic = en.get_mutations()\n",
    "clinical = en.get_clinical()\n",
    "proteomics = en.get_proteomics()\n",
    "gene = 'PTEN'\n",
    "omics_mutations = en.append_mutations_to_omics(mutation_genes=gene, omics_df=proteomics, omics_genes=gene)\n",
    "gene_mutated = somatic.loc[somatic['Gene'] == gene]"
   ]
  },
  {
   "cell_type": "code",
   "execution_count": 10,
   "metadata": {},
   "outputs": [
    {
     "data": {
      "text/plain": [
       "6"
      ]
     },
     "execution_count": 10,
     "metadata": {},
     "output_type": "execute_result"
    }
   ],
   "source": [
    "len(gene_mutated.index.unique())"
   ]
  },
  {
   "cell_type": "code",
   "execution_count": 9,
   "metadata": {},
   "outputs": [
    {
     "ename": "AttributeError",
     "evalue": "'DataFrame' object has no attribute 'append_mutations_to_omics'",
     "output_type": "error",
     "traceback": [
      "\u001b[1;31m---------------------------------------------------------------------------\u001b[0m",
      "\u001b[1;31mAttributeError\u001b[0m                            Traceback (most recent call last)",
      "\u001b[1;32m<ipython-input-9-42e79c5ae34a>\u001b[0m in \u001b[0;36m<module>\u001b[1;34m\u001b[0m\n\u001b[1;32m----> 1\u001b[1;33m \u001b[0mlist1\u001b[0m \u001b[1;33m=\u001b[0m \u001b[0mget_frequently_mutated\u001b[0m\u001b[1;33m(\u001b[0m\u001b[0msomatic\u001b[0m\u001b[1;33m,\u001b[0m \u001b[0momics_mutations\u001b[0m\u001b[1;33m,\u001b[0m \u001b[0mproteomics\u001b[0m\u001b[1;33m,\u001b[0m \u001b[0men\u001b[0m\u001b[1;33m)\u001b[0m\u001b[1;33m\u001b[0m\u001b[1;33m\u001b[0m\u001b[0m\n\u001b[0m",
      "\u001b[1;32m<ipython-input-7-40e6d9064506>\u001b[0m in \u001b[0;36mget_frequently_mutated\u001b[1;34m(somatic_df, proteomics, cancer, cutoff)\u001b[0m\n\u001b[0;32m      6\u001b[0m     \u001b[1;31m# get total tumor patients\u001b[0m\u001b[1;33m\u001b[0m\u001b[1;33m\u001b[0m\u001b[1;33m\u001b[0m\u001b[0m\n\u001b[0;32m      7\u001b[0m     \u001b[0mgene\u001b[0m \u001b[1;33m=\u001b[0m \u001b[1;34m'PTEN'\u001b[0m\u001b[1;33m\u001b[0m\u001b[1;33m\u001b[0m\u001b[0m\n\u001b[1;32m----> 8\u001b[1;33m     \u001b[0mgene_mutated\u001b[0m \u001b[1;33m=\u001b[0m \u001b[0mcancer\u001b[0m\u001b[1;33m.\u001b[0m\u001b[0mappend_mutations_to_omics\u001b[0m\u001b[1;33m(\u001b[0m\u001b[0mmutation_genes\u001b[0m\u001b[1;33m=\u001b[0m\u001b[0mgene\u001b[0m\u001b[1;33m,\u001b[0m \u001b[0momics_df\u001b[0m\u001b[1;33m=\u001b[0m\u001b[0mproteomics\u001b[0m\u001b[1;33m,\u001b[0m \u001b[0momics_genes\u001b[0m\u001b[1;33m=\u001b[0m\u001b[0mgene\u001b[0m\u001b[1;33m)\u001b[0m\u001b[1;33m\u001b[0m\u001b[1;33m\u001b[0m\u001b[0m\n\u001b[0m\u001b[0;32m      9\u001b[0m     \u001b[0mtumors\u001b[0m \u001b[1;33m=\u001b[0m \u001b[0momics_mutations_df\u001b[0m\u001b[1;33m.\u001b[0m\u001b[0mloc\u001b[0m\u001b[1;33m[\u001b[0m\u001b[0momics_mutations_df\u001b[0m\u001b[1;33m[\u001b[0m\u001b[1;34m'Sample_Status'\u001b[0m\u001b[1;33m]\u001b[0m \u001b[1;33m==\u001b[0m \u001b[1;34m'Tumor'\u001b[0m\u001b[1;33m]\u001b[0m\u001b[1;33m\u001b[0m\u001b[1;33m\u001b[0m\u001b[0m\n\u001b[0;32m     10\u001b[0m     \u001b[0mtotal_tumor_patients\u001b[0m \u001b[1;33m=\u001b[0m \u001b[0mlen\u001b[0m\u001b[1;33m(\u001b[0m\u001b[0mtumors\u001b[0m\u001b[1;33m)\u001b[0m\u001b[1;33m\u001b[0m\u001b[1;33m\u001b[0m\u001b[0m\n",
      "\u001b[1;32m~\\Anaconda3\\envs\\Research\\lib\\site-packages\\pandas\\core\\generic.py\u001b[0m in \u001b[0;36m__getattr__\u001b[1;34m(self, name)\u001b[0m\n\u001b[0;32m   5065\u001b[0m             \u001b[1;32mif\u001b[0m \u001b[0mself\u001b[0m\u001b[1;33m.\u001b[0m\u001b[0m_info_axis\u001b[0m\u001b[1;33m.\u001b[0m\u001b[0m_can_hold_identifiers_and_holds_name\u001b[0m\u001b[1;33m(\u001b[0m\u001b[0mname\u001b[0m\u001b[1;33m)\u001b[0m\u001b[1;33m:\u001b[0m\u001b[1;33m\u001b[0m\u001b[1;33m\u001b[0m\u001b[0m\n\u001b[0;32m   5066\u001b[0m                 \u001b[1;32mreturn\u001b[0m \u001b[0mself\u001b[0m\u001b[1;33m[\u001b[0m\u001b[0mname\u001b[0m\u001b[1;33m]\u001b[0m\u001b[1;33m\u001b[0m\u001b[1;33m\u001b[0m\u001b[0m\n\u001b[1;32m-> 5067\u001b[1;33m             \u001b[1;32mreturn\u001b[0m \u001b[0mobject\u001b[0m\u001b[1;33m.\u001b[0m\u001b[0m__getattribute__\u001b[0m\u001b[1;33m(\u001b[0m\u001b[0mself\u001b[0m\u001b[1;33m,\u001b[0m \u001b[0mname\u001b[0m\u001b[1;33m)\u001b[0m\u001b[1;33m\u001b[0m\u001b[1;33m\u001b[0m\u001b[0m\n\u001b[0m\u001b[0;32m   5068\u001b[0m \u001b[1;33m\u001b[0m\u001b[0m\n\u001b[0;32m   5069\u001b[0m     \u001b[1;32mdef\u001b[0m \u001b[0m__setattr__\u001b[0m\u001b[1;33m(\u001b[0m\u001b[0mself\u001b[0m\u001b[1;33m,\u001b[0m \u001b[0mname\u001b[0m\u001b[1;33m,\u001b[0m \u001b[0mvalue\u001b[0m\u001b[1;33m)\u001b[0m\u001b[1;33m:\u001b[0m\u001b[1;33m\u001b[0m\u001b[1;33m\u001b[0m\u001b[0m\n",
      "\u001b[1;31mAttributeError\u001b[0m: 'DataFrame' object has no attribute 'append_mutations_to_omics'"
     ]
    }
   ],
   "source": [
    "list1 = get_frequently_mutated(somatic, omics_mutations, proteomics, en)"
   ]
  },
  {
   "cell_type": "code",
   "execution_count": null,
   "metadata": {},
   "outputs": [],
   "source": []
  }
 ],
 "metadata": {
  "kernelspec": {
   "display_name": "Python 3",
   "language": "python",
   "name": "python3"
  },
  "language_info": {
   "codemirror_mode": {
    "name": "ipython",
    "version": 3
   },
   "file_extension": ".py",
   "mimetype": "text/x-python",
   "name": "python",
   "nbconvert_exporter": "python",
   "pygments_lexer": "ipython3",
   "version": "3.7.3"
  }
 },
 "nbformat": 4,
 "nbformat_minor": 2
}
