{
 "cells": [
  {
   "cell_type": "code",
   "execution_count": 1,
   "metadata": {},
   "outputs": [
    {
     "name": "stdout",
     "output_type": "stream",
     "text": [
      "Welcome to the CPTAC data service package. Available datasets may be\n",
      "viewed using CPTAC.list_data(). In order to access a specific data\n",
      "set, import a CPTAC subfolder using either 'import CPTAC.Dataset' or\n",
      "'from CPTAC import Dataset'.\n",
      "******\n",
      "Version: 0.3.0\n",
      "******\n",
      "Loading Endometrial CPTAC data:\n",
      "Loading Dictionary...\n",
      "Loading Clinical Data...\n",
      "Loading Acetylation Proteomics Data...\n",
      "Loading Proteomics Data...\n",
      "Loading Transcriptomics Data...\n",
      "Loading CNA Data...\n",
      "Loading Phosphoproteomics Data...\n",
      "Loading Somatic Mutation Data...\n",
      "\n",
      " ******PLEASE READ******\n",
      "WARNING: This data is under a publication embargo until July 1, 2019.\n",
      "CPTAC is a community resource project and data are made available\n",
      "rapidly after generation for community research use. The embargo\n",
      "allows exploring and utilizing the data, but the data may not be in a\n",
      "publication until July 1, 2019. Please see\n",
      "https://proteomics.cancer.gov/data-portal/about/data-use-agreement or\n",
      "enter embargo() to open the webpage for more details.\n"
     ]
    }
   ],
   "source": [
    "import pandas as pd\n",
    "import seaborn as sns\n",
    "import matplotlib.pyplot as plt\n",
    "\n",
    "import CPTAC.Endometrial as en"
   ]
  },
  {
   "cell_type": "code",
   "execution_count": 2,
   "metadata": {},
   "outputs": [],
   "source": [
    "def get_frequently_mutated(somatic_df, cutoff=.1):\n",
    "    \"\"\"take a data frame of somatic mutations and determine the frequently mutated genes\n",
    "        \n",
    "        Parameters:\n",
    "        somatic_df (pandas.core.frame.DataFrame): Somatic mutation dataframe.\n",
    "        cutoff (float): used as comparison to determine status of gene mutation frequency\n",
    "        \n",
    "        Returns:\n",
    "        freq_mutated (list): list of frequently mutated genes\"\"\"\n",
    "    \n",
    "     \n",
    "    gene_list = somatic_df['Gene']\n",
    "    total_count_genes = len(gene_list)\n",
    "    unique_genes = somatic_df['Gene'].unique() # get series of all mutated genes\n",
    "    freq_mutated = []\n",
    "    \n",
    "    for mutated_gene in unique_genes:\n",
    "        new = somatic_df.loc[somatic_df['Gene'] == mutated_gene]\n",
    "        count = len(new)\n",
    "        #compare ratio to the cutoff\n",
    "        if (count / total_count_genes) > cutoff:\n",
    "            freq_mutated.append(mutated_gene)\n",
    "\n",
    "    return freq_mutated\n",
    "           "
   ]
  },
  {
   "cell_type": "code",
   "execution_count": 3,
   "metadata": {},
   "outputs": [],
   "source": [
    "somatic = en.get_mutations()\n",
    "list1 = get_frequently_mutated(somatic, 0.0001)"
   ]
  },
  {
   "cell_type": "code",
   "execution_count": 4,
   "metadata": {},
   "outputs": [
    {
     "name": "stdout",
     "output_type": "stream",
     "text": [
      "2505\n"
     ]
    }
   ],
   "source": [
    "print(len(list1))"
   ]
  },
  {
   "cell_type": "code",
   "execution_count": null,
   "metadata": {},
   "outputs": [],
   "source": []
  }
 ],
 "metadata": {
  "kernelspec": {
   "display_name": "Python 3",
   "language": "python",
   "name": "python3"
  },
  "language_info": {
   "codemirror_mode": {
    "name": "ipython",
    "version": 3
   },
   "file_extension": ".py",
   "mimetype": "text/x-python",
   "name": "python",
   "nbconvert_exporter": "python",
   "pygments_lexer": "ipython3",
   "version": "3.7.3"
  }
 },
 "nbformat": 4,
 "nbformat_minor": 2
}
