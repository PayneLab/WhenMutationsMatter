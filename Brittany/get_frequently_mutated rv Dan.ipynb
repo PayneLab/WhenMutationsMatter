{
 "cells": [
  {
   "cell_type": "markdown",
   "metadata": {},
   "source": [
    "# get_frequently_mutated Final "
   ]
  },
  {
   "cell_type": "code",
   "execution_count": 56,
   "metadata": {},
   "outputs": [
    {
     "name": "stdout",
     "output_type": "stream",
     "text": [
      "Checking that data files are up-to-date...\n",
      "100% [..................................................................................] 649 / 649\n",
      "Data check complete.\n",
      "endometrial data version: 2.1\n",
      "\n",
      "Loading acetylproteomics data...\n",
      "Loading clinical data...\n",
      "Loading CNA data...\n",
      "Loading definitions data...\n",
      "Loading miRNA data...\n",
      "Loading phosphoproteomics_gene data...\n",
      "Loading phosphoproteomics_site data...\n",
      "Loading proteomics data...\n",
      "Loading somatic data...\n",
      "Loading somatic_binary data...\n",
      "Loading transcriptomics_circular data...\n",
      "Loading transcriptomics_linear data...\n",
      "\n",
      " ******PLEASE READ******\n",
      "WARNING: This data is under a publication embargo until July 1, 2019.\n",
      "CPTAC is a community resource project and data are made available\n",
      "rapidly after generation for community research use. The embargo\n",
      "allows exploring and utilizing the data, but analysis may not be\n",
      "published until July 1, 2019. Please see\n",
      "https://proteomics.cancer.gov/data-portal/about/data-use-agreement or\n",
      "enter cptac.embargo() to open the webpage for more details.\n"
     ]
    }
   ],
   "source": [
    "import cptac\n",
    "en = cptac.Endometrial()\n",
    "import pandas as pd\n",
    "import numpy as np"
   ]
  },
  {
   "cell_type": "code",
   "execution_count": 12,
   "metadata": {},
   "outputs": [],
   "source": [
    "def get_frequently_mutated(cancer_type, cutoff=.1):  \n",
    "    \"\"\"\n",
    "    take cancer object and find the frequently \n",
    "    mutated genes in total tumors compared to the cutoff.\n",
    "        \n",
    "        Parameters:\n",
    "        cancer_type (object): object of cancer class from cptac module \n",
    "        cutoff (float): used as comparison to determine status of gene mutation frequency\n",
    "        \n",
    "        Returns:\n",
    "        freq_mutated_df (pd.DataFrame): DataFrame of frequently mutated genes passing the cutoff\n",
    "            and Total_Mutated (mutated genes / total tumors), percent Truncated, and percent Missence\n",
    "        \n",
    "        There are many types of mutations catagorized into the columns Truncated and Missence. \n",
    "        The Truncated column includes: Frame_Shift_Del, Frame_Shift_Ins, Splice_Site, Nonsense_Mutation, Nonstop_Mutation\n",
    "        The Missence column includes: In_Frame_Del, In_Frame_Ins, Missense_Mutation\n",
    "        These columns count multiple mutations of one gene in the same sample, so percentages in the last two columns may \n",
    "        exceed the Total_Mutated column(which only counts if the gene was mutated once)\"\"\"    \n",
    "    \n",
    "    # get data frames\n",
    "    somatic_mutations = cancer_type.get_mutations()\n",
    "    sample_status_map = cancer_type._get_sample_status_map()\n",
    "    merged_mutations = somatic_mutations.join(sample_status_map, how=\"left\") \n",
    "    \"\"\"\n",
    "    # standardize mutation names \n",
    "    if cancer_type.get_tumor_type() == 'Colon':\n",
    "        mutation_equivalents = {'frameshift substitution': 'Frame_Shift_Del' , 'frameshift deletion': 'Frame_Shift_Del', \n",
    "            'frameshift insertion': 'Frame_Shift_Ins', 'stopgain': 'Nonsense_Mutation ', 'stoploss':'Nonstop_Mutation',\n",
    "            'nonsynonymous SNV': 'Missense_Mutation','nonframeshift insertion': 'In_Frame_Ins',\n",
    "            'nonframeshift deletion': 'In_Frame_Del', 'nonframeshift substitution': 'Missense_Mutation'}\n",
    "        merged_mutations = merged_mutations.replace(to_replace = mutation_equivalents)\n",
    "    \"\"\"  \n",
    "    # get list of unique genes\n",
    "    unique_genes = somatic_mutations['Gene'].unique()\n",
    "    \n",
    "    # get total tumors/patients\n",
    "    sample_status_series = sample_status_map.value_counts()\n",
    "    total_tumor_patients = sample_status_series[0]\n",
    "        \n",
    "    # find frequently mutated genes and their total mutated fraction. Create lists for frequently mutated genes and fraction.\n",
    "    freq_mut = [] # .where, pandas already vectorized, faster to use their function than a for loop\n",
    "    total_fraction_mutated = []\n",
    "    for gene in unique_genes:\n",
    "        gene_mutated = merged_mutations.loc[merged_mutations['Gene'] == gene]\n",
    "        gene_mutated = gene_mutated.index.unique()\n",
    "        num_gene_mutated = len(gene_mutated)\n",
    "        fraction = (num_gene_mutated / total_tumor_patients)\n",
    "        if fraction > cutoff:\n",
    "            freq_mut.append(gene)\n",
    "            total_fraction_mutated.append(fraction)\n",
    "    \n",
    "    # find truncated fraction\n",
    "    list_missence_mut = ['In_Frame_Del', 'In_Frame_Ins', 'Mutation']\n",
    "    \n",
    "    truncated = []\n",
    "    missence = []\n",
    "    for gene in freq_mut:\n",
    "        gene_mut = merged_mutations.loc[merged_mutations['Gene'] == gene] #possibly change var name\n",
    "        \n",
    "        truncated_df = gene_mut.loc[(gene_mut['Mutation'] not in list_missence_mut)]\n",
    "        samples_trunc = truncated_df.index.unique()\n",
    "        num_trunc_mut = len(samples_trunc)\n",
    "        fraction_trunc = (num_trunc_mut / total_tumor_patients)\n",
    "        truncated.append(fraction_trunc)\n",
    "        \n",
    "        missence_mutations = gene_mutated.loc[(gene_mutated['Mutation'] in list_missence_mut)]\n",
    "        samples_miss = missence_mutations.index.unique()\n",
    "        num_miss_mut = len(samples_miss)\n",
    "        fraction_miss = (num_miss_mut / total_tumor_patients)\n",
    "        missence.append(fraction_miss)\n",
    "        \n",
    "        \n",
    "    # create dataframe\n",
    "    merged_lists = list(zip(freq_mut, total_fraction_mutated, truncated, missence))\n",
    "    freq_mutated_df = pd.DataFrame(merged_lists, columns =['Gene', 'Fraction_Mutated', 'Truncation', 'Missence'])\n",
    "    freq_mutated_df.name = 'frequently_mutated'\n",
    "                   \n",
    "    return freq_mutated_df"
   ]
  },
  {
   "cell_type": "markdown",
   "metadata": {},
   "source": [
    "Test Endometrial"
   ]
  },
  {
   "cell_type": "code",
   "execution_count": 69,
   "metadata": {},
   "outputs": [
    {
     "data": {
      "text/plain": [
       "Index(['S001', 'S002', 'S003', 'S005', 'S006', 'S007', 'S008', 'S009', 'S010',\n",
       "       'S011', 'S012', 'S014', 'S016', 'S017', 'S018', 'S019', 'S020', 'S021',\n",
       "       'S022', 'S023', 'S024', 'S025', 'S026', 'S027', 'S028', 'S029', 'S030',\n",
       "       'S031', 'S032', 'S033', 'S034', 'S036', 'S037', 'S038', 'S039', 'S040',\n",
       "       'S041', 'S042', 'S044', 'S045', 'S046', 'S048', 'S049', 'S050', 'S051',\n",
       "       'S053', 'S054', 'S055', 'S056', 'S057', 'S058', 'S059', 'S060', 'S061',\n",
       "       'S062', 'S063', 'S064', 'S065', 'S066', 'S067', 'S068', 'S069', 'S070',\n",
       "       'S071', 'S072', 'S073', 'S074', 'S075', 'S076', 'S077', 'S078', 'S079',\n",
       "       'S080', 'S081', 'S082', 'S083', 'S084', 'S085', 'S086', 'S087', 'S088',\n",
       "       'S090', 'S091', 'S092', 'S093', 'S094', 'S095', 'S096', 'S097', 'S098',\n",
       "       'S099', 'S100', 'S101', 'S102', 'S103'],\n",
       "      dtype='object', name='Sample_ID')"
      ]
     },
     "execution_count": 69,
     "metadata": {},
     "output_type": "execute_result"
    }
   ],
   "source": [
    "somatic_mutations = en.get_mutations()\n",
    "somatic_mutations.head()\n",
    "somatic_mutations.index.drop_duplicates()"
   ]
  },
  {
   "cell_type": "code",
   "execution_count": 81,
   "metadata": {},
   "outputs": [
    {
     "data": {
      "text/plain": [
       "75"
      ]
     },
     "execution_count": 81,
     "metadata": {},
     "output_type": "execute_result"
    }
   ],
   "source": [
    "g = somatic_mutations.groupby('Gene').groups\n",
    "g\n",
    "g['PTEN'] = len(g['PTEN'].value_counts())\n",
    "#.size()\n"
   ]
  },
  {
   "cell_type": "code",
   "execution_count": 46,
   "metadata": {},
   "outputs": [
    {
     "data": {
      "text/html": [
       "<div>\n",
       "<style scoped>\n",
       "    .dataframe tbody tr th:only-of-type {\n",
       "        vertical-align: middle;\n",
       "    }\n",
       "\n",
       "    .dataframe tbody tr th {\n",
       "        vertical-align: top;\n",
       "    }\n",
       "\n",
       "    .dataframe thead th {\n",
       "        text-align: right;\n",
       "    }\n",
       "</style>\n",
       "<table border=\"1\" class=\"dataframe\">\n",
       "  <thead>\n",
       "    <tr style=\"text-align: right;\">\n",
       "      <th></th>\n",
       "      <th>class</th>\n",
       "      <th>order</th>\n",
       "      <th>max_speed</th>\n",
       "    </tr>\n",
       "  </thead>\n",
       "  <tbody>\n",
       "    <tr>\n",
       "      <th>falcon</th>\n",
       "      <td>bird</td>\n",
       "      <td>Falconiformes</td>\n",
       "      <td>389.0</td>\n",
       "    </tr>\n",
       "    <tr>\n",
       "      <th>parrot</th>\n",
       "      <td>bird</td>\n",
       "      <td>Psittaciformes</td>\n",
       "      <td>24.0</td>\n",
       "    </tr>\n",
       "    <tr>\n",
       "      <th>lion</th>\n",
       "      <td>mammal</td>\n",
       "      <td>Carnivora</td>\n",
       "      <td>80.2</td>\n",
       "    </tr>\n",
       "    <tr>\n",
       "      <th>monkey</th>\n",
       "      <td>mammal</td>\n",
       "      <td>Primates</td>\n",
       "      <td>NaN</td>\n",
       "    </tr>\n",
       "    <tr>\n",
       "      <th>leopard</th>\n",
       "      <td>mammal</td>\n",
       "      <td>Carnivora</td>\n",
       "      <td>58.0</td>\n",
       "    </tr>\n",
       "  </tbody>\n",
       "</table>\n",
       "</div>"
      ],
      "text/plain": [
       "          class           order  max_speed\n",
       "falcon     bird   Falconiformes      389.0\n",
       "parrot     bird  Psittaciformes       24.0\n",
       "lion     mammal       Carnivora       80.2\n",
       "monkey   mammal        Primates        NaN\n",
       "leopard  mammal       Carnivora       58.0"
      ]
     },
     "execution_count": 46,
     "metadata": {},
     "output_type": "execute_result"
    }
   ],
   "source": [
    "\n",
    "df = pd.DataFrame([('bird', 'Falconiformes', 389.0),\n",
    "                       ('bird', 'Psittaciformes', 24.0),\n",
    "                       ('mammal', 'Carnivora', 80.2),\n",
    "                       ('mammal', 'Primates', np.nan),\n",
    "                       ('mammal', 'Carnivora', 58)],\n",
    "                      index=['falcon', 'parrot', 'lion', 'monkey', 'leopard'],\n",
    "                      columns=('class', 'order', 'max_speed'))\n",
    "df"
   ]
  },
  {
   "cell_type": "code",
   "execution_count": 55,
   "metadata": {},
   "outputs": [
    {
     "data": {
      "text/html": [
       "<div>\n",
       "<style scoped>\n",
       "    .dataframe tbody tr th:only-of-type {\n",
       "        vertical-align: middle;\n",
       "    }\n",
       "\n",
       "    .dataframe tbody tr th {\n",
       "        vertical-align: top;\n",
       "    }\n",
       "\n",
       "    .dataframe thead th {\n",
       "        text-align: right;\n",
       "    }\n",
       "</style>\n",
       "<table border=\"1\" class=\"dataframe\">\n",
       "  <thead>\n",
       "    <tr style=\"text-align: right;\">\n",
       "      <th></th>\n",
       "      <th>class</th>\n",
       "      <th>order</th>\n",
       "      <th>max_speed</th>\n",
       "    </tr>\n",
       "  </thead>\n",
       "  <tbody>\n",
       "    <tr>\n",
       "      <th>falcon</th>\n",
       "      <td>bird</td>\n",
       "      <td>Falconiformes</td>\n",
       "      <td>389.0</td>\n",
       "    </tr>\n",
       "    <tr>\n",
       "      <th>parrot</th>\n",
       "      <td>bird</td>\n",
       "      <td>Psittaciformes</td>\n",
       "      <td>24.0</td>\n",
       "    </tr>\n",
       "    <tr>\n",
       "      <th>lion</th>\n",
       "      <td>mammal</td>\n",
       "      <td>Carnivora</td>\n",
       "      <td>80.2</td>\n",
       "    </tr>\n",
       "    <tr>\n",
       "      <th>monkey</th>\n",
       "      <td>mammal</td>\n",
       "      <td>Primates</td>\n",
       "      <td>NaN</td>\n",
       "    </tr>\n",
       "  </tbody>\n",
       "</table>\n",
       "</div>"
      ],
      "text/plain": [
       "         class           order  max_speed\n",
       "falcon    bird   Falconiformes      389.0\n",
       "parrot    bird  Psittaciformes       24.0\n",
       "lion    mammal       Carnivora       80.2\n",
       "monkey  mammal        Primates        NaN"
      ]
     },
     "execution_count": 55,
     "metadata": {},
     "output_type": "execute_result"
    }
   ],
   "source": [
    "d = df.groupby(['class'])\n",
    "d.head(2)"
   ]
  },
  {
   "cell_type": "code",
   "execution_count": 15,
   "metadata": {},
   "outputs": [
    {
     "ename": "NameError",
     "evalue": "name 'my_list' is not defined",
     "output_type": "error",
     "traceback": [
      "\u001b[1;31m---------------------------------------------------------------------------\u001b[0m",
      "\u001b[1;31mNameError\u001b[0m                                 Traceback (most recent call last)",
      "\u001b[1;32m<ipython-input-15-4e20a3d37c9d>\u001b[0m in \u001b[0;36m<module>\u001b[1;34m\u001b[0m\n\u001b[1;32m----> 1\u001b[1;33m \u001b[0mendo_freq_mutated_df\u001b[0m \u001b[1;33m=\u001b[0m \u001b[0mget_frequently_mutated\u001b[0m\u001b[1;33m(\u001b[0m\u001b[0men\u001b[0m\u001b[1;33m,\u001b[0m \u001b[1;36m.25\u001b[0m\u001b[1;33m)\u001b[0m\u001b[1;33m\u001b[0m\u001b[1;33m\u001b[0m\u001b[0m\n\u001b[0m",
      "\u001b[1;32m<ipython-input-12-4b64b524a9c9>\u001b[0m in \u001b[0;36mget_frequently_mutated\u001b[1;34m(cancer_type, cutoff)\u001b[0m\n\u001b[0;32m     57\u001b[0m     \u001b[1;32mfor\u001b[0m \u001b[0mgene\u001b[0m \u001b[1;32min\u001b[0m \u001b[0mfreq_mut\u001b[0m\u001b[1;33m:\u001b[0m\u001b[1;33m\u001b[0m\u001b[1;33m\u001b[0m\u001b[0m\n\u001b[0;32m     58\u001b[0m         \u001b[0mgene_mutated\u001b[0m \u001b[1;33m=\u001b[0m \u001b[0mmerged_mutations\u001b[0m\u001b[1;33m.\u001b[0m\u001b[0mloc\u001b[0m\u001b[1;33m[\u001b[0m\u001b[0mmerged_mutations\u001b[0m\u001b[1;33m[\u001b[0m\u001b[1;34m'Gene'\u001b[0m\u001b[1;33m]\u001b[0m \u001b[1;33m==\u001b[0m \u001b[0mgene\u001b[0m\u001b[1;33m]\u001b[0m \u001b[1;31m#possibly change var name\u001b[0m\u001b[1;33m\u001b[0m\u001b[1;33m\u001b[0m\u001b[0m\n\u001b[1;32m---> 59\u001b[1;33m         \u001b[0mtruncated_df\u001b[0m \u001b[1;33m=\u001b[0m \u001b[0mgene_mutated\u001b[0m\u001b[1;33m.\u001b[0m\u001b[0mloc\u001b[0m\u001b[1;33m[\u001b[0m\u001b[1;33m(\u001b[0m\u001b[0mgene_mutated\u001b[0m\u001b[1;33m[\u001b[0m\u001b[1;34m'Mutation'\u001b[0m\u001b[1;33m]\u001b[0m \u001b[1;32mnot\u001b[0m \u001b[1;32min\u001b[0m \u001b[0mmy_list\u001b[0m\u001b[1;33m)\u001b[0m\u001b[1;33m]\u001b[0m\u001b[1;33m\u001b[0m\u001b[1;33m\u001b[0m\u001b[0m\n\u001b[0m\u001b[0;32m     60\u001b[0m         \u001b[1;31m#truncated_df = gene_mutated.loc[(gene_mutated['Mutation'] != 'In_Frame_Del') &\u001b[0m\u001b[1;33m\u001b[0m\u001b[1;33m\u001b[0m\u001b[1;33m\u001b[0m\u001b[0m\n\u001b[0;32m     61\u001b[0m             \u001b[1;31m#(gene_mutated['Mutation'] != 'In_Frame_Ins') & (gene_mutated['Mutation'] != 'Missense_Mutation')]\u001b[0m\u001b[1;33m\u001b[0m\u001b[1;33m\u001b[0m\u001b[1;33m\u001b[0m\u001b[0m\n",
      "\u001b[1;31mNameError\u001b[0m: name 'my_list' is not defined"
     ]
    }
   ],
   "source": [
    "endo_freq_mutated_df = get_frequently_mutated(en, .25)"
   ]
  },
  {
   "cell_type": "code",
   "execution_count": null,
   "metadata": {},
   "outputs": [],
   "source": [
    "endo_freq_mutated_df\n"
   ]
  },
  {
   "cell_type": "markdown",
   "metadata": {},
   "source": [
    "Test Colon"
   ]
  },
  {
   "cell_type": "code",
   "execution_count": null,
   "metadata": {},
   "outputs": [
    {
     "name": "stdout",
     "output_type": "stream",
     "text": [
      "You have loaded the cptac colon dataset. To view available dataframes,\n",
      "use cptac.colon.list_data(). To view available functions for accessing\n",
      "and manipulating the dataframes, use cptac.colon.list_api().\n",
      "colon data version: Most recent release\n",
      "\n",
      "Loading cptac colon data:\n",
      "Loading clinical data...\n",
      "Loading miRNA data...\n",
      "Loading mutation data...\n",
      "Loading mutation_binary data...\n",
      "Loading phosphoproteomics_normal data...\n",
      "Loading phosphoproteomics_tumor data...\n",
      "Loading proteomics_normal data...\n",
      "Loading proteomics_tumor data...\n",
      "Loading transcriptomics data...\n"
     ]
    }
   ],
   "source": [
    "colon_freq_mutated_df = get_frequently_mutated(\"colon\")"
   ]
  },
  {
   "cell_type": "code",
   "execution_count": null,
   "metadata": {},
   "outputs": [],
   "source": [
    "colon_freq_mutated_df"
   ]
  },
  {
   "cell_type": "markdown",
   "metadata": {},
   "source": [
    "Test Ovarian"
   ]
  },
  {
   "cell_type": "code",
   "execution_count": 4,
   "metadata": {},
   "outputs": [
    {
     "name": "stdout",
     "output_type": "stream",
     "text": [
      "Welcome to the cptac data service package. Available datasets may be\n",
      "viewed using cptac.list_data(). In order to access a specific data\n",
      "set, import a cptac subfolder using either 'import cptac.dataset' or\n",
      "'from cptac import dataset'.\n",
      "******\n",
      "Version: 0.4.1\n",
      "******\n",
      "You have loaded the cptac ovarian dataset. To view available\n",
      "dataframes, use cptac.ovarian.list_data(). To view available functions\n",
      "for accessing and manipulating the dataframes, use\n",
      "cptac.ovarian.list_api().\n",
      "ovarian data version: Most recent release\n",
      "\n",
      "Loading cptac ovarian data:\n",
      "Loading clinical data...\n",
      "Loading cnv data...\n",
      "Loading phosphoproteomics data...\n",
      "Loading proteomics data...\n",
      "Loading somatic_38 data...\n",
      "Loading transcriptomics data...\n",
      "Loading treatment data...\n",
      "\n",
      " ******PLEASE READ******\n",
      "WARNING: This data is under a publication embargo until June 1, 2019.\n",
      "CPTAC is a community resource project and data are made available\n",
      "rapidly after generation for community research use. The embargo\n",
      "allows exploring and utilizing the data, but the data may not be in a\n",
      "publication until June 1, 2019. Please see\n",
      "https://proteomics.cancer.gov/data-portal/about/data-use-agreement or\n",
      "enter embargo() to open the webpage for more details.\n"
     ]
    }
   ],
   "source": [
    "ovarian_freq_mutated_df = get_frequently_mutated(\"ovarian\")"
   ]
  },
  {
   "cell_type": "code",
   "execution_count": 5,
   "metadata": {},
   "outputs": [
    {
     "data": {
      "text/html": [
       "<div>\n",
       "<style scoped>\n",
       "    .dataframe tbody tr th:only-of-type {\n",
       "        vertical-align: middle;\n",
       "    }\n",
       "\n",
       "    .dataframe tbody tr th {\n",
       "        vertical-align: top;\n",
       "    }\n",
       "\n",
       "    .dataframe thead th {\n",
       "        text-align: right;\n",
       "    }\n",
       "</style>\n",
       "<table border=\"1\" class=\"dataframe\">\n",
       "  <thead>\n",
       "    <tr style=\"text-align: right;\">\n",
       "      <th></th>\n",
       "      <th>Gene</th>\n",
       "      <th>Fraction_Mutated</th>\n",
       "      <th>Truncation</th>\n",
       "      <th>Missence</th>\n",
       "    </tr>\n",
       "  </thead>\n",
       "  <tbody>\n",
       "    <tr>\n",
       "      <th>0</th>\n",
       "      <td>TTN</td>\n",
       "      <td>0.279279</td>\n",
       "      <td>0.135135</td>\n",
       "      <td>0.198198</td>\n",
       "    </tr>\n",
       "    <tr>\n",
       "      <th>1</th>\n",
       "      <td>TP53</td>\n",
       "      <td>0.693694</td>\n",
       "      <td>0.243243</td>\n",
       "      <td>0.450450</td>\n",
       "    </tr>\n",
       "    <tr>\n",
       "      <th>2</th>\n",
       "      <td>MUC16</td>\n",
       "      <td>0.144144</td>\n",
       "      <td>0.054054</td>\n",
       "      <td>0.108108</td>\n",
       "    </tr>\n",
       "    <tr>\n",
       "      <th>3</th>\n",
       "      <td>MT-CO1</td>\n",
       "      <td>0.117117</td>\n",
       "      <td>0.027027</td>\n",
       "      <td>0.090090</td>\n",
       "    </tr>\n",
       "    <tr>\n",
       "      <th>4</th>\n",
       "      <td>MT-ND5</td>\n",
       "      <td>0.144144</td>\n",
       "      <td>0.081081</td>\n",
       "      <td>0.063063</td>\n",
       "    </tr>\n",
       "    <tr>\n",
       "      <th>5</th>\n",
       "      <td>FCGBP</td>\n",
       "      <td>0.108108</td>\n",
       "      <td>0.054054</td>\n",
       "      <td>0.063063</td>\n",
       "    </tr>\n",
       "    <tr>\n",
       "      <th>6</th>\n",
       "      <td>MUC5B</td>\n",
       "      <td>0.108108</td>\n",
       "      <td>0.027027</td>\n",
       "      <td>0.081081</td>\n",
       "    </tr>\n",
       "    <tr>\n",
       "      <th>7</th>\n",
       "      <td>MUC4</td>\n",
       "      <td>0.306306</td>\n",
       "      <td>0.135135</td>\n",
       "      <td>0.234234</td>\n",
       "    </tr>\n",
       "    <tr>\n",
       "      <th>8</th>\n",
       "      <td>MUC17</td>\n",
       "      <td>0.126126</td>\n",
       "      <td>0.036036</td>\n",
       "      <td>0.108108</td>\n",
       "    </tr>\n",
       "    <tr>\n",
       "      <th>9</th>\n",
       "      <td>NCOR2</td>\n",
       "      <td>0.108108</td>\n",
       "      <td>0.081081</td>\n",
       "      <td>0.027027</td>\n",
       "    </tr>\n",
       "    <tr>\n",
       "      <th>10</th>\n",
       "      <td>MUC12</td>\n",
       "      <td>0.108108</td>\n",
       "      <td>0.036036</td>\n",
       "      <td>0.108108</td>\n",
       "    </tr>\n",
       "  </tbody>\n",
       "</table>\n",
       "</div>"
      ],
      "text/plain": [
       "      Gene  Fraction_Mutated  Truncation  Missence\n",
       "0      TTN          0.279279    0.135135  0.198198\n",
       "1     TP53          0.693694    0.243243  0.450450\n",
       "2    MUC16          0.144144    0.054054  0.108108\n",
       "3   MT-CO1          0.117117    0.027027  0.090090\n",
       "4   MT-ND5          0.144144    0.081081  0.063063\n",
       "5    FCGBP          0.108108    0.054054  0.063063\n",
       "6    MUC5B          0.108108    0.027027  0.081081\n",
       "7     MUC4          0.306306    0.135135  0.234234\n",
       "8    MUC17          0.126126    0.036036  0.108108\n",
       "9    NCOR2          0.108108    0.081081  0.027027\n",
       "10   MUC12          0.108108    0.036036  0.108108"
      ]
     },
     "execution_count": 5,
     "metadata": {},
     "output_type": "execute_result"
    }
   ],
   "source": [
    "ovarian_freq_mutated_df"
   ]
  },
  {
   "cell_type": "code",
   "execution_count": null,
   "metadata": {},
   "outputs": [],
   "source": []
  }
 ],
 "metadata": {
  "kernelspec": {
   "display_name": "Python 3",
   "language": "python",
   "name": "python3"
  },
  "language_info": {
   "codemirror_mode": {
    "name": "ipython",
    "version": 3
   },
   "file_extension": ".py",
   "mimetype": "text/x-python",
   "name": "python",
   "nbconvert_exporter": "python",
   "pygments_lexer": "ipython3",
   "version": "3.7.3"
  }
 },
 "nbformat": 4,
 "nbformat_minor": 2
}
