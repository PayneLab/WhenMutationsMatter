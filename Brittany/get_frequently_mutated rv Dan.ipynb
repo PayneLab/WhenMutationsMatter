{
 "cells": [
  {
   "cell_type": "markdown",
   "metadata": {},
   "source": [
    "# get_frequently_mutated Final "
   ]
  },
  {
   "cell_type": "code",
   "execution_count": 5,
   "metadata": {},
   "outputs": [
    {
     "name": "stdout",
     "output_type": "stream",
     "text": [
      "\u001b[Kding treatment data...ata........\r"
     ]
    }
   ],
   "source": [
    "import cptac\n",
    "#en = cptac.Endometrial()\n",
    "#cptac.sync('endometrial', version='2.1')\n",
    "ov = cptac.Ovarian()\n",
    "#cptac.sync(dataset='ovarian', version='0.0')\n",
    "#cptac.sync(dataset='colon', version='0.0')\n",
    "#co = cptac.Colon()\n",
    "\n",
    "import pandas as pd\n",
    "import numpy as np"
   ]
  },
  {
   "cell_type": "code",
   "execution_count": 51,
   "metadata": {},
   "outputs": [],
   "source": [
    "def get_frequently_mutated(cancer_object, cutoff = 0.1):  \n",
    "    \"\"\"\n",
    "    take cancer object and find the frequently \n",
    "    mutated genes in the total tumors compared to the cutoff.\n",
    "\n",
    "    Parameters:\n",
    "    cancer_object (object): cancer class object from cptac module \n",
    "    cutoff (float): used as comparison to determine the \n",
    "                    status of gene mutation frequency\n",
    "\n",
    "    Returns:\n",
    "    freq_mutated_df (pd.DataFrame): DataFrame of frequently \n",
    "        mutated genes passing the cutoff. Columns contain the \n",
    "        fractions of total unique mutations,missence type \n",
    "        mutations, and truncation type mutations per gene.\n",
    "    \n",
    "    The Missence_Mut column includes: \n",
    "        In_Frame_Del, In_Frame_Ins, Missense_Mutation\n",
    "   \n",
    "   The Truncation_Mut column includes: \n",
    "        Frame_Shift_Del, Frame_Shift_Ins, Splice_Site, \n",
    "        Nonsense_Mutation, Nonstop_Mutation\n",
    "        \n",
    "    These columns count multiple mutations of one gene in the \n",
    "    same sample, so fractions in the last two columns may \n",
    "    exceed the Unique_Samples_Mut column which only counts if \n",
    "    the gene was mutated once per sample.\"\"\"    \n",
    "    \n",
    "    # Get mutations data frame (whole exome sequencing)\n",
    "    somatic_mutations = cancer_object.get_mutations()\n",
    "    sample_status_map = cancer_object._get_sample_status_map()\n",
    "         \n",
    "    # Get total tumors/patients\n",
    "    sample_status_count = sample_status_map.value_counts().reset_index()\n",
    "    tumors = sample_status_count.loc[sample_status_count['index'] == 'Tumor']\n",
    "    total_tumor_patients = tumors.iloc[0,1] #number of tumors \n",
    "    print(total_tumor_patients)\n",
    "    # Find frequently mutated genes and their fraction of unique mutated samples.\n",
    "    #move 'Sample_ID' from index to column\n",
    "    origin_df = somatic_mutations.reset_index()\n",
    "    \n",
    "    # Drop silent mutations for Ovarian dataset\n",
    "    if cancer_object.get_cancer_type() == 'ovarian':\n",
    "        origin_df = origin_df.loc[origin_df['Mutation'] != 'Silent']\n",
    "        #print(origin_df['Mutation'].unique())\n",
    "        \n",
    "    #group by gene and count unique samples\n",
    "    count_mutations = origin_df.groupby(['Gene']).nunique()\n",
    "\n",
    "    #format\n",
    "    count_mutations = count_mutations.rename(columns={\"Sample_ID\": \"Unique_Samples_Mut\"})\n",
    "    count_mutations = count_mutations.drop(['Gene', 'Mutation','Location'], axis = 1)\n",
    "    \n",
    "    #filter using the cutoff and create fraction\n",
    "    fraction_mutated = count_mutations.apply(lambda x: x / total_tumor_patients)\n",
    "    fraction_greater_than_cutoff = fraction_mutated.where(lambda x: x > cutoff) #na used when false\n",
    "    filtered_gene_df = fraction_greater_than_cutoff.dropna()\n",
    "    \n",
    "    \n",
    "    #Create Missence and Trucation data frame\n",
    "    \n",
    "    #create two categories in Mutation column\n",
    "    if cancer_object.get_cancer_type() == 'colon':\n",
    "        missence_truncation_groups = {'frameshift substitution': 'T', \n",
    "            'frameshift deletion': 'T', 'frameshift insertion': 'T', \n",
    "            'stopgain': 'T', 'stoploss': 'T', 'nonsynonymous SNV': 'M',\n",
    "            'nonframeshift insertion': 'M','nonframeshift deletion': 'M', \n",
    "            'nonframeshift substitution': 'M'}\n",
    "    else: \n",
    "        missence_truncation_groups = {'In_Frame_Del': 'M', 'In_Frame_Ins': 'M',\n",
    "            'Missense_Mutation': 'M', 'Frame_Shift_Del': 'T','Nonsense_Mutation': 'T', \n",
    "            'Splice_Site': 'T', 'Frame_Shift_Ins': 'T','Nonstop_Mutation':'T'}\n",
    "       \n",
    "    mutations_replaced_M_T = origin_df.replace(missence_truncation_groups)\n",
    "    \n",
    "    # group mutation categories\n",
    "    miss = mutations_replaced_M_T.loc[mutations_replaced_M_T['Mutation'] == 'M']\n",
    "    trunc = mutations_replaced_M_T.loc[mutations_replaced_M_T['Mutation'] == 'T']\n",
    "\n",
    "    # group by gene and count unique samples for both categories\n",
    "    count_miss = miss.groupby(['Gene']).nunique()\n",
    "    count_trunc = trunc.groupby(['Gene']).nunique()\n",
    "\n",
    "    #format\n",
    "    missence_df = count_miss.rename(columns={\"Sample_ID\": \"Missence_Mut\"})\n",
    "    missence_df = missence_df.drop(['Gene', 'Mutation', 'Location'], axis = 1)\n",
    "\n",
    "    truncation_df = count_trunc.rename(columns={\"Sample_ID\": \"Truncation_Mut\"})\n",
    "    truncation_df = truncation_df.drop(['Gene', 'Mutation', 'Location'], axis = 1)\n",
    "\n",
    "    #join miss and trunc and change nan to 0, then divide by total tumors\n",
    "    join_mutations = missence_df.join(truncation_df).fillna(0)\n",
    "    missence_and_truncation_df = join_mutations.apply(lambda x: x / total_tumor_patients)\n",
    "\n",
    "\n",
    "    #Join data frames, keeping only the genes that passed the cutoff \n",
    "    freq_mutated_df = filtered_gene_df.join(missence_and_truncation_df).reset_index()\n",
    "    freq_mutated_df.name = 'frequently_mutated'\n",
    "    \n",
    "    return freq_mutated_df"
   ]
  },
  {
   "cell_type": "markdown",
   "metadata": {},
   "source": [
    "Test Colon"
   ]
  },
  {
   "cell_type": "code",
   "execution_count": 52,
   "metadata": {},
   "outputs": [
    {
     "name": "stdout",
     "output_type": "stream",
     "text": [
      "111\n"
     ]
    }
   ],
   "source": [
    "df = get_frequently_mutated(ov, .1)"
   ]
  },
  {
   "cell_type": "code",
   "execution_count": 53,
   "metadata": {},
   "outputs": [
    {
     "data": {
      "text/html": [
       "<div>\n",
       "<style scoped>\n",
       "    .dataframe tbody tr th:only-of-type {\n",
       "        vertical-align: middle;\n",
       "    }\n",
       "\n",
       "    .dataframe tbody tr th {\n",
       "        vertical-align: top;\n",
       "    }\n",
       "\n",
       "    .dataframe thead th {\n",
       "        text-align: right;\n",
       "    }\n",
       "</style>\n",
       "<table border=\"1\" class=\"dataframe\">\n",
       "  <thead>\n",
       "    <tr style=\"text-align: right;\">\n",
       "      <th></th>\n",
       "      <th>Gene</th>\n",
       "      <th>Unique_Samples_Mut</th>\n",
       "      <th>Missence_Mut</th>\n",
       "      <th>Truncation_Mut</th>\n",
       "    </tr>\n",
       "  </thead>\n",
       "  <tbody>\n",
       "    <tr>\n",
       "      <th>0</th>\n",
       "      <td>MUC12</td>\n",
       "      <td>0.108108</td>\n",
       "      <td>0.108108</td>\n",
       "      <td>0.009009</td>\n",
       "    </tr>\n",
       "    <tr>\n",
       "      <th>1</th>\n",
       "      <td>MUC16</td>\n",
       "      <td>0.108108</td>\n",
       "      <td>0.108108</td>\n",
       "      <td>0.009009</td>\n",
       "    </tr>\n",
       "    <tr>\n",
       "      <th>2</th>\n",
       "      <td>MUC17</td>\n",
       "      <td>0.108108</td>\n",
       "      <td>0.108108</td>\n",
       "      <td>0.000000</td>\n",
       "    </tr>\n",
       "    <tr>\n",
       "      <th>3</th>\n",
       "      <td>MUC4</td>\n",
       "      <td>0.243243</td>\n",
       "      <td>0.234234</td>\n",
       "      <td>0.009009</td>\n",
       "    </tr>\n",
       "    <tr>\n",
       "      <th>4</th>\n",
       "      <td>TP53</td>\n",
       "      <td>0.693694</td>\n",
       "      <td>0.450450</td>\n",
       "      <td>0.243243</td>\n",
       "    </tr>\n",
       "    <tr>\n",
       "      <th>5</th>\n",
       "      <td>TTN</td>\n",
       "      <td>0.225225</td>\n",
       "      <td>0.198198</td>\n",
       "      <td>0.063063</td>\n",
       "    </tr>\n",
       "  </tbody>\n",
       "</table>\n",
       "</div>"
      ],
      "text/plain": [
       "    Gene  Unique_Samples_Mut  Missence_Mut  Truncation_Mut\n",
       "0  MUC12            0.108108      0.108108        0.009009\n",
       "1  MUC16            0.108108      0.108108        0.009009\n",
       "2  MUC17            0.108108      0.108108        0.000000\n",
       "3   MUC4            0.243243      0.234234        0.009009\n",
       "4   TP53            0.693694      0.450450        0.243243\n",
       "5    TTN            0.225225      0.198198        0.063063"
      ]
     },
     "execution_count": 53,
     "metadata": {},
     "output_type": "execute_result"
    }
   ],
   "source": [
    "df"
   ]
  },
  {
   "cell_type": "code",
   "execution_count": 58,
   "metadata": {},
   "outputs": [
    {
     "name": "stdout",
     "output_type": "stream",
     "text": [
      "          Gene           Mutation         Location\n",
      "Sample_ID                                         \n",
      "S002       TTN  Missense_Mutation        p.P25604T\n",
      "S009       TTN        Splice_Site   p.X8828_splice\n",
      "S009       TTN  Missense_Mutation         p.M2411K\n",
      "S013       TTN             Silent        p.S14806S\n",
      "S013       TTN  Nonsense_Mutation         p.R7040*\n",
      "S015       TTN  Missense_Mutation        p.P27473S\n",
      "S022       TTN    Frame_Shift_Ins    p.N25635Kfs*5\n",
      "S028       TTN             Silent         p.K6047K\n",
      "S029       TTN             Silent         p.V8411V\n",
      "S037       TTN  Missense_Mutation        p.F31025L\n",
      "S038       TTN  Missense_Mutation        p.S31594R\n",
      "S038       TTN    Frame_Shift_Del    p.S22176Lfs*7\n",
      "S038       TTN  Missense_Mutation        p.A12166P\n",
      "S041       TTN             Silent         p.A8541A\n",
      "S046       TTN  Missense_Mutation        p.L14165V\n",
      "S046       TTN  Missense_Mutation         p.R9840C\n",
      "S047       TTN  Missense_Mutation          p.E465Q\n",
      "S051       TTN  Missense_Mutation        p.P19878S\n",
      "S054       TTN             Silent        p.K12951K\n",
      "S054       TTN  Missense_Mutation        p.E12142K\n",
      "S054       TTN  Missense_Mutation        p.L12137S\n",
      "S056       TTN  Missense_Mutation        p.P13011T\n",
      "S062       TTN  Missense_Mutation        p.T20493I\n",
      "S063       TTN        Splice_Site  p.X11877_splice\n",
      "S066       TTN  Missense_Mutation        p.I32071T\n",
      "S066       TTN  Missense_Mutation         p.G5464V\n",
      "S071       TTN  Missense_Mutation         p.C8217S\n",
      "S071       TTN             Silent         p.S3863S\n",
      "S071       TTN    Frame_Shift_Del    p.M3392Lfs*25\n",
      "S074       TTN             Silent        p.E31795E\n",
      "...        ...                ...              ...\n",
      "S080       TTN  Missense_Mutation        p.P12083H\n",
      "S080       TTN  Nonsense_Mutation        p.E11171*\n",
      "S080       TTN  Missense_Mutation        p.R10072I\n",
      "S080       TTN             Silent         p.F8821F\n",
      "S080       TTN  Nonsense_Mutation         p.E8578*\n",
      "S080       TTN  Missense_Mutation         p.E7648K\n",
      "S080       TTN  Missense_Mutation         p.Q7466H\n",
      "S080       TTN  Nonsense_Mutation         p.E5886*\n",
      "S080       TTN  Missense_Mutation         p.R5812I\n",
      "S080       TTN  Missense_Mutation         p.D4317N\n",
      "S080       TTN  Missense_Mutation         p.T3210I\n",
      "S080       TTN  Missense_Mutation         p.E3071D\n",
      "S080       TTN  Missense_Mutation         p.Q2629H\n",
      "S080       TTN             Silent         p.I2485I\n",
      "S080       TTN  Missense_Mutation         p.S2409Y\n",
      "S080       TTN  Nonsense_Mutation         p.E2285*\n",
      "S080       TTN             Silent         p.V2099V\n",
      "S080       TTN  Missense_Mutation         p.Q1701H\n",
      "S080       TTN  Missense_Mutation         p.R1003H\n",
      "S084       TTN  Missense_Mutation         p.L8666P\n",
      "S090       TTN             Silent        p.L21646L\n",
      "S095       TTN             Silent        p.Q29169Q\n",
      "S096       TTN  Missense_Mutation         p.E9605Q\n",
      "S097       TTN  Missense_Mutation        p.P35903L\n",
      "S097       TTN  Missense_Mutation        p.D34870E\n",
      "S100       TTN  Missense_Mutation         p.G9393R\n",
      "S101       TTN  Missense_Mutation         p.L3021H\n",
      "S108       TTN  Missense_Mutation        p.P30018A\n",
      "S108       TTN  Missense_Mutation        p.T27422I\n",
      "S110       TTN  Missense_Mutation         p.G7058S\n",
      "\n",
      "[80 rows x 3 columns]\n",
      "31\n"
     ]
    },
    {
     "data": {
      "text/plain": [
       "{'Frame_Shift_Del': Index(['S038', 'S071'], dtype='object', name='Sample_ID'),\n",
       " 'Frame_Shift_Ins': Index(['S022'], dtype='object', name='Sample_ID'),\n",
       " 'Missense_Mutation': Index(['S002', 'S009', 'S015', 'S037', 'S038', 'S038', 'S046', 'S046', 'S047',\n",
       "        'S051', 'S054', 'S054', 'S056', 'S062', 'S066', 'S066', 'S071', 'S078',\n",
       "        'S080', 'S080', 'S080', 'S080', 'S080', 'S080', 'S080', 'S080', 'S080',\n",
       "        'S080', 'S080', 'S080', 'S080', 'S080', 'S080', 'S080', 'S080', 'S080',\n",
       "        'S080', 'S080', 'S080', 'S080', 'S080', 'S080', 'S080', 'S084', 'S096',\n",
       "        'S097', 'S097', 'S100', 'S101', 'S108', 'S108', 'S110'],\n",
       "       dtype='object', name='Sample_ID'),\n",
       " 'Nonsense_Mutation': Index(['S013', 'S080', 'S080', 'S080', 'S080', 'S080'], dtype='object', name='Sample_ID'),\n",
       " 'Silent': Index(['S013', 'S028', 'S029', 'S041', 'S054', 'S071', 'S074', 'S078', 'S080',\n",
       "        'S080', 'S080', 'S080', 'S080', 'S080', 'S090', 'S095'],\n",
       "       dtype='object', name='Sample_ID'),\n",
       " 'Splice_Site': Index(['S009', 'S063', 'S080'], dtype='object', name='Sample_ID')}"
      ]
     },
     "execution_count": 58,
     "metadata": {},
     "output_type": "execute_result"
    }
   ],
   "source": [
    "#test results\n",
    "m = ov.get_mutations()\n",
    "gene = 'TTN'\n",
    "g = m.loc[m['Gene'] == gene]\n",
    "print(g)\n",
    "print(len(g.index.unique()))\n",
    "\n",
    "r = g.groupby('Mutation')\n",
    "\n",
    "r.groups\n"
   ]
  },
  {
   "cell_type": "markdown",
   "metadata": {},
   "source": [
    "Test Colon"
   ]
  },
  {
   "cell_type": "code",
   "execution_count": null,
   "metadata": {},
   "outputs": [],
   "source": [
    "colon_freq_mutated_df = get_frequently_mutated(cancer, .25)"
   ]
  },
  {
   "cell_type": "code",
   "execution_count": null,
   "metadata": {},
   "outputs": [],
   "source": [
    "colon_freq_mutated_df"
   ]
  },
  {
   "cell_type": "markdown",
   "metadata": {},
   "source": [
    "Test Ovarian"
   ]
  },
  {
   "cell_type": "code",
   "execution_count": null,
   "metadata": {},
   "outputs": [],
   "source": [
    "ovarian_freq_mutated_df = get_frequently_mutated(ov,.1)"
   ]
  },
  {
   "cell_type": "code",
   "execution_count": null,
   "metadata": {},
   "outputs": [],
   "source": [
    "ovarian_freq_mutated_df"
   ]
  },
  {
   "cell_type": "code",
   "execution_count": null,
   "metadata": {},
   "outputs": [],
   "source": []
  }
 ],
 "metadata": {
  "kernelspec": {
   "display_name": "Python 3",
   "language": "python",
   "name": "python3"
  },
  "language_info": {
   "codemirror_mode": {
    "name": "ipython",
    "version": 3
   },
   "file_extension": ".py",
   "mimetype": "text/x-python",
   "name": "python",
   "nbconvert_exporter": "python",
   "pygments_lexer": "ipython3",
   "version": "3.7.3"
  }
 },
 "nbformat": 4,
 "nbformat_minor": 2
}
