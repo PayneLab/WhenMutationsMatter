{
 "cells": [
  {
   "cell_type": "markdown",
   "metadata": {},
   "source": [
    "# get_frequently_mutated Final "
   ]
  },
  {
   "cell_type": "code",
   "execution_count": 1,
   "metadata": {},
   "outputs": [],
   "source": [
    "def get_frequently_mutated(cancer_type, cutoff=.1):  \n",
    "    \"\"\"take cancer type to import cptac and find the frequently mutated genes in total tumors compared to the cutoff.\n",
    "        \n",
    "        Parameters:\n",
    "        cancer_type (string): type of  cancer \n",
    "        cutoff (float): used as comparison to determine status of gene mutation frequency\n",
    "        \n",
    "        Returns:\n",
    "        freq_mutated_df (pd.DataFrame): DataFrame of frequently mutated genes passing the cutoff\n",
    "            and percent mutated (mutated genes / total tumors), percent Truncated, percent Missence\n",
    "        \n",
    "        There are many types of mutations catagorized into the columns 'Truncated' and 'Missence'. \n",
    "        The Truncated column includes: Frame_Shift_Del, Frame_Shift_Ins, Splice_Site, Nonsense_Mutation, Nonstop_Mutation\n",
    "        The Missence column includes: In_Frame_Del, In_Frame_Ins, Missense_Mutation\n",
    "        These columns count multiple mutations of one gene in the same sample, so percentages in the last two columns may \n",
    "        exceed the total percent mutated (which only counts if the gene was mutated once)\n",
    "            \"\"\" \n",
    "    \n",
    "    # import CPTAC and pandas\n",
    "    \n",
    "    import pandas as pd\n",
    "    colon = False\n",
    "    if cancer_type == \"endometrial\" or cancer_type == \"Endometrial\":\n",
    "        import cptac.endometrial as cptac\n",
    "        \n",
    "    elif cancer_type == \"colon\" or cancer_type == \"Colon\":\n",
    "        import cptac.colon as cptac\n",
    "        colon = True\n",
    "        \n",
    "    elif cancer_type == \"ovarian\" or cancer_type == \"Ovarian\":\n",
    "        import cptac.ovarian as cptac\n",
    "    \n",
    "    else:\n",
    "        str_cancer_options = '\\n' + 'Options: endometrial, ovarian, colon'\n",
    "        print(\"Please enter a valid cancer type.\", str_cancer_options)\n",
    "        return 0\n",
    "    \n",
    "    # get data frames\n",
    "    somatic_mutations = cptac.get_mutations()\n",
    "    proteomics = cptac.get_proteomics()\n",
    "    sample_status_map = cptac.get_sample_status_map()\n",
    "    merged_mutations = somatic_mutations.join(sample_status_map, how=\"left\") \n",
    "    \n",
    "    # standardize mutation names \n",
    "    if colon == True:\n",
    "        mutation_equivalents = {'frameshift substitution': 'Frame_Shift_Del' , 'frameshift deletion': 'Frame_Shift_Del', \n",
    "            'frameshift insertion': 'Frame_Shift_Ins', 'stopgain': 'Nonsense_Mutation ', 'stoploss':'Nonstop_Mutation',\n",
    "            'nonsynonymous SNV': 'Missense_Mutation','nonframeshift insertion': 'In_Frame_Ins',\n",
    "            'nonframeshift deletion': 'In_Frame_Del', 'nonframeshift substitution': 'Missense_Mutation'}\n",
    "        merged_mutations = merged_mutations.replace(to_replace = mutation_equivalents)\n",
    "        \n",
    "    # get list of unique genes\n",
    "    unique_genes = somatic_mutations['Gene'].unique()\n",
    "    \n",
    "    # get total tumors/patients\n",
    "    sample_status_series = sample_status_map.value_counts()\n",
    "    total_tumor_patients = sample_status_series[0]\n",
    "        \n",
    "    # find frequently mutated genes and their percent mutated. Create lists for frequently mutated genes and percentage.\n",
    "    freq_mut = []\n",
    "    total_percent_mutated = []\n",
    "    for gene in unique_genes:\n",
    "        gene_mutated = merged_mutations.loc[merged_mutations['Gene'] == gene]\n",
    "        gene_mutated = gene_mutated.index.unique()\n",
    "        num_gene_mutated = len(gene_mutated)\n",
    "        percentage = (num_gene_mutated / total_tumor_patients)\n",
    "        if percentage > cutoff:\n",
    "            freq_mut.append(gene)\n",
    "            total_percent_mutated.append(percentage)\n",
    "    \n",
    "    # find truncated percentage\n",
    "    truncated = []\n",
    "    missence = []\n",
    "    sample_overlap = []\n",
    "    \n",
    "    for gene in freq_mut:\n",
    "        gene_mutated = merged_mutations.loc[merged_mutations['Gene'] == gene]\n",
    "        \n",
    "        # trunc\n",
    "        truncated_df = gene_mutated.loc[(gene_mutated['Mutation'] != 'In_Frame_Del') & \n",
    "            (gene_mutated['Mutation'] != 'In_Frame_Ins') & (gene_mutated['Mutation'] != 'Missense_Mutation')] \n",
    "        samples_trunc = truncated_df.index.unique()\n",
    "        num_trunc_mut = len(samples_trunc)\n",
    "        fraction_trunc = (num_trunc_mut / total_tumor_patients)\n",
    "        truncated.append(fraction_trunc)\n",
    "        \n",
    "        #miss\n",
    "        missence_mutations = gene_mutated.loc[(gene_mutated['Mutation'] == 'In_Frame_Ins') \n",
    "                | (gene_mutated['Mutation'] == 'In_Frame_Del') | (gene_mutated['Mutation'] == 'Missense_Mutation')]\n",
    "        samples_miss = missence_mutations.index.unique()\n",
    "        num_miss_mut = len(samples_miss)\n",
    "        \n",
    "        #count overlap in truncated\n",
    "        num_overlap = 0\n",
    "        non_overlap_samples_miss = []\n",
    "        for sample in samples_miss:\n",
    "            if sample not in samples_trunc:\n",
    "                non_overlap_samples_miss.append(sample)\n",
    "            else:\n",
    "                num_overlap += 1\n",
    "        \n",
    "        num_non_overlap_samples = len(non_overlap_samples_miss)\n",
    "        fraction_miss = (num_non_overlap_samples / total_tumor_patients)\n",
    "        missence.append(fraction_miss)\n",
    "        \n",
    "    # create dataframe\n",
    "    merged_lists = list(zip(freq_mut, total_percent_mutated, truncated, missence))\n",
    "    freq_mutated_df = pd.DataFrame(merged_lists, columns =['Gene', 'Fraction_Mutated', 'Fraction_Truncation', 'Fraction_Missence'])\n",
    "                   \n",
    "    return freq_mutated_df"
   ]
  },
  {
   "cell_type": "code",
   "execution_count": 2,
   "metadata": {},
   "outputs": [
    {
     "name": "stdout",
     "output_type": "stream",
     "text": [
      "Welcome to the cptac data service package. Available datasets may be\n",
      "viewed using cptac.list_data(). In order to access a specific data\n",
      "set, import a cptac subfolder using either 'import cptac.dataset' or\n",
      "'from cptac import dataset'.\n",
      "******\n",
      "Version: 0.4.1\n",
      "******\n",
      "You have loaded the cptac endometrial dataset. To view available\n",
      "dataframes, use cptac.endometrial.list_data(). To view available\n",
      "functions for accessing and manipulating the dataframes, use\n",
      "cptac.endometrial.list_api().\n",
      "endometrial data version: 2.1\n",
      "\n",
      "Loading Dictionary...\n",
      "Loading cptac endometrial data:\n",
      "Loading acetylproteomics data...\n",
      "Loading clinical data...\n",
      "Loading CNA data...\n",
      "Loading miRNA data...\n",
      "Loading phosphoproteomics_gene data...\n",
      "Loading phosphoproteomics_site data...\n",
      "Loading proteomics data...\n",
      "Loading somatic data...\n",
      "Loading somatic_binary data...\n",
      "Loading transcriptomics_circular data...\n",
      "Loading transcriptomics_linear data...\n",
      "\n",
      " ******PLEASE READ******\n",
      "WARNING: This data is under a publication embargo until July 1, 2019.\n",
      "CPTAC is a community resource project and data are made available\n",
      "rapidly after generation for community research use. The embargo\n",
      "allows exploring and utilizing the data, but the data may not be in a\n",
      "publication until July 1, 2019. Please see\n",
      "https://proteomics.cancer.gov/data-portal/about/data-use-agreement or\n",
      "enter embargo() to open the webpage for more details.\n"
     ]
    }
   ],
   "source": [
    "endo_freq_mutated_df = get_frequently_mutated(\"endometrial\", .25)"
   ]
  },
  {
   "cell_type": "code",
   "execution_count": 3,
   "metadata": {},
   "outputs": [
    {
     "data": {
      "text/html": [
       "<div>\n",
       "<style scoped>\n",
       "    .dataframe tbody tr th:only-of-type {\n",
       "        vertical-align: middle;\n",
       "    }\n",
       "\n",
       "    .dataframe tbody tr th {\n",
       "        vertical-align: top;\n",
       "    }\n",
       "\n",
       "    .dataframe thead th {\n",
       "        text-align: right;\n",
       "    }\n",
       "</style>\n",
       "<table border=\"1\" class=\"dataframe\">\n",
       "  <thead>\n",
       "    <tr style=\"text-align: right;\">\n",
       "      <th></th>\n",
       "      <th>Gene</th>\n",
       "      <th>Fraction_Mutated</th>\n",
       "      <th>Fraction_Truncation</th>\n",
       "      <th>Fraction_Missence</th>\n",
       "    </tr>\n",
       "  </thead>\n",
       "  <tbody>\n",
       "    <tr>\n",
       "      <th>0</th>\n",
       "      <td>ARID1A</td>\n",
       "      <td>0.452632</td>\n",
       "      <td>0.400000</td>\n",
       "      <td>0.052632</td>\n",
       "    </tr>\n",
       "    <tr>\n",
       "      <th>1</th>\n",
       "      <td>PIK3CA</td>\n",
       "      <td>0.494737</td>\n",
       "      <td>0.010526</td>\n",
       "      <td>0.484211</td>\n",
       "    </tr>\n",
       "    <tr>\n",
       "      <th>2</th>\n",
       "      <td>PTEN</td>\n",
       "      <td>0.789474</td>\n",
       "      <td>0.568421</td>\n",
       "      <td>0.221053</td>\n",
       "    </tr>\n",
       "    <tr>\n",
       "      <th>3</th>\n",
       "      <td>CTCF</td>\n",
       "      <td>0.284211</td>\n",
       "      <td>0.242105</td>\n",
       "      <td>0.042105</td>\n",
       "    </tr>\n",
       "    <tr>\n",
       "      <th>4</th>\n",
       "      <td>KRAS</td>\n",
       "      <td>0.326316</td>\n",
       "      <td>0.000000</td>\n",
       "      <td>0.326316</td>\n",
       "    </tr>\n",
       "    <tr>\n",
       "      <th>5</th>\n",
       "      <td>PIK3R1</td>\n",
       "      <td>0.389474</td>\n",
       "      <td>0.189474</td>\n",
       "      <td>0.200000</td>\n",
       "    </tr>\n",
       "    <tr>\n",
       "      <th>6</th>\n",
       "      <td>CTNNB1</td>\n",
       "      <td>0.305263</td>\n",
       "      <td>0.000000</td>\n",
       "      <td>0.305263</td>\n",
       "    </tr>\n",
       "  </tbody>\n",
       "</table>\n",
       "</div>"
      ],
      "text/plain": [
       "     Gene  Fraction_Mutated  Fraction_Truncation  Fraction_Missence\n",
       "0  ARID1A          0.452632             0.400000           0.052632\n",
       "1  PIK3CA          0.494737             0.010526           0.484211\n",
       "2    PTEN          0.789474             0.568421           0.221053\n",
       "3    CTCF          0.284211             0.242105           0.042105\n",
       "4    KRAS          0.326316             0.000000           0.326316\n",
       "5  PIK3R1          0.389474             0.189474           0.200000\n",
       "6  CTNNB1          0.305263             0.000000           0.305263"
      ]
     },
     "execution_count": 3,
     "metadata": {},
     "output_type": "execute_result"
    }
   ],
   "source": [
    "endo_freq_mutated_df"
   ]
  },
  {
   "cell_type": "markdown",
   "metadata": {},
   "source": [
    "Test Colon"
   ]
  },
  {
   "cell_type": "code",
   "execution_count": 91,
   "metadata": {},
   "outputs": [
    {
     "name": "stdout",
     "output_type": "stream",
     "text": [
      "You have loaded the cptac colon dataset. To view available dataframes,\n",
      "use cptac.colon.list_data(). To view available functions for accessing\n",
      "and manipulating the dataframes, use cptac.colon.list_api().\n",
      "colon data version: Most recent release\n",
      "\n",
      "Loading cptac colon data:\n",
      "Loading clinical data...\n",
      "Loading miRNA data...\n",
      "Loading mutation data...\n",
      "Loading mutation_binary data...\n",
      "Loading phosphoproteomics_normal data...\n",
      "Loading phosphoproteomics_tumor data...\n",
      "Loading proteomics_normal data...\n",
      "Loading proteomics_tumor data...\n",
      "Loading transcriptomics data...\n",
      "KRAS num_gene_mutated 35\n",
      "KRAS num_trunc_mut 0\n",
      "KRAS num miss mut 35\n",
      "KRAS num overlap 0\n",
      "KRAS num_non_overlap_samples 35\n",
      "KRAS check: 0 + 35 = 35 \n",
      "\n"
     ]
    }
   ],
   "source": [
    "colon_freq_mutated_df = get_frequently_mutated(\"colon\", .25)"
   ]
  },
  {
   "cell_type": "code",
   "execution_count": 92,
   "metadata": {},
   "outputs": [
    {
     "data": {
      "text/html": [
       "<div>\n",
       "<style scoped>\n",
       "    .dataframe tbody tr th:only-of-type {\n",
       "        vertical-align: middle;\n",
       "    }\n",
       "\n",
       "    .dataframe tbody tr th {\n",
       "        vertical-align: top;\n",
       "    }\n",
       "\n",
       "    .dataframe thead th {\n",
       "        text-align: right;\n",
       "    }\n",
       "</style>\n",
       "<table border=\"1\" class=\"dataframe\">\n",
       "  <thead>\n",
       "    <tr style=\"text-align: right;\">\n",
       "      <th></th>\n",
       "      <th>Gene</th>\n",
       "      <th>Fraction_Mutated</th>\n",
       "      <th>Fraction_Truncation</th>\n",
       "      <th>Fraction_Missence</th>\n",
       "    </tr>\n",
       "  </thead>\n",
       "  <tbody>\n",
       "    <tr>\n",
       "      <th>0</th>\n",
       "      <td>KRAS</td>\n",
       "      <td>0.318182</td>\n",
       "      <td>0.0</td>\n",
       "      <td>0.318182</td>\n",
       "    </tr>\n",
       "  </tbody>\n",
       "</table>\n",
       "</div>"
      ],
      "text/plain": [
       "   Gene  Fraction_Mutated  Fraction_Truncation  Fraction_Missence\n",
       "0  KRAS          0.318182                  0.0           0.318182"
      ]
     },
     "execution_count": 92,
     "metadata": {},
     "output_type": "execute_result"
    }
   ],
   "source": [
    "colon_freq_mutated_df"
   ]
  },
  {
   "cell_type": "markdown",
   "metadata": {},
   "source": [
    "Test Ovarian, cutoff = .1 (default)"
   ]
  },
  {
   "cell_type": "code",
   "execution_count": 93,
   "metadata": {},
   "outputs": [
    {
     "name": "stdout",
     "output_type": "stream",
     "text": [
      "You have loaded the cptac ovarian dataset. To view available\n",
      "dataframes, use cptac.ovarian.list_data(). To view available functions\n",
      "for accessing and manipulating the dataframes, use\n",
      "cptac.ovarian.list_api().\n",
      "ovarian data version: Most recent release\n",
      "\n",
      "Loading cptac ovarian data:\n",
      "Loading clinical data...\n",
      "Loading cnv data...\n",
      "Loading phosphoproteomics data...\n",
      "Loading proteomics data...\n",
      "Loading somatic_38 data...\n",
      "Loading transcriptomics data...\n",
      "Loading treatment data...\n",
      "\n",
      " ******PLEASE READ******\n",
      "WARNING: This data is under a publication embargo until June 1, 2019.\n",
      "CPTAC is a community resource project and data are made available\n",
      "rapidly after generation for community research use. The embargo\n",
      "allows exploring and utilizing the data, but the data may not be in a\n",
      "publication until June 1, 2019. Please see\n",
      "https://proteomics.cancer.gov/data-portal/about/data-use-agreement or\n",
      "enter embargo() to open the webpage for more details.\n"
     ]
    }
   ],
   "source": [
    "ovarian_freq_mutated_df = get_frequently_mutated(\"ovarian\")"
   ]
  },
  {
   "cell_type": "code",
   "execution_count": 94,
   "metadata": {},
   "outputs": [
    {
     "data": {
      "text/html": [
       "<div>\n",
       "<style scoped>\n",
       "    .dataframe tbody tr th:only-of-type {\n",
       "        vertical-align: middle;\n",
       "    }\n",
       "\n",
       "    .dataframe tbody tr th {\n",
       "        vertical-align: top;\n",
       "    }\n",
       "\n",
       "    .dataframe thead th {\n",
       "        text-align: right;\n",
       "    }\n",
       "</style>\n",
       "<table border=\"1\" class=\"dataframe\">\n",
       "  <thead>\n",
       "    <tr style=\"text-align: right;\">\n",
       "      <th></th>\n",
       "      <th>Gene</th>\n",
       "      <th>Fraction_Mutated</th>\n",
       "      <th>Fraction_Truncation</th>\n",
       "      <th>Fraction_Missence</th>\n",
       "    </tr>\n",
       "  </thead>\n",
       "  <tbody>\n",
       "  </tbody>\n",
       "</table>\n",
       "</div>"
      ],
      "text/plain": [
       "Empty DataFrame\n",
       "Columns: [Gene, Fraction_Mutated, Fraction_Truncation, Fraction_Missence]\n",
       "Index: []"
      ]
     },
     "execution_count": 94,
     "metadata": {},
     "output_type": "execute_result"
    }
   ],
   "source": [
    "ovarian_freq_mutated_df"
   ]
  },
  {
   "cell_type": "markdown",
   "metadata": {},
   "source": [
    "Debug "
   ]
  },
  {
   "cell_type": "code",
   "execution_count": 17,
   "metadata": {},
   "outputs": [
    {
     "name": "stdout",
     "output_type": "stream",
     "text": [
      "total_tumor_patients: 83\n",
      "num_gene_mutated TP53 : 77\n",
      "num_gene_mutated PTEN : 4\n"
     ]
    }
   ],
   "source": [
    "#find frequently mutated - check Ovarian PTEN percentage = .9277 \n",
    "somatic = c.get_mutations()\n",
    "prot = c.get_proteomics()\n",
    "gene = 'PTEN'\n",
    "omics_mutations = c.append_mutations_to_omics(mutation_genes=gene, omics_df=prot, omics_genes=gene)\n",
    "unique_genes = ['TP53','PTEN']\n",
    "#somatic['Gene'].unique()\n",
    "gene_mutated = somatic.loc[somatic['Gene'] == 'PTEN']\n",
    "gene_and_freq_d = {}\n",
    "tumors = omics_mutations.loc[omics_mutations['Sample_Status'] == 'Tumor']\n",
    "total_tumor_patients = len(tumors)\n",
    "print('total_tumor_patients:', total_tumor_patients)\n",
    "cutoff = .25\n",
    "for gene in unique_genes:\n",
    "    gene_mutated = somatic.loc[somatic['Gene'] == gene].index\n",
    "    num_gene_mutated = len(gene_mutated.unique())\n",
    "    print('num_gene_mutated', gene, ':', num_gene_mutated)\n",
    "   \n",
    "    percentage = (num_gene_mutated / total_tumor_patients)\n",
    "    if percentage > cutoff:\n",
    "        gene_and_freq_d[gene] = percentage"
   ]
  },
  {
   "cell_type": "code",
   "execution_count": 19,
   "metadata": {},
   "outputs": [
    {
     "data": {
      "text/plain": [
       "{'TP53': 0.927710843373494}"
      ]
     },
     "execution_count": 19,
     "metadata": {},
     "output_type": "execute_result"
    }
   ],
   "source": [
    "gene_and_freq_d"
   ]
  },
  {
   "cell_type": "code",
   "execution_count": 20,
   "metadata": {},
   "outputs": [
    {
     "name": "stdout",
     "output_type": "stream",
     "text": [
      "gene_mutated:  77.0 / 83 total_tumor_patients\n",
      "percent: 0.927710843373494\n"
     ]
    },
    {
     "data": {
      "text/plain": [
       "Index(['S002', 'S006', 'S007', 'S009', 'S011', 'S013', 'S014', 'S015', 'S020',\n",
       "       'S021', 'S022', 'S024', 'S025', 'S026', 'S027', 'S029', 'S031', 'S033',\n",
       "       'S035', 'S036', 'S037', 'S038', 'S039', 'S040', 'S041', 'S042', 'S043',\n",
       "       'S044', 'S045', 'S047', 'S048', 'S049', 'S050', 'S051', 'S052', 'S053',\n",
       "       'S054', 'S055', 'S057', 'S058', 'S059', 'S060', 'S061', 'S062', 'S063',\n",
       "       'S064', 'S065', 'S066', 'S067', 'S068', 'S069', 'S073', 'S074', 'S075',\n",
       "       'S076', 'S082', 'S083', 'S086', 'S087', 'S089', 'S090', 'S093', 'S095',\n",
       "       'S096', 'S097', 'S098', 'S100', 'S103', 'S106', 'S107', 'S108', 'S109',\n",
       "       'S111', 'S112', 'S113', 'S115', 'S116'],\n",
       "      dtype='object', name='Sample_ID')"
      ]
     },
     "execution_count": 20,
     "metadata": {},
     "output_type": "execute_result"
    }
   ],
   "source": [
    "gene = 'TP53'\n",
    "gene_mutated = somatic.loc[somatic['Gene'] == gene].index\n",
    "num_gene_mutated = float(len(gene_mutated.unique()))\n",
    "print('gene_mutated: ', num_gene_mutated, '/', total_tumor_patients, 'total_tumor_patients')\n",
    "percentage = (num_gene_mutated / total_tumor_patients)\n",
    "print('percent:',percentage)\n",
    "gene_mutated.unique()"
   ]
  },
  {
   "cell_type": "code",
   "execution_count": null,
   "metadata": {},
   "outputs": [],
   "source": []
  }
 ],
 "metadata": {
  "kernelspec": {
   "display_name": "Python 3",
   "language": "python",
   "name": "python3"
  },
  "language_info": {
   "codemirror_mode": {
    "name": "ipython",
    "version": 3
   },
   "file_extension": ".py",
   "mimetype": "text/x-python",
   "name": "python",
   "nbconvert_exporter": "python",
   "pygments_lexer": "ipython3",
   "version": "3.7.3"
  }
 },
 "nbformat": 4,
 "nbformat_minor": 2
}
