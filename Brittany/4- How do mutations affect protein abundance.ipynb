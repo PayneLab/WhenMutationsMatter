{
 "cells": [
  {
   "cell_type": "code",
   "execution_count": 1,
   "metadata": {},
   "outputs": [],
   "source": [
    "import pandas as pd\n",
    "import numpy as np\n",
    "import matplotlib.pyplot as plt\n",
    "import seaborn as sns"
   ]
  },
  {
   "cell_type": "code",
   "execution_count": 2,
   "metadata": {},
   "outputs": [
    {
     "name": "stdout",
     "output_type": "stream",
     "text": [
      "Welcome to the CPTAC data service package. Available datasets may be\n",
      "viewed using CPTAC.list_data(). In order to access a specific data\n",
      "set, import a CPTAC subfolder using either 'import CPTAC.Dataset' or\n",
      "'from CPTAC import Dataset'.\n",
      "******\n",
      "Version: 0.3.1\n",
      "******\n",
      "Loading Endometrial CPTAC data:\n",
      "Loading Dictionary...\n",
      "Loading Clinical Data...\n",
      "Loading Acetylation Proteomics Data...\n",
      "Loading Proteomics Data...\n",
      "Loading Transcriptomics Data...\n",
      "Loading CNA Data...\n",
      "Loading Phosphoproteomics Data...\n",
      "Loading Somatic Mutation Data...\n",
      "\n",
      " ******PLEASE READ******\n",
      "WARNING: This data is under a publication embargo until July 1, 2019.\n",
      "CPTAC is a community resource project and data are made available\n",
      "rapidly after generation for community research use. The embargo\n",
      "allows exploring and utilizing the data, but the data may not be in a\n",
      "publication until July 1, 2019. Please see\n",
      "https://proteomics.cancer.gov/data-portal/about/data-use-agreement or\n",
      "enter embargo() to open the webpage for more details.\n"
     ]
    }
   ],
   "source": [
    "import CPTAC.Endometrial as en"
   ]
  },
  {
   "cell_type": "code",
   "execution_count": 3,
   "metadata": {},
   "outputs": [],
   "source": [
    "somatic_mutations = en.get_mutations()\n",
    "proteomics = en.get_proteomics()"
   ]
  },
  {
   "cell_type": "code",
   "execution_count": 4,
   "metadata": {},
   "outputs": [
    {
     "name": "stdout",
     "output_type": "stream",
     "text": [
      "PTEN\n"
     ]
    }
   ],
   "source": [
    "gene = somatic_mutations[\"Gene\"].value_counts().index[0]\n",
    "print(gene)"
   ]
  },
  {
   "cell_type": "code",
   "execution_count": 5,
   "metadata": {},
   "outputs": [
    {
     "ename": "AttributeError",
     "evalue": "module 'CPTAC.Endometrial' has no attribute 'compare_mutations'",
     "output_type": "error",
     "traceback": [
      "\u001b[1;31m---------------------------------------------------------------------------\u001b[0m",
      "\u001b[1;31mAttributeError\u001b[0m                            Traceback (most recent call last)",
      "\u001b[1;32m<ipython-input-5-2715c56fcf9b>\u001b[0m in \u001b[0;36m<module>\u001b[1;34m\u001b[0m\n\u001b[1;32m----> 1\u001b[1;33m \u001b[0momics_mutations\u001b[0m \u001b[1;33m=\u001b[0m \u001b[0men\u001b[0m\u001b[1;33m.\u001b[0m\u001b[0mcompare_mutations\u001b[0m\u001b[1;33m(\u001b[0m\u001b[0momics_data\u001b[0m\u001b[1;33m=\u001b[0m\u001b[0mproteomics\u001b[0m\u001b[1;33m,\u001b[0m \u001b[0momics_gene\u001b[0m\u001b[1;33m=\u001b[0m\u001b[0mgene\u001b[0m\u001b[1;33m)\u001b[0m\u001b[1;33m\u001b[0m\u001b[1;33m\u001b[0m\u001b[0m\n\u001b[0m\u001b[0;32m      2\u001b[0m \u001b[0momics_mutations\u001b[0m\u001b[1;33m.\u001b[0m\u001b[0mhead\u001b[0m\u001b[1;33m(\u001b[0m\u001b[1;33m)\u001b[0m\u001b[1;33m\u001b[0m\u001b[1;33m\u001b[0m\u001b[0m\n",
      "\u001b[1;31mAttributeError\u001b[0m: module 'CPTAC.Endometrial' has no attribute 'compare_mutations'"
     ]
    }
   ],
   "source": [
    "omics_mutations = en.compare_mutations(omics_data=proteomics, omics_gene=gene)\n",
    "omics_mutations.head()"
   ]
  },
  {
   "cell_type": "code",
   "execution_count": null,
   "metadata": {},
   "outputs": [],
   "source": [
    "a4_dims = (11.7, 8.27) #dimensions for bigger plot\n",
    "fig, ax = plt.subplots(figsize=a4_dims) #bigger plot displays Somatic Gene Mutation category without overlapping labels\n",
    "somatic_boxplot = sns.boxplot(data=omics_mutations, x=\"Mutation\",y=gene, ax = ax, order = [\"Wildtype_Normal\",\"Wildtype_Tumor\",\"Missense_Mutation\",\"Nonsense_Mutation\",\"Frame_Shift_Ins\",\"Frame_Shift_Del\",\"Splice_Site\"]) #order parameter is used to reorder the mutation categories \n",
    "somatic_boxplot.set_title(\"PTEN gene mutation protein abundance\")\n",
    "somatic_boxplot = sns.stripplot(data=omics_mutations, x=\"Mutation\", y=gene,jitter=True, color=\".3\", order = [\"Wildtype_Normal\",\"Wildtype_Tumor\",\"Missense_Mutation\",\"Nonsense_Mutation\",\"Frame_Shift_Ins\",\"Frame_Shift_Del\",\"Splice_Site\"])\n",
    "somatic_boxplot.set(xlabel=\"Somatic Gene Mutation\",ylabel=\"Proteomics\")\n",
    "plt.show()"
   ]
  },
  {
   "cell_type": "code",
   "execution_count": null,
   "metadata": {},
   "outputs": [],
   "source": [
    "gene2 = 'CTNNB1'\n",
    "omics_mutations2 = en.compare_mutations(omics_data=proteomics, omics_gene=gene2)\n",
    "omics_mutations2.head()"
   ]
  },
  {
   "cell_type": "code",
   "execution_count": null,
   "metadata": {},
   "outputs": [],
   "source": [
    "boxplot2 = sns.boxplot(data=omics_mutations2, x=\"Mutation\", y=gene2, order= [\"Wildtype_Normal\",\"Wildtype_Tumor\",\"Missense_Mutation\",\"In_Frame_Del\"])\n",
    "boxplot2 = sns.stripplot(x=\"Mutation\",data=omics_mutations2, y=gene2, color=\".3\", order =[\"Wildtype_Normal\",\"Wildtype_Tumor\",\"Missense_Mutation\",\"In_Frame_Del\"], jitter=True)\n",
    "boxplot2.set(xlabel=\"Somatic Gene Mutation\",ylabel=\"Proteomics\")\n",
    "plt.show()"
   ]
  },
  {
   "cell_type": "markdown",
   "metadata": {},
   "source": [
    "   Ovarian"
   ]
  },
  {
   "cell_type": "code",
   "execution_count": null,
   "metadata": {},
   "outputs": [],
   "source": [
    "import CPTAC.Ovarian as ov"
   ]
  },
  {
   "cell_type": "code",
   "execution_count": null,
   "metadata": {},
   "outputs": [],
   "source": [
    "somatic_mutations = ov.get_mutations()\n",
    "proteomics = ov.get_proteomics()"
   ]
  },
  {
   "cell_type": "code",
   "execution_count": null,
   "metadata": {},
   "outputs": [],
   "source": [
    "gene = \"TP53\"\n",
    "ovarian_omics_mutations = ov.compare_mutations(omics_data=proteomics, omics_gene=gene)\n",
    "ovarian_omics_mutations.head()"
   ]
  },
  {
   "cell_type": "code",
   "execution_count": null,
   "metadata": {},
   "outputs": [],
   "source": [
    "a4_dims = (11.7, 8.27) #dimensions for bigger plot\n",
    "fig, ax = plt.subplots(figsize=a4_dims)\n",
    "boxplot = sns.boxplot(data=ovarian_omics_mutations, x=\"Mutation\", y=gene, order = [\"Wildtype_Normal\",\"Wildtype_Tumor\",\"Missense_Mutation\",\"Nonsense_Mutation\",\"Frame_Shift_Ins\",\"Frame_Shift_Del\",\"Splice_Site\"])\n",
    "boxplot = sns.stripplot(data=ovarian_omics_mutations, x=\"Mutation\", y=gene,jitter=True, color=\".3\",order = [\"Wildtype_Normal\",\"Wildtype_Tumor\",\"Missense_Mutation\",\"Nonsense_Mutation\",\"Frame_Shift_Ins\",\"Frame_Shift_Del\",\"Splice_Site\"])\n",
    "boxplot.set(xlabel=\"Somatic Gene Mutation\", ylabel=\"Proteomics\")\n",
    "plt.show()"
   ]
  },
  {
   "cell_type": "code",
   "execution_count": null,
   "metadata": {},
   "outputs": [],
   "source": []
  }
 ],
 "metadata": {
  "kernelspec": {
   "display_name": "Python 3",
   "language": "python",
   "name": "python3"
  },
  "language_info": {
   "codemirror_mode": {
    "name": "ipython",
    "version": 3
   },
   "file_extension": ".py",
   "mimetype": "text/x-python",
   "name": "python",
   "nbconvert_exporter": "python",
   "pygments_lexer": "ipython3",
   "version": "3.7.3"
  }
 },
 "nbformat": 4,
 "nbformat_minor": 2
}
