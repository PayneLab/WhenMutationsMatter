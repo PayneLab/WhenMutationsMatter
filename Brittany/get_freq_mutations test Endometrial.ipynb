{
 "cells": [
  {
   "cell_type": "markdown",
   "metadata": {},
   "source": [
    "# get_freq_mutations test Endometrial"
   ]
  },
  {
   "cell_type": "code",
   "execution_count": 1,
   "metadata": {},
   "outputs": [
    {
     "name": "stdout",
     "output_type": "stream",
     "text": [
      "Welcome to the CPTAC data service package. Available datasets may be\n",
      "viewed using CPTAC.list_data(). In order to access a specific data\n",
      "set, import a CPTAC subfolder using either 'import CPTAC.Dataset' or\n",
      "'from CPTAC import Dataset'.\n",
      "******\n",
      "Version: 0.3.1\n",
      "******\n",
      "Loading Endometrial CPTAC data:\n",
      "Loading Dictionary...\n",
      "Loading Clinical Data...\n",
      "Loading Acetylation Proteomics Data...\n",
      "Loading Proteomics Data...\n",
      "Loading Transcriptomics Data...\n",
      "Loading CNA Data...\n",
      "Loading Phosphoproteomics Data...\n",
      "Loading Somatic Mutation Data...\n",
      "\n",
      " ******PLEASE READ******\n",
      "WARNING: This data is under a publication embargo until July 1, 2019.\n",
      "CPTAC is a community resource project and data are made available\n",
      "rapidly after generation for community research use. The embargo\n",
      "allows exploring and utilizing the data, but the data may not be in a\n",
      "publication until July 1, 2019. Please see\n",
      "https://proteomics.cancer.gov/data-portal/about/data-use-agreement or\n",
      "enter embargo() to open the webpage for more details.\n"
     ]
    }
   ],
   "source": [
    "import pandas as pd\n",
    "import seaborn as sns\n",
    "import matplotlib.pyplot as plt\n",
    "import operator\n",
    "\n",
    "import CPTAC.Endometrial as en"
   ]
  },
  {
   "cell_type": "markdown",
   "metadata": {},
   "source": [
    "Function definition"
   ]
  },
  {
   "cell_type": "code",
   "execution_count": 25,
   "metadata": {},
   "outputs": [],
   "source": [
    "def get_frequently_mutated(somatic_df, omics_mutations_df, cutoff=.1):  \n",
    "     \n",
    "    \"\"\"take DataFrames of somatic mutations and omics_mutations to determine the percent of \n",
    "    mutated genes for all tumors. Frequently mutated genes are greater than the cutoff.\n",
    "        \n",
    "    Parameters:\n",
    "    somatic_df (pandas.core.frame.DataFrame): Somatic mutations dataframe.\n",
    "    omics_mutations_df (pandas.core.frame.DataFrame): merged dataframe of any gene and proteomics dataframe\n",
    "    (used to find total_tumor_patients)\n",
    "    cutoff (float): used as comparison to determine status of gene mutation frequency\n",
    "        \n",
    "    Returns:\n",
    "    freq_mutated (pandas.core.frame.DataFrame): dataframe of frequently mutated genes passing the cutoff \n",
    "    as columns and their percent mutated over total tumors as the first row\"\"\"\n",
    "    \n",
    "    import operator\n",
    "    unique_genes = somatic_df['Gene'].unique() # Get series of all mutated genes\n",
    "    gene_and_freq_d = {}\n",
    "    sorted_gene_and_freq_d = {}\n",
    "    \n",
    "    # Get total tumor patients\n",
    "    tumors = omics_mutations_df.loc[omics_mutations_df['Sample_Status'] == 'Tumor']\n",
    "    total_tumor_patients = len(tumors)\n",
    "    \n",
    "    # Find sample (col or index) in gene_mutated (samples represent patients)\n",
    "    # gene_mutated: Endometrial and Colon samples found in column 0, Ovarian found in index\n",
    "    gene = 'PTEN'\n",
    "    gene_mutated = somatic_df.loc[somatic_df['Gene'] == gene]\n",
    "    ovarian = False\n",
    "    if gene_mutated.columns[0] == 'Gene':\n",
    "        ovarian = True\n",
    "    \n",
    "    # Find percentage of gene mutation and add frequently mutated genes to dictionary\n",
    "    if ovarian == True:\n",
    "        for gene in unique_genes:\n",
    "            gene_mutated = somatic_df.loc[somatic_df['Gene'] == gene].index\n",
    "            num_gene_mutated = len(gene_mutated.unique())\n",
    "            percentage = (num_gene_mutated / total_tumor_patients)\n",
    "            if percentage > cutoff:\n",
    "                gene_and_freq_d[gene] = percentage\n",
    "    \n",
    "    else:\n",
    "        for gene in unique_genes:\n",
    "            gene_mutated = somatic_df.loc[somatic_df['Gene'] == gene].iloc[:, 0]\n",
    "            gene_mutated.drop_duplicates(keep='first',inplace=True)\n",
    "            num_gene_mutated = len(gene_mutated)\n",
    "            percentage = (num_gene_mutated / total_tumor_patients)\n",
    "            if percentage > cutoff:\n",
    "                gene_and_freq_d[gene] = percentage\n",
    "\n",
    "    # Sort dictionary descending order based on percent mutated\n",
    "    sorted_d = sorted(gene_and_freq_d.items(), key=operator.itemgetter(1), reverse=True)  \n",
    "    for i in range(0,len(sorted_d)):\n",
    "        certain_tuple = sorted_d[i]\n",
    "        gene, percent_mutated = certain_tuple\n",
    "        sorted_gene_and_freq_d[gene] = percent_mutated\n",
    "        \n",
    "    # Make dataframe of frequently mutated genes and percent mutated as index[0]\n",
    "    freq_mutated_df = pd.DataFrame(sorted_gene_and_freq_d, index=['percent_mutated'])\n",
    "                   \n",
    "    return freq_mutated_df"
   ]
  },
  {
   "cell_type": "markdown",
   "metadata": {},
   "source": [
    "Get data"
   ]
  },
  {
   "cell_type": "code",
   "execution_count": 19,
   "metadata": {},
   "outputs": [],
   "source": [
    "somatic = en.get_mutations()\n",
    "clinical = en.get_clinical()\n",
    "prot = en.get_proteomics()\n",
    "gene = 'PTEN'\n",
    "omics_mutations = en.append_mutations_to_omics(mutation_genes=gene, omics_df=prot, omics_genes=gene)\n",
    "gene_mutated = somatic[somatic['Gene'] == 'PTEN']"
   ]
  },
  {
   "cell_type": "markdown",
   "metadata": {},
   "source": [
    "# Test:  cutoff = .1"
   ]
  },
  {
   "cell_type": "code",
   "execution_count": 28,
   "metadata": {},
   "outputs": [],
   "source": [
    "df = get_frequently_mutated(somatic, omics_mutations, .1)"
   ]
  },
  {
   "cell_type": "code",
   "execution_count": 29,
   "metadata": {},
   "outputs": [
    {
     "data": {
      "text/html": [
       "<div>\n",
       "<style scoped>\n",
       "    .dataframe tbody tr th:only-of-type {\n",
       "        vertical-align: middle;\n",
       "    }\n",
       "\n",
       "    .dataframe tbody tr th {\n",
       "        vertical-align: top;\n",
       "    }\n",
       "\n",
       "    .dataframe thead th {\n",
       "        text-align: right;\n",
       "    }\n",
       "</style>\n",
       "<table border=\"1\" class=\"dataframe\">\n",
       "  <thead>\n",
       "    <tr style=\"text-align: right;\">\n",
       "      <th></th>\n",
       "      <th>PTEN</th>\n",
       "      <th>PIK3CA</th>\n",
       "      <th>ARID1A</th>\n",
       "      <th>PIK3R1</th>\n",
       "      <th>KRAS</th>\n",
       "      <th>CTNNB1</th>\n",
       "      <th>CTCF</th>\n",
       "      <th>KMT2B</th>\n",
       "      <th>TP53</th>\n",
       "      <th>ZFHX3</th>\n",
       "      <th>...</th>\n",
       "      <th>ASCC3</th>\n",
       "      <th>MGAM</th>\n",
       "      <th>CUBN</th>\n",
       "      <th>WDFY4</th>\n",
       "      <th>KCNH5</th>\n",
       "      <th>SYNE2</th>\n",
       "      <th>MAP1A</th>\n",
       "      <th>PKD1</th>\n",
       "      <th>PIEZO2</th>\n",
       "      <th>HELZ2</th>\n",
       "    </tr>\n",
       "  </thead>\n",
       "  <tbody>\n",
       "    <tr>\n",
       "      <th>percent_mutated</th>\n",
       "      <td>0.789474</td>\n",
       "      <td>0.494737</td>\n",
       "      <td>0.452632</td>\n",
       "      <td>0.389474</td>\n",
       "      <td>0.326316</td>\n",
       "      <td>0.305263</td>\n",
       "      <td>0.284211</td>\n",
       "      <td>0.242105</td>\n",
       "      <td>0.221053</td>\n",
       "      <td>0.221053</td>\n",
       "      <td>...</td>\n",
       "      <td>0.105263</td>\n",
       "      <td>0.105263</td>\n",
       "      <td>0.105263</td>\n",
       "      <td>0.105263</td>\n",
       "      <td>0.105263</td>\n",
       "      <td>0.105263</td>\n",
       "      <td>0.105263</td>\n",
       "      <td>0.105263</td>\n",
       "      <td>0.105263</td>\n",
       "      <td>0.105263</td>\n",
       "    </tr>\n",
       "  </tbody>\n",
       "</table>\n",
       "<p>1 rows × 232 columns</p>\n",
       "</div>"
      ],
      "text/plain": [
       "                     PTEN    PIK3CA    ARID1A    PIK3R1      KRAS    CTNNB1  \\\n",
       "percent_mutated  0.789474  0.494737  0.452632  0.389474  0.326316  0.305263   \n",
       "\n",
       "                     CTCF     KMT2B      TP53     ZFHX3  ...     ASCC3  \\\n",
       "percent_mutated  0.284211  0.242105  0.221053  0.221053  ...  0.105263   \n",
       "\n",
       "                     MGAM      CUBN     WDFY4     KCNH5     SYNE2     MAP1A  \\\n",
       "percent_mutated  0.105263  0.105263  0.105263  0.105263  0.105263  0.105263   \n",
       "\n",
       "                     PKD1    PIEZO2     HELZ2  \n",
       "percent_mutated  0.105263  0.105263  0.105263  \n",
       "\n",
       "[1 rows x 232 columns]"
      ]
     },
     "execution_count": 29,
     "metadata": {},
     "output_type": "execute_result"
    }
   ],
   "source": [
    "df"
   ]
  },
  {
   "cell_type": "markdown",
   "metadata": {},
   "source": [
    "Test: check genes in freq_mutated list"
   ]
  },
  {
   "cell_type": "code",
   "execution_count": 6,
   "metadata": {},
   "outputs": [],
   "source": [
    "unique_genes = somatic['Gene'].unique() # Get series of all mutated genes\n",
    "gene_and_freq_d = {}\n",
    "total_tumor_patients = 97\n",
    "cutoff = .1\n",
    "\n",
    "for gene in unique_genes:\n",
    "    gene_mutated = somatic.loc[somatic['Gene'] == gene].iloc[:, 0]\n",
    "    gene_mutated.drop_duplicates(keep='first',inplace=True)\n",
    "    num_gene_mutated = len(gene_mutated)\n",
    "    percentage = (num_gene_mutated / total_tumor_patients)\n",
    "    if percentage > cutoff:\n",
    "        gene_and_freq_d[gene] = percentage\n",
    "        "
   ]
  },
  {
   "cell_type": "code",
   "execution_count": 13,
   "metadata": {},
   "outputs": [
    {
     "data": {
      "text/plain": [
       "percent_mutated    0.443299\n",
       "Name: ARID1A, dtype: float64"
      ]
     },
     "execution_count": 13,
     "metadata": {},
     "output_type": "execute_result"
    }
   ],
   "source": [
    "freq_mutated_df = pd.DataFrame(gene_and_freq_d, index=['percent_mutated'])\n",
    "freq_mutated_df['ARID1A']"
   ]
  },
  {
   "cell_type": "code",
   "execution_count": 6,
   "metadata": {},
   "outputs": [
    {
     "name": "stdout",
     "output_type": "stream",
     "text": [
      "31  /  95.0   0.3263157894736842\n",
      "true\n"
     ]
    }
   ],
   "source": [
    "gene = 'KRAS'\n",
    "total_tumor_patients = 95\n",
    "cutoff = 0.25\n",
    "gene_mutated = somatic.loc[somatic['Gene'] == gene]\n",
    "patients_gene_mutated = len(gene_mutated['Patient_Id'].unique()) #series of patients with mutated gene\n",
    "\n",
    "print(patients_gene_mutated, ' / ', total_tumor_patients, ' ', (patients_gene_mutated / total_tumor_patients))\n",
    "if (patients_gene_mutated / total_tumor_patients) > cutoff: #>24\n",
    "    print('true')\n",
    "else:\n",
    "    print('false')"
   ]
  },
  {
   "cell_type": "code",
   "execution_count": 8,
   "metadata": {},
   "outputs": [
    {
     "name": "stdout",
     "output_type": "stream",
     "text": [
      "1004    S002\n",
      "1005    S002\n",
      "1161    S003\n",
      "1695    S010\n",
      "3584    S014\n",
      "Name: Clinical_Patient_Key, dtype: object\n",
      "length gene_mutated (all mutations):  33\n",
      "num gene mutated count once per patient: 31\n"
     ]
    }
   ],
   "source": [
    "gene_mutated = somatic.loc[somatic['Gene'] == 'KRAS'].iloc[:, 0] #.loc gets rows pten, .iloc gets col 0 (sample)\n",
    "print(gene_mutated.head())\n",
    "print('length gene_mutated (all mutations): ', len(gene_mutated))\n",
    "\n",
    "gene_mutated.drop_duplicates(keep='first',inplace=True) #subset= colname when df\n",
    "print('num gene mutated count once per patient:', len(gene_mutated))"
   ]
  },
  {
   "cell_type": "markdown",
   "metadata": {},
   "source": [
    "Testing ideas"
   ]
  },
  {
   "cell_type": "code",
   "execution_count": 12,
   "metadata": {},
   "outputs": [
    {
     "name": "stdout",
     "output_type": "stream",
     "text": [
      "num of patients:  27\n",
      "23\n",
      "14133    C3L-00586\n",
      "Name: Patient_Id, dtype: object\n"
     ]
    }
   ],
   "source": [
    "#check to see if mulitple mutations in one gene\n",
    "\n",
    "patients = gene_mutated['Patient_Id']#series of ids\n",
    "print('num of patients: ',len(patients))\n",
    "\n",
    "#check each patient counted once #fixme check omics_mutations? \n",
    "print(len(gene_mutated['Patient_Id'].value_counts())) #gives num rows for each patient, descending order\n",
    "\n",
    "\n",
    "new = patients[patients == 'C3L-00586'] #gets index for certain patient\n",
    "print(new)\n"
   ]
  },
  {
   "cell_type": "code",
   "execution_count": 97,
   "metadata": {},
   "outputs": [
    {
     "data": {
      "text/plain": [
       "[('PTEN', 75),\n",
       " ('PIK3CA', 47),\n",
       " ('ARID1A', 43),\n",
       " ('PIK3R1', 37),\n",
       " ('KRAS', 31),\n",
       " ('CTNNB1', 29),\n",
       " ('CTCF', 27),\n",
       " ('KMT2B', 23)]"
      ]
     },
     "execution_count": 97,
     "metadata": {},
     "output_type": "execute_result"
    }
   ],
   "source": [
    "# sort list\n",
    "#make dictionary\n",
    "mydict = {}\n",
    "total_tumor_patients = 95\n",
    "cutoff = .1\n",
    "freq_mutated = []\n",
    "unique_genes = somatic['Gene'].unique()\n",
    "\n",
    "for gene in unique_genes:\n",
    "    gene_mutated = somatic.loc[somatic['Gene'] == gene]\n",
    "    num_gene_mutated = len(gene_mutated['Patient_Id'].unique())     \n",
    "    mydict[gene] = num_gene_mutated    \n",
    "        \n",
    "\n",
    "sorted_d = sorted(mydict.items(), key=operator.itemgetter(1), reverse=True)\n",
    "sorted_d[:8]"
   ]
  },
  {
   "cell_type": "code",
   "execution_count": null,
   "metadata": {},
   "outputs": [],
   "source": [
    "if (num_gene_mutated / total_tumor_patients) > cutoff:\n",
    "        freq_mutated.append(gene)"
   ]
  },
  {
   "cell_type": "code",
   "execution_count": 25,
   "metadata": {},
   "outputs": [
    {
     "name": "stdout",
     "output_type": "stream",
     "text": [
      "unique_genes:  14814\n"
     ]
    }
   ],
   "source": [
    "unique_genes = somatic['Gene'].unique()\n",
    "print('unique_genes: ', len(unique_genes))\n",
    "not_in_proteomics = []\n",
    "in_proteomics = []"
   ]
  },
  {
   "cell_type": "code",
   "execution_count": 15,
   "metadata": {},
   "outputs": [],
   "source": [
    "#challenges with append_mutations_to_omics, can't merge with somatic (prot vs gene names)\n",
    "#prepare list for .append_mutations_to_omics\n",
    "for gene in unique_genes:\n",
    "    if gene in proteomics.columns:\n",
    "        in_proteomics.append(gene)\n",
    "    else:\n",
    "        not_in_proteomics.append(gene)"
   ]
  },
  {
   "cell_type": "code",
   "execution_count": 20,
   "metadata": {},
   "outputs": [
    {
     "data": {
      "text/plain": [
       "6549"
      ]
     },
     "execution_count": 20,
     "metadata": {},
     "output_type": "execute_result"
    }
   ],
   "source": [
    "len(in_proteomics) #8265\n",
    "len(not_in_proteomics) #6549"
   ]
  },
  {
   "cell_type": "code",
   "execution_count": 14,
   "metadata": {},
   "outputs": [],
   "source": [
    "# test for loop to count genes\n",
    "total_tumor_patients = 95\n",
    "cutoff = .1\n",
    "freq_mutated = []\n",
    "unique_genes = somatic['Gene'].unique()\n",
    "for gene in unique_genes:\n",
    "    gene_mutated = somatic.loc[somatic['Gene'] == gene]\n",
    "    num_gene_mutated = len(gene_mutated)\n",
    "    if (num_gene_mutated / total_tumor_patients) > cutoff:\n",
    "            freq_mutated.append(gene)"
   ]
  }
 ],
 "metadata": {
  "kernelspec": {
   "display_name": "Python 3",
   "language": "python",
   "name": "python3"
  },
  "language_info": {
   "codemirror_mode": {
    "name": "ipython",
    "version": 3
   },
   "file_extension": ".py",
   "mimetype": "text/x-python",
   "name": "python",
   "nbconvert_exporter": "python",
   "pygments_lexer": "ipython3",
   "version": "3.7.3"
  }
 },
 "nbformat": 4,
 "nbformat_minor": 2
}
