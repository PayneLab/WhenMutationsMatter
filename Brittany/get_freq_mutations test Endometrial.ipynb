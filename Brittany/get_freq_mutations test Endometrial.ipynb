{
 "cells": [
  {
   "cell_type": "markdown",
   "metadata": {},
   "source": [
    "# get_freq_mutations test Endometrial"
   ]
  },
  {
   "cell_type": "code",
   "execution_count": 1,
   "metadata": {},
   "outputs": [
    {
     "name": "stdout",
     "output_type": "stream",
     "text": [
      "Welcome to the CPTAC data service package. Available datasets may be\n",
      "viewed using CPTAC.list_data(). In order to access a specific data\n",
      "set, import a CPTAC subfolder using either 'import CPTAC.Dataset' or\n",
      "'from CPTAC import Dataset'.\n",
      "******\n",
      "Version: 0.3.1\n",
      "******\n",
      "Loading Endometrial CPTAC data:\n",
      "Loading Dictionary...\n",
      "Loading Clinical Data...\n",
      "Loading Acetylation Proteomics Data...\n",
      "Loading Proteomics Data...\n",
      "Loading Transcriptomics Data...\n",
      "Loading CNA Data...\n",
      "Loading Phosphoproteomics Data...\n",
      "Loading Somatic Mutation Data...\n",
      "\n",
      " ******PLEASE READ******\n",
      "WARNING: This data is under a publication embargo until July 1, 2019.\n",
      "CPTAC is a community resource project and data are made available\n",
      "rapidly after generation for community research use. The embargo\n",
      "allows exploring and utilizing the data, but the data may not be in a\n",
      "publication until July 1, 2019. Please see\n",
      "https://proteomics.cancer.gov/data-portal/about/data-use-agreement or\n",
      "enter embargo() to open the webpage for more details.\n"
     ]
    }
   ],
   "source": [
    "import pandas as pd\n",
    "import seaborn as sns\n",
    "import matplotlib.pyplot as plt\n",
    "import operator\n",
    "\n",
    "import CPTAC.Endometrial as en"
   ]
  },
  {
   "cell_type": "markdown",
   "metadata": {},
   "source": [
    "Function definition"
   ]
  },
  {
   "cell_type": "code",
   "execution_count": 2,
   "metadata": {},
   "outputs": [],
   "source": [
    "def get_frequently_mutated(somatic_df, omics_mutations_df, cutoff=.1, show_percentage=False):  \n",
    "    import operator\n",
    "    unique_genes = somatic_df['Gene'].unique() # get series of all mutated genes\n",
    "    freq_mutated = []\n",
    "    gene_and_freq_d = {}\n",
    "    percentage = 0.0\n",
    "    \n",
    "    # get total tumor patients\n",
    "    tumors = omics_mutations_df.loc[omics_mutations_df['Sample_Status'] == 'Tumor']\n",
    "    total_tumor_patients = len(tumors)\n",
    "    \n",
    "    \"\"\"\n",
    "    #find sample (col or index) in gene_mutated (samples represent patients)\n",
    "    #gene_mutated: Endometrial and Colon samples found in column 1, Ovarian found in index\n",
    "    gene = 'PTEN'\n",
    "    gene_mutated = somatic_df.loc[somatic_df['Gene'] == gene]\n",
    "    ovarian = False\n",
    "    sample = 0\n",
    "    if gene_mutated.columns[0] == 'Gene':\n",
    "        sample = gene_mutated.index\n",
    "        ovarian = True\n",
    "    \"\"\"\n",
    "        \n",
    "    #find frequently mutated\n",
    "    for gene in unique_genes:\n",
    "        gene_mutated = somatic.loc[somatic['Gene'] == gene]\n",
    "        num_gene_mutated = len(gene_mutated['Patient_Id'].unique())     \n",
    "        percentage = (num_gene_mutated / total_tumor_patients)\n",
    "        if percentage > cutoff:\n",
    "            gene_and_freq_d[gene] = percentage\n",
    "\n",
    "    sorted_d = sorted(gene_and_freq_d.items(), key=operator.itemgetter(1), reverse=True)  \n",
    "    \n",
    "    \n",
    "    for i in range(0,len(sorted_d)):\n",
    "        certain_tuple = sorted_d[i]\n",
    "        gene, percent_mutated = certain_tuple\n",
    "        if show_percentage == True:\n",
    "            string_gene_percent = gene + ': %' + str('%.2f'%percent_mutated)\n",
    "            freq_mutated.append(string_gene_percent)\n",
    "        else:\n",
    "            freq_mutated.append(gene)\n",
    "  \n",
    "    return freq_mutated"
   ]
  },
  {
   "cell_type": "markdown",
   "metadata": {},
   "source": [
    "Get data"
   ]
  },
  {
   "cell_type": "code",
   "execution_count": 18,
   "metadata": {},
   "outputs": [],
   "source": [
    "somatic = en.get_mutations()\n",
    "clinical = en.get_clinical()\n",
    "prot = en.get_proteomics()\n",
    "gene = 'PTEN'\n",
    "omics_mutations = en.append_mutations_to_omics(mutation_genes=gene, omics_df=prot, omics_genes=gene)\n",
    "omics_mutations.head()\n",
    "gene_mutated = somatic[somatic['Gene'] == 'PTEN']\n",
    "#gene_mutated.head()\n",
    "#omics_mutations.head()"
   ]
  },
  {
   "cell_type": "markdown",
   "metadata": {},
   "source": [
    "# Test:  cutoff = .25"
   ]
  },
  {
   "cell_type": "code",
   "execution_count": 5,
   "metadata": {},
   "outputs": [],
   "source": [
    "list1 = get_frequently_mutated(somatic, omics_mutations, .25, show_percentage=True)"
   ]
  },
  {
   "cell_type": "code",
   "execution_count": 6,
   "metadata": {},
   "outputs": [
    {
     "name": "stdout",
     "output_type": "stream",
     "text": [
      "7\n"
     ]
    },
    {
     "data": {
      "text/plain": [
       "['PTEN: %0.79',\n",
       " 'PIK3CA: %0.49',\n",
       " 'ARID1A: %0.45',\n",
       " 'PIK3R1: %0.39',\n",
       " 'KRAS: %0.33',\n",
       " 'CTNNB1: %0.31',\n",
       " 'CTCF: %0.28']"
      ]
     },
     "execution_count": 6,
     "metadata": {},
     "output_type": "execute_result"
    }
   ],
   "source": [
    "print(len(list1))\n",
    "list1"
   ]
  },
  {
   "cell_type": "markdown",
   "metadata": {},
   "source": [
    "Test: check genes in freq_mutated list"
   ]
  },
  {
   "cell_type": "code",
   "execution_count": 11,
   "metadata": {},
   "outputs": [
    {
     "name": "stdout",
     "output_type": "stream",
     "text": [
      "23  /  95.0   0.24210526315789474\n",
      "false\n"
     ]
    }
   ],
   "source": [
    "gene = 'KMT2B'\n",
    "total_tumor_patients = 95.0\n",
    "cutoff = 0.25\n",
    "gene_mutated = somatic.loc[somatic['Gene'] == gene]\n",
    "patients_gene_mutated = len(gene_mutated['Patient_Id'].unique()) #series of patients with mutated gene\n",
    "\n",
    "print(patients_gene_mutated, ' / ', total_tumor_patients, ' ', (patients_gene_mutated / total_tumor_patients))\n",
    "if (patients_gene_mutated / total_tumor_patients) > cutoff: #>24\n",
    "    print('true')\n",
    "else:\n",
    "    print('false')"
   ]
  },
  {
   "cell_type": "markdown",
   "metadata": {},
   "source": [
    "Testing ideas"
   ]
  },
  {
   "cell_type": "code",
   "execution_count": 12,
   "metadata": {},
   "outputs": [
    {
     "name": "stdout",
     "output_type": "stream",
     "text": [
      "num of patients:  27\n",
      "23\n",
      "14133    C3L-00586\n",
      "Name: Patient_Id, dtype: object\n"
     ]
    }
   ],
   "source": [
    "#check to see if mulitple mutations in one gene\n",
    "\n",
    "patients = gene_mutated['Patient_Id']#series of ids\n",
    "print('num of patients: ',len(patients))\n",
    "\n",
    "#check each patient counted once #fixme check omics_mutations? \n",
    "print(len(gene_mutated['Patient_Id'].value_counts())) #gives num rows for each patient, descending order\n",
    "\n",
    "\n",
    "new = patients[patients == 'C3L-00586'] #gets index for certain patient\n",
    "print(new)\n"
   ]
  },
  {
   "cell_type": "code",
   "execution_count": 97,
   "metadata": {},
   "outputs": [
    {
     "data": {
      "text/plain": [
       "[('PTEN', 75),\n",
       " ('PIK3CA', 47),\n",
       " ('ARID1A', 43),\n",
       " ('PIK3R1', 37),\n",
       " ('KRAS', 31),\n",
       " ('CTNNB1', 29),\n",
       " ('CTCF', 27),\n",
       " ('KMT2B', 23)]"
      ]
     },
     "execution_count": 97,
     "metadata": {},
     "output_type": "execute_result"
    }
   ],
   "source": [
    "# sort list\n",
    "#make dictionary\n",
    "mydict = {}\n",
    "total_tumor_patients = 95\n",
    "cutoff = .1\n",
    "freq_mutated = []\n",
    "unique_genes = somatic['Gene'].unique()\n",
    "\n",
    "for gene in unique_genes:\n",
    "    gene_mutated = somatic.loc[somatic['Gene'] == gene]\n",
    "    num_gene_mutated = len(gene_mutated['Patient_Id'].unique())     \n",
    "    mydict[gene] = num_gene_mutated    \n",
    "        \n",
    "\n",
    "sorted_d = sorted(mydict.items(), key=operator.itemgetter(1), reverse=True)\n",
    "sorted_d[:8]"
   ]
  },
  {
   "cell_type": "code",
   "execution_count": null,
   "metadata": {},
   "outputs": [],
   "source": [
    "if (num_gene_mutated / total_tumor_patients) > cutoff:\n",
    "        freq_mutated.append(gene)"
   ]
  },
  {
   "cell_type": "code",
   "execution_count": 25,
   "metadata": {},
   "outputs": [
    {
     "name": "stdout",
     "output_type": "stream",
     "text": [
      "unique_genes:  14814\n"
     ]
    }
   ],
   "source": [
    "unique_genes = somatic['Gene'].unique()\n",
    "print('unique_genes: ', len(unique_genes))\n",
    "not_in_proteomics = []\n",
    "in_proteomics = []"
   ]
  },
  {
   "cell_type": "code",
   "execution_count": 15,
   "metadata": {},
   "outputs": [],
   "source": [
    "#challenges with append_mutations_to_omics, can't merge with somatic (prot vs gene names)\n",
    "#prepare list for .append_mutations_to_omics\n",
    "for gene in unique_genes:\n",
    "    if gene in proteomics.columns:\n",
    "        in_proteomics.append(gene)\n",
    "    else:\n",
    "        not_in_proteomics.append(gene)"
   ]
  },
  {
   "cell_type": "code",
   "execution_count": 20,
   "metadata": {},
   "outputs": [
    {
     "data": {
      "text/plain": [
       "6549"
      ]
     },
     "execution_count": 20,
     "metadata": {},
     "output_type": "execute_result"
    }
   ],
   "source": [
    "len(in_proteomics) #8265\n",
    "len(not_in_proteomics) #6549"
   ]
  },
  {
   "cell_type": "code",
   "execution_count": 14,
   "metadata": {},
   "outputs": [],
   "source": [
    "# test for loop to count genes\n",
    "total_tumor_patients = 95\n",
    "cutoff = .1\n",
    "freq_mutated = []\n",
    "unique_genes = somatic['Gene'].unique()\n",
    "for gene in unique_genes:\n",
    "    gene_mutated = somatic.loc[somatic['Gene'] == gene]\n",
    "    num_gene_mutated = len(gene_mutated)\n",
    "    if (num_gene_mutated / total_tumor_patients) > cutoff:\n",
    "            freq_mutated.append(gene)"
   ]
  }
 ],
 "metadata": {
  "kernelspec": {
   "display_name": "Python 3",
   "language": "python",
   "name": "python3"
  },
  "language_info": {
   "codemirror_mode": {
    "name": "ipython",
    "version": 3
   },
   "file_extension": ".py",
   "mimetype": "text/x-python",
   "name": "python",
   "nbconvert_exporter": "python",
   "pygments_lexer": "ipython3",
   "version": "3.7.3"
  }
 },
 "nbformat": 4,
 "nbformat_minor": 2
}
