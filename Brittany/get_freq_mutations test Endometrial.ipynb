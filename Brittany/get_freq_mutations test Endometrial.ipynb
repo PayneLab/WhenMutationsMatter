{
 "cells": [
  {
   "cell_type": "markdown",
   "metadata": {},
   "source": [
    "# get_freq_mutations test Endometrial"
   ]
  },
  {
   "cell_type": "code",
   "execution_count": 26,
   "metadata": {},
   "outputs": [],
   "source": [
    "import pandas as pd\n",
    "import seaborn as sns\n",
    "import matplotlib.pyplot as plt\n",
    "\n",
    "import CPTAC.Endometrial as en"
   ]
  },
  {
   "cell_type": "code",
   "execution_count": 27,
   "metadata": {},
   "outputs": [],
   "source": [
    "def get_frequently_mutated(somatic_df, omics_mutations_df, cutoff=.1):  \n",
    "    unique_genes = somatic_df['Gene'].unique() # get series of all mutated genes\n",
    "    freq_mutated = []\n",
    "    \n",
    "    # get total tumor patients\n",
    "    tumors = omics_mutations_df.loc[omics_mutations_df['Sample_Status'] == 'Tumor']\n",
    "    total_tumor_patients = len(tumors) \n",
    "    \n",
    "    for gene in unique_genes:\n",
    "        gene_mutated = somatic_df.loc[somatic['Gene'] == gene]\n",
    "        num_gene_mutated = len(gene_mutated)\n",
    "        if (num_gene_mutated / total_tumor_patients) > cutoff:\n",
    "            freq_mutated.append(gene)\n",
    "        \n",
    "    return freq_mutated"
   ]
  },
  {
   "cell_type": "code",
   "execution_count": 28,
   "metadata": {},
   "outputs": [],
   "source": [
    "#get df\n",
    "somatic = en.get_mutations()\n",
    "clinical = en.get_clinical()\n",
    "prot = en.get_proteomics()\n",
    "gene = 'PTEN'\n",
    "omics_mutations = en.append_mutations_to_omics(mutation_genes=gene, omics_df=prot, omics_genes=gene)"
   ]
  },
  {
   "cell_type": "code",
   "execution_count": 29,
   "metadata": {},
   "outputs": [],
   "source": [
    "list1 = get_frequently_mutated(somatic, omics_mutations, .25)"
   ]
  },
  {
   "cell_type": "code",
   "execution_count": 33,
   "metadata": {},
   "outputs": [
    {
     "name": "stdout",
     "output_type": "stream",
     "text": [
      "75\n"
     ]
    },
    {
     "data": {
      "text/plain": [
       "['ARID1A',\n",
       " 'NEB',\n",
       " 'LRP2',\n",
       " 'PIK3CA',\n",
       " 'FAT4',\n",
       " 'DNAH5',\n",
       " 'ADGRV1',\n",
       " 'APC',\n",
       " 'NSD1',\n",
       " 'DST',\n",
       " 'SYNE1',\n",
       " 'MAP3K4',\n",
       " 'DNAH11',\n",
       " 'KMT2C',\n",
       " 'ZFHX4',\n",
       " 'PTEN',\n",
       " 'LRRK2',\n",
       " 'RYR3',\n",
       " 'CTCF',\n",
       " 'KMT2B',\n",
       " 'ADGRG4',\n",
       " 'USH2A',\n",
       " 'DNAH14',\n",
       " 'IGSF10',\n",
       " 'KRAS',\n",
       " 'DNAH10',\n",
       " 'PIK3R1',\n",
       " 'COL6A3',\n",
       " 'CTNNB1',\n",
       " 'FAT2',\n",
       " 'PCLO',\n",
       " 'SPTA1',\n",
       " 'KMT2D',\n",
       " 'HERC2',\n",
       " 'ZFHX3',\n",
       " 'RNF213',\n",
       " 'OBSCN',\n",
       " 'APOB',\n",
       " 'FSIP2',\n",
       " 'DNAH7',\n",
       " 'ZDBF2',\n",
       " 'ANK2',\n",
       " 'DCHS2',\n",
       " 'DNAH8',\n",
       " 'EYS',\n",
       " 'REV3L',\n",
       " 'ABCA13',\n",
       " 'PTPRZ1',\n",
       " 'RP1',\n",
       " 'CSMD3',\n",
       " 'ANK3',\n",
       " 'DYNC2H1',\n",
       " 'SACS',\n",
       " 'CCDC168',\n",
       " 'AHNAK2',\n",
       " 'WDR87',\n",
       " 'DMD',\n",
       " 'ATRX',\n",
       " 'TENM1',\n",
       " 'HMCN1',\n",
       " 'DOCK3',\n",
       " 'BRWD3',\n",
       " 'MUC16',\n",
       " 'HUWE1',\n",
       " 'TENM3',\n",
       " 'LYST',\n",
       " 'RYR2',\n",
       " 'LRP1B',\n",
       " 'XIRP2',\n",
       " 'SI',\n",
       " 'MUC17',\n",
       " 'FAT3',\n",
       " 'SYNE2',\n",
       " 'DNAH3',\n",
       " 'INPPL1']"
      ]
     },
     "execution_count": 33,
     "metadata": {},
     "output_type": "execute_result"
    }
   ],
   "source": [
    "print(len(list1))\n",
    "list1"
   ]
  },
  {
   "cell_type": "code",
   "execution_count": 22,
   "metadata": {},
   "outputs": [
    {
     "name": "stdout",
     "output_type": "stream",
     "text": [
      "65  /  97   0.6701030927835051\n",
      "true\n"
     ]
    }
   ],
   "source": [
    "# check genes in freq_mutated list\n",
    "gene = 'ARID1A'\n",
    "total_tumor_patients = 97\n",
    "cutoff = .1\n",
    "gene_mutated = somatic.loc[somatic['Gene'] == gene]\n",
    "num_gene_mutated = len(gene_mutated)\n",
    "print(num_gene_mutated, ' / ', total_tumor_patients, ' ', (num_gene_mutated / total_tumor_patients))\n",
    "if (num_gene_mutated / total_tumor_patients) > cutoff:\n",
    "    print('true')\n",
    "else:\n",
    "    print('false')"
   ]
  },
  {
   "cell_type": "code",
   "execution_count": 25,
   "metadata": {},
   "outputs": [
    {
     "name": "stdout",
     "output_type": "stream",
     "text": [
      "unique_genes:  14814\n"
     ]
    }
   ],
   "source": [
    "unique_genes = somatic['Gene'].unique()\n",
    "print('unique_genes: ', len(unique_genes))\n",
    "not_in_proteomics = []\n",
    "in_proteomics = []"
   ]
  },
  {
   "cell_type": "code",
   "execution_count": 15,
   "metadata": {},
   "outputs": [],
   "source": [
    "#challenges with append_mutations_to_omics, can't merge with somatic (prot vs gene names)\n",
    "#prepare list for .append_mutations_to_omics\n",
    "for gene in unique_genes:\n",
    "    if gene in proteomics.columns:\n",
    "        in_proteomics.append(gene)\n",
    "    else:\n",
    "        not_in_proteomics.append(gene)"
   ]
  },
  {
   "cell_type": "code",
   "execution_count": 20,
   "metadata": {},
   "outputs": [
    {
     "data": {
      "text/plain": [
       "6549"
      ]
     },
     "execution_count": 20,
     "metadata": {},
     "output_type": "execute_result"
    }
   ],
   "source": [
    "len(in_proteomics) #8265\n",
    "len(not_in_proteomics) #6549"
   ]
  },
  {
   "cell_type": "code",
   "execution_count": 60,
   "metadata": {},
   "outputs": [
    {
     "name": "stdout",
     "output_type": "stream",
     "text": [
      "16\n"
     ]
    },
    {
     "data": {
      "text/html": [
       "<div>\n",
       "<style scoped>\n",
       "    .dataframe tbody tr th:only-of-type {\n",
       "        vertical-align: middle;\n",
       "    }\n",
       "\n",
       "    .dataframe tbody tr th {\n",
       "        vertical-align: top;\n",
       "    }\n",
       "\n",
       "    .dataframe thead th {\n",
       "        text-align: right;\n",
       "    }\n",
       "</style>\n",
       "<table border=\"1\" class=\"dataframe\">\n",
       "  <thead>\n",
       "    <tr style=\"text-align: right;\">\n",
       "      <th>attrib_name</th>\n",
       "      <th>Age</th>\n",
       "      <th>Gender</th>\n",
       "      <th>Mucinous</th>\n",
       "      <th>Subsite</th>\n",
       "      <th>pathalogy_T_stage</th>\n",
       "      <th>pathalogy_N_stage</th>\n",
       "      <th>Stage</th>\n",
       "      <th>CEA</th>\n",
       "      <th>Vascular_Invasion</th>\n",
       "      <th>Lymphatic_Invasion</th>\n",
       "      <th>...</th>\n",
       "      <th>Vital.Status</th>\n",
       "      <th>Tumor.Status</th>\n",
       "      <th>Mutation_Phenotype</th>\n",
       "      <th>StromalScore</th>\n",
       "      <th>ImmuneScore</th>\n",
       "      <th>ESTIMATEScore</th>\n",
       "      <th>TumorPurity</th>\n",
       "      <th>immuneSubtype</th>\n",
       "      <th>CIN</th>\n",
       "      <th>Integrated.Phenotype</th>\n",
       "    </tr>\n",
       "  </thead>\n",
       "  <tbody>\n",
       "    <tr>\n",
       "      <th>01CO006</th>\n",
       "      <td>904</td>\n",
       "      <td>Female</td>\n",
       "      <td>Mucinous</td>\n",
       "      <td>Ascending Colon</td>\n",
       "      <td>T4a</td>\n",
       "      <td>N2b</td>\n",
       "      <td>Stage III</td>\n",
       "      <td>NaN</td>\n",
       "      <td>Yes</td>\n",
       "      <td>Yes</td>\n",
       "      <td>...</td>\n",
       "      <td>Living</td>\n",
       "      <td>With tumor</td>\n",
       "      <td>MSS</td>\n",
       "      <td>466.1746</td>\n",
       "      <td>1542.0233</td>\n",
       "      <td>2008.198</td>\n",
       "      <td>0.6218</td>\n",
       "      <td>2</td>\n",
       "      <td>CIN.low</td>\n",
       "      <td>EMT</td>\n",
       "    </tr>\n",
       "    <tr>\n",
       "      <th>01CO008</th>\n",
       "      <td>652</td>\n",
       "      <td>Female</td>\n",
       "      <td>Mucinous</td>\n",
       "      <td>Descending Colon</td>\n",
       "      <td>T3</td>\n",
       "      <td>N0</td>\n",
       "      <td>Stage II</td>\n",
       "      <td>NaN</td>\n",
       "      <td>No</td>\n",
       "      <td>No</td>\n",
       "      <td>...</td>\n",
       "      <td>Living</td>\n",
       "      <td>With tumor</td>\n",
       "      <td>MSS</td>\n",
       "      <td>-1122.8413</td>\n",
       "      <td>-54.7177</td>\n",
       "      <td>-1177.559</td>\n",
       "      <td>0.9081</td>\n",
       "      <td>1</td>\n",
       "      <td>CIN.high</td>\n",
       "      <td>Epithelial</td>\n",
       "    </tr>\n",
       "    <tr>\n",
       "      <th>01CO014</th>\n",
       "      <td>930</td>\n",
       "      <td>Female</td>\n",
       "      <td>Mucinous</td>\n",
       "      <td>Hepatix Flexure</td>\n",
       "      <td>T3</td>\n",
       "      <td>N2a</td>\n",
       "      <td>Stage III</td>\n",
       "      <td>3.6</td>\n",
       "      <td>No</td>\n",
       "      <td>No</td>\n",
       "      <td>...</td>\n",
       "      <td>Living</td>\n",
       "      <td>With tumor</td>\n",
       "      <td>MSI-H</td>\n",
       "      <td>-824.9369</td>\n",
       "      <td>636.0912</td>\n",
       "      <td>-188.8456</td>\n",
       "      <td>0.838</td>\n",
       "      <td>3</td>\n",
       "      <td>CIN.high</td>\n",
       "      <td>Hypermutated</td>\n",
       "    </tr>\n",
       "    <tr>\n",
       "      <th>01CO019</th>\n",
       "      <td>757</td>\n",
       "      <td>Female</td>\n",
       "      <td>Mucinous</td>\n",
       "      <td>Sigmoid Colon</td>\n",
       "      <td>T4a</td>\n",
       "      <td>N2a</td>\n",
       "      <td>Stage III</td>\n",
       "      <td>3.5</td>\n",
       "      <td>Yes</td>\n",
       "      <td>Yes</td>\n",
       "      <td>...</td>\n",
       "      <td>Living</td>\n",
       "      <td>With tumor</td>\n",
       "      <td>MSS</td>\n",
       "      <td>-735.6004</td>\n",
       "      <td>-168.7173</td>\n",
       "      <td>-904.3177</td>\n",
       "      <td>0.8905</td>\n",
       "      <td>1</td>\n",
       "      <td>CIN.high</td>\n",
       "      <td>Epithelial</td>\n",
       "    </tr>\n",
       "    <tr>\n",
       "      <th>05CO033</th>\n",
       "      <td>737</td>\n",
       "      <td>Male</td>\n",
       "      <td>Mucinous</td>\n",
       "      <td>Cecum</td>\n",
       "      <td>T2</td>\n",
       "      <td>N2a</td>\n",
       "      <td>Stage III</td>\n",
       "      <td>1.8</td>\n",
       "      <td>Yes</td>\n",
       "      <td>Yes</td>\n",
       "      <td>...</td>\n",
       "      <td>Living</td>\n",
       "      <td>With tumor</td>\n",
       "      <td>MSS</td>\n",
       "      <td>1082.1732</td>\n",
       "      <td>1782.7777</td>\n",
       "      <td>2864.951</td>\n",
       "      <td>0.5186</td>\n",
       "      <td>2</td>\n",
       "      <td>CIN.low</td>\n",
       "      <td>EMT</td>\n",
       "    </tr>\n",
       "  </tbody>\n",
       "</table>\n",
       "<p>5 rows × 27 columns</p>\n",
       "</div>"
      ],
      "text/plain": [
       "attrib_name  Age  Gender  Mucinous           Subsite pathalogy_T_stage  \\\n",
       "01CO006      904  Female  Mucinous   Ascending Colon               T4a   \n",
       "01CO008      652  Female  Mucinous  Descending Colon                T3   \n",
       "01CO014      930  Female  Mucinous   Hepatix Flexure                T3   \n",
       "01CO019      757  Female  Mucinous     Sigmoid Colon               T4a   \n",
       "05CO033      737    Male  Mucinous             Cecum                T2   \n",
       "\n",
       "attrib_name pathalogy_N_stage      Stage  CEA Vascular_Invasion  \\\n",
       "01CO006                   N2b  Stage III  NaN               Yes   \n",
       "01CO008                    N0   Stage II  NaN                No   \n",
       "01CO014                   N2a  Stage III  3.6                No   \n",
       "01CO019                   N2a  Stage III  3.5               Yes   \n",
       "05CO033                   N2a  Stage III  1.8               Yes   \n",
       "\n",
       "attrib_name Lymphatic_Invasion  ... Vital.Status Tumor.Status  \\\n",
       "01CO006                    Yes  ...       Living   With tumor   \n",
       "01CO008                     No  ...       Living   With tumor   \n",
       "01CO014                     No  ...       Living   With tumor   \n",
       "01CO019                    Yes  ...       Living   With tumor   \n",
       "05CO033                    Yes  ...       Living   With tumor   \n",
       "\n",
       "attrib_name Mutation_Phenotype StromalScore ImmuneScore ESTIMATEScore  \\\n",
       "01CO006                    MSS     466.1746   1542.0233      2008.198   \n",
       "01CO008                    MSS   -1122.8413    -54.7177     -1177.559   \n",
       "01CO014                  MSI-H    -824.9369    636.0912     -188.8456   \n",
       "01CO019                    MSS    -735.6004   -168.7173     -904.3177   \n",
       "05CO033                    MSS    1082.1732   1782.7777      2864.951   \n",
       "\n",
       "attrib_name TumorPurity immuneSubtype       CIN Integrated.Phenotype  \n",
       "01CO006          0.6218             2   CIN.low                  EMT  \n",
       "01CO008          0.9081             1  CIN.high           Epithelial  \n",
       "01CO014           0.838             3  CIN.high         Hypermutated  \n",
       "01CO019          0.8905             1  CIN.high           Epithelial  \n",
       "05CO033          0.5186             2   CIN.low                  EMT  \n",
       "\n",
       "[5 rows x 27 columns]"
      ]
     },
     "execution_count": 60,
     "metadata": {},
     "output_type": "execute_result"
    }
   ],
   "source": [
    "#option 1:get total patients\n",
    "total = clinical.loc[clinical[#'#fixme'] == 'Tumor']\n",
    "print(len(total)) #95 for endometrial\n",
    "\n",
    "    #colon\n",
    "#total = clinical.loc[clinical['Tumor.Status'] == 'With tumor']\n",
    "#print(len(total)) #16 with tumor for colon"
   ]
  },
  {
   "cell_type": "code",
   "execution_count": 28,
   "metadata": {},
   "outputs": [
    {
     "name": "stdout",
     "output_type": "stream",
     "text": [
      "95\n"
     ]
    }
   ],
   "source": [
    "#option 2: trying to use append_mutations_to_omics to get total patients\n",
    "gene = 'PTEN'\n",
    "omics_mutations = en.append_mutations_to_omics(mutation_genes=gene, omics_df=prot, omics_genes=gene)\n",
    "tumors = omics_mutations.loc[omics_mutations['Sample_Status'] == 'Tumor']\n",
    "total_tumor_count = len(tumors)\n",
    "print(total_tumor_count)"
   ]
  },
  {
   "cell_type": "code",
   "execution_count": 43,
   "metadata": {},
   "outputs": [
    {
     "data": {
      "text/plain": [
       "46"
      ]
     },
     "execution_count": 43,
     "metadata": {},
     "output_type": "execute_result"
    }
   ],
   "source": [
    "#count mutated\n",
    "gene1 = somatic.loc[somatic['Gene'] == 'PIK3R1']\n",
    "count = len(gene1)\n",
    "count"
   ]
  },
  {
   "cell_type": "code",
   "execution_count": 44,
   "metadata": {},
   "outputs": [],
   "source": [
    "# test for loop to count genes\n",
    "total_tumor_patients = 95\n",
    "cutoff = .1\n",
    "freq_mutated = []\n",
    "for gene in unique_genes:\n",
    "    gene_mutated = somatic.loc[somatic['Gene'] == gene]\n",
    "    num_gene_mutated = len(gene_mutated)\n",
    "    if (num_gene_mutated / total_tumor_patients) > cutoff:\n",
    "            freq_mutated.append(gene)"
   ]
  },
  {
   "cell_type": "code",
   "execution_count": 46,
   "metadata": {},
   "outputs": [
    {
     "data": {
      "text/plain": [
       "814"
      ]
     },
     "execution_count": 46,
     "metadata": {},
     "output_type": "execute_result"
    }
   ],
   "source": [
    "len(freq_mutated)"
   ]
  },
  {
   "cell_type": "code",
   "execution_count": null,
   "metadata": {},
   "outputs": [],
   "source": []
  }
 ],
 "metadata": {
  "kernelspec": {
   "display_name": "Python 3",
   "language": "python",
   "name": "python3"
  },
  "language_info": {
   "codemirror_mode": {
    "name": "ipython",
    "version": 3
   },
   "file_extension": ".py",
   "mimetype": "text/x-python",
   "name": "python",
   "nbconvert_exporter": "python",
   "pygments_lexer": "ipython3",
   "version": "3.7.3"
  }
 },
 "nbformat": 4,
 "nbformat_minor": 2
}
