{
 "cells": [
  {
   "cell_type": "code",
   "execution_count": 1,
   "metadata": {},
   "outputs": [
    {
     "name": "stdout",
     "output_type": "stream",
     "text": [
      "Welcome to the CPTAC data service package. Available datasets may be\n",
      "viewed using CPTAC.list_data(). In order to access a specific data\n",
      "set, import a CPTAC subfolder using either 'import CPTAC.Dataset' or\n",
      "'from CPTAC import Dataset'.\n",
      "******\n",
      "Version: 0.3.1\n",
      "******\n",
      "Loading Endometrial CPTAC data:\n",
      "Loading Dictionary...\n",
      "Loading Clinical Data...\n",
      "Loading Acetylation Proteomics Data...\n",
      "Loading Proteomics Data...\n",
      "Loading Transcriptomics Data...\n",
      "Loading CNA Data...\n",
      "Loading Phosphoproteomics Data...\n",
      "Loading Somatic Mutation Data...\n",
      "\n",
      " ******PLEASE READ******\n",
      "WARNING: This data is under a publication embargo until July 1, 2019.\n",
      "CPTAC is a community resource project and data are made available\n",
      "rapidly after generation for community research use. The embargo\n",
      "allows exploring and utilizing the data, but the data may not be in a\n",
      "publication until July 1, 2019. Please see\n",
      "https://proteomics.cancer.gov/data-portal/about/data-use-agreement or\n",
      "enter embargo() to open the webpage for more details.\n"
     ]
    }
   ],
   "source": [
    "import pandas as pd\n",
    "import seaborn as sns\n",
    "import matplotlib.pyplot as plt\n",
    "\n",
    "import CPTAC.Endometrial as en"
   ]
  },
  {
   "cell_type": "code",
   "execution_count": 2,
   "metadata": {},
   "outputs": [],
   "source": [
    "def get_frequently_mutated(somatic_df, omics_mutations_df, cutoff = .1): #use default for the 1st parameters?\n",
    "    \"\"\"take DataFrames of somatic mutations and omics_mutations to determine the frequently mutated genes compared to the cutoff\n",
    "        \n",
    "        Parameters:\n",
    "        somatic_df (pandas.core.frame.DataFrame): Somatic mutation dataframe.\n",
    "        omics_mutations_df (pandas.core.frame.DataFrame): merged dataframe of any gene and proteomics (used to find total_tumor_patients)\n",
    "        cutoff (float): used as comparison to determine status of gene mutation frequency\n",
    "        \n",
    "        Returns:\n",
    "        freq_mutated (list): list of frequently mutated genes passing the cutoff\"\"\"\n",
    "    \n",
    "    freq_mutated = []\n",
    "    # get series of all mutated genes\n",
    "    unique_genes = somatic_df['Gene'].unique() \n",
    "    \n",
    "    # get number of tumor patients\n",
    "    tumors = omics_mutations_df.loc[omics_mutations_df['Sample_Status'] == 'Tumor']\n",
    "    total_tumor_patients = len(tumors) \n",
    "    \n",
    "    for gene in unique_genes:\n",
    "        gene_mutated = somatic_df.loc[somatic['Gene'] == gene]\n",
    "        num_gene_mutated = len(gene_mutated)\n",
    "        if (num_gene_mutated / total_tumor_patients) > cutoff:\n",
    "            freq_mutated.append(gene)\n",
    "        \n",
    "    return freq_mutated\n",
    "           "
   ]
  },
  {
   "cell_type": "code",
   "execution_count": 4,
   "metadata": {},
   "outputs": [],
   "source": [
    "somatic = en.get_mutations()\n",
    "prot = en.get_proteomics()\n",
    "gene = 'PTEN'\n",
    "omics_mutations = en.append_mutations_to_omics(mutation_genes = gene, omics_df = prot, omics_genes = gene)\n"
   ]
  },
  {
   "cell_type": "code",
   "execution_count": 5,
   "metadata": {},
   "outputs": [
    {
     "name": "stdout",
     "output_type": "stream",
     "text": [
      "75\n"
     ]
    }
   ],
   "source": [
    "list1 = get_frequently_mutated(somatic, omics_mutations, .25)\n",
    "print(len(list1))"
   ]
  },
  {
   "cell_type": "code",
   "execution_count": 6,
   "metadata": {},
   "outputs": [
    {
     "data": {
      "text/plain": [
       "['ARID1A',\n",
       " 'NEB',\n",
       " 'LRP2',\n",
       " 'PIK3CA',\n",
       " 'FAT4',\n",
       " 'DNAH5',\n",
       " 'ADGRV1',\n",
       " 'APC',\n",
       " 'NSD1',\n",
       " 'DST',\n",
       " 'SYNE1',\n",
       " 'MAP3K4',\n",
       " 'DNAH11',\n",
       " 'KMT2C',\n",
       " 'ZFHX4',\n",
       " 'PTEN',\n",
       " 'LRRK2',\n",
       " 'RYR3',\n",
       " 'CTCF',\n",
       " 'KMT2B',\n",
       " 'ADGRG4',\n",
       " 'USH2A',\n",
       " 'DNAH14',\n",
       " 'IGSF10',\n",
       " 'KRAS',\n",
       " 'DNAH10',\n",
       " 'PIK3R1',\n",
       " 'COL6A3',\n",
       " 'CTNNB1',\n",
       " 'FAT2',\n",
       " 'PCLO',\n",
       " 'SPTA1',\n",
       " 'KMT2D',\n",
       " 'HERC2',\n",
       " 'ZFHX3',\n",
       " 'RNF213',\n",
       " 'OBSCN',\n",
       " 'APOB',\n",
       " 'FSIP2',\n",
       " 'DNAH7',\n",
       " 'ZDBF2',\n",
       " 'ANK2',\n",
       " 'DCHS2',\n",
       " 'DNAH8',\n",
       " 'EYS',\n",
       " 'REV3L',\n",
       " 'ABCA13',\n",
       " 'PTPRZ1',\n",
       " 'RP1',\n",
       " 'CSMD3',\n",
       " 'ANK3',\n",
       " 'DYNC2H1',\n",
       " 'SACS',\n",
       " 'CCDC168',\n",
       " 'AHNAK2',\n",
       " 'WDR87',\n",
       " 'DMD',\n",
       " 'ATRX',\n",
       " 'TENM1',\n",
       " 'HMCN1',\n",
       " 'DOCK3',\n",
       " 'BRWD3',\n",
       " 'MUC16',\n",
       " 'HUWE1',\n",
       " 'TENM3',\n",
       " 'LYST',\n",
       " 'RYR2',\n",
       " 'LRP1B',\n",
       " 'XIRP2',\n",
       " 'SI',\n",
       " 'MUC17',\n",
       " 'FAT3',\n",
       " 'SYNE2',\n",
       " 'DNAH3',\n",
       " 'INPPL1']"
      ]
     },
     "execution_count": 6,
     "metadata": {},
     "output_type": "execute_result"
    }
   ],
   "source": [
    "list1"
   ]
  },
  {
   "cell_type": "code",
   "execution_count": 8,
   "metadata": {},
   "outputs": [
    {
     "name": "stdout",
     "output_type": "stream",
     "text": [
      "25  /  97   0.25773195876288657\n",
      "true\n"
     ]
    }
   ],
   "source": [
    "# check genes in freq_mutated list\n",
    "gene = 'ATRX'\n",
    "total_tumor_patients = 97\n",
    "cutoff = .1\n",
    "gene_mutated = somatic.loc[somatic['Gene'] == gene]\n",
    "num_gene_mutated = len(gene_mutated)\n",
    "print(num_gene_mutated, ' / ', total_tumor_patients, ' ', (num_gene_mutated / total_tumor_patients))\n",
    "if (num_gene_mutated / total_tumor_patients) > cutoff:\n",
    "    print('true')\n",
    "else:\n",
    "    print('false')"
   ]
  },
  {
   "cell_type": "code",
   "execution_count": null,
   "metadata": {},
   "outputs": [],
   "source": []
  }
 ],
 "metadata": {
  "kernelspec": {
   "display_name": "Python 3",
   "language": "python",
   "name": "python3"
  },
  "language_info": {
   "codemirror_mode": {
    "name": "ipython",
    "version": 3
   },
   "file_extension": ".py",
   "mimetype": "text/x-python",
   "name": "python",
   "nbconvert_exporter": "python",
   "pygments_lexer": "ipython3",
   "version": "3.6.8"
  }
 },
 "nbformat": 4,
 "nbformat_minor": 2
}
