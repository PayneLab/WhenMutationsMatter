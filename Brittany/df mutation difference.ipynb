{
 "cells": [
  {
   "cell_type": "code",
   "execution_count": 5,
   "metadata": {},
   "outputs": [
    {
     "name": "stdout",
     "output_type": "stream",
     "text": [
      "You have loaded the cptac colon dataset. To view available dataframes,\n",
      "use cptac.colon.list_data(). To view available functions for accessing\n",
      "and manipulating the dataframes, use cptac.colon.list_api().\n",
      "colon data version: Most recent release\n",
      "\n",
      "Loading cptac colon data:\n",
      "Loading clinical data...\n",
      "Loading miRNA data...\n",
      "Loading mutation data...\n",
      "Loading mutation_binary data...\n",
      "Loading phosphoproteomics_normal data...\n",
      "Loading phosphoproteomics_tumor data...\n",
      "Loading proteomics_normal data...\n",
      "Loading proteomics_tumor data...\n",
      "Loading transcriptomics data...\n"
     ]
    }
   ],
   "source": [
    "import pandas as pd\n",
    "import seaborn as sns\n",
    "import matplotlib.pyplot as plt\n",
    "\n",
    "import cptac.colon as cptac"
   ]
  },
  {
   "cell_type": "code",
   "execution_count": 6,
   "metadata": {},
   "outputs": [],
   "source": [
    "somatic_mutations = cptac.get_mutations()\n",
    "proteomics = cptac.get_proteomics()\n",
    "sample_status_map = cptac.get_sample_status_map()\n",
    "merged_mutations = somatic_mutations.join(sample_status_map, how=\"left\")"
   ]
  },
  {
   "cell_type": "code",
   "execution_count": 13,
   "metadata": {},
   "outputs": [
    {
     "name": "stdout",
     "output_type": "stream",
     "text": [
      "Colon:\n"
     ]
    },
    {
     "data": {
      "text/plain": [
       "array(['nonsynonymous SNV', 'frameshift substitution',\n",
       "       'frameshift deletion', 'frameshift insertion', 'stopgain',\n",
       "       'nonframeshift insertion', 'nonframeshift deletion',\n",
       "       'nonframeshift substitution', 'stoploss'], dtype=object)"
      ]
     },
     "execution_count": 13,
     "metadata": {},
     "output_type": "execute_result"
    }
   ],
   "source": [
    "print('Colon:')\n",
    "somatic_mutations['Mutation'].unique()"
   ]
  },
  {
   "cell_type": "code",
   "execution_count": 15,
   "metadata": {},
   "outputs": [],
   "source": [
    "import cptac.endometrial as c"
   ]
  },
  {
   "cell_type": "code",
   "execution_count": 16,
   "metadata": {},
   "outputs": [],
   "source": [
    "somatic_mutations = c.get_mutations()\n",
    "proteomics = c.get_proteomics()\n",
    "sample_status_map = c.get_sample_status_map()\n",
    "merged_mutations = somatic_mutations.join(sample_status_map, how=\"left\")"
   ]
  },
  {
   "cell_type": "code",
   "execution_count": 17,
   "metadata": {},
   "outputs": [
    {
     "name": "stdout",
     "output_type": "stream",
     "text": [
      "Endo:\n"
     ]
    },
    {
     "data": {
      "text/plain": [
       "array(['Frame_Shift_Del', 'Missense_Mutation', 'Nonsense_Mutation',\n",
       "       'Splice_Site', 'Frame_Shift_Ins', 'Nonstop_Mutation',\n",
       "       'In_Frame_Del', 'In_Frame_Ins'], dtype=object)"
      ]
     },
     "execution_count": 17,
     "metadata": {},
     "output_type": "execute_result"
    }
   ],
   "source": [
    "print('Endo:')\n",
    "somatic_mutations['Mutation'].unique()"
   ]
  },
  {
   "cell_type": "code",
   "execution_count": null,
   "metadata": {},
   "outputs": [],
   "source": []
  }
 ],
 "metadata": {
  "kernelspec": {
   "display_name": "Python 3",
   "language": "python",
   "name": "python3"
  },
  "language_info": {
   "codemirror_mode": {
    "name": "ipython",
    "version": 3
   },
   "file_extension": ".py",
   "mimetype": "text/x-python",
   "name": "python",
   "nbconvert_exporter": "python",
   "pygments_lexer": "ipython3",
   "version": "3.7.3"
  }
 },
 "nbformat": 4,
 "nbformat_minor": 2
}
