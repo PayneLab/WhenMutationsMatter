{
 "cells": [
  {
   "cell_type": "markdown",
   "metadata": {},
   "source": [
    "# get_frequently_mutated Final "
   ]
  },
  {
   "cell_type": "code",
   "execution_count": 82,
   "metadata": {},
   "outputs": [
    {
     "name": "stdout",
     "output_type": "stream",
     "text": [
      "                                    \r"
     ]
    }
   ],
   "source": [
    "import cptac\n",
    "#en = cptac.Endometrial()\n",
    "#co = cptac.Colon()\n",
    "#ov = cptac.Ovarian()\n",
    "rc = cptac.RenalCcrcc()\n",
    "\n",
    "import pandas as pd\n",
    "import numpy as np"
   ]
  },
  {
   "cell_type": "code",
   "execution_count": null,
   "metadata": {},
   "outputs": [],
   "source": [
    "def get_frequently_mutated(cancer_object, cutoff = 0.1):  \n",
    "    \"\"\"\n",
    "    Takes a cancer object and find the frequently \n",
    "    mutated genes (in the tumor samples) compared to the cutoff.\n",
    "    Parameters:\n",
    "    cancer_object (object): cancer type from cptac module \n",
    "    cutoff (float): used as a comparison to determine the \n",
    "                    status of gene mutation frequency\n",
    "    Returns:\n",
    "    freq_mutated_df (pd.DataFrame): DataFrame of frequently \n",
    "        mutated genes passing the cutoff. Columns contain the \n",
    "        fractions of total unique mutations,missence type \n",
    "        mutations, and truncation type mutations per gene.\n",
    "    \n",
    "    The Missence_Mut column includes: \n",
    "        In_Frame_Del, In_Frame_Ins, Missense_Mutation\n",
    "   \n",
    "    The Truncation_Mut column includes: \n",
    "        Frame_Shift_Del, Frame_Shift_Ins, Splice_Site, \n",
    "        Nonsense_Mutation, Nonstop_Mutation\n",
    "        \n",
    "    These columns count multiple mutations of one gene in the \n",
    "    same sample, so fractions in the last two columns may \n",
    "    exceed the Unique_Samples_Mut column which only counts if \n",
    "    the gene was mutated once per sample.\"\"\"    \n",
    "    \n",
    "    # Get total tumors/patients\n",
    "    omics_and_mutations = cancer_object.join_omics_to_mutations(\n",
    "        mutations_genes = 'TP53', omics_df_name = 'proteomics', omics_genes = 'TP53')\n",
    "    tumors = omics_and_mutations.loc[omics_and_mutations['Sample_Status'] == 'Tumor'] \n",
    "    total_tumor_samples = len(tumors)\n",
    "    \n",
    "    # Get mutations data frame\n",
    "    somatic_mutations = cancer_object.get_mutations() \n",
    "\n",
    "    # Drop silent mutations for Ovarian and RenalCcrcc dataset \n",
    "    if 'Silent' in somatic_mutations['Mutation'].unique():\n",
    "        origin_df = somatic_mutations.loc[somatic_mutations['Mutation'] != 'Silent'].reset_index()\n",
    "    else:\n",
    "        origin_df = somatic_mutations.reset_index() #prepare to count unique samples\n",
    "        \n",
    "    # Create two categories in Mutation column - 'M': Missence, 'T': Truncation\n",
    "    if cancer_object.get_cancer_type() == 'colon':\n",
    "        missence_truncation_groups = {'frameshift substitution': 'T', \n",
    "            'frameshift deletion': 'T', 'frameshift insertion': 'T', \n",
    "            'stopgain': 'T', 'stoploss': 'T', 'nonsynonymous SNV': 'M',\n",
    "            'nonframeshift insertion': 'M','nonframeshift deletion': 'M', \n",
    "            'nonframeshift substitution': 'M'}\n",
    "    else: \n",
    "        missence_truncation_groups = {'In_Frame_Del': 'M', 'In_Frame_Ins': 'M',\n",
    "            'Missense_Mutation': 'M', 'Frame_Shift_Del': 'T','Nonsense_Mutation': 'T', \n",
    "            'Splice_Site': 'T', 'Frame_Shift_Ins': 'T','Nonstop_Mutation':'T'}\n",
    "    mutations_replaced_M_T = origin_df.replace(missence_truncation_groups)\n",
    "    # Check that all mutation names are catagorized\n",
    "    if len(mutations_replaced_M_T['Mutation'].unique()) != 2:\n",
    "        print('Warning: New mutation name not classified. Counts will be affected.')\n",
    "    \n",
    "    # Find frequently mutated genes (total fraction > cutoff)\n",
    "    # Step 1 - group by gene and count unique samples\n",
    "    count_mutations = origin_df.groupby(['Gene']).nunique()\n",
    "    # Step 2 - format\n",
    "    count_mutations = count_mutations.rename(columns={\"Sample_ID\": \"Unique_Samples_Mut\"})\n",
    "    count_mutations = count_mutations.drop(['Gene', 'Mutation','Location'], axis = 1)\n",
    "    # Step 3 - filter using the cutoff and create fraction\n",
    "    fraction_mutated = count_mutations.apply(lambda x: x / total_tumor_samples)\n",
    "    fraction_greater_than_cutoff = fraction_mutated.where(lambda x: x > cutoff) #na used when false\n",
    "    filtered_gene_df = fraction_greater_than_cutoff.dropna()\n",
    "    \n",
    "    # Create and join Missence column (following similar steps as seen above)\n",
    "    miss = mutations_replaced_M_T.loc[mutations_replaced_M_T['Mutation'] == 'M']\n",
    "    count_miss = miss.groupby(['Gene']).nunique()\n",
    "    missence_df = count_miss.rename(columns={\"Sample_ID\": \"Missence_Mut\"})\n",
    "    missence_df = missence_df.drop(['Gene', 'Mutation', 'Location'], axis = 1)\n",
    "    fraction_missence = missence_df.apply(lambda x: x / total_tumor_samples)\n",
    "    freq_mutated_df = filtered_gene_df.join(fraction_missence, how='left').fillna(0)\n",
    "    \n",
    "    # Create and join Truncation column (following similar steps as seen above)\n",
    "    trunc = mutations_replaced_M_T.loc[mutations_replaced_M_T['Mutation'] == 'T']\n",
    "    count_trunc = trunc.groupby(['Gene']).nunique()\n",
    "    truncation_df = count_trunc.rename(columns={\"Sample_ID\": \"Truncation_Mut\"})\n",
    "    truncation_df = truncation_df.drop(['Gene', 'Mutation', 'Location'], axis = 1)\n",
    "    fraction_truncation = truncation_df.apply(lambda x: x / total_tumor_samples)\n",
    "    freq_mutated_df = freq_mutated_df.join(fraction_truncation, how='left').fillna(0)\n",
    "    freq_mutated_df = freq_mutated_df.reset_index() #move genes to their own column\n",
    "\n",
    "    return freq_mutated_df"
   ]
  },
  {
   "cell_type": "code",
   "execution_count": 84,
   "metadata": {},
   "outputs": [
    {
     "data": {
      "text/html": [
       "<div>\n",
       "<style scoped>\n",
       "    .dataframe tbody tr th:only-of-type {\n",
       "        vertical-align: middle;\n",
       "    }\n",
       "\n",
       "    .dataframe tbody tr th {\n",
       "        vertical-align: top;\n",
       "    }\n",
       "\n",
       "    .dataframe thead th {\n",
       "        text-align: right;\n",
       "    }\n",
       "</style>\n",
       "<table border=\"1\" class=\"dataframe\">\n",
       "  <thead>\n",
       "    <tr style=\"text-align: right;\">\n",
       "      <th></th>\n",
       "      <th>Gene</th>\n",
       "      <th>Unique_Samples_Mut</th>\n",
       "      <th>Missence_Mut</th>\n",
       "      <th>Truncation_Mut</th>\n",
       "    </tr>\n",
       "  </thead>\n",
       "  <tbody>\n",
       "    <tr>\n",
       "      <th>0</th>\n",
       "      <td>BAP1</td>\n",
       "      <td>0.154545</td>\n",
       "      <td>0.063636</td>\n",
       "      <td>0.090909</td>\n",
       "    </tr>\n",
       "    <tr>\n",
       "      <th>1</th>\n",
       "      <td>KDM5C</td>\n",
       "      <td>0.172727</td>\n",
       "      <td>0.036364</td>\n",
       "      <td>0.145455</td>\n",
       "    </tr>\n",
       "    <tr>\n",
       "      <th>2</th>\n",
       "      <td>PBRM1</td>\n",
       "      <td>0.400000</td>\n",
       "      <td>0.072727</td>\n",
       "      <td>0.336364</td>\n",
       "    </tr>\n",
       "    <tr>\n",
       "      <th>3</th>\n",
       "      <td>SETD2</td>\n",
       "      <td>0.136364</td>\n",
       "      <td>0.018182</td>\n",
       "      <td>0.118182</td>\n",
       "    </tr>\n",
       "    <tr>\n",
       "      <th>4</th>\n",
       "      <td>TTN</td>\n",
       "      <td>0.118182</td>\n",
       "      <td>0.090909</td>\n",
       "      <td>0.036364</td>\n",
       "    </tr>\n",
       "    <tr>\n",
       "      <th>5</th>\n",
       "      <td>VHL</td>\n",
       "      <td>0.745455</td>\n",
       "      <td>0.300000</td>\n",
       "      <td>0.445455</td>\n",
       "    </tr>\n",
       "  </tbody>\n",
       "</table>\n",
       "</div>"
      ],
      "text/plain": [
       "    Gene  Unique_Samples_Mut  Missence_Mut  Truncation_Mut\n",
       "0   BAP1            0.154545      0.063636        0.090909\n",
       "1  KDM5C            0.172727      0.036364        0.145455\n",
       "2  PBRM1            0.400000      0.072727        0.336364\n",
       "3  SETD2            0.136364      0.018182        0.118182\n",
       "4    TTN            0.118182      0.090909        0.036364\n",
       "5    VHL            0.745455      0.300000        0.445455"
      ]
     },
     "execution_count": 84,
     "metadata": {},
     "output_type": "execute_result"
    }
   ],
   "source": [
    "df = get_frequently_mutated(rc, .1)\n",
    "df"
   ]
  },
  {
   "cell_type": "code",
   "execution_count": 85,
   "metadata": {},
   "outputs": [
    {
     "name": "stdout",
     "output_type": "stream",
     "text": [
      "           Gene           Mutation          Location\n",
      "Sample_ID                                           \n",
      "S003       BAP1    Frame_Shift_Del      p.S473Wfs*95\n",
      "S014       BAP1    Frame_Shift_Del       p.P618Lfs*5\n",
      "S019       BAP1    Frame_Shift_Del      p.S473Vfs*98\n",
      "S029       BAP1  Missense_Mutation           p.F170C\n",
      "S030       BAP1  Missense_Mutation           p.F170L\n",
      "S034       BAP1    Frame_Shift_Ins            p.D73*\n",
      "S040       BAP1  Missense_Mutation           p.G185E\n",
      "S051       BAP1  Missense_Mutation            p.T93A\n",
      "S054       BAP1  Missense_Mutation            p.W52G\n",
      "S085       BAP1        Splice_Site     p.X686_splice\n",
      "S100       BAP1    Frame_Shift_Ins      p.L183Sfs*10\n",
      "S105       BAP1    Frame_Shift_Del      p.S113Tfs*70\n",
      "S112       BAP1  Missense_Mutation             p.N2I\n",
      "S118       BAP1  Nonsense_Mutation           p.K337*\n",
      "S124       BAP1    Frame_Shift_Ins      p.T254Dfs*30\n",
      "S126       BAP1  Nonsense_Mutation           p.Q436*\n",
      "S133       BAP1       In_Frame_Del  p.Q28_V29delinsL\n",
      "17\n"
     ]
    },
    {
     "data": {
      "text/plain": [
       "{'Frame_Shift_Del': Index(['S003', 'S014', 'S019', 'S105'], dtype='object', name='Sample_ID'),\n",
       " 'Frame_Shift_Ins': Index(['S034', 'S100', 'S124'], dtype='object', name='Sample_ID'),\n",
       " 'In_Frame_Del': Index(['S133'], dtype='object', name='Sample_ID'),\n",
       " 'Missense_Mutation': Index(['S029', 'S030', 'S040', 'S051', 'S054', 'S112'], dtype='object', name='Sample_ID'),\n",
       " 'Nonsense_Mutation': Index(['S118', 'S126'], dtype='object', name='Sample_ID'),\n",
       " 'Splice_Site': Index(['S085'], dtype='object', name='Sample_ID')}"
      ]
     },
     "execution_count": 85,
     "metadata": {},
     "output_type": "execute_result"
    }
   ],
   "source": [
    "#test results\n",
    "#rc = cptac.RenalCcrcc()\n",
    "m = rc.get_mutations()\n",
    "\n",
    "m = m.loc[m['Mutation'] != 'Silent']\n",
    "gene = 'BAP1'\n",
    "g = m.loc[m['Gene'] == gene]\n",
    "print(g)\n",
    "print(len(g.index.unique()))\n",
    "\n",
    "r = g.groupby('Mutation')\n",
    "\n",
    "r.groups\n"
   ]
  },
  {
   "cell_type": "code",
   "execution_count": null,
   "metadata": {},
   "outputs": [],
   "source": []
  }
 ],
 "metadata": {
  "kernelspec": {
   "display_name": "Python 3",
   "language": "python",
   "name": "python3"
  },
  "language_info": {
   "codemirror_mode": {
    "name": "ipython",
    "version": 3
   },
   "file_extension": ".py",
   "mimetype": "text/x-python",
   "name": "python",
   "nbconvert_exporter": "python",
   "pygments_lexer": "ipython3",
   "version": "3.7.3"
  }
 },
 "nbformat": 4,
 "nbformat_minor": 2
}
