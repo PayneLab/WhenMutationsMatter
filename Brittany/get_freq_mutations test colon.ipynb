{
 "cells": [
  {
   "cell_type": "markdown",
   "metadata": {},
   "source": [
    "# get_freq_mutations test colon"
   ]
  },
  {
   "cell_type": "code",
   "execution_count": 1,
   "metadata": {},
   "outputs": [
    {
     "name": "stdout",
     "output_type": "stream",
     "text": [
      "Welcome to the CPTAC data service package. Available datasets may be\n",
      "viewed using CPTAC.list_data(). In order to access a specific data\n",
      "set, import a CPTAC subfolder using either 'import CPTAC.Dataset' or\n",
      "'from CPTAC import Dataset'.\n",
      "******\n",
      "Version: 0.3.1\n",
      "******\n",
      "You have loaded the CPTAC Colon dataset. To view available dataframes,\n",
      "use CPTAC.Colon.list_data(). To view available functions for accessing\n",
      "and manipulating the dataframes, use CPTAC.Colon.list_api().\n",
      "Colon Data Version: Most recent release\n",
      "\n",
      "Loading CPTAC Colon data:\n",
      "Loading clinical data...\n",
      "Loading miRNA data...\n",
      "Loading mutation data...\n",
      "Loading mutation_binary data...\n",
      "Loading phosphoproteomics_normal data...\n",
      "Loading phosphoproteomics_tumor data...\n",
      "Loading proteomics_normal data...\n",
      "Loading proteomics_tumor data...\n",
      "Loading transcriptomics data...\n"
     ]
    }
   ],
   "source": [
    "import pandas as pd\n",
    "import seaborn as sns\n",
    "import matplotlib.pyplot as plt\n",
    "\n",
    "import CPTAC.Colon as co"
   ]
  },
  {
   "cell_type": "code",
   "execution_count": 8,
   "metadata": {},
   "outputs": [],
   "source": [
    "def get_frequently_mutated(somatic_df, omics_mutations_df, cutoff=.1, show_percentage = False):  \n",
    "    import operator\n",
    "    unique_genes = somatic_df['Gene'].unique() # get series of all mutated genes\n",
    "    freq_mutated = []\n",
    "    gene_and_freq_d = {}\n",
    "    \n",
    "    # get total tumor patients\n",
    "    tumors = omics_mutations_df.loc[omics_mutations_df['Sample_Status'] == 'Tumor']\n",
    "    total_tumor_patients = len(tumors)\n",
    "    \n",
    "    #find sample (col or index) in gene_mutated (samples represent patients)\n",
    "    #gene_mutated: Endometrial and Colon samples found in column 1, Ovarian found in index\n",
    "    gene = 'PTEN'\n",
    "    gene_mutated = somatic_df.loc[somatic_df['Gene'] == gene]\n",
    "    ovarian = False\n",
    "    if gene_mutated.columns[0] == 'Gene':\n",
    "        ovarian = True\n",
    "        \n",
    "    if ovarian == True:\n",
    "        print('ovarian')\n",
    "        for gene in unique_genes:\n",
    "            gene_mutated = somatic_df.loc[somatic_df['Gene'] == gene].index\n",
    "            num_gene_mutated = len(gene_mutated.unique())\n",
    "            percentage = (num_gene_mutated / total_tumor_patients)\n",
    "            if percentage > cutoff:\n",
    "                gene_and_freq_d[gene] = percentage\n",
    "    \n",
    "    #find frequently mutated\n",
    "    else:\n",
    "        for gene in unique_genes:\n",
    "            gene_mutated = somatic_df.loc[somatic_df['Gene'] == gene].iloc[:, 0]\n",
    "            gene_mutated.drop_duplicates(keep='first',inplace=True)\n",
    "            num_gene_mutated = len(gene_mutated)\n",
    "            percentage = (num_gene_mutated / total_tumor_patients)\n",
    "            if percentage > cutoff:\n",
    "                gene_and_freq_d[gene] = percentage\n",
    "\n",
    "    \n",
    "    sorted_d = sorted(gene_and_freq_d.items(), key=operator.itemgetter(1), reverse=True)  \n",
    "    \n",
    "    for i in range(0,len(sorted_d)):\n",
    "        certain_tuple = sorted_d[i]\n",
    "        gene, percent_mutated = certain_tuple\n",
    "        if show_percentage == True:\n",
    "            string_gene_percent = gene + ': %' + str('%.2f'%percent_mutated)\n",
    "            freq_mutated.append(string_gene_percent)\n",
    "        else:\n",
    "            freq_mutated.append(gene)  \n",
    "                   \n",
    "    return freq_mutated"
   ]
  },
  {
   "cell_type": "markdown",
   "metadata": {},
   "source": [
    "# find number of tumor patients"
   ]
  },
  {
   "cell_type": "code",
   "execution_count": 3,
   "metadata": {},
   "outputs": [
    {
     "name": "stdout",
     "output_type": "stream",
     "text": [
      "16\n"
     ]
    }
   ],
   "source": [
    "somatic = co.get_mutations()\n",
    "prot = co.get_proteomics()\n",
    "clinical = co.get_clinical()\n",
    "total = clinical.loc[clinical['Tumor.Status'] == 'With tumor']\n",
    "print(len(total)) #NOT RIGHT TOTAL 16"
   ]
  },
  {
   "cell_type": "code",
   "execution_count": 4,
   "metadata": {},
   "outputs": [
    {
     "name": "stdout",
     "output_type": "stream",
     "text": [
      "Sample_ID\n",
      "S035    PTEN\n",
      "S035    PTEN\n",
      "S035    PTEN\n",
      "S052    PTEN\n",
      "S052    PTEN\n",
      "Name: Gene, dtype: object\n",
      "length gene_mutated:  14\n",
      "num gene mutated: 1\n"
     ]
    }
   ],
   "source": [
    "gene_mutated = somatic.loc[somatic['Gene'] == 'PTEN'].iloc[:, 0] #.loc gets rows pten, .iloc gets col 0 (sample)\n",
    "print(gene_mutated.head())\n",
    "print('length gene_mutated: ', len(gene_mutated))\n",
    "\n",
    "\n",
    "gene_mutated.drop_duplicates(keep='first',inplace=True) #subset= colname when df\n",
    "print('num gene mutated:', len(gene_mutated))"
   ]
  },
  {
   "cell_type": "code",
   "execution_count": 27,
   "metadata": {},
   "outputs": [
    {
     "data": {
      "text/plain": [
       "0"
      ]
     },
     "execution_count": 27,
     "metadata": {},
     "output_type": "execute_result"
    }
   ],
   "source": [
    "# test to finding sample\n",
    "gene = 'PTEN'\n",
    "gene_mutated = somatic.loc[somatic['Gene'] == gene]\n",
    "sample = 0\n",
    "if gene_mutated.columns[0] == 'Gene':\n",
    "    sample = gene_mutated.index\n",
    "sample"
   ]
  },
  {
   "cell_type": "code",
   "execution_count": 6,
   "metadata": {},
   "outputs": [
    {
     "name": "stdout",
     "output_type": "stream",
     "text": [
      "97\n"
     ]
    },
    {
     "data": {
      "text/html": [
       "<div>\n",
       "<style scoped>\n",
       "    .dataframe tbody tr th:only-of-type {\n",
       "        vertical-align: middle;\n",
       "    }\n",
       "\n",
       "    .dataframe tbody tr th {\n",
       "        vertical-align: top;\n",
       "    }\n",
       "\n",
       "    .dataframe thead th {\n",
       "        text-align: right;\n",
       "    }\n",
       "</style>\n",
       "<table border=\"1\" class=\"dataframe\">\n",
       "  <thead>\n",
       "    <tr style=\"text-align: right;\">\n",
       "      <th></th>\n",
       "      <th>TP53_proteomics</th>\n",
       "      <th>TP53_Mutation</th>\n",
       "      <th>TP53_Location</th>\n",
       "      <th>TP53_Mutation_Status</th>\n",
       "      <th>Sample_Status</th>\n",
       "    </tr>\n",
       "    <tr>\n",
       "      <th>Sample_ID</th>\n",
       "      <th></th>\n",
       "      <th></th>\n",
       "      <th></th>\n",
       "      <th></th>\n",
       "      <th></th>\n",
       "    </tr>\n",
       "  </thead>\n",
       "  <tbody>\n",
       "    <tr>\n",
       "      <th>S002</th>\n",
       "      <td>-0.489</td>\n",
       "      <td>[frameshift insertion, frameshift insertion, f...</td>\n",
       "      <td>[E287Wfs*10, E194Wfs*11, E194Wfs*10, E167Wfs*2...</td>\n",
       "      <td>Multiple_mutation</td>\n",
       "      <td>Tumor</td>\n",
       "    </tr>\n",
       "    <tr>\n",
       "      <th>S003</th>\n",
       "      <td>-0.796</td>\n",
       "      <td>[Wildtype_Tumor]</td>\n",
       "      <td>[No_mutation]</td>\n",
       "      <td>Wildtype_Tumor</td>\n",
       "      <td>Tumor</td>\n",
       "    </tr>\n",
       "    <tr>\n",
       "      <th>S004</th>\n",
       "      <td>NaN</td>\n",
       "      <td>[Wildtype_Tumor]</td>\n",
       "      <td>[No_mutation]</td>\n",
       "      <td>Wildtype_Tumor</td>\n",
       "      <td>Tumor</td>\n",
       "    </tr>\n",
       "    <tr>\n",
       "      <th>S005</th>\n",
       "      <td>-1.390</td>\n",
       "      <td>[nonsynonymous SNV, nonsynonymous SNV, nonsyno...</td>\n",
       "      <td>[C143Y, C143Y, C116Y, C116Y, C116Y, S260Qfs*29...</td>\n",
       "      <td>Multiple_mutation</td>\n",
       "      <td>Tumor</td>\n",
       "    </tr>\n",
       "    <tr>\n",
       "      <th>S006</th>\n",
       "      <td>NaN</td>\n",
       "      <td>[nonsynonymous SNV, nonsynonymous SNV, nonsyno...</td>\n",
       "      <td>[R273C, R273C, R273C, R273C, R234C, R234C, R23...</td>\n",
       "      <td>Multiple_mutation</td>\n",
       "      <td>Tumor</td>\n",
       "    </tr>\n",
       "  </tbody>\n",
       "</table>\n",
       "</div>"
      ],
      "text/plain": [
       "           TP53_proteomics                                      TP53_Mutation  \\\n",
       "Sample_ID                                                                       \n",
       "S002                -0.489  [frameshift insertion, frameshift insertion, f...   \n",
       "S003                -0.796                                   [Wildtype_Tumor]   \n",
       "S004                   NaN                                   [Wildtype_Tumor]   \n",
       "S005                -1.390  [nonsynonymous SNV, nonsynonymous SNV, nonsyno...   \n",
       "S006                   NaN  [nonsynonymous SNV, nonsynonymous SNV, nonsyno...   \n",
       "\n",
       "                                               TP53_Location  \\\n",
       "Sample_ID                                                      \n",
       "S002       [E287Wfs*10, E194Wfs*11, E194Wfs*10, E167Wfs*2...   \n",
       "S003                                           [No_mutation]   \n",
       "S004                                           [No_mutation]   \n",
       "S005       [C143Y, C143Y, C116Y, C116Y, C116Y, S260Qfs*29...   \n",
       "S006       [R273C, R273C, R273C, R273C, R234C, R234C, R23...   \n",
       "\n",
       "          TP53_Mutation_Status Sample_Status  \n",
       "Sample_ID                                     \n",
       "S002         Multiple_mutation         Tumor  \n",
       "S003            Wildtype_Tumor         Tumor  \n",
       "S004            Wildtype_Tumor         Tumor  \n",
       "S005         Multiple_mutation         Tumor  \n",
       "S006         Multiple_mutation         Tumor  "
      ]
     },
     "execution_count": 6,
     "metadata": {},
     "output_type": "execute_result"
    }
   ],
   "source": [
    "#find all tumor patients\n",
    "gene = 'TP53'\n",
    "omics_mutations = co.append_mutations_to_omics(mutation_genes=gene, omics_df=prot, omics_genes=gene)\n",
    "tumors = omics_mutations.loc[omics_mutations['Sample_Status'] == 'Tumor']\n",
    "total_tumor_count = len(tumors)\n",
    "print(total_tumor_count) #97\n",
    "omics_mutations.head() "
   ]
  },
  {
   "cell_type": "markdown",
   "metadata": {},
   "source": [
    "Test 1 colon: "
   ]
  },
  {
   "cell_type": "code",
   "execution_count": 9,
   "metadata": {},
   "outputs": [
    {
     "name": "stdout",
     "output_type": "stream",
     "text": [
      "ovarian\n"
     ]
    }
   ],
   "source": [
    "list1 = get_frequently_mutated(somatic, omics_mutations, cutoff=.25, show_percentage=True)"
   ]
  },
  {
   "cell_type": "code",
   "execution_count": 30,
   "metadata": {},
   "outputs": [
    {
     "name": "stdout",
     "output_type": "stream",
     "text": [
      "num sig mutated genes: 16\n"
     ]
    },
    {
     "data": {
      "text/plain": [
       "['APC: %0.85',\n",
       " 'TTN: %0.62',\n",
       " 'TP53: %0.58',\n",
       " 'MUC16: %0.40',\n",
       " 'KRAS: %0.36',\n",
       " 'SYNE1: %0.30',\n",
       " 'OBSCN: %0.30',\n",
       " 'CCDC168: %0.30',\n",
       " 'FAT3: %0.29',\n",
       " 'MUC5B: %0.28',\n",
       " 'CSMD3: %0.27',\n",
       " 'FAT4: %0.27',\n",
       " 'DNAH5: %0.27',\n",
       " 'ZNF469: %0.26',\n",
       " 'RYR1: %0.26',\n",
       " 'ACVR2A: %0.26']"
      ]
     },
     "execution_count": 30,
     "metadata": {},
     "output_type": "execute_result"
    }
   ],
   "source": [
    "print('num sig mutated genes:', len(list1))\n",
    "list1"
   ]
  },
  {
   "cell_type": "code",
   "execution_count": 26,
   "metadata": {},
   "outputs": [
    {
     "name": "stdout",
     "output_type": "stream",
     "text": [
      "total_tumor_patients 97\n",
      "freq_mutated:  16\n",
      "total_genes:  15175\n"
     ]
    }
   ],
   "source": [
    "#How many patients in colon df?\n",
    "tumors = omics_mutations.loc[omics_mutations['Sample_Status'] == 'Tumor']\n",
    "total_tumor_patients = len(tumors)\n",
    "print('total_tumor_patients', total_tumor_patients)\n",
    "\n",
    "print('freq_mutated: ',len(list1))\n",
    "total_genes = somatic['Gene'].unique()\n",
    "print('total_genes: ',len(total_genes))"
   ]
  },
  {
   "cell_type": "code",
   "execution_count": 21,
   "metadata": {},
   "outputs": [
    {
     "name": "stdout",
     "output_type": "stream",
     "text": [
      "25  /  97   0.25773195876288657\n",
      "true\n"
     ]
    },
    {
     "data": {
      "text/plain": [
       "130467    01CO014\n",
       "130435    01CO022\n",
       "130431    05CO006\n",
       "130458    05CO007\n",
       "130459    05CO015\n",
       "Name: SampleID, dtype: object"
      ]
     },
     "execution_count": 21,
     "metadata": {},
     "output_type": "execute_result"
    }
   ],
   "source": [
    "# check genes in freq_mutated list\n",
    "gene = 'ZNF469'\n",
    "total_tumor_patients = 97\n",
    "cutoff = .1\n",
    "gene_mutated = somatic.loc[somatic['Gene'] == gene].iloc[:, 0]\n",
    "gene_mutated.drop_duplicates(keep = 'first', inplace = True)\n",
    "num_gene_mutated = len(gene_mutated)\n",
    "print(num_gene_mutated, ' / ', total_tumor_patients, ' ', (num_gene_mutated / total_tumor_patients))\n",
    "if (num_gene_mutated / total_tumor_patients) > cutoff:\n",
    "    print('true')\n",
    "else:\n",
    "    print('false')\n",
    "gene_mutated.head()"
   ]
  },
  {
   "cell_type": "code",
   "execution_count": 85,
   "metadata": {},
   "outputs": [
    {
     "ename": "TypeError",
     "evalue": "'Series' objects are mutable, thus they cannot be hashed",
     "output_type": "error",
     "traceback": [
      "\u001b[1;31m---------------------------------------------------------------------------\u001b[0m",
      "\u001b[1;31mTypeError\u001b[0m                                 Traceback (most recent call last)",
      "\u001b[1;32m<ipython-input-85-e2bd68bdd466>\u001b[0m in \u001b[0;36m<module>\u001b[1;34m\u001b[0m\n\u001b[0;32m      2\u001b[0m \u001b[0mgene\u001b[0m \u001b[1;33m=\u001b[0m \u001b[1;34m'APC'\u001b[0m\u001b[1;33m\u001b[0m\u001b[1;33m\u001b[0m\u001b[0m\n\u001b[0;32m      3\u001b[0m \u001b[0mgene_mutated\u001b[0m \u001b[1;33m=\u001b[0m \u001b[0msomatic\u001b[0m\u001b[1;33m.\u001b[0m\u001b[0mloc\u001b[0m\u001b[1;33m[\u001b[0m\u001b[0msomatic\u001b[0m\u001b[1;33m[\u001b[0m\u001b[1;34m'Gene'\u001b[0m\u001b[1;33m]\u001b[0m \u001b[1;33m==\u001b[0m \u001b[0mgene\u001b[0m\u001b[1;33m]\u001b[0m\u001b[1;31m#series of mutations\u001b[0m\u001b[1;33m\u001b[0m\u001b[1;33m\u001b[0m\u001b[0m\n\u001b[1;32m----> 4\u001b[1;33m \u001b[0mgene_mutated\u001b[0m\u001b[1;33m.\u001b[0m\u001b[0mrename\u001b[0m\u001b[1;33m(\u001b[0m\u001b[0mcolumns\u001b[0m\u001b[1;33m=\u001b[0m\u001b[1;33m{\u001b[0m \u001b[0mgene_mutated\u001b[0m\u001b[1;33m.\u001b[0m\u001b[0miloc\u001b[0m\u001b[1;33m[\u001b[0m\u001b[1;36m0\u001b[0m\u001b[1;33m]\u001b[0m\u001b[1;33m:\u001b[0m \u001b[1;34m\"sample\"\u001b[0m \u001b[1;33m}\u001b[0m\u001b[1;33m,\u001b[0m \u001b[0minplace\u001b[0m \u001b[1;33m=\u001b[0m \u001b[1;32mTrue\u001b[0m\u001b[1;33m)\u001b[0m\u001b[1;33m\u001b[0m\u001b[1;33m\u001b[0m\u001b[0m\n\u001b[0m\u001b[0;32m      5\u001b[0m \u001b[1;33m\u001b[0m\u001b[0m\n\u001b[0;32m      6\u001b[0m \u001b[0mpatients\u001b[0m \u001b[1;33m=\u001b[0m \u001b[0mgene_mutated\u001b[0m\u001b[1;33m.\u001b[0m\u001b[0mloc\u001b[0m\u001b[1;33m[\u001b[0m\u001b[0mgene_mutated\u001b[0m\u001b[1;33m[\u001b[0m\u001b[1;34m'sample'\u001b[0m\u001b[1;33m]\u001b[0m\u001b[1;33m]\u001b[0m\u001b[1;31m#series of ids\u001b[0m\u001b[1;33m\u001b[0m\u001b[1;33m\u001b[0m\u001b[0m\n",
      "\u001b[1;32m~\\Anaconda3\\envs\\Research\\lib\\site-packages\\pandas\\core\\generic.py\u001b[0m in \u001b[0;36m__hash__\u001b[1;34m(self)\u001b[0m\n\u001b[0;32m   1814\u001b[0m     \u001b[1;32mdef\u001b[0m \u001b[0m__hash__\u001b[0m\u001b[1;33m(\u001b[0m\u001b[0mself\u001b[0m\u001b[1;33m)\u001b[0m\u001b[1;33m:\u001b[0m\u001b[1;33m\u001b[0m\u001b[1;33m\u001b[0m\u001b[0m\n\u001b[0;32m   1815\u001b[0m         raise TypeError('{0!r} objects are mutable, thus they cannot be'\n\u001b[1;32m-> 1816\u001b[1;33m                         ' hashed'.format(self.__class__.__name__))\n\u001b[0m\u001b[0;32m   1817\u001b[0m \u001b[1;33m\u001b[0m\u001b[0m\n\u001b[0;32m   1818\u001b[0m     \u001b[1;32mdef\u001b[0m \u001b[0m__iter__\u001b[0m\u001b[1;33m(\u001b[0m\u001b[0mself\u001b[0m\u001b[1;33m)\u001b[0m\u001b[1;33m:\u001b[0m\u001b[1;33m\u001b[0m\u001b[1;33m\u001b[0m\u001b[0m\n",
      "\u001b[1;31mTypeError\u001b[0m: 'Series' objects are mutable, thus they cannot be hashed"
     ]
    }
   ],
   "source": [
    "#check to see if mulitple mutations in one gene\n",
    "gene = 'APC'\n",
    "gene_mutated = somatic.loc[somatic['Gene'] == gene]#series of mutations\n",
    "gene_mutated.rename(columns={ gene_mutated.iloc[0]: \"sample\" }, inplace = True)\n",
    "\n",
    "patients = gene_mutated.loc[gene_mutated['sample']]#series of ids\n",
    "#print('num of patients with mutation counted once: ',len(patients.unique()))\n",
    "\n",
    "\n",
    "#check each patient counted once #fixme check omics_mutations? \n",
    "#print(gene_mutated['SampleID'].value_counts()) #gives num rows for each patient, descending order\n",
    "\n",
    "#gene_mutated.columns[0]\n",
    "#new = patients[patients == 'C3L-00586'] #gets index for certain patient\n",
    "#print(new)\n",
    "gene_mutated"
   ]
  },
  {
   "cell_type": "code",
   "execution_count": 15,
   "metadata": {},
   "outputs": [
    {
     "ename": "AttributeError",
     "evalue": "'str' object has no attribute 'unique'",
     "output_type": "error",
     "traceback": [
      "\u001b[1;31m---------------------------------------------------------------------------\u001b[0m",
      "\u001b[1;31mAttributeError\u001b[0m                            Traceback (most recent call last)",
      "\u001b[1;32m<ipython-input-15-d4d4f1e61e78>\u001b[0m in \u001b[0;36m<module>\u001b[1;34m\u001b[0m\n\u001b[0;32m      6\u001b[0m \u001b[1;32mfor\u001b[0m \u001b[0mgene\u001b[0m \u001b[1;32min\u001b[0m \u001b[0munique_genes\u001b[0m\u001b[1;33m:\u001b[0m\u001b[1;33m\u001b[0m\u001b[1;33m\u001b[0m\u001b[0m\n\u001b[0;32m      7\u001b[0m     \u001b[0mgene_mutated\u001b[0m \u001b[1;33m=\u001b[0m \u001b[0msomatic\u001b[0m\u001b[1;33m.\u001b[0m\u001b[0mloc\u001b[0m\u001b[1;33m[\u001b[0m\u001b[0msomatic\u001b[0m\u001b[1;33m[\u001b[0m\u001b[1;34m'Gene'\u001b[0m\u001b[1;33m]\u001b[0m \u001b[1;33m==\u001b[0m \u001b[0mgene\u001b[0m\u001b[1;33m]\u001b[0m\u001b[1;33m\u001b[0m\u001b[1;33m\u001b[0m\u001b[0m\n\u001b[1;32m----> 8\u001b[1;33m     \u001b[0mnum_gene_mutated\u001b[0m \u001b[1;33m=\u001b[0m \u001b[0mlen\u001b[0m\u001b[1;33m(\u001b[0m\u001b[0mgene_mutated\u001b[0m\u001b[1;33m[\u001b[0m\u001b[0mgene_mutated\u001b[0m\u001b[1;33m.\u001b[0m\u001b[0mcolumns\u001b[0m\u001b[1;33m[\u001b[0m\u001b[0msample\u001b[0m\u001b[1;33m]\u001b[0m\u001b[1;33m.\u001b[0m\u001b[0munique\u001b[0m\u001b[1;33m(\u001b[0m\u001b[1;33m)\u001b[0m\u001b[1;33m]\u001b[0m\u001b[1;33m)\u001b[0m\u001b[1;33m\u001b[0m\u001b[1;33m\u001b[0m\u001b[0m\n\u001b[0m\u001b[0;32m      9\u001b[0m \u001b[1;33m\u001b[0m\u001b[0m\n\u001b[0;32m     10\u001b[0m     \"\"\"\n",
      "\u001b[1;31mAttributeError\u001b[0m: 'str' object has no attribute 'unique'"
     ]
    }
   ],
   "source": [
    "#test gene_mutated.columns[sample]].unique())\n",
    "gene_and_freq_d = {}\n",
    "unique_genes = ['PTEN']\n",
    "#somatic['Gene'].unique()\n",
    "\n",
    "for gene in unique_genes:\n",
    "    gene_mutated = somatic.loc[somatic['Gene'] == gene] \n",
    "    count_gene_once = gene_mutated.iloc[:,[0]]\n",
    "    num_gene_mutated = gene_mutated.loc[gene_mutated.columns[sample]]     \n",
    "    \n",
    "    \"\"\"\n",
    "    percentage = (num_gene_mutated / total_tumor_patients)\n",
    "    if percentage > cutoff:\n",
    "        gene_and_freq_d[gene] = percentage\n",
    "        \"\"\""
   ]
  },
  {
   "cell_type": "markdown",
   "metadata": {},
   "source": [
    "test2: using list1, test if all returned"
   ]
  },
  {
   "cell_type": "code",
   "execution_count": 46,
   "metadata": {},
   "outputs": [
    {
     "ename": "ValueError",
     "evalue": "Lengths must match to compare",
     "output_type": "error",
     "traceback": [
      "\u001b[1;31m---------------------------------------------------------------------------\u001b[0m",
      "\u001b[1;31mValueError\u001b[0m                                Traceback (most recent call last)",
      "\u001b[1;32m<ipython-input-46-21c76ba2e7f3>\u001b[0m in \u001b[0;36m<module>\u001b[1;34m\u001b[0m\n\u001b[1;32m----> 1\u001b[1;33m \u001b[0mlist1_somatic\u001b[0m \u001b[1;33m=\u001b[0m \u001b[0msomatic\u001b[0m\u001b[1;33m.\u001b[0m\u001b[0mloc\u001b[0m\u001b[1;33m[\u001b[0m\u001b[0msomatic\u001b[0m\u001b[1;33m[\u001b[0m\u001b[1;34m'Gene'\u001b[0m\u001b[1;33m]\u001b[0m \u001b[1;33m==\u001b[0m \u001b[0mlist1\u001b[0m\u001b[1;33m]\u001b[0m\u001b[1;33m\u001b[0m\u001b[1;33m\u001b[0m\u001b[0m\n\u001b[0m",
      "\u001b[1;32m~\\Anaconda3\\envs\\Research\\lib\\site-packages\\pandas\\core\\ops.py\u001b[0m in \u001b[0;36mwrapper\u001b[1;34m(self, other, axis)\u001b[0m\n\u001b[0;32m   1743\u001b[0m             \u001b[1;31m# as it will broadcast\u001b[0m\u001b[1;33m\u001b[0m\u001b[1;33m\u001b[0m\u001b[1;33m\u001b[0m\u001b[0m\n\u001b[0;32m   1744\u001b[0m             \u001b[1;32mif\u001b[0m \u001b[0mother\u001b[0m\u001b[1;33m.\u001b[0m\u001b[0mndim\u001b[0m \u001b[1;33m!=\u001b[0m \u001b[1;36m0\u001b[0m \u001b[1;32mand\u001b[0m \u001b[0mlen\u001b[0m\u001b[1;33m(\u001b[0m\u001b[0mself\u001b[0m\u001b[1;33m)\u001b[0m \u001b[1;33m!=\u001b[0m \u001b[0mlen\u001b[0m\u001b[1;33m(\u001b[0m\u001b[0mother\u001b[0m\u001b[1;33m)\u001b[0m\u001b[1;33m:\u001b[0m\u001b[1;33m\u001b[0m\u001b[1;33m\u001b[0m\u001b[0m\n\u001b[1;32m-> 1745\u001b[1;33m                 \u001b[1;32mraise\u001b[0m \u001b[0mValueError\u001b[0m\u001b[1;33m(\u001b[0m\u001b[1;34m'Lengths must match to compare'\u001b[0m\u001b[1;33m)\u001b[0m\u001b[1;33m\u001b[0m\u001b[1;33m\u001b[0m\u001b[0m\n\u001b[0m\u001b[0;32m   1746\u001b[0m \u001b[1;33m\u001b[0m\u001b[0m\n\u001b[0;32m   1747\u001b[0m             \u001b[0mres_values\u001b[0m \u001b[1;33m=\u001b[0m \u001b[0mna_op\u001b[0m\u001b[1;33m(\u001b[0m\u001b[0mself\u001b[0m\u001b[1;33m.\u001b[0m\u001b[0mvalues\u001b[0m\u001b[1;33m,\u001b[0m \u001b[0mnp\u001b[0m\u001b[1;33m.\u001b[0m\u001b[0masarray\u001b[0m\u001b[1;33m(\u001b[0m\u001b[0mother\u001b[0m\u001b[1;33m)\u001b[0m\u001b[1;33m)\u001b[0m\u001b[1;33m\u001b[0m\u001b[1;33m\u001b[0m\u001b[0m\n",
      "\u001b[1;31mValueError\u001b[0m: Lengths must match to compare"
     ]
    }
   ],
   "source": [
    "list1_somatic = somatic.loc[somatic['Gene'] == list1]"
   ]
  },
  {
   "cell_type": "code",
   "execution_count": null,
   "metadata": {},
   "outputs": [],
   "source": []
  }
 ],
 "metadata": {
  "kernelspec": {
   "display_name": "Python 3",
   "language": "python",
   "name": "python3"
  },
  "language_info": {
   "codemirror_mode": {
    "name": "ipython",
    "version": 3
   },
   "file_extension": ".py",
   "mimetype": "text/x-python",
   "name": "python",
   "nbconvert_exporter": "python",
   "pygments_lexer": "ipython3",
   "version": "3.7.3"
  }
 },
 "nbformat": 4,
 "nbformat_minor": 2
}
