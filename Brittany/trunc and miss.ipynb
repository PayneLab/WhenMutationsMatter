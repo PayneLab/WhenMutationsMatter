{
 "cells": [
  {
   "cell_type": "code",
   "execution_count": 68,
   "metadata": {},
   "outputs": [
    {
     "name": "stdout",
     "output_type": "stream",
     "text": [
      "You have loaded the cptac endometrial dataset. To view available\n",
      "dataframes, use cptac.endometrial.list_data(). To view available\n",
      "functions for accessing and manipulating the dataframes, use\n",
      "cptac.endometrial.list_api().\n",
      "endometrial data version: 2.1\n",
      "\n",
      "Loading Dictionary...\n",
      "Loading cptac endometrial data:\n",
      "Loading acetylproteomics data...\n",
      "Loading clinical data...\n",
      "Loading CNA data...\n",
      "Loading miRNA data...\n",
      "Loading phosphoproteomics_gene data...\n",
      "Loading phosphoproteomics_site data...\n",
      "Loading proteomics data...\n",
      "Loading somatic data...\n",
      "Loading somatic_binary data...\n",
      "Loading transcriptomics_circular data...\n",
      "Loading transcriptomics_linear data...\n",
      "\n",
      " ******PLEASE READ******\n",
      "WARNING: This data is under a publication embargo until July 1, 2019.\n",
      "CPTAC is a community resource project and data are made available\n",
      "rapidly after generation for community research use. The embargo\n",
      "allows exploring and utilizing the data, but the data may not be in a\n",
      "publication until July 1, 2019. Please see\n",
      "https://proteomics.cancer.gov/data-portal/about/data-use-agreement or\n",
      "enter embargo() to open the webpage for more details.\n"
     ]
    }
   ],
   "source": [
    "import pandas as pd\n",
    "import seaborn as sns\n",
    "import matplotlib.pyplot as plt\n",
    "\n",
    "\n",
    "import cptac.endometrial as c"
   ]
  },
  {
   "cell_type": "code",
   "execution_count": 69,
   "metadata": {},
   "outputs": [],
   "source": [
    "somatic_mutation = c.get_mutations()"
   ]
  },
  {
   "cell_type": "code",
   "execution_count": 70,
   "metadata": {},
   "outputs": [],
   "source": [
    "sample_status_map = c.get_sample_status_map()\n",
    "merged_mutations = somatic_mutation.join(sample_status_map, how=\"left\")"
   ]
  },
  {
   "cell_type": "code",
   "execution_count": 71,
   "metadata": {},
   "outputs": [
    {
     "name": "stdout",
     "output_type": "stream",
     "text": [
      "total_tumor_patients 95\n"
     ]
    }
   ],
   "source": [
    "# get total tumors/patients\n",
    "sample_status_series = sample_status_map.value_counts()\n",
    "total_tumor_patients = sample_status_series[0]\n",
    "print('total_tumor_patients', total_tumor_patients)"
   ]
  },
  {
   "cell_type": "code",
   "execution_count": 73,
   "metadata": {},
   "outputs": [
    {
     "name": "stdout",
     "output_type": "stream",
     "text": [
      "Frame_Shift_Del      23\n",
      "Nonsense_Mutation    17\n",
      "Missense_Mutation    13\n",
      "Frame_Shift_Ins      11\n",
      "In_Frame_Del          1\n",
      "Name: Mutation, dtype: int64\n",
      "\n",
      " ARID1A 65 / 95 \n",
      "\n"
     ]
    }
   ],
   "source": [
    "freq_mut = ['ARID1A']\n",
    "truncated = []\n",
    "for gene in freq_mut:\n",
    "    gene_mutated = merged_mutations.loc[merged_mutations['Gene'] == gene]\n",
    "    trunc = gene_mutated.loc[(gene_mutated['Mutation'] != 'nonframeshift deletion') & \n",
    "        (gene_mutated['Mutation'] != 'nonframeshift insertion') & \n",
    "        (gene_mutated['Mutation'] != 'nonframeshift substitution') & \n",
    "        (gene_mutated['Mutation'] != 'nonsynonymous SNV')] \n",
    "    #print(trunc.head())\n",
    "    print(trunc['Mutation'].value_counts())\n",
    "    num_gene_mutated = len(trunc)\n",
    "    percentage = (num_gene_mutated / total_tumor_patients)\n",
    "    print('\\n', gene,num_gene_mutated, '/',total_tumor_patients, '\\n')\n",
    "    truncated.append(percentage)"
   ]
  },
  {
   "cell_type": "code",
   "execution_count": 74,
   "metadata": {},
   "outputs": [
    {
     "data": {
      "text/plain": [
       "[0.6842105263157895]"
      ]
     },
     "execution_count": 74,
     "metadata": {},
     "output_type": "execute_result"
    }
   ],
   "source": [
    "truncated"
   ]
  },
  {
   "cell_type": "code",
   "execution_count": 75,
   "metadata": {},
   "outputs": [
    {
     "name": "stdout",
     "output_type": "stream",
     "text": [
      "\n",
      " deletion\n",
      "Series([], Name: Mutation, dtype: int64)\n",
      "\n",
      " insertion\n",
      "Series([], Name: Mutation, dtype: int64)\n",
      "\n",
      " substitution\n",
      "Series([], Name: Mutation, dtype: int64)\n",
      "\n",
      " SNV\n",
      "Series([], Name: Mutation, dtype: int64)\n",
      "\n",
      " ARID1A 0 / 95\n",
      "percentage: 0.0\n"
     ]
    }
   ],
   "source": [
    "freq_mut = ['ARID1A']\n",
    "missence = []\n",
    "for gene in freq_mut:\n",
    "    count = 0\n",
    "    gene_mutated = merged_mutations.loc[merged_mutations['Gene'] == gene]\n",
    "    #print(gene_mutated.head())\n",
    "    miss_mutated = gene_mutated.loc[gene_mutated['Mutation'] == 'nonframeshift deletion']\n",
    "    print('\\n','deletion')\n",
    "    print(miss_mutated['Mutation'].value_counts())\n",
    "    #print(miss_mutated.head())\n",
    "    count += len(miss_mutated)\n",
    "    miss_mutated = gene_mutated.loc[(gene_mutated['Mutation'] == 'nonframeshift insertion')]\n",
    "    count += len(miss_mutated)\n",
    "    print('\\n','insertion')\n",
    "    print(miss_mutated['Mutation'].value_counts())\n",
    "    #print(miss_mutated.head())\n",
    "    miss_mutated = gene_mutated.loc[(gene_mutated['Mutation'] == 'nonframeshift substitution')]\n",
    "    count += len(miss_mutated)\n",
    "    print('\\n','substitution')\n",
    "    print(miss_mutated['Mutation'].value_counts())\n",
    "    #print(miss_mutated.head())\n",
    "    miss_mutated = gene_mutated.loc[(gene_mutated['Mutation'] == 'nonsynonymous SNV')]\n",
    "    count += len(miss_mutated)\n",
    "    print('\\n','SNV')\n",
    "    print(miss_mutated['Mutation'].value_counts())\n",
    "    #print(miss_mutated.head())\n",
    "    \n",
    "    num_gene_mutated = count\n",
    "    percentage = (num_gene_mutated / total_tumor_patients)\n",
    "    print('\\n', gene, num_gene_mutated, '/',total_tumor_patients)\n",
    "    missence.append(percentage)\n",
    "    print('percentage:',percentage)"
   ]
  },
  {
   "cell_type": "code",
   "execution_count": null,
   "metadata": {},
   "outputs": [],
   "source": []
  },
  {
   "cell_type": "code",
   "execution_count": 87,
   "metadata": {},
   "outputs": [
    {
     "name": "stdout",
     "output_type": "stream",
     "text": [
      "          Gene           Mutation      Location Sample_Status\n",
      "Sample_ID                                                    \n",
      "S001       APC  Nonsense_Mutation       p.R232*         Tumor\n",
      "S001       APC    Frame_Shift_Ins  p.T1556Nfs*3         Tumor\n",
      "S001       APC  Missense_Mutation      p.D2796Y         Tumor\n",
      "S010       APC    Frame_Shift_Del  p.K1878Rfs*4         Tumor\n",
      "S012       APC  Missense_Mutation      p.S2029Y         Tumor\n",
      "Tumor     95\n",
      "Normal    49\n",
      "Name: Sample_Status, dtype: int64\n"
     ]
    },
    {
     "data": {
      "text/plain": [
       "95"
      ]
     },
     "execution_count": 87,
     "metadata": {},
     "output_type": "execute_result"
    }
   ],
   "source": [
    "#merge = transcriptomics.join(somatic_mutation, how = \"left\")\n",
    "merge = somatic_mutation.join(sample_status_map, how=\"left\") \n",
    "merge = merge.loc[merge['Gene'] == 'APC']\n",
    "merge = merge.loc[merge['Sample_Status'] == 'Tumor']\n",
    "len(merge.index.unique())\n",
    "print(merge.head())\n",
    "sample_status_series = sample_status_map.value_counts()\n",
    "print(sample_status_series)\n",
    "total_tumor_patients = sample_status_series[0]\n",
    "total_tumor_patients"
   ]
  },
  {
   "cell_type": "code",
   "execution_count": 88,
   "metadata": {},
   "outputs": [
    {
     "name": "stdout",
     "output_type": "stream",
     "text": [
      "total_tumor_patients: 95\n"
     ]
    }
   ],
   "source": [
    "PTEN = merge.loc[merge['Gene'] == 'PTEN']\n",
    "#len(PTEN.index.unique())\n",
    "print('total_tumor_patients:', total_tumor_patients)"
   ]
  },
  {
   "cell_type": "code",
   "execution_count": 89,
   "metadata": {},
   "outputs": [
    {
     "name": "stdout",
     "output_type": "stream",
     "text": [
      "total mut: 27\n",
      "['Nonsense_Mutation' 'Frame_Shift_Ins' 'Frame_Shift_Del']\n",
      "num trunc: 13\n",
      "percent trunc 0.1368421052631579\n"
     ]
    }
   ],
   "source": [
    "p = merge.loc[merge['Gene'] == 'APC']\n",
    "print('total mut:', len(p))\n",
    "trunc = p.loc[p['Mutation'] != 'In_Frame_Del']\n",
    "trunc = trunc.loc[trunc['Mutation'] != 'In_Frame_Ins']\n",
    "trunc = trunc.loc[trunc['Mutation'] != 'Missense_Mutation']\n",
    "print(trunc['Mutation'].unique())\n",
    "print('num trunc:', len(trunc))\n",
    "num_gene_mutated = len(trunc)\n",
    "percentage = (num_gene_mutated / total_tumor_patients)\n",
    "print(\"percent trunc\", percentage)"
   ]
  },
  {
   "cell_type": "code",
   "execution_count": 73,
   "metadata": {},
   "outputs": [
    {
     "name": "stdout",
     "output_type": "stream",
     "text": [
      "num miss: 0\n",
      "percent miss 0.0\n"
     ]
    }
   ],
   "source": [
    "count = 0 \n",
    "m = p.loc[p['Mutation'] == 'In_Frame_Del']\n",
    "count = len(m)\n",
    "m = p.loc[p['Mutation'] == 'In_Frame_Ins']\n",
    "count += len(m)\n",
    "m = p.loc[p['Mutation'] == 'Missense_Mutation']\n",
    "count += len(m)\n",
    "print('num miss:', count)\n",
    "num_gene_mutated = count\n",
    "percentage = (num_gene_mutated / total_tumor_patients)\n",
    "print(\"percent miss\", percentage)"
   ]
  },
  {
   "cell_type": "code",
   "execution_count": null,
   "metadata": {},
   "outputs": [],
   "source": [
    "trunc = p.any()"
   ]
  },
  {
   "cell_type": "code",
   "execution_count": 54,
   "metadata": {},
   "outputs": [],
   "source": [
    "n = p.loc[p['Mutation'] != 'In_Frame_Del']\n",
    "n = p.loc[p['Mutation'] != 'In_Frame_Ins']\n",
    "n = p.loc[p['Mutation'] != 'Missense_Mutation']"
   ]
  },
  {
   "cell_type": "code",
   "execution_count": 56,
   "metadata": {},
   "outputs": [
    {
     "data": {
      "text/plain": [
       "array(['Nonsense_Mutation', 'Frame_Shift_Ins', 'Frame_Shift_Del',\n",
       "       'Splice_Site'], dtype=object)"
      ]
     },
     "execution_count": 56,
     "metadata": {},
     "output_type": "execute_result"
    }
   ],
   "source": [
    "n[\"Mutation\"].unique()"
   ]
  },
  {
   "cell_type": "code",
   "execution_count": 5,
   "metadata": {},
   "outputs": [],
   "source": [
    "lst = ['pten', 'pik3ca']\n",
    "lst2 = [.79,.45]\n",
    "lst3 = [.66,.22]\n",
    "\n",
    "\n",
    "df = pd.DataFrame(list(zip(lst,lst2,lst3)), columns = ['1','2','3'])\n"
   ]
  },
  {
   "cell_type": "code",
   "execution_count": 6,
   "metadata": {},
   "outputs": [
    {
     "data": {
      "text/html": [
       "<div>\n",
       "<style scoped>\n",
       "    .dataframe tbody tr th:only-of-type {\n",
       "        vertical-align: middle;\n",
       "    }\n",
       "\n",
       "    .dataframe tbody tr th {\n",
       "        vertical-align: top;\n",
       "    }\n",
       "\n",
       "    .dataframe thead th {\n",
       "        text-align: right;\n",
       "    }\n",
       "</style>\n",
       "<table border=\"1\" class=\"dataframe\">\n",
       "  <thead>\n",
       "    <tr style=\"text-align: right;\">\n",
       "      <th></th>\n",
       "      <th>1</th>\n",
       "      <th>2</th>\n",
       "      <th>3</th>\n",
       "    </tr>\n",
       "  </thead>\n",
       "  <tbody>\n",
       "    <tr>\n",
       "      <th>0</th>\n",
       "      <td>pten</td>\n",
       "      <td>0.79</td>\n",
       "      <td>0.66</td>\n",
       "    </tr>\n",
       "    <tr>\n",
       "      <th>1</th>\n",
       "      <td>pik3ca</td>\n",
       "      <td>0.45</td>\n",
       "      <td>0.22</td>\n",
       "    </tr>\n",
       "  </tbody>\n",
       "</table>\n",
       "</div>"
      ],
      "text/plain": [
       "        1     2     3\n",
       "0    pten  0.79  0.66\n",
       "1  pik3ca  0.45  0.22"
      ]
     },
     "execution_count": 6,
     "metadata": {},
     "output_type": "execute_result"
    }
   ],
   "source": [
    "df"
   ]
  },
  {
   "cell_type": "code",
   "execution_count": null,
   "metadata": {},
   "outputs": [],
   "source": []
  }
 ],
 "metadata": {
  "kernelspec": {
   "display_name": "Python 3",
   "language": "python",
   "name": "python3"
  },
  "language_info": {
   "codemirror_mode": {
    "name": "ipython",
    "version": 3
   },
   "file_extension": ".py",
   "mimetype": "text/x-python",
   "name": "python",
   "nbconvert_exporter": "python",
   "pygments_lexer": "ipython3",
   "version": "3.7.3"
  }
 },
 "nbformat": 4,
 "nbformat_minor": 2
}
