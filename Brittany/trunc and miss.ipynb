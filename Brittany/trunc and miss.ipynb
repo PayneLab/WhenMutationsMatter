{
 "cells": [
  {
   "cell_type": "code",
   "execution_count": 85,
   "metadata": {},
   "outputs": [],
   "source": [
    "import pandas as pd\n",
    "import seaborn as sns\n",
    "import matplotlib.pyplot as plt\n",
    "\n",
    "\n",
    "import cptac.endometrial as c"
   ]
  },
  {
   "cell_type": "code",
   "execution_count": 86,
   "metadata": {},
   "outputs": [],
   "source": [
    "somatic_mutation = c.get_mutations()\n",
    "sample_status_map = c.get_sample_status_map()\n",
    "transcriptomics = c.get_transcriptomics()\n",
    "proteomics = c.get_proteomics()\n",
    "gene = 'PTEN'\n",
    "omics_mutations = c.append_mutations_to_omics(mutation_genes=gene, omics_df=proteomics, omics_genes=gene)"
   ]
  },
  {
   "cell_type": "code",
   "execution_count": 87,
   "metadata": {},
   "outputs": [
    {
     "name": "stdout",
     "output_type": "stream",
     "text": [
      "          Gene           Mutation      Location Sample_Status\n",
      "Sample_ID                                                    \n",
      "S001       APC  Nonsense_Mutation       p.R232*         Tumor\n",
      "S001       APC    Frame_Shift_Ins  p.T1556Nfs*3         Tumor\n",
      "S001       APC  Missense_Mutation      p.D2796Y         Tumor\n",
      "S010       APC    Frame_Shift_Del  p.K1878Rfs*4         Tumor\n",
      "S012       APC  Missense_Mutation      p.S2029Y         Tumor\n",
      "Tumor     95\n",
      "Normal    49\n",
      "Name: Sample_Status, dtype: int64\n"
     ]
    },
    {
     "data": {
      "text/plain": [
       "95"
      ]
     },
     "execution_count": 87,
     "metadata": {},
     "output_type": "execute_result"
    }
   ],
   "source": [
    "#merge = transcriptomics.join(somatic_mutation, how = \"left\")\n",
    "merge = somatic_mutation.join(sample_status_map, how=\"left\") \n",
    "merge = merge.loc[merge['Gene'] == 'APC']\n",
    "merge = merge.loc[merge['Sample_Status'] == 'Tumor']\n",
    "len(merge.index.unique())\n",
    "print(merge.head())\n",
    "sample_status_series = sample_status_map.value_counts()\n",
    "print(sample_status_series)\n",
    "total_tumor_patients = sample_status_series[0]\n",
    "total_tumor_patients"
   ]
  },
  {
   "cell_type": "code",
   "execution_count": 88,
   "metadata": {},
   "outputs": [
    {
     "name": "stdout",
     "output_type": "stream",
     "text": [
      "total_tumor_patients: 95\n"
     ]
    }
   ],
   "source": [
    "PTEN = merge.loc[merge['Gene'] == 'PTEN']\n",
    "#len(PTEN.index.unique())\n",
    "print('total_tumor_patients:', total_tumor_patients)"
   ]
  },
  {
   "cell_type": "code",
   "execution_count": 89,
   "metadata": {},
   "outputs": [
    {
     "name": "stdout",
     "output_type": "stream",
     "text": [
      "total mut: 27\n",
      "['Nonsense_Mutation' 'Frame_Shift_Ins' 'Frame_Shift_Del']\n",
      "num trunc: 13\n",
      "percent trunc 0.1368421052631579\n"
     ]
    }
   ],
   "source": [
    "p = merge.loc[merge['Gene'] == 'APC']\n",
    "print('total mut:', len(p))\n",
    "trunc = p.loc[p['Mutation'] != 'In_Frame_Del']\n",
    "trunc = trunc.loc[trunc['Mutation'] != 'In_Frame_Ins']\n",
    "trunc = trunc.loc[trunc['Mutation'] != 'Missense_Mutation']\n",
    "print(trunc['Mutation'].unique())\n",
    "print('num trunc:', len(trunc))\n",
    "num_gene_mutated = len(trunc)\n",
    "percentage = (num_gene_mutated / total_tumor_patients)\n",
    "print(\"percent trunc\", percentage)"
   ]
  },
  {
   "cell_type": "code",
   "execution_count": 73,
   "metadata": {},
   "outputs": [
    {
     "name": "stdout",
     "output_type": "stream",
     "text": [
      "num miss: 0\n",
      "percent miss 0.0\n"
     ]
    }
   ],
   "source": [
    "count = 0 \n",
    "m = p.loc[p['Mutation'] == 'In_Frame_Del']\n",
    "count = len(m)\n",
    "m = p.loc[p['Mutation'] == 'In_Frame_Ins']\n",
    "count += len(m)\n",
    "m = p.loc[p['Mutation'] == 'Missense_Mutation']\n",
    "count += len(m)\n",
    "print('num miss:', count)\n",
    "num_gene_mutated = count\n",
    "percentage = (num_gene_mutated / total_tumor_patients)\n",
    "print(\"percent miss\", percentage)"
   ]
  },
  {
   "cell_type": "code",
   "execution_count": null,
   "metadata": {},
   "outputs": [],
   "source": [
    "trunc = p.any()"
   ]
  },
  {
   "cell_type": "code",
   "execution_count": 54,
   "metadata": {},
   "outputs": [],
   "source": [
    "n = p.loc[p['Mutation'] != 'In_Frame_Del']\n",
    "n = p.loc[p['Mutation'] != 'In_Frame_Ins']\n",
    "n = p.loc[p['Mutation'] != 'Missense_Mutation']"
   ]
  },
  {
   "cell_type": "code",
   "execution_count": 56,
   "metadata": {},
   "outputs": [
    {
     "data": {
      "text/plain": [
       "array(['Nonsense_Mutation', 'Frame_Shift_Ins', 'Frame_Shift_Del',\n",
       "       'Splice_Site'], dtype=object)"
      ]
     },
     "execution_count": 56,
     "metadata": {},
     "output_type": "execute_result"
    }
   ],
   "source": [
    "n[\"Mutation\"].unique()"
   ]
  },
  {
   "cell_type": "code",
   "execution_count": 5,
   "metadata": {},
   "outputs": [],
   "source": [
    "lst = ['pten', 'pik3ca']\n",
    "lst2 = [.79,.45]\n",
    "lst3 = [.66,.22]\n",
    "\n",
    "\n",
    "df = pd.DataFrame(list(zip(lst,lst2,lst3)), columns = ['1','2','3'])\n"
   ]
  },
  {
   "cell_type": "code",
   "execution_count": 6,
   "metadata": {},
   "outputs": [
    {
     "data": {
      "text/html": [
       "<div>\n",
       "<style scoped>\n",
       "    .dataframe tbody tr th:only-of-type {\n",
       "        vertical-align: middle;\n",
       "    }\n",
       "\n",
       "    .dataframe tbody tr th {\n",
       "        vertical-align: top;\n",
       "    }\n",
       "\n",
       "    .dataframe thead th {\n",
       "        text-align: right;\n",
       "    }\n",
       "</style>\n",
       "<table border=\"1\" class=\"dataframe\">\n",
       "  <thead>\n",
       "    <tr style=\"text-align: right;\">\n",
       "      <th></th>\n",
       "      <th>1</th>\n",
       "      <th>2</th>\n",
       "      <th>3</th>\n",
       "    </tr>\n",
       "  </thead>\n",
       "  <tbody>\n",
       "    <tr>\n",
       "      <th>0</th>\n",
       "      <td>pten</td>\n",
       "      <td>0.79</td>\n",
       "      <td>0.66</td>\n",
       "    </tr>\n",
       "    <tr>\n",
       "      <th>1</th>\n",
       "      <td>pik3ca</td>\n",
       "      <td>0.45</td>\n",
       "      <td>0.22</td>\n",
       "    </tr>\n",
       "  </tbody>\n",
       "</table>\n",
       "</div>"
      ],
      "text/plain": [
       "        1     2     3\n",
       "0    pten  0.79  0.66\n",
       "1  pik3ca  0.45  0.22"
      ]
     },
     "execution_count": 6,
     "metadata": {},
     "output_type": "execute_result"
    }
   ],
   "source": [
    "df"
   ]
  },
  {
   "cell_type": "code",
   "execution_count": null,
   "metadata": {},
   "outputs": [],
   "source": []
  }
 ],
 "metadata": {
  "kernelspec": {
   "display_name": "Python 3",
   "language": "python",
   "name": "python3"
  },
  "language_info": {
   "codemirror_mode": {
    "name": "ipython",
    "version": 3
   },
   "file_extension": ".py",
   "mimetype": "text/x-python",
   "name": "python",
   "nbconvert_exporter": "python",
   "pygments_lexer": "ipython3",
   "version": "3.7.3"
  }
 },
 "nbformat": 4,
 "nbformat_minor": 2
}
