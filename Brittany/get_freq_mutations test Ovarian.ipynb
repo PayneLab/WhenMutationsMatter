{
 "cells": [
  {
   "cell_type": "markdown",
   "metadata": {},
   "source": [
    "# get_freq_mutations test Ovarian"
   ]
  },
  {
   "cell_type": "code",
   "execution_count": 2,
   "metadata": {},
   "outputs": [
    {
     "name": "stdout",
     "output_type": "stream",
     "text": [
      "Welcome to the CPTAC data service package. Available datasets may be\n",
      "viewed using CPTAC.list_data(). In order to access a specific data\n",
      "set, import a CPTAC subfolder using either 'import CPTAC.Dataset' or\n",
      "'from CPTAC import Dataset'.\n",
      "******\n",
      "Version: 0.3.1\n",
      "******\n",
      "Loading Ovarian CPTAC data:\n",
      "Loading clinical data...\n",
      "Loading cnv data...\n",
      "Loading phosphoproteomics data...\n",
      "Loading proteomics data...\n",
      "Loading somatic_38 data...\n",
      "Loading transcriptomics data...\n",
      "\n",
      " ******PLEASE READ******\n",
      "WARNING: This data is under a publication embargo until June 1, 2019.\n",
      "CPTAC is a community resource project and data are made available\n",
      "rapidly after generation for community research use. The embargo\n",
      "allows exploring and utilizing the data, but the data may not be in a\n",
      "publication until June 1, 2019. Please see\n",
      "https://proteomics.cancer.gov/data-portal/about/data-use-agreement or\n",
      "enter embargo() to open the webpage for more details.\n"
     ]
    }
   ],
   "source": [
    "import pandas as pd\n",
    "import seaborn as sns\n",
    "import matplotlib.pyplot as plt\n",
    "\n",
    "\n",
    "import CPTAC.Ovarian as ov"
   ]
  },
  {
   "cell_type": "code",
   "execution_count": 12,
   "metadata": {},
   "outputs": [],
   "source": [
    "def get_frequently_mutated(somatic_df, omics_mutations_df, cutoff=.1, show_percentage=False):  \n",
    "    import operator\n",
    "    unique_genes = somatic_df['Gene'].unique() # get series of all mutated genes\n",
    "    freq_mutated = []\n",
    "    gene_and_freq_d = {}\n",
    "    \n",
    "    # get total tumor patients\n",
    "    tumors = omics_mutations_df.loc[omics_mutations_df['Sample_Status'] == 'Tumor']\n",
    "    total_tumor_patients = len(tumors)\n",
    "    \n",
    "    #find sample (col or index) in gene_mutated (samples represent patients)\n",
    "    #gene_mutated: Endometrial and Colon samples found in column 1, Ovarian found in index\n",
    "    gene = 'PTEN'\n",
    "    gene_mutated = somatic_df.loc[somatic_df['Gene'] == gene]\n",
    "    ovarian = False\n",
    "    sample = 0\n",
    "    if gene_mutated.columns[0] == 'Gene':\n",
    "        sample = gene_mutated.index\n",
    "        ovarian = True\n",
    "        \n",
    "    if ovarian == True:\n",
    "        print('ovarian')\n",
    "        for gene in unique_genes:\n",
    "            gene_mutated = somatic_df.loc[somatic_df['Gene'] == gene]\n",
    "            num_gene_mutated = len(sample.unique())\n",
    "            percentage = (num_gene_mutated / total_tumor_patients)\n",
    "            if (num_gene_mutated / total_tumor_patients) > cutoff:\n",
    "                gene_and_freq_d[gene] = percentage\n",
    "    \n",
    "    #find frequently mutated\n",
    "    else:\n",
    "        for gene in unique_genes:\n",
    "            gene_mutated = somatic_df.loc[somatic_df['Gene'] == gene]\n",
    "            num_gene_mutated = len(gene_mutated[gene_mutated.columns[sample]].unique())\n",
    "            if (num_gene_mutated / total_tumor_patients) > cutoff:\n",
    "                gene_and_freq_d[gene] = percentage\n",
    "\n",
    "    sorted_d = sorted(gene_and_freq_d.items(), key=operator.itemgetter(1), reverse=True)  \n",
    "    \n",
    "    \n",
    "    for i in range(0,len(sorted_d)):\n",
    "        certain_tuple = sorted_d[i]\n",
    "        gene, percent_mutated = certain_tuple\n",
    "        if show_percentage == True:\n",
    "            string_gene_percent = gene + ': %' + str('%.2f'%percent_mutated)\n",
    "            freq_mutated.append(string_gene_percent)\n",
    "        else:\n",
    "            freq_mutated.append(gene)  \n",
    "                   \n",
    "    return freq_mutated"
   ]
  },
  {
   "cell_type": "code",
   "execution_count": 9,
   "metadata": {},
   "outputs": [
    {
     "data": {
      "text/plain": [
       "83"
      ]
     },
     "execution_count": 9,
     "metadata": {},
     "output_type": "execute_result"
    }
   ],
   "source": [
    "#get df\n",
    "somatic = ov.get_mutations()\n",
    "clinical = ov.get_clinical()\n",
    "prot = ov.get_proteomics()\n",
    "\n",
    "gene = 'TP53'\n",
    "omics_mutations = ov.append_mutations_to_omics(mutation_genes=gene, omics_df=prot, omics_genes=gene)\n",
    "gene_mutated = somatic.loc[somatic['Gene'] == 'PTEN']\n",
    "\n",
    "gene_mutated.head()\n",
    "len(gene_mutated)\n",
    "\n",
    "tumors = omics_mutations.loc[omics_mutations['Sample_Status'] == 'Tumor']\n",
    "total_tumor_patients = len(tumors)\n",
    "total_tumor_patients"
   ]
  },
  {
   "cell_type": "code",
   "execution_count": 30,
   "metadata": {},
   "outputs": [
    {
     "data": {
      "text/plain": [
       "4"
      ]
     },
     "execution_count": 30,
     "metadata": {},
     "output_type": "execute_result"
    }
   ],
   "source": [
    "#get column of sample = patient\n",
    "gene = 'PTEN'\n",
    "gene_mutated = somatic.loc[somatic['Gene'] == gene]\n",
    "col_of_sample = 0\n",
    "if gene_mutated.columns[0] == 'Gene':\n",
    "    col_of_sample = gene_mutated.index.unique()\n",
    "len(col_of_sample)"
   ]
  },
  {
   "cell_type": "code",
   "execution_count": 14,
   "metadata": {},
   "outputs": [
    {
     "name": "stdout",
     "output_type": "stream",
     "text": [
      "total_tumor_patients:  83\n"
     ]
    }
   ],
   "source": [
    "#Check num tumor patients\n",
    "tumors = omics_mutations.loc[omics_mutations['Sample_Status'] == 'Tumor']\n",
    "total_tumor_patients = len(tumors)\n",
    "print('total_tumor_patients: ',total_tumor_patients)"
   ]
  },
  {
   "cell_type": "markdown",
   "metadata": {},
   "source": [
    "Test 1: cutoff = .3"
   ]
  },
  {
   "cell_type": "code",
   "execution_count": 13,
   "metadata": {},
   "outputs": [
    {
     "name": "stdout",
     "output_type": "stream",
     "text": [
      "ovarian\n"
     ]
    }
   ],
   "source": [
    "list1 = get_frequently_mutated(somatic, omics_mutations, .001)"
   ]
  },
  {
   "cell_type": "code",
   "execution_count": 28,
   "metadata": {},
   "outputs": [
    {
     "name": "stdout",
     "output_type": "stream",
     "text": [
      "0\n"
     ]
    },
    {
     "data": {
      "text/plain": [
       "[]"
      ]
     },
     "execution_count": 28,
     "metadata": {},
     "output_type": "execute_result"
    }
   ],
   "source": [
    "print(len(list1))\n",
    "list1"
   ]
  },
  {
   "cell_type": "code",
   "execution_count": 8,
   "metadata": {},
   "outputs": [
    {
     "name": "stdout",
     "output_type": "stream",
     "text": [
      "freq_mutated:  15\n",
      "total_genes:  10499\n"
     ]
    }
   ],
   "source": [
    "#How many genes were frequently mutated compared to all mutated genes\n",
    "print('freq_mutated: ',len(list1))\n",
    "total_genes = somatic['Gene'].unique()\n",
    "print('total_genes: ',len(total_genes))"
   ]
  },
  {
   "cell_type": "code",
   "execution_count": 9,
   "metadata": {},
   "outputs": [
    {
     "data": {
      "text/plain": [
       "['TTN',\n",
       " 'TP53',\n",
       " 'MUC16',\n",
       " 'NF1',\n",
       " 'MUC4',\n",
       " 'MUC17',\n",
       " 'CTAGE1',\n",
       " 'LPA',\n",
       " 'MUC12',\n",
       " 'SPATA31D1',\n",
       " 'AHNAK',\n",
       " 'RGPD3',\n",
       " 'RANBP2',\n",
       " 'ARHGAP5',\n",
       " 'LRRC37A3']"
      ]
     },
     "execution_count": 9,
     "metadata": {},
     "output_type": "execute_result"
    }
   ],
   "source": [
    "list1"
   ]
  },
  {
   "cell_type": "code",
   "execution_count": 18,
   "metadata": {},
   "outputs": [
    {
     "name": "stdout",
     "output_type": "stream",
     "text": [
      "26  /  97   0.26804123711340205\n",
      "true\n"
     ]
    }
   ],
   "source": [
    "# check genes in freq_mutated list\n",
    "gene = 'LRRC37A3'\n",
    "total_tumor_patients = 97\n",
    "cutoff = .1\n",
    "gene_mutated = somatic.loc[somatic['Gene'] == gene]\n",
    "num_gene_mutated = len(gene_mutated)\n",
    "print(num_gene_mutated, ' / ', total_tumor_patients, ' ', (num_gene_mutated / total_tumor_patients))\n",
    "if (num_gene_mutated / total_tumor_patients) > cutoff:\n",
    "    print('true')\n",
    "else:\n",
    "    print('false')"
   ]
  },
  {
   "cell_type": "code",
   "execution_count": null,
   "metadata": {},
   "outputs": [],
   "source": []
  }
 ],
 "metadata": {
  "kernelspec": {
   "display_name": "Python 3",
   "language": "python",
   "name": "python3"
  },
  "language_info": {
   "codemirror_mode": {
    "name": "ipython",
    "version": 3
   },
   "file_extension": ".py",
   "mimetype": "text/x-python",
   "name": "python",
   "nbconvert_exporter": "python",
   "pygments_lexer": "ipython3",
   "version": "3.7.3"
  }
 },
 "nbformat": 4,
 "nbformat_minor": 2
}
