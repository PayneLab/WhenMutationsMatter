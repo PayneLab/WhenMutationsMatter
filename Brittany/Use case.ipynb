{
 "cells": [
  {
   "cell_type": "code",
   "execution_count": 4,
   "metadata": {},
   "outputs": [],
   "source": [
    "import pandas as pd\n",
    "import cptac.endometrial as c"
   ]
  },
  {
   "cell_type": "code",
   "execution_count": 5,
   "metadata": {},
   "outputs": [
    {
     "name": "stdout",
     "output_type": "stream",
     "text": [
      "total_tumor_patients 95\n"
     ]
    }
   ],
   "source": [
    "somatic_mutation = c.get_mutations()\n",
    "sample_status_map = c.get_sample_status_map()\n",
    "merged_mutations = somatic_mutation.join(sample_status_map, how=\"left\")\n",
    "sample_status_series = sample_status_map.value_counts()\n",
    "total_tumor_patients = sample_status_series[0]\n",
    "print('total_tumor_patients', total_tumor_patients)"
   ]
  },
  {
   "cell_type": "code",
   "execution_count": 13,
   "metadata": {},
   "outputs": [
    {
     "name": "stdout",
     "output_type": "stream",
     "text": [
      "S051    2\n",
      "S078    2\n",
      "S092    2\n",
      "S024    2\n",
      "S057    2\n",
      "S094    2\n",
      "S002    2\n",
      "S073    2\n",
      "S023    2\n",
      "S069    2\n",
      "S050    2\n",
      "S091    2\n",
      "S098    2\n",
      "S049    1\n",
      "S093    1\n",
      "S019    1\n",
      "S030    1\n",
      "S040    1\n",
      "S036    1\n",
      "S053    1\n",
      "S038    1\n",
      "S099    1\n",
      "S087    1\n",
      "S100    1\n",
      "S026    1\n",
      "S008    1\n",
      "S064    1\n",
      "S083    1\n",
      "S012    1\n",
      "S018    1\n",
      "S085    1\n",
      "S090    1\n",
      "S014    1\n",
      "S077    1\n",
      "S068    1\n",
      "S037    1\n",
      "S084    1\n",
      "S080    1\n",
      "Name: Sample_ID, dtype: int64\n",
      "Frame_Shift_Del      23\n",
      "Nonsense_Mutation    17\n",
      "Frame_Shift_Ins      11\n",
      "Name: Mutation, dtype: int64\n",
      "\n",
      " ARID1A 38 / 95 \n",
      "\n"
     ]
    }
   ],
   "source": [
    "freq_mut = ['ARID1A']\n",
    "truncated = []\n",
    "for gene in freq_mut:\n",
    "    gene_mutated = merged_mutations.loc[merged_mutations['Gene'] == gene]\n",
    "    trunc = gene_mutated.loc[gene_mutated['Mutation'] != 'In_Frame_Del']\n",
    "    trunc = trunc.loc[trunc['Mutation'] != 'In_Frame_Ins']\n",
    "    trunc = trunc.loc[trunc['Mutation'] != 'Missense_Mutation'] \n",
    "    num_gene_mutated = trunc.index.unique()\n",
    "    #print(trunc.head())\n",
    "    tcmm = trunc.index.value_counts()\n",
    "    for sample in tcmm:\n",
    "        if sample > 1:\n",
    "            count += (sample - 1)\n",
    "            \n",
    "    print(tcmm)\n",
    "    print(trunc['Mutation'].value_counts())\n",
    "    num_samples = len(num_gene_mutated)\n",
    "    percentage = (num_samples / total_tumor_patients)\n",
    "    print('\\n', gene,num_samples, '/',total_tumor_patients, '\\n')\n",
    "    truncated.append(percentage)"
   ]
  },
  {
   "cell_type": "code",
   "execution_count": null,
   "metadata": {},
   "outputs": [],
   "source": []
  }
 ],
 "metadata": {
  "kernelspec": {
   "display_name": "Python 3",
   "language": "python",
   "name": "python3"
  },
  "language_info": {
   "codemirror_mode": {
    "name": "ipython",
    "version": 3
   },
   "file_extension": ".py",
   "mimetype": "text/x-python",
   "name": "python",
   "nbconvert_exporter": "python",
   "pygments_lexer": "ipython3",
   "version": "3.7.3"
  }
 },
 "nbformat": 4,
 "nbformat_minor": 2
}
