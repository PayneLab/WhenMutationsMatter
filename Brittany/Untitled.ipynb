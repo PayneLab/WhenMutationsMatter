{
 "cells": [
  {
   "cell_type": "code",
   "execution_count": 1,
   "metadata": {},
   "outputs": [
    {
     "name": "stdout",
     "output_type": "stream",
     "text": [
      "Welcome to the CPTAC data service package. Available datasets may be\n",
      "viewed using CPTAC.list_data(). In order to access a specific data\n",
      "set, import a CPTAC subfolder using either 'import CPTAC.Dataset' or\n",
      "'from CPTAC import Dataset'.\n",
      "******\n",
      "Version: 0.3.1\n",
      "******\n",
      "Loading Endometrial CPTAC data:\n",
      "Loading Dictionary...\n",
      "Loading Clinical Data...\n",
      "Loading Acetylation Proteomics Data...\n",
      "Loading Proteomics Data...\n",
      "Loading Transcriptomics Data...\n",
      "Loading CNA Data...\n",
      "Loading Phosphoproteomics Data...\n",
      "Loading Somatic Mutation Data...\n",
      "\n",
      " ******PLEASE READ******\n",
      "WARNING: This data is under a publication embargo until July 1, 2019.\n",
      "CPTAC is a community resource project and data are made available\n",
      "rapidly after generation for community research use. The embargo\n",
      "allows exploring and utilizing the data, but the data may not be in a\n",
      "publication until July 1, 2019. Please see\n",
      "https://proteomics.cancer.gov/data-portal/about/data-use-agreement or\n",
      "enter embargo() to open the webpage for more details.\n"
     ]
    }
   ],
   "source": [
    "import pandas as pd\n",
    "import seaborn as sns\n",
    "import matplotlib.pyplot as plt\n",
    "\n",
    "\n",
    "import CPTAC.Endometrial as en"
   ]
  },
  {
   "cell_type": "code",
   "execution_count": 2,
   "metadata": {},
   "outputs": [],
   "source": [
    "somatic = en.get_mutations()\n",
    "clinical = en.get_clinical()\n",
    "prot = en.get_proteomics()\n",
    "gene = 'PTEN'\n",
    "omics_mutations = en.append_mutations_to_omics(mutation_genes=gene, omics_df=prot, omics_genes=gene)"
   ]
  },
  {
   "cell_type": "code",
   "execution_count": 3,
   "metadata": {},
   "outputs": [],
   "source": [
    "# make dictionary and sort into descending order based on num mutations\n",
    "import operator\n",
    "gene_and_freq_d = {}\n",
    "total_tumor_patients = 95\n",
    "cutoff = .25\n",
    "\n",
    "unique_genes = somatic['Gene'].unique()\n",
    "for gene in unique_genes:\n",
    "    gene_mutated = somatic.loc[somatic['Gene'] == gene]\n",
    "    num_gene_mutated = len(gene_mutated['Patient_Id'].unique())     \n",
    "    percentage = (num_gene_mutated / total_tumor_patients)\n",
    "    if percentage > cutoff:\n",
    "        gene_and_freq_d[gene] = percentage\n",
    "\n",
    "sorted_d = sorted(gene_and_freq_d.items(), key=operator.itemgetter(1), reverse=True)   "
   ]
  },
  {
   "cell_type": "code",
   "execution_count": null,
   "metadata": {},
   "outputs": [],
   "source": []
  },
  {
   "cell_type": "code",
   "execution_count": 21,
   "metadata": {},
   "outputs": [
    {
     "name": "stdout",
     "output_type": "stream",
     "text": [
      "PTEN : % 0.79\n",
      "PTEN : % 0.7894736842105263\n",
      "PIK3CA : % 0.49\n",
      "PIK3CA : % 0.49473684210526314\n",
      "ARID1A : % 0.45\n",
      "ARID1A : % 0.45263157894736844\n",
      "PIK3R1 : % 0.39\n",
      "PIK3R1 : % 0.3894736842105263\n",
      "KRAS : % 0.33\n",
      "KRAS : % 0.3263157894736842\n",
      "CTNNB1 : % 0.31\n",
      "CTNNB1 : % 0.30526315789473685\n",
      "CTCF : % 0.28\n",
      "CTCF : % 0.28421052631578947\n"
     ]
    }
   ],
   "source": [
    "i = 0\n",
    "for i in range(0,len(sorted_d)):\n",
    "    tuple1 = sorted_d[i]\n",
    "    g, e = tuple1\n",
    "    print(g, ': %', '%.2f'%e)\n",
    "    print(g, ': %', e)\n",
    "    ++ i"
   ]
  },
  {
   "cell_type": "code",
   "execution_count": 14,
   "metadata": {},
   "outputs": [
    {
     "data": {
      "text/plain": [
       "'PTEN'"
      ]
     },
     "execution_count": 14,
     "metadata": {},
     "output_type": "execute_result"
    }
   ],
   "source": [
    "g"
   ]
  },
  {
   "cell_type": "code",
   "execution_count": 15,
   "metadata": {},
   "outputs": [
    {
     "data": {
      "text/plain": [
       "0.7894736842105263"
      ]
     },
     "execution_count": 15,
     "metadata": {},
     "output_type": "execute_result"
    }
   ],
   "source": [
    "e"
   ]
  },
  {
   "cell_type": "code",
   "execution_count": null,
   "metadata": {},
   "outputs": [],
   "source": []
  }
 ],
 "metadata": {
  "kernelspec": {
   "display_name": "Python 3",
   "language": "python",
   "name": "python3"
  },
  "language_info": {
   "codemirror_mode": {
    "name": "ipython",
    "version": 3
   },
   "file_extension": ".py",
   "mimetype": "text/x-python",
   "name": "python",
   "nbconvert_exporter": "python",
   "pygments_lexer": "ipython3",
   "version": "3.7.3"
  }
 },
 "nbformat": 4,
 "nbformat_minor": 2
}
