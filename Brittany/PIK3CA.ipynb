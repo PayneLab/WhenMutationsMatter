{
 "cells": [
  {
   "cell_type": "code",
   "execution_count": 1,
   "metadata": {},
   "outputs": [],
   "source": [
    "import pandas as pd\n",
    "import numpy as np\n",
    "import scipy.stats\n",
    "from scipy.stats import pearsonr\n",
    "import matplotlib.pyplot as plt\n",
    "import seaborn as sns\n",
    "import re"
   ]
  },
  {
   "cell_type": "code",
   "execution_count": 4,
   "metadata": {},
   "outputs": [
    {
     "name": "stdout",
     "output_type": "stream",
     "text": [
      "Below are the available endometrial data frames contained in this package:\n",
      "\t clinical\n",
      "\t \t Dimensions: (144, 26)\n",
      "\t derived_molecular\n",
      "\t \t Dimensions: (144, 144)\n",
      "\t acetylproteomics\n",
      "\t \t Dimensions: (144, 10862)\n",
      "\t proteomics\n",
      "\t \t Dimensions: (144, 10999)\n",
      "\t transcriptomics_linear\n",
      "\t \t Dimensions: (109, 28057)\n",
      "\t transcriptomics_circular\n",
      "\t \t Dimensions: (109, 4945)\n",
      "\t CNA\n",
      "\t \t Dimensions: (95, 28057)\n",
      "\t phosphoproteomics_site\n",
      "\t \t Dimensions: (144, 73212)\n",
      "\t phosphoproteomics_gene\n",
      "\t \t Dimensions: (144, 8466)\n",
      "\t somatic binary\n",
      "\t \t Dimensions: (95, 51559)\n",
      "\t somatic MAF\n",
      "\t \t Dimensions: (52560, 5)\n"
     ]
    }
   ],
   "source": [
    "import CPTAC.Endometrial as CPTAC\n",
    "CPTAC.list_data()"
   ]
  },
  {
   "cell_type": "code",
   "execution_count": 16,
   "metadata": {},
   "outputs": [],
   "source": [
    "gene = 'PIK3CA'\n",
    "somatic = CPTAC.get_mutations() #changed get_somatic to mutations\n",
    "proteomics = CPTAC.get_proteomics()\n",
    "phos = CPTAC.get_phosphoproteomics()\n",
    "\n",
    "#A list of mutations present in the hotspot according to our Hotspot3D output\n",
    "hotspot_mutations = ['p.E545A', 'p.E545K', 'p.E545V', 'p.Q546P', 'p.Q546R', 'p.E542K']\n",
    "mutated_hotspot = somatic.loc[(somatic['Location'].isin(hotspot_mutations)) & (somatic['Gene'] == gene)]\n",
    "hotspot_patients = mutated_hotspot['Clinical_Patient_Key']\n",
    "#print('Patients with hotspot mutations: \\n')\n",
    "#print(hotspot_patients)\n",
    "\n",
    "#The pvalue cutoff used to find significance\n",
    "pcutoff = 0.05\n",
    "#mutated_hotspot.head()"
   ]
  },
  {
   "cell_type": "code",
   "execution_count": 30,
   "metadata": {},
   "outputs": [
    {
     "data": {
      "text/html": [
       "<div>\n",
       "<style scoped>\n",
       "    .dataframe tbody tr th:only-of-type {\n",
       "        vertical-align: middle;\n",
       "    }\n",
       "\n",
       "    .dataframe tbody tr th {\n",
       "        vertical-align: top;\n",
       "    }\n",
       "\n",
       "    .dataframe thead th {\n",
       "        text-align: right;\n",
       "    }\n",
       "</style>\n",
       "<table border=\"1\" class=\"dataframe\">\n",
       "  <thead>\n",
       "    <tr style=\"text-align: right;\">\n",
       "      <th></th>\n",
       "      <th>Clinical_Patient_Key</th>\n",
       "      <th>Patient_Id</th>\n",
       "      <th>Gene</th>\n",
       "      <th>Mutation</th>\n",
       "      <th>Location</th>\n",
       "    </tr>\n",
       "  </thead>\n",
       "  <tbody>\n",
       "    <tr>\n",
       "      <th>2</th>\n",
       "      <td>S001</td>\n",
       "      <td>C3L-00006</td>\n",
       "      <td>RPL22</td>\n",
       "      <td>Missense_Mutation</td>\n",
       "      <td>p.V72M</td>\n",
       "    </tr>\n",
       "    <tr>\n",
       "      <th>3</th>\n",
       "      <td>S001</td>\n",
       "      <td>C3L-00006</td>\n",
       "      <td>CASZ1</td>\n",
       "      <td>Missense_Mutation</td>\n",
       "      <td>p.R233Q</td>\n",
       "    </tr>\n",
       "    <tr>\n",
       "      <th>4</th>\n",
       "      <td>S001</td>\n",
       "      <td>C3L-00006</td>\n",
       "      <td>PRAMEF9</td>\n",
       "      <td>Missense_Mutation</td>\n",
       "      <td>p.L30M</td>\n",
       "    </tr>\n",
       "    <tr>\n",
       "      <th>5</th>\n",
       "      <td>S001</td>\n",
       "      <td>C3L-00006</td>\n",
       "      <td>SPEN</td>\n",
       "      <td>Missense_Mutation</td>\n",
       "      <td>p.V2741I</td>\n",
       "    </tr>\n",
       "  </tbody>\n",
       "</table>\n",
       "</div>"
      ],
      "text/plain": [
       "  Clinical_Patient_Key Patient_Id     Gene           Mutation  Location\n",
       "2                 S001  C3L-00006    RPL22  Missense_Mutation    p.V72M\n",
       "3                 S001  C3L-00006    CASZ1  Missense_Mutation   p.R233Q\n",
       "4                 S001  C3L-00006  PRAMEF9  Missense_Mutation    p.L30M\n",
       "5                 S001  C3L-00006     SPEN  Missense_Mutation  p.V2741I"
      ]
     },
     "execution_count": 30,
     "metadata": {},
     "output_type": "execute_result"
    }
   ],
   "source": [
    "#my practice .loc: get all missence mut for PIK3CA\n",
    "missence = somatic.loc[(somatic['Mutation'] == 'Missense_Mutation') & (somatic['Gene'] == 'PIK3CA')] \n",
    "# use () because & higher precedence than == \n",
    "missence.head()\n",
    "# find patient mutations\n",
    "patient = somatic.loc[somatic['Patient_Id'] == 'C3L-00143']\n",
    "#patient = somatic.loc[(somatic['Patient_Id'] == 'C3L-00143') & (somatic['Gene'] == 'PIK3CA')]\n",
    "\n",
    "#find patients using iloc\n",
    "somatic.index\n",
    "patient_group = somatic.iloc[2:6]\n",
    "patient_group"
   ]
  },
  {
   "cell_type": "code",
   "execution_count": 77,
   "metadata": {},
   "outputs": [
    {
     "name": "stdout",
     "output_type": "stream",
     "text": [
      "Patients with mutations inside hotspot: 19\n",
      "Total number of patients with PIK3CA mutations: 46\n"
     ]
    },
    {
     "data": {
      "text/plain": [
       "array([-1], dtype=int64)"
      ]
     },
     "execution_count": 77,
     "metadata": {},
     "output_type": "execute_result"
    }
   ],
   "source": [
    "print('{}''{}'.format('Patients with mutations inside hotspot: ', len(hotspot_patients)))\n",
    "p110_mutated = somatic.loc[somatic['Gene'] == 'PIK3CA']\n",
    "#note: the gene PIK3CA encodes for the protein p110α, hence the variable 'p110_mutated'\n",
    "\n",
    "# This naturally includes a value that is 'NA' so we subtract 1\n",
    "# Some people have more than one mutation so we need to grab the unique values\n",
    "num_mutated = len(set(p110_mutated['Clinical_Patient_Key'])) - 1\n",
    "print('{}' '{}'.format('Total number of patients with PIK3CA mutations: ', num_mutated))\n",
    "\n",
    "\n",
    "notavail = ['nan', 'NaN']\n",
    "na = p110_mutated['Clinical_Patient_Key'].isin(notavail)\n",
    "type(na)\n",
    "na_df = na.to_frame()\n",
    "\n",
    "new = na_df.loc[na_df['Clinical_Patient_Key'] == True]\n",
    "new.head()\n",
    "\n",
    "#using .find with series -- series.string.find(sub,start,end)\n",
    "p110_s = p110_mutated['Clinical_Patient_Key']\n",
    "findna = p110_s.str.find('NaN',0,200)\n",
    "findna.unique()"
   ]
  },
  {
   "cell_type": "code",
   "execution_count": 78,
   "metadata": {},
   "outputs": [
    {
     "name": "stdout",
     "output_type": "stream",
     "text": [
      "                   Mutation Count\n",
      "Missense_Mutation              58\n",
      "In_Frame_Del                    3\n",
      "Frame_Shift_Ins                 1\n"
     ]
    }
   ],
   "source": [
    "# Count the number of instances of various mutation types in the column 'Mutation' in the p110_mutated dataframe.\n",
    "mut_counts = p110_mutated['Mutation'].value_counts()\n",
    "\n",
    "# The previous function returns a series. Convert the series to a dataframe for better visual\n",
    "counts_df = mut_counts.to_frame()\n",
    "\n",
    "#Rename the column to clarify the number of mutations\n",
    "counts_df = counts_df.rename(index=str, columns = { 'Mutation' : 'Mutation Count'})\n",
    "print(counts_df)"
   ]
  },
  {
   "cell_type": "code",
   "execution_count": 80,
   "metadata": {},
   "outputs": [
    {
     "name": "stdout",
     "output_type": "stream",
     "text": [
      "      PIK3CA           Mutation Sample_Status\n",
      "S001  -0.450  Missense_Mutation         Tumor\n",
      "S002  -0.215     Wildtype_Tumor         Tumor\n",
      "S003  -0.178  Missense_Mutation         Tumor\n",
      "S005  -0.392     Wildtype_Tumor         Tumor\n",
      "S006   0.287     Wildtype_Tumor         Tumor\n",
      "      PIK3CA           Mutation Sample_Status   Within_Hotspot\n",
      "S001  -0.450  Missense_Mutation         Tumor  Outside Hotspot\n",
      "S002  -0.215     Wildtype_Tumor         Tumor  Outside Hotspot\n",
      "S003  -0.178  Missense_Mutation         Tumor  Outside Hotspot\n",
      "S005  -0.392     Wildtype_Tumor         Tumor  Outside Hotspot\n",
      "S006   0.287     Wildtype_Tumor         Tumor  Outside Hotspot\n",
      "      PIK3CA           Mutation Sample_Status   Within_Hotspot\n",
      "S001  -0.450  Missense_Mutation         Tumor   Within Hotspot\n",
      "S002  -0.215     Wildtype_Tumor         Tumor  Outside Hotspot\n",
      "S003  -0.178  Missense_Mutation         Tumor   Within Hotspot\n",
      "S005  -0.392     Wildtype_Tumor         Tumor  Outside Hotspot\n",
      "S006   0.287     Wildtype_Tumor         Tumor  Outside Hotspot\n",
      "PIK3CA proteomics hotspot mutations vs wildtype: nan\n",
      "\n",
      "Non-hotspot mutations vs wildtype: nan\n",
      "\n",
      "PIK3CA proteomics all mutation vs wildtype: nan\n"
     ]
    }
   ],
   "source": [
    "protein = 'PIK3CA'\n",
    "# 1. Merge the mutation status of PIK3CA and the protemics data of PIK3CA\n",
    "p110_mutations_protein = CPTAC.compare_mutations(proteomics, protein)\n",
    "#note - CPTAC will return a dataframe of the mutation status and proteomics of the same gene \n",
    "#   if only two parameters are provided: the dataframe and the mutation/protein being analyzed\n",
    "\n",
    "# 2. Set up a new column for mutations that are within the hotspot\n",
    "print(p110_mutations_protein.head())\n",
    "p110_mutations_protein['Within_Hotspot'] = 'Outside Hotspot'\n",
    "print(p110_mutations_protein.head())\n",
    "p110_mutations_protein.loc[hotspot_patients, 'Within_Hotspot'] = 'Within Hotspot'\n",
    "print(p110_mutations_protein.head())\n",
    "#p110_mutations_protein.loc[p110_mutations_protein['Mutation'] == 'Wildtype_Tumor', 'Within_Hotspot'] = 'Wildtype_Tumor'\n",
    "\n",
    "# 3. Select for tumor samples only \n",
    "p110_mutations_protein = p110_mutations_protein.loc[p110_mutations_protein['Sample_Status'] == 'Tumor'].dropna(axis=0)\n",
    "\n",
    "# 4. Make three new dataframes, one for people with a hotspot mutation, one for those with mutations outside the hotspot, and  one for all the wildtype cancer patients\n",
    "hotspot_mut = p110_mutations_protein.loc[p110_mutations_protein['Within_Hotspot'] == 'Within Hotspot'] \n",
    "non_hotspot_mut = p110_mutations_protein.loc[p110_mutations_protein['Within_Hotspot'] == 'Outside Hotspot']\n",
    "wt = p110_mutations_protein.loc[p110_mutations_protein['Within_Hotspot'] == 'Wildtype_Tumor']\n",
    "\n",
    "\n",
    "# 5. ttest for proteomics of PIK3CA between wildtype cancer and hotspot mutation\n",
    "tstat, pvalue = scipy.stats.ttest_ind(hotspot_mut[protein], wt[protein])\n",
    "print('{}' '{}' '{}' '{}'.format(protein, ' proteomics hotspot mutations vs wildtype: ', pvalue, '\\n'))\n",
    "\n",
    "#Perform a ttest for non-hotspot mutations vs wildtype \n",
    "tstat, pvalue = scipy.stats.ttest_ind(non_hotspot_mut[protein], wt[protein])\n",
    "print('{}' '{}' '{}'.format('Non-hotspot mutations vs wildtype: ', pvalue, '\\n'))\n",
    "\n",
    "# 6. Repeat for all mutations vs wildtype cancer\n",
    "all_mutated = p110_mutations_protein.loc[p110_mutations_protein['Within_Hotspot'] != 'Wildtype']\n",
    "tstat, pvalue = scipy.stats.ttest_ind(all_mutated[protein], wt[protein])\n",
    "print('{}' '{}' '{}'.format(protein, \" proteomics all mutation vs wildtype: \" , pvalue))\n"
   ]
  },
  {
   "cell_type": "code",
   "execution_count": null,
   "metadata": {},
   "outputs": [],
   "source": []
  }
 ],
 "metadata": {
  "kernelspec": {
   "display_name": "Python 3",
   "language": "python",
   "name": "python3"
  },
  "language_info": {
   "codemirror_mode": {
    "name": "ipython",
    "version": 3
   },
   "file_extension": ".py",
   "mimetype": "text/x-python",
   "name": "python",
   "nbconvert_exporter": "python",
   "pygments_lexer": "ipython3",
   "version": "3.7.3"
  }
 },
 "nbformat": 4,
 "nbformat_minor": 2
}
