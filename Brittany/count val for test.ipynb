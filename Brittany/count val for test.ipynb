{
 "cells": [
  {
   "cell_type": "code",
   "execution_count": 11,
   "metadata": {},
   "outputs": [],
   "source": [
    "import pandas as pd\n",
    "import cptac.ovarian as cptac"
   ]
  },
  {
   "cell_type": "code",
   "execution_count": 12,
   "metadata": {},
   "outputs": [
    {
     "data": {
      "text/plain": [
       "array(['Silent', 'Missense_Mutation', 'Splice_Site', 'Nonsense_Mutation',\n",
       "       'Frame_Shift_Del', 'In_Frame_Ins', 'In_Frame_Del',\n",
       "       'Frame_Shift_Ins', 'Nonstop_Mutation'], dtype=object)"
      ]
     },
     "execution_count": 12,
     "metadata": {},
     "output_type": "execute_result"
    }
   ],
   "source": [
    "# get data frames\n",
    "somatic_mutations = cptac.get_mutations()\n",
    "\n",
    "proteomics = cptac.get_proteomics()\n",
    "sample_status_map = cptac.get_sample_status_map()\n",
    "merged_mutations = somatic_mutations.join(sample_status_map, how=\"left\") \n",
    "\n",
    "freq_mut = ['MUC4']\n",
    "    #'ARID1A', 'PIK3CA','PTEN','CTCF' ,'KRAS','PIK3R1','CTNNB1']\n",
    "    \n",
    "merged_mutations['Mutation'].unique()"
   ]
  },
  {
   "cell_type": "code",
   "execution_count": 3,
   "metadata": {},
   "outputs": [
    {
     "data": {
      "text/plain": [
       "111"
      ]
     },
     "execution_count": 3,
     "metadata": {},
     "output_type": "execute_result"
    }
   ],
   "source": [
    "sample_status_series = sample_status_map.value_counts()\n",
    "total_tumor_patients = sample_status_series[0]\n",
    "total_tumor_patients"
   ]
  },
  {
   "cell_type": "code",
   "execution_count": 13,
   "metadata": {},
   "outputs": [
    {
     "data": {
      "text/plain": [
       "Missense_Mutation    48\n",
       "Silent               16\n",
       "Splice_Site           1\n",
       "Name: Mutation, dtype: int64"
      ]
     },
     "execution_count": 13,
     "metadata": {},
     "output_type": "execute_result"
    }
   ],
   "source": [
    "# find truncated fraction\n",
    "truncated = []\n",
    "total_tumor_patients = 111\n",
    "for gene in freq_mut:\n",
    "    gene_mutated = merged_mutations.loc[merged_mutations['Gene'] == gene]\n",
    "    truncated_df = gene_mutated.loc[(gene_mutated['Mutation'] != 'In_Frame_Del') & \n",
    "        (gene_mutated['Mutation'] != 'In_Frame_Ins') & (gene_mutated['Mutation'] != 'Missense_Mutation')] \n",
    "    samples_trunc = truncated_df.index.unique()\n",
    "    num_trunc_mut = len(samples_trunc)\n",
    "    fraction_trunc = (num_trunc_mut / total_tumor_patients)\n",
    "    truncated.append(fraction_trunc)\n",
    "    \n",
    "gene_mutated['Mutation'].value_counts()"
   ]
  },
  {
   "cell_type": "code",
   "execution_count": 5,
   "metadata": {},
   "outputs": [
    {
     "data": {
      "text/plain": [
       "3"
      ]
     },
     "execution_count": 5,
     "metadata": {},
     "output_type": "execute_result"
    }
   ],
   "source": [
    "\n",
    "truncated_df\n",
    "num_trunc_mut"
   ]
  },
  {
   "cell_type": "code",
   "execution_count": 31,
   "metadata": {},
   "outputs": [
    {
     "name": "stdout",
     "output_type": "stream",
     "text": [
      "Index(['S002', 'S008', 'S012', 'S014', 'S018', 'S019', 'S023', 'S024', 'S026',\n",
      "       'S030', 'S036', 'S037', 'S038', 'S040', 'S049', 'S050', 'S051', 'S053',\n",
      "       'S057', 'S064', 'S068', 'S069', 'S073', 'S077', 'S078', 'S080', 'S083',\n",
      "       'S084', 'S085', 'S087', 'S090', 'S091', 'S092', 'S093', 'S094', 'S098',\n",
      "       'S099', 'S100'],\n",
      "      dtype='object', name='Sample_ID')\n",
      "\n",
      "truncated_df\n",
      " ['Nonsense_Mutation' 'Frame_Shift_Del' 'Frame_Shift_Ins']\n",
      "trunc total: 38\n",
      "[0.4]\n"
     ]
    }
   ],
   "source": [
    "print(truncated_df.index.unique())\n",
    "print('\\ntruncated_df\\n',truncated_df['Mutation'].unique())\n",
    "\n",
    "\n",
    "print('trunc total:', num_trunc_mut)\n",
    "print(truncated)"
   ]
  },
  {
   "cell_type": "code",
   "execution_count": 32,
   "metadata": {},
   "outputs": [],
   "source": [
    "# find missence fraction \n",
    "missence = []\n",
    "for gene in freq_mut:\n",
    "    gene_mutated = merged_mutations.loc[merged_mutations['Gene'] == gene]\n",
    "    missence_mutations = gene_mutated.loc[(gene_mutated['Mutation'] == 'In_Frame_Ins') | (gene_mutated['Mutation'] == 'In_Frame_Del') | (gene_mutated['Mutation'] == 'Missense_Mutation')]\n",
    "    samples_miss = missence_mutations.index.unique()\n",
    "    num_miss_mut = len(samples_miss)\n",
    "    fraction_miss = (num_miss_mut / total_tumor_patients)\n",
    "    missence.append(fraction_miss)"
   ]
  },
  {
   "cell_type": "code",
   "execution_count": 35,
   "metadata": {},
   "outputs": [
    {
     "data": {
      "text/plain": [
       "Index(['S001', 'S014', 'S022', 'S024', 'S027', 'S037', 'S059', 'S064', 'S073',\n",
       "       'S079', 'S085', 'S094', 'S099'],\n",
       "      dtype='object', name='Sample_ID')"
      ]
     },
     "execution_count": 35,
     "metadata": {},
     "output_type": "execute_result"
    }
   ],
   "source": [
    "missence_mutations.index.unique()\n",
    "\n",
    "\n",
    "#missence_mutations\n"
   ]
  },
  {
   "cell_type": "code",
   "execution_count": 36,
   "metadata": {},
   "outputs": [
    {
     "data": {
      "text/plain": [
       "13"
      ]
     },
     "execution_count": 36,
     "metadata": {},
     "output_type": "execute_result"
    }
   ],
   "source": [
    "len(missence_mutations.index.unique())"
   ]
  },
  {
   "cell_type": "code",
   "execution_count": null,
   "metadata": {},
   "outputs": [],
   "source": []
  }
 ],
 "metadata": {
  "kernelspec": {
   "display_name": "Python 3",
   "language": "python",
   "name": "python3"
  },
  "language_info": {
   "codemirror_mode": {
    "name": "ipython",
    "version": 3
   },
   "file_extension": ".py",
   "mimetype": "text/x-python",
   "name": "python",
   "nbconvert_exporter": "python",
   "pygments_lexer": "ipython3",
   "version": "3.7.3"
  }
 },
 "nbformat": 4,
 "nbformat_minor": 2
}
