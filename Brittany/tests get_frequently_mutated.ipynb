{
 "cells": [
  {
   "cell_type": "markdown",
   "metadata": {},
   "source": [
    "# Test get_frequently_mutated"
   ]
  },
  {
   "cell_type": "markdown",
   "metadata": {},
   "source": [
    "NOTE: test for wrong input\n",
    "What about importing cptac, cancer object, and algorithms? "
   ]
  },
  {
   "cell_type": "code",
   "execution_count": 1,
   "metadata": {},
   "outputs": [],
   "source": [
    "import pandas as pd\n",
    "import cptac\n",
    "import cptac.algorithms as al"
   ]
  },
  {
   "cell_type": "code",
   "execution_count": 12,
   "metadata": {},
   "outputs": [],
   "source": [
    "def print_test_result(PASS):\n",
    "    \"\"\"Prints the result of a test, based on a bool.\n",
    "    Parameters:\n",
    "    PASS (bool): Whether or not the test passed.\n",
    "    \"\"\"\n",
    "    if PASS:\n",
    "        print('\\tPASS')\n",
    "    else:\n",
    "        print('\\tFAIL\\n')\n",
    "\n",
    "def check_returned_is_df(returned):\n",
    "    \"\"\"Checks that an object is a dataframe. Prints a specific message if it's actually None, or a general message if it's something else.\n",
    "    Parameters:\n",
    "    returned: The object to test\n",
    "    Returns:\n",
    "    bool: Indicates whether the object was a dataframe.\n",
    "    \"\"\"\n",
    "    if returned is None:\n",
    "        print(\"Function under test returned None.\")\n",
    "        return False\n",
    "    \n",
    "    if not isinstance(returned, pd.core.frame.DataFrame):\n",
    "        print(\"Returned object was not a dataframe. Type of object: {}\".format(type(returned)))\n",
    "        return False\n",
    "    return True\n",
    "\n",
    "def check_df_shape(df, exp_shape):\n",
    "    \"\"\"Checks that a dataframe has the proper shape.\n",
    "    Parameters:\n",
    "    df (pandas.core.frame.DataFrame): The dataframe to test.\n",
    "    exp_shape (tuple): A tuple with two elements. First element is expected number of rows, second is expected number of columns.\n",
    "    Returns:\n",
    "    bool: Indicates whether the dataframe had the proper shape.\n",
    "    \"\"\"\n",
    "    act_shape = df.shape\n",
    "    if exp_shape != act_shape:\n",
    "        print(\"Dataframe dimensions did not match expected values.\\n\\tExpected: {}\\n\\tActual: {}\\n\".format(exp_shape, act_shape))\n",
    "        return False\n",
    "    return True"
   ]
  },
  {
   "cell_type": "code",
   "execution_count": 13,
   "metadata": {},
   "outputs": [],
   "source": [
    "def check_getter(df, exp_dim, exp_headers, coordinates, values): \n",
    "    \"\"\"Test a dataframe's dimensions and headers, and three test values, then print whether it passed the test.\n",
    "    Parameters\n",
    "    df: the dataframe gotten by the getter we are testing\n",
    "    exp_dim: a tuple containing the expected dimensions of the dataframe, in the format (rows, columns)\n",
    "    exp_headers: if the dataframe has up to 20 columns, all of the headers for the dataframe, in order. If it has more than 20 columns, then a list containing the first ten and last ten headers, in order.\n",
    "    coordinates: a tuple with three elements, each element being a tuple with two elements, the first element being the int index of the row of a test value, and the second element being the int index of the column of a test value\n",
    "    values: a tuple with three elements, each element being the expected value of the test value corresponding to the coordinates at the same index in the coordinates parameter \n",
    "    Returns\n",
    "    bool indicating if the dataframe had the correct data.\n",
    "    \"\"\"\n",
    "    PASS = True\n",
    "\n",
    "    # Check that df is a dataframe, not None or something else.\n",
    "    if not check_returned_is_df(df):\n",
    "        return False # End test, because other tests will be useless.\n",
    "\n",
    "    # Check dimensions\n",
    "    if not check_df_shape(df, exp_dim):\n",
    "        PASS = False\n",
    "\n",
    "    # Check headers\n",
    "    act_headers_all = list(df.columns.values)\n",
    "    if len(df.columns.values) <= 20:\n",
    "        act_headers = act_headers_all\n",
    "    else:\n",
    "        act_headers = act_headers_all[:10] + act_headers_all[-10:]\n",
    "\n",
    "    if len(exp_headers) != len(act_headers):\n",
    "        print(\"Unexpected number of test headers in dataframe. Expected number of headers: {}. You passed {} headers.\\n\".format(len(act_headers), len(exp_headers)))\n",
    "        PASS = False\n",
    "    else:\n",
    "        for i, header in enumerate(exp_headers):\n",
    "            if header != act_headers[i]:\n",
    "                print(\"Dataframe header did not match expected value.\\n\\tExpected: {}\\n\\tActual: {}\\n\".format(header, act_headers[i]))\n",
    "                PASS = False\n",
    "\n",
    "    # Check test values\n",
    "    act_values = [\n",
    "        df.iloc[coordinates[0][0], coordinates[0][1]],\n",
    "        df.iloc[coordinates[1][0], coordinates[1][1]],\n",
    "        df.iloc[coordinates[2][0], coordinates[2][1]]]\n",
    "\n",
    "    for i, value in enumerate(values):\n",
    "        if act_values[i] != value:\n",
    "            print(\"Dataframe value did not match expected value.\\n\\tColumn: {}\\n\\tIndex: {}\\n\\tExpected: {}\\n\\tActual: {}\\n\".format(df.columns.values[coordinates[i][1]], df.index.values[coordinates[i][0]], value, act_values[i]))\n",
    "            PASS = False\n",
    "\n",
    "    # Return whether the dataframe passed the test\n",
    "    return PASS"
   ]
  },
  {
   "cell_type": "code",
   "execution_count": 18,
   "metadata": {},
   "outputs": [],
   "source": [
    "import cptac.algorithms as al # should I put this in the test? \n",
    "def test_get_frequently_mutated_en():\n",
    "    \"\"\"Test get_frequently_mutated.\"\"\"\n",
    "    en = cptac.Endometrial()\n",
    "    #import cptac.algorithms as al\n",
    "    \n",
    "    print('Running get_frequently_mutated...')\n",
    "\n",
    "    df = al.get_frequently_mutated(en)\n",
    "    name = \"frequently_mutated\"\n",
    "    dimensions = (232, 4)\n",
    "    headers = ['Gene', 'Unique_Samples_Mut', 'Missence_Mut', 'Truncation_Mut']\n",
    "    \n",
    "    # test gene names\n",
    "    test_coord_names = ((53, 0), (32, 0), (227, 0))\n",
    "    test_vals_names = ('CTCF', 'CCDC168', 'ZNF536')\n",
    "    \n",
    "    # test when when missence and trucation don't add up to equal the fraction mutated \n",
    "    #(miss and trunc in same sample)\n",
    "    test_coord_CTCF = ((53, 1), (53, 2), (53, 3)) \n",
    "    test_vals_CTCF = (27/95, 9/95, 23/95) \n",
    "    \n",
    "    # test when missence and trucation values are the same\n",
    "    test_coord_CCDC168 = ((32, 1),(32, 2),(32, 3))\n",
    "    test_vals_CCDC168 = (16/95, 11/95, 11/95)\n",
    "    \n",
    "    # test when there are no truncation type mutatations\n",
    "    test_coord_ZNF536 = ((227, 1),(227, 2),(227, 3))\n",
    "    test_vals_ZNF536 = (12/95, 12/95, 0/95)\n",
    "    \n",
    "    test_coord_TP53 = ((205, 1),(205, 2),(205, 3))\n",
    "    test_vals_TP53 = (21/95, 15/95, 7/95)\n",
    "\n",
    "    test_coord_vals = [(test_coord_CTCF, test_vals_CTCF), (test_coord_CCDC168, test_vals_CCDC168),\n",
    "                      (test_coord_ZNF536, test_vals_ZNF536), (test_coord_TP53, test_vals_TP53)]\n",
    "\n",
    "    for coord, val in test_coord_vals:\n",
    "        #print('coord', coord, 'val', val)\n",
    "        PASS = check_getter(df, dimensions, headers, coord, val)\n",
    "    \n",
    "    print_test_result(PASS)"
   ]
  },
  {
   "cell_type": "code",
   "execution_count": 19,
   "metadata": {},
   "outputs": [
    {
     "name": "stdout",
     "output_type": "stream",
     "text": [
      "Running get_frequently_mutated...   \n",
      "\tPASS\n"
     ]
    }
   ],
   "source": [
    "test_get_frequently_mutated_en()"
   ]
  },
  {
   "cell_type": "code",
   "execution_count": 20,
   "metadata": {},
   "outputs": [],
   "source": [
    "def test_get_frequently_mutated_co_cutoff_15():\n",
    "    \"\"\"Test get_frequently_mutated.\"\"\"\n",
    "    co = cptac.Colon()\n",
    "    print('Running get_frequently_mutated...')\n",
    "\n",
    "    df = al.get_frequently_mutated(co, 0.15)\n",
    "    name = \"frequently_mutated\"\n",
    "    dimensions = (138, 4)\n",
    "    headers = ['Gene', 'Unique_Samples_Mut', 'Missence_Mut', 'Truncation_Mut']\n",
    "    \n",
    "    # test when there are no missence type mutatations\n",
    "    test_coord_CASP5 = ((15, 1), (15, 2), (15, 3))\n",
    "    test_vals_CASP5 = (19/97, 0/97, 19/97) \n",
    "    \n",
    "    # test when there are no truncation type mutatations\n",
    "    test_coord_KRAS = ((66, 1),(66, 2),(66, 3))\n",
    "    test_vals_KRAS = (35/97, 35/97, 0/97)\n",
    "\n",
    "    test_coord_PIK3CA = ((92, 1),(92, 2),(92, 3))\n",
    "    test_vals_PIK3CA = (24/97, 23/97, 1/97)\n",
    "    \n",
    "    # test when missence and trucation don't add up to equal the fraction mutated (miss and trunc in same sample)\n",
    "    test_coord_RYR2 = ((102, 1),(102, 2),(102, 3))\n",
    "    test_vals_RYR2 = (21/97, 19/97, 7/97)\n",
    "\n",
    "    test_coord_vals = [(test_coord_CASP5, test_vals_CASP5), (test_coord_KRAS, test_vals_KRAS),\n",
    "                      (test_coord_PIK3CA, test_vals_PIK3CA), (test_coord_RYR2, test_vals_RYR2)]\n",
    "\n",
    "    for coord, val in test_coord_vals:\n",
    "        #print('coord', coord, 'val', val)\n",
    "        PASS = check_getter(df, dimensions, headers, coord, val)\n",
    "    \n",
    "    print_test_result(PASS)"
   ]
  },
  {
   "cell_type": "code",
   "execution_count": 21,
   "metadata": {},
   "outputs": [
    {
     "name": "stdout",
     "output_type": "stream",
     "text": [
      "Running get_frequently_mutated...   \n",
      "\tPASS\n"
     ]
    }
   ],
   "source": [
    "test_get_frequently_mutated_co_cutoff_15()"
   ]
  },
  {
   "cell_type": "code",
   "execution_count": 24,
   "metadata": {},
   "outputs": [],
   "source": [
    "def test_get_frequently_mutated_ov_default_cutoff():\n",
    "    \"\"\"Test get_frequently_mutated.\"\"\"\n",
    "    ov = cptac.Ovarian()\n",
    "    print('Running get_frequently_mutated...')\n",
    "\n",
    "    df = al.get_frequently_mutated(ov)\n",
    "    name = \"frequently_mutated\"\n",
    "    dimensions = (16, 4)\n",
    "    headers = ['Gene', 'Unique_Samples_Mut', 'Missence_Mut', 'Truncation_Mut']\n",
    "    \n",
    "    # test genes names\n",
    "    test_coord_names = ((15, 0), (13, 0), (2, 0))\n",
    "    test_vals_names = ('WDFY4', 'TP53', 'MT-CO1')\n",
    "    \n",
    "    #test when missence and trucation don't add up to equal the fraction mutated \n",
    "    #(miss and trunc in same sample)\n",
    "    test_coord_WDFY4 = ((15, 1), (15, 2), (15, 3)) \n",
    "    test_vals_WDFY4 = (10/83, 8/83, 3/83) \n",
    "    \n",
    "    # test highest count\n",
    "    test_coord_TP53 = ((13, 1),(13, 2),(13, 3))\n",
    "    test_vals_TP53 = (77/83, 50/83, 27/83)\n",
    "    \n",
    "    # test when there are no truncation mutations\n",
    "    test_coord_MTCO1 = ((2, 1),(2, 2),(2, 3))\n",
    "    test_vals_MTCO1 = (10/83, 10/83, 0/83)\n",
    "\n",
    "    test_coord_vals = [(test_coord_names, test_vals_names), (test_coord_WDFY4, test_vals_WDFY4),\n",
    "                      (test_coord_TP53, test_vals_TP53), (test_coord_MTCO1, test_vals_MTCO1)]\n",
    "\n",
    "    for coord, val in test_coord_vals:\n",
    "        #print('coord', coord, 'val', val)\n",
    "        PASS = check_getter(df, dimensions, headers, coord, val)\n",
    "    \n",
    "    print_test_result(PASS)"
   ]
  },
  {
   "cell_type": "code",
   "execution_count": 25,
   "metadata": {},
   "outputs": [
    {
     "name": "stdout",
     "output_type": "stream",
     "text": [
      "Running get_frequently_mutated...   \n",
      "\tPASS\n"
     ]
    }
   ],
   "source": [
    "test_get_frequently_mutated_ov_default_cutoff()"
   ]
  },
  {
   "cell_type": "code",
   "execution_count": 26,
   "metadata": {},
   "outputs": [],
   "source": [
    "import pandas as pd\n",
    "def test_get_frequently_mutated_renal():\n",
    "    \"\"\"Test get_frequently_mutated.\"\"\"\n",
    "    rc = cptac.RenalCcrcc()\n",
    "    print('Running get_frequently_mutated...')\n",
    "\n",
    "    df = al.get_frequently_mutated(rc)\n",
    "    name = \"frequently_mutated\"\n",
    "    dimensions = (6, 4)\n",
    "    headers = ['Gene', 'Unique_Samples_Mut', 'Missence_Mut', 'Truncation_Mut']\n",
    "    \n",
    "    # test genes names\n",
    "    test_coord_names = ((0, 0), (2, 0), (4, 0))\n",
    "    test_vals_names = ('BAP1', 'PBRM1', 'TTN')\n",
    "    \n",
    "    total_tumors = 110\n",
    "    \n",
    "    test_coord_BAP1 = ((0, 1), (0, 2), (0, 3)) \n",
    "    test_vals_BAP1 = (17/total_tumors, 7/total_tumors, 10/total_tumors) \n",
    "    \n",
    "    # test high count\n",
    "    test_coord_PBRM1 = ((2, 1),(2, 2),(2, 3))\n",
    "    test_vals_PBRM1 = (44/total_tumors, 8/total_tumors, 37/total_tumors)\n",
    "    \n",
    "    # check that silent mutations are not counted (TTN has many silent mutations)\n",
    "    test_coord_TTN = ((4, 1),(4, 2),(4, 3))\n",
    "    test_vals_TTN = (13/total_tumors, 10/total_tumors, 4/total_tumors)\n",
    "\n",
    "    test_coord_vals = [(test_coord_names, test_vals_names), (test_coord_BAP1, test_vals_BAP1),\n",
    "                      (test_coord_PBRM1, test_vals_PBRM1), (test_coord_TTN, test_vals_TTN)]\n",
    "\n",
    "    for coord, val in test_coord_vals:\n",
    "        #print('coord', coord, 'val', val)\n",
    "        PASS = check_getter(df, dimensions, headers, coord, val)\n",
    "    \n",
    "    print_test_result(PASS)"
   ]
  },
  {
   "cell_type": "code",
   "execution_count": 27,
   "metadata": {},
   "outputs": [
    {
     "name": "stdout",
     "output_type": "stream",
     "text": [
      "Running get_frequently_mutated...   \n",
      "\tPASS\n"
     ]
    }
   ],
   "source": [
    "test_get_frequently_mutated_renal()"
   ]
  },
  {
   "cell_type": "code",
   "execution_count": 28,
   "metadata": {},
   "outputs": [
    {
     "name": "stdout",
     "output_type": "stream",
     "text": [
      "\n",
      "Testing get_frequently_mutated from the algorithms...\n",
      "Running get_frequently_mutated...   \n",
      "\tPASS\n",
      "Running get_frequently_mutated...   \n",
      "\tPASS\n",
      "Running get_frequently_mutated...   \n",
      "\tPASS\n",
      "Running get_frequently_mutated...   \n",
      "\tPASS\n"
     ]
    }
   ],
   "source": [
    "print(\"\\nTesting get_frequently_mutated from the algorithms...\")\n",
    "import cptac.algorithms as al #import algorithms here? \n",
    "test_get_frequently_mutated_en()\n",
    "test_get_frequently_mutated_co_cutoff_15()\n",
    "test_get_frequently_mutated_ov_default_cutoff()\n",
    "test_get_frequently_mutated_renal()"
   ]
  },
  {
   "cell_type": "code",
   "execution_count": null,
   "metadata": {},
   "outputs": [],
   "source": []
  }
 ],
 "metadata": {
  "kernelspec": {
   "display_name": "Python 3",
   "language": "python",
   "name": "python3"
  },
  "language_info": {
   "codemirror_mode": {
    "name": "ipython",
    "version": 3
   },
   "file_extension": ".py",
   "mimetype": "text/x-python",
   "name": "python",
   "nbconvert_exporter": "python",
   "pygments_lexer": "ipython3",
   "version": "3.7.3"
  }
 },
 "nbformat": 4,
 "nbformat_minor": 2
}
