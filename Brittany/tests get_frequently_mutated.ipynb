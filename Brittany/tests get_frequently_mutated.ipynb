{
 "cells": [
  {
   "cell_type": "markdown",
   "metadata": {},
   "source": [
    "# Test get_frequently_mutated"
   ]
  },
  {
   "cell_type": "code",
   "execution_count": 1,
   "metadata": {},
   "outputs": [],
   "source": [
    "import pandas as pd\n",
    "import cptac\n",
    "import cptac.utils as ut"
   ]
  },
  {
   "cell_type": "code",
   "execution_count": 2,
   "metadata": {},
   "outputs": [],
   "source": [
    "def print_test_result(PASS):\n",
    "    \"\"\"Prints the result of a test, based on a bool.\n",
    "    Parameters:\n",
    "    PASS (bool): Whether or not the test passed.\n",
    "    \"\"\"\n",
    "    if PASS:\n",
    "        print('\\tPASS')\n",
    "    else:\n",
    "        print('\\tFAIL\\n')\n",
    "\n",
    "def check_returned_is_df(returned):\n",
    "    \"\"\"Checks that an object is a dataframe. Prints a specific message if it's actually None, or a general message if it's something else.\n",
    "    Parameters:\n",
    "    returned: The object to test\n",
    "    Returns:\n",
    "    bool: Indicates whether the object was a dataframe.\n",
    "    \"\"\"\n",
    "    if returned is None:\n",
    "        print(\"Function under test returned None.\")\n",
    "        return False\n",
    "    \n",
    "    if not isinstance(returned, pd.core.frame.DataFrame):\n",
    "        print(\"Returned object was not a dataframe. Type of object: {}\".format(type(returned)))\n",
    "        return False\n",
    "    return True\n",
    "\n",
    "def check_df_shape(df, exp_shape):\n",
    "    \"\"\"Checks that a dataframe has the proper shape.\n",
    "    Parameters:\n",
    "    df (pandas.core.frame.DataFrame): The dataframe to test.\n",
    "    exp_shape (tuple): A tuple with two elements. First element is expected number of rows, second is expected number of columns.\n",
    "    Returns:\n",
    "    bool: Indicates whether the dataframe had the proper shape.\n",
    "    \"\"\"\n",
    "    act_shape = df.shape\n",
    "    if exp_shape != act_shape:\n",
    "        print(\"Dataframe dimensions did not match expected values.\\n\\tExpected: {}\\n\\tActual: {}\\n\".format(exp_shape, act_shape))\n",
    "        return False\n",
    "    return True"
   ]
  },
  {
   "cell_type": "code",
   "execution_count": 3,
   "metadata": {},
   "outputs": [],
   "source": [
    "def check_getter(df, exp_dim, exp_headers, coordinates, values): \n",
    "    \"\"\"Test a dataframe's dimensions and headers, and three test values, then print whether it passed the test.\n",
    "    Parameters\n",
    "    df: the dataframe gotten by the getter we are testing\n",
    "    exp_dim: a tuple containing the expected dimensions of the dataframe, in the format (rows, columns)\n",
    "    exp_headers: if the dataframe has up to 20 columns, all of the headers for the dataframe, in order. If it has more than 20 columns, then a list containing the first ten and last ten headers, in order.\n",
    "    coordinates: a tuple with three elements, each element being a tuple with two elements, the first element being the int index of the row of a test value, and the second element being the int index of the column of a test value\n",
    "    values: a tuple with three elements, each element being the expected value of the test value corresponding to the coordinates at the same index in the coordinates parameter \n",
    "    Returns\n",
    "    bool indicating if the dataframe had the correct data.\n",
    "    \"\"\"\n",
    "    PASS = True\n",
    "\n",
    "    # Check that df is a dataframe, not None or something else.\n",
    "    if not check_returned_is_df(df):\n",
    "        return False # End test, because other tests will be useless.\n",
    "\n",
    "    # Check dimensions\n",
    "    if not check_df_shape(df, exp_dim):\n",
    "        PASS = False\n",
    "\n",
    "    # Check headers\n",
    "    act_headers_all = list(df.columns.values)\n",
    "    if len(df.columns.values) <= 20:\n",
    "        act_headers = act_headers_all\n",
    "    else:\n",
    "        act_headers = act_headers_all[:10] + act_headers_all[-10:]\n",
    "\n",
    "    if len(exp_headers) != len(act_headers):\n",
    "        print(\"Unexpected number of test headers in dataframe. Expected number of headers: {}. You passed {} headers.\\n\".format(len(act_headers), len(exp_headers)))\n",
    "        PASS = False\n",
    "    else:\n",
    "        for i, header in enumerate(exp_headers):\n",
    "            if header != act_headers[i]:\n",
    "                print(\"Dataframe header did not match expected value.\\n\\tExpected: {}\\n\\tActual: {}\\n\".format(header, act_headers[i]))\n",
    "                PASS = False\n",
    "\n",
    "    # Check test values\n",
    "    act_values = [\n",
    "        df.iloc[coordinates[0][0], coordinates[0][1]],\n",
    "        df.iloc[coordinates[1][0], coordinates[1][1]],\n",
    "        df.iloc[coordinates[2][0], coordinates[2][1]]]\n",
    "\n",
    "    for i, value in enumerate(values):\n",
    "        if act_values[i] != value:\n",
    "            print(\"Dataframe value did not match expected value.\\n\\tColumn: {}\\n\\tIndex: {}\\n\\tExpected: {}\\n\\tActual: {}\\n\".format(df.columns.values[coordinates[i][1]], df.index.values[coordinates[i][0]], value, act_values[i]))\n",
    "            PASS = False\n",
    "\n",
    "    # Return whether the dataframe passed the test\n",
    "    return PASS"
   ]
  },
  {
   "cell_type": "code",
   "execution_count": 144,
   "metadata": {},
   "outputs": [],
   "source": [
    "def get_frequently_mutated(cancer_object, cutoff = 0.1):  \n",
    "    # Get total tumors/patients\n",
    "    omics_and_mutations = cancer_object.join_omics_to_mutations(\n",
    "        mutations_genes = 'TP53', omics_df_name = 'proteomics', omics_genes = 'TP53')\n",
    "    tumors = omics_and_mutations.Sample_Status\n",
    "\n",
    "    if isinstance(tumors, pd.DataFrame): # This would happen if our proteomics dataframe has a column multiindex, which leads to a joined df with a column multiindex, and causes our selection to be a dataframe instead of a series.\n",
    "        tumors = tumors.iloc[:, 0]\n",
    "        tumors.name = \"Sample_Status\"\n",
    "\n",
    "    v = tumors.value_counts()\n",
    "    total_tumors = v['Tumor']\n",
    "    total_tumor_count = float(total_tumors)\n",
    "    print(total_tumor_count)\n",
    "    \n",
    "    # Get mutations data frame\n",
    "    somatic_mutations = cancer_object.get_somatic_mutation() \n",
    "\n",
    "    # Drop silent mutations for Hnscc, Ovarian, and Ccrcc dataset, and synonymous SNV (i.e. silent) mutations in HNSCC\n",
    "    if 'Silent' in somatic_mutations['Mutation'].unique():\n",
    "        origin_df = somatic_mutations.loc[somatic_mutations['Mutation'] != 'Silent'].reset_index()\n",
    "    elif 'synonymous SNV' in somatic_mutations['Mutation'].unique():\n",
    "        origin_df = somatic_mutations.loc[somatic_mutations['Mutation'] != 'synonymous SNV'].reset_index()\n",
    "    else:\n",
    "        origin_df = somatic_mutations.reset_index() #prepare to count unique samples\n",
    "        \n",
    "    # Create two categories in Mutation column - 'M': Missense, 'T': Truncation\n",
    "    if cancer_object.get_cancer_type() in ('hnscc') and cancer_object.version() == '0.1':\n",
    "        dif_mut_names = True\n",
    "    elif cancer_object.get_cancer_type() in ('colon'):\n",
    "        dif_mut_names = True\n",
    "    else: \n",
    "        dif_mut_names = False\n",
    "        \n",
    "    if dif_mut_names == True:\n",
    "        missense_truncation_groups = {'frameshift substitution': 'T', \n",
    "            'frameshift deletion': 'T', 'frameshift insertion': 'T', \n",
    "            'stopgain': 'T', 'stoploss': 'T', 'nonsynonymous SNV': 'M',\n",
    "            'nonframeshift insertion': 'M','nonframeshift deletion': 'M', \n",
    "            'nonframeshift substitution': 'M'}\n",
    "    else: \n",
    "        missense_truncation_groups = {'In_Frame_Del': 'M', 'In_Frame_Ins': 'M',\n",
    "            'Missense_Mutation': 'M', 'Frame_Shift_Del': 'T','Nonsense_Mutation': 'T', \n",
    "            'Splice_Site': 'T', 'Frame_Shift_Ins': 'T','Nonstop_Mutation':'T'}\n",
    "    \n",
    "    mutations_replaced_M_T = origin_df.replace(missense_truncation_groups)\n",
    "    unique_mutations = len(mutations_replaced_M_T['Mutation'].unique())\n",
    "    \n",
    "    # replace non_coding mutations for Gbm\n",
    "    gbm = False\n",
    "    if cancer_object.get_cancer_type() == 'gbm':\n",
    "        gbm = True\n",
    "        non_coding = {'Intron': 'NC', 'RNA': 'NC', \"5'Flank\": 'NC', \"3'Flank\": 'NC', \n",
    "            \"5'UTR\": 'NC', \"3'UTR\": 'NC', 'Splice_Region' : 'NC'}\n",
    "        mutations_replaced_M_T = mutations_replaced_M_T.replace(non_coding)\n",
    "        unique_mutations_2 = len(mutations_replaced_M_T['Mutation'].unique())\n",
    "        \n",
    "    elif unique_mutations != 2: # Check that all mutation names are catagorized\n",
    "        print('Warning: New mutation name not classified. Counts will be affected.')\n",
    "    \n",
    "    # Find frequently mutated genes (total fraction > cutoff)\n",
    "    # Same steps will be repeated for finding the missense and truncation mutation frequencies\n",
    "    # Step 1 - group by gene and count unique samples\n",
    "    # Step 2 - format\n",
    "    # Step 3 - filter using the cutoff and create fraction \n",
    "    count_mutations = origin_df.groupby(['Gene']).nunique()\n",
    "    count_mutations = count_mutations.rename(columns={\"Patient_ID\": \"Unique_Samples_Mut\"}) # Step 2 \n",
    "    count_mutations = count_mutations.drop(['Gene', 'Mutation', 'Location'], axis = 1)\n",
    "    fraction_mutated = count_mutations.apply(lambda x: x / total_tumor_count) # Step 3 \n",
    "    fraction_greater_than_cutoff = fraction_mutated.where(lambda x: x > cutoff) #na used when not > cutoff\n",
    "    filtered_gene_df = fraction_greater_than_cutoff.dropna() # drop genes below cutoff\n",
    "    \n",
    "    # Create and join Missense column (following similar steps as seen above) *Counts missense once in sample\n",
    "    miss = mutations_replaced_M_T.loc[mutations_replaced_M_T['Mutation'] == 'M']\n",
    "    count_miss = miss.groupby(['Gene']).nunique()\n",
    "    missense_df = count_miss.rename(columns={\"Patient_ID\": \"Missense_Mut\"})\n",
    "    missense_df = missense_df.drop(['Gene', 'Mutation', 'Location'], axis = 1)\n",
    "    fraction_missense = missense_df.apply(lambda x: x / total_tumor_count)\n",
    "    freq_mutated_df = filtered_gene_df.join(fraction_missense, how='left').fillna(0)\n",
    "    \n",
    "    # Create and join Truncation column (following similar steps as seen above)\n",
    "    trunc = mutations_replaced_M_T.loc[mutations_replaced_M_T['Mutation'] == 'T']\n",
    "    count_trunc = trunc.groupby(['Gene']).nunique()\n",
    "    truncation_df = count_trunc.rename(columns={\"Patient_ID\": \"Truncation_Mut\"})\n",
    "    truncation_df = truncation_df.drop(['Gene', 'Mutation', 'Location'], axis = 1)\n",
    "    fraction_truncation = truncation_df.apply(lambda x: x / total_tumor_count)\n",
    "    freq_mutated_df = freq_mutated_df.join(fraction_truncation, how='left').fillna(0)\n",
    "    \n",
    "    if gbm == True:\n",
    "        # Create and join non-coding column (following similar steps as seen above)\n",
    "        nc = mutations_replaced_M_T.loc[mutations_replaced_M_T['Mutation'] == 'NC']\n",
    "        count_nc = nc.groupby(['Gene']).nunique()\n",
    "        nc_df = count_nc.rename(columns={\"Patient_ID\": \"Non-Coding\"})\n",
    "        nc_df = nc_df.drop(['Gene', 'Mutation', 'Location'], axis = 1)\n",
    "        fraction_nc = nc_df.apply(lambda x: x / total_tumor_count)\n",
    "        freq_mutated_df = freq_mutated_df.join(fraction_nc, how='left').fillna(0)\n",
    "        \n",
    "    freq_mutated_df = freq_mutated_df.reset_index() #move genes to their own column\n",
    "    \n",
    "    return freq_mutated_df\n",
    "\n"
   ]
  },
  {
   "cell_type": "code",
   "execution_count": 194,
   "metadata": {},
   "outputs": [
    {
     "name": "stdout",
     "output_type": "stream",
     "text": [
      "                                          \r"
     ]
    }
   ],
   "source": [
    "g = cptac.Colon()"
   ]
  },
  {
   "cell_type": "code",
   "execution_count": 203,
   "metadata": {},
   "outputs": [
    {
     "data": {
      "text/plain": [
       "97"
      ]
     },
     "execution_count": 203,
     "metadata": {},
     "output_type": "execute_result"
    }
   ],
   "source": [
    "len(g.get_proteomics(tissue_type='tumor'))\n"
   ]
  },
  {
   "cell_type": "code",
   "execution_count": 207,
   "metadata": {
    "scrolled": true
   },
   "outputs": [
    {
     "name": "stderr",
     "output_type": "stream",
     "text": [
      "cptac warning: In joining the somatic_mutation table, no mutations were found for the following samples, so they were filled with Wildtype_Tumor or Wildtype_Normal: 151 samples for the TP53 gene (C:\\Users\\brittany henderson\\Anaconda3\\envs\\Research\\lib\\site-packages\\ipykernel_launcher.py, line 4)\n",
      "cptac warning: proteomics data was not found for the following samples, so proteomics data columns were filled with NaN for these samples: 01CO001, 05CO005, 05CO007, 05CO014, 05CO055, 11CO059, 11CO060, 14CO002, 16CO012, 24CO005 (C:\\Users\\brittany henderson\\Anaconda3\\envs\\Research\\lib\\site-packages\\ipykernel_launcher.py, line 4)\n"
     ]
    },
    {
     "name": "stdout",
     "output_type": "stream",
     "text": [
      "107.0\n"
     ]
    }
   ],
   "source": [
    "d= get_frequently_mutated(g)"
   ]
  },
  {
   "cell_type": "code",
   "execution_count": 208,
   "metadata": {},
   "outputs": [
    {
     "data": {
      "text/html": [
       "<div>\n",
       "<style scoped>\n",
       "    .dataframe tbody tr th:only-of-type {\n",
       "        vertical-align: middle;\n",
       "    }\n",
       "\n",
       "    .dataframe tbody tr th {\n",
       "        vertical-align: top;\n",
       "    }\n",
       "\n",
       "    .dataframe thead th {\n",
       "        text-align: right;\n",
       "    }\n",
       "</style>\n",
       "<table border=\"1\" class=\"dataframe\">\n",
       "  <thead>\n",
       "    <tr style=\"text-align: right;\">\n",
       "      <th>Name</th>\n",
       "      <th>Gene</th>\n",
       "      <th>Unique_Samples_Mut</th>\n",
       "      <th>Missense_Mut</th>\n",
       "      <th>Truncation_Mut</th>\n",
       "    </tr>\n",
       "  </thead>\n",
       "  <tbody>\n",
       "    <tr>\n",
       "      <th>0</th>\n",
       "      <td>ABCA13</td>\n",
       "      <td>0.177570</td>\n",
       "      <td>0.149533</td>\n",
       "      <td>0.093458</td>\n",
       "    </tr>\n",
       "    <tr>\n",
       "      <th>1</th>\n",
       "      <td>ABCA2</td>\n",
       "      <td>0.158879</td>\n",
       "      <td>0.149533</td>\n",
       "      <td>0.028037</td>\n",
       "    </tr>\n",
       "    <tr>\n",
       "      <th>2</th>\n",
       "      <td>ABCA4</td>\n",
       "      <td>0.130841</td>\n",
       "      <td>0.074766</td>\n",
       "      <td>0.056075</td>\n",
       "    </tr>\n",
       "    <tr>\n",
       "      <th>3</th>\n",
       "      <td>ABCB4</td>\n",
       "      <td>0.121495</td>\n",
       "      <td>0.056075</td>\n",
       "      <td>0.065421</td>\n",
       "    </tr>\n",
       "    <tr>\n",
       "      <th>4</th>\n",
       "      <td>ABCC5</td>\n",
       "      <td>0.102804</td>\n",
       "      <td>0.046729</td>\n",
       "      <td>0.084112</td>\n",
       "    </tr>\n",
       "    <tr>\n",
       "      <th>...</th>\n",
       "      <td>...</td>\n",
       "      <td>...</td>\n",
       "      <td>...</td>\n",
       "      <td>...</td>\n",
       "    </tr>\n",
       "    <tr>\n",
       "      <th>443</th>\n",
       "      <td>ZNF462</td>\n",
       "      <td>0.121495</td>\n",
       "      <td>0.112150</td>\n",
       "      <td>0.018692</td>\n",
       "    </tr>\n",
       "    <tr>\n",
       "      <th>444</th>\n",
       "      <td>ZNF469</td>\n",
       "      <td>0.233645</td>\n",
       "      <td>0.168224</td>\n",
       "      <td>0.093458</td>\n",
       "    </tr>\n",
       "    <tr>\n",
       "      <th>445</th>\n",
       "      <td>ZNF536</td>\n",
       "      <td>0.121495</td>\n",
       "      <td>0.112150</td>\n",
       "      <td>0.018692</td>\n",
       "    </tr>\n",
       "    <tr>\n",
       "      <th>446</th>\n",
       "      <td>ZNF540</td>\n",
       "      <td>0.102804</td>\n",
       "      <td>0.037383</td>\n",
       "      <td>0.065421</td>\n",
       "    </tr>\n",
       "    <tr>\n",
       "      <th>447</th>\n",
       "      <td>ZNF831</td>\n",
       "      <td>0.130841</td>\n",
       "      <td>0.093458</td>\n",
       "      <td>0.046729</td>\n",
       "    </tr>\n",
       "  </tbody>\n",
       "</table>\n",
       "<p>448 rows × 4 columns</p>\n",
       "</div>"
      ],
      "text/plain": [
       "Name    Gene  Unique_Samples_Mut  Missense_Mut  Truncation_Mut\n",
       "0     ABCA13            0.177570      0.149533        0.093458\n",
       "1      ABCA2            0.158879      0.149533        0.028037\n",
       "2      ABCA4            0.130841      0.074766        0.056075\n",
       "3      ABCB4            0.121495      0.056075        0.065421\n",
       "4      ABCC5            0.102804      0.046729        0.084112\n",
       "..       ...                 ...           ...             ...\n",
       "443   ZNF462            0.121495      0.112150        0.018692\n",
       "444   ZNF469            0.233645      0.168224        0.093458\n",
       "445   ZNF536            0.121495      0.112150        0.018692\n",
       "446   ZNF540            0.102804      0.037383        0.065421\n",
       "447   ZNF831            0.130841      0.093458        0.046729\n",
       "\n",
       "[448 rows x 4 columns]"
      ]
     },
     "execution_count": 208,
     "metadata": {},
     "output_type": "execute_result"
    }
   ],
   "source": [
    "d"
   ]
  },
  {
   "cell_type": "code",
   "execution_count": 231,
   "metadata": {},
   "outputs": [
    {
     "data": {
      "text/html": [
       "<div>\n",
       "<style scoped>\n",
       "    .dataframe tbody tr th:only-of-type {\n",
       "        vertical-align: middle;\n",
       "    }\n",
       "\n",
       "    .dataframe tbody tr th {\n",
       "        vertical-align: top;\n",
       "    }\n",
       "\n",
       "    .dataframe thead th {\n",
       "        text-align: right;\n",
       "    }\n",
       "</style>\n",
       "<table border=\"1\" class=\"dataframe\">\n",
       "  <thead>\n",
       "    <tr style=\"text-align: right;\">\n",
       "      <th>Name</th>\n",
       "      <th>Gene</th>\n",
       "      <th>Unique_Samples_Mut</th>\n",
       "      <th>Missense_Mut</th>\n",
       "      <th>Truncation_Mut</th>\n",
       "    </tr>\n",
       "  </thead>\n",
       "  <tbody>\n",
       "    <tr>\n",
       "      <th>403</th>\n",
       "      <td>TP53</td>\n",
       "      <td>0.523364</td>\n",
       "      <td>0.35514</td>\n",
       "      <td>0.196262</td>\n",
       "    </tr>\n",
       "  </tbody>\n",
       "</table>\n",
       "</div>"
      ],
      "text/plain": [
       "Name  Gene  Unique_Samples_Mut  Missense_Mut  Truncation_Mut\n",
       "403   TP53            0.523364       0.35514        0.196262"
      ]
     },
     "execution_count": 231,
     "metadata": {},
     "output_type": "execute_result"
    }
   ],
   "source": [
    "gene = 'TP53'\n",
    "d.loc[d['Gene'] == gene]"
   ]
  },
  {
   "cell_type": "code",
   "execution_count": 230,
   "metadata": {},
   "outputs": [
    {
     "data": {
      "text/plain": [
       "10"
      ]
     },
     "execution_count": 230,
     "metadata": {},
     "output_type": "execute_result"
    }
   ],
   "source": [
    "m = g.get_somatic_mutation()\n",
    "t = m.loc[m['Gene']== gene]\n",
    "t = t.loc[t['Mutation'] != 'Silent']\n",
    "t.index.value_counts()\n",
    "#t.Mutation.value_counts()\n",
    "\n",
    "trunc = ['stopgain','frameshift deletion', 'frameshift insertion', 'frameshift substitution']\n",
    "s = t['Mutation'].isin(trunc)\n",
    "tr = t[s]\n",
    "mis = t[-s]\n",
    "i = t.index.value_counts()\n",
    "t.index.value_counts()\n",
    "len(t)\n",
    "t.Mutation.value_counts()\n",
    "len(t.index.value_counts())"
   ]
  },
  {
   "cell_type": "code",
   "execution_count": 204,
   "metadata": {},
   "outputs": [],
   "source": [
    "# update 5/18/20 total_tumors increased (97 to 107) - 10 samples added to cptac\n",
    "\n",
    "def test_get_frequently_mutated_co_default_cutoff():\n",
    "    co = cptac.Colon()\n",
    "    print('Running get_frequently_mutated...')\n",
    "    df = ut.get_frequently_mutated(co)\n",
    "    \n",
    "    dimensions = (448, 4)\n",
    "    headers = ['Gene', 'Unique_Samples_Mut', 'Missense_Mut', 'Truncation_Mut']\n",
    "    # test gene names\n",
    "    test_coord_names = ((68, 0), (212, 0), (499, 0))\n",
    "    test_vals_names = ('CASP5', 'KRAS', 'SPINK5')\n",
    "    \n",
    "    total_tumors = float(107)\n",
    "    # test when there are no missense type mutatations\n",
    "    test_coord_CASP5 = ((68, 1), (68, 2), (68, 3))\n",
    "    test_vals_CASP5 = (19/total_tumors, 0/total_tumors, 19/total_tumors) \n",
    "    # test when there are no truncation type mutatations\n",
    "    test_coord_KRAS = ((212, 1),(212, 2),(212, 3))\n",
    "    test_vals_KRAS = (35/total_tumors, 35/total_tumors, 0/total_tumors)\n",
    "    # test when missense and trucation don't add up to equal the fraction mutated\n",
    "    #(miss and trunc in same sample)\n",
    "    test_coord_ANK2 = ((23, 1),(23, 2),(23, 3)) \n",
    "    test_vals_ANK2 = (15/total_tumors, 13/total_tumors, 4/total_tumors) \n",
    "    \n",
    "\n",
    "    # test when miss and trunc count are the same\n",
    "    test_coord_ATM = ((56, 1),(56, 2),(56, 3)) \n",
    "    test_vals_ATM = (10/total_tumors, 7/total_tumors, 7/total_tumors) \n",
    "    # test close to the cutoff\n",
    "    test_coord_SPINK5 = ((499, 1),(499, 2),(499,3))\n",
    "    test_vals_SPINK5 = (10/total_tumors, 5/total_tumors, 7/total_tumors)\n",
    "    \n",
    "    \n",
    "    # common test\n",
    "    test_coord_TP53 = ((403, 1),(403, 2),(403, 3))\n",
    "    test_vals_TP53 = (56/total_tumors, 38/total_tumors, 21/total_tumors)\n",
    "\n",
    "    test_coord_vals = [(test_coord_names, test_vals_names), (test_coord_CASP5, test_vals_CASP5),\n",
    "                        (test_coord_KRAS, test_vals_KRAS), (test_coord_ANK2, test_vals_ANK2),\n",
    "                        (test_coord_ATM, test_vals_ATM), (test_coord_SPINK5, test_vals_SPINK5), \n",
    "                        (test_coord_TP53, test_vals_TP53)]\n",
    "\n",
    "    for coord, vals in test_coord_vals:\n",
    "        PASS = check_getter(df, dimensions, headers, coord, vals)\n",
    "    \n",
    "    print_test_result(PASS)"
   ]
  },
  {
   "cell_type": "code",
   "execution_count": null,
   "metadata": {},
   "outputs": [],
   "source": [
    "test_get_frequently_mutated_co_default_cutoff()"
   ]
  },
  {
   "cell_type": "markdown",
   "metadata": {},
   "source": [
    "# Luad"
   ]
  },
  {
   "cell_type": "code",
   "execution_count": 192,
   "metadata": {},
   "outputs": [],
   "source": [
    "def test_get_frequently_mutated_luad_default_cutoff():\n",
    "    l = cptac.Luad()\n",
    "    print('Running get_frequently_mutated...')\n",
    "    df = ut.get_frequently_mutated(l)\n",
    "    \n",
    "    name = \"frequently_mutated\"\n",
    "    dimensions = (106, 4)\n",
    "    headers = ['Gene', 'Unique_Samples_Mut', 'Missense_Mut', 'Truncation_Mut']\n",
    "    # test gene names\n",
    "    test_coord_names = ((15, 0), (40, 0), (104, 0))\n",
    "    test_vals_names = ('CFAP47', 'GRM5', 'ZNF536')\n",
    "    \n",
    "    total_tumors = float(110)\n",
    "    # test missense and trucation don't equal the unique_sample_mutated \n",
    "    #(miss and trunc in same sample), also test high missense\n",
    "    test_coord_TTN = ((96, 1), (96, 2), (96, 3)) \n",
    "    test_vals_TTN = (35/total_tumors, 31/total_tumors, 9/total_tumors) \n",
    "    # test low missense, test top third index position\n",
    "    test_coord_CFAP47 = ((15, 1),(15, 2),(15, 3))\n",
    "    test_vals_CFAP47 = (12/total_tumors, 10/total_tumors, 2/total_tumors)\n",
    "    # test no truncation mutatations\n",
    "    test_coord_ZNF536 = ((104, 1),(104, 2),(104, 3))\n",
    "    test_vals_ZNF536 = (13/total_tumors, 13/total_tumors, 0/total_tumors)\n",
    "    # test close to cutoff\n",
    "    test_coord_GRM5 = ((40, 1),(40, 2),(40, 3))\n",
    "    test_vals_GRM5 = (12/total_tumors, 9/total_tumors, 3/total_tumors)\n",
    "    # common test\n",
    "    test_coord_TP53 = ((94, 1),(94, 2),(94, 3))\n",
    "    test_vals_TP53 = (59/total_tumors, 44/total_tumors, 16/total_tumors)\n",
    "\n",
    "    test_coord_vals = [(test_coord_names, test_vals_names), (test_coord_TTN, test_vals_TTN), \n",
    "                       (test_coord_CFAP47, test_vals_CFAP47), (test_coord_ZNF536, test_vals_ZNF536),\n",
    "                       (test_coord_GRM5, test_vals_GRM5), (test_coord_TP53, test_vals_TP53)]\n",
    "\n",
    "    for coord, vals in test_coord_vals:\n",
    "        PASS = check_getter(df, dimensions, headers, coord, vals)\n",
    "    \n",
    "    print_test_result(PASS)"
   ]
  },
  {
   "cell_type": "code",
   "execution_count": 193,
   "metadata": {},
   "outputs": [
    {
     "name": "stdout",
     "output_type": "stream",
     "text": [
      "Running get_frequently_mutated...        \n"
     ]
    },
    {
     "name": "stderr",
     "output_type": "stream",
     "text": [
      "cptac warning: The LUAD dataset is under publication embargo until July 01, 2020. CPTAC is a community resource project and data are made available rapidly after generation for community research use. The embargo allows exploring and utilizing the data, but analysis may not be published until after the embargo date. Please see https://proteomics.cancer.gov/data-portal/about/data-use-agreement or enter cptac.embargo() to open the webpage for more details. (C:\\Users\\brittany henderson\\Anaconda3\\envs\\Research\\lib\\site-packages\\ipykernel_launcher.py, line 2)\n",
      "cptac warning: In joining the somatic_mutation table, no mutations were found for the following samples, so they were filled with Wildtype_Tumor or Wildtype_Normal: 152 samples for the TP53 gene (C:\\Users\\brittany henderson\\Anaconda3\\envs\\Research\\lib\\site-packages\\cptac\\utils\\__init__.py, line 371)\n"
     ]
    },
    {
     "name": "stdout",
     "output_type": "stream",
     "text": [
      "\tPASS\n"
     ]
    }
   ],
   "source": [
    "test_get_frequently_mutated_luad_default_cutoff()"
   ]
  },
  {
   "cell_type": "markdown",
   "metadata": {},
   "source": [
    "# Hnscc version = 0.1"
   ]
  },
  {
   "cell_type": "code",
   "execution_count": 137,
   "metadata": {},
   "outputs": [],
   "source": [
    "def test_get_frequently_mutated_hnscc_first_version():\n",
    "    h = cptac.Hnscc(version = '0.1')\n",
    "    # NOTE: many synonomous snv mutations = silent and not counted (0 common for missense)\n",
    "    print('Running get_frequently_mutated...')\n",
    "    df = ut.get_frequently_mutated(h, 0.01)\n",
    "    \n",
    "    name = \"frequently_mutated\"\n",
    "    dimensions = (78, 4)\n",
    "    headers = ['Gene', 'Unique_Samples_Mut', 'Missense_Mut', 'Truncation_Mut']\n",
    "    # test gene names\n",
    "    test_coord_names = ((0, 0), (47, 0), (77, 0))\n",
    "    test_vals_names = ('ABCA13', 'NOTCH3', 'ZNF749')\n",
    "    \n",
    "    total_tumors = float(110) # 110 tumor samples for v0.1\n",
    "    # test position 0\n",
    "    test_coord_ABCA13 = ((0, 1), (0, 2), (0, 3)) \n",
    "    test_vals_ABCA13 = (2/total_tumors, 0/total_tumors, 2/total_tumors)\n",
    "    # test has a missense value\n",
    "    test_coord_NOTCH3 = ((47, 1),(47, 2),(47, 3))\n",
    "    test_vals_NOTCH3 = (2/total_tumors, 1/total_tumors, 1/total_tumors)\n",
    "    # test close to cutoff\n",
    "    test_coord_NOTCH1 = ((46, 1),(46, 2),(46, 3))\n",
    "    test_vals_NOTCH1 = (7/total_tumors, 0/total_tumors, 7/total_tumors)\n",
    "    # common test\n",
    "    test_coord_TP53 = ((67, 1),(67, 2),(67, 3))\n",
    "    test_vals_TP53 = (21/total_tumors, 0/total_tumors, 21/total_tumors)\n",
    "    # test last position\n",
    "    test_coord_ZNF749 = ((77, 1),(77, 2),(77, 3))\n",
    "    test_vals_ZNF749 = (2/total_tumors, 0/total_tumors, 2/total_tumors)\n",
    "\n",
    "    test_coord_vals = [(test_coord_names, test_vals_names), (test_coord_ABCA13, test_vals_ABCA13), \n",
    "                       (test_coord_NOTCH3, test_vals_NOTCH3), (test_coord_ZNF749, test_vals_ZNF749),\n",
    "                       (test_coord_NOTCH1, test_vals_NOTCH1), (test_coord_TP53, test_vals_TP53)]\n",
    "\n",
    "    for coord, vals in test_coord_vals:\n",
    "        PASS = check_getter(df, dimensions, headers, coord, vals)\n",
    "    \n",
    "    print_test_result(PASS)"
   ]
  },
  {
   "cell_type": "code",
   "execution_count": 138,
   "metadata": {},
   "outputs": [
    {
     "name": "stdout",
     "output_type": "stream",
     "text": [
      "Loading hnscc v0.1..                      \r"
     ]
    },
    {
     "name": "stderr",
     "output_type": "stream",
     "text": [
      "cptac warning: Old hnscc data version. Latest is 2.0. This is 0.1. (C:\\Users\\brittany henderson\\Anaconda3\\envs\\Research\\lib\\site-packages\\ipykernel_launcher.py, line 2)\n"
     ]
    },
    {
     "name": "stdout",
     "output_type": "stream",
     "text": [
      "Running get_frequently_mutated...\n",
      "\tPASS\n"
     ]
    },
    {
     "name": "stderr",
     "output_type": "stream",
     "text": [
      "cptac warning: The HNSCC data is currently strictly reserved for CPTAC investigators. Otherwise, you are not authorized to access these data. Additionally, even after these data become publicly available, they will be subject to a publication embargo (see https://proteomics.cancer.gov/data-portal/about/data-use-agreement or enter cptac.embargo() to open the webpage for more details). (C:\\Users\\brittany henderson\\Anaconda3\\envs\\Research\\lib\\site-packages\\ipykernel_launcher.py, line 2)\n",
      "cptac warning: In joining the somatic_mutation table, no mutations were found for the following samples, so they were filled with Wildtype_Tumor or Wildtype_Normal: 173 samples for the TP53 gene (C:\\Users\\brittany henderson\\Anaconda3\\envs\\Research\\lib\\site-packages\\cptac\\utils\\__init__.py, line 371)\n"
     ]
    }
   ],
   "source": [
    "test_get_frequently_mutated_hnscc_first_version()"
   ]
  },
  {
   "cell_type": "markdown",
   "metadata": {},
   "source": [
    "# Hnscc version = 2.0"
   ]
  },
  {
   "cell_type": "code",
   "execution_count": 52,
   "metadata": {},
   "outputs": [],
   "source": [
    "def test_get_frequently_mutated_hnscc_12_cutoff():\n",
    "    h = cptac.Hnscc(version = '2.0')\n",
    "    print('Running get_frequently_mutated...')\n",
    "    df = ut.get_frequently_mutated(h, 0.12)\n",
    "    \n",
    "    name = \"frequently_mutated\"\n",
    "    dimensions = (20, 4)\n",
    "    headers = ['Gene', 'Unique_Samples_Mut', 'Missense_Mut', 'Truncation_Mut']\n",
    "    # test gene names\n",
    "    test_coord_names = ((3, 0), (15, 0), (19, 0))\n",
    "    test_vals_names = ('CSMD3', 'PCLO', 'TTN')\n",
    "    \n",
    "    total_tumors = float(109)\n",
    "    # test missense and trucation don't equal the unique_sample_mutated \n",
    "    #(miss and trunc in same sample), also test high missense\n",
    "    test_coord_CSMD3 = ((3, 1), (3, 2), (3, 3)) \n",
    "    test_vals_CSMD3 = (26/total_tumors, 22/total_tumors, 5/total_tumors) \n",
    "    # test low missense\n",
    "    test_coord_FMN2 = ((7, 1),(7, 2),(7, 3))\n",
    "    test_vals_FMN2 = (15/total_tumors, 14/total_tumors, 1/total_tumors)\n",
    "    # test no truncation mutatations\n",
    "    test_coord_PCLO = ((15, 1),(15, 2),(15, 3))\n",
    "    test_vals_PCLO = (15/total_tumors, 15/total_tumors, 0/total_tumors)\n",
    "    # test close to cutoff\n",
    "    test_coord_RYR1 = ((16, 1),(16, 2),(16, 3))\n",
    "    test_vals_RYR1 = (14/total_tumors, 14/total_tumors, 0/total_tumors)\n",
    "    # common test\n",
    "    test_coord_TP53 = ((18, 1),(18, 2),(18, 3))\n",
    "    test_vals_TP53 = (96/total_tumors, 59/total_tumors, 46/total_tumors)\n",
    "\n",
    "    test_coord_vals = [(test_coord_names, test_vals_names), (test_coord_CSMD3, test_vals_CSMD3), \n",
    "                       (test_coord_FMN2, test_vals_FMN2), (test_coord_PCLO, test_vals_PCLO),\n",
    "                       (test_coord_RYR1, test_vals_RYR1), (test_coord_TP53, test_vals_TP53)]\n",
    "\n",
    "    for coord, vals in test_coord_vals:\n",
    "        PASS = check_getter(df, dimensions, headers, coord, vals)\n",
    "    \n",
    "    print_test_result(PASS)"
   ]
  },
  {
   "cell_type": "code",
   "execution_count": 53,
   "metadata": {},
   "outputs": [
    {
     "name": "stdout",
     "output_type": "stream",
     "text": [
      "Running get_frequently_mutated...         \n",
      "\tPASS"
     ]
    },
    {
     "name": "stderr",
     "output_type": "stream",
     "text": [
      "cptac warning: The HNSCC data is currently strictly reserved for CPTAC investigators. Otherwise, you are not authorized to access these data. Additionally, even after these data become publicly available, they will be subject to a publication embargo (see https://proteomics.cancer.gov/data-portal/about/data-use-agreement or enter cptac.embargo() to open the webpage for more details). (C:\\Users\\brittany henderson\\Anaconda3\\envs\\Research\\lib\\site-packages\\ipykernel_launcher.py, line 2)\n",
      "cptac warning: In joining the somatic_mutation table, no mutations were found for the following samples, so they were filled with Wildtype_Tumor or Wildtype_Normal: 82 samples for the TP53 gene (C:\\Users\\brittany henderson\\Anaconda3\\envs\\Research\\lib\\site-packages\\cptac\\utils\\__init__.py, line 371)\n"
     ]
    },
    {
     "name": "stdout",
     "output_type": "stream",
     "text": [
      "\n"
     ]
    }
   ],
   "source": [
    "test_get_frequently_mutated_hnscc_12_cutoff()"
   ]
  },
  {
   "cell_type": "code",
   "execution_count": 23,
   "metadata": {},
   "outputs": [],
   "source": [
    "def test_get_frequently_mutated_hnscc_default_cutoff():\n",
    "    h = cptac.Hnscc(version = '2.0')\n",
    "    print('Running get_frequently_mutated...')\n",
    "    df = ut.get_frequently_mutated(h)\n",
    "    \n",
    "    name = \"frequently_mutated\"\n",
    "    dimensions = (44, 4)\n",
    "    headers = ['Gene', 'Unique_Samples_Mut', 'Missense_Mut', 'Truncation_Mut']\n",
    "    # test gene names\n",
    "    test_coord_names = ((3, 0), (32, 0), (41, 0))\n",
    "    test_vals_names = ('AJUBA', 'PCLO', 'TP53')\n",
    "    \n",
    "    total_tumors = float(109)\n",
    "    # test missense and trucation don't equal the unique_sample_mutated \n",
    "    #(miss and trunc in same sample)\n",
    "    test_coord_FAT1 = ((17, 1), (17, 2), (17, 3)) \n",
    "    test_vals_FAT1 = (26/total_tumors, 9/total_tumors, 21/total_tumors) \n",
    "    # test low missense\n",
    "    test_coord_AJUBA = ((3, 1),(3, 2),(3, 3))\n",
    "    test_vals_AJUBA = (12/total_tumors, 3/total_tumors, 10/total_tumors)\n",
    "    # test no truncation type mutatations\n",
    "    test_coord_PCLO = ((32, 1),(32, 2),(32, 3))\n",
    "    test_vals_PCLO = (15/total_tumors, 15/total_tumors, 0/total_tumors)\n",
    "    # test close to cutoff\n",
    "    test_coord_AHNAK = ((2, 1),(2, 2),(2, 3))\n",
    "    test_vals_AHNAK = (11/total_tumors, 8/total_tumors, 3/total_tumors)\n",
    "    # common test\n",
    "    test_coord_TP53 = ((41, 1),(41, 2),(41, 3))\n",
    "    test_vals_TP53 = (96/total_tumors, 59/total_tumors, 46/total_tumors)\n",
    "\n",
    "    test_coord_vals = [(test_coord_names, test_vals_names), (test_coord_FAT1, test_vals_FAT1), \n",
    "                       (test_coord_AJUBA, test_vals_AJUBA), (test_coord_PCLO, test_vals_PCLO),\n",
    "                       (test_coord_AHNAK, test_vals_AHNAK), (test_coord_TP53, test_vals_TP53)]\n",
    "\n",
    "    for coord, vals in test_coord_vals:\n",
    "        PASS = check_getter(df, dimensions, headers, coord, vals)\n",
    "    \n",
    "    print_test_result(PASS)"
   ]
  },
  {
   "cell_type": "code",
   "execution_count": 24,
   "metadata": {},
   "outputs": [
    {
     "name": "stdout",
     "output_type": "stream",
     "text": [
      "Running get_frequently_mutated...         \n"
     ]
    },
    {
     "name": "stderr",
     "output_type": "stream",
     "text": [
      "cptac warning: The HNSCC data is currently strictly reserved for CPTAC investigators. Otherwise, you are not authorized to access these data. Additionally, even after these data become publicly available, they will be subject to a publication embargo (see https://proteomics.cancer.gov/data-portal/about/data-use-agreement or enter cptac.embargo() to open the webpage for more details). (C:\\Users\\brittany henderson\\Anaconda3\\envs\\Research\\lib\\site-packages\\ipykernel_launcher.py, line 2)\n",
      "cptac warning: In joining the somatic_mutation table, no mutations were found for the following samples, so they were filled with Wildtype_Tumor or Wildtype_Normal: 82 samples for the TP53 gene (C:\\Users\\brittany henderson\\Anaconda3\\envs\\Research\\lib\\site-packages\\cptac\\utils\\__init__.py, line 371)\n"
     ]
    },
    {
     "name": "stdout",
     "output_type": "stream",
     "text": [
      "\tPASS\n"
     ]
    }
   ],
   "source": [
    "test_get_frequently_mutated_hnscc_default_cutoff()"
   ]
  },
  {
   "cell_type": "markdown",
   "metadata": {},
   "source": [
    "# Gbm"
   ]
  },
  {
   "cell_type": "code",
   "execution_count": 64,
   "metadata": {},
   "outputs": [],
   "source": [
    "def test_get_frequently_mutated_gbm_default_cutoff():\n",
    "    g = cptac.Gbm()\n",
    "    print('Running get_frequently_mutated...')\n",
    "    df = ut.get_frequently_mutated(g)\n",
    "    \n",
    "    dimensions = (6, 5)\n",
    "    headers = ['Gene', 'Unique_Samples_Mut', 'Missense_Mut', 'Truncation_Mut', 'Non-Coding']\n",
    "    # test gene names\n",
    "    test_coord_names = ((5, 0), (2, 0), (0, 0))\n",
    "    test_vals_names = ('TP53', 'PIK3CA', 'EGFR')\n",
    "    \n",
    "    total_tumors = float(99)\n",
    "    # test missense and trucation don't equal the unique_sample_mutated \n",
    "    test_coord_NF1 = ((1, 1), (1, 2), (1, 4)) \n",
    "    test_vals_NF1 = (15/total_tumors, 2/total_tumors, 0/total_tumors) \n",
    "    # test missense and trucation values add to unique_samples_mut\n",
    "    test_coord_PIK3CA = ((2, 1),(2, 2),(2, 3))\n",
    "    test_vals_PIK3CA = (10/total_tumors, 9/total_tumors, 1/total_tumors)\n",
    "    # test high missense\n",
    "    test_coord_PTEN = ((3, 1),(3, 2),(3, 3))\n",
    "    test_vals_PTEN = (27/total_tumors, 16/total_tumors, 11/total_tumors)\n",
    "    # test  non-coding\n",
    "    test_coord_RB1 = ((4, 1),(4, 3),(4, 4))\n",
    "    test_vals_RB1 = (10/total_tumors, 10/total_tumors, 1/total_tumors)\n",
    "    # common test\n",
    "    test_coord_TP53 = ((5, 1),(5, 2),(5, 3))\n",
    "    test_vals_TP53 = (32/total_tumors, 27/total_tumors, 5/total_tumors)\n",
    "\n",
    "    test_coord_vals = [(test_coord_names, test_vals_names), (test_coord_NF1, test_vals_NF1), \n",
    "                       (test_coord_PIK3CA, test_vals_PIK3CA), (test_coord_PTEN, test_vals_PTEN),\n",
    "                       (test_coord_RB1, test_vals_RB1), (test_coord_TP53, test_vals_TP53)]\n",
    "\n",
    "    for coord, vals in test_coord_vals:\n",
    "        PASS = check_getter(df, dimensions, headers, coord, vals)\n",
    "    \n",
    "    print_test_result(PASS)"
   ]
  },
  {
   "cell_type": "code",
   "execution_count": 43,
   "metadata": {},
   "outputs": [],
   "source": [
    "def test_get_frequently_mutated_gbm_05_cutoff():\n",
    "    g = cptac.Gbm()\n",
    "    print('Running get_frequently_mutated...')\n",
    "    df = ut.get_frequently_mutated(g,0.05)\n",
    "    \n",
    "    dimensions = (34, 5)\n",
    "    headers = ['Gene', 'Unique_Samples_Mut', 'Missense_Mut', 'Truncation_Mut', 'Non-Coding']\n",
    "    # test gene names\n",
    "    test_coord_names = ((32, 0), (22, 0), (0, 0))\n",
    "    test_vals_names = ('TTC6', 'PIK3CA', 'ARHGAP5')\n",
    "    \n",
    "    total_tumors = float(99)\n",
    "    # test missense and trucation don't equal the unique_sample_mutated \n",
    "    #(miss and nc = unique_sample_mut)\n",
    "    test_coord_TTC6 = ((32, 1), (32, 2), (32, 4)) \n",
    "    test_vals_TTC6 = (6/total_tumors, 3/total_tumors, 3/total_tumors) \n",
    "    # test missense and trucation values add to unique_samples_mut\n",
    "    test_coord_PIK3CA = ((22, 1),(22, 2),(22, 3))\n",
    "    test_vals_PIK3CA = (10/total_tumors, 9/total_tumors, 1/total_tumors)\n",
    "    # test high non-conding and test unique_samples_mut close to cutoff\n",
    "    test_coord_GLT1D1 = ((11, 1),(11, 2),(11, 4))\n",
    "    test_vals_GLT1D1 = (5/total_tumors, 1/total_tumors, 4/total_tumors)\n",
    "    # test  high truncation\n",
    "    test_coord_RB1 = ((26, 1),(26, 3),(26, 4))\n",
    "    test_vals_RB1 = (10/total_tumors, 10/total_tumors, 1/total_tumors)\n",
    "    # common test\n",
    "    test_coord_TP53 = ((31, 1),(31, 2),(31, 3))\n",
    "    test_vals_TP53 = (32/total_tumors, 27/total_tumors, 5/total_tumors)\n",
    "\n",
    "    test_coord_vals = [(test_coord_names, test_vals_names), (test_coord_TTC6, test_vals_TTC6), \n",
    "                       (test_coord_PIK3CA, test_vals_PIK3CA), (test_coord_GLT1D1, test_vals_GLT1D1),\n",
    "                       (test_coord_RB1, test_vals_RB1), (test_coord_TP53, test_vals_TP53)]\n",
    "\n",
    "    for coord, vals in test_coord_vals:\n",
    "        PASS = check_getter(df, dimensions, headers, coord, vals)\n",
    "    \n",
    "    print_test_result(PASS)"
   ]
  },
  {
   "cell_type": "markdown",
   "metadata": {},
   "source": [
    "# Endo"
   ]
  },
  {
   "cell_type": "code",
   "execution_count": 66,
   "metadata": {},
   "outputs": [],
   "source": [
    "def test_get_frequently_mutated_en_default_cutoff():\n",
    "    en = cptac.Endometrial()\n",
    "    print('Running get_frequently_mutated...')\n",
    "    df = ut.get_frequently_mutated(en)\n",
    "    \n",
    "    name = \"frequently_mutated\"\n",
    "    dimensions = (232, 4)\n",
    "    headers = ['Gene', 'Unique_Samples_Mut', 'Missense_Mut', 'Truncation_Mut']\n",
    "    # test gene names\n",
    "    test_coord_names = ((53, 0), (32, 0), (227, 0))\n",
    "    test_vals_names = ('CTCF', 'CCDC168', 'ZNF536')\n",
    "    \n",
    "    total_tumors = float(95)\n",
    "    # test missense and trucation don't equal the unique_sample_mutated \n",
    "    #(miss and trunc in same sample)\n",
    "    test_coord_CTCF = ((53, 1), (53, 2), (53, 3)) \n",
    "    test_vals_CTCF = (27/total_tumors, 9/total_tumors, 23/total_tumors) \n",
    "    # testmissense and trucation values are equal\n",
    "    test_coord_CCDC168 = ((32, 1),(32, 2),(32, 3))\n",
    "    test_vals_CCDC168 = (16/total_tumors, 11/total_tumors, 11/total_tumors)\n",
    "    # test no truncation type mutatations\n",
    "    test_coord_ZNF536 = ((227, 1),(227, 2),(227, 3))\n",
    "    test_vals_ZNF536 = (12/total_tumors, 12/total_tumors, 0/total_tumors)\n",
    "    # test close to cutoff\n",
    "    test_coord_DICER1 = ((61, 1),(61, 2),(61, 3))\n",
    "    test_vals_DICER1 = (10/total_tumors, 10/total_tumors, 1/total_tumors)\n",
    "    # common test\n",
    "    test_coord_TP53 = ((205, 1),(205, 2),(205, 3))\n",
    "    test_vals_TP53 = (21/total_tumors, 15/total_tumors, 7/total_tumors)\n",
    "\n",
    "    test_coord_vals = [(test_coord_names, test_vals_names), (test_coord_CTCF, test_vals_CTCF), \n",
    "                       (test_coord_CCDC168, test_vals_CCDC168), (test_coord_ZNF536, test_vals_ZNF536),\n",
    "                       (test_coord_DICER1, test_vals_DICER1), (test_coord_TP53, test_vals_TP53)]\n",
    "\n",
    "    for coord, vals in test_coord_vals:\n",
    "        PASS = check_getter(df, dimensions, headers, coord, vals)\n",
    "    \n",
    "    print_test_result(PASS)"
   ]
  },
  {
   "cell_type": "code",
   "execution_count": 67,
   "metadata": {},
   "outputs": [
    {
     "name": "stdout",
     "output_type": "stream",
     "text": [
      "Running get_frequently_mutated...               \n"
     ]
    },
    {
     "name": "stderr",
     "output_type": "stream",
     "text": [
      "cptac warning: In joining the somatic_mutation table, no mutations were found for the following samples, so they were filled with Wildtype_Tumor or Wildtype_Normal: 123 samples for the TP53 gene (C:\\Users\\brittany henderson\\Anaconda3\\envs\\Research\\lib\\site-packages\\cptac\\utils\\__init__.py, line 372)\n"
     ]
    },
    {
     "name": "stdout",
     "output_type": "stream",
     "text": [
      "\tPASS\n"
     ]
    }
   ],
   "source": [
    "test_get_frequently_mutated_en_default_cutoff()"
   ]
  },
  {
   "cell_type": "code",
   "execution_count": 78,
   "metadata": {},
   "outputs": [],
   "source": [
    "def test_get_frequently_mutated_en_20_cutoff():\n",
    "    en = cptac.Endometrial()\n",
    "    print('Running get_frequently_mutated...')\n",
    "    df = ut.get_frequently_mutated(en, cutoff=0.2)\n",
    "    \n",
    "    dimensions = (10, 4)\n",
    "    headers = ['Gene', 'Unique_Samples_Mut', 'Missense_Mut', 'Truncation_Mut']\n",
    "    # test gene names\n",
    "    test_coord_names = ((0, 0), (2, 0), (8, 0))\n",
    "    test_vals_names = ('ARID1A', 'CTNNB1', 'TP53')\n",
    "    \n",
    "    total_tumors = float(95)\n",
    "    # test missense and trucation don't equal the unique_samples_mutated \n",
    "    #(miss and trunc in same sample and counted in each category)\n",
    "    test_coord_ARID1A = ((0, 1), (0, 2), (0, 3)) \n",
    "    test_vals_ARID1A = (43/total_tumors, 13/total_tumors, 38/total_tumors) \n",
    "    # test no truncation type mutatations\n",
    "    test_coord_CTNNB1 = ((2, 1),(2, 2),(2, 3))\n",
    "    test_vals_CTNNB1 = (29/total_tumors, 29/total_tumors, 0/total_tumors)\n",
    "    # test close to the cutoff \n",
    "    test_coord_ZFHX3 = ((9, 1), (9, 2), (9, 3))\n",
    "    test_vals_ZFHX3 = (21/total_tumors , 8/total_tumors , 16/total_tumors)\n",
    "    # test miss and trunc almost equal\n",
    "    test_coord_KMT2B = ((3, 1), (3, 2), (3, 3))\n",
    "    test_vals_KMT2B = (23/total_tumors , 11/total_tumors , 12/total_tumors)\n",
    "    # common test\n",
    "    test_coord_TP53 = ((8, 1),(8, 2),(8, 3))\n",
    "    test_vals_TP53 = (21/total_tumors, 15/total_tumors, 7/total_tumors)\n",
    "    \n",
    "    test_coord_vals = [(test_coord_names, test_vals_names), (test_coord_ARID1A, test_vals_ARID1A),\n",
    "                        (test_coord_CTNNB1, test_vals_CTNNB1), (test_coord_ZFHX3, test_vals_ZFHX3),\n",
    "                        (test_coord_KMT2B, test_vals_KMT2B), (test_coord_TP53, test_vals_TP53)]\n",
    "\n",
    "    for coord, vals in test_coord_vals:\n",
    "        PASS = check_getter(df, dimensions, headers, coord, vals)\n",
    "        \n",
    "    print_test_result(PASS)"
   ]
  },
  {
   "cell_type": "code",
   "execution_count": 79,
   "metadata": {},
   "outputs": [
    {
     "name": "stdout",
     "output_type": "stream",
     "text": [
      "Running get_frequently_mutated...               \n"
     ]
    },
    {
     "name": "stderr",
     "output_type": "stream",
     "text": [
      "cptac warning: In joining the somatic_mutation table, no mutations were found for the following samples, so they were filled with Wildtype_Tumor or Wildtype_Normal: 123 samples for the TP53 gene (C:\\Users\\brittany henderson\\Anaconda3\\envs\\Research\\lib\\site-packages\\cptac\\utils\\__init__.py, line 372)\n"
     ]
    },
    {
     "name": "stdout",
     "output_type": "stream",
     "text": [
      "\tPASS\n"
     ]
    }
   ],
   "source": [
    "test_get_frequently_mutated_en_20_cutoff()"
   ]
  },
  {
   "cell_type": "markdown",
   "metadata": {},
   "source": [
    "# Colon"
   ]
  },
  {
   "cell_type": "code",
   "execution_count": 75,
   "metadata": {},
   "outputs": [],
   "source": [
    "def test_get_frequently_mutated_co_default_cutoff():\n",
    "    co = cptac.Colon()\n",
    "    print('Running get_frequently_mutated...')\n",
    "    df = ut.get_frequently_mutated(co)\n",
    "    \n",
    "    dimensions = (612, 4)\n",
    "    headers = ['Gene', 'Unique_Samples_Mut', 'Missense_Mut', 'Truncation_Mut']\n",
    "    # test gene names\n",
    "    test_coord_names = ((90, 0), (284, 0), (499, 0))\n",
    "    test_vals_names = ('CASP5', 'KRAS', 'SPINK5')\n",
    "    \n",
    "    total_tumors = 97\n",
    "    # test when there are no missense type mutatations\n",
    "    test_coord_CASP5 = ((90, 1), (90, 2), (90, 3))\n",
    "    test_vals_CASP5 = (19/total_tumors, 0/total_tumors, 19/total_tumors) \n",
    "    # test when there are no truncation type mutatations\n",
    "    test_coord_KRAS = ((284, 1),(284, 2),(284, 3))\n",
    "    test_vals_KRAS = (35/total_tumors, 35/total_tumors, 0/total_tumors)\n",
    "    # test when missense and trucation don't add up to equal the fraction mutated\n",
    "    #(miss and trunc in same sample)\n",
    "    test_coord_ANK2 = ((34, 1),(34, 2),(34, 3)) \n",
    "    test_vals_ANK2 = (15/total_tumors, 13/total_tumors, 4/total_tumors) \n",
    "    # test when miss and trunc count are the same\n",
    "    test_coord_ATM = ((56, 1),(56, 2),(56, 3)) \n",
    "    test_vals_ATM = (10/total_tumors, 7/total_tumors, 7/total_tumors) \n",
    "    # test close to the cutoff\n",
    "    test_coord_SPINK5 = ((499, 1),(499, 2),(499,3))\n",
    "    test_vals_SPINK5 = (10/total_tumors, 5/total_tumors, 7/total_tumors)\n",
    "    # common test\n",
    "    test_coord_TP53 = ((554, 1),(554, 2),(554, 3))\n",
    "    test_vals_TP53 = (56/total_tumors, 38/total_tumors, 21/total_tumors)\n",
    "\n",
    "    test_coord_vals = [(test_coord_names, test_vals_names), (test_coord_CASP5, test_vals_CASP5),\n",
    "                        (test_coord_KRAS, test_vals_KRAS), (test_coord_ANK2, test_vals_ANK2),\n",
    "                        (test_coord_ATM, test_vals_ATM), (test_coord_SPINK5, test_vals_SPINK5), \n",
    "                        (test_coord_TP53, test_vals_TP53)]\n",
    "\n",
    "    for coord, vals in test_coord_vals:\n",
    "        PASS = check_getter(df, dimensions, headers, coord, vals)\n",
    "    \n",
    "    print_test_result(PASS)"
   ]
  },
  {
   "cell_type": "code",
   "execution_count": 76,
   "metadata": {},
   "outputs": [
    {
     "name": "stdout",
     "output_type": "stream",
     "text": [
      "Running get_frequently_mutated...         \n"
     ]
    },
    {
     "name": "stderr",
     "output_type": "stream",
     "text": [
      "cptac warning: In joining the somatic_mutation table, no mutations were found for the following samples, so they were filled with Wildtype_Tumor or Wildtype_Normal: 151 samples for the TP53 gene (C:\\Users\\brittany henderson\\Anaconda3\\envs\\Research\\lib\\site-packages\\cptac\\utils\\__init__.py, line 372)\n",
      "cptac warning: proteomics data was not found for the following samples, so proteomics data columns were filled with NaN for these samples: 01CO001, 05CO005, 05CO007, 05CO014, 05CO055, 11CO059, 11CO060, 14CO002, 16CO012, 24CO005 (C:\\Users\\brittany henderson\\Anaconda3\\envs\\Research\\lib\\site-packages\\cptac\\utils\\__init__.py, line 372)\n"
     ]
    },
    {
     "name": "stdout",
     "output_type": "stream",
     "text": [
      "Dataframe dimensions did not match expected values.\n",
      "\tExpected: (612, 4)\n",
      "\tActual: (448, 4)\n",
      "\n"
     ]
    },
    {
     "ename": "IndexError",
     "evalue": "single positional indexer is out-of-bounds",
     "output_type": "error",
     "traceback": [
      "\u001b[1;31m---------------------------------------------------------------------------\u001b[0m",
      "\u001b[1;31mIndexError\u001b[0m                                Traceback (most recent call last)",
      "\u001b[1;32m<ipython-input-76-cfe7ccbd684f>\u001b[0m in \u001b[0;36m<module>\u001b[1;34m\u001b[0m\n\u001b[1;32m----> 1\u001b[1;33m \u001b[0mtest_get_frequently_mutated_co_default_cutoff\u001b[0m\u001b[1;33m(\u001b[0m\u001b[1;33m)\u001b[0m\u001b[1;33m\u001b[0m\u001b[1;33m\u001b[0m\u001b[0m\n\u001b[0m",
      "\u001b[1;32m<ipython-input-75-2aeeb9943dd3>\u001b[0m in \u001b[0;36mtest_get_frequently_mutated_co_default_cutoff\u001b[1;34m()\u001b[0m\n\u001b[0;32m     37\u001b[0m \u001b[1;33m\u001b[0m\u001b[0m\n\u001b[0;32m     38\u001b[0m     \u001b[1;32mfor\u001b[0m \u001b[0mcoord\u001b[0m\u001b[1;33m,\u001b[0m \u001b[0mvals\u001b[0m \u001b[1;32min\u001b[0m \u001b[0mtest_coord_vals\u001b[0m\u001b[1;33m:\u001b[0m\u001b[1;33m\u001b[0m\u001b[1;33m\u001b[0m\u001b[0m\n\u001b[1;32m---> 39\u001b[1;33m         \u001b[0mPASS\u001b[0m \u001b[1;33m=\u001b[0m \u001b[0mcheck_getter\u001b[0m\u001b[1;33m(\u001b[0m\u001b[0mdf\u001b[0m\u001b[1;33m,\u001b[0m \u001b[0mdimensions\u001b[0m\u001b[1;33m,\u001b[0m \u001b[0mheaders\u001b[0m\u001b[1;33m,\u001b[0m \u001b[0mcoord\u001b[0m\u001b[1;33m,\u001b[0m \u001b[0mvals\u001b[0m\u001b[1;33m)\u001b[0m\u001b[1;33m\u001b[0m\u001b[1;33m\u001b[0m\u001b[0m\n\u001b[0m\u001b[0;32m     40\u001b[0m \u001b[1;33m\u001b[0m\u001b[0m\n\u001b[0;32m     41\u001b[0m     \u001b[0mprint_test_result\u001b[0m\u001b[1;33m(\u001b[0m\u001b[0mPASS\u001b[0m\u001b[1;33m)\u001b[0m\u001b[1;33m\u001b[0m\u001b[1;33m\u001b[0m\u001b[0m\n",
      "\u001b[1;32m<ipython-input-3-d87d8f4a2bb5>\u001b[0m in \u001b[0;36mcheck_getter\u001b[1;34m(df, exp_dim, exp_headers, coordinates, values)\u001b[0m\n\u001b[0;32m     40\u001b[0m         \u001b[0mdf\u001b[0m\u001b[1;33m.\u001b[0m\u001b[0miloc\u001b[0m\u001b[1;33m[\u001b[0m\u001b[0mcoordinates\u001b[0m\u001b[1;33m[\u001b[0m\u001b[1;36m0\u001b[0m\u001b[1;33m]\u001b[0m\u001b[1;33m[\u001b[0m\u001b[1;36m0\u001b[0m\u001b[1;33m]\u001b[0m\u001b[1;33m,\u001b[0m \u001b[0mcoordinates\u001b[0m\u001b[1;33m[\u001b[0m\u001b[1;36m0\u001b[0m\u001b[1;33m]\u001b[0m\u001b[1;33m[\u001b[0m\u001b[1;36m1\u001b[0m\u001b[1;33m]\u001b[0m\u001b[1;33m]\u001b[0m\u001b[1;33m,\u001b[0m\u001b[1;33m\u001b[0m\u001b[1;33m\u001b[0m\u001b[0m\n\u001b[0;32m     41\u001b[0m         \u001b[0mdf\u001b[0m\u001b[1;33m.\u001b[0m\u001b[0miloc\u001b[0m\u001b[1;33m[\u001b[0m\u001b[0mcoordinates\u001b[0m\u001b[1;33m[\u001b[0m\u001b[1;36m1\u001b[0m\u001b[1;33m]\u001b[0m\u001b[1;33m[\u001b[0m\u001b[1;36m0\u001b[0m\u001b[1;33m]\u001b[0m\u001b[1;33m,\u001b[0m \u001b[0mcoordinates\u001b[0m\u001b[1;33m[\u001b[0m\u001b[1;36m1\u001b[0m\u001b[1;33m]\u001b[0m\u001b[1;33m[\u001b[0m\u001b[1;36m1\u001b[0m\u001b[1;33m]\u001b[0m\u001b[1;33m]\u001b[0m\u001b[1;33m,\u001b[0m\u001b[1;33m\u001b[0m\u001b[1;33m\u001b[0m\u001b[0m\n\u001b[1;32m---> 42\u001b[1;33m         df.iloc[coordinates[2][0], coordinates[2][1]]]\n\u001b[0m\u001b[0;32m     43\u001b[0m \u001b[1;33m\u001b[0m\u001b[0m\n\u001b[0;32m     44\u001b[0m     \u001b[1;32mfor\u001b[0m \u001b[0mi\u001b[0m\u001b[1;33m,\u001b[0m \u001b[0mvalue\u001b[0m \u001b[1;32min\u001b[0m \u001b[0menumerate\u001b[0m\u001b[1;33m(\u001b[0m\u001b[0mvalues\u001b[0m\u001b[1;33m)\u001b[0m\u001b[1;33m:\u001b[0m\u001b[1;33m\u001b[0m\u001b[1;33m\u001b[0m\u001b[0m\n",
      "\u001b[1;32m~\\Anaconda3\\envs\\Research\\lib\\site-packages\\pandas\\core\\indexing.py\u001b[0m in \u001b[0;36m__getitem__\u001b[1;34m(self, key)\u001b[0m\n\u001b[0;32m   1759\u001b[0m                 \u001b[1;32mexcept\u001b[0m \u001b[1;33m(\u001b[0m\u001b[0mKeyError\u001b[0m\u001b[1;33m,\u001b[0m \u001b[0mIndexError\u001b[0m\u001b[1;33m,\u001b[0m \u001b[0mAttributeError\u001b[0m\u001b[1;33m)\u001b[0m\u001b[1;33m:\u001b[0m\u001b[1;33m\u001b[0m\u001b[1;33m\u001b[0m\u001b[0m\n\u001b[0;32m   1760\u001b[0m                     \u001b[1;32mpass\u001b[0m\u001b[1;33m\u001b[0m\u001b[1;33m\u001b[0m\u001b[0m\n\u001b[1;32m-> 1761\u001b[1;33m             \u001b[1;32mreturn\u001b[0m \u001b[0mself\u001b[0m\u001b[1;33m.\u001b[0m\u001b[0m_getitem_tuple\u001b[0m\u001b[1;33m(\u001b[0m\u001b[0mkey\u001b[0m\u001b[1;33m)\u001b[0m\u001b[1;33m\u001b[0m\u001b[1;33m\u001b[0m\u001b[0m\n\u001b[0m\u001b[0;32m   1762\u001b[0m         \u001b[1;32melse\u001b[0m\u001b[1;33m:\u001b[0m\u001b[1;33m\u001b[0m\u001b[1;33m\u001b[0m\u001b[0m\n\u001b[0;32m   1763\u001b[0m             \u001b[1;31m# we by definition only have the 0th axis\u001b[0m\u001b[1;33m\u001b[0m\u001b[1;33m\u001b[0m\u001b[1;33m\u001b[0m\u001b[0m\n",
      "\u001b[1;32m~\\Anaconda3\\envs\\Research\\lib\\site-packages\\pandas\\core\\indexing.py\u001b[0m in \u001b[0;36m_getitem_tuple\u001b[1;34m(self, tup)\u001b[0m\n\u001b[0;32m   2064\u001b[0m     \u001b[1;32mdef\u001b[0m \u001b[0m_getitem_tuple\u001b[0m\u001b[1;33m(\u001b[0m\u001b[0mself\u001b[0m\u001b[1;33m,\u001b[0m \u001b[0mtup\u001b[0m\u001b[1;33m:\u001b[0m \u001b[0mTuple\u001b[0m\u001b[1;33m)\u001b[0m\u001b[1;33m:\u001b[0m\u001b[1;33m\u001b[0m\u001b[1;33m\u001b[0m\u001b[0m\n\u001b[0;32m   2065\u001b[0m \u001b[1;33m\u001b[0m\u001b[0m\n\u001b[1;32m-> 2066\u001b[1;33m         \u001b[0mself\u001b[0m\u001b[1;33m.\u001b[0m\u001b[0m_has_valid_tuple\u001b[0m\u001b[1;33m(\u001b[0m\u001b[0mtup\u001b[0m\u001b[1;33m)\u001b[0m\u001b[1;33m\u001b[0m\u001b[1;33m\u001b[0m\u001b[0m\n\u001b[0m\u001b[0;32m   2067\u001b[0m         \u001b[1;32mtry\u001b[0m\u001b[1;33m:\u001b[0m\u001b[1;33m\u001b[0m\u001b[1;33m\u001b[0m\u001b[0m\n\u001b[0;32m   2068\u001b[0m             \u001b[1;32mreturn\u001b[0m \u001b[0mself\u001b[0m\u001b[1;33m.\u001b[0m\u001b[0m_getitem_lowerdim\u001b[0m\u001b[1;33m(\u001b[0m\u001b[0mtup\u001b[0m\u001b[1;33m)\u001b[0m\u001b[1;33m\u001b[0m\u001b[1;33m\u001b[0m\u001b[0m\n",
      "\u001b[1;32m~\\Anaconda3\\envs\\Research\\lib\\site-packages\\pandas\\core\\indexing.py\u001b[0m in \u001b[0;36m_has_valid_tuple\u001b[1;34m(self, key)\u001b[0m\n\u001b[0;32m    700\u001b[0m                 \u001b[1;32mraise\u001b[0m \u001b[0mIndexingError\u001b[0m\u001b[1;33m(\u001b[0m\u001b[1;34m\"Too many indexers\"\u001b[0m\u001b[1;33m)\u001b[0m\u001b[1;33m\u001b[0m\u001b[1;33m\u001b[0m\u001b[0m\n\u001b[0;32m    701\u001b[0m             \u001b[1;32mtry\u001b[0m\u001b[1;33m:\u001b[0m\u001b[1;33m\u001b[0m\u001b[1;33m\u001b[0m\u001b[0m\n\u001b[1;32m--> 702\u001b[1;33m                 \u001b[0mself\u001b[0m\u001b[1;33m.\u001b[0m\u001b[0m_validate_key\u001b[0m\u001b[1;33m(\u001b[0m\u001b[0mk\u001b[0m\u001b[1;33m,\u001b[0m \u001b[0mi\u001b[0m\u001b[1;33m)\u001b[0m\u001b[1;33m\u001b[0m\u001b[1;33m\u001b[0m\u001b[0m\n\u001b[0m\u001b[0;32m    703\u001b[0m             \u001b[1;32mexcept\u001b[0m \u001b[0mValueError\u001b[0m\u001b[1;33m:\u001b[0m\u001b[1;33m\u001b[0m\u001b[1;33m\u001b[0m\u001b[0m\n\u001b[0;32m    704\u001b[0m                 raise ValueError(\n",
      "\u001b[1;32m~\\Anaconda3\\envs\\Research\\lib\\site-packages\\pandas\\core\\indexing.py\u001b[0m in \u001b[0;36m_validate_key\u001b[1;34m(self, key, axis)\u001b[0m\n\u001b[0;32m   1991\u001b[0m             \u001b[1;32mreturn\u001b[0m\u001b[1;33m\u001b[0m\u001b[1;33m\u001b[0m\u001b[0m\n\u001b[0;32m   1992\u001b[0m         \u001b[1;32melif\u001b[0m \u001b[0mis_integer\u001b[0m\u001b[1;33m(\u001b[0m\u001b[0mkey\u001b[0m\u001b[1;33m)\u001b[0m\u001b[1;33m:\u001b[0m\u001b[1;33m\u001b[0m\u001b[1;33m\u001b[0m\u001b[0m\n\u001b[1;32m-> 1993\u001b[1;33m             \u001b[0mself\u001b[0m\u001b[1;33m.\u001b[0m\u001b[0m_validate_integer\u001b[0m\u001b[1;33m(\u001b[0m\u001b[0mkey\u001b[0m\u001b[1;33m,\u001b[0m \u001b[0maxis\u001b[0m\u001b[1;33m)\u001b[0m\u001b[1;33m\u001b[0m\u001b[1;33m\u001b[0m\u001b[0m\n\u001b[0m\u001b[0;32m   1994\u001b[0m         \u001b[1;32melif\u001b[0m \u001b[0misinstance\u001b[0m\u001b[1;33m(\u001b[0m\u001b[0mkey\u001b[0m\u001b[1;33m,\u001b[0m \u001b[0mtuple\u001b[0m\u001b[1;33m)\u001b[0m\u001b[1;33m:\u001b[0m\u001b[1;33m\u001b[0m\u001b[1;33m\u001b[0m\u001b[0m\n\u001b[0;32m   1995\u001b[0m             \u001b[1;31m# a tuple should already have been caught by this point\u001b[0m\u001b[1;33m\u001b[0m\u001b[1;33m\u001b[0m\u001b[1;33m\u001b[0m\u001b[0m\n",
      "\u001b[1;32m~\\Anaconda3\\envs\\Research\\lib\\site-packages\\pandas\\core\\indexing.py\u001b[0m in \u001b[0;36m_validate_integer\u001b[1;34m(self, key, axis)\u001b[0m\n\u001b[0;32m   2060\u001b[0m         \u001b[0mlen_axis\u001b[0m \u001b[1;33m=\u001b[0m \u001b[0mlen\u001b[0m\u001b[1;33m(\u001b[0m\u001b[0mself\u001b[0m\u001b[1;33m.\u001b[0m\u001b[0mobj\u001b[0m\u001b[1;33m.\u001b[0m\u001b[0m_get_axis\u001b[0m\u001b[1;33m(\u001b[0m\u001b[0maxis\u001b[0m\u001b[1;33m)\u001b[0m\u001b[1;33m)\u001b[0m\u001b[1;33m\u001b[0m\u001b[1;33m\u001b[0m\u001b[0m\n\u001b[0;32m   2061\u001b[0m         \u001b[1;32mif\u001b[0m \u001b[0mkey\u001b[0m \u001b[1;33m>=\u001b[0m \u001b[0mlen_axis\u001b[0m \u001b[1;32mor\u001b[0m \u001b[0mkey\u001b[0m \u001b[1;33m<\u001b[0m \u001b[1;33m-\u001b[0m\u001b[0mlen_axis\u001b[0m\u001b[1;33m:\u001b[0m\u001b[1;33m\u001b[0m\u001b[1;33m\u001b[0m\u001b[0m\n\u001b[1;32m-> 2062\u001b[1;33m             \u001b[1;32mraise\u001b[0m \u001b[0mIndexError\u001b[0m\u001b[1;33m(\u001b[0m\u001b[1;34m\"single positional indexer is out-of-bounds\"\u001b[0m\u001b[1;33m)\u001b[0m\u001b[1;33m\u001b[0m\u001b[1;33m\u001b[0m\u001b[0m\n\u001b[0m\u001b[0;32m   2063\u001b[0m \u001b[1;33m\u001b[0m\u001b[0m\n\u001b[0;32m   2064\u001b[0m     \u001b[1;32mdef\u001b[0m \u001b[0m_getitem_tuple\u001b[0m\u001b[1;33m(\u001b[0m\u001b[0mself\u001b[0m\u001b[1;33m,\u001b[0m \u001b[0mtup\u001b[0m\u001b[1;33m:\u001b[0m \u001b[0mTuple\u001b[0m\u001b[1;33m)\u001b[0m\u001b[1;33m:\u001b[0m\u001b[1;33m\u001b[0m\u001b[1;33m\u001b[0m\u001b[0m\n",
      "\u001b[1;31mIndexError\u001b[0m: single positional indexer is out-of-bounds"
     ]
    }
   ],
   "source": [
    "test_get_frequently_mutated_co_default_cutoff()"
   ]
  },
  {
   "cell_type": "code",
   "execution_count": null,
   "metadata": {},
   "outputs": [],
   "source": [
    "def test_get_frequently_mutated_co_15_cutoff():\n",
    "    co = cptac.Colon()\n",
    "    print('Running get_frequently_mutated...')\n",
    "    df = cptac.algorithms.get_frequently_mutated(co, 0.15)\n",
    "    \n",
    "    dimensions = (138, 4)\n",
    "    headers = ['Gene', 'Unique_Samples_Mut', 'Missense_Mut', 'Truncation_Mut']\n",
    "    # test gene names\n",
    "    test_coord_names = ((15, 0), (66, 0), (102, 0))\n",
    "    test_vals_names = ('CASP5', 'KRAS', 'RYR2')\n",
    "    \n",
    "    total_tumors = 97\n",
    "    # test no missense type mutatations \n",
    "    test_coord_CASP5 = ((15, 1), (15, 2), (15, 3))\n",
    "    test_vals_CASP5 = (19/total_tumors, 0/total_tumors, 19/total_tumors) \n",
    "    # test no truncation type mutatations\n",
    "    test_coord_KRAS = ((66, 1),(66, 2),(66, 3))\n",
    "    test_vals_KRAS = (35/total_tumors, 35/total_tumors, 0/total_tumors)\n",
    "    # test missense and truncation equal fraction mutated\n",
    "    test_coord_PIK3CA = ((92, 1),(92, 2),(92, 3))\n",
    "    test_vals_PIK3CA = (24/total_tumors, 23/total_tumors, 1/total_tumors)\n",
    "    # test missense and trucation don't equal unique_samples_mutated (miss and trunc in same sample)\n",
    "    test_coord_RYR2 = ((102, 1),(102, 2),(102, 3))\n",
    "    test_vals_RYR2 = (21/total_tumors, 19/total_tumors, 7/total_tumors)\n",
    "    # test close to the cutoff\n",
    "    test_coord_ANK2 = ((6, 1),(6, 2),(6, 3)) \n",
    "    test_vals_ANK2 = (15/total_tumors, 13/total_tumors, 4/total_tumors) \n",
    "    # common test\n",
    "    test_coord_TP53 = ((123, 1),(123, 2),(123, 3))\n",
    "    test_vals_TP53 = (56/total_tumors, 38/total_tumors, 21/total_tumors)\n",
    "\n",
    "    test_coord_vals = [(test_coord_names, test_vals_names), (test_coord_CASP5, test_vals_CASP5), \n",
    "                       (test_coord_KRAS, test_vals_KRAS), (test_coord_PIK3CA, test_vals_PIK3CA), \n",
    "                       (test_coord_RYR2, test_vals_RYR2), (test_coord_ANK2, test_vals_ANK2), \n",
    "                       (test_coord_TP53, test_vals_TP53)]\n",
    "\n",
    "    for coord, vals in test_coord_vals:\n",
    "        PASS = check_getter(df, dimensions, headers, coord, vals)\n",
    "    \n",
    "    print_test_result(PASS)"
   ]
  },
  {
   "cell_type": "code",
   "execution_count": null,
   "metadata": {},
   "outputs": [],
   "source": [
    "test_get_frequently_mutated_co_15_cutoff()"
   ]
  },
  {
   "cell_type": "markdown",
   "metadata": {},
   "source": [
    "# Ov"
   ]
  },
  {
   "cell_type": "code",
   "execution_count": null,
   "metadata": {},
   "outputs": [],
   "source": [
    "def test_get_frequently_mutated_ov_default_cutoff():\n",
    "    ov = cptac.Ovarian()\n",
    "    print('Running get_frequently_mutated...')\n",
    "    df = cptac.algorithms.get_frequently_mutated(ov)\n",
    "    \n",
    "    dimensions = (16, 4)\n",
    "    headers = ['Gene', 'Unique_Samples_Mut', 'Missense_Mut', 'Truncation_Mut']\n",
    "    # test genes names\n",
    "    test_coord_names = ((15, 0), (13, 0), (2, 0))\n",
    "    test_vals_names = ('WDFY4', 'TP53', 'MT-CO1')\n",
    "    \n",
    "    total_tumors = 83\n",
    "    #test missense and trucation not equal to unique_samples_mutated \n",
    "    #(miss and trunc in same sample)\n",
    "    test_coord_WDFY4 = ((15, 1), (15, 2), (15, 3)) \n",
    "    test_vals_WDFY4 = (10/total_tumors, 8/total_tumors, 3/total_tumors) \n",
    "    # test miss and trunc equal to unique_samples_mutated\n",
    "    test_coord_MUC4 = ((8, 1),(8, 2),(8, 3))\n",
    "    test_vals_MUC4 = (27/total_tumors, 26/total_tumors, 1/total_tumors)\n",
    "    # test no truncation mutations\n",
    "    test_coord_MTCO1 = ((2, 1),(2, 2),(2, 3))\n",
    "    test_vals_MTCO1 = (10/total_tumors, 10/total_tumors, 0/total_tumors)\n",
    "    # test close to cutoff\n",
    "    test_coord_FSIP2 = ((1, 1),(1, 2),(1, 3))\n",
    "    test_vals_FSIP2 = (9/total_tumors, 8/total_tumors, 2/total_tumors)\n",
    "    # common test and highest count\n",
    "    test_coord_TP53 = ((13, 1),(13, 2),(13, 3))\n",
    "    test_vals_TP53 = (77/total_tumors, 50/total_tumors, 27/total_tumors)\n",
    "    \n",
    "    \n",
    "    test_coord_vals = [(test_coord_names, test_vals_names), (test_coord_WDFY4, test_vals_WDFY4),\n",
    "                       (test_coord_MUC4, test_vals_MUC4), (test_coord_MTCO1, test_vals_MTCO1), \n",
    "                       (test_coord_FSIP2, test_vals_FSIP2), (test_coord_TP53, test_vals_TP53)]\n",
    "\n",
    "    for coord, vals in test_coord_vals:\n",
    "        PASS = check_getter(df, dimensions, headers, coord, vals)\n",
    "    \n",
    "    print_test_result(PASS)"
   ]
  },
  {
   "cell_type": "code",
   "execution_count": null,
   "metadata": {},
   "outputs": [],
   "source": [
    "test_get_frequently_mutated_ov_default_cutoff()"
   ]
  },
  {
   "cell_type": "code",
   "execution_count": null,
   "metadata": {},
   "outputs": [],
   "source": [
    "def test_get_frequently_mutated_ov_05_cutoff():\n",
    "    ov = cptac.Ovarian()\n",
    "    print('Running get_frequently_mutated...')\n",
    "    df = cptac.algorithms.get_frequently_mutated(ov, 0.05)\n",
    "    \n",
    "    dimensions = (142, 4)\n",
    "    headers = ['Gene', 'Unique_Samples_Mut', 'Missense_Mut', 'Truncation_Mut']\n",
    "    # test genes names\n",
    "    test_coord_names = ((133, 0), (127, 0), (141, 0))\n",
    "    test_vals_names = ('WDFY4', 'TP53', 'ZNF865')\n",
    "    \n",
    "    total_tumors = 83\n",
    "    #test missense and trucation not equal to unique_samples_mutated \n",
    "    #(miss and trunc in same sample)\n",
    "    test_coord_WDFY4 = ((133, 1), (133, 2), (133, 3)) \n",
    "    test_vals_WDFY4 = (10/total_tumors, 8/total_tumors, 3/total_tumors) \n",
    "    # test miss and trunc almost equal\n",
    "    test_coord_CDK12 = ((11, 1),(11, 2),(11, 3))\n",
    "    test_vals_CDK12 = (6/total_tumors, 4/total_tumors, 3/total_tumors)\n",
    "    # test no truncation mutations\n",
    "    test_coord_ZNF865 = ((141, 1),(141, 2),(141, 3))\n",
    "    test_vals_ZNF865 = (5/total_tumors, 5/total_tumors, 0/total_tumors)\n",
    "    # test close to cutoff \n",
    "    test_coord_SYNE1 = ((122, 1),(122, 2),(122, 3))\n",
    "    test_vals_SYNE1 = (5/total_tumors, 5/total_tumors, 1/total_tumors)\n",
    "    # common test and highest count\n",
    "    test_coord_TP53 = ((127, 1),(127, 2),(127, 3))\n",
    "    test_vals_TP53 = (77/total_tumors, 50/total_tumors, 27/total_tumors)\n",
    "    \n",
    "    #CHECK silent mut not counted\n",
    "    \n",
    "    test_coord_vals = [(test_coord_names, test_vals_names), (test_coord_WDFY4, test_vals_WDFY4),\n",
    "                        (test_coord_CDK12, test_vals_CDK12), (test_coord_ZNF865, test_vals_ZNF865),  \n",
    "                        (test_coord_SYNE1, test_vals_SYNE1), (test_coord_TP53, test_vals_TP53)]\n",
    "\n",
    "    for coord, vals in test_coord_vals:\n",
    "        PASS = check_getter(df, dimensions, headers, coord, vals)\n",
    "    \n",
    "    print_test_result(PASS)"
   ]
  },
  {
   "cell_type": "code",
   "execution_count": null,
   "metadata": {},
   "outputs": [],
   "source": [
    "test_get_frequently_mutated_ov_05()"
   ]
  },
  {
   "cell_type": "markdown",
   "metadata": {},
   "source": [
    "# Ccrcc"
   ]
  },
  {
   "cell_type": "code",
   "execution_count": null,
   "metadata": {},
   "outputs": [],
   "source": [
    "def test_get_frequently_mutated_ccrcc_default_cutoff():\n",
    "    rc = cptac.Ccrcc()\n",
    "    print('Running get_frequently_mutated...')\n",
    "    df = cptac.algorithms.get_frequently_mutated(rc)\n",
    "   \n",
    "    dimensions = (6, 4)\n",
    "    headers = ['Gene', 'Unique_Samples_Mut', 'Missense_Mut', 'Truncation_Mut']\n",
    "    # test genes names\n",
    "    test_coord_names = ((0, 0), (2, 0), (4, 0))\n",
    "    test_vals_names = ('BAP1', 'PBRM1', 'TTN')\n",
    "    \n",
    "    total_tumors = 110\n",
    "    # test miss and trunc equal to unique_samples_mutated\n",
    "    test_coord_BAP1 = ((0, 1), (0, 2), (0, 3)) \n",
    "    test_vals_BAP1 = (17/total_tumors, 7/total_tumors, 10/total_tumors) \n",
    "    # test high truncation, low missense count\n",
    "    test_coord_PBRM1 = ((2, 1),(2, 2),(2, 3))\n",
    "    test_vals_PBRM1 = (44/total_tumors, 8/total_tumors, 37/total_tumors)\n",
    "    # check that silent mutations are not counted (TTN has many silent mutations)\n",
    "    # and missense and trucation not equal to unique_samples_mutated \n",
    "    test_coord_TTN = ((4, 1),(4, 2),(4, 3))\n",
    "    test_vals_TTN = (13/total_tumors, 10/total_tumors, 4/total_tumors)\n",
    "    # test close to cutoff\n",
    "    test_coord_SETD2 = ((3, 1), (3, 2), (3, 3)) \n",
    "    test_vals_SETD2 = (15/total_tumors, 2/total_tumors, 13/total_tumors)               \n",
    "    # common test and highest count\n",
    "    test_coord_VHL = ((5, 1),(5, 2),(5, 3))\n",
    "    test_vals_VHL = (82/total_tumors, 33/total_tumors, 49/total_tumors)\n",
    "    \n",
    "    \n",
    "    test_coord_vals = [(test_coord_names, test_vals_names), (test_coord_BAP1, test_vals_BAP1),\n",
    "                        (test_coord_PBRM1, test_vals_PBRM1), (test_coord_TTN, test_vals_TTN),\n",
    "                        (test_coord_SETD2, test_vals_SETD2), (test_coord_VHL, test_vals_VHL)]\n",
    "\n",
    "    for coord, vals in test_coord_vals:\n",
    "        PASS = check_getter(df, dimensions, headers, coord, vals)\n",
    "    \n",
    "    print_test_result(PASS)"
   ]
  },
  {
   "cell_type": "code",
   "execution_count": null,
   "metadata": {},
   "outputs": [],
   "source": [
    "test_get_frequently_mutated_ccrcc_default_cutoff()"
   ]
  },
  {
   "cell_type": "code",
   "execution_count": null,
   "metadata": {},
   "outputs": [],
   "source": [
    "def test_get_frequently_mutated_ccrcc_01_cutoff():\n",
    "    rc = cptac.Ccrcc()\n",
    "    print('Running get_frequently_mutated...')\n",
    "    df = cptac.algorithms.get_frequently_mutated(rc, cutoff=0.01)\n",
    "    \n",
    "    dimensions = (1106, 4)\n",
    "    headers = ['Gene', 'Unique_Samples_Mut', 'Missense_Mut', 'Truncation_Mut']\n",
    "    # test genes names\n",
    "    test_coord_names = ((11, 0), (992, 0), (1080, 0))\n",
    "    test_vals_names = ('ABCC3', 'TTN', 'ZNF532')\n",
    "    \n",
    "    total_tumors = 110\n",
    "    # test no missense \n",
    "    test_coord_ABCC3 = ((11, 1),(11, 2),(11, 3))\n",
    "    test_vals_ABCC3 = (2/total_tumors, 0/total_tumors, 2/total_tumors)\n",
    "    # test no truncation and close to cutoff\n",
    "    test_coord_ZNF532 = ((1080, 1), (1080, 2), (1080, 3)) \n",
    "    test_vals_ZNF532 = (2/total_tumors, 2/total_tumors, 0/total_tumors)\n",
    "    # test miss and trunc equal to unique_samples_mutated\n",
    "    test_coord_NAV3 = ((611, 1), (611, 2), (611, 3)) \n",
    "    test_vals_NAV3 = (7/total_tumors, 5/total_tumors, 2/total_tumors) \n",
    "    # check that silent mutations are not counted (TTN has many silent mutations)\n",
    "    # and missense and trucation not equal to unique_samples_mutated \n",
    "    test_coord_TTN = ((992, 1),(992, 2),(992, 3))\n",
    "    test_vals_TTN = (13/total_tumors, 10/total_tumors, 4/total_tumors)\n",
    "    # common test and highest count\n",
    "    test_coord_VHL = ((1019, 1),(1019, 2),(1019, 3))\n",
    "    test_vals_VHL = (82/total_tumors, 33/total_tumors, 49/total_tumors)\n",
    "    \n",
    "    \n",
    "    test_coord_vals = [(test_coord_names, test_vals_names), (test_coord_ABCC3, test_vals_ABCC3),\n",
    "                        (test_coord_ZNF532, test_vals_ZNF532), (test_coord_NAV3, test_vals_NAV3),\n",
    "                        (test_coord_TTN, test_vals_TTN), (test_coord_VHL, test_vals_VHL)]\n",
    "\n",
    "    for coord, val in test_coord_vals:\n",
    "        PASS = check_getter(df, dimensions, headers, coord, val)\n",
    "    \n",
    "    print_test_result(PASS)"
   ]
  },
  {
   "cell_type": "code",
   "execution_count": null,
   "metadata": {},
   "outputs": [],
   "source": [
    "test_get_frequently_mutated_ccrcc_01_cutoff()"
   ]
  },
  {
   "cell_type": "code",
   "execution_count": null,
   "metadata": {},
   "outputs": [],
   "source": [
    "print(\"\\nTesting get_frequently_mutated from utilities...\")\n",
    "test_get_frequently_mutated_en_default_cutoff()\n",
    "test_get_frequently_mutated_co_default_cutoff()\n",
    "test_get_frequently_mutated_ov_default_cutoff()\n",
    "test_get_frequently_mutated_ccrcc_default_cutoff()\n",
    "\n",
    "\n",
    "test_get_frequently_mutated_en_cutoff_20_cutoff()\n",
    "test_get_frequently_mutated_co_cutoff_15_cutoff()\n",
    "test_get_frequently_mutated_ov_05_cutoff()\n",
    "test_get_frequently_mutated_ccrcc_01_cutoff()"
   ]
  },
  {
   "cell_type": "code",
   "execution_count": null,
   "metadata": {},
   "outputs": [],
   "source": []
  }
 ],
 "metadata": {
  "kernelspec": {
   "display_name": "Python 3",
   "language": "python",
   "name": "python3"
  },
  "language_info": {
   "codemirror_mode": {
    "name": "ipython",
    "version": 3
   },
   "file_extension": ".py",
   "mimetype": "text/x-python",
   "name": "python",
   "nbconvert_exporter": "python",
   "pygments_lexer": "ipython3",
   "version": "3.7.3"
  }
 },
 "nbformat": 4,
 "nbformat_minor": 2
}
