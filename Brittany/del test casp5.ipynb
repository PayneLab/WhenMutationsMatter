{
 "cells": [
  {
   "cell_type": "markdown",
   "metadata": {},
   "source": [
    "# get_frequently_mutated Final "
   ]
  },
  {
   "cell_type": "code",
   "execution_count": 4,
   "metadata": {},
   "outputs": [],
   "source": [
    "import cptac\n",
    "#en = cptac.Endometrial()\n",
    "#cptac.sync('endometrial', version='2.1')\n",
    "#ov = cptac.Ovarian()\n",
    "#cptac.sync(dataset='ovarian', version='0.0')\n",
    "#cptac.sync(dataset='colon', version='0.0')\n",
    "#ov = cptac.Ovarian()\n",
    "\n",
    "import pandas as pd\n",
    "import numpy as np"
   ]
  },
  {
   "cell_type": "code",
   "execution_count": 32,
   "metadata": {},
   "outputs": [],
   "source": [
    "def get_frequently_mutated(cancer_object, cutoff = 0.1):  \n",
    "    \"\"\"\n",
    "    take cancer object and find the frequently \n",
    "    mutated genes in the total tumors compared to the cutoff.\n",
    "\n",
    "    Parameters:\n",
    "    cancer_object (object): cancer class object from cptac module \n",
    "    cutoff (float): used as comparison to determine the \n",
    "                    status of gene mutation frequency\n",
    "\n",
    "    Returns:\n",
    "    freq_mutated_df (pd.DataFrame): DataFrame of frequently \n",
    "        mutated genes passing the cutoff. Columns contain the \n",
    "        fractions of total unique mutations,missence type \n",
    "        mutations, and truncation type mutations per gene.\n",
    "    \n",
    "    The Missence_Mut column includes: \n",
    "        In_Frame_Del, In_Frame_Ins, Missense_Mutation\n",
    "   \n",
    "   The Truncation_Mut column includes: \n",
    "        Frame_Shift_Del, Frame_Shift_Ins, Splice_Site, \n",
    "        Nonsense_Mutation, Nonstop_Mutation\n",
    "        \n",
    "    These columns count multiple mutations of one gene in the \n",
    "    same sample, so fractions in the last two columns may \n",
    "    exceed the Unique_Samples_Mut column which only counts if \n",
    "    the gene was mutated once per sample.\"\"\"    \n",
    "    \n",
    "    # Get mutations data frame (whole exome sequencing)\n",
    "    somatic_mutations = cancer_object.get_mutations()\n",
    "    somatic_mutations = somatic_mutations.loc[somatic_mutations['Gene'] == 'CASP5']\n",
    "             \n",
    "    # Get total tumors/patients\n",
    "    omics_and_mutations = cancer_object.append_mutations_to_omics(\n",
    "        mutation_genes = 'TP53', omics_df_name = 'proteomics', omics_genes = 'TP53')\n",
    "    tumors = omics_and_mutations.loc[omics_and_mutations['Sample_Status'] == 'Tumor']\n",
    "    total_tumor_patients = len(tumors)\n",
    "    #print(total_tumor_patients)\n",
    "    \n",
    "    # Find frequently mutated genes and their fraction of unique mutated samples.\n",
    "    #move 'Sample_ID' from index to column\n",
    "    origin_df = somatic_mutations.reset_index()\n",
    "    \n",
    "    # Drop silent mutations for Ovarian dataset\n",
    "    if cancer_object.get_cancer_type() == 'ovarian':\n",
    "        origin_df = origin_df.loc[origin_df['Mutation'] != 'Silent']\n",
    "        #print(origin_df['Mutation'].unique())\n",
    "        \n",
    "    #group by gene and count unique samples\n",
    "    count_mutations = origin_df.groupby(['Gene']).nunique()\n",
    "\n",
    "    #format\n",
    "    count_mutations = count_mutations.rename(columns={\"Sample_ID\": \"Unique_Samples_Mut\"})\n",
    "    count_mutations = count_mutations.drop(['Gene', 'Mutation','Location'], axis = 1)\n",
    "    \n",
    "    #filter using the cutoff and create fraction\n",
    "    fraction_mutated = count_mutations.apply(lambda x: x / total_tumor_patients)\n",
    "    fraction_greater_than_cutoff = fraction_mutated.where(lambda x: x > cutoff) #na used when false\n",
    "    filtered_gene_df = fraction_greater_than_cutoff.dropna()\n",
    "    \n",
    "    \n",
    "    #Create Missence and Trucation data frame\n",
    "    \n",
    "    #create two categories in Mutation column\n",
    "    if cancer_object.get_cancer_type() == 'colon':\n",
    "        missence_truncation_groups = {'frameshift substitution': 'T', \n",
    "            'frameshift deletion': 'T', 'frameshift insertion': 'T', \n",
    "            'stopgain': 'T', 'stoploss': 'T', 'nonsynonymous SNV': 'M',\n",
    "            'nonframeshift insertion': 'M','nonframeshift deletion': 'M', \n",
    "            'nonframeshift substitution': 'M'}\n",
    "    else: \n",
    "        missence_truncation_groups = {'In_Frame_Del': 'M', 'In_Frame_Ins': 'M',\n",
    "            'Missense_Mutation': 'M', 'Frame_Shift_Del': 'T','Nonsense_Mutation': 'T', \n",
    "            'Splice_Site': 'T', 'Frame_Shift_Ins': 'T','Nonstop_Mutation':'T'}\n",
    "       \n",
    "    mutations_replaced_M_T = origin_df.replace(missence_truncation_groups)\n",
    "    ##print(mutations_replaced_M_T)\n",
    "    # group mutation categories\n",
    "    miss = mutations_replaced_M_T.loc[mutations_replaced_M_T['Mutation'] == 'M']\n",
    "    trunc = mutations_replaced_M_T.loc[mutations_replaced_M_T['Mutation'] == 'T']\n",
    "    \n",
    "    # group by gene and count unique samples for both categories\n",
    "    count_miss = miss.groupby(['Gene']).nunique()\n",
    "    count_trunc = trunc.groupby(['Gene']).nunique()\n",
    "    print(count_miss)\n",
    "    if count_miss.empty():\n",
    "        print('j')\n",
    "    #format\n",
    "    missence_df = count_miss.rename(columns={\"Sample_ID\": \"Missence_Mut\"})\n",
    "    missence_df = missence_df.drop(['Gene', 'Mutation', 'Location'], axis = 1)\n",
    "\n",
    "    truncation_df = count_trunc.rename(columns={\"Sample_ID\": \"Truncation_Mut\"})\n",
    "    truncation_df = truncation_df.drop(['Gene', 'Mutation', 'Location'], axis = 1)\n",
    "    \n",
    "    \n",
    "    \n",
    "    #join miss and trunc and change nan to 0, then divide by total tumors\n",
    "    join_mutations = missence_df.join(truncation_df).fillna(0)\n",
    "    missence_and_truncation_df = join_mutations.apply(lambda x: x / total_tumor_patients)\n",
    "    #print(join_mutations)\n",
    "\n",
    "    #Join data frames, keeping only the genes that passed the cutoff \n",
    "    freq_mutated_df = filtered_gene_df.join(missence_and_truncation_df).reset_index()\n",
    "    freq_mutated_df.name = 'frequently_mutated'\n",
    "    \n",
    "    return freq_mutated_df"
   ]
  },
  {
   "cell_type": "code",
   "execution_count": 28,
   "metadata": {},
   "outputs": [
    {
     "ename": "NameError",
     "evalue": "name 'ov' is not defined",
     "output_type": "error",
     "traceback": [
      "\u001b[1;31m---------------------------------------------------------------------------\u001b[0m",
      "\u001b[1;31mNameError\u001b[0m                                 Traceback (most recent call last)",
      "\u001b[1;32m<ipython-input-28-e979f3c168f4>\u001b[0m in \u001b[0;36m<module>\u001b[1;34m\u001b[0m\n\u001b[1;32m----> 1\u001b[1;33m \u001b[0mdf\u001b[0m \u001b[1;33m=\u001b[0m \u001b[0mget_frequently_mutated\u001b[0m\u001b[1;33m(\u001b[0m\u001b[0mov\u001b[0m\u001b[1;33m,\u001b[0m \u001b[1;36m.1\u001b[0m\u001b[1;33m)\u001b[0m\u001b[1;33m\u001b[0m\u001b[1;33m\u001b[0m\u001b[0m\n\u001b[0m",
      "\u001b[1;31mNameError\u001b[0m: name 'ov' is not defined"
     ]
    }
   ],
   "source": [
    "df = get_frequently_mutated(ov, .1)"
   ]
  },
  {
   "cell_type": "code",
   "execution_count": 25,
   "metadata": {},
   "outputs": [
    {
     "data": {
      "text/html": [
       "<div>\n",
       "<style scoped>\n",
       "    .dataframe tbody tr th:only-of-type {\n",
       "        vertical-align: middle;\n",
       "    }\n",
       "\n",
       "    .dataframe tbody tr th {\n",
       "        vertical-align: top;\n",
       "    }\n",
       "\n",
       "    .dataframe thead th {\n",
       "        text-align: right;\n",
       "    }\n",
       "</style>\n",
       "<table border=\"1\" class=\"dataframe\">\n",
       "  <thead>\n",
       "    <tr style=\"text-align: right;\">\n",
       "      <th></th>\n",
       "      <th>Gene</th>\n",
       "      <th>Unique_Samples_Mut</th>\n",
       "      <th>Missence_Mut</th>\n",
       "      <th>Truncation_Mut</th>\n",
       "    </tr>\n",
       "  </thead>\n",
       "  <tbody>\n",
       "    <tr>\n",
       "      <th>0</th>\n",
       "      <td>BIRC6</td>\n",
       "      <td>0.120482</td>\n",
       "      <td>0.108434</td>\n",
       "      <td>0.024096</td>\n",
       "    </tr>\n",
       "    <tr>\n",
       "      <th>1</th>\n",
       "      <td>FSIP2</td>\n",
       "      <td>0.108434</td>\n",
       "      <td>0.096386</td>\n",
       "      <td>0.024096</td>\n",
       "    </tr>\n",
       "    <tr>\n",
       "      <th>2</th>\n",
       "      <td>MT-CO1</td>\n",
       "      <td>0.120482</td>\n",
       "      <td>0.120482</td>\n",
       "      <td>0.000000</td>\n",
       "    </tr>\n",
       "    <tr>\n",
       "      <th>3</th>\n",
       "      <td>MT-CO3</td>\n",
       "      <td>0.120482</td>\n",
       "      <td>0.108434</td>\n",
       "      <td>0.012048</td>\n",
       "    </tr>\n",
       "    <tr>\n",
       "      <th>4</th>\n",
       "      <td>MT-ND5</td>\n",
       "      <td>0.108434</td>\n",
       "      <td>0.084337</td>\n",
       "      <td>0.024096</td>\n",
       "    </tr>\n",
       "    <tr>\n",
       "      <th>5</th>\n",
       "      <td>MUC12</td>\n",
       "      <td>0.144578</td>\n",
       "      <td>0.144578</td>\n",
       "      <td>0.012048</td>\n",
       "    </tr>\n",
       "    <tr>\n",
       "      <th>6</th>\n",
       "      <td>MUC16</td>\n",
       "      <td>0.144578</td>\n",
       "      <td>0.144578</td>\n",
       "      <td>0.012048</td>\n",
       "    </tr>\n",
       "    <tr>\n",
       "      <th>7</th>\n",
       "      <td>MUC17</td>\n",
       "      <td>0.144578</td>\n",
       "      <td>0.144578</td>\n",
       "      <td>0.000000</td>\n",
       "    </tr>\n",
       "    <tr>\n",
       "      <th>8</th>\n",
       "      <td>MUC4</td>\n",
       "      <td>0.325301</td>\n",
       "      <td>0.313253</td>\n",
       "      <td>0.012048</td>\n",
       "    </tr>\n",
       "    <tr>\n",
       "      <th>9</th>\n",
       "      <td>MUC5B</td>\n",
       "      <td>0.108434</td>\n",
       "      <td>0.108434</td>\n",
       "      <td>0.000000</td>\n",
       "    </tr>\n",
       "    <tr>\n",
       "      <th>10</th>\n",
       "      <td>NBPF10</td>\n",
       "      <td>0.120482</td>\n",
       "      <td>0.120482</td>\n",
       "      <td>0.000000</td>\n",
       "    </tr>\n",
       "    <tr>\n",
       "      <th>11</th>\n",
       "      <td>PRKDC</td>\n",
       "      <td>0.108434</td>\n",
       "      <td>0.084337</td>\n",
       "      <td>0.036145</td>\n",
       "    </tr>\n",
       "    <tr>\n",
       "      <th>12</th>\n",
       "      <td>RP1L1</td>\n",
       "      <td>0.108434</td>\n",
       "      <td>0.096386</td>\n",
       "      <td>0.012048</td>\n",
       "    </tr>\n",
       "    <tr>\n",
       "      <th>13</th>\n",
       "      <td>TP53</td>\n",
       "      <td>0.927711</td>\n",
       "      <td>0.602410</td>\n",
       "      <td>0.325301</td>\n",
       "    </tr>\n",
       "    <tr>\n",
       "      <th>14</th>\n",
       "      <td>TTN</td>\n",
       "      <td>0.301205</td>\n",
       "      <td>0.265060</td>\n",
       "      <td>0.084337</td>\n",
       "    </tr>\n",
       "    <tr>\n",
       "      <th>15</th>\n",
       "      <td>WDFY4</td>\n",
       "      <td>0.120482</td>\n",
       "      <td>0.096386</td>\n",
       "      <td>0.036145</td>\n",
       "    </tr>\n",
       "  </tbody>\n",
       "</table>\n",
       "</div>"
      ],
      "text/plain": [
       "      Gene  Unique_Samples_Mut  Missence_Mut  Truncation_Mut\n",
       "0    BIRC6            0.120482      0.108434        0.024096\n",
       "1    FSIP2            0.108434      0.096386        0.024096\n",
       "2   MT-CO1            0.120482      0.120482        0.000000\n",
       "3   MT-CO3            0.120482      0.108434        0.012048\n",
       "4   MT-ND5            0.108434      0.084337        0.024096\n",
       "5    MUC12            0.144578      0.144578        0.012048\n",
       "6    MUC16            0.144578      0.144578        0.012048\n",
       "7    MUC17            0.144578      0.144578        0.000000\n",
       "8     MUC4            0.325301      0.313253        0.012048\n",
       "9    MUC5B            0.108434      0.108434        0.000000\n",
       "10  NBPF10            0.120482      0.120482        0.000000\n",
       "11   PRKDC            0.108434      0.084337        0.036145\n",
       "12   RP1L1            0.108434      0.096386        0.012048\n",
       "13    TP53            0.927711      0.602410        0.325301\n",
       "14     TTN            0.301205      0.265060        0.084337\n",
       "15   WDFY4            0.120482      0.096386        0.036145"
      ]
     },
     "execution_count": 25,
     "metadata": {},
     "output_type": "execute_result"
    }
   ],
   "source": [
    "df"
   ]
  },
  {
   "cell_type": "code",
   "execution_count": 6,
   "metadata": {},
   "outputs": [
    {
     "name": "stdout",
     "output_type": "stream",
     "text": [
      "\u001b[Kmatting dataframes...data.....ata....\r"
     ]
    }
   ],
   "source": [
    "co = cptac.Colon()"
   ]
  },
  {
   "cell_type": "code",
   "execution_count": 33,
   "metadata": {},
   "outputs": [
    {
     "name": "stdout",
     "output_type": "stream",
     "text": [
      "Empty DataFrame\n",
      "Columns: [Sample_ID, Gene, Mutation, Location]\n",
      "Index: []\n"
     ]
    },
    {
     "ename": "TypeError",
     "evalue": "'bool' object is not callable",
     "output_type": "error",
     "traceback": [
      "\u001b[1;31m---------------------------------------------------------------------------\u001b[0m",
      "\u001b[1;31mTypeError\u001b[0m                                 Traceback (most recent call last)",
      "\u001b[1;32m<ipython-input-33-8c898f618977>\u001b[0m in \u001b[0;36m<module>\u001b[1;34m\u001b[0m\n\u001b[1;32m----> 1\u001b[1;33m \u001b[0mcolon_freq_mutated_df\u001b[0m \u001b[1;33m=\u001b[0m \u001b[0mget_frequently_mutated\u001b[0m\u001b[1;33m(\u001b[0m\u001b[0mco\u001b[0m\u001b[1;33m,\u001b[0m \u001b[1;36m.15\u001b[0m\u001b[1;33m)\u001b[0m\u001b[1;33m\u001b[0m\u001b[1;33m\u001b[0m\u001b[0m\n\u001b[0m",
      "\u001b[1;32m<ipython-input-32-da4a12e56a24>\u001b[0m in \u001b[0;36mget_frequently_mutated\u001b[1;34m(cancer_object, cutoff)\u001b[0m\n\u001b[0;32m     84\u001b[0m     \u001b[0mcount_trunc\u001b[0m \u001b[1;33m=\u001b[0m \u001b[0mtrunc\u001b[0m\u001b[1;33m.\u001b[0m\u001b[0mgroupby\u001b[0m\u001b[1;33m(\u001b[0m\u001b[1;33m[\u001b[0m\u001b[1;34m'Gene'\u001b[0m\u001b[1;33m]\u001b[0m\u001b[1;33m)\u001b[0m\u001b[1;33m.\u001b[0m\u001b[0mnunique\u001b[0m\u001b[1;33m(\u001b[0m\u001b[1;33m)\u001b[0m\u001b[1;33m\u001b[0m\u001b[1;33m\u001b[0m\u001b[0m\n\u001b[0;32m     85\u001b[0m     \u001b[0mprint\u001b[0m\u001b[1;33m(\u001b[0m\u001b[0mcount_miss\u001b[0m\u001b[1;33m)\u001b[0m\u001b[1;33m\u001b[0m\u001b[1;33m\u001b[0m\u001b[0m\n\u001b[1;32m---> 86\u001b[1;33m     \u001b[1;32mif\u001b[0m \u001b[0mcount_miss\u001b[0m\u001b[1;33m.\u001b[0m\u001b[0mempty\u001b[0m\u001b[1;33m(\u001b[0m\u001b[1;33m)\u001b[0m\u001b[1;33m:\u001b[0m\u001b[1;33m\u001b[0m\u001b[1;33m\u001b[0m\u001b[0m\n\u001b[0m\u001b[0;32m     87\u001b[0m         \u001b[0mprint\u001b[0m\u001b[1;33m(\u001b[0m\u001b[1;34m'j'\u001b[0m\u001b[1;33m)\u001b[0m\u001b[1;33m\u001b[0m\u001b[1;33m\u001b[0m\u001b[0m\n\u001b[0;32m     88\u001b[0m     \u001b[1;31m#format\u001b[0m\u001b[1;33m\u001b[0m\u001b[1;33m\u001b[0m\u001b[1;33m\u001b[0m\u001b[0m\n",
      "\u001b[1;31mTypeError\u001b[0m: 'bool' object is not callable"
     ]
    }
   ],
   "source": [
    "colon_freq_mutated_df = get_frequently_mutated(co, .15)"
   ]
  },
  {
   "cell_type": "code",
   "execution_count": 24,
   "metadata": {},
   "outputs": [
    {
     "data": {
      "text/html": [
       "<div>\n",
       "<style scoped>\n",
       "    .dataframe tbody tr th:only-of-type {\n",
       "        vertical-align: middle;\n",
       "    }\n",
       "\n",
       "    .dataframe tbody tr th {\n",
       "        vertical-align: top;\n",
       "    }\n",
       "\n",
       "    .dataframe thead th {\n",
       "        text-align: right;\n",
       "    }\n",
       "</style>\n",
       "<table border=\"1\" class=\"dataframe\">\n",
       "  <thead>\n",
       "    <tr style=\"text-align: right;\">\n",
       "      <th></th>\n",
       "      <th>Gene</th>\n",
       "      <th>Unique_Samples_Mut</th>\n",
       "      <th>Missence_Mut</th>\n",
       "      <th>Truncation_Mut</th>\n",
       "    </tr>\n",
       "  </thead>\n",
       "  <tbody>\n",
       "    <tr>\n",
       "      <th>0</th>\n",
       "      <td>CASP5</td>\n",
       "      <td>0.195876</td>\n",
       "      <td>NaN</td>\n",
       "      <td>NaN</td>\n",
       "    </tr>\n",
       "  </tbody>\n",
       "</table>\n",
       "</div>"
      ],
      "text/plain": [
       "    Gene  Unique_Samples_Mut  Missence_Mut  Truncation_Mut\n",
       "0  CASP5            0.195876           NaN             NaN"
      ]
     },
     "execution_count": 24,
     "metadata": {},
     "output_type": "execute_result"
    }
   ],
   "source": [
    "colon_freq_mutated_df"
   ]
  },
  {
   "cell_type": "code",
   "execution_count": 8,
   "metadata": {},
   "outputs": [
    {
     "ename": "ValueError",
     "evalue": "too many values to unpack (expected 1)",
     "output_type": "error",
     "traceback": [
      "\u001b[1;31m---------------------------------------------------------------------------\u001b[0m",
      "\u001b[1;31mValueError\u001b[0m                                Traceback (most recent call last)",
      "\u001b[1;32m<ipython-input-8-ef6e77a23872>\u001b[0m in \u001b[0;36m<module>\u001b[1;34m\u001b[0m\n\u001b[0;32m      1\u001b[0m \u001b[0mc\u001b[0m \u001b[1;33m=\u001b[0m \u001b[1;36m0\u001b[0m\u001b[1;33m\u001b[0m\u001b[1;33m\u001b[0m\u001b[0m\n\u001b[1;32m----> 2\u001b[1;33m \u001b[1;32mfor\u001b[0m \u001b[0mind\u001b[0m\u001b[1;33m,\u001b[0m \u001b[1;32min\u001b[0m \u001b[0mcolon_freq_mutated_df\u001b[0m\u001b[1;33m.\u001b[0m\u001b[0miterrows\u001b[0m\u001b[1;33m(\u001b[0m\u001b[1;33m)\u001b[0m\u001b[1;33m:\u001b[0m\u001b[1;33m\u001b[0m\u001b[1;33m\u001b[0m\u001b[0m\n\u001b[0m\u001b[0;32m      3\u001b[0m     \u001b[1;32mif\u001b[0m \u001b[0mind\u001b[0m\u001b[1;33m.\u001b[0m\u001b[0misna\u001b[0m\u001b[1;33m(\u001b[0m\u001b[1;33m)\u001b[0m\u001b[1;33m:\u001b[0m\u001b[1;33m\u001b[0m\u001b[1;33m\u001b[0m\u001b[0m\n\u001b[0;32m      4\u001b[0m         \u001b[0mc\u001b[0m \u001b[1;33m+=\u001b[0m\u001b[1;36m1\u001b[0m\u001b[1;33m\u001b[0m\u001b[1;33m\u001b[0m\u001b[0m\n\u001b[0;32m      5\u001b[0m \u001b[1;33m\u001b[0m\u001b[0m\n",
      "\u001b[1;31mValueError\u001b[0m: too many values to unpack (expected 1)"
     ]
    }
   ],
   "source": []
  },
  {
   "cell_type": "code",
   "execution_count": 6,
   "metadata": {},
   "outputs": [
    {
     "name": "stdout",
     "output_type": "stream",
     "text": [
      "            Gene                 Mutation    Location\n",
      "Sample_ID                                            \n",
      "S006       CASP5  frameshift substitution     K9Nfs*2\n",
      "S006       CASP5  frameshift substitution    K80Nfs*2\n",
      "S006       CASP5  frameshift substitution    K67Nfs*2\n",
      "S009       CASP5  frameshift substitution    K67Nfs*2\n",
      "S009       CASP5  frameshift substitution   T68Qfs*25\n",
      "S009       CASP5  frameshift substitution   T10Qfs*25\n",
      "S009       CASP5  frameshift substitution   T81Qfs*25\n",
      "S009       CASP5  frameshift substitution    K80Nfs*2\n",
      "S009       CASP5  frameshift substitution     K9Nfs*2\n",
      "S014       CASP5  frameshift substitution   T10Qfs*25\n",
      "S014       CASP5  frameshift substitution   T68Qfs*25\n",
      "S014       CASP5  frameshift substitution   T81Qfs*25\n",
      "S018       CASP5  frameshift substitution    K67Nfs*2\n",
      "S018       CASP5  frameshift substitution   T68Qfs*25\n",
      "S018       CASP5  frameshift substitution   T81Qfs*25\n",
      "S018       CASP5  frameshift substitution   T10Qfs*25\n",
      "S018       CASP5  frameshift substitution     K9Nfs*2\n",
      "S018       CASP5  frameshift substitution    K80Nfs*2\n",
      "S023       CASP5  frameshift substitution  E331Vfs*80\n",
      "S023       CASP5  frameshift substitution  E331Vfs*24\n",
      "S023       CASP5  frameshift substitution  E318Vfs*80\n",
      "S023       CASP5  frameshift substitution  E176Vfs*80\n",
      "S023       CASP5  frameshift substitution  E260Vfs*24\n",
      "S023       CASP5  frameshift substitution  E318Vfs*24\n",
      "S023       CASP5  frameshift substitution  E260Vfs*80\n",
      "S023       CASP5  frameshift substitution  E176Vfs*24\n",
      "S028       CASP5  frameshift substitution   R23Gfs*20\n",
      "S028       CASP5  frameshift substitution    R10Afs*1\n",
      "S028       CASP5  frameshift substitution   R10Gfs*20\n",
      "S028       CASP5  frameshift substitution    R23Afs*1\n",
      "...          ...                      ...         ...\n",
      "S065       CASP5  frameshift substitution    R23Afs*1\n",
      "S065       CASP5  frameshift substitution    R10Afs*1\n",
      "S074       CASP5  frameshift substitution   T68Qfs*25\n",
      "S074       CASP5      frameshift deletion   T10Qfs*25\n",
      "S074       CASP5  frameshift substitution   T10Qfs*25\n",
      "S074       CASP5      frameshift deletion   T68Qfs*25\n",
      "S074       CASP5      frameshift deletion   T81Qfs*25\n",
      "S074       CASP5  frameshift substitution   T81Qfs*25\n",
      "S080       CASP5  frameshift substitution     K9Nfs*2\n",
      "S080       CASP5      frameshift deletion     K9Nfs*2\n",
      "S080       CASP5  frameshift substitution    K80Nfs*2\n",
      "S080       CASP5      frameshift deletion    K80Nfs*2\n",
      "S080       CASP5  frameshift substitution    K67Nfs*2\n",
      "S080       CASP5      frameshift deletion    K67Nfs*2\n",
      "S081       CASP5      frameshift deletion    R10Afs*1\n",
      "S081       CASP5      frameshift deletion    R23Afs*1\n",
      "S101       CASP5  frameshift substitution    K80Nfs*2\n",
      "S101       CASP5  frameshift substitution     K9Nfs*2\n",
      "S101       CASP5  frameshift substitution    K67Nfs*2\n",
      "S108       CASP5  frameshift substitution   T81Qfs*25\n",
      "S108       CASP5  frameshift substitution   T68Qfs*25\n",
      "S108       CASP5  frameshift substitution   T10Qfs*25\n",
      "S108       CASP5  frameshift substitution  E331Vfs*80\n",
      "S108       CASP5  frameshift substitution  E331Vfs*24\n",
      "S108       CASP5  frameshift substitution  E318Vfs*80\n",
      "S108       CASP5  frameshift substitution  E318Vfs*24\n",
      "S108       CASP5  frameshift substitution  E260Vfs*80\n",
      "S108       CASP5  frameshift substitution  E260Vfs*24\n",
      "S108       CASP5  frameshift substitution  E176Vfs*80\n",
      "S108       CASP5  frameshift substitution  E176Vfs*24\n",
      "\n",
      "[107 rows x 3 columns]\n",
      "19\n"
     ]
    },
    {
     "data": {
      "text/plain": [
       "{'frameshift deletion': Index(['S055', 'S055', 'S055', 'S055', 'S074', 'S074', 'S074', 'S080', 'S080',\n",
       "        'S080', 'S081', 'S081'],\n",
       "       dtype='object', name='Sample_ID'),\n",
       " 'frameshift insertion': Index(['S031', 'S031', 'S031', 'S031'], dtype='object', name='Sample_ID'),\n",
       " 'frameshift substitution': Index(['S006', 'S006', 'S006', 'S009', 'S009', 'S009', 'S009', 'S009', 'S009',\n",
       "        'S014', 'S014', 'S014', 'S018', 'S018', 'S018', 'S018', 'S018', 'S018',\n",
       "        'S023', 'S023', 'S023', 'S023', 'S023', 'S023', 'S023', 'S023', 'S028',\n",
       "        'S028', 'S028', 'S028', 'S030', 'S030', 'S030', 'S033', 'S033', 'S033',\n",
       "        'S033', 'S035', 'S035', 'S035', 'S035', 'S035', 'S052', 'S052', 'S052',\n",
       "        'S052', 'S052', 'S052', 'S052', 'S052', 'S052', 'S052', 'S055', 'S055',\n",
       "        'S055', 'S055', 'S064', 'S064', 'S064', 'S065', 'S065', 'S065', 'S065',\n",
       "        'S065', 'S065', 'S065', 'S065', 'S074', 'S074', 'S074', 'S080', 'S080',\n",
       "        'S080', 'S101', 'S101', 'S101', 'S108', 'S108', 'S108', 'S108', 'S108',\n",
       "        'S108', 'S108', 'S108', 'S108', 'S108', 'S108'],\n",
       "       dtype='object', name='Sample_ID'),\n",
       " 'stopgain': Index(['S033', 'S033', 'S033', 'S033'], dtype='object', name='Sample_ID')}"
      ]
     },
     "execution_count": 6,
     "metadata": {},
     "output_type": "execute_result"
    }
   ],
   "source": [
    "#test results\n",
    "m = co.get_mutations()\n",
    "gene = 'CASP5'\n",
    "g = m.loc[m['Gene'] == gene]\n",
    "print(g)\n",
    "print(len(g.index.unique()))\n",
    "\n",
    "r = g.groupby('Mutation')\n",
    "\n",
    "r.groups\n"
   ]
  },
  {
   "cell_type": "code",
   "execution_count": 19,
   "metadata": {},
   "outputs": [
    {
     "name": "stdout",
     "output_type": "stream",
     "text": [
      "95\n"
     ]
    }
   ],
   "source": [
    "en_freq_mutated_df = get_frequently_mutated(en,.1)"
   ]
  },
  {
   "cell_type": "code",
   "execution_count": null,
   "metadata": {},
   "outputs": [],
   "source": [
    "ovarian_freq_mutated_df"
   ]
  },
  {
   "cell_type": "code",
   "execution_count": null,
   "metadata": {},
   "outputs": [],
   "source": []
  }
 ],
 "metadata": {
  "kernelspec": {
   "display_name": "Python 3",
   "language": "python",
   "name": "python3"
  },
  "language_info": {
   "codemirror_mode": {
    "name": "ipython",
    "version": 3
   },
   "file_extension": ".py",
   "mimetype": "text/x-python",
   "name": "python",
   "nbconvert_exporter": "python",
   "pygments_lexer": "ipython3",
   "version": "3.7.3"
  }
 },
 "nbformat": 4,
 "nbformat_minor": 2
}
