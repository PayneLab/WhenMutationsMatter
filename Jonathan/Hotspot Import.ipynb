{
 "cells": [
  {
   "cell_type": "code",
   "execution_count": 1,
   "metadata": {},
   "outputs": [],
   "source": [
    "import pandas as pd\n",
    "import numpy as np\n",
    "import re\n",
    "import scipy.stats\n",
    "import statsmodels.stats.multitest\n",
    "import matplotlib.pyplot as plt\n",
    "from matplotlib import pylab\n",
    "import seaborn as sns\n",
    "import cptac"
   ]
  },
  {
   "cell_type": "markdown",
   "metadata": {},
   "source": [
    "## Unable to get the below code block to bring in the correct tabulated csv information"
   ]
  },
  {
   "cell_type": "code",
   "execution_count": 2,
   "metadata": {
    "scrolled": true
   },
   "outputs": [],
   "source": [
    "cluster = pd.read_csv(r'C:\\\\Users\\\\joncj\\\\OneDrive\\\\Documents\\\\Research\\\\GitHub\\\\WhenMutationsMatter\\\\Jonathan\\\\Ovarian_Hotspot.csv', sep = '\\t', engine = 'python')"
   ]
  },
  {
   "cell_type": "markdown",
   "metadata": {},
   "source": [
    "## Importing the csv file information from an excel file for now, not intending to bringing it in this way in the final cookbook"
   ]
  },
  {
   "cell_type": "markdown",
   "metadata": {},
   "source": [
    "### initial data frame import from excel, contains all of the hotspot cluster information"
   ]
  },
  {
   "cell_type": "code",
   "execution_count": 3,
   "metadata": {},
   "outputs": [],
   "source": [
    "#This import will bring in the csv from the path on my computer, this is not what the end result will be, but I am trying to bypass the need for excel\n",
    "cluster_df = pd.read_excel (r'C:\\Users\\joncj\\OneDrive\\Documents\\Research\\GitHub\\WhenMutationsMatter\\Jonathan\\HS_Cluster.xlsx')"
   ]
  },
  {
   "cell_type": "code",
   "execution_count": 4,
   "metadata": {},
   "outputs": [],
   "source": [
    "#Iterating through the cluster ID's of the dataframe and compiling a list of all of the cluster ID's that are unique\n",
    "cluster_list_initial = (cluster_df.Cluster.unique()).tolist()"
   ]
  },
  {
   "cell_type": "code",
   "execution_count": 55,
   "metadata": {
    "scrolled": true
   },
   "outputs": [],
   "source": [
    "#Defining the dataframe that will be used to present the information gathered from the cluster dataframe\n",
    "visualize_df =pd.DataFrame()\n",
    "\n",
    "\n",
    "cluster_list = list()\n",
    "for value in cluster_list_initial:\n",
    "    length = len(cluster_df[cluster_df['Cluster'] == value])\n",
    "    if length >= 2:\n",
    "        cluster_list.append(value)\n",
    "\n",
    "#These two lines are the first step in creating the dataframe that will present the gather information\n",
    "#Sorting the list of clusters will allow the data to built accurately, and present it in an aesthetic manner\n",
    "cluster_list.sort()\n",
    "visualize_df['Cluster_ID'] = cluster_list\n",
    "\n",
    "#Defining the four different dictionaries that will be built in the following For Loop, each one gather different information\n",
    "cluster_len_dict = {}\n",
    "cluster_chrom_dict = {}\n",
    "cluster_gene_dict = {}\n",
    "cluster_mut_dict = {}\n",
    "\n",
    "#This For Loop iterates through each of the previously identified clusters that are going to be of interest\n",
    "for value in cluster_list:\n",
    "    #Each of these lines will create a dictionary to later be used when contructing the dataframe to visualize the desired information\n",
    "    cluster_len_dict[value] = len(cluster_df[cluster_df['Cluster'] == value])\n",
    "    cluster_chrom_dict[value] = cluster_df.loc[cluster_df['Cluster'] == value, 'Chromosome'].values[0]\n",
    "    cluster_gene_dict[value] = cluster_df.loc[cluster_df['Cluster'] == value, 'Gene/Drug'].values[0]\n",
    "    \n",
    "    #Within this loop, I am creating a dictionary that uses the cluster ID as the key, and the value as a list of the different mutations that make up the cluster\n",
    "    mut_list = cluster_df[cluster_df['Cluster'] == value]['Mutation/Gene'].values.tolist()\n",
    "    cluster_mut_dict[value] = mut_list\n",
    "    visualize_df.loc[visualize_df['Cluster_ID'] == value, 'Mutation_List_Name'] = 'cluster_mut_dict[' + str(value) + ']'\n",
    "    \n",
    "#This is where I construct the different columns of the visualize dataframe with the corresponding parsed information    \n",
    "visualize_df['Cluster_Size'] = cluster_len_dict.values()\n",
    "visualize_df['Cluster_Chromosome'] = cluster_chrom_dict.values()\n",
    "visualize_df['Cluster_Gene/Protein'] = cluster_gene_dict.values()"
   ]
  },
  {
   "cell_type": "code",
   "execution_count": null,
   "metadata": {},
   "outputs": [],
   "source": []
  }
 ],
 "metadata": {
  "kernelspec": {
   "display_name": "Python 3",
   "language": "python",
   "name": "python3"
  },
  "language_info": {
   "codemirror_mode": {
    "name": "ipython",
    "version": 3
   },
   "file_extension": ".py",
   "mimetype": "text/x-python",
   "name": "python",
   "nbconvert_exporter": "python",
   "pygments_lexer": "ipython3",
   "version": "3.7.3"
  }
 },
 "nbformat": 4,
 "nbformat_minor": 2
}
