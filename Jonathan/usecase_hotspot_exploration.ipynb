{
 "cells": [
  {
   "cell_type": "markdown",
   "metadata": {},
   "source": [
    "# Use Case: Parse Hotspot Mutations"
   ]
  },
  {
   "cell_type": "markdown",
   "metadata": {},
   "source": [
    "## Step 1: Importing packages and setting up your notebook"
   ]
  },
  {
   "cell_type": "markdown",
   "metadata": {},
   "source": [
    "This use case will walk you through analyzing and exploring the protein hotspots that were identified by the Hotspot3D program. We will explore how to use the cluster file output from Hotspot3D in conjuction with other CPTAC data to understand the impact of clustered mutations. This will allow comparisons to be made in omics data to determine if the location of a mutation within a protein is important to changes in function. We will use colon cancer data from CPTAC to see if there are correlations between mutation location and downstream effects."
   ]
  },
  {
   "cell_type": "markdown",
   "metadata": {},
   "source": [
    "We will start by importing standard data anlaysis libraries, as well as the cancer data and a variety of accessory function that are provided in the cptac package."
   ]
  },
  {
   "cell_type": "code",
   "execution_count": 12,
   "metadata": {},
   "outputs": [],
   "source": [
    "import pandas as pd\n",
    "import numpy as np\n",
    "import scipy.stats\n",
    "import statsmodels.stats.multitest\n",
    "import matplotlib.pyplot as plt\n",
    "import cptac\n",
    "import cptac.algorithms as al"
   ]
  },
  {
   "cell_type": "markdown",
   "metadata": {},
   "source": [
    "## Step 2: Getting omics data and running hotspot parser"
   ]
  },
  {
   "cell_type": "markdown",
   "metadata": {},
   "source": [
    "For this use case, we will we be using the cptac data for colon cancer. The proteomics data is what we are going to eventually be using as part of our comparison. \n"
   ]
  },
  {
   "cell_type": "code",
   "execution_count": 11,
   "metadata": {
    "scrolled": true
   },
   "outputs": [
    {
     "name": "stdout",
     "output_type": "stream",
     "text": [
      "All files already downloaded and correct.\n",
      "                                    \r"
     ]
    }
   ],
   "source": [
    "cptac.download(dataset = 'Colon')\n",
    "co = cptac.Colon()\n",
    "proteomics = co.get_proteomics()"
   ]
  },
  {
   "cell_type": "markdown",
   "metadata": {},
   "source": [
    "The other data that we need to gather is the output of the parse_hotspot algorithm. This uses the cluster output file from Hotspot3D program along with somatic mutation data from the corresponding cancer type to create dataframes that can be used in statistical analyses."
   ]
  },
  {
   "cell_type": "code",
   "execution_count": null,
   "metadata": {},
   "outputs": [],
   "source": [
    "(vis_hs_df, bin_hs_df, det_hs_df, mut_dict) = parse_hotspot_2('DanHeader_MyData.maf.3D_Proximity.pairwise.recurrence.l0.r10.clusters', 'Colon')"
   ]
  }
 ],
 "metadata": {
  "kernelspec": {
   "display_name": "Python 3",
   "language": "python",
   "name": "python3"
  },
  "language_info": {
   "codemirror_mode": {
    "name": "ipython",
    "version": 3
   },
   "file_extension": ".py",
   "mimetype": "text/x-python",
   "name": "python",
   "nbconvert_exporter": "python",
   "pygments_lexer": "ipython3",
   "version": "3.6.8"
  }
 },
 "nbformat": 4,
 "nbformat_minor": 2
}
